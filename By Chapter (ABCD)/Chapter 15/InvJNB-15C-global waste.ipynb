{
  "cells": [
    {
      "cell_type": "markdown",
      "metadata": {
        "cell_id": "a6c49aecc9f848a9b5901bffbd7b1ba6",
        "deepnote_cell_type": "markdown",
        "tags": []
      },
      "source": "# 15B: Wasteful Countries"
    },
    {
      "cell_type": "code",
      "execution_count": null,
      "metadata": {
        "cell_id": "7833ed5abadf4218b033f424ae0dabef",
        "deepnote_cell_type": "code",
        "deepnote_to_be_reexecuted": false,
        "execution_millis": 4884,
        "execution_start": 1685747473277,
        "output_cleared": true,
        "source_hash": "b2a54d3a",
        "tags": [],
        "trusted": true
      },
      "outputs": [],
      "source": "# This code will load the R packages we will use\nsuppressPackageStartupMessages({\n    library(coursekata)\n})\n\n# Adjust scientific notation\noptions(scipen = 10)"
    },
    {
      "cell_type": "markdown",
      "metadata": {
        "cell_id": "5c3f0d4bc4f64e0a9da016090c50dd49",
        "deepnote_cell_type": "markdown",
        "tags": []
      },
      "source": "## About the Data"
    },
    {
      "cell_type": "markdown",
      "metadata": {
        "cell_id": "995aa3d021124d9ba148dbf28c433c91",
        "deepnote_cell_type": "markdown",
        "tags": []
      },
      "source": "This `waste` dataset looks at the amount of waste (garbage/trash, and hazardous waste) produced by each country.\n\n**Description of Variables:**\n\n- `country` Name of the country\n- `region` Regional category of the country\n- `econ_dev` Level of economic development (Developed, Developing, In Transition)\n- `gdp_usd` Gross Domestic Product (GDP) per Capita (USD)\n- `total_msw_waste` Total Municipal Solid Waste (MSW) per Year (tons)\n- `population` Population size\n- `haz_waste` Hazardous Waste per Year (tons)\n- `nat_agency` Whether the country has a national agency for enforcing solid waste laws\n- `nat_law` Whether the country has a national law governing solid waste management\n- `msw_capita` MSW per Capita (tons per person)\n- `haz_waste_capita` Hazardous Waste per Capita (tons/people)\n- `percent_urban` Percentage of the country that has been urbanized\n- `urbanization_rate` The rate of urbanization (Growing Rapidly, Growing, Decreasing)\n- `HDI` Human Development Index\n- `adult_obesity` Adult Obesity Rate by BMI\n\nData Source: [Bootstrap World](https://bootstrapworld.org/materials/spring2023/en-us/lessons/choosing-your-dataset/pages/datasets-and-starter-files.html)"
    },
    {
      "cell_type": "markdown",
      "metadata": {
        "cell_id": "cc1b9a3559b341f3af8b7b22fd30dae5",
        "deepnote_cell_type": "markdown"
      },
      "source": "## 1.0 - Explore Variation"
    },
    {
      "cell_type": "markdown",
      "metadata": {
        "cell_id": "bbb017900dc44aebbf8077c8dc62739b",
        "deepnote_cell_type": "markdown"
      },
      "source": "Before you begin, take a look at the variables in the data frame. If you have any questions about what any of the variables mean, try Googling about them, or ask your instructor for clarification."
    },
    {
      "cell_type": "code",
      "execution_count": null,
      "metadata": {
        "cell_id": "1ff8ba877e804bb6bc85c49c532d0d6a",
        "deepnote_cell_type": "code",
        "deepnote_to_be_reexecuted": false,
        "execution_millis": 976,
        "execution_start": 1685747478181,
        "output_cleared": true,
        "source_hash": "41afda34",
        "trusted": true
      },
      "outputs": [],
      "source": "waste <- read.csv(\"https://docs.google.com/spreadsheets/d/e/2PACX-1vTMbRKfQDrLmn5ebPaNeqVykHd1ZlkzygXEjKPICJcjd6tv_Zy75O6cby_-6WmkrNGeTt8UflJpoa0Z/pub?gid=0&single=true&output=csv\")\nhead(waste)"
    },
    {
      "cell_type": "markdown",
      "metadata": {
        "cell_id": "471cdb8f98a84eca905325f55626bfc1",
        "deepnote_cell_type": "markdown"
      },
      "source": "1.1 - Every country produces tons (literally) of waste each year. This waste can be categorized as Municipal Solid Waste, or MSW (e.g., typical garbage that goes to the landfill), or hazardous waste (e.g., ignitable, reactive, corrosive, or toxic waste that poses health or environmental threats). For now, let's explore MSW. Take a look at the distribution of MSW per capita in a visualization, and describe the distribution. How much waste does a person per country tend to produce per year?\n"
    },
    {
      "cell_type": "markdown",
      "metadata": {
        "cell_id": "afcdfc10807245e3b081867ee4223576",
        "deepnote_cell_type": "markdown"
      },
      "source": "1.2 - DISCUSS: Why do you think there are some countries that produce more (or less) waste per person than other countries? Come up with some theories."
    },
    {
      "cell_type": "markdown",
      "metadata": {
        "cell_id": "f456006652304454ad937c733613a5c6",
        "deepnote_cell_type": "markdown"
      },
      "source": "## 2.0 - Explain Variation in Waste"
    },
    {
      "cell_type": "markdown",
      "metadata": {
        "cell_id": "333d86bbaa4c415fb3bc2c14aa12c163",
        "deepnote_cell_type": "markdown"
      },
      "source": "2.1 - Pick one of your theories to try to explain variation in `msw_capita`, and write it as a word equation."
    },
    {
      "cell_type": "markdown",
      "metadata": {
        "cell_id": "ea75241cebce40398e958f9e0f3f8c91",
        "deepnote_cell_type": "markdown"
      },
      "source": "2.2 - DISCUSS: Before fitting or overlaying any models, what do you notice? Describe any trends you are seeing in the visualizations."
    },
    {
      "cell_type": "markdown",
      "metadata": {
        "cell_id": "cc55d226279e4fb69a88ad7ec510f158",
        "deepnote_cell_type": "markdown"
      },
      "source": "2.3 - Before fitting anything, try to fit your own model onto the graph. If you had to draw your own line of best fit for each group, where would you draw them?"
    },
    {
      "cell_type": "markdown",
      "metadata": {
        "cell_id": "9da9ae45fafc44e583665f4983f42401",
        "deepnote_cell_type": "markdown"
      },
      "source": "2.4 - Now, go ahead and fit your model as an additive model as well as an interaction model, and create visualizations to depict each model. How do the lines of each model compare to the lines you predicted?"
    },
    {
      "cell_type": "markdown",
      "metadata": {
        "cell_id": "e8791a3896e8445a9c92608ed8574788",
        "deepnote_cell_type": "markdown"
      },
      "source": "2.5 - Do the lines of the two models show very different patterns? What does this suggest?"
    },
    {
      "cell_type": "markdown",
      "metadata": {
        "cell_id": "bf50bfd62d644ea8a800ab867aab506b",
        "deepnote_cell_type": "markdown"
      },
      "source": "## 3.0 - Compare and Evaluate the Additive vs Interaction Models"
    },
    {
      "cell_type": "markdown",
      "metadata": {
        "cell_id": "bb473abbb0304edeb6ab03ecd7d0aeb2",
        "deepnote_cell_type": "markdown",
        "tags": []
      },
      "source": "3.1 - Evaluate your models and provide a rationalization for which model to retain: the empty model, the additive model, or the interaction model. Use statistics to back up your answer."
    },
    {
      "cell_type": "markdown",
      "metadata": {
        "cell_id": "5aa21eb8102842958e126ec293cea269",
        "deepnote_cell_type": "markdown",
        "tags": []
      },
      "source": "3.2 - Summarize your findings. What has your analysis today revealed about waste in the world, and what might be your suggestions for how countries can reduce their waste, or some future analyses you would like to do?"
    }
  ],
  "metadata": {
    "deepnote_notebook_id": "c09f785038ec43f9b94ecf53d82e15c8",
    "kernelspec": {
      "display_name": "R",
      "language": "R",
      "name": "ir"
    },
    "language_info": {
      "codemirror_mode": "r",
      "file_extension": ".r",
      "mimetype": "text/x-r-source",
      "name": "R",
      "pygments_lexer": "r",
      "version": "4.3.3"
    },
    "nbsimplegrader": {
      "publish_config": {
        "classes": [],
        "options": [],
        "tools": []
      }
    }
  },
  "nbformat": 4,
  "nbformat_minor": 1
}