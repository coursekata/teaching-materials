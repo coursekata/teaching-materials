{
  "cells": [
    {
      "cell_type": "markdown",
      "metadata": {
        "cell_id": "d71e290621ad4be086ce724553ef596a",
        "deepnote_cell_type": "markdown",
        "tags": []
      },
      "source": "# 15A: Burgernomics"
    },
    {
      "cell_type": "code",
      "execution_count": null,
      "metadata": {
        "cell_id": "950b0b1e960c48838eb41d430315b1d1",
        "deepnote_cell_type": "code",
        "deepnote_to_be_reexecuted": false,
        "execution_millis": 5626,
        "execution_start": 1685665987267,
        "output_cleared": false,
        "source_hash": "59d13b83",
        "tags": [],
        "trusted": true
      },
      "outputs": [],
      "source": "# This code will load the R packages we will use\nsuppressPackageStartupMessages({\n    library(coursekata)\n})\n\nbigmac <- read.csv(\"https://docs.google.com/spreadsheets/d/e/2PACX-1vQM7-5W4fHvTnQD2tyjK1d5RlNsT7E1TRmAPrSZL-3bBMwyVUM6TyR4iM69ly-fqnm7aQkSIxBGVFrf/pub?gid=47818490&single=true&output=csv\")"
    },
    {
      "cell_type": "markdown",
      "metadata": {
        "cell_id": "6d3a0bd2b0cd4c74bc865a555a89a3ae",
        "deepnote_cell_type": "markdown",
        "deepnote_to_be_reexecuted": false,
        "execution_millis": 4,
        "execution_start": 1674841699980,
        "source_hash": "b623e53d",
        "tags": []
      },
      "source": "## About the Data\n\nThe dataset `bigmac` contains information collected by the publication The Economist, and it is comprised of variables that can be used to show how the price of a Big Mac changes over time, and across the world. Each row represents a Big Mac sold in the world some time between 2000-22.\n\nData Source: [The Economist](https://www.economist.com/big-mac-index?utm_source=chartr&utm_medium=newsletter&utm_campaign=chartr_20230127)\n\n**Description of Variables:**\n\t\n- `country_code` Three-character ISO 3166-1 country code\t\n- `country` Country where Big Mac was sold\t\n- `price` Price of a Big Mac in US dollars\t\n- `region` Region where Big Mac was sold\n- `continent` Continent where the Big Mac was sold\n- `year` The year that Big Mac was sold (year since 2000 - 1 means 2001)"
    },
    {
      "cell_type": "markdown",
      "metadata": {
        "cell_id": "b2764c5b49334b2b8460109e83a6e7c3",
        "deepnote_cell_type": "markdown",
        "tags": []
      },
      "source": "## 1.0 - Explore Variation"
    },
    {
      "cell_type": "markdown",
      "metadata": {
        "cell_id": "e237b674ef164c548bf96bd3e0900384",
        "deepnote_cell_type": "markdown",
        "tags": []
      },
      "source": "1.1 - First, take a moment to explore the data frame (look at whatever you are curious about!). "
    },
    {
      "cell_type": "markdown",
      "metadata": {
        "cell_id": "642792c7e0654a0dbd828db2e49b74fb",
        "deepnote_cell_type": "markdown",
        "tags": []
      },
      "source": "1.2 - Let's explore the price of a Big Mac with a visualization. How much does the price vary?"
    },
    {
      "cell_type": "markdown",
      "metadata": {
        "cell_id": "8aecbf5ba44e4d6986c3491217457232",
        "deepnote_cell_type": "markdown",
        "tags": []
      },
      "source": "## 2.0 - Comparing Countries Over Time"
    },
    {
      "cell_type": "markdown",
      "metadata": {
        "cell_id": "3e5aabb0186b4604bd54c2091895f4b8",
        "deepnote_cell_type": "markdown",
        "tags": []
      },
      "source": "Today we'll analyze the way the price has changed over time across different countries of your choosing. \n\n2.1 - How would you write the hypothesis that both time and country would explain variation in Big Mac prices as a word equation?"
    },
    {
      "cell_type": "markdown",
      "metadata": {
        "cell_id": "a23afdfb23144ff684d6c4ecfda0d3f3",
        "deepnote_cell_type": "markdown"
      },
      "source": "2.2 - Modify the following code to create a new data frame called `bigmac3` that only includes 3 specific countries that you are interested in comparing. \n\nThen create a visualization to explore your word equation (with `bigmac3`)."
    },
    {
      "cell_type": "code",
      "execution_count": null,
      "metadata": {
        "cell_id": "10b484618bb04439973cc78805a2d768",
        "deepnote_cell_type": "code",
        "deepnote_to_be_reexecuted": false,
        "execution_millis": 259,
        "execution_start": 1685665993233,
        "output_cleared": true,
        "source_hash": "7b8e5516",
        "tags": [],
        "trusted": true
      },
      "outputs": [],
      "source": "# Modify the code below to select for the 3 countries you are interested in \n\n#bigmac3 <- filter(bigmac, country == \"country1\" | country == \"country2\" | country == \"country3\")\n\n# Create a visualization"
    },
    {
      "cell_type": "markdown",
      "metadata": {
        "cell_id": "552afff1aba544c3b1331d922ceaceb4",
        "deepnote_cell_type": "markdown"
      },
      "source": "2.3 - Just eyeballing the data, do you think parallel lines (additive model) would be enough? Or do you want to have lines that are not parallel (interaction model)?"
    },
    {
      "cell_type": "markdown",
      "metadata": {
        "cell_id": "83da5c0e40df4b3f88cc87ea684b5b0f",
        "deepnote_cell_type": "markdown"
      },
      "source": "## 3.0 - Multivariate Models"
    },
    {
      "cell_type": "markdown",
      "metadata": {
        "cell_id": "6b6ed08c0b3b443689030c479e37174e",
        "deepnote_cell_type": "markdown",
        "tags": []
      },
      "source": "3.1 - Fit the **additive model** and the **interaction model** for `price = year + country + error` using your new data frame, and put each model into a visualization. What do you notice? Which model seems to explain more of the variation?"
    },
    {
      "cell_type": "markdown",
      "metadata": {
        "cell_id": "e2fe73a718204de181a8692f0cee9232",
        "deepnote_cell_type": "markdown",
        "tags": []
      },
      "source": "3.2 - Put what you think is the better model into GLM notation."
    },
    {
      "cell_type": "markdown",
      "metadata": {
        "cell_id": "e3da6430337f4e8197488893ac95e103",
        "deepnote_cell_type": "markdown"
      },
      "source": "3.2b, bonus - This giant equation actually represents 3 separate lines, one for each country. Try writing the simplified equation for each country."
    },
    {
      "cell_type": "markdown",
      "metadata": {
        "cell_id": "79cc7046c8f840f28fe530a498571336",
        "deepnote_cell_type": "markdown",
        "tags": []
      },
      "source": "3.3 - Use the model to make a few predictions. Try predicting the price of Big Macs in each of the three countries for the year 2030."
    },
    {
      "cell_type": "markdown",
      "metadata": {
        "cell_id": "e9627458ab764d30bd337938dba3a68a",
        "deepnote_cell_type": "markdown",
        "tags": []
      },
      "source": "3.4 - Based on your analyses today, what is the overall story of the price of a Big Mac that you are seeing in the data? Describe and conclude."
    }
  ],
  "metadata": {
    "deepnote_notebook_id": "50560062ee1c479d89e3b92c3d07f844",
    "kernelspec": {
      "display_name": "R",
      "language": "R",
      "name": "ir"
    },
    "language_info": {
      "codemirror_mode": "r",
      "file_extension": ".r",
      "mimetype": "text/x-r-source",
      "name": "R",
      "pygments_lexer": "r",
      "version": "4.3.3"
    },
    "nbsimplegrader": {
      "publish_config": {
        "classes": [],
        "options": [],
        "tools": []
      }
    }
  },
  "nbformat": 4,
  "nbformat_minor": 1
}