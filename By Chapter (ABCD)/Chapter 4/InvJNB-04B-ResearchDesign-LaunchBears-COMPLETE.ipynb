{
  "cells": [
    {
      "cell_type": "markdown",
      "metadata": {
        "cell_id": "3bc37928a9e94ab48225462d21243f41",
        "deepnote_app_block_visible": true,
        "deepnote_cell_type": "markdown",
        "nbsimplegrader": {
          "config_key": "markdown.view-only",
          "editable": false,
          "label": "Markdown: View-Only",
          "respondable": false,
          "response": null,
          "runnable": false,
          "type": "markdown"
        }
      },
      "source": "<div class=\"alert alert-block alert-danger\">\n\n# 4B: Research Design and Launching Distance (COMPLETE)\n\n**Lesson assumes students have read up through page: 4.13**\n\n**Use with textbook version 6.0+**\n\n**Note to Instructors**: If you did not do lessons 2A or 2B (with the candy catapults), you can explain to your students that these data were collected by having students build a catapult out of popsicle sticks and then launching gummy bears and measuring the distance they traveled. They also experimented with launching gummy bears after making modifications to the lift of the catapult (by adding additional lift sticks to the catapult).\n\nHere is a short video to demonstrate the process of launching the bears and measuring the launch distance: \n\nhttps://vimeo.com/787083222 \n\nEven if your students did not complete the candy catapult activity, we recommend not skipping this notebook since it focuses on important concepts from the second half of the chapter (research design, randomness as a possible DGP, shuffling).\n\n</div>"
    },
    {
      "cell_type": "markdown",
      "metadata": {
        "cell_id": "309b9315a1a14698821dfb4e92928b3f",
        "deepnote_app_block_visible": true,
        "deepnote_cell_height": 164,
        "deepnote_cell_type": "markdown",
        "tags": []
      },
      "source": "<div class=\"alert alert-block alert-success\">\n\n## Approximate time to complete Notebook: 50-65 Mins\n\n</div>"
    },
    {
      "cell_type": "code",
      "execution_count": null,
      "metadata": {
        "cell_id": "0d6d6eff33fd453c8815f4e24cb43c23",
        "deepnote_app_block_visible": true,
        "deepnote_cell_type": "code",
        "deepnote_to_be_reexecuted": false,
        "execution_context_id": "8e2337ee-b369-4bab-bd81-bf5b9822f0ce",
        "execution_millis": 6966,
        "execution_start": 1740102098792,
        "nbsimplegrader": {
          "config_key": "code.run-only",
          "editable": false,
          "label": "Code: Run-Only",
          "respondable": false,
          "response": null,
          "runnable": true,
          "type": "code"
        },
        "output_cleared": false,
        "owner_user_id": "23d85493-7ed1-49a4-baa7-630eaab08193",
        "source_hash": "493e0bae",
        "trusted": true
      },
      "outputs": [],
      "source": "# Load the CourseKata library\nsuppressPackageStartupMessages({\n    library(coursekata)\n})\n\nLaunchBears <- read.csv(\"https://docs.google.com/spreadsheets/d/e/2PACX-1vR-n7sbDgxBhPlIew383bKP1wbOjyexLAXcevLMMGFHmWgUTWTEn9jWn1cUcujAmjByussTNozcAto0/pub?gid=745552022&single=true&output=csv\", header=TRUE)"
    },
    {
      "cell_type": "markdown",
      "metadata": {
        "cell_id": "3ce1f331d635473fa7ca807a1a201ac5",
        "deepnote_app_block_visible": true,
        "deepnote_cell_height": 116,
        "deepnote_cell_type": "markdown",
        "tags": []
      },
      "source": "<div class=\"alert alert-block alert-success\">\n\n### 1.0 - Approximate Time: 12-15 mins\n\n</div>"
    },
    {
      "cell_type": "markdown",
      "metadata": {
        "cell_id": "4da303215803480bb51f5c00f465fa4c",
        "deepnote_app_block_visible": true,
        "deepnote_cell_height": 302.390625,
        "deepnote_cell_type": "markdown",
        "nbsimplegrader": {
          "config_key": "markdown.view-only",
          "editable": false,
          "label": "Markdown: View-Only",
          "respondable": false,
          "response": null,
          "runnable": false,
          "type": "markdown"
        }
      },
      "source": "## 1.0 - Revisiting the Gummy Bear Catapult Experiment\n\nRemember when we created our candy catapults? Now that we’ve learned some new data science skills, let’s revisit that data and think about this question: \n\n> What affects gummy bear launching distance?\n\nA sample data set has been loaded for you into `LaunchBears`. \n\n(**Note to Instructors**: If you did lessons 2A and 2B with your students, you can upload the actual data from your class if you prefer.)"
    },
    {
      "cell_type": "markdown",
      "metadata": {
        "cell_id": "56d68de5b4194d098f99e2b483d7a02d",
        "deepnote_app_block_visible": true,
        "deepnote_cell_height": 255.1875,
        "deepnote_cell_type": "markdown",
        "nbsimplegrader": {
          "config_key": "markdown.view-only",
          "editable": false,
          "label": "Markdown: View-Only",
          "respondable": false,
          "response": null,
          "runnable": false,
          "type": "markdown"
        }
      },
      "source": "1.1 - Do you have any questions about these variables? \n\n- `LiftCategory` number of lift sticks as a categorical variable (L1 - one stick, L2 - two sticks, L3 - three sticks)\n- `NumLifts` number of lift sticks (1,2,3)\n- `Dist_cm` how far the gummy bear got launched in centimeters\n- `BearColor` color of the gummy bear\n- `Group` which group of students did the launches\n- `BearHt` how tall the bear was in millimeters \n- `Tool` which measuring tool was used\n- `CatapultColor` the color of the catapult"
    },
    {
      "cell_type": "markdown",
      "metadata": {
        "cell_id": "fda80b57a4ac4e1b89e567961b109be4",
        "deepnote_app_block_visible": true,
        "deepnote_cell_height": 52.390625,
        "deepnote_cell_type": "markdown",
        "nbsimplegrader": {
          "config_key": "markdown.view-only",
          "editable": false,
          "label": "Markdown: View-Only",
          "respondable": false,
          "response": null,
          "runnable": false,
          "type": "markdown"
        }
      },
      "source": "1.2 - Let’s take a look at the distribution of launching distances. What do you notice?"
    },
    {
      "cell_type": "code",
      "execution_count": null,
      "metadata": {
        "cell_id": "fde4be9a5fda4c91ae15bd3a8b0d38e8",
        "deepnote_app_block_visible": true,
        "deepnote_cell_height": 1440,
        "deepnote_cell_type": "code",
        "deepnote_output_heights": [
          611,
          611
        ],
        "execution_context_id": "8e2337ee-b369-4bab-bd81-bf5b9822f0ce",
        "execution_millis": 977,
        "execution_start": 1740102105807,
        "source_hash": "c06ebb70",
        "tags": [],
        "trusted": true
      },
      "outputs": [],
      "source": "# Sample histogram (students can change to a density histogram with a density plot as well)\ngf_histogram(~Dist_cm, data = LaunchBears, fill = \"aquamarine1\", color = \"darkblue\")\n\n\n# Sample boxplot with jitter\ngf_boxplot(Dist_cm ~ 1, data = LaunchBears, fill = \"palegoldenrod\", color = \"seagreen4\")%>%gf_jitter(color = \"plum4\")"
    },
    {
      "cell_type": "markdown",
      "metadata": {
        "cell_id": "e6178ea759e24b36b084be603ab99169",
        "deepnote_app_block_visible": true,
        "deepnote_cell_height": 166.1875,
        "deepnote_cell_type": "markdown",
        "tags": []
      },
      "source": "<div class=\"alert alert-block alert-warning\">\n\n**Sample Response**\n\n- The distances are skewed to the right, with the highest peaks around 50 cm.  \n- There appears to be an outlier near 175 cm.\n\n</div>"
    },
    {
      "cell_type": "markdown",
      "metadata": {
        "cell_id": "b6a96f4715044094ab9bd90d2bf9cdbe",
        "deepnote_app_block_visible": true,
        "deepnote_cell_height": 97.1875,
        "deepnote_cell_type": "markdown",
        "nbsimplegrader": {
          "config_key": "markdown.view-only",
          "editable": false,
          "label": "Markdown: View-Only",
          "respondable": false,
          "response": null,
          "runnable": false,
          "type": "markdown"
        }
      },
      "source": "1.3 - Hmmm... there are some gummy bears that got launched a lot further than others. Of the variables we collected in `LaunchBears`, in your opinion, which of these variables might affect distance? Which variables probably do not affect distance?"
    },
    {
      "cell_type": "markdown",
      "metadata": {
        "cell_id": "8a758b10ce724a55914470bbe795a5dc",
        "deepnote_app_block_visible": true,
        "deepnote_cell_height": 202.59375,
        "deepnote_cell_type": "markdown",
        "tags": []
      },
      "source": "<div class=\"alert alert-block alert-warning\">\n\n**Sample Responses**\n\n*Student answers will vary. Some possible responses:*\n\n- Affects distance: lift sticks (maybe bear height, tool)\n- Does not affect distance: bear color, bear height, group that measured, tool, color of catapult\n\n</div>"
    },
    {
      "cell_type": "markdown",
      "metadata": {
        "cell_id": "a3d835decf8e474dbf9fbb580ab943a3",
        "deepnote_app_block_visible": true,
        "deepnote_cell_height": 52.390625,
        "deepnote_cell_type": "markdown",
        "nbsimplegrader": {
          "config_key": "markdown.view-only",
          "editable": false,
          "label": "Markdown: View-Only",
          "respondable": false,
          "response": null,
          "runnable": false,
          "type": "markdown"
        }
      },
      "source": "1.4 - Make a few visualizations to look at the variables that might affect distance"
    },
    {
      "cell_type": "code",
      "execution_count": null,
      "metadata": {
        "cell_id": "e1a84f58104243a3856a7e9e779f0753",
        "deepnote_app_block_visible": true,
        "deepnote_cell_height": 1458,
        "deepnote_cell_type": "code",
        "deepnote_output_heights": [
          611,
          611
        ],
        "execution_context_id": "8e2337ee-b369-4bab-bd81-bf5b9822f0ce",
        "execution_millis": 956,
        "execution_start": 1740102106835,
        "source_hash": "9c3cfbb1",
        "tags": [],
        "trusted": true
      },
      "outputs": [],
      "source": "# One way to see if lift sticks affects distance with a faceted histogram (optional boxplot over it)\n\ngf_histogram(~Dist_cm, data = LaunchBears)%>%gf_facet_grid(LiftCategory ~ .)%>%\ngf_boxplot(width=5, fill=\"white\")\n\n# Another way with a boxplot \ngf_boxplot(Dist_cm~LiftCategory, data=LaunchBears, fill=\"blue\")\n"
    },
    {
      "cell_type": "markdown",
      "metadata": {
        "cell_id": "c7eba5a3e4c04e698c528d70247201c3",
        "deepnote_app_block_visible": true,
        "deepnote_cell_height": 52.390625,
        "deepnote_cell_type": "markdown",
        "nbsimplegrader": {
          "config_key": "markdown.view-only",
          "editable": false,
          "label": "Markdown: View-Only",
          "respondable": false,
          "response": null,
          "runnable": false,
          "type": "markdown"
        }
      },
      "source": "1.5 - Now make some visualizations to look at the variables that might NOT affect distance"
    },
    {
      "cell_type": "code",
      "execution_count": null,
      "metadata": {
        "cell_id": "948368d239b049a59cd9ca35a462c133",
        "deepnote_app_block_visible": true,
        "deepnote_cell_height": 3546,
        "deepnote_cell_type": "code",
        "deepnote_output_heights": [
          611,
          611,
          611,
          611,
          611
        ],
        "execution_context_id": "8e2337ee-b369-4bab-bd81-bf5b9822f0ce",
        "execution_millis": 2385,
        "execution_start": 1740102107835,
        "source_hash": "41f8b4a7",
        "tags": [],
        "trusted": true
      },
      "outputs": [],
      "source": "# Some of these might be variables students think DO affect distance, but we have included them here for simplicity\n\n# One way to examine whether bear color affects distance\ngf_boxplot(Dist_cm ~ BearColor, data = LaunchBears, fill = \"lightcyan1\", color = \"mediumorchid3\")\n\n# One way to examine whether group affects distance\ngf_histogram(~Dist_cm, data = LaunchBears, fill = \"lightyellow\", color = \"midnightblue\")%>%gf_facet_grid(Group ~ .)\n\n# One way to examine whether bear height affects distance\ngf_point(Dist_cm ~ BearHt, data = LaunchBears, color = \"mediumvioletred\")\n\n# One way to examine whether tool affects distance\ngf_boxplot(Dist_cm ~ Tool, data = LaunchBears, fill = \"peachpuff\", color = \"springgreen3\")\n\n# One way to examine whether catapult color affects distance\ngf_dhistogram(~Dist_cm, data = LaunchBears, fill = \"skyblue1\", color = \"royalblue4\")%>%gf_density(fill = \"thistle\")%>%gf_facet_grid(CatapultColor ~ .)"
    },
    {
      "cell_type": "markdown",
      "metadata": {
        "cell_id": "f777660d0008431fbfe4da5b9a2bb296",
        "deepnote_app_block_visible": true,
        "deepnote_cell_height": 52.390625,
        "deepnote_cell_type": "markdown",
        "nbsimplegrader": {
          "config_key": "markdown.view-only",
          "editable": false,
          "label": "Markdown: View-Only",
          "respondable": false,
          "response": null,
          "runnable": false,
          "type": "markdown"
        }
      },
      "source": "1.6 - Which variable(s) seems best at explaining some of the variation in distance?"
    },
    {
      "cell_type": "markdown",
      "metadata": {
        "cell_id": "633778f9c4714825bef7374581afce58",
        "deepnote_app_block_visible": true,
        "deepnote_cell_height": 163.1875,
        "deepnote_cell_type": "markdown",
        "tags": []
      },
      "source": "<div class=\"alert alert-block alert-warning\">\n\n**Sample Response**\n\n*Student answers will vary, but the `LiftCategory` variable should show the most pronounced difference with L3. Most of the other variables should appear to have a random pattern of variation.*\n\n</div>"
    },
    {
      "cell_type": "markdown",
      "metadata": {
        "cell_id": "d34c63fd851c47e69f98747835890ee2",
        "deepnote_app_block_visible": true,
        "deepnote_cell_height": 62,
        "deepnote_cell_type": "markdown",
        "tags": []
      },
      "source": "<div class=\"alert alert-block alert-success\">\n\n### 2.0 - Approximate Time: 5-8 mins\n\n</div>\n"
    },
    {
      "cell_type": "markdown",
      "metadata": {
        "cell_id": "522d7336c1294095b4aebfd19494914c",
        "deepnote_app_block_visible": true,
        "deepnote_cell_height": 170.796875,
        "deepnote_cell_type": "markdown",
        "nbsimplegrader": {
          "config_key": "markdown.view-only",
          "editable": false,
          "label": "Markdown: View-Only",
          "respondable": false,
          "response": null,
          "runnable": false,
          "type": "markdown"
        }
      },
      "source": "## 2.0 - Modeling the Possibilities with Word Equations\n\nA lot of people think `LiftCategory` might help us explain the variation in launch distance, such that, if we knew how many lift sticks the catapult had, we could adjust our prediction of distance a little bit. "
    },
    {
      "cell_type": "markdown",
      "metadata": {
        "cell_id": "35b9dd5a8aa74d6085bd0f9744e520ca",
        "deepnote_app_block_visible": true,
        "deepnote_cell_height": 74.796875,
        "deepnote_cell_type": "markdown",
        "nbsimplegrader": {
          "config_key": "markdown.view-only",
          "editable": false,
          "label": "Markdown: View-Only",
          "respondable": false,
          "response": null,
          "runnable": false,
          "type": "markdown"
        }
      },
      "source": "2.1 - If we knew that a gummy bear was launched with 3 lift sticks, how would you adjust your prediction? How about just 1 lift stick?"
    },
    {
      "cell_type": "markdown",
      "metadata": {
        "cell_id": "d0af175b9d1f473ca382d650b83d7ac2",
        "deepnote_app_block_visible": true,
        "deepnote_cell_height": 166.1875,
        "deepnote_cell_type": "markdown",
        "tags": []
      },
      "source": "<div class=\"alert alert-block alert-warning\">\n\n**Sample Response**\n\n- For 3 lift sticks, make the prediction a bit bigger.\n- For 1 lift stick, make the prediction a bit smaller.\n\n</div>"
    },
    {
      "cell_type": "markdown",
      "metadata": {
        "cell_id": "74ff1711653f4f47ad1ede12c4eeec6b",
        "deepnote_app_block_visible": true,
        "deepnote_cell_height": 74.796875,
        "deepnote_cell_type": "markdown",
        "nbsimplegrader": {
          "config_key": "markdown.view-only",
          "editable": false,
          "label": "Markdown: View-Only",
          "respondable": false,
          "response": null,
          "runnable": false,
          "type": "markdown"
        }
      },
      "source": "2.2 - How would we write a word equation for the hypothesis that the number of lift sticks explains some of the variation in distance? "
    },
    {
      "cell_type": "markdown",
      "metadata": {
        "cell_id": "17004a9644704e5e857c38111dbf39df",
        "deepnote_app_block_visible": true,
        "deepnote_cell_height": 140.796875,
        "deepnote_cell_type": "markdown",
        "tags": []
      },
      "source": "<div class=\"alert alert-block alert-warning\">\n\n**Sample Response**\n\nDist_cm = LiftCategory + Other Stuff\n\n</div>"
    },
    {
      "cell_type": "markdown",
      "metadata": {
        "cell_id": "4068c526437746f0b3da868d9733bf86",
        "deepnote_app_block_visible": true,
        "deepnote_cell_height": 133.59375,
        "deepnote_cell_type": "markdown",
        "nbsimplegrader": {
          "config_key": "markdown.view-only",
          "editable": false,
          "label": "Markdown: View-Only",
          "respondable": false,
          "response": null,
          "runnable": false,
          "type": "markdown"
        }
      },
      "source": "2.3 - We could be wrong though. So how would we write a word equation for the hypothesis that the number of lift sticks does not explain the variation in distance? \n\nWe will consider each word equation a little theory (or “hypothesis” or “model”) of the DGP that created our launching distance data."
    },
    {
      "cell_type": "markdown",
      "metadata": {
        "cell_id": "aca0c3f96bf44d6aaa098fff25111ca8",
        "deepnote_app_block_visible": true,
        "deepnote_cell_height": 140.796875,
        "deepnote_cell_type": "markdown",
        "tags": []
      },
      "source": "<div class=\"alert alert-block alert-warning\">\n\n**Sample Response**\n\nDist_cm = Other Stuff\n\n</div>"
    },
    {
      "cell_type": "markdown",
      "metadata": {
        "cell_id": "70c52e82714b4f58a5a60d7857da3abc",
        "deepnote_app_block_visible": true,
        "deepnote_cell_height": 62,
        "deepnote_cell_type": "markdown",
        "tags": []
      },
      "source": "<div class=\"alert alert-block alert-success\">\n\n### 3.0 - Approximate Time: 8-10 mins\n\n</div>\n"
    },
    {
      "cell_type": "markdown",
      "metadata": {
        "cell_id": "c232d76c79164162adaf4044f820f950",
        "deepnote_app_block_visible": true,
        "deepnote_cell_height": 131.296875,
        "deepnote_cell_type": "markdown",
        "nbsimplegrader": {
          "config_key": "markdown.view-only",
          "editable": false,
          "label": "Markdown: View-Only",
          "respondable": false,
          "response": null,
          "runnable": false,
          "type": "markdown"
        }
      },
      "source": "## 3.0 - Explaining variation with `LiftCategory`\n\nLet’s check out a visualization that many of you may have made but be careful not to jump to conclusions."
    },
    {
      "cell_type": "code",
      "execution_count": null,
      "metadata": {
        "cell_id": "9a7e49632bcd439bb8dce50cd5337602",
        "deepnote_app_block_visible": true,
        "deepnote_cell_height": 744,
        "deepnote_cell_type": "code",
        "deepnote_output_heights": [
          611
        ],
        "execution_context_id": "8e2337ee-b369-4bab-bd81-bf5b9822f0ce",
        "execution_millis": 589,
        "execution_start": 1740102110271,
        "nbsimplegrader": {
          "config_key": "code.run-only",
          "editable": false,
          "label": "Code: Run-Only",
          "respondable": false,
          "response": null,
          "runnable": true,
          "type": "code"
        },
        "source_hash": "3d95a5e8",
        "trusted": true
      },
      "outputs": [],
      "source": "gf_histogram(~ Dist_cm, data =LaunchBears) %>%\n  gf_facet_grid(LiftCategory ~ .)%>%\n  gf_boxplot(width=5, fill=\"white\")"
    },
    {
      "cell_type": "markdown",
      "metadata": {
        "cell_id": "3ec17aab833e4892ba95665335c2481e",
        "deepnote_app_block_visible": true,
        "deepnote_cell_height": 74.796875,
        "deepnote_cell_type": "markdown",
        "nbsimplegrader": {
          "config_key": "markdown.view-only",
          "editable": false,
          "label": "Markdown: View-Only",
          "respondable": false,
          "response": null,
          "runnable": false,
          "type": "markdown"
        }
      },
      "source": "3.1 - What are some reasons (from the data) for suspecting that `LiftCategory` really does explain some of the variation in `Dist_cm` scores?"
    },
    {
      "cell_type": "markdown",
      "metadata": {
        "cell_id": "0760121621d74ad79f499491d7a03597",
        "deepnote_app_block_visible": true,
        "deepnote_cell_height": 163.1875,
        "deepnote_cell_type": "markdown",
        "tags": []
      },
      "source": "<div class=\"alert alert-block alert-warning\">\n\n**Sample Response**\n\nThe distances for L3 are generally higher than they are for the other two groups, and some of highest distances are found in the L3 group. \n\n</div>"
    },
    {
      "cell_type": "markdown",
      "metadata": {
        "cell_id": "56a890199dc24bfea7f963e0ada33a84",
        "deepnote_app_block_visible": true,
        "deepnote_cell_height": 74.796875,
        "deepnote_cell_type": "markdown",
        "nbsimplegrader": {
          "config_key": "markdown.view-only",
          "editable": false,
          "label": "Markdown: View-Only",
          "respondable": false,
          "response": null,
          "runnable": false,
          "type": "markdown"
        }
      },
      "source": "3.2 - What are some reasons (from the data) for suspecting that `LiftCategory` really does **_not_** explain some of the variation in `Dist_cm` scores?"
    },
    {
      "cell_type": "markdown",
      "metadata": {
        "cell_id": "5b33383db7c745ec8fe1ff0f47c015d0",
        "deepnote_app_block_visible": true,
        "deepnote_cell_height": 163.1875,
        "deepnote_cell_type": "markdown",
        "tags": []
      },
      "source": "<div class=\"alert alert-block alert-warning\">\n\n**Sample Response**\n\nSome of the distances for L3 are about the same as the other two groups, with some overlap amongst all three groups. L1 and L2 have some distances that are just as high as L3.\n\n</div>"
    },
    {
      "cell_type": "markdown",
      "metadata": {
        "cell_id": "67b246e51a0c4ff5a46cd1e83f5fd9a3",
        "deepnote_app_block_visible": true,
        "deepnote_cell_height": 74.796875,
        "deepnote_cell_type": "markdown",
        "nbsimplegrader": {
          "config_key": "markdown.view-only",
          "editable": false,
          "label": "Markdown: View-Only",
          "respondable": false,
          "response": null,
          "runnable": false,
          "type": "markdown"
        }
      },
      "source": "3.3 - Is it possible to have gotten this pattern of data by chance? For example, if we just shuffled these distances into three different groups randomly?"
    },
    {
      "cell_type": "markdown",
      "metadata": {
        "cell_id": "ee27233065414ea5830e59c788888888",
        "deepnote_app_block_visible": true,
        "deepnote_cell_height": 140.796875,
        "deepnote_cell_type": "markdown",
        "tags": []
      },
      "source": "<div class=\"alert alert-block alert-warning\">\n\n**Sample Response**\n\nIt is possible, but would seem kind of weird.\n\n</div>"
    },
    {
      "cell_type": "markdown",
      "metadata": {
        "cell_id": "6bd27a76e7f143f29f08923b2aed117c",
        "deepnote_app_block_visible": true,
        "deepnote_cell_height": 358.90625,
        "deepnote_cell_type": "markdown",
        "nbsimplegrader": {
          "config_key": "markdown.view-only",
          "editable": false,
          "label": "Markdown: View-Only",
          "respondable": false,
          "response": null,
          "runnable": false,
          "type": "markdown"
        }
      },
      "source": "3.4 - Take a look at the diagram of “explaining variation” below. What aspects of the histograms represent the “explained variation” part? What aspects of the histograms represent the “unexplained” variation?\n\n<img src=\"https://coursekata-course-assets.s3.us-west-1.amazonaws.com/UCLATALL/czi-stats-course/jnb_4C_sources_variation.png\" title=\"Explaining variation diagram\" />\n"
    },
    {
      "cell_type": "markdown",
      "metadata": {
        "cell_id": "5030cb02d4634230a3867c9cddd3d66a",
        "deepnote_app_block_visible": true,
        "deepnote_cell_height": 166.1875,
        "deepnote_cell_type": "markdown",
        "tags": []
      },
      "source": "<div class=\"alert alert-block alert-warning\">\n\n**Sample Response**\n\n- The \"explained\" part is where the L3 group is shifted up higher than the other groups.\n- The \"unexplained\" part is all the overlap between the L3 and the other groups.\n\n</div>"
    },
    {
      "cell_type": "markdown",
      "metadata": {
        "cell_id": "fa30bfd9387f4204b7278194a24b2024",
        "deepnote_app_block_visible": true,
        "deepnote_cell_height": 62,
        "deepnote_cell_type": "markdown",
        "tags": []
      },
      "source": "<div class=\"alert alert-block alert-success\">\n\n### 4.0 - Approximate Time: 12-15 mins\n\n</div>\n"
    },
    {
      "cell_type": "markdown",
      "metadata": {
        "cell_id": "34aafae166e44a5ca4e4b55f7231e6da",
        "deepnote_app_block_visible": true,
        "deepnote_cell_height": 110,
        "deepnote_cell_type": "markdown",
        "nbsimplegrader": {
          "config_key": "markdown.view-only",
          "editable": false,
          "label": "Markdown: View-Only",
          "respondable": false,
          "response": null,
          "runnable": false,
          "type": "markdown"
        }
      },
      "source": "## 4.0 - Simulating Unexplained Variation using a Random Data Generating Process (DGP)"
    },
    {
      "cell_type": "markdown",
      "metadata": {
        "cell_id": "8180a2bc2f8543a4ab32dee7a2bc3ebd",
        "deepnote_app_block_visible": true,
        "deepnote_cell_height": 74.796875,
        "deepnote_cell_type": "markdown",
        "nbsimplegrader": {
          "config_key": "markdown.view-only",
          "editable": false,
          "label": "Markdown: View-Only",
          "respondable": false,
          "response": null,
          "runnable": false,
          "type": "markdown"
        }
      },
      "source": "4.1 - Remember Westvaco? We couldn’t “simulate” age discrimination **_but_** we could simulate firing people “randomly.” How did we “simulate” a random process then? Which R function works like that?"
    },
    {
      "cell_type": "markdown",
      "metadata": {
        "cell_id": "9167802222aa4e42902de1ca19a2cc6d",
        "deepnote_app_block_visible": true,
        "deepnote_cell_height": 166.1875,
        "deepnote_cell_type": "markdown",
        "tags": []
      },
      "source": "<div class=\"alert alert-block alert-warning\">\n\n**Sample Response**\n\n- By picking 3 numbers from the 10 possible ages without looking. Note: This will depend on which version of it you completed with your students. \n- The `sample()` function works like that (randomly picking a sample for us). \n\n</div>"
    },
    {
      "cell_type": "markdown",
      "metadata": {
        "cell_id": "5c34429b460b49b9a10493b23a6ebd91",
        "deepnote_app_block_visible": true,
        "deepnote_cell_height": 74.796875,
        "deepnote_cell_type": "markdown",
        "nbsimplegrader": {
          "config_key": "markdown.view-only",
          "editable": false,
          "label": "Markdown: View-Only",
          "respondable": false,
          "response": null,
          "runnable": false,
          "type": "markdown"
        }
      },
      "source": "4.2 - The definition of “random” includes the idea that it doesn’t systematically pick numbers that are bigger or smaller (it’s unbiased). Why is the `sample()` function a “random” process?"
    },
    {
      "cell_type": "markdown",
      "metadata": {
        "cell_id": "c891a81378054452ad73173597f3b1c2",
        "deepnote_app_block_visible": true,
        "deepnote_cell_height": 163.1875,
        "deepnote_cell_type": "markdown",
        "tags": []
      },
      "source": "<div class=\"alert alert-block alert-warning\">\n\n**Sample Response**\n\nIt doesn’t systematically choose big numbers or small numbers. It chooses a number without caring how big or small it is. \n\n</div>"
    },
    {
      "cell_type": "markdown",
      "metadata": {
        "cell_id": "1d6e613211ac43dfacf0a55b3880624a",
        "deepnote_app_block_visible": true,
        "deepnote_cell_height": 74.796875,
        "deepnote_cell_type": "markdown",
        "nbsimplegrader": {
          "config_key": "markdown.view-only",
          "editable": false,
          "label": "Markdown: View-Only",
          "respondable": false,
          "response": null,
          "runnable": false,
          "type": "markdown"
        }
      },
      "source": "4.3 - Now we have a slightly different situation from Westvaco – we have launching distances in three groups. How will the R function `shuffle()` mimic a random process?"
    },
    {
      "cell_type": "markdown",
      "metadata": {
        "cell_id": "3e9c1efc6a0e4ddf854c9583bfc04f25",
        "deepnote_app_block_visible": true,
        "deepnote_cell_height": 140.796875,
        "deepnote_cell_type": "markdown",
        "tags": []
      },
      "source": "<div class=\"alert alert-block alert-warning\">\n\n**Sample Response**\n\nIt puts numbers into groups without caring how big or small they are.\n\n</div>"
    },
    {
      "cell_type": "markdown",
      "metadata": {
        "cell_id": "0b3248198ae14aaf94acc0dc3e99ce80",
        "deepnote_app_block_visible": true,
        "deepnote_cell_height": 74.796875,
        "deepnote_cell_type": "markdown",
        "nbsimplegrader": {
          "config_key": "markdown.view-only",
          "editable": false,
          "label": "Markdown: View-Only",
          "respondable": false,
          "response": null,
          "runnable": false,
          "type": "markdown"
        }
      },
      "source": "Here is some code that shuffles the distances (`Dist_cm`) into different `LiftCategory` groups **_and_** makes a visualization all at the same time. "
    },
    {
      "cell_type": "code",
      "execution_count": null,
      "metadata": {
        "cell_id": "b2fb0e996cba48a19a1a65c472cb77e1",
        "deepnote_app_block_visible": true,
        "deepnote_cell_height": 762,
        "deepnote_cell_type": "code",
        "deepnote_output_heights": [
          611
        ],
        "execution_context_id": "8e2337ee-b369-4bab-bd81-bf5b9822f0ce",
        "execution_millis": 503,
        "execution_start": 1740102110907,
        "nbsimplegrader": {
          "config_key": "code.run-only",
          "editable": false,
          "label": "Code: Run-Only",
          "respondable": false,
          "response": null,
          "runnable": true,
          "type": "code"
        },
        "source_hash": "5afa8fc1",
        "trusted": true
      },
      "outputs": [],
      "source": "# Run this code a few times\ngf_histogram(~ shuffle(Dist_cm), data = LaunchBears) %>%\n  gf_facet_grid(LiftCategory ~ .)%>%\n  gf_boxplot(width=2.5, fill=\"white\")"
    },
    {
      "cell_type": "markdown",
      "metadata": {
        "cell_id": "92dbd2815ca04c6d82f4eeaf5903a2bb",
        "deepnote_app_block_visible": true,
        "deepnote_cell_height": 74.796875,
        "deepnote_cell_type": "markdown",
        "nbsimplegrader": {
          "config_key": "markdown.view-only",
          "editable": false,
          "label": "Markdown: View-Only",
          "respondable": false,
          "response": null,
          "runnable": false,
          "type": "markdown"
        }
      },
      "source": "4.4 - What is this code doing? Explain. How is that different from the code for creating a visualization of the actual data?"
    },
    {
      "cell_type": "markdown",
      "metadata": {
        "cell_id": "64600d554f224b15a8d14255204b5e96",
        "deepnote_app_block_visible": true,
        "deepnote_cell_height": 221.984375,
        "deepnote_cell_type": "markdown",
        "tags": []
      },
      "source": "<div class=\"alert alert-block alert-warning\">\n\n**Sample Response**\n\n*Note to Instructors: If students have trouble explaining at first, encourage them to try running the code a few times and see what changes.*\n\n- The `shuffle(Dist_cm)` part takes ALL the distances (from L1, L2, and L3) and mixes them up randomly, then the `gf_histogram` function puts the shuffled data into a graph.\n\n</div>"
    },
    {
      "cell_type": "markdown",
      "metadata": {
        "cell_id": "400d01dc36e94c4baaa0c43f89ac2f26",
        "deepnote_app_block_visible": true,
        "deepnote_cell_height": 97.1875,
        "deepnote_cell_type": "markdown",
        "nbsimplegrader": {
          "config_key": "markdown.view-only",
          "editable": false,
          "label": "Markdown: View-Only",
          "respondable": false,
          "response": null,
          "runnable": false,
          "type": "markdown"
        }
      },
      "source": "4.5 - If we shuffled the `Dist_cm` values into three random groups, would our actual data look similar or different from the randomly shuffled data? (Feel free to try shuffling a few times in order to develop your intuition.)"
    },
    {
      "cell_type": "markdown",
      "metadata": {
        "cell_id": "4727d370f8a244df922acc0591cb8430",
        "deepnote_app_block_visible": true,
        "deepnote_cell_height": 163.1875,
        "deepnote_cell_type": "markdown",
        "tags": []
      },
      "source": "<div class=\"alert alert-block alert-warning\">\n\n**Sample Response**\n\n*Some students predict “same” because these are the same distance values; some students predict that the sample data will look different.*\n\n</div>"
    },
    {
      "cell_type": "markdown",
      "metadata": {
        "cell_id": "1ff70ead2432420fb4813b9341e08efc",
        "deepnote_app_block_visible": true,
        "deepnote_cell_height": 642.984375,
        "deepnote_cell_type": "markdown",
        "nbsimplegrader": {
          "config_key": "markdown.view-only",
          "editable": false,
          "label": "Markdown: View-Only",
          "respondable": false,
          "response": null,
          "runnable": false,
          "type": "markdown"
        }
      },
      "source": "4.6 - We ran `shuffle()` (the code we showed you above) a bunch of times. One of the faceted histograms below is the empirical sample (the sample from the real data). Can you tell which one it is? What makes it look different than the samples we created from shuffling?\n\n<img src=\"https://coursekata-course-assets.s3.us-west-1.amazonaws.com/UCLATALL/czi-stats-course/jnb_4c_shuffles.jpg\" title=\"Several shuffled histograms\" />"
    },
    {
      "cell_type": "markdown",
      "metadata": {
        "cell_id": "dc4ad0e2f6814cafa799bf33cf1f3246",
        "deepnote_app_block_visible": true,
        "deepnote_cell_height": 207.984375,
        "deepnote_cell_type": "markdown",
        "tags": []
      },
      "source": "<div class=\"alert alert-block alert-warning\">\n\n**Sample Response**\n\nWhile all the different sets of distributions look different, our emprical data looks \"more different\" because for graph “F” L3 seems like it is shifted up so that most of the numbers are bigger than 20 while many of the values in L1 and L2 seem clustered down below 20, while the other graphs seem to have the values for L1/L2/L3 all spread around in a similar way \n\n</div>"
    },
    {
      "cell_type": "markdown",
      "metadata": {
        "cell_id": "5715237ad57a484da86fceaa0d5a6dbd",
        "deepnote_app_block_visible": true,
        "deepnote_cell_height": 62,
        "deepnote_cell_type": "markdown",
        "tags": []
      },
      "source": "<div class=\"alert alert-block alert-success\">\n\n### 5.0 - Approximate Time: 8-10 mins\n\n</div>\n"
    },
    {
      "cell_type": "markdown",
      "metadata": {
        "cell_id": "b91f751bf93d4b799f549fd24e3f3e98",
        "deepnote_app_block_visible": true,
        "deepnote_cell_height": 70,
        "deepnote_cell_type": "markdown",
        "nbsimplegrader": {
          "config_key": "markdown.view-only",
          "editable": false,
          "label": "Markdown: View-Only",
          "respondable": false,
          "response": null,
          "runnable": false,
          "type": "markdown"
        }
      },
      "source": "## 5.0 - What did we learn from shuffling?"
    },
    {
      "cell_type": "markdown",
      "metadata": {
        "cell_id": "101f41dd3be94d15b15faeafae99576e",
        "deepnote_app_block_visible": true,
        "deepnote_cell_height": 74.796875,
        "deepnote_cell_type": "markdown",
        "nbsimplegrader": {
          "config_key": "markdown.view-only",
          "editable": false,
          "label": "Markdown: View-Only",
          "respondable": false,
          "response": null,
          "runnable": false,
          "type": "markdown"
        }
      },
      "source": "5.1 - Do you think the likelihood of getting a pattern of data like our empirical sample from a random process (like shuffling) is high? Low? Medium? Explain your reasoning."
    },
    {
      "cell_type": "markdown",
      "metadata": {
        "cell_id": "1fd1b85330704ca8ba2a61bc68fdba97",
        "deepnote_app_block_visible": true,
        "deepnote_cell_height": 210.984375,
        "deepnote_cell_type": "markdown",
        "tags": []
      },
      "source": "<div class=\"alert alert-block alert-warning\">\n\n**Sample Response**\n\n- Low; it’s hard to get the pattern we got from shuffling; not a lot of them look like our data.\n- It's hard to get a pattern where a lot of the big numbers end up in L3 randomly; with a random process, the big numbers are shuffled into all three groups so each group has big numbers and little numbers in them.\n\n</div>"
    },
    {
      "cell_type": "markdown",
      "metadata": {
        "cell_id": "22a6bfff5b284cd1813d722b55040370",
        "deepnote_app_block_visible": true,
        "deepnote_cell_height": 543.15625,
        "deepnote_cell_type": "markdown",
        "nbsimplegrader": {
          "config_key": "markdown.view-only",
          "editable": false,
          "label": "Markdown: View-Only",
          "respondable": false,
          "response": null,
          "runnable": false,
          "type": "markdown"
        }
      },
      "source": "5.2 - Let’s think about our “whole thing” diagram. If we create a bunch of histograms from shuffled data, where would we put that in this diagram? Is it empirical data or simulated data?\n\n<img src=\"https://coursekata-course-assets.s3.us-west-1.amazonaws.com/UCLATALL/czi-stats-course/jnb_4c_dist_triad.jpg\" title=\"The Distribution Triad\" />"
    },
    {
      "cell_type": "markdown",
      "metadata": {
        "cell_id": "c60ff2b3cd534379930e56326a2fd7ce",
        "deepnote_app_block_visible": true,
        "deepnote_cell_height": 572.703125,
        "deepnote_cell_type": "markdown",
        "tags": []
      },
      "source": "<div class=\"alert alert-block alert-warning\">\n\n**Sample Response**\n\nOur shuffled data is simulated data and would belong with the Sampling distribution.\n\n**Note to Instructors**: Here is a version of the graphic with the other two distributions included:\n\n<img src=\"https://coursekata-course-assets.s3.us-west-1.amazonaws.com/UCLATALL/czi-stats-course/jnb_4c_dist_triad_complete.jpg\" title=\"The Distribution Triad Complete\" />\n\n</div>"
    },
    {
      "cell_type": "markdown",
      "metadata": {
        "cell_id": "8c1a426319ec41e78e0453dd50bdb75f",
        "deepnote_app_block_visible": true,
        "deepnote_cell_height": 74.796875,
        "deepnote_cell_type": "markdown",
        "nbsimplegrader": {
          "config_key": "markdown.view-only",
          "editable": false,
          "label": "Markdown: View-Only",
          "respondable": false,
          "response": null,
          "runnable": false,
          "type": "markdown"
        }
      },
      "source": "5.3 - If the likelihood of getting a sample like the empirical sample from a random process is low, which theory of the DGP would that rule out? Which theory would it support? "
    },
    {
      "cell_type": "markdown",
      "metadata": {
        "cell_id": "4705e3a404e7476bab750c87a0a764ac",
        "deepnote_app_block_visible": true,
        "deepnote_cell_height": 177.1875,
        "deepnote_cell_type": "markdown",
        "tags": []
      },
      "source": "<div class=\"alert alert-block alert-warning\">\n\n**Sample Response**\n\n*Note: Often a difficult question for students at this stage.*\n\n- We would rule out a Random DGP (Dist_cm = Other Stuff)\n\n</div>"
    },
    {
      "cell_type": "markdown",
      "metadata": {
        "cell_id": "f8b627474e3e4fb597d5d2b7867d8a83",
        "deepnote_app_block_visible": true,
        "deepnote_cell_height": 119.59375,
        "deepnote_cell_type": "markdown",
        "nbsimplegrader": {
          "config_key": "markdown.view-only",
          "editable": false,
          "label": "Markdown: View-Only",
          "respondable": false,
          "response": null,
          "runnable": false,
          "type": "markdown"
        }
      },
      "source": "5.4 - What are your overall conclusions when it comes to launching distance? Which model seems better: the one that takes `LiftCategory` into account (`Dist_cm` = `LiftCategory` + Other Stuff) OR the one that leaves `LiftCategory` out (`Dist_cm` = Other Stuff)? Does that mean `LiftCategory` helps us be perfectly accurate in predicting launching distance? Why or why not?"
    },
    {
      "cell_type": "markdown",
      "metadata": {
        "cell_id": "27ea90b20a824f64b8a50da155d4480e",
        "deepnote_app_block_visible": true,
        "deepnote_cell_height": 207.984375,
        "deepnote_cell_type": "markdown",
        "tags": []
      },
      "source": "<div class=\"alert alert-block alert-warning\">\n\n**Sample Response**\n\n*Student conclusions may vary at this time, but they should be leaning toward the conclusion that the model that includes `LiftCategory` is a little better than the one without it, but that it does not mean `LiftCategory` helps us make perfect predictions, just slightly better one. It helps us reduce our error, but there is still a lot of leftover variation.*\n\n</div>"
    },
    {
      "cell_type": "markdown",
      "metadata": {
        "cell_id": "4df6f0b908a947c3bc30f40d413b650f",
        "deepnote_app_block_visible": true,
        "deepnote_cell_height": 62,
        "deepnote_cell_type": "markdown",
        "tags": []
      },
      "source": "<div class=\"alert alert-block alert-success\">\n\n### 6.0 - Approximate Time: 5-8 mins\n\n</div>\n"
    },
    {
      "cell_type": "markdown",
      "metadata": {
        "cell_id": "e3e292678c8a4f939016ec3701219d0a",
        "deepnote_app_block_visible": true,
        "deepnote_cell_height": 70,
        "deepnote_cell_type": "markdown",
        "nbsimplegrader": {
          "config_key": "markdown.view-only",
          "editable": false,
          "label": "Markdown: View-Only",
          "respondable": false,
          "response": null,
          "runnable": false,
          "type": "markdown"
        }
      },
      "source": "## 6.0 - Reflect and Connect"
    },
    {
      "cell_type": "markdown",
      "metadata": {
        "cell_id": "f6d886c4fe8b40c0a04290408ec79ad7",
        "deepnote_app_block_visible": true,
        "deepnote_cell_height": 52.390625,
        "deepnote_cell_type": "markdown",
        "nbsimplegrader": {
          "config_key": "markdown.view-only",
          "editable": false,
          "label": "Markdown: View-Only",
          "respondable": false,
          "response": null,
          "runnable": false,
          "type": "markdown"
        }
      },
      "source": "6.1 - In your own words, what do you think it means for a variable to “explain variation” in an outcome?"
    },
    {
      "cell_type": "markdown",
      "metadata": {
        "cell_id": "b96a7a43af0a4c3fbbd8eda70daa20f2",
        "deepnote_app_block_visible": true,
        "deepnote_cell_height": 163.1875,
        "deepnote_cell_type": "markdown",
        "tags": []
      },
      "source": "<div class=\"alert alert-block alert-warning\">\n\n**Sample Response**\n\n- If we know how something varies on one variable (e.g., how many lift sticks a catapult has), then we can make a better guess about how it varies on another variable (e.g., the distance launced).\n\n</div>"
    },
    {
      "cell_type": "markdown",
      "metadata": {
        "cell_id": "711ad02e57b549d0a9ce643a63b76e70",
        "deepnote_app_block_visible": true,
        "deepnote_cell_height": 74.796875,
        "deepnote_cell_type": "markdown",
        "nbsimplegrader": {
          "config_key": "markdown.view-only",
          "editable": false,
          "label": "Markdown: View-Only",
          "respondable": false,
          "response": null,
          "runnable": false,
          "type": "markdown"
        }
      },
      "source": "6.2  - Compare and contrast today’s example to the Westvaco “whole thing” exercise. What was similar? What was different?"
    },
    {
      "cell_type": "markdown",
      "metadata": {
        "cell_id": "648160f9475843ac9b1f975a19c8401a",
        "deepnote_app_block_visible": true,
        "deepnote_cell_height": 266.78125,
        "deepnote_cell_type": "markdown",
        "tags": []
      },
      "source": "<div class=\"alert alert-block alert-warning\">\n\n**Sample Response**\n\nIn both examples, we were trying to figure out why something varies (ages of fired people or distances of gummy bear launches), and in both we tried to compare what actually happened to simulations of how it would look if the same data were generated by a random process.\n\nThe differences were the variables we were looking at, and with the launches we also had an explanatory variable that we were able to manipulate (the number of lift sticks), and we had more than one group to look at.\n\n</div>"
    }
  ],
  "metadata": {
    "deepnote_app_layout": "powerful-article",
    "deepnote_app_reactivity_enabled": true,
    "deepnote_notebook_id": "692d5d1c31c7457d96a38ba480dc2c65",
    "kernelspec": {
      "display_name": "R",
      "language": "R",
      "name": "ir"
    },
    "language_info": {
      "codemirror_mode": "r",
      "file_extension": ".r",
      "mimetype": "text/x-r-source",
      "name": "R",
      "pygments_lexer": "r",
      "version": "4.3.3"
    },
    "nbsimplegrader": {
      "publish_config": {
        "classes": [],
        "options": [],
        "tools": []
      }
    }
  },
  "nbformat": 4,
  "nbformat_minor": 1
}