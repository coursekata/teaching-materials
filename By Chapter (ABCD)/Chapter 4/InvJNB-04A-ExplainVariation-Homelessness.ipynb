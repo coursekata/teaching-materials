{
  "cells": [
    {
      "cell_type": "markdown",
      "metadata": {
        "cell_id": "a32fed2b32dd4ead9256627e52e2c6cf",
        "deepnote_cell_height": 133.953125,
        "deepnote_cell_type": "markdown",
        "nbsimplegrader": {
          "config_key": "markdown.view-only",
          "editable": false,
          "label": "Markdown: View-Only",
          "respondable": false,
          "response": null,
          "runnable": false,
          "type": "markdown"
        }
      },
      "source": "# 4A: Explaining Variation in State Homelessness "
    },
    {
      "cell_type": "code",
      "execution_count": null,
      "metadata": {
        "cell_id": "f010187bcc0d4ef5a9ec61ac26222999",
        "deepnote_cell_height": 177.5625,
        "deepnote_cell_type": "code",
        "deepnote_to_be_reexecuted": false,
        "execution_context_id": "c7e26ec4-6be8-40c3-a80e-806a8faadab1",
        "execution_millis": 2454,
        "execution_start": 1737763966149,
        "nbsimplegrader": {
          "config_key": "code.run-only",
          "editable": false,
          "label": "Code: Run-Only",
          "respondable": false,
          "response": null,
          "runnable": true,
          "type": "code"
        },
        "source_hash": "338ac6ea",
        "trusted": true
      },
      "outputs": [],
      "source": "# This code will load the R packages we will use\nsuppressPackageStartupMessages({\n    library(coursekata)\n})\n\n# Load the States data\nStates <- read.csv(\"https://docs.google.com/spreadsheets/d/e/2PACX-1vSGPPBJEKYHYu563seooxlUmhkUGVHQUeedgHsviPhYv5OtsOOOBnPKdFsIB1J0y6zmxXQ7I_CNnh64/pub?gid=2140707809&single=true&output=csv\")"
    },
    {
      "cell_type": "markdown",
      "metadata": {
        "cell_id": "c8b8ef0ab3e048abaa658e20556220a5",
        "deepnote_cell_height": 109.96875,
        "deepnote_cell_type": "markdown",
        "nbsimplegrader": {
          "config_key": "markdown.view-only",
          "editable": false,
          "label": "Markdown: View-Only",
          "respondable": false,
          "response": null,
          "runnable": false,
          "type": "markdown"
        }
      },
      "source": "## 1.0 - Which states might have higher homelessness rates?"
    },
    {
      "cell_type": "markdown",
      "metadata": {
        "cell_id": "c4ac0d476a2d4b889cb6c5cfc1f49e88",
        "deepnote_cell_height": 74.75,
        "deepnote_cell_type": "markdown",
        "nbsimplegrader": {
          "config_key": "markdown.view-only",
          "editable": false,
          "label": "Markdown: View-Only",
          "respondable": false,
          "response": null,
          "runnable": false,
          "type": "markdown"
        }
      },
      "source": "Researchers and political leaders are interested in tackling the homelessness problem. In order to try to find solutions to this issue, it would be useful to know what causes it. Today, we're going to explore different explanations for why some states have more homelessness than others.\n\nFirst, let's learn a little bit about the data. We'll learn how homelessness is measured in states."
    },
    {
      "cell_type": "markdown",
      "metadata": {
        "cell_id": "70e132ce9aa0453e85b2be966e42d304",
        "deepnote_cell_height": 688.75,
        "deepnote_cell_type": "markdown",
        "nbsimplegrader": {
          "config_key": "markdown.view-only",
          "editable": false,
          "label": "Markdown: View-Only",
          "respondable": false,
          "response": null,
          "runnable": false,
          "type": "markdown"
        }
      },
      "source": "1.1 - Take a look at a data frame called `States` using functions like `head()` and `glimpse()`.\n\nFull descriptions of the variables in the dataset can be found [here](https://docs.google.com/document/d/e/2PACX-1vTLsVPYffaAG_IoJPgGEAtw56b5nOTk7zbfm8v3Q5zjeq9vXy_-bWaExcqOurGcaPxxOzMxR5Vyt2L_/pub)."
    },
    {
      "cell_type": "code",
      "execution_count": null,
      "metadata": {
        "cell_id": "4571633d3a854e8084dab9599e4ac804",
        "deepnote_cell_type": "code",
        "trusted": true
      },
      "outputs": [],
      "source": "#write some code here to look at the data"
    },
    {
      "cell_type": "markdown",
      "metadata": {
        "cell_id": "ff0ef66420db46f1bc9fd108a5487941",
        "deepnote_cell_height": 74.75,
        "deepnote_cell_type": "markdown",
        "nbsimplegrader": {
          "config_key": "markdown.view-only",
          "editable": false,
          "label": "Markdown: View-Only",
          "respondable": false,
          "response": null,
          "runnable": false,
          "type": "markdown"
        }
      },
      "source": "1.2 - Take a look at the variables called `ShelteredPITHomeless`, `UnshelteredPITHomeless`, and `PITHomeless` . Which variable(s) should we use to look at how homelessness varies across different states? Why?\n"
    },
    {
      "cell_type": "markdown",
      "metadata": {
        "cell_id": "f96b2cad03354790ad13136283d76413",
        "deepnote_cell_height": 74.75,
        "deepnote_cell_type": "markdown",
        "nbsimplegrader": {
          "config_key": "markdown.view-only",
          "editable": false,
          "label": "Markdown: View-Only",
          "respondable": false,
          "response": null,
          "runnable": false,
          "type": "markdown"
        }
      },
      "source": "1.3 - To explore variation in homelessness rates, make a visualization of that variable. What do you notice? Is there anything surprising about this distribution?"
    },
    {
      "cell_type": "code",
      "execution_count": null,
      "metadata": {
        "cell_id": "02707b466e1d421b9c8608f351f477e5",
        "deepnote_cell_type": "code",
        "execution_context_id": "79cb3e55-c58f-4390-a360-b20f974e63b7",
        "execution_millis": 24,
        "execution_start": 1738002271302,
        "source_hash": "3874769e",
        "trusted": true
      },
      "outputs": [],
      "source": "#make a visualization here"
    },
    {
      "cell_type": "markdown",
      "metadata": {
        "cell_id": "a6f6f9db5c164482b83e85c7cf27c1bc",
        "deepnote_cell_height": 70.421875,
        "deepnote_cell_type": "markdown",
        "nbsimplegrader": {
          "config_key": "markdown.view-only",
          "editable": false,
          "label": "Markdown: View-Only",
          "respondable": false,
          "response": null,
          "runnable": false,
          "type": "markdown"
        }
      },
      "source": "## 2.0 - Explaining Variation in `PITHomeless`"
    },
    {
      "cell_type": "markdown",
      "metadata": {
        "cell_id": "913cef83a24b4b4b926c16979bdfc2b9",
        "deepnote_cell_height": 119.53125,
        "deepnote_cell_type": "markdown",
        "nbsimplegrader": {
          "config_key": "markdown.view-only",
          "editable": false,
          "label": "Markdown: View-Only",
          "respondable": false,
          "response": null,
          "runnable": false,
          "type": "markdown"
        }
      },
      "source": "2.1 - What characteristics of a state might help explain their homelessness rates? Take a look at some of the variables in the data frame for some ideas. "
    },
    {
      "cell_type": "markdown",
      "metadata": {
        "cell_id": "e5a7145023b240429f5380c85f218b49",
        "deepnote_cell_height": 52.359375,
        "deepnote_cell_type": "markdown",
        "nbsimplegrader": {
          "config_key": "markdown.view-only",
          "editable": false,
          "label": "Markdown: View-Only",
          "respondable": false,
          "response": null,
          "runnable": false,
          "type": "markdown"
        }
      },
      "source": "2.2 - *Quick Review*: What does it mean to “explain variation”?"
    },
    {
      "cell_type": "markdown",
      "metadata": {
        "cell_id": "7e005094459e4e2e83b8a6ebc6140bfe",
        "deepnote_cell_height": 74.75,
        "deepnote_cell_type": "markdown",
        "nbsimplegrader": {
          "config_key": "markdown.view-only",
          "editable": false,
          "label": "Markdown: View-Only",
          "respondable": false,
          "response": null,
          "runnable": false,
          "type": "markdown"
        }
      },
      "source": "2.3 - Let's work with 3 ideas (these are common hypotheses that students come up with about homelessness): Which of these variables do you think will likely explain more of the variation in a state's `PITHomeless`: `SubstanceAbuse`, `HouseholdIncomeK` or `MedianRent `? Why? \n\nWrite your chosen hypothesis as a word equation. "
    },
    {
      "cell_type": "markdown",
      "metadata": {
        "cell_id": "12f4e3e0987c4affa294cc6ba4fd7caf",
        "deepnote_cell_type": "markdown"
      },
      "source": "2.4 - Let's apply our informal definition of explain variation. What would it mean for each of these variables to \"explain variation\" in homelessness? "
    },
    {
      "cell_type": "markdown",
      "metadata": {
        "cell_id": "fa3ae4f60e6f4e1ea5f943239f027e26",
        "deepnote_cell_type": "markdown"
      },
      "source": "For the next section, **you will be assigned to work in groups on one of the 3 models**. Work on your assigned model first. If you have more time, try the other models. "
    },
    {
      "cell_type": "markdown",
      "metadata": {
        "cell_id": "b5a2f70789534fb5a80ff4dd81cf3ed3",
        "deepnote_cell_height": 110.421875,
        "deepnote_cell_type": "markdown",
        "nbsimplegrader": {
          "config_key": "markdown.view-only",
          "editable": false,
          "label": "Markdown: View-Only",
          "respondable": false,
          "response": null,
          "runnable": false,
          "type": "markdown"
        }
      },
      "source": "## 3.0 - Exploring `PITHomeless` = `SubstanceAbuse` + Other Stuff."
    },
    {
      "cell_type": "markdown",
      "metadata": {
        "cell_id": "73c186cf257343dc96921ef234d2f716",
        "deepnote_cell_height": 74.75,
        "deepnote_cell_type": "markdown",
        "nbsimplegrader": {
          "config_key": "markdown.view-only",
          "editable": false,
          "label": "Markdown: View-Only",
          "respondable": false,
          "response": null,
          "runnable": false,
          "type": "markdown"
        }
      },
      "source": "3.1 - Let's use some code to look at the first 6 rows of this data set. This data has a lot of variables in it. Can we can combine head() and select() to look at the first 6 rows of only the variables `State`, `PITHomeless`, and `SubstanceAbuse`? Try it! "
    },
    {
      "cell_type": "code",
      "execution_count": null,
      "metadata": {
        "cell_id": "303f06b6bee44848a7a141695230f0f7",
        "deepnote_app_block_visible": false,
        "deepnote_cell_type": "code",
        "execution_context_id": "407453d8-7777-4f5e-898e-daafe3ece63f",
        "execution_millis": 0,
        "execution_start": 1739223603294,
        "source_hash": "b699df12",
        "trusted": true
      },
      "outputs": [],
      "source": "#try it here \n"
    },
    {
      "cell_type": "markdown",
      "metadata": {
        "cell_id": "7e72d80dc9bc4a468527cdd783dca925",
        "deepnote_cell_height": 52.359375,
        "deepnote_cell_type": "markdown",
        "nbsimplegrader": {
          "config_key": "markdown.view-only",
          "editable": false,
          "label": "Markdown: View-Only",
          "respondable": false,
          "response": null,
          "runnable": false,
          "type": "markdown"
        }
      },
      "source": "3.2 - Take a look at Alabama's values for these two variables (`PITHomeless` and `SubstanceAbuse`). What do they mean? "
    },
    {
      "cell_type": "markdown",
      "metadata": {
        "cell_id": "ff2514ca3bc9487d8b9b7528cd1f3208",
        "deepnote_cell_height": 97.140625,
        "deepnote_cell_type": "markdown",
        "nbsimplegrader": {
          "config_key": "markdown.view-only",
          "editable": false,
          "label": "Markdown: View-Only",
          "respondable": false,
          "response": null,
          "runnable": false,
          "type": "markdown"
        }
      },
      "source": "3.3 - To get the full picture, we need to look at data from all 50 states. Let’s make a visualization to explore this model: `PITHomeless` = `SubstanceAbuse` + Other Stuff"
    },
    {
      "cell_type": "code",
      "execution_count": null,
      "metadata": {
        "cell_id": "f323f7c3d18e40adb5f127302fc1a0dd",
        "deepnote_cell_type": "code",
        "execution_context_id": "2badb60a-7de2-4ab6-a5ba-022f16b839c9",
        "execution_millis": 1,
        "execution_start": 1737751470503,
        "source_hash": "3874769e",
        "trusted": true
      },
      "outputs": [],
      "source": "#make a visualization here"
    },
    {
      "cell_type": "markdown",
      "metadata": {
        "cell_id": "e2315e0bccf34a4380cb85e7beed6c32",
        "deepnote_cell_height": 52.359375,
        "deepnote_cell_type": "markdown",
        "nbsimplegrader": {
          "config_key": "markdown.view-only",
          "editable": false,
          "label": "Markdown: View-Only",
          "respondable": false,
          "response": null,
          "runnable": false,
          "type": "markdown"
        }
      },
      "source": "3.4 - Based on your visualization, what do you think of this hypothesis?"
    },
    {
      "cell_type": "markdown",
      "metadata": {
        "cell_id": "dcce78daa83c41c0a04f7001c33c59a4",
        "deepnote_cell_height": 74.75,
        "deepnote_cell_type": "markdown",
        "nbsimplegrader": {
          "config_key": "markdown.view-only",
          "editable": false,
          "label": "Markdown: View-Only",
          "respondable": false,
          "response": null,
          "runnable": false,
          "type": "markdown"
        }
      },
      "source": "3.5 - Based on this, what would your prediction for `PITHomeless` be for a hypothetical state that had a very high `SubstanceAbuse` percentage? How about for a low `SubstanceAbuse` state?"
    },
    {
      "cell_type": "markdown",
      "metadata": {
        "cell_id": "8f920210236e4999932c75662cc9cf4a",
        "deepnote_cell_height": 110.421875,
        "deepnote_cell_type": "markdown",
        "nbsimplegrader": {
          "config_key": "markdown.view-only",
          "editable": false,
          "label": "Markdown: View-Only",
          "respondable": false,
          "response": null,
          "runnable": false,
          "type": "markdown"
        }
      },
      "source": "## 4.0 - Exploring `PITHomeless` = `HouseholdIncomeK` + Other Stuff."
    },
    {
      "cell_type": "markdown",
      "metadata": {
        "cell_id": "79da74b5576a485188d4e729b6ed2f81",
        "deepnote_cell_height": 74.75,
        "deepnote_cell_type": "markdown",
        "nbsimplegrader": {
          "config_key": "markdown.view-only",
          "editable": false,
          "label": "Markdown: View-Only",
          "respondable": false,
          "response": null,
          "runnable": false,
          "type": "markdown"
        }
      },
      "source": "4.1 - Let's use some code to look at the first 6 rows of this data set. This data has a lot of variables in it. Can we can combine head() and select() to look at the first 6 rows of only the variables `State`, `PITHomeless`, and `HouseholdIncomeK`? Try it! "
    },
    {
      "cell_type": "code",
      "execution_count": null,
      "metadata": {
        "allow_embed": false,
        "cell_id": "dbf89b4f35d3493380ee10a3b7c379f1",
        "deepnote_cell_height": 60.953125,
        "deepnote_cell_type": "code",
        "execution_context_id": "2badb60a-7de2-4ab6-a5ba-022f16b839c9",
        "execution_millis": 18,
        "execution_start": 1737751305387,
        "nbsimplegrader": {
          "config_key": "code.run-only",
          "editable": false,
          "label": "Code: Run-Only",
          "respondable": false,
          "response": null,
          "runnable": true,
          "type": "code"
        },
        "source_hash": "aef024be",
        "trusted": true
      },
      "outputs": [],
      "source": "#try it here "
    },
    {
      "cell_type": "markdown",
      "metadata": {
        "cell_id": "42f110d833cc41c7a499d86db724a024",
        "deepnote_cell_height": 52.359375,
        "deepnote_cell_type": "markdown",
        "nbsimplegrader": {
          "config_key": "markdown.view-only",
          "editable": false,
          "label": "Markdown: View-Only",
          "respondable": false,
          "response": null,
          "runnable": false,
          "type": "markdown"
        }
      },
      "source": "4.2 - Take a look at Alabama's values for these two variables (`PITHomeless` and `HouseholdIncomeK`). What do they mean? "
    },
    {
      "cell_type": "markdown",
      "metadata": {
        "cell_id": "7fc0475ac83d44b8a031cf4c8ce29008",
        "deepnote_cell_height": 52.359375,
        "deepnote_cell_type": "markdown",
        "nbsimplegrader": {
          "config_key": "markdown.view-only",
          "editable": false,
          "label": "Markdown: View-Only",
          "respondable": false,
          "response": null,
          "runnable": false,
          "type": "markdown"
        }
      },
      "source": "4.3 - 3.3 - To get the full picture, we need to look at data from all 50 states. Let’s make a visualization to explore this model: `PITHomeless` = `HouseholdIncomeK` + Other Stuff"
    },
    {
      "cell_type": "code",
      "execution_count": null,
      "metadata": {
        "cell_id": "3aa0345bcf544a48b7bf09e7f30b1eff",
        "deepnote_cell_type": "code",
        "trusted": true
      },
      "outputs": [],
      "source": "#make a visualization here"
    },
    {
      "cell_type": "markdown",
      "metadata": {
        "cell_id": "9dbbc405c41749e5904c5f1eb3fe34de",
        "deepnote_cell_type": "markdown"
      },
      "source": "4.4 Based on your visualization, what do you think of this hypothesis?"
    },
    {
      "cell_type": "markdown",
      "metadata": {
        "cell_id": "cf7aef0b99cc4b75976509a3da8f850a",
        "deepnote_cell_height": 74.75,
        "deepnote_cell_type": "markdown",
        "nbsimplegrader": {
          "config_key": "markdown.view-only",
          "editable": false,
          "label": "Markdown: View-Only",
          "respondable": false,
          "response": null,
          "runnable": false,
          "type": "markdown"
        }
      },
      "source": "4.5 - Based on this, how would you adjust your prediction of `PITHomeless` for a hypothetical state that had a very high `HouseholdIncomeK` percentage? How about for a low `HouseholdIncomeK` state?"
    },
    {
      "cell_type": "markdown",
      "metadata": {
        "cell_id": "b97eabcc15c54b47b76030d008badfce",
        "deepnote_cell_height": 110.875,
        "deepnote_cell_type": "markdown",
        "nbsimplegrader": {
          "config_key": "markdown.view-only",
          "editable": false,
          "label": "Markdown: View-Only",
          "respondable": false,
          "response": null,
          "runnable": false,
          "type": "markdown"
        }
      },
      "source": "## 5.0 - Exploring `PITHomeless` = `MedianRent` + Other Stuff"
    },
    {
      "cell_type": "markdown",
      "metadata": {
        "cell_id": "9faded4ed4804bf2ad99f32b0cd60de7",
        "deepnote_cell_height": 74.75,
        "deepnote_cell_type": "markdown",
        "nbsimplegrader": {
          "config_key": "markdown.view-only",
          "editable": false,
          "label": "Markdown: View-Only",
          "respondable": false,
          "response": null,
          "runnable": false,
          "type": "markdown"
        }
      },
      "source": "5.1 - Let's use some code to look at the first 6 rows of this data set. This data has a lot of variables in it. Can we can combine head() and select() to look at the first 6 rows of only the variables `State`, `PITHomeless`, and `MedianRent`? Try it! "
    },
    {
      "cell_type": "code",
      "execution_count": null,
      "metadata": {
        "allow_embed": false,
        "cell_id": "d813455a51dc49818ff03f97cbfcbb00",
        "deepnote_cell_height": 60.953125,
        "deepnote_cell_type": "code",
        "execution_context_id": "407453d8-7777-4f5e-898e-daafe3ece63f",
        "execution_millis": 0,
        "execution_start": 1739223603342,
        "nbsimplegrader": {
          "config_key": "code.run-only",
          "editable": false,
          "label": "Code: Run-Only",
          "respondable": false,
          "response": null,
          "runnable": true,
          "type": "code"
        },
        "source_hash": "7015ef1f",
        "trusted": true
      },
      "outputs": [],
      "source": "#try it here \n"
    },
    {
      "cell_type": "markdown",
      "metadata": {
        "cell_id": "5d8806f30fa144bc96145069e6db21f0",
        "deepnote_cell_type": "markdown"
      },
      "source": "5.2 - Take a look at Alabama's values for these two variables (`PITHomeless` and `MedianRent`). What do they mean? "
    },
    {
      "cell_type": "markdown",
      "metadata": {
        "cell_id": "0fd154cd85bc42d5ab01c40a4b87fd62",
        "deepnote_cell_height": 52.359375,
        "deepnote_cell_type": "markdown",
        "nbsimplegrader": {
          "config_key": "markdown.view-only",
          "editable": false,
          "label": "Markdown: View-Only",
          "respondable": false,
          "response": null,
          "runnable": false,
          "type": "markdown"
        }
      },
      "source": "5.3 - To get the full picture, we need to look at all 50 states. Let’s make a visualization to explore this model: some of the variation in the percentage `PITHomeless` is explained by `MedianRent`. Create a visualization to explore this model. "
    },
    {
      "cell_type": "code",
      "execution_count": null,
      "metadata": {
        "cell_id": "22ddd8b7e0e14b4fac463a3aa7ae221b",
        "deepnote_cell_type": "code",
        "execution_context_id": "2badb60a-7de2-4ab6-a5ba-022f16b839c9",
        "execution_millis": 1,
        "execution_start": 1737751966419,
        "source_hash": "3874769e",
        "trusted": true
      },
      "outputs": [],
      "source": "#make a visualization here"
    },
    {
      "cell_type": "markdown",
      "metadata": {
        "cell_id": "16bd9dee556b44259d60a79ebb09d326",
        "deepnote_cell_type": "markdown"
      },
      "source": "5.4 - Based on your visualization, what do you think of this hypothesis?"
    },
    {
      "cell_type": "markdown",
      "metadata": {
        "cell_id": "004ab33220c04e73ac5802dcbba1ed74",
        "deepnote_cell_height": 74.75,
        "deepnote_cell_type": "markdown",
        "nbsimplegrader": {
          "config_key": "markdown.view-only",
          "editable": false,
          "label": "Markdown: View-Only",
          "respondable": false,
          "response": null,
          "runnable": false,
          "type": "markdown"
        }
      },
      "source": "5.5 - Based on this, how would you adjust your prediction of `PITHomeless` for a hypothetical state that had a very high `MedianRent`? How about for a low `MedianRent` state?"
    },
    {
      "cell_type": "markdown",
      "metadata": {
        "cell_id": "0607835deaf043cea0db65434e509ca7",
        "deepnote_cell_height": 69.96875,
        "deepnote_cell_type": "markdown",
        "nbsimplegrader": {
          "config_key": "markdown.view-only",
          "editable": false,
          "label": "Markdown: View-Only",
          "respondable": false,
          "response": null,
          "runnable": false,
          "type": "markdown"
        }
      },
      "source": "## 6.0 - Comparing our Three Models"
    },
    {
      "cell_type": "markdown",
      "metadata": {
        "cell_id": "bf817a42befc480db630961f17ee4dd1",
        "deepnote_cell_height": 97.140625,
        "deepnote_cell_type": "markdown",
        "nbsimplegrader": {
          "config_key": "markdown.view-only",
          "editable": false,
          "label": "Markdown: View-Only",
          "respondable": false,
          "response": null,
          "runnable": false,
          "type": "markdown"
        }
      },
      "source": "6.1 - From looking at the three visualizations, which variable seems to explain more variation in `PITHomeless`: `SubstanceAbuse`, `HouseholdIncomeK` or `MedianRent`? What aspect of the visualizations are you looking at to make that judgment?"
    },
    {
      "cell_type": "markdown",
      "metadata": {
        "cell_id": "d186cafda8ea42529627d2317785a4ff",
        "deepnote_cell_type": "markdown"
      },
      "source": "6.2 - If states want to reduce homelessness, do you think they should pursue a policy that lowers median rent or lowers household income? Why? "
    },
    {
      "cell_type": "markdown",
      "metadata": {
        "cell_id": "bbc27d3f059643a0be5f8ff1ee5c337d",
        "deepnote_cell_type": "markdown"
      },
      "source": "6.3 - Is \"explain variation\" the same as \"cause variation\"? What is the difference?"
    },
    {
      "cell_type": "markdown",
      "metadata": {
        "cell_id": "6ffbb68fc0d24b25879d09e653f48994",
        "deepnote_cell_height": 69.96875,
        "deepnote_cell_type": "markdown",
        "tags": []
      },
      "source": "## 7.0 - Further reading about this topic"
    },
    {
      "cell_type": "markdown",
      "metadata": {
        "cell_id": "4a15a4f647be4e83a7792d0379c3bf98",
        "deepnote_cell_height": 97.125,
        "deepnote_cell_type": "markdown",
        "tags": []
      },
      "source": "- If you are interested in further reading on homelessness and rent prices, check out \nthis article: https://www.pewtrusts.org/en/research-and-analysis/articles/2023/08/22/how-housing-costs-drive-levels-of-homelessness\n\n- And this one on experiments that increased income of homeless individuals: https://schalkenbach.org/basic-income-for-the-homeless-findings-from-three-experiments/\n\n- On housing costs and homelessness: https://schalkenbach.org/in-a-good-economy-homelessness-goes-up-the-paradox-of-progress-and-poverty/"
    },
    {
      "cell_type": "markdown",
      "metadata": {
        "cell_id": "5c1744d8da33454d873dafbe27d31c9d",
        "deepnote_cell_type": "markdown"
      },
      "source": ""
    }
  ],
  "metadata": {
    "deepnote_notebook_id": "2a60407153a24afcaeeeab8ae8e635bc",
    "kernelspec": {
      "display_name": "R",
      "language": "R",
      "name": "ir"
    },
    "language_info": {
      "codemirror_mode": "r",
      "file_extension": ".r",
      "mimetype": "text/x-r-source",
      "name": "R",
      "pygments_lexer": "r",
      "version": "4.3.3"
    },
    "nbsimplegrader": {
      "publish_config": {
        "classes": [],
        "options": [],
        "tools": []
      }
    }
  },
  "nbformat": 4,
  "nbformat_minor": 1
}