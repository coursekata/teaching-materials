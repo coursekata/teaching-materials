{
  "cells": [
    {
      "cell_type": "markdown",
      "metadata": {
        "cell_id": "5275193765194bc884fb1d738a41042c",
        "deepnote_cell_type": "markdown",
        "tags": []
      },
      "source": "# 16A: How do countries spend their time?"
    },
    {
      "cell_type": "code",
      "execution_count": null,
      "metadata": {
        "cell_id": "dbc374f381134d5d987a234e96495bdf",
        "deepnote_cell_type": "code",
        "deepnote_to_be_reexecuted": false,
        "execution_millis": 4897,
        "execution_start": 1685756247930,
        "output_cleared": true,
        "source_hash": "116f7300",
        "tags": [],
        "trusted": true
      },
      "outputs": [],
      "source": "# This code will load the R packages we will use\nsuppressPackageStartupMessages({\n    library(coursekata)\n})"
    },
    {
      "cell_type": "markdown",
      "metadata": {
        "cell_id": "a5e2ff843cc3477586f4a16a5e6f1487",
        "deepnote_cell_type": "markdown",
        "tags": []
      },
      "source": "## 1.0 - About the Data"
    },
    {
      "cell_type": "code",
      "execution_count": null,
      "metadata": {
        "cell_id": "00766edc6d734fddbf153024a382fa5f",
        "deepnote_cell_type": "code",
        "deepnote_to_be_reexecuted": false,
        "execution_millis": 1092,
        "execution_start": 1685756252848,
        "output_cleared": true,
        "source_hash": "ec32f1a",
        "trusted": true
      },
      "outputs": [],
      "source": "time_use <- read.csv(\"https://docs.google.com/spreadsheets/d/e/2PACX-1vRCsuvBFXXuNM1Tp2vInQYYotkIi9ooqZqljyK75iDslSBCxCKQOaZnqwMbZ_lA_rHd04hBIsdd2gIv/pub?gid=680774096&single=true&output=csv\")\nstr(time_use)"
    },
    {
      "cell_type": "markdown",
      "metadata": {
        "cell_id": "a6157a4ac77247b498139f0ec7dbd9cf",
        "deepnote_cell_type": "markdown",
        "tags": []
      },
      "source": "The `time_use` dataset looks at various countries around the world, and depicts the average amount of time people spend doing common activities throughout their day. They were asked to record how much time they spent doing each activity with a daily diary. We have also added other information about each country from a variety of sources.\n\n**Description of Variables:**\n\n- `country` The name of the country\n- `attending_events` Average amount of time (in mins) spent attending events\n- `care_hh_members` Average amount of time (in mins) spent caring for household members\n- `eating_drinking` Average amount of time (in mins) spent eating or drinking\n- `education` Average amount of time (in mins) spent at school\n- `housework` Average amount of time (in mins) spent doing housework\n- `other_leisure` Average amount of time (in mins) spent doing leisure activities\n- `other_unpaid_wk_volun` Average amount of time (in mins) spent doing unpaid work or volunteerism\n- `paid_work` Average amount of time (in mins) spent doing paid work\n- `personal_care` Average amount of time (in mins) spent on personal care\n- `friends` Average amount of time (in mins) spent with friends\n- `shopping` Average amount of time (in mins) spent shopping\n- `sleep` Average amount of time (in mins) spent sleeping\n- `sports` Average amount of time (in mins) spent playing sports\n- `tv_radio` Average amount of time (in mins) spent watching TV or listening to the radio\n- `IMF_GDP` The Gross Domestic Product (according to the IMF)\n- `pop_2023` The population in 2023\n- `fertility_rate` The fertility rate (the average number of children per woman)\n- `religiosity` The percentage of people who rate religion as \"important\"\n- `vehicles_per_1k` The number of vehicles (cars, trucks, buses, freight) per 1,000 people\n- `avg_temp_c_1991_2020` The average temperature (in celsius) from 1991-2020"
    },
    {
      "cell_type": "markdown",
      "metadata": {
        "cell_id": "b811c38b2e3e4924b82971a2e81e03ef",
        "deepnote_cell_type": "markdown"
      },
      "source": "## 1.0 - Explore Variation"
    },
    {
      "cell_type": "markdown",
      "metadata": {
        "cell_id": "209d9f5a71584929aa0e2c916048a554",
        "deepnote_cell_type": "markdown"
      },
      "source": "1.1 - How do countries spend their time? Pick an outcome variable you are interested in exploring and create a visualization to explore the distribution. Describe the shape, center, spread, and any oddities."
    },
    {
      "cell_type": "markdown",
      "metadata": {
        "cell_id": "cb47478edf06477580c82a24c343d43f",
        "deepnote_cell_type": "markdown"
      },
      "source": "1.2 - Develop a theory to explain some variation in your outcome variable and write it as a word equation."
    },
    {
      "cell_type": "markdown",
      "metadata": {
        "cell_id": "e51faa32f9744852b5402d8251e90dd0",
        "deepnote_cell_type": "markdown"
      },
      "source": "## 2.0 - Model Variation"
    },
    {
      "cell_type": "markdown",
      "metadata": {
        "cell_id": "eab8efeda4154aabb5a78f79dce7a190",
        "deepnote_cell_type": "markdown"
      },
      "source": "2.1 - Create a visualization to represent your hypothesis. What do you notice?"
    },
    {
      "cell_type": "markdown",
      "metadata": {
        "cell_id": "3db5a4972e87490fb6d7ddba375d4177",
        "deepnote_cell_type": "markdown"
      },
      "source": "2.2 - Fit your model as an additive model and as an interaction model, then create visualizations to depict those models. Try adding the empty model as well."
    },
    {
      "cell_type": "markdown",
      "metadata": {
        "cell_id": "b9d1fb75054c4b609567878c5b5916fc",
        "deepnote_cell_type": "markdown"
      },
      "source": "2.3 - Describe the trend you are seeing in the models. Are they similar or very different from the empty model? Are they similar or very different from each other? What does this suggest?"
    },
    {
      "cell_type": "markdown",
      "metadata": {
        "cell_id": "4a58f766391041dd910539a45dd7a72f",
        "deepnote_cell_type": "markdown"
      },
      "source": "## 3.0 - Evaluate Models"
    },
    {
      "cell_type": "markdown",
      "metadata": {
        "cell_id": "91d390fa76e044a5955c3cfde923d26d",
        "deepnote_cell_type": "markdown"
      },
      "source": "3.1 - Evaluate your models and provide a rationalization for which model to retain: the empty model, the additive model, or the interaction model. Use statistics to back up your answer."
    },
    {
      "cell_type": "markdown",
      "metadata": {
        "cell_id": "c15f34e8c069478388e6c4913c08d24c",
        "deepnote_cell_type": "markdown"
      },
      "source": "3.2 - Summarize what you have discovered about how countries spend their time. "
    }
  ],
  "metadata": {
    "deepnote_notebook_id": "82d83479e47e41cda43530c501451a86",
    "kernelspec": {
      "display_name": "R",
      "language": "R",
      "name": "ir"
    },
    "language_info": {
      "codemirror_mode": "r",
      "file_extension": ".r",
      "mimetype": "text/x-r-source",
      "name": "R",
      "pygments_lexer": "r",
      "version": "4.3.3"
    },
    "nbsimplegrader": {
      "publish_config": {
        "classes": [],
        "options": [],
        "tools": []
      }
    }
  },
  "nbformat": 4,
  "nbformat_minor": 1
}