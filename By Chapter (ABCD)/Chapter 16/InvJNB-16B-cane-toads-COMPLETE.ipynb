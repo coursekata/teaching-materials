{
  "cells": [
    {
      "cell_type": "markdown",
      "metadata": {
        "cell_id": "fe26c8dcfac04330ab095b788432076c",
        "deepnote_cell_type": "markdown",
        "tags": []
      },
      "source": "<div class=\"alert alert-block alert-danger\">\n\n# 16B: Invasive Cane Toads (COMPLETE)\n\n*This notebook is intended for students who have completed:*\n \n**Page 16.8**\n\n**Use with textbook version 6.0+**\n\n</div>"
    },
    {
      "cell_type": "markdown",
      "metadata": {
        "cell_id": "5693f0b5007a439bbe547b4b5c87c03d",
        "deepnote_cell_type": "markdown",
        "tags": []
      },
      "source": "<div class=\"alert alert-block alert-warning\">\n\n#### Summary of Notebook:\n\nIn this lesson, students will extend their analyses to evaluate a multivariate model with two categorical predictors. To understand what an \"interaction\" is, we want students to consider whether this is a situation where the interaction model is better or the additive model is better.  \n\n#### Includes:\n\n- Understanding what it means for an effect to be different at various levels of a predictor variable. Specifically, the presence of a tadpole definitely leads to some egg eating. But it's particularly true in the case of one type of egg (R. marina or cane toads). \n- Interpreting the overall PRE, F, and p-value (the Model row of the ANOVA table)\n- Understanding why an interaction model might explain variation better than an additive model.\n\nLink to original study: https://onlinelibrary.wiley.com/doi/10.1002/ece3.8655 \n\n</div>"
    },
    {
      "cell_type": "markdown",
      "metadata": {
        "cell_id": "4e0f181101de4d639148a17680f5517f",
        "deepnote_cell_type": "markdown",
        "tags": []
      },
      "source": "<div class=\"alert alert-block alert-success\">\n\n## Approximate time to complete Notebook: 30-45 Mins\n\n</div>"
    },
    {
      "cell_type": "code",
      "execution_count": null,
      "metadata": {
        "cell_id": "14ecedb74b244453a65a55b6d0c31f2b",
        "deepnote_cell_type": "code",
        "deepnote_to_be_reexecuted": false,
        "execution_context_id": "16541c93-93fc-455d-b087-42caeaf26f5d",
        "execution_millis": 1947,
        "execution_start": 1745863454297,
        "output_cleared": false,
        "source_hash": "75b327fe",
        "tags": [],
        "trusted": true
      },
      "outputs": [],
      "source": "# this loads the packages and functions used in coursekata \nsuppressPackageStartupMessages({\n    library(coursekata)\n})\n\n# loads data & creates factor variables\nTadpoleStudy <- read.csv(\"https://docs.google.com/spreadsheets/d/e/2PACX-1vSPT7yMl24I6CgwSL8xKcBRydgv9nE5SfCaQyHurD9daL07JbM-u2jgqt1D40uoAh5ADDohudxatGN8/pub?gid=0&single=true&output=csv\")\n"
    },
    {
      "cell_type": "markdown",
      "metadata": {
        "cell_id": "f3a8db8d00db4f61b5dfce5aba41a503",
        "deepnote_cell_type": "markdown",
        "tags": []
      },
      "source": "<img src=\"https://ichef.bbci.co.uk/news/976/cpsprodpb/12A80/production/_95261467_unspecified.jpg.webp\" width=80%>\n\n\nThe cane toad (*Rhinella marina*; also called *Bufo marinus*) is a large poisonous toad species (pictured above from [the BBC](https://www.bbc.com/news/world-australia-39348313)). It's native to South America but 101 toads were introduced to Australia in 1935 as a form of pest control: to eat sugar cane beetles. Today, an estimated 1.5 billion of these prolific toads have invaded most of northwestern Australia, [where they've caused widespread death](https://www.science.org/content/article/long-dead-cane-toads-continue-haunt-australian-wildlife) among native reptiles and marsupials that try to eat them."
    },
    {
      "cell_type": "markdown",
      "metadata": {
        "cell_id": "0beaf1bcccfb48c79b52051682963d32",
        "deepnote_cell_type": "markdown",
        "tags": []
      },
      "source": "<img src=\"https://coursekata-course-assets.s3.us-west-1.amazonaws.com/UCLATALL/czi-stats-course/jnb_bq7h3Z29-image.png\" width=200 style=\"float: left; padding: 0px 20px 0px 0px;\">\n\n## Tadpoles Eating Future Tadpoles\n\n[Researchers from the University of Sydney](https://onlinelibrary.wiley.com/doi/10.1002/ece3.8655) conducted a laboratory study to see whether R. marina tadpoles would eat eggs from different frog or toad species. For each of 6 different species (C. alboguttata, C. brevipes, L. gracilenta, L. rubella, P. ornatum, and R. marina), 10 eggs from a single clutch were added to each of 20 containers. Ten containers were randomly chosen as the predation treatment and had one R. marina tadpole added. The remaining 10 containers served as the control group. The number of eggs surviving 72 hours later were counted by scientists.\n\nThe `TadpoleStudy` data frame has data from these 120 containers. These are the variables:\n\n- `EggSpecies` the species of frog or toad of the eggs\n- `Tadpole`  whether a tadpole was introduced to the container (\"TadPresent\") or not (\"TadAbsent\")\n- `TadSpecies` the species of the tadpole (all were \"R. marina\" tadpoles)\n- `TimeBlock` the day the experiment was carried out\n- `Dead` the number of eggs that did not survive after 72 hours\n- `Alive` the number of eggs that did survive after 72 hours\n"
    },
    {
      "cell_type": "markdown",
      "metadata": {
        "cell_id": "0f9c27114a914a01a1c4dbc6c13c1ce8",
        "deepnote_cell_type": "markdown"
      },
      "source": "<div class=\"alert alert-block alert-success\">\n\n### 1.0 - Approximate Time: 5-10 mins\n\n</div>"
    },
    {
      "cell_type": "markdown",
      "metadata": {
        "cell_id": "443491aea6f9449ea4ad7f558de70d60",
        "deepnote_cell_type": "markdown",
        "tags": []
      },
      "source": "### 1.0: Explore Variation in Survival\n"
    },
    {
      "cell_type": "markdown",
      "metadata": {
        "cell_id": "5f478f12cc794f18a4f7021fe1e59e2a",
        "deepnote_cell_type": "markdown",
        "tags": []
      },
      "source": "**1.1:** Explore this data set. Which variables might help us predict how many eggs survive (`Alive`)?\n\nWrite your idea as a word equation and explore the variation in survival with a graph."
    },
    {
      "cell_type": "markdown",
      "metadata": {
        "cell_id": "f81bf2ea35e9496f96cd6612a2f7d4b9",
        "deepnote_cell_type": "markdown",
        "tags": []
      },
      "source": "<div class=\"alert alert-block alert-warning\">\n\n**Sample Response:**\n\nAlive = EggSpecies + Tadpole + Other Stuff\n\n</div>"
    },
    {
      "cell_type": "code",
      "execution_count": null,
      "metadata": {
        "allow_embed": false,
        "cell_id": "586c39e2f63e4493a15425cde8698fbd",
        "deepnote_cell_type": "code",
        "deepnote_to_be_reexecuted": false,
        "execution_context_id": "16541c93-93fc-455d-b087-42caeaf26f5d",
        "execution_millis": 498,
        "execution_start": 1745863456297,
        "output_cleared": false,
        "source_hash": "12b628eb",
        "trusted": true
      },
      "outputs": [],
      "source": "# Sample Response\ngf_jitter(Alive ~ EggSpecies, color=~Tadpole, data = TadpoleStudy) %>%\n  gf_facet_grid(Tadpole ~ .)"
    },
    {
      "cell_type": "markdown",
      "metadata": {
        "cell_id": "e2c82b814ab346d88f496fb7c8a67b1d",
        "deepnote_cell_type": "markdown"
      },
      "source": "<div class=\"alert alert-block alert-success\">\n\n### 2.0 - Approximate Time: 20-25 mins\n\n</div>"
    },
    {
      "cell_type": "markdown",
      "metadata": {
        "cell_id": "5e0d8f9bce6b4c009dd0a4b3ef2b843a",
        "deepnote_cell_type": "markdown",
        "tags": []
      },
      "source": "### 2.0: Model Variation in Survival"
    },
    {
      "cell_type": "markdown",
      "metadata": {
        "cell_id": "a6f940457cae41be834fda6b92063ed1",
        "deepnote_cell_type": "markdown"
      },
      "source": "**2.1:** Do you think this data requires an interaction model? Or will an additive model suffice?"
    },
    {
      "cell_type": "markdown",
      "metadata": {
        "cell_id": "9e9fcd4545ca44f2bb3d1babe602497b",
        "deepnote_cell_type": "markdown",
        "tags": []
      },
      "source": "<div class=\"alert alert-block alert-warning\">\n\n**Sample Response:**\n\nStudent intuitions may vary. You might suggest that they trying drawing the model lines where they think they should be (before fitting/overlaying the model).\n\n</div>"
    },
    {
      "cell_type": "markdown",
      "metadata": {
        "cell_id": "514d26bf8f07494e8044ed13a39c69df",
        "deepnote_cell_type": "markdown",
        "tags": []
      },
      "source": "**2.2:** Make a visualization that include the additive model and another visualization that includes the interaction model. "
    },
    {
      "cell_type": "code",
      "execution_count": null,
      "metadata": {
        "cell_id": "b4004916a1264519a08008e3cf8899f1",
        "deepnote_cell_type": "code",
        "deepnote_to_be_reexecuted": false,
        "execution_context_id": "16541c93-93fc-455d-b087-42caeaf26f5d",
        "execution_millis": 507,
        "execution_start": 1745864015187,
        "source_hash": "7b57903d",
        "tags": [],
        "trusted": true
      },
      "outputs": [],
      "source": "# Sample Response\n\ngf_jitter(Alive ~ EggSpecies, color = ~Tadpole, data = TadpoleStudy, width = .1) %>%\ngf_lims(y = c(-1, 12))\n\nadd_model <- lm(Alive ~ EggSpecies+Tadpole, data = TadpoleStudy)\ngf_jitter(Alive ~ EggSpecies, color = ~Tadpole, data = TadpoleStudy, width = .1) %>%\n  gf_model(add_model)%>%\ngf_lims(y = c(-1, 12))\n\ninteraction_model <- lm(Alive ~ EggSpecies*Tadpole, data = TadpoleStudy)\ngf_jitter(Alive ~ EggSpecies, color = ~Tadpole, data = TadpoleStudy, width = .1) %>%\n  gf_model(interaction_model)%>%\ngf_lims(y = c(-1, 12))"
    },
    {
      "cell_type": "markdown",
      "metadata": {
        "cell_id": "1a4f9445771247b18fe2bd94fdaf56d9",
        "deepnote_cell_type": "markdown",
        "tags": []
      },
      "source": "**2.3:** Which model do you think explains more variation? Why does that model look better to you? What part of the model is *able* to do that?"
    },
    {
      "cell_type": "markdown",
      "metadata": {
        "cell_id": "06ab8ea58fbf452c859981b2dd26e1df",
        "deepnote_cell_type": "markdown",
        "tags": []
      },
      "source": "<div class=\"alert alert-block alert-warning\">\n\n**Sample Response:**\n\nStudent intuitions may still vary, but overall they should notice that the interaction model seems to be a better fit, expecially when looking at the R. marina group.\n\n</div>"
    },
    {
      "cell_type": "markdown",
      "metadata": {
        "cell_id": "aaf7d273b55048b6866ab996a8d0c8fa",
        "deepnote_cell_type": "markdown",
        "tags": []
      },
      "source": "**2.4:** Predict the PRE you might expect from each of these models based on just looking at the model predictions."
    },
    {
      "cell_type": "markdown",
      "metadata": {
        "cell_id": "90da124431ac4b8f9dde3840bd787d7a",
        "deepnote_cell_type": "markdown",
        "tags": []
      },
      "source": "<div class=\"alert alert-block alert-warning\">\n\n**Sample Response:**\n\nStudents may not be able to predict a precise PRE value, but they should be able to say that the interaction model will likely have a higher PRE than the additive model, and that the PREs for both will likely be greater than zero.\n\n</div>"
    },
    {
      "cell_type": "markdown",
      "metadata": {
        "cell_id": "a11ff3fdd8784ad5a32f12c0a7126e42",
        "deepnote_cell_type": "markdown"
      },
      "source": "<div class=\"alert alert-block alert-success\">\n\n### 3.0 - Approximate Time: 5-10 mins\n\n</div>"
    },
    {
      "cell_type": "markdown",
      "metadata": {
        "cell_id": "74bcbc7380b54fe5a4d7bef461c825ce",
        "deepnote_cell_type": "markdown",
        "tags": []
      },
      "source": "### 3.0: Evaluate Models"
    },
    {
      "cell_type": "markdown",
      "metadata": {
        "cell_id": "5c9197f4e18a48cbab6b3c08091223a3",
        "deepnote_cell_type": "markdown",
        "tags": []
      },
      "source": "**3.1:** Use the ANOVA tables to check your intuitions about these two models. Which is a better fit to the data?"
    },
    {
      "cell_type": "code",
      "execution_count": null,
      "metadata": {
        "cell_id": "7b967406e88647d6ba5b786201468f3c",
        "deepnote_cell_type": "code",
        "deepnote_to_be_reexecuted": false,
        "execution_context_id": "16541c93-93fc-455d-b087-42caeaf26f5d",
        "execution_millis": 1,
        "execution_start": 1745863457697,
        "source_hash": "cbe5028f",
        "trusted": true
      },
      "outputs": [],
      "source": "# Sample Response\nsupernova(add_model)\nsupernova(interaction_model)"
    },
    {
      "cell_type": "markdown",
      "metadata": {
        "cell_id": "d55d3a8104e84dac8a56e1e5832c6b17",
        "deepnote_cell_type": "markdown",
        "tags": []
      },
      "source": "<div class=\"alert alert-block alert-warning\">\n\n**Sample Response:**\n\nThe overall Model PRE for the interaction model is much higher than the Model PRE for the additive model, and the PRE for the interaction term (EggSpecies:Tadpole) is also quite high.\n\n</div>"
    },
    {
      "cell_type": "markdown",
      "metadata": {
        "cell_id": "92eb3a52d6334525b9cff2fb8fcfd322",
        "deepnote_cell_type": "markdown",
        "tags": []
      },
      "source": "**3.2:** What does this mean about these tadpoles?"
    },
    {
      "cell_type": "markdown",
      "metadata": {
        "cell_id": "33b13302aa3746a2b3c48335d067a38f",
        "deepnote_cell_type": "markdown",
        "tags": []
      },
      "source": "<div class=\"alert alert-block alert-warning\">\n\n**Sample Response:**\n\nThey are cannibalistic! \n\nThis should raise more questions such as why are they only eating their own kind? If students want to read more about scientists' hypothesis about why this is happening, check out this [NYTimes article](https://www.nytimes.com/2022/03/15/science/cane-toads-cannibals.html).\n\n</div>"
    }
  ],
  "metadata": {
    "deepnote_notebook_id": "35cc2dff1f0b43bcb84a68cc5e177597",
    "kernelspec": {
      "display_name": "R",
      "language": "R",
      "name": "ir"
    },
    "language_info": {
      "codemirror_mode": "r",
      "file_extension": ".r",
      "mimetype": "text/x-r-source",
      "name": "R",
      "pygments_lexer": "r",
      "version": "4.3.3"
    },
    "nbsimplegrader": {
      "publish_config": {
        "classes": [],
        "options": [],
        "tools": []
      }
    }
  },
  "nbformat": 4,
  "nbformat_minor": 1
}