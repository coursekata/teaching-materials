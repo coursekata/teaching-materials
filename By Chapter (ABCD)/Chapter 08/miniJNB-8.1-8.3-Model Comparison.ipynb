{
  "cells": [
    {
      "cell_type": "markdown",
      "metadata": {
        "cell_id": "ac933972-2116-4eb2-add6-27266b1063a8"
      },
      "source": "# Mini JNB 8.1-8.3 - Model Comparison (COMPLETE)"
    },
    {
      "cell_type": "code",
      "execution_count": null,
      "metadata": {
        "cell_id": "86968422-31d9-4355-977e-8ab4799e937d",
        "trusted": true
      },
      "outputs": [],
      "source": "# This code will load the R packages we will use\nsuppressPackageStartupMessages({\n    library(coursekata)\n})"
    },
    {
      "cell_type": "markdown",
      "metadata": {
        "cell_id": "1373d2ec-6ddf-4692-a848-171dc40ee40e"
      },
      "source": "## #1:\n\nSave the class data in R:"
    },
    {
      "cell_type": "code",
      "execution_count": null,
      "metadata": {
        "trusted": true
      },
      "outputs": [],
      "source": "ID <- c(1, 2, 3, 4, 5, 6, 7, 8, 9, 10, 11, 12, 13, 14, 15, 16, 17, 18, 19)\ntime <- c()\nswim_ability <- c()\n\nbreath <- data.frame(ID, time, swim_ability)"
    },
    {
      "cell_type": "markdown",
      "metadata": {},
      "source": "## #2:\n\nCreate a new variable called `swim` to make two groups.  Strong swimmer vs. Non-strong swimmers (includes weak and cannot swim groups)"
    },
    {
      "cell_type": "code",
      "execution_count": null,
      "metadata": {
        "trusted": true
      },
      "outputs": [],
      "source": "breath$swim <- ifelse(breath$swim_ability <= \"s\", \"strong\", \"notstrong\")\nbreath"
    },
    {
      "cell_type": "markdown",
      "metadata": {
        "cell_id": "a597e788-306f-47e6-a2e4-a3a17bd968de"
      },
      "source": "## #3:\n\nLet's create three models:\n- The empty model of `time`\n- The 2-group swim model of `time` (using the explanatory variable `swim`)\n- The 3-group swim model of `time` (using the explanatory variable `swim_ability`)\n\n</br> Which model is better?  "
    },
    {
      "cell_type": "code",
      "execution_count": null,
      "metadata": {
        "trusted": true
      },
      "outputs": [],
      "source": "#complete the codes\n\nempty_model <- lm()\nempty_model\n\ntwogroup_model <- lm()\ntwogroup_model\n\nthreegroup_model <- lm()\nthreegroup_model"
    },
    {
      "cell_type": "markdown",
      "metadata": {},
      "source": "## #4:\n\nWhich model is better based on PRE?"
    },
    {
      "cell_type": "code",
      "execution_count": null,
      "metadata": {
        "trusted": true
      },
      "outputs": [],
      "source": "supernova()\nsupernova()"
    }
  ],
  "metadata": {
    "deepnote_execution_queue": [],
    "deepnote_notebook_id": "2b51a89a-e42e-4675-9260-1000d5b5ae22",
    "kernelspec": {
      "display_name": "R",
      "language": "R",
      "name": "ir"
    },
    "language_info": {
      "codemirror_mode": "r",
      "file_extension": ".r",
      "mimetype": "text/x-r-source",
      "name": "R",
      "pygments_lexer": "r",
      "version": "4.3.3"
    },
    "nbsimplegrader": {
      "publish_config": {
        "classes": [],
        "options": [],
        "tools": []
      }
    }
  },
  "nbformat": 4,
  "nbformat_minor": 2
}