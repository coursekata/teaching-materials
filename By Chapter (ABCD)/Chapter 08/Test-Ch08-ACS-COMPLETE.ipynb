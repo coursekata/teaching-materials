{
  "cells": [
    {
      "cell_type": "markdown",
      "metadata": {
        "cell_id": "9580485a4b3245aca8fb2d2b78c0de35",
        "deepnote_cell_type": "markdown",
        "output_cleared": false
      },
      "source": "<div class=\"alert alert-block alert-danger\">\n\n# <center>Test (Ch. 1-8): American Community Survey (ACS) (COMPLETE)</center> \n\n</div>"
    },
    {
      "cell_type": "code",
      "execution_count": null,
      "metadata": {
        "cell_id": "0cf1d540b7104389bc319a01f309a076",
        "deepnote_cell_type": "code",
        "execution_context_id": "e5eb5006-71ba-49b4-80b2-acca5c12dcc3",
        "execution_millis": 978,
        "execution_start": 1742858950109,
        "output_cleared": false,
        "source_hash": "3af3576d",
        "trusted": true
      },
      "outputs": [],
      "source": "# Run this code to load the required packages\nsuppressMessages(suppressWarnings(suppressPackageStartupMessages({\n  library(coursekata)\n})))\n\nACS <- na.omit(ACS)\nACS$Language <- factor(ACS$Language, levels = c(0,1), labels = c(\"English\", \"Other\"))\nACS$Sex <- factor(ACS$Sex, levels = c(0,1), labels = c(\"Female\", \"Male\"))\nACS$Married <- factor(ACS$Married, levels = c(0,1), labels = c(\"Not Married\", \"Married\"))\nACS$USCitizen <- factor(ACS$USCitizen, levels = c(0,1), labels = c(\"Not Citizen\", \"Citizen\"))\nACS$HealthInsurance <- factor(ACS$HealthInsurance, levels = c(0,1), labels = c(\"Uninsured\", \"Insured\"))"
    },
    {
      "cell_type": "markdown",
      "metadata": {
        "cell_id": "0acf9cba209c448faa18b47d11333677",
        "deepnote_cell_type": "markdown",
        "output_cleared": false
      },
      "source": "The American Community Survey (ACS), administered by the US Census Bureau, is given every year to a random sample of residents from about 3.5 million households (about 3% of all US households). Data on a random sample of 1% of all US residents are made public (after ensuring anonymity), and the data frame `ACS` holds a random sub-sample of 1000 residents surveyed in 2010.\n\nData Frame Name (Preloaded in R): `ACS`\n\nA dataset with 505 observations on the following 9 variables:\n\n- `Sex` \t\t\tSex of resident (Female or Male)\n- `Age` \t\t\tAge in years \n- `Married` \t\tMarital status of resident (Not Married or Married)\n- `Income` \t\t    Wages and salary for the past 12 months (in $1,000's) \n- `HoursWk` \t\tHours of work per week \n- `Race` \t\t\tRace of the resident (asian, black, other, or white) \n- `USCitizen` \t\tWhether the resident is a citizen (Citizen or Noncitizen)\n- `HealthInsurance` \tWhether the resident has health insurance (Insured or Uninsured)\n- `Language` \t\tLanguage spoken at home (English or Other)"
    },
    {
      "cell_type": "markdown",
      "metadata": {
        "cell_id": "b2d3873c105f454a9288dca3df0e1665",
        "deepnote_cell_type": "markdown",
        "output_cleared": false
      },
      "source": "## Question 1\n\nThe number of hours worked per week should vary among residents. Create a visualization to explore the variability in `HoursWk`. Describe the shape, center, spread, and any weird things. "
    },
    {
      "cell_type": "code",
      "execution_count": null,
      "metadata": {
        "cell_id": "480c5683d2144499b814734a0737f188",
        "deepnote_cell_type": "code",
        "execution_context_id": "e5eb5006-71ba-49b4-80b2-acca5c12dcc3",
        "execution_millis": 566,
        "execution_start": 1742858951139,
        "output_cleared": false,
        "source_hash": "42b0226c",
        "tags": [],
        "trusted": true
      },
      "outputs": [],
      "source": "# Sample histogram\ngf_histogram(~HoursWk, data = ACS, fill = \"lightyellow\", color = \"midnightblue\")\n# Sample boxplot\ngf_boxplot(1 ~ HoursWk, data = ACS, fill = \"lightyellow\", color = \"midnightblue\")%>%gf_jitter(color = \"plum4\")"
    },
    {
      "cell_type": "markdown",
      "metadata": {
        "cell_id": "7359d6ed04404e7ab73f423b6844ec90",
        "deepnote_cell_type": "markdown",
        "output_cleared": false
      },
      "source": "<div class=\"alert alert-block alert-warning\">\n\n**Sample Response**\n\nThe distribution is roughly normal with a huge spike around 40 hours a week. Some people work as little as \nzero hours per week, and there a some people who work as much as 75-100 hours per week.\n\n</div>"
    },
    {
      "cell_type": "markdown",
      "metadata": {
        "cell_id": "cecf939a7cc74ce6ac75c3fb8e1597dd",
        "deepnote_cell_type": "markdown",
        "output_cleared": false
      },
      "source": "## Question 2\n\nThe hours worked per week may vary across states as well. If we had information on the average number of hours worked per week in each state, could we put that new information into the data frame? Why or why not?"
    },
    {
      "cell_type": "markdown",
      "metadata": {
        "cell_id": "c51616d668a5479aa9efc652cadb9f91",
        "deepnote_cell_type": "markdown",
        "output_cleared": false
      },
      "source": "<div class=\"alert alert-block alert-warning\">\n\n**Sample Response**\n\nNo, because the cases in this data frame are residents, not states.\n\n</div>"
    },
    {
      "cell_type": "markdown",
      "metadata": {
        "cell_id": "bf5c762df2414859a4703cd2e7b9ffa2",
        "deepnote_cell_type": "markdown",
        "output_cleared": false
      },
      "source": "## Question 3\n\nLet’s say we want to predict the number of hours worked by a randomly selected resident. In your opinion, which of the following variables would be most helpful in making a better prediction: `Sex` or `Married`? Write a word equation that represents your choice."
    },
    {
      "cell_type": "markdown",
      "metadata": {
        "cell_id": "33cdd9c4444f4808a4f78a3a3a05e529",
        "deepnote_cell_type": "markdown",
        "output_cleared": false
      },
      "source": "<div class=\"alert alert-block alert-warning\">\n\n**Sample Response**\n\n*Students may vary in which variable they think will make a better prediction. They could have one of the \ntwo following word equations.*\n\n**HoursWk = Sex + Other Stuff**\n \nOR\n\n**HoursWk = Married + Other Stuff**\n\n</div>"
    },
    {
      "cell_type": "markdown",
      "metadata": {
        "cell_id": "381ad61c08974a599fe29736d880481f",
        "deepnote_cell_type": "markdown",
        "output_cleared": false
      },
      "source": "## Question 4\n\nWhy do you think that would be the most helpful bit of extra information? (You don’t need any statistics for this argument; this is just what you think. This should be an argument about how you think the world works.)"
    },
    {
      "cell_type": "markdown",
      "metadata": {
        "cell_id": "666803392b8a4bceade0f3437a2848f2",
        "deepnote_cell_type": "markdown",
        "output_cleared": false
      },
      "source": "<div class=\"alert alert-block alert-warning\">\n\n**Sample Response**\n\n*Students will have varied reasons for why they think that variable will be helpful.*\n\n</div>"
    },
    {
      "cell_type": "markdown",
      "metadata": {
        "cell_id": "f892ba87f05b434d987521d520674128",
        "deepnote_cell_type": "markdown",
        "output_cleared": false
      },
      "source": "## Question 5\n\nIf you did not know anything about the randomly selected resident but wanted to make a prediction of their `HoursWk` that would have the least amount of error (i.e., the least amount of sum of squared error), we might simply guess the average amount. Create an empty model for `HoursWk` and write it in GLM notation."
    },
    {
      "cell_type": "code",
      "execution_count": null,
      "metadata": {
        "cell_id": "cff587f2fbbe428b9ae2e3610260d986",
        "deepnote_cell_type": "code",
        "execution_context_id": "e5eb5006-71ba-49b4-80b2-acca5c12dcc3",
        "execution_millis": 0,
        "execution_start": 1742858951759,
        "output_cleared": false,
        "source_hash": "8365bd43",
        "tags": [],
        "trusted": true
      },
      "outputs": [],
      "source": "# Sample empty model\nempty.model <- lm(HoursWk ~ NULL, data = ACS)\nempty.model"
    },
    {
      "cell_type": "markdown",
      "metadata": {
        "cell_id": "c1ee2a5781a8431893a3e1e5a22fae5a",
        "deepnote_cell_type": "markdown",
        "output_cleared": false
      },
      "source": "<div class=\"alert alert-block alert-warning\">\n\n**Sample Response**\n\nHoursWk = 37.11 + $e_i$\n\n</div>"
    },
    {
      "cell_type": "markdown",
      "metadata": {
        "cell_id": "8bc8acf684434c338a5cb8b2f21056fc",
        "deepnote_cell_type": "markdown",
        "output_cleared": false
      },
      "source": "## Question 6\n\nLet's say someone proposes that `Married` might be helpful in predicting the hours worked per week. They ran this code and got this output. Help them put it in GLM notation.\n\n\n`Married.model <- lm(HoursWk ~ Married, data = ACS)`\n\n`Married.model`\n\n\n<img src=\"https://i.postimg.cc/YrgMLmdT/Tests-Ch-7-lm-Output.png\" title=\"Married Model Output\" width=\"400\"/>"
    },
    {
      "cell_type": "markdown",
      "metadata": {
        "cell_id": "6a517129647643fdb68fa7f59644f4f6",
        "deepnote_cell_type": "markdown",
        "output_cleared": false
      },
      "source": "<div class=\"alert alert-block alert-warning\">\n\n**Sample Response**\n\n$HoursWk_i = 35.60 + 2.73 X_i + e_i$\n\nOR\n\n$HoursWk_i = 35.60 + 2.73 Married_i + e_i$\n\n</div>"
    },
    {
      "cell_type": "markdown",
      "metadata": {
        "cell_id": "d71c65b6488b48ae8d7a16df2a45aa4f",
        "deepnote_cell_type": "markdown",
        "output_cleared": false
      },
      "source": "## Question 7\n\nFrom your answer above: \n\n    a. what does 35.6 mean?\n\n    b. what does 2.73 mean?"
    },
    {
      "cell_type": "markdown",
      "metadata": {
        "cell_id": "8f6d9f7798b44ceab4d12b4bf2a016a7",
        "deepnote_cell_type": "markdown",
        "output_cleared": false
      },
      "source": "<div class=\"alert alert-block alert-warning\">\n\n**Sample Response**\n\n- 35.6 is the base mean, constant, or y-intercept ($b_0$) and represents the mean number of hours worked for the Not Married group.\n\n- 2.73 is the increment or slope ($b_1$) and represents the number of hours worked that is added to $b_0$ in order to get the mean number of hours worked for the Married group. \n\n</div>"
    },
    {
      "cell_type": "markdown",
      "metadata": {
        "cell_id": "74e9c50523ef4ac0a00f062fad34ea6a",
        "deepnote_cell_type": "markdown",
        "output_cleared": false
      },
      "source": "## Question 8\n\nIf you run the code below you will see a jitter plot. \n\n`gf_jitter(HoursWk ~ Married, data = ACS, size = 1, alpha = .5, height = 0)`\n\nNote, there are no models depicted in the visualization. \n\nAdd a line to represent the empty model, and also add in the `Married` model (*in a different color*)."
    },
    {
      "cell_type": "code",
      "execution_count": null,
      "metadata": {
        "cell_id": "8f930c2bc8af43aa81aa2e17d718dbde",
        "deepnote_cell_type": "code",
        "execution_context_id": "e5eb5006-71ba-49b4-80b2-acca5c12dcc3",
        "execution_millis": 179,
        "execution_start": 1742858951808,
        "output_cleared": false,
        "source_hash": "dab3913b",
        "trusted": true
      },
      "outputs": [],
      "source": "# Save the predictions from the Married model into the data frame\nmarried.model <- lm(HoursWk ~ Married, data = ACS)\nACS$HoursPred <- predict(married.model)\nhead(ACS)\n\n# Add the empty model and the Married model\ngf_jitter(HoursWk ~ Married, data = ACS, size = 1, alpha = .5, height = 0) %>%\ngf_hline(yintercept = 37.11, color = \"green\") %>%\ngf_jitter(HoursPred ~ Married, color = \"red\", height = 0)\n\n"
    },
    {
      "cell_type": "markdown",
      "metadata": {
        "cell_id": "96396988f892421c8962ad5286fa84d9",
        "deepnote_cell_type": "markdown",
        "output_cleared": false
      },
      "source": "## Question 9\n\nNotice that there is a lot of data right around 40 `HoursWk`. What does that mean? (Choose one of the answers below.)\n\n- The empty model should predict that a randomly selected person works 40 hours per week.\n- We should predict that a random person works 40 hours per week in order to minimize error measured as SS.\n- 40 is probably the mode of `HoursWk`.\n- All of the above are true statements."
    },
    {
      "cell_type": "markdown",
      "metadata": {
        "cell_id": "8ac672d5cf764ee89f825e7fd557f5fb",
        "deepnote_cell_type": "markdown",
        "output_cleared": false,
        "tags": []
      },
      "source": "<div class=\"alert alert-block alert-warning\">\n\n**Sample Response**\n\n40 is probably the mode of `HoursWk`.\n\n</div>"
    },
    {
      "cell_type": "markdown",
      "metadata": {
        "cell_id": "d33916267b724797abecbc670053790c",
        "deepnote_cell_type": "markdown",
        "output_cleared": false
      },
      "source": "## Question 10\n\nWhen we square and add all the residuals from the empty model, what would we end up with? (Choose one of the answers below.)\n\n- SS Total\n- MS Total\n- SS Error\n- SS Model"
    },
    {
      "cell_type": "markdown",
      "metadata": {
        "cell_id": "a4803fa8010d46bebfefed9f7206d263",
        "deepnote_cell_type": "markdown",
        "output_cleared": false,
        "tags": []
      },
      "source": "<div class=\"alert alert-block alert-warning\">\n\n**Sample Response**\n\nWe end up with SS Total.\n\n</div>"
    },
    {
      "cell_type": "markdown",
      "metadata": {
        "cell_id": "089f5d9c751b4740812878dbf31e34b7",
        "deepnote_cell_type": "markdown",
        "output_cleared": false
      },
      "source": "## Question 11\n\nDoes the `Married` model explain more variation than the empty model? Why do you think so?"
    },
    {
      "cell_type": "markdown",
      "metadata": {
        "cell_id": "43235ed5dd224ed0993308b91fa1e681",
        "deepnote_cell_type": "markdown",
        "output_cleared": false
      },
      "source": "<div class=\"alert alert-block alert-warning\">\n\n**Sample Response**\n\n*Some students may think the `Married` model does explain more variation because of the slight differences \nin group means (and the model is technically significant at p < .05, although with a very low PRE of \n.01). However, other students may think it does not explain more because there is not much difference \nbetween the two groups. They may also mention that all explanatory models will likely explain more \nvariation than an empty model.*\n\n</div>"
    },
    {
      "cell_type": "markdown",
      "metadata": {
        "cell_id": "4b73d67dd620416ab148fc9cbf379dc8",
        "deepnote_cell_type": "markdown",
        "output_cleared": false
      },
      "source": "## Question 12\n\nLet's say you're having second thoughts on this `Married` model. Now you're thinking `Sex` would be a better predictor. Let’s try it out and create this model and save it as `Sex.model`."
    },
    {
      "cell_type": "code",
      "execution_count": null,
      "metadata": {
        "cell_id": "e88dca6e8fc443b992e5e6e74edf615e",
        "deepnote_cell_type": "code",
        "execution_context_id": "e5eb5006-71ba-49b4-80b2-acca5c12dcc3",
        "execution_millis": 0,
        "execution_start": 1742858952049,
        "output_cleared": false,
        "source_hash": "54129b5d",
        "trusted": true
      },
      "outputs": [],
      "source": "# Create the Sex.model\nSex.model <- lm(HoursWk ~ Sex, data = ACS)\nSex.model"
    },
    {
      "cell_type": "markdown",
      "metadata": {
        "cell_id": "6c6538ebef904490a94000322bb96ccf",
        "deepnote_cell_type": "markdown",
        "output_cleared": false
      },
      "source": "## Question 13\n\nIf we write the `Sex` model in GLM notation like this: *$Y_{i}$* = 34.31 + 5.76*$X_{i}$* + *$e_{i}$*  \n\n   a. What does the *$Y_{i}$* mean?\n\n   b. What does the *$X_{i}$* mean?"
    },
    {
      "cell_type": "markdown",
      "metadata": {
        "cell_id": "0eaf3d75b7924da2839931c062163667",
        "deepnote_cell_type": "markdown",
        "output_cleared": false
      },
      "source": "<div class=\"alert alert-block alert-warning\">\n\n**Sample Response**\n\n- The $Y_i$ is the outcome `HoursWk`.\n\n- The $X_i$ is the explanatory variable `Sex` (male or female).\n\n</div>"
    },
    {
      "cell_type": "markdown",
      "metadata": {
        "cell_id": "bad88aebb9d4493a958bbb72e9257a2c",
        "deepnote_cell_type": "markdown",
        "output_cleared": false
      },
      "source": "## Question 14\n\nTake a look at the PRE (which can be found in a supernova table) for the `Sex.model`. What does that PRE mean?"
    },
    {
      "cell_type": "code",
      "execution_count": null,
      "metadata": {
        "cell_id": "a0f21c0ba090481caa4d912dcf8dbfb5",
        "deepnote_cell_type": "code",
        "execution_context_id": "e5eb5006-71ba-49b4-80b2-acca5c12dcc3",
        "execution_millis": 0,
        "execution_start": 1742859172279,
        "output_cleared": false,
        "source_hash": "1cea9983",
        "tags": [],
        "trusted": true
      },
      "outputs": [],
      "source": "# Check the PRE in the supernova table\nsupernova(Sex.model)"
    },
    {
      "cell_type": "markdown",
      "metadata": {
        "cell_id": "5aa4fc8136fa492d82c0089f8eda60c0",
        "deepnote_cell_type": "markdown",
        "output_cleared": false
      },
      "source": "<div class=\"alert alert-block alert-warning\">\n\n**Sample Response**\n\nThis PRE means that about 4% of the variation in `HoursWk` is explained by the **Sex** model.\n\n</div>"
    },
    {
      "cell_type": "markdown",
      "metadata": {
        "cell_id": "7db356902b5742c9a443daf82cafe4a2",
        "deepnote_cell_type": "markdown",
        "output_cleared": false
      },
      "source": "## Question 15\n\nWhich model, the `Married` model or the `Sex` model, explains more of the variation in hours worked per week? How do you know that?"
    },
    {
      "cell_type": "markdown",
      "metadata": {
        "cell_id": "41ef6a08015f4be193ae42dc0158c2e3",
        "deepnote_cell_type": "markdown",
        "output_cleared": false
      },
      "source": "<div class=\"alert alert-block alert-warning\">\n\n**Sample Response**\n\nThe `Sex` model explains more of the variation because it has a higher PRE value (4%) compared to the `Married` model (about 1%).\n\n</div>"
    }
  ],
  "metadata": {
    "deepnote_notebook_id": "e30a2b368eec426c9508a53dfcb0eb59",
    "kernelspec": {
      "display_name": "R",
      "language": "R",
      "name": "ir"
    },
    "language_info": {
      "codemirror_mode": "r",
      "file_extension": ".r",
      "mimetype": "text/x-r-source",
      "name": "R",
      "pygments_lexer": "r",
      "version": "4.3.3"
    },
    "nbsimplegrader": {
      "publish_config": {
        "classes": [],
        "options": [],
        "tools": []
      }
    }
  },
  "nbformat": 4,
  "nbformat_minor": 1
}