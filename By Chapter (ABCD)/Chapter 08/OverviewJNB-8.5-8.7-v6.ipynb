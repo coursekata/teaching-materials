{
  "cells": [
    {
      "cell_type": "markdown",
      "metadata": {},
      "source": "# Effect Size and Revisiting Randomness\n\n## Chapter 8.5-8.7 Overview Notebook"
    },
    {
      "cell_type": "code",
      "execution_count": null,
      "metadata": {
        "cell_id": "00001-729831c0-b16b-460a-acfa-b932eab731be",
        "deepnote_cell_type": "code",
        "scrolled": true,
        "trusted": true
      },
      "outputs": [],
      "source": "# run this to set up the notebook\nlibrary(coursekata)\nlibrary(gridExtra)\n\n# set styles\ncss <- suppressWarnings(readLines(\"https://raw.githubusercontent.com/jimstigler/jupyter/master/ck_jupyter_styles_v2.css\"))\nIRdisplay::display_html(sprintf('<style>%s</style>', paste(css, collapse = \"\\n\")))\n\n# add functions directly from github\nsource(\"https://raw.githubusercontent.com/coursekata/beta-functions/refs/heads/main/gf_sd_ruler.R\")\n\n# these two lines put in all the data\nset.seed(1)\nlibrary(base64enc)\ncat_or_dog <- unserialize(base64decode('WAoAAAADAAQDAwADBQAAAAAFVVRGLTgAAAMTAAAAAgAAABAAAAA8AAQACQAAAANEb2cABAAJAAAAA0RvZwAEAAkAAAADRG9nAAQACQAAAANEb2cABAAJAAAAA0RvZwAEAAkAAAADRG9nAAQACQAAAANEb2cABAAJAAAAA0RvZwAEAAkAAAADRG9nAAQACQAAAANEb2cABAAJAAAAA0RvZwAEAAkAAAADRG9nAAQACQAAAANEb2cABAAJAAAAA0RvZwAEAAkAAAADRG9nAAQACQAAAANEb2cABAAJAAAAA0RvZwAEAAkAAAADRG9nAAQACQAAAANEb2cABAAJAAAAA0RvZwAEAAkAAAADRG9nAAQACQAAAANEb2cABAAJAAAAA0RvZwAEAAkAAAADRG9nAAQACQAAAANEb2cABAAJAAAAA0RvZwAEAAkAAAADRG9nAAQACQAAAANEb2cABAAJAAAAA0RvZwAEAAkAAAADRG9nAAQACQAAAANDYXQABAAJAAAAA0NhdAAEAAkAAAADQ2F0AAQACQAAAANDYXQABAAJAAAAA0NhdAAEAAkAAAADQ2F0AAQACQAAAANDYXQABAAJAAAAA0NhdAAEAAkAAAADQ2F0AAQACQAAAANDYXQABAAJAAAAA0NhdAAEAAkAAAADQ2F0AAQACQAAAANDYXQABAAJAAAAA0NhdAAEAAkAAAADQ2F0AAQACQAAAANDYXQABAAJAAAAA0NhdAAEAAkAAAADQ2F0AAQACQAAAANDYXQABAAJAAAAA0NhdAAEAAkAAAADQ2F0AAQACQAAAANDYXQABAAJAAAAA0NhdAAEAAkAAAADQ2F0AAQACQAAAANDYXQABAAJAAAAA0NhdAAEAAkAAAADQ2F0AAQACQAAAANDYXQABAAJAAAAA0NhdAAEAAkAAAADQ2F0AAAADgAAADxAH5mZmZmZmkAVMzMzMzMzQBjMzMzMzM1AFZmZmZmZmkAIAAAAAAAAQBMzMzMzMzNAEzMzMzMzM0AVmZmZmZmaQB4AAAAAAABAG5mZmZmZmkAUzMzMzMzNQBQAAAAAAABAGzMzMzMzM0AaAAAAAAAAQBEzMzMzMzNAEMzMzMzMzUAYzMzMzMzNQBuZmZmZmZpAFTMzMzMzM0AcZmZmZmZmQBjMzMzMzM1AEZmZmZmZmkAYZmZmZmZmQAwAAAAAAABAIDMzMzMzM0AiMzMzMzMzQBMzMzMzMzNADMzMzMzMzUAaAAAAAAAAQBUzMzMzMzNAIZmZmZmZmkARmZmZmZmaQBbMzMzMzM1AEmZmZmZmZkAJmZmZmZmaQBMzMzMzMzM/9MzMzMzMzUAcZmZmZmZmQBMzMzMzMzNAIMzMzMzMzUAVmZmZmZmaQAmZmZmZmZpAFmZmZmZmZkAGZmZmZmZmQAGZmZmZmZpAFAAAAAAAAEANmZmZmZmaQBIAAAAAAABAEmZmZmZmZkALMzMzMzMzQAwAAAAAAABAETMzMzMzM0AaZmZmZmZmP/zMzMzMzM1AFmZmZmZmZkAUZmZmZmZmQBmZmZmZmZpAEAAAAAAAAEAUzMzMzMzNQBQAAAAAAAAAAAQCAAAAAQAEAAkAAAAFbmFtZXMAAAAQAAAAAgAEAAkAAAAIcGV0X3R5cGUABAAJAAAACWhhcHBpbmVzcwAABAIAAAABAAQACQAAAAVjbGFzcwAAABAAAAABAAQACQAAAApkYXRhLmZyYW1lAAAEAgAAAAEABAAJAAAACXJvdy5uYW1lcwAAAA0AAAACgAAAAP///8QAAAD+'\n)) %>%\n  sample()%>%\n  select(-orig.id)\ncat_or_both <- unserialize(base64decode('WAoAAAADAAQDAwADBQAAAAAFVVRGLTgAAAMTAAAAAgAAABAAAAA8AAQACQAAAAdDYXQrRG9nAAQACQAAAAdDYXQrRG9nAAQACQAAAAdDYXQrRG9nAAQACQAAAAdDYXQrRG9nAAQACQAAAAdDYXQrRG9nAAQACQAAAAdDYXQrRG9nAAQACQAAAAdDYXQrRG9nAAQACQAAAAdDYXQrRG9nAAQACQAAAAdDYXQrRG9nAAQACQAAAAdDYXQrRG9nAAQACQAAAAdDYXQrRG9nAAQACQAAAAdDYXQrRG9nAAQACQAAAAdDYXQrRG9nAAQACQAAAAdDYXQrRG9nAAQACQAAAAdDYXQrRG9nAAQACQAAAAdDYXQrRG9nAAQACQAAAAdDYXQrRG9nAAQACQAAAAdDYXQrRG9nAAQACQAAAAdDYXQrRG9nAAQACQAAAAdDYXQrRG9nAAQACQAAAAdDYXQrRG9nAAQACQAAAAdDYXQrRG9nAAQACQAAAAdDYXQrRG9nAAQACQAAAAdDYXQrRG9nAAQACQAAAAdDYXQrRG9nAAQACQAAAAdDYXQrRG9nAAQACQAAAAdDYXQrRG9nAAQACQAAAAdDYXQrRG9nAAQACQAAAAdDYXQrRG9nAAQACQAAAAdDYXQrRG9nAAQACQAAAANDYXQABAAJAAAAA0NhdAAEAAkAAAADQ2F0AAQACQAAAANDYXQABAAJAAAAA0NhdAAEAAkAAAADQ2F0AAQACQAAAANDYXQABAAJAAAAA0NhdAAEAAkAAAADQ2F0AAQACQAAAANDYXQABAAJAAAAA0NhdAAEAAkAAAADQ2F0AAQACQAAAANDYXQABAAJAAAAA0NhdAAEAAkAAAADQ2F0AAQACQAAAANDYXQABAAJAAAAA0NhdAAEAAkAAAADQ2F0AAQACQAAAANDYXQABAAJAAAAA0NhdAAEAAkAAAADQ2F0AAQACQAAAANDYXQABAAJAAAAA0NhdAAEAAkAAAADQ2F0AAQACQAAAANDYXQABAAJAAAAA0NhdAAEAAkAAAADQ2F0AAQACQAAAANDYXQABAAJAAAAA0NhdAAEAAkAAAADQ2F0AAAADgAAADxADzMzMzMzM0AVMzMzMzMzQAwAAAAAAABAH5mZmZmZmkAWZmZmZmZmQAwAAAAAAABAF5mZmZmZmkAZMzMzMzMzQBgAAAAAAABAEgAAAAAAAEAezMzMzMzNQBbMzMzMzM1ADzMzMzMzMz/wAAAAAAAAQBwAAAAAAABAE5mZmZmZmkAUAAAAAAAAQBrMzMzMzM1AGgAAAAAAAEAYZmZmZmZmQBrMzMzMzM1AGZmZmZmZmkAUZmZmZmZmP/ZmZmZmZmZAGGZmZmZmZkATmZmZmZmaQBLMzMzMzM1AAzMzMzMzM0AQZmZmZmZmQBczMzMzMzNAIZmZmZmZmkARmZmZmZmaQBbMzMzMzM1AEmZmZmZmZkAJmZmZmZmaQBMzMzMzMzM/9MzMzMzMzUAcZmZmZmZmQBMzMzMzMzNAIMzMzMzMzUAVmZmZmZmaQAmZmZmZmZpAFmZmZmZmZkAGZmZmZmZmQAGZmZmZmZpAFAAAAAAAAEANmZmZmZmaQBIAAAAAAABAEmZmZmZmZkALMzMzMzMzQAwAAAAAAABAETMzMzMzM0AaZmZmZmZmP/zMzMzMzM1AFmZmZmZmZkAUZmZmZmZmQBmZmZmZmZpAEAAAAAAAAEAUzMzMzMzNQBQAAAAAAAAAAAQCAAAAAQAEAAkAAAAFbmFtZXMAAAAQAAAAAgAEAAkAAAAIcGV0X3R5cGUABAAJAAAACWhhcHBpbmVzcwAABAIAAAABAAQACQAAAAVjbGFzcwAAABAAAAABAAQACQAAAApkYXRhLmZyYW1lAAAEAgAAAAEABAAJAAAACXJvdy5uYW1lcwAAAA0AAAACgAAAAP///8QAAAD+'\n)) %>%\n  sample()%>%\n  select(-orig.id)\n\n# creates small version of cat_or_dog data\npet_type <- c(rep(\"Cat\", 5), rep(\"Dog\", 5))\nhappiness <- c(3.2, 6.7, 6.2, 5.0, 1.8, 3.6, 5.8, 4.2, 6.8, 7.7)\ndf <- data.frame(pet_type, happiness)"
    },
    {
      "cell_type": "markdown",
      "metadata": {},
      "source": "## 1 Reviewing the Pet Owners Dataset\n\nIn a previous notebook we analyzed some data on the happiness of cat and dog owners. A sample of 90 high school students were surveyed as to what type of pet they have, and also how happy they are feeling these days. The findings from that dataset were as follows: Dog owners rated themselves as the happiest, cat owners as the least happy. Students who had both a cat and a dog fell in between the other two groups.\n\nFor purposes of this notebook we are going to analyze a reduced subset of these data, a sample that includes only cat owners (n=30) and dog owners (n=30). The name of the dataset is `cat_or_dog`.\n\nTheir are 60 rows and two variables in the `cat_or_dog` dataset:\n\n- `pet_type`: `Cat`, `Dog`\n- `happiness`: a 1-10 scale with 1=Extremely Happy, 10=Extremely Unhappy\n"
    },
    {
      "cell_type": "markdown",
      "metadata": {},
      "source": "### 1.1 Fitting a two-group model to the data (Review)\n\nIn the cell below:\n- Fit a two-group model to the data (`happiness ~ pet_type`) and save it as `cat_dog_model`.\n- Print out the parameter estimates of the `cat_dog_model`\n- Graph the data and overlay the model; and \n- Quantify error around the model using a `supernova` table. "
    },
    {
      "cell_type": "code",
      "execution_count": null,
      "metadata": {
        "nbsimplegrader": {
          "config_key": "code.response",
          "editable": true,
          "label": "Response: Code",
          "respondable": true,
          "response": null,
          "runnable": true,
          "type": "code"
        },
        "trusted": true
      },
      "outputs": [],
      "source": "# fit, save, then print the model\n\n# graph the data and overlay the model\n\n# quantify error around the model\n\n"
    },
    {
      "cell_type": "markdown",
      "metadata": {},
      "source": "<div class=\"discussion-question\">\n\n### 1.2 Discussion Questions (Review)\n    \n- What do the parameter estimates tell us? Where do you see the parameter estimates in the graph?\n- What percent of variation in happiness can be explained by `pet_type`?\n    \n</div>"
    },
    {
      "cell_type": "markdown",
      "metadata": {},
      "source": "## 2 Measures of Effect Size and Cohen's *d*\n\nWhen we fit a model, one natural question is: How big is the effect of our explanatory variable? \n\nIn this case, this means, \"How big is the effect of `pet_type` on `happiness`?\" \n\nThere are several different ways we can quantify the size of this effect: $b_1$, *PRE*, and *F*. In this notebook we will add one more: Cohen's *d*."
    },
    {
      "cell_type": "markdown",
      "metadata": {},
      "source": "<div class=\"guided-notes\">\n\n### 2.1 For each of the first three measures of effect size in the table, write what it tells you\n    \n</div>"
    },
    {
      "cell_type": "markdown",
      "metadata": {},
      "source": "<table border=\"1\" style=\"font-size: 18px; margin-left: 0; border-collapse: collapse; width: 100%;\">\n  <thead>\n      <tr>\n      <td style=\"border: 1px solid black; font-weight: bold; text-align: center; width:15%;\">Measure of Effect Size</td>\n      <td style=\"border: 1px solid black; font-weight: bold; text-align: center; width:20%\"><code>cat_dog_model</code> Value</td>\n      <td style=\"border: 1px solid black; font-weight: bold; text-align: center; width:65%\">What it Tells You</td>\n    </tr>\n  </thead>\n  <tbody>\n    <tr style=\"height:50px;\">\n        <td style=\"border: 1px solid black; text-align: center; vertical-align: center;\"><b>$b_1$</b></td>\n      <td style=\"border: 1px solid black; text-align: center; vertical-align: center;\">1.04</td>\n      <td style=\"border: 1px solid black; text-align: center; vertical-align: center;\"></td>\n    </tr>\n    <tr style=\"height:50px;\">\n        <td style=\"border: 1px solid black; text-align: center; vertical-align: center;\"><b><i>PRE</i></b></td>\n      <td style=\"border: 1px solid black; text-align: center; vertical-align: center;\">0.10</td>\n      <td style=\"border: 1px solid black; text-align: center; vertical-align: center;\"></td>\n    </tr>\n    <tr style=\"height:50px;\">\n        <td style=\"border: 1px solid black; text-align: center; vertical-align: center;\"><b><i>F</i></b></td>\n      <td style=\"border: 1px solid black; text-align: center; vertical-align: center;\">6.45</td>\n      <td style=\"border: 1px solid black; text-align: center; vertical-align: center;\"></td>\n    </tr>\n    <tr style=\"height:50px;\">\n        <td style=\"border: 1px solid black; text-align: center; vertical-align: center;\"><b>Cohen's<i> d</i></b></td>\n      <td style=\"border: 1px solid black; text-align: center; vertical-align: center;\"></td>\n      <td style=\"border: 1px solid black; text-align: center; vertical-align: center;\"></td>\n    </tr>\n  </tbody>  \n</table>"
    },
    {
      "cell_type": "markdown",
      "metadata": {},
      "source": "<div class=\"discussion-question\">\n\n### 2.2 Discussion Questions: All three measures describe the same underlying effect of pet type on happiness, but each one puts it in different units. Now let's step back and ask, is this a large effect? Explain your thinking.\n    \n</div>"
    },
    {
      "cell_type": "markdown",
      "metadata": {},
      "source": "### 2.3 One more measure: Cohen's *d*\n\nRemember the standard deviation ruler and z-score from Chapter 6? The z-score used **standard deviation** to measure how far a data point was from the mean. Let’s bring that idea of using SD as a unit of measurement back here.\n\nBelow is the jitter plot of cat and dog owners’ happiness, with both the empty model (as a dashed line) and the `cat_dog_model` (as two lines), and an SD ruler added. **The standard deviation of happiness in this dataset is 1.66.**\n\n<img src=\"https://coursekata-course-assets.s3.us-west-1.amazonaws.com/UCLATALL/czi-stats-course/8.5-8.7-overview-sd-ruler.jpg\" alt=\"jitter plot with sd ruler added\" width = 60%>"
    },
    {
      "cell_type": "markdown",
      "metadata": {},
      "source": "<div class=\"discussion-question\">\n\n### 2.4 Discussion Question: If we use the standard deviation as a unit of measurement, how big is the difference between the groups? Is it smaller than 1 SD? About 1 SD? Bigger than 1 SD?\n\n</div>"
    },
    {
      "cell_type": "markdown",
      "metadata": {},
      "source": "### 2.5 Cohen’s d expresses the size of a group difference in standard deviation units\n\nInstead of saying dog owners rate their happiness 1.04 points higher than cat owners, we could say that dog owners rate themselves 0.66 standard deviations higher than cat owners. This is Cohen's d. The formula for calculating Cohen's d is:\n\n<span style = \"font-size: 24px\">$$d=\\frac{\\bar{Y}_{1}-\\bar{Y}_2}{s}$$</span>  \n\nNote: $\\bar{Y}_1$ and $\\bar{Y}_2$ are the sample means of the two groups you’re comparing (e.g., dog vs. cat owners). $s$ is the standard deviation of scores.  \n"
    },
    {
      "cell_type": "markdown",
      "metadata": {},
      "source": "<div class=\"guided-notes\">\n\n### 2.6 In your guided notes, explain what this formula does in plain language\n    \n</div>"
    },
    {
      "cell_type": "markdown",
      "metadata": {},
      "source": "### 2.7 Calculating Cohen's *d* using R\n\nThe `cohensD` R function is a convenient way to calculate Cohen's *d*. It works like this:\n\n`cohensD(<outcome> ~ <grouping variable>, data = <dataset name>)`\n\nLet's write the code to calculate Cohen's *d* for the `pet_type` effect in the cell below. (Note that the `cohensD()` function only works if there are exactly two groups in the explanatory variable.)"
    },
    {
      "cell_type": "code",
      "execution_count": null,
      "metadata": {
        "nbsimplegrader": {
          "config_key": "code.response",
          "editable": true,
          "label": "Response: Code",
          "respondable": true,
          "response": null,
          "runnable": true,
          "type": "code"
        },
        "trusted": true
      },
      "outputs": [],
      "source": "# code here\n\n"
    },
    {
      "cell_type": "markdown",
      "metadata": {},
      "source": "<div class=\"guided-notes\">\n\n### 2.8 Fill in the last row of the effect size table\n    \n</div>"
    },
    {
      "cell_type": "markdown",
      "metadata": {},
      "source": "<table border=\"1\" style=\"font-size: 18px; margin-left: 0; border-collapse: collapse; width: 100%;\">\n  <thead>\n      <tr>\n      <td style=\"border: 1px solid black; font-weight: bold; text-align: center; width:15%;\">Measure of Effect Size</td>\n      <td style=\"border: 1px solid black; font-weight: bold; text-align: center; width:20%\"><code>cat_dog_model</code> Value</td>\n      <td style=\"border: 1px solid black; font-weight: bold; text-align: center; width:65%\">What it Tells You</td>\n    </tr>\n  </thead>\n  <tbody>\n    <tr style=\"height:50px;\">\n        <td style=\"border: 1px solid black; text-align: center; vertical-align: center;\"><b>$b_1$</b></td>\n      <td style=\"border: 1px solid black; text-align: center; vertical-align: center;\">1.04</td>\n      <td style=\"border: 1px solid black; text-align: center; vertical-align: center;\"></td>\n    </tr>\n    <tr style=\"height:50px;\">\n        <td style=\"border: 1px solid black; text-align: center; vertical-align: center;\"><b><i>PRE</i></b></td>\n      <td style=\"border: 1px solid black; text-align: center; vertical-align: center;\">0.10</td>\n      <td style=\"border: 1px solid black; text-align: center; vertical-align: center;\"></td>\n    </tr>\n    <tr style=\"height:50px;\">\n        <td style=\"border: 1px solid black; text-align: center; vertical-align: center;\"><b><i>F</i></b></td>\n      <td style=\"border: 1px solid black; text-align: center; vertical-align: center;\">6.45</td>\n      <td style=\"border: 1px solid black; text-align: center; vertical-align: center;\"></td>\n    </tr>\n    <tr style=\"height:50px;\">\n        <td style=\"border: 1px solid black; text-align: center; vertical-align: center;\"><b>Cohen's<i> d</i></b></td>\n      <td style=\"border: 1px solid black; text-align: center; vertical-align: center;\"></td>\n      <td style=\"border: 1px solid black; text-align: center; vertical-align: center;\"></td>\n    </tr>\n  </tbody>  \n</table>"
    },
    {
      "cell_type": "markdown",
      "metadata": {},
      "source": "## 3 Going Deeper into Cohen’s d (Optional)\n\n### 3.1 If you try calculating Cohen's d, you'll have to figure out *which standard deviation* to use\n\nWhen we calculate Cohen’s d (0.66), the numerator is just the difference in group means ($b_1 = 1.04$). But it turns out we have options for what to use as the denominator. We could use the overall standard deviation of the whole sample. Or, we might want to use the within-group standard deviations (the standard deviations of each group separately), combining them in some way.  \n\nRun the code below to see what happens if we use the overall standard deviation."
    },
    {
      "cell_type": "code",
      "execution_count": null,
      "metadata": {
        "nbsimplegrader": {
          "config_key": "code.response",
          "editable": true,
          "label": "Response: Code",
          "respondable": true,
          "response": null,
          "runnable": true,
          "type": "code"
        },
        "trusted": true
      },
      "outputs": [],
      "source": "# run this to calculate sd\nsd(~ happiness, data = cat_or_dog)\n\n# these lines of code attempt to calculate cohen's d with b1/sd\n1.04 / 1.66\nb1(cat_dog_model) / sd(cat_or_dog$happiness)"
    },
    {
      "cell_type": "markdown",
      "metadata": {},
      "source": "### 3.2 Pooled standard deviation\n\nWhen we used the `CohensD` R function we got 0.66. But when we used the group difference divided by the standard deviation of `happiness` in the cell above, we got 0.63. The discrepancy is due to the denominator. In the cell above we divided by the overall standard deviation. But the `cohensD` function instead combines the two within-group standard deviations into something called **pooled standard deviation**.  \n\nPooled standard deviation, or $s_\\text{pooled}$, is a weighted average of the two within-group standard deviations, weighted by the degrees of freedom in each group:  \n\n<span style = \"font-size: 24px\">$$s_{\\text{pooled}}=\\sqrt{\\frac{\\text{df}_1s_1^2+\\text{df}_2s_2^2}{\\text{df}_1+\\text{df}_2}}$$</span>  \n\nNote: The subscripts 1 and 2 refer to the two groups being compared. Thus, $s_1$ and $\\text{df}_1$ refer to the standard deviation and degrees of freedom of the first group (cat owners), while $s_2$ and $\\text{df}_2$ refer to the statistics of the second group (dog owners)."
    },
    {
      "cell_type": "markdown",
      "metadata": {},
      "source": "### 3.3 Use MS Error to find $s_\\text{pooled}$; then use $s_\\text{pooled}$ in the denominator for Cohen’s *d*  \n\nAnother way to find the pooled standard deviation is to take the square root of the **Mean Square Error (MS Error)** in the ANOVA table. MS Error is a variance based on the within group residuals. The square root of this variance is the pooled standard deviation, which is very handy for us!\n\nRun the code below to locate MS Error in the ANOVA table. Then write code to divide the observed $b_1$ (1.04) by the square root of the MS Error."
    },
    {
      "cell_type": "code",
      "execution_count": null,
      "metadata": {
        "nbsimplegrader": {
          "config_key": "code.response",
          "editable": true,
          "label": "Response: Code",
          "respondable": true,
          "response": null,
          "runnable": true,
          "type": "code"
        },
        "trusted": true
      },
      "outputs": [],
      "source": "# run this\nsupernova(cat_dog_model)\n\n# try calculating Cohen's d with s pooled\n\n"
    },
    {
      "cell_type": "markdown",
      "metadata": {},
      "source": "## 4 Modeling the DGP\n\nFrom our data, the $b_1$ estimate tells us that dog owners rate their happiness about 1 point higher than cat owners. That’s true for this sample. But our real goal is to understand **the Data Generating Process (DGP)**, what’s true in the population.\n\nIt might be that dog owners really are happier. But with only 60 people in our dataset, it might be that the 1-point difference is just due to random sampling. **Could the true difference in the population actually be 0, with our observed difference caused only by random sampling variation?**  \n\nWe have considered this question before (remember `shuffle()`?), but now we have some additional tools we can applying to answering it.\n"
    },
    {
      "cell_type": "markdown",
      "metadata": {},
      "source": "### 4.1 Introducing the Population Difference: $\\beta_1$\n\nIn our sample, $b_1 = 1.04$. This means dog owners rated their happiness about 1 point higher than cat owners. But $b_1$ is just an estimate of the true population difference, which we write as $\\beta_1$ (we say \"beta-one\" or \"beta-sub-one\")."
    },
    {
      "cell_type": "markdown",
      "metadata": {},
      "source": "<div class=\"guided-notes\">\n\n### 4.2 When we write different possible values of $\\beta_1$, we are making hypotheses about what might be true in the DGP. Fill in the table to represent these hypothetical DGPs.\n\n</div>"
    },
    {
      "cell_type": "markdown",
      "metadata": {},
      "source": "<table border=\"1\" style=\"font-size: 18px; margin-left: 0; border-collapse: collapse; width: 100%;\">\n  <thead>\n    <tr>\n      <td style=\"border: 1px solid black; font-weight: bold; text-align: center; width:60%\">If this is true about the DGP/Population</td>\n      <td style=\"border: 1px solid black; font-weight: bold; text-align: center; width:20%\">Notation for DGP</td>\n      <td style=\"border: 1px solid black; font-weight: bold; text-align: center; width:20%\">Notation for Sample</td>\n    </tr>\n  </thead>\n  <tbody>\n    <tr>\n        <td style=\"border: 1px solid black; text-align: left; width: 50%; vertical-align: top;\">The population is exactly like our data</td>\n      <td style=\"border: 1px solid black; text-align: center; vertical-align: top;\">$\\beta_1 = $</td>\n      <td style=\"border: 1px solid black; text-align: center; vertical-align: top;\">$b_1 = 1.04$</td>\n    </tr>\n    <tr>\n        <td style=\"border: 1px solid black; text-align: left; width: 50%; vertical-align: top;\">Cat owners are 1 point more happy on average than dog owners</td>\n      <td style=\"border: 1px solid black; text-align: center; vertical-align: top;\"> </td>\n      <td style=\"border: 1px solid black; text-align: center; vertical-align: top;\"> </td>\n    </tr>\n    <tr>\n        <td style=\"border: 1px solid black; text-align: left; width: 50%; vertical-align: top;\">Cat and dog owners are equally happy (no difference)</td>\n      <td style=\"border: 1px solid black; text-align: center; vertical-align: top;\"> </td>\n      <td style=\"border: 1px solid black; text-align: center; vertical-align: top;\">$b_1 = 1.04$</td>\n    </tr>\n  </tbody>  \n</table>"
    },
    {
      "cell_type": "markdown",
      "metadata": {},
      "source": "### 4.3 Using `shuffle()` to simulate a world in which $\\beta_1=0$\n\nOne way to put our observed $b_1$ into perspective is to ask: could it have been generated by a world in which $\\beta_1=0$? We have explored this idea before using the `shuffle()` function. But that was before we knew how to model data and generate a $b_1$ estimate.\n\nWe previously used shuffle to generate graphs of data in which we randomly shuffled the outcome variable and then looked to see how that affected the findings. \n\nIn the code block below we have put in 10 of the data points from the original data frame and called it `df` (for **d**ata **f**rame). Run the cell below to graph this subset of data. "
    },
    {
      "cell_type": "code",
      "execution_count": null,
      "metadata": {
        "nbsimplegrader": {
          "config_key": "code.response",
          "editable": true,
          "label": "Response: Code",
          "respondable": true,
          "response": null,
          "runnable": true,
          "type": "code"
        },
        "scrolled": false,
        "trusted": true
      },
      "outputs": [],
      "source": "# run this code \n# prints out a small 10 data point version of the cat_or_dog data frame\ndf\n\n# this graphs the pet_type hypothesis and the model for this smaller data frame\ngf_point(happiness ~ pet_type, data = df, size=4) %>%\n  gf_model(lm(happiness ~ pet_type, data = df), color=\"firebrick\")"
    },
    {
      "cell_type": "markdown",
      "metadata": {},
      "source": "<div class=\"discussion-question\">\n\n### 4.4 Discussion Question: Does this subset of 10 data points show the same pattern as the complete dataset? \n\n</div>"
    },
    {
      "cell_type": "markdown",
      "metadata": {},
      "source": "<img src=\"https://coursekata-course-assets.s3.us-west-1.amazonaws.com/UCLATALL/czi-stats-course/8.5-8.7-overview-small-v-large-data.jpg\" alt=\"small and large data sets visualized side by side\">"
    },
    {
      "cell_type": "markdown",
      "metadata": {},
      "source": "### 4.5 Explore how `shuffle()` simulates a world in which $\\beta_1=0$\n\nRun the cell below and click on the **Graph shuffles** heading. Run the R code you find there a few times. What does the shuffle code do to the data frame? "
    },
    {
      "cell_type": "code",
      "execution_count": null,
      "metadata": {
        "trusted": true
      },
      "outputs": [],
      "source": "IRdisplay::display_html(sprintf(\n  '<iframe src=\"%s\" width=\"%s\" height=\"%s\" frameborder=\"0\"></iframe>',\n  \"https://coursekata.github.io/teaching-apps/shuffle-demo-10-icy.html?data=3.2%2C6.7%2C6.2%2C5.0%2C1.8%2C3.6%2C5.8%2C4.2%2C6.8%2C7.7&groupA=Cat&groupB=Dog&outcome=happiness&group=pet_type&tabs=3\",\n  width = \"100%\",\n  height = \"600px\"\n))\n"
    },
    {
      "cell_type": "markdown",
      "metadata": {},
      "source": "<div class=\"discussion-question\">\n\n### 4.6 Discussion Questions: How does using `shuffle()` to mix up the happiness scores simulate a world where $\\beta_1 = 0$ (no difference between cats and dogs in the population)? \n    \n</div>"
    },
    {
      "cell_type": "markdown",
      "metadata": {},
      "source": "### 4.7 Use `shuffle()` to produce $b_1$s  \n\nRun the cell below and click on the **Model shuffles** header. This section will shuffle the data and then fit a model using `pet_type` to predict `happiness_shuf`, producing a shuffled $b_1$ estimate. Run it a few times to see how the $b_1$s vary. (You can use the **Run 5x** button to rapidly generate 5 shuffled $b_1$s if you want.)"
    },
    {
      "cell_type": "code",
      "execution_count": null,
      "metadata": {
        "trusted": true
      },
      "outputs": [],
      "source": "IRdisplay::display_html(sprintf(\n  '<iframe src=\"%s\" width=\"%s\" height=\"%s\" frameborder=\"0\"></iframe>',\n  \"https://coursekata.github.io/teaching-apps/shuffle-demo-10-icy.html?data=3.2%2C6.7%2C6.2%2C5.0%2C1.8%2C3.6%2C5.8%2C4.2%2C6.8%2C7.7&groupA=Cat&groupB=Dog&outcome=happiness&group=pet_type&tabs=3\",\n  width = \"100%\",\n  height = \"600px\"\n))\n"
    },
    {
      "cell_type": "markdown",
      "metadata": {},
      "source": "<div class=\"discussion-question\">\n\n### 4.8 Discussion Question: Why are the $b_1$s in the \"Model shuffles\" section different from the \"initial $b_1$\" of 1 in our small data set?  \n\n</div>"
    },
    {
      "cell_type": "markdown",
      "metadata": {},
      "source": "<div class=\"guided-notes\">\n    \n### 4.9 Write code to get the observed $b_1$ from the full `cat_or_dog` data frame and then modify that code to get a shuffled $b_1$  \n\nSo far we’ve used a small sample (10 people) to see how `shuffle()` works. Now let’s shift back to the full dataset `cat_or_dog` (60 people).  \n\n1. Write the code to get the observed $b_1$ \n2. Then, edit the code so that it randomly shuffles happiness and calculates the shuffled $b_1$\n\n</div>\n"
    },
    {
      "cell_type": "code",
      "execution_count": null,
      "metadata": {
        "nbsimplegrader": {
          "config_key": "code.response",
          "editable": true,
          "label": "Response: Code",
          "respondable": true,
          "response": null,
          "runnable": true,
          "type": "code"
        },
        "scrolled": true,
        "trusted": true
      },
      "outputs": [],
      "source": "# get the observed b1 estimate\nb1(happiness ~ pet_type, data = cat_or_dog)\n\n# edit this code so that it randomly shuffles happiness \nb1(happiness ~ pet_type, data = cat_or_dog)\n\n"
    },
    {
      "cell_type": "markdown",
      "metadata": {},
      "source": "<div class=\"discussion-question\">\n\n### 4.10 Discussion Questions: Why does the first line of code always produce the same $b_1$ and the second line of code produces a different $b_1$ every time?\n    \n</div>"
    },
    {
      "cell_type": "markdown",
      "metadata": {},
      "source": "<div class=\"guided-notes\">\n\n### 4.11 Here is how we write the model of the DGP in GLM notation. Write the equation again when $\\beta_1 = 0$ and simplify it. What model does this simplified equation represent?  \n\n<span style = \"font-size: 24px\">$$Y_i = \\beta_0 + \\beta_1 X_i + \\epsilon_i$$</span> \n\n</div>\n"
    },
    {
      "cell_type": "markdown",
      "metadata": {},
      "source": "## 5 Using Shuffle to Put the Observed $b_1$ in Context\n\nWhen we use the `shuffle()` function inside the `b1()` function we are generating $b_1$s from a world in which $\\beta_1$ is 0. We can see by running `shuffle()` and `b1()` multiple times is in a world where the empty model is true that it is still possible to get variation in $b_1$s across different random samples. \n\nIf we just generate one simulated $b_1$, we don't learn anything about the *distribution* of $b_1$s that could be drawn from a world in which the empty model is true. We expect that on average, the $b_1$s generated by our simulation should be centered at 0 (i.e., the empty model). But with just one, we won't get a sense of how closely the values cluster around 0.\n\nBut by running `shuffle()` many times and generating many $b_1$s, we can what the distribution of $b_1$s looks like: its shape, center, and spread. By looking at our observed $b_1$ in the context of the distribution of $b_1$s generated by the empty model, we can ask whether the observed $b_1$ looks like it could have come from the empty model, or whether it looks like it came from a different distribution. \n"
    },
    {
      "cell_type": "markdown",
      "metadata": {},
      "source": "<div class=\"guided-notes\">\n\n### 5.1 Edit the R code to generate 20 shuffled $b_1$s at once using the `do()` function\n\n</div>"
    },
    {
      "cell_type": "code",
      "execution_count": null,
      "metadata": {
        "nbsimplegrader": {
          "config_key": "code.response",
          "editable": true,
          "label": "Response: Code",
          "respondable": true,
          "response": null,
          "runnable": true,
          "type": "code"
        },
        "trusted": true
      },
      "outputs": [],
      "source": "# edit this code\ndo(1) * b1(shuffle(happiness) ~ pet_type, data = cat_or_dog)\n\n"
    },
    {
      "cell_type": "markdown",
      "metadata": {},
      "source": "<div class=\"discussion-question\">\n    \n### 5.2 Discussion Question: How does looking at 20 shuffled $b_1$s rather than just 1 or a few help us to better understand the $b_1$ estimated in the study?\n\n</div>"
    },
    {
      "cell_type": "markdown",
      "metadata": {},
      "source": "<div style=\"font-size: 18px; line-height: 1.4; border: 2px solid black; padding: 10px;\">\nThis distribution of 20 $b_1$s generated using the shuffle function is an example of a <b><i>sampling distribution</i></b>. It is a concept we will come back to later. We can now compare the $b_1$ we observed in our data to a sampling distribution of $b_1$s generated by the empty model.\n</div>\n"
    },
    {
      "cell_type": "markdown",
      "metadata": {},
      "source": "<div class=\"discussion-question\">\n\n### 5.3 Discussion Question: In the code below, we saved the 20 shuffled $b_1$s as `sampling_distribution` and arranged the $b_1$s in order. How does our observed $b_1$ of 1.04 compare? What does this tell us about whether the empty model ($\\beta_1 = 0$) could plausibly have produced our data?  \n\nNote: You may want to write down how to save these shuffled $b_1$s into a data frame in your guided notes\n</div>\n"
    },
    {
      "cell_type": "code",
      "execution_count": null,
      "metadata": {
        "nbsimplegrader": {
          "config_key": "code.response",
          "editable": true,
          "label": "Response: Code",
          "respondable": true,
          "response": null,
          "runnable": true,
          "type": "code"
        },
        "trusted": true
      },
      "outputs": [],
      "source": "# run this\n\n# this saves 20 shuffled b1s\nsampling_distribution <- do(20) * b1(shuffle(happiness) ~ pet_type, data = cat_or_dog)\n\n# this arrange the b1s in order\narrange(sampling_distribution, b1)\n"
    },
    {
      "cell_type": "markdown",
      "metadata": {},
      "source": "<div class=\"guided-notes\">\n\n### 5.4 Fill in the blanks.\n\n- Our observed $b_1$ was: ______  \n- The shuffled $b_1$s (sampling distribution) ranged from: ______ to ______  \n- Compared to this sampling distribution, our observed $b_1$ looks: ____________  \n- This suggests that the empty model **is / is not** (circle one) a plausible DGP for our data because:  \n    \n</div>\n"
    },
    {
      "cell_type": "markdown",
      "metadata": {},
      "source": "## 6 Practice What You Learned \n\nWe have some evidence that the difference in happiness between cat owners and dog owners is unlikely to be generated by a DGP in which there is no difference between the two (i.e., the empty model). Let's try using the same approach to evaluate a different group difference.\n\nWe have another dataset that only includes cat owners. But some cat owners also own dogs. This dataset is called `cat_or_both`."
    },
    {
      "cell_type": "markdown",
      "metadata": {},
      "source": "### 6.1 Examine the contents of `cat_or_both` data frame "
    },
    {
      "cell_type": "code",
      "execution_count": null,
      "metadata": {
        "nbsimplegrader": {
          "config_key": "code.response",
          "editable": true,
          "label": "Response: Code",
          "respondable": true,
          "response": null,
          "runnable": true,
          "type": "code"
        },
        "trusted": true
      },
      "outputs": [],
      "source": "# code here\n\n"
    },
    {
      "cell_type": "markdown",
      "metadata": {},
      "source": "### 6.2 Create a model called `cat_both_model` that predicts happiness based on pet type. Then overlay the `cat_both_model` on the jitter plot provided."
    },
    {
      "cell_type": "code",
      "execution_count": null,
      "metadata": {
        "nbsimplegrader": {
          "config_key": "code.response",
          "editable": true,
          "label": "Response: Code",
          "respondable": true,
          "response": null,
          "runnable": true,
          "type": "code"
        },
        "trusted": true
      },
      "outputs": [],
      "source": "# code here\n\n"
    },
    {
      "cell_type": "markdown",
      "metadata": {},
      "source": "### 6.3 Print out the parameter estimates for the `cat_both_model`. What is the sample $b_1$? Is that a larger effect size than what we saw for pet type in the `cat_dog_model`?"
    },
    {
      "cell_type": "code",
      "execution_count": null,
      "metadata": {
        "nbsimplegrader": {
          "config_key": "code.response",
          "editable": true,
          "label": "Response: Code",
          "respondable": true,
          "response": null,
          "runnable": true,
          "type": "code"
        },
        "trusted": true
      },
      "outputs": [],
      "source": "# code here\n\n"
    },
    {
      "cell_type": "markdown",
      "metadata": {
        "nbsimplegrader": {
          "config_key": "markdown.response",
          "editable": true,
          "label": "Response: Markdown",
          "respondable": true,
          "response": null,
          "runnable": true,
          "type": "markdown"
        }
      },
      "source": "Explain effect size using $b_1$ here.\n"
    },
    {
      "cell_type": "markdown",
      "metadata": {},
      "source": "### 6.4 Use the `do()` function to generate 20 $b_1$s from the empty model of the DGP\n\n- Modify the code to generate a data frame with 20 $b_1$s and save it as an R data frame called `sampling_dist`.\n- Check the contents of `sampling_dist` to make sure they are what you expect\n- Print out the 20 $b_1$s, arranged in order"
    },
    {
      "cell_type": "code",
      "execution_count": null,
      "metadata": {
        "nbsimplegrader": {
          "config_key": "code.response",
          "editable": true,
          "label": "Response: Code",
          "respondable": true,
          "response": null,
          "runnable": true,
          "type": "code"
        },
        "trusted": true
      },
      "outputs": [],
      "source": "# modify this code\ndo(1) * b1(shuffle(happiness) ~ pet_type, data = cat_or_dog)\n\n"
    },
    {
      "cell_type": "markdown",
      "metadata": {},
      "source": "### 6.5 How does our observed $b_1$ from the `cat_both_model` compare to this sampling distribution? What does this tell us about whether the empty model ($\\beta_1 = 0$) could plausibly have produced our data?  \n   "
    },
    {
      "cell_type": "markdown",
      "metadata": {
        "nbsimplegrader": {
          "config_key": "markdown.response",
          "editable": true,
          "label": "Response: Markdown",
          "respondable": true,
          "response": null,
          "runnable": true,
          "type": "markdown"
        }
      },
      "source": "Write your response here: "
    }
  ],
  "metadata": {
    "deepnote_execution_queue": [],
    "deepnote_notebook_id": "608933bb-f248-4876-a618-1c815f90aa5a",
    "kernelspec": {
      "display_name": "R",
      "language": "R",
      "name": "ir"
    },
    "language_info": {
      "codemirror_mode": "r",
      "file_extension": ".r",
      "mimetype": "text/x-r-source",
      "name": "R",
      "pygments_lexer": "r",
      "version": "4.3.3"
    },
    "nbsimplegrader": {
      "publish_config": {
        "classes": [],
        "options": [],
        "tools": []
      }
    }
  },
  "nbformat": 4,
  "nbformat_minor": 2
}