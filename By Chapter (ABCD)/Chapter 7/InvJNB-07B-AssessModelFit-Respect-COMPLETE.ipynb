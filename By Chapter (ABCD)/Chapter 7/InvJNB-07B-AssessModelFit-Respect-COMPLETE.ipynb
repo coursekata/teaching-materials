{
  "cells": [
    {
      "cell_type": "markdown",
      "metadata": {
        "cell_id": "e2a3ce9b6e3f484cb0ab1c2e12ebfbbf",
        "deepnote_app_block_visible": true,
        "deepnote_cell_type": "markdown",
        "owner_user_id": "23d85493-7ed1-49a4-baa7-630eaab08193",
        "tags": []
      },
      "source": "<div class=\"alert alert-block alert-danger\">\n\n# 7B: Revisiting the Respect Study (COMPLETE)\n\n**Lesson assumes students have read up through page: 7.10**\n\n**Use with textbook version 6.0+**\n</div>"
    },
    {
      "cell_type": "markdown",
      "metadata": {
        "cell_id": "afd37b769229412a92e9e6d562709b12",
        "deepnote_app_block_visible": true,
        "deepnote_cell_height": 163.9375,
        "deepnote_cell_type": "markdown",
        "tags": []
      },
      "source": "<div class=\"alert alert-block alert-success\">\n\n## Approximate time to complete Notebook: 40-55 Mins\n\n</div>"
    },
    {
      "cell_type": "code",
      "execution_count": null,
      "metadata": {
        "cell_id": "fea4bde8d21447c8ba0b1138df8ac9cb",
        "deepnote_app_block_visible": true,
        "deepnote_cell_type": "code",
        "deepnote_to_be_reexecuted": false,
        "execution_context_id": "ffa81f85-901d-47ea-a036-01e4dfc04cb3",
        "execution_millis": 2996,
        "execution_start": 1741644360652,
        "output_cleared": false,
        "source_hash": "ae8612ef",
        "tags": [],
        "trusted": true
      },
      "outputs": [],
      "source": "# This code will load the R packages we will use\nsuppressPackageStartupMessages({\n    library(coursekata)\n})\n\nlinktocsv <- \"https://docs.google.com/spreadsheets/d/e/2PACX-1vShHDu7P5XnUWo_xBtB67I00R-TTCyB73GyILmjlMq3LGM-kHFg-rIBQwB4upLOU7mTXG6fg8QxTLhB/pub?gid=191363782&single=true&output=csv\"\nrespect_study <- read.csv(linktocsv, head = TRUE)\nrespect_study$veg_eaten <- respect_study$spoon2_before - respect_study$spoon2_after"
    },
    {
      "cell_type": "markdown",
      "metadata": {
        "cell_id": "64e21013944d41d4968d2ce759cdb5a2",
        "deepnote_app_block_visible": true,
        "deepnote_cell_height": 115.9375,
        "deepnote_cell_type": "markdown",
        "tags": []
      },
      "source": "<div class=\"alert alert-block alert-success\">\n\n### 1.0 - Approximate Time: 3-5 mins\n\n</div>"
    },
    {
      "cell_type": "markdown",
      "metadata": {
        "cell_id": "2c0c74eb3d604e859777f6a5b9988d2e",
        "deepnote_app_block_visible": true,
        "deepnote_cell_height": 69.96875,
        "deepnote_cell_type": "markdown",
        "tags": []
      },
      "source": "## 1.0 - Explore Variation"
    },
    {
      "cell_type": "markdown",
      "metadata": {
        "cell_id": "b71f9334e3fd477ea97cff166e6adcfd",
        "deepnote_app_block_visible": true,
        "deepnote_cell_height": 97.140625,
        "deepnote_cell_type": "markdown",
        "tags": []
      },
      "source": "Remember when we explored the respect hypothesis with the students asked to eat some bitter tasting medicine (but it was actually Vegemite)? The researchers thought that giving more respectful instructions would lead students to be more willing to eat the Vegemite."
    },
    {
      "cell_type": "markdown",
      "metadata": {
        "cell_id": "4fa995e8bc6843b2b5d9b2245df96fca",
        "deepnote_app_block_visible": true,
        "deepnote_cell_height": 52.359375,
        "deepnote_cell_type": "markdown",
        "tags": []
      },
      "source": "1.1 - Write this hypothesis as a word equation."
    },
    {
      "cell_type": "markdown",
      "metadata": {
        "cell_id": "43244a1ffb8a4bf4a685ca58a062d302",
        "deepnote_app_block_visible": true,
        "deepnote_cell_height": 140.71875,
        "deepnote_cell_type": "markdown",
        "tags": []
      },
      "source": "<div class=\"alert alert-block alert-warning\">\n\n**Sample Response**\n\nVegemite Eaten = Respect + Other Stuff\n\n</div>"
    },
    {
      "cell_type": "markdown",
      "metadata": {
        "cell_id": "cba4530327ef4520abadd4a3d6add998",
        "deepnote_app_block_visible": true,
        "deepnote_cell_height": 231.71875,
        "deepnote_cell_type": "markdown",
        "tags": []
      },
      "source": "The data frame is called `respect_study` and has already been loaded into this Jupyter notebook.\n\nAs a reminder, there are many variables in the data frame but here are the two most relevant variables in the data:\n\n- `respect_condition` Whether the participant watched the \"Respect\" or \"No Respect\" video\n\n- `veg_eaten` How much Vegemite on the 2nd spoon was eaten (grams)\n\n1.2 - Take a look at the data frame using R. What are the cases in this data frame? How many are there?"
    },
    {
      "cell_type": "code",
      "execution_count": null,
      "metadata": {
        "cell_id": "afbb09e0fa1341228e0fcb579ca891ff",
        "deepnote_app_block_visible": true,
        "deepnote_cell_height": 93.953125,
        "deepnote_cell_type": "code",
        "deepnote_to_be_reexecuted": false,
        "execution_context_id": "44c53abc-9876-4af7-aafe-3d218e5d60ce",
        "execution_millis": 1,
        "execution_start": 1729787298184,
        "output_cleared": false,
        "source_hash": "6a374659",
        "tags": [],
        "trusted": true
      },
      "outputs": [],
      "source": "# one way to check the number of cases is with str()\nstr(respect_study)"
    },
    {
      "cell_type": "markdown",
      "metadata": {
        "cell_id": "08c3eb3a1c204939b69c25f7b480bb75",
        "deepnote_app_block_visible": true,
        "deepnote_cell_height": 140.71875,
        "deepnote_cell_type": "markdown",
        "tags": []
      },
      "source": "<div class=\"alert alert-block alert-warning\">\n\n**Sample Response**\n\nThe cases are the participants in the study and there are 160 of them.\n\n</div>"
    },
    {
      "cell_type": "markdown",
      "metadata": {
        "cell_id": "b1b999b41ebd44b19d2993c08165d17b",
        "deepnote_app_block_visible": true,
        "deepnote_cell_height": 74.75,
        "deepnote_cell_type": "markdown",
        "tags": []
      },
      "source": "1.3 - Let’s take a look at the distribution of Vegemite eaten by participants in each condition.\nRun the code below. Find the tallest bar. What does it mean?"
    },
    {
      "cell_type": "code",
      "execution_count": null,
      "metadata": {
        "cell_id": "e18d60e5523942d5a22978d0c954a2e3",
        "deepnote_app_block_visible": true,
        "deepnote_cell_height": 98.953125,
        "deepnote_cell_type": "code",
        "deepnote_to_be_reexecuted": false,
        "execution_context_id": "44c53abc-9876-4af7-aafe-3d218e5d60ce",
        "execution_millis": 450,
        "execution_start": 1729787298232,
        "output_cleared": false,
        "source_hash": "3857f981",
        "tags": [],
        "trusted": true
      },
      "outputs": [],
      "source": "gf_histogram(~veg_eaten, data = respect_study, fill = \"lightgreen\", color = \"midnightblue\") %>%\n    gf_facet_grid(respect_condition ~ .)"
    },
    {
      "cell_type": "markdown",
      "metadata": {
        "cell_id": "530c88dc83b446839b48a3ebb732c6e8",
        "deepnote_app_block_visible": true,
        "deepnote_cell_height": 163.125,
        "deepnote_cell_type": "markdown",
        "tags": []
      },
      "source": "<div class=\"alert alert-block alert-warning\">\n\n**Sample Response**\n\nThe tallest bar is in the no respect condition and it is stacked at zero, meaning most people did not eat any additional Vegemite.\n\n</div>"
    },
    {
      "cell_type": "markdown",
      "metadata": {
        "cell_id": "bc32234728364ab4a5984999d3bee38c",
        "deepnote_app_block_visible": true,
        "deepnote_cell_height": 97.140625,
        "deepnote_cell_type": "markdown",
        "tags": []
      },
      "source": "1.4 - Let's assume this was a well conducted experiment. In that case, there are two possible reasons why these two groups look different on their Vegemite eating. What are those two reasons? "
    },
    {
      "cell_type": "markdown",
      "metadata": {
        "cell_id": "5b873e4af7ea495f92877706b3055a4c",
        "deepnote_app_block_visible": true,
        "deepnote_cell_height": 166.109375,
        "deepnote_cell_type": "markdown",
        "tags": []
      },
      "source": "<div class=\"alert alert-block alert-warning\">\n\n**Sample Response**\n\n1) Respect actually has an effect on Vegemite eating\n\n2) Random variation\n\n</div>"
    },
    {
      "cell_type": "markdown",
      "metadata": {
        "cell_id": "0d09b1e89c5f4c55931d7fc0d32ff890",
        "deepnote_app_block_visible": true,
        "deepnote_cell_height": 115.9375,
        "deepnote_cell_type": "markdown",
        "tags": []
      },
      "source": "<div class=\"alert alert-block alert-success\">\n\n### 2.0 - Approximate Time: 8-10 mins\n\n</div>"
    },
    {
      "cell_type": "markdown",
      "metadata": {
        "cell_id": "0fcf411a4a2e4169a854fe3112bdc6c3",
        "deepnote_app_block_visible": true,
        "deepnote_cell_height": 69.96875,
        "deepnote_cell_type": "markdown",
        "tags": []
      },
      "source": "## 2.0 - Model Variation"
    },
    {
      "cell_type": "markdown",
      "metadata": {
        "cell_id": "6a491229af924494bfeefbafade79ade",
        "deepnote_app_block_visible": true,
        "deepnote_cell_height": 74.75,
        "deepnote_cell_type": "markdown",
        "tags": []
      },
      "source": "2.1 - How would we write the DGP of randomness using a word equation? \nHow about in GLM notation? "
    },
    {
      "cell_type": "markdown",
      "metadata": {
        "cell_id": "aaf6ce1bbe534ca482079e7f0da398fc",
        "deepnote_app_block_visible": true,
        "deepnote_cell_height": 250.109375,
        "deepnote_cell_type": "markdown",
        "tags": []
      },
      "source": "<div class=\"alert alert-block alert-warning\">\n\n**Sample Response**\n\nWord Equation:\n \nveg_eaten = mean + other stuff\n\nGLM notation:\n\n$veg\\_eaten = b_0 + e_i$\n\n</div>"
    },
    {
      "cell_type": "markdown",
      "metadata": {
        "cell_id": "deadc73fff884c9382e0684d8932e291",
        "deepnote_app_block_visible": true,
        "deepnote_cell_height": 97.140625,
        "deepnote_cell_type": "markdown",
        "tags": []
      },
      "source": "2.2 - \nIf we used the empty model to predict how much Vegemite students ate, what value would it predict for each student?"
    },
    {
      "cell_type": "code",
      "execution_count": null,
      "metadata": {
        "cell_id": "f743808817aa445280bbd26841804c14",
        "deepnote_app_block_visible": true,
        "deepnote_cell_height": 111.953125,
        "deepnote_cell_type": "code",
        "deepnote_to_be_reexecuted": false,
        "execution_context_id": "44c53abc-9876-4af7-aafe-3d218e5d60ce",
        "execution_millis": 1,
        "execution_start": 1729787298732,
        "output_cleared": false,
        "source_hash": "d67dfbf7",
        "tags": [],
        "trusted": true
      },
      "outputs": [],
      "source": "# Fit the empty model\nempty_model <- lm(veg_eaten ~ NULL, data = respect_study)\nempty_model"
    },
    {
      "cell_type": "markdown",
      "metadata": {
        "cell_id": "4eb767f5fd1a4fc7a60a1b5d8ff8cc6b",
        "deepnote_app_block_visible": true,
        "deepnote_cell_height": 140.71875,
        "deepnote_cell_type": "markdown",
        "tags": []
      },
      "source": "<div class=\"alert alert-block alert-warning\">\n\n**Sample Response**\n\nWe would predict about 0.18 grams of Vegemite.\n\n</div>"
    },
    {
      "cell_type": "markdown",
      "metadata": {
        "cell_id": "30d6dbb879a04512a15223561fadc6c5",
        "deepnote_app_block_visible": true,
        "deepnote_cell_height": 170.140625,
        "deepnote_cell_type": "markdown",
        "tags": []
      },
      "source": "2.3 - But enough with the empty model--let’s create a model that’s more complex...a model that might be able to explain something! \n\nFind the best fitting model that goes with our hypothesis, **VEG_EATEN = RESPECT_CONDITION + OTHER STUFF** and put the numbers into GLM notation (by modifying this equation):\n\n$$Y_i = b_0 + b_1 X_i + e_i$$"
    },
    {
      "cell_type": "code",
      "execution_count": null,
      "metadata": {
        "cell_id": "c1cb39e99bbd4f20ad2c28e049979128",
        "deepnote_app_block_visible": true,
        "deepnote_cell_type": "code",
        "deepnote_to_be_reexecuted": false,
        "execution_context_id": "44c53abc-9876-4af7-aafe-3d218e5d60ce",
        "execution_millis": 1,
        "execution_start": 1729787298784,
        "source_hash": "a874b00d",
        "tags": [],
        "trusted": true
      },
      "outputs": [],
      "source": "# Fit the complex model\nrespect_model <- lm(veg_eaten ~ respect_condition, data = respect_study)\nrespect_model"
    },
    {
      "cell_type": "markdown",
      "metadata": {
        "cell_id": "6f614396489e4a96949f0c795d093d35",
        "deepnote_app_block_visible": true,
        "deepnote_cell_height": 140.9375,
        "deepnote_cell_type": "markdown",
        "tags": []
      },
      "source": "<div class=\"alert alert-block alert-warning\">\n\n**Sample Response**\n\n$$veg\\_eaten_i = 0.14 + 0.09 respect\\_condition_i + e_i$$\n\n</div>"
    },
    {
      "cell_type": "markdown",
      "metadata": {
        "cell_id": "7b01c9210e6647a5a6dd06178899c4fe",
        "deepnote_app_block_visible": true,
        "deepnote_cell_height": 74.953125,
        "deepnote_cell_type": "markdown",
        "tags": []
      },
      "source": "2.4 - Interpret the respect model’s estimates ($b_0$ and $b_1$). Where are those numbers in the faceted histogram below?"
    },
    {
      "cell_type": "code",
      "execution_count": null,
      "metadata": {
        "cell_id": "4ba8268c89364f5b8a865498a034b60f",
        "deepnote_app_block_visible": true,
        "deepnote_cell_type": "code",
        "deepnote_to_be_reexecuted": false,
        "execution_context_id": "44c53abc-9876-4af7-aafe-3d218e5d60ce",
        "execution_millis": 205,
        "execution_start": 1729787298832,
        "output_cleared": false,
        "source_hash": "cd488256",
        "tags": [],
        "trusted": true
      },
      "outputs": [],
      "source": "veg_eaten_stats <- favstats(veg_eaten ~ respect_condition, data = respect_study)\n\ngf_histogram(~veg_eaten, data = respect_study, fill = \"lightgreen\", color = \"midnightblue\") %>%\n    gf_facet_grid(respect_condition ~ .) %>% \n    gf_vline(xintercept = ~mean, data = veg_eaten_stats, color = \"orange3\")"
    },
    {
      "cell_type": "markdown",
      "metadata": {
        "cell_id": "338aba9c989e4762b9321bc4ea7d01c7",
        "deepnote_app_block_visible": true,
        "deepnote_cell_height": 207.90625,
        "deepnote_cell_type": "markdown",
        "tags": []
      },
      "source": "<div class=\"alert alert-block alert-warning\">\n\n**Sample Response**\n\nThe orange line near 0.14 in the no respect histogram represent b_0 (the mean\nof no respect). The distance between the two orange lines in each histogram \nrepresents b_1 (the amount needed to add to the mean of no respect to get the \nmean of the respect group, about 0.09).\n\n</div>"
    },
    {
      "cell_type": "markdown",
      "metadata": {
        "cell_id": "19c0c171630d4ccea3af1b27a7a4b200",
        "deepnote_app_block_visible": true,
        "deepnote_cell_height": 52.5625,
        "deepnote_cell_type": "markdown",
        "tags": []
      },
      "source": "2.5 - Also, what does the $Y_i$ and $X_i$ in the GLM notation stand for? Where are those in the plot?"
    },
    {
      "cell_type": "markdown",
      "metadata": {
        "cell_id": "f8976ed0c92a41f3bc92016f8fc3e8b1",
        "deepnote_app_block_visible": true,
        "deepnote_cell_height": 185.921875,
        "deepnote_cell_type": "markdown",
        "tags": []
      },
      "source": "<div class=\"alert alert-block alert-warning\">\n\n**Sample Response**\n\n$Y_i$ is the outcome variable, vegeaten, and that appears as all the individual cases in the histogram. $X_i$ is the explanatory variable, `respect_condition`, and is represented in each histogram.\n\n</div>"
    },
    {
      "cell_type": "markdown",
      "metadata": {
        "cell_id": "54fd9512de884ddc9684e6384631d0b5",
        "deepnote_app_block_visible": true,
        "deepnote_cell_height": 115.9375,
        "deepnote_cell_type": "markdown",
        "tags": []
      },
      "source": "<div class=\"alert alert-block alert-success\">\n\n### 3.0 - Approximate Time: 10-12 mins\n\n</div>"
    },
    {
      "cell_type": "markdown",
      "metadata": {
        "cell_id": "7df5213e6b854f41a3dfb384b8aaba25",
        "deepnote_app_block_visible": true,
        "deepnote_cell_height": 109.96875,
        "deepnote_cell_type": "markdown",
        "tags": []
      },
      "source": "## 3.0 - Using the Respect Model for Making Predictions"
    },
    {
      "cell_type": "markdown",
      "metadata": {
        "cell_id": "c6973fa117294246a575bdc801809902",
        "deepnote_app_block_visible": true,
        "deepnote_cell_height": 125.140625,
        "deepnote_cell_type": "markdown",
        "tags": []
      },
      "source": "3.1 - Which does the respect model predict: \n\na. whether or not someone is in the respect group? \n\nb. how much Vegemite someone would eat? \n"
    },
    {
      "cell_type": "markdown",
      "metadata": {
        "cell_id": "d79e047b88574e5fb2b97deb94d239aa",
        "deepnote_app_block_visible": true,
        "deepnote_cell_height": 140.71875,
        "deepnote_cell_type": "markdown",
        "tags": []
      },
      "source": "<div class=\"alert alert-block alert-warning\">\n\n**Sample Response**\n\n> B\n\n</div>"
    },
    {
      "cell_type": "markdown",
      "metadata": {
        "cell_id": "818f8aa1d10f422996d7424506e3b732",
        "deepnote_app_block_visible": true,
        "deepnote_cell_height": 52.359375,
        "deepnote_cell_type": "markdown",
        "tags": []
      },
      "source": "3.2 - Why do we call it the “respect model”?"
    },
    {
      "cell_type": "markdown",
      "metadata": {
        "cell_id": "716d0703f0fd4bf1ad1eaeb757011b98",
        "deepnote_app_block_visible": true,
        "deepnote_cell_height": 163.125,
        "deepnote_cell_type": "markdown",
        "tags": []
      },
      "source": "<div class=\"alert alert-block alert-warning\">\n\n**Sample Response**\n\nBecause we are using the respect_condition to help us predict how much Vegemite someone ate.\n\n</div>"
    },
    {
      "cell_type": "markdown",
      "metadata": {
        "cell_id": "4b2b5eaa2078434385c0a2fdc25d9d72",
        "deepnote_app_block_visible": true,
        "deepnote_cell_height": 74.953125,
        "deepnote_cell_type": "markdown",
        "tags": []
      },
      "source": "3.3 - What would the $$X_i$$ value be for someone in the **no respect** group? What would the respect model predict for someone in the no respect group?"
    },
    {
      "cell_type": "markdown",
      "metadata": {
        "cell_id": "bd7097e541f7454097ef4053d42afb94",
        "deepnote_app_block_visible": true,
        "deepnote_cell_height": 163.328125,
        "deepnote_cell_type": "markdown",
        "tags": []
      },
      "source": "<div class=\"alert alert-block alert-warning\">\n\n**Sample Response**\n\n$X_i$ would be zero for someone in the no respect group and would predict about 0.14 grams of Vegemite eaten.\n\n</div>"
    },
    {
      "cell_type": "markdown",
      "metadata": {
        "cell_id": "8726b11bf49d4702bfdf8262c742d85c",
        "deepnote_app_block_visible": true,
        "deepnote_cell_height": 74.953125,
        "deepnote_cell_type": "markdown",
        "tags": []
      },
      "source": "3.4 - What would $$X_i$$ be for someone in the **respect** group? What would the respect model predict for someone in the respect group?\n"
    },
    {
      "cell_type": "markdown",
      "metadata": {
        "cell_id": "8d5dde088c4a4b07b3e758c907df64bd",
        "deepnote_app_block_visible": true,
        "deepnote_cell_height": 163.328125,
        "deepnote_cell_type": "markdown",
        "tags": []
      },
      "source": "<div class=\"alert alert-block alert-warning\">\n\n**Sample Response**\n\n$X_i$ would be one for someone in the respect group and would predict about 0.23 grams of Vegemite eaten.\n\n</div>"
    },
    {
      "cell_type": "markdown",
      "metadata": {
        "cell_id": "b5779204ba254cfa80b016c360ca95bb",
        "deepnote_app_block_visible": true,
        "deepnote_cell_height": 111.140625,
        "deepnote_cell_type": "markdown",
        "tags": []
      },
      "source": "3.5 - Save the predictions of the respect model into the data frame. Let's call these `respect_pred`.\n\nModify the code below to also include the predictions from the respect model."
    },
    {
      "cell_type": "code",
      "execution_count": null,
      "metadata": {
        "cell_id": "3bfe7f751d6649e1b8aa93dea0d01e43",
        "deepnote_app_block_visible": true,
        "deepnote_cell_height": 147.96875,
        "deepnote_cell_type": "code",
        "deepnote_to_be_reexecuted": false,
        "execution_context_id": "44c53abc-9876-4af7-aafe-3d218e5d60ce",
        "execution_millis": 1,
        "execution_start": 1729787299088,
        "output_cleared": false,
        "source_hash": "f2cb7b08",
        "tags": [],
        "trusted": true
      },
      "outputs": [],
      "source": "# save the predictions from the respect_model into respect_pred\nrespect_study$respect_pred <- predict(respect_model)\n\n# check that it worked\nhead(respect_study)"
    },
    {
      "cell_type": "code",
      "execution_count": null,
      "metadata": {
        "cell_id": "78f6c921229c474fa144b552e1a0ea78",
        "deepnote_app_block_visible": true,
        "deepnote_cell_height": 93.953125,
        "deepnote_cell_type": "code",
        "deepnote_to_be_reexecuted": false,
        "execution_context_id": "44c53abc-9876-4af7-aafe-3d218e5d60ce",
        "execution_millis": 1,
        "execution_start": 1729787299132,
        "output_cleared": false,
        "source_hash": "40ed56f9",
        "tags": [],
        "trusted": true
      },
      "outputs": [],
      "source": "# modify code to also look at respect_pred\nhead(select(respect_study, respect_condition, veg_eaten, respect_pred), 10)"
    },
    {
      "cell_type": "markdown",
      "metadata": {
        "cell_id": "471fd293ba8a457d9b964a873fcdc39b",
        "deepnote_app_block_visible": true,
        "deepnote_cell_height": 111.140625,
        "deepnote_cell_type": "markdown",
        "tags": []
      },
      "source": "3.6 - Save the residuals from the respect model into the data frame. Let's call these `respect_resid`.\n\nModify the code below to also include the residuals from the respect model."
    },
    {
      "cell_type": "code",
      "execution_count": null,
      "metadata": {
        "cell_id": "5d52cde42c0d4cb196cf8ca80e48b7ed",
        "deepnote_app_block_visible": true,
        "deepnote_cell_height": 147.96875,
        "deepnote_cell_type": "code",
        "deepnote_to_be_reexecuted": false,
        "execution_context_id": "44c53abc-9876-4af7-aafe-3d218e5d60ce",
        "execution_millis": 1,
        "execution_start": 1729787299180,
        "output_cleared": false,
        "source_hash": "3280eb4c",
        "tags": [],
        "trusted": true
      },
      "outputs": [],
      "source": "# save the residuals from the respect_model into respect_resid\nrespect_study$respect_resid <- resid(respect_model)\n\n# check that it worked\nhead(respect_study)"
    },
    {
      "cell_type": "code",
      "execution_count": null,
      "metadata": {
        "cell_id": "3e02d0532b38404693eae1f36e28551b",
        "deepnote_app_block_visible": true,
        "deepnote_cell_height": 98.953125,
        "deepnote_cell_type": "code",
        "deepnote_to_be_reexecuted": false,
        "execution_context_id": "44c53abc-9876-4af7-aafe-3d218e5d60ce",
        "execution_millis": 1,
        "execution_start": 1729787299228,
        "output_cleared": false,
        "source_hash": "c53a4205",
        "tags": [],
        "trusted": true
      },
      "outputs": [],
      "source": "# modify code to also look at respect_resid\nhead(select(respect_study, respect_condition, veg_eaten, respect_pred, respect_resid), 10)"
    },
    {
      "cell_type": "markdown",
      "metadata": {
        "cell_id": "6fc5cf4fd00f48ca8885c54d813501eb",
        "deepnote_app_block_visible": true,
        "deepnote_cell_height": 115.9375,
        "deepnote_cell_type": "markdown",
        "tags": []
      },
      "source": "<div class=\"alert alert-block alert-success\">\n\n### 4.0 - Approximate Time: 10-12 mins\n\n</div>"
    },
    {
      "cell_type": "markdown",
      "metadata": {
        "cell_id": "1d0d7270b6fa4dcca37bace409c90168",
        "deepnote_app_block_visible": true,
        "deepnote_cell_height": 109.96875,
        "deepnote_cell_type": "markdown",
        "tags": []
      },
      "source": "## 4. 0 - Residuals: How “Off” are these Predictions?"
    },
    {
      "cell_type": "markdown",
      "metadata": {
        "cell_id": "ae20ae841ed04d6bbfc14ea5144530de",
        "deepnote_app_block_visible": true,
        "deepnote_cell_height": 111.140625,
        "deepnote_cell_type": "markdown",
        "tags": []
      },
      "source": "4.1 - Run the code below.\n\n(Everybody gestures) Where are the predictions in the histograms below?\nWhere are the residuals in the histograms below?"
    },
    {
      "cell_type": "code",
      "execution_count": null,
      "metadata": {
        "cell_id": "3a7c4d837ad349efb8133461577e81a4",
        "deepnote_app_block_visible": true,
        "deepnote_cell_height": 152.96875,
        "deepnote_cell_type": "code",
        "deepnote_to_be_reexecuted": false,
        "execution_context_id": "44c53abc-9876-4af7-aafe-3d218e5d60ce",
        "execution_millis": 164,
        "execution_start": 1729787299272,
        "output_cleared": false,
        "source_hash": "cd488256",
        "tags": [],
        "trusted": true
      },
      "outputs": [],
      "source": "veg_eaten_stats <- favstats(veg_eaten ~ respect_condition, data = respect_study)\n\ngf_histogram(~veg_eaten, data = respect_study, fill = \"lightgreen\", color = \"midnightblue\") %>%\n    gf_facet_grid(respect_condition ~ .) %>% \n    gf_vline(xintercept = ~mean, data = veg_eaten_stats, color = \"orange3\")"
    },
    {
      "cell_type": "markdown",
      "metadata": {
        "cell_id": "12aaecf234234b12af2b65b2ca67e885",
        "deepnote_app_block_visible": true,
        "deepnote_cell_height": 163.125,
        "deepnote_cell_type": "markdown",
        "tags": []
      },
      "source": "<div class=\"alert alert-block alert-warning\">\n\n**Sample Response**\n\n*Students should gesture to show the predictions (the orange lines) and then the distances from the other data points to those orange lines.*\n\n</div>"
    },
    {
      "cell_type": "markdown",
      "metadata": {
        "cell_id": "20b9b5a4c1164fd286ed7edbf7c7f824",
        "deepnote_app_block_visible": true,
        "deepnote_cell_height": 447.34375,
        "deepnote_cell_type": "markdown",
        "tags": []
      },
      "source": "4.2 - Which of these shows us an example of some residuals, the one with the blue lines or the one with the red lines?\n\n|                                                                           |                                                                           | \n|---------------------------------------------------------------------------|---------------------------------------------------------------------------|\n|<img src=\"https://coursekata-course-assets.s3.us-west-1.amazonaws.com/UCLATALL/czi-stats-course/jnb_NYd4B5J1-7-B-Two-Histograms-A.png\" title=\"histograms with blue lines\" width=\"100%\"/>|<img src=\"https://coursekata-course-assets.s3.us-west-1.amazonaws.com/UCLATALL/czi-stats-course/jnb_44ypmQLp-7-B-Two-Histograms-B.png\" title=\"histograms with red lines\" width=\"100%\"/>|\n"
    },
    {
      "cell_type": "markdown",
      "metadata": {
        "cell_id": "6869996c4dba4ea3bf368d17e2aa3da6",
        "deepnote_app_block_visible": true,
        "deepnote_cell_height": 140.71875,
        "deepnote_cell_type": "markdown",
        "tags": []
      },
      "source": "<div class=\"alert alert-block alert-warning\">\n\n**Sample Response**\n\nThe one with the red lines.\n\n\n</div>"
    },
    {
      "cell_type": "markdown",
      "metadata": {
        "cell_id": "e1c9bdc967a9496a9160bf301f7cf899",
        "deepnote_app_block_visible": true,
        "deepnote_cell_height": 74.75,
        "deepnote_cell_type": "markdown",
        "tags": []
      },
      "source": "4.3 - What do those residuals represent: the variation that has been explained or left unexplained by the respect model? How does GLM represent these residuals?"
    },
    {
      "cell_type": "markdown",
      "metadata": {
        "cell_id": "c30aaabf4c1049e6a312126fdca48b3c",
        "deepnote_app_block_visible": true,
        "deepnote_cell_height": 140.9375,
        "deepnote_cell_type": "markdown",
        "tags": []
      },
      "source": "<div class=\"alert alert-block alert-warning\">\n\n**Sample Response**\n\nThe variation left unexplained. The GLM represents these with $e_i$.\n\n</div>"
    },
    {
      "cell_type": "markdown",
      "metadata": {
        "cell_id": "1e1f8ad5d1cb42a99b700c86d6f61642",
        "deepnote_app_block_visible": true,
        "deepnote_cell_height": 125.546875,
        "deepnote_cell_type": "markdown",
        "tags": []
      },
      "source": "4.4 - The best fitting GLM was:\n\n$$veg\\_eaten_i = 0.14 + 0.09respect\\_condition_i + e_i$$\n\nDoes the $Y_i$ ($veg\\_eaten_i$) in the data below actually equal the model prediction plus the residual?"
    },
    {
      "cell_type": "code",
      "execution_count": null,
      "metadata": {
        "cell_id": "9f124c41334e47bb8a89337397a6258f",
        "deepnote_app_block_visible": true,
        "deepnote_cell_height": 80.953125,
        "deepnote_cell_type": "code",
        "deepnote_to_be_reexecuted": false,
        "execution_context_id": "44c53abc-9876-4af7-aafe-3d218e5d60ce",
        "execution_millis": 1,
        "execution_start": 1729787299480,
        "output_cleared": false,
        "source_hash": "54595304",
        "tags": [],
        "trusted": true
      },
      "outputs": [],
      "source": "head(select(respect_study, respect_condition, veg_eaten, respect_pred, respect_resid), 10)"
    },
    {
      "cell_type": "markdown",
      "metadata": {
        "cell_id": "b3e26f932fb8477087c99b5752219e2c",
        "deepnote_app_block_visible": true,
        "deepnote_cell_height": 213.515625,
        "deepnote_cell_type": "markdown",
        "tags": []
      },
      "source": "<div class=\"alert alert-block alert-warning\">\n\n**Sample Response**\n\nYes, it does.\n\nFor example, row number 1:\n\n0.000 = 0.1383974 +\t(-0.1383974)\n\n</div>"
    },
    {
      "cell_type": "markdown",
      "metadata": {
        "cell_id": "ea9eff82c95243d8ac0fe048c6351562",
        "deepnote_app_block_visible": true,
        "deepnote_cell_height": 169.921875,
        "deepnote_cell_type": "markdown",
        "tags": []
      },
      "source": "4.5 - Run the code below. \n\n(Everybody gestures) Where are the predictions of the empty model in the visualization below?\nWhere are the residuals from the empty model?\n\nWhat do those residuals represent: the variation that has been explained or left unexplained by the empty model? "
    },
    {
      "cell_type": "code",
      "execution_count": null,
      "metadata": {
        "cell_id": "00bb299f269042de97841c72bda352e5",
        "deepnote_app_block_visible": true,
        "deepnote_cell_height": 170.953125,
        "deepnote_cell_type": "code",
        "deepnote_to_be_reexecuted": false,
        "execution_context_id": "44c53abc-9876-4af7-aafe-3d218e5d60ce",
        "execution_millis": 155,
        "execution_start": 1729787299524,
        "output_cleared": false,
        "source_hash": "4b8affe5",
        "tags": [],
        "trusted": true
      },
      "outputs": [],
      "source": "# Run this code\nempty_stats <- favstats(~veg_eaten, data = respect_study)\n\ngf_histogram(~veg_eaten, data = respect_study, fill = \"lightgreen\", color = \"midnightblue\") %>%\n    gf_facet_grid(respect_condition ~ .) %>% \n    gf_vline(xintercept =~mean, data = empty_stats, color = \"blue\")"
    },
    {
      "cell_type": "markdown",
      "metadata": {
        "cell_id": "11c48d0cf8084364b3c15618c0f95b02",
        "deepnote_app_block_visible": true,
        "deepnote_cell_height": 244.296875,
        "deepnote_cell_type": "markdown",
        "tags": []
      },
      "source": "<div class=\"alert alert-block alert-warning\">\n\n**Sample Response**\n\n*Students should gesture to indicate the blue lines for the prediction of the empty model, and then gesture to show the distance between all the data points and the blue lines.*\n\nThe residuals represent the variation that has been left unexplained by the empty model (technically, with the empty model, it's all unexplained variation because we do not yet have an explanatory variable).\n\n</div>"
    },
    {
      "cell_type": "markdown",
      "metadata": {
        "cell_id": "7b953e3ab81d47d59a521acef0667383",
        "deepnote_app_block_visible": true,
        "deepnote_cell_height": 74.75,
        "deepnote_cell_type": "markdown",
        "tags": []
      },
      "source": "4.6 - Try adding the predictions of the respect model to the histogram above (so both models will be represented in the visualization)."
    },
    {
      "cell_type": "code",
      "execution_count": null,
      "metadata": {
        "cell_id": "87b7f8ea47094b57a15f371bea4a0248",
        "deepnote_app_block_visible": true,
        "deepnote_cell_height": 134.953125,
        "deepnote_cell_type": "code",
        "deepnote_to_be_reexecuted": false,
        "execution_context_id": "44c53abc-9876-4af7-aafe-3d218e5d60ce",
        "execution_millis": 175,
        "execution_start": 1729787299724,
        "output_cleared": false,
        "source_hash": "1f0d3c0a",
        "tags": [],
        "trusted": true
      },
      "outputs": [],
      "source": "gf_histogram(~veg_eaten, data = respect_study, fill = \"lightgreen\", color = \"midnightblue\") %>%\n    gf_facet_grid(respect_condition ~ .) %>% \n    gf_vline(xintercept =~mean, data = empty_stats, color = \"blue\") %>% \n    gf_vline(xintercept = ~mean, data = veg_eaten_stats, color = \"orange3\")"
    },
    {
      "cell_type": "markdown",
      "metadata": {
        "cell_id": "271fd5367eac41d7a903f72058bef018",
        "deepnote_app_block_visible": true,
        "deepnote_cell_height": 153.53125,
        "deepnote_cell_type": "markdown",
        "tags": []
      },
      "source": "4.7 - What's the part of the visualization that depicts:\n\n- the residuals from the empty model?\n- the residuals from the respect model?\n- the part of the error that has been explained? Which model did the explaining? "
    },
    {
      "cell_type": "markdown",
      "metadata": {
        "cell_id": "f54b29200cb64901af5c6cd59c7df537",
        "deepnote_app_block_visible": true,
        "deepnote_cell_height": 227.890625,
        "deepnote_cell_type": "markdown",
        "tags": []
      },
      "source": "<div class=\"alert alert-block alert-warning\">\n\n**Sample Response**\n\n1) The distance between the data points and the blue lines.\n\n2) The distance between the data points and the orange lines.\n\n3) The distance between the blue lines and the orange lines. The respect model \n(the orange lines) did the explaining. \n\n</div>"
    },
    {
      "cell_type": "markdown",
      "metadata": {
        "cell_id": "1c66e194bc534ad9bc3cf65b6dea081b",
        "deepnote_app_block_visible": true,
        "deepnote_cell_height": 115.9375,
        "deepnote_cell_type": "markdown",
        "tags": []
      },
      "source": "<div class=\"alert alert-block alert-success\">\n\n### 5.0 - Approximate Time: 10-12 mins\n\n</div>"
    },
    {
      "cell_type": "markdown",
      "metadata": {
        "cell_id": "d436dde4d77246e3a591437f453d1d30",
        "deepnote_app_block_visible": true,
        "deepnote_cell_height": 69.96875,
        "deepnote_cell_type": "markdown",
        "tags": []
      },
      "source": "## 5. 0 - How Helpful is the Respect Model?"
    },
    {
      "cell_type": "markdown",
      "metadata": {
        "cell_id": "150a426e168940eebee8cc143963426f",
        "deepnote_app_block_visible": true,
        "deepnote_cell_height": 133.53125,
        "deepnote_cell_type": "markdown",
        "tags": []
      },
      "source": "5.1 - Maybe we can just add up the residuals for the empty model to see if that total error is bigger than adding up residuals from the respect model.\n\nWhat is the problem with trying to add up these residuals (any of these residuals)? How does the sum of squares solve this problem?"
    },
    {
      "cell_type": "markdown",
      "metadata": {
        "cell_id": "24c0ecde25564befa6d6655284689693",
        "deepnote_app_block_visible": true,
        "deepnote_cell_height": 185.515625,
        "deepnote_cell_type": "markdown",
        "tags": []
      },
      "source": "<div class=\"alert alert-block alert-warning\">\n\n**Sample Response**\n\nWhen you add up the residuals you get zero (because the mean balances the residuals). The sum of squares solves this by squaring all the residuals first so the negative values don't cancel out the positive ones.\n\n</div>"
    },
    {
      "cell_type": "markdown",
      "metadata": {
        "cell_id": "18a69b1884f84dde88608c96d4d66041",
        "deepnote_app_block_visible": true,
        "deepnote_cell_height": 178.921875,
        "deepnote_cell_type": "markdown",
        "tags": []
      },
      "source": "5.2 - Now run `supernova()` on the respect model. Find the three sums of squares.\n \n- What unit are those numbers in?\n- Which tells us SS (the leftover error) from the empty model?\n- Which tells us SS from the respect model?\n- Which tells us how much of the error has been explained?"
    },
    {
      "cell_type": "code",
      "execution_count": null,
      "metadata": {
        "cell_id": "b279df31ff5947e397ae4b32d0a847de",
        "deepnote_app_block_visible": true,
        "deepnote_cell_type": "code",
        "deepnote_to_be_reexecuted": false,
        "execution_context_id": "44c53abc-9876-4af7-aafe-3d218e5d60ce",
        "execution_millis": 0,
        "execution_start": 1729787299948,
        "source_hash": "f319169f",
        "tags": [],
        "trusted": true
      },
      "outputs": [],
      "source": "supernova(respect_model)"
    },
    {
      "cell_type": "markdown",
      "metadata": {
        "cell_id": "8b92846f4dba4ef596d1d90f53ec3efb",
        "deepnote_app_block_visible": true,
        "deepnote_cell_height": 216.890625,
        "deepnote_cell_type": "markdown",
        "tags": []
      },
      "source": "<div class=\"alert alert-block alert-warning\">\n\n**Sample Response**\n\n1) The units are in squared grams\n\n2) SS Total\n\n3) SS Error\n\n4) SS Model\n\n</div>"
    },
    {
      "cell_type": "markdown",
      "metadata": {
        "cell_id": "08b22222d6c34c95ab672d4d49ee053d",
        "deepnote_app_block_visible": true,
        "deepnote_cell_height": 88.75,
        "deepnote_cell_type": "markdown",
        "tags": []
      },
      "source": "5.3 - What is the relationship between SS Model, SS Error, and SS Total?\n\nTake a look at the word equation for the respect hypothesis. Any similarities?"
    },
    {
      "cell_type": "markdown",
      "metadata": {
        "cell_id": "98ef19e679b44a74a2d76bd1e3cc50e2",
        "deepnote_app_block_visible": true,
        "deepnote_cell_height": 221.90625,
        "deepnote_cell_type": "markdown",
        "tags": []
      },
      "source": "<div class=\"alert alert-block alert-warning\">\n\n**Sample Response**\n\nThey are all types of error from a model. The relationship between them is: SS Total = SS Model + SS Error.\n\nThe word equation (veg_eaten = respect_condition + error) is similar because the `respect_condition` is like the SS Model, and the error is similar to the SS Error. In the word equation for no effect of respect (veg_eaten = mean + error), the veg_eaten is similar to SS Total.\n\nYou can see the relational similarity when they are written right on top of one another:\nSS Total = SS Model + SS Error\nveg_eaten = respect_condition + error\n\n\n</div>"
    },
    {
      "cell_type": "markdown",
      "metadata": {
        "cell_id": "ec8d614cb10f420583359c2a30d7e25a",
        "deepnote_app_block_visible": true,
        "deepnote_cell_height": 52.359375,
        "deepnote_cell_type": "markdown",
        "tags": []
      },
      "source": "5.4 - What is the relationship between PRE and the different sums of squares?"
    },
    {
      "cell_type": "markdown",
      "metadata": {
        "cell_id": "e8dc6c0d82d943ba93a6062b13251117",
        "deepnote_app_block_visible": true,
        "deepnote_cell_height": 140.71875,
        "deepnote_cell_type": "markdown",
        "tags": []
      },
      "source": "<div class=\"alert alert-block alert-warning\">\n\n**Sample Response**\n\nThe PRE is based on SS Model divided by SS Total.\n\n</div>"
    },
    {
      "cell_type": "markdown",
      "metadata": {
        "cell_id": "ef6e3dc57a0c4867a197e7722f72806d",
        "deepnote_app_block_visible": true,
        "deepnote_cell_height": 52.359375,
        "deepnote_cell_type": "markdown",
        "tags": []
      },
      "source": "5.5 - Interpret the PRE for the respect model. Is that a lot? Is that a little? Is it hard to tell?"
    },
    {
      "cell_type": "markdown",
      "metadata": {
        "cell_id": "01b04c07d38143d99bd9b93a526e539f",
        "deepnote_app_block_visible": true,
        "deepnote_cell_height": 163.125,
        "deepnote_cell_type": "markdown",
        "tags": []
      },
      "source": "<div class=\"alert alert-block alert-warning\">\n\n**Sample Response**\n\nThe PRE is about .07. According to conventions, this is a small-to-medium\neffect size.\n\n</div>"
    },
    {
      "cell_type": "markdown",
      "metadata": {
        "cell_id": "4c0fbf7a5e0e4662b4400d3c0298a37c",
        "deepnote_app_block_visible": true,
        "deepnote_cell_height": 52.359375,
        "deepnote_cell_type": "markdown",
        "tags": []
      },
      "source": "5.6 - What would it mean if PRE = 0.00, or if PRE = 1.00? Could the PRE = 2.00?"
    },
    {
      "cell_type": "markdown",
      "metadata": {
        "cell_id": "c126008ac54b455eb911299f12acdf4c",
        "deepnote_app_block_visible": true,
        "deepnote_cell_height": 185.515625,
        "deepnote_cell_type": "markdown",
        "tags": []
      },
      "source": "<div class=\"alert alert-block alert-warning\">\n\n**Sample Response**\n\nIf PRE = 0, then that means NONE of the variation has been explained by the model. If PRE = 1, that means ALL of the variation has been explained. PRE could not equal 2, because it is a proportion and can only range from 0 to 1.\n\n</div>"
    },
    {
      "cell_type": "markdown",
      "metadata": {
        "cell_id": "025f713ebce2439ea8a640ccbd9dbca1",
        "deepnote_app_block_visible": true,
        "deepnote_cell_height": 180.140625,
        "deepnote_cell_type": "markdown",
        "tags": []
      },
      "source": "5.7 - Is it possible that we could have gotten this PRE from a random process (where these groups are essentially the same but they are just a little different because of randomness)?"
    },
    {
      "cell_type": "markdown",
      "metadata": {
        "cell_id": "f82afdf9345b43ca952865e9da2046c0",
        "deepnote_app_block_visible": true,
        "deepnote_cell_height": 140.71875,
        "deepnote_cell_type": "markdown",
        "tags": []
      },
      "source": "<div class=\"alert alert-block alert-warning\">\n\n**Sample Response**\n\nYes, it's possible.\n\n</div>"
    }
  ],
  "metadata": {
    "deepnote_app_layout": "powerful-article",
    "deepnote_app_reactivity_enabled": true,
    "deepnote_notebook_id": "bf3f5bf4288e4ac1b8e1edd737f7cfdb",
    "kernelspec": {
      "display_name": "R",
      "language": "R",
      "name": "ir"
    },
    "language_info": {
      "codemirror_mode": "r",
      "file_extension": ".r",
      "mimetype": "text/x-r-source",
      "name": "R",
      "pygments_lexer": "r",
      "version": "4.3.3"
    },
    "nbsimplegrader": {
      "publish_config": {
        "classes": [],
        "options": [],
        "tools": []
      }
    }
  },
  "nbformat": 4,
  "nbformat_minor": 1
}