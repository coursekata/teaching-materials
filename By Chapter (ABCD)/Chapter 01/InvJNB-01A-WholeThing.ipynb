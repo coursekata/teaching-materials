{
  "cells": [
    {
      "cell_type": "markdown",
      "metadata": {
        "cell_id": "09630c304c954fd5bda5862a48a82351",
        "deepnote_cell_height": 81.953125,
        "deepnote_cell_type": "markdown"
      },
      "source": "# 1A: Westvaco - The Whole Thing\n"
    },
    {
      "cell_type": "markdown",
      "metadata": {
        "cell_id": "dea78feedf8e4287958978f4531e0482",
        "deepnote_cell_height": 169.921875,
        "deepnote_cell_type": "markdown",
        "tags": []
      },
      "source": "At the beginning of each Jupyter notebook, we must load the packages that we are going to use within the notebook. We usually copy/paste this code from one of our other jupyter notebooks! \n\nAlways run this first or a lot of our other code won't work.\n\nWhen you run it, you will not see any output, but you will see the `In[]:` (on the left) change to indicate that it ran properly. If you see an asterisk in it, like this `In[*]:`, it means it is still running. \n"
    },
    {
      "cell_type": "code",
      "execution_count": null,
      "metadata": {
        "cell_id": "c2960e23365f4389ac12a64abda5554c",
        "deepnote_cell_type": "code",
        "deepnote_to_be_reexecuted": false,
        "execution_millis": 4451,
        "execution_start": 1724440039698,
        "output_cleared": false,
        "source_hash": null,
        "trusted": true
      },
      "outputs": [],
      "source": "# This code will load the R packages we will use\nsuppressPackageStartupMessages({\n    library(coursekata)\n})"
    },
    {
      "cell_type": "markdown",
      "metadata": {
        "cell_id": "2f0a2dd13551452095a7e2a45758bf57",
        "deepnote_cell_height": 203.921875,
        "deepnote_cell_type": "markdown",
        "tags": []
      },
      "source": "### This is a Weird Lesson\n\nToday we'll take a tour through *all the important concepts we will cover in this class*. So it's a weird lesson. You aren't expected to understand everything we talk about today. But we want you to see how it will all fit together. \n\nWe figure if you have a sense of the whole story of statistics and how it gets used, then when we learn all the little details, you'll have a better sense of why they are important."
    },
    {
      "cell_type": "markdown",
      "metadata": {
        "cell_id": "af41a98411ec41a19da77e18e7fb5298",
        "deepnote_cell_height": 189.921875,
        "deepnote_cell_type": "markdown"
      },
      "source": "### The Case of Martin vs. Westvaco\n\nBack in 1994, Robert Martin was laid off from his job at Westvaco, Inc., (an envelope company) soon after he turned 55 years old. Martin believed that he was fired because of his age and sued Westvaco for age discrimination. A major piece of Martin’s case was based on a statistical analysis of the ages of the Westvaco employees. We will be taking a look at small sample of the data that was part of this court case.\n\n\n"
    },
    {
      "cell_type": "markdown",
      "metadata": {
        "cell_id": "777a200bcaa24073bc8e899f324af22b",
        "deepnote_cell_height": 69.96875,
        "deepnote_cell_type": "markdown"
      },
      "source": "## 1.0 - The Data"
    },
    {
      "cell_type": "markdown",
      "metadata": {
        "cell_id": "c5726e8a072f46cfadf1066f6f3ba31f",
        "deepnote_cell_height": 150.53125,
        "deepnote_cell_type": "markdown"
      },
      "source": "This is data from one of Westvaco's departments. There were three employees that were fired from this department.\n- Ages of all the employees in this department: 25, 33, 35, 38, 48, 55, 55, 55, 56, 64\n- Ages of the three who were fired: 55, 55, 64"
    },
    {
      "cell_type": "markdown",
      "metadata": {
        "cell_id": "5574370e944e4bea80b12735f1cd26b4",
        "deepnote_cell_height": 52.359375,
        "deepnote_cell_type": "markdown"
      },
      "source": "1.1 - What *in the data* supports Martin's claim of age discrimination?"
    },
    {
      "cell_type": "markdown",
      "metadata": {
        "cell_id": "8147f826eddf4ac0ac139c78e291a9f8",
        "deepnote_cell_height": 52.359375,
        "deepnote_cell_type": "markdown"
      },
      "source": "1.2 - What *in the data* supports the company's claim that it was NOT age discrimination?\n"
    },
    {
      "cell_type": "markdown",
      "metadata": {
        "cell_id": "6614969f20e64598bb5b47b3a0d9d811",
        "deepnote_cell_height": 74.75,
        "deepnote_cell_type": "markdown",
        "tags": []
      },
      "source": "1.3 - We've put in the ages of all the employees into an object called `everyone`. Write some code to save the ages of the three *fired* employees into an object called `fired`. "
    },
    {
      "cell_type": "code",
      "execution_count": null,
      "metadata": {
        "cell_id": "92c69a45eabd40ea9bb46d412217d4d3",
        "deepnote_cell_height": 114.953125,
        "deepnote_cell_type": "code",
        "deepnote_to_be_reexecuted": false,
        "execution_millis": 102,
        "execution_start": 1724440044173,
        "source_hash": null,
        "trusted": true
      },
      "outputs": [],
      "source": "everyone <- c(25, 33, 35, 38, 48, 55, 55, 55, 56, 64)\n\n\n# If you write this code correctly, will it print anything out?"
    },
    {
      "cell_type": "markdown",
      "metadata": {
        "cell_id": "bd07c2f69c1146c6a6d9e4ee5d3c85b6",
        "deepnote_cell_height": 74.75,
        "deepnote_cell_type": "markdown"
      },
      "source": "1.4 There is a function called `mean()`. We have written code to calculate the mean age for everyone. Write some code to calculate the mean age of the three people who were fired.\n"
    },
    {
      "cell_type": "code",
      "execution_count": null,
      "metadata": {
        "cell_id": "a0fe837885834215afc4d0e8f98c35a6",
        "deepnote_cell_height": 60.953125,
        "deepnote_cell_type": "code",
        "deepnote_to_be_reexecuted": false,
        "execution_millis": 317,
        "execution_start": 1724440044188,
        "output_cleared": false,
        "source_hash": null,
        "tags": [],
        "trusted": true
      },
      "outputs": [],
      "source": "mean(everyone)"
    },
    {
      "cell_type": "markdown",
      "metadata": {
        "cell_id": "4b307c8136bf43d1a686cb8acccaa0d4",
        "deepnote_cell_height": 74.75,
        "deepnote_cell_type": "markdown"
      },
      "source": "1.5 - Take a moment to practice putting *meaning* onto this number. For example, what does the 58 stand for? Does this help Martin's side of the argument or Westvaco's?"
    },
    {
      "cell_type": "markdown",
      "metadata": {
        "cell_id": "de2fc63db2e34ae4878f52eb8c82928f",
        "deepnote_cell_height": 69.96875,
        "deepnote_cell_type": "markdown"
      },
      "source": "## 2.0 - The Data Generating Process (DGP)"
    },
    {
      "cell_type": "markdown",
      "metadata": {
        "cell_id": "8a39e4addb3041f4b97fbc16d98097ee",
        "deepnote_cell_height": 74.75,
        "deepnote_cell_type": "markdown"
      },
      "source": "We know that the people who were fired were older on average than the rest. But what we really want to know is *how* were these people fired? **What was the Data Generating Process (DGP)?** "
    },
    {
      "cell_type": "markdown",
      "metadata": {
        "cell_id": "067e271b3de84c60aaa85b14b0782813",
        "deepnote_cell_height": 74.75,
        "deepnote_cell_type": "markdown"
      },
      "source": "2.1 - Age might have played a role. But maybe it didn't. Is it possible to have a completely fair process (e.g., randomly firing 3 people) and end up firing a group with an average age of 58? \n"
    },
    {
      "cell_type": "markdown",
      "metadata": {
        "cell_id": "33d32c737ce2415bbe6dd90ac8f6e1ed",
        "deepnote_cell_height": 483.453125,
        "deepnote_cell_type": "markdown",
        "tags": []
      },
      "source": "Without knowing exactly what happened in the brains of those who fired the three employees, the DGP is unknown. This one example is not enough to figure out the DGP because the *same* DGP can generate different samples! But we can come up with little theories (or models) of the DGP.\n\n2.2 - Here are some possible DGPs written as word equations:\n\n1. *FIRED = AGE + OTHER STUFF* (what is the other stuff?)\n> Martin thought that the decision to fire someone had something to do with age. But maybe some other stuff was involved too. \n\n2. *FIRED = TARDINESS + OTHER STUFF*  \n> Some people might think that the firing had a little bit to do with whether people were late to work.\n\n3. *Come up with another idea as a word equation*\n> Explain your idea here.\n\n4. *How would you write Westvaco's claim that \"age had nothing to do with it\" as a word equation*\n> Westvaco might say, \"Hey the decision was based on other stuff, not age discrimination!\""
    },
    {
      "cell_type": "markdown",
      "metadata": {
        "cell_id": "5d0e1d6c6ab9485699f59c409a5c3625",
        "deepnote_cell_height": 69.96875,
        "deepnote_cell_type": "markdown"
      },
      "source": "## 3.0 - A Special DGP: Randomness \n"
    },
    {
      "cell_type": "markdown",
      "metadata": {
        "cell_id": "d8ab11fed9f6437a8205a3e6c2d805a4",
        "deepnote_cell_height": 133.53125,
        "deepnote_cell_type": "markdown"
      },
      "source": "Although firing people randomly would be a terrible way to run a business, it is fair. Also, it's one that we can easily simulate. \n\n3.1 - If you pick three of the ten ages **25, 33, 35, 38, 48, 55, 55, 55, 56, 64** at random, do you think you are likely to get an average age of 58 or greater? Why or why not?\n"
    },
    {
      "cell_type": "markdown",
      "metadata": {
        "cell_id": "d34543b151114fc985501493aa1e6a4e",
        "deepnote_cell_height": 217.71875,
        "deepnote_cell_type": "markdown"
      },
      "source": "Let's try it! Let’s simulate the process of randomly selecting three people to be fired.\n- Write down each of the ten ages of the people in the department on separate little (roughly equal size) pieces of scrap paper.\n- Mix up the pieces of paper, and, without looking, randomly select three “people” to be fired and calculate the mean of those three ages (add the ages up and divide by 3).\n\n3.2 - Did anyone get a kind of old-ish group? If we do get an oldish group, is it because one of us discriminated based on age? \n"
    },
    {
      "cell_type": "markdown",
      "metadata": {
        "cell_id": "85e0129f8ad642f8930d50b224c0b282",
        "deepnote_cell_height": 74.75,
        "deepnote_cell_type": "markdown",
        "tags": []
      },
      "source": "3.3 - With R, we won't need to tear up pieces of paper. We can choose three ages randomly with a click of a button! "
    },
    {
      "cell_type": "code",
      "execution_count": null,
      "metadata": {
        "cell_id": "ee008374f4e6495b96323d8013006bc8",
        "deepnote_cell_height": 78.953125,
        "deepnote_cell_type": "code",
        "deepnote_to_be_reexecuted": false,
        "execution_millis": 298,
        "execution_start": 1724440044207,
        "output_cleared": false,
        "scrolled": true,
        "source_hash": null,
        "trusted": true
      },
      "outputs": [],
      "source": "# This code randomly fires 1 person. Modify it to fire 3 people randomly.\nsample(everyone, 1)"
    },
    {
      "cell_type": "markdown",
      "metadata": {
        "cell_id": "3165eea34e7e4da095de297dc3ead62e",
        "deepnote_cell_height": 74.75,
        "deepnote_cell_type": "markdown",
        "tags": []
      },
      "source": "3.4 - The code below saves a random group of three people into an object called `fired_randomly`. Write some code to calculate the mean age of the three people fired randomly."
    },
    {
      "cell_type": "code",
      "execution_count": null,
      "metadata": {
        "cell_id": "68e4879f888c4cfe9cf2aa72ff2dc4d3",
        "deepnote_cell_height": 60.953125,
        "deepnote_cell_type": "code",
        "deepnote_to_be_reexecuted": false,
        "execution_millis": 253,
        "execution_start": 1724440044253,
        "source_hash": null,
        "tags": [],
        "trusted": true
      },
      "outputs": [],
      "source": "fired_randomly <- sample(everyone, 3)"
    },
    {
      "cell_type": "markdown",
      "metadata": {
        "cell_id": "d33057382c164fddb6d4b3e73e269c60",
        "deepnote_cell_height": 74.75,
        "deepnote_cell_type": "markdown"
      },
      "source": "3.3 - What was the mean age? Did anyone in your class end up firing three people with an average age of 58 or older? Was it because R practiced age discrimination?\n"
    },
    {
      "cell_type": "markdown",
      "metadata": {
        "cell_id": "f09b52396a654a959eb4ca6258650a59",
        "deepnote_cell_height": 97.140625,
        "deepnote_cell_type": "markdown"
      },
      "source": "3.4 - What would happen if you run the code again? Try it a few times. Do you always get the same mean age from firing randomly? How often do we get an average age of 58 or greater from firing randomly?\n"
    },
    {
      "cell_type": "markdown",
      "metadata": {
        "cell_id": "1dbaededc8e94a288ec198093aa572bb",
        "deepnote_cell_height": 74.75,
        "deepnote_cell_type": "markdown"
      },
      "source": "3.5 - If the probability of getting an average age of 58 or greater turns out to be *small*, does this favor Martin or Westvaco? Why or why not?"
    },
    {
      "cell_type": "markdown",
      "metadata": {
        "cell_id": "0e7322e7a8954dd081c6426bd5f8fbbd",
        "deepnote_cell_height": 109.96875,
        "deepnote_cell_type": "markdown"
      },
      "source": "## 4.0 - All the Possibilities: A Sampling Distribution"
    },
    {
      "cell_type": "markdown",
      "metadata": {
        "cell_id": "1c3de72bb3c0410b847983902dcc6c92",
        "deepnote_cell_height": 276.5,
        "deepnote_cell_type": "markdown"
      },
      "source": "Now we can return to our two possible models of the DGP:\n\n1. *FIRED = AGE + OTHER STUFF*\n2. *FIRED = OTHER STUFF*\n\nWe have learned how to simulate firing people in a way that has *nothing to do with age*. A model of randomness is just all \"other stuff\". \n\nEven though it is hard to write down or even imagine all the possible ways that 10 people could get randomly fired, with R we can simulate doing this many, *many* times. Then we can see **how likely our actual data (e.g., a mean age of 58) would be to occur IF the second (completely random) model were true.**\n"
    },
    {
      "cell_type": "code",
      "execution_count": null,
      "metadata": {
        "cell_id": "516be164b084404aacb7a770914e43fe",
        "deepnote_cell_type": "code",
        "deepnote_to_be_reexecuted": false,
        "execution_millis": 252,
        "execution_start": 1724440044254,
        "output_cleared": false,
        "owner_user_id": "23d85493-7ed1-49a4-baa7-630eaab08193",
        "source_hash": null,
        "trusted": true
      },
      "outputs": [],
      "source": "# Run the code below. How come only one number gets printed? \n# What is being stored into fired_rand?\n\nfired_rand <- mean(sample(everyone, 3))\nfired_rand"
    },
    {
      "cell_type": "markdown",
      "metadata": {
        "cell_id": "a7037432f7a149deb809db5fb262f5f7",
        "deepnote_cell_height": 74.75,
        "deepnote_cell_type": "markdown"
      },
      "source": "4.1 Let's see what happens if you put `do(3) *` before the code `mean()` in the previous cell. What do you think this did? "
    },
    {
      "cell_type": "code",
      "execution_count": null,
      "metadata": {
        "cell_id": "9a8fea7b5af843329b90d29e53408d84",
        "deepnote_cell_height": 78.953125,
        "deepnote_cell_type": "code",
        "deepnote_to_be_reexecuted": false,
        "execution_millis": 253,
        "execution_start": 1724440044254,
        "output_cleared": false,
        "source_hash": null,
        "trusted": true
      },
      "outputs": [],
      "source": "fired_rand <- do(3) * mean(sample(everyone, 3))\nfired_rand"
    },
    {
      "cell_type": "markdown",
      "metadata": {
        "cell_id": "04e4b26b14a44b7391d15858c60e1531",
        "deepnote_cell_height": 52.359375,
        "deepnote_cell_type": "markdown"
      },
      "source": "4.3 - What does each row in this data frame represent?"
    },
    {
      "cell_type": "markdown",
      "metadata": {
        "cell_id": "37df861460cc4282b72ad990371a55f7",
        "deepnote_cell_height": 74.75,
        "deepnote_cell_type": "markdown",
        "tags": []
      },
      "source": "4.4 - Try modifying the code above to do this 1000 times! Did it work? Is that a lot faster than shuffling pieces of paper a thousand times?"
    },
    {
      "cell_type": "markdown",
      "metadata": {
        "cell_id": "e1e6a9ca392244d09c9e914ab6828266",
        "deepnote_cell_height": 167.53125,
        "deepnote_cell_type": "markdown"
      },
      "source": "### Graphing a sampling distribution\n\n4.5 - Notice that it's hard to look through 1000 numbers. That's why we will teach you methods of graphing throughout this class. Run the code below. Which part of this visualization represents times when \"oldish\" groups of people were fired? Which parts represent times when \"youngish\" groups of people were fired?"
    },
    {
      "cell_type": "code",
      "execution_count": null,
      "metadata": {
        "cell_id": "8c5b1e65d93b40ec8aefd49a60117d00",
        "deepnote_cell_height": 101.953125,
        "deepnote_cell_type": "code",
        "deepnote_to_be_reexecuted": false,
        "execution_millis": 269,
        "execution_start": 1724440044272,
        "output_cleared": false,
        "source_hash": null,
        "trusted": true
      },
      "outputs": [],
      "source": "# Run this code. This will make a visualization of the 1,000 mean ages of those fired from our last simulation. This is our sampling distribution.\ngf_histogram(~ mean, data=fired_rand, binwidth = 1, color = \"skyblue\")\n"
    },
    {
      "cell_type": "markdown",
      "metadata": {
        "cell_id": "bc7572e19d2240d386eb7f6535c31524",
        "deepnote_cell_height": 97.140625,
        "deepnote_cell_type": "markdown",
        "tags": []
      },
      "source": "4.6 - The code below will shade in the random samples that had average ages of 58 or higher. Is that a lot of the random samples? A little? Is the likelihood of generating a sample that old high? Medium? Low?"
    },
    {
      "cell_type": "code",
      "execution_count": null,
      "metadata": {
        "cell_id": "da0c4c4e8f444962ad7202680089c888",
        "deepnote_cell_height": 83.953125,
        "deepnote_cell_type": "code",
        "deepnote_to_be_reexecuted": false,
        "execution_millis": 256,
        "execution_start": 1724440179658,
        "output_cleared": false,
        "source_hash": null,
        "trusted": true
      },
      "outputs": [],
      "source": "gf_histogram(~ mean, data=fired_rand, binwidth = 1, color = \"white\", fill = ~mean >= 58)\n"
    },
    {
      "cell_type": "markdown",
      "metadata": {
        "cell_id": "06c193352bd04ad3a880f85fac7a8ccd",
        "deepnote_cell_height": 181.53125,
        "deepnote_cell_type": "markdown"
      },
      "source": "### Using the sampling distribution\n\nLet's use the sampling distribution to help us think about our previous question: How likely is it that we would have obtained an average age of 58 for fired employees if we had just fired people randomly?\n\nR can quickly count up how many means were greater than or equal to 58."
    },
    {
      "cell_type": "code",
      "execution_count": null,
      "metadata": {
        "cell_id": "230adf494c08472299721e7a67022a8f",
        "deepnote_cell_height": 119.953125,
        "deepnote_cell_type": "code",
        "deepnote_to_be_reexecuted": false,
        "execution_millis": 40,
        "execution_start": 1724440204301,
        "output_cleared": false,
        "source_hash": null,
        "trusted": true
      },
      "outputs": [],
      "source": "# Run this code.\n# 4.7 - How many of the 1000 simulated samples had a mean age of 58 or greater?\n\ntally(~ mean >= 58, data=fired_rand)"
    },
    {
      "cell_type": "code",
      "execution_count": null,
      "metadata": {
        "cell_id": "1b7e293fe28042c994de326a1bfb5313",
        "deepnote_cell_height": 119.953125,
        "deepnote_cell_type": "code",
        "deepnote_to_be_reexecuted": false,
        "execution_millis": 67,
        "execution_start": 1724440207419,
        "output_cleared": false,
        "source_hash": null,
        "trusted": true
      },
      "outputs": [],
      "source": "# Run this code. \n# 4.8 - What proportion of the 1000 simulated samples had a mean age of 58 or greater?\n\ntally(~ mean >= 58, data=fired_rand, format = \"proportion\")"
    },
    {
      "cell_type": "markdown",
      "metadata": {
        "cell_id": "0f96d84af71947dba65b3f9f3ab0bc06",
        "deepnote_cell_height": 69.96875,
        "deepnote_cell_type": "markdown"
      },
      "source": "## 5.0 - The Whole Thing"
    },
    {
      "cell_type": "markdown",
      "metadata": {
        "cell_id": "8da21668f8584b5c9dfeb5cafd3097f0",
        "deepnote_cell_height": 74.75,
        "deepnote_cell_type": "markdown"
      },
      "source": "5.1 - If the probability of getting an average age of 58 or greater turns out to be small, does this favor Martin or Westvaco? Why?"
    },
    {
      "cell_type": "markdown",
      "metadata": {
        "cell_id": "8ee4e6c1d7704ece9a95e7466e24d997",
        "deepnote_cell_height": 1017.859375,
        "deepnote_cell_type": "markdown"
      },
      "source": "### Distribution Triad as a .gif\n\n<img src=\"https://i.postimg.cc/fsgBppCw/Westvaco-Dist-Triad-Gif.gif\" title=\"Westvaco scenario analyzed with the distribution triad gif\" />\n</div>\n\n### Distribution Triad as a static image\n\n<img src=\"https://coursekata-course-assets.s3.us-west-1.amazonaws.com/UCLATALL/czi-stats-course/jnb_59dv1Bjm-Gy-Ml-Owy-Imgur.png\" title=\"Westvaco scenario analyzed with the distribution triad\" />"
    }
  ],
  "metadata": {
    "deepnote_notebook_id": "667137c3344146d1a83eaa539d1f9e67",
    "kernelspec": {
      "display_name": "R",
      "language": "R",
      "name": "ir"
    },
    "language_info": {
      "codemirror_mode": "r",
      "file_extension": ".r",
      "mimetype": "text/x-r-source",
      "name": "R",
      "pygments_lexer": "r",
      "version": "4.3.3"
    },
    "nbsimplegrader": {
      "publish_config": {
        "classes": [],
        "options": [],
        "tools": []
      }
    }
  },
  "nbformat": 4,
  "nbformat_minor": 1
}