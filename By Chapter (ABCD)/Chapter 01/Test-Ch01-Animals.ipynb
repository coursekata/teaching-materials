{
  "cells": [
    {
      "cell_type": "markdown",
      "metadata": {
        "cell_id": "ee98d092fd82407594b9e1311f0173e9",
        "deepnote_cell_type": "markdown",
        "nbsimplegrader": {
          "config_key": "markdown.view-only",
          "editable": false,
          "label": "Markdown: View-Only",
          "respondable": false,
          "response": null,
          "runnable": false,
          "type": "markdown"
        }
      },
      "source": "# <center>Test (Ch. 1): Asking R About Animals</center> \n\n"
    },
    {
      "cell_type": "code",
      "execution_count": null,
      "metadata": {
        "cell_id": "9be3f4bbe71546cdb1a24a0a0d772c81",
        "deepnote_cell_type": "code",
        "nbsimplegrader": {
          "config_key": "code.run-only",
          "editable": false,
          "label": "Code: Run-Only",
          "respondable": false,
          "response": null,
          "runnable": true,
          "type": "code"
        },
        "trusted": true
      },
      "outputs": [],
      "source": "# Run this code to load the required packages\nsuppressMessages(suppressWarnings(suppressPackageStartupMessages({\n  library(coursekata)\n})))"
    },
    {
      "cell_type": "markdown",
      "metadata": {
        "cell_id": "d6d15aee4a3545159de9c1e491cdbf8d",
        "deepnote_cell_type": "markdown",
        "nbsimplegrader": {
          "config_key": "markdown.view-only",
          "editable": false,
          "label": "Markdown: View-Only",
          "respondable": false,
          "response": null,
          "runnable": false,
          "type": "markdown"
        }
      },
      "source": "## All About Animals\n\nBelow is a table of information about various animal groups, gathered by a group of biologists. Help them put their data into R, and use it to answer some of the questions they are curious about."
    },
    {
      "cell_type": "markdown",
      "metadata": {
        "cell_id": "d16afaaeabf64ef6a8e8e94689a7eb4d",
        "deepnote_cell_type": "markdown",
        "nbsimplegrader": {
          "config_key": "markdown.view-only",
          "editable": false,
          "label": "Markdown: View-Only",
          "respondable": false,
          "response": null,
          "runnable": false,
          "type": "markdown"
        }
      },
      "source": "| Animal           | Animal Group | Avg. Weight (kg) | Habitat             | Blood Type   | Avg. Lifespan (years) | Diet                    |\n| ---------------- | ------------ | ----------- | ------------------- | ------------ | ------------- | ----------------------- |\n| African Elephant | Mammal       | 6,000     | Savanna, Forest     | Warm-blooded | 65       | Herbivore               |\n| House Cat        | Mammal       | 4.5       | Urban, Domestic     | Warm-blooded | 15       | Carnivore     |\n| Bald Eagle       | Bird         | 5.5       | Forests, Mountains  | Warm-blooded | 25       | Carnivore         |\n| Emperor Penguin  | Bird         | 30        | Antarctic Coast     | Warm-blooded | 20       | Carnivore  |\n| Komodo Dragon    | Reptile      | 80        | Islands (Indonesia) | Cold-blooded | 30       | Carnivore               |\n| Green Iguana     | Reptile      | 5         | Rainforest          | Cold-blooded | 18       | Herbivore               |\n"
    },
    {
      "cell_type": "markdown",
      "metadata": {
        "cell_id": "93d3ac0d05354d828d7ea7c1527f7206",
        "deepnote_cell_type": "markdown",
        "nbsimplegrader": {
          "config_key": "markdown.view-only",
          "editable": false,
          "label": "Markdown: View-Only",
          "respondable": false,
          "response": null,
          "runnable": false,
          "type": "markdown"
        }
      },
      "source": "### Question 1\n\nUse R to calculate the average lifespan of the birds represented in the table."
    },
    {
      "cell_type": "code",
      "execution_count": null,
      "metadata": {
        "cell_id": "c4ce176b83c94907bf2048792ccdcf00",
        "deepnote_cell_type": "code",
        "nbsimplegrader": {
          "config_key": "code.response",
          "editable": true,
          "label": "Response: Code",
          "respondable": true,
          "response": null,
          "runnable": true,
          "type": "code"
        },
        "trusted": true
      },
      "outputs": [],
      "source": "# What is the average lifespan of the birds?\n\n"
    },
    {
      "cell_type": "markdown",
      "metadata": {
        "cell_id": "bd9f886c8c7443d582a435a0310e8091",
        "deepnote_cell_type": "markdown",
        "nbsimplegrader": {
          "config_key": "markdown.view-only",
          "editable": false,
          "label": "Markdown: View-Only",
          "respondable": false,
          "response": null,
          "runnable": false,
          "type": "markdown"
        }
      },
      "source": "### Question 2\n\nCreate an R object called `weight` and save all of the weights of the animals. Then, print it out to check that it saved correctly."
    },
    {
      "cell_type": "code",
      "execution_count": null,
      "metadata": {
        "cell_id": "8d3ccb5ca4d9432499738b7f8cdc3fcb",
        "deepnote_cell_type": "code",
        "nbsimplegrader": {
          "config_key": "code.response",
          "editable": true,
          "label": "Response: Code",
          "respondable": true,
          "response": null,
          "runnable": true,
          "type": "code"
        },
        "trusted": true
      },
      "outputs": [],
      "source": "# Save the weights as an object called `weight`\n\n"
    },
    {
      "cell_type": "markdown",
      "metadata": {
        "cell_id": "6e43fa383cd44c74940276038aee7931",
        "deepnote_cell_type": "markdown",
        "nbsimplegrader": {
          "config_key": "markdown.view-only",
          "editable": false,
          "label": "Markdown: View-Only",
          "respondable": false,
          "response": null,
          "runnable": false,
          "type": "markdown"
        }
      },
      "source": "### Question 3\n\nThe biologists would like to convert the weights from kilograms to pounds. Use your `weight` object to multiply the weights by 2.205 to make that conversion (1 kg = 2.205 lbs), and save that new object as `weight_lbs`. Then, print it out to check that it saved correctly."
    },
    {
      "cell_type": "code",
      "execution_count": null,
      "metadata": {
        "cell_id": "7e266597748d4366a6c3cee9c0bb0a70",
        "deepnote_cell_type": "code",
        "nbsimplegrader": {
          "config_key": "code.response",
          "editable": true,
          "label": "Response: Code",
          "respondable": true,
          "response": null,
          "runnable": true,
          "type": "code"
        },
        "trusted": true
      },
      "outputs": [],
      "source": "# Convert weight to pounds and save as `weight_lbs`\n\n"
    },
    {
      "cell_type": "markdown",
      "metadata": {
        "cell_id": "fcb1d753135b4b41af4581abacccdd83",
        "deepnote_cell_type": "markdown",
        "nbsimplegrader": {
          "config_key": "markdown.view-only",
          "editable": false,
          "label": "Markdown: View-Only",
          "respondable": false,
          "response": null,
          "runnable": false,
          "type": "markdown"
        }
      },
      "source": "### Question 4\n\nBased on your calculations above, what is the average weight (in pounds) of the Green Iguana?"
    },
    {
      "cell_type": "markdown",
      "metadata": {
        "cell_id": "534fbfe11fea47569abdc26f0dc1edef",
        "deepnote_cell_type": "markdown",
        "nbsimplegrader": {
          "config_key": "markdown.response",
          "editable": true,
          "label": "Response: Markdown",
          "respondable": true,
          "response": null,
          "runnable": true,
          "type": "markdown"
        }
      },
      "source": "Average weight (in pounds) of a Green Iguana:\n\n"
    },
    {
      "cell_type": "markdown",
      "metadata": {
        "cell_id": "f20f95c9c12a4011a93917f62bbadba6",
        "deepnote_cell_type": "markdown",
        "nbsimplegrader": {
          "config_key": "markdown.view-only",
          "editable": false,
          "label": "Markdown: View-Only",
          "respondable": false,
          "response": null,
          "runnable": false,
          "type": "markdown"
        }
      },
      "source": "### Question 5\n\nWe put the diet information for each animal into R. Use R to answer the question: Is the Green Iguana (hint: the 6th animal in this object) an \"Herbivore\"?\n\n| Animal           | Diet                     |\n| ---------------- | ----------------         | \n| African Elephant |  Herbivore               |\n| House Cat        |  Carnivore               |\n| Bald Eagle       |  Carnivore               |\n| Emperor Penguin  |  Carnivore               |\n| Komodo Dragon    |  Carnivore               |\n| Green Iguana     |  Herbivore               |\n"
    },
    {
      "cell_type": "code",
      "execution_count": null,
      "metadata": {
        "cell_id": "73728baef7514b1488e1c6ffef45ef54",
        "deepnote_cell_type": "code",
        "nbsimplegrader": {
          "config_key": "code.run-only",
          "editable": false,
          "label": "Code: Run-Only",
          "respondable": false,
          "response": null,
          "runnable": true,
          "type": "code"
        },
        "trusted": true
      },
      "outputs": [],
      "source": "# Run this code\n# This puts the diet information into an object\ndiet <- c(\"Herbivore\", \"Carnivore\", \"Carnivore\", \"Carnivore\", \"Carnivore\", \"Herbivore\")\n"
    },
    {
      "cell_type": "code",
      "execution_count": null,
      "metadata": {
        "cell_id": "4639566074674eda9b4489a58b622111",
        "deepnote_cell_type": "code",
        "nbsimplegrader": {
          "config_key": "code.response",
          "editable": true,
          "label": "Response: Code",
          "respondable": true,
          "response": null,
          "runnable": true,
          "type": "code"
        },
        "trusted": true
      },
      "outputs": [],
      "source": "# Is the 6th animal (Green Iguana) an \"Herbivore\"?\n\n"
    },
    {
      "cell_type": "markdown",
      "metadata": {
        "cell_id": "a8d917acd2044529a6a58770d0a84b6e",
        "deepnote_cell_type": "markdown",
        "nbsimplegrader": {
          "config_key": "markdown.view-only",
          "editable": false,
          "label": "Markdown: View-Only",
          "respondable": false,
          "response": null,
          "runnable": false,
          "type": "markdown"
        }
      },
      "source": "### Question 6\n\nBelow we have saved all of the lifespans for each animal. Use R to answer the question: Is the average lifespan of a `cat` greater than the average lifespan of an `iguana`?"
    },
    {
      "cell_type": "code",
      "execution_count": null,
      "metadata": {
        "cell_id": "6097d331109c4e21952dd699fac108d5",
        "deepnote_cell_type": "code",
        "nbsimplegrader": {
          "config_key": "code.run-only",
          "editable": false,
          "label": "Code: Run-Only",
          "respondable": false,
          "response": null,
          "runnable": true,
          "type": "code"
        },
        "trusted": true
      },
      "outputs": [],
      "source": "# Run this code\n# This saves all the lifespans for each animal\naf_elephant <- 65\ncat <- 15\nbald_eagle <- 25\nemp_penguin <- 20\nkomodo <- 30\niguana <- 18"
    },
    {
      "cell_type": "code",
      "execution_count": null,
      "metadata": {
        "cell_id": "f911f34cf0584a3c866d271c2e6e6bd6",
        "deepnote_cell_type": "code",
        "nbsimplegrader": {
          "config_key": "code.response",
          "editable": true,
          "label": "Response: Code",
          "respondable": true,
          "response": null,
          "runnable": true,
          "type": "code"
        },
        "trusted": true
      },
      "outputs": [],
      "source": "# Is the average lifespan of a cat greater than the average lifespan of an iguana?\n\n"
    },
    {
      "cell_type": "markdown",
      "metadata": {
        "cell_id": "a3f7ec6ec41c4016b4bfe781035bc91f",
        "deepnote_cell_type": "markdown",
        "nbsimplegrader": {
          "config_key": "markdown.view-only",
          "editable": false,
          "label": "Markdown: View-Only",
          "respondable": false,
          "response": null,
          "runnable": false,
          "type": "markdown"
        }
      },
      "source": "### Question 7\n\nTake a look at the information in the table. Which set of measurements appears to have a broader range of variation across all the animals: Weight or lifespan?"
    },
    {
      "cell_type": "markdown",
      "metadata": {
        "cell_id": "87ce346a2ab94c1cbf0f6544f102f4d6",
        "deepnote_cell_type": "markdown",
        "nbsimplegrader": {
          "config_key": "markdown.view-only",
          "editable": false,
          "label": "Markdown: View-Only",
          "respondable": false,
          "response": null,
          "runnable": false,
          "type": "markdown"
        }
      },
      "source": "| Animal           | Animal Group | Avg. Weight (kg) | Habitat             | Blood Type   | Avg. Lifespan (years) | Diet                    |\n| ---------------- | ------------ | ----------- | ------------------- | ------------ | ------------- | ----------------------- |\n| African Elephant | Mammal       | 6,000     | Savanna, Forest     | Warm-blooded | 65       | Herbivore               |\n| House Cat        | Mammal       | 4.5       | Urban, Domestic     | Warm-blooded | 15       | Carnivore     |\n| Bald Eagle       | Bird         | 5.5       | Forests, Mountains  | Warm-blooded | 25       | Carnivore         |\n| Emperor Penguin  | Bird         | 30        | Antarctic Coast     | Warm-blooded | 20       | Carnivore  |\n| Komodo Dragon    | Reptile      | 80        | Islands (Indonesia) | Cold-blooded | 30       | Carnivore               |\n| Green Iguana     | Reptile      | 5         | Rainforest          | Cold-blooded | 18       | Herbivore               |\n"
    },
    {
      "cell_type": "markdown",
      "metadata": {
        "cell_id": "c3dfdc003e0346258255fdd4d53a6b3c",
        "deepnote_cell_type": "markdown",
        "nbsimplegrader": {
          "config_key": "markdown.response",
          "editable": true,
          "label": "Response: Markdown",
          "respondable": true,
          "response": null,
          "runnable": true,
          "type": "markdown"
        }
      },
      "source": "Which appears to vary more: Weight or lifespan?\n\n"
    },
    {
      "cell_type": "markdown",
      "metadata": {
        "cell_id": "bc4243c5604b44a9ad161219abe5328d",
        "deepnote_cell_type": "markdown",
        "nbsimplegrader": {
          "config_key": "markdown.view-only",
          "editable": false,
          "label": "Markdown: View-Only",
          "respondable": false,
          "response": null,
          "runnable": false,
          "type": "markdown"
        }
      },
      "source": "### Question 8\n\nTake a look at the information in the table. Which set of measurements appears to have more variation across all the animals: Blood type or habitat?"
    },
    {
      "cell_type": "markdown",
      "metadata": {
        "cell_id": "1d8e4e0a70974b36806691575a73ed93",
        "deepnote_cell_type": "markdown",
        "nbsimplegrader": {
          "config_key": "markdown.response",
          "editable": true,
          "label": "Response: Markdown",
          "respondable": true,
          "response": null,
          "runnable": true,
          "type": "markdown"
        }
      },
      "source": "Which appears to vary more: Blood type or habitat?\n\n"
    }
  ],
  "metadata": {
    "deepnote_notebook_id": "8e6ab9a9aa3e46bcaf6dcfd247d534a4",
    "kernelspec": {
      "display_name": "R",
      "language": "R",
      "name": "ir"
    },
    "language_info": {
      "codemirror_mode": "r",
      "file_extension": ".r",
      "mimetype": "text/x-r-source",
      "name": "R",
      "pygments_lexer": "r",
      "version": "4.3.3"
    },
    "nbsimplegrader": {
      "publish_config": {
        "classes": [],
        "options": [],
        "tools": []
      }
    }
  },
  "nbformat": 4,
  "nbformat_minor": 1
}