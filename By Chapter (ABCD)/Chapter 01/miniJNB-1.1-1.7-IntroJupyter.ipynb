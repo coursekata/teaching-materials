{
  "cells": [
    {
      "cell_type": "markdown",
      "metadata": {
        "cell_id": "081b330fc00a4e7f80c35e6d1f978318",
        "deepnote_cell_height": 81.953125,
        "deepnote_cell_type": "markdown"
      },
      "source": "# 1.1-1.7: Introduction to Jupyter Notebooks\n"
    },
    {
      "cell_type": "markdown",
      "metadata": {
        "cell_id": "f5e2858c6aa24e65b9a01bf4aa8407d4",
        "deepnote_cell_height": 69.96875,
        "deepnote_cell_type": "markdown",
        "tags": []
      },
      "source": "## 1.0 - What is a Jupyter Notebook?"
    },
    {
      "cell_type": "markdown",
      "metadata": {
        "cell_id": "2924f9a5d7bb49e0b1803658b026b79b",
        "deepnote_cell_height": 451.09375,
        "deepnote_cell_type": "markdown"
      },
      "source": "You have been learning R in the textbook using *CK Code* exercises and the *CK Code* sandbox. But real statisticians and data scientists don't use *DataCamp* in their work. They use either RStudio or Jupyter Notebooks. That's why we'll be learning Jupyter Notebooks too!\n\nSo... what is a Jupyter Notebook (JNB)?\n- It's kind of like a word document made up of different blocks called \"cells\". \n- There are two kinds of cells: CODE cells and MARKDOWN cells.\n- The nice thing about a JNB is that when you run some code, the output will appear right below it.\n- They are a great way to showcase and share your data analyses with others!"
    },
    {
      "cell_type": "markdown",
      "metadata": {
        "cell_id": "841566e54e2e40f9ba8bc6267c6b1235",
        "deepnote_cell_height": 169.921875,
        "deepnote_cell_type": "markdown",
        "tags": []
      },
      "source": "1.1 - Click on this text. This is a MARKDOWN cell. Do you see where it shows that it is a Markdown cell in the menu above? If you double-click inside this cell you can edit it!\n\nTry it! Write your name and your favorite food here:\n\n\n\n(After writing, try hitting SHIFT + RETURN.\nYou could also hit the \"Run\" button at the top of the notebook.)\n"
    },
    {
      "cell_type": "code",
      "execution_count": null,
      "metadata": {
        "cell_id": "d16f73c530274e70a52e86a960dbc089",
        "deepnote_cell_type": "code",
        "deepnote_to_be_reexecuted": false,
        "execution_millis": 151,
        "execution_start": 1724439729073,
        "output_cleared": false,
        "source_hash": null,
        "tags": [],
        "trusted": true
      },
      "outputs": [],
      "source": "# This is a CODE cell! Again, do you see where it shows that it is a Code cell in the menu above? \n# You can use it as a calculator or for running R code \n\n4 * 25\n\n# Click inside this code cell\n# Then press SHIFT + RETURN or \"Run\""
    },
    {
      "cell_type": "markdown",
      "metadata": {
        "cell_id": "c56a4798be334cf0b63b8a7827508024",
        "deepnote_cell_height": 150.53125,
        "deepnote_cell_type": "markdown",
        "tags": []
      },
      "source": "Notice that two things happened when you ran the code cell:\n- The output of the code (100) appeared right below the code.\n- The `In [ ]` changed to have a number inside of it.\n\nTry running the cell again. How does it change? What do you think the number inside `In [ ]` means?"
    },
    {
      "cell_type": "markdown",
      "metadata": {
        "cell_id": "3c112b376eda441da48824401b309973",
        "deepnote_cell_height": 133.53125,
        "deepnote_cell_type": "markdown",
        "tags": []
      },
      "source": "Notice that when you are editing a MARKDOWN cell, it sometimes looks like code (because the font is different), \nbut it is not the same as R code. It's just regular writing.\n\nBut MARKDOWN and CODE cells are similar because both kinds of cells need to be \"Run\" (with the \"Run\" button or with SHIFT + RETURN)."
    },
    {
      "cell_type": "markdown",
      "metadata": {
        "cell_id": "81651ff4816f470a8e5f22c4f0049c50",
        "deepnote_cell_height": 69.96875,
        "deepnote_cell_type": "markdown",
        "tags": []
      },
      "source": "## 2.0 - What are JNBs for?"
    },
    {
      "cell_type": "markdown",
      "metadata": {
        "cell_id": "88243dfb2c2d4783bdd25424c85f902d",
        "deepnote_cell_height": 192.328125,
        "deepnote_cell_type": "markdown",
        "tags": []
      },
      "source": "Since data science is about answering interesting and important questions using data, \nthese notebooks are a great way to give a report on your data that you can share with others!\n\nA good notebook is NOT just a bunch of code and numbers and graphs. \n\nA good notebook has regular writing (mixed in with the code, numbers, and graphs) \nto help people understand the questions you are trying to answer\nand what you did to answer those questions."
    },
    {
      "cell_type": "markdown",
      "metadata": {
        "cell_id": "9011bed4c1db46f3b6122481046294c5",
        "deepnote_cell_height": 69.96875,
        "deepnote_cell_type": "markdown",
        "tags": []
      },
      "source": "## 3.0 - Adding new MARKDOWN and CODE cells"
    },
    {
      "cell_type": "markdown",
      "metadata": {
        "cell_id": "002d5c252d4b4a57a68ad04b573c0261",
        "deepnote_cell_height": 161.53125,
        "deepnote_cell_type": "markdown",
        "tags": []
      },
      "source": "3.1 - You can insert a new cell anywhere in the notebook.\n\nSelect this cell by clicking on it (the bar along the left side will turn blue).\n\nThen, add a new cell below this one by just pressing the letter **b** on your keyboard.\n\nTry it!\n"
    },
    {
      "cell_type": "markdown",
      "metadata": {
        "cell_id": "3782c497487549d1853dee2aa3a80705",
        "deepnote_cell_height": 88.75,
        "deepnote_cell_type": "markdown",
        "tags": []
      },
      "source": "3.2 - What kind of cell did you insert?\n\nCan you figure out how to change it from Code to Markdown (or from Markdown to Code)? "
    },
    {
      "cell_type": "markdown",
      "metadata": {
        "cell_id": "3ed3439579c244a1bd305c31509b8235",
        "deepnote_cell_height": 111.140625,
        "deepnote_cell_type": "markdown",
        "tags": []
      },
      "source": "3.3 - You may also want to delete a cell.\n\nSelect this cell (side should turn blue). \nThen delete it by pressing the letters **d d** on your keyboard."
    },
    {
      "cell_type": "markdown",
      "metadata": {
        "cell_id": "9f434b67e7804d928f88eeb5253226fa",
        "deepnote_cell_height": 69.96875,
        "deepnote_cell_type": "markdown",
        "tags": []
      },
      "source": "## 4.0 - Order Matters"
    },
    {
      "cell_type": "markdown",
      "metadata": {
        "cell_id": "a72bd332deb54c0c96e830fe492db819",
        "deepnote_cell_height": 147.53125,
        "deepnote_cell_type": "markdown"
      },
      "source": "Since a notebook is a way to tell a story, the order of the cells matters, especially for our code cells.\n\nOne thing to keep in mind is that all the cells in a Jupyter Notebook are connected to each other. So you want to organize your code cells in order from top to bottom. \n\nLet's try an example."
    },
    {
      "cell_type": "code",
      "execution_count": null,
      "metadata": {
        "cell_id": "425e336688e44c10a8d4789ba2d084b4",
        "deepnote_cell_height": 168.953125,
        "deepnote_cell_type": "code",
        "deepnote_to_be_reexecuted": false,
        "execution_millis": 109,
        "execution_start": 1724439785003,
        "output_cleared": false,
        "source_hash": null,
        "tags": [],
        "trusted": true
      },
      "outputs": [],
      "source": "# 4.1\n# Read this code. Predict which number will print out.\n\nmy_money <- 15\nmy_money <- 2\n\nmy_money"
    },
    {
      "cell_type": "markdown",
      "metadata": {
        "cell_id": "eef9668efdcf4c8a875054d251f26f82",
        "deepnote_cell_height": 52.359375,
        "deepnote_cell_type": "markdown",
        "tags": []
      },
      "source": "4.2 - Why did it print that number? "
    },
    {
      "cell_type": "markdown",
      "metadata": {
        "cell_id": "3b1ab2168db045a68553d31768c58dab",
        "deepnote_cell_height": 88.75,
        "deepnote_cell_type": "markdown",
        "tags": []
      },
      "source": "Let's say the 2 stands for 2 dollars.\n\nHm, how much would that be in cents instead of dollars?"
    },
    {
      "cell_type": "code",
      "execution_count": null,
      "metadata": {
        "cell_id": "d4ed0394dfce41258ec3e8abfdabc68b",
        "deepnote_cell_height": 132.96875,
        "deepnote_cell_type": "code",
        "deepnote_to_be_reexecuted": false,
        "execution_millis": 24,
        "execution_start": 1724439795594,
        "output_cleared": false,
        "source_hash": null,
        "tags": [],
        "trusted": true
      },
      "outputs": [],
      "source": "# Run this code.\nmy_money <- my_money / 100\n\nmy_money"
    },
    {
      "cell_type": "markdown",
      "metadata": {
        "cell_id": "dd64d17797964429b909ffc9367d6780",
        "deepnote_cell_height": 125.140625,
        "deepnote_cell_type": "markdown",
        "tags": []
      },
      "source": "Oops! We made a mistake. \n\nInstead of *dividing* by 100, we should have multiplied by 100.\n\nLet's change the division sign (/) above into multiplication (*) and re-run the code cell."
    },
    {
      "cell_type": "markdown",
      "metadata": {
        "cell_id": "e17058bb4fee4487a95da2047442ec6e",
        "deepnote_cell_height": 88.75,
        "deepnote_cell_type": "markdown",
        "tags": []
      },
      "source": "4.3 - Do you get a number closer to what is expected? \n\nWhy not? "
    },
    {
      "cell_type": "markdown",
      "metadata": {
        "cell_id": "398425a3b0424b32ac47ee8872871d71",
        "deepnote_cell_height": 133.53125,
        "deepnote_cell_type": "markdown",
        "owner_user_id": "23d85493-7ed1-49a4-baa7-630eaab08193",
        "tags": []
      },
      "source": "Well, we still don't get the answer because `my_money` had our mistake (0.02) in it.\nSo when we ran our code, we multiplied 0.02 with 100... which leads us back to 2.\n\nTo fix this, go to **Cell** from the menu bar and then select **Run All**. \nThis will re-run all the cells in the whole notebook in order."
    },
    {
      "cell_type": "markdown",
      "metadata": {
        "cell_id": "2537628e85bf4a22889b98c16e7a81e6",
        "deepnote_cell_type": "markdown"
      },
      "source": "Check out this [short video to get a closer look at what the code is doing](https://vimeo.com/858772359)!"
    },
    {
      "cell_type": "markdown",
      "metadata": {
        "cell_id": "e5b6670daae94c49bb95220b3f6203dd",
        "deepnote_cell_height": 69.96875,
        "deepnote_cell_type": "markdown",
        "tags": []
      },
      "source": "## 5.0 - Debugging"
    },
    {
      "cell_type": "markdown",
      "metadata": {
        "cell_id": "9ea77bd325484755be4f79c6b2344867",
        "deepnote_cell_height": 74.75,
        "deepnote_cell_type": "markdown",
        "tags": []
      },
      "source": "Everyone (even experts) will make errors during coding. \nSo a big part programming is debugging code that someone (students, teachers, professionals) wrote."
    },
    {
      "cell_type": "code",
      "execution_count": null,
      "metadata": {
        "cell_id": "68c466d21ea447cda1abbe718fe42802",
        "deepnote_cell_height": 150.953125,
        "deepnote_cell_type": "code",
        "deepnote_to_be_reexecuted": false,
        "execution_millis": 29,
        "execution_start": 1724439870105,
        "output_cleared": false,
        "source_hash": null,
        "tags": [],
        "trusted": true
      },
      "outputs": [],
      "source": "# 5.1\n# Run the wrong code first\n# Then try debugging it\n\nfarm <- c(\"horse\", \"goat\", \"pig\", \"chicken\")\nFarm"
    },
    {
      "cell_type": "code",
      "execution_count": null,
      "metadata": {
        "cell_id": "4df71ea5a6804c6ca662d27062f97c76",
        "deepnote_cell_height": 168.953125,
        "deepnote_cell_type": "code",
        "deepnote_to_be_reexecuted": false,
        "execution_millis": 70,
        "execution_start": 1724439880808,
        "output_cleared": false,
        "source_hash": null,
        "tags": [],
        "trusted": true
      },
      "outputs": [],
      "source": "# 5.2\n# Can you figure out how to debug this one based on the error message?\n\nfarm <- c(\"horse\", \"goat\", \"pig\", \"chicken\")\njungle <- c(\"jaguar\", elephant\", \"hippo\")\n\nanimals <- c(farm, jungle)"
    },
    {
      "cell_type": "code",
      "execution_count": null,
      "metadata": {
        "cell_id": "7070fd92826345469c37b8dbad1ad195",
        "deepnote_cell_height": 186.953125,
        "deepnote_cell_type": "code",
        "deepnote_to_be_reexecuted": false,
        "execution_millis": 47,
        "execution_start": 1724439886554,
        "output_cleared": false,
        "source_hash": null,
        "tags": [],
        "trusted": true
      },
      "outputs": [],
      "source": "# 5.3\n# Try this one\n# Does this error message help?\n\nfarm <- c(\"horse\", \"goat\", \"pig\", \"chicken\")\njungle <- c(\"jaguar\", \"elephant\", \"hippo\")\n\nanimals <- c(farm; jungle)"
    },
    {
      "cell_type": "code",
      "execution_count": null,
      "metadata": {
        "cell_id": "f0b52d35fa7d49f6b6c6452756d003e1",
        "deepnote_cell_height": 132.96875,
        "deepnote_cell_type": "code",
        "deepnote_to_be_reexecuted": false,
        "execution_millis": 29,
        "execution_start": 1724439892008,
        "output_cleared": false,
        "source_hash": null,
        "tags": [],
        "trusted": true
      },
      "outputs": [],
      "source": "# 5.4\n# How about this one?\n\nfarm[1]\nanimals(1)"
    },
    {
      "cell_type": "code",
      "execution_count": null,
      "metadata": {
        "cell_id": "44b85cb006134125a3f9bcaf7718dee2",
        "deepnote_cell_height": 114.953125,
        "deepnote_cell_type": "code",
        "deepnote_to_be_reexecuted": false,
        "execution_millis": 37,
        "execution_start": 1724439898074,
        "output_cleared": false,
        "source_hash": null,
        "tags": [],
        "trusted": true
      },
      "outputs": [],
      "source": "# 5.5\n# What happened here?\n\nfarm[1] == anmals[1]"
    },
    {
      "cell_type": "markdown",
      "metadata": {
        "cell_id": "87b086a3d3ef4bfd90f7692b726429e6",
        "deepnote_cell_height": 234.703125,
        "deepnote_cell_type": "markdown",
        "tags": []
      },
      "source": "The R error messages sometimes use a lot of jargon and are not always easy to understand, so don’t worry if they don’t always make much sense. Just think of them as clues from the computer that you have to figure out! It's kind of like trying to solve a little mystery.\n\nIn the examples above, what are some coding errors you saw?\n- describe some of\n- the errors you\n- saw here"
    },
    {
      "cell_type": "markdown",
      "metadata": {
        "cell_id": "289b2c5fa85b404fbb1fa934a486a34b",
        "deepnote_cell_height": 69.96875,
        "deepnote_cell_type": "markdown"
      },
      "source": "## 6.0 - Explore!"
    },
    {
      "cell_type": "markdown",
      "metadata": {
        "cell_id": "ea04d52ff22c41a88ea73b60a1814fd6",
        "deepnote_cell_height": 74.75,
        "deepnote_cell_type": "markdown",
        "tags": []
      },
      "source": "If you hover above each of the buttons in the toolbar, you will see text show up to tell you what they are. Try using the buttons to do the following:"
    },
    {
      "cell_type": "markdown",
      "metadata": {
        "cell_id": "7678482390a44aa8b078369db3e51ad8",
        "deepnote_cell_height": 52.359375,
        "deepnote_cell_type": "markdown",
        "tags": []
      },
      "source": "6.1 - Save your work (frequently)! Which button would you use for that?"
    },
    {
      "cell_type": "markdown",
      "metadata": {
        "cell_id": "cbcde04113b34983911de507c29bbaae",
        "deepnote_cell_height": 52.359375,
        "deepnote_cell_type": "markdown",
        "tags": []
      },
      "source": "6.2 - Move a cell up or down. "
    },
    {
      "cell_type": "markdown",
      "metadata": {
        "cell_id": "28f05546d6d14defba6297da02d0ac41",
        "deepnote_cell_height": 52.359375,
        "deepnote_cell_type": "markdown",
        "tags": []
      },
      "source": "6.3 - Use the buttons to add a cell and delete a cell."
    },
    {
      "cell_type": "markdown",
      "metadata": {
        "cell_id": "0e10d929f41e4d37a41c7dcbf55ace0a",
        "deepnote_cell_height": 52.359375,
        "deepnote_cell_type": "markdown",
        "tags": []
      },
      "source": "6.4 - Copy a cell and paste it somewhere else in the notebook."
    },
    {
      "cell_type": "markdown",
      "metadata": {
        "cell_id": "3e12976733804787a46245aa7a02f522",
        "deepnote_cell_height": 52.359375,
        "deepnote_cell_type": "markdown",
        "tags": []
      },
      "source": "6.5 - What does a **hashtag** (#) at the beginning of a line do in a **markdown** cell? What does it do in a **code** cell?"
    },
    {
      "cell_type": "markdown",
      "metadata": {
        "cell_id": "b5494384488b4b8a91070c6ce11789f1",
        "deepnote_cell_height": 175.53125,
        "deepnote_cell_type": "markdown"
      },
      "source": "## 7.0 - Closing up\n\nRemember, Jupyter notebooks are for *your use* so you can customize it in a way that is most helpful to YOU! For example, you can add Markdown cells for your own notes or answers; you can write some answers right below questions; you can use comments (that start with #) within code cells to annotate your answers. If any questions come up that you want to ask later, you can write those questions in as well! "
    }
  ],
  "metadata": {
    "deepnote_notebook_id": "b65201c394f34c898ba58c29a01d21af",
    "kernelspec": {
      "display_name": "R",
      "language": "R",
      "name": "ir"
    },
    "language_info": {
      "codemirror_mode": "r",
      "file_extension": ".r",
      "mimetype": "text/x-r-source",
      "name": "R",
      "pygments_lexer": "r",
      "version": "4.3.3"
    },
    "nbsimplegrader": {
      "publish_config": {
        "classes": [],
        "options": [],
        "tools": []
      }
    }
  },
  "nbformat": 4,
  "nbformat_minor": 1
}