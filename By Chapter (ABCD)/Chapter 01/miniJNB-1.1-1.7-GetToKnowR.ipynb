{
  "cells": [
    {
      "cell_type": "markdown",
      "metadata": {
        "cell_id": "bf044faa912b46ee8dd8f96d51916977",
        "deepnote_cell_type": "markdown"
      },
      "source": "# Getting to Know R\n\n## Chapter 1.1 - 1.7 Introduction to R Functions"
    },
    {
      "cell_type": "code",
      "execution_count": null,
      "metadata": {
        "cell_id": "2aae299a617c41f5a0df9b1e02106798",
        "deepnote_cell_type": "code",
        "execution_context_id": "57074c1b-56dc-4078-b5d4-00f4c8228150",
        "execution_millis": 1107,
        "execution_start": 1743702784619,
        "scrolled": false,
        "source_hash": "240debbc",
        "trusted": true
      },
      "outputs": [],
      "source": "# This code will load the R packages we will use\nlibrary(coursekata)\n"
    },
    {
      "cell_type": "markdown",
      "metadata": {
        "cell_id": "07c21720653746699d045f70972e2ca8",
        "deepnote_cell_type": "markdown"
      },
      "source": "### 1.1 Make Vectors\n\nMake a vector of the first 10 even numbers that saves the results in a vector called `even_num`.  Complete the code below."
    },
    {
      "cell_type": "code",
      "execution_count": null,
      "metadata": {
        "cell_id": "265c854c071749f1901c1432842e3661",
        "deepnote_cell_type": "code",
        "scrolled": false,
        "trusted": true
      },
      "outputs": [],
      "source": "# complete and run code here\neven_num <- c(\n"
    },
    {
      "cell_type": "markdown",
      "metadata": {
        "cell_id": "7d42145d011441708d33f25cd68f4cba",
        "deepnote_cell_type": "markdown"
      },
      "source": "### 1.2  \nWhy didn't anything print out?  Explain."
    },
    {
      "cell_type": "markdown",
      "metadata": {
        "cell_id": "ee0155843a354023a8486d2bba1e8801",
        "deepnote_cell_type": "markdown"
      },
      "source": "### 1.3\n\nWhat line of code would you use to print the results of `even_num`?\n"
    },
    {
      "cell_type": "code",
      "execution_count": null,
      "metadata": {
        "cell_id": "c497d5f62ec04020953cdbdc3280147d",
        "deepnote_cell_type": "code",
        "trusted": true
      },
      "outputs": [],
      "source": "# complete and run the code here\n"
    },
    {
      "cell_type": "markdown",
      "metadata": {
        "cell_id": "30c48266482e48528368366a2257077f",
        "deepnote_cell_type": "markdown"
      },
      "source": "### 1.4\n\nWhat is the line of code you would use to see only the third element in the vector `even_num`?  Complete the code below."
    },
    {
      "cell_type": "code",
      "execution_count": null,
      "metadata": {
        "cell_id": "338727074a464cb7a06efdbf7aa0f422",
        "deepnote_cell_type": "code",
        "trusted": true
      },
      "outputs": [],
      "source": "# complete and run code here \neven_num[]\n"
    },
    {
      "cell_type": "markdown",
      "metadata": {
        "cell_id": "7e8a1bb91bd74d5eb89993bafc22a0b6",
        "deepnote_cell_type": "markdown"
      },
      "source": "### 1.5\n\nChange the elements in `even_num` by a factor of 3.  Save the new vector as `results` and print the results."
    },
    {
      "cell_type": "code",
      "execution_count": null,
      "metadata": {
        "cell_id": "2f347638ee4a408d9c2bd1ef9750f640",
        "deepnote_cell_type": "code",
        "trusted": true
      },
      "outputs": [],
      "source": "# complete and run code here\nresults <- even_num\nresults\n"
    },
    {
      "cell_type": "markdown",
      "metadata": {
        "cell_id": "99433334da6e48b7810caaa3d7881ecb",
        "deepnote_cell_type": "markdown"
      },
      "source": "### 1.6\n\nWhat do you expect the code below to print?  "
    },
    {
      "cell_type": "code",
      "execution_count": null,
      "metadata": {
        "cell_id": "ba951232ae15499d9650e77e2a297412",
        "deepnote_cell_type": "code",
        "trusted": true
      },
      "outputs": [],
      "source": "# run the code to check your prediction\n\neven_num + 1\n"
    },
    {
      "cell_type": "markdown",
      "metadata": {
        "cell_id": "c323c84c2ec940caaef74db9044c8bee",
        "deepnote_cell_type": "markdown"
      },
      "source": "### 2.1\n\nMake a vector of characters (or chars) of desserts. Include the elements: cake, pudding, and pie.  Complete the code below."
    },
    {
      "cell_type": "code",
      "execution_count": null,
      "metadata": {
        "cell_id": "7ff3c95d1cc4439881a5c10a69c63d23",
        "deepnote_cell_type": "code",
        "trusted": true
      },
      "outputs": [],
      "source": "# complete and run code here\nc()\n"
    },
    {
      "cell_type": "markdown",
      "metadata": {
        "cell_id": "4bad449030e549f384e9d608d3e3de16",
        "deepnote_cell_type": "markdown"
      },
      "source": "Does the code above print or save the dessert vector?\n"
    },
    {
      "cell_type": "markdown",
      "metadata": {
        "cell_id": "794e61d5910342a7b2bee70ceb8f64ee",
        "deepnote_cell_type": "markdown"
      },
      "source": "### 2.2\n\nSave the dessert vector described in 2.1 as `my_desserts`.  "
    },
    {
      "cell_type": "code",
      "execution_count": null,
      "metadata": {
        "cell_id": "58307134054944248e472f4d2e6f197b",
        "deepnote_cell_type": "code",
        "trusted": true
      },
      "outputs": [],
      "source": "# complete and run code here\n <- c(\"cake\", \"pudding\", \"pie\")\n"
    },
    {
      "cell_type": "markdown",
      "metadata": {
        "cell_id": "bd615fadba9e44859cff5c0a0b1f7c5e",
        "deepnote_cell_type": "markdown"
      },
      "source": "### 2.3\n\nHow would you modify and update `my_desserts` with a fourth dessert brownies?  Print the results to check that it worked."
    },
    {
      "cell_type": "code",
      "execution_count": null,
      "metadata": {
        "cell_id": "d9ce4e07c7f34585bcfcb932253a917c",
        "deepnote_cell_type": "code",
        "trusted": true
      },
      "outputs": [],
      "source": "# complete and run code here\nmy_desserts <- c(my_desserts, )\n"
    },
    {
      "cell_type": "markdown",
      "metadata": {
        "cell_id": "b147d46a841344559575c29fba1f8fac",
        "deepnote_cell_type": "markdown"
      },
      "source": "### 2.4\n\nPrint the second element in `my_desserts`."
    },
    {
      "cell_type": "code",
      "execution_count": null,
      "metadata": {
        "cell_id": "c2d2002d9c1442ebbf72946fa0de4d63",
        "deepnote_cell_type": "code",
        "trusted": true
      },
      "outputs": [],
      "source": "# complete and run code here\nmy_desserts[]\n"
    }
  ],
  "metadata": {
    "deepnote_notebook_id": "eb9c5bc499b3472d8be924670096cc9d",
    "kernelspec": {
      "display_name": "R",
      "language": "R",
      "name": "ir"
    },
    "language_info": {
      "codemirror_mode": "r",
      "file_extension": ".r",
      "mimetype": "text/x-r-source",
      "name": "R",
      "pygments_lexer": "r",
      "version": "4.3.3"
    },
    "nbsimplegrader": {
      "publish_config": {
        "classes": [],
        "options": [],
        "tools": []
      }
    }
  },
  "nbformat": 4,
  "nbformat_minor": 1
}