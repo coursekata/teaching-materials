{
  "cells": [
    {
      "cell_type": "markdown",
      "metadata": {
        "cell_id": "8b7c7367584344ba929774fea649f59e",
        "deepnote_cell_height": 260.703125,
        "deepnote_cell_type": "markdown"
      },
      "source": "# 14A: Redlining: Historic Effects of Racism"
    },
    {
      "cell_type": "code",
      "execution_count": null,
      "metadata": {
        "cell_id": "277c4ccf416247408acd2b960ed0a0aa",
        "deepnote_cell_height": 206.953125,
        "deepnote_cell_type": "code",
        "deepnote_to_be_reexecuted": false,
        "execution_millis": 2336,
        "execution_start": 1663977497905,
        "output_cleared": true,
        "source_hash": "8c8a72cf",
        "trusted": true
      },
      "outputs": [],
      "source": "# This code will load the R packages we will use\nsuppressPackageStartupMessages({\n    library(coursekata)\n})\n\n# Pull in data\nholc <- read.csv(\"https://docs.google.com/spreadsheets/d/e/2PACX-1vTxPfb9hD9EKXtnNuJp9k6SIn5KIbX1J3lGeoys49gS23M_hg79QDSRMHHQywirGHBO_MRAy1dUNLJ5/pub?gid=440145799&single=true&output=csv\", header = TRUE)\nholc$red_lined <- factor(holc$red_lined, levels = c(0,1), labels = c(\"not red-lined\", \"red-lined\"))"
    },
    {
      "cell_type": "markdown",
      "metadata": {
        "cell_id": "855cd119f8da4446ac41619c70f0c14f",
        "deepnote_cell_height": 1390.859375,
        "deepnote_cell_type": "markdown",
        "tags": []
      },
      "source": "### History of Redlining\n\nRedlining was a process started in the 1930s in which the Home Owners' Loan Corporation (HOLC), a US federal agency, gave neighborhoods ratings to guide investment. Certain neighborhoods were colored red on HOLC maps and labeled as \"hazardous\" (see below). These \"red-lined\" neighborhoods were deemed risky investments (that is, banks and other institutions should not give loans to people trying to buy property in these areas).\n\n<img src=\"https://coursekata-course-assets.s3.us-west-1.amazonaws.com/UCLATALL/czi-stats-course/jnb_p2TH8brH-image.png\" alt=\"map of San Francisco area showing redlined areas\" width = 80%>\n\nThese red-lined neighborhoods were predominantly home to communities of color, and this is no accident; the “hazardous” rating was in large part based on racial demographics (shown in historic documents below). In other words, redlining was an explicitly discriminatory policy. \n\n<img src=\"https://coursekata-course-assets.s3.us-west-1.amazonaws.com/UCLATALL/czi-stats-course/jnb_SyBmp1Qb-image.png\" alt=\"paperwork from HOLC showing percentages of foreign-born families or black families\" width=80%>\n\nThis history is not behind us in many ways. Today we will explore how the historic practice of redlining (legally halted with the Fair Housing Act of 1968) is running up against modern issues like global temperature rise.\n\nMany of these historically “hazardous” neighborhoods are currently more impoverished *and* experience more extreme temperatures. Neighborhoods that are poorer and have more residents of color can be 5 to 20 degrees Fahrenheit hotter in summer than wealthier, whiter parts of the same city.\n"
    },
    {
      "cell_type": "markdown",
      "metadata": {
        "cell_id": "ffed18d0b9474e62a7280b7bf22c7d54",
        "deepnote_cell_height": 69.96875,
        "deepnote_cell_type": "markdown",
        "tags": []
      },
      "source": "## The Data"
    },
    {
      "cell_type": "markdown",
      "metadata": {
        "cell_id": "adbce276fcdd4e6f84c20ec771a8a276",
        "deepnote_cell_height": 685.453125,
        "deepnote_cell_type": "markdown",
        "tags": []
      },
      "source": "The dataframe `holc` allows us to take a peek into the continued impact of redlining in several regions of California. There are 812 neighborhoods and 5 variables:\n\n- `neighborhood_id` a code for each neighborhood\n- `red_lined` 1 if the neighborhood was red-lined and 0 if not\n- `holc_grade` A stands for \"1st grade/best\", B stands for \"2nd grade/still desirable\", C stands for \"3rd grade/definitely declining\", and D stands for \"4th grade/hazardous\".\n- `area` Name of the modern neighborhood\n- `cal_region` whether the neighborhood is in Northern, Central, or Southern California\n- `count_squares` How big the neighborhood is in square units (a standard unit that can be used to measure neighborhoods across both historic redlining maps and modern google maps)\n- `tree_cov` How much tree coverage in that neighborhood based on how many pixels on a google maps satellite image is \"green\" (assumed to indicate tree/plant areas); note that these pixels are not the same size as square units used in `count_squares`\n\n<img src=\"https://coursekata-course-assets.s3.us-west-1.amazonaws.com/UCLATALL/czi-stats-course/jnb_921jbfZj-image.png\" width=500 alt=\"legend from HOLC map\">\n\n**Acknowledgements:** HOLC data are from a lesson developed as part of UC Berkeley’s python-based http://data8.org/ curriculum. Information about redlining come from Chapple and Thomas’ (2020) Urban Displacement Project (https://www.urbandisplacement.org/). Information about the link between redlining and tree cover/climate change are from the New York Times (https://www.nytimes.com/interactive/2020/08/24/climate/racism-redlining-cities-global-warming.html)."
    },
    {
      "cell_type": "code",
      "execution_count": null,
      "metadata": {
        "cell_id": "2f61e9c232f44c65a9bafcfe47e6df1a",
        "deepnote_cell_height": 316.21875,
        "deepnote_cell_type": "code",
        "deepnote_to_be_reexecuted": false,
        "execution_millis": 60,
        "execution_start": 1663977500260,
        "output_cleared": true,
        "source_hash": "63c1586a",
        "tags": [],
        "trusted": true
      },
      "outputs": [],
      "source": "# Take a look at the data\nstr(holc)\n\n# What are the cases in this data frame?\n"
    },
    {
      "cell_type": "markdown",
      "metadata": {
        "cell_id": "dd5b0fbd728740beb1b686f7b0c1d40c",
        "deepnote_cell_height": 109.96875,
        "deepnote_cell_type": "markdown",
        "deepnote_to_be_reexecuted": false,
        "execution_millis": 1,
        "execution_start": 1658792099721,
        "source_hash": "b623e53d",
        "tags": []
      },
      "source": "## 1.0: Do red-lined neighborhoods have more/less tree coverage?"
    },
    {
      "cell_type": "markdown",
      "metadata": {
        "cell_id": "2410e3e2866c4ef48e9555f2b78334b4",
        "deepnote_cell_height": 52.359375,
        "deepnote_cell_type": "markdown",
        "tags": []
      },
      "source": "**1.1 - Explore variation:** Create a word equation and make a visualization to help you explore this question."
    },
    {
      "cell_type": "markdown",
      "metadata": {
        "cell_id": "58b2517f97e14f73a23a84f002316479",
        "deepnote_cell_height": 74.75,
        "deepnote_cell_type": "markdown",
        "tags": []
      },
      "source": "**1.2 - Model variation:** Find the best fitting one-predictor model, express it in GLM notation, and interpret the parameter estimates. Add the predictions of the model to the visualization."
    },
    {
      "cell_type": "markdown",
      "metadata": {
        "cell_id": "456eedb2bbb34980acfe43a66705fbd0",
        "deepnote_cell_height": 279.515625,
        "deepnote_cell_type": "markdown",
        "tags": []
      },
      "source": "***GLM Notation:***\n\n$Y_i = b_0 + b_1X_i + e_i$\n\n**Note about variables with underscores:** \n\nThe forward slash (\\\\) can be used when you want to ignore the function of a symbol in markdown and just use it, as is. For example, the underscores in the math equations serve to generate subscript text, but sometimes the variable names have underscores in them that you want to keep as they are (i.e., you don't want them to appear as subscript text). Just insert a forward slash before the underscore symbol, as seen below (double-click into edit mode to see the forward slashes used in `tree_cov` and `red_lined`).\n\n> $tree\\_cov_i = b_0 + b_1red\\_lined_i + e_i$"
    },
    {
      "cell_type": "markdown",
      "metadata": {
        "cell_id": "c4ed29da0829455dbb8494ef175f0317",
        "deepnote_cell_height": 74.75,
        "deepnote_cell_type": "markdown",
        "tags": []
      },
      "source": "**1.3 - Evaluate models:** Is the model of the DGP that includes red-lining better than the empty model of the DGP? Explain with statistics."
    },
    {
      "cell_type": "markdown",
      "metadata": {
        "cell_id": "cc99f2c2cb984e3cb55d8d2d5ab87604",
        "deepnote_cell_height": 69.96875,
        "deepnote_cell_type": "markdown",
        "tags": []
      },
      "source": "## 2.0: The size of the neighborhood"
    },
    {
      "cell_type": "markdown",
      "metadata": {
        "cell_id": "5a163f82a15348fea3a41bfa38362f44",
        "deepnote_cell_height": 133.53125,
        "deepnote_cell_type": "markdown",
        "tags": []
      },
      "source": "Notice that only 1% of the variation in tree coverage is explained by red-lining. The variation in tree coverage seems to have a lot of \"other stuff\" going on. Perhaps some of this variation comes from the fact that these neighborhoods are different sizes. Does neighborhood size predict tree coverage on Google maps?\n\n**2.1 - Explore variation:** Create a word equation and make a visualization to help you explore this question."
    },
    {
      "cell_type": "markdown",
      "metadata": {
        "cell_id": "3626a2f7b5334d38aa4380258d4f7776",
        "deepnote_cell_height": 74.75,
        "deepnote_cell_type": "markdown",
        "tags": []
      },
      "source": "**2.2 - Model variation:** Find the best fitting one-predictor model, express it in GLM notation, and interpret the parameter estimates. Add the predictions of the model to the visualization."
    },
    {
      "cell_type": "markdown",
      "metadata": {
        "cell_id": "0fe13d5071604a0e838ad38d6b65ee27",
        "deepnote_cell_height": 88.953125,
        "deepnote_cell_type": "markdown",
        "tags": []
      },
      "source": "***GLM Notation:***\n\n$Y_i = b_0 + b_1X_i + e_i$"
    },
    {
      "cell_type": "markdown",
      "metadata": {
        "cell_id": "959028504ab245658917ac54d67dd002",
        "deepnote_cell_height": 74.75,
        "deepnote_cell_type": "markdown",
        "tags": []
      },
      "source": "**2.3 - Evaluate models:** Is the model of the DGP that includes size of the neighborhood better than the empty model of the DGP? Explain with statistics."
    },
    {
      "cell_type": "markdown",
      "metadata": {
        "cell_id": "d0cfe156266c41908e659d96bfd4098c",
        "deepnote_cell_height": 108.359375,
        "deepnote_cell_type": "markdown",
        "tags": []
      },
      "source": "## 3.0: Residuals after controlling for size of the neighborhood\n\nHere we have saved the residuals from the `size_model` as `size_resid`."
    },
    {
      "cell_type": "code",
      "execution_count": null,
      "metadata": {
        "cell_id": "fc751f8a06054369bb75b901b20b2cdb",
        "deepnote_cell_height": 75.953125,
        "deepnote_cell_type": "code",
        "deepnote_to_be_reexecuted": false,
        "execution_millis": 1,
        "execution_start": 1663977501675,
        "output_cleared": true,
        "source_hash": "66ccd679",
        "tags": [],
        "trusted": true
      },
      "outputs": [],
      "source": "size_model <- lm(tree_cov ~ count_squares, data = holc)\nholc$size_resid <- resid(size_model)"
    },
    {
      "cell_type": "markdown",
      "metadata": {
        "cell_id": "a8dac65a0420497392cf92d5ed105bd4",
        "deepnote_cell_height": 169.921875,
        "deepnote_cell_type": "markdown",
        "tags": []
      },
      "source": "You can think of these residuals as the **other stuff** from this word equation:\n\n**tree coverage = count squares + other stuff**\n\n**3.1:** Can some of that **other stuff** be related to red-lining? Here we have ordered the neighborhoods in `holc` according to the size of the residuals. Use `head()` and `tail()` to examine the neighborhoods that have the largest and smallest residuals. Do you notice any patterns?"
    },
    {
      "cell_type": "code",
      "execution_count": null,
      "metadata": {
        "cell_id": "a4914a63d96940da9b1d31d8e12ac2bf",
        "deepnote_cell_height": 710.75,
        "deepnote_cell_type": "code",
        "deepnote_output_heights": [
          275.90625,
          275.90625
        ],
        "deepnote_to_be_reexecuted": false,
        "execution_millis": 27,
        "execution_start": 1663977501676,
        "output_cleared": true,
        "source_hash": "ef7947a7",
        "tags": [],
        "trusted": true
      },
      "outputs": [],
      "source": "holc_ordered <- arrange(holc, size_resid)\nhead(holc_ordered)\ntail(holc_ordered)"
    },
    {
      "cell_type": "markdown",
      "metadata": {
        "cell_id": "f9d29e3e002b409b9f1f69a36c96670c",
        "deepnote_cell_height": 69.96875,
        "deepnote_cell_type": "markdown",
        "tags": []
      },
      "source": "## 4.0: Multivariate model"
    },
    {
      "cell_type": "markdown",
      "metadata": {
        "cell_id": "52c3bb351a464acca849d32a0f21d8f9",
        "deepnote_cell_height": 88.75,
        "deepnote_cell_type": "markdown",
        "tags": []
      },
      "source": "Perhaps once we control for the size of the neighborhood, we can more clearly see the effect of red-lining on tree coverage.\n\n**4.1 - Explore variation:** Create a word equation and make a visualization to help you explore this question."
    },
    {
      "cell_type": "markdown",
      "metadata": {
        "cell_id": "b3e7a984a89c45599dbdcc369633bd27",
        "deepnote_cell_height": 74.75,
        "deepnote_cell_type": "markdown",
        "tags": []
      },
      "source": "**4.2 - Model variation:** Find the best fitting multivariate model, express it in GLM notation, and interpret the parameter estimates. Add the predictions of the model to the visualization."
    },
    {
      "cell_type": "markdown",
      "metadata": {
        "cell_id": "8953916c83f14d70a05ce6ff9944baec",
        "deepnote_cell_height": 88.953125,
        "deepnote_cell_type": "markdown",
        "tags": []
      },
      "source": "***GLM Notation:***\n\n$Y_i = b_0 + b_1X_{1i} + b_2X_{2i} + e_i$"
    },
    {
      "cell_type": "markdown",
      "metadata": {
        "cell_id": "fab8cfb679514eddb7872a8b75193dbc",
        "deepnote_cell_height": 74.75,
        "deepnote_cell_type": "markdown",
        "tags": []
      },
      "source": "**4.3 - Evaluate models:** Is the multivariate model of the DGP that includes size and redlining better than the empty model of the DGP? Explain with statistics."
    },
    {
      "cell_type": "markdown",
      "metadata": {
        "cell_id": "c583dae3ae9d43a2a88ee28f0e543d8b",
        "deepnote_cell_height": 74.75,
        "deepnote_cell_type": "markdown",
        "tags": []
      },
      "source": "**4.4:** Take a good look at your visualization. If you had to guess, which neighborhoods are generally larger: not red-lined or red-lined? Why do you think that matters?"
    },
    {
      "cell_type": "markdown",
      "metadata": {
        "cell_id": "97da3eb0ca09468ca05f7aeb07fcfd6e",
        "deepnote_cell_height": 52.359375,
        "deepnote_cell_type": "markdown",
        "tags": []
      },
      "source": "**4.5:** Why is the PRE for red lining now 4% (compared to 1% in the one-predictor model)?"
    },
    {
      "cell_type": "markdown",
      "metadata": {
        "cell_id": "d7127debd3944948b0d111dadb359eee",
        "deepnote_cell_height": 52.359375,
        "deepnote_cell_type": "markdown",
        "tags": []
      },
      "source": "**4.6:** What does the p-value in the `red_lined` row of the ANOVA table tell us? What model can we reject?"
    },
    {
      "cell_type": "markdown",
      "metadata": {
        "cell_id": "b9f8e69bbf0944caaaa9338075f684fc",
        "deepnote_cell_height": 69.96875,
        "deepnote_cell_type": "markdown",
        "tags": []
      },
      "source": "## 5.0 - Advanced: All four grades for neighborhoods"
    },
    {
      "cell_type": "markdown",
      "metadata": {
        "cell_id": "a61c253d45ca4d3ea9eb31bf2ff9fd6a",
        "deepnote_cell_height": 111.140625,
        "deepnote_cell_type": "markdown",
        "tags": []
      },
      "source": "Although we have been just looking at red-lined neighborhoods versus all other neighborhoods, would including all four grades (A,B,C,D) show us different patterns than just including `red_lined` in our multivariate model?\n\n**5.1 - Explore variation:** Create a word equation and make a visualization to help you explore this question."
    },
    {
      "cell_type": "markdown",
      "metadata": {
        "cell_id": "427d4402f89f4319b703ea496d40cf5e",
        "deepnote_cell_height": 74.75,
        "deepnote_cell_type": "markdown",
        "tags": []
      },
      "source": "**5.2 - Model variation:** Find the best fitting multivariate model, express it in GLM notation, and interpret the parameter estimates. Add the predictions of the model to the visualization."
    },
    {
      "cell_type": "markdown",
      "metadata": {
        "cell_id": "a206de8b75b74898847f8a327c613ac4",
        "deepnote_cell_height": 125.546875,
        "deepnote_cell_type": "markdown",
        "tags": []
      },
      "source": "***GLM Notation:***\n\n$Y_i = b_0 + b_1X_{1i} + b_2X_{2i} + e_i$\n\n*Note: You may need to add additional $b$ estimates.*"
    },
    {
      "cell_type": "markdown",
      "metadata": {
        "cell_id": "a3af39c30a8949aa88bbadfa3dc0b32e",
        "deepnote_cell_height": 52.359375,
        "deepnote_cell_type": "markdown",
        "tags": []
      },
      "source": "**5.3 - Evaluate models:** Is the model of the DGP that includes size of the multivariate better than the empty model of the DGP?"
    },
    {
      "cell_type": "markdown",
      "metadata": {
        "cell_id": "29b637a44ad14125bbfe58372c335f18",
        "deepnote_cell_height": 69.96875,
        "deepnote_cell_type": "markdown",
        "owner_user_id": "a530bee3-0745-4044-9a82-f3cb68c8fb6e",
        "tags": []
      },
      "source": "## 6.0 - Alternate Advanced: How about a ratio?"
    },
    {
      "cell_type": "markdown",
      "metadata": {
        "cell_id": "6ad02d94aaab4990b32472502b958712",
        "deepnote_cell_height": 74.75,
        "deepnote_cell_type": "markdown",
        "tags": []
      },
      "source": "**6.1:** Of course the size of the neighborhood probably has a lot to do with the tree coverage. Is there a way to create an outcome variable that already incorporates this information? "
    },
    {
      "cell_type": "markdown",
      "metadata": {
        "cell_id": "a435e9e35ec04f03a525028bd7ce0b60",
        "deepnote_cell_height": 74.75,
        "deepnote_cell_type": "markdown",
        "tags": []
      },
      "source": "**6.2:** Would a model like that result in a PRE for red-lining that is more like the multivariate model (around 4%) or more like the single-predictor model (around 1%)? Make a prediction -- then find out!"
    },
    {
      "cell_type": "markdown",
      "metadata": {
        "cell_id": "fc1586644e874ce498818bbae4c53cae",
        "deepnote_cell_height": 52.359375,
        "deepnote_cell_type": "markdown",
        "tags": []
      },
      "source": "**6.3:** Why don't we get exactly the same PRE as prior models?"
    }
  ],
  "metadata": {
    "deepnote_notebook_id": "d99b84acabeb44f99b4ed9358308102f",
    "kernelspec": {
      "display_name": "R",
      "language": "R",
      "name": "ir"
    },
    "language_info": {
      "codemirror_mode": "r",
      "file_extension": ".r",
      "mimetype": "text/x-r-source",
      "name": "R",
      "pygments_lexer": "r",
      "version": "4.3.3"
    },
    "nbsimplegrader": {
      "publish_config": {
        "classes": [],
        "options": [],
        "tools": []
      }
    }
  },
  "nbformat": 4,
  "nbformat_minor": 1
}