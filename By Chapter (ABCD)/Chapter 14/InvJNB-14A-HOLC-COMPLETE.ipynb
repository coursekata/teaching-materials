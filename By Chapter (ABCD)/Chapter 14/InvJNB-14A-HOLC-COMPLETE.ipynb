{
  "cells": [
    {
      "cell_type": "markdown",
      "metadata": {
        "cell_id": "50c841dfa4b14ea5983e617142bf7974",
        "deepnote_cell_height": 260.703125,
        "deepnote_cell_type": "markdown",
        "nbsimplegrader": {
          "config_key": "markdown.view-only",
          "editable": false,
          "label": "Markdown: View-Only",
          "respondable": false,
          "response": null,
          "runnable": false,
          "type": "markdown"
        }
      },
      "source": "<div class=\"alert alert-block alert-danger\">\n\n# 14A: Redlining: Historic Effects of Racism (COMPLETE)\n\n**Use with textbook version 6.0+**\n\n\n**Lesson assumes students have read up through page: 14.3**\n\n\n</div>"
    },
    {
      "cell_type": "markdown",
      "metadata": {
        "cell_id": "ab1fcba5a15f44f1acbe6d3ee72065a7",
        "deepnote_cell_height": 336.671875,
        "deepnote_cell_type": "markdown",
        "tags": []
      },
      "source": "<div class=\"alert alert-block alert-warning\">\n\n#### Summary of Notebook:\n\nIn this notebook, we can learn a little more about what \"controlling for\" means and how it's a little different than \"proportional\". Students will explore a data frame that includes information on historically red-lined neighborhoods and the tree coverage of those neighborhoods today. The lesson demonstrates how single-predictor models that use redlining and neighborhood size to predict tree coverage may not be as predictive as multivariate models that take into account both of those factors.\n \n#### Includes:\n\n- Fitting and interpreting simple and multiple regression models\n- Exploring the dangers of failing to include an important variable in a model\n- Using visualizations to explore which variables should be included in a model\n\n</div>"
    },
    {
      "cell_type": "markdown",
      "metadata": {
        "cell_id": "9ac1fa49378e4753a2fa3c3cce036469",
        "deepnote_cell_height": 123.9375,
        "deepnote_cell_type": "markdown",
        "tags": []
      },
      "source": "<div class=\"alert alert-block alert-success\">\n\n## Approximate time to complete Notebook: 75-105 Mins\n\n</div>"
    },
    {
      "cell_type": "code",
      "execution_count": null,
      "metadata": {
        "cell_id": "1658ef5fe3ff4197a8b1ef9901f11278",
        "deepnote_cell_height": 206.953125,
        "deepnote_cell_type": "code",
        "deepnote_to_be_reexecuted": false,
        "execution_millis": 2336,
        "execution_start": 1663977497905,
        "nbsimplegrader": {
          "config_key": "code.run-only",
          "editable": false,
          "label": "Code: Run-Only",
          "respondable": false,
          "response": null,
          "runnable": true,
          "type": "code"
        },
        "output_cleared": true,
        "source_hash": "8c8a72cf",
        "trusted": true
      },
      "outputs": [],
      "source": "# This code will load the R packages we will use\nsuppressPackageStartupMessages({\n    library(coursekata)\n})\n\n# Pull in data\nholc <- read.csv(\"https://docs.google.com/spreadsheets/d/e/2PACX-1vTxPfb9hD9EKXtnNuJp9k6SIn5KIbX1J3lGeoys49gS23M_hg79QDSRMHHQywirGHBO_MRAy1dUNLJ5/pub?gid=440145799&single=true&output=csv\", header = TRUE)\nholc$red_lined <- factor(holc$red_lined, levels = c(0,1), labels = c(\"not red-lined\", \"red-lined\"))"
    },
    {
      "cell_type": "markdown",
      "metadata": {
        "cell_id": "e58b123d630841c59c912f6a836e4ddd",
        "deepnote_cell_height": 1390.859375,
        "deepnote_cell_type": "markdown",
        "tags": []
      },
      "source": "### History of Redlining\n\nRedlining was a process started in the 1930s in which the Home Owners' Loan Corporation (HOLC), a US federal agency, gave neighborhoods ratings to guide investment. Certain neighborhoods were colored red on HOLC maps and labeled as \"hazardous\" (see below). These \"red-lined\" neighborhoods were deemed risky investments (that is, banks and other institutions should not give loans to people trying to buy property in these areas).\n\n<img src=\"https://coursekata-course-assets.s3.us-west-1.amazonaws.com/UCLATALL/czi-stats-course/jnb_p2TH8brH-image.png\" alt=\"map of San Francisco area showing redlined areas\" width = 80%>\n\nThese red-lined neighborhoods were predominantly home to communities of color, and this is no accident; the “hazardous” rating was in large part based on racial demographics (shown in historic documents below). In other words, redlining was an explicitly discriminatory policy. \n\n<img src=\"https://coursekata-course-assets.s3.us-west-1.amazonaws.com/UCLATALL/czi-stats-course/jnb_SyBmp1Qb-image.png\" alt=\"paperwork from HOLC showing percentages of foreign-born families or black families\" width=80%>\n\nThis history is not behind us in many ways. Today we will explore how the historic practice of redlining (legally halted with the Fair Housing Act of 1968) is running up against modern issues like global temperature rise.\n\nMany of these historically “hazardous” neighborhoods are currently more impoverished *and* experience more extreme temperatures. Neighborhoods that are poorer and have more residents of color can be 5 to 20 degrees Fahrenheit hotter in summer than wealthier, whiter parts of the same city.\n"
    },
    {
      "cell_type": "markdown",
      "metadata": {
        "cell_id": "acb10b7ed3f34c91ad253974438c720b",
        "deepnote_cell_height": 115.9375,
        "deepnote_cell_type": "markdown",
        "tags": []
      },
      "source": "<div class=\"alert alert-block alert-success\">\n\n### 1.0 - Approximate Time:  10-15 mins\n\n</div>"
    },
    {
      "cell_type": "markdown",
      "metadata": {
        "cell_id": "22eef4d0220d476f8e3c96a004b5b7f0",
        "deepnote_cell_height": 69.96875,
        "deepnote_cell_type": "markdown",
        "tags": []
      },
      "source": "## The Data"
    },
    {
      "cell_type": "markdown",
      "metadata": {
        "cell_id": "c121922875dd4a3e9e64272dae3e1b02",
        "deepnote_cell_height": 685.453125,
        "deepnote_cell_type": "markdown",
        "tags": []
      },
      "source": "The dataframe `holc` allows us to take a peek into the continued impact of redlining in several regions of California. There are 812 neighborhoods and 5 variables:\n\n- `neighborhood_id` a code for each neighborhood\n- `red_lined` 1 if the neighborhood was red-lined and 0 if not\n- `holc_grade` A stands for \"1st grade/best\", B stands for \"2nd grade/still desirable\", C stands for \"3rd grade/definitely declining\", and D stands for \"4th grade/hazardous\".\n- `area` Name of the modern neighborhood\n- `cal_region` whether the neighborhood is in Northern, Central, or Southern California\n- `count_squares` How big the neighborhood is in square units (a standard unit that can be used to measure neighborhoods across both historic redlining maps and modern google maps)\n- `tree_cov` How much tree coverage in that neighborhood based on how many pixels on a google maps satellite image is \"green\" (assumed to indicate tree/plant areas); note that these pixels are not the same size as square units used in `count_squares`\n\n<img src=\"https://coursekata-course-assets.s3.us-west-1.amazonaws.com/UCLATALL/czi-stats-course/jnb_921jbfZj-image.png\" width=500 alt=\"legend from HOLC map\">\n\n**Acknowledgements:** HOLC data are from a lesson developed as part of UC Berkeley’s python-based http://data8.org/ curriculum. Information about redlining come from Chapple and Thomas’ (2020) Urban Displacement Project (https://www.urbandisplacement.org/). Information about the link between redlining and tree cover/climate change are from the New York Times (https://www.nytimes.com/interactive/2020/08/24/climate/racism-redlining-cities-global-warming.html)."
    },
    {
      "cell_type": "code",
      "execution_count": null,
      "metadata": {
        "cell_id": "f4f1b36cd9034d87bec4e2a983f16158",
        "deepnote_cell_height": 316.21875,
        "deepnote_cell_type": "code",
        "deepnote_to_be_reexecuted": false,
        "execution_millis": 60,
        "execution_start": 1663977500260,
        "output_cleared": true,
        "source_hash": "63c1586a",
        "tags": [],
        "trusted": true
      },
      "outputs": [],
      "source": "# Take a look at the data\nstr(holc)\n\n# What are the cases in this data frame?\n"
    },
    {
      "cell_type": "markdown",
      "metadata": {
        "cell_id": "7295b792b5a544d9b1078dbc34b39a2c",
        "deepnote_cell_height": 109.96875,
        "deepnote_cell_type": "markdown",
        "deepnote_to_be_reexecuted": false,
        "execution_millis": 1,
        "execution_start": 1658792099721,
        "source_hash": "b623e53d",
        "tags": []
      },
      "source": "## 1.0: Do red-lined neighborhoods have more/less tree coverage?"
    },
    {
      "cell_type": "markdown",
      "metadata": {
        "cell_id": "af2a2e236e4446c8a11ce2450105c2d4",
        "deepnote_cell_height": 52.359375,
        "deepnote_cell_type": "markdown",
        "tags": []
      },
      "source": "**1.1 - Explore variation:** Create a word equation and make a visualization to help you explore this question."
    },
    {
      "cell_type": "markdown",
      "metadata": {
        "cell_id": "14aa40d1eebe4350a2969a96ea7bab42",
        "deepnote_cell_height": 166.109375,
        "deepnote_cell_type": "markdown",
        "tags": []
      },
      "source": "<div class=\"alert alert-block alert-warning\">\n\n<b>Sample Responses:</b> \n\n- tree_cov = red_lined + error\n\n- tree coverage = redlining + other stuff\n\n</div>"
    },
    {
      "cell_type": "code",
      "execution_count": null,
      "metadata": {
        "cell_id": "65fcdaa26ba447ecbc8924459448bbc9",
        "deepnote_cell_height": 1210.90625,
        "deepnote_cell_type": "code",
        "deepnote_output_heights": [
          480.984375,
          480.984375
        ],
        "deepnote_to_be_reexecuted": false,
        "execution_millis": 637,
        "execution_start": 1663977500276,
        "output_cleared": true,
        "source_hash": "cb778979",
        "tags": [],
        "trusted": true
      },
      "outputs": [],
      "source": "# Sample Responses\n\ngf_jitter(tree_cov ~ red_lined, data = holc, alpha = .1) %>%\n    gf_boxplot()\n\n\ngf_histogram(~tree_cov, data = holc) %>%\n    gf_facet_grid(red_lined ~ .)"
    },
    {
      "cell_type": "markdown",
      "metadata": {
        "cell_id": "79a8bd86a49d462182b5bcbdbb0d5a0d",
        "deepnote_cell_height": 74.75,
        "deepnote_cell_type": "markdown",
        "tags": []
      },
      "source": "**1.2 - Model variation:** Find the best fitting one-predictor model, express it in GLM notation, and interpret the parameter estimates. Add the predictions of the model to the visualization."
    },
    {
      "cell_type": "markdown",
      "metadata": {
        "cell_id": "9ee9b4396f9f46fba04a99f0e500697b",
        "deepnote_cell_height": 279.515625,
        "deepnote_cell_type": "markdown",
        "tags": []
      },
      "source": "***GLM Notation:***\n\n$Y_i = b_0 + b_1X_i + e_i$\n\n**Note about variables with underscores:** \n\nThe forward slash (\\\\) can be used when you want to ignore the function of a symbol in markdown and just use it, as is. For example, the underscores in the math equations serve to generate subscript text, but sometimes the variable names have underscores in them that you want to keep as they are (i.e., you don't want them to appear as subscript text). Just insert a forward slash before the underscore symbol, as seen below (double-click into edit mode to see the forward slashes used in `tree_cov` and `red_lined`).\n\n> $tree\\_cov_i = b_0 + b_1red\\_lined_i + e_i$"
    },
    {
      "cell_type": "code",
      "execution_count": null,
      "metadata": {
        "cell_id": "218a55a1fe7241bfa23f0b38be2125d8",
        "deepnote_cell_height": 1485.3125,
        "deepnote_cell_type": "code",
        "deepnote_output_heights": [
          135.421875,
          480.984375,
          480.984375
        ],
        "deepnote_to_be_reexecuted": false,
        "execution_millis": 337,
        "execution_start": 1663977500955,
        "output_cleared": true,
        "source_hash": "47d1db8d",
        "tags": [],
        "trusted": true
      },
      "outputs": [],
      "source": "# Sample Response\n\n# Redlining Model\nred_model <- lm(tree_cov ~ red_lined, data = holc)\nred_model\n\n# Add Model Predictions to Visualization\ngf_jitter(tree_cov ~ red_lined, data = holc, alpha = .1) %>%\n    gf_boxplot() %>%\n    gf_model(red_model, color = \"red\")\n\ngf_histogram(~tree_cov, data = holc) %>%\n    gf_facet_grid(red_lined ~ .) %>%\n    gf_model(red_model, color = \"red\")"
    },
    {
      "cell_type": "markdown",
      "metadata": {
        "cell_id": "16636580ad83468285d92c9c8d84b29b",
        "deepnote_cell_height": 323.90625,
        "deepnote_cell_type": "markdown",
        "tags": []
      },
      "source": "<div class=\"alert alert-block alert-warning\">\n\n<b>Sample Responses:</b> \n\n***GLM Notation:***\n\n- $tree\\_cov_i = 7751 + -4584red\\_linedred-lined_i + e_i$\n- $Y_i = 7751 + -4584X_i + e_i$\n\n***Interpret Parameter Estimates:***\n\n- $b_0$ = 7751, this is the amount of average tree coverage for a not red-lined neigborhood (when X = 0).\n\n- $b_1$ = -4584, this is the increment (or mean difference), or the amount of tree coverage we subtract from $b_0$ to get the average tree coverage for a red-lined neigborhood (when X = 1).\n\n\n</div>"
    },
    {
      "cell_type": "markdown",
      "metadata": {
        "cell_id": "384043b3f3854c87a17588ab0d9726a2",
        "deepnote_cell_height": 74.75,
        "deepnote_cell_type": "markdown",
        "tags": []
      },
      "source": "**1.3 - Evaluate models:** Is the model of the DGP that includes red-lining better than the empty model of the DGP? Explain with statistics."
    },
    {
      "cell_type": "code",
      "execution_count": null,
      "metadata": {
        "cell_id": "65c5ec40da4f4fb5b8a98e8a2d18ee8c",
        "deepnote_cell_height": 675.84375,
        "deepnote_cell_type": "code",
        "deepnote_output_heights": [
          289.0625,
          173.828125
        ],
        "deepnote_to_be_reexecuted": false,
        "execution_millis": 42,
        "execution_start": 1663977501293,
        "output_cleared": true,
        "source_hash": "c9ae4d4",
        "tags": [],
        "trusted": true
      },
      "outputs": [],
      "source": "# Sample Response\n\nsupernova(red_model)\n\n# Optional: Add argument to condense length of output\nsupernova(red_model, verbose = FALSE)"
    },
    {
      "cell_type": "markdown",
      "metadata": {
        "cell_id": "6868fc85d14a430a8be1ccf92998acf4",
        "deepnote_cell_height": 140.71875,
        "deepnote_cell_type": "markdown",
        "tags": []
      },
      "source": "<div class=\"alert alert-block alert-warning\">\n\n<b>Sample Responses:</b> \n\nThe model does seem at least somewhat better than the empty model. It has reduced error by about 1.5% (PRE = 0.0148).\n\n</div>"
    },
    {
      "cell_type": "markdown",
      "metadata": {
        "cell_id": "ac1a41348b3046058da4a6bf79687609",
        "deepnote_cell_height": 115.9375,
        "deepnote_cell_type": "markdown",
        "tags": []
      },
      "source": "<div class=\"alert alert-block alert-success\">\n\n### 2.0 - Approximate Time:  10-15 mins\n\n</div>"
    },
    {
      "cell_type": "markdown",
      "metadata": {
        "cell_id": "85ed5e6a429e411e98bfdfd74fa9b14e",
        "deepnote_cell_height": 69.96875,
        "deepnote_cell_type": "markdown",
        "tags": []
      },
      "source": "## 2.0: The size of the neighborhood"
    },
    {
      "cell_type": "markdown",
      "metadata": {
        "cell_id": "29a907c842114818aa8407b4aca66445",
        "deepnote_cell_height": 133.53125,
        "deepnote_cell_type": "markdown",
        "tags": []
      },
      "source": "Notice that only 1% of the variation in tree coverage is explained by red-lining. The variation in tree coverage seems to have a lot of \"other stuff\" going on. Perhaps some of this variation comes from the fact that these neighborhoods are different sizes. Does neighborhood size predict tree coverage on Google maps?\n\n**2.1 - Explore variation:** Create a word equation and make a visualization to help you explore this question."
    },
    {
      "cell_type": "markdown",
      "metadata": {
        "cell_id": "1e8619b0f7aa46968b4f7adb0b237f07",
        "deepnote_cell_height": 166.109375,
        "deepnote_cell_type": "markdown",
        "tags": []
      },
      "source": "<div class=\"alert alert-block alert-warning\">\n\n<b>Sample Responses:</b> \n\n- tree_cov = count_squares + error\n\n- tree coverage = size of neighborhood + other stuff\n\n</div>"
    },
    {
      "cell_type": "code",
      "execution_count": null,
      "metadata": {
        "cell_id": "0ccca4fa75c54a53bf8a6f7be65b6a23",
        "deepnote_cell_height": 608.9375,
        "deepnote_cell_type": "code",
        "deepnote_output_heights": [
          480.984375
        ],
        "deepnote_to_be_reexecuted": false,
        "execution_millis": 124,
        "execution_start": 1663977501337,
        "output_cleared": true,
        "source_hash": "5e8c209d",
        "tags": [],
        "trusted": true
      },
      "outputs": [],
      "source": "# Sample Response\n\ngf_jitter(tree_cov ~ count_squares, data = holc, alpha = .1)"
    },
    {
      "cell_type": "markdown",
      "metadata": {
        "cell_id": "790c62b3069740c387d80a024dda3ed4",
        "deepnote_cell_height": 74.75,
        "deepnote_cell_type": "markdown",
        "tags": []
      },
      "source": "**2.2 - Model variation:** Find the best fitting one-predictor model, express it in GLM notation, and interpret the parameter estimates. Add the predictions of the model to the visualization."
    },
    {
      "cell_type": "markdown",
      "metadata": {
        "cell_id": "f1340856554f41148cb3265caf385a9b",
        "deepnote_cell_height": 88.953125,
        "deepnote_cell_type": "markdown",
        "tags": []
      },
      "source": "***GLM Notation:***\n\n$Y_i = b_0 + b_1X_i + e_i$"
    },
    {
      "cell_type": "code",
      "execution_count": null,
      "metadata": {
        "cell_id": "73f0025a9bc048c0afc328143fd4251b",
        "deepnote_cell_height": 847.34375,
        "deepnote_cell_type": "code",
        "deepnote_output_heights": [
          135.421875,
          480.984375
        ],
        "deepnote_to_be_reexecuted": false,
        "execution_millis": 128,
        "execution_start": 1663977501507,
        "output_cleared": true,
        "source_hash": "b7bb186b",
        "tags": [],
        "trusted": true
      },
      "outputs": [],
      "source": "# Sample Response\n\nsize_model <- lm(tree_cov ~ count_squares, data = holc)\nsize_model\n\ngf_jitter(tree_cov ~ count_squares, data = holc, alpha = .1) %>%\n    gf_model(size_model, color = \"green4\")"
    },
    {
      "cell_type": "markdown",
      "metadata": {
        "cell_id": "58338e11ab144457877be65e154bef64",
        "deepnote_cell_height": 301.5,
        "deepnote_cell_type": "markdown",
        "tags": []
      },
      "source": "<div class=\"alert alert-block alert-warning\">\n\n<b>Sample Responses:</b> \n\n***GLM Notation:***\n\n- $tree\\_cov_i = 2380.83 + 2.71count\\_squares_i + e_i$\n- $Y_i = 2380.83 + 2.71X_i + e_i$\n\n\n***Interpret Parameter Estimates:***\n\n- $b_0$ = 2380.83, this is the amount of predicted tree coverage when count_squares is zero (when X = 0).\n\n- $b_1$ = 2.71, this is the slope, or the amount of tree coverage we add to $b_0$ for every 1 unit increase in count_squares.\n\n\n</div>"
    },
    {
      "cell_type": "markdown",
      "metadata": {
        "cell_id": "4d4efa535a6d413e80efa87f82cfd495",
        "deepnote_cell_height": 74.75,
        "deepnote_cell_type": "markdown",
        "tags": []
      },
      "source": "**2.3 - Evaluate models:** Is the model of the DGP that includes size of the neighborhood better than the empty model of the DGP? Explain with statistics."
    },
    {
      "cell_type": "code",
      "execution_count": null,
      "metadata": {
        "cell_id": "04221a262e3846e98467b58284922b93",
        "deepnote_cell_height": 319.78125,
        "deepnote_cell_type": "code",
        "deepnote_output_heights": [
          173.828125,
          439.15625
        ],
        "deepnote_to_be_reexecuted": false,
        "execution_millis": 2,
        "execution_start": 1663977501675,
        "output_cleared": true,
        "source_hash": "99048693",
        "tags": [],
        "trusted": true
      },
      "outputs": [],
      "source": "# Sample Responses\n\n#supernova(size_model)\nsupernova(size_model, verbose = FALSE)"
    },
    {
      "cell_type": "markdown",
      "metadata": {
        "cell_id": "6cf41ab840434b91b2ea5fc3aa52f17d",
        "deepnote_cell_height": 185.515625,
        "deepnote_cell_type": "markdown",
        "tags": []
      },
      "source": "<div class=\"alert alert-block alert-warning\">\n\n***Sample Response:***\n\nThe model does seem better than the empty model. It has reduced error by about 18% (PRE = 0.18), and the relatively large F value (178.36) tells us that this multivariate model is a pretty good model compared to our empty model. We got a lot of reduction in error for the degrees of freedom spent.\n\n</div>"
    },
    {
      "cell_type": "markdown",
      "metadata": {
        "cell_id": "b7c88c654faf4e989804151e17c26af8",
        "deepnote_cell_height": 115.9375,
        "deepnote_cell_type": "markdown",
        "tags": []
      },
      "source": "<div class=\"alert alert-block alert-success\">\n\n### 3.0 - Approximate Time:  5-10 mins\n\n</div>"
    },
    {
      "cell_type": "markdown",
      "metadata": {
        "cell_id": "c3263275da0a406d9b72a9ff77df8232",
        "deepnote_cell_height": 108.359375,
        "deepnote_cell_type": "markdown",
        "tags": []
      },
      "source": "## 3.0: Residuals after controlling for size of the neighborhood\n\nHere we have saved the residuals from the `size_model` as `size_resid`."
    },
    {
      "cell_type": "code",
      "execution_count": null,
      "metadata": {
        "cell_id": "483dd3763a344794adfdcb8134d896d4",
        "deepnote_cell_height": 75.953125,
        "deepnote_cell_type": "code",
        "deepnote_to_be_reexecuted": false,
        "execution_millis": 1,
        "execution_start": 1663977501675,
        "output_cleared": true,
        "source_hash": "66ccd679",
        "tags": [],
        "trusted": true
      },
      "outputs": [],
      "source": "size_model <- lm(tree_cov ~ count_squares, data = holc)\nholc$size_resid <- resid(size_model)"
    },
    {
      "cell_type": "markdown",
      "metadata": {
        "cell_id": "f02c32dbaeff4c019c4aceb8fd1a07b1",
        "deepnote_cell_height": 169.921875,
        "deepnote_cell_type": "markdown",
        "tags": []
      },
      "source": "You can think of these residuals as the **other stuff** from this word equation:\n\n**tree coverage = count squares + other stuff**\n\n**3.1:** Can some of that **other stuff** be related to red-lining? Here we have ordered the neighborhoods in `holc` according to the size of the residuals. Use `head()` and `tail()` to examine the neighborhoods that have the largest and smallest residuals. Do you notice any patterns?"
    },
    {
      "cell_type": "code",
      "execution_count": null,
      "metadata": {
        "cell_id": "bfb74adfc7f240939eb76afb07c5dce9",
        "deepnote_cell_height": 710.75,
        "deepnote_cell_type": "code",
        "deepnote_output_heights": [
          275.90625,
          275.90625
        ],
        "deepnote_to_be_reexecuted": false,
        "execution_millis": 27,
        "execution_start": 1663977501676,
        "output_cleared": true,
        "source_hash": "ef7947a7",
        "tags": [],
        "trusted": true
      },
      "outputs": [],
      "source": "holc_ordered <- arrange(holc, size_resid)\nhead(holc_ordered)\ntail(holc_ordered)"
    },
    {
      "cell_type": "markdown",
      "metadata": {
        "cell_id": "4bfaf34f5f6d47b38f5a5a4494086f20",
        "deepnote_cell_height": 315.078125,
        "deepnote_cell_type": "markdown",
        "tags": []
      },
      "source": "<div class=\"alert alert-block alert-warning\">\n\n***Sample Response:***\n\n*Students may notice a variety of patterns, such as:*\n\n- Those with the smallest residuals also tend to:\n  - be red-lined\n  - have lower tree coverage\n  - be mostly C/D grade\n  - have larger count_squares\n\n*And, generally, the opposite is true about those with the largest residuals.*\n\n</div>"
    },
    {
      "cell_type": "markdown",
      "metadata": {
        "cell_id": "84f20ec6ab7c40739f0da2207838e244",
        "deepnote_cell_height": 115.9375,
        "deepnote_cell_type": "markdown",
        "tags": []
      },
      "source": "<div class=\"alert alert-block alert-success\">\n\n### 4.0 - Approximate Time:  20-25 mins\n\n</div>"
    },
    {
      "cell_type": "markdown",
      "metadata": {
        "cell_id": "308e695386c4460881fd86862a2b91f8",
        "deepnote_cell_height": 69.96875,
        "deepnote_cell_type": "markdown",
        "tags": []
      },
      "source": "## 4.0: Multivariate model"
    },
    {
      "cell_type": "markdown",
      "metadata": {
        "cell_id": "8e8cc58a468c4d898e9be311461f0e34",
        "deepnote_cell_height": 88.75,
        "deepnote_cell_type": "markdown",
        "tags": []
      },
      "source": "Perhaps once we control for the size of the neighborhood, we can more clearly see the effect of red-lining on tree coverage.\n\n**4.1 - Explore variation:** Create a word equation and make a visualization to help you explore this question."
    },
    {
      "cell_type": "markdown",
      "metadata": {
        "cell_id": "769ca90abd284745889ab06ce21c93d5",
        "deepnote_cell_height": 166.109375,
        "deepnote_cell_type": "markdown",
        "tags": []
      },
      "source": "<div class=\"alert alert-block alert-warning\">\n\n<b>Sample Responses:</b> \n\n- tree_cov = count_squares + red_lined + error\n\n- tree coverage = size of neighborhood + redlining + other stuff\n\n</div>"
    },
    {
      "cell_type": "code",
      "execution_count": null,
      "metadata": {
        "cell_id": "8f975b14b49f47fabf2d1589cc1f94f1",
        "deepnote_cell_height": 608.9375,
        "deepnote_cell_type": "code",
        "deepnote_output_heights": [
          480.984375
        ],
        "deepnote_to_be_reexecuted": false,
        "execution_millis": 132,
        "execution_start": 1663977501746,
        "output_cleared": true,
        "source_hash": "95f424f3",
        "tags": [],
        "trusted": true
      },
      "outputs": [],
      "source": "# Sample Response\n\ngf_jitter(tree_cov ~ count_squares, color = ~red_lined, data = holc, alpha = .1) "
    },
    {
      "cell_type": "markdown",
      "metadata": {
        "cell_id": "e1b3dc66fac242339b6307333f9bfdf1",
        "deepnote_cell_height": 74.75,
        "deepnote_cell_type": "markdown",
        "tags": []
      },
      "source": "**4.2 - Model variation:** Find the best fitting multivariate model, express it in GLM notation, and interpret the parameter estimates. Add the predictions of the model to the visualization."
    },
    {
      "cell_type": "markdown",
      "metadata": {
        "cell_id": "a910aff07e414ca287291f2983f17e2a",
        "deepnote_cell_height": 88.953125,
        "deepnote_cell_type": "markdown",
        "tags": []
      },
      "source": "***GLM Notation:***\n\n$Y_i = b_0 + b_1X_{1i} + b_2X_{2i} + e_i$"
    },
    {
      "cell_type": "code",
      "execution_count": null,
      "metadata": {
        "allow_embed": false,
        "cell_id": "e782f94b98aa42e9a128432dc5efd291",
        "deepnote_cell_height": 847.34375,
        "deepnote_cell_type": "code",
        "deepnote_output_heights": [
          135.421875,
          480.984375
        ],
        "deepnote_to_be_reexecuted": false,
        "execution_millis": 180,
        "execution_start": 1663977501919,
        "output_cleared": true,
        "source_hash": "99911b1a",
        "tags": [],
        "trusted": true
      },
      "outputs": [],
      "source": "# Sample Response\n\nmulti_model <- lm(tree_cov ~ count_squares + red_lined, data = holc)\nmulti_model\n\ngf_jitter(tree_cov ~ count_squares, color = ~red_lined, data = holc, alpha = .1) %>%\n    gf_model(multi_model)"
    },
    {
      "cell_type": "markdown",
      "metadata": {
        "cell_id": "826d6e1b5e18448cb41ef0d814c3b5b4",
        "deepnote_cell_height": 371.890625,
        "deepnote_cell_type": "markdown",
        "tags": []
      },
      "source": "<div class=\"alert alert-block alert-warning\">\n\n**Sample Responses:**\n\n***GLM Notation:***\n\n- $Y_i = 3376.74 + 2.87X_{1i} + -6865.19X_{2i} + e_i$\n\n- $tree\\_cov_i = 3376.74 + 2.87count\\_squares_{i} + -6865.19red\\_linedred-lined_{i} + e_i$\n\n***Interpret Parameter Estimates:***\n\n- $b_0$ = 3376.74, this is the amount of predicted tree coverage for a not red-lined neighborhood (when X2 = 0) when count_squares is zero (when X1 = 0).\n\n- $b_1$ = 2.87, this is the slope, or the amount of tree coverage we add to the model for every 1 unit increase in count_squares.\n\n- $b_2$ = -6865.19, this is the increment (or group difference), or the amount we subtract from the model to get the predicted tree coverage for a red-lined neighborhood.\n\n\n</div>"
    },
    {
      "cell_type": "markdown",
      "metadata": {
        "cell_id": "dfff48de60ce4d3fb55285375d929cd7",
        "deepnote_cell_height": 74.75,
        "deepnote_cell_type": "markdown",
        "tags": []
      },
      "source": "**4.3 - Evaluate models:** Is the multivariate model of the DGP that includes size and redlining better than the empty model of the DGP? Explain with statistics."
    },
    {
      "cell_type": "code",
      "execution_count": null,
      "metadata": {
        "cell_id": "59a3b01070e94ea4b4c498df54dd7ec5",
        "deepnote_cell_height": 358.1875,
        "deepnote_cell_type": "code",
        "deepnote_output_heights": [
          212.234375,
          439.15625
        ],
        "deepnote_to_be_reexecuted": false,
        "execution_millis": 5,
        "execution_start": 1663977502139,
        "output_cleared": true,
        "source_hash": "bd729c37",
        "tags": [],
        "trusted": true
      },
      "outputs": [],
      "source": "# Sample Response\n\n#supernova(multi_model)\nsupernova(multi_model, verbose = FALSE)"
    },
    {
      "cell_type": "markdown",
      "metadata": {
        "cell_id": "9f477f124e3841ecacfd69357933fdcc",
        "deepnote_cell_height": 185.515625,
        "deepnote_cell_type": "markdown",
        "tags": []
      },
      "source": "<div class=\"alert alert-block alert-warning\">\n\n***Sample Response:***\n\nThe model does seem better than the empty model. It has reduced error by about 21% (PRE = 0.21), and the relatively large F value (109.55) tells us that this multivariate model is a pretty good model compared to our empty model. We got a lot of reduction in error for the degrees of freedom spent.\n\n</div>"
    },
    {
      "cell_type": "markdown",
      "metadata": {
        "cell_id": "98be24725d544fc9af4337affbd75b3e",
        "deepnote_cell_height": 74.75,
        "deepnote_cell_type": "markdown",
        "tags": []
      },
      "source": "**4.4:** Take a good look at your visualization. If you had to guess, which neighborhoods are generally larger: not red-lined or red-lined? Why do you think that matters?"
    },
    {
      "cell_type": "markdown",
      "metadata": {
        "cell_id": "7bad7aeda0df4ae59d54da73665a51ac",
        "deepnote_cell_height": 213.515625,
        "deepnote_cell_type": "markdown",
        "tags": []
      },
      "source": "<div class=\"alert alert-block alert-warning\">\n\n**Sample Response:**\n\nThe red-lined neighborhoods are generally larger. \n\n*Students may come up with a variety of reasons, such as:*\n\n- This could matter because if they are more condensed with people and buildings, they may have less room for trees.\n\n\n</div>"
    },
    {
      "cell_type": "code",
      "execution_count": null,
      "metadata": {
        "cell_id": "6de36ad05328406f93459b66fc6c7aa5",
        "deepnote_cell_height": 269.890625,
        "deepnote_cell_type": "code",
        "deepnote_output_heights": [
          159.9375
        ],
        "deepnote_to_be_reexecuted": false,
        "execution_millis": 4,
        "execution_start": 1663977502140,
        "output_cleared": true,
        "source_hash": "ac2e55ff",
        "tags": [],
        "trusted": true
      },
      "outputs": [],
      "source": "# complete version\nfavstats(count_squares ~ red_lined, data = holc)"
    },
    {
      "cell_type": "markdown",
      "metadata": {
        "cell_id": "9029d87c34854d578acf6039abcd422d",
        "deepnote_cell_height": 52.359375,
        "deepnote_cell_type": "markdown",
        "tags": []
      },
      "source": "**4.5:** Why is the PRE for red lining now 4% (compared to 1% in the one-predictor model)?"
    },
    {
      "cell_type": "markdown",
      "metadata": {
        "cell_id": "6ac984e4e92b4c34b88838f1cee64de8",
        "deepnote_cell_height": 230.296875,
        "deepnote_cell_type": "markdown",
        "tags": []
      },
      "source": "<div class=\"alert alert-block alert-warning\">\n\n**Sample Response:**\n\nIf you just look at the x-axis (`count_squares`) you can see that some of the red lined neighborhoods are quite large. Neighborhoods that are small with a lot of tree coverage could look like a neighborhood that is large with very little tree coverage. Before we included `count_squares` and `red_lined` in the model, we couldn't distinguish between those two kinds of neighborhoods. Now that we can, we can see that red-lined neighborhoods have less tree coverage than would be expected for a neighborhood of their size. \n\n\n</div>"
    },
    {
      "cell_type": "markdown",
      "metadata": {
        "cell_id": "5e97bae6fc294b7697692708473f4784",
        "deepnote_cell_height": 52.359375,
        "deepnote_cell_type": "markdown",
        "tags": []
      },
      "source": "**4.6:** What does the p-value in the `red_lined` row of the ANOVA table tell us? What model can we reject?"
    },
    {
      "cell_type": "markdown",
      "metadata": {
        "cell_id": "1a47d004a77a47348a6f087a889b93a4",
        "deepnote_cell_height": 140.71875,
        "deepnote_cell_type": "markdown",
        "tags": []
      },
      "source": "<div class=\"alert alert-block alert-warning\">\n\n**Sample Response:**\n\nWe can reject the model that included everything except for `red_lined` (e.g., the size one-predictor model).\n\n\n</div>"
    },
    {
      "cell_type": "markdown",
      "metadata": {
        "cell_id": "778d81bbf6aa4bd1a7dd1db68746d329",
        "deepnote_cell_height": 115.9375,
        "deepnote_cell_type": "markdown",
        "tags": []
      },
      "source": "<div class=\"alert alert-block alert-success\">\n\n### 5.0 - Approximate Time:  20-25 mins\n\n</div>"
    },
    {
      "cell_type": "markdown",
      "metadata": {
        "cell_id": "1fd60bc83a824c928ddc7922330334fc",
        "deepnote_cell_height": 69.96875,
        "deepnote_cell_type": "markdown",
        "tags": []
      },
      "source": "## 5.0 - Advanced: All four grades for neighborhoods"
    },
    {
      "cell_type": "markdown",
      "metadata": {
        "cell_id": "86062f4b53c74c05b0d5a31fef14ccd2",
        "deepnote_cell_height": 111.140625,
        "deepnote_cell_type": "markdown",
        "tags": []
      },
      "source": "Although we have been just looking at red-lined neighborhoods versus all other neighborhoods, would including all four grades (A,B,C,D) show us different patterns than just including `red_lined` in our multivariate model?\n\n**5.1 - Explore variation:** Create a word equation and make a visualization to help you explore this question."
    },
    {
      "cell_type": "markdown",
      "metadata": {
        "cell_id": "e655d5e532e043e8b9b45dc8190ee5eb",
        "deepnote_cell_height": 166.109375,
        "deepnote_cell_type": "markdown",
        "tags": []
      },
      "source": "<div class=\"alert alert-block alert-warning\">\n\n**Sample Responses:** \n\n- tree_cov = count_squares + holc_grade + error\n\n- tree coverage = size of neighborhood + HOLC grade + other stuff\n\n</div>"
    },
    {
      "cell_type": "code",
      "execution_count": null,
      "metadata": {
        "cell_id": "1c0a0e5662014597a67a6b0da290d20c",
        "deepnote_cell_height": 608.9375,
        "deepnote_cell_type": "code",
        "deepnote_output_heights": [
          480.984375
        ],
        "deepnote_to_be_reexecuted": false,
        "execution_millis": 163,
        "execution_start": 1663977502183,
        "output_cleared": true,
        "source_hash": "cc319406",
        "tags": [],
        "trusted": true
      },
      "outputs": [],
      "source": "# Sample Response\n\ngf_jitter(tree_cov ~ count_squares, color = ~holc_grade, data = holc, alpha = .1)"
    },
    {
      "cell_type": "markdown",
      "metadata": {
        "cell_id": "d4f098eec8b241cbb88e3f4dcf4e63eb",
        "deepnote_cell_height": 74.75,
        "deepnote_cell_type": "markdown",
        "tags": []
      },
      "source": "**5.2 - Model variation:** Find the best fitting multivariate model, express it in GLM notation, and interpret the parameter estimates. Add the predictions of the model to the visualization."
    },
    {
      "cell_type": "markdown",
      "metadata": {
        "cell_id": "095cb3ecd96c411f8e4e477fc3f478b6",
        "deepnote_cell_height": 125.546875,
        "deepnote_cell_type": "markdown",
        "tags": []
      },
      "source": "***GLM Notation:***\n\n$Y_i = b_0 + b_1X_{1i} + b_2X_{2i} + e_i$\n\n*Note: You may need to add additional $b$ estimates.*"
    },
    {
      "cell_type": "code",
      "execution_count": null,
      "metadata": {
        "cell_id": "e71d1f02571d43eebf264c7051caceab",
        "deepnote_cell_height": 847.34375,
        "deepnote_cell_type": "code",
        "deepnote_output_heights": [
          135.421875,
          480.984375
        ],
        "deepnote_to_be_reexecuted": false,
        "execution_millis": 1188,
        "execution_start": 1663977502347,
        "output_cleared": true,
        "source_hash": "b5a02dc0",
        "tags": [],
        "trusted": true
      },
      "outputs": [],
      "source": "# Sample Response\n\nmulti_model4 <- lm(tree_cov ~ count_squares + holc_grade, data = holc)\nmulti_model4\n\ngf_jitter(tree_cov ~ count_squares, color = ~holc_grade, data = holc, alpha = .1) %>%\n    gf_model(multi_model4)"
    },
    {
      "cell_type": "markdown",
      "metadata": {
        "cell_id": "c1b26290846b432cb2a4ecd417125de8",
        "deepnote_cell_height": 467.875,
        "deepnote_cell_type": "markdown",
        "tags": []
      },
      "source": "<div class=\"alert alert-block alert-warning\">\n\n**Sample Responses:**\n\n***GLM Notation:***\n\n- $Y_i = 13927.29 + 2.99X_{1i} + -10697.48X_{2i} + -14531.11X_{3i} + -17685.12X_{4i} + e_i$\n\n- $tree\\_cov_i = 13927.29 + 2.99count\\_squares_i + -10697.48holc\\_gradeB_i + -14531.11holc\\_gradeC_i + -17685.12holc\\_gradeD_i + e_i$\n\n***Interpret Parameter Estimates:***\n\n- $b_0$ = 13927.29, this is the amount of predicted tree coverage for a grade A neighborhood (when X2, X3, and X4 = 0) when count_squares is zero (when X1 = 0).\n\n- $b_1$ = 2.99, this is the slope, or the amount of tree coverage we add to the model for every 1 unit increase in count_squares.\n\n- $b_2$ = -10697.48, this is the increment (or group difference), or the amount we subtract from the model to get the predicted tree coverage for a grade B neighborhood.\n\n- $b_3$ = -14531.11, this is the increment (or group difference), or the amount we subtract from the model to get the predicted tree coverage for a grade C neighborhood.\n\n- $b_4$ = -17685.12, this is the increment (or group difference), or the amount we subtract from the model to get the predicted tree coverage for a grade D neighborhood.\n\n\n</div>"
    },
    {
      "cell_type": "markdown",
      "metadata": {
        "cell_id": "7298312325ef4d5482050f6bd5237c49",
        "deepnote_cell_height": 52.359375,
        "deepnote_cell_type": "markdown",
        "tags": []
      },
      "source": "**5.3 - Evaluate models:** Is the model of the DGP that includes size of the multivariate better than the empty model of the DGP?"
    },
    {
      "cell_type": "code",
      "execution_count": null,
      "metadata": {
        "cell_id": "6bfe232ddc4b4feab54f76dfb67939ee",
        "deepnote_cell_height": 358.1875,
        "deepnote_cell_type": "code",
        "deepnote_output_heights": [
          212.234375,
          439.15625
        ],
        "deepnote_to_be_reexecuted": false,
        "execution_millis": 836,
        "execution_start": 1663977502700,
        "output_cleared": true,
        "source_hash": "5269c040",
        "tags": [],
        "trusted": true
      },
      "outputs": [],
      "source": "# Sample Responses\n\n#supernova(multi_model4)\nsupernova(multi_model4, verbose = FALSE)"
    },
    {
      "cell_type": "markdown",
      "metadata": {
        "cell_id": "0ab0848c32364e8497a9163555ceecc2",
        "deepnote_cell_height": 185.515625,
        "deepnote_cell_type": "markdown",
        "tags": []
      },
      "source": "<div class=\"alert alert-block alert-warning\">\n\n**Sample Response:**\n\nThe model does seem better than the empty model. It has reduced error by about 31% (PRE = 0.31), and the relatively large F value (90.10) tells us that this multivariate model is a pretty good model compared to our empty model. We got a lot of reduction in error for the degrees of freedom spent.\n\n</div>"
    },
    {
      "cell_type": "markdown",
      "metadata": {
        "cell_id": "be542b0e951c4841a61b091b456a5db7",
        "deepnote_cell_height": 115.9375,
        "deepnote_cell_type": "markdown",
        "tags": []
      },
      "source": "<div class=\"alert alert-block alert-success\">\n\n### 6.0 - Approximate Time:  10-15 mins\n\n</div>"
    },
    {
      "cell_type": "markdown",
      "metadata": {
        "cell_id": "8cfe5cafe4ec4cb79eb3b3ff0834fa28",
        "deepnote_cell_height": 69.96875,
        "deepnote_cell_type": "markdown",
        "owner_user_id": "a530bee3-0745-4044-9a82-f3cb68c8fb6e",
        "tags": []
      },
      "source": "## 6.0 - Alternate Advanced: How about a ratio?"
    },
    {
      "cell_type": "markdown",
      "metadata": {
        "cell_id": "eaf3cb76891c4e478092081331cef445",
        "deepnote_cell_height": 74.75,
        "deepnote_cell_type": "markdown",
        "tags": []
      },
      "source": "**6.1:** Of course the size of the neighborhood probably has a lot to do with the tree coverage. Is there a way to create an outcome variable that already incorporates this information? "
    },
    {
      "cell_type": "code",
      "execution_count": null,
      "metadata": {
        "cell_id": "2be14e0abe4340598555598619e2a214",
        "deepnote_cell_height": 201.953125,
        "deepnote_cell_type": "code",
        "deepnote_to_be_reexecuted": false,
        "execution_millis": 0,
        "execution_start": 1663977844276,
        "output_cleared": true,
        "source_hash": "b47fbde5",
        "tags": [],
        "trusted": true
      },
      "outputs": [],
      "source": "# Sample Response\n# Create a tree coverage ratio\n\nholc$tree_ratio <- holc$tree_cov / holc$count_squares\n\n# Optional: teach students the `mutate()` function\n#holc <- holc %>%\n#    mutate(tree_ratio = tree_cov / count_squares)"
    },
    {
      "cell_type": "markdown",
      "metadata": {
        "cell_id": "e89ed521e31146d8ac728917b86bb6da",
        "deepnote_cell_height": 74.75,
        "deepnote_cell_type": "markdown",
        "tags": []
      },
      "source": "**6.2:** Would a model like that result in a PRE for red-lining that is more like the multivariate model (around 4%) or more like the single-predictor model (around 1%)? Make a prediction -- then find out!"
    },
    {
      "cell_type": "code",
      "execution_count": null,
      "metadata": {
        "cell_id": "fb8166aabd24436abc29c8546e59031c",
        "deepnote_cell_height": 1088.171875,
        "deepnote_cell_type": "code",
        "deepnote_output_heights": [
          135.421875,
          173.828125,
          480.984375
        ],
        "deepnote_to_be_reexecuted": false,
        "execution_millis": 193,
        "execution_start": 1663977975207,
        "output_cleared": true,
        "source_hash": "cb2afce5",
        "tags": [],
        "trusted": true
      },
      "outputs": [],
      "source": "# Sample Response\n    \nratio_red_model <- lm(tree_ratio ~ red_lined, data = holc)\nratio_red_model\n\ngf_jitter(tree_ratio ~ red_lined, data = holc, color = ~red_lined) %>%\n    gf_model(ratio_red_model, color = \"red\")\n\nsupernova(ratio_red_model)"
    },
    {
      "cell_type": "markdown",
      "metadata": {
        "cell_id": "c92db886e5e747dd983c2b0f2aa50a83",
        "deepnote_cell_height": 52.359375,
        "deepnote_cell_type": "markdown",
        "tags": []
      },
      "source": "**6.3:** Why don't we get exactly the same PRE as prior models?"
    },
    {
      "cell_type": "markdown",
      "metadata": {
        "cell_id": "d3178b3834b5441787f8d24a59ca6bc7",
        "deepnote_cell_height": 303.078125,
        "deepnote_cell_type": "markdown",
        "tags": []
      },
      "source": "<div class=\"alert alert-block alert-warning\">\n\n**Sample Response:**\n\nDividing tree coverage by count squares links the tree coverage to the specific area of the neighborhood. In contrast, putting count squares in the multivariate model takes the best fitting relationship between tree coverage and count squares for the whole data set and uses that best-fitting relationship for every neighborhood.\n\n**Note to Instructors:**\n\nThere are reasons to use either the ratio approach or the multivariate approach. The multivariate approach can give you information such as the general relationship between tree coverage and the size of the neighborhood, how much variation the size of the neighborhood explains. The ratio approach might be good if you want to actually predict ratio as the outcome.\n\n</div>"
    }
  ],
  "metadata": {
    "deepnote_notebook_id": "9f237e19b5d24916816991429c4d1772",
    "kernelspec": {
      "display_name": "R",
      "language": "R",
      "name": "ir"
    },
    "language_info": {
      "codemirror_mode": "r",
      "file_extension": ".r",
      "mimetype": "text/x-r-source",
      "name": "R",
      "pygments_lexer": "r",
      "version": "4.3.3"
    },
    "nbsimplegrader": {
      "publish_config": {
        "classes": [],
        "options": [],
        "tools": []
      }
    }
  },
  "nbformat": 4,
  "nbformat_minor": 1
}