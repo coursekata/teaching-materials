{
  "cells": [
    {
      "cell_type": "markdown",
      "metadata": {
        "cell_id": "70923dd5c2004a5db29d62c4f2132e77",
        "deepnote_cell_height": 235.921875,
        "deepnote_cell_type": "markdown",
        "tags": []
      },
      "source": "<div class=\"alert alert-block alert-danger\">\n\n# Ch 1-14 Test: Advanced Models (1 hr)\n\n### COMPLETE VERSION\n\n</div>"
    },
    {
      "cell_type": "code",
      "execution_count": null,
      "metadata": {
        "cell_id": "c9e1d2e6e95a4def928543888f033f34",
        "deepnote_cell_type": "code",
        "deepnote_to_be_reexecuted": false,
        "execution_context_id": "78a74353-d538-4357-bd58-f68a58f4e205",
        "execution_millis": 1084,
        "execution_start": 1747093554258,
        "output_cleared": false,
        "source_hash": "15c2742c",
        "tags": [],
        "trusted": true
      },
      "outputs": [],
      "source": "# Load the CourseKata library\nsuppressPackageStartupMessages({\n    library(coursekata)\n})\ncandy_rankings <- fivethirtyeight::candy_rankings %>%\n                mutate(nutty = peanutyalmondy, sugarpercent = sugarpercent * 100,\n                    chocolate = as.factor(chocolate),\n                    fruity = as.factor(fruity),\n                    nutty = as.factor(nutty), \n                    hard = as.factor(hard), \n                    bar = as.factor(hard)) %>%\n                select(competitorname, winpercent, chocolate, fruity, nutty, hard, bar, sugarpercent, pricepercent)\n\n\n"
    },
    {
      "cell_type": "markdown",
      "metadata": {
        "cell_id": "85c00895c45e442db8e3c654fc110c11",
        "deepnote_cell_height": 499.015625,
        "deepnote_cell_type": "markdown",
        "tags": []
      },
      "source": "*FiveThirtyEight* conducted an online study.  Participants were shown two candies at a time (randomly selected from a collection of 85 different Halloween candies) and were asked to state which of the two they would prefer. The results are in a data frame called `candy_rankings`, a data frame with 85 rows and 9 variables. (The original data frame had more variables; we have reduced it for convenience.)\n\nThe variables are:\n\n- `competitorname` the name of the Halloween candy\n- `winpercent` indicates the overall popularity of each candy measured as the percentage of times the candy was chosen over other candies across 269,000 matchups\n- `chocolate` whether the candy contains chocolate (coded TRUE or FALSE)\n- `fruity` whether the candy contains fruit (coded TRUE or FALSE)\n- `nutty` whether the candy contains peanuts, peanut butter, or almonds (coded TRUE or FALSE)\n- `hard` whether the candy is a hard candy (coded TRUE or FALSE)\n- `bar` whether the candy is a bar (coded TRUE or FALSE)\n- `sugarpercent` The amount of sugar in the candy (measured as a percentile in comparison to all the other candies)\n- `pricepercent` The price of the candy (measured as a percentile in comparison to all the other candies)"
    },
    {
      "cell_type": "markdown",
      "metadata": {
        "cell_id": "58adc8798bbe488cb318929f82a71485",
        "deepnote_cell_height": 61.953125,
        "deepnote_cell_type": "markdown",
        "tags": []
      },
      "source": "### Explore Variation"
    },
    {
      "cell_type": "markdown",
      "metadata": {
        "cell_id": "a33741bbde054487845cbc20ffef3a3b",
        "deepnote_cell_height": 88.75,
        "deepnote_cell_type": "markdown",
        "tags": []
      },
      "source": "**Question 1** \n\nUse R to look at the first six lines of this data frame. What are the cases in this data frame?"
    },
    {
      "cell_type": "code",
      "execution_count": null,
      "metadata": {
        "cell_id": "cfbedf605dd04cde875f195089f68d39",
        "deepnote_cell_type": "code",
        "deepnote_to_be_reexecuted": false,
        "execution_context_id": "78a74353-d538-4357-bd58-f68a58f4e205",
        "execution_millis": 1,
        "execution_start": 1747093555388,
        "output_cleared": false,
        "source_hash": "ff1e5f9e",
        "tags": [],
        "trusted": true
      },
      "outputs": [],
      "source": "# CORRECT ANSWER\nhead(candy_rankings)"
    },
    {
      "cell_type": "markdown",
      "metadata": {
        "cell_id": "196fd5398f924374bc516c5753511329",
        "deepnote_cell_height": 140.71875,
        "deepnote_cell_type": "markdown",
        "tags": []
      },
      "source": "<div class=\"alert alert-block alert-warning\">\n\n**Correct Answer**\n\nEach case is a different Halloween candy.\n\n</div>"
    },
    {
      "cell_type": "markdown",
      "metadata": {
        "cell_id": "eaa9218cc8c840d49f82ab92a6d2e25c",
        "deepnote_cell_height": 133.53125,
        "deepnote_cell_type": "markdown",
        "tags": []
      },
      "source": "**Question 2** \n\nMake a visualization to look at the variation in `winpercent` (what percentage of time a particular candy won when matched up against other candies in a head-to-head contest). Describe the shape, center, and spread of this distribution."
    },
    {
      "cell_type": "code",
      "execution_count": null,
      "metadata": {
        "cell_id": "4ee1680fa9cb4eda9e370fac670958e5",
        "deepnote_cell_type": "code",
        "deepnote_to_be_reexecuted": false,
        "execution_context_id": "78a74353-d538-4357-bd58-f68a58f4e205",
        "execution_millis": 1486,
        "execution_start": 1747093555438,
        "output_cleared": false,
        "source_hash": "a10020b4",
        "tags": [],
        "trusted": true
      },
      "outputs": [],
      "source": "# CORRECT ANSWER (there are multiple correct answers but this will probably be most common)\ngf_histogram(~winpercent, data = candy_rankings)\n\n# other possible answers\ngf_boxplot(winpercent ~ 1, data = candy_rankings)\n\ngf_histogram(~winpercent, data = candy_rankings) %>%\ngf_boxplot()\n\nfavstats(~ winpercent, data = candy_rankings)"
    },
    {
      "cell_type": "markdown",
      "metadata": {
        "cell_id": "fb9305889c83410ca612741b96d60a75",
        "deepnote_cell_height": 250.296875,
        "deepnote_cell_type": "markdown",
        "tags": []
      },
      "source": "<div class=\"alert alert-block alert-warning\">\n\n**Correct Answer**\n\nThere are a variety of correct answers but here are some examples:\n- shape: roughly normal, not too skewed\n- center: around 50 (students might cite mean or median)\n- spread: most data is between 20 and 80; 50% of the data is between 40 and 60 (students may cite standard deviation)\n\n</div>"
    },
    {
      "cell_type": "markdown",
      "metadata": {
        "cell_id": "3b31b2d7c14f4a53b71f0f40e95b98bc",
        "deepnote_cell_height": 88.75,
        "deepnote_cell_type": "markdown",
        "tags": []
      },
      "source": "**Question 3** \n\nWhich candy had the highest `winpercent` (i.e., what is the \"best\" candy according to this data)? "
    },
    {
      "cell_type": "code",
      "execution_count": null,
      "metadata": {
        "cell_id": "c538e5bf6dbd4693894b7080c533aa64",
        "deepnote_cell_type": "code",
        "deepnote_to_be_reexecuted": false,
        "execution_context_id": "78a74353-d538-4357-bd58-f68a58f4e205",
        "execution_millis": 17,
        "execution_start": 1747093556978,
        "output_cleared": false,
        "source_hash": "d7964b21",
        "tags": [],
        "trusted": true
      },
      "outputs": [],
      "source": "# possible method\narrange(candy_rankings, desc(winpercent))\n\n# other possibilities\nhead(arrange(candy_rankings, desc(winpercent)))"
    },
    {
      "cell_type": "markdown",
      "metadata": {
        "cell_id": "53497dbb1bf341f589ef66e9e59ac405",
        "deepnote_cell_height": 140.71875,
        "deepnote_cell_type": "markdown",
        "tags": []
      },
      "source": "<div class=\"alert alert-block alert-warning\">\n\n**Correct Answer**\n\nReese's Peanut Butter Cup\n\n</div>"
    },
    {
      "cell_type": "markdown",
      "metadata": {
        "cell_id": "908243f724ba486eb0ca04df6fa3c011",
        "deepnote_cell_height": 111.140625,
        "deepnote_cell_type": "markdown",
        "tags": []
      },
      "source": "To explain some of the variation in `winpercent`, let's create a multivariate model that includes both of these explanatory variables in a single model: `chocolate` and `sugarpercent`. \n\nWe have created a visualization and put the best fitting multivariate model on it for you."
    },
    {
      "cell_type": "code",
      "execution_count": null,
      "metadata": {
        "cell_id": "36715eea13a944ab98145f0eeafdcfba",
        "deepnote_cell_type": "code",
        "deepnote_to_be_reexecuted": false,
        "execution_context_id": "78a74353-d538-4357-bd58-f68a58f4e205",
        "execution_millis": 186,
        "execution_start": 1747093557038,
        "output_cleared": false,
        "source_hash": "ff39990f",
        "tags": [],
        "trusted": true
      },
      "outputs": [],
      "source": "gf_point(winpercent~sugarpercent, data = candy_rankings, color = ~chocolate) %>%\ngf_model(winpercent ~ sugarpercent + chocolate)"
    },
    {
      "cell_type": "markdown",
      "metadata": {
        "cell_id": "1d5bbbdc1eb0475895959152ab63e027",
        "deepnote_cell_height": 111.140625,
        "deepnote_cell_type": "markdown",
        "tags": []
      },
      "source": "**Question 4**\n\nFind the parameter estimates for the best fitting model and fill in the GLM equation partially written for you below."
    },
    {
      "cell_type": "code",
      "execution_count": null,
      "metadata": {
        "cell_id": "8ae20732a0d540d5bc71ac5768431ab6",
        "deepnote_cell_type": "code",
        "deepnote_to_be_reexecuted": false,
        "execution_context_id": "78a74353-d538-4357-bd58-f68a58f4e205",
        "execution_millis": 1,
        "execution_start": 1747093557278,
        "output_cleared": false,
        "source_hash": "6adbc119",
        "tags": [],
        "trusted": true
      },
      "outputs": [],
      "source": "# CORRECT ANSWER\nlm(winpercent ~ chocolate + sugarpercent, data = candy_rankings)"
    },
    {
      "cell_type": "markdown",
      "metadata": {
        "cell_id": "7d434609fa5e445eb9e3dd5c044a090e",
        "deepnote_cell_height": 88.953125,
        "deepnote_cell_type": "markdown",
        "tags": []
      },
      "source": "Fill in the following with the appropriate parameter estimates.\n\n$Y_i = b_0 + b_1X_{1i} + b_2X_{2i} + e_i$"
    },
    {
      "cell_type": "markdown",
      "metadata": {
        "cell_id": "7888641386d2436bb4c33bdaed161480",
        "deepnote_cell_height": 140.9375,
        "deepnote_cell_type": "markdown",
        "tags": []
      },
      "source": "<div class=\"alert alert-block alert-warning\">\n\n**Correct Answer**\n\n- $Y_i = 38.26 + 18.27X_{1i} + .09X_{2i} + e_i$\n\n</div>"
    },
    {
      "cell_type": "markdown",
      "metadata": {
        "cell_id": "b80c568e761f41929299958338065617",
        "deepnote_cell_height": 88.953125,
        "deepnote_cell_type": "markdown",
        "tags": []
      },
      "source": "**Question 5**\n\nInterpret the three parameter estimates $b_0$, $b_1$, and $b_2$."
    },
    {
      "cell_type": "markdown",
      "metadata": {
        "cell_id": "7fd21f024c1a408e911453479fbaae39",
        "deepnote_cell_height": 338.703125,
        "deepnote_cell_type": "markdown",
        "tags": []
      },
      "source": "<div class=\"alert alert-block alert-warning\">\n\n**Correct Answer**\n\n- $b_0$ is the predicted `winpercent` for a non-chocolate candy with 0% sugar.\n- $b_1$ is the increment to add to predicted `winpercent` for a chocolate candy.\n- $b_2$ is the increment to add to predicted `winpercent` for each additional percent of sugar.\n\nAnother possible set of correct interpretations might put these numbers in context of the model lines:\n\n- $b_0$ is y-intercept for non-chocolate line (red).\n- $b_1$ is the distance between the two lines (red and gold).\n- $b_2$ is the slope of the lines.\n</div>"
    },
    {
      "cell_type": "markdown",
      "metadata": {
        "cell_id": "d2f80b85d0d647499617e7df5375ecad",
        "deepnote_cell_height": 237.703125,
        "deepnote_cell_type": "markdown",
        "nbsimplegrader": {
          "config_key": "markdown.multiple-choice",
          "editable": false,
          "label": "Response: Multiple-Choice",
          "respondable": true,
          "response": null,
          "runnable": false,
          "type": "multiple-choice"
        },
        "tags": []
      },
      "source": "**Question 6** \n\nBased on the model, what would you predict the `winpercent` to be for a candy that contains chocolate?\n\n- 38.26 + 18.27\n- 38.26 + 18.27 + .086\n- 38.26 + 18.27 + .086*sugarpercent\n- We can’t tell from the output "
    },
    {
      "cell_type": "markdown",
      "metadata": {
        "cell_id": "37ce7d4f31804b13bdcd982a1bd76b51",
        "deepnote_cell_height": 140.71875,
        "deepnote_cell_type": "markdown",
        "tags": []
      },
      "source": "<div class=\"alert alert-block alert-warning\">\n\n**Correct Answer**\n\n38.26 + 18.27 + .086*sugarpercent\n\n</div>"
    },
    {
      "cell_type": "markdown",
      "metadata": {
        "cell_id": "8fd8ebe355f94061a940745e38686536",
        "deepnote_cell_height": 133.53125,
        "deepnote_cell_type": "markdown",
        "tags": []
      },
      "source": "**Question 7** \n\nGenerate the ANOVA table for the multivariate model. Compare the PRE for the three models: the multivariate model, the chocolate model, and sugar percent model. Explain what the PRE for each means."
    },
    {
      "cell_type": "code",
      "execution_count": null,
      "metadata": {
        "cell_id": "a7f85ea03f7943a499daa7a014c7e5ac",
        "deepnote_cell_type": "code",
        "deepnote_to_be_reexecuted": false,
        "execution_context_id": "78a74353-d538-4357-bd58-f68a58f4e205",
        "execution_millis": 1,
        "execution_start": 1747093557328,
        "output_cleared": false,
        "source_hash": "ff371553",
        "tags": [],
        "trusted": true
      },
      "outputs": [],
      "source": "# showing the work\ntwopredictor_model <- lm(winpercent ~ chocolate + sugarpercent, data=candy_rankings)\nsupernova(twopredictor_model)"
    },
    {
      "cell_type": "markdown",
      "metadata": {
        "cell_id": "ae2d0dbfc8484ed691224a414d46f2ef",
        "deepnote_cell_height": 280.6875,
        "deepnote_cell_type": "markdown",
        "owner_user_id": "23d85493-7ed1-49a4-baa7-630eaab08193",
        "tags": []
      },
      "source": "<div class=\"alert alert-block alert-warning\">\n\n**Correct Answer**\n\nThe full model has a PRE of ~43%. The multivariate model reduces 43% of variation from SS Total.\n\nOf all the variation unrelated to sugar percent, the chocolate variable reduces 40% of the error in winpercent.\n\nOf all the variation unrelated to chocolate percent, the sugar percent variable reduces 5% of the error in winpercent.\n\n</div>"
    },
    {
      "cell_type": "markdown",
      "metadata": {
        "cell_id": "de9c19d0258f487d87e812861caf678f",
        "deepnote_cell_height": 261.125,
        "deepnote_cell_type": "markdown",
        "tags": []
      },
      "source": "**Question 8**\n\nAccording to the ANOVA table for the multivariate model and assuming that we will set an alpha ($\\alpha$) of .05, which model or models of the DGP should we reject? Put an (X) in front of the models that we should reject.\n\n- ( ) $winpercent_i = \\beta_0 + \\epsilon_i$\n- ( ) $winpercent_i = \\beta_0 + \\beta_1chocolate_i + \\epsilon_i$\n- ( ) $winpercent_i = \\beta_0 + \\beta_2sugar_i  + \\epsilon_i$\n- ( ) $winpercent_i = \\beta_0 + \\beta_1chocolate_i + \\beta_2sugar_i + \\epsilon_i$\n"
    },
    {
      "cell_type": "markdown",
      "metadata": {
        "cell_id": "7b387890464846c5a06c26be6b2d09ee",
        "deepnote_cell_height": 217.71875,
        "deepnote_cell_type": "markdown",
        "deepnote_to_be_reexecuted": false,
        "execution_millis": 2,
        "execution_start": 1646933688008,
        "source_hash": "337e7c6e",
        "tags": []
      },
      "source": "<div class=\"alert alert-block alert-warning\">\n\n**Correct Answer**\n\n- (X) $winpercent_i = \\beta_0 + \\epsilon_i$\n- ( ) $winpercent_i = \\beta_0 + \\beta_1chocolate_i + \\epsilon_i$\n- (X) $winpercent_i = \\beta_0 + \\beta_2sugar_i  + \\epsilon_i$\n- ( ) $winpercent_i = \\beta_0 + \\beta_1chocolate_i + \\beta_2sugar_i + \\epsilon_i$\n\n</div>"
    },
    {
      "cell_type": "markdown",
      "metadata": {
        "cell_id": "4d06f72dfc0442059e660fbb1cf0aa3a",
        "deepnote_cell_height": 88.953125,
        "deepnote_cell_type": "markdown",
        "tags": []
      },
      "source": "**Question 9**\n\nEstimate and interpret the 95% confidence interval for $\\beta_1$ and $\\beta_2$ in the multivariate model."
    },
    {
      "cell_type": "code",
      "execution_count": null,
      "metadata": {
        "cell_id": "a0551be9d94d4067a148e9ba2cf5a2a9",
        "deepnote_cell_type": "code",
        "deepnote_to_be_reexecuted": false,
        "execution_context_id": "78a74353-d538-4357-bd58-f68a58f4e205",
        "execution_millis": 1,
        "execution_start": 1747093557378,
        "output_cleared": false,
        "source_hash": "f147ce5e",
        "tags": [],
        "trusted": true
      },
      "outputs": [],
      "source": "# CORRECT ANSWER\ntwopredictor_model <- lm(winpercent ~ chocolate + sugarpercent, data=candy_rankings)\nconfint(twopredictor_model)"
    },
    {
      "cell_type": "markdown",
      "metadata": {
        "cell_id": "eb5a7f5f2f5f433298b7e91a99341111",
        "deepnote_cell_height": 441.0625,
        "deepnote_cell_type": "markdown",
        "deepnote_to_be_reexecuted": false,
        "execution_millis": 2,
        "execution_start": 1646933688008,
        "source_hash": "337e7c6e",
        "tags": []
      },
      "source": "<div class=\"alert alert-block alert-warning\">\n\n**Correct Answer**\n\n$\\beta_1$: We are 95% confident that *the true increment to add on to `winpercent` for a candy with chocolate*, given that sugar percent is in the model, is between 13.36 and 23.18.\n\nAlternative wordings (we've italicized the part that differs):\n- We are 95% confident that *the true relationship between chocolate and winpercent*...\n- We are 95% confident that *the true difference between non-chocolate and chocolate candies*...\n\n$\\beta_2$: We are 95% confident that *the true increment to add on to `winpercent` for each additional percent of sugar*, given that chocolate is in the model, is between -.001 and .172.\n    \nAlternative wordings:\n- We are 95% confident that *the true relationship between sugarpercent and winpercent*...\n- We are 95% confident that *the true slope*...\n    \n</div>"
    }
  ],
  "metadata": {
    "deepnote_notebook_id": "e0b3b59b0e7745f3ae8933e675f8ec6b",
    "kernelspec": {
      "display_name": "R",
      "language": "R",
      "name": "ir"
    },
    "language_info": {
      "codemirror_mode": "r",
      "file_extension": ".r",
      "mimetype": "text/x-r-source",
      "name": "R",
      "pygments_lexer": "r",
      "version": "4.3.3"
    },
    "nbsimplegrader": {
      "publish_config": {
        "classes": [],
        "options": [],
        "tools": []
      }
    }
  },
  "nbformat": 4,
  "nbformat_minor": 1
}