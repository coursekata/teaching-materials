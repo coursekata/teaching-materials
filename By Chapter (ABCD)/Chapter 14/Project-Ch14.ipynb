{
  "cells": [
    {
      "cell_type": "markdown",
      "metadata": {
        "cell_id": "b8c78c567bd04c2b9d806f230982cfc2",
        "deepnote_cell_height": 134,
        "deepnote_cell_type": "markdown"
      },
      "source": "# Data Analysis Report for Advanced Models: Modeling Housing Prices\n"
    },
    {
      "cell_type": "code",
      "execution_count": null,
      "metadata": {
        "cell_id": "76ff63c66c7b437cb3b7b55af9b1f595",
        "deepnote_cell_type": "code",
        "deepnote_to_be_reexecuted": false,
        "execution_millis": 263,
        "execution_start": 1723838238993,
        "output_cleared": false,
        "owner_user_id": "a530bee3-0745-4044-9a82-f3cb68c8fb6e",
        "source_hash": null,
        "trusted": true
      },
      "outputs": [],
      "source": "# Run this code to load the required packages\nsuppressMessages(suppressWarnings(suppressPackageStartupMessages({\n  library(coursekata)\n})))\n\nhomes <- read.csv(\"https://docs.google.com/spreadsheets/d/e/2PACX-1vRMLCEGy4pTxlu28UBHHVVwXmmdA4vP5Jbd1USFVzpuyVlBcbG_TW65zO5MVtG6MnTN95sfEzD0e4yk/pub?gid=129450771&single=true&output=csv\")\n#homes_test <- read.csv(\"https://docs.google.com/spreadsheets/d/e/2PACX-1vRJFz-5HKKP_1IFmW1kWWE5vA73a4wB-ujgUqpLf7cmbiW-2RFAQeILAqwCLBKlNjU0WfrgxEnT7wv2/pub?gid=977580172&single=true&output=csv\")\n"
    },
    {
      "cell_type": "markdown",
      "metadata": {
        "cell_id": "0e79daa2361342d489006eddcc642e32",
        "deepnote_cell_height": 205.1875,
        "deepnote_cell_type": "markdown",
        "tags": []
      },
      "source": "<div class=\"alert alert-block alert-info\">\n\n## Link to Guide and Rubric\n\nThe **Guide** answers the question \"What is a data analysis report?\" and the **Rubric** can be used to help you write a good data analysis report.\nhttps://docs.google.com/document/d/1Ghk8HJyC0L15lwDZK8Nyrpj-t8tQpvKjUKNSiPMM7us/edit?usp=sharing\n\n</div>"
    },
    {
      "cell_type": "markdown",
      "metadata": {
        "cell_id": "2749853233a84cce9b8c9dc5c15fdfaa",
        "deepnote_cell_height": 845.15625,
        "deepnote_cell_type": "markdown"
      },
      "source": "<div class=\"alert alert-block alert-info\">\n\n## Your Goal\n\nA home is often the largest and most expensive purchase a person will make. But homes also don't have a price tag on them. It's hard to judge the true value of a home. Real estate websites such as Zillow, Redfin, or Trulia often use statistical models to help people make a guess at how much a home is worth. \n\nIn this project, you will develop an advance model that makes predictions about the sale prices of homes based on a training data set called `homes` with 1460 homes. However, your model will be compared against other students' models on `homes_test` (a fresh set of data from 1459 homes). Your goal is to make accurate predictions not just in your training data but also in the testing data. So think hard about whether the variables or polynomials you include in your model should be included in your model of the DGP. \n\n## Data\n\nThe dataset you will be working with describes 1460 residential home sales in Ames, Iowa from the years 2006 - 2010, as reported by the Ames City Assessor's Office. Ames is located about 30 miles north of Des Moines (the state capitol) and is home to Iowa State University (the largest University in the state). Each row (observation) represents the latest sale of a home (one row per home in dataset). Columns represent home features and sale prices (outcome). More information on the specific variables in this data set can be found in [this document](https://drive.google.com/file/d/1ks61Le4HFRyYN9cYhfWg2J5fgSxvVVmZ/view?usp=sharing).\n\n\n## Instructions\n\nYour task is to use R to explore variation in the data, model the variation, evaluate your models, and then write up your methods and findings in a report for a real estate website (a client like Zillow or Redfin). Your complete data analysis report will have 5 sections: Introduction, Explore Variation, Model Variation, Evaluate Models, Discussion/Conclusions.\n\nIt is up to you to decide what kind of advanced model you would like to make and what explanatory variables you will include in your model. Your goal is to create a model that is able to explain the variation in sale price and thus makes better predictions of sale price. The top 10 models from the class (measured by the F statistic and/or the rationale for the model) will receive extra credit. Good luck!\n\n</div>"
    },
    {
      "cell_type": "code",
      "execution_count": null,
      "metadata": {
        "cell_id": "31622174278f486faed2b6510c5d5a53",
        "deepnote_cell_type": "code",
        "deepnote_to_be_reexecuted": false,
        "execution_millis": 93,
        "execution_start": 1723836909501,
        "source_hash": null,
        "tags": [],
        "trusted": true
      },
      "outputs": [],
      "source": "str(homes)"
    },
    {
      "cell_type": "markdown",
      "metadata": {
        "cell_id": "35a8987087fc40b38367c1201cef48e2",
        "deepnote_cell_height": 70,
        "deepnote_cell_type": "markdown",
        "deepnote_to_be_reexecuted": false,
        "execution_millis": 15,
        "execution_start": 1621356995039,
        "source_hash": "a3151763",
        "tags": []
      },
      "source": "## Intro/Overview of the Problem or Question"
    },
    {
      "cell_type": "markdown",
      "metadata": {
        "cell_id": "c850243f90564a8a8a1898b16bc81ccb",
        "deepnote_cell_height": 334.578125,
        "deepnote_cell_type": "markdown",
        "tags": []
      },
      "source": "<div class=\"alert alert-block alert-info\"> The goal of this section is to provide an overview of the context, situation, or problem.\n\nA good introduction section typically includes the following topics (but not necessarily in this order): \n\n- A description of the question or problem you are investigating and why this question is important\n\n- A description of the data you will use in your investigation, such as:\n  - where the data came from \n  - why and how it was collected\n  - what cases and variables are included\n\n- Your initial hypothesis (perhaps also stated as a word equation), specifying outcome and explanatory variables, and why you think your hypothesis is plausible\n\n</div>"
    },
    {
      "cell_type": "markdown",
      "metadata": {
        "cell_id": "134a44bc63824c2dac5ca7cab44d7e35",
        "deepnote_cell_height": 70,
        "deepnote_cell_type": "markdown"
      },
      "source": "## Explore Variation"
    },
    {
      "cell_type": "markdown",
      "metadata": {
        "cell_id": "5bbc43d9413e4d46914b71429c326115",
        "deepnote_cell_height": 415.78125,
        "deepnote_cell_type": "markdown",
        "tags": []
      },
      "source": "<div class=\"alert alert-block alert-info\">\n\nThe goal of this section is to explore variation in your explanatory and outcome variables. That exploration will almost certainly include visual displays of your data.\n\nA good exploring variation section typically includes the following topics (but not necessarily in this order): \n\n- A description of how you cleaned and prepared your data and why, such as: \n  - filtering cases \n  - handling missing data \n  - recoding or creating new variables\n\n- Visualizations or tables to explore the distributions of relevant variables and hypothesized relationships among variables\n\n- Descriptions of the visualizations or tables, and explanations of how they relate to the hypotheses or research questions\n\n</div>"
    },
    {
      "cell_type": "markdown",
      "metadata": {
        "cell_id": "f857d01a0b114e719366eca37ebfdab4",
        "deepnote_cell_height": 70,
        "deepnote_cell_type": "markdown",
        "tags": []
      },
      "source": "## Model Variation "
    },
    {
      "cell_type": "markdown",
      "metadata": {
        "cell_id": "80043dcb8aa046ebaf37589cbd0f8d86",
        "deepnote_cell_height": 320.578125,
        "deepnote_cell_type": "markdown",
        "tags": []
      },
      "source": "<div class=\"alert alert-block alert-info\">\n\nThe goal of this section is to create a model or models that uses explanatory variables to explain some of the variation in your outcome variable.\n\nA good modeling variation section typically includes the following topics (but not necessarily in this order): \n\n- The best fitting model (or models), expressed in GLM notation, to represent your research question \n\n- The interpretation of your parameter estimates in the units appropriate to your research question\n\n- A visual display of your model overlaid on the data \n\n- The creation and interpretation of an ANOVA table to assess how well the model fits the data, and a comparison of the fit of alternative models when applicable \n\n\n</div>"
    },
    {
      "cell_type": "markdown",
      "metadata": {
        "cell_id": "909498dc32a54feb96393a4caa00ce3e",
        "deepnote_cell_height": 70,
        "deepnote_cell_type": "markdown",
        "tags": []
      },
      "source": "## Evaluate Models "
    },
    {
      "cell_type": "markdown",
      "metadata": {
        "cell_id": "4c359b4e5bc54266b93881406adfdf84",
        "deepnote_cell_height": 295.1875,
        "deepnote_cell_type": "markdown",
        "tags": []
      },
      "source": "<div class=\"alert alert-block alert-info\">\n\nThe goal of this section is to discuss your model in relation to other plausible models of the DGP.\n\nA good evaluating models section typically includes the following topics (but not necessarily in this order): \n\n- The construction and interpretation of a confidence interval in relation to your research question \n\n- An evaluation of your model(s) against the empty model using p-value or confidence intervals, and a rationale for which model you opt to retain \n\n- An evaluation of your model(s) against other simpler models model using p-value or confidence intervals, and a rationale for which model you opt to retain \n\n\n</div>"
    },
    {
      "cell_type": "markdown",
      "metadata": {
        "cell_id": "67d068cdb8074681abf44e59688d7051",
        "deepnote_cell_height": 70,
        "deepnote_cell_type": "markdown",
        "tags": []
      },
      "source": "## Conclusions "
    },
    {
      "cell_type": "markdown",
      "metadata": {
        "cell_id": "475d21f5190b4cc483b9aaf43df6d0c0",
        "deepnote_cell_height": 224.984375,
        "deepnote_cell_type": "markdown",
        "tags": []
      },
      "source": "<div class=\"alert alert-block alert-info\">\n\nThe goal of this section is to help your audience understand what can be learned from your data analysis.\n\nA good conclusion section typically includes the following topics (but not necessarily in this order): \n\n- A summary of what you did, what you found, and how it relates to the motivating question \n\n- A discussion of the implications of the results, what they mean for the audience or the world, and possible limitations of the findings  \n\n\n\n</div>"
    },
    {
      "cell_type": "markdown",
      "metadata": {
        "cell_id": "43169a4fc95e40db94f985b34ae28bec",
        "deepnote_cell_height": 182.796875,
        "deepnote_cell_type": "markdown",
        "tags": []
      },
      "source": "<div class=\"alert alert-block alert-info\">\n\n## After you are done...\n\nGo through this document and delete all the cells with blue text boxes (the instructions). You will be then left with a data analysis report.\n\n</div>"
    }
  ],
  "metadata": {
    "deepnote_notebook_id": "da025c9312af46bbae89329a8d51fe62",
    "kernelspec": {
      "display_name": "R",
      "language": "R",
      "name": "ir"
    },
    "language_info": {
      "codemirror_mode": "r",
      "file_extension": ".r",
      "mimetype": "text/x-r-source",
      "name": "R",
      "pygments_lexer": "r",
      "version": "4.3.3"
    },
    "nbsimplegrader": {
      "publish_config": {
        "classes": [],
        "options": [],
        "tools": []
      }
    }
  },
  "nbformat": 4,
  "nbformat_minor": 1
}