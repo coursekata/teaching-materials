{
  "cells": [
    {
      "cell_type": "markdown",
      "metadata": {
        "cell_id": "83dba3b33eaf42f08e6c79771895feeb",
        "deepnote_cell_height": 81.953125,
        "deepnote_cell_type": "markdown",
        "tags": []
      },
      "source": "# Ch 1-14 Test: Advanced Models"
    },
    {
      "cell_type": "code",
      "execution_count": null,
      "metadata": {
        "cell_id": "f612b96208844bf48444b5c50825b2b6",
        "deepnote_cell_type": "code",
        "deepnote_to_be_reexecuted": false,
        "execution_millis": 4333,
        "execution_start": 1647465859935,
        "output_cleared": true,
        "source_hash": "15c2742c",
        "tags": [],
        "trusted": true
      },
      "outputs": [],
      "source": "# Load the CourseKata library\nsuppressPackageStartupMessages({\n    library(coursekata)\n})\ncandy_rankings <- fivethirtyeight::candy_rankings %>%\n                mutate(nutty = peanutyalmondy, sugarpercent = sugarpercent * 100,\n                    chocolate = as.factor(chocolate),\n                    fruity = as.factor(fruity),\n                    nutty = as.factor(nutty), \n                    hard = as.factor(hard), \n                    bar = as.factor(hard)) %>%\n                select(competitorname, winpercent, chocolate, fruity, nutty, hard, bar, sugarpercent, pricepercent)\n\n\n"
    },
    {
      "cell_type": "markdown",
      "metadata": {
        "cell_id": "6c59ca07fb9b40a186d309050b573ead",
        "deepnote_cell_height": 499.015625,
        "deepnote_cell_type": "markdown",
        "tags": []
      },
      "source": "*FiveThirtyEight* conducted an online study.  Participants were shown two candies at a time (randomly selected from a collection of 85 different Halloween candies) and were asked to state which of the two they would prefer. The results are in a data frame called `candy_rankings`, a data frame with 85 rows and 9 variables. (The original data frame had more variables; we have reduced it for convenience.)\n\nThe variables are:\n\n- `competitorname` the name of the Halloween candy\n- `winpercent` indicates the overall popularity of each candy measured as the percentage of times the candy was chosen over other candies across 269,000 matchups\n- `chocolate` whether the candy contains chocolate (coded TRUE or FALSE)\n- `fruity` whether the candy contains fruit (coded TRUE or FALSE)\n- `nutty` whether the candy contains peanuts, peanut butter, or almonds (coded TRUE or FALSE)\n- `hard` whether the candy is a hard candy (coded TRUE or FALSE)\n- `bar` whether the candy is a bar (coded TRUE or FALSE)\n- `sugarpercent` The amount of sugar in the candy (measured as a percentile in comparison to all the other candies)\n- `pricepercent` The price of the candy (measured as a percentile in comparison to all the other candies)"
    },
    {
      "cell_type": "markdown",
      "metadata": {
        "cell_id": "93e8c8d67d0345f38f424b7bd905e831",
        "deepnote_cell_height": 61.953125,
        "deepnote_cell_type": "markdown",
        "tags": []
      },
      "source": "### Explore Variation"
    },
    {
      "cell_type": "markdown",
      "metadata": {
        "cell_id": "94189acbe1c84156b6ff574ef34e815d",
        "deepnote_cell_height": 88.75,
        "deepnote_cell_type": "markdown",
        "tags": []
      },
      "source": "**Question 1** \n\nUse R to look at the first six lines of this data frame. What are the cases in this data frame?"
    },
    {
      "cell_type": "markdown",
      "metadata": {
        "cell_id": "03860cef68424eb0ab14ef4723618425",
        "deepnote_cell_height": 133.53125,
        "deepnote_cell_type": "markdown",
        "tags": []
      },
      "source": "**Question 2** \n\nMake a visualization to look at the variation in `winpercent` (what percentage of time a particular candy won when matched up against other candies in a head-to-head contest). Describe the shape, center, and spread of this distribution."
    },
    {
      "cell_type": "markdown",
      "metadata": {
        "cell_id": "773db8513c674697aee8dd59b6794553",
        "deepnote_cell_height": 88.75,
        "deepnote_cell_type": "markdown",
        "tags": []
      },
      "source": "**Question 3** \n\nWhich candy had the highest `winpercent` (i.e., what is the \"best\" candy according to this data)? "
    },
    {
      "cell_type": "markdown",
      "metadata": {
        "cell_id": "43fcbde22e954221931d5ef481bd5c5a",
        "deepnote_cell_height": 111.140625,
        "deepnote_cell_type": "markdown",
        "tags": []
      },
      "source": "To explain some of the variation in `winpercent`, let's create a multivariate model that includes both of these explanatory variables in a single model: `chocolate` and `sugarpercent`. \n\nWe have created a visualization and put the best fitting multivariate model on it for you."
    },
    {
      "cell_type": "code",
      "execution_count": null,
      "metadata": {
        "cell_id": "a21c687d8946417f880983c8b54c6ec6",
        "deepnote_cell_type": "code",
        "deepnote_to_be_reexecuted": false,
        "execution_millis": 775,
        "execution_start": 1647465866827,
        "output_cleared": true,
        "source_hash": "92ed745a",
        "tags": [],
        "trusted": true
      },
      "outputs": [],
      "source": "gf_point(winpercent~sugarpercent, data = candy_rankings, color = ~chocolate) %>%\ngf_model(winpercent ~ sugarpercent + chocolate)"
    },
    {
      "cell_type": "markdown",
      "metadata": {
        "cell_id": "463dfb6dfc61496092e93a2bbce762f3",
        "deepnote_cell_height": 111.140625,
        "deepnote_cell_type": "markdown",
        "tags": []
      },
      "source": "**Question 4**\n\nFind the parameter estimates for the best fitting model and fill in the GLM equation partially written for you below."
    },
    {
      "cell_type": "markdown",
      "metadata": {
        "cell_id": "db0df9b91c01469a8dad8c54cb60e18e",
        "deepnote_cell_height": 88.953125,
        "deepnote_cell_type": "markdown",
        "tags": []
      },
      "source": "Fill in the following with the appropriate parameter estimates.\n\n$Y_i = b_0 + b_1X_{1i} + b_2X_{2i} + e_i$"
    },
    {
      "cell_type": "markdown",
      "metadata": {
        "cell_id": "c11a64e7bdd84458a668ef4f5f4b1d64",
        "deepnote_cell_height": 88.953125,
        "deepnote_cell_type": "markdown",
        "tags": []
      },
      "source": "**Question 5**\n\nInterpret the three parameter estimates $b_0$, $b_1$, and $b_2$."
    },
    {
      "cell_type": "markdown",
      "metadata": {
        "cell_id": "1261a9ade1614337a012fb3bb821ea29",
        "deepnote_cell_height": 237.703125,
        "deepnote_cell_type": "markdown",
        "nbsimplegrader": {
          "config_key": "markdown.multiple-choice",
          "editable": false,
          "label": "Response: Multiple-Choice",
          "respondable": true,
          "response": null,
          "runnable": false,
          "type": "multiple-choice"
        },
        "tags": []
      },
      "source": "**Question 6** \n\nBased on the model, what would you predict the `winpercent` to be for a candy that contains chocolate?\n\n- 38.26 + 18.27\n- 38.26 + 18.27 + .086\n- 38.26 + 18.27 + .086*sugarpercent\n- We can’t tell from the output "
    },
    {
      "cell_type": "markdown",
      "metadata": {
        "cell_id": "3bae40bbdffc4f2e846f7462e273e588",
        "deepnote_cell_height": 133.53125,
        "deepnote_cell_type": "markdown",
        "tags": []
      },
      "source": "**Question 7** \n\nGenerate the ANOVA table for the multivariate model. Compare the PRE for the three models: the multivariate model, the chocolate model, and sugar percent model. Explain what the PRE for each means."
    },
    {
      "cell_type": "markdown",
      "metadata": {
        "cell_id": "f22b249311744d859fc80423e0f20167",
        "deepnote_cell_height": 261.125,
        "deepnote_cell_type": "markdown",
        "tags": []
      },
      "source": "**Question 8**\n\nAccording to the ANOVA table for the multivariate model and assuming that we will set an alpha ($\\alpha$) of .05, which model or models of the DGP should we reject? Put an (X) in front of the models that we should reject.\n\n- ( ) $winpercent_i = \\beta_0 + \\epsilon_i$\n- ( ) $winpercent_i = \\beta_0 + \\beta_1chocolate_i + \\epsilon_i$\n- ( ) $winpercent_i = \\beta_0 + \\beta_2sugar_i  + \\epsilon_i$\n- ( ) $winpercent_i = \\beta_0 + \\beta_1chocolate_i + \\beta_2sugar_i + \\epsilon_i$\n"
    },
    {
      "cell_type": "markdown",
      "metadata": {
        "cell_id": "abc7c6d0a98f42bcaa7e10118f5cb78e",
        "deepnote_cell_height": 88.953125,
        "deepnote_cell_type": "markdown",
        "tags": []
      },
      "source": "**Question 9**\n\nEstimate and interpret the 95% confidence interval for $\\beta_1$ and $\\beta_2$ in the multivariate model."
    }
  ],
  "metadata": {
    "deepnote_notebook_id": "1e28c911054a44c799bb094b66e354e9",
    "kernelspec": {
      "display_name": "R",
      "language": "R",
      "name": "ir"
    },
    "language_info": {
      "codemirror_mode": "r",
      "file_extension": ".r",
      "mimetype": "text/x-r-source",
      "name": "R",
      "pygments_lexer": "r",
      "version": "4.3.3"
    },
    "nbsimplegrader": {
      "publish_config": {
        "classes": [],
        "options": [],
        "tools": []
      }
    }
  },
  "nbformat": 4,
  "nbformat_minor": 1
}