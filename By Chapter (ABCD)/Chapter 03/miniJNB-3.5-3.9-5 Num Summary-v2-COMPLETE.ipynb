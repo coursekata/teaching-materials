{
  "cells": [
    {
      "cell_type": "markdown",
      "metadata": {
        "cell_id": "d146c8b757b14330be84e521edaed3ea",
        "deepnote_cell_type": "markdown"
      },
      "source": "# Spoonfuls of Sugar: Exploring Cereal Sweetness (COMPLETE)\n\n## Chapter 3.5-3.9 Five-Number Summary, Boxplots, and Bar Graphs"
    },
    {
      "cell_type": "code",
      "execution_count": null,
      "metadata": {
        "cell_id": "42fc3e96f9c94e0d8a87e19d05cb1417",
        "deepnote_cell_type": "code",
        "execution_context_id": "57074c1b-56dc-4078-b5d4-00f4c8228150",
        "execution_millis": 1107,
        "execution_start": 1743702784619,
        "scrolled": false,
        "source_hash": "240debbc",
        "trusted": true
      },
      "outputs": [],
      "source": "# This code will load the R packages we will use\nlibrary(coursekata)\n\n# set styles\ncss <- suppressWarnings(readLines(\"https://raw.githubusercontent.com/jimstigler/jupyter/master/ck_jupyter_styles_v2.css\"))\nIRdisplay::display_html(sprintf('<style>%s</style>', paste(css, collapse = \"\\n\")))\n\n# data source:\n# https://r-packages.io/datasets/Cereal \n"
    },
    {
      "cell_type": "markdown",
      "metadata": {
        "cell_id": "5144e70689604f32af74a52aa209e178",
        "deepnote_cell_type": "markdown"
      },
      "source": "<div class=\"teacher-note\">\n    <b>Teacher Note:</b> The purpose of this mini-JNB is to practice creating boxplots and bar graphs, and connecting the five-number summary to boxplots and histograms.\n</div>"
    },
    {
      "cell_type": "markdown",
      "metadata": {
        "cell_id": "4fdc434f28fb4577a8f718e74ebc6dfe",
        "deepnote_cell_type": "markdown"
      },
      "source": "## 1. The `Cereal` data\n\n<figure style=\"margin: 0 auto; text-align: center; width: 450px;\">\n  <img src=\"https://i.postimg.cc/LmnGzVf6/breakfast-cereals.png\" \n       alt=\"Boxes of breakfast cereals\" \n       style=\"width: 100%; height: auto;\">\n  <figcaption style=\"font-size: 0.9em; margin-top: 5px;\">\n      Food for thought:\n      Do you think you could tell which cereals are sweeter by looking at the boxes? \n      Which one do you think is the sweetest?\n  </figcaption>\n</figure>\n\n\n\n\nAccording to [research](https://pmc.ncbi.nlm.nih.gov/articles/PMC4188247/#:~:text=Meta%2Danalysis.&text=It%20examined%2014%20studies%20in,1.46%3B%20P%20%3C%200.0001), cereal can be a part of a healthy and balanced diet. But cereal also has a reputation for having a lot of added sugar. Let's see what the data in the `Cereal` data frame have to say.\n\n**Variable Descriptions**\n\n- `Name`\tBrand name of cereal \n- `Company`\tManufacturer coded as G=General Mills, K=Kellog's or Q=Quaker\n- `Serving`\tServing size (in cups)\n- `Calories`\tCalories (per cup)\n- `Fat`\tFat (grams per cup)\n- `Sodium`\tSodium (mg per cup)\n- `Carbs`\tCarbohydrates (grams per cup)\n- `Fiber`\tDietary Fiber (grams per cup)\n- `Sugars`\tSugars (grams per cup)\n- `Protein`\tProtein (grams per cup)"
    },
    {
      "cell_type": "markdown",
      "metadata": {
        "cell_id": "b1356c9b53eb44eb850b47ee5eb318d2",
        "deepnote_cell_type": "markdown"
      },
      "source": "### 1.1 Run some code to look at a few rows of the `Cereal` data"
    },
    {
      "cell_type": "code",
      "execution_count": null,
      "metadata": {
        "cell_id": "f3b474040eb04bb88c6e7de275cf254c",
        "deepnote_cell_type": "code",
        "nbsimplegrader": {
          "config_key": "code.response",
          "editable": true,
          "label": "Response: Code",
          "respondable": true,
          "response": null,
          "runnable": true,
          "type": "code"
        },
        "trusted": true
      },
      "outputs": [],
      "source": "# run code here\n\n\n# sample code\nsample(Cereal, 10)"
    },
    {
      "cell_type": "markdown",
      "metadata": {
        "cell_id": "f3ec7c8fce6f40cb9d4e3d576117026f",
        "deepnote_cell_type": "markdown"
      },
      "source": "## 2. Explore Variation in `Sugars`\n### 2.1 Create a histogram of `Sugars` and describe the distribution (note the shape, center, spread and weird things)."
    },
    {
      "cell_type": "code",
      "execution_count": null,
      "metadata": {
        "cell_id": "3838b49bc0154c40ba76080a902df823",
        "deepnote_cell_type": "code",
        "nbsimplegrader": {
          "config_key": "code.response",
          "editable": true,
          "label": "Response: Code",
          "respondable": true,
          "response": null,
          "runnable": true,
          "type": "code"
        },
        "trusted": true
      },
      "outputs": [],
      "source": "# run code here\n\n# sample code\ngf_histogram(~Sugars, data = Cereal)\ngf_histogram(~Sugars, data = Cereal, bins = 8, boundary = 0)\ngf_histogram(~Sugars, data = Cereal, binwidth = 1, boundary = 0)"
    },
    {
      "cell_type": "markdown",
      "metadata": {
        "cell_id": "2c7d71ca37f746ab9d58b9adfd6c307b",
        "deepnote_cell_type": "markdown",
        "nbsimplegrader": {
          "config_key": "markdown.response",
          "editable": true,
          "label": "Response: Markdown",
          "respondable": true,
          "response": null,
          "runnable": true,
          "type": "markdown"
        }
      },
      "source": "Describe the distribution.\n"
    },
    {
      "cell_type": "markdown",
      "metadata": {
        "cell_id": "18334b5eb3bd450ba61e20c3e20ac6d7",
        "deepnote_cell_type": "markdown"
      },
      "source": "<div class=\"teacher-note\">\n    \n<b>Sample Response</b>:\n\n- bimodal (one peak around 3 g per cup and another peak around 13 g per cup)\n- range goes from 2 to 20 g of sugar per cup\n- only a few cereals with 5 to 10 g of sugar per cup\n</div>"
    },
    {
      "cell_type": "markdown",
      "metadata": {
        "cell_id": "2851ef6b039b42bf97908c34a26a33ec",
        "deepnote_cell_type": "markdown"
      },
      "source": "### 2.2 Just from looking at the histogram alone, estimate where Q1 and Q3 will be. Hint: Approximately where is the middle 50% of the data?"
    },
    {
      "cell_type": "markdown",
      "metadata": {
        "cell_id": "57c59f6b23474b0ca9198ca8809e8b6e",
        "deepnote_cell_type": "markdown"
      },
      "source": "<div class=\"teacher-note\">\n    \n<b>Sample Response</b>:\n\n- Maybe between 5 and 15\n\n</div>"
    },
    {
      "cell_type": "markdown",
      "metadata": {
        "cell_id": "93dd321537414629a28f43fa15a1eca8",
        "deepnote_cell_type": "markdown"
      },
      "source": "### 2.3 Add a boxplot to your histogram and generate the favstats(). Where is the Q1 and Q3? (How close was your estimate?)"
    },
    {
      "cell_type": "code",
      "execution_count": null,
      "metadata": {
        "cell_id": "ad1a82006eb545a28be08f578c34dea5",
        "deepnote_cell_type": "code",
        "nbsimplegrader": {
          "config_key": "code.response",
          "editable": true,
          "label": "Response: Code",
          "respondable": true,
          "response": null,
          "runnable": true,
          "type": "code"
        },
        "trusted": true
      },
      "outputs": [],
      "source": "# run code here\n# Bonus Question: Does changing the bins or binwidth of the histogram affect the boxplot?\n\n# sample responses\nfavstats(~Sugars, data = Cereal)\n\ngf_histogram(~Sugars, data = Cereal, boundary = 0, binwidth = 1) %>%\n  gf_boxplot(width = 1)\n"
    },
    {
      "cell_type": "markdown",
      "metadata": {
        "cell_id": "7140e68165984a40af0265966d91a810",
        "deepnote_cell_type": "markdown"
      },
      "source": "<div class=\"teacher-note\">\n    \n<b>Sample Response</b>:\n\nActual Q1 and Q3 are 4.5 and 14.525.\n\n</div>"
    },
    {
      "cell_type": "markdown",
      "metadata": {
        "cell_id": "0af06b5100d6490d9c0df46084a9998a",
        "deepnote_cell_type": "markdown"
      },
      "source": "### 2.4 Find your favorite cereal from the list below. Based on its sugar content, which quartile does it fall into?"
    },
    {
      "cell_type": "code",
      "execution_count": null,
      "metadata": {
        "cell_id": "84fb6b426bb3411f858c43f6e5bcbca3",
        "deepnote_cell_type": "code",
        "trusted": true
      },
      "outputs": [],
      "source": "# run this to arrange the Cereals in alphabetic order\narrange(Cereal, Name)"
    },
    {
      "cell_type": "markdown",
      "metadata": {
        "cell_id": "6710abd41fc8473986f660eeb8f337f6",
        "deepnote_cell_type": "markdown",
        "nbsimplegrader": {
          "config_key": "markdown.response",
          "editable": true,
          "label": "Response: Markdown",
          "respondable": true,
          "response": null,
          "runnable": true,
          "type": "markdown"
        }
      },
      "source": "The name of your favorite cereal:\n\nHow many grams of sugar it has per cup:\n\nWhich quartile it falls into:"
    },
    {
      "cell_type": "markdown",
      "metadata": {
        "cell_id": "cc8a94fa909c4287ac861d12dda95ed4",
        "deepnote_cell_type": "markdown"
      },
      "source": "<div class=\"teacher-note\">\n    \n<b>Sample Response</b>:\n\n- example: Reese's Puffs, 16 g, 4th quartile\n- example: Kix, 2.3 g, 1st quartile\n\n<b>Teacher Note</b>:\n- A common error is to call quartiles \"Q1\" but note that Q1 is the boundary and the quartile is just called 1st, 2nd, 3rd, 4th.\n</div>"
    },
    {
      "cell_type": "markdown",
      "metadata": {
        "cell_id": "90e4cdf286a44b388b4229cf8a21d1d6",
        "deepnote_cell_type": "markdown"
      },
      "source": "### 2.5 How many grams of sugar does the sweetest cereal have? Which cereal is it?"
    },
    {
      "cell_type": "code",
      "execution_count": null,
      "metadata": {
        "cell_id": "c7f49b6a4e834f089204e2a49bae98f2",
        "deepnote_cell_type": "code",
        "nbsimplegrader": {
          "config_key": "code.response",
          "editable": true,
          "label": "Response: Code",
          "respondable": true,
          "response": null,
          "runnable": true,
          "type": "code"
        },
        "scrolled": false,
        "trusted": true
      },
      "outputs": [],
      "source": "# run code here\n\n# sample code\narrange(Cereal, -Sugars)"
    },
    {
      "cell_type": "markdown",
      "metadata": {
        "cell_id": "af83ed2a0393423886c60b5f67aac84f",
        "deepnote_cell_type": "markdown",
        "nbsimplegrader": {
          "config_key": "markdown.response",
          "editable": true,
          "label": "Response: Markdown",
          "respondable": true,
          "response": null,
          "runnable": true,
          "type": "markdown"
        }
      },
      "source": ""
    },
    {
      "cell_type": "markdown",
      "metadata": {
        "cell_id": "a3de80aa52844812ba2db5e12041adb3",
        "deepnote_cell_type": "markdown"
      },
      "source": "<div class=\"teacher-note\">\n    \n<b>Sample Response</b>:\n\nThe cereal with the highest amount of sugar is Raisin Bran. It has 20 grams of sugar.\n\n</div>"
    },
    {
      "cell_type": "markdown",
      "metadata": {
        "cell_id": "33c1f3e049f449c196e6a3d80811bb5d",
        "deepnote_cell_type": "markdown"
      },
      "source": "### 2.6 Given the daily sugar recommendations, what would be a reasonable amount of sugar for breakfast cereal? How does your favorite cereal compare?\n\nFor reference, the [American Heart Association](https://www.heart.org/en/healthy-living/healthy-eating/eat-smart/sugar/added-sugars) recommends limiting added sugar intake to about 30 grams per day."
    },
    {
      "cell_type": "markdown",
      "metadata": {
        "cell_id": "14ce8600eded4a13b8165a81027c5755",
        "deepnote_cell_type": "markdown",
        "nbsimplegrader": {
          "config_key": "markdown.response",
          "editable": true,
          "label": "Response: Markdown",
          "respondable": true,
          "response": null,
          "runnable": true,
          "type": "markdown"
        }
      },
      "source": ""
    },
    {
      "cell_type": "markdown",
      "metadata": {
        "cell_id": "093d35a5e8c94f689bb3a1d9363d12b5",
        "deepnote_cell_type": "markdown"
      },
      "source": "<div class=\"teacher-note\">\n\n<b>Teacher Note:</b>\nEncourage discussion or estimation. Here are some follow up questions that students might consider:\n- If the daily recommendation is ~30 grams, how many grams of sugar would be reasonable at breakfast?\n- Remember the sugar listed is per cup — how many cups do you eat at breakfast?\n\n<b>Sample Response:</b>  \n- If I'm supposed to eat no more than 30g of sugar per day, maybe that's about 10g per meal. Maybe I eat 2 cups so maybe a reasonable amount of sugar is 5g per cup.\n- Reese's Puffs has 16g per cup, so even one cup is already over the limit. I usually eat a big bowl so maybe that's like 2 cups, which would be 32g — almost my whole day's worth of sugar!\n\n</div>"
    },
    {
      "cell_type": "markdown",
      "metadata": {
        "cell_id": "3a0ba749dffb401bba5430114c1683a3",
        "deepnote_cell_type": "markdown"
      },
      "source": "## 3 Which companies make these cereals?\n\n### 3.1 Explore the distribution of Company with a visualization.\n\nG=General Mills, K=Kellog's or Q=Quaker"
    },
    {
      "cell_type": "code",
      "execution_count": null,
      "metadata": {
        "cell_id": "2ac531e9aa0046e0b32f3deb3318ce9c",
        "deepnote_cell_type": "code",
        "nbsimplegrader": {
          "config_key": "code.response",
          "editable": true,
          "label": "Response: Code",
          "respondable": true,
          "response": null,
          "runnable": true,
          "type": "code"
        },
        "trusted": true
      },
      "outputs": [],
      "source": "# run code here\n\n# sample code\ngf_bar(~Company, data = Cereal)"
    },
    {
      "cell_type": "markdown",
      "metadata": {
        "cell_id": "37fac40ae9bc43b4b41da9b39fde5f15",
        "deepnote_cell_type": "markdown"
      },
      "source": "### 3.2 Describe the center and spread of the distribution."
    },
    {
      "cell_type": "markdown",
      "metadata": {
        "cell_id": "9ec5f7bc828f49c4a8950cf387abbbac",
        "deepnote_cell_type": "markdown",
        "nbsimplegrader": {
          "config_key": "markdown.response",
          "editable": true,
          "label": "Response: Markdown",
          "respondable": true,
          "response": null,
          "runnable": true,
          "type": "markdown"
        }
      },
      "source": ""
    },
    {
      "cell_type": "markdown",
      "metadata": {
        "cell_id": "6b3340d56be544a6ada61b896d75a326",
        "deepnote_cell_type": "markdown"
      },
      "source": "<div class=\"teacher-note\">\n    \n<b>Sample Response</b>:\n\nCenter: General Mills has the highest number of cereals represented in this dataset (the mode).\n    \nSpread: The groups are not evenly spread out. There are fewer Q cereals, and more G cereals than K.\n\n</div>"
    },
    {
      "cell_type": "markdown",
      "metadata": {
        "cell_id": "a3907d1421bc49deb03d0bc6f49ada04",
        "deepnote_cell_type": "markdown"
      },
      "source": "### 3.3 What's the percentage of cereals represented by Quaker?\n\nUse 2 different methods in R to figure this out."
    },
    {
      "cell_type": "code",
      "execution_count": null,
      "metadata": {
        "cell_id": "9e1a99b767f64f369c9ba9428882d953",
        "deepnote_cell_type": "code",
        "nbsimplegrader": {
          "config_key": "code.response",
          "editable": true,
          "label": "Response: Code",
          "respondable": true,
          "response": null,
          "runnable": true,
          "type": "code"
        },
        "trusted": true
      },
      "outputs": [],
      "source": "# Run code here\n\n# sample code\ntally(~Company, data = Cereal, format = \"proportion\", margins = TRUE)\ntally(~Company, data = Cereal)/30\ngf_percents(~Company, data = Cereal)\ngf_props(~Company, data = Cereal)"
    },
    {
      "cell_type": "markdown",
      "metadata": {
        "cell_id": "b9d8abbb76204ac5b7d3fd3a963e5019",
        "deepnote_cell_type": "markdown"
      },
      "source": "### 3.4 Create a new categorical variable that identifies cereals with a reasonable amount of sugar per cup. Use your answer from 2.6 to decide what counts as \"reasonable.\" Then, make a bar graph to show how many cereals fall into each category."
    },
    {
      "cell_type": "code",
      "execution_count": null,
      "metadata": {
        "cell_id": "1c18602dcf4b4d4289d1dcece2cca710",
        "deepnote_cell_type": "code",
        "nbsimplegrader": {
          "config_key": "code.response",
          "editable": true,
          "label": "Response: Code",
          "respondable": true,
          "response": null,
          "runnable": true,
          "type": "code"
        },
        "trusted": true
      },
      "outputs": [],
      "source": "# sample response\nCereal$Reasonable <- Cereal$Sugars < 5\n\ngf_percents(~Reasonable, data = Cereal)"
    }
  ],
  "metadata": {
    "deepnote_notebook_id": "fe016ff2deb44b0cb60a335b59c5592e",
    "kernelspec": {
      "display_name": "R",
      "language": "R",
      "name": "ir"
    },
    "language_info": {
      "codemirror_mode": "r",
      "file_extension": ".r",
      "mimetype": "text/x-r-source",
      "name": "R",
      "pygments_lexer": "r",
      "version": "4.3.3"
    },
    "nbsimplegrader": {
      "publish_config": {
        "classes": [],
        "options": [],
        "tools": []
      }
    }
  },
  "nbformat": 4,
  "nbformat_minor": 1
}