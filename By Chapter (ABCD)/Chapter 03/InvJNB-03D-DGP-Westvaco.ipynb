{
  "cells": [
    {
      "cell_type": "markdown",
      "metadata": {
        "cell_id": "5db8950e3ce3439c811652d27390e678",
        "deepnote_cell_height": 81.953125,
        "deepnote_cell_type": "markdown",
        "tags": []
      },
      "source": "# 3D: Westvaco's DGP"
    },
    {
      "cell_type": "code",
      "execution_count": null,
      "metadata": {
        "cell_id": "af16c37e98b341268907fb7529c400e3",
        "deepnote_cell_height": 231.5625,
        "deepnote_cell_type": "code",
        "deepnote_output_heights": [
          519.515625
        ],
        "deepnote_to_be_reexecuted": false,
        "execution_millis": 26,
        "execution_start": 1667255263229,
        "source_hash": null,
        "trusted": true
      },
      "outputs": [],
      "source": "# This code will load the R packages we will use\nsuppressPackageStartupMessages({\n    library(coursekata)\n})"
    },
    {
      "cell_type": "markdown",
      "metadata": {
        "cell_id": "a9bdb500be18408e8de7efe59c89b114",
        "deepnote_cell_height": 119.53125,
        "deepnote_cell_type": "markdown"
      },
      "source": "**Preamble:** In the year Robert Martin turned 54, the Westvaco Corporation (an envelope company) decided to downsize. They laid off many people, including Robert Martin. Later that year, he sued Westvaco, claiming he had been laid off because of his age. A major piece of Martin’s case was based on a statistical analysis of the ages of the Westvaco employees.\n"
    },
    {
      "cell_type": "markdown",
      "metadata": {
        "cell_id": "ec6e17090a6d489083e1aabe97ac7186",
        "deepnote_cell_height": 69.96875,
        "deepnote_cell_type": "markdown",
        "tags": []
      },
      "source": "## 1.0 - The Data"
    },
    {
      "cell_type": "markdown",
      "metadata": {
        "cell_id": "b6531261b5564131bb8a2782af5f43c6",
        "deepnote_cell_height": 97.140625,
        "deepnote_cell_type": "markdown",
        "tags": []
      },
      "source": "1.1 - Here is one set of data from Martin v. Westvaco (from one of the departments, simplified and modified for teaching purposes). What are each of these lines of code doing? Poke around to see what this `Westvaco` data frames is like. "
    },
    {
      "cell_type": "code",
      "execution_count": null,
      "metadata": {
        "cell_id": "627bc738a43a4dfa855d8b2ac1da2c49",
        "deepnote_cell_height": 98.953125,
        "deepnote_cell_type": "code",
        "deepnote_to_be_reexecuted": true,
        "execution_millis": 1348,
        "execution_start": 1629749903751,
        "source_hash": null,
        "trusted": true
      },
      "outputs": [],
      "source": "Westvaco <- read.csv(\"https://docs.google.com/spreadsheets/d/e/2PACX-1vRSAFbaPcTt1PJvW8C-_x8KA_KLqQQboYBfSDimHMkW8rn3z8VhZfpW7ZG7Bo0nuANCcqAbW4aKEFsq/pub?gid=1945114845&single=true&output=csv\", header = TRUE)\nWestvaco_Fired <- filter(Westvaco, Status == \"Fired\")"
    },
    {
      "cell_type": "markdown",
      "metadata": {
        "cell_id": "63454afd21554967b22494ecdd3553b1",
        "deepnote_cell_height": 52.359375,
        "deepnote_cell_type": "markdown",
        "tags": []
      },
      "source": "1.2 - What do you think the rows mean?"
    },
    {
      "cell_type": "markdown",
      "metadata": {
        "cell_id": "1720b1f575464b889cca5e2da74c177c",
        "deepnote_cell_height": 52.359375,
        "deepnote_cell_type": "markdown",
        "tags": []
      },
      "source": "1.3 - What are the questions you have about this data?"
    },
    {
      "cell_type": "markdown",
      "metadata": {
        "cell_id": "1dd23a3a3c4a41e9946e5d1cd9c06eca",
        "deepnote_cell_height": 69.96875,
        "deepnote_cell_type": "markdown",
        "tags": []
      },
      "source": "## 2.0 - Explore Variation"
    },
    {
      "cell_type": "markdown",
      "metadata": {
        "cell_id": "45fc5a32d1e041f5b6b6e52cddbce239",
        "deepnote_cell_height": 52.359375,
        "deepnote_cell_type": "markdown",
        "tags": []
      },
      "source": "2.1 - Run the code below. What is the histogram about?"
    },
    {
      "cell_type": "code",
      "execution_count": null,
      "metadata": {
        "cell_id": "a995a1fc50e34c51a2c85642abda7220",
        "deepnote_cell_height": 706.953125,
        "deepnote_cell_type": "code",
        "deepnote_output_heights": [
          610
        ],
        "deepnote_to_be_reexecuted": true,
        "execution_millis": 456,
        "execution_start": 1629749905106,
        "scrolled": true,
        "source_hash": null,
        "trusted": true
      },
      "outputs": [],
      "source": "gf_histogram(~ Age, data = Westvaco_Fired, color = \"firebrick\", fill = \"firebrick2\")"
    },
    {
      "cell_type": "markdown",
      "metadata": {
        "cell_id": "8d5705103473432f8774dde17a927581",
        "deepnote_cell_height": 93.953125,
        "deepnote_cell_type": "markdown",
        "tags": []
      },
      "source": "### Check out the data but be careful not to jump to conclusions."
    },
    {
      "cell_type": "markdown",
      "metadata": {
        "cell_id": "53cc6f95b9b740cba51ccae7dc8a723d",
        "deepnote_cell_height": 153.53125,
        "deepnote_cell_type": "markdown"
      },
      "source": "2.2 - What are some reasons (from the data) you have for suspecting discrimination?\n- list some of them here\n- another reason\n- another"
    },
    {
      "cell_type": "markdown",
      "metadata": {
        "cell_id": "57b254774cee440a81d968ce3ba3e98b",
        "deepnote_cell_height": 153.53125,
        "deepnote_cell_type": "markdown",
        "tags": []
      },
      "source": "2.3 - What are some reasons (from the data) you have for not suspecting discrimination?\n- list some of them here\n- another reason\n- another"
    },
    {
      "cell_type": "markdown",
      "metadata": {
        "cell_id": "150a9de6a2a24fdc850c9306a87ba390",
        "deepnote_cell_height": 133.53125,
        "deepnote_cell_type": "markdown"
      },
      "source": "2.4 - Some context might be helpful. Try creating a histogram of the ages for all the people in this department at Westvaco or a histogram of ages for those that didn’t get fired below. (You may want to play around with colors, fill, etc.) You can also try layering a boxplot over your histogram.\n\nAfter doing so, add on to your reasons (above) for suspecting or not suspecting discrimination. "
    },
    {
      "cell_type": "code",
      "execution_count": null,
      "metadata": {
        "cell_id": "b353e49ec037453fbd1a7ef7a98ab901",
        "deepnote_cell_height": 93.953125,
        "deepnote_cell_type": "code",
        "deepnote_to_be_reexecuted": true,
        "execution_millis": 8,
        "execution_start": 1629749905566,
        "source_hash": null,
        "trusted": true
      },
      "outputs": [],
      "source": "# other histograms to explore these data\n"
    },
    {
      "cell_type": "markdown",
      "metadata": {
        "cell_id": "aa8dea4d2e624aa68ae5581944caa44a",
        "deepnote_cell_height": 69.96875,
        "deepnote_cell_type": "markdown",
        "tags": []
      },
      "source": "## 3.0 - Thinking about the DGP"
    },
    {
      "cell_type": "markdown",
      "metadata": {
        "cell_id": "65f5b07f45c54e92836bff8d7ae0e31f",
        "deepnote_cell_height": 74.75,
        "deepnote_cell_type": "markdown"
      },
      "source": "3.1 - What is the population in this case? What is the Data Generating Process that we are interested in?"
    },
    {
      "cell_type": "markdown",
      "metadata": {
        "cell_id": "263bc4e5cc584005a1c3c17e448d1aea",
        "deepnote_cell_height": 74.75,
        "deepnote_cell_type": "markdown"
      },
      "source": "3.2 - Even though random firing isn't a very smart way to run a business, random firing is *at least* not discriminatory. Why is it not considered \"discrimination\"? "
    },
    {
      "cell_type": "markdown",
      "metadata": {
        "cell_id": "ea8994dcf8934e6391e3f8726b296064",
        "deepnote_cell_height": 74.75,
        "deepnote_cell_type": "markdown"
      },
      "source": "3.3 - Is it possible to randomly fire people and still to end up with an age distribution of people that has a lot of older people and fewer younger people in it? Is it likely?"
    },
    {
      "cell_type": "markdown",
      "metadata": {
        "cell_id": "8158e33408064c2e908e669905513a3f",
        "deepnote_cell_height": 69.96875,
        "deepnote_cell_type": "markdown",
        "tags": []
      },
      "source": "## 4.0 - Simulating a Random DGP"
    },
    {
      "cell_type": "markdown",
      "metadata": {
        "cell_id": "2af0a4897dc649bcbde300f83bb835d5",
        "deepnote_cell_height": 178.328125,
        "deepnote_cell_type": "markdown"
      },
      "source": "The goal of this section is to consider these questions: What if people were randomly fired? Do you think the distribution would look different? Would randomly fired distributions look similar to the empirical sample of fired people?  (If firing is random, then we all can agree it's not age discrimination.) \n\nBut we aren't just going to sit around and think, we are actually going to **do**. We'll simulate randomly firing people in R."
    },
    {
      "cell_type": "markdown",
      "metadata": {
        "cell_id": "96af4e6bc1a4492a8c77b153315db794",
        "deepnote_cell_height": 74.75,
        "deepnote_cell_type": "markdown",
        "tags": []
      },
      "source": "4.1 - To get you started, how might we simulate randomly firing people in R? How many people should we fire in our simulations?"
    },
    {
      "cell_type": "code",
      "execution_count": null,
      "metadata": {
        "cell_id": "e5b1b2ce688c43568f808a90dbaa7340",
        "deepnote_cell_height": 177.5625,
        "deepnote_cell_type": "code",
        "deepnote_to_be_reexecuted": true,
        "execution_millis": 15,
        "execution_start": 1629749905580,
        "source_hash": null,
        "trusted": true
      },
      "outputs": [],
      "source": "Westvaco_Rand_Fired <- "
    },
    {
      "cell_type": "markdown",
      "metadata": {
        "cell_id": "f635920f04da45938aaa436e48c33c78",
        "deepnote_cell_height": 145.140625,
        "deepnote_cell_type": "markdown"
      },
      "source": "### Who will this favor? Martin v. Westvaco\n\n4.2 - Also let’s capture our initial thoughts (we will return to this after the simulations): If it turns out to be pretty rare to generate a random sample like the empirical sample of fired people, does that favor Martin or Westvaco? What DGP would that favor?\n"
    },
    {
      "cell_type": "code",
      "execution_count": null,
      "metadata": {
        "cell_id": "bcc779bac5d14ae2b5778dc0f5e0c0eb",
        "deepnote_cell_height": 742.953125,
        "deepnote_cell_type": "code",
        "deepnote_output_heights": [
          610
        ],
        "deepnote_to_be_reexecuted": true,
        "source_hash": null,
        "trusted": true
      },
      "outputs": [],
      "source": "# Fire some people randomly. Make a histogram of randomly fired people’s ages. \n# Run the code a few times to simulate firing samples of people a few times. \n"
    },
    {
      "cell_type": "markdown",
      "metadata": {
        "cell_id": "d0be195be91c44058b58deaaa6714687",
        "deepnote_cell_height": 154.734375,
        "deepnote_cell_type": "markdown"
      },
      "source": "### Do those simulated samples look like our empirical sample?\n\n4.3 - Is it rare to get a sample like our empirical sample? What are you looking at when you decide that a distribution is similar or different from our empirical sample?"
    },
    {
      "cell_type": "markdown",
      "metadata": {
        "cell_id": "fb7ff5e935d84a069dafd678ead4318b",
        "deepnote_cell_height": 69.96875,
        "deepnote_cell_type": "markdown",
        "tags": []
      },
      "source": "## 5.0 - Re-cap and Summary"
    },
    {
      "cell_type": "markdown",
      "metadata": {
        "cell_id": "59b9dcc8f8984c2bb99af8054bca776f",
        "deepnote_cell_height": 122.734375,
        "deepnote_cell_type": "markdown",
        "tags": []
      },
      "source": "### Who will this favor? Martin or Westvaco?\n\n5.1 - If it's very rare to randomly generate a random sample like the empirical sample of fired people, does that favor Martin or Westvaco? "
    },
    {
      "cell_type": "markdown",
      "metadata": {
        "cell_id": "373b94a3a1f440228a7fb591081555fe",
        "deepnote_cell_height": 74.75,
        "deepnote_cell_type": "markdown",
        "tags": []
      },
      "source": "5.2 - If it's not too hard to randomly generate a random sample like the empirical sample of fired people, does that favor Martin or Westvaco? "
    },
    {
      "cell_type": "markdown",
      "metadata": {
        "cell_id": "626c83322c3843bead595fbf24f61408",
        "deepnote_cell_height": 748.390625,
        "deepnote_cell_type": "markdown"
      },
      "source": "### Analogy Time!\n\n#### Distribution Triad with Dice Rolls\n<img src=\"https://i.postimg.cc/nFL51ytC/3-C-Dist-Triad-Dice-Rolls.png\" title=\"Visual summary of the dice example on pages 3.3-3.5\" width = 70%/>\n\n#### Distribution Triad with Westvaco\n<img src=\"https://i.postimg.cc/vQ02D06M/3-C-Dist-Triad-Westvaco.png\" title=\"Visual summary of today's Westvaco example\" width = 70%/>\n"
    }
  ],
  "metadata": {
    "deepnote_notebook_id": "ad31c8346eb541dfa70d4741d3d36b78",
    "kernelspec": {
      "display_name": "R",
      "language": "R",
      "name": "ir"
    },
    "language_info": {
      "codemirror_mode": "r",
      "file_extension": ".r",
      "mimetype": "text/x-r-source",
      "name": "R",
      "pygments_lexer": "r",
      "version": "4.3.3"
    },
    "nbsimplegrader": {
      "publish_config": {
        "classes": [],
        "options": [],
        "tools": []
      }
    }
  },
  "nbformat": 4,
  "nbformat_minor": 1
}