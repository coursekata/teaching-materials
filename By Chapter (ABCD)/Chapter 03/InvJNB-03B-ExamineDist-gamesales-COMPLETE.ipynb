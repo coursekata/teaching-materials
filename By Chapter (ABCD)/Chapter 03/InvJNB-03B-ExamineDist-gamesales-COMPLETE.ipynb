{
  "cells": [
    {
      "cell_type": "markdown",
      "metadata": {
        "cell_id": "203bb7de3ad84fb684d20ca1835067ae",
        "deepnote_cell_height": 379.296875,
        "deepnote_cell_type": "markdown",
        "output_cleared": false
      },
      "source": "<div class=\"alert alert-block alert-danger\">\n\n# 3B: Variation in Video Game \"Goodness\" (COMPLETE)\n\n**Lesson assumes students have read up through page: 3.9**\n\n**Use with textbook version 6.0+** \n\n</div>"
    },
    {
      "cell_type": "markdown",
      "metadata": {
        "cell_id": "e330314f09d34513bd2093637e3b9f9d",
        "deepnote_cell_height": 163.9375,
        "deepnote_cell_type": "markdown",
        "output_cleared": false,
        "tags": []
      },
      "source": "<div class=\"alert alert-block alert-success\">\n\n## Approximate time to complete Notebook: 50-65 Mins\n\n</div>"
    },
    {
      "cell_type": "code",
      "execution_count": null,
      "metadata": {
        "cell_id": "e2c7a96a5186463393353d293e6ff52c",
        "deepnote_cell_height": 129.953125,
        "deepnote_cell_type": "code",
        "deepnote_to_be_reexecuted": false,
        "execution_context_id": "2a063d80-a45d-464c-8fae-fab6725e9498",
        "execution_millis": 1077,
        "execution_start": 1729530822834,
        "output_cleared": false,
        "source_hash": "116f7300",
        "trusted": true
      },
      "outputs": [],
      "source": "# This code will load the R packages we will use\nsuppressPackageStartupMessages({\n    library(coursekata)\n})"
    },
    {
      "cell_type": "markdown",
      "metadata": {
        "cell_id": "40f01a33447346d093c645c7fe3cc063",
        "deepnote_cell_height": 115.9375,
        "deepnote_cell_type": "markdown",
        "output_cleared": false,
        "tags": []
      },
      "source": "<div class=\"alert alert-block alert-success\">\n\n### 1.0 - Approximate Time:  5-8 mins\n\n</div>"
    },
    {
      "cell_type": "markdown",
      "metadata": {
        "cell_id": "df743c0ee1494917b1d4cf9b8ac0cbcd",
        "deepnote_cell_height": 69.96875,
        "deepnote_cell_type": "markdown",
        "output_cleared": false
      },
      "source": "## 1.0 - Thinking about the Question"
    },
    {
      "cell_type": "markdown",
      "metadata": {
        "cell_id": "b8d112a634194a8aa2ca77c2e0b6836c",
        "deepnote_cell_height": 74.75,
        "deepnote_cell_type": "markdown",
        "output_cleared": false
      },
      "source": "1.1 - Any gamer will tell you there is a lot of variation in how \"good\" a game is. What are some ways we could measure how “good” a game is? "
    },
    {
      "cell_type": "markdown",
      "metadata": {
        "cell_id": "1338b4b761e74236b651497440cb7dee",
        "deepnote_cell_height": 278.671875,
        "deepnote_cell_type": "markdown",
        "output_cleared": false,
        "tags": []
      },
      "source": "<div class=\"alert alert-block alert-warning\">\n\n**Sample Response**\n\n*Student answers will vary*\n\n- How many people buy the game\n- How highly rated a game is\n- How many sequels a game gets\n- How many game systems (platforms) the game is released on\n- How long the popularity of a game lasts\n\n</div>"
    },
    {
      "cell_type": "markdown",
      "metadata": {
        "cell_id": "c1d690fcbad0411383776899802586a0",
        "deepnote_cell_height": 539.390625,
        "deepnote_cell_type": "markdown",
        "output_cleared": false
      },
      "source": "1.2 - Now take a look at the following data set (called `gamesales`). Which of these variables might be a good way to measure how “good” a game is? What are the pros and cons of using that measure of “goodness”? \n\nThe data frame `gamesales` contains 17416 rows describing games with the following variables: \n- `Name` - The video game's name\n- `Platform` - Platform of the games release\n- `Year_of_Release` - Year of the game's release\n- `Genre` - Genre of the game\n- `Publisher` - Publisher of the game\n- `NA_Sales` - Sales in North America (in millions)\n- `EU_Sales` - Sales in Europe (in millions)\n- `JP_Sales` - Sales in Japan (in millions)\n- `Other_Sales` - Sales in the rest of the world (in millions)\n- `Global_Sales` - Total worldwide sales (in millions)\n- `Critic_Score` - Aggregate score compiled by Metacritic staff\n- `Critic_Count` - The number of critics used in coming up with the critic score\n- `User_Score` - Score by Metacritic's subscribers\n- `User_Count` - Number of users who gave the user score\n- `Rating` - The ESRB ratings (Entertainment Software Rating Board)"
    },
    {
      "cell_type": "markdown",
      "metadata": {
        "cell_id": "32e3d0c29f4f4539b3c7fa44c16b5241",
        "deepnote_cell_height": 345.859375,
        "deepnote_cell_type": "markdown",
        "output_cleared": false,
        "tags": []
      },
      "source": "<div class=\"alert alert-block alert-warning\">\n\n**Sample Response**\n\n- The sales variables (NA_Sales, EU_Sales, JP_Sales, Global_Sales)\n    - Pros: sales are a good indicator because most people won't buy a game they don't think is good\n    - Cons: not all games are released in all countries; sometimes people buy a game but then find out they don't actually enjoy it\n- The ratings variables (Critic_Score, User_Score)\n    - Pros: ratings are a good indicator because the people have to actually play it to rate it\n    - Cons: critics and users may have different opinions; some people may lie about how much they like a game\n\n\n</div>\n"
    },
    {
      "cell_type": "code",
      "execution_count": null,
      "metadata": {
        "cell_id": "0a19998e5a364091ac5b5f8af9401bd1",
        "deepnote_cell_height": 496.484375,
        "deepnote_cell_type": "code",
        "execution_context_id": "2a063d80-a45d-464c-8fae-fab6725e9498",
        "execution_millis": 1970,
        "execution_start": 1729530830941,
        "output_cleared": false,
        "source_hash": "fd447873",
        "tags": [],
        "trusted": true
      },
      "outputs": [],
      "source": "# Run this code to import the data frame \n\nfullgamesales_csv_link <- \"https://docs.google.com/spreadsheets/d/e/2PACX-1vRxgnDw4jgU7XkqCp6iZHsBsOe7JQbAjsjJePsoKpllu_KntXdXp1wbY2PocCzdiFOQZ7Bq8IrgLpXz/pub?gid=487723921&single=true&output=csv\"\ngamesales <- read.csv(fullgamesales_csv_link, header = TRUE) \n\nstr(gamesales)"
    },
    {
      "cell_type": "markdown",
      "metadata": {
        "cell_id": "feba6de39a03408f856679c9dfee66dd",
        "deepnote_cell_height": 115.9375,
        "deepnote_cell_type": "markdown",
        "output_cleared": false,
        "tags": []
      },
      "source": "<div class=\"alert alert-block alert-success\">\n\n### 2.0 - Approximate Time:  10-12 mins\n\n</div>"
    },
    {
      "cell_type": "markdown",
      "metadata": {
        "cell_id": "bd252b2cc70c43efba90554cdfa40cf4",
        "deepnote_cell_height": 69.96875,
        "deepnote_cell_type": "markdown",
        "output_cleared": false
      },
      "source": "## 2.0 - How Critics Rate Video Games"
    },
    {
      "cell_type": "markdown",
      "metadata": {
        "cell_id": "87364539879248ef93357c9f5403f9dd",
        "deepnote_cell_height": 97.140625,
        "deepnote_cell_type": "markdown",
        "output_cleared": false
      },
      "source": "2.1 - There are many ways to measure a game's goodness (even ways that are not included in this data set!), but let's start by exploring variation in critics’ ratings of games, `Critic_Score`. Create a histogram that would help us do this."
    },
    {
      "cell_type": "code",
      "execution_count": null,
      "metadata": {
        "allow_embed": false,
        "cell_id": "5674b228fb974bb794c86de7e5fdd7a9",
        "deepnote_cell_height": 808.25,
        "deepnote_cell_type": "code",
        "deepnote_output_heights": [
          null,
          610
        ],
        "execution_context_id": "2a063d80-a45d-464c-8fae-fab6725e9498",
        "execution_millis": 255,
        "execution_start": 1729530838263,
        "output_cleared": false,
        "source_hash": "8f36377c",
        "tags": [],
        "trusted": true
      },
      "outputs": [],
      "source": "# Sample histogram\n\ngf_histogram(~Critic_Score, data = gamesales, fill = \"cornflowerblue\" , color = \"white\")\n"
    },
    {
      "cell_type": "markdown",
      "metadata": {
        "cell_id": "a02b5f3f5117428795b6c6a9c044c7d7",
        "deepnote_cell_height": 74.75,
        "deepnote_cell_type": "markdown",
        "output_cleared": false
      },
      "source": "2.2 - Find one of the tallest bars and one of the lowest bars in the histogram. What does it mean for a bar to be really low, or really tall in this histogram? "
    },
    {
      "cell_type": "markdown",
      "metadata": {
        "cell_id": "47b5d6f32b314ea2bb20c394b2d6227d",
        "deepnote_cell_height": 163.125,
        "deepnote_cell_type": "markdown",
        "output_cleared": false,
        "tags": []
      },
      "source": "<div class=\"alert alert-block alert-warning\">\n\n**Sample Response**\n\nA really low bar means that only a few games got that rating. A really high bar means a lot of games got that rating.\n\n</div>"
    },
    {
      "cell_type": "markdown",
      "metadata": {
        "cell_id": "6841db2a01784ec2a284322c69f57501",
        "deepnote_cell_height": 74.75,
        "deepnote_cell_type": "markdown",
        "output_cleared": false
      },
      "source": "2.3 - What would you guess is the scale used for rating the games (i.e., the range of possible ratings)?"
    },
    {
      "cell_type": "markdown",
      "metadata": {
        "cell_id": "8883b016c8624ae0a43618d76bd02779",
        "deepnote_cell_height": 140.71875,
        "deepnote_cell_type": "markdown",
        "output_cleared": false,
        "tags": []
      },
      "source": "<div class=\"alert alert-block alert-warning\">\n\n**Sample Response**\n\nThe range along the x-axis appears to be a scale of 0-100.\n\n</div>"
    },
    {
      "cell_type": "markdown",
      "metadata": {
        "cell_id": "a57dcdb6cbb44e71a4336bc5f041130c",
        "deepnote_cell_height": 319.78125,
        "deepnote_cell_type": "markdown",
        "output_cleared": false
      },
      "source": "2.4 - If we made a boxplot of the same data, which of the following would it look like (left, center, or right)? \n<img src = \"https://coursekata-course-assets.s3.us-west-1.amazonaws.com/UCLATALL/czi-stats-course/jnb_3-gamesales-boxplots.jpg\" title = \"Left boxplot looks even, center boxplot has a low tail, right boxplot has high tail\">"
    },
    {
      "cell_type": "markdown",
      "metadata": {
        "cell_id": "c6edf7c4ee8441388dfa736e1450a402",
        "deepnote_cell_height": 140.71875,
        "deepnote_cell_type": "markdown",
        "output_cleared": false,
        "tags": []
      },
      "source": "<div class=\"alert alert-block alert-warning\">\n\n**Sample Response**\n\nThe center boxplot (it has a tail skewed toward the lower ratings)\n\n</div>"
    },
    {
      "cell_type": "markdown",
      "metadata": {
        "cell_id": "d1a47c491378468b90aeb0b5f75f96a6",
        "deepnote_cell_type": "markdown",
        "output_cleared": false
      },
      "source": "2.5 - Try making a boxplot. Which one did it look like? Why does it look like that?"
    },
    {
      "cell_type": "code",
      "execution_count": null,
      "metadata": {
        "cell_id": "41b69699a9fc42d799f678a5645a8a52",
        "deepnote_cell_type": "code",
        "execution_context_id": "2a063d80-a45d-464c-8fae-fab6725e9498",
        "execution_millis": 190,
        "execution_start": 1729530863088,
        "output_cleared": false,
        "source_hash": "c12c5a28",
        "tags": [],
        "trusted": true
      },
      "outputs": [],
      "source": "# Sample boxplot\n\ngf_boxplot(~Critic_Score, data = gamesales, fill = \"white\", color = \"cornflowerblue\")"
    },
    {
      "cell_type": "markdown",
      "metadata": {
        "cell_id": "1d90de0144674069b1bf197cb71daa85",
        "deepnote_cell_type": "markdown",
        "output_cleared": false,
        "tags": []
      },
      "source": "<div class=\"alert alert-block alert-warning\">\n\n**Sample Response**\n\nIt looks like the center boxplot because most of the ratings are bunched up around 75 and there is a tail that is skewed toward the lower ratings.\n\n</div>"
    },
    {
      "cell_type": "markdown",
      "metadata": {
        "cell_id": "557249635e5a42fa95a7e1096accdba6",
        "deepnote_cell_type": "markdown"
      },
      "source": "2.6 - You can also layer a boxplot over your histogram. Try that below. "
    },
    {
      "cell_type": "code",
      "execution_count": null,
      "metadata": {
        "cell_id": "30122bd03e664f32845e16ceaf032ebf",
        "deepnote_cell_type": "code",
        "execution_context_id": "2a063d80-a45d-464c-8fae-fab6725e9498",
        "execution_millis": 213,
        "execution_start": 1729530968045,
        "source_hash": "4af066df",
        "trusted": true
      },
      "outputs": [],
      "source": "gf_histogram(~Critic_Score, data = gamesales, fill = \"cornflowerblue\" , color = \"white\")%>%\ngf_boxplot(fill = \"white\", color = \"cornflowerblue\", width=100)"
    },
    {
      "cell_type": "markdown",
      "metadata": {
        "cell_id": "97730a5f51d24c49bf8f499afa0f3920",
        "deepnote_cell_type": "markdown"
      },
      "source": "<div class=\"alert alert-block alert-warning\">\n\n**Note to instructors**\n\nYou can have students modify width of the box to see what happens.\n\n</div>"
    },
    {
      "cell_type": "markdown",
      "metadata": {
        "cell_id": "26f2282152ee4c62b095e7c275064c12",
        "deepnote_cell_type": "markdown",
        "output_cleared": false
      },
      "source": "2.7 - How would you describe this distribution of critics’ scores? What have we learned about critics’ scores by looking at this distribution? "
    },
    {
      "cell_type": "markdown",
      "metadata": {
        "cell_id": "b8201eb4938e415eba5a438139ac0503",
        "deepnote_cell_type": "markdown",
        "output_cleared": false,
        "tags": []
      },
      "source": "<div class=\"alert alert-block alert-warning\">\n\n**Sample Response**\n\nIt looks like most games are rated pretty \"average\" at around 70-75. Some games have a very high rating (above 80 or close to 100), and there are a few games that have a pretty \"terrible\" rating (less than 25).\n\n</div>"
    },
    {
      "cell_type": "markdown",
      "metadata": {
        "cell_id": "12a463f0ff8e43008717954d43ba31ba",
        "deepnote_cell_type": "markdown",
        "output_cleared": false,
        "tags": []
      },
      "source": "<div class=\"alert alert-block alert-success\">\n\n### 3.0 - Approximate Time:  8-10 mins\n\n</div>"
    },
    {
      "cell_type": "markdown",
      "metadata": {
        "cell_id": "3d7182b329664225be5f61dd65eba9e8",
        "deepnote_cell_type": "markdown",
        "output_cleared": false
      },
      "source": "## 3.0 - How Users Rate Video Games"
    },
    {
      "cell_type": "markdown",
      "metadata": {
        "cell_id": "d7e03f100772400584aafac5d28559f4",
        "deepnote_cell_type": "markdown",
        "output_cleared": false
      },
      "source": "3.1 - That’s just critic ratings; how about user ratings? Will they also be skewed? Will their pattern of variation look different from critics? Why or why not?"
    },
    {
      "cell_type": "markdown",
      "metadata": {
        "cell_id": "36d344a11ad94ecca973393490020f36",
        "deepnote_cell_type": "markdown",
        "output_cleared": false,
        "tags": []
      },
      "source": "<div class=\"alert alert-block alert-warning\">\n\n**Sample Response**\n\n*Student answers will vary*\n\n- They might also be skewed because there is a chance some games will have a very low rating, but most games will probably average or better.\n- It's possible they will look different because users may have a different experience than critics. Users may appreciate different things about a game than a critic.\n\n</div>"
    },
    {
      "cell_type": "markdown",
      "metadata": {
        "cell_id": "9849708c7b1a4efaad14375e45bb38ed",
        "deepnote_cell_type": "markdown",
        "output_cleared": false
      },
      "source": "3.2 - Let’s take a look at the total variation in `User_Score`. Is the distribution shaped like the critics’ scores?"
    },
    {
      "cell_type": "code",
      "execution_count": null,
      "metadata": {
        "cell_id": "9aa1ea4856cc4a7980cf5834c0946ddf",
        "deepnote_cell_type": "code",
        "deepnote_to_be_reexecuted": true,
        "execution_millis": 250,
        "execution_start": 1629749252127,
        "output_cleared": false,
        "source_hash": null,
        "tags": [],
        "trusted": true
      },
      "outputs": [],
      "source": "# Sample histogram\ngf_histogram(~User_Score, data = gamesales, fill = \"darkgreen\", color = \"gold\")"
    },
    {
      "cell_type": "markdown",
      "metadata": {
        "cell_id": "3d4dae08ab24452688ec017c794091cd",
        "deepnote_cell_type": "markdown",
        "output_cleared": false,
        "tags": []
      },
      "source": "<div class=\"alert alert-block alert-warning\">\n\n**Sample Response**\n\n- Students may choose to make a histogram, a boxplot, or both (layered together).\n- The distribution is also skewed left, but there are slightly more ratings bunched up toward the higher end (7.5 and above) and a few that are rated even lower than the critics' ratings (closer to zero).\n- The ratings are also on a different scale (0-10) \n\n</div>"
    },
    {
      "cell_type": "markdown",
      "metadata": {
        "cell_id": "06f03ae182434c1da7446807500c824d",
        "deepnote_cell_type": "markdown",
        "output_cleared": false,
        "tags": []
      },
      "source": "<div class=\"alert alert-block alert-success\">\n\n### 4.0 - Approximate Time:  8-10 mins\n\n</div>"
    },
    {
      "cell_type": "markdown",
      "metadata": {
        "cell_id": "17c3e948929a43988fb5ab32ad42c44a",
        "deepnote_cell_type": "markdown",
        "output_cleared": false
      },
      "source": "## 4.0 - Cleaning the Data"
    },
    {
      "cell_type": "markdown",
      "metadata": {
        "cell_id": "a848b93b06104bfe83bac9be05b9a735",
        "deepnote_cell_type": "markdown",
        "output_cleared": false
      },
      "source": "4.1 - Notice that we got a warning message here like we did when we tried to visualize `Critic_Score`. But this time the number is different. What does this mean? How should we handle this?"
    },
    {
      "cell_type": "markdown",
      "metadata": {
        "cell_id": "a0d0463b69564a10811caaa16c678c1a",
        "deepnote_cell_type": "markdown",
        "output_cleared": false,
        "tags": []
      },
      "source": "<div class=\"alert alert-block alert-warning\">\n\n**Sample Response**\n\n- The warning message is telling us that it did not include any rows that were missing a value for critic/user scores. The number is different because there are a different number of games missing a critic score compared to the number of games missing a user score. \n\n- It means that we may be comparing some games with a critic rating that don't also have a user rating.\n\n- We might want to get rid of all the cases missing a critic rating and missing a user rating so that we are only comparing games that have both a critic rating and a user rating.\n\n</div>"
    },
    {
      "cell_type": "markdown",
      "metadata": {
        "cell_id": "3e6c832e60814a26af8d2516d7d098a9",
        "deepnote_cell_type": "markdown",
        "output_cleared": false
      },
      "source": "4.2 - We want to teach you a new function called `na.omit`. This function takes in a data frame and then spits it out without any games that have an ‘NA’ in it. Try running the following code."
    },
    {
      "cell_type": "code",
      "execution_count": null,
      "metadata": {
        "cell_id": "96a4622298ea4654aace04d7fab66e48",
        "deepnote_cell_type": "code",
        "deepnote_to_be_reexecuted": true,
        "execution_millis": 0,
        "execution_start": 1629749252414,
        "output_cleared": false,
        "source_hash": null,
        "trusted": true
      },
      "outputs": [],
      "source": "games2 <- na.omit(gamesales)"
    },
    {
      "cell_type": "markdown",
      "metadata": {
        "cell_id": "c942c666ca054f36b14a05c90f01d899",
        "deepnote_cell_type": "markdown",
        "output_cleared": false
      },
      "source": "4.3 - Compare `games2` to `gamesales`. What’s different about it? What are the pros and cons of using `games2` (rather than `gamesales`) to look at the distribution of user ratings or critics scores?"
    },
    {
      "cell_type": "code",
      "execution_count": null,
      "metadata": {
        "cell_id": "6a68e3649e4b4035a1c95ba71309519d",
        "deepnote_cell_type": "code",
        "deepnote_to_be_reexecuted": true,
        "execution_millis": 49,
        "execution_start": 1629749252415,
        "output_cleared": false,
        "source_hash": null,
        "tags": [],
        "trusted": true
      },
      "outputs": [],
      "source": "# Compare the two data frames\nstr(games2)\nstr(gamesales)\n\n# head() might also be helpful to see the difference between the two data frames"
    },
    {
      "cell_type": "markdown",
      "metadata": {
        "cell_id": "e645ea8d423441fbbdd9078ed175812f",
        "deepnote_cell_type": "markdown",
        "output_cleared": false,
        "tags": []
      },
      "source": "<div class=\"alert alert-block alert-warning\">\n\n**Sample Response**\n\nPros:\n- We are only comparing games that have both a user rating and a critic rating\n\nCons:\n- We are missing out on a lot of rows of information (for the other variables as well)\n\n</div>"
    },
    {
      "cell_type": "markdown",
      "metadata": {
        "cell_id": "ae3d9aca538e4351bf1777608707dd2b",
        "deepnote_cell_type": "markdown",
        "output_cleared": false,
        "tags": []
      },
      "source": "<div class=\"alert alert-block alert-success\">\n\n### 5.0 - Approximate Time:  10-12 mins\n\n</div>"
    },
    {
      "cell_type": "markdown",
      "metadata": {
        "cell_id": "b9bbe922feb5443fbc5054d05916f8c1",
        "deepnote_cell_type": "markdown",
        "output_cleared": false
      },
      "source": "## 5.0 - Critic Ratings versus User Ratings "
    },
    {
      "cell_type": "markdown",
      "metadata": {
        "cell_id": "d438d8064f5244ff8a612c671b5eee8b",
        "deepnote_cell_type": "markdown",
        "output_cleared": false,
        "tags": []
      },
      "source": "5.1 - Now if we run this code to make histograms (same as before), do you think we will get any error messages? Why or why not?"
    },
    {
      "cell_type": "markdown",
      "metadata": {
        "cell_id": "ae361cdaec8b4b3c82c05cf9f2c6b5e1",
        "deepnote_cell_type": "markdown",
        "output_cleared": false,
        "tags": []
      },
      "source": "<div class=\"alert alert-block alert-warning\">\n\n**Sample Response**\n\nWe should not get an error message because all of the missing values have been omitted with this new version of the data frame.\n\n</div>"
    },
    {
      "cell_type": "code",
      "execution_count": null,
      "metadata": {
        "cell_id": "db5fd07126f843de8f524cb3e97617d2",
        "deepnote_cell_type": "code",
        "deepnote_to_be_reexecuted": true,
        "execution_millis": 348,
        "execution_start": 1629749252458,
        "output_cleared": false,
        "source_hash": null,
        "trusted": true
      },
      "outputs": [],
      "source": "gf_histogram(~ Critic_Score, data=games2, fill = \"blue\", color = \"black\")\n\ngf_histogram(~ User_Score, data=games2, fill = \"orange\", color = \"black\")\n"
    },
    {
      "cell_type": "markdown",
      "metadata": {
        "cell_id": "756233b495d94c05b31eccd5554e0dc0",
        "deepnote_cell_type": "markdown"
      },
      "source": "<div class=\"alert alert-block alert-warning\">\n\n**Note to instructors**\n\nAt this point, you can have a discussion with your students about whether they would like to layer a boxplot over their histograms and they can add them in again here. \n\n</div>"
    },
    {
      "cell_type": "markdown",
      "metadata": {
        "cell_id": "07f86d64f60b43e1b8cbb45b94e74452",
        "deepnote_cell_type": "markdown",
        "output_cleared": false
      },
      "source": "5.2 - Compare the distribution of `User_Score` to `Critic_Score`. What’s similar? What’s different? Is there anything we can do to the scores to make these two distributions easier to compare?"
    },
    {
      "cell_type": "markdown",
      "metadata": {
        "cell_id": "5523a0e51a204824ab0676c0919d9eee",
        "deepnote_cell_type": "markdown",
        "output_cleared": false,
        "tags": []
      },
      "source": "<div class=\"alert alert-block alert-warning\">\n\n**Sample Response**\n\nThe shapes are similar, but the rating scale is different.\n\nWe can either multiply user ratings by 10, or divide critic ratings by 10 to get them on the same scale.\n\n</div>"
    },
    {
      "cell_type": "code",
      "execution_count": null,
      "metadata": {
        "cell_id": "556b276bf18c48228a5b034596fc993a",
        "deepnote_cell_type": "code",
        "deepnote_to_be_reexecuted": true,
        "execution_millis": 193,
        "execution_start": 1629749252782,
        "output_cleared": false,
        "source_hash": null,
        "tags": [],
        "trusted": true
      },
      "outputs": [],
      "source": "# Muliply user ratings by 10\ngames2$User_Score100 <- games2$User_Score * 10\nhead(select(games2, User_Score, User_Score100))\n\ngf_histogram(~ User_Score100, data=games2, fill = \"orange3\", color = \"black\")"
    },
    {
      "cell_type": "markdown",
      "metadata": {
        "cell_id": "6920087f19cb4c7bbc62cf4793d10ae3",
        "deepnote_cell_type": "markdown",
        "output_cleared": false
      },
      "source": "5.3 - From looking at these distributions, do you think users and critics are similar in the way they actually judge the “goodness” of games? Different? What are your theories about the Data Generating Process that makes the data look this way?"
    },
    {
      "cell_type": "markdown",
      "metadata": {
        "cell_id": "b0a2ef925eee49118c083a40696b5796",
        "deepnote_cell_type": "markdown",
        "output_cleared": false,
        "tags": []
      },
      "source": "<div class=\"alert alert-block alert-warning\">\n\n**Sample Response**\n\n- It appears that users and critics vary slightly in how they judge the goodness of a game. Users have stronger high ratings as well as weaker lower ratings than critics.\n\n*Students' theories will vary. Possible ideas:*\n \n - Users enjoy the games they choose to play more than critics who are forced to play a variety of games.\n - Users feel more strongly about games they don't like than critics.\n - Users may have stronger feelings toward specific genres or game systems that they like/don't like.\n\n </div>"
    },
    {
      "cell_type": "markdown",
      "metadata": {
        "cell_id": "e6076584835b44448775cc72714f3147",
        "deepnote_cell_type": "markdown",
        "output_cleared": false,
        "tags": []
      },
      "source": "<div class=\"alert alert-block alert-success\">\n\n### 6.0 - Approximate Time:  8-10 mins\n\n</div>"
    },
    {
      "cell_type": "markdown",
      "metadata": {
        "cell_id": "10ec8e7e828446009425f29cae6df8b6",
        "deepnote_cell_type": "markdown",
        "output_cleared": false
      },
      "source": "## 6.0 - What do ratings tell us about the “goodness” of games?"
    },
    {
      "cell_type": "markdown",
      "metadata": {
        "cell_id": "2fcfa089fd554a30b145c7ea774ebb50",
        "deepnote_cell_type": "markdown",
        "output_cleared": false
      },
      "source": "6.1 - Do you think other ways of measuring “goodness” will look like the ratings we looked at? Try it out with another variable in our data set that might tell you about the goodness of a game. "
    },
    {
      "cell_type": "code",
      "execution_count": null,
      "metadata": {
        "cell_id": "0e849036c05a47249898aae834a4bce2",
        "deepnote_cell_type": "code",
        "deepnote_to_be_reexecuted": true,
        "execution_millis": 216,
        "execution_start": 1629749428226,
        "output_cleared": false,
        "source_hash": null,
        "tags": [],
        "trusted": true
      },
      "outputs": [],
      "source": "# Example: Check out Global Sales\n\ngf_histogram(~Global_Sales, data = games2, fill = \"chartreuse3\", color = \"forestgreen\")\n\n# Potential Q: Why are there so many at 0?\n# A: The sales are in millions--some games may not reach 1 million\n\n# arrange by lowest global sales\n#head(arrange(games2, Global_Sales), 10)\n\n# arrange by highest global sales\n#head(arrange(games2, desc(Global_Sales)), 10)"
    }
  ],
  "metadata": {
    "deepnote_notebook_id": "fead32789a734979a9844cd5d6bede58",
    "kernelspec": {
      "display_name": "R",
      "language": "R",
      "name": "ir"
    },
    "language_info": {
      "codemirror_mode": "r",
      "file_extension": ".r",
      "mimetype": "text/x-r-source",
      "name": "R",
      "pygments_lexer": "r",
      "version": "4.3.3"
    },
    "nbsimplegrader": {
      "publish_config": {
        "classes": [],
        "options": [],
        "tools": []
      }
    }
  },
  "nbformat": 4,
  "nbformat_minor": 1
}