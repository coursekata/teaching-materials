{
  "cells": [
    {
      "cell_type": "markdown",
      "metadata": {
        "cell_id": "eec90df61ee74389885790e66ad3b4bd",
        "deepnote_cell_height": 133.953125,
        "deepnote_cell_type": "markdown"
      },
      "source": "# 3C: Art and Math - Exploring Variation and the DGP"
    },
    {
      "cell_type": "code",
      "execution_count": null,
      "metadata": {
        "cell_id": "af268c7d56764657a9816f69c309c071",
        "deepnote_cell_height": 119.953125,
        "deepnote_cell_type": "code",
        "output_cleared": false,
        "trusted": true
      },
      "outputs": [],
      "source": "# This code will load the R packages we will use\nsuppressPackageStartupMessages({\n    library(coursekata)\n})"
    },
    {
      "cell_type": "markdown",
      "metadata": {
        "cell_id": "5be306ac857842c09d320968d69d97a2",
        "deepnote_cell_height": 175.53125,
        "deepnote_cell_type": "markdown"
      },
      "source": "## 1.0 - Where are our eyes?\n\n<img src=\"https://coursekata-course-assets.s3.us-west-1.amazonaws.com/UCLATALL/czi-stats-course/jnb_SyJmv8SS-d-Jgm-Ibz-Imgur.png\" title=\"a sketch of a head\" width = 20% align = \"left\" valign = \"bottom\"/> \nWhen people are taught to sketch faces, they are told to place the eyes at the midline of the head (see picture). This sometimes strikes people as wrong because they think the eyes are slightly above the midline of the head. What do you think about this idea?\n"
    },
    {
      "cell_type": "markdown",
      "metadata": {
        "cell_id": "5a5f42b26c47484495202d44e7a82fae",
        "deepnote_cell_height": 592.453125,
        "deepnote_cell_type": "markdown",
        "tags": []
      },
      "source": "## 2.0 - Head Sketch Survey Data\n\nTo help us put this artistic advice to the test, some students from Cal State LA have collected some data by measuring their heads. The whole survey can be found here: [Head Sketch Survey](https://docs.google.com/document/d/10X8G1BPz0nlEi409VV4LuORQNKf8LG4oCeB4wHhZN5Q/edit). Feel free to look the survey document over to get an idea of the instructions they had to follow (but you do NOT need to measure your own head).\n\nFirst, students were asked to guess whether their eyes were at their midline (before measuring). Then they measured their heads with a centimeter ruler. They filled in these boxes.\n\n|                                               |                                           | \n|-----------------------------------------------|-------------------------------------------| \n|   <img src=\"https://coursekata-course-assets.s3.us-west-1.amazonaws.com/UCLATALL/czi-stats-course/jnb_nn3YYscY-head-sketch-2.png\" title=\"Students saw an oval representing a head and had to fill in the length of their head (if their chin was considered 0 centimeters) and calculate the midline.\" width = \"100%\"/>  |   <img src=\"https://coursekata-course-assets.s3.us-west-1.amazonaws.com/UCLATALL/czi-stats-course/jnb_dshYtTDW-head-sketch-3.png\" title=\"Students were also asked how much higher their eyes were relative to midline.\" width = \"100%\"/>   | \n\nAfterwards, they had a partner measure their heads for them. \n"
    },
    {
      "cell_type": "code",
      "execution_count": null,
      "metadata": {
        "cell_id": "7aab10ab6a8146bb8926d21e905aa257",
        "deepnote_cell_height": 152.96875,
        "deepnote_cell_type": "code",
        "execution_millis": 1291,
        "execution_start": 1605837276768,
        "output_cleared": false,
        "source_hash": null,
        "trusted": true
      },
      "outputs": [],
      "source": "# Run this code to save the csv file into a data frame\n# Why doesn't it print anything?\n\ntidy_heads <- read.csv(\"https://docs.google.com/spreadsheets/d/e/2PACX-1vTJaUfRbLITc3EKByD3oDD4PhwfPBTN6FdAnCJUukTQwfd_k8ZGOzFj8wWwPIc1tw9XvJkPxz7k41zV/pub?output=csv\", header = TRUE)\n"
    },
    {
      "cell_type": "markdown",
      "metadata": {
        "cell_id": "299c89b475924a33a883215d5b8fdc6b",
        "deepnote_cell_height": 401.4375,
        "deepnote_cell_type": "markdown"
      },
      "source": "Here are the variables you will find in this data frame:\n\n- `Participant` The participant number for each person\n- `Head` Length of head in cm (self-measured)\n- `Midline` How high up the midline should be in cm (self-measured)\n- `EyesHigherMid` How much higher than the midline the eyes are in cm (self-measured)\n- `EyeLevel` How high up the eyes are relative to chin in cm (self-measured)\n- `Head2` Length of head in cm (partner-measured)\n- `Midline2` How high up the midline should be in cm (partner-measured)\n- `EyesHigherMid2` How much higher than the midline the eyes are in cm (partner-measured)\n- `Height` Height in cm\n- `EyeThink` Whether students thought their eyes were basically at, above, or below the midline of their head (before measuring)\n- `EyeActual` Whether students’ eyes were actually at, above, or below the midline of their head (after measuring) based on their self-measurements\n"
    },
    {
      "cell_type": "markdown",
      "metadata": {
        "cell_id": "8b4f09abb1ae4b878f174a975ed2868d",
        "deepnote_cell_height": 74.75,
        "deepnote_cell_type": "markdown"
      },
      "source": "2.1 - Which of the variables might help us explore the idea that our eyes are at the midline of our face? "
    },
    {
      "cell_type": "code",
      "execution_count": null,
      "metadata": {
        "cell_id": "4ac2a05291cd43c5acb28c9dfb7a3482",
        "deepnote_cell_height": 101.953125,
        "deepnote_cell_type": "code",
        "tags": [],
        "trusted": true
      },
      "outputs": [],
      "source": "# Write some R code to take a look at the values for that variable (or those variables). \n# What do you notice?\n"
    },
    {
      "cell_type": "markdown",
      "metadata": {
        "cell_id": "f6a34e4e13e24619b671932e0f921738",
        "deepnote_cell_height": 69.96875,
        "deepnote_cell_type": "markdown"
      },
      "source": "## 3.0 - Exploring and Describing the Data"
    },
    {
      "cell_type": "markdown",
      "metadata": {
        "cell_id": "8917dea01c0c4b1db2fe18b2a8b52d95",
        "deepnote_cell_height": 74.75,
        "deepnote_cell_type": "markdown"
      },
      "source": "3.1 - Which of these variables can we explore with a histogram: `EyesHigherMid` or `EyeActual`? If you aren’t sure, go ahead and try out a little bit of R code."
    },
    {
      "cell_type": "markdown",
      "metadata": {
        "cell_id": "6e0f16fb362d421ebad2e389a5ff38fd",
        "deepnote_cell_height": 74.75,
        "deepnote_cell_type": "markdown"
      },
      "source": "3.2 - Create a histogram with that variable (feel free to play around with arguments and chain markers such as color, fill, labels, density curves, bins, and binwidth!)."
    },
    {
      "cell_type": "markdown",
      "metadata": {
        "cell_id": "1a8fcf80ca4a443b82159a9d738e924d",
        "deepnote_cell_height": 74.75,
        "deepnote_cell_type": "markdown"
      },
      "source": "3.3 - Why does this distribution look like this? Does this help us explore whether our eyes are generally around the midline of our face? "
    },
    {
      "cell_type": "markdown",
      "metadata": {
        "cell_id": "3a3139cbc1e948e9b342314614a8127d",
        "deepnote_cell_height": 69.96875,
        "deepnote_cell_type": "markdown"
      },
      "source": "## 4.0 - Cleaning the Data"
    },
    {
      "cell_type": "markdown",
      "metadata": {
        "cell_id": "896d53effcea47ee8bd2b053117b5bf3",
        "deepnote_cell_height": 111.140625,
        "deepnote_cell_type": "markdown"
      },
      "source": "4.1 - What can we do to better explore the idea that our eyes are around the midline of our face? \n\n(Hint: You might want to check out the variables `EyesHigherMid` and `EyeActual`. If you clean your data up, save your new variable as `EyesHigherMid.clean`.)"
    },
    {
      "cell_type": "markdown",
      "metadata": {
        "cell_id": "71fbf71aa15447e29991e623d9ead7ff",
        "deepnote_cell_height": 52.359375,
        "deepnote_cell_type": "markdown"
      },
      "source": "4.2 - What does the data tell you about the “eyes at midline” artistic advice?"
    },
    {
      "cell_type": "markdown",
      "metadata": {
        "cell_id": "0cec5248fbc44102908798e252abdba2",
        "deepnote_cell_height": 480.546875,
        "deepnote_cell_type": "markdown"
      },
      "source": "## 5.0 - Thinking about the DGP and Different Samples\n\n|    With Mistakes                                           |     Without Mistakes                                      | \n|-----------------------------------------------|-------------------------------------------| \n|   <img src=\"https://coursekata-course-assets.s3.us-west-1.amazonaws.com/UCLATALL/czi-stats-course/jnb_pP5dVT1X-3-A-histogram-1.png\" title = \"temp\" width = \"90%\"> |  <img src=\"https://coursekata-course-assets.s3.us-west-1.amazonaws.com/UCLATALL/czi-stats-course/jnb_csM0687Z-3-A-histogram-2.png\" width = \"90%\"> |\n"
    },
    {
      "cell_type": "markdown",
      "metadata": {
        "cell_id": "ff03d87454a54899be4c0ae73de17904",
        "deepnote_cell_height": 97.140625,
        "deepnote_cell_type": "markdown"
      },
      "source": "5.1 - If a different class of college students measured how much higher their eyes are above the midline, would the distribution of their data be similar? Would it be more similar to the one with mistakes or the one without mistakes? How would it be similar/different? \n"
    },
    {
      "cell_type": "markdown",
      "metadata": {
        "cell_id": "8c705583e5ca4df8a55f963cfd840761",
        "deepnote_cell_height": 97.140625,
        "deepnote_cell_type": "markdown"
      },
      "source": "5.2 - Notice that you have a little theory about the Data Generating Process (DGP)! That even if people’s eyes are not actually 12 cm above the midline, we will still see those data. What is our little theory about people?\n"
    },
    {
      "cell_type": "markdown",
      "metadata": {
        "cell_id": "a3753f749d5d43579e576d105d59d685",
        "deepnote_cell_height": 133.53125,
        "deepnote_cell_type": "markdown"
      },
      "source": "5.3 - We know that even if people basically act in the same way, a new sample of data won’t come out exactly the same. How different could samples be? We can use R to mock up a DGP that creates samples similar to our actual data. \n\nTry running the following code, what is it doing? "
    },
    {
      "cell_type": "code",
      "execution_count": null,
      "metadata": {
        "cell_id": "257e1c68570941b8aaa8f4712cfe6a60",
        "deepnote_cell_height": 304.875,
        "deepnote_cell_type": "code",
        "deepnote_output_heights": [
          189.921875
        ],
        "scrolled": true,
        "trusted": true
      },
      "outputs": [],
      "source": "new_sample <- resample(tidy_heads, 3)\nnew_sample"
    },
    {
      "cell_type": "markdown",
      "metadata": {
        "cell_id": "dd3a831777584f7fb912e151a433d3a2",
        "deepnote_cell_height": 74.75,
        "deepnote_cell_type": "markdown"
      },
      "source": "5.4 - Modify the code below to pretend to do this little study again with another 18 students. How would we take a look at the new distribution of `EyesHigherMid`? "
    },
    {
      "cell_type": "code",
      "execution_count": null,
      "metadata": {
        "cell_id": "22a47f26ddda4dec83aa05797a8f20c8",
        "deepnote_cell_height": 162.15625,
        "deepnote_cell_type": "code",
        "tags": [],
        "trusted": true
      },
      "outputs": [],
      "source": "new_sample <- resample(tidy_heads, 3)\n"
    },
    {
      "cell_type": "markdown",
      "metadata": {
        "cell_id": "f8293fc44e444ebbb400694b97ade57a",
        "deepnote_cell_height": 74.75,
        "deepnote_cell_type": "markdown"
      },
      "source": "5.5 - Run the code you wrote above a few times. What do you notice? What changes across these simulated samples? What stays the same?"
    },
    {
      "cell_type": "markdown",
      "metadata": {
        "cell_id": "4022cbf7596042e2b1c9df76646bc3df",
        "deepnote_cell_height": 69.96875,
        "deepnote_cell_type": "markdown"
      },
      "source": "## 6.0 - Resample versus Sample"
    },
    {
      "cell_type": "markdown",
      "metadata": {
        "cell_id": "3ec6c901e9d344878c720876c551147c",
        "deepnote_cell_height": 97.140625,
        "deepnote_cell_type": "markdown"
      },
      "source": "6.1 - In addition to the function `resample()` there is another function called `sample()` that is very similar. Here we have copied and pasted the code from above. But this time, modify it to create a new sample with the function `sample()` instead of `resample()`. "
    },
    {
      "cell_type": "code",
      "execution_count": null,
      "metadata": {
        "cell_id": "0953328a6de34839903816b673caf86d",
        "deepnote_cell_height": 180.15625,
        "deepnote_cell_type": "code",
        "tags": [],
        "trusted": true
      },
      "outputs": [],
      "source": "new_sample <- resample(tidy_heads, 18)\n\ngf_histogram(~ EyesHigherMid, data = new_sample, color = \"put in a color here\")"
    },
    {
      "cell_type": "markdown",
      "metadata": {
        "cell_id": "fc5eca1ac2734e66be93cc249b847fe9",
        "deepnote_cell_height": 74.75,
        "deepnote_cell_type": "markdown"
      },
      "source": "6.2 - Run it a few times. What do you notice? Does it change? Why or why not? What’s different about sample and resample?"
    },
    {
      "cell_type": "markdown",
      "metadata": {
        "cell_id": "e0fbd95c22da49879166f3266d89912b",
        "deepnote_cell_height": 74.75,
        "deepnote_cell_type": "markdown"
      },
      "source": "6.3 - Could we use `sample()` to pretend to do this study again with 100 students? Could we use `resample()`? Try them to see what happens."
    },
    {
      "cell_type": "markdown",
      "metadata": {
        "cell_id": "9f628352dc364b60b2d5b8ce7c4cb52b",
        "deepnote_cell_height": 74.75,
        "deepnote_cell_type": "markdown",
        "tags": []
      },
      "source": "6.4 - Try resampling with 18, 100, or 5000 students. Which of these looks the most like the sample that we started out with? Why?"
    },
    {
      "cell_type": "code",
      "execution_count": null,
      "metadata": {
        "cell_id": "b0f63c6cb9fb4c5e83ad5bbf6baa249a",
        "deepnote_cell_height": 101.953125,
        "deepnote_cell_type": "code",
        "owner_user_id": "23d85493-7ed1-49a4-baa7-630eaab08193",
        "tags": [],
        "trusted": true
      },
      "outputs": [],
      "source": "new_sample <- resample(tidy_heads, 18)\n\ngf_histogram(~ EyesHigherMid, data = new_sample, color = \"put in a color here\")"
    },
    {
      "cell_type": "markdown",
      "metadata": {
        "cell_id": "2d88d18c5ae3457ea75c22787f127e96",
        "deepnote_cell_height": 69.96875,
        "deepnote_cell_type": "markdown"
      },
      "source": "## 7.0 - Reflect and Connect\n"
    },
    {
      "cell_type": "markdown",
      "metadata": {
        "cell_id": "55a54233edf24a479aa2205ddc4bf52b",
        "deepnote_cell_height": 74.75,
        "deepnote_cell_type": "markdown"
      },
      "source": "7.1 - How did the shapes of the distributions we looked at today connect to the data generating process?\n"
    }
  ],
  "metadata": {
    "deepnote_notebook_id": "9e06936683fc4f4088ba9de55155f91c",
    "kernelspec": {
      "display_name": "R",
      "language": "R",
      "name": "ir"
    },
    "language_info": {
      "codemirror_mode": "r",
      "file_extension": ".r",
      "mimetype": "text/x-r-source",
      "name": "R",
      "pygments_lexer": "r",
      "version": "4.3.3"
    },
    "nbsimplegrader": {
      "publish_config": {
        "classes": [],
        "options": [],
        "tools": []
      }
    }
  },
  "nbformat": 4,
  "nbformat_minor": 1
}