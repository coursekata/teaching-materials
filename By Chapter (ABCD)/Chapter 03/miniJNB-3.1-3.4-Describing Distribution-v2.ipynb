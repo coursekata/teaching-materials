{
  "cells": [
    {
      "cell_type": "markdown",
      "metadata": {
        "cell_id": "439282d5c5a7406ba0b1e7950a373b80",
        "deepnote_cell_type": "markdown"
      },
      "source": "# Traffic Delays\n## Chapter 3.1-3.4 Describing Distribution"
    },
    {
      "cell_type": "code",
      "execution_count": null,
      "metadata": {
        "cell_id": "eb6ea645ac85445ebb98470967208856",
        "deepnote_cell_type": "code",
        "execution_context_id": "57074c1b-56dc-4078-b5d4-00f4c8228150",
        "execution_millis": 1107,
        "execution_start": 1743702784619,
        "source_hash": "240debbc",
        "trusted": true
      },
      "outputs": [],
      "source": "# This code will load the R packages we will use\nlibrary(coursekata)\n\n# set styles\ncss <- suppressWarnings(readLines(\"https://raw.githubusercontent.com/jimstigler/jupyter/master/ck_jupyter_styles_v2.css\"))\nIRdisplay::display_html(sprintf('<style>%s</style>', paste(css, collapse = \"\\n\")))"
    },
    {
      "cell_type": "markdown",
      "metadata": {
        "cell_id": "acd6a29c8c484631a526dd8c704d6702",
        "deepnote_cell_type": "markdown"
      },
      "source": "## 1. Can traffic lights cause delays?\n\nResearchers want to know if different types of traffic lights affect traffic. \n\nThere are two kinds of traffic lights we will consider today:\n1. **Timed lights:** These change on a regular schedule, no matter how many cars or people are waiting.\n2. **Flexible lights:** These adjust based on how many cars or people are nearby. For example, if there are no cars, the light might stay green longer for the other direction."
    },
    {
      "cell_type": "markdown",
      "metadata": {
        "cell_id": "328c9043363b4d2e95830728b4612b40",
        "deepnote_cell_type": "markdown"
      },
      "source": "### 1.1 If a bus moves through its route, which kind of traffic lights would slow the bus down? Why do you think so?"
    },
    {
      "cell_type": "markdown",
      "metadata": {
        "cell_id": "1f7a932df37445a8a9c0c2ab5790d7c4",
        "deepnote_cell_type": "markdown",
        "nbsimplegrader": {
          "config_key": "markdown.response",
          "editable": true,
          "label": "Response: Markdown",
          "respondable": true,
          "response": null,
          "runnable": true,
          "type": "markdown"
        }
      },
      "source": ""
    },
    {
      "cell_type": "markdown",
      "metadata": {
        "cell_id": "7b64732a87d842a0986a88dda9a4a92e",
        "deepnote_cell_type": "markdown"
      },
      "source": "### 1.2 About the `TrafficFlow` data frame.\n\nResearchers ran a computer simulation where they tested how buses moved through traffic with different kinds of lights.\n\nIn each run of the simulation, they measured how long the bus was delayed (in minutes) when using timed lights or flexible lights. They also calculated the difference in delay between the two kinds of lights.\n\nThe `TrafficFlow` data frame has 24 rows, each representing a simulated bus route:\n- `Timed`\tDelay time (in minutes) for fixed timed lights\n- `Flexible`- Delay time (in minutes) for flexible communicating lights\n- `Difference`\tDifference (Timed-Flexible) for each simulation\n\nFor more details, this is the link to the [R documentation for this dataset](https://search.r-project.org/CRAN/refmans/Lock5Data/html/TrafficFlow.html)."
    },
    {
      "cell_type": "markdown",
      "metadata": {
        "cell_id": "7e6f25c9dd3f47d4b4168898a734d9dd",
        "deepnote_cell_type": "markdown"
      },
      "source": "### 1.3 Write R code to take a look at the data frame."
    },
    {
      "cell_type": "code",
      "execution_count": null,
      "metadata": {
        "cell_id": "b34e4df1210b429481f1342c5a392551",
        "deepnote_cell_type": "code",
        "nbsimplegrader": {
          "config_key": "code.response",
          "editable": true,
          "label": "Response: Code",
          "respondable": true,
          "response": null,
          "runnable": true,
          "type": "code"
        },
        "trusted": true
      },
      "outputs": [],
      "source": "# write code\n\n"
    },
    {
      "cell_type": "markdown",
      "metadata": {
        "cell_id": "708cdc44108d4519b0c981b36704fe2b",
        "deepnote_cell_type": "markdown"
      },
      "source": "## 2. Explore the distribution of delay times with `Timed` lights"
    },
    {
      "cell_type": "markdown",
      "metadata": {
        "cell_id": "4422aad1b5ef4602ad15abe1199393ce",
        "deepnote_cell_type": "markdown"
      },
      "source": "### 2.1 Take a look at the distribution of delay times with `Timed` lights with a histogram.\n\n"
    },
    {
      "cell_type": "code",
      "execution_count": null,
      "metadata": {
        "cell_id": "39db2c94aa2a42d68bb5bf364af4753f",
        "deepnote_cell_type": "code",
        "execution_context_id": "a34b7809-aa55-4d46-b8f1-d9cfe14dfeca",
        "execution_millis": 88,
        "execution_start": 1743634442796,
        "nbsimplegrader": {
          "config_key": "code.response",
          "editable": true,
          "label": "Response: Code",
          "respondable": true,
          "response": null,
          "runnable": true,
          "type": "code"
        },
        "source_hash": "2dd37e09",
        "trusted": true
      },
      "outputs": [],
      "source": "# Modify this code\ngf_histogram(~Thumb, data = Fingers)\n\n"
    },
    {
      "cell_type": "markdown",
      "metadata": {
        "cell_id": "c4bdc8b2c25e4501ae272f0c7ccf539c",
        "deepnote_cell_type": "markdown"
      },
      "source": "### 2.2 Describe this distribution. \n\nRemember that we typically describe distributions by noting the shape, center, spread, and weird things."
    },
    {
      "cell_type": "markdown",
      "metadata": {
        "cell_id": "4f7fcdb927bb4d0eb35277f0213826d0",
        "deepnote_cell_type": "markdown",
        "nbsimplegrader": {
          "config_key": "markdown.response",
          "editable": true,
          "label": "Response: Markdown",
          "respondable": true,
          "response": null,
          "runnable": true,
          "type": "markdown"
        }
      },
      "source": "Shape:\n\nCenter:\n\nSpread:\n\nWeird things:"
    },
    {
      "cell_type": "markdown",
      "metadata": {
        "cell_id": "7a6ce7c325c14f428360c014233e1ca2",
        "deepnote_cell_type": "markdown"
      },
      "source": "### 2.3 How would you adjust your code so that the histogram only has 5 bins?"
    },
    {
      "cell_type": "code",
      "execution_count": null,
      "metadata": {
        "cell_id": "2d4eaa4c33d744e3a28c169973acdbe5",
        "deepnote_cell_type": "code",
        "nbsimplegrader": {
          "config_key": "code.response",
          "editable": true,
          "label": "Response: Code",
          "respondable": true,
          "response": null,
          "runnable": true,
          "type": "code"
        },
        "trusted": true
      },
      "outputs": [],
      "source": "# code here\n\n"
    },
    {
      "cell_type": "markdown",
      "metadata": {
        "cell_id": "ac312316f2ea4ffc964a31daa6c9655a",
        "deepnote_cell_type": "markdown"
      },
      "source": "### 2.4 How would you adjust your basic histogram so that it has a binwidth of 10?"
    },
    {
      "cell_type": "markdown",
      "metadata": {
        "cell_id": "208cc16eb96748588d3381e8eda81c19",
        "deepnote_cell_type": "markdown"
      },
      "source": "### 2.5 Does changing number of `bins` or the `binwidth` change the *center* of the distribution? Why or why not?"
    },
    {
      "cell_type": "markdown",
      "metadata": {
        "cell_id": "a31736a08f184dc4af46541c1b64ed86",
        "deepnote_cell_type": "markdown",
        "nbsimplegrader": {
          "config_key": "markdown.response",
          "editable": true,
          "label": "Response: Markdown",
          "respondable": true,
          "response": null,
          "runnable": true,
          "type": "markdown"
        }
      },
      "source": ""
    },
    {
      "cell_type": "markdown",
      "metadata": {
        "cell_id": "70922eee3f714082b743552e0ba11834",
        "deepnote_cell_type": "markdown"
      },
      "source": "## 3. Explore the distribution of delay times with `Flexible` lights"
    },
    {
      "cell_type": "markdown",
      "metadata": {
        "cell_id": "15b841a44e1647fca5e829b263ae98a7",
        "deepnote_cell_type": "markdown"
      },
      "source": "### 3.1 Take a look at the distribution of delay times with `Flexible` lights with a histogram.\n"
    },
    {
      "cell_type": "code",
      "execution_count": null,
      "metadata": {
        "cell_id": "f930b3190b0644d7a145fdc38881c90f",
        "deepnote_cell_type": "code",
        "nbsimplegrader": {
          "config_key": "code.response",
          "editable": true,
          "label": "Response: Code",
          "respondable": true,
          "response": null,
          "runnable": true,
          "type": "code"
        },
        "trusted": true
      },
      "outputs": [],
      "source": "# write code\n\n"
    },
    {
      "cell_type": "markdown",
      "metadata": {
        "cell_id": "b73f48e52881433680984b1dda1d578b",
        "deepnote_cell_type": "markdown"
      },
      "source": "### 3.2 Describe this distribution. \n\nRemember that we typically describe distributions by noting the shape, center, spread, and weird things."
    },
    {
      "cell_type": "markdown",
      "metadata": {
        "cell_id": "fc9e1a14c5804fe9b3aa3041a11a823d",
        "deepnote_cell_type": "markdown",
        "nbsimplegrader": {
          "config_key": "markdown.response",
          "editable": true,
          "label": "Response: Markdown",
          "respondable": true,
          "response": null,
          "runnable": true,
          "type": "markdown"
        }
      },
      "source": "Shape:\n\nCenter:\n\nSpread:\n\nWeird things:"
    },
    {
      "cell_type": "markdown",
      "metadata": {
        "cell_id": "5567d60b90724fb0a5bf2fcc9c122ffe",
        "deepnote_cell_type": "markdown"
      },
      "source": "### 3.3 Adjust your histogram of `Flexible` delay times so that it has just a few bins. How can you do that using only the `binwidth` argument?"
    },
    {
      "cell_type": "markdown",
      "metadata": {
        "cell_id": "499176ca804049639ff3f13282256287",
        "deepnote_cell_type": "markdown"
      },
      "source": "### 3.4 If we added another case to the distribution that had a delay time of 20 minutes under the `Flexible` traffic lights, how would it change the histogram? How about a delay time of 60 minutes?\nWould these new values fit into the existing bins?"
    },
    {
      "cell_type": "markdown",
      "metadata": {
        "cell_id": "297d8d61da3642d2905b01602f48716d",
        "deepnote_cell_type": "markdown",
        "nbsimplegrader": {
          "config_key": "markdown.response",
          "editable": true,
          "label": "Response: Markdown",
          "respondable": true,
          "response": null,
          "runnable": true,
          "type": "markdown"
        }
      },
      "source": ""
    },
    {
      "cell_type": "markdown",
      "metadata": {
        "cell_id": "551c516f67724c0ab9d7680ca7cd02be",
        "deepnote_cell_type": "markdown"
      },
      "source": "## 4. Compare delays with `Timed` and `Flexible` traffic lights"
    },
    {
      "cell_type": "markdown",
      "metadata": {
        "cell_id": "62ffe1151984480fa827909dec23b0a0",
        "deepnote_cell_type": "markdown"
      },
      "source": "### 4.1 Based on the data you have looked at today, if you were planning the traffic lights for an urban intersection, what would you do?"
    },
    {
      "cell_type": "markdown",
      "metadata": {
        "cell_id": "931ced5020b5440fb9ff0fd4a98059fb",
        "deepnote_cell_type": "markdown",
        "nbsimplegrader": {
          "config_key": "markdown.response",
          "editable": true,
          "label": "Response: Markdown",
          "respondable": true,
          "response": null,
          "runnable": true,
          "type": "markdown"
        }
      },
      "source": ""
    }
  ],
  "metadata": {
    "deepnote_notebook_id": "f40f5075b9bc4ba08454b99bbcb7bd50",
    "kernelspec": {
      "display_name": "R",
      "language": "R",
      "name": "ir"
    },
    "language_info": {
      "codemirror_mode": "r",
      "file_extension": ".r",
      "mimetype": "text/x-r-source",
      "name": "R",
      "pygments_lexer": "r",
      "version": "4.3.3"
    },
    "nbsimplegrader": {
      "publish_config": {
        "classes": [],
        "options": [],
        "tools": []
      }
    }
  },
  "nbformat": 4,
  "nbformat_minor": 1
}