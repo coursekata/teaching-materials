{
  "cells": [
    {
      "cell_type": "markdown",
      "metadata": {
        "cell_id": "73dce176934d41cb8a696ab998ad7779",
        "deepnote_cell_type": "markdown",
        "nbsimplegrader": {
          "config_key": "markdown.view-only",
          "editable": false,
          "label": "Markdown: View-Only",
          "respondable": false,
          "response": null,
          "runnable": false,
          "type": "markdown"
        }
      },
      "source": "# Traffic Delays (COMPLETE)\n## Chapter 3.1-3.4 Describing Distribution"
    },
    {
      "cell_type": "code",
      "execution_count": null,
      "metadata": {
        "cell_id": "55897451425f43d88cb7e9a472899413",
        "deepnote_cell_type": "code",
        "execution_context_id": "57074c1b-56dc-4078-b5d4-00f4c8228150",
        "execution_millis": 1107,
        "execution_start": 1743702784619,
        "nbsimplegrader": {
          "config_key": "code.run-only",
          "editable": false,
          "label": "Code: Run-Only",
          "respondable": false,
          "response": null,
          "runnable": true,
          "type": "code"
        },
        "source_hash": "240debbc",
        "trusted": true
      },
      "outputs": [],
      "source": "# This code will load the R packages we will use\nlibrary(coursekata)\n\n# set styles\ncss <- suppressWarnings(readLines(\"https://raw.githubusercontent.com/jimstigler/jupyter/master/ck_jupyter_styles_v2.css\"))\nIRdisplay::display_html(sprintf('<style>%s</style>', paste(css, collapse = \"\\n\")))"
    },
    {
      "cell_type": "markdown",
      "metadata": {
        "cell_id": "24038bcd675f41fbb9dacb6b680ecde4",
        "deepnote_cell_type": "markdown"
      },
      "source": "<div class=\"teacher-note\">\n    <b>Teacher Note:</b> The purpose of this mini-JNB is to practice creating histograms, and deepen their understanding for how bins and binwidth can be used to adjust the appearance of a distribution. Students will also practice summarizing the shape, center, spread, and weirdness of a distribution.\n</div>"
    },
    {
      "cell_type": "markdown",
      "metadata": {
        "cell_id": "36395f7c0f3c4183aa18270734552fc0",
        "deepnote_cell_type": "markdown"
      },
      "source": "## 1. Can traffic lights cause delays?\n\nResearchers want to know if different types of traffic lights affect traffic. \n\nThere are two kinds of traffic lights we will consider today:\n1. **Timed lights:** These change on a regular schedule, no matter how many cars or people are waiting.\n2. **Flexible lights:** These adjust based on how many cars or people are nearby. For example, if there are no cars, the light might stay green longer for the other direction."
    },
    {
      "cell_type": "markdown",
      "metadata": {
        "cell_id": "fdbffb10f7594c56886b5f192aa2157b",
        "deepnote_cell_type": "markdown"
      },
      "source": "### 1.1 If a bus moves through its route, which kind of traffic lights would slow the bus down? Why do you think so?"
    },
    {
      "cell_type": "markdown",
      "metadata": {
        "cell_id": "d2043578101743218f6b8934f9c4ab32",
        "deepnote_cell_type": "markdown",
        "nbsimplegrader": {
          "config_key": "markdown.response",
          "editable": true,
          "label": "Response: Markdown",
          "respondable": true,
          "response": null,
          "runnable": true,
          "type": "markdown"
        }
      },
      "source": ""
    },
    {
      "cell_type": "markdown",
      "metadata": {
        "cell_id": "f748547330a34608ae2452a5a536187b",
        "deepnote_cell_type": "markdown",
        "nbsimplegrader": {
          "config_key": "markdown.view-only",
          "editable": false,
          "label": "Markdown: View-Only",
          "respondable": false,
          "response": null,
          "runnable": false,
          "type": "markdown"
        }
      },
      "source": "### 1.2 About the `TrafficFlow` data frame.\n\nResearchers ran a computer simulation where they tested how buses moved through traffic with different kinds of lights.\n\nIn each run of the simulation, they measured how long the bus was delayed (in minutes) when using timed lights or flexible lights. They also calculated the difference in delay between the two kinds of lights.\n\nThe `TrafficFlow` data frame has 24 rows, each representing a simulated bus route:\n- `Timed`\tDelay time (in minutes) for fixed timed lights\n- `Flexible`- Delay time (in minutes) for flexible communicating lights\n- `Difference`\tDifference (Timed-Flexible) for each simulation\n\nFor more details, this is the link to the [R documentation for this dataset](https://search.r-project.org/CRAN/refmans/Lock5Data/html/TrafficFlow.html)."
    },
    {
      "cell_type": "markdown",
      "metadata": {
        "cell_id": "f714784506934eebb9e655d79792d21c",
        "deepnote_cell_type": "markdown"
      },
      "source": "### 1.3 Write R code to take a look at the data frame."
    },
    {
      "cell_type": "code",
      "execution_count": null,
      "metadata": {
        "cell_id": "a01a50db654d41c0916d244d4bf2ed1f",
        "deepnote_cell_type": "code",
        "nbsimplegrader": {
          "config_key": "code.response",
          "editable": true,
          "label": "Response: Code",
          "respondable": true,
          "response": null,
          "runnable": true,
          "type": "code"
        },
        "trusted": true
      },
      "outputs": [],
      "source": "# write code\n\n# sample code\nhead(TrafficFlow)\nglimpse(TrafficFlow)"
    },
    {
      "cell_type": "markdown",
      "metadata": {
        "cell_id": "24845c63ee7747fd92a172e8b2acd0bb",
        "deepnote_cell_type": "markdown"
      },
      "source": "## 2. Explore the distribution of delay times with `Timed` lights"
    },
    {
      "cell_type": "markdown",
      "metadata": {
        "cell_id": "e1af52e7c98e4a2da3f421daf633fab4",
        "deepnote_cell_type": "markdown",
        "nbsimplegrader": {
          "config_key": "markdown.view-only",
          "editable": false,
          "label": "Markdown: View-Only",
          "respondable": false,
          "response": null,
          "runnable": false,
          "type": "markdown"
        }
      },
      "source": "### 2.1 Take a look at the distribution of delay times with `Timed` lights with a histogram.\n\n"
    },
    {
      "cell_type": "markdown",
      "metadata": {
        "cell_id": "d71c9059071d486b9800038219255980",
        "deepnote_cell_type": "markdown"
      },
      "source": "<div class=\"teacher-note\"><b>Teacher Note:</b>         \nThis will give students the chance to start with scaffolded code, and to see the default histogram.\n</div>"
    },
    {
      "cell_type": "code",
      "execution_count": null,
      "metadata": {
        "cell_id": "be70dac8743849cb9f75e6ac7e0480b5",
        "deepnote_cell_type": "code",
        "execution_context_id": "a34b7809-aa55-4d46-b8f1-d9cfe14dfeca",
        "execution_millis": 88,
        "execution_start": 1743634442796,
        "nbsimplegrader": {
          "config_key": "code.response",
          "editable": true,
          "label": "Response: Code",
          "respondable": true,
          "response": null,
          "runnable": true,
          "type": "code"
        },
        "source_hash": "2dd37e09",
        "trusted": true
      },
      "outputs": [],
      "source": "# Modify this code\ngf_histogram(~Thumb, data = Fingers)\n\n# sample response\ngf_histogram(~Timed, data = TrafficFlow)\n"
    },
    {
      "cell_type": "markdown",
      "metadata": {
        "cell_id": "8b793d23310c4752931212ca7dd61ec4",
        "deepnote_cell_type": "markdown"
      },
      "source": "### 2.2 Describe this distribution. \n\nRemember that we typically describe distributions by noting the shape, center, spread, and weird things."
    },
    {
      "cell_type": "markdown",
      "metadata": {
        "cell_id": "2c45dd0b2f964dc49374a5af34d38769",
        "deepnote_cell_type": "markdown",
        "nbsimplegrader": {
          "config_key": "markdown.response",
          "editable": true,
          "label": "Response: Markdown",
          "respondable": true,
          "response": null,
          "runnable": true,
          "type": "markdown"
        }
      },
      "source": "Shape:\n\nCenter:\n\nSpread:\n\nWeird things:"
    },
    {
      "cell_type": "markdown",
      "metadata": {
        "cell_id": "f09b4222f8d24af4948625f096c9eca2",
        "deepnote_cell_type": "markdown"
      },
      "source": "<div class=\"teacher-note\"><b>Sample Response</b>         \n\nShape: Skewed right\n\nCenter: A little over 100 minutes\n\nSpread: about 15 minutes\n\nWeird things: There is a big gap from about 115-135, and a few really high delay times near 140 minutes.\n\n</div>"
    },
    {
      "cell_type": "markdown",
      "metadata": {
        "cell_id": "2fc480fa1b4b477488dff599d9114be1",
        "deepnote_cell_type": "markdown"
      },
      "source": "### 2.3 How would you adjust your code so that the histogram only has 5 bins?"
    },
    {
      "cell_type": "code",
      "execution_count": null,
      "metadata": {
        "cell_id": "6f54a72d634249a68df1a000b0af3c64",
        "deepnote_cell_type": "code",
        "nbsimplegrader": {
          "config_key": "code.response",
          "editable": true,
          "label": "Response: Code",
          "respondable": true,
          "response": null,
          "runnable": true,
          "type": "code"
        },
        "trusted": true
      },
      "outputs": [],
      "source": "# code here\n\ngf_histogram(~Timed, data = TrafficFlow, boundary = 0, bins = 5)"
    },
    {
      "cell_type": "markdown",
      "metadata": {
        "cell_id": "49c9a7e295974bbaba99f39c1fbb7352",
        "deepnote_cell_type": "markdown"
      },
      "source": "### 2.4 How would you adjust your basic histogram so that it has a binwidth of 10?"
    },
    {
      "cell_type": "code",
      "execution_count": null,
      "metadata": {
        "cell_id": "e1eb3a5f443b4e3592ce1926c3c7a0ac",
        "deepnote_cell_type": "code",
        "nbsimplegrader": {
          "config_key": "code.response",
          "editable": true,
          "label": "Response: Code",
          "respondable": true,
          "response": null,
          "runnable": true,
          "type": "code"
        },
        "trusted": true
      },
      "outputs": [],
      "source": "# sample code\n\ngf_histogram(~Timed, data = TrafficFlow, boundary = 0, binwidth = 10)"
    },
    {
      "cell_type": "markdown",
      "metadata": {
        "cell_id": "0a17e52dfcaf47efa044c90a9f7545ba",
        "deepnote_cell_type": "markdown"
      },
      "source": "### 2.5 Does changing number of `bins` or the `binwidth` change the *center* of the distribution? Why or why not?"
    },
    {
      "cell_type": "markdown",
      "metadata": {
        "cell_id": "cae3007c440b429e8c9355bb1ddcd279",
        "deepnote_cell_type": "markdown"
      },
      "source": "<div class=\"teacher-note\">\n\n<b>Teacher Note</b>:\nPotential misconception: Some students may look at the \"center\" of the x-axis across all plots and conclude that it does not change (rather than the center of the distribution). \n\n\n\n<b>Sample Response</b>:\nThe center remains roughly around the same value, with just a little bit of variation.\n\n</div>"
    },
    {
      "cell_type": "markdown",
      "metadata": {
        "cell_id": "38e6a2ab0168440a94b1fb258d5d4ead",
        "deepnote_cell_type": "markdown"
      },
      "source": "## 3. Explore the distribution of delay times with `Flexible` lights"
    },
    {
      "cell_type": "markdown",
      "metadata": {
        "cell_id": "1c432285e8f84ebd86aa8dc46fb5db2a",
        "deepnote_cell_type": "markdown"
      },
      "source": "### 3.1 Take a look at the distribution of delay times with `Flexible` lights with a histogram.\n"
    },
    {
      "cell_type": "code",
      "execution_count": null,
      "metadata": {
        "cell_id": "37dbdb6ed06e49fbbe4df9ea6d28bb0f",
        "deepnote_cell_type": "code",
        "nbsimplegrader": {
          "config_key": "code.response",
          "editable": true,
          "label": "Response: Code",
          "respondable": true,
          "response": null,
          "runnable": true,
          "type": "code"
        },
        "trusted": true
      },
      "outputs": [],
      "source": "# write code\ngf_histogram(~ Flexible, data = TrafficFlow)"
    },
    {
      "cell_type": "markdown",
      "metadata": {
        "cell_id": "8d0ac22c22a6432981882ccabb3b5a61",
        "deepnote_cell_type": "markdown"
      },
      "source": "### 3.2 Describe this distribution. \n\nRemember that we typically describe distributions by noting the shape, center, spread, and weird things."
    },
    {
      "cell_type": "markdown",
      "metadata": {
        "cell_id": "d822f471eec2488d9c67cf758f194a2f",
        "deepnote_cell_type": "markdown",
        "nbsimplegrader": {
          "config_key": "markdown.response",
          "editable": true,
          "label": "Response: Markdown",
          "respondable": true,
          "response": null,
          "runnable": true,
          "type": "markdown"
        }
      },
      "source": "Shape:\n\nCenter:\n\nSpread:\n\nWeird things:"
    },
    {
      "cell_type": "markdown",
      "metadata": {
        "cell_id": "41a0be120e9a4743aa8ddbb2341ca43c",
        "deepnote_cell_type": "markdown"
      },
      "source": "<div class=\"teacher-note\"><b>Sample Response</b>         \n\nShape: roughly normal, but might seem slightly skewed right because of an outlier or two\n\nCenter: about 44 minutes\n\nSpread: about 3-4 minutes\n\nWeird things: The peak around 44 is quite higher than the rest of the distribution. There are some gaps in the right tail area.\n\n</div>"
    },
    {
      "cell_type": "markdown",
      "metadata": {
        "cell_id": "0dc53159eb134259b4f8e110638ee85c",
        "deepnote_cell_type": "markdown"
      },
      "source": "### 3.3 Adjust your histogram of `Flexible` delay times so that it has just a few bins. How can you do that using only the `binwidth` argument?"
    },
    {
      "cell_type": "code",
      "execution_count": null,
      "metadata": {
        "cell_id": "dc9452621e924dc2a114e4f709085530",
        "deepnote_cell_type": "code",
        "execution_context_id": "57074c1b-56dc-4078-b5d4-00f4c8228150",
        "execution_millis": 132,
        "execution_start": 1743709496954,
        "source_hash": "a420830c",
        "trusted": true
      },
      "outputs": [],
      "source": "# sample code\ngf_histogram(~Flexible, data = TrafficFlow, boundary = 0, binwidth = 5)"
    },
    {
      "cell_type": "markdown",
      "metadata": {
        "cell_id": "ed95186664f84c66badea5a6441abc17",
        "deepnote_cell_type": "markdown"
      },
      "source": "### 3.4 If we added another case to the distribution that had a delay time of 20 minutes under the `Flexible` traffic lights, how would it change the histogram? How about a delay time of 60 minutes?\nWould these new values fit into the existing bins?"
    },
    {
      "cell_type": "markdown",
      "metadata": {
        "cell_id": "64924c76d0f240e3bd9dacfad35a4217",
        "deepnote_cell_type": "markdown"
      },
      "source": "<div class=\"teacher-note\">\n\n<b>Sample Response</b>:\nThese are values that are far from the rest of the data and we would need new bins outside the current range.\n \n</div>"
    },
    {
      "cell_type": "markdown",
      "metadata": {
        "cell_id": "d198af8ec44b48eeb232045dd8b54e74",
        "deepnote_cell_type": "markdown"
      },
      "source": "## 4. Compare delays with `Timed` and `Flexible` traffic lights"
    },
    {
      "cell_type": "markdown",
      "metadata": {
        "cell_id": "557d5e73055a4403994a3c788f2eee06",
        "deepnote_cell_type": "markdown"
      },
      "source": "### 4.1 Based on the data you have looked at today, if you were planning the traffic lights for an urban intersection, what would you do?"
    },
    {
      "cell_type": "markdown",
      "metadata": {
        "cell_id": "fe9087365cb1492291540811a1ed40dc",
        "deepnote_cell_type": "markdown",
        "nbsimplegrader": {
          "config_key": "markdown.response",
          "editable": true,
          "label": "Response: Markdown",
          "respondable": true,
          "response": null,
          "runnable": true,
          "type": "markdown"
        }
      },
      "source": ""
    },
    {
      "cell_type": "markdown",
      "metadata": {
        "cell_id": "7ece3b1aab3b49298f5ce3047b6a0bed",
        "deepnote_cell_type": "markdown"
      },
      "source": "<div class=\"teacher-note\">\n\n<b>Sample Response</b>:\nIf I needed to design a traffic light for an urban intersection and I wanted to reduce traffic delays, I would use Flexible traffic lights.\n \n\n</div>"
    }
  ],
  "metadata": {
    "deepnote_notebook_id": "95ed3fd1d9c34d96839b8f207dd421ab",
    "kernelspec": {
      "display_name": "R",
      "language": "R",
      "name": "ir"
    },
    "language_info": {
      "codemirror_mode": "r",
      "file_extension": ".r",
      "mimetype": "text/x-r-source",
      "name": "R",
      "pygments_lexer": "r",
      "version": "4.3.3"
    },
    "nbsimplegrader": {
      "publish_config": {
        "classes": [],
        "options": [],
        "tools": []
      }
    }
  },
  "nbformat": 4,
  "nbformat_minor": 1
}