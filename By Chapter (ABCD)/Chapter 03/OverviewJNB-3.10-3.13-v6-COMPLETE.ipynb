{
  "cells": [
    {
      "cell_type": "markdown",
      "metadata": {
        "cell_id": "b46129f819974a05aad1503d682d5422",
        "deepnote_cell_type": "markdown"
      },
      "source": "# Samples, Populations, and the Data Generating Process (DGP) (COMPLETE)\n\n## Chapter 3.10-3.13 Overview Notebook"
    },
    {
      "cell_type": "code",
      "execution_count": null,
      "metadata": {
        "cell_id": "81688a053c5046df963e8d153360ea3f",
        "deepnote_cell_type": "code",
        "trusted": true
      },
      "outputs": [],
      "source": "# run this cell to prepare the notebook\nlibrary(coursekata)\nlibrary(gridExtra)\nset.seed(127)\n\n# Shift all to have mean of ~100 and sd of ~15\ntarget_mean <- 100\ntarget_sd <- 15  \n\n# Create original distributions\npop_a <- round(scale(rnorm(10000)) * target_sd + target_mean, 2)\npop_b <- round(scale(runif(10000)) * target_sd + target_mean, 2)\npop_c <- round(scale(rexp(10000, rate = 0.5)) * target_sd + target_mean, 2)\n\n# make small samples\nsample_1 <- c(98.29, 112.22, 92.77, 99.98, 100.92, 87.78, 91.44, 93.65, 114.99, 94.63, \n              101.47, 93.08, 95.05, 107.87, 92.09, 110.47, 100.29, 87.04, 100.66, 107.51)\nsample_2 <- c(76.75, 76.43, 89.17, 79.25, 120.06, 76.52, 99.77, 116.69, 116.65, 115.28,\n              111.7, 82.73, 101.17, 96.46, 125.63, 102.15, 120.95, 80.42, 78.64, 115.05)\nsample_3 <- c(88.74, 75.61, 101.69, 99.39, 102.97, 86.36, 73.43, 95.07, 124.34, 110.32,\n              87.97, 95.34, 97.29, 103.26, 71.73, 98.23, 122.74, 119.55, 105.15, 101.61)\nsample_4 <- c(124,85.38,75.42,109.07,97.55,88.39,99.52,82.36,119.56,76.63,105.46,\n              124.19,78.57,81.23,117.28,91.89,96.73,79.44,81.81,79.81)\nsample_5 <- c(99.9,94.38,125.99,104.51,90.56,85.38,106.49,110.25,79.12,118.87,74.22,\n              79.52,98.81,103.88,115.93,81.72,65.24,93.42,75.89,104.85)\nsample_6 <- c(87.46,90.14,96.76,98.11,113.98,153.06,94.21,95.06,96.3,105.4,86.5,113.37,\n              92.93,122.56,90.81,96.86,105.15,138.6,100.11,92.77)\n\n# set styles\ncss <- suppressWarnings(readLines(\"https://raw.githubusercontent.com/jimstigler/jupyter/master/ck_jupyter_styles_v2.css\"))\nIRdisplay::display_html(sprintf('<style>%s</style>', paste(css, collapse = \"\\n\")))"
    },
    {
      "cell_type": "markdown",
      "metadata": {
        "cell_id": "de0f25e833414e73826037543aaca4e5",
        "deepnote_cell_type": "markdown"
      },
      "source": "<div class=\"teacher-note\">\n<b>Section Goals:</b> In this section students are introduced to the idea that we look at data in order to understand the Data Generating Process (DGP), the hidden processes in the world that generate the patterns we see in a sample of data. Students should understand that:\n<ul>\n<li>The DGP includes both the processes that generate the distribution in a population over time and the processes by which researchers sample from that population.\n<li>Simulations of a DGP using R are a useful tool for understanding the various types of sample distributions that might arise from the same DGP when samples are randomly selected for study. \n<li>Features of a sample (e.g., shape, center, spread, or \"weird things\") may differ from the features of the population they come from; and larger samples of data are more likely to resemble the population from which they are drawn.\n<li>When they look at a sample of data, they recognize that it is one of many possible samples that could have been from the same DGP.\n</ul>\n    A <a href=\"https://docs.google.com/document/d/1xT0wDbnwwwiho1MwWAaX7rg4RS3sX-8mfwV_qCGeYs0/edit?tab=t.5y2a0ykmi2fk\" target=\"_blank\">printable student guided-notes worksheet</a> is available to go with this Jupyter notebook, as well as a student version of this notebook.\n</div>"
    },
    {
      "cell_type": "markdown",
      "metadata": {
        "cell_id": "294aeb11a1a3430d9fd2b28802fa64c3",
        "deepnote_cell_type": "markdown"
      },
      "source": "## 1 Defining Samples, Populations, and the DGP\n\nWhen we collect a sample of data, we usually are interested not in the sample itself but in the population from which it is drawn. In fact, we usually are interested in the Data Generating Process (or DGP) that resulted in both the population and the sample. In this notebook we are going to sort through these ideas, and hopefully help you see why they are important.\n\n### 1.1 Some definitions\n\n**Sample:** The cases that got selected and measured and so ended up in our data. (Real and known)\n\n**Population:** All the cases in the world from which we sampled, and that we want to understand. (Real but unknown; we want to know it!)\n\n**Data Generating Process (DGP):** The hidden processes in the world that generate the distribution of a variable in a population and then the sample. (Real but unknown; we want to know it!)"
    },
    {
      "cell_type": "markdown",
      "metadata": {
        "cell_id": "6a46677528f546e1b357c2783c7cead2",
        "deepnote_cell_type": "markdown"
      },
      "source": "<div class=\"guided-notes\">\n\n### 1.2 Label each row in the guided notes table as sample, population, or DGP. For each, also label it as *known* or *unknown*.\n    \n</div>"
    },
    {
      "cell_type": "markdown",
      "metadata": {
        "cell_id": "2a236119989346af874b741012c866d6",
        "deepnote_cell_type": "markdown"
      },
      "source": "<img src=\"https://coursekata-course-assets.s3.us-west-1.amazonaws.com/UCLATALL/czi-stats-course/3.10-3.13-dgp-pop-sample.jpg\" alt=\"DGP is the cause of variation in the population and the population is the source of variation in the sample\">"
    },
    {
      "cell_type": "markdown",
      "metadata": {
        "cell_id": "a2f46a9bfb7049748e5f70707fe2254f",
        "deepnote_cell_type": "markdown"
      },
      "source": "### 1.3 Explanation of how sample, population, and DGP relate\n    \nThe Data Generating Process (DGP) includes all the real-world processes that produce variation on a variable. When the DGP runs for a long time, it generates a population (the set of all cases and the variation among them at a given time). The population isn’t ever *done* being generated. It may change slightly from day to day, but as long as the same DGP is operating, the type of variation we see in the population stays similar over time.\n\nFrom the population, a researcher draws a sample. The variation we see in the sample comes from the variation in the population, which came from the DGP."
    },
    {
      "cell_type": "markdown",
      "metadata": {
        "cell_id": "034f601607e34cdca88af1b624cd6bb6",
        "deepnote_cell_type": "markdown"
      },
      "source": "<div class=\"teacher-note\">\n<b>Teacher Note:</b>\n\nSpend some time explaining how these concepts fit together so that students can then write down an explanation in their own words. (This is a hard concept for students; all we want here is for them to begin thinking about this hard concept.) Spend time unpacking the figure below.\n\n- **Sample:** The sample is real; it's generally all we have to go on as we try to understand the population from which it was drawn.\n\n- **Population:** The population is real, but generally unknown. You can't go out and analyze the population like you can a sample.\n\n- **DGP:** A concept that goes deeper than population—it refers to the *processes* in the world that generate variation. These processes are real but hidden. We want students to begin thinking in terms of *what causes the patterns* they see in the population as well as the sample.\n    \n</div>\n"
    },
    {
      "cell_type": "markdown",
      "metadata": {
        "cell_id": "955a85b8ff4842a6835f6e05d45321c4",
        "deepnote_cell_type": "markdown"
      },
      "source": "<div class=\"guided-notes\">\n\n### 1.4 Write a brief explanation - in your own words - of the relationship between DGP, population, and sample.\n    \n</div>"
    },
    {
      "cell_type": "markdown",
      "metadata": {
        "cell_id": "e1b4f57a7e294e838ba4c82c55783a6b",
        "deepnote_cell_type": "markdown"
      },
      "source": "<div class=\"discussion-question\">\n\n<h3>1.5 Key Discussion Questions: One way to think about the relationship of samples to populations is by analogy to children and parents. How well does this analogy apply when thinking about samples and populations?</h3> \n\n- Do children always look like their parents? \n- Can you tell exactly what a child’s parent looks like just by seeing the child? \n- Can you always predict what a parent’s children will look like?\n\nUse your answers to these questions to reflect on the relationship between samples and populations.\n</div> "
    },
    {
      "cell_type": "markdown",
      "metadata": {
        "cell_id": "35ca39591376493da5ffcd6dd176e5ed",
        "deepnote_cell_type": "markdown"
      },
      "source": "<div class=\"teacher-note\">\n    \n<b>Teacher Note:</b> The goal of this discussion is to get students thinking about uncertainty in both directions—from sample to population and vice versa.\nUse the parent-child analogy to draw out ideas like:\n\n- Children often resemble their parents, but not always—just like samples often resemble their populations, but not always.\n\n- It’s hard to know exactly what a population really looks like just from a small sample—just like it’s hard to reconstruct a particular parent just from looking at one child.\n\n- Usually you can guess at what a parent's children will look like but sometimes you see children that look pretty different-just like samples are somewhat similar to the population they came from but sometimes a sample looks pretty different.\n    \n</div>"
    },
    {
      "cell_type": "markdown",
      "metadata": {
        "cell_id": "e6ea14962a664754b2d0552c098429c9",
        "deepnote_cell_type": "markdown"
      },
      "source": "## 2 From Samples to Populations: The Problem of Inference\n\nA key challenge for data analysts is the problem of inference: What can we infer about the population distribution by looking at a sample distribution? What kind of population might have produced this particular sample?\n\nTake, for example, the sample distribution on the right. This sample consists of 20 observations sampled from one of the three population distributions on the left. Which one? How can you tell?"
    },
    {
      "cell_type": "markdown",
      "metadata": {
        "cell_id": "0f9c5858b6d94a8d9fd69706f5284cf7",
        "deepnote_cell_type": "markdown"
      },
      "source": "<img src=\"https://coursekata-course-assets.s3.us-west-1.amazonaws.com/UCLATALL/czi-stats-course/3.10-3.13-which-pop-sample.jpg\" alt=\"When you look at a sample, we wonder what population was the source of it?\" width = 80%>"
    },
    {
      "cell_type": "markdown",
      "metadata": {
        "cell_id": "ef599c72f0e940a09cb3e1bb13854a45",
        "deepnote_cell_type": "markdown"
      },
      "source": "### 2.1 The 6 samples we will show you came from one of these three population distributions (also shown in your guided notes)\nEach of these population distributions consists of 10,000 observations. \n\n<img src=\"https://coursekata-course-assets.s3.us-west-1.amazonaws.com/UCLATALL/czi-stats-course/3.10-3.13-three-pop.jpg\" alt=\"population A is normal; population B is uniform; population C is skewed\" width = 100%>"
    },
    {
      "cell_type": "markdown",
      "metadata": {
        "cell_id": "e31e1b5728eb40f592a8d0f48b815085",
        "deepnote_cell_type": "markdown"
      },
      "source": "<div class=\"guided-notes\">\n\n### 2.2 Label each population distribution based on its shape\n\n</div>"
    },
    {
      "cell_type": "markdown",
      "metadata": {
        "cell_id": "aaf36cdbe1d54d6eb564695d3648a37a",
        "deepnote_cell_type": "markdown"
      },
      "source": "<div class=\"teacher-note\">\n    \n<b>Teacher Note:</b> This is a good opportunity for students to review some shapes of distributions: normal, uniform, and skewed to the right. \n    \n(Students who are familiar with exponential functions may be interested to know that the skewed distribution on the right is called \"exponential\" in shape. It’s called exponential because the probability drops off exponentially as the values get larger.)\n    \n</div>"
    },
    {
      "cell_type": "markdown",
      "metadata": {
        "cell_id": "ebe2799570cd49d886ea0f9cdf9cf97c",
        "deepnote_cell_type": "markdown"
      },
      "source": "### 2.3 Activity instructions: Which population was the source of the sample?\n\nWe'll show you 6 sample distributions, one at a time. Each sample consists of 20 observations randomly sampled from one of the three population distributions. For each sample, vote on which of the three population distributions you think it came from."
    },
    {
      "cell_type": "markdown",
      "metadata": {
        "cell_id": "2b71ed5918e243a0867ea30b4f13db37",
        "deepnote_cell_type": "markdown"
      },
      "source": "<div class=\"teacher-note\">\n<b>Teacher Note:</b> Run the code in the next cell to see the first of six sample distributions. For each question:\n\n- Display the sample by running the provided code.\n- Ask students to raise their hands to vote for population A, B, or C as the source of each sample.\n- Count the number of students selecting each option.\n- Edit the title of the plot in R to reflect the vote counts (this makes it visible for discussion).\n- Note that we are \"saving\" the plot using the assignment operator, <code><-</code>, because later we will look at all of them together.\n  \n**Example:**\nIf 20 students vote A, 10 vote B, and 2 vote C, update the title like this:\n    \n<code>plot1 <- gf_histogram(~sample_1) %>%\n    gf_labs(title = \"Sample 1: Pop A=20, B=10, C=2\")</code>\n\n</div>"
    },
    {
      "cell_type": "code",
      "execution_count": null,
      "metadata": {
        "cell_id": "4ba6260afe064edea68c9880c29a1146",
        "deepnote_cell_type": "code",
        "nbsimplegrader": {
          "config_key": "code.response",
          "editable": true,
          "label": "Response: Code",
          "respondable": true,
          "response": null,
          "runnable": true,
          "type": "code"
        },
        "trusted": true
      },
      "outputs": [],
      "source": "# run this code\n# then update the title with the vote count and run again\nplot1 <- gf_histogram(~sample_1) %>%\n  gf_labs(title = \"Sample 1: Pop A=?, B=?, C=?\") \n\nplot1"
    },
    {
      "cell_type": "markdown",
      "metadata": {
        "cell_id": "a09e5c0a73ba446f9350e28d05bd01b1",
        "deepnote_cell_type": "markdown"
      },
      "source": "<div class=\"guided-notes\">\n\n### 2.4 Record the vote for sample_1 \n</div>"
    },
    {
      "cell_type": "code",
      "execution_count": null,
      "metadata": {
        "cell_id": "8322b1f456084beeb2f1dec7a09da097",
        "deepnote_cell_type": "code",
        "nbsimplegrader": {
          "config_key": "code.response",
          "editable": true,
          "label": "Response: Code",
          "respondable": true,
          "response": null,
          "runnable": true,
          "type": "code"
        },
        "trusted": true
      },
      "outputs": [],
      "source": "# run this code\n# then update the title with the vote count\nplot2 <- gf_histogram(~sample_2) %>%\n  gf_labs(title = \"Sample 2: Pop A=?, B=?, C=?\") \n\nplot2"
    },
    {
      "cell_type": "markdown",
      "metadata": {
        "cell_id": "c7a8b748d8de4324a7085fba85891189",
        "deepnote_cell_type": "markdown"
      },
      "source": "<div class=\"guided-notes\">\n\n### 2.5 Record the vote for sample_2 \n</div>"
    },
    {
      "cell_type": "code",
      "execution_count": null,
      "metadata": {
        "cell_id": "625ca089965f4fac8e6ea246d9dbcfd3",
        "deepnote_cell_type": "code",
        "nbsimplegrader": {
          "config_key": "code.response",
          "editable": true,
          "label": "Response: Code",
          "respondable": true,
          "response": null,
          "runnable": true,
          "type": "code"
        },
        "trusted": true
      },
      "outputs": [],
      "source": "# run and update\nplot3 <- gf_histogram(~sample_3) %>%\n  gf_labs(title = \"Sample 3: Pop A=?, B=?, C=?\") \n\nplot3"
    },
    {
      "cell_type": "markdown",
      "metadata": {
        "cell_id": "559a360279af465e9f0ff47e154ca6cf",
        "deepnote_cell_type": "markdown"
      },
      "source": "<div class=\"guided-notes\">\n\n### 2.6 Record the vote for sample_3 \n    \n</div>"
    },
    {
      "cell_type": "code",
      "execution_count": null,
      "metadata": {
        "cell_id": "482911aaab164c97898019e74d7a722c",
        "deepnote_cell_type": "code",
        "nbsimplegrader": {
          "config_key": "code.response",
          "editable": true,
          "label": "Response: Code",
          "respondable": true,
          "response": null,
          "runnable": true,
          "type": "code"
        },
        "trusted": true
      },
      "outputs": [],
      "source": "# run and update\nplot4 <- gf_histogram(~sample_4) %>%\n  gf_labs(title = \"Sample 4: Pop A=?, B=?, C=?\") \n\nplot4"
    },
    {
      "cell_type": "markdown",
      "metadata": {
        "cell_id": "77965c03bcd04a6faf6decc01acb0506",
        "deepnote_cell_type": "markdown"
      },
      "source": "<div class=\"guided-notes\">\n\n### 2.7 Record the vote for sample_4 \n\n</div>"
    },
    {
      "cell_type": "code",
      "execution_count": null,
      "metadata": {
        "cell_id": "071a2c0b9fe644d597e414cf05da714a",
        "deepnote_cell_type": "code",
        "nbsimplegrader": {
          "config_key": "code.response",
          "editable": true,
          "label": "Response: Code",
          "respondable": true,
          "response": null,
          "runnable": true,
          "type": "code"
        },
        "trusted": true
      },
      "outputs": [],
      "source": "# run and update\nplot5 <- gf_histogram(~sample_5) %>%\n  gf_labs(title = \"Sample 5: Pop A=?, B=?, C=?\") \n\nplot5"
    },
    {
      "cell_type": "markdown",
      "metadata": {
        "cell_id": "3e0cf81a65114300be9100b4d6af3706",
        "deepnote_cell_type": "markdown"
      },
      "source": "<div class=\"guided-notes\">\n\n### 2.8 Record the vote for sample_5 \n</div>"
    },
    {
      "cell_type": "code",
      "execution_count": null,
      "metadata": {
        "cell_id": "10febb0151934ed1990e9afece590f1e",
        "deepnote_cell_type": "code",
        "nbsimplegrader": {
          "config_key": "code.response",
          "editable": true,
          "label": "Response: Code",
          "respondable": true,
          "response": null,
          "runnable": true,
          "type": "code"
        },
        "trusted": true
      },
      "outputs": [],
      "source": "# run and update\nplot6 <- gf_histogram(~sample_6) %>%\n  gf_labs(title = \"Sample 6: Pop A=?, B=?, C=?\") \n\nplot6"
    },
    {
      "cell_type": "markdown",
      "metadata": {
        "cell_id": "b1c002e21a184a33b0d07dd34f8c7ca2",
        "deepnote_cell_type": "markdown"
      },
      "source": "<div class=\"guided-notes\">\n\n### 2.9 Record the vote for sample_6 \n</div>"
    },
    {
      "cell_type": "markdown",
      "metadata": {
        "cell_id": "7b16e736609f43f8834cf5b9ab003d67",
        "deepnote_cell_type": "markdown"
      },
      "source": "<div class=\"discussion-question\">\n\n<h3>2.10 Key Discussion Questions: Review the vote totals for each sample. Which samples had less agreement? Why do you think this is?\n\n</div>\n"
    },
    {
      "cell_type": "code",
      "execution_count": null,
      "metadata": {
        "cell_id": "7558ef83f56c4bb58b35680dc8f48129",
        "deepnote_cell_type": "code",
        "trusted": true
      },
      "outputs": [],
      "source": "# run this code to look at all 6 plots at once\n# resizes the plot\noptions(repr.plot.width = 6*2.5, repr.plot.height = 4*2)\n\n# makes a grid of our 6 plots\ngrid.arrange(plot1, plot2, plot3, \n             plot4, plot5, plot6, nrow=2)\n\n# resizes plots back to default\noptions(repr.plot.width = 6, repr.plot.height = 4)"
    },
    {
      "cell_type": "markdown",
      "metadata": {
        "cell_id": "6557be9a2bef4b34902a4efda0ae4c42",
        "deepnote_cell_type": "markdown"
      },
      "source": "<div class=\"discussion-question\">\n\n<h3>2.11 Key Discussion Questions: Where did we get the population wrong?</h3>\n\nTake a look at the figure below which shows you which sample came from which population. You may want to circle the correct population in your guided notes to help compare with our original guesses.\n\n- For which samples did we misidentify the population?\n- What about the sample led us astray?\n- What does this activity show about trying to infer a population from a small sample (n=20)?\n\n</div>"
    },
    {
      "cell_type": "markdown",
      "metadata": {
        "cell_id": "cbe635c2a31943958e8d938824082b62",
        "deepnote_cell_type": "markdown"
      },
      "source": "<img src=\"https://coursekata-course-assets.s3.us-west-1.amazonaws.com/UCLATALL/czi-stats-course/3.10-3.13-pop-answers2.jpg\" alt=\"sample 1 is from pop C, sample 2 is from pop B, sample 3 is from pop A, sample 4 is from pop X, sample 5 is from pop X, sample 6 is from pop X\">"
    },
    {
      "cell_type": "markdown",
      "metadata": {
        "cell_id": "aca948646c96454c8052e0482cc55c4a",
        "deepnote_cell_type": "markdown"
      },
      "source": "<div class=\"teacher-note\">\n<b>Teacher Note:</b>\n\n- Reassure students that it’s okay if their guesses didn’t match the actual populations. This activity is meant to demonstrate how difficult inference is in the real world of data analysis. Samples, especially small samples, often don't look like the populations from which they were drawn.\n- Highlight the limitations of small samples: Even using reasonable logic (matching the rough shape of the sample to the population), they can get tripped up because small samples can still look very different from the populations they came from.\n\n</div>\n"
    },
    {
      "cell_type": "markdown",
      "metadata": {
        "cell_id": "e2467c75b25c49ea9759df6e805e9dc4",
        "deepnote_cell_type": "markdown"
      },
      "source": "<div class=\"guided-notes\">\n\n### 2.12 If we see a small sample of data with a distribution that appears skewed to the right, what can we assume about the population? \n\nOther than the shape of the population distribution, what else might explain the skewed shape of the sample?\n    \n</div>"
    },
    {
      "cell_type": "markdown",
      "metadata": {
        "cell_id": "b78a12a34c05419cb75ccdf04a6d34ef",
        "deepnote_cell_type": "markdown"
      },
      "source": "<div class=\"teacher-note\">\n\n<b>Sample Responses:</b>\n\n- Can’t assume the population is skewed. The skew could be due to random sampling.\n- The population might be skewed, but it also might not be.\n- Small samples vary a lot, so even a skewed-looking sample could come from a non-skewed population. \n\n</div>\n"
    },
    {
      "cell_type": "markdown",
      "metadata": {
        "cell_id": "3bdc8aecace644b08c7ef73ce4fead76",
        "deepnote_cell_type": "markdown"
      },
      "source": "## 3 From Populations to Samples: the Power of Simulation\n\nAs we’ve seen, it’s hard to draw conclusions about a population from a single small sample—especially in real life data analysis where we can *never* directly study the population. That’s where simulation comes in.\n\nUsing R, we can make assumptions about a population and simulate multiple samples from it. By examining the many “children” produced by a single “parent,” we can explore whether our actual sample could plausibly have come from that population—or if it seems unlikely."
    },
    {
      "cell_type": "markdown",
      "metadata": {
        "cell_id": "ff4dd7217eb54985b7a1fc6fa1936bbd",
        "deepnote_cell_type": "markdown"
      },
      "source": "<img src=\"https://coursekata-course-assets.s3.us-west-1.amazonaws.com/UCLATALL/czi-stats-course/3.10-3.13-pop-sim-samples.jpg\" alt=\"We can simulate random samples from a population\" width = 75%>"
    },
    {
      "cell_type": "markdown",
      "metadata": {
        "cell_id": "8afaf8fc3d4d4205bd33a2099ff83a3e",
        "deepnote_cell_type": "markdown"
      },
      "source": "### 3.1 Edit the code to view `pop_a` in a histogram.\n\nEach of the populations you saw earlier (normal, uniform, and skewed) is stored in a vector of 10,000 values: `pop_a`, `pop_b`, and `pop_c`.\n\nLet’s start by visualizing Population A."
    },
    {
      "cell_type": "code",
      "execution_count": null,
      "metadata": {
        "cell_id": "e5969e5d5eac42499448b58925e38bd9",
        "deepnote_cell_type": "code",
        "scrolled": false,
        "trusted": true
      },
      "outputs": [],
      "source": "# edit this code\n#gf_histogram(~vector, fill = \"purple\")\n\n# sample response\ngf_histogram(~pop_a, fill = \"purple\")"
    },
    {
      "cell_type": "markdown",
      "metadata": {
        "cell_id": "6e2a20d0309b4122b0bdf19b0c89aea3",
        "deepnote_cell_type": "markdown"
      },
      "source": "<div class=\"discussion-question\">\n    <h3>3.2 Key Discussion Question: How would you describe the distribution of <code>pop_a</code>?</h3> Think about shape, center, spread, and weird things.\n</div> "
    },
    {
      "cell_type": "markdown",
      "metadata": {
        "cell_id": "ffa2b914d059454ca7ccf7320abd9d2c",
        "deepnote_cell_type": "markdown"
      },
      "source": "### 3.3 Write code to simulate a random sample of n=20 from `pop_a`\n\nWe will use the `sample()` function in R: <code>sample(&lt;vector&gt;, &lt;sample size&gt;)</code>. This function takes a random sample of a specified sample size from a population saved in a vector.\n"
    },
    {
      "cell_type": "code",
      "execution_count": null,
      "metadata": {
        "cell_id": "83d524f8af774890be9ad9e2e0ec453f",
        "deepnote_cell_type": "code",
        "trusted": true
      },
      "outputs": [],
      "source": "# write code\n\n#sample response\nsample(pop_a, 20)\n"
    },
    {
      "cell_type": "markdown",
      "metadata": {
        "cell_id": "28b2df0759e746459173682586cd2de9",
        "deepnote_cell_type": "markdown"
      },
      "source": "<div class=\"teacher-note\">\n<b>Teacher Note:</b> Try to help the students go from the general structure <code>sample(&lt;vector&gt;, &lt;sample size&gt;)</code> to filling in the name of the vector <code>pop_a</code> and the desired sample size <code>20</code>. This will help them improve their ability to read R documentation. Make sure students notice that the result of the sample function is a list of 20 numbers sampled from the <code>pop_a</code> vector.\n</div>"
    },
    {
      "cell_type": "markdown",
      "metadata": {
        "cell_id": "78dc164af0f74420a6bfe1b3048003f9",
        "deepnote_cell_type": "markdown"
      },
      "source": "<div class=\"guided-notes\">\n\n### 3.4 Write R code to make a histogram of the sample of 20 from `pop_a`\n\nNow take the sample you created and put it inside the `gf_histogram()` function to graph the distribution of your sample.\n    \n</div>"
    },
    {
      "cell_type": "code",
      "execution_count": null,
      "metadata": {
        "cell_id": "350d4e4eafc7433d985dc7e9dfd2d024",
        "deepnote_cell_type": "code",
        "trusted": true
      },
      "outputs": [],
      "source": "# revise this code\n# sample(pop_a, 20)\ngf_histogram(~ sample(pop_a, 20))"
    },
    {
      "cell_type": "markdown",
      "metadata": {
        "cell_id": "ccab74531b0a4120a0b62513d31a8761",
        "deepnote_cell_type": "markdown"
      },
      "source": "### 3.5 What do you predict will happen if we run the code above again? \n\nWill we get the same distribution? Why or why not?\n"
    },
    {
      "cell_type": "markdown",
      "metadata": {
        "cell_id": "23b89f63814d4d14951c1b952da60cd8",
        "deepnote_cell_type": "markdown"
      },
      "source": "<div class=\"guided-notes\">\n    <h3>3.6 Go ahead and run that code again and again. What sample shapes do you observe?</h3> The image below contains the population and some examples of simulated samples to help with discussion.\n</div> "
    },
    {
      "cell_type": "markdown",
      "metadata": {
        "cell_id": "687ebe24d95b48de92e36243f97960cb",
        "deepnote_cell_type": "markdown"
      },
      "source": "<img src=\"https://coursekata-course-assets.s3.us-west-1.amazonaws.com/UCLATALL/czi-stats-course/3.10-3.13-pop-a-and-11-samples.jpg\" width=\"100%\">"
    },
    {
      "cell_type": "markdown",
      "metadata": {
        "cell_id": "ef0920c8e8b747ee86984bc127238126",
        "deepnote_cell_type": "markdown"
      },
      "source": "<div class=\"guided-notes\">\n\n### 3.7 If we assume that a population is normally distributed, what can we predict about random samples from it? \nWhat do you think causes some samples to look different from the population?\n    \n</div>"
    },
    {
      "cell_type": "markdown",
      "metadata": {
        "cell_id": "5ac502188a074152b3449c6258c1e207",
        "deepnote_cell_type": "markdown"
      },
      "source": "<div class=\"teacher-note\">\n\n<b>Sample Responses:</b>\n\n- Some samples will look roughly normal, but not all—especially if the sample is small.\n- Some samples might look skewed or uneven just because of randomness.\n- Random sampling causes some samples to look different from the population.\n\n</div>\n"
    },
    {
      "cell_type": "markdown",
      "metadata": {
        "cell_id": "0f2077fdc92548338b9b8db23669a432",
        "deepnote_cell_type": "markdown"
      },
      "source": "## 4 How Does Sample Size Affect Shape of the Sample Distribution?\nWe have seen that small samples may not represent the distribution of the population from which they are sampled. But how small is small? How big would a sample need to be for you to be confident that you can tell the shape of the population distribution?\n\n### 4.1 Let's try different sample sizes simulated from the normal population (`pop_a`)\nIn the code cell below, try samples of 20, 50, and 500. Run each sample size multiple times and see what you notice."
    },
    {
      "cell_type": "code",
      "execution_count": null,
      "metadata": {
        "cell_id": "7176776917684acbb7e0316f6f4edb9d",
        "deepnote_cell_type": "code",
        "scrolled": false,
        "trusted": true
      },
      "outputs": [],
      "source": "# change the sample size, run multiple times, look at the result\n# try samples of 20, 50, and 500\ngf_histogram(~ sample(pop_a, 20))\n"
    },
    {
      "cell_type": "markdown",
      "metadata": {
        "cell_id": "4c81b57956d84537aa697e099236f82d",
        "deepnote_cell_type": "markdown"
      },
      "source": "<div class=\"discussion-question\">\n    <h3>4.2 What sample sizes seem to better represent the population distribution?</h3> What do you notice about multiple samples of 20 compared to multiple samples of 500? The image below contains a row of n=20, n=50, and n=500 samples to help with discussion.\n</div> "
    },
    {
      "cell_type": "markdown",
      "metadata": {
        "cell_id": "2bcd7b079f934241bba82eb71713fed1",
        "deepnote_cell_type": "markdown"
      },
      "source": "<img src=\"https://coursekata-course-assets.s3.us-west-1.amazonaws.com/UCLATALL/czi-stats-course/3.10-3.13-pop-a-20-50-500.jpg\" width=\"100%\">"
    },
    {
      "cell_type": "markdown",
      "metadata": {
        "cell_id": "925048d97ee04e39871be15d9b787b59",
        "deepnote_cell_type": "markdown"
      },
      "source": "<div class=\"teacher-note\">\n<b>Teacher Note:</b> We want students to notice that whereas multiple samples of n=20 seem to vary a lot in shape across multiple runs, multiple samples of n=500 all seem to well represent the normal shape of the parent population.\n</div>"
    },
    {
      "cell_type": "markdown",
      "metadata": {
        "cell_id": "5e7787aec6724e1384bb51dd129a1d20",
        "deepnote_cell_type": "markdown"
      },
      "source": "## 5 Practice What You've Learned\n\nSo far we've been sampling from `pop_a`, which is normal in shape. Try taking random samples of different sizes from `pop_b` (uniform in shape) and `pop_c` (exponential in shape, skewed to the right). \n\nFor each population, make a histogram of the parent population, then histograms of random samples of different sizes. Try drawing small samples (n = 20), medium samples (n=50), and large samples (n = 500) from each population and compare their shapes to the shape of the population.\n\n### 5.1 Look at `pop_b` and its samples (n=20, 50, 500)"
    },
    {
      "cell_type": "code",
      "execution_count": null,
      "metadata": {
        "cell_id": "63c274eb9d6d4c85a34a9c6af1f25810",
        "deepnote_cell_type": "code",
        "nbsimplegrader": {
          "config_key": "code.response",
          "editable": true,
          "label": "Response: Code",
          "respondable": true,
          "response": null,
          "runnable": true,
          "type": "code"
        },
        "trusted": true
      },
      "outputs": [],
      "source": "# edit this\ngf_histogram(~ pop_b)\n\n# sample code\ngf_histogram(~ sample(pop_b,20))\ngf_histogram(~ sample(pop_b,50))\ngf_histogram(~ sample(pop_b,500))"
    },
    {
      "cell_type": "markdown",
      "metadata": {
        "cell_id": "1b6b451581a74e259660dc92757e853e",
        "deepnote_cell_type": "markdown"
      },
      "source": "<div class=\"guided-notes\">\n    <h3>5.2 Write down the code you tested and describe the shapes of the sample distributions</h3>\n</div> "
    },
    {
      "cell_type": "markdown",
      "metadata": {
        "cell_id": "f43e6187df5a4978ac56917199eb15dc",
        "deepnote_cell_type": "markdown"
      },
      "source": "### 5.3 Look at `pop_c` and its samples (n=20, 50, 500)"
    },
    {
      "cell_type": "code",
      "execution_count": null,
      "metadata": {
        "cell_id": "5c8b198a8654465bbd21fabee9b7a94a",
        "deepnote_cell_type": "code",
        "nbsimplegrader": {
          "config_key": "code.response",
          "editable": true,
          "label": "Response: Code",
          "respondable": true,
          "response": null,
          "runnable": true,
          "type": "code"
        },
        "trusted": true
      },
      "outputs": [],
      "source": "# edit this\ngf_histogram(~ pop_c)\n\n# sample code\ngf_histogram(~ sample(pop_c,20))\ngf_histogram(~ sample(pop_c,50))\ngf_histogram(~ sample(pop_c,500))"
    },
    {
      "cell_type": "markdown",
      "metadata": {
        "cell_id": "7d397b80e3334b409ceccecd7f79f64e",
        "deepnote_cell_type": "markdown"
      },
      "source": "<div class=\"guided-notes\">\n    <h3>5.4 Write down the code you tested and describe the shapes of the sample distributions.</h3>\n</div> "
    },
    {
      "cell_type": "markdown",
      "metadata": {
        "cell_id": "108efe17f022467790dbbc92046ceecc",
        "deepnote_cell_type": "markdown"
      },
      "source": "<div class=\"teacher-note\">\n<b>Teacher Note:</b> \n\nSection 6 is an optional section—best for students (or instructors) who are curious about how we created the population distributions used earlier in the lesson.\n\nIt’s also an opportunity to introduce a subtle but important distinction:  \n- A Data Generating Process (DGP) refers to the real-world **causes** of variation and can include everything from things like genes, psychological causes, social mechanisms, to sampling methodology.  \n- A simulation is a *model of a DGP*. It helps us study patterns of variation, but it’s not the real thing.\n\nThis may be a challenging concept, especially because students are still getting comfortable with what a DGP is. If it feels like too big a leap, you can skip this section for now or assign it as a separate bonus notebook.\n\n</div>\n"
    },
    {
      "cell_type": "markdown",
      "metadata": {
        "cell_id": "53255a822ab3475b853d9ede1ec4ced6",
        "deepnote_cell_type": "markdown"
      },
      "source": "## 6 Extra: Where Did the Populations We Sampled From Come From?\n\nWe used three populations of 10,000 in this lesson: `pop_a`, `pop_b`, and `pop_c`, Each was in its own vector. We learned how to randomly sample from these populations using the `sample()` function. But how did we get these 10,000 data points to begin with?\n\nThe answer is: we simulated them. They are not from “real” populations. Instead, we used functions in R to generate data that come from different population shapes (normal, uniform, exponential). These simulations are not the real-world DGPs. We use simulation as a technique to *model* how a population with a certain shape might be generated.\n\nFor example, to model a normal population, we used the function `rnorm()`, which generates values from a theoretical normal distribution with particular features (the default features are a mean of 0 and a standard deviation of 1)."
    },
    {
      "cell_type": "markdown",
      "metadata": {
        "cell_id": "32ec7a5b0b2c40e7917937aa8d71387f",
        "deepnote_cell_type": "markdown"
      },
      "source": "### 6.1 Try generating random samples from a normal distribution using <code>rnorm(&lt;sample size&gt;)</code> function. Try generating samples that are small (like 10 or 20) or very large (like 500 or 1000).\n\nThe code below generates 10 random values from a normal distribution and graphs them in a histogram. "
    },
    {
      "cell_type": "code",
      "execution_count": null,
      "metadata": {
        "cell_id": "bd6cd18e89994c639604f5f29c70febb",
        "deepnote_cell_type": "code",
        "nbsimplegrader": {
          "config_key": "code.response",
          "editable": true,
          "label": "Response: Code",
          "respondable": true,
          "response": null,
          "runnable": true,
          "type": "code"
        },
        "scrolled": false,
        "trusted": true
      },
      "outputs": [],
      "source": "# edit this code\ngf_histogram(~ rnorm(10))"
    },
    {
      "cell_type": "markdown",
      "metadata": {
        "cell_id": "8cec483a15be48039200bdac95b31d80",
        "deepnote_cell_type": "markdown"
      },
      "source": "### 6.2 Try generating samples from a uniform distribution using <code>runif(&lt;sample size&gt;)</code>.  Try generating samples that are small (like 10 or 20) or very large (like 500 or 1000).\nThe code below generates 10 values from a uniform distribution, where all values in a range are equally likely."
    },
    {
      "cell_type": "code",
      "execution_count": null,
      "metadata": {
        "cell_id": "1a315f13872145f7bcc592a7b269ef56",
        "deepnote_cell_type": "code",
        "trusted": true
      },
      "outputs": [],
      "source": "# edit this code\ngf_histogram(~runif(5))"
    },
    {
      "cell_type": "markdown",
      "metadata": {
        "cell_id": "840f395439374046a5945c9086ddac34",
        "deepnote_cell_type": "markdown"
      },
      "source": "### 6.3 Try generating samples from an exponential (skewed) distribution using <code>rexp(&lt;sample size&gt;)</code>.  Try generating samples that are small (like 10 or 20) or very large (like 500 or 1000).\n\nThe code below generates 10 values from an exponential (skewed) distribution."
    },
    {
      "cell_type": "code",
      "execution_count": null,
      "metadata": {
        "cell_id": "2769b3288f014a3bbc581f75b1ddfd4d",
        "deepnote_cell_type": "code",
        "trusted": true
      },
      "outputs": [],
      "source": "# edit this code\ngf_histogram(~rexp(5))"
    }
  ],
  "metadata": {
    "deepnote_notebook_id": "e62402c8254f44fb89a6101dbdc3c86f",
    "kernelspec": {
      "display_name": "R",
      "language": "R",
      "name": "ir"
    },
    "language_info": {
      "codemirror_mode": "r",
      "file_extension": ".r",
      "mimetype": "text/x-r-source",
      "name": "R",
      "pygments_lexer": "r",
      "version": "4.3.3"
    },
    "nbsimplegrader": {
      "publish_config": {
        "classes": [],
        "options": [],
        "tools": []
      }
    }
  },
  "nbformat": 4,
  "nbformat_minor": 1
}