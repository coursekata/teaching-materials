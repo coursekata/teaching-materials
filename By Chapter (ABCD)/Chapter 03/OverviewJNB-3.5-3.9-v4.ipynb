{
  "cells": [
    {
      "cell_type": "markdown",
      "metadata": {
        "cell_id": "00b4e45f9f3c4066bfb9dba80f2a5ed6",
        "deepnote_cell_type": "markdown"
      },
      "source": "# Boxplots and the Five-Number Summary\n\n## Chapter 3.5-3.9 Overview Notebook"
    },
    {
      "cell_type": "code",
      "execution_count": null,
      "metadata": {
        "cell_id": "99e4b9d43967484b8658e2bcf688c3cf",
        "deepnote_cell_type": "code",
        "scrolled": true,
        "trusted": true
      },
      "outputs": [],
      "source": "# run this to set up the notebook\nsuppressMessages(library(coursekata))\n\n# read in a subset of the New Zealand Census at School data set\nnz_census <- read.csv(\"https://docs.google.com/spreadsheets/d/e/2PACX-1vRvwncL5kF1-Y5nLEj7JeN6FzXQB2_CcelCHTLq-Ow05u4Fbsgii2PRByRIv7atjk_IrPVt92I4mPyG/pub?output=csv\") %>%\n  select(region, gender, age, time_standing_on_left_leg, height, travel_time_to_school, bag_weight, left_foot_length, sleep_time) %>%\n  filter(region %in% c(\"Auckland\", \"Bay of Plenty\", \"Canterbury\",\"Otago\")) %>%\n  rename(\"time_standing\" = \"time_standing_on_left_leg\")\n\nregion <- c(\"Auckland\", \"Bay of Plenty\", \"Canterbury\",\"Otago\")\n\n# set styles\ncss <- suppressWarnings(readLines(\"https://raw.githubusercontent.com/jimstigler/jupyter/master/ck_jupyter_styles_v2.css\"))\nIRdisplay::display_html(sprintf('<style>%s</style>', paste(css, collapse = \"\\n\")))"
    },
    {
      "cell_type": "markdown",
      "metadata": {
        "cell_id": "cbfa39a36c804f49bcae3fe4be287f82",
        "deepnote_cell_type": "markdown"
      },
      "source": "## 1. Remember the `time_standing` Variable?\n\nWe've looked at this variable before (we called it `time_standing_on_left_leg` but we're just shortened the name). Remember Ram Phal? He holds the world record for standing on one leg blindfolded, which he did for 2 hours and 21 minutes! (<a href=\"https://www.guinnessworldrecords.com/news/2024/8/blindfolded-indian-man-balances-on-one-leg-for-record-breaking-time\">Guiness Book of World Records</a>, August, 2024.) \n\n**Who cares how long you can stand on one leg?** It turns out, the amount of time you can balance on one leg declines with age, and in older adults it is actually a predictor of longevity! <br><br>\n\n<img src=\"https://coursekata-course-assets.s3.us-west-1.amazonaws.com/UCLATALL/czi-stats-course/stand-one-leg.png\" >\n\nA distribution shows the pattern of variation in a variable—for example, the number of seconds different people can stand on one leg (not just one person’s time).\n\n**So far in Chapter 3, we’ve explored three ways to view a distribution:**\n- A list of values (unsorted)\n- A list of values (sorted)\n- A histogram\n\n**Today, we’ll explore a few more:**\n- The five-number summary\n- A box plot\n- A bar graph"
    },
    {
      "cell_type": "markdown",
      "metadata": {
        "cell_id": "f13972dcf63749249062439e8f63bd3a",
        "deepnote_cell_type": "markdown"
      },
      "source": "## 2. The Five-Number Summary\n\n### Starting with a Small Data Set  \n\nTo introduce the five-number summary, we will start with a set of data from **20 New Zealand high school students**. The data represent how many seconds each student was able to stand on their left leg with their eyes closed.  \n\n### Run the code in the cell below to load the 20 data points in a vector called `time_standing`"
    },
    {
      "cell_type": "code",
      "execution_count": null,
      "metadata": {
        "cell_id": "63ea43a9a62e4c3b84fcd3f5ad4cb210",
        "deepnote_cell_type": "code",
        "trusted": true
      },
      "outputs": [],
      "source": "# run this code to input the data into R\ntime_standing <- c(15, 30, 5, 21, 25, 50, 18, 11, 17, 10, \n                   19, 39, 20, 30, 4, 36, 12, 19, 47, 20)"
    },
    {
      "cell_type": "markdown",
      "metadata": {
        "cell_id": "27b9d5c58b304c1eb7c360ada799050b",
        "deepnote_cell_type": "markdown"
      },
      "source": "### 2.1 Review Some Ways to View the Distribution  \n\nBefore we introduce new ways of summarizing the data, let’s review three ways we have learned to look at a distribution in R:\n- Display the list of data points **unsorted**  \n- Display the list of data points **sorted**  \n- Create a **histogram** of the data points"
    },
    {
      "cell_type": "markdown",
      "metadata": {
        "cell_id": "de778f341677408fa51ee9d757290fcc",
        "deepnote_cell_type": "markdown"
      },
      "source": "<div class=\"guided-notes\">\n    <h3>2.2 Write the R code to examine the distribution of <code>time_standing</code> in three ways</h3> \n    As an <b>unsorted list</b>, a <b>sorted list</b>, and as a <b>histogram</b>.\n</div>"
    },
    {
      "cell_type": "code",
      "execution_count": null,
      "metadata": {
        "cell_id": "f56351ab7e9547849bae819ead4712df",
        "deepnote_cell_type": "code",
        "nbsimplegrader": {
          "config_key": "code.response",
          "editable": true,
          "label": "Response: Code",
          "respondable": true,
          "response": null,
          "runnable": true,
          "type": "code"
        },
        "trusted": true
      },
      "outputs": [],
      "source": "# write code to view the distribution unsorted (as is)\n\n\n# write code to view the distribution sorted\n\n\n# write code to view the distribution as a histogram\n"
    },
    {
      "cell_type": "markdown",
      "metadata": {
        "cell_id": "b450690baa67419b929759c37d59968a",
        "deepnote_cell_type": "markdown"
      },
      "source": "### 2.3 What is the Five-Number Summary?  \n\nThe **five-number summary** describes key points in a distribution:  \n\n- **Q0 (Minimum)** – The smallest value  \n- **Q1**  \n- **Q2 (Median)** – The middle value of the distribution  \n- **Q3**  \n- **Q4 (Maximum)** – The largest value  \n\nThe `favstats()` function in R is an easy way to get the five-number summary. Let's get the five-number summary for `time_standing`, and then see what each of the five numbers means. "
    },
    {
      "cell_type": "markdown",
      "metadata": {
        "cell_id": "a893d9d7e51a4818a721324c7298b8fd",
        "deepnote_cell_type": "markdown"
      },
      "source": "<div class=\"guided-notes\">\n    <h3>2.4 Write the R code to calculate the five-number summary for <code>time_standing</code></h3> \n</div>"
    },
    {
      "cell_type": "code",
      "execution_count": null,
      "metadata": {
        "cell_id": "34cbe049ec424876a5abd8cd924f4b78",
        "deepnote_cell_type": "code",
        "nbsimplegrader": {
          "config_key": "code.response",
          "editable": true,
          "label": "Response: Code",
          "respondable": true,
          "response": null,
          "runnable": true,
          "type": "code"
        },
        "scrolled": true,
        "trusted": true
      },
      "outputs": [],
      "source": "# code here\n"
    },
    {
      "cell_type": "markdown",
      "metadata": {
        "cell_id": "8397b37fb65748f1a48dc49abb8f39db",
        "deepnote_cell_type": "markdown"
      },
      "source": "<div class=\"guided-notes\">\n    <h3>2.5 Find the minimum and maximum</h3> \n    Circle the five numbers that constitute the <i>five-number summary</i> in the favstats output. Then, draw two dots on the x-axis of the histogram to show where the min and max are.\n</div> "
    },
    {
      "cell_type": "markdown",
      "metadata": {
        "cell_id": "c34fd274cbf64238b72bd63bc6555b8b",
        "deepnote_cell_type": "markdown"
      },
      "source": "## 3. The Median\nThe median is the middle value in the distribution. You can find the median by putting the values in order, then finding the middle value. If there are an odd number of values, the median is the middle value. If there are an even number of values, the median is the average of the middle two numbers. \n\n<p align=\"center\" style=\"text-align: center;\"><img src=\"https://coursekata-course-assets.s3.us-west-1.amazonaws.com/UCLATALL/czi-stats-course/1sbWX4tc.png\" width=95% alt=\"The two halves of data points have ovals drawn around them to indicate that they are groups; Min, Median, and Max are drawn as lines\" /></p>"
    },
    {
      "cell_type": "markdown",
      "metadata": {
        "cell_id": "7875a4f57e1f48ff93ce3bd217c5e119",
        "deepnote_cell_type": "markdown"
      },
      "source": "<div class=\"guided-notes\">\n    <h3>3.1 Calculate the median</h3>\n    Use the 20 data points for time_standing to calculate the median yourself. Then, compare it to the median from favstats. Draw a dot on the x-axis of the histogram to show where the median is.\n</div> "
    },
    {
      "cell_type": "markdown",
      "metadata": {
        "cell_id": "c6bee998fa5749d28612c23717c4b9a4",
        "deepnote_cell_type": "markdown"
      },
      "source": "**Here are the data for `time_standing` sorted in order:** <br><br>\n\n<span style=\"font-size: 26px; padding: 5px; display: block; text-align: center; margin: 10px auto; width: fit-content;\">\n  4, 5, 10, 11, 12, 15, 17, 18, 19, 19, 20, 20, 21, 25, 30, 30, 36, 39, 47, 50\n</span>"
    },
    {
      "cell_type": "markdown",
      "metadata": {
        "cell_id": "7477855a49914994a95a617d01e231fc",
        "deepnote_cell_type": "markdown"
      },
      "source": "## 4. Q1 and Q3\nWe've looked at min, max, and median. The remaining two numbers in the *five-number summary* are labeled Q1 and Q3. **The easiest way to think of Q1 is as the middle of the lower half of the distribution. And Q3 is the middle of the upper half.** \n\n<p align=\"center\" style=\"text-align: center;\"><img src=\"https://coursekata-course-assets.s3.us-west-1.amazonaws.com/UCLATALL/czi-stats-course/p2BbKK5t.png\" width=95% alt=\"Q0 through Q4 drawn to cut the dot plot into four equal groups of data points\" /></p>\n\nThere are many different ways to calculate Q1 and Q3 because there are many ways to interpret the word \"middle\". For this reason, your manual calculation based on finding the median of the lower half of scores, for example, may not match what R calculates as the value of Q1. R actually gives you nine different options for calculating Q1 and Q3! The `favstats()` function uses the method most widely used by statisticians (R refers to this method as `type=7`); in general we will use that one."
    },
    {
      "cell_type": "markdown",
      "metadata": {
        "cell_id": "077963ab4b984e71a922e1f50c4829bc",
        "deepnote_cell_type": "markdown"
      },
      "source": "<div class=\"guided-notes\">\n    <h3>4.1 Label Q1 and Q3 in your histogram</h3>\n    Draw two dots on the x-axis of the histogram to show where Q1 and Q3 are.\n</div> "
    },
    {
      "cell_type": "code",
      "execution_count": null,
      "metadata": {
        "cell_id": "28669e6dbe6b439f8b4618f7ff37727a",
        "deepnote_cell_type": "code",
        "trusted": true
      },
      "outputs": [],
      "source": "# run this to see what it might look like \n# to align the histogram with the five number summary\ntime_favstats <- favstats(time_standing)\n\ngf_histogram(~ time_standing) %>%\n  gf_point(0 ~ time_favstats$min)%>%\n  gf_point(0 ~ time_favstats$Q1)%>%\n  gf_point(0 ~ time_favstats$median)%>%\n  gf_point(0 ~ time_favstats$Q3)%>%\n  gf_point(0 ~ time_favstats$max)"
    },
    {
      "cell_type": "markdown",
      "metadata": {
        "cell_id": "a514e0dca3244ad491c11cb2c9b275dc",
        "deepnote_cell_type": "markdown"
      },
      "source": "Together, the three middle cutpoints - Q1, Q2 (the median), and Q3 - divide the distribution into four parts, each containing the same number of scores. These four parts are called *quartiles*. \n\n<br>\n<div class=\"guided-notes\">\n    <h3>4.2 Shade the 1st quartile in your histogram</h3> \n    Shade the quartile that contains the lowest 25% of values. How many data points are in that quartile? \n</div>"
    },
    {
      "cell_type": "code",
      "execution_count": null,
      "metadata": {
        "cell_id": "e99aa91607404b73919d8fcecbc9fc4d",
        "deepnote_cell_type": "code",
        "trusted": true
      },
      "outputs": [],
      "source": "# run this to see what it might look like to \n# shade the 1st quartile differently\ntime_favstats <- favstats(time_standing)\n\ngf_histogram(~ time_standing, boundary = 0, binwidth = 2,\n            fill = ~(time_standing < time_favstats$Q1),\n            show.legend = FALSE) "
    },
    {
      "cell_type": "markdown",
      "metadata": {
        "cell_id": "ee0efda1926849189a496daa48996c09",
        "deepnote_cell_type": "markdown"
      },
      "source": "<div class=\"discussion-question\">\n<h3>4.3 Key Discussion Question: Why are there 5 numbers in the five-number summary but there are only 4 quartiles?</h3>\n</div>"
    },
    {
      "cell_type": "markdown",
      "metadata": {
        "cell_id": "8e8371d6b06c4f129486aa118195d299",
        "deepnote_cell_type": "markdown"
      },
      "source": "## 5. Boxplots\nBoxplots are a handy way to visualize the distribution because it will visually represent the five-number summary. "
    },
    {
      "cell_type": "markdown",
      "metadata": {
        "cell_id": "120e0c4651b3450c970ee64404e187c0",
        "deepnote_cell_type": "markdown"
      },
      "source": "<div class=\"guided-notes\">\n    <h3>5.1 Write the R code for viewing a distribution as a boxplot</h3>\n     Note that the R code to make a box plot is very similar to the code for making a histogram.\n</div> "
    },
    {
      "cell_type": "code",
      "execution_count": null,
      "metadata": {
        "cell_id": "f7b0f9088f614948af9a4a4822b0ce97",
        "deepnote_cell_type": "code",
        "nbsimplegrader": {
          "config_key": "code.response",
          "editable": true,
          "label": "Response: Code",
          "respondable": true,
          "response": null,
          "runnable": true,
          "type": "code"
        },
        "scrolled": false,
        "trusted": true
      },
      "outputs": [],
      "source": "# write code to create a boxplot\n\n"
    },
    {
      "cell_type": "markdown",
      "metadata": {
        "cell_id": "83cc7015262b4c5c86805297624ca176",
        "deepnote_cell_type": "markdown"
      },
      "source": "<div class=\"guided-notes\">\n    <h3>5.2 Draw lines from each part of the five-number summary to the corresponding point where it is represented in the boxplot</h3>\n</div> "
    },
    {
      "cell_type": "markdown",
      "metadata": {
        "cell_id": "b36886df5f5f4e4f9af4f56837141bd0",
        "deepnote_cell_type": "markdown"
      },
      "source": "<img src=\"https://coursekata-course-assets.s3.us-west-1.amazonaws.com/UCLATALL/czi-stats-course/boxplot-time-standing-2.png\" width = 60%>"
    },
    {
      "cell_type": "markdown",
      "metadata": {
        "cell_id": "d4ef5fa61a464b50afb7406bb8e2edcb",
        "deepnote_cell_type": "markdown"
      },
      "source": "<div class=\"discussion-question\">\n<h3>5.3 Key Discussion Question: How many observations are inside the left green rectangle? How many in the right rectangle?\n</div>"
    },
    {
      "cell_type": "markdown",
      "metadata": {
        "cell_id": "e0fb4600c5774ebf8a3a033d6f6bdb2f",
        "deepnote_cell_type": "markdown"
      },
      "source": "### 5.4 New Distributions: `student1` and `student2`\n\nTwo friends, student1 and student2, each tried balancing on their left leg 20 times with their eyes closed and recorded their times. Run the code in the cell below to save their data into two vectors, called `student1` and `student2`. "
    },
    {
      "cell_type": "code",
      "execution_count": null,
      "metadata": {
        "cell_id": "58eb26b0fb934c7a9f26eba1a1543575",
        "deepnote_cell_type": "code",
        "trusted": true
      },
      "outputs": [],
      "source": "# Run this code to save the two students' times \nstudent1 <- c(189, 184.8, 198.1, 185.2, 192.1, 176.1, 182.3, 192.9, 190.1, 190, 172, 158.1, 161.7, 190.8, 194.7, 183.1, 155, 187.4, 160.1, 167.5)\nstudent2 <- c(11,15,2,15,8,24,18,7,10,10,28,42,38,9,5,17,45,13,40,32)\n\nprint(\"Why don't these vectors print out?\")"
    },
    {
      "cell_type": "markdown",
      "metadata": {
        "cell_id": "934f52450daa429dacf96bcaeef5493c",
        "deepnote_cell_type": "markdown"
      },
      "source": "<div class=\"guided-notes\">\n    <h3>5.5 Write the R code to create a box plot for each student</h3>\n</div> "
    },
    {
      "cell_type": "code",
      "execution_count": null,
      "metadata": {
        "cell_id": "b3c88b253d234451ae68c6fdee667b55",
        "deepnote_cell_type": "code",
        "nbsimplegrader": {
          "config_key": "code.response",
          "editable": true,
          "label": "Response: Code",
          "respondable": true,
          "response": null,
          "runnable": true,
          "type": "code"
        },
        "scrolled": false,
        "trusted": true
      },
      "outputs": [],
      "source": "# Code here\n\n"
    },
    {
      "cell_type": "markdown",
      "metadata": {
        "cell_id": "1a9782f408634d64a8bdb1e6d75b9d59",
        "deepnote_cell_type": "markdown"
      },
      "source": "<div class=\"discussion-question\">\n<h3>5.6 Key Discussion Question: We've put the two boxplots side by side to make them easier to compare (below). How would you describe the two distributions?\n</div><br>\n\n<img src=\"https://coursekata-course-assets.s3.us-west-1.amazonaws.com/UCLATALL/czi-stats-course/jnb-2boxplots-student1-student2.jpg\" alt=\"student1 and student2's boxplots side-by-side\" width = 100%>"
    },
    {
      "cell_type": "markdown",
      "metadata": {
        "cell_id": "b1cc120fa9e14307b2247393adf478ab",
        "deepnote_cell_type": "markdown"
      },
      "source": "<div class=\"discussion-question\">\n<h3>5.7 <i>Key Discussion Question:</i> Which histogram goes with this box plot? How can you tell?</h3></div> <br>\n\n<img src=\"https://coursekata-course-assets.s3.us-west-1.amazonaws.com/UCLATALL/czi-stats-course/jnb-grid3graphs.jpg\" width = 80%>"
    },
    {
      "cell_type": "markdown",
      "metadata": {
        "cell_id": "a0ac47e3c5fd47d689e65cdd46c7e7f9",
        "deepnote_cell_type": "markdown"
      },
      "source": "### 5.8 Let's find out which histogram belongs to student1 by overlaying the boxplot on a histogram\nRun the code cell below to create a histogram of `student1`. Here's how to overlay a boxplot onto the histogram."
    },
    {
      "cell_type": "code",
      "execution_count": null,
      "metadata": {
        "cell_id": "1d137aa85e2947289b428dd71ac6bad0",
        "deepnote_cell_type": "code",
        "nbsimplegrader": {
          "config_key": "code.response",
          "editable": true,
          "label": "Response: Code",
          "respondable": true,
          "response": null,
          "runnable": true,
          "type": "code"
        },
        "trusted": true
      },
      "outputs": [],
      "source": "# add onto this code\ngf_histogram(~ student1, fill = \"gray15\") "
    },
    {
      "cell_type": "markdown",
      "metadata": {
        "cell_id": "2c28752d02a44e5994181ca0886b6dfd",
        "deepnote_cell_type": "markdown"
      },
      "source": "## 6. Range and Inter-Quartile Range (IQR)\nNow that you understand the five-number summary, we can introduce two useful measures of the *spread* of a distribution. The median tells you where, roughly, the middle of the distribution is along the measurement scale. **Range** and **Inter-Quartile Range (IQR)** tell you how spread out the distribution is (or how much variation there is around the median).\n- The **range** is the distance from Q0 to Q4 (i.e., from the min to the max). It tells you the full range on the measurement scale that is covered by the data points.\n- The **IQR** is the distance from Q1 to Q3. It tells you the range within which 50% of the data points lie."
    },
    {
      "cell_type": "markdown",
      "metadata": {
        "cell_id": "be2c868f8a9b46c4b6d1a63463048f46",
        "deepnote_cell_type": "markdown"
      },
      "source": "<div class=\"guided-notes\">\n    \n### 6.1 On the box plot for student1, draw a bracket or a line to indicate the IQR\n    \nLabel it as the IQR.\n    \n</div>"
    },
    {
      "cell_type": "code",
      "execution_count": null,
      "metadata": {
        "cell_id": "cd0b431506ff45dcb4a597af3b146b1a",
        "deepnote_cell_type": "code",
        "trusted": true
      },
      "outputs": [],
      "source": "# run this code\nfavstats(~student1)\ngf_boxplot(~student1)"
    },
    {
      "cell_type": "markdown",
      "metadata": {
        "cell_id": "906c2d6cc56448049e360606df72edaf",
        "deepnote_cell_type": "markdown"
      },
      "source": "## 7. Outliers\n\nSometimes on a boxplot you will see a data point (or more than one) that lies beyond the end of the whiskers. Run the code below to see an example, from a distribution we'll call `student3`. "
    },
    {
      "cell_type": "code",
      "execution_count": null,
      "metadata": {
        "cell_id": "c39bbb48d9df4812b2a6aa4c34673fa8",
        "deepnote_cell_type": "code",
        "trusted": true
      },
      "outputs": [],
      "source": "# Run this to see an example of an outlier\nstudent3 <- c(189, 184.8, 178.1, 185.2, 192.1, 176.1, 182.3, 192.9, 190.1, 190, 172, 128.1, 161.7, 190.8, 194.7, 183.1, 155, 187.4, 160.1, 167.5)\ngf_boxplot(~ student3)"
    },
    {
      "cell_type": "markdown",
      "metadata": {
        "cell_id": "eb247b4528d34fde8f696ce5a49bb0df",
        "deepnote_cell_type": "markdown"
      },
      "source": "### 7.1 What is an outlier\n\nTypically, the ends of the two whiskers mark the min and max of the distribution. But in this box plot, there’s a point beyond the left whisker—this is actually the smallest value in the dataset. R categorizes this data point as an **outlier**.\n\nOutliers are data points that are much farther from the rest of the distribution. They might come from a different Data Generating Process (DGP) than the rest of the data. For this reason, sometimes researchers will decide to omit outliers from their analyses.\n\n### 7.2 How R defines an outlier\nOutliers are data points that are so far outside of the main part of the distribution that they may not be generated by the same DGP that generated the rest of the data points. Sometimes researchers will decide to omit outliers from their analyses for this reason. There is no one way to define what counts as an outlier, but R uses this definition: **If a data point is more than 1.5 times the IQR below Q1, or more than 1.5 times the IQR above Q3, it is considered an outlier.**"
    },
    {
      "cell_type": "markdown",
      "metadata": {
        "cell_id": "da75499c66cd45db8ad58d9d0693bae1",
        "deepnote_cell_type": "markdown"
      },
      "source": "<div class=\"guided-notes\">\n\n### 7.3 Estimate the IQR for student3's data based on favstats. According to R, how high or low would a student3 score need to be to count as an outlier?\n</div> "
    },
    {
      "cell_type": "markdown",
      "metadata": {
        "cell_id": "b46adf1ce7cd443099c505623a4d31ce",
        "deepnote_cell_type": "markdown"
      },
      "source": "## 8. Exploring Distributions in the `nz_census` Data Frame\n\nSo far, we’ve explored distributions of individual vectors. Now, we’ll shift to working with distributions in data frames, where variables are stored as columns within a dataset.\n\nThe `nz_census` data frame, which has been pre-loaded into this notebook, includes data from a subset of New Zealand high school students (n=472). Here are the the variables in the dataset:\n\n- **region**: Region of the country students live in\n- **gender**: What gender are students\n- **age**: Age in years\n- **time_standing** How long in seconds they were able to stand on left leg with eyes closed\n- **height**: Height in centimeters\n- **travel_time_to_school**: How long does it usually take you to get to school (to nearest minute)\n- **bag_weight**: What is the weight of your school bag today (to nearest tenth of a kilogram)\n- **left_foot_length**: Length of left foot in centimeters\n- **sleep_time**: How much sleep did you get last night (to nearest half hour)\n\n### 8.1 We have looked at distributions by: \n- printing values in order, \n- using histograms, \n- using the five-number summary,  \n- using box plots"
    },
    {
      "cell_type": "markdown",
      "metadata": {
        "cell_id": "ca5836cb771a414f8ead720dbf8ad83d",
        "deepnote_cell_type": "markdown"
      },
      "source": "<div class=\"guided-notes\">\n    \n### 8.2 Write R code to do each of these things for a variable in a data frame\nThe table shows how we perform the same types of analyses on a single vector versus a variable in a data frame. Some of the entries are already filled in. Complete the missing pieces by writing the equivalent R code for the empty cells.\n</div>"
    },
    {
      "cell_type": "markdown",
      "metadata": {
        "cell_id": "4ceb6eb62d56485e8a4e5d000f437d72",
        "deepnote_cell_type": "markdown"
      },
      "source": "### 8.3 Exploring Distributions of Categorical Variables\n\nEverything we've learned so far has been with quantitative outcome variables (e.g., `time_standing`). Can we use the same tools for exploring the distributions of categorical variables? Let's find out. And if we can't what tools can we use?\n    \n### 8.2 Exploring the distribution of `region` in the `nz_census` data frame\nLet's consider the variable `region` in the `nz_census` data frame. What makes `region` a categorical variable? Running the code below may help you compare `region` to a variable like `time_standing`."
    },
    {
      "cell_type": "code",
      "execution_count": null,
      "metadata": {
        "cell_id": "1d71cc74cbfa4b8b95b255aa0e3c3c82",
        "deepnote_cell_type": "code",
        "trusted": true
      },
      "outputs": [],
      "source": "# run this\nhead(select(nz_census, region, time_standing))"
    },
    {
      "cell_type": "markdown",
      "metadata": {
        "cell_id": "2d468c7e987148488861b45832685ee1",
        "deepnote_cell_type": "markdown"
      },
      "source": "<div class=\"discussion-question\">\n    <h3>8.3 <i>Key Discussion Questions:</i> Can we make a histogram of <code>region</code>?</h3>\n\nWhy or why not? If we can't make a histogram, what kind of visualization can we make?\n</div>"
    },
    {
      "cell_type": "code",
      "execution_count": null,
      "metadata": {
        "cell_id": "e64872f8e478400ba3a5a13a746ea3b1",
        "deepnote_cell_type": "code",
        "nbsimplegrader": {
          "config_key": "code.response",
          "editable": true,
          "label": "Response: Code",
          "respondable": true,
          "response": null,
          "runnable": true,
          "type": "code"
        },
        "scrolled": false,
        "trusted": true
      },
      "outputs": [],
      "source": "# try making a histogram of region\n\n\n# try making a bar graph of region\n\n"
    },
    {
      "cell_type": "markdown",
      "metadata": {
        "cell_id": "230a2456634d4663a2447a232a677a0b",
        "deepnote_cell_type": "markdown"
      },
      "source": "<div class=\"discussion-question\">\n    <h3>8.4 <i>Key Discussion Question:</i> How can we describe the distribution of <code>region</code>?</h3>\n        Are the concepts of shape, center, and spread defined the same way as in a histogram?\n</div>"
    },
    {
      "cell_type": "markdown",
      "metadata": {
        "cell_id": "179fb01b31424d279d2185e9574073b5",
        "deepnote_cell_type": "markdown"
      },
      "source": "<div class=\"guided-notes\">\n\n### 8.5 *Key Discussion Question:* Compare `gf_bar` and `gf_props` and `gf_percents`\n    \nWhat's different about these visualizations?\n    \n</div>"
    },
    {
      "cell_type": "code",
      "execution_count": null,
      "metadata": {
        "cell_id": "f95dff349ae24375b8ba8c28911de9bd",
        "deepnote_cell_type": "code",
        "nbsimplegrader": {
          "config_key": "code.response",
          "editable": true,
          "label": "Response: Code",
          "respondable": true,
          "response": null,
          "runnable": true,
          "type": "code"
        },
        "scrolled": false,
        "trusted": true
      },
      "outputs": [],
      "source": "# try replacing gf_bar with the other functions\ngf_bar(~region, data=nz_census) \n"
    },
    {
      "cell_type": "markdown",
      "metadata": {
        "cell_id": "014df884d8914488b8b310d9f2251bf8",
        "deepnote_cell_type": "markdown"
      },
      "source": "<img src=\"https://coursekata-course-assets.s3.us-west-1.amazonaws.com/UCLATALL/czi-stats-course/jnb-bar-props-percents.jpg\" width = 80%>"
    },
    {
      "cell_type": "markdown",
      "metadata": {
        "cell_id": "c4d1633283e64a7c8df96104b88a5aa3",
        "deepnote_cell_type": "markdown"
      },
      "source": "## 9. Practice What You Learned\nLook at the other variables in the `census` data frame. Practice using what you've learned: boxplots, favstats, tally, gf_histogram, and gf_bar."
    },
    {
      "cell_type": "code",
      "execution_count": null,
      "metadata": {
        "cell_id": "fa73faaba06a4b58a37b31a7d5071cd6",
        "deepnote_cell_type": "code",
        "scrolled": true,
        "trusted": true
      },
      "outputs": [],
      "source": "# run this to see what variables are available\nhead(nz_census)"
    },
    {
      "cell_type": "markdown",
      "metadata": {
        "cell_id": "6a16a07058a841fbaaa53538fcfcf110",
        "deepnote_cell_type": "markdown"
      },
      "source": "### 9.1 See what you can learn by visualizing these variables"
    },
    {
      "cell_type": "code",
      "execution_count": null,
      "metadata": {
        "cell_id": "8aaa8122d3504775a3d0d98d39a133a1",
        "deepnote_cell_type": "code",
        "nbsimplegrader": {
          "config_key": "code.response",
          "editable": true,
          "label": "Response: Code",
          "respondable": true,
          "response": null,
          "runnable": true,
          "type": "code"
        },
        "trusted": true
      },
      "outputs": [],
      "source": "# code here\n"
    },
    {
      "cell_type": "markdown",
      "metadata": {
        "cell_id": "47e21644b4bf4c008411c288f7c6aa53",
        "deepnote_cell_type": "markdown"
      },
      "source": "### 9.2 Reflect on what you've learned about these variables\nUse the cell below to write your observations"
    },
    {
      "cell_type": "markdown",
      "metadata": {
        "cell_id": "e0a6bcef78d34ce2a8127eef881317ac",
        "deepnote_cell_type": "markdown",
        "nbsimplegrader": {
          "config_key": "markdown.response",
          "editable": true,
          "label": "Response: Markdown",
          "respondable": true,
          "response": null,
          "runnable": true,
          "type": "markdown"
        }
      },
      "source": "\n"
    }
  ],
  "metadata": {
    "deepnote_notebook_id": "a3d05c42982d4b26a78a42dcb15dd407",
    "kernelspec": {
      "display_name": "R",
      "language": "R",
      "name": "ir"
    },
    "language_info": {
      "codemirror_mode": "r",
      "file_extension": ".r",
      "mimetype": "text/x-r-source",
      "name": "R",
      "pygments_lexer": "r",
      "version": "4.3.3"
    },
    "nbsimplegrader": {
      "publish_config": {
        "classes": [],
        "options": [],
        "tools": []
      }
    }
  },
  "nbformat": 4,
  "nbformat_minor": 1
}