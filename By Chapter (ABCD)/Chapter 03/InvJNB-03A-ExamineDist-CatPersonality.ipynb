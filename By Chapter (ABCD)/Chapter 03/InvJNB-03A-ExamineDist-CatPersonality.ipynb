{
  "cells": [
    {
      "cell_type": "markdown",
      "metadata": {
        "cell_id": "ff819677f374479db0b4c4419d33aa2d",
        "deepnote_cell_height": 133.953125,
        "deepnote_cell_type": "markdown"
      },
      "source": "# 3A: Are cats friendly? Inquisitive? Eccentric? Cat personality data \n"
    },
    {
      "cell_type": "code",
      "execution_count": null,
      "metadata": {
        "cell_id": "0d033643f6e74829b153726dca669602",
        "deepnote_cell_type": "code",
        "execution_context_id": "cf589cfb-85a9-4411-b795-ea7a015baa05",
        "execution_millis": 1519,
        "execution_start": 1727466613942,
        "source_hash": "9a41670",
        "trusted": true
      },
      "outputs": [],
      "source": "# This code will load the R packages we will use\nsuppressPackageStartupMessages({\n    library(coursekata)\n})\n\n# This code loads the data \ncats <- read.csv(\"https://docs.google.com/spreadsheets/d/1e-RUOA43HE1sfA1xBB5FxqrdWDQzlHc_C3C13o84CAM/pub?gid=137548426&single=true&output=csv\")"
    },
    {
      "cell_type": "markdown",
      "metadata": {
        "cell_id": "84ef5e6e798a4b7583a2cdee71959c2b",
        "deepnote_cell_type": "markdown"
      },
      "source": "## 1.0 - The personality of pet cats \n\nCollected from Australia and New Zealand, this dataset contains cat owners' measures about their cat’s personality, including information on the age and sex of the cat. \n\nThe personality measure has 52 items that each contain a personality characteristic and participants were asked to rate the extent their cat demonstrated that characteristic on a seven-point scale (from 1 - Not at all to 7 - Very much so). "
    },
    {
      "cell_type": "markdown",
      "metadata": {
        "cell_id": "31166ed33fe54c38ab5db38e4edb973b",
        "deepnote_cell_type": "markdown"
      },
      "source": "1.1 - Explore the data \n\nYou've learned a few other methods of looking at your data. Try some of those out here. "
    },
    {
      "cell_type": "code",
      "execution_count": null,
      "metadata": {
        "cell_id": "062571d50b6843b1b18d3c4f43a4c90b",
        "deepnote_cell_type": "code",
        "execution_context_id": "4b5a5959-55f6-4c7a-adac-cfec49d2212d",
        "execution_millis": 1,
        "execution_start": 1729529364631,
        "source_hash": "ad8dc54c",
        "trusted": true
      },
      "outputs": [],
      "source": "#try a few different ways of looking at the data here "
    },
    {
      "cell_type": "markdown",
      "metadata": {
        "cell_id": "55306641fc184fa78d954c67147503d2",
        "deepnote_cell_type": "markdown"
      },
      "source": "1.2 - Describe the data \n\nWhat are the cases in the data frame and how many are there? "
    },
    {
      "cell_type": "markdown",
      "metadata": {
        "cell_id": "402ce38d3631480d9a6b2c73c6172d60",
        "deepnote_cell_type": "markdown"
      },
      "source": "1.3 - Describe the variables\n\nWhat are a few examples of variables are included in this data?"
    },
    {
      "cell_type": "markdown",
      "metadata": {
        "cell_id": "1710879267d44e63a43110b45264d27e",
        "deepnote_cell_type": "markdown"
      },
      "source": "1.4 - What have you learned about the data set?"
    },
    {
      "cell_type": "markdown",
      "metadata": {
        "cell_id": "048f85d7bb2d4cd6a9bacd0ae67a1f17",
        "deepnote_cell_type": "markdown"
      },
      "source": "## 2.0 - Choosing variables"
    },
    {
      "cell_type": "markdown",
      "metadata": {
        "cell_id": "f960586cebe94c4eb1d5b81a3b9e3ca1",
        "deepnote_cell_type": "markdown"
      },
      "source": "2.1 - What are some interesting personality variables you see? \n\nChoose 3 personality variables that look intersting to you and write them down below. Are you surprised some of these variables are included? "
    },
    {
      "cell_type": "markdown",
      "metadata": {
        "cell_id": "16897a37ea254bed8d416e605fa713d4",
        "deepnote_cell_type": "markdown"
      },
      "source": "## 3.0 - Examining distributions using histograms"
    },
    {
      "cell_type": "markdown",
      "metadata": {
        "cell_id": "52c447f28bca4a5b866e9445ed624639",
        "deepnote_cell_type": "markdown"
      },
      "source": "3.1 - ***Create histograms*** \n\nUse the histogram code you learned to create histograms from your chosen variables. "
    },
    {
      "cell_type": "code",
      "execution_count": null,
      "metadata": {
        "cell_id": "ffa8c4beb69f46959f81f4703cd09def",
        "deepnote_app_block_visible": false,
        "deepnote_cell_type": "code",
        "deepnote_to_be_reexecuted": false,
        "execution_context_id": "eeb53276-1c89-4692-8941-255da6a42d74",
        "execution_millis": 542,
        "execution_start": 1740100607451,
        "source_hash": "120befe2",
        "trusted": true
      },
      "outputs": [],
      "source": "#Make your histograms here\n#Here is some code to get you started \n\ngf_histogram(~, data=)"
    },
    {
      "cell_type": "markdown",
      "metadata": {
        "cell_id": "1bc2569ee2ee48ae83be7f79e327b2b8",
        "deepnote_cell_type": "markdown"
      },
      "source": "3.2 - ***Modify the histograms***\n\nDid you notice something weird about the histograms? Why are the bars so far apart? \n\nTry using the `bins =` to modify your histograms so that bars are touching. Carefully consider the number of bins they should have. "
    },
    {
      "cell_type": "code",
      "execution_count": null,
      "metadata": {
        "cell_id": "8dfbb02e0e36451986c59fd2c68b5895",
        "deepnote_cell_type": "code",
        "execution_context_id": "4b5a5959-55f6-4c7a-adac-cfec49d2212d",
        "execution_millis": 0,
        "execution_start": 1729529364675,
        "source_hash": "658f1953",
        "trusted": true
      },
      "outputs": [],
      "source": "#use this cell to modify your histograms\n"
    },
    {
      "cell_type": "markdown",
      "metadata": {
        "cell_id": "f85a28e02ec84db483f33e518a7e59d8",
        "deepnote_cell_type": "markdown"
      },
      "source": "3.3 - ***Examine the histograms***\n\nWhat is the shape of each histogram? What about the center and the spread?  "
    },
    {
      "cell_type": "markdown",
      "metadata": {
        "cell_id": "2ef8e127913643e7abbfe86d8e117e89",
        "deepnote_cell_type": "markdown"
      },
      "source": "3.4 - ***Compare distributions***\n\nBased on your answers to your questions above, what does the shape of each histogram tell you about the personalities of cats? Try comparing them to each other based on the shape of each distribution. "
    }
  ],
  "metadata": {
    "deepnote_notebook_id": "21ca59920b044a858a568fae6f49ab98",
    "kernelspec": {
      "display_name": "R",
      "language": "R",
      "name": "ir"
    },
    "language_info": {
      "codemirror_mode": "r",
      "file_extension": ".r",
      "mimetype": "text/x-r-source",
      "name": "R",
      "pygments_lexer": "r",
      "version": "4.3.3"
    },
    "nbsimplegrader": {
      "publish_config": {
        "classes": [],
        "options": [],
        "tools": []
      }
    }
  },
  "nbformat": 4,
  "nbformat_minor": 1
}