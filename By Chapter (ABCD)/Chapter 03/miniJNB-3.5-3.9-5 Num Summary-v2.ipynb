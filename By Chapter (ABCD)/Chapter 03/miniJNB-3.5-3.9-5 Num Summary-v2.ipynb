{
  "cells": [
    {
      "cell_type": "markdown",
      "metadata": {
        "cell_id": "213598b68a374fae94efd6dd2214c21e",
        "deepnote_cell_type": "markdown"
      },
      "source": "# Spoonfuls of Sugar: Exploring Cereal Sweetness\n\n## Chapter 3.5-3.9 Five-Number Summary, Boxplots, and Bar Graphs"
    },
    {
      "cell_type": "code",
      "execution_count": null,
      "metadata": {
        "cell_id": "5f0c55c6a1b743ba9fac3070f5a2909e",
        "deepnote_cell_type": "code",
        "execution_context_id": "57074c1b-56dc-4078-b5d4-00f4c8228150",
        "execution_millis": 1107,
        "execution_start": 1743702784619,
        "scrolled": false,
        "source_hash": "240debbc",
        "trusted": true
      },
      "outputs": [],
      "source": "# This code will load the R packages we will use\nlibrary(coursekata)\n\n# set styles\ncss <- suppressWarnings(readLines(\"https://raw.githubusercontent.com/jimstigler/jupyter/master/ck_jupyter_styles_v2.css\"))\nIRdisplay::display_html(sprintf('<style>%s</style>', paste(css, collapse = \"\\n\")))\n\n# data source:\n# https://r-packages.io/datasets/Cereal \n"
    },
    {
      "cell_type": "markdown",
      "metadata": {
        "cell_id": "9613748287ef48c0a725e45e110d061f",
        "deepnote_cell_type": "markdown"
      },
      "source": "## 1. The `Cereal` data\n\n<figure style=\"margin: 0 auto; text-align: center; width: 450px;\">\n  <img src=\"https://i.postimg.cc/LmnGzVf6/breakfast-cereals.png\" \n       alt=\"Boxes of breakfast cereals\" \n       style=\"width: 100%; height: auto;\">\n  <figcaption style=\"font-size: 0.9em; margin-top: 5px;\">\n      Food for thought:\n      Do you think you could tell which cereals are sweeter by looking at the boxes? \n      Which one do you think is the sweetest?\n  </figcaption>\n</figure>\n\n\n\n\nAccording to [research](https://pmc.ncbi.nlm.nih.gov/articles/PMC4188247/#:~:text=Meta%2Danalysis.&text=It%20examined%2014%20studies%20in,1.46%3B%20P%20%3C%200.0001), cereal can be a part of a healthy and balanced diet. But cereal also has a reputation for having a lot of added sugar. Let's see what the data in the `Cereal` data frame have to say.\n\n**Variable Descriptions**\n\n- `Name`\tBrand name of cereal \n- `Company`\tManufacturer coded as G=General Mills, K=Kellog's or Q=Quaker\n- `Serving`\tServing size (in cups)\n- `Calories`\tCalories (per cup)\n- `Fat`\tFat (grams per cup)\n- `Sodium`\tSodium (mg per cup)\n- `Carbs`\tCarbohydrates (grams per cup)\n- `Fiber`\tDietary Fiber (grams per cup)\n- `Sugars`\tSugars (grams per cup)\n- `Protein`\tProtein (grams per cup)"
    },
    {
      "cell_type": "markdown",
      "metadata": {
        "cell_id": "1955a60c75f3400ba25bea4370ee23fe",
        "deepnote_cell_type": "markdown"
      },
      "source": "### 1.1 Run some code to look at a few rows of the `Cereal` data"
    },
    {
      "cell_type": "code",
      "execution_count": null,
      "metadata": {
        "cell_id": "1b006227cf2a4395862094fd7451e907",
        "deepnote_cell_type": "code",
        "nbsimplegrader": {
          "config_key": "code.response",
          "editable": true,
          "label": "Response: Code",
          "respondable": true,
          "response": null,
          "runnable": true,
          "type": "code"
        },
        "trusted": true
      },
      "outputs": [],
      "source": "# run code here\n\n"
    },
    {
      "cell_type": "markdown",
      "metadata": {
        "cell_id": "ada8a072383645d08fdb37d363543058",
        "deepnote_cell_type": "markdown"
      },
      "source": "## 2. Explore Variation in `Sugars`\n### 2.1 Create a histogram of `Sugars` and describe the distribution (note the shape, center, spread and weird things)."
    },
    {
      "cell_type": "code",
      "execution_count": null,
      "metadata": {
        "cell_id": "41d45a91f10948ad9083da47085fb6bb",
        "deepnote_cell_type": "code",
        "nbsimplegrader": {
          "config_key": "code.response",
          "editable": true,
          "label": "Response: Code",
          "respondable": true,
          "response": null,
          "runnable": true,
          "type": "code"
        },
        "trusted": true
      },
      "outputs": [],
      "source": "# run code here\n\n"
    },
    {
      "cell_type": "markdown",
      "metadata": {
        "cell_id": "3721627f862942b9aa9e04911a6d8422",
        "deepnote_cell_type": "markdown",
        "nbsimplegrader": {
          "config_key": "markdown.response",
          "editable": true,
          "label": "Response: Markdown",
          "respondable": true,
          "response": null,
          "runnable": true,
          "type": "markdown"
        }
      },
      "source": "Describe the distribution."
    },
    {
      "cell_type": "markdown",
      "metadata": {
        "cell_id": "69503ae6ef2a44cdba1acfa25ac5d56f",
        "deepnote_cell_type": "markdown"
      },
      "source": "### 2.2 Just from looking at the histogram alone, estimate where Q1 and Q3 will be. Hint: Approximately where is the middle 50% of the data?"
    },
    {
      "cell_type": "markdown",
      "metadata": {
        "cell_id": "66c4cbc88d44420586892cc982a418cd",
        "deepnote_cell_type": "markdown",
        "nbsimplegrader": {
          "config_key": "markdown.response",
          "editable": true,
          "label": "Response: Markdown",
          "respondable": true,
          "response": null,
          "runnable": true,
          "type": "markdown"
        }
      },
      "source": ""
    },
    {
      "cell_type": "markdown",
      "metadata": {
        "cell_id": "0a5cf764caf341d6afc9118ba765aa2e",
        "deepnote_cell_type": "markdown"
      },
      "source": "### 2.3 Add a boxplot to your histogram and generate the favstats(). Where is the Q1 and Q3? (How close was your estimate?)"
    },
    {
      "cell_type": "code",
      "execution_count": null,
      "metadata": {
        "cell_id": "245c544154824e51a3aa470fda37e1bb",
        "deepnote_cell_type": "code",
        "nbsimplegrader": {
          "config_key": "code.response",
          "editable": true,
          "label": "Response: Code",
          "respondable": true,
          "response": null,
          "runnable": true,
          "type": "code"
        },
        "trusted": true
      },
      "outputs": [],
      "source": "# run code here\n# Bonus Question: Does changing the bins or binwidth of the histogram affect the boxplot?\n\n"
    },
    {
      "cell_type": "markdown",
      "metadata": {
        "cell_id": "c5d8cb5bbe7c40e4a1685f701195b97c",
        "deepnote_cell_type": "markdown",
        "nbsimplegrader": {
          "config_key": "markdown.response",
          "editable": true,
          "label": "Response: Markdown",
          "respondable": true,
          "response": null,
          "runnable": true,
          "type": "markdown"
        }
      },
      "source": ""
    },
    {
      "cell_type": "markdown",
      "metadata": {
        "cell_id": "7bbb4f4ff1c34f3d9749fb78256fbb57",
        "deepnote_cell_type": "markdown"
      },
      "source": "### 2.4 Find your favorite cereal from the list below. Based on its sugar content, which quartile does it fall into?"
    },
    {
      "cell_type": "code",
      "execution_count": null,
      "metadata": {
        "cell_id": "988c8780fa1f44378f6f926cd1ac7417",
        "deepnote_cell_type": "code",
        "trusted": true
      },
      "outputs": [],
      "source": "# run this to arrange the Cereals in alphabetic order\narrange(Cereal, Name)"
    },
    {
      "cell_type": "markdown",
      "metadata": {
        "cell_id": "78d2f2451617436597a5f4697a69b0d7",
        "deepnote_cell_type": "markdown",
        "nbsimplegrader": {
          "config_key": "markdown.response",
          "editable": true,
          "label": "Response: Markdown",
          "respondable": true,
          "response": null,
          "runnable": true,
          "type": "markdown"
        }
      },
      "source": "The name of your favorite cereal:\n\nHow many grams of sugar it has per cup:\n\nWhich quartile it falls into:"
    },
    {
      "cell_type": "markdown",
      "metadata": {
        "cell_id": "f060ad30df66407e9a91b8979e12dc3e",
        "deepnote_cell_type": "markdown"
      },
      "source": "### 2.5 How many grams of sugar does the sweetest cereal have? Which cereal is it?"
    },
    {
      "cell_type": "code",
      "execution_count": null,
      "metadata": {
        "cell_id": "06580afe5de94fc793f82ce3f7de831d",
        "deepnote_cell_type": "code",
        "nbsimplegrader": {
          "config_key": "code.response",
          "editable": true,
          "label": "Response: Code",
          "respondable": true,
          "response": null,
          "runnable": true,
          "type": "code"
        },
        "scrolled": false,
        "trusted": true
      },
      "outputs": [],
      "source": "# run code here\n\n"
    },
    {
      "cell_type": "markdown",
      "metadata": {
        "cell_id": "bf62af58fe844c3bb235ce8783596b7c",
        "deepnote_cell_type": "markdown",
        "nbsimplegrader": {
          "config_key": "markdown.response",
          "editable": true,
          "label": "Response: Markdown",
          "respondable": true,
          "response": null,
          "runnable": true,
          "type": "markdown"
        }
      },
      "source": ""
    },
    {
      "cell_type": "markdown",
      "metadata": {
        "cell_id": "c0f6084260bb4fb284ebb1676bbbeaf0",
        "deepnote_cell_type": "markdown"
      },
      "source": "### 2.6 Given the daily sugar recommendations, what would be a reasonable amount of sugar for breakfast cereal? How does your favorite cereal compare?\n\nFor reference, the [American Heart Association](https://www.heart.org/en/healthy-living/healthy-eating/eat-smart/sugar/added-sugars) recommends limiting added sugar intake to about 30 grams per day."
    },
    {
      "cell_type": "markdown",
      "metadata": {
        "cell_id": "d885c6df5fff4d23b3ef4ff9df10f454",
        "deepnote_cell_type": "markdown",
        "nbsimplegrader": {
          "config_key": "markdown.response",
          "editable": true,
          "label": "Response: Markdown",
          "respondable": true,
          "response": null,
          "runnable": true,
          "type": "markdown"
        }
      },
      "source": ""
    },
    {
      "cell_type": "markdown",
      "metadata": {
        "cell_id": "4be52b2d0fa5473fb1d73c81c148adb2",
        "deepnote_cell_type": "markdown"
      },
      "source": "## 3 Which companies make these cereals?\n\n### 3.1 Explore the distribution of Company with a visualization.\n\nG=General Mills, K=Kellog's or Q=Quaker"
    },
    {
      "cell_type": "code",
      "execution_count": null,
      "metadata": {
        "cell_id": "0a3772f9a10145f4b0e41a855642b035",
        "deepnote_cell_type": "code",
        "nbsimplegrader": {
          "config_key": "code.response",
          "editable": true,
          "label": "Response: Code",
          "respondable": true,
          "response": null,
          "runnable": true,
          "type": "code"
        },
        "trusted": true
      },
      "outputs": [],
      "source": "# run code here\n\n"
    },
    {
      "cell_type": "markdown",
      "metadata": {
        "cell_id": "5fd859cdba1c4bf49fc1ddeed37dd684",
        "deepnote_cell_type": "markdown"
      },
      "source": "### 3.2 Describe the center and spread of the distribution."
    },
    {
      "cell_type": "markdown",
      "metadata": {
        "cell_id": "2c9e4708cdbf42659a90a18507e31c17",
        "deepnote_cell_type": "markdown",
        "nbsimplegrader": {
          "config_key": "markdown.response",
          "editable": true,
          "label": "Response: Markdown",
          "respondable": true,
          "response": null,
          "runnable": true,
          "type": "markdown"
        }
      },
      "source": ""
    },
    {
      "cell_type": "markdown",
      "metadata": {
        "cell_id": "7bdd43e14f7441da9a4acb19a631275f",
        "deepnote_cell_type": "markdown"
      },
      "source": "### 3.3 What's the percentage of cereals represented by Quaker?\n\nUse 2 different methods in R to figure this out."
    },
    {
      "cell_type": "code",
      "execution_count": null,
      "metadata": {
        "cell_id": "b1a19015641a45eebe969f543152bb1d",
        "deepnote_cell_type": "code",
        "nbsimplegrader": {
          "config_key": "code.response",
          "editable": true,
          "label": "Response: Code",
          "respondable": true,
          "response": null,
          "runnable": true,
          "type": "code"
        },
        "trusted": true
      },
      "outputs": [],
      "source": "# run code here\n\n"
    },
    {
      "cell_type": "markdown",
      "metadata": {
        "cell_id": "b1713a9ba8084827860725c223d3055e",
        "deepnote_cell_type": "markdown"
      },
      "source": "### 3.4 Create a new categorical variable that identifies cereals with a reasonable amount of sugar per cup. Use your answer from 2.6 to decide what counts as \"reasonable.\" Then, make a bar graph to show how many cereals fall into each category."
    },
    {
      "cell_type": "code",
      "execution_count": null,
      "metadata": {
        "cell_id": "788bbbed99744601b12c48aace5d4b7f",
        "deepnote_cell_type": "code",
        "nbsimplegrader": {
          "config_key": "code.response",
          "editable": true,
          "label": "Response: Code",
          "respondable": true,
          "response": null,
          "runnable": true,
          "type": "code"
        },
        "trusted": true
      },
      "outputs": [],
      "source": "# run code here\n\n"
    }
  ],
  "metadata": {
    "deepnote_notebook_id": "3afac670609a4511925574c362757d97",
    "kernelspec": {
      "display_name": "R",
      "language": "R",
      "name": "ir"
    },
    "language_info": {
      "codemirror_mode": "r",
      "file_extension": ".r",
      "mimetype": "text/x-r-source",
      "name": "R",
      "pygments_lexer": "r",
      "version": "4.3.3"
    },
    "nbsimplegrader": {
      "publish_config": {
        "classes": [],
        "options": [],
        "tools": []
      }
    }
  },
  "nbformat": 4,
  "nbformat_minor": 1
}