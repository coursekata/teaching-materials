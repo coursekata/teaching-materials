{
  "cells": [
    {
      "cell_type": "markdown",
      "metadata": {
        "cell_id": "a577fb439b104e75b8bab5259475a2d2",
        "deepnote_cell_height": 327.890625,
        "deepnote_cell_type": "markdown",
        "tags": []
      },
      "source": "<div class=\"alert alert-block alert-danger\">\n\n# 3D: Westvaco's DGP (Complete)\n\n**Lesson assumes students have read up through page: 3.13**\n\n***NOTE: This notebook is optional, and is very similar to notebook 01B The Whole Thing. Feel free to skip if you already completed 01B with your class, unless you would like to revisit the lesson now that they've had a chance to become a little more familar with coding and some of the concepts.***\n\n</div>"
    },
    {
      "cell_type": "markdown",
      "metadata": {
        "cell_id": "a5153ecd62be46c9b6f6730b90b636f7",
        "deepnote_cell_height": 163.9375,
        "deepnote_cell_type": "markdown",
        "tags": []
      },
      "source": "<div class=\"alert alert-block alert-success\">\n\n## Approximate time to complete Notebook: 50-60 Mins\n\n</div>"
    },
    {
      "cell_type": "code",
      "execution_count": null,
      "metadata": {
        "cell_id": "9e179eaa2d294ff980546b2f336f6285",
        "deepnote_cell_type": "code",
        "deepnote_to_be_reexecuted": false,
        "execution_millis": 2000,
        "execution_start": 1629765726100,
        "source_hash": null,
        "trusted": true
      },
      "outputs": [],
      "source": "# This code will load the R packages we will use\nsuppressPackageStartupMessages({\n    library(coursekata)\n})"
    },
    {
      "cell_type": "markdown",
      "metadata": {
        "cell_id": "bdafa919e5b44268a53b31ede1eb72eb",
        "deepnote_cell_height": 119.53125,
        "deepnote_cell_type": "markdown"
      },
      "source": "**Preamble:** In the year Robert Martin turned 54, the Westvaco Corporation (an envelope company) decided to downsize. They laid off many people, including Robert Martin. Later that year, he sued Westvaco, claiming he had been laid off because of his age. A major piece of Martin’s case was based on a statistical analysis of the ages of the Westvaco employees.\n"
    },
    {
      "cell_type": "markdown",
      "metadata": {
        "cell_id": "68c79ec72a1648ec8941bcdbc71b8a50",
        "deepnote_cell_height": 115.9375,
        "deepnote_cell_type": "markdown",
        "tags": []
      },
      "source": "<div class=\"alert alert-block alert-success\">\n\n### 1.0 - Approximate Time:  5-8 mins\n\n</div>"
    },
    {
      "cell_type": "markdown",
      "metadata": {
        "cell_id": "68caff9a6aaa4464a0d4d0b5145f7408",
        "deepnote_cell_height": 69.96875,
        "deepnote_cell_type": "markdown",
        "tags": []
      },
      "source": "## 1.0 - The Data"
    },
    {
      "cell_type": "markdown",
      "metadata": {
        "cell_id": "0fc2520a75ed436786e03c7ba04c88e1",
        "deepnote_cell_height": 97.140625,
        "deepnote_cell_type": "markdown",
        "tags": []
      },
      "source": "1.1 - Here is one set of data from Martin v. Westvaco (from one of the departments, simplified and modified for teaching purposes). What are each of these lines of code doing? Poke around to see what this `Westvaco` data frames is like. "
    },
    {
      "cell_type": "code",
      "execution_count": null,
      "metadata": {
        "cell_id": "ea26e2986e2e47f693a892b48f983e11",
        "deepnote_cell_type": "code",
        "deepnote_to_be_reexecuted": false,
        "execution_millis": 1336,
        "execution_start": 1629765728141,
        "output_cleared": false,
        "source_hash": null,
        "trusted": true
      },
      "outputs": [],
      "source": "# This line of code saves the csv file in a data frame called Westvaco\nWestvaco <- read.csv(\"https://docs.google.com/spreadsheets/d/e/2PACX-1vRSAFbaPcTt1PJvW8C-_x8KA_KLqQQboYBfSDimHMkW8rn3z8VhZfpW7ZG7Bo0nuANCcqAbW4aKEFsq/pub?gid=1945114845&single=true&output=csv\", header = TRUE)\n\n# This line of filters the data to include just the people who are fired and saves it inot Westvaco.Fired\nWestvaco_Fired <- filter(Westvaco, Status == \"Fired\")\n\n# Check a few lines of the data\nhead(Westvaco)\nhead(Westvaco_Fired)\n"
    },
    {
      "cell_type": "markdown",
      "metadata": {
        "cell_id": "333b717621a740b287796e10538ab5ce",
        "deepnote_cell_height": 52.359375,
        "deepnote_cell_type": "markdown",
        "tags": []
      },
      "source": "1.2 - What do you think the rows mean? What are the questions you have about this data?"
    },
    {
      "cell_type": "markdown",
      "metadata": {
        "cell_id": "3606038707b14358967425b205d911fb",
        "deepnote_cell_height": 140.71875,
        "deepnote_cell_type": "markdown",
        "tags": []
      },
      "source": "<div class=\"alert alert-block alert-warning\">\n\n**Sample Response**\n\nThe rows are employees at Westvaco.\n\n</div>"
    },
    {
      "cell_type": "markdown",
      "metadata": {
        "cell_id": "8c8c99247eeb4ffe830a4223d5f85153",
        "deepnote_cell_height": 52.359375,
        "deepnote_cell_type": "markdown",
        "tags": []
      },
      "source": "1.3 - What are the questions you have about this data?"
    },
    {
      "cell_type": "markdown",
      "metadata": {
        "cell_id": "cc1ae1fc27844d7380f783edd94acdd3",
        "deepnote_cell_height": 140.71875,
        "deepnote_cell_type": "markdown",
        "tags": []
      },
      "source": "<div class=\"alert alert-block alert-warning\">\n\n**Sample Response**\n\n*Questions about the data will vary.*\n\n</div>"
    },
    {
      "cell_type": "markdown",
      "metadata": {
        "cell_id": "029191c2a36a42db9e39ff3b6334b4d5",
        "deepnote_cell_height": 115.9375,
        "deepnote_cell_type": "markdown",
        "tags": []
      },
      "source": "<div class=\"alert alert-block alert-success\">\n\n### 2.0 - Approximate Time:  10-12 mins\n\n</div>"
    },
    {
      "cell_type": "markdown",
      "metadata": {
        "cell_id": "bd3499afcf274975bd71bbb1459d1408",
        "deepnote_cell_height": 69.96875,
        "deepnote_cell_type": "markdown",
        "tags": []
      },
      "source": "## 2.0 - Explore Variation"
    },
    {
      "cell_type": "markdown",
      "metadata": {
        "cell_id": "884b08605f844b009538c0175acdbbb0",
        "deepnote_cell_height": 52.359375,
        "deepnote_cell_type": "markdown",
        "tags": []
      },
      "source": "2.1 - Run the code below. What is the histogram about?"
    },
    {
      "cell_type": "code",
      "execution_count": null,
      "metadata": {
        "cell_id": "46505293e3ed46cc895a38cfda9b6bc1",
        "deepnote_cell_type": "code",
        "deepnote_to_be_reexecuted": false,
        "execution_millis": 466,
        "execution_start": 1629765729474,
        "output_cleared": false,
        "scrolled": true,
        "source_hash": null,
        "trusted": true
      },
      "outputs": [],
      "source": "gf_histogram(~ Age, data = Westvaco_Fired, color = \"firebrick\", fill = \"firebrick2\")"
    },
    {
      "cell_type": "markdown",
      "metadata": {
        "cell_id": "d89216b02e0c4e30bafc0cc6694f80cc",
        "deepnote_cell_height": 140.71875,
        "deepnote_cell_type": "markdown",
        "tags": []
      },
      "source": "<div class=\"alert alert-block alert-warning\">\n\n**Sample Response**\n\nThe histogram is showing the distribution of employees that were fired.\n\n</div>"
    },
    {
      "cell_type": "markdown",
      "metadata": {
        "cell_id": "28515423212347b0b63c865c8266a27d",
        "deepnote_cell_height": 93.953125,
        "deepnote_cell_type": "markdown",
        "tags": []
      },
      "source": "### Check out the data but be careful not to jump to conclusions."
    },
    {
      "cell_type": "markdown",
      "metadata": {
        "cell_id": "1306687c1abf42fabc2c26277609dc02",
        "deepnote_cell_height": 52.359375,
        "deepnote_cell_type": "markdown"
      },
      "source": "2.2 - What are some reasons (from the data) you have for suspecting discrimination?"
    },
    {
      "cell_type": "markdown",
      "metadata": {
        "cell_id": "bf2a762e3fe2480d8f55f29b383483bd",
        "deepnote_cell_height": 166.109375,
        "deepnote_cell_type": "markdown",
        "tags": []
      },
      "source": "<div class=\"alert alert-block alert-warning\">\n\n**Some possible reasons:**\n\n- Most of the people who were fired were over 50\n- The distribution is skewed with the peak toward the older employees\n\n</div>"
    },
    {
      "cell_type": "markdown",
      "metadata": {
        "cell_id": "424414a0c3f44e15aa588b33c14604f5",
        "deepnote_cell_height": 52.359375,
        "deepnote_cell_type": "markdown",
        "tags": []
      },
      "source": "2.3 - What are some reasons (from the data) you have for not suspecting discrimination?"
    },
    {
      "cell_type": "markdown",
      "metadata": {
        "cell_id": "d65b817f2ca24d40a625ac5a7e6b2742",
        "deepnote_cell_height": 191.5,
        "deepnote_cell_type": "markdown",
        "tags": []
      },
      "source": "<div class=\"alert alert-block alert-warning\">\n\n**Some possible reasons**\n\n- There were still some young people who were also fired\n- The distribution of all the employees already had a lot of older people anyway\n- There could be other reasons the people were fired\n\n</div>"
    },
    {
      "cell_type": "markdown",
      "metadata": {
        "cell_id": "a01f4e3fd7654c41b004991160e832ee",
        "deepnote_cell_height": 133.53125,
        "deepnote_cell_type": "markdown"
      },
      "source": "2.4 - Some context might be helpful. Try creating a histogram of the ages for all the people in this department at Westvaco or a histogram of ages for those that didn’t get fired below. (You may want to play around with colors, fill, etc.). You can also try layering a boxplot over your histogram.  \n\nAfter doing so, add on to your reasons (above) for suspecting or not suspecting discrimination. "
    },
    {
      "cell_type": "code",
      "execution_count": null,
      "metadata": {
        "cell_id": "751fb11c6d224c2bbf52f42e5ba1a60e",
        "deepnote_cell_type": "code",
        "deepnote_to_be_reexecuted": false,
        "execution_millis": 555,
        "execution_start": 1629765729943,
        "output_cleared": false,
        "source_hash": null,
        "trusted": true
      },
      "outputs": [],
      "source": "# other histograms to explore these data\ngf_histogram(~Age, data = Westvaco, color = \"antiquewhite2\" , fill = \"cornflowerblue\")\n\n# A density histogram with a density curve\ngf_dhistogram(~Age, data = Westvaco, color=\"royalblue\", fill=\"lightpink\")%>%gf_density(fill=\"palegreen\")"
    },
    {
      "cell_type": "markdown",
      "metadata": {
        "cell_id": "53a74e5b3aa044469ffd80c531f13c4d",
        "deepnote_cell_height": 115.9375,
        "deepnote_cell_type": "markdown",
        "tags": []
      },
      "source": "<div class=\"alert alert-block alert-success\">\n\n### 3.0 - Approximate Time:  10-12 mins\n\n</div>"
    },
    {
      "cell_type": "markdown",
      "metadata": {
        "cell_id": "88b8549e5b854de4975ed1d1e593734d",
        "deepnote_cell_height": 69.96875,
        "deepnote_cell_type": "markdown",
        "tags": []
      },
      "source": "## 3.0 - Thinking about the DGP"
    },
    {
      "cell_type": "markdown",
      "metadata": {
        "cell_id": "400ea2b70a4d490a8d0a7c4371addb33",
        "deepnote_cell_height": 74.75,
        "deepnote_cell_type": "markdown"
      },
      "source": "3.1 - What is the population in this case? What is the Data Generating Process that we are interested in?"
    },
    {
      "cell_type": "markdown",
      "metadata": {
        "cell_id": "1cc03fbb1b1f4f388c335eb79b448b2b",
        "deepnote_cell_height": 185.515625,
        "deepnote_cell_type": "markdown",
        "tags": []
      },
      "source": "<div class=\"alert alert-block alert-warning\">\n\n**Sample Response**\n\n- The population is the group of people who could have been fired (the whole data set of people who worked for this department). The DGP we are interested in is the process by which these people were fired (was it a fair process or a process of discrimination?).\n\n</div>"
    },
    {
      "cell_type": "markdown",
      "metadata": {
        "cell_id": "02684728a78244e98f341d053f4d3779",
        "deepnote_cell_height": 74.75,
        "deepnote_cell_type": "markdown",
        "tags": []
      },
      "source": "3.2 - Even though random firing isn't a very smart way to run a business, random firing is *at least* not discriminatory. Why is it not considered \"discrimination\"? "
    },
    {
      "cell_type": "markdown",
      "metadata": {
        "cell_id": "d20ab3a648834d18bc8a4dd62400cc06",
        "deepnote_cell_height": 163.125,
        "deepnote_cell_type": "markdown",
        "tags": []
      },
      "source": "<div class=\"alert alert-block alert-warning\">\n\n**Sample Response**\n\n- Random firing is not discriminatory because it is a process that does not care how old or young you are. It does not take that information into account.\n\n</div>"
    },
    {
      "cell_type": "markdown",
      "metadata": {
        "cell_id": "ef1d9152ae624b9e8ae156fa08e21808",
        "deepnote_cell_height": 74.75,
        "deepnote_cell_type": "markdown",
        "tags": []
      },
      "source": "3.3 - Is it possible to randomly fire people and still to end up with an age distribution of people that has a lot of older people and fewer younger people in it? Is it likely?"
    },
    {
      "cell_type": "markdown",
      "metadata": {
        "cell_id": "06aa065a6f0a448389fbbc61f5085a4d",
        "deepnote_cell_height": 163.125,
        "deepnote_cell_type": "markdown",
        "tags": []
      },
      "source": "<div class=\"alert alert-block alert-warning\">\n\n**Sample Response**\n\n- It is possible to randomly fire people and get mostly older people. It's hard to say whether it's likely or not (student will vary in their opinion).\n\n</div>"
    },
    {
      "cell_type": "markdown",
      "metadata": {
        "cell_id": "a291e0af3eee4e81a5fa5b4a838d433b",
        "deepnote_cell_height": 115.9375,
        "deepnote_cell_type": "markdown",
        "tags": []
      },
      "source": "<div class=\"alert alert-block alert-success\">\n\n### 4.0 - Approximate Time:  12-15 mins\n\n</div>"
    },
    {
      "cell_type": "markdown",
      "metadata": {
        "cell_id": "c9d59214fba84e63b2ed2a1648700f0e",
        "deepnote_cell_height": 69.96875,
        "deepnote_cell_type": "markdown",
        "tags": []
      },
      "source": "## 4.0 - Simulating a Random DGP"
    },
    {
      "cell_type": "markdown",
      "metadata": {
        "cell_id": "ece6bbe35aa948548503b1c6b22388af",
        "deepnote_cell_height": 178.328125,
        "deepnote_cell_type": "markdown"
      },
      "source": "The goal of this section is to consider these questions: What if people were randomly fired? Do you think the distribution would look different? Would randomly fired distributions look similar to the empirical sample of fired people?  (If firing is random, then we all can agree it's not age discrimination.) \n\nBut we aren't just going to sit around and think, we are actually going to **do**. We'll simulate randomly firing people in R."
    },
    {
      "cell_type": "markdown",
      "metadata": {
        "cell_id": "55fe6efd8bea44158d0c88a4b1893f7b",
        "deepnote_cell_height": 74.75,
        "deepnote_cell_type": "markdown",
        "tags": []
      },
      "source": "4.1 - To get you started, how might we simulate randomly firing people in R? How many people should we fire in our simulations?"
    },
    {
      "cell_type": "code",
      "execution_count": null,
      "metadata": {
        "cell_id": "f6840d32166649bbb81c1fbb47ad63cd",
        "deepnote_cell_type": "code",
        "deepnote_to_be_reexecuted": false,
        "execution_millis": 26,
        "execution_start": 1629765730542,
        "output_cleared": false,
        "source_hash": null,
        "trusted": true
      },
      "outputs": [],
      "source": "# Use sample() to simulate randomly firing people\n# We should sample the same number of people that were actually fired\n\n# Check the number of people fired\ntally(~Status, data = Westvaco)\n\n# Sample 22 people\nWestvaco_Rand_Fired <- sample(Westvaco, 22)\nWestvaco_Rand_Fired"
    },
    {
      "cell_type": "markdown",
      "metadata": {
        "cell_id": "233995dfdaea4ad3acba3d051593c316",
        "deepnote_cell_height": 145.140625,
        "deepnote_cell_type": "markdown"
      },
      "source": "### Who will this favor? Martin or Westvaco?\n\n4.2 - Also let’s capture our initial thoughts (we will return to this after the simulations): If it turns out to be pretty rare to generate a random sample like the empirical sample of fired people, does that favor Martin or Westvaco? What DGP would that favor?\n"
    },
    {
      "cell_type": "markdown",
      "metadata": {
        "cell_id": "4c8419d8dd0244b78ccd67b312cf2a76",
        "deepnote_cell_height": 427.03125,
        "deepnote_cell_type": "markdown",
        "tags": []
      },
      "source": "<div class=\"alert alert-block alert-warning\">\n\n**Sample Response**\n\n- Students are likely to have mixed feelings. If they haven't done any Westvaco simulations before, they might be guessing (50% for Martin).\n- Actual answer: If it turns out to be rare to get a sample like the real one, that favors Martin (DGP of discrimination).\n- Common wrong answer: If it turns out to be rare to generate a random sample, and that sample was generated by randomness, that would favor randomness as the DGP.\n\n**Follow up questions to help confused students**\n- How are these simulated sample generated? \n- Is randomness similar to what Martin thinks happened? Or different from what Martin believes happened?\n- If randomness is easily able to generate the outcome that happened, could Martin have been fired by a process like randomness? Is that fair or discriminatory?\n\n</div>"
    },
    {
      "cell_type": "code",
      "execution_count": null,
      "metadata": {
        "cell_id": "6e2b5401a0ad40baa1444bdb9850de71",
        "deepnote_cell_type": "code",
        "deepnote_to_be_reexecuted": false,
        "execution_millis": 516,
        "execution_start": 1629765730562,
        "output_cleared": false,
        "source_hash": null,
        "trusted": true
      },
      "outputs": [],
      "source": "# Fire some people randomly. Make a histogram of randomly fired people’s ages. \nFired_Randomly <- sample(Westvaco, 22)\ngf_histogram(~Age, data = Fired_Randomly, color = \"orange\" , fill = \"yellow\" )\n# Alternate density histogram with density plot\ngf_dhistogram(~Age, data = Fired_Randomly, color = \"yellow\", fill = \"orange\")%>%gf_density(color = \"cyan\")\n# Histogram with boxplot \ngf_histogram(~Age, data = Fired_Randomly, color = \"yellow\", fill = \"orange\")%>%\ngf_boxplot(width=.25)\n# Run the code a few times to simulate firing samples of people a few times. "
    },
    {
      "cell_type": "markdown",
      "metadata": {
        "cell_id": "32515652ae63451482f62647a07efa7c",
        "deepnote_cell_height": 154.734375,
        "deepnote_cell_type": "markdown"
      },
      "source": "### Do those simulated samples look like our empirical sample?\n\n4.3 - Is it rare to get a sample like our empirical sample? What are you looking at when you decide that a distribution is similar or different from our empirical sample?"
    },
    {
      "cell_type": "markdown",
      "metadata": {
        "cell_id": "de0e6a40e77e45b3a389027c075c34b7",
        "deepnote_cell_height": 236.296875,
        "deepnote_cell_type": "markdown",
        "tags": []
      },
      "source": "<div class=\"alert alert-block alert-warning\">\n\n**Sample Response**\n\n- The majority of the samples will (typically) look more like the whole distribution (of retained and fired employees). \n- Looking at shape of distributions.\n- Often students might look at the younger end of the distributions and notice those are different than the empirical sample.\n\n</div>"
    },
    {
      "cell_type": "markdown",
      "metadata": {
        "cell_id": "a1acbb2ce4ed4c7c88ae3b6256cfbb4f",
        "deepnote_cell_height": 115.9375,
        "deepnote_cell_type": "markdown",
        "tags": []
      },
      "source": "<div class=\"alert alert-block alert-success\">\n\n### 5.0 - Approximate Time:  12-15 mins\n\n</div>"
    },
    {
      "cell_type": "markdown",
      "metadata": {
        "cell_id": "f83b92c384b04025ac8dc1f36ee0c8bc",
        "deepnote_cell_height": 69.96875,
        "deepnote_cell_type": "markdown",
        "tags": []
      },
      "source": "## 5.0 - Re-cap and Summary"
    },
    {
      "cell_type": "markdown",
      "metadata": {
        "cell_id": "f6b5d02fb63e489bb98247a85c197db5",
        "deepnote_cell_height": 122.734375,
        "deepnote_cell_type": "markdown",
        "tags": []
      },
      "source": "### Who will this favor? Martin v. Westvaco\n\n5.1 - If it's very rare to randomly generate a random sample like the empirical sample of fired people, does that favor Martin or Westvaco? "
    },
    {
      "cell_type": "markdown",
      "metadata": {
        "cell_id": "8b97482b77494b0a8456c2cbd5d39549",
        "deepnote_cell_height": 74.75,
        "deepnote_cell_type": "markdown",
        "tags": []
      },
      "source": "5.2 - If it's not too hard to randomly generate a random sample like the empirical sample of fired people, does that favor Martin or Westvaco? "
    },
    {
      "cell_type": "markdown",
      "metadata": {
        "cell_id": "bd6086245e6b47afbb84eada77ecb505",
        "deepnote_cell_height": 163.125,
        "deepnote_cell_type": "markdown",
        "tags": []
      },
      "source": "<div class=\"alert alert-block alert-warning\">\n\n**Sample Response**\n\nIf it is rare to get a sample like the real one, it favors Martin. If it's not too hard to randomly get a sample like the real one, that favors Westvaco.\n\n</div>"
    },
    {
      "cell_type": "markdown",
      "metadata": {
        "cell_id": "b68dffa7cb56481bb609decc5407c636",
        "deepnote_cell_height": 975.390625,
        "deepnote_cell_type": "markdown"
      },
      "source": "### Analogy Time!\n\n#### Distribution Triad with Dice Rolls\n\n<img src=\"https://coursekata-course-assets.s3.us-west-1.amazonaws.com/UCLATALL/czi-stats-course/jnb_nFL51ytC-3-C-Dist-Triad-Dice-Rolls.png\" title=\"Visual summary of the dice example in chapter 3\" width = 70%/>\n\n#### Distribution Triad with Westvaco\n<img src=\"https://coursekata-course-assets.s3.us-west-1.amazonaws.com/UCLATALL/czi-stats-course/jnb_vQ02D06M-3-C-Dist-Triad-Westvaco.png\" title=\"Visual summary of today's Westvaco example\" width = 70%/>\n"
    },
    {
      "cell_type": "markdown",
      "metadata": {
        "cell_id": "ef8d5167596e47ef97f91afdc8a8644d",
        "deepnote_cell_height": 1242.640625,
        "deepnote_cell_type": "markdown",
        "tags": []
      },
      "source": "<div class=\"alert alert-block alert-warning\">\n\n### Sample Explanation for Graphic\n\n(Note: This organization using the three distributions of statistics, we call this the distribution triad, comes up repeatedly in course videos starting in chapter 4. We use it to align multiple examples to each other even though they are each in a different context. In this case the context is a comparison of the distribution of fair dice rolls and the distribution of fired employees.)\n\n1. We almost always start by just taking a look at the data... and data only represent a sample (sometimes we call this the empirical sample). \nIn the Westvaco case, we looked at the data for the people that were actually fired and those that were not fired. Things like 58 represent something about this sample.\n\n2. But in statistics, we are often interested in the Data Generating Process: how was that sample data generated? The hard thing about statistics is that we rarely have access to the actual DGP! But we can make little theories (or models) of the DGP.\nHere, we wondered -- could the DGP have had something to do with age? (e.g., FIRED = AGE + OTHER STUFF) Or did it have nothing to do with age? (e.g., FIRED = OTHER STUFF)\n\n3. Even though we can't look directly at the DGP, we can mimic a **random** DGP! We can mimic a random process that does NOT fire people based on age (or anything else). With computers, we can do this thousands of times! We can then wonder, \"Hm, even if we used a completely random process, sometimes we get a sample that looks like our empirical sample. Did our empirical sample come from a process like this random sample? Or from some other process?\"\n\n### Analogies\n\nA. *The Sample Distribution:*\n\n- **Dice** - If we take a sample of 24 dice rolls and do not get any rolls of 3, does this mean the die is not fair? Will it look like other random samples of 24 dice rolls?\n- **Westvaco** - The sample of people who were actually fired appears to have mostly older people. Is this likely to happen with other random samples?\n    \nB. *The Population Distribution/The DGP:*\n\n- **Dice** - the theory is that a fair die will have a uniform distribution, with every number having an equal likelihood\n- **Westvaco** - the theory is that the distribution of fired people should look similar to the distribution of all the employees (if they were truly fired randomly)\n\nC. *The Sampling Distribution:*\n\n- **Dice** - If we simulate several random samples (n=24) of dice rolls, how often do we get a distribution similar to our sample distribution? Sometimes we do not get any rolls of a particular number. Our samples don't look very much like a uniform distribution even though they came from a uniform DGP.\n- **Westvaco** -  If we simulate several random samples (n=22) of employees, how often do we get a distribution similar to our sample distribution? This is a hard question to eyeball but many students feel like our sample is maybe a bit more \"extremely old\" than the randomly generated samples. Some of the samples don't look very much like the population even though they were randomly selected from the gray histogram. \n\n</div>"
    }
  ],
  "metadata": {
    "deepnote_notebook_id": "bdd94402685e4f38a3113bdafe5aa11f",
    "kernelspec": {
      "display_name": "R",
      "language": "R",
      "name": "ir"
    },
    "language_info": {
      "codemirror_mode": "r",
      "file_extension": ".r",
      "mimetype": "text/x-r-source",
      "name": "R",
      "pygments_lexer": "r",
      "version": "4.3.3"
    },
    "nbsimplegrader": {
      "publish_config": {
        "classes": [],
        "options": [],
        "tools": []
      }
    }
  },
  "nbformat": 4,
  "nbformat_minor": 1
}