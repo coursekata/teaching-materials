{
  "cells": [
    {
      "cell_type": "markdown",
      "metadata": {
        "cell_id": "79d009b01e7f4cbfb2876c381c3f9800",
        "deepnote_cell_type": "markdown",
        "output_cleared": false,
        "tags": []
      },
      "source": "<div class=\"alert alert-block alert-danger\">\n\n# 7A: The NFL and Domestic Violence (COMPLETE)\n\n**Lesson assumes students have read up through page: 7.5**\n\n**Use with textbook version 6.0+**\n\n</div>"
    },
    {
      "cell_type": "markdown",
      "metadata": {
        "cell_id": "c6df0ee55beb4959b7282426b7456fa7",
        "deepnote_cell_height": 163.9375,
        "deepnote_cell_type": "markdown",
        "output_cleared": false,
        "tags": []
      },
      "source": "<div class=\"alert alert-block alert-success\">\n\n## Approximate time to complete Notebook: 60-75 Mins\n\n</div>"
    },
    {
      "cell_type": "code",
      "execution_count": null,
      "metadata": {
        "cell_id": "e4da2799382b4fc7b86a020a403a0d4d",
        "deepnote_cell_height": 263.953125,
        "deepnote_cell_type": "code",
        "execution_context_id": "1acdf3a0-006f-4ed4-8ad6-6ee568b5c22d",
        "execution_millis": 1147,
        "execution_start": 1742836482857,
        "source_hash": "68980a8",
        "tags": [],
        "trusted": true
      },
      "outputs": [],
      "source": "# This code will load the R packages we will use\nsuppressPackageStartupMessages({\n    library(coursekata)\n})\n\n# data cleaning\nnfl_suspend <- nfl_suspensions\nnfl_suspensions$repeat_offense <- recode(nfl_suspensions$category, \"Personal conduct\" = \"not drug related\", \"Substance abuse\" = \"first time\", \"Substance abuse, repeated offense\" = \"repeat drug offense\")\nnfl_suspensions$wrongdoing <- recode(nfl_suspensions$category, \"Substance abuse, repeated offense\" = \"Substance abuse\")\nnfl_suspend <- filter(nfl_suspensions, category != \"In-game violence\", category != \"PEDs\", category != \"PEDs, repeated offense\")\nnfl_suspend <- select(nfl_suspend, name, team, games, wrongdoing, repeat_offense, description, year, source)\nnfl_suspend <- filter(nfl_suspend, name != \"R. Rice\") "
    },
    {
      "cell_type": "markdown",
      "metadata": {
        "cell_id": "030dc9cafd5946e19ed43cd5404a6fd5",
        "deepnote_cell_height": 115.9375,
        "deepnote_cell_type": "markdown",
        "output_cleared": false,
        "tags": []
      },
      "source": "<div class=\"alert alert-block alert-success\">\n\n### 1.0 - Approximate Time: 3-5 mins\n\n</div>"
    },
    {
      "cell_type": "markdown",
      "metadata": {
        "cell_id": "d3c9af255c634baca10a45177a6c44a5",
        "deepnote_cell_height": 69.96875,
        "deepnote_cell_type": "markdown",
        "output_cleared": false,
        "tags": []
      },
      "source": "## 1.0 - Case Study of Ray Rice"
    },
    {
      "cell_type": "markdown",
      "metadata": {
        "cell_id": "83b0f32ce7a64092a1b31b973427958f",
        "deepnote_cell_height": 97.140625,
        "deepnote_cell_type": "markdown",
        "output_cleared": false,
        "tags": []
      },
      "source": "1.1 - In 2014, video emerged of a football player named Ray Rice physically abusing his then girlfriend (now wife) Janay Palmer. He was suspended for 2 games because of the notoriety of that incident. Does that punishment seem to fit the situation?"
    },
    {
      "cell_type": "markdown",
      "metadata": {
        "cell_id": "43f071defd254f6b8dc33f1ae36b1b31",
        "deepnote_cell_height": 166.109375,
        "deepnote_cell_type": "markdown",
        "output_cleared": false,
        "tags": []
      },
      "source": "<div class=\"alert alert-block alert-warning\">\n\n**Sample Response**\n\n- Students will vary in their opinion. \n- Students tend to feel that this was too low.\n\n</div>"
    },
    {
      "cell_type": "markdown",
      "metadata": {
        "cell_id": "d5b0ff59418843ff949d670ce604bf5a",
        "deepnote_cell_height": 209.109375,
        "deepnote_cell_type": "markdown",
        "output_cleared": false,
        "tags": []
      },
      "source": "1.2 - NFL commissioner, Roger Goodell, said at a press conference (shortly after this incident) that the suspension has to be consistent with other cases. A journalist attempted to get that data but the NFL spokesperson said they did not have a comprehensive list. Instead this journalist researched and gathered together this data set (called `nfl_suspend`) and made it public. Take a look at the information below. What are the cases? What is the outcome that is most relevant for judging whether Ray Rice's initial punishment fit the crime?\n"
    },
    {
      "cell_type": "markdown",
      "metadata": {
        "cell_id": "67d7e708697a4a9ea77f2243041e62d4",
        "deepnote_cell_height": 566.40625,
        "deepnote_cell_type": "markdown",
        "output_cleared": false,
        "tags": []
      },
      "source": "### About the Data\n\nIn the `nfl_suspend` data frame (preloaded with the R packages code) you will find the following variables:\n\n**Variables**:\n\n- `name`\t\tFirst initial. Last name\n- `team`\t\tTeam at time of suspension\n- `games`\t    Number of games suspended (one regular season = 16 games); some individuals were suspended indefinitely (coded as \"Indef.\")\n- `wrongdoing`  The type of wrongdoing; the two possible types are: Personal conduct, or Substance abuse\n- `repeat_offense` Whether it was a repeat drug offense or not\n- `description`\tDescription of offense\n- `year`\t\tYear of suspension\n- `source`\t    News source\n\nNote that this data set has been condensed. There are two other categories of wrongdoing that\nare more specific to athleticism that players can be suspended for (e.g., in-game violence and performance\nenhancing drugs). The two categories of wrongdoing here are ones that also have criminal implications\n(e.g., a regular person would also be punished for these offenses)."
    },
    {
      "cell_type": "markdown",
      "metadata": {
        "cell_id": "8e01f74f4211423bb5ce2a3050aeb861",
        "deepnote_cell_height": 166.109375,
        "deepnote_cell_type": "markdown",
        "output_cleared": false,
        "tags": []
      },
      "source": "<div class=\"alert alert-block alert-warning\">\n\n**Sample Response**\n\n- The cases are the players (specifically, suspended players).\n- The outcome that is most relevant is the variable `games`.\n\n</div>"
    },
    {
      "cell_type": "markdown",
      "metadata": {
        "cell_id": "03d09a08c8514462b79435fe5acf7034",
        "deepnote_cell_height": 115.9375,
        "deepnote_cell_type": "markdown",
        "output_cleared": false,
        "tags": []
      },
      "source": "<div class=\"alert alert-block alert-success\">\n\n### 2.0 - Approximate Time: 10-12 mins\n\n</div>"
    },
    {
      "cell_type": "markdown",
      "metadata": {
        "cell_id": "5fb721f3c1874b979a59f3aadbee4294",
        "deepnote_cell_height": 69.96875,
        "deepnote_cell_type": "markdown",
        "output_cleared": false,
        "tags": []
      },
      "source": "## 2.0 - Exploring Variation"
    },
    {
      "cell_type": "markdown",
      "metadata": {
        "cell_id": "1b708b2096cd48c68819f8ad84c8d0c8",
        "deepnote_cell_height": 74.75,
        "deepnote_cell_type": "markdown",
        "output_cleared": false,
        "tags": []
      },
      "source": "2.1 - Try creating a histogram of game suspensions. You will find that there is an error. List some theories as to why you think this error might have occurred."
    },
    {
      "cell_type": "markdown",
      "metadata": {
        "cell_id": "15ffe89af02a4933828e74b8aa683a88",
        "deepnote_cell_height": 199.515625,
        "deepnote_cell_type": "markdown",
        "output_cleared": false,
        "tags": []
      },
      "source": "<div class=\"alert alert-block alert-warning\">\n\n**Sample Response**\n\nWe can't see the distribution in a histogram because R has coded the variable as a \"character\" (or categorical) variable because of the instances of indefinite suspensions. \n\nSo even though it looks like some people were suspended 2 games, R thinks it is \"2\" games.\n\n</div>"
    },
    {
      "cell_type": "markdown",
      "metadata": {
        "cell_id": "a26e567e0b304160abc9fa93d2fbc4b5",
        "deepnote_cell_height": 97.140625,
        "deepnote_cell_type": "markdown",
        "output_cleared": false,
        "tags": []
      },
      "source": "2.2 - CLEANING THE DATA. Let's try \"cleaning up the data\" to allow us to create a histogram for `games`. Just so we are all on the same page, let's save this as a new data frame called `nflsuspend_clean`."
    },
    {
      "cell_type": "markdown",
      "metadata": {
        "cell_id": "e7fb4f42511b44478aac5faf239b2bad",
        "deepnote_cell_height": 244.296875,
        "deepnote_cell_type": "markdown",
        "output_cleared": false,
        "tags": []
      },
      "source": "<div class=\"alert alert-block alert-warning\">\n\n**Sample Response**\n\nWe can use the `as.numeric()` function to tell R that we want to think of these values as numbers. It may be helpful to save these values in a new variable (e.g., called `games_num`) so that we can leave the original variable `games` alone.\n\nNote that doing so will make all the \"Indef.\" suspended players have NA as their value for `games_num`. So we may want to filter them out.\n\n</div>"
    },
    {
      "cell_type": "code",
      "execution_count": null,
      "metadata": {
        "cell_id": "90f59a54e9384a06a24fbf4d38fe17c6",
        "deepnote_cell_height": 314.953125,
        "deepnote_cell_type": "code",
        "deepnote_to_be_reexecuted": false,
        "execution_context_id": "1acdf3a0-006f-4ed4-8ad6-6ee568b5c22d",
        "execution_millis": 572,
        "execution_start": 1742836484057,
        "output_cleared": false,
        "source_hash": "2e0c3b50",
        "tags": [],
        "trusted": true
      },
      "outputs": [],
      "source": "# We can use the as.numeric() function to change the values of games into numbers\n# This creates a new variable called games_num\nnfl_suspend$games_num <- as.numeric(nfl_suspend$games)\n\n# Check the new variable\nstr(nfl_suspend)\n\n# Create a new data frame called nfl_suspend_clean that does not include the missing data\nnfl_suspend_clean <- filter(nfl_suspend, games_num != \"NA\")\n\n# Try putting it into a visualization again\ngf_histogram(~games_num, data = nfl_suspend_clean, fill = \"cornflowerblue\" , color = \"antiquewhite2\")\ngf_boxplot(games_num~1, data = nfl_suspend_clean, fill = \"powderblue\" , color = \"darkorchid\")\n"
    },
    {
      "cell_type": "markdown",
      "metadata": {
        "cell_id": "23c8407ca4494d3ebef0a5b5cea43d2a",
        "deepnote_cell_height": 74.75,
        "deepnote_cell_type": "markdown",
        "output_cleared": false,
        "tags": []
      },
      "source": "2.3 - If you did not already do so in 2.2, create a histogram of the number of suspensions. Then describe the distribution. "
    },
    {
      "cell_type": "markdown",
      "metadata": {
        "cell_id": "0da70f0154cc477bb2cadb88d9e99bbb",
        "deepnote_cell_height": 185.515625,
        "deepnote_cell_type": "markdown",
        "output_cleared": false,
        "tags": []
      },
      "source": "<div class=\"alert alert-block alert-warning\">\n\n**Sample Response**\n\nThe distribution appears to be skewed, with most suspensions around 4-5 games, and a few suspensions being really high, including some that are for an entire 1-2 seasons (e.g., 16-32 games).\n\n</div>"
    },
    {
      "cell_type": "markdown",
      "metadata": {
        "cell_id": "f873da6e35f243d083599cbb3acd0ddf",
        "deepnote_cell_height": 74.75,
        "deepnote_cell_type": "markdown",
        "output_cleared": false,
        "tags": []
      },
      "source": "2.4 - Wow, there are some players that were suspended over 30 games. What did they do? Based on what you see so far, was this warranted? \n"
    },
    {
      "cell_type": "code",
      "execution_count": null,
      "metadata": {
        "cell_id": "f44495559e9c4e0cbbeb62c9f93b2288",
        "deepnote_cell_type": "code",
        "deepnote_to_be_reexecuted": false,
        "execution_context_id": "1acdf3a0-006f-4ed4-8ad6-6ee568b5c22d",
        "execution_millis": 2,
        "execution_start": 1742836484677,
        "output_cleared": false,
        "source_hash": "296a1875",
        "tags": [],
        "trusted": true
      },
      "outputs": [],
      "source": "# There are many ways to check the players suspended over 30 games; here are a couple of ideas\n\n# Idea 1\nhead(arrange(nfl_suspend_clean, desc(games_num)))\n\n# Idea 2\nfilter(nfl_suspend_clean, games_num > 30)\n"
    },
    {
      "cell_type": "markdown",
      "metadata": {
        "cell_id": "8ec657484200442f97bb73a52fcb7c06",
        "deepnote_cell_height": 185.515625,
        "deepnote_cell_type": "markdown",
        "output_cleared": false,
        "tags": []
      },
      "source": "<div class=\"alert alert-block alert-warning\">\n\n**Sample Response**\n\nThe three players that were suspended over 30 games had wrongdoings related to substance abuse and personal conduct (gambling), and two of them had repeated offenses.\n\n</div> "
    },
    {
      "cell_type": "markdown",
      "metadata": {
        "cell_id": "3de6ccfcbd6c4c25929605e67883641e",
        "deepnote_cell_height": 115.9375,
        "deepnote_cell_type": "markdown",
        "output_cleared": false,
        "tags": []
      },
      "source": "<div class=\"alert alert-block alert-success\">\n\n### 3.0 - Approximate Time: 8-10 mins\n\n</div>"
    },
    {
      "cell_type": "markdown",
      "metadata": {
        "cell_id": "537cf9e144094d93b0a257d1174a2ed7",
        "deepnote_cell_height": 69.96875,
        "deepnote_cell_type": "markdown",
        "output_cleared": false,
        "tags": []
      },
      "source": "## 3.0 - Explaining Variation"
    },
    {
      "cell_type": "markdown",
      "metadata": {
        "cell_id": "0a30bfaccbd642508f8bfdb06178f775",
        "deepnote_cell_height": 119.53125,
        "deepnote_cell_type": "markdown",
        "output_cleared": false,
        "tags": []
      },
      "source": "3.1 - What are the different categories of `wrongdoing`? In your opinion, do you think one of the categories of `wrongdoing` deserves more game suspensions than the other? If so, which one should outrank the other one? (Note: Depending on our values and experiences, you may disagree. Feel free to write down more than one opinion from your group.)"
    },
    {
      "cell_type": "code",
      "execution_count": null,
      "metadata": {
        "cell_id": "369dae4351e746fbb30d9c02094de1c5",
        "deepnote_cell_height": 191.546875,
        "deepnote_cell_type": "code",
        "deepnote_output_heights": [
          58.59375
        ],
        "deepnote_to_be_reexecuted": false,
        "execution_context_id": "1acdf3a0-006f-4ed4-8ad6-6ee568b5c22d",
        "execution_millis": 1,
        "execution_start": 1742836484727,
        "output_cleared": false,
        "source_hash": "d0e9de25",
        "tags": [],
        "trusted": true
      },
      "outputs": [],
      "source": "# The different categories can be found by checking the variable description list or by using code\n# For example, using tally()\ntally(~wrongdoing, data = nfl_suspend_clean)"
    },
    {
      "cell_type": "markdown",
      "metadata": {
        "cell_id": "843c5fdc385e401596d16ee99c524564",
        "deepnote_cell_height": 238.90625,
        "deepnote_cell_type": "markdown",
        "output_cleared": false,
        "tags": []
      },
      "source": "<div class=\"alert alert-block alert-warning\">\n\n**Sample Response**\n\nThe categories of wrongdoing are: \n\n- Personal conduct\n- Substance abuse\n\n*Students' opinions will vary on which categories they think deserve harsher punishment.*\n\n</div>"
    },
    {
      "cell_type": "markdown",
      "metadata": {
        "cell_id": "d673cd50c93e4a2f9f8c08b8fb226584",
        "deepnote_cell_height": 74.75,
        "deepnote_cell_type": "markdown",
        "output_cleared": false,
        "tags": []
      },
      "source": "3.2 - Make TWO different visualizations to explore the relationship between types of wrongdoing and suspensions. What do you notice?"
    },
    {
      "cell_type": "code",
      "execution_count": null,
      "metadata": {
        "cell_id": "76ae7df49a5549e6b26fc529ef9227c7",
        "deepnote_cell_height": 224.953125,
        "deepnote_cell_type": "code",
        "deepnote_to_be_reexecuted": false,
        "execution_context_id": "1acdf3a0-006f-4ed4-8ad6-6ee568b5c22d",
        "execution_millis": 496,
        "execution_start": 1742836484777,
        "output_cleared": false,
        "source_hash": "93b74479",
        "tags": [],
        "trusted": true
      },
      "outputs": [],
      "source": "# Sample faceted histogram\ngf_histogram(~games_num, data = nfl_suspend_clean, fill = \"darkgreen\", color = \"gold\") %>% \n    gf_facet_grid(wrongdoing ~ .)\n\n# Sample boxplots\ngf_boxplot(games_num ~ wrongdoing, data = nfl_suspend_clean, fill = \"gold\", color = \"darkgreen\")\n\n# Sample jitter (can chain onto boxplots as well)\ngf_jitter(games_num ~ wrongdoing, data = nfl_suspend_clean, color = \"black\", alpha = .3, size = 3, width=.2)"
    },
    {
      "cell_type": "markdown",
      "metadata": {
        "cell_id": "45b87750583440bab2694af37a7b3413",
        "deepnote_cell_height": 247.296875,
        "deepnote_cell_type": "markdown",
        "output_cleared": false,
        "tags": []
      },
      "source": "<div class=\"alert alert-block alert-warning\">\n\n**Sample Responses**\n\n*Students may make the following observations:*\n\n- Personal conduct appears to have a little less variation; a lot of them are bunched up on in one spot, around 2-3 suspensions, with a few outliers that are much higher than that.\n- Substance abuse appears to have roughly two peaks bunched up around 4-5 and 15-16 suspensions, with some outliers above that as well.\n\n</div>"
    },
    {
      "cell_type": "markdown",
      "metadata": {
        "cell_id": "8099a0f8892a49e08935d749d23b9f1d",
        "deepnote_cell_height": 97.140625,
        "deepnote_cell_type": "markdown",
        "output_cleared": false,
        "tags": []
      },
      "source": "3.3 - Do you think by knowing what a player did wrong, we can explain some of the variation in their game suspension? What does it mean to “explain variation”? How would we write this idea as a word equation?"
    },
    {
      "cell_type": "markdown",
      "metadata": {
        "cell_id": "a31606f9402c4437a46189bf46b0c16a",
        "deepnote_cell_height": 258.6875,
        "deepnote_cell_type": "markdown",
        "output_cleared": false,
        "tags": []
      },
      "source": "<div class=\"alert alert-block alert-warning\">\n\n**Sample Response**\n\n- It looks like knowing what a player did wrong may help us explain some variation in their number of game suspensions.\n\n- To explain variation means if we know something more about a player, such as what their wrongdoing was, we can make a better guess at the number of suspensions they are likely to get; we'll be slightly less wrong than if we did not know that about them.\n\n- Word equation: **games_num = wrongdoing + other stuff**\n\n</div>"
    },
    {
      "cell_type": "markdown",
      "metadata": {
        "cell_id": "2351d2b5838940e0b588e7628e0b8a42",
        "deepnote_cell_height": 115.9375,
        "deepnote_cell_type": "markdown",
        "output_cleared": false,
        "tags": []
      },
      "source": "<div class=\"alert alert-block alert-success\">\n\n### 4.0 - Approximate Time: 8-10 mins\n\n</div>"
    },
    {
      "cell_type": "markdown",
      "metadata": {
        "cell_id": "99526e8ccbb44753be088ad79577cd85",
        "deepnote_cell_height": 69.96875,
        "deepnote_cell_type": "markdown",
        "output_cleared": false,
        "tags": []
      },
      "source": "## 4.0 - Modeling Variation: The Empty Model"
    },
    {
      "cell_type": "markdown",
      "metadata": {
        "cell_id": "8b1e15d27f0b422fa3bcf7e0f34028d8",
        "deepnote_cell_height": 52.359375,
        "deepnote_cell_type": "markdown",
        "output_cleared": false,
        "tags": []
      },
      "source": "4.1 -  Create an empty model for game suspensions and write it in GLM notation. "
    },
    {
      "cell_type": "code",
      "execution_count": null,
      "metadata": {
        "cell_id": "3c914136d59b4fc687895c5f2ffdd33d",
        "deepnote_cell_height": 165.953125,
        "deepnote_cell_type": "code",
        "deepnote_to_be_reexecuted": false,
        "execution_context_id": "1acdf3a0-006f-4ed4-8ad6-6ee568b5c22d",
        "execution_millis": 1,
        "execution_start": 1742836485317,
        "output_cleared": false,
        "source_hash": "570e847b",
        "tags": [],
        "trusted": true
      },
      "outputs": [],
      "source": "# Create empty model\nempty_model <- lm(games_num ~ NULL, data = nfl_suspend_clean)\nempty_model\n\n# Or run favstats()\nfavstats(~games_num, data = nfl_suspend_clean)"
    },
    {
      "cell_type": "markdown",
      "metadata": {
        "cell_id": "cf78cffa5af34d41bf6c17f3f59bd556",
        "deepnote_cell_height": 140.71875,
        "deepnote_cell_type": "markdown",
        "output_cleared": false,
        "tags": []
      },
      "source": "<div class=\"alert alert-block alert-warning\">\n\n**Sample Response**\n\n- games_num = 5.55 + Other Stuff\n\n</div>"
    },
    {
      "cell_type": "markdown",
      "metadata": {
        "cell_id": "b0461824fb00429fa16514f19669df1a",
        "deepnote_cell_height": 74.75,
        "deepnote_cell_type": "markdown",
        "output_cleared": false,
        "tags": []
      },
      "source": "4.2 - Based on *this model*, if you had to predict that a future player would be suspended for some wrongdoing, what would be the predicted suspensions?"
    },
    {
      "cell_type": "markdown",
      "metadata": {
        "cell_id": "dd6babc6f4f144dc8453dbe7a3024cca",
        "deepnote_cell_height": 140.71875,
        "deepnote_cell_type": "markdown",
        "output_cleared": false,
        "tags": []
      },
      "source": "<div class=\"alert alert-block alert-warning\">\n\n**Sample Response**\n\nWe would predict that they would be suspended about 5.55 games.\n\n</div>"
    },
    {
      "cell_type": "markdown",
      "metadata": {
        "cell_id": "ede0343cfdf44a19981e201676d39eeb",
        "deepnote_cell_height": 74.75,
        "deepnote_cell_type": "markdown",
        "output_cleared": false,
        "tags": []
      },
      "source": "4.3 - Use the empty model to generate predicted suspensions for all the cases in the data frame. Save it as a new variable called `empty_prediction` inside the data frame, `nfl_suspend_clean`."
    },
    {
      "cell_type": "code",
      "execution_count": null,
      "metadata": {
        "cell_id": "241ce4f5bc574f6facc87f0d013a2c1f",
        "deepnote_cell_height": 444.859375,
        "deepnote_cell_type": "code",
        "deepnote_output_heights": [
          275.90625
        ],
        "deepnote_to_be_reexecuted": false,
        "execution_context_id": "1acdf3a0-006f-4ed4-8ad6-6ee568b5c22d",
        "execution_millis": 0,
        "execution_start": 1742836485368,
        "output_cleared": false,
        "source_hash": "81f6453e",
        "tags": [],
        "trusted": true
      },
      "outputs": [],
      "source": "# Create the variable empty_prediction using the predict() function with the empty model\nnfl_suspend_clean$empty_prediction <- predict(empty_model)\n\n# Check that it worked\nhead(nfl_suspend_clean)"
    },
    {
      "cell_type": "markdown",
      "metadata": {
        "cell_id": "d1935bef081744d3bb2061356b10d23d",
        "deepnote_cell_height": 52.359375,
        "deepnote_cell_type": "markdown",
        "output_cleared": false,
        "tags": []
      },
      "source": "4.4 - Run the jitter plot below. "
    },
    {
      "cell_type": "code",
      "execution_count": null,
      "metadata": {
        "cell_id": "0c1b11f887124116acb5a71a847037ac",
        "deepnote_cell_height": 706.953125,
        "deepnote_cell_type": "code",
        "deepnote_output_heights": [
          610
        ],
        "deepnote_to_be_reexecuted": false,
        "execution_context_id": "1acdf3a0-006f-4ed4-8ad6-6ee568b5c22d",
        "execution_millis": 83,
        "execution_start": 1742836485427,
        "source_hash": "8ba72757",
        "tags": [],
        "trusted": true
      },
      "outputs": [],
      "source": "gf_jitter(games_num ~ wrongdoing, data = nfl_suspend_clean, color = \"black\", alpha = .3, size = 3, width=.2)"
    },
    {
      "cell_type": "markdown",
      "metadata": {
        "cell_id": "61b19af6ddb546d0a546d2d387c6896e",
        "deepnote_cell_height": 102.75,
        "deepnote_cell_type": "markdown",
        "tags": []
      },
      "source": "What do you think would happen if we piped/ chained on this line of code?:\n\n> `gf_jitter(empty_prediction ~ wrongdoing, color = \"blue\", height = 0)`\n"
    },
    {
      "cell_type": "markdown",
      "metadata": {
        "cell_id": "fce200e8ad364e5294c43bff678c2414",
        "deepnote_cell_height": 188.515625,
        "deepnote_cell_type": "markdown",
        "output_cleared": false,
        "tags": []
      },
      "source": "<div class=\"alert alert-block alert-warning\">\n\n**Sample Response**\n\n- It will show the predicted values based on the empty model.\n- Students may offer some wrong answers: it will create a new jitter plot, it will create a different prediction depending on wrongdoing.\n\n</div>"
    },
    {
      "cell_type": "markdown",
      "metadata": {
        "cell_id": "840b962029f44e95858114721ee950cc",
        "deepnote_cell_height": 74.75,
        "deepnote_cell_type": "markdown",
        "tags": []
      },
      "source": "4.5 - Actually pipe on the code to the jitter plot to see what happens. Did you guess correctly? What does that blue line mean?"
    },
    {
      "cell_type": "code",
      "execution_count": null,
      "metadata": {
        "cell_id": "4f7cebdf198143bb805061eda50b15fd",
        "deepnote_cell_height": 724.953125,
        "deepnote_cell_type": "code",
        "deepnote_output_heights": [
          610
        ],
        "deepnote_to_be_reexecuted": false,
        "execution_context_id": "1acdf3a0-006f-4ed4-8ad6-6ee568b5c22d",
        "execution_millis": 235,
        "execution_start": 1742836515590,
        "output_cleared": false,
        "source_hash": "a0a2118c",
        "tags": [],
        "trusted": true
      },
      "outputs": [],
      "source": "gf_jitter(games_num ~ wrongdoing, data = nfl_suspend_clean, color = \"black\", alpha = .3, size = 3, width=.2) %>%\n    gf_jitter(empty_prediction ~ wrongdoing, color = \"blue\", height = 0, width=.2)"
    },
    {
      "cell_type": "markdown",
      "metadata": {
        "cell_id": "c34116d606524be6a06f952cc67df614",
        "deepnote_cell_height": 163.125,
        "deepnote_cell_type": "markdown",
        "output_cleared": false,
        "tags": []
      },
      "source": "<div class=\"alert alert-block alert-warning\">\n\n**Sample Response**\n\n- The blue line represents the mean or empty model, which is showing a point prediction at the mean for every point or row in the data frame.\n\n</div>"
    },
    {
      "cell_type": "markdown",
      "metadata": {
        "cell_id": "43c6cd2b1f7149159a651c64c3d1b272",
        "deepnote_cell_height": 115.9375,
        "deepnote_cell_type": "markdown",
        "output_cleared": false,
        "tags": []
      },
      "source": "<div class=\"alert alert-block alert-success\">\n\n### 5.0 - Approximate Time: 15-18 mins\n\n</div>"
    },
    {
      "cell_type": "markdown",
      "metadata": {
        "cell_id": "7bb4f6e5e2f344eba30b428584ce9078",
        "deepnote_cell_height": 109.96875,
        "deepnote_cell_type": "markdown",
        "output_cleared": false,
        "tags": []
      },
      "source": "## 5.0 - Modeling Variation: The Wrongdoing Model"
    },
    {
      "cell_type": "markdown",
      "metadata": {
        "cell_id": "82c0904a42a44e0ebbda7c2f9751f6bc",
        "deepnote_cell_height": 74.75,
        "deepnote_cell_type": "markdown",
        "output_cleared": false,
        "tags": []
      },
      "source": "5.1 - Just by looking at the jitter plot above, if a future player would commit personal conduct versus substance abuse, which wrongdoing would you think will lead to more game suspensions?"
    },
    {
      "cell_type": "markdown",
      "metadata": {
        "cell_id": "d8cf2b670d514e9b86b106769bc47ef4",
        "deepnote_cell_height": 163.125,
        "deepnote_cell_type": "markdown",
        "output_cleared": false,
        "tags": []
      },
      "source": "<div class=\"alert alert-block alert-warning\">\n\n**Sample Response**\n\nSubstance abuse will probably lead to a higher number of game suspensions than personal conduct.\n\n</div>"
    },
    {
      "cell_type": "markdown",
      "metadata": {
        "cell_id": "bc21390c17664fc18453dd34cdd32694",
        "deepnote_cell_height": 178.328125,
        "deepnote_cell_type": "markdown",
        "output_cleared": false,
        "tags": []
      },
      "source": "5.2 - Now create or \"fit\" a model based on **wrongdoing** (instead of an empty model) and let's call it `wrongdoing_model`. This will help us make a better prediction of game suspensions based on additional information about the type of wrongdoing. \n\n(Note: To \"fit\" a model means that we are going to find the best possible numbers for making this prediction. In statistics and data science, \"best possible\" means the one that minimizes sum of squared error.)"
    },
    {
      "cell_type": "code",
      "execution_count": null,
      "metadata": {
        "cell_id": "35b43fc3b32a45619a00e91764c11b3a",
        "deepnote_cell_height": 263.375,
        "deepnote_cell_type": "code",
        "deepnote_output_heights": [
          135.421875
        ],
        "deepnote_to_be_reexecuted": false,
        "execution_context_id": "1acdf3a0-006f-4ed4-8ad6-6ee568b5c22d",
        "execution_millis": 1,
        "execution_start": 1742836485737,
        "output_cleared": false,
        "source_hash": "7cec45e8",
        "tags": [],
        "trusted": true
      },
      "outputs": [],
      "source": "# Fit the wrongdoing model\nwrong_model <- lm(games_num ~ wrongdoing, data = nfl_suspend_clean)\nwrong_model"
    },
    {
      "cell_type": "markdown",
      "metadata": {
        "cell_id": "24f83f476bfa43bb817360d4e2444a71",
        "deepnote_cell_height": 97.140625,
        "deepnote_cell_type": "markdown",
        "output_cleared": false,
        "tags": []
      },
      "source": "5.3 - Now use the wrongdoing model to generate predicted supsensions for all the cases in the data frame based on their wrongdoing. Save it as a new variable called `wrongdoing_prediction` inside the data frame, `nfl_suspend_clean`."
    },
    {
      "cell_type": "code",
      "execution_count": null,
      "metadata": {
        "cell_id": "91707bb49d28428eb69dc7bb653f5b03",
        "deepnote_cell_height": 444.859375,
        "deepnote_cell_type": "code",
        "deepnote_output_heights": [
          275.90625
        ],
        "deepnote_to_be_reexecuted": false,
        "execution_context_id": "1acdf3a0-006f-4ed4-8ad6-6ee568b5c22d",
        "execution_millis": 0,
        "execution_start": 1742836485798,
        "output_cleared": false,
        "source_hash": "22d2e982",
        "tags": [],
        "trusted": true
      },
      "outputs": [],
      "source": "# Create a variable called wrongdoing_prediction using the predict() function with the wrongdoing model\nnfl_suspend_clean$wrongdoing_prediction <- predict(wrong_model)\n\n# Check that it worked\nhead(nfl_suspend_clean)"
    },
    {
      "cell_type": "markdown",
      "metadata": {
        "cell_id": "4158909606a047699409dd3dc937f56c",
        "deepnote_cell_height": 74.75,
        "deepnote_cell_type": "markdown",
        "output_cleared": false,
        "tags": []
      },
      "source": "5.4 - Here is the jitter plot again. Add in some code to show the predictions from the wrongdoing model also (in a different color). "
    },
    {
      "cell_type": "code",
      "execution_count": null,
      "metadata": {
        "cell_id": "d19a1379f03e46c59ee219af9539629c",
        "deepnote_cell_height": 760.953125,
        "deepnote_cell_type": "code",
        "deepnote_output_heights": [
          610
        ],
        "deepnote_to_be_reexecuted": false,
        "execution_context_id": "1acdf3a0-006f-4ed4-8ad6-6ee568b5c22d",
        "execution_millis": 109,
        "execution_start": 1742836485857,
        "output_cleared": false,
        "source_hash": "a9532ce1",
        "tags": [],
        "trusted": true
      },
      "outputs": [],
      "source": "# Change empty_prediction to wrongdoing_prediction and change the color\ngf_jitter(games_num ~ wrongdoing, data = nfl_suspend_clean, color = \"black\", alpha = .3, size = 3, width = .2) %>%\n    gf_jitter(wrongdoing_prediction ~ wrongdoing, color = \"forestgreen\", height = 0, width = .2)\n"
    },
    {
      "cell_type": "markdown",
      "metadata": {
        "cell_id": "131facf8a137491694f8d7b5dc3f493e",
        "deepnote_cell_height": 125.140625,
        "deepnote_cell_type": "markdown",
        "output_cleared": false,
        "tags": []
      },
      "source": "5.5 - Which does the wrongdoing model predict: \n\n(a) Which type of wrongdoing was committed? \n\n(b) How many game suspensions someone would receive for a particular kind of wrongdoing?"
    },
    {
      "cell_type": "markdown",
      "metadata": {
        "cell_id": "d5a4ade377264e9cb2c5783d91beaf54",
        "deepnote_cell_height": 163.125,
        "deepnote_cell_type": "markdown",
        "output_cleared": false,
        "tags": []
      },
      "source": "<div class=\"alert alert-block alert-warning\">  \n\n**Sample Response**\n\nGame suspensions, that is the outcome of interest.\n\n</div>"
    },
    {
      "cell_type": "markdown",
      "metadata": {
        "cell_id": "3100ec1dc3fd4364bf890affab7cad04",
        "deepnote_cell_height": 52.359375,
        "deepnote_cell_type": "markdown",
        "output_cleared": false,
        "tags": []
      },
      "source": "5.6 - Why do we call it the wrongdoing model?"
    },
    {
      "cell_type": "markdown",
      "metadata": {
        "cell_id": "a819348b04014fb6bedfbb5b42b6ba10",
        "deepnote_cell_height": 140.71875,
        "deepnote_cell_type": "markdown",
        "output_cleared": false,
        "tags": []
      },
      "source": "<div class=\"alert alert-block alert-warning\">\n\n**Sample Response**\n\nBecause in this model, we are using wrongdoing to explain variation in game suspensions. \n\n</div>"
    },
    {
      "cell_type": "markdown",
      "metadata": {
        "cell_id": "862d4d49429c468995051f8250faafd1",
        "deepnote_cell_height": 462.046875,
        "deepnote_cell_type": "markdown",
        "output_cleared": false,
        "tags": []
      },
      "source": "5.7 - Here is the model in GLM notation that includes the best fitting estimates you found above. \n\n$$games\\_num_i = 4.29 + 2.58 wrongdoing_{i} + e_i$$\n\nWhat do the numbers mean? \n\nHere is a close up of the jitter plot we made above (the predictions, in particular). Where do we \"see\" these numbers?\n\n<img src=\"https://coursekata-course-assets.s3.us-west-1.amazonaws.com/UCLATALL/czi-stats-course/jnb_7A_predict.png\" title=\"close up of jitter plot\" />"
    },
    {
      "cell_type": "markdown",
      "metadata": {
        "cell_id": "82941d05069b413e98f66203a6c87454",
        "deepnote_cell_height": 558.046875,
        "deepnote_cell_type": "markdown",
        "output_cleared": false,
        "tags": []
      },
      "source": "<div class=\"alert alert-block alert-warning\">\n\n**Sample Responses**\n\n<img src=\"https://coursekata-course-assets.s3.us-west-1.amazonaws.com/UCLATALL/czi-stats-course/jnb_7A_b0b1.png\" title=\"the interpretations of the b0,and b1\" />\n\n- These numbers tell us what the intercept and the increments are for each group mean. \n- The intercept, ($b_0$) , is the mean for the first group (the value predicted when the wrongdoing is Personal conduct).\n- $b_1$ is how much to add on to the mean of the first group to get the mean for the second group.\n- The increment ($b_1$) represents the difference in group means between the first group and the second group. \n\nNote to instructors: The image below labels the $b_0$ and $b_1$. You can discuss with your students how those translate to the numbers from the output above. Students very often will think that b1 is the mean for the second group. It is important to spend time clarifying that misconception. Having students physically draw each coefficient on the graphs would also be helpful (you can print out copies of the graphs for them or have them draw a version of the jitterplots to add the lines and numbers to).\n\n</div>"
    },
    {
      "cell_type": "markdown",
      "metadata": {
        "cell_id": "e0490d4981114c658a0861a3dd14d6bd",
        "deepnote_cell_height": 97.5625,
        "deepnote_cell_type": "markdown",
        "output_cleared": false,
        "tags": []
      },
      "source": "5.8 - What would $X_{i}$ be for someone who was suspended for substance abuse? \nWhat would this person's $X_{0}$ be?\nWhat would the model predict as the number of game suspensions for this person?"
    },
    {
      "cell_type": "markdown",
      "metadata": {
        "cell_id": "c8692d6017c94376b895c96393b6d907",
        "deepnote_cell_height": 236.3125,
        "deepnote_cell_type": "markdown",
        "output_cleared": false,
        "tags": []
      },
      "source": "<div class=\"alert alert-block alert-warning\">\n\n**Sample Response**\n\nFor substance abuse, $X_{i}$ would be 1, and $X_{0}$ would be 4.29.\n\nThis way, when we multiply $b_{1}$ (2.58) by 1, we get 2.58, and we can add that on to the intercept (4.29) to get the group mean for substance abuse.\n\nThe model would predict 6.87 game suspensions for this person.\n\n</div>"
    },
    {
      "cell_type": "markdown",
      "metadata": {
        "cell_id": "03a411c95fb84ffea60679d64e199417",
        "deepnote_cell_height": 115.9375,
        "deepnote_cell_type": "markdown",
        "output_cleared": false,
        "tags": []
      },
      "source": "<div class=\"alert alert-block alert-success\">\n\n### 6.0 - Approximate Time: 12-15 mins\n\n</div>"
    },
    {
      "cell_type": "markdown",
      "metadata": {
        "cell_id": "936c8649ff9e43d5b7493456aaea0076",
        "deepnote_cell_height": 69.96875,
        "deepnote_cell_type": "markdown",
        "output_cleared": false,
        "tags": []
      },
      "source": "## 6.0 - Comparing these Two Models"
    },
    {
      "cell_type": "markdown",
      "metadata": {
        "cell_id": "5a7f52288ca5449daaf4dbd246f15655",
        "deepnote_cell_height": 74.75,
        "deepnote_cell_type": "markdown",
        "output_cleared": false,
        "tags": []
      },
      "source": "6.1 - What would the **wrongdoing model** predict as the number of games suspended for someone who committed domestic violence (that would fall under `Personal conduct`)? "
    },
    {
      "cell_type": "code",
      "execution_count": null,
      "metadata": {
        "cell_id": "fe41d56dd7f64fdeb064690adadc79c4",
        "deepnote_cell_height": 183.953125,
        "deepnote_cell_type": "code",
        "deepnote_to_be_reexecuted": false,
        "execution_context_id": "1acdf3a0-006f-4ed4-8ad6-6ee568b5c22d",
        "execution_millis": 0,
        "execution_start": 1742836486018,
        "output_cleared": false,
        "source_hash": "4e1cca53",
        "tags": [],
        "trusted": true
      },
      "outputs": [],
      "source": "# A few ideas for finding the prediction\n\n# Idea 1: Calculate based on model estimates\n4.29 + 2.58*0\n\n# Idea 2: Use the select() function\nselect(nfl_suspend_clean, wrongdoing, wrongdoing_prediction)"
    },
    {
      "cell_type": "markdown",
      "metadata": {
        "cell_id": "304a11dc0e9d451f805cc75eab031b98",
        "deepnote_cell_height": 140.71875,
        "deepnote_cell_type": "markdown",
        "output_cleared": false,
        "tags": []
      },
      "source": "<div class=\"alert alert-block alert-warning\">\n\n**Sample Response**\n\nThe wrongdoing model would predict that they would be suspended for 4.29 games.\n\n</div>"
    },
    {
      "cell_type": "markdown",
      "metadata": {
        "cell_id": "354bbe1cc89f49c69bc4e2e2c471dd46",
        "deepnote_cell_height": 52.359375,
        "deepnote_cell_type": "markdown",
        "output_cleared": false,
        "tags": []
      },
      "source": "6.2 - What would the **empty model** predict for someone who committed domestic violence? "
    },
    {
      "cell_type": "markdown",
      "metadata": {
        "cell_id": "9ec1976754494c31bd7cdab33052db0b",
        "deepnote_cell_height": 140.71875,
        "deepnote_cell_type": "markdown",
        "output_cleared": false,
        "tags": []
      },
      "source": "<div class=\"alert alert-block alert-warning\">\n\n**Sample Response**\n\nThe empty model would predict that they would be suspended for 5.55 games.\n\n</div>"
    },
    {
      "cell_type": "markdown",
      "metadata": {
        "cell_id": "f9bc2a3a36554e49a24d51648f944807",
        "deepnote_cell_height": 74.75,
        "deepnote_cell_type": "markdown",
        "output_cleared": false,
        "tags": []
      },
      "source": "6.3 - Do either of these predictions match (or come close) to the number of suspensions Ray Rice was initially given (2)?"
    },
    {
      "cell_type": "markdown",
      "metadata": {
        "cell_id": "d019c54067144108849d35bf629b4d9e",
        "deepnote_cell_height": 244.296875,
        "deepnote_cell_type": "markdown",
        "output_cleared": false,
        "tags": []
      },
      "source": "<div class=\"alert alert-block alert-warning\">\n\n**Sample Response**\n\n- These numbers are a bit higher than the number of suspensions initially given to Ray Rice (his punishment was not quite consistent with other cases, as it was a lighter punishment than what is usual for this type of wrongdoing).\n\n> Note to instructors: After much public criticism, Ray Rice was eventually suspended indefinitely. Although he appealed this suspension and won (it was against league rules to suspend a player twice for the same offense), he was never signed by another team. \n\n</div>"
    },
    {
      "cell_type": "markdown",
      "metadata": {
        "cell_id": "1a1705845ad143e580119825bdbf1972",
        "deepnote_cell_height": 74.75,
        "deepnote_cell_type": "markdown",
        "output_cleared": false,
        "tags": []
      },
      "source": "6.4 - Which model (the wrongdoing model versus the empty model) do you think explains more of the variation seen in game suspensions? Why? "
    },
    {
      "cell_type": "markdown",
      "metadata": {
        "cell_id": "d3b4d79a4d67462fb3ae57e584c5c592",
        "deepnote_cell_height": 185.515625,
        "deepnote_cell_type": "markdown",
        "output_cleared": false,
        "tags": []
      },
      "source": "<div class=\"alert alert-block alert-warning\">\n\n**Sample Response**\n\nThe wrongdoing model appears to explain more of the variation because it can give us a better prediction (with slightly less error) when we know the type of wrongdoing than the empty model.\n\n</div>"
    },
    {
      "cell_type": "markdown",
      "metadata": {
        "cell_id": "f9a9813ecf5c4537b2153cf08c0eeb05",
        "deepnote_cell_height": 115.9375,
        "deepnote_cell_type": "markdown",
        "output_cleared": false,
        "tags": []
      },
      "source": "<div class=\"alert alert-block alert-success\">\n\n### 7.0 - Approximate Time: 5-8 mins\n\n</div>"
    },
    {
      "cell_type": "markdown",
      "metadata": {
        "cell_id": "7281768565ab4a369b548d0280cd0346",
        "deepnote_cell_height": 69.96875,
        "deepnote_cell_type": "markdown",
        "output_cleared": false,
        "tags": []
      },
      "source": "## 7.0 - Back to the Data"
    },
    {
      "cell_type": "markdown",
      "metadata": {
        "cell_id": "41c6ce8e825a42b48ac3bc16570c9cd2",
        "deepnote_cell_height": 52.359375,
        "deepnote_cell_type": "markdown",
        "output_cleared": false,
        "tags": []
      },
      "source": "7.1 - Remember we excluded some data? Who got excluded? "
    },
    {
      "cell_type": "markdown",
      "metadata": {
        "cell_id": "e5a7360e07cd43f38e2729c6edf0e551",
        "deepnote_cell_height": 140.71875,
        "deepnote_cell_type": "markdown",
        "output_cleared": false,
        "tags": []
      },
      "source": "<div class=\"alert alert-block alert-warning\">\n\n**Sample Response**\n\nAll of the players who were suspended indefinitely were excluded.\n\n</div>"
    },
    {
      "cell_type": "markdown",
      "metadata": {
        "cell_id": "bc28b4e8f3bb47ce87ffdabe8054b4be",
        "deepnote_cell_height": 180.140625,
        "deepnote_cell_type": "markdown",
        "output_cleared": false,
        "tags": []
      },
      "source": "7.2 - Indefinitely is a lot of games... but we decided to exclude all those instances. As a consequence, do our models underestimate or overestimate the number of game suspensions?"
    },
    {
      "cell_type": "markdown",
      "metadata": {
        "cell_id": "4ead453bcf714a4790b1c1d23a832c86",
        "deepnote_cell_height": 140.71875,
        "deepnote_cell_type": "markdown",
        "output_cleared": false,
        "tags": []
      },
      "source": "<div class=\"alert alert-block alert-warning\">\n\n**Sample Response**\n\nThis means our models may tend to underestimate the number of suspensions.\n\n</div>"
    },
    {
      "cell_type": "markdown",
      "metadata": {
        "cell_id": "0c797b712ab246808816fce54f59117a",
        "deepnote_app_block_visible": false,
        "deepnote_cell_type": "markdown"
      },
      "source": "# To Mariela -- voila! A figure! (Delete this in public NB)"
    },
    {
      "cell_type": "code",
      "execution_count": null,
      "metadata": {
        "cell_id": "ebad4415f33d4f3498e9abdac499c338",
        "deepnote_cell_type": "code",
        "execution_context_id": "1acdf3a0-006f-4ed4-8ad6-6ee568b5c22d",
        "execution_millis": 414,
        "execution_start": 1742836486077,
        "source_hash": "56058c60",
        "trusted": true
      },
      "outputs": [],
      "source": "# image res\noptions(repr.plot.res=300)\n\nb0 <- b0(lm(games_num ~ wrongdoing, data = nfl_suspend_clean))\nb1 <- b1(lm(games_num ~ wrongdoing, data = nfl_suspend_clean))\n\ngf_jitter(games_num ~ wrongdoing, data = nfl_suspend_clean, color = \"black\", alpha = .3, size = 3, width = .2) %>%\n    gf_jitter(wrongdoing_prediction ~ wrongdoing, color = \"forestgreen\", height = 0, width = .2) +\n annotate(geom = \"segment\", x = 1.5, y = (b0+b1), xend = 1.5, yend = (b0), size = .75, color = \"firebrick\",\n   arrow = arrow(ends = \"both\", angle = 90, length = unit(.2,\"cm\"))) +\n geom_text(x=.73, y=b0, label=\"b[0]\", color = \"black\", size = 5, parse=TRUE) +\n geom_text(x=1.57, y=b0+(b1/2), label=\"b[1]\", color = \"black\", size = 5, parse=TRUE) +\n geom_text(x=2.35, y=b0+b1, label=\"b[0] + b[1]\", color = \"black\", size = 5, parse=TRUE)\n"
    },
    {
      "cell_type": "code",
      "execution_count": null,
      "metadata": {
        "cell_id": "65364a9ee58745c7850d248de0a53663",
        "deepnote_app_block_visible": false,
        "deepnote_cell_type": "code",
        "execution_context_id": "1acdf3a0-006f-4ed4-8ad6-6ee568b5c22d",
        "execution_millis": 210,
        "execution_start": 1742836486537,
        "source_hash": "79ad8da0",
        "trusted": true
      },
      "outputs": [],
      "source": "gf_jitter(games_num ~ wrongdoing, data = nfl_suspend_clean, color = \"black\", alpha = .3, size = 3, width = .2) %>%\n    gf_jitter(wrongdoing_prediction ~ wrongdoing, color = \"forestgreen\", height = 0, width = .2)"
    }
  ],
  "metadata": {
    "deepnote_notebook_id": "72a77aaf59674a7691b3326a2488147d",
    "kernelspec": {
      "display_name": "R",
      "language": "R",
      "name": "ir"
    },
    "language_info": {
      "codemirror_mode": "r",
      "file_extension": ".r",
      "mimetype": "text/x-r-source",
      "name": "R",
      "pygments_lexer": "r",
      "version": "4.3.3"
    },
    "nbsimplegrader": {
      "publish_config": {
        "classes": [],
        "options": {},
        "tools": []
      }
    }
  },
  "nbformat": 4,
  "nbformat_minor": 1
}