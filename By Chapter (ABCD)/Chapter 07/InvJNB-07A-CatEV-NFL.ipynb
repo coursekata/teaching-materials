{
  "cells": [
    {
      "cell_type": "markdown",
      "metadata": {
        "cell_id": "1bd43a90c1b6469396371ded54e795e6",
        "deepnote_cell_height": 133.953125,
        "deepnote_cell_type": "markdown",
        "output_cleared": false,
        "tags": []
      },
      "source": "# 7A: The NFL and Domestic Violence"
    },
    {
      "cell_type": "code",
      "execution_count": null,
      "metadata": {
        "cell_id": "b8954fd5e4ff4133ae3fe1059ff851c4",
        "deepnote_cell_height": 314.953125,
        "deepnote_cell_type": "code",
        "deepnote_to_be_reexecuted": false,
        "execution_millis": 1972,
        "execution_start": 1630095981108,
        "output_cleared": false,
        "source_hash": "6b3540fc",
        "trusted": true
      },
      "outputs": [],
      "source": "# This code will load the R packages we will use\nsuppressPackageStartupMessages({\n    library(coursekata)\n})\n\n# data cleaning\nnfl_suspend <- nfl_suspensions\n\nnfl_suspensions$repeat_offense <- recode(nfl_suspensions$category, \"Personal conduct\" = \"not drug related\", \"Substance abuse\" = \"first time\", \"Substance abuse, repeated offense\" = \"repeat drug offense\")\nnfl_suspensions$wrongdoing <- recode(nfl_suspensions$category, \"Substance abuse, repeated offense\" = \"Substance abuse\")\n\nnfl_suspend <- filter(nfl_suspensions, category != \"In-game violence\", category != \"PEDs\", category != \"PEDs, repeated offense\")\nnfl_suspend <- select(nfl_suspend, name, team, games, wrongdoing, repeat_offense, description, year, source)\nnfl_suspend <- filter(nfl_suspend, name != \"R. Rice\") "
    },
    {
      "cell_type": "markdown",
      "metadata": {
        "cell_id": "e926ecb6be8246c290456bf402d0fdac",
        "deepnote_cell_height": 69.96875,
        "deepnote_cell_type": "markdown",
        "output_cleared": false,
        "tags": []
      },
      "source": "## 1.0 - Case Study of Ray Rice"
    },
    {
      "cell_type": "markdown",
      "metadata": {
        "cell_id": "2315700ccc494d41847addca6d37c104",
        "deepnote_cell_height": 97.140625,
        "deepnote_cell_type": "markdown",
        "output_cleared": false,
        "tags": []
      },
      "source": "1.1 - In 2014, video emerged of a football player named Ray Rice physically abusing his then girlfriend (now wife) Janay Palmer. He was suspended for 2 games because of the notoriety of that incident. Does that punishment seem to fit the situation?"
    },
    {
      "cell_type": "markdown",
      "metadata": {
        "cell_id": "7f3eb01d165948d4abb1499a14d57d06",
        "deepnote_cell_height": 209.109375,
        "deepnote_cell_type": "markdown",
        "output_cleared": false,
        "tags": []
      },
      "source": "1.2 - NFL commissioner, Roger Goodell, said at a press conference (shortly after this incident) that the suspension has to be consistent with other cases. A journalist attempted to get that data but the NFL spokesperson said they did not have a comprehensive list. Instead this journalist researched and gathered together this data set (called `nfl_suspend`) and made it public. Take a look at the information below. What are the cases? What is the outcome that is most relevant for judging whether Ray Rice's initial punishment fit the crime?\n"
    },
    {
      "cell_type": "markdown",
      "metadata": {
        "cell_id": "3c0a0376adef4f398614363b7f724aff",
        "deepnote_cell_height": 521.625,
        "deepnote_cell_type": "markdown",
        "output_cleared": false,
        "tags": []
      },
      "source": "### About the Data\n\nIn the `nfl_suspend` data frame (preloaded with the R packages code) you will find the following variables:\n\n**Variables**:\n\n- `name`\t\tFirst initial. Last name\n- `team`\t\tTeam at time of suspension\n- `games`\t    Number of games suspended (one regular season = 16 games); some individuals were suspended indefinitely (coded as \"Indef.\")\n- `wrongdoing`  The type of wrongdoing; the two possible types are: Personal conduct, or Substance abuse\n- `repeat_offense` Whether it was a repeat drug offense or not\n- `description`\tDescription of offense\n- `year`\t\tYear of suspension\n- `source`\t    News source\n\nNote that this data set has been condensed. There are two other categories of wrongdoing that are more specific to athleticism that players can be suspended for (e.g., in-game violence and performance enhancing drugs). The two categories of wrongdoing here are ones that also have criminal implications (e.g., a regular person would also be punished for these offenses)."
    },
    {
      "cell_type": "markdown",
      "metadata": {
        "cell_id": "8b239f1e4ffe4ab7b44a9d13f5b8802d",
        "deepnote_cell_height": 69.96875,
        "deepnote_cell_type": "markdown",
        "output_cleared": false,
        "tags": []
      },
      "source": "## 2.0 - Exploring Variation"
    },
    {
      "cell_type": "markdown",
      "metadata": {
        "cell_id": "a610cdaf2971405b99a48a05cbc9b35b",
        "deepnote_cell_height": 74.75,
        "deepnote_cell_type": "markdown",
        "output_cleared": false,
        "tags": []
      },
      "source": "2.1 - Try creating a histogram of game suspensions. You will find that there is an error. List some theories as to why you think this error might have occurred."
    },
    {
      "cell_type": "markdown",
      "metadata": {
        "cell_id": "00e38d074f584f358c638eacd019b749",
        "deepnote_cell_height": 97.140625,
        "deepnote_cell_type": "markdown",
        "output_cleared": false,
        "tags": []
      },
      "source": "2.2 - CLEANING THE DATA. Let's try \"cleaning up the data\" to allow us to create a histogram for `games`. Just so we are all on the same page, let's save this as a new data frame called `nflsuspend_clean`."
    },
    {
      "cell_type": "markdown",
      "metadata": {
        "cell_id": "c208fc5d14c54932aabfd03cd35010cc",
        "deepnote_cell_height": 74.75,
        "deepnote_cell_type": "markdown",
        "output_cleared": false,
        "tags": []
      },
      "source": "2.3 - If you did not already do so in 2.2, create a histogram of the number of suspensions. Then describe the distribution. "
    },
    {
      "cell_type": "markdown",
      "metadata": {
        "cell_id": "53f36e7f204a408699246182f6d103a8",
        "deepnote_cell_height": 74.75,
        "deepnote_cell_type": "markdown",
        "output_cleared": false,
        "tags": []
      },
      "source": "2.4 - Wow, there are some players that were suspended over 30 games. What did they do? Based on what you see so far, was this warranted? \n"
    },
    {
      "cell_type": "markdown",
      "metadata": {
        "cell_id": "bb893cfe41774203b0b719078d82c3e2",
        "deepnote_cell_height": 69.96875,
        "deepnote_cell_type": "markdown",
        "output_cleared": false,
        "tags": []
      },
      "source": "## 3.0 - Explaining Variation"
    },
    {
      "cell_type": "markdown",
      "metadata": {
        "cell_id": "1f6e4e948f0643f9a337a4848fc654cd",
        "deepnote_cell_height": 119.53125,
        "deepnote_cell_type": "markdown",
        "output_cleared": false,
        "tags": []
      },
      "source": "3.1 - What are the different categories of `wrongdoing`? In your opinion, do you think one of the categories of `wrongdoing` deserves more game suspensions than the other? If so, which one should outrank the other one? (Note: Depending on our values and experiences, you may disagree. Feel free to write down more than one opinion from your group.)"
    },
    {
      "cell_type": "markdown",
      "metadata": {
        "cell_id": "154a19541590452391f2b2bccb7e636c",
        "deepnote_cell_height": 74.75,
        "deepnote_cell_type": "markdown",
        "output_cleared": false,
        "tags": []
      },
      "source": "3.2 - Make TWO different visualizations to explore the relationship between types of wrongdoing and suspensions. What do you notice?"
    },
    {
      "cell_type": "markdown",
      "metadata": {
        "cell_id": "cfc4346fba9249c0af64a9e5b079b382",
        "deepnote_cell_height": 97.140625,
        "deepnote_cell_type": "markdown",
        "output_cleared": false,
        "tags": []
      },
      "source": "3.3 - Do you think by knowing what a player did wrong, we can explain some of the variation in their game suspension? What does it mean to “explain variation”? How would we write this idea as a word equation?"
    },
    {
      "cell_type": "markdown",
      "metadata": {
        "cell_id": "8662e2d6d7d04458bce1c11ffa06a060",
        "deepnote_cell_height": 69.96875,
        "deepnote_cell_type": "markdown",
        "output_cleared": false,
        "tags": []
      },
      "source": "## 4.0 - Modeling Variation: The Empty Model"
    },
    {
      "cell_type": "markdown",
      "metadata": {
        "cell_id": "2922a84eb9e54547868d6b95059895fa",
        "deepnote_cell_height": 52.359375,
        "deepnote_cell_type": "markdown",
        "output_cleared": false,
        "tags": []
      },
      "source": "4.1 -  Create an empty model for game suspensions and write it in GLM notation. "
    },
    {
      "cell_type": "markdown",
      "metadata": {
        "cell_id": "b37da3f1fab24a419431c2cea9d26f72",
        "deepnote_cell_height": 74.75,
        "deepnote_cell_type": "markdown",
        "output_cleared": false,
        "tags": []
      },
      "source": "4.2 - Based on *this model*, if you had to predict that a future player would be suspended for some wrongdoing, what would be the predicted suspensions?"
    },
    {
      "cell_type": "markdown",
      "metadata": {
        "cell_id": "8b7b1627c600487fb879734e7cad7f7d",
        "deepnote_cell_height": 74.75,
        "deepnote_cell_type": "markdown",
        "output_cleared": false,
        "tags": []
      },
      "source": "4.3 - Use the empty model to generate predicted suspensions for all the cases in the data frame. Save it as a new variable called `empty_prediction` inside the data frame, `nflsuspend_clean`."
    },
    {
      "cell_type": "markdown",
      "metadata": {
        "cell_id": "63040aaddd7841fab0f52c01c5c7740b",
        "deepnote_cell_height": 52.359375,
        "deepnote_cell_type": "markdown",
        "output_cleared": false,
        "tags": []
      },
      "source": "4.4 - Run the jitter plot below. "
    },
    {
      "cell_type": "code",
      "execution_count": null,
      "metadata": {
        "cell_id": "376227d394d340f18a4461ae5d9fc140",
        "deepnote_cell_height": 163.359375,
        "deepnote_cell_type": "code",
        "deepnote_to_be_reexecuted": false,
        "execution_millis": 20,
        "execution_start": 1630095983178,
        "nbsimplegrader": {
          "config_key": "code.run-only",
          "editable": false,
          "label": "Code: Run-Only",
          "respondable": false,
          "response": null,
          "runnable": true,
          "type": "code"
        },
        "output_cleared": false,
        "source_hash": "75e76e32",
        "tags": [],
        "trusted": true
      },
      "outputs": [],
      "source": "gf_jitter(games ~ wrongdoing, data = nflsuspend_clean, color = \"violet\", alpha = .3, size = 3)"
    },
    {
      "cell_type": "markdown",
      "metadata": {
        "cell_id": "4dd773f864ff4a5fa5af27c2f9169ba6",
        "deepnote_cell_height": 102.75,
        "deepnote_cell_type": "markdown"
      },
      "source": "What do you think would happen if we piped/ chained on this line of code?:\n\n> `gf_jitter(empty_prediction ~ wrongdoing, color = \"blue\", height = 0)`\n"
    },
    {
      "cell_type": "markdown",
      "metadata": {
        "cell_id": "b60f81a6b67848deb6fdba058f7b83b2",
        "deepnote_cell_height": 74.75,
        "deepnote_cell_type": "markdown"
      },
      "source": "4.5 - Actually pipe on the code to the jitter plot to see what happens. Did you guess correctly? What does that blue line mean?"
    },
    {
      "cell_type": "markdown",
      "metadata": {
        "cell_id": "9ee64a6dd7144269957e23e7fe554497",
        "deepnote_cell_height": 109.96875,
        "deepnote_cell_type": "markdown",
        "output_cleared": false,
        "tags": []
      },
      "source": "## 5.0 - Modeling Variation: The Wrongdoing Model"
    },
    {
      "cell_type": "markdown",
      "metadata": {
        "cell_id": "93b63fd1699f4372b7c4f9d2c0896664",
        "deepnote_cell_height": 74.75,
        "deepnote_cell_type": "markdown",
        "output_cleared": false,
        "tags": []
      },
      "source": "5.1 - Just by looking at the jitter plot above, if a future player would commit personal conduct versus substance abuse, which wrongdoing would you think will lead to more game suspensions?"
    },
    {
      "cell_type": "markdown",
      "metadata": {
        "cell_id": "50be6a236d7d41589fdeeaedde549d10",
        "deepnote_cell_height": 178.328125,
        "deepnote_cell_type": "markdown",
        "output_cleared": false,
        "tags": []
      },
      "source": "5.2 - Now create or \"fit\" a model based on **wrongdoing** (instead of an empty model) and let's call it `wrongdoing_model`. This will help us make a better prediction of game suspensions based on additional information about the type of wrongdoing. \n\n(Note: To \"fit\" a model means that we are going to find the best possible numbers for making this prediction. In statistics and data science, \"best possible\" means the one that minimizes sum of squared error.)"
    },
    {
      "cell_type": "markdown",
      "metadata": {
        "cell_id": "c3014ed175874bb1a44cb709a1ec1c99",
        "deepnote_cell_height": 97.140625,
        "deepnote_cell_type": "markdown",
        "output_cleared": false,
        "tags": []
      },
      "source": "5.3 - Now use the wrongdoing model to generate predicted supsensions for all the cases in the data frame based on their wrongdoing. Save it as a new variable called `wrongdoing_prediction` inside the data frame, `nflsuspend_clean`."
    },
    {
      "cell_type": "markdown",
      "metadata": {
        "cell_id": "e6cf840df3e74e318aea6cc835e35c45",
        "deepnote_cell_height": 74.75,
        "deepnote_cell_type": "markdown",
        "output_cleared": false,
        "tags": []
      },
      "source": "5.4 - Here is the jitter plot again. Add in some code to show the predictions from the wrongdoing model also (in a different color). "
    },
    {
      "cell_type": "code",
      "execution_count": null,
      "metadata": {
        "cell_id": "8d2d72b438964a95a171f73ce929a29f",
        "deepnote_cell_height": 98.953125,
        "deepnote_cell_type": "code",
        "deepnote_to_be_reexecuted": true,
        "output_cleared": false,
        "source_hash": "d574b189",
        "tags": [],
        "trusted": true
      },
      "outputs": [],
      "source": "gf_jitter(games ~ wrongdoing, data = nflsuspend_clean, color = \"violet\", alpha = .3, size = 3) %>%\n    gf_jitter(empty_prediction ~ wrongdoing, color = \"blue\", height = 0)"
    },
    {
      "cell_type": "markdown",
      "metadata": {
        "cell_id": "441af10add034093a52e28b8df49fc16",
        "deepnote_cell_height": 125.140625,
        "deepnote_cell_type": "markdown",
        "output_cleared": false,
        "tags": []
      },
      "source": "5.5 - Which does the wrongdoing model predict: \n\n(a) Which type of wrongdoing was committed? \n\n(b) How many game suspensions someone would receive for a particular kind of wrongdoing?"
    },
    {
      "cell_type": "markdown",
      "metadata": {
        "cell_id": "c4521fb9652e4b0c87e0131ea24bd6ce",
        "deepnote_cell_height": 52.359375,
        "deepnote_cell_type": "markdown",
        "output_cleared": false,
        "tags": []
      },
      "source": "5.6 - Why do we call it the wrongdoing model?"
    },
    {
      "cell_type": "markdown",
      "metadata": {
        "cell_id": "161722cb51934fbab55f329a2f3361a8",
        "deepnote_cell_height": 448.046875,
        "deepnote_cell_type": "markdown",
        "output_cleared": false,
        "tags": []
      },
      "source": "5.7 - Here is the model in GLM notation that includes the best fitting estimates you found above. \n\n$$games.num_i = 4.29 + 2.58 wrongdoing_{i} + e_i$$\n\nWhat do the numbers mean? \nHere is a close up of the jitter plot we made above (the predictions, in particular). \nWhere do we \"see\" these numbers?\n\n<img src=\"https://coursekata-course-assets.s3.us-west-1.amazonaws.com/UCLATALL/czi-stats-course/jnb_7A_predict.png\" title=\"close up of jitter plot\" />"
    },
    {
      "cell_type": "markdown",
      "metadata": {
        "cell_id": "7ade9d0ccb774d289b928af6d8aa179e",
        "deepnote_cell_height": 97.5625,
        "deepnote_cell_type": "markdown",
        "output_cleared": false,
        "tags": []
      },
      "source": "5.8 - What would $X_{i}$ be for someone who was suspended for substance abuse? What would this person's $X_{0}$ be? What would the model predict as the number of game suspensions for this person?"
    },
    {
      "cell_type": "markdown",
      "metadata": {
        "cell_id": "fd26cc73c74d4d22838f9e7a06fdba5f",
        "deepnote_cell_height": 109.96875,
        "deepnote_cell_type": "markdown",
        "output_cleared": false,
        "tags": []
      },
      "source": "## 6.0 - Comparing the Wrongdoing Model Against the Empty Model"
    },
    {
      "cell_type": "markdown",
      "metadata": {
        "cell_id": "5ced05372d59457f8b16b35438c39819",
        "deepnote_cell_height": 74.75,
        "deepnote_cell_type": "markdown",
        "output_cleared": false,
        "tags": []
      },
      "source": "6.1 - What would the **wrongdoing model** predict as the number of games suspended for someone who committed domestic violence (that would fall under `Personal conduct`)? "
    },
    {
      "cell_type": "markdown",
      "metadata": {
        "cell_id": "7078d9c11af044e1addff79da27670a2",
        "deepnote_cell_height": 52.359375,
        "deepnote_cell_type": "markdown",
        "output_cleared": false,
        "tags": []
      },
      "source": "6.2 - What would the **empty model** predict for someone who committed domestic violence? "
    },
    {
      "cell_type": "markdown",
      "metadata": {
        "cell_id": "126e6243f42446719e8aebb2ad34ed32",
        "deepnote_cell_height": 74.75,
        "deepnote_cell_type": "markdown",
        "output_cleared": false,
        "tags": []
      },
      "source": "6.3 - Do either of these predictions match (or come close) to the number of suspensions Ray Rice was initially given (2)?"
    },
    {
      "cell_type": "markdown",
      "metadata": {
        "cell_id": "64cf93c4a7f148129b81cc2308e6e3b5",
        "deepnote_cell_height": 74.75,
        "deepnote_cell_type": "markdown",
        "output_cleared": false,
        "tags": []
      },
      "source": "6.4 - Which model (the wrongdoing model versus the empty model) do you think explains more of the variation seen in game suspensions? Why? "
    },
    {
      "cell_type": "markdown",
      "metadata": {
        "cell_id": "0b5a6d3979844411a50f770fca6c2946",
        "deepnote_cell_height": 69.96875,
        "deepnote_cell_type": "markdown",
        "output_cleared": false,
        "tags": []
      },
      "source": "## 7.0 - Back to the Data"
    },
    {
      "cell_type": "markdown",
      "metadata": {
        "cell_id": "a25bf612a4c148ea9af290b4a29f20e1",
        "deepnote_cell_height": 52.359375,
        "deepnote_cell_type": "markdown",
        "output_cleared": false,
        "tags": []
      },
      "source": "7.1 - Remember we excluded some data? Who got excluded? "
    },
    {
      "cell_type": "markdown",
      "metadata": {
        "cell_id": "53b831c7e3404f34ba126b0587377617",
        "deepnote_cell_height": 97.140625,
        "deepnote_cell_type": "markdown",
        "output_cleared": false,
        "tags": []
      },
      "source": "7.2 - Indefinitely is a lot of games... but we decided to exclude all those instances. As a consequence, do our models underestimate or overestimate the number of game suspensions?"
    }
  ],
  "metadata": {
    "deepnote_notebook_id": "90a99b1e577945b09543741cd53f23ec",
    "kernelspec": {
      "display_name": "R",
      "language": "R",
      "name": "ir"
    },
    "language_info": {
      "codemirror_mode": "r",
      "file_extension": ".r",
      "mimetype": "text/x-r-source",
      "name": "R",
      "pygments_lexer": "r",
      "version": "4.3.3"
    },
    "nbsimplegrader": {
      "publish_config": {
        "classes": [],
        "options": [],
        "tools": []
      }
    }
  },
  "nbformat": 4,
  "nbformat_minor": 1
}