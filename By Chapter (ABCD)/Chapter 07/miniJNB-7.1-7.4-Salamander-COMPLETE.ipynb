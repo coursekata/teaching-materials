{
  "cells": [
    {
      "cell_type": "markdown",
      "id": "b8faa990",
      "metadata": {},
      "source": "# Salamander Growth in Mack Creek (COMPLETE)\n## Chapter 7.1-7.4 Making Two-Group Models"
    },
    {
      "cell_type": "code",
      "execution_count": null,
      "id": "0f3b15d8",
      "metadata": {
        "trusted": true
      },
      "outputs": [],
      "source": "# run this cell to set up the notebook\nsuppressMessages(library(coursekata))\ncss <- suppressWarnings(readLines(\"https://raw.githubusercontent.com/jimstigler/jupyter/master/ck_jupyter_styles.css\"))\nIRdisplay::display_html(sprintf('<style>%s</style>', paste(css, collapse = \"\\n\")))\n\n# this will pull in the giant_sal data\ngiant_sal <- read.csv(\"https://docs.google.com/spreadsheets/d/e/2PACX-1vQ8kCNPCY830PwnzJLnriG70NRApkgELQEJ_n2DY0-b8AgBhIAl2sH00RILA3Indfji8pX-baJu7_Z5/pub?gid=2069091587&single=true&output=csv\")"
    },
    {
      "cell_type": "markdown",
      "id": "d2fe70c2",
      "metadata": {},
      "source": "<div class=\"teacher-note\">\n<b>Teacher Note:</b> The goal of this notebook is to give students a chance to practice what they are learning about the two-group model with a new data set. \n</div>"
    },
    {
      "cell_type": "markdown",
      "id": "767511e2",
      "metadata": {},
      "source": "## 1. The `giant_sal` data set: Salamander Growth in Mack Creek\n\n<img src=\"https://lter.github.io/lterdatasampler/reference/figures/and_salamander.jpg\" alt=\"Coastal Giant Salamander at Mack Creek study site\" width=\"250\" style=\"float: left; margin-right: 20px; height: auto;\"> \n\nBiologists studying coastal giant salamanders in Mack Creek (Willamette National Forest, Oregon) wanted to know how the harvesting of forests affects salamander growth. Forest harvesting involves cutting down trees, which could change the creek environment in which the salamanders live and thus impact how large they grow to be. \n\nTo investigate this, they captured and measured the length of 60 coastal giant salamanders. Some salamanders were captured in areas where trees had recently been cut down (clear-cut), while others came from untouched old-growth forest. Your task is to explore this dataset, called `giant_sal`, to find out whether forest harvesting impacts salamander size.\n\n### Variables in the `giant_sal` Data Frame:\n\n- `year`: The year the salamander was caught and measured  \n- `location`: The section of forest in which the salamander was caught (clear cut or old growth)\n- `habitat`: Where in the creek the salamander lived: Coded as `pools` (deeper, slower-moving parts of the creek) or `cascades` (shallow, rocky areas with faster-moving water)\n- `length_mm`: Body length in millimeters, measured from its snout to the start of its tail (excluding the tail)  \n\nNote: This is a subset of data from [the Long Term Ecological Research program (LTER) Network](https://lter.github.io/lterdatasampler/reference/index.html)."
    },
    {
      "cell_type": "markdown",
      "id": "0c55513d",
      "metadata": {},
      "source": "### 1.1 Run some code to look at a few rows of the `giant_sal` data"
    },
    {
      "cell_type": "code",
      "execution_count": null,
      "id": "3858ba4c",
      "metadata": {
        "nbsimplegrader": {
          "config_key": "code.response",
          "editable": true,
          "label": "Response: Code",
          "respondable": true,
          "response": null,
          "runnable": true,
          "type": "code"
        },
        "scrolled": true,
        "trusted": true
      },
      "outputs": [],
      "source": "# sample response\n\n# run code here\nhead(giant_sal)"
    },
    {
      "cell_type": "markdown",
      "id": "fac01fa9",
      "metadata": {},
      "source": "### 1.2 Write a word equation to represent that hypothesis that location affects salamander length"
    },
    {
      "cell_type": "markdown",
      "id": "8c0bce87",
      "metadata": {
        "nbsimplegrader": {
          "config_key": "markdown.response",
          "editable": true,
          "label": "Response: Markdown",
          "respondable": true,
          "response": null,
          "runnable": true,
          "type": "markdown"
        }
      },
      "source": "<div class=\"teacher-note\">\n\n<b>Sample Response</b>: length_mm = location + other stuff\n    \n</div>"
    },
    {
      "cell_type": "markdown",
      "id": "38d059da",
      "metadata": {},
      "source": "## 2. Explore Variation in `length_mm`\n### 2.1 Make a data visualization to explore the hypothesis that location affects salamander length"
    },
    {
      "cell_type": "code",
      "execution_count": null,
      "id": "45468422",
      "metadata": {
        "nbsimplegrader": {
          "config_key": "code.response",
          "editable": true,
          "label": "Response: Code",
          "respondable": true,
          "response": null,
          "runnable": true,
          "type": "code"
        },
        "trusted": true
      },
      "outputs": [],
      "source": "# sample response\n\n# make a data visualization\ngf_jitter(length_mm ~ location, data = giant_sal, width = .1)"
    },
    {
      "cell_type": "markdown",
      "id": "df9ba9c5",
      "metadata": {},
      "source": "### 2.2 Based on your visualization, do think knowing `location` helps you make a better prediction of `length_mm`? What specific patterns or features do you notice in your visualization that support your answer?"
    },
    {
      "cell_type": "markdown",
      "id": "c3ba922b",
      "metadata": {
        "nbsimplegrader": {
          "config_key": "markdown.response",
          "editable": true,
          "label": "Response: Markdown",
          "respondable": true,
          "response": null,
          "runnable": true,
          "type": "markdown"
        }
      },
      "source": "<div class=\"teacher-note\">\n\n<b>Sample Response</b>: Yes, I would predict the length was a little longer if I knew the salamander was from the clear cut forest area.\n \n</div>"
    },
    {
      "cell_type": "markdown",
      "id": "9589f7dd",
      "metadata": {},
      "source": "## 3. Model Variation in `length_mm`\n\n### 3.1 Fit and save the best-fitting model of `length_mm` using `location` as the explanatory variable. Then overlay your model onto your data visualization in the code block below."
    },
    {
      "cell_type": "code",
      "execution_count": null,
      "id": "4cd6a0c5",
      "metadata": {
        "nbsimplegrader": {
          "config_key": "code.response",
          "editable": true,
          "label": "Response: Code",
          "respondable": true,
          "response": null,
          "runnable": true,
          "type": "code"
        },
        "scrolled": false,
        "trusted": true
      },
      "outputs": [],
      "source": "# sample response\n\n# fit and save the model\nlocation_model <- lm(length_mm ~ location, data = giant_sal)\n\n# place your model on a data visualization\ngf_jitter(length_mm ~ location, data = giant_sal, width = .1) %>%\n  gf_model(location_model)\n"
    },
    {
      "cell_type": "markdown",
      "id": "7d6e36c0",
      "metadata": {},
      "source": "### 3.2 Print out the parameter estimates for your model (using the code cell below). What is the estimate $b_0$? What is the estimate $b_1$?"
    },
    {
      "cell_type": "code",
      "execution_count": null,
      "id": "4ae5e292",
      "metadata": {
        "nbsimplegrader": {
          "config_key": "code.response",
          "editable": true,
          "label": "Response: Code",
          "respondable": true,
          "response": null,
          "runnable": true,
          "type": "code"
        },
        "trusted": true
      },
      "outputs": [],
      "source": "# sample response\n\n# print out the parameter estimates\nlocation_model"
    },
    {
      "cell_type": "markdown",
      "id": "bf6f970b",
      "metadata": {
        "nbsimplegrader": {
          "config_key": "markdown.response",
          "editable": true,
          "label": "Response: Markdown",
          "respondable": true,
          "response": null,
          "runnable": true,
          "type": "markdown"
        }
      },
      "source": "<div class=\"teacher-note\">\n\n<b>Sample Response</b>: b0=62.30; b1=-14.77\n \n</div>"
    },
    {
      "cell_type": "markdown",
      "id": "61db753f",
      "metadata": {},
      "source": "### 3.3 Write an expression in GLM notation that will generate predictions of the location model. Use $X_i$ to represent location."
    },
    {
      "cell_type": "markdown",
      "id": "a124a969",
      "metadata": {
        "nbsimplegrader": {
          "config_key": "markdown.response",
          "editable": true,
          "label": "Response: Markdown",
          "respondable": true,
          "response": null,
          "runnable": true,
          "type": "markdown"
        }
      },
      "source": "<div class=\"teacher-note\">\n\n<b>Sample Response</b>: MODEL prediction =  62.30 + -14.77Xi \n \n</div>"
    },
    {
      "cell_type": "markdown",
      "id": "87cee9cb",
      "metadata": {},
      "source": "### 3.4 What does it mean in this context when $X_i= 1$?"
    },
    {
      "cell_type": "markdown",
      "id": "97fc015f",
      "metadata": {
        "nbsimplegrader": {
          "config_key": "markdown.response",
          "editable": true,
          "label": "Response: Markdown",
          "respondable": true,
          "response": null,
          "runnable": true,
          "type": "markdown"
        }
      },
      "source": "<div class=\"teacher-note\">\n\n<b>Sample Response</b>: We can look at the output of lm() and see that when X=1, location is \"old growth forest.\" When X = 0, the salamander was NOT found in old growth forest but in clear cut forest. \n \n</div>\n"
    },
    {
      "cell_type": "markdown",
      "id": "271fe5e5",
      "metadata": {},
      "source": "### 3.5 What does the $b_1$ estimate mean in this context? Why is it negative?"
    },
    {
      "cell_type": "markdown",
      "id": "d2cc7bad",
      "metadata": {
        "nbsimplegrader": {
          "config_key": "markdown.response",
          "editable": true,
          "label": "Response: Markdown",
          "respondable": true,
          "response": null,
          "runnable": true,
          "type": "markdown"
        }
      },
      "source": "<div class=\"teacher-note\">\n\n<b>Sample Response</b>: -14.77 is the b1 estimate. It is the amount we must add to b0 in order to get the prediction of length for the old growth forest salamanders (i.e., when X=1). It is negative because the salamanders living in old growth forest are shorter in length than those living in clear cut forest. \n \n</div>"
    },
    {
      "cell_type": "markdown",
      "id": "08574057",
      "metadata": {},
      "source": "### 3.6 Use your model with the `predict()` function to generate predicted values for each salamander in the `giant_sal` data frame. Store these predictions as a new column in the data frame."
    },
    {
      "cell_type": "code",
      "execution_count": null,
      "id": "b8e2358e",
      "metadata": {
        "nbsimplegrader": {
          "config_key": "code.response",
          "editable": true,
          "label": "Response: Code",
          "respondable": true,
          "response": null,
          "runnable": true,
          "type": "code"
        },
        "trusted": true
      },
      "outputs": [],
      "source": "# sample response\n\n# generate predictions and save them back into giant_sal$location_prediction\ngiant_sal$location_prediction <- predict(location_model)\n# take a look at the updated giant_sal data frame\nhead(giant_sal)"
    },
    {
      "cell_type": "markdown",
      "id": "5cb650ac",
      "metadata": {},
      "source": "### 3.7 How many different predictions can your model make? Explain how the model uses the parameter estimates $b_0$ and $b_1$ to make each prediction."
    },
    {
      "cell_type": "markdown",
      "id": "259046aa",
      "metadata": {
        "nbsimplegrader": {
          "config_key": "markdown.response",
          "editable": true,
          "label": "Response: Markdown",
          "respondable": true,
          "response": null,
          "runnable": true,
          "type": "markdown"
        }
      },
      "source": "<div class=\"teacher-note\">\n\n<b>Sample Response</b>: \n\nThe model makes two predictions.\n    \n1. The predicted length in the clear cut location is $b_0 + b_1(0)$ or just $b_0$.\n    \n2. The predicted length in the old growth location is $b_0 + b_1(1)$ or just $b_0+b_1$.    \n    \n</div>"
    },
    {
      "cell_type": "markdown",
      "id": "0a25e158",
      "metadata": {},
      "source": "## 4. Compare the Two-Group Model to the Empty Model"
    },
    {
      "cell_type": "markdown",
      "id": "b0566861",
      "metadata": {},
      "source": "### 4.1 Run the code below to visualize the `condition_model` on a jitter plot\nNotice that we added some code to make the model predictions red"
    },
    {
      "cell_type": "code",
      "execution_count": null,
      "id": "791bbd96",
      "metadata": {
        "trusted": true
      },
      "outputs": [],
      "source": "# run this code\ngf_jitter(length_mm ~ location, data = giant_sal, width = .1) %>%\n  gf_model(location_model, color=\"red\")"
    },
    {
      "cell_type": "markdown",
      "id": "f1f31b0b",
      "metadata": {},
      "source": "### 4.2 Now add some code in the cell below to fit and save the empty model as `empty_model`, and then add the empty model onto the graph as well."
    },
    {
      "cell_type": "code",
      "execution_count": null,
      "id": "3162e7cd",
      "metadata": {
        "nbsimplegrader": {
          "config_key": "code.response",
          "editable": true,
          "label": "Response: Code",
          "respondable": true,
          "response": null,
          "runnable": true,
          "type": "code"
        },
        "trusted": true
      },
      "outputs": [],
      "source": "# sample response\n\n# fit and save the empty model here\nempty_model <- lm(length_mm ~ NULL, data=giant_sal)\n# run this code\ngf_jitter(length_mm ~ location, data = giant_sal, width = .1) %>%\n  gf_model(location_model, color=\"red\") %>%\n  gf_model(empty_model)"
    },
    {
      "cell_type": "markdown",
      "id": "31bac796",
      "metadata": {},
      "source": "### 4.3 Compare the empty model to the group model. Which model makes better predictions? Which model has less error? "
    },
    {
      "cell_type": "markdown",
      "id": "f4f958f6",
      "metadata": {
        "nbsimplegrader": {
          "config_key": "markdown.response",
          "editable": true,
          "label": "Response: Markdown",
          "respondable": true,
          "response": null,
          "runnable": true,
          "type": "markdown"
        }
      },
      "source": "<div class=\"teacher-note\">\n\n<b>Sample Response</b>: The group model’s predictions are higher for salamanders in the clear-cut forest and lower for those in the old-growth forest. This matches the actual data because salamanders tend to be longer in the clear-cut forest and shorter in the old-growth forest. So, the group model’s predictions seem to better match the data compared to the empty model. Because the predictions for the group model are more accurate, there is therefore less error around the group model predictions.\n    \n</div>"
    }
  ],
  "metadata": {
    "kernelspec": {
      "display_name": "R",
      "language": "R",
      "name": "ir"
    },
    "language_info": {
      "codemirror_mode": "r",
      "file_extension": ".r",
      "mimetype": "text/x-r-source",
      "name": "R",
      "pygments_lexer": "r",
      "version": "4.3.3"
    },
    "nbsimplegrader": {
      "publish_config": {
        "classes": [],
        "options": [],
        "tools": []
      }
    }
  },
  "nbformat": 4,
  "nbformat_minor": 5
}