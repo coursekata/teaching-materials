{
  "cells": [
    {
      "cell_type": "markdown",
      "id": "b8faa990",
      "metadata": {},
      "source": "# Measuring Error From the Two-Group Model\n## Chapter 7.5-7.8 Overview Notebook"
    },
    {
      "cell_type": "code",
      "execution_count": null,
      "id": "2dd4abae",
      "metadata": {
        "trusted": true
      },
      "outputs": [],
      "source": "# run this to set up the notebook\nsuppressMessages(library(coursekata))\nsuppressMessages(library(gridExtra))\n\n# format notebook\ncss <- suppressWarnings(readLines(\"https://raw.githubusercontent.com/jimstigler/jupyter/master/ck_jupyter_styles.css\"))\nIRdisplay::display_html(sprintf('<style>%s</style>', paste(css, collapse = \"\\n\")))\n\n# temporarily add gf_resid and gf_squaresid\nsource(\"https://raw.githubusercontent.com/UCLATALL/stopwatch/refs/heads/main/gf_resid.R\")\nsource(\"https://raw.githubusercontent.com/UCLATALL/stopwatch/refs/heads/main/gf_square_resid.R\")\n\n# get the data\nanchor_data <- read.csv(\"https://docs.google.com/spreadsheets/d/e/2PACX-1vR8CPolRTYxJ6eCszgpgcGvuQ6tyFNoraBbFrFXEbKFgZgouLAlrgEC6wyRqWwSZPTmS2Xpd09P6G9y/pub?gid=1344310652&single=true&output=csv\")\n\n# create models\nempty_model <- lm(guess ~ NULL, data = anchor_data)\ncondition_model <- lm(guess ~ condition, data = anchor_data)"
    },
    {
      "cell_type": "markdown",
      "id": "9dac8e33",
      "metadata": {},
      "source": "## 1 Review: The `anchor_data` dataset\n\nIn this notebook we will go back to our `anchor_data` dataset from the previous notebook. Remember, this dataset contained results from an experiment in which students were shown a card like this one and told not to turn it over until they were instructed to do so.\n\n<br><div style=\"margin: 0 auto; font-family: Arial, sans-serif; border: 2px solid black; width: 380px; height: 220px; background-color: #F2F2F2; padding: 10px; box-sizing: border-box; font-size: 12pt; line-height: 1.4; font-weight: bold; text-align: left;\">\n  On the other side of this card is a math problem. When you are told to do so, turn over the card and look at it for 5 seconds. Then turn the card back over and write your estimate of the answer in the space below.<br><br><br>&nbsp;&nbsp;&nbsp;&nbsp;&nbsp;&nbsp;&nbsp;&nbsp;&nbsp;&nbsp;&nbsp;&nbsp;___________________________\n</div>\n\nOnce they turned it over they were asked to look at it for 5 seconds, then turn the card back over and estimate the product of the 8 numbers. All students got the same 8 numbers (so the correct answer was the same). But half the students got the numbers in ascending order (on the left), the other half in descending order (on the right).\n\n<table border=\"1\" style=\"font-size: 24px; margin-left: 0; border-collapse: collapse; table-layout: fixed; width: 100%;\">\n  <tbody>\n    <tr>\n      <td style=\"border: 1px solid black; text-align: center; padding: 60px;\">\n        1 × 2 × 3 × 4 × 5 × 6 × 7 × 8\n      </td>\n      <td style=\"border: 1px solid black; text-align: center; padding: 60px;\">\n        8 × 7 × 6 × 5 × 4 × 3 × 2 × 1\n      </td>\n    </tr>\n  </tbody>\n</table>\n\nStudents' guesses were stored in a dataset called `anchor_data`. Each row represents one student. The columns include which `condition` they were in and what their `guess` was."
    },
    {
      "cell_type": "markdown",
      "id": "5438ee9c",
      "metadata": {},
      "source": "## 2 Measuring Error From a Two-Group Model\n\nIn the previous notebook we created two models of `guess`:\n\n- the `empty_model`, which makes the same prediction (the grand mean) for everyone, and  \n- the `condition_model` (a two-group model), which makes different predictions for ascending vs. descending groups (using the mean for each group as the model prediction).\n\nWe previously how to measure error from the empty model. In this notebook we will learn how to measure error from the two-group model.\n\n### 2.1 To start, let's fit and save two models of `guess`\n\nUse the code cell below to review what's in the `anchor_data` dataset. Then fit and save two models of `guess`: `empty_model` (using the mean as the model), and `condition_model` (using the mean of each condition as the model)."
    },
    {
      "cell_type": "code",
      "execution_count": null,
      "id": "af58a775",
      "metadata": {
        "nbsimplegrader": {
          "config_key": "code.response",
          "editable": true,
          "label": "Response: Code",
          "respondable": true,
          "response": null,
          "runnable": true,
          "type": "code"
        },
        "trusted": true
      },
      "outputs": [],
      "source": "# view contents of dataset\nstr(anchor_data)\n\n# create and save models\n\n\n# print the models\n"
    },
    {
      "cell_type": "markdown",
      "id": "d971e520",
      "metadata": {},
      "source": "### 2.2 Run the code below to show the effect of `condition` on `guess`. Write code to overlay both of the models we just created on the same graph."
    },
    {
      "cell_type": "code",
      "execution_count": null,
      "id": "53166dc4",
      "metadata": {
        "nbsimplegrader": {
          "config_key": "code.response",
          "editable": true,
          "label": "Response: Code",
          "respondable": true,
          "response": null,
          "runnable": true,
          "type": "code"
        },
        "trusted": true
      },
      "outputs": [],
      "source": "# code here\ngf_jitter(guess ~ condition, data = anchor_data, width = .2) \n\n"
    },
    {
      "cell_type": "markdown",
      "id": "90600dc8",
      "metadata": {},
      "source": "<div class=\"discussion-question\">\n\n### 2.3 Discussion Questions:\n- Where in the graph is the empty model?\n- Where is the group model?\n- How is it possible to have two different models of the same data?\n    \n</div>"
    },
    {
      "cell_type": "markdown",
      "id": "69134a73",
      "metadata": {},
      "source": "### 2.4 The graphs below show the same data with the empty model on the left, the condition model on the right. We have highlighted the same few data points in each graph."
    },
    {
      "cell_type": "markdown",
      "id": "a4dd6410",
      "metadata": {},
      "source": "<img src=\"https://coursekata-course-assets.s3.us-west-1.amazonaws.com/UCLATALL/czi-stats-course/7.5-7.7-overview-empty-cond-models.jpg\">"
    },
    {
      "cell_type": "markdown",
      "id": "03a6f722",
      "metadata": {},
      "source": "<div class=\"guided-notes\">\n\n### 2.5 Draw in the residuals from the empty model on the left. Then try drawing in residuals from the condition model.  \n\nOur measure of error from any model starts with residuals. Just draw the residuals for the black points and imagine the rest.\n    \n</div>\n"
    },
    {
      "cell_type": "markdown",
      "id": "c4d05a79",
      "metadata": {},
      "source": "<div class=\"guided-notes\">\n\n### 2.6 We have drawn in some residuals by hand. We can also overlay residuals on a jitter plot using the R function `gf_resid()`. Write R code to add the model and residuals to the plot.\n    \n</div>"
    },
    {
      "cell_type": "code",
      "execution_count": null,
      "id": "1aa71d1c",
      "metadata": {
        "nbsimplegrader": {
          "config_key": "code.response",
          "editable": true,
          "label": "Response: Code",
          "respondable": true,
          "response": null,
          "runnable": true,
          "type": "code"
        },
        "scrolled": false,
        "trusted": true
      },
      "outputs": [],
      "source": "# modify this\n#gf_jitter(guess ~ condition, data = anchor_data) %>%\n#  gf_model(_) %>% \n#  gf_resid(_) \n \n"
    },
    {
      "cell_type": "markdown",
      "id": "189a192b",
      "metadata": {},
      "source": "<div class=\"discussion-question\">\n\n### 2.7 Discussion Question: A residual from the empty model is defined as the difference between the data point and the mean. How do you think we would define the residual from the condition model?\n\n</div>"
    },
    {
      "cell_type": "markdown",
      "id": "a6171e7d",
      "metadata": {},
      "source": "<div class=\"guided-notes\">\n\n### 2.8 Write a definition of *residual* that would work for any model.\n    \n</div>"
    },
    {
      "cell_type": "markdown",
      "id": "be97cb8c",
      "metadata": {},
      "source": "## 3 Representing Residuals in GLM Notation\n\nWe have learned how to represent both the empty and two-group models in GLM notation. Let's pause to zero in on error and residuals in particular. How do we represent residuals in the notation of the GLM?\n\nFor all models, **DATA = MODEL + ERROR**. This being the case, we also can say that **ERROR = DATA - MODEL**. The residual for any data point can be calculated as the value of the DATA minus the MODEL prediction for that data point. \n"
    },
    {
      "cell_type": "markdown",
      "id": "090a42b7",
      "metadata": {},
      "source": "<div class=\"guided-notes\">\n\n### 3.1 We have filled in the table below for the empty model. Fill in the corresponding information for the two-group model.  \n\n</div>\n"
    },
    {
      "cell_type": "markdown",
      "id": "12bdf202",
      "metadata": {},
      "source": "<table border=\"1\" style=\"font-size: 18px; margin-left: 0; border-collapse: collapse; width: 100%;\">\n  <thead>\n    <tr>\n      <td style=\"border: 1px solid black; font-weight: bold; text-align: center; width:28%\"></td>\n      <td style=\"border: 1px solid black; font-weight: bold; text-align: center; width:36%\">Empty Model</td>\n      <td style=\"border: 1px solid black; font-weight: bold; text-align: center; width:36%\">Two-Group Model</td>\n    </tr>\n  </thead>\n  <tbody>\n    <tr>\n        <td style=\"border: 1px solid black; text-align: left; width: 50%; vertical-align: top;\"><b>Residual definition</b></td>\n      <td style=\"border: 1px solid black; text-align: left; vertical-align: top;\">The difference between a data point and the mean (the empty model's prediction)</td>\n      <td style=\"border: 1px solid black; text-align: left; vertical-align: top;\">The difference between a data point and any model's prediction</td>\n    </tr>\n    <tr>\n      <td style=\"border: 1px solid black; text-align: left; width: 50%; vertical-align: top;\"><b>Model specification</b></td>\n      <td style=\"border: 1px solid black; text-align: left; vertical-align: top;\">$$\\underbrace{Y_i}_{\\text{DATA}} \\;=\\; \\underbrace{b_0}_{\\text{MODEL}} \\;+\\; \\underbrace{e_i}_{\\text{ERROR}}$$</td>\n      <td style=\"border: 1px solid black; text-align: left; vertical-align: top;\">$$\\underbrace{Y_i}_{\\text{DATA}} \\;=\\; \\underbrace{(b_0 + b_1X_i)}_{\\text{MODEL}} \\;+\\; \\underbrace{e_i}_{\\text{ERROR}}$$</td>\n    </tr>\n    <tr>\n        <td style=\"border: 1px solid black; text-align: left; width: 50%; vertical-align: top;\"><b>Residual in GLM notation</b></td>\n      <td style=\"border: 1px solid black; text-align: left; vertical-align: top;\">$$e_i = Y_i - b_0$$</td>\n      <td style=\"border: 1px solid black; text-align: left; vertical-align: top;\"></td>\n    </tr>\n    <tr>\n       <td style=\"border: 1px solid black; text-align: left; width: 50%; vertical-align: top;\"><b>Model prediction in GLM notation</b></td>\n      <td style=\"border: 1px solid black; text-align: left; vertical-align: top;\">$$\\hat{Y}_i = b_0$$</td>\n      <td style=\"border: 1px solid black; text-align: left; vertical-align: top;\"></td>\n    </tr>\n    <tr>\n       <td style=\"border: 1px solid black; text-align: left; width: 50%; vertical-align: top;\"><b>Residual in GLM notation (substituting model prediction for model)</b></td>\n      <td style=\"border: 1px solid black; text-align: left; vertical-align: top;\">$$e_i = Y_i - \\hat{Y}_i$$</td>\n      <td style=\"border: 1px solid black; text-align: left; vertical-align: top;\"></td>\n    </tr>\n    </tr>\n  </tbody>  \n</table>"
    },
    {
      "cell_type": "markdown",
      "id": "1fcaf4fb",
      "metadata": {},
      "source": "## 4 Using Total Error to Compare Two Models\n\nWe have calculated total error from the empty model using SST (Sum of Squares Total). How do we calculate total error from the condition model (a two-group model)? And how do we use these calculations to compare the two models?"
    },
    {
      "cell_type": "markdown",
      "id": "21a31123",
      "metadata": {},
      "source": "<img src=\"https://coursekata-course-assets.s3.us-west-1.amazonaws.com/UCLATALL/czi-stats-course/7.5-7.7-residuals-from-two-models.png\">"
    },
    {
      "cell_type": "markdown",
      "id": "93b6c4c5",
      "metadata": {},
      "source": "<div class=\"discussion-question\">\n\n### 4.1 Discussion Questions: \n- Just by looking at the residuals in the jitter plot, which model seems to have less error overall? Explain your answer.\n- Do you see positive and negative residuals in both plots? Why do you think that happens?\n- If we add up all the residuals from the empty model, and then add up all the residuals from the group model, which do you think will be smaller?  Why?\n</div>"
    },
    {
      "cell_type": "markdown",
      "id": "29fc31ba",
      "metadata": {},
      "source": "### 4.2 Do residuals from the two-group model also add up to 0 (i.e., are they perfectly balanced)?\n\nWe learned that the residuals from the empty model always add up to 0. But is that also true for other models, such as the condition model? "
    },
    {
      "cell_type": "markdown",
      "id": "d92122bc",
      "metadata": {},
      "source": "<div class=\"guided-notes\">\n    \n### 4.3 Write R code to sum the residuals from the empty model and from the condition model.\n\n</div>"
    },
    {
      "cell_type": "markdown",
      "id": "5408c951",
      "metadata": {},
      "source": "<table border=\"1\" style=\"font-size: 18px; margin-left: 0; border-collapse: collapse; width: 100%;\">\n  <thead>\n    <tr>\n      <td style=\"border: 1px solid black; font-weight: bold; text-align: center; width: 16%\"></td>\n      <td style=\"border: 1px solid black; font-weight: bold; text-align: center; width: 42%\">Empty Model</td>\n      <td style=\"border: 1px solid black; font-weight: bold; text-align: center; width: 42%\">Group Model</td>\n    </tr>\n  </thead>\n  <tbody>\n    <tr style=\"height: 80px;\">\n      <td style=\"border: 1px solid black; font-weight: bold; text-align: left\">R code to sum residuals</td>\n      <td style=\"border: 1px solid black; text-align: left; width: 50%; vertical-align: top;\"><br><br><code>________ ( resid(empty_model) )</code></td>\n      <td style=\"border: 1px solid black; text-align: left; vertical-align: top;\"><br> </td>\n    </tr>\n    <tr style=\"height: 80px;\">\n      <td style=\"border: 1px solid black; font-weight: bold; text-align: left\">Sum of residuals</td>\n      <td style=\"border: 1px solid black; font-weight: bold; text-align: center\"></td>\n      <td style=\"border: 1px solid black; font-weight: bold; text-align: center;\"></td>\n    </tr>\n  </tbody>  \n</table>"
    },
    {
      "cell_type": "code",
      "execution_count": null,
      "id": "a741ceb2",
      "metadata": {
        "nbsimplegrader": {
          "config_key": "code.response",
          "editable": true,
          "label": "Response: Code",
          "respondable": true,
          "response": null,
          "runnable": true,
          "type": "code"
        },
        "trusted": true
      },
      "outputs": [],
      "source": "# modify this code\n# resid(empty_model)\n\n"
    },
    {
      "cell_type": "markdown",
      "id": "b0f9aa47",
      "metadata": {},
      "source": "### 4.4 Using squared residuals to compare two models\n\nSo far we’ve seen that residuals always balance around a mean whether it’s the grand mean (empty model) or each group mean (condition model).  \n\nThat means if we just add up the residuals, both models look the same: the sum is always 0.  \n\nTo compare which model generates better predictions of the data, we need a better measure of **total error** which brings us to the concept of **sum of squares** (SS): square each residual, then add them up.\n\nWe have already done this for the empty model; the sum of squared residuals from the empty model is called **SST**, or Sum of Squares Total. When we calculate sum of squares for the condition model (or any model other than the empty model) we call the result **Sum of Squares Error**, or **SSE**. "
    },
    {
      "cell_type": "markdown",
      "id": "6e7c99fd",
      "metadata": {},
      "source": "<div class=\"guided-notes\">\n\n### 4.5 Draw in the squared residuals for the empty model and the group model.\n    \nJust draw the squared residuals for the black points and imagine the rest.\n    \n</div>\n"
    },
    {
      "cell_type": "markdown",
      "id": "89890d99",
      "metadata": {},
      "source": "<img src=\"https://coursekata-course-assets.s3.us-west-1.amazonaws.com/UCLATALL/czi-stats-course/7.5-7.7-overview-empty-cond-models.jpg\">"
    },
    {
      "cell_type": "markdown",
      "id": "8db0d0a7",
      "metadata": {},
      "source": "<div class=\"guided-notes\">\n\n### 4.6 Write the R code to calculate the SS from the empty model and the group model\n    \n- The sum of squares from the empty model is called **SST** (Sum of Squares Total)\n- The sum of squares from the group model is called **SSE** (Sum of Squares Error)  \n    \n</div>\n"
    },
    {
      "cell_type": "code",
      "execution_count": null,
      "id": "f56c4af1",
      "metadata": {
        "nbsimplegrader": {
          "config_key": "code.response",
          "editable": true,
          "label": "Response: Code",
          "respondable": true,
          "response": null,
          "runnable": true,
          "type": "code"
        },
        "trusted": true
      },
      "outputs": [],
      "source": "# modify this\n#resid(empty_model)\n\n\n"
    },
    {
      "cell_type": "markdown",
      "id": "f799032c",
      "metadata": {},
      "source": "### 4.7 Make a prediction: Which SS will print out when we run `supernova(condition_model)`?\n\nThen run the code below."
    },
    {
      "cell_type": "code",
      "execution_count": null,
      "id": "1c070b4b",
      "metadata": {
        "trusted": true
      },
      "outputs": [],
      "source": "# run this\nsupernova(condition_model)"
    },
    {
      "cell_type": "markdown",
      "id": "bfeef0c2",
      "metadata": {},
      "source": "<div class=\"discussion-question\">\n\n### 4.8 Discussion Questions: \n    \n- Which SS is smaller?\n- What does that mean for our two models?\n- What does the SS in the **Model (error reduced)** row mean? How was it calculated? (We will go into this more in the next notebook.)\n\n</div>"
    },
    {
      "cell_type": "markdown",
      "id": "a1ba61e5",
      "metadata": {},
      "source": "<div class=\"discussion-question\">\n\n### 4.9 Discussion: For both models, the formula for **sum of squares** is: $SS = \\sum (Y_i - \\hat{Y}_i)^2$\n    \n- What is the $\\hat{Y}_i$ in the empty model?\n- What is the $\\hat{Y}_i$ in the group model?    \n\n</div>\n"
    },
    {
      "cell_type": "markdown",
      "id": "53e732ba",
      "metadata": {},
      "source": "<div class=\"discussion-question\">\n\n### 4.10 Discussion: What makes it hard to use sum of squares (SSE and SST) to compare the two models?\n\n</div>"
    },
    {
      "cell_type": "markdown",
      "id": "9f748864",
      "metadata": {},
      "source": "### 4.11 Visualizing SS Total vs. SS Error\n\n<img src=\"https://coursekata-course-assets.s3.us-west-1.amazonaws.com/UCLATALL/czi-stats-course/7.5-7.7-overview-venn2.jpg\" width = 400 align=\"right\">Let’s bring it all together with a visual.\n\nThink of **SS Total** as representing all the variation in our outcome variable: a full circle (the shaded circle in the figure).\n\nWhen we add an explanatory variable to our model, that variable might help explain some of the variation. So now, the variation is split:\n\n- Some variation is *explained by the model* (or you could say *reduced by the model*)\n- Some variation is *left over as error* (**SS Error**)\n"
    },
    {
      "cell_type": "markdown",
      "id": "f43441df",
      "metadata": {},
      "source": "<div class=\"guided-notes\">\n\n### 4.12 Where in the diagram do you see SST? Where do you see SSE?\n\n</div>\n"
    },
    {
      "cell_type": "markdown",
      "id": "1c0abf19",
      "metadata": {},
      "source": "## 5 Interpreting distributions of residuals\n\nWhen we have made histograms and jitter plots so far we have been plotting the distribution of an outcome variable. But sometimes statisticians like to plot the residuals that are left over after fitting a model. Let's take a look at what the residuals from the condition model might look like when viewed as a distribution.\n\n### 5.1 Let's first add a new variable to `anchor_data` called `condition_resid`. Then look at the data frame (e.g., using `head()`) to make sure the residuals have been saved."
    },
    {
      "cell_type": "code",
      "execution_count": null,
      "id": "26f767c8",
      "metadata": {
        "nbsimplegrader": {
          "config_key": "code.response",
          "editable": true,
          "label": "Response: Code",
          "respondable": true,
          "response": null,
          "runnable": true,
          "type": "code"
        },
        "trusted": true
      },
      "outputs": [],
      "source": "# code here\n"
    },
    {
      "cell_type": "markdown",
      "id": "0c8479e5",
      "metadata": {},
      "source": "### 5.2 Below we have two jitter plots: one of the outcome (`guess`) by `condition` (on the left), and the other of residuals from the condition model (`condition_resid`) by `condition` (on the right). "
    },
    {
      "cell_type": "markdown",
      "id": "e171731f",
      "metadata": {},
      "source": "<img src=\"https://coursekata-course-assets.s3.us-west-1.amazonaws.com/UCLATALL/czi-stats-course/7.5-7.8-overview-outcomes-vs-residuals.png\">"
    },
    {
      "cell_type": "markdown",
      "id": "f597c150",
      "metadata": {},
      "source": "<div class=\"discussion-question\">\n\n### 5.3 What is similar between the two graphs? What is different?\n    \n- Why are the means of both groups on the residual graph the same? (We know there is a difference in `guess` across conditions.)\n- Why are the means of both groups on the residual graph equal to 0?\n- If we fit a condition model to each of these two outcome variables, which do you think would have a higher SST? Which a higher SSE? Explain your thinking.\n\n</div>\n"
    },
    {
      "cell_type": "markdown",
      "id": "7888a1ac",
      "metadata": {},
      "source": "### 5.4 Run the code below to fit the `resid_model` and then run `supernova()` on both the `resid_model` and the `condition_model`."
    },
    {
      "cell_type": "code",
      "execution_count": null,
      "id": "7bd2b888",
      "metadata": {
        "trusted": true
      },
      "outputs": [],
      "source": "resid_model <- lm(condition_resid ~ condition, data = anchor_data)\nsupernova(condition_model)\nsupernova(resid_model)"
    },
    {
      "cell_type": "markdown",
      "id": "64aa721e",
      "metadata": {},
      "source": "<div class=\"discussion-question\">\n\n### 5.5 Discussion Question: Do these numbers make sense?\n    \n- Why is SST for `resid_model` the same as SSE for the `condition_model`?\n\n</div>\n"
    }
  ],
  "metadata": {
    "kernelspec": {
      "display_name": "R",
      "language": "R",
      "name": "ir"
    },
    "language_info": {
      "codemirror_mode": "r",
      "file_extension": ".r",
      "mimetype": "text/x-r-source",
      "name": "R",
      "pygments_lexer": "r",
      "version": "4.3.3"
    },
    "nbsimplegrader": {
      "publish_config": {
        "classes": [],
        "options": [],
        "tools": []
      }
    }
  },
  "nbformat": 4,
  "nbformat_minor": 5
}