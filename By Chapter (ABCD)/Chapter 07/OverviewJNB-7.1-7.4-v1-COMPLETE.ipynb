{
  "cells": [
    {
      "cell_type": "markdown",
      "id": "b8faa990",
      "metadata": {},
      "source": "# Adding an Explanatory Variable to a Model (COMPLETE)\n## Chapter 7.1-7.4 Overview Notebook"
    },
    {
      "cell_type": "code",
      "execution_count": null,
      "id": "2dd4abae",
      "metadata": {
        "trusted": true
      },
      "outputs": [],
      "source": "# run this to set up the notebook\nsuppressMessages(library(coursekata))\nsuppressMessages(library(gridExtra))\n\n# get the data\nanchor_data <- read.csv(\"https://docs.google.com/spreadsheets/d/e/2PACX-1vR8CPolRTYxJ6eCszgpgcGvuQ6tyFNoraBbFrFXEbKFgZgouLAlrgEC6wyRqWwSZPTmS2Xpd09P6G9y/pub?gid=1344310652&single=true&output=csv\") "
    },
    {
      "cell_type": "code",
      "execution_count": null,
      "id": "e0cf27f6",
      "metadata": {
        "trusted": true
      },
      "outputs": [],
      "source": "css <- suppressWarnings(readLines(\"https://raw.githubusercontent.com/jimstigler/jupyter/master/ck_jupyter_styles.css\"))\nIRdisplay::display_html(sprintf('<style>%s</style>', paste(css, collapse = \"\\n\")))"
    },
    {
      "cell_type": "markdown",
      "id": "99517360",
      "metadata": {},
      "source": "<div class=\"teacher-note\">\n    <b>Teacher Note:</b> This lesson has two main goals: \n    <ol>\n        <li>\n            Expand the concept of model from the empty model to one that includes an explanatory variable \n            (a two-group categorical explanatory variable). Students should understand that both the empty \n            model and the two-group model are models in that they both:\n            <ul>\n                <li>are functions that make a prediction for each observation (though while the empty model makes only one unique prediction, the two-group model makes two)</li>\n                <li>can be fit (parameters estimated) using the <code>lm()</code> function in R</li>\n                <li>can be used to generate predictions using the <code>predict()</code> function in R</li>\n                <li>can be represented in GLM notation</li>\n            </ul>\n        </li>\n        <li>\n            Connect how models make predictions to their parameter estimates ($b_0$ and $b_1$) and variables ($X_i$). Students should be able to:\n            <ul>\n                <li>Connect predictions (in this case the means of each group) to parameter estimates (and vice versa)</li>\n                <li>Connect predictions to variables (and vice versa)</li>\n                <li>Understand the difference between parameter estimates and variables</li>\n            </ul>\n        </li>\n    </ol>\n    A <a href=\"https://docs.google.com/document/d/1zi5rDI0BsjZCd97j1OeTDZCW_XdjTiQ5IKUgpEwDPRw/edit?usp=sharing\" target=\"_blank\">printable student guided-notes worksheet</a> is available to go with this Jupyter notebook, as well as a student version of this notebook.\n</div>"
    },
    {
      "cell_type": "markdown",
      "id": "9dac8e33",
      "metadata": {},
      "source": "## 1. Data Collection Activity\n\n<br>\n<div style=\"margin: 0 auto; font-family: Arial, sans-serif; border: 2px solid black; width: 380px; height: 220px; background-color: #F2F2F2; padding: 10px; box-sizing: border-box; font-size: 12pt; line-height: 1.4; font-weight: bold; text-align: left;\">\n  On the other side of this card is a math problem. When you are told to do so, turn over the card and look at it for 5 seconds. Then turn the card back over and write your estimate of the answer in the space below.<br><br><br>&nbsp;&nbsp;&nbsp;&nbsp;&nbsp;&nbsp;&nbsp;&nbsp;&nbsp;&nbsp;&nbsp;&nbsp;___________________________\n</div>"
    },
    {
      "cell_type": "markdown",
      "id": "80e0fa32",
      "metadata": {},
      "source": "<div class=\"teacher-note\">\n    <b>Teacher Note:</b> Hand out a card to each student. Tell them to keep the instructions side up, and the side with the math problem down. Half the students will get a multiplication problem in <b>ascending</b> order, the other half, in <b>descending</b> order. (The answer, therefore, is the same in both cases.) When students are done, collect all the cards.\n    \nDownload a printable sheet for making the <a href=\"https://docs.google.com/document/d/17QcRs2dXqrpDWrcDmO6OTZkIDoJ5ktgRpWCKjb1rNXU/edit?usp=sharing\" target=\"_blank\">data collection cards</a>.\n</div>"
    },
    {
      "cell_type": "markdown",
      "id": "fae068c4",
      "metadata": {},
      "source": "### 1.1 Everyone was given the same numbers to multiply. Do you expect all their guesses to be the same? Why or why not?"
    },
    {
      "cell_type": "markdown",
      "id": "8cd28994",
      "metadata": {
        "nbsimplegrader": {
          "config_key": "markdown.response",
          "editable": true,
          "label": "Response: Markdown",
          "respondable": true,
          "response": null,
          "runnable": true,
          "type": "markdown"
        }
      },
      "source": "<div class=\"teacher-note\">    \n    <b>Sample Responses:</b> \n    \n- The correct answer to the multiplication problem should be the same for everyone. \n- A lot of people won't guess the correct answer so there would be a lot of variation in the guesses. Some people are better or faster at mental arithmetic than others; some may take the task more seriously; some people might be better at estimation; etc.\n\n</div>"
    },
    {
      "cell_type": "markdown",
      "id": "27876fec",
      "metadata": {},
      "source": "## 2. Explore Variation in `guess`\nWe have collected some data from you. We have a similar data set collected from a few other classes of students; we will start by analyzing that."
    },
    {
      "cell_type": "markdown",
      "id": "64e62bdc",
      "metadata": {},
      "source": "### 2.1 Run the code below to create a jitter plot to visualize variation in guesses"
    },
    {
      "cell_type": "code",
      "execution_count": null,
      "id": "2b6e7acd",
      "metadata": {
        "scrolled": false,
        "trusted": true
      },
      "outputs": [],
      "source": "# run this code; no need to edit\ngf_jitter(guess ~ \"x\", data=anchor_data, width=.1 )"
    },
    {
      "cell_type": "markdown",
      "id": "a5a9ed01",
      "metadata": {},
      "source": "### 2.2 Look back at the code. What is the outcome variable? What is the data frame?"
    },
    {
      "cell_type": "markdown",
      "id": "dd11b568",
      "metadata": {},
      "source": "<div class=\"teacher-note\">\n    \n<b>Sample Responses:</b>         \n\n- outcome variable - guess\n- data frame - anchor_data\n\n<b>Teacher Note:</b>\n- Students may want to discuss things they notice about the data. For example, someone usually brings up the outlier (~10,000). You may want to hint that this person is the closest to the right answer. But don't tell them the correct answer to the multiplication problem yet! They don't yet know that there were two different orders yet.\n    \n</div>"
    },
    {
      "cell_type": "markdown",
      "id": "77012a7b",
      "metadata": {
        "cell_id": "00006-7bb97ccc-3bc3-49f5-952d-d54537f80b1e",
        "deepnote_cell_type": "markdown"
      },
      "source": "### 2.3 If we randomly chose one more student and added them to the data set, what would you predict their guess would be?"
    },
    {
      "cell_type": "markdown",
      "id": "d2fe70c2",
      "metadata": {},
      "source": "<div class=\"teacher-note\">\n    \n<b>Sample Response:</b> Students might say there is no way to tell; some might say the mean.\n    \n<b>Teacher Note:</b> We want students to remember from the previous chapters that without other information, the mean is going to be the best prediction. It is very unlikely to be correct, but it is just as likely to be too high as to be too low.\n</div>"
    },
    {
      "cell_type": "markdown",
      "id": "4debe6d2",
      "metadata": {},
      "source": "## 3. Review the Empty Model\n### 3.1 Fit the empty model of `guess`; save it as `empty_model`; print out the model"
    },
    {
      "cell_type": "code",
      "execution_count": null,
      "id": "dcacb77a",
      "metadata": {
        "nbsimplegrader": {
          "config_key": "code.response",
          "editable": true,
          "label": "Response: Code",
          "respondable": true,
          "response": null,
          "runnable": true,
          "type": "code"
        },
        "scrolled": true,
        "trusted": true
      },
      "outputs": [],
      "source": "# sample response\n\n# fit and save the empty_model of guess\nempty_model <- lm(guess ~ NULL, data = anchor_data)\nempty_model"
    },
    {
      "cell_type": "markdown",
      "id": "ac387431",
      "metadata": {
        "cell_id": "00006-7bb97ccc-3bc3-49f5-952d-d54537f80b1e",
        "deepnote_cell_type": "markdown"
      },
      "source": "### 3.2 What does the 1946 represent?"
    },
    {
      "cell_type": "markdown",
      "id": "86fe005d",
      "metadata": {},
      "source": "<div class=\"teacher-note\">\n<b>Sample Responses:</b> \n\n- The number 1946 is the mean of the distribution of guess;\n- It also is the best-fitting parameter estimate $b_0$ for the empty model.\n    \n</div>"
    },
    {
      "cell_type": "markdown",
      "id": "21cc4a4c",
      "metadata": {},
      "source": "<div class=\"guided-notes\">\n    <h3>3.3 Draw in the empty model prediction on the graph</h3>\n</div>"
    },
    {
      "cell_type": "markdown",
      "id": "07ecabe5",
      "metadata": {},
      "source": "<div class=\"guided-notes\">\n    <h3>3.4 Write the code to overlay the <code>empty_model</code> on the jitter plot?</h3>\n</div>"
    },
    {
      "cell_type": "code",
      "execution_count": null,
      "id": "5682ceed",
      "metadata": {
        "nbsimplegrader": {
          "config_key": "code.response",
          "editable": true,
          "label": "Response: Code",
          "respondable": true,
          "response": null,
          "runnable": true,
          "type": "code"
        },
        "scrolled": false,
        "trusted": true
      },
      "outputs": [],
      "source": "# sample response\n\n# add the empty_model to the plot\ngf_jitter(guess ~ \"x\",  width = .1, data = anchor_data) %>%\n  gf_model(empty_model)"
    },
    {
      "cell_type": "markdown",
      "id": "0d81a19f",
      "metadata": {},
      "source": "### 3.5 Does this look like your drawing of the empty model prediction on the jitter plot? "
    },
    {
      "cell_type": "markdown",
      "id": "d2a1789a",
      "metadata": {},
      "source": "<div class=\"teacher-note\">\n<b>Teacher Note:</b> \n\n- Even if they intended to draw in the mean, some students may have under- or overestimated the mean. \n- Overestimation: In skewed distributions, sometimes students simply cut the range in half. You may want to discuss why the actual mean is lower than just the middle of the range estimated from the graph (0 to 10,000). Sometimes students don't consider that the many small guesses tend to pull the mean down.\n    \n</div>"
    },
    {
      "cell_type": "markdown",
      "id": "dfc2f5b6",
      "metadata": {},
      "source": "## 4. Adding an explanatory variable to the model\n\nThe empty model isn't very good - there is lots of error around the model prediction. We might be able to make a better model (i.e., one with less error) if we had an explanatory variable. \n\nIt turns out we do have a possible explanatory variable in our data that might help us make a better model. Run the code below to check out the variable called `condition`. Half the students in our class were randomly presented with the problem 1x2x3x4x5x6x7x8 (the `ascending` condition). The other half got 8x7x6x5x4x3x2x1 (the `descending` condition). "
    },
    {
      "cell_type": "code",
      "execution_count": null,
      "id": "ef203dbc",
      "metadata": {
        "trusted": true
      },
      "outputs": [],
      "source": "# run this code\nhead(anchor_data)"
    },
    {
      "cell_type": "markdown",
      "id": "9055a1ec",
      "metadata": {
        "cell_id": "00006-7bb97ccc-3bc3-49f5-952d-d54537f80b1e",
        "deepnote_cell_type": "markdown"
      },
      "source": "<div class=\"discussion-question\">\n<b>Key Discussion Question:</b> Do you think condition would have an impact on guess? Why or why not?\n</div>"
    },
    {
      "cell_type": "markdown",
      "id": "94515c70",
      "metadata": {},
      "source": "<div class=\"teacher-note\">\n<b>Teacher Note:</b> \n\n- This is an important moment to get them to think about the Data Generating Process (or the Guess Generating Process). \n- Nobel Prize-winning Daniel Kahneman and Amos Tversky conducted this experiment with high school students in 1974! They hypothesized that humans perform the first few multiplications and then adjust their estimates from there. The initial numbers act as an \"anchor,\" influencing their guesses. When smaller numbers appear first, estimates are anchored at smaller products; when larger numbers come first, estimates are anchored at larger products. This anchoring effect is why we named the dataset \"anchor_data.\"\n- The real answer is more than 40,000 but typically students don't guess anywhere near that high. \n    \n</div>"
    },
    {
      "cell_type": "code",
      "execution_count": null,
      "id": "0ccbe6a8",
      "metadata": {
        "trusted": true
      },
      "outputs": [],
      "source": "# sample response\n\n# R code to calculate 8!\nfactorial(8)"
    },
    {
      "cell_type": "markdown",
      "id": "0031573b",
      "metadata": {},
      "source": "<div class=\"guided-notes\">\n    <h3>4.1 Write two word equations: one to represent the hypothesis that condition would cause variation in guess; the other to represent the idea that it would <i>not</i> have an impact.</h3> Where would each word equation go on your guided notes? Which represents the empty model, which the condition model?\n</div>"
    },
    {
      "cell_type": "markdown",
      "id": "37826577",
      "metadata": {
        "nbsimplegrader": {
          "config_key": "markdown.response",
          "editable": true,
          "label": "Response: Markdown",
          "respondable": true,
          "response": null,
          "runnable": true,
          "type": "markdown"
        }
      },
      "source": "<div class=\"teacher-note\">\n    \n<b>Sample Responses:</b>\n    \n- guess = condition + other stuff\n- guess = mean + other stuff\n    \n<b>Teacher Note:</b> We want students to understand that the empty model word equation represents the idea that any explanatory variable that might be available has no effect.\n</div>"
    },
    {
      "cell_type": "markdown",
      "id": "06278238",
      "metadata": {},
      "source": "### 4.2 Make a jitter plot to explore the effect of `condition` on `guess`."
    },
    {
      "cell_type": "code",
      "execution_count": null,
      "id": "20dda381",
      "metadata": {
        "nbsimplegrader": {
          "config_key": "code.response",
          "editable": true,
          "label": "Response: Code",
          "respondable": true,
          "response": null,
          "runnable": true,
          "type": "code"
        },
        "trusted": true
      },
      "outputs": [],
      "source": "# sample response\n\n# make a jitter plot\ngf_jitter(guess ~ condition, width = .2, data = anchor_data)"
    },
    {
      "cell_type": "markdown",
      "id": "57bf4ba0",
      "metadata": {
        "cell_id": "00006-7bb97ccc-3bc3-49f5-952d-d54537f80b1e",
        "deepnote_cell_type": "markdown"
      },
      "source": "<div class=\"discussion-question\">\n<b>Key Discussion Question:</b> Does condition explain some of the variation in guess? (If you know what condition a student is in, could you make a better prediction of what their guess would be? What do you think the model predictions would be for the condition model?\n</div>"
    },
    {
      "cell_type": "markdown",
      "id": "777dfd97",
      "metadata": {},
      "source": "<div class=\"teacher-note\">\n<b>Sample responses:</b> \n    \n- They would probably predict a higher number for a guess from someone in the descending condition and a lower one for someone in ascending condition.\n- Have students make specific numerical predictions. They may suggest numbers such as 500 or 750 for the \"ascending\" group and 2500 or 3000 for the \"descending\" group.\n- Some students may suggest calculating the means. If so, you can teach them `favstats(guess ~ condition, data = anchor_data)` in advance.\n    \n</div>"
    },
    {
      "cell_type": "markdown",
      "id": "ed921f5e",
      "metadata": {},
      "source": "<div class=\"guided-notes\">\n    <h3>4.3 Draw in the condition model predictions on the graph</h3> Draw your prediction lightly; you may want to revise it later.\n</div>"
    },
    {
      "cell_type": "markdown",
      "id": "1072571a",
      "metadata": {},
      "source": "<div class=\"teacher-note\">\n<b>Teacher Note:</b> We want students to notice that if they know what condition someone is in, they would make a different prediction about their guess. Also: Because there are only two levels of <b>condition</b>, there should be only two different predictions.\n</div>"
    },
    {
      "cell_type": "markdown",
      "id": "3d050a0e",
      "metadata": {},
      "source": "<div class=\"guided-notes\">\n    <h3>4.4 Fit the condition model using R</h3>\nOn your guided notes, find the code we used to fit the empty model (<b>guess = mean + other stuff</b>). Try to figure out the code to fit and save the condition model (<b>guess = condition + other stuff</b>).\n</div>"
    },
    {
      "cell_type": "code",
      "execution_count": null,
      "id": "f69799c2",
      "metadata": {
        "nbsimplegrader": {
          "config_key": "code.response",
          "editable": true,
          "label": "Response: Code",
          "respondable": true,
          "response": null,
          "runnable": true,
          "type": "code"
        },
        "trusted": true
      },
      "outputs": [],
      "source": "# sample response\n\n# write code to fit (and save) the condition model\ncondition_model <- lm(guess ~ condition, data = anchor_data)"
    },
    {
      "cell_type": "markdown",
      "id": "3416167a",
      "metadata": {},
      "source": "<div class=\"guided-notes\">\n    <h3>4.5 Add some code to overlay the condition_model on the jitter plot</h3>\n</div>"
    },
    {
      "cell_type": "code",
      "execution_count": null,
      "id": "59b6d60c",
      "metadata": {
        "nbsimplegrader": {
          "config_key": "code.response",
          "editable": true,
          "label": "Response: Code",
          "respondable": true,
          "response": null,
          "runnable": true,
          "type": "code"
        },
        "trusted": true
      },
      "outputs": [],
      "source": "# sample response\n\n# add the model\ngf_jitter(guess ~ condition, data = anchor_data, width = .1) %>%\ngf_model(condition_model)\n"
    },
    {
      "cell_type": "markdown",
      "id": "800c8da0",
      "metadata": {},
      "source": "### 4.6 What is the model prediction for students in the ascending group? In the descending group? Are they close to what you expected?"
    },
    {
      "cell_type": "markdown",
      "id": "7b322bdd",
      "metadata": {},
      "source": "<div class=\"teacher-note\">\n<b>Teacher Note:</b> Have students correct their drawings if necessary. We want students to notice that this model makes two different predictions, whereas the empty model made only one. We also want them to hypothesize that the predictions are the means of the two groups. You can use favstats() in the code cell below to verify whether the predictions are the group means.\n</div>"
    },
    {
      "cell_type": "markdown",
      "id": "89440374",
      "metadata": {},
      "source": "<div class=\"guided-notes\">\n    <h3>4.7 Use the predict() function to generate predictions for the condition model; compare to predictions for the empty model.</h3>\n</div>"
    },
    {
      "cell_type": "code",
      "execution_count": null,
      "id": "976e8906",
      "metadata": {
        "nbsimplegrader": {
          "config_key": "code.response",
          "editable": true,
          "label": "Response: Code",
          "respondable": true,
          "response": null,
          "runnable": true,
          "type": "code"
        },
        "trusted": true
      },
      "outputs": [],
      "source": "# sample response\n\n# code here\npredict(empty_model)\npredict(condition_model)"
    },
    {
      "cell_type": "markdown",
      "id": "a81b4dab",
      "metadata": {
        "cell_id": "00006-7bb97ccc-3bc3-49f5-952d-d54537f80b1e",
        "deepnote_cell_type": "markdown"
      },
      "source": "<div class=\"discussion-question\">\n<b>Key Discussion Question:</b> What do you notice about the predictions of the empty model compared to those of the condition model? What is similar? What is different?\n</div>"
    },
    {
      "cell_type": "markdown",
      "id": "081839d4",
      "metadata": {
        "nbsimplegrader": {
          "config_key": "markdown.response",
          "editable": true,
          "label": "Response: Markdown",
          "respondable": true,
          "response": null,
          "runnable": true,
          "type": "markdown"
        }
      },
      "source": "<div class=\"teacher-note\">\n    \n<b>Sample Responses:</b>\n\n- The empty model makes the same guess (1945, the mean).\n- The condition model makes two different guesses (786 and 3043).\n- Students may wonder why there are so many predictions. There are the same number of predictions from each model as there are students (72). Why? The following questions explore more about what the predict function does. (They might remember from before that the predict function makes a prediction for each row in the data frame.)\n    \n</div>"
    },
    {
      "cell_type": "markdown",
      "id": "dd5d3e07",
      "metadata": {},
      "source": "### 4.8 Use the condition model to generate predictions for each person in the data set, and save their predictions in a new variable (called `condition_predict`)."
    },
    {
      "cell_type": "code",
      "execution_count": null,
      "id": "977aa9e3",
      "metadata": {
        "nbsimplegrader": {
          "config_key": "code.response",
          "editable": true,
          "label": "Response: Code",
          "respondable": true,
          "response": null,
          "runnable": true,
          "type": "code"
        },
        "trusted": true
      },
      "outputs": [],
      "source": "# sample response\n\n# save the condition model predictions in a new variable called condition_predict\nanchor_data$condition_predict <- predict(condition_model)\n# print out the top 6 rows of the updated data frame to verify what you did\nhead(anchor_data)"
    },
    {
      "cell_type": "markdown",
      "id": "6066f185",
      "metadata": {},
      "source": "### 4.9 Does the new variable seem to make sense? Is it what you expected? What do you notice about it?"
    },
    {
      "cell_type": "markdown",
      "id": "80a910dd",
      "metadata": {
        "nbsimplegrader": {
          "config_key": "markdown.response",
          "editable": true,
          "label": "Response: Markdown",
          "respondable": true,
          "response": null,
          "runnable": true,
          "type": "markdown"
        }
      },
      "source": "<div class=\"teacher-note\">\n    \n<b>Sample Responses:</b>\n\n- This is what the `predict()` function does. \n- Ask students: How does the predict function know when to predict 786 and when to predict 3042? (Answer: By looking at which condition they were in. Remember, this is the **guess = condition + other stuff** model.)\n    \n</div>"
    },
    {
      "cell_type": "markdown",
      "id": "3e930678",
      "metadata": {},
      "source": "## 5. Understanding the parameter estimates\nWe have referred to the empty model as a one-parameter model. The reason is that we use the data to estimate one parameter, $b_0$, which is the mean of the distribution of the outcome variable. \n\nAs we have seen, the `condition_model` generates two different predictions, one for each group. To do this it will need to use two parameters ($b_0$ and $b_1$). Let's see how they work."
    },
    {
      "cell_type": "markdown",
      "id": "523f0b63",
      "metadata": {},
      "source": "### 5.1 Print out the model estimates for the condition model\nWhich of these estimates do you think is $b_0$? Which is $b_1$?"
    },
    {
      "cell_type": "code",
      "execution_count": null,
      "id": "a0fbed10",
      "metadata": {
        "nbsimplegrader": {
          "config_key": "code.response",
          "editable": true,
          "label": "Response: Code",
          "respondable": true,
          "response": null,
          "runnable": true,
          "type": "code"
        },
        "scrolled": false,
        "trusted": true
      },
      "outputs": [],
      "source": "# sample response\n\n# print out parameter estimates for the condition model\ncondition_model"
    },
    {
      "cell_type": "markdown",
      "id": "979c78e0",
      "metadata": {},
      "source": "<div class=\"guided-notes\">\n    <h3>5.2 Label the parameter estimates in the output with the appropriate GLM notation</h3> Label the parameter estimates for the condition model as either $b_0$ or $b_1$.</div>"
    },
    {
      "cell_type": "markdown",
      "id": "b039abe3",
      "metadata": {
        "cell_id": "00006-7bb97ccc-3bc3-49f5-952d-d54537f80b1e",
        "deepnote_cell_type": "markdown"
      },
      "source": "<div class=\"discussion-question\">\n<b>Key Discussion Question:</b> Are these the estimates you expected? Are they the same as the two model predictions? \n</div>"
    },
    {
      "cell_type": "markdown",
      "id": "94a5e89c",
      "metadata": {},
      "source": "<div class=\"teacher-note\">\n\n<b>Sample Responses:</b>\n    \n- The 786 is the prediction for the ascending condition. Also the mean of that condition.\n- Some students will (incorrectly) say that 2256 is the mean of the descending condition. But point out the mean of the descending condition (and the model's prediction for the descending condition) was 3043.\n    \n<b>Teacher Note:</b> Make sure students notice that 3043 is <i>not</i> one of the model predictions.\n</div>"
    },
    {
      "cell_type": "markdown",
      "id": "32d498f6",
      "metadata": {},
      "source": "<div class=\"guided-notes\">\n    <h3>5.3 Label $b_0$ and $b_1$ in the graph </h3>\nSee if you can figure out what each parameter estimate represents.</div>"
    },
    {
      "cell_type": "code",
      "execution_count": null,
      "id": "fa02ef12",
      "metadata": {
        "trusted": true
      },
      "outputs": [],
      "source": "# just run this code and look at the graph\nb0 <- b0(condition_model)\nb1 <- b1(condition_model)\n\ngf_jitter(guess ~ condition, data = anchor_data, width = .1) %>%\n  gf_model(condition_model, color = \"black\") +\n  # drawing a line segment\n  annotate(\"segment\", x = 1.5, y = b0, xend = 1.5, yend = (b0+b1), color = \"black\",\n    arrow = arrow(ends = \"both\", angle = 90, length = unit(.2,\"cm\")))  + \n  # putting guidelines onto plot\n  scale_y_continuous(breaks=seq(0,10000,1000)) "
    },
    {
      "cell_type": "markdown",
      "id": "3d72d2d4",
      "metadata": {},
      "source": "<div class=\"guided-notes\">\n<h3>5.4 Write a set of instructions (just in words) for how  to use the parameter estimates ($b_0$ and $b_1$) to generate the  predictions of the condition model</h3>\nRemember, your instructions must generate different predictions for someone in the ascending condition and someone in the descending condition.\n</div>"
    },
    {
      "cell_type": "markdown",
      "id": "d2927673",
      "metadata": {
        "nbsimplegrader": {
          "config_key": "markdown.response",
          "editable": true,
          "label": "Response: Markdown",
          "respondable": true,
          "response": null,
          "runnable": true,
          "type": "markdown"
        }
      },
      "source": "<div class=\"teacher-note\">\n    \n<b>Teacher Note:</b> \n\n- You might ask students to discuss with a partner, then share with the class. In the end, you want to converge on one idea that you can write here and students can write in the guided notes. \n- We suggest something like: \"If someone is in the ascending condition predict $b_0$. If someone is in the descending condition, predict $b_0+b_1$.\"\n</div>"
    },
    {
      "cell_type": "markdown",
      "id": "58aaaa5e",
      "metadata": {},
      "source": "## 6. Writing the Group Model with GLM Notation\nWe've learned how to write the empty model in GLM notation: \n$$Y_i=b_0+e_i$$\n\nFollowing the **DATA = MODEL + ERROR** idea, the model part is $b_0$, which is the prediction we give for every observation in the empty model. If we just want to represent the function that generates the  prediction, we can use this notation:\n\n$$\\text{MODEL prediction}=b_0$$\n\nHow do we write a model that generates a different prediction depending on condition? To do this we need a variable, which we will call $X_i$. Here's the GLM notation for the group model:\n\n$$\\text{MODEL prediction}=b_0+b_1X_i$$"
    },
    {
      "cell_type": "markdown",
      "id": "0c470376",
      "metadata": {},
      "source": "<div class=\"guided-notes\">\n    <h3>6.1 Write two versions of the condition model in GLM notation, one filling in the actual parameter estimates</div>"
    },
    {
      "cell_type": "markdown",
      "id": "c324c7ee",
      "metadata": {
        "nbsimplegrader": {
          "config_key": "markdown.response",
          "editable": true,
          "label": "Response: Markdown",
          "respondable": true,
          "response": null,
          "runnable": true,
          "type": "markdown"
        }
      },
      "source": "<div class=\"teacher-note\">\n<b>Sample Responses:</b> \n    \n- $b_0+b_1X_i$ \n\n- $786.1+2256.9X_i$\n</div>"
    },
    {
      "cell_type": "markdown",
      "id": "3c99acc9",
      "metadata": {},
      "source": "<div class=\"guided-notes\">\n    <h3>6.2: What would this model predict using the parameter estimates ($b_0$ and $b_1$) if $X_i=0$? What about if $X_i=1$? </div>"
    },
    {
      "cell_type": "markdown",
      "id": "b73cc0bd",
      "metadata": {},
      "source": "<div class=\"teacher-note\">\n<b>Sample Responses:</b> \n\n- $786.1+2256.9(0) = 786.1$\n- $786.1+2256.9(1) = 3043$\n</div>"
    },
    {
      "cell_type": "markdown",
      "id": "665380d6",
      "metadata": {
        "cell_id": "00006-7bb97ccc-3bc3-49f5-952d-d54537f80b1e",
        "deepnote_cell_type": "markdown"
      },
      "source": "<div class=\"discussion-question\">\n<b>Key Discussion Questions:</b> The $b_0$ and $b_1$ are parameter estimates; the $X_i$ represents the explanatory variable. (You can tell it is a variable because it has a sub-i.) What does it mean about a person if their value for $X_i=0$? What about if $X_i=1$\n</div>"
    },
    {
      "cell_type": "markdown",
      "id": "8cfd465d",
      "metadata": {},
      "source": "<div class=\"teacher-note\">\n<b>Sample Responses:</b> \n\n- When X was 0, it led to the ascending group prediction (786). So we can assume X=0 means ascending.\n- When X was 1, it led to the descending group prediction (3043). So we can assume X=1 means descending.\n     \n</div>"
    },
    {
      "cell_type": "code",
      "execution_count": null,
      "id": "7c57d5a4",
      "metadata": {
        "trusted": true
      },
      "outputs": [],
      "source": "# run this cell\ncondition_model"
    },
    {
      "cell_type": "markdown",
      "id": "8fb1150d",
      "metadata": {
        "cell_id": "00006-7bb97ccc-3bc3-49f5-952d-d54537f80b1e",
        "deepnote_cell_type": "markdown"
      },
      "source": "<div class=\"discussion-question\">\n<b>Key Discussion Questions:</b> \n    \nLook again at the parameter estimates for the condition model. \n- Where do you see $b_0$? $b_1$? Where do you see $X_i$? \n- Why do you think one of the parameter estimates is labeled <b>conditiondescending</b>?\n</div>"
    },
    {
      "cell_type": "markdown",
      "id": "0fa01ed0",
      "metadata": {},
      "source": "<div class=\"teacher-note\">\n<b>Sample Responses:</b> \n\n- Notice that `conditiondescending` is what it says over $b_1$. Another way to think about $X_i$ is $\\text{conditiondescending}_i$. When conditiondescending = 1, it means \"descending\". When conditiondescending = 0, it means \"not descending\" (or ascending).\n     \n</div>"
    },
    {
      "cell_type": "markdown",
      "id": "8971dfd9",
      "metadata": {},
      "source": "<div class=\"guided-notes\">\n    <h3>6.3: Put it all together! Label the plot on the guided notes. </div>"
    },
    {
      "cell_type": "code",
      "execution_count": null,
      "id": "61bd34f6",
      "metadata": {
        "trusted": true
      },
      "outputs": [],
      "source": "# just run this code and look at the graph\nb0 <- b0(condition_model)\nb1 <- b1(condition_model)\n\ngf_jitter(guess ~ condition, data = anchor_data, width = .1) %>%\n  gf_model(condition_model, color = \"black\") +\n  # drawing a line segment\n  annotate(\"segment\", x = 1.5, y = b0, xend = 1.5, yend = (b0+b1), color = \"black\",\n    arrow = arrow(ends = \"both\", angle = 90, length = unit(.2,\"cm\")))  + \n  # putting guidelines onto plot\n  scale_y_continuous(breaks=seq(0,10000,1000)) "
    },
    {
      "cell_type": "markdown",
      "id": "b9790604",
      "metadata": {},
      "source": "<div class=\"guided-notes\">\n    <h3>6.4: Draw the empty model on the same graph. </h3>\n</div>"
    },
    {
      "cell_type": "markdown",
      "id": "3cf50c71",
      "metadata": {
        "cell_id": "00006-7bb97ccc-3bc3-49f5-952d-d54537f80b1e",
        "deepnote_cell_type": "markdown"
      },
      "source": "<div class=\"discussion-question\">\n<b>Key Discussion Questions:</b> In what sense are the empty model and the condition model both models? Connect to <b>DATA = MODEL + ERROR</b>.\n</div>"
    },
    {
      "cell_type": "markdown",
      "id": "19da9f19",
      "metadata": {},
      "source": "<div class=\"teacher-note\">\n<b>Sample Responses:</b> \n\n- are both functions that make a prediction for each observation (though while the empty model makes only one unique prediction, the two-group model makes two) \n- both models make use of the mean (e.g., the \"grand\" mean is used by the empty model; the condition model uses the means of each group)\n- can be fit (parameters estimated) using the lm() function in R\n- can be depicted onto a plot using gf_model()\n- can be used to generate predictions using the predict() function in R\n- can be represented in GLM notation\n   \n</div>"
    }
  ],
  "metadata": {
    "kernelspec": {
      "display_name": "R",
      "language": "R",
      "name": "ir"
    },
    "language_info": {
      "codemirror_mode": "r",
      "file_extension": ".r",
      "mimetype": "text/x-r-source",
      "name": "R",
      "pygments_lexer": "r",
      "version": "4.3.3"
    },
    "nbsimplegrader": {
      "publish_config": {
        "classes": [],
        "options": {},
        "tools": []
      }
    }
  },
  "nbformat": 4,
  "nbformat_minor": 5
}