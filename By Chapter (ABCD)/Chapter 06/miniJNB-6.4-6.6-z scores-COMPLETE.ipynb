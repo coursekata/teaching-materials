{
  "cells": [
    {
      "cell_type": "markdown",
      "metadata": {
        "cell_id": "ac933972-2116-4eb2-add6-27266b1063a8"
      },
      "source": "# Timing the Miss: Z-Scores and the Shape of Errors (COMPLETE)\n\n## Chapter 6.4 - 6.6"
    },
    {
      "cell_type": "code",
      "execution_count": null,
      "metadata": {
        "cell_id": "86968422-31d9-4355-977e-8ab4799e937d",
        "trusted": true
      },
      "outputs": [],
      "source": "# This code will load the R packages we will use\nlibrary(coursekata)\n\n# set styles\ncss <- suppressWarnings(readLines(\"https://raw.githubusercontent.com/jimstigler/jupyter/master/ck_jupyter_styles_v2.css\"))\nIRdisplay::display_html(sprintf('<style>%s</style>', paste(css, collapse = \"\\n\")))"
    },
    {
      "cell_type": "markdown",
      "metadata": {},
      "source": "<div class=\"teacher-note\">\n    <b>Teacher Note:</b> The purpose of this mini-JNB is to help students understand and calculate z-scores, interpret standardized values, and explore the shape of error distributions through simulation and visualization.\n</div>"
    },
    {
      "cell_type": "markdown",
      "metadata": {
        "cell_id": "1373d2ec-6ddf-4692-a848-171dc40ee40e"
      },
      "source": "## Problem #1:\n\nCreate a data frame for the class data and call it `stopwatch`."
    },
    {
      "cell_type": "code",
      "execution_count": null,
      "metadata": {
        "trusted": true
      },
      "outputs": [],
      "source": "#code here\nID <- c(\"enter students' ID separated by commas here\")\ntime <- c(\"enter students' times separated by commas here\")\n\nstopwatch <- data.frame(ID, time)\n\n#sample code\nID <- 1:30\ntime <- c(\n  4.84, 5.15, 5.04, 4.77, 4.91, 5.25, 4.64, 4.94, 5.19, 4.87,\n  4.90, 4.99, 5.22, 4.90, 4.93, 4.93, 5.33, 5.33, 5.15, 5.06,\n  5.11, 5.22, 4.86, 5.18, 4.81, 4.90, 5.14, 4.79, 4.98, 4.87\n)\n\nstopwatch <- data.frame(ID, time)"
    },
    {
      "cell_type": "markdown",
      "metadata": {
        "cell_id": "a597e788-306f-47e6-a2e4-a3a17bd968de"
      },
      "source": "## Problem #2:\n\nCalculate the mean and standard deviation of `time`."
    },
    {
      "cell_type": "code",
      "execution_count": null,
      "metadata": {
        "trusted": true
      },
      "outputs": [],
      "source": "#write code here\n\n\n#sample code\n\nfavstats(time, data = stopwatch)"
    },
    {
      "cell_type": "markdown",
      "metadata": {},
      "source": "## Problem #3:\n\nCalculate and interpret your own z-score."
    },
    {
      "cell_type": "code",
      "execution_count": null,
      "metadata": {
        "trusted": true
      },
      "outputs": [],
      "source": "#write code here\n\n#sample code with time 5.04\nmy_zscore <- (5.04-5.01)/0.18\nmy_zscore"
    },
    {
      "cell_type": "markdown",
      "metadata": {},
      "source": "<div class=\"teacher-note\">\n\n<b>Sample Response</b>: My z-score is 0.17, which means my time was 0.17 standard deviations above the class average. I was a little slower than the average, but pretty close.\n</div>"
    },
    {
      "cell_type": "markdown",
      "metadata": {},
      "source": "## Problem #4:\n\nCalculate the z-scores for each student and save it in the data frame `stopwatch`. "
    },
    {
      "cell_type": "code",
      "execution_count": null,
      "metadata": {
        "trusted": true
      },
      "outputs": [],
      "source": "#complete the code\nstopwatch$zscores <- ( - mean())/sd()\n\n#sample code\nstopwatch$zscores <- (stopwatch$time - mean(stopwatch$time))/sd(stopwatch$time)\nhead(stopwatch)"
    },
    {
      "cell_type": "markdown",
      "metadata": {},
      "source": "## Another Class' Data"
    },
    {
      "cell_type": "markdown",
      "metadata": {},
      "source": "## Problem #5:\n\nLoad the other class's data in R.  Calculate that class's mean and standard deviation. Then compare your z-score to a student in the other class who got a time of 4.73 seconds."
    },
    {
      "cell_type": "code",
      "execution_count": null,
      "metadata": {
        "trusted": true
      },
      "outputs": [],
      "source": "#load the data for another class\n\nID <- 1:87\ntime <- c(\n  4.95, 4.96, 4.97, 4.95, 5.03, 4.92, 4.98, 4.9, 5.01, 4.95,\n  4.99, 5.00, 5.28, 4.51, 4.74, 5.09, 4.81, 4.90, 5.12, 5.09,\n  5.35, 5.12, 5.27, 5.08, 4.98, 5.10, 5.05, 4.57, 5.00, 5.08,\n  5.00, 4.86, 5.01, 4.91, 4.93, 4.95, 4.83, 4.85, 5.08, 5.21,\n  5.02, 5.02, 4.73, 4.85, 4.87, 5.04, 5.00, 5.05, 5.00, 5.10,\n  4.94, 4.83, 5.15, 4.95, 5.25, 4.86, 5.07, 4.96, 4.80, 5.00,\n  5.02, 4.82, 5.00, 5.07, 4.99, 4.75, 4.86, 5.02, 4.99, 4.84,\n  4.61, 5.04, 4.80, 5.00, 5.09, 5.32, 4.94, 4.84, 4.91, 5.30,\n  4.98, 5.35, 5.00, 4.93, 5.30, 4.96, 4.53\n)\n\nstopwatch2 <- data.frame(ID, time)\nfavstats(time, data = stopwatch2)"
    },
    {
      "cell_type": "markdown",
      "metadata": {},
      "source": "## Problem #6:\n\nTake a look at the distribution of `time` for the other class and compare it to their residuals of time.  What do you notice about the shapes of each distribution?  Why does this make sense?"
    },
    {
      "cell_type": "code",
      "execution_count": null,
      "metadata": {
        "trusted": true
      },
      "outputs": [],
      "source": "#complete the code to calculate and save the residuals\n\nempty_model2 <- lm(time ~ NULL, data = stopwatch2)\nstopwatch2$residuals <-\n\n#create 2 histograms for both time and residuals\n\n\n#sample code\n\nempty_model2 <- lm(time ~ NULL, data = stopwatch2)\nstopwatch2$residuals <- resid(empty_model2)\ngf_histogram(~time, data = stopwatch2)\ngf_histogram(~residuals, data = stopwatch2) %>%\ngf_vline(xintercept=~0.2, color = \"blue\")"
    },
    {
      "cell_type": "markdown",
      "metadata": {},
      "source": "<div class=\"teacher-note\">\n\n<b>Sample Response</b>: They have the same shape.  The only thing different is the x-axis.\n</div>"
    },
    {
      "cell_type": "markdown",
      "metadata": {},
      "source": "## Problem #7:\n\nWhat’s the probability that a student takes 0.2 seconds longer to stop the time at 5 seconds than the class mean?"
    },
    {
      "cell_type": "code",
      "execution_count": null,
      "metadata": {
        "trusted": true
      },
      "outputs": [],
      "source": "#use tally to count all the residuals greater than 0.2\n\n\n#sample code\ntally(stopwatch2$residuals > 0.2)/87"
    },
    {
      "cell_type": "markdown",
      "metadata": {},
      "source": "## Problem #8:\n\nCreate a sample of 1000 stop times using the `stopwatch2` data frame and view the distribution in a histogram.  What do you notice about the shape?"
    },
    {
      "cell_type": "code",
      "execution_count": null,
      "metadata": {
        "trusted": true
      },
      "outputs": [],
      "source": "#code here\n\nsample <- resample(stopwatch2$time, )\nsample_df <- data.frame(time = sample)\ngf_histogram()\n\n#the code below simulates 1000 stop times \nsample <- resample(stopwatch2$time, 1000)\n\n#the code saves the sample as a data frame\nsample_df <- data.frame(time = sample)\n\n#view the density histogram of sample\ngf_dhistogram(~time, sample)"
    },
    {
      "cell_type": "markdown",
      "metadata": {},
      "source": "<div class=\"teacher-note\">\n\n<b>Sample Response</b>: The density histogram of 1000 sample times looks the same as the original `stopwatch2` distribution of `time`.\n</div>"
    }
  ],
  "metadata": {
    "deepnote_execution_queue": [],
    "deepnote_notebook_id": "2b51a89a-e42e-4675-9260-1000d5b5ae22",
    "kernelspec": {
      "display_name": "R",
      "language": "R",
      "name": "ir"
    },
    "language_info": {
      "codemirror_mode": "r",
      "file_extension": ".r",
      "mimetype": "text/x-r-source",
      "name": "R",
      "pygments_lexer": "r",
      "version": "4.3.3"
    },
    "nbsimplegrader": {
      "publish_config": {
        "classes": [],
        "options": {},
        "tools": []
      }
    }
  },
  "nbformat": 4,
  "nbformat_minor": 2
}