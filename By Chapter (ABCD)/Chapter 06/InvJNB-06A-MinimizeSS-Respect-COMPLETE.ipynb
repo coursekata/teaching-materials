{
  "cells": [
    {
      "cell_type": "markdown",
      "metadata": {
        "cell_id": "5ed80d5382cc4b7d9420511570f3ee5c",
        "deepnote_cell_type": "markdown",
        "output_cleared": false,
        "tags": []
      },
      "source": "<div class=\"alert alert-block alert-danger\">\n\n# 6A: Respect: Does it make a difference? (Complete)\n\n**Lesson assumes students have read up through page: 6.2**\n\n**Use with textbook version 6.0+**\n</div>"
    },
    {
      "cell_type": "markdown",
      "metadata": {
        "cell_id": "499fa211406a484cb444726d86dac01e",
        "deepnote_cell_height": 163.9375,
        "deepnote_cell_type": "markdown",
        "output_cleared": false,
        "tags": []
      },
      "source": "<div class=\"alert alert-block alert-success\">\n\n## Approximate time to complete Notebook: 50-70 Mins\n\n\n</div>"
    },
    {
      "cell_type": "code",
      "execution_count": null,
      "metadata": {
        "cell_id": "8265282336a549d39a01e46f00027b19",
        "deepnote_cell_type": "code",
        "execution_millis": 1676,
        "execution_start": 1607548934615,
        "output_cleared": true,
        "source_hash": null,
        "tags": [],
        "trusted": true
      },
      "outputs": [],
      "source": "# This code will load the R packages we will use\nsuppressPackageStartupMessages({\n    library(coursekata)\n})"
    },
    {
      "cell_type": "markdown",
      "metadata": {
        "cell_id": "f21d5c8a11694de194379b8cff674d38",
        "deepnote_cell_height": 115.9375,
        "deepnote_cell_type": "markdown",
        "output_cleared": false,
        "tags": []
      },
      "source": "<div class=\"alert alert-block alert-success\">\n\n### 1.0 - Approximate Time: 5-8 mins\n\n</div>"
    },
    {
      "cell_type": "markdown",
      "metadata": {
        "cell_id": "2b2fdcb5cddd4c93bef95c11a5384ac6",
        "deepnote_cell_height": 69.96875,
        "deepnote_cell_type": "markdown",
        "output_cleared": false,
        "tags": []
      },
      "source": "## 1.0 - The Research Question"
    },
    {
      "cell_type": "markdown",
      "metadata": {
        "cell_id": "7a27ecd89d1244c89625fe294c437f10",
        "deepnote_cell_height": 178.328125,
        "deepnote_cell_type": "markdown",
        "output_cleared": false,
        "tags": []
      },
      "source": "Do you think you would be more likely to do something if the person asking was being respectful, even if the thing they are asking you to do is unpleasant?\n\nThat’s what some researchers (Yeager, Hirschi, and Josephs) wanted to know. They had a hypothesis: Respectful instructions will make people (especially adolescents) more likely to follow the medical advice of their doctor. What do you think about this hypothesis? How would we write this idea as a word equation?"
    },
    {
      "cell_type": "markdown",
      "metadata": {
        "cell_id": "182a53ea8c8f4ce493a3295bb5422e46",
        "deepnote_cell_height": 140.71875,
        "deepnote_cell_type": "markdown",
        "output_cleared": false,
        "tags": []
      },
      "source": "<div class=\"alert alert-block alert-warning\">\n\n**Sample Response**\n\nFollowing medical advice = Respect + Other Stuff\n\n</div>"
    },
    {
      "cell_type": "markdown",
      "metadata": {
        "cell_id": "e61a88d40cdf4e33a78a8eddfdc587e0",
        "deepnote_cell_height": 69.96875,
        "deepnote_cell_type": "markdown",
        "output_cleared": false,
        "tags": []
      },
      "source": "## The Study"
    },
    {
      "cell_type": "markdown",
      "metadata": {
        "cell_id": "389efbd1f3c44a728416765af641baa1",
        "deepnote_cell_height": 527.109375,
        "deepnote_cell_type": "markdown",
        "output_cleared": false,
        "tags": []
      },
      "source": "<img src=\"https://coursekata-course-assets.s3.us-west-1.amazonaws.com/UCLATALL/czi-stats-course/jnb_4XXsLVVs-6-A-Vegemite-Tasting.png\" title=\"Vegemite, students find it gross\"/>"
    },
    {
      "cell_type": "markdown",
      "metadata": {
        "cell_id": "85db7416cf734bfb97480075bf166a05",
        "deepnote_cell_height": 549.625,
        "deepnote_cell_type": "markdown",
        "output_cleared": false,
        "tags": []
      },
      "source": "<img src=\"https://coursekata-course-assets.s3.us-west-1.amazonaws.com/UCLATALL/czi-stats-course/jnb_8NHqC3fg-6-A-Study-Sequence.png\" title=\"study procedure, taste first, then instruction video, then students could decide how much medicine to eat\"/>"
    },
    {
      "cell_type": "markdown",
      "metadata": {
        "cell_id": "bd25a73608da4b85a2527ad52507b17c",
        "deepnote_cell_height": 535.234375,
        "deepnote_cell_type": "markdown",
        "output_cleared": false,
        "tags": []
      },
      "source": "<img src=\"https://coursekata-course-assets.s3.us-west-1.amazonaws.com/UCLATALL/czi-stats-course/jnb_9VvG7FTG-6-A-Condition-Instructions.png\" title=\"Respect versus No Respect Video Scripts\" />"
    },
    {
      "cell_type": "markdown",
      "metadata": {
        "cell_id": "8b562b6f6dd74146a0b5bfcf83e85e40",
        "deepnote_cell_height": 115.9375,
        "deepnote_cell_type": "markdown",
        "output_cleared": false,
        "tags": []
      },
      "source": "<div class=\"alert alert-block alert-success\">\n\n### 2.0 - Approximate Time: 5-8 mins\n\n</div>"
    },
    {
      "cell_type": "markdown",
      "metadata": {
        "cell_id": "5905537a390f4d309feab4546354cf4a",
        "deepnote_cell_height": 69.96875,
        "deepnote_cell_type": "markdown",
        "output_cleared": false,
        "tags": []
      },
      "source": "## 2.0 - The Data"
    },
    {
      "cell_type": "markdown",
      "metadata": {
        "cell_id": "9c6fc57534594a0da4f5d52671f9f880",
        "deepnote_cell_height": 97.140625,
        "deepnote_cell_type": "markdown",
        "output_cleared": false,
        "tags": []
      },
      "source": "For other reasons, the researchers also had access to some other information about these participants (e.g., their baseline testosterone from a saliva sample, survey responses to narcissism, openness, etc.). "
    },
    {
      "cell_type": "code",
      "execution_count": null,
      "metadata": {
        "cell_id": "5ed0ba6f37d14039bb759635fe4c41c6",
        "deepnote_cell_type": "code",
        "execution_millis": 1435,
        "execution_start": 1607548936326,
        "output_cleared": true,
        "source_hash": null,
        "tags": [],
        "trusted": true
      },
      "outputs": [],
      "source": "# We have loaded the csv link into an object called linktocsv\n# Use that object to write some code to get this data into a data frame called respect_study\nlinktocsv <- \"https://docs.google.com/spreadsheets/d/e/2PACX-1vShHDu7P5XnUWo_xBtB67I00R-TTCyB73GyILmjlMq3LGM-kHFg-rIBQwB4upLOU7mTXG6fg8QxTLhB/pub?gid=191363782&single=true&output=csv\"\n\nrespect_study <- read.csv(linktocsv, head = TRUE)\n\n# Run some code to check out the data. What are the cases?\nhead(respect_study)\n\n# Note: the cases are the participants"
    },
    {
      "cell_type": "markdown",
      "metadata": {
        "cell_id": "fac1cdb8652240628c78f2e2b8e179a1",
        "deepnote_cell_height": 683.734375,
        "deepnote_cell_type": "markdown",
        "output_cleared": false,
        "tags": []
      },
      "source": "Here are the variables in the data frame `respect_study`:\n- `subject` ID for the participant.\n- `respect_condition` Whether the participant watched the \"Respect\" or \"No Respect\" video\n- `testosterone` The measure of the testosterone via the saliva sample\n- `spoon1_before` The mass (grams) of the Vegemite in the 1st spoon before it was given.\n- `spoon1_after` The mass (grams) of the Vegemite in the 1st spoon after it was given.\n- `spoon2_before` The mass (grams) of the Vegemite in the 2nd spoon before it was given.\n- `spoon2_after` The mass (grams) of the Vegemite in the 2nd spoon after it was given.\n- `ravens_correct` Number of items answered correctly in a Standardized Progressive Matrix\n- `openness` Score from the Big Five personality test (OCEAN), 1 (low) - 7 (high)\n- `conscientious` Score from the Big Five personality test (OCEAN), 1 (low) - 7 (high)\n- `extraversion` Score from the Big Five personality test (OCEAN), 1 (low) - 7 (high)\n- `agreeable` Score from the Big Five personality test (OCEAN), 1 (low) - 7 (high)\n- `narcissism` Score from the Big Five personality test (OCEAN), 1 (low) - 7 (high)\n- `emotion_stability` Average score from questions regarding emotional stability, 1 (low) - 7 (high)\n- `reactance` Average score from questions regarding reactance, 1 (low) - 7 (high)\n- `subjective_power` Average score from questions regarding subjective power, 1 (low) - 7 (high)\n- `aggressive_right_now` “How aggressive are you feeling right now?”, 1 (low) - 7 (high)\n- `sex_drive_right_now` “How high is your sex drive right now?”, 1 (low) - 7 (high)\n- `campus_greek` Are you in a fraternity or sorority?\n- `status` Average score from questions regarding personal status, 1 (low) - 7 (high)\n- `competent` Average score from questions regarding self-competence, 1 (low) - 7 (high)\n- `autonomous` Average score from questions regarding autonomy, 1 (low) - 7 (high)\n- `respectful` Measure of how respectful they felt the researcher was, 1 (low) - 7 (high)"
    },
    {
      "cell_type": "markdown",
      "metadata": {
        "cell_id": "3702612d840245228e3505661772cade",
        "deepnote_cell_height": 97.140625,
        "deepnote_cell_type": "markdown",
        "output_cleared": false,
        "tags": []
      },
      "source": "2.1 - Identify the variables that are most relevant to the respect hypothesis. What would be the outcome variable? Is there something like \"amount of Vegemite eaten after watching the video\" in this list of variables? How could we create such a variable in our data frame?"
    },
    {
      "cell_type": "markdown",
      "metadata": {
        "cell_id": "2c5f211dbb6e45b196c285f17ff5e646",
        "deepnote_cell_height": 224.90625,
        "deepnote_cell_type": "markdown",
        "output_cleared": false,
        "tags": []
      },
      "source": "<div class=\"alert alert-block alert-warning\">\n\n**Sample Response**\n\n- Relevant outcome variables: `spoon2_before` and `spoon2_after`\n- No, there is not a variable that will tell us the amount eaten, however, we can create such a variable \nby subtracting `spoon2_after` from `spoon2_before` (and saving it back into the data frame).\n\n</div>"
    },
    {
      "cell_type": "code",
      "execution_count": null,
      "metadata": {
        "cell_id": "6891c6d1d2304e3d9c6fc394e81f3f86",
        "deepnote_cell_type": "code",
        "execution_millis": 21,
        "execution_start": 1607548937771,
        "output_cleared": true,
        "source_hash": null,
        "tags": [],
        "trusted": true
      },
      "outputs": [],
      "source": "# Create a new variable that will tell us the amount eaten after the video\nrespect_study$veg_eaten <- respect_study$spoon2_before - respect_study$spoon2_after\n\n# Check that your code worked\nhead(respect_study)"
    },
    {
      "cell_type": "markdown",
      "metadata": {
        "cell_id": "6f3a39c352cc473da856cbc28ceedb27",
        "deepnote_cell_height": 97.140625,
        "deepnote_cell_type": "markdown",
        "tags": []
      },
      "source": "2.2 - Which is the explanatory variable? Should we use `respect_condition` or `respectful` to explore the \nresearchers' hypothesis? Why?"
    },
    {
      "cell_type": "markdown",
      "metadata": {
        "cell_id": "3cce07f617c54739800f66b613873f03",
        "deepnote_cell_height": 199.515625,
        "deepnote_cell_type": "markdown",
        "output_cleared": false,
        "tags": []
      },
      "source": "<div class=\"alert alert-block alert-warning\">\n\n**Sample Response**\n\n- Relevant explanatory variable: `respect_condition` \n> Some students may also mention the variable `respectful` as a possible EV (however, `respect_condition` is the actual experimental variable)\n\n</div>"
    },
    {
      "cell_type": "markdown",
      "metadata": {
        "cell_id": "26aa516aa2594ef7b49abb24e6d151df",
        "deepnote_cell_height": 115.9375,
        "deepnote_cell_type": "markdown",
        "output_cleared": false,
        "tags": []
      },
      "source": "<div class=\"alert alert-block alert-success\">\n\n### 3.0 - Approximate Time: 10-12 mins\n\n</div>"
    },
    {
      "cell_type": "markdown",
      "metadata": {
        "cell_id": "870613de71d94a009433bbe0fd4384e3",
        "deepnote_cell_height": 69.96875,
        "deepnote_cell_type": "markdown",
        "output_cleared": false,
        "tags": []
      },
      "source": "## 3.0 - Exploring Variation"
    },
    {
      "cell_type": "markdown",
      "metadata": {
        "cell_id": "7494fe5ae68a46ef8a17e2aac282a949",
        "deepnote_cell_height": 52.359375,
        "deepnote_cell_type": "markdown",
        "output_cleared": false,
        "tags": []
      },
      "source": "3.1 - Explore the variation in the outcome variable using a plot or graph."
    },
    {
      "cell_type": "code",
      "execution_count": null,
      "metadata": {
        "cell_id": "80e423b7dfe34553835a23df0026e4c6",
        "deepnote_cell_height": 83.953125,
        "deepnote_cell_type": "code",
        "output_cleared": true,
        "tags": [],
        "trusted": true
      },
      "outputs": [],
      "source": "# Explore the outcome variable with a histogram\ngf_histogram(~veg_eaten, data = respect_study, fill = \"lightgreen\", color = \"midnightblue\")"
    },
    {
      "cell_type": "markdown",
      "metadata": {
        "cell_id": "f96ada65ec0f48778cf2b956dcce94cf",
        "deepnote_cell_height": 52.359375,
        "deepnote_cell_type": "markdown",
        "tags": []
      },
      "source": "3.2 - Also make some visualizations to explore the respect hypothesis."
    },
    {
      "cell_type": "code",
      "execution_count": null,
      "metadata": {
        "cell_id": "4b101d46d9634e94a94455a67d62ea0f",
        "deepnote_cell_type": "code",
        "execution_millis": 828,
        "execution_start": 1607548937797,
        "output_cleared": true,
        "source_hash": null,
        "tags": [],
        "trusted": true
      },
      "outputs": [],
      "source": "# Explore the respect hypothesis with a faceted histogram\ngf_histogram(~veg_eaten, data = respect_study, fill = \"lightgreen\", color = \"midnightblue\")%>%\n    gf_facet_grid(respect_condition ~ .)\n\n# Explore the respect hypothesis with a jitter plot\ngf_jitter(veg_eaten ~ respect_condition, data = respect_study, color = \"darkturquoise\")\n\n# Explore the respect hypothesis with boxplots\ngf_boxplot(veg_eaten ~ respect_condition, data = respect_study, fill = \"papayawhip\" , color = \"darkmagenta\")"
    },
    {
      "cell_type": "markdown",
      "metadata": {
        "cell_id": "7bd0e3cab02243259cf9cc335e012634",
        "deepnote_cell_height": 52.359375,
        "deepnote_cell_type": "markdown",
        "output_cleared": false,
        "tags": []
      },
      "source": "3.3 - What does a value of zero mean on this outcome variable? What does a high value mean? "
    },
    {
      "cell_type": "markdown",
      "metadata": {
        "cell_id": "86978133ddef4312a1f4d776d6bcbed9",
        "deepnote_cell_height": 166.109375,
        "deepnote_cell_type": "markdown",
        "output_cleared": false,
        "tags": []
      },
      "source": "<div class=\"alert alert-block alert-warning\">\n\n**Sample Responses**\n\n- 0 means they did not eat any Vegemite. \n- High value means they ate a lot of the Vegemite.\n\n</div>"
    },
    {
      "cell_type": "markdown",
      "metadata": {
        "cell_id": "f4e980222bf44958adda1de97a9660f4",
        "deepnote_cell_height": 74.75,
        "deepnote_cell_type": "markdown",
        "output_cleared": false,
        "tags": []
      },
      "source": "3.4 - Did respect make a difference in how much Vegemite the participants ate after watching \nthe video? Make an argument for EACH side (strictly based on what you see in the data)."
    },
    {
      "cell_type": "markdown",
      "metadata": {
        "cell_id": "fc06d8af7da54c0999b144925c2f668b",
        "deepnote_cell_height": 300.6875,
        "deepnote_cell_type": "markdown",
        "tags": []
      },
      "source": "<div class=\"alert alert-block alert-warning\">\n\n**Sample Response**\n\n\nPRO: Respect made a difference\n- More people that ate a lot of Vegemite in respect condition compared to no respect.\n- Fewer people who ate 0 Vegemite in respect condition compared to no respect.\n\nCON: Respect did not make a difference\n- A bunch of people in the respect condition still ate 0 Vegemite.\n- Some people in no respect condition ate all the Vegemite.\n\n</div>"
    },
    {
      "cell_type": "markdown",
      "metadata": {
        "cell_id": "e07df512d6e7410c94e5d5259a9e8efe",
        "deepnote_cell_height": 52.359375,
        "deepnote_cell_type": "markdown",
        "output_cleared": false,
        "tags": []
      },
      "source": "3.5 - Could this pattern of data be the result of randomness? "
    },
    {
      "cell_type": "markdown",
      "metadata": {
        "cell_id": "24d061a51dcc49dbb245b8117de844c4",
        "deepnote_cell_height": 140.71875,
        "deepnote_cell_type": "markdown",
        "output_cleared": false,
        "tags": []
      },
      "source": "<div class=\"alert alert-block alert-warning\">\n\n**Sample Response**\n\nSure.\n\n</div>"
    },
    {
      "cell_type": "markdown",
      "metadata": {
        "cell_id": "85aa2290f26e4176a4f309c6a071c21e",
        "deepnote_cell_height": 115.9375,
        "deepnote_cell_type": "markdown",
        "output_cleared": false,
        "tags": []
      },
      "source": "<div class=\"alert alert-block alert-success\">\n\n### 4.0 - Approximate Time: 12-15 mins\n\n</div>"
    },
    {
      "cell_type": "markdown",
      "metadata": {
        "cell_id": "ed6d8876ab324173baf1be39c7e3fa9c",
        "deepnote_cell_height": 69.96875,
        "deepnote_cell_type": "markdown",
        "output_cleared": false,
        "tags": []
      },
      "source": "## 4.0 - Creating Some Simple Models"
    },
    {
      "cell_type": "markdown",
      "metadata": {
        "cell_id": "794adf3a64ce4cc5b5ddbf66cf6074e3",
        "deepnote_cell_height": 97.140625,
        "deepnote_cell_type": "markdown",
        "output_cleared": false,
        "tags": []
      },
      "source": "4.1 - If we used the mean as our empty model to predict how much Vegemite someone in this study would eat (regardless of condition), what would we have predicted? How many people would we have predicted correctly?\n"
    },
    {
      "cell_type": "code",
      "execution_count": null,
      "metadata": {
        "cell_id": "22dde7e432e04265938cc41a2b200657",
        "deepnote_cell_type": "code",
        "execution_millis": 40,
        "execution_start": 1607548938630,
        "output_cleared": true,
        "source_hash": null,
        "tags": [],
        "trusted": true
      },
      "outputs": [],
      "source": "# One way to check the mean of the empty model is to use lm()\nempty_model <- lm(veg_eaten ~ NULL, data = respect_study)\nempty_model\n\n# Another way is to check the mean using favstats()\nveg_eaten_stats <- favstats(~veg_eaten, data = respect_study)\nveg_eaten_stats\n\n# How many predicted correctly: you can look at faceted histogram\n# no data at .18\n\n# Another method for How many predicted correctly: use tally()\n# check to see if how many around .18\ntally(~ veg_eaten, data = respect_study)\n# Another method using tally()\ntally(~ veg_eaten == 0.183625, data = respect_study)"
    },
    {
      "cell_type": "markdown",
      "metadata": {
        "cell_id": "9b0952bda11a45cfba05b4d90a2ae9ba",
        "deepnote_cell_height": 52.359375,
        "deepnote_cell_type": "markdown",
        "output_cleared": false,
        "tags": []
      },
      "source": "4.2 - The mean might be a terrible model for this data. Why does it seem so terrible?\n"
    },
    {
      "cell_type": "markdown",
      "metadata": {
        "cell_id": "a927e561119b49179d409a3c43758b55",
        "deepnote_cell_height": 140.71875,
        "deepnote_cell_type": "markdown",
        "output_cleared": false,
        "tags": []
      },
      "source": "<div class=\"alert alert-block alert-warning\">\n\n**Sample Response**\n\nThe mean seems terrible because it does not predict anyone correctly.\n\n</div>"
    },
    {
      "cell_type": "markdown",
      "metadata": {
        "cell_id": "a39d443b10fc4257bf39b89e39feeef4",
        "deepnote_cell_height": 74.75,
        "deepnote_cell_type": "markdown",
        "output_cleared": false,
        "tags": []
      },
      "source": "4.3 - If we used the mode as our empty model to predict how much Vegemite someone in this study would eat, what would we predict? How many people would we have predicted correctly?"
    },
    {
      "cell_type": "code",
      "execution_count": null,
      "metadata": {
        "cell_id": "fa3b321f640342af8a1c5dd51d9e7a52",
        "deepnote_cell_type": "code",
        "execution_millis": 23,
        "execution_start": 1607548938675,
        "output_cleared": true,
        "source_hash": null,
        "tags": [],
        "trusted": true
      },
      "outputs": [],
      "source": "# Using mode, we would predict 0 \n\n# How many predicted correctly: use tally()\ntally(~ veg_eaten, data =respect_study)\n# Another method using tally()\ntally(~ veg_eaten == 0, data =respect_study)"
    },
    {
      "cell_type": "markdown",
      "metadata": {
        "cell_id": "ef53ff21a3c7405cb1169bc8f26d44b5",
        "deepnote_cell_height": 74.75,
        "deepnote_cell_type": "markdown",
        "output_cleared": false,
        "tags": []
      },
      "source": "4.4 - Use `favstats()` to put the mean into your visualization (as a blue line). Also put the mode into your visualization (as a green line). "
    },
    {
      "cell_type": "code",
      "execution_count": null,
      "metadata": {
        "cell_id": "2a72549208794339b3bb1eff7b7f8180",
        "deepnote_cell_type": "code",
        "execution_millis": 425,
        "execution_start": 1607548938703,
        "output_cleared": true,
        "source_hash": null,
        "tags": [],
        "trusted": true
      },
      "outputs": [],
      "source": "# Feel free to copy and paste your visualization from above here.\n# Hint: You can pipe on a line to any faceted histograms, boxplot, jitter, etc.\n# Try functions like gf_vline (for vertical lines) or gf_hline (for horizontal)\n\n# Save favstats into an object\nveg_eaten_stats <- favstats(~veg_eaten, data = respect_study)\nveg_eaten_stats\n\n# Add vertical lines to your histogram\ngf_histogram(~veg_eaten, data = respect_study, fill = \"plum4\", color = \"slateblue\")%>%\n    gf_vline(xintercept = ~ mean, data = veg_eaten_stats, color = \"blue\")%>%\n    gf_vline(xintercept = ~0, color = \"green\")\n\n# or add horizontal lines to your boxplot\ngf_boxplot(veg_eaten ~ 1, data = respect_study, fill = \"seashell\", color = \"violetred4\")%>%\n    gf_hline(yintercept = ~ mean, data = veg_eaten_stats, color = \"blue\")%>%\n    gf_hline(yintercept = ~0, color = \"green\")"
    },
    {
      "cell_type": "markdown",
      "metadata": {
        "cell_id": "d5ab5ffede9142ada4bc8af4aa69c1bf",
        "deepnote_cell_height": 74.75,
        "deepnote_cell_type": "markdown",
        "output_cleared": false,
        "tags": []
      },
      "source": "4.5 - Even though we would have predicted more people correctly using the mode, why might the mean still be a useful model for this data?"
    },
    {
      "cell_type": "markdown",
      "metadata": {
        "cell_id": "0ddbff1db8124584a37b4e36b96242d1",
        "deepnote_cell_height": 185.515625,
        "deepnote_cell_type": "markdown",
        "output_cleared": false,
        "tags": []
      },
      "source": "<div class=\"alert alert-block alert-warning\">\n\n**Sample Response**\n\nBecause with the mean we would be equally wrong in both directions. It would balance our positive and negative error. The mode would have even more error than the mean for all of the people who were on the high end.\n\n</div>"
    },
    {
      "cell_type": "markdown",
      "metadata": {
        "cell_id": "40c6be21651d44f4b15b2a422ccd8e27",
        "deepnote_cell_height": 115.9375,
        "deepnote_cell_type": "markdown",
        "output_cleared": false,
        "tags": []
      },
      "source": "<div class=\"alert alert-block alert-success\">\n\n### 5.0 - Approximate Time: 12-15 mins\n\n</div>"
    },
    {
      "cell_type": "markdown",
      "metadata": {
        "cell_id": "9bc5c80dc98f4ed7a9e89d216065a7f4",
        "deepnote_cell_height": 69.96875,
        "deepnote_cell_type": "markdown",
        "output_cleared": false,
        "tags": []
      },
      "source": "## 5.0 - Error from the Models"
    },
    {
      "cell_type": "markdown",
      "metadata": {
        "cell_id": "f34679ef5d634d7281c26ee3806d53d6",
        "deepnote_cell_height": 161.953125,
        "deepnote_cell_type": "markdown",
        "output_cleared": false,
        "tags": []
      },
      "source": "5.1 - Here is how we might write the mode as an empty model in GLM notation:\n\n$$Y_i = 0 + e_i$$\n\nModify this copy below to write the mean (the number) as the empty model:\n\n$$Y_i = 0.18 + e_i$$"
    },
    {
      "cell_type": "markdown",
      "metadata": {
        "cell_id": "cc9add2f2d8a4f38b19aa854389086a0",
        "deepnote_cell_height": 97.140625,
        "deepnote_cell_type": "markdown",
        "output_cleared": false,
        "tags": []
      },
      "source": "5.2 - Let's imagine we are going to use the mode as our model. Take a look at the first student in the sample. How would you represent that student in GLM format? What would be that student's DATA? MODEL? ERROR?"
    },
    {
      "cell_type": "code",
      "execution_count": null,
      "metadata": {
        "cell_id": "0825e69ea12e4686b308d0a89cf05ce9",
        "deepnote_cell_type": "code",
        "execution_millis": 43,
        "execution_start": 1607548939157,
        "output_cleared": true,
        "source_hash": null,
        "tags": [],
        "trusted": true
      },
      "outputs": [],
      "source": "# Find the DATA for the first student in the sample\nhead(respect_study)\n\n# The DATA for student1 is 0.00\n# The MODEL for student1 is 0\n\n# The ERROR for student1 can be found be subtracting the MODEL from the DATA\n0.00 - 0\n\n# The ERROR for student1 is zero"
    },
    {
      "cell_type": "markdown",
      "metadata": {
        "cell_id": "0ed5400e5bf04fa49843e7f0c6d9a925",
        "deepnote_cell_height": 74.953125,
        "deepnote_cell_type": "markdown",
        "output_cleared": false,
        "tags": []
      },
      "source": "5.3 - In the visualization you made above, where would the residuals ($$e_i$$) for each model be? Which model \"balances\" the residuals?"
    },
    {
      "cell_type": "markdown",
      "metadata": {
        "cell_id": "d29355a2d7604d1d8626d29fbef4a21d",
        "deepnote_cell_height": 163.125,
        "deepnote_cell_type": "markdown",
        "output_cleared": false,
        "tags": []
      },
      "source": "<div class=\"alert alert-block alert-warning\">\n\n**Sample Response**\n\nThe residuals would be the distance between each data point and the model. The mean balances the residuals.\n\n</div>"
    },
    {
      "cell_type": "markdown",
      "metadata": {
        "cell_id": "9c49f13637a54b92b3710c9ba3c91df4",
        "deepnote_cell_height": 119.53125,
        "deepnote_cell_type": "markdown",
        "output_cleared": false,
        "tags": []
      },
      "source": "5.4 - If we calculated the sum of squared residuals off the mean versus off the mode, which model would have the lower SS? Make your prediction then try calculating these with R. (Note: There are easy functions to do that for the mean but not for the mode. But you can create a column of residuals from 0, square them, and add them up.) \n"
    },
    {
      "cell_type": "code",
      "execution_count": null,
      "metadata": {
        "cell_id": "bc76b02d0cac46dabee279a5b1cbbb46",
        "deepnote_cell_type": "code",
        "execution_millis": 0,
        "execution_start": 1607548939201,
        "output_cleared": true,
        "source_hash": null,
        "tags": [],
        "trusted": true
      },
      "outputs": [],
      "source": "# One way to find the SS from the mean is to use anova()\nempty_model <- lm(veg_eaten ~ NULL, data = respect_study)\nanova(empty_model)\n\n# Another way to find the SS from the mean is to create a column of residuals, \n# square them, and sum them\nrespect_study$residuals_mean <- resid(empty_model)\nsum((respect_study$residuals_mean)^2)\n\n# Find the SS from the mode by subtracting the model from each data point, \n# squaring, and summing them\nrespect_study$residuals_mode <- respect_study$veg_eaten - 0\nsum((respect_study$residuals_mode)^2)"
    },
    {
      "cell_type": "markdown",
      "metadata": {
        "cell_id": "9163834896c942d3a368d56889ab701b",
        "deepnote_cell_height": 119.53125,
        "deepnote_cell_type": "markdown",
        "output_cleared": false,
        "tags": []
      },
      "source": "5.5 - To decide which is a better model, we always have to make explicit how we are measuring \"error\" (how off the model is). One way of measuring error is to count up how many predictions were correct versus incorrect. Which model minimizes that kind of error? What kind of error does the other model minimize?"
    },
    {
      "cell_type": "markdown",
      "metadata": {
        "cell_id": "5fb2737ce6db4cd9994c4644df51baee",
        "deepnote_cell_height": 166.109375,
        "deepnote_cell_type": "markdown",
        "output_cleared": false,
        "tags": []
      },
      "source": "<div class=\"alert alert-block alert-warning\">\n\n**Sample Response**\n\n- The mode minimizes the type of error that counts the number of correct predictions.\n- the mean minimizes the type of error that counts how off the predictions are in direction.\n\n</div>"
    },
    {
      "cell_type": "markdown",
      "metadata": {
        "cell_id": "85b961aa09e148c3beadf1639c99440c",
        "deepnote_cell_height": 115.9375,
        "deepnote_cell_type": "markdown",
        "output_cleared": false,
        "tags": []
      },
      "source": "<div class=\"alert alert-block alert-success\">\n\n### 6.0 - Approximate Time: 8-12 mins\n\n</div>"
    },
    {
      "cell_type": "markdown",
      "metadata": {
        "cell_id": "242eecd665204343847e733f2c07ca22",
        "deepnote_cell_height": 69.96875,
        "deepnote_cell_type": "markdown",
        "output_cleared": false,
        "tags": []
      },
      "source": "## 6.0 - Closing Thoughts"
    },
    {
      "cell_type": "markdown",
      "metadata": {
        "cell_id": "a5f7b1454da044f2ab5517787b6724a3",
        "deepnote_cell_height": 155.9375,
        "deepnote_cell_type": "markdown",
        "output_cleared": false,
        "tags": []
      },
      "source": "For reasons that are a bit opaque now, in statistics, we really value the **Sum of Squares** as a measure of error. As we progress through the course, we will continue to learn more about its special properties. Squaring, as odd as it seems right now, will allow us to do some cool stuff in the following chapters.\n\nHere are some questions to think about:"
    },
    {
      "cell_type": "markdown",
      "metadata": {
        "cell_id": "2c94223a1b1f4d0082031b51268f7505",
        "deepnote_cell_height": 74.75,
        "deepnote_cell_type": "markdown",
        "output_cleared": false,
        "tags": []
      },
      "source": "6.1 - Think about the way we represent our models: DATA = MODEL + ERROR. Could there be a model so good that there is no need to add “ERROR” to it?"
    },
    {
      "cell_type": "markdown",
      "metadata": {
        "cell_id": "29e13f5a5c6443089ce1c07193dc6620",
        "deepnote_cell_height": 373.859375,
        "deepnote_cell_type": "markdown",
        "output_cleared": false,
        "tags": []
      },
      "source": "<div class=\"alert alert-block alert-warning\">\n\n**Sample Response**\n\n> The only hypothetical models that would not have error, would be:\n- ones that somehow capture every aspect of the population/DGP\n- ones that are overfitted, and very complicated (not elegant or simplified)\n- ones that have no variability, which would not require the need for statistics\n\n> In most situations, statistical models always have error because:\n- usually DGPs are complicated and not that simple \n- data collection process almost always includes some induced sources of variation\n- the sample is usually a small portion of the whole population or DGP so usually samples vary; even if this sample is perfectly modeled, the next sample will probably be different\n\n</div>"
    },
    {
      "cell_type": "markdown",
      "metadata": {
        "cell_id": "dc602dd1be3b41e2bda28b8da761b37d",
        "deepnote_cell_height": 97.140625,
        "deepnote_cell_type": "markdown",
        "output_cleared": false,
        "tags": []
      },
      "source": "6.2 - If we shuffled this `respect_study` data such that the Vegemite eaten would be randomly categorized into two groups, would the empty model for that data change? Why or why not? Why is the empty model a good way to represent a random DGP?\n"
    },
    {
      "cell_type": "code",
      "execution_count": null,
      "metadata": {
        "cell_id": "a51ee4e0eb6243f28db8e3d6e8f3d7e5",
        "deepnote_cell_type": "code",
        "execution_millis": 482,
        "execution_start": 1607548939204,
        "output_cleared": true,
        "source_hash": null,
        "tags": [],
        "trusted": true
      },
      "outputs": [],
      "source": "# Here's a set of visualizations where the outcome gets shuffled \n# and the empty model is fit from the shuffled data.\n# Run it a few times to see if the empty model changes.\n\n\n    # this creates the outcome variable\nrespect_study$veg_eaten <- respect_study$spoon2_before - respect_study$spoon2_after\n\n    # this shuffles the outcome\nrespect_study$shuffled_veg_eaten <- shuffle(respect_study$veg_eaten)\n\n    # gets the favstats of the outcome\nshuff_stats <- favstats(~ shuffled_veg_eaten, data = respect_study)\n\n    # makes a histogram of the shuffled data\ngf_histogram(~ shuffled_veg_eaten, data = respect_study, fill = \"purple4\", color = \"purple3\") %>%\n    gf_facet_grid(respect_condition ~ .) %>%\n    gf_vline(xintercept = ~mean, data = shuff_stats) %>%\n    gf_labs(title = \"veg_eaten has been shuffled\")\n\n    # makes a jitter plot of same data\ngf_jitter(shuffled_veg_eaten ~ respect_condition, data = respect_study, size = 5, alpha = .2, height = 0, color = \"purple\") %>%\n    gf_hline(yintercept = ~mean, data = shuff_stats) %>%\n    gf_labs(title = \"veg_eaten has been shuffled\")\n\n"
    },
    {
      "cell_type": "markdown",
      "metadata": {
        "cell_id": "bcb2014043d44b13b97b84e9a594275b",
        "deepnote_cell_height": 236.296875,
        "deepnote_cell_type": "markdown",
        "output_cleared": false,
        "tags": []
      },
      "source": "<div class=\"alert alert-block alert-warning\">\n\n**Sample Response**\n\n- Mean doesn't change if you mix up the order of the values being added up.\n- The empty model would not change because we are still using the same data (the same values and number of values).\n- This is useful for representing a random DGP because it is not affected by other variables; even if there is another explanatory variable, the mean doesn't change. \n\n</div>"
    }
  ],
  "metadata": {
    "deepnote_notebook_id": "fa79c9c128174fa5bfa959abbc619571",
    "kernelspec": {
      "display_name": "R",
      "language": "R",
      "name": "ir"
    },
    "language_info": {
      "codemirror_mode": "r",
      "file_extension": ".r",
      "mimetype": "text/x-r-source",
      "name": "R",
      "pygments_lexer": "r",
      "version": "4.3.3"
    },
    "nbsimplegrader": {
      "publish_config": {
        "classes": [],
        "options": [],
        "tools": []
      }
    }
  },
  "nbformat": 4,
  "nbformat_minor": 1
}