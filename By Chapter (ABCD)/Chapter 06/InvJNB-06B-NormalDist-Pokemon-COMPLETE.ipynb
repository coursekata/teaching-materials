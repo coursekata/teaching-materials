{
  "cells": [
    {
      "cell_type": "markdown",
      "metadata": {
        "cell_id": "92dd116bb98c4bb68eff5f62facecf8a",
        "deepnote_cell_type": "markdown",
        "tags": []
      },
      "source": "<div class=\"alert alert-block alert-danger\">\n\n# 6B: The Probability of Pokémon (COMPLETE)\n\n**Use with textbook version 6.0+**\n\n**Lesson assumes students have read up through page: 6.11**\n\n*NOTE: You may want to use a copy of [this document](https://docs.google.com/document/d/1iOXKnr2XMwgQ7yTpOZ8J6ovnGZ5odLDJ5Qg_CToy4bw/edit?usp=sharing) with your students to help them track their battle statistics (optional).*\n\n</div>"
    },
    {
      "cell_type": "markdown",
      "metadata": {
        "cell_id": "94d6f90ecf7642ef96711cd9e2103614",
        "deepnote_cell_height": 163.9375,
        "deepnote_cell_type": "markdown",
        "tags": []
      },
      "source": "<div class=\"alert alert-block alert-success\">\n\n## Approximate time to complete Notebook: 55-70 Mins\n\n</div>"
    },
    {
      "cell_type": "code",
      "execution_count": null,
      "metadata": {
        "cell_id": "ad70074c7fd94d48b0da9ce0db53822b",
        "deepnote_cell_height": 129.953125,
        "deepnote_cell_type": "code",
        "deepnote_to_be_reexecuted": false,
        "execution_millis": 1031,
        "execution_start": 1701134112215,
        "source_hash": null,
        "tags": [],
        "trusted": true
      },
      "outputs": [],
      "source": "# This code will load the R packages we will use\nsuppressPackageStartupMessages({\n    library(coursekata)\n})"
    },
    {
      "cell_type": "markdown",
      "metadata": {
        "cell_id": "0adcaaaa25b04fceb189de7a831b3c72",
        "deepnote_cell_height": 887.109375,
        "deepnote_cell_type": "markdown",
        "tags": []
      },
      "source": "### Welcome to the world of Pokémon (e.g., video games, card game, Pokémon Go, anime)!\n\n<img src=\"https://coursekata-course-assets.s3.us-west-1.amazonaws.com/UCLATALL/czi-stats-course/jnb_wgQQYYyL-6-B-Various-Pokemon.jpg\" title=\"varieties of pokemon\" />\n\nThe Pokémon franchise, introduced originally as a Nintendo video game (1996), is all about catching, training, and battling with Pokémon (a Japanese shortening of “Pocket Monster\"). Over the years, there have come to be over 800 fictional Pokémon species that range from animal-like to plant-like creatures, and even species based on inanimate objects (like *Klang* which looks like interlocking gears). \n\nThere are eighteen different Types of Pokémon (such as Grass, Water, Fire, etc.) and each type has its own individual strengths and weaknesses. For instance, Grass is generally strong against Water, Water is usually strong against Fire, and Fire is generally strong against Grass (similar to the game “Rock, Paper, Scissors”). \n\nThe goal of the game is to become the strongest Trainer by catching and training as many Pokémon as you can and battling them against your opponent’s Pokémon (hence, the slogan “Gotta catch ‘em all!”). When you catch a Pokémon, they shrink down into poké balls that can fit in your pocket."
    },
    {
      "cell_type": "markdown",
      "metadata": {
        "cell_id": "206dc2f2f53745698c25c4598ba74a83",
        "deepnote_cell_height": 852.890625,
        "deepnote_cell_type": "markdown",
        "tags": []
      },
      "source": "**<center>One of the most well-known Pokémon characters is Pikachu:</center>**\n\n<img src=\"https://coursekata-course-assets.s3.us-west-1.amazonaws.com/UCLATALL/czi-stats-course/jnb_rqWwn871-6-B-Pikachu.png\" title=\"pokemon character pikachu\" width = 300 align = \"center\">\n\n### **<center>Did you know?</center>**\n\n### **<center>Pikachu Name origin:</center>**\n<br>\n<div align=\"center\"><u>Pikapika</u> - Japanese for a ‘sparkle’</div>\n<br>\n<div align=\"center\"><u>Chu</u> - Japanese for a ‘squeak’ sound</div>\n<br>\n<div align=\"center\">(Source: <a href=\"https://pokemondb.net/pokedex/pikachu\">pokemondb.net</a>)</div>"
    },
    {
      "cell_type": "markdown",
      "metadata": {
        "cell_id": "eaacf11402aa4f779970005b236aedb6",
        "deepnote_cell_height": 115.9375,
        "deepnote_cell_type": "markdown",
        "tags": []
      },
      "source": "<div class=\"alert alert-block alert-success\">\n\n### 1.0 - Approximate Time: 3-5 mins\n\n</div>"
    },
    {
      "cell_type": "markdown",
      "metadata": {
        "cell_id": "61de50ff034a4c658c8323be78725008",
        "deepnote_cell_height": 69.96875,
        "deepnote_cell_type": "markdown",
        "tags": []
      },
      "source": "## 1.0 - Pokémon Stats"
    },
    {
      "cell_type": "markdown",
      "metadata": {
        "cell_id": "9fbc3aae499b4ada851aee35f4b9bec6",
        "deepnote_cell_height": 74.75,
        "deepnote_cell_type": "markdown",
        "tags": []
      },
      "source": "1.1 - Here is the csv link for some data on the stats for each Pokémon. Put the data into a data frame called `pokemon`."
    },
    {
      "cell_type": "code",
      "execution_count": null,
      "metadata": {
        "cell_id": "7b066c4a72484ebb90ffb80530163194",
        "deepnote_cell_height": 462.859375,
        "deepnote_cell_type": "code",
        "deepnote_output_heights": [
          275.90625
        ],
        "deepnote_to_be_reexecuted": false,
        "execution_millis": 1679,
        "execution_start": 1701134119263,
        "output_cleared": false,
        "source_hash": null,
        "tags": [],
        "trusted": true
      },
      "outputs": [],
      "source": "linktocsv <- \"https://docs.google.com/spreadsheets/d/e/2PACX-1vTyGgp4Pdt8diSAiJ0MD4WzyRdGMojMePO9DHreNWczPoDYOzWDGRB4MqrQLtC-ytcWb7QozkhYPmQc/pub?output=csv\"\n\npokemon <- read.csv(linktocsv, head=TRUE)\n\nhead(pokemon)\n"
    },
    {
      "cell_type": "markdown",
      "metadata": {
        "cell_id": "3b858efde67f4712a0f25fe7cbab1d5f",
        "deepnote_cell_height": 603.578125,
        "deepnote_cell_type": "markdown",
        "tags": []
      },
      "source": "These are the raw attributes that are used for calculating how much damage an attack will do in the games. This dataset is about the Pokémon video games (*NOT* Pokémon cards or Pokémon Go).\n\nThe data frame contains the following variables:\n\n- `ID`: ID for each Pokémon\n- `Name`: Name of each Pokémon\n- `Type1`: Each Pokémon has a Type, this determines weakness/resistance to attacks\n- `Type2`: Some Pokémon are dual Type and have 2\n- `HowManyTypes`: How many Types the Pokémon has (1 or 2)\n- `Total`: Sum of all stats that come after this, a general guide to how strong a Pokémon is\n- `HitPoints`: Hit points, or health, defines how much damage a Pokémon can withstand before fainting\n- `Attack`: The base modifier for normal attacks (eg. Scratch, Punch)\n- `Defense`: The base damage resistance against normal attacks\n- `SpAttack`: Special attack, the base modifier for special attacks (e.g. fire blast, bubble beam)\n- `SpDef`: The base damage resistance against special attacks\n- `Speed`: Determines which Pokémon attacks first each round\n- `Generation`: A grouping of the Pokémon games that separates them based on the Pokémon they include (each generation, a new set of Pokémon, moves, and Abilities that did not exist in the previous generation are released)\n- `Legendary`: A group of incredibly rare and often very powerful Pokémon, generally featured prominently in the legends and myths of the Pokémon world"
    },
    {
      "cell_type": "markdown",
      "metadata": {
        "cell_id": "2bdba5f111654a0d987c94b67b5ee44d",
        "deepnote_cell_height": 115.9375,
        "deepnote_cell_type": "markdown",
        "tags": []
      },
      "source": "<div class=\"alert alert-block alert-success\">\n\n### 2.0 - Approximate Time: 5-8 mins\n\n\n</div>"
    },
    {
      "cell_type": "markdown",
      "metadata": {
        "cell_id": "286acb7567374180b7684289bb0d3ae9",
        "deepnote_cell_height": 69.96875,
        "deepnote_cell_type": "markdown",
        "tags": []
      },
      "source": "## 2.0 - Using R to Play a Hypothetical Game"
    },
    {
      "cell_type": "markdown",
      "metadata": {
        "cell_id": "c5ae4a3d873e41a6adce74eecbc62323",
        "deepnote_cell_height": 97.140625,
        "deepnote_cell_type": "markdown",
        "tags": []
      },
      "source": "For the sake of simplicity, let's try simulating a one-on-one match-up (and for all of the Pokémon pros here today, we acknowledge that a round in the actual game is much more complex than this!)."
    },
    {
      "cell_type": "markdown",
      "metadata": {
        "cell_id": "df6a6d6eb22442cb977e8e8baa395e8d",
        "deepnote_cell_height": 74.75,
        "deepnote_cell_type": "markdown",
        "tags": []
      },
      "source": "2.1 - Use R to randomly sample 1 Pokémon for you out of all these possible Pokémon. What is the name of your battle Pokémon? What type is it? Try Googling it to find a picture."
    },
    {
      "cell_type": "code",
      "execution_count": null,
      "metadata": {
        "cell_id": "2f89948466b9475c9782774d4cb113a7",
        "deepnote_cell_height": 479.890625,
        "deepnote_cell_type": "code",
        "deepnote_output_heights": [
          130.9375
        ],
        "output_cleared": false,
        "tags": [],
        "trusted": true
      },
      "outputs": [],
      "source": "# we have added this set.seed line of code to ensure that \n# a particular pokemon (Charizard) is selected (to keep our example consistent)\n# you can ignore this line of code\nset.seed(45)\n\nMyPokemon <- sample(pokemon, 1)\n\n# why isn't this printing anything?\n\n# Answer:\n# It won't print anything because you have not asked it to yet, \n# that code ony saves the random sample into an object\n# You need to type the object name\nMyPokemon\n"
    },
    {
      "cell_type": "markdown",
      "metadata": {
        "cell_id": "2bef2edd1bb44102b70da64046eed14b",
        "deepnote_cell_height": 258.296875,
        "deepnote_cell_type": "markdown",
        "tags": []
      },
      "source": "<div class=\"alert alert-block alert-warning\">\n\n**Sample Response**\n\n*Each student will get a random character*\n\n*Optional*: Provide this document for your students so that everyone can easily compare who \"won\" the battle at the end of the lesson: \n\nhttps://docs.google.com/document/d/1iOXKnr2XMwgQ7yTpOZ8J6ovnGZ5odLDJ5Qg_CToy4bw/edit?usp=sharing\n\n\n</div>"
    },
    {
      "cell_type": "markdown",
      "metadata": {
        "cell_id": "0511b4e05ac84903921e7bd9c8b239ac",
        "deepnote_cell_height": 74.75,
        "deepnote_cell_type": "markdown",
        "tags": []
      },
      "source": "2.2 - What are the stats of your battle Pokémon? Do you think it is a strong one? Will it likely have a good chance of beating an opponent? "
    },
    {
      "cell_type": "markdown",
      "metadata": {
        "cell_id": "faf3d38877a14cf7845d44b34f47fe54",
        "deepnote_cell_height": 239.296875,
        "deepnote_cell_type": "markdown",
        "tags": []
      },
      "source": "<div class=\"alert alert-block alert-warning\">\n\n**Sample Responses**\n\n- It's hard to judge if you don't know much about Pokémon. Students who know about Pokémon might have a better sense.\n- Students may generate some questions\n- What should we look at? total? hitpoints? defense? What do these numbers mean?\n- What is a \"high\" number versus a \"low\" number? How high do these numbers go? \n\n</div>"
    },
    {
      "cell_type": "markdown",
      "metadata": {
        "cell_id": "994bccef3491416b8d5ee68e703677e0",
        "deepnote_cell_height": 97.140625,
        "deepnote_cell_type": "markdown",
        "tags": []
      },
      "source": "2.3 - Let’s take a look at your character’s `HitPoints` as one possible measure of its strength. If your Pokémon goes up against a classmate's Pokémon, who will have the higher `HitPoints`? What information would you need to have a sense of this?"
    },
    {
      "cell_type": "markdown",
      "metadata": {
        "cell_id": "1116c48bf88d4ffca798bba5e532f033",
        "deepnote_cell_height": 188.515625,
        "deepnote_cell_type": "markdown",
        "tags": []
      },
      "source": "<div class=\"alert alert-block alert-warning\">\n\n**Sample Responses**\n\n- What are other Pokémon's `HitPoints` like? (What is the distribution of `HitPoints`? How does it vary?)\n- What is the maximum number that a Pokémon could have? A minimum number?\n\n</div>"
    },
    {
      "cell_type": "markdown",
      "metadata": {
        "cell_id": "5c7e35f5fddf4efa9f22fced3d4dbef5",
        "deepnote_cell_height": 115.9375,
        "deepnote_cell_type": "markdown",
        "tags": []
      },
      "source": "<div class=\"alert alert-block alert-success\">\n\n### 3.0 - Approximate Time: 15-18 mins\n\n</div>"
    },
    {
      "cell_type": "markdown",
      "metadata": {
        "cell_id": "ddec0611fb674f51b3b21ff8541fafe7",
        "deepnote_cell_height": 69.96875,
        "deepnote_cell_type": "markdown",
        "tags": []
      },
      "source": "## 3.0 - A Distribution of Pokémon"
    },
    {
      "cell_type": "markdown",
      "metadata": {
        "cell_id": "14aee84b0dfa4b1f9cf4bf0de8745f38",
        "deepnote_cell_height": 74.75,
        "deepnote_cell_type": "markdown",
        "tags": []
      },
      "source": "3.1 - Make a visualization to explore variation in `HitPoints`. What do all the other Pokémon's `HitPoints` look like? How does your Pokémon compare?"
    },
    {
      "cell_type": "code",
      "execution_count": null,
      "metadata": {
        "cell_id": "da8dddca2617491fa3aab9e08fbf43db",
        "deepnote_cell_height": 737.953125,
        "deepnote_cell_type": "code",
        "deepnote_output_heights": [
          610
        ],
        "output_cleared": false,
        "tags": [],
        "trusted": true
      },
      "outputs": [],
      "source": "# sample response\ngf_histogram(~ HitPoints, data= pokemon)\n"
    },
    {
      "cell_type": "code",
      "execution_count": null,
      "metadata": {
        "cell_id": "990e2f445a9345ec8a18ba9935bc9137",
        "deepnote_cell_height": 773.953125,
        "deepnote_cell_type": "code",
        "deepnote_output_heights": [
          610
        ],
        "tags": [],
        "trusted": true
      },
      "outputs": [],
      "source": "# another sample response\n# not as helpful for trying to fit a normal distribution over it...\n# something we do later in the lesson\n# but helpful just for exploring the variation in HitPoints\ngf_boxplot(HitPoints ~ 1, data = pokemon)"
    },
    {
      "cell_type": "markdown",
      "metadata": {
        "cell_id": "1738d2dbe15f4f8688b2477ec0706d8f",
        "deepnote_cell_height": 74.75,
        "deepnote_cell_type": "markdown",
        "tags": []
      },
      "source": "3.2 - Try adding a line that represents your battle Pokémon's `HitPoints`. If you want you can pick a color that is similar to the color of your Pokémon ([colors in R](http://www.stat.columbia.edu/~tzheng/files/Rcolor.pdf))!"
    },
    {
      "cell_type": "code",
      "execution_count": null,
      "metadata": {
        "cell_id": "fa52bdb54ecf4f3c95a45fc278da1778",
        "deepnote_cell_height": 839.25,
        "deepnote_cell_type": "code",
        "deepnote_output_heights": [
          null,
          610
        ],
        "output_cleared": false,
        "tags": [],
        "trusted": true
      },
      "outputs": [],
      "source": "# Add a different color line to represent the HitPoints for your Pokemon \n# Charizard's HitPoints are 78 in darkorange\ngf_histogram(~ HitPoints, data = pokemon) %>%\ngf_vline(xintercept = ~78, color = \"darkorange\", size = 1)\n"
    },
    {
      "cell_type": "markdown",
      "metadata": {
        "cell_id": "9bde9e27daf64b9c9627e6a74ac1dec9",
        "deepnote_cell_height": 97.140625,
        "deepnote_cell_type": "markdown",
        "tags": []
      },
      "source": "3.3 - If you had to make a guess about your future opponent's `HitPoints`, what would you guess just by looking at this visualization? What's the *best fitting* model of `HitPoints` (if you didn't know any more information about this future Pokémon)?"
    },
    {
      "cell_type": "markdown",
      "metadata": {
        "cell_id": "5eb373148e4448c38c2c65139c9c2ce5",
        "deepnote_cell_height": 163.125,
        "deepnote_cell_type": "markdown",
        "tags": []
      },
      "source": "<div class=\"alert alert-block alert-warning\">\n\n**Sample Response**\n\n- Maybe something between 60-80? Maybe 70? Something around the middle of this distribution.\n\n</div>"
    },
    {
      "cell_type": "code",
      "execution_count": null,
      "metadata": {
        "cell_id": "cc46decbdcba4bcd84e2d89f53514559",
        "deepnote_cell_height": 263.375,
        "deepnote_cell_type": "code",
        "deepnote_output_heights": [
          135.421875
        ],
        "output_cleared": false,
        "tags": [],
        "trusted": true
      },
      "outputs": [],
      "source": "# the best fitting model\nempty_model <- lm(HitPoints ~ NULL, data = pokemon)\nempty_model"
    },
    {
      "cell_type": "markdown",
      "metadata": {
        "cell_id": "03414664ea694d0abec8dd44e947dc8d",
        "deepnote_cell_height": 178.328125,
        "deepnote_cell_type": "markdown",
        "tags": []
      },
      "source": "3.4 - Notice the shape of the distribution of `HitPoints`. Let's try fitting a normal distribution over it.\n\n`R` is constantly changing. Recently, we asked the developers of `mosaic` and `ggformula` to write an easier function for fitting a normal curve for us... and they did it! They called it `gf_fitdistr()` and it works with density histograms. Modify the following code to fit a normal distribution onto the histogram of `HitPoints`."
    },
    {
      "cell_type": "code",
      "execution_count": null,
      "metadata": {
        "cell_id": "f83bd59d4046418c82a7f5e728a9ccda",
        "deepnote_cell_height": 773.953125,
        "deepnote_cell_type": "code",
        "deepnote_output_heights": [
          610
        ],
        "output_cleared": false,
        "tags": [],
        "trusted": true
      },
      "outputs": [],
      "source": "gf_dhistogram(~ HitPoints, data = pokemon) %>%\n    gf_fitdistr(color = \"darkblue\")\n\n# a common mistake is just using gf_histogram (count)\n# rather than gf_dhistogram (density)"
    },
    {
      "cell_type": "code",
      "execution_count": null,
      "metadata": {
        "cell_id": "69d2edbeea8a43d4ab54b0761ac0aaac",
        "deepnote_cell_height": 773.953125,
        "deepnote_cell_type": "code",
        "deepnote_output_heights": [
          610
        ],
        "tags": [],
        "trusted": true
      },
      "outputs": [],
      "source": "# method in textbook using gf_dist()\nHP_stats <- favstats(~ HitPoints, data = pokemon)\n\ngf_dhistogram(~HitPoints, data= pokemon) %>%\n    gf_dist(\"norm\", color = \"blue\", params = list(HP_stats$mean, HP_stats$sd))"
    },
    {
      "cell_type": "markdown",
      "metadata": {
        "cell_id": "08e9cb01fca942a79c133b2de9419423",
        "deepnote_cell_height": 52.359375,
        "deepnote_cell_type": "markdown",
        "tags": []
      },
      "source": "3.5 - Also add your empty model and your battle Pokémon to the density histogram above."
    },
    {
      "cell_type": "code",
      "execution_count": null,
      "metadata": {
        "cell_id": "fa9bce1213824249a7ec2fccc197538a",
        "deepnote_cell_height": 839.25,
        "deepnote_cell_type": "code",
        "deepnote_output_heights": [
          null,
          610
        ],
        "output_cleared": false,
        "tags": [],
        "trusted": true
      },
      "outputs": [],
      "source": "gf_dhistogram(~ HitPoints, data = pokemon) %>%\n    gf_fitdistr(color = \"darkblue\") %>%\n    gf_vline(xintercept = ~mean, data=HP_stats, color = \"blue\") %>%\n    gf_vline(xintercept = ~78, color = \"darkorange\")\n"
    },
    {
      "cell_type": "markdown",
      "metadata": {
        "cell_id": "787ff1cc194242cda0280b8142a54790",
        "deepnote_cell_height": 52.359375,
        "deepnote_cell_type": "markdown",
        "tags": []
      },
      "source": "3.6 - Is your Pokémon within 1 standard deviation of the mean (e.g., zone 1)? "
    },
    {
      "cell_type": "code",
      "execution_count": null,
      "metadata": {
        "cell_id": "3a460ac3b5584a6b9c75596bfbbb642e",
        "deepnote_cell_height": 222.890625,
        "deepnote_cell_type": "code",
        "deepnote_output_heights": [
          130.9375
        ],
        "tags": [],
        "trusted": true
      },
      "outputs": [],
      "source": "HP_stats"
    },
    {
      "cell_type": "markdown",
      "metadata": {
        "cell_id": "e0e09dde2d05464dbeffb4e7748544e1",
        "deepnote_cell_height": 191.5,
        "deepnote_cell_type": "markdown",
        "tags": []
      },
      "source": "<div class=\"alert alert-block alert-warning\">\n\n**Sample Response**\n\n- One standard deviation away is about 105 and 45.\n- Students' answers vary because they all have different Pokémon.\n- Charizard (78) would fall within 1 standard deviation.\n\n</div>"
    },
    {
      "cell_type": "markdown",
      "metadata": {
        "cell_id": "f4fc5e64f1f546fba62bd223bdb94112",
        "deepnote_cell_height": 97.140625,
        "deepnote_cell_type": "markdown",
        "tags": []
      },
      "source": "3.7 - The area under the normal curve is 1 (you can think about it as 100%). Estimate of the percentage of Pokémon that have a higher number of `HitPoints` than your Pokémon just by looking at your histogram. "
    },
    {
      "cell_type": "markdown",
      "metadata": {
        "cell_id": "92c04bb91ea54fce92afe79d06dfbd50",
        "deepnote_cell_height": 202.5,
        "deepnote_cell_type": "markdown",
        "tags": []
      },
      "source": "<div class=\"alert alert-block alert-warning\">\n\n**Sample Response**\n\n*Answers will vary*\n- \"more/less than 50%\" is a fine answer\"\n- in the Charizard example, we might say 45% or something just under 50%\n\n</div>"
    },
    {
      "cell_type": "markdown",
      "metadata": {
        "cell_id": "f477e1e4e719416691332e3aa7150132",
        "deepnote_cell_height": 115.9375,
        "deepnote_cell_type": "markdown",
        "tags": []
      },
      "source": "<div class=\"alert alert-block alert-success\">\n\n### 4.0 - Approximate Time: 8-10 mins\n\n</div>"
    },
    {
      "cell_type": "markdown",
      "metadata": {
        "cell_id": "a814c3a80ea243ca953a959b643232ed",
        "deepnote_cell_height": 69.96875,
        "deepnote_cell_type": "markdown",
        "tags": []
      },
      "source": "## 4.0 - Normal Model of Pokémon"
    },
    {
      "cell_type": "markdown",
      "metadata": {
        "cell_id": "5cf52887c2fe4866a3d9ee10487c05ef",
        "deepnote_cell_height": 74.75,
        "deepnote_cell_type": "markdown",
        "tags": []
      },
      "source": "4.1 - Now that you’ve made a guess, let’s get a little more precise. Use `xpnorm()` to model the likelihood that you will go up against a Pokémon that has more `HitPoints` than you. "
    },
    {
      "cell_type": "code",
      "execution_count": null,
      "metadata": {
        "cell_id": "9d74c3b1abd54297927408f5fbf1811a",
        "deepnote_cell_height": 1129.6875,
        "deepnote_cell_type": "code",
        "deepnote_output_heights": [
          null,
          20.1875,
          610
        ],
        "output_cleared": false,
        "tags": [],
        "trusted": true
      },
      "outputs": [],
      "source": "# if you haven't saved the favstats yet, you might want to\nHP_stats <- favstats(~ HitPoints, data = pokemon)\n\n# Use xpnorm() to get the z-score and probability for your character's HitPoints\n# this example has a HitPoints value of 85\nxpnorm(78, HP_stats$mean, HP_stats$sd)"
    },
    {
      "cell_type": "markdown",
      "metadata": {
        "cell_id": "1efbe2fc358f45979d1cfd4cc9916651",
        "deepnote_cell_height": 97.140625,
        "deepnote_cell_type": "markdown",
        "tags": []
      },
      "source": "4.2 - What do all the numbers that you get from `xpnorm()` mean and which of these numbers indicate the likelihood of going up against a Pokémon that has more hit points? Is that the same thing as the z-score? Why or why not?"
    },
    {
      "cell_type": "markdown",
      "metadata": {
        "cell_id": "8b63f10b09aa4acd965c1428a6bf6ec8",
        "deepnote_cell_height": 837.359375,
        "deepnote_cell_type": "markdown",
        "tags": []
      },
      "source": "<div class=\"alert alert-block alert-warning\">\n\n**Sample Response**\n\nThe following refer to our Charizard example (78 hit points). \n\nMost common misconception: Students see the `z = .34` in the normal distribution picture and assume that is the percentage.\n\nInstead of correcting this right away, it helps to ask students to explain each of these numbers in the output.\n\n```\nIf X ~ N(69.26, 25.53), then \n\n\n\tP(X <= 78) = P(Z <= 0.3423) = 0.6339\n\n\tP(X >  78) = P(Z >  0.3423) = 0.3661\n\n```\n\nLine-By-Line\n```\nIf X ~ N(69.26, 25.53), then \n```\n- Ask students where is this 69.26 from? The 25.53?\n- Answer: mean and standard deviation of `HitPoints`\n\n```\n\tP(X <= 78) = P(Z <= 0.3423) = 0.6339\n```\n- the 78 is our particular Pokémon (Charizard)\n- the .34 is the z-score for Charizard, how many standard deviations above the mean our value of 78 is.\n- .63 is the probability or proportion of z-scores greater than .34\n\n```\n\tP(X >  78) = P(Z >  0.3423) = 0.3661\n```\n- .37 is the probability or proportion of z-scores less than .34\n\n\nAfter all this, return to the question... so does .34 represent the likelihood of going up against a Pokémon with more hit points than our battle Pokémon?\n\n\n</div>"
    },
    {
      "cell_type": "markdown",
      "metadata": {
        "cell_id": "e67c0708237b4cfcacaa7abc0af0c743",
        "deepnote_cell_height": 115.9375,
        "deepnote_cell_type": "markdown",
        "tags": []
      },
      "source": "<div class=\"alert alert-block alert-success\">\n\n### 5.0 - Approximate Time: 10-12 mins\n\n</div>"
    },
    {
      "cell_type": "markdown",
      "metadata": {
        "cell_id": "4f164ae23e1d486c9db9ab924da91985",
        "deepnote_cell_height": 69.96875,
        "deepnote_cell_type": "markdown",
        "tags": []
      },
      "source": "## 5.0 - Simulating a Bunch of Opponents"
    },
    {
      "cell_type": "markdown",
      "metadata": {
        "cell_id": "f944d7036a004ec28f6cc7ce3763c0a6",
        "deepnote_cell_height": 97.140625,
        "deepnote_cell_type": "markdown",
        "tags": []
      },
      "source": "5.1 - Let's do a few simulated battles! Run the code below. Who has more `HitPoints`: your Pokémon or your opponent's Pokémon? Run this code a few times, who generally has more hit points, you or your opponents?"
    },
    {
      "cell_type": "code",
      "execution_count": null,
      "metadata": {
        "cell_id": "7ce505c51e7247e990e477de2b9d7be0",
        "deepnote_cell_height": 240.890625,
        "deepnote_cell_type": "code",
        "deepnote_output_heights": [
          130.9375
        ],
        "output_cleared": false,
        "tags": [],
        "trusted": true
      },
      "outputs": [],
      "source": "OpponentPokemon <- sample(pokemon, 1)\nselect(OpponentPokemon, Name, HitPoints)"
    },
    {
      "cell_type": "markdown",
      "metadata": {
        "cell_id": "f5bc7efab70540d99cc73a64f70908d8",
        "deepnote_cell_height": 155.9375,
        "deepnote_cell_type": "markdown",
        "tags": []
      },
      "source": "5.2 - If you did 10 one-on-one battles, how many of those battles would be against Pokémon that have *more* `HitPoints` than your Pokémon? What if your Pokémon participated in 100 or 1000 battles?\n\nLet's actually try it. Should we use `sample` or `resample` here? Which one would we use if we could go up against the same Pokémon multiple times?"
    },
    {
      "cell_type": "code",
      "execution_count": null,
      "metadata": {
        "cell_id": "81bf0f1531934321a4c41398ef8cd75f",
        "deepnote_cell_height": 439.09375,
        "deepnote_cell_type": "code",
        "deepnote_output_heights": [
          58.59375
        ],
        "output_cleared": false,
        "tags": [],
        "trusted": true
      },
      "outputs": [],
      "source": "# modify this code for 10 opponents, then 100, then 1000\n# We would use resample() to go up against the same pokemon multiple times\nOpponentPokemon <- resample(pokemon, 100)\n#select(OpponentPokemon, Name, HitPoints)\n\n# write code count up how many had HitPoints greater than your pokemon \n# (this example uses 78 HitPoints)\ntally(~HitPoints > 78, data = OpponentPokemon)\n\n# might be helpful to turn into a proportion \n# esp for students to make the connection to decimal division and place value\ntally(~HitPoints > 78, data = OpponentPokemon, format = \"proportion\")"
    },
    {
      "cell_type": "markdown",
      "metadata": {
        "cell_id": "1e9919bf7ef4417483bf1a73ee9cf8b9",
        "deepnote_cell_height": 74.75,
        "deepnote_cell_type": "markdown",
        "tags": []
      },
      "source": "5.3 - Compare your normal distribution model to these simulated battles. How did it do? Why is the normal distribution helpful for predicting the future? "
    },
    {
      "cell_type": "markdown",
      "metadata": {
        "cell_id": "c35e6869a6984e3486d48071d668c802",
        "deepnote_cell_height": 188.515625,
        "deepnote_cell_type": "markdown",
        "tags": []
      },
      "source": "<div class=\"alert alert-block alert-warning\">\n\n**Sample Response**\n\n- In our example, the normal model predicted that we would go up against a stronger Pokémon about .63 of the time. In our simulations is it about .71. Not bad.\n- Numbers will vary but the predictions should be within .10 of the simulated battles.\n\n</div>"
    },
    {
      "cell_type": "markdown",
      "metadata": {
        "cell_id": "347a11726f04438aa5601b286719634b",
        "deepnote_cell_height": 115.9375,
        "deepnote_cell_type": "markdown",
        "tags": []
      },
      "source": "<div class=\"alert alert-block alert-success\">\n\n### 6.0 - Approximate Time: 12-15 mins\n\n</div>"
    },
    {
      "cell_type": "markdown",
      "metadata": {
        "cell_id": "ee5eac5b04e74dabb128cff1771bd384",
        "deepnote_cell_height": 69.96875,
        "deepnote_cell_type": "markdown",
        "tags": []
      },
      "source": "## 6.0 - Catch Another Pokémon"
    },
    {
      "cell_type": "markdown",
      "metadata": {
        "cell_id": "063c287533c845b5891cc7c338c1dbe0",
        "deepnote_cell_height": 74.75,
        "deepnote_cell_type": "markdown",
        "tags": []
      },
      "source": "6.1 - The time has come. Pair up with a classmate and go head-to-head (just on `HitPoints`). Also compare some of the other attributes like `Defense` or `Attack` or `Speed`."
    },
    {
      "cell_type": "markdown",
      "metadata": {
        "cell_id": "1426d0c1f33a417e8b63366da8960602",
        "deepnote_cell_height": 140.71875,
        "deepnote_cell_type": "markdown",
        "tags": []
      },
      "source": "<div class=\"alert alert-block alert-warning\">\n\n**Sample Response**\n\n*Outcomes will vary.*\n\n</div>"
    },
    {
      "cell_type": "markdown",
      "metadata": {
        "cell_id": "c9838ae1d66b4d8f97cb7ca371bc65f8",
        "deepnote_cell_height": 97.140625,
        "deepnote_cell_type": "markdown",
        "tags": []
      },
      "source": "6.2 - Try \"catching\" (or sampling) another random Pokémon. How well will this one do (in terms of `HitPoints`) against a classmate's randomly selected Pokémon? What information are you using to make your judgment?"
    },
    {
      "cell_type": "markdown",
      "metadata": {
        "cell_id": "b6f1885963fc4d00aa8e0078ebd374f8",
        "deepnote_cell_height": 163.125,
        "deepnote_cell_type": "markdown",
        "tags": []
      },
      "source": "<div class=\"alert alert-block alert-warning\">\n\n**Sample Response**\n\n*Outcomes will vary, but students should again use the distribution of `HitPoints` and the normal probability model to make their judgment.*\n\n</div>"
    },
    {
      "cell_type": "markdown",
      "metadata": {
        "cell_id": "34b7a8e6df8c488b8bdaf61647b5b43e",
        "deepnote_cell_height": 119.53125,
        "deepnote_cell_type": "markdown",
        "tags": []
      },
      "source": "6.3 - Sometimes we care about individual battles and individual Pokémon. But in statistics, we care more about the whole distribution... so even if you can't predict one single battle well, you can predict 1000 battles pretty well. Take a moment to try and write down your own definition of \"distribution.\" "
    },
    {
      "cell_type": "markdown",
      "metadata": {
        "cell_id": "941361ecde8f440c860ce9a101c8c279",
        "deepnote_cell_height": 253.28125,
        "deepnote_cell_type": "markdown",
        "tags": []
      },
      "source": "<div class=\"alert alert-block alert-warning\">\n\n**Sample Response**\n\nSome ideas they might mention include:\n- how the values look for every other Pokémon (or case)\n- the range/shape of variation for a variable\n- how dispersed or spread out a variable is \n- what the shape of everyone's numbers look like (not just my own or some individual)\n\n</div>"
    }
  ],
  "metadata": {
    "deepnote_notebook_id": "09166082ec0e4e5297eb6437f0bc6d23",
    "kernelspec": {
      "display_name": "R",
      "language": "R",
      "name": "ir"
    },
    "language_info": {
      "codemirror_mode": "r",
      "file_extension": ".r",
      "mimetype": "text/x-r-source",
      "name": "R",
      "pygments_lexer": "r",
      "version": "4.3.3"
    },
    "nbsimplegrader": {
      "publish_config": {
        "classes": [],
        "options": [],
        "tools": []
      }
    }
  },
  "nbformat": 4,
  "nbformat_minor": 1
}