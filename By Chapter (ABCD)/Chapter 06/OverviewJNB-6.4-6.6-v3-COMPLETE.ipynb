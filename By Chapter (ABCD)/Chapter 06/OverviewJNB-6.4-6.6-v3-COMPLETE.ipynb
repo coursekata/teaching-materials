{
  "cells": [
    {
      "metadata": {},
      "cell_type": "markdown",
      "source": "# Standard Deviation and Z-Scores (COMPLETE)\n\n## Chapter 6.4-6.6 Overview Notebook"
    },
    {
      "metadata": {
        "cell_id": "00001-729831c0-b16b-460a-acfa-b932eab731be",
        "deepnote_cell_type": "code",
        "nbsimplegrader": {
          "config_key": "code.run-only",
          "type": "code",
          "label": "Code: Run-Only",
          "runnable": true,
          "editable": false,
          "respondable": false,
          "response": null
        },
        "scrolled": true,
        "trusted": true
      },
      "cell_type": "code",
      "source": "# run this to set up the notebook\nlibrary(coursekata)\nlibrary(gridExtra)\n\n# set styles\ncss <- suppressWarnings(readLines(\"https://raw.githubusercontent.com/jimstigler/jupyter/master/ck_jupyter_styles_v2.css\"))\nIRdisplay::display_html(sprintf('<style>%s</style>', paste(css, collapse = \"\\n\")))\n\n# add functions directly from github\nsource(\"https://raw.githubusercontent.com/coursekata/beta-functions/refs/heads/main/gf_resid.R\")\nsource(\"https://raw.githubusercontent.com/coursekata/beta-functions/refs/heads/main/gf_square_resid.R\")\nsource(\"https://raw.githubusercontent.com/coursekata/beta-functions/refs/heads/main/gf_sd_ruler.R\")\n\n# code used to generate feedback_data and no_feedback_data\nset.seed(141)\nfeedback_data <- data.frame(\n  student_id = c(1:100),\n  task = rep(\"feedback\", 100),\n  median_time = round(rnorm(100, 13, 3),1)\n)\n\nset.seed(154)\nno_feedback_data <- data.frame(\n  student_id = c(1:100),\n  task = rep(\"no_feedback\", 100),\n  median_time = round(rnorm(100, 13, 6),1)\n)\n",
      "execution_count": null,
      "outputs": []
    },
    {
      "metadata": {},
      "cell_type": "markdown",
      "source": "<div class=\"teacher-note\">\n    \n<b>Section Goals:</b> In this section students are introduced to the concept of standard deviation and to the z-score, which uses standard deviation as a unit for measuring how far a score is from the mean of its distribution. Students will learn:\n\n- that standard deviation is the square root of variance, and understand that it represents the spread of a distribution in more interpretable units than variance.\n- how to calculate a z-score using R, and understand that z-score represents how far, in standard deviations, a score is from the mean of its distribution. \n- that both residuals and z scores express, in different units, how far a score is above or below the mean of its distribution. Z-scores are sometimes referred to as “standardized scores.”\n- that z-scores are a way to compare scores across different measures in different units based on their position relative to the mean, and will learn about when z-scores are useful and how they are used.\n        \nA <a href=\"https://docs.google.com/document/d/1oeJYSOL1geQGdul-BhMr0kAy0pfVKZ91FSXsrRv2TCI/edit?tab=t.5y2a0ykmi2fk\" target=\"_blank\">printable student guided-notes worksheet</a> is available to go with this Jupyter notebook, as well as a student version of this notebook.\n    \n</div>"
    },
    {
      "metadata": {},
      "cell_type": "markdown",
      "source": "## 1 Estimating Elapsed Time: More Data\n\nWe’re going to compare two versions of the stopwatch task. In both, a participant presses Start, then Stop when they think 13 seconds have elapsed. Each participant gets five trials; we record their guess.\n\n- **feedback:** after each trial, the participant sees the actual elapsed time.\n- **no_feedback:** the participant does not see the actual time until after all trials are done.\n\nUse the stopwatches below to try each version. As you try it, think about the data generating process: How might feedback change people's behavior from trial to trial?"
    },
    {
      "metadata": {},
      "cell_type": "markdown",
      "source": "### 1.1 Try the `feedback` and `no_feedback` versions of the stopwatch"
    },
    {
      "metadata": {
        "trusted": true
      },
      "cell_type": "code",
      "source": "IRdisplay::display_html('\n  <iframe src=\"https://uclatall.github.io/stopwatch/comparison-table.html\" \n          width=\"100%\" height=\"300\" style=\"border: none;\" \n          sandbox=\"allow-scripts allow-same-origin\"></iframe>\n')",
      "execution_count": null,
      "outputs": []
    },
    {
      "metadata": {},
      "cell_type": "markdown",
      "source": "<div class=\"teacher-note\">\n\n**Teacher Note:**\nProject the timer on a screen. Let students come up one at a time and try to use the two stopwatches to guess when exactly 13 seconds are up. Alternatively, if students are working in their own notebooks, they can all try the stopwatch game.\n    \n</div>"
    },
    {
      "metadata": {},
      "cell_type": "markdown",
      "source": "<div class=\"discussion-question\">\n    \n### 1.2 Discussion: What do you think about the data generating process? How might feedback change people's behavior from trial to trial? How will that affect total error or mean square error from the empty model?\n    \n</div>"
    },
    {
      "metadata": {},
      "cell_type": "markdown",
      "source": "<div class=\"teacher-note\">\n    \n**Sample Responses:**\n- With feedback I’d learn and get better, so the errors should get smaller. The total error should be smaller in feedback data.\n- Feedback should make me more accurate as I do more trials. So overall it will have smaller average error.\n    \n</div>"
    },
    {
      "metadata": {},
      "cell_type": "markdown",
      "source": "### 1.3 Write some code to take a look at the dataframes `feedback_data` and `no_feedback_data`\n\nInstead of collecting data from your class, this time we are going to analyze two larger datasets collected from college students across the USA. \n\n- `feedback_data` 100 students who saw the actual elapsed time after each trial. Each row represents a student who did 5 trials, and their median time is what appears in the dataset.  \n\n- `no_feedback_data` 100 students who did not see their elapsed time until after all trials were finished. Again, each row is the median of 5 trials for each student.  \n\nEach student is labeled with a `student_id` from 1 to 100 (assigned randomly)."
    },
    {
      "metadata": {
        "nbsimplegrader": {
          "config_key": "code.response",
          "type": "code",
          "label": "Response: Code",
          "runnable": true,
          "editable": true,
          "respondable": true,
          "response": null
        },
        "trusted": true
      },
      "cell_type": "code",
      "source": "# code here\n\n# COMPLETE\nhead(feedback_data)\nhead(no_feedback_data)",
      "execution_count": null,
      "outputs": []
    },
    {
      "metadata": {},
      "cell_type": "markdown",
      "source": "## 2 Exploring the distributions of `feedback_data` and `no_feedback_data`\n\nLet's examine the distributions of `median_time`. "
    },
    {
      "metadata": {},
      "cell_type": "markdown",
      "source": "<div class=\"discussion-question\">\n    \n### 2.1 We provided a scatter plot that shows `median_time` on the y-axis (and just the random `student_id` on the x-axis) for students who got feedback.  Modify this code to make a similar scatter plot for students who did not get feedback. How do these two groups compare?\n\nNotice: if we let R scale the y-axis automatically, it will stretch or shrink the range to fit each dataset. That makes it hard to compare the spread of times across the two conditions. To make the comparison fair, we’ve added `gf_lims(y = c(0,30))` to keep the y-axis the same (0–30 seconds).\n\n</div>"
    },
    {
      "metadata": {
        "nbsimplegrader": {
          "config_key": "code.response",
          "type": "code",
          "label": "Response: Code",
          "runnable": true,
          "editable": true,
          "respondable": true,
          "response": null
        },
        "trusted": true
      },
      "cell_type": "code",
      "source": "# modify this\ngf_point(median_time ~ student_id, data = feedback_data) %>%\n  gf_lims(y = c(0,30))",
      "execution_count": null,
      "outputs": []
    },
    {
      "metadata": {
        "trusted": true
      },
      "cell_type": "code",
      "source": "# modify this\n\n# COMPLETE\ngf_point(median_time ~ student_id, data = no_feedback_data) %>%\n  gf_lims(y = c(0,30))",
      "execution_count": null,
      "outputs": []
    },
    {
      "metadata": {},
      "cell_type": "markdown",
      "source": "<div class=\"guided-notes\">\n\n### 2.2 On each visualization provided, draw the best-fitting empty model for each set of data. Label the $b_0$ on each graph. Also draw in a few residuals to remind yourself what error from the model looks like.\n\nRun the code below to see the best-fitting parameter estimates.\n</div>"
    },
    {
      "metadata": {
        "nbsimplegrader": {
          "config_key": "code.response",
          "type": "code",
          "label": "Response: Code",
          "runnable": true,
          "editable": true,
          "respondable": true,
          "response": null
        },
        "trusted": true
      },
      "cell_type": "code",
      "source": "# this saves empty models of both distributions\nfeedback_empty <- lm(median_time ~ NULL, data = feedback_data)\nno_feedback_empty <- lm(median_time ~ NULL, data = no_feedback_data)\n\n# this prints out the empty models\nfeedback_empty\nno_feedback_empty",
      "execution_count": null,
      "outputs": []
    },
    {
      "metadata": {},
      "cell_type": "markdown",
      "source": "<div class=\"discussion-question\">\n    \n### 2.3 Discussion Questions: \n    \n- For which task is the empty model a better model? How can you tell?\n- Which would have a lower SST? Which would have a lower variance?\n    \n</div>"
    },
    {
      "metadata": {},
      "cell_type": "markdown",
      "source": "<img src=\"https://coursekata-course-assets.s3.us-west-1.amazonaws.com/UCLATALL/czi-stats-course/6.4-6.6-overview-feedback-no-feedback.jpg\" alt=\"the two scatter plots for feedback and no feedback data with their empty models, respectively\">"
    },
    {
      "metadata": {},
      "cell_type": "markdown",
      "source": "<div class=\"teacher-note\">\n\n**Sample Responses:**\n    \n- The empty model looks better for the feedback data because the dots are closer to the line; the residuals are smaller. \n- So feedback should have a smaller SST. \n- And since variance is SST adjusted for sample size (the mean square), feedback should also have a smaller variance.\n  \n**Teacher Note:**\n\n- Both groups have an empty model around 13, which makes sense since they were all aiming for 13 seconds. Because of this, some students may argue the models are “equally good.” Remind them that the goal isn’t just hitting the target value, but also reducing error overall. Both models are wrong (almost all the time), but one has consistently *less* error.  \n\n    \n</div>"
    },
    {
      "metadata": {},
      "cell_type": "markdown",
      "source": "## 3 Quantifying Error: SST, Variance, and Standard Deviation\n\nWe have a visual sense that there is more error around the empty model for `no_feedback` than for `feedback`. Let's quantify that visual sense. We'll start with Sum of Squares Total (SST) and variance, then introduce a new measure, standard deviation.\n"
    },
    {
      "metadata": {},
      "cell_type": "markdown",
      "source": "<div class=\"guided-notes\">\n    \n### 3.1 Write R code to calculate SST and variance for the two empty models. Enter the missing formulas, code, and results in the first two rows of the table below.  \n    \nIf you use the super shortcut for one of the rows, write in at least one other way to find that measure of error in the other row.\n    \n</div>"
    },
    {
      "metadata": {
        "nbsimplegrader": {
          "config_key": "code.response",
          "type": "code",
          "label": "Response: Code",
          "runnable": true,
          "editable": true,
          "respondable": true,
          "response": null
        },
        "trusted": true
      },
      "cell_type": "code",
      "source": "# code here\n\n# COMPLETE\nsupernova(feedback_empty)\nsupernova(no_feedback_empty)\n\nsum(resid(feedback_empty)^2)\nsum(resid(no_feedback_empty)^2)\n\nvar(~ median_time, data = feedback_data)\nvar(~ median_time, data = no_feedback_data)",
      "execution_count": null,
      "outputs": []
    },
    {
      "metadata": {},
      "cell_type": "markdown",
      "source": "<table style=\"width: 100%; font-size: 18px; border-collapse: collapse;\">\n  <thead style=\"background-color: white;\">\n    <tr>\n      <th style=\"border: 1px solid black; font-weight: bold; width: 110px; text-align: left; background-color: white;\">Name</th>\n      <th style=\"border: 1px solid black; font-weight: bold; width: 160px; text-align: left; background-color: white;\">Formula</th>\n      <th style=\"border: 1px solid black; font-weight: bold; width: 310px; text-align: left; background-color: white;\">R Code</th>\n      <th style=\"border: 1px solid black; font-weight: bold; width: 120px; text-align: left; background-color: white;\">feedback</th>\n      <th style=\"border: 1px solid black; font-weight: bold; width: 120px; text-align: left; background-color: white;\">no_feedback</th>\n    </tr>\n  </thead>\n  <tbody>\n    <tr style=\"background-color: white;\">\n      <td style=\"border: 1px solid black; height: 100px; text-align: left; background-color: white;\">Total Sum of Squares</td>\n      <td style=\"border: 1px solid black; text-align: left; background-color: white;\"></td>\n      <td style=\"border: 1px solid black; text-align: left; background-color: white;\"></td>\n      <td style=\"border: 1px solid black; text-align: left; background-color: white;\"></td>\n      <td style=\"border: 1px solid black; text-align: left; background-color: white;\"></td>\n    </tr>\n    <tr style=\"background-color: white;\">\n      <td style=\"border: 1px solid black; height: 100px; text-align: left; background-color: white;\">Variance</td>\n      <td style=\"border: 1px solid black; text-align: left; background-color: white;\"></td>\n      <td style=\"border: 1px solid black; text-align: left; background-color: white;\"></td>\n      <td style=\"border: 1px solid black; text-align: left; background-color: white;\"></td>\n      <td style=\"border: 1px solid black; text-align: left; background-color: white;\"></td>\n    </tr>\n    <tr style=\"background-color: white;\">\n      <td style=\"border: 1px solid black; height: 100px; text-align: left; background-color: white;\">Standard Deviation</td>\n      <td style=\"border: 1px solid black; text-align: left; background-color: white;\"></td>\n      <td style=\"border: 1px solid black; text-align: left; background-color: white;\"></td>\n      <td style=\"border: 1px solid black; text-align: left; background-color: white;\"></td>\n      <td style=\"border: 1px solid black; text-align: left; background-color: white;\"></td>\n    </tr>\n  </tbody>\n</table>"
    },
    {
      "metadata": {},
      "cell_type": "markdown",
      "source": "<div class=\"discussion-question\">\n    \n### 3.2 Discussion Questions: \n- Based on your calculated SST and variance, for which dataset is the empty model a better model? Why?    \n- Variance for the no feedback data is about 38.19 seconds squared. Is \"seconds squared” a useful way to describe how far off the model is? What might be a better way to express how far off the guesses are from the model?  \n\n</div>"
    },
    {
      "metadata": {},
      "cell_type": "markdown",
      "source": "<div class=\"teacher-note\">\n\n**Sample Responses:**\n- The empty model looks better for the feedback group, because the SST and variance are both smaller.  \n- Seconds squared is not that helpful; you can’t really be off by ‘38 seconds squared.’ It would make more sense to go back to regular seconds somehow. (This will segue to standard deviation.)\n    \n</div>"
    },
    {
      "metadata": {},
      "cell_type": "markdown",
      "source": "<div class=\"guided-notes\">\n    \n### 3.3 Look back at the variance row in the table from 3.1. How would you modify that formula so the result is in seconds instead of seconds squared?  Write your new formula in the row marked Standard Deviation.\n    \n</div>"
    },
    {
      "metadata": {},
      "cell_type": "markdown",
      "source": "<div class=\"teacher-note\">\n\n**Sample Response:**  \n- Take the square root of the variance formula.\n\n</div>"
    },
    {
      "metadata": {},
      "cell_type": "markdown",
      "source": "<div class=\"guided-notes\">\n    \n### 3.4 In mathematical notation, the sample standard deviation is usually called $s$. Thus the sample variance is called $s^2$. Go back to your table from 3.1 and add this notation in the Formula column for those two rows.  \n    \n</div>"
    },
    {
      "metadata": {},
      "cell_type": "markdown",
      "source": "<div class=\"guided-notes\">\n\n### 3.5 There is an R function called `sd()` that works just like `var()`.  Look back at the R code you wrote in the variance row of the table. How could you modify it to calculate the standard deviation instead? Write your R code in the Standard Deviation row.  \n    \nTry it out in the code cell below to check.\n\n</div>"
    },
    {
      "metadata": {
        "nbsimplegrader": {
          "config_key": "code.response",
          "type": "code",
          "label": "Response: Code",
          "runnable": true,
          "editable": true,
          "respondable": true,
          "response": null
        },
        "trusted": true
      },
      "cell_type": "code",
      "source": "# code here\n\n# COMPLETE (only for no_feedback_data)\nsd(~ median_time, data = no_feedback_data)\n\n# you can use this to make sure it is indeed the square root of variance\nsqrt(var(~ median_time, data = no_feedback_data))\n\n# note that favstats also calculates standard deviation\nfavstats(~ median_time, data = no_feedback_data)",
      "execution_count": null,
      "outputs": []
    },
    {
      "metadata": {},
      "cell_type": "markdown",
      "source": "<div class=\"guided-notes\">\n    \n### 3.6 Variance and standard deviation are both measures of how well the empty model fits the data. They tell us about the spread of a distribution around the prediction of the empty model. On the `no_feedback_data` plot:\n\n- Try to draw a representation of the variance, or mean square, (38.19 seconds squared) on the graph. \n- Then, try to draw a representation of one standard deviation (6.18 seconds) on the graph.  \n- Hint: One of these will be a lot harder than the other.\n    \n</div>\n"
    },
    {
      "metadata": {},
      "cell_type": "markdown",
      "source": "<div class=\"discussion-question\">\n    \n### 3.7 Discussion Question: Which was harder to draw onto the graph? Why?\n    \n</div>"
    },
    {
      "metadata": {},
      "cell_type": "markdown",
      "source": "<div class=\"teacher-note\">\n\n**Sample Response:**  \n- Variance is harder. But once you draw standard deviation (a little residual about 6 seconds long from the empty model), then we can draw variance.\n\n</div>"
    },
    {
      "metadata": {
        "nbsimplegrader": {
          "config_key": "code.response",
          "type": "code",
          "label": "Response: Code",
          "runnable": true,
          "editable": true,
          "respondable": true,
          "response": null
        },
        "trusted": true
      },
      "cell_type": "code",
      "source": "# run this to see a depiction of standard deviation\ngf_point(median_time ~ student_id, data = no_feedback_data) %>%\n  gf_labs(title = \"no_feedback_data\") %>%\n  gf_model(no_feedback_empty) %>%\n  gf_sd_ruler(color = \"red\", size = 2)",
      "execution_count": null,
      "outputs": []
    },
    {
      "metadata": {},
      "cell_type": "markdown",
      "source": "### 3.8 Standard deviations are plotted on the graphs below\n    \nNow you can clearly see that although both models typically predict a guess to be about 13 seconds: \n- the `feedback_empty` model's SD shows that the prediction is typically off by 3 seconds.\n- the `no_feedback_empty` model's SD shows that the prediction is typically off by 6 seconds.\n\n<img src=\"https://coursekata-course-assets.s3.us-west-1.amazonaws.com/UCLATALL/czi-stats-course/6.4-6.6-overview-sd-rulers.jpg\" alt=\"the two scatter plots for feedback and no feedback data with their empty models and standard deviation rulers, respectively\">"
    },
    {
      "metadata": {},
      "cell_type": "markdown",
      "source": "## 4 Developing Intuitions About Standard Deviation\n\nStandard deviation (the typical size of a residual) is a useful metric for thinking about how well a model fits the data. It is worth spending some time getting familiar with estimating it visually."
    },
    {
      "metadata": {},
      "cell_type": "markdown",
      "source": "<div class=\"guided-notes\">\n    \n### 4.1 Given an sd ruler, estimate the sd value.\n\nIn these four scatter plots, the SD ruler is drawn. What’s the approximate SD? Any patterns you notice so far?\n    \n</div>"
    },
    {
      "metadata": {},
      "cell_type": "markdown",
      "source": "<img src=\"https://coursekata-course-assets.s3.us-west-1.amazonaws.com/UCLATALL/czi-stats-course/6.4-6.6-overview-estimate-sd-value.jpg\" alt=\"four scatter plots in which there is no sd ruler and no sd value\" width = 100%> "
    },
    {
      "metadata": {},
      "cell_type": "markdown",
      "source": "<div class=\"guided-notes\">\n    \n### 4.2 Given the value of SD, draw an SD ruler.\n\nHere, the value of the SD is given. Draw in the ruler. Any patterns you notice so far?\n\n</div>"
    },
    {
      "metadata": {},
      "cell_type": "markdown",
      "source": "<img src=\"https://coursekata-course-assets.s3.us-west-1.amazonaws.com/UCLATALL/czi-stats-course/6.4-6.6-overview-draw-sd.jpg\" alt=\"four scatter plots in which the value of SD is given but there is no sd ruler\" width = 100%> "
    },
    {
      "metadata": {},
      "cell_type": "markdown",
      "source": "<div class=\"guided-notes\">\n    \n### 4.3 Training wheels come off! Nothing given. Draw in the sd ruler and estimate the value. Explain your strategy.\n    \n</div>"
    },
    {
      "metadata": {},
      "cell_type": "markdown",
      "source": "<img src=\"https://coursekata-course-assets.s3.us-west-1.amazonaws.com/UCLATALL/czi-stats-course/6.4-6.6-overview-estimate-and-draw-sd.jpg\" alt=\"four scatter plots in which there is no sd ruler and no sd value\" width = 100%> "
    },
    {
      "metadata": {},
      "cell_type": "markdown",
      "source": "## 5 What statisticians commonly use SD for: To measure distance\n\nNow that you have developed a visual sense of SD, we'll show you how we use it commonly in statistics.\n\nLet's learn about two students. One, whom we will refer to as the **square** student (we're going to depict their data as a square), was in the `feedback` condition. \n\nThe second student, **triangle**, was in the `no_feedback` condition. \n\nBoth students were trying to stop the stopwatch at exactly 13 seconds; and both actually stopped the stopwatch at 18 seconds. \n"
    },
    {
      "metadata": {},
      "cell_type": "markdown",
      "source": "<div class=\"discussion-question\">\n\n### 5.1 Discussion: Would you say that both students are equally skilled at estimating an elapsed time of 13 seconds? Why or why not? \n- Which one would you predict would have been more accurate if both had been placed in the `no_feedback` condition?\n    \n</div>"
    },
    {
      "metadata": {},
      "cell_type": "markdown",
      "source": "<div class=\"teacher-note\">\n\n**Sample Responses:**  \n- They’re the same. Both stopped at 18s, both were 5s too late.\n- They’re different, because the no-feedback group had a wider spread. (Some students may vaguely recall this, but often can’t yet explain why it matters. This is the nugget you’ll build on in 5.2 when we show the square and triangle students in context of their respective distributions.)  \n\n**Teacher Note:**  \n- At this point it is okay to validate both kinds of answers. We want students to realize there is more than one way to judge the data.\n\n</div>\n"
    },
    {
      "metadata": {},
      "cell_type": "markdown",
      "source": "<div class=\"discussion-question\">\n\n### 5.2 Discussion: Take a look at these two students (depicted as a square and a triangle) in their respective distributions. Do they seem equally skilled? \n- How does looking at each student **in the context of their group’s spread** change your answer?\n- Can the SD ruler help you explain your reasoning?\n\n</div>"
    },
    {
      "metadata": {},
      "cell_type": "markdown",
      "source": "<img src=\"https://coursekata-course-assets.s3.us-west-1.amazonaws.com/UCLATALL/czi-stats-course/6.4-6.6-overview-square-triangle.jpg\" alt=\"the square student is outside 1 SD of their distribution while the triangle student is within 1 SD of their distribution\" width = 100%>"
    },
    {
      "metadata": {},
      "cell_type": "markdown",
      "source": "<div class=\"teacher-note\">\n\n**Sample Responses:**  \n- The square looks much worse. It's past the typical range of the feedback group. \n- The triangle is only about 1 SD above the mean, so it doesn’t seem that unusual. \n- The SD ruler helps show that one student is outside what’s typical, the other is still inside.\n\n**Teacher Note:**  \n- Encourage students to use the ruler in their explanations.\n- Highlight that this way of using SD as a standard unit gives us a common way to compare  across groups with different spreads.  \n\n</div>\n"
    },
    {
      "metadata": {},
      "cell_type": "markdown",
      "source": "<div class=\"guided-notes\">\n    \n### 5.3 Fill in the approximate value of the residual for the student we call Square and the one we call Triangle. (We rounded everything to the nearest whole number.)\n    \n</div>"
    },
    {
      "metadata": {},
      "cell_type": "markdown",
      "source": "<table style=\"width: 100%; font-size: 18px; border-collapse: collapse;\">\n  <thead style=\"background-color: white;\">\n    <tr>\n      <th style=\"border: 1px solid black; font-weight: bold; width: 150px; text-align: left; background-color: white;\">Task</th>\n      <th style=\"border: 1px solid black; font-weight: bold; width: 100px; text-align: left; background-color: white;\">Student</th>\n      <th style=\"border: 1px solid black; font-weight: bold; width: 100px; text-align: right; background-color: white;\">median_time</th>\n      <th style=\"border: 1px solid black; font-weight: bold; width: 100px; text-align: right; background-color: white;\">Residual</th>\n      <th style=\"border: 1px solid black; font-weight: bold; width: 100px; text-align: right; background-color: white;\">Z-Score</th>\n    </tr>\n  </thead>\n  <tbody>\n    <tr style=\"background-color: white;\">\n      <td style=\"border: 1px solid black; height: 80px; text-align: left; background-color: white;\">feedback<br>\n(mean = 13, sd = 3)\n</td>\n      <td style=\"border: 1px solid black; text-align: left; background-color: white;\">Square</td>\n      <td style=\"border: 1px solid black; background-color: white;\">18</td>\n      <td style=\"border: 1px solid black; background-color: white;\"></td>\n      <td style=\"border: 1px solid black; background-color: white;\"></td>\n    </tr>\n    <tr style=\"background-color: white;\">\n      <td style=\"border: 1px solid black; height: 80px; text-align: left; background-color: white;\">no_feedback<br>\n(mean = 13, sd = 6)\n</td>\n      <td style=\"border: 1px solid black; text-align: left; background-color: white;\">Triangle</td>\n      <td style=\"border: 1px solid black; background-color: white;\">18</td>\n      <td style=\"border: 1px solid black; background-color: white;\"></td>\n      <td style=\"border: 1px solid black; background-color: white;\"></td>\n    </tr>\n  </tbody>\n</table>"
    },
    {
      "metadata": {},
      "cell_type": "markdown",
      "source": "### 5.4 Z-Scores  \n\nLooking at the `median_time` or even the residuals for Square and Triangle, they appear the same.  \n\n**Z-score** gives us a way to describe how far a student is from the mean in the context of the spread of their group.  It is *standardized*; that is, it's expressed in *standard deviation units*, not in raw seconds.  \n\nWe calculate it by taking the residual and dividing by the standard deviation of the group: \n\n<div style=\"font-size: 20pt; text-align: center;\">\n$$z_i = \\frac{Y_i - \\bar{Y}}{s}$$\n</div>"
    },
    {
      "metadata": {},
      "cell_type": "markdown",
      "source": "<div class=\"guided-notes\">\n    \n### 5.5 Calculate the z-score for the student we call Square and the one we call Triangle. Enter these z-scores into the table (in 5.3) on your guided notes.\n    \n</div>"
    },
    {
      "metadata": {
        "nbsimplegrader": {
          "config_key": "code.response",
          "type": "code",
          "label": "Response: Code",
          "runnable": true,
          "editable": true,
          "respondable": true,
          "response": null
        },
        "trusted": true
      },
      "cell_type": "code",
      "source": "# code here (optional)\n\n# z-score for Square\n(18 - 13) / 3\n\n# z-score for Triangle\n(18 - 13) / 6",
      "execution_count": null,
      "outputs": []
    },
    {
      "metadata": {},
      "cell_type": "markdown",
      "source": "<div class=\"discussion-question\">\n    \n### 5.6 Discussion Questions: \n    \n- Why is the z-score for Square greater than the z-score for Triangle?\n- How do the z-scores relate to the idea that one of these students is outside the typical range and one is within the typical range?\n    \n</div>"
    },
    {
      "metadata": {},
      "cell_type": "markdown",
      "source": "<img src=\"https://coursekata-course-assets.s3.us-west-1.amazonaws.com/UCLATALL/czi-stats-course/6.4-6.6-overview-square-triangle.jpg\" alt=\"the square student is outside 1 SD of their distribution while the triangle student is within 1 SD of their distribution\" width = 100%>"
    },
    {
      "metadata": {},
      "cell_type": "markdown",
      "source": "<div class=\"teacher-note\">\n\n**Sample Responses:**  \n- Square’s z-score is larger because the feedback group had a smaller SD, so being 5 seconds off was more extreme there. In SD units, Square is farther from the mean.  \n- Triangle’s group had more spread, so being 5 seconds off isn’t as unusual. In SD units, Triangle isn't too far off from the mean.\n- The z-scores (1.67 versus .83) show that Square is outside the 1 SD range, while Triangle is within it.  \n\n**Teacher Note:**  \n- Connect back to the visual from 5.2: Square was beyond the SD ruler, while Triangle was still inside it.  \n\n</div>\n"
    },
    {
      "metadata": {},
      "cell_type": "markdown",
      "source": "## 6 Z-Scores Help You Compare Scores Even When Measured on Different Scales\n\nImagine a different game where students are told to **brush their teeth for exactly 2 minutes**. Each student has to stop brushing when they think 2 minutes have passed, and then we check the actual time.  \n\nNow the scores are in **minutes** instead of seconds, and the game is entirely different. Suppose a large group of 70 students averages right around 2 minutes. One student (let’s call them Circle!) stops at 1.4 minutes.  "
    },
    {
      "metadata": {},
      "cell_type": "markdown",
      "source": "<div class=\"discussion-question\">\n    \n### 6.1 Is the Circle student better or worse at predicting a target time than Triangle? \n  \n</div>"
    },
    {
      "metadata": {},
      "cell_type": "markdown",
      "source": "<div class=\"teacher-note\">\n\n**Sample Responses:**  \n- By raw numbers alone, the two games are just completely different, so it seems impossible to compare.  \n- It’s not helpful to compare the elapsed values (1.8 minutes vs. 18 seconds); even if we convert 1.4 minutes into seconds (84 seconds), it doesn’t help.  \n- Similarly, comparing the residuals (-0.6 minutes vs. 5 seconds) doesn’t really tell us who was more accurate.  \n- Some students may begin to wonder: Exactly how good are people at this toothbrushing task? (Maybe some might say, \"Okay fine, let's use z-score.\"\n\n</div>"
    },
    {
      "metadata": {},
      "cell_type": "markdown",
      "source": "<div class=\"guided-notes\">\n    \n### 6.2 Let’s try converting the toothbrush score into a z-score\n\nTo fairly compare Circle and Triangle, we need to put both scores in the context of their group’s distribution (even without seeing the full distribution).  \n\nHere are a few facts about the tooth brush task distribution: mean = 2 minutes; SD = 1 minute \n    \nAdd this information in the third row of your guided notes table (from 5.3). Then calculate the z-score for Circle.\n    \n</div>"
    },
    {
      "metadata": {},
      "cell_type": "markdown",
      "source": "<div class=\"discussion-question\">\n\n### 6.3 Discussion: \n- What does Circle’s z-score tell us about how good they are at predicting elapsed time? \n- How does Circle compare to Triangle once we use z-scores?  \n- Does it matter that Circle's z-score is negative and Triangle's z-score is positive? \n\n</div>"
    },
    {
      "metadata": {},
      "cell_type": "markdown",
      "source": "<div class=\"teacher-note\">\n\n**Sample Responses:**  \n- Circle’s z-score (–0.6) shows they were a little below average, but not far outside the typical range.  \n- Compared to Triangle (0.8), Circle is about the same distance from the mean, just on the opposite side.  \n- The negative sign tells us the direction of their error (below vs. above the mean). The size of the z-score tells us how unusual the score is. If we care about accuracy of elapsed time, we might just care about the magnitude of the z-score.\n\n</div>\n"
    }
  ],
  "metadata": {
    "deepnote_execution_queue": [],
    "deepnote_notebook_id": "608933bb-f248-4876-a618-1c815f90aa5a",
    "kernelspec": {
      "name": "ir",
      "display_name": "R",
      "language": "R"
    },
    "language_info": {
      "name": "R",
      "codemirror_mode": "r",
      "pygments_lexer": "r",
      "mimetype": "text/x-r-source",
      "file_extension": ".r",
      "version": "4.3.3"
    },
    "nbsimplegrader": {
      "publish_config": {
        "classes": [],
        "options": {},
        "tools": []
      }
    }
  },
  "nbformat": 4,
  "nbformat_minor": 2
}