{
  "cells": [
    {
      "cell_type": "markdown",
      "metadata": {
        "cell_id": "561098d4be2e430595fd6c4fff23b9b0",
        "deepnote_cell_height": 133.953125,
        "deepnote_cell_type": "markdown"
      },
      "source": "# 6D: Happiness Across The World"
    },
    {
      "cell_type": "code",
      "execution_count": null,
      "metadata": {
        "cell_id": "e76c63d55ce945dbabf4dc4d363b0c85",
        "deepnote_cell_height": 114.953125,
        "deepnote_cell_type": "code",
        "execution_context_id": "4222a899-41d3-4223-9093-52ab283b9ca7",
        "execution_millis": 7058,
        "execution_start": 1742584411486,
        "source_hash": "2fc27838",
        "trusted": true
      },
      "outputs": [],
      "source": "# This code will load the R packages we will use\nsuppressPackageStartupMessages({\n    library(coursekata)\n})\n\n#loads updated data\n\ncsvlink<-\"https://docs.google.com/spreadsheets/d/e/2PACX-1vRVo82UG25_Gq0zYVRXUZX5U4vSVcpdFZ_Pn-U-81kACXbDEE5JJx6D41cTxbYAci0HhOJDGpfHe_5H/pub?gid=1875103213&single=true&output=csv\"\n\nHappyPlanetIndexData <- read.csv(csvlink, header = TRUE) "
    },
    {
      "cell_type": "markdown",
      "metadata": {
        "cell_id": "bd57d9004df84f2bb403a763c5ed59b6",
        "deepnote_cell_height": 69.96875,
        "deepnote_cell_type": "markdown"
      },
      "source": "## 1.0 - The Data"
    },
    {
      "cell_type": "markdown",
      "metadata": {
        "cell_id": "743793e7a00b4e0cb2a3291cede13023",
        "deepnote_cell_height": 426.4375,
        "deepnote_cell_type": "markdown"
      },
      "source": "We'll be looking at a data set (collected in 2021) called the `HappyPlanetIndexData`. It has 147 countries and the following variables:\n\n- `Country`\tName of country\n- `Region` Comment: 1 - Latin America 2 - N America & Oceania 3-  Western Europe 4 - Middle East & N Africa 5 - Sub-Saharan Africa 6 - South Asia 7 - Eastern Europe & Central Asia 8 - East Asia\n- `Happiness` Score on a 0-10 scale for average level of happiness (10 being happiest)\n- `LifeExpectancy` Average life expectancy (in years)\n- `Footprint` Ecological footprint - a measure of the (per capita) ecological impact\n- `HPI`\tHappy Planet Index (0-100 scale) combines well-being and ecological impact\n- `HPIRank`\tHPI rank for the country\n- `GDPperCapita` Gross Domestic Product (per capita)\n- `Population` Population (in millions)"
    },
    {
      "cell_type": "markdown",
      "metadata": {
        "cell_id": "a2b51fc9091343a6a22f55031a01e210",
        "deepnote_cell_height": 52.359375,
        "deepnote_cell_type": "markdown",
        "tags": []
      },
      "source": "1.1 - Write some code to take a look at the data."
    },
    {
      "cell_type": "code",
      "execution_count": null,
      "metadata": {
        "cell_id": "9c2af5e126af4246935d7dcb1ac134ed",
        "deepnote_cell_type": "code",
        "execution_context_id": "4222a899-41d3-4223-9093-52ab283b9ca7",
        "execution_millis": 0,
        "execution_start": 1742584418606,
        "source_hash": "96a78cef",
        "trusted": true
      },
      "outputs": [],
      "source": "#write some code here\n"
    },
    {
      "cell_type": "markdown",
      "metadata": {
        "cell_id": "868d1a94371d462c99f57520fbe47447",
        "deepnote_cell_height": 178.328125,
        "deepnote_cell_type": "markdown",
        "tags": []
      },
      "source": "To measure happiness, the Gallup World Poll used this question: \"Please imagine a ladder with steps numbered from zero at the bottom to 10 at the top. The top of the ladder represents the best possible life for you and the bottom of the ladder represents the worst possible life for you. On which step of the ladder would you say you personally feel you stand at this time?\" \n\n1.2 - If we asked our class this question today, could we represent that data as a row in this data frame? Why or why not?"
    },
    {
      "cell_type": "markdown",
      "metadata": {
        "cell_id": "18221af780514913afb81d280818c56b",
        "deepnote_cell_height": 97.140625,
        "deepnote_cell_type": "markdown",
        "tags": []
      },
      "source": "1.3 - Today we'll explore two different measures of happiness: `Happiness`, and `HPI`. If you were the leader of a country, which measure of happiness would you be most interested in? Why?"
    },
    {
      "cell_type": "markdown",
      "metadata": {
        "cell_id": "2583e26616cf49369920afa2ba95062c",
        "deepnote_cell_height": 74.75,
        "deepnote_cell_type": "markdown",
        "tags": []
      },
      "source": "1.4 - Let's learn a little about Cameroon on these two measures of happiness. Run the code below. Can you tell if it's a \"happy\" country?  "
    },
    {
      "cell_type": "code",
      "execution_count": null,
      "metadata": {
        "cell_id": "4a7fb8bcc47343aca2395f9b71bcbb86",
        "deepnote_cell_height": 60.953125,
        "deepnote_cell_type": "code",
        "execution_context_id": "4222a899-41d3-4223-9093-52ab283b9ca7",
        "execution_millis": 29,
        "execution_start": 1742584449769,
        "output_cleared": false,
        "source_hash": "56f05d52",
        "tags": [],
        "trusted": true
      },
      "outputs": [],
      "source": "filter(HappyPlanetIndexData, Country == \"Cameroon\")"
    },
    {
      "cell_type": "markdown",
      "metadata": {
        "cell_id": "25743431c789495d8410ae9fa8117ed9",
        "deepnote_cell_height": 69.96875,
        "deepnote_cell_type": "markdown",
        "tags": []
      },
      "source": "## 2.0 - Exploring Variation"
    },
    {
      "cell_type": "markdown",
      "metadata": {
        "cell_id": "743700ebe16d4dd4b748d5d67dbda0f5",
        "deepnote_cell_height": 88.75,
        "deepnote_cell_type": "markdown",
        "tags": []
      },
      "source": "For today, let's focus on the variable `Happiness`.\n\n2.1 - Make some visualizations of how countries vary in their happiness. "
    },
    {
      "cell_type": "code",
      "execution_count": null,
      "metadata": {
        "cell_id": "8ee27190d0d941b0bbcc3f1adf88fdcb",
        "deepnote_cell_type": "code",
        "execution_context_id": "5b738510-18fe-4af7-aa9a-d0908620102d",
        "execution_millis": 0,
        "execution_start": 1734638261808,
        "source_hash": "6351ca13",
        "trusted": true
      },
      "outputs": [],
      "source": "#write some code here"
    },
    {
      "cell_type": "markdown",
      "metadata": {
        "cell_id": "5bc6a1635cc24a8bb1ce0f13591f862f",
        "deepnote_cell_height": 74.75,
        "deepnote_cell_type": "markdown",
        "tags": []
      },
      "source": "2.2 - This data set is a little \"old\" (it's from 2021). If we collected data today, would we get the same distribution? Would anything be different? Would anything be the same? "
    },
    {
      "cell_type": "markdown",
      "metadata": {
        "cell_id": "89e79b9c4e8748239cb3afc77a0c9548",
        "deepnote_cell_height": 69.96875,
        "deepnote_cell_type": "markdown",
        "tags": []
      },
      "source": "## 3.0 - Modeling Variation"
    },
    {
      "cell_type": "markdown",
      "metadata": {
        "cell_id": "996ca2db363641feac7b3730d5c4717f",
        "deepnote_cell_height": 74.75,
        "deepnote_cell_type": "markdown",
        "tags": []
      },
      "source": "3.1 - If we had to predict a randomly selected country's happiness, we could use the mean as a very simple model. Put that number into your visualization above."
    },
    {
      "cell_type": "markdown",
      "metadata": {
        "cell_id": "205240b02b2445c7a9ae1fa74a9403a8",
        "deepnote_cell_height": 119.53125,
        "deepnote_cell_type": "markdown",
        "tags": []
      },
      "source": "3.2 - `R` is constantly changing. Recently, we asked the developers of `mosaic` and `ggformula` to write an easier function for fitting a normal curve for us... and they did it! They called it `gf_fitdistr()` and it works with density histograms. Modify the following code to fit a normal distribution onto the histogram of happiness."
    },
    {
      "cell_type": "code",
      "execution_count": null,
      "metadata": {
        "cell_id": "98d97599441a4841bdd705647e2cb321",
        "deepnote_cell_height": 78.953125,
        "deepnote_cell_type": "code",
        "execution_context_id": "5b738510-18fe-4af7-aa9a-d0908620102d",
        "execution_millis": 1,
        "execution_start": 1734635179620,
        "source_hash": "6cf68ae0",
        "tags": [],
        "trusted": true
      },
      "outputs": [],
      "source": "# gf_dhistogram(~ Thumb, data = Fingers, fill = \"coral2\") %>%\n# gf_fitdistr(color = \"darkblue\")"
    },
    {
      "cell_type": "markdown",
      "metadata": {
        "cell_id": "832112966b2e49609643f5ef25cb2d30",
        "deepnote_cell_height": 74.75,
        "deepnote_cell_type": "markdown",
        "tags": []
      },
      "source": "3.3 - Add the mean to the histogram above (in blue). Also add Cameroon's happiness (as a gold colored line)."
    },
    {
      "cell_type": "markdown",
      "metadata": {
        "cell_id": "43b1b219e1c141f58b1714ace0ec24fd",
        "deepnote_cell_height": 97.140625,
        "deepnote_cell_type": "markdown",
        "tags": []
      },
      "source": "3.4 - (Everybody Gestures) I'm going to tell you the standard deviation of Happiness. Gesture that standard deviation on the histogram. Is Cameroon within 1 standard deviation from the mean (aka in zone 1)?"
    },
    {
      "cell_type": "markdown",
      "metadata": {
        "cell_id": "334f0ec6f934435690b8026fe482f12c",
        "deepnote_cell_height": 97.140625,
        "deepnote_cell_type": "markdown",
        "tags": []
      },
      "source": "3.5 - (Everybody Gestures) How big would our residual be if we had predicted Cameroon's happiness with the mean? Is that going to be bigger than or smaller than the standard deviation? Then estimate the number."
    },
    {
      "cell_type": "markdown",
      "metadata": {
        "cell_id": "223925288c854c219fc0cb5c1c019814",
        "deepnote_cell_height": 74.75,
        "deepnote_cell_type": "markdown",
        "tags": []
      },
      "source": "3.6 - (Everybody Gestures) In the histogram, what percentage of countries had lower happiness levels than Cameroon? Gesture and then estimate the number."
    },
    {
      "cell_type": "markdown",
      "metadata": {
        "cell_id": "0880e6feb3694ea1b60a47a450ed49ea",
        "deepnote_cell_height": 74.75,
        "deepnote_cell_type": "markdown",
        "tags": []
      },
      "source": "3.7 - What is the likelihood that a randomly selected country will have a lower happiness than Cameroon? Try to answer this question using the data as a model."
    },
    {
      "cell_type": "markdown",
      "metadata": {
        "cell_id": "bd08cb7a141844b5b8ee9769d63d8906",
        "deepnote_cell_height": 155.9375,
        "deepnote_cell_type": "markdown",
        "tags": []
      },
      "source": "3.8 - We all said at the beginning that if we ever collected this data again, all these numbers will probably be different. So maybe next time the data won't look exactly like this data. That's why the data isn't usually the greatest model of the DGP.\n\nWhat is the likelihood that a randomly selected country will have a lower happiness than Cameroon? Now answer this question using the normal distribution as a model."
    },
    {
      "cell_type": "markdown",
      "metadata": {
        "cell_id": "1b200c9311f74cd4a6483662b70599ce",
        "deepnote_cell_height": 52.359375,
        "deepnote_cell_type": "markdown",
        "tags": []
      },
      "source": "3.9 - What does the z-score of Cameroon mean? "
    },
    {
      "cell_type": "markdown",
      "metadata": {
        "cell_id": "f54bcbe9492f4397b5e28d04efbe8215",
        "deepnote_cell_height": 109.96875,
        "deepnote_cell_type": "markdown",
        "tags": []
      },
      "source": "## (BONUS) 4.0 - Is the DGP of happiness even normal?"
    },
    {
      "cell_type": "markdown",
      "metadata": {
        "cell_id": "c6ccd33f7c994aad92c6f49211fbea41",
        "deepnote_cell_height": 192.328125,
        "deepnote_cell_type": "markdown",
        "tags": []
      },
      "source": "Many times, students just don't think the normal model is all that important because data look jagged rather than normal to them. It might help to do the following simulation.\n\nThe function `rnorm` is introduced later in the book but it might be helpful here. It will simulate a data point drawn from a normal distribution with a particular mean and standard deviation. First try running the code a few times.\n\n4.1 - Try modifying the code to simulate 147 countries' happiness ratings.\n"
    },
    {
      "cell_type": "code",
      "execution_count": null,
      "metadata": {
        "cell_id": "78acaf34fa134906b3cfe89c1c28b919",
        "deepnote_cell_height": 96.953125,
        "deepnote_cell_type": "code",
        "execution_context_id": "4222a899-41d3-4223-9093-52ab283b9ca7",
        "execution_millis": 24,
        "execution_start": 1742584477107,
        "output_cleared": false,
        "source_hash": "d8a0c1b7",
        "tags": [],
        "trusted": true
      },
      "outputs": [],
      "source": "Happy_stats <- favstats(~Happiness, data = HappyPlanetIndexData)\n\nrnorm(1, mean = Happy_stats$mean, sd = Happy_stats$sd)"
    },
    {
      "cell_type": "code",
      "execution_count": null,
      "metadata": {
        "cell_id": "d05f5ce1824a4159a6add41fbfb4d6b4",
        "deepnote_cell_height": 186.953125,
        "deepnote_cell_type": "code",
        "execution_context_id": "5b738510-18fe-4af7-aa9a-d0908620102d",
        "execution_millis": 276,
        "execution_start": 1734635179728,
        "output_cleared": false,
        "source_hash": "47d365ad",
        "tags": [],
        "trusted": true
      },
      "outputs": [],
      "source": "# Run this code a few times. What do you think each line does?\n\n# What does this do?\nsim_Happiness <- rnorm(147, mean = Happy_stats$mean, sd = Happy_stats$sd)\n\n# What does this do?\ngf_dhistogram(~ sim_Happiness, color = \"magenta3\") %>%\n    gf_fitdistr()"
    },
    {
      "cell_type": "markdown",
      "metadata": {
        "cell_id": "fe66710380bb4f9285f7a2340a19f7be",
        "deepnote_cell_height": 74.75,
        "deepnote_cell_type": "markdown",
        "tags": []
      },
      "source": "4.2 - These data are all simulated from a normal distribution. We know they specifically come from a normal distribution. Do samples from a normal distribution **always look** normal?"
    },
    {
      "cell_type": "markdown",
      "metadata": {
        "cell_id": "8f67dc3ac8f547c8a828e8391a3ec158",
        "deepnote_cell_height": 74.75,
        "deepnote_cell_type": "markdown",
        "tags": []
      },
      "source": "4.3 - Even though the distribution of happiness doesn't look perfectly normal, could the DGP of happiness be roughly normal?"
    }
  ],
  "metadata": {
    "deepnote_notebook_id": "3d35ffea42424cf0897bb352079331d3",
    "kernelspec": {
      "display_name": "R",
      "language": "R",
      "name": "ir"
    },
    "language_info": {
      "codemirror_mode": "r",
      "file_extension": ".r",
      "mimetype": "text/x-r-source",
      "name": "R",
      "pygments_lexer": "r",
      "version": "4.3.3"
    },
    "nbsimplegrader": {
      "publish_config": {
        "classes": [],
        "options": {},
        "tools": []
      }
    }
  },
  "nbformat": 4,
  "nbformat_minor": 1
}