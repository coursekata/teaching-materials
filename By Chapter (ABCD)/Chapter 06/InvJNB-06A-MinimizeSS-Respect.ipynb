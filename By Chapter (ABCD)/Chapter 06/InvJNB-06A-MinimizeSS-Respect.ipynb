{
  "cells": [
    {
      "cell_type": "markdown",
      "metadata": {
        "cell_id": "b0d57361f97946328ea1ab4a721abf34",
        "deepnote_cell_height": 133.953125,
        "deepnote_cell_type": "markdown",
        "tags": []
      },
      "source": "# 6A: Respect: Does it make a difference?"
    },
    {
      "cell_type": "code",
      "execution_count": null,
      "metadata": {
        "cell_id": "fca72a1ffee040e6a094bc527828f4b3",
        "deepnote_cell_height": 231.5625,
        "deepnote_cell_type": "code",
        "deepnote_to_be_reexecuted": false,
        "execution_context_id": "963fa0e8-e457-411d-a835-adf4ed06a3b9",
        "execution_millis": 1035,
        "execution_start": 1737142962183,
        "output_cleared": false,
        "source_hash": "116f7300",
        "tags": [],
        "trusted": true
      },
      "outputs": [],
      "source": "# This code will load the R packages we will use\nsuppressPackageStartupMessages({\n    library(coursekata)\n})"
    },
    {
      "cell_type": "markdown",
      "metadata": {
        "cell_id": "c5a76a073df749c7a4339130b583bb35",
        "deepnote_cell_height": 69.96875,
        "deepnote_cell_type": "markdown",
        "tags": []
      },
      "source": "## 1.0 - The Research Question"
    },
    {
      "cell_type": "markdown",
      "metadata": {
        "cell_id": "9fbf31c6205143099165d373bb3e2fb2",
        "deepnote_cell_height": 178.328125,
        "deepnote_cell_type": "markdown",
        "tags": []
      },
      "source": "Do you think you would be more likely to do something if the person asking was being respectful, even if the thing they are asking you to do is unpleasant?\n\nThat’s what some researchers (Yeager, Hirschi, and Josephs) wanted to know. They had a hypothesis: Respectful instructions will make people (especially adolescents) more likely to follow the medical advice of their doctor. What do you think about this hypothesis? How would we write this idea as a word equation?"
    },
    {
      "cell_type": "markdown",
      "metadata": {
        "cell_id": "a84621cda2814739af37b31d73c51a82",
        "deepnote_cell_height": 69.96875,
        "deepnote_cell_type": "markdown",
        "tags": []
      },
      "source": "## The Study"
    },
    {
      "cell_type": "markdown",
      "metadata": {
        "cell_id": "7803043ddc354807a5a44b5a3114b6da",
        "deepnote_cell_height": 527.109375,
        "deepnote_cell_type": "markdown",
        "tags": []
      },
      "source": "<img src=\"https://coursekata-course-assets.s3.us-west-1.amazonaws.com/UCLATALL/czi-stats-course/jnb_4XXsLVVs-6-A-Vegemite-Tasting.png\" title=\"Vegemite, students find it gross\"/>"
    },
    {
      "cell_type": "markdown",
      "metadata": {
        "cell_id": "926cf542f7dd4d8b94608e76039d49a1",
        "deepnote_cell_height": 549.625,
        "deepnote_cell_type": "markdown",
        "tags": []
      },
      "source": "<img src=\"https://coursekata-course-assets.s3.us-west-1.amazonaws.com/UCLATALL/czi-stats-course/jnb_8NHqC3fg-6-A-Study-Sequence.png\" title=\"study procedure, taste first, then instruction video, then students could decide how much medicine to eat\"/>"
    },
    {
      "cell_type": "markdown",
      "metadata": {
        "cell_id": "99381d374d5649aa84a27d1580275253",
        "deepnote_cell_height": 535.234375,
        "deepnote_cell_type": "markdown",
        "tags": []
      },
      "source": "<img src=\"https://coursekata-course-assets.s3.us-west-1.amazonaws.com/UCLATALL/czi-stats-course/jnb_9VvG7FTG-6-A-Condition-Instructions.png\" title=\"Respect versus No Respect Video Scripts\" />"
    },
    {
      "cell_type": "markdown",
      "metadata": {
        "cell_id": "0b30443cbf3e4467ba6233b8b7c7ca22",
        "deepnote_cell_height": 69.96875,
        "deepnote_cell_type": "markdown",
        "tags": []
      },
      "source": "## 2.0 - The Data"
    },
    {
      "cell_type": "markdown",
      "metadata": {
        "cell_id": "999219122a224fa194614d212c3650e0",
        "deepnote_cell_height": 97.140625,
        "deepnote_cell_type": "markdown",
        "tags": []
      },
      "source": "For other reasons, the researchers also had access to some other information about these participants (e.g., their baseline testosterone from a saliva sample, survey responses to narcissism, openness, etc.). "
    },
    {
      "cell_type": "code",
      "execution_count": null,
      "metadata": {
        "cell_id": "44bc96aca09c40358baf6cee7c3e111f",
        "deepnote_cell_height": 188.953125,
        "deepnote_cell_type": "code",
        "execution_context_id": "963fa0e8-e457-411d-a835-adf4ed06a3b9",
        "execution_millis": 1,
        "execution_start": 1737143582823,
        "output_cleared": false,
        "source_hash": "96ceabb1",
        "tags": [],
        "trusted": true
      },
      "outputs": [],
      "source": "# We have loaded the csv link into an object called linktocsv\n# Use that object to write some code to get this data into a data frame called respect_study\nlinktocsv <- \"https://docs.google.com/spreadsheets/d/e/2PACX-1vShHDu7P5XnUWo_xBtB67I00R-TTCyB73GyILmjlMq3LGM-kHFg-rIBQwB4upLOU7mTXG6fg8QxTLhB/pub?gid=191363782&single=true&output=csv\"\n\n\n# Run some code to check out the data. What are the cases?\n"
    },
    {
      "cell_type": "markdown",
      "metadata": {
        "cell_id": "14b95720811c455db5bb580722de0cb4",
        "deepnote_cell_height": 683.734375,
        "deepnote_cell_type": "markdown",
        "tags": []
      },
      "source": "Here are the variables in the data frame `respect_study`:\n- `subject` ID for the participant.\n- `respect_condition` Whether the participant watched the \"Respect\" or \"No Respect\" video\n- `testosterone` The measure of the testosterone via the saliva sample\n- `spoon1_before` The mass (grams) of the Vegemite in the 1st spoon before it was given.\n- `spoon1_after` The mass (grams) of the Vegemite in the 1st spoon after it was given.\n- `spoon2_before` The mass (grams) of the Vegemite in the 2nd spoon before it was given.\n- `spoon2_after` The mass (grams) of the Vegemite in the 2nd spoon after it was given.\n- `ravens_correct` Number of items answered correctly in a Standardized Progressive Matrix\n- `openness` Score from the Big Five personality test (OCEAN), 1 (low) - 7 (high)\n- `conscientious` Score from the Big Five personality test (OCEAN), 1 (low) - 7 (high)\n- `extraversion` Score from the Big Five personality test (OCEAN), 1 (low) - 7 (high)\n- `agreeable` Score from the Big Five personality test (OCEAN), 1 (low) - 7 (high)\n- `narcissism` Score from the Big Five personality test (OCEAN), 1 (low) - 7 (high)\n- `emotion_stability` Average score from questions regarding emotional stability, 1 (low) - 7 (high)\n- `reactance` Average score from questions regarding reactance, 1 (low) - 7 (high)\n- `subjective_power` Average score from questions regarding subjective power, 1 (low) - 7 (high)\n- `aggressive_right_now` “How aggressive are you feeling right now?”, 1 (low) - 7 (high)\n- `sex_drive_right_now` “How high is your sex drive right now?”, 1 (low) - 7 (high)\n- `campus_greek` Are you in a fraternity or sorority?\n- `status` Average score from questions regarding personal status, 1 (low) - 7 (high)\n- `competent` Average score from questions regarding self-competence, 1 (low) - 7 (high)\n- `autonomous` Average score from questions regarding autonomy, 1 (low) - 7 (high)\n- `respectful` Measure of how respectful they felt the researcher was, 1 (low) - 7 (high)"
    },
    {
      "cell_type": "markdown",
      "metadata": {
        "cell_id": "9493d5ba753b4f70b85864202e1e31bb",
        "deepnote_cell_height": 97.140625,
        "deepnote_cell_type": "markdown",
        "tags": []
      },
      "source": "2.1 - Identify the variables that are most relevant to the respect hypothesis. What would be the outcome variable? Is there something like \"amount of Vegemite eaten after watching the video\" in this list of variables? How could we create such a variable in our data frame?"
    },
    {
      "cell_type": "markdown",
      "metadata": {
        "cell_id": "cd47fa23f8064a6ab1072b215dece68e",
        "deepnote_cell_height": 74.75,
        "deepnote_cell_type": "markdown",
        "tags": []
      },
      "source": "2.2 - Which is the explanatory variable? Should we use `respect_condition` or `respectful` to explore the researchers' hypothesis? Why?"
    },
    {
      "cell_type": "markdown",
      "metadata": {
        "cell_id": "cbb88aaf395e45ea8f96a3a63f1a1b71",
        "deepnote_cell_height": 69.96875,
        "deepnote_cell_type": "markdown",
        "tags": []
      },
      "source": "## 3.0 - Exploring Variation"
    },
    {
      "cell_type": "markdown",
      "metadata": {
        "cell_id": "06cdcba5d82b458e81dd063fcc159783",
        "deepnote_cell_height": 52.359375,
        "deepnote_cell_type": "markdown",
        "tags": []
      },
      "source": "3.1 - Explore the variation in the outcome variable using a plot or graph. "
    },
    {
      "cell_type": "markdown",
      "metadata": {
        "cell_id": "91bc4765428b468293f36973c1deb84d",
        "deepnote_cell_height": 52.359375,
        "deepnote_cell_type": "markdown",
        "tags": []
      },
      "source": "3.2 - Also make some visualizations to explore the respect hypothesis."
    },
    {
      "cell_type": "markdown",
      "metadata": {
        "cell_id": "e8fb0dafd29d4fce8fdb8fe349c338d5",
        "deepnote_cell_height": 52.359375,
        "deepnote_cell_type": "markdown",
        "tags": []
      },
      "source": "3.3 - What does a value of zero mean on this outcome variable? What does a high value mean? "
    },
    {
      "cell_type": "markdown",
      "metadata": {
        "cell_id": "3a9068d04cdc4e77b4fb126375b2497c",
        "deepnote_cell_height": 74.75,
        "deepnote_cell_type": "markdown",
        "tags": []
      },
      "source": "3.4 - Did respect make a difference in how much Vegemite the participants ate after watching \nthe video? Make an argument for EACH side (strictly based on what you see in the data)."
    },
    {
      "cell_type": "markdown",
      "metadata": {
        "cell_id": "99903f5c27e24a57a63bf664376bee61",
        "deepnote_cell_height": 156.53125,
        "deepnote_cell_type": "markdown",
        "tags": []
      },
      "source": "- PRO (Some reasons respect DID make a difference):\n\n> - reason 1\n> - reason 2\n> - etc..."
    },
    {
      "cell_type": "markdown",
      "metadata": {
        "cell_id": "37decdca50c24b54bc5d057d75615ea2",
        "deepnote_cell_height": 156.53125,
        "deepnote_cell_type": "markdown",
        "tags": []
      },
      "source": "\n- CON (Some reasons respect did NOT make a difference):\n\n> - reason 1\n> - reason 2\n> - etc..."
    },
    {
      "cell_type": "markdown",
      "metadata": {
        "cell_id": "8284fa9196b9472f8e8f250610769e5a",
        "deepnote_cell_height": 52.359375,
        "deepnote_cell_type": "markdown",
        "tags": []
      },
      "source": "3.5 - Could this pattern of data be the result of randomness? "
    },
    {
      "cell_type": "markdown",
      "metadata": {
        "cell_id": "cfa65ceee28747e5969df5ae92699836",
        "deepnote_cell_height": 69.96875,
        "deepnote_cell_type": "markdown",
        "tags": []
      },
      "source": "## 4.0 - Creating Some Simple Models"
    },
    {
      "cell_type": "markdown",
      "metadata": {
        "cell_id": "a4f80e059c30493699568d4fc2266bce",
        "deepnote_cell_height": 97.140625,
        "deepnote_cell_type": "markdown",
        "tags": []
      },
      "source": "4.1 - If we used the mean as our empty model to predict how much Vegemite someone in this study would eat (regardless of condition), what would we have predicted? How many people would we have predicted correctly?\n"
    },
    {
      "cell_type": "code",
      "execution_count": null,
      "metadata": {
        "cell_id": "f69fe6c556464f1086b1fa9b11ff37fa",
        "deepnote_cell_height": 75.953125,
        "deepnote_cell_type": "code",
        "deepnote_to_be_reexecuted": true,
        "output_cleared": true,
        "source_hash": "93190355",
        "tags": [],
        "trusted": true
      },
      "outputs": [],
      "source": "# Write some code here"
    },
    {
      "cell_type": "markdown",
      "metadata": {
        "cell_id": "c3f33b1ee1a24bc2bfcddd655bd30513",
        "deepnote_cell_height": 52.359375,
        "deepnote_cell_type": "markdown",
        "tags": []
      },
      "source": "4.2 - The mean might be a terrible model for this data. Why does it seem so terrible?\n"
    },
    {
      "cell_type": "markdown",
      "metadata": {
        "cell_id": "9813aef088534f37bab012826b486e66",
        "deepnote_cell_height": 74.75,
        "deepnote_cell_type": "markdown",
        "tags": []
      },
      "source": "4.3 - If we used the mode as our empty model to predict how much Vegemite someone in this study would eat, what would we predict? How many people would we have predicted correctly?"
    },
    {
      "cell_type": "code",
      "execution_count": null,
      "metadata": {
        "cell_id": "67c3c33ee66545c580661735372ebfc2",
        "deepnote_cell_height": 75.953125,
        "deepnote_cell_type": "code",
        "deepnote_to_be_reexecuted": true,
        "output_cleared": true,
        "source_hash": "93190355",
        "tags": [],
        "trusted": true
      },
      "outputs": [],
      "source": "# Write some code here"
    },
    {
      "cell_type": "markdown",
      "metadata": {
        "cell_id": "11fc17cf3d484c21915e1434da57f02e",
        "deepnote_cell_height": 74.75,
        "deepnote_cell_type": "markdown",
        "tags": []
      },
      "source": "4.4 - Use `favstats()` to put the mean into your visualization (as a blue line). Also put the mode into your visualization (as a green line). "
    },
    {
      "cell_type": "code",
      "execution_count": null,
      "metadata": {
        "cell_id": "bf5a5ab5a96d4d1788fd5157a09bf766",
        "deepnote_cell_height": 116.953125,
        "deepnote_cell_type": "code",
        "deepnote_to_be_reexecuted": true,
        "output_cleared": true,
        "source_hash": "2e2f2d15",
        "tags": [],
        "trusted": true
      },
      "outputs": [],
      "source": "# Feel free to copy and paste your visualization from above here.\n# Hint: You can pipe on a line to any faceted histograms, boxplot, jitter, etc.\n# Try functions like gf_vline (for vertical lines) or gf_hline (for horizontal)"
    },
    {
      "cell_type": "markdown",
      "metadata": {
        "cell_id": "8a420d3f18924adab94bd0537e227f58",
        "deepnote_cell_height": 74.75,
        "deepnote_cell_type": "markdown",
        "tags": []
      },
      "source": "4.5 - Even though we would have predicted more people correctly using the mode, why might the mean still be a useful model for this data?"
    },
    {
      "cell_type": "markdown",
      "metadata": {
        "cell_id": "3c08347750a34f7a9a070f6e7a6e8db0",
        "deepnote_cell_height": 69.96875,
        "deepnote_cell_type": "markdown",
        "tags": []
      },
      "source": "## 5.0 - Error from the Models"
    },
    {
      "cell_type": "markdown",
      "metadata": {
        "cell_id": "ffef23c70e874edeb6bcc3240d18372f",
        "deepnote_cell_height": 161.953125,
        "deepnote_cell_type": "markdown",
        "tags": []
      },
      "source": "5.1 - Here is how we might write the mode as an empty model in GLM notation:\n\n$$Y_i = 0 + e_i$$\n\nModify this copy below to write the mean (the number) as the empty model:\n\n$$Y_i = 0 + e_i$$"
    },
    {
      "cell_type": "markdown",
      "metadata": {
        "cell_id": "eabe2ee7f98a4819aa6e768642cade77",
        "deepnote_cell_height": 97.140625,
        "deepnote_cell_type": "markdown",
        "tags": []
      },
      "source": "5.2 - Let's imagine we are going to use the mode as our model. Take a look at the first student in the sample. How would you represent that student in GLM format? What would be that student's DATA? MODEL? ERROR?"
    },
    {
      "cell_type": "markdown",
      "metadata": {
        "cell_id": "8462aa93b3804892b5cd277b3b931939",
        "deepnote_cell_height": 74.953125,
        "deepnote_cell_type": "markdown",
        "tags": []
      },
      "source": "5.3 - In the visualization you made above, where would the residuals ($$e_i$$) for each model be? Which model \"balances\" the residuals?"
    },
    {
      "cell_type": "markdown",
      "metadata": {
        "cell_id": "f4fbf934d94547718b8787fc50fd9ea3",
        "deepnote_cell_height": 119.53125,
        "deepnote_cell_type": "markdown",
        "tags": []
      },
      "source": "5.4 - If we calculated the sum of squared residuals off the mean versus off the mode, which model would have the lower SS? Make your prediction then try calculating these with R. (Note: There are easy functions to do that for the mean but not for the mode. But you can create a column of residuals from 0, square them, and add them up.) \n"
    },
    {
      "cell_type": "code",
      "execution_count": null,
      "metadata": {
        "cell_id": "b2707fac6e7e43e59af66d6844f31632",
        "deepnote_cell_height": 75.953125,
        "deepnote_cell_type": "code",
        "deepnote_to_be_reexecuted": true,
        "output_cleared": true,
        "source_hash": "856a708d",
        "tags": [],
        "trusted": true
      },
      "outputs": [],
      "source": "# Write code here."
    },
    {
      "cell_type": "markdown",
      "metadata": {
        "cell_id": "8431bd211d2a4d55b919bc1f6eba367f",
        "deepnote_cell_height": 119.53125,
        "deepnote_cell_type": "markdown",
        "tags": []
      },
      "source": "5.5 - To decide which is a better model, we always have to make explicit how we are measuring \"error\" (how off the model is). One way of measuring error is to count up how many predictions were correct versus incorrect. Which model minimizes that kind of error? What kind of error does the other model minimize?"
    },
    {
      "cell_type": "markdown",
      "metadata": {
        "cell_id": "b4678e638b1b46d385c24374f0d397ec",
        "deepnote_cell_height": 69.96875,
        "deepnote_cell_type": "markdown",
        "tags": []
      },
      "source": "## 6.0 - Closing Thoughts"
    },
    {
      "cell_type": "markdown",
      "metadata": {
        "cell_id": "e52e851a3009415a98b26e790c5eb092",
        "deepnote_cell_height": 155.9375,
        "deepnote_cell_type": "markdown",
        "tags": []
      },
      "source": "For reasons that are a bit opaque now, in statistics, we really value the **Sum of Squares** as a measure of error. As we progress through the course, we will continue to learn more about its special properties. Squaring, as odd as it seems right now, will allow us to do some cool stuff in the following chapters.\n\nHere are some questions to think about:"
    },
    {
      "cell_type": "markdown",
      "metadata": {
        "cell_id": "34bc7d9080c3499eb41569f085bb74f8",
        "deepnote_cell_height": 74.75,
        "deepnote_cell_type": "markdown",
        "tags": []
      },
      "source": "6.1 - Think about the way we represent our models: DATA = MODEL + ERROR. Could there be a model so good that there is no need to add “ERROR” to it?"
    },
    {
      "cell_type": "markdown",
      "metadata": {
        "cell_id": "e11562ac994a491f9973e2f65ca575b3",
        "deepnote_cell_height": 97.140625,
        "deepnote_cell_type": "markdown",
        "tags": []
      },
      "source": "6.2 - If we shuffled this `respect_study` data such that the Vegemite eaten would be randomly categorized into two groups, would the empty model for that data change? Why or why not? Why is the empty model a good way to represent a random DGP?\n"
    },
    {
      "cell_type": "code",
      "execution_count": null,
      "metadata": {
        "cell_id": "fb12be32205444ffbbe92a6f253eaab8",
        "deepnote_cell_height": 530.953125,
        "deepnote_cell_type": "code",
        "deepnote_to_be_reexecuted": true,
        "output_cleared": true,
        "source_hash": "2983bd43",
        "tags": [],
        "trusted": true
      },
      "outputs": [],
      "source": "# Here's a set of visualizations where the outcome gets shuffled \n# and the empty model is fit from the shuffled data.\n# Run it a few times to see if the empty model changes.\n\n\n    # this creates the outcome variable\nrespect_study$veg_eaten <- respect_study$spoon2_before - respect_study$spoon2_after\n\n    # this shuffles the outcome\nrespect_study$shuffled_veg_eaten <- shuffle(respect_study$veg_eaten)\n\n    # gets the favstats of the outcome\nshuff_stats <- favstats(~ shuffled_veg_eaten, data = respect_study)\n\n    # makes a histogram of the shuffled data\ngf_histogram(~ shuffled_veg_eaten, data = respect_study, fill = \"purple4\", color = \"purple3\") %>%\n    gf_facet_grid(respect_condition ~ .) %>%\n    gf_vline(xintercept = ~mean, data = shuff_stats) %>%\n    gf_labs(title = \"veg_eaten has been shuffled\")\n\n    # makes a jitter plot of same data\ngf_jitter(shuffled_veg_eaten ~ respect_condition, data = respect_study, size = 5, alpha = .2, height = 0, color = \"purple\") %>%\n    gf_hline(yintercept = ~mean, data = shuff_stats) %>%\n    gf_labs(title = \"veg_eaten has been shuffled\")\n\n"
    }
  ],
  "metadata": {
    "deepnote_notebook_id": "35cd9f326d7f45e9ab251a16b4093faf",
    "kernelspec": {
      "display_name": "R",
      "language": "R",
      "name": "ir"
    },
    "language_info": {
      "codemirror_mode": "r",
      "file_extension": ".r",
      "mimetype": "text/x-r-source",
      "name": "R",
      "pygments_lexer": "r",
      "version": "4.3.3"
    },
    "nbsimplegrader": {
      "publish_config": {
        "classes": [],
        "options": [],
        "tools": []
      }
    }
  },
  "nbformat": 4,
  "nbformat_minor": 1
}