{
  "cells": [
    {
      "cell_type": "markdown",
      "metadata": {
        "cell_id": "ac933972-2116-4eb2-add6-27266b1063a8"
      },
      "source": "# Catching Errors Part 2: Digging Deeper (COMPLETE)\n\n## Chapter 6.1 - 6.3"
    },
    {
      "cell_type": "code",
      "execution_count": null,
      "metadata": {
        "cell_id": "86968422-31d9-4355-977e-8ab4799e937d",
        "trusted": true
      },
      "outputs": [],
      "source": "# This code will load the R packages we will use\nlibrary(coursekata)\n\n# set styles\ncss <- suppressWarnings(readLines(\"https://raw.githubusercontent.com/jimstigler/jupyter/master/ck_jupyter_styles_v2.css\"))\nIRdisplay::display_html(sprintf('<style>%s</style>', paste(css, collapse = \"\\n\")))"
    },
    {
      "cell_type": "markdown",
      "metadata": {},
      "source": "<div class=\"teacher-note\">\n    <b>Teacher Note:</b> The purpose of this mini-JNB is to extends students' understanding of model error by introducing variance, and guiding them through calculating and interpreting this value using data from the reflex activity. It builds on the empty model to deepen students’ grasp of spread and typical deviation.\n</div>"
    },
    {
      "cell_type": "markdown",
      "metadata": {
        "cell_id": "1373d2ec-6ddf-4692-a848-171dc40ee40e"
      },
      "source": "## Problem #1:\n\nCopy and paste code for the `fast_reflex` data frame in the previous MiniJNB."
    },
    {
      "cell_type": "code",
      "execution_count": null,
      "metadata": {
        "trusted": true
      },
      "outputs": [],
      "source": "#Copy and paste\n\nID <- 1:24\nReflex <- c(22.0, 19.4, 22.6, 26.1, 19.1, 19.1, 26.0, 22.5, 18.9, 18.9, \n            14.6, 20.9, 18.6, 18.6, 19.4, 19.0, 13.8, 21.0, 21.0, 17.5, \n            16.3, 16.3, 19.7, 17.9)\n\nfast_reflex <- data.frame(ID, Reflex)\n\nhead(fast_reflex)"
    },
    {
      "cell_type": "markdown",
      "metadata": {
        "cell_id": "a597e788-306f-47e6-a2e4-a3a17bd968de"
      },
      "source": "## Problem #2:\n\nCalculate variance in two different ways."
    },
    {
      "cell_type": "code",
      "execution_count": null,
      "metadata": {
        "trusted": true
      },
      "outputs": [],
      "source": "#write code here\n\n#sample code\nvar(fast_reflex$Reflex)\n\nempty_model <- lm(Reflex ~ NULL, data = fast_reflex)\nsupernova(empty_model)"
    }
  ],
  "metadata": {
    "celltoolbar": "nbsimplegrader",
    "deepnote_execution_queue": [],
    "deepnote_notebook_id": "2b51a89a-e42e-4675-9260-1000d5b5ae22",
    "kernelspec": {
      "display_name": "R",
      "language": "R",
      "name": "ir"
    },
    "language_info": {
      "codemirror_mode": "r",
      "file_extension": ".r",
      "mimetype": "text/x-r-source",
      "name": "R",
      "pygments_lexer": "r",
      "version": "4.3.3"
    },
    "nbsimplegrader": {
      "publish_config": {
        "classes": [],
        "options": {},
        "tools": []
      }
    }
  },
  "nbformat": 4,
  "nbformat_minor": 2
}