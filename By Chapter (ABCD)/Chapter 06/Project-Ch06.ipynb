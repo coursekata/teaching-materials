{
  "cells": [
    {
      "cell_type": "markdown",
      "metadata": {
        "cell_id": "b39339d557a447899900432995d91f2b",
        "deepnote_cell_height": 82,
        "deepnote_cell_type": "markdown",
        "tags": []
      },
      "source": "# <center>Project (Ch. 1-6): Modeling Variation</center> "
    },
    {
      "cell_type": "code",
      "execution_count": null,
      "metadata": {
        "cell_id": "e632803ed9484c6f9cf390ce60d3fb6c",
        "deepnote_cell_type": "code",
        "deepnote_to_be_reexecuted": false,
        "execution_millis": 1740,
        "execution_start": 1725482550328,
        "output_cleared": false,
        "source_hash": null,
        "trusted": true
      },
      "outputs": [],
      "source": "# Load the CourseKata library\nsuppressPackageStartupMessages({\n    library(coursekata)\n})\n\n# Rename and reorder categories for \"Year\" in StudentSurvey\nStudentSurvey$Year <- factor(as.numeric(StudentSurvey$Year), levels = c(1:5), labels = c(\"\", \"9th\", \"10th\", \"11th\", \"12th\"))\n\n# Load the NFL games Data \n\nnfl_games <- read.csv(\"https://docs.google.com/spreadsheets/d/1AB80wVIbwt1XE6lb3YI8-cmOydWDg8aF2_d9hh0UQ_k/pub?gid=1027337637&single=true&output=csv\")\n\n# Load the World data \n\nWorld <- read.csv(\"https://docs.google.com/spreadsheets/d/1yLn2kQ-1yL3p4VuMmK8ruFBmIWEDp5dlJszl2tKE79k/pub?gid=0&single=true&output=csv\")"
    },
    {
      "cell_type": "markdown",
      "metadata": {
        "cell_id": "a9d203781c2c4476934a6e0209de2988",
        "deepnote_cell_height": 219.1875,
        "deepnote_cell_type": "markdown",
        "tags": []
      },
      "source": "<div class=\"alert alert-block alert-info\">\n\n## Link to Guide and Rubric\nThe **Guide** answers the question \"What is a data analysis report?\" and the **Rubric** can be used to help you write a good data analysis report. \n\nYou can access both the guide and the rubric at this link: https://bit.ly/data-analysis-report-guide\n\n</div>"
    },
    {
      "cell_type": "markdown",
      "metadata": {
        "cell_id": "4a1b20649e6c47d5bbde007f802ccd73",
        "deepnote_cell_height": 603.375,
        "deepnote_cell_type": "markdown"
      },
      "source": "<div class=\"alert alert-block alert-info\">\n\n## Data\n\nThree data frames are preloaded in this notebook using the code above. Explore the data frames and choose one that interests you for this assignment.\n\nOption 1: `World`\n\n- This data frame has data from the countries of the world. It contains 218 observations on 33 variables such as population, life expectancy, GDP, health, economy, and happiness.\n- [Click here](https://docs.google.com/document/d/1otfwo54jp-DNu2HRBVSQ6lO5562P-xPNQJrR_st6KNk/pub) for a description of all the variables.\n\nOption 2: `nfl_games`\n\n- This data frame has data on the results for all NFL games Games from the 1999 to 2023 seasons. It contains 6707 observations on 29 variables such as game date, points scored, game times, temperature, and stadium.\n- [Click here](https://docs.google.com/document/d/1WA-CCYO38RhO0x257pZS62r3m13cKawMzQls4U9y5EE/pub) for a description of all the variables.\n\nOption 3: `StudentSurvey`\n\n- The data set contains data from an in-class survey given to introductory statistics students over several years. It contains 362 observations on 17 variables such as exercise, smoking, GPA, and piercings.\n- [Click here](https://www.rdocumentation.org/packages/Lock5Data/versions/2.6/topics/StudentSurvey) for a description of all the variables. \n\n*NOTE: We have changed the names of the categories in the variable `Year` in the `StudentSurvey` \ndata frame from \"FirstYear, Sophomore, Junior, Senior\" to: \"9th, 10th, 11th, 12th\"*\n\n</div>"
    },
    {
      "cell_type": "markdown",
      "metadata": {
        "cell_id": "cb9522dbe5934f1793d4a32331a1c5a6",
        "deepnote_cell_height": 785.984375,
        "deepnote_cell_type": "markdown",
        "owner_user_id": "23d85493-7ed1-49a4-baa7-630eaab08193",
        "tags": []
      },
      "source": "<div class=\"alert alert-block alert-info\">\n\n## Instructions\n\nYour task is to use R to explore and model variation in the data with the goal of reporting your findings to a target audience.\n\nDepending on which data set you choose, your target audience for your report will be as follows:\n\n- Option 1: `World` --> Audience: Your local policy makers\n- Option 2: `nfl_games` --> Audience: Sports historians or enthusiasts\n- Option 3: `StudentSurvey` --> Audience: Your school newspaper\n\nNote: A full data analysis report will have 5 sections: Introduction, Explore Variation, Model Variation, Evaluate Models, Discussion/Conclusions. At this stage of the course, your report will only include the **first three sections** (Introduction, Explore Variation, and Model Variation), however, it should still be a standalone report, with its own concluding statements.\n\n</div>"
    },
    {
      "cell_type": "markdown",
      "metadata": {
        "cell_id": "28c5a19bce4a412282802252af63d5e5",
        "deepnote_cell_height": 70,
        "deepnote_cell_type": "markdown",
        "owner_user_id": "21cb1e38-7460-4830-8b54-1b548c541f6d"
      },
      "source": "## Intro/Overview of the Problem or Question"
    },
    {
      "cell_type": "markdown",
      "metadata": {
        "cell_id": "0e6034129e4c4526a000fc74a57fce07",
        "deepnote_cell_height": 348.578125,
        "deepnote_cell_type": "markdown",
        "tags": []
      },
      "source": "<div class=\"alert alert-block alert-info\"> \n\nThe goal of this section is to provide an overview of the context, situation, or problem.\n\nA good introduction section typically includes the following topics (but not necessarily in this order): \n\n- A description of the question or problem you are investigating and why this question is important\n\n- A description of the data you will use in your investigation, such as:\n  - where the data came from \n  - why and how it was collected\n  - what cases and variables are included\n\n- Your initial hypothesis (perhaps also stated as a word equation), specifying outcome and explanatory variables, and why you think your hypothesis is plausible\n\n</div>"
    },
    {
      "cell_type": "markdown",
      "metadata": {
        "cell_id": "ed93dc74872a49a9a3545eee617d239b",
        "deepnote_cell_height": 70,
        "deepnote_cell_type": "markdown",
        "tags": []
      },
      "source": "## Explore Variation"
    },
    {
      "cell_type": "markdown",
      "metadata": {
        "cell_id": "0784d1382202450584d619d7b1b94c4d",
        "deepnote_cell_height": 393.375,
        "deepnote_cell_type": "markdown",
        "tags": []
      },
      "source": "<div class=\"alert alert-block alert-info\">\n\nThe goal of this section is to explore variation in your explanatory and outcome variables. That exploration will almost certainly include visual displays of your data.\n\nA good exploring variation section typically includes the following topics (but not necessarily in this order): \n\n- A description of how you cleaned and prepared your data and why, such as: \n  - filtering cases \n  - handling missing data \n  - recoding or creating new variables\n\n- Visualizations or tables to explore the distributions of relevant variables and hypothesized relationships among variables\n\n- Descriptions of the visualizations or tables, and explanations of how they relate to the hypotheses or research questions\n\n</div>"
    },
    {
      "cell_type": "markdown",
      "metadata": {
        "cell_id": "6deb0cb5381f4e6996f0985c823e0c1f",
        "deepnote_cell_height": 70,
        "deepnote_cell_type": "markdown",
        "tags": []
      },
      "source": "## Model Variation "
    },
    {
      "cell_type": "markdown",
      "metadata": {
        "cell_id": "b98ad63b5c784a05aa8805a7f2ef711f",
        "deepnote_cell_height": 298.1875,
        "deepnote_cell_type": "markdown",
        "tags": []
      },
      "source": "<div class=\"alert alert-block alert-info\">\n\nThe goal of this section is to create a model or models that uses explanatory variables to explain some of the variation in your outcome variable.\n\nA good modeling variation section typically includes the following topics (but not necessarily in this order): \n\n- The best fitting model (or models), expressed in GLM notation, to represent your research question \n\n- The interpretation of your parameter estimates in the units appropriate to your research question\n\n- A visual display of your model overlaid on the data \n\n- The creation and interpretation of an ANOVA table to assess how well the model fits the data, and a comparison of the fit of alternative models when applicable \n\n\n</div>"
    },
    {
      "cell_type": "markdown",
      "metadata": {
        "cell_id": "b5785474727341ffb3834a1d285f6926",
        "deepnote_cell_height": 182.796875,
        "deepnote_cell_type": "markdown",
        "tags": []
      },
      "source": "<div class=\"alert alert-block alert-info\">\n\n## After you are done...\n\nGo through this document and delete all the cells with blue text boxes (the instructions). You will be then left with a data analysis report.\n\n</div>"
    },
    {
      "cell_type": "markdown",
      "metadata": {
        "cell_id": "67301c1ee2244f038316761064b7273e",
        "deepnote_cell_height": 70,
        "deepnote_cell_type": "markdown",
        "tags": []
      },
      "source": "## Evaluate Models "
    },
    {
      "cell_type": "markdown",
      "metadata": {
        "cell_id": "8dc29da1729f4e6cbd75a05cbbc227df",
        "deepnote_cell_height": 260.984375,
        "deepnote_cell_type": "markdown",
        "tags": []
      },
      "source": "<div class=\"alert alert-block alert-warning\">\n\n#### COMING SOON\n\nThe goal of this section is to discuss your model in relation to other plausible models of the DGP.\n\nA good evaluating models section typically includes the following topics (but not necessarily in this order): \n\n- The construction and interpretation of a confidence interval in relation to your research question \n\n- An evaluation of your model(s) against the empty model using p-value or confidence intervals, and a rationale for which model you opt to retain \n\n\n</div>"
    },
    {
      "cell_type": "markdown",
      "metadata": {
        "cell_id": "585ca62045634ce2861562d507258363",
        "deepnote_cell_height": 70,
        "deepnote_cell_type": "markdown",
        "tags": []
      },
      "source": "## Conclusions "
    },
    {
      "cell_type": "markdown",
      "metadata": {
        "cell_id": "e8b9a5054bc04613b6e1d38db3d6dc15",
        "deepnote_cell_height": 260.984375,
        "deepnote_cell_type": "markdown"
      },
      "source": "<div class=\"alert alert-block alert-warning\">\n\n#### COMING SOON\n\nThe goal of this section is to help your audience understand what can be learned from your data analysis.\n\nA good conclusion section typically includes the following topics (but not necessarily in this order): \n\n- A summary of what you did, what you found, and how it relates to the motivating question \n\n- A discussion of the implications of the results, what they mean for the audience or the world, and possible limitations of the findings  \n\n\n</div>"
    }
  ],
  "metadata": {
    "deepnote_notebook_id": "211780102e9e41ebb96cd7bdcd947098",
    "kernelspec": {
      "display_name": "R",
      "language": "R",
      "name": "ir"
    },
    "language_info": {
      "codemirror_mode": "r",
      "file_extension": ".r",
      "mimetype": "text/x-r-source",
      "name": "R",
      "pygments_lexer": "r",
      "version": "4.3.3"
    },
    "nbsimplegrader": {
      "publish_config": {
        "classes": [],
        "options": [],
        "tools": []
      }
    }
  },
  "nbformat": 4,
  "nbformat_minor": 1
}