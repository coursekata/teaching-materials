{
  "cells": [
    {
      "cell_type": "markdown",
      "metadata": {
        "cell_id": "d0aebadd85fa4f0890825e4c31780ea2",
        "deepnote_cell_height": 81.953125,
        "deepnote_cell_type": "markdown",
        "tags": []
      },
      "source": "# 6B: The Probability of Pokémon"
    },
    {
      "cell_type": "code",
      "execution_count": null,
      "metadata": {
        "cell_id": "de3a37e060794946b31e69f2d39a6971",
        "deepnote_cell_height": 129.953125,
        "deepnote_cell_type": "code",
        "deepnote_to_be_reexecuted": false,
        "execution_context_id": "b82fe5ff-b7f6-4e3d-91a6-ef5d1ba4a168",
        "execution_millis": 5544,
        "execution_start": 1742592181477,
        "source_hash": "116f7300",
        "tags": [],
        "trusted": true
      },
      "outputs": [],
      "source": "# This code will load the R packages we will use\nsuppressPackageStartupMessages({\n    library(coursekata)\n})"
    },
    {
      "cell_type": "markdown",
      "metadata": {
        "cell_id": "348632d901214de5aa3a31108d22f68c",
        "deepnote_cell_height": 887.109375,
        "deepnote_cell_type": "markdown",
        "tags": []
      },
      "source": "### Welcome to the world of Pokémon (e.g., video games, card game, Pokémon Go, anime)!\n\n<img src=\"https://coursekata-course-assets.s3.us-west-1.amazonaws.com/UCLATALL/czi-stats-course/jnb_wgQQYYyL-6-B-Various-Pokemon.jpg\" title=\"varieties of pokemon\" />\n\nThe Pokémon franchise, introduced originally as a Nintendo video game (1996), is all about catching, training, and battling with Pokémon (a Japanese shortening of “Pocket Monster\"). Over the years, there have come to be over 800 fictional Pokémon species that range from animal-like to plant-like creatures, and even species based on inanimate objects (like *Klang* which looks like interlocking gears). \n\nThere are eighteen different Types of Pokémon (such as Grass, Water, Fire, etc.) and each type has its own individual strengths and weaknesses. For instance, Grass is generally strong against Water, Water is usually strong against Fire, and Fire is generally strong against Grass (similar to the game “Rock, Paper, Scissors”). \n\nThe goal of the game is to become the strongest Trainer by catching and training as many Pokémon as you can and battling them against your opponent’s Pokémon (hence, the slogan “Gotta catch ‘em all!”). When you catch a Pokémon, they shrink down into poké balls that can fit in your pocket."
    },
    {
      "cell_type": "markdown",
      "metadata": {
        "cell_id": "8811bf3197e8489988677160f0e3a929",
        "deepnote_cell_height": 852.890625,
        "deepnote_cell_type": "markdown",
        "tags": []
      },
      "source": "**<center>One of the most well-known Pokémon characters is Pikachu:</center>**\n\n<img src=\"https://coursekata-course-assets.s3.us-west-1.amazonaws.com/UCLATALL/czi-stats-course/jnb_rqWwn871-6-B-Pikachu.png\" title=\"pokemon character pikachu\" width = 300 align = \"center\">\n\n### **<center>Did you know?</center>**\n\n### **<center>Pikachu Name origin:</center>**\n<br>\n<div align=\"center\"><u>Pikapika</u> - Japanese for a ‘sparkle’</div>\n<br>\n<div align=\"center\"><u>Chu</u> - Japanese for a ‘squeak’ sound</div>\n<br>\n<div align=\"center\">(Source: <a href=\"https://pokemondb.net/pokedex/pikachu\">pokemondb.net</a>)</div>"
    },
    {
      "cell_type": "markdown",
      "metadata": {
        "cell_id": "6f70b6d1db37426488ae73973aaf6142",
        "deepnote_cell_height": 69.96875,
        "deepnote_cell_type": "markdown",
        "tags": []
      },
      "source": "## 1.0 - Pokémon Stats"
    },
    {
      "cell_type": "markdown",
      "metadata": {
        "cell_id": "7d76673014ae44a5a4319e06d87e7071",
        "deepnote_cell_height": 74.75,
        "deepnote_cell_type": "markdown",
        "tags": []
      },
      "source": "1.1 - Here is the csv link for some data on the stats for each Pokémon. Put the data into a data frame called `pokemon`."
    },
    {
      "cell_type": "code",
      "execution_count": null,
      "metadata": {
        "cell_id": "07f911bcf0af4f07b73115f934a47a6d",
        "deepnote_cell_height": 83.953125,
        "deepnote_cell_type": "code",
        "output_cleared": true,
        "tags": [],
        "trusted": true
      },
      "outputs": [],
      "source": "linktocsv <- \"https://docs.google.com/spreadsheets/d/e/2PACX-1vTyGgp4Pdt8diSAiJ0MD4WzyRdGMojMePO9DHreNWczPoDYOzWDGRB4MqrQLtC-ytcWb7QozkhYPmQc/pub?output=csv\" \n"
    },
    {
      "cell_type": "markdown",
      "metadata": {
        "cell_id": "2afc3ab46bed4f07bd861f5e337984f0",
        "deepnote_cell_height": 603.578125,
        "deepnote_cell_type": "markdown",
        "tags": []
      },
      "source": "These are the raw attributes that are used for calculating how much damage an attack will do in the games. This dataset is about the Pokémon video games (*NOT* Pokémon cards or Pokémon Go).\n\nThe data frame contains the following variables:\n\n- `ID`: ID for each Pokémon\n- `Name`: Name of each Pokémon\n- `Type1`: Each Pokémon has a Type, this determines weakness/resistance to attacks\n- `Type2`: Some Pokémon are dual Type and have 2\n- `HowManyTypes`: How many Types the Pokémon has (1 or 2)\n- `Total`: Sum of all stats that come after this, a general guide to how strong a Pokémon is\n- `HitPoints`: Hit points, or health, defines how much damage a Pokémon can withstand before fainting\n- `Attack`: The base modifier for normal attacks (eg. Scratch, Punch)\n- `Defense`: The base damage resistance against normal attacks\n- `SpAttack`: Special attack, the base modifier for special attacks (e.g. fire blast, bubble beam)\n- `SpDef`: The base damage resistance against special attacks\n- `Speed`: Determines which Pokémon attacks first each round\n- `Generation`: A grouping of the Pokémon games that separates them based on the Pokémon they include (each generation, a new set of Pokémon, moves, and Abilities that did not exist in the previous generation are released)\n- `Legendary`: A group of incredibly rare and often very powerful Pokémon, generally featured prominently in the legends and myths of the Pokémon world"
    },
    {
      "cell_type": "markdown",
      "metadata": {
        "cell_id": "29e62c9183b641bbbb55cd16b015c2bf",
        "deepnote_cell_height": 69.96875,
        "deepnote_cell_type": "markdown",
        "tags": []
      },
      "source": "## 2.0 - Using R to Play a Hypothetical Game"
    },
    {
      "cell_type": "markdown",
      "metadata": {
        "cell_id": "b74a37cf7ae14b2cb168e7a05fa5a16b",
        "deepnote_cell_height": 97.140625,
        "deepnote_cell_type": "markdown",
        "tags": []
      },
      "source": "For the sake of simplicity, let's try simulating a one-on-one match-up (and for all of the Pokémon pros here today, we acknowledge that a round in the actual game is much more complex than this!)."
    },
    {
      "cell_type": "markdown",
      "metadata": {
        "cell_id": "224d2c8c1270411687bb344326c73cc7",
        "deepnote_cell_height": 74.75,
        "deepnote_cell_type": "markdown",
        "tags": []
      },
      "source": "2.1 - Use R to randomly sample 1 Pokémon for you out of all these possible Pokémon. What is the name of your battle Pokémon? What type is it? Try Googling it to find a picture."
    },
    {
      "cell_type": "code",
      "execution_count": null,
      "metadata": {
        "cell_id": "6429b156fd2d406088cce952288de843",
        "deepnote_cell_height": 96.953125,
        "deepnote_cell_type": "code",
        "tags": [],
        "trusted": true
      },
      "outputs": [],
      "source": "MyPokemon <- sample(pokemon, 1)\n\n# why isn't this printing anything?"
    },
    {
      "cell_type": "markdown",
      "metadata": {
        "cell_id": "84400ffebf5d42b2bc6965fd2ac31620",
        "deepnote_cell_height": 74.75,
        "deepnote_cell_type": "markdown",
        "tags": []
      },
      "source": "2.2 - What are the stats of your battle Pokémon? Do you think it is a strong one? Will it likely have a good chance of beating an opponent? "
    },
    {
      "cell_type": "markdown",
      "metadata": {
        "cell_id": "189615a183d04035b671ad84aba26783",
        "deepnote_cell_height": 97.140625,
        "deepnote_cell_type": "markdown",
        "tags": []
      },
      "source": "2.3 - Let’s take a look at your character’s `HitPoints` as one possible measure of its strength. If your Pokémon goes up against a classmate's Pokémon, who will have the higher `HitPoints`? What information would you need to have a sense of this?"
    },
    {
      "cell_type": "markdown",
      "metadata": {
        "cell_id": "5388a91326e24b0a81737e332f162aeb",
        "deepnote_cell_height": 69.96875,
        "deepnote_cell_type": "markdown",
        "tags": []
      },
      "source": "## 3.0 - A Distribution of Pokemon"
    },
    {
      "cell_type": "markdown",
      "metadata": {
        "cell_id": "3492cb3d099c4ee8aa470f9b457d3cb8",
        "deepnote_cell_height": 74.75,
        "deepnote_cell_type": "markdown",
        "tags": []
      },
      "source": "3.1 - Make a visualization to explore variation in `HitPoints`. What do all the other Pokémon's `HitPoints` look like? How does your Pokémon compare?"
    },
    {
      "cell_type": "markdown",
      "metadata": {
        "cell_id": "877542feff4e4d1c9a0ba9e3321aa3d5",
        "deepnote_cell_height": 74.75,
        "deepnote_cell_type": "markdown",
        "tags": []
      },
      "source": "3.2 - Try adding a line that represents your battle Pokémon's `HitPoints`. If you want you can pick a color that is similar to the color of your Pokémon ([colors in R](https://github.com/UCLATALL/czi-stats-course-files/raw/master/Rcolor.pdf))!"
    },
    {
      "cell_type": "markdown",
      "metadata": {
        "cell_id": "891c519b64cc4eefb01bedd4f93d0978",
        "deepnote_cell_height": 97.140625,
        "deepnote_cell_type": "markdown",
        "tags": []
      },
      "source": "3.3 - If you had to make a guess about your future opponent's `HitPoints`, what would you guess? What's the *best fitting* model of `HitPoints` (if you didn't know any more information about this future Pokémon)?"
    },
    {
      "cell_type": "code",
      "execution_count": null,
      "metadata": {
        "cell_id": "53607ea0d70a4f5fa2fd8662f4d9aef5",
        "deepnote_cell_height": 60.953125,
        "deepnote_cell_type": "code",
        "tags": [],
        "trusted": true
      },
      "outputs": [],
      "source": "# the best fitting model"
    },
    {
      "cell_type": "markdown",
      "metadata": {
        "cell_id": "abeea3d098e043199c1923603e72318e",
        "deepnote_cell_height": 391.703125,
        "deepnote_cell_type": "markdown",
        "tags": []
      },
      "source": "3.4 - Notice the shape of the distribution of `HitPoints`. Let's try fitting a normal distribution over it.\n\n`R` is constantly changing. Recently, we asked the developers of `mosaic` and `ggformula` to write an easier function for fitting a normal curve for us... and they did it! They called it `gf_fitdistr()` and it works with density histograms. Modify the following code to fit a normal distribution onto the histogram of `HitPoints`."
    },
    {
      "cell_type": "code",
      "execution_count": null,
      "metadata": {
        "cell_id": "c4e72af64d7b461b8212a5d3b4478968",
        "deepnote_cell_height": 96.953125,
        "deepnote_cell_type": "code",
        "tags": [],
        "trusted": true
      },
      "outputs": [],
      "source": "# gf_dhistogram(~ Thumb, data = Fingers, fill = \"coral2\") %>%\n# gf_fitdistr(color = \"darkblue\")\n"
    },
    {
      "cell_type": "markdown",
      "metadata": {
        "cell_id": "1c5f27d5a54647b28d5a7c2bff212ac0",
        "deepnote_cell_height": 52.359375,
        "deepnote_cell_type": "markdown",
        "tags": []
      },
      "source": "3.5 - Also add your empty model and your battle Pokémon to the density histogram above."
    },
    {
      "cell_type": "markdown",
      "metadata": {
        "cell_id": "c0bfda07747e41059ed9ae529b67c312",
        "deepnote_cell_height": 52.359375,
        "deepnote_cell_type": "markdown",
        "tags": []
      },
      "source": "3.6 - Is your Pokémon within 1 standard deviation of the mean (e.g., zone 1)? "
    },
    {
      "cell_type": "markdown",
      "metadata": {
        "cell_id": "b108ad7ce07f4ab6a14ba03680fe0370",
        "deepnote_cell_height": 97.140625,
        "deepnote_cell_type": "markdown",
        "tags": []
      },
      "source": "3.7 - The area under the normal curve is 1 (you can think about it as 100%). Estimate of the percentage of Pokémon that have a higher number of `HitPoints` than your Pokémon just by looking at your histogram. "
    },
    {
      "cell_type": "markdown",
      "metadata": {
        "cell_id": "d65f7fc5e61b4c40af4155d8230935ab",
        "deepnote_cell_height": 69.96875,
        "deepnote_cell_type": "markdown",
        "tags": []
      },
      "source": "## 4.0 - Normal Model of Pokémon"
    },
    {
      "cell_type": "markdown",
      "metadata": {
        "cell_id": "2a85dc082d5b4947aa8fbf27a559fe8a",
        "deepnote_cell_height": 74.75,
        "deepnote_cell_type": "markdown",
        "tags": []
      },
      "source": "4.1 - Now that you’ve made a guess, let’s get a little more precise. Use `xpnorm()` to model the likelihood that you will go up against a Pokémon that has more `HitPoints` than you. "
    },
    {
      "cell_type": "markdown",
      "metadata": {
        "cell_id": "071fa32472c1495c9d9f9049bd51af49",
        "deepnote_cell_height": 97.140625,
        "deepnote_cell_type": "markdown",
        "tags": []
      },
      "source": "4.2 - What do all the numbers that you get from `xpnorm()` mean and which of these numbers indicate the likelihood of going up against a Pokémon that has more hit points? Is that the same thing as the z-score? Why or why not?"
    },
    {
      "cell_type": "markdown",
      "metadata": {
        "cell_id": "55c0d380c20247f887ba1a14723b7708",
        "deepnote_cell_height": 69.96875,
        "deepnote_cell_type": "markdown",
        "tags": []
      },
      "source": "## 5.0 - Simulating a Bunch of Opponents"
    },
    {
      "cell_type": "markdown",
      "metadata": {
        "cell_id": "10789e6de484422087ef2923aabc3b39",
        "deepnote_cell_height": 97.140625,
        "deepnote_cell_type": "markdown",
        "tags": []
      },
      "source": "5.1 - Let's do a few simulated battles! Run the code below. Who has more `HitPoints`: your Pokémon or your opponent's Pokémon? Run this code a few times, who generally has more hit points, you or your opponents?"
    },
    {
      "cell_type": "code",
      "execution_count": null,
      "metadata": {
        "cell_id": "8b3b8a348eb44120a226ab2b86542115",
        "deepnote_cell_height": 78.953125,
        "deepnote_cell_type": "code",
        "tags": [],
        "trusted": true
      },
      "outputs": [],
      "source": "OpponentPokemon <- sample(pokemon, 1)\nselect(OpponentPokemon, Name, HitPoints)"
    },
    {
      "cell_type": "markdown",
      "metadata": {
        "cell_id": "19ba5b87e00043e4a01de1a00d0fef8c",
        "deepnote_cell_height": 155.9375,
        "deepnote_cell_type": "markdown",
        "tags": []
      },
      "source": "5.2 - If you did 10 one-on-one battles, how many of those battles would be against Pokémon that have *more* `HitPoints` than your Pokémon? What if your Pokémon participated in 100 or 1000 battles?\n\nLet's actually try it. Should we use `sample` or `resample` here? Which one would we use if we could go up against the same Pokémon multiple times?"
    },
    {
      "cell_type": "code",
      "execution_count": null,
      "metadata": {
        "cell_id": "80b94b0dd7654d2bab0a7b944e595fb9",
        "deepnote_cell_height": 150.953125,
        "deepnote_cell_type": "code",
        "tags": [],
        "trusted": true
      },
      "outputs": [],
      "source": "# modify this code for 10 opponents, then 100, then 1000\nOpponentPokemon <- sample(pokemon, 1)\nselect(OpponentPokemon, Name, HitPoints)\n\n# write code to count up how many had HitPoints greater than your pokemon\n"
    },
    {
      "cell_type": "markdown",
      "metadata": {
        "cell_id": "30f6d4016be24a07ab1c769a7dd9ec63",
        "deepnote_cell_height": 74.75,
        "deepnote_cell_type": "markdown",
        "tags": []
      },
      "source": "5.3 - Compare your normal distribution model to these simulated battles. How did it do? Why is the normal distribution helpful for predicting the future? "
    },
    {
      "cell_type": "markdown",
      "metadata": {
        "cell_id": "1a9465b6605441e5b2c0ccb3bfc63190",
        "deepnote_cell_height": 69.96875,
        "deepnote_cell_type": "markdown",
        "tags": []
      },
      "source": "## 6.0 - Catch Another Pokémon"
    },
    {
      "cell_type": "markdown",
      "metadata": {
        "cell_id": "e989a02f5c6a4d7296c13e8ede369be1",
        "deepnote_cell_height": 74.75,
        "deepnote_cell_type": "markdown",
        "tags": []
      },
      "source": "6.1 - The time has come. Pair up with a classmate and go head-to-head (just on `HitPoints`). Also compare some of the other attributes like `Defense` or `Attack` or `Speed`."
    },
    {
      "cell_type": "markdown",
      "metadata": {
        "cell_id": "41a6e2feb4a6408a94cba5fdef50ddbb",
        "deepnote_cell_height": 97.140625,
        "deepnote_cell_type": "markdown",
        "tags": []
      },
      "source": "6.2 - Try \"catching\" (or sampling) another random Pokémon. How well will this one do (in terms of `HitPoints`) against a classmate's randomly selected Pokémon? What information are you using to make your judgment?"
    },
    {
      "cell_type": "markdown",
      "metadata": {
        "cell_id": "fc76af44b1cb4eb0b4a2abcb4cd9585d",
        "deepnote_cell_height": 119.53125,
        "deepnote_cell_type": "markdown",
        "tags": []
      },
      "source": "6.3 - Sometimes we care about individual battles and individual Pokémon. But in statistics, we care more about the whole distribution... so even if you can't predict one single battle well, you can predict 1000 battles pretty well. Take a moment to try and write down your own definition of \"distribution.\" "
    }
  ],
  "metadata": {
    "deepnote_notebook_id": "0d4229ee94c943d4ab911e2e6d5d6a27",
    "kernelspec": {
      "display_name": "R",
      "language": "R",
      "name": "ir"
    },
    "language_info": {
      "codemirror_mode": "r",
      "file_extension": ".r",
      "mimetype": "text/x-r-source",
      "name": "R",
      "pygments_lexer": "r",
      "version": "4.3.3"
    },
    "nbsimplegrader": {
      "publish_config": {
        "classes": [],
        "options": {},
        "tools": []
      }
    }
  },
  "nbformat": 4,
  "nbformat_minor": 1
}