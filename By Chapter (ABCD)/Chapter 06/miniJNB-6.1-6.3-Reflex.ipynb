{
  "cells": [
    {
      "cell_type": "markdown",
      "metadata": {
        "cell_id": "ac933972-2116-4eb2-add6-27266b1063a8"
      },
      "source": "# Catching Errors: How Fast is Your Reflex?\n\n## Chapter 6.1 - 6.3"
    },
    {
      "cell_type": "code",
      "execution_count": null,
      "metadata": {
        "cell_id": "86968422-31d9-4355-977e-8ab4799e937d",
        "nbsimplegrader": {
          "config_key": "code.run-only",
          "editable": false,
          "label": "Code: Run-Only",
          "respondable": false,
          "response": null,
          "runnable": true,
          "type": "code"
        },
        "trusted": true
      },
      "outputs": [],
      "source": "# This code will load the R packages we will use\nlibrary(coursekata)\n\n# set styles\ncss <- suppressWarnings(readLines(\"https://raw.githubusercontent.com/jimstigler/jupyter/master/ck_jupyter_styles_v2.css\"))\nIRdisplay::display_html(sprintf('<style>%s</style>', paste(css, collapse = \"\\n\")))"
    },
    {
      "cell_type": "markdown",
      "metadata": {
        "cell_id": "1373d2ec-6ddf-4692-a848-171dc40ee40e"
      },
      "source": "## Problem #1:\n\nEnter the class data into a data frame called `fast_reflex`.  We'll start off with 2 columns for the `ID` and `Reflex`.  Modify the code to do this in R."
    },
    {
      "cell_type": "code",
      "execution_count": null,
      "metadata": {
        "nbsimplegrader": {
          "config_key": "code.response",
          "editable": true,
          "label": "Response: Code",
          "respondable": true,
          "response": null,
          "runnable": true,
          "type": "code"
        },
        "trusted": true
      },
      "outputs": [],
      "source": "#Enter class data\nID <- 1:\nReflex <- c()\n\n#save as a data frame\nfast_reflex <- data.frame(ID, Reflex)\n\n#check to see if the data frame is what you wanted\nhead(fast_reflex)"
    },
    {
      "cell_type": "markdown",
      "metadata": {
        "cell_id": "a597e788-306f-47e6-a2e4-a3a17bd968de"
      },
      "source": "## Problem #2:\n\nFit the Empty Model to the `Reflex` data.  Modify the code to do this."
    },
    {
      "cell_type": "code",
      "execution_count": null,
      "metadata": {
        "nbsimplegrader": {
          "config_key": "code.response",
          "editable": true,
          "label": "Response: Code",
          "respondable": true,
          "response": null,
          "runnable": true,
          "type": "code"
        },
        "trusted": true
      },
      "outputs": [],
      "source": "#modify the code\n\n <- lm(Y ~ NULL, data = dataset_name)\n\n#call the model to see the mean\n"
    },
    {
      "cell_type": "markdown",
      "metadata": {},
      "source": "## Problem #3:\n\nSave the predictions and residuals for `Reflex` in the data frame.  Modify the code below."
    },
    {
      "cell_type": "code",
      "execution_count": null,
      "metadata": {
        "nbsimplegrader": {
          "config_key": "code.response",
          "editable": true,
          "label": "Response: Code",
          "respondable": true,
          "response": null,
          "runnable": true,
          "type": "code"
        },
        "trusted": true
      },
      "outputs": [],
      "source": "#complete the code\nfast_reflex$prediction <- predict()\nfast_reflex$residual <- resid()\n\n#take a look at the data frame to make sure everthing saved\n"
    },
    {
      "cell_type": "markdown",
      "metadata": {},
      "source": "## Problem #4:\n\nCalculate the sum of squared deviations (SS) in two different ways.  Modify the code to get this statistic.  Does it match your calculations by hand?"
    },
    {
      "cell_type": "code",
      "execution_count": null,
      "metadata": {
        "nbsimplegrader": {
          "config_key": "code.response",
          "editable": true,
          "label": "Response: Code",
          "respondable": true,
          "response": null,
          "runnable": true,
          "type": "code"
        },
        "trusted": true
      },
      "outputs": [],
      "source": "#take the sum of squared residuals\n(fast_reflex$residual)\n\n#use supernova function\nsupernova()"
    }
  ],
  "metadata": {
    "celltoolbar": "nbsimplegrader",
    "deepnote_execution_queue": [],
    "deepnote_notebook_id": "2b51a89a-e42e-4675-9260-1000d5b5ae22",
    "kernelspec": {
      "display_name": "R",
      "language": "R",
      "name": "ir"
    },
    "language_info": {
      "codemirror_mode": "r",
      "file_extension": ".r",
      "mimetype": "text/x-r-source",
      "name": "R",
      "pygments_lexer": "r",
      "version": "4.3.3"
    },
    "nbsimplegrader": {
      "publish_config": {
        "classes": [],
        "options": [],
        "tools": []
      }
    }
  },
  "nbformat": 4,
  "nbformat_minor": 2
}