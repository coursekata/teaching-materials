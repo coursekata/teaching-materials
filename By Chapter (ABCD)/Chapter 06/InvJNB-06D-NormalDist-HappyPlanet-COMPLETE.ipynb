{
  "cells": [
    {
      "cell_type": "markdown",
      "metadata": {
        "cell_id": "3313100b6b194d6a9bc2711aa0dfc319",
        "deepnote_cell_type": "markdown"
      },
      "source": "<div class=\"alert alert-block alert-danger\">\n\n# 6D: Happiness Across the World (COMPLETE)\n\n**Lesson assumes students have read up through page: 6.11**\n\n**Use with textbook version 6.0+**\n\nIf you have used this data before, note that the new version of the data does not include a few of the varibles from the previous version (updated variables were not available), but includes our main variables. Includes more countries (147). Also, note that the example country in this lesson has been changed to Cameroon.\n\n</div>"
    },
    {
      "cell_type": "markdown",
      "metadata": {
        "cell_id": "3d1df64676884358b53ca2e39f221f6e",
        "deepnote_cell_height": 163.9375,
        "deepnote_cell_type": "markdown",
        "tags": []
      },
      "source": "<div class=\"alert alert-block alert-success\">\n\n## Approximate time to complete Notebook: 45-60 Mins\n\n</div>"
    },
    {
      "cell_type": "code",
      "execution_count": null,
      "metadata": {
        "cell_id": "6625fada8bdb4f7cbb97b9b98b69bcae",
        "deepnote_cell_height": 114.953125,
        "deepnote_cell_type": "code",
        "execution_context_id": "91dc7c91-ca03-4b3d-95f4-4b060baaa555",
        "execution_millis": 7705,
        "execution_start": 1742584495856,
        "source_hash": "2fc27838",
        "trusted": true
      },
      "outputs": [],
      "source": "# This code will load the R packages we will use\nsuppressPackageStartupMessages({\n    library(coursekata)\n})\n\n#loads updated data\n\ncsvlink<-\"https://docs.google.com/spreadsheets/d/e/2PACX-1vRVo82UG25_Gq0zYVRXUZX5U4vSVcpdFZ_Pn-U-81kACXbDEE5JJx6D41cTxbYAci0HhOJDGpfHe_5H/pub?gid=1875103213&single=true&output=csv\"\n\nHappyPlanetIndexData <- read.csv(csvlink, header = TRUE) "
    },
    {
      "cell_type": "markdown",
      "metadata": {
        "cell_id": "a18d56ade6234017a5f9b9924d969925",
        "deepnote_cell_height": 115.9375,
        "deepnote_cell_type": "markdown",
        "tags": []
      },
      "source": "<div class=\"alert alert-block alert-success\">\n\n### 1.0 - Approximate Time: 8-10 mins\n\n</div>"
    },
    {
      "cell_type": "markdown",
      "metadata": {
        "cell_id": "4681bf62d0d54b53b691e2d2439b7097",
        "deepnote_cell_height": 69.96875,
        "deepnote_cell_type": "markdown"
      },
      "source": "## 1.0 - The Data"
    },
    {
      "cell_type": "markdown",
      "metadata": {
        "cell_id": "321c6cf07ca3467fa3ab5df9b93407ec",
        "deepnote_cell_height": 426.4375,
        "deepnote_cell_type": "markdown"
      },
      "source": "We'll be looking at a data set (collected in 2021) called the `HappyPlanetIndex2`. It has 147 countries and the following variables:\n\n- `Country`\tName of country\n- `Region` Comment: 1 - Latin America 2 - N America & Oceania 3-  Western Europe 4 - Middle East & N Africa 5 - Sub-Saharan Africa 6 - South Asia 7 - Eastern Europe & Central Asia 8 - East Asia\n- `Happiness` Score on a 0-10 scale for average level of happiness (10 being happiest)\n- `LifeExpectancy` Average life expectancy (in years)\n- `Footprint` Ecological footprint - a measure of the (per capita) ecological impact\n- `HPI`\tHappy Planet Index (0-100 scale) combines well-being and ecological impact\n- `HPIRank`\tHPI rank for the country\n- `GDPperCapita` Gross Domestic Product (per capita)\n- `Population` Population (in millions)"
    },
    {
      "cell_type": "markdown",
      "metadata": {
        "cell_id": "5ce071c4d6f8460d914ba28869fc40da",
        "deepnote_cell_height": 52.359375,
        "deepnote_cell_type": "markdown",
        "tags": []
      },
      "source": "1.1 - Write some code to take a look at the data."
    },
    {
      "cell_type": "code",
      "execution_count": null,
      "metadata": {
        "cell_id": "071b088a0e864540af73ec99ea066483",
        "deepnote_cell_height": 96.953125,
        "deepnote_cell_type": "code",
        "execution_context_id": "91dc7c91-ca03-4b3d-95f4-4b060baaa555",
        "execution_millis": 34,
        "execution_start": 1742584549875,
        "output_cleared": false,
        "source_hash": "3ff68e54",
        "tags": [],
        "trusted": true
      },
      "outputs": [],
      "source": "# Sample code\nhead(HappyPlanetIndexData)\nstr(HappyPlanetIndexData)"
    },
    {
      "cell_type": "markdown",
      "metadata": {
        "cell_id": "0ec09cda65364a4db385ecf940c675fc",
        "deepnote_cell_height": 178.328125,
        "deepnote_cell_type": "markdown",
        "tags": []
      },
      "source": "To measure happiness, the Gallup World Poll used this question: \"Please imagine a ladder with steps numbered from zero at the bottom to 10 at the top. The top of the ladder represents the best possible life for you and the bottom of the ladder represents the worst possible life for you. On which step of the ladder would you say you personally feel you stand at this time?\" \n\n1.2 - If we asked our class this question today, could we represent that data as a row in this data frame? Why or why not?"
    },
    {
      "cell_type": "markdown",
      "metadata": {
        "cell_id": "3e5e2e22cced4c59baced7ebd9ad69b4",
        "deepnote_cell_height": 140.71875,
        "deepnote_cell_type": "markdown",
        "tags": []
      },
      "source": "<div class=\"alert alert-block alert-warning\">\n\n**Sample Response**\n\nNo, we could not, because the rows (cases) represent countries.\n\n</div>"
    },
    {
      "cell_type": "markdown",
      "metadata": {
        "cell_id": "1c53bf3d79eb45b5bc69308b34d53817",
        "deepnote_cell_height": 97.140625,
        "deepnote_cell_type": "markdown",
        "tags": []
      },
      "source": "1.3 - Today we'll explore two different measures of happiness: `Happiness`, and `HPI`. If you were the leader of a country, which measure of happiness would you be most interested in? Why?"
    },
    {
      "cell_type": "markdown",
      "metadata": {
        "cell_id": "7fe46c0ace324196a322377c4f47a69a",
        "deepnote_cell_height": 140.71875,
        "deepnote_cell_type": "markdown",
        "tags": []
      },
      "source": "<div class=\"alert alert-block alert-warning\">\n\n**Sample Response**\n\n*Answers will vary*\n\n</div>"
    },
    {
      "cell_type": "markdown",
      "metadata": {
        "cell_id": "b9cc2237aff549a4a412249217543b50",
        "deepnote_cell_height": 74.75,
        "deepnote_cell_type": "markdown",
        "tags": []
      },
      "source": "1.4 - Let's learn a little about Cameroon on these two measures of happiness. Run the code below. Can you tell if it's a \"happy\" country?  "
    },
    {
      "cell_type": "code",
      "execution_count": null,
      "metadata": {
        "cell_id": "697f400122674d4d980d44c11f67a0c3",
        "deepnote_cell_height": 222.890625,
        "deepnote_cell_type": "code",
        "deepnote_output_heights": [
          130.9375
        ],
        "execution_context_id": "91dc7c91-ca03-4b3d-95f4-4b060baaa555",
        "execution_millis": 24,
        "execution_start": 1742584558230,
        "output_cleared": false,
        "source_hash": "56f05d52",
        "tags": [],
        "trusted": true
      },
      "outputs": [],
      "source": "filter(HappyPlanetIndexData, Country == \"Cameroon\")"
    },
    {
      "cell_type": "markdown",
      "metadata": {
        "cell_id": "30d3339bd67f43a4b86e9e0db72e68e4",
        "deepnote_cell_height": 281.078125,
        "deepnote_cell_type": "markdown",
        "tags": []
      },
      "source": "<div class=\"alert alert-block alert-warning\">\n\n**Sample Response**\n\n- We can try to judge whether it is a \"happy\" country based on how high its score for `Happiness` is.\n- What does 4.96 on Happiness mean? Is it low? High? Not easy to interpret this.\n- Maybe helpful to see how these number can vary across countries. Then we might have a better sense of judging how happy Cameroon is. \n\n</div>"
    },
    {
      "cell_type": "markdown",
      "metadata": {
        "cell_id": "8b2595b08eac4cb98c9e2d3e8f441bf9",
        "deepnote_cell_height": 115.9375,
        "deepnote_cell_type": "markdown",
        "tags": []
      },
      "source": "<div class=\"alert alert-block alert-success\">\n\n### 2.0 - Approximate Time: 5-8 mins\n\n</div>"
    },
    {
      "cell_type": "markdown",
      "metadata": {
        "cell_id": "b2201221504b4fd9a51c4cc434dd95df",
        "deepnote_cell_height": 69.96875,
        "deepnote_cell_type": "markdown",
        "tags": []
      },
      "source": "## 2.0 - Exploring Variation"
    },
    {
      "cell_type": "markdown",
      "metadata": {
        "cell_id": "bf1d84ce1a494ac9b56a69e20895e484",
        "deepnote_cell_height": 88.75,
        "deepnote_cell_type": "markdown",
        "tags": []
      },
      "source": "For today, let's focus on the variable `Happiness`.\n\n2.1 - Make some visualizations of how countries vary in their happiness. "
    },
    {
      "cell_type": "code",
      "execution_count": null,
      "metadata": {
        "cell_id": "f6c8559dc5b24a768cd120c6d5c7fd58",
        "deepnote_cell_height": 137.96875,
        "deepnote_cell_type": "code",
        "execution_context_id": "91dc7c91-ca03-4b3d-95f4-4b060baaa555",
        "execution_millis": 1422,
        "execution_start": 1742584567471,
        "output_cleared": false,
        "source_hash": "af78e152",
        "tags": [],
        "trusted": true
      },
      "outputs": [],
      "source": "# Sample histogram\ngf_histogram(~Happiness, data = HappyPlanetIndexData, color = \"cornsilk\" , fill = \"cornflowerblue\")\n\n# Sample boxplot\ngf_boxplot(Happiness~1, data = HappyPlanetIndexData, color = \"aquamarine3\", fill = \"aliceblue\")"
    },
    {
      "cell_type": "markdown",
      "metadata": {
        "cell_id": "c874214d447a4b2ebe7642f443f9d77a",
        "deepnote_cell_height": 74.75,
        "deepnote_cell_type": "markdown",
        "tags": []
      },
      "source": "2.2 - This data set is a little \"old\" (it's from 2021). If we collected data today, would we get the same distribution? Would anything be different? Would anything be the same?"
    },
    {
      "cell_type": "markdown",
      "metadata": {
        "cell_id": "590f92ee02ab411b8953d2d3f9b47188",
        "deepnote_cell_height": 236.296875,
        "deepnote_cell_type": "markdown",
        "tags": []
      },
      "source": "<div class=\"alert alert-block alert-warning\">\n\n**Sample Response**\n\n\n- The world has changed a lot since then, so the distribution will likely be different. \n- Maybe countries that have experienced vast social improvements may have increased levels of happiness or life years, while countries that may have had natural disasters or political/civil unrest may have lower values for happiness, etc.\n- Even countries that are roughly the same in their level of happiness may change a little bit.\n\n</div>"
    },
    {
      "cell_type": "markdown",
      "metadata": {
        "cell_id": "e74e62f6b546471d8af8042ac4dee02f",
        "deepnote_cell_height": 115.9375,
        "deepnote_cell_type": "markdown",
        "tags": []
      },
      "source": "<div class=\"alert alert-block alert-success\">\n\n### 3.0 - Approximate Time: 18-20 mins\n\n</div>"
    },
    {
      "cell_type": "markdown",
      "metadata": {
        "cell_id": "2b64a0d664624456924f8099e0152afd",
        "deepnote_cell_height": 69.96875,
        "deepnote_cell_type": "markdown",
        "tags": []
      },
      "source": "## 3.0 - Modeling Variation"
    },
    {
      "cell_type": "markdown",
      "metadata": {
        "cell_id": "19d78e3d60ea4d2daf865a3f9ef6b158",
        "deepnote_cell_height": 74.75,
        "deepnote_cell_type": "markdown",
        "tags": []
      },
      "source": "3.1 - If we had to predict a randomly selected country's happiness, we could use the mean as a very simple model. Put that number into your visualization above."
    },
    {
      "cell_type": "code",
      "execution_count": null,
      "metadata": {
        "cell_id": "a68ad517a87341669099d70753982e2d",
        "deepnote_cell_height": 245.953125,
        "deepnote_cell_type": "code",
        "execution_context_id": "91dc7c91-ca03-4b3d-95f4-4b060baaa555",
        "execution_millis": 975,
        "execution_start": 1742584577837,
        "output_cleared": false,
        "source_hash": "4557cf82",
        "tags": [],
        "trusted": true
      },
      "outputs": [],
      "source": "# Save the mean in a favstats data frame\nHappy_stats <- favstats(~Happiness, data = HappyPlanetIndexData)\nHappy_stats\n\n# Sample histogram\ngf_histogram(~Happiness, data = HappyPlanetIndexData, color = \"cornsilk\" , fill = \"cornflowerblue\") %>%\n    gf_vline(xintercept = ~mean, data = Happy_stats, color = \"purple\")\n\n# Sample boxplot\ngf_boxplot(Happiness~1, data = HappyPlanetIndexData, color = \"aquamarine3\", fill = \"aliceblue\") %>%\n    gf_hline(yintercept = ~mean, data = Happy_stats, color = \"purple\")"
    },
    {
      "cell_type": "markdown",
      "metadata": {
        "cell_id": "e46d1a0718be40c68aa2eb5f5197db25",
        "deepnote_cell_height": 119.53125,
        "deepnote_cell_type": "markdown",
        "tags": []
      },
      "source": "3.2 - `R` is constantly changing. Recently, we asked the developers of `mosaic` and `ggformula` to write an easier function for fitting a normal curve for us... and they did it! They called it `gf_fitdistr()` and it works with density histograms. Modify the following code to fit a normal distribution onto the histogram of happiness."
    },
    {
      "cell_type": "code",
      "execution_count": null,
      "metadata": {
        "cell_id": "db027a3c33164b4fb405c867cc22bbcb",
        "deepnote_cell_height": 83.953125,
        "deepnote_cell_type": "code",
        "execution_context_id": "91dc7c91-ca03-4b3d-95f4-4b060baaa555",
        "execution_millis": 531,
        "execution_start": 1742584591494,
        "output_cleared": false,
        "source_hash": "f2f17ac",
        "tags": [],
        "trusted": true
      },
      "outputs": [],
      "source": "gf_dhistogram(~ Happiness, data = HappyPlanetIndexData, color = \"cornsilk\" , fill = \"cornflowerblue\") %>%\n    gf_fitdistr(color = \"darkblue\")"
    },
    {
      "cell_type": "markdown",
      "metadata": {
        "cell_id": "4ab053808f2d4f6185f91bb2e6d6045d",
        "deepnote_cell_height": 74.75,
        "deepnote_cell_type": "markdown",
        "tags": []
      },
      "source": "3.3 - Add the mean to the histogram above (in blue). Also add Cameroon's happiness (as a gold colored line)."
    },
    {
      "cell_type": "code",
      "execution_count": null,
      "metadata": {
        "cell_id": "2ce71f31e7a840aca2549e460da1e07c",
        "deepnote_cell_height": 119.953125,
        "deepnote_cell_type": "code",
        "execution_context_id": "91dc7c91-ca03-4b3d-95f4-4b060baaa555",
        "execution_millis": 351,
        "execution_start": 1742584595983,
        "output_cleared": false,
        "source_hash": "e439d1d4",
        "tags": [],
        "trusted": true
      },
      "outputs": [],
      "source": "gf_dhistogram(~ Happiness, data = HappyPlanetIndexData, color = \"cornsilk\" , fill = \"cornflowerblue\")%>%\n    gf_fitdistr(color = \"darkblue\")%>%\n    gf_vline(xintercept = ~mean, data = Happy_stats, color = \"blue\")%>%\n    gf_vline(xintercept = 4.96, color = \"gold\")\n"
    },
    {
      "cell_type": "markdown",
      "metadata": {
        "cell_id": "efb131b57cfa4d9bb9c2a2567663b59c",
        "deepnote_cell_height": 97.140625,
        "deepnote_cell_type": "markdown",
        "tags": []
      },
      "source": "3.4 - (Everybody Gestures) I'm going to tell you the standard deviation of Happiness. Gesture that standard deviation on the histogram. Is Cameroon within 1 standard deviation from the mean (aka in zone 1)?"
    },
    {
      "cell_type": "code",
      "execution_count": null,
      "metadata": {
        "cell_id": "82ce7facc0a44ec3984885ec9f715db4",
        "deepnote_cell_height": 114.953125,
        "deepnote_cell_type": "code",
        "execution_context_id": "a11b0e52-ad1b-4e93-b139-507a8848a625",
        "execution_millis": 14,
        "execution_start": 1734640085058,
        "output_cleared": false,
        "source_hash": "b7054065",
        "tags": [],
        "trusted": true
      },
      "outputs": [],
      "source": "# The standard deviation for Happiness is 1.18 (the mean is 5.5)\nHappy_stats\n\n# Cameroon (Happiness = 4.96) is within 1 SD of the mean"
    },
    {
      "cell_type": "markdown",
      "metadata": {
        "cell_id": "451875c1147949578f1d00173942eb24",
        "deepnote_cell_height": 258.6875,
        "deepnote_cell_type": "markdown",
        "tags": []
      },
      "source": "<div class=\"alert alert-block alert-warning\">\n\n**Sample Response**\n\n- Student should gesture horizontally (sideways). Some will include the mean in their gesture.\n- Misconception: Students might try to think about standard deviation from the very left side of the histogram rather than from the center.\n- Misconception: Students may try to look at 1.18 on the x-axis rather than thinking of it as 1.18 from the mean.\n\n</div>"
    },
    {
      "cell_type": "markdown",
      "metadata": {
        "cell_id": "b2a5c99f994d461b8093647a7c0d7706",
        "deepnote_cell_height": 97.140625,
        "deepnote_cell_type": "markdown",
        "tags": []
      },
      "source": "3.5 - (Everybody Gestures) How big would our residual be if we had predicted Cameroon's happiness with the mean? Is that going to be bigger than or smaller than the standard deviation? Then estimate the number."
    },
    {
      "cell_type": "markdown",
      "metadata": {
        "cell_id": "74ddb356d0494223b116bc93dfcd67b5",
        "deepnote_cell_height": 210.90625,
        "deepnote_cell_type": "markdown",
        "tags": []
      },
      "source": "<div class=\"alert alert-block alert-warning\">\n\n**Sample Response**\n\n- Students might be uncomfortable simply looking at histogram to judge but they should be encouraged to.\n- If they know that Cameroon is in \"zone 1\" they know something about this question. They may need help seeing the connection between these two questions.\n\n</div>"
    },
    {
      "cell_type": "code",
      "execution_count": null,
      "metadata": {
        "cell_id": "d3092c62b3bd4008806e8d0eec96b5c4",
        "deepnote_cell_height": 132.96875,
        "deepnote_cell_type": "code",
        "execution_context_id": "a11b0e52-ad1b-4e93-b139-507a8848a625",
        "execution_millis": 14,
        "execution_start": 1734640265770,
        "output_cleared": false,
        "source_hash": "8eff375c",
        "tags": [],
        "trusted": true
      },
      "outputs": [],
      "source": "# No need to calculate precisely\n# The residual for Cameroon is -0.54\n4.96 - 5.5\n\n# It is smaller than the SD (1.18)"
    },
    {
      "cell_type": "markdown",
      "metadata": {
        "cell_id": "a326669110794d38b0deb789836804f2",
        "deepnote_cell_height": 74.75,
        "deepnote_cell_type": "markdown",
        "tags": []
      },
      "source": "3.6 - (Everybody Gestures) In the histogram, what percentage of countries had lower happiness levels than Cameroon? Gesture and then estimate the number."
    },
    {
      "cell_type": "markdown",
      "metadata": {
        "cell_id": "a90f7c81056e45c6ab1908dbf5b94240",
        "deepnote_cell_height": 210.90625,
        "deepnote_cell_type": "markdown",
        "tags": []
      },
      "source": "<div class=\"alert alert-block alert-warning\">\n\n**Sample Response**\n\n- Students might be uncomfortable simply looking at histogram to judge but they should be encouraged to.\n- Encourage them to make big estimates like bigger than .50 or smaller than .50. Then to think, how much smaller than .50?\n\n</div>"
    },
    {
      "cell_type": "code",
      "execution_count": null,
      "metadata": {
        "cell_id": "fb9e81f88eb9494daa6dc73106056c9b",
        "deepnote_cell_height": 83.953125,
        "deepnote_cell_type": "code",
        "execution_context_id": "a11b0e52-ad1b-4e93-b139-507a8848a625",
        "execution_millis": 166,
        "execution_start": 1734640721063,
        "output_cleared": false,
        "source_hash": "1c694f90",
        "tags": [],
        "trusted": true
      },
      "outputs": [],
      "source": "# The percentage of countries with lower happiness levels than Cameroon was about 0.32\nxpnorm(4.96, Happy_stats$mean, Happy_stats$sd)"
    },
    {
      "cell_type": "markdown",
      "metadata": {
        "cell_id": "1bcef8d1f13e4502a998d4f18028fb4b",
        "deepnote_cell_height": 74.75,
        "deepnote_cell_type": "markdown",
        "tags": []
      },
      "source": "3.7 - What is the likelihood that a randomly selected country will have a lower happiness than Cameroon? Try to answer this question using the data as a model."
    },
    {
      "cell_type": "code",
      "execution_count": null,
      "metadata": {
        "cell_id": "fe66b02f2f2f4787a19b64874ecb354d",
        "deepnote_cell_height": 158.359375,
        "deepnote_cell_type": "code",
        "execution_context_id": "91dc7c91-ca03-4b3d-95f4-4b060baaa555",
        "execution_millis": 12,
        "execution_start": 1742584610551,
        "output_cleared": false,
        "source_hash": "2bec3e07",
        "tags": [],
        "trusted": true
      },
      "outputs": [],
      "source": "tally(~ Happiness <= 4.96, data = HappyPlanetIndexData, format = \"proportion\")"
    },
    {
      "cell_type": "markdown",
      "metadata": {
        "cell_id": "55ee37144f6749e7b8964b0cecdacfd3",
        "deepnote_cell_height": 188.515625,
        "deepnote_cell_type": "markdown",
        "tags": []
      },
      "source": "<div class=\"alert alert-block alert-warning\">\n\n**Sample Response**\n\n- About .32\n- Using the \"data as a model\" is pretending that the DGP looks exactly like the data. Hey, it's better than nothing even though we know the data isn't an exact match for the DGP.\n\n</div>"
    },
    {
      "cell_type": "markdown",
      "metadata": {
        "cell_id": "d28f8b9a966e4e969b6da21db9e81fee",
        "deepnote_cell_height": 155.9375,
        "deepnote_cell_type": "markdown",
        "tags": []
      },
      "source": "3.8 - We all said at the beginning that if we ever collected this data again, all these numbers will probably be different. So maybe next time the data won't look exactly like this data. That's why the data isn't usually the greatest model of the DGP.\n\nWhat is the likelihood that a randomly selected country will have a lower happiness than Cameroon? Now answer this question using the normal distribution as a model."
    },
    {
      "cell_type": "code",
      "execution_count": null,
      "metadata": {
        "cell_id": "40bd2b9b78584dd3a8347fb88c3ac218",
        "deepnote_cell_height": 114.953125,
        "deepnote_cell_type": "code",
        "execution_context_id": "a11b0e52-ad1b-4e93-b139-507a8848a625",
        "execution_millis": 163,
        "execution_start": 1734640486453,
        "source_hash": "3830f65a",
        "tags": [],
        "trusted": true
      },
      "outputs": [],
      "source": "# Sample code\nxpnorm(4.96, Happy_stats$mean, Happy_stats$sd)\n\n# The likelihood of P(X <= 4.96) = P(Z <= -0.46) = 0.3218"
    },
    {
      "cell_type": "markdown",
      "metadata": {
        "cell_id": "1b8d35d82d0943eeac4e2cbebdddee74",
        "deepnote_cell_height": 163.125,
        "deepnote_cell_type": "markdown",
        "tags": []
      },
      "source": "<div class=\"alert alert-block alert-warning\">\n\n**Sample Response**\n\n- Even though the probabililty is 0.32, students usually answer -0.46 (the z-score). Ask them why it is a negative number.\n\n</div>\n"
    },
    {
      "cell_type": "markdown",
      "metadata": {
        "cell_id": "57384483d9ee462b8585c13522977751",
        "deepnote_cell_height": 52.359375,
        "deepnote_cell_type": "markdown",
        "tags": []
      },
      "source": "3.9 - What does the z-score of Cameroon mean? "
    },
    {
      "cell_type": "markdown",
      "metadata": {
        "cell_id": "9897a9a02b914de3855a46ac13d40cd6",
        "deepnote_cell_height": 275.6875,
        "deepnote_cell_type": "markdown",
        "tags": []
      },
      "source": "<div class=\"alert alert-block alert-warning\">\n\n**Sample Response**\n\n- The z-score is - 0.46. \n- The negative part: that Cameroon's happiness lies below the mean.\n- The .45 part: that Cameroon is little less than half a standard deviation below the mean. \n- Imagine standard deviation as a little ruler. How many of these rulers would fit between Cameroon's score and the mean? \nNot a whole ruler. About half a ruler.\n\n</div>"
    },
    {
      "cell_type": "markdown",
      "metadata": {
        "cell_id": "28e84ef36afd446faef691d94efd8c49",
        "deepnote_cell_height": 115.9375,
        "deepnote_cell_type": "markdown",
        "tags": []
      },
      "source": "<div class=\"alert alert-block alert-success\">\n\n### 4.0 - Approximate Time: 12-15 mins\n\n</div>"
    },
    {
      "cell_type": "markdown",
      "metadata": {
        "cell_id": "95e8989e86374b088179e4b4696d4d47",
        "deepnote_cell_height": 109.96875,
        "deepnote_cell_type": "markdown",
        "tags": []
      },
      "source": "## (BONUS) 4.0 - Is the DGP of happiness even normal?"
    },
    {
      "cell_type": "markdown",
      "metadata": {
        "cell_id": "162e0f083d6947c6959100dc6f4c660f",
        "deepnote_cell_height": 192.328125,
        "deepnote_cell_type": "markdown",
        "tags": []
      },
      "source": "Many times, students just don't think the normal model is all that important because data look jagged rather than normal to them. It might help to do the following simulation.\n\nThe function `rnorm` is introduced later in the book but it might be helpful here. It will simulate a data point drawn from a normal distribution with a particular mean and standard deviation. First try running the code a few times.\n\n4.1 - Try modifying the code to simulate 147 countries' happiness ratings.\n"
    },
    {
      "cell_type": "code",
      "execution_count": null,
      "metadata": {
        "cell_id": "2dbdad6608694f31a3f46e5915135691",
        "deepnote_cell_height": 96.953125,
        "deepnote_cell_type": "code",
        "execution_context_id": "91dc7c91-ca03-4b3d-95f4-4b060baaa555",
        "execution_millis": 14,
        "execution_start": 1742584620761,
        "output_cleared": false,
        "source_hash": "c763197e",
        "tags": [],
        "trusted": true
      },
      "outputs": [],
      "source": "Happy_stats <- favstats(~Happiness, data = HappyPlanetIndexData)\n\nrnorm(147, mean = Happy_stats$mean, sd = Happy_stats$sd)"
    },
    {
      "cell_type": "code",
      "execution_count": null,
      "metadata": {
        "cell_id": "4edee50306934861a5c5765a692be448",
        "deepnote_cell_height": 827.953125,
        "deepnote_cell_type": "code",
        "deepnote_output_heights": [
          610
        ],
        "output_cleared": false,
        "tags": [],
        "trusted": true
      },
      "outputs": [],
      "source": "# Run this code a few times. What do you think each line does?\n\n# What does this do?\nsim_Happiness <- rnorm(147, mean = Happy_stats$mean, sd = Happy_stats$sd)\n\n# What does this do?\ngf_dhistogram(~ sim_Happiness, color = \"magenta3\") %>%\n    gf_fitdistr()"
    },
    {
      "cell_type": "markdown",
      "metadata": {
        "cell_id": "cb6c60a2302b4dbba468ddfd29bd5cd5",
        "deepnote_cell_height": 74.75,
        "deepnote_cell_type": "markdown",
        "tags": []
      },
      "source": "4.2 - These data are all simulated from a normal distribution. We know they specifically come from a normal distribution. Do samples from a normal distribution **always look** normal?"
    },
    {
      "cell_type": "markdown",
      "metadata": {
        "cell_id": "15dcbba1fc0446c89882eade8fb81329",
        "deepnote_cell_height": 166.109375,
        "deepnote_cell_type": "markdown",
        "tags": []
      },
      "source": "<div class=\"alert alert-block alert-warning\">\n\n**Sample Response**\n\n- Not always.\n- Sometimes they look normal. Sometimes they don't. \n\n</div>"
    },
    {
      "cell_type": "markdown",
      "metadata": {
        "cell_id": "16ebbe1f6557455f9e1eff8b64d4c338",
        "deepnote_cell_height": 74.75,
        "deepnote_cell_type": "markdown",
        "tags": []
      },
      "source": "4.3 - Even though the distribution of happiness doesn't look perfectly normal, could the DGP of happiness be roughly normal?"
    },
    {
      "cell_type": "markdown",
      "metadata": {
        "cell_id": "774893aa1c2d464499d5395ce62168f1",
        "deepnote_cell_height": 284.078125,
        "deepnote_cell_type": "markdown",
        "tags": []
      },
      "source": "<div class=\"alert alert-block alert-warning\">\n\n**Sample Response**\n\n- Yes, it could be a normal DGP.\n- Samples won't always look exactly like the population.\n- It doesn't have to be but it is possible that it is normal.\n- Further explanation: Sometimes we model the DGP as a normal distribution rather than modeling the DGP with the data because we know that the data will change. Also a lot of things in the world have ended up being very normally distributed once we collect a lot of data! \n\n</div>"
    }
  ],
  "metadata": {
    "deepnote_notebook_id": "b66cc646e216434881c37a62718614c8",
    "kernelspec": {
      "display_name": "R",
      "language": "R",
      "name": "ir"
    },
    "language_info": {
      "codemirror_mode": "r",
      "file_extension": ".r",
      "mimetype": "text/x-r-source",
      "name": "R",
      "pygments_lexer": "r",
      "version": "4.3.3"
    },
    "nbsimplegrader": {
      "publish_config": {
        "classes": [],
        "options": {},
        "tools": []
      }
    }
  },
  "nbformat": 4,
  "nbformat_minor": 1
}