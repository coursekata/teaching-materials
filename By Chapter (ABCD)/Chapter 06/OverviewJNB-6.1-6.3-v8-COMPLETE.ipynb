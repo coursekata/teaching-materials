{
  "cells": [
    {
      "cell_type": "markdown",
      "metadata": {},
      "source": "# Quantifying Total Error Around A Model (COMPLETE)\n\n## Chapter 6.1-6.3 Overview Notebook"
    },
    {
      "cell_type": "markdown",
      "metadata": {},
      "source": "<div class=\"teacher-note\">\n\n**Teacher Note:**\nBefore distributing this notebook to students, be sure to fill in a value for class_id in the cell below. We suggest using something that will be unique to you, e.g. you email address. (Just replace where we have entered `teacher@myschool.com.`)\n    \nThis will be the way we pull out the data just for your students. \n    \n</div>"
    },
    {
      "cell_type": "code",
      "execution_count": null,
      "metadata": {
        "cell_id": "00001-729831c0-b16b-460a-acfa-b932eab731be",
        "deepnote_cell_type": "code",
        "scrolled": true,
        "trusted": true
      },
      "outputs": [],
      "source": "# teacher enter a class_id here\nclass_id <- \"teacher@myschool.com\" # put any unique id here (e.g., teacher email address)\n\n# run this to set up the notebook\n\n# run this code to load the R packages we will use\n#remotes::install_version(\"coursekata\", \"0.19.0\", upgrade=\"never\")\nlibrary(coursekata)\nlibrary(gridExtra)\n\n# set styles\ncss <- suppressWarnings(readLines(\"https://raw.githubusercontent.com/jimstigler/jupyter/master/ck_jupyter_styles_v2.css\"))\nIRdisplay::display_html(sprintf('<style>%s</style>', paste(css, collapse = \"\\n\")))\n\n# create two data frames: student_1 and student_2\ntime_sec <- c(7.4, 6, 7.5, 6.4, 6.7)\ntrial <- c(1:5)\nstudent1 <- data.frame(trial, time_sec)\n\ntime_sec <- c(7.4, 6.7, 7.1, 6.2, 7.2, 6.4, 6.5, 7.2, 6.6, 7.4)\ntrial <- c(1:10)\nstudent2 <- data.frame(trial, time_sec)\n\n# set some variables for this notebook\ncondition <- \"guess\" # set as \"timer\" or \"guess\"\nuser_id <- Sys.getenv(\"JUPYTERHUB_USER\") # this gets the users Jupyter ID\n\n# pull in gf_resid and gf_squaresid for now\nsource(\"https://raw.githubusercontent.com/UCLATALL/stopwatch/refs/heads/main/gf_resid.R\")\nsource(\"https://raw.githubusercontent.com/UCLATALL/stopwatch/refs/heads/main/gf_square_resid.R\")\n"
    },
    {
      "cell_type": "markdown",
      "metadata": {},
      "source": "<div class=\"teacher-note\">\n<b>Chapter Overview:</b> In the previous chapter we defined error as the residuals from the model’s prediction for an individual data point to the actual value in the data. In this chapter students will develop tools and concepts for quantifying total error around a model, aggregating across all data points. They also will be introduced to ways of using the distribution of errors for placing individual scores in context and for making different kinds of predictions. Finally, they will explore the idea of modeling a distribution with the normal distribution.\n    \n<b>Section Goals:</b> In this section students are introduced to the important concepts of Sum of Squares and variance as ways of quantifying how much total error there is around a model’s predictions. \n\n- Students learn that because the sum of the residuals around the mean will always be 0, it is not useful as a way of calculating total error. We typically use the sum of squared residuals because it is minimized at the mean of the distribution of any quantitative variable.\n- Students learn that squared residuals can be represented as squares on the coordinate plane, and that the sum of squares is literally the sum of the areas of the squares formed by squaring residuals.\n- Students also are introduced to the concept of variance, which is based on the sum of squares, but adjusted by sample size to be per observation, making it comparable across different samples. \n- Students learn to use R to calculate sum of squares and variance from a data frame directly and by using the supernova() function.\n    \n</div>"
    },
    {
      "cell_type": "markdown",
      "metadata": {},
      "source": "## 1 Why Do We Build Models? To Reduce Error\n\nWhen we build models in statistics, one of our big goals is to reduce error. No model is ever going to be perfect. It's predictions will always be a little off from the data. But some models do a better job than others.\n\nSo far we have learned to make a very simple model: the empty model (on the left). Later we will learn to make more complex models (like the one on the right). Both of these models are based on the same data points. Just looking at them, you may think that one model has more error than the other. But how much more?\n\nIn order to compare the two models accurately, we need a **measure** of how much total error there is around a model. Developing such a measure is the focus of this lesson, starting with the empty model.\n\n<img src=\"https://coursekata-course-assets.s3.us-west-1.amazonaws.com/UCLATALL/czi-stats-course/6.1-6.3-overview-empty-complex.jpg\" width=\"90%\">\n"
    },
    {
      "cell_type": "markdown",
      "metadata": {},
      "source": "<div class=\"discussion-question\">\n    \n### 1.1 Discussion Question: Which model has less error and how can you tell? Why can't we just use the sum of the residuals as a measure of total error? \n    \n</div>"
    },
    {
      "cell_type": "markdown",
      "metadata": {},
      "source": "<div class=\"teacher-note\">\n\n**Sample Responses:**  \n- The complex model seems like it has less error because the residuals are shorter.\n- The positive and negative residuals cancel out. \n- The total will always be zero. And it's not that the empty model literally has 0 error.\n\nIf students think summing residuals might work, you might consider asking:   \n- The sum of residuals from the empty model was 0. Does that mean the model makes no error? \n- If we compared two different models and both had sums of zero, how would we decide which is better?\n\nThe goal is to help them see that “balancing” is not the same as “small error.” Hopefully students see a need for a measure of error that doesn’t cancel positives and negatives. \n\n</div>"
    },
    {
      "cell_type": "markdown",
      "metadata": {},
      "source": "## 2 Estimating Elapsed Time\n\nIn order to start developing a measure of error, we need some data we can model.  \n\n### 2.1 Let’s collect our own!\n\nIn the cell below we have a stopwatch. But this is not a normal stopwatch. On this stopwatch, after you click the **Start** button you won't be able to read the elapsed time until your click on **Stop**. Let's see how it works. Try using the stopwatch to guess when exactly 7 seconds are up. Try it a few times. "
    },
    {
      "cell_type": "markdown",
      "metadata": {},
      "source": "<div class=\"teacher-note\">\n\n**Teacher Note:**\n\nProject the timer on a screen. Let a few students come up one at a time and try to use the stopwatch to guess when exactly 7 seconds are up. Alternatively, if students are working in their own notebooks, they can all try the stopwatch game.\n    \nYou can ask students about their strategies for estimating elapsed time (their internal \"data generating process\"). Many will count—sometimes using \"1-mississippi, 2-mississippi.\" \n\n</div>"
    },
    {
      "cell_type": "code",
      "execution_count": null,
      "metadata": {
        "scrolled": false,
        "trusted": true
      },
      "outputs": [],
      "source": "# run this cell\nIRdisplay::display_html(sprintf(\n  '<iframe src=\"https://uclatall.github.io/stopwatch/stopwatch-v3.html?save_data=false&progress=hide\" width=\"500\" height=\"210\" sandbox=\"allow-scripts allow-same-origin\"></iframe>'\n))"
    },
    {
      "cell_type": "markdown",
      "metadata": {},
      "source": "<div class=\"discussion-question\">\n    \n### 2.2 Discussion Questions: Let's say someone tried the guessing game five times. Could you use their data to make a model to predict what their guess would be for a sixth time? \n\n- How would you make the model?\n- What does it mean to \"fit\" a model? \n- What does it mean for a model to be the \"best fit\" for the data?\n    \n</div>"
    },
    {
      "cell_type": "markdown",
      "metadata": {},
      "source": "<div class=\"teacher-note\">\n\n**Teacher Note:**\n- Some students might say \"use the empty model\" or \"average\" or \"mean\" mostly because that is all they know so far.\n- Remind students that when we say a model “fits the data,” we’re looking at how far off each prediction is from the actual guess (the residuals). The mean would be the best-fitting one parameter model because it perfectly balances the residuals. \n    \n</div>"
    },
    {
      "cell_type": "markdown",
      "metadata": {},
      "source": "### 2.3 Let's collect 5 trials of data from a single student.\n\nWe need a volunteer to do 5 trials guessing an elapsed time of 7 seconds. The stopwatch below will collect the data from each trial and save it in a Google sheet.  \n\n**Important: This time we've made the task a little harder.** You won’t get to see how well the volunteer did until all 5 trials are complete and we pull the data into R. This way we’ll have a small dataset we can use to fit the empty model and explore total error."
    },
    {
      "cell_type": "code",
      "execution_count": null,
      "metadata": {
        "scrolled": true,
        "trusted": true
      },
      "outputs": [],
      "source": "# then run this code to render the stopwatch\nIRdisplay::display_html(sprintf(\n  '<iframe src=\"https://uclatall.github.io/stopwatch/stopwatch-v3.html?condition=%s&class_id=%s&user_id=%s&trials=5&progress=hide&result=hide\" width=\"500\" height=\"210\" sandbox=\"allow-scripts allow-same-origin\"></iframe>',\n  condition, class_id, user_id\n))"
    },
    {
      "cell_type": "markdown",
      "metadata": {},
      "source": "### 2.4 How well did they do? Run the code below to import the data into R\n\nThe code below imports data for the five trials into an R data frame called `volunteer_student`"
    },
    {
      "cell_type": "code",
      "execution_count": null,
      "metadata": {
        "trusted": true
      },
      "outputs": [],
      "source": "# run this code to import the most recent session from your class\nsheet_url <- \"https://docs.google.com/spreadsheets/d/e/2PACX-1vQRi4VBEFYGz_HnJXBsxlawbqM4vg5vgullb-iIqc5-dOpqEBCck12IS7lPD7bEdoxe8VPKYKe86Db4/pub?output=csv\"\nvolunteer_student <- utils::read.csv(sheet_url, header = TRUE, stringsAsFactors = FALSE) %>%\n  mutate(date = as.POSIXct(date, format = \"%Y-%m-%dT%H:%M:%OSZ\", tz = \"UTC\")) %>%\n  filter(user_id == !!user_id) %>%\n  filter(session_id == session_id[which.max(date)]) %>%\n  select(user_id, trial, time_sec, date)\n\n# prints out the recent_data\nvolunteer_student"
    },
    {
      "cell_type": "markdown",
      "metadata": {},
      "source": "<div class=\"guided-notes\">\n    \n### 2.5 What does each row of the data frame represent? How about each column? (Put an asterisk next to the outcome variable.)\n    \n</div>"
    },
    {
      "cell_type": "markdown",
      "metadata": {},
      "source": "<div class=\"teacher-note\">\n\n**Teacher Note:**\n    \nNote that `trial` shows the trial number of the 5 trials. You should see 5 rows of data.\n    \n</div>"
    },
    {
      "cell_type": "markdown",
      "metadata": {},
      "source": "## 3 Fit the Empty Model of `time_sec`\n\n### 3.1 Let's look at data from someone called `student1` and then create a scatter plot.\n\nLet’s look at some data collected from a previous student who tried this task. Run the code below to take a look at the `student1` data frame. \n\nThen make a scatter plot with `time_sec` on the y-axis (the outcome variable) and `trial` on the x-axis. How well did this person do?\n"
    },
    {
      "cell_type": "code",
      "execution_count": null,
      "metadata": {
        "trusted": true
      },
      "outputs": [],
      "source": "# run this cell\nstr(student1)\n\n# graph time_sec by trial\n\n# COMPLETE\ngf_point(time_sec ~ trial, data = student1) "
    },
    {
      "cell_type": "markdown",
      "metadata": {},
      "source": "<div class=\"guided-notes\">\n    \n### 3.2 Write code to fit the empty model of `time_sec` and save it as `empty_model1`, and then print out the parameter estimate ($b_0$)\n    \n</div>"
    },
    {
      "cell_type": "code",
      "execution_count": null,
      "metadata": {
        "trusted": true
      },
      "outputs": [],
      "source": "# code here\n\n# COMPLETE\nempty_model1 <- lm(time_sec ~ NULL, data = student1)\nempty_model1"
    },
    {
      "cell_type": "markdown",
      "metadata": {},
      "source": "<div class=\"guided-notes\">\n    \n### 3.3 Write the best-fitting model in GLM notation. \n</div>"
    },
    {
      "cell_type": "markdown",
      "metadata": {},
      "source": "<div class=\"teacher-note\">\n\n**Sample response:** \n    \n$Y_i=6.8+e_i$\n</div>"
    },
    {
      "cell_type": "markdown",
      "metadata": {},
      "source": "<div class=\"guided-notes\">\n    \n### 3.4 Draw the best-fitting empty model onto the scatter plot provided\n    \n</div>\n"
    },
    {
      "cell_type": "code",
      "execution_count": null,
      "metadata": {
        "trusted": true
      },
      "outputs": [],
      "source": "# to see what the drawing should look like, run this \ngf_point(time_sec ~ trial, data = student1) %>%\n  gf_model(empty_model1) "
    },
    {
      "cell_type": "markdown",
      "metadata": {},
      "source": "<div class=\"discussion-question\">\n    \n### 3.5 Discussion Question: How would we use this model to make a prediction about the next trial?\n    \n</div>"
    },
    {
      "cell_type": "markdown",
      "metadata": {},
      "source": "<div class=\"teacher-note\">\n\n**Sample Response:** \n\n- We can use this number (6.8) as our prediction. On their next trial, we predict this person would stop the timer at 6.8 seconds.\n    \n</div>"
    },
    {
      "cell_type": "markdown",
      "metadata": {},
      "source": "## 4 Measuring Total Error\n\nWe have fit the empty model for `student1`. We know there is error around the model prediction, evidenced by the fact that none of the estimates are exactly 6.8 seconds. But how much *total error*? How can we measure total error?  \n\nWe already know one method that won’t work: just adding up the residuals. That always comes out to zero for the empty model.\n"
    },
    {
      "cell_type": "markdown",
      "metadata": {},
      "source": "<div class=\"discussion-question\">\n    \n### 4.1 Discussion Question: What are some other ideas for how to calculate the total error around a model?\n    \n</div>"
    },
    {
      "cell_type": "code",
      "execution_count": null,
      "metadata": {
        "trusted": true
      },
      "outputs": [],
      "source": "# run this\ngf_point(time_sec ~ trial, data = student1) %>%\n  gf_model(empty_model1) %>%\n  gf_resid(empty_model1, color=\"red\")"
    },
    {
      "cell_type": "markdown",
      "metadata": {},
      "source": "### 4.2 One idea: Sum the absolute values of the residuals\n\nA good idea is to add up the absolute values of the residuals: `sum(abs(resid(empty_model1)))` In effect, this sums up the distances of each data point from the model prediction.\n\n- ✅ Absolute value solves the canceling problem (positive and negative errors both become positive).\n- ❌ The problem with this solution is that the sum of absolute residuals is not minimized at the mean. The mean would not be the *best-fitting* empty model if this were our measure of error."
    },
    {
      "cell_type": "code",
      "execution_count": null,
      "metadata": {
        "trusted": true
      },
      "outputs": [],
      "source": "# If you want to explore sum of absolute residuals, \n# try uncommenting each of these lines of code one at a time\n\n# resid(empty_model1)\n# abs(resid(empty_model1))\n# sum(abs(resid(empty_model1)))"
    },
    {
      "cell_type": "markdown",
      "metadata": {},
      "source": "### 4.3 The most common solution: Sum of Squares Total (SST)\n\nInstead of adding residuals or absolute residuals, the most common measure of total error is the sum of the squared residuals. This is calculated by squaring each residual, then adding up the squares.\n\n- ✅ Squaring solves the canceling problem (positive and negative errors both become positive).\n- ✅ Squaring also ensures the mean is the best-fitting empty model.\n\nThis measure is called the Sum of Squares (SS). When we’re talking about the total error around the empty model, we call it the Sum of Squares Total (SST)."
    },
    {
      "cell_type": "markdown",
      "metadata": {},
      "source": "<div class=\"guided-notes\">\n    \n### 4.4 We've learned how to represent residuals on a graph. How would we represent squared residuals on a graph? Draw how you think you could do that.\n\n</div>\n"
    },
    {
      "cell_type": "code",
      "execution_count": null,
      "metadata": {
        "trusted": true
      },
      "outputs": [],
      "source": "# run this after students predict\ngf_point(time_sec ~ trial, data = student1) %>%\n  gf_model(empty_model1) %>%\n  gf_resid(empty_model1) %>%\n  gf_squaresid(empty_model1, color = \"blue\")"
    },
    {
      "cell_type": "markdown",
      "metadata": {},
      "source": "<div class=\"discussion-question\">\n    \n### 4.5 Discussion Question: In sum of squares, what exactly is being summed?\n    \nAs a contrast, also consider, in sum of residuals, what exactly is being summed?\n    \n</div>"
    },
    {
      "cell_type": "markdown",
      "metadata": {},
      "source": "<div class=\"teacher-note\">\n\n**Sample Responses:**  \n- In the sum of squares, we are adding up the **areas** of squares, each side equal to the length of a residual.  \n- In the sum of residuals, we are adding up the **vertical deviations** (positive above the model, negative below). \n\nStudents may also say things like “you’re summing the error” or “you’re adding up how far off the guesses are.” Push them to be spatial:  \n- Are we adding lengths, deviations, or areas?\n\n</div>\n"
    },
    {
      "cell_type": "markdown",
      "metadata": {},
      "source": "<div class=\"guided-notes\">\n\n### 4.6 Modify the R code below to calculate the sum of squares    \n\n- NOTE: You need to square the residuals before you sum them\n- Afterwards, write the R code to calculate the SS using the supernova() function\n    \n</div>\n"
    },
    {
      "cell_type": "code",
      "execution_count": null,
      "metadata": {
        "scrolled": true,
        "trusted": true
      },
      "outputs": [],
      "source": "# modify this code; you should get 1.66\nresid(empty_model1)\n\n# COMPLETE\nsum(  resid(empty_model1)^2  )\n# teach students the supernova function as well\nsupernova(empty_model1)"
    },
    {
      "cell_type": "markdown",
      "metadata": {},
      "source": "<div class=\"discussion-question\">\n    \n### 4.7 Discussion Question: What units is this number in? Is 1.66 a lot or a little total error?\n    \n</div>"
    },
    {
      "cell_type": "markdown",
      "metadata": {},
      "source": "<div class=\"teacher-note\">\n\n**Sample Responses:**\n- The units are squared seconds. \n- Some students may try to judge (e.g., 1.66 seems small). \n\nKey idea: SST is not easy to interpret on its own. The unit is not intuitive (what is a squared second?). SST only becomes meaningful when we use it to compare two different models of the same outcome variable.\n\nThe best answer to “Is 1.66 a lot?” is: “We don’t know until we compare it to another model.”\n    \n</div>"
    },
    {
      "cell_type": "markdown",
      "metadata": {},
      "source": "## 5 Mathematical Notation for SST\n\nWe don't introduce a lot of formulas in this course, but the formula for sum of squares is important enough that you should learn it. \n\nHere is the formula: <br><br>\n\n<div style=\"font-size: 20pt;\">$SST=\\sum_{i=1}^n (Y_i-\\bar{Y})^2$</div>\n\n**This is often abbreviated like this:**<br><br>\n\n<div style=\"font-size: 20pt;\">$SST=\\sum (Y_i-\\bar{Y})^2$</div>\n\nThe $\\sum$ symbol stands for sum (for every row i, which goes from 1 to n, the last row of your data).\n\n**And you could also write this to mean the same thing:**<br><br>\n\n<div style=\"font-size: 20pt;\">$SST=\\sum (Y_i-\\hat{Y})^2$</div>\n\n$\\hat{Y}$ (y-hat) is the model prediction, which for the empty model is just the mean of $Y$, or $\\bar{Y}$."
    },
    {
      "cell_type": "markdown",
      "metadata": {},
      "source": "<div class=\"guided-notes\">\n    \n### 5.1 Fill in the missing table cells to connect the R code to the formula\n    \n</div>"
    },
    {
      "cell_type": "markdown",
      "metadata": {},
      "source": "<table border=\"1\" style=\"font-size: 18px; margin-left: 0; border-collapse: collapse; width: 100%\">\n  <thead>\n    <tr>\n      <th style=\"border: 1px solid black; font-weight: bold; width: 30%; text-align: left\">R Code</th>\n      <th style=\"border: 1px solid black; font-weight: bold; width: 10%; text-align: left\">Formula Symbol</th>\n      <th style=\"border: 1px solid black; font-weight: bold; width: 60%; text-align: left\">Meaning</th>\n    </tr>\n  </thead>\n  <tbody>\n    <tr style=\"background-color: #f2f2f2;\">\n      <td style=\"border: 1px solid black;text-align: left; font-size: 16px;\"><code>time_sec</code> or <code>student1$time_sec</code></td>\n      <td style=\"border: 1px solid black;text-align: left\">Y<sub>i</sub></td>\n      <td style=\"border: 1px solid black;text-align: left\">Values of the outcome variable (each guess in seconds)</td>\n    </tr>\n    <tr>\n      <td style=\"border: 1px solid black;text-align: left; font-size: 16px;\"><code>mean(student1&#36;time_sec)</code></td>\n      <td style=\"border: 1px solid black;text-align: left;\"><span style=\"text-decoration: overline;\">Y</span><br>(Y-bar)</td>\n      <td style=\"border: 1px solid black;text-align: left;\"> </td>\n    </tr>\n    <tr style=\"background-color: #f2f2f2;\">\n      <td style=\"border: 1px solid black;text-align: left; font-size: 16px;\"><code>_________(empty_model)</code></td>\n      <td style=\"border: 1px solid black;text-align: left;\">Y<sub>i</sub> − <span style=\"text-decoration: overline;\">Y</span></td>\n      <td style=\"border: 1px solid black;text-align: left;\">Residuals from the empty model (differences between each value and the mean)</td>\n    </tr>\n    <tr>\n      <td style=\"border: 1px solid black;text-align: left; font-size: 16px;\"><code>resid(empty_model)^2</code></td>\n      <td style=\"border: 1px solid black;text-align: left;\"> </td>\n      <td style=\"border: 1px solid black;text-align: left;\">Squared residuals</td>\n    </tr>\n    <tr style=\"background-color: #f2f2f2;\">\n      <td style=\"border: 1px solid black;text-align: left; font-size: 16px;\"><code>sum(resid(empty_model)^2)</code></td>\n      <td style=\"border: 1px solid black;text-align: left;\"> </td>\n      <td style=\"border: 1px solid black;text-align: left;\"> </td>\n    </tr>\n  </tbody>\n</table>"
    },
    {
      "cell_type": "markdown",
      "metadata": {},
      "source": "<div class=\"discussion-question\">\n\n### 5.2 Discussion Question: What happens when we run the code in the cell below? Will it add additional rows or additional columns to the `student1` dataset? How do you know?\n\n</div>"
    },
    {
      "cell_type": "code",
      "execution_count": null,
      "metadata": {
        "trusted": true
      },
      "outputs": [],
      "source": "# just run this; but let's not print student1 just yet\n# we'll print it after our activity in 5.3\nstudent1$empty_predict <- predict(empty_model1)\nstudent1$empty_resid <- resid(empty_model1)\nstudent1$empty_resid_sqrd <- resid(empty_model1)^2"
    },
    {
      "cell_type": "markdown",
      "metadata": {},
      "source": "<div class=\"teacher-note\">\n\n**Sample Responses:**  \n- It adds columns, not rows.  \n- You know this because the number of trials (rows) stays the same; we’re just attaching new information (predictions, residuals, squared residuals) for each trial.  \n\n</div>"
    },
    {
      "cell_type": "markdown",
      "metadata": {},
      "source": "<div class=\"guided-notes\">\n\n### 5.3 Below is the new version of the student1 data table that we created using the predict() and resid() functions. Some of the cells are empty. \n    \n- Fill in the top of each column with the R code that was used to produce each of the new columns (e.g., `student1$empty_predict <- <your code here>`)\n- Fill in the second row of each column with the appropriate mathematical notation: \n $Y_i$, $\\hat{Y}$, $(Y_i-\\hat{Y})$, or $(Y_i-\\hat{Y})^2$.\n- Finally, fill in any missing values in the data table.\n\n</div>"
    },
    {
      "cell_type": "markdown",
      "metadata": {},
      "source": "<table border=\"1\" style=\"font-size: 18px; margin-left: 0; border-collapse: collapse; width: 100%\">\n  <thead>\n    <tr>\n      <th colspan=\"2\" style=\"border: 1px solid black; background-color: #7F7F7F; color: white; text-align: left; width: 20%;\">\n        R code &rarr;\n      </th>\n      <th style=\"border: 1px solid black; width: 26%;\"></th>\n      <th style=\"border: 1px solid black; width: 27%;\"></th>\n      <th style=\"border: 1px solid black; width: 27%;\"></th>\n    </tr>\n      <tr>\n      <th style=\"border: 1px solid black; background-color: #444; color: white; text-align: left; width: 20%;\">\n        math &rarr;\n      </th>\n      <th style=\"border: 1px solid black;text-align: right;\"></th>\n      <th style=\"border: 1px solid black; width: 26%;\"></th>\n      <th style=\"border: 1px solid black; width: 27%;\"></th>\n      <th style=\"border: 1px solid black; width: 27%;\"></th>\n    </tr>\n    <tr>\n      <th style=\"border: 1px solid black;text-align: right;\">trial</th>\n      <th style=\"border: 1px solid black;text-align: right;\">time_sec</th>\n      <th style=\"border: 1px solid black;text-align: right;\">empty_predict</th>\n      <th style=\"border: 1px solid black;text-align: right;\">empty_resid</th>\n      <th style=\"border: 1px solid black;text-align: right;\">empty_resid_sqrd</th>\n    </tr>\n  </thead>\n  <tbody>\n    <tr style=\"border: 1px solid black;text-align: right;\">\n      <td style=\"border: 1px solid black;\">1</td>\n      <td style=\"border: 1px solid black;\">7.4</td>\n      <td style=\"border: 1px solid black;\">6.8</td>\n      <td style=\"border: 1px solid black;\">0.6</td>\n      <td style=\"border: 1px solid black;\">0.36</td>\n    </tr>\n      <tr>\n      <td style=\"border: 1px solid black;\">2</td>\n      <td style=\"border: 1px solid black;\">6.0</td>\n      <td style=\"border: 1px solid black;\"> </td>\n      <td style=\"border: 1px solid black;\">-0.8</td>\n      <td style=\"border: 1px solid black;\">0.64</td>\n    </tr>\n    <tr>\n      <td style=\"border: 1px solid black;\">3</td>\n      <td style=\"border: 1px solid black;\">7.5</td>\n      <td style=\"border: 1px solid black;\">6.8</td>\n      <td style=\"border: 1px solid black;\"> </td>\n      <td style=\"border: 1px solid black;\">0.49</td>\n    </tr>\n    <tr>\n      <td style=\"border: 1px solid black;\">4</td>\n      <td style=\"border: 1px solid black;\">6.4</td>\n      <td style=\"border: 1px solid black;\">6.8</td>\n      <td style=\"border: 1px solid black;\">-0.4</td>\n      <td style=\"border: 1px solid black;\"> </td>\n    </tr>\n    <tr>\n      <td style=\"border: 1px solid black;\">5</td>\n      <td style=\"border: 1px solid black;\">6.7</td>\n      <td style=\"border: 1px solid black;\"> </td>\n      <td style=\"border: 1px solid black;\">0.1</td>\n      <td style=\"border: 1px solid black;\"> </td>\n    </tr>\n  </tbody>\n</table>"
    },
    {
      "cell_type": "code",
      "execution_count": null,
      "metadata": {
        "trusted": true
      },
      "outputs": [],
      "source": "# just run this\nstudent1$empty_predict <- predict(empty_model1)\nstudent1$empty_resid <- resid(empty_model1)\nstudent1$empty_resid_sqrd <- resid(empty_model1)^2\n\nstudent1"
    },
    {
      "cell_type": "markdown",
      "metadata": {},
      "source": "<div class=\"discussion-question\">\n    \n### 5.4 Now that we have this updated `student1` data frame, what are some different ways we could calculate Sum of Squares Total? \n    \n- For each method, let's try to work out the R code to do implement.  \n    \n</div>"
    },
    {
      "cell_type": "code",
      "execution_count": null,
      "metadata": {
        "trusted": true
      },
      "outputs": [],
      "source": "# code here\nsum(student1$empty_resid_sqrd)"
    },
    {
      "cell_type": "markdown",
      "metadata": {},
      "source": "<div class=\"teacher-note\">\n\n**Sample response:**  \n- Students easily think that we should sum one of the columns. \n- But should we sum the `empty_resid_sqrd` or `empty_resid` columns? \n\n</div>"
    },
    {
      "cell_type": "markdown",
      "metadata": {},
      "source": "<div class=\"discussion-question\">\n    \n### 5.5 The Sum of Squares Total for student 1's data is 1.66. Why does the first line of code work and the second doesn't?\n    \n</div>"
    },
    {
      "cell_type": "code",
      "execution_count": null,
      "metadata": {
        "trusted": true
      },
      "outputs": [],
      "source": "# this code works\nsum( student1$empty_resid_sqrd ) \n\n# this code does not\n# hint: this number is very close to 0\nsum( student1$empty_resid )^2 "
    },
    {
      "cell_type": "markdown",
      "metadata": {},
      "source": "<div class=\"teacher-note\">\n\n**Teacher Note:**\nIt's a common error for students to add the residuals, then square the sum, instead of squaring each residual first and than adding the squares. If they do the first they will get 0 because the sum of the residuals is 0, and thus when you square it you still get 0!\n    \nThe correct formula is this (as implemented by the first line of R code): $SST=\\sum_{i=1}^n (Y_i-\\bar{Y})^2$\n    \nThe second line of R code is actually doing this: $SST = \\left( \\sum_{i=1}^n (Y_i - \\bar{Y}) \\right)^2$\n    \n</div>"
    },
    {
      "cell_type": "markdown",
      "metadata": {},
      "source": "## 6 How Sample Size Affects SST\n\nWe've been working with a small dataset from Student 1. It only has 5 data points. Student 2 generated 10 data points - twice as many as Student 1. Let's see how this difference in sample size affects Sum of Squares Total."
    },
    {
      "cell_type": "markdown",
      "metadata": {},
      "source": "<div class=\"discussion-question\">\n    \n### 6.1 Discussion: Student 2 happens to be a bit better at this task than Student 1. Student 1’s SST was 1.66. Let's make a prediction. How will Student 2's SST compare to Student 1?\n    \n</div>"
    },
    {
      "cell_type": "markdown",
      "metadata": {},
      "source": "<div class=\"teacher-note\">\n\n**Sample Responses:**  \n- Some students will say \"smaller SST\" because Student 2 is better.  \n- Some students will say \"bigger SST\" because there are 10 trials, so more squares get added up.  \n\n**Follow-up questions (optional):**  \n- If Students 1 and 2 were about equally good, how would their SSTs compare? (directs attention to \"bigger SST\" possibility)\n- If Student 2 guessed exactly 7 seconds every time, what would their SST be? (directs attention to \"bigger SST\" possibility)\n\n</div>\n"
    },
    {
      "cell_type": "markdown",
      "metadata": {},
      "source": "### 6.2 In the code cell below, fit and save `empty_model2` for `time_sec` in the `student2` data frame. Print it out and interpret the parameter estimate."
    },
    {
      "cell_type": "code",
      "execution_count": null,
      "metadata": {
        "trusted": true
      },
      "outputs": [],
      "source": "# code here\n\n# COMPLETE\nempty_model2 <- lm(time_sec ~ NULL, data = student2)\nempty_model2"
    },
    {
      "cell_type": "markdown",
      "metadata": {},
      "source": "<div class=\"teacher-note\">\n\n**Sample Response:**  \n- 6.87 is the average time (in seconds) Student 2 guessed\n- This number is a little closer to 7 seconds than Student 1's average (6.8)\n\n</div>\n"
    },
    {
      "cell_type": "markdown",
      "metadata": {},
      "source": "<div class=\"discussion-question\">\n    \n### 6.3 Discussion: Just looking at the two plots:\n- Which one is Student 1 and which one is Student 2? \n- Which model, `empty_model1` and `empty_model2`, looks like it would have the larger SST? Why?\n- Is Student 2 more accurate at the estimation task? How can you tell?\n\n</div>"
    },
    {
      "cell_type": "markdown",
      "metadata": {},
      "source": "<img src=\"https://coursekata-course-assets.s3.us-west-1.amazonaws.com/UCLATALL/czi-stats-course/6.1-6.3-overview-SS-Total-2-students.jpg\" alt = \"the squares that comprise SST for student 1 and student 2's guesses\" width=\"100%\">"
    },
    {
      "cell_type": "markdown",
      "metadata": {},
      "source": "<div class=\"teacher-note\">\n\n**Sample Responses:**  \n- Student 2’s SST looks bigger because there are way more squares being added up. \n- Student 1’s SST looks bigger because even though there are fewer squares, the squares are bigger.\n- Key idea for them to notice is that SST depends both on size of square and number of squares.\n- Some students may question whether Student 2 really is better.\n\n</div>\n"
    },
    {
      "cell_type": "markdown",
      "metadata": {},
      "source": "### 6.4 Write R code to calculate Sum of Squares Total for `student1` and `student2`. Do the calculations confirm your intuitions?"
    },
    {
      "cell_type": "code",
      "execution_count": null,
      "metadata": {
        "trusted": true
      },
      "outputs": [],
      "source": "# code here\n\n# COMPLETE\nsum(resid(empty_model1)^2)\nsum(resid(empty_model2)^2)\n\n# alternatively you can use the shortcut\nsupernova(empty_model1)\nsupernova(empty_model2)"
    },
    {
      "cell_type": "markdown",
      "metadata": {},
      "source": "<div class=\"teacher-note\">\n\n**Teacher Note:**  \n    \nStudent 2’s SST comes out larger than Student 1’s, even though Student 2’s individual squares are (on average) smaller. \n\n</div>\n"
    },
    {
      "cell_type": "markdown",
      "metadata": {},
      "source": "## 7 Variance\n\nWe just saw that Student 2’s SST was larger than Student 1’s. But this doesn’t mean the empty model fits Student 2’s data worse. It just means we added up more squared residuals (10 squares instead of 5).  \n\nSo SST by itself isn’t a fair way to compare across datasets of different sizes.\n\nTo get a more comparable indicator of how well the model fits, statisticians use something called **variance**. Variance is simply the SST divided by n-1 (the n stands for the number of data points). In this way, variance corrects for the difference in sample size between the two datasets. (n-1 is called the *degrees of freedom*. We will discuss this more in later parts of the course.)"
    },
    {
      "cell_type": "markdown",
      "metadata": {},
      "source": "<div class=\"guided-notes\">\n    \n### 7.1 Modify the code we use to calculate SST around `empty_model2` to calculate variance instead for `student2`\n    \n- Afterwards, write the R code to calculate the SS using the supernova() function\n- Finally, write the R code to calculate the variance using the var() function\n\n</div>\n"
    },
    {
      "cell_type": "code",
      "execution_count": null,
      "metadata": {
        "trusted": true
      },
      "outputs": [],
      "source": "# modify this\nsum(resid(empty_model2)^2)\n\n# COMPLETE\nsum(resid(empty_model2)^2) / (10-1) # or you can put 9\n\n# the shortcut will print out the degrees of freedom and variance too \n# how super!\nsupernova(empty_model2)\n\n# this code is like favstats\nvar(~ time_sec, data = student2)"
    },
    {
      "cell_type": "markdown",
      "metadata": {},
      "source": "<div class=\"discussion-question\">\n\n### 7.2 Discussion: In the `supernova()` table, the column labeled MS stands for \"mean square\".  That is just another way of saying \"variance\". Why does it make sense to think of variance as a \"mean square\"? \n</div>\n"
    },
    {
      "cell_type": "markdown",
      "metadata": {},
      "source": "<div class=\"teacher-note\">\n\n**Sample Responses:**  \n- It's sort of like the area of the average square.\n- It's similar to the average of the squared residuals (if we divided by n instead of n-1).\n\n</div>\n"
    },
    {
      "cell_type": "markdown",
      "metadata": {},
      "source": "<div class=\"guided-notes\">\n\n### 7.3 How would you modify the formula for SST to get the formula for variance?   \n\n<div style=\"font-size: 20pt;text-align: center\">$\\sum (Y_i-\\bar{Y})^2$</div>\n\n</div>\n"
    },
    {
      "cell_type": "markdown",
      "metadata": {},
      "source": "<div class=\"teacher-note\">\n\n**Sample Response:**  \n    \n<div style=\"font-size: 20pt;\">$\\text{variance} = \\text{MS} = \\frac{\\sum (Y_i-\\bar{Y})^2}{n-1}$</div>\n\n</div>\n"
    },
    {
      "cell_type": "markdown",
      "metadata": {},
      "source": "### 7.4 Using variance to compare Student 1 and Student 2\n\nIn the code cell below, use the `supernova()` function to calculate the variance of Student 1 and Student 2."
    },
    {
      "cell_type": "code",
      "execution_count": null,
      "metadata": {
        "trusted": true
      },
      "outputs": [],
      "source": "# code here\nsupernova(empty_model1)\nsupernova(empty_model2)"
    },
    {
      "cell_type": "markdown",
      "metadata": {},
      "source": "<div class=\"discussion-question\">\n\n### 7.5 Discussion: Notice that the SS of Student 2 is larger than Student 1; but the MS (variance) of Student 2 is smaller than Student 1. Why do you think this is? How would you interpret these numbers? \n</div>\n"
    },
    {
      "cell_type": "markdown",
      "metadata": {},
      "source": "<div class=\"teacher-note\">\n\n**Teacher Note:** SS is hard to interpret because it goes up with sample size. Variance, however, because it is adjusted by sample size, indicates that indeed, Student 2 is more accurate, on average, than Student 1, which means that the model has less error.\n\n</div>\n"
    },
    {
      "cell_type": "markdown",
      "metadata": {},
      "source": "## 8 Practice What You've Learned\n**NOTE: This might be better put in a separate notebook.**\nTry collecting data on yourself, fitting the empty model, and then calculating the SST around your model. See how your level of error compares to your classmates, and think about what this comparison means.\n\n### 8.1 Run the code in the cell below to set up your own stopwatch. How long is 16 seconds?\n\nTo make it harder, try estimating the duration of 16 seconds instead of 7. And try doing it 10 times. Just push **Start** to begin, and when you're done we'll show you how to download your data. **You won't be able to see your times until you have completed all 10 trials and imported the data into R.**"
    },
    {
      "cell_type": "code",
      "execution_count": null,
      "metadata": {
        "trusted": true
      },
      "outputs": [],
      "source": "# run this code to render the stopwatch\nIRdisplay::display_html(sprintf(\n  '<iframe src=\"https://uclatall.github.io/stopwatch/stopwatch-v3.html?condition=%s&class_id=%s&user_id=%s&trials=10&progress=hide&result=hide\" width=\"500\" height=\"220\" sandbox=\"allow-scripts allow-same-origin\"></iframe>',\n  condition, class_id, user_id\n))"
    },
    {
      "cell_type": "markdown",
      "metadata": {},
      "source": "### 8.2 Run the cell below to get your data in a data frame called `my_data`\n\nNote: If you don't do the trials in 8.1 above, you will have no data in `my_data`."
    },
    {
      "cell_type": "code",
      "execution_count": null,
      "metadata": {
        "trusted": true
      },
      "outputs": [],
      "source": "# run this code to import your data from your most recent session\nsheet_url <- \"https://docs.google.com/spreadsheets/d/e/2PACX-1vQRi4VBEFYGz_HnJXBsxlawbqM4vg5vgullb-iIqc5-dOpqEBCck12IS7lPD7bEdoxe8VPKYKe86Db4/pub?output=csv\"\nmy_data <- utils::read.csv(sheet_url, header = TRUE, stringsAsFactors = FALSE) %>%\n  mutate(date = as.POSIXct(date, format = \"%Y-%m-%dT%H:%M:%OSZ\", tz = \"UTC\")) %>%\n  filter(user_id == !!user_id) %>%\n  filter(session_id == session_id[which.max(date)]) %>%\n  select(user_id, trial, time_sec)\n\n# this prints out my_data\nmy_data"
    },
    {
      "cell_type": "markdown",
      "metadata": {},
      "source": "### 8.3 Create and save `my_empty_model` of `time_sec` in your data. Print out the parameter estimate."
    },
    {
      "cell_type": "code",
      "execution_count": null,
      "metadata": {
        "trusted": true
      },
      "outputs": [],
      "source": "# code here\nmy_empty_model <- lm(time_sec ~ NULL, data = my_data)"
    },
    {
      "cell_type": "markdown",
      "metadata": {},
      "source": "### 8.4 Write your best-fitting empty model in GLM notation and interpret the parameter estimate"
    },
    {
      "cell_type": "markdown",
      "metadata": {},
      "source": "Empty model in GLM notation:\n\nInterpretation of parameter estimate:\n"
    },
    {
      "cell_type": "markdown",
      "metadata": {},
      "source": "### 8.5 Plot `time_sec` by `trial`. Then:\n- Overlay the empty model. Run it to make sure the code works.\n- Overlay the residuals. Run it to make sure the code works.\n- Overlay the squared residuals. Run it to make sure the code works."
    },
    {
      "cell_type": "code",
      "execution_count": null,
      "metadata": {
        "trusted": true
      },
      "outputs": [],
      "source": "# code here\n\n# COMPLETE\ngf_point(time_sec ~ trial, data = my_data) %>%\n  gf_model(my_empty_model) %>%\n  gf_resid(my_empty_model) %>%\n  gf_squaresid(my_empty_model)"
    },
    {
      "cell_type": "markdown",
      "metadata": {},
      "source": "### 8.6 Calculate SST and variance for `my_empty_model`"
    },
    {
      "cell_type": "code",
      "execution_count": null,
      "metadata": {
        "trusted": true
      },
      "outputs": [],
      "source": "# code here\n\n# COMPLETE\nsum(resid(my_empty_model)^2)\nsum(resid(my_empty_model)^2) / 9\n\n# or\n\nsupernova(my_empty_model)"
    },
    {
      "cell_type": "markdown",
      "metadata": {},
      "source": "<div class=\"discussion-question\">\n    \n### 8.7 Discussion: Compare your performance with your classmates\n- Who was most accurate on average?\n- Who has the largest SST? Who has the smallest?\n- Do people who are more accurate necessarily have smaller SSTs?\n    \n</div>"
    }
  ],
  "metadata": {
    "deepnote_execution_queue": [],
    "deepnote_notebook_id": "608933bb-f248-4876-a618-1c815f90aa5a",
    "kernelspec": {
      "display_name": "R",
      "language": "R",
      "name": "ir"
    },
    "language_info": {
      "codemirror_mode": "r",
      "file_extension": ".r",
      "mimetype": "text/x-r-source",
      "name": "R",
      "pygments_lexer": "r",
      "version": "4.3.3"
    },
    "nbsimplegrader": {
      "publish_config": {
        "classes": [],
        "options": {},
        "tools": []
      }
    }
  },
  "nbformat": 4,
  "nbformat_minor": 2
}