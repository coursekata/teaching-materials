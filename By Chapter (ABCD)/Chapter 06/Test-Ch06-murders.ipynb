{
  "cells": [
    {
      "cell_type": "markdown",
      "metadata": {
        "cell_id": "b9a9cb9eaed342248d3564e142daf6cc",
        "deepnote_cell_type": "markdown",
        "tags": []
      },
      "source": "# <center>Test (Ch. 1-6): Gun Murders </center> "
    },
    {
      "cell_type": "code",
      "execution_count": null,
      "metadata": {
        "cell_id": "8145edfe006b4e498252a772b67fdc4a",
        "deepnote_cell_type": "code",
        "deepnote_to_be_reexecuted": false,
        "execution_millis": 13,
        "execution_start": 1665699799792,
        "output_cleared": false,
        "source_hash": null,
        "tags": [],
        "trusted": true
      },
      "outputs": [],
      "source": "# Run this code to load the required packages\nsuppressMessages(suppressWarnings(suppressPackageStartupMessages({\n  library(coursekata)\n})))"
    },
    {
      "cell_type": "markdown",
      "metadata": {
        "cell_id": "aa11723259fc4152a7ccb8904979529a",
        "deepnote_cell_type": "markdown",
        "tags": []
      },
      "source": "The data frame `murders` contains data collected by the FBI. They tracked total gun murders in each state. (This data frame actually includes the District of Columbia, DC, as a “state.”) \n\n- `state` \t\tUS state\n- `abb` \t     \tAbbreviation of US state\n- `region` \t\tGeographical US region\n- `population` \tState population, number of people in that state (2010)\n- `total` \t\tNumber of gun murders in state (2010)"
    },
    {
      "cell_type": "markdown",
      "metadata": {
        "cell_id": "835c7a2b18c34c59ab710c86bc90afdd",
        "deepnote_cell_type": "markdown",
        "tags": []
      },
      "source": "### Question 1\n\nStates varied in how many gun murders they saw in 2010. Make a histogram to examine how total gun murders vary in the United States. What is the shape of this distribution? "
    },
    {
      "cell_type": "markdown",
      "metadata": {
        "cell_id": "579627c3b5e847a5ac815b9b3bda16cd",
        "deepnote_cell_type": "markdown",
        "tags": []
      },
      "source": "### Question 2\n\nTake a look at California. It has one of the highest murder totals but also has a very large population. Write a word equation to represent the idea that variation in total gun murders can be explained by population. "
    },
    {
      "cell_type": "markdown",
      "metadata": {
        "cell_id": "deff7868ce1e41d1a5de1c80306901b1",
        "deepnote_cell_type": "markdown",
        "tags": []
      },
      "source": "### Question 3\n\nCreate a visualization to explore this idea (from question 2)."
    },
    {
      "cell_type": "markdown",
      "metadata": {
        "cell_id": "8418cef1c18944478166e490d0f8593f",
        "deepnote_cell_type": "markdown",
        "tags": []
      },
      "source": "### Question 4\n\nNotice that because `population` is typically such a large number (many millions!), R will put the scatterplot in scientific notation. Let’s create a variable called `pop_in_millions` and save it in `murders`. For instance, Alabama’s population is 4,779,736. Dividing by 1,000,000 will make Alabama’s `pop_in_millions` 4.78. Write the R code to do this for all states below. (Note: Don’t put commas in between 0s in R, we just did that so you can see how many 0s more easily.)"
    },
    {
      "cell_type": "markdown",
      "metadata": {
        "cell_id": "9cd29bd333d64f74b3ac7968cb8b29ab",
        "deepnote_cell_type": "markdown",
        "tags": []
      },
      "source": "### Question 5\n\nNow, recreate the plot of `total` by `pop_in_millions`. Does this visualization prove that living in more populous states causes people to murder more? Why or why not?"
    },
    {
      "cell_type": "markdown",
      "metadata": {
        "cell_id": "43ffe81095bd48afa93fef8f7623f0f1",
        "deepnote_cell_type": "markdown",
        "tags": []
      },
      "source": "### Question 6\n\nIf we shuffled the total murders of these states and made plots of `total` by `pop_in_millions`, which pattern is more likely (pattern 1, 2, or 3)? Why?\n\n<img src=\"https://coursekata-course-assets.s3.us-west-1.amazonaws.com/UCLATALL/czi-stats-course/jnb_PTsytMMj-Test-Ch-6-scatterplots.png\" title=\"three different patterns of total by pop_in_millions\" />\n"
    },
    {
      "cell_type": "markdown",
      "metadata": {
        "cell_id": "50deaf54010b4d1e9c65b13344c660c9",
        "deepnote_cell_type": "markdown",
        "tags": []
      },
      "source": "### Question 7\n\nThis empirical data (from question 5) is **<u>unlikely</u>** to have been created by a random process. Explain why."
    },
    {
      "cell_type": "markdown",
      "metadata": {
        "cell_id": "1d745440cb2d4696aff245b1b5af1e91",
        "deepnote_cell_type": "markdown",
        "tags": []
      },
      "source": "### Question 8\n\nMaybe a better measure of gun violence in a state is a variable like ***murders_per_million***, that can tell us for every million people in a state, how many gun murders there are. We can easily calculate this by taking `total` and dividing by `pop_in_millions`. Write the R code to create this variable and save it back into the `murders` data frame."
    },
    {
      "cell_type": "markdown",
      "metadata": {
        "cell_id": "7bc431bb3d4d467f97090bf92b68fc97",
        "deepnote_cell_type": "markdown",
        "tags": []
      },
      "source": "### Question 9\n\nCreate a scatterplot to explore whether variation in this new variable, `murders_per_million`, can be explained by `pop_in_millions`. Notice that there is one place where there are over 150 murders per million people. What state is that?"
    },
    {
      "cell_type": "markdown",
      "metadata": {
        "cell_id": "b8e1ca4004724f0a902ab087fb00bc3f",
        "deepnote_cell_type": "markdown",
        "tags": []
      },
      "source": "### Question 10\n\nShould we include that state in our data? Why or why not? (This question is graded for reasoning and thinking – there is no single correct answer.)"
    },
    {
      "cell_type": "markdown",
      "metadata": {
        "cell_id": "f9b8cc4c8dea41d687a735348302b885",
        "deepnote_cell_type": "markdown",
        "tags": []
      },
      "source": "### Question 11\n\nCreate an empty model for `murders_per_million`. Save your model as `empty_model`."
    },
    {
      "cell_type": "markdown",
      "metadata": {
        "cell_id": "25819c4c00ce4d459f17a71f2aa6ba90",
        "deepnote_cell_type": "markdown",
        "tags": []
      },
      "source": "### Question 12\n\nWhich of the following is the correct way of writing this best fitting empty model in GLM notation? (Choose one.)\n\n- *$Y_{i}$* = *$b_{0}$* + 27.79 + *$e_{i}$*\n- 27.79 = *$b_{0}$* + *$e_{i}$*\n- *$Y_{i}$* = 27.79 + *$e_{i}$*\n- *murders_per_million* = 27.79 + *pop_in_millions* + *$e_{i}$*"
    },
    {
      "cell_type": "markdown",
      "metadata": {
        "cell_id": "975a2375967f48bd83642ba2853a5c88",
        "deepnote_cell_type": "markdown",
        "tags": []
      },
      "source": "### Question 13\n\nCreate a scatterplot of `murders_per_million` predicted by `pop_in_millions`, and add the empty model into the graph. "
    },
    {
      "cell_type": "markdown",
      "metadata": {
        "cell_id": "951b35428d6a4c50ae61af01bbc5a335",
        "deepnote_cell_type": "markdown",
        "tags": []
      },
      "source": "### Question 14\n\nIn the visualization above, does it look as though the positive and negative residuals are balanced around the mean? Check to see that the residuals do indeed add up to 0."
    },
    {
      "cell_type": "markdown",
      "metadata": {
        "cell_id": "805cb434d26246789fcb9d18f5b67d1b",
        "deepnote_cell_type": "markdown",
        "tags": []
      },
      "source": "### Question 15\n\nIf you use the sample distribution of `murders_per_million` in the `murders` data frame as a probability model, what is the likelihood that a state would have more than 45 murders per million people?"
    },
    {
      "cell_type": "markdown",
      "metadata": {
        "cell_id": "4fe5ab24a54c44e18e3b533a0fccfebc",
        "deepnote_cell_type": "markdown"
      },
      "source": "### Question 16\n\nIn the picture below, we are using the normal distribution of `murders_per_million` in the `murders` data frame as a probability model (in blue). \n\n<img src=\"https://coursekata-course-assets.s3.us-west-1.amazonaws.com/UCLATALL/czi-stats-course/jnb_vYz4pfb5-Test-Ch-6-normal-model.png\" title=\"A normal model of murders_per_million\" />\n\nEstimating from the picture, what is the likelihood that a state would have more than 50 murders per million people (the red line)? (You may not need to run any R code for this question.) Choose one:\n- .90\n- .82\n- .18\n- .50"
    },
    {
      "cell_type": "markdown",
      "metadata": {
        "cell_id": "d4438a087a4342369d147d81c8c6b670",
        "deepnote_cell_type": "markdown"
      },
      "source": "### Question 17\n\nIf we decided to take the place that has over 150 murders per million out of our data set, how would our empty model be affected? (Choose one.)\n\n- *$b_{0}$* would go down  \n- *$b_{0}$* would go up  \n- *$\\beta_{0}$* would go down  \n- The empty model would not be affected because it is independent of **pop_in_millions**."
    }
  ],
  "metadata": {
    "deepnote_notebook_id": "53311288c39540f1a951eed0c22a4032",
    "kernelspec": {
      "display_name": "R",
      "language": "R",
      "name": "ir"
    },
    "language_info": {
      "codemirror_mode": "r",
      "file_extension": ".r",
      "mimetype": "text/x-r-source",
      "name": "R",
      "pygments_lexer": "r",
      "version": "4.3.3"
    },
    "nbsimplegrader": {
      "publish_config": {
        "classes": [],
        "options": [],
        "tools": []
      }
    }
  },
  "nbformat": 4,
  "nbformat_minor": 1
}