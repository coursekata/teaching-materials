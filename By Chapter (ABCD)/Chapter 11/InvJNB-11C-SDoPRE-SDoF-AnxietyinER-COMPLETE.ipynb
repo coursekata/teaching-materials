{
  "cells": [
    {
      "cell_type": "markdown",
      "metadata": {
        "cell_id": "31b772c5cea843d99690ff0c2003a96c",
        "deepnote_cell_height": 81.953125,
        "deepnote_cell_type": "markdown",
        "nbsimplegrader": {
          "config_key": "markdown.view-only",
          "editable": false,
          "label": "Markdown: View-Only",
          "respondable": false,
          "response": null,
          "runnable": false,
          "type": "markdown"
        }
      },
      "source": "\n<div class=\"alert alert-block alert-danger\">\n\n# 11C: Anxiety in the ER (COMPLETE)\n\n**Use with textbook version 6.0+**\n\n**Lesson assumes students have read up through page: 11.8**\n    \n</div>"
    },
    {
      "cell_type": "code",
      "execution_count": null,
      "metadata": {
        "cell_id": "3eb3a981bc06461783f535f988111ab4",
        "deepnote_cell_type": "code",
        "deepnote_to_be_reexecuted": false,
        "execution_context_id": "1de9fc02-18df-40b0-a22d-c2c14511ee58",
        "execution_millis": 1086,
        "execution_start": 1748031982235,
        "nbsimplegrader": {
          "config_key": "code.run-only",
          "editable": false,
          "label": "Code: Run-Only",
          "respondable": false,
          "response": null,
          "runnable": true,
          "type": "code"
        },
        "output_cleared": false,
        "source_hash": "ce5ee4b0",
        "trusted": true
      },
      "outputs": [],
      "source": "# This code will load the R packages we will use\nsuppressPackageStartupMessages({\n    library(coursekata)\n})\n\n# This code will make sure the middle rows/columns don't get cut out (ellipsized) when you \n# print out a really large data frame (you can adjust the values for max rows/cols)\noptions(repr.matrix.max.rows=800, repr.matrix.max.cols=200)\n\n#save modified version of the data with only the variables we need \ner_anxiety <- select(er, condition, age, gender, race, base_anxiety, later_anxiety, last_anxiety)"
    },
    {
      "cell_type": "markdown",
      "metadata": {
        "cell_id": "ca073d88adf44479b7206f12cdf25c1b",
        "deepnote_cell_height": 108.359375,
        "deepnote_cell_type": "markdown",
        "nbsimplegrader": {
          "config_key": "markdown.view-only",
          "editable": false,
          "label": "Markdown: View-Only",
          "respondable": false,
          "response": null,
          "runnable": false,
          "type": "markdown"
        },
        "tags": []
      },
      "source": "## 1.0: The Data\n\nLet's look at the data (in a data frame called `er_anxiety`). Then I'll tell you a bit more about how it was collected."
    },
    {
      "cell_type": "code",
      "execution_count": null,
      "metadata": {
        "cell_id": "73d30ae87d8c4fddbe0c22aa96deec86",
        "deepnote_cell_type": "code",
        "deepnote_to_be_reexecuted": false,
        "execution_context_id": "1de9fc02-18df-40b0-a22d-c2c14511ee58",
        "execution_millis": 19,
        "execution_start": 1748031986244,
        "output_cleared": false,
        "source_hash": "f9f0735e",
        "tags": [],
        "trusted": true
      },
      "outputs": [],
      "source": "head(er_anxiety)"
    },
    {
      "cell_type": "markdown",
      "metadata": {
        "cell_id": "b73da2ded77340389f7f6be66a0cf353",
        "deepnote_cell_height": 52.359375,
        "deepnote_cell_type": "markdown",
        "tags": []
      },
      "source": "**1.1:** What do you think these cases (rows) are?"
    },
    {
      "cell_type": "markdown",
      "metadata": {
        "cell_id": "5ec8727d3fcc476f9ef16a9447c38ff7",
        "deepnote_cell_type": "markdown"
      },
      "source": "<div class=\"alert alert-block alert-warning\">\n\n**Sample Response**\n\nThey are patients in the ER. \n    \n</div>"
    },
    {
      "cell_type": "markdown",
      "metadata": {
        "cell_id": "b0e93c83cc5b48319ebea0aeb2bafadb",
        "deepnote_cell_height": 836.484375,
        "deepnote_cell_type": "markdown",
        "tags": []
      },
      "source": "#### About the Study\n\n<img src=\"https://i.postimg.cc/qpYsC1xY/image.png\" alt=\"a variety of therapy dogs\" width = 60%>\n\nResearchers were interested in the potential benefits of therapy dogs in easing things such as anxiety, pain, and depression during emergency room visits. Several medically stable, adult patients visiting an emergency room were approached and randomly assigned to one of two conditions: 15 minutes exposure to a certified therapy dog and handler (**Dog condition**), or usual care (**Control condition**). Patient-reported anxiety, pain, and depression were assessed using a 0–10 scale (10 = worst), at three time points: \n\n- baseline (before the therapy dog)\n- later (30 minutes after the therapy dog or control treatment)\n- last (90 minutes after)\n\n#### Study Procedure\n\n<img src=\"https://i.postimg.cc/syjV5VSK/image.png\" alt=\"Diagram of Dog Therapy Study procedure\" width=800>"
    },
    {
      "cell_type": "markdown",
      "metadata": {
        "cell_id": "031af239f25841c19526ccfc552c1ec5",
        "deepnote_cell_height": 109.96875,
        "deepnote_cell_type": "markdown",
        "tags": []
      },
      "source": "## Motivating Question: Are therapy dogs helpful in the emergency room (ER)?"
    },
    {
      "cell_type": "markdown",
      "metadata": {
        "cell_id": "146e9c4ef2e945728dbd8fca1b231e1a",
        "deepnote_cell_height": 394.265625,
        "deepnote_cell_type": "markdown",
        "tags": []
      },
      "source": "#### Key Variables\n\nFor today, we're going to focus on a few key variables having to do with patients' demographic characteristics and anxiety levels:\n\n- `condition`: The research condition the patient was randomly assigned to (Dog or Control)\n- `age`: The age of the patient\t\n- `gender`: the gender of the patient\t\n- `race`: The race of the patient \n- `base_anxiety`: The baseline self-reported anxiety rating on a scale of 0-10 (10 = worst), before any exposure to a therapy dog\t \n- `later_anxiety`: Anxiety rating, 30 minutes after exposure to either the dog or the control treatment \n- `last_anxiety`: Anxiety rating, 90 minutes after exposure to treatment\n\n##### Data Source: \n\nResearch Paper: [Kline JA, Fisher MA, Pettit KL, Linville CT, Beck AM.](https://journals.plos.org/plosone/article?id=10.1371/journal.pone.0209232) Controlled clinical trial of canine therapy versus usual care to reduce patient anxiety in the emergency department. PLoS One. 2019 Jan 9;14(1):e0209232. doi: 10.1371/journal.pone.0209232. PMID: 30625184; PMCID: PMC6326463.\n\n"
    },
    {
      "cell_type": "markdown",
      "metadata": {
        "cell_id": "4911c8b6323b45c18fc372f14e876f79",
        "deepnote_cell_height": 69.96875,
        "deepnote_cell_type": "markdown",
        "tags": []
      },
      "source": "## 2.0: Explore Variation"
    },
    {
      "cell_type": "markdown",
      "metadata": {
        "cell_id": "18d038d9027d4e479f81e945bca0df69",
        "deepnote_cell_height": 74.75,
        "deepnote_cell_type": "markdown",
        "nbsimplegrader": {
          "config_key": "markdown.view-only",
          "editable": false,
          "label": "Markdown: View-Only",
          "respondable": false,
          "response": null,
          "runnable": false,
          "type": "markdown"
        },
        "tags": []
      },
      "source": "**2.1:** Anxiety was measured at three different time points (`base_anxiety`, `later_anxiety`, and `last_anxiety`). For today, we will focus on the variable `later_anxiety` as our outcome variable. Make a visualization to explore the variation in `later_anxiety`."
    },
    {
      "cell_type": "code",
      "execution_count": null,
      "metadata": {
        "cell_id": "7aad44a85ba84103b06a49cfcaec851e",
        "deepnote_cell_type": "code",
        "execution_context_id": "1de9fc02-18df-40b0-a22d-c2c14511ee58",
        "execution_millis": 87,
        "execution_start": 1748032960325,
        "source_hash": "b331a620",
        "trusted": true
      },
      "outputs": [],
      "source": "gf_histogram(~ later_anxiety, data = er_anxiety, binwidth = 1, fill = \"orange\")\n"
    },
    {
      "cell_type": "markdown",
      "metadata": {
        "cell_id": "6d6ec6660c8348deb9e70057b47edcf2",
        "deepnote_cell_height": 74.75,
        "deepnote_cell_type": "markdown",
        "nbsimplegrader": {
          "config_key": "markdown.view-only",
          "editable": false,
          "label": "Markdown: View-Only",
          "respondable": false,
          "response": null,
          "runnable": false,
          "type": "markdown"
        },
        "tags": []
      },
      "source": "**2.2:** The researchers were particularly interested in whether `condition` explains variation in anxiety. Make some visualizations to explore their hypothesis. Does `condition` make a difference on `later_anxiety`?"
    },
    {
      "cell_type": "code",
      "execution_count": null,
      "metadata": {
        "cell_id": "31361a2cae624405926adc6b2e016b79",
        "deepnote_cell_type": "code",
        "execution_context_id": "1de9fc02-18df-40b0-a22d-c2c14511ee58",
        "execution_millis": 284,
        "execution_start": 1748032944735,
        "source_hash": "5e7cefb8",
        "trusted": true
      },
      "outputs": [],
      "source": "gf_histogram(~ later_anxiety, data = er_anxiety, binwidth = 1, fill = \"orange\") %>%\n  gf_facet_grid(condition ~ .) \n  \ngf_jitter(later_anxiety ~ condition, data = er_anxiety, width = .1, color = \"darkorange3\")"
    },
    {
      "cell_type": "markdown",
      "metadata": {
        "cell_id": "21504c3c3a1d408597e5c44fbea30fb4",
        "deepnote_cell_height": 214.71875,
        "deepnote_cell_type": "markdown",
        "nbsimplegrader": {
          "config_key": "markdown.view-only",
          "editable": false,
          "label": "Markdown: View-Only",
          "respondable": false,
          "response": null,
          "runnable": false,
          "type": "markdown"
        },
        "tags": []
      },
      "source": "**Summary:** Just using our common sense, we can figure out some things about the DGP that generated this data. \n\nBecause of common sense, we know that `condition` couldn't have caused any of the differences we see in these two groups in `base_anxiety` because that is before any dog therapy happened. Any difference we see in these two groups is likely due to random chance. \n\nHowever, because this data was collected in an experiment (with random assignment to these two conditions), condition *could have* caused the differences we see in the two groups. **But** it is important to keep in mind that randomness *could have* caused differences as well. Later we will learn how to rule out randomness as a DGP."
    },
    {
      "cell_type": "markdown",
      "metadata": {
        "cell_id": "276528bff3fb4021916de439ae7f43b1",
        "deepnote_cell_height": 70.421875,
        "deepnote_cell_type": "markdown",
        "tags": []
      },
      "source": "## 3.0: Modeling Variation in `later_anxiety`"
    },
    {
      "cell_type": "markdown",
      "metadata": {
        "cell_id": "378c7fe1834d4c26be49f049716a0b73",
        "deepnote_cell_height": 74.75,
        "deepnote_cell_type": "markdown",
        "nbsimplegrader": {
          "config_key": "markdown.view-only",
          "editable": false,
          "label": "Markdown: View-Only",
          "respondable": false,
          "response": null,
          "runnable": false,
          "type": "markdown"
        },
        "tags": []
      },
      "source": "**3.1:** Let's keep exploring the hypothesis that `condition` could explain variation in `later_anxiety`. Find the best fitting model and add it to this faceted histogram below. Also add it to the jitter plot below.\n"
    },
    {
      "cell_type": "code",
      "execution_count": null,
      "metadata": {
        "cell_id": "6a57a9235eac40f6bb9dd7b1f54c1228",
        "deepnote_cell_type": "code",
        "deepnote_to_be_reexecuted": false,
        "execution_context_id": "1de9fc02-18df-40b0-a22d-c2c14511ee58",
        "execution_millis": 356,
        "execution_start": 1748032861347,
        "output_cleared": false,
        "source_hash": "ba7039bf",
        "tags": [],
        "trusted": true
      },
      "outputs": [],
      "source": "#complete\nlater_condition_model <- lm(later_anxiety ~ condition, data = er_anxiety)\nlater_condition_model\n\ngf_histogram(~ later_anxiety, data = er_anxiety, binwidth = 1, fill = \"orange\") %>%\n  gf_facet_grid(condition ~ .) %>%\n  gf_model(later_condition_model)\n\ngf_jitter(later_anxiety ~ condition, data = er_anxiety, width = .1, color = \"darkorange3\") %>%\n  gf_model(later_condition_model)"
    },
    {
      "cell_type": "markdown",
      "metadata": {
        "cell_id": "b0c9ff5285a84add8c40d393ff0e88aa",
        "deepnote_cell_height": 223.9375,
        "deepnote_cell_type": "markdown",
        "tags": []
      },
      "source": "**3.2:** Write the best fitting model of **later_anxiety = condition + other stuff** in GLM notation. You can double click on this cell to copy the equation we have started for you below:\n\n$Y_i = b_0 + b_1X_i + e_i$\n\n*Notes on writing fancy mathematical notation:*\n- You can write GLM using Ys and Xs: $Y_i = b_0 + b_1X_i + e_i$\n- Or using the variable names: $lateranxiety_i = b_0 + b_1conditionDog_i + e_i$"
    },
    {
      "cell_type": "markdown",
      "metadata": {
        "cell_id": "1fd1128d18aa43b7aca3a224460f527e",
        "deepnote_cell_type": "markdown"
      },
      "source": "<div class=\"alert alert-block alert-warning\">\n\n**Sample Response:**\n\n- $Y_i = 5.22 - 1.69X_i + e_i$ \n- $lateranxiety_i = 5.22 - 1.69conditionDog_i + e_i$\n\n</div>"
    },
    {
      "cell_type": "markdown",
      "metadata": {
        "cell_id": "c970018688444759a9af1fb4c3d9f164",
        "deepnote_cell_height": 147.125,
        "deepnote_cell_type": "markdown",
        "tags": []
      },
      "source": "**3.3:** Interpret the parameter estimates. How do these numbers relate to the model shown in the graph?\n\n"
    },
    {
      "cell_type": "markdown",
      "metadata": {
        "cell_id": "bcc72795f31e4bf2b33c1955b26c871c",
        "deepnote_cell_type": "markdown"
      },
      "source": "<div class=\"alert alert-block alert-warning\">\n\n**Sample Response:**\n\nFor $b_0 = 5.22$ students might say: \n- this is the average later anxiety level of someone in the Control condition\n- this is the model line in the Control condition\n- this is what the model would predict as the anxiety level for someone in the Control condition\n\nFor $b_1 = -1.685$, students might say:\n- this is the difference between the two group means; this is the difference between mean of Control group and mean of Dog group\n- we add this to 5.22 in order to get the model prediction for someone in the Dog condition\n- this is how far down you have to go to get from the line in the Control group to the line in the Dog group\n\n</div>"
    },
    {
      "cell_type": "markdown",
      "metadata": {
        "cell_id": "314bc507000f415692f7f5bf7a6ddab9",
        "deepnote_cell_height": 74.75,
        "deepnote_cell_type": "markdown",
        "tags": []
      },
      "source": "**3.4** What would the condition model predict as the `later_anxiety` for someone who got dog therapy? How about someone who didn't?"
    },
    {
      "cell_type": "markdown",
      "metadata": {
        "cell_id": "f9b120a6b45a4dc0be1b425940d3192b",
        "deepnote_cell_type": "markdown"
      },
      "source": "<div class=\"alert alert-block alert-warning\">\n\n- Dog condition: 5.22 - 1.685 = 3.535\n- Control condition: 5.22 \n\n</div>"
    },
    {
      "cell_type": "markdown",
      "metadata": {
        "cell_id": "3262a244bd9440fdaafd616fe7ff977b",
        "deepnote_cell_height": 52.359375,
        "deepnote_cell_type": "markdown",
        "tags": []
      },
      "source": "**3.5:** Why does the model predict lower anxiety for those in the dog condition?"
    },
    {
      "cell_type": "markdown",
      "metadata": {
        "cell_id": "82a73d4cf9d14c82b312ccac9ca89100",
        "deepnote_cell_type": "markdown"
      },
      "source": "<div class=\"alert alert-block alert-warning\">\n\nAnswers may vary:\n\n- Because the patients in the dog condition reported, on average, lower anxiety. \n- Dog condition's mean is lower.\n- More people in Dog condition had lower later anxiety.\n\nIf students say \"Because I believe dog therapy works!\" you may want to nudge them to consider why the *model* seems to believe that as well.\n\n</div>"
    },
    {
      "cell_type": "markdown",
      "metadata": {
        "cell_id": "b6f4c2951c194b018a601c2d406c41da",
        "deepnote_cell_type": "markdown"
      },
      "source": "## 4.0 - Simulating a Random DGP "
    },
    {
      "cell_type": "markdown",
      "metadata": {
        "cell_id": "d598fdb36fa4490990eb14978750ccd5",
        "deepnote_cell_type": "markdown"
      },
      "source": "4.1 - What would the best fitting models typically look like if the DGP was random? What would the $b_1s$ usually look like? How much could they vary? Let's check it out.\n\nModify the code below. "
    },
    {
      "cell_type": "code",
      "execution_count": null,
      "metadata": {
        "cell_id": "df5758ea60294f6ebcad5ea771e464a1",
        "deepnote_cell_type": "code",
        "execution_context_id": "1de9fc02-18df-40b0-a22d-c2c14511ee58",
        "execution_millis": 0,
        "execution_start": 1748033893306,
        "source_hash": "8fc75d3d",
        "trusted": true
      },
      "outputs": [],
      "source": "do(10) * b1(shuffle(later_anxiety) ~ shuffle(condition), data = er_anxiety)"
    },
    {
      "cell_type": "markdown",
      "metadata": {
        "cell_id": "db8f6e721c44488fbdc3c1fb58c27ffa",
        "deepnote_cell_type": "markdown"
      },
      "source": "4.2 - What would the PREs look like from these models (from a random DGP)? Do you think they would be big? Small? Medium? Why? "
    },
    {
      "cell_type": "markdown",
      "metadata": {
        "cell_id": "37885a923d7944b2bf5ca38de03280d6",
        "deepnote_cell_type": "markdown"
      },
      "source": "<div class=\"alert alert-block alert-warning\">\n\n**Sample response**:\n\nThe models will typically look like flat, horizontal lines if the DGP was random. The slopes will typically be close to zero. They could still have a lot of variation, but should be centered around zero.\n\n</div>"
    },
    {
      "cell_type": "markdown",
      "metadata": {
        "cell_id": "b6086863debf4470b7e04ebb19769e7d",
        "deepnote_cell_type": "markdown"
      },
      "source": "4.3 - Let's generate $PRE$s (like a 1000 of them) from a random DGP. How do those PREs generally vary? Try creating a visualization of your distribution of PREs.\n\n(Bonus: What is this distribution of PREs called?)"
    },
    {
      "cell_type": "code",
      "execution_count": null,
      "metadata": {
        "cell_id": "b6aa238a59d146e18e2a1cb07f413e98",
        "deepnote_cell_type": "code",
        "execution_context_id": "1de9fc02-18df-40b0-a22d-c2c14511ee58",
        "execution_millis": 10296,
        "execution_start": 1748034361647,
        "source_hash": "b24a00a8",
        "trusted": true
      },
      "outputs": [],
      "source": "#complete version\n#modify this code \nSDoPRE <- do(1000) * PRE(shuffle(later_anxiety) ~ condition, data = er_anxiety)\n\nhead(SDoPRE)\n\n# Create a visualization of SDoPRE (called a \"Sampling Distribution of PREs\")\ngf_histogram(~PRE, data = SDoPRE)"
    },
    {
      "cell_type": "markdown",
      "metadata": {
        "cell_id": "08344c75397448f48be81c6340922de1",
        "deepnote_cell_type": "markdown"
      },
      "source": "4.4 - Where would your sample PRE exist on the distribution of PREs? Try adding it to your visualization."
    },
    {
      "cell_type": "code",
      "execution_count": null,
      "metadata": {
        "cell_id": "ae8fdfee07664e908d274d7927435674",
        "deepnote_cell_type": "code",
        "execution_context_id": "1de9fc02-18df-40b0-a22d-c2c14511ee58",
        "execution_millis": 259,
        "execution_start": 1748034219545,
        "source_hash": "d342115e",
        "trusted": true
      },
      "outputs": [],
      "source": "#complete version\n# Add our sample's PRE to the visualization with gf_point()\n\n#save the sample PRE\nsample_PRE <- PRE(later_anxiety ~ condition, data = er_anxiety)\n\n#add it to our visualization \n#note: using this fill option will color the lower .95 of values \ngf_histogram(~PRE, data = SDoPRE, bins = 50, fill = ~lower(PRE, .95)) %>%\n    gf_point(0 ~ sample_PRE, color = \"red\")"
    },
    {
      "cell_type": "markdown",
      "metadata": {
        "cell_id": "e2dc83f4f161420b97f8d49189f9d523",
        "deepnote_cell_type": "markdown"
      },
      "source": "4.5 - Consider the values in the ANOVA table for the main model you have been \nworking with so far. Which value do you think corresponds the most to this statement:\n\n> The probability of getting a PRE as large as the sample PRE, **if** there was no relationship between the variables in the DGP."
    },
    {
      "cell_type": "markdown",
      "metadata": {
        "cell_id": "75241afe260e48b5a005e89025c0103d",
        "deepnote_cell_type": "markdown"
      },
      "source": "<div class=\"alert alert-block alert-warning\">\n\n**Sample Response**\n\nThis statement corresponds to the p-value in the supernova (ANOVA) table.\n    \n</div>"
    },
    {
      "cell_type": "markdown",
      "metadata": {
        "cell_id": "144a5756809145cb95f4378383bb666d",
        "deepnote_cell_type": "markdown"
      },
      "source": "4.6 - Use tally() to see if \"the proportion of PREs as large as the sample PRE, if there was no relationship between the variables in the DGP\" from your sampling distribution really is similar to the number in the ANOVA table."
    },
    {
      "cell_type": "code",
      "execution_count": null,
      "metadata": {
        "cell_id": "d15456b3530c4e95aeac96dfc6d9e128",
        "deepnote_cell_type": "code",
        "execution_context_id": "1de9fc02-18df-40b0-a22d-c2c14511ee58",
        "execution_millis": 24,
        "execution_start": 1748034592119,
        "source_hash": "5b43a889",
        "trusted": true
      },
      "outputs": [],
      "source": "supernova(later_condition_model)\n\ntally(~PRE > PRE, data = SDoPRE, format = \"proportion\")\n\n#tally(~fVal > sample_F, data = SDoF, format = \"proportion\")"
    },
    {
      "cell_type": "markdown",
      "metadata": {
        "cell_id": "3561546f9717402a8beba9a0f0c3ded6",
        "deepnote_cell_type": "markdown"
      },
      "source": "## 5.0 - Extending these Ideas to *F*"
    },
    {
      "cell_type": "markdown",
      "metadata": {
        "cell_id": "e8bb7401bfb84b7da705940f32956a81",
        "deepnote_cell_type": "markdown"
      },
      "source": "PRE and F are very closely related. They both try to show how much the complex model explains the outcome variable compared to the empty model. We should end up with the same conclusions whether we use PRE or F.\n\n5.1 - To corroborate our intuitions, try creating a sampling distribution and histogram of the *F*  from shuffled data using `fval()` and `shuffle()`. Where does the sample F fall in this distribution?\n\nThen use `tally()` to get the p-value from the simulated sampling distribution of PREs. "
    },
    {
      "cell_type": "code",
      "execution_count": null,
      "metadata": {
        "cell_id": "b6bb6bcc201d46ef8f7bd244aee98f9d",
        "deepnote_cell_type": "code",
        "execution_context_id": "1de9fc02-18df-40b0-a22d-c2c14511ee58",
        "execution_millis": 12577,
        "execution_start": 1748035212954,
        "source_hash": "f5bfae06",
        "trusted": true
      },
      "outputs": [],
      "source": "#complete version\n\nSDoF <- do(1000) * fVal(shuffle(later_anxiety) ~ condition, data = er_anxiety)\n\n#save sample F \nsample_F <- fVal(later_anxiety ~ condition, data = er_anxiety)\n\n# Create a visualization of F (called a \"Sampling Distribution of Fs\") and add the sample F to it \ngf_histogram(~fVal, data = SDoF, bins = 50, fill = ~lower(fVal, .95)) %>%\n    gf_point(0 ~ sample_F, color = \"red\")\n\n\n"
    },
    {
      "cell_type": "code",
      "execution_count": null,
      "metadata": {
        "cell_id": "1eaa7f75201d454f80345c0b65613ca5",
        "deepnote_cell_type": "code",
        "execution_context_id": "1de9fc02-18df-40b0-a22d-c2c14511ee58",
        "execution_millis": 1,
        "execution_start": 1748035242345,
        "source_hash": "37a1dd3a",
        "trusted": true
      },
      "outputs": [],
      "source": "#complete version\nsupernova(later_condition_model)\n\ntally(~fVal > sample_F, data = SDoF, format = \"proportion\")"
    },
    {
      "cell_type": "markdown",
      "metadata": {
        "cell_id": "6dc08a88ebfe4df19989aa719b16f92e",
        "deepnote_cell_type": "markdown"
      },
      "source": "## 6.0 - Conclusions "
    },
    {
      "cell_type": "markdown",
      "metadata": {
        "cell_id": "4ad54fafb0e84cdaa286a38976bb0bde",
        "deepnote_cell_type": "markdown"
      },
      "source": "6.1 - What conclusions can you draw regarding the researchers' hypothesis? Did being in the dog condition make a difference in later anxiety?"
    },
    {
      "cell_type": "markdown",
      "metadata": {
        "cell_id": "8bf082e3c21b4a4a9f7f717ca2d3a6cc",
        "deepnote_cell_type": "markdown"
      },
      "source": "<div class=\"alert alert-block alert-warning\">\n\n**Sample Response**\n\nThe PRE from our model (later_anxiety = condition + Error) is unlikely to be generated by randomness (the empty model). So we would reject the empty model.\n\nThe F from our model (later_anxiety = condition + Error) is unlikely to be generated by randomness (the empty model). So we would reject the empty model.\n\nOverall, this means that being in the dog condition made a difference. People in the dog condition had lower anxiety than the control group. \n    \n</div>"
    },
    {
      "cell_type": "markdown",
      "metadata": {
        "cell_id": "df4609ed71f64e199eb20cd89bd08391",
        "deepnote_cell_type": "markdown"
      },
      "source": "## 7.0 - Bonus: Working with a quantitative explanatory variable "
    },
    {
      "cell_type": "markdown",
      "metadata": {
        "cell_id": "50ddc3ef1f074d2e8b930f826bcb8a62",
        "deepnote_cell_type": "markdown"
      },
      "source": "7.1 - The researchers also wondered whether a person's `base_anxiety` could help predict `later_anxiety`. Regardless of what condition someone was randomly assigned to, how well did their base anxiety predict with their later anxiety? \n\nCreate this model and interpret the coefficients. "
    },
    {
      "cell_type": "code",
      "execution_count": null,
      "metadata": {
        "cell_id": "25b0424871ff48ef85b0882eada971bf",
        "deepnote_app_block_visible": false,
        "deepnote_cell_type": "code",
        "execution_context_id": "1de9fc02-18df-40b0-a22d-c2c14511ee58",
        "execution_millis": 1,
        "execution_start": 1748035658565,
        "source_hash": "29b72cae",
        "trusted": true
      },
      "outputs": [],
      "source": "#complete \nbase_model<-lm(later_anxiety~base_anxiety, data=er_anxiety)\nbase_model"
    },
    {
      "cell_type": "markdown",
      "metadata": {
        "cell_id": "10c220ac69e34a4297b4dfd658615137",
        "deepnote_cell_type": "markdown"
      },
      "source": "<div class=\"alert alert-block alert-warning\">\n\n**Sample Response:**\n\nFor $b_0 = -0.43$ students might say: \n- the intercept of the regression line\n- this is the model's predicted later_anxiety when base_anxiety is 0. \n\nFor $b_1 = 0.78$, students might say:\n- the slope of the regression line\n- for every one unit of base_anxiety,the model predicts a .78 unit increase in later_anxiety\n\n</div>"
    },
    {
      "cell_type": "markdown",
      "metadata": {
        "cell_id": "dbf72f3d8e8b4b578c7284cff1b7e0f0",
        "deepnote_cell_type": "markdown"
      },
      "source": "7.2 - Try creating a sampling distribution and histogram of the PRE from shuffled data using PRE() and shuffle(). Where does the sample PRE from this new model fall in this distribution?"
    },
    {
      "cell_type": "code",
      "execution_count": null,
      "metadata": {
        "cell_id": "bbafe90176844097a3faba4d61a821ce",
        "deepnote_cell_type": "code",
        "execution_context_id": "1de9fc02-18df-40b0-a22d-c2c14511ee58",
        "execution_millis": 9679,
        "execution_start": 1748036221656,
        "source_hash": "2ba2415b",
        "trusted": true
      },
      "outputs": [],
      "source": "#complete version\n\nSDoPRE <- do(1000) * PRE(shuffle(later_anxiety) ~ base_anxiety, data = er_anxiety)\n\n#save sample PRE \nsample_PRE <- PRE(later_anxiety ~ base_anxiety, data = er_anxiety)\n\n# Create a visualization of F (called a \"Sampling Distribution of PREs\") and add the sample PRE to it \ngf_histogram(~PRE, data = SDoPRE, bins = 50, fill = ~lower(PRE, .95)) %>%\n    gf_point(0 ~ sample_PRE, color = \"red\")"
    },
    {
      "cell_type": "markdown",
      "metadata": {
        "cell_id": "5c8fad6c21314157b5ab2c9b8bb91086",
        "deepnote_cell_type": "markdown"
      },
      "source": "7.3 - Extend this to F. Try creating a sampling distribution and histogram of the F from shuffled data using fval() and shuffle(). Where does the sample F fall in this distribution?"
    },
    {
      "cell_type": "code",
      "execution_count": null,
      "metadata": {
        "cell_id": "3d2f60c5f1da44b1933a67d196606157",
        "deepnote_cell_type": "code",
        "execution_context_id": "1de9fc02-18df-40b0-a22d-c2c14511ee58",
        "execution_millis": 9369,
        "execution_start": 1748036273835,
        "source_hash": "1c37341a",
        "trusted": true
      },
      "outputs": [],
      "source": "#complete version\n\nSDoF <- do(1000) * fVal(shuffle(later_anxiety) ~ base_anxiety, data = er_anxiety)\n\n#save sample F \nsample_F <- fVal(later_anxiety ~ base_anxiety, data = er_anxiety)\n\n# Create a visualization of F (called a \"Sampling Distribution of Fs\") and add the sample F to it \ngf_histogram(~fVal, data = SDoF, bins = 50, fill = ~lower(fVal, .95)) %>%\n    gf_point(0 ~ sample_F, color = \"red\")"
    },
    {
      "cell_type": "markdown",
      "metadata": {
        "cell_id": "a5de31b9ee58499eae4e6fc3140616dd",
        "deepnote_cell_type": "markdown"
      },
      "source": "7.4 - What do you think? Does `base_anxiety` help predict `later_anxiety`?"
    },
    {
      "cell_type": "markdown",
      "metadata": {
        "cell_id": "3ef0517d34a0480fab048b88b3a57f7b",
        "deepnote_cell_type": "markdown"
      },
      "source": "<div class=\"alert alert-block alert-warning\">\n\n**Sample Response:**\n\nThe PRE from our model (later_anxiety = base_anxiety + Error) is unlikely to be generated by randomness (the empty model). So we would reject the empty model.\n\nThe F from our model (later_anxiety = base_anxiety + Error) is unlikely to be generated by randomness (the empty model). So we would reject the empty model.\n\nOverall, this means that base_anxiety is a good predictor of later_anxiety. This makes sense because it is saying anxiety at a later time point is related to anxiety at an earlier time point. They measured the same people at different times. \n</div>\n\n"
    },
    {
      "cell_type": "markdown",
      "metadata": {
        "cell_id": "e88874644ddc402ba0947f904185a6be",
        "deepnote_cell_type": "markdown"
      },
      "source": "7.5 - What was similar in this process compared to using `condition` as our explanatory variable? What was different? "
    },
    {
      "cell_type": "markdown",
      "metadata": {
        "cell_id": "bcc76678800c412da0fc67e4da6d785f",
        "deepnote_cell_type": "markdown"
      },
      "source": "<div class=\"alert alert-block alert-warning\">\n\n**Sample Response:**\n\nThe interpretation of $b_0 and $b_1 was different because this time we have a regression model but before we had a group model. \n\nHowever, the process of creating SdoPRE and SdoF from shuffled data, making a histogram and plotting our model PRE and F on it involved the same code and the same interpretation. \n</div>\n"
    }
  ],
  "metadata": {
    "deepnote_notebook_id": "948360fc05e64e40ba6ecef62b158db7",
    "kernelspec": {
      "display_name": "R",
      "language": "R",
      "name": "ir"
    },
    "language_info": {
      "codemirror_mode": "r",
      "file_extension": ".r",
      "mimetype": "text/x-r-source",
      "name": "R",
      "pygments_lexer": "r",
      "version": "4.3.3"
    },
    "nbsimplegrader": {
      "publish_config": {
        "classes": [],
        "options": [],
        "tools": []
      }
    }
  },
  "nbformat": 4,
  "nbformat_minor": 1
}