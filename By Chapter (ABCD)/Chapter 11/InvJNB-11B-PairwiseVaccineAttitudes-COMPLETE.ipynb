{
  "cells": [
    {
      "cell_type": "markdown",
      "metadata": {
        "cell_id": "71302c605cdf49bc8fff0838ba717d44",
        "deepnote_cell_type": "markdown",
        "tags": []
      },
      "source": "<div class=\"alert alert-block alert-danger\">\n\n## 11B: Vaccine Attitudes (COMPLETE)\n\n**Use with textbook version 6.0+**\n\n**Lesson assumes students have read up through page: 11.8**\n    \n</div>"
    },
    {
      "cell_type": "markdown",
      "metadata": {
        "cell_id": "e069deda87f1470681465cc607161e23",
        "deepnote_cell_height": 163.9375,
        "deepnote_cell_type": "markdown",
        "tags": []
      },
      "source": "<div class=\"alert alert-block alert-success\">\n\n## Approximate time to complete Notebook: 45-60 Mins\n    \n</div>"
    },
    {
      "cell_type": "code",
      "execution_count": null,
      "metadata": {
        "cell_id": "7fd4533f2e864949ae0a3f80a7b280cb",
        "deepnote_cell_height": 422.96875,
        "deepnote_cell_type": "code",
        "deepnote_to_be_reexecuted": false,
        "execution_context_id": "a4b85583-03b6-4119-a81f-dfe14c5c8548",
        "execution_millis": 1125,
        "execution_start": 1746462395975,
        "nbsimplegrader": {
          "config_key": "code.run-only",
          "editable": false,
          "label": "Code: Run-Only",
          "respondable": false,
          "response": null,
          "runnable": true,
          "type": "code"
        },
        "output_cleared": false,
        "source_hash": "4b53d84b",
        "trusted": true
      },
      "outputs": [],
      "source": "# Run this cell to load the packages and data you will need\n\n# Load the CourseKata library\nsuppressPackageStartupMessages({\n    library(coursekata)\n})\n\n# This fixes font sizes on graphs\ntheme_set(theme(\n  text = element_text(size = 12),\n  axis.text = element_text(size = 9)\n))\n\nvaccines <- data.frame(\n  subject_id = 1:341,\n  intervention = structure(c(3L, 1L, 1L, 3L, 1L, 2L, 1L, 3L, 1L, 2L, 2L, 1L, 3L, 1L, 3L, 1L, 2L, 3L, 3L, 3L, 2L, 1L, 1L, 3L, 1L, 3L, 2L, 1L, 2L, 1L, 1L, 2L, 1L, 2L, 1L, 1L, 2L, 1L, 2L, 2L, 1L, 3L, 3L, 2L, 1L, 2L, 1L, 3L, 2L, 1L, 2L, 2L, 2L, 2L, 3L, 1L, 2L, 1L, 1L, 1L, 3L, 2L, 1L, 3L, 2L, 2L, 1L, 2L, 3L, 3L, 2L, 3L, 1L, 3L, 1L, 2L, 3L, 2L, 3L, 2L, 3L, 1L, 1L, 2L, 2L, 2L, 1L, 1L, 3L, 1L, 1L, 2L, 1L, 1L, 1L, 2L, 1L, 2L, 2L, 2L, 3L, 1L, 1L, 3L, 1L, 2L, 1L, 1L, 3L, 1L, 2L, 1L, 2L, 2L, 2L, 2L, 3L, 2L, 2L, 1L, 1L, 3L, 3L, 2L, 2L, 1L, 3L, 1L, 3L, 1L, 3L, 3L, 2L, 3L, 1L, 3L, 3L, 3L, 1L, 1L, 3L, 2L, 2L, 2L, 2L, 3L, 1L, 3L, 2L, 1L, 1L, 1L, 2L, 1L, 3L, 3L, 3L, 1L, 1L, 2L, 3L, 3L, 3L, 2L, 2L, 2L, 1L, 2L, 3L, 3L, 2L, 3L, 2L, 1L, 1L, 2L, 1L, 2L, 3L, 1L, 2L, 1L, 1L, 1L, 2L, 2L, 2L, 2L, 2L, 2L, 2L, 3L, 3L, 3L, 1L, 3L, 3L, 2L, 3L, 2L, 3L, 2L, 1L, 2L, 1L, 3L, 3L, 3L, 3L, 1L, 2L, 3L, 3L, 2L, 2L, 2L, 3L, 3L, 3L, 1L, 2L, 3L, 3L, 3L, 1L, 1L, 2L, 2L, 1L, 3L, 3L, 1L, 3L, 3L, 2L, 3L, 3L, 2L, 1L, 2L, 1L, 2L, 3L, 3L, 1L, 2L, 2L, 2L, 3L, 1L, 3L, 1L, 2L, 3L, 3L, 3L, 3L, 1L, 2L, 2L, 1L, 1L, 3L, 2L, 2L, 3L, 1L, 2L, 1L, 3L, 1L, 2L, 1L, 3L, 2L, 3L, 3L, 3L, 3L, 3L, 1L, 3L, 2L, 3L, 1L, 1L, 1L, 1L, 3L, 3L, 1L, 1L, 3L, 1L, 1L, 3L, 2L, 2L, 1L, 1L, 2L, 3L, 3L, 1L, 3L, 1L, 1L, 1L, 3L, 2L, 3L, 1L, 3L, 1L, 2L, 3L, 1L, 2L, 3L, 2L, 3L, 1L, 2L, 2L, 3L, 3L, 3L, 2L, 2L, 3L, 1L, 2L, 2L, 2L, 3L, 1L, 2L, 3L, 3L, 3L, 3L), .Label = c(\"Control\", \"Illustrate Risks\", \"Read Sci Research\"), class = \"factor\"),\n  attitudes_pre = c(6, 6, 6, 4.3, 5.2, 6, 4.2, 6, 4.3, 6, 5.2, 4.3, 6, 6, 3.3, 3.2, 4.1, 6, 5.2, 5.1, 5.2, 6, 4.2, 5.3, 5.3, 3.1, 3.1, 3.3, 1.3, 3.2, 5.3, 2.2, 4.1, 2.1, 5.2, 5.2, 5.1, 2.3, 3.1, 4.3, 5.2, 4.3, 2.3, 5.1, 6, 5.3, 5.1, 5.3, 3.3, 6, 5.1, 5.2, 4.3, 4.1, 5.3, 5.3, 6, 3.1, 5.3, 4.2, 1.2, 4.3, 5.1, 4.3, 5.1, 5.3, 1.2, 3.3, 6, 6, 4.3, 6, 6, 5.1, 2.1, 5.2, 6, 2.3, 4.3, 6, 6, 4.2, 5.3, 5.1, 6, 6, 2.3, 5.1, 6, 5.1, 5.2, 1.2, 5.2, 5.2, 5.2, 6, 2.1, 5.2, 3.3, 1.2, 5.1, 4.1, 5.3, 5.1, 5.2, 5.1, 5.3, 6, 3.2, 5.1, 5.2, 5.1, 2.2, 5.3, 6, 6, 4.3, 5.3, 5.2, 5.2, 6, 5.1, 5.2, 5.2, 5.2, 4.3, 5.2, 3.2, 5.3, 1.2, 6, 3.2, 6, 2.1, 4.3, 3.3, 6, 6, 6, 5.3, 6, 3.3, 4.3, 5.2, 6, 5.3, 6, 4.2, 5.3, 6, 5.2, 5.3, 5.2, 6, 3.2, 6, 4.3, 1.3, 5.1, 5.2, 5.3, 6, 5.3, 5.2, 4.2, 3.2, 5.2, 3.3, 6, 5.2, 5.2, 6, 4.1, 6, 2.1, 5.2, 3.2, 5.3, 5.1, 5.1, 5.2, 3.1, 4.3, 6, 5.3, 5.3, 2.2, 4.3, 6, 5.3, 4.3, 5.2, 2.1, 5.3, 4.1, 4.3, 5.2, 6, 6, 5.3, 5.2, 6, 3.3, 4.2, 5.3, 6, 5.3, 6, 2.1, 6, 2.1, 5.3, 6, 6, 6, 6, 6, 1.2, 6, 6, 4.1, 4.2, 4.1, 4.2, 2.1, 1.2, 3.3, 4.3, 4.3, 5.3, 6, 6, 4.1, 5.2, 5.2, 5.1, 6, 5.2, 5.2, 5.1, 6, 5.1, 4.3, 5.1, 6, 5.3, 5.1, 4.1, 5.1, 4.3, 6, 6, 4.2, 4.2, 5.3, 4.3, 5.3, 3.3, 6, 4.3, 5.3, 5.1, 4.3, 6, 5.3, 5.2, 1.3, 5.2, 5.2, 3.2, 4.3, 5.3, 5.2, 5.2, 6, 5.3, 4.2, 5.1, 6, 4.3, 6, 2.1, 6, 6, 5.3, 6, 5.3, 6, 3.1, 2.2, 5.2, 5.2, 4.2, 4.2, 6, 4.1, 5.3, 3.3, 3.3, 5.2, 3.3, 6, 3.2, 6, 5.1, 4.3, 6, 5.2, 4.3, 5.3, 5.3, 5.1, 5.2, 6, 2.1, 4.3, 6, 1.2, 5.2, 4.3, 3.3, 5.2, 2.2, 5.3, 6, 6, 2.2, 5.3, 4.3, 6, 6, 6, 4.2, 3.3, 6, 1.3, 4.1, 5.2, 6, 5.2, 4.1),\n  attitudes_post = c(6, 6, 6, 4.1, 4.2, 5.1, 3.2, 6, 6, 6, 6, 5.2, 6, 6, 3.3, 5.2, 5.2, 6, 6, 3.3, 6, 6, 4.3, 5.2, 4.3, 2.1, 6, 2.2, 2.2, 2.2, 5.3, 3.3, 5.2, 4.3, 5.3, 5.1, 6, 2.3, 5.2, 4.3, 6, 4.3, 5.3, 6, 6, 5.3, 6, 5.3, 5.3, 6, 6, 5.3, 5.3, 5.1, 5.3, 6, 6, 2.1, 5.2, 4.2, 2.1, 5.3, 5.2, 5.1, 6, 6, 1.2, 5.3, 6, 6, 6, 6, 5.3, 5.2, 4.3, 6, 5.2, 5.1, 5.3, 6, 6, 5.2, 3.3, 5.3, 6, 6, 4.2, 5.2, 5.2, 5.1, 6, 1.3, 4.1, 4.3, 6, 6, 1.2, 6, 4.2, 3.1, 5.3, 3.3, 6, 5.2, 4.2, 4.2, 4.3, 6, 4.2, 5.3, 6, 5.3, 5.2, 6, 6, 6, 4.3, 5.1, 5.2, 5.3, 6, 4.1, 5.3, 6, 6, 3.3, 5.3, 5.1, 4.2, 1.2, 6, 3.2, 6, 2.2, 4.2, 4.3, 5.3, 6, 6, 4.3, 6, 4.3, 5.3, 5.3, 6, 6, 6, 5.2, 6, 6, 6, 5.3, 6, 6, 4.3, 6, 4.1, 2.2, 6, 5.2, 4.2, 6, 5.2, 5.3, 6, 4.1, 5.1, 5.2, 6, 5.1, 6, 6, 5.1, 6, 1.3, 6, 4.3, 6, 5.2, 5.2, 6, 3.3, 5.3, 6, 6, 6, 2.3, 6, 6, 5.3, 6, 6, 2.1, 5.3, 4.3, 5.1, 6, 6, 6, 6, 5.3, 6, 4.1, 5.3, 6, 6, 5.3, 6, 4.2, 6, 4.3, 3.2, 6, 6, 6, 6, 6, 2.2, 6, 6, 5.2, 5.1, 4.3, 5.1, 1.2, 2.3, 4.3, 6, 4.3, 5.3, 6, 5.3, 4.3, 5.2, 5.3, 3.2, 6, 6, 4.2, 6, 6, 5.2, 5.3, 5.3, 5.3, 6, 5.3, 4.2, 4.3, 2.3, 6, 6, 5.3, 5.3, 5.2, 5.2, 6, 5.1, 6, 6, 5.1, 6, 6, 6, 6, 5.2, 2.2, 6, 4.2, 4.1, 5.1, 5.3, 6, 5.2, 6, 5.2, 6, 5.3, 6, 4.1, 6, 5.2, 6, 5.2, 5.1, 6, 5.3, 6, 3.3, 3.1, 5.3, 6, 5.1, 5.1, 6, 5.3, 6, 5.3, 5.2, 4.1, 6, 6, 3.3, 6, 5.3, 3.3, 5.3, 6, 5.2, 6, 6, 5.2, 5.2, 6, 3.2, 4.3, 6, 3.2, 5.3, 5.2, 4.2, 4.3, 4.2, 6, 6, 5.2, 4.1, 6, 4.2, 6, 5.3, 6, 5.3, 4.2, 6, 3.3, 6, 6, 6, 6, 3.3),\n  cause_autism = c(1L, 4L, 1L, 7L, 5L, 1L, 7L, 3L, 4L, 1L, 3L, 9L, 1L, 1L, 3L, 9L, 8L, 1L, 3L, 3L, 4L, 1L, 4L, 3L, 4L, 5L, 9L, 5L, 8L, 8L, 1L, 5L, 2L, 5L, 2L, 1L, 4L, 4L, 7L, 2L, 1L, 7L, 8L, 3L, 1L, 5L, 3L, 2L, 6L, 1L, 7L, 2L, 5L, 4L, 1L, 5L, 1L, 5L, 3L, 6L, 8L, 2L, 3L, 3L, 8L, 4L, 9L, 4L, 2L, 2L, 8L, 2L, 4L, 1L, 8L, 2L, 1L, 5L, 4L, 1L, 1L, 10L, 1L, 7L, 2L, 1L, 4L, 3L, 1L, 6L, 2L, 10L, 4L, 3L, 4L, 2L, 7L, 6L, 7L, 10L, 4L, 4L, 2L, 5L, 3L, 2L, 1L, 2L, 2L, 7L, 3L, 2L, 8L, 1L, 3L, 1L, 6L, 2L, 1L, 1L, 1L, 2L, 6L, 1L, 7L, 7L, 3L, 4L, 2L, 10L, 1L, 7L, 1L, 9L, 3L, 1L, 1L, 3L, 1L, 1L, 2L, 5L, 3L, 5L, 1L, 1L, 1L, 5L, 1L, 1L, 9L, 2L, 3L, 1L, 5L, 1L, 1L, 5L, 4L, 2L, 1L, 1L, 3L, 2L, 4L, 9L, 2L, 4L, 1L, 5L, 4L, 1L, 6L, 1L, 5L, 4L, 6L, 2L, 4L, 7L, 2L, 3L, 4L, 1L, 3L, 1L, 7L, 2L, 2L, 2L, 3L, 1L, 9L, 1L, 9L, 4L, 7L, 3L, 1L, 1L, 2L, 3L, 5L, 6L, 1L, 1L, 3L, 1L, 4L, 2L, 5L, 6L, 1L, 1L, 2L, 1L, 1L, 10L, 1L, 1L, 6L, 4L, 3L, 7L, 10L, 8L, 2L, 1L, 5L, 1L, 1L, 1L, 4L, 2L, 7L, 8L, 3L, 1L, 8L, 4L, 3L, 2L, 5L, 2L, 3L, 3L, 1L, 2L, 5L, 5L, 2L, 1L, 6L, 3L, 6L, 7L, 7L, 4L, 3L, 2L, 7L, 2L, 5L, 1L, 1L, 7L, 10L, 3L, 6L, 8L, 4L, 2L, 2L, 8L, 1L, 1L, 5L, 5L, 1L, 1L, 5L, 9L, 1L, 1L, 1L, 2L, 2L, 1L, 7L, 10L, 2L, 3L, 1L, 3L, 1L, 4L, 3L, 8L, 3L, 7L, 7L, 1L, 4L, 4L, 4L, 3L, 1L, 2L, 3L, 1L, 5L, 3L, 3L, 1L, 6L, 8L, 1L, 10L, 2L, 4L, 4L, 3L, 10L, 1L, 1L, 3L, 5L, 1L, 1L, 4L, 1L, 2L, 4L, 5L, 1L, 9L, 9L, 3L, 4L, 2L, 3L)\n)"
    },
    {
      "cell_type": "markdown",
      "metadata": {
        "cell_id": "68787bbd1652426b8f23630ded6af06d",
        "deepnote_cell_height": 115.9375,
        "deepnote_cell_type": "markdown",
        "tags": []
      },
      "source": "<div class=\"alert alert-block alert-success\">\n\n### 1.0 - Approximate Time: 8-10 mins\n    \n</div>"
    },
    {
      "cell_type": "markdown",
      "metadata": {
        "cell_id": "f68ad0852dfd4ecfa71b7923a61b31fa",
        "deepnote_cell_height": 386.484375,
        "deepnote_cell_type": "markdown",
        "tags": []
      },
      "source": "## Illustrate Risks or Address Fears to Change Minds?\n\nData has shown two dangerous, linked trends:\n\n- Measles cases are on the rise in the U.S.\n- There is an uptick in parents refusing vaccinations (such as the measles vaccine) for their children\n\nHow might we try to address this? One group of researchers decided to try out two different methods of changing people's minds about vaccines. \n\n*Citation:*\n\nHorne, Z., Powell, D., Hummel, J. E., & Holyoak, K. J. (2015). Countering antivaccination attitudes. *Proceedings of the National Academy of Sciences*, *112*(33), 10321–10324. https://doi.org/10.1073/pnas.1504019112\n"
    },
    {
      "cell_type": "markdown",
      "metadata": {
        "cell_id": "9c644a0b998640aa8e5aa4237b5ba406",
        "deepnote_cell_height": 461.453125,
        "deepnote_cell_type": "markdown",
        "nbsimplegrader": {
          "config_key": "markdown.view-only",
          "editable": false,
          "label": "Markdown: View-Only",
          "respondable": false,
          "response": null,
          "runnable": false,
          "type": "markdown"
        }
      },
      "source": "## The Study\n\nResearchers conducted a two-day study online with participants from across the US. \n\nOn the first day, participants completed a survey designed to capture their attitudes toward vaccines. To make the purpose of the study less obvious, other questions about moral issues (e.g., euthanasia, abortion, etc) were included. \n\nOn the second day, participants were randomly assigned to one of three methods of educating people about vaccines:\n\n  - **Control** group: read an unrelated vignette about a scientific topic. \n  - **Illustrate Risks** intervention: participants read a paragraph written by a mother about her child contracting measles; saw vivid pictures of a child with measles, a child with mumps, and an infant with rubella and read three short warnings about how important it is for people to vaccinate their children. \n  - **Read Scientific Research** intervention: participants read information summarizing recent research showing that vaccines do not increase the risk of autism in children.\n\nThen all participants filled out the same survey again."
    },
    {
      "cell_type": "markdown",
      "metadata": {
        "cell_id": "5b60cae9ad514ec2a338f60838623676",
        "deepnote_cell_height": 297.4375,
        "deepnote_cell_type": "markdown",
        "tags": []
      },
      "source": "Here is a description of the variables you will find in the researchers' `vaccines` data frame.\n\n| Variable       | Description                                                                                                |\n|:---------------|:-----------------------------------------------------------------------------------------------------------|\n| `subject_id`    | Participant’s ID.                                                                                      |\n| `intervention` | *Control Group*, *Illustrate Risks*, or *Read Scientific Research*                                         |\n| `attitudes_pre` | Participant’s score on the vaccine attitudes scale (higher means more positive) before the intervention.   |\n| `attitudes_post`| Participant’s score on the vaccine attitudes scale after the intervention.                             |\n| `cause_autism`  | The participant’s opinion of whether vaccines cause autism (1 = strongly disagree to 10 = strongly agree) on the presurvey. |\n\n<img src=\"https://coursekata-course-assets.s3.us-west-1.amazonaws.com/UCLATALL/czi-stats-course/jnb_r8HtkzZJ-image.png\">"
    },
    {
      "cell_type": "markdown",
      "metadata": {
        "cell_id": "e051fe7582424c2887780e48ddc1b5ee",
        "deepnote_cell_height": 69.96875,
        "deepnote_cell_type": "markdown",
        "nbsimplegrader": {
          "config_key": "markdown.view-only",
          "editable": false,
          "label": "Markdown: View-Only",
          "respondable": false,
          "response": null,
          "runnable": false,
          "type": "markdown"
        }
      },
      "source": "## 1.0 - Explore Variation"
    },
    {
      "cell_type": "markdown",
      "metadata": {
        "cell_id": "2487766a8a0c4a1fb2af9c7db8ce8f59",
        "deepnote_cell_height": 97.140625,
        "deepnote_cell_type": "markdown",
        "nbsimplegrader": {
          "config_key": "markdown.view-only",
          "editable": false,
          "label": "Markdown: View-Only",
          "respondable": false,
          "response": null,
          "runnable": false,
          "type": "markdown"
        }
      },
      "source": "1.1 - We could use `attitudes_post` as an important outcome variable. We could also create a variable called `attitude_change` representing the change in attitude. Which would be a better variable to use and why?"
    },
    {
      "cell_type": "markdown",
      "metadata": {
        "cell_id": "ae4ab486d34548898fb50e273d95ac3f",
        "deepnote_cell_height": 185.515625,
        "deepnote_cell_type": "markdown",
        "tags": []
      },
      "source": "<div class=\"alert alert-block alert-warning\">\n\n**Sample Response**\n\nWe may want to create this new variable to show the relative change for each person. Otherwise, for people who rate high on `attitudes_post` and also rated high on `attitudes_pre`, we can't really say that they rated highly because of the intervention.\n    \n</div>"
    },
    {
      "cell_type": "code",
      "execution_count": null,
      "metadata": {
        "cell_id": "a4e61e93adbb4eecadb0442dd1f90574",
        "deepnote_cell_height": 93.953125,
        "deepnote_cell_type": "code",
        "deepnote_to_be_reexecuted": false,
        "execution_context_id": "a4b85583-03b6-4119-a81f-dfe14c5c8548",
        "execution_millis": 1,
        "execution_start": 1746462397164,
        "output_cleared": false,
        "source_hash": "37c137f6",
        "tags": [],
        "trusted": true
      },
      "outputs": [],
      "source": "# Create new variable `attitude_change`\nvaccines$attitude_change <-(vaccines$attitudes_post - vaccines$attitudes_pre)"
    },
    {
      "cell_type": "markdown",
      "metadata": {
        "cell_id": "ed111fea666c4f9bade2287c0427b02a",
        "deepnote_cell_height": 74.75,
        "deepnote_cell_type": "markdown",
        "nbsimplegrader": {
          "config_key": "markdown.view-only",
          "editable": false,
          "label": "Markdown: View-Only",
          "respondable": false,
          "response": null,
          "runnable": false,
          "type": "markdown"
        }
      },
      "source": "1.2 - Looking at the description of the study, what do you think the researchers' main hypothesis and prediction was? Model their hypothesis with a word equation."
    },
    {
      "cell_type": "markdown",
      "metadata": {
        "cell_id": "4a0549c0e2844a09b02053960dd07dab",
        "deepnote_cell_height": 140.71875,
        "deepnote_cell_type": "markdown",
        "tags": []
      },
      "source": "<div class=\"alert alert-block alert-warning\">\n\n**Sample Response**\n    \nattitude_change = intervention + error\n\n</div>"
    },
    {
      "cell_type": "markdown",
      "metadata": {
        "cell_id": "297fc2643fe74a8da7de2edbc3b7ea19",
        "deepnote_cell_height": 97.140625,
        "deepnote_cell_type": "markdown",
        "nbsimplegrader": {
          "config_key": "markdown.view-only",
          "editable": false,
          "label": "Markdown: View-Only",
          "respondable": false,
          "response": null,
          "runnable": false,
          "type": "markdown"
        }
      },
      "source": "1.3 - Explore this model using the sample data. Does it seem like `intervention` explains any of the variation in the outcome? How are the distributions for the three groups similar? How are they different?"
    },
    {
      "cell_type": "code",
      "execution_count": null,
      "metadata": {
        "cell_id": "0e1e43ff75a1477785b37acf98cd6e94",
        "deepnote_cell_height": 1141.96875,
        "deepnote_cell_type": "code",
        "deepnote_output_heights": [
          444.015625,
          444.015625
        ],
        "deepnote_to_be_reexecuted": false,
        "execution_context_id": "a4b85583-03b6-4119-a81f-dfe14c5c8548",
        "execution_millis": 1037,
        "execution_start": 1746462397214,
        "output_cleared": false,
        "source_hash": "7fe3bb43",
        "tags": [],
        "trusted": true
      },
      "outputs": [],
      "source": "# Boxplot\ngf_boxplot(attitude_change ~ intervention, data = vaccines, color = ~intervention) %>%\n    gf_jitter(alpha = .5)\n\n# Faceted Histogram\ngf_histogram(~attitude_change, data = vaccines, fill = ~intervention) %>%\n    gf_facet_grid(intervention ~ .) %>%\n    gf_model(attitude_change ~ intervention, data = vaccines)"
    },
    {
      "cell_type": "markdown",
      "metadata": {
        "cell_id": "7f0080ca301044468760ba9ce1cb2075",
        "deepnote_cell_height": 185.515625,
        "deepnote_cell_type": "markdown",
        "tags": []
      },
      "source": "<div class=\"alert alert-block alert-warning\">\n\n**Sample Response**\n\nThe control group and the read science research group are similarly distributed with similar group means (close to zero). The illustrate risks group appears to be shifted higher in its change in attitude, showing this group had the most positive change in attitude.\n    \n</div>"
    },
    {
      "cell_type": "markdown",
      "metadata": {
        "cell_id": "550df4b55efc4eb09cd96338f2d65774",
        "deepnote_cell_height": 52.359375,
        "deepnote_cell_type": "markdown",
        "tags": []
      },
      "source": "1.4 - Could this pattern of variation be caused by random chance?"
    },
    {
      "cell_type": "markdown",
      "metadata": {
        "cell_id": "66fa7682fd6e42b18bda8b24372008e1",
        "deepnote_cell_height": 140.71875,
        "deepnote_cell_type": "markdown",
        "tags": []
      },
      "source": "<div class=\"alert alert-block alert-warning\">\n\n**Sample Response**\n\nYes, it could.\n    \n</div>"
    },
    {
      "cell_type": "markdown",
      "metadata": {
        "cell_id": "dfa3b71c0d0447e391dadf189c13b187",
        "deepnote_cell_height": 115.9375,
        "deepnote_cell_type": "markdown",
        "tags": []
      },
      "source": "<div class=\"alert alert-block alert-success\">\n\n### 2.0 - Approximate Time: 8-10 mins\n    \n</div>"
    },
    {
      "cell_type": "markdown",
      "metadata": {
        "cell_id": "7daa655985ef4c6f9e8ccfbc41a7562d",
        "deepnote_cell_height": 69.96875,
        "deepnote_cell_type": "markdown",
        "tags": []
      },
      "source": "## 2.0 - Model Variation"
    },
    {
      "cell_type": "markdown",
      "metadata": {
        "cell_id": "fea9a2a0e6d54478ba814dd6921a394e",
        "deepnote_cell_height": 243.53125,
        "deepnote_cell_type": "markdown",
        "tags": []
      },
      "source": "2.1 - Let's specify the model. Which of these GLM models represents our hypothesis? Delete the ones that you don't need. Then find the best fitting estimates for this model and put them into the equation. \n\n$Y_i = b_0 + e_i$\n\n$Y_i = b_0 + b_1X_{1i} + e_i$\n\n$Y_i = b_0 + b_1X_{1i} + b_2X_{2i} + e_i$\n\n$Y_i = b_0 + b_1X_{1i} + b_2X_{2i} + b_3X_{3i} + e_i$"
    },
    {
      "cell_type": "code",
      "execution_count": null,
      "metadata": {
        "cell_id": "e597b8a99c9440c6ace4b0af7aa07cad",
        "deepnote_cell_height": 337.78125,
        "deepnote_cell_type": "code",
        "deepnote_output_heights": [
          173.828125
        ],
        "deepnote_to_be_reexecuted": false,
        "execution_context_id": "a4b85583-03b6-4119-a81f-dfe14c5c8548",
        "execution_millis": 1,
        "execution_start": 1746462398304,
        "output_cleared": false,
        "source_hash": "2038ece9",
        "tags": [],
        "trusted": true
      },
      "outputs": [],
      "source": "# Complete Version\nvaccines$attitude_change <-(vaccines$attitudes_post - vaccines$attitudes_pre)\nint_model <- lm(attitude_change ~ intervention, data = vaccines)\nint_model\n"
    },
    {
      "cell_type": "markdown",
      "metadata": {
        "cell_id": "11bc2a402f4341f4bb07e5c7ed443cfa",
        "deepnote_cell_height": 177.53125,
        "deepnote_cell_type": "markdown",
        "tags": []
      },
      "source": "<div class=\"alert alert-block alert-warning\">\n\n**Sample Response**\n\n$Y_i = b_0 + b_1X_{1i} + b_2X_{2i} + e_i$\n\n$attitude\\_change_i = 0.08 + 0.13(ReadSci_{1i}) + 0.69(IllusRisk_{2i}) + e_i$\n    \n</div>"
    },
    {
      "cell_type": "markdown",
      "metadata": {
        "cell_id": "e0b5455c04064068b7e055266ae171a8",
        "deepnote_cell_height": 52.359375,
        "deepnote_cell_type": "markdown",
        "nbsimplegrader": {
          "config_key": "markdown.view-only",
          "editable": false,
          "label": "Markdown: View-Only",
          "respondable": false,
          "response": null,
          "runnable": false,
          "type": "markdown"
        }
      },
      "source": "2.2 - Interpret the model coefficients, and also identify them in your graph."
    },
    {
      "cell_type": "markdown",
      "metadata": {
        "cell_id": "6a5ac5495041403fb3023497b9692867",
        "deepnote_cell_height": 185.921875,
        "deepnote_cell_type": "markdown",
        "tags": []
      },
      "source": "<div class=\"alert alert-block alert-warning\">\n\n**Sample Response**\n\nThe $b_0$ is the average change in attitude for the control group; $b_1$ is the amount we add to $b_0$ to get the mean change for the read science article group; and $b_2$ is the amount we add to $b_0$ to get the mean change for the illustrate risk group.\n    \n</div>"
    },
    {
      "cell_type": "markdown",
      "metadata": {
        "cell_id": "0d3e6cc8ba9f4a17aef03dd02172c0f3",
        "deepnote_cell_height": 52.5625,
        "deepnote_cell_type": "markdown",
        "tags": []
      },
      "source": "2.3 - Why do the X's have numbers in them (e.g., $X_{1i}$ rather than $X_i$)?"
    },
    {
      "cell_type": "markdown",
      "metadata": {
        "cell_id": "55a9a49641eb4015b37ff541a62937b4",
        "deepnote_cell_height": 163.328125,
        "deepnote_cell_type": "markdown",
        "tags": []
      },
      "source": "<div class=\"alert alert-block alert-warning\">\n\n**Sample Responses**\n\nBecause we have more than two groups for our explanatory variable, so we have more than one $b_i$ estimate, and the numbers reference the estimate for each group ($b_0$, $b_1$, and $b_2$).\n    \n</div>"
    },
    {
      "cell_type": "markdown",
      "metadata": {
        "cell_id": "230cf93848db4a68be82a7fd6f776a53",
        "deepnote_cell_height": 119.53125,
        "deepnote_cell_type": "markdown",
        "tags": []
      },
      "source": "2.4 - Do all the groups look different from each other? If you had to bet that some groups here are NOT different, which would they be? (Another way to phrase this question: which are the groups that might trick you into making a **Type I Error** -- thinking they are really different when they really aren't?)"
    },
    {
      "cell_type": "markdown",
      "metadata": {
        "cell_id": "7018da64a68742de9a5a75301695d24f",
        "deepnote_cell_height": 185.515625,
        "deepnote_cell_type": "markdown",
        "tags": []
      },
      "source": "<div class=\"alert alert-block alert-warning\">\n\n**Sample Response**\n\nThe illustrate risks group look the most different from the other two. The control group and the reading group are most susceptible to Type I Error, as they look different, but perhaps are not different enough from chance.\n    \n</div>"
    },
    {
      "cell_type": "markdown",
      "metadata": {
        "cell_id": "be31ae64366446c489c86418fe8cf93e",
        "deepnote_cell_height": 115.9375,
        "deepnote_cell_type": "markdown",
        "tags": []
      },
      "source": "<div class=\"alert alert-block alert-success\">\n\n### 3.0 - Approximate Time: 12-15 mins\n    \n</div>"
    },
    {
      "cell_type": "markdown",
      "metadata": {
        "cell_id": "c96da94bbdee448d8cd2248f6e28956e",
        "deepnote_cell_height": 69.96875,
        "deepnote_cell_type": "markdown",
        "tags": []
      },
      "source": "## 3.0 - Evaluate Models of the DGP"
    },
    {
      "cell_type": "markdown",
      "metadata": {
        "cell_id": "88b4b46b632e41378a7c285f215950ac",
        "deepnote_cell_height": 74.75,
        "deepnote_cell_type": "markdown",
        "nbsimplegrader": {
          "config_key": "markdown.view-only",
          "editable": false,
          "label": "Markdown: View-Only",
          "respondable": false,
          "response": null,
          "runnable": false,
          "type": "markdown"
        }
      },
      "source": "3.1 - Compare the complex model versus the empty model (using R). Can we reject the empty model of the DGP? What evidence would you use to reject or not reject the empty model?"
    },
    {
      "cell_type": "code",
      "execution_count": null,
      "metadata": {
        "cell_id": "e6bf2a01fbf0440b947a753e398a5ae9",
        "deepnote_cell_height": 283.78125,
        "deepnote_cell_type": "code",
        "deepnote_output_heights": [
          173.828125
        ],
        "deepnote_to_be_reexecuted": false,
        "execution_context_id": "a4b85583-03b6-4119-a81f-dfe14c5c8548",
        "execution_millis": 1,
        "execution_start": 1746462398354,
        "output_cleared": false,
        "source_hash": "be4625eb",
        "tags": [],
        "trusted": true
      },
      "outputs": [],
      "source": "# Complete Version\nsupernova(int_model)"
    },
    {
      "cell_type": "markdown",
      "metadata": {
        "cell_id": "ebd3ee6db7ed4c73a1b7bbf6339818cb",
        "deepnote_cell_height": 163.125,
        "deepnote_cell_type": "markdown",
        "tags": []
      },
      "source": "<div class=\"alert alert-block alert-warning\">\n\n**Sample Response**\n\nLooking at the p-value, we can reject the empty model; there is a very low probability that we would observe our sample if the DGP was random.\n    \n</div>"
    },
    {
      "cell_type": "markdown",
      "metadata": {
        "cell_id": "07df183b437c4a6bae5d0d2fca4d5dd1",
        "deepnote_cell_height": 74.75,
        "deepnote_cell_type": "markdown",
        "tags": []
      },
      "source": "3.2 - Does the complex model tell us that all three groups were *statistically different* from each other?"
    },
    {
      "cell_type": "markdown",
      "metadata": {
        "cell_id": "0e9ded641b0346a38dd218bcf85c1c9e",
        "deepnote_cell_height": 163.125,
        "deepnote_cell_type": "markdown",
        "tags": []
      },
      "source": "<div class=\"alert alert-block alert-warning\">\n\n**Sample Response**\n\nNo, it just tells us that there is a statistical difference between at least *one* of the groups, but not which of the groups are different.\n    \n</div>"
    },
    {
      "cell_type": "markdown",
      "metadata": {
        "cell_id": "46b65b3bc0e844ffa21146bd542a68a1",
        "deepnote_cell_height": 145.140625,
        "deepnote_cell_type": "markdown",
        "tags": []
      },
      "source": "### Comparing Multiple Groups\n\n3.3 - We want to know which of the three interventions are more effective in the DGP, and which just appear more effective because of sampling variation. Let's use the `pairwise()` function to dig a little deeper into our model.\n"
    },
    {
      "cell_type": "code",
      "execution_count": null,
      "metadata": {
        "cell_id": "e4b0ec3736494d839fbe1b1dea51a02f",
        "deepnote_cell_height": 526.46875,
        "deepnote_cell_type": "code",
        "deepnote_output_heights": [
          null,
          154.625
        ],
        "deepnote_to_be_reexecuted": false,
        "execution_context_id": "a4b85583-03b6-4119-a81f-dfe14c5c8548",
        "execution_millis": 112,
        "execution_start": 1746462398414,
        "output_cleared": false,
        "source_hash": "2a49a735",
        "tags": [],
        "trusted": true
      },
      "outputs": [],
      "source": "# Modify this code to conduct pairwise comparisons of the intervention model\npairwise(int_model)"
    },
    {
      "cell_type": "code",
      "execution_count": null,
      "metadata": {
        "cell_id": "0634ad896d29419db235aa6438079ead",
        "deepnote_cell_height": 571.96875,
        "deepnote_cell_type": "code",
        "deepnote_output_heights": [
          444.015625
        ],
        "deepnote_to_be_reexecuted": false,
        "execution_context_id": "a4b85583-03b6-4119-a81f-dfe14c5c8548",
        "execution_millis": 214,
        "execution_start": 1746462398574,
        "output_cleared": false,
        "source_hash": "5e187134",
        "tags": [],
        "trusted": true
      },
      "outputs": [],
      "source": "# Optional: Plot the pairwise comparisons\nPWC <- pairwise(int_model)\nplot(PWC)"
    },
    {
      "cell_type": "markdown",
      "metadata": {
        "cell_id": "4a65857876ea40d9a661176dc9c700eb",
        "deepnote_cell_height": 74.75,
        "deepnote_cell_type": "markdown",
        "tags": []
      },
      "source": "3.4 - Based on the `pairwise()` analysis, are all the groups different from each other? If not, which groups are actually different from one another? "
    },
    {
      "cell_type": "markdown",
      "metadata": {
        "cell_id": "f6e6b40c906041689899e537a8a02c4e",
        "deepnote_cell_height": 163.125,
        "deepnote_cell_type": "markdown",
        "tags": []
      },
      "source": "<div class=\"alert alert-block alert-warning\">\n\n**Sample Response**\n\nThe illustrate risks group is significantly different from both the read science research group and the control group.\n    \n</div>"
    },
    {
      "cell_type": "markdown",
      "metadata": {
        "cell_id": "b7b2f3100bab4962860a6fa14d06947f",
        "deepnote_cell_height": 115.9375,
        "deepnote_cell_type": "markdown",
        "tags": []
      },
      "source": "<div class=\"alert alert-block alert-success\">\n\n### 4.0 - Approximate Time: 5-8 mins\n    \n</div>"
    },
    {
      "cell_type": "markdown",
      "metadata": {
        "cell_id": "f4b6bb7dc719439dbd067fcb75a441db",
        "deepnote_cell_height": 61.953125,
        "deepnote_cell_type": "markdown",
        "nbsimplegrader": {
          "config_key": "markdown.view-only",
          "editable": false,
          "label": "Markdown: View-Only",
          "respondable": false,
          "response": null,
          "runnable": false,
          "type": "markdown"
        }
      },
      "source": "### 4.0 - Conclusions"
    },
    {
      "cell_type": "markdown",
      "metadata": {
        "cell_id": "350fae12060546269fc90d25bccbf399",
        "deepnote_cell_height": 157.734375,
        "deepnote_cell_type": "markdown",
        "tags": []
      },
      "source": "4.1 - Based on our analysis today, what is your overall conclusion on the researchers' hypothesis? What would be the best way to sway someone who is hesitant about vaccines?"
    },
    {
      "cell_type": "markdown",
      "metadata": {
        "cell_id": "9680936da74e4edb904f7f401a72cdce",
        "deepnote_cell_height": 163.125,
        "deepnote_cell_type": "markdown",
        "tags": []
      },
      "source": "<div class=\"alert alert-block alert-warning\">\n\n**Sample Response**\n\nIt seems like it might be best to illustrate the risks of not getting vaccinated with a personalized story rather than provide scientific information.\n    \n</div>"
    }
  ],
  "metadata": {
    "deepnote_notebook_id": "009438edfd3f4054b48b64d5ca48d935",
    "kernelspec": {
      "display_name": "R",
      "language": "R",
      "name": "ir"
    },
    "language_info": {
      "codemirror_mode": "r",
      "file_extension": ".r",
      "mimetype": "text/x-r-source",
      "name": "R",
      "pygments_lexer": "r",
      "version": "4.3.3"
    },
    "nbsimplegrader": {
      "publish_config": {
        "classes": [],
        "options": [],
        "tools": []
      }
    }
  },
  "nbformat": 4,
  "nbformat_minor": 1
}