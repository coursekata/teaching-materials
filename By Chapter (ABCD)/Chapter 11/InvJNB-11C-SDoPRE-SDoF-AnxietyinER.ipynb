{
  "cells": [
    {
      "cell_type": "markdown",
      "metadata": {
        "cell_id": "d2e71bec65844edfb564142f5a5fc10f",
        "deepnote_cell_height": 81.953125,
        "deepnote_cell_type": "markdown",
        "nbsimplegrader": {
          "config_key": "markdown.view-only",
          "editable": false,
          "label": "Markdown: View-Only",
          "respondable": false,
          "response": null,
          "runnable": false,
          "type": "markdown"
        }
      },
      "source": "# 11C: Anxiety in the ER"
    },
    {
      "cell_type": "code",
      "execution_count": null,
      "metadata": {
        "cell_id": "0797eada16864d8087559c7790a630cc",
        "deepnote_cell_type": "code",
        "deepnote_to_be_reexecuted": false,
        "execution_context_id": "49038962-f7cf-43d7-8e26-c740c5148bc4",
        "execution_millis": 1186,
        "execution_start": 1736811861314,
        "nbsimplegrader": {
          "config_key": "code.run-only",
          "editable": false,
          "label": "Code: Run-Only",
          "respondable": false,
          "response": null,
          "runnable": true,
          "type": "code"
        },
        "output_cleared": false,
        "source_hash": "ce5ee4b0",
        "trusted": true
      },
      "outputs": [],
      "source": "# This code will load the R packages we will use\nsuppressPackageStartupMessages({\n    library(coursekata)\n})\n\n# This code will make sure the middle rows/columns don't get cut out (ellipsized) when you \n# print out a really large data frame (you can adjust the values for max rows/cols)\noptions(repr.matrix.max.rows=800, repr.matrix.max.cols=200)\n\n#save modified version of the data with only the variables we need \ner_anxiety <- select(er, condition, age, gender, race, base_anxiety, later_anxiety, last_anxiety)"
    },
    {
      "cell_type": "markdown",
      "metadata": {
        "cell_id": "476f974229a341e784ee1e95ad4de137",
        "deepnote_cell_height": 108.359375,
        "deepnote_cell_type": "markdown",
        "nbsimplegrader": {
          "config_key": "markdown.view-only",
          "editable": false,
          "label": "Markdown: View-Only",
          "respondable": false,
          "response": null,
          "runnable": false,
          "type": "markdown"
        },
        "tags": []
      },
      "source": "## 1.0: The Data\n\nLet's look at the data (in a data frame called `er_anxiety`). Then I'll tell you a bit more about how it was collected."
    },
    {
      "cell_type": "code",
      "execution_count": null,
      "metadata": {
        "cell_id": "65d58b31f48f4c7c847bbfc1fd205e49",
        "deepnote_cell_type": "code",
        "deepnote_to_be_reexecuted": false,
        "execution_context_id": "1471dc10-523d-44bb-9695-459a547218f4",
        "execution_millis": 0,
        "execution_start": 1736815011315,
        "output_cleared": false,
        "source_hash": "f9f0735e",
        "tags": [],
        "trusted": true
      },
      "outputs": [],
      "source": "head(er_anxiety)"
    },
    {
      "cell_type": "markdown",
      "metadata": {
        "cell_id": "d26b822f61184974b037ff145cb5624d",
        "deepnote_cell_height": 52.359375,
        "deepnote_cell_type": "markdown",
        "tags": []
      },
      "source": "**1.1:** What do you think these cases (rows) are?"
    },
    {
      "cell_type": "markdown",
      "metadata": {
        "cell_id": "e0ecdad2c96845d2864e71bef9e17b68",
        "deepnote_cell_height": 836.484375,
        "deepnote_cell_type": "markdown",
        "tags": []
      },
      "source": "#### About the Study\n\n<img src=\"https://i.postimg.cc/qpYsC1xY/image.png\" alt=\"a variety of therapy dogs\" width = 60%>\n\nResearchers were interested in the potential benefits of therapy dogs in easing things such as anxiety, pain, and depression during emergency room visits. Several medically stable, adult patients visiting an emergency room were approached and randomly assigned to one of two conditions: 15 minutes exposure to a certified therapy dog and handler (**Dog condition**), or usual care (**Control condition**). Patient-reported anxiety, pain, and depression were assessed using a 0–10 scale (10 = worst), at three time points: \n\n- baseline (before the therapy dog)\n- later (30 minutes after the therapy dog or control treatment)\n- last (90 minutes after)\n\n#### Study Procedure\n\n<img src=\"https://i.postimg.cc/syjV5VSK/image.png\" alt=\"Diagram of Dog Therapy Study procedure\" width=800>"
    },
    {
      "cell_type": "markdown",
      "metadata": {
        "cell_id": "a0f1c8298ef84c129963832b14689497",
        "deepnote_cell_height": 109.96875,
        "deepnote_cell_type": "markdown",
        "tags": []
      },
      "source": "## Motivating Question: Are therapy dogs helpful in the emergency room (ER)?"
    },
    {
      "cell_type": "markdown",
      "metadata": {
        "cell_id": "75d06616a3dc4757a04092e610999396",
        "deepnote_cell_height": 394.265625,
        "deepnote_cell_type": "markdown",
        "tags": []
      },
      "source": "#### Key Variables\n\nFor today, we're going to focus on a few key variables having to do with patients' demographic characteristics and anxiety levels:\n\n- `condition`: The research condition the patient was randomly assigned to (Dog or Control)\n- `age`: The age of the patient\t\n- `gender`: the gender of the patient\t\n- `race`: The race of the patient \n- `base_anxiety`: The baseline self-reported anxiety rating on a scale of 0-10 (10 = worst), before any exposure to a therapy dog\t \n- `later_anxiety`: Anxiety rating, 30 minutes after exposure to either the dog or the control treatment \n- `last_anxiety`: Anxiety rating, 90 minutes after exposure to treatment\n\n##### Data Source: \n\nResearch Paper: [Kline JA, Fisher MA, Pettit KL, Linville CT, Beck AM.](https://journals.plos.org/plosone/article?id=10.1371/journal.pone.0209232) Controlled clinical trial of canine therapy versus usual care to reduce patient anxiety in the emergency department. PLoS One. 2019 Jan 9;14(1):e0209232. doi: 10.1371/journal.pone.0209232. PMID: 30625184; PMCID: PMC6326463.\n\n"
    },
    {
      "cell_type": "markdown",
      "metadata": {
        "cell_id": "bdf4a2f1be5e498298ceee2349b5a097",
        "deepnote_cell_height": 69.96875,
        "deepnote_cell_type": "markdown",
        "tags": []
      },
      "source": "## 2.0: Explore Variation"
    },
    {
      "cell_type": "markdown",
      "metadata": {
        "cell_id": "d31b664abdb54f509ffda989c172b05d",
        "deepnote_cell_height": 74.75,
        "deepnote_cell_type": "markdown",
        "nbsimplegrader": {
          "config_key": "markdown.view-only",
          "editable": false,
          "label": "Markdown: View-Only",
          "respondable": false,
          "response": null,
          "runnable": false,
          "type": "markdown"
        },
        "tags": []
      },
      "source": "**2.1:** Anxiety was measured at three different time points (`base_anxiety`, `later_anxiety`, and `last_anxiety`). For today, we will focus on the variable `later_anxiety` as our outcome variable. Make a visualization to explore the variation in `later_anxiety`."
    },
    {
      "cell_type": "markdown",
      "metadata": {
        "cell_id": "5e4cdaf07bb74e24896d4379233b7280",
        "deepnote_cell_height": 74.75,
        "deepnote_cell_type": "markdown",
        "nbsimplegrader": {
          "config_key": "markdown.view-only",
          "editable": false,
          "label": "Markdown: View-Only",
          "respondable": false,
          "response": null,
          "runnable": false,
          "type": "markdown"
        },
        "tags": []
      },
      "source": "**2.2:** The researchers were particularly interested in whether `condition` explains variation in anxiety. Make some visualizations to explore their hypothesis. Does `condition` make a difference on `later_anxiety`?"
    },
    {
      "cell_type": "markdown",
      "metadata": {
        "cell_id": "4d039c757b0842de897ef2d1186219da",
        "deepnote_cell_height": 214.71875,
        "deepnote_cell_type": "markdown",
        "nbsimplegrader": {
          "config_key": "markdown.view-only",
          "editable": false,
          "label": "Markdown: View-Only",
          "respondable": false,
          "response": null,
          "runnable": false,
          "type": "markdown"
        },
        "tags": []
      },
      "source": "**Summary:** Just using our common sense, we can figure out some things about the DGP that generated this data. \n\nBecause of common sense, we know that `condition` couldn't have caused any of the differences we see in these two groups in `base_anxiety` because that is before any dog therapy happened. Any difference we see in these two groups is likely due to random chance. \n\nHowever, because this data was collected in an experiment (with random assignment to these two conditions), condition *could have* caused the differences we see in the two groups. **But** it is important to keep in mind that randomness *could have* caused differences as well. Later we will learn how to rule out randomness as a DGP."
    },
    {
      "cell_type": "markdown",
      "metadata": {
        "cell_id": "5d2654208aa948dd8f4501b699daee56",
        "deepnote_cell_height": 70.421875,
        "deepnote_cell_type": "markdown",
        "tags": []
      },
      "source": "## 3.0: Modeling Variation in `later_anxiety`"
    },
    {
      "cell_type": "markdown",
      "metadata": {
        "cell_id": "463a202d51684651b659376c8bd94569",
        "deepnote_cell_height": 74.75,
        "deepnote_cell_type": "markdown",
        "nbsimplegrader": {
          "config_key": "markdown.view-only",
          "editable": false,
          "label": "Markdown: View-Only",
          "respondable": false,
          "response": null,
          "runnable": false,
          "type": "markdown"
        },
        "tags": []
      },
      "source": "**3.1:** Let's keep exploring the hypothesis that `condition` could explain variation in `later_anxiety`. Find the best fitting model and add it to this faceted histogram below. Also add it to the jitter plot below.\n"
    },
    {
      "cell_type": "code",
      "execution_count": null,
      "metadata": {
        "cell_id": "fd668b21cffe4af6ab6c4fbd3f551df1",
        "deepnote_cell_type": "code",
        "deepnote_to_be_reexecuted": false,
        "execution_millis": 211,
        "execution_start": 1661561356423,
        "output_cleared": true,
        "source_hash": "6d83204",
        "tags": [],
        "trusted": true
      },
      "outputs": [],
      "source": "gf_histogram(~ later_anxiety, data = er_anxiety, binwidth = 1, fill = \"orange\") %>%\n  gf_facet_grid(condition ~ .) "
    },
    {
      "cell_type": "code",
      "execution_count": null,
      "metadata": {
        "cell_id": "c4c7b052b46848c1bf8978025f2fa6c4",
        "deepnote_cell_type": "code",
        "deepnote_to_be_reexecuted": false,
        "execution_millis": 137,
        "execution_start": 1661561356675,
        "output_cleared": true,
        "source_hash": "9b28b45",
        "tags": [],
        "trusted": true
      },
      "outputs": [],
      "source": "gf_jitter(later_anxiety ~ condition, data = er_anxiety, width = .1, color = \"darkorange3\")"
    },
    {
      "cell_type": "markdown",
      "metadata": {
        "cell_id": "2eef387faee24418a074f090db2ae488",
        "deepnote_cell_height": 223.9375,
        "deepnote_cell_type": "markdown",
        "tags": []
      },
      "source": "**3.2:** Write the best fitting model of **later_anxiety = condition + other stuff** in GLM notation. You can double click on this cell to copy the equation we have started for you below:\n\n$Y_i = b_0 + b_1X_i + e_i$\n\n*Notes on writing fancy mathematical notation:*\n- You can write GLM using Ys and Xs: $Y_i = b_0 + b_1X_i + e_i$\n- Or using the variable names: $lateranxiety_i = b_0 + b_1conditionDog_i + e_i$"
    },
    {
      "cell_type": "markdown",
      "metadata": {
        "cell_id": "0244b8e46de04dfc8b852ec8096078f0",
        "deepnote_cell_height": 147.125,
        "deepnote_cell_type": "markdown",
        "tags": []
      },
      "source": "**3.3:** Interpret the parameter estimates. How do these numbers relate to the model shown in the graph?\n\n"
    },
    {
      "cell_type": "markdown",
      "metadata": {
        "cell_id": "c23cb66be5644df5959cc80881ac7733",
        "deepnote_cell_height": 74.75,
        "deepnote_cell_type": "markdown",
        "tags": []
      },
      "source": "**3.4** What would the condition model predict as the `later_anxiety` for someone who got dog therapy? How about someone who didn't?"
    },
    {
      "cell_type": "markdown",
      "metadata": {
        "cell_id": "fbb5efb1462745828639c223809e29d1",
        "deepnote_cell_height": 52.359375,
        "deepnote_cell_type": "markdown",
        "tags": []
      },
      "source": "**3.5:** Why does the model predict lower anxiety for those in the dog condition?"
    },
    {
      "cell_type": "markdown",
      "metadata": {
        "cell_id": "c102766c2fd9435aaeff9ddbb7b23614",
        "deepnote_cell_type": "markdown"
      },
      "source": "## 4.0 - Simulating a Random DGP "
    },
    {
      "cell_type": "markdown",
      "metadata": {
        "cell_id": "bc625a3590604af7b16c30027a820083",
        "deepnote_cell_type": "markdown"
      },
      "source": "4.1 - What would the best fitting models typically look like if the DGP was random? What would the $b_1s$ usually look like? How much could they vary? Let's check it out.\n\nModify the code below. "
    },
    {
      "cell_type": "code",
      "execution_count": null,
      "metadata": {
        "cell_id": "f590e470f5af4fab8a8fb876695c4e11",
        "deepnote_cell_type": "code",
        "trusted": true
      },
      "outputs": [],
      "source": "do(10) * b1(shuffle() ~ shuffle(condition), data = )"
    },
    {
      "cell_type": "code",
      "execution_count": null,
      "metadata": {
        "cell_id": "b62ade1c09b3403b9a07bc31d24af551",
        "deepnote_cell_type": "code",
        "execution_context_id": "71ca3f85-441d-4059-b124-87e5387cebb6",
        "execution_millis": 1,
        "execution_start": 1745856988491,
        "source_hash": "80d548bd",
        "trusted": true
      },
      "outputs": [],
      "source": "gf_jitter(shuffle() ~ condition, data = , color = \"blue\", size = 2) %>%\n    gf_model(color = \"navyblue\") "
    },
    {
      "cell_type": "markdown",
      "metadata": {
        "cell_id": "cfedf72ce8ff45fca13b0910c6cf99eb",
        "deepnote_cell_type": "markdown"
      },
      "source": "4.2 - What would the PREs look like from these models (from a random DGP)? Do you think they would be big? Small? Medium? Why? "
    },
    {
      "cell_type": "markdown",
      "metadata": {
        "cell_id": "21f1277360cf4e229bc0fb2dabf16727",
        "deepnote_cell_type": "markdown"
      },
      "source": "4.3 - Let's generate $PRE$s (like a 1000 of them) from a random DGP. How do those PREs generally vary? Try creating a visualization of your distribution of PREs.\n\n(Bonus: What is this distribution of PREs called?)"
    },
    {
      "cell_type": "code",
      "execution_count": null,
      "metadata": {
        "cell_id": "472892ce83c7422c8d2f2664dbdf24d1",
        "deepnote_cell_type": "code",
        "trusted": true
      },
      "outputs": [],
      "source": "#modify this code \nSDoPRE <- do(1000) * PRE(shuffle() ~ , data = )\n\nhead(SDoPRE)"
    },
    {
      "cell_type": "markdown",
      "metadata": {
        "cell_id": "d70407a0411b4b50a3f457a711d57b85",
        "deepnote_cell_type": "markdown"
      },
      "source": "4.4 - Where would your sample PRE exist on the distribution of PREs? Try adding it to your visualization."
    },
    {
      "cell_type": "code",
      "execution_count": null,
      "metadata": {
        "cell_id": "c94cafceb5ff4c16b1cb1ccaf5c48e43",
        "deepnote_cell_type": "code",
        "trusted": true
      },
      "outputs": [],
      "source": "# Add our sample's PRE to the visualization with gf_point()\n\n#save the sample PRE\nsample_PRE <- PRE( ~ , data = )\n\n#add it to our visualization \n#note: using this fill option will color the lower .95 of values \ngf_histogram(~PRE, data = SDoPRE, bins = 50, fill = ~lower(PRE, .95)) %>%\n    gf_point(0 ~ sample_PRE, color = \"red\")"
    },
    {
      "cell_type": "markdown",
      "metadata": {
        "cell_id": "1fbd175c3b18486583a83b9ab7754470",
        "deepnote_cell_type": "markdown"
      },
      "source": "4.5 - Consider the values in the ANOVA table for the main model you have been \nworking with so far. Which value do you think corresponds the most to this statement:\n\n> The probability of getting a PRE as large as the sample PRE, **if** there was no relationship between the variables in the DGP."
    },
    {
      "cell_type": "markdown",
      "metadata": {
        "cell_id": "cb4990f37b3a4568aa65cb06a996445b",
        "deepnote_cell_type": "markdown"
      },
      "source": "4.6 - Use tally() to see if \"the proportion of PREs as large as the sample PRE, if there was no relationship between the variables in the DGP\" from your sampling distribution really is similar to the number in the ANOVA table."
    },
    {
      "cell_type": "markdown",
      "metadata": {
        "cell_id": "405b39188e244734a57a4ded4c8aa3fa",
        "deepnote_cell_type": "markdown"
      },
      "source": "4.7 - So what do you think? Evaluate your model against the empty model. What does this mean for the researchers' hypothesis?"
    },
    {
      "cell_type": "markdown",
      "metadata": {
        "cell_id": "dc60b4c2907647548773ad22b99d5fa4",
        "deepnote_cell_type": "markdown"
      },
      "source": "## 5.0 - Extending these Ideas to *F*"
    },
    {
      "cell_type": "markdown",
      "metadata": {
        "cell_id": "559a88afd8564edc9c6637fe872f9670",
        "deepnote_cell_type": "markdown"
      },
      "source": "PRE and F are very closely related. They both try to show how much the complex model explains the outcome variable compared to the empty model. We should end up with the same conclusions whether we use PRE or F.\n\n5.1 - To corroborate our intuitions, try creating a sampling distribution and histogram of the *F*  from shuffled data using `fval()` and `shuffle()`. Where does the sample F fall in this distribution?\n\nThen use `tally()` to get the p-value from the simulated sampling distribution of PREs. "
    },
    {
      "cell_type": "markdown",
      "metadata": {
        "cell_id": "dd4bf5be396043b6b98c08f24ab47642",
        "deepnote_cell_type": "markdown"
      },
      "source": "## 6.0 - Conclusions "
    },
    {
      "cell_type": "markdown",
      "metadata": {
        "cell_id": "08ee48cad44548a482b02ce9a7b7c1ca",
        "deepnote_cell_type": "markdown"
      },
      "source": "6.1 - What conclusions can you draw regarding the researchers' hypothesis? Did being in the dog condition make a difference in later anxiety?"
    },
    {
      "cell_type": "markdown",
      "metadata": {
        "cell_id": "9916b8824e3949feb2c8e71d756f685d",
        "deepnote_cell_type": "markdown"
      },
      "source": "## 7.0 - Bonus: Working with a quantitative explanatory variable "
    },
    {
      "cell_type": "markdown",
      "metadata": {
        "cell_id": "22a186efa1af48ff972393901072bea3",
        "deepnote_cell_type": "markdown"
      },
      "source": "7.1 - The researchers also wondered whether a person's `base_anxiety` could help predict `later_anxiety`. Regardless of what condition someone was randomly assigned to, how well did their base anxiety predict with their later anxiety? \n\nCreate this model and interpret the coefficients. "
    },
    {
      "cell_type": "markdown",
      "metadata": {
        "cell_id": "015094dd2e21426197581db580e98e88",
        "deepnote_cell_type": "markdown"
      },
      "source": "7.2 - Try creating a sampling distribution and histogram of the PRE from shuffled data using PRE() and shuffle(). Where does the sample PRE from this new model fall in this distribution?"
    },
    {
      "cell_type": "markdown",
      "metadata": {
        "cell_id": "d6ea1ead9cfe41c99150a6e2f8575a4e",
        "deepnote_cell_type": "markdown"
      },
      "source": "7.3 - Extend this to F. Try creating a sampling distribution and histogram of the F from shuffled data using fval() and shuffle(). Where does the sample F fall in this distribution?"
    },
    {
      "cell_type": "markdown",
      "metadata": {
        "cell_id": "d3a742e6de3d440a917ec683772a4e4d",
        "deepnote_cell_type": "markdown"
      },
      "source": "7.4 - What do you think? Does `base_anxiety` help predict `later_anxiety`?"
    },
    {
      "cell_type": "markdown",
      "metadata": {
        "cell_id": "832c55d07d4143af99025f8123d1c084",
        "deepnote_cell_type": "markdown"
      },
      "source": "7.5 - What was similar in this process compared to using `condition` as our explanatory variable? What was different? "
    }
  ],
  "metadata": {
    "deepnote_notebook_id": "508254bdfb244ce093909fd1ebf9ee54",
    "kernelspec": {
      "display_name": "R",
      "language": "R",
      "name": "ir"
    },
    "language_info": {
      "codemirror_mode": "r",
      "file_extension": ".r",
      "mimetype": "text/x-r-source",
      "name": "R",
      "pygments_lexer": "r",
      "version": "4.3.3"
    },
    "nbsimplegrader": {
      "publish_config": {
        "classes": [],
        "options": [],
        "tools": []
      }
    }
  },
  "nbformat": 4,
  "nbformat_minor": 1
}