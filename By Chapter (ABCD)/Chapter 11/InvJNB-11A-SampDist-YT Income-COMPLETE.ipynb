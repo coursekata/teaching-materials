{
  "cells": [
    {
      "cell_type": "markdown",
      "metadata": {
        "cell_id": "ddc06bcc73624374ad532182cc1d8e31",
        "deepnote_cell_type": "markdown",
        "tags": []
      },
      "source": "<div class=\"alert alert-block alert-danger\">\n\n## 11A: Which YouTubers make a living wage? (COMPLETE)\n\n**Use with textbook version 6.0+**\n\n**Lesson assumes students have read up through page: 11.3**\n    \n</div>"
    },
    {
      "cell_type": "markdown",
      "metadata": {
        "cell_id": "e95ca58d6b4a4e048aedee5831b0f547",
        "deepnote_cell_height": 163.9375,
        "deepnote_cell_type": "markdown",
        "tags": []
      },
      "source": "<div class=\"alert alert-block alert-success\">\n\n## Approximate time to complete Notebook: 45-60 Mins\n    \n</div>"
    },
    {
      "cell_type": "markdown",
      "metadata": {
        "cell_id": "b6563a58be1d4a03997d03d8f30773ff",
        "deepnote_cell_height": 429.65625,
        "deepnote_cell_type": "markdown",
        "tags": []
      },
      "source": "<div class=\"alert alert-block alert-warning\">\n\n### At a Glance\n    \n#### Summary of Notebook:\n\nIn this lesson, students will explore a dataset that includes a variety of information about various YouTube channels, including how much income they earn from their channel. The main research question examines whether YouTubers, on average, make a living wage or live above the poverty line. The example hypothesis then works through the question of whether number of views on a video predicts income.\n\n#### Goals of the Notebook:\n\n- Decide whether to include or exclude an outlier\n- See that the shuffled sampling distribution of $b_1$ gives us the same results as the sampling distribution of F and the ANOVA table\n- Give students a chance to explore their own hypotheses\n\n</div>"
    },
    {
      "cell_type": "markdown",
      "metadata": {
        "cell_id": "a9aba5be40e842c3967eb7b428dc6e8e",
        "deepnote_cell_height": 144.96875,
        "deepnote_cell_type": "markdown",
        "tags": []
      },
      "source": "<img src=\"https://i.postimg.cc/ty1GkxB8/Skew-the-Script-Logo.png\" title=\"Skew the script logo\" width=200 align = \"right\">\n\nMade in collaboration with [Skew the Script](https://skewthescript.org/)."
    },
    {
      "cell_type": "code",
      "execution_count": null,
      "metadata": {
        "cell_id": "9d4aba9689214f1f83c44ae533bc620e",
        "deepnote_cell_height": 314.953125,
        "deepnote_cell_type": "code",
        "deepnote_to_be_reexecuted": false,
        "execution_context_id": "c707a6e7-b0c4-46bc-b89d-401d602165b3",
        "execution_millis": 2524,
        "execution_start": 1734647304575,
        "output_cleared": false,
        "owner_user_id": "23d85493-7ed1-49a4-baa7-630eaab08193",
        "source_hash": "3c52e3ae",
        "tags": [],
        "trusted": true
      },
      "outputs": [],
      "source": "# Load the CourseKata library\nsuppressPackageStartupMessages({\n    library(coursekata)\n})\n\n# Adjust scientific notation\noptions(scipen = 10)\n\n# Pull in data from csv\nYouTubers <- read.csv(\"https://docs.google.com/spreadsheets/d/e/2PACX-1vRc-xoYTbcG_kCs0oNcR0uDgXn0MWroDw9e-EqLJeFDsRtNqXZJqt7A43IvhrSyjR8uEozsKjIy9EH3/pub?gid=782475797&single=true&output=csv\", header=TRUE)\nYouTubers$Gender <- factor(YouTubers$Gender)\n\n# Data frame with filtered outlier\nYouTubers_no_outlier <- filter(YouTubers, Views <= 2500000)"
    },
    {
      "cell_type": "markdown",
      "metadata": {
        "cell_id": "4351b2ddfd0d44debff8f5e320adec0f",
        "deepnote_cell_height": 115.9375,
        "deepnote_cell_type": "markdown",
        "tags": []
      },
      "source": "<div class=\"alert alert-block alert-success\">\n\n### 1.0 - Approximate Time: 5-8 mins\n    \n</div>"
    },
    {
      "cell_type": "markdown",
      "metadata": {
        "cell_id": "2ead82a58f634ad58d37ee7cf8cef9fe",
        "deepnote_cell_height": 748.359375,
        "deepnote_cell_type": "markdown",
        "tags": []
      },
      "source": "### <center>Students used to say: \"I'm gonna drop out and become a...\"</center>\n\n<img src=\"https://coursekata-course-assets.s3.us-west-1.amazonaws.com/UCLATALL/czi-stats-course/jnb_dwybGc5C-9-B-YT-Income-Mus-Ath-Act.png\" title=\"entertainment figures and their 2020 income\" width=500>\n\n### <center>Now, students say: \"I'm gonna drop out and become a...\"</center>\n\n<img src=\"https://coursekata-course-assets.s3.us-west-1.amazonaws.com/UCLATALL/czi-stats-course/jnb_pxRNz6gc-9-B-YT-Income-Influencers.png\" title=\"social media figures and their 2020 income\" width=500>"
    },
    {
      "cell_type": "markdown",
      "metadata": {
        "cell_id": "127caf1187944e77a939533c13b3d5ec",
        "deepnote_cell_height": 240.3125,
        "deepnote_cell_type": "markdown",
        "tags": []
      },
      "source": "### The Exception or The Rule?\n\nFor today, let's think about YouTube content creators.\n\nAccording to [PolicyAdvice](https://policyadvice.net/insurance/insights/average-american-income/), the average US income is \\$51,916 per year. According the [Department of Health and Human Services](https://aspe.hhs.gov/2021-poverty-guidelines), the individual poverty threshold is \\$12,880.\n\n**What do you think?** What kind of money do people make when YouTubing is their full-time career? Do you think most YouTube content creators are above the poverty threshold? Above the average income?"
    },
    {
      "cell_type": "markdown",
      "metadata": {
        "cell_id": "60a477f27ba94de59613c3631fe2d1d4",
        "deepnote_cell_height": 69.96875,
        "deepnote_cell_type": "markdown",
        "tags": []
      },
      "source": "## 1.0 - Getting Data\t\t\t\t\t\t\t\t\t"
    },
    {
      "cell_type": "markdown",
      "metadata": {
        "cell_id": "4cfe8b3b0a0c42ef98baedc56cb854a3",
        "deepnote_cell_height": 74.75,
        "deepnote_cell_type": "markdown",
        "tags": []
      },
      "source": "**1.1 - Discussion:** If we wanted to get some data on YouTube earnings, you'll find out YouTube doesn't release data on individual earners. Why do you think that is? \n"
    },
    {
      "cell_type": "markdown",
      "metadata": {
        "cell_id": "5a6ff710a22840aa8517199c6851b8b8",
        "deepnote_cell_height": 140.71875,
        "deepnote_cell_type": "markdown",
        "tags": []
      },
      "source": "<div class=\"alert alert-block alert-warning\">\n\n**Sample Response**\n\n- YouTube may not be able to release that information because it might be confidential.\n    \n</div>"
    },
    {
      "cell_type": "markdown",
      "metadata": {
        "cell_id": "f07565fa4394455ea51d927af22789ac",
        "deepnote_cell_height": 74.75,
        "deepnote_cell_type": "markdown",
        "tags": []
      },
      "source": "**1.2 - Discussion:** We could send out a survey and ask YouTubers what their annual income is. Do you think this would be a good method of collecting data? Why or why not?\t\t"
    },
    {
      "cell_type": "markdown",
      "metadata": {
        "cell_id": "fd48eb42416f4e71abbde2c30bc9ac2c",
        "deepnote_cell_height": 300.6875,
        "deepnote_cell_type": "markdown",
        "tags": []
      },
      "source": "<div class=\"alert alert-block alert-warning\">\n\n**Sample Responses**\n\n*Pros*\n\n- You can directly ask the person\n\n*Cons*\n\n- They might not be truthful (e.g., wanting to over- or underestimate their worth)\n- They might not recall correctly \n- They might not actually know (e.g., a financial advisor handles their finances)\n    \n</div>"
    },
    {
      "cell_type": "markdown",
      "metadata": {
        "cell_id": "4259e6b55ddb471baf48d28340739802",
        "deepnote_cell_height": 1275.078125,
        "deepnote_cell_type": "markdown",
        "tags": []
      },
      "source": "Here is a data set called `YouTubers` that was collected on the first **70 YouTube videos** (out of hundreds) that come up with the search term: \"*How much I make on YouTube*\"\n\nThe data frame contains the following variables:\n- `ChannelName` The name of the YouTube channel\n- `VideoLink` The link to the channel\n- `Income` The annual income reported in the video\n- `Gender` The gender of the channel host\n- `Subscribers` The number of subscribers the channel has (at time of data collection, May 2021)\n- `Views` The number of views the video has (at time of data collection, May 2021)\n- `ThumbsUp` The number of thumbs up on the video (at time of data collection, May 2021)\t\n- `ThumbsDown` The number of thumbs down on the video (at time of data collection, May 2021)\n- `Theme` The general theme of the videos on the channel\n- `Vlogs` Whether the channel is a vlogging channel or not\t\n- `Comments` The number of comments on the video (at time of data collection, May 2021)\t\n- `UploadMonth` The month the video was uploaded\n- `UploadYear` The year the video was uploaded\n- `LengthMins` The length of the video in minutes\n- `Verified` Whether or not the channel is verified (with an official check mark near the channel name)\t\n\nThe income made by these creators were recorded from screenshots of channel revenue pages in the videos:\n<img src=\"https://coursekata-course-assets.s3.us-west-1.amazonaws.com/UCLATALL/czi-stats-course/jnb_XNVRxJxq-9-B-YT-Income-Thumbnails.png\" title=\"Thumbnail of a YouTubers income analytics page\" width=400>"
    },
    {
      "cell_type": "markdown",
      "metadata": {
        "cell_id": "c19ea66a3dd54464a5a0120a39a2f261",
        "deepnote_cell_height": 97.140625,
        "deepnote_cell_type": "markdown",
        "tags": []
      },
      "source": "**1.3 - Discussion:** Take a peek at the data frame `YouTubers` and take a look at some of the annual incomes. Do you think these numbers are more trustworthy than if you had asked for income on a survey? Do these numbers tell you how much these YouTubers earned in 2020?"
    },
    {
      "cell_type": "markdown",
      "metadata": {
        "cell_id": "a1ebcfb4beb543889e1db646eab111cf",
        "deepnote_cell_height": 210.90625,
        "deepnote_cell_type": "markdown",
        "tags": []
      },
      "source": "<div class=\"alert alert-block alert-warning\">\n\n**Sample Response**\n\n- These numbers might be more trustworthy because you can actually see their analytics page.\n- These numbers do not tell us how much all of them earned in 2020, because some of them are from videos made in different years.\n    \n</div>"
    },
    {
      "cell_type": "code",
      "execution_count": null,
      "metadata": {
        "cell_id": "9198bc8e440343c89a0983a3e7bf7153",
        "deepnote_cell_height": 425.6875,
        "deepnote_cell_type": "code",
        "deepnote_to_be_reexecuted": false,
        "execution_millis": 17,
        "execution_start": 1667517232248,
        "output_cleared": false,
        "source_hash": "973add78",
        "tags": [],
        "trusted": true
      },
      "outputs": [],
      "source": "str(YouTubers)"
    },
    {
      "cell_type": "markdown",
      "metadata": {
        "cell_id": "936d9e7e48884bf3a4af85ae88e6fdfd",
        "deepnote_cell_height": 115.9375,
        "deepnote_cell_type": "markdown",
        "tags": []
      },
      "source": "<div class=\"alert alert-block alert-success\">\n\n### 2.0 - Approximate Time: 10-12 mins\n    \n</div>"
    },
    {
      "cell_type": "markdown",
      "metadata": {
        "cell_id": "60df9579611a4d3bb9a447a0ee9ba9ec",
        "deepnote_cell_height": 69.96875,
        "deepnote_cell_type": "markdown",
        "tags": []
      },
      "source": "## 2.0 - Explore Variation in YouTuber Income"
    },
    {
      "cell_type": "markdown",
      "metadata": {
        "cell_id": "71156e855ed64b20bcc8c7037369acca",
        "deepnote_cell_height": 97.140625,
        "deepnote_cell_type": "markdown",
        "tags": []
      },
      "source": "2.1 - Let's explore variation in `Income`. Run the code below (we have divided Income by 1000 to make the numbers a little easier to interpret on the graph). What do you notice about how `Income` is distributed in this sample? "
    },
    {
      "cell_type": "code",
      "execution_count": null,
      "metadata": {
        "cell_id": "4e0d12945b7c420c808d23d45249347a",
        "deepnote_cell_height": 607.96875,
        "deepnote_cell_type": "code",
        "deepnote_output_heights": [
          444.015625,
          444.015625,
          444.015625
        ],
        "deepnote_to_be_reexecuted": false,
        "execution_millis": 104,
        "execution_start": 1667519652557,
        "output_cleared": false,
        "source_hash": "894a3206",
        "tags": [],
        "trusted": true
      },
      "outputs": [],
      "source": "# Distribution of Income (divided by 1000)\ngf_histogram(~Income/1000, data = YouTubers)%>%\n    gf_boxplot() %>%\n    gf_labs(x = \"Income (in $1000s)\")\n"
    },
    {
      "cell_type": "markdown",
      "metadata": {
        "cell_id": "f91fa3e6f61b4fafb7cb2df4a952fb34",
        "deepnote_cell_height": 258.296875,
        "deepnote_cell_type": "markdown",
        "tags": []
      },
      "source": "<div class=\"alert alert-block alert-warning\">\n\n**Note to Instructors**\n\nAfter an initial reaction, encourage students to look for shape, center, spread, and/or weird things.\n\n**Sample Response**\n\nThese incomes are skewed to the right. A lot of the incomes are stacked between \\$0 - \\$50,000, with a few that go as high as \\$400,000.\n\n</div>"
    },
    {
      "cell_type": "markdown",
      "metadata": {
        "cell_id": "fd567289bdf54a90a6b5032abf3ad444",
        "deepnote_cell_height": 74.75,
        "deepnote_cell_type": "markdown",
        "tags": []
      },
      "source": "**2.2 - Discussion:** Are these YouTubers making a \"living wage\"? Does this data mean that most YouTubers make a living wage?"
    },
    {
      "cell_type": "markdown",
      "metadata": {
        "cell_id": "9a0a9d1129af4f6281bc684338664fb3",
        "deepnote_cell_height": 255.6875,
        "deepnote_cell_type": "markdown",
        "tags": []
      },
      "source": "<div class=\"alert alert-block alert-warning\">\n\n**Sample Response**\n\n- According to this data, it looks like many YouTubers are making wages above the poverty threshold. \n- This does not mean that this is true for most YouTubers. This dataset only includes YouTubers who have self-selected to share their income information. It does not include those who do not disclose that info, or those who may not make any income at all so they do not post a video about it.\n    \n</div>"
    },
    {
      "cell_type": "markdown",
      "metadata": {
        "cell_id": "b7b2d2077f26407cb0da079bd091a4fe",
        "deepnote_cell_height": 74.75,
        "deepnote_cell_type": "markdown",
        "tags": []
      },
      "source": "2.3 - What might explain variation in these YouTubers income? Come up with a hypothesis and write it as a word equation."
    },
    {
      "cell_type": "markdown",
      "metadata": {
        "cell_id": "5cffd24ebd574e1386213508da3841bc",
        "deepnote_cell_height": 378.65625,
        "deepnote_cell_type": "markdown",
        "tags": []
      },
      "source": "<div class=\"alert alert-block alert-warning\">\n\n**Note to Instructors**\n\nStudents will come up with lots of hypotheses and they should be encouraged to pursue their own hypothesis in this part of the Jupyter notebook.\n\nThe instructor should pursue an example hypothesis. We recommend pursuing **Income = Views + Error** which is interesting because of an outlier. There is a video in this sample that went extra viral with about 9 million views. For comparison, the 2nd most watched video has 800K views. Your students may be interested in doing their analysis with either `YouTubers` or `YouTubers_no_outlier` which excludes that super viral video. It would be good to discuss whether they think videos that go superviral are part of the same DGP that governs most other videos. After exploring that in the next question, we recommend using the `YouTubers_no_outlier` data set. Note that the outlier really changes the relationship between `Views` and `Income` (or `IncomeK`). \n    \n</div>"
    },
    {
      "cell_type": "markdown",
      "metadata": {
        "cell_id": "00f4989eec694e449760a49e54cdeda6",
        "deepnote_cell_height": 74.75,
        "deepnote_cell_type": "markdown",
        "tags": []
      },
      "source": "2.4 - Make a visualization to explore your hypothesis. What are your initial impressions? (Try chaining on `gf_model()`.)"
    },
    {
      "cell_type": "code",
      "execution_count": null,
      "metadata": {
        "cell_id": "03e8c9080ec34f4bb6a52a7a02729d25",
        "deepnote_cell_height": 1664.875,
        "deepnote_cell_type": "code",
        "deepnote_output_heights": [
          275.90625,
          444.015625,
          444.015625
        ],
        "deepnote_to_be_reexecuted": false,
        "execution_millis": 197,
        "execution_start": 1667519740241,
        "output_cleared": false,
        "source_hash": "2b3727bf",
        "tags": [],
        "trusted": true
      },
      "outputs": [],
      "source": "# Complete Version\n\n# Income = Views + Error\ngf_jitter(Income ~ Views, data = YouTubers) %>%\n    gf_model(Income ~ Views, data = YouTubers)\n\n# This happens to be a situation where there is a really extreme outlier! \n# Students might be interested in watching that video (link in data) but \n# when we look at the data (see arrange), this video happens to be the most viral,\n# with over 9 million views. So it also has a lot of likes, dislikes, comments, etc.\nhead(arrange(YouTubers, desc(Views)))\n\n# This would be good to discuss: should we exclude this outlier? \n# Especially if students are interested in views, thumbs up/down, comments \n# we suggest exluding because the outlier will warp the relationship between variables.\nYouTubers_no_outlier <- filter(YouTubers, Views <= 2500000)\n\n# ...and here's the data viz without the outlier.\ngf_jitter(Income ~ Views, data = YouTubers_no_outlier) %>%\n    gf_model(Income ~ Views, data = YouTubers_no_outlier)"
    },
    {
      "cell_type": "markdown",
      "metadata": {
        "cell_id": "a51a25a505104660a3d55c8735da4d95",
        "deepnote_cell_height": 115.9375,
        "deepnote_cell_type": "markdown",
        "tags": []
      },
      "source": "<div class=\"alert alert-block alert-success\">\n\n### 3.0 - Approximate Time: 10-12 mins\n    \n</div>"
    },
    {
      "cell_type": "markdown",
      "metadata": {
        "cell_id": "9b045c19e28c4f84b7be231d717ce487",
        "deepnote_cell_height": 69.96875,
        "deepnote_cell_type": "markdown",
        "tags": []
      },
      "source": "## 3.0 - Model Variation"
    },
    {
      "cell_type": "markdown",
      "metadata": {
        "cell_id": "fc35736817e1482dad4f7d03663fdfe5",
        "deepnote_cell_height": 111.34375,
        "deepnote_cell_type": "markdown",
        "tags": []
      },
      "source": "3.1 - What is the best fitting model for your hypothesis? Answer this question by updating the GLM notation in this cell.\n\n$Income = b_0 + b_1X_i + e_i$"
    },
    {
      "cell_type": "code",
      "execution_count": null,
      "metadata": {
        "cell_id": "25b257b6f45345108b73b2e1f669692a",
        "deepnote_cell_height": 263.375,
        "deepnote_cell_type": "code",
        "deepnote_output_heights": [
          135.421875
        ],
        "deepnote_to_be_reexecuted": false,
        "execution_millis": 2,
        "execution_start": 1667519880221,
        "source_hash": "4b51d127",
        "tags": [],
        "trusted": true
      },
      "outputs": [],
      "source": "# no outlier version\nlm(Income ~ Views, data = YouTubers_no_outlier)\n# For every additional view, we add $0.08 to the predicted annual income."
    },
    {
      "cell_type": "markdown",
      "metadata": {
        "cell_id": "07145149276e4e2badadef62b81f6f63",
        "deepnote_cell_height": 140.9375,
        "deepnote_cell_type": "markdown",
        "tags": []
      },
      "source": "<div class=\"alert alert-block alert-warning\">\n\n**Sample Response**\n\n$Income = 40012.49 + 0.085(Views_i) + e_i$\n    \n</div>"
    },
    {
      "cell_type": "markdown",
      "metadata": {
        "cell_id": "44ed808523bd47a5b61c1bfccb79e025",
        "deepnote_cell_height": 74.75,
        "deepnote_cell_type": "markdown",
        "tags": []
      },
      "source": "3.2 - How much error did we reduce by adding an explanatory variable to our model? (e.g., in our example, `Views`)"
    },
    {
      "cell_type": "code",
      "execution_count": null,
      "metadata": {
        "cell_id": "6ef345c844774d26b6c06ba5f744eb25",
        "deepnote_cell_height": 378.78125,
        "deepnote_cell_type": "code",
        "deepnote_output_heights": [
          173.828125
        ],
        "deepnote_to_be_reexecuted": false,
        "execution_millis": 20,
        "execution_start": 1667519902670,
        "output_cleared": false,
        "source_hash": "d0b4333d",
        "tags": [],
        "trusted": true
      },
      "outputs": [],
      "source": "# students could answer this with PRE (proportion reduction) \n# or F (reduction compared to a random parameter we could have added to our model) \n# or SS Model (reduction in sum of squared dollars)\n# all of these can be found in the ANOVA table\n\nmodel <- lm(Income ~ Views, data = YouTubers_no_outlier)\nsupernova(model)"
    },
    {
      "cell_type": "markdown",
      "metadata": {
        "cell_id": "62ffe1e7403f4186b6026635871079c0",
        "deepnote_cell_height": 140.71875,
        "deepnote_cell_type": "markdown",
        "tags": []
      },
      "source": "<div class=\"alert alert-block alert-warning\">\n\n**Sample Response**\n\n`Views` explains about 11% of the variation in `Income` according to the PRE.\n    \n</div>"
    },
    {
      "cell_type": "markdown",
      "metadata": {
        "cell_id": "6624ea00c68f469da7d93a8523829142",
        "deepnote_cell_height": 115.9375,
        "deepnote_cell_type": "markdown",
        "tags": []
      },
      "source": "<div class=\"alert alert-block alert-success\">\n\n### 4.0 - Approximate Time: 15-18 mins\n    \n</div>"
    },
    {
      "cell_type": "markdown",
      "metadata": {
        "cell_id": "7eb3860e1fc841bfbcdca85d1f189712",
        "deepnote_cell_height": 109.96875,
        "deepnote_cell_type": "markdown",
        "tags": []
      },
      "source": "## 4.0 - Could there be no effect in the true DGP?"
    },
    {
      "cell_type": "markdown",
      "metadata": {
        "cell_id": "7bc1d8dad23543b9b8c1f2200e8d8672",
        "deepnote_cell_height": 215.328125,
        "deepnote_cell_type": "markdown",
        "tags": []
      },
      "source": "Adding our explanatory variable (e.g., gender, verified, subscribers, etc.) reduces error by some amount. But that doesn't mean this more complex model is the right model of the DGP.\n\nEven a DGP where the $\\beta_1=0$ (the empty model) **could** produce samples of data with non-zero $b_1$s and explain some error! But we can use `shuffle()` to simulate a DGP where $\\beta_1=0$ and take a look at what kind of samples get generated.\n\nToday we'll look at $b_1$s and Fs generated from the empty model. (Even numbered groups: go to 4.1; Odd numbered groups: go to 4.2)"
    },
    {
      "cell_type": "markdown",
      "metadata": {
        "cell_id": "381ae7a7e4e048ffa3165be12d7b9800",
        "deepnote_cell_height": 57.46875,
        "deepnote_cell_type": "markdown",
        "tags": []
      },
      "source": "#### 4.1 - Explore shuffled $b_1$s"
    },
    {
      "cell_type": "markdown",
      "metadata": {
        "cell_id": "2efe41381ee343b594c4b28b390be04a",
        "deepnote_cell_height": 120.34375,
        "deepnote_cell_type": "markdown",
        "tags": []
      },
      "source": "- Is our sample $b_1$ an \"unlikely\" sample from `shuffle()`?\n- What do you think our p-value will be?\n- What do we think about the empty model of the DGP?"
    },
    {
      "cell_type": "markdown",
      "metadata": {
        "cell_id": "ffc29945dde64faa8ec7735f43aad566",
        "deepnote_cell_height": 325.6875,
        "deepnote_cell_type": "markdown",
        "tags": []
      },
      "source": "<div class=\"alert alert-block alert-warning\">\n\n**Sample Response**\n\n- Our sample is \"unlikely\"; p-value should be less than 5% since the point for the sample b1 is in the tails; thus our sample was possibly not generated by the empty model.\n\n**Note for Instructors** \n\nThe sampling distribution of $b_1$ is typically modeled mathematically with a normal distribution (the t-distribution) but this sampling distributions is a wee bit skewed! This is actually a good reason WHY simulation-based methods like randomization are emphasized in modern data science -- sometimes the mathematical models aren't very good models. (The sampling distribution looks real crazy if you leave the outlier in!)\n    \n</div>"
    },
    {
      "cell_type": "code",
      "execution_count": null,
      "metadata": {
        "cell_id": "59d7390e72e041b0827c2898d60f1ad0",
        "deepnote_cell_height": 774.546875,
        "deepnote_cell_type": "code",
        "deepnote_output_heights": [
          58.59375,
          444.015625
        ],
        "deepnote_to_be_reexecuted": false,
        "execution_millis": 729,
        "execution_start": 1667519991641,
        "output_cleared": false,
        "owner_user_id": "65abe037-acab-4951-bbc9-907a4ef12e8f",
        "source_hash": "a7ee00fd",
        "tags": [],
        "trusted": true
      },
      "outputs": [],
      "source": "# Complete Version\n\nsample_b1 <- b1(Income ~ Views, data = YouTubers_no_outlier)\nsdob1 <- do(1000) * b1(shuffle(Income) ~ Views, data = YouTubers_no_outlier)\n\ngf_histogram(~ b1, data = sdob1, fill = ~middle(b1, .95), bins = 50, show.legend = FALSE) %>%\n    gf_point(0 ~ sample_b1, color = \"black\", show.legend = FALSE)\n\ntally(~ (b1 > sample_b1 | b1 < -sample_b1), data = sdob1)"
    },
    {
      "cell_type": "markdown",
      "metadata": {
        "cell_id": "3b97a061cbaf43e291495fc3af69cc15",
        "deepnote_cell_height": 57.46875,
        "deepnote_cell_type": "markdown",
        "tags": []
      },
      "source": "#### 4.2 - Explore shuffled $F$s"
    },
    {
      "cell_type": "markdown",
      "metadata": {
        "cell_id": "9b4e3b4c93704e53b60fc5d97e99ff17",
        "deepnote_cell_height": 120.140625,
        "deepnote_cell_type": "markdown",
        "tags": []
      },
      "source": "- Is our sample F an \"unlikely\" sample from `shuffle()`?\n- What do you think our p-value will be?\n- What do we think about the empty model of the DGP?"
    },
    {
      "cell_type": "code",
      "execution_count": null,
      "metadata": {
        "cell_id": "2121ca1ccef64e1ea655d3c0936811d0",
        "deepnote_cell_height": 769.546875,
        "deepnote_cell_type": "code",
        "deepnote_output_heights": [
          58.59375,
          444.015625
        ],
        "deepnote_to_be_reexecuted": false,
        "execution_context_id": "c707a6e7-b0c4-46bc-b89d-401d602165b3",
        "execution_millis": 9736,
        "execution_start": 1734647315451,
        "output_cleared": false,
        "source_hash": "81b43679",
        "tags": [],
        "trusted": true
      },
      "outputs": [],
      "source": "# Complete Version\n\nsample_F <- fVal(Income ~ Views, data = YouTubers_no_outlier)\nsdoF <- do(1000) * fVal(shuffle(Income) ~ Views, data = YouTubers_no_outlier)\n\ngf_histogram(~ fVal, data = sdoF, fill = ~lower(fVal, .95), bins = 50) %>%\n    gf_point(0 ~ sample_F, color = \"black\")\n\ntally(~ fVal>sample_F, data = sdoF, format = \"proportion\")"
    },
    {
      "cell_type": "markdown",
      "metadata": {
        "cell_id": "dc6b110f09e047cba6d571aaa14b030e",
        "deepnote_cell_height": 163.125,
        "deepnote_cell_type": "markdown",
        "tags": []
      },
      "source": "<div class=\"alert alert-block alert-warning\">\n\n**Sample Response**\n\n- Our sample is \"unlikely\"; p-value should be less than 5% since the point for our sample F is in the tail; thus our sample was possibly not generated by the empty model.\n\n    \n</div>"
    },
    {
      "cell_type": "markdown",
      "metadata": {
        "cell_id": "b30b69fd5ab6486f819e09c8cd4dd466",
        "deepnote_cell_height": 53.96875,
        "deepnote_cell_type": "markdown",
        "tags": []
      },
      "source": "#### 4.3 - What does the ANOVA table say?"
    },
    {
      "cell_type": "markdown",
      "metadata": {
        "cell_id": "a5380a29caa246889d4d37755a81eb90",
        "deepnote_cell_height": 198.515625,
        "deepnote_cell_type": "markdown",
        "tags": []
      },
      "source": "The ANOVA table does not use simulation (you'll learn about the mathematical models it uses in pg. 10.4). \n\n- According to the ANOVA table, what is the probability of getting a $b_1$ or F more extreme than our sample from the empty model of the DGP (the p-value)?\n- Is this an \"unlikely\" sample to be generated from the empty model of the DGP? \n- So what do we think about the empty model of the DGP?"
    },
    {
      "cell_type": "code",
      "execution_count": null,
      "metadata": {
        "cell_id": "a3f4ffe90e1641b7a99c0555f687ce5d",
        "deepnote_cell_height": 301.78125,
        "deepnote_cell_type": "code",
        "deepnote_output_heights": [
          173.828125
        ],
        "deepnote_to_be_reexecuted": false,
        "execution_millis": 442,
        "execution_start": 1667520036380,
        "source_hash": "1e2241e1",
        "tags": [],
        "trusted": true
      },
      "outputs": [],
      "source": "# Complete Version\nmodel <- lm(Income ~ Views, data = YouTubers_no_outlier)\nsupernova(model)"
    },
    {
      "cell_type": "markdown",
      "metadata": {
        "cell_id": "049db84a780e4f90a8c63cf8869d75f8",
        "deepnote_cell_height": 208.109375,
        "deepnote_cell_type": "markdown",
        "tags": []
      },
      "source": "<div class=\"alert alert-block alert-warning\">\n\n**Sample Response**\n\nThe probability of getting a $b_1$ or $F$ equal to or more extreme than our sample from the empty model of the DGP (i.e., the p-value) is .006. This is an unlikely sample to be generated from the empty model. This means we may opt to rule it out as the true model of the DGP, in favor of our explanatory model.\n    \n</div>"
    },
    {
      "cell_type": "markdown",
      "metadata": {
        "cell_id": "a46e93f0f4e84afea10f872d69c9890e",
        "deepnote_cell_height": 147.34375,
        "deepnote_cell_type": "markdown",
        "tags": []
      },
      "source": "#### 4.5 - What's in common?\n\nAcross all these approaches (the sampling distribution of F and $b_1$; using `shuffle()` or the ANOVA table), what do they say about the empty model of the DGP?\n\nWhat does this mean for your hypothesis?"
    },
    {
      "cell_type": "markdown",
      "metadata": {
        "cell_id": "4dea6fb814d144198d11375dcd83011e",
        "deepnote_cell_height": 244.296875,
        "deepnote_cell_type": "markdown",
        "tags": []
      },
      "source": "<div class=\"alert alert-block alert-warning\">\n\n**Sample Response**\n\nThey are all ways of showing us the distribution of samples we would expect if the empty model were true (i.e., the DGP is a random one), and how likely we are to observe a sample like our data.\n\nIf the probability is low, it means our hypothesis may be correct (e.g., views really does explain income).\n    \n</div>"
    },
    {
      "cell_type": "markdown",
      "metadata": {
        "cell_id": "7a3ec36302524720b5d89ad19f4169ec",
        "deepnote_cell_height": 115.9375,
        "deepnote_cell_type": "markdown",
        "tags": []
      },
      "source": "<div class=\"alert alert-block alert-success\">\n\n### 5.0 - Approximate Time: 5-8 mins\n    \n</div>"
    },
    {
      "cell_type": "markdown",
      "metadata": {
        "cell_id": "425ae88dd4244141b0c558fa16ddaf54",
        "deepnote_cell_height": 69.96875,
        "deepnote_cell_type": "markdown",
        "tags": []
      },
      "source": "## 5.0 - Generalizing These Results"
    },
    {
      "cell_type": "markdown",
      "metadata": {
        "cell_id": "71963fead8ae4bd9a8c03955601ec17c",
        "deepnote_cell_height": 52.359375,
        "deepnote_cell_type": "markdown",
        "tags": []
      },
      "source": "5.1 - Do you think your conclusion is true for most YouTubers? Why or why not?"
    },
    {
      "cell_type": "markdown",
      "metadata": {
        "cell_id": "3462e38709854007b09243ce58d2df9b",
        "deepnote_cell_height": 163.125,
        "deepnote_cell_type": "markdown",
        "tags": []
      },
      "source": "<div class=\"alert alert-block alert-warning\">\n\n**Sample Response**\n\n*Answers will vary based on the hypothesis they pursued, but they should reference the measurement error involved in this sample, making it difficult to generalize to all YouTubers.* \n    \n</div>"
    },
    {
      "cell_type": "markdown",
      "metadata": {
        "cell_id": "f8cba0ddeabb4d82af668854690160a8",
        "deepnote_cell_height": 139.734375,
        "deepnote_cell_type": "markdown",
        "tags": []
      },
      "source": "5.2 - Based on our class' analyses today, would you have any advice for people who want to become content creators/influencers? "
    },
    {
      "cell_type": "markdown",
      "metadata": {
        "cell_id": "98da8a2503004077b7de18e22eb0d830",
        "deepnote_cell_height": 140.71875,
        "deepnote_cell_type": "markdown",
        "tags": []
      },
      "source": "<div class=\"alert alert-block alert-warning\">\n\n**Sample Response**\n\n*Answers will vary.*\n    \n</div>"
    }
  ],
  "metadata": {
    "deepnote_notebook_id": "ad9d20eb39504b638f3b989f5964e929",
    "kernelspec": {
      "display_name": "R",
      "language": "R",
      "name": "ir"
    },
    "language_info": {
      "codemirror_mode": "r",
      "file_extension": ".r",
      "mimetype": "text/x-r-source",
      "name": "R",
      "pygments_lexer": "r",
      "version": "4.3.3"
    },
    "nbsimplegrader": {
      "publish_config": {
        "classes": [],
        "options": [],
        "tools": []
      }
    }
  },
  "nbformat": 4,
  "nbformat_minor": 1
}