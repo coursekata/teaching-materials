{
  "cells": [
    {
      "cell_type": "markdown",
      "metadata": {
        "cell_id": "c4f6c552a9924d14bd17852aa662e679",
        "deepnote_cell_type": "markdown"
      },
      "source": "# Understanding How Randomness Can Generate Patterns of Data (COMPLETE)\n\n## Chapter 4.10-4.13 Overview Notebook"
    },
    {
      "cell_type": "code",
      "execution_count": null,
      "metadata": {
        "cell_id": "2f10225d68b1452e8f2f168c510e1d5c",
        "deepnote_cell_type": "code",
        "trusted": true
      },
      "outputs": [],
      "source": "# run this to set up the notebook\nlibrary(coursekata)\n\n# read in small and large version of data\nset.seed(10)\nstroop6 <- read.csv(\"https://docs.google.com/spreadsheets/d/e/2PACX-1vSHzwppRht6ukb9_6-r7_xcCXKhe5OMYH9Oj-ORyEa5sbI-zsrBIvUHXsyEpe4-qmMQZIS6wk6G_GEO/pub?gid=333713556&single=true&output=csv\")\nstroop50 <- sample(read.csv(\"https://docs.google.com/spreadsheets/d/e/2PACX-1vRMQaRUJQLA3NSwtetd-4IJWCJf4MwyxQtfyS2giAwHoYTuH-e9lRlLGg6lrO6xRt4TQQ9SozWNr5Mz/pub?output=csv\"), 50)[, c(1,4,2,3)]\n\n# set styles\ncss <- suppressWarnings(readLines(\"https://raw.githubusercontent.com/jimstigler/jupyter/master/ck_jupyter_styles_v2.css\"))\nIRdisplay::display_html(sprintf('<style>%s</style>', paste(css, collapse = \"\\n\")))"
    },
    {
      "cell_type": "markdown",
      "metadata": {
        "cell_id": "d10b839dac104515bf41f1e3f92e50ce",
        "deepnote_cell_type": "markdown"
      },
      "source": "<div class=\"teacher-note\">\n<b>Section Goals:</b> In this final section, students return to the idea that randomness can be a Data Generating Process that affects what we see in data, even when the data comes from a random assignment experiment; and they begin to explore the idea that simulations with R can help us to assess the possible role that randomness might play in understanding what we see in a plot. Students also will dig deeper into the concept of explaining variation, and will begin to understand that even if a variable explains variation in an outcome variable, it does not necessarily cause that variation. \n\n- Students will also be exposed to the idea that research design, and random assignment experiments in particular, can help to differentiate associations between variables that are causal from those that are not.\n- Students will use the shuffle() function in R to look at how shuffling which rows are assigned to which groups can produce different patterns of results in an experiment\n- Students will begin to develop intuitions about what the range of possible random results looks like, and how to use those intuitions to identify results that appear to lie outside the range of random results.\n\n\n    </ul>\n    A <a href=\"https://docs.google.com/document/d/1twA8VaCZldvymjSWsDn_7EvkVEdaqqG4J3jmqF0vSvo/edit?tab=t.5y2a0ykmi2fk\" target=\"_blank\">printable student guided-notes worksheet</a> is available to go with this Jupyter notebook, as well as a student version of this notebook.\n</div>"
    },
    {
      "cell_type": "markdown",
      "metadata": {
        "cell_id": "1dd402d6162249b2bb13d14fba101ca1",
        "deepnote_cell_type": "markdown"
      },
      "source": "## 1 Explaining Variation vs. Causing Variation\n\nWe’ve been thinking about how one variable can *explain variation* in another. We've defined explain informally to mean: if knowing an observation's score on one variable helps you make a better guess about it's score on a second variable, we can say that variable 1 *explains* some of the variation in variable 2. \n\nBut just because a variable *explains* some of the variation in an outcome variable, it doesn't mean that it *causes* the variation in the outcome variable. \n\nHere's an example to illustrate the distinction:\n#### Example 1: In months where cities have a higher number of **ice cream sales**, they also have a higher number of **drownings**. \n\nHere's the word equation to represent this relationship:\n\n**drownings = ice cream sales + other stuff**\n"
    },
    {
      "cell_type": "markdown",
      "metadata": {
        "cell_id": "c9ecd6d63349476fa81095aa76cddedc",
        "deepnote_cell_type": "markdown"
      },
      "source": "<div class=\"guided-notes\">\n\n### 1.1 We’ve filled in the word equation. In the second column, write Y/N/Maybe: does this ice cream sales *explain variation* in drownings? In the third column, write Y/N/Maybe: does ice cream sales *cause* drownings?\n\n</div>\n"
    },
    {
      "cell_type": "markdown",
      "metadata": {
        "cell_id": "6b9bd07666824e54a0722b18c855de27",
        "deepnote_cell_type": "markdown"
      },
      "source": "<div class=\"discussion-question\">\n    <h3>1.2 Key Discussion Question: Do you think ice cream sales <i>cause</i> drownings? (Should we ban ice cream sales in an effort to curb drownings?) Can you think of a reason why ice cream sales might <i>explain</i> some of the variation in drownings?</h3>\n</div>"
    },
    {
      "cell_type": "markdown",
      "metadata": {
        "cell_id": "b21f9c6efb9542bca1b87c32f1099b08",
        "deepnote_cell_type": "markdown"
      },
      "source": "<div class=\"teacher-note\">\n\n<b>Teacher Note:</b> At this point, we want students to recognize that there's nothing <i>per se</i> about people buying ice cream that would cause people to drown. (Although some students might say, \"That's why you shouldn't eat ice cream before you go into the pool!\")\n    \nHelp them generate the idea that a third variable, like hot weather or summer time, could lead to both more ice cream sales and more people swimming (which increases the risk of drowning). For now, just get them to entertain the idea of a third variable explaining the association. Later, we’ll refer to this kind of variable more formally as a <i>lurking variable</i> or <i>confound</i>.\n\n</div>\n"
    },
    {
      "cell_type": "markdown",
      "metadata": {
        "cell_id": "c18d99fa845e4cbcbd7af93a66802428",
        "deepnote_cell_type": "markdown"
      },
      "source": "### 1.3 Some more examples\n\nLet's look at some more examples of patterns found in data. In each example below, consider: does the explanatory variable *explain* variation in an outcome variable? Is the relationship merely *explanatory*, or is it *causal*?\n\n#### Example 2: Kids who wear bigger shoes tend to score higher on math tests. \n\n- Does shoe size cause higher math ability? (Would giving first graders bigger shoes make them better at math?)\n    \n#### Example 3: Public health officials track flu virus particles in sewage to predict how many flu hospitalizations they will see the next week. \n\n- Does virus concentration in sewage cause hospitalizations? (If we zapped all the virus particles from sewage, would flu hospitalizations decrease?)\n    \n#### Example 4: Students who spend a lot of time alone tend to have more anxiety.\n\n- Does alone time cause anxiety? (If students spent less time alone, would they have less anxiety?)"
    },
    {
      "cell_type": "markdown",
      "metadata": {
        "cell_id": "808148ff42f545659ba86149933bb634",
        "deepnote_cell_type": "markdown"
      },
      "source": "<div class=\"guided-notes\">\n    \n### 1.4 For each example, fill out the first three columns of the table in the guided notes (word equation, explains variation?, cause variation?).\n\n</div>"
    },
    {
      "cell_type": "markdown",
      "metadata": {
        "cell_id": "6cde7671b81d4ce38951b1997f4a466d",
        "deepnote_cell_type": "markdown"
      },
      "source": "<div class=\"discussion-question\">\n    \n### 1.5 *Key Discussion Question:* How is <i>explaining variation</i> different from  <i>causing variation</i>?\n    \n</div>"
    },
    {
      "cell_type": "markdown",
      "metadata": {
        "cell_id": "b74716742efe4367b7cc25a70ec0c7d9",
        "deepnote_cell_type": "markdown"
      },
      "source": "### 1.6 Challenges to inferring causality\n\nJust because one variable *explains variation* in another doesn’t mean that the variable *causes variation* in the other. There are two other reasons one variable might *explain* variation in an outcome but not *cause* the variation:\n\n1. **Directionality:** Maybe the outcome variable *causes* variation in the explanatory variable rather than the other way around. While the explanatory variable *explains* variation in the outcome, it does not cause it. \n2. **Confounding:** There may be a third variable - called a *confound* or *lurking variable* - that causes variation in *both* the explanatory and outcome variables. The two variables appear related, but only because they share a common cause."
    },
    {
      "cell_type": "markdown",
      "metadata": {
        "cell_id": "00615c41d9c946cd8d569fe3138a5d00",
        "deepnote_cell_type": "markdown"
      },
      "source": "<img src=\"https://coursekata-course-assets.s3.us-west-1.amazonaws.com/UCLATALL/czi-stats-course/4.10-4.13-directionality-confounding.jpg\" alt=\"causes variation, directionality, confounding\">"
    },
    {
      "cell_type": "markdown",
      "metadata": {
        "cell_id": "bde977411a104e54b3de402c6895f14e",
        "deepnote_cell_type": "markdown"
      },
      "source": "\n\n<div class=\"guided-notes\">\n    \n### 1.7 For each example in the table, fill in the *Possible Confound* column.\nThere is a relationship between the two variables *in the data.* If the explanatory variable doesn't *cause* the relationship, what might be the source of the relationship? Propose a possible confounding variable that might explain the relationship.\n\n</div>"
    },
    {
      "cell_type": "markdown",
      "metadata": {
        "cell_id": "15d8286e1bea4d95a9e954a11b8e8155",
        "deepnote_cell_type": "markdown"
      },
      "source": "## 2 Using Experiments to Overcome Directionality and Confounding\n\nIf we want to know whether one variable *causes* changes in another, we can't just observe the relationship in the world (this is known as a *correlational* research design). We must, instead, intervene in the world, *create* variation in the explanatory variable, and then observe the outcome. In short, we must use an *experimental* research design.\n\nOne way to do this is by randomly assigning research units (e.g., people, mice, cities, etc.) to different values of the explanatory variable (often referred to as different *conditions*). Random assignment creates groups that are comparable—even if individuals are very different. Any differences between groups at the point of random assignment are due only to chance. Then, if we intervene in some way with one of the groups, we have stronger evidence that any subsequent difference on the outcome variable was caused by the explanatory variable."
    },
    {
      "cell_type": "markdown",
      "metadata": {
        "cell_id": "8f9bea9d674d460cb1157ff21533c68f",
        "deepnote_cell_type": "markdown"
      },
      "source": "<div class=\"teacher-note\">\n    \n<b>Teacher Note:</b> The next section of the notebook is based on the Stroop Task data that we analyzed in the 4.3-4.5 Overview Notebook. If your students remember that, you could delete the next few cells that describe the task and the data.\n    \n</div>"
    },
    {
      "cell_type": "markdown",
      "metadata": {
        "cell_id": "3829d40212bf48bca376b7874f978c53",
        "deepnote_cell_type": "markdown"
      },
      "source": "### 2.1 Review: The Stroop Task\n\nIn a previous notebook, we analyzed data from the Stroop Task—a classic psychology experiment used to study how conflicting information affects thinking.\n\n**What’s the task?** You're shown a list of color words and asked to name the font color of each word as quickly as possible—not read the word itself. Sounds simple, right?\n\n<br> <span style=\"color: red; font-size: 32px;\"> RED&nbsp;&nbsp;&nbsp;BLUE </span> <br><br>\n\nFor the example above, you should say, \"Red, red\"—naming the font color, not the word.\n\nIn our data, students were randomly assigned to one of two lists:\n- **Congruent:** Word and font color match (e.g., \"RED\" in red)\n- **Incongruent:** Word and font color mismatch (e.g., \"RED\" in green)\n\n<table>\n  <tr>\n    <th style=\"text-align: center; border: 1px solid black;\">Congruent Words</th>\n    <th style=\"text-align: center; border: 1px solid black;\">Incongruent Words</th>\n  </tr>\n  <tr>\n    <td style=\"text-align: center; border: 1px solid black;\">\n      <img src=\"https://coursekata-course-assets.s3.us-west-1.amazonaws.com/UCLATALL/czi-stats-course/jnb_overview_3.1-3.4_stroop_congruent.jpg\">\n    </td>\n    <td style=\"text-align: center; border: 1px solid black;\">\n      <img src=\"https://coursekata-course-assets.s3.us-west-1.amazonaws.com/UCLATALL/czi-stats-course/jnb_overview_3.1-3.4_stroop_incongruent.jpg\">\n    </td>\n  </tr>\n</table>\n\n\nWe measured how long it took each student to read their list (time_sec) and compared the average times by list_type (congruent vs. incongruent).\n\n#### Research question: Does incongruence (the list_type) cause people to be slower at naming font colors? \n\n"
    },
    {
      "cell_type": "markdown",
      "metadata": {
        "cell_id": "4bd930aa03af4c8d9c5306fd9a1f603e",
        "deepnote_cell_type": "markdown"
      },
      "source": "<div class=\"discussion-question\">\n\n### 2.2 Key Discussion Question: Students were randomly assigned to read either the congruent or incongruent list. Before they even start reading, should we expect the two groups to be different in things like reading speed, motivation, or attention span? Why or why not?\n\n</div>"
    },
    {
      "cell_type": "markdown",
      "metadata": {
        "cell_id": "ec478cc312d14c168c976579d333c79e",
        "deepnote_cell_type": "markdown"
      },
      "source": "<div class=\"teacher-note\">\n\n<b>Teacher Note:</b>  \n\nStudents may recognize that people vary in reading speed, motivation, or attention—and they’re right. The key idea is that **random assignment** helps ensure these kinds of differences are **evenly distributed across groups**.  \n\nThe image below illustrates this: a few students in each group are marked as naturally fast readers. Because group assignment was random, we expect similar mixes of fast readers in both groups. That’s what allows us to attribute differences in reading time to the list type—not to pre-existing differences between students.\n\n</div>"
    },
    {
      "cell_type": "markdown",
      "metadata": {
        "cell_id": "03e49557851145239f6092b00f814ba8",
        "deepnote_cell_type": "markdown"
      },
      "source": "<img src=\"https://coursekata-course-assets.s3.us-west-1.amazonaws.com/UCLATALL/czi-stats-course/4.10-4.13-random-assignment.jpg\" width=80%>"
    },
    {
      "cell_type": "markdown",
      "metadata": {
        "cell_id": "9b010eefbf844f85be437474c626b697",
        "deepnote_cell_type": "markdown"
      },
      "source": "<div class=\"discussion-question\">\n    \n### 2.3 Key Discussion Question: If there is a difference in `time_sec` across the two list types, can we assume that list type caused the difference in reading times? Why or why not?\n    \n</div>"
    },
    {
      "cell_type": "markdown",
      "metadata": {
        "cell_id": "35fe4546363c4cf1b4a6b61ae3916423",
        "deepnote_cell_type": "markdown"
      },
      "source": "<div class=\"teacher-note\">\n\n**Sample Responses:** \n    \n- Experiments rule out confounding because pre-existing differences (like reading speed or attention) are distributed randomly across both groups.\n- Experiments rule out directionality issue because variation in list type is assigned *before* the outcome (reading time) was measured; reading time could not have *caused* students to be assigned to one group or the other.\n- Some students might recognize that randomly assigning people to 2 groups might *accidentally* produce differences between the two groups! That's a sophisticated idea, which you could follow up by asking, \"How big do you think the *accidental* difference could be?\" This is a question we will take up below.\n  \n</div>"
    },
    {
      "cell_type": "markdown",
      "metadata": {
        "cell_id": "107545aadd6040b1bde37a1a301bcb3c",
        "deepnote_cell_type": "markdown"
      },
      "source": "<div class=\"guided-notes\">\n    \n### 2.4 Write It Down: Why are experiments so powerful?\n    \nWrite down a summary of our discussion in your own words. What is accomplished by randomly assigning students to different list types?\n\n</div>"
    },
    {
      "cell_type": "markdown",
      "metadata": {
        "cell_id": "9c648c08e9804dfebcfa4af6d411fc75",
        "deepnote_cell_type": "markdown"
      },
      "source": "## 3 Inferring Causality in Random-Assignment Experiments \n\nRandom assignment is great! But even with random assignment, some differences can happen just by chance.\n\nTo understand this, imagine a counterfactual: **What if all students had read the same list?** We would still expect small differences in average reading time across the two randomly assigned groups—just because of random variation. One group might, by luck, be a little faster. (Maybe a few more faster readers got assigned to that group.)\n\nSo when we see a difference between the groups (e.g., congruent group is faster than incongruent group), there are three possible explanations for this difference:\n\n1. **It was caused by the explanatory variable:** The explanatory variable actually causes the outcome to be different.\n2. **It was caused by random sampling variation:** – The difference happened just by chance.\n3. **It was caused by a combination of explanatory variable and randomness.**\n"
    },
    {
      "cell_type": "markdown",
      "metadata": {
        "cell_id": "a3f3ea09a6e54fe6ab0fe0f2c7d95a80",
        "deepnote_cell_type": "markdown"
      },
      "source": "### 3.1 Write code to take a look at the `stroop6` data frame. Is one group reading faster than the other?\n\nThe `stroop6` data frame contains data from 6 students, 3 in each condition. In the code cell below, write code to see what's in the data frame."
    },
    {
      "cell_type": "code",
      "execution_count": null,
      "metadata": {
        "cell_id": "485726a8207d4284988f7008c2c62a33",
        "deepnote_cell_type": "code",
        "trusted": true
      },
      "outputs": [],
      "source": "# look at the contents of stroop6\n\n#sample code\nstroop6 "
    },
    {
      "cell_type": "markdown",
      "metadata": {
        "cell_id": "50fe9b0486674d30afd3d793c805d413",
        "deepnote_cell_type": "markdown"
      },
      "source": "<div class=\"guided-notes\">\n\n### 3.2 What are three possible reasons we might see a difference in average reading time between the congruent and incongruent groups in this data?\n\n</div>"
    },
    {
      "cell_type": "markdown",
      "metadata": {
        "cell_id": "c4e8d9970e4b4738ac7cab2685e0bcb2",
        "deepnote_cell_type": "markdown"
      },
      "source": "<div class=\"teacher-note\">\n    \n<b>Teacher Note:</b> You want student to just apply here what they've learned above about interpreting this situation with the possibility that list_type might have had an effect, it might be due to randomness, or both!\n    \n</div>"
    },
    {
      "cell_type": "markdown",
      "metadata": {
        "cell_id": "2c5c1dfc55a94f80872771088f96c838",
        "deepnote_cell_type": "markdown"
      },
      "source": "\n## 4 Using `shuffle()` to ask: How big could the difference be and still be caused by chance alone?\n\nIn `stroop6`, we observed that students in the congruent group read faster than those in the incongruent group. We know this might have been because list type caused this difference and it might be because of random chance. \n\nBy shuffling pieces of data and with the `shuffle()` function in R, we can simulate what kinds of differences we'd expect to see if list type had no effect at all and any differences were just due to chance.\n\n#### This lets us ask: How big could the difference be, just by chance?\n\nIf our observed difference is bigger than most of the differences we see by chance, that’s evidence that list type might also matter."
    },
    {
      "cell_type": "markdown",
      "metadata": {
        "cell_id": "c67e51597f4f4043ba7633be7bc56981",
        "deepnote_cell_type": "markdown"
      },
      "source": "### 4.1 Shuffle: Hands-On Activity\n\nLet's start with the small `stroop6` data frame. Download and [print out your own copies here](https://docs.google.com/document/d/1E2OZbwwZmJdsHdaW7A6dCBwwJH5rhW9QLCG_2eHGJio/edit?usp=sharing).\n\n<img src=\"https://coursekata-course-assets.s3.us-west-1.amazonaws.com/UCLATALL/czi-stats-course/jnb-4.10-4.13-shuffle-v2.png\" width=60%>\n\nWe’re going to shuffle the outcome variable (`time_sec`). If we shuffle `time_sec`, each specific value will now be randomly put into a `list_type` group. \n\n#### Why are we doing this?\n\nThis is not the same as random assignment. Instead this is going to help us see what kinds of group differences might appear just by randomness alone!\n\n**Step 1:** Get a [printed version of the dataset](https://docs.google.com/document/d/1E2OZbwwZmJdsHdaW7A6dCBwwJH5rhW9QLCG_2eHGJio/edit?usp=sharing) and some scissors.\n\n**Step 2:** Cut out the right-hand column (shaded gray), which is an extra copy of all the `time_sec` values. Then cut out each individual value.\n\n**Step 3:** Shuffle the values and assign them randomly back into the data frame, placing each value in the `time_sec_shuffled` column. "
    },
    {
      "cell_type": "markdown",
      "metadata": {
        "cell_id": "d2f38f3c7a824958a61d8edaac4cd95d",
        "deepnote_cell_type": "markdown"
      },
      "source": "<div class=\"discussion-question\">\n\n### 4.2 What happens when we shuffle?\n    \n- Did anyone’s shuffled groups end up with the `congruent` group reading faster than the `incongruent`? Did anyone see the opposite pattern (`incongruent` faster than `congruent`)?\n- If you did find that `congruent` times were faster than `incongruent`, why do you think this is?\n- If we repeated this random process many times, what do you think the typical difference between groups would look like?\n- How large of a difference between the two groups do you think could be created just by a purely random process (like shuffle)?\n    \n</div>\n"
    },
    {
      "cell_type": "markdown",
      "metadata": {
        "cell_id": "8f66a79b6bd6492fb5dba0c3016c65eb",
        "deepnote_cell_type": "markdown"
      },
      "source": "<div class=\"teacher-note\">\n    \n<b>Teacher Note:</b> The second question in the list above always proves challenging for students. Even though they shuffled the values, if the result is as expected (i.e., congruent faster than incongruent) students will be sure that list type *caused* the difference, even though this is impossible. The last question is one we will answer in the next section using the R shuffle function.\n    \n</div>"
    },
    {
      "cell_type": "markdown",
      "metadata": {
        "cell_id": "c9f81481c16f499cbaa6ff455fad3f4e",
        "deepnote_cell_type": "markdown"
      },
      "source": "### 4.3 Using R to simulate random shuffles\n\nIn our paper activity, we saw that randomly shuffling `time_sec` could lead to a variety of outcomes, all explainable just by chance. In some cases, congruent times were faster, in others, incngruent times were faster. Let's now simulate this process in R.\n\nWe will first `shuffle()` the values of `time_sec` (`stroop6$time_sec`), and then save the shuffled values as a new column in the data frame (`time_sec_shuffled`)."
    },
    {
      "cell_type": "markdown",
      "metadata": {
        "cell_id": "b22c6daab0b64b168a73590eb233c1aa",
        "deepnote_cell_type": "markdown"
      },
      "source": "<div class=\"teacher-note\">\n\n**Teacher Note:** Build up the code in this order:    \n\n1. `shuffle(stroop6$time_sec)` – Run this multiple times to show that each time, it prints the 6 values in a different order.\n2. `time_sec_shuffled <- shuffle(stroop6$time_sec)` – Show how we can store the shuffled values in a variable.\n3. `stroop6$shuff_time_sec <- time_sec_shuffled` – Finally, add this variable to stroop6 so we can compare it to the original.\n4. add another line of code `stroop6` - Show the whole data frame.\n\n</div>"
    },
    {
      "cell_type": "code",
      "execution_count": null,
      "metadata": {
        "cell_id": "53d9605a96f8478ea19da355a1e73c7b",
        "deepnote_cell_type": "code",
        "nbsimplegrader": {
          "config_key": "code.response",
          "editable": true,
          "label": "Response: Code",
          "respondable": true,
          "response": null,
          "runnable": true,
          "type": "code"
        },
        "scrolled": true,
        "trusted": true
      },
      "outputs": [],
      "source": "# build up the code here\n\n# sample code\nstroop6$time_sec_shuffled <- shuffle(stroop6$time_sec)\n\n# print out the resulting stroop6\nstroop6"
    },
    {
      "cell_type": "markdown",
      "metadata": {
        "cell_id": "f3a34554be774d4fb9ec41c63fd32e5e",
        "deepnote_cell_type": "markdown"
      },
      "source": "<div class=\"discussion-question\">\n\n### 4.4 Discussion Questions: What happens each time we run this code?\n    \n- Does it replicate what you did with paper?\n- What changes each time you run it? \n- What stays the same?\n    \n</div>\n"
    },
    {
      "cell_type": "markdown",
      "metadata": {
        "cell_id": "6437110d29884470af945b3a40a3666e",
        "deepnote_cell_type": "markdown"
      },
      "source": "<div class=\"guided-notes\">\n\n### 4.5 Scaling up: Write R code to simulate a random data generating process with <code>stroop50</code>\n\nNow that we've shuffled `time_sec` in a small dataset, let's apply the same idea to our full dataset. Modify the code below so that it shuffles `time_sec` for all 50 rows in `stroop50`.\n    \n`stroop6$time_sec_shuffled <- shuffle(stroop6$time_sec)`\n    \n</div>"
    },
    {
      "cell_type": "code",
      "execution_count": null,
      "metadata": {
        "cell_id": "f2512e0c7a5941beaa437330d11e57b3",
        "deepnote_cell_type": "code",
        "nbsimplegrader": {
          "config_key": "code.response",
          "editable": true,
          "label": "Response: Code",
          "respondable": true,
          "response": null,
          "runnable": true,
          "type": "code"
        },
        "trusted": true
      },
      "outputs": [],
      "source": "# write code here\n\n# sample code\nstroop50$time_sec_shuffled <- shuffle(stroop50$time_sec)\n\n# print out stroop50\nstroop50\n\n# run this a few times; what happens each time?"
    },
    {
      "cell_type": "markdown",
      "metadata": {
        "cell_id": "28927b0d561940e29a58d29340762541",
        "deepnote_cell_type": "markdown"
      },
      "source": "## 5 Visualizing the Original vs. Shuffled Data in a Jitter Plot\n\nWe have shuffled all 50 rows, but it’s hard to tell just by looking at the data frame whether one group is generally faster or slower. Instead of scanning numbers, let’s visualize the data with a jitter plot. We will start with visualizing the original data, then visualize the shuffled data, and then compare the two."
    },
    {
      "cell_type": "markdown",
      "metadata": {
        "cell_id": "87864e5dd5314fd4aeaa9dc3589e2ca4",
        "deepnote_cell_type": "markdown"
      },
      "source": "<div class=\"guided-notes\">\n    \n### 5.1 Write the hypothesis that `list_type` would explain variation in `time_sec` as a word equation\n</div>"
    },
    {
      "cell_type": "markdown",
      "metadata": {
        "cell_id": "c6785bad4a484984aaed1b183663de8a",
        "deepnote_cell_type": "markdown"
      },
      "source": "<div class=\"guided-notes\">\n    \n### 5.2 Write R code to make a jitter plot to explore the hypothesis in the `stroop50` data frame\n\n</div>"
    },
    {
      "cell_type": "code",
      "execution_count": null,
      "metadata": {
        "cell_id": "6d3f80fb3e444403a2b0798c43a26d3b",
        "deepnote_cell_type": "code",
        "nbsimplegrader": {
          "config_key": "code.response",
          "editable": true,
          "label": "Response: Code",
          "respondable": true,
          "response": null,
          "runnable": true,
          "type": "code"
        },
        "trusted": true
      },
      "outputs": [],
      "source": "# write code\ngf_jitter(time_sec ~ list_type, data = stroop50, width = .1, height = 0)"
    },
    {
      "cell_type": "markdown",
      "metadata": {
        "cell_id": "e411d1effe4d46548d38aa733d9f141c",
        "deepnote_cell_type": "markdown"
      },
      "source": "<div class=\"discussion-question\">\n\n### 5.3 Does the jitter plot support the hypothesis?\n    \n</div>\n"
    },
    {
      "cell_type": "markdown",
      "metadata": {
        "cell_id": "0132ad376664491d8bd2a067f356ca46",
        "deepnote_cell_type": "markdown"
      },
      "source": "### 5.4 Now let's make a jitter plot of the shuffled data.\n    \nThere are two ways of doing this. We can use the saved shuffled variable (`time_sec_shuffled`). But we also could use a shortcut. Look at both methods in the cell below."
    },
    {
      "cell_type": "markdown",
      "metadata": {
        "cell_id": "c76f4c86256844b8aad4d1e4c0435289",
        "deepnote_cell_type": "markdown"
      },
      "source": "<div class=\"teacher-note\">\n    \n<b>Teacher Note:</b> First use the saved variable; then show students how to use the shortcut. Once students understand the shortcut, continue using it. \n    \n</div>"
    },
    {
      "cell_type": "code",
      "execution_count": null,
      "metadata": {
        "cell_id": "c2463fa08fe14f9c9580291cfe2c6804",
        "deepnote_cell_type": "code",
        "nbsimplegrader": {
          "config_key": "code.response",
          "editable": true,
          "label": "Response: Code",
          "respondable": true,
          "response": null,
          "runnable": true,
          "type": "code"
        },
        "scrolled": false,
        "trusted": true
      },
      "outputs": [],
      "source": "# using saved variable\nstroop50$time_sec_shuffled <- shuffle(stroop50$time_sec)\ngf_jitter(time_sec_shuffled ~ list_type, data = stroop50, width = .1, height = 0)\n\n# shortcut\ngf_jitter(shuffle(time_sec) ~ list_type, data = stroop50, width = .1, height = 0)"
    },
    {
      "cell_type": "markdown",
      "metadata": {
        "cell_id": "be73db6f82a44b1ea90d6948b9563287",
        "deepnote_cell_type": "markdown"
      },
      "source": "<div class=\"guided-notes\">\n    \n### 5.5 Write R code to make a jitter plot with the shuffled data.\n\n</div>"
    },
    {
      "cell_type": "markdown",
      "metadata": {
        "cell_id": "6c12daeb96c6481580949173424d63e2",
        "deepnote_cell_type": "markdown"
      },
      "source": "<div class=\"discussion-question\">\n\n### 5.6 Key Discussion Question: What do you notice about the jitter plot after each time you run the shuffle?\n    \n</div>\n"
    },
    {
      "cell_type": "code",
      "execution_count": null,
      "metadata": {
        "cell_id": "bda675f892044f9cb15e1d156592c025",
        "deepnote_cell_type": "code",
        "trusted": true
      },
      "outputs": [],
      "source": "# run this code to create a shuffled jitter plot\ngf_jitter(shuffle(time_sec) ~ list_type, data = stroop50, width = .1, height = 0)"
    },
    {
      "cell_type": "markdown",
      "metadata": {
        "cell_id": "d8a9a1277b824ba6a5d98947ef2b004b",
        "deepnote_cell_type": "markdown"
      },
      "source": "<div class=\"teacher-note\">\n    \n<b>Teacher Note:</b> Run the shortcut code many times and notice how the results vary. When you happen to get a result that shows congruent being faster than incongruent, stop and ask the students why they think it's faster. You want them to realize that it is faster because of randomness, nothing else.\n    \n</div>"
    },
    {
      "cell_type": "markdown",
      "metadata": {
        "cell_id": "e5ca419703384c328333370f45e29d85",
        "deepnote_cell_type": "markdown"
      },
      "source": "<div class=\"discussion-question\">\n\n### 5.7 Key Discussion Question: How does the actual data differ from the shuffled data? \n\n</div>\n\n<img src=\"https://coursekata-course-assets.s3.us-west-1.amazonaws.com/UCLATALL/czi-stats-course/jnb-4.10-4.13-grid-of-shuffled-jitter-plots-stroop50.jpg\">"
    },
    {
      "cell_type": "markdown",
      "metadata": {
        "cell_id": "6326bae01b2241a8ad2742e909a59213",
        "deepnote_cell_type": "markdown"
      },
      "source": "<div class=\"teacher-note\">\n\n<b>Sample responses:</b>     \n- The difference in reading times between the groups is larger in the actual data than in the shuffled versions.\n    \n    \n<b>Teacher note:</b>  \n\nWhen the real data shows a bigger difference than what we usually see from random shuffles, it suggests that list type might really matter.\n\nYou can use the jitter plots below to show that shuffled data can sometimes produce large differences—but it’s relatively rare. This helps students see that we shouldn't just be looking for any differences between groups but differences bigger than typically produced by chance.\n\n</div>\n\n\n<img src=\"https://coursekata-course-assets.s3.us-west-1.amazonaws.com/UCLATALL/czi-stats-course/jnb-4.10-4.13-grid-of-shuffled-jitter-box-plots-extreme.jpg\" alt=\"extreme runs of shuffle\">"
    },
    {
      "cell_type": "markdown",
      "metadata": {
        "cell_id": "14c6ff4497a94feeb85f5d7c813f2005",
        "deepnote_cell_type": "markdown"
      },
      "source": "<div class=\"discussion-question\">\n\n### 5.8  Could a random DGP have caused the patterns we saw in the real data?\n\n- Could a random DGP like `shuffle()` produce a result that looks like our real data?\n- Do most of the shuffled results look like our real data?\n    \n</div>"
    },
    {
      "cell_type": "markdown",
      "metadata": {
        "cell_id": "ae1b0dd6769742f58dff4719a8772533",
        "deepnote_cell_type": "markdown"
      },
      "source": "<div class=\"teacher-note\">\n    \n**Teacher Note:**\n- sample response: YES; NO\n- The goal here is for students to recognize that while it's possible for random shuffling to produce a difference between groups, a difference as strong as the one we observed in our real data is not a likely outcome.\n- Reinforce this distinction between possibility and frequency—this is a key foundation for later concepts like p-values and inference.\n- If the real data looks unusual compared to what we’d expect from a random DGP, then randomness may not be the only reason for why we see the patterns we see. We will come back to this insight after the `vision` example in 4.\n</div>"
    },
    {
      "cell_type": "markdown",
      "metadata": {
        "cell_id": "49b7535aa22946eaa420c6e91f55bcad",
        "deepnote_cell_type": "markdown"
      },
      "source": "## 6 Exploring another variable: Does `vision` explain Stroop task time?\n\nWe saw that while `shuffle()` could sometimes create patterns similar to the real `list_type` data, most of the shuffled data looked very different from the real data. This suggests that while randomness alone is a *possible* explanation, it's not a particularly good one.\n\nNow, let’s test another hypothesis: In one version of the Stroop experiment, half the students were asked to do this task with only one eye open. The others were allowed to keep both eyes open. Does `vision` (whether a person did the task with one or two eyes open) change reading speed in the Stroop task?"
    },
    {
      "cell_type": "markdown",
      "metadata": {
        "cell_id": "f02f95aa402748509283ccd1b34f6806",
        "deepnote_cell_type": "markdown"
      },
      "source": "<div class=\"guided-notes\">\n    \n### 6.1 Write this hypothesis as a word equation.\n    \n</div>"
    },
    {
      "cell_type": "code",
      "execution_count": null,
      "metadata": {
        "cell_id": "3cf3a5cee24445eaac9f3e6b9c8bc85e",
        "deepnote_cell_type": "code",
        "trusted": true
      },
      "outputs": [],
      "source": "# run this\nhead(stroop50)"
    },
    {
      "cell_type": "markdown",
      "metadata": {
        "cell_id": "919b4b1de89e4728844369627f38e6b8",
        "deepnote_cell_type": "markdown"
      },
      "source": "<div class=\"guided-notes\">\n    \n### 6.2 Write the R code to make a jitter plot to explore the hypothesis\n\n</div>"
    },
    {
      "cell_type": "code",
      "execution_count": null,
      "metadata": {
        "cell_id": "9057ccfbf0f348498f5374e890e21bd0",
        "deepnote_cell_type": "code",
        "nbsimplegrader": {
          "config_key": "code.response",
          "editable": true,
          "label": "Response: Code",
          "respondable": true,
          "response": null,
          "runnable": true,
          "type": "code"
        },
        "scrolled": false,
        "trusted": true
      },
      "outputs": [],
      "source": "# write code; if you want to get squares like the guided notes, use shape = 15\ngf_jitter(time_sec ~ vision, data = stroop50, width = .1, height = 0, shape = 15) \n\n# you may also want to show students how it looks to overlay box plots\n# this helps students see that these two distributions really are very similar\ngf_jitter(time_sec ~ vision, data = stroop50, width = .1, height = 0, shape = 15) %>%\n  gf_boxplot()"
    },
    {
      "cell_type": "markdown",
      "metadata": {
        "cell_id": "66eae50b09c042f193e980e8d803ee51",
        "deepnote_cell_type": "markdown"
      },
      "source": "<div class=\"discussion-question\">\n\n### 6.3 Does vision seem to explain variation in reading time?\n    \n</div>"
    },
    {
      "cell_type": "markdown",
      "metadata": {
        "cell_id": "fd12ff3476304d18bcceec0104916c24",
        "deepnote_cell_type": "markdown"
      },
      "source": "<div class=\"guided-notes\">\n    \n### 6.4 Write R code to make a jitter plot of shuffled data\n\n</div>"
    },
    {
      "cell_type": "code",
      "execution_count": null,
      "metadata": {
        "cell_id": "3c16c84da8c442739a8d86da06457e3b",
        "deepnote_cell_type": "code",
        "nbsimplegrader": {
          "config_key": "code.response",
          "editable": true,
          "label": "Response: Code",
          "respondable": true,
          "response": null,
          "runnable": true,
          "type": "code"
        },
        "trusted": true
      },
      "outputs": [],
      "source": "# write code\ngf_jitter(shuffle(time_sec) ~ vision, data = stroop50, width = .1, height = 0, shape = 15) "
    },
    {
      "cell_type": "markdown",
      "metadata": {
        "cell_id": "8891d9602ff447999ab36aab21acefe1",
        "deepnote_cell_type": "markdown"
      },
      "source": "<div class=\"discussion-question\">\n\n### 6.5 Key Discussion Question: What is the difference between the original and shuffled data for `vision`?\n    \nIs the difference between the original and shuffled data as strong as it was for `list_type` (original versus shuffled)?\n    \n</div>\n\n<img src=\"https://coursekata-course-assets.s3.us-west-1.amazonaws.com/UCLATALL/czi-stats-course/jnb-4.10-4.13-grid-of-shuffled-jitter-vision.jpg\" alt=\"grid of original and shuffled jitter plots\">"
    },
    {
      "cell_type": "markdown",
      "metadata": {
        "cell_id": "4728bcce22234763983a433eff0bc68a",
        "deepnote_cell_type": "markdown"
      },
      "source": "<div class=\"discussion-question\">\n\n### 6.6 Could a random DGP have caused the patterns we saw in the actual data?\n\n- Could a random DGP like `shuffle()` produce a result that looks like our real data?\n- Do most of the shuffled results look like our real data?\n\n</div>"
    },
    {
      "cell_type": "markdown",
      "metadata": {
        "cell_id": "90407ef45fdc4423aa9efac9e26595e2",
        "deepnote_cell_type": "markdown"
      },
      "source": "<div class=\"teacher-note\">\n    \n**Teacher Note:**\n- This is similar to the question in 5.8 with respect to the list_type data.\n- Sample response: YES; YES\n- The goal here is for students to recognize that it's not only possible for random shuffling to produce a difference between groups, a difference like the one we observed in our real data is very common in shuffled data.\n\n</div>"
    },
    {
      "cell_type": "markdown",
      "metadata": {
        "cell_id": "77c4959ef997442a8b2315063713cc4a",
        "deepnote_cell_type": "markdown"
      },
      "source": "## 7 Is a random data generating process responsible for our real data?\n\nWe’ve now looked at two different explanatory variables:\n\n1. `list_type` (congruent vs. incongruent): The real data looked very different from the shuffled data.\n2. `vision` (one vs. two eyes): The real data looked similar to the shuffled data."
    },
    {
      "cell_type": "markdown",
      "metadata": {
        "cell_id": "9ebe860fb8d64698b6f0b900b3215114",
        "deepnote_cell_type": "markdown"
      },
      "source": "<div class=\"guided-notes\">\n    \n### 7.1 Which real data looks like it came from a purely random DGP: list_type or vision? How does `shuffle()` help us decide whether a pattern in actual data could have been generated by randomness alone? \n    \n</div>"
    },
    {
      "cell_type": "markdown",
      "metadata": {
        "cell_id": "6d97e93012914131b18b4156bd1933cf",
        "deepnote_cell_type": "markdown"
      },
      "source": "<div class=\"teacher-note\">\n    \n**Sample responses:**\n\n- Specific to Stroop data: The vision data looks like it came from a random DGP because the real data and the shuffled data look pretty much the same. With list_type, the real data looks very different from most of the shuffled data. That makes it seem like randomness wasn't the only cause of this difference.\n- General: If the real data looks similar to the shuffled plots, then the observed pattern could have been caused by a randomness alone. If the real data looks unusual compared to shuffled plots, then maybe randomness is not enough to explain this pattern and the explanatory variable might really matter.\n- Shuffling gives us a way to see what kinds of differences we might expect just by chance. \n    \n</div>"
    }
  ],
  "metadata": {
    "deepnote_notebook_id": "67d0f0d293044a02b78fac8782113e70",
    "kernelspec": {
      "display_name": "R",
      "language": "R",
      "name": "ir"
    },
    "language_info": {
      "codemirror_mode": "r",
      "file_extension": ".r",
      "mimetype": "text/x-r-source",
      "name": "R",
      "pygments_lexer": "r",
      "version": "4.3.3"
    },
    "nbsimplegrader": {
      "publish_config": {
        "classes": [],
        "options": [],
        "tools": []
      }
    }
  },
  "nbformat": 4,
  "nbformat_minor": 1
}