{
  "cells": [
    {
      "cell_type": "markdown",
      "metadata": {
        "cell_id": "0201497061594b8ca920c309bfb03729",
        "deepnote_cell_height": 133.953125,
        "deepnote_cell_type": "markdown",
        "nbsimplegrader": {
          "config_key": "markdown.view-only",
          "editable": false,
          "label": "Markdown: View-Only",
          "respondable": false,
          "response": null,
          "runnable": false,
          "type": "markdown"
        }
      },
      "source": "# 4C: Explaining Variation in Video Games "
    },
    {
      "cell_type": "code",
      "execution_count": null,
      "metadata": {
        "cell_id": "ad4b6c3aab454f26ae72e63917e4477d",
        "deepnote_cell_type": "code",
        "deepnote_to_be_reexecuted": false,
        "execution_millis": 1655,
        "execution_start": 1629767768108,
        "nbsimplegrader": {
          "config_key": "code.run-only",
          "editable": false,
          "label": "Code: Run-Only",
          "respondable": false,
          "response": null,
          "runnable": true,
          "type": "code"
        },
        "output_cleared": false,
        "source_hash": null,
        "trusted": true
      },
      "outputs": [],
      "source": "# This code will load the R packages we will use\nsuppressPackageStartupMessages({\n    library(coursekata)\n})"
    },
    {
      "cell_type": "code",
      "execution_count": null,
      "metadata": {
        "cell_id": "3f026b040f3a461a91fa4818432482c9",
        "deepnote_cell_type": "code",
        "deepnote_to_be_reexecuted": false,
        "execution_context_id": "ee90ebdc-9c25-4c77-88dc-4b5564483030",
        "execution_millis": 1790,
        "execution_start": 1729544047170,
        "nbsimplegrader": {
          "config_key": "code.run-only",
          "editable": false,
          "label": "Code: Run-Only",
          "respondable": false,
          "response": null,
          "runnable": true,
          "type": "code"
        },
        "output_cleared": false,
        "source_hash": "3ff587af",
        "trusted": true
      },
      "outputs": [],
      "source": "# This code will import the data frame with the filtered Platform variable\n\ngamesales3platforms_csv_link <- \"https://docs.google.com/spreadsheets/d/e/2PACX-1vQoFFhkA1rGSNoPoeOUnt-Km6uZbnyUyLSUNyj6kmIszrXOZdr-SEsNNOibiZBVPxwJ2n2XiG3iKk07/pub?gid=722274646&single=true&output=csv\"\ngamesales <- read.csv(gamesales3platforms_csv_link, header = TRUE)\n"
    },
    {
      "cell_type": "markdown",
      "metadata": {
        "cell_id": "4455bbf6d32e436ab2bdea478b3ed8a0",
        "deepnote_cell_height": 170.75,
        "deepnote_cell_type": "markdown",
        "nbsimplegrader": {
          "config_key": "markdown.view-only",
          "editable": false,
          "label": "Markdown: View-Only",
          "respondable": false,
          "response": null,
          "runnable": false,
          "type": "markdown"
        }
      },
      "source": "## 1.0 - Why are some games better than others?\n\nA little while ago, we explored how critics and users rate games. Now let’s turn our attention to this question: Why are some games rated more highly than others? "
    },
    {
      "cell_type": "markdown",
      "metadata": {
        "cell_id": "a45e60eb119a49b690136e507676cfdc",
        "deepnote_cell_height": 52.359375,
        "deepnote_cell_type": "markdown",
        "nbsimplegrader": {
          "config_key": "markdown.view-only",
          "editable": false,
          "label": "Markdown: View-Only",
          "respondable": false,
          "response": null,
          "runnable": false,
          "type": "markdown"
        }
      },
      "source": "1.1 - Let’s get your first impressions. Why do you think some games are “better” than others?"
    },
    {
      "cell_type": "markdown",
      "metadata": {
        "cell_id": "ceb61ab4375344d0ad99c870dd237496",
        "deepnote_cell_height": 718.046875,
        "deepnote_cell_type": "markdown",
        "nbsimplegrader": {
          "config_key": "markdown.view-only",
          "editable": false,
          "label": "Markdown: View-Only",
          "respondable": false,
          "response": null,
          "runnable": false,
          "type": "markdown"
        }
      },
      "source": "### About the `gamesales` data \n\nWe will be using the `gamesales` data set. Because there are over 30 platform categories in this data frame, these data have been filtered to include only three platforms that were produced by popular competitors and were released around the same time (between 2005-2006): \n - PS3 (Sony, 2005)\n - Wii (Nintendo, 2006)\n - X360 (Microsoft, 2006)\n\nSince we are loading the data from a CSV, there is no documentation for the data frame. That means you can't use `gamesales` to get more information about the variables. Instead, here is a description of each of the variables:\n\n\n| Variable          | Description                                                   |\n|:------------------|:--------------------------------------------------------------|\n| `Name`            | The video game's name                                         |\n| `Platform`        | Platform of the game’s release; PS3, Wii, and X360            |\n| `Year_of_Release` | Year of the game's release                                    |\n| `Genre`           | Genre of the game                                             |\n| `Publisher`       | Publisher of the game                                         |\n| `NA_Sales`        | Sales in North America (in millions)                          |\n| `EU_Sales`        | Sales in Europe (in millions)                                 |\n| `JP_Sales`        | Sales in Japan (in millions)                                  |\n| `Other_Sales`     | Sales in the rest of the world (in millions)                  |\n| `Global_Sales`    | Total worldwide sales (in millions)                           |\n| `Critic_Score`    | Aggregate score compiled by Metacritic staff                  |\n| `Critic_Count`    | The number of critics used in coming up with the critic score |\n| `User_Score`      | Score by Metacritic's subscribers                             |\n| `User_Count`      | Number of users who gave the user score                       |\n| `Rating`          | The ESRB ratings (Entertainment Software Rating Board)        |"
    },
    {
      "cell_type": "markdown",
      "metadata": {
        "cell_id": "354f95c113694347b64ddd16127c4f32",
        "deepnote_cell_height": 169.921875,
        "deepnote_cell_type": "markdown",
        "nbsimplegrader": {
          "config_key": "markdown.view-only",
          "editable": false,
          "label": "Markdown: View-Only",
          "respondable": false,
          "response": null,
          "runnable": false,
          "type": "markdown"
        }
      },
      "source": "1.2 - Let’s consider one hypothesis as a class: \n\n> Game developers might create better games for some platforms than others. Maybe that’s why those games might then be rated more highly. \n\nLet’s call this the Platform hypothesis. Before we look at the data, what do you think about this hypothesis? Do you think it’s true? Which platform might have better or worse games? "
    },
    {
      "cell_type": "markdown",
      "metadata": {
        "cell_id": "b4a6b819296b4809a2d1d66e08910d1f",
        "deepnote_cell_height": 109.96875,
        "deepnote_cell_type": "markdown",
        "nbsimplegrader": {
          "config_key": "markdown.view-only",
          "editable": false,
          "label": "Markdown: View-Only",
          "respondable": false,
          "response": null,
          "runnable": false,
          "type": "markdown"
        }
      },
      "source": "## 2.0 - Exploring the Platform Hypothesis with Critic Scores"
    },
    {
      "cell_type": "markdown",
      "metadata": {
        "cell_id": "cd043122aea645fb961ca0149a99130e",
        "deepnote_cell_height": 97.140625,
        "deepnote_cell_type": "markdown",
        "nbsimplegrader": {
          "config_key": "markdown.view-only",
          "editable": false,
          "label": "Markdown: View-Only",
          "respondable": false,
          "response": null,
          "runnable": false,
          "type": "markdown"
        }
      },
      "source": "2.1 - If we think a game’s `Platform` can help us explain the variation we see in `Critic_Score`, how can we write this idea as a word equation? Which is the outcome and which is the explanatory variable?"
    },
    {
      "cell_type": "markdown",
      "metadata": {
        "cell_id": "6f0122dca9364a6cbcfeb610aa9989d2",
        "deepnote_cell_height": 74.75,
        "deepnote_cell_type": "markdown",
        "nbsimplegrader": {
          "config_key": "markdown.view-only",
          "editable": false,
          "label": "Markdown: View-Only",
          "respondable": false,
          "response": null,
          "runnable": false,
          "type": "markdown"
        }
      },
      "source": "2.2 - Try to create a faceted histogram to help us see whether `Platform` might be related to critics’ ratings of games."
    },
    {
      "cell_type": "markdown",
      "metadata": {
        "cell_id": "194c945c411a4caaa58661f043cb928d",
        "deepnote_cell_height": 74.75,
        "deepnote_cell_type": "markdown",
        "nbsimplegrader": {
          "config_key": "markdown.view-only",
          "editable": false,
          "label": "Markdown: View-Only",
          "respondable": false,
          "response": null,
          "runnable": false,
          "type": "markdown"
        }
      },
      "source": "2.3 - Looking at the histograms, what do you notice about these distributions? Does any `Platform` seem like it tends to have better or worse critic ratings? "
    },
    {
      "cell_type": "markdown",
      "metadata": {
        "cell_id": "47c84c509ecb4f2f9fa61edbde508ef4",
        "deepnote_cell_height": 74.75,
        "deepnote_cell_type": "markdown",
        "nbsimplegrader": {
          "config_key": "markdown.view-only",
          "editable": false,
          "label": "Markdown: View-Only",
          "respondable": false,
          "response": null,
          "runnable": false,
          "type": "markdown"
        }
      },
      "source": "2.4 - Now try using a boxplot or jitterplot to explore the same hypothesis. (Optional: Can you overlay the two?)"
    },
    {
      "cell_type": "markdown",
      "metadata": {
        "cell_id": "07c21889b7434256a29bb3983ea4a64d",
        "deepnote_cell_height": 74.75,
        "deepnote_cell_type": "markdown",
        "nbsimplegrader": {
          "config_key": "markdown.view-only",
          "editable": false,
          "label": "Markdown: View-Only",
          "respondable": false,
          "response": null,
          "runnable": false,
          "type": "markdown"
        }
      },
      "source": "2.5 - Looking at this other visualization, do you see the same pattern you saw in the histograms? What pattern do you notice?"
    },
    {
      "cell_type": "markdown",
      "metadata": {
        "cell_id": "60429934045841b385095652ad05a3f5",
        "deepnote_cell_height": 74.75,
        "deepnote_cell_type": "markdown",
        "nbsimplegrader": {
          "config_key": "markdown.view-only",
          "editable": false,
          "label": "Markdown: View-Only",
          "respondable": false,
          "response": null,
          "runnable": false,
          "type": "markdown"
        }
      },
      "source": "2.6 - Based on these visualizations, if you knew that a game was a Wii game and had to guess it’s critics rating, would you adjust your guess to be a little lower or a little higher? Why?"
    },
    {
      "cell_type": "markdown",
      "metadata": {
        "cell_id": "5fcc787bd8de48459a00b7530ea87412",
        "deepnote_cell_height": 109.96875,
        "deepnote_cell_type": "markdown",
        "nbsimplegrader": {
          "config_key": "markdown.view-only",
          "editable": false,
          "label": "Markdown: View-Only",
          "respondable": false,
          "response": null,
          "runnable": false,
          "type": "markdown"
        }
      },
      "source": "## 3.0 - Exploring the Platform Hypothesis on User Scores"
    },
    {
      "cell_type": "markdown",
      "metadata": {
        "cell_id": "6b543ba28d5d4398932f2791ce3d9b97",
        "deepnote_cell_height": 74.75,
        "deepnote_cell_type": "markdown",
        "nbsimplegrader": {
          "config_key": "markdown.view-only",
          "editable": false,
          "label": "Markdown: View-Only",
          "respondable": false,
          "response": null,
          "runnable": false,
          "type": "markdown"
        }
      },
      "source": "3.1 - As we all know, users are a little different from critics. Do you think we will see the same relationship between platform and ratings when we look at user scores? Why or why not?"
    },
    {
      "cell_type": "markdown",
      "metadata": {
        "cell_id": "82a9a83d280f4c0a97093f02e21cf9ea",
        "deepnote_cell_height": 97.140625,
        "deepnote_cell_type": "markdown",
        "nbsimplegrader": {
          "config_key": "markdown.view-only",
          "editable": false,
          "label": "Markdown: View-Only",
          "respondable": false,
          "response": null,
          "runnable": false,
          "type": "markdown"
        }
      },
      "source": "3.2 - If we think a game’s `Platform` can help us explain the variation we see in `User_Score`, how can we write this idea as a word equation? Which is the outcome and which is the explanatory variable?"
    },
    {
      "cell_type": "markdown",
      "metadata": {
        "cell_id": "4f0c3a689ef2436db520f262e0cc56fb",
        "deepnote_cell_height": 74.75,
        "deepnote_cell_type": "markdown",
        "nbsimplegrader": {
          "config_key": "markdown.view-only",
          "editable": false,
          "label": "Markdown: View-Only",
          "respondable": false,
          "response": null,
          "runnable": false,
          "type": "markdown"
        }
      },
      "source": "3.3 - Make two different visualizations (your choice!) to check out the `Platform` hypothesis on user ratings."
    },
    {
      "cell_type": "markdown",
      "metadata": {
        "cell_id": "1f4f3ad1cee9424fbdcce598385ce29e",
        "deepnote_cell_height": 74.75,
        "deepnote_cell_type": "markdown",
        "nbsimplegrader": {
          "config_key": "markdown.view-only",
          "editable": false,
          "label": "Markdown: View-Only",
          "respondable": false,
          "response": null,
          "runnable": false,
          "type": "markdown"
        }
      },
      "source": "3.4 - Looking at the visualizations, what do you notice about these distributions? Does any `Platform` seem like it tends to have better or worse user ratings? "
    },
    {
      "cell_type": "markdown",
      "metadata": {
        "cell_id": "e06240d1e5dc4ea8afe9b0de39679bc6",
        "deepnote_cell_height": 74.75,
        "deepnote_cell_type": "markdown",
        "nbsimplegrader": {
          "config_key": "markdown.view-only",
          "editable": false,
          "label": "Markdown: View-Only",
          "respondable": false,
          "response": null,
          "runnable": false,
          "type": "markdown"
        }
      },
      "source": "3.5 - If you knew that a game was a Wii game and had to guess it’s user rating, would you adjust your guess to be a little lower or a little higher? Why?"
    },
    {
      "cell_type": "markdown",
      "metadata": {
        "cell_id": "f7eb3ab0a403496184a72da98986ea7f",
        "deepnote_cell_type": "markdown",
        "nbsimplegrader": {
          "config_key": "markdown.view-only",
          "editable": false,
          "label": "Markdown: View-Only",
          "respondable": false,
          "response": null,
          "runnable": false,
          "type": "markdown"
        }
      },
      "source": "## 4.0 - Wrap-up of the Platform Hypothesis"
    },
    {
      "cell_type": "markdown",
      "metadata": {
        "cell_id": "8d0cedef890f43009e15f1b590c8db41",
        "deepnote_cell_type": "markdown",
        "nbsimplegrader": {
          "config_key": "markdown.view-only",
          "editable": false,
          "label": "Markdown: View-Only",
          "respondable": false,
          "response": null,
          "runnable": false,
          "type": "markdown"
        }
      },
      "source": "4.1 - One definition of “explain variation” is that if we know a little bit more about a game, we can use that information to make a better prediction of some outcome. Now that we’ve explored the Platform Hypothesis, does Platform help us explain variation on some outcome (either critic or user ratings)? Which outcome?"
    },
    {
      "cell_type": "markdown",
      "metadata": {
        "cell_id": "b637c853df004174acb75aea65bca915",
        "deepnote_cell_type": "markdown",
        "nbsimplegrader": {
          "config_key": "markdown.view-only",
          "editable": false,
          "label": "Markdown: View-Only",
          "respondable": false,
          "response": null,
          "runnable": false,
          "type": "markdown"
        }
      },
      "source": "4.2 - When we look at a visualization and think – yeah, this one looks like some of the variation is explained – what features of the visualization should we look at?"
    },
    {
      "cell_type": "markdown",
      "metadata": {
        "cell_id": "cd095e1df2ed461bba32b058716d7c55",
        "deepnote_cell_type": "markdown",
        "nbsimplegrader": {
          "config_key": "markdown.view-only",
          "editable": false,
          "label": "Markdown: View-Only",
          "respondable": false,
          "response": null,
          "runnable": false,
          "type": "markdown"
        }
      },
      "source": "4.3 - What are your overall conclusions? Does `Platform` matter for “how good a game is”? "
    },
    {
      "cell_type": "markdown",
      "metadata": {
        "cell_id": "5b391ac95d8340749386f91aaaa075d0",
        "deepnote_cell_type": "markdown"
      },
      "source": "## 5.0 - Reflect and Connect"
    },
    {
      "cell_type": "markdown",
      "metadata": {
        "cell_id": "fbbb13f78e81424cbb97b20c428ae7d7",
        "deepnote_cell_type": "markdown"
      },
      "source": "5.1 - In *4A*, we looked at the `States` data and explored whether `SubstanceAbuse`, `HouseholdIncomeK`, or `MedianRent` can explain variation in `PITHomeless`. As a reminder, write the word equations from that discussion here. "
    },
    {
      "cell_type": "markdown",
      "metadata": {
        "cell_id": "85b4803fa4d54c2691e412d8511c344d",
        "deepnote_cell_type": "markdown"
      },
      "source": "5.2 - Compare those to the models we explored today:\n\n- `User_Score` = `Platform` + Other Stuff\n- `Critic_Score` = `Platform` + Other Stuff\n\nAside from the variable names, what makes our models in 4A different from our models in 4B? What makes them similar?"
    },
    {
      "cell_type": "markdown",
      "metadata": {
        "cell_id": "50bbf4d3429c4cd4898b882b34ccf30c",
        "deepnote_cell_type": "markdown"
      },
      "source": "5.3 - In both 4A and this lesson, how did we decide whether the explanatory variables were explaining variation in the outcome variables, even though we were using different visualizations? Why did we need to use different visualizations?"
    },
    {
      "cell_type": "markdown",
      "metadata": {
        "cell_id": "a70968d2a4d54dc3b3c4c883ca303ce7",
        "deepnote_cell_type": "markdown",
        "nbsimplegrader": {
          "config_key": "markdown.view-only",
          "editable": false,
          "label": "Markdown: View-Only",
          "respondable": false,
          "response": null,
          "runnable": false,
          "type": "markdown"
        }
      },
      "source": "## 6.0 - From Data to Decision-Making"
    },
    {
      "cell_type": "markdown",
      "metadata": {
        "cell_id": "8a52a31ec9f1495fb252dc71f841f379",
        "deepnote_cell_type": "markdown",
        "nbsimplegrader": {
          "config_key": "markdown.view-only",
          "editable": false,
          "label": "Markdown: View-Only",
          "respondable": false,
          "response": null,
          "runnable": false,
          "type": "markdown"
        }
      },
      "source": "6.1 - Hmmm… just out of curiosity, let’s check which platforms have the top 10 highest selling games globally (using `Global_Sales`). Which platforms have the highest game sales? Are they the same platforms that seem to have higher ratings? What explains this?"
    },
    {
      "cell_type": "markdown",
      "metadata": {
        "cell_id": "ec0387bfa4124fa8be393e9de964cb37",
        "deepnote_cell_type": "markdown",
        "nbsimplegrader": {
          "config_key": "markdown.view-only",
          "editable": false,
          "label": "Markdown: View-Only",
          "respondable": false,
          "response": null,
          "runnable": false,
          "type": "markdown"
        }
      },
      "source": "6.2 - If you had to write a public relations statement on behalf of Wii games (Nintendo company) based on all the analyses we’ve done so far, what would you say? "
    }
  ],
  "metadata": {
    "deepnote_notebook_id": "534cd535543f41009711d404c6c21623",
    "kernelspec": {
      "display_name": "R",
      "language": "R",
      "name": "ir"
    },
    "language_info": {
      "codemirror_mode": "r",
      "file_extension": ".r",
      "mimetype": "text/x-r-source",
      "name": "R",
      "pygments_lexer": "r",
      "version": "4.3.3"
    },
    "nbsimplegrader": {
      "publish_config": {
        "classes": [],
        "options": [],
        "tools": []
      }
    }
  },
  "nbformat": 4,
  "nbformat_minor": 1
}