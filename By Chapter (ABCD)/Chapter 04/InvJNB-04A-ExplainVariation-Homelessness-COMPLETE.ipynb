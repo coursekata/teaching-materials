{
  "cells": [
    {
      "cell_type": "markdown",
      "metadata": {
        "cell_id": "942a8ff2864c4c8fb665dbb8cf1fa136",
        "deepnote_cell_height": 133.953125,
        "deepnote_cell_type": "markdown",
        "nbsimplegrader": {
          "config_key": "markdown.view-only",
          "editable": false,
          "label": "Markdown: View-Only",
          "respondable": false,
          "response": null,
          "runnable": false,
          "type": "markdown"
        }
      },
      "source": "<div class=\"alert alert-block alert-danger\">\n\n# 4A: Explaining Variation in State Homelessness \n\n**Lesson assumes students have read up through page: 4.2**\n\n**Use with textbook version 5.6+** \n\n*The notebooks for this chapter were recently updated. If you are looking for older versions, try the [5.0 Starter Pack](https://deepnote.com/workspace/CourseKata-Development-Team-1c292fd0-1fa1-4c37-84a8-0f54cdf53266/project/CourseKata-v50-Teacher-Starter-Pack-7db8e03d-a80e-45b9-90ed-28876d837280?utm_content=7db8e03d-a80e-45b9-90ed-28876d837280) or reach out to CourseKata support.*\n\n</div>\n"
    },
    {
      "cell_type": "markdown",
      "metadata": {
        "cell_id": "323a4a2726bb48a68f7334ee6e6b72b0",
        "deepnote_cell_type": "markdown"
      },
      "source": "<div class=\"alert alert-block alert-success\">\n\n## Approximate time to complete Notebook: 60 Mins\n\n</div>"
    },
    {
      "cell_type": "code",
      "execution_count": null,
      "metadata": {
        "cell_id": "10086c5f1ba04e5ca0f1c06849211182",
        "deepnote_cell_height": 177.5625,
        "deepnote_cell_type": "code",
        "deepnote_to_be_reexecuted": false,
        "execution_context_id": "17cca7fb-2cd0-47bb-8130-ceacc7e60e0d",
        "execution_millis": 2860,
        "execution_start": 1739068094090,
        "nbsimplegrader": {
          "config_key": "code.run-only",
          "editable": false,
          "label": "Code: Run-Only",
          "respondable": false,
          "response": null,
          "runnable": true,
          "type": "code"
        },
        "source_hash": "338ac6ea",
        "trusted": true
      },
      "outputs": [],
      "source": "# This code will load the R packages we will use\nsuppressPackageStartupMessages({\n    library(coursekata)\n})\n\n# Load the States data\nStates <- read.csv(\"https://docs.google.com/spreadsheets/d/e/2PACX-1vSGPPBJEKYHYu563seooxlUmhkUGVHQUeedgHsviPhYv5OtsOOOBnPKdFsIB1J0y6zmxXQ7I_CNnh64/pub?gid=2140707809&single=true&output=csv\")"
    },
    {
      "cell_type": "markdown",
      "metadata": {
        "cell_id": "4f04fedbf5844c9d83d3bb96e0b2cff5",
        "deepnote_cell_height": 109.96875,
        "deepnote_cell_type": "markdown",
        "nbsimplegrader": {
          "config_key": "markdown.view-only",
          "editable": false,
          "label": "Markdown: View-Only",
          "respondable": false,
          "response": null,
          "runnable": false,
          "type": "markdown"
        }
      },
      "source": "## 1.0 - Which states might have higher homelessness rates?"
    },
    {
      "cell_type": "markdown",
      "metadata": {
        "cell_id": "ddaf1e4b2c6d4bfcabdaacc431831e40",
        "deepnote_cell_height": 74.75,
        "deepnote_cell_type": "markdown",
        "nbsimplegrader": {
          "config_key": "markdown.view-only",
          "editable": false,
          "label": "Markdown: View-Only",
          "respondable": false,
          "response": null,
          "runnable": false,
          "type": "markdown"
        }
      },
      "source": "Many researchers and political leaders are focused on addressing the homelessness crisis. To develop effective solutions, it's important to understand the underlying causes. Today, we're going to explore different explanations for why some states have more homelessness than others.\n\nFirst, let's learn a little bit about the data. We'll learn how homelessness is measured in states."
    },
    {
      "cell_type": "markdown",
      "metadata": {
        "cell_id": "82785dea7e224f5f97c5b4acc5476b8c",
        "deepnote_cell_height": 688.75,
        "deepnote_cell_type": "markdown",
        "nbsimplegrader": {
          "config_key": "markdown.view-only",
          "editable": false,
          "label": "Markdown: View-Only",
          "respondable": false,
          "response": null,
          "runnable": false,
          "type": "markdown"
        }
      },
      "source": "1.1 - Take a look at a data frame called `States` using functions like `head()` and `glimpse()`.\n\nFull descriptions of the variables in the dataset can be found [here](https://docs.google.com/document/d/e/2PACX-1vTLsVPYffaAG_IoJPgGEAtw56b5nOTk7zbfm8v3Q5zjeq9vXy_-bWaExcqOurGcaPxxOzMxR5Vyt2L_/pub)."
    },
    {
      "cell_type": "code",
      "execution_count": null,
      "metadata": {
        "cell_id": "36dadb9bf76a4b6fa4488e87b408bcac",
        "deepnote_cell_type": "code",
        "execution_context_id": "17cca7fb-2cd0-47bb-8130-ceacc7e60e0d",
        "execution_millis": 74,
        "execution_start": 1739068102783,
        "source_hash": "4be26756",
        "trusted": true
      },
      "outputs": [],
      "source": "#write some code here to look at the data\n\nhead(States)\n\nglimpse(States)"
    },
    {
      "cell_type": "markdown",
      "metadata": {
        "cell_id": "26a7e91093f84c738610c8cfac8f256b",
        "deepnote_cell_height": 74.75,
        "deepnote_cell_type": "markdown",
        "nbsimplegrader": {
          "config_key": "markdown.view-only",
          "editable": false,
          "label": "Markdown: View-Only",
          "respondable": false,
          "response": null,
          "runnable": false,
          "type": "markdown"
        }
      },
      "source": "1.2 - Take a look at the variables called `ShelteredPITHomeless`, `UnshelteredPITHomeless`, and `PITHomeless` . Which variable(s) should we use to look at how homelessness varies across different states? Why?\n"
    },
    {
      "cell_type": "markdown",
      "metadata": {
        "cell_id": "d7e342fcc1c443029387540d0b5bc423",
        "deepnote_cell_type": "markdown"
      },
      "source": "<div class=\"alert alert-block alert-warning\">\n\n**Note to instructors**: Direct students to look at the variable descriptions in the link above. Students can have a number of different opinions about which measure is best. \n\n**Sample response**: We should use PITHomeless because it counts all homeless individuals, including those that are unsheltered and those who live in homeless shelters. \n\n</div>"
    },
    {
      "cell_type": "markdown",
      "metadata": {
        "cell_id": "df795e17bec1489287fb462a88c1d303",
        "deepnote_cell_height": 74.75,
        "deepnote_cell_type": "markdown",
        "nbsimplegrader": {
          "config_key": "markdown.view-only",
          "editable": false,
          "label": "Markdown: View-Only",
          "respondable": false,
          "response": null,
          "runnable": false,
          "type": "markdown"
        }
      },
      "source": "1.3 - To explore variation in homelessness rates, make a visualization of that variable. What do you notice? Is there anything surprising about this distribution?"
    },
    {
      "cell_type": "code",
      "execution_count": null,
      "metadata": {
        "cell_id": "f2ffb431a01144529bcee2e56209e08e",
        "deepnote_cell_type": "code",
        "execution_context_id": "17cca7fb-2cd0-47bb-8130-ceacc7e60e0d",
        "execution_millis": 253,
        "execution_start": 1739068195322,
        "source_hash": "5415b953",
        "trusted": true
      },
      "outputs": [],
      "source": "#make a visualization here \n\ngf_histogram(~PITHomeless, data=States)\n\n\ngf_histogram(~PITHomeless, data=States)%>%\n  gf_boxplot()"
    },
    {
      "cell_type": "markdown",
      "metadata": {
        "cell_id": "8159c690dd7545c2863d53cee5494636",
        "deepnote_cell_type": "markdown"
      },
      "source": "<div class=\"alert alert-block alert-warning\">\n\n**Sample response:** \n- Surprised that the distribution is right skewed. \n- Most states have rates of around 1 per 100k, but about 10 states have more than that. \n\n\n</div>\n"
    },
    {
      "cell_type": "markdown",
      "metadata": {
        "cell_id": "dd60dc806647494d985f66de07761749",
        "deepnote_cell_height": 70.421875,
        "deepnote_cell_type": "markdown",
        "nbsimplegrader": {
          "config_key": "markdown.view-only",
          "editable": false,
          "label": "Markdown: View-Only",
          "respondable": false,
          "response": null,
          "runnable": false,
          "type": "markdown"
        }
      },
      "source": "## 2.0 - Explaining Variation in `PITHomeless`"
    },
    {
      "cell_type": "markdown",
      "metadata": {
        "cell_id": "f5ebb5e7c55e4d32bf339abd08cc4eb0",
        "deepnote_cell_height": 119.53125,
        "deepnote_cell_type": "markdown",
        "nbsimplegrader": {
          "config_key": "markdown.view-only",
          "editable": false,
          "label": "Markdown: View-Only",
          "respondable": false,
          "response": null,
          "runnable": false,
          "type": "markdown"
        }
      },
      "source": "2.1 - What characteristics of a state might help explain their homelessness rates? Take a look at some of the variables in the data frame for some ideas. "
    },
    {
      "cell_type": "markdown",
      "metadata": {
        "cell_id": "67a7c13dfb774c1ca5874ba2eb772b2c",
        "deepnote_cell_type": "markdown"
      },
      "source": "<div class=\"alert alert-block alert-warning\">\n\n**Note to instructors:** There are many variables in the data set, so students can have lots of ideas. Students may tend to point to the alcohol and substance abuse variables, income, and rent prices. \n\n</div>\n"
    },
    {
      "cell_type": "markdown",
      "metadata": {
        "cell_id": "582f0e19046f459bbf599d77c5081aad",
        "deepnote_cell_height": 52.359375,
        "deepnote_cell_type": "markdown",
        "nbsimplegrader": {
          "config_key": "markdown.view-only",
          "editable": false,
          "label": "Markdown: View-Only",
          "respondable": false,
          "response": null,
          "runnable": false,
          "type": "markdown"
        }
      },
      "source": "2.2 - *Quick Review*: What does it mean to “explain variation”?"
    },
    {
      "cell_type": "markdown",
      "metadata": {
        "cell_id": "37bf2266381d47318fcb35dc1c0a46db",
        "deepnote_cell_type": "markdown"
      },
      "source": "<div class=\"alert alert-block alert-warning\">\n\n**Sample response:** It means that if we know a little about a state, we might be able to predict their homelessness rates. \n\n</div>\n"
    },
    {
      "cell_type": "markdown",
      "metadata": {
        "cell_id": "58ab6a46dbb044d7b00283dcc5ece693",
        "deepnote_cell_height": 74.75,
        "deepnote_cell_type": "markdown",
        "nbsimplegrader": {
          "config_key": "markdown.view-only",
          "editable": false,
          "label": "Markdown: View-Only",
          "respondable": false,
          "response": null,
          "runnable": false,
          "type": "markdown"
        }
      },
      "source": "2.3 - Let's work with 3 ideas (these are common hypotheses that students come up with about homelessness): Which of these variables do you think will likely explain more of the variation in a state's `PITHomeless`: `SubstanceAbuse`, `HouseholdIncomeK` or `MedianRent `? Why? \n\nWrite your chosen hypothesis as a word equation. "
    },
    {
      "cell_type": "markdown",
      "metadata": {
        "cell_id": "156bca88528f48468170b8a4a2dcea34",
        "deepnote_cell_type": "markdown"
      },
      "source": "<div class=\"alert alert-block alert-warning\">\n\n**Sample responses :** \n- I think it will be substance abuse because if a state has a lot of people with substance abuse problems they may lose their housing and become homeless. \n- It could be household income because if a state has a lot of low income people it could be hard for them to afford housing. \n- Maybe rent prices because if rent is expensive an an area a lot of people might not be able to afford it. \n\nWord equations: \nPITHomesless = SubstanceAbuse + other stuff \nPITHomesless = HouseholdIncomeK + other stuff \nPITHomesless = MedianRent + other stuff \n\n**Note to instructors**: At this point, allow students to get their thoughts down about these variables. In the next section, they will explore these ideas further. \n\nThe pattern on the income variable actually turns out to be the opposite of the statement above (higher income states actually tend to have higher homelessness rates). \n</div>\n"
    },
    {
      "cell_type": "markdown",
      "metadata": {
        "cell_id": "3e72c9fa15fb40aca980fb22a5c0f367",
        "deepnote_cell_type": "markdown"
      },
      "source": "2.4 - Let's apply our informal definition of \"explaining variation\" and consider what it would mean for each of these variables to explain variation in homelessness. "
    },
    {
      "cell_type": "markdown",
      "metadata": {
        "cell_id": "a4c7fd5a939b4f4983ec05930380e02c",
        "deepnote_cell_type": "markdown"
      },
      "source": "<div class=\"alert alert-block alert-warning\">\n\n**Sample response:** \n\n- That the higher substance abuse rates are in a state, the higher their homelessness rates will be. \n- That states with higher income will have higher (or lower) homelessness rates. \n- States wtih higher rent prices will have higher homelessness rates. \n\n**Note to instructors:** Students may have different ideas about whether the relationships will be positive or negative. That is okay at this point. \n\n</div>\n"
    },
    {
      "cell_type": "markdown",
      "metadata": {
        "cell_id": "7b30afba5cd649239889976387632791",
        "deepnote_cell_type": "markdown"
      },
      "source": "For the next section, **you will be assigned to work in groups on one of the 3 models**. Work on your assigned model first. If you have more time, try the other models. "
    },
    {
      "cell_type": "markdown",
      "metadata": {
        "cell_id": "29bacc350a1a4faa8c916966f714ff23",
        "deepnote_cell_type": "markdown"
      },
      "source": "<div class=\"alert alert-block alert-warning\">\n\n**Note to instructors:** Break up the students into small groups and assign each group one of the three sections (3.0, 4.0, or 5.0). Allow the groups to work on their sections. Check in on the groups throughout the activity. You can have each group select a leader that will share their findings with the class. It is a good idea to make the groups small, so this means multiple groups could be assigned to the same section. \n\n</div>\n"
    },
    {
      "cell_type": "markdown",
      "metadata": {
        "cell_id": "1c9114c881a648d5b0759a02631a1474",
        "deepnote_cell_height": 110.421875,
        "deepnote_cell_type": "markdown",
        "nbsimplegrader": {
          "config_key": "markdown.view-only",
          "editable": false,
          "label": "Markdown: View-Only",
          "respondable": false,
          "response": null,
          "runnable": false,
          "type": "markdown"
        }
      },
      "source": "## 3.0 - Exploring `PITHomeless` = `SubstanceAbuse` + Other Stuff."
    },
    {
      "cell_type": "markdown",
      "metadata": {
        "cell_id": "18f8c3b8bb004a9480e9e5fa7f5bbefe",
        "deepnote_cell_height": 74.75,
        "deepnote_cell_type": "markdown",
        "nbsimplegrader": {
          "config_key": "markdown.view-only",
          "editable": false,
          "label": "Markdown: View-Only",
          "respondable": false,
          "response": null,
          "runnable": false,
          "type": "markdown"
        }
      },
      "source": "3.1 - Let's use some code to look at the first 6 rows of this data set. This data has a lot of variables in it. Can we can combine head() and select() to look at the first 6 rows of only the variables `State`, `PITHomeless`, and `SubstanceAbuse`? Try it! "
    },
    {
      "cell_type": "code",
      "execution_count": null,
      "metadata": {
        "cell_id": "3600db8b01d54ad3a6388b4892328068",
        "deepnote_app_block_visible": false,
        "deepnote_cell_type": "code",
        "execution_context_id": "2badb60a-7de2-4ab6-a5ba-022f16b839c9",
        "execution_millis": 26,
        "execution_start": 1737750817938,
        "source_hash": "7eca8735",
        "trusted": true
      },
      "outputs": [],
      "source": "#try it here \n\nhead(select(States, State, PITHomeless, SubstanceAbuse))"
    },
    {
      "cell_type": "markdown",
      "metadata": {
        "cell_id": "ee330fcce3dc4ef5a911ce4b717602a7",
        "deepnote_cell_height": 52.359375,
        "deepnote_cell_type": "markdown",
        "nbsimplegrader": {
          "config_key": "markdown.view-only",
          "editable": false,
          "label": "Markdown: View-Only",
          "respondable": false,
          "response": null,
          "runnable": false,
          "type": "markdown"
        }
      },
      "source": "3.2 - Take a look at Alabama's values for these two variables (`PITHomeless` and `SubstanceAbuse`). What do they mean? "
    },
    {
      "cell_type": "markdown",
      "metadata": {
        "cell_id": "2f3152a438d44ab8b54eadfb87012fed",
        "deepnote_cell_type": "markdown"
      },
      "source": "<div class=\"alert alert-block alert-warning\">\n\n**Sample response:** Alabama's PITHomeless means that there at .7 homeless persons per 100k people in that state. The 7.5 number means that 7.5% of residents of Alabama are classified as having a severe substance abuse problem. \n\n**Note to instructors:** Students may need to look at the variable descriptions again to answer these questions.  \n\n</div>\n"
    },
    {
      "cell_type": "markdown",
      "metadata": {
        "cell_id": "1df9e2a9dcaf42699b302f081bb511a7",
        "deepnote_cell_height": 97.140625,
        "deepnote_cell_type": "markdown",
        "nbsimplegrader": {
          "config_key": "markdown.view-only",
          "editable": false,
          "label": "Markdown: View-Only",
          "respondable": false,
          "response": null,
          "runnable": false,
          "type": "markdown"
        }
      },
      "source": "3.3 - To get the full picture, we need to look at data from all 50 states. Let’s make a visualization to explore this model: `PITHomeless` = `SubstanceAbuse` + Other Stuff"
    },
    {
      "cell_type": "code",
      "execution_count": null,
      "metadata": {
        "cell_id": "60aa1e1474f1407eba3d79d179f8eefb",
        "deepnote_cell_type": "code",
        "execution_context_id": "8009aad5-f03e-4d12-8772-c39eeca5ede7",
        "execution_millis": 111,
        "execution_start": 1738349618517,
        "source_hash": "7068cf23",
        "trusted": true
      },
      "outputs": [],
      "source": "#make a visualization here\ngf_point(PITHomeless~SubstanceAbuse, data=States)"
    },
    {
      "cell_type": "markdown",
      "metadata": {
        "cell_id": "41acfb9ce77a4203aa9e135c4704f52f",
        "deepnote_cell_height": 52.359375,
        "deepnote_cell_type": "markdown",
        "nbsimplegrader": {
          "config_key": "markdown.view-only",
          "editable": false,
          "label": "Markdown: View-Only",
          "respondable": false,
          "response": null,
          "runnable": false,
          "type": "markdown"
        }
      },
      "source": "3.4 - Based on your visualization, what do you think of this hypothesis?"
    },
    {
      "cell_type": "markdown",
      "metadata": {
        "cell_id": "988de93de2aa4695aec9bede80e6a808",
        "deepnote_cell_type": "markdown"
      },
      "source": "<div class=\"alert alert-block alert-warning\">\n\n**Sample response:** \n- The relationship is not clear across states. Some areas of the graph look like there could be a negative relationship, some areas are flat. \n\n</div>\n"
    },
    {
      "cell_type": "markdown",
      "metadata": {
        "cell_id": "b6c2dc01530943f6ade4a085370908db",
        "deepnote_cell_height": 74.75,
        "deepnote_cell_type": "markdown",
        "nbsimplegrader": {
          "config_key": "markdown.view-only",
          "editable": false,
          "label": "Markdown: View-Only",
          "respondable": false,
          "response": null,
          "runnable": false,
          "type": "markdown"
        }
      },
      "source": "3.5 - Based on this, what would your prediction for `PITHomeless` be for a hypothetical state that had a very high `SubstanceAbuse` percentage? How about for a low `SubstanceAbuse` state?"
    },
    {
      "cell_type": "markdown",
      "metadata": {
        "cell_id": "b76fa5f416df4d7a92b8e960d35fe7cf",
        "deepnote_cell_type": "markdown"
      },
      "source": "<div class=\"alert alert-block alert-warning\">\n\n**Sample response:**\n- If a state has a low SubstanceAbuse percentage, I would predict about 2.5. There are a lot of low SubstanceAbuse states that have low PITHomeless, but some have really high, so my guess would be somewhere in the middle. \n- If a state has a high Substance Abuse percentage, I would predict maybe around 2. \n\n**Note to instructors:**\nIt may be helpful to add a middle value as well. \n- For a middle Substance Abuse percentage, I would predict around 2 as well. \n</div>\n"
    },
    {
      "cell_type": "markdown",
      "metadata": {
        "cell_id": "fe292463fe634bdbb5bcb440bd52410f",
        "deepnote_cell_height": 110.421875,
        "deepnote_cell_type": "markdown",
        "nbsimplegrader": {
          "config_key": "markdown.view-only",
          "editable": false,
          "label": "Markdown: View-Only",
          "respondable": false,
          "response": null,
          "runnable": false,
          "type": "markdown"
        }
      },
      "source": "## 4.0 - Exploring `PITHomeless` = `HouseholdIncomeK` + Other Stuff."
    },
    {
      "cell_type": "markdown",
      "metadata": {
        "cell_id": "4fca40d11e814addaabcba5efb59e1e6",
        "deepnote_cell_height": 74.75,
        "deepnote_cell_type": "markdown",
        "nbsimplegrader": {
          "config_key": "markdown.view-only",
          "editable": false,
          "label": "Markdown: View-Only",
          "respondable": false,
          "response": null,
          "runnable": false,
          "type": "markdown"
        }
      },
      "source": "4.1 - Let's use some code to look at the first 6 rows of this data set. This data has a lot of variables in it. Can we can combine head() and select() to look at the first 6 rows of only the variables `State`, `PITHomeless`, and `HouseholdIncomeK`? Try it! "
    },
    {
      "cell_type": "code",
      "execution_count": null,
      "metadata": {
        "allow_embed": false,
        "cell_id": "fa864448d55a4de4bd3d7785374bcd11",
        "deepnote_cell_height": 60.953125,
        "deepnote_cell_type": "code",
        "execution_context_id": "2badb60a-7de2-4ab6-a5ba-022f16b839c9",
        "execution_millis": 18,
        "execution_start": 1737751305387,
        "nbsimplegrader": {
          "config_key": "code.run-only",
          "editable": false,
          "label": "Code: Run-Only",
          "respondable": false,
          "response": null,
          "runnable": true,
          "type": "code"
        },
        "source_hash": "aef024be",
        "trusted": true
      },
      "outputs": [],
      "source": "#try it here \n\nhead(select(States, State, PITHomeless, HouseholdIncomeK))"
    },
    {
      "cell_type": "markdown",
      "metadata": {
        "cell_id": "af6e7d3530764b12b0a61bfba95a695e",
        "deepnote_cell_height": 52.359375,
        "deepnote_cell_type": "markdown",
        "nbsimplegrader": {
          "config_key": "markdown.view-only",
          "editable": false,
          "label": "Markdown: View-Only",
          "respondable": false,
          "response": null,
          "runnable": false,
          "type": "markdown"
        }
      },
      "source": "4.2 - Take a look at Alabama's values for these two variables (`PITHomeless` and `HouseholdIncomeK`). What do they mean? "
    },
    {
      "cell_type": "markdown",
      "metadata": {
        "cell_id": "50f5450e1a554649aad9de93f7627c28",
        "deepnote_cell_type": "markdown"
      },
      "source": "<div class=\"alert alert-block alert-warning\">\n\n**Sample response:** Alabama's PITHomeless means that there at .7 homeless persons per 100k people in that state. The 56.929 number means the median household income for Alabama is $56,929. \n\n**Note to instructors:** Students may need to look at the variable descriptions again to answer these questions.  \n\n</div>\n"
    },
    {
      "cell_type": "markdown",
      "metadata": {
        "cell_id": "2fec248f5cd7441c8704e99f61560c8d",
        "deepnote_cell_height": 52.359375,
        "deepnote_cell_type": "markdown",
        "nbsimplegrader": {
          "config_key": "markdown.view-only",
          "editable": false,
          "label": "Markdown: View-Only",
          "respondable": false,
          "response": null,
          "runnable": false,
          "type": "markdown"
        }
      },
      "source": "4.3 - To get the full picture, we need to look at data from all 50 states. Let’s make a visualization to explore this model: `PITHomeless` = `HouseholdIncomeK` + Other Stuff"
    },
    {
      "cell_type": "code",
      "execution_count": null,
      "metadata": {
        "cell_id": "52f0053ccf6e458494743faa9aa32694",
        "deepnote_cell_type": "code",
        "execution_context_id": "431625f0-194b-47e7-9c4f-c3d734cd0690",
        "execution_millis": 141,
        "execution_start": 1738004322875,
        "source_hash": "a84d9170",
        "trusted": true
      },
      "outputs": [],
      "source": "#make a visualization here\n\ngf_point(PITHomeless~HouseholdIncomeK, data=States)"
    },
    {
      "cell_type": "markdown",
      "metadata": {
        "cell_id": "aa7db669950c4bd884bcb0203988088a",
        "deepnote_cell_type": "markdown"
      },
      "source": "4.4 Based on your visualization, what do you think of this hypothesis?"
    },
    {
      "cell_type": "markdown",
      "metadata": {
        "cell_id": "4af1d3ca34254c4c955e021a73770180",
        "deepnote_cell_type": "markdown"
      },
      "source": "\n<div class=\"alert alert-block alert-warning\">\n\n**Sample response:** It looks like the relationship is positive. States with higher income tend to have higher homelessness rates. However, there are areas of the plot (for example, states from 80-90k income) with a wide range of homelessness rates. \n\n</div>\n"
    },
    {
      "cell_type": "markdown",
      "metadata": {
        "cell_id": "172b8c72d601493fafeac816a9f00da9",
        "deepnote_cell_height": 74.75,
        "deepnote_cell_type": "markdown",
        "nbsimplegrader": {
          "config_key": "markdown.view-only",
          "editable": false,
          "label": "Markdown: View-Only",
          "respondable": false,
          "response": null,
          "runnable": false,
          "type": "markdown"
        }
      },
      "source": "4.5 - Based on this, how would you adjust your prediction of `PITHomeless` for a hypothetical state that had a very high `HouseholdIncomeK` percentage? How about for a low `HouseholdIncomeK` state?"
    },
    {
      "cell_type": "markdown",
      "metadata": {
        "cell_id": "665f40fc83694750a36a3baab6167a45",
        "deepnote_cell_type": "markdown"
      },
      "source": "\n<div class=\"alert alert-block alert-warning\">\n\n**Sample response:**\n- If a state has a low HouseholdIncomeK, I would predict about 1 for PITHomeless. \n- If a state has a high HouseholdIncomeK, I would predict around 2.5. \n \n\n**Note to instructors:**\nI may be helpful to add a middle value as well. \n- For a middle HouseholdIncomeK, I would predict around 2.5 as well.\n\n</div>\n"
    },
    {
      "cell_type": "markdown",
      "metadata": {
        "cell_id": "efca0b77901f4dd9839c47ede87007d8",
        "deepnote_cell_height": 110.875,
        "deepnote_cell_type": "markdown",
        "nbsimplegrader": {
          "config_key": "markdown.view-only",
          "editable": false,
          "label": "Markdown: View-Only",
          "respondable": false,
          "response": null,
          "runnable": false,
          "type": "markdown"
        }
      },
      "source": "## 5.0 - Exploring `PITHomeless` = `MedianRent` + Other Stuff"
    },
    {
      "cell_type": "markdown",
      "metadata": {
        "cell_id": "603524de7f6649a185bd654784e557de",
        "deepnote_cell_height": 74.75,
        "deepnote_cell_type": "markdown",
        "nbsimplegrader": {
          "config_key": "markdown.view-only",
          "editable": false,
          "label": "Markdown: View-Only",
          "respondable": false,
          "response": null,
          "runnable": false,
          "type": "markdown"
        }
      },
      "source": "5.1 - Let's use some code to look at the first 6 rows of this data set. This data has a lot of variables in it. Can we can combine head() and select() to look at the first 6 rows of only the variables `State`, `PITHomeless`, and `MedianRent`? Try it! "
    },
    {
      "cell_type": "code",
      "execution_count": null,
      "metadata": {
        "allow_embed": false,
        "cell_id": "3eff041d1b4e474881b139abc77c6ad8",
        "deepnote_cell_height": 60.953125,
        "deepnote_cell_type": "code",
        "execution_context_id": "431625f0-194b-47e7-9c4f-c3d734cd0690",
        "execution_millis": 1,
        "execution_start": 1738004185828,
        "nbsimplegrader": {
          "config_key": "code.run-only",
          "editable": false,
          "label": "Code: Run-Only",
          "respondable": false,
          "response": null,
          "runnable": true,
          "type": "code"
        },
        "source_hash": "90ba9a35",
        "trusted": true
      },
      "outputs": [],
      "source": "#try it here \n\nhead(select(States, State, PITHomeless, MedianRent))"
    },
    {
      "cell_type": "markdown",
      "metadata": {
        "cell_id": "97b57aa05a4641a788b8a8c87c6cb1a2",
        "deepnote_cell_type": "markdown"
      },
      "source": "5.2 - Take a look at Alabama's values for these two variables (`PITHomeless` and `MedianRent`). What do they mean? "
    },
    {
      "cell_type": "markdown",
      "metadata": {
        "cell_id": "e37881bccee64e88bd45194cc9f52036",
        "deepnote_cell_type": "markdown"
      },
      "source": "<div class=\"alert alert-block alert-warning\">\n\n**Sample response:** Alabama's PITHomeless means that there at .7 homeless persons per 100k people in that state. The 811 number means that the median rent in Alabama is $811.  \n\n**Note to instructors:** Students may need to look at the variable descriptions again to answer these questions.  \n\n</div>\n"
    },
    {
      "cell_type": "markdown",
      "metadata": {
        "cell_id": "28c3b834279743fbbad0ebacbbd3e341",
        "deepnote_cell_height": 52.359375,
        "deepnote_cell_type": "markdown",
        "nbsimplegrader": {
          "config_key": "markdown.view-only",
          "editable": false,
          "label": "Markdown: View-Only",
          "respondable": false,
          "response": null,
          "runnable": false,
          "type": "markdown"
        }
      },
      "source": "5.3 - To get the full picture, we need to look at all 50 states. Let’s make a visualization to explore this model: some of the variation in the percentage `PITHomeless` is explained by `MedianRent`. Create a visualization to explore this model. "
    },
    {
      "cell_type": "code",
      "execution_count": null,
      "metadata": {
        "cell_id": "eaedec9519a94623abb1e56d1ca19b10",
        "deepnote_cell_type": "code",
        "execution_context_id": "431625f0-194b-47e7-9c4f-c3d734cd0690",
        "execution_millis": 133,
        "execution_start": 1738004350071,
        "source_hash": "f78f1b85",
        "trusted": true
      },
      "outputs": [],
      "source": "#make a visualization here\n\ngf_point(PITHomeless~MedianRent, data=States)"
    },
    {
      "cell_type": "markdown",
      "metadata": {
        "cell_id": "a9c5aa1572f94d24a54ad280046f4a22",
        "deepnote_cell_type": "markdown"
      },
      "source": "5.4 - Based on your visualization, what do you think of this hypothesis?"
    },
    {
      "cell_type": "markdown",
      "metadata": {
        "cell_id": "31309f3d0e36439da02110939c6b36d8",
        "deepnote_cell_type": "markdown"
      },
      "source": "\n<div class=\"alert alert-block alert-warning\">\n\n**Sample response:** This looks like the higher the median rent, the higher homelessness rates in a state. \n\n</div>\n"
    },
    {
      "cell_type": "markdown",
      "metadata": {
        "cell_id": "0e98a0b60b75418a8ef0bb6ed5bd0144",
        "deepnote_cell_height": 74.75,
        "deepnote_cell_type": "markdown",
        "nbsimplegrader": {
          "config_key": "markdown.view-only",
          "editable": false,
          "label": "Markdown: View-Only",
          "respondable": false,
          "response": null,
          "runnable": false,
          "type": "markdown"
        }
      },
      "source": "5.5 - Based on this, how would you adjust your prediction of `PITHomeless` for a hypothetical state that had a very high `MedianRent`? How about for a low `MedianRent` state?"
    },
    {
      "cell_type": "markdown",
      "metadata": {
        "cell_id": "c9d4926125f043b9bcf031e321324d43",
        "deepnote_cell_type": "markdown"
      },
      "source": "\n<div class=\"alert alert-block alert-warning\">\n\n**Sample response:** \n- If a state has a low MedianRent, I would predict about 1.5 for PITHomeless. \n- If a state has a high MedianRent (looking at 1250+), I would predict around 3. \n\n**Note to instructors:**\nI may be helpful to add medium as well. \n- For a medium MedianRent, I would predict around 2. \n\n\n</div>\n"
    },
    {
      "cell_type": "markdown",
      "metadata": {
        "cell_id": "2402a812b42b4b0b9dbb49b17f121ece",
        "deepnote_cell_height": 69.96875,
        "deepnote_cell_type": "markdown",
        "nbsimplegrader": {
          "config_key": "markdown.view-only",
          "editable": false,
          "label": "Markdown: View-Only",
          "respondable": false,
          "response": null,
          "runnable": false,
          "type": "markdown"
        }
      },
      "source": "## 6.0 - Comparing our Three Models"
    },
    {
      "cell_type": "markdown",
      "metadata": {
        "cell_id": "ebc29ba3e2064037a55e0c3104d2f671",
        "deepnote_cell_type": "markdown"
      },
      "source": "<div class=\"alert alert-block alert-warning\">\n\n**Note to instructors:**\n\nThe goal of this last section is to get students thinking about the difference between explaining variation and causation. \n\nWe hope that with these questions, students will begin to think about what might be needed in order to be able to make causal claims/find out what really causes homelessness (we need an experiment!). You can have students try to think of an experiment that can test whether high income or high rents cause homelessness. \n\nPart of the story here may be that higher income states also have higher rents. When higher income people live in an area, landlords can raise rents and still have people who can pay those prices. This also means that increasing overall income in an area may not be a solution - the higher the income, the higher the rents can be! \n\n</div>\n\n"
    },
    {
      "cell_type": "markdown",
      "metadata": {
        "cell_id": "d32f932c6ec143f487532d56ab56f5ef",
        "deepnote_cell_height": 97.140625,
        "deepnote_cell_type": "markdown",
        "nbsimplegrader": {
          "config_key": "markdown.view-only",
          "editable": false,
          "label": "Markdown: View-Only",
          "respondable": false,
          "response": null,
          "runnable": false,
          "type": "markdown"
        }
      },
      "source": "6.1 - From looking at the three visualizations, which variable seems to explain more variation in `PITHomeless`: `SubstanceAbuse`, `HouseholdIncomeK` or `MedianRent`? What aspect of the visualizations are you looking at to make that judgment?"
    },
    {
      "cell_type": "markdown",
      "metadata": {
        "cell_id": "982a7921392748aea6c66f83173abc88",
        "deepnote_cell_type": "markdown"
      },
      "source": "<div class=\"alert alert-block alert-warning\">\n\n**Sample response:** I think the variable that explains the most variation in `PITHomeless` is `MedianRent`. This variable had the clearest relationship - low median rents went with low homelessness rates and high median rents went with high homelessness rates. The dots in the graph are arranged in a linear pattern that goes up. \n\nIf we ranked them- \n- Best: MedianRent\n- 2nd best: HouseholdIncomeK\n- Last: SubstanceAbuse\n\n</div>\n"
    },
    {
      "cell_type": "markdown",
      "metadata": {
        "cell_id": "b2316b55f0ac467192cf38620c02aab1",
        "deepnote_cell_type": "markdown"
      },
      "source": "6.2 - If states want to reduce homelessness, do you think they should pursue a policy that lowers median rent or lowers household income? Why? "
    },
    {
      "cell_type": "markdown",
      "metadata": {
        "cell_id": "f85df34afd004b5590f3d8c1dd3a5a0a",
        "deepnote_cell_type": "markdown"
      },
      "source": "<div class=\"alert alert-block alert-warning\">\n\n**Note to instructors:** \n\nStudents are likely to have a variety of ideas on this. Here are some points to consider:\n\nCan reducing income in a state lower homelessness? Encourage students to think critically about this idea. Why might it not be effective?\n\nWhat about lowering rent? Could that help? If so, how?\n\nThroughout this discussion, students may often conclude that high rent prices, rather than high income levels, are contributing more to the higher rates of homelessness in these states.\n\nAlso, consider the connection between income levels and rent prices. \n\n</div>\n"
    },
    {
      "cell_type": "markdown",
      "metadata": {
        "cell_id": "3b1ebb1211f54820ad7fe1212b232e21",
        "deepnote_cell_type": "markdown"
      },
      "source": "6.3 - Is \"explain variation\" the same as \"cause variation\"? What is the difference?"
    },
    {
      "cell_type": "markdown",
      "metadata": {
        "cell_id": "0d804fc2d77d49d8b20790af890d7bfa",
        "deepnote_cell_type": "markdown"
      },
      "source": "<div class=\"alert alert-block alert-warning\">\n\n**Sample response:** No, it is not the same. Explain variation just means we have found a pattern in the data (for example, as one variable goes up, the other variable also goes up), but to be able to say something *causes* another thing we need experiments in order address issues like confounding variables and directionality. \n\n**Note to instructors:** More about this concept on page 4.10 in the book (and research design is also covered in notebook 4C.)\n</div>\n"
    },
    {
      "cell_type": "markdown",
      "metadata": {
        "cell_id": "f384f1b8ab284ccc97e87d1142fb10e8",
        "deepnote_cell_height": 69.96875,
        "deepnote_cell_type": "markdown",
        "tags": []
      },
      "source": "## 7.0 - Further reading about this topic"
    },
    {
      "cell_type": "markdown",
      "metadata": {
        "cell_id": "9b22e909b74147d6b42835d278d92722",
        "deepnote_cell_height": 97.125,
        "deepnote_cell_type": "markdown",
        "tags": []
      },
      "source": "- If you are interested in further reading on homelessness and rent prices, check out this article: https://www.pewtrusts.org/en/research-and-analysis/articles/2023/08/22/how-housing-costs-drive-levels-of-homelessness\n\n- And this one on experiments that increased income of homeless individuals: https://schalkenbach.org/basic-income-for-the-homeless-findings-from-three-experiments/\n\n- On housing costs and homelessness: https://schalkenbach.org/in-a-good-economy-homelessness-goes-up-the-paradox-of-progress-and-poverty/"
    },
    {
      "cell_type": "markdown",
      "metadata": {
        "cell_id": "13ed715ce1704719893863d83413be2d",
        "deepnote_cell_type": "markdown"
      },
      "source": ""
    }
  ],
  "metadata": {
    "deepnote_notebook_id": "2178697e4f6645c9affe8de98a74b09b",
    "kernelspec": {
      "display_name": "R",
      "language": "R",
      "name": "ir"
    },
    "language_info": {
      "codemirror_mode": "r",
      "file_extension": ".r",
      "mimetype": "text/x-r-source",
      "name": "R",
      "pygments_lexer": "r",
      "version": "4.3.3"
    },
    "nbsimplegrader": {
      "publish_config": {
        "classes": [],
        "options": [],
        "tools": []
      }
    }
  },
  "nbformat": 4,
  "nbformat_minor": 1
}