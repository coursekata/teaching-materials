{
  "cells": [
    {
      "cell_type": "markdown",
      "metadata": {
        "cell_id": "85b91873aca145b38c9d9f57f0ca7eb6",
        "deepnote_cell_type": "markdown"
      },
      "source": "# Categorical, and More-Than-One, Explanatory Variables \n\n## Chapter 4.6-4.9 Overview Notebook"
    },
    {
      "cell_type": "code",
      "execution_count": null,
      "metadata": {
        "cell_id": "0bff1a4cfe8d4dbdb1550fb615c0aa11",
        "deepnote_cell_type": "code",
        "trusted": true
      },
      "outputs": [],
      "source": "# run this to set up the notebook\nlibrary(coursekata)\n\n# read in data\nepic_char <- read.csv(\"https://docs.google.com/spreadsheets/d/1lIQJUqAmZTgBnuRw4DfR8_S-K_moYJH5gsnCEnMZ_BI/export?format=csv&gid=808955994\") %>%\n  select(char_name, uni_name, gender, chill_quant, chill_cat, loveable_quant, loveable_cat)\nepic_characters <- read.csv(\"https://docs.google.com/spreadsheets/d/1lIQJUqAmZTgBnuRw4DfR8_S-K_moYJH5gsnCEnMZ_BI/export?format=csv&gid=808955994\")\n\n# set styles\ncss <- suppressWarnings(readLines(\"https://raw.githubusercontent.com/jimstigler/jupyter/master/ck_jupyter_styles_v2.css\"))\nIRdisplay::display_html(sprintf('<style>%s</style>', paste(css, collapse = \"\\n\")))"
    },
    {
      "cell_type": "markdown",
      "metadata": {
        "cell_id": "4cb2d3735ef6427b90b46a113f8be188",
        "deepnote_cell_type": "markdown"
      },
      "source": "## 1 The `epic_char` Data Frame\n\nThe `epic_char` data frame contains data on 81 fictional characters from various epic universes (including the Marvel Cinematic Universe, Star Wars, Dark Knight, Harry Potter, and Lord of the Rings). Each character was rated on a number of character traits by more than 3 million volunteers as part of the [Open Psychometrics Project](https://openpsychometrics.org/tests/characters/). \n\nFor example, volunteers were presented with the character Darth Vader (from *Star Wars*), and asked to indicate, using a slider, where Darth Vader would fall on a 100-point scale from punchable (coded as 0) to loveable (100). The average rating for a subset of these dimensions is saved in the `epic_char` data frame. The data frame includes 8 variables.\n\n<img src=\"https://coursekata-course-assets.s3.us-west-1.amazonaws.com/UCLATALL/czi-stats-course/jnb-rate-characters.jpg\" alt=\"example of how people rated a character with a slider\" width = 50%>\n\n### The Variables\n\n- `char_name` The character's name.\t\n- `uni_name` The universe name of the book, game, movie, or TV show.\n- `gender` The gender of the character (M=Male, F=Female).\n- `chill_quant` Average rating of how chill (vs offended) the character is on a scale from 0 (offended) to 100 (chill).\n- `chill_cat` Coded as *offended* if the character had a score less than 50 on `chill_quant` and *chill* otherwise\n- `loveable_quant` Average rating of how loveable (vs punchable) the character is on a scale from 0 (punchable) to 100 (loveable).\n- `loveable_cat` Coded as *punchable* if the character had a score less than 50 on `loveable_quant` and *loveable* otherwise\n\n#### Data Source: \n\nThe complete data set from which `epic_char` was drawn was made available by Tanya Shapiro as a [Tidy Tuesday data set](https://github.com/rfordatascience/tidytuesday/tree/master/data/2022/2022-08-16)."
    },
    {
      "cell_type": "markdown",
      "metadata": {
        "cell_id": "68f77a3778d4430a9267550070aecc25",
        "deepnote_cell_type": "markdown"
      },
      "source": "### 1.1 An excerpt from the `epic_char` data frame is below (and also available in your guide notes). What are the rows? The columns? The values?"
    },
    {
      "cell_type": "markdown",
      "metadata": {
        "cell_id": "e13e00c570954576a037c52795f37aaa",
        "deepnote_cell_type": "markdown"
      },
      "source": "<img src=\"https://coursekata-course-assets.s3.us-west-1.amazonaws.com/UCLATALL/czi-stats-course/jnb-4.6-4.9-data-table.png\" alt=\"example of how people rated a character with a slider\" width = 90%>"
    },
    {
      "cell_type": "markdown",
      "metadata": {
        "cell_id": "f0ac095a3037437b852771d352971944",
        "deepnote_cell_type": "markdown"
      },
      "source": "<div class=\"discussion-question\">\n<h3>1.2 Discussion Question: Do you agree with how each character was rated? Why or why not? </h3>\n</div>"
    },
    {
      "cell_type": "markdown",
      "metadata": {
        "cell_id": "b5ba816bbdc44a849fed97150ceab7a1",
        "deepnote_cell_type": "markdown"
      },
      "source": "<div class=\"guided-notes\">\n    \n### 1.3 Fill in the missing values in the data frame\n    \nUse the `chill_quant` and `loveable_quant` values to fill in the missing `chill_cat` and `loveable_cat` columns.\n    \n</div>"
    },
    {
      "cell_type": "markdown",
      "metadata": {
        "cell_id": "e1d4a8d4fed1419995a9f3318ccab81e",
        "deepnote_cell_type": "markdown"
      },
      "source": "<div class=\"guided-notes\">\n    \n### 1.4 Circle/highlight the names of all the *categorical* variables\n\nHow can you tell a variable is categorical?\n\n</div>"
    },
    {
      "cell_type": "markdown",
      "metadata": {
        "cell_id": "3ee3f2b60992474aa116b1277c71ad23",
        "deepnote_cell_type": "markdown"
      },
      "source": "## 2 Exploring a Hypothesis: Characters Who Are More Chill Tend to Be More Loveable\nWe will start by using the quantitative versions of the two variables: `chill_quant` and `loveable_quant`"
    },
    {
      "cell_type": "markdown",
      "metadata": {
        "cell_id": "dc5350d157cc48c0a230eca27c093933",
        "deepnote_cell_type": "markdown"
      },
      "source": "<div class=\"guided-notes\">\n\n### 2.1 Write a word equation to represent the hypothesis\n    \n</div>"
    },
    {
      "cell_type": "markdown",
      "metadata": {
        "cell_id": "c1a33e266d4149bb86dba4da32d2d366",
        "deepnote_cell_type": "markdown",
        "nbsimplegrader": {
          "config_key": "markdown.response",
          "editable": true,
          "label": "Response: Markdown",
          "respondable": true,
          "response": null,
          "runnable": true,
          "type": "markdown"
        }
      },
      "source": "word equation: "
    },
    {
      "cell_type": "markdown",
      "metadata": {
        "cell_id": "f710a9e03c6147798600f1e9e3358d06",
        "deepnote_cell_type": "markdown"
      },
      "source": "<div class=\"guided-notes\">\n\n### 2.2 Write R code to visualize the distribution of the outcome variable\nWhat do you notice about the distribution of this variable?\n \n</div>"
    },
    {
      "cell_type": "code",
      "execution_count": null,
      "metadata": {
        "cell_id": "e3e0700f3c534b479cb9822300d3fbb1",
        "deepnote_cell_type": "code",
        "nbsimplegrader": {
          "config_key": "code.response",
          "editable": true,
          "label": "Response: Code",
          "respondable": true,
          "response": null,
          "runnable": true,
          "type": "code"
        },
        "trusted": true
      },
      "outputs": [],
      "source": "# code here\n\n"
    },
    {
      "cell_type": "markdown",
      "metadata": {
        "cell_id": "84c5076f2849446fa9cf102cc95bacc9",
        "deepnote_cell_type": "markdown"
      },
      "source": "<div class=\"guided-notes\">\n\n### 2.3 Write R code to visualize the hypothesis\nWhat do you notice about the relationships between these quantitative variables? \n</div>"
    },
    {
      "cell_type": "code",
      "execution_count": null,
      "metadata": {
        "cell_id": "702d9405759d4e2baf4fcdfc4ef9ba5b",
        "deepnote_cell_type": "code",
        "nbsimplegrader": {
          "config_key": "code.response",
          "editable": true,
          "label": "Response: Code",
          "respondable": true,
          "response": null,
          "runnable": true,
          "type": "code"
        },
        "trusted": true
      },
      "outputs": [],
      "source": "# code here\n"
    },
    {
      "cell_type": "markdown",
      "metadata": {
        "cell_id": "ad3cd62ec9a84c98b2e5ae3c28472cc8",
        "deepnote_cell_type": "markdown"
      },
      "source": "<div class=\"discussion-question\">\n<h3>2.4 Discussion Question: Do you see support for the hypothesis in the graph? Explain. </h3>\n</div>"
    },
    {
      "cell_type": "markdown",
      "metadata": {
        "cell_id": "4ba73bd789154a96932e2cd8c786c52c",
        "deepnote_cell_type": "markdown"
      },
      "source": "## 3 Explore the Hypothesis with Categorical Versions of the Variables\nIn the previous section we used `loveable_quant` and `chill_quant`. In this section let's use `loveable_cat`  and `chill_cat` - categorical versions of the variables - instead."
    },
    {
      "cell_type": "markdown",
      "metadata": {
        "cell_id": "0597f95c43f34fc882c51ed625f73e24",
        "deepnote_cell_type": "markdown"
      },
      "source": "<div class=\"guided-notes\">\n\n### 3.1 Write a word equation to represent the hypothesis\nBe sure to use the categorical variable names in your word equation.\n    \n</div>"
    },
    {
      "cell_type": "markdown",
      "metadata": {
        "cell_id": "45792b129f5049f694b7f0e26e9bd418",
        "deepnote_cell_type": "markdown",
        "nbsimplegrader": {
          "config_key": "markdown.response",
          "editable": true,
          "label": "Response: Markdown",
          "respondable": true,
          "response": null,
          "runnable": true,
          "type": "markdown"
        }
      },
      "source": "word equation: "
    },
    {
      "cell_type": "markdown",
      "metadata": {
        "cell_id": "85787f8b85f34e208e3fc93fe58e4d10",
        "deepnote_cell_type": "markdown"
      },
      "source": "<div class=\"guided-notes\">\n\n### 3.2 Write R code to visualize the distribution of the outcome variable\nWhat do you notice about the distribution of this variable?\n \n</div>"
    },
    {
      "cell_type": "code",
      "execution_count": null,
      "metadata": {
        "cell_id": "7d3c812f12eb4a02a85f82524be1fcea",
        "deepnote_cell_type": "code",
        "nbsimplegrader": {
          "config_key": "code.response",
          "editable": true,
          "label": "Response: Code",
          "respondable": true,
          "response": null,
          "runnable": true,
          "type": "code"
        },
        "trusted": true
      },
      "outputs": [],
      "source": "# code here\n\n\n"
    },
    {
      "cell_type": "markdown",
      "metadata": {
        "cell_id": "c3415f635c9244ad965a6179fb56c41a",
        "deepnote_cell_type": "markdown"
      },
      "source": "<div class=\"discussion-question\">\n    <h3>3.3 Discussion Question: Can we adjust the binwidth for <code>loveable_cat</code>? Why or why not? </h3>\n</div>"
    },
    {
      "cell_type": "markdown",
      "metadata": {
        "cell_id": "2f312dc68609494ab68fe7f2f67094c3",
        "deepnote_cell_type": "markdown"
      },
      "source": "<div class=\"guided-notes\">\n\n### 3.4 Write R code to visualize the hypothesis\nWhat do you notice about the relationships between these categorical variables? \n</div>"
    },
    {
      "cell_type": "code",
      "execution_count": null,
      "metadata": {
        "cell_id": "efc6c64dbec144258c66f3c9d0311701",
        "deepnote_cell_type": "code",
        "nbsimplegrader": {
          "config_key": "code.response",
          "editable": true,
          "label": "Response: Code",
          "respondable": true,
          "response": null,
          "runnable": true,
          "type": "code"
        },
        "trusted": true
      },
      "outputs": [],
      "source": "# add onto this code \ngf_bar(~ loveable_cat, data = epic_char)"
    },
    {
      "cell_type": "markdown",
      "metadata": {
        "cell_id": "38dbe361927c47ec83d9a9b6fc525bfd",
        "deepnote_cell_type": "markdown"
      },
      "source": "<div class=\"discussion-question\">\n    <h3>3.5 Discussion Question: Do you see support for the hypothesis--that chill characters are more loveable--in the faceted bar graph? Does it make more sense for the outcome variable to be in the bars or in the facets? Explain. </h3>\n</div>"
    },
    {
      "cell_type": "markdown",
      "metadata": {
        "cell_id": "960dbc8011344586a4e5ff2002b33d8e",
        "deepnote_cell_type": "markdown"
      },
      "source": "### 3.6 The function `gf_bar` graph counts (the number of observations in each category).  How would we modify the code below to show proportions? Percents?\n\nTry functions such as `gf_props()` (shows the proportion), and `gf_percents()` (shows the percent). "
    },
    {
      "cell_type": "code",
      "execution_count": null,
      "metadata": {
        "cell_id": "73be6129f3364130a817bfa8d6eb9a84",
        "deepnote_cell_type": "code",
        "scrolled": false,
        "trusted": true
      },
      "outputs": [],
      "source": "# edit the code here\ngf_bar(~ loveable_cat, data = epic_char) %>%\n  gf_facet_grid(. ~ chill_cat)"
    },
    {
      "cell_type": "markdown",
      "metadata": {
        "cell_id": "f31eb3ee284a413594aab92f0480817e",
        "deepnote_cell_type": "markdown"
      },
      "source": "<div class=\"discussion-question\">\n    <h3>3.7 Discussion Question: The percent of characters that are chill and loveable is 97%; the percent of characters that are offended and loveable is 35%. Why don't these two bars add up to 100%?</h3>\n\n</div>"
    },
    {
      "cell_type": "markdown",
      "metadata": {
        "cell_id": "2bc46be957204a749172388df99bd4fd",
        "deepnote_cell_type": "markdown"
      },
      "source": "This just shows the gf_bar, gf_props, and gf_percents all at once.\n\n<img src=\"https://coursekata-course-assets.s3.us-west-1.amazonaws.com/UCLATALL/czi-stats-course/jnb-4.6-4.9-bar-props-percents.png\" alt=\"all three bar graphs\">  "
    },
    {
      "cell_type": "markdown",
      "metadata": {
        "cell_id": "65140ea19de24f94a5688f925f530788",
        "deepnote_cell_type": "markdown"
      },
      "source": "<div class=\"guided-notes\">\n    \n### 3.8 Write the R code that was used to make the gray graph in your guided notes.\n    \n</div>"
    },
    {
      "cell_type": "markdown",
      "metadata": {
        "cell_id": "ea6efc4f045a49b0b06c3cab951ff1d4",
        "deepnote_cell_type": "markdown"
      },
      "source": "## 4 Explore the Hypothesis with Contingency Tables\nUp to now we've been using bar graphs to explore the relationship between two categorical variables. Let's see how we could accomplish the same goal using contingency tables."
    },
    {
      "cell_type": "markdown",
      "metadata": {
        "cell_id": "29b674aaed5745618f2579856c0e06d0",
        "deepnote_cell_type": "markdown"
      },
      "source": "<div class=\"guided-notes\">\n    \n### 4.1 Write the R code to make the frequency tables that correspond to each graph in the guided notes\n\n</div>"
    },
    {
      "cell_type": "code",
      "execution_count": null,
      "metadata": {
        "cell_id": "e3894d44bf784fa0bb198a26a0cf151b",
        "deepnote_cell_type": "code",
        "trusted": true
      },
      "outputs": [],
      "source": "# code here\n"
    },
    {
      "cell_type": "markdown",
      "metadata": {
        "cell_id": "f5c10649bbcb4bb3afbef16b9f111aa1",
        "deepnote_cell_type": "markdown"
      },
      "source": "<div class=\"guided-notes\">\n\n### 4.2 Annotate the bar graphs with the corresponding numbers from the `tally()` output\n\n</div>"
    },
    {
      "cell_type": "markdown",
      "metadata": {
        "cell_id": "3fe6b75158994263bf4c20e4b34ca1ee",
        "deepnote_cell_type": "markdown"
      },
      "source": "## 5 Adding More Explanatory Variables to a Graph\nNow that we’ve seen how to visualize the relationship between one explanatory variable and an outcome, let’s try adding more explanatory variables."
    },
    {
      "cell_type": "markdown",
      "metadata": {
        "cell_id": "c077e9702343452f9b222e120d467c22",
        "deepnote_cell_type": "markdown"
      },
      "source": "<div class=\"discussion-question\">\n    \n### 5.1 Key Discussion Question: How would you write a word equation to express the hypothesis that **both** gender and chill explain variation in loveable?\n    \n</div>"
    },
    {
      "cell_type": "markdown",
      "metadata": {
        "cell_id": "29329f68b37f42b0b5555bd22d528c1e",
        "deepnote_cell_type": "markdown"
      },
      "source": "### 5.2 Using color to represent an additional explanatory variable\n\nWe've created a scatter plot below to show `loveable_quant` as a function of `chill_quant`. Try adding in the argument `color = ~gender` and see what happens.\n\n(Try using `shape` or `size` instead of `color` to see what happens.)"
    },
    {
      "cell_type": "code",
      "execution_count": null,
      "metadata": {
        "cell_id": "0c84937c806a46f5aa54b30bab985777",
        "deepnote_cell_type": "code",
        "trusted": true
      },
      "outputs": [],
      "source": "# edit this code \ngf_point(loveable_quant ~ chill_quant, data = epic_char) \n\n"
    },
    {
      "cell_type": "markdown",
      "metadata": {
        "cell_id": "14014e640cda4f1f8df96eec2613affb",
        "deepnote_cell_type": "markdown"
      },
      "source": "### 5.3 Using facets (`gf_facet_grid`) to represent an additional explanatory variable\n\nTry faceting this basic scatter plot by `gender`."
    },
    {
      "cell_type": "code",
      "execution_count": null,
      "metadata": {
        "cell_id": "72b8ca449ab74ce4a03fb0f8205765c9",
        "deepnote_cell_type": "code",
        "trusted": true
      },
      "outputs": [],
      "source": "# add facets to this\ngf_point(loveable_quant ~ chill_quant, data = epic_char) \n"
    },
    {
      "cell_type": "markdown",
      "metadata": {
        "cell_id": "4f52446e0e0949e9975d7878ab6434ea",
        "deepnote_cell_type": "markdown"
      },
      "source": "<div class=\"discussion-question\">\n    \n### 5.4 Key Discussion Question: What do these visualizations tell you about how gender and chill relate to loveable?\n    \n</div>"
    },
    {
      "cell_type": "markdown",
      "metadata": {
        "cell_id": "da42e81b8881480cbde62b90b70477ad",
        "deepnote_cell_type": "markdown"
      },
      "source": "<div class=\"guided-notes\">\n    \n### 5.5 Summarize: Fill in what you've learned today in the table of tools for visualizing relationships between two variables\n\n</div>"
    },
    {
      "cell_type": "markdown",
      "metadata": {
        "cell_id": "c0cd056305da42ec87dc903415ec4527",
        "deepnote_cell_type": "markdown"
      },
      "source": "<div class=\"guided-notes\">\n    \n### 5.6 Summarize: What are some ways you can add more explanatory variables to a visualization?\n\n</div>"
    },
    {
      "cell_type": "markdown",
      "metadata": {
        "cell_id": "4cce11ea1ad74ad68ded7e2a8af014b9",
        "deepnote_cell_type": "markdown"
      },
      "source": "## 6 Practice What You Learned\n\nTake a look at the `epic_characters` dataset — it includes 15 variables, compared to the 8 in `epic_char`. That gives you more to work with!"
    },
    {
      "cell_type": "code",
      "execution_count": null,
      "metadata": {
        "cell_id": "37517c08b6cb4eccbe6cea0f5799f93c",
        "deepnote_cell_type": "code",
        "scrolled": false,
        "trusted": true
      },
      "outputs": [],
      "source": "# write code\n"
    },
    {
      "cell_type": "markdown",
      "metadata": {
        "cell_id": "a298b4ba053a49f3bac44e4a075c9bf5",
        "deepnote_cell_type": "markdown"
      },
      "source": "### 6.1 Write a word equation that hypothesizes more than one explanatory variable to explain variation in `loveable_quant`)"
    },
    {
      "cell_type": "markdown",
      "metadata": {
        "cell_id": "90b953d0e01d4d68bd19f140f069e21e",
        "deepnote_cell_type": "markdown",
        "nbsimplegrader": {
          "config_key": "markdown.response",
          "editable": true,
          "label": "Response: Markdown",
          "respondable": true,
          "response": null,
          "runnable": true,
          "type": "markdown"
        }
      },
      "source": "word equation: "
    },
    {
      "cell_type": "markdown",
      "metadata": {
        "cell_id": "b06c3828831e4a6c95be4e8f5bb04b7f",
        "deepnote_cell_type": "markdown"
      },
      "source": "### 6.2 Use R to visualize your hypothesis"
    },
    {
      "cell_type": "code",
      "execution_count": null,
      "metadata": {
        "cell_id": "9270322be72e4bc5a9ed9acafa59df8e",
        "deepnote_cell_type": "code",
        "nbsimplegrader": {
          "config_key": "code.response",
          "editable": true,
          "label": "Response: Code",
          "respondable": true,
          "response": null,
          "runnable": true,
          "type": "code"
        },
        "trusted": true
      },
      "outputs": [],
      "source": "# visualization\n"
    },
    {
      "cell_type": "markdown",
      "metadata": {
        "cell_id": "bb646e4b18344449afdc775593cea179",
        "deepnote_cell_type": "markdown"
      },
      "source": "### 6.3 Write a word equation that hypothesizes more than one explanatory variable to explain variation in `loveable_cat`)"
    },
    {
      "cell_type": "markdown",
      "metadata": {
        "cell_id": "26853e43cbf940e691d105b1945b5d14",
        "deepnote_cell_type": "markdown",
        "nbsimplegrader": {
          "config_key": "markdown.response",
          "editable": true,
          "label": "Response: Markdown",
          "respondable": true,
          "response": null,
          "runnable": true,
          "type": "markdown"
        }
      },
      "source": "word equation: "
    },
    {
      "cell_type": "markdown",
      "metadata": {
        "cell_id": "ef1dfdcade2448cdb091fd58b9cc149e",
        "deepnote_cell_type": "markdown"
      },
      "source": "### 6.4 Use R to visualize your hypothesis"
    },
    {
      "cell_type": "code",
      "execution_count": null,
      "metadata": {
        "cell_id": "31c793695a944e8a94a23050d5e59b97",
        "deepnote_cell_type": "code",
        "nbsimplegrader": {
          "config_key": "code.response",
          "editable": true,
          "label": "Response: Code",
          "respondable": true,
          "response": null,
          "runnable": true,
          "type": "code"
        },
        "trusted": true
      },
      "outputs": [],
      "source": "# visualization\n"
    }
  ],
  "metadata": {
    "deepnote_notebook_id": "8f91d4cf4bc14c3da7a8d34b72849ef1",
    "kernelspec": {
      "display_name": "R",
      "language": "R",
      "name": "ir"
    },
    "language_info": {
      "codemirror_mode": "r",
      "file_extension": ".r",
      "mimetype": "text/x-r-source",
      "name": "R",
      "pygments_lexer": "r",
      "version": "4.3.3"
    },
    "nbsimplegrader": {
      "publish_config": {
        "classes": [],
        "options": [],
        "tools": []
      }
    }
  },
  "nbformat": 4,
  "nbformat_minor": 1
}