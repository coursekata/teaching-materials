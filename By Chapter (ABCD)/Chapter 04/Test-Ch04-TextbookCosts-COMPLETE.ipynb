{
  "cells": [
    {
      "cell_type": "markdown",
      "metadata": {
        "cell_id": "a25086fd07f34992af990088414f1183",
        "deepnote_cell_type": "markdown",
        "tags": []
      },
      "source": "<div class=\"alert alert-block alert-danger\">\n\n# <center>Test (Ch. 1-4): Textbook Costs (Complete)</center> \n\n</div>"
    },
    {
      "cell_type": "code",
      "execution_count": null,
      "metadata": {
        "cell_id": "d32550d9cb784c34a004e7108f2e7d67",
        "deepnote_cell_type": "code",
        "deepnote_to_be_reexecuted": false,
        "execution_millis": 1253,
        "execution_start": 1665699747839,
        "source_hash": "b3fc0524",
        "tags": [],
        "trusted": true
      },
      "outputs": [],
      "source": "# Run this code to load the required packages\nsuppressMessages(suppressWarnings(suppressPackageStartupMessages({\n  library(coursekata)\n})))"
    },
    {
      "cell_type": "markdown",
      "metadata": {
        "cell_id": "26d40c11514249ed8d6f0661c2983c7e",
        "deepnote_cell_type": "markdown",
        "tags": []
      },
      "source": "Data frame name (preloaded in R): `TextbookCosts`\n\nA liberal arts college was interested in how expensive textbooks were for their students. They compiled the cost of textbooks from forty different courses across four disciplines. For each course the bookstore's website lists the required text(s), how many textbooks were required for that class, and the total cost for the required books. Data were collected for the Fall 2011 semester.\n\nVariables: There are three variables in the data frame.\n\n- `Field`: General discipline of the course (Arts, Humanities, NaturalScience, or SocialScience)\n\n- `Books`: Number of books required for that course\n\n- `Cost`: Total cost (in dollars) for required books\n"
    },
    {
      "cell_type": "markdown",
      "metadata": {
        "cell_id": "379ecec1dc1b40b091ba7584323e14d9",
        "deepnote_cell_type": "markdown",
        "tags": []
      },
      "source": "### Question 1\n\nWhat are the cases in this data frame?"
    },
    {
      "cell_type": "markdown",
      "metadata": {
        "cell_id": "f36d3fadecda46398307849d8b44578d",
        "deepnote_cell_type": "markdown",
        "tags": []
      },
      "source": "<div class=\"alert alert-block alert-warning\">\n\n**Sample Response**\n\nThe cases are college courses.\n\n</div>"
    },
    {
      "cell_type": "markdown",
      "metadata": {
        "cell_id": "189b676f24924213993f3231edc9880b",
        "deepnote_cell_type": "markdown",
        "tags": []
      },
      "source": "### Question 2\n\nThere are courses that required students to purchase 9 books! How many courses required this many books?"
    },
    {
      "cell_type": "code",
      "execution_count": null,
      "metadata": {
        "cell_id": "d74e36c7428a4598867ee7d99e65483e",
        "deepnote_cell_type": "code",
        "deepnote_to_be_reexecuted": false,
        "execution_millis": 37,
        "execution_start": 1630602171785,
        "source_hash": "343ed419",
        "tags": [],
        "trusted": true
      },
      "outputs": [],
      "source": "tally(Books~Field, data = TextbookCosts)"
    },
    {
      "cell_type": "markdown",
      "metadata": {
        "cell_id": "28007b9222454fb59dc06d8c31726821",
        "deepnote_cell_type": "markdown",
        "tags": []
      },
      "source": "<div class=\"alert alert-block alert-warning\">\n\n**Sample Response**\n\nTwo courses (Humanities and SocialScience) required 9 books.\n\n</div>"
    },
    {
      "cell_type": "markdown",
      "metadata": {
        "cell_id": "9073b4e19b8b4a38a269aecb6626c3ba",
        "deepnote_cell_type": "markdown",
        "tags": []
      },
      "source": "### Question 3\n\nWhat percentage of courses required students to purchase more than 1 book? Write R code that would give you the answer to this question as well as the percentage.\n"
    },
    {
      "cell_type": "code",
      "execution_count": null,
      "metadata": {
        "cell_id": "6c0d125da10c41fca203a136b0697c5c",
        "deepnote_cell_type": "code",
        "deepnote_to_be_reexecuted": false,
        "execution_millis": 29,
        "execution_start": 1630602171888,
        "source_hash": "66984de9",
        "tags": [],
        "trusted": true
      },
      "outputs": [],
      "source": "tally(~Books >1,  data = TextbookCosts, format = \"proportion\")"
    },
    {
      "cell_type": "markdown",
      "metadata": {
        "cell_id": "b6e5702940f64f108c2ab17cb61bf894",
        "deepnote_cell_type": "markdown",
        "tags": []
      },
      "source": "### Question 4\n\nAlthough they tell us the total cost of textbooks for a course, we cannot tell how much each individual book in the course cost students. Let’s say we want to create a new variable called **averagebookcost** in this `TextbookCosts` data frame. We can calculate this by taking the total cost and dividing by the number of books required. Write code to create such a variable in this data frame. "
    },
    {
      "cell_type": "code",
      "execution_count": null,
      "metadata": {
        "cell_id": "b8cf8281aec2431e8507168d40b47e11",
        "deepnote_cell_type": "code",
        "deepnote_to_be_reexecuted": false,
        "execution_millis": 35,
        "execution_start": 1630602171920,
        "source_hash": "c05da434",
        "tags": [],
        "trusted": true
      },
      "outputs": [],
      "source": "TextbookCosts$averagebookcost <- TextbookCosts$Cost/TextbookCosts$Books\nhead(TextbookCosts)"
    },
    {
      "cell_type": "markdown",
      "metadata": {
        "cell_id": "aabcbf2df3074625b694d0b59fe16a71",
        "deepnote_cell_type": "markdown",
        "tags": []
      },
      "source": "### Question 5\n\nCreate a histogram to look at the variation in `Cost` in R.\n"
    },
    {
      "cell_type": "code",
      "execution_count": null,
      "metadata": {
        "cell_id": "d40d505ef5f846aca8d300d9f6dff6a6",
        "deepnote_cell_type": "code",
        "deepnote_to_be_reexecuted": false,
        "execution_millis": 386,
        "execution_start": 1630602171993,
        "output_cleared": false,
        "source_hash": "9e782665",
        "tags": [],
        "trusted": true
      },
      "outputs": [],
      "source": "gf_histogram(~Cost, data = TextbookCosts)"
    },
    {
      "cell_type": "markdown",
      "metadata": {
        "cell_id": "4fc5c4d08bd441b89e9453695e20ad21",
        "deepnote_cell_type": "markdown",
        "tags": []
      },
      "source": "### Question 6\n\nSome people might look at the histogram and assume `Cost` meant the cost of individual textbooks rather than the total cost of textbooks for a course. Write some code to provide a clearer label for the x-axis. "
    },
    {
      "cell_type": "code",
      "execution_count": null,
      "metadata": {
        "cell_id": "5401bc2fb11645de87a28f0c02da678f",
        "deepnote_cell_type": "code",
        "deepnote_to_be_reexecuted": false,
        "execution_millis": 239,
        "execution_start": 1630602172414,
        "output_cleared": false,
        "source_hash": "b59c4997",
        "tags": [],
        "trusted": true
      },
      "outputs": [],
      "source": "gf_histogram(~Cost, data = TextbookCosts)%>%gf_labs(x= \"Total Cost of Books per Course\")"
    },
    {
      "cell_type": "markdown",
      "metadata": {
        "cell_id": "4c7585d1e3034309b363219b1a16f09a",
        "deepnote_cell_type": "markdown",
        "tags": []
      },
      "source": "### Question 7\n\nWhat are some things you notice about the distribution (think: shape, center, spread, and weird things).\n"
    },
    {
      "cell_type": "markdown",
      "metadata": {
        "cell_id": "023ead7c76d147acad6f5f4486eee042",
        "deepnote_cell_type": "markdown",
        "tags": []
      },
      "source": "<div class=\"alert alert-block alert-warning\">\n\n**Sample Response**\n\nThe shape is roughly normal. The center is around \\$125. The average spread is about \\$50-\\$75, and there are a few courses less than \\$50, but some courses as high as \\$250.\n\n</div>"
    },
    {
      "cell_type": "markdown",
      "metadata": {
        "cell_id": "e20bf092831547d198eb41fd1f37defd",
        "deepnote_cell_type": "markdown",
        "tags": []
      },
      "source": "### Question 8\n\nAre courses in some disciplines more expensive than others? Write a word equation to explain the variation in `Cost` with `Field`. "
    },
    {
      "cell_type": "markdown",
      "metadata": {
        "cell_id": "bfec03735ca549fbbdbe6c30d769cd2a",
        "deepnote_cell_type": "markdown",
        "tags": []
      },
      "source": "<div class=\"alert alert-block alert-warning\">\n\n**Sample Response**\n\nCost = Field + Other Stuff\n\n</div>"
    },
    {
      "cell_type": "markdown",
      "metadata": {
        "cell_id": "acc3bc9a9fa3463892c1d51563962b32",
        "deepnote_cell_type": "markdown",
        "tags": []
      },
      "source": "### Question 9\n\nIf you look at the histogram for `Cost`, you’ll see that the most expensive course costs nearly $250. What `Field` is that course in? "
    },
    {
      "cell_type": "code",
      "execution_count": null,
      "metadata": {
        "cell_id": "326e060c88454a6aa1faa1d75927ede0",
        "deepnote_cell_type": "code",
        "deepnote_to_be_reexecuted": false,
        "execution_millis": 43,
        "execution_start": 1630602172660,
        "output_cleared": false,
        "source_hash": "716ff159",
        "tags": [],
        "trusted": true
      },
      "outputs": [],
      "source": "head(arrange(TextbookCosts, desc(Cost)),5)"
    },
    {
      "cell_type": "markdown",
      "metadata": {
        "cell_id": "f3b99cff5d04414f848067889cab1249",
        "deepnote_cell_type": "markdown",
        "tags": []
      },
      "source": "<div class=\"alert alert-block alert-warning\">\n\n**Sample Response**\n\nThe field is NaturalScience (\\$246).\n\n</div>"
    },
    {
      "cell_type": "markdown",
      "metadata": {
        "cell_id": "b2ece4345fe74bfb9177a0730ff44363",
        "deepnote_cell_type": "markdown",
        "tags": []
      },
      "source": "### Question 10\n\nCreate a faceted histogram to explore whether `Field` explains some of the variation in `Cost`."
    },
    {
      "cell_type": "code",
      "execution_count": null,
      "metadata": {
        "cell_id": "60d65c3d2b99493682b35a58c64b95e1",
        "deepnote_cell_type": "code",
        "deepnote_to_be_reexecuted": false,
        "execution_millis": 427,
        "execution_start": 1630602172700,
        "source_hash": "65f09e07",
        "tags": [],
        "trusted": true
      },
      "outputs": [],
      "source": "gf_histogram(~Cost, data = TextbookCosts)%>%gf_facet_grid(Field~.)"
    },
    {
      "cell_type": "markdown",
      "metadata": {
        "cell_id": "5c07a366d0944f0b932ec3e5d3ab813a",
        "deepnote_cell_type": "markdown",
        "tags": []
      },
      "source": "### Question 11\n\nCreate a boxplot to explore whether `Field` explains some of the variation in `Cost`."
    },
    {
      "cell_type": "code",
      "execution_count": null,
      "metadata": {
        "cell_id": "f841aa97b2ce4000aa31a73eac11376c",
        "deepnote_cell_type": "code",
        "deepnote_to_be_reexecuted": false,
        "execution_millis": 249,
        "execution_start": 1630602173142,
        "source_hash": "34021778",
        "tags": [],
        "trusted": true
      },
      "outputs": [],
      "source": "gf_boxplot(Cost~Field, data = TextbookCosts)"
    },
    {
      "cell_type": "markdown",
      "metadata": {
        "cell_id": "c197cd98ee144651807e267231129b22",
        "deepnote_cell_type": "markdown",
        "tags": []
      },
      "source": "### Question 12\n\nDoes `Field` appear to explain some of the variation in `Cost`? Explain what you are looking for in these plots that would show that `Field` does indeed explain some of the variation in `Cost`."
    },
    {
      "cell_type": "markdown",
      "metadata": {
        "cell_id": "bd5ed6165d4f4a9c90682be89be1ed1a",
        "deepnote_cell_type": "markdown",
        "tags": []
      },
      "source": "<div class=\"alert alert-block alert-warning\">\n\n**Sample Response**\n\nYes, we can see the histogram and boxplot for NaturalScience is shifted toward a much higher cost of books per course compared to the distributions for the other 3 fields.\n\n</div>"
    },
    {
      "cell_type": "markdown",
      "metadata": {
        "cell_id": "98fde7ed371041e7b84e68862e87ae8a",
        "deepnote_cell_type": "markdown",
        "tags": []
      },
      "source": "## Question 13\n\nThe set of boxplots (LEFT) is the real sample. The second set of boxplots (RIGHT) have been shuffled (the values for `Cost` have been shuffled and the values for `Field` have been shuffled). \n\n|                                                                           |                                                                           | \n|---------------------------------------------------------------------------|---------------------------------------------------------------------------|\n|<img src=\"https://imgur.com/MzC0rLK.png\" title=\"Cost Boxplot\" width=\"100%\"/>|<img src=\"https://imgur.com/O6kkLFK.png\" title=\"Cost Shuffle Boxplot\" width=\"100%\"/>|\n\nThe instructor points to the shuffled boxplots and says, “Here, the distribution of costs for Social Science courses are generally lower than the other three box plots. This shuffled boxplot provides evidence that social science courses are cheaper than courses in those three other subject areas.” The instructor is wrong. Explain why.\n"
    },
    {
      "cell_type": "markdown",
      "metadata": {
        "cell_id": "c6b2a8738bb24a5aa1d613299fce769a",
        "deepnote_cell_type": "markdown",
        "tags": []
      },
      "source": "<div class=\"alert alert-block alert-warning\">\n\n**Sample Response**\n\nThe instructor is wrong because all of the values have been shuffled, removing any relationship (other than a random one) there may be between Cost and Field.\n\n</div>"
    }
  ],
  "metadata": {
    "deepnote_notebook_id": "d482fc646e6d42dc83068f007670ec2c",
    "kernelspec": {
      "display_name": "R",
      "language": "R",
      "name": "ir"
    },
    "language_info": {
      "codemirror_mode": "r",
      "file_extension": ".r",
      "mimetype": "text/x-r-source",
      "name": "R",
      "pygments_lexer": "r",
      "version": "4.3.3"
    },
    "nbsimplegrader": {
      "publish_config": {
        "classes": [],
        "options": [],
        "tools": []
      }
    }
  },
  "nbformat": 4,
  "nbformat_minor": 1
}