{
  "cells": [
    {
      "metadata": {},
      "id": "1e54f44f",
      "cell_type": "markdown",
      "source": "# Categorical, and More-Than-One, Explanatory Variables (COMPLETE)\n\n## Chapter 4.6-4.9 Overview Notebook"
    },
    {
      "metadata": {
        "trusted": true
      },
      "id": "56f82756",
      "cell_type": "code",
      "source": "# run this to set up the notebook\nlibrary(coursekata)\n\n# read in data\nepic_char <- read.csv(\"https://docs.google.com/spreadsheets/d/1lIQJUqAmZTgBnuRw4DfR8_S-K_moYJH5gsnCEnMZ_BI/export?format=csv&gid=808955994\") %>%\n  select(char_name, uni_name, gender, chill_quant, chill_cat, loveable_quant, loveable_cat)\nepic_characters <- read.csv(\"https://docs.google.com/spreadsheets/d/1lIQJUqAmZTgBnuRw4DfR8_S-K_moYJH5gsnCEnMZ_BI/export?format=csv&gid=808955994\")\n\n# set styles\ncss <- suppressWarnings(readLines(\"https://raw.githubusercontent.com/jimstigler/jupyter/master/ck_jupyter_styles_v2.css\"))\nIRdisplay::display_html(sprintf('<style>%s</style>', paste(css, collapse = \"\\n\")))",
      "execution_count": null,
      "outputs": []
    },
    {
      "metadata": {},
      "id": "2ba041dd",
      "cell_type": "markdown",
      "source": "<div class=\"teacher-note\">\n<b>Section Goals:</b> In this section students will further expand their understanding of what it means to explain variation in one variable with another to include cases where both the outcome and the explanatory variable are categorical, and cases where there is more than one explanatory variable. They will learn to visualize these relationships with faceted bar graphs, contingency tables, and the use of color. \n\n- Students will expand their use of word equations to represent hypothesized relationships when the outcome variable is categorical, which is a good chance to review the distinction between a variable (e.g., gender) and its possible values (female and male).\n- Students will use R to create faceted bar graphs and contingency tables, and should also be allowed to explore why other visualizations (e.g., faceted histograms or scatter plots) are not useful for visualizing categorical outcome variables.\n- Students should understand when proportions (gf_props, or tally with format = “proportion”) might be preferable to frequencies and vice versa.\n- Students will learn to represent multivariate hypotheses with word equations, and to visualize them using attributes such color, size, shape, and multiple facets in their plots.\n- Students will also begin to think more abstractly about what it means to explain variation, categorizing the sources of variation in an outcome variable as explained or unexplained (what we have termed “other stuff” in our word equations).\n- Students will understand that adding more explanatory variables will reduce the amount of unexplained variation; and that unexplained variation can be further divided into variation that is explainable and variation that is unexplainable.\n\n\n    </ul>\n    A <a href=\"https://docs.google.com/document/d/1NpnhdgY3jXPMyvD2XQ4uBJtEHsKS9gdAA3vw4rJ9juA/edit?tab=t.ruav1w6j7tle\" target=\"_blank\">printable student guided-notes worksheet</a> is available to go with this Jupyter notebook, as well as a student version of this notebook.\n</div>"
    },
    {
      "metadata": {},
      "id": "87070fa8",
      "cell_type": "markdown",
      "source": "## 1 The `epic_char` Data Frame\n\nThe `epic_char` data frame contains data on 81 fictional characters from various epic universes (including the Marvel Cinematic Universe, Star Wars, Dark Knight, Harry Potter, and Lord of the Rings). Each character was rated on a number of character traits by more than 3 million volunteers as part of the [Open Psychometrics Project](https://openpsychometrics.org/tests/characters/). \n\nFor example, volunteers were presented with the character Darth Vader (from *Star Wars*), and asked to indicate, using a slider, where Darth Vader would fall on a 100-point scale from punchable (coded as 0) to loveable (100). The average rating for a subset of these dimensions is saved in the `epic_char` data frame. The data frame includes 8 variables.\n\n<img src=\"https://coursekata-course-assets.s3.us-west-1.amazonaws.com/UCLATALL/czi-stats-course/jnb-rate-characters.jpg\" alt=\"example of how people rated a character with a slider\" width = 50%>\n\n### The Variables\n\n- `char_name` The character's name.\t\n- `uni_name` The universe name of the book, game, movie, or TV show.\n- `gender` The gender of the character (M=Male, F=Female).\n- `chill_quant` Average rating of how chill (vs offended) the character is on a scale from 0 (offended) to 100 (chill).\n- `chill_cat` Coded as *offended* if the character had a score less than 50 on `chill_quant` and *chill* otherwise\n- `loveable_quant` Average rating of how loveable (vs punchable) the character is on a scale from 0 (punchable) to 100 (loveable).\n- `loveable_cat` Coded as *punchable* if the character had a score less than 50 on `loveable_quant` and *loveable* otherwise\n\n#### Data Source: \n\nThe complete data set from which `epic_char` was drawn was made available by Tanya Shapiro as a [Tidy Tuesday data set](https://github.com/rfordatascience/tidytuesday/tree/master/data/2022/2022-08-16)."
    },
    {
      "metadata": {},
      "id": "ca6723c3",
      "cell_type": "markdown",
      "source": "### 1.1 An excerpt from the `epic_char` data frame is below (and also available in your guide notes). What are the rows? The columns? The values?"
    },
    {
      "metadata": {},
      "id": "78393a36",
      "cell_type": "markdown",
      "source": "<img src=\"https://coursekata-course-assets.s3.us-west-1.amazonaws.com/UCLATALL/czi-stats-course/jnb-4.6-4.9-data-table.png\" alt=\"example of how people rated a character with a slider\" width = 90%>"
    },
    {
      "metadata": {},
      "id": "57d05c0e",
      "cell_type": "markdown",
      "source": "<div class=\"teacher-note\">\n<b>Teacher note:</b> Give students a little time to familiarize themselves with the structure of the data set. \n    \n<b>Sample responses:</b>\n\n- Each row is a character.\n- Each column is a variable that tells us some piece of information about the character. \n- The contents of the cells are <i>values</i>. \n    - The values in <code>chill_quant</code> and <code>loveable_quant</code> represent average ratings across many volunteer raters. \n    - The values in <code>chill_cat</code> and <code>loveable_cat</code> are words.\n</div>"
    },
    {
      "metadata": {},
      "id": "a7146bdc",
      "cell_type": "markdown",
      "source": "<div class=\"discussion-question\">\n<h3>1.2 Discussion Question: Do you agree with how each character was rated? Why or why not? </h3>\n</div>"
    },
    {
      "metadata": {},
      "id": "f3647c4f",
      "cell_type": "markdown",
      "source": "<div class=\"guided-notes\">\n    \n### 1.3 Fill in the missing values in the data frame\n    \nUse the `chill_quant` and `loveable_quant` values to fill in the missing `chill_cat` and `loveable_cat` columns.\n    \n</div>"
    },
    {
      "metadata": {},
      "id": "de740468",
      "cell_type": "markdown",
      "source": "<div class=\"guided-notes\">\n    \n### 1.4 Circle/highlight the names of all the *categorical* variables\n\nHow can you tell a variable is categorical?\n\n</div>"
    },
    {
      "metadata": {},
      "id": "57d05c0e",
      "cell_type": "markdown",
      "source": "<div class=\"teacher-note\">\n\n<b>Sample responses:</b>\n\n- Categorical variables only take a few distinct values.\n- They often use words or labels instead of numbers (like ‘chill’ vs. ‘offended’).\n- Even if they’re coded as numbers, they represent groups, not amounts.\n    \n</div>"
    },
    {
      "metadata": {},
      "id": "585b575d",
      "cell_type": "markdown",
      "source": "## 2 Exploring a Hypothesis: Characters Who Are More Chill Tend to Be More Loveable\nWe will start by using the quantitative versions of the two variables: `chill_quant` and `loveable_quant`"
    },
    {
      "metadata": {},
      "id": "be297553",
      "cell_type": "markdown",
      "source": "<div class=\"guided-notes\">\n\n### 2.1 Write a word equation to represent the hypothesis\n    \n</div>"
    },
    {
      "metadata": {
        "nbsimplegrader": {
          "config_key": "markdown.response",
          "type": "markdown",
          "label": "Response: Markdown",
          "runnable": true,
          "editable": true,
          "respondable": true,
          "response": null
        }
      },
      "id": "4907d54a",
      "cell_type": "markdown",
      "source": "word equation: "
    },
    {
      "metadata": {},
      "id": "f0ec58f8",
      "cell_type": "markdown",
      "source": "<div class=\"teacher-note\">\n    \n<b>Sample response:</b>\nloveable_quant = chill_quant + other stuff\n</div>"
    },
    {
      "metadata": {},
      "id": "36cf7304",
      "cell_type": "markdown",
      "source": "<div class=\"guided-notes\">\n\n### 2.2 Write R code to visualize the distribution of the outcome variable\nWhat do you notice about the distribution of this variable?\n \n</div>"
    },
    {
      "metadata": {
        "nbsimplegrader": {
          "config_key": "code.response",
          "type": "code",
          "label": "Response: Code",
          "runnable": true,
          "editable": true,
          "respondable": true,
          "response": null
        },
        "trusted": true
      },
      "id": "906523a9",
      "cell_type": "code",
      "source": "# code here\n\n# sample response\ngf_histogram(~ loveable_quant, data = epic_char, bins = 10)",
      "execution_count": null,
      "outputs": []
    },
    {
      "metadata": {},
      "id": "57d05c0e",
      "cell_type": "markdown",
      "source": "<div class=\"teacher-note\">\n\n<b>Sample responses:</b>\n\n- The distribution is a little skewed toward the high end (closer to 100).\n- Most characters fall between 40 and 80 on loveable_quant.\n- There are only a few characters who are really unloveable (below 40) or extremely loveable (above 90).\n- It’s not super skewed, but it’s not perfectly symmetrical either.\n\n<b>Teacher Note:</b> Nudge students to notice shape, center, spread of distributions.\n    \n</div>"
    },
    {
      "metadata": {},
      "id": "a8306af2",
      "cell_type": "markdown",
      "source": "<div class=\"guided-notes\">\n\n### 2.3 Write R code to visualize the hypothesis\nWhat do you notice about the relationships between these quantitative variables? \n</div>"
    },
    {
      "metadata": {
        "trusted": true
      },
      "id": "df689d5c",
      "cell_type": "code",
      "source": "# code here\ngf_point(loveable_quant ~ chill_quant, data = epic_char)",
      "execution_count": null,
      "outputs": []
    },
    {
      "metadata": {},
      "id": "57d05c0e",
      "cell_type": "markdown",
      "source": "<div class=\"teacher-note\">\n\n<b>Sample responses:</b>\n\n- Positive relationship, more chill characters are rated as more loveable. Less chill characters tend to be less loveable.\n- Not a perfect relationship: some characters are pretty chill but not very beloved.\n    \n</div>"
    },
    {
      "metadata": {},
      "id": "38acbb8c",
      "cell_type": "markdown",
      "source": "<div class=\"discussion-question\">\n<h3>2.4 Discussion Question: Do you see support for the hypothesis in the graph? Explain. </h3>\n</div>"
    },
    {
      "metadata": {},
      "id": "d20a33bc",
      "cell_type": "markdown",
      "source": "## 3 Explore the Hypothesis with Categorical Versions of the Variables\nIn the previous section we used `loveable_quant` and `chill_quant`. In this section let's use `loveable_cat`  and `chill_cat` - categorical versions of the variables - instead."
    },
    {
      "metadata": {},
      "id": "7fa39974",
      "cell_type": "markdown",
      "source": "<div class=\"guided-notes\">\n\n### 3.1 Write a word equation to represent the hypothesis\nBe sure to use the categorical variable names in your word equation.\n    \n</div>"
    },
    {
      "metadata": {
        "nbsimplegrader": {
          "config_key": "markdown.response",
          "type": "markdown",
          "label": "Response: Markdown",
          "runnable": true,
          "editable": true,
          "respondable": true,
          "response": null
        }
      },
      "id": "a7f838af",
      "cell_type": "markdown",
      "source": "word equation: "
    },
    {
      "metadata": {},
      "id": "09ae81af",
      "cell_type": "markdown",
      "source": "<div class=\"teacher-note\">\n    \n<b>Sample response:</b>\nloveable_cat = chill_cat + other stuff\n</div>"
    },
    {
      "metadata": {},
      "id": "13046e75",
      "cell_type": "markdown",
      "source": "<div class=\"guided-notes\">\n\n### 3.2 Write R code to visualize the distribution of the outcome variable\nWhat do you notice about the distribution of this variable?\n \n</div>"
    },
    {
      "metadata": {},
      "id": "fc107b40",
      "cell_type": "markdown",
      "source": "<div class=\"teacher-note\">\n    <b>Teacher note:</b> Allow students some time to discover that the same visualizations used for quantitative variables don't work for categorical variables. The best tool for visualizing the outcome will be a bar graph (<code>gf_bar()</code>). The best tool for visualizating the relationship will be a faceted bar graph.\n</div>"
    },
    {
      "metadata": {
        "trusted": true
      },
      "id": "53360966",
      "cell_type": "code",
      "source": "# code here\n\n# sample responses\ngf_bar(~ loveable_cat, data = epic_char)\n\n# it may be helpful to show students the errors that arise from trying to use a histogram\n#gf_histogram(~ loveable_cat, data = epic_char)\n",
      "execution_count": null,
      "outputs": []
    },
    {
      "metadata": {},
      "id": "bb5b9ef2",
      "cell_type": "markdown",
      "source": "<div class=\"discussion-question\">\n    <h3>3.3 Discussion Question: Can we adjust the binwidth for <code>loveable_cat</code>? Why or why not? </h3>\n</div>"
    },
    {
      "metadata": {},
      "id": "0cd59fe8",
      "cell_type": "markdown",
      "source": "<div class=\"teacher-note\">\n<b>Teacher note:</b> \n\n- Bar graphs for categorical variables do not use bins in the same way histograms do.\nBar graphs display frequencies of named categories (e.g., \"loveable\", \"punchable\").\n- In bar graphs, there is no numeric continuum to split up into bins. The categories are already defined.\n- As a follow up, you may want to show students how a bar graph of `loveable_quant` would have very skinny bars: `gf_bar(~ loveable_quant, data = epic_char)`\n</div>\n"
    },
    {
      "metadata": {},
      "id": "1bb111c1",
      "cell_type": "markdown",
      "source": "<div class=\"guided-notes\">\n\n### 3.4 Write R code to visualize the hypothesis\nWhat do you notice about the relationships between these categorical variables? \n</div>"
    },
    {
      "metadata": {
        "trusted": true
      },
      "id": "4702caf6",
      "cell_type": "code",
      "source": "# add onto this code \ngf_bar(~ loveable_cat, data = epic_char)\n\n# sample response\ngf_bar(~ loveable_cat, data = epic_char) %>%\n  gf_facet_grid(. ~ chill_cat)\n\n# you can try switching which variable is faceted\n#gf_bar(~ chill_cat, data = epic_char) %>%\n#  gf_facet_grid(. ~ loveable_cat)",
      "execution_count": null,
      "outputs": []
    },
    {
      "metadata": {},
      "id": "ff48daa4",
      "cell_type": "markdown",
      "source": "<div class=\"teacher-note\">\n    <b>Teacher note:</b> \n    \nIt tends to make most sense to start with the outcome variable, then use the explanatory variable for the facets. Try switching the order of the variables (i.e., which one is in the bars, and which in the facets) and helping students notice the difference. (See the discussion question below.) There's no one right way to do this!\n</div>"
    },
    {
      "metadata": {},
      "id": "0a9286bc",
      "cell_type": "markdown",
      "source": "<div class=\"discussion-question\">\n    <h3>3.5 Discussion Question: Do you see support for the hypothesis--that chill characters are more loveable--in the faceted bar graph? Does it make more sense for the outcome variable to be in the bars or in the facets? Explain. </h3>\n</div>"
    },
    {
      "metadata": {},
      "id": "7b264157",
      "cell_type": "markdown",
      "source": "<div class=\"teacher-note\">\n<b>Sample responses:</b> \n\n- There are more loveable characters (than punchable) in the chill facet.\n- There are fewer loveable characters (than punchable) in the offended facet. \n- Since our hypothesis is about whether chill characters (explanatory variable) tend to be more loveable (outcome), it makes sense for counts of <code>loveable_cat</code> to be in the bars and <code>chill_cat</code> to be in the facets.\n- If you changed it to have counts of <code>chill_cat</code> in the bars and <code>loveable_cat</code> in the facets, we would be able to see whether loveable characters tend to be chill.\n\n</div>\n"
    },
    {
      "metadata": {},
      "id": "73e7151c",
      "cell_type": "markdown",
      "source": "### 3.6 The function `gf_bar` graph counts (the number of observations in each category).  How would we modify the code below to show proportions? Percents?\n\nTry functions such as `gf_props()` (shows the proportion), and `gf_percents()` (shows the percent). "
    },
    {
      "metadata": {
        "scrolled": false,
        "trusted": true
      },
      "id": "82170963",
      "cell_type": "code",
      "source": "# edit the code here\ngf_bar(~ loveable_cat, data = epic_char) %>%\n  gf_facet_grid(. ~ chill_cat)\n  \n# sample responses (just change out gf_bar)\ngf_props(~ loveable_cat, data = epic_char) %>%\n  gf_facet_grid(. ~ chill_cat)\n  \ngf_percents(~ loveable_cat, data = epic_char) %>%\n  gf_facet_grid(. ~ chill_cat)",
      "execution_count": null,
      "outputs": []
    },
    {
      "metadata": {},
      "id": "33298dc5",
      "cell_type": "markdown",
      "source": "<div class=\"discussion-question\">\n    <h3>3.7 Discussion Question: The percent of characters that are chill and loveable is 97%; the percent of characters that are offended and loveable is 35%. Why don't these two bars add up to 100%?</h3>\n\n</div>"
    },
    {
      "metadata": {},
      "id": "17023d87",
      "cell_type": "markdown",
      "source": "<div class=\"teacher-note\">\n<b>Teacher note:</b> \n\n- If you look at the two bars within the chill category, the percentages of loveable and punchable will add up to 100%. The same is true for the two offended bars.\n- But if you try to add the percentages of chill and offended within the loveable category, they won't add up to 100%. \n- These percentages help us answer the question: \"Of the characters who are chill, what percent are loveable?\" — not \"What percent of all loveable characters are chill?\"\n- This way of adding up to 100% within each chill category lets us directly compare how likely a chill character is to be loveable versus how likely an offended character is to be loveable — which is exactly what our hypothesis (characters who are chill tend to be more loveable) is about.\n</div>\n"
    },
    {
      "metadata": {},
      "id": "14af8a27",
      "cell_type": "markdown",
      "source": "<img src=\"https://coursekata-course-assets.s3.us-west-1.amazonaws.com/UCLATALL/czi-stats-course/jnb-4.6-4.9-bar-props-percents.png\" alt=\"all three bar graphs\">  "
    },
    {
      "metadata": {},
      "id": "abfadb01",
      "cell_type": "markdown",
      "source": "<div class=\"guided-notes\">\n    \n### 3.8 Write the R code that was used to make the gray graph in your guided notes.\n    \n</div>"
    },
    {
      "metadata": {},
      "id": "03137afb",
      "cell_type": "markdown",
      "source": "## 4 Explore the Hypothesis with Contingency Tables\nUp to now we've been using bar graphs to explore the relationship between two categorical variables. Let's see how we could accomplish the same goal using contingency tables."
    },
    {
      "metadata": {},
      "id": "56a782cd",
      "cell_type": "markdown",
      "source": "<div class=\"guided-notes\">\n    \n### 4.1 Write the R code to make the frequency tables that correspond to each graph in the guided notes\n\n</div>"
    },
    {
      "metadata": {
        "trusted": true
      },
      "id": "34a63f94",
      "cell_type": "code",
      "source": "# code here\ntally(loveable_cat ~ chill_cat, data = epic_char)\ntally(loveable_cat ~ chill_cat, data = epic_char, format = \"proportion\")",
      "execution_count": null,
      "outputs": []
    },
    {
      "metadata": {},
      "id": "3a8fa0d9",
      "cell_type": "markdown",
      "source": "<div class=\"guided-notes\">\n\n### 4.2 Annotate the bar graphs with the corresponding numbers from the `tally()` output\n\n</div>"
    },
    {
      "metadata": {},
      "id": "f67a0ca0",
      "cell_type": "markdown",
      "source": "## 5 Adding More Explanatory Variables to a Graph\nNow that we’ve seen how to visualize the relationship between one explanatory variable and an outcome, let’s try adding more explanatory variables."
    },
    {
      "metadata": {},
      "id": "216f6320",
      "cell_type": "markdown",
      "source": "<div class=\"discussion-question\">\n    \n### 5.1 Key Discussion Question: How would you write a word equation to express the hypothesis that **both** gender and chill explain variation in loveable?\n    \n</div>"
    },
    {
      "metadata": {},
      "id": "e75953e9",
      "cell_type": "markdown",
      "source": "### 5.2 Using color to represent an additional explanatory variable\n\nWe've created a scatter plot below to show `loveable_quant` as a function of `chill_quant`. Try adding in the argument `color = ~gender` and see what happens.\n\n(Try using `shape` or `size` instead of `color` to see what happens.)"
    },
    {
      "metadata": {},
      "id": "96d40a61",
      "cell_type": "markdown",
      "source": "<div class=\"teacher-note\">\n    <b>Teacher note:</b> This is a good place to use a <i>driver / navigator</i> pedagogy: You be the driver, but call on one or more students \"navigate\" (i.e., tell you what to type into the code window. \n</div>"
    },
    {
      "metadata": {
        "trusted": true
      },
      "id": "304a74ba",
      "cell_type": "code",
      "source": "# edit this code \ngf_point(loveable_quant ~ chill_quant, data = epic_char) \n\n# sample response\ngf_point(loveable_quant ~ chill_quant, color=~gender, data = epic_char) ",
      "execution_count": null,
      "outputs": []
    },
    {
      "metadata": {},
      "id": "bdaec0f0",
      "cell_type": "markdown",
      "source": "### 5.3 Using facets (`gf_facet_grid`) to represent an additional explanatory variable\n\nTry faceting this basic scatter plot by `gender`."
    },
    {
      "metadata": {
        "trusted": true
      },
      "id": "5405b8a4",
      "cell_type": "code",
      "source": "# add facets to this\ngf_point(loveable_quant ~ chill_quant, data = epic_char) \n",
      "execution_count": null,
      "outputs": []
    },
    {
      "metadata": {},
      "id": "29596219",
      "cell_type": "markdown",
      "source": "<div class=\"discussion-question\">\n    \n### 5.4 Key Discussion Question: What do these visualizations tell you about how gender and chill relate to loveable?\n    \n</div>"
    },
    {
      "metadata": {},
      "id": "91301b5a",
      "cell_type": "markdown",
      "source": "<div class=\"guided-notes\">\n    \n### 5.5 Summarize: Fill in what you've learned today in the table of tools for visualizing relationships between two variables\n\n</div>"
    },
    {
      "metadata": {},
      "id": "68e32128",
      "cell_type": "markdown",
      "source": "<div class=\"guided-notes\">\n    \n### 5.6 Summarize: What are some ways you can add more explanatory variables to a visualization?\n\n</div>"
    },
    {
      "metadata": {},
      "id": "721b4efc",
      "cell_type": "markdown",
      "source": "## 6 Practice What You Learned\n\nTake a look at the `epic_characters` dataset — it includes 15 variables, compared to the 8 in `epic_char`. That gives you more to work with!"
    },
    {
      "metadata": {
        "scrolled": false,
        "trusted": true
      },
      "id": "4accf6a0",
      "cell_type": "code",
      "source": "# write code\nhead(epic_characters)",
      "execution_count": null,
      "outputs": []
    },
    {
      "metadata": {},
      "id": "294ece75",
      "cell_type": "markdown",
      "source": "### 6.1 Write a word equation that hypothesizes more than one explanatory variable to explain variation in `loveable_quant`)"
    },
    {
      "metadata": {
        "nbsimplegrader": {
          "config_key": "markdown.response",
          "type": "markdown",
          "label": "Response: Markdown",
          "runnable": true,
          "editable": true,
          "respondable": true,
          "response": null
        }
      },
      "id": "3d5de745",
      "cell_type": "markdown",
      "source": "word equation: "
    },
    {
      "metadata": {},
      "id": "c3d6ae60",
      "cell_type": "markdown",
      "source": "### 6.2 Use R to visualize your hypothesis"
    },
    {
      "metadata": {
        "nbsimplegrader": {
          "config_key": "code.response",
          "type": "code",
          "label": "Response: Code",
          "runnable": true,
          "editable": true,
          "respondable": true,
          "response": null
        },
        "trusted": true
      },
      "id": "23d5e2ab",
      "cell_type": "code",
      "source": "# visualization",
      "execution_count": null,
      "outputs": []
    },
    {
      "metadata": {},
      "id": "82b96375",
      "cell_type": "markdown",
      "source": "### 6.3 Write a word equation that hypothesizes more than one explanatory variable to explain variation in `loveable_cat`)"
    },
    {
      "metadata": {
        "nbsimplegrader": {
          "config_key": "markdown.response",
          "type": "markdown",
          "label": "Response: Markdown",
          "runnable": true,
          "editable": true,
          "respondable": true,
          "response": null
        }
      },
      "id": "4893bf10",
      "cell_type": "markdown",
      "source": "word equation: "
    },
    {
      "metadata": {},
      "id": "9e8f84c5",
      "cell_type": "markdown",
      "source": "### 6.4 Use R to visualize your hypothesis"
    },
    {
      "metadata": {
        "nbsimplegrader": {
          "config_key": "code.response",
          "type": "code",
          "label": "Response: Code",
          "runnable": true,
          "editable": true,
          "respondable": true,
          "response": null
        },
        "trusted": true
      },
      "id": "6651ca2e",
      "cell_type": "code",
      "source": "# visualization",
      "execution_count": null,
      "outputs": []
    }
  ],
  "metadata": {
    "kernelspec": {
      "name": "ir",
      "display_name": "R",
      "language": "R"
    },
    "language_info": {
      "name": "R",
      "codemirror_mode": "r",
      "pygments_lexer": "r",
      "mimetype": "text/x-r-source",
      "file_extension": ".r",
      "version": "4.3.3"
    },
    "nbsimplegrader": {
      "publish_config": {
        "classes": [],
        "options": {},
        "tools": []
      }
    }
  },
  "nbformat": 4,
  "nbformat_minor": 5
}