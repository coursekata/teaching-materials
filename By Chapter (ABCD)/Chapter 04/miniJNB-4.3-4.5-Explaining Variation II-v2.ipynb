{
  "cells": [
    {
      "cell_type": "markdown",
      "metadata": {
        "cell_id": "cc23edec19be467eb965c96de38c730f",
        "deepnote_cell_type": "markdown"
      },
      "source": "# Explaining Variation in How Users Rate Video Games \n\n## Chapter 4.3-4.5 Explaining Variation "
    },
    {
      "cell_type": "code",
      "execution_count": null,
      "metadata": {
        "cell_id": "2645ed3bf7a14f3f8bb8186c3d780cc5",
        "deepnote_cell_type": "code",
        "execution_context_id": "57074c1b-56dc-4078-b5d4-00f4c8228150",
        "execution_millis": 1107,
        "execution_start": 1743702784619,
        "scrolled": false,
        "source_hash": "240debbc",
        "trusted": true
      },
      "outputs": [],
      "source": "# This code will load the R packages we will use\nlibrary(coursekata)\n\n# set styles\ncss <- suppressWarnings(readLines(\"https://raw.githubusercontent.com/jimstigler/jupyter/master/ck_jupyter_styles_v2.css\"))\nIRdisplay::display_html(sprintf('<style>%s</style>', paste(css, collapse = \"\\n\")))\n\n# Load the data frame\nfullgamesales_csv_link <- \"https://docs.google.com/spreadsheets/d/e/2PACX-1vRxgnDw4jgU7XkqCp6iZHsBsOe7JQbAjsjJePsoKpllu_KntXdXp1wbY2PocCzdiFOQZ7Bq8IrgLpXz/pub?gid=487723921&single=true&output=csv\"\ngamesales <- read.csv(fullgamesales_csv_link, header = TRUE)\n# Adjust Critic Score scale\ngamesales$Critic_Score <- gamesales$Critic_Score/10\n# Subset of Publishers\ngames_pub <- filter(gamesales, Publisher == \"Nintendo\" | Publisher == \"Activision\"\n              | Publisher == \"Sony Computer Entertainment\" | Publisher == \"Sega\")\n# Subset of Genres\ngames_genre <- filter(gamesales, Genre == \"Fighting\" | Genre == \"Simulation\"\n              | Genre == \"Puzzle\")"
    },
    {
      "cell_type": "markdown",
      "metadata": {
        "cell_id": "f92ead573af44018bf0834a171ebe49d",
        "deepnote_cell_type": "markdown"
      },
      "source": "## 1. About the `gamesales` data \n\nWe will be using the `gamesales` data set. It contains information on over 17,000 video games. \n"
    },
    {
      "cell_type": "markdown",
      "metadata": {
        "cell_id": "e564c96f75614b45a2f1bfc6d8ffd5cc",
        "deepnote_cell_type": "markdown"
      },
      "source": "### 1.1 Run some code to look at the `gamesales` data frame"
    },
    {
      "cell_type": "code",
      "execution_count": null,
      "metadata": {
        "cell_id": "5328292ed66f46039e6b754d9d874f46",
        "deepnote_cell_type": "code",
        "nbsimplegrader": {
          "config_key": "code.response",
          "editable": true,
          "label": "Response: Code",
          "respondable": true,
          "response": null,
          "runnable": true,
          "type": "code"
        },
        "scrolled": false,
        "trusted": true
      },
      "outputs": [],
      "source": "# 1.1\n# run code here\n\n"
    },
    {
      "cell_type": "markdown",
      "metadata": {
        "cell_id": "080d9e901a234188b7808cd7a1f221cf",
        "deepnote_cell_type": "markdown"
      },
      "source": "Here is a description of each of the variables:\n\n\n| Variable          | Description                                                   |\n|:------------------|:--------------------------------------------------------------|\n| `Name`            | The video game's name                                         |\n| `Platform`        | Platform of the game’s release           |\n| `Year_of_Release` | Year of the game's release                                    |\n| `Genre`           | Genre of the game                                             |\n| `Publisher`       | Publisher of the game                                         |\n| `NA_Sales`        | Sales in North America (in millions)                          |\n| `EU_Sales`        | Sales in Europe (in millions)                                 |\n| `JP_Sales`        | Sales in Japan (in millions)                                  |\n| `Other_Sales`     | Sales in the rest of the world (in millions)                  |\n| `Global_Sales`    | Total worldwide sales (in millions)                           |\n| `Critic_Score`    | Aggregate score compiled by Metacritic staff                  |\n| `Critic_Count`    | The number of critics used in coming up with the critic score |\n| `User_Score`      | Score by Metacritic's subscribers                             |\n| `User_Count`      | Number of users who gave the user score                       |\n| `Rating`          | The ESRB ratings (Entertainment Software Rating Board)        |"
    },
    {
      "cell_type": "markdown",
      "metadata": {
        "cell_id": "ff87e05cda1b453e8138cce907b19a4f",
        "deepnote_cell_type": "markdown"
      },
      "source": "## 2. Explaining Variation in `User_Score`\n\nLet's explore the data and see if we can explain variation in how users rate these video games.\n\nBelow is the distribution of `User_Score`. This will show us the total variation in `User_Score` that we are trying to explain. You might think of it as:\n\n**User_Score = Other Stuff** \n"
    },
    {
      "cell_type": "code",
      "execution_count": null,
      "metadata": {
        "cell_id": "36d3f50972a840fd87fb2fd88c76dfe4",
        "deepnote_cell_type": "code",
        "nbsimplegrader": {
          "config_key": "code.response",
          "editable": true,
          "label": "Response: Code",
          "respondable": true,
          "response": null,
          "runnable": true,
          "type": "code"
        },
        "trusted": true
      },
      "outputs": [],
      "source": "# 2\n# Run this code\ngf_histogram(~User_Score, data = gamesales, fill = \"cornflowerblue\")%>%\n  gf_boxplot()"
    },
    {
      "cell_type": "markdown",
      "metadata": {
        "cell_id": "aa148629d0b64032af2c88536912b02b",
        "deepnote_cell_type": "markdown"
      },
      "source": "We may want to know things like, why are some games more highly rated than others? Do they have anything in common? If we knew more about the video game, could we make a better prediction of its user score?\n\nWe'll explore two hypotheses: \n\n- Does a game's publisher help us explain variation in user ratings?\n- Does a game's genre help us explain variation in user ratings?"
    },
    {
      "cell_type": "markdown",
      "metadata": {
        "cell_id": "97e7e4ef1b5c431481874c46bfe0d1bd",
        "deepnote_cell_type": "markdown"
      },
      "source": "### The `Publisher` Hypothesis \n\n\n### 2.1 Write a word equation to represent the hypothesis that the `Publisher` of the video game might help us explain variation in `User_Score`."
    },
    {
      "cell_type": "markdown",
      "metadata": {
        "cell_id": "fdb2212da6354c7f978fc478874246b7",
        "deepnote_cell_type": "markdown",
        "nbsimplegrader": {
          "config_key": "markdown.response",
          "editable": true,
          "label": "Response: Markdown",
          "respondable": true,
          "response": null,
          "runnable": true,
          "type": "markdown"
        }
      },
      "source": "2.1 Response:\n\nModify the word equation to fit the above hypothesis:\n\nUser_Score = Other Stuff"
    },
    {
      "cell_type": "markdown",
      "metadata": {
        "cell_id": "db7c1fba187843758578c137d60ad6c6",
        "deepnote_cell_type": "markdown"
      },
      "source": "### 2.2 Create a visualization to explore this hypothesis of the data generating process.\n\nThere are A LOT of Publishers in this data frame, so we selected a few to compare: Activision, Nintendo, Sega, and Sony Computer Entertainment. We named this new data frame `games_pub`. Make sure you use that for your code here!"
    },
    {
      "cell_type": "code",
      "execution_count": null,
      "metadata": {
        "cell_id": "c0fd76e9ce884b98a855c5ed6bc73bf8",
        "deepnote_cell_type": "code",
        "nbsimplegrader": {
          "config_key": "code.response",
          "editable": true,
          "label": "Response: Code",
          "respondable": true,
          "response": null,
          "runnable": true,
          "type": "code"
        },
        "trusted": true
      },
      "outputs": [],
      "source": "# 2.2\n# Run code here (using data = games_pub)\n\n\n"
    },
    {
      "cell_type": "markdown",
      "metadata": {
        "cell_id": "3e9985638b4e46dfa3eb5b1f8befe229",
        "deepnote_cell_type": "markdown"
      },
      "source": "### 2.3 What `User_Score` would you predict for a game that is an Activision game? A Nintendo game?"
    },
    {
      "cell_type": "markdown",
      "metadata": {
        "cell_id": "151826319a784838adfe4d3199053fe4",
        "deepnote_cell_type": "markdown",
        "nbsimplegrader": {
          "config_key": "markdown.response",
          "editable": true,
          "label": "Response: Markdown",
          "respondable": true,
          "response": null,
          "runnable": true,
          "type": "markdown"
        }
      },
      "source": "2.3 Response:\n\n"
    },
    {
      "cell_type": "markdown",
      "metadata": {
        "cell_id": "a1e245a4ea594acda41af676f537aad3",
        "deepnote_cell_type": "markdown"
      },
      "source": "### 2.4 Does this model appear to help us explain variation in `User_Score`? How can you tell?"
    },
    {
      "cell_type": "markdown",
      "metadata": {
        "cell_id": "b18eb890f38f4217a70b3a06c0cc6c04",
        "deepnote_cell_type": "markdown",
        "nbsimplegrader": {
          "config_key": "markdown.response",
          "editable": true,
          "label": "Response: Markdown",
          "respondable": true,
          "response": null,
          "runnable": true,
          "type": "markdown"
        }
      },
      "source": "2.4 Response:"
    },
    {
      "cell_type": "markdown",
      "metadata": {
        "cell_id": "a9a6f86fb33d4806993f9cb7f6eb1de1",
        "deepnote_cell_type": "markdown"
      },
      "source": "## 3. The `Genre` Hypothesis"
    },
    {
      "cell_type": "markdown",
      "metadata": {
        "cell_id": "d1e2b1bbebb242608700ec6e97267ede",
        "deepnote_cell_type": "markdown"
      },
      "source": "### 3.1 Write a word equation to represent the hypothesis that the `Genre` of the video game might help us explain variation in `User_Score`."
    },
    {
      "cell_type": "markdown",
      "metadata": {
        "cell_id": "4cea29c262db47b39f3ecd1f5d1a631b",
        "deepnote_cell_type": "markdown",
        "nbsimplegrader": {
          "config_key": "markdown.response",
          "editable": true,
          "label": "Response: Markdown",
          "respondable": true,
          "response": null,
          "runnable": true,
          "type": "markdown"
        }
      },
      "source": "3.1 Response:\n\n"
    },
    {
      "cell_type": "markdown",
      "metadata": {
        "cell_id": "81df595dbfce456c90b5157b6fe90a09",
        "deepnote_cell_type": "markdown"
      },
      "source": "### 3.2 Create a visualization to explore this hypothesis of the data generating process.\n\nThere are A LOT of different genres in this data frame, so we selected a few to compare: Fighting, Puzzle, and Simulation. We named this new data frame `games_genre`. Make sure you use that for your code here!"
    },
    {
      "cell_type": "code",
      "execution_count": null,
      "metadata": {
        "cell_id": "a0fb81e1b0ed43cd8ff60040fe8c0523",
        "deepnote_cell_type": "code",
        "nbsimplegrader": {
          "config_key": "code.response",
          "editable": true,
          "label": "Response: Code",
          "respondable": true,
          "response": null,
          "runnable": true,
          "type": "code"
        },
        "trusted": true
      },
      "outputs": [],
      "source": "# 3.2\n# Run code here (using data = games_genre)\n\n\n"
    },
    {
      "cell_type": "markdown",
      "metadata": {
        "cell_id": "acfaff1a197e4276b581a7440d9b7886",
        "deepnote_cell_type": "markdown"
      },
      "source": "### 3.3 What `User_Score` would you predict for a game that is a puzzle game? A fighting game? A simulation game?"
    },
    {
      "cell_type": "markdown",
      "metadata": {
        "cell_id": "950c0df1f20640dea6ede02fb3a851ae",
        "deepnote_cell_type": "markdown",
        "nbsimplegrader": {
          "config_key": "markdown.response",
          "editable": true,
          "label": "Response: Markdown",
          "respondable": true,
          "response": null,
          "runnable": true,
          "type": "markdown"
        }
      },
      "source": "3.3 Response:\n"
    },
    {
      "cell_type": "markdown",
      "metadata": {
        "cell_id": "9cd9cdd137ac4adab14ca190a4ef0563",
        "deepnote_cell_type": "markdown"
      },
      "source": "### 3.4 Does this model appear to help us explain variation in `User_Score`? How can you tell?"
    },
    {
      "cell_type": "markdown",
      "metadata": {
        "cell_id": "5a9070c45131466faef44e39660e45b9",
        "deepnote_cell_type": "markdown",
        "nbsimplegrader": {
          "config_key": "markdown.response",
          "editable": true,
          "label": "Response: Markdown",
          "respondable": true,
          "response": null,
          "runnable": true,
          "type": "markdown"
        }
      },
      "source": "3.4 Response:\n"
    },
    {
      "cell_type": "markdown",
      "metadata": {
        "cell_id": "b2bd7b689d5b4e8dbdad5c58a2929900",
        "deepnote_cell_type": "markdown"
      },
      "source": "## 4. Comparing our Hypotheses"
    },
    {
      "cell_type": "markdown",
      "metadata": {
        "cell_id": "d3b1a2ab46fe4602b61e8257f7043098",
        "deepnote_cell_type": "markdown"
      },
      "source": "### 4.1 What are some examples of potential \"other stuff\" that we might be seeing in these models? "
    },
    {
      "cell_type": "markdown",
      "metadata": {
        "cell_id": "67201e0894a64a38b2b988bd11d98343",
        "deepnote_cell_type": "markdown",
        "nbsimplegrader": {
          "config_key": "markdown.response",
          "editable": true,
          "label": "Response: Markdown",
          "respondable": true,
          "response": null,
          "runnable": true,
          "type": "markdown"
        }
      },
      "source": "4.1 Response:"
    },
    {
      "cell_type": "markdown",
      "metadata": {
        "cell_id": "a32c1fdbe3004a43811968c05ff8017c",
        "deepnote_cell_type": "markdown"
      },
      "source": "### 4.2 Which one appears to have more \"other stuff\" going on?"
    },
    {
      "cell_type": "markdown",
      "metadata": {
        "cell_id": "b682b0798c1d4f32ba90ab593a43990f",
        "deepnote_cell_type": "markdown",
        "nbsimplegrader": {
          "config_key": "markdown.response",
          "editable": true,
          "label": "Response: Markdown",
          "respondable": true,
          "response": null,
          "runnable": true,
          "type": "markdown"
        }
      },
      "source": "4.2 Response:"
    },
    {
      "cell_type": "markdown",
      "metadata": {
        "cell_id": "4893adba3f844a6281477ec5b456e527",
        "deepnote_cell_type": "markdown"
      },
      "source": "### 4.3 Based on your explorations of the data today, what appears to matter more when trying to explain variation in `User_Score`: `Publisher` or `Genre`? How can you tell?"
    },
    {
      "cell_type": "markdown",
      "metadata": {
        "cell_id": "08241f7b56b9473c9032a909ec1aee79",
        "deepnote_cell_type": "markdown",
        "nbsimplegrader": {
          "config_key": "markdown.response",
          "editable": true,
          "label": "Response: Markdown",
          "respondable": true,
          "response": null,
          "runnable": true,
          "type": "markdown"
        }
      },
      "source": "4.3 Response:"
    }
  ],
  "metadata": {
    "deepnote_notebook_id": "821a846e745b4ba3b4848ac00a6cbbf7",
    "kernelspec": {
      "display_name": "R",
      "language": "R",
      "name": "ir"
    },
    "language_info": {
      "codemirror_mode": "r",
      "file_extension": ".r",
      "mimetype": "text/x-r-source",
      "name": "R",
      "pygments_lexer": "r",
      "version": "4.3.3"
    },
    "nbsimplegrader": {
      "publish_config": {
        "classes": [],
        "options": [],
        "tools": []
      }
    }
  },
  "nbformat": 4,
  "nbformat_minor": 1
}