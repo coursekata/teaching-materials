{
  "cells": [
    {
      "cell_type": "markdown",
      "metadata": {
        "cell_id": "4a6408c1aece4e41801389fec4f3330a",
        "deepnote_cell_height": 81.953125,
        "deepnote_cell_type": "markdown",
        "tags": []
      },
      "source": "# Explaining Variation (COMPLETE)\n\n## Chapter 4.1-4.2 Overview Notebook"
    },
    {
      "cell_type": "code",
      "execution_count": null,
      "metadata": {
        "cell_id": "c7f5f310ca7e4e26933a7714b027165b",
        "deepnote_cell_type": "code",
        "trusted": true
      },
      "outputs": [],
      "source": "# run this to set up the notebook\nlibrary(coursekata)\n\n# set styles\ncss <- suppressWarnings(readLines(\"https://raw.githubusercontent.com/jimstigler/jupyter/master/ck_jupyter_styles.css\"))\nIRdisplay::display_html(sprintf('<style>%s</style>', paste(css, collapse = \"\\n\")))\n\n# pull in data from a google drive csv file\nhorror_movies <- read.csv(\"https://docs.google.com/spreadsheets/d/e/2PACX-1vT165lczx17dL_bOkgzPtkOh17faIoa7IfFJDVwVN2CpifXRyZ7Y0j2sQaqm7yo_Garzk_RIbJMJm-m/pub?gid=988069214&single=true&output=csv\")\n"
    },
    {
      "cell_type": "markdown",
      "metadata": {
        "cell_id": "37024e89297c4f54b2c4217831570459",
        "deepnote_cell_type": "markdown"
      },
      "source": "<div class=\"teacher-note\">\n    <b>Goals of this section:</b> In this chapter, students are introduced to the concept of explaining variation in one variable with variation in another variable. At this point, students are given an informal definition of explain variation, namely, that knowing an observation’s value on an explanatory variable will help you make a better guess as to its value on an outcome variable. They will learn to apply this concept as they make hypotheses, and make and interpret visualizations of bivariate relationships.\n\n- Students will learn the importance of distinguishing outcome variables from explanatory variables, and will use word equations of the form Outcome = Explanatory + Other Stuff to represent hypotheses about bivariate relationships.\n- Students will see word equations as informal models of relationships, and will recognize the importance of “other stuff” at the end to represent the idea that there are many unmeasured causes of variation in the outcome variable (a concept we will build on later in the book when students are introduced to the concept of error).\n- Students will learn to use R to explore a hypothesized relationship between two variables, starting with scatter plots, when both explanatory and outcome variables are quantitative, and they will begin to develop a visual sense of when an explanatory variable does or does not explain much variation in an outcome.\n- Students will notice the correspondence between the structure of word equations (outcome = explanatory) and the R code used in this book (gf_point(outcome ~ explanatory)). They will also learn that the outcome variable is usually mapped to the y-axis in a plot, the explanatory to the x-axis.\n\n    \nA <a href=\"https://docs.google.com/document/d/1PpI8hcXhjXy6WX4_5jJs4YZq7oQO51Q9uhcMXcq8ty8/edit?tab=t.5y2a0ykmi2fk#heading=h.wjaasjj3pg90\" target=\"_blank\">printable student guided-notes worksheet</a> is available to go with this Jupyter notebook, as well as a student version of this notebook.\n</div>"
    },
    {
      "cell_type": "markdown",
      "metadata": {
        "cell_id": "3766f0c6131943bdaa15de70ae401ffd",
        "deepnote_cell_type": "markdown"
      },
      "source": "## 1 Predicting Movie Revenue\n\nImagine you're a movie analyst trying to predict how much money a new horror movie will make at the box office. You don't know the name of the movie, but you do have some data from [The Movie Database](https://www.themoviedb.org/) on previous movie releases and how much money they have made. \n\nIt includes variables such as:\n- `vote_count` The number of votes this movie has gotten on [The Movie Database](https://www.themoviedb.org/)\n- `avg_rating` The average rating (0-10) from users on [The Movie Database](https://www.themoviedb.org/)"
    },
    {
      "cell_type": "markdown",
      "metadata": {
        "cell_id": "965cd6ffa7de49319254e1564dbb0459",
        "deepnote_cell_type": "markdown"
      },
      "source": "### 1.1 Take a look at the head of a data set called `horror_movies` (it's also available in your guided notes). What do you think each of the other variables means?\n    \nEach row is a horror movie. The names have been redacted.\n\n<img src=\"https://coursekata-course-assets.s3.us-west-1.amazonaws.com/UCLATALL/czi-stats-course/4.1-4.2-head-horror-movies-missing-revenue.jpg\" width=\"100%\">"
    },
    {
      "cell_type": "markdown",
      "metadata": {
        "cell_id": "50d7afd85370438595aa3c8015ed81eb",
        "deepnote_cell_type": "markdown"
      },
      "source": "### 1.2 Definitions of all the variables\n\nThe data set includes the following:\n\n- `title` The title of the movie (but we have redacted it for now; you'll see those values later)\n- `month` The month the movie was released (1-12)\n- `vote_count` The number of votes this movie has gotten on [The Movie Database](https://www.themoviedb.org/)\n- `avg_rating` The average rating (0-10) from users on [The Movie Database](https://www.themoviedb.org/)\n- `runtime_min` The length of the movie (in minutes)\n- `budget_mil` The movie's budget (in millions of dollars)\n- `revenue_mil` How much revenue the movie took in at the box office in millions of dollars (we have removed those for now; you'll see those later\n"
    },
    {
      "cell_type": "markdown",
      "metadata": {
        "cell_id": "8507a922a9af45b28501e8d29ccf5bf4",
        "deepnote_cell_type": "markdown"
      },
      "source": "### 1.3 Definition of outcome and explanatory variables\n\nUsing past data to make predictions—like predicting a movie’s revenue—is something statisticians and data analysts do all the time. To do this well, it's important to understand the two roles that variables can play.\n\nThe **outcome variable** is what you're trying to predict. There's usually just one. \n\n**Explanatory variables** are the other things you know about each observation that might help you make a better prediction of the outcome.\n"
    },
    {
      "cell_type": "markdown",
      "metadata": {
        "cell_id": "6fc9fd360d9b42bea817622a3bb89591",
        "deepnote_cell_type": "markdown"
      },
      "source": "<div class=\"discussion-question\">\n\n### 1.4 *Discussion Questions:* Which variable in this data would be a good outcome variable in this situation? Which would be the explanatory variables? \nHow can you tell? If you had to choose only one explanatory variable, which would you choose and why? Which variable do you think would be the least useful explanatory variable?\n\n</div>\n"
    },
    {
      "cell_type": "markdown",
      "metadata": {
        "cell_id": "c80c04ac253f4751b61fc86e9edd9256",
        "deepnote_cell_type": "markdown"
      },
      "source": "<div class=\"teacher-note\"> \n\n<b>Teacher Note:</b> Students will likely identify <code>revenue_mil</code> as the outcome variable—it’s what we’re trying to predict. \n\nEncourage them to talk about potential explanatory variables in the context of a hypothesis: What might help us make a better prediction of revenue, and why? For example: “A movie with more votes probably had more viewers,” or “Higher-rated or higher quality movies might earn more money.” \n\n</div>"
    },
    {
      "cell_type": "markdown",
      "metadata": {
        "cell_id": "ee0b9d002353416897b5c9d390e7792f",
        "deepnote_cell_type": "markdown"
      },
      "source": "### 1.5 Description of word equations \n\nYour hypothesis about how an explanatory variable might help to predict an observation's value on an outcome variable can be expressed as a word equation. You can think of word equations as *informal models* of the world. Word equations take the form:\n\n- **Outcome Variable = Explanatory Variable + Other Stuff**\n\nFor example, one hypothesis might be that the budget of a movie might be related to revenue. We could express this idea as:\n\n- **revenue_mil = budget_mil + Other Stuff**"
    },
    {
      "cell_type": "markdown",
      "metadata": {
        "cell_id": "023546d8842345bb815dc07653093893",
        "deepnote_cell_type": "markdown"
      },
      "source": "<div class=\"discussion-question\">\n\n### 1.6 *Discussion Question:* Why do we include \"Other Stuff\" in a word equation? \n\n</div>"
    },
    {
      "cell_type": "markdown",
      "metadata": {
        "cell_id": "8306875b8d2b4b78a4d7e5df7db0346c",
        "deepnote_cell_type": "markdown"
      },
      "source": "<div class=\"teacher-note\">\n    <b>Teacher Note:</b> \n\n- No model is perfect--this is an important idea in statistical modeling--so we include “Other Stuff” to represent all the factors that affect the outcome but aren’t captured by the explanatory variable.   \n- A big budget might contribute toward a movie’s big revenue, but it won’t tell the whole story. Some expensive movies flop, while small-budget films can become blockbusters. “Other Stuff” includes everything else like the cast, the story, timing, viral marketing—anything else that might influence revenue. \n</div>"
    },
    {
      "cell_type": "markdown",
      "metadata": {
        "cell_id": "b20035bf06a54ce5a0461fa5761fad71",
        "deepnote_cell_type": "markdown"
      },
      "source": "<div class=\"guided-notes\">    \n\n### 1.7 Write a word equation to represent your hypothesis for explaining movie revenue\n\nUse as the explanatory variable the variable you think will be most helpful in predicting a movie’s revenue. \n    \n</div>"
    },
    {
      "cell_type": "markdown",
      "metadata": {
        "cell_id": "bce160a5fdb64882ad2eaf31db739bac",
        "deepnote_cell_type": "markdown",
        "nbsimplegrader": {
          "config_key": "markdown.response",
          "editable": true,
          "label": "Response: Markdown",
          "respondable": true,
          "response": null,
          "runnable": true,
          "type": "markdown"
        }
      },
      "source": ""
    },
    {
      "cell_type": "markdown",
      "metadata": {
        "cell_id": "8687e38d5fe54720991fdfb7b94502ae",
        "deepnote_cell_type": "markdown"
      },
      "source": "<div class=\"guided-notes\">    \n\n### 1.8 Use your hypothesis to match movies to revenue. Here are the revenue values (in millions) for the six movies: 17, 18, 24, 42, 71, 117\n\nBased on your hypothesis and the data in the table, fill in the empty revenue cells with your best guesses. Which revenue value do you think goes with which movie?\n\n</div>"
    },
    {
      "cell_type": "markdown",
      "metadata": {
        "cell_id": "cdeef768cd6449789a1f9c5cc72033d2",
        "deepnote_cell_type": "markdown"
      },
      "source": "<img src=\"https://coursekata-course-assets.s3.us-west-1.amazonaws.com/UCLATALL/czi-stats-course/4.1-4.2-head-horror-movies-missing-revenue.jpg\" width=\"100%\">"
    },
    {
      "cell_type": "markdown",
      "metadata": {
        "cell_id": "3173670fc482497b902eea349504d273",
        "deepnote_cell_type": "markdown"
      },
      "source": "<div class=\"guided-notes\">    \n\n### 1.9 Write down the definition of \"explain variation\".\n    \n> <span style=\"font-size: 20px;\">If we know a case’s value on one variable, we can make a better prediction of its value on another variable.</span>\n    \n</div>"
    },
    {
      "cell_type": "markdown",
      "metadata": {
        "cell_id": "ec169a3d6e45405d8e7b96cd8305dbd5",
        "deepnote_cell_type": "markdown"
      },
      "source": "<div class=\"guided-notes\">    \n\n### 1.10 When you filled in the missing values, how did knowing a movie's value on the explanatory variable help you make a better guess as to its `revenue_mil`?\n\n</div>"
    },
    {
      "cell_type": "markdown",
      "metadata": {
        "cell_id": "5f766c636b3f48f38ee48108ea01fdf8",
        "deepnote_cell_type": "markdown"
      },
      "source": "<div class=\"teacher-note\">\n<b>Sample Responses:</b>\n    \n- I used avg_rating as the explanatory variable, so I matched the highest revenue_mil values with the movies that had the highest average ratings.\n- I picked budget_mil as my explanatory variable. I figured bigger-budget movies usually make more money, so I matched higher revenues to those.\n\nEncourage students to reference their word equation and make clear connections between the variable they chose and the revenue predictions they made.\n\n</div>"
    },
    {
      "cell_type": "markdown",
      "metadata": {
        "cell_id": "ab35677f0a6f48ed8f200253ad006e19",
        "deepnote_cell_type": "markdown"
      },
      "source": "## 2 Explore the `horror_movies` Data Frame\n\nNow, let’s step back and explore the full `horror_movies` data set. The data frame contains information from [The Movie Database](https://www.themoviedb.org/) on 50 of the highest-earning horror movies from the past 100 years.\n\n### 2.1 Write code to inspect the `horror_movies` data frame and see what’s inside. \nDo you see anything interesting, surprising, or confusing about the data?"
    },
    {
      "cell_type": "code",
      "execution_count": null,
      "metadata": {
        "cell_id": "8f52c27eedb545868f5a33194267e340",
        "deepnote_cell_type": "code",
        "nbsimplegrader": {
          "config_key": "code.response",
          "editable": true,
          "label": "Response: Code",
          "respondable": true,
          "response": null,
          "runnable": true,
          "type": "code"
        },
        "trusted": true
      },
      "outputs": [],
      "source": "# write code\n\n# sample code\nhead(horror_movies)\nglimpse(horror_movies)"
    },
    {
      "cell_type": "markdown",
      "metadata": {
        "cell_id": "90ffcd63bc994fb480ab7ab5e0c52c96",
        "deepnote_cell_height": 110.75,
        "deepnote_cell_type": "markdown",
        "tags": []
      },
      "source": "<div class=\"guided-notes\">   \n    \n### 2.2 Write code to create a scatter plot to explore this hypothesis: revenue_mil = vote_count + other stuff\n\nA scatter plot can help us visualize the relationship between an explanatory variable and an outcome variable.\n\nThe general format for creating a scatter plot in R is: `gf_point(outcome ~ explanatory, data = dataframe)`\n    \n</div>"
    },
    {
      "cell_type": "code",
      "execution_count": null,
      "metadata": {
        "cell_id": "39770bc450864af3a8f1fd080824ec87",
        "deepnote_cell_type": "code",
        "deepnote_to_be_reexecuted": false,
        "execution_millis": 1218,
        "execution_start": 1662167426649,
        "nbsimplegrader": {
          "config_key": "code.response",
          "editable": true,
          "label": "Response: Code",
          "respondable": true,
          "response": null,
          "runnable": true,
          "type": "code"
        },
        "output_cleared": true,
        "source_hash": "765e3364",
        "tags": [],
        "trusted": true
      },
      "outputs": [],
      "source": "# edit this\n# gf_point(outcome ~ explanatory, data = dataframe)\n# try adding color=\"blue\" as an argument\n\ngf_point(revenue_mil ~ vote_count, color=\"blue\", data=horror_movies)"
    },
    {
      "cell_type": "markdown",
      "metadata": {
        "cell_id": "a729f4030c4d4c1d84f97283f66ac0d6",
        "deepnote_cell_type": "markdown"
      },
      "source": "Totally extra, but if you'd like to see a list of all the colors available in R, this is a famous R color cheatsheet (you can always google \"Rcolor\" and get it that way too): http://www.stat.columbia.edu/~tzheng/files/Rcolor.pdf"
    },
    {
      "cell_type": "markdown",
      "metadata": {
        "cell_id": "f4b59552f8f74fab9f74963d694588fd",
        "deepnote_cell_type": "markdown"
      },
      "source": "<div class=\"discussion-question\">\n\n### 2.3 Key Discussion Question: Using the definition above, do you think this explanatory variable (vote_count) explains some of the variation in `revenue_mil`?\nIf yes, where in the graph do you see evidence of this? If no, why not?\n\n</div>"
    },
    {
      "cell_type": "markdown",
      "metadata": {
        "cell_id": "6f31da81ef0c45dc91fbeefb14fe7dfa",
        "deepnote_cell_type": "markdown"
      },
      "source": "<div class=\"teacher-note\">\n\n<b>Teacher Note:</b>  \n\nStudent generally recognize a positive relationship (\"positive correlation\") but we want to link it to the idea of \"explain variation.\"\n\n<b>Sample Responses:</b>  \n- As vote_count increases, revenue_mil also tends to increase. That means if we matched up higher revenues with higher vote counts, that could lead to pretty good predictions.\n- (Uncommon but worth pointing out the negative space in the scatter plot) There are basically no movies with low vote counts and revenues above 300 million. Looking at the places with no data can also be informative.\n\n</div>\n"
    },
    {
      "cell_type": "markdown",
      "metadata": {
        "cell_id": "3c0fdaa40c124b2b969b0a11df570c8f",
        "deepnote_cell_height": 110.75,
        "deepnote_cell_type": "markdown",
        "tags": []
      },
      "source": "<div class=\"guided-notes\">   \n\n### 2.4 Write code to create a scatter plot to explore this hypothesis: revenue_mil = avg_rating + other stuff\n    \n</div>"
    },
    {
      "cell_type": "code",
      "execution_count": null,
      "metadata": {
        "cell_id": "1a6538f20a4c48b39868749ce5103bee",
        "deepnote_cell_type": "code",
        "deepnote_to_be_reexecuted": false,
        "execution_millis": 1218,
        "execution_start": 1662167426649,
        "nbsimplegrader": {
          "config_key": "code.response",
          "editable": true,
          "label": "Response: Code",
          "respondable": true,
          "response": null,
          "runnable": true,
          "type": "code"
        },
        "output_cleared": true,
        "source_hash": "765e3364",
        "tags": [],
        "trusted": true
      },
      "outputs": [],
      "source": "# write code\n\n# sample code\ngf_point(revenue_mil ~ avg_rating, color=\"forestgreen\", data=horror_movies)"
    },
    {
      "cell_type": "markdown",
      "metadata": {
        "cell_id": "3a4bccc63c9f490f866466c185795534",
        "deepnote_cell_type": "markdown"
      },
      "source": "<div class=\"guided-notes\">\n    \n### 2.5 Comparing vote_count and avg_rating: What features of the scatter plots tell you that vote count explains variation in revenue better than avg_rating?\n    \n</div>"
    },
    {
      "cell_type": "markdown",
      "metadata": {
        "cell_id": "e8bb7a2c55d44c8894d152a7072cf29a",
        "deepnote_cell_type": "markdown"
      },
      "source": "<div class=\"teacher-note\">\n\n<b>Sample Responses:</b>  \n- The vote_count scatter plot has a clear pattern. The avg_rating plot just looks random. \n- In the vote_count plot, as vote_count increases, revenue_mil increases. That’s not true for avg_rating.  \n    \n</div>\n"
    },
    {
      "cell_type": "markdown",
      "metadata": {
        "cell_id": "0b25e9de0a5645a2b570ba8be30aaa3a",
        "deepnote_cell_type": "markdown"
      },
      "source": "<div class=\"guided-notes\">\n    \n### 2.6 What is the difference between a strong and weak explanatory variable when looking at a scatter plot?\n    \n</div>"
    },
    {
      "cell_type": "markdown",
      "metadata": {
        "cell_id": "02521c6ebfd24a48bc26a817edba997d",
        "deepnote_cell_type": "markdown"
      },
      "source": "<div class=\"teacher-note\">\n<b>Teacher Note:</b>  \n    \nThis question helps students generalize what they observed in 2.5.\n\n<b>Sample Responses:</b>  \n- A strong variable creates a pattern where knowing X helps you guess Y. A weak one doesn’t help you guess at all.  \n- In a strong relationship, the points kind of line up. In a weak one, they’re all over the place.\n- If the scatter plot looks like a random cloud, the variable probably doesn’t explain variation in the outcome.\n\n</div>\n"
    },
    {
      "cell_type": "markdown",
      "metadata": {
        "cell_id": "3c9383e2c3f4414bb89d9553b96ff8f1",
        "deepnote_cell_type": "markdown"
      },
      "source": "## 3 Practice What You Learned"
    },
    {
      "cell_type": "markdown",
      "metadata": {
        "cell_id": "b704033bfa08402c9e6d52c8f1b938b0",
        "deepnote_cell_type": "markdown"
      },
      "source": "### 3.1 Explore some other explanatory variables\nTry some other explanatory variables. For each, consider what the word equation might be; write the R code to graph it; then apply the informal definition of \"explain variation.\" Which variables appear to explain variation in `revenue_mil`? Which do not?"
    },
    {
      "cell_type": "code",
      "execution_count": null,
      "metadata": {
        "cell_id": "fbf91ac6dccb4d55a8f3fe9b3c475b13",
        "deepnote_cell_type": "code",
        "nbsimplegrader": {
          "config_key": "code.response",
          "editable": true,
          "label": "Response: Code",
          "respondable": true,
          "response": null,
          "runnable": true,
          "type": "code"
        },
        "trusted": true
      },
      "outputs": [],
      "source": "# code here\n"
    },
    {
      "cell_type": "markdown",
      "metadata": {
        "cell_id": "bf1633b64f054c12b431e66d1b9f0192",
        "deepnote_cell_type": "markdown",
        "nbsimplegrader": {
          "config_key": "markdown.response",
          "editable": true,
          "label": "Response: Markdown",
          "respondable": true,
          "response": null,
          "runnable": true,
          "type": "markdown"
        }
      },
      "source": "Which variables appear to explain variation in revenue_mil? Which do not?\n\n"
    }
  ],
  "metadata": {
    "deepnote_notebook_id": "2b6187255fd0470992615812a39dc98b",
    "kernelspec": {
      "display_name": "R",
      "language": "R",
      "name": "ir"
    },
    "language_info": {
      "codemirror_mode": "r",
      "file_extension": ".r",
      "mimetype": "text/x-r-source",
      "name": "R",
      "pygments_lexer": "r",
      "version": "4.3.3"
    },
    "nbsimplegrader": {
      "publish_config": {
        "classes": [],
        "options": [],
        "tools": []
      }
    }
  },
  "nbformat": 4,
  "nbformat_minor": 1
}