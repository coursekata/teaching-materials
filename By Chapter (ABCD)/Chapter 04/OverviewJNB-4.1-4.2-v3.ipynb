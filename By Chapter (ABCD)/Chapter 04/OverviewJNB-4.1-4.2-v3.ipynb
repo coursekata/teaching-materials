{
  "cells": [
    {
      "metadata": {
        "cell_id": "6517e2c82e0c4576bc8db31fde978b21",
        "deepnote_cell_height": 81.953125,
        "deepnote_cell_type": "markdown",
        "tags": []
      },
      "cell_type": "markdown",
      "source": "# Explaining Variation\n\n## Chapter 4.1-4.2 Overview Notebook"
    },
    {
      "metadata": {
        "cell_id": "ffb46a8ac44f42eaa8cda08889dbdca1",
        "deepnote_cell_type": "code",
        "vscode": {
          "languageId": "r"
        },
        "trusted": true
      },
      "cell_type": "code",
      "source": "# run this to set up the notebook\nlibrary(coursekata)\n\n# set styles\ncss <- suppressWarnings(readLines(\"https://raw.githubusercontent.com/jimstigler/jupyter/master/ck_jupyter_styles.css\"))\nIRdisplay::display_html(sprintf('<style>%s</style>', paste(css, collapse = \"\\n\")))\n\n# pull in data from a google drive csv file\nhorror_movies <- read.csv(\"https://docs.google.com/spreadsheets/d/e/2PACX-1vT165lczx17dL_bOkgzPtkOh17faIoa7IfFJDVwVN2CpifXRyZ7Y0j2sQaqm7yo_Garzk_RIbJMJm-m/pub?gid=988069214&single=true&output=csv\")\n",
      "execution_count": null,
      "outputs": []
    },
    {
      "metadata": {
        "cell_id": "1b428428d9544a3b9dfbe19860b63d52",
        "deepnote_cell_type": "markdown"
      },
      "cell_type": "markdown",
      "source": "## 1 Predicting Movie Revenue\n\nImagine you're a movie analyst trying to predict how much money a new horror movie will make at the box office. You don't know the name of the movie, but you do have some data from [The Movie Database](https://www.themoviedb.org/) on previous movie releases and how much money they have made. \n\nIt includes variables such as:\n- `vote_count` The number of votes this movie has gotten on [The Movie Database](https://www.themoviedb.org/)\n- `avg_rating` The average rating (0-10) from users on [The Movie Database](https://www.themoviedb.org/)"
    },
    {
      "metadata": {
        "cell_id": "9a377baf5a074e36a6d508604eef15c2",
        "deepnote_cell_type": "markdown"
      },
      "cell_type": "markdown",
      "source": "### 1.1 Take a look at the head of a data set called `horror_movies` (it's also available in your guided notes). What do you think each of the other variables means?\n    \nEach row is a horror movie. The names have been redacted.\n\n<img src=\"https://coursekata-course-assets.s3.us-west-1.amazonaws.com/UCLATALL/czi-stats-course/4.1-4.2-head-horror-movies-missing-revenue.jpg\" width=\"100%\">"
    },
    {
      "metadata": {
        "cell_id": "ec318a324542416caf21174ac8b4fa54",
        "deepnote_cell_type": "markdown"
      },
      "cell_type": "markdown",
      "source": "### 1.2 Definitions of all the variables\n\nThe data set includes the following:\n\n- `title` The title of the movie (but we have redacted it for now; you'll see those values later)\n- `month` The month the movie was released (1-12)\n- `vote_count` The number of votes this movie has gotten on [The Movie Database](https://www.themoviedb.org/)\n- `avg_rating` The average rating (0-10) from users on [The Movie Database](https://www.themoviedb.org/)\n- `runtime_min` The length of the movie (in minutes)\n- `budget_mil` The movie's budget (in millions of dollars)\n- `revenue_mil` How much revenue the movie took in at the box office in millions of dollars (we have removed those for now; you'll see those later\n"
    },
    {
      "metadata": {
        "cell_id": "7a21700f51f24585becf0c7187a17bd5",
        "deepnote_cell_type": "markdown"
      },
      "cell_type": "markdown",
      "source": "### 1.3 Definition of outcome and explanatory variables\n\nUsing past data to make predictions—like predicting a movie’s revenue—is something statisticians and data analysts do all the time. To do this well, it's important to understand the two roles that variables can play.\n\nThe **outcome variable** is what you're trying to predict. There's usually just one. \n\n**Explanatory variables** are the other things you know about each observation that might help you make a better prediction of the outcome.\n"
    },
    {
      "metadata": {
        "cell_id": "10201b3a685042df9d2187a7bc11935e",
        "deepnote_cell_type": "markdown"
      },
      "cell_type": "markdown",
      "source": "<div class=\"discussion-question\">\n\n### 1.4 *Discussion Questions:* Which variable in this data would be a good outcome variable in this situation? Which would be the explanatory variables? \nHow can you tell? If you had to choose only one explanatory variable, which would you choose and why? Which variable do you think would be the least useful explanatory variable?\n\n</div>\n"
    },
    {
      "metadata": {
        "cell_id": "89d094f2b6ec4013b0d816abc713a6d2",
        "deepnote_cell_type": "markdown"
      },
      "cell_type": "markdown",
      "source": "### 1.5 Description of word equations \n\nYour hypothesis about how an explanatory variable might help to predict an observation's value on an outcome variable can be expressed as a word equation. You can think of word equations as *informal models* of the world. Word equations take the form:\n\n- **Outcome Variable = Explanatory Variable + Other Stuff**\n\nFor example, one hypothesis might be that the budget of a movie might be related to revenue. We could express this idea as:\n\n- **revenue_mil = budget_mil + Other Stuff**"
    },
    {
      "metadata": {
        "cell_id": "0e2fca22ee934b9cbffee232c9714c17",
        "deepnote_cell_type": "markdown"
      },
      "cell_type": "markdown",
      "source": "<div class=\"discussion-question\">\n\n### 1.6 *Discussion Question:* Why do we include \"Other Stuff\" in a word equation? \n\n</div>"
    },
    {
      "metadata": {
        "cell_id": "3c38dd15623344b1bfb4e5f373f4c02e",
        "deepnote_cell_type": "markdown"
      },
      "cell_type": "markdown",
      "source": "<div class=\"guided-notes\">    \n\n### 1.7 Write a word equation to represent your hypothesis for explaining movie revenue\n\nUse as the explanatory variable the variable you think will be most helpful in predicting a movie’s revenue. \n    \n</div>"
    },
    {
      "metadata": {
        "cell_id": "f5d47d62046a45949c39abb07b0ba70b",
        "deepnote_cell_type": "markdown",
        "nbsimplegrader": {
          "config_key": "markdown.response",
          "type": "markdown",
          "label": "Response: Markdown",
          "runnable": true,
          "editable": true,
          "respondable": true,
          "response": null
        }
      },
      "cell_type": "markdown",
      "source": ""
    },
    {
      "metadata": {
        "cell_id": "461d4f049c1b40deb65cddb198e4ead3",
        "deepnote_cell_type": "markdown"
      },
      "cell_type": "markdown",
      "source": "<div class=\"guided-notes\">    \n\n### 1.8 Use your hypothesis to match movies to revenue. Here are the revenue values (in millions) for the six movies: 17, 18, 24, 42, 71, 117\n\nBased on your hypothesis and the data in the table, fill in the empty revenue cells with your best guesses. Which revenue value do you think goes with which movie?\n\n</div>"
    },
    {
      "metadata": {
        "cell_id": "08fb64e0d7f942d5b6725ca677f0df4a",
        "deepnote_cell_type": "markdown"
      },
      "cell_type": "markdown",
      "source": "<img src=\"https://coursekata-course-assets.s3.us-west-1.amazonaws.com/UCLATALL/czi-stats-course/4.1-4.2-head-horror-movies-missing-revenue.jpg\" width=\"100%\">"
    },
    {
      "metadata": {
        "cell_id": "391630f0c6e6499c9b0bd4d1f522c192",
        "deepnote_cell_type": "markdown"
      },
      "cell_type": "markdown",
      "source": "<div class=\"guided-notes\">    \n\n### 1.9 Write down the definition of \"explain variation\".\n    \n> <span style=\"font-size: 20px;\">If we know a case’s value on one variable, we can make a better prediction of its value on another variable.</span>\n    \n</div>"
    },
    {
      "metadata": {
        "cell_id": "91ae8dd64f61418a93119b5cf66282e9",
        "deepnote_cell_type": "markdown"
      },
      "cell_type": "markdown",
      "source": "<div class=\"guided-notes\">    \n\n### 1.10 When you filled in the missing values, how did knowing a movie's value on the explanatory variable help you make a better guess as to its `revenue_mil`?\n\n</div>"
    },
    {
      "metadata": {
        "cell_id": "dc3a84800e014381980e97f55fdfeff6",
        "deepnote_cell_type": "markdown"
      },
      "cell_type": "markdown",
      "source": "## 2 Explore the `horror_movies` Data Frame\n\nNow, let’s step back and explore the full `horror_movies` data set. The data frame contains information from [The Movie Database](https://www.themoviedb.org/) on 50 of the highest-earning horror movies from the past 100 years.\n\n### 2.1 Write code to inspect the `horror_movies` data frame and see what’s inside. \nDo you see anything interesting, surprising, or confusing about the data?"
    },
    {
      "metadata": {
        "cell_id": "2084441ae3454edbb5cdb73e35899503",
        "deepnote_cell_type": "code",
        "nbsimplegrader": {
          "config_key": "code.response",
          "type": "code",
          "label": "Response: Code",
          "runnable": true,
          "editable": true,
          "respondable": true,
          "response": null
        },
        "vscode": {
          "languageId": "r"
        },
        "trusted": true
      },
      "cell_type": "code",
      "source": "# write code\n",
      "execution_count": null,
      "outputs": []
    },
    {
      "metadata": {
        "cell_id": "33dbf735b0804d13b4a084e575fbc30d",
        "deepnote_cell_height": 110.75,
        "deepnote_cell_type": "markdown",
        "tags": []
      },
      "cell_type": "markdown",
      "source": "### 2.2 Write code to create a scatter plot to explore this hypothesis: revenue_mil = vote_count + other stuff\n\nA scatter plot can help us visualize the relationship between an explanatory variable and an outcome variable.\n\nThe general format for creating a scatter plot in R is: `gf_point(outcome ~ explanatory, data = dataframe)`"
    },
    {
      "metadata": {
        "cell_id": "f2484f3ab27b4c3d85bed37f035e40d5",
        "deepnote_cell_type": "code",
        "deepnote_to_be_reexecuted": false,
        "execution_millis": 1218,
        "execution_start": 1662167426649,
        "nbsimplegrader": {
          "config_key": "code.response",
          "type": "code",
          "label": "Response: Code",
          "runnable": true,
          "editable": true,
          "respondable": true,
          "response": null
        },
        "output_cleared": true,
        "source_hash": "765e3364",
        "tags": [],
        "vscode": {
          "languageId": "r"
        },
        "trusted": true
      },
      "cell_type": "code",
      "source": "# edit this\n#gf_point(outcome ~ explanatory, data = dataframe)",
      "execution_count": null,
      "outputs": []
    },
    {
      "metadata": {
        "cell_id": "8dd3313613a04a43ad3e8ccb47a961ab",
        "deepnote_cell_type": "markdown"
      },
      "cell_type": "markdown",
      "source": "Totally extra, but if you'd like to see a list of all the colors available in R, this is [a famous R color cheatsheet](https://github.com/UCLATALL/czi-stats-course-files/raw/master/Rcolor.pdf) (you can always google \"Rcolor\" and get it that way too)"
    },
    {
      "metadata": {
        "cell_id": "3c4d089bf55d41379b6fbfe3e424dbc3",
        "deepnote_cell_type": "markdown"
      },
      "cell_type": "markdown",
      "source": "<div class=\"discussion-question\">\n\n### 2.3 Key Discussion Question: Using the definition above, do you think this explanatory variable (vote_count) explains some of the variation in `revenue_mil`?\nIf yes, where in the graph do you see evidence of this? If no, why not?\n\n</div>"
    },
    {
      "metadata": {
        "cell_id": "035e6d7d26f047d5a1d0d4949b65025c",
        "deepnote_cell_height": 110.75,
        "deepnote_cell_type": "markdown",
        "tags": []
      },
      "cell_type": "markdown",
      "source": "### 2.4 Write code to create a scatter plot to explore this hypothesis: revenue_mil = avg_rating + other stuff"
    },
    {
      "metadata": {
        "cell_id": "37e443bf2d674591bfa8b4587e61271c",
        "deepnote_cell_type": "code",
        "deepnote_to_be_reexecuted": false,
        "execution_millis": 1218,
        "execution_start": 1662167426649,
        "nbsimplegrader": {
          "config_key": "code.response",
          "type": "code",
          "label": "Response: Code",
          "runnable": true,
          "editable": true,
          "respondable": true,
          "response": null
        },
        "output_cleared": true,
        "source_hash": "765e3364",
        "tags": [],
        "vscode": {
          "languageId": "r"
        },
        "trusted": true
      },
      "cell_type": "code",
      "source": "# write code\n\n",
      "execution_count": null,
      "outputs": []
    },
    {
      "metadata": {
        "cell_id": "3aa936393f274018a1644b530304bb2f",
        "deepnote_cell_type": "markdown"
      },
      "cell_type": "markdown",
      "source": "<div class=\"guided-notes\">\n    \n### 2.5 Comparing vote_count and avg_rating: What features of the scatter plots tell you that vote count explains variation in revenue better than avg_rating?\n    \n</div>"
    },
    {
      "metadata": {
        "cell_id": "bd2bdb42eeb046a28d67f90d97a9b72f",
        "deepnote_cell_type": "markdown"
      },
      "cell_type": "markdown",
      "source": "<div class=\"guided-notes\">\n    \n### 2.6 What is the difference between a strong and weak explanatory variable when looking at a scatter plot?\n    \n</div>"
    },
    {
      "metadata": {
        "cell_id": "c1b03ac4ef2b4bf0bf142838881ab62b",
        "deepnote_cell_type": "markdown"
      },
      "cell_type": "markdown",
      "source": "## 3 Practice What You Learned"
    },
    {
      "metadata": {
        "cell_id": "590103f298af45b5bff3092ba51d2692",
        "deepnote_cell_type": "markdown"
      },
      "cell_type": "markdown",
      "source": "### 3.1 Explore some other explanatory variables\nTry some other explanatory variables. For each, consider what the word equation might be; write the R code to graph it; then apply the informal definition of \"explain variation.\" Which variables appear to explain variation in `revenue_mil`? Which do not?"
    },
    {
      "metadata": {
        "cell_id": "7df02ac13d894393a99bbc7d60babb57",
        "deepnote_cell_type": "code",
        "nbsimplegrader": {
          "config_key": "code.response",
          "type": "code",
          "label": "Response: Code",
          "runnable": true,
          "editable": true,
          "respondable": true,
          "response": null
        },
        "vscode": {
          "languageId": "r"
        },
        "trusted": true
      },
      "cell_type": "code",
      "source": "# code here",
      "execution_count": null,
      "outputs": []
    },
    {
      "metadata": {
        "cell_id": "4b8dbaca24f9480eafafc7c5ff3bc4a9",
        "deepnote_cell_type": "markdown",
        "nbsimplegrader": {
          "config_key": "markdown.response",
          "type": "markdown",
          "label": "Response: Markdown",
          "runnable": true,
          "editable": true,
          "respondable": true,
          "response": null
        }
      },
      "cell_type": "markdown",
      "source": "Which variables appear to explain variation in revenue_mil? Which do not?\n\n"
    }
  ],
  "metadata": {
    "deepnote_notebook_id": "5585be942a3447cb89da81fcee54cdfa",
    "kernelspec": {
      "name": "ir",
      "display_name": "R",
      "language": "R"
    },
    "language_info": {
      "name": "R",
      "codemirror_mode": "r",
      "pygments_lexer": "r",
      "mimetype": "text/x-r-source",
      "file_extension": ".r",
      "version": "4.3.3"
    },
    "nbsimplegrader": {
      "publish_config": {
        "classes": [],
        "options": {},
        "tools": []
      }
    }
  },
  "nbformat": 4,
  "nbformat_minor": 1
}