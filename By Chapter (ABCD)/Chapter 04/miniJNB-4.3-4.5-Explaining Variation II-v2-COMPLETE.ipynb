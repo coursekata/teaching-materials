{
  "cells": [
    {
      "cell_type": "markdown",
      "metadata": {
        "cell_id": "643c85e7700b483fa1e518f017f6de3e",
        "deepnote_cell_type": "markdown"
      },
      "source": "# Explaining Variation in How Users Rate Video Games (COMPLETE)\n\n## Chapter 4.3-4.5 Explaining Variation "
    },
    {
      "cell_type": "code",
      "execution_count": null,
      "metadata": {
        "cell_id": "97891b8f829944f3bf66948e98e05382",
        "deepnote_cell_type": "code",
        "execution_context_id": "57074c1b-56dc-4078-b5d4-00f4c8228150",
        "execution_millis": 1107,
        "execution_start": 1743702784619,
        "scrolled": false,
        "source_hash": "240debbc",
        "trusted": true
      },
      "outputs": [],
      "source": "# This code will load the R packages we will use\nlibrary(coursekata)\n\n# set styles\ncss <- suppressWarnings(readLines(\"https://raw.githubusercontent.com/jimstigler/jupyter/master/ck_jupyter_styles_v2.css\"))\nIRdisplay::display_html(sprintf('<style>%s</style>', paste(css, collapse = \"\\n\")))\n\n# Load the data frame\nfullgamesales_csv_link <- \"https://docs.google.com/spreadsheets/d/e/2PACX-1vRxgnDw4jgU7XkqCp6iZHsBsOe7JQbAjsjJePsoKpllu_KntXdXp1wbY2PocCzdiFOQZ7Bq8IrgLpXz/pub?gid=487723921&single=true&output=csv\"\ngamesales <- read.csv(fullgamesales_csv_link, header = TRUE)\n# Adjust Critic Score scale\ngamesales$Critic_Score <- gamesales$Critic_Score/10\n# Subset of Publishers\ngames_pub <- filter(gamesales, Publisher == \"Nintendo\" | Publisher == \"Activision\"\n              | Publisher == \"Sony Computer Entertainment\" | Publisher == \"Sega\")\n# Subset of Genres\ngames_genre <- filter(gamesales, Genre == \"Fighting\" | Genre == \"Simulation\"\n              | Genre == \"Puzzle\")"
    },
    {
      "cell_type": "markdown",
      "metadata": {
        "cell_id": "97f3e9c8d0f74f01a7b940c84ed264db",
        "deepnote_cell_type": "markdown"
      },
      "source": "<div class=\"teacher-note\">\n    <b>Teacher Note:</b> The purpose of this mini-JNB is to explore explaining variation through visualizations with a categorical explanatory variable.\n</div>"
    },
    {
      "cell_type": "markdown",
      "metadata": {
        "cell_id": "fdb0de56c7dc478285b45cdbec773a91",
        "deepnote_cell_type": "markdown"
      },
      "source": "## 1. About the `gamesales` data \n\nWe will be using the `gamesales` data set. It contains information on over 17,000 video games. \n"
    },
    {
      "cell_type": "markdown",
      "metadata": {
        "cell_id": "fe671997490343ca811496cd1ff18250",
        "deepnote_cell_type": "markdown"
      },
      "source": "### 1.1 Run some code to look at the `gamesales` data frame"
    },
    {
      "cell_type": "code",
      "execution_count": null,
      "metadata": {
        "cell_id": "9d6bd4a955be4797be8f7324e102725c",
        "deepnote_cell_type": "code",
        "nbsimplegrader": {
          "config_key": "code.response",
          "editable": true,
          "label": "Response: Code",
          "respondable": true,
          "response": null,
          "runnable": true,
          "type": "code"
        },
        "scrolled": false,
        "trusted": true
      },
      "outputs": [],
      "source": "# 1.1\n\n# run code here\n\n"
    },
    {
      "cell_type": "code",
      "execution_count": null,
      "metadata": {
        "cell_id": "5f5039b33fab4fd296e718cbd2fa7b2a",
        "deepnote_cell_type": "code",
        "scrolled": false,
        "trusted": true
      },
      "outputs": [],
      "source": "# 1.1\n# run code here\n\n\n# sample code\nstr(gamesales)\nsample(gamesales, 5)"
    },
    {
      "cell_type": "markdown",
      "metadata": {
        "cell_id": "89ac97258b5042c98afd4adc65a4a1da",
        "deepnote_cell_type": "markdown"
      },
      "source": "Here is a description of each of the variables:\n\n\n| Variable          | Description                                                   |\n|:------------------|:--------------------------------------------------------------|\n| `Name`            | The video game's name                                         |\n| `Platform`        | Platform of the game’s release           |\n| `Year_of_Release` | Year of the game's release                                    |\n| `Genre`           | Genre of the game                                             |\n| `Publisher`       | Publisher of the game                                         |\n| `NA_Sales`        | Sales in North America (in millions)                          |\n| `EU_Sales`        | Sales in Europe (in millions)                                 |\n| `JP_Sales`        | Sales in Japan (in millions)                                  |\n| `Other_Sales`     | Sales in the rest of the world (in millions)                  |\n| `Global_Sales`    | Total worldwide sales (in millions)                           |\n| `Critic_Score`    | Aggregate score compiled by Metacritic staff                  |\n| `Critic_Count`    | The number of critics used in coming up with the critic score |\n| `User_Score`      | Score by Metacritic's subscribers                             |\n| `User_Count`      | Number of users who gave the user score                       |\n| `Rating`          | The ESRB ratings (Entertainment Software Rating Board)        |"
    },
    {
      "cell_type": "markdown",
      "metadata": {
        "cell_id": "511132c972b94f0e90353efc50abb9b3",
        "deepnote_cell_type": "markdown"
      },
      "source": "## 2. Explaining Variation in `User_Score`\n\nLet's explore the data and see if we can explain variation in how users rate these video games.\n\nBelow is the distribution of `User_Score`. This will show us the total variation in `User_Score` that we are trying to explain. You might think of it as:\n\n**User_Score = Other Stuff** \n"
    },
    {
      "cell_type": "code",
      "execution_count": null,
      "metadata": {
        "cell_id": "b4e9301bac4446e6acd1cd854def65d8",
        "deepnote_cell_type": "code",
        "nbsimplegrader": {
          "config_key": "code.response",
          "editable": true,
          "label": "Response: Code",
          "respondable": true,
          "response": null,
          "runnable": true,
          "type": "code"
        },
        "trusted": true
      },
      "outputs": [],
      "source": "# 2\n# Run this code\ngf_histogram(~User_Score, data = gamesales, fill = \"cornflowerblue\")%>%\n  gf_boxplot()"
    },
    {
      "cell_type": "markdown",
      "metadata": {
        "cell_id": "d5173c7268694848b7323482708decbe",
        "deepnote_cell_type": "markdown"
      },
      "source": "We may want to know things like, why are some games more highly rated than others? Do they have anything in common? If we knew more about the video game, could we make a better prediction of its user score?\n\nWe'll explore two hypotheses: \n\n- Does a game's publisher help us explain variation in user ratings?\n- Does a game's genre help us explain variation in user ratings?"
    },
    {
      "cell_type": "markdown",
      "metadata": {
        "cell_id": "b42d2607673c42c5abf4550b8aaf4304",
        "deepnote_cell_type": "markdown"
      },
      "source": "### The `Publisher` Hypothesis \n\n\n### 2.1 Write a word equation to represent the hypothesis that the `Publisher` of the video game might help us explain variation in `User_Score`."
    },
    {
      "cell_type": "markdown",
      "metadata": {
        "cell_id": "c17e5609d488417e99eaf4c09ba21842",
        "deepnote_cell_type": "markdown",
        "nbsimplegrader": {
          "config_key": "markdown.response",
          "editable": true,
          "label": "Response: Markdown",
          "respondable": true,
          "response": null,
          "runnable": true,
          "type": "markdown"
        }
      },
      "source": "2.1 Response:\n\nModify the word equation to fit the above hypothesis:\n\nUser_Score = Other Stuff"
    },
    {
      "cell_type": "markdown",
      "metadata": {
        "cell_id": "6be74ea7902e4655965c2dd54a35d625",
        "deepnote_cell_type": "markdown"
      },
      "source": "<div class=\"teacher-note\">\n\n<b>Sample Response</b>: User_Score = Publisher + Other Stuff\n    \n</div>"
    },
    {
      "cell_type": "markdown",
      "metadata": {
        "cell_id": "5f7372b74e2240cfb95e464691b755ef",
        "deepnote_cell_type": "markdown"
      },
      "source": "### 2.2 Create a visualization to explore this hypothesis of the data generating process.\n\nThere are A LOT of Publishers in this data frame, so we selected a few to compare: Activision, Nintendo, Sega, and Sony Computer Entertainment. We named this new data frame `games_pub`. Make sure you use that for your code here!"
    },
    {
      "cell_type": "code",
      "execution_count": null,
      "metadata": {
        "cell_id": "78f80f0672474cd0952cdf5fc08bd77f",
        "deepnote_cell_type": "code",
        "nbsimplegrader": {
          "config_key": "code.response",
          "editable": true,
          "label": "Response: Code",
          "respondable": true,
          "response": null,
          "runnable": true,
          "type": "code"
        },
        "trusted": true
      },
      "outputs": [],
      "source": "# 2.2\n# Run code here (using data = games_pub)\n\n\n"
    },
    {
      "cell_type": "code",
      "execution_count": null,
      "metadata": {
        "cell_id": "5db71a007d974bd6986d91d152f197ed",
        "deepnote_cell_type": "code",
        "trusted": true
      },
      "outputs": [],
      "source": "# 2.2\n# Run code here (using data = games_pub)\n\n\n# Sample Responses\n\ngf_jitter(User_Score ~ Publisher, data = games_pub, height = 0, width= .1, fill =~Publisher) %>%\n  gf_boxplot()\n\ngf_histogram(~User_Score, data = games_pub, fill =~Publisher) %>%\n  gf_facet_grid(Publisher ~.) %>%\n  gf_boxplot()\n\ngf_point(User_Score ~ Publisher, data = games_pub)"
    },
    {
      "cell_type": "markdown",
      "metadata": {
        "cell_id": "085751d2708e48cea99684e605493b18",
        "deepnote_cell_type": "markdown"
      },
      "source": "### 2.3 What `User_Score` would you predict for a game that is an Activision game? A Nintendo game?"
    },
    {
      "cell_type": "markdown",
      "metadata": {
        "cell_id": "a58fa0c5aeca48fb9fbe21ebcfcd3b7a",
        "deepnote_cell_type": "markdown",
        "nbsimplegrader": {
          "config_key": "markdown.response",
          "editable": true,
          "label": "Response: Markdown",
          "respondable": true,
          "response": null,
          "runnable": true,
          "type": "markdown"
        }
      },
      "source": "2.3 Response:\n\n"
    },
    {
      "cell_type": "markdown",
      "metadata": {
        "cell_id": "b54ae9946630467ab01323eec5a32176",
        "deepnote_cell_type": "markdown"
      },
      "source": "<div class=\"teacher-note\">\n\n<b>Sample Response</b>: \n    \n- Activision game: ~7\n- Nintendo game: ~7.5\n\n</div>"
    },
    {
      "cell_type": "markdown",
      "metadata": {
        "cell_id": "cfb65bed7f46443bb0facc2bbc161438",
        "deepnote_cell_type": "markdown"
      },
      "source": "### 2.4 Does this model appear to help us explain variation in `User_Score`? How can you tell?"
    },
    {
      "cell_type": "markdown",
      "metadata": {
        "cell_id": "5d8702b220a643fea416cee4563b8e17",
        "deepnote_cell_type": "markdown",
        "nbsimplegrader": {
          "config_key": "markdown.response",
          "editable": true,
          "label": "Response: Markdown",
          "respondable": true,
          "response": null,
          "runnable": true,
          "type": "markdown"
        }
      },
      "source": "2.4 Response:"
    },
    {
      "cell_type": "markdown",
      "metadata": {
        "cell_id": "3f4388eb20b34c0598a4f7a6d16d261c",
        "deepnote_cell_type": "markdown"
      },
      "source": "<div class=\"teacher-note\">\n\n<b>Sample Response</b>: \n    \nIt looks like it does help us explain some of the variation in user scores. I can tell because there are some differences between the distributions of the groups. Activision games are generally lower and more varied, while Nintendo games tend to be rated quite highly, with a lot less variation (more games clumped near the higher ratings, and hardly any really low ratings). This means I would make different predictions for user ratings depending on the Publisher of the game.\n    \n</div>"
    },
    {
      "cell_type": "markdown",
      "metadata": {
        "cell_id": "6983e9eda1714d41b86d2d4f3b9fa9d9",
        "deepnote_cell_type": "markdown"
      },
      "source": "## 3. The `Genre` Hypothesis"
    },
    {
      "cell_type": "markdown",
      "metadata": {
        "cell_id": "0aa2cfbdaace4be39a056309a7982c42",
        "deepnote_cell_type": "markdown"
      },
      "source": "### 3.1 Write a word equation to represent the hypothesis that the `Genre` of the video game might help us explain variation in `User_Score`."
    },
    {
      "cell_type": "markdown",
      "metadata": {
        "cell_id": "33874e57bc11435ca01b93663072f766",
        "deepnote_cell_type": "markdown",
        "nbsimplegrader": {
          "config_key": "markdown.response",
          "editable": true,
          "label": "Response: Markdown",
          "respondable": true,
          "response": null,
          "runnable": true,
          "type": "markdown"
        }
      },
      "source": "3.1 Response:"
    },
    {
      "cell_type": "markdown",
      "metadata": {
        "cell_id": "c2e5cfea775c481e912f89ad8fb79bff",
        "deepnote_cell_type": "markdown"
      },
      "source": "<div class=\"teacher-note\">\n\n<b>Sample Response</b>: User_Score = Genre + Other Stuff\n    \n</div>"
    },
    {
      "cell_type": "markdown",
      "metadata": {
        "cell_id": "245058c05d254e21afd1f390f1239f56",
        "deepnote_cell_type": "markdown"
      },
      "source": "### 3.2 Create a visualization to explore this hypothesis of the data generating process.\n\nThere are A LOT of different genres in this data frame, so we selected a few to compare: Fighting, Puzzle, and Simulation. We named this new data frame `games_genre`. Make sure you use that for your code here!"
    },
    {
      "cell_type": "code",
      "execution_count": null,
      "metadata": {
        "cell_id": "8d9203441c4c4a00a2ba5840abba8075",
        "deepnote_cell_type": "code",
        "nbsimplegrader": {
          "config_key": "code.response",
          "editable": true,
          "label": "Response: Code",
          "respondable": true,
          "response": null,
          "runnable": true,
          "type": "code"
        },
        "trusted": true
      },
      "outputs": [],
      "source": "# 3.2\n# Run code here (using data = games_genre)\n\n\n"
    },
    {
      "cell_type": "code",
      "execution_count": null,
      "metadata": {
        "cell_id": "2c9ff577149042149438db365f825666",
        "deepnote_cell_type": "code",
        "trusted": true
      },
      "outputs": [],
      "source": "# 3.2\n# Run code here (using data = games_genre)\n\n\n# sample responses\n\ngf_jitter(User_Score ~ Genre, data = games_genre, height = 0, width= .1, fill =~Genre) %>%\n  gf_boxplot()\n\ngf_histogram(~User_Score, data = games_genre, fill =~Genre) %>%\n  gf_facet_grid(Genre ~.) %>%\n  gf_boxplot()\n\ngf_point(User_Score ~ Genre, data = games_genre)"
    },
    {
      "cell_type": "markdown",
      "metadata": {
        "cell_id": "83d359bd637f4f8d93ec95cacac12478",
        "deepnote_cell_type": "markdown"
      },
      "source": "### 3.3 What `User_Score` would you predict for a game that is a puzzle game? A fighting game? A simulation game?"
    },
    {
      "cell_type": "markdown",
      "metadata": {
        "cell_id": "d075d383df7d42289689da0f8401ac2f",
        "deepnote_cell_type": "markdown",
        "nbsimplegrader": {
          "config_key": "markdown.response",
          "editable": true,
          "label": "Response: Markdown",
          "respondable": true,
          "response": null,
          "runnable": true,
          "type": "markdown"
        }
      },
      "source": "3.3 Response:\n\n"
    },
    {
      "cell_type": "markdown",
      "metadata": {
        "cell_id": "0a7ede1b44d24940a03bfceb1ca936bc",
        "deepnote_cell_type": "markdown"
      },
      "source": "<div class=\"teacher-note\">\n\n<b>Sample Response</b>:\n\n- Puzzle game: ~7\n- Fighting game: ~7\n- Simulation game: ~7\n\n</div>"
    },
    {
      "cell_type": "markdown",
      "metadata": {
        "cell_id": "592712829543435581554346aeb49d6e",
        "deepnote_cell_type": "markdown"
      },
      "source": "### 3.4 Does this model appear to help us explain variation in `User_Score`? How can you tell?"
    },
    {
      "cell_type": "markdown",
      "metadata": {
        "cell_id": "780b06b272a2426aa589e1bd9e2baf21",
        "deepnote_cell_type": "markdown",
        "nbsimplegrader": {
          "config_key": "markdown.response",
          "editable": true,
          "label": "Response: Markdown",
          "respondable": true,
          "response": null,
          "runnable": true,
          "type": "markdown"
        }
      },
      "source": "3.4 Response:\n"
    },
    {
      "cell_type": "markdown",
      "metadata": {
        "cell_id": "7107238efe5b4a6fbd24578608c43215",
        "deepnote_cell_type": "markdown"
      },
      "source": "<div class=\"teacher-note\">\n\n<b>Sample Response</b>: \n    \nIt looks like it does not really help us explain some of the variation in user scores. I can tell because there are hardly any differences between the distributions of the groups. They all have similar overlapping distributions. This means I would not make different predictions for user ratings depending on the Genre of the game.\n    \n</div>\n"
    },
    {
      "cell_type": "markdown",
      "metadata": {
        "cell_id": "bde3952ab67943608b05a3c2f47524dc",
        "deepnote_cell_type": "markdown"
      },
      "source": "## 4. Comparing our Hypotheses"
    },
    {
      "cell_type": "markdown",
      "metadata": {
        "cell_id": "2a74387d86904b6083df650d30c6f877",
        "deepnote_cell_type": "markdown"
      },
      "source": "### 4.1 What are some examples of potential \"other stuff\" that we might be seeing in these models? "
    },
    {
      "cell_type": "markdown",
      "metadata": {
        "cell_id": "c7cb17344e3140949cf65441e2a62d86",
        "deepnote_cell_type": "markdown",
        "nbsimplegrader": {
          "config_key": "markdown.response",
          "editable": true,
          "label": "Response: Markdown",
          "respondable": true,
          "response": null,
          "runnable": true,
          "type": "markdown"
        }
      },
      "source": "4.1 Response:"
    },
    {
      "cell_type": "markdown",
      "metadata": {
        "cell_id": "5e1468e7253848a483af60fce01f3838",
        "deepnote_cell_type": "markdown"
      },
      "source": "<div class=\"teacher-note\">\n\n<b>Sample Responses</b>: \n    \n- The characters in the game may affect user ratings.\n- The popularity, or global sales may affect user ratings.\n- How familiar the user is with the game may affect user ratings.\n- The amount of time spent developing the game may affect user ratings.\n- The platform of the game may affect user ratings.\n- The quality of the music in the game may affect user ratings.\n- *...and many more....*\n    \n    \n</div>"
    },
    {
      "cell_type": "markdown",
      "metadata": {
        "cell_id": "3b3b97f2db964e21842448615c90d316",
        "deepnote_cell_type": "markdown"
      },
      "source": "### 4.2 Which one appears to have more \"other stuff\" going on?"
    },
    {
      "cell_type": "markdown",
      "metadata": {
        "cell_id": "f4c1d3d6d7c941b5809ef28987d39249",
        "deepnote_cell_type": "markdown",
        "nbsimplegrader": {
          "config_key": "markdown.response",
          "editable": true,
          "label": "Response: Markdown",
          "respondable": true,
          "response": null,
          "runnable": true,
          "type": "markdown"
        }
      },
      "source": "4.2 Response:"
    },
    {
      "cell_type": "markdown",
      "metadata": {
        "cell_id": "9f59656164274ba7bd3a845ea67c8a4e",
        "deepnote_cell_type": "markdown"
      },
      "source": "<div class=\"teacher-note\">\n\n<b>Sample Response</b>: \n    \nThe `Genre` hypothesis appear to be mostly other stuff, because it did not help us explain variation in user scores.\n    \n</div>"
    },
    {
      "cell_type": "markdown",
      "metadata": {
        "cell_id": "025f8fbe1d4943eb8c46b8f14bbace5c",
        "deepnote_cell_type": "markdown"
      },
      "source": "### 4.3 Based on your explorations of the data today, what appears to matter more when trying to explain variation in `User_Score`: `Publisher` or `Genre`? How can you tell?"
    },
    {
      "cell_type": "markdown",
      "metadata": {
        "cell_id": "3a71db06e8224f2897adb67273177abc",
        "deepnote_cell_type": "markdown",
        "nbsimplegrader": {
          "config_key": "markdown.response",
          "editable": true,
          "label": "Response: Markdown",
          "respondable": true,
          "response": null,
          "runnable": true,
          "type": "markdown"
        }
      },
      "source": "4.3 Response:"
    },
    {
      "cell_type": "markdown",
      "metadata": {
        "cell_id": "8d290b9075014ecb8ff58d71bfb5891a",
        "deepnote_cell_type": "markdown"
      },
      "source": "<div class=\"teacher-note\">\n\n<b>Sample Response</b>: \n    \nThe `Publisher` model/hypothesis appears to do a better job at explaining variation in `User_Score` because we can make a better prediction of our outcome variable by knowing that information about a game.\n    \n</div>"
    }
  ],
  "metadata": {
    "deepnote_notebook_id": "b797aeddef9341f99cd3556947c0953c",
    "kernelspec": {
      "display_name": "R",
      "language": "R",
      "name": "ir"
    },
    "language_info": {
      "codemirror_mode": "r",
      "file_extension": ".r",
      "mimetype": "text/x-r-source",
      "name": "R",
      "pygments_lexer": "r",
      "version": "4.3.3"
    },
    "nbsimplegrader": {
      "publish_config": {
        "classes": [],
        "options": [],
        "tools": []
      }
    }
  },
  "nbformat": 4,
  "nbformat_minor": 1
}