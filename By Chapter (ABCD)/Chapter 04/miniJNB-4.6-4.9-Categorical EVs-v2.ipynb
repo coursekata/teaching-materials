{
  "cells": [
    {
      "cell_type": "markdown",
      "metadata": {
        "cell_id": "64a56b8b5d2f44578d8f460c5af2fdad",
        "deepnote_cell_type": "markdown",
        "nbsimplegrader": {
          "config_key": "markdown.view-only",
          "editable": false,
          "label": "Markdown: View-Only",
          "respondable": false,
          "response": null,
          "runnable": false,
          "type": "markdown"
        }
      },
      "source": "# Mental Health in Tech Survey\n\n## Chapter 4.6-4.9 Categorical, and More-Than-One, Explanatory Variables "
    },
    {
      "cell_type": "code",
      "execution_count": null,
      "metadata": {
        "cell_id": "0881710cccb345b98168c5423566245d",
        "deepnote_cell_type": "code",
        "execution_context_id": "57074c1b-56dc-4078-b5d4-00f4c8228150",
        "execution_millis": 1107,
        "execution_start": 1743702784619,
        "nbsimplegrader": {
          "config_key": "code.run-only",
          "editable": false,
          "label": "Code: Run-Only",
          "respondable": false,
          "response": null,
          "runnable": true,
          "type": "code"
        },
        "scrolled": true,
        "source_hash": "240debbc",
        "trusted": true
      },
      "outputs": [],
      "source": "# This code will load the R packages we will use\nlibrary(coursekata)\n\n# set styles\ncss <- suppressWarnings(readLines(\"https://raw.githubusercontent.com/jimstigler/jupyter/master/ck_jupyter_styles_v2.css\"))\nIRdisplay::display_html(sprintf('<style>%s</style>', paste(css, collapse = \"\\n\")))\n\n# Load the data frame\ntech1 <- read.csv(\"https://docs.google.com/spreadsheets/d/e/2PACX-1vS1tVN587A_zyDpFigG4Enccfn7zeTnhdjcd-B-71tFQHrELtV9iJGqXNGTHXwbVBBIfr041MdwwXJ_/pub?output=csv\", header=TRUE)\n# filtering based on common comments about applicability of responses \ntech2 <- filter(tech1, Country == \"United States\")\ntech3 <- filter(tech2, self_employed == \"No\")\ntech4 <- filter(tech3, tech_company == \"Yes\")\ntech <- select(tech4,Timestamp, Gender, family_history, treatment, work_interfere, remote_work, benefits, comments)\n# reorder work_interfere levels\ntech$work_interfere <- factor(tech$work_interfere, levels = c(\"Never\", \"Rarely\", \"Sometimes\", \"Often\"))"
    },
    {
      "cell_type": "markdown",
      "metadata": {
        "cell_id": "4c6ecb7734dd4efc80657a6522d7573e",
        "deepnote_cell_type": "markdown"
      },
      "source": "## 1 About the `tech` data \n\nWe will be using the `tech` data frame. This dataset is from a survey that measures attitudes towards mental health, beliefs about mental health in the workplace, and frequency of mental health issues in the tech workplace.\n\n[data source](https://www.kaggle.com/datasets/osmi/mental-health-in-tech-survey?resource=download)"
    },
    {
      "cell_type": "markdown",
      "metadata": {
        "cell_id": "29649102d303488093204f5589dc93c7",
        "deepnote_cell_type": "markdown"
      },
      "source": "### 1.1 Run some code to look at the `tech` data frame"
    },
    {
      "cell_type": "code",
      "execution_count": null,
      "metadata": {
        "cell_id": "3a97d02672904c2bade3b516318c200c",
        "deepnote_cell_type": "code",
        "nbsimplegrader": {
          "config_key": "code.response",
          "editable": true,
          "label": "Response: Code",
          "respondable": true,
          "response": null,
          "runnable": true,
          "type": "code"
        },
        "scrolled": true,
        "trusted": true
      },
      "outputs": [],
      "source": "# 1.1\n# run code here\n\n"
    },
    {
      "cell_type": "markdown",
      "metadata": {
        "cell_id": "49ae2f6aaeb14dc180c8ece2715f3fb2",
        "deepnote_cell_type": "markdown"
      },
      "source": "\n\nHere is a description of each of the variables, or their corresponding survey question:\n\n- `Timestamp`The time the survey was submitted\n- `Gender` The gender of the participant (Male, Female, T-F = transgender female, Alt Gen = nonbinary, gender queer, fluid, etc.) \n- `family_history` Do you have a family history of mental illness?\n- `treatment` Have you sought treatment for a mental health condition?\n- `work_interfere` If you have a mental health condition, do you feel that it interferes with your work?\n- `remote_work` Do you work remotely (outside of an office) at least 50% of the time?\n- `benefits` Does your employer provide mental health benefits?\n- `comments` Any additional notes or comments"
    },
    {
      "cell_type": "markdown",
      "metadata": {
        "cell_id": "5a9039ab62cb4df88d96c2e5245df4ca",
        "deepnote_cell_type": "markdown"
      },
      "source": "## 2 Explaining Variation in `treatment`\n\nLet's explore the data and see if we can explain variation in tech workers who do or do not seek out treatment for a mental health condition.\n\nTake a look at the distribution of `treatment` = other stuff. "
    },
    {
      "cell_type": "code",
      "execution_count": null,
      "metadata": {
        "cell_id": "ea9697ed55f54f9e99fbe235a08b2ca2",
        "deepnote_cell_type": "code",
        "nbsimplegrader": {
          "config_key": "code.response",
          "editable": true,
          "label": "Response: Code",
          "respondable": true,
          "response": null,
          "runnable": true,
          "type": "code"
        },
        "scrolled": false,
        "trusted": true
      },
      "outputs": [],
      "source": "# 2\n# Run this code \n\ngf_bar(~treatment, data = tech, fill = \"gold2\") %>%\n  gf_labs(title = \"Have you sought treatment for a mental health condition?\")\n\ntally(~treatment, data = tech)"
    },
    {
      "cell_type": "markdown",
      "metadata": {
        "cell_id": "dc49b9edc28c46a9ba2684bb4463bb12",
        "deepnote_cell_type": "markdown"
      },
      "source": "### 2.1 If you had to guess which category a random tech worker probably belongs to, which would you guess? How confident would you feel in your guess?"
    },
    {
      "cell_type": "markdown",
      "metadata": {
        "cell_id": "837719e00b4846bfbf84dd8dfb1b2a29",
        "deepnote_cell_type": "markdown",
        "nbsimplegrader": {
          "config_key": "markdown.response",
          "editable": true,
          "label": "Response: Markdown",
          "respondable": true,
          "response": null,
          "runnable": true,
          "type": "markdown"
        }
      },
      "source": "2.1 Response:"
    },
    {
      "cell_type": "markdown",
      "metadata": {
        "cell_id": "905277acca6c4e6c848e827c4193238d",
        "deepnote_cell_type": "markdown"
      },
      "source": "### 2.2 Categorize the variables below according to how much variation you think they would explain in `treatment` (either: \"not much\", \"some\", or \"a lot\").\n\nAnother way of thinking about this is: If I knew *this* extra information about the tech worker, I would probably be able to improve my guess of their `treatment` response."
    },
    {
      "cell_type": "markdown",
      "metadata": {
        "cell_id": "17a942b66f0c4bfea42f6d92560e43d5",
        "deepnote_cell_type": "markdown"
      },
      "source": "- `Timestamp` The time the survey was submitted\n- `Gender` The gender of the participant\n- `family_history` Do you have a family history of mental illness?\n- `work_interfere` If you have a mental health condition, do you feel that it interferes with your work?\n- `remote_work` Do you work remotely (outside of an office) at least 50% of the time?\n- `benefits` Does your employer provide mental health benefits?\n- `comments` Any additional notes or comments"
    },
    {
      "cell_type": "markdown",
      "metadata": {
        "cell_id": "b5a1f65986f2422897c5884fdd6f4f15",
        "deepnote_cell_type": "markdown",
        "nbsimplegrader": {
          "config_key": "markdown.response",
          "editable": true,
          "label": "Response: Markdown",
          "respondable": true,
          "response": null,
          "runnable": true,
          "type": "markdown"
        }
      },
      "source": "2.2 Response:"
    },
    {
      "cell_type": "markdown",
      "metadata": {
        "cell_id": "c1ee00bd2af4472a860d4cfb32d6672d",
        "deepnote_cell_type": "markdown"
      },
      "source": "### 2.3 Write a word equation that expresses the idea that `work_interfere` might help us explain the variation we see in `treatment`."
    },
    {
      "cell_type": "markdown",
      "metadata": {
        "cell_id": "d8c6c2d939be4725b638d69590897033",
        "deepnote_cell_type": "markdown",
        "nbsimplegrader": {
          "config_key": "markdown.response",
          "editable": true,
          "label": "Response: Markdown",
          "respondable": true,
          "response": null,
          "runnable": true,
          "type": "markdown"
        }
      },
      "source": "2.3 Response:"
    },
    {
      "cell_type": "markdown",
      "metadata": {
        "cell_id": "4844e339d76c4edc8bd3aea725776fa1",
        "deepnote_cell_type": "markdown"
      },
      "source": "### 2.4 Visualize this hypothesis, and generate its contingency table."
    },
    {
      "cell_type": "code",
      "execution_count": null,
      "metadata": {
        "cell_id": "0539ed6cb13e46f58758debdd9ab4a9b",
        "deepnote_cell_type": "code",
        "nbsimplegrader": {
          "config_key": "code.response",
          "editable": true,
          "label": "Response: Code",
          "respondable": true,
          "response": null,
          "runnable": true,
          "type": "code"
        },
        "scrolled": true,
        "trusted": true
      },
      "outputs": [],
      "source": "# 2.4\n# Run code here\n\n\n\n"
    },
    {
      "cell_type": "markdown",
      "metadata": {
        "cell_id": "8fad50d3ba514307854c58812e62fe3f",
        "deepnote_cell_type": "markdown"
      },
      "source": "### 2.5 If you knew someone had responded \"Never\" to the `work_interfere` question, what would you guess to be their `treatment` category? \n\nHow about if they responded \"Often\" to the `work_interfere` question?"
    },
    {
      "cell_type": "markdown",
      "metadata": {
        "cell_id": "47e508072b1c4903ac907bdaa03291bc",
        "deepnote_cell_type": "markdown",
        "nbsimplegrader": {
          "config_key": "markdown.response",
          "editable": true,
          "label": "Response: Markdown",
          "respondable": true,
          "response": null,
          "runnable": true,
          "type": "markdown"
        }
      },
      "source": "2.5 Response:"
    },
    {
      "cell_type": "markdown",
      "metadata": {
        "cell_id": "d495aee4e5c947b9b26210e7157a0965",
        "deepnote_cell_type": "markdown"
      },
      "source": "### 2.6 Which word equation appears to be the better representation of the data generating process? Why?\n\n1. `treatment` = `work_interfere` + other stuff\n2. `treatment` = other stuff"
    },
    {
      "cell_type": "markdown",
      "metadata": {
        "cell_id": "7bff8daeaf6c45d9b83342f7b0e15062",
        "deepnote_cell_type": "markdown",
        "nbsimplegrader": {
          "config_key": "markdown.response",
          "editable": true,
          "label": "Response: Markdown",
          "respondable": true,
          "response": null,
          "runnable": true,
          "type": "markdown"
        }
      },
      "source": "2.6 Response:"
    },
    {
      "cell_type": "markdown",
      "metadata": {
        "cell_id": "5e957d30a7dc42e1bd543018148fc970",
        "deepnote_cell_type": "markdown"
      },
      "source": "### 2.7 Are there any other potential explanations for why we are seeing this particular pattern of variation?"
    },
    {
      "cell_type": "markdown",
      "metadata": {
        "cell_id": "7365c2579a034c60a9636ae966d39b16",
        "deepnote_cell_type": "markdown",
        "nbsimplegrader": {
          "config_key": "markdown.response",
          "editable": true,
          "label": "Response: Markdown",
          "respondable": true,
          "response": null,
          "runnable": true,
          "type": "markdown"
        }
      },
      "source": "2.7 Response:"
    },
    {
      "cell_type": "markdown",
      "metadata": {
        "cell_id": "abeaa13372a744018595f57d71e33feb",
        "deepnote_cell_type": "markdown"
      },
      "source": "## 3 The `benefits` Hypothesis"
    },
    {
      "cell_type": "code",
      "execution_count": null,
      "metadata": {
        "cell_id": "c3fd2d4964a54fd484fa978b931def24",
        "deepnote_cell_type": "code",
        "nbsimplegrader": {
          "config_key": "code.response",
          "editable": true,
          "label": "Response: Code",
          "respondable": true,
          "response": null,
          "runnable": true,
          "type": "code"
        },
        "scrolled": true,
        "trusted": true
      },
      "outputs": [],
      "source": "# 3\n# Run this code\n\ntally(treatment ~ benefits, data = tech, format = \"proportion\")\n\ngf_props(~ treatment , data = tech, fill = \"coral1\") %>%\n  gf_facet_grid(.~benefits)"
    },
    {
      "cell_type": "markdown",
      "metadata": {
        "cell_id": "ea7bc2e3c15949e8831c0580b9d38652",
        "deepnote_cell_type": "markdown"
      },
      "source": "### 3.1 What question or hypothesis is the distribution above trying to explore? Can we tell what the word equation should be based on the code? If so, put it into a word equation."
    },
    {
      "cell_type": "markdown",
      "metadata": {
        "cell_id": "b7efc9ac033d46c888f3d1aa5dcd6603",
        "deepnote_cell_type": "markdown",
        "nbsimplegrader": {
          "config_key": "markdown.response",
          "editable": true,
          "label": "Response: Markdown",
          "respondable": true,
          "response": null,
          "runnable": true,
          "type": "markdown"
        }
      },
      "source": "3.1 Response:"
    },
    {
      "cell_type": "markdown",
      "metadata": {
        "cell_id": "554b6bcba20e40878cb78b0398000299",
        "deepnote_cell_type": "markdown"
      },
      "source": "### 3.2 What do you think about this hypothesis? Does it help us explain variation? How can you tell?"
    },
    {
      "cell_type": "markdown",
      "metadata": {
        "cell_id": "b839ed2a25874085801214689f38474a",
        "deepnote_cell_type": "markdown",
        "nbsimplegrader": {
          "config_key": "markdown.response",
          "editable": true,
          "label": "Response: Markdown",
          "respondable": true,
          "response": null,
          "runnable": true,
          "type": "markdown"
        }
      },
      "source": "3.2 Response:"
    },
    {
      "cell_type": "markdown",
      "metadata": {
        "cell_id": "379ab4967f2848e397e52dc3a9ca7b07",
        "deepnote_cell_type": "markdown"
      },
      "source": "### 3.3 How might we add the additional explanatory variable of `family_history` to this hypothesis? Add it to the plot and add it to your word equation."
    },
    {
      "cell_type": "code",
      "execution_count": null,
      "metadata": {
        "cell_id": "2d382bb6b9674a23a6bca410797bcff3",
        "deepnote_cell_type": "code",
        "nbsimplegrader": {
          "config_key": "code.response",
          "editable": true,
          "label": "Response: Code",
          "respondable": true,
          "response": null,
          "runnable": true,
          "type": "code"
        },
        "scrolled": true,
        "trusted": true
      },
      "outputs": [],
      "source": "# 3.3 \n# Add family_history to your plot here\n\n\n"
    },
    {
      "cell_type": "markdown",
      "metadata": {
        "cell_id": "bcf4fc6e638649b9a1aa29c1f72d5693",
        "deepnote_cell_type": "markdown",
        "nbsimplegrader": {
          "config_key": "markdown.response",
          "editable": true,
          "label": "Response: Markdown",
          "respondable": true,
          "response": null,
          "runnable": true,
          "type": "markdown"
        }
      },
      "source": "3.3 Response:\n\nAdd `family_history` to your word equation here:\n\n"
    },
    {
      "cell_type": "markdown",
      "metadata": {
        "cell_id": "b946fda2e8b747728216738c5f6d4bb0",
        "deepnote_cell_type": "markdown"
      },
      "source": "### 3.4 What `treatment` category would you predict for a tech worker who responded \"Yes\" to the `family_history` question, and \"No\" to the `benefits` question? \n\nWhat if they said \"Yes\" to the `family_history` question, and \"Don't know\" to the `benefits` question?"
    },
    {
      "cell_type": "markdown",
      "metadata": {
        "cell_id": "144e4458419b46c189b5bc3525079fe6",
        "deepnote_cell_type": "markdown",
        "nbsimplegrader": {
          "config_key": "markdown.response",
          "editable": true,
          "label": "Response: Markdown",
          "respondable": true,
          "response": null,
          "runnable": true,
          "type": "markdown"
        }
      },
      "source": "3.4 Response:"
    },
    {
      "cell_type": "markdown",
      "metadata": {
        "cell_id": "3bd91fafd28f4169923b5f369e3ea128",
        "deepnote_cell_type": "markdown"
      },
      "source": "### 3.5 Have we explained any more variation in `treatment` by adding `family_history` to our word equation? How can you tell?"
    },
    {
      "cell_type": "markdown",
      "metadata": {
        "cell_id": "f833e890b4f04dd9a3766a3abc7c2ff8",
        "deepnote_cell_type": "markdown",
        "nbsimplegrader": {
          "config_key": "markdown.response",
          "editable": true,
          "label": "Response: Markdown",
          "respondable": true,
          "response": null,
          "runnable": true,
          "type": "markdown"
        }
      },
      "source": "3.5 Response:"
    },
    {
      "cell_type": "markdown",
      "metadata": {
        "cell_id": "1162d80c2b3843fd8d5d4df2a3df8fbc",
        "deepnote_cell_type": "markdown"
      },
      "source": ""
    }
  ],
  "metadata": {
    "deepnote_notebook_id": "4c7e4e6fc6a64e02979d3b1e2d243dc3",
    "kernelspec": {
      "display_name": "R",
      "language": "R",
      "name": "ir"
    },
    "language_info": {
      "codemirror_mode": "r",
      "file_extension": ".r",
      "mimetype": "text/x-r-source",
      "name": "R",
      "pygments_lexer": "r",
      "version": "4.3.3"
    },
    "nbsimplegrader": {
      "publish_config": {
        "classes": [],
        "options": [],
        "tools": []
      }
    }
  },
  "nbformat": 4,
  "nbformat_minor": 1
}