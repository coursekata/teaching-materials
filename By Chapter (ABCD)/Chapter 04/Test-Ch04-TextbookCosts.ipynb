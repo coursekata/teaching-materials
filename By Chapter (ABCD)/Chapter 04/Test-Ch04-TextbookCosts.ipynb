{
  "cells": [
    {
      "cell_type": "markdown",
      "metadata": {
        "cell_id": "dcdba05e79b348cd80a2cc1857e34421",
        "deepnote_cell_type": "markdown",
        "tags": []
      },
      "source": "# <center>Test (Ch. 1-4): Textbook Costs</center> "
    },
    {
      "cell_type": "code",
      "execution_count": null,
      "metadata": {
        "cell_id": "f45b4dbc1bcb4e388ddb5a2612ee5a98",
        "deepnote_cell_type": "code",
        "deepnote_to_be_reexecuted": false,
        "execution_millis": 4485,
        "execution_start": 1723838312539,
        "source_hash": null,
        "tags": [],
        "trusted": true
      },
      "outputs": [],
      "source": "# Run this code to load the required packages\nsuppressMessages(suppressWarnings(suppressPackageStartupMessages({\n  library(coursekata)\n})))"
    },
    {
      "cell_type": "markdown",
      "metadata": {
        "cell_id": "8e838ddb7d30456da46fb789b6ccea0a",
        "deepnote_cell_type": "markdown",
        "tags": []
      },
      "source": "Data frame name (preloaded in R):`TextbookCosts`\n\nA liberal arts college was interested in how expensive textbooks were for their students. They compiled the cost of textbooks from forty different courses across four disciplines. For each course the bookstore's website lists the required text(s), how many textbooks were required for that class, and the total cost for the required books. Data were collected for the Fall 2011 semester.\n\nVariables: There are three variables in the data frame.\n\n- `Field`: General discipline of the course (Arts, Humanities, NaturalScience, or SocialScience)\n\n- `Books`: Number of books required for that course\n\n- `Cost`: Total cost (in dollars) for required books\n"
    },
    {
      "cell_type": "markdown",
      "metadata": {
        "cell_id": "acb86a315fe5406abb379c133625e080",
        "deepnote_cell_type": "markdown",
        "tags": []
      },
      "source": "### Question 1\n\nWhat are the cases in this data frame?"
    },
    {
      "cell_type": "markdown",
      "metadata": {
        "cell_id": "dcbae19b174c4f7ca74f27a995110192",
        "deepnote_cell_type": "markdown",
        "tags": []
      },
      "source": "### Question 2\n\nThere are courses that required students to purchase 9 books! How many courses required this many books?"
    },
    {
      "cell_type": "markdown",
      "metadata": {
        "cell_id": "d28df6e4e9c14b64840fe6d610aeb2a6",
        "deepnote_cell_type": "markdown",
        "tags": []
      },
      "source": "### Question 3\n\nWhat percentage of courses required students to purchase more than 1 book? Write R code that would give you the answer to this question as well as the percentage.\n"
    },
    {
      "cell_type": "markdown",
      "metadata": {
        "cell_id": "02c578d05876422f860a05240c08039e",
        "deepnote_cell_type": "markdown",
        "tags": []
      },
      "source": "### Question 4\n\nAlthough they tell us the total cost of textbooks for a course, we cannot tell how much each individual book in the course cost students. Let’s say we want to create a new variable called **averagebookcost** in this `TextbookCosts` data frame. We can calculate this by taking the total cost and dividing by the number of books required. Write code to create such a variable in this data frame. "
    },
    {
      "cell_type": "markdown",
      "metadata": {
        "cell_id": "f8da89764999448da5967686e30170f4",
        "deepnote_cell_type": "markdown",
        "tags": []
      },
      "source": "### Question 5\n\nCreate a histogram to look at the variation in `Cost`.\n"
    },
    {
      "cell_type": "markdown",
      "metadata": {
        "cell_id": "66b1387453ab4151a070566e17f87a8e",
        "deepnote_cell_type": "markdown",
        "tags": []
      },
      "source": "### Question 6\n\nSome people might look at the histogram and assume `Cost` meant the cost of individual textbooks rather than the total cost of textbooks for a course. Write some code to provide a clearer label for the x-axis. "
    },
    {
      "cell_type": "markdown",
      "metadata": {
        "cell_id": "ff415ad2422b441dbf20fe6233396168",
        "deepnote_cell_type": "markdown",
        "tags": []
      },
      "source": "### Question 7\n\nWhat are some things you notice about the distribution (think: shape, center, spread, and weird things).\n"
    },
    {
      "cell_type": "markdown",
      "metadata": {
        "cell_id": "4d4a301cba7143ab9d8d93377a7f0afe",
        "deepnote_cell_type": "markdown",
        "tags": []
      },
      "source": "### Question 8\n\nAre courses in some disciplines more expensive than others? Write a word equation to explain the variation in `Cost` with `Field`. "
    },
    {
      "cell_type": "markdown",
      "metadata": {
        "cell_id": "28e6c3bfbb8f49b7978ca76c632d1843",
        "deepnote_cell_type": "markdown",
        "tags": []
      },
      "source": "### Question 9\n\nIf you look at the histogram for `Cost`, you’ll see that the most expensive course costs nearly $250. What `Field` is that course in? "
    },
    {
      "cell_type": "markdown",
      "metadata": {
        "cell_id": "b8ef299a1ca84121b2e73777297ee46f",
        "deepnote_cell_type": "markdown",
        "tags": []
      },
      "source": "### Question 10\n\nCreate a faceted histogram to explore whether `Field` explains some of the variation in `Cost`."
    },
    {
      "cell_type": "markdown",
      "metadata": {
        "cell_id": "9d9a917ca95d4edca474dd4f1f725ad5",
        "deepnote_cell_type": "markdown",
        "tags": []
      },
      "source": "### Question 11\n\nCreate a boxplot to explore whether `Field` explains some of the variation in `Cost`."
    },
    {
      "cell_type": "markdown",
      "metadata": {
        "cell_id": "dabb1047fc8b40518d0a631bc4dd9d7f",
        "deepnote_cell_type": "markdown",
        "tags": []
      },
      "source": "### Question 12\n\nDoes `Field` appear to explain some of the variation in `Cost`? Explain what you are looking for in these plots that would show that `Field` does indeed explain some of the variation in `Cost`."
    },
    {
      "cell_type": "markdown",
      "metadata": {
        "cell_id": "01ed1f852e9749c5b66dd45416c56903",
        "deepnote_cell_type": "markdown",
        "tags": []
      },
      "source": "## Question 13\n\nThe set of boxplots (LEFT) is the real sample. The second set of boxplots (RIGHT) have been shuffled (the values for `Cost` have been shuffled and the values for `Field` have been shuffled). \n\n|                                                                           |                                                                           | \n|---------------------------------------------------------------------------|---------------------------------------------------------------------------|\n|<img src=\"https://imgur.com/MzC0rLK.png\" title=\"Cost Boxplot\" width=\"100%\"/>|<img src=\"https://imgur.com/O6kkLFK.png\" title=\"Cost Shuffle Boxplot\" width=\"100%\"/>|\n\nThe instructor points to the shuffled boxplots and says, “Here, the distribution of costs for Social Science courses are generally lower than the other three box plots. This shuffled boxplot provides evidence that social science courses are cheaper than courses in those three other subject areas.” The instructor is wrong. Explain why.\n"
    }
  ],
  "metadata": {
    "deepnote_notebook_id": "2cac1cf1b6f046388fa1a2728c43fc66",
    "kernelspec": {
      "display_name": "R",
      "language": "R",
      "name": "ir"
    },
    "language_info": {
      "codemirror_mode": "r",
      "file_extension": ".r",
      "mimetype": "text/x-r-source",
      "name": "R",
      "pygments_lexer": "r",
      "version": "4.3.3"
    },
    "nbsimplegrader": {
      "publish_config": {
        "classes": [],
        "options": [],
        "tools": []
      }
    }
  },
  "nbformat": 4,
  "nbformat_minor": 1
}