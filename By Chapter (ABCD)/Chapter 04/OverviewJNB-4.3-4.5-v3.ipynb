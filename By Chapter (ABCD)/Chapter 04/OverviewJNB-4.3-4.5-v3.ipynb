{
  "cells": [
    {
      "cell_type": "markdown",
      "metadata": {
        "cell_id": "11cef505c2b040e6802661d999f79647",
        "deepnote_cell_type": "markdown"
      },
      "source": "# Scatter, Jitter, Box Plots, & Histograms\n\n## Chapter 4.3-4.5 Overview Notebook"
    },
    {
      "cell_type": "code",
      "execution_count": null,
      "metadata": {
        "cell_id": "48fa4991c4bd4625917bcae7a3cfddf8",
        "deepnote_cell_type": "code",
        "scrolled": true,
        "trusted": true
      },
      "outputs": [],
      "source": "# run this to set up the notebook\nlibrary(coursekata)\n\n# read in data\nset.seed(100)\nstroop100 <- sample(read.csv(\"https://docs.google.com/spreadsheets/d/e/2PACX-1vSUSCmFFNt6jEMyTNGHMW9VxPsJrHoFbGvylhEAHkbonu0BuJBRH48Cgsk4hyKwkRPSQhhqpX8ypIND/pub?gid=569699744&single=true&output=csv\"), 100)[,-4] \n\n# set styles\ncss <- suppressWarnings(readLines(\"https://raw.githubusercontent.com/jimstigler/jupyter/master/ck_jupyter_styles.css\"))\nIRdisplay::display_html(sprintf('<style>%s</style>', paste(css, collapse = \"\\n\")))"
    },
    {
      "cell_type": "markdown",
      "metadata": {
        "cell_id": "b0df485242794a4489d8c7778074bf92",
        "deepnote_cell_type": "markdown"
      },
      "source": "## 1 Data Collection Activity: The Stroop Task\n\nThe Stroop Task originates from a landmark study by John Ridley Stroop in 1935, published in the paper _Studies of Interference in Serial Verbal Reactions._ Stroop was an American psychologist who investigated how conflicting information affects cognitive processing. Variations of the Stroop tasks are still widely used today by researchers in many subfields of psychology. Today, you are going to be a participant in a classic Stroop task!\n\n**What is the Stroop task?** The classic Stroop task is very simple. The research participant is given a list of words and asked to _name the color of the font each word is printed in_ as fast as they can. How hard could that be?<br><br>\n\n<center><span style=\"color: red; font-size: 32px;\">\nRED&nbsp;&nbsp;&nbsp;BLUE\n</span></center>\n\nFor example, if you were given the list of two words above you would say, \"Red, red,\" because both words are printed in a red font. (If you said \"Red, blue\" that would be a mistake, though it is a common mistake.) <br><br>\n\n<div class=\"guided-notes\"> \n<h3>1.1 Collect some data and record it in the guided notes.</h3>\nFollow the steps below to collect data on the Stroop task.\n</div>\n\n**Step 1.** Pair up with a partner. Decide who will be the **timer** and who will be the **reader** for the first set of words (**section 1.2, below**).\n\n**Step 2.** The timer says \"Go\" and starts the time. The reader should name the font colors out loud as quickly as possible, row by row, until completing all five rows of words. Record the time in seconds in the data table on your guided notes.\n\n**Step 3.** Switch roles. Repeat Step 2 with the second set of words (**section 1.3, below**).\n    \n**Step 4.**  Write down times from other classmates until you fill up the table in your guided notes.\n"
    },
    {
      "cell_type": "markdown",
      "metadata": {
        "cell_id": "b39cac4cc3ef404ba93854c50f9f097c",
        "deepnote_cell_type": "markdown"
      },
      "source": "### 1.2 The First Set of Words: Congruent\n<img src=\"https://coursekata-course-assets.s3.us-west-1.amazonaws.com/UCLATALL/czi-stats-course/jnb_overview_3.1-3.4_stroop_congruent.jpg\">\n"
    },
    {
      "cell_type": "markdown",
      "metadata": {
        "cell_id": "55ad353117ce48cf892cc03bdb581838",
        "deepnote_cell_type": "markdown"
      },
      "source": "### 1.3 The Second Set of Words: Incongruent\n<img src=\"https://coursekata-course-assets.s3.us-west-1.amazonaws.com/UCLATALL/czi-stats-course/jnb_overview_3.1-3.4_stroop_incongruent.jpg\">\n\n"
    },
    {
      "cell_type": "markdown",
      "metadata": {
        "cell_id": "f0d49fb713aa41028c244508351a4b1a",
        "deepnote_cell_type": "markdown"
      },
      "source": "<div class=\"discussion-question\">\n<h3>1.4 Key Discussion Questions: What did you notice in doing the Stroop task? Was your experience different from your partner's?</h3> \nWhy do you think the first list is called <i>congruent</i> and the second list <i>incongruent</i>?\n</div>"
    },
    {
      "cell_type": "markdown",
      "metadata": {
        "cell_id": "bdf93d33b9574146b3f01718688b2c35",
        "deepnote_cell_type": "markdown"
      },
      "source": "## 2 Does list type explain variation in  time?\nThere are two different types of lists: congruent and incongruent. Half of the class read the colors of the congruent list and half from the incongruent list. Do you think list type would explain variation in time?"
    },
    {
      "cell_type": "markdown",
      "metadata": {
        "cell_id": "5aa2d9ce25fb49c7b3b38376b066d817",
        "deepnote_cell_type": "markdown"
      },
      "source": "<div class=\"discussion-question\">\n    <h3>2.1 Key Discussion Question: What is our informal definition of <i>explain variation</i>? </h3>\n    \n- What does it mean for one variable to <i>explain variation</i> in another? \n- In the current example, what is the outcome variable? What is the explanatory variable?\n</div>"
    },
    {
      "cell_type": "markdown",
      "metadata": {
        "cell_id": "b11990bc34404d79ad92ea6302d93119",
        "deepnote_cell_type": "markdown"
      },
      "source": "<div class=\"discussion-question\">\n    <h3>2.2 Key Discussion Question: Do you think list type would explain some of the variation in time? Why or why not?</h3>\n</div>"
    },
    {
      "cell_type": "markdown",
      "metadata": {
        "cell_id": "215b328ec1e645d396f21b28d844a4ef",
        "deepnote_cell_type": "markdown"
      },
      "source": "<div class=\"guided-notes\">\n    \n### 2.3 Write a word equation to represent the hypothesis that `list_type` would explain some (but not all) of the variation in `time_sec`.\n    \n</div>"
    },
    {
      "cell_type": "markdown",
      "metadata": {
        "cell_id": "2aa6b9bf3f5f414fb46a23e77ade782a",
        "deepnote_cell_type": "markdown"
      },
      "source": "## 3. Explore Visually Whether `list_type` Explains Variation in `time_sec` (Scatter Plots)\n\nNow that we have a hypothesis, let's explore whether it seems to be true in a sample of data. We have loaded a data frame called `stroop100`. It contains data from 100 students who completed the same Stroop task you just did.\n\n### 3.1 Run some code in the next cell to see what's in the data frame"
    },
    {
      "cell_type": "code",
      "execution_count": null,
      "metadata": {
        "cell_id": "b317016c190d48c38256ff368535f489",
        "deepnote_cell_type": "code",
        "trusted": true
      },
      "outputs": [],
      "source": "# write code here to see what's in the data frame\n\n\n# write some code to see how many students read each list_type\n\n\n# write some code to look at the distribution of the outcome variable time_sec\n"
    },
    {
      "cell_type": "markdown",
      "metadata": {
        "cell_id": "a617d553f8034b048695a042d27c97d7",
        "deepnote_cell_type": "markdown"
      },
      "source": "<div class=\"guided-notes\">   \n<h3>3.2 Scatter plot</h3>\n    Write some R code to generate a scatter plot to explore the word equation <b>time_sec = list_type + other stuff</b>\n</div>"
    },
    {
      "cell_type": "code",
      "execution_count": null,
      "metadata": {
        "cell_id": "e41c8ae9cc0849c5b8dd49a5fe339374",
        "deepnote_cell_type": "code",
        "trusted": true
      },
      "outputs": [],
      "source": "# write code for a scatter plot here\n"
    },
    {
      "cell_type": "markdown",
      "metadata": {
        "cell_id": "483073cf57f0452ebe33a35dfdafa0c4",
        "deepnote_cell_type": "markdown"
      },
      "source": "<div class=\"discussion-question\">\n    <h3>3.3 Key Discussion Question: What do you see in the scatter plot? Do you see support for the hypothesis represented in the word equation? Do you see support for the inclusion of \"other stuff\" in the word equation?</h3>\n</div>"
    },
    {
      "cell_type": "markdown",
      "metadata": {
        "cell_id": "68082bcf70704312b127c2a712627edc",
        "deepnote_cell_type": "markdown"
      },
      "source": "## 4. Visualizing the Relationship with Jitter Plots\n\nOne thing that is annoying about scatter plots is that sometimes dots are right on top of each other. This is especially true in cases like this one, where the explanatory variable is categorical with only two levels. In cases like this we might choose a jitter plot. It's like a scatter plot, but adds in some random \"jittering\" to make it easier to see the individual dots. Instead of `gf_point` we can use `gf_jitter`."
    },
    {
      "cell_type": "markdown",
      "metadata": {
        "cell_id": "2f8fe8597f604bd6ada509c2f6b24657",
        "deepnote_cell_type": "markdown"
      },
      "source": "<div class=\"guided-notes\">\n    \n### 4.1 Jitter plot\n    \nLook at the `gf_point` code. What might be the R code to produce a jitter plot?\n\n</div>"
    },
    {
      "cell_type": "code",
      "execution_count": null,
      "metadata": {
        "cell_id": "c6cda65a852d4d0aa4951b9b87eb9bba",
        "deepnote_cell_type": "code",
        "scrolled": false,
        "trusted": true
      },
      "outputs": [],
      "source": "# write code for a jitter plot here\n"
    },
    {
      "cell_type": "markdown",
      "metadata": {
        "cell_id": "2a91fe8862ac46f1a1e2c685deb19d3c",
        "deepnote_cell_type": "markdown"
      },
      "source": "<div class=\"discussion-question\">\n    <h3>4.2 Key Discussion Question: What can you see in the jitter plot? Which way are the dots jittered? Horizontally or vertically? Does it matter?</h3>\n</div>"
    },
    {
      "cell_type": "code",
      "execution_count": null,
      "metadata": {
        "cell_id": "ee3a4163276b466ab6b66b885b0055fb",
        "deepnote_cell_type": "code",
        "trusted": true
      },
      "outputs": [],
      "source": "# modify the amount of jitter on this jitter plot\ngf_jitter(time_sec ~ list_type,\n          data = stroop100)"
    },
    {
      "cell_type": "markdown",
      "metadata": {
        "cell_id": "0ca8f1aa244d41208670f8d97243f525",
        "deepnote_cell_type": "markdown"
      },
      "source": "## 5. Visualizing the Relationship with Box Plots\nIn the previous chapter we learned to make box plots to represent a single distribution. Now let's see if we can use them to represent a relationship such as the one between list type and time."
    },
    {
      "cell_type": "markdown",
      "metadata": {
        "cell_id": "2c4cd4a58bb940c8b2a6fa3b9ce11932",
        "deepnote_cell_type": "markdown"
      },
      "source": "<div class=\"guided-notes\">\n    \n### 5.1 Box plots\n    \nLook at the `gf_point` and `gf_jitter` code. What might be the R code to produce box plots that represent the relationship between `time_sec` and `list_type`?\n</div>"
    },
    {
      "cell_type": "code",
      "execution_count": null,
      "metadata": {
        "cell_id": "22a7e74761eb4f70a8b06580dba2eb10",
        "deepnote_cell_type": "code",
        "scrolled": false,
        "trusted": true
      },
      "outputs": [],
      "source": "# write code for box plots here\n"
    },
    {
      "cell_type": "markdown",
      "metadata": {
        "cell_id": "722567178f474eb8bf6edb06fd5a4ecb",
        "deepnote_cell_type": "markdown"
      },
      "source": "<div class=\"discussion-question\">\n\n### 5.2 Key Discussion Question: Can you see the relationship of `list_type` and `time_sec` in the box plot? What can you more easily see in the box plot? In the jitter plot?\n    \n</div>"
    },
    {
      "cell_type": "markdown",
      "metadata": {
        "cell_id": "76d1d978897747989b29b28c19e2b3ad",
        "deepnote_cell_type": "markdown"
      },
      "source": "<img src=\"https://coursekata-course-assets.s3.us-west-1.amazonaws.com/UCLATALL/czi-stats-course/jnb-4.3-4.5-jitter-boxplots.jpg\">"
    },
    {
      "cell_type": "markdown",
      "metadata": {
        "cell_id": "918bc9c0bdbd4caeac44f0a56b53f3b4",
        "deepnote_cell_type": "markdown"
      },
      "source": "<div class=\"guided-notes\">\n\n### 5.3 [on the next page] In the two graphs, label the x- and y-axes. \n    \nTry to estimate the medians for the two groups from the graphs.\n    \n</div>"
    },
    {
      "cell_type": "markdown",
      "metadata": {
        "cell_id": "771ed21e468b4e76a702aba35b739415",
        "deepnote_cell_type": "markdown"
      },
      "source": "<div class=\"discussion-question\">\n\n<h3>5.4 Make a prediction: What would you get if you ran this code: <br><code>favstats(time_sec ~ list_type, data = stroop100)</code>?</h3>\n    \n</div>"
    },
    {
      "cell_type": "code",
      "execution_count": null,
      "metadata": {
        "cell_id": "9f1d3fbd7f2b4412aee94b2fd3a83d2d",
        "deepnote_cell_type": "code",
        "trusted": true
      },
      "outputs": [],
      "source": "# try and see\nfavstats(time_sec ~ list_type, data = stroop100)"
    },
    {
      "cell_type": "markdown",
      "metadata": {
        "cell_id": "4a5e015d9b4b4985b8a02c0986aacf83",
        "deepnote_cell_type": "markdown"
      },
      "source": "<div class=\"guided-notes\">\n\n### 5.5 Box plots with jitter plot overlayed on top\n\nWe can use the `%>%` operator to overlay the jitter plot on top of the box plot. This is a way to get the benefits of both types of plots.\n\nYou can think of each line of `gf_` code as a _layer_. If we write the `gf_boxplot` code then add on `gf_jitter` with `%>%`, we are telling R to print out a box plot first, then add the jitter plot on top.\n    \n</div>"
    },
    {
      "cell_type": "code",
      "execution_count": null,
      "metadata": {
        "cell_id": "66adea5e9e8b47ab973309801d6a01cd",
        "deepnote_cell_type": "code",
        "trusted": true
      },
      "outputs": [],
      "source": "# overlay a jitter plot to this\ngf_boxplot(time_sec ~ list_type, data = stroop100)"
    },
    {
      "cell_type": "markdown",
      "metadata": {
        "cell_id": "56f133c714244801b669655ac60915c0",
        "deepnote_cell_type": "markdown"
      },
      "source": "<div class=\"discussion-question\">\n<h3>5.6 Make a prediction: What do you think would change about the plot if we put the <code>gf_jitter</code> first and the <code>gf_boxplot</code> second?</h3>  \n</div>"
    },
    {
      "cell_type": "code",
      "execution_count": null,
      "metadata": {
        "cell_id": "73b4a3fb6c92487dac329f7871d3a65b",
        "deepnote_cell_type": "code",
        "trusted": true
      },
      "outputs": [],
      "source": "# try and see\ngf_jitter(time_sec ~ list_type, data = stroop100, height = 0) %>%\n  gf_boxplot() "
    },
    {
      "cell_type": "markdown",
      "metadata": {
        "cell_id": "86cbf32ff59e400dbe8aef93c048ac32",
        "deepnote_cell_type": "markdown"
      },
      "source": "<div class=\"discussion-question\">\n    \n### 5.7 Key Discussion Questions:\n- What percentage of the dots are within the \"box\" part of the box plots?\n- What is represented by the thicker horizontal line in the box plots?\n- Are there any outliers in this data? How can you tell?\n- What do the box plots tell you about the *distributions* of time_sec? (Think shape, center, spread)\n</div>"
    },
    {
      "cell_type": "markdown",
      "metadata": {
        "cell_id": "96472bf7dfab4843ba903ff8972d90eb",
        "deepnote_cell_type": "markdown"
      },
      "source": "## 6. Visualizing the Relationship with Faceted Histograms\n\nOne more way to visualize a relationship between two variables is with a faceted histograms. It is similar to the histograms you have seen before, but this time they are broken up separately into two _facets_ (or faces) — one for congruent and the other for incongruent times. "
    },
    {
      "cell_type": "markdown",
      "metadata": {
        "cell_id": "cda5d77f3904415e91cd486b693fc4c3",
        "deepnote_cell_type": "markdown"
      },
      "source": "<div class=\"guided-notes\"> \n    \n### 6.1 Faceted histograms\n    \nUse `%>%` to chain on `gf_facet_grid()` to the code below to create faceted histograms: a histogram for each `list_type`.\n\nYou may wish to see what happens when you try `gf_facet_grid(list_type ~ .)` versus `gf_facet_grid(. ~ list_type)`.\n</div>"
    },
    {
      "cell_type": "code",
      "execution_count": null,
      "metadata": {
        "cell_id": "32f5f56db7b643ffbb05ed5ebd14c39b",
        "deepnote_cell_type": "code",
        "trusted": true
      },
      "outputs": [],
      "source": "# add gf_facet_grid to this\ngf_histogram(~ time_sec, data = stroop100) "
    },
    {
      "cell_type": "markdown",
      "metadata": {
        "cell_id": "4c6b95d044004bd48bbab61f165184e2",
        "deepnote_cell_type": "markdown"
      },
      "source": "<div class=\"discussion-question\">\n\n### 6.2 Key Discussion Question: What do faceted histograms show you that the other visualizations did not? What's different about it?\n    \n</div>"
    },
    {
      "cell_type": "markdown",
      "metadata": {
        "cell_id": "f7eb8c09a9334ab9ad9cf9492891cc52",
        "deepnote_cell_type": "markdown"
      },
      "source": "<div class=\"guided-notes\"> \n    \n### 6.3 Faceted histograms with box plots overlayed on top\n\nJust like we can overlay box plots onto jitter/scatter plots (and vice versa), we can overlay box plots onto faceted histograms. Try figuring out the code for that based on what you know so far.\n\n(If you want to make the box plots thicker, you can use the `width` argument.)\n    \n</div>"
    },
    {
      "cell_type": "code",
      "execution_count": null,
      "metadata": {
        "cell_id": "d7c2b438a9f3418ea269e459ce4bf31e",
        "deepnote_cell_type": "code",
        "scrolled": false,
        "trusted": true
      },
      "outputs": [],
      "source": "# overlay boxplots to this\ngf_histogram(~ time_sec, data = stroop100) %>%\n  gf_facet_grid(list_type ~ .) "
    },
    {
      "cell_type": "markdown",
      "metadata": {
        "cell_id": "11faf386145448d59397ce950cbc2fbd",
        "deepnote_cell_type": "markdown"
      },
      "source": "<div class=\"discussion-question\">\n\n### 6.4 Key Discussion Question: Why are the boxes arranged horizontally when overlaid on the histograms, but vertically when overlaid on the jitter plots?\n    \n</div>"
    },
    {
      "cell_type": "markdown",
      "metadata": {
        "cell_id": "6e951edf8e554ff585b2e7bfd61d4fdb",
        "deepnote_cell_type": "markdown"
      },
      "source": "## 7. Summary: Which visualizations can we use to explore a relationship between an explanatory variable and and outcome variable?\n\nLet's review all we've learned about visualizing the distributions of individual variables and visualizing the relationships between two variables."
    },
    {
      "cell_type": "markdown",
      "metadata": {
        "cell_id": "d4e490b9b96242ef895fdaa82de2351e",
        "deepnote_cell_type": "markdown"
      },
      "source": "<div class=\"guided-notes\">\n    \n### 7.1 Visualizations for relationships between variables \n\nComplete the table by identifying the appropriate visualization and R function for different combinations of outcome and explanatory variables. Use the examples provided as a guide and consider whether the variables are quantitative or categorical.\n\n</div>"
    },
    {
      "cell_type": "markdown",
      "metadata": {
        "cell_id": "ce01f16e51b64996947b18faa247efff",
        "deepnote_cell_type": "markdown"
      },
      "source": "<div class=\"guided-notes\">\n    \n### 7.2 Visualizations for a single outcome variable \n\nNow, complete the last two rows of the table by selecting the best visualizations for displaying the distribution of a single quantitative or categorical variable.\n\n</div>"
    }
  ],
  "metadata": {
    "deepnote_notebook_id": "f59160000db34f518ee9224fe12a5b32",
    "kernelspec": {
      "display_name": "R",
      "language": "R",
      "name": "ir"
    },
    "language_info": {
      "codemirror_mode": "r",
      "file_extension": ".r",
      "mimetype": "text/x-r-source",
      "name": "R",
      "pygments_lexer": "r",
      "version": "4.3.3"
    },
    "nbsimplegrader": {
      "publish_config": {
        "classes": [],
        "options": [],
        "tools": []
      }
    }
  },
  "nbformat": 4,
  "nbformat_minor": 1
}