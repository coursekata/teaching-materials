{
  "cells": [
    {
      "cell_type": "markdown",
      "metadata": {
        "cell_id": "d8a798a0ab104dc3bc9aefdf957148b4",
        "deepnote_cell_type": "markdown"
      },
      "source": "<div class=\"alert alert-block alert-danger\">\n\n# <center>Test Ch. 1-12: Explaining Variation in Earthquake Magnitude (COMPLETE) </center> \n\n</div>"
    },
    {
      "cell_type": "code",
      "execution_count": null,
      "metadata": {
        "cell_id": "b3ef1c8b32904618a7c635cccdba9bd2",
        "deepnote_cell_type": "code",
        "execution_millis": 21,
        "execution_start": 1602793972129,
        "output_cleared": false,
        "source_hash": "7cb3c405",
        "trusted": true
      },
      "outputs": [],
      "source": "# Load the CourseKata library\nsuppressPackageStartupMessages({\n    library(coursekata)\n})"
    },
    {
      "cell_type": "markdown",
      "metadata": {
        "cell_id": "77fe04a00fba4baf8f34dd9c3004884c",
        "deepnote_cell_type": "markdown"
      },
      "source": "In R, there is a data frame called `quakes` (Preloaded in R) which gives information about the earthquakes around Fiji since 1964.\n\nVariables in the data frame: \n\n- `lat` Latitude of the location of the quake; around Fiji, smaller numbers (more negative) indicate south while larger numbers (less negative) are north.\n\n\n- `long` Longitude of the location of the quake; around Fiji, smaller numbers indicate west and larger numbers indicate east.\n\n\n- `depth` Distance in kilometers away from the earth's surface.\n\n\n- `mag` Richter Magnitude \n\n\n- `stations` Number of stations reporting\n"
    },
    {
      "cell_type": "markdown",
      "metadata": {
        "cell_id": "78aefb002b4b41339a49781445e7a74f",
        "deepnote_cell_type": "markdown"
      },
      "source": "### What You have Learned about Exploring Variation"
    },
    {
      "cell_type": "markdown",
      "metadata": {
        "cell_id": "bd61146a2a1f4c058f9778fafe27cb92",
        "deepnote_cell_type": "markdown"
      },
      "source": "## Question 1\n\nGo ahead and use R to look at the first six lines of this data frame. What are the cases in this data frame?"
    },
    {
      "cell_type": "code",
      "execution_count": null,
      "metadata": {
        "cell_id": "7f682ae2fc0847979dcfcda3ee98e489",
        "deepnote_cell_type": "code",
        "execution_millis": 136,
        "execution_start": 1602799948081,
        "output_cleared": true,
        "source_hash": null,
        "tags": [],
        "trusted": true
      },
      "outputs": [],
      "source": "head(quakes)"
    },
    {
      "cell_type": "markdown",
      "metadata": {
        "cell_id": "5ec1bf1375b24dc9aa8d28fc3f2a2048",
        "deepnote_cell_type": "markdown"
      },
      "source": "<div class=\"alert alert-block alert-warning\">\n\n**Sample Response**\n\nThe cases are earthquakes (around Fiji).\n\n</div>"
    },
    {
      "cell_type": "markdown",
      "metadata": {
        "cell_id": "19320cf78ef94738baf3d5076c3db6a9",
        "deepnote_cell_type": "markdown"
      },
      "source": "## Question 2\n\nAn outcome variable of interest might be magnitude (how big the earthquake was). Make some plots to explore which of the other variables would do the best job of explaining the variation in `mag`. Which variable looks like it explains variation in magnitude?\n\nWhat about the plot made you think that variable is the best at explaining variation in magnitude?"
    },
    {
      "cell_type": "code",
      "execution_count": null,
      "metadata": {
        "cell_id": "577c1e90870640b4ad6e58dd443a63bb",
        "deepnote_cell_type": "code",
        "execution_millis": 1663,
        "execution_start": 1602796667353,
        "output_cleared": true,
        "source_hash": null,
        "tags": [],
        "trusted": true
      },
      "outputs": [],
      "source": "# Some possible plots\ngf_point(mag ~ lat, data = quakes)%>%gf_lm()\ngf_point(mag ~ long, data = quakes)%>%gf_lm()\ngf_point(mag ~ depth, data = quakes)%>%gf_lm()\ngf_point(mag ~ stations, data = quakes)%>%gf_lm()"
    },
    {
      "cell_type": "markdown",
      "metadata": {
        "cell_id": "72c28846d3da4cd4b00829676a196652",
        "deepnote_cell_type": "markdown"
      },
      "source": "<div class=\"alert alert-block alert-warning\">\n\n**Sample Response**\n\n*Depending on which variables the student looks at, they should conclude that the variable that explains more variation is the one that has the clearest pattern of a positive or negative relationship, and the least amount of scatter.* \n\n</div>"
    },
    {
      "cell_type": "markdown",
      "metadata": {
        "cell_id": "20251c5369654cb78b65da7b7ffb0374",
        "deepnote_cell_type": "markdown"
      },
      "source": "## Question 3\n\nA geoscientist notes that there is a large marine trench, a deep groove in the ocean, on the eastern side of Fiji called the Tonga Trench. The scientist has a hypothesis that because of the trench, earthquakes east of Fiji (those that have a larger longitude) have a smaller magnitude. We will call this the longitude hypothesis. Write a word equation for this hypothesis.\n\n\n<img src=\"https://coursekata-course-assets.s3.us-west-1.amazonaws.com/UCLATALL/czi-stats-course/jnb_8ps1HzTm-Test-Ch-10-Tonga-Trench.png\" title=\"Fiji Trench\" width=\"500\"/>"
    },
    {
      "cell_type": "markdown",
      "metadata": {
        "cell_id": "aaa072edc55e4acfa8d637fdf8d929d6",
        "deepnote_cell_type": "markdown"
      },
      "source": "<div class=\"alert alert-block alert-warning\">\n\n**Sample Response**\n\nmag = long + other stuff\n\nor\n\nmagnitude = longitude + other stuff\n\n</div>"
    },
    {
      "cell_type": "markdown",
      "metadata": {
        "cell_id": "a5e86f0af7934b0c9bff2cfe83268f34",
        "deepnote_cell_type": "markdown"
      },
      "source": "## Question 4\n\nThe first scatterplot is the sample data. The other scatterplots have been shuffled. What is the “pattern” or “relationship” that is present in the sample data that is not as strongly present in the shuffled data?\n\n<img src=\"https://coursekata-course-assets.s3.us-west-1.amazonaws.com/UCLATALL/czi-stats-course/jnb_kJNyTqwD-Test-Ch-10-Shuffled-Plots.png\" title=\"Shuffled Plots\" width=\"800\"/>"
    },
    {
      "cell_type": "markdown",
      "metadata": {
        "cell_id": "9f26177c5e15456ebbab93c60d52dfa2",
        "deepnote_cell_type": "markdown"
      },
      "source": "<div class=\"alert alert-block alert-warning\">\n\n**Sample Response**\n\nThe pattern is that as longitude gets higher, the magnitude gets smaller. In the shuffled data, as the longitude gets higher, the magnitude stays about the same.\n\n</div>"
    },
    {
      "cell_type": "markdown",
      "metadata": {
        "cell_id": "aa62c689c813453fbf6cd4ee7ca9410c",
        "deepnote_cell_type": "markdown"
      },
      "source": "### What You have Learned about Modeling Variation"
    },
    {
      "cell_type": "markdown",
      "metadata": {
        "cell_id": "4eeec77d37e24bcbb5fb1bc63084010e",
        "deepnote_cell_type": "markdown"
      },
      "source": "## Question 5\n\nWe now know a lot more about statistics than just word equations and visualizations. Now we can actually create a model of the longitude hypothesis. Write the best fitting model in GLM notation here. "
    },
    {
      "cell_type": "code",
      "execution_count": null,
      "metadata": {
        "cell_id": "b992b37de3af49aeb8bd3271dd4564cf",
        "deepnote_cell_type": "code",
        "execution_millis": 17,
        "execution_start": 1602799812524,
        "output_cleared": false,
        "source_hash": "d1902050",
        "tags": [],
        "trusted": true
      },
      "outputs": [],
      "source": "# Generate the longitude hypothesis\nlong_model <- lm(mag ~ long, data = quakes)\nlong_model"
    },
    {
      "cell_type": "markdown",
      "metadata": {
        "cell_id": "f922969d682d4f0099cf977bb4ceb395",
        "deepnote_cell_type": "markdown"
      },
      "source": "<div class=\"alert alert-block alert-warning\">\n\n**Sample Response**\n\nmag = 6.68 + (-0.01)(long) + $e_i$\n\n</div>"
    },
    {
      "cell_type": "markdown",
      "metadata": {
        "cell_id": "55261f2eabd24ba6b85231cf763c7a91",
        "deepnote_cell_type": "markdown"
      },
      "source": "## Question 6\n\nWhat does the *$b_{0}$* in the best fitting longitude model above mean?"
    },
    {
      "cell_type": "markdown",
      "metadata": {
        "cell_id": "95a605863e6e48a58fae40a8ab4d0d1d",
        "deepnote_cell_type": "markdown"
      },
      "source": "<div class=\"alert alert-block alert-warning\">\n\n**Sample Response**\n\nThe $b_0$ means that the magnitude of an earthquake when longitude is zero is about 6.68.\n\n</div>"
    },
    {
      "cell_type": "markdown",
      "metadata": {
        "cell_id": "2e09c85dfeb24ad7a30c17e70ddc13e7",
        "deepnote_cell_type": "markdown"
      },
      "source": "## Question 7\n\nWhat does the *$b_{1}$* in the best fitting longitude model above mean?"
    },
    {
      "cell_type": "markdown",
      "metadata": {
        "cell_id": "bec6a0e118274c2f9e5e532bc81eeb76",
        "deepnote_cell_type": "markdown"
      },
      "source": "<div class=\"alert alert-block alert-warning\">\n\n**Sample Response**\n\nThe $b_1$ means that for every 1 unit increase in longitude, -0.01 is added to $b_0$.\n\n</div>"
    },
    {
      "cell_type": "markdown",
      "metadata": {
        "cell_id": "1eb2385cff724273b94c4b0744904f83",
        "deepnote_cell_type": "markdown"
      },
      "source": "## Question 8\n\nIn the scatterplot below, which line represents the empty model (line A or line B)? Which line represents the longitude model (line A or line B)?\n\n\n<img src=\"https://coursekata-course-assets.s3.us-west-1.amazonaws.com/UCLATALL/czi-stats-course/jnb_fMK00RzR-Test-Ch-10-Model-Lines.png\" title=\"Scatterplots with models\" width=\"600\"/>"
    },
    {
      "cell_type": "markdown",
      "metadata": {
        "cell_id": "966975022f7048c79f7ea512fc96a959",
        "deepnote_cell_type": "markdown",
        "tags": []
      },
      "source": "<div class=\"alert alert-block alert-warning\">\n\n**Sample Response**\n\nLine B is the empty model, and Line A is the longitude model.\n\n</div>"
    },
    {
      "cell_type": "markdown",
      "metadata": {
        "cell_id": "3279ecdf15bd49f297cebc666a005627",
        "deepnote_cell_type": "markdown"
      },
      "source": "## Question 9\n\nWhen we look at a visualization and think – yeah, this one looks like there is a relationship between longitude and magnitude – which parameter estimate best represents the “relationship”: *$b_{0}$* or *$b_{1}$*?"
    },
    {
      "cell_type": "markdown",
      "metadata": {
        "cell_id": "072a7c93eb004fd79bc6848b440355c9",
        "deepnote_cell_type": "markdown"
      },
      "source": "<div class=\"alert alert-block alert-warning\">\n\n**Sample Response**\n\n$b_1$ best represents the \"relationship\".\n\n</div>"
    },
    {
      "cell_type": "markdown",
      "metadata": {
        "cell_id": "5c8f494f7fd44fbc84a71dfbdf4b921d",
        "deepnote_cell_type": "markdown"
      },
      "source": "## Question 10\n\nEstimate that statistic for all the other scatterplots in question 4. When you have shuffled scatterplots, what are the *$b_{1}$*s typically like?"
    },
    {
      "cell_type": "markdown",
      "metadata": {
        "cell_id": "a79fe71a507543dea359542336ea806d",
        "deepnote_cell_type": "markdown",
        "tags": []
      },
      "source": "<div class=\"alert alert-block alert-warning\">\n\n**Sample Response**\n\nThe $b_1$s are usually close to zero (no slope).\n\n</div>"
    },
    {
      "cell_type": "markdown",
      "metadata": {
        "cell_id": "310f9d64a11a4f3287506eccc5bb39d0",
        "deepnote_cell_type": "markdown"
      },
      "source": "### What You have Learned about Evaluating Models"
    },
    {
      "cell_type": "markdown",
      "metadata": {
        "cell_id": "b99fe131d4ac4109a656a3539b85884f",
        "deepnote_cell_type": "markdown"
      },
      "source": "## Question 11\n\nThe longitude model tells us about the relationship between longitude and magnitude in the sample data. But we want to know if this relationship exists in the Data Generating Process (DGP). After creating our best fitting model, can we use R to calculate the true *$\\beta_{1}$* in the DGP? If so, write the code."
    },
    {
      "cell_type": "markdown",
      "metadata": {
        "cell_id": "d405b9650a7344c2903e53061be2b993",
        "deepnote_cell_type": "markdown",
        "tags": []
      },
      "source": "<div class=\"alert alert-block alert-warning\">\n\n**Sample Response**\n\nWe cannot calculate the true *$\\beta_{1}$*, we can only estimate it using $b_1$.\n\n</div>"
    },
    {
      "cell_type": "markdown",
      "metadata": {
        "cell_id": "60d2e99b0b0047dab2ef3c125ab23519",
        "deepnote_cell_type": "markdown"
      },
      "source": "## Question 12\n\nWhat is our best estimate of *$\\beta_{1}$*? Is it possible that this estimate is wrong?"
    },
    {
      "cell_type": "markdown",
      "metadata": {
        "cell_id": "cb4e0d9d69054d9d8669e6d94f80cc33",
        "deepnote_cell_type": "markdown"
      },
      "source": "<div class=\"alert alert-block alert-warning\">\n\n**Sample Response**\n\nOur best estimate is $b_1$. It is possible this estimate is wrong.\n\n</div>"
    },
    {
      "cell_type": "markdown",
      "metadata": {
        "cell_id": "f4cf9e02c8824ffe83f0015b84807e6c",
        "deepnote_cell_type": "markdown"
      },
      "source": "## Question 13\n\nWhat statistic(s) tells us whether our estimate of *$\\beta_{1}$* is correct? (Choose one).\n- PRE\n- F\n- *$b_{1}$*\n- All of the above.\n- None of the above.\n"
    },
    {
      "cell_type": "markdown",
      "metadata": {
        "cell_id": "2147c1c262694593a01061c9348b56ae",
        "deepnote_cell_type": "markdown",
        "tags": []
      },
      "source": "<div class=\"alert alert-block alert-warning\">\n\n**Sample Response**\n\nNone of the above.\n\n</div>"
    },
    {
      "cell_type": "markdown",
      "metadata": {
        "cell_id": "f946fc1b20274a619eaa9e559c6dd420",
        "deepnote_cell_type": "markdown"
      },
      "source": "## Question 14\n\nIf there was no relationship between longitude and magnitude in the DGP, what would be the true *$\\beta_{1}$*?"
    },
    {
      "cell_type": "markdown",
      "metadata": {
        "cell_id": "e9d8e80aac214cffa4bdd145b7c1903f",
        "deepnote_cell_type": "markdown"
      },
      "source": "<div class=\"alert alert-block alert-warning\">\n\n**Sample Response**\n\nThe true *$\\beta_{1}$* would be zero.\n\n</div>"
    },
    {
      "cell_type": "markdown",
      "metadata": {
        "cell_id": "6f6f1bb6aa424e4f819144fcf02cae82",
        "deepnote_cell_type": "markdown"
      },
      "source": "## Question 15\n\nIf there was no relationship between longitude and magnitude in the DGP, which would be a better model of the DGP: the empty model or the longitude model?"
    },
    {
      "cell_type": "markdown",
      "metadata": {
        "cell_id": "52c3fd5fccca4d76bc40678a8775607d",
        "deepnote_cell_type": "markdown"
      },
      "source": "<div class=\"alert alert-block alert-warning\">\n\n**Sample Response**\n\nThe empty model would be better.\n\n</div>"
    },
    {
      "cell_type": "markdown",
      "metadata": {
        "cell_id": "0f8eea7953a741eb84c2506265f30164",
        "deepnote_cell_type": "markdown"
      },
      "source": "## Question 16\n\nIs it possible that we could have gotten this sample *$b_{1}$* or one that was more extreme if the true *$\\beta_{1}$* was 0?"
    },
    {
      "cell_type": "code",
      "execution_count": null,
      "metadata": {
        "cell_id": "058fa8b17915404ab14bbfc180a38758",
        "deepnote_cell_type": "code",
        "execution_millis": 45,
        "execution_start": 1602800782166,
        "output_cleared": false,
        "source_hash": "e7036803",
        "tags": [],
        "trusted": true
      },
      "outputs": [],
      "source": "# Generate the p-value\nsupernova(long_model)"
    },
    {
      "cell_type": "markdown",
      "metadata": {
        "cell_id": "c3c8d00a2f844b288125300f58c07bee",
        "deepnote_cell_type": "markdown"
      },
      "source": "<div class=\"alert alert-block alert-warning\">\n\n**Sample Response**\n\nIt's possible but very unlikely since the p-value is less than .05.\n\n</div>"
    },
    {
      "cell_type": "markdown",
      "metadata": {
        "cell_id": "ea724d74fbb74ad7b17f9cec65d31f16",
        "deepnote_cell_type": "markdown"
      },
      "source": "## Question 17\n\nThe function `confint()` tells me that the 95% confidence interval for 1 is -0.016, -0.007. I’ve rounded to the nearest thousandth place (3 decimal spaces).\n\nExplain what the lowest number (-0.016) and highest number (-0.007) in the confidence interval tells us. "
    },
    {
      "cell_type": "markdown",
      "metadata": {
        "cell_id": "a223a9d1b340451dabb9c1687d2e0fa0",
        "deepnote_cell_type": "markdown"
      },
      "source": "<div class=\"alert alert-block alert-warning\">\n\n**Sample Response**\n\nThe lower boundary of -0.016 tells us that the true *$\\beta_{1}$* estimate could be as low as -0.016, and the upper boundary tells us that the true estimate could be as high as -0.007, and we can be 95% confident that this is true.\n\n</div>"
    },
    {
      "cell_type": "markdown",
      "metadata": {
        "cell_id": "d921d5d4b49f4ac2adc460e42f79d79b",
        "deepnote_cell_type": "markdown"
      },
      "source": "## Question 18\n\nWould our sample *$b_{1}$* or one that was more extreme be considered likely if the true *$\\beta_{1}$* was 0?"
    },
    {
      "cell_type": "markdown",
      "metadata": {
        "cell_id": "fd4679106f8e4a388decab9364ec96bc",
        "deepnote_cell_type": "markdown"
      },
      "source": "<div class=\"alert alert-block alert-warning\">\n\n**Sample Response**\n\nProbably not.\n\n</div>"
    },
    {
      "cell_type": "markdown",
      "metadata": {
        "cell_id": "d024df188e034569995701415101272e",
        "deepnote_cell_type": "markdown"
      },
      "source": "## Question 19\n\nAre we 95% confident that our sample came from a DGP where there is no relationship between longitude and magnitude around Fiji? Or do we feel 95% confident that there is some relationship (i.e., a negative relationship)?"
    },
    {
      "cell_type": "markdown",
      "metadata": {
        "cell_id": "1b64fbb0e54b44719815dd30ffe14c47",
        "deepnote_cell_type": "markdown"
      },
      "source": "<div class=\"alert alert-block alert-warning\">\n\n**Sample Response**\n\nWe are 95% confident that there is some relationship.\n\n</div>"
    },
    {
      "cell_type": "markdown",
      "metadata": {
        "cell_id": "1adaa52d32fd4537b11540a8d3106ef2",
        "deepnote_cell_type": "markdown"
      },
      "source": "## Question 20\n\nDoes this data analysis mean that if we look at other islands (that are not Fiji), that there are lower magnitude earthquakes east of those islands? Why or why not? "
    },
    {
      "cell_type": "markdown",
      "metadata": {
        "cell_id": "29dd8642046d40ad97b4d62abd6b11e8",
        "deepnote_cell_type": "markdown"
      },
      "source": "<div class=\"alert alert-block alert-warning\">\n\n**Sample Response**\n\nNo, we cannot make that conclusion based on this data because this is not experimental data and we cannot \nconclude that this causes the change in magnitude. There may be other factors around other islands that \nlead to an increase or decrease in magnitude.\n\n</div>"
    }
  ],
  "metadata": {
    "deepnote_notebook_id": "4ffc54ec2e1a4efcb4e60ffff0a1c343",
    "kernelspec": {
      "display_name": "R",
      "language": "R",
      "name": "ir"
    },
    "language_info": {
      "codemirror_mode": "r",
      "file_extension": ".r",
      "mimetype": "text/x-r-source",
      "name": "R",
      "pygments_lexer": "r",
      "version": "4.3.3"
    },
    "nbsimplegrader": {
      "publish_config": {
        "classes": [],
        "options": [],
        "tools": []
      }
    }
  },
  "nbformat": 4,
  "nbformat_minor": 1
}