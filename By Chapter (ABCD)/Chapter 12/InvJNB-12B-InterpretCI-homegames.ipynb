{
  "cells": [
    {
      "cell_type": "markdown",
      "metadata": {
        "cell_id": "460b9e8c208b4eb5be7d5dc307ec02bf",
        "deepnote_cell_type": "markdown",
        "tags": []
      },
      "source": "# 12B: The Effect of Being at Home"
    },
    {
      "cell_type": "code",
      "execution_count": null,
      "metadata": {
        "cell_id": "ae47f362a75d46b0a8beee8af00ffe63",
        "deepnote_cell_height": 217.921875,
        "deepnote_cell_type": "code",
        "deepnote_to_be_reexecuted": false,
        "execution_millis": 3779,
        "execution_start": 1667533760132,
        "nbsimplegrader": {
          "config_key": "code.run-only",
          "editable": false,
          "label": "Code: Run-Only",
          "respondable": false,
          "response": null,
          "runnable": true,
          "type": "code"
        },
        "output_cleared": false,
        "owner_user_id": "23d85493-7ed1-49a4-baa7-630eaab08193",
        "source_hash": "cd3c7f6a",
        "trusted": true
      },
      "outputs": [],
      "source": "# Load the CourseKata library\nsuppressPackageStartupMessages({\n    library(coursekata)\n})"
    },
    {
      "cell_type": "markdown",
      "metadata": {
        "cell_id": "84080af26c794b3596afd67217d58084",
        "deepnote_cell_height": 974.03125,
        "deepnote_cell_type": "markdown",
        "tags": []
      },
      "source": "We’re going to look at a dataframe called `MiamiHeat`. These are the game log data for the Miami Heat basketball team in 2010-11. \n\nHere are the variables in this dataframe:\n\n- `MDY` Date the game was played as a date object\n- `Date` Date the game was played as a character string\n- `Location` Away or Home\n- `Opp` Opponent team\n- `Win` Game result: L or W\n- `FG` Field goals made\n- `FGA` Field goals attempted\n- `FG3` Three-point field goals made\n- `FG3A` Three-point field goals attempted\n- `FT` Free throws made\n- `FTA` Free throws attempted\n- `Rebounds` Total rebounds\n- `OffReb` Offensive rebounds\n- `Assists` Number of assists\n- `Steals` Number of steals\n- `Blocks` Number of shots blocked\n- `Turnovers` Number of turnovers\n- `Fouls` Number of fouls\n- `Points` Number of points scored\n- `OppFG` Opponent's field goals made\n- `OppFGA` Opponent's Field goals attempted\n- `OppFG3` Opponent's Three-point field goals made\n- `OppFG3A` Opponent's Three-point field goals attempted\n- `OppFT` Opponent's Free throws made\n- `OppFTA` Opponent's Free throws attempted\n- `OppOffReb` Opponent's Total rebounds\n- `OppRebounds` Opponent's Offensive rebounds\n- `OppAssists` Opponent's assists\n- `OppSteals` Opponent's steals\n- `OppBlocks` Opponent's shots blocked\n- `OppTurnovers` Opponent's turnovers\n- `OppFouls` Opponent's fouls\n- `OppPoints` Opponent's points scored"
    },
    {
      "cell_type": "markdown",
      "metadata": {
        "cell_id": "925ea159b5c04fd5b4b6cec7f05589c2",
        "deepnote_cell_height": 69.96875,
        "deepnote_cell_type": "markdown",
        "tags": []
      },
      "source": "## 1.0 - Explore the Home Game Advantage"
    },
    {
      "cell_type": "markdown",
      "metadata": {
        "cell_id": "afe7bcfe0e5f4e56843a8d7aea823472",
        "deepnote_cell_height": 74.75,
        "deepnote_cell_type": "markdown",
        "tags": []
      },
      "source": "1.1 - Let's explore the idea that playing at home would help the Miami Heat score more points. Write this idea as a word equation."
    },
    {
      "cell_type": "markdown",
      "metadata": {
        "cell_id": "fb2385fdd5754f2fa1197c80f689a041",
        "deepnote_cell_height": 74.75,
        "deepnote_cell_type": "markdown",
        "tags": []
      },
      "source": "1.2 - Explore the variation with a visualization. Does it seem like they score more when playing at home?"
    },
    {
      "cell_type": "markdown",
      "metadata": {
        "cell_id": "339441d94ecc4845832ce866defa09ed",
        "deepnote_cell_type": "markdown"
      },
      "source": "1.3 - One of the faceted histograms below is the empirical sample. The others are created from a random DGP where there is no relationship between `Points` and `Location` (with `shuffle`). Notice that it is really hard to tell which one is the real sample! What makes all these faceted histograms \"similar\"?\n\n<img src=\"https://coursekata-course-assets.s3.us-west-1.amazonaws.com/UCLATALL/czi-stats-course/jnb_D7mKmtN6-10-B-Histograms.png\" title=\"a 3x3 grid of faceted histograms\" />"
    },
    {
      "cell_type": "markdown",
      "metadata": {
        "cell_id": "2692f471ebc94a81b92c83e8b03ed5ef",
        "deepnote_cell_height": 69.96875,
        "deepnote_cell_type": "markdown",
        "tags": []
      },
      "source": "## 2.0 - Modeling Variation"
    },
    {
      "cell_type": "markdown",
      "metadata": {
        "cell_id": "97550a14920c401dbf82e3b65ffbefb1",
        "deepnote_cell_height": 111.34375,
        "deepnote_cell_type": "markdown",
        "tags": []
      },
      "source": "2.1 - Now that we know a lot more about statistics, we can actually create a model of POINTS = LOCATION + OTHER STUFF. Write the best fitting model in GLM notation here. \n\n$$Y_i = ... + e_i$$"
    },
    {
      "cell_type": "markdown",
      "metadata": {
        "cell_id": "30fc526768b94906a39842b3e60cc3a1",
        "deepnote_cell_height": 52.359375,
        "deepnote_cell_type": "markdown",
        "tags": []
      },
      "source": "2.2 - Interpret the best fitting estimates by connecting the numbers to the visualization below."
    },
    {
      "cell_type": "code",
      "execution_count": null,
      "metadata": {
        "cell_id": "17aaefd90fc24eb08409d279af3084e6",
        "deepnote_cell_height": 571.96875,
        "deepnote_cell_type": "code",
        "deepnote_output_heights": [
          444.015625
        ],
        "deepnote_to_be_reexecuted": false,
        "execution_millis": 932,
        "execution_start": 1667533983603,
        "output_cleared": false,
        "source_hash": "685a6d5e",
        "tags": [],
        "trusted": true
      },
      "outputs": [],
      "source": "gf_histogram(~ Points, data = MiamiHeat, alpha = 1) %>%\n    gf_facet_grid(Location ~ .) %>%\n    gf_model(Points ~ Location, data = MiamiHeat)"
    },
    {
      "cell_type": "markdown",
      "metadata": {
        "cell_id": "4e87e67e0bd2461badcccfba0bf79547",
        "deepnote_cell_height": 97.34375,
        "deepnote_cell_type": "markdown",
        "tags": []
      },
      "source": "2.3 - When we look at a visualization (any visualization--not just this one!) and think, *\"Yeah, this one looks like some of the variation is explained,\"* which parameter estimate best represents the “shift”? $b_0$ or $b_1$?\n"
    },
    {
      "cell_type": "markdown",
      "metadata": {
        "cell_id": "59e53172a2424618846de29fd090e83a",
        "deepnote_cell_height": 74.953125,
        "deepnote_cell_type": "markdown",
        "tags": []
      },
      "source": "2.4 - Estimate that parameter in the **shuffled** histograms below. When you have randomly shuffled data into Home and Away groups, what are the $b_1$s typically like? \n"
    },
    {
      "cell_type": "markdown",
      "metadata": {
        "cell_id": "1dc5db550122409986e0141f0367d4e6",
        "deepnote_cell_height": 713.65625,
        "deepnote_cell_type": "markdown",
        "tags": []
      },
      "source": "<img src=\"https://coursekata-course-assets.s3.us-west-1.amazonaws.com/UCLATALL/czi-stats-course/jnb_pWBFyh9g-10-B-Shuffled-Histograms.png\" title=\"grid of faceted histograms\" />"
    },
    {
      "cell_type": "markdown",
      "metadata": {
        "cell_id": "3e109935a8da4cce8f69b41695291f4e",
        "deepnote_cell_height": 153.734375,
        "deepnote_cell_type": "markdown",
        "tags": []
      },
      "source": "2.5 - If we put all these $b_1$s in their own distribution, what would it be called?\n\n- a sample of `Points`\n- a sampling distribution of b1s\n- a DGP where there is no home game advantage"
    },
    {
      "cell_type": "markdown",
      "metadata": {
        "cell_id": "baf7d73871094f659e024822d30c74b3",
        "deepnote_cell_height": 52.5625,
        "deepnote_cell_type": "markdown",
        "tags": []
      },
      "source": "2.6 - Why should we be worried about randomness when looking at the sample $b_1$?\n"
    },
    {
      "cell_type": "markdown",
      "metadata": {
        "cell_id": "04502db92d554ad9860b61d7f4e6ee8f",
        "deepnote_cell_height": 109.96875,
        "deepnote_cell_type": "markdown",
        "tags": []
      },
      "source": "## 3.0 - A DGP where there is no home game advantage"
    },
    {
      "cell_type": "markdown",
      "metadata": {
        "cell_id": "89814d2890d34e0491d199bd83302fc3",
        "deepnote_cell_height": 74.75,
        "deepnote_cell_type": "markdown",
        "tags": []
      },
      "source": "3.1 - If there was no effect of `Location` in the real DGP, which model of the DGP should we prefer: the `Location` model or the empty model?"
    },
    {
      "cell_type": "markdown",
      "metadata": {
        "cell_id": "244bbd307a52407fb936758bd3e3036d",
        "deepnote_cell_height": 89.15625,
        "deepnote_cell_type": "markdown",
        "owner_user_id": "65abe037-acab-4951-bbc9-907a4ef12e8f",
        "tags": []
      },
      "source": "3.2 - If there was no effect of `Location`, what would be the value of $\\beta_1$ in the DGP?\n\n$$Y_i = \\beta_0 + \\beta_1 X_i + \\epsilon_i$$"
    },
    {
      "cell_type": "markdown",
      "metadata": {
        "cell_id": "3d957b3adab14a1f9198c2a4b5bb4e3c",
        "deepnote_cell_height": 171.140625,
        "deepnote_cell_type": "markdown",
        "tags": []
      },
      "source": "3.3 - Which of these functions (`shuffle()` or `resample()` as used below) will generate 1000 samples from a DGP with no home game advantage for `Points`?\n\n```\ndo(1000) * b1(shuffle(Points) ~ Location, data = MiamiHeat)\n\ndo(1000) * b1(Points ~ Location, data = resample(MiamiHeat))\n```"
    },
    {
      "cell_type": "markdown",
      "metadata": {
        "cell_id": "c9ff7a98a4d446238cb76e0abfc98abe",
        "deepnote_cell_height": 97.34375,
        "deepnote_cell_type": "markdown",
        "tags": []
      },
      "source": "3.4 - If there was no home game advantage, would such a DGP *always* generate $b_1$s that are 0? Could such a DGP generate samples where the average `Points` scored at home were *higher* than the away average? What about *lower*? Why or why not?"
    },
    {
      "cell_type": "markdown",
      "metadata": {
        "cell_id": "d8c9c261ffeb4c7eb459defab2c6977b",
        "deepnote_cell_height": 111.765625,
        "deepnote_cell_type": "markdown",
        "tags": []
      },
      "source": "3.5 - If there was no home game advantage for `Points`, could we ever get sample $b_1$ as extreme as the one in our sample ($b_1 = 2.12$)? Would it be one of the \"unlikely\" $b_1$s from this DGP?\n\nMake a prediction. Then create a sampling distribution of $b_1$ from a DGP where $\\beta_1 = 0$."
    },
    {
      "cell_type": "code",
      "execution_count": null,
      "metadata": {
        "cell_id": "bfdb6f0805db40d29015d9252bd2292f",
        "deepnote_cell_height": 147.96875,
        "deepnote_cell_type": "code",
        "deepnote_to_be_reexecuted": true,
        "execution_millis": 10,
        "execution_start": 1613066131216,
        "output_cleared": true,
        "source_hash": "a6b6d5a0",
        "tags": [],
        "trusted": true
      },
      "outputs": [],
      "source": "# Create a sampling distribution of b1 here.\n# Save it as sdob1_no_effect\n\n\n# Visualize the sampling distribution in a histogram. "
    },
    {
      "cell_type": "markdown",
      "metadata": {
        "cell_id": "e4b73839138c49969d138affe56f220a",
        "deepnote_cell_height": 111.5625,
        "deepnote_cell_type": "markdown",
        "tags": []
      },
      "source": "3.6 - The code below will color the middle .95 of samples in `dodgerblue`. Will the sample $b_1$ be an \"unlikely\" samples? \n\nAdd some code to depict the sample $b_1$ (2.12) in `green4`. "
    },
    {
      "cell_type": "code",
      "execution_count": null,
      "metadata": {
        "cell_id": "5d184fd9e2d646d684f1db47b5abc14f",
        "deepnote_cell_height": 116.953125,
        "deepnote_cell_type": "code",
        "deepnote_to_be_reexecuted": true,
        "execution_millis": 232,
        "execution_start": 1613066132546,
        "output_cleared": true,
        "source_hash": "2e80ca3b",
        "tags": [],
        "trusted": true
      },
      "outputs": [],
      "source": "# this code makes a histogram \ngf_histogram(~ b1, data = sdob1_no_effect, binwidth = .5, fill = ~middle(b1, .95)) %>%\n    gf_refine(scale_fill_manual(values = c(\"coral\", \"dodgerblue\")))"
    },
    {
      "cell_type": "markdown",
      "metadata": {
        "cell_id": "4a7385e7a8944fd58bb38699cfdf6346",
        "deepnote_cell_height": 111.140625,
        "deepnote_cell_type": "markdown",
        "tags": []
      },
      "source": "3.7 - Check out a different way of depicting the distribution triad (DGP, sampling distribution, and sample) here. Where should this sampling distribution go?\n\n*slides provided by your instructor (found in complete version)*"
    },
    {
      "cell_type": "markdown",
      "metadata": {
        "cell_id": "1ff8a1f1510f471c84c578e2f9839341",
        "deepnote_cell_height": 109.96875,
        "deepnote_cell_type": "markdown",
        "tags": []
      },
      "source": "## 4.0 - A DGP where the home game advantage is similar to our sample "
    },
    {
      "cell_type": "markdown",
      "metadata": {
        "cell_id": "5ba970c1b91e49dcb72670c4b91e2e2a",
        "deepnote_cell_height": 74.75,
        "deepnote_cell_type": "markdown",
        "tags": []
      },
      "source": "4.1 - If the effect of `Location` in the real DGP was just like our sample, which model of the DGP should we prefer: the `Location` model or the empty model?"
    },
    {
      "cell_type": "markdown",
      "metadata": {
        "cell_id": "94f5a1f29c0345f7bbf58153df289606",
        "deepnote_cell_height": 89.15625,
        "deepnote_cell_type": "markdown",
        "tags": []
      },
      "source": "4.2 - If the effect of `Location` was just like our sample, what would be the value of $\\beta_1$ in the DGP?\n\n$$Y_i = \\beta_0 + \\beta_1 X_i + \\epsilon_i$$"
    },
    {
      "cell_type": "markdown",
      "metadata": {
        "cell_id": "87c70976504743fca2f2688861b9896d",
        "deepnote_cell_height": 171.140625,
        "deepnote_cell_type": "markdown",
        "tags": []
      },
      "source": "4.3 - Which of these functions (`shuffle()` or `resample()` as used below) will generate 1000 samples from a DGP that is basically just like our sample?\n\n```\ndo(1000) * b1(shuffle(Points) ~ Location, data = MiamiHeat)\n\ndo(1000) * b1(Points ~ Location, data = resample(MiamiHeat))\n```"
    },
    {
      "cell_type": "markdown",
      "metadata": {
        "cell_id": "73a4a9a258ef49de9aabec01496c202a",
        "deepnote_cell_height": 97.34375,
        "deepnote_cell_type": "markdown",
        "tags": []
      },
      "source": "4.4 - If the DGP was just like our sample, could it generate $b_1$s that show no effect of `Location`? Could such a DGP generate samples where the average `Points` in home games were *lower*  than the away average? Why or why not?"
    },
    {
      "cell_type": "markdown",
      "metadata": {
        "cell_id": "b6ebd26d13404856abef3eac630baf21",
        "deepnote_cell_height": 156.546875,
        "deepnote_cell_type": "markdown",
        "tags": []
      },
      "source": "4.5 - If the home game advantage for `Points` in the DGP was just like our sample, could we ever get sample $b_1$ as extreme the one in our sample ($b_1 = 2.12$)? Would it be one of the \"unlikely\" $b_1$s from this DGP?\n\nMake a prediction. Then create a sampling distribution of $b_1$ from a DGP that is just like our sample ($\\beta_1 = 2.12$)."
    },
    {
      "cell_type": "code",
      "execution_count": null,
      "metadata": {
        "cell_id": "f1a7e6d9fc3148e8af23017279341974",
        "deepnote_cell_height": 147.96875,
        "deepnote_cell_type": "code",
        "deepnote_to_be_reexecuted": true,
        "execution_millis": 8,
        "execution_start": 1613066132774,
        "output_cleared": true,
        "source_hash": "11619c5d",
        "tags": [],
        "trusted": true
      },
      "outputs": [],
      "source": "# Create a sampling distribution of b1 here.\n# Save it as sdob1_same_effect\n\n\n# Visualize the sampling distribution in a histogram. "
    },
    {
      "cell_type": "markdown",
      "metadata": {
        "cell_id": "60f90906f6474670aa743650257a20e0",
        "deepnote_cell_height": 133.953125,
        "deepnote_cell_type": "markdown",
        "tags": []
      },
      "source": "4.6 - The code below will color the middle .95 of samples in a shade of turquoise. Will the sample $b_1$ be one of those \"unlikely\" samples? \n\nAdd some code to depict the sample $b_1$ (2.12) in `green4`. Should it be added as a curve, a line, a point, something else?"
    },
    {
      "cell_type": "code",
      "execution_count": null,
      "metadata": {
        "cell_id": "c0b23a21c9cb4c5bb367e6667bf5225b",
        "deepnote_cell_height": 181.359375,
        "deepnote_cell_type": "code",
        "deepnote_to_be_reexecuted": false,
        "execution_millis": 644,
        "execution_start": 1667534299249,
        "output_cleared": false,
        "source_hash": "d40e3c86",
        "tags": [],
        "trusted": true
      },
      "outputs": [],
      "source": "# this code makes a histogram \ngf_histogram(~ b1, data = sdob1_same_effect, binwidth = .5, fill = ~middle(b1,.95))"
    },
    {
      "cell_type": "markdown",
      "metadata": {
        "cell_id": "78c06141997c452bb926cdc1c683f43f",
        "deepnote_cell_height": 111.140625,
        "deepnote_cell_type": "markdown",
        "tags": []
      },
      "source": "4.7 - Check out a different way of depicting the distribution triad (DGP, sampling distribution, and sample) here. Where should this \"same effect\" sampling distribution go?\n\n*Slides in complete version*"
    },
    {
      "cell_type": "markdown",
      "metadata": {
        "cell_id": "7755d7c4890948a0b44f6ef9ecb53b89",
        "deepnote_cell_height": 69.96875,
        "deepnote_cell_type": "markdown",
        "tags": []
      },
      "source": "## 5.0 - Confidence Intervals"
    },
    {
      "cell_type": "markdown",
      "metadata": {
        "cell_id": "d04cbdedaf9947f6b96fe53e6a6aa1c0",
        "deepnote_cell_height": 74.953125,
        "deepnote_cell_type": "markdown",
        "tags": []
      },
      "source": "5.1 - From these explorations, could the real $\\beta_1$ be 0? Could it be 2.12? Could it be some other number? "
    },
    {
      "cell_type": "markdown",
      "metadata": {
        "cell_id": "58d95dd60e98498da2caf04163f6d0e0",
        "deepnote_cell_height": 52.5625,
        "deepnote_cell_type": "markdown",
        "tags": []
      },
      "source": "5.2 - Use `confint()` to find the 95% confidence interval of $\\beta_1$. "
    },
    {
      "cell_type": "markdown",
      "metadata": {
        "cell_id": "16429ac7c19b45c0bdcae5bfe6e92fe4",
        "deepnote_cell_height": 252.734375,
        "deepnote_cell_type": "markdown",
        "tags": []
      },
      "source": "5.3 - Use the sampling distributions in the powerpoint link to show what the 95% confidence interval around $\\beta_1$ means:\n\nWhat does the lowest number mean? What does the highest number mean? What units are these values in?"
    },
    {
      "cell_type": "markdown",
      "metadata": {
        "cell_id": "314186fcadd44642a87020073e24a954",
        "deepnote_cell_height": 74.75,
        "deepnote_cell_type": "markdown",
        "tags": []
      },
      "source": "5.4 - Even though these sampling distributions were made in different ways (e.g., shuffling \nversus resampling), they seem to show us the same confidence interval. Why?"
    },
    {
      "cell_type": "markdown",
      "metadata": {
        "cell_id": "4a85702d7fa5499d809ec184250bbff6",
        "deepnote_cell_height": 74.75,
        "deepnote_cell_type": "markdown",
        "tags": []
      },
      "source": "5.5 - Based on all that we have done here, if you had to say what was the real effect of\nplaying at home, what would you say?"
    },
    {
      "cell_type": "markdown",
      "metadata": {
        "cell_id": "848d8e91294648e88143fd254ee0fe10",
        "deepnote_cell_height": 109.96875,
        "deepnote_cell_type": "markdown",
        "tags": []
      },
      "source": "## 6.0 - Home Game Advantage... in something else?"
    },
    {
      "cell_type": "markdown",
      "metadata": {
        "cell_id": "6a44b8ea99b842faa9612195a274c017",
        "deepnote_cell_height": 52.359375,
        "deepnote_cell_type": "markdown",
        "tags": []
      },
      "source": "6.1 - Is it possible there is a really big advantage to playing a home game?"
    },
    {
      "cell_type": "markdown",
      "metadata": {
        "cell_id": "e63443dfd6b44e66a38919a44f1f4c1c",
        "deepnote_cell_height": 74.75,
        "deepnote_cell_type": "markdown",
        "tags": []
      },
      "source": "6.2 - Which outcome of a basketball game seems like it would be most affected by playing at home:\npoints, free throws, or fouls?"
    },
    {
      "cell_type": "markdown",
      "metadata": {
        "cell_id": "713126f57b27490688daeb20809c7b97",
        "deepnote_cell_height": 52.359375,
        "deepnote_cell_type": "markdown",
        "tags": []
      },
      "source": "6.3 - Which of these is most affected by the home game advantage? "
    },
    {
      "cell_type": "markdown",
      "metadata": {
        "cell_id": "865f57135c044e3f8c2a7c65b6ff3228",
        "deepnote_cell_height": 74.75,
        "deepnote_cell_type": "markdown",
        "tags": []
      },
      "source": "6.4 - Are you 95% confident that there is at least *some* effect of playing at home \nfor that outcome?"
    }
  ],
  "metadata": {
    "deepnote_notebook_id": "f32f050aa6844db4a45fb3c8f34fda1e",
    "kernelspec": {
      "display_name": "R",
      "language": "R",
      "name": "ir"
    },
    "language_info": {
      "codemirror_mode": "r",
      "file_extension": ".r",
      "mimetype": "text/x-r-source",
      "name": "R",
      "pygments_lexer": "r",
      "version": "4.3.3"
    },
    "nbsimplegrader": {
      "publish_config": {
        "classes": [],
        "options": [],
        "tools": []
      }
    }
  },
  "nbformat": 4,
  "nbformat_minor": 1
}