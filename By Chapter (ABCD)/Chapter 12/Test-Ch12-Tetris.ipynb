{
  "cells": [
    {
      "cell_type": "markdown",
      "metadata": {
        "cell_id": "a23fc39cd5a54f828d4e81caac0355a4",
        "deepnote_cell_type": "markdown"
      },
      "source": "# <center>Test (Ch. 1-12): Tetris Reduces Trauma?</center> "
    },
    {
      "cell_type": "code",
      "execution_count": null,
      "metadata": {
        "cell_id": "4eddaaca7d124c7dacc69a19900e4619",
        "deepnote_cell_type": "code",
        "deepnote_to_be_reexecuted": false,
        "execution_millis": 1654,
        "execution_start": 1630613054501,
        "source_hash": "69aeb82e",
        "trusted": true
      },
      "outputs": [],
      "source": "# Run this code to load the required packages\nsuppressMessages(suppressWarnings(suppressPackageStartupMessages({\n  library(coursekata)\n})))"
    },
    {
      "cell_type": "markdown",
      "metadata": {
        "cell_id": "9efe09f52e0f4bfa9dc5f882a3b88e79",
        "deepnote_cell_type": "markdown"
      },
      "source": "Following traumatic experiences, some people have flashbacks, which are also called “intrusive memories.” Research suggests that one way to reduce intrusive memories is to try to change the memory during reconsolidation, a process that occurs immediately following reactivation of a previously formed memory. During reconsolidation, traumatic memories can be weakened to the point that they are no longer intrusive.    \n\nBecause intrusive memories are often visual, James and colleagues (2015) explored whether playing Tetris during memory reconsolidation (i.e., right after reactivation of the memory) would interfere with the storage of that memory, and thereby reduce future intrusive memories. The researchers hypothesized that participants who played Tetris after reactivation of the traumatic memories would experience fewer future intrusive memories than those who did not play Tetris.\n\nTo test their hypothesis, the authors recruited 72 participants to their study. As summarized in the table below, all participants came into the lab (**Session 1**) and watched a traumatic video that included lots of graphic violence. After watching the video, participants rated how distressing they found the video to be on a 10-point scale (`Distress`).  During the first 24 hours after watching the video, participants recorded the number of intrusive memories they experienced (`Intrusions.baseline`), a measure of their baseline level of intrusive memories.  \n\nTwenty-four hours after Session 1, participants came back into the lab for an Experimental Session. They were randomly assigned to one of four experimental conditions: \n\n- **No-task control**: Participants completed a 10-minute filler task and went home.\n\n- **Reactivation + Tetris**: Participants viewed images from the trauma film designed to reactivate the traumatic memories (i.e. reactivation task). They then played Tetris (Tetris) for 12 minutes.\n\n- **Tetris Only**: These participants played Tetris for 12 minutes, but did not view the traumatic images. \n\n- **Reactivation Only**: Participants viewed images from the trauma film designed to reactivate the traumatic memories (i.e. reactivation task), but did not play Tetris.     \n\nAfter completing the Experimental Session, participants were asked to record the number of intrusive memories they experienced for the next seven days (**Intrusions.afterExp**).   \n\n\n<img src=\"https://coursekata-course-assets.s3.us-west-1.amazonaws.com/UCLATALL/czi-stats-course/jnb_x9xp3Yg9-Test-Ch-12-Tetris-Study-Table.png\" title=\"Tetris Procedure\" width=\"900\"/>"
    },
    {
      "cell_type": "markdown",
      "metadata": {
        "cell_id": "4d5db2af9d0f4eaa97ab9aeaf0ceb7f5",
        "deepnote_cell_type": "markdown",
        "tags": []
      },
      "source": "Description of the variables in the data frame:\n\n- `Cond` Which condition the participant was randomly assigned to (numeric)\n- `CondName` Which condition the participant was randomly assigned to (factor)\n- `Distress` How distressing they found the video to be on a 10-point scale\n- `Intrusions.baseline` Number of intrusive memories they experienced during the first 24 hours after watching the video\n- `Intrusions.afterExp` Number of intrusive memories they experienced for the next seven days after completing the Experimental Session\n- `Tetris` Number of points the participants earned playing Tetris"
    },
    {
      "cell_type": "markdown",
      "metadata": {
        "cell_id": "c71a87169b194135a5654041eaa4f7a7",
        "deepnote_cell_type": "markdown"
      },
      "source": "## Question 1\n\nThe CSV file for the data frame has been loaded in the code box below. Take a look at the data."
    },
    {
      "cell_type": "code",
      "execution_count": null,
      "metadata": {
        "cell_id": "c061657651a9478c81af483ace47fe99",
        "deepnote_cell_type": "code",
        "deepnote_to_be_reexecuted": false,
        "execution_millis": 1484,
        "execution_start": 1630613056185,
        "output_cleared": false,
        "source_hash": "9b7fdc7f",
        "trusted": true
      },
      "outputs": [],
      "source": "# Take a look at the data \nTetris <- read.csv(\"https://docs.google.com/spreadsheets/d/e/2PACX-1vSK1X_R2o26xBl_kRO3yy5awpMHOTuMn76p8jDTi_CGjYM1_ykb5o9zpxPXhddI6A/pub?output=csv\", header = TRUE)"
    },
    {
      "cell_type": "code",
      "execution_count": null,
      "metadata": {
        "cell_id": "ad3b702371ac442a93d9d8e9be38ff09",
        "deepnote_cell_type": "code",
        "deepnote_to_be_reexecuted": false,
        "execution_millis": 102,
        "execution_start": 1630613057678,
        "output_cleared": false,
        "source_hash": "43408c9a",
        "tags": [],
        "trusted": true
      },
      "outputs": [],
      "source": "head(Tetris)"
    },
    {
      "cell_type": "markdown",
      "metadata": {
        "cell_id": "9d6ef0ce5acf4f59af13435ed24512e9",
        "deepnote_cell_type": "markdown"
      },
      "source": "## Question 2\n\nWhat do you think a value of -9999 means for the `Tetris` variable?"
    },
    {
      "cell_type": "markdown",
      "metadata": {
        "cell_id": "6b5f30e88be4477f818071568daef32f",
        "deepnote_cell_type": "markdown"
      },
      "source": "### What You have Learned about Exploring Variation"
    },
    {
      "cell_type": "markdown",
      "metadata": {
        "cell_id": "d78aa6fc633549c69ec4298a34a932b7",
        "deepnote_cell_type": "markdown"
      },
      "source": "## Question 3\n\nWhat are the cases in this data frame?"
    },
    {
      "cell_type": "markdown",
      "metadata": {
        "cell_id": "51ea6a69f7024b64b09710afaf79a0e1",
        "deepnote_cell_type": "markdown"
      },
      "source": "## Question 4\n\nLet’s just take a look at the first two conditions (1 and 2). Create a new data frame called **Tetris2** that only has the subjects from these two conditions in it."
    },
    {
      "cell_type": "markdown",
      "metadata": {
        "cell_id": "63ffcb23eb9943bc8d31d60ab1f01705",
        "deepnote_cell_type": "markdown"
      },
      "source": "<div class=\"alert alert-block alert-warning\">\n    \n## <center>FROM THIS POINT ON, USE `Tetris2` FOR YOUR ANALYSIS</center>"
    },
    {
      "cell_type": "markdown",
      "metadata": {
        "cell_id": "f07f1e0e98fc4b4a9b7bfa1fcd415db0",
        "deepnote_cell_type": "markdown"
      },
      "source": "## Question 5\n\nFind the researchers’ hypothesis in the description of the study. \n\n    a. Which variable in this data frame is the outcome variable? \n\n    b. Which is the explanatory variable? Should you use the named one or the number one?\n    \n    c. Put those variables into a word equation."
    },
    {
      "cell_type": "markdown",
      "metadata": {
        "cell_id": "424bfd98293043d2932b5893e408bdbb",
        "deepnote_cell_type": "markdown"
      },
      "source": "## Question 6\n\nWhat do the researchers predict will happen in this study? What pattern of results are they anticipating?"
    },
    {
      "cell_type": "markdown",
      "metadata": {
        "cell_id": "bed3903e4be14d05969c258fc14eaf3c",
        "deepnote_cell_type": "markdown"
      },
      "source": "## Question 7\n\nMake a visualization to explore their hypothesis. What visualization did you make? What did you learn from looking at your visualization?"
    },
    {
      "cell_type": "markdown",
      "metadata": {
        "cell_id": "ba86037610794046aeb3686c64ee6391",
        "deepnote_cell_type": "markdown"
      },
      "source": "### What You have Learned about Modeling Variation"
    },
    {
      "cell_type": "markdown",
      "metadata": {
        "cell_id": "bb59afc637d94a5994cc67336d7a24f5",
        "deepnote_cell_type": "markdown"
      },
      "source": "## Question 8\n\nWe don’t need to stop with visualizations and word equations. We can specify and fit fancy GLM models!\n\nSpecify the model in GLM (no numbers)."
    },
    {
      "cell_type": "markdown",
      "metadata": {
        "cell_id": "705c8f17a94c4938a32d3ada7f4f7ab3",
        "deepnote_cell_type": "markdown"
      },
      "source": "## Question 9\n\nWrite the best fitting GLM model (with numbers)."
    },
    {
      "cell_type": "markdown",
      "metadata": {
        "cell_id": "8596a9dbc691442d9471c05b951baea9",
        "deepnote_cell_type": "markdown"
      },
      "source": "## Question 10\n\nWhat do the best fitting parameter estimates (e.g., *$b_{1}$*, *$b_{0}$*) mean?"
    },
    {
      "cell_type": "markdown",
      "metadata": {
        "cell_id": "62bc6b4579e64ef28e16d89a76173618",
        "deepnote_cell_type": "markdown"
      },
      "source": "## Question 11\n\nHow much variation have we explained with this model?"
    },
    {
      "cell_type": "markdown",
      "metadata": {
        "cell_id": "05f72408a420455e8fffc161f21e068e",
        "deepnote_cell_type": "markdown"
      },
      "source": "### What You have Learned about Evaluating Models"
    },
    {
      "cell_type": "markdown",
      "metadata": {
        "cell_id": "f9e46505f2864d35bcaaff9cf558e524",
        "deepnote_cell_type": "markdown"
      },
      "source": "## Question 12\n\nWe don’t have to stop with just making some models. We can actually do some cool stuff to figure out which models of our DGP are better given our data.\n\nWhen we look at a visualization and think – yeah, this one looks like there is a relationship between the outcome and explanatory variables – which parameter estimate best represents the “relationship”: *$b_{1}$* or *$b_{0}$*?"
    },
    {
      "cell_type": "markdown",
      "metadata": {
        "cell_id": "2bf5a0675c164d7985e82d681d974fa8",
        "deepnote_cell_type": "markdown"
      },
      "source": "## Question 13\n\nWhat would the true value of *$\\beta_{1}$* be in a world where there is no relationship between your explanatory variable and your outcome variable?"
    },
    {
      "cell_type": "markdown",
      "metadata": {
        "cell_id": "258c99725a7e4b239846f6d3f39a2098",
        "deepnote_cell_type": "markdown"
      },
      "source": "## Question 14\n\nTake a look at your sample F and sample PRE. Is it possible to have gotten a sample F or PRE this big (or even bigger!) even if there was no relationship between your explanatory variable and outcome variable in the DGP?"
    },
    {
      "cell_type": "markdown",
      "metadata": {
        "cell_id": "633760ceeae9427bb82ee620dcf1818b",
        "deepnote_cell_type": "markdown"
      },
      "source": "## Question 15\n\nCreate a DGP where there is no relationship between your outcome and your explanatory variable. Run simulations of your study at least 1000 (maybe even 10,000) times. What proportion of these fake studies have an ***F*** greater than the one from your study?"
    },
    {
      "cell_type": "markdown",
      "metadata": {
        "cell_id": "82040d56afeb499c8ca7a8d871ee1a92",
        "deepnote_cell_type": "markdown"
      },
      "source": "## Question 16\n\nCreate a DGP where there is no relationship between your outcome and your explanatory variable. Run simulations of your study at least 1000 (maybe even 10,000) times. What proportion of these fake studies have a ***PRE*** greater than the one from your study?"
    },
    {
      "cell_type": "markdown",
      "metadata": {
        "cell_id": "92c605d6d3ae4839a59b2fbe76cae8ea",
        "deepnote_cell_type": "markdown"
      },
      "source": "## Question 17\n\nAccording to `supernova()`, what is the likelihood of getting an F or PRE as big as the one you got in this sample (or bigger) if there is **<u>no relationship </u>** between these two variables in the DGP?"
    },
    {
      "cell_type": "markdown",
      "metadata": {
        "cell_id": "af6aa7c19ae844f5b59e65158b7b1dbf",
        "deepnote_cell_type": "markdown"
      },
      "source": "## Question 18\n\nAre you *likely* to have gotten a sample F or PRE this big (or even bigger!) if there was no relationship between your explanatory variable and outcome variable in the DGP? How did you decide?"
    },
    {
      "cell_type": "markdown",
      "metadata": {
        "cell_id": "a88125c09689421bb2f038ad2643385d",
        "deepnote_cell_type": "markdown"
      },
      "source": "## Question 19\n\nThink about the distribution triad. Which model is best supported by your model evaluation?"
    },
    {
      "cell_type": "markdown",
      "metadata": {
        "cell_id": "bdd512900d174e3a986fa9743a7afe00",
        "deepnote_cell_type": "markdown"
      },
      "source": "## Question 20\n\nThe function `confint()` tells me that the 95% confidence interval for 1 is -5.41 to -1.03. I’ve rounded to the nearest hundredths place (2 places after the decimal point). \n\nExplain what the lowest number (-5.41) and highest number (-1.03) in the confidence interval tells us."
    }
  ],
  "metadata": {
    "deepnote_notebook_id": "2583e312781847d8bb74e8d4003336e0",
    "kernelspec": {
      "display_name": "R",
      "language": "R",
      "name": "ir"
    },
    "language_info": {
      "codemirror_mode": "r",
      "file_extension": ".r",
      "mimetype": "text/x-r-source",
      "name": "R",
      "pygments_lexer": "r",
      "version": "4.3.3"
    },
    "nbsimplegrader": {
      "publish_config": {
        "classes": [],
        "options": [],
        "tools": []
      }
    }
  },
  "nbformat": 4,
  "nbformat_minor": 1
}