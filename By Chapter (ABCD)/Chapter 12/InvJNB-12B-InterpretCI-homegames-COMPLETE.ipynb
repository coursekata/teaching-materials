{
  "cells": [
    {
      "cell_type": "markdown",
      "metadata": {
        "cell_id": "a8aae40ee0f24558a22ea2242022a9e1",
        "deepnote_cell_type": "markdown",
        "tags": []
      },
      "source": "<div class=\"alert alert-block alert-danger\">\n\n# 12B: The Effect of Being at Home (COMPLETE)\n\n**Use with textbook version 6.0+**\n\n**Lesson assumes students have read up through page: 12.6**\n    \n</div>"
    },
    {
      "cell_type": "markdown",
      "metadata": {
        "cell_id": "eec4b7101e454288b4eff82443314307",
        "deepnote_cell_height": 163.9375,
        "deepnote_cell_type": "markdown",
        "tags": []
      },
      "source": "<div class=\"alert alert-block alert-success\">\n\n## Approximate time to complete Notebook: 55-65 Mins\n    \n</div>"
    },
    {
      "cell_type": "code",
      "execution_count": null,
      "metadata": {
        "cell_id": "b35072f66c4148728c6694bc13e84c87",
        "deepnote_cell_height": 199.921875,
        "deepnote_cell_type": "code",
        "deepnote_to_be_reexecuted": false,
        "execution_millis": 2908,
        "execution_start": 1667534440755,
        "nbsimplegrader": {
          "config_key": "code.run-only",
          "editable": false,
          "label": "Code: Run-Only",
          "respondable": false,
          "response": null,
          "runnable": true,
          "type": "code"
        },
        "output_cleared": false,
        "owner_user_id": "23d85493-7ed1-49a4-baa7-630eaab08193",
        "source_hash": "cd3c7f6a",
        "trusted": true
      },
      "outputs": [],
      "source": "# Load the CourseKata library\nsuppressPackageStartupMessages({\n    library(coursekata)\n})"
    },
    {
      "cell_type": "markdown",
      "metadata": {
        "cell_id": "3673840d0b234d659530f79dad6958cb",
        "deepnote_cell_height": 974.03125,
        "deepnote_cell_type": "markdown",
        "tags": []
      },
      "source": "We’re going to look at a dataframe called `MiamiHeat`. These are the game log data for the Miami Heat basketball team in 2010-11. \n\nHere are the variables in this dataframe:\n\n- `MDY` Date the game was played as a date object\n- `Date` Date the game was played as a character string\n- `Location` Away or Home\n- `Opp` Opponent team\n- `Win` Game result: L or W\n- `FG` Field goals made\n- `FGA` Field goals attempted\n- `FG3` Three-point field goals made\n- `FG3A` Three-point field goals attempted\n- `FT` Free throws made\n- `FTA` Free throws attempted\n- `Rebounds` Total rebounds\n- `OffReb` Offensive rebounds\n- `Assists` Number of assists\n- `Steals` Number of steals\n- `Blocks` Number of shots blocked\n- `Turnovers` Number of turnovers\n- `Fouls` Number of fouls\n- `Points` Number of points scored\n- `OppFG` Opponent's field goals made\n- `OppFGA` Opponent's Field goals attempted\n- `OppFG3` Opponent's Three-point field goals made\n- `OppFG3A` Opponent's Three-point field goals attempted\n- `OppFT` Opponent's Free throws made\n- `OppFTA` Opponent's Free throws attempted\n- `OppOffReb` Opponent's Total rebounds\n- `OppRebounds` Opponent's Offensive rebounds\n- `OppAssists` Opponent's assists\n- `OppSteals` Opponent's steals\n- `OppBlocks` Opponent's shots blocked\n- `OppTurnovers` Opponent's turnovers\n- `OppFouls` Opponent's fouls\n- `OppPoints` Opponent's points scored"
    },
    {
      "cell_type": "markdown",
      "metadata": {
        "cell_id": "85aa7ba28650414ebc8a87132b6e6b95",
        "deepnote_cell_height": 115.9375,
        "deepnote_cell_type": "markdown",
        "tags": []
      },
      "source": "<div class=\"alert alert-block alert-success\">\n\n### 1.0 - Approximate Time: 5-8 mins\n    \n</div>"
    },
    {
      "cell_type": "markdown",
      "metadata": {
        "cell_id": "dc0253bbb66f4130a89263d89be6400e",
        "deepnote_cell_height": 69.96875,
        "deepnote_cell_type": "markdown",
        "tags": []
      },
      "source": "## 1.0 - Explore the Home Game Advantage"
    },
    {
      "cell_type": "markdown",
      "metadata": {
        "cell_id": "7dd353e42b3f49748678c9c043703252",
        "deepnote_cell_height": 74.75,
        "deepnote_cell_type": "markdown",
        "tags": []
      },
      "source": "1.1 - Let's explore the idea that playing at home would help the Miami Heat score more points. Write this idea as a word equation."
    },
    {
      "cell_type": "markdown",
      "metadata": {
        "cell_id": "82f96bc566f44b75bdfbd4baa7ce63a3",
        "deepnote_cell_height": 177.109375,
        "deepnote_cell_type": "markdown",
        "tags": []
      },
      "source": "<div class=\"alert alert-block alert-warning\">\n\n**Sample Response**\n\nPoints = Location + Other Stuff\n\nHopefully students no longer say Points = Home + Away + Other Stuff by now... \n    \n</div>"
    },
    {
      "cell_type": "markdown",
      "metadata": {
        "cell_id": "39a0d3bc629f49e3aacf3bead0f96abd",
        "deepnote_cell_height": 74.75,
        "deepnote_cell_type": "markdown",
        "tags": []
      },
      "source": "1.2 - Explore the variation with a visualization. Does it seem like they score more when playing at home?"
    },
    {
      "cell_type": "code",
      "execution_count": null,
      "metadata": {
        "cell_id": "f10357edb86b476c816db267f87ec0a5",
        "deepnote_cell_height": 1141.953125,
        "deepnote_cell_type": "code",
        "deepnote_output_heights": [
          444,
          444
        ],
        "deepnote_to_be_reexecuted": false,
        "execution_millis": 691,
        "execution_start": 1667534443683,
        "output_cleared": false,
        "source_hash": "b4dda06c",
        "tags": [],
        "trusted": true
      },
      "outputs": [],
      "source": "# Sample Histograms with boxplots \ngf_histogram(~ Points, data = MiamiHeat, color = \"firebrick\", fill = \"goldenrod1\") %>%\n    gf_facet_grid(Location ~ .)%>%\n    gf_boxplot(color = \"black\")\n\n# Sample boxplots with jitter\ngf_boxplot(Points ~ Location, data = MiamiHeat, color = \"firebrick\", fill = \"goldenrod1\") %>%\n    gf_jitter(color = \"black\")"
    },
    {
      "cell_type": "markdown",
      "metadata": {
        "cell_id": "ed7373d0d71746269c98225fd3f109a5",
        "deepnote_cell_height": 236.296875,
        "deepnote_cell_type": "markdown",
        "tags": []
      },
      "source": "<div class=\"alert alert-block alert-warning\">\n\n**Sample Responses**\n\n- Some students still fixate on the highest scoring game (being at home)\n- Similar center and spread (although boxplots might lead students to say home games have a little more variation; histograms may lead students to focus on the \"spikes\" in the data)\n- Overall, not a big \"shift\" between the two distributions; more similar in values than different; not as though the home games are generally higher in points than the away games\n    \n</div>"
    },
    {
      "cell_type": "markdown",
      "metadata": {
        "cell_id": "85c27082eb4d440bb6103529be1f3bf0",
        "deepnote_cell_height": 119.53125,
        "deepnote_cell_type": "markdown",
        "tags": []
      },
      "source": "1.3 - One of the faceted histograms below is the empirical sample. The others are created from a random DGP where there is no relationship between `Points` and `Location` (with `shuffle`). Notice that it is really hard to tell which one is the real sample! What makes all these faceted histograms \"similar\"?"
    },
    {
      "cell_type": "markdown",
      "metadata": {
        "cell_id": "34b64841beac407e9119a74bb46ad768",
        "deepnote_cell_height": 221.90625,
        "deepnote_cell_type": "markdown",
        "tags": []
      },
      "source": "<div class=\"alert alert-block alert-info\">\n\n***Note for teachers***: \n\n= The point of this exercise is that it is hard to tell. Students are sometimes discouraged that they can't find which one is the real data because they all look \"similar\". \n- They look superficially different from default histograms because bins = 10. If they really want to know, it's #2.\n    \n</div>"
    },
    {
      "cell_type": "markdown",
      "metadata": {
        "cell_id": "97dd5eedbee44311b1d1a7c61b968cee",
        "deepnote_cell_height": 713.625,
        "deepnote_cell_type": "markdown",
        "tags": []
      },
      "source": "<img src=\"https://coursekata-course-assets.s3.us-west-1.amazonaws.com/UCLATALL/czi-stats-course/jnb_D7mKmtN6-10-B-Histograms.png\" title=\"a 3x3 grid of faceted histograms\" />"
    },
    {
      "cell_type": "markdown",
      "metadata": {
        "cell_id": "c4b689121aae4aeda687f3faa647bff2",
        "deepnote_cell_height": 221.90625,
        "deepnote_cell_type": "markdown",
        "tags": []
      },
      "source": "<div class=\"alert alert-block alert-warning\">\n\n**Sample Response**\n\nThey look \"similar\" because `Location` doesn't help you predict which games have higher or lower scores. \n\nThe shape/center/spreads are all roughly the same between home and away games in all of these facted histograms.\n    \n</div>"
    },
    {
      "cell_type": "markdown",
      "metadata": {
        "cell_id": "73a3d11318de40a5a91562b319d5f993",
        "deepnote_cell_height": 115.9375,
        "deepnote_cell_type": "markdown",
        "tags": []
      },
      "source": "<div class=\"alert alert-block alert-success\">\n\n### 2.0 - Approximate Time: 8-10 mins\n    \n</div>"
    },
    {
      "cell_type": "markdown",
      "metadata": {
        "cell_id": "00d65a904d8541da8138d118cfcbe490",
        "deepnote_cell_height": 69.96875,
        "deepnote_cell_type": "markdown",
        "tags": []
      },
      "source": "## 2.0 - Modeling Variation"
    },
    {
      "cell_type": "markdown",
      "metadata": {
        "cell_id": "f8ef78feb6a8449faa8bc68aaae0f72e",
        "deepnote_cell_height": 111.34375,
        "deepnote_cell_type": "markdown",
        "tags": []
      },
      "source": "2.1 - Now that we know a lot more about statistics, we can actually create a model of POINTS = LOCATION + OTHER STUFF. Write the best fitting model in GLM notation here. \n\n$$Y_i = ... + e_i$$"
    },
    {
      "cell_type": "code",
      "execution_count": null,
      "metadata": {
        "cell_id": "5f6d5ee57d2c48e0902e9295648839b9",
        "deepnote_cell_height": 263.375,
        "deepnote_cell_type": "code",
        "deepnote_output_heights": [
          135.421875
        ],
        "deepnote_to_be_reexecuted": false,
        "execution_millis": 18,
        "execution_start": 1667534444363,
        "output_cleared": false,
        "source_hash": "cc60e940",
        "tags": [],
        "trusted": true
      },
      "outputs": [],
      "source": "# Fit the model\nloc_model <- lm(Points ~ Location, data = MiamiHeat)\nloc_model"
    },
    {
      "cell_type": "markdown",
      "metadata": {
        "cell_id": "d965094cc42b43239d9513253f716965",
        "deepnote_cell_height": 177.53125,
        "deepnote_cell_type": "markdown",
        "tags": []
      },
      "source": "<div class=\"alert alert-block alert-warning\">\n\n**Sample Response**\n\n$$Points_i = 101 + 2.12 Location_i + e_i$$\n\n$$Y_i = 101 + 2.12X_i + e_i$$\n    \n</div>"
    },
    {
      "cell_type": "markdown",
      "metadata": {
        "cell_id": "854c55b369e8416787452a08300f3f16",
        "deepnote_cell_height": 52.359375,
        "deepnote_cell_type": "markdown",
        "tags": []
      },
      "source": "2.2 - Interpret the best fitting estimates by connecting the numbers to the visualization below."
    },
    {
      "cell_type": "code",
      "execution_count": null,
      "metadata": {
        "cell_id": "6ff0a7ae6cce4f2b8ddf705f6a1aecf1",
        "deepnote_cell_height": 571.953125,
        "deepnote_cell_type": "code",
        "deepnote_output_heights": [
          444
        ],
        "deepnote_to_be_reexecuted": false,
        "execution_millis": 434,
        "execution_start": 1667534831545,
        "output_cleared": false,
        "source_hash": "685a6d5e",
        "tags": [],
        "trusted": true
      },
      "outputs": [],
      "source": "gf_histogram(~ Points, data = MiamiHeat, alpha = 1) %>%\n    gf_facet_grid(Location ~ .) %>%\n    gf_model(Points ~ Location, data = MiamiHeat)"
    },
    {
      "cell_type": "markdown",
      "metadata": {
        "cell_id": "8c6b8abff4b24ffaa96aeb1276785bc7",
        "deepnote_cell_height": 211.3125,
        "deepnote_cell_type": "markdown",
        "tags": []
      },
      "source": "<div class=\"alert alert-block alert-warning\">\n\n**Sample Response**\n\n- $b_0 = 101$; mean number of `Points` for away games; represented by the mean line in the top histogram\n\n- $b_1 = 2.12$; number of `Points` to add to the mean of away games in order to get the mean of home games (103.12); the horizontal distance between the two mean lines in the histograms\n    \n</div>"
    },
    {
      "cell_type": "markdown",
      "metadata": {
        "cell_id": "5ce998ca754441cf9617d32e8a28cc53",
        "deepnote_cell_height": 97.34375,
        "deepnote_cell_type": "markdown",
        "tags": []
      },
      "source": "2.3 - When we look at a visualization (any visualization--not just this one!) and think, *\"Yeah, this one looks like some of the variation is explained,\"* which parameter estimate best represents the “shift”? $b_0$ or $b_1$?\n"
    },
    {
      "cell_type": "markdown",
      "metadata": {
        "cell_id": "27205a671c3c4d478a3f4663d39f33ba",
        "deepnote_cell_height": 140.9375,
        "deepnote_cell_type": "markdown",
        "tags": []
      },
      "source": "<div class=\"alert alert-block alert-warning\">\n\n**Sample Response**\n\n$b_1$ represents the \"shift\".\n    \n</div>"
    },
    {
      "cell_type": "markdown",
      "metadata": {
        "cell_id": "e158dbb6bb5948e79caabdd7d683872d",
        "deepnote_cell_height": 74.953125,
        "deepnote_cell_type": "markdown",
        "tags": []
      },
      "source": "2.4 - Estimate that parameter in the **shuffled** histograms below. When you have randomly shuffled data into Home and Away groups, what are the $b_1$s typically like? \n"
    },
    {
      "cell_type": "markdown",
      "metadata": {
        "cell_id": "94b18f09a7f24699ad1ca77dabf93f71",
        "deepnote_cell_height": 713.65625,
        "deepnote_cell_type": "markdown",
        "tags": []
      },
      "source": "<img src=\"https://coursekata-course-assets.s3.us-west-1.amazonaws.com/UCLATALL/czi-stats-course/jnb_pWBFyh9g-10-B-Shuffled-Histograms.png\" title=\"grid of faceted histograms\" />"
    },
    {
      "cell_type": "markdown",
      "metadata": {
        "cell_id": "37e5d8aab285400cb04877064a2f9a6e",
        "deepnote_cell_height": 166.328125,
        "deepnote_cell_type": "markdown",
        "tags": []
      },
      "source": "<div class=\"alert alert-block alert-warning\">\n\n**Sample Response**\n\n- Most of the shuffled $b_1$s are very close to 0 (e.g., between -3 and 3) \n- Usually a very small difference between the two means\n    \n</div>"
    },
    {
      "cell_type": "markdown",
      "metadata": {
        "cell_id": "7f81d0e1bd8047be8473801028137637",
        "deepnote_cell_height": 153.9375,
        "deepnote_cell_type": "markdown",
        "tags": []
      },
      "source": "2.5 - If we put all these $b_1$s in their own distribution, what would it be called?\n\n- a sample of `Points`\n- a sampling distribution of $b_1$s\n- a DGP where there is no home game advantage"
    },
    {
      "cell_type": "markdown",
      "metadata": {
        "cell_id": "5eccd8ea225d4b8c97224be8700000d2",
        "deepnote_cell_height": 140.9375,
        "deepnote_cell_type": "markdown",
        "tags": []
      },
      "source": "<div class=\"alert alert-block alert-warning\">\n\n**Sample Response**\n\nA sampling distribution of $b_1$s.\n    \n</div>"
    },
    {
      "cell_type": "markdown",
      "metadata": {
        "cell_id": "ef8f1b346ac74f519f34f2986a5496ab",
        "deepnote_cell_height": 52.5625,
        "deepnote_cell_type": "markdown",
        "tags": []
      },
      "source": "2.6 - Why should we be worried about randomness when looking at the sample $b_1$?"
    },
    {
      "cell_type": "markdown",
      "metadata": {
        "cell_id": "8604d73f60aa48259fe8fe23db2412d1",
        "deepnote_cell_height": 208.734375,
        "deepnote_cell_type": "markdown",
        "tags": []
      },
      "source": "<div class=\"alert alert-block alert-warning\">\n\n**Sample Response**\n\nBecause it's possible that the sample $b_1$ may have been generated by a random DGP. We don't want to be fooled into thinking that our $b_1$ came from a DGP where $\\beta_1$ does not equal zero just because our sample $b_1$ is not zero. Even a DGP with a $\\beta_1$ that is actually zero can generate samples with a $b_1$ that is not zero.\n    \n</div>"
    },
    {
      "cell_type": "markdown",
      "metadata": {
        "cell_id": "ac5f737e07fe423783f5a8d8f401ceb1",
        "deepnote_cell_height": 163.125,
        "deepnote_cell_type": "markdown",
        "tags": []
      },
      "source": "<div class=\"alert alert-block alert-info\">\n\n***Recommendation for teachers***: \n\nSplit up into groups and have odd numbered groups do section 3.0 \nand even numbered groups do section 4.0.\n    \n</div>"
    },
    {
      "cell_type": "markdown",
      "metadata": {
        "cell_id": "86cefce2d0a44c2aac47ae6dbe6e30fd",
        "deepnote_cell_height": 115.9375,
        "deepnote_cell_type": "markdown",
        "tags": []
      },
      "source": "<div class=\"alert alert-block alert-success\">\n\n### 3.0 - Approximate Time: 12-15 mins\n    \n</div>"
    },
    {
      "cell_type": "markdown",
      "metadata": {
        "cell_id": "c7ec1af16bd84d45b10e4b2612a077f1",
        "deepnote_cell_height": 109.96875,
        "deepnote_cell_type": "markdown",
        "tags": []
      },
      "source": "## 3.0 - A DGP where there is no home game advantage"
    },
    {
      "cell_type": "markdown",
      "metadata": {
        "cell_id": "5ac3f06e1f0e42739bc3012576581fbc",
        "deepnote_cell_height": 74.75,
        "deepnote_cell_type": "markdown",
        "tags": []
      },
      "source": "3.1 - If there was no effect of `Location` in the real DGP, which model of the DGP should we prefer: the `Location` model or the empty model?"
    },
    {
      "cell_type": "markdown",
      "metadata": {
        "cell_id": "b6d4d187bdde4e8aa33b342f477dc68f",
        "deepnote_cell_height": 140.71875,
        "deepnote_cell_type": "markdown",
        "tags": []
      },
      "source": "<div class=\"alert alert-block alert-warning\">\n\n**Sample Response**\n\nThe empty model (it's the one that doesn't have `Location` in it).\n    \n</div>"
    },
    {
      "cell_type": "markdown",
      "metadata": {
        "cell_id": "e5aca357ba4d4d45ad5b0b822e4d4904",
        "deepnote_cell_height": 89.15625,
        "deepnote_cell_type": "markdown",
        "tags": []
      },
      "source": "3.2 - If there was no effect of `Location`, what would be the value of $\\beta_1$ in the DGP?\n\n$$Y_i = \\beta_0 + \\beta_1 X_i + \\epsilon_i$$"
    },
    {
      "cell_type": "markdown",
      "metadata": {
        "cell_id": "9010c9736b3b400a868454accbebefe0",
        "deepnote_cell_height": 199.921875,
        "deepnote_cell_type": "markdown",
        "tags": []
      },
      "source": "<div class=\"alert alert-block alert-warning\">\n\n**Sample Response**\n\nIt would be about zero.\n\nPoint out to students that if $$\\beta_1=0$$, then $$Y_i = \\beta_0 + 0*X_i + \\epsilon_i$$ and that's the same thing as $$Y_i = \\beta_0 + \\epsilon_i$$. Hey look! It's the empty model!\n    \n</div>"
    },
    {
      "cell_type": "markdown",
      "metadata": {
        "cell_id": "43e9a8a5cb7e43cb831418774cea8e7d",
        "deepnote_cell_height": 171.140625,
        "deepnote_cell_type": "markdown",
        "tags": []
      },
      "source": "3.3 - Which of these functions (`shuffle()` or `resample()` as used below) will generate 1000 samples from a DGP with no home game advantage for `Points`?\n\n```\ndo(1000) * b1(shuffle(Points) ~ Location, data = MiamiHeat)\n\ndo(1000) * b1(Points ~ Location, data = resample(MiamiHeat))\n```"
    },
    {
      "cell_type": "markdown",
      "metadata": {
        "cell_id": "fabf4472edd64d0a8e03fbb7417d1b99",
        "deepnote_cell_height": 210.90625,
        "deepnote_cell_type": "markdown",
        "tags": []
      },
      "source": "<div class=\"alert alert-block alert-warning\">\n\n**Sample Response**\n\n- The one with `shuffle()` because that will break any relationship that currently exists between `Points` and `Location`.\n\n- `resample()` will preserve any relationship that currently exists because it will sample games (that is, rows) and keep that game's `Points` together with its `Location`.\n    \n</div>"
    },
    {
      "cell_type": "markdown",
      "metadata": {
        "cell_id": "3dc6ec84f1f34adcab25c52748168fb6",
        "deepnote_cell_height": 97.34375,
        "deepnote_cell_type": "markdown",
        "tags": []
      },
      "source": "3.4 - If there was no home game advantage, would such a DGP *always* generate $b_1$s that are 0? Could such a DGP generate samples where the average `Points` scored at home were *higher* than the away average? What about *lower*? Why or why not?"
    },
    {
      "cell_type": "markdown",
      "metadata": {
        "cell_id": "fd74fc08c7b14b068639fc18ffbbc3e8",
        "deepnote_cell_height": 188.515625,
        "deepnote_cell_type": "markdown",
        "tags": []
      },
      "source": "<div class=\"alert alert-block alert-warning\">\n\n**Sample Response**\n\n- It might not always be zero, because the samples will vary. Some of them will be a little higher than 0, and some will be lower. \n- If you did a lot of them, the sample b1s will be centered around 0.\n    \n</div>"
    },
    {
      "cell_type": "markdown",
      "metadata": {
        "cell_id": "2020466c92744a609f462086c9f7d1b7",
        "deepnote_cell_height": 111.765625,
        "deepnote_cell_type": "markdown",
        "tags": []
      },
      "source": "3.5 - If there was no home game advantage for `Points`, could we ever get sample $b_1$ as extreme as the one in our sample ($b_1 = 2.12$)? Would it be one of the \"unlikely\" $b_1$s from this DGP?\n\nMake a prediction. Then create a sampling distribution of $b_1$ from a DGP where $\\beta_1 = 0$."
    },
    {
      "cell_type": "markdown",
      "metadata": {
        "cell_id": "662a0a4e7bcb48969204fccc05780f5e",
        "deepnote_cell_height": 354.28125,
        "deepnote_cell_type": "markdown",
        "tags": []
      },
      "source": "<div class=\"alert alert-block alert-warning\">\n\n**Sample Response**\n\n- Easy for students to say that is is possible to get a b1. The real issue will be on whether they can distinguish whether it is \"likely\" or not.\n- Some students reason from examples -- that is, they look at the distributions depicted in 2.4 and say, \"We've already seen that even if we generate just a 9 $b_1$s from shuffling, it's not too hard to generate a mean difference of 2... so we'll call that 'likely'.\" \n- Another level is to connect to the statistical community's definition of \"likely\".\n\n**Follow up questions**\n\n- Students may need to be prodded to consider how we judge whether a $b_1$ is \"likely\" or not according to this definition of likely: the middle 95% of a sampling distribution.\n    \n</div>"
    },
    {
      "cell_type": "code",
      "execution_count": null,
      "metadata": {
        "allow_embed": false,
        "cell_id": "d54d39c7a40147b4a586cd22f4262b25",
        "deepnote_cell_height": 661.953125,
        "deepnote_cell_type": "code",
        "deepnote_output_heights": [
          444
        ],
        "deepnote_to_be_reexecuted": false,
        "execution_millis": 851,
        "execution_start": 1667534976277,
        "output_cleared": false,
        "source_hash": "15db0755",
        "tags": [],
        "trusted": true
      },
      "outputs": [],
      "source": "# Create a sampling distribution of b1 here.\n# Save it as sdob1_no_effect\n\nsdob1_no_effect <- do(1000) * b1(shuffle(Points) ~ Location, data = MiamiHeat)\n\n# Visualize the sampling distribution in a histogram. \n\ngf_histogram(~b1, data = sdob1_no_effect)"
    },
    {
      "cell_type": "markdown",
      "metadata": {
        "cell_id": "7bd7cb2a09734ad0938d8a769661d936",
        "deepnote_cell_height": 111.5625,
        "deepnote_cell_type": "markdown",
        "tags": []
      },
      "source": "3.6 - The code below will color the middle .95 of samples in `dodgerblue`. Will the sample $b_1$ be an \"unlikely\" samples? \n\nAdd some code to depict the sample $b_1$ (2.12) in `green4`. "
    },
    {
      "cell_type": "markdown",
      "metadata": {
        "cell_id": "250c31ce2294444ea4eeba757f9305fb",
        "deepnote_cell_height": 163.125,
        "deepnote_cell_type": "markdown",
        "tags": []
      },
      "source": "<div class=\"alert alert-block alert-warning\">\n\n**Sample Response**\n\n- From reading the x-axis in the histogram in 3.5, we can see that the sample is not one of the \"unlikely\" samples. \n    \n</div>"
    },
    {
      "cell_type": "code",
      "execution_count": null,
      "metadata": {
        "cell_id": "1c789ebc22c04eae830754cdfbd2c436",
        "deepnote_cell_height": 612.953125,
        "deepnote_cell_type": "code",
        "deepnote_output_heights": [
          444
        ],
        "deepnote_to_be_reexecuted": false,
        "execution_millis": 222,
        "execution_start": 1667534999037,
        "output_cleared": false,
        "source_hash": "ccf9c87",
        "tags": [],
        "trusted": true
      },
      "outputs": [],
      "source": "# this code makes a histogram \n# Add a point to represent the sample b1\ngf_histogram(~ b1, data = sdob1_no_effect, binwidth = .5, fill = ~middle(b1, .95)) %>%\n    gf_refine(scale_fill_manual(values = c(\"coral\", \"dodgerblue\"))) %>%\n    gf_point(x = 2.12, y = 0, color = \"green4\")"
    },
    {
      "cell_type": "markdown",
      "metadata": {
        "cell_id": "9a24d5aaf1f54f21bacd3a876fbb2c3f",
        "deepnote_cell_height": 74.75,
        "deepnote_cell_type": "markdown",
        "tags": []
      },
      "source": "3.7 - Check out a different way of depicting the distribution triad (DGP, sampling distribution, and sample) here. Where should this sampling distribution go?\n\n\n"
    },
    {
      "cell_type": "markdown",
      "metadata": {
        "cell_id": "141e347e48fa4dbc801a6dc1bc640c62",
        "deepnote_cell_height": 580.375,
        "deepnote_cell_type": "markdown",
        "tags": []
      },
      "source": "<div class=\"alert alert-block alert-info\">\n\n***For instructors***\n\nMake a copy of these [slides to share with students](https://docs.google.com/presentation/d/1-Q2w-ZXl0CXjGXiET_TwDpppY1Dl1H8SFnSEJAN6Kp0/copy?usp=sharing).\n\n\n*This is an example of how they should align their sampling distributions in the slides:*\n\n<img src=\"https://coursekata-course-assets.s3.us-west-1.amazonaws.com/UCLATALL/czi-stats-course/jnb_B3w870T5-10-B-Sampling-Dist-of-b1s.png\" width = 80% align = \"center\">\n\n</div>"
    },
    {
      "cell_type": "markdown",
      "metadata": {
        "cell_id": "b2fdfc8209b346e598ad358d9768b397",
        "deepnote_cell_height": 115.9375,
        "deepnote_cell_type": "markdown",
        "tags": []
      },
      "source": "<div class=\"alert alert-block alert-success\">\n\n### 4.0 - Approximate Time: 12-15 mins\n    \n</div>"
    },
    {
      "cell_type": "markdown",
      "metadata": {
        "cell_id": "48802a0681cf4f58bfced9bdea7c79bd",
        "deepnote_cell_height": 109.96875,
        "deepnote_cell_type": "markdown",
        "tags": []
      },
      "source": "## 4.0 - A DGP where the home game advantage is similar to our sample "
    },
    {
      "cell_type": "markdown",
      "metadata": {
        "cell_id": "9049a7d4628d41eeb4c935022a784e4a",
        "deepnote_cell_height": 74.75,
        "deepnote_cell_type": "markdown",
        "tags": []
      },
      "source": "4.1 - If the effect of `Location` in the real DGP was just like our sample, which model of the DGP should we prefer: the `Location` model or the empty model?"
    },
    {
      "cell_type": "markdown",
      "metadata": {
        "cell_id": "cdbd973368e44051aff153d4b94319a0",
        "deepnote_cell_height": 140.71875,
        "deepnote_cell_type": "markdown",
        "tags": []
      },
      "source": "<div class=\"alert alert-block alert-warning\">\n\n**Sample Response**\n\nThe Location model!\n    \n</div>"
    },
    {
      "cell_type": "markdown",
      "metadata": {
        "cell_id": "b8d8c3785fb5407aa8fcaa3e3fd3c713",
        "deepnote_cell_height": 89.15625,
        "deepnote_cell_type": "markdown",
        "tags": []
      },
      "source": "4.2 - If the effect of `Location` was just like our sample, what would be the value of $\\beta_1$ in the DGP?\n\n$$Y_i = \\beta_0 + \\beta_1 X_i + \\epsilon_i$$"
    },
    {
      "cell_type": "markdown",
      "metadata": {
        "cell_id": "79db97e91def49a79824e1a695697386",
        "deepnote_cell_height": 140.71875,
        "deepnote_cell_type": "markdown",
        "tags": []
      },
      "source": "<div class=\"alert alert-block alert-warning\">\n\n**Sample Response**\n\nIt should be about 2.12.\n    \n</div>"
    },
    {
      "cell_type": "markdown",
      "metadata": {
        "cell_id": "cbe8459c754749f9af3ec32c2e2c6d82",
        "deepnote_cell_height": 171.140625,
        "deepnote_cell_type": "markdown",
        "owner_user_id": "65abe037-acab-4951-bbc9-907a4ef12e8f",
        "tags": []
      },
      "source": "4.3 - Which of these functions (`shuffle()` or `resample()` as used below) will generate 1000 samples from a DGP that is basically just like our sample?\n\n```\ndo(1000) * b1(shuffle(Points) ~ Location, data = MiamiHeat)\n\ndo(1000) * b1(Points ~ Location, data = resample(MiamiHeat))\n```"
    },
    {
      "cell_type": "markdown",
      "metadata": {
        "cell_id": "25ad8e0adc7240beb4e055612d25ed7a",
        "deepnote_cell_height": 140.71875,
        "deepnote_cell_type": "markdown",
        "tags": []
      },
      "source": "<div class=\"alert alert-block alert-warning\">\n\n**Sample Response**\n\nThe one with `resample()`.\n    \n</div>"
    },
    {
      "cell_type": "markdown",
      "metadata": {
        "cell_id": "7aecca9393ca4e1c9e54f921c7cb4107",
        "deepnote_cell_height": 97.34375,
        "deepnote_cell_type": "markdown",
        "tags": []
      },
      "source": "4.4 - If the DGP was just like our sample, could it generate $b_1$s that show no effect of `Location`? Could such a DGP generate samples where the average `Points` in home games were *lower*  than the away average? Why or why not?"
    },
    {
      "cell_type": "markdown",
      "metadata": {
        "cell_id": "6bfd57f6388c43979d9cd23ce3fc5562",
        "deepnote_cell_height": 233.90625,
        "deepnote_cell_type": "markdown",
        "tags": []
      },
      "source": "<div class=\"alert alert-block alert-warning\">\n\n**Sample Response**\n\n- Such a DGP (where $\\beta_1 = 2.21$) could also generate $b_1$s that show no effect of `Location` (that is $b_1 = 0$). \n\n- It could also generate samples where the average points in home games were lower than the away average (that is $b_1$s that are negative) because there is enough variation in the points where this is possible. \n    \n</div>"
    },
    {
      "cell_type": "markdown",
      "metadata": {
        "cell_id": "4c9ead4a16f94c9b802b4cb4e7006bf6",
        "deepnote_cell_height": 156.75,
        "deepnote_cell_type": "markdown",
        "tags": []
      },
      "source": "4.5 - If the home game advantage for `Points` in the DGP was just like our sample, could we ever get sample $b_1$ as extreme the one in our sample ($b_1 = 2.12$)? Would it be one of the likely or unlikely $b_1$s from this DGP?\n\nMake a prediction. Then create a sampling distribution of $b_1$ from a DGP that is just like our sample ($\\beta_1 = 2.12$)."
    },
    {
      "cell_type": "markdown",
      "metadata": {
        "cell_id": "51ed30bb82654e89a0c65607ddfef85f",
        "deepnote_cell_height": 163.125,
        "deepnote_cell_type": "markdown",
        "tags": []
      },
      "source": "<div class=\"alert alert-block alert-warning\">\n\n**Sample Response**\n\n*Student predictions will vary, but, yes, it could, and it would be one of the likely ones (e.g., one of those in the middle of the sampling distribution).*\n    \n</div>"
    },
    {
      "cell_type": "code",
      "execution_count": null,
      "metadata": {
        "allow_embed": false,
        "cell_id": "3dce82db7145443faf5f7e0ff54ded0e",
        "deepnote_cell_height": 648.96875,
        "deepnote_cell_type": "code",
        "deepnote_output_heights": [
          444.015625
        ],
        "deepnote_to_be_reexecuted": false,
        "execution_millis": 1260,
        "execution_start": 1667535282409,
        "output_cleared": false,
        "source_hash": "4e85d324",
        "tags": [],
        "trusted": true
      },
      "outputs": [],
      "source": "# Create a sampling distribution of b1 here.\n# Save it as sdob1_same_effect\n\nsdob1_same_effect <- do(1000) * b1(Points ~ Location, data = resample(MiamiHeat))\n\n# Visualize the sampling distribution in a histogram. \ngf_histogram(~b1, data = sdob1_same_effect)"
    },
    {
      "cell_type": "markdown",
      "metadata": {
        "cell_id": "f2e010ece2a84654bc2d459ffbb87c59",
        "deepnote_cell_height": 133.953125,
        "deepnote_cell_type": "markdown",
        "tags": []
      },
      "source": "4.6 - The code below will color the middle .95 of samples in a shade of turquoise. Will the sample $b_1$ be one of those \"likely\" samples? \n\nAdd some code to depict the sample $b_1$ (2.12) in `green4`. Should it be added as a curve, a line, a point, something else?"
    },
    {
      "cell_type": "markdown",
      "metadata": {
        "cell_id": "ca04440872ca4122893c147be75e4af9",
        "deepnote_cell_height": 140.71875,
        "deepnote_cell_type": "markdown",
        "tags": []
      },
      "source": "<div class=\"alert alert-block alert-warning\">\n\n**Sample Response**\n\nYes, it will be one of the \"likely\" samples. It should be added as a vertical line.\n    \n</div>"
    },
    {
      "cell_type": "code",
      "execution_count": null,
      "metadata": {
        "cell_id": "c2d6751c48c849fa9970a97170db5ccf",
        "deepnote_cell_height": 594.96875,
        "deepnote_cell_type": "code",
        "deepnote_output_heights": [
          444.015625
        ],
        "deepnote_to_be_reexecuted": false,
        "execution_millis": 609,
        "execution_start": 1667535336400,
        "output_cleared": false,
        "source_hash": "f77c0acb",
        "tags": [],
        "trusted": true
      },
      "outputs": [],
      "source": "# this code makes a histogram \n# and adds the point for the sample b1\ngf_histogram(~ b1, data = sdob1_same_effect, binwidth = .5, fill = ~middle(b1,.95)) %>%\n    gf_point(x = 2.12, y = 0, color = \"green4\")"
    },
    {
      "cell_type": "markdown",
      "metadata": {
        "cell_id": "bd33a39f9f5d4a4791fb550729491542",
        "deepnote_cell_height": 74.75,
        "deepnote_cell_type": "markdown",
        "tags": []
      },
      "source": "4.7 - Check out a different way of depicting the distribution triad (DGP, sampling distribution, and sample) here. Where should this sampling distribution go?"
    },
    {
      "cell_type": "markdown",
      "metadata": {
        "cell_id": "6449ee8aea664edda4316e69d9edcc1b",
        "deepnote_cell_height": 578.453125,
        "deepnote_cell_type": "markdown",
        "tags": []
      },
      "source": "<div class=\"alert alert-block alert-info\">\n\n**Note to Instructor:** \n\nLink to your google presentation here (the copy you made above.)\n\n*This is an example of how they should align their sampling distributions in the slides:*\n\n<img src=\"https://coursekata-course-assets.s3.us-west-1.amazonaws.com/UCLATALL/czi-stats-course/jnb_FNXHws7S-10-B-Sampling-Dist-resample.png\" width = 80% align = \"center\">\n    \n</div>"
    },
    {
      "cell_type": "markdown",
      "metadata": {
        "cell_id": "8bbb816f69194545a14b697d5f22d439",
        "deepnote_cell_height": 115.9375,
        "deepnote_cell_type": "markdown",
        "tags": []
      },
      "source": "<div class=\"alert alert-block alert-success\">\n\n### 5.0 - Approximate Time: 8-10 mins\n    \n</div>"
    },
    {
      "cell_type": "markdown",
      "metadata": {
        "cell_id": "e01cce7e64cb448bb10385a3db88fa0b",
        "deepnote_cell_height": 69.96875,
        "deepnote_cell_type": "markdown",
        "tags": []
      },
      "source": "## 5.0 - Confidence Intervals"
    },
    {
      "cell_type": "markdown",
      "metadata": {
        "cell_id": "148018234d144c418dd3f053ae4c416a",
        "deepnote_cell_height": 74.953125,
        "deepnote_cell_type": "markdown",
        "tags": []
      },
      "source": "5.1 - From these explorations, could the real $\\beta_1$ be 0? Could it be 2.12? Could it be \nsome other number? "
    },
    {
      "cell_type": "markdown",
      "metadata": {
        "cell_id": "6d1526c06466430bb60252e8f7a44fe6",
        "deepnote_cell_height": 140.71875,
        "deepnote_cell_type": "markdown",
        "tags": []
      },
      "source": "<div class=\"alert alert-block alert-warning\">\n\n**Sample Response**\n\nYes, it could be 0, or it could be 2.12. It could also be some other number.\n    \n</div>"
    },
    {
      "cell_type": "markdown",
      "metadata": {
        "cell_id": "4e468f9bfa3d4adc9489bc9603529460",
        "deepnote_cell_height": 52.5625,
        "deepnote_cell_type": "markdown",
        "tags": []
      },
      "source": "5.2 - Use `confint()` to find the 95% confidence interval of $\\beta_1$. "
    },
    {
      "cell_type": "code",
      "execution_count": null,
      "metadata": {
        "cell_id": "ceb66e1999344fafbdcfb34a4970ff38",
        "deepnote_cell_height": 222.890625,
        "deepnote_cell_type": "code",
        "deepnote_output_heights": [
          130.9375
        ],
        "deepnote_to_be_reexecuted": false,
        "execution_millis": 22,
        "execution_start": 1667535371766,
        "output_cleared": false,
        "source_hash": "207be157",
        "tags": [],
        "trusted": true
      },
      "outputs": [],
      "source": "confint(loc_model)"
    },
    {
      "cell_type": "markdown",
      "metadata": {
        "cell_id": "8e7c423a33d946f7bfa55d620d0560f2",
        "deepnote_cell_height": 140.9375,
        "deepnote_cell_type": "markdown",
        "tags": []
      },
      "source": "<div class=\"alert alert-block alert-warning\">\n\n**Sample Response**\n\nThe CI of $\\beta_1$ is \\[-2.89, 7.13\\] points.\n\n</div>"
    },
    {
      "cell_type": "markdown",
      "metadata": {
        "cell_id": "91c64698744f4d158d65f5ff2ab61957",
        "deepnote_cell_height": 97.34375,
        "deepnote_cell_type": "markdown",
        "tags": []
      },
      "source": "5.3 - Use the sampling distributions in the powerpoint link to show what the 95% confidence interval around $\\beta_1$ means: What does the lowest number mean? What does the highest number mean? What units are these values in?"
    },
    {
      "cell_type": "markdown",
      "metadata": {
        "cell_id": "da1207107e4f42d4a8f9188c72212495",
        "deepnote_cell_height": 233.703125,
        "deepnote_cell_type": "markdown",
        "tags": []
      },
      "source": "<div class=\"alert alert-block alert-warning\">\n\n**Sample Response**\n\n- The $\\beta_1$ might be as low as 2.89 points below away games or as high as 7.13 points above away games. The units are in points.\n\n- A follow up question: why are we saying the $\\beta_1$ might be some value instead of the $b_1$? Why are we using the Greek letter notation here? (Because we are thinking about the DGP -- what it might be! Not what a sample might be...)\n    \n</div>"
    },
    {
      "cell_type": "markdown",
      "metadata": {
        "cell_id": "829ff264b81b474a918df85a4dc410ce",
        "deepnote_cell_height": 74.75,
        "deepnote_cell_type": "markdown",
        "tags": []
      },
      "source": "5.4 - Even though these sampling distributions were made in different ways (e.g., shuffling versus resampling), they seem to show us the same confidence interval. Why?"
    },
    {
      "cell_type": "markdown",
      "metadata": {
        "cell_id": "aaea69ec343d4b16a04afedce9322b91",
        "deepnote_cell_height": 216.890625,
        "deepnote_cell_type": "markdown",
        "tags": []
      },
      "source": "<div class=\"alert alert-block alert-warning\">\n\n**Sample Response**\n\n- Both methods are based on the same sample data (the same shape and spread).\n- Both methods use randomness (either through shuffle or resample) as part of the DGP. \n- Both methods assume the same definition of \"likely\" (middle 95%).\n- All three are \n    \n</div>"
    },
    {
      "cell_type": "markdown",
      "metadata": {
        "cell_id": "83f1246e30f6459da11751a102f36c56",
        "deepnote_cell_height": 74.75,
        "deepnote_cell_type": "markdown",
        "tags": []
      },
      "source": "5.5 - Based on all that we have done here, if you had to say what was the real effect of playing at home, what would you say?"
    },
    {
      "cell_type": "markdown",
      "metadata": {
        "cell_id": "d9b019abdd5447fea8a46ddfe9de9ee5",
        "deepnote_cell_height": 185.515625,
        "deepnote_cell_type": "markdown",
        "tags": []
      },
      "source": "<div class=\"alert alert-block alert-warning\">\n\n**Sample Response**\n\nThere might be no real effect of playing at home. Our data shows that even a NO EFFECT model could generate our data as one of the likely samples. So we don't see a need for a more complex one when a simple one would do just as well. \n    \n</div>"
    },
    {
      "cell_type": "markdown",
      "metadata": {
        "cell_id": "f93a096fef6c4714b53dc4fdee1f0d12",
        "deepnote_cell_height": 115.9375,
        "deepnote_cell_type": "markdown",
        "tags": []
      },
      "source": "<div class=\"alert alert-block alert-success\">\n\n### 6.0 - Approximate Time: 8-10 mins\n    \n</div>"
    },
    {
      "cell_type": "markdown",
      "metadata": {
        "cell_id": "0285691a1c1c4576be9c8c82e25bc3e3",
        "deepnote_cell_height": 109.96875,
        "deepnote_cell_type": "markdown",
        "tags": []
      },
      "source": "## 6.0 - Home Game Advantage... in something else?"
    },
    {
      "cell_type": "markdown",
      "metadata": {
        "cell_id": "c46034b1b0fb493b9e193fa01856ed7c",
        "deepnote_cell_height": 74.75,
        "deepnote_cell_type": "markdown",
        "tags": []
      },
      "source": "6.1 - Is it possible there is a really big advantage to playing a home game... but maybe not for points? What might be more affected by playing at home?"
    },
    {
      "cell_type": "markdown",
      "metadata": {
        "cell_id": "3da211f630a543119d6a99a05ffdf142",
        "deepnote_cell_height": 140.71875,
        "deepnote_cell_type": "markdown",
        "tags": []
      },
      "source": "<div class=\"alert alert-block alert-warning\">\n\n**Sample Response**\n\nWins, free throws, player's comfort, etc.\n    \n</div>"
    },
    {
      "cell_type": "markdown",
      "metadata": {
        "cell_id": "6898c6475e9f405a9b95dc07320baad6",
        "deepnote_cell_height": 74.75,
        "deepnote_cell_type": "markdown",
        "tags": []
      },
      "source": "6.2 - Which outcome of a basketball game seems like it would be most affected by playing at home:\npoints, free throws, or fouls?"
    },
    {
      "cell_type": "markdown",
      "metadata": {
        "cell_id": "26727328164548eca1fa140b3fbe1f2d",
        "deepnote_cell_height": 140.71875,
        "deepnote_cell_type": "markdown",
        "tags": []
      },
      "source": "<div class=\"alert alert-block alert-warning\">\n\n**Sample Response**\n\n*Student intuitions may vary.*\n    \n</div>"
    },
    {
      "cell_type": "markdown",
      "metadata": {
        "cell_id": "1c6ce404f83a477783f15b722fd5d604",
        "deepnote_cell_height": 52.359375,
        "deepnote_cell_type": "markdown",
        "tags": []
      },
      "source": "6.3 - Which of these is most affected by the home game advantage? "
    },
    {
      "cell_type": "code",
      "execution_count": null,
      "metadata": {
        "cell_id": "0c2a7d52d6404147b6734a7d934c1001",
        "deepnote_cell_height": 2370.3125,
        "deepnote_cell_type": "code",
        "deepnote_output_heights": [
          135.421875,
          173.828125,
          130.9375,
          135.421875,
          173.828125,
          130.9375,
          444.015625,
          444.015625
        ],
        "deepnote_to_be_reexecuted": false,
        "execution_millis": 599,
        "execution_start": 1667535498657,
        "output_cleared": false,
        "source_hash": "7f775a9e",
        "tags": [],
        "trusted": true
      },
      "outputs": [],
      "source": "# Fit 'free throws' model\nft_model <- lm(FT ~ Location, data = MiamiHeat)\nft_model\nsupernova(ft_model)\nconfint(ft_model)\ngf_histogram(~FT, data = MiamiHeat, fill = \"mediumorchid4\", color = \"khaki1\") %>%\n    gf_facet_grid(Location ~ .)%>%\n    gf_model(ft_model)\n\n# Fit 'fouls' model\nfouls_model <- lm(Fouls ~ Location, data = MiamiHeat)\nfouls_model\nsupernova(fouls_model)\nconfint(fouls_model)\ngf_histogram(~Fouls, data = MiamiHeat, fill = \"khaki1\", color = \"mediumorchid4\") %>%\n        gf_facet_grid(Location ~ .)%>%\n        gf_model(fouls_model)"
    },
    {
      "cell_type": "markdown",
      "metadata": {
        "cell_id": "7c3f1828f20847688cc68dcc26d0d41e",
        "deepnote_cell_height": 140.71875,
        "deepnote_cell_type": "markdown",
        "tags": []
      },
      "source": "<div class=\"alert alert-block alert-warning\">\n\n**Sample Response**\n\nFree throws is most affected by the home game advantage.\n    \n</div>"
    },
    {
      "cell_type": "markdown",
      "metadata": {
        "cell_id": "14abf785b9054c5788960fc4cb17071b",
        "deepnote_cell_height": 52.359375,
        "deepnote_cell_type": "markdown",
        "tags": []
      },
      "source": "6.4 - Are you 95% confident that there is at least *some* effect of playing at home for that outcome?"
    },
    {
      "cell_type": "markdown",
      "metadata": {
        "cell_id": "9a3bbf500a2f4fefbe3eeef70bf0042e",
        "deepnote_cell_height": 336.109375,
        "deepnote_cell_type": "markdown",
        "tags": []
      },
      "source": "<div class=\"alert alert-block alert-warning\">\n\n**Sample Response**\n\nWe are at least 95% confident that there is some effect of playing at home for free throws.\n    \n</div>"
    }
  ],
  "metadata": {
    "deepnote_notebook_id": "d8df2ab6970446e18c2228dbc4160dde",
    "kernelspec": {
      "display_name": "R",
      "language": "R",
      "name": "ir"
    },
    "language_info": {
      "codemirror_mode": "r",
      "file_extension": ".r",
      "mimetype": "text/x-r-source",
      "name": "R",
      "pygments_lexer": "r",
      "version": "4.3.3"
    },
    "nbsimplegrader": {
      "publish_config": {
        "classes": [],
        "options": [],
        "tools": []
      }
    }
  },
  "nbformat": 4,
  "nbformat_minor": 1
}