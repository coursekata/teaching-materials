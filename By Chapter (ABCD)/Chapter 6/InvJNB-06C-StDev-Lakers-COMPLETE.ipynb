{
  "cells": [
    {
      "cell_type": "markdown",
      "metadata": {
        "cell_id": "60ff9c54a6904596a784a2f75c94ca7d",
        "deepnote_cell_type": "markdown",
        "tags": []
      },
      "source": "<div class=\"alert alert-block alert-danger\">\n\n# 6C: Think Like a Bookie (COMPLETE)\n\n**Use with textbook version 6.0+**\n\n**Lesson assumes students have read up through page: 6.4**\n\n</div>"
    },
    {
      "cell_type": "markdown",
      "metadata": {
        "cell_id": "41ba971c8638489daba52f0e868159a6",
        "deepnote_cell_height": 163.9375,
        "deepnote_cell_type": "markdown",
        "tags": []
      },
      "source": "<div class=\"alert alert-block alert-success\">\n\n## Approximate time to complete Notebook: 45-60 Mins\n\n</div>"
    },
    {
      "cell_type": "code",
      "execution_count": null,
      "metadata": {
        "cell_id": "f8c36b1b852a49a38aed76d83d99901b",
        "deepnote_cell_height": 114.953125,
        "deepnote_cell_type": "code",
        "execution_context_id": "d04b74e8-6961-4d30-9a47-7066a20cd31e",
        "execution_millis": 2265,
        "execution_start": 1741626007675,
        "source_hash": "e9f8ec0f",
        "tags": [],
        "trusted": true
      },
      "outputs": [],
      "source": "# This code will load the R packages we will use\nsuppressPackageStartupMessages({\n    library(coursekata)\n})\n\n#load the data \nnbagames2024 <- read.csv(\"https://docs.google.com/spreadsheets/d/e/2PACX-1vQLEAzUYdQUGYzniQ7XzPV1uzors-yUTGiZS5hP6cKfXNBdhCDa6JyrzGfbSln2PhUsichJXzlDhErj/pub?gid=617264864&single=true&output=csv\")\n\n#this code will filter for Los Angeles Lakers games - to use any other team, replace the team abbreviation (questions would need to be modified to make sense with the team's stats)\n\nLakers<- filter(nbagames2024, team_abbreviation == \"LAL\")"
    },
    {
      "cell_type": "markdown",
      "metadata": {
        "cell_id": "ed9179aeed6d40d397c32a4ce28e5ebe",
        "deepnote_cell_height": 1032.8125,
        "deepnote_cell_type": "markdown"
      },
      "source": "We’re going to look at a dataframe called `Lakers`. These are the game log data for the Los Angeles Lakers basketball team in the 2023-2024 season. \n\n- `season` year season stated\n- `game_date` date game was played\n- `team_id` ID for team \n- `team_location` team's home location \n- `team_name` team name\n- `team_abbreviation` team abbreviation\n- `team_home_away` whether the game was played on the team's home court or away\n- `team_score` score\n- `team_winner` whether the team won or lost\n- `assists` team assists\n- `blocks` team blocks\n- `defensive_rebounds` team defensive rebounds \n- `fast_break_points` Points scored from a fast break, which is a quick offensive play to score before the other team's defense is ready\n- `field_goal_pct` the percentage of 2 and 3 point shot made\n- `field_goals_made` the total number of field goals (2 and 3 point shots) made\n- `field_goals_attempted` the total number of field goals (2 and 3 point shots) attempted\n- `flagrant_fouls` a personal foul that involves excessive or unnecessary contact with another player\n- `fouls` total fouls \n- `free_throw_pct` percentage of free throws made\n- `free_throws_made` number of free throws made\n- `free_throws_attempted` number of free throws attempted\n- `largest_lead` the largest lead the team had during any part of the game\n- `offensive_rebounds` number of offensive rebounds\n- `points_in_paint` points made points scored from within the key, or free-throw lane, on the basketball court\n- `steals` number of steals (taking the ball away from the other team)\n- `team_turnovers` number of turnovers counted against the team (as opposed to a particular player)\n- `technical_fouls` unsportsmanlike conduct fouls \n- `three_point_field_goal_pct` percentage of 3-point shots made\n- `three_point_field_goals_made` number of 3-point shots made\n- `three_point_field_goals_attempted` number of 3-point shots attempted\n- `total_rebounds` total rebounds\n- `turnover_points` points scored on turnovers\n- `turnovers` urnovers committed by players\n- `opponent_team_id` id for opponent\n- `opponent_team_location` home court location for opponent\n- `opponent_team_name` opponent team name\n- `opponent_team_abbreviation` opponent team abbreviation\n- `opponent_team_score` opponent team score\n\n\n\nTake a look at the `Lakers` data frame below. "
    },
    {
      "cell_type": "code",
      "execution_count": null,
      "metadata": {
        "cell_id": "e1028ca2635c4d4ca14c56bfba96bb21",
        "deepnote_cell_type": "code",
        "execution_context_id": "d04b74e8-6961-4d30-9a47-7066a20cd31e",
        "execution_millis": 82,
        "execution_start": 1741626009991,
        "source_hash": "1dd82d18",
        "trusted": true
      },
      "outputs": [],
      "source": "#use code to look at the variables\n\nLakers"
    },
    {
      "cell_type": "markdown",
      "metadata": {
        "cell_id": "c1cb54c810934ff8800f354bcfa4eb7a",
        "deepnote_cell_height": 115.9375,
        "deepnote_cell_type": "markdown",
        "tags": []
      },
      "source": "<div class=\"alert alert-block alert-success\">\n\n### 1.0 - Approximate Time: 8-10 mins\n\n</div>"
    },
    {
      "cell_type": "markdown",
      "metadata": {
        "cell_id": "db7b32606ec04bf4a13ea2524ca7f7df",
        "deepnote_cell_height": 69.96875,
        "deepnote_cell_type": "markdown",
        "tags": []
      },
      "source": "## 1.0 - The Data"
    },
    {
      "cell_type": "markdown",
      "metadata": {
        "cell_id": "334f5aa161b7414f8e233c4a075a08d6",
        "deepnote_cell_height": 74.75,
        "deepnote_cell_type": "markdown",
        "tags": []
      },
      "source": "1.1 - Could you look at Lebron James' number of field goals made using this data set? If you can, go ahead and look that up in this data frame. If you can't, explain why."
    },
    {
      "cell_type": "markdown",
      "metadata": {
        "cell_id": "38935e06b1f94c13ac65de2c9fdcb451",
        "deepnote_cell_height": 163.125,
        "deepnote_cell_type": "markdown",
        "tags": []
      },
      "source": "<div class=\"alert alert-block alert-warning\">\n\n**Sample Response**\n\nWe can't look at that information because it is not contained in the data. These cases (the rows) are based on games, not players.\n\n</div>"
    },
    {
      "cell_type": "markdown",
      "metadata": {
        "cell_id": "9b2dc063cbdf48beb4bd1046000fb613",
        "deepnote_cell_height": 74.75,
        "deepnote_cell_type": "markdown",
        "tags": []
      },
      "source": "1.2 - If you had to predict whether the Lakers were going to win their next game based on this data set, would it be helpful to use the empty model of `Points`? Why or why not?"
    },
    {
      "cell_type": "markdown",
      "metadata": {
        "cell_id": "26fe7fae57ba4ddd9b8e67dc3f09a33d",
        "deepnote_cell_height": 210.90625,
        "deepnote_cell_type": "markdown",
        "tags": []
      },
      "source": "<div class=\"alert alert-block alert-warning\">\n\n**Sample Response**\n\n- `Points` is not helpful because winning is not based on the number of points. After all, they can win a game with a very low number of points provided the opponent scores even fewer points.\n- A more helpful outcome variable might be `Win`.\n\n</div>"
    },
    {
      "cell_type": "markdown",
      "metadata": {
        "cell_id": "8f307e247883404f8779f99a6b9cdd4e",
        "deepnote_cell_height": 74.75,
        "deepnote_cell_type": "markdown",
        "tags": []
      },
      "source": "1.3 - If you were to predict the outcome of the next game that the Lakers play based on this data, what would you predict? "
    },
    {
      "cell_type": "markdown",
      "metadata": {
        "cell_id": "1641b7ff00ca4142af9d1dfd79328801",
        "deepnote_cell_height": 163.125,
        "deepnote_cell_type": "markdown",
        "tags": []
      },
      "source": "<div class=\"alert alert-block alert-warning\">\n\n**Sample Response**\n\nBy tallying up the wins, we can see that the Lakers tended to win more games. We might predict that they would win based on this data.\n\n</div>"
    },
    {
      "cell_type": "code",
      "execution_count": null,
      "metadata": {
        "cell_id": "d7d7b00c65ab4741b8061e662d01e4a9",
        "deepnote_cell_height": 132.96875,
        "deepnote_cell_type": "code",
        "execution_context_id": "d04b74e8-6961-4d30-9a47-7066a20cd31e",
        "execution_millis": 13,
        "execution_start": 1741626010119,
        "output_cleared": false,
        "source_hash": "6a4bde6f",
        "tags": [],
        "trusted": true
      },
      "outputs": [],
      "source": "# Possible response 1: Check the proportion of wins\ntally(~team_winner, data = Lakers, format = \"proportion\")\n\n# Possible response 2: Check the raw number of wins\ntally(~team_winner, data = Lakers)"
    },
    {
      "cell_type": "markdown",
      "metadata": {
        "cell_id": "b30ac3b159ac44499d2f2798068a45ca",
        "deepnote_cell_height": 115.9375,
        "deepnote_cell_type": "markdown",
        "tags": []
      },
      "source": "<div class=\"alert alert-block alert-success\">\n\n### 2.0 - Approximate Time: 12-15 mins\n\n</div>"
    },
    {
      "cell_type": "markdown",
      "metadata": {
        "cell_id": "3615616ce6e1406b81d86274b3a33b27",
        "deepnote_cell_height": 69.96875,
        "deepnote_cell_type": "markdown",
        "tags": []
      },
      "source": "## 2.0 - Exploring Variation in Point Spread"
    },
    {
      "cell_type": "markdown",
      "metadata": {
        "cell_id": "adb823d506974946a77a07a6f568e230",
        "deepnote_cell_height": 74.75,
        "deepnote_cell_type": "markdown",
        "tags": []
      },
      "source": "2.1 - Now let’s say you (and unfortunately everyone else) thinks that the Lakers will win the next game. That's not good from a bookie's point of view. Why?"
    },
    {
      "cell_type": "markdown",
      "metadata": {
        "cell_id": "f3b7474c0a3f4c2fa1e231541ac478d5",
        "deepnote_cell_height": 210.90625,
        "deepnote_cell_type": "markdown",
        "tags": []
      },
      "source": "<div class=\"alert alert-block alert-warning\">\n\n**Sample Response**\n\n- If everyone bets \"win\" and the Lakers win their next game, the bookie would be on the hook to pay off all the games.\n- From a bookie's point of view, it would be nice if the bets on one side (e.g., win) balanced out the bets on the other side (e.g., lose).\n\n</div>"
    },
    {
      "cell_type": "markdown",
      "metadata": {
        "cell_id": "796d32ce2d904eafba185d0c1036114a",
        "deepnote_cell_height": 119.53125,
        "deepnote_cell_type": "markdown",
        "tags": []
      },
      "source": "2.2 - So instead of just betting win-lose, let's use a rudimentary point spread: how many more points will the Lakers score if they win?  In a good point spread (good from the bookie’s point of view), bets on points should roughly equally fall above and below the point spread. Does that idea sound kind of like the mean or median? "
    },
    {
      "cell_type": "markdown",
      "metadata": {
        "cell_id": "b21d3a4dedce4517a3bf1490e71a5aec",
        "deepnote_cell_height": 188.515625,
        "deepnote_cell_type": "markdown",
        "tags": []
      },
      "source": "<div class=\"alert alert-block alert-warning\">\n\n**Sample Response**\n\n- That could sound like the mean (because it balances the error equally above and below it).\n- That could sound like the median (because the number of bets above and below balance each other out)\n\n</div>"
    },
    {
      "cell_type": "markdown",
      "metadata": {
        "cell_id": "6a0ea37f26254824a9a47fa60136880e",
        "deepnote_cell_height": 52.359375,
        "deepnote_cell_type": "markdown",
        "tags": []
      },
      "source": "2.3 - What would be the reason for using the mean instead of the median for the point spread?"
    },
    {
      "cell_type": "markdown",
      "metadata": {
        "cell_id": "5fd783bfd1574fbfa2b54705ba05452e",
        "deepnote_cell_height": 191.5,
        "deepnote_cell_type": "markdown",
        "tags": []
      },
      "source": "<div class=\"alert alert-block alert-warning\">\n\n**Sample Response**\n\n- Because it will be unbiased (not too high and not too low).\n- Because it will balance the residuals (or error). \n- Because it will minimize the sum of squared error.\n\n</div>"
    },
    {
      "cell_type": "markdown",
      "metadata": {
        "cell_id": "d95a7d29b88b41c09abf0af6ab1046cf",
        "deepnote_cell_height": 155.9375,
        "deepnote_cell_type": "markdown",
        "tags": []
      },
      "source": "2.4 - As baby bookies (we’re developing!), let's take a look at how many *more* points the Lakers score *when they win.* Explore the distribution of this with a visualization. What does it look like? Notice any weird things? Why does it look that way? \n\nHint: You may wish to save just the winning games in a data frame called `WinningGames` and create a new variable called `MorePoints`."
    },
    {
      "cell_type": "code",
      "execution_count": null,
      "metadata": {
        "cell_id": "96cf86a5637e41ecb4b3ed0a1f1ae570",
        "deepnote_cell_height": 1775.84375,
        "deepnote_cell_type": "code",
        "deepnote_output_heights": [
          275.90625,
          610,
          610
        ],
        "execution_context_id": "d04b74e8-6961-4d30-9a47-7066a20cd31e",
        "execution_millis": 18,
        "execution_start": 1741626010179,
        "output_cleared": false,
        "source_hash": "a5f61f01",
        "tags": [],
        "trusted": true
      },
      "outputs": [],
      "source": "# Save winning games into a data frame \nWinningGames <- filter(Lakers, team_winner == \"Win\")\n\n# Create a new variable called MorePoints\nWinningGames$MorePoints <- WinningGames$team_score - WinningGames$opponent_team_score\n\n# Check the data frame to see if our code worked as expected\nhead(WinningGames)\n\nselect(WinningGames, team_score, opponent_team_score, MorePoints)"
    },
    {
      "cell_type": "code",
      "execution_count": null,
      "metadata": {
        "cell_id": "b176170d84ec4583ab774834f2085310",
        "deepnote_cell_height": 119.953125,
        "deepnote_cell_type": "code",
        "execution_context_id": "d04b74e8-6961-4d30-9a47-7066a20cd31e",
        "execution_millis": 474,
        "execution_start": 1741626010243,
        "source_hash": "b0d6eef0",
        "tags": [],
        "trusted": true
      },
      "outputs": [],
      "source": "# Explore distribution of MorePoints \ngf_histogram(~MorePoints, data = WinningGames, fill = \"goldenrod\", color = \"purple\")\n\ngf_boxplot(MorePoints ~ 1, data = WinningGames, fill = \"antiquewhite\", color = \"purple\")"
    },
    {
      "cell_type": "markdown",
      "metadata": {
        "cell_id": "8fb75b6a3a6346c4ade515b0c3b65130",
        "deepnote_cell_height": 115.9375,
        "deepnote_cell_type": "markdown",
        "tags": []
      },
      "source": "<div class=\"alert alert-block alert-success\">\n\n### 3.0 - Approximate Time: 5-8 mins\n\n</div>"
    },
    {
      "cell_type": "markdown",
      "metadata": {
        "cell_id": "3fd87fb2235d4d748c3d43b727af2b25",
        "deepnote_cell_height": 69.96875,
        "deepnote_cell_type": "markdown",
        "tags": []
      },
      "source": "## 3.0 - Creating a Model based on the Mean"
    },
    {
      "cell_type": "markdown",
      "metadata": {
        "cell_id": "97b2f74b61f44a42a95f55585ba05aeb",
        "deepnote_cell_height": 111.5625,
        "deepnote_cell_type": "markdown",
        "tags": []
      },
      "source": "3.1 - A word equation for a model based on the mean might be **MorePoints = Mean + Other Stuff**. Modify the GLM equation below to put in the mean for $b_0$:\n\n$$Y_i = b_0 + e_i$$"
    },
    {
      "cell_type": "code",
      "execution_count": null,
      "metadata": {
        "cell_id": "949e0ffde2474c9eabb668ac0563885c",
        "deepnote_cell_height": 78.953125,
        "deepnote_cell_type": "code",
        "execution_context_id": "d04b74e8-6961-4d30-9a47-7066a20cd31e",
        "execution_millis": 1,
        "execution_start": 1741626010763,
        "output_cleared": false,
        "source_hash": "47d15be0",
        "tags": [],
        "trusted": true
      },
      "outputs": [],
      "source": "# Get the mean with lm(), favstats(), mean(), summary(), etc.\nfavstats(~MorePoints, data = WinningGames)"
    },
    {
      "cell_type": "markdown",
      "metadata": {
        "cell_id": "61c8f51044694dff8abef1475815470e",
        "deepnote_cell_height": 140.9375,
        "deepnote_cell_type": "markdown",
        "tags": []
      },
      "source": "<div class=\"alert alert-block alert-warning\">\n\n**Sample Response**\n\n$$Y_i = 11.02 + e_i$$\n\n</div>"
    },
    {
      "cell_type": "markdown",
      "metadata": {
        "cell_id": "221a2741d044430ba06bd005cd8520c8",
        "deepnote_cell_height": 74.75,
        "deepnote_cell_type": "markdown",
        "tags": []
      },
      "source": "3.2 - Add in the mean as a model of `MorePoints` into a histogram of `MorePoints` (color the mean blue). Gesture: Where would the residuals from the model be in the visualization you made? "
    },
    {
      "cell_type": "code",
      "execution_count": null,
      "metadata": {
        "cell_id": "19495959d5e8459884f93a9515324a1d",
        "deepnote_cell_height": 808.25,
        "deepnote_cell_type": "code",
        "deepnote_output_heights": [
          null,
          610
        ],
        "execution_context_id": "d04b74e8-6961-4d30-9a47-7066a20cd31e",
        "execution_millis": 187,
        "execution_start": 1741626010811,
        "source_hash": "de12bc8e",
        "tags": [],
        "trusted": true
      },
      "outputs": [],
      "source": "# Add a line for the mean, in blue\ngf_histogram(~MorePoints, data = WinningGames, fill = \"seashell\", color = \"seagreen\") %>%\n    gf_vline(xintercept = ~11.02, color = \"blue\", size = 1)"
    },
    {
      "cell_type": "markdown",
      "metadata": {
        "cell_id": "51212cc840ea42e0992229c4d36a0b41",
        "deepnote_cell_height": 163.125,
        "deepnote_cell_type": "markdown",
        "tags": []
      },
      "source": "<div class=\"alert alert-block alert-warning\">\n\n**Sample Response**\n\nIf looking at this histogram, students should gesture in the horizontal direction (indicating distance between blue line and other data points).\n\n</div>"
    },
    {
      "cell_type": "markdown",
      "metadata": {
        "cell_id": "5cf11413dc34480d86d0ea0ac1231985",
        "deepnote_cell_height": 115.9375,
        "deepnote_cell_type": "markdown",
        "tags": []
      },
      "source": "<div class=\"alert alert-block alert-success\">\n\n### 4.0 - Approximate Time: 5-8 mins\n\n</div>"
    },
    {
      "cell_type": "markdown",
      "metadata": {
        "cell_id": "273a9ec79554418cbf1000e0fc945d11",
        "deepnote_cell_height": 69.96875,
        "deepnote_cell_type": "markdown",
        "tags": []
      },
      "source": "## 4.0 - Sum of Squares "
    },
    {
      "cell_type": "markdown",
      "metadata": {
        "cell_id": "4db1edc7a6a94c30aeeafa1432d4232f",
        "deepnote_cell_height": 147.953125,
        "deepnote_cell_type": "markdown",
        "tags": []
      },
      "source": "4.1 - This is the equation for the sum of squares (from the mean). \n\n$$\\sum (Y_i - \\bar{Y})^2$$\n\nUsing your hands/fingers, gesture on your visualization above each of the following components: $\\bar{Y}$, $Y_i$ (pick one), $Y_i - \\bar{Y}$ (pick one)--then make a square out of that distance. "
    },
    {
      "cell_type": "markdown",
      "metadata": {
        "cell_id": "632e89dc640c423489d69491c4dd7e25",
        "deepnote_cell_height": 276.296875,
        "deepnote_cell_type": "markdown",
        "tags": []
      },
      "source": "<div class=\"alert alert-block alert-warning\">\n\n**Sample Response**\n\n- $\\bar{Y}$: *Vertical gesture, along the blue mean line*\n\n- $Y_i$: *Pointing at a particular data point (e.g., 20 or 0 or 10)*\n\n- $Y_i - \\bar{Y}$: *Horizontal gesture, the distance between that data point and the mean*\n\n- $(Y_i - \\bar{Y})^2$: *Create a square out of the distance between $Y_i - \\bar{Y}$*\n\n\n*Note: You may also have them draw these concepts on their visualizations in addition to or instead of gesturing.*\n\n</div>"
    },
    {
      "cell_type": "markdown",
      "metadata": {
        "cell_id": "4b6a2e469097408eba042a0cb4577aaa",
        "deepnote_cell_height": 115.9375,
        "deepnote_cell_type": "markdown",
        "tags": []
      },
      "source": "<div class=\"alert alert-block alert-success\">\n\n### 5.0 - Approximate Time: 12-15 mins\n\n</div>"
    },
    {
      "cell_type": "markdown",
      "metadata": {
        "cell_id": "860891f1760446c68879012e42927be4",
        "deepnote_cell_height": 109.96875,
        "deepnote_cell_type": "markdown",
        "tags": []
      },
      "source": "## 5.0 - Standard Deviation: A Measure of Error from the Mean"
    },
    {
      "cell_type": "markdown",
      "metadata": {
        "cell_id": "ae837e8af9774c149466b8bcbd0139f7",
        "deepnote_cell_height": 97.140625,
        "deepnote_cell_type": "markdown",
        "tags": []
      },
      "source": "5.1 - Looking at the visualization, use your hands/fingers to gesture about how long is the longest residual? Also with your hands/fingers, gesture the shortest (absolute) residual. Gesture an \"average\" (or medium-sized) residual."
    },
    {
      "cell_type": "markdown",
      "metadata": {
        "cell_id": "19e771bff4214bb4a9a9effc9961d1f7",
        "deepnote_cell_height": 258.6875,
        "deepnote_cell_type": "markdown",
        "tags": []
      },
      "source": "<div class=\"alert alert-block alert-warning\">\n\n**Sample Response**\n\n- **Longest residual**: *Horizontal gesture, the distance between the mean and 44*\n\n\n- **Shortest residual**: *No distance (0), between the mean and itself or the distance between the mean and the next closest value (positive or negative, e.g., if the mean is approximately 11, the shortest residuals would be 10 and 12)*\n\n\n- **Average residual**: *Horizontal gesture, something in between the longest and shortest residual* \n\n</div>"
    },
    {
      "cell_type": "markdown",
      "metadata": {
        "cell_id": "ab3b2b1fb8914529b08ad94565723734",
        "deepnote_cell_height": 52.359375,
        "deepnote_cell_type": "markdown",
        "tags": []
      },
      "source": "5.2 - Based on your gesture and the visualization alone, how big would the average residual be? "
    },
    {
      "cell_type": "markdown",
      "metadata": {
        "cell_id": "fcba2bcbe19e4addad884b3e56e31a65",
        "deepnote_cell_height": 210.90625,
        "deepnote_cell_type": "markdown",
        "tags": []
      },
      "source": "<div class=\"alert alert-block alert-warning\">\n\n**Sample Response**\n\n- The average residual would be around 10 (maybe a bit smaller or bigger than that).\n- Common error: Students just read off the x-axis (instead of thinking about distance). They might say something like 21 because they are thinking that is where the end of the average residual might be but they fail to subtract out the mean.\n\n</div>"
    },
    {
      "cell_type": "markdown",
      "metadata": {
        "cell_id": "ab720ce1613242a99e10ed45d0dbcbee",
        "deepnote_cell_height": 97.140625,
        "deepnote_cell_type": "markdown",
        "tags": []
      },
      "source": "5.3 - Now run `favstats()`. Would any of those statistics correspond roughly to the idea of an \"average residual\"? Does the number seem reasonable given your estimate in the previous question?"
    },
    {
      "cell_type": "code",
      "execution_count": null,
      "metadata": {
        "cell_id": "930ae919076a4420a69c4fd1dea2c5e5",
        "deepnote_cell_height": 83.953125,
        "deepnote_cell_type": "code",
        "execution_context_id": "d04b74e8-6961-4d30-9a47-7066a20cd31e",
        "execution_millis": 1,
        "execution_start": 1741626011043,
        "source_hash": "be3facea",
        "tags": [],
        "trusted": true
      },
      "outputs": [],
      "source": "# Run favstats() to find std deviation (sd)--(it represents the average residual)\nfavstats(~MorePoints, data = WinningGames)"
    },
    {
      "cell_type": "markdown",
      "metadata": {
        "cell_id": "5938c3d14a144eabbfa36b19fceeab27",
        "deepnote_cell_height": 97.140625,
        "deepnote_cell_type": "markdown",
        "tags": []
      },
      "source": "5.4 - Try to come up with a strategy for estimating standard deviation just by looking at a visualization. Then try it on the visualizations below. What do you think is the standard deviation of `team_score` just from looking at the histogram? What about `field_goals_made`?"
    },
    {
      "cell_type": "code",
      "execution_count": null,
      "metadata": {
        "cell_id": "09f21ba104c14ea58ae9c2e2e0a8ed4c",
        "deepnote_cell_height": 992.0625,
        "deepnote_cell_type": "code",
        "deepnote_output_heights": [
          20.1875,
          130.9375,
          610
        ],
        "execution_context_id": "d04b74e8-6961-4d30-9a47-7066a20cd31e",
        "execution_millis": 104,
        "execution_start": 1741626011087,
        "source_hash": "1b0a7301",
        "tags": [],
        "trusted": true
      },
      "outputs": [],
      "source": "gf_histogram(~ team_score, data = Lakers, color = \"turquoise2\", fill = \"turquoise3\")\n\n# After estimating with their strategy, they can check their guess with various r code\nsd(Lakers$team_score)\nfavstats(~team_score, data = Lakers)"
    },
    {
      "cell_type": "code",
      "execution_count": null,
      "metadata": {
        "cell_id": "facb6e863f964aa4b036b5fa8d531b10",
        "deepnote_cell_height": 992.0625,
        "deepnote_cell_type": "code",
        "deepnote_output_heights": [
          20.1875,
          130.9375,
          610
        ],
        "execution_context_id": "d04b74e8-6961-4d30-9a47-7066a20cd31e",
        "execution_millis": 112,
        "execution_start": 1741626011235,
        "source_hash": "9641105c",
        "tags": [],
        "trusted": true
      },
      "outputs": [],
      "source": "gf_histogram(~ field_goals_made, data = Lakers, color = \"tomato\", fill = \"tomato2\")\n\n# After estimating with their strategy, they can check their guess with various r code\nsd(Lakers$field_goals_made)\nfavstats(~field_goals_made, data = Lakers)"
    },
    {
      "cell_type": "markdown",
      "metadata": {
        "cell_id": "a2b20fdc40e54dbd8247e318f3ca6f3b",
        "deepnote_cell_height": 191.5,
        "deepnote_cell_type": "markdown",
        "tags": []
      },
      "source": "<div class=\"alert alert-block alert-warning\">\n\n**Sample Responses/Possible Student Strategies**\n\n- Estimate the mean first. Then take a look at longest residual and cut it in half.\n- Cut the x-axis into roughly 4 pieces (fourths). \n- Take a look at where \"most\" of the data points are in the middle. Cut that part in half.\n\n</div>"
    }
  ],
  "metadata": {
    "deepnote_notebook_id": "cc30ba44d1164eb3a22cede9ba030c19",
    "kernelspec": {
      "display_name": "R",
      "language": "R",
      "name": "ir"
    },
    "language_info": {
      "codemirror_mode": "r",
      "file_extension": ".r",
      "mimetype": "text/x-r-source",
      "name": "R",
      "pygments_lexer": "r",
      "version": "4.3.3"
    },
    "nbsimplegrader": {
      "publish_config": {
        "classes": [],
        "options": [],
        "tools": []
      }
    }
  },
  "nbformat": 4,
  "nbformat_minor": 1
}