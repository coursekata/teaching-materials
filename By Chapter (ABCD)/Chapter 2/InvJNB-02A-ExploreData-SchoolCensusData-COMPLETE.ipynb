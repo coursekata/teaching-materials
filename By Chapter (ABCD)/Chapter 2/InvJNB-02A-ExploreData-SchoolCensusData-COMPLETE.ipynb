{
  "cells": [
    {
      "cell_type": "markdown",
      "metadata": {
        "cell_id": "6ab6362dd9144e7fb025f85fdce18283",
        "deepnote_cell_height": 291.5,
        "deepnote_cell_type": "markdown",
        "tags": []
      },
      "source": "<div class=\"alert alert-block alert-danger\">\n\n# 2A: Data: It All Starts With Measurement (COMPLETE)\n\n**Lesson assumes students have read up through page: 2.5**"
    },
    {
      "cell_type": "markdown",
      "metadata": {
        "cell_id": "83e26d2933ab49c5929e74f83a6239ed",
        "deepnote_cell_height": 454.640625,
        "deepnote_cell_type": "markdown",
        "owner_user_id": "23d85493-7ed1-49a4-baa7-630eaab08193",
        "tags": []
      },
      "source": "<div class=\"alert alert-block alert-warning\">\n\n#### Summary of Notebook:\n\nStudents take a brief survey that is an excerpt of the [Student Census](https://ww2.amstat.org/CensusAtSchool/index.cfm) survey as a way to collect some class data. Teachers can modify the survey to add/remove questions better suited for their class. This is a dataset that can be useful for referencing throughout the course in order to demonstrate various concepts because it provides a personalized set of data with a data point that actually represents each student individually. There is also an optional activity to participate in a memory experiment.\n\n#### Includes:\n\n- Practice thinking about where data come from\n- Distinguishing measurement error from mistakes\n- Practice operationalizing ideas such as the *best* way to measure your finger\n- Taking part in an experiment (memory experiment)\n- Thinking about how variation in one variable (e.g., level of processing) can affect another variable (e.g., memory recall)"
    },
    {
      "cell_type": "code",
      "execution_count": null,
      "metadata": {
        "cell_id": "2234ab8e3bbf4c3c818fae0cbaf15dab",
        "deepnote_cell_height": 129.953125,
        "deepnote_cell_type": "code",
        "deepnote_to_be_reexecuted": false,
        "execution_millis": 3618,
        "execution_start": 1625712662352,
        "source_hash": "9d70ea66",
        "trusted": true
      },
      "outputs": [],
      "source": "# This code will load the R packages we will use\nsuppressPackageStartupMessages({\n    library(coursekata)\n})"
    },
    {
      "cell_type": "markdown",
      "metadata": {
        "cell_id": "d00bb5351d414c129b9969a6bd119e63",
        "deepnote_cell_height": 419.0625,
        "deepnote_cell_type": "markdown"
      },
      "source": "## 1.0 - How do we get data?\nWe use data to try and understand variation in all kinds of things: climate change, poverty, politics, psychology, health, etc. But that means we need to measure all kinds of things that are hard to measure. How do we measure how smart, happy, or healthy someone is? How powerful, free, or secure a country is? Once we get that data, we want to use data science to figure out whether this stuff changes, improves, differs across people, or predicts some future outcome, and much more.\n\nBut it all starts with figuring out measurement -- how would we know how much of something exists? How would we know how that thing varies across people, animals, families, companies, countries?\n \nLet’s start by measuring something easy: Yourself!  \n\nWe'll take some measurements and collect some data using a portion of the [Student Census](https://ww2.amstat.org/CensusAtSchool/index.cfm) survey to find out: How much do you and your classmates vary? How do you vary compared to other classes and past years?"
    },
    {
      "cell_type": "markdown",
      "metadata": {
        "cell_id": "f73f9815001c403bb1becc2d340ef737",
        "deepnote_cell_type": "text-cell-h2",
        "formattedRanges": [],
        "is_collapsed": false,
        "tags": []
      },
      "source": "## 2.0 - A Little Bit About You"
    },
    {
      "cell_type": "markdown",
      "metadata": {
        "cell_id": "752684ba26864ec584f836137e9d7127",
        "deepnote_cell_height": 155.9375,
        "deepnote_cell_type": "markdown",
        "tags": []
      },
      "source": "Of course, we know it's hard to truly capture who you are as a person in just a few simple variables, and no one really likes being reduced to a \"number\" or a \"category\", but there are times when it can still be quite useful and informative to do so, and therein lies a challenge: What's the *best* way to measure something?\n\n2.1 - Let's start by collecting some data with an excerpt from the Student Census [survey](https://docs.google.com/document/d/1lXXWdQQ8LmFNOtYXJr2mboXgh8-SxVJUoAO1jN7-Tjc/edit?usp=sharing). \n"
    },
    {
      "cell_type": "markdown",
      "metadata": {
        "cell_id": "ef2c27dbb63c4881b5e58887463f03ef",
        "deepnote_cell_height": 126.71875,
        "deepnote_cell_type": "markdown",
        "tags": []
      },
      "source": "<div class=\"alert alert-block alert-warning\">\n\n**Note for Instructors**\n\nTeachers can add/exchange questions from the [full version](https://docs.google.com/document/d/1ZfYeric-3WrdlQn0BgM-woXeLQhzSkw6U1itoWHBgJU/edit?usp=sharing) of the census, if needed."
    },
    {
      "cell_type": "markdown",
      "metadata": {
        "cell_id": "ebe169b510204209ab1b5b56e7ac0a6c",
        "deepnote_cell_height": 119.53125,
        "deepnote_cell_type": "markdown",
        "tags": []
      },
      "source": "2.2 - Think about your experience completing the survey. Did you find all of the questions in the survey easy to answer? Do you feel like you answered everything correctly? Is there a chance any of the information is slightly wrong, even though it is about yourself? Do you think you can get stuff wrong about yourself? Why or why not? Summarize your thoughts."
    },
    {
      "cell_type": "markdown",
      "metadata": {
        "cell_id": "0ba446f6d8ed4fa0b5ca47d13576e636",
        "deepnote_cell_height": 237.703125,
        "deepnote_cell_type": "markdown",
        "tags": []
      },
      "source": "2.3 - Do you think there might have been a better way to ask any of the questions? Do you think that would have changed any of your answers?\n\nFor example, What's the ***best*** way to measure:\n- someone's age?\n- someone's favorite season?\n- someone's height?\n- the length of someone's index finger?"
    },
    {
      "cell_type": "markdown",
      "metadata": {
        "cell_id": "e45b339553e8470ea0c40868c8a4e925",
        "deepnote_cell_height": 97.140625,
        "deepnote_cell_type": "markdown",
        "tags": []
      },
      "source": "2.4 - Do you think any of your responses would be different if *someone else* measured you? Would another person measure your finger in the same way? Would they measure your height exactly the same? Could they measure which season is your favorite?"
    },
    {
      "cell_type": "markdown",
      "metadata": {
        "cell_id": "212923cbfc7644099b2aadd262e401ac",
        "deepnote_cell_height": 74.75,
        "deepnote_cell_type": "markdown",
        "tags": []
      },
      "source": "2.5 - Let's try it! Without showing them your own measurements, have a classmate measure your index finger length."
    },
    {
      "cell_type": "markdown",
      "metadata": {
        "cell_id": "f72a099c9572462d9c81e7d2c256761b",
        "deepnote_cell_height": 193.90625,
        "deepnote_cell_type": "markdown",
        "tags": []
      },
      "source": "<div class=\"alert alert-block alert-warning\">\n\n**Note for Instructors**\n\nIf your classroom is remote, this can still be attempted during synchronous class time if students are able and willing to turn on thier cameras. The student can hold up their finger near the ruler in front of the camera and their partner can try their best to estimate the measurement--and likely experience an authentic case of measurement error)."
    },
    {
      "cell_type": "markdown",
      "metadata": {
        "cell_id": "7fa7494a85b74df8a0c90f57d77a7db6",
        "deepnote_cell_height": 74.75,
        "deepnote_cell_type": "markdown",
        "tags": []
      },
      "source": "2.6 - Did your partner come up with an identical measurement for your thumb? Why do you think that is?"
    },
    {
      "cell_type": "markdown",
      "metadata": {
        "cell_id": "70a86c92caa048e69f59c8eb41a04b08",
        "deepnote_cell_height": 74.75,
        "deepnote_cell_type": "markdown",
        "tags": []
      },
      "source": "2.7 - If you and another person measure the same thing but get different results, who is ultimately correct? Is one person's measurement a \"mistake\"?"
    },
    {
      "cell_type": "markdown",
      "metadata": {
        "cell_id": "1bd36e46a0f04dd6ad705d7176cb7963",
        "deepnote_cell_type": "text-cell-h2",
        "formattedRanges": [],
        "is_collapsed": false,
        "tags": []
      },
      "source": "## 3.0 - Measurement Error"
    },
    {
      "cell_type": "markdown",
      "metadata": {
        "cell_id": "6cc8bc3ad05d4e06ae6425b6b54c03bb",
        "deepnote_cell_height": 74.75,
        "deepnote_cell_type": "markdown",
        "tags": []
      },
      "source": "3.1 - What are some things you could do if you wanted to make these measurements more similar? That is, how can you reduce the variability in your measurements?"
    },
    {
      "cell_type": "markdown",
      "metadata": {
        "cell_id": "5380c447cc974a13bc24dd1e5128458d",
        "deepnote_cell_height": 74.75,
        "deepnote_cell_type": "markdown",
        "tags": []
      },
      "source": "3.2 - Do you think we can completely eliminate the variability in measurement? Is there a way to perfectly measure something? Why or why not?"
    },
    {
      "cell_type": "markdown",
      "metadata": {
        "cell_id": "f788dcf1b7fa4a1ea12bfdbeef54f077",
        "deepnote_cell_height": 141.9375,
        "deepnote_cell_type": "markdown",
        "tags": []
      },
      "source": "3.3 - **Whole Class Discussion**: Small differences in thumb lengths may not seem like it matters a lot. One way of measuring gave us a length of 65 mm and another gave us 66 mm. Not a big deal. But later we are going to analyze hate crimes from the FBI database. What counts as a hate crime? Who decides? How do we decide? How is the determination of “hate crime” kind of like the measurement error we see in thumb lengths?"
    },
    {
      "cell_type": "markdown",
      "metadata": {
        "cell_id": "756e9dee267644c6b6daa35e98c640c6",
        "deepnote_cell_type": "text-cell-h2",
        "formattedRanges": [],
        "is_collapsed": false,
        "tags": []
      },
      "source": "## 4.0 - Some Experimental Data"
    },
    {
      "cell_type": "markdown",
      "metadata": {
        "cell_id": "68f3202ccd7a41deb8b6f44e0d01280d",
        "deepnote_cell_height": 178.328125,
        "deepnote_cell_type": "markdown",
        "tags": []
      },
      "source": "Aside from surveys, data can come from lots of sources, and for lots of different reasons. One reason might be to collect data for an experiment. Have you ever designed or participated in an experiment? What makes an experiment different from our survey or other types of data collection?\n\nLet's add to our class data by participating in a short experiment. Your teacher will provide you with the instructions."
    },
    {
      "cell_type": "markdown",
      "metadata": {
        "cell_id": "a270491047af4ae4a8f357fa2802e537",
        "deepnote_cell_height": 770.953125,
        "deepnote_cell_type": "markdown",
        "tags": []
      },
      "source": "<div class=\"alert alert-block alert-warning\">\n\n**Note for Instructors**\n\n*Feel free to skip this part, or to select from one of the suggested simple memory experiments below.*\n\n#### Experiment Idea 1:\n\nDoes level of processing (deep vs shallow) affect memory?\n\nStudents review a word list and are randomly assigned to either count the number of vowels in each word (shallow processing) or rate how much they like the word from 1-5 (deep processing). After a distractor task, they are asked to recall the words (followed up with an optional word recognition task). Tally up the total number of words recalled and recognized and record which group they were in (Deep or Shallow).\n\n*Materials:*\n- [Levels of Processing Instructions](https://docs.google.com/document/d/1wsl2ail1vqSyGAWxfhqtUaD7LQPgpFadNeQhmI7YQO8/edit?usp=sharing)\n- [Shallow Form](https://docs.google.com/document/d/1uRvXZL3l4vGVYImo11xSUGJnOfdNsdyhbpUNu6EoNHo/edit?usp=sharing)\n- [Deep Form](https://docs.google.com/document/d/1ImdZezeb551Ddt7AEn3cSXxHl42pXUpbRq9MK4fYu-I/edit?usp=sharing)\n- [Recognition Test Answers](https://docs.google.com/document/d/1xBiB1OPHcNyk8VSFtcuhzoL4e-ZXtaDIb_yTTgPo64c/edit?usp=sharing)\n- [Recognition Test Form](https://docs.google.com/document/d/1xDo0U1SNyAL8bSfi8cZbxLraTCNNzJKTc1HNYxrJI58/edit?usp=sharing)\n\n#### Experiment Idea 2: \n\nDoes music affect memory?\n\nAn alternate experiment that is easy to do, if this one does not meet your needs, is to have students study the Gettysburg Address (or some other passage) while wearing headphones. Have half the students be randomly assigned to listen to music, and the other half to listen to silence (while still wearing headphones--to keep things constant) as they study the passage for about 5 minutes. Insert a distractor task, then ask students to recall as much of the passage as possible within 2 minutes. Tally up the total number of words recalled and record which group they were in (Music or No Music)."
    },
    {
      "cell_type": "markdown",
      "metadata": {
        "cell_id": "ccc931da26bf4235801d942e12d8164c",
        "deepnote_cell_type": "text-cell-h2",
        "formattedRanges": [],
        "is_collapsed": false,
        "tags": []
      },
      "source": "## 5.0 - Explaining Variation"
    },
    {
      "cell_type": "markdown",
      "metadata": {
        "cell_id": "84303a849c5b4801981cee9d3e1a3d07",
        "deepnote_cell_height": 200.71875,
        "deepnote_cell_type": "markdown",
        "tags": []
      },
      "source": "In our next lesson, we will compile all of our survey data and import it into R so we can take a closer look at how our class varies. While it will be interesting to find out things like what type of music our class prefers, and which type of sports we like to play, what we also like to do is use our data to explain *why* these things vary the way that they do. \n\n5.1 - So what do you think? Why do you think some people prefer classical music? Or what are some reasons people might prefer playing tennis? Are any of these possibilities captured in our data (i.e., did we measure those possibilities?)? If not, should we? Could we?"
    },
    {
      "cell_type": "markdown",
      "metadata": {
        "cell_id": "8791bd2806c546a2bc8b4f7b34f1f3fe",
        "deepnote_cell_height": 133.53125,
        "deepnote_cell_type": "markdown",
        "tags": []
      },
      "source": "5.2 - If I showed you the following 6 random heights (in inches) that I picked from our class and mixed up, could you tell which ones were the heights of the people who liked summer, and which ones were the heights of the people who liked spring, or winter?\n\n**73, 65, 58, 60, 70, 63**"
    },
    {
      "cell_type": "markdown",
      "metadata": {
        "cell_id": "6abc7dd6e72d4ea5bebdf90ec0635985",
        "deepnote_cell_height": 111.140625,
        "deepnote_cell_type": "markdown",
        "tags": []
      },
      "source": "5.3 - If I showed you those same random heights, could you tell which ones were likely the heights of students who were male, and which ones were likely heights of females?\n\n**73, 65, 58, 60, 70, 63**"
    },
    {
      "cell_type": "markdown",
      "metadata": {
        "cell_id": "6432b6d5d2a049a9b5e4fb9f82319656",
        "deepnote_cell_height": 74.75,
        "deepnote_cell_type": "markdown",
        "tags": []
      },
      "source": "5.4 - Which one of those things, season preference or gender, do you think would be better at explaining variation in height? Why? What is different about those two variables?"
    },
    {
      "cell_type": "markdown",
      "metadata": {
        "cell_id": "503b01014d984c498bbf9597d14d96f7",
        "deepnote_cell_height": 97.140625,
        "deepnote_cell_type": "markdown",
        "tags": []
      },
      "source": "5.5 - Thinking about our experimental data, what is it about our experiment that can help us explain variation? What is the thing we are trying to explain anyway? How can the experimental conditions help us explain why that varies?"
    },
    {
      "cell_type": "markdown",
      "metadata": {
        "cell_id": "9a1e3ca160744b51bd209ea2fbb199fe",
        "deepnote_cell_height": 126.71875,
        "deepnote_cell_type": "markdown",
        "tags": []
      },
      "source": "<div class=\"alert alert-block alert-warning\">\n\n**Note for Instructors**\n\n*Cut this question if you skipped the experiment.*"
    }
  ],
  "metadata": {
    "deepnote_notebook_id": "dd67094927874bea959e21ca417ad01c",
    "kernelspec": {
      "display_name": "R",
      "language": "R",
      "name": "ir"
    },
    "language_info": {
      "codemirror_mode": "r",
      "file_extension": ".r",
      "mimetype": "text/x-r-source",
      "name": "R",
      "pygments_lexer": "r",
      "version": "4.3.3"
    },
    "nbsimplegrader": {
      "publish_config": {
        "classes": [],
        "options": [],
        "tools": []
      }
    }
  },
  "nbformat": 4,
  "nbformat_minor": 1
}