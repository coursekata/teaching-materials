{
  "cells": [
    {
      "cell_type": "markdown",
      "metadata": {
        "cell_id": "aea0bc8bbe6b46bc95aef39d9ebefdf9",
        "deepnote_cell_height": 81.953125,
        "deepnote_cell_type": "markdown"
      },
      "source": "# 2B: Tidy Data"
    },
    {
      "cell_type": "code",
      "execution_count": null,
      "metadata": {
        "cell_id": "ed26f6fe99fa4027b8dccbe595522906",
        "deepnote_cell_height": 119.953125,
        "deepnote_cell_type": "code",
        "owner_user_id": "23d85493-7ed1-49a4-baa7-630eaab08193",
        "trusted": true
      },
      "outputs": [],
      "source": "# This code will load the R packages we will use\nsuppressPackageStartupMessages({\n    library(coursekata)\n})"
    },
    {
      "cell_type": "markdown",
      "metadata": {
        "cell_id": "3dc9b2cefac14f89b7daa20e3b5feb26",
        "deepnote_cell_height": 153.140625,
        "deepnote_cell_type": "markdown"
      },
      "source": "## 1.0 - Our Data: From a list to a spreadsheet\n\nIn our last lesson (2A), we built catapults for launching gummy bears with the goal of trying to understand what makes the gummies launch the farthest. We’ve collected a lot of useful and interesting data to help us out, but, right now, that data is just listed on sheets of paper. "
    },
    {
      "cell_type": "markdown",
      "metadata": {
        "cell_id": "9d5da3411cda479a8fe2cde21fd8fb04",
        "deepnote_cell_height": 74.75,
        "deepnote_cell_type": "markdown"
      },
      "source": "1.1 - In groups, put the data in this spreadsheet: (Teachers should create a spreadsheet set up [like this](https://docs.google.com/spreadsheets/d/11HDp43wemtCuI1xFvKQCyxM5b6yvzDdsYG3yvih7u0M/edit?usp=sharing) and assign groups a number)"
    },
    {
      "cell_type": "markdown",
      "metadata": {
        "cell_id": "ca20a32fd172434fa317fdc703bb3f31",
        "deepnote_cell_height": 69.96875,
        "deepnote_cell_type": "markdown"
      },
      "source": "## 2.0 - Reflecting on our Spreadsheets"
    },
    {
      "cell_type": "markdown",
      "metadata": {
        "cell_id": "0e661ecf847a43debbebce2a18770df2",
        "deepnote_cell_height": 234.703125,
        "deepnote_cell_type": "markdown"
      },
      "source": "2.1 - Let’s see if we have put the data into the spreadsheet in a way that can be analyzed by R.  Does your data meet the definition of tidy data? \n\nAs a reminder, here are the three principles of tidy data:\n\n- Each column is a variable\n- Each row is an observation (also called a case, research unit, or an object; all these words mean the same thing)\n- Each type of observation is kept in a different table"
    },
    {
      "cell_type": "markdown",
      "metadata": {
        "cell_id": "ea10af11430e4bd2b8306b245048e9b2",
        "deepnote_cell_height": 119.53125,
        "deepnote_cell_type": "markdown"
      },
      "source": "2.2 - A few other data science and statistics classes have done this exercise before. One of these classes had an average distance of 20.05 cm from all their flying gummy bears. According to tidy data principles, how would we put this data into our data frame (the one we created in our spreadsheet)? If your group thinks of a way, try to enter this data into your spreadsheet."
    },
    {
      "cell_type": "markdown",
      "metadata": {
        "cell_id": "b8de3e8bd6a14a34a193ad826bf3f4a5",
        "deepnote_cell_height": 69.96875,
        "deepnote_cell_type": "markdown"
      },
      "source": "## 3.0 - From spreadsheet to data frame"
    },
    {
      "cell_type": "markdown",
      "metadata": {
        "cell_id": "fbae343f1a31411ab0cc5c05cbe50375",
        "deepnote_cell_height": 52.359375,
        "deepnote_cell_type": "markdown"
      },
      "source": "3.1 - Now let’s try to put this data in R."
    },
    {
      "cell_type": "code",
      "execution_count": null,
      "metadata": {
        "cell_id": "41409a2c2aa5433c919b1688b921d2cb",
        "deepnote_cell_height": 65.953125,
        "deepnote_cell_type": "code",
        "tags": [],
        "trusted": true
      },
      "outputs": [],
      "source": "# Write some code here."
    },
    {
      "cell_type": "markdown",
      "metadata": {
        "cell_id": "9c7c0e0c5c95413cb2824384976b60fa",
        "deepnote_cell_height": 52.359375,
        "deepnote_cell_type": "markdown",
        "tags": []
      },
      "source": "3.2 - Do you notice any issues? Are there things we should fix in the spreadsheet? "
    },
    {
      "cell_type": "markdown",
      "metadata": {
        "cell_id": "026b804aa8e8475595ec7836ee1c736d",
        "deepnote_cell_height": 69.96875,
        "deepnote_cell_type": "markdown"
      },
      "source": "## 4.0 - Exploring the data"
    },
    {
      "cell_type": "markdown",
      "metadata": {
        "cell_id": "c10251a81d4f4fa99cfacc7f68f0993f",
        "deepnote_cell_height": 74.75,
        "deepnote_cell_type": "markdown"
      },
      "source": "4.1 - Which of the variables might be important in launching the gummy bear farther? Which of these variables probably has nothing to do with how far the gummy bear gets launched?\n"
    },
    {
      "cell_type": "markdown",
      "metadata": {
        "cell_id": "399896aca26d49db84c12dbcfb6176b9",
        "deepnote_cell_height": 74.75,
        "deepnote_cell_type": "markdown"
      },
      "source": "Soon, we will learn the skills to explore our data with visualizations and number summaries. We will revisit our data at that time to see what more we can do with it!"
    }
  ],
  "metadata": {
    "deepnote_notebook_id": "5ce32badaf594500b44207587ec0c15a",
    "kernelspec": {
      "display_name": "R",
      "language": "R",
      "name": "ir"
    },
    "language_info": {
      "codemirror_mode": "r",
      "file_extension": ".r",
      "mimetype": "text/x-r-source",
      "name": "R",
      "pygments_lexer": "r",
      "version": "4.3.3"
    },
    "nbsimplegrader": {
      "publish_config": {
        "classes": [],
        "options": [],
        "tools": []
      }
    }
  },
  "nbformat": 4,
  "nbformat_minor": 1
}