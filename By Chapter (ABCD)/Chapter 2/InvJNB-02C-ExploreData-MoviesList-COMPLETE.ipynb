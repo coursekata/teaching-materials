{
  "cells": [
    {
      "cell_type": "markdown",
      "metadata": {
        "cell_id": "1415b0ddd2334573891764e85e66d630",
        "deepnote_cell_height": 81.953125,
        "deepnote_cell_type": "markdown",
        "tags": []
      },
      "source": "<div class=\"alert alert-block alert-danger\">\n\n# 2C: Movies List (COMPLETE)\n\n**Use with textbook version 6.0+**  \n\n**Lesson assumes students have read up through page: 2.5**\n\n*Note to instructors: This is an alternate to 02A (with the gummy bear launches). If you completed the 02A lesson with your students, you do not need to include this lesson for chapter 2 (unless you want to!).*\n\n</div>"
    },
    {
      "cell_type": "markdown",
      "metadata": {
        "cell_id": "1950c60a88454201a673f14db219d37f",
        "deepnote_cell_type": "markdown"
      },
      "source": "<div class=\"alert alert-block alert-success\">\n\n## Approximate time to complete Notebook: 45-60 Mins\n\n</div>"
    },
    {
      "cell_type": "code",
      "execution_count": null,
      "metadata": {
        "cell_id": "6f36f80da3874608932d68097448f234",
        "deepnote_cell_height": 258.953125,
        "deepnote_cell_type": "code",
        "execution_context_id": "43a0206a-05ae-4ecb-8918-351869d0580a",
        "execution_millis": 7897,
        "execution_start": 1740095972451,
        "output_cleared": false,
        "source_hash": "33859843",
        "trusted": true
      },
      "outputs": [],
      "source": "# This code will load the R packages we will use\nsuppressPackageStartupMessages({\n    library(coursekata)\n})\n\nfont_size = function (size) {\n    theme(text = element_text(size = size))}\n\nmovieslist <- read.csv(\"https://docs.google.com/spreadsheets/d/e/2PACX-1vQ1dIe9iBIqV1qfj1y7JanIS6FIdsrAvpBVozjpjkAG4aT4zLW8fCKMucB20Mtc-58M1o4SX0u3PQep/pub?gid=1087672819&single=true&output=csv\", header = TRUE) "
    },
    {
      "cell_type": "markdown",
      "metadata": {
        "cell_id": "e15e696f42314a3081f00b8d94bcc68d",
        "deepnote_cell_height": 97.140625,
        "deepnote_cell_type": "markdown"
      },
      "source": "Let’s start with a data set called `movieslist`. This dataset contains data on a selection of movies listed on the website \"The Movie Database\". What would happen if we typed in `head(movieslist)`?"
    },
    {
      "cell_type": "markdown",
      "metadata": {
        "cell_id": "1e9bbd5685d547fa9987b746a1c60cb3",
        "deepnote_cell_height": 91.75,
        "deepnote_cell_type": "markdown"
      },
      "source": "1. What’s in this data? What is this data about? (For now, let’s try to figure out as much as we can just by trying to look at the data using R.)"
    },
    {
      "cell_type": "code",
      "execution_count": null,
      "metadata": {
        "cell_id": "eed11f98ebe44184b892fca59ffb0e14",
        "deepnote_cell_height": 60.953125,
        "deepnote_cell_type": "code",
        "execution_context_id": "d50e3d23-a733-4f19-9495-41d96e0276ee",
        "execution_millis": 43,
        "execution_start": 1734567634618,
        "scrolled": true,
        "source_hash": "33b08705",
        "trusted": true
      },
      "outputs": [],
      "source": "# Write some code here.\n\nhead(movieslist)\n\nstr(movieslist)"
    },
    {
      "cell_type": "markdown",
      "metadata": {
        "cell_id": "968ee9aaea7049e09df9c415eb718ab5",
        "deepnote_cell_type": "markdown"
      },
      "source": "<div class=\"alert alert-block alert-warning\">\n\n**Sample Responses**\n\n- The data frame appears to contain several (over 4,800!) movies.\n- The data frame includes information such as the movie name, budget, language, and rating information.\n\n**Suggested follow-up questions**:\n- What are the cases? (movies)\n- Is the variable **language** categorical or quantitative? (categorical)\n- What are some of the quantitative variables in the data set? (budget, tmdb_popularity)\n\n</div>"
    },
    {
      "cell_type": "markdown",
      "metadata": {
        "cell_id": "08f61ae2ff764f44acff06fd5f0fed97",
        "deepnote_cell_height": 74.75,
        "deepnote_cell_type": "markdown",
        "tags": []
      },
      "source": "If you want to check any of your ideas about this data, feel free to view the documentation [here](https://docs.google.com/document/d/e/2PACX-1vQXQJ1TA0s6jSBezayTc7tvkkNcylDWzCFRls_cC1TERT9ds8XWx3PEt0nXyPdfyQsERzXuJO-yHrWn/pub)  at any time to find out more!"
    },
    {
      "cell_type": "markdown",
      "metadata": {
        "cell_id": "32e7199417c5424ebf4990f2a51874e1",
        "deepnote_cell_height": 69.359375,
        "deepnote_cell_type": "markdown"
      },
      "source": "2. Just out of curiosity, how many movies are in this dataset?"
    },
    {
      "cell_type": "code",
      "execution_count": null,
      "metadata": {
        "cell_id": "62da56cbe2154427b01917684763cf0a",
        "deepnote_cell_height": 60.953125,
        "deepnote_cell_type": "code",
        "execution_context_id": "d50e3d23-a733-4f19-9495-41d96e0276ee",
        "execution_millis": 20,
        "execution_start": 1734567816981,
        "source_hash": "e67b9fc1",
        "trusted": true
      },
      "outputs": [],
      "source": "# Write some code here.\n\nstr(movieslist)"
    },
    {
      "cell_type": "markdown",
      "metadata": {
        "cell_id": "dc19d39f129c4582835f61f9e01dda9c",
        "deepnote_cell_type": "markdown"
      },
      "source": "<div class=\"alert alert-block alert-warning\">\n\n**Sample Response**\n\nThere are 4803 movies\n\n</div>"
    },
    {
      "cell_type": "markdown",
      "metadata": {
        "cell_id": "377357919c6c4c109523183258a8ad62",
        "deepnote_cell_height": 69.359375,
        "deepnote_cell_type": "markdown"
      },
      "source": "3. Which movie had the longest `runtime`? How long was it? What was that movie's `tmdb_user_rating`?"
    },
    {
      "cell_type": "code",
      "execution_count": null,
      "metadata": {
        "cell_id": "eafdbe67f9e74702aa8285032d36a7f7",
        "deepnote_cell_height": 60.953125,
        "deepnote_cell_type": "code",
        "execution_context_id": "d50e3d23-a733-4f19-9495-41d96e0276ee",
        "execution_millis": 36,
        "execution_start": 1734567972184,
        "source_hash": "8e3f46c3",
        "trusted": true
      },
      "outputs": [],
      "source": "# Write some code here.\n\nhead(arrange(movieslist, desc(runtime)))"
    },
    {
      "cell_type": "markdown",
      "metadata": {
        "cell_id": "258b95c5f19d482e8f81342900c7e09d",
        "deepnote_cell_type": "markdown"
      },
      "source": "<div class=\"alert alert-block alert-warning\">\n\n**Sample Response**\n\nThe movie is Carlos. It was 338 minutes long and had a user rating of 6.7. \n\n</div>"
    },
    {
      "cell_type": "markdown",
      "metadata": {
        "cell_id": "d87db97a5dab483d86bc313bb917d2cb",
        "deepnote_cell_type": "markdown"
      },
      "source": "4. Which movie had the largest `budget`?"
    },
    {
      "cell_type": "code",
      "execution_count": null,
      "metadata": {
        "cell_id": "247d2eed51704c99af2214ccb50af137",
        "deepnote_cell_type": "code",
        "execution_context_id": "d50e3d23-a733-4f19-9495-41d96e0276ee",
        "execution_millis": 29,
        "execution_start": 1734568111984,
        "source_hash": "54c71a2f",
        "trusted": true
      },
      "outputs": [],
      "source": "# Write some code here.\n\nhead(arrange(movieslist, desc(budget)))"
    },
    {
      "cell_type": "markdown",
      "metadata": {
        "cell_id": "6c24079b237744418f20831f13a32aae",
        "deepnote_cell_type": "markdown"
      },
      "source": "<div class=\"alert alert-block alert-warning\">\n\n**Sample Response**\n\nPirates of the Carribeean: On Stranger Tides \n\nThe second largest budget was another movie from the same franchise. \n\n</div>"
    },
    {
      "cell_type": "markdown",
      "metadata": {
        "cell_id": "e39a3567c6194ddf988b535cc391b064",
        "deepnote_cell_type": "markdown"
      },
      "source": "5. What was the most popular month for a movie to be released? Make a prediction, then check the data! "
    },
    {
      "cell_type": "code",
      "execution_count": null,
      "metadata": {
        "cell_id": "9c709852254c4ca9b5b9eb7985372769",
        "deepnote_cell_type": "code",
        "execution_context_id": "d50e3d23-a733-4f19-9495-41d96e0276ee",
        "execution_millis": 12,
        "execution_start": 1734568245278,
        "source_hash": "57ab6373",
        "trusted": true
      },
      "outputs": [],
      "source": "# Write some code here. \ntally(~release_month, data=movieslist)"
    },
    {
      "cell_type": "markdown",
      "metadata": {
        "cell_id": "f288f32739de4f62b187b0598a97396e",
        "deepnote_cell_type": "markdown"
      },
      "source": "<div class=\"alert alert-block alert-warning\">\n\n**Sample Response**\n\nMonth 10, which is October. \n\n</div>"
    },
    {
      "cell_type": "markdown",
      "metadata": {
        "cell_id": "35345d2c6a974a1ea8b2da5ad29f07d0",
        "deepnote_cell_height": 153.53125,
        "deepnote_cell_type": "markdown"
      },
      "source": "6. What are some questions that might be interesting to explore using this data set? (No need to constrain yourselves to the stuff we can do so far…)\n\n\n- List questions here\n- and here!"
    },
    {
      "cell_type": "markdown",
      "metadata": {
        "cell_id": "58849f4226fb4b12878d83e0d31345ea",
        "deepnote_cell_type": "markdown"
      },
      "source": "<div class=\"alert alert-block alert-warning\">\n\n**Sample Responses**\n\n*Student responses may vary widely.* \n\n- Which years had the highest revenue? \n- Which movies had the highest user scores? \n- Do movies with a higher budget make more money? \n- Do longer movies have higher or lower ratings? \n\n</div>"
    }
  ],
  "metadata": {
    "deepnote_notebook_id": "c4f2a37da6d04ba9ab93c5c69cb4cd6c",
    "kernelspec": {
      "display_name": "R",
      "language": "R",
      "name": "ir"
    },
    "language_info": {
      "codemirror_mode": "r",
      "file_extension": ".r",
      "mimetype": "text/x-r-source",
      "name": "R",
      "pygments_lexer": "r",
      "version": "4.3.3"
    },
    "nbsimplegrader": {
      "publish_config": {
        "classes": [],
        "options": [],
        "tools": []
      }
    }
  },
  "nbformat": 4,
  "nbformat_minor": 1
}