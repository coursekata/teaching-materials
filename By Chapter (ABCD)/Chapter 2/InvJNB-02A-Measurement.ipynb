{
  "cells": [
    {
      "cell_type": "markdown",
      "metadata": {
        "cell_id": "5a5952dad4eb4cc2b2ece88b42f4ac7d",
        "deepnote_cell_height": 133.953125,
        "deepnote_cell_type": "markdown"
      },
      "source": "# 2A: Measuring Gummy Bear Launches "
    },
    {
      "cell_type": "code",
      "execution_count": null,
      "metadata": {
        "cell_id": "d071f89e035947ed82251ed2ccba046d",
        "deepnote_cell_height": 134.953125,
        "deepnote_cell_type": "code",
        "deepnote_to_be_reexecuted": false,
        "execution_millis": 3374,
        "execution_start": 1623218496073,
        "owner_user_id": "23d85493-7ed1-49a4-baa7-630eaab08193",
        "source_hash": null,
        "trusted": true
      },
      "outputs": [],
      "source": "# This code will load the R packages we will use\nsuppressPackageStartupMessages({\n    library(coursekata)\n})"
    },
    {
      "cell_type": "markdown",
      "metadata": {
        "cell_id": "d1e2e11bdb1146a0a0e262e9e7e05945",
        "deepnote_cell_height": 360.28125,
        "deepnote_cell_type": "markdown"
      },
      "source": "## 1.0 - How do we get data?\nWe use data to try and understand all kinds of things: climate change, poverty, politics, psychology, health, etc. But that means we need to measure all kinds of things that are hard to measure. How do we measure how smart, happy, or healthy someone is? How powerful, free, or secure a country is? Once we get that data, we want to use data science to figure out whether this stuff changes, improves, differs across people, or predicts some future outcome, and much more.\n\nBut it all starts with figuring out measurement -- how would we know *how much* of something exists? How would we know how that thing varies across people, animals, families, companies, countries?\n \nLet’s start by measuring something easy. The distance traveled by gummy bears! We’ll build some catapults, launch some gummy bears, and measure how far they flew!\n"
    },
    {
      "cell_type": "markdown",
      "metadata": {
        "cell_id": "d729a87ea6554e2ea476b9f4e107f7dc",
        "deepnote_cell_height": 130.75,
        "deepnote_cell_type": "markdown"
      },
      "source": "## 2.0 - Build Your Catapults\n\nWe’re going to build a basic catapult to launch our gummy bears. As you do, consider this question: What makes a gummy bear launch the farthest?"
    },
    {
      "cell_type": "markdown",
      "metadata": {
        "cell_id": "2a3e604b1d8845cdba4c9881dc53233d",
        "deepnote_cell_height": 263.6875,
        "deepnote_cell_type": "markdown",
        "tags": []
      },
      "source": "### Materials\n\n- 16 craft sticks (popsicle sticks)\n- 7 sturdy rubber bands\n- Gummy Bears (just one package; save the other package for next class session)\n- Small open area (1-2 square meters will do. It should be a sturdy, flat surface such as a table or floor.)\n- Rigid ruler, flexible measuring tape\n- *Optional*: Masking tape and sharpie (for marking boundaries, catapult starting lines, etc.) \n"
    },
    {
      "cell_type": "markdown",
      "metadata": {
        "cell_id": "88588aa77545420ba5404c8ebece1ec6",
        "deepnote_cell_height": 206.921875,
        "deepnote_cell_type": "markdown",
        "tags": []
      },
      "source": "### Some Notes\n\n- Disclaimer: The simple catapult described in this project is safe when used with soft objects (such as gummy bears or balled up paper). Shooting hard objects or using other homemade catapults can be dangerous. Make sure any objects you launch are soft and light so as not to harm anyone or cause any damage to objects around you.\n- Catapult instructions adapted from [this Scientific American article](https://www.scientificamerican.com/article/build-a-catapult/)\n"
    },
    {
      "cell_type": "markdown",
      "metadata": {
        "cell_id": "87d9d0a4cce5484d8f951740b156efae",
        "deepnote_cell_height": 100.34375,
        "deepnote_cell_type": "markdown",
        "tags": []
      },
      "source": "### Step-By-Step Instructions\n\nYou can also find a video explanation here: https://youtu.be/EXiNq_BcDUc"
    },
    {
      "cell_type": "markdown",
      "metadata": {
        "cell_id": "b1b305920a324d2d836c985ba535264a",
        "deepnote_cell_height": 137.140625,
        "deepnote_cell_type": "markdown"
      },
      "source": "\n**STEP 1 - Base**: Take six craft sticks, stack them one on top of the other. Secure these sticks together by wrapping rubber bands around both ends of the stack. *Note*: if you have a variety of rubberband sizes, you may use *any* size for each step during your build.\n\n\n<img src=\"https://coursekata-course-assets.s3.us-west-1.amazonaws.com/UCLATALL/czi-stats-course/jnb_Q8FYqTPL-Catapult-Step-1-Imgur.png\" title=\"Catapult Step 1\" />\n\n"
    },
    {
      "cell_type": "markdown",
      "metadata": {
        "cell_id": "cf8f1aec51324d30ab4ce6766ebaf49b",
        "deepnote_cell_height": 159.53125,
        "deepnote_cell_type": "markdown"
      },
      "source": "**STEP 2 - Tilt**: Take another six craft sticks, stack them one on top of the other, and attach the stack perpendicular to the stack you just made, near one end. You can do this with one or two rubber bands that are crossed in an X over the sticks. If you cross it this way, the sticks will stay nicely perpendicular. (this will prop up the base of the catapult so that it will not lie flat).\n\n<img src=\"https://coursekata-course-assets.s3.us-west-1.amazonaws.com/UCLATALL/czi-stats-course/jnb_jtyxXw0J-catapult-step-2.png\" title=\"Catapult Step 2\" />"
    },
    {
      "cell_type": "markdown",
      "metadata": {
        "cell_id": "5eff65daa1354ca9a707faf0744de003",
        "deepnote_cell_height": 137.140625,
        "deepnote_cell_type": "markdown"
      },
      "source": "**STEP 3 - Lift**: To add the lift take one stick and attach it perpendicular to the base, around the middle, so you get a cross shape. You can do this with one or two rubber bands that are crossed in an X over the sticks. If you cross it this way, the sticks will stay nicely perpendicular.\n\n<img src=\"https://coursekata-course-assets.s3.us-west-1.amazonaws.com/UCLATALL/czi-stats-course/jnb_kJSzmSyQ-catapult-step-3.png\" title=\"Catapult Step 3\" />"
    },
    {
      "cell_type": "markdown",
      "metadata": {
        "cell_id": "1be06aa685d343ab90b366aa509c8f03",
        "deepnote_cell_height": 181.9375,
        "deepnote_cell_type": "markdown"
      },
      "source": "**STEP 4 - Launching Stick**: Next, add the launching stick by attaching a stick to the end opposite of the tilt stack with a rubber band. If it were not for the lift stick in between, the launching stick would fall flat on top of the base. Now the launching stick and the base form a V shape lying on its side with the lift stick in the middle. (Note: You should have two popsicle sticks left over--these will be used later).\n\n\n<img src=\"https://coursekata-course-assets.s3.us-west-1.amazonaws.com/UCLATALL/czi-stats-course/jnb_dvBnTnD7-catapult-step-4.png\" title=\"Catapult Step 4\" />"
    },
    {
      "cell_type": "markdown",
      "metadata": {
        "cell_id": "f14ce60d23ca48c89a535a4b9e395c1d",
        "deepnote_cell_height": 108.359375,
        "deepnote_cell_type": "markdown"
      },
      "source": "## 3.0 - Launch some gummy bears\n\nTry a few gummy bear launches."
    },
    {
      "cell_type": "markdown",
      "metadata": {
        "cell_id": "ddeccd65a2fa4e7999dfaa494128526a",
        "deepnote_cell_height": 74.75,
        "deepnote_cell_type": "markdown"
      },
      "source": "3.1 - Now that you’ve tried a few launches, what are some things that seem to affect how far the gummy bear goes? \n"
    },
    {
      "cell_type": "markdown",
      "metadata": {
        "cell_id": "d211ec7779b74286bd98fb49e520caf0",
        "deepnote_cell_height": 74.75,
        "deepnote_cell_type": "markdown"
      },
      "source": "3.2 - As a class, let's write a set of instructions for the “best method” to launch a gummy bear (so everyone can do it roughly the same way). "
    },
    {
      "cell_type": "markdown",
      "metadata": {
        "cell_id": "b33be518101941febb1c6ff477ccebae",
        "deepnote_cell_height": 130.75,
        "deepnote_cell_type": "markdown"
      },
      "source": "## 4.0 - Measuring Launch Distances\nEach person is going to be measuring their launching distances with two different tools: A 30-cm ruler and a longer measuring tape. \n"
    },
    {
      "cell_type": "markdown",
      "metadata": {
        "cell_id": "71191a69e4ab4bda834a8d6e024e790f",
        "deepnote_cell_height": 74.75,
        "deepnote_cell_type": "markdown",
        "tags": []
      },
      "source": "4.1 - Launch 1 gummy bear according to the “best method” that we developed. Then try to measure this distance using the ruler. Do any questions come up for you?\n"
    },
    {
      "cell_type": "markdown",
      "metadata": {
        "cell_id": "2778dc107a354fdb9da814c1a341eb36",
        "deepnote_cell_height": 97.140625,
        "deepnote_cell_type": "markdown"
      },
      "source": "4.2 - Just as there are many ways to launch the gummy bears, we realize there are a lot of choices to make when we measure the distances. As a class, let's write a set of instructions for the \"best method\" to *measure* a distance."
    },
    {
      "cell_type": "markdown",
      "metadata": {
        "cell_id": "8762a23698e340d2b527ed79d6b2210c",
        "deepnote_cell_height": 141.9375,
        "deepnote_cell_type": "markdown",
        "tags": []
      },
      "source": "4.3 - Launch 3 gummy bears according to the “best method for launching” that we developed (one bear at a time, each bear a different color). First measure the distances from the catapult to the gummy bear using the 30-cm ruler and write them down on the [Launching Bears Data Collection Sheet](https://docs.google.com/document/d/1kQhk0rc0nzzv9MecqI34E--bfQIGUbaZb8O7wyVRsVY/edit). Then measure the same distances using the longer measuring tape. Write those down as well. These will be gummy bears #1 through #3."
    },
    {
      "cell_type": "markdown",
      "metadata": {
        "cell_id": "b9b652cb2f434fb593b8e42a128541da",
        "deepnote_cell_height": 74.75,
        "deepnote_cell_type": "markdown"
      },
      "source": "4.4 - We used two different tools for measuring the distance. Did everyone in the class come up with identical measurements for each gummy bear that got launched? Why do you think that is? "
    },
    {
      "cell_type": "markdown",
      "metadata": {
        "cell_id": "f3a09f2ebb8d4a199cc11270179af6a9",
        "deepnote_cell_height": 69.96875,
        "deepnote_cell_type": "markdown"
      },
      "source": "## 5.0 - Measurement Error"
    },
    {
      "cell_type": "markdown",
      "metadata": {
        "cell_id": "dca890bae265477ea6876d89b536dc7c",
        "deepnote_cell_height": 74.75,
        "deepnote_cell_type": "markdown"
      },
      "source": "5.1 - What are some things you could do if you wanted to make these measurements more similar? That is, how can you reduce the variability in your measurements?\n"
    },
    {
      "cell_type": "markdown",
      "metadata": {
        "cell_id": "b3beaeddabb242b6b4e6ca1132e5d1c6",
        "deepnote_cell_height": 52.359375,
        "deepnote_cell_type": "markdown"
      },
      "source": "5.2 - Do you think we can completely eliminate the variability in measurement? Why or why not?\n"
    },
    {
      "cell_type": "markdown",
      "metadata": {
        "cell_id": "b93e7f4eb1eb41878ea9b5d9501662f8",
        "deepnote_cell_height": 141.9375,
        "deepnote_cell_type": "markdown"
      },
      "source": "5.3 - **Whole Class Discussion**: Small differences in gummy bear launching distances may not seem like it matters a lot. One way of measuring gave us a distance of 24 cm and another gave us 23 cm. Not a big deal. But later we are going to analyze hate crimes from the FBI database. What counts as a hate crime? Who decides? How do we decide? How is the determination of “hate crime” kind of like the measurement error we see in gummy bear distances?\n"
    },
    {
      "cell_type": "markdown",
      "metadata": {
        "cell_id": "fbfcc575d640491093b4c742645c259a",
        "deepnote_cell_height": 109.96875,
        "deepnote_cell_type": "markdown"
      },
      "source": "## 6.0 - Designing an Experiment: Does lift cause the distance to vary?\n"
    },
    {
      "cell_type": "markdown",
      "metadata": {
        "cell_id": "e42898f404544a29b4d8ae1006efae0d",
        "deepnote_cell_height": 97.140625,
        "deepnote_cell_type": "markdown"
      },
      "source": "6.1 - The height of the lift (how many lift sticks there are) is an important factor. Right now, our catapults only have one lift stick. How might we design an experiment to see out whether adding some lift sticks affects the launching distance?\n"
    },
    {
      "cell_type": "markdown",
      "metadata": {
        "cell_id": "0335e48ed10545ae84128b66d7f5ea1f",
        "deepnote_cell_height": 97.140625,
        "deepnote_cell_type": "markdown"
      },
      "source": "6.2 - Do you think a catapult with a low lift or one with a high lift will launch farther, or will it not make much difference? Make some predictions about what you expect to find. How far do you think the candy will launch? What will probably be the farthest it can go?\n\n"
    },
    {
      "cell_type": "markdown",
      "metadata": {
        "cell_id": "b1eebe123ae74d6ab3725309885ffc93",
        "deepnote_cell_height": 192.328125,
        "deepnote_cell_type": "markdown"
      },
      "source": "6.3 - Add one additional stick to the lift of the catapult (2 Lift sticks), launch 3 gummy bears, and record your observations. These will be gummy bears # 4-6. \n\nFollow that by adding one more lift stick (3 Lift sticks), and launching 3 more gummy bears. Record these launch distances as gummy bears #7-9.\n\nFeel free to only measure once with the measuring tape. (You can leave the ruler measurement blank or write NA.)\n"
    },
    {
      "cell_type": "markdown",
      "metadata": {
        "cell_id": "01522e28145d4c96a946b5bed8117ba8",
        "deepnote_cell_height": 69.96875,
        "deepnote_cell_type": "markdown"
      },
      "source": "## 7.0 - Explaining Variation"
    },
    {
      "cell_type": "markdown",
      "metadata": {
        "cell_id": "504628ef29e244deb0b45c398e868b96",
        "deepnote_cell_height": 111.140625,
        "deepnote_cell_type": "markdown"
      },
      "source": "Lots of you now have data on this little experiment. I have pulled three distances from a 3-lift catapult as well as three distances from a 1-lift catapult and mixed them up here:\n\n16.5,   34.5,   28,   14,   25,   43.5\n"
    },
    {
      "cell_type": "markdown",
      "metadata": {
        "cell_id": "45f6538c621b40599b0795b886029e8f",
        "deepnote_cell_height": 119.53125,
        "deepnote_cell_type": "markdown"
      },
      "source": "7.1 - **Discussion**: Notice that there is variation in distances here. Now we will try to “explain” some of this variation. We know that some of these came from 3-lift catapults and some came from 1-lift catapults. If you had to take a guess, which of these measurements came from the 3-lift catapults? Which came from the 1-lift catapults? \n"
    },
    {
      "cell_type": "markdown",
      "metadata": {
        "cell_id": "cc60e73d58ff4a2b9916a401ca14a4a2",
        "deepnote_cell_height": 97.140625,
        "deepnote_cell_type": "markdown"
      },
      "source": "7.2 - Based on the small amount of data you collected, what is your intuition about these research questions: What makes a gummy bear launch farther? Does lift matter? Does more lift always lead to farther launches?\n"
    },
    {
      "cell_type": "markdown",
      "metadata": {
        "cell_id": "8ae4f2d7f6304fc390b8570575e6514b",
        "deepnote_cell_height": 74.75,
        "deepnote_cell_type": "markdown"
      },
      "source": "7.3 - If we did this whole study again with 9 other gummy bears, would we get exactly the same numbers even if we did the same thing? Why?\n"
    },
    {
      "cell_type": "markdown",
      "metadata": {
        "cell_id": "9935b2ae50204a258884d3555cdcecdd",
        "deepnote_cell_height": 74.75,
        "deepnote_cell_type": "markdown",
        "tags": []
      },
      "source": "In our next lesson, we will take a closer look at our samples and measurements to see if we can find any patterns in the variation and get some data-based answers to our questions."
    }
  ],
  "metadata": {
    "deepnote_notebook_id": "e86f356dd8ed4c34864709e31fb84d5c",
    "kernelspec": {
      "display_name": "R",
      "language": "R",
      "name": "ir"
    },
    "language_info": {
      "codemirror_mode": "r",
      "file_extension": ".r",
      "mimetype": "text/x-r-source",
      "name": "R",
      "pygments_lexer": "r",
      "version": "4.3.3"
    },
    "nbsimplegrader": {
      "publish_config": {
        "classes": [],
        "options": [],
        "tools": []
      }
    }
  },
  "nbformat": 4,
  "nbformat_minor": 1
}