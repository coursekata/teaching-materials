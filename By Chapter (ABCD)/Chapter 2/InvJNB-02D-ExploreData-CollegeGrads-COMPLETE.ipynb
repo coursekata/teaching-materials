{
  "cells": [
    {
      "cell_type": "markdown",
      "metadata": {
        "cell_id": "d8b516b3eaa544f7a6dc9fef0f46090a",
        "deepnote_cell_height": 305.5,
        "deepnote_cell_type": "markdown",
        "tags": []
      },
      "source": "<div class=\"alert alert-block alert-danger\">\n\n# 2D: Data on College Majors (COMPLETE)\n\n**Lesson assumes students have read up through page: 2.11**\n\n**Use with textbook version 6.0+** \n\n*Note to instructors: This is an alternate to 02B (with data from the gummy bear launches). If you completed the 02B lesson with your students, you do not need to include this lesson for chapter 2 (unless you want to!).*\n\n</div>"
    },
    {
      "cell_type": "markdown",
      "metadata": {
        "cell_id": "291223560a70471495f10f6d993670fc",
        "deepnote_cell_height": 163.9375,
        "deepnote_cell_type": "markdown",
        "tags": []
      },
      "source": "<div class=\"alert alert-block alert-success\">\n\n## Approximate time to complete Notebook: 45-60 Mins\n\n</div>"
    },
    {
      "cell_type": "code",
      "execution_count": null,
      "metadata": {
        "cell_id": "efcb511310194f958d479308fd9b0c5b",
        "deepnote_cell_height": 168.953125,
        "deepnote_cell_type": "code",
        "deepnote_to_be_reexecuted": false,
        "execution_start": 1667253902736,
        "source_hash": null,
        "trusted": true
      },
      "outputs": [],
      "source": "# This code will load the R packages we will use\nsuppressPackageStartupMessages({\n    library(coursekata)\n})\n\nfont_size = function (size) {\n    theme(text = element_text(size = size))}"
    },
    {
      "cell_type": "markdown",
      "metadata": {
        "cell_id": "3486b152b9624f4a875295dff839c0b8",
        "deepnote_cell_height": 155.9375,
        "deepnote_cell_type": "markdown"
      },
      "source": "There are a lot of reasons why people pick the major they pick. Future earnings and job security are just a few of them. What do the data look like on the job prospects of different college majors out there?\n\nLet’s start with a data set called `college_recent_grads` that was the basis of this article: [The Economic Guide to Picking a College Major](https://fivethirtyeight.com/features/the-economic-guide-to-picking-a-college-major/). \n\n"
    },
    {
      "cell_type": "markdown",
      "metadata": {
        "cell_id": "01904e92e9834f54b2b50538b2e858de",
        "deepnote_cell_height": 115.9375,
        "deepnote_cell_type": "markdown",
        "tags": []
      },
      "source": "<div class=\"alert alert-block alert-success\">\n\n### 1 - Approximate Time:  5-8 mins\n\n</div>"
    },
    {
      "cell_type": "markdown",
      "metadata": {
        "cell_id": "4b9c79ef492d4688885e4f60a7160f58",
        "deepnote_cell_height": 91.75,
        "deepnote_cell_type": "markdown"
      },
      "source": "1. Run some code to take a look at a bit of the dataframe. What are the cases? Are there any variables that look interesting to you?"
    },
    {
      "cell_type": "code",
      "execution_count": null,
      "metadata": {
        "cell_id": "c4b679b56030441ea1a229989c5229cb",
        "deepnote_cell_height": 96.953125,
        "deepnote_cell_type": "code",
        "output_cleared": true,
        "scrolled": true,
        "trusted": true
      },
      "outputs": [],
      "source": "# Write some code here.\n\nhead(college_recent_grads)"
    },
    {
      "cell_type": "markdown",
      "metadata": {
        "cell_id": "8d1c41e506b04e83b493de1091660ed8",
        "deepnote_cell_height": 353.859375,
        "deepnote_cell_type": "markdown",
        "tags": []
      },
      "source": "<div class=\"alert alert-block alert-warning\">\n\n**Sample Response***\n\nThe cases are college majors for recent graduates. Variables of interest will vary.\n\nPossible follow up questions because the idea that the major is the case will be hard (students are more used to thinking of people as cases):\n- How many people graduated in X major? \n- Do you think everyone from X major had the same salary/earnings? \n- How might we say how much money a graduate of this major might go on to earn? (Students have trouble understanding what the median earnings variable is; they don't need the details of the median but to motivate them to consider that one number here must represent all the different incomes that people with this major could earn)\n\n</div>"
    },
    {
      "cell_type": "markdown",
      "metadata": {
        "cell_id": "08cfd4becbac497ab3a387874222e641",
        "deepnote_cell_height": 655.34375,
        "deepnote_cell_type": "markdown",
        "tags": []
      },
      "source": "Here is a bit more information about the `college_recent_grads` data frame. It contains 173 rows representing majors (recent graduates) and 21 variables:\n\n- `rank` Rank by median earnings\n- `major_code` Major code, FO1DP in ACS PUMS\n- `major` Major description\n- `major_category` Category of major from Carnevale et al\n- `total` Total number of people with major\n- `sample_size` Sample size (unweighted) of full-time, year-round ONLY (used for earnings)\n- `men` Men with major\n- `women` Women with major\n- `sharewomen` Proportion women\n- `employed` Number employed (ESR == 1 or 2)\n- `employed_fulltime` Employed 35 hours or more\n- `employed_parttime` Employed less than 35 hours\n- `employed_fulltime_yearround` Employed at least 50 weeks (WKW == 1) and at least 35 hours (WKHP >= 35)\n- `unemployed` Number unemployed (ESR == 3)\n- `unemployment_rate` Unemployed / (Unemployed + Employed)\n- `p25th` 25th percentile of earnings\n- `median` Median earnings of full-time, year-round workers\n- `p75th` 75th percentile of earnings\n- `college_jobs` Number with job requiring a college degree\n- `non_college_jobs` Number with job not requiring a college degree\n- `low_wage_jobs` Number in low-wage service jobs"
    },
    {
      "cell_type": "markdown",
      "metadata": {
        "cell_id": "0cafe5b3bfeb4c4ab44be26863535460",
        "deepnote_cell_height": 115.9375,
        "deepnote_cell_type": "markdown",
        "tags": []
      },
      "source": "<div class=\"alert alert-block alert-success\">\n\n### 2 - Approximate Time:  8-10 mins\n\n</div>"
    },
    {
      "cell_type": "markdown",
      "metadata": {
        "cell_id": "06c8b7ee1daa4d70a0fe4402b42ef457",
        "deepnote_cell_height": 91.75,
        "deepnote_cell_type": "markdown"
      },
      "source": "2. Try print out the names of all the majors. Which one(s) are interesting to you? Do you already have a major in mind? Do you see it in the list?"
    },
    {
      "cell_type": "code",
      "execution_count": null,
      "metadata": {
        "cell_id": "bae35c41d51e4dfdac75d5bc51b5874a",
        "deepnote_cell_height": 78.953125,
        "deepnote_cell_type": "code",
        "output_cleared": true,
        "tags": [],
        "trusted": true
      },
      "outputs": [],
      "source": "# Print out all the majors\ncollege_recent_grads$major"
    },
    {
      "cell_type": "markdown",
      "metadata": {
        "cell_id": "d61106141d1e468b902065a3b47ee8d6",
        "deepnote_cell_height": 115.9375,
        "deepnote_cell_type": "markdown",
        "tags": []
      },
      "source": "<div class=\"alert alert-block alert-success\">\n\n### 3 - Approximate Time:  8-10 mins\n\n</div>"
    },
    {
      "cell_type": "markdown",
      "metadata": {
        "cell_id": "f89773d1d5f34826af25611980ed323f",
        "deepnote_cell_height": 91.75,
        "deepnote_cell_type": "markdown"
      },
      "source": "3. What does this bit of code do? Modify it to look up information for one major you are interested in. Did you find out anything interesting about that major?"
    },
    {
      "cell_type": "code",
      "execution_count": null,
      "metadata": {
        "cell_id": "1c50309d2add4ad9a751c73b88ad9cce",
        "deepnote_cell_height": 222.890625,
        "deepnote_cell_type": "code",
        "deepnote_output_heights": [
          130.9375
        ],
        "trusted": true
      },
      "outputs": [],
      "source": "filter(college_recent_grads, major == \"Court Reporting\")"
    },
    {
      "cell_type": "markdown",
      "metadata": {
        "cell_id": "6fac26a83b994347a9fec1ce0d8fbb74",
        "deepnote_cell_height": 199.515625,
        "deepnote_cell_type": "markdown",
        "tags": []
      },
      "source": "<div class=\"alert alert-block alert-warning\">\n\n**Sample Response**\n\nThe code filters in only a single major of interest (Court Reporting).\n\nChange `\"Court Reporting\"` within the code to the name of the major you are interested in to look at that row of information.\n\n</div>"
    },
    {
      "cell_type": "markdown",
      "metadata": {
        "cell_id": "3bad5db6a76f44d1b5f4a4de1e48eacc",
        "deepnote_cell_height": 115.9375,
        "deepnote_cell_type": "markdown",
        "tags": []
      },
      "source": "<div class=\"alert alert-block alert-success\">\n\n### 4 - Approximate Time:  10-15 mins\n\n</div>"
    },
    {
      "cell_type": "markdown",
      "metadata": {
        "cell_id": "9dbc9186755144648cd5edcf9ce6634f",
        "deepnote_cell_height": 114.140625,
        "deepnote_cell_type": "markdown"
      },
      "source": "4. Out of the variables in `college_recent_grads`, which is the variable you are most interested in maximizing when trying to pick a major? What are the top 10 majors for that variable? Do you see any common themes?"
    },
    {
      "cell_type": "code",
      "execution_count": null,
      "metadata": {
        "cell_id": "bd8937b57fde478090d8ab091f37accc",
        "deepnote_cell_height": 101.953125,
        "deepnote_cell_type": "code",
        "output_cleared": true,
        "tags": [],
        "trusted": true
      },
      "outputs": [],
      "source": "# If the most important factor to maximize for picking a major is a high pay rate\n# this is one way to check the top 10 majors for that variable\nhead(arrange(college_recent_grads, desc(p75th)), 10)"
    },
    {
      "cell_type": "markdown",
      "metadata": {
        "cell_id": "77c89a971a794a1fad2909627357891a",
        "deepnote_cell_height": 244.296875,
        "deepnote_cell_type": "markdown",
        "tags": []
      },
      "source": "<div class=\"alert alert-block alert-warning\">\n\n**Sample Response**\n\nFor this example, there are a lot of majors invovled in Engineering with high pay rates.\n\nNote that students may need help processing the idea of \"minimizing\" and \"maximizing\" on a variable. You may want to give examples such as: \"Would it be a good thing if unemployment_rate was high? Ah, that's a variable we may want to minimize when judging majors.\"\n\n</div>"
    },
    {
      "cell_type": "markdown",
      "metadata": {
        "cell_id": "bdd3334990a64707af1a1a442ed79732",
        "deepnote_cell_height": 115.9375,
        "deepnote_cell_type": "markdown",
        "tags": []
      },
      "source": "<div class=\"alert alert-block alert-success\">\n\n### 5 - Approximate Time:  8-10 mins\n\n</div>"
    },
    {
      "cell_type": "markdown",
      "metadata": {
        "cell_id": "9f652edb27d942f8992c5a51b430bbd1",
        "deepnote_cell_height": 114.140625,
        "deepnote_cell_type": "markdown",
        "tags": []
      },
      "source": "5. Out of the variables in `college_recent_grads`, which is the variable you are most interested in **minimizing** when trying to pick a major? What are the 10 majors that are lowest on that variable? Do you see any common themes?"
    },
    {
      "cell_type": "code",
      "execution_count": null,
      "metadata": {
        "cell_id": "b3f66acac6b44f8abf0c7f62f2552c21",
        "deepnote_cell_height": 101.953125,
        "deepnote_cell_type": "code",
        "tags": [],
        "trusted": true
      },
      "outputs": [],
      "source": "# If the most important factor to minimize for picking a major is a low unemployment rate\n# this is one way to check the lowest 10 majors for that variable\nhead(arrange(college_recent_grads, unemployment_rate), 10)"
    },
    {
      "cell_type": "markdown",
      "metadata": {
        "cell_id": "d8a3310bccc341f4b4d1fb47cbfa335d",
        "deepnote_cell_height": 163.125,
        "deepnote_cell_type": "markdown",
        "tags": []
      },
      "source": "<div class=\"alert alert-block alert-warning\">\n\n**Sample Response**\n\nFor this example, there are a lot of majors invovled in Ag & Natural Resources, Education, and Engineering with low unemployment rates.\n\n</div>"
    },
    {
      "cell_type": "markdown",
      "metadata": {
        "cell_id": "69672cb7889f4a0e9da54bdab47c7c84",
        "deepnote_cell_height": 115.9375,
        "deepnote_cell_type": "markdown",
        "tags": []
      },
      "source": "<div class=\"alert alert-block alert-success\">\n\n### 6 - Approximate Time:  8-10 mins\n\n</div>"
    },
    {
      "cell_type": "markdown",
      "metadata": {
        "cell_id": "3c7146e6d5734f19a8e8e1b9770dceba",
        "deepnote_cell_height": 69.359375,
        "deepnote_cell_type": "markdown",
        "tags": []
      },
      "source": "6. How many majors graduate more women than men?"
    },
    {
      "cell_type": "code",
      "execution_count": null,
      "metadata": {
        "cell_id": "a23b16e95e3143c5b1f30b4e65716ec0",
        "deepnote_cell_height": 78.953125,
        "deepnote_cell_type": "code",
        "output_cleared": true,
        "tags": [],
        "trusted": true
      },
      "outputs": [],
      "source": "# One way to figure out the number of majors that graduate more women than men\ntally(~women > men, college_recent_grads)"
    },
    {
      "cell_type": "markdown",
      "metadata": {
        "cell_id": "b8896de81ccb40f3844bf277393bf19e",
        "deepnote_cell_height": 163.125,
        "deepnote_cell_type": "markdown",
        "tags": []
      },
      "source": "<div class=\"alert alert-block alert-warning\">\n\n**Note to Instructors**\n\nYou may want to walk them through this first example, then ask them to transfer it to the next question.\n\n</div>"
    },
    {
      "cell_type": "markdown",
      "metadata": {
        "cell_id": "91553ac493d34c83b2fd966ff22e58fd",
        "deepnote_cell_height": 69.359375,
        "deepnote_cell_type": "markdown",
        "tags": []
      },
      "source": "7. How many majors have more employed than unemployeed recent graduates?"
    },
    {
      "cell_type": "code",
      "execution_count": null,
      "metadata": {
        "cell_id": "37b4ef6302f440bdb5ffc11e3def59fd",
        "deepnote_cell_height": 83.953125,
        "deepnote_cell_type": "code",
        "tags": [],
        "trusted": true
      },
      "outputs": [],
      "source": "# One way to figure out the number of majors that have more employed than unemployed graduates\ntally(~employed > unemployed, college_recent_grads)"
    },
    {
      "cell_type": "markdown",
      "metadata": {
        "cell_id": "54231d891699405a9f234b641270a566",
        "deepnote_cell_height": 91.75,
        "deepnote_cell_type": "markdown",
        "tags": []
      },
      "source": "8. Summarize some of the interesting findings you discovered while exploring this dataset. Has any of the information impacted which majors you are interested in?"
    }
  ],
  "metadata": {
    "deepnote_notebook_id": "c66621469cf8484aa85f32705efd5afa",
    "kernelspec": {
      "display_name": "R",
      "language": "R",
      "name": "ir"
    },
    "language_info": {
      "codemirror_mode": "r",
      "file_extension": ".r",
      "mimetype": "text/x-r-source",
      "name": "R",
      "pygments_lexer": "r",
      "version": "4.3.3"
    },
    "nbsimplegrader": {
      "publish_config": {
        "classes": [],
        "options": [],
        "tools": []
      }
    }
  },
  "nbformat": 4,
  "nbformat_minor": 1
}