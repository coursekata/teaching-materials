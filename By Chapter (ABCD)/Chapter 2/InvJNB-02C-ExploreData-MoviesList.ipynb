{
  "cells": [
    {
      "cell_type": "markdown",
      "metadata": {
        "cell_id": "a680712b442b4a6596443e42d8e0eb8a",
        "deepnote_cell_height": 81.953125,
        "deepnote_cell_type": "markdown",
        "tags": []
      },
      "source": "# 2C: Movies List \n"
    },
    {
      "cell_type": "code",
      "execution_count": null,
      "metadata": {
        "cell_id": "fda6f99603aa485aba5a2350d6f7775c",
        "deepnote_cell_height": 258.953125,
        "deepnote_cell_type": "code",
        "execution_context_id": "e6ced911-9afd-46b6-8cbd-02bfb9f3bacc",
        "execution_millis": 2999,
        "execution_start": 1737142230247,
        "output_cleared": false,
        "source_hash": "33859843",
        "trusted": true
      },
      "outputs": [],
      "source": "# This code will load the R packages we will use\nsuppressPackageStartupMessages({\n    library(coursekata)\n})\n\nfont_size = function (size) {\n    theme(text = element_text(size = size))}\n\nmovieslist <- read.csv(\"https://docs.google.com/spreadsheets/d/e/2PACX-1vQ1dIe9iBIqV1qfj1y7JanIS6FIdsrAvpBVozjpjkAG4aT4zLW8fCKMucB20Mtc-58M1o4SX0u3PQep/pub?gid=1087672819&single=true&output=csv\", header = TRUE) "
    },
    {
      "cell_type": "markdown",
      "metadata": {
        "cell_id": "77cf9b4313bb46c0a53fe8e221dbf633",
        "deepnote_cell_height": 97.140625,
        "deepnote_cell_type": "markdown"
      },
      "source": "Let’s start with a data set called `movieslist`. This dataset contains data on a selection of movies listed on the website \"The Movie Database\". What would happen if we typed in `head(movieslist)`?"
    },
    {
      "cell_type": "markdown",
      "metadata": {
        "cell_id": "03e57682214148f589e7169b13907b16",
        "deepnote_cell_height": 91.75,
        "deepnote_cell_type": "markdown"
      },
      "source": "1. What’s in this data? What is this data about? (For now, let’s try to figure out as much as we can just by trying to look at the data using R.)"
    },
    {
      "cell_type": "code",
      "execution_count": null,
      "metadata": {
        "cell_id": "0ad09d1bd7944a73879d10c5a3201b05",
        "deepnote_cell_height": 60.953125,
        "deepnote_cell_type": "code",
        "scrolled": true,
        "trusted": true
      },
      "outputs": [],
      "source": "# Write some code here."
    },
    {
      "cell_type": "markdown",
      "metadata": {
        "cell_id": "c4a9882878fc43b68bf72a762c089157",
        "deepnote_cell_height": 74.75,
        "deepnote_cell_type": "markdown",
        "tags": []
      },
      "source": "If you want to check any of your ideas about this data, feel free to view the documentation [here](https://docs.google.com/document/d/e/2PACX-1vQXQJ1TA0s6jSBezayTc7tvkkNcylDWzCFRls_cC1TERT9ds8XWx3PEt0nXyPdfyQsERzXuJO-yHrWn/pub)  at any time to find out more!"
    },
    {
      "cell_type": "markdown",
      "metadata": {
        "cell_id": "016f81ed0697413d92c4cd9ddfba0623",
        "deepnote_cell_height": 69.359375,
        "deepnote_cell_type": "markdown"
      },
      "source": "2. Just out of curiosity, how many movies are in this dataset?"
    },
    {
      "cell_type": "code",
      "execution_count": null,
      "metadata": {
        "cell_id": "8b74187567a14f35ab071364ab9e6cde",
        "deepnote_cell_height": 60.953125,
        "deepnote_cell_type": "code",
        "trusted": true
      },
      "outputs": [],
      "source": "# Write some code here."
    },
    {
      "cell_type": "markdown",
      "metadata": {
        "cell_id": "8ad19cc50f4845c788e59323461a920a",
        "deepnote_cell_height": 69.359375,
        "deepnote_cell_type": "markdown"
      },
      "source": "3. Which movie had the longest `runtime`? How long was it? What was that movie's `tmdb_user_rating`?"
    },
    {
      "cell_type": "code",
      "execution_count": null,
      "metadata": {
        "cell_id": "4e994c84d02543448e7de9f8e3a5f6de",
        "deepnote_cell_height": 60.953125,
        "deepnote_cell_type": "code",
        "trusted": true
      },
      "outputs": [],
      "source": "# Write some code here."
    },
    {
      "cell_type": "markdown",
      "metadata": {
        "cell_id": "cc184a583bc640f0beb866131f650664",
        "deepnote_cell_type": "markdown"
      },
      "source": "4. Which movie had the largest `budget`?"
    },
    {
      "cell_type": "code",
      "execution_count": null,
      "metadata": {
        "cell_id": "3eec4120a88d4f2db3977117b3ad3337",
        "deepnote_cell_type": "code",
        "trusted": true
      },
      "outputs": [],
      "source": "# Write some code here."
    },
    {
      "cell_type": "markdown",
      "metadata": {
        "cell_id": "9c3275e7c7984c6c8a9b6ab4aa1e170f",
        "deepnote_cell_type": "markdown"
      },
      "source": "5. What was the most popular month for a movie to be released? Make a prediction, then check the data! "
    },
    {
      "cell_type": "code",
      "execution_count": null,
      "metadata": {
        "cell_id": "dcb44727e2d541508c02709a8773a8a0",
        "deepnote_cell_type": "code",
        "trusted": true
      },
      "outputs": [],
      "source": "# Write some code here. "
    },
    {
      "cell_type": "markdown",
      "metadata": {
        "cell_id": "089d9be1225444089e83c0de1039a31b",
        "deepnote_cell_height": 153.53125,
        "deepnote_cell_type": "markdown"
      },
      "source": "6. What are some questions that might be interesting to explore using this data set? (No need to constrain yourselves to the stuff we can do so far…)\n\n\n- List questions here\n- and here!"
    }
  ],
  "metadata": {
    "deepnote_notebook_id": "1df2f7c83258401d94ab566fecaf9c3d",
    "kernelspec": {
      "display_name": "R",
      "language": "R",
      "name": "ir"
    },
    "language_info": {
      "codemirror_mode": "r",
      "file_extension": ".r",
      "mimetype": "text/x-r-source",
      "name": "R",
      "pygments_lexer": "r",
      "version": "4.3.3"
    },
    "nbsimplegrader": {
      "publish_config": {
        "classes": [],
        "options": [],
        "tools": []
      }
    }
  },
  "nbformat": 4,
  "nbformat_minor": 1
}