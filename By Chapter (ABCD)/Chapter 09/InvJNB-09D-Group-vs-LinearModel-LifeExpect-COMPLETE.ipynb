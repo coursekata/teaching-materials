{
  "cells": [
    {
      "cell_type": "markdown",
      "metadata": {
        "cell_id": "d98d3e90a63f4abb8bbd3fbcae7c3f5d",
        "deepnote_cell_type": "markdown",
        "output_cleared": false,
        "tags": []
      },
      "source": "<div class=\"alert alert-block alert-danger\">\n\n# 9D: Battle of the Models - COMPLETE\n\n**Use with textbook version 6.0+**\n\n**Note**: This lesson is very similar to lesson 8A, so if your students did 8A you may want to shorten it or skip this one (unless, of course, you just want them to have the extra practice!).\n    \n</div>"
    },
    {
      "cell_type": "markdown",
      "metadata": {
        "cell_id": "0aa8fc11e5c44df8bec1514c59d6776d",
        "deepnote_cell_height": 163.9375,
        "deepnote_cell_type": "markdown",
        "output_cleared": false,
        "tags": []
      },
      "source": "<div class=\"alert alert-block alert-success\">\n\n## Approximate time to complete Notebook: 55-70 Mins\n    \n</div>"
    },
    {
      "cell_type": "code",
      "execution_count": null,
      "metadata": {
        "cell_id": "80ba77788e064bec94b7cedb5abfe909",
        "deepnote_cell_height": 253.90625,
        "deepnote_cell_type": "code",
        "deepnote_to_be_reexecuted": false,
        "execution_context_id": "cce8d426-be86-4f4d-9523-c672ff1092c2",
        "execution_millis": 671,
        "execution_start": 1745017816676,
        "output_cleared": false,
        "source_hash": "7b5a0c98",
        "tags": [],
        "trusted": true
      },
      "outputs": [],
      "source": "# This code will load the R packages we will use\nsuppressPackageStartupMessages({\n    library(coursekata)\n})\n\ncsvlink<-\"https://docs.google.com/spreadsheets/d/e/2PACX-1vRVo82UG25_Gq0zYVRXUZX5U4vSVcpdFZ_Pn-U-81kACXbDEE5JJx6D41cTxbYAci0HhOJDGpfHe_5H/pub?gid=1875103213&single=true&output=csv\"\n\nHappyPlanetIndexData <- read.csv(csvlink, header = TRUE) "
    },
    {
      "cell_type": "markdown",
      "metadata": {
        "cell_id": "2ec7f3edd7cb46bdb038284fe0bff411",
        "deepnote_cell_height": 401.4375,
        "deepnote_cell_type": "markdown",
        "output_cleared": false,
        "tags": []
      },
      "source": "We'll be looking at a data set (collected in 2021) called the `HappyPlanetIndexData`. It has 147 countries and the following variables:\n\n- `Country`\tName of country\n- `Region` Comment: 1 - Latin America 2 - N America & Oceania 3-  Western Europe 4 - Middle East & N Africa 5 - Sub-Saharan Africa 6 - South Asia 7 - Eastern Europe & Central Asia 8 - East Asia\n- `Happiness` Score on a 0-10 scale for average level of happiness (10 being happiest)\n- `LifeExpectancy` Average life expectancy (in years)\n- `Footprint` Ecological footprint - a measure of the (per capita) ecological impact\n- `HPI`\tHappy Planet Index (0-100 scale) combines well-being and ecological impact\n- `HPIRank`\tHPI rank for the country\n- `GDPperCapita` Gross Domestic Product (per capita)\n- `Population` Population (in millions)"
    },
    {
      "cell_type": "markdown",
      "metadata": {
        "cell_id": "bbf3d2fe14ce4f17bba861921f91103a",
        "deepnote_cell_height": 119.53125,
        "deepnote_cell_type": "markdown",
        "output_cleared": false,
        "tags": []
      },
      "source": "Last time we explored this data we looked at how different countries vary in their happiness levels. This time, let's use the information in this data to help us think about why countries vary in their life expectancies. If we knew how \"rich\" a country was, could we explain the variation in life expectancy?"
    },
    {
      "cell_type": "markdown",
      "metadata": {
        "cell_id": "bbdcb87055fc42d0be1379886259858a",
        "deepnote_cell_height": 115.9375,
        "deepnote_cell_type": "markdown",
        "output_cleared": false,
        "tags": []
      },
      "source": "<div class=\"alert alert-block alert-success\">\n\n### 1.0 - Approximate Time: 8-10 mins\n    \n</div>"
    },
    {
      "cell_type": "markdown",
      "metadata": {
        "cell_id": "b6b75eba73a445a8874a8c504974b6db",
        "deepnote_cell_height": 69.96875,
        "deepnote_cell_type": "markdown",
        "output_cleared": false,
        "tags": []
      },
      "source": "## 1.0 - Explore Variation in Life Expectancy"
    },
    {
      "cell_type": "markdown",
      "metadata": {
        "cell_id": "962f822674244694acb00608433880d5",
        "deepnote_cell_height": 111.140625,
        "deepnote_cell_type": "markdown",
        "output_cleared": false
      },
      "source": "1.1 - Take a look at the data frame `HappyPlanetIndexData` below. What are the cases? \n\nThen take a closer look at Albania. What does the number in the `LifeExpectancy` column mean? What does the number in `GDPperCapita` mean? "
    },
    {
      "cell_type": "code",
      "execution_count": null,
      "metadata": {
        "cell_id": "f90bfec8f1744e748b20c6b024c1e0ad",
        "deepnote_cell_height": 367.859375,
        "deepnote_cell_type": "code",
        "deepnote_output_heights": [
          275.90625
        ],
        "deepnote_to_be_reexecuted": false,
        "execution_context_id": "cce8d426-be86-4f4d-9523-c672ff1092c2",
        "execution_millis": 16,
        "execution_start": 1745017821214,
        "output_cleared": false,
        "source_hash": "b7454f41",
        "trusted": true
      },
      "outputs": [],
      "source": "head(HappyPlanetIndexData)"
    },
    {
      "cell_type": "markdown",
      "metadata": {
        "cell_id": "12bb83ebc24f4a52ae719cff0497d49a",
        "deepnote_cell_height": 213.515625,
        "deepnote_cell_type": "markdown",
        "output_cleared": false,
        "tags": []
      },
      "source": "<div class=\"alert alert-block alert-warning\">\n\n**Sample Response**\n\nThe cases are countries.\n\n`LifeExpectancy` is 62, meaning the average life expectancy for Albania is 62 years.\n\n`GDPperCapita` is 1517, meaning the GDP per person is $1517 US dollars.\n\n</div>"
    },
    {
      "cell_type": "markdown",
      "metadata": {
        "cell_id": "b11f259973294c37900b5c08a1a82330",
        "deepnote_cell_height": 74.75,
        "deepnote_cell_type": "markdown",
        "output_cleared": false,
        "tags": []
      },
      "source": "1.2 - Do you think `GDPperCapita` can help us explain variation in `LifeExpectancy`? Write this idea as a word equation. "
    },
    {
      "cell_type": "markdown",
      "metadata": {
        "cell_id": "b42da4907d194b59862e16df57e60dee",
        "deepnote_cell_height": 140.71875,
        "deepnote_cell_type": "markdown",
        "output_cleared": false,
        "tags": []
      },
      "source": "<div class=\"alert alert-block alert-warning\">\n\n**Sample Response**\n\n\nLifeExpectancy = GDPperCapita + Error\n    \n</div>"
    },
    {
      "cell_type": "markdown",
      "metadata": {
        "cell_id": "a62da58139934504a6772be0e59c650e",
        "deepnote_cell_height": 74.75,
        "deepnote_cell_type": "markdown",
        "output_cleared": false,
        "tags": []
      },
      "source": "1.3 - Describe the relationship you expect to see. Will this relationship be true for every person in that country?"
    },
    {
      "cell_type": "markdown",
      "metadata": {
        "cell_id": "ce4c829f9ef8489aabb88a7f3fea2c3d",
        "deepnote_cell_height": 163.125,
        "deepnote_cell_type": "markdown",
        "output_cleared": false,
        "tags": []
      },
      "source": "<div class=\"alert alert-block alert-warning\">\n\n**Sample Response**\n\n*Students will probably say that they expect to see that as GDP goes up, life expectancy \nalso increases, but this will probably not be true for every person in the country.*\n    \n</div>"
    },
    {
      "cell_type": "markdown",
      "metadata": {
        "cell_id": "c95d327d9ca94e62b41e102e794e2391",
        "deepnote_cell_height": 52.359375,
        "deepnote_cell_type": "markdown",
        "output_cleared": false,
        "tags": []
      },
      "source": "1.4 - Explore this idea with a visualization. What do you notice?"
    },
    {
      "cell_type": "code",
      "execution_count": null,
      "metadata": {
        "cell_id": "df20bf3b65db4d119466cca62746ee1d",
        "deepnote_cell_height": 553.953125,
        "deepnote_cell_type": "code",
        "deepnote_output_heights": [
          444
        ],
        "deepnote_to_be_reexecuted": false,
        "execution_context_id": "cce8d426-be86-4f4d-9523-c672ff1092c2",
        "execution_millis": 126,
        "execution_start": 1745017302676,
        "output_cleared": false,
        "source_hash": "2a982a6a",
        "trusted": true
      },
      "outputs": [],
      "source": "# Sample scatterplot\ngf_point(LifeExpectancy ~ GDPperCapita, data = HappyPlanetIndexData)"
    },
    {
      "cell_type": "markdown",
      "metadata": {
        "cell_id": "e6d212c0eae447ebbf58e422b705f365",
        "deepnote_cell_height": 272.6875,
        "deepnote_cell_type": "markdown",
        "output_cleared": false,
        "tags": []
      },
      "source": "<div class=\"alert alert-block alert-warning\">\n\n**Sample Response**\n\nSome things students may notice:\n\n- The data are curved\n- There are a bunch of countries bunched up around zero GDP and they range from 50 to about 70 years old.\n- Around the 70 year mark, the data starts to curve, and the countries above about 10000 GDP tend to range from 65-85 years old.\n    \n</div>"
    },
    {
      "cell_type": "markdown",
      "metadata": {
        "cell_id": "60b5b42786b74e2fb585845f608f4261",
        "deepnote_cell_height": 115.9375,
        "deepnote_cell_type": "markdown",
        "output_cleared": false,
        "tags": []
      },
      "source": "<div class=\"alert alert-block alert-success\">\n\n### 2.0 - Approximate Time: 5-8 mins\n    \n</div>"
    },
    {
      "cell_type": "markdown",
      "metadata": {
        "cell_id": "604e751a2f364f26b3a890afeee2e446",
        "deepnote_cell_height": 69.96875,
        "deepnote_cell_type": "markdown",
        "output_cleared": false,
        "tags": []
      },
      "source": "## 2.0 - Three Different Models"
    },
    {
      "cell_type": "markdown",
      "metadata": {
        "cell_id": "9892912ae223467f8fb921830a91b30a",
        "deepnote_cell_height": 97.140625,
        "deepnote_cell_type": "markdown",
        "output_cleared": false,
        "tags": []
      },
      "source": "2.1 - In the previous chapter, we learned about group models (models that predict how one group might have a different outcome than another group). Can we create a group model of this hypothesis? Why or why not? "
    },
    {
      "cell_type": "markdown",
      "metadata": {
        "cell_id": "ed9f0347c46e491096af82e8074ec735",
        "deepnote_cell_height": 140.71875,
        "deepnote_cell_type": "markdown",
        "output_cleared": false,
        "tags": []
      },
      "source": "<div class=\"alert alert-block alert-warning\">\n\n**Sample Response**\n\nYes, we can if we create groups out of `GDPperCapita` using `ntile()`.\n    \n</div>"
    },
    {
      "cell_type": "markdown",
      "metadata": {
        "cell_id": "811a3124874b498586a2e1e857687014",
        "deepnote_cell_height": 197.921875,
        "deepnote_cell_type": "markdown",
        "output_cleared": false,
        "tags": []
      },
      "source": "2.2 - We will split up into different groups to look at three different models.\n\nModel 1: **LifeExp = GDPperCapita + Error**\n\nModel 2: **LifeExp = GDP2group + Error**\n\nModel 3: **LifeExp = GDP3group + Error**\n\nHaving looked at the visualization -- which model will explain the most error? Why?"
    },
    {
      "cell_type": "markdown",
      "metadata": {
        "cell_id": "00d88ed8ebcc4d8ea89ede04f7892d50",
        "deepnote_cell_height": 230.296875,
        "deepnote_cell_type": "markdown",
        "output_cleared": false,
        "tags": []
      },
      "source": "<div class=\"alert alert-block alert-warning\">\n\n**Sample Response**\n\nStudents may think that the continuous model (GDPperCapita) will be best because it is not \"changing\" the data and uses \"all\" the data. They may also have reasons to believe that the 2-group model is best because it looks like the data is split, or they may say the 3-group model is best because they can see that the mid-section of the data does not have a clear cut point to split the data for just 2 groups.\n    \n</div>"
    },
    {
      "cell_type": "markdown",
      "metadata": {
        "cell_id": "71364c6f4aa947d9a1f32496258f609d",
        "deepnote_cell_height": 115.9375,
        "deepnote_cell_type": "markdown",
        "output_cleared": false,
        "tags": []
      },
      "source": "<div class=\"alert alert-block alert-success\">\n\n### 3.0 - Approximate Time: 12-15 mins\n    \n</div>"
    },
    {
      "cell_type": "markdown",
      "metadata": {
        "cell_id": "2ec7c5da30a3489985919c7158b7528b",
        "deepnote_cell_height": 69.96875,
        "deepnote_cell_type": "markdown",
        "output_cleared": false
      },
      "source": "## 3.0 - Model 1: LifeExp = GDPperCapita + Error"
    },
    {
      "cell_type": "markdown",
      "metadata": {
        "cell_id": "25efc604e266428e92df3d41f2bd399a",
        "deepnote_cell_height": 111.140625,
        "deepnote_cell_type": "markdown",
        "output_cleared": false
      },
      "source": "As a group, find the best fitting model. Interpret the best fitting numbers. Create a visualization that includes your model predictions. \n\nHow much error did your model \"explain\"?"
    },
    {
      "cell_type": "code",
      "execution_count": null,
      "metadata": {
        "cell_id": "fdab06bc33404c6f936c0499ce86fd05",
        "deepnote_cell_height": 1105.1875,
        "deepnote_cell_type": "code",
        "deepnote_output_heights": [
          135.421875,
          173.828125,
          444
        ],
        "deepnote_to_be_reexecuted": false,
        "execution_context_id": "cce8d426-be86-4f4d-9523-c672ff1092c2",
        "execution_millis": 322,
        "execution_start": 1745017363706,
        "output_cleared": false,
        "source_hash": "6d9962de",
        "trusted": true
      },
      "outputs": [],
      "source": "# (Completed code)\n# Here we have started some code to help you generate \n# and plot your model predictions\n\nGDP_model <- lm(LifeExpectancy ~ GDPperCapita, data = HappyPlanetIndexData)\nGDP_model\nHappyPlanetIndexData$GDP_predict <- predict(GDP_model)\n\ngf_jitter(LifeExpectancy ~ GDPperCapita, data = HappyPlanetIndexData) %>%\ngf_jitter(GDP_predict ~ GDPperCapita, color = \"darkorange\", height = 0)\n\nsupernova(GDP_model)"
    },
    {
      "cell_type": "markdown",
      "metadata": {
        "cell_id": "20ce80b7f51e44ccb939a0a7bbef9235",
        "deepnote_cell_height": 295.3125,
        "deepnote_cell_type": "markdown",
        "output_cleared": false,
        "tags": []
      },
      "source": "<div class=\"alert alert-block alert-warning\">\n\n**Sample Response**\n\n$LifeExpectancy_i = 66.19 + .0003(GDPperCapita_i) + e_i$\n\nThe $b_0$ estimate tells us that a country's average life expectancy is about 66 years when their GDP is zero, and for every \\$1 increase in GDP, $b_1$ tells us that life expectancy goes up by .0003 years.\n\nThis model explains about 55 percent of the variation in Life Expectancy.\n\n</div>"
    },
    {
      "cell_type": "markdown",
      "metadata": {
        "cell_id": "57111750b03c443cba877a2a0d90da01",
        "deepnote_cell_height": 115.9375,
        "deepnote_cell_type": "markdown",
        "tags": []
      },
      "source": "<div class=\"alert alert-block alert-success\">\n\n### 4.0 - Approximate Time: 12-15 mins\n    \n</div>"
    },
    {
      "cell_type": "markdown",
      "metadata": {
        "cell_id": "b28d95e744074293b9bc514e44e27898",
        "deepnote_cell_height": 69.96875,
        "deepnote_cell_type": "markdown",
        "output_cleared": false
      },
      "source": "## 4.0 - Model 2: LifeExp = GDP2 + Error"
    },
    {
      "cell_type": "markdown",
      "metadata": {
        "cell_id": "0c21267a29a849879e960b5eb8c59a0c",
        "deepnote_cell_height": 74.75,
        "deepnote_cell_type": "markdown",
        "output_cleared": false
      },
      "source": "Here we have created a two group variable for you using `ntile()`. We have also included a visualization for you."
    },
    {
      "cell_type": "code",
      "execution_count": null,
      "metadata": {
        "cell_id": "6e429355c92b4b1b811ce7a3f75618ac",
        "deepnote_cell_height": 594.96875,
        "deepnote_cell_type": "code",
        "deepnote_output_heights": [
          444.015625
        ],
        "deepnote_to_be_reexecuted": false,
        "execution_context_id": "cce8d426-be86-4f4d-9523-c672ff1092c2",
        "execution_millis": 143,
        "execution_start": 1745018374806,
        "output_cleared": false,
        "source_hash": "50dfb316",
        "tags": [],
        "trusted": true
      },
      "outputs": [],
      "source": "HappyPlanetIndexData$GDP2 <- ntile(HappyPlanetIndexData$GDPperCapita, 2)\nHappyPlanetIndexData$GDP2 <- factor(HappyPlanetIndexData$GDP2, levels = c(1,2), labels = c(\"low GDP\", \"high GDP\"))\n\ngf_jitter(LifeExpectancy ~ GDP2, data = HappyPlanetIndexData, color = ~GDP2) "
    },
    {
      "cell_type": "markdown",
      "metadata": {
        "cell_id": "aa214ebaabf049028375181552db095d",
        "deepnote_cell_height": 111.140625,
        "deepnote_cell_type": "markdown",
        "output_cleared": false
      },
      "source": "As a group, find the best fitting model. Interpret the best fitting numbers. Create a visualization that includes your model predictions. \n\nHow much error did your model \"explain\"?"
    },
    {
      "cell_type": "code",
      "execution_count": null,
      "metadata": {
        "cell_id": "c6b0f06c4232490882260a582b809d34",
        "deepnote_cell_height": 1105.203125,
        "deepnote_cell_type": "code",
        "deepnote_output_heights": [
          135.421875,
          173.828125,
          444.015625
        ],
        "deepnote_to_be_reexecuted": false,
        "execution_context_id": "cce8d426-be86-4f4d-9523-c672ff1092c2",
        "execution_millis": 123,
        "execution_start": 1745018534656,
        "output_cleared": false,
        "source_hash": "5907c337",
        "trusted": true
      },
      "outputs": [],
      "source": "# (Complete code)\n# Here we have started some code to help you generate \n# and plot your model predictions\n\nGDP2_model <- lm(LifeExpectancy ~ GDP2, data = HappyPlanetIndexData)\nGDP2_model\nHappyPlanetIndexData$GDP2_predict <- predict(GDP2_model)\n\ngf_jitter(LifeExpectancy ~ GDP2, data = HappyPlanetIndexData) %>%\ngf_jitter(GDP2_predict ~ GDP2, color = \"darkorange\", height = 0)\n\nsupernova(GDP2_model)"
    },
    {
      "cell_type": "markdown",
      "metadata": {
        "cell_id": "161374bc950c478785a8c17575cfe32a",
        "deepnote_cell_height": 295.3125,
        "deepnote_cell_type": "markdown",
        "tags": []
      },
      "source": "<div class=\"alert alert-block alert-warning\">\n\n\n**Sample Response**\n\nThe best fitting model is: \n\n$LifeExpectancy_i = 66.31 + 11.41(GDP2_i) + e_i$\n\nThe $b_0$ estimate tells us that a country's average life expectancy is about 66 years when they are in the low GDP group, and $b_1$ tells us that we add 11.41 years to 61.05 if the country is in the high GDP group.\n\nThis model explains about 52% of the variation in Life Expectancy.\n    \n</div>"
    },
    {
      "cell_type": "markdown",
      "metadata": {
        "cell_id": "67078b565f17489791b07393a74eadc6",
        "deepnote_cell_height": 115.9375,
        "deepnote_cell_type": "markdown",
        "tags": []
      },
      "source": "<div class=\"alert alert-block alert-success\">\n\n### 5.0 - Approximate Time: 12-15 mins\n    \n</div>"
    },
    {
      "cell_type": "markdown",
      "metadata": {
        "cell_id": "93ca742011d24f95bf59e293797029e9",
        "deepnote_cell_height": 69.96875,
        "deepnote_cell_type": "markdown",
        "output_cleared": false,
        "tags": []
      },
      "source": "## 5.0 - Model 3: LifeExp = GDP3 + Error"
    },
    {
      "cell_type": "markdown",
      "metadata": {
        "cell_id": "50389ec0e95948e1a88e936446f891ca",
        "deepnote_cell_height": 74.75,
        "deepnote_cell_type": "markdown",
        "output_cleared": false,
        "tags": []
      },
      "source": "Here we have created a three group variable for you using `ntile()`. We have also included a visualization for you."
    },
    {
      "cell_type": "code",
      "execution_count": null,
      "metadata": {
        "cell_id": "c535f0df33d14ab4a48118a99a1a3d0a",
        "deepnote_cell_height": 594.96875,
        "deepnote_cell_type": "code",
        "deepnote_output_heights": [
          444.015625
        ],
        "deepnote_to_be_reexecuted": false,
        "execution_context_id": "cce8d426-be86-4f4d-9523-c672ff1092c2",
        "execution_millis": 223,
        "execution_start": 1745018559566,
        "output_cleared": false,
        "source_hash": "c3bbc9ff",
        "trusted": true
      },
      "outputs": [],
      "source": "HappyPlanetIndexData$GDP3 <- ntile(HappyPlanetIndexData$GDPperCapita, 3)\nHappyPlanetIndexData$GDP3 <- factor(HappyPlanetIndexData$GDP3, levels = c(1,2,3), labels = c(\"low GDP\", \"medium GDP\", \"high GDP\"))\n\ngf_jitter(LifeExpectancy ~ GDP3, data = HappyPlanetIndexData, color = ~GDP3) "
    },
    {
      "cell_type": "markdown",
      "metadata": {
        "cell_id": "d249dc122afe4185b46bf1296f91e742",
        "deepnote_cell_height": 111.140625,
        "deepnote_cell_type": "markdown",
        "output_cleared": false
      },
      "source": "As a group, find the best fitting model. Interpret the best fitting numbers. Create a visualization that includes your model predictions. \n\nHow much error did your model \"explain\"?"
    },
    {
      "cell_type": "code",
      "execution_count": null,
      "metadata": {
        "cell_id": "f9663fde3dfd41c58095a197ab6094e3",
        "deepnote_cell_height": 1050.78125,
        "deepnote_cell_type": "code",
        "deepnote_output_heights": [
          135,
          173.828125,
          444.015625
        ],
        "deepnote_to_be_reexecuted": false,
        "execution_context_id": "cce8d426-be86-4f4d-9523-c672ff1092c2",
        "execution_millis": 182,
        "execution_start": 1745018564282,
        "output_cleared": false,
        "source_hash": "6bb1c4ff",
        "tags": [],
        "trusted": true
      },
      "outputs": [],
      "source": "# (Completed code)\nGDP3_model <- lm(LifeExpectancy ~ GDP3, data = HappyPlanetIndexData)\nGDP3_model\nHappyPlanetIndexData$GDP3_predict <- predict(GDP3_model)\n\ngf_jitter(LifeExpectancy ~ GDP3, data = HappyPlanetIndexData) %>%\ngf_jitter(GDP3_predict ~ GDP3, color = \"darkorange\", height = 0)\n\nsupernova(GDP3_model)"
    },
    {
      "cell_type": "markdown",
      "metadata": {
        "cell_id": "89d9bfbb9b8a45d0b1a3753058907b22",
        "deepnote_cell_height": 317.90625,
        "deepnote_cell_type": "markdown",
        "tags": []
      },
      "source": "<div class=\"alert alert-block alert-warning\">\n\n**Sample Response**\n\nThe best fitting model is: \n\n$LifeExpectancy_i = 64.01 + 8.18(GDP3_i) + 15.72(GDP3_i) + e_i$\n\nThe $b_0$ estimate tells us that a country's average life expectancy is about 64.01 years when they are in the low GDP group, and $b_1$ tells us that we add 8.18 years to 64.01 if the country is in the medium GDP group, and $b_2$ tells us that we add 15.72 years to 64.01 if the country is in the high GDP group.\n\n\nThis model explains about 66% of the variation in Life Expectancy.\n    \n</div>"
    },
    {
      "cell_type": "markdown",
      "metadata": {
        "cell_id": "1ecb6863b3fa4a1fa8a54fb58c2be051",
        "deepnote_cell_height": 115.9375,
        "deepnote_cell_type": "markdown",
        "tags": []
      },
      "source": "<div class=\"alert alert-block alert-success\">\n\n### 6.0 - Approximate Time: 5-8 mins\n    \n    \n    \n</div>"
    },
    {
      "cell_type": "markdown",
      "metadata": {
        "cell_id": "a5aa7213394443c8a2626d0a1af60259",
        "deepnote_cell_height": 69.96875,
        "deepnote_cell_type": "markdown",
        "output_cleared": false
      },
      "source": "## 6.0 - Back Together Again"
    },
    {
      "cell_type": "markdown",
      "metadata": {
        "cell_id": "034f0216aee14d69be9d7a236fc90ad2",
        "deepnote_cell_height": 74.75,
        "deepnote_cell_type": "markdown",
        "output_cleared": false,
        "tags": []
      },
      "source": "6.1 - What do you want to know from the other groups to evaluate which model was \"best\"? Which was best? "
    },
    {
      "cell_type": "markdown",
      "metadata": {
        "cell_id": "39a708afde2a422a9e2fa46fc76c2a6a",
        "deepnote_cell_height": 221.90625,
        "deepnote_cell_type": "markdown",
        "tags": []
      },
      "source": "<div class=\"alert alert-block alert-warning\">\n\n**Sample Response**\n\nYou will want to know their PRE (or their total SS and model SS) to evaluate which one is \"best\".\n\nIn this case, the 3-group model was the best because it had the highest PRE, and the 2-group model was the worst (by a few %).\n    \n</div>"
    },
    {
      "cell_type": "markdown",
      "metadata": {
        "cell_id": "ace51102bef94542a21bb5e22ae7482c",
        "deepnote_cell_height": 52.359375,
        "deepnote_cell_type": "markdown",
        "output_cleared": false
      },
      "source": "6.2 - Are you surprised? Why or why not?"
    },
    {
      "cell_type": "markdown",
      "metadata": {
        "cell_id": "c4d2365f1b5940fa9357cea29b01e386",
        "deepnote_cell_height": 163.125,
        "deepnote_cell_type": "markdown",
        "tags": []
      },
      "source": "<div class=\"alert alert-block alert-warning\">\n\n**Sample Response**\n\nStudents may be surprised that the two group model was not better than the continuous model.\n    \n</div>"
    },
    {
      "cell_type": "markdown",
      "metadata": {
        "cell_id": "79f0d06417cd403cb5b8483cfb79e6c4",
        "deepnote_cell_height": 52.359375,
        "deepnote_cell_type": "markdown",
        "output_cleared": false
      },
      "source": "6.3 - Why is SS Total the same for all three models?"
    },
    {
      "cell_type": "markdown",
      "metadata": {
        "cell_id": "4f310873572b4a769a042fdd4cd569fd",
        "deepnote_cell_height": 185.515625,
        "deepnote_cell_type": "markdown",
        "tags": []
      },
      "source": "<div class=\"alert alert-block alert-warning\">\n\n**Sample Response**\n\nThe SS Total is the same because the outcome variable (`LifeExpectancy`) is the same for all of the models, and SS Total measures the total sum of squares around our empty model for our outcome variable.\n    \n</div>"
    }
  ],
  "metadata": {
    "deepnote_notebook_id": "187a21934e74409398c5ed438a857729",
    "kernelspec": {
      "display_name": "R",
      "language": "R",
      "name": "ir"
    },
    "language_info": {
      "codemirror_mode": "r",
      "file_extension": ".r",
      "mimetype": "text/x-r-source",
      "name": "R",
      "pygments_lexer": "r",
      "version": "4.3.3"
    },
    "nbsimplegrader": {
      "publish_config": {
        "classes": [],
        "options": [],
        "tools": []
      }
    }
  },
  "nbformat": 4,
  "nbformat_minor": 1
}