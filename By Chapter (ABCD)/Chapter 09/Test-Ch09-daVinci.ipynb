{
  "cells": [
    {
      "cell_type": "markdown",
      "metadata": {
        "cell_id": "e89fc1fca0684d7699a7fc0bffe2bfbe",
        "deepnote_cell_type": "markdown"
      },
      "source": "# <center> Test (Ch. 1-9) - da Vinci </center> "
    },
    {
      "cell_type": "code",
      "execution_count": null,
      "metadata": {
        "cell_id": "2ca3ef0790074090a14919feac6a287c",
        "deepnote_cell_type": "code",
        "trusted": true
      },
      "outputs": [],
      "source": "# Run this code to load the required packages\nsuppressMessages(suppressWarnings(suppressPackageStartupMessages({\n  library(coursekata)\n})))"
    },
    {
      "cell_type": "markdown",
      "metadata": {
        "cell_id": "c4509966a38b4b7aa7c68d7bfec0f661",
        "deepnote_cell_type": "markdown"
      },
      "source": "Leonardo da Vinci was a scientist and artist who combined these skills to draft extensive instructions for other artists on how to proportion the human body in painting and sculpture. One of Leonardo’s rules was that the height be equal to the span of the outstretched arms (another way to say it is that height = 1 x armspan). You may have seen this sketch by da Vinci:\n\n\n<center> <img src=\"https://coursekata-course-assets.s3.us-west-1.amazonaws.com/UCLATALL/czi-stats-course/jnb_33jThDLw-Test-Ch-8-da-Vinci.jpg\" title=\"Pattern 1\" width=\"300\"/> </center>\n\n\nThe following are some measurements from a sample of students who wanted to explore this idea that the height equals the armspan (use the `read.csv()` function to read the following CSV file link: https://tinyurl.com/davinci-stats). \n\nThe following variables can be found in this data frame:\n\n- `height_cm` the student’s height in cm\n- `armspan_cm`  the student’s arm span in cm\n- `kneelingheight_cm` the student’s height when kneeling in cm\n- `handlength_cm` the student’s hand length in cm\n- `hours_studied` number of hours the student studied\n- `exam_score` the student’s exam score (out of 100)\n- `height_mediansplit` median split of height_cm (short, tall)\n- `attendance` whether the student had perfect attendance (perfect, not perfect)"
    },
    {
      "cell_type": "markdown",
      "metadata": {
        "cell_id": "051ed44f97b34b1cb5b060497cd0ed6e",
        "deepnote_cell_type": "markdown"
      },
      "source": "## Question 1\n\nWhat are the cases in this data frame and how many are there?"
    },
    {
      "cell_type": "markdown",
      "metadata": {
        "cell_id": "f308a30a87af44cc90936a303daa2539",
        "deepnote_cell_type": "markdown"
      },
      "source": "## Question 2\n\nExplore the variation in `height_cm` with a histogram."
    },
    {
      "cell_type": "markdown",
      "metadata": {
        "cell_id": "7bcb63020fe44c239b47e0fa9ffc4454",
        "deepnote_cell_type": "markdown"
      },
      "source": "## Question 3\n\nWhat is the empty model for `height_cm`? Put it into GLM notation (with numbers)."
    },
    {
      "cell_type": "markdown",
      "metadata": {
        "cell_id": "8b5a13359a8049309ab332fe29b2525d",
        "deepnote_cell_type": "markdown"
      },
      "source": "## Question 4\n\nWhat does the standard deviation of this distribution tell us? (Interpret this number)."
    },
    {
      "cell_type": "markdown",
      "metadata": {
        "cell_id": "2a8f772f608d4e6797a336f765477f0f",
        "deepnote_cell_type": "markdown"
      },
      "source": "## Question 5\n\nEven though this is a skewed distribution, why is the mean a better model than the median?"
    },
    {
      "cell_type": "markdown",
      "metadata": {
        "cell_id": "288c14c1f634440c9b1408cc67976b6f",
        "deepnote_cell_type": "markdown"
      },
      "source": "## Question 6\n\nNow let’s try to explain the variability seen in heights by also including armspan. We will call this the `armspan_cm` model.\n\n- What is the outcome variable?\n\n- What is the explanatory variable?"
    },
    {
      "cell_type": "markdown",
      "metadata": {
        "cell_id": "b40ec969ace2496e9abfee3ca7779fe8",
        "deepnote_cell_type": "markdown"
      },
      "source": "## Question 7\n\nCreate a scatterplot for the `armspan_cm` model."
    },
    {
      "cell_type": "markdown",
      "metadata": {
        "cell_id": "6b3b380917254c449304c7cc623bed8e",
        "deepnote_cell_type": "markdown"
      },
      "source": "## Question 8\n\nPut the `armspan_cm` model into GLM notation (with numbers)."
    },
    {
      "cell_type": "markdown",
      "metadata": {
        "cell_id": "b5048ffad2ce43e38988c6de4aeefee2",
        "deepnote_cell_type": "markdown"
      },
      "source": "## Question 9\n\nInterpret *$b_0$*, the constant, and *$b_1$*, the slope."
    },
    {
      "cell_type": "markdown",
      "metadata": {
        "cell_id": "fccb8670a25143d8aca6fb7a6cc05596",
        "deepnote_cell_type": "markdown"
      },
      "source": "## Question 10\n\nBased on the model, what is the predicted height for a person with an armspan of 120 cm?"
    },
    {
      "cell_type": "markdown",
      "metadata": {
        "cell_id": "96369306d02c4ad9821fd2d99b9dfa96",
        "deepnote_cell_type": "markdown"
      },
      "source": "## Question 11\n\nWhat is the correlation coefficient (*r*) for the model? Include the strength of the relationship using \nCohen’s interpretation of effect size (none, weak, medium, or strong), and the direction of the \nrelationship (positive or negative).\n\n<u>Cohen's Effect Size Table:</u>\n\n|Strength of Relationship |     r    |\n|-------------------------|----------|\n|No relationship          |     0    |\n|Small relationship       |.10 to .29|\n|Medium relationship      |.30 to .49|\n|Large relationship       |.50 to 1.0|"
    },
    {
      "cell_type": "markdown",
      "metadata": {
        "cell_id": "44126d1256834103b010ee8767d4465a",
        "deepnote_cell_type": "markdown"
      },
      "source": "## Question 12\n\nWhat does the PRE value for this model tell us? (Interpret this number)."
    },
    {
      "cell_type": "markdown",
      "metadata": {
        "cell_id": "740e7c92dede4938b73490a8f710904f",
        "deepnote_cell_type": "markdown"
      },
      "source": "## Question 13\n\nBased on your exploration of this data set, what do you think about da Vinci’s claim? "
    }
  ],
  "metadata": {
    "deepnote_notebook_id": "b30d4aeba3c14bf7b0a967e863de40f0",
    "kernelspec": {
      "display_name": "R",
      "language": "R",
      "name": "ir"
    },
    "language_info": {
      "codemirror_mode": "r",
      "file_extension": ".r",
      "mimetype": "text/x-r-source",
      "name": "R",
      "pygments_lexer": "r",
      "version": "4.3.3"
    },
    "nbsimplegrader": {
      "publish_config": {
        "classes": [],
        "options": [],
        "tools": []
      }
    }
  },
  "nbformat": 4,
  "nbformat_minor": 1
}