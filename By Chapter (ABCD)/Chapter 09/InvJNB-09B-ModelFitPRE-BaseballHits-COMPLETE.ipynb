{
  "cells": [
    {
      "cell_type": "markdown",
      "metadata": {
        "cell_id": "16b9280bc7184edaa01523c56c8606aa",
        "deepnote_cell_type": "markdown",
        "output_cleared": false,
        "tags": []
      },
      "source": "<div class=\"alert alert-block alert-danger\">\n\n# 9B: Winning at Baseball (COMPLETE)\n\n**Use with textbook version 6.0+**\n\n**Lesson assumes students have read up through page: 9.7**\n    \n</div>"
    },
    {
      "cell_type": "markdown",
      "metadata": {
        "cell_id": "259f9e86db9643abb417d05228eccea7",
        "deepnote_cell_height": 163.9375,
        "deepnote_cell_type": "markdown",
        "output_cleared": false,
        "tags": []
      },
      "source": "<div class=\"alert alert-block alert-success\">\n\n## Approximate time to complete Notebook: 30-40 Mins\n    \n</div>"
    },
    {
      "cell_type": "code",
      "execution_count": null,
      "metadata": {
        "cell_id": "246c0ef525764d86834fedaf147ac10f",
        "deepnote_cell_type": "code",
        "deepnote_to_be_reexecuted": false,
        "execution_context_id": "6fe626cb-2cbd-4929-8581-399e220e0e11",
        "execution_millis": 2748,
        "execution_start": 1744406454916,
        "output_cleared": false,
        "owner_user_id": "23d85493-7ed1-49a4-baa7-630eaab08193",
        "source_hash": "2bbb04e0",
        "tags": [],
        "trusted": true
      },
      "outputs": [],
      "source": "# Load the CourseKata library\nsuppressPackageStartupMessages({\n    library(coursekata)\n})\n\nBaseballHits24<-read.csv(\"https://docs.google.com/spreadsheets/d/e/2PACX-1vRTmVxutHbPVOusvagG4zklgt66VzGWn80_clz0R3MYpX89WfhR_X1E3yzR1OhQZwLoeW7W0U280Mt_/pub?gid=206068915&single=true&output=csv\")\n"
    },
    {
      "cell_type": "markdown",
      "metadata": {
        "cell_id": "6c351e7585234d3b95afaa11ded03c1d",
        "deepnote_cell_height": 115.9375,
        "deepnote_cell_type": "markdown",
        "output_cleared": false,
        "tags": []
      },
      "source": "<div class=\"alert alert-block alert-success\">\n\n### 1.0 - Approximate Time: 3-5 mins\n    \n</div>"
    },
    {
      "cell_type": "markdown",
      "metadata": {
        "cell_id": "ea9a01add8274664ae1a99375e7a22a6",
        "deepnote_cell_height": 69.96875,
        "deepnote_cell_type": "markdown",
        "output_cleared": false,
        "tags": []
      },
      "source": "## 1.0 - The Data"
    },
    {
      "cell_type": "markdown",
      "metadata": {
        "cell_id": "323a22388a484184bbf36546313a365c",
        "deepnote_cell_height": 645.578125,
        "deepnote_cell_type": "markdown",
        "output_cleared": false,
        "tags": []
      },
      "source": "We are going to explore some data from a data frame called `BaseballHits24` (it's already preloaded in this notebook) to answer the question: \n\n**What does it mean for a team to be good at batting?**\n\nDoes it mean to strike out less (being better at hitting good pitches)? Or is it more important to be better at judging whether a pitch is worth swinging at or not (getting more walks)?\n\nIn the `BaseballHits24` data frame you will find the following:\n\nA dataset with 30 observations on the following 14 variables from the 2024 Major League Baseball regular season.\n\n- `Team` Name of baseball team\n- `League` Either AL (American League) or NL (National League)\n- `Wins` Number of wins for the season\n- `Runs` Number of runs scored\n- `Hits` Number of hits\n- `Doubles` Number of doubles\n- `Triples` Number of triples\n- `HomeRuns` Number of home runs\n- `RBI` Number of runs batted in\n- `StolenBases` Number of stolen bases\n- `CaughtStealing` Number of times caught stealing\n- `Walks` Number of walks\n- `Strikeouts` Number of strikeouts (for the batters, not the pitchers)\n- `BattingAvg` Team batting average"
    },
    {
      "cell_type": "markdown",
      "metadata": {
        "cell_id": "db5c701141e54abd85f9b1ba0793353e",
        "deepnote_cell_height": 52.359375,
        "deepnote_cell_type": "markdown",
        "output_cleared": false,
        "tags": []
      },
      "source": "1.1 - Take a look at the `BaseballHits24` data frame. What are the cases?"
    },
    {
      "cell_type": "code",
      "execution_count": null,
      "metadata": {
        "cell_id": "838a67bb72be40c1b97f5f6293526825",
        "deepnote_cell_type": "code",
        "execution_context_id": "6fe626cb-2cbd-4929-8581-399e220e0e11",
        "execution_millis": 34,
        "execution_start": 1744406508376,
        "output_cleared": false,
        "source_hash": "ddd9ec19",
        "tags": [],
        "trusted": true
      },
      "outputs": [],
      "source": "head(BaseballHits24)\nstr(BaseballHits24)"
    },
    {
      "cell_type": "markdown",
      "metadata": {
        "cell_id": "45a4cc95f5a545e7b5036ce92bc3d995",
        "deepnote_cell_height": 140.71875,
        "deepnote_cell_type": "markdown",
        "output_cleared": false,
        "tags": []
      },
      "source": "<div class=\"alert alert-block alert-warning\">\n\n**Sample Response**\n\nThe cases are baseball teams.\n    \n</div>"
    },
    {
      "cell_type": "markdown",
      "metadata": {
        "cell_id": "6320084fd7604d3ba3b5059e9358be3c",
        "deepnote_cell_height": 74.75,
        "deepnote_cell_type": "markdown",
        "output_cleared": false,
        "tags": []
      },
      "source": "1.2 - A good outcome variable might be `Wins`. How much do teams vary in `Wins`? How many wins is \"a lot of wins\" for a team? What's a typical number of `Wins`?"
    },
    {
      "cell_type": "code",
      "execution_count": null,
      "metadata": {
        "cell_id": "1107ea4a6791405ebd6f1d2a3200391b",
        "deepnote_cell_type": "code",
        "execution_context_id": "6fe626cb-2cbd-4929-8581-399e220e0e11",
        "execution_millis": 193,
        "execution_start": 1744407462298,
        "output_cleared": false,
        "source_hash": "59d7ad32",
        "tags": [],
        "trusted": true
      },
      "outputs": [],
      "source": "# Sample histogram with boxplot\n\ngf_histogram(~Wins, data = BaseballHits24, color = \"white\", fill = \"dodgerblue\") %>%\n    gf_boxplot(width=.25, fill = \"white\", color = \"royalblue\")"
    },
    {
      "cell_type": "markdown",
      "metadata": {
        "cell_id": "52263641788444dea28bd6fce10c66cf",
        "deepnote_cell_height": 140.71875,
        "deepnote_cell_type": "markdown",
        "output_cleared": false,
        "tags": []
      },
      "source": "<div class=\"alert alert-block alert-warning\">\n\n**Sample Response**\n\nA lot of wins would be around 95 games. A typical number of wins is about 81-82 games.\n\nNote to instructors: Students might point out the outlier in wins. The Chicago White Sox had a historically bad season, with only 41 wins. \n    \n</div>"
    },
    {
      "cell_type": "markdown",
      "metadata": {
        "cell_id": "19132fb9ef7e4736b4d32b042ae49378",
        "deepnote_cell_height": 97.140625,
        "deepnote_cell_type": "markdown",
        "output_cleared": false,
        "tags": []
      },
      "source": "1.3 - In baseball, what should a team work on: not striking out or not hitting bad pitches? For example, should teams work on swinging at good pitches or judging whether they should even swing at a pitch? Which might contribute more to `Wins`?"
    },
    {
      "cell_type": "markdown",
      "metadata": {
        "cell_id": "b5d853113ed74fd3ad3f02ffb5d560f4",
        "deepnote_cell_height": 140.71875,
        "deepnote_cell_type": "markdown",
        "output_cleared": false,
        "tags": []
      },
      "source": "<div class=\"alert alert-block alert-warning\">\n\n**Sample Response**\n\n*Opinions will vary.*\n    \n</div>"
    },
    {
      "cell_type": "markdown",
      "metadata": {
        "cell_id": "6a1503f62d5844b085d80456355ea366",
        "deepnote_cell_height": 169.921875,
        "deepnote_cell_type": "markdown",
        "output_cleared": false,
        "tags": []
      },
      "source": "We will explore two hypotheses today. \n\nThe **Strike Out** Hypothesis: having fewer `Strikeouts` (being better at hitting good pitches) matters more to `Wins`.\n\nThe **Walks** Hypothesis: more `Walks` (being better at judging whether a pitch is worth swinging at or not) matters more to `Wins`."
    },
    {
      "cell_type": "markdown",
      "metadata": {
        "cell_id": "b635f84c79ce47b7a2ca7db3b12d06e0",
        "deepnote_cell_height": 115.9375,
        "deepnote_cell_type": "markdown",
        "output_cleared": false,
        "tags": []
      },
      "source": "<div class=\"alert alert-block alert-success\">\n\n### 2.0 - Approximate Time: 5-8 mins\n    \n</div>"
    },
    {
      "cell_type": "markdown",
      "metadata": {
        "cell_id": "211b09fe9f6b4045a013e731f189e6f1",
        "deepnote_cell_height": 69.96875,
        "deepnote_cell_type": "markdown",
        "output_cleared": false,
        "tags": []
      },
      "source": "## 2.0 - The Strike Out Hypothesis"
    },
    {
      "cell_type": "markdown",
      "metadata": {
        "cell_id": "07bba033b36d441994d2be0bb042caa4",
        "deepnote_cell_height": 52.359375,
        "deepnote_cell_type": "markdown",
        "output_cleared": false,
        "tags": []
      },
      "source": "2.1 - Represent the Strike Out hypothesis with a word equation."
    },
    {
      "cell_type": "markdown",
      "metadata": {
        "cell_id": "46b57737368e4f27953825a20e9b5cd8",
        "deepnote_cell_height": 140.71875,
        "deepnote_cell_type": "markdown",
        "output_cleared": false,
        "tags": []
      },
      "source": "<div class=\"alert alert-block alert-warning\">\n\n**Sample Response**\n\nWins = Strikeouts + Other Stuff\n    \n</div>"
    },
    {
      "cell_type": "markdown",
      "metadata": {
        "cell_id": "0dbdd10588a54b2fb7eca6c8eec6f02e",
        "deepnote_cell_height": 52.359375,
        "deepnote_cell_type": "markdown",
        "output_cleared": false,
        "tags": []
      },
      "source": "2.2 - Explore the Strike Out hypothesis with a visualization. Describe the relationship you see."
    },
    {
      "cell_type": "code",
      "execution_count": null,
      "metadata": {
        "cell_id": "a86a486f8f36409dbebd7d8776f9e6e0",
        "deepnote_cell_type": "code",
        "execution_context_id": "6fe626cb-2cbd-4929-8581-399e220e0e11",
        "execution_millis": 170,
        "execution_start": 1744406548134,
        "output_cleared": false,
        "source_hash": "b7bd99a5",
        "tags": [],
        "trusted": true
      },
      "outputs": [],
      "source": "# Sample scatterplot\ngf_point(Wins ~ Strikeouts, data = BaseballHits24, color = \"dodgerblue\")"
    },
    {
      "cell_type": "markdown",
      "metadata": {
        "cell_id": "40fc7b376d434765ac2419cc9aa5286a",
        "deepnote_cell_height": 140.71875,
        "deepnote_cell_type": "markdown",
        "output_cleared": false,
        "tags": []
      },
      "source": "<div class=\"alert alert-block alert-warning\">\n\n**Sample Response**\n\nIt looks like there is a negative relationship. The more strikeouts, the fewer the wins.\n    \n</div>"
    },
    {
      "cell_type": "markdown",
      "metadata": {
        "cell_id": "de6a1fd80fcf44b7923b251ccb442a0f",
        "deepnote_cell_height": 52.359375,
        "deepnote_cell_type": "markdown",
        "output_cleared": false,
        "tags": []
      },
      "source": "2.3 - Find the best fitting model of the Strike Out hypothesis and write it in GLM notation."
    },
    {
      "cell_type": "code",
      "execution_count": null,
      "metadata": {
        "cell_id": "600cbaf09f1b4da3b16579f5dd278811",
        "deepnote_cell_type": "code",
        "execution_context_id": "6fe626cb-2cbd-4929-8581-399e220e0e11",
        "execution_millis": 18,
        "execution_start": 1744406556811,
        "output_cleared": false,
        "source_hash": "3e32fc36",
        "tags": [],
        "trusted": true
      },
      "outputs": [],
      "source": "# Fit the Strikeout model\nstrike_model <- lm(Wins ~ Strikeouts, data = BaseballHits24)\nstrike_model"
    },
    {
      "cell_type": "markdown",
      "metadata": {
        "cell_id": "ec93d0cf95664922b07b86e234bdfe07",
        "deepnote_cell_height": 140.9375,
        "deepnote_cell_type": "markdown",
        "output_cleared": false,
        "tags": []
      },
      "source": "<div class=\"alert alert-block alert-warning\">\n\n**Sample Response**\n\n$Wins_i = 121.32 + (-0.03)Strikeouts_i + e_i$\n    \n</div>"
    },
    {
      "cell_type": "markdown",
      "metadata": {
        "cell_id": "a298b68dae0d44729dd272295b5b1c97",
        "deepnote_cell_height": 74.75,
        "deepnote_cell_type": "markdown",
        "output_cleared": false,
        "tags": []
      },
      "source": "2.4 - Add the best fitting model to your visualization. Interpret the best fitting estimates using your visualization."
    },
    {
      "cell_type": "code",
      "execution_count": null,
      "metadata": {
        "cell_id": "4ec051c1a0864a468142ac8520583709",
        "deepnote_cell_type": "code",
        "execution_context_id": "6fe626cb-2cbd-4929-8581-399e220e0e11",
        "execution_millis": 184,
        "execution_start": 1744406561939,
        "output_cleared": false,
        "source_hash": "7f8ca060",
        "tags": [],
        "trusted": true
      },
      "outputs": [],
      "source": "# Sample scatterplot with the Strikeout model\ngf_point(Wins ~ Strikeouts, data = BaseballHits24, color = \"dodgerblue\") %>%\n    gf_lm(color = \"red\")"
    },
    {
      "cell_type": "markdown",
      "metadata": {
        "cell_id": "6463151ff5334b59bb88a770f45faa8b",
        "deepnote_cell_height": 222.3125,
        "deepnote_cell_type": "markdown",
        "output_cleared": false,
        "tags": []
      },
      "source": "<div class=\"alert alert-block alert-warning\">\n\n**Sample Response**\n\nThe estimate for $b_0$ is 121.32 on the y-axis and is the value for Wins when Strikeouts are zero. \n\nThe estimate for $b_1$ is how much a team's number of Wins decreases (-0.03) from that point for every additional strikeout.\n    \n</div>"
    },
    {
      "cell_type": "markdown",
      "metadata": {
        "cell_id": "32a89c7e812b468289ec3e3b1b8cd51e",
        "deepnote_cell_height": 52.359375,
        "deepnote_cell_type": "markdown",
        "output_cleared": false,
        "tags": []
      },
      "source": "2.5 - How good is this model?"
    },
    {
      "cell_type": "code",
      "execution_count": null,
      "metadata": {
        "cell_id": "029568786303471d906b9e5679cd14e6",
        "deepnote_cell_type": "code",
        "execution_context_id": "6fe626cb-2cbd-4929-8581-399e220e0e11",
        "execution_millis": 1,
        "execution_start": 1744406458816,
        "output_cleared": false,
        "source_hash": "5909fdc6",
        "tags": [],
        "trusted": true
      },
      "outputs": [],
      "source": "# Run the supernova on the Strikeout model\nsupernova(strike_model)"
    },
    {
      "cell_type": "markdown",
      "metadata": {
        "cell_id": "3701c8eb5ad84c7096de911487dc14b0",
        "deepnote_cell_height": 163.125,
        "deepnote_cell_type": "markdown",
        "output_cleared": false,
        "tags": []
      },
      "source": "<div class=\"alert alert-block alert-warning\">\n\n**Sample Response**\n\nThis model explains about 10% more variation than the empty model (if we are using PRE as a measure of \"goodness\").\n    \n</div>"
    },
    {
      "cell_type": "markdown",
      "metadata": {
        "cell_id": "b60a70b38f6a4feab35ddd0143c401bf",
        "deepnote_cell_height": 115.9375,
        "deepnote_cell_type": "markdown",
        "output_cleared": false,
        "tags": []
      },
      "source": "<div class=\"alert alert-block alert-success\">\n\n### 3.0 - Approximate Time: 5-8 mins\n    \n</div>"
    },
    {
      "cell_type": "markdown",
      "metadata": {
        "cell_id": "e03b55dcc47c480584cdd2f55c6887a9",
        "deepnote_cell_height": 69.96875,
        "deepnote_cell_type": "markdown",
        "output_cleared": false,
        "tags": []
      },
      "source": "## 3.0 - The Walks Hypothesis"
    },
    {
      "cell_type": "markdown",
      "metadata": {
        "cell_id": "8c07440c3f8249d9baecdbeea8cee2e6",
        "deepnote_cell_height": 52.359375,
        "deepnote_cell_type": "markdown",
        "output_cleared": false,
        "tags": []
      },
      "source": "3.1 - Represent the Walks hypothesis with a word equation."
    },
    {
      "cell_type": "markdown",
      "metadata": {
        "cell_id": "2ab65789a234409e80e67daa6f0c77ef",
        "deepnote_cell_height": 140.71875,
        "deepnote_cell_type": "markdown",
        "output_cleared": false,
        "tags": []
      },
      "source": "<div class=\"alert alert-block alert-warning\">\n\n**Sample Response**\n\nWins = Walks + Other Stuff\n    \n</div>"
    },
    {
      "cell_type": "markdown",
      "metadata": {
        "cell_id": "b97e5dc02c2847e6a0ad633d787e9e77",
        "deepnote_cell_height": 52.359375,
        "deepnote_cell_type": "markdown",
        "output_cleared": false,
        "tags": []
      },
      "source": "3.2 - Explore the Walks hypothesis with a visualization. Describe the relationship you see."
    },
    {
      "cell_type": "code",
      "execution_count": null,
      "metadata": {
        "cell_id": "442e83b432b44049892356bd6ebb1724",
        "deepnote_cell_type": "code",
        "execution_context_id": "6fe626cb-2cbd-4929-8581-399e220e0e11",
        "execution_millis": 118,
        "execution_start": 1744406590826,
        "output_cleared": false,
        "source_hash": "f5a3134e",
        "tags": [],
        "trusted": true
      },
      "outputs": [],
      "source": "# Sample scatterplot\ngf_point(Wins ~ Walks, data = BaseballHits24, color = \"mediumvioletred\")"
    },
    {
      "cell_type": "markdown",
      "metadata": {
        "cell_id": "43bc31e70b8d46b880350d7e61f995e3",
        "deepnote_cell_height": 163.125,
        "deepnote_cell_type": "markdown",
        "output_cleared": false,
        "tags": []
      },
      "source": "<div class=\"alert alert-block alert-warning\">\n\n**Sample Response**\n\nIt looks like there is a positive relationship. The more walks for a team, the higher the number of wins.\n    \n</div>"
    },
    {
      "cell_type": "markdown",
      "metadata": {
        "cell_id": "6723d33af0ca48f78f27e7905063f4cf",
        "deepnote_cell_height": 52.359375,
        "deepnote_cell_type": "markdown",
        "output_cleared": false,
        "tags": []
      },
      "source": "3.3 - Find the best fitting model of the Walks hypothesis and write it in GLM notation."
    },
    {
      "cell_type": "code",
      "execution_count": null,
      "metadata": {
        "cell_id": "6eab7908c40b46daa4bd33a1538759e9",
        "deepnote_cell_type": "code",
        "execution_context_id": "6fe626cb-2cbd-4929-8581-399e220e0e11",
        "execution_millis": 32,
        "execution_start": 1744406597564,
        "output_cleared": false,
        "source_hash": "71a2b84",
        "tags": [],
        "trusted": true
      },
      "outputs": [],
      "source": "# Fit the Walks model\nwalks_model <- lm(Wins ~ Walks, data = BaseballHits24)\nwalks_model"
    },
    {
      "cell_type": "markdown",
      "metadata": {
        "cell_id": "52f3c3e939104fa7b5e143252fb2c12e",
        "deepnote_cell_height": 140.9375,
        "deepnote_cell_type": "markdown",
        "output_cleared": false,
        "tags": []
      },
      "source": "<div class=\"alert alert-block alert-warning\">\n\n**Sample Response**\n\n$Wins_i = 21.87 + 0.12(Walks_i) + e_i$\n    \n</div>"
    },
    {
      "cell_type": "markdown",
      "metadata": {
        "cell_id": "55fe7d1e987d49dda9176b5093d5e4b6",
        "deepnote_cell_height": 74.75,
        "deepnote_cell_type": "markdown",
        "output_cleared": false,
        "tags": []
      },
      "source": "3.4 - Add the best fitting model to your visualization. Interpret the best fitting estimates using your visualization."
    },
    {
      "cell_type": "code",
      "execution_count": null,
      "metadata": {
        "cell_id": "eed4114bb970462f948c63091f251dbb",
        "deepnote_cell_type": "code",
        "execution_context_id": "6fe626cb-2cbd-4929-8581-399e220e0e11",
        "execution_millis": 182,
        "execution_start": 1744406602438,
        "output_cleared": false,
        "source_hash": "333be78c",
        "tags": [],
        "trusted": true
      },
      "outputs": [],
      "source": "# Add the Walks model\ngf_point(Wins ~ Walks, data = BaseballHits24, color = \"mediumvioletred\") %>% \n    gf_lm(color = \"royalblue\")"
    },
    {
      "cell_type": "markdown",
      "metadata": {
        "cell_id": "3f59ba6921c0492888547326e950e69a",
        "deepnote_cell_height": 199.921875,
        "deepnote_cell_type": "markdown",
        "output_cleared": false,
        "tags": []
      },
      "source": "<div class=\"alert alert-block alert-warning\">\n\n**Sample Response**\n\nThe estimate for $b_0$ is near 22 on the y-axis and is the value for Wins when Walks are zero. \n\nThe estimate for $b_1$ is how much a team's number of Wins increases (+0.12) from that point for every additional Walk.\n    \n</div>"
    },
    {
      "cell_type": "markdown",
      "metadata": {
        "cell_id": "a3e4688872c7437395df29ce95ede29a",
        "deepnote_cell_height": 52.359375,
        "deepnote_cell_type": "markdown",
        "output_cleared": false,
        "tags": []
      },
      "source": "3.5 - How good is this model?"
    },
    {
      "cell_type": "code",
      "execution_count": null,
      "metadata": {
        "cell_id": "aa4d0a561a4043608d8efe74de795a38",
        "deepnote_cell_type": "code",
        "deepnote_to_be_reexecuted": false,
        "execution_context_id": "6fe626cb-2cbd-4929-8581-399e220e0e11",
        "execution_millis": 0,
        "execution_start": 1744406614926,
        "output_cleared": false,
        "source_hash": "e1c6232e",
        "tags": [],
        "trusted": true
      },
      "outputs": [],
      "source": "# Run the supernova on the Walks model\nsupernova(walks_model)"
    },
    {
      "cell_type": "markdown",
      "metadata": {
        "cell_id": "b159122ab0c64bf3b2938822d84bdf07",
        "deepnote_cell_height": 163.125,
        "deepnote_cell_type": "markdown",
        "tags": []
      },
      "source": "<div class=\"alert alert-block alert-warning\">\n\n**Sample Response**\n\nThe Walks model explains about 31% more variation than the empty model (if we are using PRE as a measure of \"goodness\").\n    \n</div>"
    },
    {
      "cell_type": "markdown",
      "metadata": {
        "cell_id": "795d51f154d647f294006d3c1b04040a",
        "deepnote_cell_height": 115.9375,
        "deepnote_cell_type": "markdown",
        "output_cleared": false,
        "tags": []
      },
      "source": "<div class=\"alert alert-block alert-success\">\n\n### 4.0 - Approximate Time: 3-5 mins\n    \n</div>"
    },
    {
      "cell_type": "markdown",
      "metadata": {
        "cell_id": "52f2c30ba84c468281b94f15d43cc6fe",
        "deepnote_cell_height": 69.96875,
        "deepnote_cell_type": "markdown",
        "output_cleared": false,
        "tags": []
      },
      "source": "## 4.0 - Comparing Models: Which one \"Wins\"?"
    },
    {
      "cell_type": "markdown",
      "metadata": {
        "cell_id": "81ba4ca8ec1a4a42b7e7002b5b6138fc",
        "deepnote_cell_height": 74.75,
        "deepnote_cell_type": "markdown",
        "output_cleared": false,
        "tags": []
      },
      "source": "4.1- Which of the two models (`Strikeouts` or `Walks`) seems to help us make better predictions \nfor number of `Wins`? How can you tell? "
    },
    {
      "cell_type": "markdown",
      "metadata": {
        "cell_id": "b53de1305abc457882429048ba4336db",
        "deepnote_cell_height": 163.125,
        "deepnote_cell_type": "markdown",
        "tags": []
      },
      "source": "<div class=\"alert alert-block alert-warning\">\n\n**Sample Response**\n\nThe Walks model seems to help us make better predictions. It has a higher PRE, and there is less error around the model.\n    \n</div>"
    },
    {
      "cell_type": "markdown",
      "metadata": {
        "cell_id": "8e2f3567a836466fa62bec9efaac4e06",
        "deepnote_cell_height": 52.359375,
        "deepnote_cell_type": "markdown",
        "output_cleared": false,
        "tags": []
      },
      "source": "4.2 - Are they both better than the empty model? Why or why not?"
    },
    {
      "cell_type": "markdown",
      "metadata": {
        "cell_id": "89de57f48cb54a969dd976fc3b56bb65",
        "deepnote_cell_height": 185.515625,
        "deepnote_cell_type": "markdown",
        "tags": []
      },
      "source": "<div class=\"alert alert-block alert-warning\">\n\n**Sample Response**\n\nThey are both better than the empty model. The empty model does not explain any variation. Even though the Strikeouts model has a PRE much lower than the Walks model, it still seems better than the empty model (although this could be due to chance).\n\nNote to instructors: At this point in the class, we have not yet talked about p-value, but the Strikeouts model has a p-value greater than .05. It may be useful to preview this concept for them here, even without talking about p-value directly.\n\n</div>"
    },
    {
      "cell_type": "markdown",
      "metadata": {
        "cell_id": "fedcd8d7b0724e3f82e00de24de89caa",
        "deepnote_cell_height": 115.9375,
        "deepnote_cell_type": "markdown",
        "output_cleared": false,
        "tags": []
      },
      "source": "<div class=\"alert alert-block alert-success\">\n\n### 5.0 - Approximate Time: 12-15 mins\n    \n</div>"
    },
    {
      "cell_type": "markdown",
      "metadata": {
        "cell_id": "11e04658d1c44e62b790f9e4ca05f9de",
        "deepnote_cell_height": 69.96875,
        "deepnote_cell_type": "markdown",
        "output_cleared": false,
        "tags": []
      },
      "source": "## 5.0 - Which part of the error got \"explained\"?"
    },
    {
      "cell_type": "markdown",
      "metadata": {
        "cell_id": "b789d36b5b174c25adbdf991f1c6daff",
        "deepnote_cell_height": 111.140625,
        "deepnote_cell_type": "markdown",
        "output_cleared": false,
        "tags": []
      },
      "source": "The specially colored dot below represents the New York Yankees. \n\n5.1 - What are the two models that are depicted in the visualization below? Which model does a better job of predicting the Yankees' wins? How can you tell?"
    },
    {
      "cell_type": "code",
      "execution_count": null,
      "metadata": {
        "cell_id": "e37e734fe8484838a35b9224ebe74c2a",
        "deepnote_cell_type": "code",
        "execution_context_id": "6fe626cb-2cbd-4929-8581-399e220e0e11",
        "execution_millis": 159,
        "execution_start": 1744406865486,
        "output_cleared": false,
        "source_hash": "7e0e4ea2",
        "tags": [],
        "trusted": true
      },
      "outputs": [],
      "source": "Win_stats <- favstats(Wins ~ NULL, data = BaseballHits24)\n\ngf_point(Wins ~ Walks, data = BaseballHits24, color = ~ Team==\"New York Yankees\") %>%\n    gf_lm(color = \"darkorange\") %>%\n    gf_hline(yintercept = ~mean, data = Win_stats, color = \"blue\")\n"
    },
    {
      "cell_type": "markdown",
      "metadata": {
        "cell_id": "86518b74542d463185b4f39a1c8fc5dc",
        "deepnote_cell_height": 207.90625,
        "deepnote_cell_type": "markdown",
        "tags": []
      },
      "source": "<div class=\"alert alert-block alert-warning\">\n\n**Sample Response**\n\nThe two models depicted in the visualization are the empty model and the Walks model. The Walks model does a better job predicting the Yankees' wins. You can tell because the distance between the dot for the Yankees and the Walks model is much smaller than the distance between the point and the empty model.\n    \n</div>"
    },
    {
      "cell_type": "markdown",
      "metadata": {
        "cell_id": "503ae731f2c2438fbb97234495ff59b8",
        "deepnote_cell_height": 74.75,
        "deepnote_cell_type": "markdown",
        "output_cleared": false,
        "tags": []
      },
      "source": "5.2 - Which is the part of the error that \"got reduced\"? Which model did the reducing of error? Is reducing error a good or bad thing?"
    },
    {
      "cell_type": "markdown",
      "metadata": {
        "cell_id": "052b1ad6d6f54f138e262c03ef4fda10",
        "deepnote_cell_height": 185.515625,
        "deepnote_cell_type": "markdown",
        "tags": []
      },
      "source": "<div class=\"alert alert-block alert-warning\">\n\n**Sample Response**\n\nThe part of the error that got reduced is the distance between the empty model and the Walks model. The Walks model did the reducing. Reducing error is a good thing--we want our predictions to be *less* wrong!\n    \n</div>"
    },
    {
      "cell_type": "markdown",
      "metadata": {
        "cell_id": "afd98d5414df4a4b994a9a339d7204e2",
        "deepnote_cell_height": 52.359375,
        "deepnote_cell_type": "markdown",
        "output_cleared": false,
        "tags": []
      },
      "source": "5.3 - Why is the PRE from the Walks model bigger than the PRE from the Strikeouts model?"
    },
    {
      "cell_type": "markdown",
      "metadata": {
        "cell_id": "4af5bd84b6334921ba11e3e076962f36",
        "deepnote_cell_height": 336.109375,
        "deepnote_cell_type": "markdown",
        "tags": []
      },
      "source": "<div class=\"alert alert-block alert-warning\">\n\n**Sample Response**\n\nBecause the Walks model explains more error. The Walks model shows more distance between it and the empty model. Walks seems to be a better explanatory variable for Wins. Strikeouts is not as strong. \n    \n</div>"
    }
  ],
  "metadata": {
    "deepnote_notebook_id": "c2cdf1c652324b8cb7838bf8fb2a9db3",
    "kernelspec": {
      "display_name": "R",
      "language": "R",
      "name": "ir"
    },
    "language_info": {
      "codemirror_mode": "r",
      "file_extension": ".r",
      "mimetype": "text/x-r-source",
      "name": "R",
      "pygments_lexer": "r",
      "version": "4.3.3"
    },
    "nbsimplegrader": {
      "publish_config": {
        "classes": [],
        "options": [],
        "tools": []
      }
    }
  },
  "nbformat": 4,
  "nbformat_minor": 1
}