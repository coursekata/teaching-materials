{
  "cells": [
    {
      "cell_type": "markdown",
      "metadata": {
        "cell_id": "98c71cbf712a4d23b6c81dd97bbdb3e1",
        "deepnote_cell_type": "markdown",
        "tags": []
      },
      "source": "# 9D: Battle of the Models"
    },
    {
      "cell_type": "code",
      "execution_count": null,
      "metadata": {
        "cell_id": "66ca8225d57b4ac1987ca7c59e6d3432",
        "deepnote_cell_height": 253.90625,
        "deepnote_cell_type": "code",
        "deepnote_to_be_reexecuted": false,
        "execution_context_id": "ec92438d-9207-4bf0-b1c5-c70401ed62de",
        "execution_millis": 672,
        "execution_start": 1745017890436,
        "output_cleared": false,
        "source_hash": "eb31cdbd",
        "tags": [],
        "trusted": true
      },
      "outputs": [],
      "source": "# This code will load the R packages we will use\nsuppressPackageStartupMessages({\n    library(coursekata)\n})\n\n\n\ncsvlink<-\"https://docs.google.com/spreadsheets/d/e/2PACX-1vRVo82UG25_Gq0zYVRXUZX5U4vSVcpdFZ_Pn-U-81kACXbDEE5JJx6D41cTxbYAci0HhOJDGpfHe_5H/pub?gid=1875103213&single=true&output=csv\"\n\nHappyPlanetIndexData <- read.csv(csvlink, header = TRUE) "
    },
    {
      "cell_type": "markdown",
      "metadata": {
        "cell_id": "ef8a6767481640578e0aa642bde3ed42",
        "deepnote_cell_height": 401.4375,
        "deepnote_cell_type": "markdown",
        "tags": []
      },
      "source": "We'll be looking at a data set (collected in 2021) called the `HappyPlanetIndexData`. It has 147 countries and the following variables:\n\n- `Country`\tName of country\n- `Region` Comment: 1 - Latin America 2 - N America & Oceania 3-  Western Europe 4 - Middle East & N Africa 5 - Sub-Saharan Africa 6 - South Asia 7 - Eastern Europe & Central Asia 8 - East Asia\n- `Happiness` Score on a 0-10 scale for average level of happiness (10 being happiest)\n- `LifeExpectancy` Average life expectancy (in years)\n- `Footprint` Ecological footprint - a measure of the (per capita) ecological impact\n- `HPI`\tHappy Planet Index (0-100 scale) combines well-being and ecological impact\n- `HPIRank`\tHPI rank for the country\n- `GDPperCapita` Gross Domestic Product (per capita)\n- `Population` Population (in millions)"
    },
    {
      "cell_type": "markdown",
      "metadata": {
        "cell_id": "c3dd87a8cc5540e28ff34e9e36ba8b16",
        "deepnote_cell_height": 119.53125,
        "deepnote_cell_type": "markdown",
        "tags": []
      },
      "source": "Last time we explored this data we looked at how different countries vary in their happiness levels. This time, let's use the information in this data to help us think about why countries vary in their life expectancies. If we knew how \"rich\" a country was, could we explain the variation in life expectancy?"
    },
    {
      "cell_type": "markdown",
      "metadata": {
        "cell_id": "d06adb586d6b4c078b1140cb6494d7d9",
        "deepnote_cell_height": 69.96875,
        "deepnote_cell_type": "markdown",
        "tags": []
      },
      "source": "## 1.0 - Explore Variation in Life Expectancy"
    },
    {
      "cell_type": "markdown",
      "metadata": {
        "cell_id": "14f53b4e35694070b50965d1df2f8e4c",
        "deepnote_cell_height": 111.140625,
        "deepnote_cell_type": "markdown"
      },
      "source": "1.1 - Take a look at the data frame `HappyPlanetIndexData` below. What are the cases? \n\nThen take a closer look at Albania. What does the number in the `LifeExpectancy` column mean? What does the number in `GDPperCapita` mean? "
    },
    {
      "cell_type": "code",
      "execution_count": null,
      "metadata": {
        "cell_id": "51c0591673eb404392d79c9a3f00cd11",
        "deepnote_cell_height": 367.859375,
        "deepnote_cell_type": "code",
        "deepnote_output_heights": [
          275.90625
        ],
        "deepnote_to_be_reexecuted": false,
        "execution_context_id": "ec92438d-9207-4bf0-b1c5-c70401ed62de",
        "execution_millis": 17,
        "execution_start": 1745017895194,
        "source_hash": "b7454f41",
        "trusted": true
      },
      "outputs": [],
      "source": "head(HappyPlanetIndexData)"
    },
    {
      "cell_type": "markdown",
      "metadata": {
        "cell_id": "76da015e29c24191a0f11fc17ab9be93",
        "deepnote_cell_height": 111.140625,
        "deepnote_cell_type": "markdown",
        "tags": []
      },
      "source": "1.2 - Do you think `GDPperCapita` can help us explain variation in `LifeExpectancy`? Write this idea as a word equation. \n\nLifeExpectancy = GDPperCapita + Error"
    },
    {
      "cell_type": "markdown",
      "metadata": {
        "cell_id": "16b9b925b41640e29c6d3c8bd8a64876",
        "deepnote_cell_height": 74.75,
        "deepnote_cell_type": "markdown",
        "tags": []
      },
      "source": "1.3 - Describe the relationship you expect to see. Will this relationship be true for every person in that country?"
    },
    {
      "cell_type": "markdown",
      "metadata": {
        "cell_id": "46992475142d4396b1099591e68cee77",
        "deepnote_cell_height": 52.359375,
        "deepnote_cell_type": "markdown",
        "tags": []
      },
      "source": "1.4 - Explore this idea with a visualization. What do you notice?"
    },
    {
      "cell_type": "markdown",
      "metadata": {
        "cell_id": "41287be45b4444ea8cccf978f8822b30",
        "deepnote_cell_height": 69.96875,
        "deepnote_cell_type": "markdown",
        "tags": []
      },
      "source": "## 2.0 - Three Different Models"
    },
    {
      "cell_type": "markdown",
      "metadata": {
        "cell_id": "232ec37a2dfc4fb88653bd31c1ec786a",
        "deepnote_cell_height": 97.140625,
        "deepnote_cell_type": "markdown",
        "tags": []
      },
      "source": "2.1 - In the previous chapter, we learned about group models (models that predict how one group might have a different outcome than another group). Can we create a group model of this hypothesis? Why or why not? "
    },
    {
      "cell_type": "markdown",
      "metadata": {
        "cell_id": "a61623c808e24a068122ed3b596b79d4",
        "deepnote_cell_height": 197.921875,
        "deepnote_cell_type": "markdown",
        "tags": []
      },
      "source": "2.2 - We will split up into different groups to look at three different models.\n\nModel 1: **LifeExp = GDPperCapita + Error**\n\nModel 2: **LifeExp = GDP2group + Error**\n\nModel 3: **LifeExp = GDP3group + Error**\n\nHaving looked at the visualization -- which model will explain the most error? Why?"
    },
    {
      "cell_type": "markdown",
      "metadata": {
        "cell_id": "65a58c0cdf644f81bcef4ce502366a2c",
        "deepnote_cell_height": 69.96875,
        "deepnote_cell_type": "markdown"
      },
      "source": "## 3.0 - Model 1: LifeExp = GDPperCapita + Error"
    },
    {
      "cell_type": "markdown",
      "metadata": {
        "cell_id": "85dfcc5097814afa97a0245f8623b2f2",
        "deepnote_cell_height": 111.140625,
        "deepnote_cell_type": "markdown"
      },
      "source": "As a group, find the best fitting model. Interpret the best fitting numbers. Create a visualization that includes your model predictions. \n\nHow much error did your model \"explain\"?"
    },
    {
      "cell_type": "code",
      "execution_count": null,
      "metadata": {
        "cell_id": "d501a27cc0814e75b74b516ee2d0c59c",
        "deepnote_cell_height": 219.953125,
        "deepnote_cell_type": "code",
        "deepnote_to_be_reexecuted": false,
        "execution_millis": 5,
        "execution_start": 1667505661443,
        "source_hash": null,
        "trusted": true
      },
      "outputs": [],
      "source": "# Here we have started some code to help you generate \n# and plot your model predictions\n\n#GDP_model <- lm(LifeExpectancy ~ GDPperCapita, data = HappyPlanetIndexData)\n#GDP_model\n#HappyPlanetIndexData$GDP_predict <- \n\n#gf_jitter(LifeExpectancy ~ GDPperCapita, data = HappyPlanetIndexData) %>%\n#gf_jitter(GDP_predict ~ GDPperCapita, color = \"darkorange\", height = 0)"
    },
    {
      "cell_type": "markdown",
      "metadata": {
        "cell_id": "93b6ac3642144c6ebcbe90912b11e938",
        "deepnote_cell_height": 69.96875,
        "deepnote_cell_type": "markdown"
      },
      "source": "## 4.0 - Model 2: LifeExp = GDP2 + Error"
    },
    {
      "cell_type": "markdown",
      "metadata": {
        "cell_id": "96f617401e9e4f6ead2d7b1ddd8886fe",
        "deepnote_cell_height": 74.75,
        "deepnote_cell_type": "markdown"
      },
      "source": "Here we have created a two group variable for you using `ntile()`. We have also included a visualization for you."
    },
    {
      "cell_type": "code",
      "execution_count": null,
      "metadata": {
        "cell_id": "d2c61f5457b549ffa1c53d917f9d3363",
        "deepnote_cell_height": 594.953125,
        "deepnote_cell_type": "code",
        "deepnote_output_heights": [
          444
        ],
        "deepnote_to_be_reexecuted": false,
        "execution_millis": 1211,
        "execution_start": 1667505661494,
        "output_cleared": false,
        "source_hash": null,
        "tags": [],
        "trusted": true
      },
      "outputs": [],
      "source": "HappyPlanetIndexData$GDP2 <- ntile(HappyPlanetIndexData$GDPperCapita, 2)\nHappyPlanetIndexData$GDP2 <- factor(HappyPlanetIndexData$GDP2, levels = c(1,2), labels = c(\"low GDP\", \"high GDP\"))\n\ngf_jitter(LifeExpectancy ~ GDP2, data = HappyPlanetIndexData, color = ~GDP2) "
    },
    {
      "cell_type": "markdown",
      "metadata": {
        "cell_id": "fd4c8500618245aaa08f08ffa2640a48",
        "deepnote_cell_height": 111.140625,
        "deepnote_cell_type": "markdown"
      },
      "source": "As a group, find the best fitting model. Interpret the best fitting numbers. Create a visualization that includes your model predictions. \n\nHow much error did your model \"explain\"?"
    },
    {
      "cell_type": "code",
      "execution_count": null,
      "metadata": {
        "cell_id": "fcae083ef9c14e11b8ee797835879ed7",
        "deepnote_cell_height": 183.953125,
        "deepnote_cell_type": "code",
        "deepnote_to_be_reexecuted": false,
        "execution_millis": 1,
        "execution_start": 1667505661678,
        "source_hash": null,
        "trusted": true
      },
      "outputs": [],
      "source": "# Here we have started some code to help you generate \n# and plot your model predictions\n\n#HappyPlanetIndexData$GDP2_predict <- \n\n#gf_jitter(LifeExpectancy ~ GDP2, data = HappyPlanetIndexData) %>%\n#gf_jitter(GDP2_predict ~ GDP2, color = \"darkorange\", height = 0)"
    },
    {
      "cell_type": "markdown",
      "metadata": {
        "cell_id": "8b4e8321da4a4452911d3b8942f138dc",
        "deepnote_cell_height": 69.96875,
        "deepnote_cell_type": "markdown",
        "tags": []
      },
      "source": "## 5.0 - Model 3: LifeExp = GDP3 + Error"
    },
    {
      "cell_type": "markdown",
      "metadata": {
        "cell_id": "18daac2ce20143df926fff2194b3a089",
        "deepnote_cell_height": 74.75,
        "deepnote_cell_type": "markdown",
        "tags": []
      },
      "source": "Here we have created a three group variable for you using `ntile()`. We have also included a visualization for you."
    },
    {
      "cell_type": "code",
      "execution_count": null,
      "metadata": {
        "cell_id": "881a68a55f764ef2bc51bd47b7776b33",
        "deepnote_cell_height": 594.953125,
        "deepnote_cell_type": "code",
        "deepnote_output_heights": [
          444
        ],
        "deepnote_to_be_reexecuted": false,
        "execution_millis": 1031,
        "execution_start": 1667505661679,
        "source_hash": null,
        "trusted": true
      },
      "outputs": [],
      "source": "HappyPlanetIndexData$GDP3 <- ntile(HappyPlanetIndexData$GDPperCapita, 3)\nHappyPlanetIndexData$GDP3 <- factor(HappyPlanetIndexData$GDP3, levels = c(1,2,3), labels = c(\"low GDP\", \"medium GDP\", \"high GDP\"))\n\ngf_jitter(LifeExpectancy ~ GDP3, data = HappyPlanetIndexData, color = ~GDP3) "
    },
    {
      "cell_type": "markdown",
      "metadata": {
        "cell_id": "c629c84f6de8451fab513bcb49f6df0e",
        "deepnote_cell_height": 111.140625,
        "deepnote_cell_type": "markdown"
      },
      "source": "As a group, find the best fitting model. Interpret the best fitting numbers. Create a visualization that includes your model predictions. \n\nHow much error did your model \"explain\"?"
    },
    {
      "cell_type": "code",
      "execution_count": null,
      "metadata": {
        "cell_id": "84f06559e81f4cfca224d16711bd19c5",
        "deepnote_cell_height": 129.953125,
        "deepnote_cell_type": "code",
        "deepnote_to_be_reexecuted": false,
        "execution_millis": 1,
        "execution_start": 1667505661879,
        "output_cleared": false,
        "source_hash": null,
        "tags": [],
        "trusted": true
      },
      "outputs": [],
      "source": "#HappyPlanetIndexData$GDP3_predict <- \n\n#gf_jitter(LifeExpectancy ~ GDP3, data = HappyPlanetIndexData, color = ~GDP3) %>%\n#gf_jitter(GDP3_predict ~ GDP3, color = \"darkorange\", height = 0)"
    },
    {
      "cell_type": "markdown",
      "metadata": {
        "cell_id": "8ab12aaa983b43c289a56cbad7ec9565",
        "deepnote_cell_height": 69.96875,
        "deepnote_cell_type": "markdown"
      },
      "source": "## 6.0 - Back Together Again"
    },
    {
      "cell_type": "markdown",
      "metadata": {
        "cell_id": "45fb4312d2614819b65584c7a3a80828",
        "deepnote_cell_height": 74.75,
        "deepnote_cell_type": "markdown",
        "tags": []
      },
      "source": "6.1 - What do you want to know from the other groups to evaluate which model was \"best\"? Which was best? "
    },
    {
      "cell_type": "markdown",
      "metadata": {
        "cell_id": "09c3921726314464be3335b8be8b7009",
        "deepnote_cell_height": 52.359375,
        "deepnote_cell_type": "markdown"
      },
      "source": "6.2 - Are you surprised? Why or why not?"
    },
    {
      "cell_type": "markdown",
      "metadata": {
        "cell_id": "a84ab8ce6e2e4d178085e8fc92478361",
        "deepnote_cell_height": 52.359375,
        "deepnote_cell_type": "markdown"
      },
      "source": "6.3 - Why is SS Total the same for all three models?"
    }
  ],
  "metadata": {
    "deepnote_notebook_id": "9dfee34977a34f17a9e537e1bc99ac03",
    "kernelspec": {
      "display_name": "R",
      "language": "R",
      "name": "ir"
    },
    "language_info": {
      "codemirror_mode": "r",
      "file_extension": ".r",
      "mimetype": "text/x-r-source",
      "name": "R",
      "pygments_lexer": "r",
      "version": "4.3.3"
    },
    "nbsimplegrader": {
      "publish_config": {
        "classes": [],
        "options": [],
        "tools": []
      }
    }
  },
  "nbformat": 4,
  "nbformat_minor": 1
}