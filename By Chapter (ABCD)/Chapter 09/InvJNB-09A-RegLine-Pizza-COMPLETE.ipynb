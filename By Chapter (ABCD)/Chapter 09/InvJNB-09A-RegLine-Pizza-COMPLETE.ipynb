{
  "cells": [
    {
      "cell_type": "markdown",
      "metadata": {
        "cell_id": "777f7ee13d084b3387bd578619e1ad6b",
        "deepnote_cell_type": "markdown",
        "tags": []
      },
      "source": "<div class=\"alert alert-block alert-danger\">\n\n# 9A: The Business of Pizza (COMPLETE)\n\n**Use with textbook version 6.0+**\n\n**Lesson assumes students have read up through page: 9.4**\n\n</div>"
    },
    {
      "cell_type": "markdown",
      "metadata": {
        "cell_id": "9548009473ef47a1b98b4dd74086e963",
        "deepnote_cell_height": 686.984375,
        "deepnote_cell_type": "markdown",
        "tags": []
      },
      "source": "<div class=\"alert alert-block alert-warning\">\n\n#### Summary of Notebook:\n\nIn this lesson, students will model the price of pizza using the `Toppings` model. Intuitively, as the number of toppings goes up, so does the average price of a pizza. We chose this example because the units (pizza toppings, and price in dollars) are fairly straightforward to understand while trying to make sense of $b_0$ and $b_1$.\n\n#### Highlighted Skills and Concepts:\n- Fitting a regression model\n- Interpreting the model estimates\n- Making predictions with the model\n- Comparing the residuals from the empty model to the residuals of the regression model\n\n***Optional Lesson Handout:***\n\n[This handout](https://docs.google.com/document/d/1xZj4N7M_rlMGhC-uDgEhjlrpBEjpVaJdkBe2vuCrF-o/edit?usp=sharing) can be printed and passed out to your students as a way to supplement the lesson. It includes printouts of some of the visualizations in the lesson so students can draw on them to illustrate important concepts.\n\n***Optional Lesson Idea:*** \n\nIf you are interested in personalizing the lesson and giving students practice collecting data, you may opt to have students add to the dataset beforehand by looking up the data for their own local pizza shops and adding in the info for the variables directly into the spreadsheet (download it with the csv link and turn it into your own Google Sheet document, then publish it and replace the link below) or by adding the cases directly into the R data frame. Note that this may affect use of handouts with printed graphs, as they may not match your data. Feel free to modify them, if needed.\n\n</div>"
    },
    {
      "cell_type": "markdown",
      "metadata": {
        "cell_id": "06afc3f7a37b47b0aea1c9d82f127333",
        "deepnote_cell_height": 163.9375,
        "deepnote_cell_type": "markdown",
        "tags": []
      },
      "source": "<div class=\"alert alert-block alert-success\">\n\n## Approximate time to complete Notebook: 45-60 Mins\n    \n</div>"
    },
    {
      "cell_type": "code",
      "execution_count": null,
      "metadata": {
        "cell_id": "741d286a8a8d44969644fd76f7731234",
        "deepnote_cell_height": 170.953125,
        "deepnote_cell_type": "code",
        "deepnote_to_be_reexecuted": false,
        "execution_millis": 4602,
        "execution_start": 1649802787239,
        "output_cleared": true,
        "source_hash": "8d091d5d",
        "tags": [],
        "trusted": true
      },
      "outputs": [],
      "source": "# Load the CourseKata library\nsuppressPackageStartupMessages({\n    library(coursekata)\n})\n\nPizza <- read.csv(\"https://docs.google.com/spreadsheets/d/e/2PACX-1vQKb3Es1OXsne_WHW2x6V0YsW6bS3tXSDI_8cTJb7b1d3w_d0SfMmNbufF1OH7S90180Mot1BOPRcVV/pub?gid=0&single=true&output=csv\", header = TRUE)"
    },
    {
      "cell_type": "markdown",
      "metadata": {
        "cell_id": "fdb69ef288e14845b112e85e4cab94fb",
        "deepnote_cell_height": 115.9375,
        "deepnote_cell_type": "markdown",
        "tags": []
      },
      "source": "<div class=\"alert alert-block alert-success\">\n\n### 1.0 - Approximate Time: 8-10 mins\n    \n</div>"
    },
    {
      "cell_type": "markdown",
      "metadata": {
        "cell_id": "1d99d380d10c42f289ef051dee9f5fc8",
        "deepnote_cell_height": 448.078125,
        "deepnote_cell_type": "markdown",
        "tags": []
      },
      "source": "Are you a pizza consumer? Did you know that, globally, the pizza industry is worth $145 billion, and, on any given day, [13% of the US population consumes pizza](https://na-pizza.com/pizza-industry-revenue-in-the-u-s-around-the-world/)?\n\n<img src=\"https://imgur.com/Bg5Rvqh.png\" title=\"pepperoni pizza\" width=500>"
    },
    {
      "cell_type": "markdown",
      "metadata": {
        "cell_id": "5aa4cf7095744cd0a1c9285a7106ac24",
        "deepnote_cell_height": 74.75,
        "deepnote_cell_type": "markdown",
        "tags": []
      },
      "source": "**Opening Discussion:** What are your ideas about what makes a pizza great, or what makes a pizza worth more? What makes you willing to pay more for a pizza?"
    },
    {
      "cell_type": "markdown",
      "metadata": {
        "cell_id": "5f09b7617cf546b5a843fcc475bbfd3e",
        "deepnote_cell_height": 395.453125,
        "deepnote_cell_type": "markdown",
        "tags": []
      },
      "source": "To explore this question, let's dig into some data from pizza places in California. The data frame `Pizza` has data on 108 pizzas sold by 18 different places (prices were gathered from their websites):\n\n- `Place` The name of the pizza place\n- `Size` The size of the pizza\n- `Name` The descriptive name of the pizza (for that specific combination of toppings)\n- `Price` The price of the pizza\n- `Toppings` The number of toppings on the pizza (0 toppings equates to a cheese pizza)\n- `County` The county in California that the shop is located (Los Angeles, San Francisco, San Diego)\n- `ZipCode` The zip code in California where the shop is located\n- `MedianIncome_2020` The median income in 2020 for the zip code of the pizza shop (according to this source: https://www.incomebyzipcode.com/)\n- `Website` The website link for the pizza place"
    },
    {
      "cell_type": "markdown",
      "metadata": {
        "cell_id": "97cc62f65ea8408d894724c4c95e1f9a",
        "deepnote_cell_height": 62.421875,
        "deepnote_cell_type": "markdown",
        "tags": []
      },
      "source": "### 1.0 - Explore Variation in `Price`"
    },
    {
      "cell_type": "markdown",
      "metadata": {
        "cell_id": "cc1294739fea4fd48726896cb02589c8",
        "deepnote_cell_height": 52.359375,
        "deepnote_cell_type": "markdown",
        "tags": []
      },
      "source": "1.1 - Take a look at the `Pizza` data frame. What are the cases?\n"
    },
    {
      "cell_type": "markdown",
      "metadata": {
        "cell_id": "497bfaa8a0294215b992bb2dfd0ca00b",
        "deepnote_cell_height": 140.71875,
        "deepnote_cell_type": "markdown",
        "tags": []
      },
      "source": "<div class=\"alert alert-block alert-warning\">\n\n**Sample Response**\n\nThe cases are pizzas.\n    \n</div>"
    },
    {
      "cell_type": "markdown",
      "metadata": {
        "cell_id": "bd8c9115600e4558a11113e72a6496c6",
        "deepnote_cell_height": 74.75,
        "deepnote_cell_type": "markdown",
        "tags": []
      },
      "source": "1.2 - Let's get an idea of how much pizza prices vary, in general. Make a couple of visualizations of the variation in `Price`."
    },
    {
      "cell_type": "code",
      "execution_count": null,
      "metadata": {
        "cell_id": "1ab22f02412a4ad9acc3481568605d6d",
        "deepnote_cell_height": 273.953125,
        "deepnote_cell_type": "code",
        "deepnote_to_be_reexecuted": false,
        "execution_millis": 1017,
        "execution_start": 1649803239038,
        "output_cleared": true,
        "source_hash": "ae8049c0",
        "tags": [],
        "trusted": true
      },
      "outputs": [],
      "source": "# COMPLETE VERSION\n# Many possible answers\n\n# Example 1\ngf_histogram(~Price, data = Pizza)\n\n# Example 2\ngf_boxplot(Price ~ 1, data = Pizza)\n\n# Example 3\ngf_histogram(~Price, data = Pizza) %>%\n    gf_boxplot()"
    },
    {
      "cell_type": "markdown",
      "metadata": {
        "cell_id": "22818ab57a444be48e8b6d2b899cc433",
        "deepnote_cell_height": 52.359375,
        "deepnote_cell_type": "markdown",
        "tags": []
      },
      "source": "1.3 - What would the empty model predict for an average pizza price?"
    },
    {
      "cell_type": "code",
      "execution_count": null,
      "metadata": {
        "cell_id": "ab678ede187d4a7aadd320602bc4054c",
        "deepnote_cell_height": 129.953125,
        "deepnote_cell_type": "code",
        "deepnote_to_be_reexecuted": false,
        "execution_millis": 57,
        "execution_start": 1649802793286,
        "output_cleared": true,
        "source_hash": "725e4954",
        "tags": [],
        "trusted": true
      },
      "outputs": [],
      "source": "# COMPLETE VERSION\n\nempty_model <- lm(Price ~ NULL, data = Pizza)\nempty_model"
    },
    {
      "cell_type": "markdown",
      "metadata": {
        "cell_id": "5b02aa8293744eb696fee4b1fd134678",
        "deepnote_cell_height": 140.71875,
        "deepnote_cell_type": "markdown",
        "tags": []
      },
      "source": "<div class=\"alert alert-block alert-warning\">\n\n**Sample Response**\n\nThe empty model would predict it to cost about $19.90.\n    \n</div>"
    },
    {
      "cell_type": "markdown",
      "metadata": {
        "cell_id": "7c8fda4a4c34415eb3929cb3e62e22d7",
        "deepnote_cell_height": 74.75,
        "deepnote_cell_type": "markdown",
        "tags": []
      },
      "source": "1.4 - What three variables do you think will explain the variation in prices? Write word equations for all three. "
    },
    {
      "cell_type": "markdown",
      "metadata": {
        "cell_id": "ea8e8fc85fba45f89c9608fd11c3d2f3",
        "deepnote_cell_height": 329.453125,
        "deepnote_cell_type": "markdown",
        "tags": []
      },
      "source": "<div class=\"alert alert-block alert-warning\">\n\n**Sample Response**\n\n*Responses will vary. Some possible hypotheses may include:*\n\n- Price = County + Error (or Other Stuff)\n- Price = Name + Error\n- Price = Size + Error\n- Price = Toppings + Error\n- Price = Place + Error\n- Price = ZipCode + Error\n- Price = MedianIncome_2020 + Error\n    \n</div>"
    },
    {
      "cell_type": "markdown",
      "metadata": {
        "cell_id": "d9666346eaa2424780289faedeeaa8a4",
        "deepnote_cell_height": 115.9375,
        "deepnote_cell_type": "markdown",
        "tags": []
      },
      "source": "<div class=\"alert alert-block alert-success\">\n\n### 2.0 - Approximate Time: 12-15 mins\n    \n</div>"
    },
    {
      "cell_type": "markdown",
      "metadata": {
        "cell_id": "6d4db889724f4fd1bb9167fb126a4011",
        "deepnote_cell_height": 62.421875,
        "deepnote_cell_type": "markdown",
        "tags": []
      },
      "source": "### 2.0 - Model Variation: The `Toppings` Model"
    },
    {
      "cell_type": "markdown",
      "metadata": {
        "cell_id": "98e8f2f11a974921b93514c138ecddec",
        "deepnote_cell_height": 97.140625,
        "deepnote_cell_type": "markdown",
        "tags": []
      },
      "source": "2.1 - Let's consider the word equation `Price` = `Toppings` + Other stuff. Run the visualization of the Toppings hypothesis below. What does each dot represent? Why are the dots less \"scattered\" and line up vertically like so?"
    },
    {
      "cell_type": "code",
      "execution_count": null,
      "metadata": {
        "cell_id": "b856d722603643e4b8eea2b33479422b",
        "deepnote_cell_height": 75.953125,
        "deepnote_cell_type": "code",
        "deepnote_to_be_reexecuted": false,
        "execution_millis": 451,
        "execution_start": 1649805085731,
        "output_cleared": true,
        "source_hash": "847c08ef",
        "trusted": true
      },
      "outputs": [],
      "source": "gf_point(Price ~ Toppings, data = Pizza)"
    },
    {
      "cell_type": "markdown",
      "metadata": {
        "cell_id": "cc087a02add941d1b48d908c592d4c95",
        "deepnote_cell_height": 258.296875,
        "deepnote_cell_type": "markdown",
        "tags": []
      },
      "source": "<div class=\"alert alert-block alert-warning\">\n\n**Sample Response**\n\nEach dot represents the `Price` and the number of `Toppings` for each pizza.\n\nThe dots are less scattered because all the toppings are whole numbers, and there aren't any increments between that (e.g, there aren't any pizzas with 2.5 toppings), so the cases just stack up along the whole-number units.\n\nWe could use a jitter plot if we would like to see them spread out a little more.\n    \n</div>"
    },
    {
      "cell_type": "markdown",
      "metadata": {
        "cell_id": "d85075232e34439cabfa3b6a6f9b2ee6",
        "deepnote_cell_height": 88.953125,
        "deepnote_cell_type": "markdown"
      },
      "source": "2.2 - Fit the Toppings model and write it in GLM notation:\n\n$Y_i = b_0 + b_1(X_i) + e_i$"
    },
    {
      "cell_type": "code",
      "execution_count": null,
      "metadata": {
        "cell_id": "76ae3e5c49c54fd2816a8aa452ca4404",
        "deepnote_cell_height": 129.953125,
        "deepnote_cell_type": "code",
        "deepnote_to_be_reexecuted": false,
        "execution_millis": 49,
        "execution_start": 1649802793597,
        "output_cleared": true,
        "source_hash": "5b83c563",
        "tags": [],
        "trusted": true
      },
      "outputs": [],
      "source": "# COMPLETE VERSION\n\ntoppings_model <- lm(Price ~ Toppings, data = Pizza)\ntoppings_model"
    },
    {
      "cell_type": "markdown",
      "metadata": {
        "cell_id": "93ac28f22d48465fa33edd9e9531ee8a",
        "deepnote_cell_height": 213.921875,
        "deepnote_cell_type": "markdown",
        "tags": []
      },
      "source": "<div class=\"alert alert-block alert-warning\">\n\n**Sample Response**\n\n$Price_i = 15.43 + 1.32(Toppings_i) + e_i$\n\nOR\n\n$Y_i = 15.43 + 1.32(X_i) + e_i$\n\n</div>"
    },
    {
      "cell_type": "markdown",
      "metadata": {
        "cell_id": "00cfc287692548f38c3a48703ec24619",
        "deepnote_cell_height": 74.75,
        "deepnote_cell_type": "markdown",
        "tags": []
      },
      "source": "2.3 - Find what the Toppings model will predict for each pizza, and save that as `predictions` inside the data frame. We have started some code for you below."
    },
    {
      "cell_type": "code",
      "execution_count": null,
      "metadata": {
        "cell_id": "37ce1ba72f984896860db4e737973f3f",
        "deepnote_cell_height": 111.953125,
        "deepnote_cell_type": "code",
        "deepnote_to_be_reexecuted": false,
        "execution_millis": 32,
        "execution_start": 1649802793653,
        "output_cleared": true,
        "source_hash": "b73ab968",
        "tags": [],
        "trusted": true
      },
      "outputs": [],
      "source": "# COMPLETE VERSION\nPizza$predictions <- predict(toppings_model)\nhead(Pizza)"
    },
    {
      "cell_type": "markdown",
      "metadata": {
        "cell_id": "f677906f66ec401286e7b6dbf4a33fff",
        "deepnote_cell_height": 74.75,
        "deepnote_cell_type": "markdown"
      },
      "source": "2.4 - Add the model's predictions as dots to the visualization in red. Then add in the regression model in orange."
    },
    {
      "cell_type": "code",
      "execution_count": null,
      "metadata": {
        "cell_id": "fdb3b69a6f5d4a908284d628ea5ca8b7",
        "deepnote_cell_height": 129.953125,
        "deepnote_cell_type": "code",
        "deepnote_to_be_reexecuted": false,
        "execution_millis": 386,
        "execution_start": 1649802793732,
        "output_cleared": true,
        "source_hash": "84d94f08",
        "trusted": true
      },
      "outputs": [],
      "source": "# COMPLETE VERSION\ngf_point(Price ~ Toppings, data=Pizza) %>% \n    gf_point(predictions ~ Toppings, color = \"red\") %>%\n    gf_lm(color = \"orange\")"
    },
    {
      "cell_type": "markdown",
      "metadata": {
        "cell_id": "68d2fe6bc70c45088fe37b338bc4a2cb",
        "deepnote_cell_height": 185.515625,
        "deepnote_cell_type": "markdown",
        "tags": []
      },
      "source": "<div class=\"alert alert-block alert-warning\">\n\n**Note to Instructors**\n\n*Here, we have them add the predictions as dots as well as the regression line as a way of demonstrating the fact that a line is just a bunch of points, and the regression line is just a bunch of continuous model predictions.*\n\n</div>"
    },
    {
      "cell_type": "markdown",
      "metadata": {
        "cell_id": "254e889532364e078d05026883465f91",
        "deepnote_cell_height": 52.5625,
        "deepnote_cell_type": "markdown",
        "tags": []
      },
      "source": "2.6 - What is $b_0$? What does it mean in this context? Where do you see it in the visualization?"
    },
    {
      "cell_type": "markdown",
      "metadata": {
        "cell_id": "9754a29bce654c8388c772759293b098",
        "deepnote_cell_height": 199.71875,
        "deepnote_cell_type": "markdown",
        "tags": []
      },
      "source": "<div class=\"alert alert-block alert-warning\">\n\n**Sample Response**\n\n$b_0$ = 15.43. This means that the average price for a pizza with 0 toppings is about $15.43.\n\nWe can see this in our visualization along the y-axis at 15.43 (the y-intercept of the regression line).\n\n</div>"
    },
    {
      "cell_type": "markdown",
      "metadata": {
        "cell_id": "3ffd66d75a6a4f53b3264c7e9b0aa98a",
        "deepnote_cell_height": 52.5625,
        "deepnote_cell_type": "markdown",
        "tags": []
      },
      "source": "2.7 - What is $b_1$? What does it mean in this context? Where do you see it in the visualization?"
    },
    {
      "cell_type": "markdown",
      "metadata": {
        "cell_id": "e9d02f3288264c4c97b7cace240077c8",
        "deepnote_cell_height": 222.109375,
        "deepnote_cell_type": "markdown",
        "tags": []
      },
      "source": "<div class=\"alert alert-block alert-warning\">\n\n**Sample Response**\n\n$b_1$ = 1.32. This means that for every additional topping we add \\$1.32 to $b_0$, or the base price of a pizza ($15.43).\n\nWe can see this in our visualization as the slope of the line (every additional increment starting from the y-intercept).\n\n</div>"
    },
    {
      "cell_type": "markdown",
      "metadata": {
        "cell_id": "8cc621f7048a42939703544ad89b7cef",
        "deepnote_cell_height": 74.75,
        "deepnote_cell_type": "markdown",
        "tags": []
      },
      "source": "2.8 - According to the model, what would be the cost of a pizza with 1 topping? How about 5 toppings? 20 toppings? (Remember you can use R as a calculator!)"
    },
    {
      "cell_type": "code",
      "execution_count": null,
      "metadata": {
        "cell_id": "1fa7672e38784507a1f2d3c1f70dd71b",
        "deepnote_cell_height": 165.953125,
        "deepnote_cell_type": "code",
        "deepnote_to_be_reexecuted": false,
        "execution_millis": 9,
        "execution_start": 1649802794174,
        "output_cleared": true,
        "source_hash": "f8fe2bd1",
        "tags": [],
        "trusted": true
      },
      "outputs": [],
      "source": "# COMPLETE VERSION\n\n# Possible strategy\n15.43 + (1.32 * 1)\n15.43 + (1.32 * 5) \n15.43 + (1.32 * 20)"
    },
    {
      "cell_type": "markdown",
      "metadata": {
        "cell_id": "e35d2bceb76c4a0c99ccbd6d823af2e2",
        "deepnote_cell_height": 286.6875,
        "deepnote_cell_type": "markdown",
        "tags": []
      },
      "source": "<div class=\"alert alert-block alert-warning\">\n\n**Sample Response**\n\n- 1 topping --> 15.43 + 1.32(1) = 16.75\n- 5 toppings --> 15.43 + 1.32(5) = 22.03\n- 20 toppings --> 15.43 + 1.32(20) = 41.83\n\n\n**Note to Instructors**\n\n*You may want to ask about the reasonability of predicting a pizza with 20 toppings, as well as making predictions that go beyond the limits of our current data (extrapolation).*\n\n</div>"
    },
    {
      "cell_type": "markdown",
      "metadata": {
        "cell_id": "412d35b5fccf4cf1b9f6fe2496c3f477",
        "deepnote_cell_height": 115.9375,
        "deepnote_cell_type": "markdown",
        "tags": []
      },
      "source": "<div class=\"alert alert-block alert-success\">\n\n### 3.0 - Approximate Time: 12-15 mins\n    \n</div>"
    },
    {
      "cell_type": "markdown",
      "metadata": {
        "cell_id": "5dd0269d3cb040bc8c87501ea371efce",
        "deepnote_cell_height": 61.953125,
        "deepnote_cell_type": "markdown",
        "tags": []
      },
      "source": "### 3.0 - Evaluate the Models"
    },
    {
      "cell_type": "markdown",
      "metadata": {
        "cell_id": "dd6ebef1272242679088e9b45a626f59",
        "deepnote_cell_height": 74.75,
        "deepnote_cell_type": "markdown",
        "tags": []
      },
      "source": "3.1 - Let's take a look at our visualization with the regression model again, but this time, add in the empty model in blue below. "
    },
    {
      "cell_type": "code",
      "execution_count": null,
      "metadata": {
        "cell_id": "aca7e51e791541ce884caa72c7c651fc",
        "deepnote_cell_height": 147.96875,
        "deepnote_cell_type": "code",
        "deepnote_to_be_reexecuted": false,
        "execution_millis": 305,
        "execution_start": 1649806837153,
        "output_cleared": true,
        "source_hash": "ddcb5cec",
        "trusted": true
      },
      "outputs": [],
      "source": "# COMPLETE VERSION\n\ngf_point(Price ~ Toppings, data = Pizza)%>%\n    gf_lm(color=\"orange\") %>%\n    gf_hline(yintercept = 19.90, color = \"blue\")"
    },
    {
      "cell_type": "markdown",
      "metadata": {
        "cell_id": "7e24872ca3cc4f4b9e460cbb51712860",
        "deepnote_cell_height": 133.53125,
        "deepnote_cell_type": "markdown",
        "tags": []
      },
      "source": "3.2 - Run the visualization below. All the orange dots are the pizzas from Te Amo Pizza in Los Angeles. \n\nFor the two-topping pizza, which model is better, the empty model or the regression model? Explain."
    },
    {
      "cell_type": "code",
      "execution_count": null,
      "metadata": {
        "cell_id": "a4784565f2dd4def97e82d5aee0e0fc4",
        "deepnote_cell_height": 134.953125,
        "deepnote_cell_type": "code",
        "deepnote_to_be_reexecuted": false,
        "execution_millis": 389,
        "execution_start": 1649802794647,
        "output_cleared": true,
        "owner_user_id": "23d85493-7ed1-49a4-baa7-630eaab08193",
        "source_hash": "be9559e6",
        "tags": [],
        "trusted": true
      },
      "outputs": [],
      "source": "gf_point(Price ~ Toppings, data = Pizza, color = ~ Place == \"Te Amo Pizza\") %>% \n    gf_lm(color = \"orange\") %>% \n    gf_hline(yintercept = 19.90, color = \"blue\")\n"
    },
    {
      "cell_type": "markdown",
      "metadata": {
        "cell_id": "28b476323f284ea39582bd695fd8c19c",
        "deepnote_cell_height": 309.078125,
        "deepnote_cell_type": "markdown",
        "tags": []
      },
      "source": "<div class=\"alert alert-block alert-warning\">\n\n**Sample Responses**\n\nThe regression model is better, because....\n\n- it makes a better prediction.\n- it has a smaller residual.\n- the distance between the actual pizza and the regression model is smaller than the distance to the empty model.\n\nYou can see that the price goes up per topping for Te Amo Pizza pizzas at a similar rate to the regression line.\n\n</div>"
    },
    {
      "cell_type": "markdown",
      "metadata": {
        "cell_id": "5315ffd5388d46e6b41c87c731805e6c",
        "deepnote_cell_height": 74.75,
        "deepnote_cell_type": "markdown"
      },
      "source": "3.3 - Are there any pizzas from Te Amo where the empty model is a better predictor of its price? Explain."
    },
    {
      "cell_type": "markdown",
      "metadata": {
        "cell_id": "022165741cdd4ec19f4dae12162030a7",
        "deepnote_cell_height": 163.125,
        "deepnote_cell_type": "markdown",
        "tags": []
      },
      "source": "<div class=\"alert alert-block alert-warning\">\n\n**Sample Response**\n\nThere are two pizzas (4 and 6 toppings) that are closer to the empty model's prediction than the regression line.\n\n</div>"
    },
    {
      "cell_type": "markdown",
      "metadata": {
        "cell_id": "82e35c4eb97a4c7fb096f2cc88e5457d",
        "deepnote_cell_height": 52.359375,
        "deepnote_cell_type": "markdown",
        "tags": []
      },
      "source": "3.4 - Explain how each model balances the residuals."
    },
    {
      "cell_type": "markdown",
      "metadata": {
        "cell_id": "2791f24a69d1407784a1de501fb80ba2",
        "deepnote_cell_height": 303.078125,
        "deepnote_cell_type": "markdown",
        "tags": []
      },
      "source": "<div class=\"alert alert-block alert-warning\">\n\n**Sample Response**\n\nThe empty model balances the residuals of only the outcome variable, `Price`, because the mean is the point where the positive residuals are balanced by the negative residuals.\n\nThe regression model balances the residuals of both variables, `Price` and `Toppings`, because it is also a balance point, similar to the mean, where the positive residuals are equally balanced by the negative residuals. \n\n\nIn other words, for all the error above the model, there is an equal amount of error below the model.\n\n</div>"
    },
    {
      "cell_type": "markdown",
      "metadata": {
        "cell_id": "11b8d38b1e594a0494dbca516a312c11",
        "deepnote_cell_height": 52.359375,
        "deepnote_cell_type": "markdown",
        "tags": []
      },
      "source": "3.5 - Overall, which model seems to have smaller residuals on average? Explain."
    },
    {
      "cell_type": "markdown",
      "metadata": {
        "cell_id": "ae115a22592c4aab9e75fd09c70846d2",
        "deepnote_cell_height": 221.90625,
        "deepnote_cell_type": "markdown",
        "tags": []
      },
      "source": "<div class=\"alert alert-block alert-warning\">\n\n**Sample Response**\n\n*Students may still have difficulty \"seeing\" this and/or putting it into words at this point. Drawing out a few residuals on a printed graph may help them make sense of this.*\n\nThe distances between all the points and the regression model are usually smaller compared to all the distances from the empty model.\n\n</div>"
    }
  ],
  "metadata": {
    "deepnote_notebook_id": "9ed9b69f099d44bcae5f1ac4cc348c53",
    "kernelspec": {
      "display_name": "R",
      "language": "R",
      "name": "ir"
    },
    "language_info": {
      "codemirror_mode": "r",
      "file_extension": ".r",
      "mimetype": "text/x-r-source",
      "name": "R",
      "pygments_lexer": "r",
      "version": "4.3.3"
    },
    "nbsimplegrader": {
      "publish_config": {
        "classes": [],
        "options": [],
        "tools": []
      }
    }
  },
  "nbformat": 4,
  "nbformat_minor": 1
}