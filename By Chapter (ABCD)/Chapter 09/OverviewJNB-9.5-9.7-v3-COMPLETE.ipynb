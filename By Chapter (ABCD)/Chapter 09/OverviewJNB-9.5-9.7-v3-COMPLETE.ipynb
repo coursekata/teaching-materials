{
  "cells": [
    {
      "cell_type": "markdown",
      "metadata": {},
      "source": "# Quantifying Error from Regression Models (COMPLETE)\n\n## Chapter 9.5-9.7 Overview Notebook"
    },
    {
      "cell_type": "code",
      "execution_count": null,
      "metadata": {
        "cell_id": "00001-729831c0-b16b-460a-acfa-b932eab731be",
        "deepnote_cell_type": "code",
        "scrolled": true,
        "trusted": true
      },
      "outputs": [],
      "source": "# run this to set up the notebook\nlibrary(coursekata)\nlibrary(gridExtra)\n\n# set styles\ncss <- suppressWarnings(readLines(\"https://raw.githubusercontent.com/jimstigler/jupyter/master/ck_jupyter_styles_v2.css\"))\nIRdisplay::display_html(sprintf('<style>%s</style>', paste(css, collapse = \"\\n\")))\n\n# read in data\nstudy_data <- read.csv(\"https://docs.google.com/spreadsheets/d/e/2PACX-1vQjgMnwBMvsmAj9rP2OccPLjGZZUON9ifFqDav0IDo-F1fUqBgpGXoBK0Lhmqf1IApfcjC4LGnW5iaZ/pub?output=csv\") %>%\n  mutate(active_cat = factor(ntile(active,3), levels = c(1:3), labels = c(\"low\", \"medium\", \"high\")))\n\n# add functions directly from github\nsource(\"https://raw.githubusercontent.com/coursekata/beta-functions/refs/heads/main/gf_resid.R\")\nsource(\"https://raw.githubusercontent.com/coursekata/beta-functions/refs/heads/main/gf_square_resid.R\")\n"
    },
    {
      "cell_type": "markdown",
      "metadata": {},
      "source": "<div class=\"teacher-note\">\n    \n<b>Section Goals:</b> In this section, students extend their understanding of how to quantify error from a statistical model to include regression models.  As in group models, error is quantified based on residuals from the model predictions. Just as in group models, error from regression models can be quantified using sums of squares, PRE, and F, and total error can be partitioned into explained and unexplained parts. \n\nStudents should understand that, just like in group models:\n\n- Residuals are calculated as the value of the data point minus the predicted value based on the model.\n- SSE is calculated by squaring and summing all residuals from a model. \n- SST represents the total variation in the outcome variable (based on the empty model) and can be partitioned into SSM + SSE.\n- PRE quantifies how much better the regression model’s predictions are compared to the empty model. In regression contexts with one predictor variable, PRE is the same as R^2.\n- The F ratio adjusts for model complexity by incorporating MS (which incorporated degrees of freedom).\n\nA <a href=\"https://docs.google.com/document/d/1mzMcrHdNLWQ_JcL9ON9pyiKk5h8R3mgOXNr22S5vKww/edit?tab=t.5y2a0ykmi2fk\" target=\"_blank\">printable student guided-notes worksheet</a> is available to go with this Jupyter notebook, as well as a student version of this notebook.\n</div>"
    },
    {
      "cell_type": "markdown",
      "metadata": {},
      "source": "## 1 Quantifying Error From A Regression Model\n\nIn the previous notebook we compared a three-group model with a regression model. We learned how to fit a regression model, how to interpret the parameter estimates, and how to represent a regression model in GLM notation. In this notebook we will continue this comparison by looking at how we quantify error around a regression model.\n\n<img src=\"https://coursekata-course-assets.s3.us-west-1.amazonaws.com/UCLATALL/czi-stats-course/9.1-9.4-studying.png\">\n\n## 2 Review: The `study_data` Data Frame\n\nWe’ll continue working with the `study_data` dataset we used earlier. These data are similar to a study by <a href=\"https://pubmed.ncbi.nlm.nih.gov/33444109/\">Walck-Shannon, Rowell, and Frey (2021)</a>, in which college students described how they studied for a biology exam.\n\nEach student estimated what percentage of their study time they spent using different techniques (for example, quizzing themselves, re-reading notes, or explaining concepts to others). Researchers grouped these strategies into active and passive categories.\n\nThe `study_data` dataset includes data from 60 students and three variables:\n- `active`: the percentage of study time spent using active strategies\n- `active_cat`: a categorical variable indicating whether a student was low, medium, or high in active study time (20 students per group)\n- `exam`: the percent correct on the biology exam\n\nUse the code cell below to view the data set."
    },
    {
      "cell_type": "code",
      "execution_count": null,
      "metadata": {
        "nbsimplegrader": {
          "config_key": "code.response",
          "editable": true,
          "label": "Response: Code",
          "respondable": true,
          "response": null,
          "runnable": true,
          "type": "code"
        },
        "trusted": true
      },
      "outputs": [],
      "source": "# code here\n\n# complete\nstr(study_data)"
    },
    {
      "cell_type": "markdown",
      "metadata": {},
      "source": "## 3 Review: The Best-Fitting Group Model and the Regression Model\n"
    },
    {
      "cell_type": "markdown",
      "metadata": {},
      "source": "<div class=\"discussion-question\">\n\n### 3.1 Discussion Questions: These models are both the \"best-fitting\" models. What does this mean? How could they both be \"best-fitting\"?\n</div>"
    },
    {
      "cell_type": "code",
      "execution_count": null,
      "metadata": {
        "trusted": true
      },
      "outputs": [],
      "source": "# run this\n\n# this creates and prints out the best-fitting three-group model\nthreegroup_model <- lm(exam ~ active_cat, data = study_data)\nthreegroup_model\n\n# this creates the best-fitting regression model\nregression_model <- lm(exam ~ active, data = study_data)\nregression_model"
    },
    {
      "cell_type": "markdown",
      "metadata": {},
      "source": "<table border=\"1\" style=\"font-size: 18px; margin-left: 0; border-collapse: collapse; width: 100%;\">\n  <thead>\n    <tr>\n      <td style=\"border: 1px solid black; font-weight: bold; text-align: center; width:20%\"></td>\n      <td style=\"border: 1px solid black; font-weight: bold; text-align: center; width:40%\">Three-Group Model</td>\n      <td style=\"border: 1px solid black; font-weight: bold; text-align: center; width:40%\">Regression Model</td>\n    </tr>\n  </thead>\n  <tbody>\n    <tr>\n        <td style=\"border: 1px solid black; text-align: left; width: 50%; vertical-align: center;\"><b>Relationship</b></td>\n      <td style=\"border: 1px solid black; text-align: center; vertical-align: center;\"><code>exam ~ active_cat</code></td>\n      <td style=\"border: 1px solid black; text-align: center; vertical-align: center;\"><code>exam ~ active</code></td>\n    </tr>\n    <tr>\n      <td style=\"border: 1px solid black; text-align: left; width: 50%; vertical-align: center; height: 80px\"><b>Visualization of Model</b></td>\n      <td style=\"border: 1px solid black; text-align: left; vertical-align: center;\"><img src=\"https://coursekata-course-assets.s3.us-west-1.amazonaws.com/UCLATALL/czi-stats-course/9.5-9.7-overview-group-model.jpg\" alt=\"group model\"></td>\n      <td style=\"border: 1px solid black; text-align: left; vertical-align: center;\"><img src=\"https://coursekata-course-assets.s3.us-west-1.amazonaws.com/UCLATALL/czi-stats-course/9.5-9.7-overview-regression-model.jpg\" alt=\"regression model\"></td>\n    </tr>\n    <tr>\n      <td style=\"border: 1px solid black; text-align: left; width: 50%; vertical-align: top; height: 80px\"><b>Model Specified in GLM Notation</b></td>\n      <td style=\"border: 1px solid black; text-align: left; vertical-align: top;\">$$Y_i = b_0 + b_1X_{1i} + b_2X_{2i} + e_i$$</td>\n      <td style=\"border: 1px solid black; text-align: left; vertical-align: top;\">$$Y_i = b_0 + b_1X_{i} + e_i$$</td>\n    </tr>\n    <tr>\n      <td style=\"border: 1px solid black; text-align: left; width: 50%; vertical-align: top; height: 80px\"><b>Best-Fitting Model in GLM Notation</b></td>\n      <td style=\"border: 1px solid black; text-align: left; vertical-align: top;\">$$Y_i = 74.55 + 3.10X_{1i} + 4.85X_{2i} + e_i$$</td>\n      <td style=\"border: 1px solid black; text-align: left; vertical-align: top;\">$$Y_i = 70.7 + 0.13X_{i} + e_i$$</td>\n    </tr>\n  </tbody>  \n</table>"
    },
    {
      "cell_type": "markdown",
      "metadata": {},
      "source": "<div class=\"teacher-note\">\n\n**Teacher Note:** When we specify a model we decide what kind of a model we are going to fit: a group model, for example, or a regression model. \n    \nFitting the model means to find the parameter estimates (the values of the $b$s) that reduce error to the lowest possible level given the model that has been specified. It doesn't mean that either the group model or regression model is \"best\", but that *if we are going to fit the three-group model*, these are the parameter estimates that reduce error the most.\n    \nHowever, *if we are going to fit the regression model*, a different set of parameter estimates will reduce error the most.\n    \n</div>\n"
    },
    {
      "cell_type": "markdown",
      "metadata": {},
      "source": "## 4 DATA = MODEL + ERROR for Regression Models\n\nBoth the group model and the regression model can be expressed as:\n\n<p style=\"font-size: 20px\">$$Y_i = \\hat{Y}_i + e_i$$</p>\n\nWe just have different models that give us the predicted exam scores, the $\\hat{Y}_i$. This connects to our big organizing idea:\n\n<p style=\"font-size: 20px\">$$\\text{DATA} = \\text{MODEL} + \\text{ERROR}$$</p>\n\nIn the plot below, the gray points represent data from all 60 students. The six black points are a small sample we’ll use to explore model predictions and error in this section.\n"
    },
    {
      "cell_type": "markdown",
      "metadata": {},
      "source": "<div class=\"guided-notes\">\n\n### 4.1 Draw the model predictions ($\\hat{Y}_i$) for these 6 students as dots along the regression line\n    \nNext to each dot, write a numeric estimate of what the model predicts for that students' exam score.\n    \n</div>"
    },
    {
      "cell_type": "markdown",
      "metadata": {},
      "source": "<img src=\"https://coursekata-course-assets.s3.us-west-1.amazonaws.com/UCLATALL/czi-stats-course/9.5-9.7-overview-6-dots.jpg\" alt=\"scatter plot and regression line with 6 particular dots highlighted\" width = 60%>"
    },
    {
      "cell_type": "markdown",
      "metadata": {},
      "source": "<div class=\"guided-notes\">\n    \n### 4.2 For these 6 students, draw the error ($e_i$) as a line representing the difference between their data and the model prediction on the regression line. \n    \nNext to each line, mark whether you think the error is positive (+) or negative (–). \n\n    \n</div>"
    },
    {
      "cell_type": "markdown",
      "metadata": {},
      "source": "### 4.3 These lines represent residual error\n\nError from the regression model is just like error from the group model. In both cases, the error (or residual) is the difference between each data point and its predicted value from the model.  \n\nWe can express the idea of \"residual error\" by rearranging our word equation:\n\n<p style=\"font-size: 20px\">$$\\text{ERROR} = \\text{DATA} - \\text{MODEL}$$</p>\n"
    },
    {
      "cell_type": "markdown",
      "metadata": {},
      "source": "<div class=\"guided-notes\">\n    \n### 4.4 We can also represent that idea with GLM notation. How would you rearrange $Y_i = \\hat{Y}_i + e_i$ in a similar way to calculate $e_i$?\n    \n</div>"
    },
    {
      "cell_type": "markdown",
      "metadata": {},
      "source": "<div class=\"guided-notes\">\n    \n### 4.5 Calculate model predictions and residuals for the 6 students in the table. \nReminder: The best-fitting regression equation is $\\hat{Y}_i = 70.7 + 0.13X_i$ \n\n</div>"
    },
    {
      "cell_type": "markdown",
      "metadata": {},
      "source": "<table border=\"1\" style=\"font-size: 18px; margin-left: 0; border-collapse: collapse; width: 100%;\">\n  <thead>\n    <tr>\n      <td style=\"border: 1px solid black; font-weight: bold; text-align: left; width:20%\">active ($X_i$)</td>\n      <td style=\"border: 1px solid black; font-weight: bold; text-align: left; width:20%\">exam ($Y_i$)</td>\n      <td style=\"border: 1px solid black; font-weight: bold; text-align: left; width:25%\">predicted exam ($\\hat{Y}_i$)</td>\n      <td style=\"border: 1px solid black; font-weight: bold; text-align: left; width:25%\">residual error ($e_i$)</td>\n    </tr>\n  </thead>\n  <tbody>\n    <tr>\n      <td style=\"border: 1px solid black; text-align: left;\">26</td>\n      <td style=\"border: 1px solid black; text-align: left;\">77</td>\n      <td style=\"border: 1px solid black; text-align: center;\"></td>\n      <td style=\"border: 1px solid black; text-align: center;\"></td>\n    </tr>\n    <tr>\n      <td style=\"border: 1px solid black; text-align: left;\">44</td>\n      <td style=\"border: 1px solid black; text-align: left;\">72</td>\n      <td style=\"border: 1px solid black; text-align: center;\"></td>\n      <td style=\"border: 1px solid black; text-align: center;\"></td>\n    </tr>\n    <tr>\n      <td style=\"border: 1px solid black; text-align: left;\">54</td>\n      <td style=\"border: 1px solid black; text-align: left;\">76</td>\n      <td style=\"border: 1px solid black; text-align: center;\"></td>\n      <td style=\"border: 1px solid black; text-align: center;\"></td>\n    </tr>\n    <tr>\n      <td style=\"border: 1px solid black; text-align: left;\">57</td>\n      <td style=\"border: 1px solid black; text-align: left;\">80</td>\n      <td style=\"border: 1px solid black; text-align: center;\"></td>\n      <td style=\"border: 1px solid black; text-align: center;\"></td>\n    </tr>\n    <tr>\n      <td style=\"border: 1px solid black; text-align: left;\">63</td>\n      <td style=\"border: 1px solid black; text-align: left;\">84</td>\n      <td style=\"border: 1px solid black; text-align: center;\"></td>\n      <td style=\"border: 1px solid black; text-align: center;\"></td>\n    </tr>\n    <tr>\n      <td style=\"border: 1px solid black; text-align: left;\">71</td>\n      <td style=\"border: 1px solid black; text-align: left;\">76</td>\n      <td style=\"border: 1px solid black; text-align: center;\"></td>\n      <td style=\"border: 1px solid black; text-align: center;\"></td>\n    </tr>\n  </tbody>  \n</table>\n"
    },
    {
      "cell_type": "markdown",
      "metadata": {},
      "source": "<div class=\"guided-notes\">\n    \n### 4.6 Which column is DATA, MODEL, and ERROR? Label the columns in the table.\n\n</div>"
    },
    {
      "cell_type": "markdown",
      "metadata": {},
      "source": "<div class=\"guided-notes\">\n    \n### 4.7 Just like we calculated predictions and residuals by hand, R can calculate them for every row in the dataset using `predict()` and `resid()`. Fill in the missing parts of the table.\n\n</div>"
    },
    {
      "cell_type": "markdown",
      "metadata": {},
      "source": "<table border=\"1\" style=\"font-size: 18px; margin-left: 0; border-collapse: collapse; width: 100%;\">\n  <thead>\n    <tr>\n      <td style=\"border: 1px solid black; font-weight: bold; text-align: center; width:20%\"></td>\n      <td style=\"border: 1px solid black; font-weight: bold; text-align: center; width:40%\">Predictions</td>\n      <td style=\"border: 1px solid black; font-weight: bold; text-align: center; width:40%\">Residuals</td>\n    </tr>\n  </thead>\n  <tbody>\n    <tr>\n      <td style=\"border: 1px solid black; text-align: left;\">To calculate (but not save)</td>\n      <td style=\"border: 1px solid black; text-align: left; vertical-align: top;\"><code>predict(regression_model)</code></td>\n      <td style=\"border: 1px solid black; text-align: left; vertical-align: top;\"></td>\n    </tr>\n    <tr>\n      <td style=\"border: 1px solid black; text-align: left;\">To save into <code>study_data</code> as a new variable</td>\n      <td style=\"border: 1px solid black; text-align: left; vertical-align: top;\"><code>study_data&dollar;regression_predict &lt;- </code></td>\n      <td style=\"border: 1px solid black; text-align: left; vertical-align: top;\"></td>\n    </tr>\n  </tbody>  \n</table>\n"
    },
    {
      "cell_type": "markdown",
      "metadata": {},
      "source": "<div class=\"discussion-question\">\n\n### 4.8 Discussion Question: When we run the two lines of code below, will R print anything? Explain what these lines of code will do. (How can you check what the code did?)\n\n</div>"
    },
    {
      "cell_type": "code",
      "execution_count": null,
      "metadata": {
        "trusted": true
      },
      "outputs": [],
      "source": "# run this after you discuss 4.8\nstudy_data$regression_predict <- predict(regression_model)\nstudy_data$regression_resid <- resid(regression_model)\n\n# how can you check what the code did?\n\n# COMPLETE\nhead(study_data)"
    },
    {
      "cell_type": "markdown",
      "metadata": {},
      "source": "<div class=\"teacher-note\">\n\n**Sample Responses:**  \n- No, won't print anything because R is just saving objects.\n- This code should create two new variables in the data frame called `regression_predict` and `regression_resid`. We can check this just by running `head()`.\n    \n    \n</div>\n"
    },
    {
      "cell_type": "markdown",
      "metadata": {},
      "source": "<div class=\"guided-notes\">\n\n### 4.9 In addition to using R to calculate residuals for every student (every row), we can also use R to visualize all of them. We used `gf_resid()` before to display residuals from a group model. Try using it to visualize the residuals from the regression model.\n\n</div>\n"
    },
    {
      "cell_type": "code",
      "execution_count": null,
      "metadata": {
        "trusted": true
      },
      "outputs": [],
      "source": "# add gf_resid to this plot\ngf_point(exam ~ active, data = study_data) %>%\n  gf_model(regression_model, color = \"firebrick\")\n\n# COMPLETE\ngf_point(exam ~ active, data = study_data) %>%\n  gf_model(regression_model, color = \"firebrick\") %>%\n  gf_resid(regression_model, color = \"firebrick\")"
    },
    {
      "cell_type": "markdown",
      "metadata": {},
      "source": "<div class=\"discussion-question\">\n\n### 4.10 Discussion Question: Do the residuals seem to “balance” around the line, just like the residuals from the empty and group models? Is there a way we could write R code to check that idea?\n\n</div>"
    },
    {
      "cell_type": "code",
      "execution_count": null,
      "metadata": {
        "trusted": true
      },
      "outputs": [],
      "source": "# code here\n\n# COMPLETE\nsum(resid(regression_model))"
    },
    {
      "cell_type": "markdown",
      "metadata": {},
      "source": "<div class=\"teacher-note\">\n\n**Sample Responses:**  \n- There are residuals both above and below the regression line and overall it looks balanced. But I'm not sure I can know for sure just by looking at it.  \n- We could check this by adding up all the residuals; it should be close to zero.\n\n**Teacher Note:**  This question helps students generalize the balancing idea across all the best-fitting models we have explored so far: empty model, group model (made of group means), and the regression model. The regression model may not look like a mean, but it functions as one by being the “middle” of a bivariate distribution, balancing the residuals above and below it.\n</div>\n"
    },
    {
      "cell_type": "markdown",
      "metadata": {},
      "source": "## 5 Partitioning Variation Around the Regression Model\n\nIn group models, we saw that the total variation in the data (SST) could be broken down into the part explained by the model (SSM) and the leftover error (SSE).  This same idea applies to regression models: the regression line uses the `active` variable to explain part of the variation in `exam`, and the rest is left as error.\n\nWe can apply the DATA = MODEL + ERROR framework to SS like this:\n\n<p style=\"font-size: 20px\">$$\\text{SST} = \\text{SSM} + \\text{SSE}$$</p>"
    },
    {
      "cell_type": "markdown",
      "metadata": {},
      "source": "<div class=\"guided-notes\">\n\n### 5.1 Label this Venn diagram to show that SST (the total variation) can be partitioned into SSM (the model’s explained variation) and SSE (the unexplained error).\n\n</div>"
    },
    {
      "cell_type": "markdown",
      "metadata": {},
      "source": "<img src=\"https://coursekata-course-assets.s3.us-west-1.amazonaws.com/UCLATALL/czi-stats-course/7.5-7.7-overview-venn2.jpg\" width = 40%>"
    },
    {
      "cell_type": "markdown",
      "metadata": {},
      "source": "### 5.2 We can use `gf_squaresid()` (or `gf_square_resid()`) to visualize the error that is minimized by the regression model"
    },
    {
      "cell_type": "code",
      "execution_count": null,
      "metadata": {
        "trusted": true
      },
      "outputs": [],
      "source": "# add gf_squaresid to this visualization\ngf_point(exam ~ active, data = study_data) %>%\n  gf_model(regression_model, color = \"firebrick\") %>%\n  gf_resid(regression_model, color = \"firebrick\") \n\n# COMPLETE\ngf_point(exam ~ active, data = study_data) %>%\n  gf_model(regression_model, color = \"firebrick\") %>%\n  gf_resid(regression_model, color = \"firebrick\") %>%\n  gf_squaresid(regression_model)"
    },
    {
      "cell_type": "markdown",
      "metadata": {},
      "source": "<div class=\"guided-notes\">\n\n### 5.3 Use `supernova()` to look at the Sums of Squares from the regression model.  Label the Venn diagram with the values for SST, SSM, and SSE that you see in the ANOVA table.\n\nHow much error is left from the regression model compared to the error left from the empty model?\n\n\n</div>"
    },
    {
      "cell_type": "code",
      "execution_count": null,
      "metadata": {
        "trusted": true
      },
      "outputs": [],
      "source": "# code here\n\n# COMPLETE\nsupernova(regression_model)"
    },
    {
      "cell_type": "markdown",
      "metadata": {},
      "source": "<div class=\"guided-notes\">\n\n### 5.4 Fill out the table to compare the three models we've seen in the last few chapters: empty, group, and regression. \n\n- Put a check mark to show which models *balance residuals* and *minimize sum of squares*.  \n- Fill in the name of the sum of squares that each model minimizes.\n\n</div>"
    },
    {
      "cell_type": "markdown",
      "metadata": {},
      "source": "<table border=\"1\" style=\"font-size: 18px; margin-left: 0; border-collapse: collapse; width: 100%;\">\n  <thead>\n    <tr>\n      <td style=\"border: 1px solid black; font-weight: bold; text-align: center; width:25%\">Model</td>\n      <td style=\"border: 1px solid black; font-weight: bold; text-align: center; width:25%\">Balances Residuals?</td>\n      <td style=\"border: 1px solid black; font-weight: bold; text-align: center; width:25%\">Minimizes SS?</td>\n      <td style=\"border: 1px solid black; font-weight: bold; text-align: center; width:25%\">Name of the SS that is minimized</td>\n    </tr>\n  </thead>\n  <tbody>\n    <tr>\n      <td style=\"border: 1px solid black; text-align: center;\">Empty Model</td>\n      <td style=\"border: 1px solid black; text-align: center;\"> </td>\n      <td style=\"border: 1px solid black; text-align: center;\"> </td>\n      <td style=\"border: 1px solid black; text-align: center;\"> </td>\n    </tr>\n    <tr>\n      <td style=\"border: 1px solid black; text-align: center;\">Group Model</td>\n      <td style=\"border: 1px solid black; text-align: center;\"> </td>\n      <td style=\"border: 1px solid black; text-align: center;\"> </td>\n      <td style=\"border: 1px solid black; text-align: center;\"> </td>\n    </tr>\n    <tr>\n      <td style=\"border: 1px solid black; text-align: center;\">Regression Model</td>\n      <td style=\"border: 1px solid black; text-align: center;\"> </td>\n      <td style=\"border: 1px solid black; text-align: center;\"> </td>\n      <td style=\"border: 1px solid black; text-align: center;\"> </td>\n    </tr>\n  </tbody>  \n</table>\n"
    },
    {
      "cell_type": "markdown",
      "metadata": {},
      "source": "<div class=\"discussion-question\">\n\n### 5.5 Discussion Questions: Run the code below to look at the SSE from the three-group model and regression model. What do you notice about the different sums of squares for the two models? Which is a better model? How can you tell?\n    \n</div>"
    },
    {
      "cell_type": "code",
      "execution_count": null,
      "metadata": {
        "trusted": true
      },
      "outputs": [],
      "source": "# run this\nsupernova(threegroup_model)\nsupernova(regression_model)"
    },
    {
      "cell_type": "markdown",
      "metadata": {},
      "source": "<div class=\"teacher-note\">\n\n**Sample Responses:**  \n- SSE are similar (786 versus 772, respectively) and thus SSM (241 and 256, respectively) and PRE are similar too (0.23 and 0.25, respectively). \n- The models are actually fairly similar but the regression model is a little bit better.\n\n**Teacher Note:**  \n- Some students may have the insight to look at the F-statistic which penalizes the three group model for being more complicated. \n- You may reinforce that the SS Total for both model are the same because they have the same outcome variable (exam score).\n- You may want to ask students why it's a good thing that the SSE is smaller for the regression model than the three group model. We want students to internalize that when it comes to error, having *less* error is a good thing.\n \n</div>\n"
    }
  ],
  "metadata": {
    "deepnote_execution_queue": [],
    "deepnote_notebook_id": "608933bb-f248-4876-a618-1c815f90aa5a",
    "kernelspec": {
      "display_name": "R",
      "language": "R",
      "name": "ir"
    },
    "language_info": {
      "codemirror_mode": "r",
      "file_extension": ".r",
      "mimetype": "text/x-r-source",
      "name": "R",
      "pygments_lexer": "r",
      "version": "4.3.3"
    },
    "nbsimplegrader": {
      "publish_config": {
        "classes": [],
        "options": {},
        "tools": []
      }
    }
  },
  "nbformat": 4,
  "nbformat_minor": 2
}