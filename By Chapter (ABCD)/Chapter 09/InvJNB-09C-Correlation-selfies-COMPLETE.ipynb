{
  "cells": [
    {
      "cell_type": "markdown",
      "metadata": {
        "cell_id": "9abcd5f04e634b2093e397b6ac8497dc",
        "deepnote_cell_type": "markdown",
        "tags": []
      },
      "source": "<div class=\"alert alert-block alert-danger\">\n\n# 9C - Theories about Selfies (COMPLETE)\n\n**Use with textbook version 6.0+**\n\n**Lesson assumes students have read up through page: 9.10**\n    \n</div>"
    },
    {
      "cell_type": "markdown",
      "metadata": {
        "cell_id": "7c6324db4ea144ada00b9cb9123220df",
        "deepnote_cell_height": 163.9375,
        "deepnote_cell_type": "markdown",
        "tags": []
      },
      "source": "<div class=\"alert alert-block alert-success\">\n\n## Approximate time to complete Notebook: 45-60 Mins\n    \n</div>"
    },
    {
      "cell_type": "code",
      "execution_count": null,
      "metadata": {
        "cell_id": "de8730fe41ce4f30a1da0712c640eb12",
        "deepnote_cell_height": 199.921875,
        "deepnote_cell_type": "code",
        "deepnote_output_heights": [
          519.515625
        ],
        "deepnote_to_be_reexecuted": false,
        "execution_context_id": "fe82c714-db7d-403c-82fa-3eb1fb4e44d1",
        "execution_millis": 1048,
        "execution_start": 1735943743279,
        "nbsimplegrader": {
          "config_key": "code.run-only",
          "editable": false,
          "label": "Code: Run-Only",
          "respondable": false,
          "response": null,
          "runnable": true,
          "type": "code"
        },
        "output_cleared": false,
        "source_hash": "e2af21b9",
        "trusted": true
      },
      "outputs": [],
      "source": "# Load the CourseKata library\nsuppressPackageStartupMessages({\n    library(coursekata)\n})"
    },
    {
      "cell_type": "markdown",
      "metadata": {
        "cell_id": "a4dcdd7d62a94b88883b284bbfbb9334",
        "deepnote_cell_height": 115.9375,
        "deepnote_cell_type": "markdown",
        "tags": []
      },
      "source": "<div class=\"alert alert-block alert-success\">\n\n### 1.0 - Approximate Time: 5-8 mins\n    \n</div>"
    },
    {
      "cell_type": "markdown",
      "metadata": {
        "cell_id": "237be650126146d38689c5c9e311c30f",
        "deepnote_cell_height": 109.96875,
        "deepnote_cell_type": "markdown",
        "tags": []
      },
      "source": "## 1.0 - The Kind of Guy that Posts a Lot of Selfies..."
    },
    {
      "cell_type": "markdown",
      "metadata": {
        "cell_id": "36100a2abbb04db8bb85c3bc8363a585",
        "deepnote_cell_height": 111.140625,
        "deepnote_cell_type": "markdown",
        "tags": []
      },
      "source": "If we told you about an adult male who posts a lot of selfies on social media what do you think he would be like? (Do you know one of these? What are they like?)\n\nWell, lucky for us, we have some data we can take a look at to maybe get some answers."
    },
    {
      "cell_type": "markdown",
      "metadata": {
        "cell_id": "d788fb72b6914ae992a7acd171ce161c",
        "deepnote_cell_height": 52.359375,
        "deepnote_cell_type": "markdown",
        "tags": []
      },
      "source": "1.1 - Write some code to take a quick look at the `selfies` data frame."
    },
    {
      "cell_type": "code",
      "execution_count": null,
      "metadata": {
        "cell_id": "ba63f8d83981469db8554173dc7e43ba",
        "deepnote_cell_height": 1031.640625,
        "deepnote_cell_type": "code",
        "deepnote_output_heights": [
          275.90625,
          275.90625
        ],
        "deepnote_to_be_reexecuted": false,
        "execution_context_id": "fe82c714-db7d-403c-82fa-3eb1fb4e44d1",
        "execution_millis": 1350,
        "execution_start": 1735943744375,
        "output_cleared": false,
        "source_hash": "89d9ce4",
        "tags": [],
        "trusted": true
      },
      "outputs": [],
      "source": "selfies <- read.csv(\"https://docs.google.com/spreadsheets/d/e/2PACX-1vQJiwaSVpvLXAXndwL7-NRNJrW7Ncz7tnKLwROpkWwr739zU5yJKY7QHHhmCSxwiClMq11P8SAdN6M7/pub?output=csv\", header  = TRUE)\n\n# Some ways to peek at the data frame\nhead(selfies)\ntail(selfies)\nstr(selfies)"
    },
    {
      "cell_type": "markdown",
      "metadata": {
        "cell_id": "de61149b6ac54c0999a89d20ecb0badd",
        "deepnote_cell_height": 670.15625,
        "deepnote_cell_type": "markdown",
        "tags": []
      },
      "source": "This data in `selfies` is from an online survey of a nationally representative sample of U.S. men aged 18–40 (Fox & Rooney, 2015). Researchers were interested in visual self-presentation (e.g., posting “selfies” or editing pictures of themselves) as well as psychological measures such as the Dark Triad (i.e., narcissism, Machiavellianism, and psychopathy) and self-objectification (treating oneself like an object; judging themselves as objects with their worth based on outward attractiveness). \n\n- `subjectid` The male participant’s ID (there are no females included in this sample)\n- `selfobject` Trait self-objectification score. Scores can range from −25 to 25; higher scores indicate higher self-objectification\n- `narcissism` Score on four items from Narcissistic Personality Inventory; higher scores indicate higher narcissism\n- `machiavelli` Score on four items from the Mach IV scale; higher scores indicate higher tendencies toward manipulation\n- `psychotic` Score on four items from the Psychopathy Scale; higher scores indicate higher levels of subclinical psychopathy\n- `age` Age of the participant\n- `agerange` Whether the participant is < 25 years old, 25 - 30 years old, 31 - 35 years old, or over 35 years old\n- `timeonsocialmedia` Self-reported estimate of time spent each day on Facebook, Twitter, Instagram, Tumblr, and Pinterest in minutes, as a sum\n- `numselfies` Self-reported estimate of how many pictures taken of themselves and posted on the social networking sites in the past week \n- `numphotos` Self-reported estimate of how many pictures participants had posted in the past week that were not of themselves\n- `photoediting` Self-judgment of how often participants edit their photos before posting them (e.g. filters, cropping parts of themselves out), on a 5-point scale (1 = Never; 5 = Often)"
    },
    {
      "cell_type": "markdown",
      "metadata": {
        "cell_id": "26e47e7c86e347a2866e2e164fb72568",
        "deepnote_cell_height": 74.75,
        "deepnote_cell_type": "markdown",
        "tags": []
      },
      "source": "1.2 - **Get to know the data set:** What are the cases? Do you have questions about any of the variables?"
    },
    {
      "cell_type": "markdown",
      "metadata": {
        "cell_id": "eb77093b68fb40e7bc148637c58aadf6",
        "deepnote_cell_height": 140.71875,
        "deepnote_cell_type": "markdown",
        "tags": []
      },
      "source": "<div class=\"alert alert-block alert-warning\">\n\n**Sample Response**\n\nThe cases are the male participants.\n    \n</div>"
    },
    {
      "cell_type": "markdown",
      "metadata": {
        "cell_id": "462b4b9207984e0594b42639599d10eb",
        "deepnote_cell_height": 74.75,
        "deepnote_cell_type": "markdown",
        "tags": []
      },
      "source": "1.3 - What are some research questions or hypotheses you can explore with this data? Try to write as many questions or research hypotheses as you can.  "
    },
    {
      "cell_type": "markdown",
      "metadata": {
        "cell_id": "135c3f8fa2ce4229a71f44631f49c7a3",
        "deepnote_cell_height": 247.296875,
        "deepnote_cell_type": "markdown",
        "tags": []
      },
      "source": "<div class=\"alert alert-block alert-warning\">\n\n**Sample Response**\n\n*Some potential ideas students might come up with:*\n\n- Men who have a higher `narcissim` score may also post more `numselfies` (numselfies = narcissism + error). \n- Men who have a higher `selfobject` score may also do more `photoediting` (photoediting = selfobject + error). \n    \n</div>"
    },
    {
      "cell_type": "markdown",
      "metadata": {
        "cell_id": "299795d56cc64d95a78328e7c981ef27",
        "deepnote_cell_height": 115.9375,
        "deepnote_cell_type": "markdown",
        "tags": []
      },
      "source": "<div class=\"alert alert-block alert-success\">\n\n### 2.0 - Approximate Time: 5-8 mins\n    \n</div>"
    },
    {
      "cell_type": "markdown",
      "metadata": {
        "cell_id": "0c2beaa2b1ec4f5194b51eb923b8cec8",
        "deepnote_cell_height": 69.96875,
        "deepnote_cell_type": "markdown",
        "tags": []
      },
      "source": "## 2.0 - Explore Variation"
    },
    {
      "cell_type": "markdown",
      "metadata": {
        "cell_id": "f075d40913ca400c96ecf0f4d0f5710d",
        "deepnote_cell_height": 74.75,
        "deepnote_cell_type": "markdown",
        "tags": []
      },
      "source": "2.1 - Pick one research question/hypothesis you can explore with this data. Write that idea as a word equation and make a prediction about the pattern you might see."
    },
    {
      "cell_type": "markdown",
      "metadata": {
        "cell_id": "1b5cd16ca0a940a68c780fdd6a4b2203",
        "deepnote_cell_height": 213.515625,
        "deepnote_cell_type": "markdown",
        "tags": []
      },
      "source": "<div class=\"alert alert-block alert-warning\">\n\n**Sample Response**\n\n*Example Hypothesis:*\n\nnumselfies = narcissism + other stuff\n\nThose with higher narcissism scores will also post a higher number of selfies.\n    \n</div>"
    },
    {
      "cell_type": "markdown",
      "metadata": {
        "cell_id": "aef9aa8317d84108a91eb7d50bbf280c",
        "deepnote_cell_height": 52.359375,
        "deepnote_cell_type": "markdown",
        "tags": []
      },
      "source": "2.2 - Create a visualization to explore your word equation. What do you notice?"
    },
    {
      "cell_type": "code",
      "execution_count": null,
      "metadata": {
        "cell_id": "d1ca0da6d7eb442da69ade6b6ba384c5",
        "deepnote_cell_height": 571.96875,
        "deepnote_cell_type": "code",
        "deepnote_output_heights": [
          444.015625
        ],
        "deepnote_to_be_reexecuted": false,
        "execution_context_id": "fe82c714-db7d-403c-82fa-3eb1fb4e44d1",
        "execution_millis": 189,
        "execution_start": 1735943745771,
        "output_cleared": false,
        "source_hash": "2f950712",
        "tags": [],
        "trusted": true
      },
      "outputs": [],
      "source": "# Sample visualization (for the `numselfies = narcissism + error` hypothesis)\n\ngf_jitter(numselfies ~ narcissism, data = selfies, color = \"firebrick\")"
    },
    {
      "cell_type": "markdown",
      "metadata": {
        "cell_id": "480642410ba246dd8f1e03347ac2b287",
        "deepnote_cell_height": 272.6875,
        "deepnote_cell_type": "markdown",
        "tags": []
      },
      "source": "<div class=\"alert alert-block alert-warning\">\n\n**Sample Response**\n\n*Responses will vary depending on the hypothesis they pursue. This is a sample response for this particular hypothesis.*\n\n- There are a lot of `numselfies` values bunched up around zero (for all values of 'narcissism').\n- There is one outlier that is really high on `narcissism` and also really high on `numselfies` (near 30).\n- Most of the `numselfies` values are below 15.\n    \n</div>"
    },
    {
      "cell_type": "markdown",
      "metadata": {
        "cell_id": "c3f283ea991e4329a23a81c60167abb7",
        "deepnote_cell_height": 115.9375,
        "deepnote_cell_type": "markdown",
        "tags": []
      },
      "source": "<div class=\"alert alert-block alert-success\">\n\n### 3.0 - Approximate Time: 15-18 mins\n    \n</div>"
    },
    {
      "cell_type": "markdown",
      "metadata": {
        "cell_id": "5764fee38682454aa6d9992e4012f108",
        "deepnote_cell_height": 69.96875,
        "deepnote_cell_type": "markdown",
        "tags": []
      },
      "source": "## 3.0 - Model Variation"
    },
    {
      "cell_type": "markdown",
      "metadata": {
        "cell_id": "955ea0b6ca394f63a70d3ca4e0c7c26e",
        "deepnote_cell_height": 74.953125,
        "deepnote_cell_type": "markdown",
        "tags": []
      },
      "source": "3.1 - Based on what you see in your visualization, do you think your $b_1$ estimate will be a positive value, negative value, or somewhat close to 0?"
    },
    {
      "cell_type": "markdown",
      "metadata": {
        "cell_id": "bb57cd207de1418cba193aaadefca4ff",
        "deepnote_cell_height": 289.078125,
        "deepnote_cell_type": "markdown",
        "tags": []
      },
      "source": "<div class=\"alert alert-block alert-warning\">\n\n**Sample Response**\n\n*If students have not included the regression line in their visualization they may have a more difficult time discerning what the pattern is, but if they see a pattern that appears to trend upward, they should estimate a positive value, and if they see a pattern that appears to trend downward, they should estimate a negative value. If they say everything looks scattered, they should estimate a value close to zero.*\n\nLooking at the numselfies = narcissism + other stuff hypothesis, it appears there may be a slight positive slope.\n    \n</div>"
    },
    {
      "cell_type": "markdown",
      "metadata": {
        "cell_id": "31b7befd0caf47b2aec8358d19eda7e9",
        "deepnote_cell_height": 88.953125,
        "deepnote_cell_type": "markdown",
        "tags": []
      },
      "source": "3.2 - Find the best fit for your model and put the best fitting estimates into GLM notation.\n\n$$Y_i = b_0 + b_1 X_i + e_i$$"
    },
    {
      "cell_type": "code",
      "execution_count": null,
      "metadata": {
        "cell_id": "e72b1328487140cfa84f4634a56926a9",
        "deepnote_cell_height": 263.375,
        "deepnote_cell_type": "code",
        "deepnote_output_heights": [
          135.421875
        ],
        "deepnote_to_be_reexecuted": false,
        "execution_context_id": "fe82c714-db7d-403c-82fa-3eb1fb4e44d1",
        "execution_millis": 19,
        "execution_start": 1735943746003,
        "output_cleared": false,
        "source_hash": "c04896eb",
        "tags": [],
        "trusted": true
      },
      "outputs": [],
      "source": "# Fit the model using lm()\nnarc_model <- lm(numselfies ~ narcissism, data = selfies)\nnarc_model"
    },
    {
      "cell_type": "markdown",
      "metadata": {
        "cell_id": "2a70bba5f42c4dfc83e3d54cf2bf45fa",
        "deepnote_cell_height": 140.9375,
        "deepnote_cell_type": "markdown",
        "tags": []
      },
      "source": "<div class=\"alert alert-block alert-warning\">\n\n**Sample Response**\n\n$$numselfies_i = 0.09 + 0.35 narcissism_i + e_i$$\n    \n</div>"
    },
    {
      "cell_type": "markdown",
      "metadata": {
        "cell_id": "e64ea971b5d34930b535637cd13a16bd",
        "deepnote_cell_height": 52.359375,
        "deepnote_cell_type": "markdown",
        "tags": []
      },
      "source": "3.3 - Re-create your visualization here and put the best fitting model in your visualization.\n"
    },
    {
      "cell_type": "code",
      "execution_count": null,
      "metadata": {
        "cell_id": "80c3faad4c1a4e3482e37eb055075d09",
        "deepnote_cell_height": 1118.96875,
        "deepnote_cell_type": "code",
        "deepnote_output_heights": [
          444.015625,
          444.015625
        ],
        "deepnote_to_be_reexecuted": false,
        "execution_context_id": "fe82c714-db7d-403c-82fa-3eb1fb4e44d1",
        "execution_millis": 588,
        "execution_start": 1735943746067,
        "output_cleared": false,
        "source_hash": "bdc56338",
        "tags": [],
        "trusted": true
      },
      "outputs": [],
      "source": "# Sample visualization with model included (gf_lm)\ngf_jitter(numselfies ~ narcissism, data = selfies, color = \"firebrick\") %>%\n    gf_lm(color = \"blue\", size = 1.5)\n\n# Sample visualization with model included (gf_model)\ngf_jitter(numselfies ~ narcissism, data = selfies, color = \"firebrick\") %>%\n    gf_model(narc_model, color = \"blue\", size = 1.5)"
    },
    {
      "cell_type": "markdown",
      "metadata": {
        "cell_id": "5da867c215ce4de78e5bfa981afdd234",
        "deepnote_cell_height": 52.359375,
        "deepnote_cell_type": "markdown",
        "tags": []
      },
      "source": "3.4 - What do your parameter estimates mean? Interpret those numbers. "
    },
    {
      "cell_type": "markdown",
      "metadata": {
        "cell_id": "a4431a319e19485295d9fdb2cab45e93",
        "deepnote_cell_height": 222.3125,
        "deepnote_cell_type": "markdown",
        "tags": []
      },
      "source": "<div class=\"alert alert-block alert-warning\">\n\n**Sample Response**\n\nThe $b_0$ estimate is the y-intercept of the model; this means that when `narcissism` is zero, the mean number of selfies posted will be about 0.09.\n\nThe $b_1$ estimate is the slope of the model; this means that for every 1 unit increase in `narcissism`, a man will typically post about 0.35 more selfies (added onto the y-intercept).\n    \n</div>"
    },
    {
      "cell_type": "markdown",
      "metadata": {
        "cell_id": "dc115883a86c4d1389b6255e575b8550",
        "deepnote_cell_height": 52.359375,
        "deepnote_cell_type": "markdown",
        "tags": []
      },
      "source": "3.5 - How much better is your model than the empty model? "
    },
    {
      "cell_type": "code",
      "execution_count": null,
      "metadata": {
        "cell_id": "5ca57aca7cd74d5e8b467fba266ab7b2",
        "deepnote_cell_height": 283.953125,
        "deepnote_cell_type": "code",
        "deepnote_output_heights": [
          173.828125
        ],
        "deepnote_to_be_reexecuted": false,
        "execution_context_id": "fe82c714-db7d-403c-82fa-3eb1fb4e44d1",
        "execution_millis": 1,
        "execution_start": 1735943746699,
        "output_cleared": false,
        "source_hash": "84aac267",
        "tags": [],
        "trusted": true
      },
      "outputs": [],
      "source": "# Check the supernova table to see how much error has been explained\nsupernova(narc_model)"
    },
    {
      "cell_type": "markdown",
      "metadata": {
        "cell_id": "a8e520e154114ef48a44769cf9c9dc2a",
        "deepnote_cell_height": 163.125,
        "deepnote_cell_type": "markdown",
        "tags": []
      },
      "source": "<div class=\"alert alert-block alert-warning\">\n\n**Sample Response**\n\nIf we use the PRE as a measure, this model is about 2% better than the empty model (it explains about 2% more of the variation).\n    \n</div>"
    },
    {
      "cell_type": "markdown",
      "metadata": {
        "cell_id": "faa784c17cbd48c4a0d01ffa94f2effc",
        "deepnote_cell_height": 52.359375,
        "deepnote_cell_type": "markdown",
        "tags": []
      },
      "source": "3.6 - Could a model ever be worse than the empty model? Why or why not?"
    },
    {
      "cell_type": "markdown",
      "metadata": {
        "cell_id": "8274212d105848a095a0b55fbfefa705",
        "deepnote_cell_height": 163.125,
        "deepnote_cell_type": "markdown",
        "tags": []
      },
      "source": "<div class=\"alert alert-block alert-warning\">\n\n**Sample Response**\n\nNo, because the empty model represents the total error. Any time we add a variable to our model, it can not have more error than the empty model.\n    \n</div>"
    },
    {
      "cell_type": "markdown",
      "metadata": {
        "cell_id": "9771720b574f46cf8a5928a62eb1a4a6",
        "deepnote_cell_height": 74.953125,
        "deepnote_cell_type": "markdown",
        "tags": []
      },
      "source": "3.7 - Re-create your visualization here and put both the best fitting model **and** the empty model in your visualization. What is the slope ($b_1$) of the empty model? \n"
    },
    {
      "cell_type": "code",
      "execution_count": null,
      "metadata": {
        "cell_id": "21093222de404639910625f276deb9eb",
        "deepnote_cell_height": 1591.328125,
        "deepnote_cell_type": "code",
        "deepnote_output_heights": [
          130.9375,
          135.421875,
          444.015625,
          444.015625
        ],
        "deepnote_to_be_reexecuted": false,
        "execution_context_id": "fe82c714-db7d-403c-82fa-3eb1fb4e44d1",
        "execution_millis": 418,
        "execution_start": 1735943746743,
        "output_cleared": false,
        "source_hash": "5dddcf67",
        "tags": [],
        "trusted": true
      },
      "outputs": [],
      "source": "# Sample visualization with both models included (using favstats)\nnum_stats <- favstats(~numselfies, data = selfies)\nnum_stats\n\ngf_jitter(numselfies ~ narcissism, data = selfies, color = \"firebrick\") %>%\n    gf_lm(color = \"blue\", size = 1.5) %>%\n    gf_hline(yintercept = ~ mean, data = num_stats, color = \"green\", size = 1.5)\n\n# Sample visualization with both models included (using gf_model)\nempty_model <- lm(numselfies ~ NULL, data = selfies)\nempty_model\n\ngf_jitter(numselfies ~ narcissism, data = selfies, color = \"firebrick\") %>%\n    gf_model(narc_model, color = \"blue\", size = 1.5) %>%\n    gf_model(empty_model, color = \"green\", size = 1.5)"
    },
    {
      "cell_type": "markdown",
      "metadata": {
        "cell_id": "f2c69b621f674ad99fcd58e7238c9f01",
        "deepnote_cell_height": 140.71875,
        "deepnote_cell_type": "markdown",
        "tags": []
      },
      "source": "<div class=\"alert alert-block alert-warning\">\n\n**Sample Response**\n\nThe slope of the empty model is zero (it has no slope; it is flat).\n    \n</div>"
    },
    {
      "cell_type": "markdown",
      "metadata": {
        "cell_id": "463aea9b69b14934bdd98099fda1b981",
        "deepnote_cell_height": 97.140625,
        "deepnote_cell_type": "markdown",
        "tags": []
      },
      "source": "3.8 - What is the correlation coefficient (also called *Pearson's r* -- not to be confused with the programming language R!) between your outcome and explanatory variables? Try using the function `cor()` to find it. What does it mean? "
    },
    {
      "cell_type": "code",
      "execution_count": null,
      "metadata": {
        "cell_id": "91111c7302fa4cc3842dc3eca7bd58a6",
        "deepnote_cell_height": 130.140625,
        "deepnote_cell_type": "code",
        "deepnote_output_heights": [
          20.1875
        ],
        "deepnote_to_be_reexecuted": false,
        "execution_context_id": "fe82c714-db7d-403c-82fa-3eb1fb4e44d1",
        "execution_millis": 1,
        "execution_start": 1735943747203,
        "output_cleared": false,
        "source_hash": "26b769ce",
        "tags": [],
        "trusted": true
      },
      "outputs": [],
      "source": "# Use cor() to find the correlation coefficient\ncor(numselfies ~ narcissism, data = selfies)"
    },
    {
      "cell_type": "markdown",
      "metadata": {
        "cell_id": "7dfccbca99b94f629a48630cace7f7e4",
        "deepnote_cell_height": 140.71875,
        "deepnote_cell_type": "markdown",
        "tags": []
      },
      "source": "<div class=\"alert alert-block alert-warning\">\n\n**Sample Response**\n\nThe correlation coefficient (or *Pearson's r*) is 0.14.\n\nIt is the slope of the standardized regression line, and it means that for every one standard deviation increase of `narcissism`, add on .14 standard deviations to predicted `numselfies`.\n    \n</div>"
    },
    {
      "cell_type": "markdown",
      "metadata": {
        "cell_id": "6caea955028043af922ad9704a58b301",
        "deepnote_cell_height": 74.953125,
        "deepnote_cell_type": "markdown",
        "tags": []
      },
      "source": "3.9 - What is the relationship between the correlation coefficient and PRE? What is the relationship between the correlation coefficient and $b_1$?"
    },
    {
      "cell_type": "markdown",
      "metadata": {
        "cell_id": "6b091e118ad24881b6a3d518fbb0eb9e",
        "deepnote_cell_height": 244.921875,
        "deepnote_cell_type": "markdown",
        "tags": []
      },
      "source": "<div class=\"alert alert-block alert-warning\">\n\n**Sample Response**\n\nThe correlation coefficient ($r$) and PRE are related because PRE is $r$ squared. Additionally, they are both measures of the strength of a relationship/model. \n\nThe correlation coefficient ($r$) and $b_1$ are related because they can both tell us the direction of the relationship (positive or negative). They can also tell us the strength of a relationship (because the closer the $b_1$ estimate or $r$ estimate is to zero, the weaker the relationship).\n    \n</div>"
    },
    {
      "cell_type": "markdown",
      "metadata": {
        "cell_id": "a1cb2e29c5934415b1a22c19ed4f4228",
        "deepnote_cell_height": 115.9375,
        "deepnote_cell_type": "markdown",
        "tags": []
      },
      "source": "<div class=\"alert alert-block alert-success\">\n\n### 4.0 - Approximate Time: 15-18 mins\n    \n</div>"
    },
    {
      "cell_type": "markdown",
      "metadata": {
        "cell_id": "d111711c50ef4e97a33b1036a542cd47",
        "deepnote_cell_height": 69.96875,
        "deepnote_cell_type": "markdown",
        "tags": []
      },
      "source": "## 4.0 - Evaluating Models"
    },
    {
      "cell_type": "markdown",
      "metadata": {
        "cell_id": "7b97d1387f094982a7606c58d3049cbc",
        "deepnote_cell_height": 97.34375,
        "deepnote_cell_type": "markdown",
        "tags": []
      },
      "source": "4.1 - When we look at a visualization and think – yeah, this looks like there is a relationship between the explanatory and outcome variables – which parameter estimate best represents the “relationship”: $b_0$ or $b_1$?"
    },
    {
      "cell_type": "markdown",
      "metadata": {
        "cell_id": "3a712f02e4494352b74973d43001e9cb",
        "deepnote_cell_height": 163.53125,
        "deepnote_cell_type": "markdown",
        "tags": []
      },
      "source": "<div class=\"alert alert-block alert-warning\">\n\n**Sample Response**\n\n$b_1$ is the parameter estimate that best represents the \"relationship\" (this tells us whether there is any slope, or change in $Y_i$ as a result of $X_i$).\n    \n</div>"
    },
    {
      "cell_type": "markdown",
      "metadata": {
        "cell_id": "792ef72f44b541348f987b011f86cd98",
        "deepnote_cell_height": 75.15625,
        "deepnote_cell_type": "markdown",
        "tags": []
      },
      "source": "4.2 - If we were **using our data** to estimate the DGP, what would be the best $\\beta_1$ to represent the Data Generating Process? (Bonus: Why are we using $\\beta_1$ here instead of $b_1$?)\n"
    },
    {
      "cell_type": "markdown",
      "metadata": {
        "cell_id": "3431561eda4d41e092201d431badfef8",
        "deepnote_cell_height": 163.328125,
        "deepnote_cell_type": "markdown",
        "tags": []
      },
      "source": "<div class=\"alert alert-block alert-warning\">\n\n**Sample Response**\n\nThe best estimate of $\\beta_1$ is 0.35 (our $b_1$ estimate). We are using $\\beta_1$ because we are talking about the population or data generating process, not just referencing our sample.\n    \n</div>"
    },
    {
      "cell_type": "markdown",
      "metadata": {
        "cell_id": "5d5568ca048941e1960ff01c8d030beb",
        "deepnote_cell_height": 74.953125,
        "deepnote_cell_type": "markdown",
        "tags": []
      },
      "source": "4.3 - So why do we call $b_1$ the \"best estimate\"? (What are we trying to estimate? Why is it \"the best\"?)"
    },
    {
      "cell_type": "markdown",
      "metadata": {
        "cell_id": "01826fe35ff74c6fb51dcd1910a858ae",
        "deepnote_cell_height": 163.125,
        "deepnote_cell_type": "markdown",
        "tags": []
      },
      "source": "<div class=\"alert alert-block alert-warning\">\n\n**Sample Response**\n\nIt is the best estimate because it is the best we can do with our sample of data. We are trying to use our sample to estimate the true value of the population (or the DGP).\n    \n</div>"
    },
    {
      "cell_type": "markdown",
      "metadata": {
        "cell_id": "3c77543b4b2c4ce3b17067dbb52d6155",
        "deepnote_cell_height": 74.953125,
        "deepnote_cell_type": "markdown",
        "tags": []
      },
      "source": "4.4 - If a skeptic came along and claimed there is **no** relationship between your outcome and explanatory variables in the real world, what would be the best $\\beta_1$ to represent this idea? "
    },
    {
      "cell_type": "markdown",
      "metadata": {
        "cell_id": "b32458901e45420d943de1e868114f48",
        "deepnote_cell_height": 140.9375,
        "deepnote_cell_type": "markdown",
        "tags": []
      },
      "source": "<div class=\"alert alert-block alert-warning\">\n\n**Sample Response**\n\nThe best estimate of $\\beta_1$ if there is no relationship would be zero.\n    \n</div>"
    },
    {
      "cell_type": "markdown",
      "metadata": {
        "cell_id": "d6f5d11230c443c89d0b89d3d1072973",
        "deepnote_cell_height": 52.359375,
        "deepnote_cell_type": "markdown",
        "tags": []
      },
      "source": "4.5 - What other model (that we looked at today) has the very same value for slope?"
    },
    {
      "cell_type": "markdown",
      "metadata": {
        "cell_id": "443fd008718d4155965f8c60e8fd8054",
        "deepnote_cell_height": 140.9375,
        "deepnote_cell_type": "markdown",
        "tags": []
      },
      "source": "<div class=\"alert alert-block alert-warning\">\n\n**Sample Response**\n\nThe empty model also has a slope ($b_1$) of zero.\n    \n</div>"
    },
    {
      "cell_type": "markdown",
      "metadata": {
        "cell_id": "66f5bd47bddb43b1afc65b2b0b607c40",
        "deepnote_cell_height": 97.140625,
        "deepnote_cell_type": "markdown",
        "tags": []
      },
      "source": "4.6 - Notice a connection here! The empty model is the same as a model with **no relationship**. The empty model is also the same as a **random DGP** (such as `shuffle`). Why is shuffling the same as having **no relationship** between variables?"
    },
    {
      "cell_type": "markdown",
      "metadata": {
        "cell_id": "2599e2432e584f5b97bc1012c4f9308f",
        "deepnote_cell_height": 163.125,
        "deepnote_cell_type": "markdown",
        "tags": []
      },
      "source": "<div class=\"alert alert-block alert-warning\">\n\n**Sample Response**\n\nBecause shuffling randomizes everything and removes any relationship that may have been present between variables.\n    \n</div>"
    },
    {
      "cell_type": "markdown",
      "metadata": {
        "cell_id": "b1ae226d3d244c81819dd34e1e64a956",
        "deepnote_cell_height": 74.953125,
        "deepnote_cell_type": "markdown",
        "tags": []
      },
      "source": "4.7 - Is it *possible* that a DGP where there is *no relationship* (that is, the $\\beta_1=0$) produced your $b_1$? Is it *likely*?"
    },
    {
      "cell_type": "markdown",
      "metadata": {
        "cell_id": "37c497dc41644929902f5d9bf0a5f6a4",
        "deepnote_cell_height": 199.515625,
        "deepnote_cell_type": "markdown",
        "tags": []
      },
      "source": "<div class=\"alert alert-block alert-warning\">\n\n**Sample Response**\n\nIt is possible.\n\n*Students will have a range of observations for how likely it may be, as they may not have yet fully developed an understanding of p-value.*\n    \n</div>"
    },
    {
      "cell_type": "markdown",
      "metadata": {
        "cell_id": "8f94e59b655e4810b33459e1d906cb9d",
        "deepnote_cell_height": 133.53125,
        "deepnote_cell_type": "markdown",
        "tags": []
      },
      "source": "4.8 - Is it possible to generate some data that looks like this sample data with the `shuffle()` function? Is it likely?\n\nHere is some example code that looks at **shuffle(photoediting) = narcissism + error** in a jitter plot. Plug in your outcome and explanatory variables instead!"
    },
    {
      "cell_type": "code",
      "execution_count": null,
      "metadata": {
        "cell_id": "073648d402fd4e33b5f2dc577b10889d",
        "deepnote_cell_height": 1177.96875,
        "deepnote_cell_type": "code",
        "deepnote_output_heights": [
          444.015625,
          444.015625
        ],
        "deepnote_to_be_reexecuted": false,
        "execution_context_id": "fe82c714-db7d-403c-82fa-3eb1fb4e44d1",
        "execution_millis": 356,
        "execution_start": 1735943747247,
        "output_cleared": false,
        "source_hash": "564a5a9e",
        "tags": [],
        "trusted": true
      },
      "outputs": [],
      "source": "# Code modified to look at shuffle(numselfies) = narcissism + error\n\n# If you also want to look at the real sample data (unshuffled) as a jitter plot as well\ngf_jitter(numselfies ~ narcissism, data = selfies) %>%\n    gf_lm(color = \"orange\") %>%\n    gf_labs(title = \"SAMPLE DATA\")\n\ngf_jitter(shuffle(numselfies) ~ narcissism, data = selfies, color = \"navyblue\") %>%\n    gf_lm(color = \"magenta\") %>%\n    gf_labs(title = \"SHUFFLED DATA\")"
    },
    {
      "cell_type": "markdown",
      "metadata": {
        "cell_id": "4ff12a6ef0234d058df07eccc4238a65",
        "deepnote_cell_height": 115.9375,
        "deepnote_cell_type": "markdown",
        "tags": []
      },
      "source": "<div class=\"alert alert-block alert-success\">\n\n### 5.0 - Approximate Time: 3-5 mins\n    \n</div>"
    },
    {
      "cell_type": "markdown",
      "metadata": {
        "cell_id": "e85aa41ca1484c129b6bf8005e80da72",
        "deepnote_cell_height": 69.96875,
        "deepnote_cell_type": "markdown",
        "tags": []
      },
      "source": "## 5.0 - Do Good Models Imply Causation?"
    },
    {
      "cell_type": "markdown",
      "metadata": {
        "cell_id": "052ca41e21384ce7b26c677ca450442d",
        "deepnote_cell_height": 74.75,
        "deepnote_cell_type": "markdown",
        "tags": []
      },
      "source": "5.1 - If you found a pretty good model today, can you say that your explanatory variable\n**causes** variation in your outcome variable? Why or why not?"
    },
    {
      "cell_type": "markdown",
      "metadata": {
        "cell_id": "ca4b5bd188814899895f13c9f155c4eb",
        "deepnote_cell_height": 376.5,
        "deepnote_cell_type": "markdown",
        "tags": []
      },
      "source": "<div class=\"alert alert-block alert-warning\">\n\n**Sample Response**\n\nNo, we cannot say the variable causes variation in the outcome variable because these are correlational \ndata, not experimental data.\n    \n</div>"
    }
  ],
  "metadata": {
    "deepnote_notebook_id": "4d5202707cca4d88affc19b001bbc730",
    "kernelspec": {
      "display_name": "R",
      "language": "R",
      "name": "ir"
    },
    "language_info": {
      "codemirror_mode": "r",
      "file_extension": ".r",
      "mimetype": "text/x-r-source",
      "name": "R",
      "pygments_lexer": "r",
      "version": "4.3.3"
    },
    "nbsimplegrader": {
      "publish_config": {
        "classes": [],
        "options": [],
        "tools": []
      }
    }
  },
  "nbformat": 4,
  "nbformat_minor": 1
}