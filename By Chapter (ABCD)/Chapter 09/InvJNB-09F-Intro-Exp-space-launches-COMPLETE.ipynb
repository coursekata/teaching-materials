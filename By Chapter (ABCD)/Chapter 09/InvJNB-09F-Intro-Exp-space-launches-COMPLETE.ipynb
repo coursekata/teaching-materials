{
  "cells": [
    {
      "cell_type": "markdown",
      "metadata": {
        "cell_id": "59c0980dbd5940e78c61207b5298d977",
        "deepnote_cell_type": "markdown"
      },
      "source": "<div class=\"alert alert-block alert-danger\">\n\n# 9F: Trash in Space (COMPLETE)\n\n**Note**: This extra notebook introduces exponential growth models, which are not covered in the textbook.\n\n</div>\n\n[![YouTube Video Link](https://i.postimg.cc/05xmRp5W/image.png)](https://youtube.com/clip/UgkxDUniIVYUtXLZHZWGzvYuM67A24MMZ_ot?si=MsqC8ibknMTITAlP)"
    },
    {
      "cell_type": "code",
      "execution_count": null,
      "metadata": {
        "cell_id": "b2c70f9748e247819ed13ec5b2256a8f",
        "deepnote_cell_type": "code",
        "deepnote_to_be_reexecuted": false,
        "execution_millis": 5237,
        "execution_start": 1711061079265,
        "source_hash": null,
        "trusted": true
      },
      "outputs": [],
      "source": "# load the coursekata library\nlibrary(coursekata)\n\n# get rid of scientific notation in this notebook\noptions(scipen = 999)\n\n# load the data\nSpaceLaunches <- read.csv(\"https://docs.google.com/spreadsheets/d/e/2PACX-1vTDl_AY0dCw8I1Ant_jIsfICy7uFdcfIur4aTHbtBvk3kkqWwnl9I49BQtHSFknhW02mxRXiMT4lili/pub?gid=1871387628&single=true&output=csv\")\nSpaceLaunches3 <- SpaceLaunches %>%\n  filter(Year < \"2020\" & Country %in% c(\"United States\",\"Russia\",\"China\"))\nSpaceUSA <- read.csv(\"https://docs.google.com/spreadsheets/d/e/2PACX-1vTfjSDV7_clFIX0AwkBMHSLeIXCGmJGoMOm7F-Yd_jeuaQZCVFpLzQHnv7FLednLARzX0f-Eo1UlVzo/pub?gid=722119930&single=true&output=csv\")"
    },
    {
      "cell_type": "markdown",
      "metadata": {
        "cell_id": "4487ed557a9c4b04be05471795c8a13e",
        "deepnote_cell_type": "markdown"
      },
      "source": "## 1.0: What do you notice? What do you wonder? (Data Talk, Optional)\n\n<img src=\"https://www.visualcapitalist.com/wp-content/uploads/2023/07/Updated-Every-Space-Debris-orbiting-the-Earth-Visual-Capitalist-Preyash-Shah-1.jpg\" alt=\"Visual Capitalist Space Debris graph\" width=\"80%\"/>\n\n[Originally posted on Visual Capitalist](https://www.visualcapitalist.com/cp/space-debris-by-country/)"
    },
    {
      "cell_type": "markdown",
      "metadata": {
        "cell_id": "2368fed1da7745b0a1986bd35213a419",
        "deepnote_cell_type": "markdown"
      },
      "source": "<div class=\"alert alert-block alert-warning\">\n    \n**Instructor Notes:**\n\n- You may want to break it up with initial noticings (before they fully understand the graph) and deeper noticings.\n    \n#### Initial Noticings\n- Colors \n    - What do the colors mean? \n    - Where do they show up on the graph \n    - What do the clusters of color mean or represent? \n    - Where do you see the US? What other countries stand out? What countries are hard to find or see?\n- Axes\n    - x-axis represents time (left to right)\n    - y-axis represents distance from Earth (represented at the top); spatially lower means farther away from Earth \n\n#### Student Questions\n- How is space trash changing over time? \n- Who is more (and less) responsible for space trash?\n- What creates space trash?  \n- Why think about space trash? \n- What happens to space trash? (nothing - it just stays there!)\n- Who is keeping track of trash?\n\n#### Additional Context Instructors Can Provide\n- Why might it be hard to get data on trash in space?\n    - Old space junk collide into each other and create more trash (e.g., famous Russian and Chinese cases where one incident created thousands of pieces of trash).\n    - Some space debris is really small (imagine a loose bolt). Even a 1 cm object would most likely disable a spacecraft because debris are traveling fast.\n- Do we even get rid of space trash?\n    - [NASA's FAQ on Space Debris](https://orbitaldebris.jsc.nasa.gov/faq/) estimates that over the past 50 years, on average, one tracked piece of debris has fallen back to Earth each day. [SpaceTrack.Org](SpaceTrack.Org) data shows that approximately 1,600 pieces of debris re-entered in 2022. \n- How fast do you think space trash grows?\n    - You can use the graph above to discuss how one collision in 2009 between Russian and US satellite generated over 2000 pieces of debris.\n    \n</div>"
    },
    {
      "cell_type": "markdown",
      "metadata": {
        "cell_id": "d2119fa2b3964a95990cd1019eb367ea",
        "deepnote_app_block_visible": false,
        "deepnote_cell_type": "markdown"
      },
      "source": "Although there are large scale efforts to track space debris (that's part of the job of the [US Space Force](https://www.space-track.org/)), let's at least take a look at the stuff we launched up there **on purpose.** Some of these launches are now considered trash or will contribute to trash in the future!\n\n## 2.0: How have space launches changed over time?"
    },
    {
      "cell_type": "markdown",
      "metadata": {
        "cell_id": "86d4b1d4686746ff836774ca3a59f134",
        "deepnote_app_block_visible": false,
        "deepnote_cell_type": "markdown"
      },
      "source": "<div class=\"alert alert-block alert-info\">\n    \nRun the code cell below to create a scatterplot of space launches from three countries (US, Russia, China) over time *before 2020*. \n\n</div>"
    },
    {
      "cell_type": "code",
      "execution_count": null,
      "metadata": {
        "cell_id": "f8e0eff26cd5410abf5340162c4c0f81",
        "deepnote_cell_type": "code",
        "deepnote_to_be_reexecuted": false,
        "execution_millis": 238,
        "execution_start": 1711061084525,
        "source_hash": null,
        "trusted": true
      },
      "outputs": [],
      "source": "# run this\ngf_point(Launches ~ Year, data = filter(SpaceLaunches3, Country == \"United States\"), color = \"darkgray\") %>%\n  gf_point(Launches ~ Year, data = filter(SpaceLaunches3, Country == \"Russia\"), color = \"orange\") %>%\n  gf_point(Launches ~ Year, data = filter(SpaceLaunches3, Country ==\"China\"), color = \"red\")\n"
    },
    {
      "cell_type": "markdown",
      "metadata": {
        "cell_id": "fa4f85ee56a64f15ac16fa831890bb08",
        "deepnote_app_block_visible": false,
        "deepnote_cell_type": "markdown"
      },
      "source": "Possible questions to review the graph:\n\n- *Based on the code* which countries are shown in the graph? \n- *Based on the code* which color corresponds to which country? \n- Who had the most space launches in 1980? How do you know? \n- When did China begin their space launches?  \n- In the past 20 years, who has been responsible for the most space launches? "
    },
    {
      "cell_type": "markdown",
      "metadata": {
        "cell_id": "40bbd977aa3c4affbb30e2a5ca531fb3",
        "deepnote_app_block_visible": false,
        "deepnote_cell_type": "markdown"
      },
      "source": "## 3.0: The US has a lot of Launches\n\nNASA's space shuttle program ended in 2011. What happened to space launches since then in the US?\n\nTo help us investigate this question, we've included a small data set of just the US launches since 2011 called `SpaceUSA`. \n\n\n3.1 - Run the code below to see the data and to create a scatterplot of the launches since 2011."
    },
    {
      "cell_type": "code",
      "execution_count": null,
      "metadata": {
        "cell_id": "74388777d204455783243cd43082c421",
        "deepnote_cell_type": "code",
        "deepnote_to_be_reexecuted": false,
        "execution_millis": 205,
        "execution_start": 1711061084766,
        "source_hash": null,
        "trusted": true
      },
      "outputs": [],
      "source": "head(SpaceUSA)\n\n# create a scatterplot of Launches by YearSince2011\n"
    },
    {
      "cell_type": "code",
      "execution_count": null,
      "metadata": {
        "cell_id": "46903e7ae2e340a3adfdf3c474a491cd",
        "deepnote_cell_type": "code",
        "deepnote_to_be_reexecuted": false,
        "execution_millis": 318,
        "execution_start": 1711061084773,
        "source_hash": null,
        "trusted": true
      },
      "outputs": [],
      "source": "# COMPLETE\nhead(SpaceUSA)\n\n# create a scatterplot of Launches by YearSince2011\ngf_point(Launches ~ YearSince2011, data = SpaceUSA)"
    },
    {
      "cell_type": "markdown",
      "metadata": {
        "cell_id": "7cf0105e817c4b3eb5491ddc216b63bf",
        "deepnote_cell_type": "markdown"
      },
      "source": "3.2 - Let's try modeling the pattern we see in `Launches` by `YearSince2011` with a simple linear model. \n\nFind the best-fitting linear model and place it on the scatterplot."
    },
    {
      "cell_type": "code",
      "execution_count": null,
      "metadata": {
        "cell_id": "22521c0b5b084157a158790bd921ca22",
        "deepnote_cell_type": "code",
        "deepnote_to_be_reexecuted": false,
        "execution_millis": 174,
        "execution_start": 1711061084917,
        "source_hash": null,
        "trusted": true
      },
      "outputs": [],
      "source": "# COMPLETE\nlinear_model <- lm(Launches ~ YearSince2011, data = SpaceUSA)\nlinear_model\n\n# scatter plot + linear function\ngf_point(Launches ~ YearSince2011, data = SpaceUSA) %>%\n  gf_model(linear_model, color = \"slateblue\")"
    },
    {
      "cell_type": "markdown",
      "metadata": {
        "cell_id": "bdf75eb3abb94ff9b71f7524ec80df23",
        "deepnote_cell_type": "markdown"
      },
      "source": "3.3 - Write the equation for the best-fitting linear model using GLM notation."
    },
    {
      "cell_type": "markdown",
      "metadata": {
        "cell_id": "5bd01ff462834db9b40a34d94154fe8d",
        "deepnote_cell_type": "markdown"
      },
      "source": "<div class=\"alert alert-block alert-warning\">\n    \n**Sample Responses:**\n    \n- From the output of `lm()` below: \n    - $Y_i = -295.7 + 134.0X_i + e_i$\n    - or more specifically $Launches_i = -295.7 + 134.0YearSince2011_i + e_i$\n</div>"
    },
    {
      "cell_type": "markdown",
      "metadata": {
        "cell_id": "81772235c8a74c529f30f77df66a99cb",
        "deepnote_cell_type": "markdown"
      },
      "source": "3.4 - Run the code below to see what the model would have predict for each year after 2011.\n\nWhat would this model predict for the number of US space launches 13 years after 2011 (the year 2024)? Do you think this is a trustworthy prediction? Why or why not?\n\n(Optional: Add that prediction to the scatterplot by piping `%>%` another `gf_point()` on.)"
    },
    {
      "cell_type": "code",
      "execution_count": null,
      "metadata": {
        "cell_id": "ec6e3974d2dc4064be891d5b0ba73e08",
        "deepnote_cell_type": "code",
        "deepnote_to_be_reexecuted": false,
        "execution_millis": 209,
        "execution_start": 1711061085068,
        "source_hash": null,
        "trusted": true
      },
      "outputs": [],
      "source": "# Run this\ngf_point(Launches ~ YearSince2011, data = SpaceUSA) %>%\n  gf_point(predict(linear_model) ~ YearSince2011, color = \"slateblue\") "
    },
    {
      "cell_type": "markdown",
      "metadata": {
        "cell_id": "fb0e6b00f55b441398daaf60a2c0d8bf",
        "deepnote_cell_type": "markdown"
      },
      "source": "<div class=\"alert alert-block alert-warning\">\n    \n**Sample Responses:**\n    \n- -295.7 + 134.0*(13) = 1446.3\n- Maybe seems a little low to students because the linear equation produces predictions that are too low in the latter years in our data \n</div>"
    },
    {
      "cell_type": "code",
      "execution_count": null,
      "metadata": {
        "cell_id": "0e53c8e92e584c46a89b360cc25722ce",
        "deepnote_cell_type": "code",
        "deepnote_to_be_reexecuted": false,
        "execution_millis": 216,
        "execution_start": 1711061085206,
        "source_hash": null,
        "trusted": true
      },
      "outputs": [],
      "source": "# COMPLETE\n-295.7 + 134.0*(13)\n\n# scatter plot + predictions of linear model + newly predicted point\ngf_point(Launches ~ YearSince2011, data = SpaceUSA) %>%\n  gf_point(predict(linear_model) ~ YearSince2011, color = \"slateblue\") %>%\n  gf_point(1446.3 ~ 13, color = \"slateblue\")\n"
    },
    {
      "cell_type": "markdown",
      "metadata": {
        "cell_id": "bedfc9b67f6342e8a57831e79cff1ae4",
        "deepnote_app_block_visible": false,
        "deepnote_cell_type": "markdown"
      },
      "source": "3.5 - Even though this is the \"best-fitting\" linear model, a lot of students look at this so called \"best\" model and think it sucks. Why?"
    },
    {
      "cell_type": "markdown",
      "metadata": {
        "cell_id": "e70e9d22c53544cf83c946ed6298cfb8",
        "deepnote_cell_type": "markdown"
      },
      "source": "<div class=\"alert alert-block alert-warning\">\n    \n**Sample Responses:**\n\n- Linear pattern seems wrong even though it balances residuals and minimizes sums of squares relative to any other values of $b_0$ and $b_1$. \n- Linear equation produces predictions that are too low in the latter years in our data.\n    \n</div>"
    },
    {
      "cell_type": "markdown",
      "metadata": {
        "cell_id": "0574beb993974d719d021aeb1ae4abc1",
        "deepnote_app_block_visible": false,
        "deepnote_cell_type": "markdown"
      },
      "source": "## 4.0: Can we do better than the best linear function?"
    },
    {
      "cell_type": "markdown",
      "metadata": {
        "cell_id": "0a3347bb12514e39abdc8f3f1b944656",
        "deepnote_cell_type": "markdown"
      },
      "source": "You may have learned about exponential functions in the past where the $X_i$ is an exponent:\n\n$$Y_i = e^{X_i}$$\n\nIf you haven't taken calculus yet, just think of $e$ as a special number like $\\pi$. The value of $e$ (the exponential constant) is approximately 2.718. \n\n#### The important feature of an exponential function is that it can bend just like this -- higher values of x increase much faster than earlier values of x.\n\nWe can modify our typical GLM function to include an exponential element like this:\n\n$$Y_i = b_0 + b_1e^{X_i} + e_i$$\n\n(Note that $e$ is the exponential constant but $e_i$ is residual error!)"
    },
    {
      "cell_type": "markdown",
      "metadata": {
        "cell_id": "b1cca0237a7f416ca9cf4dc06a916075",
        "deepnote_cell_type": "markdown"
      },
      "source": "4.1 - Run the code below to find the best-fitting $b_0$ and $b_1$ for an exponential (rather than linear) model. Write the resulting equation in GLM notation."
    },
    {
      "cell_type": "code",
      "execution_count": null,
      "metadata": {
        "cell_id": "30f60f441b4a47c9b581e444eef0b1ce",
        "deepnote_cell_type": "code",
        "deepnote_to_be_reexecuted": false,
        "execution_millis": 229,
        "execution_start": 1711061085385,
        "source_hash": null,
        "trusted": true
      },
      "outputs": [],
      "source": "lm(Launches ~ exp(YearSince2011), data = SpaceUSA)"
    },
    {
      "cell_type": "markdown",
      "metadata": {
        "cell_id": "b5f11d020a374c70ad846d661616beed",
        "deepnote_cell_type": "markdown"
      },
      "source": "<div class=\"alert alert-block alert-warning\">\n    \n**Sample Responses:**\n\n- $Y_i = 203.90085 + 0.03009X_i + e_i$ \n    \nor\n\n- $Launches_i = 203.90085 + 0.03009e^{YearSince2011_i} + e_i$\n\n</div>"
    },
    {
      "cell_type": "markdown",
      "metadata": {
        "cell_id": "ddfde5452b48432e8ab2571377031eb3",
        "deepnote_cell_type": "markdown"
      },
      "source": "4.2 - Modify the graph below to place the predictions of the best-fitting exponential model on it."
    },
    {
      "cell_type": "code",
      "execution_count": null,
      "metadata": {
        "cell_id": "d5330a20713640939c3e1459d6989e73",
        "deepnote_cell_type": "code",
        "deepnote_to_be_reexecuted": false,
        "execution_millis": 208,
        "execution_start": 1711061085406,
        "source_hash": null,
        "trusted": true
      },
      "outputs": [],
      "source": "# modify this code\ngf_point(Launches ~ YearSince2011, data = SpaceUSA) %>%\n  gf_point(predict(linear_model) ~ YearSince2011, color = \"green4\")\n"
    },
    {
      "cell_type": "code",
      "execution_count": null,
      "metadata": {
        "cell_id": "0240e9c225f74e7eac51b5c0fb45dd2d",
        "deepnote_cell_type": "code",
        "deepnote_to_be_reexecuted": false,
        "execution_millis": 210,
        "execution_start": 1711061085573,
        "source_hash": null,
        "trusted": true
      },
      "outputs": [],
      "source": "# COMPLETE\nexp_model <- lm(Launches ~ exp(YearSince2011), data = SpaceUSA)\n\ngf_point(Launches ~ YearSince2011, data = SpaceUSA) %>%\n  gf_point(predict(exp_model) ~ YearSince2011, color = \"green4\")\n"
    },
    {
      "cell_type": "markdown",
      "metadata": {
        "cell_id": "32ae1cc5d12e420f9d12bc73d13d207e",
        "deepnote_cell_type": "markdown"
      },
      "source": "4.3 - What would this model predict for the number of US space launches 13 years after 2011 (the year 2024)? Do you think this is a trustworthy prediction? Why or why not?\n\nNote: In R we would code, we would code $e^2$ by writing `exp(2)`. How might you code $e^{13}$?\n\n(Optional: Add that prediction to the scatterplot by piping `%>%` another `gf_point()` on.)"
    },
    {
      "cell_type": "code",
      "execution_count": null,
      "metadata": {
        "cell_id": "82eac0233dff4184a9e8dd90c541f482",
        "deepnote_cell_type": "code",
        "deepnote_to_be_reexecuted": false,
        "execution_millis": 55,
        "execution_start": 1711061232906,
        "source_hash": null,
        "trusted": true
      },
      "outputs": [],
      "source": "# this computes e to the 2nd power\n# how would you modify this for the 13th power?\nexp(2)"
    },
    {
      "cell_type": "code",
      "execution_count": null,
      "metadata": {
        "cell_id": "a65795ccf60a4b77b45f06a7b1d61e96",
        "deepnote_cell_type": "code",
        "deepnote_to_be_reexecuted": false,
        "execution_millis": 183,
        "execution_start": 1711061085740,
        "source_hash": null,
        "trusted": true
      },
      "outputs": [],
      "source": "# COMPLETE\n203.90085 + 0.03009*exp(13)\n\ngf_point(Launches ~ YearSince2011, data = SpaceUSA) %>%\n  gf_point(predict(exp_model) ~ YearSince2011, color = \"green4\") %>%\n  gf_point((203.90085 + 0.03009*exp(13)) ~ 13, color = \"green4\")\n"
    },
    {
      "cell_type": "markdown",
      "metadata": {
        "cell_id": "df9c3d3f502f4b4ebaa91e497e59a605",
        "deepnote_cell_type": "markdown"
      },
      "source": "4.4 - How is the exponential model growing differently than the linear? "
    },
    {
      "cell_type": "markdown",
      "metadata": {
        "cell_id": "a75cc5b03726455f8538554f2162e87d",
        "deepnote_cell_type": "markdown"
      },
      "source": "<div class=\"alert alert-block alert-warning\">\n    \n**Sample Responses:**\n\n- Growth is slower for lower values of `YearSince2011` (i.e., slope is less steep); growth is faster for higher values of `YearSince2011` (slope is more steep).\n\n</div>"
    },
    {
      "cell_type": "markdown",
      "metadata": {
        "cell_id": "c0363662c2574b0392cc1d6012f0dc4f",
        "deepnote_cell_type": "markdown"
      },
      "source": "## 5.0: How much error has been reduced?"
    },
    {
      "cell_type": "markdown",
      "metadata": {
        "cell_id": "83aa6c3b8c744c5eb67cb0bfd247f079",
        "deepnote_cell_type": "markdown"
      },
      "source": "5.1 - How much error in `Launches` is explained by the linear model? How about the exponential model?"
    },
    {
      "cell_type": "code",
      "execution_count": null,
      "metadata": {
        "cell_id": "43237291df7a4cf29a8742c94646f653",
        "deepnote_cell_type": "code",
        "deepnote_to_be_reexecuted": false,
        "execution_millis": 187,
        "execution_start": 1711061085905,
        "source_hash": null,
        "trusted": true
      },
      "outputs": [],
      "source": "# COMPLETE\nsupernova(linear_model)\nsupernova(exp_model)"
    },
    {
      "cell_type": "markdown",
      "metadata": {
        "cell_id": "05b04b06fe1c464c8c45931e90b52706",
        "deepnote_cell_type": "markdown"
      },
      "source": "<div class=\"alert alert-block alert-warning\">\n    \n**Sample Responses:**\n\n- 70% versus 84%\n- Note that the models use the same number of degrees of freedom (just 1 more than the empty model). For spending the same degrees of freedom, the exponential model explains more error.\n\n</div>"
    },
    {
      "cell_type": "markdown",
      "metadata": {
        "cell_id": "a663396f300047d88e4ca6145e45dc25",
        "deepnote_app_block_visible": false,
        "deepnote_cell_type": "markdown"
      },
      "source": "5.2 - **Concluding thoughts**, as the number of space launches increase, what do you will think will happen to the amount of space trash?\n"
    },
    {
      "cell_type": "markdown",
      "metadata": {
        "cell_id": "5cf663fb972d40d7bae41a0059478d50",
        "deepnote_cell_type": "markdown"
      },
      "source": "<div class=\"alert alert-block alert-warning\">\n    \n**Sample Responses:**\n\n- Uh oh. We better do something about these launches... \n- If students are interested in learning about possible solutions, they can read this: https://fas.org/publication/how-do-you-clean-up-170-million-pieces-of-space-junk/\n- Also, NASA is looking for innovative ideas: https://www.nasa.gov/directorates/stmd/stmd-prizes-challenges-crowdsourcing-program/center-of-excellence-for-collaborative-innovation-coeci/coeci-news/nasa-seeks-solutions-to-detect-track-clean-up-small-space-debris/\n\n\n</div>"
    },
    {
      "cell_type": "markdown",
      "metadata": {
        "cell_id": "1c2c188abb04470ba8906c1de83be780",
        "deepnote_app_block_visible": false,
        "deepnote_cell_type": "markdown"
      },
      "source": "## Data Details\n\nThe launches counted in the dataframes used in this Jupyter notebook include satellites, probes, landers, crewed spacecrafts, and space station flight elements launched into Earth orbit or beyond. Original data from United Nations Office for Outer Space Affairs (2024) with major processing by [Our World in Data](https://ourworldindata.org/space-exploration-satellites). "
    }
  ],
  "metadata": {
    "deepnote_notebook_id": "3d98d5e522d14a558cc24b1a0b34c08f",
    "kernelspec": {
      "display_name": "R",
      "language": "R",
      "name": "ir"
    },
    "language_info": {
      "codemirror_mode": "r",
      "file_extension": ".r",
      "mimetype": "text/x-r-source",
      "name": "R",
      "pygments_lexer": "r",
      "version": "4.3.3"
    },
    "nbsimplegrader": {
      "publish_config": {
        "classes": [],
        "options": [],
        "tools": []
      }
    }
  },
  "nbformat": 4,
  "nbformat_minor": 1
}