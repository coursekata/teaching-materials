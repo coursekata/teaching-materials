{
  "cells": [
    {
      "cell_type": "markdown",
      "metadata": {},
      "source": "# Regression Models with a Quantitative Explanatory Variable\n\n## Chapter 9.1-9.4 Overview Notebook"
    },
    {
      "cell_type": "code",
      "execution_count": null,
      "metadata": {
        "cell_id": "00001-729831c0-b16b-460a-acfa-b932eab731be",
        "deepnote_cell_type": "code",
        "scrolled": true,
        "vscode": {
          "languageId": "r"
        },
        "trusted": true
      },
      "outputs": [],
      "source": "# run this to set up the notebook\nlibrary(coursekata)\nlibrary(gridExtra)\n\n# set styles\ncss <- suppressWarnings(readLines(\"https://raw.githubusercontent.com/jimstigler/jupyter/master/ck_jupyter_styles_v2.css\"))\nIRdisplay::display_html(sprintf('<style>%s</style>', paste(css, collapse = \"\\n\")))\n\n# read in data\nstudy_data <- read.csv(\"https://docs.google.com/spreadsheets/d/e/2PACX-1vQjgMnwBMvsmAj9rP2OccPLjGZZUON9ifFqDav0IDo-F1fUqBgpGXoBK0Lhmqf1IApfcjC4LGnW5iaZ/pub?output=csv\") %>%\n  mutate(active_cat = factor(ntile(active,3), levels = c(1:3), labels = c(\"low\", \"medium\", \"high\")))\n"
    },
    {
      "cell_type": "markdown",
      "metadata": {},
      "source": "## 1 From Group Models to Regression\n\nUp to now we have been building *group models* with categorical explanatory variables which you could think of like this: \n\n**Quantitative Outcome = Categorical Explanatory + Other Stuff**\n\nIn this notebook we introduce models traditionally referred to as *regression models* which have a quantitative explanatory variable like this: \n\n**Quantitative Outcome = Quantitative Explanatory + Other Stuff**\n\nIn most ways, they are exactly the same as group models, with just a few differences. Everything you know about fitting and interpreting group models will apply, as will the analysis of error around the model. Most important of all, the concept of **DATA = MODEL + ERROR** is exactly the same. So to dive into regression models, let's introduce a new dataset.\n\n<img src=\"https://coursekata-course-assets.s3.us-west-1.amazonaws.com/UCLATALL/czi-stats-course/9.1-9.4-studying.png\">\n\n## 2 The `study_data` Dataset\n\nHow do you study when you have a test coming up? It turns out there are lots of ways to study. You can re-read the textbook, you can re-read your notes, you can re-write your notes, you can quiz yourself, you can explain key concepts to a friend, and so on. But a large body of research shows that not all methods of studying are equally effective. \n\nWalck-Shannon, Rowell & Frey (2021) did a study of college students reflecting on how they studied for a biology test. Before taking the biology test, students were given descriptions of various study techniques and asked, for each technique, to estimate what percentage of their study time they spent using each technique. Here is a partial list of the techniques they presented to students:\n\n- Do practice problem sets\n- Re-answer questions from an old exam\n- Quiz yourself\n- Explain concepts to yourself or others\n- Synthesize notes\t\n- Make diagrams\t\n- Review outside content online\n- Re-read notes you have taken in class\t\n- Watch lecture video\t\n- Re-read textbook\t\n- Re-write/copy notes\t\n\nSource: <a href=\"https://pubmed.ncbi.nlm.nih.gov/33444109/\">Walck-Shannon, E. M., Rowell, S. F., & Frey, R. F. (2021). To what extent do study habits relate to performance?</a>"
    },
    {
      "cell_type": "markdown",
      "metadata": {},
      "source": "<div class=\"guided-notes\">\n\n### 2.1 Think of how you normally study for an exam. Estimate what percentage of your study time you spend in each activity. (Your numbers should add up to 100%.)\n    \n</div>\n"
    },
    {
      "cell_type": "markdown",
      "metadata": {},
      "source": "<div class=\"discussion-question\">\n\n### 2.2 Discussion Question: The researchers who collected data for this study categorized the first 6 strategies as *active* and the next 5 strategies as *passive*. Why do you think the first group of strategies are considered active? What makes the second group more passive?\n</div>"
    },
    {
      "cell_type": "markdown",
      "metadata": {},
      "source": "<div class=\"guided-notes\">\n    \n### 2.3 Add up your `active` percentage of study time by adding up your estimates for the first 6 study strategies.\n\nWhat does this number say about how you tend to study? Is there a way you can make your studying more active?\n    \n</div>"
    },
    {
      "cell_type": "markdown",
      "metadata": {},
      "source": "### 2.4 About the data in `study_data` \n\nThe `study_data` dataset comes from 60 college students taking a biology class. Each student reported their percentage of active study time just like we did. The dataset includes three variables:\n\n- `active`: the percent of study time spent using active strategies\n- `active_cat`: a categorical variable that indicates whether students are relatively `low`, `medium` or `high` in active study time (20 students in each group)\n- `exam`: the percent correct on a biology exam\n\nUse the code cell below to take a look at the data frame and examine the distributions of the three variables."
    },
    {
      "cell_type": "code",
      "execution_count": null,
      "metadata": {
        "nbsimplegrader": {
          "config_key": "code.response",
          "editable": true,
          "label": "Response: Code",
          "respondable": true,
          "response": null,
          "runnable": true,
          "type": "code"
        },
        "trusted": true
      },
      "outputs": [],
      "source": "# code here"
    },
    {
      "cell_type": "markdown",
      "metadata": {},
      "source": "## 3 Exploring the Relationship of Exam Scores to Study Strategies"
    },
    {
      "cell_type": "markdown",
      "metadata": {},
      "source": "<div class=\"guided-notes\">\n\n### 3.1 What do you think the researchers' hypothesis was about the relationship between exam score and active studying? Write a word equation to represent their hypothesis. \n\n</div>\n"
    },
    {
      "cell_type": "markdown",
      "metadata": {},
      "source": "### 3.2 We have two explanatory variables that can be used to represent active study strategies (`active` and `active_cat`).  Use the code cell to visualize the relationship between `exam` and `active`, and between `exam` and `active_cat`.\n\nWhat is the difference between these two explanatory variables?"
    },
    {
      "cell_type": "code",
      "execution_count": null,
      "metadata": {
        "nbsimplegrader": {
          "config_key": "code.response",
          "editable": true,
          "label": "Response: Code",
          "respondable": true,
          "response": null,
          "runnable": true,
          "type": "code"
        },
        "vscode": {
          "languageId": "r"
        },
        "trusted": true
      },
      "outputs": [],
      "source": "# code here"
    },
    {
      "cell_type": "markdown",
      "metadata": {},
      "source": "<div class=\"discussion-question\">\n\n### 3.3 Discussion Question: Do you think the data support the researchers' hypothesis? What patterns do you notice in the graphs?\n</div>"
    },
    {
      "cell_type": "markdown",
      "metadata": {},
      "source": "## 4 Reviewing the Three-Group Model\n\nWe already know how to create a three-group model. Because we have a categorical version of our study strategies variable (`active_cat`), we can start by creating the `group_model` of exam."
    },
    {
      "cell_type": "markdown",
      "metadata": {},
      "source": "<div class=\"guided-notes\">\n\n### 4.1 Write the code you would use to fit the three-group model of `exam` based on `active_cat` (low, medium or high) in the second row of the table.\n    \n</div>\n"
    },
    {
      "cell_type": "markdown",
      "metadata": {},
      "source": "<table border=\"1\" style=\"font-size: 18px; margin-left: 0; border-collapse: collapse; width: 100%;\">\n  <thead>\n    <tr>\n      <td style=\"border: 1px solid black; font-weight: bold; text-align: center; width:20%\"></td>\n      <td style=\"border: 1px solid black; font-weight: bold; text-align: center; width:40%\">Three-Group Model</td>\n      <td style=\"border: 1px solid black; font-weight: bold; text-align: center; width:40%\">Regression Model</td>\n    </tr>\n  </thead>\n  <tbody>\n    <tr>\n        <td style=\"border: 1px solid black; text-align: left; width: 50%; vertical-align: center;\"><b>Relationship</b></td>\n      <td style=\"border: 1px solid black; text-align: center; vertical-align: center;\"><code>exam ~ active_cat</code></td>\n      <td style=\"border: 1px solid black; text-align: center; vertical-align: center;\"><code>exam ~ active</code></td>\n    </tr>\n    <tr>\n        <td style=\"border: 1px solid black; text-align: left; width: 50%; vertical-align: center; height: 80px\"><b>R to Fit Model</b></td>\n        <td style=\"border: 1px solid black; text-align: left; vertical-align: center;\"><code>group_model <- </code></td>\n      <td style=\"border: 1px solid black; text-align: left; vertical-align: center;\"><code>regression_model <- </code></td>\n    </tr>\n    <tr>\n      <td style=\"border: 1px solid black; text-align: left; width: 50%; vertical-align: center; height: 80px\"><b>Visualization of Model</b></td>\n      <td style=\"border: 1px solid black; text-align: left; vertical-align: center;\"><img src=\"https://coursekata-course-assets.s3.us-west-1.amazonaws.com/UCLATALL/czi-stats-course/9.1-9.4-group-model-to-label.jpg\" alt=\"group model\"></td>\n      <td style=\"border: 1px solid black; text-align: left; vertical-align: center;\"><img src=\"https://coursekata-course-assets.s3.us-west-1.amazonaws.com/UCLATALL/czi-stats-course/9.1-9.4-regression-model-to-label.jpg\" alt=\"regression model\"></td>\n    </tr>\n    <tr>\n      <td style=\"border: 1px solid black; text-align: left; width: 50%; vertical-align: top; height: 80px\"><b>Parameter Estimates</b></td>\n      <td style=\"border: 1px solid black; text-align: left; vertical-align: top;font-size: 10px;\"><pre><code>Call:\nlm(formula = exam ~ active_cat, data = study_data)\n\nCoefficients:\n     (Intercept)  active_catmedium    active_cathigh  \n           74.55              3.10              4.85</code></pre></td>\n      <td style=\"border: 1px solid black; text-align: left; vertical-align: top;font-size: 10px;\"><pre><code>Call:\nlm(formula = exam ~ active, data = study_data)\n\nCoefficients:\n(Intercept)       active</code></pre></td>\n    </tr>\n    <tr>\n      <td style=\"border: 1px solid black; text-align: left; width: 50%; vertical-align: top; height: 120px\"><b>Interpretation of Parameter Estimates</b></td>\n      <td style=\"border: 1px solid black; text-align: left; vertical-align: top;\"><ul>\n              <li>$b_0$:\n              <li>$b_1$:\n              <li>$b_2$:\n          </ul></td>\n      <td style=\"border: 1px solid black; text-align: left; vertical-align: top;\"><ul>\n              <li>$b_0$:\n              <li>$b_1$:\n          </ul></td>\n    </tr>\n  </tbody>  \n</table>"
    },
    {
      "cell_type": "markdown",
      "metadata": {},
      "source": "### 4.2 Fit and save `group_model`; overlay the model on the graph; print out the model estimates"
    },
    {
      "cell_type": "code",
      "execution_count": null,
      "metadata": {
        "nbsimplegrader": {
          "config_key": "code.response",
          "editable": true,
          "label": "Response: Code",
          "respondable": true,
          "response": null,
          "runnable": true,
          "type": "code"
        },
        "scrolled": false,
        "vscode": {
          "languageId": "r"
        },
        "trusted": true
      },
      "outputs": [],
      "source": "# modify this code\n\ngf_jitter(exam ~ active_cat, data = study_data, width=.2)\n\n\n"
    },
    {
      "cell_type": "markdown",
      "metadata": {},
      "source": "<div class=\"guided-notes\">\n    \n### 4.3 Three parameters were estimated in this group model ($b_0$, $b_1$, and $b_2$). Label where each parameter estimate is represented on the visualization in the third row, and write what each parameter estimate means on the bottom row of the table.\n\n</div>"
    },
    {
      "cell_type": "markdown",
      "metadata": {},
      "source": "<table border=\"1\" style=\"font-size: 18px; margin-left: 0; border-collapse: collapse; width: 100%;\">\n  <thead>\n    <tr>\n      <td style=\"border: 1px solid black; font-weight: bold; text-align: center; width:20%\"></td>\n      <td style=\"border: 1px solid black; font-weight: bold; text-align: center; width:40%\">Three-Group Model</td>\n      <td style=\"border: 1px solid black; font-weight: bold; text-align: center; width:40%\">Regression Model</td>\n    </tr>\n  </thead>\n  <tbody>\n    <tr>\n        <td style=\"border: 1px solid black; text-align: left; width: 50%; vertical-align: center;\"><b>Relationship</b></td>\n      <td style=\"border: 1px solid black; text-align: center; vertical-align: center;\"><code>exam ~ active_cat</code></td>\n      <td style=\"border: 1px solid black; text-align: center; vertical-align: center;\"><code>exam ~ active</code></td>\n    </tr>\n    <tr>\n        <td style=\"border: 1px solid black; text-align: left; width: 50%; vertical-align: center; height: 80px\"><b>R to Fit Model</b></td>\n        <td style=\"border: 1px solid black; text-align: center; vertical-align: center;\"><code>group_model <- lm(exam ~ active_cat, data = study_data)</code></td>\n      <td style=\"border: 1px solid black; text-align: center; vertical-align: center;\"> </td>\n    </tr>\n    <tr>\n      <td style=\"border: 1px solid black; text-align: left; width: 50%; vertical-align: center; height: 80px\"><b>Visualization of Model</b></td>\n      <td style=\"border: 1px solid black; text-align: left; vertical-align: center;\"><img src=\"https://coursekata-course-assets.s3.us-west-1.amazonaws.com/UCLATALL/czi-stats-course/9.1-9.4-group-model-to-label.jpg\" alt=\"group model\"></td>\n      <td style=\"border: 1px solid black; text-align: left; vertical-align: center;\"><img src=\"https://coursekata-course-assets.s3.us-west-1.amazonaws.com/UCLATALL/czi-stats-course/9.1-9.4-regression-model-to-label.jpg\" alt=\"regression model\"></td>\n    </tr>\n    <tr>\n      <td style=\"border: 1px solid black; text-align: left; width: 50%; vertical-align: top; height: 80px\"><b>Parameter Estimates</b></td>\n      <td style=\"border: 1px solid black; text-align: left; vertical-align: top;font-size: 10px;\"><pre><code>Call:\nlm(formula = exam ~ active_cat, data = study_data)\n\nCoefficients:\n     (Intercept)  active_catmedium    active_cathigh  \n           74.55              3.10              4.85</code></pre></td>\n      <td style=\"border: 1px solid black; text-align: left; vertical-align: top;font-size: 10px;\"><pre><code>Call:\nlm(formula = exam ~ active, data = study_data)\n\nCoefficients:\n(Intercept)       active</code></pre></td>\n    </tr>\n    <tr>\n      <td style=\"border: 1px solid black; text-align: left; width: 50%; vertical-align: top; height: 120px\"><b>Interpretation of Parameter Estimates</b></td>\n      <td style=\"border: 1px solid black; text-align: left; vertical-align: top;\"><ul>\n              <li>$b_0$:\n              <li>$b_1$:\n              <li>$b_2$:\n          </ul></td>\n      <td style=\"border: 1px solid black; text-align: left; vertical-align: top;\"><ul>\n              <li>$b_0$:\n              <li>$b_1$:\n          </ul></td>\n    </tr>\n  </tbody>  \n</table>"
    },
    {
      "cell_type": "markdown",
      "metadata": {},
      "source": "## 5 Fitting the Regression Model\n\nNow let's see how we would fit and interpret a regression model. A regression model is similar to a group model you have already learned. There is still an outcome variable Y, and at least one X (an explanatory variable). The main difference is that now, the X is quantitive rather than categorical. \n\nIn the group model, X indicated which group in a binary fashion (e.g., are you in the high active study group, X = 1, or not, X = 0). In a regression model, X represents a quantity (e.g., each students percentage of active study time). \n\nTry writing the model and R code yourself using the `Y ~ X` pattern you are already familiar with. But this time, instead of using `active_cat` as the explanatory variable, let's use `active`. You'll find that fitting a regression model in R is basically like fitting a group model!"
    },
    {
      "cell_type": "markdown",
      "metadata": {},
      "source": "<div class=\"guided-notes\">\n    \n### 5.1 Write the code you would use to fit the regression model of `exam` based on `active` in the second row of the table. (Save the model as `regression_model`.)\n\n</div>"
    },
    {
      "cell_type": "markdown",
      "metadata": {},
      "source": "<table border=\"1\" style=\"font-size: 18px; margin-left: 0; border-collapse: collapse; width: 100%;\">\n  <thead>\n    <tr>\n      <td style=\"border: 1px solid black; font-weight: bold; text-align: center; width:20%\"></td>\n      <td style=\"border: 1px solid black; font-weight: bold; text-align: center; width:40%\">Three-Group Model</td>\n      <td style=\"border: 1px solid black; font-weight: bold; text-align: center; width:40%\">Regression Model</td>\n    </tr>\n  </thead>\n  <tbody>\n    <tr>\n        <td style=\"border: 1px solid black; text-align: left; width: 50%; vertical-align: center;\"><b>Relationship</b></td>\n      <td style=\"border: 1px solid black; text-align: center; vertical-align: center;\"><code>exam ~ active_cat</code></td>\n      <td style=\"border: 1px solid black; text-align: center; vertical-align: center;\"><code>exam ~ active</code></td>\n    </tr>\n    <tr>\n        <td style=\"border: 1px solid black; text-align: left; width: 50%; vertical-align: center; height: 80px\"><b>R to Fit Model</b></td>\n        <td style=\"border: 1px solid black; text-align: center; vertical-align: center;\"><code>group_model <- lm(exam ~ active_cat, data = study_data)</code></td>\n      <td style=\"border: 1px solid black; text-align: center; vertical-align: center;\"> </td>\n    </tr>\n    <tr>\n      <td style=\"border: 1px solid black; text-align: left; width: 50%; vertical-align: center; height: 80px\"><b>Visualization of Model</b></td>\n      <td style=\"border: 1px solid black; text-align: left; vertical-align: center;\"><img src=\"https://coursekata-course-assets.s3.us-west-1.amazonaws.com/UCLATALL/czi-stats-course/9.1-9.4-group-model-to-label.jpg\" alt=\"group model\"></td>\n      <td style=\"border: 1px solid black; text-align: left; vertical-align: center;\"><img src=\"https://coursekata-course-assets.s3.us-west-1.amazonaws.com/UCLATALL/czi-stats-course/9.1-9.4-regression-model-to-label.jpg\" alt=\"regression model\"></td>\n    </tr>\n    <tr>\n      <td style=\"border: 1px solid black; text-align: left; width: 50%; vertical-align: top; height: 80px\"><b>Parameter Estimates</b></td>\n      <td style=\"border: 1px solid black; text-align: left; vertical-align: top;font-size: 10px;\"><pre><code>Call:\nlm(formula = exam ~ active_cat, data = study_data)\n\nCoefficients:\n     (Intercept)  active_catmedium    active_cathigh  \n           74.55              3.10              4.85</code></pre></td>\n      <td style=\"border: 1px solid black; text-align: left; vertical-align: top;font-size: 10px;\"><pre><code>Call:\nlm(formula = exam ~ active, data = study_data)\n\nCoefficients:\n(Intercept)       active</code></pre></td>\n    </tr>      \n    <tr>\n      <td style=\"border: 1px solid black; text-align: left; width: 50%; vertical-align: top; height: 120px\"><b>Interpretation of Parameter Estimates</b></td>\n      <td style=\"border: 1px solid black; text-align: left; vertical-align: top;\"><ul>\n              <li>$b_0$: mean of low (predicted exam when both Xs = 0)\n              <li>$b_1$: adjustment added to intercept (mean of low) to get mean of medium\n              <li>$b_2$: adjustment added to intercept (mean of low) to get mean of high\n          </ul></td>\n      <td style=\"border: 1px solid black; text-align: left; vertical-align: top;\"><ul>\n              <li>$b_0$:\n              <li>$b_1$:\n          </ul></td>\n    </tr>\n  </tbody>  \n</table>"
    },
    {
      "cell_type": "markdown",
      "metadata": {},
      "source": "### 5.2 Modify the code below to fit the regression model and save as `regression_model`; then overlay the model on the graph; and print out the parameter estimates."
    },
    {
      "cell_type": "code",
      "execution_count": null,
      "metadata": {
        "nbsimplegrader": {
          "config_key": "code.response",
          "editable": true,
          "label": "Response: Code",
          "respondable": true,
          "response": null,
          "runnable": true,
          "type": "code"
        },
        "scrolled": false,
        "vscode": {
          "languageId": "r"
        },
        "trusted": true
      },
      "outputs": [],
      "source": "# modify this code for a regression model\ngroup_model <- lm(exam ~ active_cat, data = study_data)\n\ngf_jitter(exam ~ active_cat, data = study_data, width=.2) %>%\n  gf_model(group_model, color=\"firebrick\")\n\ngroup_model\n"
    },
    {
      "cell_type": "markdown",
      "metadata": {},
      "source": "<div class=\"guided-notes\">\n    \n### 5.3 What are the best-fitting parameter estimates for the regression model? Fill out the R output shown in the regression column of the table. Label each estimate as either $b_0$ or $b_1$.\n\n</div>"
    },
    {
      "cell_type": "markdown",
      "metadata": {},
      "source": "<div class=\"discussion-question\">\n\n### 5.4 Discussion Questions: Why does the regression model have fewer parameter estimates than the group model? Where do you see the regression model's parameter estimates ($b_0$ and $b_1$) in the visualization of the model?\n</div>"
    },
    {
      "cell_type": "markdown",
      "metadata": {},
      "source": "<div class=\"guided-notes\">\n\n### 5.5 Label $b_0$ (the intercept) and $b_1$ (the slope) on the regression model visualization. \n    \n</div>\n"
    },
    {
      "cell_type": "markdown",
      "metadata": {},
      "source": "<div class=\"guided-notes\">\n\n### 5.6 Write the interpretation of the two parameter estimates for the regression model in the last row of the table  \n\n</div>\n"
    },
    {
      "cell_type": "markdown",
      "metadata": {},
      "source": "<table border=\"1\" style=\"font-size: 18px; margin-left: 0; border-collapse: collapse; width: 100%;\">\n  <thead>\n    <tr>\n      <td style=\"border: 1px solid black; font-weight: bold; text-align: center; width:20%\"></td>\n      <td style=\"border: 1px solid black; font-weight: bold; text-align: center; width:40%\">Three-Group Model</td>\n      <td style=\"border: 1px solid black; font-weight: bold; text-align: center; width:40%\">Regression Model</td>\n    </tr>\n  </thead>\n  <tbody>\n    <tr>\n        <td style=\"border: 1px solid black; text-align: left; width: 50%; vertical-align: center;\"><b>Relationship</b></td>\n      <td style=\"border: 1px solid black; text-align: center; vertical-align: center;\"><code>exam ~ active_cat</code></td>\n      <td style=\"border: 1px solid black; text-align: center; vertical-align: center;\"><code>exam ~ active</code></td>\n    </tr>\n    <tr>\n        <td style=\"border: 1px solid black; text-align: left; width: 50%; vertical-align: center; height: 80px\"><b>R to Fit Model</b></td>\n        <td style=\"border: 1px solid black; text-align: center; vertical-align: center;\"><code>group_model <- lm(exam ~ active_cat, data = study_data)</code></td>\n      <td style=\"border: 1px solid black; text-align: center; vertical-align: center;\"><code>regression_model <- lm(exam ~ active, data = study_data)</code></td>\n    </tr>\n    <tr>\n      <td style=\"border: 1px solid black; text-align: left; width: 50%; vertical-align: center; height: 80px\"><b>Visualization of Model</b></td>\n      <td style=\"border: 1px solid black; text-align: left; vertical-align: center;\"><img src=\"https://coursekata-course-assets.s3.us-west-1.amazonaws.com/UCLATALL/czi-stats-course/9.1-9.4-group-model-complete.jpg\" alt=\"group model\"></td>\n      <td style=\"border: 1px solid black; text-align: left; vertical-align: center;\"><img src=\"https://coursekata-course-assets.s3.us-west-1.amazonaws.com/UCLATALL/czi-stats-course/9.1-9.4-regression-model-complete.jpg\" alt=\"regression model\"></td>\n    </tr>\n    <tr>\n      <td style=\"border: 1px solid black; text-align: left; width: 50%; vertical-align: top; height: 80px\"><b>Parameter Estimates</b></td>\n      <td style=\"border: 1px solid black; text-align: left; vertical-align: top;font-size: 10px;\"><pre><code>Call:\nlm(formula = exam ~ active_cat, data = study_data)\n\nCoefficients:\n     (Intercept)  active_catmedium    active_cathigh  \n           74.55              3.10              4.85</code></pre></td>\n      <td style=\"border: 1px solid black; text-align: left; vertical-align: top;font-size: 10px;\"><pre><code>Call:\nlm(formula = exam ~ active, data = study_data)\n\nCoefficients:\n(Intercept)       active  \n    70.6955       0.1293</code></pre></td>\n    </tr>\n    <tr>\n      <td style=\"border: 1px solid black; text-align: left; width: 50%; vertical-align: top; height: 120px\"><b>Interpretation of Parameter Estimates</b></td>\n      <td style=\"border: 1px solid black; text-align: left; vertical-align: top;\">\n          <ul>\n              <li>$b_0$: mean of low (predicted exam score when both Xs = 0)\n              <li>$b_1$: adjustment added to intercept (mean of low) to get mean of medium\n              <li>$b_2$: adjustment added to intercept (mean of low) to get mean of high\n          </ul></td>\n      <td style=\"border: 1px solid black; text-align: left; vertical-align: top;\">\n          <ul>\n              <li>$b_0$: predicted exam score when active = 0\n              <li>$b_1$: adjustment added to intercept for each percentage of active\n          </ul></td>\n    </tr>\n  </tbody>  \n</table>"
    },
    {
      "cell_type": "markdown",
      "metadata": {},
      "source": "## 6 How the Regression Model Makes Predictions\n\nLike all statistical models, a regression model is a function that uses the value of X (the explanatory variable) to generate a prediction of Y (the outcome variable). We can use the regression model to generated a predicted Y for every row in our dataset, based on each row’s value of X.\n\nWe have already expressed the regression model with R code. Now let's represent it using GLM notation so we can see how it generates predictions.\n\nIn the table below, we have written in three versions of the three-group model. Use that information to help you fill in the corresponding versions for the regression model: \n1. GLM notation; \n2. Model with variable names (instead of $Y$s and $X$s); \n3. Model with both variable names and parameter estimates (instead of $b$s).\n"
    },
    {
      "cell_type": "markdown",
      "metadata": {},
      "source": "<div class=\"guided-notes\">\n\n### 6.1 Write all three versions of the regression model in the table below   \n\n</div>\n"
    },
    {
      "cell_type": "markdown",
      "metadata": {},
      "source": "<table border=\"1\" style=\"font-size: 18px; margin-left: 0; border-collapse: collapse; width: 100%;\">\n  <thead>\n    <tr>\n      <td style=\"border: 1px solid black; font-weight: bold; text-align: center; width:14%\"></td>\n      <td style=\"border: 1px solid black; font-weight: bold; text-align: center; width:43%\">Three-Group Model</td>\n      <td style=\"border: 1px solid black; font-weight: bold; text-align: center; width:43%\">Regression Model</td>\n    </tr>\n  </thead>\n  <tbody>\n    <tr>\n      <td style=\"border: 1px solid black; text-align: left; width: 50%; vertical-align: center; height: 80px\"><b>GLM Notation</b></td>\n      <td style=\"border: 1px solid black; text-align: left; vertical-align: center;\">$$Y_i=b_0+b_1X_{1i}+b_2X_{2i}+e_i$$</td>\n      <td style=\"border: 1px solid black; text-align: left; vertical-align: center;\"> </td>\n    </tr>\n    <tr>\n      <td style=\"border: 1px solid black; text-align: left; width: 50%; vertical-align: center; height: 80px\"><b>With Variable Names</b></td>\n      <td style=\"border: 1px solid black; text-align: left; vertical-align: center;\">$$\\text{exam}_i=b_0+b_1\\text{active_catmedium}_{i}+b_2\\text{active_cathigh}_{i}+e_i$$</td>\n      <td style=\"border: 1px solid black; text-align: left; vertical-align: center;\"> </td>\n    </tr>\n    </tr>\n    <tr>\n      <td style=\"border: 1px solid black; text-align: left; width: 50%; vertical-align: center; height: 80px\"><b>With Estimates</b></td>\n      <td style=\"border: 1px solid black; text-align: left; vertical-align: center;\">$$\\text{exam}_i=74.5+2.2\\text{active_catmedium}_{i}+4.6\\text{active_cathigh}_{i}+e_i$$</td>\n      <td style=\"border: 1px solid black; text-align: left; vertical-align: center;\"> </td>\n    </tr>\n  </tbody>  \n</table>"
    },
    {
      "cell_type": "markdown",
      "metadata": {},
      "source": "<div class=\"discussion-question\">\n\n### 6.2 Discussion Question: What does $X_1$ represent in the three-group model? What does $X$ represent in the regression model? How are they different? How are they the same? \n</div>"
    },
    {
      "cell_type": "markdown",
      "metadata": {},
      "source": "<div class=\"guided-notes\">\n\n### 6.3 Use the best-fitting regression equation ($\\hat{Y}_i = 70.7 + 0.13X_i$) to fill in the empty cells in the data table below  \n\n</div>\n"
    },
    {
      "cell_type": "markdown",
      "metadata": {},
      "source": "<table border=\"1\" style=\"font-size: 16px; border-collapse: collapse; width: 100%; text-align: center;\">\n  <thead>\n    <tr>\n      <th style=\"border: 1px solid black; text-align: center; width:14%\">student</th>\n      <th style=\"border: 1px solid black; text-align: center; width:14%\">active</th>\n      <th style=\"border: 1px solid black; text-align: center; width:14%\">exam</th>\n      <th style=\"border: 1px solid black; text-align: center;\">prediction (equation form)</th>\n      <th style=\"border: 1px solid black; text-align: center;\">predicted exam score</th>\n    </tr>\n  </thead>\n  <tbody>\n    <tr>\n      <td style=\"border: 1px solid black; text-align: center;\">A</td>\n      <td style=\"border: 1px solid black; text-align: center;\">0</td>\n      <td style=\"border: 1px solid black; text-align: center;\">51</td>\n      <td style=\"border: 1px solid black; text-align: center;\">  </td>\n      <td style=\"border: 1px solid black; text-align: center;\">  </td>\n    </tr>\n    <tr>\n      <td style=\"border: 1px solid black; text-align: center;\">B</td>\n      <td style=\"border: 1px solid black; text-align: center;\">10</td>\n      <td style=\"border: 1px solid black; text-align: center;\">74</td>\n      <td style=\"border: 1px solid black; text-align: center;\">70.7 + 0.13*10</td>\n      <td style=\"border: 1px solid black; text-align: center;\">72.0</td>\n    </tr>\n    <tr>\n      <td style=\"border: 1px solid black; text-align: center;\">C</td>\n      <td style=\"border: 1px solid black; text-align: center;\">100</td>\n      <td style=\"border: 1px solid black; text-align: center;\">83</td>\n      <td style=\"border: 1px solid black; text-align: center;\">  </td>\n      <td style=\"border: 1px solid black; text-align: center;\">  </td>\n    </tr>\n    <tr>\n      <td style=\"border: 1px solid black; text-align: center;\">D</td>\n      <td style=\"border: 1px solid black; text-align: center;\"> </td>\n      <td style=\"border: 1px solid black; text-align: center;\">78</td>\n      <td style=\"border: 1px solid black; text-align: center;\">70.7 + 0.13*(__)</td>\n      <td style=\"border: 1px solid black; text-align: center;\">72.0</td>\n    </tr>\n    <tr>\n      <td style=\"border: 1px solid black; text-align: center;\">E</td>\n      <td style=\"border: 1px solid black; text-align: center;\">50</td>\n      <td style=\"border: 1px solid black; text-align: center;\">  </td>\n      <td style=\"border: 1px solid black; text-align: center;\">70.7 + 0.13*50</td>\n      <td style=\"border: 1px solid black; text-align: center;\">77.2</td>\n    </tr>\n  </tbody>\n</table>\n"
    },
    {
      "cell_type": "markdown",
      "metadata": {},
      "source": "### 6.4 Run the code below to create a new column in the data frame for the `group_model` predictions and then overlay these predictions on the plot of `exam` by `active`."
    },
    {
      "cell_type": "code",
      "execution_count": null,
      "metadata": {
        "nbsimplegrader": {
          "config_key": "code.response",
          "editable": true,
          "label": "Response: Code",
          "respondable": true,
          "response": null,
          "runnable": true,
          "type": "code"
        },
        "trusted": true
      },
      "outputs": [],
      "source": "# add predictions from group model to study_data\nstudy_data$group_predict <- predict(group_model)\n\n# graph the group predictions\ngf_point(exam ~ active, data = study_data) %>%\n  gf_point(group_predict ~ active, data = study_data, color=\"blue\", shape = 1)\n"
    },
    {
      "cell_type": "markdown",
      "metadata": {},
      "source": "<div class=\"guided-notes\">\n    \n### 6.5 Write code below to create a new column in the data frame for the `regression_model` predictions and then overlay these predictions on the plot of `exam` by `active`, coloring the regression model predictions \"red\".\n    \n</div>"
    },
    {
      "cell_type": "code",
      "execution_count": null,
      "metadata": {
        "nbsimplegrader": {
          "config_key": "code.response",
          "editable": true,
          "label": "Response: Code",
          "respondable": true,
          "response": null,
          "runnable": true,
          "type": "code"
        },
        "trusted": true
      },
      "outputs": [],
      "source": "# modify this to add predictions from regression model to study_data\nstudy_data$regression_predict <- predict()\n\n# modify this to graph the regression predictions\ngf_point(exam ~ active, data = study_data)"
    },
    {
      "cell_type": "markdown",
      "metadata": {},
      "source": "<table border=\"1\" style=\"font-size: 16px; border-collapse: collapse; width: 100%; text-align: center;\">\n  <thead>\n    <tr>\n      <th style=\"border: 1px solid black; text-align: center; width:50%\">Three-Group Model</th>\n      <th style=\"border: 1px solid black; text-align: center; width:50%\">Regression Model</th>\n    </tr>\n  </thead>\n  <tbody>\n    <tr>\n      <td style=\"border: 1px solid black; text-align: left; font-size: 14px;\"><code>study_data$group_predict <- predict(group_model)</code></td>\n      <td style=\"border: 1px solid black; text-align: left; font-size: 14px;\"> </td>\n    </tr>\n    <tr>\n      <td style=\"border: 1px solid black; text-align: left; font-size: 14px;\"><code>gf_point(exam ~ active, data = study_data) %>%\n  gf_point(group_predict ~ active, color=\"blue\")</code> </td>\n      <td style=\"border: 1px solid black; text-align: left; font-size: 14px;\"> </td>\n    </tr>\n    <tr>\n      <td style=\"border: 1px solid black; text-align: left; font-size: 14px;\"><img src=\"https://coursekata-course-assets.s3.us-west-1.amazonaws.com/UCLATALL/czi-stats-course/9.1-9.4-group-model-predictions.jpg\" alt=\"group model predictions as dots\"></td>\n      <td style=\"border: 1px solid black; text-align: left; font-size: 14px;\"><img src=\"https://coursekata-course-assets.s3.us-west-1.amazonaws.com/UCLATALL/czi-stats-course/9.1-9.4-regression-model-predictions.jpg\" alt=\"regression model predictions as dots\"></td>\n    </tr>\n  </tbody>\n</table>\n"
    },
    {
      "cell_type": "markdown",
      "metadata": {},
      "source": "<div class=\"discussion-question\">\n\n### 6.6 Discussion Questions: There are data from 60 students in this dataset.  \n    \n- How many model predictions (colored dots) are there for each model? How do you know?  \n- What pattern do you see the **blue dots** (group model predictions)?  \n- What pattern do you see the **red dots** (regression model predictions)?  \n- What do these patterns tell you about the difference between the two types of models?\n\n</div>"
    },
    {
      "cell_type": "markdown",
      "metadata": {},
      "source": "<div class=\"discussion-question\">\n\n### 6.7 Discussion Questions: Are the active study strategies worth it? How might you adjust your study strategies?\n\n</div>"
    }
  ],
  "metadata": {
    "deepnote_execution_queue": [],
    "deepnote_notebook_id": "608933bb-f248-4876-a618-1c815f90aa5a",
    "kernelspec": {
      "display_name": "R",
      "language": "R",
      "name": "ir"
    },
    "language_info": {
      "codemirror_mode": "r",
      "file_extension": ".r",
      "mimetype": "text/x-r-source",
      "name": "R",
      "pygments_lexer": "r",
      "version": "4.3.3"
    },
    "nbsimplegrader": {
      "publish_config": {
        "classes": [],
        "options": [],
        "tools": []
      }
    }
  },
  "nbformat": 4,
  "nbformat_minor": 2
}