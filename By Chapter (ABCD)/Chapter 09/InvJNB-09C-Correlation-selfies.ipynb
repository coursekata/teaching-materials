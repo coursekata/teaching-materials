{
  "cells": [
    {
      "cell_type": "markdown",
      "metadata": {
        "cell_id": "36c39d05d2d749339c7a11e3c8fdb3ea",
        "deepnote_cell_type": "markdown",
        "tags": []
      },
      "source": "# 9C - Theories about Selfies"
    },
    {
      "cell_type": "code",
      "execution_count": null,
      "metadata": {
        "cell_id": "8eb9a56f433d4bb29696b3d745447096",
        "deepnote_cell_type": "code",
        "deepnote_to_be_reexecuted": false,
        "execution_millis": 1375,
        "execution_start": 1669061503428,
        "nbsimplegrader": {
          "config_key": "code.run-only",
          "editable": false,
          "label": "Code: Run-Only",
          "respondable": false,
          "response": null,
          "runnable": true,
          "type": "code"
        },
        "output_cleared": false,
        "source_hash": "e2af21b9",
        "trusted": true
      },
      "outputs": [],
      "source": "# Load the CourseKata library\nsuppressPackageStartupMessages({\n    library(coursekata)\n})"
    },
    {
      "cell_type": "markdown",
      "metadata": {
        "cell_id": "04013ec8d39b41cbb5f3aeea55a52e27",
        "deepnote_cell_height": 109.96875,
        "deepnote_cell_type": "markdown",
        "tags": []
      },
      "source": "## 1.0 - The Kind of Guy that Posts a Lot of Selfies..."
    },
    {
      "cell_type": "markdown",
      "metadata": {
        "cell_id": "c92e501dbcbe41d4994e3956e555f69e",
        "deepnote_cell_height": 111.140625,
        "deepnote_cell_type": "markdown",
        "tags": []
      },
      "source": "If we told you about an adult male who posts a lot of selfies on social media what do you think he would be like? (Do you know one of these? What are they like?)\n\nWell, lucky for us, we have some data we can take a look at to maybe get some answers."
    },
    {
      "cell_type": "markdown",
      "metadata": {
        "cell_id": "d2915ecd43cc456785559aa8036166a4",
        "deepnote_cell_height": 52.359375,
        "deepnote_cell_type": "markdown",
        "tags": []
      },
      "source": "1.1 - Write some code to take a quick look at the `selfies` data frame."
    },
    {
      "cell_type": "code",
      "execution_count": null,
      "metadata": {
        "cell_id": "aceab38bccae47e69e83829cc051d8e8",
        "deepnote_cell_type": "code",
        "execution_millis": 1251,
        "execution_start": 1603582340700,
        "output_cleared": false,
        "source_hash": "68982dbf",
        "tags": [],
        "trusted": true
      },
      "outputs": [],
      "source": "selfies <- read.csv(\"https://docs.google.com/spreadsheets/d/e/2PACX-1vQJiwaSVpvLXAXndwL7-NRNJrW7Ncz7tnKLwROpkWwr739zU5yJKY7QHHhmCSxwiClMq11P8SAdN6M7/pub?output=csv\", header  = TRUE)"
    },
    {
      "cell_type": "markdown",
      "metadata": {
        "cell_id": "30d7533f33d24215b6c9f1bb39fef81c",
        "deepnote_cell_height": 670.15625,
        "deepnote_cell_type": "markdown",
        "tags": []
      },
      "source": "This data in `selfies` is from an online survey of a nationally representative sample of U.S. men aged 18–40 (Fox & Rooney, 2015). Researchers were interested in visual self-presentation (e.g., posting “selfies” or editing pictures of themselves) as well as psychological measures such as the Dark Triad (i.e., narcissism, Machiavellianism, and psychopathy) and self-objectification (treating oneself like an object; judging themselves as objects with their worth based on outward attractiveness). \n\n- `subjectid` The male participant’s ID (there are no females included in this sample)\n- `selfobject` Trait self-objectification score. Scores can range from −25 to 25; higher scores indicate higher self-objectification\n- `narcissism` Score on four items from Narcissistic Personality Inventory; higher scores indicate higher narcissism\n- `machiavelli` Score on four items from the Mach IV scale; higher scores indicate higher tendencies toward manipulation\n- `psychotic` Score on four items from the Psychopathy Scale; higher scores indicate higher levels of subclinical psychopathy\n- `age` Age of the participant\n- `agerange` Whether the participant is < 25 years old, 25 - 30 years old, 31 - 35 years old, or over 35 years old\n- `timeonsocialmedia` Self-reported estimate of time spent each day on Facebook, Twitter, Instagram, Tumblr, and Pinterest in minutes, as a sum\n- `numselfies` Self-reported estimate of how many pictures taken of themselves and posted on the social networking sites in the past week \n- `numphotos` Self-reported estimate of how many pictures participants had posted in the past week that were not of themselves\n- `photoediting` Self-judgment of how often participants edit their photos before posting them (e.g. filters, cropping parts of themselves out), on a 5-point scale (1 = Never; 5 = Often)\n"
    },
    {
      "cell_type": "markdown",
      "metadata": {
        "cell_id": "b79ad6808fa3478d973a97d9768acba4",
        "deepnote_cell_height": 74.75,
        "deepnote_cell_type": "markdown",
        "tags": []
      },
      "source": "1.2 - **Get to know the data set:** What are the cases? Do you have questions about any of the variables?"
    },
    {
      "cell_type": "markdown",
      "metadata": {
        "cell_id": "68b42276880b4168ba3a3f90d66e1044",
        "deepnote_cell_height": 74.75,
        "deepnote_cell_type": "markdown",
        "tags": []
      },
      "source": "1.3 - What are some research questions or hypotheses you can explore with this data? Try to write as many questions or research hypotheses as you can.  "
    },
    {
      "cell_type": "markdown",
      "metadata": {
        "cell_id": "b6cc01d479774141a8db5a020179350e",
        "deepnote_cell_height": 69.96875,
        "deepnote_cell_type": "markdown",
        "tags": []
      },
      "source": "## 2.0 - Explore Variation"
    },
    {
      "cell_type": "markdown",
      "metadata": {
        "cell_id": "81a8f2db35f14ee49203275e80a26b0d",
        "deepnote_cell_height": 74.75,
        "deepnote_cell_type": "markdown",
        "tags": []
      },
      "source": "2.1 - Pick one research question/hypothesis you can explore with this data. Write that idea as a word equation and make a prediction about the pattern you might see."
    },
    {
      "cell_type": "markdown",
      "metadata": {
        "cell_id": "802bc91a02aa445eb54ddd8c6936d44e",
        "deepnote_cell_height": 52.359375,
        "deepnote_cell_type": "markdown",
        "tags": []
      },
      "source": "2.2 - Create a visualization to explore your word equation. What do you notice?"
    },
    {
      "cell_type": "markdown",
      "metadata": {
        "cell_id": "64dada3bdae14d4ca2a021c4128003ad",
        "deepnote_cell_height": 69.96875,
        "deepnote_cell_type": "markdown",
        "tags": []
      },
      "source": "## 3.0 - Model Variation"
    },
    {
      "cell_type": "markdown",
      "metadata": {
        "cell_id": "0c1fd589edad4e679d71a8edc411517a",
        "deepnote_cell_height": 74.953125,
        "deepnote_cell_type": "markdown",
        "tags": []
      },
      "source": "3.1 - Based on what you see in your visualization, do you think your $b_1$ estimate will be a positive value, negative value, or somewhat close to 0?"
    },
    {
      "cell_type": "markdown",
      "metadata": {
        "cell_id": "2496f55ec96d431eb0588dfde44ed850",
        "deepnote_cell_height": 88.953125,
        "deepnote_cell_type": "markdown",
        "tags": []
      },
      "source": "3.2 - Find the best fit for your model and put the best fitting estimates into GLM notation.\n\n$$Y_i = b_0 + b_1 X_i + e_i$$"
    },
    {
      "cell_type": "markdown",
      "metadata": {
        "cell_id": "e93429fcff6d4e46abc74d5dfe9505af",
        "deepnote_cell_height": 52.359375,
        "deepnote_cell_type": "markdown",
        "tags": []
      },
      "source": "3.3 - Re-create your visualization here and put the best fitting model in your visualization.\n"
    },
    {
      "cell_type": "markdown",
      "metadata": {
        "cell_id": "c5149556a2a74b0389e449fc0327ea3d",
        "deepnote_cell_height": 52.359375,
        "deepnote_cell_type": "markdown",
        "tags": []
      },
      "source": "3.4 - What do your parameter estimates mean? Interpret those numbers. "
    },
    {
      "cell_type": "markdown",
      "metadata": {
        "cell_id": "a7d44a05e21b495f96dedfa81f40957f",
        "deepnote_cell_height": 52.359375,
        "deepnote_cell_type": "markdown",
        "tags": []
      },
      "source": "3.5 - How much better is your model than the empty model? "
    },
    {
      "cell_type": "markdown",
      "metadata": {
        "cell_id": "417ceb6117424927ab36537db4eac956",
        "deepnote_cell_height": 52.359375,
        "deepnote_cell_type": "markdown",
        "tags": []
      },
      "source": "3.6 - Could a model ever be worse than the empty model? Why or why not?"
    },
    {
      "cell_type": "markdown",
      "metadata": {
        "cell_id": "dfb0909455194d9284ac1bffab90c8e1",
        "deepnote_cell_height": 74.953125,
        "deepnote_cell_type": "markdown",
        "tags": []
      },
      "source": "3.7 - Re-create your visualization here and put both the best fitting model **and** the empty model in your visualization. What is the slope ($b_1$) of the empty model? \n"
    },
    {
      "cell_type": "markdown",
      "metadata": {
        "cell_id": "fff666731a84486cb2c0e5886e22d3be",
        "deepnote_cell_height": 97.140625,
        "deepnote_cell_type": "markdown",
        "tags": []
      },
      "source": "3.8 - What is the correlation coefficient (also called *Pearson's r* -- not to be confused with the programming language R!) between your outcome and explanatory variables? Try using the function `cor()` to find it. What does it mean? "
    },
    {
      "cell_type": "markdown",
      "metadata": {
        "cell_id": "3cec23cf659244e88a2096a8f9cab35b",
        "deepnote_cell_height": 74.953125,
        "deepnote_cell_type": "markdown",
        "tags": []
      },
      "source": "3.9 - What is the relationship between the correlation coefficient and PRE? What is the relationship between the correlation coefficient and $b_1$?"
    },
    {
      "cell_type": "markdown",
      "metadata": {
        "cell_id": "c9c6998830694d24aef44a51dde8ba21",
        "deepnote_cell_height": 69.96875,
        "deepnote_cell_type": "markdown",
        "tags": []
      },
      "source": "## 4.0 - Evaluating Models"
    },
    {
      "cell_type": "markdown",
      "metadata": {
        "cell_id": "90b4783448074a6cb779fd819ed21856",
        "deepnote_cell_height": 97.34375,
        "deepnote_cell_type": "markdown",
        "tags": []
      },
      "source": "4.1 - When we look at a visualization and think – yeah, this looks like there is a relationship between the explanatory and outcome variables – which parameter estimate best represents the “relationship”: $b_0$ or $b_1$?"
    },
    {
      "cell_type": "markdown",
      "metadata": {
        "cell_id": "de8d4d794f6b44c5b245b490b1e60243",
        "deepnote_cell_height": 75.15625,
        "deepnote_cell_type": "markdown",
        "tags": []
      },
      "source": "4.2 - If we were **using our data** to estimate the DGP, what would be the best $\\beta_1$ to represent the Data Generating Process? (Bonus: Why are we using $\\beta_1$ here instead of $b_1$?)\n"
    },
    {
      "cell_type": "markdown",
      "metadata": {
        "cell_id": "743c26f27b97430eb94c43a9edd77ea2",
        "deepnote_cell_height": 74.953125,
        "deepnote_cell_type": "markdown",
        "tags": []
      },
      "source": "4.3 - So why do we call $b_1$ the \"best estimate\"? (What are we trying to estimate? Why is it \"the best\"?)"
    },
    {
      "cell_type": "markdown",
      "metadata": {
        "cell_id": "c61405edf8e5488898759968c81828ee",
        "deepnote_cell_height": 74.953125,
        "deepnote_cell_type": "markdown",
        "tags": []
      },
      "source": "4.4 - If a skeptic came along and claimed there is **no** relationship between your outcome and explanatory variables in the real world, what would be the best $\\beta_1$ to represent this idea? "
    },
    {
      "cell_type": "markdown",
      "metadata": {
        "cell_id": "398cdc8a78d74b5c8d97171ed12072a8",
        "deepnote_cell_height": 52.359375,
        "deepnote_cell_type": "markdown",
        "tags": []
      },
      "source": "4.5 - What other model (that we looked at today) has the very same value for slope?"
    },
    {
      "cell_type": "markdown",
      "metadata": {
        "cell_id": "f2258f7b11834dfb9e0775eedf561654",
        "deepnote_cell_height": 97.140625,
        "deepnote_cell_type": "markdown",
        "tags": []
      },
      "source": "4.6 - Notice a connection here! The empty model is the same as a model with **no relationship**. The empty model is also the same as a **random DGP** (such as `shuffle`). Why is shuffling the same as having **no relationship** between variables?"
    },
    {
      "cell_type": "markdown",
      "metadata": {
        "cell_id": "35f14074999a4937a2664c31918aa97f",
        "deepnote_cell_height": 74.953125,
        "deepnote_cell_type": "markdown",
        "tags": []
      },
      "source": "4.7 - Is it *possible* that a DGP where there is *no relationship* (that is, the $\\beta_1=0$) produced your $b_1$? Is it *likely*?"
    },
    {
      "cell_type": "markdown",
      "metadata": {
        "cell_id": "40f9474979c241fd99b5d5b68d9920aa",
        "deepnote_cell_height": 133.53125,
        "deepnote_cell_type": "markdown",
        "tags": []
      },
      "source": "4.8 - Is it possible to generate some data that looks like this sample data with the `shuffle()` function? Is it likely?\n\nHere is some example code that looks at **shuffle(photoediting) = narcissism + error** in a jitter plot. Plug in your outcome and explanatory variables instead!"
    },
    {
      "cell_type": "code",
      "execution_count": null,
      "metadata": {
        "cell_id": "d79ee1af9e7a4ca28ffb0e9f304d00e2",
        "deepnote_cell_type": "code",
        "execution_millis": 296,
        "execution_start": 1603583814886,
        "output_cleared": false,
        "source_hash": "b3766ac5",
        "tags": [],
        "trusted": true
      },
      "outputs": [],
      "source": "# If you also want to look at the real sample data (unshuffled) as a jitter plot as well\n#gf_jitter(photoediting ~ narcissism, data = selfies) %>%\n#gf_lm(color = \"orange\") %>%\n#gf_labs(title = \"SAMPLE DATA\")\n\ngf_jitter(shuffle(photoediting) ~ narcissism, data = selfies, color = \"navyblue\") %>%\n    gf_lm(color = \"magenta\") %>%\n    gf_labs(title = \"SHUFFLED DATA\")"
    },
    {
      "cell_type": "markdown",
      "metadata": {
        "cell_id": "b3aa06fcca8044358874d98e185e1875",
        "deepnote_cell_height": 69.96875,
        "deepnote_cell_type": "markdown",
        "tags": []
      },
      "source": "## 5.0 - Do Good Models Imply Causation?"
    },
    {
      "cell_type": "markdown",
      "metadata": {
        "cell_id": "d15bfc3dc14642dcb7e2f4da90970688",
        "deepnote_cell_height": 74.75,
        "deepnote_cell_type": "markdown",
        "tags": []
      },
      "source": "5.1 - If you found a pretty good model today, can you say that your explanatory variable **causes** variation in your outcome variable? Why or why not?"
    }
  ],
  "metadata": {
    "deepnote_notebook_id": "580692590faf46108e36a39d7dd9ab5e",
    "kernelspec": {
      "display_name": "R",
      "language": "R",
      "name": "ir"
    },
    "language_info": {
      "codemirror_mode": "r",
      "file_extension": ".r",
      "mimetype": "text/x-r-source",
      "name": "R",
      "pygments_lexer": "r",
      "version": "4.3.3"
    },
    "nbsimplegrader": {
      "publish_config": {
        "classes": [],
        "options": [],
        "tools": []
      }
    }
  },
  "nbformat": 4,
  "nbformat_minor": 1
}