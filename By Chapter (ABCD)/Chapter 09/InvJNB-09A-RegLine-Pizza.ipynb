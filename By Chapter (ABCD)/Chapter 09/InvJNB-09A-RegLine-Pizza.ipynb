{
  "cells": [
    {
      "cell_type": "markdown",
      "metadata": {
        "cell_id": "b64b06d109dc4de097c62cebc7e99ff3",
        "deepnote_cell_type": "markdown",
        "tags": []
      },
      "source": "# 9A: The Business of Pizza"
    },
    {
      "cell_type": "code",
      "execution_count": null,
      "metadata": {
        "cell_id": "1d7b9cf82695476e84278094f22c03a3",
        "deepnote_cell_height": 272.5625,
        "deepnote_cell_type": "code",
        "deepnote_to_be_reexecuted": false,
        "execution_context_id": "391508d8-c3c3-4817-9b2b-cd08204c45bd",
        "execution_millis": 2572,
        "execution_start": 1745016608796,
        "output_cleared": false,
        "source_hash": "8d091d5d",
        "tags": [],
        "trusted": true
      },
      "outputs": [],
      "source": "# Load the CourseKata library\nsuppressPackageStartupMessages({\n    library(coursekata)\n})\n\nPizza <- read.csv(\"https://docs.google.com/spreadsheets/d/e/2PACX-1vQKb3Es1OXsne_WHW2x6V0YsW6bS3tXSDI_8cTJb7b1d3w_d0SfMmNbufF1OH7S90180Mot1BOPRcVV/pub?gid=0&single=true&output=csv\", header = TRUE)"
    },
    {
      "cell_type": "markdown",
      "metadata": {
        "cell_id": "22305dd1249247e2aa71f81ee34f96d4",
        "deepnote_cell_height": 448.078125,
        "deepnote_cell_type": "markdown",
        "tags": []
      },
      "source": "Are you a pizza consumer? Did you know that, globally, the pizza industry is worth $145 billion, and, on any given day, [13% of the US population consumes pizza](https://na-pizza.com/pizza-industry-revenue-in-the-u-s-around-the-world/)?\n\n<img src=\"https://imgur.com/Bg5Rvqh.png\" title=\"pepperoni pizza\" width=500>\n"
    },
    {
      "cell_type": "markdown",
      "metadata": {
        "cell_id": "8d6897b077b2495387c316582e0af2bd",
        "deepnote_cell_height": 74.75,
        "deepnote_cell_type": "markdown",
        "tags": []
      },
      "source": "**Opening Discussion:** What are your ideas about what makes a pizza great, or what makes a pizza worth more? What makes you willing to pay more for a pizza?"
    },
    {
      "cell_type": "markdown",
      "metadata": {
        "cell_id": "3d4e6e7b1f8b4933b8eec400845fdf64",
        "deepnote_cell_height": 395.453125,
        "deepnote_cell_type": "markdown",
        "tags": []
      },
      "source": "To explore this question, let's dig into some data from pizza places in California. The data frame `Pizza` has data on 108 pizzas sold by 18 different places (prices were gathered from their websites):\n\n- `Place` The name of the pizza place\n- `Size` The size of the pizza\n- `Name` The descriptive name of the pizza (for that specific combination of toppings)\n- `Price` The price of the pizza\n- `Toppings` The number of toppings on the pizza (0 toppings equates to a cheese pizza)\n- `County` The county in California that the shop is located (Los Angeles, San Francisco, San Diego)\n- `ZipCode` The zip code in California where the shop is located\n- `MedianIncome_2020` The median income in 2020 for the zip code of the pizza shop (according to this source: https://www.incomebyzipcode.com/)\n- `Website` The website link for the pizza place"
    },
    {
      "cell_type": "markdown",
      "metadata": {
        "cell_id": "8e0081acf59a47ffba6606816d700347",
        "deepnote_cell_height": 62.421875,
        "deepnote_cell_type": "markdown",
        "tags": []
      },
      "source": "### 1.0 - Explore Variation in `Price`"
    },
    {
      "cell_type": "markdown",
      "metadata": {
        "cell_id": "fb766f452c8448499079730543227be9",
        "deepnote_cell_height": 52.359375,
        "deepnote_cell_type": "markdown",
        "tags": []
      },
      "source": "1.1 - Take a look at the `Pizza` data frame. What are the cases?\n"
    },
    {
      "cell_type": "markdown",
      "metadata": {
        "cell_id": "a28b92cdeaaa44fb9d02b70c408ca673",
        "deepnote_cell_height": 74.75,
        "deepnote_cell_type": "markdown",
        "tags": []
      },
      "source": "1.2 - Let's get an idea of how much pizza prices vary, in general. Make a couple of visualizations of the variation in `Price`."
    },
    {
      "cell_type": "markdown",
      "metadata": {
        "cell_id": "f1ca8755921b4924976507c476d8085c",
        "deepnote_cell_height": 52.359375,
        "deepnote_cell_type": "markdown",
        "tags": []
      },
      "source": "1.3 - What would the empty model predict for an average pizza price?"
    },
    {
      "cell_type": "markdown",
      "metadata": {
        "cell_id": "0a7fda94ca0d425c921006521deb3f01",
        "deepnote_cell_height": 74.75,
        "deepnote_cell_type": "markdown",
        "tags": []
      },
      "source": "1.4 - What three variables do you think will explain the variation in prices? Write word equations for all three. "
    },
    {
      "cell_type": "markdown",
      "metadata": {
        "cell_id": "a8eb8a08ac2e4a9999472aea35a549c8",
        "deepnote_cell_height": 62.421875,
        "deepnote_cell_type": "markdown",
        "tags": []
      },
      "source": "### 2.0 - Model Variation: The `Toppings` Model"
    },
    {
      "cell_type": "markdown",
      "metadata": {
        "cell_id": "186aab40a0e64320b91460552004c34a",
        "deepnote_cell_height": 97.140625,
        "deepnote_cell_type": "markdown",
        "tags": []
      },
      "source": "2.1 - Let's consider the word equation `Price` = `Toppings` + Other stuff. Run the visualization of the Toppings hypothesis below. What does each dot represent? Why are the dots less \"scattered\" and line up vertically like so?"
    },
    {
      "cell_type": "code",
      "execution_count": null,
      "metadata": {
        "cell_id": "f839b157eb914e2eb67e52ed36ff71e2",
        "deepnote_cell_height": 75.953125,
        "deepnote_cell_type": "code",
        "execution_context_id": "391508d8-c3c3-4817-9b2b-cd08204c45bd",
        "execution_millis": 190,
        "execution_start": 1745016611416,
        "output_cleared": false,
        "source_hash": "847c08ef",
        "trusted": true
      },
      "outputs": [],
      "source": "gf_point(Price ~ Toppings, data = Pizza)"
    },
    {
      "cell_type": "markdown",
      "metadata": {
        "cell_id": "f2057e9a208d446fa1f085baf91f740d",
        "deepnote_cell_height": 88.953125,
        "deepnote_cell_type": "markdown"
      },
      "source": "2.2 - Fit the Toppings model and write it in GLM notation:\n\n$Y_i = b_0 + b_1(X_i) + e_i$"
    },
    {
      "cell_type": "markdown",
      "metadata": {
        "cell_id": "4e627a50d2f6408f83324e277f98b79a",
        "deepnote_cell_height": 74.75,
        "deepnote_cell_type": "markdown",
        "tags": []
      },
      "source": "2.3 - Find what the Toppings model will predict for each pizza, and save that as `predictions` inside the data frame. We have started some code for you below."
    },
    {
      "cell_type": "code",
      "execution_count": null,
      "metadata": {
        "cell_id": "d3bd58816a954bd5b7cb4e3860d88ebe",
        "deepnote_cell_height": 165.953125,
        "deepnote_cell_type": "code",
        "execution_context_id": "391508d8-c3c3-4817-9b2b-cd08204c45bd",
        "execution_millis": 1,
        "execution_start": 1745016611666,
        "output_cleared": false,
        "source_hash": "e4a4df2",
        "tags": [],
        "trusted": true
      },
      "outputs": [],
      "source": "# Modify the code below\n\n# Pizza$predictions <- predict()\n\n# Check that it worked\n# head(Pizza)"
    },
    {
      "cell_type": "markdown",
      "metadata": {
        "cell_id": "fc7fe2f0f6ad45ab8ebdef03fde69cce",
        "deepnote_cell_height": 74.75,
        "deepnote_cell_type": "markdown"
      },
      "source": "2.4 - Add the model's predictions as dots to the visualization in red. Then add in the regression model in orange."
    },
    {
      "cell_type": "code",
      "execution_count": null,
      "metadata": {
        "cell_id": "fde4d83dd57c415baaac1773a0e1bf10",
        "deepnote_cell_height": 75.953125,
        "deepnote_cell_type": "code",
        "execution_context_id": "391508d8-c3c3-4817-9b2b-cd08204c45bd",
        "execution_millis": 123,
        "execution_start": 1745016611726,
        "output_cleared": false,
        "source_hash": "4b6b3b6c",
        "trusted": true
      },
      "outputs": [],
      "source": "gf_point(Price ~ Toppings, data = Pizza) "
    },
    {
      "cell_type": "markdown",
      "metadata": {
        "cell_id": "dae403c6e069400dafae741681a4b55e",
        "deepnote_cell_height": 52.5625,
        "deepnote_cell_type": "markdown",
        "tags": []
      },
      "source": "2.6 - What is $b_0$? What does it mean in this context? Where do you see it in the visualization?"
    },
    {
      "cell_type": "markdown",
      "metadata": {
        "cell_id": "e577c7d6d2e34ac6b7aa9b822d6943c8",
        "deepnote_cell_height": 52.5625,
        "deepnote_cell_type": "markdown",
        "tags": []
      },
      "source": "2.7 - What is $b_1$? What does it mean in this context? Where do you see it in the visualization?"
    },
    {
      "cell_type": "markdown",
      "metadata": {
        "cell_id": "88104bde20a547729e5e25281cd8dbf0",
        "deepnote_cell_height": 74.75,
        "deepnote_cell_type": "markdown",
        "tags": []
      },
      "source": "2.8 - According to the model, what would be the cost of a pizza with 1 topping? How about 5 toppings? 20 toppings? (Remember you can use R as a calculator!)"
    },
    {
      "cell_type": "markdown",
      "metadata": {
        "cell_id": "619bafe79dc8449c91726932a914af69",
        "deepnote_cell_height": 61.953125,
        "deepnote_cell_type": "markdown",
        "tags": []
      },
      "source": "### 3.0 - Evaluate the Models"
    },
    {
      "cell_type": "markdown",
      "metadata": {
        "cell_id": "89bda91558394b20b2f742b582c3ad24",
        "deepnote_cell_height": 74.75,
        "deepnote_cell_type": "markdown",
        "tags": []
      },
      "source": "3.1 - Let's take a look at our visualization with the regression model again, but this time, add in the empty model in blue below. "
    },
    {
      "cell_type": "code",
      "execution_count": null,
      "metadata": {
        "cell_id": "3774472cf54c40fdbf7829001c5bf220",
        "deepnote_cell_height": 129.953125,
        "deepnote_cell_type": "code",
        "execution_context_id": "391508d8-c3c3-4817-9b2b-cd08204c45bd",
        "execution_millis": 116,
        "execution_start": 1745016611896,
        "output_cleared": false,
        "source_hash": "d38bcd01",
        "trusted": true
      },
      "outputs": [],
      "source": "# Modify the code below\n\ngf_point(Price ~ Toppings, data = Pizza)%>%\n    gf_lm(color=\"orange\")"
    },
    {
      "cell_type": "markdown",
      "metadata": {
        "cell_id": "a7520ffc932a470cb512dccb2533f4cc",
        "deepnote_cell_height": 133.53125,
        "deepnote_cell_type": "markdown",
        "tags": []
      },
      "source": "3.2 - Run the visualization below. All the orange dots are the pizzas from Te Amo Pizza in Los Angeles. \n\nFor the two-topping pizza, which model is better, the empty model or the regression model? Explain."
    },
    {
      "cell_type": "code",
      "execution_count": null,
      "metadata": {
        "cell_id": "a068c8c37ba343da8a31f1d23e63f47b",
        "deepnote_cell_height": 116.953125,
        "deepnote_cell_type": "code",
        "execution_context_id": "391508d8-c3c3-4817-9b2b-cd08204c45bd",
        "execution_millis": 194,
        "execution_start": 1745016612066,
        "output_cleared": false,
        "source_hash": "f9c554d1",
        "tags": [],
        "trusted": true
      },
      "outputs": [],
      "source": "gf_point(Price ~ Toppings, data = Pizza, color = ~ Place == \"Te Amo Pizza\") %>% \n    gf_lm(color = \"orange\") %>% \n    gf_hline(yintercept = 19.90, color = \"blue\")"
    },
    {
      "cell_type": "markdown",
      "metadata": {
        "cell_id": "7cc52365a1de41e39a34a06f0f6f9962",
        "deepnote_cell_height": 74.75,
        "deepnote_cell_type": "markdown"
      },
      "source": "3.3 - Are there any pizzas from Te Amo where the empty model is a better predictor of its price? Explain."
    },
    {
      "cell_type": "markdown",
      "metadata": {
        "cell_id": "b67c3be16bca49be8f5f508b2e836fe8",
        "deepnote_cell_height": 52.359375,
        "deepnote_cell_type": "markdown",
        "tags": []
      },
      "source": "3.4 - Explain how each model balances the residuals."
    },
    {
      "cell_type": "markdown",
      "metadata": {
        "cell_id": "96b34b71a0ac4358a71d685b4fd726f7",
        "deepnote_cell_height": 52.359375,
        "deepnote_cell_type": "markdown",
        "owner_user_id": "23d85493-7ed1-49a4-baa7-630eaab08193",
        "tags": []
      },
      "source": "3.5 - Overall, which model seems to have smaller residuals on average? Explain."
    }
  ],
  "metadata": {
    "deepnote_notebook_id": "0b40128c5acd462aacbbf724c8644fb8",
    "kernelspec": {
      "display_name": "R",
      "language": "R",
      "name": "ir"
    },
    "language_info": {
      "codemirror_mode": "r",
      "file_extension": ".r",
      "mimetype": "text/x-r-source",
      "name": "R",
      "pygments_lexer": "r",
      "version": "4.3.3"
    },
    "nbsimplegrader": {
      "publish_config": {
        "classes": [],
        "options": [],
        "tools": []
      }
    }
  },
  "nbformat": 4,
  "nbformat_minor": 1
}