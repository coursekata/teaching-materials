{
  "cells": [
    {
      "cell_type": "markdown",
      "metadata": {
        "cell_id": "5879af412e9e42029ac9a49b811e990c",
        "deepnote_cell_type": "markdown"
      },
      "source": "# 9F: Trash in Space\n\n[![YouTube Video Link](https://i.postimg.cc/05xmRp5W/image.png)](https://youtube.com/clip/UgkxDUniIVYUtXLZHZWGzvYuM67A24MMZ_ot?si=MsqC8ibknMTITAlP)"
    },
    {
      "cell_type": "code",
      "execution_count": null,
      "metadata": {
        "cell_id": "85869ca97b174786a0c56d28da53865e",
        "deepnote_cell_type": "code",
        "deepnote_to_be_reexecuted": false,
        "execution_millis": 5237,
        "execution_start": 1711061079265,
        "source_hash": null,
        "trusted": true
      },
      "outputs": [],
      "source": "# load the coursekata library\nlibrary(coursekata)\n\n# get rid of scientific notation in this notebook\noptions(scipen = 999)\n\n# load the data\nSpaceLaunches <- read.csv(\"https://docs.google.com/spreadsheets/d/e/2PACX-1vTDl_AY0dCw8I1Ant_jIsfICy7uFdcfIur4aTHbtBvk3kkqWwnl9I49BQtHSFknhW02mxRXiMT4lili/pub?gid=1871387628&single=true&output=csv\")\nSpaceLaunches3 <- SpaceLaunches %>%\n  filter(Year < \"2020\" & Country %in% c(\"United States\",\"Russia\",\"China\"))\nSpaceUSA <- read.csv(\"https://docs.google.com/spreadsheets/d/e/2PACX-1vTfjSDV7_clFIX0AwkBMHSLeIXCGmJGoMOm7F-Yd_jeuaQZCVFpLzQHnv7FLednLARzX0f-Eo1UlVzo/pub?gid=722119930&single=true&output=csv\")"
    },
    {
      "cell_type": "markdown",
      "metadata": {
        "cell_id": "f53824f4c75a479c9ac55d40dfea4792",
        "deepnote_cell_type": "markdown"
      },
      "source": "## 1.0: What do you notice? What do you wonder? (Data Talk, Optional)\n\n<img src=\"https://www.visualcapitalist.com/wp-content/uploads/2023/07/Updated-Every-Space-Debris-orbiting-the-Earth-Visual-Capitalist-Preyash-Shah-1.jpg\" alt=\"Visual Capitalist Space Debris graph\" width=\"80%\"/>\n\n[Originally posted on Visual Capitalist](https://www.visualcapitalist.com/cp/space-debris-by-country/)"
    },
    {
      "cell_type": "markdown",
      "metadata": {
        "cell_id": "e21c5e05388e44cd9920183651f9876f",
        "deepnote_app_block_visible": false,
        "deepnote_cell_type": "markdown"
      },
      "source": "Although there are large scale efforts to track space debris (that's part of the job of the [US Space Force](https://www.space-track.org/)), let's at least take a look at the stuff we launched up there **on purpose.** Some of these launches are now considered trash or will contribute to trash in the future!\n\n## 2.0: How have space launches changed over time?"
    },
    {
      "cell_type": "markdown",
      "metadata": {
        "cell_id": "d554e2f81ddd4382b9f5ff83a3b2b458",
        "deepnote_app_block_visible": false,
        "deepnote_cell_type": "markdown"
      },
      "source": "<div class=\"alert alert-block alert-info\">\n    \nRun the code cell below to create a scatterplot of space launches from three countries (US, Russia, China) over time *before 2020*. \n\n</div>"
    },
    {
      "cell_type": "code",
      "execution_count": null,
      "metadata": {
        "cell_id": "a4993e64fff84a39b29a7a3590c36aa4",
        "deepnote_cell_type": "code",
        "deepnote_to_be_reexecuted": false,
        "execution_millis": 238,
        "execution_start": 1711061084525,
        "source_hash": null,
        "trusted": true
      },
      "outputs": [],
      "source": "# run this\ngf_point(Launches ~ Year, data = filter(SpaceLaunches3, Country == \"United States\"), color = \"darkgray\") %>%\n  gf_point(Launches ~ Year, data = filter(SpaceLaunches3, Country == \"Russia\"), color = \"orange\") %>%\n  gf_point(Launches ~ Year, data = filter(SpaceLaunches3, Country ==\"China\"), color = \"red\")\n"
    },
    {
      "cell_type": "markdown",
      "metadata": {
        "cell_id": "ea45db9dd6d444bfbfc6753f6c469ef4",
        "deepnote_app_block_visible": false,
        "deepnote_cell_type": "markdown"
      },
      "source": "Possible questions to review the graph:\n\n- *Based on the code* which countries are shown in the graph? \n- *Based on the code* which color corresponds to which country? \n- Who had the most space launches in 1980? How do you know? \n- When did China begin their space launches?  \n- In the past 20 years, who has been responsible for the most space launches? "
    },
    {
      "cell_type": "markdown",
      "metadata": {
        "cell_id": "8b01a42b81ee406dbd23e13e4a3b9618",
        "deepnote_app_block_visible": false,
        "deepnote_cell_type": "markdown"
      },
      "source": "## 3.0: The US has a lot of Launches\n\nNASA's space shuttle program ended in 2011. What happened to space launches since then in the US?\n\nTo help us investigate this question, we've included a small data set of just the US launches since 2011 called `SpaceUSA`. \n\n\n3.1 - Run the code below to see the data and to create a scatterplot of the launches since 2011."
    },
    {
      "cell_type": "code",
      "execution_count": null,
      "metadata": {
        "cell_id": "2749a9298c0c4aa7ad71bf41bdf9e9af",
        "deepnote_cell_type": "code",
        "deepnote_to_be_reexecuted": false,
        "execution_millis": 205,
        "execution_start": 1711061084766,
        "source_hash": null,
        "trusted": true
      },
      "outputs": [],
      "source": "head(SpaceUSA)\n\n# create a scatterplot of Launches by YearSince2011\n"
    },
    {
      "cell_type": "markdown",
      "metadata": {
        "cell_id": "6d4030dee38845e0b01dc236d03779db",
        "deepnote_cell_type": "markdown"
      },
      "source": "3.2 - Let's try modeling the pattern we see in `Launches` by `YearSince2011` with a simple linear model. \n\nFind the best-fitting linear model and place it on the scatterplot."
    },
    {
      "cell_type": "markdown",
      "metadata": {
        "cell_id": "6434e8ebb879426ab84d545b20b8a0f5",
        "deepnote_cell_type": "markdown"
      },
      "source": "3.3 - Write the equation for the best-fitting linear model using GLM notation."
    },
    {
      "cell_type": "markdown",
      "metadata": {
        "cell_id": "c725897ef5694ac49a218b4138277b95",
        "deepnote_cell_type": "markdown"
      },
      "source": "3.4 - Run the code below to see what the model would have predict for each year after 2011.\n\nWhat would this model predict for the number of US space launches 13 years after 2011 (the year 2024)? Do you think this is a trustworthy prediction? Why or why not?\n\n(Optional: Add that prediction to the scatterplot by piping `%>%` another `gf_point()` on.)"
    },
    {
      "cell_type": "code",
      "execution_count": null,
      "metadata": {
        "cell_id": "f3673c937a4b4d4a9e875111064ab363",
        "deepnote_cell_type": "code",
        "deepnote_to_be_reexecuted": false,
        "execution_millis": 209,
        "execution_start": 1711061085068,
        "source_hash": null,
        "trusted": true
      },
      "outputs": [],
      "source": "# Run this\ngf_point(Launches ~ YearSince2011, data = SpaceUSA) %>%\n  gf_point(predict(linear_model) ~ YearSince2011, color = \"slateblue\") "
    },
    {
      "cell_type": "markdown",
      "metadata": {
        "cell_id": "bfa623844b014feaa4053a1f0ed03d77",
        "deepnote_app_block_visible": false,
        "deepnote_cell_type": "markdown"
      },
      "source": "3.5 - Even though this is the \"best-fitting\" linear model, a lot of students look at this so called \"best\" model and think it sucks. Why?"
    },
    {
      "cell_type": "markdown",
      "metadata": {
        "cell_id": "8aa1b3382e954b7cb8e8738cfe14b54c",
        "deepnote_app_block_visible": false,
        "deepnote_cell_type": "markdown"
      },
      "source": "## 4.0: Can we do better than the best linear function?"
    },
    {
      "cell_type": "markdown",
      "metadata": {
        "cell_id": "8c395c9030784f94a3427e16e969c829",
        "deepnote_cell_type": "markdown"
      },
      "source": "You may have learned about exponential functions in the past where the $X_i$ is an exponent:\n\n$$Y_i = e^{X_i}$$\n\nIf you haven't taken calculus yet, just think of $e$ as a special number like $\\pi$. The value of $e$ (the exponential constant) is approximately 2.718. \n\n#### The important feature of an exponential function is that it can bend just like this -- higher values of x increase much faster than earlier values of x.\n\nWe can modify our typical GLM function to include an exponential element like this:\n\n$$Y_i = b_0 + b_1e^{X_i} + e_i$$\n\n(Note that $e$ is the exponential constant but $e_i$ is residual error!)"
    },
    {
      "cell_type": "markdown",
      "metadata": {
        "cell_id": "9e5d9d2b5fd74434af37ce3e033779c7",
        "deepnote_cell_type": "markdown"
      },
      "source": "4.1 - Run the code below to find the best-fitting $b_0$ and $b_1$ for an exponential (rather than linear) model. Write the resulting equation in GLM notation."
    },
    {
      "cell_type": "code",
      "execution_count": null,
      "metadata": {
        "cell_id": "85aaeef0d63548f5b57dfc9289e8cf97",
        "deepnote_cell_type": "code",
        "deepnote_to_be_reexecuted": false,
        "execution_millis": 229,
        "execution_start": 1711061085385,
        "source_hash": null,
        "trusted": true
      },
      "outputs": [],
      "source": "lm(Launches ~ exp(YearSince2011), data = SpaceUSA)"
    },
    {
      "cell_type": "markdown",
      "metadata": {
        "cell_id": "bc378e8ddfea443d80e7d52d8d438fb0",
        "deepnote_cell_type": "markdown"
      },
      "source": "4.2 - Modify the graph below to place the predictions of the best-fitting exponential model on it."
    },
    {
      "cell_type": "code",
      "execution_count": null,
      "metadata": {
        "cell_id": "e3c013b065564e508a00ddfb0d1a9e00",
        "deepnote_cell_type": "code",
        "deepnote_to_be_reexecuted": false,
        "execution_millis": 208,
        "execution_start": 1711061085406,
        "source_hash": null,
        "trusted": true
      },
      "outputs": [],
      "source": "# modify this code\ngf_point(Launches ~ YearSince2011, data = SpaceUSA) %>%\n  gf_point(predict(linear_model) ~ YearSince2011, color = \"green4\")\n"
    },
    {
      "cell_type": "markdown",
      "metadata": {
        "cell_id": "977d31f2c1254e9a91b1c3d9b6af4714",
        "deepnote_cell_type": "markdown"
      },
      "source": "4.3 - What would this model predict for the number of US space launches 13 years after 2011 (the year 2024)? Do you think this is a trustworthy prediction? Why or why not?\n\nNote: In R we would code, we would code $e^2$ by writing `exp(2)`. How might you code $e^{13}$?\n\n(Optional: Add that prediction to the scatterplot by piping `%>%` another `gf_point()` on.)"
    },
    {
      "cell_type": "code",
      "execution_count": null,
      "metadata": {
        "cell_id": "82bd5724dbc94a1fbfe35522b71bd5cd",
        "deepnote_cell_type": "code",
        "deepnote_to_be_reexecuted": false,
        "execution_millis": 184,
        "execution_start": 1711061085739,
        "source_hash": null,
        "trusted": true
      },
      "outputs": [],
      "source": "# this computes e to the 2nd power\n# how would you modify this for the 13th power?\nexp(2)"
    },
    {
      "cell_type": "markdown",
      "metadata": {
        "cell_id": "a9b850763a6d4451bdb1d3c291e6e389",
        "deepnote_cell_type": "markdown"
      },
      "source": "4.4 - How is the exponential model growing differently than the linear? "
    },
    {
      "cell_type": "markdown",
      "metadata": {
        "cell_id": "951711e612f64c8892f29f9f377a14e0",
        "deepnote_cell_type": "markdown"
      },
      "source": "## 5.0: How much error has been reduced?"
    },
    {
      "cell_type": "markdown",
      "metadata": {
        "cell_id": "03e385064ccc4ba1b745896fdaa911e8",
        "deepnote_cell_type": "markdown"
      },
      "source": "5.1 - How much error in `Launches` is explained by the linear model? How about the exponential model?"
    },
    {
      "cell_type": "code",
      "execution_count": null,
      "metadata": {
        "cell_id": "58068d59b5fe425ab21fb18cf51ef406",
        "deepnote_cell_type": "code",
        "deepnote_to_be_reexecuted": false,
        "execution_millis": 187,
        "execution_start": 1711061085905,
        "source_hash": null,
        "trusted": true
      },
      "outputs": [],
      "source": "# COMPLETE\nsupernova(linear_model)\nsupernova(exp_model)"
    },
    {
      "cell_type": "markdown",
      "metadata": {
        "cell_id": "1b8e6838bfc54b5eb1adab07933c78bf",
        "deepnote_app_block_visible": false,
        "deepnote_cell_type": "markdown"
      },
      "source": "5.2 - **Concluding thoughts**, as the number of space launches increase, what do you will think will happen to the amount of space trash?\n"
    },
    {
      "cell_type": "markdown",
      "metadata": {
        "cell_id": "5b14456ecbc04c4e81d1b369f8c0d8b1",
        "deepnote_app_block_visible": false,
        "deepnote_cell_type": "markdown"
      },
      "source": "## Data Details\n\nThe launches counted in the dataframes used in this Jupyter notebook include satellites, probes, landers, crewed spacecrafts, and space station flight elements launched into Earth orbit or beyond. Original data from United Nations Office for Outer Space Affairs (2024) with major processing by [Our World in Data](https://ourworldindata.org/space-exploration-satellites). "
    }
  ],
  "metadata": {
    "deepnote_notebook_id": "f895d64ea524450e897b099b1f81d21b",
    "kernelspec": {
      "display_name": "R",
      "language": "R",
      "name": "ir"
    },
    "language_info": {
      "codemirror_mode": "r",
      "file_extension": ".r",
      "mimetype": "text/x-r-source",
      "name": "R",
      "pygments_lexer": "r",
      "version": "4.3.3"
    },
    "nbsimplegrader": {
      "publish_config": {
        "classes": [],
        "options": [],
        "tools": []
      }
    }
  },
  "nbformat": 4,
  "nbformat_minor": 1
}