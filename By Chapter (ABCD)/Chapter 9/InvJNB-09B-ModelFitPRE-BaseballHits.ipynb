{
  "cells": [
    {
      "cell_type": "markdown",
      "metadata": {
        "cell_id": "9c9850dd12ff4fe99d16d11a5f43a6a4",
        "deepnote_cell_type": "markdown",
        "tags": []
      },
      "source": "# 9B: Winning at Baseball"
    },
    {
      "cell_type": "code",
      "execution_count": null,
      "metadata": {
        "cell_id": "d1e2877e6ebf46908db63301654819a2",
        "deepnote_cell_type": "code",
        "execution_context_id": "f487f7af-85e4-4cf0-8ca1-55bbac1131d7",
        "execution_millis": 3221,
        "execution_start": 1745015137836,
        "output_cleared": false,
        "owner_user_id": "23d85493-7ed1-49a4-baa7-630eaab08193",
        "source_hash": "2bbb04e0",
        "tags": [],
        "trusted": true
      },
      "outputs": [],
      "source": "# Load the CourseKata library\nsuppressPackageStartupMessages({\n    library(coursekata)\n})\n\nBaseballHits24<-read.csv(\"https://docs.google.com/spreadsheets/d/e/2PACX-1vRTmVxutHbPVOusvagG4zklgt66VzGWn80_clz0R3MYpX89WfhR_X1E3yzR1OhQZwLoeW7W0U280Mt_/pub?gid=206068915&single=true&output=csv\")\n"
    },
    {
      "cell_type": "markdown",
      "metadata": {
        "cell_id": "24306a744ecd44cebd6e613c49e959de",
        "deepnote_cell_height": 69.96875,
        "deepnote_cell_type": "markdown",
        "tags": []
      },
      "source": "## 1.0 - The Data"
    },
    {
      "cell_type": "markdown",
      "metadata": {
        "cell_id": "1ac9b6d0260d42d193b6f42de0e56513",
        "deepnote_cell_height": 645.578125,
        "deepnote_cell_type": "markdown",
        "tags": []
      },
      "source": "We are going to explore some data from a data frame called `BaseballHits24` (it's already preloaded in this notebook) to answer the question: \n\n**What does it mean for a team to be good at batting?**\n\nDoes it mean to strike out less (being better at hitting good pitches)? Or is it more important to be better at judging whether a pitch is worth swinging at or not (getting more walks)?\n\nIn the `BaseballHits` data frame you will find the following:\n\nA dataset with 30 observations on the following 14 variables from the 2024 Major League Baseball regular season.\n\n- `Team` Name of baseball team\n- `League` Either AL or NL\n- `Wins` Number of wins for the season\n- `Runs` Number of runs scored\n- `Hits` Number of hits\n- `Doubles` Number of doubles\n- `Triples` Number of triples\n- `HomeRuns` Number of home runs\n- `RBI` Number of runs batted in\n- `StolenBases` Number of stolen bases\n- `CaughtStealing` Number of times caught stealing\n- `Walks` Number of walks\n- `Strikeouts` Number of strikeouts (for the batters, not the pitchers)\n- `BattingAvg` Team batting average"
    },
    {
      "cell_type": "markdown",
      "metadata": {
        "cell_id": "c40421bd928c4df283591dee4ea55b9e",
        "deepnote_cell_height": 52.359375,
        "deepnote_cell_type": "markdown",
        "tags": []
      },
      "source": "1.1 - Take a look at the `BaseballHits24` data frame. What are the cases?"
    },
    {
      "cell_type": "markdown",
      "metadata": {
        "cell_id": "5cac543baa4a47c2b398ba3205562c94",
        "deepnote_cell_height": 74.75,
        "deepnote_cell_type": "markdown",
        "tags": []
      },
      "source": "1.2 - A good outcome variable might be `Wins`. How much do teams vary in `Wins`? How many wins is \"a lot of wins\" for a team? What's a typical number of `Wins`?"
    },
    {
      "cell_type": "markdown",
      "metadata": {
        "cell_id": "2dabf650584944c286bf7304f5cde147",
        "deepnote_cell_height": 97.140625,
        "deepnote_cell_type": "markdown",
        "tags": []
      },
      "source": "1.3 - In baseball, what should a team work on: not striking out or not hitting bad pitches? For example, should teams work on swinging at good pitches or judging whether they should even swing at a pitch? Which might contribute more to `Wins`?"
    },
    {
      "cell_type": "markdown",
      "metadata": {
        "cell_id": "675aff3f66a34a1fa84aeff7427b38df",
        "deepnote_cell_height": 169.921875,
        "deepnote_cell_type": "markdown",
        "tags": []
      },
      "source": "We will explore two hypotheses today. \n\nThe **Strike Out** Hypothesis: having fewer `Strikeouts` (being better at hitting good pitches) matters more to `Wins`.\n\nThe **Walks** Hypothesis: more `Walks` (being better at judging whether a pitch is worth swinging at or not) matters more to `Wins`."
    },
    {
      "cell_type": "markdown",
      "metadata": {
        "cell_id": "fec3bb78eb0d41c7bc28b62138bf9008",
        "deepnote_cell_height": 69.96875,
        "deepnote_cell_type": "markdown",
        "tags": []
      },
      "source": "## 2.0 - The Strike Out Hypothesis"
    },
    {
      "cell_type": "markdown",
      "metadata": {
        "cell_id": "ede7b57d7dbd48918b92e2b3a77f339c",
        "deepnote_cell_height": 52.359375,
        "deepnote_cell_type": "markdown",
        "tags": []
      },
      "source": "2.1 - Represent the Strike Out hypothesis with a word equation."
    },
    {
      "cell_type": "markdown",
      "metadata": {
        "cell_id": "c6ed96ab31ea4fc5a9d1e122bfcbe4d2",
        "deepnote_cell_height": 52.359375,
        "deepnote_cell_type": "markdown",
        "tags": []
      },
      "source": "2.2 - Explore the Strike Out hypothesis with a visualization. Describe the relationship you see."
    },
    {
      "cell_type": "markdown",
      "metadata": {
        "cell_id": "e5630f7b80b3481e9b8ec0eb1bbe344f",
        "deepnote_cell_height": 52.359375,
        "deepnote_cell_type": "markdown",
        "tags": []
      },
      "source": "2.3 - Find the best fitting model of the Strike Out hypothesis and write it in GLM notation."
    },
    {
      "cell_type": "markdown",
      "metadata": {
        "cell_id": "41498f16a990445f829f1545b120d50a",
        "deepnote_cell_height": 74.75,
        "deepnote_cell_type": "markdown",
        "tags": []
      },
      "source": "2.4 - Add the best fitting model to your visualization. Interpret the best fitting estimates using your visualization."
    },
    {
      "cell_type": "markdown",
      "metadata": {
        "cell_id": "b99070c96adc40929364490889570a88",
        "deepnote_cell_height": 52.359375,
        "deepnote_cell_type": "markdown",
        "tags": []
      },
      "source": "2.5 - How good is this model?"
    },
    {
      "cell_type": "markdown",
      "metadata": {
        "cell_id": "f3f92f96040d482395e911baa5e88f66",
        "deepnote_cell_height": 69.96875,
        "deepnote_cell_type": "markdown",
        "tags": []
      },
      "source": "## 3.0 - The Walks Hypothesis"
    },
    {
      "cell_type": "markdown",
      "metadata": {
        "cell_id": "41b375e1c2af4a27af2b6bb9db411700",
        "deepnote_cell_height": 52.359375,
        "deepnote_cell_type": "markdown",
        "tags": []
      },
      "source": "3.1 - Represent the Walks hypothesis with a word equation."
    },
    {
      "cell_type": "markdown",
      "metadata": {
        "cell_id": "42865e864b814c03a504b29ed53a3417",
        "deepnote_cell_height": 117.34375,
        "deepnote_cell_type": "markdown",
        "tags": []
      },
      "source": "3.2 - Explore the Walks hypothesis with a visualization. Describe the relationship you see."
    },
    {
      "cell_type": "markdown",
      "metadata": {
        "cell_id": "560c8b85b55844a8a45995dbbbf4dfc9",
        "deepnote_cell_height": 52.359375,
        "deepnote_cell_type": "markdown",
        "tags": []
      },
      "source": "3.3 - Find the best fitting model of the Walks hypothesis and write it in GLM notation."
    },
    {
      "cell_type": "markdown",
      "metadata": {
        "cell_id": "109e18f00fd7488a8bf29ccf9666f9c6",
        "deepnote_cell_height": 74.75,
        "deepnote_cell_type": "markdown",
        "tags": []
      },
      "source": "3.4 - Add the best fitting model to your visualization. Interpret the best fitting estimates using your visualization."
    },
    {
      "cell_type": "markdown",
      "metadata": {
        "cell_id": "fbfae1cc41744212aefe0fc78bd7dcf8",
        "deepnote_cell_height": 52.359375,
        "deepnote_cell_type": "markdown",
        "tags": []
      },
      "source": "3.5 - How good is this model?"
    },
    {
      "cell_type": "markdown",
      "metadata": {
        "cell_id": "a4cc6ac6f78948e59792f8562296ff5a",
        "deepnote_cell_height": 69.96875,
        "deepnote_cell_type": "markdown",
        "tags": []
      },
      "source": "## 4.0 - Comparing Models: Which one \"Wins\"?"
    },
    {
      "cell_type": "markdown",
      "metadata": {
        "cell_id": "291d7103ee46469b8965f9b4d9ead440",
        "deepnote_cell_height": 74.75,
        "deepnote_cell_type": "markdown",
        "tags": []
      },
      "source": "4.1- Which of the two models (`Strikeouts` or `Walks`) seems to help us make better predictions \nfor number of `Wins`? How can you tell? "
    },
    {
      "cell_type": "markdown",
      "metadata": {
        "cell_id": "4153e8f9c75a4168a5810e56bbf79d4a",
        "deepnote_cell_height": 52.359375,
        "deepnote_cell_type": "markdown",
        "tags": []
      },
      "source": "4.2 - Are they both better than the empty model? Why or why not?"
    },
    {
      "cell_type": "markdown",
      "metadata": {
        "cell_id": "d957d339fe3146a7b466d02099aa2ee5",
        "deepnote_cell_height": 69.96875,
        "deepnote_cell_type": "markdown",
        "tags": []
      },
      "source": "## 5.0 - Which part of the error got \"explained\"?"
    },
    {
      "cell_type": "markdown",
      "metadata": {
        "cell_id": "614d044b3dfc45a5b06b64af5abf4be2",
        "deepnote_cell_height": 111.140625,
        "deepnote_cell_type": "markdown",
        "tags": []
      },
      "source": "The specially colored dot below represents the New York Yankees. \n\n5.1 - What are the two models that are depicted in the visualization below? Which model does a better job of predicting the Yankees' wins? How can you tell?"
    },
    {
      "cell_type": "code",
      "execution_count": null,
      "metadata": {
        "cell_id": "cc3e67808cdc46e6a157c8467ec47f6a",
        "deepnote_cell_type": "code",
        "execution_context_id": "efaeda20-1c9b-41d7-beb7-cbab9b1efc62",
        "execution_millis": 302,
        "execution_start": 1744408067976,
        "output_cleared": false,
        "source_hash": "7e0e4ea2",
        "tags": [],
        "trusted": true
      },
      "outputs": [],
      "source": "Win_stats <- favstats(Wins ~ NULL, data = BaseballHits24)\n\ngf_point(Wins ~ Walks, data = BaseballHits24, color = ~ Team==\"New York Yankees\") %>%\n    gf_lm(color = \"darkorange\") %>%\n    gf_hline(yintercept = ~mean, data = Win_stats, color = \"blue\")\n"
    },
    {
      "cell_type": "markdown",
      "metadata": {
        "cell_id": "ad4fba0f1b064e6bb48ee0ef8088f5d7",
        "deepnote_cell_height": 74.75,
        "deepnote_cell_type": "markdown",
        "tags": []
      },
      "source": "5.2 - Which is the part of the error that \"got reduced\"? Which model did the reducing of error? Is reducing error a good or bad thing?"
    },
    {
      "cell_type": "markdown",
      "metadata": {
        "cell_id": "06d7644e6ccc432f8b6f6fc8a19e2e2f",
        "deepnote_cell_height": 52.359375,
        "deepnote_cell_type": "markdown",
        "tags": []
      },
      "source": "5.3 - Why is the PRE from the Walks model bigger than the PRE from the Strikeouts model?"
    }
  ],
  "metadata": {
    "deepnote_notebook_id": "689ee8b594a44846964ef25d4096f231",
    "kernelspec": {
      "display_name": "R",
      "language": "R",
      "name": "ir"
    },
    "language_info": {
      "codemirror_mode": "r",
      "file_extension": ".r",
      "mimetype": "text/x-r-source",
      "name": "R",
      "pygments_lexer": "r",
      "version": "4.3.3"
    },
    "nbsimplegrader": {
      "publish_config": {
        "classes": [],
        "options": [],
        "tools": []
      }
    }
  },
  "nbformat": 4,
  "nbformat_minor": 1
}