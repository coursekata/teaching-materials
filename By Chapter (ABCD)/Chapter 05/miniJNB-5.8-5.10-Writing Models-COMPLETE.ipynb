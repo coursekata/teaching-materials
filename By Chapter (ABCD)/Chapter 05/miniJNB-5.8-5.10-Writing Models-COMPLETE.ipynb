{
  "cells": [
    {
      "cell_type": "markdown",
      "metadata": {
        "cell_id": "4186668eaeda45a6a2b2cbfbebec2df8",
        "deepnote_cell_type": "markdown"
      },
      "source": "#  Writing Models with Math (COMPLETE)\n\n## Chapter 5.8 - 5.10"
    },
    {
      "cell_type": "code",
      "execution_count": null,
      "metadata": {
        "cell_id": "25caa74766e7443395264a5e810e7fb6",
        "deepnote_cell_type": "code",
        "execution_context_id": "57074c1b-56dc-4078-b5d4-00f4c8228150",
        "execution_millis": 1107,
        "execution_start": 1743702784619,
        "scrolled": false,
        "source_hash": "240debbc",
        "trusted": true
      },
      "outputs": [],
      "source": "# This code will load the R packages we will use\nlibrary(coursekata)\n\n# set styles\ncss <- suppressWarnings(readLines(\"https://raw.githubusercontent.com/jimstigler/jupyter/master/ck_jupyter_styles_v2.css\"))\nIRdisplay::display_html(sprintf('<style>%s</style>', paste(css, collapse = \"\\n\")))\n"
    },
    {
      "cell_type": "markdown",
      "metadata": {},
      "source": "<div class=\"teacher-note\">\n    <b>Teacher note: </b> The purpose of this mini-JNB is for students to practice using mathematical notation to represent models in statistics. They’ll learn how to write key modeling expressions—like $Y_i=\\hat{Y}_i+e_i$—using LaTeX formatting inside R Markdown cells. \n</div>"
    },
    {
      "cell_type": "markdown",
      "metadata": {},
      "source": "### Typing Math Notation in R Markdown\n\nRead the directions on your worksheet for this section."
    },
    {
      "cell_type": "markdown",
      "metadata": {},
      "source": "### 12\n\nDouble click to start typing"
    },
    {
      "cell_type": "markdown",
      "metadata": {},
      "source": " <div class=\"teacher-note\">\n\n<b>Sample Response</b>:  $Y_i=\\hat{Y}_i+e_i$\n    \n</div>\n \n"
    },
    {
      "cell_type": "markdown",
      "metadata": {},
      "source": "### 13\n\nDouble click to start typing"
    },
    {
      "cell_type": "markdown",
      "metadata": {},
      "source": " <div class=\"teacher-note\">\n\n<b>Sample Response</b>:  $Y_i=b_0+e_i$\n    \n</div>"
    },
    {
      "cell_type": "markdown",
      "metadata": {},
      "source": "### 14\n\nDouble click to start typing"
    },
    {
      "cell_type": "markdown",
      "metadata": {},
      "source": " <div class=\"teacher-note\">\n\n<b>Sample Response</b>:  $Y_i=\\beta_0+\\epsilon_i$\n    \n</div>"
    }
  ],
  "metadata": {
    "deepnote_notebook_id": "93365a0e84e4470aa612b848c32da8f2",
    "kernelspec": {
      "display_name": "R",
      "language": "R",
      "name": "ir"
    },
    "language_info": {
      "codemirror_mode": "r",
      "file_extension": ".r",
      "mimetype": "text/x-r-source",
      "name": "R",
      "pygments_lexer": "r",
      "version": "4.3.3"
    },
    "nbsimplegrader": {
      "publish_config": {
        "classes": [],
        "options": {},
        "tools": []
      }
    }
  },
  "nbformat": 4,
  "nbformat_minor": 1
}