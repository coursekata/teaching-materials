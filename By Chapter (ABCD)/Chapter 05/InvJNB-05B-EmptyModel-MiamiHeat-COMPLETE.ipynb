{
  "cells": [
    {
      "cell_type": "markdown",
      "metadata": {
        "cell_id": "0076ab5afab14c41b304b644ebe48c75",
        "deepnote_cell_height": 224.3125,
        "deepnote_cell_type": "markdown"
      },
      "source": "<div class=\"alert alert-block alert-danger\">\n\n# 5B: Home Court Advantage? (COMPLETE)\n\n**Use with textbook version 6.0+**\n\n**Lesson assumes students have read up through page: 5.10**\n\n\n</div>"
    },
    {
      "cell_type": "markdown",
      "metadata": {
        "cell_id": "89dca0f17071435d94d4e9ade09daaa0",
        "deepnote_cell_height": 163.9375,
        "deepnote_cell_type": "markdown",
        "tags": []
      },
      "source": "<div class=\"alert alert-block alert-success\">\n\n## Approximate time to complete Notebook: 40-50 Mins\n\n\n</div>"
    },
    {
      "cell_type": "code",
      "execution_count": null,
      "metadata": {
        "cell_id": "d7547b2b5086467cb68ec27213151e64",
        "deepnote_cell_height": 231.5625,
        "deepnote_cell_type": "code",
        "deepnote_to_be_reexecuted": false,
        "execution_millis": 86,
        "execution_start": 1667261192346,
        "source_hash": "116f7300",
        "trusted": true
      },
      "outputs": [],
      "source": "# This code will load the R packages we will use\nsuppressPackageStartupMessages({\n    library(coursekata)\n})"
    },
    {
      "cell_type": "markdown",
      "metadata": {
        "cell_id": "a6f9beed98164259baabeb26941225e4",
        "deepnote_cell_height": 1055.21875,
        "deepnote_cell_type": "markdown"
      },
      "source": "We’re going to look at a dataframe called `MiamiHeat`. These are the game log data for the Miami Heat basketball team in 2010-11.\n\nNote, this was a season where Lebron James played for Miami. This was the season where they made it to the NBA finals but lost against the Dallas Mavericks.Here are the variables in this dataframe:\n\nA data frame with 82 observations on the following 33 variables.\n- `MDY` Date the game was played as a date object\n- `Date` Date the game was played as a character string\n- `Location` Away or Home\n- `Opp` Opponent tream\n- `Win` Game result: L or W\n- `FG` Field goals made\n- `FGA` Field goals attempted\n- `FG3` Three-point field goals made\n- `FG3A` Three-point field goals attempted\n- `FT` Free throws made\n- `FTA` Free throws attempted\n- `Rebounds` Total rebounds\n- `OffReb` Offensive rebounds\n- `Assists` Number of assists\n- `Steals` Number of steals\n- `Blocks` Number of shots blocked\n- `Turnovers` Number of turnovers\n- `Fouls` Number of fouls\n- `Points` Number of points scored\n- `OppFG` Opponent's field goals made\n- `OppFGA` Opponent's Field goals attempted\n- `OppFG3` Opponent's Three-point field goals made\n- `OppFG3A` Opponent's Three-point field goals attempted\n- `OppFT` Opponent's Free throws made\n- `OppFTA` Opponent's Free throws attempted\n- `OppOffReb` Opponent's Total rebounds\n- `OppRebounds` Opponent's Offensive rebounds\n- `OppAssists` Opponent's assists\n- `OppSteals` Opponent's steals\n- `OppBlocks` Opponent's shots blocked\n- `OppTurnovers` Opponent's turnovers\n- `OppFouls` Opponent's fouls\n- `OppPoints` Opponent's points scored"
    },
    {
      "cell_type": "markdown",
      "metadata": {
        "cell_id": "836246e4b2584b0da9954f1570847202",
        "deepnote_cell_height": 115.9375,
        "deepnote_cell_type": "markdown",
        "tags": []
      },
      "source": "<div class=\"alert alert-block alert-success\">\n\n### 1.0 - Approximate Time: 3-5 mins\n\n\n</div>"
    },
    {
      "cell_type": "markdown",
      "metadata": {
        "cell_id": "b2d05fecb7b044ef9355cb738b4168f2",
        "deepnote_cell_height": 69.96875,
        "deepnote_cell_type": "markdown"
      },
      "source": "## 1.0 - Thinking About the Question"
    },
    {
      "cell_type": "markdown",
      "metadata": {
        "cell_id": "eb263cf65bca425faddb1d0525cbe947",
        "deepnote_cell_height": 52.359375,
        "deepnote_cell_type": "markdown"
      },
      "source": "1.1 - Do you think there is a home court advantage in the NBA? Why or why not? "
    },
    {
      "cell_type": "markdown",
      "metadata": {
        "cell_id": "a7f4f4dcc78748b5831800300036a2c7",
        "deepnote_cell_height": 140.71875,
        "deepnote_cell_type": "markdown",
        "tags": []
      },
      "source": "<div class=\"alert alert-block alert-warning\">\n\n**Sample Response**\n\n*Student opinions will vary.*\n\n\n</div>"
    },
    {
      "cell_type": "markdown",
      "metadata": {
        "cell_id": "bd99721d4ace4fb39ca1c5fa7006fa2c",
        "deepnote_cell_height": 74.75,
        "deepnote_cell_type": "markdown"
      },
      "source": "1.2 - If there is a home court advantage, knowing whether the game was played away or home might help us predict the number of points. Write this possible DGP as a word equation."
    },
    {
      "cell_type": "markdown",
      "metadata": {
        "cell_id": "f8f442eb3ee9459ea87bf216d76e83ac",
        "deepnote_cell_height": 140.71875,
        "deepnote_cell_type": "markdown",
        "tags": []
      },
      "source": "<div class=\"alert alert-block alert-warning\">\n\n**Sample Response**\n\nPoints = Location + Other Stuff\n\n\n</div>"
    },
    {
      "cell_type": "markdown",
      "metadata": {
        "cell_id": "08b809cc74a5477a92aec946d5992d30",
        "deepnote_cell_height": 115.9375,
        "deepnote_cell_type": "markdown",
        "tags": []
      },
      "source": "<div class=\"alert alert-block alert-success\">\n\n### 2.0 - Approximate Time: 8-10 mins\n\n\n</div>"
    },
    {
      "cell_type": "markdown",
      "metadata": {
        "cell_id": "266947a80a094d779248e7348d0372a1",
        "deepnote_cell_height": 69.96875,
        "deepnote_cell_type": "markdown"
      },
      "source": "## 2.0 - Exploring the Data "
    },
    {
      "cell_type": "markdown",
      "metadata": {
        "cell_id": "ca522d861a5242a6803a335e97363341",
        "deepnote_cell_height": 397.71875,
        "deepnote_cell_type": "markdown"
      },
      "source": "2.1 - In a bit, we will make a jitter plot to look at the distribution of Points by Location (Home or Away). Before we do, let’s think about what we might expect to see. If there is such a thing as home court advantage, would the jitter plot look like the one on the left or the right? Explain why you think so.\n\n<img src=\"https://coursekata-course-assets.s3.us-west-1.amazonaws.com/UCLATALL/czi-stats-course/jnb_x0pBnb7r-5-C-plots-A.png\" title=\"On the left, a jitter plot where the one distribution is generally lower than the other. On the right, a jitter plot where the distributions are roughly similar\" />"
    },
    {
      "cell_type": "markdown",
      "metadata": {
        "cell_id": "5224c2958bdc4e7b857645ee89b83504",
        "deepnote_cell_height": 207.90625,
        "deepnote_cell_type": "markdown",
        "tags": []
      },
      "source": "<div class=\"alert alert-block alert-warning\">\n\n**Sample Response**\n\nIt would look like the one on the left because we can see that the two groups look different (one is shifted up higher than the other). The one on the right has two groups that look very similar in their distributions, so it would seem that location (being home or away) would not make a difference in points.\n\n</div>"
    },
    {
      "cell_type": "markdown",
      "metadata": {
        "cell_id": "32d075fbe28c482dbf22f79153f7e465",
        "deepnote_cell_height": 397.71875,
        "deepnote_cell_type": "markdown"
      },
      "source": "2.2 - In a bit, we will shuffle the data and make a jitter plot to see the data pattern that would result from a random Data Generating Process (DGP). Before we do, let’s think about what we might expect to see. If we shuffled our data, would the jitter plot look like the one on the left or the right? Explain why you think so.\n\n<img src=\"https://coursekata-course-assets.s3.us-west-1.amazonaws.com/UCLATALL/czi-stats-course/jnb_x0pBnb7r-5-C-plots-A.png\" title=\"On the left, a jitter plot where the one distribution is generally lower than the other. On the right, a jitter plot where the distributions are roughly similar\" />"
    },
    {
      "cell_type": "markdown",
      "metadata": {
        "cell_id": "d0a8ea3860df4da2985b638f693106d5",
        "deepnote_cell_height": 207.90625,
        "deepnote_cell_type": "markdown",
        "tags": []
      },
      "source": "<div class=\"alert alert-block alert-warning\">\n\n**Sample Response**\n\nIt would look like the one on the right, because the distributions for the two groups look similar. This is what we would expect if the points were shuffled around and randomly assigned to the two groups, because the random DGP would not be biased toward one group or another.\n\n\n</div>"
    },
    {
      "cell_type": "code",
      "execution_count": null,
      "metadata": {
        "cell_id": "c2800723375547f19d56b48d4c37a93c",
        "deepnote_cell_height": 550.46875,
        "deepnote_cell_type": "code",
        "deepnote_output_heights": [
          435.53125
        ],
        "deepnote_to_be_reexecuted": true,
        "execution_millis": 589,
        "execution_start": 1641588113717,
        "output_cleared": false,
        "source_hash": "bc09c2bc",
        "trusted": true
      },
      "outputs": [],
      "source": "# 2.3 - Run the code below. Try changing the numbers for width, size, and alpha to get a sense of how they affect the jitter plot.\ngf_jitter(Points ~ Location, data = MiamiHeat, width = .1, size = 3, alpha = .3)"
    },
    {
      "cell_type": "code",
      "execution_count": null,
      "metadata": {
        "cell_id": "479892587c444845b8d90ae8e332d878",
        "deepnote_cell_height": 550.46875,
        "deepnote_cell_type": "code",
        "deepnote_output_heights": [
          435.53125
        ],
        "deepnote_to_be_reexecuted": true,
        "execution_millis": 270,
        "execution_start": 1641588114307,
        "output_cleared": false,
        "source_hash": "5f623a16",
        "trusted": true
      },
      "outputs": [],
      "source": "# 2.4 - Modify the code below to shuffle the data in the jitter plot. Feel free to change the width, size, alpha, color to your liking. Run it a few times to see a few examples of shuffled data.\ngf_jitter(shuffle(Points) ~ shuffle(Location), data = MiamiHeat, width = .1, size = 3, alpha = .3, color = \"darkgreen\")"
    },
    {
      "cell_type": "markdown",
      "metadata": {
        "cell_id": "4a830ef7f42640548e03df842cb26ba6",
        "deepnote_cell_height": 119.53125,
        "deepnote_cell_type": "markdown"
      },
      "source": "2.5 - Now that we know what the data actually look like and what shuffled data look like, does it look like there is a home court advantage for the Miami Heat? Does the real data look like it could have been produced by a random DGP? What is the pattern you see in all these jitter plots (both the real data and shuffled data)?"
    },
    {
      "cell_type": "markdown",
      "metadata": {
        "cell_id": "da2e6bb78f4e428586fa9637ac4352b3",
        "deepnote_cell_height": 140.71875,
        "deepnote_cell_type": "markdown",
        "tags": []
      },
      "source": "<div class=\"alert alert-block alert-warning\">\n\n**Sample Response**\n\nIt does not look like there is a home court advantage.\n\n</div>"
    },
    {
      "cell_type": "markdown",
      "metadata": {
        "cell_id": "2e2eb2663d234e8c92868371a07b2dfd",
        "deepnote_cell_height": 74.75,
        "deepnote_cell_type": "markdown",
        "tags": []
      },
      "source": "2.6 - Does the real data look like it could have been produced by a random DGP? What is the pattern you see in all these jitter plots (both the real data and shuffled data)?"
    },
    {
      "cell_type": "markdown",
      "metadata": {
        "cell_id": "8d8a660bf8c147728fa9c5467266ca09",
        "deepnote_cell_height": 163.125,
        "deepnote_cell_type": "markdown",
        "tags": []
      },
      "source": "<div class=\"alert alert-block alert-warning\">\n\n**Sample Response**\n\nThe real data looks pretty similar to the shuffled data (which is a random DGP). The pattern is that all the points are pretty spread out for both groups.\n\n</div>"
    },
    {
      "cell_type": "markdown",
      "metadata": {
        "cell_id": "f2ea66c595ca41e0b8ed1aab8b9503c4",
        "deepnote_cell_height": 115.9375,
        "deepnote_cell_type": "markdown",
        "tags": []
      },
      "source": "<div class=\"alert alert-block alert-success\">\n\n### 3.0 - Approximate Time: 12-15 mins\n\n</div>"
    },
    {
      "cell_type": "markdown",
      "metadata": {
        "cell_id": "46edaabb0ca446c3b5fc1cf15e99a05d",
        "deepnote_cell_height": 69.96875,
        "deepnote_cell_type": "markdown"
      },
      "source": "## 3.0 - Predicting Points for a Future Game\n"
    },
    {
      "cell_type": "markdown",
      "metadata": {
        "cell_id": "3e264d63b2b14f3a80b3bf4653ddaec2",
        "deepnote_cell_height": 97.140625,
        "deepnote_cell_type": "markdown"
      },
      "source": "3.1 - If we knew that the next game was being played at home, will that help us adjust our prediction of points? Should we adjust up or down? Does that mean `Location` DOES or DOES NOT explain the variation seen in `Points`? How would we write this as a word equation?"
    },
    {
      "cell_type": "markdown",
      "metadata": {
        "cell_id": "1c91c4e4330a4676adbad48c799163f3",
        "deepnote_cell_height": 258.296875,
        "deepnote_cell_type": "markdown",
        "tags": []
      },
      "source": "<div class=\"alert alert-block alert-warning\">\n\n**Sample Response**\n\nWe would probably not adjust our prediction. Our prediction would probably be pretty similar for games that are played at home and away. This means that `Location` DOES NOT explain variation seen in Points. \n\nWord Equation:\n\nPoints = Other Stuff\n\n</div>"
    },
    {
      "cell_type": "markdown",
      "metadata": {
        "cell_id": "0583f382136447b78500e4e64afd4bb9",
        "deepnote_cell_height": 119.53125,
        "deepnote_cell_type": "markdown"
      },
      "source": "3.2 - If I knew that the next game was being played at home, what should I use to predict the points that will be scored by `MiamiHeat`? Should I use the mean of just the home games? Would that be better than using the mean of all the games? Are there any reasons why we might want to use the mean of all the games?"
    },
    {
      "cell_type": "markdown",
      "metadata": {
        "cell_id": "94752740a88f4e5b9b5918a99596addc",
        "deepnote_cell_height": 163.125,
        "deepnote_cell_type": "markdown",
        "tags": []
      },
      "source": "<div class=\"alert alert-block alert-warning\">\n\n**Sample Response**\n\nYou should probably use the mean of all the games, since it will balance all the error, instead of just balancing the error for each group, since `Location` did not help explain variation.\n\n</div>"
    },
    {
      "cell_type": "markdown",
      "metadata": {
        "cell_id": "c07e5cbc1cbe4c4199c4e42c536e735c",
        "deepnote_cell_height": 74.75,
        "deepnote_cell_type": "markdown",
        "tags": []
      },
      "source": "3.3 - Here is the code for creating the jitter plot we made above. How would we add the mean (the best fitting empty model) to this plot? \n"
    },
    {
      "cell_type": "code",
      "execution_count": null,
      "metadata": {
        "cell_id": "1c38214f165b403fb3f9c094351eb738",
        "deepnote_cell_height": 622.484375,
        "deepnote_cell_type": "code",
        "deepnote_output_heights": [
          435.53125
        ],
        "deepnote_to_be_reexecuted": true,
        "execution_millis": 270,
        "execution_start": 1641588114614,
        "output_cleared": false,
        "source_hash": "3afc9ffd",
        "trusted": true
      },
      "outputs": [],
      "source": "# Add the mean with gf_hline() and favstats()\n# Or just get the value through other means and type it in for the yintercept argument (no data needed)\nPoints_stats <- favstats(~Points, data = MiamiHeat)\ngf_jitter(Points ~ Location, data = MiamiHeat, width = .1, size = 3, alpha = .3)%>%\n    gf_hline(yintercept = ~mean, data = Points_stats)\n"
    },
    {
      "cell_type": "markdown",
      "metadata": {
        "cell_id": "e19705777bc74ad889969880178e904d",
        "deepnote_cell_height": 74.75,
        "deepnote_cell_type": "markdown",
        "tags": []
      },
      "source": "3.4 - Below we have created a shuffled jitter plot and graphed the mean of the shuffled data. \nWhy is the mean the same on both this graph and the one above? Is that just a coincidence?"
    },
    {
      "cell_type": "code",
      "execution_count": null,
      "metadata": {
        "cell_id": "6ad1a45604bd4f359e450abdb7c2513b",
        "deepnote_cell_height": 622.484375,
        "deepnote_cell_type": "code",
        "deepnote_output_heights": [
          435.53125
        ],
        "deepnote_to_be_reexecuted": true,
        "execution_millis": 353,
        "execution_start": 1641588114887,
        "output_cleared": false,
        "source_hash": "34f07220",
        "trusted": true
      },
      "outputs": [],
      "source": "MiamiHeat$shuff_Points <- shuffle(MiamiHeat$Points)\nshuff_Points_stats <- favstats(~ shuff_Points, data = MiamiHeat)\n\ngf_jitter(shuff_Points ~ Location, data = MiamiHeat, width = .1, size = 3, alpha = .3, color = \"darkgreen\") %>%\n    gf_hline(yintercept = ~mean, data = shuff_Points_stats, color = \"skyblue\")\n"
    },
    {
      "cell_type": "markdown",
      "metadata": {
        "cell_id": "42d3187d55f64dbe8963b31401fe9c1b",
        "deepnote_cell_height": 163.125,
        "deepnote_cell_type": "markdown",
        "tags": []
      },
      "source": "<div class=\"alert alert-block alert-warning\">\n\n**Sample Response**\n\nThe mean is the same because it is being calculated from the same set of values (even though they were shuffled around).\n\n</div>"
    },
    {
      "cell_type": "markdown",
      "metadata": {
        "cell_id": "0a3502ff63424bd6ac4cc8be9e5c1927",
        "deepnote_cell_height": 52.359375,
        "deepnote_cell_type": "markdown"
      },
      "source": "3.5 - Why is the empty model a stand-in for a DGP of randomness?"
    },
    {
      "cell_type": "markdown",
      "metadata": {
        "cell_id": "41fe2cb0d5f5458ca12e0e77e50b4996",
        "deepnote_cell_height": 163.125,
        "deepnote_cell_type": "markdown",
        "tags": []
      },
      "source": "<div class=\"alert alert-block alert-warning\">\n\n**Sample Response**\n\nThe empty model is a stand-in for a DGP of randomness because it stays the same even if you randomly shuffle things around (removing any biased DGP).\n\n</div>"
    },
    {
      "cell_type": "markdown",
      "metadata": {
        "cell_id": "92b9572af76a4fb8ab30da1b6cef6add",
        "deepnote_cell_height": 115.9375,
        "deepnote_cell_type": "markdown",
        "tags": []
      },
      "source": "<div class=\"alert alert-block alert-success\">\n\n### 4.0 - Approximate Time:  8-10 mins\n\n</div>"
    },
    {
      "cell_type": "markdown",
      "metadata": {
        "cell_id": "81b444785113400ea68ec01b0b8f5b58",
        "deepnote_cell_height": 69.96875,
        "deepnote_cell_type": "markdown"
      },
      "source": "## 4.0 - The Empty Model"
    },
    {
      "cell_type": "markdown",
      "metadata": {
        "cell_id": "eac096e5ddb4472d815342111c3ecabd",
        "deepnote_cell_height": 97.140625,
        "deepnote_cell_type": "markdown"
      },
      "source": "4.1 - We now have a name for models that don’t have any explanatory variables. For example, this model (Points = other stuff) is an example of an empty model. Let’s update our word equation to include the idea of using the mean as our empty model. "
    },
    {
      "cell_type": "markdown",
      "metadata": {
        "cell_id": "b39c1896a89341b5afc72ec0e5084602",
        "deepnote_cell_height": 140.71875,
        "deepnote_cell_type": "markdown",
        "tags": []
      },
      "source": "<div class=\"alert alert-block alert-warning\">\n\n**Sample Response**\n\nPoints = Mean + Other Stuff\n\n</div>"
    },
    {
      "cell_type": "markdown",
      "metadata": {
        "cell_id": "54cb1712e12c41949fd8024528890ba1",
        "deepnote_cell_height": 52.359375,
        "deepnote_cell_type": "markdown"
      },
      "source": "4.2 - Write and run the R code for creating the empty model. "
    },
    {
      "cell_type": "code",
      "execution_count": null,
      "metadata": {
        "cell_id": "88dff32ab9734886aa7bf6617371deaf",
        "deepnote_cell_height": 245.375,
        "deepnote_cell_type": "code",
        "deepnote_output_heights": [
          135.421875
        ],
        "deepnote_to_be_reexecuted": true,
        "execution_millis": 35,
        "execution_start": 1641588115249,
        "output_cleared": false,
        "source_hash": "d1b26085",
        "tags": [],
        "trusted": true
      },
      "outputs": [],
      "source": "Empty_Model <- lm(Points ~ NULL, data = MiamiHeat)\nEmpty_Model"
    },
    {
      "cell_type": "markdown",
      "metadata": {
        "cell_id": "126ceac9ef3f489896ef9b791b96fba5",
        "deepnote_cell_height": 74.75,
        "deepnote_cell_type": "markdown"
      },
      "source": "4.3 - If we plotted the empty model’s predictions on our scatterplot, where would those predictions go? How would we do that in R?"
    },
    {
      "cell_type": "code",
      "execution_count": null,
      "metadata": {
        "cell_id": "88974cbbebe441d1b2d493ce1a9011a1",
        "deepnote_cell_height": 622.484375,
        "deepnote_cell_type": "code",
        "deepnote_output_heights": [
          435.53125
        ],
        "deepnote_to_be_reexecuted": true,
        "execution_millis": 303,
        "execution_start": 1641588115287,
        "output_cleared": false,
        "source_hash": "803d80fd",
        "tags": [],
        "trusted": true
      },
      "outputs": [],
      "source": "# Save the predictions from the empty model into the data frame\nMiamiHeat$Predictions <- predict(Empty_Model)\n\n# Create a visualization with the predictions\ngf_jitter(Points ~ Location, data = MiamiHeat, width = .1, size = 3, alpha = .3, color = \"darkgreen\")%>%\n    gf_hline(yintercept = ~Predictions, data = MiamiHeat)"
    },
    {
      "cell_type": "markdown",
      "metadata": {
        "cell_id": "ce0ce44005b341098a74d17c1b681272",
        "deepnote_cell_height": 52.359375,
        "deepnote_cell_type": "markdown"
      },
      "source": "4.4 - Why are the predictions where they are?\n"
    },
    {
      "cell_type": "markdown",
      "metadata": {
        "cell_id": "991f4928961e45b8bd5a97b0c5145a2e",
        "deepnote_cell_height": 163.125,
        "deepnote_cell_type": "markdown",
        "tags": []
      },
      "source": "<div class=\"alert alert-block alert-warning\">\n\n**Sample Response**\n\nThey are in a row along 102 because it is using the mean (the empty model) to make the same prediction for every point.\n\n</div>"
    },
    {
      "cell_type": "markdown",
      "metadata": {
        "cell_id": "19df3565c5eb4445a162ed37d6280c24",
        "deepnote_cell_height": 115.9375,
        "deepnote_cell_type": "markdown",
        "tags": []
      },
      "source": "<div class=\"alert alert-block alert-success\">\n\n### 5.0 - Approximate Time: 8-10 mins\n\n</div>"
    },
    {
      "cell_type": "markdown",
      "metadata": {
        "cell_id": "d3400f9fc5194d4fa53d02079867127d",
        "deepnote_cell_height": 69.96875,
        "deepnote_cell_type": "markdown"
      },
      "source": "## 5.0 - The Mean as “the Middle”"
    },
    {
      "cell_type": "markdown",
      "metadata": {
        "cell_id": "cebcf932b295469fbbd0a88cb6b68934",
        "deepnote_cell_height": 52.359375,
        "deepnote_cell_type": "markdown"
      },
      "source": "5.1 - If the mean really is \"the middle,\" what does it balance? What are these called?"
    },
    {
      "cell_type": "markdown",
      "metadata": {
        "cell_id": "3ffbfb899d2b4bd1823f2545ee6ea76b",
        "deepnote_cell_height": 163.125,
        "deepnote_cell_type": "markdown",
        "tags": []
      },
      "source": "<div class=\"alert alert-block alert-warning\">\n\n**Sample Response**\n\nThe mean balances the error (the residuals) in both directions (the positive and negative error).\n\n</div>"
    },
    {
      "cell_type": "markdown",
      "metadata": {
        "cell_id": "8f37d3fdf1474a4da37addc99bbe17f7",
        "deepnote_cell_height": 52.359375,
        "deepnote_cell_type": "markdown",
        "tags": []
      },
      "source": "5.2 - Run the R code below. What are the red lines?"
    },
    {
      "cell_type": "code",
      "execution_count": null,
      "metadata": {
        "cell_id": "fb4b5db839e0486288fd422b996f2fdd",
        "deepnote_cell_height": 658.484375,
        "deepnote_cell_type": "code",
        "deepnote_output_heights": [
          435.53125
        ],
        "deepnote_to_be_reexecuted": true,
        "execution_millis": 691,
        "execution_start": 1641588115600,
        "source_hash": "e7a802be",
        "trusted": true
      },
      "outputs": [],
      "source": "empty_model <- lm(Points ~ NULL, data = MiamiHeat)\nMiamiHeat$prediction <- predict(empty_model)\n\ngf_point(Points ~ Game, data = MiamiHeat, size = 2, alpha = .5) %>%\n  gf_facet_grid(. ~ Location) %>%\n  gf_point(prediction ~ Game, alpha = .2) %>%\n  gf_refine(geom_segment(aes(x = Game, y = Points, xend = Game, yend = prediction, color = \"red\"))) \n"
    },
    {
      "cell_type": "markdown",
      "metadata": {
        "cell_id": "f290bc10d6a34826ba89392515f51680",
        "deepnote_cell_height": 140.71875,
        "deepnote_cell_type": "markdown",
        "tags": []
      },
      "source": "<div class=\"alert alert-block alert-warning\">\n\n**Sample Response**\n\nThe red lines are the residuals (the distance between the data and the model).\n\n</div>"
    },
    {
      "cell_type": "markdown",
      "metadata": {
        "cell_id": "13ad607fcb23499a9f2f2b3937367b90",
        "deepnote_cell_height": 52.359375,
        "deepnote_cell_type": "markdown"
      },
      "source": "5.3 - Can you show that the mean really is the “middle” (in its own special way) by using R?"
    },
    {
      "cell_type": "code",
      "execution_count": null,
      "metadata": {
        "cell_id": "bceed491b020450796b82a7709a06b5d",
        "deepnote_cell_height": 297.140625,
        "deepnote_cell_type": "code",
        "deepnote_output_heights": [
          20.1875
        ],
        "deepnote_to_be_reexecuted": true,
        "execution_millis": 190,
        "execution_start": 1641588116108,
        "output_cleared": false,
        "source_hash": "b8953bfe",
        "tags": [],
        "trusted": true
      },
      "outputs": [],
      "source": "# One way to show that the mean is the \"middle\" is to sum the residuals (to see if \n# they sum to zero)\n\n# Save the residuals from the predictions into the data frame\nMiamiHeat$Residuals <- resid(Empty_Model)\n\n# Sum the residuals\nsum(MiamiHeat$Residuals)\n\n# Note: A long number ending with \"e-N\" means that the decimal is moved N places to \n# the left (the number is essentially zero)"
    },
    {
      "cell_type": "markdown",
      "metadata": {
        "cell_id": "ef4b3887940542b2a85578d0ed01bb5f",
        "deepnote_cell_height": 97.140625,
        "deepnote_cell_type": "markdown"
      },
      "source": "5.4 - How would we write the empty model in General Linear Model (GLM) notation? How does it align with the word equation we wrote in the previous section? What is the best-fitting estimate for this equation?"
    },
    {
      "cell_type": "markdown",
      "metadata": {
        "cell_id": "3ed2899abc3f4c2e97c890571056e854",
        "deepnote_cell_height": 213.515625,
        "deepnote_cell_type": "markdown",
        "tags": []
      },
      "source": "<div class=\"alert alert-block alert-warning\">\n\n**Sample Response**\n\nPoints = Mean + Other Stuff \n\nPoints = 102.1 + Error\n\nThe best fitting estimate is the mean, 102.1 `Points`.\n\n</div>"
    }
  ],
  "metadata": {
    "deepnote_notebook_id": "4e999305fa9c409aabb64aac4b7559a6",
    "kernelspec": {
      "display_name": "R",
      "language": "R",
      "name": "ir"
    },
    "language_info": {
      "codemirror_mode": "r",
      "file_extension": ".r",
      "mimetype": "text/x-r-source",
      "name": "R",
      "pygments_lexer": "r",
      "version": "4.3.3"
    },
    "nbsimplegrader": {
      "publish_config": {
        "classes": [],
        "options": [],
        "tools": []
      }
    }
  },
  "nbformat": 4,
  "nbformat_minor": 1
}