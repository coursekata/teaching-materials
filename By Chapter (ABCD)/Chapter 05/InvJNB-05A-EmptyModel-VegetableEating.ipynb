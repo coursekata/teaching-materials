{
  "cells": [
    {
      "cell_type": "markdown",
      "metadata": {
        "cell_id": "72b1827eb69c44edb4b2715d4362f259",
        "deepnote_cell_height": 133.953125,
        "deepnote_cell_type": "markdown"
      },
      "source": "# 5A: The 5-A-Day Challenge: Investigating State Differences in Vegetable Consumption"
    },
    {
      "cell_type": "code",
      "execution_count": null,
      "metadata": {
        "cell_id": "140ce37ca4b94a049fd3e0b3c56ca58d",
        "deepnote_cell_type": "code",
        "deepnote_to_be_reexecuted": false,
        "execution_context_id": "ce5dd5f7-3bf8-4c52-bca4-1007549f9176",
        "execution_millis": 1268,
        "execution_start": 1740707029574,
        "output_cleared": false,
        "source_hash": "fe7ef827",
        "trusted": true
      },
      "outputs": [],
      "source": "# This code will load the R packages we will use\nsuppressPackageStartupMessages({\n    library(coursekata)\n})\n\n# Updated USStates data with election data\nStates <- read.csv(\"https://docs.google.com/spreadsheets/d/e/2PACX-1vSGPPBJEKYHYu563seooxlUmhkUGVHQUeedgHsviPhYv5OtsOOOBnPKdFsIB1J0y6zmxXQ7I_CNnh64/pub?gid=2140707809&single=true&output=csv\")\n\nStates <- States %>% select(State, Region, Population, IQ, Grade8Math, HighSchool, College, Veg, Smokers, PhysicalActivity, Obesity)\n\nStates<-na.omit(States)"
    },
    {
      "cell_type": "markdown",
      "metadata": {
        "cell_id": "3c699fb2ce404d45b3d3a9950838fb70",
        "deepnote_cell_height": 69.96875,
        "deepnote_cell_type": "markdown"
      },
      "source": "## 1.0 - The Data"
    },
    {
      "cell_type": "markdown",
      "metadata": {
        "cell_id": "690e25fbd5ef4f86842f4e67d0768cc4",
        "deepnote_cell_type": "markdown"
      },
      "source": "This dataset includes information about the 50 US states. For this lesson, we have included the following variables: \n\n- `State` Name of state \n- `Region` Area of the country: MW=Midwest, NE=Northeast, S=South, or W=West\n- `Population` Number of residents (in millions)\n- `IQ` Mean IQ score of residents\n- `Grade8Math` Mean score on standardized test administered to 8th graders\n- `HighSchool` Percentage of high school graduates\n- `College` Percentage of residents with college degrees\n- `Veg` Percentage of residents who eat the daily recommended servings of fruits and vegetables\n- `Smokers` Percentage of residents who smoke\n- `PhysicalActivity` Percentage of residents who have competed in a physical activity in past month\n- `Obesity` Percentage of residents classified as obese"
    },
    {
      "cell_type": "markdown",
      "metadata": {
        "cell_id": "fc059f40fc684ee8b2485db8b61a2f29",
        "deepnote_cell_height": 97.140625,
        "deepnote_cell_type": "markdown"
      },
      "source": "1.1 - Today, we will be working with the variable `Veg` - the percentage of residents in a state who report eating the recommended amount of vegetables each day. \n\nIn order to get the `Veg` percentages, samples of people in all 50 states were asked this question: “Did you eat at least 5 servings of fruits and vegetables yesterday?” What would be your answer to that question? "
    },
    {
      "cell_type": "markdown",
      "metadata": {
        "cell_id": "a1f59cf9739f4e8ebeaea4e71e7acacf",
        "deepnote_cell_height": 97.140625,
        "deepnote_cell_type": "markdown"
      },
      "source": "1.2 - Could people lie? Could people try to tell the truth and still get it wrong? How would that be an example of “measurement error” (the idea that the data are “off” from what actually happened)? How could you reduce the measurement error that results from lying?"
    },
    {
      "cell_type": "markdown",
      "metadata": {
        "cell_id": "4b63dac692e44a7f9a3f1bd74bc014f0",
        "deepnote_cell_type": "markdown"
      },
      "source": "1.3 - ***Competing hypotheses*** \n\nWhich variable do you think will help us explain more variation in `Veg`: `College` or `PhysicalActivity`? Make a prediction. Review the variable descriptions above. "
    },
    {
      "cell_type": "markdown",
      "metadata": {
        "cell_id": "4eaa6b088f024ab89def07b286c1c1f3",
        "deepnote_cell_type": "markdown"
      },
      "source": "1.4 - Create visualizations to explore the two hypotheses above. "
    },
    {
      "cell_type": "code",
      "execution_count": null,
      "metadata": {
        "cell_id": "0f90875c4de34d48b61c4e345b488a53",
        "deepnote_cell_type": "code",
        "execution_context_id": "55430a4e-2f13-4771-b976-cde445088dc3",
        "execution_millis": 1,
        "execution_start": 1740763503794,
        "source_hash": "e0518d30",
        "trusted": true
      },
      "outputs": [],
      "source": "#create your visualizations here \n\n\n"
    },
    {
      "cell_type": "markdown",
      "metadata": {
        "cell_id": "36da9608900a45c8b03607bc03269490",
        "deepnote_cell_type": "markdown"
      },
      "source": "1.5 - Which relationship appears to be \"stronger\"? In other words, which variable explains more variation in `Veg`: `PhysicalActivity` or `College`? Are you surprised by this? "
    },
    {
      "cell_type": "markdown",
      "metadata": {
        "cell_id": "95841fcfb1cd45f3835232a466620591",
        "deepnote_cell_height": 69.96875,
        "deepnote_cell_type": "markdown"
      },
      "source": "## 2.0 - Explaining Variation"
    },
    {
      "cell_type": "markdown",
      "metadata": {
        "cell_id": "5484d5e3433c46848e8d359956f36e1d",
        "deepnote_cell_height": 74.75,
        "deepnote_cell_type": "markdown"
      },
      "source": "2.1 - It looks like `College` may be a good predictor of `Veg`. \n\nWhat are some reasons (from the data) for suspecting that `College` really does explain some of the variation in `Veg`? How would we write this as a word equation?"
    },
    {
      "cell_type": "markdown",
      "metadata": {
        "cell_id": "d6e09e30bccd4ecb8944f1990a1886b1",
        "deepnote_cell_height": 97.140625,
        "deepnote_cell_type": "markdown"
      },
      "source": "2.2 - Does every state fit this pattern? What are some reasons (from the data) for suspecting that `College` DOES NOT explain some of the variation in `Veg`? How would we write this as a word equation?"
    },
    {
      "cell_type": "markdown",
      "metadata": {
        "cell_id": "f5489440bbc74d1bae843012fd47eac0",
        "deepnote_cell_height": 74.75,
        "deepnote_cell_type": "markdown"
      },
      "source": "2.3 - Is it possible to have gotten this pattern of data by chance? Write a word equation that represents this possibility."
    },
    {
      "cell_type": "markdown",
      "metadata": {
        "cell_id": "cd63da896d374a6cb5542dd60de59ffd",
        "deepnote_cell_height": 109.96875,
        "deepnote_cell_type": "markdown"
      },
      "source": "## 3.0 - Maybe It’s All Just Other Stuff"
    },
    {
      "cell_type": "markdown",
      "metadata": {
        "cell_id": "e4d96a312f6b4d8f9a354a30b17174fd",
        "deepnote_cell_height": 74.75,
        "deepnote_cell_type": "markdown"
      },
      "source": "3.1 - If we didn't know anything about a state or if we wondered whether this pattern of `College` predicting `Veg`  was maybe just a random fluke, what should we predict a random state's `Veg` to be? "
    },
    {
      "cell_type": "markdown",
      "metadata": {
        "cell_id": "d555a7e7b0454d4983f252a670a7ff3f",
        "deepnote_cell_height": 133.53125,
        "deepnote_cell_type": "markdown"
      },
      "source": "3.2 - We could add your prediction (it could be the mean or median or any other number) into this scatterplot. For now, let’s try adding the mean. \n\nNote that just as the `gf_vline()` function adds vertical lines to the x-axis, `gf_hline()` adds horizontal lines to the y-axis. "
    },
    {
      "cell_type": "code",
      "execution_count": null,
      "metadata": {
        "cell_id": "e73ea86ac64c466988ca84a3f0b7265a",
        "deepnote_cell_type": "code",
        "deepnote_to_be_reexecuted": false,
        "execution_context_id": "ce5dd5f7-3bf8-4c52-bca4-1007549f9176",
        "execution_millis": 124,
        "execution_start": 1740707031142,
        "output_cleared": false,
        "source_hash": "cd2a4194",
        "trusted": true
      },
      "outputs": [],
      "source": "Veg_stats <- favstats(~ Veg, data = States)\nVeg_stats\n\n# Add the empty model to this scatterplot\ngf_point(Veg ~ College, data = States)%>%\n\n"
    },
    {
      "cell_type": "markdown",
      "metadata": {
        "cell_id": "ee4fb489a2a24e4a8a04dd92609aba96",
        "deepnote_cell_height": 52.359375,
        "deepnote_cell_type": "markdown"
      },
      "source": "3.3 - Why is the mean represented as a line? Why not a single dot? "
    },
    {
      "cell_type": "markdown",
      "metadata": {
        "cell_id": "a4fd1564aaa24fed81dd56deaa3cb1c7",
        "deepnote_cell_height": 74.75,
        "deepnote_cell_type": "markdown"
      },
      "source": "3.4 - Fit the empty model for `Veg`. Then use this model to predict each state’s `Veg` percentage. We’ll then plot the predictions right on top of our original scatterplot."
    },
    {
      "cell_type": "code",
      "execution_count": null,
      "metadata": {
        "cell_id": "17badc9a3e83417386eb675fea65fddb",
        "deepnote_cell_type": "code",
        "execution_context_id": "ce5dd5f7-3bf8-4c52-bca4-1007549f9176",
        "execution_millis": 17,
        "execution_start": 1740707039466,
        "source_hash": "94e769e4",
        "trusted": true
      },
      "outputs": [],
      "source": "# How do we fit the empty model?\nEmptyModel <-\n\n# How do we generate the predictions from it?\nStates$Prediction <- \n\n# This will plot the predictions from the empty model\ngf_point(Veg ~ College, data = States, size = 3, alpha = .8) %>%\n    gf_point(Prediction ~ College, size = 3, alpha = .1, color = \"orange\")"
    },
    {
      "cell_type": "markdown",
      "metadata": {
        "cell_id": "57c0a37643e94825a788b66b085ac6b1",
        "deepnote_cell_height": 133.53125,
        "deepnote_cell_type": "markdown"
      },
      "source": "3.5 - Now we will start writing the word equation for the empty model as **Veg = Mean + Other Stuff** (instead of the old way: **Veg = Other Stuff**). \n\nIn the cell below, insert our mean into the equation (i.e., replace \"Mean\" with the prediction of our empty model):"
    },
    {
      "cell_type": "markdown",
      "metadata": {
        "cell_id": "bc9cdb3a7d65488b925c7acbd46e895e",
        "deepnote_cell_height": 52.5625,
        "deepnote_cell_type": "markdown",
        "tags": []
      },
      "source": "$Veg = Mean + Other Stuff$"
    },
    {
      "cell_type": "markdown",
      "metadata": {
        "cell_id": "76609379f0a8433887a6b13be0eca5f1",
        "deepnote_cell_height": 109.96875,
        "deepnote_cell_type": "markdown"
      },
      "source": "## 4.0 - Simulating a Random Data Generating Process"
    },
    {
      "cell_type": "markdown",
      "metadata": {
        "cell_id": "80f74fd3ea0549f2bb8eb46343c65710",
        "deepnote_cell_height": 97.140625,
        "deepnote_cell_type": "markdown"
      },
      "source": "4.1 - Remember the gummy bear launches and `NumLifts` experiment? How did we “simulate” a random data generating process? Why is that a “random” process? Which R function acts like that?"
    },
    {
      "cell_type": "markdown",
      "metadata": {
        "cell_id": "8d32e218eb2241b086b3f3a55a9fe21d",
        "deepnote_cell_height": 200.71875,
        "deepnote_cell_type": "markdown"
      },
      "source": "4.2 - One pattern we saw in our data is that generally high `College` states also have high `Veg`. But the definition of “random” includes the idea that high numbers don’t systematically go with low numbers. Instead, randomness means that high numbers could go with low, medium, OR high numbers! If we shuffled `Veg` in this dataframe, would we generate data that looks just like our empirical sample?\n\nWith R, we don’t just have to wonder. We can actually do it. Run the code below a few times. What is it doing? "
    },
    {
      "cell_type": "code",
      "execution_count": null,
      "metadata": {
        "cell_id": "63bc1f74b93241ebaa3bd61206358241",
        "deepnote_cell_type": "code",
        "deepnote_to_be_reexecuted": true,
        "execution_context_id": "15756bd1-4028-4c7a-a05c-567f419542a8",
        "execution_millis": 143,
        "execution_start": 1738358303235,
        "output_cleared": false,
        "source_hash": "2d4b6ec0",
        "trusted": true
      },
      "outputs": [],
      "source": "gf_point(shuffle(Veg) ~ College, data = States)"
    },
    {
      "cell_type": "markdown",
      "metadata": {
        "cell_id": "a397f30fcb814ddaa706d65b661f4845",
        "deepnote_cell_height": 52.359375,
        "deepnote_cell_type": "markdown"
      },
      "source": "4.3 - Could we put the `shuffle` around `College`? Try it."
    },
    {
      "cell_type": "markdown",
      "metadata": {
        "cell_id": "ad7939c60dd0460083da6a132bfca618",
        "deepnote_cell_height": 467.28125,
        "deepnote_cell_type": "markdown"
      },
      "source": "4.4 - One of the scatterplots below is the empirical sample. Does it look any different from the shuffled scatterplots? What are you looking for that is different in the empirical sample?\n\n<img src=\"https://coursekata-course-assets.s3.us-west-1.amazonaws.com/UCLATALL/czi-stats-course/jnb-05A-shuffscatter.png\" title=\"a bunch of shuffled scatterplots\" />"
    },
    {
      "cell_type": "markdown",
      "metadata": {
        "cell_id": "149e5a629fa047a194715f04d4f520f6",
        "deepnote_cell_height": 74.75,
        "deepnote_cell_type": "markdown"
      },
      "source": "4.5 - Do you think the likelihood of getting a pattern of data like the empirical sample from a random process is high? Low? Medium? Explain your reasoning."
    },
    {
      "cell_type": "markdown",
      "metadata": {
        "cell_id": "b4c59fa6f94b4593ad0eb3015aa208bf",
        "deepnote_cell_type": "markdown"
      },
      "source": "4.6 - What does your answer to the question above suggest about the relationship between `College` and `Veg` that we see in our empirical data?"
    },
    {
      "cell_type": "markdown",
      "metadata": {
        "cell_id": "f7e01f73ce754fa78b90ad305b31be9d",
        "deepnote_cell_height": 109.96875,
        "deepnote_cell_type": "markdown"
      },
      "source": "## 5.0 - Connecting the Empty Model and Shuffle"
    },
    {
      "cell_type": "markdown",
      "metadata": {
        "cell_id": "d25b404389874285acd9bc6d19265d15",
        "deepnote_cell_height": 74.75,
        "deepnote_cell_type": "markdown"
      },
      "source": "5.1 - If we shuffled `Veg` or `College` in this data frame, would we estimate a different empty model? In other words, would the empty model change?"
    },
    {
      "cell_type": "markdown",
      "metadata": {
        "cell_id": "896b89632d0e43718baedfaf573b184c",
        "deepnote_cell_height": 52.359375,
        "deepnote_cell_type": "markdown"
      },
      "source": "5.2 - With R, we can try it and see what happens. Explain what each line of code is doing."
    },
    {
      "cell_type": "code",
      "execution_count": null,
      "metadata": {
        "cell_id": "f5d9fc9eb2bc4c0f8e66a056fbc2d4d8",
        "deepnote_cell_type": "code",
        "deepnote_to_be_reexecuted": true,
        "execution_context_id": "15756bd1-4028-4c7a-a05c-567f419542a8",
        "execution_millis": 1,
        "execution_start": 1738358325529,
        "source_hash": "223307a7",
        "trusted": true
      },
      "outputs": [],
      "source": "# 5.3 - What’s this about?\nStates$shuffled_Veg <- shuffle(States$Veg)"
    },
    {
      "cell_type": "code",
      "execution_count": null,
      "metadata": {
        "cell_id": "f31a97af195b47a0903f40be8616d691",
        "deepnote_cell_type": "code",
        "deepnote_to_be_reexecuted": true,
        "execution_context_id": "15756bd1-4028-4c7a-a05c-567f419542a8",
        "execution_millis": 1,
        "execution_start": 1738358325573,
        "source_hash": "d796b0d3",
        "trusted": true
      },
      "outputs": [],
      "source": "# 5.4 -  What’s this about?\nshuffled_Veg_stats <- favstats(~ shuffled_Veg, data = States)\nVeg_stats <- favstats(~ Veg, data = States)"
    },
    {
      "cell_type": "code",
      "execution_count": null,
      "metadata": {
        "cell_id": "314b7cd493d24287b6176d845cd10586",
        "deepnote_cell_type": "code",
        "deepnote_to_be_reexecuted": true,
        "execution_context_id": "15756bd1-4028-4c7a-a05c-567f419542a8",
        "execution_millis": 119,
        "execution_start": 1738358325617,
        "source_hash": "2608938f",
        "trusted": true
      },
      "outputs": [],
      "source": "# 5.5 - What’s this about?\ngf_point(shuffled_Veg ~ College, data = States, color = \"dodgerblue\") %>%\n    gf_hline(yintercept = ~mean, data = shuffled_Veg_stats)"
    },
    {
      "cell_type": "code",
      "execution_count": null,
      "metadata": {
        "cell_id": "2ef03e2f85b04adcbd431ee858027c4b",
        "deepnote_cell_type": "code",
        "deepnote_to_be_reexecuted": true,
        "execution_context_id": "15756bd1-4028-4c7a-a05c-567f419542a8",
        "execution_millis": 99,
        "execution_start": 1738358325781,
        "source_hash": "9841e196",
        "trusted": true
      },
      "outputs": [],
      "source": "# 5.6 - What’s this about?\ngf_point(Veg~College, data = States) %>%\n    gf_hline(yintercept = ~mean, data = Veg_stats)"
    },
    {
      "cell_type": "markdown",
      "metadata": {
        "cell_id": "a01e977e71364279b0aae06caeb37a49",
        "deepnote_cell_height": 97.140625,
        "deepnote_cell_type": "markdown"
      },
      "source": "5.7 - Why is the mean the same on both graphs? Is that just a coincidence? What if you ran the shuffle again, would it calculate a different mean? What if you shuffled `College` -- would that result in a different mean for `Veg`?"
    },
    {
      "cell_type": "markdown",
      "metadata": {
        "cell_id": "47f294f9d29447a98470267edcbbe9f7",
        "deepnote_cell_height": 52.359375,
        "deepnote_cell_type": "markdown"
      },
      "source": "5.8 - Why is the empty model a stand-in for a DGP of randomness?"
    }
  ],
  "metadata": {
    "deepnote_notebook_id": "3fc1beda4562412c991ce9421cec8006",
    "kernelspec": {
      "display_name": "R",
      "language": "R",
      "name": "ir"
    },
    "language_info": {
      "codemirror_mode": "r",
      "file_extension": ".r",
      "mimetype": "text/x-r-source",
      "name": "R",
      "pygments_lexer": "r",
      "version": "4.3.3"
    },
    "nbsimplegrader": {
      "publish_config": {
        "classes": [],
        "options": [],
        "tools": []
      }
    }
  },
  "nbformat": 4,
  "nbformat_minor": 1
}