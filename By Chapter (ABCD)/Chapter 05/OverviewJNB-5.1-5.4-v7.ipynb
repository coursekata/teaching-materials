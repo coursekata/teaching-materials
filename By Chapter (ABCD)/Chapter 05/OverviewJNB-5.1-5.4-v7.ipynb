{
  "cells": [
    {
      "cell_type": "markdown",
      "metadata": {
        "cell_id": "82608ff8b5d94bf5be417595fb72bc16",
        "deepnote_cell_type": "markdown",
        "nbsimplegrader": {
          "config_key": "markdown.view-only",
          "editable": false,
          "label": "Markdown: View-Only",
          "respondable": false,
          "response": null,
          "runnable": false,
          "type": "markdown"
        }
      },
      "source": "# The Mean as a Model\n\n## Chapter 5.1-5.4 Overview Notebook"
    },
    {
      "cell_type": "code",
      "execution_count": null,
      "metadata": {
        "cell_id": "cc21f55471c6490f943e316e843e6a61",
        "deepnote_cell_type": "code",
        "nbsimplegrader": {
          "config_key": "code.run-only",
          "editable": false,
          "label": "Code: Run-Only",
          "respondable": false,
          "response": null,
          "runnable": true,
          "type": "code"
        },
        "trusted": true
      },
      "outputs": [],
      "source": "# run this to set up the notebook\nlibrary(coursekata)\nlibrary(IRdisplay)\n# set styles\ncss <- suppressWarnings(readLines(\"https://raw.githubusercontent.com/jimstigler/jupyter/master/ck_jupyter_styles_v2.css\"))\nIRdisplay::display_html(sprintf('<style>%s</style>', paste(css, collapse = \"\\n\")))\n# load data\nlungs <- read.csv(\"https://docs.google.com/spreadsheets/d/e/2PACX-1vSz3JaTYY0RXoLQU-o1S45MDKudy6QfIQDtGLGoiy54JOydB7iELKxGbPqo_0uEvKUGCpZ_UQxu4PgM/pub?gid=1447217380&single=true&output=csv\")\nFEV <- c(3.0,3.2,3.8,4.6,3.8,2.3,4.8,4.1)\nrow <- c(1:8)\nFEV_data <- data.frame(row, FEV)"
    },
    {
      "cell_type": "markdown",
      "metadata": {
        "cell_id": "aa5f4b33a5134a43b16826303de3f708",
        "deepnote_cell_type": "markdown"
      },
      "source": "<a id =9> </a> \n# Table of Contents\n\n1 [What Is a Model?](#1)\n\n2 [Creating a Simple Model](#2)\n\n3 [We Just Made a Statistical Model](#3)\n\n4 [DATA = MODEL + ERROR](#4)\n\n5 [Exploring the Mean With a Little More Data](#5)\n\n6 [Making Predictions for the 8 Individuals in FEV_data](#6)\n\n7 [Summing the Residuals](#7)\n  "
    },
    {
      "cell_type": "markdown",
      "metadata": {
        "cell_id": "72de15e71fd24c0188fc7cdd3d631deb",
        "deepnote_cell_type": "markdown"
      },
      "source": "<div style=\"text-align: right\">\n  <a href=\"#9\">Back to top</a>\n</div>\n\n<a id =1> </a>\n## 1 What Is a Model?\n\n### 1.1 Word Equations as Models\n\nSo far, we’ve used word equations as informal models. For example:\n\n**lung function = smoking + other stuff**\n\nThis expresses the hypothesis that smoking can explain the variation in lung function, but other stuff (other explanatory variables) will too. \n\n### 1.2 Why We Need Statistical Models\n\nWord equations are useful for expressing ideas, but they can’t make predictions. To do this, we need data. This means we need to measure things like lung function and smoking status. With measurements in hand, we can build a **statistical model** to generate predictions.\n\n> A working definition of statistical model: **A statistical model is a function (think mathematical function) that generates a predicted value on an outcome variable.** \n\n### 1.3 Simple Example of a Statistical Model\n\nLet's say you want to predict the age of a randomly chosen 12th grader. All you know is that they are in 12th grade. You might use the age of a 12th grader you know (say, a 17-year-old) as your prediction. That number (17) serves as a simple statistical model."
    },
    {
      "cell_type": "markdown",
      "metadata": {
        "cell_id": "78594ca4c1d4451f9467e098d773307d",
        "deepnote_cell_type": "markdown"
      },
      "source": "<div style=\"text-align: right\">\n  <a href=\"#9\">Back to top</a>\n</div>\n\n<a id =2> </a>\n## 2 Creating a Simple Model\n\nTo begin our modeling journey, let's start with the simplest model of all: a model with no predictors. \n\nWe’ll come back to the question of whether smoking lowers lung function. But before we go there: **What is the predicted level of lung function for people in general, whether they smoke or not?**\n\nTo make a quantitative prediction, we need a way to measure lung function (our outcome variable of interest). Lung function is often measured using a spirometer, which produces a value called FEV (Forced Expiratory Volume). It's measured like this: take in a deep breath, then exhale as fast and forcefully as you can into a spirometer. The amount of air you can blow out in the first second (in liters) is your `FEV`."
    },
    {
      "cell_type": "markdown",
      "metadata": {
        "cell_id": "afb80bac2cf04f348e8982a634ba9b87",
        "deepnote_cell_type": "markdown"
      },
      "source": "### Videos of Participants Testing Their FEV\n\n<img src=\"https://coursekata-course-assets.s3.us-west-1.amazonaws.com/UCLATALL/czi-stats-course/student1.png\" alt=\"Screenshot of student 1 testing their FEV\" width=40%>\n\n[Video 1](https://vimeo.com/1095937076)\n\n<img src=\"https://coursekata-course-assets.s3.us-west-1.amazonaws.com/UCLATALL/czi-stats-course/student2.png\" alt=\"Screenshot of student 2 testing their FEV\" width=40%>\n\n[Video 2](https://vimeo.com/1095937062)\n\n<img src=\"https://coursekata-course-assets.s3.us-west-1.amazonaws.com/UCLATALL/czi-stats-course/student3.png\" alt=\"Screenshot of student 3 testing their FEV\" width=40%>\n\n[Video 3](https://vimeo.com/1095937039)"
    },
    {
      "cell_type": "markdown",
      "metadata": {
        "cell_id": "71c6069cdd884c30aaa2cad582ef124e",
        "deepnote_cell_type": "markdown"
      },
      "source": "<div class=\"discussion-question\">\n<h3>2.1 Discussion Question: Let's say you randomly select one of the students in your class. What would you predict would be their FEV? Explain how you made your prediction.</h3>\n</div>"
    },
    {
      "cell_type": "markdown",
      "metadata": {
        "cell_id": "1d6fedc1cfc74524b1d9388b91493698",
        "deepnote_cell_type": "markdown"
      },
      "source": "### 2.2 Using Data to Create Models\n\nMost people aren't experts in lung function so it's hard to guess how much air someone can exhale in one second. That’s where data can help. Let's see how."
    },
    {
      "cell_type": "markdown",
      "metadata": {
        "cell_id": "23381c1ab1e34fa1a6b9b11e87824c51",
        "deepnote_cell_type": "markdown"
      },
      "source": "<div class=\"guided-notes\">\n    \n### 2.3 One randomly-selected adult did the spirometer test. Their score on FEV was 3.0 liters. What would you predict the next randomly-selected adult's score to be?\n- Explain how you arrived at your prediction.\n    \n</div>"
    },
    {
      "cell_type": "markdown",
      "metadata": {
        "cell_id": "ab643e61991c44a2a8ae539aefd61edf",
        "deepnote_cell_type": "markdown"
      },
      "source": "<div class=\"guided-notes\">\n    \n### 2.4 A second randomly-selected adult did the spirometer test. Their score on FEV was 3.2 liters. Now you have two data points. What would you predict the next person's score to be? \n- Explain how you arrived at your prediction.\n    \n</div>"
    },
    {
      "cell_type": "markdown",
      "metadata": {
        "cell_id": "8de6cfb3a85d4e92bc635802124e3218",
        "deepnote_cell_type": "markdown"
      },
      "source": "<div class=\"discussion-question\">\n<h3>2.5 Discussion Question: Did your prediction change from the previous one? Why or why not? If you had a third piece of data, would that change your prediction?</h3>\n</div>"
    },
    {
      "cell_type": "markdown",
      "metadata": {
        "cell_id": "8cab977a7e144d668760f99996872858",
        "deepnote_cell_type": "markdown"
      },
      "source": "<div class=\"discussion-question\">\n<h3>2.6 Discussion Question: You've been predicting what the next randomly-sampled person's FEV will be. What if we asked you to predict the next 100 people's scores. Would you make the same prediction for all of them? Why or why not?</h3>\n</div>"
    },
    {
      "cell_type": "markdown",
      "metadata": {
        "cell_id": "300161fcf87b4d50a1997886206f3990",
        "deepnote_cell_type": "markdown"
      },
      "source": "<div style=\"text-align: right\">\n  <a href=\"#9\">Back to top</a>\n</div>\n\n<a id =3> </a>\n## 3 We Just Made a Statistical Model\n\nLet's reflect on what we just did. Even though we were just using two data points, we were following the basic steps of statistical modeling. \n\n### 3.1 Basic Steps of Statistical Modeling\n1. **Specify the model:** We chose a very simple model, one with no explanatory variables. Intuitively, we picked a number in the middle of the values we had (e.g., 3.1 instead of 3.0 or 3.2). Formally, this is a one-parameter model that uses the arithmetic mean to generate predictions by estimating just one feature of the population or DGP (i.e., the mean).\n> To specify a model is to choose the function we’ll use to make predictions.\n\n2. **Fit the model:** With one value, we used it as our prediction. When a second value came in, we averaged the two. With three, we might take the average of all three. \n> To fit a model is to use data to calculate the best version of the specified function.\n\n3. **Use the model to make predictions:** What would we predict the next observation to be? Now that we’ve fit our one-parameter model, we can use it to make a prediction. That prediction is simply the mean we calculated (which represents our best estimate of the population mean).\n> To use a model is to apply the fitted value(s) to make predictions."
    },
    {
      "cell_type": "markdown",
      "metadata": {
        "cell_id": "02e5ab8c4a9b42d69345fd190ea8ba40",
        "deepnote_cell_type": "markdown"
      },
      "source": "<div class=\"guided-notes\">\n    \n### 3.2 Which of these phrases go with each step of modeling: Specify, Fit, or Use?\n    \n- “I calculated the average FEV of the people we had in our data set.”\n- “We predicted that the next person’s FEV would be 3.1 liters.”\n- “Choose a function to make predictions.”\n- “I'm going to use a model that doesn’t use any explanatory variables.”\n- “I used the data we had to estimate the mean of the population or DGP.”\n- “Our model predicts everyone’s score to be about the same.”\n- “We used the mean of 3.1 to predict the next value.”\n- “We decided to make a one-parameter model.”\n- “The average of the data points is 3.1.”\n\n</div>"
    },
    {
      "cell_type": "markdown",
      "metadata": {
        "cell_id": "746257b726144152a3469c6133983b4e",
        "deepnote_cell_type": "markdown"
      },
      "source": "<div style=\"text-align: right\">\n  <a href=\"#9\">Back to top</a>\n</div>\n\n<a id =4> </a>\n## 4 DATA = MODEL + ERROR\n\n### 4.1 The Empty Model\n\nThe mean is the simplest of all models (we will call it the **empty model** or **null model**). It can be represented in a word equation like this:\n\n**FEV = mean + error**\n\nNotice that as we move from informal models to statistical models, we write the word equation a little differently. \n\n**Instead of saying \"other stuff\" we say \"error.\"** Why? Because once we make a specific numerical prediction, we can compare it to the actual data point and quantify how far off we were. The difference between the actual value and the model prediction is called the **residual**, or more generally **error**."
    },
    {
      "cell_type": "markdown",
      "metadata": {
        "cell_id": "4a0a1546923241fe946d6d1c03ebd0b3",
        "deepnote_cell_type": "markdown"
      },
      "source": "<div class=\"guided-notes\">\n    \n### 4.2 We know DATA = MODEL + ERROR. If you know the value of a DATA point (actual) and the MODEL prediction for that data point, how would you calculate the ERROR? Write an equation to show how to calculate ERROR.\n</div>"
    },
    {
      "cell_type": "markdown",
      "metadata": {
        "cell_id": "0ae3676e568e4ad2b7d2c3d99ee1fc8b",
        "deepnote_cell_type": "markdown"
      },
      "source": "### 4.3 Why predict data that we already have? \n\nNext, we’ll use our model to predict the FEV for the two people already in our dataset and then calculate the error for each. That might feel a little strange. After all, we already know their FEV values! Why would we want to *predict* them based on a model?\n\nThis is actually a standard part of modeling: we check how well the fitted model would have predicted the data it was built from. Later, this strategy will let us compare different models by seeing which one produces less error overall.\n\nIn more advanced statistics, you can also use this general strategy to check how models perform on new data. But for now, let’s start by learning how to measure how close (or far) our predictions are on the data we used to fit the model."
    },
    {
      "cell_type": "markdown",
      "metadata": {
        "cell_id": "0fc85a2b514045198ef8e73bc1d5b0d4",
        "deepnote_cell_type": "markdown"
      },
      "source": "<table border=\"1\" style=\"font-size: 18px; margin-left: 0; border-collapse: collapse;\">\n  <thead>\n    <tr>\n      <th style=\"border: 1px solid black;\">Row</th>\n      <th style=\"border: 1px solid black;\">FEV</th>\n      <th style=\"border: 1px solid black;\">Model Prediction</th>\n      <th style=\"border: 1px solid black;\">Residual (Error)</th>\n    </tr>\n  </thead>\n  <tbody>\n    <tr>\n      <td style=\"border: 1px solid black;\">1</td>\n      <td style=\"border: 1px solid black;\">3.0</td>\n      <td style=\"border: 1px solid black;\"></td>\n      <td style=\"border: 1px solid black;\"></td>\n    </tr>\n    <tr>\n      <td style=\"border: 1px solid black;\">2</td>\n      <td style=\"border: 1px solid black;\">3.2</td>\n      <td style=\"border: 1px solid black;\"></td>\n      <td style=\"border: 1px solid black;\"></td>\n    </tr>\n  </tbody>\n</table>"
    },
    {
      "cell_type": "markdown",
      "metadata": {
        "cell_id": "181ec419a0b349609e97f9ae9cefdcb2",
        "deepnote_cell_type": "markdown"
      },
      "source": "<div class=\"guided-notes\">\n    \n### 4.4 Assuming we are using the mean as our model of `FEV`, fill in the model predictions and residuals for a dataset with only two rows.\n    \n</div>"
    },
    {
      "cell_type": "markdown",
      "metadata": {
        "cell_id": "da37dd6bf9434f629f9508f54ae4b86d",
        "deepnote_cell_type": "markdown"
      },
      "source": "<div class=\"discussion-question\">\n\n### 4.5 Discussion Questions: \n    \n- What does it mean if the residual is negative? What if it is positive?\n- What does it mean to say DATA = MODEL + ERROR?\n- Would this always be true? Explain.\n\n</div>"
    },
    {
      "cell_type": "markdown",
      "metadata": {
        "cell_id": "387283c308974444b2d3b7d67c8bd1a1",
        "deepnote_cell_type": "markdown"
      },
      "source": "<div style=\"text-align: right\">\n  <a href=\"#9\">Back to top</a>\n</div>\n\n<a id =5> </a>\n## 5 Exploring the Mean With a Little More Data\n\nWe've loaded up a data frame of `FEV` scores from a group of 8 students. (The two data points we looked at earlier are in the first two rows of this data frame.) The data frame is called `FEV_data`. Write some code to see what's in the data frame."
    },
    {
      "cell_type": "code",
      "execution_count": null,
      "metadata": {
        "cell_id": "d815263adec740dba4726b4d81fbba9d",
        "deepnote_cell_type": "code",
        "nbsimplegrader": {
          "config_key": "code.response",
          "editable": true,
          "label": "Response: Code",
          "respondable": true,
          "response": null,
          "runnable": true,
          "type": "code"
        },
        "scrolled": false,
        "trusted": true
      },
      "outputs": [],
      "source": "# 5\n# run code here"
    },
    {
      "cell_type": "markdown",
      "metadata": {
        "cell_id": "47698649958140679622824fefa81758",
        "deepnote_cell_type": "markdown"
      },
      "source": "<div class=\"discussion-question\">\n\n### 5.1 Discussion Question: Look at the `head()` of the data frame. What is the outcome variable? What is the explanatory variable?\n\n</div>"
    },
    {
      "cell_type": "markdown",
      "metadata": {
        "cell_id": "bba1041ea7624fe9bb369486b8b630a1",
        "deepnote_cell_type": "markdown"
      },
      "source": "<div class=\"guided-notes\">\n    \n### 5.2 We now have data from 8 students. Let’s use it to **fit** the empty model of `FEV`.\n- Write the R code you would use to fit a one-parameter model.  \n- Re-write the word equation **FEV = mean + error** to represent the **fitted version** of the model. \n\n</div>"
    },
    {
      "cell_type": "code",
      "execution_count": null,
      "metadata": {
        "cell_id": "83bd0f3a46f443438d75c3ec1bb70ed7",
        "deepnote_cell_type": "code",
        "nbsimplegrader": {
          "config_key": "code.response",
          "editable": true,
          "label": "Response: Code",
          "respondable": true,
          "response": null,
          "runnable": true,
          "type": "code"
        },
        "trusted": true
      },
      "outputs": [],
      "source": "# 5.2\n# run code here"
    },
    {
      "cell_type": "markdown",
      "metadata": {
        "cell_id": "829ef809593c483ab3885d32dbf7904c",
        "deepnote_cell_type": "markdown"
      },
      "source": "<div class=\"discussion-question\">\n\n### 5.3 Discussion Question: This new prediction is quite a bit higher than the prediction we made earlier. Which do you think is a better prediction? The current one, or the one based on 2 data points? Why? \n\n</div>"
    },
    {
      "cell_type": "markdown",
      "metadata": {
        "cell_id": "99e46bbc504a45bab99640e711c38e71",
        "deepnote_cell_type": "markdown"
      },
      "source": "### 5.4 Run the code below to create three visualizations of the distribution of `FEV` in `FEV_data`.\nLook at the three graphs to see how they each represent the same data in a slightly different way."
    },
    {
      "cell_type": "code",
      "execution_count": null,
      "metadata": {
        "cell_id": "235e146e4e104436892ec7d68b6bbaef",
        "deepnote_cell_type": "code",
        "scrolled": false,
        "trusted": true
      },
      "outputs": [],
      "source": "# run this code\ngf_histogram(~FEV, data=FEV_data)\ngf_point(FEV ~ 1, data=FEV_data)\ngf_point(FEV ~ row, data=FEV_data)"
    },
    {
      "cell_type": "markdown",
      "metadata": {
        "cell_id": "7cbe5e318f46458ea5ff9df2ac0f42bf",
        "deepnote_cell_type": "markdown"
      },
      "source": "<div class=\"guided-notes\">\n    \n### 5.5 For each of the three graphs, on your guided notes:\n    \n- Draw a circle around the two data points we looked at earlier (they came from this dataset): 3.0 and 3.2.\n- Draw in the empty model on each graph.\n- Draw in the residuals from the two data points you circled.\n    \n</div>"
    },
    {
      "cell_type": "markdown",
      "metadata": {
        "cell_id": "69758c059469448f8440e0f4ac621e00",
        "deepnote_cell_type": "markdown"
      },
      "source": "<div style=\"text-align: right\">\n  <a href=\"#9\">Back to top</a>\n</div>\n\n<a id =6> </a>\n## 6 Making Predictions for the 8 Individuals in FEV_data\nBelow is the data from `FEV_data` with some extra columns added."
    },
    {
      "cell_type": "markdown",
      "metadata": {
        "cell_id": "f4ed2b263a774d0fb0c5e5db47407dbf",
        "deepnote_cell_type": "markdown"
      },
      "source": "<div class=\"guided-notes\">\n\n### 6.1 On your guided notes, fill in the missing cells for each row under **Model Prediction** and **Residual (Error)**.\n    \n</div>"
    },
    {
      "cell_type": "markdown",
      "metadata": {
        "cell_id": "297ef56a40984051897e8dc68d7cefd3",
        "deepnote_cell_type": "markdown"
      },
      "source": "<table style=\"font-size: 18px; margin-left: 0; border-collapse: collapse;\">\n  <thead>\n    <tr>\n      <th style=\"border: 1px solid black;\">Row</th>\n      <th style=\"border: 1px solid black;\">FEV</th>\n      <th style=\"border: 1px solid black;\">Model Prediction</th>\n      <th style=\"border: 1px solid black;\">Residual (Error)</th>\n      <th style=\"border: 1px solid black;\">MODEL + ERROR</th>\n    </tr>\n  </thead>\n  <tbody>\n    <tr>\n      <td style=\"border: 1px solid black;\">1</td>\n      <td style=\"border: 1px solid black;\">3.0</td>\n      <td style=\"border: 1px solid black;\"></td>\n      <td style=\"border: 1px solid black;\"></td>\n      <td style=\"border: 1px solid black;\"></td>\n    </tr>\n    <tr>\n      <td style=\"border: 1px solid black;\">2</td>\n      <td style=\"border: 1px solid black;\">3.2</td>\n      <td style=\"border: 1px solid black;\"></td>\n      <td style=\"border: 1px solid black;\"></td>\n      <td style=\"border: 1px solid black;\"></td>\n    </tr>\n    <tr>\n      <td style=\"border: 1px solid black;\">3</td>\n      <td style=\"border: 1px solid black;\">3.8</td>\n      <td style=\"border: 1px solid black;\"></td>\n      <td style=\"border: 1px solid black;\"></td>\n      <td style=\"border: 1px solid black;\"></td>\n    </tr>\n    <tr> \n      <td style=\"border: 1px solid black;\">4</td>\n      <td style=\"border: 1px solid black;\">4.6</td>\n      <td style=\"border: 1px solid black;\"></td>\n      <td style=\"border: 1px solid black;\"></td>\n      <td style=\"border: 1px solid black;\"></td>\n    </tr>\n    <tr> \n      <td style=\"border: 1px solid black;\">5</td>\n      <td style=\"border: 1px solid black;\">3.8</td>\n      <td style=\"border: 1px solid black;\"></td>\n      <td style=\"border: 1px solid black;\"></td>\n      <td style=\"border: 1px solid black;\"></td>\n    </tr>\n    <tr> \n      <td style=\"border: 1px solid black;\">6</td>\n      <td style=\"border: 1px solid black;\">2.3</td>\n      <td style=\"border: 1px solid black;\"></td>\n      <td style=\"border: 1px solid black;\"></td>\n      <td style=\"border: 1px solid black;\"></td>\n    </tr>\n    <tr> \n      <td style=\"border: 1px solid black;\">7</td>\n      <td style=\"border: 1px solid black;\">4.8</td>\n      <td style=\"border: 1px solid black;\"></td>\n      <td style=\"border: 1px solid black;\"></td>\n      <td style=\"border: 1px solid black;\"></td>\n    </tr> \n    <tr>\n      <td style=\"border: 1px solid black;\">8</td>\n      <td style=\"border: 1px solid black;\">4.1</td>\n      <td style=\"border: 1px solid black;\"></td>\n      <td style=\"border: 1px solid black;\"></td>\n      <td style=\"border: 1px solid black;\"></td>\n    </tr>\n  </tbody>\n</table>"
    },
    {
      "cell_type": "markdown",
      "metadata": {
        "cell_id": "eec06c7b64874c8797b0dbe02c491c8d",
        "deepnote_cell_type": "markdown"
      },
      "source": "<div class=\"discussion-question\">\n\n### 6.2 Discussion: Some of the residuals are positive, some negative. \n    \n- Explain why none of the residuals on this table are equal to 0. \n- Would it ever be possible to have a residual of exactly 0? Why or why not?\n</div>"
    },
    {
      "cell_type": "markdown",
      "metadata": {
        "cell_id": "9c49cd835f7240fd8d1c04795527a475",
        "deepnote_cell_type": "markdown"
      },
      "source": "<div class=\"guided-notes\">\n\n### 6.3 Fill in the final column in the table by adding together the model prediction and the residual for each row.\n    \n- Do you notice a pattern once you do this? What is it?\n- Does DATA = MODEL + ERROR? Why?\n</div>"
    },
    {
      "cell_type": "markdown",
      "metadata": {
        "cell_id": "a85406e1e1cb4faa9c8f003eeecb36f0",
        "deepnote_cell_type": "markdown"
      },
      "source": "<div style=\"text-align: right\">\n  <a href=\"#9\">Back to top</a>\n</div>\n\n<a id =7> </a>\n## 7 Summing the Residuals\nSomething interesting happens when we some the residuals (or errors) from the model prediction. "
    },
    {
      "cell_type": "markdown",
      "metadata": {
        "cell_id": "77fe1680854147639ae8076b09a45c72",
        "deepnote_cell_type": "markdown"
      },
      "source": "<div class=\"guided-notes\">\n\n### 7.1 Add up the 8 residuals from the mean in the data table above. What do you get?\n  \n</div>"
    },
    {
      "cell_type": "markdown",
      "metadata": {
        "cell_id": "18faf31567ee4e2680038bc243a9e4ab",
        "deepnote_cell_type": "markdown"
      },
      "source": "### 7.2 Why the mean is such a good model\n\nThere are many functions we could use to model an outcome variable with a single number: the mean, median, mode, or even just a made-up value.\n\nBut if we measure error using residuals, **the mean is the best model because it perfectly balances the residuals**. No matter the distribution, the sum of the residuals from the mean will always be 0. Any other value will produce negative and positive residuals that don’t balance each other (resulting in a sum greater than or less than 0)."
    },
    {
      "cell_type": "markdown",
      "metadata": {
        "cell_id": "c3a3f3e9b6514688886162f6d2380c6c",
        "deepnote_cell_type": "markdown"
      },
      "source": "### 7.3 Let's try the median as a model\nWhat if we use the median instead of the mean as the model? Run the `favstats()` code below to get both the median and the mean of our eight-student dataset. They are very close. Is the mean really a better model as measured by residuals?"
    },
    {
      "cell_type": "code",
      "execution_count": null,
      "metadata": {
        "cell_id": "8123a66842c942f58c0a14c28dc98f14",
        "deepnote_cell_type": "code",
        "nbsimplegrader": {
          "config_key": "code.response",
          "editable": true,
          "label": "Response: Code",
          "respondable": true,
          "response": null,
          "runnable": true,
          "type": "code"
        },
        "scrolled": true,
        "trusted": true
      },
      "outputs": [],
      "source": "# 7.3\n# run code here\n"
    },
    {
      "cell_type": "markdown",
      "metadata": {
        "cell_id": "2614630072fb4d1f84edc5ce0db7c072",
        "deepnote_cell_type": "markdown"
      },
      "source": "<div class=\"guided-notes\">\n\n### 7.4 Fill in the table in your guided notes with the model predictions and residuals using the median as the model.\n</div>"
    },
    {
      "cell_type": "markdown",
      "metadata": {
        "cell_id": "ec4239bbd31e470db45a6de980991841",
        "deepnote_cell_type": "markdown"
      },
      "source": "<table style=\"font-size: 18px; margin-left: 0; border-collapse: collapse;\">\n  <thead>\n    <tr>\n      <th style=\"border: 1px solid black;\">Row</th>\n      <th style=\"border: 1px solid black;\">FEV</th>\n      <th style=\"border: 1px solid black;\">Model Prediction</th>\n      <th style=\"border: 1px solid black;\">Residual (Error)</th>\n    </tr>\n  </thead>\n  <tbody>\n    <tr>\n      <td style=\"border: 1px solid black;\">1</td>\n      <td style=\"border: 1px solid black;\">3.0</td>\n      <td style=\"border: 1px solid black;\"></td>\n      <td style=\"border: 1px solid black;\"></td>\n    </tr>\n    <tr>\n      <td style=\"border: 1px solid black;\">2</td>\n      <td style=\"border: 1px solid black;\">3.2</td>\n      <td style=\"border: 1px solid black;\"></td>\n      <td style=\"border: 1px solid black;\"></td>\n    </tr>\n    <tr>\n      <td style=\"border: 1px solid black;\">3</td>\n      <td style=\"border: 1px solid black;\">3.8</td>\n      <td style=\"border: 1px solid black;\"></td>\n      <td style=\"border: 1px solid black;\"></td>\n    </tr>\n    <tr> \n      <td style=\"border: 1px solid black;\">4</td>\n      <td style=\"border: 1px solid black;\">4.6</td>\n      <td style=\"border: 1px solid black;\"></td>\n      <td style=\"border: 1px solid black;\"></td>\n    </tr>\n    <tr> \n      <td style=\"border: 1px solid black;\">5</td>\n      <td style=\"border: 1px solid black;\">3.8</td>\n      <td style=\"border: 1px solid black;\"></td>\n      <td style=\"border: 1px solid black;\"></td>\n    </tr>\n    <tr> \n      <td style=\"border: 1px solid black;\">6</td>\n      <td style=\"border: 1px solid black;\">2.3</td>\n      <td style=\"border: 1px solid black;\"></td>\n      <td style=\"border: 1px solid black;\"></td>\n    </tr>\n    <tr> \n      <td style=\"border: 1px solid black;\">7</td>\n      <td style=\"border: 1px solid black;\">4.8</td>\n      <td style=\"border: 1px solid black;\"></td>\n      <td style=\"border: 1px solid black;\"></td>\n    </tr> \n    <tr>\n      <td style=\"border: 1px solid black;\">8</td>\n      <td style=\"border: 1px solid black;\">4.1</td>\n      <td style=\"border: 1px solid black;\"></td>\n      <td style=\"border: 1px solid black;\"></td>\n    </tr>\n  </tbody>\n</table>"
    },
    {
      "cell_type": "markdown",
      "metadata": {
        "cell_id": "d77473e7edcf4b68877838acf1cd8ff5",
        "deepnote_cell_type": "markdown"
      },
      "source": "<div class=\"guided-notes\">\n\n### 7.5 Sum the residuals from the median to see what you get.\n</div>"
    },
    {
      "cell_type": "markdown",
      "metadata": {
        "cell_id": "008741aae8504d91a841748037695d93",
        "deepnote_cell_type": "markdown"
      },
      "source": "<div class=\"guided-notes\">\n\n### 7.6 Why might you prefer to use the mean as a one-parameter model instead of the median?\n</div>"
    }
  ],
  "metadata": {
    "deepnote_notebook_id": "71242fad3d0646019200fc135bf754fb",
    "kernelspec": {
      "display_name": "R",
      "language": "R",
      "name": "ir"
    },
    "language_info": {
      "codemirror_mode": "r",
      "file_extension": ".r",
      "mimetype": "text/x-r-source",
      "name": "R",
      "pygments_lexer": "r",
      "version": "4.3.3"
    },
    "nbsimplegrader": {
      "publish_config": {
        "classes": [],
        "options": [],
        "tools": []
      }
    }
  },
  "nbformat": 4,
  "nbformat_minor": 1
}