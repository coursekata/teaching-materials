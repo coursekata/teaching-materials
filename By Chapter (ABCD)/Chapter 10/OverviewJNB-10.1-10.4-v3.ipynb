{
  "cells": [
    {
      "cell_type": "markdown",
      "id": "b8faa990",
      "metadata": {},
      "source": "# Constructing and Interpreting Sampling Distributions of $b_1$\n\n## Chapter 10.1-10.4 Overview Notebook"
    },
    {
      "cell_type": "code",
      "execution_count": null,
      "id": "2dd4abae",
      "metadata": {
        "trusted": true
      },
      "outputs": [],
      "source": "# run this to set up the notebook\nsuppressMessages(library(coursekata))\n\ncss <- suppressWarnings(readLines(\"https://raw.githubusercontent.com/jimstigler/jupyter/master/ck_jupyter_styles.css\"))\nIRdisplay::display_html(sprintf('<style>%s</style>', paste(css, collapse = \"\\n\")))\n\n# create the df data frame\nid <- 1:10\ntime <- c(c(10, 12, 15, 48, 70),c(35, 45, 50, 55, 60))\nbucket <- c(rep(\"empty\",5),(rep(\"ice\",5)))\ndf <- data.frame(id, bucket, time)"
    },
    {
      "cell_type": "markdown",
      "id": "adba75d4",
      "metadata": {},
      "source": "## 1 Introduction\n\n<img src=\"https://coursekata-course-assets.s3.us-west-1.amazonaws.com/UCLATALL/czi-stats-course/10.1-10.4-overview-dgp-intro2.jpg\" alt=\"DGP and sample relationship\">\n\nIn this course, we’ve been fitting models to data (e.g., $Y_i=b_0+b_1X_i+e_i$) and those are the best-fitting models for the sample we have.\n\nBut our real goal isn’t to model our sample. We want to model the Data Generating Process (DGP) that produced it! We want to know the model with the true parameters $Y_i = \\beta_0 + \\beta_1X_i + e_i$ (not just the parameter estimates, $b_0$ and $b_1$).\n\nThe challenge is, we can’t observe the DGP directly. We only have data from a sample. The space between these two is called **the problem of inference**, the gap between what we want to know ($\\beta_1$) and what we know ($b_1$). \n\nOur work in this chapter is learning some new concepts that will help us bridge that gap."
    },
    {
      "cell_type": "markdown",
      "id": "36b69c22",
      "metadata": {},
      "source": "## 2 Experiment: How Long Can You Hold Your Hand in Ice Water?\n\n<img src=\"https://coursekata-course-assets.s3.us-west-1.amazonaws.com/UCLATALL/czi-stats-course/ice-water.png\" width = 40% align=\"right\">\n\nSubstack blogger Adam Mastroianni conducted an experiment at a party that he <a href=\"https://www.experimental-history.com/p/three-dumb-studies-for-your-consideration?utm_source=substack&publication_id=656797&post_id=165369325&utm_medium=email&utm_content=share&utm_campaign=email-share&triggerShare=true&isFreemail=true&r=157g9&triedRedirect=true\">described here.</a> You can do this experiment in class if you'd like, but we will analyze data from a small class, so no need to freeze your hands if you don't want to!\n\n**Design:** In this experiment, students were randomly assigned to one of two conditions. \n- **Ice bucket:** Students were asked to put their right hand in a bucket of ice water and hold it there as long as they wanted.\n- **Empty bucket:** Students were asked to put their right hand in a totally empty bucket (no water, no ice, nothing) and hold it there as long as they wanted.\n\n**Contents of the `df` (stands for data frame):** This data frame has 10 students and 3 variables.\n\n- `id` a unique number for each student, 1-10\n- `bucket` the condition each student was randomly assigned to, either `ice` or `empty`\n- `time` the number of seconds the student kept their hand in the bucket"
    },
    {
      "cell_type": "markdown",
      "id": "95fe686f",
      "metadata": {},
      "source": "<div class=\"guided-notes\">\n\n### 2.1 Look at the plot of `time ~ bucket`. Two groups of students are shown, but the labels for the groups have been removed. Which data points do you think belong to which bucket?\n    \nWhich group looks like it has a higher average time?\n\n</div>\n"
    },
    {
      "cell_type": "markdown",
      "id": "b1db8285",
      "metadata": {},
      "source": "<div class=\"guided-notes\">\n\n### 2.2 Write a word equation to represent the hypothesis that `bucket` would affect `time`\n    \n</div>"
    },
    {
      "cell_type": "markdown",
      "id": "aa620cf1",
      "metadata": {},
      "source": "<div class=\"discussion-question\">\n\n### 2.3 Discussion: Can this word equation represent the hypothesis that people would keep their hands longer in the empty bucket? How about the hypothesis that people would keep their hands longer in the ice bucket?\n    \n</div>\n"
    },
    {
      "cell_type": "markdown",
      "id": "fa17ba35",
      "metadata": {},
      "source": "<div class=\"discussion-question\">\n\n### 2.4 Discussion: Let's run the code. Was your hypothesis supported or contradicted? What might explain why we see this pattern of variation?\n    \n(Label the graph appropriately in your guided notes.)\n    \n</div>\n"
    },
    {
      "cell_type": "code",
      "execution_count": null,
      "id": "36d814ff",
      "metadata": {
        "nbsimplegrader": {
          "config_key": "code.response",
          "editable": true,
          "label": "Response: Code",
          "respondable": true,
          "response": null,
          "runnable": true,
          "type": "code"
        },
        "trusted": true
      },
      "outputs": [],
      "source": "# run this code\ngf_jitter(time ~ bucket, data=df, height = 0, width = .1) "
    },
    {
      "cell_type": "markdown",
      "id": "6088cf86",
      "metadata": {},
      "source": "### 2.5 Run this code to fit the model and print out the parameter estimates."
    },
    {
      "cell_type": "code",
      "execution_count": null,
      "id": "f7c6ae4f",
      "metadata": {
        "nbsimplegrader": {
          "config_key": "code.response",
          "editable": true,
          "label": "Response: Code",
          "respondable": true,
          "response": null,
          "runnable": true,
          "type": "code"
        },
        "scrolled": false,
        "trusted": true
      },
      "outputs": [],
      "source": "# run this code\nbucket_model <- lm(time ~ bucket, data=df)\nbucket_model"
    },
    {
      "cell_type": "markdown",
      "id": "53f0fce2",
      "metadata": {},
      "source": "<div class=\"guided-notes\">\n    \n### 2.6 Using the R output, draw the model predictions on the jitter plot\n    \nAlso annotate the visualization to show where $b_0$ and $b_1$ are\n\n</div> "
    },
    {
      "cell_type": "code",
      "execution_count": null,
      "id": "4983e02f",
      "metadata": {
        "nbsimplegrader": {
          "config_key": "code.response",
          "editable": true,
          "label": "Response: Code",
          "respondable": true,
          "response": null,
          "runnable": true,
          "type": "code"
        },
        "trusted": true
      },
      "outputs": [],
      "source": "# run this code\ngf_jitter(time ~ bucket, data=df, height = 0, width = .1) %>%\n  gf_model(bucket_model)"
    },
    {
      "cell_type": "markdown",
      "id": "19759b55",
      "metadata": {},
      "source": "<div class=\"guided-notes\">\n\n### 2.7 Interpret the parameter estimates from the model in the context of this experiment\n    \nPut a star (*) next to the parameter estimate that is most relevant to evaluating our hypothesis.\n\n</div>"
    },
    {
      "cell_type": "markdown",
      "id": "155228b0",
      "metadata": {},
      "source": "<table border=\"1\" style=\"font-size: 18px; margin-left: 0; border-collapse: collapse; width: 100%;\">\n  <thead>\n    <tr>\n      <td style=\"border: 1px solid black; font-weight: bold; text-align: center; width:30%\">Parameter estimate</td>\n      <td style=\"border: 1px solid black; font-weight: bold; text-align: center; width:70%\">Interpretation</td>\n    </tr>\n  </thead>\n  <tbody>\n    <tr>\n      <td style=\"border: 1px solid black; text-align: left; height: 60px;\">b<sub>0</sub> = 31</td>\n      <td style=\"border: 1px solid black; text-align: left; height: 60px;\"> </td>\n    </tr>\n    <tr>\n      <td style=\"border: 1px solid black; text-align: left; height: 60px;\">b<sub>1</sub> = 18</td>\n      <td style=\"border: 1px solid black; text-align: left; height: 60px;\"> </td>\n    </tr>\n  </tbody>\n</table>\n"
    },
    {
      "cell_type": "markdown",
      "id": "1bb7e31c",
      "metadata": {},
      "source": "## 3 Modeling the DGP\n\nIt's possible that there is some DGP in the world that causes people to keep their hands in ice water 18 seconds longer than in an empty bucket. But let's consider some other possibilities."
    },
    {
      "cell_type": "markdown",
      "id": "79760116",
      "metadata": {},
      "source": "<div class=\"discussion-question\">\n\n### 3.1 Is it possible that the true difference ($\\beta_1$) is smaller than 18 seconds? Larger than 18 seconds? Negative? 0?\n    \nWhat would it mean for $\\beta_1$ to be negative? To be 0?\n\n</div>\n"
    },
    {
      "cell_type": "markdown",
      "id": "3ec320f9",
      "metadata": {},
      "source": "<div class=\"guided-notes\">\n\n### 3.2 If the true difference between groups were **0** (that is, $\\beta_1 = 0$), what would the model of the DGP be? Plug in 0 into the GLM equation for the DGP to find out. \n    \n</div>\n"
    },
    {
      "cell_type": "markdown",
      "id": "13a79062",
      "metadata": {},
      "source": "### 3.3 Review: Simulating the empty model of the DGP with `shuffle()`\n\nThe empty model of the DGP ($\\beta_1 = 0$) means that any differences we see between the empty and ice groups are just random chance. If you took these 10 times and split them into two random groups, one group might look like it kept their hands in longer, purely by chance.\n\nAnd as we saw in prior chapters, we can use `shuffle()` to mimic that kind of DGP! This lets us test whether an empty-model DGP could produce a sample with a $b_1$ as big as 18.\n\nRun the code cell below. \n- In **Graph shuffles**, we’ve used `shuffle()` to create and graph a new variable, `time_shuf`, that represents one possible sample generated from an empty-model DGP. \n- In **Model shuffles**, we calculate the $b_1$ from the shuffled data."
    },
    {
      "cell_type": "code",
      "execution_count": null,
      "id": "b6f34a3e",
      "metadata": {
        "trusted": true
      },
      "outputs": [],
      "source": "IRdisplay::display_html(sprintf(\n  '<iframe src=\"%s\" width=\"%s\" height=\"%s\" frameborder=\"0\"></iframe>',\n  \"https://coursekata.github.io/teaching-apps/shuffle-demo-10-icy.html?data=10,%2012,%2015,%2048,%2070,%2035,%2045,%2050,%2055,%2060&groupA=empty&groupB=ice&outcome=time&group=bucket&tabs=3\",\n  width = \"100%\",\n  height = \"600px\"\n))\n"
    },
    {
      "cell_type": "markdown",
      "id": "971ff2c2",
      "metadata": {},
      "source": "<div class=\"discussion-question\">\n    \n### 3.4 Discussion Questions: What happens when we click the run button?\n- What is the DGP that generates the `time_shuf` variable?\n- What is the DGP that generates the `time` variable?\n\n</div>"
    },
    {
      "cell_type": "markdown",
      "id": "9ad205f8",
      "metadata": {},
      "source": "<div class=\"guided-notes\">\n\n### 3.5 Each time we run the shuffle, we get a new $b_1$ from our empty-model DGP. How are these empty-model-generated $b_1$s distributed? \n- To answer this, run the code below. For example, when we ran it once, we got 10. That dot has already been added to the plot.\n- Each time you run the code, a new $b_1$ will be generated. Add a dot for it on the plot.\n- Keep running and plotting until you start to get a sense of what the distribution of $b_1$s from the empty model might look like.\n    \n*After a few runs, if you find this slow, skip to 3.6 and then continue to plot dots!*\n   \n</div>"
    },
    {
      "cell_type": "code",
      "execution_count": null,
      "id": "95e0dfc8",
      "metadata": {
        "nbsimplegrader": {
          "config_key": "code.response",
          "editable": true,
          "label": "Response: Code",
          "respondable": true,
          "response": null,
          "runnable": true,
          "type": "code"
        },
        "trusted": true
      },
      "outputs": [],
      "source": "# run this which shuffles time \n# and calculates b1 all in one line of code\nb1(shuffle(time) ~ bucket, data = df)"
    },
    {
      "cell_type": "markdown",
      "id": "2434115b",
      "metadata": {},
      "source": "<img src=\"https://coursekata-course-assets.s3.us-west-1.amazonaws.com/UCLATALL/czi-stats-course/10.1-10.4-overview-draw-b1-dots.jpg\" alt=\"put dots here\">"
    },
    {
      "cell_type": "markdown",
      "id": "db2c2af1",
      "metadata": {},
      "source": "<div class=\"guided-notes\">\n\n### 3.6 Running one shuffle at a time is slow! Fortunately, we can use `do()` to run the same code multiple times and collect the results. Fill in the missing cell in the table below.\n\n</div>"
    },
    {
      "cell_type": "code",
      "execution_count": null,
      "id": "08d9e892",
      "metadata": {
        "nbsimplegrader": {
          "config_key": "code.response",
          "editable": true,
          "label": "Response: Code",
          "respondable": true,
          "response": null,
          "runnable": true,
          "type": "code"
        },
        "trusted": true
      },
      "outputs": [],
      "source": "# modify this \nb1(shuffle(time) ~ bucket, data = df)\n"
    },
    {
      "cell_type": "markdown",
      "id": "a61503db",
      "metadata": {},
      "source": "<table border=\"1\" style=\"font-size: 18px; margin-left: 0; border-collapse: collapse; width: 100%;\">\n  <thead>\n    <tr>\n      <td style=\"border: 1px solid black; font-weight: bold; text-align: center; width:30%\">Task</td>\n      <td style=\"border: 1px solid black; font-weight: bold; text-align: center; width:70%\">R Code</td>\n    </tr>\n  </thead>\n  <tbody>\n    <tr>\n      <td style=\"border: 1px solid black; text-align: left; vertical-align: middle;\">Do one shuffle at a time</td>\n      <td style=\"border: 1px solid black; text-align: left; vertical-align: middle;\"><code>b1(shuffle(time) ~ bucket, data = df)</code></td>\n    </tr>\n    <tr>\n      <td style=\"border: 1px solid black; text-align: left; vertical-align: middle;\">Do 5 shuffles at a time</td>\n      <td style=\"border: 1px solid black; text-align: left; vertical-align: middle;\"></td>\n    </tr>\n  </tbody>\n</table>\n"
    },
    {
      "cell_type": "markdown",
      "id": "2954fad1",
      "metadata": {},
      "source": "<div class=\"discussion-question\">\n\n### 3.7 Discussion Questions:\n\n- Where do most of the dots seem to cluster?\n- What might the shape, center, and spread of the shuffled $b_1$s look like?\n- Do these shuffled $b_1$s make sense as “children” of an empty-model DGP where $\\beta_1 = 0$? Why or why not?\n\n</div>"
    },
    {
      "cell_type": "markdown",
      "id": "ab103a20",
      "metadata": {},
      "source": "### An example of the figure with some shuffled $b_1$s drawn in as dots\n\n<img src=\"https://coursekata-course-assets.s3.us-west-1.amazonaws.com/UCLATALL/czi-stats-course/10.1-10.4-overview-draw-b1-dots3.jpg\" alt=\"with a few dots drawn in representing shuffled b1s\">"
    },
    {
      "cell_type": "markdown",
      "id": "318a0b94",
      "metadata": {},
      "source": "<div class=\"guided-notes\">\n\n### 3.8 Where does our sample $b_1$ from the study fall? Draw an arrow and label where the actual $b_1$ falls relative to these shuffled $b_1$s.\n\nIs it plausible that our observed $b_1$ could have been created by a DGP where $\\beta_1 = 0$? What makes you say that?\n\n</div>"
    },
    {
      "cell_type": "markdown",
      "id": "400aa486",
      "metadata": {},
      "source": "### An example of the figure with some shuffled $b_1$s drawn in as dots\n\n<img src=\"https://coursekata-course-assets.s3.us-west-1.amazonaws.com/UCLATALL/czi-stats-course/10.1-10.4-overview-draw-b1-dots3.jpg\" alt=\"with a few dots drawn in representing shuffled b1s\">"
    },
    {
      "cell_type": "markdown",
      "id": "185c4dbf",
      "metadata": {},
      "source": "## 4 Using `shuffle` to Create a Sampling Distribution\n\nUp to now, we’ve been looking at a few $b_1$s generated by a DGP where the ($\\beta_1$) is 0 (no effect of bucket).\n\nIn this section, we’ll use many shuffles (like 1,000!) to build a **sampling distribution** of $b_1$s under that empty-model DGP.\n\nWe can use that bigger sampling distribution as a *probability distribution* to ask: What is the likelihood of generating $b_1$ as extreme as 18 if $\\beta_1 = 0$ were really true?"
    },
    {
      "cell_type": "markdown",
      "id": "9b0a0b15",
      "metadata": {},
      "source": "<div style=\"font-size: 18px; line-height: 1.4; border: 2px solid black; padding: 10px;\">\n\n**A sampling distribution** is a distribution of parameter estimates (like $b_1$), not raw data. It is generated by repeatedly fitting a model to many different samples from the same data generating process (DGP). \n    \nSo far we have been creating a sampling distribution of $b_1$s from the empty-model DGP.\n    \nA sampling distribution is distinct from both the distribution of the *sample data* and the *population distribution*.\n    \n</div>"
    },
    {
      "cell_type": "markdown",
      "id": "600240c5",
      "metadata": {},
      "source": "### 4.1 Modify the code below to run the empty-model DGP 1000 times to make a sampling distribution of many of the possible $b_1$s it could generate.\n\nThen save these into a data frame called `sdob1` (**s**ampling **d**istribution **o**f **b1**). Write some code to examine the contents of `sdob1`."
    },
    {
      "cell_type": "code",
      "execution_count": null,
      "id": "563ee141",
      "metadata": {
        "nbsimplegrader": {
          "config_key": "code.response",
          "editable": true,
          "label": "Response: Code",
          "respondable": true,
          "response": null,
          "runnable": true,
          "type": "code"
        },
        "trusted": true
      },
      "outputs": [],
      "source": "# modify this \ndo(5) * b1(shuffle(time) ~ bucket, data = df)\n\n"
    },
    {
      "cell_type": "markdown",
      "id": "47d2c014",
      "metadata": {},
      "source": "### 4.2 Visualize the sampling distribution of $b_1$ saved in the `sdob1` data frame\n\nRun the code below to see a dot plot of the 1000 $b_1$s (way faster than drawing them in).\n\nThen modify the code to create a histogram, which is the more common way to visualize a distribution."
    },
    {
      "cell_type": "code",
      "execution_count": null,
      "id": "3137ec62",
      "metadata": {
        "nbsimplegrader": {
          "config_key": "code.response",
          "editable": true,
          "label": "Response: Code",
          "respondable": true,
          "response": null,
          "runnable": true,
          "type": "code"
        },
        "trusted": true
      },
      "outputs": [],
      "source": "# modify this\ngf_dotplot(~ b1, binwidth = 1, data = sdob1)\n\n"
    },
    {
      "cell_type": "markdown",
      "id": "0a4216b4",
      "metadata": {},
      "source": "<div class=\"discussion-question\">\n    \n### 4.3 Discussion Questions: What is represented in this distribution? \n- How is this histogram similar to and different from the dots you drew earlier?\n- What does a very tall bar represent? A very short bar?\n- Which are less likely values of $b_1$ to be generated from this empty-model DGP?\n- Why does this distribution appear to be centered at 0?\n\n</div>"
    },
    {
      "cell_type": "markdown",
      "id": "28e095b9",
      "metadata": {},
      "source": "<div class=\"guided-notes\">\n\n### 4.4 Where does our sample $b_1$ fall on this histogram? Add code to represent it as a dot.\n    \nWhat does its position tell you about how our sample relates to the empty-model DGP?\n    \n</div>"
    },
    {
      "cell_type": "code",
      "execution_count": null,
      "id": "83344246",
      "metadata": {
        "nbsimplegrader": {
          "config_key": "code.response",
          "editable": true,
          "label": "Response: Code",
          "respondable": true,
          "response": null,
          "runnable": true,
          "type": "code"
        },
        "trusted": true
      },
      "outputs": [],
      "source": "# this saves the sample_b1\nsample_b1 <- b1(time ~ bucket, data=df)\n\n# modify this to make a sampling distribution\n# then add the sample_b1 as a dot\n#gf_histogram(~__, data=__) %>%\n#  gf_point(__ ~ __, color=\"red\")\n"
    },
    {
      "cell_type": "markdown",
      "id": "fcd248cd",
      "metadata": {},
      "source": "## 5 Using the sampling distribution of $b_1$ as a probability distribution\n\nBack in Chapter 6, we explored the idea of using a distribution of data as a probability distribution. We can use a sampling distribution in much the same way. \n\nSome shuffled $b_1$ are more likely than others; the ones closer to 0 are more common while very large or very small $b_1$s are rare. "
    },
    {
      "cell_type": "markdown",
      "id": "b3e4fc6b",
      "metadata": {},
      "source": "<div class=\"guided-notes\">\n\n### 5.1 Shade in the histograms to show the following proportions. Then estimate the proportion for each case.\n\n</div>"
    },
    {
      "cell_type": "markdown",
      "id": "501af7fd",
      "metadata": {},
      "source": "<table border=\"1\" style=\"font-size: 18px; margin-left: 0; border-collapse: collapse; width: 100%;\">\n  <thead>\n    <tr>\n      <td style=\"border: 1px solid black; text-align: left; width:50%\">$b_1 > 0$ (positive $b_1$s)<br><br>\n        Estimated proportion: </td>\n      <td style=\"border: 1px solid black; text-align: left; width:50%\">$b_1 < 0$ (negative $b_1$s)<br><br>\n        Estimated proportion: </td>\n    </tr>\n  </thead>\n  <tbody>\n    <tr>\n      <td style=\"border: 1px solid black; text-align: left;\"><img src=\"https://coursekata-course-assets.s3.us-west-1.amazonaws.com/UCLATALL/czi-stats-course/10.1-10.4-overview-histogram-to-shade-in2.jpg\" alt=\"histogram to shade in\"></td>\n      <td style=\"border: 1px solid black; text-align: center;\"><img src=\"https://coursekata-course-assets.s3.us-west-1.amazonaws.com/UCLATALL/czi-stats-course/10.1-10.4-overview-histogram-to-shade-in2.jpg\" alt=\"histogram to shade in\"></td>\n    </tr>\n    <tr>\n      <td style=\"border: 1px solid black; text-align: left; width:50%\">$b_1 > 20$<br><br>\n        Estimated proportion: </td>\n      <td style=\"border: 1px solid black; text-align: left; width:50%\">$b_1 > 5$<br><br>\n        Estimated proportion: </td>\n    </tr>\n    <tr>\n      <td style=\"border: 1px solid black; text-align: left;\"><img src=\"https://coursekata-course-assets.s3.us-west-1.amazonaws.com/UCLATALL/czi-stats-course/10.1-10.4-overview-histogram-to-shade-in2.jpg\" alt=\"histogram to shade in\"></td>\n      <td style=\"border: 1px solid black; text-align: center;\"><img src=\"https://coursekata-course-assets.s3.us-west-1.amazonaws.com/UCLATALL/czi-stats-course/10.1-10.4-overview-histogram-to-shade-in2.jpg\" alt=\"histogram to shade in\"></td>\n    </tr>\n  </tbody>\n</table>\n"
    },
    {
      "cell_type": "markdown",
      "id": "048f480b",
      "metadata": {},
      "source": "### 5.2 Those proportions can also be interpreted as probabilities. \n\nFor example: \n- 0.50 represents the probability that a DGP where $\\beta_1 = 0$ could produce a sample with a positive $b_1$. There is a 50% chance that the empty model will produce a positive $b_1$. \n- The probability of generating a $b_1 > 20$ is much smaller than that (around 0.05-0.10). It's less likely that the empty model can produce a $b_1$ bigger than 20 (versus bigger than 0).\n"
    },
    {
      "cell_type": "markdown",
      "id": "81e57648",
      "metadata": {},
      "source": "<div class=\"discussion-question\">\n\n### 5.3 Discussion Question: What do you think is the probability this DGP generating a $b_1$ greater than 40? If the sample $b_1$ is very unlikely (like 40, 50, or even -2000), would you believe that the empty-model DGP ($\\beta_1 = 0$) produced it? Or would you reject it as a possible model of the DGP that produced this sample?\n \n</div>"
    },
    {
      "cell_type": "markdown",
      "id": "c33da086",
      "metadata": {},
      "source": "<div class=\"discussion-question\">\n\n### 5.4 Discussion Question: What do you think is the probability this DGP generating a $b_1$ greater than 1? If the sample $b_1$ is not so unlikely (like -2 or 5), would you believe that the empty-model DGP ($\\beta_1 = 0$) produced it? Or would you reject it as a possible model of the DGP?\n \n</div>"
    },
    {
      "cell_type": "markdown",
      "id": "e87bb756",
      "metadata": {},
      "source": "<div class=\"guided-notes\">\n\n### 5.5 Use the table below to summarize how probability relates to decisions about the empty-model DGP.\n\n</div>"
    },
    {
      "cell_type": "markdown",
      "id": "6287cb29",
      "metadata": {},
      "source": "<table border=\"1\" style=\"font-size: 18px; border-collapse: collapse; width: 100%;\">\n  <thead>\n    <tr>\n      <td style=\"border: 1px solid black; font-weight: bold; text-align: left; width:50%\">If the sample $b_1$ is <i>very unlikely</i> to be generated by the empty-model DGP:</td>\n      <td style=\"border: 1px solid black; font-weight: bold; text-align: left; width:50%\">If the sample $b_1$ is <i>not so unlikely</i> to be generated by the empty-model DGP:</td>\n    </tr>\n  </thead>\n  <tbody>\n    <tr>\n      <td style=\"border: 1px solid black; text-align: left; padding: 8px;\">What would the probability be like?<br><br>\n      </td>\n      <td style=\"border: 1px solid black; text-align: left;\">What would the probability be like?<br><br></td>\n    </tr>\n    <tr>\n      <td style=\"border: 1px solid black; text-align: left; padding: 8px;\">Would you believe that the empty-model DGP could have produced it or reject it?<br><br>\n      </td>\n      <td style=\"border: 1px solid black; text-align: left;\">Would you believe that the empty-model DGP could have produced it or reject it?<br><br></td>\n    </tr>\n  </tbody>\n</table>\n"
    },
    {
      "cell_type": "markdown",
      "id": "619a1138",
      "metadata": {},
      "source": "<div class=\"guided-notes\">\n\n### 5.6 Where are the unlikely $b_1$s in the sampling distribution? Draw a border around those parts of the sampling distribution (ideally in a light color, e.g., a yellow highlighter).\n</div>"
    },
    {
      "cell_type": "markdown",
      "id": "f7fcfeb0",
      "metadata": {},
      "source": "<img src=\"https://coursekata-course-assets.s3.us-west-1.amazonaws.com/UCLATALL/czi-stats-course/10.1-10.4-overview-histogram-to-shade-in2.jpg\" alt=\"sampling distribution to label\" width = 70%>"
    },
    {
      "cell_type": "markdown",
      "id": "1edd84b6",
      "metadata": {},
      "source": "### 5.7 If a sample $b_1$ falls in the extreme upper or lower tail of the sampling distribution, we might reject the empty-model (null-model) DGP as the true model.\n\nIn statistics, this is called a **two-tailed test** because we could reject the empty model if the sample $b_1$ was extreme in either direction:\n- Upper tail: very large $b_1$\n- Lower tail: very small $b_1$ "
    },
    {
      "cell_type": "markdown",
      "id": "85a9b7e5",
      "metadata": {},
      "source": "<div class=\"guided-notes\">\n\n### 5.8 Label the tails of the sampling distribution.\n\n- Which side is the upper tail? Which is the lower tail?\n- Which tail represents people keeping their hands longer in the ice bucket?\n- Which tail represents people keeping their hands longer in the empty bucket?\n\n</div>"
    },
    {
      "cell_type": "markdown",
      "id": "c5cc8ed0",
      "metadata": {},
      "source": "### 5.9 But what counts as “unlikely”? Introducing the community standard: alpha ($\\alpha$)\n\nDifferent people might choose different cutoff points for what feels unlikely. So the research community uses a shared standard of what counts as \"unlikely\" called **the alpha level ($\\alpha$).\n\n> Alpha ($\\alpha$) is the cutoff probability for deciding that a sample result is unlikely enough to reject the empty model. In many fields, the $\\alpha = 0.05$. \n\nIf you take the 1000 b1s and line them up in order, the lowest 0.025 and the highest 0.025 values would be the most extreme 5% of values and therefore the most unlikely values to be randomly generated.\n\nWe can use the `middle()` function to color the middle 0.95 of b1s in our histogram differently than the most extreme 0.05 b1s.\n"
    },
    {
      "cell_type": "code",
      "execution_count": null,
      "id": "057e9fe6",
      "metadata": {
        "nbsimplegrader": {
          "config_key": "code.response",
          "editable": true,
          "label": "Response: Code",
          "respondable": true,
          "response": null,
          "runnable": true,
          "type": "code"
        },
        "trusted": true
      },
      "outputs": [],
      "source": "# run this\ngf_histogram(~b1, data = sdob1, fill = ~ middle(b1, .95))"
    },
    {
      "cell_type": "markdown",
      "id": "e071924c",
      "metadata": {},
      "source": "<div class=\"guided-notes\">\n\n### 5.10 Shade in the alpha level (the most extreme 5% of $b_1$s) on your sampling distribution\n\nAlso note how to use the `middle()` function with a histogram\n\n<br><center><code>gf_histogram(~b1, data = sdob1, _______________________________________)</code></center>\n\n</div>"
    },
    {
      "cell_type": "markdown",
      "id": "fcef0313",
      "metadata": {},
      "source": "<div class=\"guided-notes\">\n\n### 5.11 The moment of truth: Does the sample $b_1$ fall in the “unlikely” $\\alpha$ zone?\n\n- Add your sample $b_1$ to the sampling distribution.\n- Does it fall inside the shaded $\\alpha$ region, or within the middle 95%?\n- Based on what you see, would you reject the empty model of the DGP?\n\n</div>"
    },
    {
      "cell_type": "code",
      "execution_count": null,
      "id": "5e58135f",
      "metadata": {
        "nbsimplegrader": {
          "config_key": "code.response",
          "editable": true,
          "label": "Response: Code",
          "respondable": true,
          "response": null,
          "runnable": true,
          "type": "code"
        },
        "trusted": true
      },
      "outputs": [],
      "source": "# run this\ngf_histogram(~b1, data = sdob1, fill = ~ middle(b1, .95)) %>%\n  gf_point(0 ~ sample_b1, color = \"red\", size = 4)"
    },
    {
      "cell_type": "markdown",
      "id": "256fb4d8",
      "metadata": {},
      "source": "<div class=\"discussion-question\">\n    \n### 5.12 Discussion Question: What if we had set the alpha level for this study as 0.30? How would that change our decision to reject or not the empty model? \n\n</div>"
    },
    {
      "cell_type": "code",
      "execution_count": null,
      "id": "41f3cb7c",
      "metadata": {
        "nbsimplegrader": {
          "config_key": "code.response",
          "editable": true,
          "label": "Response: Code",
          "respondable": true,
          "response": null,
          "runnable": true,
          "type": "code"
        },
        "trusted": true
      },
      "outputs": [],
      "source": "# modify this to shade the sampling distribution for an alpha = .30\ngf_histogram(~b1, data = sdob1, fill = ~ middle(b1, .95)) %>%\n  gf_point(0 ~ sample_b1, color = \"red\", size = 4)\n"
    }
  ],
  "metadata": {
    "kernelspec": {
      "display_name": "R",
      "language": "R",
      "name": "ir"
    },
    "language_info": {
      "codemirror_mode": "r",
      "file_extension": ".r",
      "mimetype": "text/x-r-source",
      "name": "R",
      "pygments_lexer": "r",
      "version": "4.3.3"
    },
    "nbsimplegrader": {
      "publish_config": {
        "classes": [],
        "options": [],
        "tools": []
      }
    }
  },
  "nbformat": 4,
  "nbformat_minor": 5
}