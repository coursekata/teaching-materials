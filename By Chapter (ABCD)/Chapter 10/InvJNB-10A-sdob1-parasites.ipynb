{
  "cells": [
    {
      "cell_type": "markdown",
      "metadata": {
        "cell_id": "2171e4a7d8b849eda7a7623f5c01e765",
        "deepnote_cell_type": "markdown",
        "nbsimplegrader": {
          "config_key": "markdown.view-only",
          "editable": false,
          "label": "Markdown: View-Only",
          "respondable": false,
          "response": null,
          "runnable": false,
          "type": "markdown"
        }
      },
      "source": "## 10A: Can parasites control their hosts?\n\n<img src=\"https://images.newscientist.com/wp-content/uploads/2017/05/04161216/fig.-3_metacercariae_ns.jpg\" width=300>\n\nThe eye fluke; a parasite that infects fish and lives in their eyes."
    },
    {
      "cell_type": "code",
      "execution_count": null,
      "metadata": {
        "cell_id": "bbd64252cb1f4968ac3b0189ed07f730",
        "deepnote_cell_height": 294.921875,
        "deepnote_cell_type": "code",
        "deepnote_to_be_reexecuted": false,
        "execution_millis": 4984,
        "execution_start": 1667508459638,
        "nbsimplegrader": {
          "config_key": "code.run-only",
          "editable": false,
          "label": "Code: Run-Only",
          "respondable": false,
          "response": null,
          "runnable": true,
          "type": "code"
        },
        "output_cleared": false,
        "source_hash": null,
        "trusted": true
      },
      "outputs": [],
      "source": "# This code will load the R packages we will use\nsuppressPackageStartupMessages({\n    library(coursekata)\n})\n\nexp1 <- read.csv(\"https://docs.google.com/spreadsheets/d/e/2PACX-1vT0BJOSII2SFORMbCO9pnXZKCwMzjnBhcHD0QCziE1qbQJcsJz1wjHg3fTLYXfpiA9MICNV5S1IceDf/pub?gid=974536451&single=true&output=csv\")\nexp2 <- read.csv(\"https://docs.google.com/spreadsheets/d/e/2PACX-1vSIrbyNRhOUYD_4nn4xOtQ0tJjNaIn7X4RaqQTG9Zc5Vr3mreonLC4_lbt1FdWgvkW_pRJSvOxDjhNp/pub?gid=636600208&single=true&output=csv\")\n\nexp1$infected <- factor(exp1$infected)"
    },
    {
      "cell_type": "markdown",
      "metadata": {
        "cell_id": "841c850e386f4071b6546c2f48926bf0",
        "deepnote_cell_height": 680.578125,
        "deepnote_cell_type": "markdown",
        "tags": []
      },
      "source": "### Intro: The Eye Fluke\n\nAlthough animals typically survive by avoiding predators, this is a problem for parasites who need their hosts to be eaten in order to continue their life cycle.\n\nTake, for instance, the common parasite, the eye fluke (*Diplostomum pseudospathaceum*), which has a life cycle that takes place in three different types of animals.\n\n<img src=\"https://coursekata-course-assets.s3.us-west-1.amazonaws.com/UCLATALL/czi-stats-course/jnb_x0RhFXQq-image.png\" alt=\"life cycle of eye fluke\" width=600>\n\nThe eye fluke would really like it if the trout would get eaten by a bird (even if the trout wouldn't!).\n\nDr. Mikhail Gopko and colleagues conducted an experiment to see if parasite-infected trout would change their behavior in a way that would make them more likely to be eaten by birds (e.g., swim closer to the surface of the water)."
    },
    {
      "cell_type": "markdown",
      "metadata": {
        "cell_id": "e17046f715b64509877980ac7c8e7228",
        "deepnote_cell_height": 69.96875,
        "deepnote_cell_type": "markdown",
        "tags": []
      },
      "source": "## 1.0 - The Data"
    },
    {
      "cell_type": "markdown",
      "metadata": {
        "cell_id": "c4c368ab4fe14dfbbecfc4feba14b5fa",
        "deepnote_cell_height": 296.875,
        "deepnote_cell_type": "markdown",
        "tags": []
      },
      "source": "The data frame `exp1` contains data from this published study (https://link.springer.com/article/10.1007/s00265-017-2300-x). 46 lab-raised trout were randomly assigned to be either infected by eye fluke or not. \n\n- `infected` whether fish is in experimentally infected (1) or control (0) group\n- `fish_id` an identification number\n- `fish_mass_g` mass of fish in grams\n- `infection_intensity` number of eye flukes in fish eye lense\n- `depth` mean distance from bottom of aquarium measured in cm (larger numbers indicated shallower swimming--that is, closer to the surface)\n- `activity` number of gridlines crossed by fish in a 4 minute period  "
    },
    {
      "cell_type": "code",
      "execution_count": null,
      "metadata": {
        "cell_id": "d001e4ff89e642008f32cb61b03578dc",
        "deepnote_cell_height": 75.953125,
        "deepnote_cell_type": "code",
        "deepnote_to_be_reexecuted": false,
        "execution_millis": 13,
        "execution_start": 1644274720451,
        "output_cleared": true,
        "source_hash": null,
        "tags": [],
        "trusted": true
      },
      "outputs": [],
      "source": "# Take a look at the data frame"
    },
    {
      "cell_type": "markdown",
      "metadata": {
        "cell_id": "c2c6b040ede84aa69b7119c877c32607",
        "deepnote_cell_height": 74.75,
        "deepnote_cell_type": "markdown",
        "tags": []
      },
      "source": "1.1 - If parasites indeed change their fishy hosts' behaviors, which of the variables above might be interesting outcomes to consider?"
    },
    {
      "cell_type": "markdown",
      "metadata": {
        "cell_id": "033507da4ec84afa9320328d760bdf1e",
        "deepnote_cell_height": 52.359375,
        "deepnote_cell_type": "markdown",
        "tags": []
      },
      "source": "1.2 - Write a word equation to represent the researchers' hypothesis. "
    },
    {
      "cell_type": "markdown",
      "metadata": {
        "cell_id": "665f2883ee3f42768b9ed2361b2dd667",
        "deepnote_cell_height": 69.96875,
        "deepnote_cell_type": "markdown",
        "tags": []
      },
      "source": "## 2.0 - Explore Variation"
    },
    {
      "cell_type": "markdown",
      "metadata": {
        "cell_id": "1ff0a6d25e074de88f5234d498838da2",
        "deepnote_cell_height": 74.75,
        "deepnote_cell_type": "markdown",
        "tags": []
      },
      "source": "**2.1 - Discussion:** Here is a visualization to help us explore this hypothesis. What do you think of this hypothesis from the data that you see?"
    },
    {
      "cell_type": "code",
      "execution_count": null,
      "metadata": {
        "cell_id": "f92dcb83264a46cfb907a39bd23925fa",
        "deepnote_cell_height": 535.96875,
        "deepnote_cell_type": "code",
        "deepnote_output_heights": [
          444.015625
        ],
        "deepnote_to_be_reexecuted": false,
        "execution_millis": 367,
        "execution_start": 1644274720464,
        "output_cleared": false,
        "source_hash": null,
        "tags": [],
        "trusted": true
      },
      "outputs": [],
      "source": "gf_jitter(depth ~ infected, data = exp1, width = .2, height = .2, size = 4) "
    },
    {
      "cell_type": "markdown",
      "metadata": {
        "cell_id": "6e037946274a4a75ae3176efeb6c983e",
        "deepnote_cell_height": 52.359375,
        "deepnote_cell_type": "markdown",
        "tags": []
      },
      "source": "**2.2 - Discussion:** Find this fish in the visualization above (we'll call it fish #3)."
    },
    {
      "cell_type": "code",
      "execution_count": null,
      "metadata": {
        "cell_id": "2ac1e16df1254093be05fd04f4f32a63",
        "deepnote_cell_height": 222.890625,
        "deepnote_cell_type": "code",
        "deepnote_output_heights": [
          130.9375
        ],
        "deepnote_to_be_reexecuted": false,
        "execution_millis": 52,
        "execution_start": 1644274720823,
        "output_cleared": false,
        "source_hash": null,
        "tags": [],
        "trusted": true
      },
      "outputs": [],
      "source": "filter(exp1, fish_id == 3)"
    },
    {
      "cell_type": "code",
      "execution_count": null,
      "metadata": {
        "cell_id": "d58d82f45762447784a7ef7dc8d296a2",
        "deepnote_cell_height": 98.953125,
        "deepnote_cell_type": "code",
        "deepnote_to_be_reexecuted": false,
        "execution_millis": 130,
        "execution_start": 1644293562326,
        "output_cleared": false,
        "source_hash": null,
        "tags": [],
        "trusted": true
      },
      "outputs": [],
      "source": "# a visualization that will color fish #3's dot in a different color\n#gf_jitter(depth ~ infected, data = exp1, width = .2, height = .2, size = 4, color = ~fish_id == 3) "
    },
    {
      "cell_type": "markdown",
      "metadata": {
        "cell_id": "d2bea664745c4b37a5eb127c1d8c4447",
        "deepnote_cell_height": 111.140625,
        "deepnote_cell_type": "markdown",
        "tags": []
      },
      "source": "2.3 - Could we have gotten a distribution of data like this if parasites didn't really affect swimming in the Data Generating Process? How would we represent that as the word equation? \n\n(Could we try it in R somehow?)"
    },
    {
      "cell_type": "code",
      "execution_count": null,
      "metadata": {
        "cell_id": "9d749c47d1844d09b6e60df34a45e2af",
        "deepnote_cell_height": 98.953125,
        "deepnote_cell_type": "code",
        "deepnote_to_be_reexecuted": false,
        "execution_millis": 13,
        "execution_start": 1644293698067,
        "output_cleared": false,
        "source_hash": null,
        "tags": [],
        "trusted": true
      },
      "outputs": [],
      "source": "# Modify this code to mimic a no-effect-of-parasites DGP\n#gf_jitter(depth ~ infected, data = exp1, width = .2, height = .2, size = 4, color = ~fish_id == 3)"
    },
    {
      "cell_type": "markdown",
      "metadata": {
        "cell_id": "4c6b6259985f41428a4dbc47e9b6626b",
        "deepnote_cell_height": 74.75,
        "deepnote_cell_type": "markdown",
        "deepnote_to_be_reexecuted": false,
        "execution_millis": 1,
        "execution_start": 1635999232363,
        "source_hash": "37518c93",
        "tags": []
      },
      "source": "**2.4 - Discussion:** If eye flukes don't change their host's behavior, would fish #3 have acted differently even if it was infected? "
    },
    {
      "cell_type": "markdown",
      "metadata": {
        "cell_id": "f143082fd1374813a093f604fe4d26af",
        "deepnote_cell_height": 69.96875,
        "deepnote_cell_type": "markdown",
        "tags": []
      },
      "source": "## 3.0 - Model Variation in the Sample"
    },
    {
      "cell_type": "markdown",
      "metadata": {
        "cell_id": "ca8ab8fe7e4742af8bd6a353767a4800",
        "deepnote_cell_height": 125.34375,
        "deepnote_cell_type": "markdown",
        "nbsimplegrader": {
          "config_key": "markdown.response",
          "editable": true,
          "label": "Response: Markdown",
          "respondable": true,
          "response": null,
          "runnable": true,
          "type": "markdown"
        },
        "tags": []
      },
      "source": "3.1 - What's the best fitting model of the data based on the researchers' hypothesis? \n\nSpecify and fit a formal model (in GLM format). \n\n$Y_i = ... + e_i$"
    },
    {
      "cell_type": "markdown",
      "metadata": {
        "cell_id": "87a1f921c7fd4bd8bd0d431381595a96",
        "deepnote_cell_height": 150.9375,
        "deepnote_cell_type": "markdown",
        "nbsimplegrader": {
          "config_key": "markdown.response",
          "editable": true,
          "label": "Response: Markdown",
          "respondable": true,
          "response": null,
          "runnable": true,
          "type": "markdown"
        },
        "tags": []
      },
      "source": "3.2 - Interpret the best fitting estimates in that model by connecting them to the visualization below.\n\n- $b_0$: \n- $b_1$:"
    },
    {
      "cell_type": "code",
      "execution_count": null,
      "metadata": {
        "cell_id": "b42e1312169b4ebd8f12ac4a8be2b90e",
        "deepnote_cell_height": 553.96875,
        "deepnote_cell_type": "code",
        "deepnote_output_heights": [
          444.015625
        ],
        "deepnote_to_be_reexecuted": false,
        "execution_millis": 993,
        "execution_start": 1667508779803,
        "output_cleared": false,
        "source_hash": null,
        "tags": [],
        "trusted": true
      },
      "outputs": [],
      "source": "gf_jitter(depth ~ infected, data = exp1, width = .2, height = .2, size = 4) %>%\n    gf_model(depth ~ infected, data = exp1, color = \"red\")"
    },
    {
      "cell_type": "markdown",
      "metadata": {
        "cell_id": "43b8278294e942e1896ce0ce161ffa41",
        "deepnote_cell_height": 69.96875,
        "deepnote_cell_type": "markdown",
        "tags": []
      },
      "source": "## 4.0 - But what's the best model of the DGP?"
    },
    {
      "cell_type": "markdown",
      "metadata": {
        "cell_id": "20b815bf50674ebebef6cffc3c96c77c",
        "deepnote_cell_height": 74.75,
        "deepnote_cell_type": "markdown",
        "nbsimplegrader": {
          "config_key": "markdown.response",
          "editable": true,
          "label": "Response: Markdown",
          "respondable": true,
          "response": null,
          "runnable": true,
          "type": "markdown"
        },
        "tags": []
      },
      "source": "4.1a - Is it possible that there is no difference between these two groups in the DGP? If so, how would we represent that hypothesis in GLM notation? "
    },
    {
      "cell_type": "markdown",
      "metadata": {
        "cell_id": "caa854036fd94ea08f7783ea5927206f",
        "deepnote_cell_height": 74.75,
        "deepnote_cell_type": "markdown",
        "tags": []
      },
      "source": "4.1b - Is it possible that the researchers are right and infected fish really are different from uninfected fish in the DGP? If so, how would we represent that hypothesis in GLM notation? "
    },
    {
      "cell_type": "markdown",
      "metadata": {
        "cell_id": "35de4ef7f62448b4b866c9d980e9ffb7",
        "deepnote_cell_height": 75.15625,
        "deepnote_cell_type": "markdown",
        "tags": []
      },
      "source": "4.2 - What is our best guess for the $\\beta_1$ in the two equations above? What would happen to the 2nd model if $\\beta_1 = 0$? "
    },
    {
      "cell_type": "markdown",
      "metadata": {
        "cell_id": "9cc83d3b5cce4a38bfa8816c035a584a",
        "deepnote_cell_height": 74.953125,
        "deepnote_cell_type": "markdown",
        "tags": []
      },
      "source": "4.3 - Could the $\\beta_1$ in the DGP be a different number than either of the two numbers above? What else could it be? "
    },
    {
      "cell_type": "markdown",
      "metadata": {
        "cell_id": "a4bc2876604342408d0ad9c349a982d1",
        "deepnote_cell_height": 109.96875,
        "deepnote_cell_type": "markdown",
        "tags": []
      },
      "source": "## 5.0 - Simulating a DGP where there is no effect of parasite"
    },
    {
      "cell_type": "markdown",
      "metadata": {
        "cell_id": "e07a4b751bff4a288f88a13d9fc8f22c",
        "deepnote_cell_height": 97.5625,
        "deepnote_cell_type": "markdown",
        "tags": []
      },
      "source": "We can simulate a DGP with a certain $\\beta_1$ (such as $\\beta_1 = 0$, no effect of parasite infection) and look at all the $b_1$s that it can produce. Then we can ask: Does our sample seem \"unlikely\" to have come from this DGP? If so, then we might reject the empty model of the DGP."
    },
    {
      "cell_type": "markdown",
      "metadata": {
        "cell_id": "9c35c1ca375c4e79b4b623484ed837be",
        "deepnote_cell_height": 74.953125,
        "deepnote_cell_type": "markdown",
        "nbsimplegrader": {
          "config_key": "markdown.response",
          "editable": true,
          "label": "Response: Markdown",
          "respondable": true,
          "response": null,
          "runnable": true,
          "type": "markdown"
        },
        "tags": []
      },
      "source": "5.1 - What kind of world does `shuffle()` mimic? Represent the shuffle DGP using GLM notation: $Y_i = \\beta_0 + \\beta_1 X_i + \\epsilon_i$"
    },
    {
      "cell_type": "markdown",
      "metadata": {
        "cell_id": "d7c5e527fa4442488edc92bbd2be274a",
        "deepnote_cell_height": 52.359375,
        "deepnote_cell_type": "markdown",
        "tags": []
      },
      "source": "5.2a - Run the code below a few times. Why does only one of the numbers change? "
    },
    {
      "cell_type": "code",
      "execution_count": null,
      "metadata": {
        "cell_id": "4e9586d4aab94bbcb58e7d804947946d",
        "deepnote_cell_height": 217.3125,
        "deepnote_cell_type": "code",
        "deepnote_output_heights": [
          20.1875,
          20.1875
        ],
        "deepnote_to_be_reexecuted": false,
        "execution_millis": 721,
        "execution_start": 1667508876590,
        "nbsimplegrader": {
          "config_key": "code.run-only",
          "editable": false,
          "label": "Code: Run-Only",
          "respondable": false,
          "response": null,
          "runnable": true,
          "type": "code"
        },
        "output_cleared": false,
        "source_hash": null,
        "tags": [],
        "trusted": true
      },
      "outputs": [],
      "source": "sample_b1 <- b1(depth ~ infected, data = exp1)\nsample_b1\n\nb1(shuffle(depth) ~ infected, data = exp1)"
    },
    {
      "cell_type": "markdown",
      "metadata": {
        "cell_id": "1ad7a55f946e47c1a5c0c37d7fd41128",
        "deepnote_cell_height": 52.359375,
        "deepnote_cell_type": "markdown"
      },
      "source": "5.2b - What does the shuffled `b1` mean?"
    },
    {
      "cell_type": "markdown",
      "metadata": {
        "cell_id": "8234ac37421c4a8bba4d0b17c2e6b9bb",
        "deepnote_cell_height": 594.125,
        "deepnote_cell_type": "markdown",
        "tags": []
      },
      "source": "5.3 - Which of the following are shuffled data? Which one is the real data?\n\n(Also, roughly estimate the values of the shuffled `b1`s. How are they different from the sample `b1`?)\n\n<img src=\"https://coursekata-course-assets.s3.us-west-1.amazonaws.com/UCLATALL/czi-stats-course/jnb_9mndF9qP-image.png\" alt=\"a 3x3 panel of 8 shuffled data and one real data\">"
    },
    {
      "cell_type": "markdown",
      "metadata": {
        "cell_id": "1bec35d929504f4b8115225f3631eb9e",
        "deepnote_cell_height": 52.5625,
        "deepnote_cell_type": "markdown",
        "tags": []
      },
      "source": "5.4 - Here is code for a single shuffled $b_1$. Try creating a sampling distribution of 1000 shuffled $b_1$s. "
    },
    {
      "cell_type": "code",
      "execution_count": null,
      "metadata": {
        "cell_id": "a6c3aa24ff724cd4a94a709caeaf0ceb",
        "deepnote_cell_height": 112.140625,
        "deepnote_cell_type": "code",
        "deepnote_output_heights": [
          20.1875
        ],
        "deepnote_to_be_reexecuted": false,
        "execution_millis": 15,
        "execution_start": 1644274721104,
        "nbsimplegrader": {
          "config_key": "code.response",
          "editable": true,
          "label": "Response: Code",
          "respondable": true,
          "response": null,
          "runnable": true,
          "type": "code"
        },
        "output_cleared": false,
        "source_hash": null,
        "tags": [],
        "trusted": true
      },
      "outputs": [],
      "source": "b1(shuffle(depth) ~ infected, data = exp1)"
    },
    {
      "cell_type": "markdown",
      "metadata": {
        "cell_id": "651169abca2747398b04314e52392733",
        "deepnote_cell_height": 74.953125,
        "deepnote_cell_type": "markdown",
        "tags": []
      },
      "source": "5.5 - Make a visualization of the sampling distribution of $b_1$ you created. What's the shape, center, spread of this distribution?"
    },
    {
      "cell_type": "markdown",
      "metadata": {
        "cell_id": "c6f55f904fcb4359b8b2117a9c8d6da1",
        "deepnote_cell_height": 69.96875,
        "deepnote_cell_type": "markdown",
        "tags": []
      },
      "source": "## 6.0 - Bringing in our sample"
    },
    {
      "cell_type": "markdown",
      "metadata": {
        "cell_id": "d353886c911443cb93e57deb4315d50b",
        "deepnote_cell_height": 74.75,
        "deepnote_cell_type": "markdown",
        "tags": []
      },
      "source": "6.1 - Where does our sample fall relative to this sampling distribution? Is it one of the \"unlikely\" samples?"
    },
    {
      "cell_type": "code",
      "execution_count": null,
      "metadata": {
        "cell_id": "8a2e297fe7264ee89fc4b9ad937a04db",
        "deepnote_cell_height": 589.96875,
        "deepnote_cell_type": "code",
        "deepnote_output_heights": [
          444.015625
        ],
        "deepnote_to_be_reexecuted": false,
        "execution_millis": 1623,
        "execution_start": 1644274721105,
        "output_cleared": false,
        "owner_user_id": "65abe037-acab-4951-bbc9-907a4ef12e8f",
        "source_hash": null,
        "tags": [],
        "trusted": true
      },
      "outputs": [],
      "source": "sdob1 <- do(1000) * b1(shuffle(depth) ~ infected, data = exp1)\n\n# Add our sample to the distribution\ngf_histogram(~b1, data = sdob1, fill = ~middle(b1, .95), bins=100)"
    },
    {
      "cell_type": "markdown",
      "metadata": {
        "cell_id": "aab81d29320d4a9d9570538b821d3e79",
        "deepnote_cell_height": 206.9375,
        "deepnote_cell_type": "markdown",
        "tags": []
      },
      "source": "Let's recap what all this means using our [distribution triad diagram](https://docs.google.com/presentation/d/1PTEFZGFKLX6mDa3GeceXkkmFTNEOOy2k1K6Tg3InVas/copy)\n\nWe started off thinking, \"Maybe there is no effect of parasites on swimming behavior. Fish are going to swim at the same depth whether they are infected or not.\" We call that the empty model (so $\\beta_1=0$). This is what we simulated when we did all these shuffles.\n\nBut our real sample is an unlikely $b_1$ from the empty model of the DGP.\n\n(Fill in the $\\beta_1$ and $b_1$ values on the diagram and move the distributions around accordingly.)"
    },
    {
      "cell_type": "markdown",
      "metadata": {
        "cell_id": "8c5cf34cad124ac9b5bb4093521aeeb5",
        "deepnote_cell_height": 52.359375,
        "deepnote_cell_type": "markdown",
        "tags": []
      },
      "source": "6.2 - So what do you think about the empty model as a possible model of the DGP?"
    },
    {
      "cell_type": "markdown",
      "metadata": {
        "cell_id": "edc86338cc7f48f6ba1c0cf5afc8dcd5",
        "deepnote_cell_height": 52.359375,
        "deepnote_cell_type": "markdown",
        "tags": []
      },
      "source": "6.3 - Going back to the researchers, what does this mean for their hypothesis? "
    }
  ],
  "metadata": {
    "deepnote_notebook_id": "8a233832a7224c879ef3b5289aefd4c5",
    "kernelspec": {
      "display_name": "R",
      "language": "R",
      "name": "ir"
    },
    "language_info": {
      "codemirror_mode": "r",
      "file_extension": ".r",
      "mimetype": "text/x-r-source",
      "name": "R",
      "pygments_lexer": "r",
      "version": "4.3.3"
    },
    "nbsimplegrader": {
      "publish_config": {
        "classes": [],
        "options": [],
        "tools": []
      }
    }
  },
  "nbformat": 4,
  "nbformat_minor": 1
}