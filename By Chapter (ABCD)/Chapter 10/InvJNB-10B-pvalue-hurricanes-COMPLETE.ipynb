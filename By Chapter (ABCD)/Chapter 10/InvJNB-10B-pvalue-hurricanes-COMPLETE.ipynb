{
  "cells": [
    {
      "cell_type": "markdown",
      "metadata": {
        "cell_id": "41b0a7db31984c04baf9743c03dd7205",
        "deepnote_cell_type": "markdown"
      },
      "source": "<div class=\"alert alert-block alert-danger\">\n\n## 10B: Hurricanes and Veeries (COMPLETE)\n\n**Use with textbook version 6.0+**\n\n**Lesson assumes students have read up through page: 10.7**\n    \n</div>"
    },
    {
      "cell_type": "markdown",
      "metadata": {
        "cell_id": "80c8921ac13a41e49158487285ab716d",
        "deepnote_cell_height": 163.9375,
        "deepnote_cell_type": "markdown",
        "tags": []
      },
      "source": "<div class=\"alert alert-block alert-success\">\n\n## Approximate time to complete Notebook: 45-55 Mins\n    \n</div>"
    },
    {
      "cell_type": "code",
      "execution_count": null,
      "metadata": {
        "cell_id": "a8ef95b1058b4843acaf1e7765d83e53",
        "deepnote_cell_height": 258.90625,
        "deepnote_cell_type": "code",
        "deepnote_to_be_reexecuted": false,
        "execution_millis": 4736,
        "execution_start": 1667513019403,
        "output_cleared": false,
        "source_hash": "2dd1f6cb",
        "trusted": true
      },
      "outputs": [],
      "source": "# This code will load the R packages we will use\nsuppressPackageStartupMessages({\n    library(coursekata)\n})\n\nVeery <- read.csv(\"https://docs.google.com/spreadsheets/d/e/2PACX-1vQy-n34dB-oaBStfl8fRT-RXbeVOLtB3TldjOPpXDxCjqdAkhBDrIfJED6lLgrTIpRcIOxk4Xm204qU/pub?gid=1856214631&single=true&output=csv\", header=TRUE)\n"
    },
    {
      "cell_type": "markdown",
      "metadata": {
        "cell_id": "f4787245c66747d081ff7442b643567a",
        "deepnote_cell_height": 115.9375,
        "deepnote_cell_type": "markdown",
        "tags": []
      },
      "source": "<div class=\"alert alert-block alert-success\">\n\n### 1.0 - Approximate Time: 5-8 mins\n    \n</div>"
    },
    {
      "cell_type": "markdown",
      "metadata": {
        "cell_id": "f8d5eb15bb29498db629e5cddaa861d4",
        "deepnote_cell_height": 69.96875,
        "deepnote_cell_type": "markdown"
      },
      "source": "## 1.0 - The Research Question & Data"
    },
    {
      "cell_type": "markdown",
      "metadata": {
        "cell_id": "5fbfd601bfaa4652813717597e3c7ac7",
        "deepnote_cell_height": 587.015625,
        "deepnote_cell_type": "markdown"
      },
      "source": "Hurricanes are one of the costliest and most deadly natural weather disasters. It would be helpful to predict which hurricanes are going to be stronger and more destructive.\n\n<img src=\"https://coursekata-course-assets.s3.us-west-1.amazonaws.com/UCLATALL/czi-stats-course/jnb_Qs0Hd4Bf-image.png\" width=500 align=\"left\" style=\"float: left; padding: 10px;\" alt=\"veery and map of veery migration\">Not only are humans affected by hurricanes, so are animal species. For example, the veery (a  songbird) breed and nest in North America in the **spring** but migrate to South America for the **winter**. \n\nComplicating their lives, 93% of all major hurricanes in the Atlantic basin are formed during peak southbound songbird migration (August through October).\n\nResearcher Christopher M. Heckscher was interested in whether animal behavior might help us predict hurricane strength. He gathered data from 1998-2016 on the Veery population in Delaware, USA, as well as the annual hurricane strength\n([Heckscher's article](https://www.nature.com/articles/s41598-018-28302-3#Sec5)).\n"
    },
    {
      "cell_type": "markdown",
      "metadata": {
        "cell_id": "976e5bccbbad4c4386a137c43ca2bba3",
        "deepnote_cell_height": 390.046875,
        "deepnote_cell_type": "markdown"
      },
      "source": "\nWe will explore a data frame called `Veery`. \n\nThese are the variables in this data frame:\n\n- `ACE` Accumulated Cyclone Energy (hurricane strength) for the Atlantic region for that year\n- `Year` The year the data were collected (*Note: there are no data for the year 2008)\n- `Mean_CID` The mean clutch initiation date (all in the month of May) that year\n- `Min_CID` The minimum clutch initiation date (all in May)\n- `Max_CID` The maximum clutch initiation date (dates in May or June; June dates are recorded as 31 days in May + days in June; for example June 6 is expressed as 31 + 6 = 37)\n- `SE_CID` The standard error for the clutch initiation date\n- `Mean_clutchsize` The mean clutch size\n- `Min_CS` The minimum clutch size\n- `Max_CS` The maximum clutch size\n- `SE_CS` The standard error for the clutch size"
    },
    {
      "cell_type": "markdown",
      "metadata": {
        "cell_id": "fec8f1163f284609a3029aef269ca064",
        "deepnote_cell_height": 206.328125,
        "deepnote_cell_type": "markdown"
      },
      "source": "Heckscher hypothesized that years when hurricanes are more severe, these Delaware veeries might need more time and flexibility to cross the Gulf of Mexico. He had two hypotheses:\n\nA. Large Veery clutch size (the number of eggs they laid) would predict a strong hurricane season.\n\nB. Earlier clutch initiation date (the date the birds began laying eggs in their clutch) would also predict strong hurricanes.\n\n1.1 - Write these hypotheses as word equations (using variables from the `Veery` data frame)."
    },
    {
      "cell_type": "markdown",
      "metadata": {
        "cell_id": "b071347cab8140d4acfaac4e16306dc7",
        "deepnote_cell_height": 88.75,
        "deepnote_cell_type": "markdown",
        "nbsimplegrader": {
          "config_key": "markdown.response",
          "editable": true,
          "label": "Response: Markdown",
          "respondable": true,
          "response": null,
          "runnable": true,
          "type": "markdown"
        }
      },
      "source": "A.\n\nB."
    },
    {
      "cell_type": "markdown",
      "metadata": {
        "cell_id": "fcebe1f2d5f34204ac1c700cd4c8a631",
        "deepnote_cell_height": 177.109375,
        "deepnote_cell_type": "markdown",
        "tags": []
      },
      "source": "<div class=\"alert alert-block alert-warning\">\n\n**Sample Responses**\n\nA. ACE = Mean_clutchsize + ERROR\n\nB. ACE = Mean_CID + ERROR\n\n    \n</div>"
    },
    {
      "cell_type": "markdown",
      "metadata": {
        "cell_id": "5aee1cacc35044538215c70112c8e612",
        "deepnote_cell_height": 115.9375,
        "deepnote_cell_type": "markdown",
        "tags": []
      },
      "source": "<div class=\"alert alert-block alert-success\">\n\n### 2.0 - Approximate Time: 15-18 mins\n    \n</div>"
    },
    {
      "cell_type": "markdown",
      "metadata": {
        "cell_id": "c1eb4f4bbc864efa8e0cbbcbb55379c5",
        "deepnote_cell_height": 144.75,
        "deepnote_cell_type": "markdown"
      },
      "source": "## 2.0 - Explore Variation & Model Variation\n\nOdd numbered groups, you are assigned to the clutch size hypothesis (A).\n\nEven numbered groups, you are assigned to the clutch initiation date hypothesis (B)."
    },
    {
      "cell_type": "markdown",
      "metadata": {
        "cell_id": "c41a95e1ec914e10ab81c4544e0a69c1",
        "deepnote_cell_height": 52.359375,
        "deepnote_cell_type": "markdown"
      },
      "source": "2.1 - Explore your hypothesis with a visualization."
    },
    {
      "cell_type": "code",
      "execution_count": null,
      "metadata": {
        "cell_id": "b789cd291682444d952028011e76d96c",
        "deepnote_cell_height": 1136.96875,
        "deepnote_cell_type": "code",
        "deepnote_output_heights": [
          444.015625,
          444.015625
        ],
        "deepnote_to_be_reexecuted": false,
        "execution_millis": 940,
        "execution_start": 1667513024164,
        "nbsimplegrader": {
          "config_key": "code.response",
          "editable": true,
          "label": "Response: Code",
          "respondable": true,
          "response": null,
          "runnable": true,
          "type": "code"
        },
        "output_cleared": false,
        "source_hash": "ac0ce9bd",
        "trusted": true
      },
      "outputs": [],
      "source": "# Hypothesis A - clutch size hypothesis\ngf_point(ACE ~ Mean_clutchsize, data = Veery)%>%\n    gf_lm()\n\n\n# Hypothesis B - clutch initiation date hypothesis \ngf_point(ACE ~ Mean_CID, data = Veery)%>%\n    gf_lm()"
    },
    {
      "cell_type": "markdown",
      "metadata": {
        "cell_id": "aebb15571aba4a83bddd47325027e631",
        "deepnote_cell_height": 52.359375,
        "deepnote_cell_type": "markdown"
      },
      "source": "2.2 - Model your hypothesis and write the best fitting model in GLM notation."
    },
    {
      "cell_type": "code",
      "execution_count": null,
      "metadata": {
        "cell_id": "6bef4aa5faa54b068e91c860e3d25f55",
        "deepnote_cell_height": 501.78125,
        "deepnote_cell_type": "code",
        "deepnote_output_heights": [
          135.421875,
          135.421875
        ],
        "deepnote_to_be_reexecuted": false,
        "execution_millis": 381,
        "execution_start": 1667513024723,
        "nbsimplegrader": {
          "config_key": "code.response",
          "editable": true,
          "label": "Response: Code",
          "respondable": true,
          "response": null,
          "runnable": true,
          "type": "code"
        },
        "output_cleared": false,
        "source_hash": "34d76ebf",
        "trusted": true
      },
      "outputs": [],
      "source": "# Hypothesis A - clutch size hypothesis\nclutchsize_model <- lm(ACE ~ Mean_clutchsize, data = Veery)\nclutchsize_model\n\n# Hypothesis B - clutch initiation date hypothesis \nCID_model <- lm(ACE ~ Mean_CID, data = Veery)\nCID_model"
    },
    {
      "cell_type": "markdown",
      "metadata": {
        "cell_id": "5c547c471285406c82b9464081ef25cd",
        "deepnote_cell_height": 250.3125,
        "deepnote_cell_type": "markdown",
        "tags": []
      },
      "source": "<div class=\"alert alert-block alert-warning\">\n\n**Sample Responses**\n\n**Hypothesis A - clutch size hypothesis**\n\n$ACE = -218.90 + 102.5(MeanClutchSize) + e_i$\n\n**Hypothesis B - clutch initiation date hypothesis**\n\n$ACE = 271.09 - 6.33(Mean CID) + e_i$\n\n    \n</div>"
    },
    {
      "cell_type": "markdown",
      "metadata": {
        "cell_id": "c21c76ddb10f42b38ed3be865661b301",
        "deepnote_cell_height": 52.359375,
        "deepnote_cell_type": "markdown"
      },
      "source": "2.3 - Interpret the best fitting values of the parameter estimates in this model."
    },
    {
      "cell_type": "markdown",
      "metadata": {
        "cell_id": "79df47cb82da4b38b8e923cfec8f1b09",
        "deepnote_cell_height": 95.15625,
        "deepnote_cell_type": "markdown",
        "nbsimplegrader": {
          "config_key": "markdown.response",
          "editable": true,
          "label": "Response: Markdown",
          "respondable": true,
          "response": null,
          "runnable": true,
          "type": "markdown"
        }
      },
      "source": "- $b_0$:\n- $b_1$:"
    },
    {
      "cell_type": "markdown",
      "metadata": {
        "cell_id": "6305b08511254326b893e8e146514194",
        "deepnote_cell_height": 323.90625,
        "deepnote_cell_type": "markdown",
        "tags": []
      },
      "source": "<div class=\"alert alert-block alert-warning\">\n\n**Sample Responses**\n\n**Hypothesis A - clutch size hypothesis**\n\n- $b_0$: -218.90, the mean ACE when clutch size is zero.\n- $b_1$: 102.5, the increase in ACE for every one additional egg in the average clutch size. \n\n**Hypothesis B - clutch initiation date hypothesis**\n\n- $b_0$: 271.09, the mean ACE when clutch initiation date is zero.\n- $b_1$: -6.33, the decrease in ACE for every one additional day in the average clutch initiation date. \n\n    \n</div>"
    },
    {
      "cell_type": "markdown",
      "metadata": {
        "cell_id": "1db0aae248554b569ae659454c9ebc36",
        "deepnote_cell_height": 115.9375,
        "deepnote_cell_type": "markdown",
        "tags": []
      },
      "source": "<div class=\"alert alert-block alert-success\">\n\n### 3.0 - Approximate Time: 15-18 mins\n    \n</div>"
    },
    {
      "cell_type": "markdown",
      "metadata": {
        "cell_id": "df494d64a71b45569455d8ad689d3a33",
        "deepnote_cell_height": 69.96875,
        "deepnote_cell_type": "markdown"
      },
      "source": "## 3.0 - Evaluate Models"
    },
    {
      "cell_type": "markdown",
      "metadata": {
        "cell_id": "4dedc06e29224ee2a465e4ce3d86ec24",
        "deepnote_cell_height": 97.765625,
        "deepnote_cell_type": "markdown"
      },
      "source": "3.1 - Is it likely that we could have gotten this sample $b_{1}$ or one that was more extreme if the true $\\beta_{1}$ was 0? (Assume we define likely as *.95 of the most frequent values of $b_1$ generated by a particular $\\beta_1$*.)"
    },
    {
      "cell_type": "code",
      "execution_count": null,
      "metadata": {
        "cell_id": "767ffa53a8c74b159ac652521a76d8be",
        "deepnote_cell_height": 1459.546875,
        "deepnote_cell_type": "code",
        "deepnote_output_heights": [
          58.59375,
          58.59375,
          58.59375,
          173.828125,
          444.015625
        ],
        "deepnote_to_be_reexecuted": false,
        "execution_millis": 838,
        "execution_start": 1667513024786,
        "nbsimplegrader": {
          "config_key": "code.response",
          "editable": true,
          "label": "Response: Code",
          "respondable": true,
          "response": null,
          "runnable": true,
          "type": "code"
        },
        "output_cleared": false,
        "source_hash": "cf32cff4",
        "trusted": true
      },
      "outputs": [],
      "source": "# use any code or strategy to answer this question\n\n# COMPLETE VERSION - Hypothesis A - Mean_clutchsize\n\n# Strategy 1: use shuffle() to simulate sampling dist of b1\n# use ~middle() to color the unlikely b1s, see where sample b1 falls\n\nsample_b1 <- b1(ACE ~ Mean_clutchsize, data = Veery)\nsdob1 <- do(1000) * b1(shuffle(ACE) ~ Mean_clutchsize, data = Veery)\n\ngf_histogram(~b1, data = sdob1, fill = ~middle(b1, .95), bins=100) %>%\n    gf_point(0 ~ sample_b1, color = \"black\")\n\n# Strategy 2: use shuffle() to simulate sampling dist of b1\n# calculate a randomized p-value by tallying up b1s greater than abs(sample b1) \n# and less than negative abs(sample b1) \n# Optional: add format = \"proportion\" as an argument\n\ntally(~ b1 > abs(sample_b1), data = sdob1)\ntally(~ b1 < -abs(sample_b1), data = sdob1)\n# OR\ntally(sdob1$b1 > abs(sample_b1) | sdob1$b1 < -abs(sample_b1))\n\n# Strategy 3:\n# use supernova() to look at p-value\nsupernova(clutchsize_model)"
    },
    {
      "cell_type": "code",
      "execution_count": null,
      "metadata": {
        "cell_id": "8e753782f5684d1ea88f015243af9e2d",
        "deepnote_cell_height": 1423.546875,
        "deepnote_cell_type": "code",
        "deepnote_output_heights": [
          58.59375,
          58.59375,
          58.59375,
          173.828125,
          444.015625
        ],
        "deepnote_to_be_reexecuted": false,
        "execution_millis": 865,
        "execution_start": 1667513025621,
        "output_cleared": false,
        "owner_user_id": "a530bee3-0745-4044-9a82-f3cb68c8fb6e",
        "source_hash": "61b29565",
        "tags": [],
        "trusted": true
      },
      "outputs": [],
      "source": "# COMPLETE VERSION - Hypothesis B - Mean_CID \n\n# Strategy 1: use shuffle() to simulate sampling dist of b1\n# use ~middle() to color the unlikely b1s, see where sample b1 falls\n\nsample_b1 <- b1(ACE ~ Mean_CID, data = Veery)\nsdob1 <- do(1000) * b1(shuffle(ACE) ~ Mean_CID, data = Veery)\n\ngf_histogram(~b1, data = sdob1, fill = ~middle(b1, .95), bins=100) %>%\n    gf_point(0 ~ sample_b1, color = \"black\")\n\n# Strategy 2: use shuffle() to simulate sampling dist of b1\n# calculate a randomized p-value by tallying up b1s greater than abs(sample b1) \n# and less than negative abs(sample b1) \n# Optional: add format = \"proportion\" as an argument\n\ntally(~ b1 > abs(sample_b1), data = sdob1)\ntally(~ b1 < -abs(sample_b1), data = sdob1)\n# OR\ntally(sdob1$b1 > abs(sample_b1) | sdob1$b1 < -abs(sample_b1))\n\n# Strategy 3:\n# use supernova() to look at p-value\nsupernova(CID_model)"
    },
    {
      "cell_type": "markdown",
      "metadata": {
        "cell_id": "55bd528926fb40adbe78ccb12b54f4a9",
        "deepnote_cell_height": 295.09375,
        "deepnote_cell_type": "markdown",
        "tags": []
      },
      "source": "<div class=\"alert alert-block alert-warning\">\n\n**Sample Responses**\n\n**Hypothesis A - clutch size hypothesis**\n\nThe sample $b_1$ is unlikely to have come from a DGP where $\\beta_1 = 0$. \n\n**Hypothesis B - clutch initiation date hypothesis**\n\nThe sample $b_1$ is not unlikely to have come from a DGP where $\\beta_1 = 0$. (Students will say \"it is likely\" which is a little sloppy but not unforgiveable. But it might be worth having a conversation about whether we should call a p-value of .14 \"likely\" or \"not unlikely.\")\n\n    \n</div>"
    },
    {
      "cell_type": "markdown",
      "metadata": {
        "cell_id": "f5bc5b7bb0374c688cd3bf97bac0d350",
        "deepnote_cell_height": 52.359375,
        "deepnote_cell_type": "markdown",
        "nbsimplegrader": {
          "config_key": "markdown.response",
          "editable": true,
          "label": "Response: Markdown",
          "respondable": true,
          "response": null,
          "runnable": true,
          "type": "markdown"
        }
      },
      "source": "3.2 - Explain your strategy and answer."
    },
    {
      "cell_type": "markdown",
      "metadata": {
        "cell_id": "911cf8809dd241c18f0b95876d7cff09",
        "deepnote_cell_height": 140.71875,
        "deepnote_cell_type": "markdown",
        "tags": []
      },
      "source": "<div class=\"alert alert-block alert-warning\">\n\n**Sample Response**\n\n*Students' explanations will vary.*\n\n    \n</div>"
    },
    {
      "cell_type": "markdown",
      "metadata": {
        "cell_id": "4279d853976146569b417faa8833eb02",
        "deepnote_cell_height": 74.75,
        "deepnote_cell_type": "markdown",
        "tags": []
      },
      "source": "3.3 - What are some alternate strategies that could have been used (or that other students used)? Is one strategy better than another?"
    },
    {
      "cell_type": "markdown",
      "metadata": {
        "cell_id": "82c16a0f9c184af5a35f8fb163114776",
        "deepnote_cell_height": 289.078125,
        "deepnote_cell_type": "markdown",
        "tags": []
      },
      "source": "<div class=\"alert alert-block alert-warning\">\n\n**Sample Responses**\n\n*They can be shown strategies the other students tried, or come up with alternatives on their own.*\n\nOverall, one strategy is not better than the other. It depends on your purpose. But one of the fastest ways to calculate the p-value is to generate an ANOVA table (`supernova()`). But the sampling distribution is the most efficient way to show what the p-value means. We can also put those two ideas together and *show* the p-value in the sampling distribution (see code below).\n\n    \n</div>"
    },
    {
      "cell_type": "code",
      "execution_count": null,
      "metadata": {
        "cell_id": "836af54c4b4c472690798a4d328e3b28",
        "deepnote_cell_height": 625.96875,
        "deepnote_cell_type": "code",
        "deepnote_output_heights": [
          444.015625
        ],
        "deepnote_to_be_reexecuted": false,
        "execution_millis": 1676,
        "execution_start": 1667513026487,
        "output_cleared": false,
        "source_hash": "d32c04b9",
        "tags": [],
        "trusted": true
      },
      "outputs": [],
      "source": "p_value <- .1375\nsample_b1 <- b1(ACE ~ Mean_CID, data = Veery)\nsdob1 <- do(1000) * b1(shuffle(ACE) ~ Mean_CID, data = Veery)\n\ngf_histogram(~b1, data = sdob1, fill = ~middle(b1, 1-p_value), bins=100) %>%\n    gf_point(0 ~ sample_b1, color = \"black\")"
    },
    {
      "cell_type": "markdown",
      "metadata": {
        "cell_id": "cdebe9c16fc344c098bc74ffa83c4a22",
        "deepnote_cell_height": 115.9375,
        "deepnote_cell_type": "markdown",
        "tags": []
      },
      "source": "<div class=\"alert alert-block alert-success\">\n\n### 4.0 - Approximate Time: 5-8 mins\n    \n</div>"
    },
    {
      "cell_type": "markdown",
      "metadata": {
        "cell_id": "acc6130a05e7478b8feb1e3520dff538",
        "deepnote_cell_height": 69.96875,
        "deepnote_cell_type": "markdown"
      },
      "source": "## 4.0 - Conclusions"
    },
    {
      "cell_type": "markdown",
      "metadata": {
        "cell_id": "730955f8ffbf4df2834a1bbde7e8ecf4",
        "deepnote_cell_height": 52.359375,
        "deepnote_cell_type": "markdown"
      },
      "source": "4.1 - So should we use one or both or none of these bird behaviors to predict hurricane strength?"
    },
    {
      "cell_type": "markdown",
      "metadata": {
        "cell_id": "7ff63e0dd6624320977ec2bffec7e3fd",
        "deepnote_cell_height": 163.125,
        "deepnote_cell_type": "markdown",
        "tags": []
      },
      "source": "<div class=\"alert alert-block alert-warning\">\n\n**Sample Responses**\n\nIt looks like clutch size can help us predict hurricane strength, but clutch initiation date is not really a good predictor (at least, not better than the empty model).\n    \n</div>"
    },
    {
      "cell_type": "markdown",
      "metadata": {
        "cell_id": "93e629d1cd7c46ad844d1f678504f4e4",
        "deepnote_cell_height": 99.34375,
        "deepnote_cell_type": "markdown"
      },
      "source": "4.2 - Does this bird behavior CAUSE hurricanes to be stronger? What is going on?"
    },
    {
      "cell_type": "markdown",
      "metadata": {
        "cell_id": "4dbdc5b870bc44ceba3108a7b5db04f9",
        "deepnote_cell_height": 266.6875,
        "deepnote_cell_type": "markdown",
        "tags": []
      },
      "source": "<div class=\"alert alert-block alert-warning\">\n\n**Sample Responses**\n\nNo, we cannot say they are *causing* the hurricane strength to change. These are correlational observations, and not part of a controlled experiment.\n\nThere may be many reasons why their behavior correlates with hurricane strength. For instance, perhaps there is some other environmental factor during their breeding season that is also associated with a strong hurricane season, that the birds are sensitive to, and they respond accordingly.\n    \n</div>"
    }
  ],
  "metadata": {
    "deepnote_notebook_id": "37030da126dd4019820d3a607410f333",
    "kernelspec": {
      "display_name": "R",
      "language": "R",
      "name": "ir"
    },
    "language_info": {
      "codemirror_mode": "r",
      "file_extension": ".r",
      "mimetype": "text/x-r-source",
      "name": "R",
      "pygments_lexer": "r",
      "version": "4.3.3"
    },
    "nbsimplegrader": {
      "publish_config": {
        "classes": [],
        "options": [],
        "tools": []
      }
    }
  },
  "nbformat": 4,
  "nbformat_minor": 1
}