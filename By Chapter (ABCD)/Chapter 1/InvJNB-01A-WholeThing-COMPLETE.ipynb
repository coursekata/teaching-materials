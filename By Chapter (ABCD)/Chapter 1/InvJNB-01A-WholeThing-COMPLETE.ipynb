{
  "cells": [
    {
      "cell_type": "markdown",
      "metadata": {
        "cell_id": "05ccd7f41d2c451fafbdbd2fe54b1d20",
        "deepnote_cell_height": 224.3125,
        "deepnote_cell_type": "markdown"
      },
      "source": "<div class=\"alert alert-block alert-danger\">\n\n# 1A: Westvaco - The Whole Thing (COMPLETE)\n\n**Lesson assumes students have read up through page: 1.6**\n\n**Use with textbook version 6.0+**\n\n</div>"
    },
    {
      "cell_type": "markdown",
      "metadata": {
        "cell_id": "1501290a2e9e42a7a50d0cc0adae22fc",
        "deepnote_cell_height": 620.390625,
        "deepnote_cell_type": "markdown"
      },
      "source": "<div class=\"alert alert-block alert-warning\">\n\n#### Summary of Notebook:\n\nA man named Robert Martin was fired from his job at Westvaco, Inc. at age 55. He sued the company for age discrimination. Students will examine the data of those who were fired and not fired, and try to rule out whether the firings were due to random chance or possibly discrimination by simulating repeated samples of random \"firings\" and compiling the average age of each sample. They then examine the resulting distribution to determine the probability of randomly firing that same number of people and getting the same average age or greater. The probability typically turns out to be quite low, but then students must grapple with the question: How low is \"low enough\"?\n\n#### Includes:\n\n- A broad overview of how all the major concepts of the course fit together\n- Practice representing hypotheses as word equations (DATA = MODEL + ERROR)\n- Thinking about randomness as a DGP--and one that we can simulate\n- Practice creating and manipulating R objects, and using simple functions such as `mean()`, `sum()`, `do()*`, `sample()`, `gf_histogram()`, and `tally()`\n- Introduction to the **Distribution Triad**\n    - **The DGP** (for which we have two hypotheses: Discrimination or Random Chance)\n    - **The Sample Distribution** (for which, we have our 1 empirical sample--the people who were actually fired), and\n    - **The Sampling Distribution** (which we generate by simulating lots of random samples and plotting their means)\n\n</div>"
    },
    {
      "cell_type": "markdown",
      "metadata": {
        "cell_id": "f9bfd39325684ce39fd24b067869198b",
        "deepnote_cell_height": 163.9375,
        "deepnote_cell_type": "markdown",
        "tags": []
      },
      "source": "<div class=\"alert alert-block alert-success\">\n\n## Approximate time to complete Notebook: 45-60 Mins\n\n</div>"
    },
    {
      "cell_type": "markdown",
      "metadata": {
        "cell_id": "c9ab91920eb54122a563a0551388067a",
        "deepnote_cell_height": 115.9375,
        "deepnote_cell_type": "markdown",
        "owner_user_id": "23d85493-7ed1-49a4-baa7-630eaab08193",
        "tags": []
      },
      "source": "<div class=\"alert alert-block alert-success\">\n\n### Intro - Approximate Time: 3-5 mins\n\n</div>"
    },
    {
      "cell_type": "markdown",
      "metadata": {
        "cell_id": "2ef4db3f41434d56b11194223a325746",
        "deepnote_cell_height": 192.328125,
        "deepnote_cell_type": "markdown",
        "tags": []
      },
      "source": "At the beginning of each Jupyter notebook, we must load the packages that we are going to use within the notebook. We usually copy/paste this code from one of our other jupyter notebooks! \n\nAlways run this first or a lot of our other code won't work.\n\nWhen you run it, you will not see any output, but you will see the `In[]:` (on the left) change to include a number (such as `In[1]:`) to indicate that it ran properly. If you see an asterisk in it, like this `In[*]:`, it means it is still running. \n"
    },
    {
      "cell_type": "code",
      "execution_count": null,
      "metadata": {
        "cell_id": "33f170a979a14031b877d8dface0aa06",
        "deepnote_cell_height": 114.953125,
        "deepnote_cell_type": "code",
        "trusted": true
      },
      "outputs": [],
      "source": "# This code will load the R packages we will use\nsuppressPackageStartupMessages({\n    library(coursekata)\n})"
    },
    {
      "cell_type": "markdown",
      "metadata": {
        "cell_id": "dd8607748965481d8d0ebf201e4a983e",
        "deepnote_cell_height": 203.921875,
        "deepnote_cell_type": "markdown",
        "tags": []
      },
      "source": "### This is a Weird Lesson\n\nToday we'll take a tour through *all the important concepts we will cover in this class*. So it's a weird lesson. You aren't expected to understand everything we talk about today. But we want you to see how it will all fit together. \n\nWe figure if you have a sense of the whole story of statistics and how it gets used, then when we learn all the little details, you'll have a better sense of why they are important."
    },
    {
      "cell_type": "markdown",
      "metadata": {
        "cell_id": "cf8a6a24bc7c4943a5a2be50c61501b7",
        "deepnote_cell_height": 189.921875,
        "deepnote_cell_type": "markdown"
      },
      "source": "### The Case of Martin vs. Westvaco\n\nBack in 1994, Robert Martin was laid off from his job at Westvaco, Inc., (an envelope company) soon after he turned 55 years old. Martin believed that he was fired because of his age and sued Westvaco for age discrimination. A major piece of Martin’s case was based on a statistical analysis of the ages of the Westvaco employees. We will be taking a look at small sample of the data that was part of this court case.\n\n\n"
    },
    {
      "cell_type": "markdown",
      "metadata": {
        "cell_id": "ecc804ed18dc4980a9af6d8ca9a5f744",
        "deepnote_cell_height": 115.9375,
        "deepnote_cell_type": "markdown",
        "tags": []
      },
      "source": "<div class=\"alert alert-block alert-success\">\n\n### 1.0 - Approximate Time: 8-10 mins\n\n</div>"
    },
    {
      "cell_type": "markdown",
      "metadata": {
        "cell_id": "e4295338518041739b45803690891671",
        "deepnote_cell_height": 69.96875,
        "deepnote_cell_type": "markdown"
      },
      "source": "## 1.0 - The Data"
    },
    {
      "cell_type": "markdown",
      "metadata": {
        "cell_id": "c78ffc3dbccc43b5bc7740e4e8d3fbba",
        "deepnote_cell_height": 150.53125,
        "deepnote_cell_type": "markdown"
      },
      "source": "This is data from one of Westvaco's departments. There were three employees that were fired from this department.\n- Ages of all the employees in this department: 25, 33, 35, 38, 48, 55, 55, 55, 56, 64\n- Ages of the three who were fired: 55, 55, 64"
    },
    {
      "cell_type": "markdown",
      "metadata": {
        "cell_id": "3548217d7c204ee7996f2588bccc09d6",
        "deepnote_cell_height": 52.359375,
        "deepnote_cell_type": "markdown"
      },
      "source": "1.1 - What *in the data* supports Martin's claim of age discrimination?"
    },
    {
      "cell_type": "markdown",
      "metadata": {
        "cell_id": "d787260361544904a6b498dd189a18de",
        "deepnote_cell_height": 191.5,
        "deepnote_cell_type": "markdown",
        "tags": []
      },
      "source": "<div class=\"alert alert-block alert-warning\">\n\n**Sample Responses**\n- All 3 people who were fired were older.\n- Oldest person got fired. \n- No “young” people were fired.\n\n</div>"
    },
    {
      "cell_type": "markdown",
      "metadata": {
        "cell_id": "8d44212044ce4009a8cd6cc2ba7457fb",
        "deepnote_cell_height": 52.359375,
        "deepnote_cell_type": "markdown"
      },
      "source": "1.2 - What *in the data* supports the company's claim that it was NOT age discrimination?\n"
    },
    {
      "cell_type": "markdown",
      "metadata": {
        "cell_id": "05245c1ccbf04e93bcb17374ef91da8c",
        "deepnote_cell_height": 166.109375,
        "deepnote_cell_type": "markdown",
        "tags": []
      },
      "source": "<div class=\"alert alert-block alert-warning\">\n\n**Sample Responses**\n- Half of the department was 55 or older.\n- Westvaco kept a 55 and 56-year-old, so not all people 55 and older were laid off\n\n</div>"
    },
    {
      "cell_type": "markdown",
      "metadata": {
        "cell_id": "d8fcce566d4e4fc1971e12a8902fc2db",
        "deepnote_cell_height": 74.75,
        "deepnote_cell_type": "markdown",
        "tags": []
      },
      "source": "1.3 - We've put in the ages of all the employees into an object called `everyone`. Write some code to save the ages of the three *fired* employees into an object called `fired`. "
    },
    {
      "cell_type": "code",
      "execution_count": null,
      "metadata": {
        "cell_id": "0e4144e179e143fe9844ef98a254ef81",
        "deepnote_cell_height": 168.953125,
        "deepnote_cell_type": "code",
        "trusted": true
      },
      "outputs": [],
      "source": "everyone <- c(25, 33, 35, 38, 48, 55, 55, 55, 56, 64)\n\n# Sample Response\nfired <- c(55, 55, 64)\n\n# If you write this code correctly, will it print anything out?\n## Nothing will print unless we type the name of the object"
    },
    {
      "cell_type": "markdown",
      "metadata": {
        "cell_id": "05d097a4679e4b4382f2710986feebc2",
        "deepnote_cell_height": 74.75,
        "deepnote_cell_type": "markdown"
      },
      "source": "1.4 There is a function called `mean()`. We have written code to calculate the mean age for everyone. Write some code to calculate the mean age of the three people who were fired.\n"
    },
    {
      "cell_type": "code",
      "execution_count": null,
      "metadata": {
        "cell_id": "de7bea990ae74d4a8f8353b9a36b0e49",
        "deepnote_cell_height": 114.953125,
        "deepnote_cell_type": "code",
        "output_cleared": true,
        "tags": [],
        "trusted": true
      },
      "outputs": [],
      "source": "mean(everyone)\n\n# Sample Response\nmean(fired)"
    },
    {
      "cell_type": "markdown",
      "metadata": {
        "cell_id": "53aeb969ca8049c2bdc03b8272835693",
        "deepnote_cell_height": 74.75,
        "deepnote_cell_type": "markdown"
      },
      "source": "1.5 - Take a moment to practice putting *meaning* onto this number. For example, what does the 58 stand for? Does this help Martin's side of the argument or Westvaco's?"
    },
    {
      "cell_type": "markdown",
      "metadata": {
        "cell_id": "0f09cbef8b1c426d98b3123eacd175b9",
        "deepnote_cell_height": 191.5,
        "deepnote_cell_type": "markdown",
        "tags": []
      },
      "source": "<div class=\"alert alert-block alert-warning\">\n\n**Sample Responses**\n\n- Summary of three people who got fired.\n- The \"middle\" or average number. \n- It is higher than the mean for everyone in the department so it may help Martin.\n\n</div>"
    },
    {
      "cell_type": "markdown",
      "metadata": {
        "cell_id": "5af984c52e5b4ac9ae88a56ebf74edd1",
        "deepnote_cell_height": 115.9375,
        "deepnote_cell_type": "markdown",
        "tags": []
      },
      "source": "<div class=\"alert alert-block alert-success\">\n\n### 2.0 - Approximate Time: 5-8 mins\n\n</div>"
    },
    {
      "cell_type": "markdown",
      "metadata": {
        "cell_id": "8eb2c3e210d3416ab7d0dbf0527fab23",
        "deepnote_cell_height": 69.96875,
        "deepnote_cell_type": "markdown"
      },
      "source": "## 2.0 - The Data Generating Process (DGP)"
    },
    {
      "cell_type": "markdown",
      "metadata": {
        "cell_id": "478770aab2a6426881b860bd6134a93d",
        "deepnote_cell_height": 74.75,
        "deepnote_cell_type": "markdown"
      },
      "source": "We know that the people who were fired were older on average than the rest. But what we really want to know is *how* were these people fired? **What was the Data Generating Process (DGP)?**"
    },
    {
      "cell_type": "markdown",
      "metadata": {
        "cell_id": "019682fd084f44ef91a31a6dff3b0a73",
        "deepnote_cell_height": 74.75,
        "deepnote_cell_type": "markdown"
      },
      "source": "2.1 - Age might have played a role. But maybe it didn't. Is it possible to have a completely fair process (e.g., randomly firing 3 people) and end up firing a group with an average age of 58? \n"
    },
    {
      "cell_type": "markdown",
      "metadata": {
        "cell_id": "1769729373694965aec1f7995e8783f7",
        "deepnote_cell_height": 140.71875,
        "deepnote_cell_type": "markdown",
        "tags": []
      },
      "source": "<div class=\"alert alert-block alert-warning\">\n\n**Sample Response**\n- Yes, it is possible. \n\n</div>"
    },
    {
      "cell_type": "markdown",
      "metadata": {
        "cell_id": "82eb3e6292744e51b83cda845a36a20b",
        "deepnote_cell_height": 505.859375,
        "deepnote_cell_type": "markdown",
        "tags": []
      },
      "source": "Without knowing exactly what happened in the brains of those who fired the three employees, the DGP is unknown. This one example is not enough to figure out the DGP because the *same* DGP can generate different samples! But we can come up with little theories (or models) of the DGP.\n\n2.2 - Here are some possible DGPs written as word equations:\n\n1. *FIRED = AGE + OTHER STUFF* (what is the other stuff?)\n> Martin thought that the decision to fire someone had something to do with age. But maybe some other stuff was involved too. \n\n2. *FIRED = TARDINESS + OTHER STUFF*  \n> Some people might think that the firing had a little bit to do with whether people were late to work.\n\n3. *Come up with another idea as a word equation*\n> **Sample Response**: FIRED = MISTAKES + OTHER STUFF; People who were fired made a lot of mistakes on the job.\n\n4. *How would you write Westvaco's claim that \"age had nothing to do with it\" as a word equation*\n> **Sample Response**: FIRED = OTHER STUFF"
    },
    {
      "cell_type": "markdown",
      "metadata": {
        "cell_id": "cff7d2276e624650bfbc7be292f03432",
        "deepnote_cell_height": 485.046875,
        "deepnote_cell_type": "markdown",
        "tags": []
      },
      "source": "<div class=\"alert alert-block alert-warning\">\n\n**Note to Instructors**\n\nStudents often have a hard time coming up with word equations on their own without a few more examples first.\n\nFor example:\n\nFIRED = ABSENCES + OTHER STUFF \n\n*People who were fired had a lot of unexcused absences.*\n\nOR\n\nFIRED = DAMAGE + OTHER STUFF\n\n*People were fired because they damaged company property.*\n\n**NOTE**: Students may also need additional clarification on the OTHER STUFF term. The OTHER STUFF includes all of the other reasons people were fired that are not captured by that one variable, such as: overall job performance, seniority, tardiness, absences, possible discrimination, etcetera, and other unexplained randomness. \n\n</div>"
    },
    {
      "cell_type": "markdown",
      "metadata": {
        "cell_id": "e6a70f11cfea479398dbc1d412e86c1c",
        "deepnote_cell_height": 115.9375,
        "deepnote_cell_type": "markdown",
        "tags": []
      },
      "source": "<div class=\"alert alert-block alert-success\">\n\n### 3.0 - Approximate Time: 10-15 mins\n\n</div>"
    },
    {
      "cell_type": "markdown",
      "metadata": {
        "cell_id": "d650546950cf4709b50e9b17033d3e19",
        "deepnote_cell_height": 69.96875,
        "deepnote_cell_type": "markdown"
      },
      "source": "## 3.0 - A Special DGP: Randomness \n"
    },
    {
      "cell_type": "markdown",
      "metadata": {
        "cell_id": "10cdc0180324445988891ff2253a7fa0",
        "deepnote_cell_height": 133.53125,
        "deepnote_cell_type": "markdown"
      },
      "source": "Although firing people randomly would be a terrible way to run a business, it is fair. Also, it's one that we can easily simulate. \n\n3.1 - If you pick three of the ten ages **25, 33, 35, 38, 48, 55, 55, 55, 56, 64** at random, do you think you are likely to get an average age of 58 or greater? Why or why not?\n"
    },
    {
      "cell_type": "markdown",
      "metadata": {
        "cell_id": "91f8a1d9719c4bb88f52f1621147c82d",
        "deepnote_cell_height": 163.125,
        "deepnote_cell_type": "markdown",
        "tags": []
      },
      "source": "<div class=\"alert alert-block alert-warning\">\n\n**Sample Response**\n\nIt may not seem very likely because you would have to select ages that are 55 or greater and you would HAVE to pick 64 to get a mean of 58 or greater.\n\n</div>"
    },
    {
      "cell_type": "markdown",
      "metadata": {
        "cell_id": "6a3b279615b544e69093d0df3b5f98fa",
        "deepnote_cell_height": 217.71875,
        "deepnote_cell_type": "markdown"
      },
      "source": "Let's try it! Let’s simulate the process of randomly selecting three people to be fired.\n- Write down each of the ten ages of the people in the department on separate little (roughly equal size) pieces of scrap paper.\n- Mix up the pieces of paper, and, without looking, randomly select three “people” to be fired and calculate the mean of those three ages.\n\n3.2 - Did anyone get a kind of old-ish group? If we do get an oldish group, is it because one of us discriminated based on age? \n"
    },
    {
      "cell_type": "markdown",
      "metadata": {
        "cell_id": "ed51f38eb67a492faf82cbd94ff9b08f",
        "deepnote_cell_height": 185.515625,
        "deepnote_cell_type": "markdown",
        "tags": []
      },
      "source": "<div class=\"alert alert-block alert-warning\">\n\n**Sample Response**\n\n*About 1 in 20 students should get a group that is 58 years or older on average.* \nIt could not be age discrimination because we were picking people randomly (we didn't care about their age).\n\n</div>"
    },
    {
      "cell_type": "markdown",
      "metadata": {
        "cell_id": "640211560cdd4634b1824e9d68d9578f",
        "deepnote_cell_height": 74.75,
        "deepnote_cell_type": "markdown",
        "tags": []
      },
      "source": "3.3 - With R, we won't need to tear up pieces of paper. We can choose three ages randomly with a click of a button! "
    },
    {
      "cell_type": "code",
      "execution_count": null,
      "metadata": {
        "cell_id": "22694c49ef954cc3aac48a56ac6947e9",
        "deepnote_cell_height": 271.3125,
        "deepnote_cell_type": "code",
        "deepnote_output_heights": [
          20.1875,
          20.1875
        ],
        "output_cleared": false,
        "scrolled": true,
        "trusted": true
      },
      "outputs": [],
      "source": "# This code randomly fires 1 person. \nsample(everyone, 1)\n\n# Modify it to fire 3 people randomly.\n# Sample Response\nsample(everyone, 3)\n"
    },
    {
      "cell_type": "markdown",
      "metadata": {
        "cell_id": "462ee6b6f06e4b19813f9cc69a38c873",
        "deepnote_cell_height": 74.75,
        "deepnote_cell_type": "markdown",
        "tags": []
      },
      "source": "3.4 - The code below saves a random group of three people into an object called `fired_randomly`. Write some code to calculate the mean age of the three people fired randomly."
    },
    {
      "cell_type": "code",
      "execution_count": null,
      "metadata": {
        "cell_id": "30ba1390f255433fa012b697160c118f",
        "deepnote_cell_height": 204.953125,
        "deepnote_cell_type": "code",
        "output_cleared": true,
        "tags": [],
        "trusted": true
      },
      "outputs": [],
      "source": "fired_randomly <- sample(everyone, 3)\n\n# Sample Response 1\nmean(fired_randomly)\n\n# Sample Response 2\nsum(fired_randomly)/3\n# Add the ages and divide by 3\n"
    },
    {
      "cell_type": "markdown",
      "metadata": {
        "cell_id": "47c9a6be9711451894b4a5edcc748cd4",
        "deepnote_cell_height": 74.75,
        "deepnote_cell_type": "markdown"
      },
      "source": "3.3 - What was the mean age? Did anyone in your class end up firing three people with an average age of 58 or older? Was it because R practiced age discrimination?\n"
    },
    {
      "cell_type": "markdown",
      "metadata": {
        "cell_id": "ee6e6f00069940c8be9aca827572456c",
        "deepnote_cell_height": 140.71875,
        "deepnote_cell_type": "markdown",
        "tags": []
      },
      "source": "<div class=\"alert alert-block alert-warning\">\n\n**Sample Response**\n\nR was not practicing age discrimination because it was just randomly selecting 3 numbers.\n\n</div>"
    },
    {
      "cell_type": "markdown",
      "metadata": {
        "cell_id": "7d9bfb0d57924c6c87c77e7443c57a99",
        "deepnote_cell_height": 97.140625,
        "deepnote_cell_type": "markdown"
      },
      "source": "3.4 - What would happen if you run the code again? Try it a few times. Do you always get the same mean age from firing randomly? How often do we get an average age of 58 or greater from firing randomly?\n"
    },
    {
      "cell_type": "markdown",
      "metadata": {
        "cell_id": "0bee4329bdd74333a0fc730571dd09db",
        "deepnote_cell_height": 185.515625,
        "deepnote_cell_type": "markdown",
        "tags": []
      },
      "source": "<div class=\"alert alert-block alert-warning\">\n\n**Sample Response**\n\nThe code keeps picking different random samples and calculating the mean. We do not always get the same mean. An average age of 58 or greater does not seem to come up frequently.\n\n</div>"
    },
    {
      "cell_type": "markdown",
      "metadata": {
        "cell_id": "f081cc7596fb4edd9d8ffcde16c3b1f4",
        "deepnote_cell_height": 74.75,
        "deepnote_cell_type": "markdown"
      },
      "source": "3.5 - If the probability of getting an average age of 58 or greater turns out to be *small*, does this favor Martin or Westvaco? Why or why not?"
    },
    {
      "cell_type": "markdown",
      "metadata": {
        "cell_id": "51db4eed36be41758b38e450e476d57c",
        "deepnote_cell_height": 163.125,
        "deepnote_cell_type": "markdown",
        "tags": []
      },
      "source": "<div class=\"alert alert-block alert-warning\">\n\n**Sample Response**\n\nIt favors Martin because it seems unlikely to randomly fire 3 people and get an average age of 58 or greater.\n\n</div>"
    },
    {
      "cell_type": "markdown",
      "metadata": {
        "cell_id": "9fde230ab81e4eaaacc9992720fb95c7",
        "deepnote_cell_height": 115.9375,
        "deepnote_cell_type": "markdown",
        "tags": []
      },
      "source": "<div class=\"alert alert-block alert-success\">\n\n### 4.0 - Approximate Time: 10-15 mins\n\n</div>"
    },
    {
      "cell_type": "markdown",
      "metadata": {
        "cell_id": "e64b076554564a2485ff7049fbffd6e6",
        "deepnote_cell_height": 109.96875,
        "deepnote_cell_type": "markdown"
      },
      "source": "## 4.0 - All the Possibilities: A Sampling Distribution"
    },
    {
      "cell_type": "markdown",
      "metadata": {
        "cell_id": "ce424683949840a5a9f6301fc18885c5",
        "deepnote_cell_height": 276.5,
        "deepnote_cell_type": "markdown"
      },
      "source": "Now we can return to our two possible models of the DGP:\n\n1. *FIRED = AGE + OTHER STUFF*\n2. *FIRED = OTHER STUFF*\n\nWe have learned how to simulate firing people in a way that has *nothing to do with age*. A model of randomness is just all \"other stuff\". \n\nEven though it is hard to write down or even imagine all the possible ways that 10 people could get randomly fired, with R we can simulate doing this many, *many* times. Then we can see **how likely our actual data (e.g., a mean age of 58) would be to occur IF the second (completely random) model were true.**\n"
    },
    {
      "cell_type": "code",
      "execution_count": null,
      "metadata": {
        "cell_id": "bb20e2b261074d15919e1ce65d40d88e",
        "deepnote_cell_height": 132.96875,
        "deepnote_cell_type": "code",
        "output_cleared": true,
        "trusted": true
      },
      "outputs": [],
      "source": "# Run the code below. How come only one number gets printed? \n# What is being stored into fired_rand?\n\nfired_rand <- mean(sample(everyone, 3))\nfired_rand"
    },
    {
      "cell_type": "markdown",
      "metadata": {
        "cell_id": "168ad14a00334f9d8fa9315d9bdc454d",
        "deepnote_cell_height": 163.125,
        "deepnote_cell_type": "markdown",
        "tags": []
      },
      "source": "<div class=\"alert alert-block alert-warning\">\n\n**Sample Response**\n\nIt is only printing one number because the code is calculating the mean of the three randomly sampled ages. It is storing the mean of the sample into `fired_rand`.\n\n</div>"
    },
    {
      "cell_type": "markdown",
      "metadata": {
        "cell_id": "9016821de93243eca4cc683dbb1f2f13",
        "deepnote_cell_height": 74.75,
        "deepnote_cell_type": "markdown"
      },
      "source": "4.1 Let's see what happens if you put `do(3) *` before the code `mean()` in the previous cell. What do you think this did? "
    },
    {
      "cell_type": "code",
      "execution_count": null,
      "metadata": {
        "cell_id": "5bdbbb6bdafe4a59b20b3ee5034f32fb",
        "deepnote_cell_height": 168.953125,
        "deepnote_cell_type": "code",
        "output_cleared": true,
        "trusted": true
      },
      "outputs": [],
      "source": "# original code provided to students\nfired_rand <- do(3) * mean(sample(everyone, 3))\nfired_rand\n\n# modification they are prompted to do in 4.4\nfired_rand <- do(1000) * mean(sample(everyone, 3))\nfired_rand"
    },
    {
      "cell_type": "markdown",
      "metadata": {
        "cell_id": "ccb6459a83c1446abe02a8dc153db624",
        "deepnote_cell_height": 140.71875,
        "deepnote_cell_type": "markdown",
        "tags": []
      },
      "source": "<div class=\"alert alert-block alert-warning\">\n\n**Sample Response**\n\nThe `do(3)*` function is doing something 3 times.\n\n</div>"
    },
    {
      "cell_type": "markdown",
      "metadata": {
        "cell_id": "0ef4c2e916fe4fa0a1de361fc886b40d",
        "deepnote_cell_height": 52.359375,
        "deepnote_cell_type": "markdown"
      },
      "source": "4.3 - What does each row in this data frame represent?"
    },
    {
      "cell_type": "markdown",
      "metadata": {
        "cell_id": "25789b92932845e1a1b2ed0f03c3d517",
        "deepnote_cell_height": 140.71875,
        "deepnote_cell_type": "markdown",
        "tags": []
      },
      "source": "<div class=\"alert alert-block alert-warning\">\n\n**Sample Response**\n\nEach row represents a mean from 3 randomly sampled ages.\n\n</div>"
    },
    {
      "cell_type": "markdown",
      "metadata": {
        "cell_id": "37c023037b274196803d96953e94ba8a",
        "deepnote_cell_height": 74.75,
        "deepnote_cell_type": "markdown",
        "tags": []
      },
      "source": "4.4 - Try modifying the code above to do this 1000 times! Did it work? Is that a lot faster than shuffling pieces of paper a thousand times?"
    },
    {
      "cell_type": "markdown",
      "metadata": {
        "cell_id": "03ad557fbcef4133bc3055757f55465b",
        "deepnote_cell_height": 167.53125,
        "deepnote_cell_type": "markdown"
      },
      "source": "### Graphing a sampling distribution\n\n4.5 - Notice that it's hard to look through 1000 numbers. That's why we will teach you methods of graphing throughout this class. Run the code below. Which part of this visualization represents times when \"oldish\" groups of people were fired? Which parts represent times when \"youngish\" groups of people were fired?"
    },
    {
      "cell_type": "code",
      "execution_count": null,
      "metadata": {
        "cell_id": "db94fca1b9234710bea35529b660a341",
        "deepnote_cell_height": 101.953125,
        "deepnote_cell_type": "code",
        "output_cleared": true,
        "trusted": true
      },
      "outputs": [],
      "source": "# Run this code. This will make a visualization of the 1,000 mean ages of those fired from our last simulation. This is our sampling distribution.\ngf_histogram(~ mean, data=fired_rand, binwidth = 1, color = \"skyblue\")\n"
    },
    {
      "cell_type": "markdown",
      "metadata": {
        "cell_id": "9293e0d4c9734747a8acc753991d69af",
        "deepnote_cell_height": 163.125,
        "deepnote_cell_type": "markdown",
        "tags": []
      },
      "source": "<div class=\"alert alert-block alert-warning\">\n\n**Sample Response**\n\nThe bars on the right side (high end of the x-axis) are of oldish groups, and the bars on the left side (low end of the x-axis) are of youngish groups.\n\n</div>"
    },
    {
      "cell_type": "markdown",
      "metadata": {
        "cell_id": "690497af8fb84523b8d8a1d85cb3a279",
        "deepnote_cell_height": 97.140625,
        "deepnote_cell_type": "markdown",
        "tags": []
      },
      "source": "4.6 - The code below will shade in the random samples that had average ages of 58 or higher. Is that a lot of the random samples? A little? Is the likelihood of generating a sample that old high? Medium? Low?"
    },
    {
      "cell_type": "code",
      "execution_count": null,
      "metadata": {
        "cell_id": "cc26c9828fe14ae7845cefd180e46e86",
        "deepnote_cell_height": 83.953125,
        "deepnote_cell_type": "code",
        "output_cleared": true,
        "trusted": true
      },
      "outputs": [],
      "source": "gf_histogram(~ mean, data=fired_rand, binwidth = 1, color = \"white\", fill =~mean >= 58)\n"
    },
    {
      "cell_type": "markdown",
      "metadata": {
        "cell_id": "9a3d23623852499f836cdb0074f5d19e",
        "deepnote_cell_height": 163.125,
        "deepnote_cell_type": "markdown",
        "tags": []
      },
      "source": "<div class=\"alert alert-block alert-warning\">\n\n**Sample Response**\n\nThere appears to be only a few samples that have an average age of 58 or higher. The likelihood seems low.\n\n</div>"
    },
    {
      "cell_type": "markdown",
      "metadata": {
        "cell_id": "898747ab882147ce9e3995802df14059",
        "deepnote_cell_height": 181.53125,
        "deepnote_cell_type": "markdown"
      },
      "source": "### Using the sampling distribution\n\nLet's use the sampling distribution to help us think about our previous question: How likely is it that we would have obtained an average age of 58 for fired employees if we had just fired people randomly?\n\nR can quickly count up how many means were greater than or equal to 58."
    },
    {
      "cell_type": "code",
      "execution_count": null,
      "metadata": {
        "cell_id": "168d1d0d22a54176bd8cb2ed05e0c7e8",
        "deepnote_cell_height": 119.953125,
        "deepnote_cell_type": "code",
        "output_cleared": true,
        "trusted": true
      },
      "outputs": [],
      "source": "# Run this code.\n# 4.7 - How many of the 1000 simulated samples had a mean age of 58 or greater?\n\ntally(~ mean >= 58, data=fired_rand)"
    },
    {
      "cell_type": "code",
      "execution_count": null,
      "metadata": {
        "cell_id": "e856de25afa64b65961e1d3eab3e49c6",
        "deepnote_cell_height": 119.953125,
        "deepnote_cell_type": "code",
        "output_cleared": true,
        "trusted": true
      },
      "outputs": [],
      "source": "# Run this code. \n# 4.8 - What proportion of the 1000 simulated samples had a mean age of 58 or greater?\n\ntally(~ mean >= 58, data=fired_rand, format = \"proportion\")"
    },
    {
      "cell_type": "markdown",
      "metadata": {
        "cell_id": "022b7dc594924dc8851d04a4a6ab939f",
        "deepnote_cell_height": 115.9375,
        "deepnote_cell_type": "markdown",
        "tags": []
      },
      "source": "<div class=\"alert alert-block alert-success\">\n\n### 5.0 - Approximate Time: 5-8 mins\n\n</div>"
    },
    {
      "cell_type": "markdown",
      "metadata": {
        "cell_id": "8d6821b163b042fe906b004f4d0d831c",
        "deepnote_cell_height": 69.96875,
        "deepnote_cell_type": "markdown"
      },
      "source": "## 5.0 - The Whole Thing"
    },
    {
      "cell_type": "markdown",
      "metadata": {
        "cell_id": "5327748982b642b0b69ca47727da7d53",
        "deepnote_cell_height": 74.75,
        "deepnote_cell_type": "markdown"
      },
      "source": "5.1 - If the probability of getting an average age of 58 or greater turns out to be small, does this favor Martin or Westvaco? Why?"
    },
    {
      "cell_type": "markdown",
      "metadata": {
        "cell_id": "611656c5287140d7a3a22a094563b15e",
        "deepnote_cell_height": 185.515625,
        "deepnote_cell_type": "markdown",
        "tags": []
      },
      "source": "<div class=\"alert alert-block alert-warning\">\n\n**Sample Response**\n\nIt favors Martin, because it tells us that it is very unlikely that you could randomly pick three people to be fired and get such a high average age. This suggests there may have been another reason (DGP) for firing those people, namely, potential age discrimination.\n\n</div>"
    },
    {
      "cell_type": "markdown",
      "metadata": {
        "cell_id": "da379c0ae1bc456d8b310539167d3aeb",
        "deepnote_cell_height": 1017.859375,
        "deepnote_cell_type": "markdown"
      },
      "source": "### Distribution Triad as a .gif\n\n<img src=\"https://i.postimg.cc/fsgBppCw/Westvaco-Dist-Triad-Gif.gif\" title=\"Westvaco scenario analyzed with the distribution triad gif\" />\n\n### Distribution Triad as a static image\n\n<img src=\"https://coursekata-course-assets.s3.us-west-1.amazonaws.com/UCLATALL/czi-stats-course/jnb_59dv1Bjm-Gy-Ml-Owy-Imgur.png\" title=\"Westvaco scenario analyzed with the distribution triad\" />"
    },
    {
      "cell_type": "markdown",
      "metadata": {
        "cell_id": "dc90139051c14ecfa1a81c65962a27c0",
        "deepnote_cell_height": 591.40625,
        "deepnote_cell_type": "markdown",
        "tags": []
      },
      "source": "<div class=\"alert alert-block alert-warning\">\n\n**Sample Explanation for Graphic**\n\n(Note: This organization using the three distributions of statistics, we call this the distribution triad, comes up repeatedly in course videos starting in chapter 4. We use it to align multiple examples to each other even though they are each in a different context.)\n\n1. We almost always start by just taking a look at the data... and data only represent a sample (sometimes we call this the empirical sample). \nIn the Westvaco case, we looked at the data for the people that were actually fired and those that were not fired. Things like 58 represent something about this sample.\n\n2. But in statistics, we are often interested in the Data Generating Process: how was that sample data generated? The hard thing about statistics is that we rarely have access to the actual DGP! But we can make little theories (or models) of the DGP.\nHere, we wondered -- could the DGP have had something to do with age? (e.g., FIRED = AGE + OTHER STUFF) Or did it have nothing to do with age? (e.g., FIRED = OTHER STUFF)\n\n3. Even though we can't look directly at the DGP, we can mimic a **random** DGP! We can mimic a random process that does NOT fire people based on age (or anything else). With computers, we can do this thousands of times! We can then wonder, \"Hm, even if we used a completely random process, sometimes we get a sample that looks like our empirical sample. Did our empirical sample come from a process like this random sample? Or from some other process?\"\n\n</div>"
    }
  ],
  "metadata": {
    "deepnote_notebook_id": "74bf5a6cbba74592b95ad40c6c40bcb8",
    "kernelspec": {
      "display_name": "R",
      "language": "R",
      "name": "ir"
    },
    "language_info": {
      "codemirror_mode": "r",
      "file_extension": ".r",
      "mimetype": "text/x-r-source",
      "name": "R",
      "pygments_lexer": "r",
      "version": "4.3.3"
    },
    "nbsimplegrader": {
      "publish_config": {
        "classes": [],
        "options": [],
        "tools": []
      }
    }
  },
  "nbformat": 4,
  "nbformat_minor": 1
}