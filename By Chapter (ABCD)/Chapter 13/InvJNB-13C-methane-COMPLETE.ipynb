{
  "cells": [
    {
      "cell_type": "markdown",
      "metadata": {
        "cell_id": "ebe67ce4e82840b2aaa4dbf2bb5138e6",
        "deepnote_cell_height": 208.71875,
        "deepnote_cell_type": "markdown",
        "tags": []
      },
      "source": "<div class=\"alert alert-block alert-danger\">\n\n# 13C: Methane (COMPLETE)\n\n**Use with textbook version 6.0+**\n\n\n**Lesson assumes students have read up through page: 13.9**\n\n\n</div>"
    },
    {
      "cell_type": "markdown",
      "metadata": {
        "cell_id": "12b1a431a351481288c3816d78b4931f",
        "deepnote_cell_height": 381.46875,
        "deepnote_cell_type": "markdown",
        "tags": []
      },
      "source": "<div class=\"alert alert-block alert-warning\">\n\n#### Summary of Notebook:\n\nIn this lesson, student will look at some data on temperature and methane in the evironment. They will attempt to debunk a claim made by a climate skeptic whose analysis shows that as methane goes up, temperature actually goes down. The students will make models of methane predicting temperature anomaly and come to realize that the reason the model shows a negative trend is because we need to account for season (summer vs winter) in our model.\n\n#### Includes:\n\n- Fitting and interpreting simple and multiple regression models\n- Exploring the dangers of failing to include an important variable in a model\n- Using visualizations to explore which variables should be included in a model\n\n</div>"
    },
    {
      "cell_type": "markdown",
      "metadata": {
        "cell_id": "2c2be608b3a44ef9b598e03ad9f531ee",
        "deepnote_cell_height": 163.9375,
        "deepnote_cell_type": "markdown",
        "tags": []
      },
      "source": "<div class=\"alert alert-block alert-success\">\n\n## Approximate time to complete Notebook: 45-55 Mins\n\n</div>"
    },
    {
      "cell_type": "code",
      "execution_count": null,
      "metadata": {
        "cell_id": "2437d730707045b797efb497c9d01df6",
        "deepnote_cell_type": "code",
        "deepnote_to_be_reexecuted": false,
        "execution_context_id": "6d336b62-7a94-4bc2-911e-b9f94dd1b3a9",
        "execution_millis": 1001,
        "execution_start": 1745003156177,
        "output_cleared": false,
        "source_hash": "116f7300",
        "tags": [],
        "trusted": true
      },
      "outputs": [],
      "source": "# This code will load the R packages we will use\nsuppressPackageStartupMessages({\n    library(coursekata)\n})"
    },
    {
      "cell_type": "markdown",
      "metadata": {
        "cell_id": "c1f02773812d497186a92594c9901a16",
        "deepnote_cell_height": 234.8125,
        "deepnote_cell_type": "markdown",
        "owner_user_id": "23d85493-7ed1-49a4-baa7-630eaab08193",
        "tags": []
      },
      "source": "<img src=\"https://coursekata-course-assets.s3.us-west-1.amazonaws.com/UCLATALL/czi-stats-course/jnb_2CdHrqmS-methane-in-the-environment.jpg\" alt=\"A chimney burning methane\" width = 50%>"
    },
    {
      "cell_type": "markdown",
      "metadata": {
        "cell_id": "f26bf0ba3382453ba8dd05e9eaaf3326",
        "deepnote_cell_height": 256.71875,
        "deepnote_cell_type": "markdown",
        "tags": []
      },
      "source": "## Climate and Methane\n\nA climate change skeptic chose one summer month and one winter month from each of the years 1999-2018. For each of those months, the skeptic found data on the average global temperature and atmospheric methane level. Methane is a greenshouse gas. \n\nThe sketpic claims that his data shows a **negative relationship** between methane and temperature. In other words, higher concentrations of the greenhouse gas tend to be associated with lower average global temperature. Is the climate change skeptic correct? Could this be evidence that greenhouse gases and human pollution aren't driving climate change? Let's explore."
    },
    {
      "cell_type": "markdown",
      "metadata": {
        "cell_id": "2c80168fb6a2464d828cf7edcec3cd83",
        "deepnote_cell_height": 61.953125,
        "deepnote_cell_type": "markdown",
        "tags": []
      },
      "source": "### Motivating Question: Is Climate Change Real?"
    },
    {
      "cell_type": "markdown",
      "metadata": {
        "cell_id": "69ebdea040f14ce692feb6923971cce6",
        "deepnote_cell_height": 565.828125,
        "deepnote_cell_type": "markdown",
        "tags": []
      },
      "source": "### The Dataset\n##### Description\nA climate change skeptic (non-randomly) chose one summer month and one winter month from each of the years 1999-2018. For each of those months, the skeptic found data on the average global temperature and atmospheric methane level. \n\n##### Variables\n- `year`: Year\n- `month`: Month (1 = Jan, 2 = Feb, etc.)\n- `decimal`: Month as a decimal of the year\n- `season`: Winter or Summer\n- `methane`: Atmospheric methane concentraion, parts per trillion (ppt)\n- `temp_anamoly`: Average global temperature, relative to mean temperature from 1980 - 2015, in degreese Celsius\n\n**Data Sources:**\n\n- Temperature readings from GISS/NASA: https://data.giss.nasa.gov/gistemp/graphs_v4/. Shows global temperature anamoly relative to mean temp from 1980 - 2015. \n- Methane levels from NOAA: https://gml.noaa.gov/ccgg/trends_ch4. Converted ppb to ppt (divided by 1,000). Measurements conducted monthly from 1999 - 2018.\n"
    },
    {
      "cell_type": "markdown",
      "metadata": {
        "cell_id": "6e8aaec3c15d4993979c5d3aa6655df3",
        "deepnote_cell_height": 115.9375,
        "deepnote_cell_type": "markdown",
        "tags": []
      },
      "source": "<div class=\"alert alert-block alert-success\">\n\n### 1.0 - Approximate Time:  10-15 mins\n\n</div>"
    },
    {
      "cell_type": "markdown",
      "metadata": {
        "cell_id": "982a6fbb6a3b4fc8bb8c3945b804f389",
        "deepnote_cell_height": 61.953125,
        "deepnote_cell_type": "markdown",
        "tags": []
      },
      "source": "### 1.0 - A climate skeptic's analysis"
    },
    {
      "cell_type": "markdown",
      "metadata": {
        "cell_id": "da27b9625c1e44adb53feac5fc01e14a",
        "deepnote_cell_height": 52.359375,
        "deepnote_cell_type": "markdown",
        "tags": []
      },
      "source": "**1.1 -** Download the dataset and print its head."
    },
    {
      "cell_type": "code",
      "execution_count": null,
      "metadata": {
        "cell_id": "ef7a43a9be404f4faa5d285e5f1c18a8",
        "deepnote_cell_type": "code",
        "deepnote_to_be_reexecuted": false,
        "execution_context_id": "6d336b62-7a94-4bc2-911e-b9f94dd1b3a9",
        "execution_millis": 1376,
        "execution_start": 1745003157227,
        "output_cleared": false,
        "source_hash": "76f9470d",
        "tags": [],
        "trusted": true
      },
      "outputs": [],
      "source": "# Read in data\ntemp_data <- read.csv(\"https://docs.google.com/spreadsheets/d/e/2PACX-1vQxO1NNRbXecdTvW8bfSlEytylLLv3jZ_ElehIakBQ157vKHQywyDs_cmyHZG9S0pjQN_SMKrAwSHEy/pub?gid=2129057940&single=true&output=csv\")\n\n# head\nhead(temp_data)"
    },
    {
      "cell_type": "markdown",
      "metadata": {
        "cell_id": "be39fcb19a4c41f7b447add1bf67fca6",
        "deepnote_cell_height": 74.75,
        "deepnote_cell_type": "markdown",
        "tags": []
      },
      "source": "**1.2 -** Create a linear model, using `methane` to predict `temp_anomaly`."
    },
    {
      "cell_type": "code",
      "execution_count": null,
      "metadata": {
        "cell_id": "be4de428b35242cdbdd964b5d49fba80",
        "deepnote_cell_type": "code",
        "deepnote_to_be_reexecuted": false,
        "execution_context_id": "6d336b62-7a94-4bc2-911e-b9f94dd1b3a9",
        "execution_millis": 0,
        "execution_start": 1745003158657,
        "output_cleared": false,
        "source_hash": "d2876d3e",
        "tags": [],
        "trusted": true
      },
      "outputs": [],
      "source": "# simple linear regression (temp ~ methane)\nmethane_model <- lm(temp_anomaly ~ methane, data = temp_data)\nmethane_model"
    },
    {
      "cell_type": "markdown",
      "metadata": {
        "cell_id": "3813d153b3574b5fa1bee20012069da4",
        "deepnote_cell_height": 97.140625,
        "deepnote_cell_type": "markdown",
        "tags": []
      },
      "source": "**1.3 -** Is the skeptic's claim true that these two factors (temperature anamoly and methane levels) are negatively associated? How can you tell? Support your answer by interpreting the coefficient value for `methane` in your model."
    },
    {
      "cell_type": "markdown",
      "metadata": {
        "cell_id": "6c1fd52c6d184074ae4eeb9e9ce5979d",
        "deepnote_cell_height": 207.90625,
        "deepnote_cell_type": "markdown",
        "tags": []
      },
      "source": "<div class=\"alert alert-block alert-warning\">\n\n<b>Sample Response:</b> \n\nIn our model, we see that `methane` has a negative coefficient value. This means that methane concetrations and temperature are negatively associated. As methane rises, the temperature tends to be lower. Specifically, for every 1 part per trillion increase in methane, our model predicts an 84.49 degree Celsius decrease in temperature anomaly.\n\n</div>"
    },
    {
      "cell_type": "markdown",
      "metadata": {
        "cell_id": "85bae360704649b29efb04b7e46be713",
        "deepnote_cell_height": 115.9375,
        "deepnote_cell_type": "markdown",
        "tags": []
      },
      "source": "<div class=\"alert alert-block alert-success\">\n\n### 2.0 - Approximate Time:  15-20 mins\n\n</div>"
    },
    {
      "cell_type": "markdown",
      "metadata": {
        "cell_id": "ffbd52319fcb44c2ae79a11e66d7cf07",
        "deepnote_cell_height": 61.953125,
        "deepnote_cell_type": "markdown",
        "tags": []
      },
      "source": "### 2.0 - Exploring the data behind the model"
    },
    {
      "cell_type": "markdown",
      "metadata": {
        "cell_id": "f02c0316c74b4238970931afe8f537ac",
        "deepnote_cell_height": 52.359375,
        "deepnote_cell_type": "markdown",
        "tags": []
      },
      "source": "**2.1 -** Visualize the relationship between temperature anamoly and methane. What do you notice?"
    },
    {
      "cell_type": "code",
      "execution_count": null,
      "metadata": {
        "cell_id": "e8a81b530929467ca60925d6b2206b97",
        "deepnote_cell_type": "code",
        "deepnote_to_be_reexecuted": false,
        "execution_context_id": "6d336b62-7a94-4bc2-911e-b9f94dd1b3a9",
        "execution_millis": 127,
        "execution_start": 1745003158707,
        "output_cleared": false,
        "source_hash": "39cd22a8",
        "tags": [],
        "trusted": true
      },
      "outputs": [],
      "source": "# scatter, with temp ~ time\ngf_point(temp_anomaly ~ methane, data = temp_data)"
    },
    {
      "cell_type": "markdown",
      "metadata": {
        "cell_id": "0d8f6e81d3d443d7929b622b48ff93ee",
        "deepnote_cell_height": 185.515625,
        "deepnote_cell_type": "markdown",
        "tags": []
      },
      "source": "<div class=\"alert alert-block alert-warning\">\n\n<b>Sample Response:</b> \n\nIt seems that there is some sort of bifurcation in the data, where both sets of data show slight increases in temperature for more methane, but there's a big starting gap in temperature between these sets of data.\n\n</div>"
    },
    {
      "cell_type": "markdown",
      "metadata": {
        "cell_id": "bc21aab210354d5597627bb1c2d50d6a",
        "deepnote_cell_height": 169.515625,
        "deepnote_cell_type": "markdown",
        "tags": []
      },
      "source": "<div class=\"alert alert-block alert-info\">\n\n<b> <font size=\"+1\">Key Question</font></b>\n\n**2.2 -** Look back at the dataset. Is there a variable that may explain the pattern you see above? Test your idea by creating a new visual or set of visuals. \n\n</div>"
    },
    {
      "cell_type": "code",
      "execution_count": null,
      "metadata": {
        "cell_id": "bc94d1f054ff4fc69966bab97c6d6d58",
        "deepnote_cell_type": "code",
        "deepnote_to_be_reexecuted": false,
        "execution_context_id": "6d336b62-7a94-4bc2-911e-b9f94dd1b3a9",
        "execution_millis": 301,
        "execution_start": 1745003158887,
        "output_cleared": false,
        "source_hash": "fcef4f71",
        "tags": [],
        "trusted": true
      },
      "outputs": [],
      "source": "# Sample Responses\n\n# jitterplot with temperature shown by season of month\ngf_jitter(temp_anomaly ~ season, data = temp_data, width = 0.1)\n\n# scatter, with temp ~ time, colored by season\ngf_point(temp_anomaly ~ methane, data = temp_data, color = ~season)"
    },
    {
      "cell_type": "markdown",
      "metadata": {
        "cell_id": "9d00ac1a675c497086bc1c5fd22c3b53",
        "deepnote_cell_height": 325.46875,
        "deepnote_cell_type": "markdown",
        "tags": []
      },
      "source": "<div class=\"alert alert-block alert-warning\">\n\n<b>Sample Response:</b> \n\nIt seems clear that seasonality plays a huge role in temperature. As expected, temperatures are much lower in winter than in summer. So, it seems as though we should control for season in our analyses.\n\n\n<b> Instructor Note: </b> \n\nIt may take students a while to explore the dataset visually and find the patterns associated with season. Encourages students to collaborate on this task, with group members trying out different variables and different visualizations. Challenge the groups to come up with the most effective visualizations to share with the rest of the class.\n\n\n</div>"
    },
    {
      "cell_type": "markdown",
      "metadata": {
        "cell_id": "f54703da221e44d383fd8e45bdec072e",
        "deepnote_cell_height": 97.140625,
        "deepnote_cell_type": "markdown",
        "tags": []
      },
      "source": "**2.3 -** Below, we've visualized the relationship between temperature and methane in our dataset, showing the line of best fit (used in the climate skeptic's model). Does the model fit the data well? Why does the model have a negative slope?\n"
    },
    {
      "cell_type": "code",
      "execution_count": null,
      "metadata": {
        "cell_id": "6dec31db58b34fec90b9fbce637093b2",
        "deepnote_cell_type": "code",
        "deepnote_to_be_reexecuted": false,
        "execution_context_id": "6d336b62-7a94-4bc2-911e-b9f94dd1b3a9",
        "execution_millis": 382,
        "execution_start": 1745003159237,
        "output_cleared": false,
        "source_hash": "a53c571b",
        "tags": [],
        "trusted": true
      },
      "outputs": [],
      "source": "methane_model <- lm(temp_anomaly ~ methane, data = temp_data)\n\n# Scatterplot between methane and temp anamoly\ngf_point(temp_anomaly ~ methane, data = temp_data, color = ~season) %>%\n  gf_labs(title = \"Global Temps vs. Global Methane Concentration (1999 - 2010)\",\n    x = \"Methane Concentration (parts per trillion)\",\n    y = \"Temperature Anamoly (C), w.r.t 1980-2015 Avg Temp\") %>%\n  gf_model(methane_model)"
    },
    {
      "cell_type": "markdown",
      "metadata": {
        "cell_id": "3ed708a38c6142e5b4d030f3581cf467",
        "deepnote_cell_height": 487.828125,
        "deepnote_cell_type": "markdown",
        "tags": []
      },
      "source": "<div class=\"alert alert-block alert-warning\">\n\n<b>Sample Response:</b> \n\nThe model has a negative slope because the winter months have lower temperature and higher methane. The summer months have lower methane but higher temperature. \n\nA model that uses methane to predict temperature generally predicts higher temps when there are lower concentrations of methane (these are the data from the summer months) and lower temps when there are higher levels of methane (the winter months). So, the overall relationship is negative. \n\nHowever, this is not a very well-fitting model. There are very large residuals, as the line does not come close to predicting many of the temperatures. Interestingly, *within* each season, it appears that temperature tends to increase as methane rises. We may have to find a model that takes season into account.\n\n\n<b> Instructor Note: </b> \n\nIt may be difficult to see why the line has a negative slope. The effect here is commonly known as Simpson's paradox. You might consider getting them to explore Simpson's paradox on google or wikipedia (e.g., https://en.wikipedia.org/wiki/Simpson%27s_paradox).\n\n</div>"
    },
    {
      "cell_type": "markdown",
      "metadata": {
        "cell_id": "57d0294805ba49a2b1d277bb47db44a7",
        "deepnote_cell_height": 191.90625,
        "deepnote_cell_type": "markdown",
        "tags": []
      },
      "source": "<div class=\"alert alert-block alert-info\">\n\n<b> <font size=\"+1\">Key Question</font></b>\n\n\n**2.4 -** Create a subset of the data that is *only* the winter months. Then, visualize the relationship between methane and temperature. What do you notice? Do the same with the summer month data. What do you notice?\n\n</div>"
    },
    {
      "cell_type": "code",
      "execution_count": null,
      "metadata": {
        "cell_id": "272576e407694926949f37cd5a3ed519",
        "deepnote_cell_type": "code",
        "deepnote_to_be_reexecuted": false,
        "execution_context_id": "6d336b62-7a94-4bc2-911e-b9f94dd1b3a9",
        "execution_millis": 73,
        "execution_start": 1745003159677,
        "output_cleared": false,
        "source_hash": "ef4b90e3",
        "tags": [],
        "trusted": true
      },
      "outputs": [],
      "source": "# Collect just the winter month data\nwinter_data <- filter(temp_data, season == \"winter\")\n\n# Visualize just winter month data\ngf_point(temp_anomaly ~ methane, data = winter_data, color) %>%\n  gf_labs(title = \"Only Winter Months\",\n    x = \"Methane Concentration (parts per trillion)\",\n    y = \"Temperature Anamoly (C), w.r.t 1980-2015 Avg Temp\")"
    },
    {
      "cell_type": "code",
      "execution_count": null,
      "metadata": {
        "cell_id": "61413e44963040b9b47ee5b71fe7fd6a",
        "deepnote_cell_type": "code",
        "deepnote_to_be_reexecuted": false,
        "execution_context_id": "6d336b62-7a94-4bc2-911e-b9f94dd1b3a9",
        "execution_millis": 82,
        "execution_start": 1745003159797,
        "output_cleared": false,
        "source_hash": "612fa9c3",
        "tags": [],
        "trusted": true
      },
      "outputs": [],
      "source": "# Collect just the winter month data\nsummer_data <- filter(temp_data, season == \"summer\")\n\n# Visualize just winter month data\ngf_point(temp_anomaly ~ methane, data = summer_data) %>%\n  gf_labs(title = \"Only Summer Months\",\n    x = \"Methane Concentration (parts per trillion)\",\n    y = \"Temperature Anamoly (C), w.r.t 1980-2015 Avg Temp\")"
    },
    {
      "cell_type": "markdown",
      "metadata": {
        "cell_id": "6a1511957ce844308ae078c0bcdf10f7",
        "deepnote_cell_height": 163.125,
        "deepnote_cell_type": "markdown",
        "tags": []
      },
      "source": "<div class=\"alert alert-block alert-warning\">\n\n<b>Sample Response:</b> \n\nClearly, *within* each season, it appears that temperature tends to increase as methane rises. We may have to find a model that takes season into account.\n\n</div>"
    },
    {
      "cell_type": "markdown",
      "metadata": {
        "cell_id": "3a2f942586ff4d62bebdbfd351b5b0ac",
        "deepnote_cell_height": 115.9375,
        "deepnote_cell_type": "markdown",
        "tags": []
      },
      "source": "<div class=\"alert alert-block alert-success\">\n\n### 3.0 - Approximate Time:  20-25 mins\n\n</div>"
    },
    {
      "cell_type": "markdown",
      "metadata": {
        "cell_id": "6f0ba12e9cf74249a25eedc583a36466",
        "deepnote_cell_height": 61.953125,
        "deepnote_cell_type": "markdown",
        "tags": []
      },
      "source": "### 3.0 - Getting multivariate"
    },
    {
      "cell_type": "markdown",
      "metadata": {
        "cell_id": "0a2ee6a06b85410f9133781ce1a36ae1",
        "deepnote_cell_height": 191.90625,
        "deepnote_cell_type": "markdown",
        "tags": []
      },
      "source": "<div class=\"alert alert-block alert-info\">\n\n<b> <font size=\"+1\">Key Question</font></b>\n\n**3.1 -** Create and fit a model predicting temperature from methane, taking season into account. How does the coefficient value for `methane` differ from the one seen in the initial model in the notebook? Why do you think this change occurred?\n\n</div>"
    },
    {
      "cell_type": "code",
      "execution_count": null,
      "metadata": {
        "cell_id": "de9132f526d74db09fc7e2e94c641d4a",
        "deepnote_cell_type": "code",
        "deepnote_to_be_reexecuted": false,
        "execution_context_id": "6d336b62-7a94-4bc2-911e-b9f94dd1b3a9",
        "execution_millis": 0,
        "execution_start": 1745003159937,
        "output_cleared": false,
        "source_hash": "c6154c30",
        "tags": [],
        "trusted": true
      },
      "outputs": [],
      "source": "# Multiple regression model, controlling for seasons (summer vs. winter)\nmethane_season_model <- lm(temp_anomaly ~ methane + season, data = temp_data)\nmethane_season_model"
    },
    {
      "cell_type": "markdown",
      "metadata": {
        "cell_id": "030129147c3a4d13b31ba02e3a352702",
        "deepnote_cell_height": 415.046875,
        "deepnote_cell_type": "markdown",
        "tags": []
      },
      "source": "<div class=\"alert alert-block alert-warning\">\n\n<b>Sample Response:</b> \n\nWhereas the coefficient was negative in our prior model, the coefficient for `methane` is now positive. This means that, controlling for season, temperature tends to increase as methane increases. The key difference is that we are now controlling for season - sort of like we're only comparing data values within the same season (summer against summer, winter against winter). When looking *within* season, there is a positive relationship between the greenhouse gas and temperature.\n\n\n<b> Instructor Note: </b> \n\nIn this case, it's extremely important to include season in the model. Because of this, students may walk away from this lesson with the idea that *every possible variable* should be included in multiple regressions. This is not always the case and, in fact, adding too many variables can also cause problems for model interpretations and predictions. We'll explore some of those cases in later notebooks. \n \n</div>"
    },
    {
      "cell_type": "markdown",
      "metadata": {
        "cell_id": "fff2b3152f0d4e30bf6c87ad2e2c5603",
        "deepnote_cell_height": 74.75,
        "deepnote_cell_type": "markdown",
        "tags": []
      },
      "source": "**3.2 -** Create a scatterplot showing temperature as predicted by methane, and color the data according to season. Then, visualize your multiple regression fit on the graph."
    },
    {
      "cell_type": "code",
      "execution_count": null,
      "metadata": {
        "cell_id": "1ce25c9c771e47b6832befd628022bed",
        "deepnote_cell_type": "code",
        "deepnote_to_be_reexecuted": false,
        "execution_context_id": "6d336b62-7a94-4bc2-911e-b9f94dd1b3a9",
        "execution_millis": 164,
        "execution_start": 1745003159997,
        "output_cleared": false,
        "source_hash": "73103a80",
        "tags": [],
        "trusted": true
      },
      "outputs": [],
      "source": "# scatter, with temp ~ time, colored by season, showing multivariate regression\ngf_point(temp_anomaly ~ methane, data = temp_data, color = ~season) %>%\n  gf_labs(title = \"Only Winter Months\",\n    x = \"Methane Concentration (parts per trillion)\",\n    y = \"Temperature Anomaly (C), w.r.t 1980-2015 Avg Temp\") %>%\n  gf_model(methane_season_model)"
    },
    {
      "cell_type": "markdown",
      "metadata": {
        "cell_id": "08f878ae60c642cda6727ea05a5f33bc",
        "deepnote_cell_height": 74.75,
        "deepnote_cell_type": "markdown",
        "tags": []
      },
      "source": "**3.3 -** Your model had a coefficient value for `seasonwinter`. What feature of your graph does this value describe?"
    },
    {
      "cell_type": "markdown",
      "metadata": {
        "cell_id": "00f0e3b6cc9042d5b5bae0e9023147f4",
        "deepnote_cell_height": 230.296875,
        "deepnote_cell_type": "markdown",
        "tags": []
      },
      "source": "<div class=\"alert alert-block alert-warning\">\n\n<b>Sample Response:</b> \n\nSeason winter is the baseline difference in temperature anamoly between summer and winter months, controlling for methane levels. On our graph, the coefficient value for `seasonwinter` appear as the vertical distance between the two lines. We subtract 3.77 degrees Celsius from the summer predictions (note: the coefficient value for `seasonwinter` was negative) in order to get the winter predictions.\n\n</div>"
    },
    {
      "cell_type": "markdown",
      "metadata": {
        "cell_id": "21813d1dbf0c4725a102a8ab9114c482",
        "deepnote_cell_height": 170.71875,
        "deepnote_cell_type": "markdown",
        "tags": []
      },
      "source": "<div class=\"alert alert-block alert-info\">\n\n<b> <font size=\"+1\">Key Question</font></b>\n\n\n##### 3.4 - What feature of your graph does the `methane` coefficient describe? How does its value contradict the claim made by the climate change skeptic?\n\n</div>"
    },
    {
      "cell_type": "markdown",
      "metadata": {
        "cell_id": "7f77c416a46145328253e8abb5d03d99",
        "deepnote_cell_height": 275.078125,
        "deepnote_cell_type": "markdown",
        "tags": []
      },
      "source": "<div class=\"alert alert-block alert-warning\">\n\n<b>Sample Response:</b> \n\nThe methane coefficient shows the slopes of the lines in the graph - it's the relationship between methane and temperature, controlling for season (i.e. within season). Because its value is positive, we have shown that temperature actually tends to rise as methane is produced in greater quantities (controlling for season). This is consistent with many scientists' claim that greenhouse gases (such as methane) contribute to warming the earth, and it contrasts with the skeptic's claim that temperatures tend to lower as methane becomes more prevalent.\n\n</div>"
    },
    {
      "cell_type": "markdown",
      "metadata": {
        "cell_id": "651bbfb2a60449f5a6950bc3b437c7d1",
        "deepnote_cell_height": 74.75,
        "deepnote_cell_type": "markdown",
        "tags": []
      },
      "source": "**3.5 -** Which model is more convincing: The skeptic's single-predictor model or the multivariate model? Provide evidence using the visualizations created above and supernova tables."
    },
    {
      "cell_type": "code",
      "execution_count": null,
      "metadata": {
        "cell_id": "5afed6c645b14f9cb34b2f9edbd6b0bb",
        "deepnote_cell_type": "code",
        "deepnote_to_be_reexecuted": false,
        "execution_context_id": "6d336b62-7a94-4bc2-911e-b9f94dd1b3a9",
        "execution_millis": 0,
        "execution_start": 1745003160207,
        "output_cleared": false,
        "source_hash": "94b415f6",
        "tags": [],
        "trusted": true
      },
      "outputs": [],
      "source": "supernova(methane_season_model)"
    },
    {
      "cell_type": "code",
      "execution_count": null,
      "metadata": {
        "cell_id": "1c775ce2e06441a6bcf6f775ff93398b",
        "deepnote_cell_type": "code",
        "deepnote_to_be_reexecuted": false,
        "execution_context_id": "6d336b62-7a94-4bc2-911e-b9f94dd1b3a9",
        "execution_millis": 0,
        "execution_start": 1745003160257,
        "output_cleared": false,
        "source_hash": "be90721a",
        "tags": [],
        "trusted": true
      },
      "outputs": [],
      "source": "supernova(methane_model)"
    },
    {
      "cell_type": "markdown",
      "metadata": {
        "cell_id": "7fe67f2010614ec480c8fede2632879e",
        "deepnote_cell_height": 437.421875,
        "deepnote_cell_type": "markdown",
        "tags": []
      },
      "source": "<div class=\"alert alert-block alert-warning\">\n\n<b>Sample Response:</b> \n\nLooking at the multivariate regression plot, the fit is *clearly* better than the earlier fit. The temperatures are more closely predicted by our model (the data are closer, along the y-axis, to the lines of best fit). If we were making predictions, accounting for season would make our predictions more accurate. Looking at the supernova tables, we see the PRE jumps from 0.182 to 0.9955 when accounting for season. This provides further evidence that our multivariate model is a better fit from the data, as a much higher percentage of the variation in temperature is explained by our multivariate model.\n\n\n<b> Instructor Note: </b> \n\nTo reiterate - In this case, it's extremely important to include season in the model. Because of this, students may walk away from this lesson with the idea that *every possible variable* should be included in multiple regressions. This is not always the case and, in fact, adding too many variables can also cause problems for model interpretations and predictions. We'll explore some of those cases in later notebooks.  \n\n</div>"
    }
  ],
  "metadata": {
    "deepnote_notebook_id": "f143c52f5b57489ca430b1f47d210a62",
    "kernelspec": {
      "display_name": "R",
      "language": "R",
      "name": "ir"
    },
    "language_info": {
      "codemirror_mode": "r",
      "file_extension": ".r",
      "mimetype": "text/x-r-source",
      "name": "R",
      "pygments_lexer": "r",
      "version": "4.3.3"
    },
    "nbsimplegrader": {
      "publish_config": {
        "classes": [],
        "options": [],
        "tools": []
      }
    }
  },
  "nbformat": 4,
  "nbformat_minor": 1
}