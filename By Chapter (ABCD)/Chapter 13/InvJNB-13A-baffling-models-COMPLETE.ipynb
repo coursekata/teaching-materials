{
  "cells": [
    {
      "cell_type": "markdown",
      "metadata": {
        "cell_id": "193d0a42e9474b2ebed687651e0c8504",
        "deepnote_cell_type": "markdown",
        "tags": []
      },
      "source": "<div class=\"alert alert-block alert-danger\">\n\n# 13A: Catfished...by a cricket? (COMPLETE)\n\n**Use with textbook version 6.0+**\n\n**Lesson assumes students have read up through page: 13.5**\n\n</div>"
    },
    {
      "cell_type": "markdown",
      "metadata": {
        "cell_id": "2a84eb35885d49e7acafe67b93976b48",
        "deepnote_cell_type": "markdown",
        "tags": []
      },
      "source": "<div class=\"alert alert-block alert-warning\">\n\n#### Summary of Notebook:\n\nIn this lesson, students will explore two different data sets that each depict data from a pair of related experiments. These experiments examine factors that affect female attraction in crickets, such as the size of male crickets, and the loudness of their chirps, including a phenomenon known as baffling, wherein, a male cricket uses holes in leaves to amplify their chirps (hence, \"catfishing\" the female crickets by making it seem like they are louder than they really are). \n\n#### Includes:\n\n- Making multivariate word equations, data visualizations, and models\n- Interpreting best fitting equations and connecting them to the visualization of a model\n\n#### Note:\n\n- Some instructors have told us they like to switch the order of the two studies below since the second study is simpler and matches the examples in the textbook. \n\n</div>"
    },
    {
      "cell_type": "markdown",
      "metadata": {
        "cell_id": "ecf333460e724a96b0ee7f5ea58fbd51",
        "deepnote_cell_type": "markdown",
        "tags": []
      },
      "source": "<div class=\"alert alert-block alert-success\">\n\n## Approximate time to complete Notebook: 40-50 Mins\n\n</div>"
    },
    {
      "cell_type": "code",
      "execution_count": null,
      "metadata": {
        "cell_id": "17d56296eac643aa8838176d2076614b",
        "deepnote_cell_type": "code",
        "deepnote_to_be_reexecuted": false,
        "execution_millis": 8536,
        "execution_start": 1713554740749,
        "output_cleared": false,
        "source_hash": null,
        "tags": [],
        "trusted": true
      },
      "outputs": [],
      "source": "# this loads the packages and functions used in coursekata \nsuppressPackageStartupMessages({\n    library(coursekata)\n})\n\n# loads data & creates factor variables\n\nfemale_pref <- read.csv(\"https://docs.google.com/spreadsheets/d/e/2PACX-1vSZdsoy_Gom22rkFxq2V91KiRvTFICjnGZ3nRA0O8h0dKDT79K9x0l8mUqgdzyCOjUz3lNtBoSBmyV7/pub?gid=1712183223&single=true&output=csv\")\nfemale_pref$baffling <- factor(female_pref$baffling)\n\nmating <- filter(read.csv(\"https://docs.google.com/spreadsheets/d/e/2PACX-1vTiXq1HiJm_cjoxsu49ueqfDqdoI7rAwXLB9SX89GkEJ5b284olEwP5neUPmIcAu09oA3W13X1Bf8c9/pub?gid=0&single=true&output=csv\"), male_sound == \"soft\")\nmating$male_sound <- factor(mating$male_sound)\nmating$amplified <- factor(mating$amplified, levels = c(0,1), labels = c(\"no\", \"yes\"))\nmating$male_size <- factor(mating$male_size, levels = c(1,2,3), labels = c(\"small\", \"medium\", \"large\"))\n"
    },
    {
      "cell_type": "markdown",
      "metadata": {
        "cell_id": "14575682c18e4a688ada08f19eb7af0d",
        "deepnote_cell_type": "markdown",
        "tags": []
      },
      "source": "<img src=\"https://static01.nyt.com/images/2020/12/29/science/15TB-CRICKET2/15TB-CRICKET2-mobileMasterAt3x.jpg\" alt=\"tree cricket making a hole in a leaf\" width = 50%>\n\n## Bad News for Quiet Crickets\n\nFemale tree crickets tend to prioritize two traits in their mates: loudness and size. Boy crickets can't do much about size but biologist Rittik Deb (National Center for Biological Sciences, Bangalore, India) observed curious behavior called **baffling**. A male cricket will chomp a hole in a leaf, shove his head and forelegs through the opening, and use the leaf as a megaphone!\n\nWatch here: https://elifesciences.org/articles/32763#video2\n\n### Motivating Questions: \n\n- Are females actually attracted by baffling? \n\n- Does amplification of chirps really lead to better sexual outcomes for male crickets? Even for those that are naturally quiet?\n\n"
    },
    {
      "cell_type": "markdown",
      "metadata": {
        "cell_id": "e0506b5b43604fb9afacd9868d5926b7",
        "deepnote_cell_type": "markdown",
        "tags": []
      },
      "source": "<div class=\"alert alert-block alert-success\">\n\n### 1.0 - Approximate Time:  20-25 mins\n\n</div>"
    },
    {
      "cell_type": "markdown",
      "metadata": {
        "cell_id": "b021e02b799b4868a0dc576b1bcc7a5b",
        "deepnote_cell_type": "markdown"
      },
      "source": "## Study 1: Are females fooled?\n\n### 1.0: The `female_pref` data\n\nThe data frame `female_pref` has 229 laboratory trials. Biologists played females two naturally recorded chirps from two speakers simultaneously. In some trials, they also played a chorus that included a baffler versus not. In the other trials, they played two choruses that both did not have a baffler.\n\nThey recorded the proportion of females that moved toward the speaker playing the louder chirps.\n\n<img src=\"https://coursekata-course-assets.s3.us-west-1.amazonaws.com/UCLATALL/czi-stats-course/jnb_6w3nY4NQ-image.png\" width=400>\n\nThere are four variables in `female_pref`:\n\n- `chorus_id` identification number of recording\n- `sound_db` sound pressure levels, a measure of how loud the recording was (in decibels)\n- `proportion_fem` the proportion of females that walked towards the louder speaker\n- `baffling` whether a baffler was in the chorus or not"
    },
    {
      "cell_type": "code",
      "execution_count": null,
      "metadata": {
        "cell_id": "ec1d8630c02d44e9a5567d7ce2918a4f",
        "deepnote_cell_type": "code",
        "deepnote_to_be_reexecuted": false,
        "execution_millis": 86,
        "execution_start": 1713554749305,
        "output_cleared": false,
        "source_hash": null,
        "tags": [],
        "trusted": true
      },
      "outputs": [],
      "source": "# Run this code to take a look at the data frame\nhead(female_pref)"
    },
    {
      "cell_type": "markdown",
      "metadata": {
        "cell_id": "3e96cf268b3946ee95cb3436c7754efd",
        "deepnote_cell_type": "markdown",
        "tags": []
      },
      "source": "**1.1:** Write the researchers' hypothesis as a multivariate word equation and make a visualization to explore it! What do you notice?"
    },
    {
      "cell_type": "markdown",
      "metadata": {
        "cell_id": "f781d9e4a3f44d05a001f497be756719",
        "deepnote_cell_type": "markdown",
        "tags": []
      },
      "source": "<div class=\"alert alert-block alert-warning\">\n\n**Sample Responses:**\n\n*Word Equations*\n\n- proportion_fem = baffling + sound_db + error\n\n- proportion_fem = sound_db + baffling + other stuff\n\n*Visualization descriptions*\n\n- I notice that the proportion_fem goes up as sound_db goes up, and it also goes up for the groups with the bafflers.\n- I notice the slope is much steeper for bafflers. \n- I notice that there are more non-bafflers than bafflers.\n- I notice that the non-bafflers are clumped together more.\n\n\n</div>\n"
    },
    {
      "cell_type": "code",
      "execution_count": null,
      "metadata": {
        "cell_id": "36148f8d56454f7c8cd871749243f3b7",
        "deepnote_cell_type": "code",
        "deepnote_to_be_reexecuted": false,
        "execution_millis": 930,
        "execution_start": 1713554749325,
        "output_cleared": false,
        "source_hash": null,
        "trusted": true
      },
      "outputs": [],
      "source": "# Sample Responses\n\ngf_point(proportion_fem ~ sound_db, data = female_pref) %>%\n    gf_facet_grid(baffling ~ .)\n    \ngf_point(proportion_fem ~ sound_db, data = female_pref) %>%\n    gf_facet_grid(. ~ baffling)\n\ngf_point(proportion_fem ~ sound_db, color = ~baffling, data = female_pref)"
    },
    {
      "cell_type": "markdown",
      "metadata": {
        "cell_id": "85f2ab85c8e046aea8bc6d6a063cf454",
        "deepnote_cell_type": "markdown"
      },
      "source": "**1.2:** Generate the best fitting multivariate model.\n"
    },
    {
      "cell_type": "code",
      "execution_count": null,
      "metadata": {
        "cell_id": "dea8703009b349f58436566ccfa132d3",
        "deepnote_cell_type": "code",
        "deepnote_to_be_reexecuted": false,
        "execution_millis": 458,
        "execution_start": 1713554750258,
        "output_cleared": false,
        "source_hash": null,
        "trusted": true
      },
      "outputs": [],
      "source": "# here is a one predictor model to get you started\nlm(proportion_fem ~ sound_db, data = female_pref)"
    },
    {
      "cell_type": "code",
      "execution_count": null,
      "metadata": {
        "allow_embed": false,
        "cell_id": "532b4bfd5cd6450e85e1977a330830b5",
        "deepnote_cell_type": "code",
        "deepnote_to_be_reexecuted": false,
        "execution_millis": 440,
        "execution_start": 1713554750277,
        "output_cleared": false,
        "source_hash": null,
        "trusted": true
      },
      "outputs": [],
      "source": "# Sample Response\n\nbaffling_db_model <- lm(proportion_fem ~ sound_db + baffling, data = female_pref)\nbaffling_db_model"
    },
    {
      "cell_type": "markdown",
      "metadata": {
        "cell_id": "67f10927d82948539964691ce9b07e1d",
        "deepnote_cell_type": "markdown"
      },
      "source": "**1.3:** Put the model into GLM notation and interpret the parameter estimates."
    },
    {
      "cell_type": "markdown",
      "metadata": {
        "cell_id": "acdcdca324bd417686707432e4146261",
        "deepnote_cell_type": "markdown",
        "tags": []
      },
      "source": "***GLM Notation:***\n\n$Y_i = b_0 + b_1X_{1i} + b_2X_{2i} + e_i$"
    },
    {
      "cell_type": "markdown",
      "metadata": {
        "cell_id": "90b3efa104ab44ae8179b730bc57b696",
        "deepnote_cell_type": "markdown",
        "tags": []
      },
      "source": "<div class=\"alert alert-block alert-warning\">\n\n**Sample Responses:**\n\n***GLM Notation:***\n\n- $Y_i = -1.23 + 0.02X_{1i} + 0.02X_{2i} + e_i$\n\nA few ways to write the GLM with variable names:\n- $proportion\\_fem_i = -1.23 + 0.02sound\\_db_{i} + 0.02bafflingyes_{i} + e_i$\n- $propfem_i = -1.23 + 0.02sound_{i} + 0.02baffyes_{i} + e_i$\n\n***Interpret Parameter Estimates:***\n\n- $b_0$ = -1.23, this is the y-intercept, or the predicted `proportion_fem` when `sound_db` is 0 and `bafflingyes` is 0.\n\n- $b_1$ = 0.02, this is the slope of the regression line, or the adjustment to predicted `proportion_fem` for each unit increase of `sound_db`. \n\n- $b_2$ = 0.02, this is the adjustment (or the difference between groups) to predicted `proportion_fem` for a group that heard baffling.\n\n- All parameter estimates are fit assuming that there are two explanatory variables (`sound_db` and `bafflingyes` in the model).\n</div>\n"
    },
    {
      "cell_type": "markdown",
      "metadata": {
        "cell_id": "b54c3513340844629eca461d8f76a07c",
        "deepnote_cell_type": "markdown"
      },
      "source": "**1.4:** Put the predictions of the multivariate model on the plot (you can chain on `gf_model()` like you did with plots for one-predictor models), and connect your parameter estimates to what you see on the plot."
    },
    {
      "cell_type": "code",
      "execution_count": null,
      "metadata": {
        "allow_embed": false,
        "cell_id": "ce16fdb5903544a4a6508d7356dbc1d9",
        "deepnote_cell_type": "code",
        "deepnote_to_be_reexecuted": false,
        "execution_millis": 769,
        "execution_start": 1713554750287,
        "output_cleared": false,
        "source_hash": null,
        "trusted": true
      },
      "outputs": [],
      "source": "# Sample Responses\n\ngf_point(proportion_fem ~ sound_db, data = female_pref) %>%\n    gf_facet_grid(baffling ~ .) %>%\n    gf_model(baffling_db_model)\n    \ngf_point(proportion_fem ~ sound_db, data = female_pref) %>%\n    gf_facet_grid(. ~ baffling) %>%\n    gf_model(baffling_db_model)\n\ngf_point(proportion_fem ~ sound_db, color = ~baffling, data = female_pref) %>%\n    gf_model(baffling_db_model)\n\n"
    },
    {
      "cell_type": "markdown",
      "metadata": {
        "cell_id": "7833c8d021e340f59fd99662cca922a5",
        "deepnote_cell_type": "markdown",
        "tags": []
      },
      "source": "**1.5:** Make some predictions with the model, and find the predictions in your visualization:\n\n- What would the model predict for a baffling group at 70 db? 0 db?\n- What would the model predict for a non-baffling group at 70 db? 0 db?\n\nWhy do we sometimes get negative predictions? Are those reasonable predictions? Why does this happen?"
    },
    {
      "cell_type": "code",
      "execution_count": null,
      "metadata": {
        "cell_id": "1d59b0bc19974436878fb0c745095e56",
        "deepnote_cell_type": "code",
        "deepnote_to_be_reexecuted": false,
        "execution_millis": 595,
        "execution_start": 1713554751058,
        "output_cleared": false,
        "source_hash": null,
        "tags": [],
        "trusted": true
      },
      "outputs": [],
      "source": "# Sample Responses\n\n# baffling at 70 db\n-1.23 + 0.02*70 +.023\n\n# no baffling at 70 db\n-1.23 + 0.02*70 \n\n# baffling at 0 db\n-1.23 + 0.02*0 +.023\n\n# no baffling at 0 db\n-1.23 + 0.02*0 "
    },
    {
      "cell_type": "markdown",
      "metadata": {
        "cell_id": "6d5a124960bd4b168bafaf740ca59053",
        "deepnote_cell_type": "markdown",
        "tags": []
      },
      "source": "<div class=\"alert alert-block alert-warning\">\n\n**Sample Response:**\n\nSometimes we get negative predictions because the regression line drops below 0. Predictions that are less than 0 do not make sense because we cannot have a negative proportion of females moving towards the speakers. Proportion is limited to between 0 and 1.\n\nThis is happening because the model is based on `sound_db` that goes from about 60-80. The model isn't great at making predictions based on `sound_db` outside this range. That's called \"extrapolation\" beyond the data.\n\nIn this case, when we try to make predictions with this model about what would happen in silence (`sound_db` = 0), the model makes clearly nonsensical predictions.\n\n</div>\n"
    },
    {
      "cell_type": "markdown",
      "metadata": {
        "cell_id": "1d46916c35c9490f8d686cd722a70f73",
        "deepnote_cell_type": "markdown",
        "tags": []
      },
      "source": "**1.6:** Based on what you have looked at so far, what would you conclude about the researchers' experiment?"
    },
    {
      "cell_type": "markdown",
      "metadata": {
        "cell_id": "89a7a8bd25c94d76b9001be542a92893",
        "deepnote_cell_type": "markdown",
        "tags": []
      },
      "source": "<div class=\"alert alert-block alert-warning\">\n\n**Sample Response:**\n\nIt looks like females tend to go towards louder cricket sounds and baffled cricket sounds are on the loud so they also go towards bafflers. Baffling works!\n\n</div>\n"
    },
    {
      "cell_type": "markdown",
      "metadata": {
        "cell_id": "496f3f42f1e84b4d8d6d2df179fbf781",
        "deepnote_cell_type": "markdown",
        "tags": []
      },
      "source": "<div class=\"alert alert-block alert-success\">\n\n### 2.0 - Approximate Time:  20-25 mins\n\n</div>"
    },
    {
      "cell_type": "markdown",
      "metadata": {
        "cell_id": "f1a40ff5b94c454f946e0d285bae88ea",
        "deepnote_cell_type": "markdown"
      },
      "source": "## Study 2: Does amplification lead to better sexual outcomes?\n\n### 2.0: The `mating` data\n\nThis data frame has 40 trials where females were played chirps recorded from relatively quiet males.\n\nBut this time only one speaker played chirps. These chirps were randomly assigned to be played naturally or artificially amplified. When the female approached a petri dish stationed near the speaker, researchers introduced the male responsible for the chirps into the petri dish. There is very little rejection apparently in tree cricket mating so all couples mated and researchers recorded the length of attachment in seconds. \n\n<img src=\"https://coursekata-course-assets.s3.us-west-1.amazonaws.com/UCLATALL/czi-stats-course/jnb_6w3nY4NQ-image.png\" width=400>\n\nThere are 4 variables in the `mating` data frame:\n\n- `attach_sec` length of time attached during mating\n- `male_sound` all males were relatively quiet males gathered from the field \n- `amplified` whether the recorded sound was artificially amplified or not\n- `male_size` males were categorized as small, medium, large\n- `male_size_mm` length of males  measured in mm"
    },
    {
      "cell_type": "code",
      "execution_count": null,
      "metadata": {
        "cell_id": "8a08421a84ca43028f5ee48cc39d926b",
        "deepnote_cell_type": "code",
        "deepnote_to_be_reexecuted": false,
        "execution_millis": 531,
        "execution_start": 1713554751123,
        "output_cleared": false,
        "source_hash": null,
        "trusted": true
      },
      "outputs": [],
      "source": "# Run this code to take a look at the data frame\nhead(mating)"
    },
    {
      "cell_type": "markdown",
      "metadata": {
        "cell_id": "87a88230538747e8a9f333874c7693e4",
        "deepnote_cell_type": "markdown",
        "tags": []
      },
      "source": "**2.1:** Write a word equation for the hypothesis that amplification and size (in mm) can explain variation in attachment time, and make a visualization to explore it! What do you notice?"
    },
    {
      "cell_type": "markdown",
      "metadata": {
        "cell_id": "cfb0b5aff4fd4549becee2d651648d30",
        "deepnote_cell_type": "markdown",
        "tags": []
      },
      "source": "<div class=\"alert alert-block alert-warning\">\n\n**Sample Responses:**\n\n*Word Equations*\n\n- attach_sec = male_size_mm + amplified + error\n\n- attach_sec = amplified + male_size_mm + other stuff\n\n*Visualization descriptions*\n\n- I notice that the attach_sec goes up as male_size_mm goes up, and it also goes up for those in the amplified group.\n\n</div>\n"
    },
    {
      "cell_type": "code",
      "execution_count": null,
      "metadata": {
        "allow_embed": false,
        "cell_id": "721dd992270e46239eb839ea5d13e497",
        "deepnote_cell_type": "code",
        "deepnote_to_be_reexecuted": false,
        "execution_millis": 533,
        "execution_start": 1713554751123,
        "output_cleared": false,
        "source_hash": null,
        "trusted": true
      },
      "outputs": [],
      "source": "# Sample Responses\n\ngf_point(attach_sec ~ male_size_mm, data = mating) %>%\n    gf_facet_grid(amplified ~ .)\n    \ngf_point(attach_sec ~ male_size_mm, data = mating) %>%\n    gf_facet_grid(. ~ amplified)\n\ngf_point(attach_sec ~ male_size_mm, color = ~amplified, data = mating)"
    },
    {
      "cell_type": "markdown",
      "metadata": {
        "cell_id": "4fbde2f61ed2464f8a736ca9b686aa2c",
        "deepnote_cell_type": "markdown"
      },
      "source": "**2.2:** Generate the best fitting multivariate model.\n"
    },
    {
      "cell_type": "code",
      "execution_count": null,
      "metadata": {
        "cell_id": "0ad42e13729349068f0bdce1e34fd193",
        "deepnote_cell_type": "code",
        "deepnote_to_be_reexecuted": false,
        "execution_millis": 527,
        "execution_start": 1713554751658,
        "output_cleared": false,
        "source_hash": null,
        "trusted": true
      },
      "outputs": [],
      "source": "# here is a one predictor model to get you started\nlm(attach_sec ~ amplified, data = mating)"
    },
    {
      "cell_type": "code",
      "execution_count": null,
      "metadata": {
        "allow_embed": false,
        "cell_id": "571f22d5055043f1bafe776c4d7ab89b",
        "deepnote_cell_type": "code",
        "deepnote_to_be_reexecuted": false,
        "execution_millis": 506,
        "execution_start": 1713554751679,
        "output_cleared": false,
        "source_hash": null,
        "trusted": true
      },
      "outputs": [],
      "source": "# Sample Response\n\namp_size_model <- lm(attach_sec ~ amplified + male_size_mm, data = mating)\namp_size_model"
    },
    {
      "cell_type": "markdown",
      "metadata": {
        "cell_id": "db025ca757204163aa62ab71ef6d8c80",
        "deepnote_cell_type": "markdown"
      },
      "source": "**2.3:** Put the model into GLM notation and interpret the parameter estimates."
    },
    {
      "cell_type": "markdown",
      "metadata": {
        "cell_id": "8d186f99f8e244f08fbd18decac48050",
        "deepnote_cell_type": "markdown",
        "tags": []
      },
      "source": "***GLM Notation:***\n\n$Y_i = b_0 + b_1X_{1i} + b_2X_{2i} + e_i$"
    },
    {
      "cell_type": "markdown",
      "metadata": {
        "cell_id": "f8d49f388cbe472aa9f87031a5ce87eb",
        "deepnote_cell_type": "markdown",
        "tags": []
      },
      "source": "<div class=\"alert alert-block alert-warning\">\n\n**Sample Responses:**\n\n***GLM Notation:***\n\n- $Y_i = -9795.1 + 617.8X_{1i} + 972.9X_{2i} + e_i$\n\nA few ways to write the GLM with variable names:\n- $attach\\_sec_i = -9795.1 + 617.8amplifiedyes_{i} + 972.9male\\_size\\_mm_{i} + e_i$\n- $attach_i = -9795.1 + 617.8ampliyes_{i} + 972.9malesize_{i} + e_i$\n\n***Interpret Parameter Estimates:***\n\n- $b_0$ = -9795.1, this is the y-intercept, or the predicted `attach_sec` when `amplifiedyes` is 0 and `male_size_mm` is 0.\n\n- $b_1$ = 617.8, this is the adjustment to to predicted `attach_sec` if female was an amplified (yes) group. \n\n- $b_2$ = 972.9, this is the slope of the regression line, or the adjustment to predicted `attach_sec` for each 1 unit increase of `male_size_mm`. \n\n</div>\n"
    },
    {
      "cell_type": "markdown",
      "metadata": {
        "cell_id": "5737e34600b4444b960535f58a04420b",
        "deepnote_cell_type": "markdown"
      },
      "source": "**2.4:** Put the predictions of the multivariate model on the plot (you can chain on `gf_model()` like you did with plots for one-predictor models), and connect your parameter estimates to what you see on the plot."
    },
    {
      "cell_type": "code",
      "execution_count": null,
      "metadata": {
        "allow_embed": false,
        "cell_id": "697f77dadd984072ace691c5ff6213b3",
        "deepnote_cell_type": "code",
        "deepnote_to_be_reexecuted": false,
        "execution_millis": 599,
        "execution_start": 1713554751728,
        "output_cleared": false,
        "source_hash": null,
        "trusted": true
      },
      "outputs": [],
      "source": "# Sample Responses\n\ngf_point(attach_sec ~ male_size_mm, data = mating) %>%\n    gf_facet_grid(amplified ~ .) %>%\n    gf_model(amp_size_model)\n    \ngf_point(attach_sec ~ male_size_mm, data = mating) %>%\n    gf_facet_grid(. ~ amplified) %>%\n    gf_model(amp_size_model)\n\ngf_point(attach_sec ~ male_size_mm, color = ~amplified, data = mating) %>%\n    gf_model(amp_size_model)\n\n"
    },
    {
      "cell_type": "markdown",
      "metadata": {
        "cell_id": "ba233b2026c2477ba953a380aa4d4897",
        "deepnote_cell_type": "markdown",
        "tags": []
      },
      "source": "**2.5:** Make some predictions with the model, and find the predictions in your visualization:\n\n- What would the model predict for an amplified group at 11 mm? 0 mm?\n- What would the model predict for a non-amplified group at 11 mm? 0 mm?\n\nWhy do we sometimes get negative predictions? Are those reasonable predictions? Why does this happen?"
    },
    {
      "cell_type": "code",
      "execution_count": null,
      "metadata": {
        "allow_embed": false,
        "cell_id": "d1b6bfc107ff4028a5ff25ab6f4556c4",
        "deepnote_cell_type": "code",
        "deepnote_to_be_reexecuted": false,
        "execution_millis": 372,
        "execution_start": 1713554752329,
        "output_cleared": false,
        "source_hash": null,
        "tags": [],
        "trusted": true
      },
      "outputs": [],
      "source": "# Sample Responses\n\n# amplified at 11 mm\n-9795.1 + 972.9*11 + 617.8\n\n# non-amplified at 11 mm\n-9795.1 + 972.9*11 + 0\n\n# amplified at 0 mm\n-9795.1 + 972.9*0 + 617.8\n\n# non-amplified at 0 mm\n-9795.1 + 972.9*0 + 0"
    },
    {
      "cell_type": "markdown",
      "metadata": {
        "cell_id": "223b10757eff4aa59e7e848e11f0d0ed",
        "deepnote_cell_type": "markdown",
        "tags": []
      },
      "source": "<div class=\"alert alert-block alert-warning\">\n\n**Sample Response:**\n\nSometimes we get negative predictions because the regression line drops below 0. Predictions that are less than 0 do not make sense because we cannot have a negative number of seconds of attachment. Seconds has to be greater than or equal to 0.\n\nThis is happening because the model is based on `male_size_mm` that goes from about 10-13. The model isn't great at making predictions based on male size outside this range. That's called \"extrapolation\" beyond the data.\n\nIn this case, when we try to make predictions with this model about what would happen to a male of 0 size (also ridiculous), the model makes clearly nonsensical predictions.\n\n</div>\n"
    },
    {
      "cell_type": "markdown",
      "metadata": {
        "cell_id": "f8d2719e0d0b4af69c0dd4f35d9ed005",
        "deepnote_cell_type": "markdown",
        "tags": []
      },
      "source": "**2.6:** Based on what you have looked at so far, what would you conclude about the researchers' experiment?"
    },
    {
      "cell_type": "markdown",
      "metadata": {
        "cell_id": "2e26ca3a537a431e8d2d995e5ab6debb",
        "deepnote_cell_type": "markdown",
        "tags": []
      },
      "source": "<div class=\"alert alert-block alert-warning\">\n\n**Sample Response:**\n\nIt appears that females spend more time attached to crickets that are larger, and louder.\n\n</div>\n"
    },
    {
      "cell_type": "markdown",
      "metadata": {
        "cell_id": "04154217ae4c46638bd7bfcbe928def4",
        "deepnote_cell_type": "markdown",
        "tags": []
      },
      "source": "### 3.0: The Practice of Data Science\n\nLet's reflect on how what we did connects to the workflow of data science: (1) explore variation, (2) model variation, and (3) evaluate your model. \n\n**3.1:** For each of the two studies you've analyzed above (sections 1.0 and 2.0), identify which parts correspond to (1), (2), and (3)."
    },
    {
      "cell_type": "markdown",
      "metadata": {
        "cell_id": "a136b7a6807e4ab09cd5298ea4a67eec",
        "deepnote_cell_type": "markdown",
        "tags": []
      },
      "source": "<div class=\"alert alert-block alert-warning\">\n\n**Sample Response:**\n\nFor each study:\n\n- Explore variation: Writing word equations, creating exploratory visualizations.\n- Model variation: Fitting the models, putting them into GLM notation, making predictions with the models.\n- Evaluate models: Drawing conclusions about the hypotheses.\n\n</div>\n"
    }
  ],
  "metadata": {
    "deepnote_notebook_id": "80406de0106443f49682a2c46859aae6",
    "kernelspec": {
      "display_name": "R",
      "language": "R",
      "name": "ir"
    },
    "language_info": {
      "codemirror_mode": "r",
      "file_extension": ".r",
      "mimetype": "text/x-r-source",
      "name": "R",
      "pygments_lexer": "r",
      "version": "4.3.3"
    },
    "nbsimplegrader": {
      "publish_config": {
        "classes": [],
        "options": [],
        "tools": []
      }
    }
  },
  "nbformat": 4,
  "nbformat_minor": 1
}