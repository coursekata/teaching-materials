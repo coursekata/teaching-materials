{
  "cells": [
    {
      "cell_type": "markdown",
      "metadata": {
        "cell_id": "adb270694786471dbf78b5cc64c076f8",
        "deepnote_cell_type": "markdown",
        "tags": []
      },
      "source": "# 13B: Happy College Students"
    },
    {
      "cell_type": "code",
      "execution_count": null,
      "metadata": {
        "cell_id": "d00fcedbf0ea4f39a218966aea9e3347",
        "deepnote_cell_type": "code",
        "deepnote_to_be_reexecuted": false,
        "execution_millis": 2478,
        "execution_start": 1679797230804,
        "output_cleared": false,
        "source_hash": "73e2b64",
        "tags": [],
        "trusted": true
      },
      "outputs": [],
      "source": "# this loads the packages and functions used in coursekata \nsuppressPackageStartupMessages({\n    library(coursekata)\n})\n\n# loads data & creates factor variables\nuniv <- read.csv(\"https://docs.google.com/spreadsheets/d/e/2PACX-1vToEmFPyz81gyEvNWm7V8J7Iq9cqhfZ_Dg7XB7siW1M1v7GaQjBrgxYTbRsNbILytQ2ySeHCzVQ7NlQ/pub?output=csv\")\nhappy_univ <- na.omit(select(univ, university_name, code, percent_smiles, num_students, student_staff_ratio, female_male_ratio, world_rank_times, world_rank_cwur, national_rank, quality_of_education))\n\n# removes scientific notation from this notebook\noptions(scipen = 999)"
    },
    {
      "cell_type": "markdown",
      "metadata": {
        "cell_id": "4158eaac7b9a46e9b6efdd510e15eb3e",
        "deepnote_cell_type": "markdown",
        "tags": []
      },
      "source": "<img src=\"https://news.calstatela.edu/wp-content/uploads/2021/07/Streamers2.jpg\" alt=\"thrilled college students at graduation\" width = 80%>\n\n## Good Times in College\n\nCollege can be life changing in many ways and for many people, it's the site of some happy memories. For example, for [one in 7 married Americans](https://www.prnewswire.com/news-releases/only-1-in-3-us-marriage-proposals-are-a-surprise-engagement-ring-spend-rises-according-to-the-knot-2017-jewelry--engagement-study-300552669.html), college is the place where they met their future spouse.\n\nData analysts at [Resume.io](Resume.io) used Instagram and Amazon Rekognition (an AI tool that measures levels of emotion in human faces) to estimate the happiness levels. Thousands of Instagram photos geotagged at different universities were put through the AI tool. The data set called `happy_univ` contains the proportion of faces that register as \"happy\" for 126 universities in three different countries (United States, Great Britain, and Australia). \n\nYou can read more about Resume.io's methodology [here](https://resume.io/blog/the-happiest-schools-in-the-us-uk-and-australia) and special thanks to [Dr. Jess Hartnett](https://twitter.com/Notawful) for finding this data set.\n\n## College rankings\n\nInformation about happiness from IG photos were joined together with other information available about colleges such as the [Times Higher Education world rankings](https://www.timeshighereducation.com/world-university-rankings/2016/world-ranking/detailed) and the [Center for World University Rankings (CWUR) rankings](https://cwur.org/2015.php).\n\n"
    },
    {
      "cell_type": "markdown",
      "metadata": {
        "cell_id": "4abf28ebe9fe4abc9fc05a90cf77e2bf",
        "deepnote_cell_type": "markdown"
      },
      "source": "## 1.0: Explore Variation\n\n"
    },
    {
      "cell_type": "code",
      "execution_count": null,
      "metadata": {
        "cell_id": "f3d75475bf1847fe8422974cf13c3f3a",
        "deepnote_cell_type": "code",
        "deepnote_to_be_reexecuted": false,
        "execution_millis": 19,
        "execution_start": 1679797233300,
        "source_hash": "978ebdee",
        "trusted": true
      },
      "outputs": [],
      "source": "head(happy_univ)"
    },
    {
      "cell_type": "markdown",
      "metadata": {
        "cell_id": "fb9aa61e136542908e525b8d1e7b2ddb",
        "deepnote_cell_type": "markdown"
      },
      "source": "**1.1:** Which variables do you want to know more about?"
    },
    {
      "cell_type": "markdown",
      "metadata": {
        "cell_id": "19a6800c05de49b7b293ab497b69d3ef",
        "deepnote_cell_type": "markdown",
        "tags": []
      },
      "source": "### About `happy_univ`\n\nThe `happy_univ` data frame has data from 126 universities:\n\n- `university_name`  name of university\n- `code` the country the university is in represented by the [ISO code](https://en.wikipedia.org/wiki/ISO_3166-1_alpha-3#:~:text=ISO%203166%2D1%20alpha%2D3%20codes%20are%20three%2Dletter,special%20areas%20of%20geographical%20interest.) (USA, GBR, and AUS) \n- `percent_smiles` the percentage of IG photos geotagged at the university that contained a \"happy\" face according to [Amazon Rekognition](https://aws.amazon.com/rekognition/image-features/?trk=a7f57dee-fc58-4084-9037-cb552d58a5d5&sc_channel=ps&s_kwcid=AL!4422!3!637214078536!!!g!!&ef_id=Cj0KCQiA2-2eBhClARIsAGLQ2Rm9FFHZ3SZWDNTC4EAnVW-3hR1kLU6lXBjQFV8zJ7WsAPOtUGTQ3Q0aAmbWEALw_wcB:G:s)\n- `num_students` how many fully enrolled students (from Times Higher Ed, 2016)\n- `student_staff_ratio` the ratio of students to staff (from Times Higher Ed, 2016)\n- `female_male_ratio` the ratio of female to male students (from Times Higher Ed, 2016)\n- `world_rank_times` international rank according (from Times Higher Ed, 2016), lower numbers indicate higher rankings (e.g., 1 is a better rank than 10); beyond 200 the rankings are categorical (e.g., there may be several schools ranked 300)\n- `world_rank_cwur` international rank (from [Center for World University Rankings, 2015](https://cwur.org/2015.php)), lower numbers indicate higher rankings (e.g., 1 is a better rank than 10)\n- `national_rank` rank compared to other schools in the same country (from [Center for World University Rankings, 2015](https://cwur.org/2015.php)), lower numbers indicate higher rankings (e.g., 1 is a better rank than 10)\n- `quality_of_education` based on the academic success of a university’s alumni, and measured by the number of a university's alumni who have won prestigious academic distinctions relative to the university's size (from [Center for World University Rankings, 2015](https://cwur.org/2015.php))\n"
    },
    {
      "cell_type": "markdown",
      "metadata": {
        "cell_id": "4ea9be31bf934922a56bf27f881b0717",
        "deepnote_cell_type": "markdown"
      },
      "source": "**1.2:** Write a few word equations to try and predict variation in `percent_smiles` and explore with visualizations."
    },
    {
      "cell_type": "markdown",
      "metadata": {
        "cell_id": "648ceb07cdef4eb684686c3d1d4d2250",
        "deepnote_cell_type": "markdown"
      },
      "source": "**1.3:** Take a look at the visualization below. What's the corresponding word equation to go with it?"
    },
    {
      "cell_type": "code",
      "execution_count": null,
      "metadata": {
        "cell_id": "7036bed329404f5db8716d2f46e097b6",
        "deepnote_cell_type": "code",
        "deepnote_to_be_reexecuted": false,
        "execution_millis": 851,
        "execution_start": 1679797233321,
        "source_hash": "73b4313c",
        "trusted": true
      },
      "outputs": [],
      "source": "gf_point(percent_smiles ~ world_rank_times, data = happy_univ, color = ~code) %>%\n  gf_facet_wrap(~ code)"
    },
    {
      "cell_type": "markdown",
      "metadata": {
        "cell_id": "10e975d5f3a44ad2a88424eddf4c7187",
        "deepnote_cell_type": "markdown"
      },
      "source": "## 2.0: Model Variation"
    },
    {
      "cell_type": "markdown",
      "metadata": {
        "cell_id": "6bcee4dcafc246e991f00474d1073e4b",
        "deepnote_cell_type": "markdown"
      },
      "source": "**2.1:** Create a multivariate model and place it onto the visualization below."
    },
    {
      "cell_type": "markdown",
      "metadata": {
        "cell_id": "fedda4b30e5b46cd80d47ac210262468",
        "deepnote_cell_type": "markdown"
      },
      "source": "**2.2:** Interpret the parameter estimates."
    },
    {
      "cell_type": "markdown",
      "metadata": {
        "cell_id": "8d0e619723e141b99baf55d044c2b38e",
        "deepnote_cell_type": "markdown"
      },
      "source": "## 3.0: Evaluate Models"
    },
    {
      "cell_type": "markdown",
      "metadata": {
        "cell_id": "fbeaec97163f452d9fb1ab9b4d62d8f0",
        "deepnote_cell_type": "markdown"
      },
      "source": "**3.1, Discussion:** What are some ways we might evaluate this model in comparison to the empty model in the DGP?"
    },
    {
      "cell_type": "markdown",
      "metadata": {
        "cell_id": "287bd647fb814f0a91a805c49b718734",
        "deepnote_cell_type": "markdown"
      },
      "source": "**3.2:** This multivariate model *does* explain more variation in this sample than the empty model. How much more? Is that value \"a lot\"?"
    },
    {
      "cell_type": "markdown",
      "metadata": {
        "cell_id": "e5cd7a7ea983496499dedf052b6f40bc",
        "deepnote_cell_type": "markdown"
      },
      "source": "The problem is this: The empty model of the DGP (one where `percent_smiles` is unrelated to `world_rank_times` and `code`) **could** have created a PRE as large (or larger) than .0744. It's possible. But is it likely? \n\n**3.3:** Is our sample PRE one of the likely PREs to be generated by the empty model? Use simulations to figure this out."
    },
    {
      "cell_type": "code",
      "execution_count": null,
      "metadata": {
        "cell_id": "1b62b6b437d04232b5a5361519edc306",
        "deepnote_cell_type": "code",
        "deepnote_to_be_reexecuted": false,
        "execution_millis": 23,
        "execution_start": 1679797235042,
        "source_hash": "9e4fc076",
        "trusted": true
      },
      "outputs": [],
      "source": "# modify this code\npre(percent_smiles ~ world_rank_times + code, data = happy_univ)"
    },
    {
      "cell_type": "markdown",
      "metadata": {
        "cell_id": "64d7280da8234997826ffd150b53b3c1",
        "deepnote_cell_type": "markdown"
      },
      "source": "**3.4:** Approximately, what percentage of empty model generated PREs are larger than the sample PRE (.0744)? "
    },
    {
      "cell_type": "markdown",
      "metadata": {
        "cell_id": "4f366cf90b77455fac1eaa4f7565b7b5",
        "deepnote_cell_type": "markdown"
      },
      "source": "**3.5:** So what do we think -- is the multivariate model a better contender than the empty model? "
    },
    {
      "cell_type": "markdown",
      "metadata": {
        "cell_id": "754a5a7bd8cd4cf997495d6e2fe12560",
        "deepnote_cell_type": "markdown"
      },
      "source": "**3.6:** Does this mean the two predictors (`world_rank_times` and country `code`) are both equally valuable predictors? Why or why not?"
    },
    {
      "cell_type": "markdown",
      "metadata": {
        "cell_id": "cf35082b18e44385949418655712d525",
        "deepnote_cell_type": "markdown"
      },
      "source": "**3.7, bonus:** Here are the ANOVA tables for two models:\n- **percent smile = rank + country code + other stuff**\n- **percent smile = country code + other stuff**\n\nWhich has the higher F? Why?"
    },
    {
      "cell_type": "code",
      "execution_count": null,
      "metadata": {
        "cell_id": "c10bd38c029a48298c495fcf7505c959",
        "deepnote_cell_type": "code",
        "deepnote_to_be_reexecuted": false,
        "execution_millis": 33,
        "execution_start": 1679797424593,
        "source_hash": "164e62ad",
        "trusted": true
      },
      "outputs": [],
      "source": "supernova(lm(percent_smiles ~ world_rank_times + code, data = happy_univ))\nsupernova(lm(percent_smiles ~ code, data = happy_univ))"
    },
    {
      "cell_type": "markdown",
      "metadata": {
        "cell_id": "b53b799bf19643e8b0849f95c485e6d2",
        "deepnote_cell_type": "markdown"
      },
      "source": "## 4.0: Concluding Thoughts"
    },
    {
      "cell_type": "markdown",
      "metadata": {
        "cell_id": "8c94078ec56a4f02877859ebc329e496",
        "deepnote_cell_type": "markdown"
      },
      "source": "**4.1:** Why might some countries have more \"happy\" photos than others? "
    },
    {
      "cell_type": "markdown",
      "metadata": {
        "cell_id": "8aa40ba72f6b41ebacb073e6d39d07e5",
        "deepnote_cell_type": "markdown"
      },
      "source": "**4.2:** What are some issues or questions that might arise from using Instagram photos and AI emotion detection for this research? "
    }
  ],
  "metadata": {
    "deepnote_notebook_id": "c34883ba3b0c4f05a46d9e0ad97b5c23",
    "kernelspec": {
      "display_name": "R",
      "language": "R",
      "name": "ir"
    },
    "language_info": {
      "codemirror_mode": "r",
      "file_extension": ".r",
      "mimetype": "text/x-r-source",
      "name": "R",
      "pygments_lexer": "r",
      "version": "4.3.3"
    },
    "nbsimplegrader": {
      "publish_config": {
        "classes": [],
        "options": [],
        "tools": []
      }
    }
  },
  "nbformat": 4,
  "nbformat_minor": 1
}