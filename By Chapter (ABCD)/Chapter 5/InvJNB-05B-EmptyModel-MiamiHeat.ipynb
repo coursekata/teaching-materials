{
  "cells": [
    {
      "cell_type": "markdown",
      "metadata": {
        "cell_id": "718ed427843a4c528b3575c6826330a8",
        "deepnote_cell_height": 81.953125,
        "deepnote_cell_type": "markdown"
      },
      "source": "# 5B: Home Court Advantage?"
    },
    {
      "cell_type": "code",
      "execution_count": null,
      "metadata": {
        "cell_id": "91cf50d47926417c8652612fb6e17c77",
        "deepnote_cell_height": 114.953125,
        "deepnote_cell_type": "code",
        "execution_context_id": "14fc853d-18c6-4126-ab1f-421ebac3a412",
        "execution_millis": 980,
        "execution_start": 1740776495353,
        "source_hash": "116f7300",
        "trusted": true
      },
      "outputs": [],
      "source": "# This code will load the R packages we will use\nsuppressPackageStartupMessages({\n    library(coursekata)\n})"
    },
    {
      "cell_type": "markdown",
      "metadata": {
        "cell_id": "86570bde5a66483da17c56a86a22b12a",
        "deepnote_cell_height": 1055.21875,
        "deepnote_cell_type": "markdown"
      },
      "source": "We’re going to look at a dataframe called `MiamiHeat`. These are the game log data for the Miami Heat basketball team in 2010-11.\n\nNote, this was a season where Lebron James played for Miami. This was the season where they made it to the NBA finals but lost against the Dallas Mavericks. Here are the variables in this dataframe:\n\nA data frame with 82 observations on the following 33 variables.\n- `MDY` Date the game was played as a date object\n- `Date` Date the game was played as a character string\n- `Location` Away or Home\n- `Opp` Opponent tream\n- `Win` Game result: L or W\n- `FG` Field goals made\n- `FGA` Field goals attempted\n- `FG3` Three-point field goals made\n- `FG3A` Three-point field goals attempted\n- `FT` Free throws made\n- `FTA` Free throws attempted\n- `Rebounds` Total rebounds\n- `OffReb` Offensive rebounds\n- `Assists` Number of assists\n- `Steals` Number of steals\n- `Blocks` Number of shots blocked\n- `Turnovers` Number of turnovers\n- `Fouls` Number of fouls\n- `Points` Number of points scored\n- `OppFG` Opponent's field goals made\n- `OppFGA` Opponent's Field goals attempted\n- `OppFG3` Opponent's Three-point field goals made\n- `OppFG3A` Opponent's Three-point field goals attempted\n- `OppFT` Opponent's Free throws made\n- `OppFTA` Opponent's Free throws attempted\n- `OppOffReb` Opponent's Total rebounds\n- `OppRebounds` Opponent's Offensive rebounds\n- `OppAssists` Opponent's assists\n- `OppSteals` Opponent's steals\n- `OppBlocks` Opponent's shots blocked\n- `OppTurnovers` Opponent's turnovers\n- `OppFouls` Opponent's fouls\n- `OppPoints` Opponent's points scored"
    },
    {
      "cell_type": "markdown",
      "metadata": {
        "cell_id": "ca00f50c1b69406fac004b2c68b9e7c2",
        "deepnote_cell_height": 69.96875,
        "deepnote_cell_type": "markdown"
      },
      "source": "## 1.0 - Thinking About the Question"
    },
    {
      "cell_type": "markdown",
      "metadata": {
        "cell_id": "31effd6d942146a0ab808cc9e4112b3d",
        "deepnote_cell_height": 52.359375,
        "deepnote_cell_type": "markdown"
      },
      "source": "1.1 - Do you think there is a home court advantage in the NBA? Why or why not? "
    },
    {
      "cell_type": "markdown",
      "metadata": {
        "cell_id": "46cba373b00245dc917444e1ca923389",
        "deepnote_cell_height": 74.75,
        "deepnote_cell_type": "markdown"
      },
      "source": "1.2 - If there is a home court advantage, knowing whether the game was played away or home might help us predict the number of points. Write this possible DGP as a word equation."
    },
    {
      "cell_type": "markdown",
      "metadata": {
        "cell_id": "cf9348820ebf473cb7bdea7fcba12e92",
        "deepnote_cell_height": 69.96875,
        "deepnote_cell_type": "markdown"
      },
      "source": "## 2.0 - Exploring the Data "
    },
    {
      "cell_type": "markdown",
      "metadata": {
        "cell_id": "50689a4b8c5a457ea5f2470bfad5bd1a",
        "deepnote_cell_height": 397.71875,
        "deepnote_cell_type": "markdown"
      },
      "source": "2.1 - In a bit, we will make a jitter plot to look at the distribution of Points by Location (Home or Away). Before we do, let’s think about what we might expect to see. If there is such a thing as home court advantage, would the jitter plot look like the one on the left or the right? Explain why you think so.\n\n<img src=\"https://coursekata-course-assets.s3.us-west-1.amazonaws.com/UCLATALL/czi-stats-course/jnb_x0pBnb7r-5-C-plots-A.png\" title=\"On the left, a jitter plot where the one distribution is generally lower than the other. On the right, a jitter plot where the distributions are roughly similar\" />"
    },
    {
      "cell_type": "markdown",
      "metadata": {
        "cell_id": "b14566a8c5f04c32bdcab689d8508424",
        "deepnote_cell_height": 397.71875,
        "deepnote_cell_type": "markdown"
      },
      "source": "2.2 - In a bit, we will shuffle the data and make a jitter plot to see the data pattern that would result from a random Data Generating Process (DGP). Before we do, let’s think about what we might expect to see. If we shuffled our data, would the jitter plot look like the one on the left or the right? Explain why you think so.\n\n<img src=\"https://coursekata-course-assets.s3.us-west-1.amazonaws.com/UCLATALL/czi-stats-course/jnb_x0pBnb7r-5-C-plots-A.png\" title=\"On the left, a jitter plot where the one distribution is generally lower than the other. On the right, a jitter plot where the distributions are roughly similar\" />"
    },
    {
      "cell_type": "markdown",
      "metadata": {
        "cell_id": "24ea30068b38407694e1416b9b88779d",
        "deepnote_cell_height": 74.75,
        "deepnote_cell_type": "markdown",
        "tags": []
      },
      "source": "2.3 - Run the code below. Try changing the numbers for width, size, and alpha to get a sense of how they affect the jitter plot.\n"
    },
    {
      "cell_type": "code",
      "execution_count": null,
      "metadata": {
        "cell_id": "1c4dd8ea010148bcb846bfa2a18f29be",
        "deepnote_cell_height": 65.953125,
        "deepnote_cell_type": "code",
        "output_cleared": true,
        "trusted": true
      },
      "outputs": [],
      "source": "gf_jitter(Points ~ Location, data = MiamiHeat, width = .1, size = 3, alpha = .3)"
    },
    {
      "cell_type": "markdown",
      "metadata": {
        "cell_id": "9c0a6e65f71c457fbdaac8c5b083d84e",
        "deepnote_cell_height": 74.75,
        "deepnote_cell_type": "markdown",
        "tags": []
      },
      "source": "2.4 - Modify the code below to shuffle the data in the jitter plot. Feel free to change the width, size, alpha, color to your liking. Run it a few times to see a few examples of shuffled data.\n"
    },
    {
      "cell_type": "code",
      "execution_count": null,
      "metadata": {
        "cell_id": "dd0d2dcb53914ac88e7e63f5e3692df6",
        "deepnote_cell_height": 65.953125,
        "deepnote_cell_type": "code",
        "output_cleared": true,
        "trusted": true
      },
      "outputs": [],
      "source": "gf_jitter(Points ~ Location, data = MiamiHeat, width = .1, size = 3, alpha = .3, color = \"darkgreen\")"
    },
    {
      "cell_type": "markdown",
      "metadata": {
        "cell_id": "6bb576f1b11e403da449f8b6f6bf0e01",
        "deepnote_cell_height": 74.75,
        "deepnote_cell_type": "markdown"
      },
      "source": "2.5 - Now that we know what the data actually look like and what shuffled data look like, does it look like there is a home court advantage for the Miami Heat?"
    },
    {
      "cell_type": "markdown",
      "metadata": {
        "cell_id": "5329b2e6bf5244d88e2f0d8d4ac94e12",
        "deepnote_cell_height": 74.75,
        "deepnote_cell_type": "markdown"
      },
      "source": "2.6 - Does the real data look like it could have been produced by a random DGP? What is the pattern you see in all these jitter plots (both the real data and shuffled data)?"
    },
    {
      "cell_type": "markdown",
      "metadata": {
        "cell_id": "4703c36780fc4cfdb1ca75adb4d1ca7a",
        "deepnote_cell_height": 69.96875,
        "deepnote_cell_type": "markdown"
      },
      "source": "## 3.0 - Predicting Points for a Future Game\n"
    },
    {
      "cell_type": "markdown",
      "metadata": {
        "cell_id": "fc76eedb8d3941dea96255eee6b17ec9",
        "deepnote_cell_height": 97.140625,
        "deepnote_cell_type": "markdown"
      },
      "source": "3.1 - If we knew that the next game was being played at home, will that help us adjust our prediction of points? Should we adjust up or down? Does that mean `Location` DOES or DOES NOT explain the variation seen in `Points`? How would we write this as a word equation?"
    },
    {
      "cell_type": "markdown",
      "metadata": {
        "cell_id": "971eb9423f224d28985a5bfadd949d45",
        "deepnote_cell_height": 119.53125,
        "deepnote_cell_type": "markdown"
      },
      "source": "3.2 - If I knew that the next game was being played at home, what should I use to predict the points that will be scored by `MiamiHeat`? Should I use the mean of just the home games? Would that be better than using the mean of all the games? Are there any reasons why we might want to use the mean of all the games?"
    },
    {
      "cell_type": "markdown",
      "metadata": {
        "cell_id": "94ba97f3827845749483bb362a1dfd74",
        "deepnote_cell_height": 74.75,
        "deepnote_cell_type": "markdown",
        "tags": []
      },
      "source": "3.3 - Here is the code for creating the jitter plot we made above. How would we add the mean (the best fitting empty model) to this plot? \n"
    },
    {
      "cell_type": "code",
      "execution_count": null,
      "metadata": {
        "cell_id": "68e2d25f672a42deac5307145cddbbf7",
        "deepnote_cell_height": 65.953125,
        "deepnote_cell_type": "code",
        "output_cleared": true,
        "trusted": true
      },
      "outputs": [],
      "source": "gf_jitter(Points ~ Location, data = MiamiHeat, width = .1, size = 3, alpha = .3)"
    },
    {
      "cell_type": "markdown",
      "metadata": {
        "cell_id": "d0fd18a26e394a5a91ba824d9825f11b",
        "deepnote_cell_height": 74.75,
        "deepnote_cell_type": "markdown",
        "tags": []
      },
      "source": "3.4 - Below we have created a shuffled jitter plot and graphed the mean of the shuffled data. \nWhy is the mean the same on both this graph and the one above? Is that just a coincidence?"
    },
    {
      "cell_type": "code",
      "execution_count": null,
      "metadata": {
        "cell_id": "486fe78753764cb6b257613f2a3b8d80",
        "deepnote_cell_height": 155.953125,
        "deepnote_cell_type": "code",
        "output_cleared": true,
        "trusted": true
      },
      "outputs": [],
      "source": "MiamiHeat$shuff_Points <- shuffle(MiamiHeat$Points)\nshuff_Points_stats <- favstats(~ shuff_Points, data = MiamiHeat)\n\ngf_jitter(shuff_Points ~ Location, data = MiamiHeat, width = .1, size = 3, alpha = .3, color = \"darkgreen\") %>%\n    gf_hline(yintercept = ~mean, data = shuff_Points_stats, color = \"skyblue\")\n"
    },
    {
      "cell_type": "markdown",
      "metadata": {
        "cell_id": "beea20d494b1470d8c0e934850376af7",
        "deepnote_cell_height": 52.359375,
        "deepnote_cell_type": "markdown"
      },
      "source": "3.5 - Why is the empty model a stand-in for a DGP of randomness?"
    },
    {
      "cell_type": "markdown",
      "metadata": {
        "cell_id": "6be57ebd05fa46f29245d3564e68847c",
        "deepnote_cell_height": 69.96875,
        "deepnote_cell_type": "markdown"
      },
      "source": "## 4.0 - The Empty Model"
    },
    {
      "cell_type": "markdown",
      "metadata": {
        "cell_id": "a8aaaf46dc374ff08b3dad0c64e8302c",
        "deepnote_cell_height": 97.140625,
        "deepnote_cell_type": "markdown"
      },
      "source": "4.1 - We now have a name for models that don’t have any explanatory variables. For example, this model (Points = other stuff) is an example of an empty model. Let’s update our word equation to include the idea of using the mean as our empty model. "
    },
    {
      "cell_type": "markdown",
      "metadata": {
        "cell_id": "98face2d7f7f4d30a84ffa7404c1732f",
        "deepnote_cell_height": 52.359375,
        "deepnote_cell_type": "markdown"
      },
      "source": "4.2 - Write and run the R code for creating the empty model. "
    },
    {
      "cell_type": "markdown",
      "metadata": {
        "cell_id": "2faaff3b95504f0f980160e340447177",
        "deepnote_cell_height": 74.75,
        "deepnote_cell_type": "markdown"
      },
      "source": "4.3 - If we plotted the empty model’s predictions on our scatterplot, where would those predictions go? How would we do that in R?"
    },
    {
      "cell_type": "markdown",
      "metadata": {
        "cell_id": "f85b6db4b6e24625996295e88e5e8a73",
        "deepnote_cell_height": 52.359375,
        "deepnote_cell_type": "markdown"
      },
      "source": "4.4 - Why are the predictions where they are?\n"
    },
    {
      "cell_type": "markdown",
      "metadata": {
        "cell_id": "8e33542d77034cae88cee49c4a91c508",
        "deepnote_cell_height": 69.96875,
        "deepnote_cell_type": "markdown"
      },
      "source": "## 5.0 - The Mean as “the Middle”"
    },
    {
      "cell_type": "markdown",
      "metadata": {
        "cell_id": "018a03af919643eabcd19d4a1addb7da",
        "deepnote_cell_height": 52.359375,
        "deepnote_cell_type": "markdown"
      },
      "source": "5.1 - If the mean really is \"the middle,\" what does it balance? What are these called?"
    },
    {
      "cell_type": "markdown",
      "metadata": {
        "cell_id": "79454e3c96a94016a9c5e9e9bbaa7e71",
        "deepnote_cell_height": 52.359375,
        "deepnote_cell_type": "markdown",
        "tags": []
      },
      "source": "5.2 - Run the R code below. What are the red lines?"
    },
    {
      "cell_type": "code",
      "execution_count": null,
      "metadata": {
        "cell_id": "8bb6272f2bbb4afcbdda04c1a666544f",
        "deepnote_cell_height": 703.9375,
        "deepnote_cell_type": "code",
        "deepnote_output_heights": [
          480.984375
        ],
        "execution_context_id": "70af3413-e2dc-41bf-b155-70172ebb3d95",
        "execution_millis": 77,
        "execution_start": 1742591536836,
        "source_hash": "c6d7784f",
        "trusted": true
      },
      "outputs": [],
      "source": "empty_model <- lm(Points ~ NULL, data = MiamiHeat)\nMiamiHeat$prediction <- predict(empty_model)\n\ngf_point(Points ~ Game, data = MiamiHeat, size = 2, alpha = .5) %>%\n  gf_facet_grid(. ~ Location) %>%\n  gf_point(prediction ~ Game, alpha = .2) %>%\n  gf_refine(geom_segment(aes(x = Game, y = Points, xend = Game, yend = prediction, color = \"red\"))) \n"
    },
    {
      "cell_type": "markdown",
      "metadata": {
        "cell_id": "aecae30228eb44cc95e4c48634cb9822",
        "deepnote_cell_height": 52.359375,
        "deepnote_cell_type": "markdown"
      },
      "source": "5.3 - Can you show that the mean really is the “middle” (in its own special way) by using R?"
    },
    {
      "cell_type": "markdown",
      "metadata": {
        "cell_id": "fd2adffe78724697b4a665cd31aa7e74",
        "deepnote_cell_height": 97.140625,
        "deepnote_cell_type": "markdown"
      },
      "source": "5.4 - How would we write the empty model in General Linear Model (GLM) notation? How does it align with the word equation we wrote in the previous section? What is the best-fitting estimate for this equation?"
    }
  ],
  "metadata": {
    "deepnote_notebook_id": "3cab57dcf022432cbd406448a8a53f05",
    "kernelspec": {
      "display_name": "R",
      "language": "R",
      "name": "ir"
    },
    "language_info": {
      "codemirror_mode": "r",
      "file_extension": ".r",
      "mimetype": "text/x-r-source",
      "name": "R",
      "pygments_lexer": "r",
      "version": "4.3.3"
    },
    "nbsimplegrader": {
      "publish_config": {
        "classes": [],
        "options": [],
        "tools": []
      }
    }
  },
  "nbformat": 4,
  "nbformat_minor": 1
}