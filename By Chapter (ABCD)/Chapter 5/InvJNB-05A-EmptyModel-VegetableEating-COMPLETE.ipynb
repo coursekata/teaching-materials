{
  "cells": [
    {
      "cell_type": "markdown",
      "metadata": {
        "cell_id": "5e0887d018cd401d97ee771a2fcef145",
        "deepnote_cell_height": 133.953125,
        "deepnote_cell_type": "markdown"
      },
      "source": "<div class=\"alert alert-block alert-danger\">\n\n# 5A: The 5-A-Day Challenge: Investigating State Differences in Vegetable Consumption\n\n**Lesson assumes students have read up through page: 5.5**\n\n**Use with textbook version 6.0+**\n\n</div>"
    },
    {
      "cell_type": "code",
      "execution_count": null,
      "metadata": {
        "cell_id": "fe4fcc03861a4cfaaeb460d9432cce9d",
        "deepnote_cell_type": "code",
        "execution_context_id": "f365d873-ad8a-4504-bd74-a033df02cce3",
        "execution_millis": 6698,
        "execution_start": 1740765392864,
        "output_cleared": false,
        "source_hash": "749251bd",
        "trusted": true
      },
      "outputs": [],
      "source": "# This code will load the R packages we will use\nsuppressPackageStartupMessages({\n    library(coursekata)\n})\n\n# Updated USStates data with election data\nStates <- read.csv(\"https://docs.google.com/spreadsheets/d/e/2PACX-1vSGPPBJEKYHYu563seooxlUmhkUGVHQUeedgHsviPhYv5OtsOOOBnPKdFsIB1J0y6zmxXQ7I_CNnh64/pub?gid=2140707809&single=true&output=csv\")\n\nStates <- States %>% select(State, Region, Population, IQ, Grade8Math, HighSchool, College, Veg, Smokers, PhysicalActivity, Obesity)\n\nStates<-na.omit(States)\n"
    },
    {
      "cell_type": "markdown",
      "metadata": {
        "cell_id": "f6327e593c8b48458dc08e46773fb822",
        "deepnote_cell_type": "markdown"
      },
      "source": "<div class=\"alert alert-block alert-success\">\n\n## Approximate time to complete Notebook: 60-70 Mins\n\n</div>"
    },
    {
      "cell_type": "markdown",
      "metadata": {
        "cell_id": "71a95f0ffd0d44659587918a96395edf",
        "deepnote_cell_type": "markdown"
      },
      "source": "<div class=\"alert alert-block alert-success\">\n\n### 1.0 - Approximate Time: 12-15 mins\n\n</div>"
    },
    {
      "cell_type": "markdown",
      "metadata": {
        "cell_id": "7f52f20ca88841c5baf49f8e2408de0a",
        "deepnote_cell_height": 69.96875,
        "deepnote_cell_type": "markdown"
      },
      "source": "## 1.0 - The Data"
    },
    {
      "cell_type": "markdown",
      "metadata": {
        "cell_id": "8371b082fab94712a7997e60e54aa36c",
        "deepnote_cell_type": "markdown"
      },
      "source": "This dataset includes information about the 50 US states. For this lesson, we have included the following variables: \n\n- `State` Name of state \n- `Region` Area of the country: MW=Midwest, NE=Northeast, S=South, or W=West\n- `Population` Number of residents (in millions)\n- `IQ` Mean IQ score of residents\n- `Grade8Math` Mean score on standardized test administered to 8th graders\n- `HighSchool` Percentage of high school graduates\n- `College` Percentage of residents with college degrees\n- `Veg` Percentage of residents who eat the daily recommended servings of fruits and vegetables\n- `Smokers` Percentage of residents who smoke\n- `PhysicalActivity` Percentage of residents who have competed in a physical activity in past month\n- `Obesity` Percentage of residents classified as obese"
    },
    {
      "cell_type": "markdown",
      "metadata": {
        "cell_id": "9baefb017bfa4a0fbedef1318f065fde",
        "deepnote_cell_height": 97.140625,
        "deepnote_cell_type": "markdown"
      },
      "source": "1.1 - Today, we will be working with the variable `Veg` - the percentage of residents in a state who report eating the recommended amount of vegetables each day. \n\nIn order to get the `Veg` percentages, samples of people in all 50 states were asked this question: “Did you eat at least 5 servings of fruits and vegetables yesterday?” What would be your answer to that question? "
    },
    {
      "cell_type": "markdown",
      "metadata": {
        "cell_id": "3a334de1be2944eda16ec82a69923fcf",
        "deepnote_cell_type": "markdown"
      },
      "source": "<div class=\"alert alert-block alert-warning\">\n\n**Sample Response**\n\n*Student answers will vary.*\n\n</div>\n"
    },
    {
      "cell_type": "markdown",
      "metadata": {
        "cell_id": "3ff5b05453d8495b80424fb11ff44ea5",
        "deepnote_cell_height": 97.140625,
        "deepnote_cell_type": "markdown"
      },
      "source": "1.2 - Could people lie? Could people try to tell the truth and still get it wrong? How would that be an example of “measurement error” (the idea that the data are “off” from what actually happened)? How could you reduce the measurement error that results from lying?"
    },
    {
      "cell_type": "markdown",
      "metadata": {
        "cell_id": "411ff9fb754546d3a9dce6c2144493a7",
        "deepnote_cell_type": "markdown"
      },
      "source": "<div class=\"alert alert-block alert-warning\">\n\n**Sample Response**\n\n- Yes, people could lie, or tell the truth but make a mistake. That would be an example of measurement error because maybe people actually 5 pieces of fruit but forgot about one of the pieces of fruit that they ate.\n- One way we could reduce the measurement error from lying is to actually monitor their daily intake of fruits and veggies.\n\n</div>"
    },
    {
      "cell_type": "markdown",
      "metadata": {
        "cell_id": "2d0aa20bb52b47f8a06a0d2eb71caa63",
        "deepnote_cell_type": "markdown"
      },
      "source": "1.3 - ***Competing hypotheses***\n\nWhich variable do you think will help us explain more variation in `Veg`: `College` or `PhysicalActivity`? Make a prediction. Review the variable descriptions above. "
    },
    {
      "cell_type": "markdown",
      "metadata": {
        "cell_id": "b2f497d23837441e94729706e14f0a46",
        "deepnote_cell_type": "markdown"
      },
      "source": "<div class=\"alert alert-block alert-warning\">\n\n*Student answers will vary.*\n\n**Sample Response**\n\n- I think it is going to be physical activity because that is more closely tied to being healthy, which could predict Veg better. \n- Maybe college because if a state has a lot of college graduates maybe they are more educated and make healthier choices. \n\n**Note to instructors:**\n- A good idea to remind students that are looking at state-level information, not individuals. \n</div>"
    },
    {
      "cell_type": "markdown",
      "metadata": {
        "cell_id": "d5a7cb3a41b64285b49e2413e1011807",
        "deepnote_cell_type": "markdown"
      },
      "source": "1.4 - Create visualizations to explore the two hypotheses above. "
    },
    {
      "cell_type": "code",
      "execution_count": null,
      "metadata": {
        "cell_id": "cec00c63a3e54aa3bdf47e76815894a8",
        "deepnote_cell_type": "code",
        "execution_context_id": "63f9a414-c63a-4b12-94e9-cbc14ee09fde",
        "execution_millis": 357,
        "execution_start": 1740701596382,
        "source_hash": "49843e69",
        "trusted": true
      },
      "outputs": [],
      "source": "#create your visualizations here \n\ngf_point(Veg~PhysicalActivity, data=States)\n\ngf_point(Veg~College, data=States)\n"
    },
    {
      "cell_type": "markdown",
      "metadata": {
        "cell_id": "de0d37be2215483aa8baf2636beb2583",
        "deepnote_cell_type": "markdown"
      },
      "source": "1.5 - Which relationship appears to be \"stronger\"? In other words, which variable explains more variation in `Veg`: `PhysicalActivity` or `College`? Are you surprised by this? "
    },
    {
      "cell_type": "markdown",
      "metadata": {
        "cell_id": "b856e18ec4ee4de4b9b6b25317d04ef3",
        "deepnote_cell_type": "markdown"
      },
      "source": "<div class=\"alert alert-block alert-warning\">\n\n**Sample response:**\n\nBoth variables (College and Physical Activity) explain variation in Veg. However, College seems stronger. The dots are closer together. Knowing a state's college percentage would be able to help us make a better prediction of their Veg than knowing their Physical Activity.  \n\n**Note to instructors:**\nWhether they are surprised will depend on their previous prediction. It could be surprising because it seems that physical activity and vegetable eating should be more related than vegetable eating and college. \n\n</div>"
    },
    {
      "cell_type": "markdown",
      "metadata": {
        "cell_id": "3ba0903f55944393bb3e13e9e3f94f99",
        "deepnote_cell_type": "markdown"
      },
      "source": "<div class=\"alert alert-block alert-success\">\n\n### 2.0 - Approximate Time: 8-10 mins\n\n</div>"
    },
    {
      "cell_type": "markdown",
      "metadata": {
        "cell_id": "ed9658ab9d294c9ab210965961ff7bcc",
        "deepnote_cell_height": 69.96875,
        "deepnote_cell_type": "markdown"
      },
      "source": "## 2.0 - Explaining Variation"
    },
    {
      "cell_type": "markdown",
      "metadata": {
        "cell_id": "e84d49852b6b4686be30416c39a8cb7a",
        "deepnote_cell_height": 74.75,
        "deepnote_cell_type": "markdown"
      },
      "source": "2.1 - It looks like `College` may be a good predictor of `Veg`. \n\nWhat are some reasons (from the data) for suspecting that `College` really does explain some of the variation in `Veg`? How would we write this as a word equation?"
    },
    {
      "cell_type": "markdown",
      "metadata": {
        "cell_id": "35b60efa90ef41dda186e221fc69d364",
        "deepnote_cell_type": "markdown"
      },
      "source": "<div class=\"alert alert-block alert-warning\">\n\n**Sample Response**\n\nThe data shows a lot of higher rates of `Veg` for the states that have higher rates of `College`.\n\n> Veg = College + Other Stuff\n\n</div>"
    },
    {
      "cell_type": "markdown",
      "metadata": {
        "cell_id": "d795531b793c45309b7f555e656e33a6",
        "deepnote_cell_height": 97.140625,
        "deepnote_cell_type": "markdown"
      },
      "source": "2.2 - Does every state fit this pattern? What are some reasons (from the data) for suspecting that `College` DOES NOT explain some of the variation in `Veg`? How would we write this as a word equation?"
    },
    {
      "cell_type": "markdown",
      "metadata": {
        "cell_id": "1e0f5a89df84438e8acf49aff965deb4",
        "deepnote_cell_type": "markdown"
      },
      "source": "<div class=\"alert alert-block alert-warning\">\n\n**Sample Response**\n\nNo, not every state follows this pattern, there is still variation across states, and some high `College` states also have low-medium rates of Veg.\n\n> Veg = Other Stuff\n\n</div>"
    },
    {
      "cell_type": "markdown",
      "metadata": {
        "cell_id": "cbde786ee76f43eeb40a03acdfb216c9",
        "deepnote_cell_height": 74.75,
        "deepnote_cell_type": "markdown"
      },
      "source": "2.3 - Is it possible to have gotten this pattern of data by chance? Write a word equation that represents this possibility."
    },
    {
      "cell_type": "markdown",
      "metadata": {
        "cell_id": "424cc92230d740a4aa697f0f64e0e6fb",
        "deepnote_cell_type": "markdown"
      },
      "source": "<div class=\"alert alert-block alert-warning\">\n\n**Sample Response**\n\nYes, it is possible.\n\n> Veg = Other Stuff\n\n</div>"
    },
    {
      "cell_type": "markdown",
      "metadata": {
        "cell_id": "a283f8aee3e94bcf8ec48e31e1bce3c7",
        "deepnote_cell_type": "markdown"
      },
      "source": "<div class=\"alert alert-block alert-success\">\n\n### 3.0 - Approximate Time: 12-15 mins\n\n</div>"
    },
    {
      "cell_type": "markdown",
      "metadata": {
        "cell_id": "545d8deec2d84089a203cad7efd32d92",
        "deepnote_cell_height": 109.96875,
        "deepnote_cell_type": "markdown"
      },
      "source": "## 3.0 - Maybe It’s All Just Other Stuff"
    },
    {
      "cell_type": "markdown",
      "metadata": {
        "cell_id": "e2ef00b8e18944c9a22dff05f1517f33",
        "deepnote_cell_height": 74.75,
        "deepnote_cell_type": "markdown"
      },
      "source": "3.1 - If we didn't know anything about a state or if we wondered whether this pattern of `College` predicting `Veg`  was maybe just a random fluke, what should we predict a random state's `Veg` to be? "
    },
    {
      "cell_type": "markdown",
      "metadata": {
        "cell_id": "08d097c15dde48e4acf0efce7f9c6dc0",
        "deepnote_cell_type": "markdown"
      },
      "source": "<div class=\"alert alert-block alert-warning\">\n\n**Sample Response**\n\nProbably somewhere in the middle, around 10%.\n\n</div>"
    },
    {
      "cell_type": "markdown",
      "metadata": {
        "cell_id": "bd4b6d7a33124fd3b5675fa069f888f7",
        "deepnote_cell_height": 133.53125,
        "deepnote_cell_type": "markdown"
      },
      "source": "3.2 - We could add your prediction (it could be the mean or median or any other number) into this scatterplot. For now, let’s try adding the mean. \n\nNote that just as the `gf_vline()` function adds vertical lines to the x-axis, `gf_hline()` adds horizontal lines to the y-axis. "
    },
    {
      "cell_type": "code",
      "execution_count": null,
      "metadata": {
        "cell_id": "7f15a94f8dce4e1998db4fe327a96b24",
        "deepnote_cell_type": "code",
        "deepnote_to_be_reexecuted": false,
        "execution_context_id": "f365d873-ad8a-4504-bd74-a033df02cce3",
        "execution_millis": 602,
        "execution_start": 1740765409360,
        "output_cleared": false,
        "source_hash": "38e0cac0",
        "trusted": true
      },
      "outputs": [],
      "source": "Veg_stats <- favstats(~ Veg, data = States)\nVeg_stats\n\n# Add the empty model to this scatterplot\ngf_point(Veg ~ College, data = States)%>%\ngf_hline(yintercept = ~mean, data = Veg_stats)\n\n#Another method \nEmptyModel <-lm(Veg~NULL, data=States)\n\ngf_point(Veg ~ College, data = States)%>%\ngf_model(EmptyModel)\n"
    },
    {
      "cell_type": "markdown",
      "metadata": {
        "cell_id": "fccb2d20be004acd89b053c9e724ca80",
        "deepnote_cell_height": 52.359375,
        "deepnote_cell_type": "markdown"
      },
      "source": "3.3 - Why is the mean represented as a line? Why not a single dot? "
    },
    {
      "cell_type": "markdown",
      "metadata": {
        "cell_id": "3e3ec5bd743c441db07145b483139944",
        "deepnote_cell_type": "markdown"
      },
      "source": "<div class=\"alert alert-block alert-warning\">\n\n**Sample Response**\n\n *Note to Instructor: Come back to this question after next question.*\n\n - Because the mean of Veg is the same whether it is a low, medium, or high veggie eating state.\n - If the mean of Veg was represented a single point, where would you put it? It wouldn't make sense to only put it with the low, med, or high College states.\n - In some ways, representing the mean of Veg as a line says, \"hey -- it doesn't matter what level of College the state is at... the mean of Veg stays the same.\"\n\n </div>"
    },
    {
      "cell_type": "markdown",
      "metadata": {
        "cell_id": "0292177ff029444398565d9f49227c9c",
        "deepnote_cell_height": 74.75,
        "deepnote_cell_type": "markdown"
      },
      "source": "3.4 - Fit the empty model for `Veg`. Then use this model to predict each state’s `Veg` percentage. We’ll then plot the predictions right on top of our original scatterplot."
    },
    {
      "cell_type": "code",
      "execution_count": null,
      "metadata": {
        "cell_id": "77d7694e49084cb9a45d8254f56ef315",
        "deepnote_cell_type": "code",
        "execution_context_id": "63f9a414-c63a-4b12-94e9-cbc14ee09fde",
        "execution_millis": 275,
        "execution_start": 1740701596966,
        "source_hash": "3408013",
        "trusted": true
      },
      "outputs": [],
      "source": "# How do we fit the empty model?\nEmptyModel <-lm(Veg~NULL, data=States)\n\n# How do we generate the predictions from it?\nStates$Prediction <-predict(EmptyModel) \n\n# This will plot the predictions from the empty model\ngf_point(Veg ~ College, data = States, size = 3, alpha = .8) %>%\n    gf_point(Prediction ~ College, size = 3, alpha = .1, color = \"orange\")"
    },
    {
      "cell_type": "markdown",
      "metadata": {
        "cell_id": "df8fd172bdd045e3859fa9c615b0e8cb",
        "deepnote_cell_height": 133.53125,
        "deepnote_cell_type": "markdown"
      },
      "source": "3.5 - Now we will start writing the word equation for the empty model as **Veg = Mean + Other Stuff** (instead of the old way: **Veg = Other Stuff**). \n\nIn the cell below, insert our mean into the equation (i.e., replace \"Mean\" with the prediction of our empty model):"
    },
    {
      "cell_type": "markdown",
      "metadata": {
        "cell_id": "ebe116c428274cc796c39b73223a8502",
        "deepnote_cell_height": 52.5625,
        "deepnote_cell_type": "markdown",
        "tags": []
      },
      "source": "$Veg = Mean + Other Stuff$"
    },
    {
      "cell_type": "markdown",
      "metadata": {
        "cell_id": "4fb7ff68e2ae420289967cc4fb6dafaa",
        "deepnote_cell_type": "markdown"
      },
      "source": "$Veg = 9.65 + Other Stuff$"
    },
    {
      "cell_type": "markdown",
      "metadata": {
        "cell_id": "5ae7b9b88c79421c909f76b569ede867",
        "deepnote_cell_type": "markdown"
      },
      "source": "<div class=\"alert alert-block alert-success\">\n\n### 4.0 - Approximate Time: 12-15 mins\n\n</div>"
    },
    {
      "cell_type": "markdown",
      "metadata": {
        "cell_id": "fbdde42c9d5340a483a0b5ce2bfeae24",
        "deepnote_cell_height": 109.96875,
        "deepnote_cell_type": "markdown"
      },
      "source": "## 4.0 - Simulating a Random Data Generating Process"
    },
    {
      "cell_type": "markdown",
      "metadata": {
        "cell_id": "84ae4dc7029541308dbbb719572e76c2",
        "deepnote_cell_height": 97.140625,
        "deepnote_cell_type": "markdown"
      },
      "source": "4.1 - Remember the gummy bear launches and `NumLifts` experiment? How did we “simulate” a random data generating process? Why is that a “random” process? Which R function acts like that?"
    },
    {
      "cell_type": "markdown",
      "metadata": {
        "cell_id": "a60200ffc9d64dcfbb6195f7d5e9a287",
        "deepnote_cell_type": "markdown"
      },
      "source": "<div class=\"alert alert-block alert-warning\">\n\n**Sample Response**\n\nWe simulated a random process by mixing up all the distances and randomly sorting them into different groups using the `shuffle()` function.\n\n**Note for instructors** \nIf your class did not do the gummy bear launches activity, you can remove this question. \n\n</div>"
    },
    {
      "cell_type": "markdown",
      "metadata": {
        "cell_id": "fa4ee9a3acd8437a86e05dc90c4287c2",
        "deepnote_cell_height": 200.71875,
        "deepnote_cell_type": "markdown"
      },
      "source": "4.2 - One pattern we saw in our data is that generally high `College` states also have high `Veg`. But the definition of “random” includes the idea that high numbers don’t systematically go with low numbers. Instead, randomness means that high numbers could go with low, medium, OR high numbers! If we shuffled `Veg` in this dataframe, would we generate data that looks just like our empirical sample?\n\nWith R, we don’t just have to wonder. We can actually do it. Run the code below a few times. What is it doing? "
    },
    {
      "cell_type": "code",
      "execution_count": null,
      "metadata": {
        "cell_id": "6ac70d6b3b714d50845d1277eb8e649a",
        "deepnote_cell_type": "code",
        "execution_context_id": "63f9a414-c63a-4b12-94e9-cbc14ee09fde",
        "execution_millis": 94,
        "execution_start": 1740701597290,
        "output_cleared": false,
        "source_hash": "2d4b6ec0",
        "trusted": true
      },
      "outputs": [],
      "source": "gf_point(shuffle(Veg) ~ College, data = States)"
    },
    {
      "cell_type": "markdown",
      "metadata": {
        "cell_id": "3e0a2510d88c42e786e562ca3b3c1ba1",
        "deepnote_cell_height": 52.359375,
        "deepnote_cell_type": "markdown"
      },
      "source": "4.3 - Could we put the `shuffle` around `College`? Try it."
    },
    {
      "cell_type": "code",
      "execution_count": null,
      "metadata": {
        "cell_id": "42ff202926d94c75ad12bdca038fdd96",
        "deepnote_cell_type": "code",
        "execution_context_id": "63f9a414-c63a-4b12-94e9-cbc14ee09fde",
        "execution_millis": 232,
        "execution_start": 1740701597429,
        "source_hash": "88d77eb9",
        "trusted": true
      },
      "outputs": [],
      "source": "# You can shuffle Veg AND College\ngf_point(shuffle(Veg) ~ shuffle(College), data = States)\n\n# You can just shuffle College\ngf_point(Veg ~ shuffle(College), data = States)"
    },
    {
      "cell_type": "markdown",
      "metadata": {
        "cell_id": "100d635499854030978f321e1139b87b",
        "deepnote_cell_type": "markdown"
      },
      "source": "<div class=\"alert alert-block alert-warning\">\n\n**Note to Instructors**\n\nWhile shuffling one, the other, or both of the variables will simulate a random DGP in this situation, once we start building multivariate models (adding additional explanatory variables to our models) it will be best to shuffle our outcome variable. So, by convention, we like to encourage this practice early on, so later it will be easier for students to remember which variable to shuffle.\n\n</div>"
    },
    {
      "cell_type": "markdown",
      "metadata": {
        "cell_id": "58afcf70ef884eebb5fd6d9ca68c69b7",
        "deepnote_cell_height": 467.28125,
        "deepnote_cell_type": "markdown"
      },
      "source": "4.4 - One of the scatterplots below is the empirical sample. Does it look any different from the shuffled scatterplots? What are you looking for that is different in the empirical sample?\n\n<img src=\"https://coursekata-course-assets.s3.us-west-1.amazonaws.com/UCLATALL/czi-stats-course/jnb-05A-shuffscatter.png\" title=\"a bunch of shuffled scatterplots\" />"
    },
    {
      "cell_type": "markdown",
      "metadata": {
        "cell_id": "c118bed8b4c442a681be6f151a1828f2",
        "deepnote_cell_type": "markdown"
      },
      "source": "<div class=\"alert alert-block alert-warning\">\n\n**Sample Response**\n\n- Scatterplot number 3 is the empirical sample. \n- The points look like they go in a diagonal line with higher `College` values having higher `Veg` values (and low College with low Veg).\n- In the other scatterplots, sometimes the high `College` go with low `Veg` but that is rarely the case in the empirical sample.\n- Helps to point to the upper left quadrant of the scatterplot (low College and high Veg) and the lower right (high College and low Veg) to see very few data points there in the empirical sample. But in the other randomly generated scatterplots, there are almost always some points in those quadrants.\n\n</div>"
    },
    {
      "cell_type": "markdown",
      "metadata": {
        "cell_id": "0fc400fb9b6046e798b4969e50c0e556",
        "deepnote_cell_height": 74.75,
        "deepnote_cell_type": "markdown"
      },
      "source": "4.5 - Do you think the likelihood of getting a pattern of data like the empirical sample from a random process is high? Low? Medium? Explain your reasoning."
    },
    {
      "cell_type": "markdown",
      "metadata": {
        "cell_id": "2a82b221fc55437db33bcc1258573b5e",
        "deepnote_cell_type": "markdown"
      },
      "source": "<div class=\"alert alert-block alert-warning\">\n\n**Sample Response**\n- Answers will vary but they should be more inclined to say that the likelihood is low-ish because so many of the randomized plots do not follow the pattern of our empirical data.\n- It is hard to generate the pattern we see in the empirical sample from shuffling.\n\n</div>"
    },
    {
      "cell_type": "markdown",
      "metadata": {
        "cell_id": "2433a49895114dffb88ce43dff73e96d",
        "deepnote_cell_type": "markdown"
      },
      "source": "4.6 - What does your answer to the question above suggest about the relationship between `College` and `Veg` that we see in our empirical data?"
    },
    {
      "cell_type": "markdown",
      "metadata": {
        "cell_id": "66cd2e6b11bd4196b895ddb0bb89f453",
        "deepnote_cell_type": "markdown"
      },
      "source": "<div class=\"alert alert-block alert-warning\">\n\n**Sample Response**\n\n- It suggests that there may be a real relationship in the DGP between College and Veg.\n- It suggests that the better model of the DGP might be the one where we include College in our model: Veg = College + Other Stuff.\n\n</div>"
    },
    {
      "cell_type": "markdown",
      "metadata": {
        "cell_id": "45a81fdd2b7e48668afa26c14fe02cdf",
        "deepnote_cell_type": "markdown"
      },
      "source": "<div class=\"alert alert-block alert-success\">\n\n### 5.0 - Approximate Time: 15-20 mins\n\n</div>"
    },
    {
      "cell_type": "markdown",
      "metadata": {
        "cell_id": "98e3cf25cf5c42e8b3fe013a44a2e6bf",
        "deepnote_cell_height": 109.96875,
        "deepnote_cell_type": "markdown"
      },
      "source": "## 5.0 - Connecting the Empty Model and Shuffle"
    },
    {
      "cell_type": "markdown",
      "metadata": {
        "cell_id": "09b26b035f51475e976809e6d21b4d4f",
        "deepnote_cell_height": 74.75,
        "deepnote_cell_type": "markdown"
      },
      "source": "5.1 - If we shuffled `Veg` or `College` in this data frame, would we estimate a different empty model? In other words, would the empty model change?"
    },
    {
      "cell_type": "markdown",
      "metadata": {
        "cell_id": "399d0ed31d4f41ac83e5bac6a90c3e73",
        "deepnote_cell_type": "markdown"
      },
      "source": "<div class=\"alert alert-block alert-warning\">\n\n**Sample Response**\n\n- The empty model would not change. \n- Shuffling the order of the numbers that we add up in veg, won't change the mean (commutative property!).\n- Shuffling the order of College does not change the numbers that get added up in Veg.\n- Empty model (the mean) of Veg does not depend on any of the values in College.\n\n</div>"
    },
    {
      "cell_type": "markdown",
      "metadata": {
        "cell_id": "101216d5bd0b420e840cf6ac13647681",
        "deepnote_cell_height": 52.359375,
        "deepnote_cell_type": "markdown"
      },
      "source": "5.2 - With R, we can try it and see what happens. Explain what each line of code is doing."
    },
    {
      "cell_type": "code",
      "execution_count": null,
      "metadata": {
        "cell_id": "1e86700217244823a28d858b593b4e96",
        "deepnote_cell_type": "code",
        "execution_context_id": "63f9a414-c63a-4b12-94e9-cbc14ee09fde",
        "execution_millis": 0,
        "execution_start": 1740701597706,
        "source_hash": "223307a7",
        "trusted": true
      },
      "outputs": [],
      "source": "# 5.3 - What’s this about?\nStates$shuffled_Veg <- shuffle(States$Veg)"
    },
    {
      "cell_type": "markdown",
      "metadata": {
        "cell_id": "bed6bdece1ab4acea8a6e83906927357",
        "deepnote_app_block_visible": false,
        "deepnote_cell_type": "markdown"
      },
      "source": "<div class=\"alert alert-block alert-warning\">\n\n**Sample Response**\n\nThis code is saving all the shuffled Veg values into a variable in the data frame called `shuffled_Veg`.\n\n</div>"
    },
    {
      "cell_type": "code",
      "execution_count": null,
      "metadata": {
        "cell_id": "c5ba08ac7f6042b09469c5d2fc0b7a12",
        "deepnote_cell_type": "code",
        "execution_context_id": "63f9a414-c63a-4b12-94e9-cbc14ee09fde",
        "execution_millis": 0,
        "execution_start": 1740701597750,
        "source_hash": "d796b0d3",
        "trusted": true
      },
      "outputs": [],
      "source": "# 5.4 -  What’s this about?\nshuffled_Veg_stats <- favstats(~ shuffled_Veg, data = States)\nVeg_stats <- favstats(~ Veg, data = States)"
    },
    {
      "cell_type": "markdown",
      "metadata": {
        "cell_id": "7c337e38e796485b8ef20131de981b81",
        "deepnote_cell_type": "markdown"
      },
      "source": "<div class=\"alert alert-block alert-warning\">\n\n**Sample Response**\n\nThis is saving the `favstats()` for shuffled `Veg` into an object called `shuffled_Veg_stats`. It is also saving the stats for the original (unshuffled) `Veg` variable.\n\n</div>"
    },
    {
      "cell_type": "code",
      "execution_count": null,
      "metadata": {
        "cell_id": "3198e723902c47ceaead1d8f902bbe14",
        "deepnote_cell_type": "code",
        "execution_context_id": "63f9a414-c63a-4b12-94e9-cbc14ee09fde",
        "execution_millis": 118,
        "execution_start": 1740701597793,
        "source_hash": "2608938f",
        "trusted": true
      },
      "outputs": [],
      "source": "# 5.5 - What’s this about?\ngf_point(shuffled_Veg ~ College, data = States, color = \"dodgerblue\") %>%\n    gf_hline(yintercept = ~mean, data = shuffled_Veg_stats)"
    },
    {
      "cell_type": "markdown",
      "metadata": {
        "cell_id": "0c69e894718444c4bd4f83fc0589a907",
        "deepnote_cell_type": "markdown"
      },
      "source": "<div class=\"alert alert-block alert-warning\">\n\n**Sample Response**\n\nThis is creating a point plot of the shuffled_Veg and College and adding a line to the y-axis for the mean of the shuffled Veg.\n\n</div>"
    },
    {
      "cell_type": "code",
      "execution_count": null,
      "metadata": {
        "cell_id": "b460b2ac0ad848718c27fc34b86f3962",
        "deepnote_cell_type": "code",
        "execution_context_id": "63f9a414-c63a-4b12-94e9-cbc14ee09fde",
        "execution_millis": 93,
        "execution_start": 1740701597966,
        "source_hash": "9841e196",
        "trusted": true
      },
      "outputs": [],
      "source": "# 5.6 - What’s this about?\ngf_point(Veg~College, data = States) %>%\n    gf_hline(yintercept = ~mean, data = Veg_stats)"
    },
    {
      "cell_type": "markdown",
      "metadata": {
        "cell_id": "1838c6d2497947e1afdc4859e4a4afa3",
        "deepnote_cell_type": "markdown"
      },
      "source": "<div class=\"alert alert-block alert-warning\">\n\n**Sample Response**\n\nThis is creating a point plot of `Veg` (not shuffled) and `College` and putting a line through the y-axis for the mean of `Veg` (not shuffled).\n\n</div>"
    },
    {
      "cell_type": "markdown",
      "metadata": {
        "cell_id": "67dc2603ce2244a4a43037d9d13ca072",
        "deepnote_cell_height": 97.140625,
        "deepnote_cell_type": "markdown"
      },
      "source": "5.7 - Why is the mean the same on both graphs? Is that just a coincidence? What if you ran the shuffle again, would it calculate a different mean? What if you shuffled `College` -- would that result in a different mean for `Veg`?"
    },
    {
      "cell_type": "markdown",
      "metadata": {
        "cell_id": "331000eeab2a4c4d8e0c18fc2c33e825",
        "deepnote_cell_type": "markdown"
      },
      "source": "<div class=\"alert alert-block alert-warning\">\n\n**Sample Response**\n\n- The mean just calculates the sum of the values divided by n, so it does not matter if you mix the values up (commutative property).\n- `College` (mixed up or not) will not affect the mean of `Veg` because they are a separate column of values).\n\n</div>"
    },
    {
      "cell_type": "markdown",
      "metadata": {
        "cell_id": "f5fd80d5684b4ae0a966d2bc2fa5b29d",
        "deepnote_cell_height": 52.359375,
        "deepnote_cell_type": "markdown"
      },
      "source": "5.8 - Why is the empty model a stand-in for a DGP of randomness?"
    },
    {
      "cell_type": "markdown",
      "metadata": {
        "cell_id": "6274e31ae8d0415db3ffae6156f8c209",
        "deepnote_app_block_visible": false,
        "deepnote_cell_type": "markdown",
        "execution_context_id": "05f155c7-9b8b-46fc-a0b4-a902a8e40669",
        "execution_millis": 2,
        "execution_start": 1738369294690,
        "source_hash": "7232c80e"
      },
      "source": "<div class=\"alert alert-block alert-warning\">\n\n**Sample Responses**\n\n- Because the empty model is not affected by College. \n- The model of randomness is one that is all other stuff and doesn't have College in it.\n- The empty model doesn't take College into account.\n- Another way to start writing the empty model is: Veg = mean + other stuff\n\n</div>"
    }
  ],
  "metadata": {
    "deepnote_notebook_id": "18bb9f6d19a9486b8d449bb25add3670",
    "kernelspec": {
      "display_name": "R",
      "language": "R",
      "name": "ir"
    },
    "language_info": {
      "codemirror_mode": "r",
      "file_extension": ".r",
      "mimetype": "text/x-r-source",
      "name": "R",
      "pygments_lexer": "r",
      "version": "4.3.3"
    },
    "nbsimplegrader": {
      "publish_config": {
        "classes": [],
        "options": [],
        "tools": []
      }
    }
  },
  "nbformat": 4,
  "nbformat_minor": 1
}