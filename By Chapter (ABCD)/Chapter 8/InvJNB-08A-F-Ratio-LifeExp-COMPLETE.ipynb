{
  "cells": [
    {
      "cell_type": "markdown",
      "metadata": {
        "cell_id": "48db4e17629e4a4f8e9607b05e0dcaba",
        "deepnote_cell_type": "markdown",
        "output_cleared": false,
        "tags": []
      },
      "source": "<div class=\"alert alert-block alert-danger\">\n\n# 8A: Life Expectancies Around the World (COMPLETE)\n\n**Lesson assumes students have read up through page: 8.4**\n\n\n**Use with textbook version 6.0+**\n\nNote: If you have used this data before, note that the new version of the data does not include a few of the varibles from the previous version (updated variables were not available), but includes our main variables. Includes more countries (147).\n\n</div>"
    },
    {
      "cell_type": "markdown",
      "metadata": {
        "cell_id": "6c7898153bae430d92c235866de91eb9",
        "deepnote_cell_height": 163.9375,
        "deepnote_cell_type": "markdown",
        "output_cleared": false,
        "tags": []
      },
      "source": "<div class=\"alert alert-block alert-success\">\n\n## Approximate time to complete Notebook: 65-80 Mins\n\n</div>"
    },
    {
      "cell_type": "code",
      "execution_count": null,
      "metadata": {
        "cell_id": "2434cca90e5d455090fba5109a0b1bb0",
        "deepnote_cell_type": "code",
        "deepnote_to_be_reexecuted": false,
        "execution_context_id": "78c2663c-8bce-488b-b4e2-9c1175cc3ec1",
        "execution_millis": 2414,
        "execution_start": 1742586091004,
        "output_cleared": false,
        "source_hash": "98fa19ba",
        "tags": [],
        "trusted": true
      },
      "outputs": [],
      "source": "# This code will load the R packages we will use\nsuppressPackageStartupMessages({\n    library(coursekata)\n})\n\n# Load the data\n\ncsvlink<-\"https://docs.google.com/spreadsheets/d/e/2PACX-1vRVo82UG25_Gq0zYVRXUZX5U4vSVcpdFZ_Pn-U-81kACXbDEE5JJx6D41cTxbYAci0HhOJDGpfHe_5H/pub?gid=1875103213&single=true&output=csv\"\n\nHappyPlanetIndexData <- read.csv(csvlink, header = TRUE) "
    },
    {
      "cell_type": "code",
      "execution_count": null,
      "metadata": {
        "cell_id": "c281bd3c9aad4b19b324a3d94edc55af",
        "deepnote_cell_type": "code",
        "execution_context_id": "78c2663c-8bce-488b-b4e2-9c1175cc3ec1",
        "execution_millis": 69,
        "execution_start": 1742588429665,
        "source_hash": "a667482c",
        "trusted": true
      },
      "outputs": [],
      "source": "HappyPlanetIndexData"
    },
    {
      "cell_type": "markdown",
      "metadata": {
        "cell_id": "a23c98a2f4434a5c8f52d489fa667c21",
        "deepnote_cell_height": 426.4375,
        "deepnote_cell_type": "markdown",
        "output_cleared": false,
        "tags": []
      },
      "source": "We'll be looking at a data set (collected in 2021) called the `HappyPlanetIndexData`. It has 147 countries and the following variables:\n\n- `Country`\tName of country\n- `Region` Comment: 1 - Latin America 2 - N America & Oceania 3-  Western Europe 4 - Middle East & N Africa 5 - Sub-Saharan Africa 6 - South Asia 7 - Eastern Europe & Central Asia 8 - East Asia\n- `Happiness` Score on a 0-10 scale for average level of happiness (10 being happiest)\n- `LifeExpectancy` Average life expectancy (in years)\n- `Footprint` Ecological footprint - a measure of the (per capita) ecological impact\n- `HPI`\tHappy Planet Index (0-100 scale) combines well-being and ecological impact\n- `HPIRank`\tHPI rank for the country\n- `GDPperCapita` Gross Domestic Product (per capita)\n- `Population` Population (in millions)"
    },
    {
      "cell_type": "markdown",
      "metadata": {
        "cell_id": "8c29b07b730c44b9b35ab97615833f99",
        "deepnote_cell_height": 155.9375,
        "deepnote_cell_type": "markdown",
        "output_cleared": false,
        "tags": []
      },
      "source": "Last time we explored this data we looked at how different countries vary in their happiness levels. This time, let's use the information in this data to help us think about why countries vary in their life expectancies. \n\nWhat do you think? Why might some countries have people who tend to live longer than other countries? Write some word equations to express your ideas."
    },
    {
      "cell_type": "markdown",
      "metadata": {
        "cell_id": "bbde67986ffb44c3ad653bff963259d0",
        "deepnote_cell_height": 264.296875,
        "deepnote_cell_type": "markdown",
        "output_cleared": false,
        "tags": []
      },
      "source": "<div class=\"alert alert-block alert-warning\">\n\n**Sample Responses**\n\n*Student responses will vary.*\n\nSome examples may include:\n\n- LifeExpectancy = Happiness + Other Stuff\n- LifeExpectancy = Footprint + Other Stuff\n- LifeExpectancy = Population + Other Stuff\n\n</div>"
    },
    {
      "cell_type": "markdown",
      "metadata": {
        "cell_id": "567813f167284d26a390d716b025008f",
        "deepnote_cell_height": 115.9375,
        "deepnote_cell_type": "markdown",
        "output_cleared": false,
        "tags": []
      },
      "source": "<div class=\"alert alert-block alert-success\">\n\n### 1.0 - Approximate Time: 8-10 mins\n\n</div>"
    },
    {
      "cell_type": "markdown",
      "metadata": {
        "cell_id": "16375f7ef938442daff9744048faa0c9",
        "deepnote_cell_height": 69.96875,
        "deepnote_cell_type": "markdown",
        "output_cleared": false,
        "tags": []
      },
      "source": "## 1.0 - Explore Variation in Life Expectancy"
    },
    {
      "cell_type": "markdown",
      "metadata": {
        "cell_id": "848e36c0f1d14350afa07fa41d42bf55",
        "deepnote_cell_height": 52.359375,
        "deepnote_cell_type": "markdown",
        "output_cleared": false,
        "tags": []
      },
      "source": "1.1 - Explore variation in life expectancy with a visualization. What do you notice?"
    },
    {
      "cell_type": "code",
      "execution_count": null,
      "metadata": {
        "cell_id": "44413217b6b2425eac37830550635e74",
        "deepnote_cell_type": "code",
        "deepnote_to_be_reexecuted": false,
        "execution_context_id": "78c2663c-8bce-488b-b4e2-9c1175cc3ec1",
        "execution_millis": 263,
        "execution_start": 1742586691519,
        "output_cleared": false,
        "source_hash": "deae79ca",
        "tags": [],
        "trusted": true
      },
      "outputs": [],
      "source": "# Sample histogram\ngf_histogram(~LifeExpectancy, data = HappyPlanetIndexData, fill = \"powderblue\" , color = \"purple\")\n\n# Sample boxplot\ngf_boxplot(LifeExpectancy ~ 1, data = HappyPlanetIndexData, fill = \"floralwhite\", color = \"darkorchid4\")"
    },
    {
      "cell_type": "markdown",
      "metadata": {
        "cell_id": "139b7ad10b674e0598b5b98faea2cbd9",
        "deepnote_cell_height": 227.890625,
        "deepnote_cell_type": "markdown",
        "output_cleared": false,
        "tags": []
      },
      "source": "<div class=\"alert alert-block alert-warning\">\n\n**Sample Responses**\n\nSome things students may notice:\n \n- skewed; a few countries have pretty low life expectancies (as low as about 52 years).\n- The peak of the histogram and the median line of the boxplot is near 73 years old. \n- A lot of countries have life expectancies around 70-80 years old.\n\n</div>"
    },
    {
      "cell_type": "markdown",
      "metadata": {
        "cell_id": "e292dfff47234dbe94c5c1bdfdcf8a24",
        "deepnote_cell_height": 97.140625,
        "deepnote_cell_type": "markdown",
        "output_cleared": false,
        "tags": []
      },
      "source": "1.2 - One of the bits of information we have in this dataset is `GDPperCapita`. This is often used as a measure of \"how rich\" a country is. Using Google, try to find out: What is GDP? What is GDP per capita? What does this tell us? Why do you think it is used as a measure of wealth?"
    },
    {
      "cell_type": "markdown",
      "metadata": {
        "cell_id": "0e07e26f3ec74eb68da9b49f13dcaab9",
        "deepnote_cell_height": 399.046875,
        "deepnote_cell_type": "markdown",
        "output_cleared": false,
        "tags": []
      },
      "source": "<div class=\"alert alert-block alert-warning\">\n\n**Sample Response**\n\n- Gross Domestic Product (GDP) is the monetary value of all finished goods and services made within a country during a specific period of time. \"Goods\" includes everything from refrigerators to youtube videos; \"services\" include things like paying for a doctor or a tutor.\n- GDP is a measure of the size of a country's economy (how much value there is in an economic system).\n- Per capita gross domestic product (GDP) is a metric that breaks down a country's economic output per person. It is calculated by dividing the GDP of a country by its population.\n- A country that produces a lot of valuable \"goods and services\" could be considered a rich country because loads of people will want to buy those things.\n- GDP may easily be confused with DGP! Same letters! HA! So you might want to say \"wealth\" or \"size of economy\" sometimes to help keep them separate. \n\n\n</div>"
    },
    {
      "cell_type": "markdown",
      "metadata": {
        "cell_id": "9e697de4a68740238dd7610d8505c9f7",
        "deepnote_cell_height": 74.75,
        "deepnote_cell_type": "markdown",
        "output_cleared": false,
        "tags": []
      },
      "source": "1.3 - Do you think `GDPperCapita` can help us explain variation in `LifeExpectancy`? What do you think the relationship will look like? Make a prediction."
    },
    {
      "cell_type": "markdown",
      "metadata": {
        "cell_id": "aa88959c65cb4028bf6c41c719490e7d",
        "deepnote_cell_height": 227.890625,
        "deepnote_cell_type": "markdown",
        "output_cleared": false,
        "tags": []
      },
      "source": "<div class=\"alert alert-block alert-warning\">\n\n**Sample Response**\n\nSome possible student predictions may include:\n\n- Countries with a high GDP will have higher life expectancies.\n- Countries with a low GDP will have lower life expectancies.\n- GDP will not help us explain variation in life expectancy.\n\n</div>"
    },
    {
      "cell_type": "markdown",
      "metadata": {
        "cell_id": "91f1d7e712d44bbabb2cdb97292372e8",
        "deepnote_cell_height": 52.359375,
        "deepnote_cell_type": "markdown",
        "output_cleared": false,
        "tags": []
      },
      "source": "1.4 - Write this idea as a word equation."
    },
    {
      "cell_type": "markdown",
      "metadata": {
        "cell_id": "7bb3903e314244d19c4268fea0680085",
        "deepnote_cell_height": 140.71875,
        "deepnote_cell_type": "markdown",
        "output_cleared": false,
        "tags": []
      },
      "source": "<div class=\"alert alert-block alert-warning\">\n\n**Sample Response**\n\nLifeExpectancy = GDPperCapita + Other Stuff\n\n</div>"
    },
    {
      "cell_type": "markdown",
      "metadata": {
        "cell_id": "bcf4bffac87c4e1e88bf11d788863f67",
        "deepnote_cell_height": 52.359375,
        "deepnote_cell_type": "markdown",
        "output_cleared": false,
        "tags": []
      },
      "source": "1.5 - Explore this idea with a visualization. What do you notice?"
    },
    {
      "cell_type": "code",
      "execution_count": null,
      "metadata": {
        "cell_id": "ef384e58b55c4e8587182daddfeb23cc",
        "deepnote_cell_type": "code",
        "deepnote_to_be_reexecuted": false,
        "execution_context_id": "78c2663c-8bce-488b-b4e2-9c1175cc3ec1",
        "execution_millis": 97,
        "execution_start": 1742586104439,
        "output_cleared": false,
        "source_hash": "159cf0a1",
        "tags": [],
        "trusted": true
      },
      "outputs": [],
      "source": "# Sample scatterplot\ngf_point(LifeExpectancy ~ GDPperCapita, data = HappyPlanetIndexData, color = \"darkorchid4\")"
    },
    {
      "cell_type": "markdown",
      "metadata": {
        "cell_id": "9dc82ada8da64849b5d671b8e946b101",
        "deepnote_cell_height": 272.6875,
        "deepnote_cell_type": "markdown",
        "output_cleared": false,
        "tags": []
      },
      "source": "<div class=\"alert alert-block alert-warning\">\n\n**Sample Response**\n\nSome things students may notice:\n\n- The data are curved\n- There are a bunch of countries bunched up around zero GDP and they range from 50 to about 70 years old.\n- Around the 70 year mark, the data starts to curve, and the countries above about 10000 GDP tend to range from 65-85 years old.\n\n</div>"
    },
    {
      "cell_type": "markdown",
      "metadata": {
        "cell_id": "f5eed3fe666c475d96fd7de4de3c51a1",
        "deepnote_cell_height": 115.9375,
        "deepnote_cell_type": "markdown",
        "output_cleared": false,
        "tags": []
      },
      "source": "<div class=\"alert alert-block alert-success\">\n\n### 2.0 - Approximate Time: 12-15 mins\n\n</div>"
    },
    {
      "cell_type": "markdown",
      "metadata": {
        "cell_id": "1ebe8aeac7dc47a5b7f27c5611b6ebd8",
        "deepnote_cell_height": 109.96875,
        "deepnote_cell_type": "markdown",
        "output_cleared": false,
        "tags": []
      },
      "source": "## 2.0 - Explaining Variation in Life Expectancy with GDP"
    },
    {
      "cell_type": "markdown",
      "metadata": {
        "cell_id": "335c9f562fcb4d3ab00555540f31dc7f",
        "deepnote_cell_height": 97.140625,
        "deepnote_cell_type": "markdown",
        "output_cleared": false,
        "tags": []
      },
      "source": "2.1 - So far we've learned about group models (models that predict how one group might\nhave a different outcome than another group). Can we create a group model of this hypothesis?\nWhy or why not? "
    },
    {
      "cell_type": "markdown",
      "metadata": {
        "cell_id": "4793fb12a6d442bebd8b9013774ec97f",
        "deepnote_cell_height": 185.515625,
        "deepnote_cell_type": "markdown",
        "output_cleared": false,
        "tags": []
      },
      "source": "<div class=\"alert alert-block alert-warning\">\n\n**Sample Response**\n\nSince `GDPperCapita` is a quantitative variable, it is not suitable for making group predictions with a group model. However, we *can* create groups out of this variable using `ntile()` and `factor()`.\n\n</div>"
    },
    {
      "cell_type": "markdown",
      "metadata": {
        "cell_id": "33fcbda8d8d04e4c9b7bd1a3eb49eadc",
        "deepnote_cell_height": 52.359375,
        "deepnote_cell_type": "markdown",
        "output_cleared": false,
        "tags": []
      },
      "source": "2.2 - What will happen if we use `ntile()` to create groups? What kind of groups will it make?"
    },
    {
      "cell_type": "markdown",
      "metadata": {
        "cell_id": "4910616638dd4697819353a76a4745c5",
        "deepnote_cell_height": 235.90625,
        "deepnote_cell_type": "markdown",
        "output_cleared": false,
        "tags": []
      },
      "source": "<div class=\"alert alert-block alert-warning\">\n\n**Sample Response**\n\nUsing `ntile()` will split the data into equal groups, depending on the number of groups we ask for. \n\nEach group will have an equal number of countries.\n\nFor example, if we ask for two groups, it will split the data into two groups (at the median).\n\n</div>"
    },
    {
      "cell_type": "markdown",
      "metadata": {
        "cell_id": "e72daec1f26441f7ac0fe39794033526",
        "deepnote_cell_height": 706.875,
        "deepnote_cell_type": "markdown",
        "output_cleared": false,
        "tags": []
      },
      "source": "2.3 - Let's take a look at the scatterplot of GDP and life expectancy below.\n\n<img src=\"https://coursekata-course-assets.s3.us-west-1.amazonaws.com/UCLATALL/czi-stats-course/jnb_LifeExpGDPScatter.png\" title=\"scatterplot of life expectancy by GDP per capita\" width = 75% align=\"center\"/>\n\nIn the code below, we are going to color in the dots of this scatterplot with different colors. \nWe've added this argument: `color = ~GDP2` to `gf_point()`.\n\nBefore you run the code, make a prediction about how the scatterplot will change.\nWhich dots are going to have the same colors? \nHow many colors will there be? "
    },
    {
      "cell_type": "markdown",
      "metadata": {
        "cell_id": "f5a717359b0f46989839c774fcf5b58a",
        "deepnote_cell_height": 239.296875,
        "deepnote_cell_type": "markdown",
        "output_cleared": false,
        "tags": []
      },
      "source": "<div class=\"alert alert-block alert-warning\">\n\n**Sample Response**\n\n- There should be two colors since there are going to be two groups.\n- Countries on left will be different color than countries on the right.\n- Countries lower than the median *of GDP* should be a different color than with higher GDP.\n- Common question: Why isn't it split up top versus bottom? Why is it left versus right? It would be split up that way if we were trying to split up countries by life expectancy.\n\n</div>"
    },
    {
      "cell_type": "code",
      "execution_count": null,
      "metadata": {
        "cell_id": "b1bb900741fc4be8bdde981f9024c21c",
        "deepnote_cell_type": "code",
        "deepnote_to_be_reexecuted": false,
        "execution_context_id": "78c2663c-8bce-488b-b4e2-9c1175cc3ec1",
        "execution_millis": 127,
        "execution_start": 1742586842709,
        "output_cleared": false,
        "source_hash": "c5b7e4d6",
        "tags": [],
        "trusted": true
      },
      "outputs": [],
      "source": "HappyPlanetIndexData$GDP2 <- ntile(HappyPlanetIndexData$GDPperCapita, 2)\nHappyPlanetIndexData$GDP2 <- factor(HappyPlanetIndexData$GDP2, levels = c(1,2), labels = c(\"low GDP\", \"high GDP\"))\ngf_point(LifeExpectancy ~ GDPperCapita, data = HappyPlanetIndexData, color = ~GDP2) "
    },
    {
      "cell_type": "markdown",
      "metadata": {
        "cell_id": "2eb69a2b018b495c84b6fec50623623f",
        "deepnote_cell_height": 74.75,
        "deepnote_cell_type": "markdown",
        "output_cleared": false,
        "tags": []
      },
      "source": "2.4 - Why are the dots on the right colored differently from the dots on the left? Why does it seem like the blue-ish dots are kind of a skinny/narrow group and the purple dots are a wider group?"
    },
    {
      "cell_type": "markdown",
      "metadata": {
        "cell_id": "2b27ba1a45ff4e26ab7b8dcf142df8a6",
        "deepnote_cell_height": 379.25,
        "deepnote_cell_type": "markdown",
        "output_cleared": false,
        "tags": []
      },
      "source": "<div class=\"alert alert-block alert-warning\">\n\n**Sample Response**\n\n- Blue-ish group is narrow because the \"low GDP group\" has a lot of countries that have very similar sized economies (closer to 0).\n- The purple group is wider because the \"high GDP group\" vary a lot more in wealth/size of economy.\n- To make equal sized groups, you have to put a bunch of countries that vary a little on GDP against a group that varies a lot on GDP. \n\nAlthough the question doesn't ask this, this may be on students minds:\n- Blue-ish group is tall (up and down) because that group has a lot of variation in life expectancy.\n- Purple group is short because they vary less in life expectancy.\n\n</div>"
    },
    {
      "cell_type": "markdown",
      "metadata": {
        "cell_id": "5624c38dd31d43d19c643997bf4bd9eb",
        "deepnote_cell_height": 336.78125,
        "deepnote_cell_type": "markdown",
        "output_cleared": false,
        "tags": []
      },
      "source": "2.5 - If we made a jitter plot of `LifeExpectancy` grouped by `GDP2`, which of these would it (roughly) look like? Why? (We also included some boxplots around the dots.)\n\n<img src=\"https://coursekata-course-assets.s3.us-west-1.amazonaws.com/UCLATALL/czi-stats-course/jnb_rVjZWg8m-7-C-Boxplots.png\" title=\"three choices: first group lower than second group, groups equal, first group higher than second group\" />"
    },
    {
      "cell_type": "markdown",
      "metadata": {
        "cell_id": "f7ad938946ae4a798ec93350d291e3a2",
        "deepnote_cell_height": 275.6875,
        "deepnote_cell_type": "markdown",
        "output_cleared": false,
        "tags": []
      },
      "source": "<div class=\"alert alert-block alert-warning\">\n\n**Sample Response**\n\n- Left because low DGP group would be a little lower than the high DGP group.\n- Note: These are not actual jitter/boxplots from this data but idealized to show three options:\n1. LEFT - group 1 lower than group 2 \n2. MIDDLE - group 1 equal to group 2\n3. RIGHT - group 1 higher than group 2\n\n</div>"
    },
    {
      "cell_type": "markdown",
      "metadata": {
        "cell_id": "b4eb7b5ae45345c49a684efca43a918c",
        "deepnote_cell_height": 52.359375,
        "deepnote_cell_type": "markdown",
        "output_cleared": false,
        "tags": []
      },
      "source": "2.6 - What are some differences between the scatterplot and the jitter plot?"
    },
    {
      "cell_type": "markdown",
      "metadata": {
        "cell_id": "06d5c592b62e4e2fbfedef14f5d29074",
        "deepnote_cell_height": 244.296875,
        "deepnote_cell_type": "markdown",
        "output_cleared": false,
        "tags": []
      },
      "source": "<div class=\"alert alert-block alert-warning\">\n\n**Sample Response**\n\nThe scatterplot shows how the two groups differ on GDP (economy) as well as how they differ on life expectancy at the same time. You can also see curve in the relationship.\n\nJitter plot shows you that the two groups are different on GDP but not HOW they differ. It's a simpler story -- one group is lower and one is higher. Hides the fact that not all high GDP groups are similarly high. But this helps us focus just on the differences in life expectancy.\n\n</div>"
    },
    {
      "cell_type": "markdown",
      "metadata": {
        "cell_id": "472f2ee0f1a1466f8d994bdb4a0450ec",
        "deepnote_cell_height": 336.78125,
        "deepnote_cell_type": "markdown",
        "output_cleared": false,
        "tags": []
      },
      "source": "2.7 - If we shuffled `LifeExpectancy` so it randomly relates to `GDP2`, which of these would most of the shuffled plots (roughly) look like?\n\n<img src=\"https://coursekata-course-assets.s3.us-west-1.amazonaws.com/UCLATALL/czi-stats-course/jnb_rVjZWg8m-7-C-Boxplots.png\" title=\"three choices: first group lower than second group, groups equal, first group higher than second group\" />"
    },
    {
      "cell_type": "markdown",
      "metadata": {
        "cell_id": "9a10b9d130154c46bc1f78f75758c6e2",
        "deepnote_cell_height": 303.46875,
        "deepnote_cell_type": "markdown",
        "output_cleared": false,
        "tags": []
      },
      "source": "<div class=\"alert alert-block alert-warning\">\n\n**Sample Response**\n\n- It is possible for shuffle to create any of these patterns! Randomness can generate lots of different patterns. \n- However, the pattern in the middle is most probable (likely) because a high life expectancy country has an equal chance of ending up in group 1 or group 2. A low life expectancy country has an equal chance of ending up in group 1 or group 2. So the two groups are likely to have similar distributions of life expectancy.\n- Really hard from randomness alone to get a group with only a bunch of high life expectancy countries and a group with low life expectancy countries. \n\n</div>"
    },
    {
      "cell_type": "markdown",
      "metadata": {
        "cell_id": "1be77397c1044ecbb615e8a19bc131ca",
        "deepnote_cell_height": 97.140625,
        "deepnote_cell_type": "markdown",
        "output_cleared": false,
        "tags": []
      },
      "source": "2.8 - Based on exploring the data with visualizations, which model seems like it might be the better model of the Data Generating Process: **LifeExpectancy = GDP2 + Error** or **LifeExpectancy = MEAN + Error**? What makes you think that?"
    },
    {
      "cell_type": "markdown",
      "metadata": {
        "cell_id": "b2c9022f95a74e3ca2330505e67c8903",
        "deepnote_cell_height": 281.078125,
        "deepnote_cell_type": "markdown",
        "output_cleared": false,
        "tags": []
      },
      "source": "<div class=\"alert alert-block alert-warning\">\n\n**Sample Response**\n\n- Shuffle mimics a random model. Our data don't look like the ones that would be most likely to be made by shuffle. \n- **LifeExpectancy = MEAN + Error** is the representation we use for a random model. It leaves GDP2 out of the model of the DGP.\n- Leaving GDP2 out of the model might not be a good idea. It seems like if we knew something about GDP2, we might make a better prediction of life expectancy. Therefore **LifeExpectancy = GDP2 + Error** might be a better model of the DGP.\n\n</div>"
    },
    {
      "cell_type": "markdown",
      "metadata": {
        "cell_id": "428509ba9a134e34b4c44aadf7377ba6",
        "deepnote_cell_height": 115.9375,
        "deepnote_cell_type": "markdown",
        "output_cleared": false,
        "tags": []
      },
      "source": "<div class=\"alert alert-block alert-success\">\n\n### 3.0 - Approximate Time: 8-10 mins\n\n</div>"
    },
    {
      "cell_type": "markdown",
      "metadata": {
        "cell_id": "d22a6e86526c473ca6f622c8922ff208",
        "deepnote_cell_height": 109.96875,
        "deepnote_cell_type": "markdown",
        "output_cleared": false,
        "tags": []
      },
      "source": "## 3.0 - Modeling Variation in Life Expectancy with GDP2"
    },
    {
      "cell_type": "markdown",
      "metadata": {
        "cell_id": "af16b07a4f18463e9fcef9439b1a0593",
        "deepnote_cell_height": 52.359375,
        "deepnote_cell_type": "markdown",
        "output_cleared": false,
        "tags": []
      },
      "source": "If we think the GDP2 model is better, the next question is *how much better*? "
    },
    {
      "cell_type": "markdown",
      "metadata": {
        "cell_id": "029f0b14691a4ff59be9f54e4a2f4756",
        "deepnote_cell_height": 74.75,
        "deepnote_cell_type": "markdown",
        "output_cleared": false,
        "tags": []
      },
      "source": "3.1 - Find the best fitting GDP2 model (**LifeExpectancy = GDP2 + Error**). How much better is that\nmodel compared to the empty model (**LifeExpectancy = MEAN + Error**)?"
    },
    {
      "cell_type": "code",
      "execution_count": null,
      "metadata": {
        "cell_id": "5ae2818dac74429ea7bfeaa82c285e81",
        "deepnote_cell_type": "code",
        "deepnote_to_be_reexecuted": false,
        "execution_context_id": "78c2663c-8bce-488b-b4e2-9c1175cc3ec1",
        "execution_millis": 1,
        "execution_start": 1742587454329,
        "output_cleared": false,
        "source_hash": "d859dc9a",
        "tags": [],
        "trusted": true
      },
      "outputs": [],
      "source": "# Sample code\nGDP2_model <- lm(LifeExpectancy ~ GDP2, data = HappyPlanetIndexData)\nGDP2_model\nsupernova(GDP2_model)"
    },
    {
      "cell_type": "markdown",
      "metadata": {
        "cell_id": "adbb32628b3140b8a826dcf74ad1c7a7",
        "deepnote_cell_height": 185.515625,
        "deepnote_cell_type": "markdown",
        "output_cleared": false,
        "tags": []
      },
      "source": "<div class=\"alert alert-block alert-warning\">\n\n**Sample Response**\n\nIf we use PRE as a measure of model \"goodness\", then the GDP2 model reduces 52%\nof the error from the empty model. (Typically in research, people are thrilled if there is like a 6% reduction in error...)\n\n</div>"
    },
    {
      "cell_type": "markdown",
      "metadata": {
        "cell_id": "fc4a928fb0e04e118d8703efc54e864d",
        "deepnote_cell_height": 74.75,
        "deepnote_cell_type": "markdown",
        "output_cleared": false,
        "tags": []
      },
      "source": "3.2 - Here's some code to chain on the predictions of this GDP2 model onto a jitter plot of the data. Write code to make predictions from the GDP2 model and save them as `GDP2_predict`."
    },
    {
      "cell_type": "code",
      "execution_count": null,
      "metadata": {
        "cell_id": "0edf05cc96c04eb88a962ff8e0751f36",
        "deepnote_cell_type": "code",
        "deepnote_to_be_reexecuted": false,
        "execution_context_id": "78c2663c-8bce-488b-b4e2-9c1175cc3ec1",
        "execution_millis": 255,
        "execution_start": 1742587501299,
        "output_cleared": false,
        "source_hash": "7104eec2",
        "tags": [],
        "trusted": true
      },
      "outputs": [],
      "source": "# Code modified to make predictions from the model:\nHappyPlanetIndexData$GDP2_predict <- predict(GDP2_model)\n\ngf_jitter(LifeExpectancy ~ GDP2, data = HappyPlanetIndexData, color = ~GDP2) %>%\n    gf_jitter(GDP2_predict ~ GDP2, color = \"darkorange\", height = 0)"
    },
    {
      "cell_type": "markdown",
      "metadata": {
        "cell_id": "4a734c9e12254fb08e46a2271a343234",
        "deepnote_cell_height": 52.5625,
        "deepnote_cell_type": "markdown",
        "output_cleared": false,
        "tags": []
      },
      "source": "3.3 - Where is $b_0$ and $b_1$ in this jitter plot?"
    },
    {
      "cell_type": "markdown",
      "metadata": {
        "cell_id": "beec7164b5fe4b5a96b0b781cedad1a2",
        "deepnote_cell_height": 243.3125,
        "deepnote_cell_type": "markdown",
        "output_cleared": false,
        "tags": []
      },
      "source": "<div class=\"alert alert-block alert-warning\">\n\n**Sample Responses**\n\n- $b_0$ is around 66 years (the mean for the low GDP group)\n- $b_1$ is the space between the mean for the low versus high GDP group \n- $b_1$ the increment to add to mean of low GDP group to get mean of high GDP group\n- $b_1$ is the distance between the two orange lines \n- $b_1$ is around 11 years\n\n</div>"
    },
    {
      "cell_type": "markdown",
      "metadata": {
        "cell_id": "eca6745d12db4e3789d248dc18bc4a44",
        "deepnote_cell_height": 115.9375,
        "deepnote_cell_type": "markdown",
        "output_cleared": false,
        "tags": []
      },
      "source": "<div class=\"alert alert-block alert-success\">\n\n### 4.0 - Approximate Time: 10-12 mins\n\n</div>"
    },
    {
      "cell_type": "markdown",
      "metadata": {
        "cell_id": "307e3eb772b146c49eae93ce27121663",
        "deepnote_cell_height": 69.96875,
        "deepnote_cell_type": "markdown",
        "output_cleared": false,
        "tags": []
      },
      "source": "## 4.0 - Will Three Groups be Better than Two?"
    },
    {
      "cell_type": "markdown",
      "metadata": {
        "cell_id": "4f5b7b36ad7249b483411a13b267af7a",
        "deepnote_cell_height": 97.140625,
        "deepnote_cell_type": "markdown",
        "output_cleared": false,
        "tags": []
      },
      "source": "We can quantify *how much better* the GDP2 model is over the empty model. But, for now, it is hard for us to evaluate whether that is a lot of \"reduced error\" or not. We can use values like PRE to compare different kinds of models! "
    },
    {
      "cell_type": "markdown",
      "metadata": {
        "cell_id": "3952658494734bac82b270962a7e2aaf",
        "deepnote_cell_height": 74.75,
        "deepnote_cell_type": "markdown",
        "output_cleared": false,
        "tags": []
      },
      "source": "4.1 - We've created a GDP2 model. Do you think a GDP3 model would explain more error? \nLess error? Make a prediction: How much more/less error?"
    },
    {
      "cell_type": "markdown",
      "metadata": {
        "cell_id": "c5313591986e4c48b12fbe8c22fa497d",
        "deepnote_cell_height": 320.46875,
        "deepnote_cell_type": "markdown",
        "output_cleared": false,
        "tags": []
      },
      "source": "<div class=\"alert alert-block alert-warning\">\n\n**Sample Responses**\n\n*Students may range in their predictions.*\n- 3 groups might be better because you can tailor the predictions more\n- 2 groups might be better because the data look like two arms (like the vertical part and the horizontal part)\n- 3 groups might be better because it seems like the very high GDP countries (above 30000) are very similar on life expectancy\n- they might both not be great because the very low DGP countries vary a lot in life expectancy\n\n</div>"
    },
    {
      "cell_type": "markdown",
      "metadata": {
        "cell_id": "fa2c0be732c6497dbca5962f37521bf9",
        "deepnote_cell_height": 52.359375,
        "deepnote_cell_type": "markdown",
        "output_cleared": false,
        "tags": []
      },
      "source": "4.2 - Here we have copied the code used to make `GDP2`. Modify the code to make `GDP3`."
    },
    {
      "cell_type": "code",
      "execution_count": null,
      "metadata": {
        "cell_id": "ce11be58405947a8b8d3b1bdcfb49d50",
        "deepnote_cell_type": "code",
        "deepnote_to_be_reexecuted": false,
        "execution_context_id": "78c2663c-8bce-488b-b4e2-9c1175cc3ec1",
        "execution_millis": 0,
        "execution_start": 1742587740779,
        "output_cleared": false,
        "source_hash": "3ead89c6",
        "tags": [],
        "trusted": true
      },
      "outputs": [],
      "source": "# Changes made:\n# GDP2 to GDP3\n# ntile() number from 2 to 3\nHappyPlanetIndexData$GDP3 <- ntile(HappyPlanetIndexData$GDPperCapita, 3)\n\n# Change GDP2 to GDP3\n# Add a 3rd level and med GDP label\nHappyPlanetIndexData$GDP3 <- factor(HappyPlanetIndexData$GDP3, levels = c(1,2,3), labels = c(\"low GDP\", \"med GDP\", \"high GDP\"))"
    },
    {
      "cell_type": "markdown",
      "metadata": {
        "cell_id": "d7d35c3847f241d18887b41a61df0b03",
        "deepnote_cell_height": 684.46875,
        "deepnote_cell_type": "markdown",
        "output_cleared": false,
        "tags": []
      },
      "source": "4.3 - Let's take a look at the original scatterplot again.\n\n<img src=\"https://coursekata-course-assets.s3.us-west-1.amazonaws.com/UCLATALL/czi-stats-course/jnb_LifeExpGDPScatter.png\" title=\"scatterplot of life expectancy by GDP per capita\" width = 75% align=\"center\"/>\n\nWhere will `GDP3` split up the groups? \nTry coloring the dots by `GDP3` in the scatterplot below.\n\nWill the three groups vary less on life expectancy compared to the two groups created\nin the GDP2 model?"
    },
    {
      "cell_type": "code",
      "execution_count": null,
      "metadata": {
        "cell_id": "e277154e54cd48398929cdc410e24b80",
        "deepnote_cell_type": "code",
        "deepnote_to_be_reexecuted": false,
        "execution_context_id": "78c2663c-8bce-488b-b4e2-9c1175cc3ec1",
        "execution_millis": 130,
        "execution_start": 1742587764059,
        "output_cleared": false,
        "source_hash": "7bdae437",
        "tags": [],
        "trusted": true
      },
      "outputs": [],
      "source": "# added color = ~GDP3\ngf_point(LifeExpectancy ~ GDPperCapita, data = HappyPlanetIndexData, color = ~GDP3) "
    },
    {
      "cell_type": "markdown",
      "metadata": {
        "cell_id": "5b2bdebc881a4ea3b2ac6dd1e6354058",
        "deepnote_cell_height": 272.6875,
        "deepnote_cell_type": "markdown",
        "output_cleared": false,
        "tags": []
      },
      "source": "<div class=\"alert alert-block alert-warning\">\n\n**Sample Responses**\n\n*Students will vary in their opinions on whether it is a good way to split up the groups.*\n\n- Blue-ish group is very similar in both life expectancy and GDP per capita, some students may find that helpful\n- Purple group is also very similar on life expectancy (which is most important in a model trying to predict life expectancy)\n- Brown group varies a little less on life expectancy than the others. \n\n</div>"
    },
    {
      "cell_type": "markdown",
      "metadata": {
        "cell_id": "82ad5d6050af4b459b0f0b38c2682cf5",
        "deepnote_cell_height": 74.75,
        "deepnote_cell_type": "markdown",
        "output_cleared": false,
        "tags": []
      },
      "source": "4.4 - What will a jitter plot of `LifeExpectancy` by `GDP3` look like? \nDescribe the pattern. Then try making it with R."
    },
    {
      "cell_type": "markdown",
      "metadata": {
        "cell_id": "1b4e15589b6a40cf9c6794350caba0ed",
        "deepnote_cell_height": 213.90625,
        "deepnote_cell_type": "markdown",
        "output_cleared": false,
        "tags": []
      },
      "source": "<div class=\"alert alert-block alert-warning\">\n\n**Sample Responses**\n\n- 3 columns of dots\n- lowest group varies more on life expectancy than other two groups\n- some may describe a \"shift\" where each distribution is a bit higher than the next (low DGP group < med < high)."
    },
    {
      "cell_type": "code",
      "execution_count": null,
      "metadata": {
        "cell_id": "7ab5fe83466b45a38f4d65bf95ae9c2f",
        "deepnote_cell_type": "code",
        "deepnote_to_be_reexecuted": false,
        "execution_context_id": "5ebaa764-bdba-4095-9b76-8861326ead6c",
        "execution_millis": 151,
        "execution_start": 1735942642039,
        "output_cleared": false,
        "source_hash": "f2c9686d",
        "tags": [],
        "trusted": true
      },
      "outputs": [],
      "source": "# Sample jitter plot (with boxplots)\n\n\ngf_boxplot(LifeExpectancy~GDP3, data =HappyPlanetIndexData, color = \"royalblue\", fill = \"turquoise\") %>% \ngf_jitter(color = \"orange\", width = .2)"
    },
    {
      "cell_type": "markdown",
      "metadata": {
        "cell_id": "8dac40ad3f27438fa9526bca8fdc74c2",
        "deepnote_cell_height": 74.75,
        "deepnote_cell_type": "markdown",
        "output_cleared": false,
        "tags": []
      },
      "source": "4.5 - Based on your visualizations, do you think the GDP3 model will have more or less error than the GDP2 model? Will it have a bigger or smaller PRE? SS Model? SS Error? SS Total?"
    },
    {
      "cell_type": "markdown",
      "metadata": {
        "cell_id": "855a48b8397d48f3830a535202fa63d2",
        "deepnote_cell_height": 213.90625,
        "deepnote_cell_type": "markdown",
        "output_cleared": false,
        "tags": []
      },
      "source": "<div class=\"alert alert-block alert-warning\">\n\n**Sample Responses**\n\n- If students think GDP3 model is good, they might expect higher PRE, higher SS Model, lower SS Error.\n- Some students may not know whether GDP3 will be a \"good\" model.\n- SS total should be same because that's always from the empty model.\n\n\n</div>"
    },
    {
      "cell_type": "markdown",
      "metadata": {
        "cell_id": "d8d7f1553713430b89775634318702d6",
        "deepnote_cell_height": 115.9375,
        "deepnote_cell_type": "markdown",
        "output_cleared": false,
        "tags": []
      },
      "source": "<div class=\"alert alert-block alert-success\">\n\n### 5.0 - Approximate Time: 10-12 mins\n\n</div>"
    },
    {
      "cell_type": "markdown",
      "metadata": {
        "cell_id": "a6ff5ca4ad824811b117f45d81ed70ad",
        "deepnote_cell_height": 109.96875,
        "deepnote_cell_type": "markdown",
        "output_cleared": false,
        "tags": []
      },
      "source": "## 5.0 - Modeling Variation in Life Expectancy with GDP3"
    },
    {
      "cell_type": "markdown",
      "metadata": {
        "cell_id": "7030501b12c248478b09fb4e187e51a7",
        "deepnote_cell_height": 74.75,
        "deepnote_cell_type": "markdown",
        "output_cleared": false,
        "tags": []
      },
      "source": "5.1 - Find the best fitting GDP3 model (**LifeExpectancy = GDP3 + Error**). How much better is that\nmodel compared to the empty model (**LifeExpectancy = MEAN + Error**)?"
    },
    {
      "cell_type": "code",
      "execution_count": null,
      "metadata": {
        "cell_id": "cb6cadb14ea648b6a48beaffaea1ab3c",
        "deepnote_cell_type": "code",
        "deepnote_to_be_reexecuted": false,
        "execution_context_id": "78c2663c-8bce-488b-b4e2-9c1175cc3ec1",
        "execution_millis": 0,
        "execution_start": 1742588204640,
        "output_cleared": false,
        "source_hash": "5e5cbda6",
        "tags": [],
        "trusted": true
      },
      "outputs": [],
      "source": "GDP3_model<- lm(LifeExpectancy~GDP3, data = HappyPlanetIndexData)\nsupernova(GDP3_model)"
    },
    {
      "cell_type": "markdown",
      "metadata": {
        "cell_id": "fdcfbf0817c64b62a2bb7dc8fb86cf66",
        "deepnote_cell_height": 163.125,
        "deepnote_cell_type": "markdown",
        "output_cleared": false,
        "tags": []
      },
      "source": "<div class=\"alert alert-block alert-warning\">\n\n**Sample Responses**\n\nUsing PRE as a measure of \"goodness\", the GDP3 model reduces .66 of error from\nempty model (compare to .52 reduced by the GDP2 model).\n\n</div>"
    },
    {
      "cell_type": "markdown",
      "metadata": {
        "cell_id": "11dc422c63cb4727bb7367a1eaabe24d",
        "deepnote_cell_height": 52.359375,
        "deepnote_cell_type": "markdown",
        "output_cleared": false,
        "tags": []
      },
      "source": "5.2 - Is the best fitting GDP3 model better than the GDP2 model? What makes you think that?"
    },
    {
      "cell_type": "markdown",
      "metadata": {
        "cell_id": "a1e4d1fe5e5a46f7a60ec344ce2850c3",
        "deepnote_cell_height": 140.71875,
        "deepnote_cell_type": "markdown",
        "output_cleared": false,
        "tags": []
      },
      "source": "<div class=\"alert alert-block alert-warning\">\n\n**Sample Responses**\n\n- GDP3 model is better because of the higher PRE, better F, better SS Model, lower SS Error.\n\n</div>"
    },
    {
      "cell_type": "markdown",
      "metadata": {
        "cell_id": "0f8f643419e14d6bac80dd1f17fcc0e0",
        "deepnote_cell_height": 52.359375,
        "deepnote_cell_type": "markdown",
        "output_cleared": false,
        "tags": []
      },
      "source": "5.3 - Put the predictions of the GDP3 model onto this jitter plot. "
    },
    {
      "cell_type": "code",
      "execution_count": null,
      "metadata": {
        "cell_id": "0b840aebf87d406f88485bf5e55791c7",
        "deepnote_cell_type": "code",
        "deepnote_to_be_reexecuted": false,
        "execution_context_id": "78c2663c-8bce-488b-b4e2-9c1175cc3ec1",
        "execution_millis": 195,
        "execution_start": 1742588229048,
        "output_cleared": false,
        "source_hash": "1ed47ec7",
        "tags": [],
        "trusted": true
      },
      "outputs": [],
      "source": "HappyPlanetIndexData$GDP3_predict <- predict(GDP3_model)\n\ngf_jitter(LifeExpectancy ~ GDP3, data = HappyPlanetIndexData, color = ~GDP3) %>%\n    gf_jitter(GDP3_predict ~ GDP3, color = \"darkorange\", height = 0)"
    },
    {
      "cell_type": "markdown",
      "metadata": {
        "cell_id": "986028d77fc94fd793cc1f1a67e2eb98",
        "deepnote_cell_height": 74.75,
        "deepnote_cell_type": "markdown",
        "output_cleared": false,
        "tags": []
      },
      "source": "5.4 -  What does the model predict for a low GDP country? How about a mid GDP or high GDP country? "
    },
    {
      "cell_type": "markdown",
      "metadata": {
        "cell_id": "7a7fb14b04b94a6ab6cb752fd6f51e28",
        "deepnote_cell_height": 163.125,
        "deepnote_cell_type": "markdown",
        "output_cleared": false,
        "tags": []
      },
      "source": "<div class=\"alert alert-block alert-warning\">\n\n**Sample Response**\n\nThe model predicts a life expectancy of about 64 years for a low GDP country,about 72 years for a mid GDP country, and about 79 years for a high GDP country.\n\n</div>"
    },
    {
      "cell_type": "markdown",
      "metadata": {
        "cell_id": "136de2c619fa4e9b96bee9c78d0df238",
        "deepnote_cell_height": 74.953125,
        "deepnote_cell_type": "markdown",
        "output_cleared": false,
        "tags": []
      },
      "source": "5.5 - What does $b_0$ tell us? How about $b_1$ and $b_2$? What part of the graph corresponds to these numbers?"
    },
    {
      "cell_type": "code",
      "execution_count": null,
      "metadata": {
        "cell_id": "bfc4761e99604805a253c7bdd3ce6789",
        "deepnote_cell_type": "code",
        "execution_context_id": "78c2663c-8bce-488b-b4e2-9c1175cc3ec1",
        "execution_millis": 1,
        "execution_start": 1742588366739,
        "source_hash": "290b577f",
        "trusted": true
      },
      "outputs": [],
      "source": "GDP3_model"
    },
    {
      "cell_type": "markdown",
      "metadata": {
        "cell_id": "af81cf6c44174a2db1643a995a89b856",
        "deepnote_cell_height": 290.296875,
        "deepnote_cell_type": "markdown",
        "output_cleared": false,
        "tags": []
      },
      "source": "<div class=\"alert alert-block alert-warning\">\n\n**Sample Response**\n\n- $b_0$ 64.01 is mean life expectancy for low GDP group\n    - the orange dots in low GDP group\n- $b_1$ 8.18 is how many years to add to low GDP mean to get mid GDP group's mean\n    - space between low and med group's orange dots\n- $b_2$ 15.72 is how many years to add to low GDP mean to get high GDP group's mean\n    - space between low and high group's orange dots\n\n</div>"
    },
    {
      "cell_type": "markdown",
      "metadata": {
        "cell_id": "fce58f9ca0314e759b5bb4ef1efe46a4",
        "deepnote_cell_height": 115.9375,
        "deepnote_cell_type": "markdown",
        "output_cleared": false,
        "tags": []
      },
      "source": "<div class=\"alert alert-block alert-success\">\n\n### 6.0 - Approximate Time: 8-10 mins\n\n</div>"
    },
    {
      "cell_type": "markdown",
      "metadata": {
        "cell_id": "f01fd8f494f54fdea581aff27bf8265c",
        "deepnote_cell_height": 69.96875,
        "deepnote_cell_type": "markdown",
        "output_cleared": false,
        "tags": []
      },
      "source": "## 6.0 - A Ridiculous Model"
    },
    {
      "cell_type": "markdown",
      "metadata": {
        "cell_id": "98663d3c7fa049ac9cd6c0e45c6feb7c",
        "deepnote_cell_height": 74.75,
        "deepnote_cell_type": "markdown",
        "output_cleared": false,
        "tags": []
      },
      "source": "Now let's make a complex model that has 145 groups (note, there are only 147 countries in this data set) so almost every country gets to be their own group."
    },
    {
      "cell_type": "code",
      "execution_count": null,
      "metadata": {
        "cell_id": "78a9bb16045b4b5f968d707c3d7a3c81",
        "deepnote_cell_type": "code",
        "deepnote_to_be_reexecuted": false,
        "execution_context_id": "78c2663c-8bce-488b-b4e2-9c1175cc3ec1",
        "execution_millis": 9,
        "execution_start": 1742588609897,
        "output_cleared": false,
        "source_hash": "a30cb42d",
        "tags": [],
        "trusted": true
      },
      "outputs": [],
      "source": "HappyPlanetIndexData$GDP145 <- ntile(HappyPlanetIndexData$GDPperCapita, 145)\nHappyPlanetIndexData$GDP145 <- as.factor(HappyPlanetIndexData$GDP145)"
    },
    {
      "cell_type": "markdown",
      "metadata": {
        "cell_id": "fa595805db3e4e05a0f7536039b71173",
        "deepnote_cell_height": 52.359375,
        "deepnote_cell_type": "markdown",
        "output_cleared": false,
        "tags": []
      },
      "source": "6.1 - Check out the jitter plot below. All the dots are a slightly different color. Why?"
    },
    {
      "cell_type": "code",
      "execution_count": null,
      "metadata": {
        "cell_id": "e66e76630d014979b75949cf783c2af7",
        "deepnote_cell_type": "code",
        "deepnote_to_be_reexecuted": false,
        "execution_context_id": "78c2663c-8bce-488b-b4e2-9c1175cc3ec1",
        "execution_millis": 113,
        "execution_start": 1742588731239,
        "output_cleared": false,
        "source_hash": "7103ccb",
        "tags": [],
        "trusted": true
      },
      "outputs": [],
      "source": "gf_jitter(LifeExpectancy ~ GDP145, data = HappyPlanetIndexData, color = ~GDP145, show.legend = FALSE)  +  \n    scale_color_hue(l=50, c=75)"
    },
    {
      "cell_type": "markdown",
      "metadata": {
        "cell_id": "4d77ad705d084aff952dbe3efa9b00f2",
        "deepnote_cell_height": 163.125,
        "deepnote_cell_type": "markdown",
        "output_cleared": false,
        "tags": []
      },
      "source": "<div class=\"alert alert-block alert-warning\">\n\n**Sample Response**\n\nAll the dots are a slightly different color because color is being used to distinguish each of the 145 groups.\n\n</div>"
    },
    {
      "cell_type": "markdown",
      "metadata": {
        "cell_id": "f6038a5fd8b04472acc2e0c61f37c626",
        "deepnote_cell_height": 111.34375,
        "deepnote_cell_type": "markdown",
        "output_cleared": false,
        "tags": []
      },
      "source": "6.2 - Here we have created a model. How many more parameter estimates (the $b$s) will it have compared to the empty model? \n\nAlso, try to find that number in the `supernova` table. Where does it appear?"
    },
    {
      "cell_type": "code",
      "execution_count": null,
      "metadata": {
        "cell_id": "4aa70718e86b4e8898a717875f1ea2d8",
        "deepnote_cell_type": "code",
        "deepnote_to_be_reexecuted": false,
        "execution_context_id": "78c2663c-8bce-488b-b4e2-9c1175cc3ec1",
        "execution_millis": 22,
        "execution_start": 1742588626826,
        "output_cleared": false,
        "source_hash": "9d840dd6",
        "tags": [],
        "trusted": true
      },
      "outputs": [],
      "source": "GDP145_model <- lm(LifeExpectancy ~ GDP145, data = HappyPlanetIndexData)\n\nsupernova(GDP145_model)"
    },
    {
      "cell_type": "markdown",
      "metadata": {
        "cell_id": "7be9c930c05c434bac6e20682fe0acc0",
        "deepnote_cell_height": 163.125,
        "deepnote_cell_type": "markdown",
        "output_cleared": false,
        "tags": []
      },
      "source": "<div class=\"alert alert-block alert-warning\">\n\n**Sample Response**\n\nIt will have 144 more parameter estimates than the empty model. This appears as the degrees of freedom (df) for the model in the `supernova` table.\n\n</div>"
    },
    {
      "cell_type": "markdown",
      "metadata": {
        "cell_id": "910349fb9c88490d828882cb534b2d1a",
        "deepnote_cell_height": 74.75,
        "deepnote_cell_type": "markdown",
        "output_cleared": false,
        "tags": []
      },
      "source": "6.3 - We have placed the predictions of the GDP145 model on the jitter plot below. Why is it that the rainbow dots are now all covered by dark orange dots?"
    },
    {
      "cell_type": "code",
      "execution_count": null,
      "metadata": {
        "cell_id": "c432b40194024834ab9f5d84a9d74d70",
        "deepnote_cell_type": "code",
        "deepnote_to_be_reexecuted": false,
        "execution_context_id": "78c2663c-8bce-488b-b4e2-9c1175cc3ec1",
        "execution_millis": 191,
        "execution_start": 1742588667322,
        "output_cleared": false,
        "source_hash": "91785d9d",
        "tags": [],
        "trusted": true
      },
      "outputs": [],
      "source": "HappyPlanetIndexData$GDP145_predict <- predict(GDP145_model)\n\ngf_jitter(LifeExpectancy ~ GDP145, data = HappyPlanetIndexData, color = ~GDP145, show.legend = FALSE) %>%\n    gf_jitter(GDP145_predict ~ GDP145, color = \"darkorange\")  +  \n    scale_color_hue(l=50, c=75)\n"
    },
    {
      "cell_type": "markdown",
      "metadata": {
        "cell_id": "2ed2f9939fac46ffa564eb8876fe2575",
        "deepnote_cell_height": 163.125,
        "deepnote_cell_type": "markdown",
        "output_cleared": false,
        "tags": []
      },
      "source": "<div class=\"alert alert-block alert-warning\">\n\n**Sample Response**\n\nBecause each orange dot is a prediction made by the model, and nearly every country is being predicted as its own value so it gets covered up by an orange dot.\n\n</div>"
    },
    {
      "cell_type": "markdown",
      "metadata": {
        "cell_id": "2476d7ebc42442ff8ecf9028f8399e25",
        "deepnote_cell_height": 115.9375,
        "deepnote_cell_type": "markdown",
        "output_cleared": false,
        "tags": []
      },
      "source": "<div class=\"alert alert-block alert-success\">\n\n### 7.0 - Approximate Time: 10-12 mins\n\n</div>"
    },
    {
      "cell_type": "markdown",
      "metadata": {
        "cell_id": "2ccddef45ff74d249d71299437741e22",
        "deepnote_cell_height": 69.96875,
        "deepnote_cell_type": "markdown",
        "output_cleared": false,
        "tags": []
      },
      "source": "## 7.0 - Comparing Models and the F Ratio"
    },
    {
      "cell_type": "code",
      "execution_count": null,
      "metadata": {
        "cell_id": "261f525df4b54e1c82e4bf4da5668f41",
        "deepnote_cell_type": "code",
        "execution_context_id": "78c2663c-8bce-488b-b4e2-9c1175cc3ec1",
        "execution_millis": 40,
        "execution_start": 1742588676152,
        "source_hash": "63481bb1",
        "trusted": true
      },
      "outputs": [],
      "source": "#it may be useful to look at the supernova tables for all 3 models together\nsupernova(GDP2_model)\nsupernova(GDP3_model)\nsupernova(GDP145_model)\n"
    },
    {
      "cell_type": "markdown",
      "metadata": {
        "cell_id": "91c73db61f9a4a4f9a53ad001d69b0d5",
        "deepnote_cell_height": 74.75,
        "deepnote_cell_type": "markdown",
        "output_cleared": false,
        "tags": []
      },
      "source": "7.1 - Of all the models we looked at today (GDP2, GDP3, GDP145), which model is \"better\"? \nWhy is it better? "
    },
    {
      "cell_type": "markdown",
      "metadata": {
        "cell_id": "467e3002ebcf4afda35bcf97d412f706",
        "deepnote_cell_height": 188.515625,
        "deepnote_cell_type": "markdown",
        "output_cleared": false,
        "tags": []
      },
      "source": "<div class=\"alert alert-block alert-warning\">\n\n**Sample Response**\n\n- Students may think the GDP145 model is the best because it has such a high PRE and the predictions are not off by very much!\n- Some might say it has a worse F than the other models we looked at today.\n\n</div>"
    },
    {
      "cell_type": "markdown",
      "metadata": {
        "cell_id": "0afc2228184f4344bd0d1c7895b9c5bd",
        "deepnote_cell_height": 52.359375,
        "deepnote_cell_type": "markdown",
        "output_cleared": false,
        "tags": []
      },
      "source": "7.2 - Judging by PRE, which model is better? Judging by F, which model is better?"
    },
    {
      "cell_type": "markdown",
      "metadata": {
        "cell_id": "cb227b516c9145b98792b18ebf79e8ee",
        "deepnote_cell_height": 166.109375,
        "deepnote_cell_type": "markdown",
        "output_cleared": false,
        "tags": []
      },
      "source": "<div class=\"alert alert-block alert-warning\">\n\n**Sample Response**\n\n- Judging by PRE, the GDP145 model is superior. \n- Judging by F, the GDP3 model is the best.\n\n</div>"
    },
    {
      "cell_type": "markdown",
      "metadata": {
        "cell_id": "b4490416a6a6475e92935873e2456b69",
        "deepnote_cell_height": 52.359375,
        "deepnote_cell_type": "markdown",
        "output_cleared": false,
        "tags": []
      },
      "source": "7.3 - Why does F penalize the GDP140 model?"
    },
    {
      "cell_type": "markdown",
      "metadata": {
        "cell_id": "9427162062734fc5a95f701ffb6ef234",
        "deepnote_cell_height": 163.125,
        "deepnote_cell_type": "markdown",
        "output_cleared": false,
        "tags": []
      },
      "source": "<div class=\"alert alert-block alert-warning\">\n\n**Sample Response**\n\nBecause it uses so many degrees of freedom by adding on so many additional parameter estimates.\n\n</div>"
    },
    {
      "cell_type": "markdown",
      "metadata": {
        "cell_id": "02a08fcb0760457aba80480e99a8b544",
        "deepnote_cell_height": 97.140625,
        "deepnote_cell_type": "markdown",
        "output_cleared": false,
        "tags": []
      },
      "source": "7.4 - Some countries are missing from this data. If I told you about a relatively rich country that is not in the data set, which model would be most useful in generating a prediction of their life expectancy? Why?"
    },
    {
      "cell_type": "markdown",
      "metadata": {
        "cell_id": "d0f4eca8c6d044299b87e07fad257a5f",
        "deepnote_cell_height": 163.125,
        "deepnote_cell_type": "markdown",
        "output_cleared": false,
        "tags": []
      },
      "source": "<div class=\"alert alert-block alert-warning\">\n\n**Sample Response**\n\nProbably the GDP3 model because it explains a lot of variation but is not overfitted like the GDP145 model.\n\n</div>"
    },
    {
      "cell_type": "markdown",
      "metadata": {
        "cell_id": "e5541b04910d4329a7c7b645c9682c65",
        "deepnote_cell_height": 52.359375,
        "deepnote_cell_type": "markdown",
        "output_cleared": false,
        "tags": []
      },
      "source": "7.5 - Are models with a high PRE always better? Why or why not?"
    },
    {
      "cell_type": "markdown",
      "metadata": {
        "cell_id": "cd4b96805b7548eb85b9dea1addc9a74",
        "deepnote_cell_height": 457.28125,
        "deepnote_cell_type": "markdown",
        "output_cleared": false,
        "tags": []
      },
      "source": "<div class=\"alert alert-block alert-warning\">\n\n**Sample Response**\n\nNot always, because you need to take into account the complexity of the model, and how many degrees of freedom that were used to fit it. The F value takes into account the degrees of freedom so it can be a better measure of the goodness of a model when comparing models that do not have an equal number of parameter estimates.\n\n</div>"
    }
  ],
  "metadata": {
    "deepnote_notebook_id": "aca21fda5b9c4b2ab07779f589e3d2cd",
    "kernelspec": {
      "display_name": "R",
      "language": "R",
      "name": "ir"
    },
    "language_info": {
      "codemirror_mode": "r",
      "file_extension": ".r",
      "mimetype": "text/x-r-source",
      "name": "R",
      "pygments_lexer": "r",
      "version": "4.3.3"
    },
    "nbsimplegrader": {
      "publish_config": {
        "classes": [],
        "options": {},
        "tools": []
      }
    }
  },
  "nbformat": 4,
  "nbformat_minor": 1
}