{
  "cells": [
    {
      "cell_type": "markdown",
      "metadata": {
        "cell_id": "7bca796c48514875810b8f4bc3e25412",
        "deepnote_cell_type": "markdown",
        "nbsimplegrader": {
          "config_key": "markdown.view-only",
          "editable": false,
          "label": "Markdown: View-Only",
          "respondable": false,
          "response": null,
          "runnable": false,
          "type": "markdown"
        }
      },
      "source": "<div class=\"alert alert-block alert-danger\">\n\n# 8B: Does Laptop Use Distract Other Students? (COMPLETE)\n\n**Use with textbook version 6.0+**\n\n**Lesson assumes students have read up through page: 8.7**\n\n</div>"
    },
    {
      "cell_type": "markdown",
      "metadata": {
        "cell_id": "15123972d9704724bb7949b53c44cdb5",
        "deepnote_cell_type": "markdown",
        "tags": []
      },
      "source": "<div class=\"alert alert-block alert-warning\">\n\n#### Summary of Notebook:\n\nIn this lesson, students will explore some data that researchers collected to determine whether using your laptop to multitask during class is distracting to you and/or other students. Students will generate models of their hypotheses, then evaluate the Data Generating Process (DGP) by considering whether the empty model could have produced the sample $b_1$ estimate. There is an emphasis on thinking about the empty model of the DGP as the model with only the mean (or $\\beta_0$) plus error versus the explanatory model which includes the effect of the explanatory variable (where $\\beta_1$ does not equal 0).\n\n#### Highlighted Skills and Concepts:\n- Fitting group models\n- Visually estimating and interpreting $b_1$ estimates\n- Thinking about and modeling the empty model of the DGP with `shuffle()`\n- Thinking about the empty model of the DGP as $Y_i = \\beta_0 + \\epsilon_i$ or data = mean + error\n\n***Lesson Handout:***\n\n[This drawing handout](https://docs.google.com/document/d/1SJgiMoF-aUK7RaCjM6wI5zHmVRYvyymnDEZxeDEQMK0/edit#) should be printed and passed out to your students as part of a drawing activity they will be asked to do in section 3. It includes printouts of some of the visualizations in the lesson so students can draw on them to illustrate important concepts.\n\n</div>"
    },
    {
      "cell_type": "markdown",
      "metadata": {
        "cell_id": "8a16ca0e541f4934aa0c54f9ac3f9a3b",
        "deepnote_cell_type": "markdown",
        "tags": []
      },
      "source": "<div class=\"alert alert-block alert-success\">\n\n## Approximate time to complete Notebook: 55-70 Mins\n    \n</div>"
    },
    {
      "cell_type": "code",
      "execution_count": null,
      "metadata": {
        "cell_id": "de5c566f420e4100b6bf21612445c154",
        "deepnote_cell_type": "code",
        "deepnote_to_be_reexecuted": false,
        "execution_millis": 1085,
        "execution_start": 1676160640153,
        "nbsimplegrader": {
          "config_key": "code.run-only",
          "editable": false,
          "label": "Code: Run-Only",
          "respondable": false,
          "response": null,
          "runnable": true,
          "type": "code"
        },
        "output_cleared": true,
        "owner_user_id": "23d85493-7ed1-49a4-baa7-630eaab08193",
        "source_hash": "39bceadf",
        "trusted": true
      },
      "outputs": [],
      "source": "# Load the CourseKata library\nsuppressPackageStartupMessages({\n    library(coursekata)\n    library(gridExtra)\n})"
    },
    {
      "cell_type": "markdown",
      "metadata": {
        "cell_id": "ed85d3bb150f4d65afe95f1a1ca5973f",
        "deepnote_cell_type": "markdown",
        "tags": []
      },
      "source": "<div class=\"alert alert-block alert-success\">\n\n### 1.0 - Approximate Time: 5-8 mins\n    \n</div>"
    },
    {
      "cell_type": "markdown",
      "metadata": {
        "cell_id": "b9c5c0a6963b4f04bc659b7760ebe61f",
        "deepnote_cell_type": "markdown",
        "tags": []
      },
      "source": "## Laptop Distraction Study\n\nDo you ever use your laptop to \"multitask\" during class (e.g., check social media, surf websites, shop)? Is it possible that your laptop use is affecting the other students around you? \n\nSome researchers decided to study this question with students trying to learn during a meteorology lecture. These students were randomly assigned to be seated right behind students using their laptop to multitask *or* right behind students who were taking paper notes. \n\n<img src=\"https://coursekata-course-assets.s3.us-west-1.amazonaws.com/UCLATALL/czi-stats-course/jnb_dJ1DDtFP-image.png\">\n \nAt the end of the lecture, all participants were tested on their factual comprehension of the lecture (20 questions) and their ability to apply the knowledge they learned (20 questions).\n\n#### Study information\n\nSana, F., Weston, T., & Cepeda, N. J. (2013) https://doi.org/10.1016/j.compedu.2012.10.003\n\n"
    },
    {
      "cell_type": "markdown",
      "metadata": {
        "cell_id": "28995abadc0c4a9c908b643b2df55b7f",
        "deepnote_cell_type": "markdown",
        "tags": []
      },
      "source": "## 1.0 - The Data & Hypothesis"
    },
    {
      "cell_type": "markdown",
      "metadata": {
        "cell_id": "86669ad143d9464d957ee30e2294dcf7",
        "deepnote_cell_type": "markdown",
        "tags": []
      },
      "source": "**1.1:** What are your thoughts about viewing other students' multitasking? Do you think it would have an effect on learning? \n"
    },
    {
      "cell_type": "markdown",
      "metadata": {
        "cell_id": "482f2b2b821745459971d669409e6dcd",
        "deepnote_cell_type": "markdown",
        "tags": []
      },
      "source": "**1.2:** In the cell below, take a look at the data frame `laptops`. Each row in the data frame contains data from a student participant.\n\nWhich columns should we learn more about?"
    },
    {
      "cell_type": "code",
      "execution_count": null,
      "metadata": {
        "cell_id": "34624aa6bb8a4c22a5ac71d9a9da4d69",
        "deepnote_cell_type": "code",
        "deepnote_to_be_reexecuted": false,
        "execution_millis": 1283,
        "execution_start": 1676160641256,
        "output_cleared": true,
        "source_hash": "d2457081",
        "tags": [],
        "trusted": true
      },
      "outputs": [],
      "source": "# Load the data frame\nlink <- \"https://docs.google.com/spreadsheets/d/e/2PACX-1vQA7gzpSepI7u5zu7JaMpxdEDNpreOGuHQlPcPx_CsONMmqGSEoU2qePuOWnVh_kErQnbnJ_eCqIzzz/pub?gid=1809544437&single=true&output=csv\"\nlaptops <- read.csv(link, header = TRUE)\n\n# Take a look at the data frame\n\n# COMPLETE\nstr(laptops)\nhead(laptops)\nglimpse(laptops)"
    },
    {
      "cell_type": "markdown",
      "metadata": {
        "cell_id": "39180a0b586a44a499062acd9fe1afbc",
        "deepnote_cell_type": "markdown",
        "tags": []
      },
      "source": "If you do have questions about the variables, take a look at these **variable descriptions**:\n\n- `id` ID for the participant.\n- `condition` Whether the student could see another student on a laptop multitasking (view) or not (no-view)\n- `fact` The proportion of fact-based questions answered correctly by a student.\n- `applied` The proportion of knowledge application questions answered correctly by a student.\n- `total` The proportion of all questions answered correctly by a student.\n- `age` The age of the student in years\n- `gender` Whether the student was female (1) or male (2)\n- `english_first` Whether English is the student’s first language (1) or not (2)\n- `familiarity` How much familiarity the student had with the lecture content, self-rated from none (1), to somewhat (4), to very (7)\n- `interesting` How interesting the student found the lecture content, self-rated from none (1), to somewhat (4), to very (7)\n- `engaging` How engaging the student found the lecture content, self-rated from none (1), to somewhat (4), to very (7)\n- `notes_preference` The method that the student generally prefers to take notes: pen (1), laptop (2), audio (3), or none (4)\n- `distracted` How distracted the student felt by the confederates, self-rated from not applicable(0) or none (1),  to somewhat (4), to very (7)\n- `distraction_effect` How detrimental the student felt the distraction was to their learning, self-rated from not applicable (0) or none (1), to somewhat (4), to very (7)\n\nIn addition to these variables, the quantity and quality of the notes were rated by the experimenter most familiar with the material. The experimenter did not know which condition the notes were from (i.e., they were *blind* to participants' condition) while scoring. \n\n- `notes_quantity` The amount of notes taken by the student during the lecture were rated by the most knowledgeable experimenter who did not know what condition the notes came from; experimenter-rated from few (1), to average (4), to a lot (7)\n- `notes_quality` Similar to the notes quantity, the quality of the notest taken by the student during the lecture; experimenter-rated from poor (1), to average (4), to great (7)\n\n"
    },
    {
      "cell_type": "markdown",
      "metadata": {
        "cell_id": "e9954dd97a014cdfb81698499b9a8ac4",
        "deepnote_cell_type": "markdown",
        "tags": []
      },
      "source": "**1.3:** If viewing other people's laptops indeed affect students, which of the variables above might be interesting outcomes to consider? \n"
    },
    {
      "cell_type": "markdown",
      "metadata": {
        "cell_id": "ef2901d654b140479fdb11e3f4afa7cd",
        "deepnote_cell_type": "markdown",
        "tags": []
      },
      "source": "<div class=\"alert alert-block alert-warning\">\n\n**Sample Response**\n\n*Answers vary. Some possible responses include:*\n\nImportant variables might be:\n- condition\n- performance: fact, applied, total\n- activity: notes_quantity\n- metacog: distracted, distraction_effect\n\n</div>"
    },
    {
      "cell_type": "markdown",
      "metadata": {
        "cell_id": "b62ab13aedb04acab43e8f4f4300d841",
        "deepnote_cell_type": "markdown",
        "tags": []
      },
      "source": "<div class=\"alert alert-block alert-success\">\n\n### 2.0 - Approximate Time: 8-10 mins\n    \n</div>"
    },
    {
      "cell_type": "markdown",
      "metadata": {
        "cell_id": "996eefadd40044228393669473c79cf8",
        "deepnote_cell_type": "markdown",
        "tags": []
      },
      "source": "## 2.0 - Explore and Model Variation"
    },
    {
      "cell_type": "markdown",
      "metadata": {
        "cell_id": "7481533b85064c68b080ffdbd3c72c31",
        "deepnote_cell_type": "markdown",
        "tags": []
      },
      "source": "**Hypothesis:** The researchers had predicted that `total` performance would differ based on which `condition` students were in.\n\n**2.1:** Write a word equation and modify the jitter plot below to help us explore this hypothesis. What do you think of this hypothesis from the data that you see?"
    },
    {
      "cell_type": "markdown",
      "metadata": {
        "cell_id": "df99589feddb48bd84146c7c63a21b78",
        "deepnote_cell_type": "markdown",
        "tags": []
      },
      "source": "<div class=\"alert alert-block alert-warning\">\n\n**Sample Response**\n \n**total = condition + other stuff**\n\n</div>"
    },
    {
      "cell_type": "code",
      "execution_count": null,
      "metadata": {
        "cell_id": "22441ec8482b4da6bfc1dd989be28b3c",
        "deepnote_cell_type": "code",
        "deepnote_to_be_reexecuted": false,
        "execution_millis": 712,
        "execution_start": 1676160642545,
        "output_cleared": true,
        "source_hash": "873b10a8",
        "tags": [],
        "trusted": true
      },
      "outputs": [],
      "source": "#gf_jitter( ~ , data = laptops, width = .1) \n\n\n#COMPLETE 2.1\ngf_jitter(total ~ condition, data = laptops, width = .1) \n\n\n#COMPLETE 2.2\ncondition_model <- lm(total ~ condition, data = laptops)\ncondition_model\n\ngf_jitter(total ~ condition, data = laptops, width = .1) %>%\n  gf_model(condition_model, color = \"green4\")"
    },
    {
      "cell_type": "markdown",
      "metadata": {
        "cell_id": "7109e003ecb84543b6ab9518e431a804",
        "deepnote_cell_type": "markdown",
        "tags": []
      },
      "source": "**2.2:** In the code cell *above*, find the best fitting model of your word equation and put it on the visualization above."
    },
    {
      "cell_type": "markdown",
      "metadata": {
        "cell_id": "eec36962e8bf46d98d08682cc99ba951",
        "deepnote_cell_type": "markdown",
        "tags": []
      },
      "source": "**2.3:** Write your best fitting model using GLM notation and interpret the parameter estimates. \n\n$$Y_i = ... X_i+ e_i$$\n\n$$total_i = ... condition_i+ e_i$$"
    },
    {
      "cell_type": "markdown",
      "metadata": {
        "cell_id": "ec6757bdd9914cf488b363f842a92b40",
        "deepnote_cell_type": "markdown",
        "tags": []
      },
      "source": "<div class=\"alert alert-block alert-warning\">\n\n**Sample Response**\n\n\nGLM notation:\n- $Y_i = .73 + -.18(condition) + e_i$\n- $total = .73 + -.18(condition) + e_i$\n\nInterpretation:\n- $b_0 = .73$: The average `total` of the no-view group (the mean line for group `no-view` in the plot).\n- $b_1 = -.18$: The adjustment to $b_0$ to get the mean `total` of the view group (the downward distance between the mean line for the `no-view` group and the mean line for the `view` group).    \n\n</div>"
    },
    {
      "cell_type": "markdown",
      "metadata": {
        "cell_id": "0634f44755a24db1a614dd732ac47f04",
        "deepnote_cell_type": "markdown",
        "tags": []
      },
      "source": "<div class=\"alert alert-block alert-success\">\n\n### 3.0 - Approximate Time: 15-18 mins\n    \n</div>"
    },
    {
      "cell_type": "markdown",
      "metadata": {
        "cell_id": "035eb294ca7a45d290052c0614cac2b0",
        "deepnote_cell_type": "markdown",
        "tags": []
      },
      "source": "## 3.0 - Evaluate Models"
    },
    {
      "cell_type": "markdown",
      "metadata": {
        "cell_id": "618537d865604c0096007185ad38d8c9",
        "deepnote_cell_type": "markdown",
        "tags": []
      },
      "source": "### Evaluate the Model Fit to the Sample Data"
    },
    {
      "cell_type": "markdown",
      "metadata": {
        "cell_id": "8d1d064d838d4b16b02aafd4f58eb67a",
        "deepnote_cell_type": "markdown",
        "tags": []
      },
      "source": "**3.1:** What are some ways you have learned to evaluate this model?"
    },
    {
      "cell_type": "markdown",
      "metadata": {
        "cell_id": "d8977ae40c0d4414abfee45862ecb204",
        "deepnote_cell_type": "markdown",
        "tags": []
      },
      "source": "<div class=\"alert alert-block alert-warning\">\n\n**Sample Response**\n \n- $$b_1$$: how big is the difference between the two groups, .18 (or 18%) lower average score for students in view of multi-taskers\n- PRE: .37 reduction in error  \n- SS Model: .300 SS Model compared to .800 SS Total (SS Model is 37% of SS Total)\n- F: the variance in the predictions (between the groups) is 21 times the error variation (within the group)\n- Cohen's d: 1.5 standard deviations \n\n</div>"
    },
    {
      "cell_type": "code",
      "execution_count": null,
      "metadata": {
        "cell_id": "16f904088c4c47b78deb834f83ea2a14",
        "deepnote_cell_type": "code",
        "deepnote_to_be_reexecuted": false,
        "execution_millis": 29,
        "execution_start": 1676160643254,
        "output_cleared": true,
        "source_hash": "18642a05",
        "tags": [],
        "trusted": true
      },
      "outputs": [],
      "source": "# COMPLETE\nb1(condition_model)\nsupernova(condition_model)\ncohensD(total ~ condition, data = laptops)"
    },
    {
      "cell_type": "markdown",
      "metadata": {
        "cell_id": "dccc5837297848a197605f8283321c19",
        "deepnote_cell_type": "markdown",
        "tags": []
      },
      "source": "### Evaluate the Models of the DGP\n\nThat's great that the best fitting model explains some of the variation in *this sample of data* (e.g., PRE = .37). But, what we care about is whether viewing multi-taskers explains some of the variation in the DGP!"
    },
    {
      "cell_type": "markdown",
      "metadata": {
        "cell_id": "99009e5fd7d64451b7e80fa7c2435e10",
        "deepnote_cell_type": "markdown",
        "tags": []
      },
      "source": "**Word Equations (and GLM Models) of the DGP**\n\nHere's a word equation and model in GLM notation for the idea that `condition` has *something* to do with the variation in `total` in the DGP.\n\n- **total = condition + other stuff**\n- $total_i = \\beta_0 + \\beta_1condition_i + \\epsilon_i$\n\n**3.1:** Write a word equation and GLM notation for the idea that `condition` has *nothing* to do with the variation in `total` (it's just other stuff)."
    },
    {
      "cell_type": "markdown",
      "metadata": {
        "cell_id": "8f07025d761342dabe02d4af887c39b6",
        "deepnote_cell_type": "markdown",
        "tags": []
      },
      "source": "<div class=\"alert alert-block alert-warning\">\n\n**Sample Response**\n\n- **total = mean + other stuff**\n- $total_i = \\beta_0 + \\epsilon_i$\n- to make it explicit that condition has 0 effect, here we have made $\\beta_1=0$ --> $total_i = \\beta_0 + (0)condition_i + \\epsilon_i$\n\n\n</div>"
    },
    {
      "cell_type": "markdown",
      "metadata": {
        "cell_id": "4f9534908d5a41fd8a7e4abb65cd941c",
        "deepnote_cell_type": "markdown",
        "tags": []
      },
      "source": "**3.2:** Which DGP is being mimicked when we use the `shuffle()` function? Implement it in the plot provided below. "
    },
    {
      "cell_type": "markdown",
      "metadata": {
        "cell_id": "6693e7b44b2849569a95b70fe4629803",
        "deepnote_cell_type": "markdown",
        "tags": []
      },
      "source": "<div class=\"alert alert-block alert-warning\">\n\n**Sample Responses (all equivalent)**\n\n- **total = mean + other stuff**\n- the empty model\n- the model where $\\beta_1=0$\n\n</div>"
    },
    {
      "cell_type": "code",
      "execution_count": null,
      "metadata": {
        "cell_id": "b771aa69d34f4b78a10f83517a3f3f7c",
        "deepnote_cell_type": "code",
        "deepnote_to_be_reexecuted": false,
        "execution_millis": 219,
        "execution_start": 1676160643284,
        "output_cleared": true,
        "source_hash": "8c75c6a8",
        "tags": [],
        "trusted": true
      },
      "outputs": [],
      "source": "# modify this code to mimic such a DGP\n#gf_jitter(total ~ condition, data = laptops, width = .1, color = \"navyblue\") \n\n\n# COMPLETE VERSION - add shuffle() to the outcome variable\n# what students should do\ngf_jitter(shuffle(total) ~ condition, data = laptops, width = .1, color = \"navyblue\") \n"
    },
    {
      "cell_type": "code",
      "execution_count": null,
      "metadata": {
        "cell_id": "403b13b5dcaa4454aa61d2e8e1878293",
        "deepnote_cell_type": "code",
        "deepnote_to_be_reexecuted": false,
        "execution_millis": 839,
        "execution_start": 1676160643501,
        "output_cleared": true,
        "source_hash": "35867eb5",
        "tags": [],
        "trusted": true
      },
      "outputs": [],
      "source": "# COMPLETE \n# what teacher might want to show after 3.3; side by side plots of original and shuffled plots\noriginal_plot <- gf_jitter(total ~ condition, data = laptops, width = .1, size = 1) %>%\n  gf_labs(title=\"original data\") %>%\n  gf_lims(y = c(.30, 1))\n\nshuff_plot1 <- gf_jitter(shuffle(total) ~ condition, data = laptops, width = .1, color = \"navyblue\", size = 1) %>%\n  gf_labs(title=\"shuffled data\")%>%\n  gf_lims(y = c(.30, 1))\n\nshuff_plot2 <- gf_jitter(shuffle(total) ~ condition, data = laptops, width = .1, color = \"navyblue\", size = 1) %>%\n  gf_labs(title=\"shuffled data\")%>%\n  gf_lims(y = c(.30, 1))\n\nshuff_plot3 <- gf_jitter(shuffle(total) ~ condition, data = laptops, width = .1, color = \"navyblue\", size = 1) %>%\n  gf_labs(title=\"shuffled data\")%>%\n  gf_lims(y = c(.30, 1))\n\ngrid.arrange(original_plot, shuff_plot1, shuff_plot2, shuff_plot3, ncol=2, nrow=2)\n"
    },
    {
      "cell_type": "markdown",
      "metadata": {
        "cell_id": "91721f0fc92447b89f124be947a3638e",
        "deepnote_cell_type": "markdown",
        "tags": []
      },
      "source": "**3.3:** How is the data from the empty model of the DGP (aka shuffle) different from the original data? "
    },
    {
      "cell_type": "markdown",
      "metadata": {
        "cell_id": "8e98488e32fb4193b1019764a0e9b4c3",
        "deepnote_cell_type": "markdown",
        "tags": []
      },
      "source": "\n\n<div class=\"alert alert-block alert-warning\">\n\n**Sample Response**\n\n\n- The \"shift\" down in the view group isn't as strongly present in any of the shuffle data. In the shuffled data, although the no-view and view groups aren't EXACTLY the same, one group isn't generally scoring higher than the other groups.\n- Because shuffling is random, some students will get groups that do look a little different (either no view higher than view or vice versa). Ask them, hey! How did you generate THAT data? They should say -- uhm, shuffling (through randomness). Point out that even randomness can lead to a difference between groups sometimes. But most of the time, groups of shuffled data don't look that different.\n\n</div>"
    },
    {
      "cell_type": "markdown",
      "metadata": {
        "cell_id": "1fcd4f641d5d41fe8c7f1c3064a5d7ca",
        "deepnote_cell_type": "markdown",
        "tags": []
      },
      "source": "**3.4, Draw:** On the graph handout your instructor has printed for you, visually estimate and draw in the means for the original and shuffled data. We know the sample $b_1$ (the difference between the means) is -0.18. How do the shuffled b1s compare to the original? "
    },
    {
      "cell_type": "markdown",
      "metadata": {
        "cell_id": "57395974eb3d43a8bddb9e682fec06bd",
        "deepnote_cell_type": "markdown",
        "tags": []
      },
      "source": "<div class=\"alert alert-block alert-warning\">\n\n**Sample Drawing**\n\n- To help students process the question, you might prompt: are the $b_1$s longer? smaller? closer to 0?\n- Because $b_1$s can be negative and positive, it maybe helpful to use this \"length\" language to help them focus on the absolute value of the $b_1$.\n\n<img src=\"https://coursekata-course-assets.s3.us-west-1.amazonaws.com/UCLATALL/czi-stats-course/jnb_nxN6MYTT-image.png\" width = 80%>\n\n</div>"
    },
    {
      "cell_type": "markdown",
      "metadata": {
        "cell_id": "9d24f33804634bb9860245cff946ce2f",
        "deepnote_cell_type": "markdown",
        "tags": []
      },
      "source": "<div class=\"alert alert-block alert-success\">\n\n### 4.0 - Approximate Time: 12-15 mins\n    \n</div>"
    },
    {
      "cell_type": "markdown",
      "metadata": {
        "cell_id": "87044710329547cf924efb69dce936c3",
        "deepnote_cell_type": "markdown",
        "tags": []
      },
      "source": "## 4.0 - Focus on the DGP where $\\beta_1=0$"
    },
    {
      "cell_type": "markdown",
      "metadata": {
        "cell_id": "aceeb4e36d4a43a2981dc034afca767a",
        "deepnote_cell_type": "markdown",
        "tags": []
      },
      "source": "We saw in the graphs that most of the shuffled data have a $b_1$ close to 0. \n\nHere we want you to consider an analogy: DGPs generate data just like parents give birth to kids. The $\\beta_1$ in the DGP is the parent and the $b_1$s in these samples are the kids. The kids ($b_1$s) tend to be similar to the parent ($\\beta_1=0$)."
    },
    {
      "cell_type": "markdown",
      "metadata": {
        "cell_id": "e2eba765759c44f3b3071cdf6a1704f7",
        "deepnote_cell_type": "markdown",
        "tags": []
      },
      "source": "**4.1:** Although the graphs were helpful for us to see that the $b_1$s are close to 0, we can skip straight to looking at the shuffled $b_1$s.\n\nRun the code below a few times. Why does one stay the same and the other change?"
    },
    {
      "cell_type": "code",
      "execution_count": null,
      "metadata": {
        "cell_id": "9a2299819d0441e089dc3b5cfcadde68",
        "deepnote_cell_type": "code",
        "deepnote_to_be_reexecuted": false,
        "execution_millis": 12,
        "execution_start": 1676160644337,
        "nbsimplegrader": {
          "config_key": "code.run-only",
          "editable": false,
          "label": "Code: Run-Only",
          "respondable": false,
          "response": null,
          "runnable": true,
          "type": "code"
        },
        "output_cleared": true,
        "source_hash": "e171d5a8",
        "tags": [],
        "trusted": true
      },
      "outputs": [],
      "source": "sample_b1 <- b1(total ~ condition, data = laptops)\nsample_b1\n\nb1(shuffle(total) ~ condition, data = laptops)"
    },
    {
      "cell_type": "markdown",
      "metadata": {
        "cell_id": "45dfa7c0d73949239de6cf6b20b5acde",
        "deepnote_cell_type": "markdown",
        "tags": []
      },
      "source": "<div class=\"alert alert-block alert-warning\">\n\n**Sample Response**\n\nThe first number is our sample $b_1$ and since our sample doesn't change, it stays the same.\n\nThe second number changes because the `shuffle()` function mimics \"no effect of laptops\" and people are randomly put into the `condition` groups. Each time we get a different $b_1$ (based on this random DGP).\n\n    \n</div>"
    },
    {
      "cell_type": "markdown",
      "metadata": {
        "cell_id": "57214b02cb6446bc814040a825644903",
        "deepnote_cell_type": "markdown"
      },
      "source": "**4.2:** Modify the code below to generate a bunch of $b_1$s (like 10 or 20) from the DGP where $\\beta_1=0$. \n\nRecall that the sample $b_1$ in this laptops experiment was approximately -0.18. Where does the sample $b_1$ fall in relation to these shuffled $b_1$s?\n"
    },
    {
      "cell_type": "code",
      "execution_count": null,
      "metadata": {
        "cell_id": "ea7011ab060b4202931694c3f4d6888b",
        "deepnote_cell_type": "code",
        "deepnote_to_be_reexecuted": false,
        "execution_millis": 52,
        "execution_start": 1676160651303,
        "output_cleared": true,
        "source_hash": "b1465d40",
        "tags": [],
        "trusted": true
      },
      "outputs": [],
      "source": "b1(shuffle(total) ~ condition, data = laptops)\n\n# COMPLETE\ndo(10) * b1(shuffle(total) ~ condition, data = laptops)\n\n# students might find it easier to look at these b1s if they are arranged in order\nbunch_of_b1s <- do(10) * b1(shuffle(total) ~ condition, data = laptops)\narrange(bunch_of_b1s, b1)"
    },
    {
      "cell_type": "markdown",
      "metadata": {
        "cell_id": "f4be08d3cb054d83979f42fa5373501e",
        "deepnote_cell_type": "markdown",
        "tags": []
      },
      "source": "<div class=\"alert alert-block alert-warning\">\n\n**Sample Response**\n\n- A lot of these $b_1$s are between -0.10 to +0.10. There are some negative and some positive ones.\n- The sample $b_1$ (-0.18) is more negative than all of these $b_1$s from shuffling.\n    \n</div>"
    },
    {
      "cell_type": "markdown",
      "metadata": {
        "cell_id": "5511810fcff64ab6ae9b018db1128d94",
        "deepnote_cell_type": "markdown",
        "tags": []
      },
      "source": "**4.3:** So what do you think about the DGP where $\\beta_1=0$? Could it have been the DGP that generated our sample $b_1$?"
    },
    {
      "cell_type": "markdown",
      "metadata": {
        "cell_id": "b9673cb060c44ccdb72cf9cb3f032ce2",
        "deepnote_cell_type": "markdown",
        "tags": []
      },
      "source": "<div class=\"alert alert-block alert-warning\">\n\n**Sample Response**\n\n- I haven't seen any $b_1$ that are *that negative* from this DGP.\n- A more sophisticated answer is to acknowledge that it might be possible but it's really unlikely or rare to see from this DGP.\n    \n</div>"
    },
    {
      "cell_type": "markdown",
      "metadata": {
        "cell_id": "699bd2225b5f4c1d9b7a1f52152db935",
        "deepnote_cell_type": "markdown",
        "tags": []
      },
      "source": "**4.4:** Going back to the researchers, what does this mean for their hypothesis? "
    },
    {
      "cell_type": "markdown",
      "metadata": {
        "cell_id": "83e55798c454460ea6b79de3a49cfc10",
        "deepnote_cell_type": "markdown",
        "tags": []
      },
      "source": "<div class=\"alert alert-block alert-warning\">\n\n**Sample Response**\n\nIt means that we don't think the empty model (**total = mean + other stuff**) generated our data. So maybe the condition model (**total = condition + other stuff**) is a better model.\n\nThis means that there really might be an effect of viewing multitasking on learning in the DGP. Students who saw multitasking got lower total scores than the no-view students and this decrease was more extreme than we would expect of two random groups.\n    \n</div>"
    },
    {
      "cell_type": "markdown",
      "metadata": {
        "cell_id": "7fa3cbbe9c4546a69ee2720ef4700fc5",
        "deepnote_cell_type": "markdown",
        "tags": []
      },
      "source": "<div class=\"alert alert-block alert-success\">\n\n### 5.0 - Approximate Time: 15-18 mins\n    \n</div>"
    },
    {
      "cell_type": "markdown",
      "metadata": {
        "cell_id": "9efe2b622d864977bf394d4d2ebf1e5b",
        "deepnote_cell_type": "markdown",
        "tags": []
      },
      "source": "## 5.0 - Exploring Other Outcome Variables"
    },
    {
      "cell_type": "markdown",
      "metadata": {
        "cell_id": "24f77dfa65ce4a138799a436bc112387",
        "deepnote_cell_type": "markdown",
        "tags": []
      },
      "source": "**5.1:** There are other outcome variables in this data frame that the researchers measured. Perhaps `condition` had an effect on other outcomes as well. Develop your own hypothesis and analyze the data. \n"
    },
    {
      "cell_type": "markdown",
      "metadata": {
        "cell_id": "f7f3091649a04e5999266f015dd36b62",
        "deepnote_cell_type": "markdown",
        "tags": []
      },
      "source": "<div class=\"alert alert-block alert-warning\">\n\n**Note to Instructors**\n\nConsider having students write/present these parts:\n- Exploring Variation (explanation of your hypothesis, word equations, graphs)\n- Modeling Variation (the model in GLM notation, a visualization of your model, interpreting the parameter estimates)\n- Evaluating the Model (how good is this model? could the empty model of the DGP have produced this data?)\n- Overall Conclusions (relate your analysis back to your hypothesis)\n\n*Students may choose to pursue other hypotheses with `condition` as the explanatory variable and other variables as the outcome, or they may pursue other ideas (outside of `condition`) as well. The goal is to help them try the above process on their own, and the practice using text and R code to report findings.* \n    \n</div>"
    }
  ],
  "metadata": {
    "deepnote_notebook_id": "b371ff3c0cf84f1dbf594c064f1a5355",
    "kernelspec": {
      "display_name": "R",
      "language": "R",
      "name": "ir"
    },
    "language_info": {
      "codemirror_mode": "r",
      "file_extension": ".r",
      "mimetype": "text/x-r-source",
      "name": "R",
      "pygments_lexer": "r",
      "version": "4.3.3"
    },
    "nbsimplegrader": {
      "publish_config": {
        "classes": [],
        "options": {},
        "tools": []
      }
    }
  },
  "nbformat": 4,
  "nbformat_minor": 1
}