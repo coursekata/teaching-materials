{
  "cells": [
    {
      "cell_type": "markdown",
      "metadata": {
        "cell_id": "fc46f2a9ea744af0b180a82965ccd21e",
        "deepnote_cell_height": 120.34375,
        "deepnote_cell_type": "markdown",
        "nbsimplegrader": {
          "config_key": "markdown.view-only",
          "editable": false,
          "label": "Markdown: View-Only",
          "respondable": false,
          "response": null,
          "runnable": false,
          "type": "markdown"
        }
      },
      "source": "# Explore Variation (COMPLETE)\n\n## Chapter 2.1-2.7 Where Data Comes From"
    },
    {
      "cell_type": "code",
      "execution_count": null,
      "metadata": {
        "cell_id": "df211f04693945798c2b5329c4f50bf5",
        "deepnote_cell_height": 317.96875,
        "deepnote_cell_type": "code",
        "deepnote_to_be_reexecuted": false,
        "execution_millis": 5487,
        "execution_start": 1713494527699,
        "nbsimplegrader": {
          "config_key": "code.run-only",
          "editable": false,
          "label": "Code: Run-Only",
          "respondable": false,
          "response": null,
          "runnable": true,
          "type": "code"
        },
        "source_hash": null,
        "trusted": true
      },
      "outputs": [],
      "source": "# run this cell to set up the notebook\nsuppressMessages(library(coursekata))\ncss <- suppressWarnings(readLines(\"https://raw.githubusercontent.com/jimstigler/jupyter/master/ck_jupyter_styles.css\"))\nIRdisplay::display_html(sprintf('<style>%s</style>', paste(css, collapse = \"\\n\")))\n\n\n# This code will import the data frame \nStudentData <- read.csv(\"https://docs.google.com/spreadsheets/d/e/2PACX-1vR_iPHZ-Vc9axdsnwsPJLywJaoRwYgph_xqLDhLBQTh5kYgy47RfcnVJw097Iby2FNYAGIireRkobDs/pub?gid=0&single=true&output=csv\")\n"
    },
    {
      "cell_type": "markdown",
      "metadata": {
        "cell_id": "208f4648ac354f0081a882f18eb213bd",
        "deepnote_cell_type": "markdown"
      },
      "source": "<div class=\"teacher-note\">\n<b>Teacher Note:</b> The goal of this notebook is to give students a chance to practice exploring patterns of variation in data. We selected data frames with variables that should be straight-forward and easy to understand, even without descriptions.\n</div>"
    },
    {
      "cell_type": "markdown",
      "metadata": {
        "cell_id": "c3d921148468458bb5e4584e36ce2e6f",
        "deepnote_cell_type": "markdown"
      },
      "source": "## 1 Let's explore the `StudentData` data frame. \n"
    },
    {
      "cell_type": "markdown",
      "metadata": {
        "cell_id": "2135fdc99fbc4523b66d28b14dd72f85",
        "deepnote_cell_height": 130.765625,
        "deepnote_cell_type": "markdown",
        "nbsimplegrader": {
          "config_key": "markdown.view-only",
          "editable": false,
          "label": "Markdown: View-Only",
          "respondable": false,
          "response": null,
          "runnable": false,
          "type": "markdown"
        }
      },
      "source": "### 1.1 Pick one (or both!) of the questions below to answer:\n\n- What is the highest number of siblings a student has in this data frame?\n- What is the highest number of pets a student has in this data frame?"
    },
    {
      "cell_type": "markdown",
      "metadata": {
        "cell_id": "9385f79a2d5b42c9a366905d4197e01c",
        "deepnote_cell_height": 66.359375,
        "deepnote_cell_type": "markdown",
        "nbsimplegrader": {
          "config_key": "markdown.response",
          "editable": true,
          "label": "Response: Markdown",
          "respondable": true,
          "response": null,
          "runnable": true,
          "type": "markdown"
        }
      },
      "source": "> Write your answer here."
    },
    {
      "cell_type": "code",
      "execution_count": null,
      "metadata": {
        "cell_id": "6c9719a77a8948e992d18457fac6e410",
        "deepnote_cell_type": "code",
        "deepnote_to_be_reexecuted": false,
        "execution_millis": 70,
        "execution_start": 1713131735518,
        "source_hash": null,
        "trusted": true
      },
      "outputs": [],
      "source": "# sample response\nsort(StudentData$num_sibling)\ntally(StudentData$num_sibling)\n\nsort(StudentData$num_pets)\ntally(StudentData$num_pets)"
    },
    {
      "cell_type": "markdown",
      "metadata": {
        "cell_id": "3e423f971bb94811a8e1f999834f8633",
        "deepnote_cell_type": "markdown"
      },
      "source": "<div class=\"teacher-note\">\n\n<b>Sample Response</b>: The highest number of siblings in this dataset is 3. The highest number of pets is 8.\n    \n</div>"
    },
    {
      "cell_type": "markdown",
      "metadata": {
        "cell_id": "5b58655e2b784a459791cd29d30c93b0",
        "deepnote_cell_height": 130.765625,
        "deepnote_cell_type": "markdown",
        "nbsimplegrader": {
          "config_key": "markdown.view-only",
          "editable": false,
          "label": "Markdown: View-Only",
          "respondable": false,
          "response": null,
          "runnable": false,
          "type": "markdown"
        }
      },
      "source": "### 1.2 Pick one (or more!) of the questions below to answer:\n\n- What is the most common favorite color?\n- Are there more guys or gals in this data frame?\n- What is the most common favorite subject?"
    },
    {
      "cell_type": "markdown",
      "metadata": {
        "cell_id": "f13ccfe34c6c4da6b737a9bce2d8fde6",
        "deepnote_cell_height": 66.359375,
        "deepnote_cell_type": "markdown",
        "nbsimplegrader": {
          "config_key": "markdown.response",
          "editable": true,
          "label": "Response: Markdown",
          "respondable": true,
          "response": null,
          "runnable": true,
          "type": "markdown"
        }
      },
      "source": "> Write your answer here."
    },
    {
      "cell_type": "code",
      "execution_count": null,
      "metadata": {
        "cell_id": "14274cee5c274350875cdf8d9d5e975f",
        "deepnote_cell_type": "code",
        "deepnote_to_be_reexecuted": false,
        "execution_millis": 17,
        "execution_start": 1713131778022,
        "source_hash": null,
        "trusted": true
      },
      "outputs": [],
      "source": "# sample response\ntally(StudentData$fav_color)\n\ntally(StudentData$gender)\n\ntally(StudentData$fav_subject)"
    },
    {
      "cell_type": "markdown",
      "metadata": {
        "cell_id": "f1b9c2f4ac054fa89d1d88ad58d70975",
        "deepnote_cell_type": "markdown"
      },
      "source": "<div class=\"teacher-note\">\n\n<b>Sample Response</b>: \n\nThe most common favorite color is green (variables like this one will pose a slightly extra challenge because of the \"messiness\" of the data, since the students who responded were able to input their own responses and they were not always consistent,  some categories will need to be combined (e.g., \"green\" and \"Green\").\n    \nThere are more guys in the data frame.\n    \nThe most common favorite subject is history.\n    \n</div>"
    },
    {
      "cell_type": "markdown",
      "metadata": {
        "cell_id": "7bacf004f4d44d67870cbe552d3c7da5",
        "deepnote_cell_height": 130.765625,
        "deepnote_cell_type": "markdown",
        "nbsimplegrader": {
          "config_key": "markdown.view-only",
          "editable": false,
          "label": "Markdown: View-Only",
          "respondable": false,
          "response": null,
          "runnable": false,
          "type": "markdown"
        }
      },
      "source": "### 1.3 Which variable has the *least* amount of variation: `height` or `head_circumference`? Make a guess first, then use R to answer the question. Why do you think that is the case?"
    },
    {
      "cell_type": "markdown",
      "metadata": {
        "cell_id": "21cfc9c2db164984a6049861d29a8207",
        "deepnote_cell_height": 66.359375,
        "deepnote_cell_type": "markdown",
        "nbsimplegrader": {
          "config_key": "markdown.response",
          "editable": true,
          "label": "Response: Markdown",
          "respondable": true,
          "response": null,
          "runnable": true,
          "type": "markdown"
        }
      },
      "source": "> Write your answer here."
    },
    {
      "cell_type": "code",
      "execution_count": null,
      "metadata": {
        "cell_id": "786734e0d3c54e50b1cd63ae79d1f666",
        "deepnote_cell_type": "code",
        "deepnote_to_be_reexecuted": false,
        "execution_millis": 45,
        "execution_start": 1713131599745,
        "source_hash": null,
        "trusted": true
      },
      "outputs": [],
      "source": "# sample response\nsort(StudentData$height)\nsort(StudentData$head_circumference)"
    },
    {
      "cell_type": "markdown",
      "metadata": {
        "cell_id": "144c39ccc2e6457f9d0ac8cb4606e722",
        "deepnote_cell_type": "markdown"
      },
      "source": "<div class=\"teacher-note\">\n\n<b>Sample Response</b>: Head circumference has the least amount of variation. While people vary in height due to genetics, nutrition, and hormonal factors, the brain's size is relatively standardized across healthy individuals.\n    \n</div>"
    },
    {
      "cell_type": "markdown",
      "metadata": {
        "cell_id": "f08ab6da519a4f0cb3f3d7e4696b1559",
        "deepnote_cell_type": "markdown"
      },
      "source": "## 2 Let's explore the `nba_tattoos` data frame. "
    },
    {
      "cell_type": "markdown",
      "metadata": {
        "cell_id": "78f6007219344d4e92e1631a88bc2810",
        "deepnote_cell_height": 130.765625,
        "deepnote_cell_type": "markdown",
        "nbsimplegrader": {
          "config_key": "markdown.view-only",
          "editable": false,
          "label": "Markdown: View-Only",
          "respondable": false,
          "response": null,
          "runnable": false,
          "type": "markdown"
        }
      },
      "source": "### 2.1 Are there more players that have tattoos than players that do not have tattoos?"
    },
    {
      "cell_type": "markdown",
      "metadata": {
        "cell_id": "ea14ada9f5fc428dbcd153ecfcc84919",
        "deepnote_cell_height": 66.359375,
        "deepnote_cell_type": "markdown",
        "nbsimplegrader": {
          "config_key": "markdown.response",
          "editable": true,
          "label": "Response: Markdown",
          "respondable": true,
          "response": null,
          "runnable": true,
          "type": "markdown"
        }
      },
      "source": "> Write your answer here."
    },
    {
      "cell_type": "code",
      "execution_count": null,
      "metadata": {
        "cell_id": "9cadb878fedd4957b493c2e3dceb5249",
        "deepnote_cell_type": "code",
        "deepnote_to_be_reexecuted": false,
        "execution_millis": 83,
        "execution_start": 1713131925713,
        "source_hash": null,
        "trusted": true
      },
      "outputs": [],
      "source": "# sample response\ntally(nba_tattoos$tattoos)"
    },
    {
      "cell_type": "markdown",
      "metadata": {
        "cell_id": "54211cafb6f641cca7f49882e8fa93eb",
        "deepnote_cell_type": "markdown"
      },
      "source": "<div class=\"teacher-note\">\n\n<b>Sample Response</b>: Yes, there are more players with tattoos (348) than without (288).\n</div>"
    },
    {
      "cell_type": "markdown",
      "metadata": {
        "cell_id": "4a63e890ba5c42cd9a7fec0a4c3bcd40",
        "deepnote_cell_height": 130.765625,
        "deepnote_cell_type": "markdown",
        "nbsimplegrader": {
          "config_key": "markdown.view-only",
          "editable": false,
          "label": "Markdown: View-Only",
          "respondable": false,
          "response": null,
          "runnable": false,
          "type": "markdown"
        }
      },
      "source": "### 2.2 Does NBA player **A.J. Price** have tattoos?\n"
    },
    {
      "cell_type": "markdown",
      "metadata": {
        "cell_id": "bbf8646adc894ecd89409e6f14bcd206",
        "deepnote_cell_height": 66.359375,
        "deepnote_cell_type": "markdown",
        "nbsimplegrader": {
          "config_key": "markdown.response",
          "editable": true,
          "label": "Response: Markdown",
          "respondable": true,
          "response": null,
          "runnable": true,
          "type": "markdown"
        }
      },
      "source": "> Write your answer here."
    },
    {
      "cell_type": "code",
      "execution_count": null,
      "metadata": {
        "allow_embed": false,
        "cell_id": "a0d63924396946478c06617f41fc942e",
        "deepnote_cell_type": "code",
        "deepnote_to_be_reexecuted": false,
        "execution_millis": 18,
        "execution_start": 1713132748608,
        "source_hash": null,
        "trusted": true
      },
      "outputs": [],
      "source": "# sample response\nhead(nba_tattoos)"
    },
    {
      "cell_type": "markdown",
      "metadata": {
        "cell_id": "83ba05b3ddac4b898f4626373a35416f",
        "deepnote_cell_type": "markdown"
      },
      "source": "<div class=\"teacher-note\">\n\n<b>Sample Response</b>: No, A.J. Price does not have tattoos.\n</div>"
    },
    {
      "cell_type": "markdown",
      "metadata": {
        "cell_id": "30cc5562307c4674ae8311873e2a5f28",
        "deepnote_cell_height": 130.765625,
        "deepnote_cell_type": "markdown",
        "nbsimplegrader": {
          "config_key": "markdown.view-only",
          "editable": false,
          "label": "Markdown: View-Only",
          "respondable": false,
          "response": null,
          "runnable": false,
          "type": "markdown"
        }
      },
      "source": "### 2.3 Which player has the most tattoos?"
    },
    {
      "cell_type": "markdown",
      "metadata": {
        "cell_id": "4507370438c94906967cbdb234e47313",
        "deepnote_cell_height": 66.359375,
        "deepnote_cell_type": "markdown",
        "nbsimplegrader": {
          "config_key": "markdown.response",
          "editable": true,
          "label": "Response: Markdown",
          "respondable": true,
          "response": null,
          "runnable": true,
          "type": "markdown"
        }
      },
      "source": "> Write your answer here."
    },
    {
      "cell_type": "markdown",
      "metadata": {
        "cell_id": "1e12e69a58954a7087925a48f10dd594",
        "deepnote_cell_type": "markdown"
      },
      "source": "<div class=\"teacher-note\">\n\n<b>Sample Response</b>: Trick question! This data frame does not measure that information.\n</div>"
    },
    {
      "cell_type": "markdown",
      "metadata": {
        "cell_id": "139d3499e89a47b98825b7943a10b40c",
        "deepnote_cell_type": "markdown"
      },
      "source": "## 3 Let's explore the `Cereal` data frame. "
    },
    {
      "cell_type": "markdown",
      "metadata": {
        "cell_id": "ae04c4627de14557b217103960837492",
        "deepnote_cell_height": 108.359375,
        "deepnote_cell_type": "markdown",
        "nbsimplegrader": {
          "config_key": "markdown.view-only",
          "editable": false,
          "label": "Markdown: View-Only",
          "respondable": false,
          "response": null,
          "runnable": false,
          "type": "markdown"
        }
      },
      "source": "### 3.1 Which Company has the most number of cereals represented in this data frame?\n\n*Note: G = General Mills, Q = Quaker, K = Kellogg*"
    },
    {
      "cell_type": "markdown",
      "metadata": {
        "cell_id": "45daa6a983ab4701bffd19910d806ea2",
        "deepnote_cell_height": 66.359375,
        "deepnote_cell_type": "markdown",
        "nbsimplegrader": {
          "config_key": "markdown.response",
          "editable": true,
          "label": "Response: Markdown",
          "respondable": true,
          "response": null,
          "runnable": true,
          "type": "markdown"
        }
      },
      "source": "> Write your answer here."
    },
    {
      "cell_type": "code",
      "execution_count": null,
      "metadata": {
        "allow_embed": false,
        "cell_id": "b4b0e77bf6ac4645b475d3bca7bad371",
        "deepnote_cell_type": "code",
        "deepnote_to_be_reexecuted": false,
        "execution_millis": 213,
        "execution_start": 1713132426074,
        "source_hash": null,
        "trusted": true
      },
      "outputs": [],
      "source": "# sample response\ntally(Cereal$Company)\n"
    },
    {
      "cell_type": "markdown",
      "metadata": {
        "cell_id": "7b856438f23543d0a3613030fd327e7f",
        "deepnote_cell_type": "markdown"
      },
      "source": "<div class=\"teacher-note\">\n\n<b>Sample Response</b>: General Mills.\n</div>"
    },
    {
      "cell_type": "markdown",
      "metadata": {
        "cell_id": "f5c55ac18897427bb7314645d74c9a97",
        "deepnote_cell_height": 108.359375,
        "deepnote_cell_type": "markdown",
        "nbsimplegrader": {
          "config_key": "markdown.view-only",
          "editable": false,
          "label": "Markdown: View-Only",
          "respondable": false,
          "response": null,
          "runnable": false,
          "type": "markdown"
        }
      },
      "source": "### 3.2 About how many calories do *most* cereals tend to have?\n"
    },
    {
      "cell_type": "markdown",
      "metadata": {
        "cell_id": "89f060d5a5ba4dcc834cf06f85dcf162",
        "deepnote_cell_height": 66.359375,
        "deepnote_cell_type": "markdown",
        "nbsimplegrader": {
          "config_key": "markdown.response",
          "editable": true,
          "label": "Response: Markdown",
          "respondable": true,
          "response": null,
          "runnable": true,
          "type": "markdown"
        }
      },
      "source": "> Write your answer here."
    },
    {
      "cell_type": "code",
      "execution_count": null,
      "metadata": {
        "allow_embed": false,
        "cell_id": "13c862235cb245e59bf6afcfdaf4e699",
        "deepnote_cell_type": "code",
        "deepnote_to_be_reexecuted": false,
        "execution_millis": 226,
        "execution_start": 1713494535347,
        "source_hash": null,
        "trusted": true
      },
      "outputs": [],
      "source": "# sample response\nsort(Cereal$Calories)\nmean(Cereal$Calories)"
    },
    {
      "cell_type": "markdown",
      "metadata": {
        "cell_id": "479579526cc34df8ad68901224fa1d83",
        "deepnote_cell_type": "markdown"
      },
      "source": "<div class=\"teacher-note\">\n\n<b>Note to Instructor</b>: \nStudents may also think to try to estimate the mean (instead of the mode), which is a-okay because it is still technically a measure of central tendency, but this is a good point to emphasize the difference between the mode and the mean (and how different they can be!). You might follow up by asking them which one *they* think is a better representation of the variation in calories.\n    \n<b>Sample Responses</b>: \n    \n- Most cereals tend to have 117 calories (the mode).\n- The average number of calories is 133.83.\n    \n</div>"
    },
    {
      "cell_type": "markdown",
      "metadata": {
        "cell_id": "c906a9f18be5488da4d255de43b53743",
        "deepnote_cell_height": 108.359375,
        "deepnote_cell_type": "markdown",
        "nbsimplegrader": {
          "config_key": "markdown.view-only",
          "editable": false,
          "label": "Markdown: View-Only",
          "respondable": false,
          "response": null,
          "runnable": false,
          "type": "markdown"
        }
      },
      "source": "### 3.3 What is the lowest and the highest amount of sugar found in these cereals?"
    },
    {
      "cell_type": "markdown",
      "metadata": {
        "cell_id": "f6c8a90fb93a470ab05abd1fe03c9f7d",
        "deepnote_cell_height": 66.359375,
        "deepnote_cell_type": "markdown",
        "nbsimplegrader": {
          "config_key": "markdown.response",
          "editable": true,
          "label": "Response: Markdown",
          "respondable": true,
          "response": null,
          "runnable": true,
          "type": "markdown"
        }
      },
      "source": "> Write your answer here."
    },
    {
      "cell_type": "code",
      "execution_count": null,
      "metadata": {
        "allow_embed": false,
        "cell_id": "c6716e17b47548348ca2f32057ecc102",
        "deepnote_cell_type": "code",
        "deepnote_to_be_reexecuted": false,
        "execution_millis": 89,
        "execution_start": 1713132462861,
        "source_hash": null,
        "trusted": true
      },
      "outputs": [],
      "source": "# sample response\nsort(Cereal$Sugar)"
    },
    {
      "cell_type": "markdown",
      "metadata": {
        "cell_id": "11b44de20b394268bbbbad91712534d2",
        "deepnote_cell_type": "markdown"
      },
      "source": "<div class=\"teacher-note\"> \n<b>Sample Response</b>: The lowest amount of sugar in the cereals is 1.6 grams, and the highest amount is 20 grams.  \n</div>"
    },
    {
      "cell_type": "markdown",
      "metadata": {
        "cell_id": "1b535518fec04e389daa15d4b29261c7",
        "deepnote_cell_height": 108.359375,
        "deepnote_cell_type": "markdown",
        "nbsimplegrader": {
          "config_key": "markdown.view-only",
          "editable": false,
          "label": "Markdown: View-Only",
          "respondable": false,
          "response": null,
          "runnable": false,
          "type": "markdown"
        }
      },
      "source": "## 4 What is the difference between `sort()` and `tally()`?"
    },
    {
      "cell_type": "markdown",
      "metadata": {
        "cell_id": "fb8ff4b9023a479681ba1785dec2cf9a",
        "deepnote_cell_height": 66.359375,
        "deepnote_cell_type": "markdown",
        "nbsimplegrader": {
          "config_key": "markdown.response",
          "editable": true,
          "label": "Response: Markdown",
          "respondable": true,
          "response": null,
          "runnable": true,
          "type": "markdown"
        }
      },
      "source": "> Write your answer here."
    },
    {
      "cell_type": "markdown",
      "metadata": {
        "cell_id": "032b57ed2e954329a963130ebfe03afe",
        "deepnote_cell_type": "markdown"
      },
      "source": "<div class=\"teacher-note\"> \n<b>Sample Response</b>: The `sort()` function will take a variable (or, column/vector) and sort it in numerical or alphabetical order. The `tally()` function counts up the number of observations for each group of a category. \n</div>"
    },
    {
      "cell_type": "markdown",
      "metadata": {
        "cell_id": "57cba8b3743c4af3acdcb5975b66fcd2",
        "deepnote_cell_type": "markdown"
      },
      "source": "<div class=\"alert alert-block alert-info\">\n\n## Bonus/If Time:\n\nUse this space for \"Free Play\" and just explore whatever you are curious about!\n\nAlso, feel free to play around with the code on your cheatsheet!\n\n</div>"
    },
    {
      "cell_type": "code",
      "execution_count": null,
      "metadata": {
        "cell_id": "cbd413fde56242799e1ba15226f910ae",
        "deepnote_cell_type": "code",
        "trusted": true
      },
      "outputs": [],
      "source": "# Free Play!\n\n"
    }
  ],
  "metadata": {
    "deepnote_notebook_id": "313fc5a1f84844599a77412cc98db87a",
    "kernelspec": {
      "display_name": "R",
      "language": "R",
      "name": "ir"
    },
    "language_info": {
      "codemirror_mode": "r",
      "file_extension": ".r",
      "mimetype": "text/x-r-source",
      "name": "R",
      "pygments_lexer": "r",
      "version": "4.3.3"
    },
    "nbsimplegrader": {
      "publish_config": {
        "classes": [],
        "options": [],
        "tools": []
      }
    }
  },
  "nbformat": 4,
  "nbformat_minor": 1
}