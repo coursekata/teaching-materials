{
  "cells": [
    {
      "cell_type": "markdown",
      "metadata": {
        "cell_id": "1bbc3a88079341558d286c61c48199bf",
        "deepnote_cell_height": 305.5,
        "deepnote_cell_type": "markdown"
      },
      "source": "<div class=\"alert alert-block alert-danger\">\n\n# 2A: Measuring Gummy Bear Launches (COMPLETE)\n\n**Lesson assumes students have read up through page: 2.5**\n\n**Use with textbook version 6.0+**\n\n*Note to instructors:* This lesson requires special materials (including popsicle sticks, rubber bands, gummy bears, measurement tools, and a printed [Launching Bears Data Collection Sheet](https://docs.google.com/document/d/1kQhk0rc0nzzv9MecqI34E--bfQIGUbaZb8O7wyVRsVY/edit))! Feel free to work on an alternative lesson if your class won't have these materials.\n\n</div>"
    },
    {
      "cell_type": "markdown",
      "metadata": {
        "cell_id": "3a03ce5ba4e24a25ab67c6c87b05b778",
        "deepnote_cell_height": 454.640625,
        "deepnote_cell_type": "markdown"
      },
      "source": "<div class=\"alert alert-block alert-warning\">\n\n#### Summary of Notebook:\n\nIn this lesson, students will build a small catapult, use it to launch gummy bears, then measure the distance the bears traveled. They will also run an experiment by modifying the height of the launching stick. The lesson serves to provide a social bonding activity as well as an embodied learning experience that provides first-hand experiences with the lesson concepts.\n\n#### Includes:\n- Practice thinking about where data come from\n- Distinguishing measurement error from mistakes\n- Practice operationalizing ideas such as the *best* way to launch the bears, and the *best* way to measure the distance they flew\n- Designing an experiment (with the number of lift sticks in the catapult)\n- Thinking about how variation in one variable (e.g., lift sticks) can affect another variable (e.g., distance)\n\n</div>"
    },
    {
      "cell_type": "markdown",
      "metadata": {
        "cell_id": "2681468708fb4cc3aa4f41fbf294bac7",
        "deepnote_cell_height": 163.9375,
        "deepnote_cell_type": "markdown",
        "tags": []
      },
      "source": "<div class=\"alert alert-block alert-success\">\n\n## Approximate time to complete Notebook: 50-70 Mins\n\n</div>"
    },
    {
      "cell_type": "code",
      "execution_count": null,
      "metadata": {
        "cell_id": "f9a3b841ba7743cba13eb1baa61c722b",
        "deepnote_cell_type": "code",
        "deepnote_to_be_reexecuted": false,
        "execution_millis": 1696,
        "execution_start": 1630031148826,
        "owner_user_id": "23d85493-7ed1-49a4-baa7-630eaab08193",
        "source_hash": null,
        "trusted": true
      },
      "outputs": [],
      "source": "# This code will load the R packages we will use\nsuppressPackageStartupMessages({\n    library(coursekata)\n})"
    },
    {
      "cell_type": "markdown",
      "metadata": {
        "cell_id": "b858784dbbd54640918621d014ee7700",
        "deepnote_cell_height": 115.9375,
        "deepnote_cell_type": "markdown",
        "tags": []
      },
      "source": "<div class=\"alert alert-block alert-success\">\n\n### 1.0 - Approximate Time: 2-3 mins\n\n</div>"
    },
    {
      "cell_type": "markdown",
      "metadata": {
        "cell_id": "648334c40b4f45fd8bacafb3b80a2a03",
        "deepnote_cell_height": 360.28125,
        "deepnote_cell_type": "markdown"
      },
      "source": "## 1.0 - How do we get data?\nWe use data to try and understand all kinds of things: climate change, poverty, politics, psychology, health, etc. But that means we need to measure all kinds of things that are hard to measure. How do we measure how smart, happy, or healthy someone is? How powerful, free, or secure a country is? Once we get that data, we want to use data science to figure out whether this stuff changes, improves, differs across people, or predicts some future outcome, and much more.\n\nBut it all starts with figuring out measurement -- how would we know how much of something exists? How would we know how that thing varies across people, animals, families, companies, countries?\n \nLet’s start by measuring something easy. The distance traveled by gummy bears! We’ll build some catapults, launch some gummy bears, and measure how far they flew!\n"
    },
    {
      "cell_type": "markdown",
      "metadata": {
        "cell_id": "47fe8f195f3842ab8519d2639f5773d7",
        "deepnote_cell_height": 115.9375,
        "deepnote_cell_type": "markdown",
        "tags": []
      },
      "source": "<div class=\"alert alert-block alert-success\">\n\n### 2.0 - Approximate Time: 6-10 mins\n\n</div>"
    },
    {
      "cell_type": "markdown",
      "metadata": {
        "cell_id": "c1e516536f3a425a8e3f767d7b7564a6",
        "deepnote_cell_height": 130.75,
        "deepnote_cell_type": "markdown"
      },
      "source": "## 2.0 - Build Your Catapults\n\nWe’re going to build a basic catapult to launch our gummy bears. As you do, consider this question: What makes a gummy bear launch the farthest?"
    },
    {
      "cell_type": "markdown",
      "metadata": {
        "cell_id": "20e70eddf347456f8293aa55865211ff",
        "deepnote_cell_height": 163.125,
        "deepnote_cell_type": "markdown",
        "tags": []
      },
      "source": "<div class=\"alert alert-block alert-warning\">\n\n**Note to Instructors**\n\n*In order to save class time, you may want to advise students to build their catapults before class. It takes roughly 6-10 minutes to build.*\n\n</div>"
    },
    {
      "cell_type": "markdown",
      "metadata": {
        "cell_id": "e7c39bbd05a04683914ede70e5e68726",
        "deepnote_cell_height": 263.6875,
        "deepnote_cell_type": "markdown",
        "tags": []
      },
      "source": "### Materials\n\n- 16 craft sticks (popsicle sticks)\n- 7 sturdy rubber bands\n- Gummy Bears (just one package; save the other package for next class session)\n- Small open area (1-2 square meters will do. It should be a sturdy, flat surface such as a table or floor.)\n- Rigid ruler, flexible measuring tape\n- *Optional*: Masking tape and sharpie (for marking boundaries, catapult starting lines, etc.) \n"
    },
    {
      "cell_type": "markdown",
      "metadata": {
        "cell_id": "1fc9abde60c9431f938f2daa4c9d07ba",
        "deepnote_cell_height": 206.921875,
        "deepnote_cell_type": "markdown",
        "tags": []
      },
      "source": "### Some Notes\n\n- Disclaimer: The simple catapult described in this project is safe when used with soft objects (such as gummy bears or balled up paper). Shooting hard objects or using other homemade catapults can be dangerous. Make sure any objects you launch are soft and light so as not to harm anyone or cause any damage to objects around you.\n- Catapult instructions adapted from [this Scientific American article](https://www.scientificamerican.com/article/build-a-catapult/)\n"
    },
    {
      "cell_type": "markdown",
      "metadata": {
        "cell_id": "c4af2ff4a12e442c874e49ef62a80437",
        "deepnote_cell_height": 100.34375,
        "deepnote_cell_type": "markdown",
        "tags": []
      },
      "source": "### Step-By-Step Instructions\n\nYou can also find a video explanation here: https://youtu.be/EXiNq_BcDUc"
    },
    {
      "cell_type": "markdown",
      "metadata": {
        "cell_id": "68c2cd764a3942798d141a52987aa267",
        "deepnote_cell_height": 137.140625,
        "deepnote_cell_type": "markdown"
      },
      "source": "**STEP 1 - Base**: Take six craft sticks, stack them one on top of the other. Secure these sticks together by wrapping rubber bands around both ends of the stack. *Note*: if you have a variety of rubberband sizes, you may use *any* size for each step during your build.\n\n<img src=\"https://coursekata-course-assets.s3.us-west-1.amazonaws.com/UCLATALL/czi-stats-course/jnb_Q8FYqTPL-Catapult-Step-1-Imgur.png\" title=\"Catapult Step 1\" />"
    },
    {
      "cell_type": "markdown",
      "metadata": {
        "cell_id": "65322fdf86604e66b09d6c100c722c13",
        "deepnote_cell_height": 159.53125,
        "deepnote_cell_type": "markdown"
      },
      "source": "**STEP 2 - Tilt**: Take another six craft sticks, stack them one on top of the other, and attach the stack perpendicular to the stack you just made, near one end. You can do this with one or two rubber bands that are crossed in an X over the sticks. If you cross it this way, the sticks will stay nicely perpendicular. (this will prop up the base of the catapult so that it will not lie flat).\n\n<img src=\"https://coursekata-course-assets.s3.us-west-1.amazonaws.com/UCLATALL/czi-stats-course/jnb_jtyxXw0J-catapult-step-2.png\" title=\"Catapult Step 2\" />"
    },
    {
      "cell_type": "markdown",
      "metadata": {
        "cell_id": "f99b87fb0e6d46a4892605e789cdceed",
        "deepnote_cell_height": 137.140625,
        "deepnote_cell_type": "markdown"
      },
      "source": "**STEP 3 - Lift**: To add the lift take one stick and attach it perpendicular to the base, around the middle, so you get a cross shape. You can do this with one or two rubber bands that are crossed in an X over the sticks. If you cross it this way, the sticks will stay nicely perpendicular.\n\n<img src=\"https://coursekata-course-assets.s3.us-west-1.amazonaws.com/UCLATALL/czi-stats-course/jnb_kJSzmSyQ-catapult-step-3.png\" title=\"Catapult Step 3\" />"
    },
    {
      "cell_type": "markdown",
      "metadata": {
        "cell_id": "7f43905d0b6f45edadcf97b9dafa26e1",
        "deepnote_cell_height": 181.9375,
        "deepnote_cell_type": "markdown"
      },
      "source": "**STEP 4 - Launching Stick**: Next, add the launching stick by attaching a stick to the end opposite of the tilt stack with a rubber band. If it were not for the lift stick in between, the launching stick would fall flat on top of the base. Now the launching stick and the base form a V shape lying on its side with the lift stick in the middle. (Note: You should have two popsicle sticks left over--these will be used later).\n\n\n<img src=\"https://coursekata-course-assets.s3.us-west-1.amazonaws.com/UCLATALL/czi-stats-course/jnb_dvBnTnD7-catapult-step-4.png\" title=\"Catapult Step 4\" />"
    },
    {
      "cell_type": "markdown",
      "metadata": {
        "cell_id": "5f9c1307a85b4edb9c5a46d1c8629a5c",
        "deepnote_cell_height": 115.9375,
        "deepnote_cell_type": "markdown",
        "tags": []
      },
      "source": "<div class=\"alert alert-block alert-success\">\n\n### 3.0 - Approximate Time: 6-8 mins\n\n</div>"
    },
    {
      "cell_type": "markdown",
      "metadata": {
        "cell_id": "9ea79f8cb1e34fbe8101fce5d0973a6e",
        "deepnote_cell_height": 108.359375,
        "deepnote_cell_type": "markdown"
      },
      "source": "## 3.0 - Launch some gummy bears\n\nTry a few gummy bear launches."
    },
    {
      "cell_type": "markdown",
      "metadata": {
        "cell_id": "4f4398b80edf4548abe92380c059d5aa",
        "deepnote_cell_height": 74.75,
        "deepnote_cell_type": "markdown"
      },
      "source": "3.1 - Now that you’ve tried a few launches, what are some things that seem to affect how far the gummy bear goes? \n"
    },
    {
      "cell_type": "markdown",
      "metadata": {
        "cell_id": "964070a32ab84fca9060709f48cb2b99",
        "deepnote_cell_height": 304.0625,
        "deepnote_cell_type": "markdown",
        "tags": []
      },
      "source": "<div class=\"alert alert-block alert-warning\">\n\n**Sample Responses**\n\n- The placement of the gummy bear along the launching stick (closer to the top or bottom)\n- The orientation of the gummy bear (vertically, horizontally, front facing, etc.)\n- How much pressure used when holding down the launching stick\n- How quickly you release the launching stick\n- The place that you press down on the launching stick\n- The place where you hold down the base of the catapult\n\n*Students may provide other reasons as well.*\n\n</div>"
    },
    {
      "cell_type": "markdown",
      "metadata": {
        "cell_id": "9da1dfe879a44f118f67404a77816778",
        "deepnote_cell_height": 74.75,
        "deepnote_cell_type": "markdown"
      },
      "source": "3.2 - As a class, let's write a set of instructions for the “best method” to launch a gummy bear (so everyone can do it roughly the same way). "
    },
    {
      "cell_type": "markdown",
      "metadata": {
        "cell_id": "7ef55a204aaf43f69e280fbe19b2f101",
        "deepnote_cell_height": 115.9375,
        "deepnote_cell_type": "markdown",
        "tags": []
      },
      "source": "<div class=\"alert alert-block alert-success\">\n\n### 4.0 - Approximate Time:  10-12 mins\n\n</div>"
    },
    {
      "cell_type": "markdown",
      "metadata": {
        "cell_id": "bb4bf6b978244ada9a3647a1f991cec5",
        "deepnote_cell_height": 130.75,
        "deepnote_cell_type": "markdown"
      },
      "source": "## 4.0 - Measuring Launch Distances\nEach person is going to be measuring their launching distances with two different tools: A 30-cm ruler and a longer measuring tape. \n"
    },
    {
      "cell_type": "markdown",
      "metadata": {
        "cell_id": "be054b121056413e98c667aba61b787c",
        "deepnote_cell_height": 74.75,
        "deepnote_cell_type": "markdown",
        "tags": []
      },
      "source": "4.1 - Launch 1 gummy bear according to the “best method” that we developed. Then try to measure this distance using the ruler. Do any questions come up for you?\n"
    },
    {
      "cell_type": "markdown",
      "metadata": {
        "cell_id": "bce53c4e686742cea27d8a87d8a90db7",
        "deepnote_cell_height": 289.078125,
        "deepnote_cell_type": "markdown",
        "tags": []
      },
      "source": "<div class=\"alert alert-block alert-warning\">\n\n**Note to Instructors**\n\n*Many questions may arise, such as where to start the measurement (at the head of the catapult or the end of the catapult), which end of the bear to measure (the head, the middle, the furthest point when it lands), whether to measure the final landing position or the point where it first lands (if it bounces).*\n\n*This may spark a discussion about what the purpose of a catapult is (e.g., to launch the highest distance, such as over a wall, or the furthest distance, etc.) and what our class purposes are for the catapult.*\n\n</div>"
    },
    {
      "cell_type": "markdown",
      "metadata": {
        "cell_id": "c6bbb3a856604edfb0ec72443d6e21fc",
        "deepnote_cell_height": 97.140625,
        "deepnote_cell_type": "markdown"
      },
      "source": "4.2 - Just as there are many ways to launch the gummy bears, we realize there are a lot of choices to make when we measure the distances. As a class, let's write a set of instructions for the \"best method\" to *measure* a distance."
    },
    {
      "cell_type": "markdown",
      "metadata": {
        "cell_id": "023d017ac0c04bc4870692444736b686",
        "deepnote_cell_height": 185.515625,
        "deepnote_cell_type": "markdown",
        "tags": []
      },
      "source": "<div class=\"alert alert-block alert-warning\">\n\n**Note to Instructors**\n\n*It may be useful to use masking tape to indicate the starting line for the catapult so that the launches can all start from the same point and it can be used as a guide for a measuring starting point in case the bear flies at an angle.*\n\n</div>"
    },
    {
      "cell_type": "markdown",
      "metadata": {
        "cell_id": "99699a4356194750b12862f62bd76ae9",
        "deepnote_cell_height": 141.9375,
        "deepnote_cell_type": "markdown",
        "tags": []
      },
      "source": "4.3 - Launch 3 gummy bears according to the “best method for launching” that we developed (one bear at a time, each bear a different color). First measure the distances from the catapult to the gummy bear using the 30-cm ruler and write them down on the [Launching Bears Data Collection Sheet](https://docs.google.com/document/d/1kQhk0rc0nzzv9MecqI34E--bfQIGUbaZb8O7wyVRsVY/edit). Then measure the same distances using the longer measuring tape. Write those down as well. These will be gummy bears #1 through #3."
    },
    {
      "cell_type": "markdown",
      "metadata": {
        "cell_id": "2170216aac424f5593aec6b8bdf4c958",
        "deepnote_cell_height": 74.75,
        "deepnote_cell_type": "markdown"
      },
      "source": "4.4 - We used two different tools for measuring the distance. Did everyone in the class come up with identical measurements for each gummy bear that got launched? Why do you think that is? "
    },
    {
      "cell_type": "markdown",
      "metadata": {
        "cell_id": "227d424d435f45c386f7d59457d8f327",
        "deepnote_cell_height": 375.859375,
        "deepnote_cell_type": "markdown",
        "tags": []
      },
      "source": "<div class=\"alert alert-block alert-warning\">\n\n**Note to Instructors**\n\n*It is likely that at least some students will get slightly differing measurements for the same launch when switching from the ruler to the measuring tape.*\n\n**Sample Response**\n\nThe differences in measurement are possibly due to the differences in the measuring tool. Perhaps the measuring tape was folding a little, or perhaps because the ruler has to be repeatedly placed end-over-end to reach the landing point.\n\nThe differences in measurement may also be due to differences in perspective (looking at the measurement from above, or from an angle, etc).\n\n*There may be multiple other responses as well.*\n\n</div>"
    },
    {
      "cell_type": "markdown",
      "metadata": {
        "cell_id": "ffa47334f2da4347902afeca9343230c",
        "deepnote_cell_height": 115.9375,
        "deepnote_cell_type": "markdown",
        "tags": []
      },
      "source": "<div class=\"alert alert-block alert-success\">\n\n### 5.0 - Approximate Time:  8-10 mins\n\n</div>"
    },
    {
      "cell_type": "markdown",
      "metadata": {
        "cell_id": "e16afbfc47a741a1a2f16ac78b426013",
        "deepnote_cell_height": 69.96875,
        "deepnote_cell_type": "markdown"
      },
      "source": "## 5.0 - Measurement Error"
    },
    {
      "cell_type": "markdown",
      "metadata": {
        "cell_id": "80814a69915a42d2a0bbd616f5c327b6",
        "deepnote_cell_height": 74.75,
        "deepnote_cell_type": "markdown"
      },
      "source": "5.1 - What are some things you could do if you wanted to make these measurements more similar? That is, how can you reduce the variability in your measurements?\n"
    },
    {
      "cell_type": "markdown",
      "metadata": {
        "cell_id": "71022ad459864b969eaa92537d6c2222",
        "deepnote_cell_height": 224.90625,
        "deepnote_cell_type": "markdown",
        "tags": []
      },
      "source": "<div class=\"alert alert-block alert-warning\">\n\n**Sample Responses**\n\n- We can standardize the procedure for each measuring tool to make sure we are always doing it the same way. \n- We can use a machine programmed to do it precisely\n\n*Responses may vary*\n\n</div>"
    },
    {
      "cell_type": "markdown",
      "metadata": {
        "cell_id": "bfb1ef42ad13402ea8fc77d8894779ae",
        "deepnote_cell_height": 52.359375,
        "deepnote_cell_type": "markdown"
      },
      "source": "5.2 - Do you think we can completely eliminate the variability in measurement? Why or why not?\n"
    },
    {
      "cell_type": "markdown",
      "metadata": {
        "cell_id": "e6fae414646542759b1abda1464d7d03",
        "deepnote_cell_height": 163.125,
        "deepnote_cell_type": "markdown",
        "tags": []
      },
      "source": "<div class=\"alert alert-block alert-warning\">\n\n**Sample Response**\n\nNo, we can never completely reduce the variability in measurement. Machines may have some inaccuracies; people will always make slightly different judgments; etc.\n\n</div>"
    },
    {
      "cell_type": "markdown",
      "metadata": {
        "cell_id": "229ecbcd5f424607a4781418408123d1",
        "deepnote_cell_height": 141.9375,
        "deepnote_cell_type": "markdown"
      },
      "source": "5.3 - **Whole Class Discussion**: Small differences in gummy bear launching distances may not seem like it matters a lot. One way of measuring gave us a distance of 24 cm and another gave us 23 cm. Not a big deal. But later we are going to analyze hate crimes from the FBI database. What counts as a hate crime? Who decides? How do we decide? How is the determination of “hate crime” kind of like the measurement error we see in gummy bear distances?\n"
    },
    {
      "cell_type": "markdown",
      "metadata": {
        "cell_id": "b1b1ace1125a4594a5ea21e6fcce0201",
        "deepnote_cell_height": 429.046875,
        "deepnote_cell_type": "markdown",
        "tags": []
      },
      "source": "<div class=\"alert alert-block alert-warning\">\n\n**Sample Response**\n\nAccording to the [US Department of Justice] (https://www.justice.gov/hatecrimes/learn-about-hate-crimes): \n\n- In the simplest terms, a hate crime must include both “hate” and a \"crime.\"...In this context “hate” means bias against people or groups with specific characteristics that are defined by the law.\n\nThis may be defined differently by different people. We need to evaluate many factors when deciding what a hate crime is. The person committing the hate crime may not define a hate crime the same way as the victim of a hate crime, or as the person in power (e.g., legal representatives, judges, etc.) who is executing the law. A researcher may also use a different definition based on their objectives.\n\nIt is kind of like the measurement error we see in gummy bear distances because what counts as a hate crime may vary from person-to-person, or situation-to-situation.\n\n</div>"
    },
    {
      "cell_type": "markdown",
      "metadata": {
        "cell_id": "30174bea5e194012a61ae06d3f62cc55",
        "deepnote_cell_height": 115.9375,
        "deepnote_cell_type": "markdown",
        "tags": []
      },
      "source": "<div class=\"alert alert-block alert-success\">\n\n### 6.0 - Approximate Time:  12-15 mins\n\n</div>"
    },
    {
      "cell_type": "markdown",
      "metadata": {
        "cell_id": "2d39ce2b16be4889a8f6fa2f272f3bce",
        "deepnote_cell_height": 109.96875,
        "deepnote_cell_type": "markdown"
      },
      "source": "## 6.0 - Designing an Experiment: Does lift cause the distance to vary?\n"
    },
    {
      "cell_type": "markdown",
      "metadata": {
        "cell_id": "ca13a2c8d3d540fbbae18b15a1ac6f15",
        "deepnote_cell_height": 97.140625,
        "deepnote_cell_type": "markdown"
      },
      "source": "6.1 - The height of the lift (how many lift sticks there are) is an important factor. Right now, our catapults only have one lift stick. How might we design an experiment to see out whether adding some lift sticks affects the launching distance?\n"
    },
    {
      "cell_type": "markdown",
      "metadata": {
        "cell_id": "1b276db533624724ab6f0ce3313c7a3e",
        "deepnote_cell_height": 163.125,
        "deepnote_cell_type": "markdown",
        "tags": []
      },
      "source": "<div class=\"alert alert-block alert-warning\">\n\n**Sample Response**\n\nWe might add 1 lift stick at a time and take measurements so we can compare each version of the catapult to see if it makes a difference in launching distances.\n\n</div>"
    },
    {
      "cell_type": "markdown",
      "metadata": {
        "cell_id": "b3d6db2567cc4195a05f6e8cdd6a1bda",
        "deepnote_cell_height": 97.140625,
        "deepnote_cell_type": "markdown"
      },
      "source": "6.2 - Do you think a catapult with a low lift or one with a high lift will launch farther, or will it not make much difference? Make some predictions about what you expect to find. How far do you think the candy will launch? What will probably be the farthest it can go?\n\n"
    },
    {
      "cell_type": "markdown",
      "metadata": {
        "cell_id": "9c160013ad8b461789a343e4a8aa944c",
        "deepnote_cell_height": 247.296875,
        "deepnote_cell_type": "markdown",
        "tags": []
      },
      "source": "<div class=\"alert alert-block alert-warning\">\n\n**Sample Response**\n\n*Responses will vary*\n\n- Perhaps a high lift will provide more energy transferred to the gummy bear as there is more pressure when you hold the launching stick down.\n\n- A reasonable maximum distance will likely be several feet, but may depend on the number of lift sticks.\n\n</div>"
    },
    {
      "cell_type": "markdown",
      "metadata": {
        "cell_id": "27e77f37b61440638e25efa4e598c8c8",
        "deepnote_cell_height": 192.328125,
        "deepnote_cell_type": "markdown"
      },
      "source": "6.3 - Add one additional stick to the lift of the catapult (2 Lift sticks), launch 3 gummy bears, and record your observations. These will be gummy bears # 4-6. \n\nFollow that by adding one more lift stick (3 Lift sticks), and launching 3 more gummy bears. Record these launch distances as gummy bears #7-9.\n\nFeel free to only measure once with the measuring tape. (You can leave the ruler measurement blank or write NA.)\n"
    },
    {
      "cell_type": "markdown",
      "metadata": {
        "cell_id": "aab596bab6d74c6e962128736875d66e",
        "deepnote_cell_height": 115.9375,
        "deepnote_cell_type": "markdown",
        "tags": []
      },
      "source": "<div class=\"alert alert-block alert-success\">\n\n### 7.0 - Approximate Time:  8-10 mins\n\n</div>"
    },
    {
      "cell_type": "markdown",
      "metadata": {
        "cell_id": "90c56927ab0e4a7aa9bd420677680340",
        "deepnote_cell_height": 69.96875,
        "deepnote_cell_type": "markdown"
      },
      "source": "## 7.0 - Explaining Variation"
    },
    {
      "cell_type": "markdown",
      "metadata": {
        "cell_id": "8cc182cfa04045bcbf43ccb00d382084",
        "deepnote_cell_height": 111.140625,
        "deepnote_cell_type": "markdown"
      },
      "source": "Lots of you now have data on this little experiment. I have pulled three distances from a 3-lift catapult as well as three distances from a 1-lift catapult and mixed them up here:\n\n16.5,   34.5,   28,   14,   25,   43.5\n"
    },
    {
      "cell_type": "markdown",
      "metadata": {
        "cell_id": "08880336fe3f4b4eb665b8ddca096131",
        "deepnote_cell_height": 119.53125,
        "deepnote_cell_type": "markdown"
      },
      "source": "7.1 - **Discussion**: Notice that there is variation in distances here. Now we will try to “explain” some of this variation. We know that some of these came from 3-lift catapults and some came from 1-lift catapults. If you had to take a guess, which of these measurements came from the 3-lift catapults? Which came from the 1-lift catapults? \n"
    },
    {
      "cell_type": "markdown",
      "metadata": {
        "cell_id": "4dc729d122794d8da6d28593959b7939",
        "deepnote_cell_height": 140.71875,
        "deepnote_cell_type": "markdown",
        "tags": []
      },
      "source": "<div class=\"alert alert-block alert-warning\">\n\n**Sample Response**\n\nThe higher measurements (34.5, 28, 43.5) are likely from the 3-lift catapult.\n\n</div>"
    },
    {
      "cell_type": "markdown",
      "metadata": {
        "cell_id": "6bdc4c3d6c6f47b69fa7d9946ee46080",
        "deepnote_cell_height": 97.140625,
        "deepnote_cell_type": "markdown"
      },
      "source": "7.2 - Based on the small amount of data you collected, what is your intuition about these research questions: What makes a gummy bear launch farther? Does lift matter? Does more lift always lead to farther launches?\n"
    },
    {
      "cell_type": "markdown",
      "metadata": {
        "cell_id": "6130e6ea8a8d4c57b63f0ea1ff5da690",
        "deepnote_cell_height": 163.125,
        "deepnote_cell_type": "markdown",
        "tags": []
      },
      "source": "<div class=\"alert alert-block alert-warning\">\n\n**Sample Response**\n\nMore lift sticks seem to make the gummy bear launch farther, but fewer lift sticks also have some far launches sometimes as well. \n\n</div>"
    },
    {
      "cell_type": "markdown",
      "metadata": {
        "cell_id": "fadd559e84494d349828f68ded80f285",
        "deepnote_cell_height": 74.75,
        "deepnote_cell_type": "markdown"
      },
      "source": "7.3 - If we did this whole study again with 9 other gummy bears, would we get exactly the same numbers even if we did the same thing? Why?\n"
    },
    {
      "cell_type": "markdown",
      "metadata": {
        "cell_id": "a4c2a359a43b435e913342f76a164d40",
        "deepnote_cell_height": 140.71875,
        "deepnote_cell_type": "markdown",
        "tags": []
      },
      "source": "<div class=\"alert alert-block alert-warning\">\n\n**Sample Response**\n\nProbably not, because there is variation in each launch (sampling variation).\n\n</div>"
    },
    {
      "cell_type": "markdown",
      "metadata": {
        "cell_id": "acfb30befa874ca89cf0ed102280113d",
        "deepnote_cell_height": 74.75,
        "deepnote_cell_type": "markdown",
        "tags": []
      },
      "source": "In our next lesson, we will take a closer look at our samples and measurements to see if we can find any patterns in the variation and get some data-based answers to our questions."
    }
  ],
  "metadata": {
    "deepnote_notebook_id": "125a9659635e4854aaddf4ce876b17e7",
    "kernelspec": {
      "display_name": "R",
      "language": "R",
      "name": "ir"
    },
    "language_info": {
      "codemirror_mode": "r",
      "file_extension": ".r",
      "mimetype": "text/x-r-source",
      "name": "R",
      "pygments_lexer": "r",
      "version": "4.3.3"
    },
    "nbsimplegrader": {
      "publish_config": {
        "classes": [],
        "options": [],
        "tools": []
      }
    }
  },
  "nbformat": 4,
  "nbformat_minor": 1
}