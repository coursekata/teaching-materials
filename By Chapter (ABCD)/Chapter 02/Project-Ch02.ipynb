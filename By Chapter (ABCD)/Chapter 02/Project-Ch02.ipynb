{
  "cells": [
    {
      "cell_type": "markdown",
      "metadata": {
        "cell_id": "760bebf60b874b8088b3a9693ca3c435",
        "deepnote_cell_type": "markdown",
        "tags": []
      },
      "source": "# <center>Project (Ch. 1-2): Exploring Data</center> "
    },
    {
      "cell_type": "code",
      "execution_count": null,
      "metadata": {
        "cell_id": "209a8d9fc8e44431bf99c2e5400df533",
        "deepnote_cell_type": "code",
        "deepnote_to_be_reexecuted": false,
        "execution_context_id": "f5a6753f-a344-4900-b747-083b47482501",
        "execution_millis": 9800,
        "execution_start": 1740095729324,
        "output_cleared": false,
        "source_hash": "5560a3a6",
        "trusted": true
      },
      "outputs": [],
      "source": "# Load the CourseKata library\nsuppressPackageStartupMessages({\n    library(coursekata)\n})\n\nAll_NBAPlayers <- read.csv(\"https://docs.google.com/spreadsheets/d/1iboIB2dOi11Wl6W2uCzeAXWhKDwax8ZOhnVdBpYj97Q/pub?gid=684251781&single=true&output=csv\", head = TRUE)\n\nbiopics <-read.csv(\"https://docs.google.com/spreadsheets/d/e/2PACX-1vS1uJX50kW3cA_T74rVBs2ndTnMHM9fWbTFQm476Z9hK85LN699OaMnmtmJiABHDPGeiFCtUCDCes48/pub?gid=0&single=true&output=csv\")\n"
    },
    {
      "cell_type": "markdown",
      "metadata": {
        "cell_id": "a21b72a5b678480c8c1998ca449f7017",
        "deepnote_cell_type": "markdown",
        "tags": []
      },
      "source": "<div class=\"alert alert-block alert-info\">\n\n## Link to Guide and Rubric\n\nThe **Guide** answers the question \"What is a data analysis report?\" and the **Rubric** can be used to help you write a good data analysis report.\n\nYou can access both the guide and the rubric at this link: https://bit.ly/data-analysis-report-guide\n\n</div>"
    },
    {
      "cell_type": "markdown",
      "metadata": {
        "cell_id": "bec856d17c2f4fc58014feb8790cf3cb",
        "deepnote_cell_type": "markdown"
      },
      "source": "<div class=\"alert alert-block alert-info\">\n\n## Data\n\nThree data frames are preloaded in this notebook using the code above. Explore the data frames and choose one that interests you for this assignment.\n\nOption 1: `biopics`\n\n- A biopic is a movie based on the true life story of some famous person or group. This data frame contains information on the main subjects (i.e., the main character or characters) of biopics. There are 14 variables describing information about the subject, such as the race, sex, and occupation of the subject, as well as information about the film, such as the year of the release of the film, and box office earnings.\n- [Click here](https://docs.google.com/document/d/e/2PACX-1vSIvQ9v5TSTXK2CMKaHqqfpav1LAkjhtoKEA_FXnNUL3J7EWeAwa2ridlK6JwwiD2TqOMMJLukMHzps/pub) for a description of all the variables.\n\nOption 2: `college_recent_grads`\n\n- This data frame contains information on the various college majors of recent graduates. There are 21 variables, such as the number of students who graduate from a major, median earnings for a major, etc.\n- [Click here](https://www.rdocumentation.org/packages/fivethirtyeight/versions/0.5.0/topics/college_recent_grads) for a description of all the variables.\n\nOption 3: `All_NBAPlayers`\n\n- This data frame contains information on each player who has been part of an NBA teams' roster between 1997-2022. There are 28 variables, such as age, team, games played, number of starts, minutes played, etc.\n- [Click here](https://docs.google.com/document/d/15HckBzX17-LpQxfzgFRYCHnhjHEkQ_NrxYxEtwtY2AA/pub) for a description of all the variables.\n\n\n\n\n</div>"
    },
    {
      "cell_type": "markdown",
      "metadata": {
        "cell_id": "35c565e808d6477ba92f0204f478ebac",
        "deepnote_cell_type": "markdown",
        "owner_user_id": "23d85493-7ed1-49a4-baa7-630eaab08193"
      },
      "source": "<div class=\"alert alert-block alert-info\">\n\n## Instructions\n\nYour task is to use R to explore variation in the data with the goal of reporting your findings to a target audience.\n\nDepending on which data set you choose, your target audience for your report will be as follows:\n\n- Option 1: `biopics` --> Audience: Students in a film class\n- Option 2: `college_recent_grads` --> Audience: High school academic advisement center\n- Option 3: `All_NBAPlayers` --> Audience: Sports analysts seeking new recruits\n\nNote: A full data analysis report will have 5 sections: Introduction, Explore Variation, Model Variation, Evaluate Models, Discussion/Conclusions. \n\nAt this stage of the course, your report will only include the **first two sections** (Introduction and Explore Variation), however, it should still be a standalone report, with its own concluding statements.\n\n</div>"
    },
    {
      "cell_type": "markdown",
      "metadata": {
        "cell_id": "5c81d75a5bfc46d2badf081a7a145c52",
        "deepnote_cell_type": "markdown",
        "tags": []
      },
      "source": "## Intro/Overview of the Problem or Question"
    },
    {
      "cell_type": "markdown",
      "metadata": {
        "cell_id": "5d18eaa96cc14173a1ea30295dab8ed9",
        "deepnote_cell_type": "markdown",
        "tags": []
      },
      "source": "<div class=\"alert alert-block alert-info\"> \n\nThe goal of this section is to provide an overview of the context, situation, or problem.\n\nA good introduction section typically includes the following topics (but not necessarily in this order): \n\n- A description of the question or problem you are investigating and why this question is important\n\n- A description of the data you will use in your investigation, such as:\n  - where the data came from \n  - why and how it was collected\n  - what cases and variables are included\n\n- Your initial hypothesis (perhaps also stated as a word equation), specifying outcome and explanatory variables, and why you think your hypothesis is plausible\n\n</div>"
    },
    {
      "cell_type": "markdown",
      "metadata": {
        "cell_id": "eee216168ddd480cb2c8ba121da3f954",
        "deepnote_cell_type": "markdown",
        "tags": []
      },
      "source": "## Explore Variation"
    },
    {
      "cell_type": "markdown",
      "metadata": {
        "cell_id": "cd0cd336fafa4310b6c7fcfffd1cde2e",
        "deepnote_cell_type": "markdown",
        "tags": []
      },
      "source": "<div class=\"alert alert-block alert-info\">\n\nThe goal of this section is to explore variation in your explanatory and outcome variables. That exploration will almost certainly include visual displays of your data.\n\nA good exploring variation section typically includes the following topics (but not necessarily in this order): \n\n- A description of how you cleaned and prepared your data and why, such as: \n  - filtering cases \n  - handling missing data \n  - recoding or creating new variables\n\n- Visualizations or tables to explore the distributions of relevant variables and hypothesized relationships among variables\n\n- Descriptions of the visualizations or tables, and explanations of how they relate to the hypotheses or research questions\n\n</div>"
    },
    {
      "cell_type": "markdown",
      "metadata": {
        "cell_id": "7987a24c2b2a44be86508c289a6bc574",
        "deepnote_cell_type": "markdown",
        "owner_user_id": "21cb1e38-7460-4830-8b54-1b548c541f6d",
        "tags": []
      },
      "source": "<div class=\"alert alert-block alert-info\">\n\n## After you are done...\n\nGo through this document and delete all the cells with blue text boxes (the instructions). You will be then left with a data analysis report.\n\n\n\n</div>"
    },
    {
      "cell_type": "markdown",
      "metadata": {
        "cell_id": "a06f0a6450954b3a8a5f07499e5e7107",
        "deepnote_cell_type": "markdown",
        "tags": []
      },
      "source": "## Model Variation "
    },
    {
      "cell_type": "markdown",
      "metadata": {
        "cell_id": "598c2b63495f41fb9980fa0d8883417c",
        "deepnote_cell_type": "markdown",
        "tags": []
      },
      "source": "<div class=\"alert alert-block alert-warning\">\n\n#### COMING SOON\n\nThe goal of this section is to create a model or models that uses explanatory variables to explain some of the variation in your outcome variable.\n\nA good modeling variation section typically includes the following topics (but not necessarily in this order): \n\n- The best fitting model (or models), expressed in GLM notation, to represent your research question \n\n- The interpretation of your parameter estimates in the units appropriate to your research question\n\n- A visual display of your model overlaid on the data \n\n- The creation and interpretation of an ANOVA table to assess how well the model fits the data, and a comparison of the fit of alternative models when applicable \n\n\n</div>"
    },
    {
      "cell_type": "markdown",
      "metadata": {
        "cell_id": "1fe670f119af425ca6a08a26093b3b39",
        "deepnote_cell_type": "markdown",
        "tags": []
      },
      "source": "## Evaluate Models "
    },
    {
      "cell_type": "markdown",
      "metadata": {
        "cell_id": "5929beaea24c4fcd8c8d92a00652cf37",
        "deepnote_cell_type": "markdown",
        "tags": []
      },
      "source": "<div class=\"alert alert-block alert-warning\">\n\n#### COMING SOON\n\nThe goal of this section is to discuss your model in relation to other plausible models of the DGP.\n\nA good evaluating models section typically includes the following topics (but not necessarily in this order): \n\n- The construction and interpretation of a confidence interval in relation to your research question \n\n- An evaluation of your model(s) against the empty model using p-value or confidence intervals, and a rationale for which model you opt to retain \n\n\n</div>"
    },
    {
      "cell_type": "markdown",
      "metadata": {
        "cell_id": "1508a6df62224cc78ea074502949772a",
        "deepnote_cell_type": "markdown",
        "tags": []
      },
      "source": "## Conclusions "
    },
    {
      "cell_type": "markdown",
      "metadata": {
        "cell_id": "49d662ac40c64c0ca36fdd95642a1bba",
        "deepnote_cell_type": "markdown",
        "tags": []
      },
      "source": "<div class=\"alert alert-block alert-warning\">\n\n#### COMING SOON\n\nThe goal of this section is to help your audience understand what can be learned from your data analysis.\n\nA good conclusion section typically includes the following topics (but not necessarily in this order): \n\n- A summary of what you did, what you found, and how it relates to the motivating question \n\n- A discussion of the implications of the results, what they mean for the audience or the world, and possible limitations of the findings  \n\n\n</div>"
    }
  ],
  "metadata": {
    "deepnote_notebook_id": "7ec7513d5a954e2fb2cac28d27ccd517",
    "kernelspec": {
      "display_name": "R",
      "language": "R",
      "name": "ir"
    },
    "language_info": {
      "codemirror_mode": "r",
      "file_extension": ".r",
      "mimetype": "text/x-r-source",
      "name": "R",
      "pygments_lexer": "r",
      "version": "4.3.3"
    },
    "nbsimplegrader": {
      "publish_config": {
        "classes": [],
        "options": {},
        "tools": []
      }
    }
  },
  "nbformat": 4,
  "nbformat_minor": 1
}