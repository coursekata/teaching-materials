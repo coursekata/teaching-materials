{
  "cells": [
    {
      "cell_type": "markdown",
      "metadata": {
        "cell_id": "d45b85f6d1da47658373752c59e8b585",
        "deepnote_cell_type": "markdown"
      },
      "source": "# Working with Data Frames (COMPLETE)\n\n\n## Chapter 2.8-2.11 Overview Notebook"
    },
    {
      "cell_type": "code",
      "execution_count": null,
      "metadata": {
        "cell_id": "5a319889c6fb4f4db6f144070ce1c69c",
        "deepnote_cell_type": "code",
        "trusted": true
      },
      "outputs": [],
      "source": "# run this to set up the notebook\nlibrary(coursekata)\n\n# get the data\nbig_cheeses <- read.csv(\"https://docs.google.com/spreadsheets/d/e/2PACX-1vRbgFTZOhL3P_ntgl8NkQxUj3c3DsZFB7C3WQzP0d51rrEIbPIYNONulLPQmx9gDetaSRXsTDmdaMnc/pub?output=csv\")\ncheeses <- read.csv(\"https://docs.google.com/spreadsheets/d/e/2PACX-1vR3wOM6mURldmOZoCz2bDbv-x6cpZlB6W1kP3b-szsgENFrdob_V0PWL2LuZLucvWrFSM4jXHyI-aJw/pub?gid=914777733&single=true&output=csv\")\n\n# set styles\ncss <- suppressWarnings(readLines(\"https://raw.githubusercontent.com/jimstigler/jupyter/master/ck_jupyter_styles_v2.css\"))\nIRdisplay::display_html(sprintf('<style>%s</style>', paste(css, collapse = \"\\n\")))"
    },
    {
      "cell_type": "markdown",
      "metadata": {
        "cell_id": "83e63fa5071140efa9dfb9532b5fd2fd",
        "deepnote_cell_type": "markdown"
      },
      "source": "<a id =9> </a> \n# Table of Contents\n\n1 [The `cheeses` Data Frame](#1)\n\n2 [Four Functions from the Tidyverse for Working with Data Frames: `mutate()`, `select()`, `filter()`, and `arrange()`](#2)\n\n3 [Using `mutate()` to Add a New Variable](#3)\n\n4 [Using `select()` to Focus on Just a Few Specific Variables](#4)\n\n5 [Use `filter()` to Show Only the Rows You Want](#5)\n\n6 [Use `arrange()` to Sort the Rows into a Different Order Based on a Variable](#6)\n\n7 [Putting It All Together](#7)\n\n8 [Practice What You Learned](#8)\n  "
    },
    {
      "cell_type": "markdown",
      "metadata": {
        "cell_id": "b0f644f72b6e421ba37d6cd067ab93fc",
        "deepnote_cell_type": "markdown"
      },
      "source": "<div class=\"teacher-note\">\n    <b>Section Goals:</b> In this section, students will begin learning how to work with tidy datasets in R by practicing a set of skills (and their corresponding R commands) commonly used to explore, clean, and transform data frames. Students will learn to:\n    \n- Arrange rows in a data frame based on the values of one or more variables (e.g., by ascending thumb length),\n- Filter to include only cases that meet certain conditions (e.g., students with a left thumb longer than 60 mm),\n- Identify and manage missing data, understanding how missingness is represented in R (`NA`) and how it can affect analyses,\n- Select specific variables (columns) to focus on subsets of the data frame,\n- Recode variables to make data more interpretable (e.g., renaming levels),\n- (Eventually) Mutate to create new variables derived from existing ones (e.g., calculating the difference between thumb lengths).\n- Students will also learn to use the assignment operator (`<-`) with data frames. This will allow them to save changes — such as filtered data sets or new variables.\n\nAt this point, students are not expected to master all of these skills or use them fluently. Instead, they are gaining familiarity with the structure of tidy data through trying out these different operations. For example, comparing the effects of `select()` versus `filter()` allows students to engage in deliberate practice that deepens their understanding of how rows represent cases and columns represent variables. These data wrangling skills will be revisited throughout the course as students work with more data frames.\n\n                                                                 \nA <a href=\"https://docs.google.com/document/d/1K5FZUIIilTkDfYzS3SusnVMiB1Ru0bTfZxgttVwnRkQ/edit?tab=t.5y2a0ykmi2fk\" target=\"_blank\">printable student guided-notes worksheet</a> is available to go with this Jupyter notebook, as well as a student version of this notebook.\n\nYou'll also want to provide scissors and copies of these data frames (e.g., for each group of 4 students, provide 4 copies of the <a href=\"https://docs.google.com/document/d/1K5FZUIIilTkDfYzS3SusnVMiB1Ru0bTfZxgttVwnRkQ/edit?tab=t.9xee6sq8161t\" target=\"_blank\">cheeses data frame</a> and 2 copies of the <a href=\"https://docs.google.com/document/d/1K5FZUIIilTkDfYzS3SusnVMiB1Ru0bTfZxgttVwnRkQ/edit?tab=t.y5yuz5bvuvhl\" target=\"_blank\">cheeses_with_calcium data frame</a>).\n</div>"
    },
    {
      "cell_type": "markdown",
      "metadata": {
        "cell_id": "3c91c7d732fe45b48c4dc9844b6dd25b",
        "deepnote_cell_type": "markdown"
      },
      "source": "<div style=\"text-align: right\">\n  <a href=\"#9\">Back to top</a>\n</div>\n\n<a id =1> </a>\n## 1 The `cheeses` Data Frame\n\nToday we are going to work with a dataset about cheeses from around the world. The data were originally scraped from [cheese.com](https://www.cheese.com), a website where people can explore different types of cheese. Cheese is made from all kinds of milk — usually from cows, but also goats, sheep, and other animals — and has been produced for over 4,000 years.\n\nThe original data have been cleaned up slightly for educational use. We will start by looking at `cheeses`, a very small subset of the larger dataset. Later we will explore a larger dataset, called `big_cheeses`."
    },
    {
      "cell_type": "markdown",
      "metadata": {
        "cell_id": "15a097a02a1e4873bddf641b0471cee2",
        "deepnote_cell_type": "markdown"
      },
      "source": "### 1.1 What's in the `cheeses` dataset? \nWrite R code to find out how many cases and how many variables are in the dataset. What does each row represent? Each column?"
    },
    {
      "cell_type": "code",
      "execution_count": null,
      "metadata": {
        "cell_id": "1cc7494f60b64464bd4d74b19eefe87b",
        "deepnote_cell_type": "code",
        "trusted": true
      },
      "outputs": [],
      "source": "# write R code\ncheeses\n# sample code\n#cheeses\nglimpse(cheeses)\nstr(cheeses)"
    },
    {
      "cell_type": "markdown",
      "metadata": {
        "cell_id": "9949bf7d6fad47e1906edc857cea4b02",
        "deepnote_cell_type": "markdown"
      },
      "source": "<div class=\"teacher-note\">\n    <b>Teacher note:</b> Remind students that the number of rows is the number of cases or observations (in this case, 8), and that the number of columns (6) is the number of variables. It's also important for students to recognize that each row in this dataset is a kind of cheese, not, for example, a person.\n\n</div>\n"
    },
    {
      "cell_type": "markdown",
      "metadata": {
        "cell_id": "076b1fd17e334958a26c62f8f7a3cdd0",
        "deepnote_cell_type": "markdown"
      },
      "source": "<div class=\"guided-notes\">\n    \n### 1.2 What types of variables are in this dataset?\n\nThe table shows the names of the variables and each variable has been categorized by R (its current type). In the third column, decide whether *you* think the variable should be treated as quantitative or categorical.\n    \n</div>"
    },
    {
      "cell_type": "markdown",
      "metadata": {
        "cell_id": "f4cbcdb1fe644c1fb48792b05445074e",
        "deepnote_cell_type": "markdown"
      },
      "source": "While filling in the table, it may be helpful to get additional information about the variables in this data set.\n\n- `cheese`\t\tName of the cheese.\n- `milk`\t\tThe type of milk used for the cheese, when known.\n- `family`\t\tThe family to which the cheese belongs, if any.\n- `fat_percent`\tThe fat content of the cheese (as a percent).\n- `calcium_mg`\tThe calcium content of the cheese, when known (in mg per 100 g of cheese).\n- `firmness_num` A number representing the firmness category of the cheese: 1=fresh, 2=soft, 3=semi-soft, 4=semi-hard, 5=firm, 6=hard."
    },
    {
      "cell_type": "markdown",
      "metadata": {
        "cell_id": "9b64c95907bd4811a873ab4f5c51fd42",
        "deepnote_cell_type": "markdown"
      },
      "source": "### 1.3 Are there any variables that R sees as one type, but you think should be treated differently? \n\nIs there anything we should do about this?"
    },
    {
      "cell_type": "markdown",
      "metadata": {
        "cell_id": "f7136b1794814f6a9477dee58855942a",
        "deepnote_cell_type": "markdown"
      },
      "source": "<div class=\"teacher-note\">\n    <b>Teacher note:</b> \n\nThe similarity between `firmness` and `firmness_num` is intended to help students see that a variable that *looks* numeric might really be categorical. The difference betweeen a 1 and 2 (fresh and soft, relatively) is not the same as the difference between 2 and 3 (soft and semi-soft). Encourage students to think about what the numbers represent and whether it makes sense to calculate things like an average.\n\nWe won’t go deep into ordinal variables in this class, but it’s helpful to treat `firmness_num` as a factor so R doesn’t try to do math with it. Create a new variable called `firmness_factor` using `factor(firmness_num)`. (Tip: Avoid reusing `factor()` on a variable that’s already a factor because it will result in NAs. That’s why we create a new variable instead of overwriting the original.)\n\n</div>\n"
    },
    {
      "cell_type": "code",
      "execution_count": null,
      "metadata": {
        "cell_id": "c0a29881f3ba4eb99e5d5433632bb69c",
        "deepnote_cell_type": "code",
        "trusted": true
      },
      "outputs": [],
      "source": "# Create a new categorical variable by converting a numeric variable into a factor\ncheeses$firmness_factor <- factor(cheeses$firmness_num)\n\n# to see that there is a new variable in the data frame\ncheeses"
    },
    {
      "cell_type": "markdown",
      "metadata": {
        "cell_id": "3ba3b781324d427c91778205ca77e6fe",
        "deepnote_cell_type": "markdown"
      },
      "source": "<div style=\"text-align: right\">\n  <a href=\"#9\">Back to top</a>\n</div>\n\n<a id =2> </a> \n<h2 style=\"line-height: 1.4;\">\n  2 Four Functions from the <em>Tidyverse</em> for Working with Data Frames: \n  <code>mutate()</code>, <code>select()</code>, <code>filter()</code>, and <code>arrange()</code>\n</h2>\n\nSo far, we’ve been using **base R**, the built-in R commands that do not need special packages, to look at and manipulate data. Today, we'll learn four functions from the **tidyverse**, a group of popular R packages (created by the same people who introduced the idea of *tidy data*) designed to simplify manipulation of data frames. These packages are automatically loaded when we run `library(coursekata)` at the beginning of our notebooks. The four functions are briefly described in the table below. \n\n<table style=\"border-collapse: collapse; font-size: 15px; font-family: sans-serif;\">\n  <thead>\n    <tr>\n      <th style=\"text-align: left; padding: 8px; border-bottom: 1px solid #ccc;\">Function</th>\n      <th style=\"text-align: left; padding: 8px; border-bottom: 1px solid #ccc;\">What It Does</th>\n      <th style=\"text-align: left; padding: 8px; border-bottom: 1px solid #ccc;\">Visual Metaphor</th>\n    </tr>\n  </thead>\n  <tbody>\n    <tr>\n      <td style=\"text-align: left; padding: 8px;\"><code>mutate()</code></td>\n      <td style=\"text-align: left; padding: 8px;\">Adds a new column (variable) or updates an existing one.</td>\n      <td style=\"text-align: left; padding: 8px;\">\n        <img src=\"https://coursekata-course-assets.s3.us-west-1.amazonaws.com/UCLATALL/czi-stats-course/37Vf3WJb.png\" width=\"200\" alt=\"mutate\">\n      </td>\n    </tr>\n    <tr>\n      <td style=\"text-align: left; padding: 8px;\"><code>select()</code></td>\n      <td style=\"text-align: left; padding: 8px;\">Shows only the columns (variables) you want to focus on.</td>\n      <td style=\"text-align: left; padding: 8px;\">\n        <img src=\"https://coursekata-course-assets.s3.us-west-1.amazonaws.com/UCLATALL/czi-stats-course/2rss91fD.png\" width=\"200\" alt=\"select\">\n      </td>\n    </tr>\n    <tr>\n      <td style=\"text-align: left; padding: 8px;\"><code>filter()</code></td>\n      <td style=\"text-align: left; padding: 8px;\">Shows only the rows (cases) that meet certain conditions.</td>\n      <td style=\"text-align: left; padding: 8px;\">\n        <img src=\"https://coursekata-course-assets.s3.us-west-1.amazonaws.com/UCLATALL/czi-stats-course/DFFmHzn1.png\" width=\"200\" alt=\"filter\">\n      </td>\n    </tr>\n    <tr>\n      <td style=\"text-align: left; padding: 8px;\"><code>arrange()</code></td>\n      <td style=\"text-align: left; padding: 8px;\">Reorders the rows based on the values in one or more columns.</td>\n      <td style=\"text-align: left; padding: 8px;\">\n        <img src=\"https://coursekata-course-assets.s3.us-west-1.amazonaws.com/UCLATALL/czi-stats-course/MqmL5dty.png\" width=\"200\" alt=\"arrange\">\n      </td>\n    </tr>\n  </tbody>\n</table>"
    },
    {
      "cell_type": "markdown",
      "metadata": {
        "cell_id": "aa2b5d3f72eb4ffcafa0e24f40cf5658",
        "deepnote_cell_type": "markdown"
      },
      "source": "<div class=\"guided-notes\">\n    \n### 2.1 Write a brief explanation of these four functions in your own words. \n\n</div>"
    },
    {
      "cell_type": "markdown",
      "metadata": {
        "cell_id": "c6ba12e48d0649a5bc793ffc1e3099d8",
        "deepnote_cell_type": "markdown"
      },
      "source": "<div style=\"text-align: right\">\n  <a href=\"#9\">Back to top</a>\n</div>\n\n<a id =3> </a> \n## 3 Using `mutate()` to Add a New Variable\n\nWe've already learned one way to add a new variable to a data frame using the assignment operator `<-`. For example, the code below creates a new variable in the cheeses data frame called `firmness_factor`:\n\n```\ncheeses$firmness_factor <- factor(cheeses$firmness_num)\n```\n\nThis works! But `mutate()` gives us another method — one that’s easier to read and works well when we want to combine multiple actions.\n\n**Creating `firmness_factor` using the `mutate()` function:** Here's how we'd create `firmness_factor` using `mutate()` in the tidyverse: we begin with the data frame (in this case, `cheeses`), and then pipe (`%>%`) on a function like `mutate()`:\n\n```\ncheeses %>%\n  mutate()\n```\n\nInside the `mutate()` function, we describe the new variable we want to make, resulting in this:\n\n```\ncheeses %>%\n  mutate(firmness_factor = factor(firmness_num))\n```\n\nNotice that because we are telling R at the outset to start with the `cheeses` data frame, it's no longer necessary to put the `cheeses$` in front of the variable name. Also note that in the `mutate()` function, we use an `=` sign instead of the assignment operator `<-`. \n\n**Saving the new variable:** When you run this code, R creates a new version of the `cheeses` data frame that includes the new variable. But this new version of `cheeses` is only temporary; if you load up a fresh copy of `cheeses` the new variable won't be there. If you want to save the new variable you've created back into the `cheeses` data frame, you need to assign the results of the `mutate()` function back to `cheeses`, lke this:\n\n```\ncheeses <- cheeses %>%\n  mutate(firmness_factor = factor(firmness_num))\n```\n\nTry building this code up (from `cheeses %>% mutate()`) in the code block below. Make sure you like what you create before saving it back into `cheeses`!"
    },
    {
      "cell_type": "code",
      "execution_count": null,
      "metadata": {
        "cell_id": "6863098b079e4d2ca9e709123e9ad2df",
        "deepnote_cell_type": "code",
        "trusted": true
      },
      "outputs": [],
      "source": "# write code\n\n# teacher note: build up the code like this\n#cheeses %>%\n#  mutate()\n\n#cheeses %>%\n#  mutate(firmness_factor = factor(firmness_num))\n\n#cheeses_mutate <- cheeses %>%\n#  mutate(firmness_factor = factor(firmness_num))"
    },
    {
      "cell_type": "markdown",
      "metadata": {
        "cell_id": "0fce103e8b1b4571954ce56cd0717454",
        "deepnote_cell_type": "markdown"
      },
      "source": "<div class=\"guided-notes\">\n    \n### 3.1 Write the missing part of code into the table\n    \n</div>"
    },
    {
      "cell_type": "markdown",
      "metadata": {
        "cell_id": "e6165f6fef5e460ebe650a4c405907ff",
        "deepnote_cell_type": "markdown"
      },
      "source": "<div class=\"guided-notes\">\n    \n### 3.2 Create a new variable called `fat_prop` using `mutate()`\n\nThe variable `fat_percent` tells us the percent of fat in each cheese (from 0 to 100). Let's create a new variable called `fat_prop` that shows fat as a **proportion** instead (from 0 to 1.0).\n    \n</div>"
    },
    {
      "cell_type": "code",
      "execution_count": null,
      "metadata": {
        "cell_id": "6cae8760959d4a93a7a3d4b5c83d2fbc",
        "deepnote_cell_type": "code",
        "trusted": true
      },
      "outputs": [],
      "source": "# sample code\ncheeses <- cheeses %>%\n  mutate(fat_prop = fat_percent / 100)\n\n# build this code up like we did above\n#cheeses %>%\n#  mutate()\n\n#cheeses %>%\n#  mutate(fat_prop = fat_percent / 100)\n\n#cheeses <- cheeses %>%\n#  mutate(fat_prop = fat_percent / 100)\n"
    },
    {
      "cell_type": "markdown",
      "metadata": {
        "cell_id": "20aff1112ff94130b390143e4c06bd18",
        "deepnote_cell_type": "markdown"
      },
      "source": "### 3.3 Using `mutate()` to create two variables at once\nYou can include multiple formulas, separated by commas, inside a single `mutate()` function."
    },
    {
      "cell_type": "code",
      "execution_count": null,
      "metadata": {
        "cell_id": "7fd40dde1a8f46ce9f634f6a290b3935",
        "deepnote_cell_type": "code",
        "trusted": true
      },
      "outputs": [],
      "source": "# code here\ncheeses <- cheeses %>% \n  mutate(firmness_factor = factor(firmness_num),\n         fat_prop = fat_percent / 100)"
    },
    {
      "cell_type": "markdown",
      "metadata": {
        "cell_id": "ab0dd91e50fc4bad8e8b84518f2caa74",
        "deepnote_cell_type": "markdown"
      },
      "source": "<div class=\"guided-notes\">\n    \n### 3.4 Fill in the table to show what `cheeses` will look like after running the cell above\n\nThen run the code below to print out the data frame and check your prediction.\n    \n</div>"
    },
    {
      "cell_type": "code",
      "execution_count": null,
      "metadata": {
        "cell_id": "6b6a3b98da5f4fd793814d4e6b51a579",
        "deepnote_cell_type": "code",
        "trusted": true
      },
      "outputs": [],
      "source": "# print out the revised data frame after running the code above\ncheeses"
    },
    {
      "cell_type": "markdown",
      "metadata": {
        "cell_id": "d48a260473474c7c87df759d4bf9b490",
        "deepnote_cell_type": "markdown"
      },
      "source": "<div style=\"text-align: right\">\n  <a href=\"#9\">Back to top</a>\n</div>\n\n<a id =4> </a> \n## 4 Using `select()` to Focus on Just a Few Specific Variables\n\nSometimes, we only want to focus on a few variables in a dataset — for example, just the cheese name, the kind of milk used, and the amount of calcium. We can use the `select()` function to do this.\n\n`select(<data frame>, <var name 1>, <var name 2> ...)`\n\n```\ncheeses %>%\n  select(cheese, milk, calcium_mg)\n```"
    },
    {
      "cell_type": "markdown",
      "metadata": {
        "cell_id": "d3b020dab68b4b3099ca21e32950b49d",
        "deepnote_cell_type": "markdown"
      },
      "source": "<div class=\"guided-notes\">\n\n### 4.1 Paper Prediction Activity: Take a copy of the `cheeses` data frame and use scissors to show what you think the result of the code will look like.\nThen run the code below to print out the data frame and check your prediction.\n\n</div>\n"
    },
    {
      "cell_type": "markdown",
      "metadata": {
        "cell_id": "5aea85b8d745466fa414351c82bd3adf",
        "deepnote_cell_type": "markdown"
      },
      "source": "<div class=\"teacher-note\">\n    <b>Teacher note:</b> \n\n[Link to paper cheeses data frames.](https://docs.google.com/document/d/1K5FZUIIilTkDfYzS3SusnVMiB1Ru0bTfZxgttVwnRkQ/edit?tab=t.9xee6sq8161t)\n\n</div>\n"
    },
    {
      "cell_type": "code",
      "execution_count": null,
      "metadata": {
        "cell_id": "29db2aac50fa44e6b27e013d761705d3",
        "deepnote_cell_type": "code",
        "trusted": true
      },
      "outputs": [],
      "source": "# run this after students have a chance to cut cheeses \ncheeses %>%\n  select(cheese, milk, calcium_mg)"
    },
    {
      "cell_type": "markdown",
      "metadata": {
        "cell_id": "7d0ecafe685e4117b0c479bc719c8898",
        "deepnote_cell_type": "markdown"
      },
      "source": "<div class=\"discussion-question\">\n\n### 4.2 Key Discussion Question: If we print out `cheeses` again after running the `select()` code above, will it include just the selected columns?  Why or why not?\n    \n</div>"
    },
    {
      "cell_type": "code",
      "execution_count": null,
      "metadata": {
        "cell_id": "8effc550883642aa8b4ff8d993ad513e",
        "deepnote_cell_type": "code",
        "trusted": true
      },
      "outputs": [],
      "source": "# run this after students have discussed\ncheeses"
    },
    {
      "cell_type": "markdown",
      "metadata": {
        "cell_id": "4f05d23a75d84790a9ef427e0bd4708d",
        "deepnote_cell_type": "markdown"
      },
      "source": "<div class=\"teacher-note\">\n<b>Teacher note:</b>\n\n- Some students may believe that `cheeses` has been changed because they saw what the `select()` function did.\n- Other students might recognize that there’s no `<-` assignment operator, and therefore the change wasn't saved to memory.\n- After a few students share predictions, take a look at `cheeses` and follow up with an updated question: \"Hmm, why didn’t `cheeses` change?\" \n- Emphasize that functions like `select()` output a new data frame, but don’t modify the original or save a new copy unless you assign the revised version to an R object using `<-`.\n    \n</div>\n"
    },
    {
      "cell_type": "markdown",
      "metadata": {
        "cell_id": "c6ce829afa5c4f429d952af989446e15",
        "deepnote_cell_type": "markdown"
      },
      "source": "<div class=\"guided-notes\">\n\n### 4.3 We have written the original `select()` code as well as some code that would save the modified data frame as a new R data frame called `cheeses_select`.  Write what each line of code is doing in your own words.\n\n</div>\n"
    },
    {
      "cell_type": "markdown",
      "metadata": {
        "cell_id": "728621d8af3941ada6790df7e3c11e68",
        "deepnote_cell_type": "markdown"
      },
      "source": "### 4.4 Make a prediction: What do you think might happen if we put a negative sign in front of a variable? \n\nThen run the code below.\n"
    },
    {
      "cell_type": "code",
      "execution_count": null,
      "metadata": {
        "cell_id": "e32730f8385d498e9dc661208265118b",
        "deepnote_cell_type": "code",
        "trusted": true
      },
      "outputs": [],
      "source": "# run this\ncheeses %>%\n  select(-milk, -fat_percent)"
    },
    {
      "cell_type": "markdown",
      "metadata": {
        "cell_id": "9025ed3ec30440aba1bfcc9171fab046",
        "deepnote_cell_type": "markdown"
      },
      "source": "<div class=\"teacher-note\">\n<b>Teacher note:</b>\n\n- The negative sign in `select()` removes variables.\n\n<b>Sample responses:</b>\n- Maybe it makes the values in that column negative?\n- Maybe removes that column?\n- Maybe gives an error?\n\n</div>\n"
    },
    {
      "cell_type": "markdown",
      "metadata": {
        "cell_id": "e5bc868d433c42908364e3632ae003a9",
        "deepnote_cell_type": "markdown"
      },
      "source": "<div class=\"guided-notes\">\n\n### 4.5 Write down what the code does in your own words.\n\n</div>\n"
    },
    {
      "cell_type": "markdown",
      "metadata": {
        "cell_id": "8b4120f2098e4f418f8cff0feef63ef4",
        "deepnote_cell_type": "markdown"
      },
      "source": "<div style=\"text-align: right\">\n  <a href=\"#9\">Back to top</a>\n</div>\n\n<a id =5> </a> \n## 5 Use `filter()` to Show Only the Rows You Want\n\nSo far, we’ve been working with *columns* — adding new ones (`mutate`) or selecting just the ones you want (`select`). The `filter()` function works with *rows*, letting us show only the rows (cases) that meet certain conditions.\n\nFor example, suppose we want to focus only on cheeses that have information about their calcium content. If you look at the data frame, you’ll notice some rows are missing that information — it just says `NA`, which is how R indicates that data is missing.\n\nWe can use `filter()` to remove the rows that have no calcium information. For this, we'll use the `is.na()` function.\n"
    },
    {
      "cell_type": "markdown",
      "metadata": {
        "cell_id": "cdb030d054f14687a6de00427a810363",
        "deepnote_cell_type": "markdown"
      },
      "source": "### 5.1 What code do you think will show only rows where information on calcium content is not missing? (HINT: Use `filter()` and `is.na()` in your code.)"
    },
    {
      "cell_type": "markdown",
      "metadata": {
        "cell_id": "82c5016e37094afd8b85a1bd4921e963",
        "deepnote_cell_type": "markdown"
      },
      "source": "<div class=\"teacher-note\">\n<b>Teacher note:</b> \n    \nStudents (actually everyone!) get confused as to whether the <code>filter()</code> function specifies which rows to include, or which rows to exclude. In building up the code below, we suggest starting with a common error: \n- <code>filter(is.na(calcium_mg))</code>. This code would show only the rows that are missing, not the ones that have the information. \n- Putting the <code>!</code> sign before the <code>is.na</code> says you want the rows that are <b>not</b> missing: <code>filter(!is.na(calcium_mg))</code>. We build up to this idea in the next few cells.\n\n</div>\n"
    },
    {
      "cell_type": "code",
      "execution_count": null,
      "metadata": {
        "cell_id": "0ca481ef3eb74d04853dd9f6eb34f7b3",
        "deepnote_cell_type": "code",
        "trusted": true
      },
      "outputs": [],
      "source": "# run this code\ncheeses %>%\n  filter(is.na(calcium_mg))"
    },
    {
      "cell_type": "markdown",
      "metadata": {
        "cell_id": "c005df7f85ce466794cace694a86f724",
        "deepnote_cell_type": "markdown"
      },
      "source": "<div class=\"guided-notes\">\n\n### 5.2 Did this code get rid of the rows that were missing data for `calcium_mg`? Write down what the code did in your own words.\n\n</div>\n"
    },
    {
      "cell_type": "markdown",
      "metadata": {
        "cell_id": "e877951698294750baa848411d334fa0",
        "deepnote_cell_type": "markdown"
      },
      "source": "### 5.3 Explanation of the \"not\" sign in R: `!`\n\nTo get the rows that are **not** `NA`, we use the `!` sign — this is R's way of saying \"not.\"\n\n- `is.na(calcium_mg)` returns `TRUE` for rows where the value is `NA`\n- `!is.na(calcium_mg)` returns `TRUE` for rows where the value is **not** `NA`\n\nLet's dig in to how this works. `is.na()` is a type of function called a *predicate function*. A predicate function is a function that returns a logical (Boolean) value: either TRUE or FALSE. Run the code below to see how this works.\n"
    },
    {
      "cell_type": "code",
      "execution_count": null,
      "metadata": {
        "cell_id": "0034d4ecdcb940f2988b8ac6da13f41d",
        "deepnote_cell_type": "code",
        "trusted": true
      },
      "outputs": [],
      "source": "# run this\nis.na(cheeses$calcium_mg)"
    },
    {
      "cell_type": "markdown",
      "metadata": {
        "cell_id": "041ecb3fc5ec4298aaaf191fa10b438c",
        "deepnote_cell_type": "markdown"
      },
      "source": "### 5.4 What does the `TRUE` mean here?\nPrint out the `cheeses` data frame and see how these TRUEs and FALSEs fit the data."
    },
    {
      "cell_type": "code",
      "execution_count": null,
      "metadata": {
        "cell_id": "9df136d33eb74222a7e227bb3fa724e5",
        "deepnote_cell_type": "code",
        "trusted": true
      },
      "outputs": [],
      "source": "# run this\ncheeses"
    },
    {
      "cell_type": "code",
      "execution_count": null,
      "metadata": {
        "cell_id": "529983c1d996400d81a2ba00763fd7c3",
        "deepnote_cell_type": "code",
        "trusted": true
      },
      "outputs": [],
      "source": "# run these two lines of code\nis.na(cheeses$calcium_mg)\n!is.na(cheeses$calcium_mg)"
    },
    {
      "cell_type": "markdown",
      "metadata": {
        "cell_id": "9e43ae39b69a4fb192a96a4482bc19b6",
        "deepnote_cell_type": "markdown"
      },
      "source": "<div class=\"teacher-note\">\n<b>Teacher note:</b> Help students see that the TRUEs and FALSEs reverse when you add the <code>!</code> sign. TRUE means it is <i>missing</i>; FALSE means that it is <i>not missing</i>.\n\n</div>\n"
    },
    {
      "cell_type": "markdown",
      "metadata": {
        "cell_id": "4e03e79900424969846c8fb05223cc42",
        "deepnote_cell_type": "markdown"
      },
      "source": "### 5.5 Now let's write the code to only show cases that are *not missing* on `calcium_mg`"
    },
    {
      "cell_type": "code",
      "execution_count": null,
      "metadata": {
        "cell_id": "3f80842e2fa341d0aa0c7fd166375733",
        "deepnote_cell_type": "code",
        "trusted": true
      },
      "outputs": [],
      "source": "# run this\ncheeses %>%\n  filter(!is.na(calcium_mg))"
    },
    {
      "cell_type": "markdown",
      "metadata": {
        "cell_id": "4058e7ce5ae14b3ab3f0a0fa12dc6ee7",
        "deepnote_cell_type": "markdown"
      },
      "source": "<div class=\"guided-notes\">\n\n### 5.6 Did this code get rid of the rows that were missing data for `calcium_mg`? Write down what the code does in your own words.\n</div>\n"
    },
    {
      "cell_type": "markdown",
      "metadata": {
        "cell_id": "2d7f7b8d085c472fb8d908ce9aa9bfd9",
        "deepnote_cell_type": "markdown"
      },
      "source": "<div class=\"discussion-question\">\n    \n### 5.7 Make a prediction: If we print out the `cheeses` data frame at this point, will it include cheeses missing for `calcium_mg`? Why or why not?\n</div>"
    },
    {
      "cell_type": "code",
      "execution_count": null,
      "metadata": {
        "cell_id": "cd4a2e41fc8a4714bf95fa1f626acf9d",
        "deepnote_cell_type": "code",
        "trusted": true
      },
      "outputs": [],
      "source": "# run this to check your prediction\ncheeses"
    },
    {
      "cell_type": "markdown",
      "metadata": {
        "cell_id": "d5d05cc2e18448aeac22f1670b31877c",
        "deepnote_cell_type": "markdown"
      },
      "source": "<div class=\"teacher-note\">\n<b>Teacher note:</b>\n\n- Just like mutate and select, filter does not change the original data frame unless it’s saved.\n- Use this question to reinforce the idea that R only updates a data frame when we save the result using the assignment operator.\n\n<b>Sample responses:</b>\n- \"Yes, we’ll still see them because we didn’t save the filtered version.\"\n- \"No — we filtered them out.\"\n- \"Filter will just show the filtered data frame, but `cheeses` still has everything.\"\n\n</div>\n"
    },
    {
      "cell_type": "markdown",
      "metadata": {
        "cell_id": "640742eaf1204110ba1d16d27964af54",
        "deepnote_cell_type": "markdown"
      },
      "source": "<div class=\"guided-notes\">\n\n### 5.8 If we want to save the result of filtering, we need to assign it to a data frame. In this case, let's save the rows with data for `calcium_mg` into a data frame called `cheeses_with_calcium`. Write that code.\n\n</div>"
    },
    {
      "cell_type": "code",
      "execution_count": null,
      "metadata": {
        "cell_id": "9209c61d5c8c4077b1f2349fbf52dd88",
        "deepnote_cell_type": "code",
        "trusted": true
      },
      "outputs": [],
      "source": "# sample code\ncheeses_with_calcium <- cheeses %>%\n    filter(!is.na(calcium_mg))\n\n# then to see this new data frame\ncheeses_with_calcium"
    },
    {
      "cell_type": "markdown",
      "metadata": {
        "cell_id": "e642da3af6f04dad84b4eeebdd36c6e3",
        "deepnote_cell_type": "markdown"
      },
      "source": "### 5.9 We can `filter()` using comparison operators (such as <, >, <=, ==) to show only the rows that meet a specific condition. \nIf we wanted to look at cheeses with less than 25% fat, which comparison operator would we use?  If we wanted to look at cheeses from \"cow\" milk, which comparison operator would we use? \n\nHere are some common ones used in R:\n- `<` means “less than”\n- `<=` means “less than or equal to”\n- `>` means “greater than”\n- `>=` means “greater than or equal to”\n- `==` means “equal to”\n- `!=` means “not equal to”\n"
    },
    {
      "cell_type": "markdown",
      "metadata": {
        "cell_id": "b755e088116b47d1bbf50699ed8a4f08",
        "deepnote_cell_type": "markdown"
      },
      "source": "<div class=\"guided-notes\">\n\n### 5.10 Paper Prediction Activity: Take a fresh copy of the `cheeses` data frame and use scissors to show what a data frame of cheeses with less than 25% fat would look like.    \n\n</div>\n"
    },
    {
      "cell_type": "markdown",
      "metadata": {
        "cell_id": "39318d79c461403da4a33b532de33098",
        "deepnote_cell_type": "markdown"
      },
      "source": "<div class=\"teacher-note\">\n  <b>Teacher note:</b>\n    \n[Link to paper data frames.](https://docs.google.com/document/d/1K5FZUIIilTkDfYzS3SusnVMiB1Ru0bTfZxgttVwnRkQ/edit?tab=t.9xee6sq8161t)\n\n- This activity helps students practice using comparison operators while reinforcing that each row in a data frame represents a full case (in this case, a cheese). \n- Some students may initially try to cut just the `fat_percent` column instead of full rows — that’s okay! This is a great opportunity to clarify how filtering keeps or removes entire rows, not just values in a single column. Have a few extra copies of the `cheeses` data frame so that if students recognize their mistakes, they can grab a new sheet.\n</div>\n"
    },
    {
      "cell_type": "markdown",
      "metadata": {
        "cell_id": "77e3d338410c43868fa374a6cfac17e0",
        "deepnote_cell_type": "markdown"
      },
      "source": "<div class=\"guided-notes\">\n\n### 5.11 Write the R code to show only the rows where `fat_percent` is less than 25. Then, write another version of that code that saves those rows into a new data frame called `cheeses_lowfat`.\n\n</div>"
    },
    {
      "cell_type": "code",
      "execution_count": null,
      "metadata": {
        "cell_id": "53c58b42dc6744d0b618e4774c00a79a",
        "deepnote_cell_type": "code",
        "trusted": true
      },
      "outputs": [],
      "source": "# test the code here\n"
    },
    {
      "cell_type": "markdown",
      "metadata": {
        "cell_id": "ca8c6c59030e4b1685ecb22aa18f79c0",
        "deepnote_cell_type": "markdown"
      },
      "source": "<div style=\"text-align: right\">\n  <a href=\"#9\">Back to top</a>\n</div>\n\n<a id =6> </a> \n## 6 Use `arrange()` to Sort the Rows into a Different Order Based on a Variable\n\nWe have looked at functions that focus on a few rows (`filter`) or a few columns (`select`). \n\nBut what if you just wanted to reorder the rows so that you could see the cheeses with the lowest or highest calcium in mg per 100 grams of cheese? For this we use the `arrange()` function.\n"
    },
    {
      "cell_type": "markdown",
      "metadata": {
        "cell_id": "fdd33929b4e341a49ddcc6758656ee48",
        "deepnote_cell_type": "markdown"
      },
      "source": "<div class=\"guided-notes\">\n\n### 6.1 Paper Prediction Activity: Take a copy of the `cheeses_with_calcium` data frame and use scissors to show what it would look like arranged by `calcium_mg`.    \n\nThen run the code below.\n</div>\n"
    },
    {
      "cell_type": "markdown",
      "metadata": {
        "cell_id": "c50063634c23495e9647ef4995089732",
        "deepnote_cell_type": "markdown"
      },
      "source": "<div class=\"teacher-note\">\n    <b>Teacher note:</b> \n\n[Link to paper cheeses_with_calcium data frames.](https://docs.google.com/document/d/1K5FZUIIilTkDfYzS3SusnVMiB1Ru0bTfZxgttVwnRkQ/edit?tab=t.y5yuz5bvuvhl)\n\n</div>\n"
    },
    {
      "cell_type": "code",
      "execution_count": null,
      "metadata": {
        "cell_id": "d66f7d002fcf4e179e63da7e942d8dc7",
        "deepnote_cell_type": "code",
        "trusted": true
      },
      "outputs": [],
      "source": "# try this; then try putting a negative sign (-) in front of calcium_mg\ncheeses_with_calcium %>%\n  arrange(calcium_mg) \n"
    },
    {
      "cell_type": "markdown",
      "metadata": {
        "cell_id": "193d7e693650414bbaf30580ad7e76a2",
        "deepnote_cell_type": "markdown"
      },
      "source": "<div class=\"guided-notes\">\n\n### 6.2 Write down what these lines of code do in your own words.\n\n</div>\n"
    },
    {
      "cell_type": "markdown",
      "metadata": {
        "cell_id": "b481553016c84ad492f9797bf0a5cd36",
        "deepnote_cell_type": "markdown"
      },
      "source": "<div class=\"guided-notes\">\n\n### 6.3 How would we save the arranged data frame in an R object called `cheeses_arranged`? \n</div>"
    },
    {
      "cell_type": "code",
      "execution_count": null,
      "metadata": {
        "cell_id": "3f282f69cf29401a86ab9fc64083fcf7",
        "deepnote_cell_type": "code",
        "trusted": true
      },
      "outputs": [],
      "source": "# modify this\ncheeses_with_calcium %>%\n  arrange(calcium_mg)\n\n# sample code\ncheeses_arranged <- cheeses_with_calcium %>%\n  arrange(calcium_mg)"
    },
    {
      "cell_type": "markdown",
      "metadata": {
        "cell_id": "d3345f998d0243ee92bb044bf23ff316",
        "deepnote_cell_type": "markdown"
      },
      "source": "<div style=\"text-align: right\">\n  <a href=\"#9\">Back to top</a>\n</div>\n\n<a id =7> </a> \n## 7 Putting It All Together\n\nThe real power of the tidyverse comes when we **chain together** multiple functions using the pipe (`%>%`). "
    },
    {
      "cell_type": "markdown",
      "metadata": {
        "cell_id": "e75c4671e7eb4af284f2672f3813001d",
        "deepnote_cell_type": "markdown"
      },
      "source": "<div class=\"guided-notes\">\n\n### 7.1 Paper Prediction Activity: Imagine running the code below. Take a fresh copy of the `cheeses` data frame and use scissors to show what you predict the result of running the R code will be.\n\n</div>\n"
    },
    {
      "cell_type": "markdown",
      "metadata": {
        "cell_id": "e3f18b1c378a47648cf7d91023733c8a",
        "deepnote_cell_type": "markdown"
      },
      "source": "<div class=\"teacher-note\">\n    <b>Teacher note:</b> \n\n[Link to paper cheeses data frames.](https://docs.google.com/document/d/1K5FZUIIilTkDfYzS3SusnVMiB1Ru0bTfZxgttVwnRkQ/edit?tab=t.9xee6sq8161t)\n\n</div>\n"
    },
    {
      "cell_type": "code",
      "execution_count": null,
      "metadata": {
        "cell_id": "7431806ff29d4ed8b6333758a0cd6b4e",
        "deepnote_cell_type": "code",
        "trusted": true
      },
      "outputs": [],
      "source": "# run this\ncheeses %>%\n  select(cheese, milk, fat_percent) %>%\n  filter(milk == \"cow\")\n"
    },
    {
      "cell_type": "markdown",
      "metadata": {
        "cell_id": "d11b04e5ddb74f668d3dfff57b08f3c6",
        "deepnote_cell_type": "markdown"
      },
      "source": "<div class=\"guided-notes\">\n\n### 7.2 Write down what this code does in your own words.\n\n</div>\n"
    },
    {
      "cell_type": "markdown",
      "metadata": {
        "cell_id": "fe2b3c63171a4dee86449b41269fb9c5",
        "deepnote_cell_type": "markdown"
      },
      "source": "<div class=\"guided-notes\">\n    \n### 7.3 Write R code to do this sequence of actions:\n\n- create a new variable called `calcium_g` (Hint: 1000 mg = 1 gram),\n- select these three variables: `cheese`, `calcium_mg`, and `calcium_g`,\n- show only cheeses with less than 0.5 grams of calcium,\n- save all this in a data frame called `cheeses_new`.\n    \n</div>"
    },
    {
      "cell_type": "code",
      "execution_count": null,
      "metadata": {
        "cell_id": "e72617d928bf484badb1931bf6bee9b1",
        "deepnote_cell_type": "code",
        "trusted": true
      },
      "outputs": [],
      "source": "# write code\n\n# write this first\ncheeses %>%\n  mutate(calcium_g = calcium_mg / 1000) %>%\n  select(cheese, calcium_mg, calcium_g) %>%\n  filter(calcium_g < .5)\n\n# then save into cheeses_new\ncheeses_new <- cheeses %>%\n  mutate(calcium_g = calcium_mg / 1000) %>%\n  select(cheese, calcium_mg, calcium_g) %>%\n  filter(calcium_g < .5)"
    },
    {
      "cell_type": "markdown",
      "metadata": {
        "cell_id": "6daebe48320445a0a96fb6a15d9e56e3",
        "deepnote_cell_type": "markdown"
      },
      "source": "<div style=\"text-align: right\">\n  <a href=\"#9\">Back to top</a>\n</div>\n\n<a id =8> </a> \n## 8 Practice What You Learned\n\nThe data frame `big_cheeses` contains many more cheeses, several variables you’ve worked with before, plus a few new ones. Here's a full list of the variables.\n\n- `cheese`\t\tName of the cheese.\n- `milk`\t\tThe type of milk used for the cheese, when known.\n- `country`\t\tThe country or countries of origin of the cheese.\n- `family`\t\tThe family to which the cheese belongs, if any.\n- `fat_percent`\tThe fat content of the cheese (as a percent).\n- `calcium_mg`\tThe calcium content of the cheese, when known (in mg per 100 g of cheese).\n- `firmness`    Describes how soft or hard a cheese is (from softest to hardest): fresh, soft, semi-soft, semi-hard, firm, hard.\n- `firmness_num` A number representing the firmness category of the cheese: 1=fresh, 2=soft, 3=semi-soft, 4=semi-hard, 5=firm, 6=hard.\n- `rind`\t\tThe type of rind used in producing the cheese.\n- `color`\t\tThe color of the cheese.\n- `flavor`\t\tCharacteristic(s) of the taste of the cheese.\n- `url`\t\t    Location of the cheese's description at <a href=\"cheese.com\">cheese.com</a>\n"
    },
    {
      "cell_type": "markdown",
      "metadata": {
        "cell_id": "7dd41ffa14d141deb25811c0533c4104",
        "deepnote_cell_type": "markdown"
      },
      "source": "### 8.1 How many cases and variables are in `big_cheeses`? Write R code to help you figure this out."
    },
    {
      "cell_type": "code",
      "execution_count": null,
      "metadata": {
        "cell_id": "bd67a848ab1d480c9231c00fcf3e95e3",
        "deepnote_cell_type": "code",
        "scrolled": false,
        "trusted": true
      },
      "outputs": [],
      "source": "# sample code\nglimpse(big_cheeses)\nbig_cheeses"
    },
    {
      "cell_type": "markdown",
      "metadata": {
        "cell_id": "b18cd125728b48668e07cabdf0250a5c",
        "deepnote_cell_type": "markdown"
      },
      "source": "### 8.2 Create a new data frame with only the cheese, milk, fat_percent, and firmness columns. Call it cheese_basics.\n\nHow many cases and variables are in `cheese_basics`?"
    },
    {
      "cell_type": "code",
      "execution_count": null,
      "metadata": {
        "cell_id": "12f7c0f0d74e417a9686ea3727043e9b",
        "deepnote_cell_type": "code",
        "trusted": true
      },
      "outputs": [],
      "source": "# sample code\ncheese_basics <- big_cheeses %>%\n  select(cheese, milk, fat_percent, firmness)\n\nglimpse(cheese_basics)"
    },
    {
      "cell_type": "markdown",
      "metadata": {
        "cell_id": "ad2239b6dd8045648cbcca86d84b9800",
        "deepnote_cell_type": "markdown"
      },
      "source": "### 8.3 Create a new dataframe called `noncow_cheeses` that only contains cheeses that are not made from cow's milk.\n\nHow many cases and variables are in `noncow_cheeses`?"
    },
    {
      "cell_type": "code",
      "execution_count": null,
      "metadata": {
        "cell_id": "1bab121802824b3f8d7428362ade3632",
        "deepnote_cell_type": "code",
        "trusted": true
      },
      "outputs": [],
      "source": "# sample code\nnoncow_cheeses <- big_cheeses %>%\n  filter(milk != \"cow\")\n\nglimpse(noncow_cheeses)"
    },
    {
      "cell_type": "markdown",
      "metadata": {
        "cell_id": "b1c06e432cd24548a96a04237fbc4fd8",
        "deepnote_cell_type": "markdown"
      },
      "source": "### 8.4 What is the cheese with the highest fat percentage? Lowest?"
    },
    {
      "cell_type": "code",
      "execution_count": null,
      "metadata": {
        "cell_id": "42266098494647438442489e013b684e",
        "deepnote_cell_type": "code",
        "trusted": true
      },
      "outputs": [],
      "source": "# sample code\nbig_cheeses %>%\n  arrange(-fat_percent) %>%\n  head()\n\n# sample code\nbig_cheeses %>%\n  arrange(fat_percent) %>%\n  head()"
    },
    {
      "cell_type": "markdown",
      "metadata": {
        "cell_id": "388f8101f11740f98ac16adb61f041b1",
        "deepnote_cell_type": "markdown"
      },
      "source": "### 8.5 Create a new dataframe called `cheeses_with_family` that filters only for cheeses that are part of a family.\n\nHow many cases and variables are in `cheeses_with_family`?"
    },
    {
      "cell_type": "code",
      "execution_count": null,
      "metadata": {
        "cell_id": "a8bbe46003794b10b68add6bf910cae3",
        "deepnote_cell_type": "code",
        "trusted": true
      },
      "outputs": [],
      "source": "# sample code\ncheeses_with_family <- big_cheeses %>%\n  filter(!is.na(family))\n\nglimpse(cheeses_with_family)"
    },
    {
      "cell_type": "markdown",
      "metadata": {
        "cell_id": "1674b6a87ee9461cb9014da95540ce29",
        "deepnote_cell_type": "markdown"
      },
      "source": "### 8.6 Create a new dataframe called `sheep_cheeses_arranged` by doing the following:\n\n- Filters for cheeses made only from sheep’s milk,\n- Selects these variables: `cheese`, `milk`, `firmness_num`, and `flavor`,\n- Creates a variable called `firmness_factor` which treats the firmness number as a factor in R,\n- Arranges by alphabetically by cheese name,\n- Saves as `sheep_cheeses_arranged`.\n\nHow many cases and variables are in `sheep_cheeses_arranged`?"
    },
    {
      "cell_type": "code",
      "execution_count": null,
      "metadata": {
        "cell_id": "665882ba690947bc9d5f5768f80dcc66",
        "deepnote_cell_type": "code",
        "trusted": true
      },
      "outputs": [],
      "source": "# sample code\n\nsheep_cheeses_arranged <- big_cheeses %>%\n  filter(milk == \"sheep\") %>%\n  select(cheese, milk, firmness_num, flavor) %>%\n  mutate(firmness_factor = factor(firmness_num)) %>%\n  arrange(cheese)\n  \nglimpse(sheep_cheeses_arranged)"
    },
    {
      "cell_type": "markdown",
      "metadata": {
        "cell_id": "87b2857b9f9b472480306a2c2aa22ba5",
        "deepnote_cell_type": "markdown",
        "nbsimplegrader": {
          "config_key": "markdown.view-only",
          "editable": false,
          "label": "Markdown: View-Only",
          "respondable": false,
          "response": null,
          "runnable": false,
          "type": "markdown"
        }
      },
      "source": "<div style=\"text-align: center\">\n  <a href=\"#9\">Back to top</a>\n</div>"
    }
  ],
  "metadata": {
    "deepnote_notebook_id": "8999cda4ed90401a80c0711b2bfd6304",
    "kernelspec": {
      "display_name": "R",
      "language": "R",
      "name": "ir"
    },
    "language_info": {
      "codemirror_mode": "r",
      "file_extension": ".r",
      "mimetype": "text/x-r-source",
      "name": "R",
      "pygments_lexer": "r",
      "version": "4.3.3"
    },
    "nbsimplegrader": {
      "publish_config": {
        "classes": [],
        "options": [],
        "tools": []
      }
    }
  },
  "nbformat": 4,
  "nbformat_minor": 1
}