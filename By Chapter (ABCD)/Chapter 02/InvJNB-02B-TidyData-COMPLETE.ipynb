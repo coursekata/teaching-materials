{
  "cells": [
    {
      "cell_type": "markdown",
      "metadata": {
        "cell_id": "baad118eafde45dead3ad9a30cbd3eec",
        "deepnote_cell_height": 231.109375,
        "deepnote_cell_type": "markdown"
      },
      "source": "<div class=\"alert alert-block alert-danger\">\n\n# 2B: Tidy Data (COMPLETE)\n\n**Lesson assumes students have read up through page: 2.11**\n\n**Use with textbook version 6.0+** \n\n*Note to Instructors:* Skip to an alternative lesson (such as 2C and 2D) if your class didn't do 02A (gummy bear launching activity).\n\n</div>"
    },
    {
      "cell_type": "markdown",
      "metadata": {
        "cell_id": "9926c589a7944c5e9464f77219a5055a",
        "deepnote_cell_height": 829.234375,
        "deepnote_cell_type": "markdown",
        "owner_user_id": "23d85493-7ed1-49a4-baa7-630eaab08193"
      },
      "source": "<div class=\"alert alert-block alert-warning\">\n\n#### Summary of Notebook:\n\nStudents transfer the data they collected from their catapult launching activity into a spreadsheet, then import it into R to explore the data.\n\n#### Includes:\n\n- Practice with tidy data principles\n- Distinguishing cases, values, variables, and data frames\n- Distinguishing which type of information is represented in the rows, and which info is represented in the columns\n- Practice importing data from Google Sheets with the `read.csv()` function\n- Practice data cleaning (e.g., using `filter()`, identifying missing cases, identifying mistakes, etc.)\n- Extra practice with the focus of the previous lesson: What is the difference between measurement error and a mistake?\n\n</div>"
    },
    {
      "cell_type": "markdown",
      "metadata": {
        "cell_id": "a09c16a1707245dfbdad1f5bda74aced",
        "deepnote_cell_height": 163.9375,
        "deepnote_cell_type": "markdown",
        "tags": []
      },
      "source": "<div class=\"alert alert-block alert-success\">\n\n## Approximate time to complete Notebook: 45-60 Mins\n\n</div>"
    },
    {
      "cell_type": "code",
      "execution_count": null,
      "metadata": {
        "cell_id": "be4f8336e4fb40938c8c4b5b1f04afd7",
        "deepnote_cell_height": 119.953125,
        "deepnote_cell_type": "code",
        "output_cleared": true,
        "trusted": true
      },
      "outputs": [],
      "source": "# This code will load the R packages we will use\nsuppressPackageStartupMessages({\n    library(coursekata)\n})"
    },
    {
      "cell_type": "markdown",
      "metadata": {
        "cell_id": "1c247002ea5140968d7c69d1a3d1315d",
        "deepnote_cell_height": 115.9375,
        "deepnote_cell_type": "markdown",
        "tags": []
      },
      "source": "<div class=\"alert alert-block alert-success\">\n\n### 1.0 - Approximate Time:  10-15 mins\n\n</div>"
    },
    {
      "cell_type": "markdown",
      "metadata": {
        "cell_id": "c73234c9471944a99e523ef30d39bcf5",
        "deepnote_cell_height": 153.140625,
        "deepnote_cell_type": "markdown"
      },
      "source": "## 1.0 - Our Data: From a list to a spreadsheet\n\nIn our last lesson (2A), we built catapults for launching gummy bears with the goal of trying to understand what makes the gummies launch the farthest. We’ve collected a lot of useful and interesting data to help us out, but, right now, that data is just listed on sheets of paper. "
    },
    {
      "cell_type": "markdown",
      "metadata": {
        "cell_id": "88fea3c1c44d445a965aaebf74c18f37",
        "deepnote_cell_height": 74.75,
        "deepnote_cell_type": "markdown"
      },
      "source": "1.1 - In groups, put the data in this spreadsheet: (Teachers should create a spreadsheet set up [like this](https://docs.google.com/spreadsheets/d/11HDp43wemtCuI1xFvKQCyxM5b6yvzDdsYG3yvih7u0M/edit?usp=sharing) and assign groups a number)"
    },
    {
      "cell_type": "markdown",
      "metadata": {
        "cell_id": "8b1e65a0e8a345148c6990d474ed6a8b",
        "deepnote_cell_height": 309.078125,
        "deepnote_cell_type": "markdown",
        "tags": []
      },
      "source": "<div class=\"alert alert-block alert-warning\">\n\n**Note to Instructors**\n\n*Each group will likely try a range of strategies for entering their data into the spreadsheet. That is to be expected and will be addressed in the next section in order to transform everyone's data into a uniform tidy data format.*\n\nSome possible variations that may arise:\n- Putting all data into one column or row\n- Variations in variable naming (e.g., \"Bear Color\" vs \"Color\")\n- Variations in category naming (e.g., \"white\" vs \"clear\" gummy bear color categories)\n\n</div>"
    },
    {
      "cell_type": "markdown",
      "metadata": {
        "cell_id": "800af2df215840de88f6cc3a6a13e3bb",
        "deepnote_cell_height": 115.9375,
        "deepnote_cell_type": "markdown",
        "tags": []
      },
      "source": "<div class=\"alert alert-block alert-success\">\n\n### 2.0 - Approximate Time:  15-20 mins\n\n</div>"
    },
    {
      "cell_type": "markdown",
      "metadata": {
        "cell_id": "15e9b4e960d14b5c9b6d4e9d6f8f4daa",
        "deepnote_cell_height": 69.96875,
        "deepnote_cell_type": "markdown"
      },
      "source": "## 2.0 - Reflecting on our Spreadsheets"
    },
    {
      "cell_type": "markdown",
      "metadata": {
        "cell_id": "5511b253491f49149217b94f2095967f",
        "deepnote_cell_height": 234.703125,
        "deepnote_cell_type": "markdown"
      },
      "source": "2.1 - Let’s see if we have put the data into the spreadsheet in a way that can be analyzed by R.  Does your data meet the definition of tidy data? \n\nAs a reminder, here are the three principles of tidy data:\n\n- Each column is a variable\n- Each row is an observation (also called a case, research unit, or an object; all these words mean the same thing)\n- Each type of observation is kept in a different table"
    },
    {
      "cell_type": "markdown",
      "metadata": {
        "cell_id": "cfac5afc86f14e6aa682694338e610a7",
        "deepnote_cell_height": 320.078125,
        "deepnote_cell_type": "markdown",
        "tags": []
      },
      "source": "<div class=\"alert alert-block alert-warning\">\n\n**Note to Instructors**\n\n*Suggested follow-up questions:* \n\n- What are the cases? (The cases are the launches)\n- Is there any other information we may want to capture in our data frame? (e.g., the Group Number)\n\n*Here is a link to an example version of one possible way to enter the data in tidy data format:*\n\n[Example Spreadsheet with Sample Data](https://docs.google.com/spreadsheets/d/1cLO3CMT-CMB_oZW4Pdu5n5Bc9i-TqcUPIT67rEiNF4U/edit?usp=sharing)\n\n</div>"
    },
    {
      "cell_type": "markdown",
      "metadata": {
        "cell_id": "5518ee5f9b5247ab866a0cb3fdb58eba",
        "deepnote_cell_height": 119.53125,
        "deepnote_cell_type": "markdown"
      },
      "source": "2.2 - A few other data science and statistics classes have done this exercise before. One of these classes had an average distance of 20.05 cm from all their flying gummy bears. According to tidy data principles, how would we put this data into our data frame (the one we created in our spreadsheet)? If your group thinks of a way, try to enter this data into your spreadsheet."
    },
    {
      "cell_type": "markdown",
      "metadata": {
        "cell_id": "21382cfc20e949bbb96715511631390d",
        "deepnote_cell_height": 258.296875,
        "deepnote_cell_type": "markdown",
        "tags": []
      },
      "source": "<div class=\"alert alert-block alert-warning\">\n\n**Sample Response**\n\nWe would not be able to add this information using tidy data principles because this mean is not a case in this data frame.\n\n**Optional:**\n\n*Ask students why they think the tidy principles are the way that they are? For example, why **can't** we put the cases in columns?*\n\n</div>"
    },
    {
      "cell_type": "markdown",
      "metadata": {
        "cell_id": "a1ddfbe9452c45179bb207cac2ab4a7c",
        "deepnote_cell_height": 115.9375,
        "deepnote_cell_type": "markdown",
        "tags": []
      },
      "source": "<div class=\"alert alert-block alert-success\">\n\n### 3.0 - Approximate Time:  15-20 mins\n\n</div>"
    },
    {
      "cell_type": "markdown",
      "metadata": {
        "cell_id": "306919eb3ffe4525a24d39616d500ce7",
        "deepnote_cell_height": 69.96875,
        "deepnote_cell_type": "markdown"
      },
      "source": "## 3.0 - From spreadsheet to data frame"
    },
    {
      "cell_type": "markdown",
      "metadata": {
        "cell_id": "a9b597de10be4eac8ca16a724a8b991f",
        "deepnote_cell_height": 52.359375,
        "deepnote_cell_type": "markdown"
      },
      "source": "3.1 - Now let’s try to put this data in R."
    },
    {
      "cell_type": "code",
      "execution_count": null,
      "metadata": {
        "cell_id": "c6f9b50f9f7f4d4aaffc5e208f78fee9",
        "deepnote_cell_height": 317.96875,
        "deepnote_cell_type": "code",
        "tags": [],
        "trusted": true
      },
      "outputs": [],
      "source": "# Write some code here.\n# From Google Sheets, publish the csv file to the web and copy the link\n# Name the data (anything you want--for example: launch_bears) and read it with the read.csv() function\n\nlaunch_bears <- read.csv(\"insert link\", header = TRUE)\n\n# No output will print unless you write the data frame name on another line or use some code to explore it\n\n# For example, you can print the whole data frame\nlaunch_bears\n# Or just look at the first 6 lines\nhead(launch_bears)\n# Or look at the structure\nstr(launch_bears)\n"
    },
    {
      "cell_type": "markdown",
      "metadata": {
        "cell_id": "a39ae73e588f4b0793c3091369804d1b",
        "deepnote_cell_height": 306.078125,
        "deepnote_cell_type": "markdown",
        "tags": []
      },
      "source": "<div class=\"alert alert-block alert-warning\">\n\n**Note to Instructors**\n\nStudents can try manipulating the data in several ways. In doing so they may come across mistakes that need to be fixed or filtered.\n\nFor example, students may try:\n\n- Using `sum()` or `tally()` to add up or count variables, such as the distances for different numbers of lift sticks, or gummy bear colors, or catapult colors, or measurement tools.\n- Using basic arithmetic or the `mean()` function to calculate the mean distances\n\n</div>"
    },
    {
      "cell_type": "markdown",
      "metadata": {
        "cell_id": "cd149f2fbe7142ba8b879c59d82262ee",
        "deepnote_cell_height": 52.359375,
        "deepnote_cell_type": "markdown",
        "tags": []
      },
      "source": "3.2 - Do you notice any issues? Are there things we should fix in the spreadsheet? "
    },
    {
      "cell_type": "markdown",
      "metadata": {
        "cell_id": "4f76abb955f94ed5a0ef7a109a06947e",
        "deepnote_cell_height": 415.25,
        "deepnote_cell_type": "markdown",
        "tags": []
      },
      "source": "<div class=\"alert alert-block alert-warning\">\n\n**Note to Instructors*\n\nSome possible mistakes that students may come across include:\n\n- Misspelled category names\n- Numbers entered in the wrong units\n\nSome possible solutions for fixing the mistakes include:\n\n- Using the `filter()` function to filter in only the correct data, or filtering missing cases\n\n**NOTE:** \n\nAn important goal in this section is to use any mistakes or errors found while cleaning the data as a chance for students to consider whether it was a case of measurement error or a mistake. How might that difference affect our data? Is there anything we can do to fix those things?\n\n</div>"
    },
    {
      "cell_type": "markdown",
      "metadata": {
        "cell_id": "a215315aaa60439fb647d66a4d431d42",
        "deepnote_cell_height": 115.9375,
        "deepnote_cell_type": "markdown",
        "tags": []
      },
      "source": "<div class=\"alert alert-block alert-success\">\n\n### 4.0 - Approximate Time:  5-8 mins\n\n</div>"
    },
    {
      "cell_type": "markdown",
      "metadata": {
        "cell_id": "8e82d02e1dfc4227aa37cf1e6a5e7c46",
        "deepnote_cell_height": 69.96875,
        "deepnote_cell_type": "markdown"
      },
      "source": "## 4.0 - Exploring the data"
    },
    {
      "cell_type": "markdown",
      "metadata": {
        "cell_id": "bbee58b9e21d48008d86e9df26f3f31d",
        "deepnote_cell_height": 74.75,
        "deepnote_cell_type": "markdown"
      },
      "source": "4.1 - Which of the variables might be important in launching the gummy bear farther? Which of these variables probably has nothing to do with how far the gummy bear gets launched?\n"
    },
    {
      "cell_type": "markdown",
      "metadata": {
        "cell_id": "1dd0e8889dc04739b7f83f18318fa09d",
        "deepnote_cell_height": 362.46875,
        "deepnote_cell_type": "markdown",
        "tags": []
      },
      "source": "<div class=\"alert alert-block alert-warning\">\n\n**Sample Response**\n\n*Students may have mixed intuitions about this at this point.*\n\nVariables that might be important:\n- Number of lift sticks\n- Measuring tool\n\nVariables that might not be important:\n- Color of the bear\n- Color of the catapult\n- Height of the bear\n\n</div>"
    },
    {
      "cell_type": "markdown",
      "metadata": {
        "cell_id": "706b33aa7c72479facfaa75a83dd892a",
        "deepnote_cell_height": 74.75,
        "deepnote_cell_type": "markdown"
      },
      "source": "Soon, we will learn the skills to explore our data with visualizations and number summaries. We will revisit our data at that time to see what more we can do with it!"
    }
  ],
  "metadata": {
    "deepnote_notebook_id": "6d7d998e93cb4da9904a3b1f5ef57fb6",
    "kernelspec": {
      "display_name": "R",
      "language": "R",
      "name": "ir"
    },
    "language_info": {
      "codemirror_mode": "r",
      "file_extension": ".r",
      "mimetype": "text/x-r-source",
      "name": "R",
      "pygments_lexer": "r",
      "version": "4.3.3"
    },
    "nbsimplegrader": {
      "publish_config": {
        "classes": [],
        "options": [],
        "tools": []
      }
    }
  },
  "nbformat": 4,
  "nbformat_minor": 1
}