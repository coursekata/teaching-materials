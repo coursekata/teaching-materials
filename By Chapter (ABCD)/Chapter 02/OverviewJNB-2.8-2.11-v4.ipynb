{
  "cells": [
    {
      "cell_type": "markdown",
      "metadata": {
        "cell_id": "346df43abeea4e94acdfab6d4bc59782",
        "deepnote_cell_type": "markdown"
      },
      "source": "# Working with Data Frames\n\n## Chapter 2.8-2.11 Overview Notebook"
    },
    {
      "cell_type": "code",
      "execution_count": null,
      "metadata": {
        "cell_id": "d5881400ff5a43a282ab0f343608b08e",
        "deepnote_cell_type": "code",
        "trusted": true
      },
      "outputs": [],
      "source": "# run this to set up the notebook\nlibrary(coursekata)\n\n# get the data\nbig_cheeses <- read.csv(\"https://docs.google.com/spreadsheets/d/e/2PACX-1vRbgFTZOhL3P_ntgl8NkQxUj3c3DsZFB7C3WQzP0d51rrEIbPIYNONulLPQmx9gDetaSRXsTDmdaMnc/pub?output=csv\")\ncheeses <- read.csv(\"https://docs.google.com/spreadsheets/d/e/2PACX-1vR3wOM6mURldmOZoCz2bDbv-x6cpZlB6W1kP3b-szsgENFrdob_V0PWL2LuZLucvWrFSM4jXHyI-aJw/pub?gid=914777733&single=true&output=csv\")\n\n# set styles\ncss <- suppressWarnings(readLines(\"https://raw.githubusercontent.com/jimstigler/jupyter/master/ck_jupyter_styles_v2.css\"))\nIRdisplay::display_html(sprintf('<style>%s</style>', paste(css, collapse = \"\\n\")))"
    },
    {
      "cell_type": "markdown",
      "metadata": {
        "cell_id": "76f8fc600a7d4ce7850525d06eb1f988",
        "deepnote_cell_type": "markdown"
      },
      "source": "<a id =9> </a> \n# Table of Contents\n\n1 [The `cheeses` Data Frame](#1)\n\n2 [Four Functions from the Tidyverse for Working with Data Frames: `mutate()`, `select()`, `filter()`, and `arrange()`](#2)\n\n3 [Using `mutate()` to Add a New Variable](#3)\n\n4 [Using `select()` to Focus on Just a Few Specific Variables](#4)\n\n5 [Use `filter()` to Show Only the Rows You Want](#5)\n\n6 [Use `arrange()` to Sort the Rows into a Different Order Based on a Variable](#6)\n\n7 [Putting It All Together](#7)\n\n8 [Practice What You Learned](#8)\n  "
    },
    {
      "cell_type": "markdown",
      "metadata": {
        "cell_id": "ffc7f8d515a6411e9577c0526f033d52",
        "deepnote_cell_type": "markdown"
      },
      "source": "<div style=\"text-align: right\">\n  <a href=\"#9\">Back to top</a>\n</div>\n\n<a id =1> </a>\n## 1 The `cheeses` Data Frame\n\nToday we are going to work with a dataset about cheeses from around the world. The data were originally scraped from [cheese.com](https://www.cheese.com), a website where people can explore different types of cheese. Cheese is made from all kinds of milk — usually from cows, but also goats, sheep, and other animals — and has been produced for over 4,000 years.\n\nThe original data have been cleaned up slightly for educational use. We will start by looking at `cheeses`, a very small subset of the larger dataset. Later we will explore a larger dataset, called `big_cheeses`."
    },
    {
      "cell_type": "markdown",
      "metadata": {
        "cell_id": "625367822fbd47aaa7004613810a9f3b",
        "deepnote_cell_type": "markdown"
      },
      "source": "### 1.1 What's in the `cheeses` dataset? \nWrite R code to find out how many cases and how many variables are in the dataset. What does each row represent? Each column?"
    },
    {
      "cell_type": "code",
      "execution_count": null,
      "metadata": {
        "cell_id": "8bae6b716b624a6cb18029ab6169ada4",
        "deepnote_cell_type": "code",
        "nbsimplegrader": {
          "config_key": "code.response",
          "editable": true,
          "label": "Response: Code",
          "respondable": true,
          "response": null,
          "runnable": true,
          "type": "code"
        },
        "trusted": true
      },
      "outputs": [],
      "source": "# write R code\ncheeses\n"
    },
    {
      "cell_type": "markdown",
      "metadata": {
        "cell_id": "67b23d372ab04eb58d511c41b9b3c5d1",
        "deepnote_cell_type": "markdown"
      },
      "source": "<div class=\"guided-notes\">\n    \n### 1.2 What types of variables are in this dataset?\n\nThe table shows the names of the variables and each variable has been categorized by R (its current type). In the third column, decide whether *you* think the variable should be treated as quantitative or categorical.\n    \n</div>"
    },
    {
      "cell_type": "markdown",
      "metadata": {
        "cell_id": "39b50384e9644b2a909f9b82e75ba3e2",
        "deepnote_cell_type": "markdown"
      },
      "source": "While filling in the table, it may be helpful to get additional information about the variables in this data set.\n\n- `cheese`\t\tName of the cheese.\n- `milk`\t\tThe type of milk used for the cheese, when known.\n- `family`\t\tThe family to which the cheese belongs, if any.\n- `fat_percent`\tThe fat content of the cheese (as a percent).\n- `calcium_mg`\tThe calcium content of the cheese, when known (in mg per 100 g of cheese).\n- `firmness_num` A number representing the firmness category of the cheese: 1=fresh, 2=soft, 3=semi-soft, 4=semi-hard, 5=firm, 6=hard."
    },
    {
      "cell_type": "markdown",
      "metadata": {
        "cell_id": "f36c262604684a51aad25410d406ab11",
        "deepnote_cell_type": "markdown"
      },
      "source": "### 1.3 Are there any variables that R sees as one type, but you think should be treated differently? \n\nIs there anything we should do about this?"
    },
    {
      "cell_type": "code",
      "execution_count": null,
      "metadata": {
        "cell_id": "d29cea315494410990e0e37891bb5e24",
        "deepnote_cell_type": "code",
        "trusted": true
      },
      "outputs": [],
      "source": "# Create a new categorical variable by converting a numeric variable into a factor\ncheeses$firmness_factor <- factor(cheeses$firmness_num)\n\n# to see that there is a new variable in the data frame\ncheeses"
    },
    {
      "cell_type": "markdown",
      "metadata": {
        "cell_id": "a84ed5df434a4b8fb5cea2bd07a1ffec",
        "deepnote_cell_type": "markdown"
      },
      "source": "<div style=\"text-align: right\">\n  <a href=\"#9\">Back to top</a>\n</div>\n\n<a id =2> </a> \n<h2 style=\"line-height: 1.4;\">\n  2 Four Functions from the <em>Tidyverse</em> for Working with Data Frames: \n  <code>mutate()</code>, <code>select()</code>, <code>filter()</code>, and <code>arrange()</code>\n</h2>\n\nSo far, we’ve been using **base R**, the built-in R commands that do not need special packages, to look at and manipulate data. Today, we'll learn four functions from the **tidyverse**, a group of popular R packages (created by the same people who introduced the idea of *tidy data*) designed to simplify manipulation of data frames. These packages are automatically loaded when we run `library(coursekata)` at the beginning of our notebooks. The four functions are briefly described in the table below. \n\n<table style=\"border-collapse: collapse; font-size: 15px; font-family: sans-serif;\">\n  <thead>\n    <tr>\n      <th style=\"text-align: left; padding: 8px; border-bottom: 1px solid #ccc;\">Function</th>\n      <th style=\"text-align: left; padding: 8px; border-bottom: 1px solid #ccc;\">What It Does</th>\n      <th style=\"text-align: left; padding: 8px; border-bottom: 1px solid #ccc;\">Visual Metaphor</th>\n    </tr>\n  </thead>\n  <tbody>\n    <tr>\n      <td style=\"text-align: left; padding: 8px;\"><code>mutate()</code></td>\n      <td style=\"text-align: left; padding: 8px;\">Adds a new column (variable) or updates an existing one.</td>\n      <td style=\"text-align: left; padding: 8px;\">\n        <img src=\"https://coursekata-course-assets.s3.us-west-1.amazonaws.com/UCLATALL/czi-stats-course/37Vf3WJb.png\" width=\"200\" alt=\"mutate\">\n      </td>\n    </tr>\n    <tr>\n      <td style=\"text-align: left; padding: 8px;\"><code>select()</code></td>\n      <td style=\"text-align: left; padding: 8px;\">Shows only the columns (variables) you want to focus on.</td>\n      <td style=\"text-align: left; padding: 8px;\">\n        <img src=\"https://coursekata-course-assets.s3.us-west-1.amazonaws.com/UCLATALL/czi-stats-course/2rss91fD.png\" width=\"200\" alt=\"select\">\n      </td>\n    </tr>\n    <tr>\n      <td style=\"text-align: left; padding: 8px;\"><code>filter()</code></td>\n      <td style=\"text-align: left; padding: 8px;\">Shows only the rows (cases) that meet certain conditions.</td>\n      <td style=\"text-align: left; padding: 8px;\">\n        <img src=\"https://coursekata-course-assets.s3.us-west-1.amazonaws.com/UCLATALL/czi-stats-course/DFFmHzn1.png\" width=\"200\" alt=\"filter\">\n      </td>\n    </tr>\n    <tr>\n      <td style=\"text-align: left; padding: 8px;\"><code>arrange()</code></td>\n      <td style=\"text-align: left; padding: 8px;\">Reorders the rows based on the values in one or more columns.</td>\n      <td style=\"text-align: left; padding: 8px;\">\n        <img src=\"https://coursekata-course-assets.s3.us-west-1.amazonaws.com/UCLATALL/czi-stats-course/MqmL5dty.png\" width=\"200\" alt=\"arrange\">\n      </td>\n    </tr>\n  </tbody>\n</table>"
    },
    {
      "cell_type": "markdown",
      "metadata": {
        "cell_id": "633955df20cd468ebe796d5333055f22",
        "deepnote_cell_type": "markdown"
      },
      "source": "<div class=\"guided-notes\">\n    \n### 2.1 Write a brief explanation of these four functions in your own words. \n\n</div>"
    },
    {
      "cell_type": "markdown",
      "metadata": {
        "cell_id": "b3aa2c985d2645da9d07dac2ce3bde23",
        "deepnote_cell_type": "markdown"
      },
      "source": "<div style=\"text-align: right\">\n  <a href=\"#9\">Back to top</a>\n</div>\n\n<a id =3> </a> \n## 3 Using `mutate()` to Add a New Variable\n\nWe've already learned one way to add a new variable to a data frame using the assignment operator `<-`. For example, the code below creates a new variable in the cheeses data frame called `firmness_factor`:\n\n```\ncheeses$firmness_factor <- factor(cheeses$firmness_num)\n```\n\nThis works! But `mutate()` gives us another method — one that’s easier to read and works well when we want to combine multiple actions.\n\n**Creating `firmness_factor` using the `mutate()` function:** Here's how we'd create `firmness_factor` using `mutate()` in the tidyverse: we begin with the data frame (in this case, `cheeses`), and then pipe (`%>%`) on a function like `mutate()`:\n\n```\ncheeses %>%\n  mutate()\n```\n\nInside the `mutate()` function, we describe the new variable we want to make, resulting in this:\n\n```\ncheeses %>%\n  mutate(firmness_factor = factor(firmness_num))\n```\n\nNotice that because we are telling R at the outset to start with the `cheeses` data frame, it's no longer necessary to put the `cheeses$` in front of the variable name. Also note that in the `mutate()` function, we use an `=` sign instead of the assignment operator `<-`. \n\n**Saving the new variable:** When you run this code, R creates a new version of the `cheeses` data frame that includes the new variable. But this new version of `cheeses` is only temporary; if you load up a fresh copy of `cheeses` the new variable won't be there. If you want to save the new variable you've created back into the `cheeses` data frame, you need to assign the results of the `mutate()` function back to `cheeses`, lke this:\n\n```\ncheeses <- cheeses %>%\n  mutate(firmness_factor = factor(firmness_num))\n```\n\nTry building this code up (from `cheeses %>% mutate()`) in the code block below. Make sure you like what you create before saving it back into `cheeses`!"
    },
    {
      "cell_type": "code",
      "execution_count": null,
      "metadata": {
        "cell_id": "cdba5ad3aee44cccb08ac138c811e1f1",
        "deepnote_cell_type": "code",
        "nbsimplegrader": {
          "config_key": "code.response",
          "editable": true,
          "label": "Response: Code",
          "respondable": true,
          "response": null,
          "runnable": true,
          "type": "code"
        },
        "trusted": true
      },
      "outputs": [],
      "source": "# write code\n\n"
    },
    {
      "cell_type": "markdown",
      "metadata": {
        "cell_id": "c524d61fcbdb48d998e271457ca3e4ae",
        "deepnote_cell_type": "markdown"
      },
      "source": "<div class=\"guided-notes\">\n    \n### 3.1 Write the missing part of code into the table\n    \n</div>"
    },
    {
      "cell_type": "markdown",
      "metadata": {
        "cell_id": "e09d76c2819647638b8a4f031b800fba",
        "deepnote_cell_type": "markdown"
      },
      "source": "<div class=\"guided-notes\">\n    \n### 3.2 Create a new variable called `fat_prop` using `mutate()`\n\nThe variable `fat_percent` tells us the percent of fat in each cheese (from 0 to 100). Let's create a new variable called `fat_prop` that shows fat as a **proportion** instead (from 0 to 1.0).\n    \n</div>"
    },
    {
      "cell_type": "code",
      "execution_count": null,
      "metadata": {
        "cell_id": "2abbcbd3ea2444c38a0115cf788d0e0d",
        "deepnote_cell_type": "code",
        "nbsimplegrader": {
          "config_key": "code.response",
          "editable": true,
          "label": "Response: Code",
          "respondable": true,
          "response": null,
          "runnable": true,
          "type": "code"
        },
        "trusted": true
      },
      "outputs": [],
      "source": "# write code\n"
    },
    {
      "cell_type": "markdown",
      "metadata": {
        "cell_id": "4ae573848e3743aeaab1e1c854cd1c9e",
        "deepnote_cell_type": "markdown"
      },
      "source": "### 3.3 Using `mutate()` to create two variables at once\nYou can include multiple formulas, separated by commas, inside a single `mutate()` function."
    },
    {
      "cell_type": "code",
      "execution_count": null,
      "metadata": {
        "cell_id": "f18581c56618411c824f48922db5d30b",
        "deepnote_cell_type": "code",
        "nbsimplegrader": {
          "config_key": "code.response",
          "editable": true,
          "label": "Response: Code",
          "respondable": true,
          "response": null,
          "runnable": true,
          "type": "code"
        },
        "trusted": true
      },
      "outputs": [],
      "source": "# code here\n"
    },
    {
      "cell_type": "markdown",
      "metadata": {
        "cell_id": "80c1962332294f6eab6f6919020dc0be",
        "deepnote_cell_type": "markdown"
      },
      "source": "<div class=\"guided-notes\">\n    \n### 3.4 Fill in the table to show what `cheeses` will look like after running the cell above\n\nThen run the code below to print out the data frame and check your prediction.\n    \n</div>"
    },
    {
      "cell_type": "code",
      "execution_count": null,
      "metadata": {
        "cell_id": "9c6fe45c34f34030946d618daf8fa85f",
        "deepnote_cell_type": "code",
        "nbsimplegrader": {
          "config_key": "code.response",
          "editable": true,
          "label": "Response: Code",
          "respondable": true,
          "response": null,
          "runnable": true,
          "type": "code"
        },
        "trusted": true
      },
      "outputs": [],
      "source": "# print out the revised data frame after running the code above\n"
    },
    {
      "cell_type": "markdown",
      "metadata": {
        "cell_id": "464fe223efbf4ecf9d37bac4b8e37106",
        "deepnote_cell_type": "markdown"
      },
      "source": "<div style=\"text-align: right\">\n  <a href=\"#9\">Back to top</a>\n</div>\n\n<a id =4> </a> \n## 4 Using `select()` to Focus on Just a Few Specific Variables\n\nSometimes, we only want to focus on a few variables in a dataset — for example, just the cheese name, the kind of milk used, and the amount of calcium. We can use the `select()` function to do this.\n\n`select(<data frame>, <var name 1>, <var name 2> ...)`\n\n```\ncheeses %>%\n  select(cheese, milk, calcium_mg)\n```"
    },
    {
      "cell_type": "markdown",
      "metadata": {
        "cell_id": "14282e3e2e65424fb4451726fc782321",
        "deepnote_cell_type": "markdown"
      },
      "source": "<div class=\"guided-notes\">\n\n### 4.1 Paper Prediction Activity: Take a copy of the `cheeses` data frame and use scissors to show what you think the result of the code will look like.\nThen run the code below to print out the data frame and check your prediction.\n\n</div>\n"
    },
    {
      "cell_type": "markdown",
      "metadata": {
        "cell_id": "a02f577a62de4c3a893df890d1126950",
        "deepnote_cell_type": "markdown"
      },
      "source": "<div class=\"discussion-question\">\n\n### 4.2 Key Discussion Question: If we print out `cheeses` again after running the `select()` code above, will it include just the selected columns?  Why or why not?\n    \n</div>"
    },
    {
      "cell_type": "markdown",
      "metadata": {
        "cell_id": "1636a6e452a94dd08b6874c670ad52ae",
        "deepnote_cell_type": "markdown"
      },
      "source": "<div class=\"guided-notes\">\n\n### 4.3 We have written the original `select()` code as well as some code that would save the modified data frame as a new R data frame called `cheeses_select`.  Write what each line of code is doing in your own words.\n\n</div>\n"
    },
    {
      "cell_type": "markdown",
      "metadata": {
        "cell_id": "7f561b08840747f7b22905471549c95a",
        "deepnote_cell_type": "markdown"
      },
      "source": "### 4.4 Make a prediction: What do you think might happen if we put a negative sign in front of a variable? \n\nThen run the code below.\n"
    },
    {
      "cell_type": "code",
      "execution_count": null,
      "metadata": {
        "cell_id": "cf234d384f5746b8ad5be86431d246ac",
        "deepnote_cell_type": "code",
        "trusted": true
      },
      "outputs": [],
      "source": "# run this\ncheeses %>%\n  select(-milk, -fat_percent)"
    },
    {
      "cell_type": "markdown",
      "metadata": {
        "cell_id": "bc325f0505b94daaa3938103be5bc2dd",
        "deepnote_cell_type": "markdown"
      },
      "source": "<div class=\"guided-notes\">\n\n### 4.5 Write down what the code does in your own words.\n\n</div>\n"
    },
    {
      "cell_type": "markdown",
      "metadata": {
        "cell_id": "92ca73a5b8234aeb8c100ee16bb5517a",
        "deepnote_cell_type": "markdown"
      },
      "source": "<div style=\"text-align: right\">\n  <a href=\"#9\">Back to top</a>\n</div>\n\n<a id =5> </a> \n## 5 Use `filter()` to Show Only the Rows You Want\n\nSo far, we’ve been working with *columns* — adding new ones (`mutate`) or selecting just the ones you want (`select`). The `filter()` function works with *rows*, letting us show only the rows (cases) that meet certain conditions.\n\nFor example, suppose we want to focus only on cheeses that have information about their calcium content. If you look at the data frame, you’ll notice some rows are missing that information — it just says `NA`, which is how R indicates that data is missing.\n\nWe can use `filter()` to remove the rows that have no calcium information. For this, we'll use the `is.na()` function.\n"
    },
    {
      "cell_type": "markdown",
      "metadata": {
        "cell_id": "156a64e1f41b4a03a17ba85f51125522",
        "deepnote_cell_type": "markdown"
      },
      "source": "### 5.1 What code do you think will show only rows where information on calcium content is not missing? (HINT: Use `filter()` and `is.na()` in your code.)"
    },
    {
      "cell_type": "code",
      "execution_count": null,
      "metadata": {
        "cell_id": "38bef9b7897c4fdc9aa24a01f829a799",
        "deepnote_cell_type": "code",
        "trusted": true
      },
      "outputs": [],
      "source": "# run this code\ncheeses %>%\n  filter(is.na(calcium_mg))"
    },
    {
      "cell_type": "markdown",
      "metadata": {
        "cell_id": "bcf278b993834117ac2ada0a3eb3301f",
        "deepnote_cell_type": "markdown"
      },
      "source": "<div class=\"guided-notes\">\n\n### 5.2 Did this code get rid of the rows that were missing data for `calcium_mg`? Write down what the code did in your own words.\n\n</div>\n"
    },
    {
      "cell_type": "markdown",
      "metadata": {
        "cell_id": "c9d736a8a4a84d6cb66f5dc8c6ef06fe",
        "deepnote_cell_type": "markdown"
      },
      "source": "### 5.3 Explanation of the \"not\" sign in R: `!`\n\nTo get the rows that are **not** `NA`, we use the `!` sign — this is R's way of saying \"not.\"\n\n- `is.na(calcium_mg)` returns `TRUE` for rows where the value is `NA`\n- `!is.na(calcium_mg)` returns `TRUE` for rows where the value is **not** `NA`\n\nLet's dig in to how this works. `is.na()` is a type of function called a *predicate function*. A predicate function is a function that returns a logical (Boolean) value: either TRUE or FALSE. Run the code below to see how this works.\n"
    },
    {
      "cell_type": "code",
      "execution_count": null,
      "metadata": {
        "cell_id": "f452407cd05548cda4dd53be35abe42e",
        "deepnote_cell_type": "code",
        "trusted": true
      },
      "outputs": [],
      "source": "# run this\nis.na(cheeses$calcium_mg)"
    },
    {
      "cell_type": "markdown",
      "metadata": {
        "cell_id": "b6815ce8bbd540f38be05459026e8345",
        "deepnote_cell_type": "markdown"
      },
      "source": "### 5.4 What does the `TRUE` mean here?\nPrint out the `cheeses` data frame and see how these TRUEs and FALSEs fit the data."
    },
    {
      "cell_type": "code",
      "execution_count": null,
      "metadata": {
        "cell_id": "ed3bd5d291b8452695763df1ef4eb9b0",
        "deepnote_cell_type": "code",
        "trusted": true
      },
      "outputs": [],
      "source": "# run this\ncheeses"
    },
    {
      "cell_type": "code",
      "execution_count": null,
      "metadata": {
        "cell_id": "8c0dda095bf84705a1a1360ad851207d",
        "deepnote_cell_type": "code",
        "trusted": true
      },
      "outputs": [],
      "source": "# run these two lines of code\nis.na(cheeses$calcium_mg)\n!is.na(cheeses$calcium_mg)"
    },
    {
      "cell_type": "markdown",
      "metadata": {
        "cell_id": "f4ea2cc4ac2e4e61b1778f834606cff0",
        "deepnote_cell_type": "markdown"
      },
      "source": "### 5.5 Now let's write the code to only show cases that are *not missing* on `calcium_mg`"
    },
    {
      "cell_type": "code",
      "execution_count": null,
      "metadata": {
        "cell_id": "8cd9426507674848b41fdc6c5aea8f80",
        "deepnote_cell_type": "code",
        "trusted": true
      },
      "outputs": [],
      "source": "# run this\ncheeses %>%\n  filter(!is.na(calcium_mg))"
    },
    {
      "cell_type": "markdown",
      "metadata": {
        "cell_id": "8a315073f4554882ba319e8dab95d8de",
        "deepnote_cell_type": "markdown"
      },
      "source": "<div class=\"guided-notes\">\n\n### 5.6 Did this code get rid of the rows that were missing data for `calcium_mg`? Write down what the code does in your own words.\n</div>\n"
    },
    {
      "cell_type": "markdown",
      "metadata": {
        "cell_id": "2973582a6a1d423c9ee34f020315bddb",
        "deepnote_cell_type": "markdown"
      },
      "source": "<div class=\"discussion-question\">\n    \n### 5.7 Make a prediction: If we print out the `cheeses` data frame at this point, will it include cheeses missing for `calcium_mg`? Why or why not?\n</div>"
    },
    {
      "cell_type": "code",
      "execution_count": null,
      "metadata": {
        "cell_id": "e1fb4269dd8840d79c1a3ce3238b4660",
        "deepnote_cell_type": "code",
        "trusted": true
      },
      "outputs": [],
      "source": "# run this to check your prediction\ncheeses"
    },
    {
      "cell_type": "markdown",
      "metadata": {
        "cell_id": "d0c71f1d754d4ee584279de3b13c4898",
        "deepnote_cell_type": "markdown"
      },
      "source": "<div class=\"guided-notes\">\n\n### 5.8 If we want to save the result of filtering, we need to assign it to a data frame. In this case, let's save the rows with data for `calcium_mg` into a data frame called `cheeses_with_calcium`. Write that code.\n\n</div>"
    },
    {
      "cell_type": "code",
      "execution_count": null,
      "metadata": {
        "cell_id": "cfeffc966ee342499bc817e43b6dcf01",
        "deepnote_cell_type": "code",
        "nbsimplegrader": {
          "config_key": "code.response",
          "editable": true,
          "label": "Response: Code",
          "respondable": true,
          "response": null,
          "runnable": true,
          "type": "code"
        },
        "trusted": true
      },
      "outputs": [],
      "source": "# write code"
    },
    {
      "cell_type": "markdown",
      "metadata": {
        "cell_id": "7118332d51cf46c586e22e3a9ed3f4fa",
        "deepnote_cell_type": "markdown"
      },
      "source": "### 5.9 We can `filter()` using comparison operators (such as <, >, <=, ==) to show only the rows that meet a specific condition. \nIf we wanted to look at cheeses with less than 25% fat, which comparison operator would we use?  If we wanted to look at cheeses from \"cow\" milk, which comparison operator would we use? \n\nHere are some common ones used in R:\n- `<` means “less than”\n- `<=` means “less than or equal to”\n- `>` means “greater than”\n- `>=` means “greater than or equal to”\n- `==` means “equal to”\n- `!=` means “not equal to”\n"
    },
    {
      "cell_type": "markdown",
      "metadata": {
        "cell_id": "bc9e0d4e992a4c6bb1e0754bd2e56717",
        "deepnote_cell_type": "markdown"
      },
      "source": "<div class=\"guided-notes\">\n\n### 5.10 Paper Prediction Activity: Take a fresh copy of the `cheeses` data frame and use scissors to show what a data frame of cheeses with less than 25% fat would look like.    \n\n</div>\n"
    },
    {
      "cell_type": "markdown",
      "metadata": {
        "cell_id": "912aa574bd3542ffb18b4027e9152dc0",
        "deepnote_cell_type": "markdown"
      },
      "source": "<div class=\"guided-notes\">\n\n### 5.11 Write the R code to show only the rows where `fat_percent` is less than 25. Then, write another version of that code that saves those rows into a new data frame called `cheeses_lowfat`.\n\n</div>"
    },
    {
      "cell_type": "code",
      "execution_count": null,
      "metadata": {
        "cell_id": "f0198672494e4e15822687cc51e17eca",
        "deepnote_cell_type": "code",
        "trusted": true
      },
      "outputs": [],
      "source": "# test the code here\n"
    },
    {
      "cell_type": "markdown",
      "metadata": {
        "cell_id": "c5a111ba075049f286a4e602e2b05c3c",
        "deepnote_cell_type": "markdown"
      },
      "source": "<div style=\"text-align: right\">\n  <a href=\"#9\">Back to top</a>\n</div>\n\n<a id =6> </a> \n## 6 Use `arrange()` to Sort the Rows into a Different Order Based on a Variable\n\nWe have looked at functions that focus on a few rows (`filter`) or a few columns (`select`). \n\nBut what if you just wanted to reorder the rows so that you could see the cheeses with the lowest or highest calcium in mg per 100 grams of cheese? For this we use the `arrange()` function.\n"
    },
    {
      "cell_type": "markdown",
      "metadata": {
        "cell_id": "d011a203397f42ef9b30f36f55117e61",
        "deepnote_cell_type": "markdown"
      },
      "source": "<div class=\"guided-notes\">\n\n### 6.1 Paper Prediction Activity: Take a copy of the `cheeses_with_calcium` data frame and use scissors to show what it would look like arranged by `calcium_mg`.    \n\nThen run the code below.\n</div>\n"
    },
    {
      "cell_type": "code",
      "execution_count": null,
      "metadata": {
        "cell_id": "de46da87f6334bc589a6913209c3033e",
        "deepnote_cell_type": "code",
        "trusted": true
      },
      "outputs": [],
      "source": "# try this; then try putting a negative sign (-) in front of calcium_mg\ncheeses_with_calcium %>%\n  arrange(calcium_mg) \n"
    },
    {
      "cell_type": "markdown",
      "metadata": {
        "cell_id": "65a88e51d798453c88669b59e063c306",
        "deepnote_cell_type": "markdown"
      },
      "source": "<div class=\"guided-notes\">\n\n### 6.2 Write down what these lines of code do in your own words.\n\n</div>\n"
    },
    {
      "cell_type": "markdown",
      "metadata": {
        "cell_id": "13dd7f90bf1946f9bbc344d3b95ec5e9",
        "deepnote_cell_type": "markdown"
      },
      "source": "<div class=\"guided-notes\">\n\n### 6.3 How would we save the arranged data frame in an R object called `cheeses_arranged`? \n</div>"
    },
    {
      "cell_type": "code",
      "execution_count": null,
      "metadata": {
        "cell_id": "9bc07bd6a3a84798b2049e35eaeb2352",
        "deepnote_cell_type": "code",
        "nbsimplegrader": {
          "config_key": "code.response",
          "editable": true,
          "label": "Response: Code",
          "respondable": true,
          "response": null,
          "runnable": true,
          "type": "code"
        },
        "trusted": true
      },
      "outputs": [],
      "source": "# modify this\ncheeses_with_calcium %>%\n  arrange(calcium_mg)\n\n"
    },
    {
      "cell_type": "markdown",
      "metadata": {
        "cell_id": "951f52e06bdb48c8b63823742ead8e38",
        "deepnote_cell_type": "markdown"
      },
      "source": "<div style=\"text-align: right\">\n  <a href=\"#9\">Back to top</a>\n</div>\n\n<a id =7> </a> \n## 7 Putting It All Together\n\nThe real power of the tidyverse comes when we **chain together** multiple functions using the pipe (`%>%`). "
    },
    {
      "cell_type": "markdown",
      "metadata": {
        "cell_id": "8b06a68054cc408385d8d7861348400c",
        "deepnote_cell_type": "markdown"
      },
      "source": "<div class=\"guided-notes\">\n\n### 7.1 Paper Prediction Activity: Imagine running the code below. Take a fresh copy of the `cheeses` data frame and use scissors to show what you predict the result of running the R code will be.\n\n</div>\n"
    },
    {
      "cell_type": "code",
      "execution_count": null,
      "metadata": {
        "cell_id": "1b9079c6ad13459887d77ff57051ca91",
        "deepnote_cell_type": "code",
        "trusted": true
      },
      "outputs": [],
      "source": "# run this\ncheeses %>%\n  select(cheese, milk, fat_percent) %>%\n  filter(milk == \"cow\")\n"
    },
    {
      "cell_type": "markdown",
      "metadata": {
        "cell_id": "5dabfab0ff824e54bc22785f2e49da93",
        "deepnote_cell_type": "markdown"
      },
      "source": "<div class=\"guided-notes\">\n\n### 7.2 Write down what this code does in your own words.\n\n</div>\n"
    },
    {
      "cell_type": "markdown",
      "metadata": {
        "cell_id": "7e1a9ed3cdf544faae67feea09a2b672",
        "deepnote_cell_type": "markdown"
      },
      "source": "<div class=\"guided-notes\">\n    \n### 7.3 Write R code to do this sequence of actions:\n\n- create a new variable called `calcium_g` (Hint: 1000 mg = 1 gram),\n- select these three variables: `cheese`, `calcium_mg`, and `calcium_g`,\n- show only cheeses with less than 0.5 grams of calcium,\n- save all this in a data frame called `cheeses_new`.\n    \n</div>"
    },
    {
      "cell_type": "code",
      "execution_count": null,
      "metadata": {
        "cell_id": "81bef240a65c4a31b92b1edf3784cb9f",
        "deepnote_cell_type": "code",
        "nbsimplegrader": {
          "config_key": "code.response",
          "editable": true,
          "label": "Response: Code",
          "respondable": true,
          "response": null,
          "runnable": true,
          "type": "code"
        },
        "trusted": true
      },
      "outputs": [],
      "source": "# write code\n\n"
    },
    {
      "cell_type": "markdown",
      "metadata": {
        "cell_id": "c49434db1c3743f59d29310937f942d3",
        "deepnote_cell_type": "markdown"
      },
      "source": "<div style=\"text-align: right\">\n  <a href=\"#9\">Back to top</a>\n</div>\n\n<a id =8> </a> \n## 8 Practice What You Learned\n\nThe data frame `big_cheeses` contains many more cheeses, several variables you’ve worked with before, plus a few new ones. Here's a full list of the variables.\n\n- `cheese`\t\tName of the cheese.\n- `milk`\t\tThe type of milk used for the cheese, when known.\n- `country`\t\tThe country or countries of origin of the cheese.\n- `family`\t\tThe family to which the cheese belongs, if any.\n- `fat_percent`\tThe fat content of the cheese (as a percent).\n- `calcium_mg`\tThe calcium content of the cheese, when known (in mg per 100 g of cheese).\n- `firmness`    Describes how soft or hard a cheese is (from softest to hardest): fresh, soft, semi-soft, semi-hard, firm, hard.\n- `firmness_num` A number representing the firmness category of the cheese: 1=fresh, 2=soft, 3=semi-soft, 4=semi-hard, 5=firm, 6=hard.\n- `rind`\t\tThe type of rind used in producing the cheese.\n- `color`\t\tThe color of the cheese.\n- `flavor`\t\tCharacteristic(s) of the taste of the cheese.\n- `url`\t\t    Location of the cheese's description at <a href=\"cheese.com\">cheese.com</a>\n"
    },
    {
      "cell_type": "markdown",
      "metadata": {
        "cell_id": "dc3b5d36975b4f009ea9bb4aeb0e498d",
        "deepnote_cell_type": "markdown"
      },
      "source": "### 8.1 How many cases and variables are in `big_cheeses`? Write R code to help you figure this out."
    },
    {
      "cell_type": "markdown",
      "metadata": {
        "cell_id": "e21f5edad65e4a5b9006d49bea8b7dcf",
        "deepnote_cell_type": "markdown"
      },
      "source": "### 8.2 Create a new data frame with only the cheese, milk, fat_percent, and firmness columns. Call it cheese_basics.\n\nHow many cases and variables are in `cheese_basics`?"
    },
    {
      "cell_type": "markdown",
      "metadata": {
        "cell_id": "4596d09c54c2493a86c6df1655775355",
        "deepnote_cell_type": "markdown"
      },
      "source": "### 8.3 Create a new dataframe called `noncow_cheeses` that only contains cheeses that are not made from cow's milk.\n\nHow many cases and variables are in `noncow_cheeses`?"
    },
    {
      "cell_type": "markdown",
      "metadata": {
        "cell_id": "b13f2a16e01044e2adf584fabbb0a529",
        "deepnote_cell_type": "markdown"
      },
      "source": "### 8.4 What is the cheese with the highest fat percentage? Lowest?"
    },
    {
      "cell_type": "markdown",
      "metadata": {
        "cell_id": "66addaea921247caa31dc8528dc41b0f",
        "deepnote_cell_type": "markdown"
      },
      "source": "### 8.5 Create a new dataframe called `cheeses_with_family` that filters only for cheeses that are part of a family.\n\nHow many cases and variables are in `cheeses_with_family`?"
    },
    {
      "cell_type": "markdown",
      "metadata": {
        "cell_id": "edc8e5abd536425f89ca49a43136209c",
        "deepnote_cell_type": "markdown"
      },
      "source": "### 8.6 Create a new dataframe called `sheep_cheeses_arranged` by doing the following:\n\n- Filters for cheeses made only from sheep’s milk,\n- Selects these variables: `cheese`, `milk`, `firmness_num`, and `flavor`,\n- Creates a variable called `firmness_factor` which treats the firmness number as a factor in R,\n- Arranges by alphabetically by cheese name,\n- Saves as `sheep_cheeses_arranged`.\n\nHow many cases and variables are in `sheep_cheeses_arranged`?"
    },
    {
      "cell_type": "markdown",
      "metadata": {
        "cell_id": "d946ea30ed464c55a5c4f08e41ce22c2",
        "deepnote_cell_type": "markdown"
      },
      "source": "<div style=\"text-align: center\">\n  <a href=\"#9\">Back to top</a>\n</div>"
    }
  ],
  "metadata": {
    "deepnote_notebook_id": "70524b6929754a6ea568245f5e5bf232",
    "kernelspec": {
      "display_name": "R",
      "language": "R",
      "name": "ir"
    },
    "language_info": {
      "codemirror_mode": "r",
      "file_extension": ".r",
      "mimetype": "text/x-r-source",
      "name": "R",
      "pygments_lexer": "r",
      "version": "4.3.3"
    },
    "nbsimplegrader": {
      "publish_config": {
        "classes": [],
        "options": [],
        "tools": []
      }
    }
  },
  "nbformat": 4,
  "nbformat_minor": 1
}