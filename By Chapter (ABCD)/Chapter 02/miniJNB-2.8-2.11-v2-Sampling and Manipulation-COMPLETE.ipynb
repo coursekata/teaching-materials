{
  "cells": [
    {
      "cell_type": "markdown",
      "metadata": {
        "cell_id": "4edf21414c884c5ea70c6d059d050da5",
        "deepnote_cell_type": "markdown",
        "nbsimplegrader": {
          "config_key": "markdown.view-only",
          "editable": false,
          "label": "Markdown: View-Only",
          "respondable": false,
          "response": null,
          "runnable": false,
          "type": "markdown"
        }
      },
      "source": "# Sampling and Data Manipulation (COMPLETE)\n\n## Chapter 2.8-2.11 Section Materials: How to Work with Data Frames\n\n"
    },
    {
      "cell_type": "code",
      "execution_count": null,
      "metadata": {
        "cell_id": "e0fa48b4158f47c39f6fb3151171c43a",
        "deepnote_cell_type": "code",
        "nbsimplegrader": {
          "config_key": "code.run-only",
          "editable": false,
          "label": "Code: Run-Only",
          "respondable": false,
          "response": null,
          "runnable": true,
          "type": "code"
        },
        "trusted": true
      },
      "outputs": [],
      "source": "# run this cell to set up the notebook\nsuppressMessages(library(coursekata))\ncss <- suppressWarnings(readLines(\"https://raw.githubusercontent.com/jimstigler/jupyter/master/ck_jupyter_styles.css\"))\nIRdisplay::display_html(sprintf('<style>%s</style>', paste(css, collapse = \"\\n\")))\n\n\n# This code will import the data frame []\nStudentData <- read.csv(\"https://docs.google.com/spreadsheets/d/e/2PACX-1vTnfW0lx6Wo1qMAsVYMht2zyd3q75uRR1wldcN7JP8EdL8uEgqWd0oHOrNoA1O6IzRU_5B7QsUiL7JA/pub?gid=291642978&single=true&output=csv\")\n\n# This makes font sizes on graphs bigger\ntheme_set(theme(\n  text = element_text(size = 15),\n  axis.text = element_text(size = 10)\n))"
    },
    {
      "cell_type": "markdown",
      "metadata": {
        "cell_id": "6f4cddf06d41474dbec7722f80633ffc",
        "deepnote_cell_type": "markdown"
      },
      "source": "<div class=\"teacher-note\">\n<b>Teacher Note:</b> The goal of this notebook is to practice sampling from and manipulating a data frame.\n    \nOptional: You can have your students complete their own survey and swap this student data with your own students' data.\n</div>"
    },
    {
      "cell_type": "markdown",
      "metadata": {
        "cell_id": "93d0fa8ff92c433598d1ebdbf119333b",
        "deepnote_cell_type": "markdown",
        "nbsimplegrader": {
          "config_key": "markdown.view-only",
          "editable": false,
          "label": "Markdown: View-Only",
          "respondable": false,
          "response": null,
          "runnable": false,
          "type": "markdown"
        }
      },
      "source": "In this JNB, we'll practice sampling and manipulating data using this [StudentData](https://docs.google.com/spreadsheets/d/17I0WDazOh6mOoS5SdXlkkkEMf3_HYA0Mh5zVjnCj2kQ/edit?resourcekey#gid=291642978) collected by students in a high school statistics course.\n\n## Practice #1:\n\nSuppose our population is all the students in this class who took the survey.  We're going to take a sample from that population and calculate the mean height of students.  If we did this twice, do you think we'll get the same mean?  Make a prediction, then run the code twice to verify."
    },
    {
      "cell_type": "code",
      "execution_count": null,
      "metadata": {
        "cell_id": "5d5c7ae98d8f41aebbd5c8c2c2847cd2",
        "deepnote_cell_type": "code",
        "nbsimplegrader": {
          "config_key": "code.response",
          "editable": true,
          "label": "Response: Code",
          "respondable": true,
          "response": null,
          "runnable": true,
          "type": "code"
        },
        "trusted": true
      },
      "outputs": [],
      "source": "# the function sample() will take a sample of 5 students from StudentData and save it in class.sample\nclass_sample <- sample(StudentData, 5)\n\n# the function mean will calculate the height of students in our sample\nmean(class_sample$height)\n"
    },
    {
      "cell_type": "markdown",
      "metadata": {
        "cell_id": "fc993d317f064a2690acd6344974b166",
        "deepnote_cell_type": "markdown",
        "nbsimplegrader": {
          "config_key": "markdown.response",
          "editable": true,
          "label": "Response: Markdown",
          "respondable": true,
          "response": null,
          "runnable": true,
          "type": "markdown"
        }
      },
      "source": "> Answer the questions here."
    },
    {
      "cell_type": "markdown",
      "metadata": {
        "cell_id": "6026e32cf255417b91c4621703d6d71e",
        "deepnote_cell_type": "markdown"
      },
      "source": "<div class=\"teacher-note\">\n<b>Sample Responses:</b> \n    \n- I think the two means will be different, but they might be close.\n- I think the two means will be the same as the mean of all the values.\n\n</div>"
    },
    {
      "cell_type": "markdown",
      "metadata": {
        "cell_id": "d8a10bd5b9c7460380cce2e52ce92834",
        "deepnote_cell_type": "markdown",
        "nbsimplegrader": {
          "config_key": "markdown.view-only",
          "editable": false,
          "label": "Markdown: View-Only",
          "respondable": false,
          "response": null,
          "runnable": false,
          "type": "markdown"
        }
      },
      "source": "## Practice #2:\n\nWe can select some variables in our data frame to focus on using the function `select()`.  Let's select a couple of variables of your choice.  What are the rows representing?  What are the columns representing?  "
    },
    {
      "cell_type": "code",
      "execution_count": null,
      "metadata": {
        "cell_id": "9fe1e57b59e34ea4819b17fb1c963844",
        "deepnote_cell_type": "code",
        "nbsimplegrader": {
          "config_key": "code.response",
          "editable": true,
          "label": "Response: Code",
          "respondable": true,
          "response": null,
          "runnable": true,
          "type": "code"
        },
        "scrolled": false,
        "trusted": true
      },
      "outputs": [],
      "source": "# modify the code to pick two variables in StudentData you want to view\nselect(StudentData, first_variable_here, second_variable_here)"
    },
    {
      "cell_type": "code",
      "execution_count": null,
      "metadata": {
        "cell_id": "3ad6f46d4fe74d93952a8c8ce9c2d981",
        "deepnote_cell_type": "code",
        "scrolled": false,
        "trusted": true
      },
      "outputs": [],
      "source": "# modify the code to pick two variables in StudentData you want to view\n\n# Sample Response\nselect(StudentData, num_pets, fav_color)"
    },
    {
      "cell_type": "markdown",
      "metadata": {
        "cell_id": "c106d1a176bd4993965c6d6fe408c17a",
        "deepnote_cell_type": "markdown",
        "nbsimplegrader": {
          "config_key": "markdown.response",
          "editable": true,
          "label": "Response: Markdown",
          "respondable": true,
          "response": null,
          "runnable": true,
          "type": "markdown"
        }
      },
      "source": "> Write your answers here."
    },
    {
      "cell_type": "markdown",
      "metadata": {
        "cell_id": "2c1ee2aa2acc4bf19f8279d22a48e90c",
        "deepnote_cell_type": "markdown"
      },
      "source": "<div class=\"teacher-note\">\n<b>Sample Responses:</b> \n    \n- The rows represent each student that took the survey.\n- The rows are the cases or observations.\n- The columns represent the responses from each student for each thing measured (e.g., number of pets, favorite color).\n- The columns represent the variables.\n\n</div>"
    },
    {
      "cell_type": "code",
      "execution_count": null,
      "metadata": {
        "cell_id": "336e3d01d7534dfcb1742c84605783d7",
        "deepnote_cell_type": "code",
        "nbsimplegrader": {
          "config_key": "code.response",
          "editable": true,
          "label": "Response: Code",
          "respondable": true,
          "response": null,
          "runnable": true,
          "type": "code"
        },
        "trusted": true
      },
      "outputs": [],
      "source": "# you could also combine the functions head() and select()\nhead(select(StudentData, first_variable_here, second_variable_here))\n\n# try modifying the code to get just the first 3 rows"
    },
    {
      "cell_type": "code",
      "execution_count": null,
      "metadata": {
        "cell_id": "e1b6f8fe1a03428c9b3138835cf70ca8",
        "deepnote_cell_type": "code",
        "trusted": true
      },
      "outputs": [],
      "source": "# Sample Response\n\n# you could also combine the functions head() and select()\nhead(select(StudentData, num_pets, fav_color))\n\n# try modifying the code to get just the first 3 rows\nhead(select(StudentData, num_pets, fav_color), 3)"
    },
    {
      "cell_type": "markdown",
      "metadata": {
        "cell_id": "0a078a406581440ab7827a96e6add6a9",
        "deepnote_cell_type": "markdown",
        "nbsimplegrader": {
          "config_key": "markdown.response",
          "editable": true,
          "label": "Response: Markdown",
          "respondable": true,
          "response": null,
          "runnable": true,
          "type": "markdown"
        }
      },
      "source": "> How was this different from just using select?"
    },
    {
      "cell_type": "markdown",
      "metadata": {
        "cell_id": "91b3fd3f467742b7bd498f6efb747670",
        "deepnote_cell_type": "markdown"
      },
      "source": "<div class=\"teacher-note\">\n<b>Sample Responses:</b> \n    \n- With head(), it will only show a few of the rows (or *cases*, or *observations*).\n- select() will take all of the rows, but only for the columns requested.\n\n</div>"
    },
    {
      "cell_type": "markdown",
      "metadata": {
        "cell_id": "a8498f5d3cf94f14a89eecb015c9e583",
        "deepnote_cell_type": "markdown",
        "nbsimplegrader": {
          "config_key": "markdown.view-only",
          "editable": false,
          "label": "Markdown: View-Only",
          "respondable": false,
          "response": null,
          "runnable": false,
          "type": "markdown"
        }
      },
      "source": "## Practice 3:\n\nThe function `filter()` lets us find certain rows that meet conditions we specify.  Suppose you wanted to find students who were born in your birth month.  What do you see?"
    },
    {
      "cell_type": "code",
      "execution_count": null,
      "metadata": {
        "cell_id": "3d748cc50fad493881449212d6bc4cb9",
        "deepnote_cell_type": "code",
        "nbsimplegrader": {
          "config_key": "code.response",
          "editable": true,
          "label": "Response: Code",
          "respondable": true,
          "response": null,
          "runnable": true,
          "type": "code"
        },
        "trusted": true
      },
      "outputs": [],
      "source": "# modify the code to filter for your birth month\nfilter(StudentData, birth_month == \"Put_month_name_here\")"
    },
    {
      "cell_type": "code",
      "execution_count": null,
      "metadata": {
        "cell_id": "705e0409debd4fadb170bbe1531bbe01",
        "deepnote_cell_type": "code",
        "trusted": true
      },
      "outputs": [],
      "source": "# Sample Response\n\n# modify the code to filter for your birth month\nfilter(StudentData, birth_month == \"March\")"
    },
    {
      "cell_type": "markdown",
      "metadata": {
        "cell_id": "92779f0e38fc4e4fb71cba635f589cc1",
        "deepnote_cell_type": "markdown",
        "nbsimplegrader": {
          "config_key": "markdown.response",
          "editable": true,
          "label": "Response: Markdown",
          "respondable": true,
          "response": null,
          "runnable": true,
          "type": "markdown"
        }
      },
      "source": "> Write your response here."
    },
    {
      "cell_type": "markdown",
      "metadata": {
        "cell_id": "e9b0a3b5ec324167b4648980b072a293",
        "deepnote_cell_type": "markdown"
      },
      "source": "<div class=\"teacher-note\">\n<b>Sample Responses:</b> \n    \nResponses will vary, but they might comment on things like:\n\n- The number of students that have the same birth month as them (or lack thereof)\n- Any other variables they have in common (i.e., they happen to have similar values for some of the other measures)\n\n</div>"
    },
    {
      "cell_type": "code",
      "execution_count": null,
      "metadata": {
        "cell_id": "5134db33c05e4cd799697068a1d86216",
        "deepnote_cell_type": "code",
        "nbsimplegrader": {
          "config_key": "code.response",
          "editable": true,
          "label": "Response: Code",
          "respondable": true,
          "response": null,
          "runnable": true,
          "type": "code"
        },
        "trusted": true
      },
      "outputs": [],
      "source": "# You could also filter using quantitative variables.  \nfilter(StudentData, height == 62)\n\n# Feel free to change the height and use other inequalities."
    },
    {
      "cell_type": "code",
      "execution_count": null,
      "metadata": {
        "cell_id": "2e419acb0e334d5d875ed30995df0246",
        "deepnote_cell_type": "code",
        "trusted": true
      },
      "outputs": [],
      "source": "# Sample Responses\n\n# You could also filter using quantitative variables.  \nfilter(StudentData, height == 62)\n\n# Feel free to change the height and use other inequalities.\nfilter(StudentData, height >= 65)\nfilter(StudentData, num_pets == 0)\nfilter(StudentData, shoe_size <= 8)"
    },
    {
      "cell_type": "markdown",
      "metadata": {
        "cell_id": "c5c32b452c574388914c09e1d6a2d130",
        "deepnote_cell_type": "markdown",
        "nbsimplegrader": {
          "config_key": "markdown.response",
          "editable": true,
          "label": "Response: Markdown",
          "respondable": true,
          "response": null,
          "runnable": true,
          "type": "markdown"
        }
      },
      "source": "> Describe your observation with the function filter here."
    },
    {
      "cell_type": "markdown",
      "metadata": {
        "cell_id": "ac7f7b7834bd44928e974d4c32c7f4a5",
        "deepnote_cell_type": "markdown"
      },
      "source": "<div class=\"teacher-note\">\n<b>Sample Response:</b> It only gave me the rows for the students who matched that condition (e.g., all of the students with 0 pets). It included all of the other columns/variables, but only for those rows.\n    \n\n</div>"
    },
    {
      "cell_type": "markdown",
      "metadata": {
        "cell_id": "6403b90990d947fa829b664eecdbd0cb",
        "deepnote_cell_type": "markdown",
        "nbsimplegrader": {
          "config_key": "markdown.edit-and-run",
          "editable": true,
          "label": "Markdown: Edit-and-Run",
          "respondable": false,
          "response": null,
          "runnable": true,
          "type": "markdown"
        }
      },
      "source": "## Practice 4:\n\nMissing data could have `NA` or is left blank.  In `StudentData`, some students don't have a favorite superhero and left it blank.  Let's **filter in** students who have a favorite superhero and save them into a new data frame."
    },
    {
      "cell_type": "code",
      "execution_count": null,
      "metadata": {
        "cell_id": "4a7142761c5e4e839f2b65058102081a",
        "deepnote_cell_type": "code",
        "nbsimplegrader": {
          "config_key": "code.edit-and-run",
          "editable": true,
          "label": "Code: Edit-and-Run",
          "respondable": false,
          "response": null,
          "runnable": true,
          "type": "code"
        },
        "trusted": true
      },
      "outputs": [],
      "source": "# First see that some students left favorite superhero blank\nStudentData"
    },
    {
      "cell_type": "code",
      "execution_count": null,
      "metadata": {
        "cell_id": "76085935d9fe40cd8422a87a6e4c7bad",
        "deepnote_cell_type": "code",
        "nbsimplegrader": {
          "config_key": "code.response",
          "editable": true,
          "label": "Response: Code",
          "respondable": true,
          "response": null,
          "runnable": true,
          "type": "code"
        },
        "trusted": true
      },
      "outputs": [],
      "source": "# Now filter in students with favorite superhero \n# and save it in a new data frame called StudentData_subset\nStudentData_subset <- filter(StudentData, fav_superhero != \"\")\nStudentData_subset"
    },
    {
      "cell_type": "markdown",
      "metadata": {
        "cell_id": "702ac8cf40594642a1be59b7cb5e2ec8",
        "deepnote_cell_type": "markdown",
        "nbsimplegrader": {
          "config_key": "markdown.edit-and-run",
          "editable": true,
          "label": "Markdown: Edit-and-Run",
          "respondable": false,
          "response": null,
          "runnable": true,
          "type": "markdown"
        }
      },
      "source": "## Practice 5:\n\nThere is a ratio called the [Ape Index](https://en.wikipedia.org/wiki/Ape_index) that compares our arm span to our height.  Having an index of 1 means your arm span and height are equal in length.  \n\nSuppose we want to study the Ape Index for students without having to look at both columns for `height` and `arm_span`.  What could we do?  \n\nWe could create a new variable that displays the ratio of arm span to height.  Let's try it out."
    },
    {
      "cell_type": "code",
      "execution_count": null,
      "metadata": {
        "cell_id": "bed80494a877432ca75f2ceb78d8c9ed",
        "deepnote_cell_type": "code",
        "nbsimplegrader": {
          "config_key": "code.edit-and-run",
          "editable": true,
          "label": "Code: Edit-and-Run",
          "respondable": false,
          "response": null,
          "runnable": true,
          "type": "code"
        },
        "trusted": true
      },
      "outputs": [],
      "source": "#This code will take the student's individual arm span and divide it by height.\n#This ratio will be stored in a new variable that we'll add to the data frame.\nStudentData$ape_index <- StudentData$arm_span/StudentData$height\n\n#this will let us see the first six rows with the new variable\n#scroll all the way to the end to see it\nhead(StudentData)"
    },
    {
      "cell_type": "markdown",
      "metadata": {
        "cell_id": "db956ac2af294e86a1616fb0bebf2342",
        "deepnote_cell_type": "markdown",
        "nbsimplegrader": {
          "config_key": "markdown.response",
          "editable": true,
          "label": "Response: Markdown",
          "respondable": true,
          "response": null,
          "runnable": true,
          "type": "markdown"
        }
      },
      "source": "> What did you notice for the first 6 Ape Indices?"
    },
    {
      "cell_type": "markdown",
      "metadata": {
        "cell_id": "101628368a5446e2a51e4e729733e31f",
        "deepnote_cell_type": "markdown"
      },
      "source": "<div class=\"teacher-note\">\n<b>Sample Responses:</b> \n    \n- Most of them are under 1.\n- It appears that armspan and height are pretty close, but height is usually a little bit longer than armspan.\n    \n</div>"
    },
    {
      "cell_type": "markdown",
      "metadata": {
        "cell_id": "9009ba9b8f364cd4bcfdfb65eaa1ed4d",
        "deepnote_cell_type": "markdown",
        "nbsimplegrader": {
          "config_key": "markdown.view-only",
          "editable": false,
          "label": "Markdown: View-Only",
          "respondable": false,
          "response": null,
          "runnable": false,
          "type": "markdown"
        }
      },
      "source": "## Practice 6:\n\nHow would we create that same variable using the `mutate()` function? Try creating the Ape Index using `mutate()` and save it back into the data frame as `ape_index_2`"
    },
    {
      "cell_type": "code",
      "execution_count": null,
      "metadata": {
        "cell_id": "dd95ca30b8e041098980f425ef744a3a",
        "deepnote_cell_type": "code",
        "nbsimplegrader": {
          "config_key": "code.response",
          "editable": true,
          "label": "Response: Code",
          "respondable": true,
          "response": null,
          "runnable": true,
          "type": "code"
        },
        "trusted": true
      },
      "outputs": [],
      "source": "StudentData <- StudentData %>%\n  mutate(new_variable_name = variable_1/variable_2)\n\n# Check that the new variable was added\nhead(StudentData)"
    },
    {
      "cell_type": "code",
      "execution_count": null,
      "metadata": {
        "cell_id": "82ae23dc77834ebbbc6016e1874c6286",
        "deepnote_cell_type": "code",
        "trusted": true
      },
      "outputs": [],
      "source": "# Sample Response\nStudentData <- StudentData %>%\n  mutate(ape_index_2 = arm_span/height)\n\n# Check that the new variable was added\nhead(StudentData)"
    },
    {
      "cell_type": "markdown",
      "metadata": {
        "cell_id": "a864d5f107b641eb9b1085fa82e25935",
        "deepnote_cell_type": "markdown"
      },
      "source": "## Practice 7:\n\nRight now, the values of `sport` are `No` or `Yes`.  We want to change them to 0 and 1.  To do this, we'll use the function `recode()` then take a look at the data frame to see if `recode()` worked."
    },
    {
      "cell_type": "code",
      "execution_count": null,
      "metadata": {
        "cell_id": "405652aaefed4e0aaef404d0c54f8243",
        "deepnote_cell_type": "code",
        "nbsimplegrader": {
          "config_key": "code.response",
          "editable": true,
          "label": "Response: Code",
          "respondable": true,
          "response": null,
          "runnable": true,
          "type": "code"
        },
        "trusted": true
      },
      "outputs": [],
      "source": "StudentData$sport_new <- recode(StudentData$sport, \"No\" = 0, \"Yes\" = 1)\n\n# write code to view the data frame "
    },
    {
      "cell_type": "code",
      "execution_count": null,
      "metadata": {
        "cell_id": "9ef66283e4644b14ac73eb6b7128c31b",
        "deepnote_cell_type": "code",
        "trusted": true
      },
      "outputs": [],
      "source": "# Sample Response\nStudentData$sport_new <- recode(StudentData$sport, \"No\" = 0, \"Yes\" = 1)\n\n# write code to view the data frame \nhead(StudentData)\nhead(select(StudentData, sport, sport_new))\nStudentData"
    }
  ],
  "metadata": {
    "deepnote_notebook_id": "bf4a5504156f4bcea251047424f278e8",
    "kernelspec": {
      "display_name": "R",
      "language": "R",
      "name": "ir"
    },
    "language_info": {
      "codemirror_mode": "r",
      "file_extension": ".r",
      "mimetype": "text/x-r-source",
      "name": "R",
      "pygments_lexer": "r",
      "version": "4.3.3"
    },
    "nbsimplegrader": {
      "publish_config": {
        "classes": [],
        "options": [],
        "tools": []
      }
    }
  },
  "nbformat": 4,
  "nbformat_minor": 1
}