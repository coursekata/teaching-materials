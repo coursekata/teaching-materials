{
  "cells": [
    {
      "cell_type": "markdown",
      "metadata": {
        "cell_id": "91cfb12591454e7c86345a1ce696bc69",
        "deepnote_cell_height": 81.953125,
        "deepnote_cell_type": "markdown",
        "tags": []
      },
      "source": "# 2D: Data on College Majors "
    },
    {
      "cell_type": "code",
      "execution_count": null,
      "metadata": {
        "cell_id": "b268d99c14d345628d0f06a818d82eab",
        "deepnote_cell_height": 150.953125,
        "deepnote_cell_type": "code",
        "trusted": true
      },
      "outputs": [],
      "source": "# This code will load the R packages we will use\nsuppressPackageStartupMessages({\n    library(coursekata)\n})\nfont_size = function (size) {\n    theme(text = element_text(size = size))}"
    },
    {
      "cell_type": "markdown",
      "metadata": {
        "cell_id": "2ab774698e20406eb136d9e9610da4b2",
        "deepnote_cell_height": 155.9375,
        "deepnote_cell_type": "markdown"
      },
      "source": "There are a lot of reasons why people pick the major they pick. Future earnings and job security are just a few of them. What do the data look like on the job prospects of different college majors out there?\n\nLet’s start with a data set called `college_recent_grads` that was the basis of this article: [The Economic Guide to Picking a College Major](https://fivethirtyeight.com/features/the-economic-guide-to-picking-a-college-major/). "
    },
    {
      "cell_type": "markdown",
      "metadata": {
        "cell_id": "ddbf28e60cf94efe8281e963627716a9",
        "deepnote_cell_height": 91.75,
        "deepnote_cell_type": "markdown"
      },
      "source": "1. Run some code to take a look at a bit of the dataframe. What are the cases? Are there any variables that look interesting to you?"
    },
    {
      "cell_type": "code",
      "execution_count": null,
      "metadata": {
        "cell_id": "ae90530ecdd648429fb7c3c4b185deab",
        "deepnote_cell_height": 60.953125,
        "deepnote_cell_type": "code",
        "scrolled": true,
        "trusted": true
      },
      "outputs": [],
      "source": "# Write some code here."
    },
    {
      "cell_type": "markdown",
      "metadata": {
        "cell_id": "2730c52481124c08ae2117c1f2a69f56",
        "deepnote_cell_height": 655.34375,
        "deepnote_cell_type": "markdown",
        "tags": []
      },
      "source": "Here is a bit more information about the `college_recent_grads` data frame. It contains 173 rows representing majors (recent graduates) and 21 variables:\n\n- `rank` Rank by median earnings\n- `major_code` Major code, FO1DP in ACS PUMS\n- `major` Major description\n- `major_category` Category of major from Carnevale et al\n- `total` Total number of people with major\n- `sample_size` Sample size (unweighted) of full-time, year-round ONLY (used for earnings)\n- `men` Men with major\n- `women` Women with major\n- `sharewomen` Proportion women\n- `employed` Number employed (ESR == 1 or 2)\n- `employed_fulltime` Employed 35 hours or more\n- `employed_parttime` Employed less than 35 hours\n- `employed_fulltime_yearround` Employed at least 50 weeks (WKW == 1) and at least 35 hours (WKHP >= 35)\n- `unemployed` Number unemployed (ESR == 3)\n- `unemployment_rate` Unemployed / (Unemployed + Employed)\n- `p25th` 25th percentile of earnings\n- `median` Median earnings of full-time, year-round workers\n- `p75th` 75th percentile of earnings\n- `college_jobs` Number with job requiring a college degree\n- `non_college_jobs` Number with job not requiring a college degree\n- `low_wage_jobs` Number in low-wage service jobs"
    },
    {
      "cell_type": "markdown",
      "metadata": {
        "cell_id": "b24ac4cd0da243f4929c435290319f4a",
        "deepnote_cell_height": 91.75,
        "deepnote_cell_type": "markdown"
      },
      "source": "2. Try to print out the names of all the majors. Which one(s) are interesting to you? Do you already have a major in mind? Do you see it in the list?"
    },
    {
      "cell_type": "markdown",
      "metadata": {
        "cell_id": "0fff4e7747eb4ec79d512e4da618b258",
        "deepnote_cell_height": 91.75,
        "deepnote_cell_type": "markdown"
      },
      "source": "3. What does this bit of code do? Modify it to look up information for one major you are interested in. Did you find out anything interesting about that major?"
    },
    {
      "cell_type": "code",
      "execution_count": null,
      "metadata": {
        "cell_id": "8d945f1eeba64bd1bed22d7667860971",
        "deepnote_cell_height": 222.890625,
        "deepnote_cell_type": "code",
        "deepnote_output_heights": [
          130.9375
        ],
        "trusted": true
      },
      "outputs": [],
      "source": "filter(college_recent_grads, major == \"Court Reporting\")"
    },
    {
      "cell_type": "markdown",
      "metadata": {
        "cell_id": "909b91875f2f461ab0f18917af850ec5",
        "deepnote_cell_height": 114.140625,
        "deepnote_cell_type": "markdown"
      },
      "source": "4. Out of the variables in `college_recent_grads`, which is the variable you are most interested in maximizing when trying to pick a major? What are the top 10 majors for that variable? Do you see any common themes?"
    },
    {
      "cell_type": "markdown",
      "metadata": {
        "cell_id": "1dc9bb5cf6a04e09af79f214e62ae56c",
        "deepnote_cell_height": 114.140625,
        "deepnote_cell_type": "markdown",
        "tags": []
      },
      "source": "5. Out of the variables in `college_recent_grads`, which is the variable you are most interested in **minimizing** when trying to pick a major? What are the 10 majors that are lowest on that variable? Do you see any common themes?"
    },
    {
      "cell_type": "markdown",
      "metadata": {
        "cell_id": "2dab1810fdae44d7a78fdd8fbcb2bfe3",
        "deepnote_cell_height": 69.359375,
        "deepnote_cell_type": "markdown",
        "tags": []
      },
      "source": "6. How many majors graduate more women than men?"
    },
    {
      "cell_type": "markdown",
      "metadata": {
        "cell_id": "79428cc633534bda883e24f3e37231b7",
        "deepnote_cell_height": 69.359375,
        "deepnote_cell_type": "markdown",
        "tags": []
      },
      "source": "7. How many majors have more employed than unemployed recent graduates?"
    },
    {
      "cell_type": "markdown",
      "metadata": {
        "cell_id": "5f15838dffd7413fbf7ee99f40a63b8d",
        "deepnote_cell_type": "markdown",
        "tags": []
      },
      "source": "8. Summarize some of the interesting findings you discovered while exploring this dataset. Has any of the information impacted which majors you are interested in?"
    }
  ],
  "metadata": {
    "deepnote_notebook_id": "70d8f80f890749469fef0bd701377c71",
    "kernelspec": {
      "display_name": "R",
      "language": "R",
      "name": "ir"
    },
    "language_info": {
      "codemirror_mode": "r",
      "file_extension": ".r",
      "mimetype": "text/x-r-source",
      "name": "R",
      "pygments_lexer": "r",
      "version": "4.3.3"
    },
    "nbsimplegrader": {
      "publish_config": {
        "classes": [],
        "options": [],
        "tools": []
      }
    }
  },
  "nbformat": 4,
  "nbformat_minor": 1
}