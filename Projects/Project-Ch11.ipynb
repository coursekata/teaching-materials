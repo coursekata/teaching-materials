{
 "cells": [
  {
   "cell_type": "markdown",
   "metadata": {
    "cell_id": "a8fccd72639649b7a1a6327b2e28f671",
    "deepnote_cell_type": "markdown"
   },
   "source": [
    "# <center>Project (Ch. 1-11): Evaluating Models</center> "
   ]
  },
  {
   "cell_type": "code",
   "execution_count": null,
   "metadata": {
    "cell_id": "a77731741e8d4bda876f97f03dfc4c86",
    "deepnote_cell_type": "code",
    "deepnote_to_be_reexecuted": false,
    "execution_millis": 4168,
    "execution_start": 1723834294351,
    "output_cleared": false,
    "source_hash": null
   },
   "outputs": [],
   "source": [
    "# Load the CourseKata library\n",
    "suppressPackageStartupMessages({\n",
    "    library(coursekata)\n",
    "})"
   ]
  },
  {
   "cell_type": "markdown",
   "metadata": {
    "cell_id": "254f51f6e744483baa25b80759e06eab",
    "deepnote_cell_height": 219.1875,
    "deepnote_cell_type": "markdown",
    "tags": []
   },
   "source": [
    "<div class=\"alert alert-block alert-info\">\n",
    "\n",
    "## Link to Guide and Rubric\n",
    "\n",
    "The **Guide** answers the question \"What is a data analysis report?\" and the **Rubric** can be used to help you write a good data analysis report.\n",
    "\n",
    "You can access both the guide and the rubric at this link: https://bit.ly/data-analysis-report-guide\n",
    "\n",
    "\n",
    "</div>"
   ]
  },
  {
   "cell_type": "markdown",
   "metadata": {
    "cell_id": "c8cad966744c445797346fc0d0f1467c",
    "deepnote_cell_height": 219.1875,
    "deepnote_cell_type": "markdown",
    "owner_user_id": "21cb1e38-7460-4830-8b54-1b548c541f6d",
    "tags": []
   },
   "source": [
    "<div class=\"alert alert-block alert-info\">\n",
    " \n",
    "## Data\n",
    "\n",
    "The data frame you will use is called `StudentData`. It contains a wide range of variables that were collected via survey from college students in a statistics course.\n",
    "\n",
    "[Click here](https://docs.google.com/document/d/1gUmX8hkOqZ5ubt4wcHfBnHBm8Pwx9gKJeCBGg0n9Jr8/edit?usp=sharing) for more information on `StudentData`.\n",
    "\n",
    "</div>"
   ]
  },
  {
   "cell_type": "markdown",
   "metadata": {
    "cell_id": "398530e7d644421ba4953959aba22fec",
    "deepnote_cell_height": 241.59375,
    "deepnote_cell_type": "markdown",
    "tags": []
   },
   "source": [
    "<div class=\"alert alert-block alert-info\">\n",
    "\n",
    "## Instructions\n",
    "\n",
    "Your task is to use R to explore and model variation in the data, and evaluate models with the goal of reporting your findings to a target audience.\n",
    "\n",
    "Your target audience for this report will be a new tutoring agency interested in catering to different types of students. What might you recommend to help the tutoring agency attract new clients, based on these data? \n",
    "\n",
    "</div>"
   ]
  },
  {
   "cell_type": "code",
   "execution_count": null,
   "metadata": {
    "cell_id": "0ad64d27eb4247ddaaae807a449956b7",
    "deepnote_cell_height": 138,
    "deepnote_cell_type": "code",
    "deepnote_to_be_reexecuted": false,
    "execution_millis": 1377,
    "execution_start": 1723834298541,
    "owner_user_id": "23d85493-7ed1-49a4-baa7-630eaab08193",
    "source_hash": null,
    "tags": []
   },
   "outputs": [],
   "source": [
    "# Load the data frame\n",
    "StudentData <- read.csv(\"https://bit.ly/class-project-data-frame\", header = TRUE)\n",
    "\n",
    "# Take a look at the data frame\n",
    "# head(StudentData)"
   ]
  },
  {
   "cell_type": "markdown",
   "metadata": {
    "cell_id": "e8e50551a93d4b309101da1e13c064e6",
    "deepnote_cell_height": 70,
    "deepnote_cell_type": "markdown"
   },
   "source": [
    "## Intro/Overview of the Problem or Question"
   ]
  },
  {
   "cell_type": "markdown",
   "metadata": {
    "cell_id": "653d7bd287734fedbbe829c9c4dd1e3b",
    "deepnote_cell_height": 348.578125,
    "deepnote_cell_type": "markdown"
   },
   "source": [
    "<div class=\"alert alert-block alert-info\"> \n",
    "\n",
    "The goal of this section is to provide an overview of the context, situation, or problem.\n",
    "\n",
    "A good introduction section typically includes the following topics (but not necessarily in this order): \n",
    "\n",
    "- A description of the question or problem you are investigating and why this question is important\n",
    "\n",
    "- A description of the data you will use in your investigation, such as:\n",
    "  - where the data came from \n",
    "  - why and how it was collected\n",
    "  - what cases and variables are included\n",
    "\n",
    "- Your initial hypothesis (perhaps also stated as a word equation), specifying outcome and explanatory variables, and why you think your hypothesis is plausible\n",
    "\n",
    "</div>"
   ]
  },
  {
   "cell_type": "markdown",
   "metadata": {
    "cell_id": "36848ec1c95f450695523ea4506756f4",
    "deepnote_cell_height": 70,
    "deepnote_cell_type": "markdown"
   },
   "source": [
    "## Explore Variation"
   ]
  },
  {
   "cell_type": "markdown",
   "metadata": {
    "cell_id": "d9ff1675ef314e0889c4a1517d87aa02",
    "deepnote_cell_height": 393.375,
    "deepnote_cell_type": "markdown"
   },
   "source": [
    "<div class=\"alert alert-block alert-info\">\n",
    "\n",
    "The goal of this section is to explore variation in your explanatory and outcome variables. That exploration will almost certainly include visual displays of your data.\n",
    "\n",
    "A good exploring variation section typically includes the following topics (but not necessarily in this order): \n",
    "\n",
    "- A description of how you cleaned and prepared your data and why, such as: \n",
    "  - filtering cases \n",
    "  - handling missing data \n",
    "  - recoding or creating new variables\n",
    "\n",
    "- Visualizations or tables to explore the distributions of relevant variables and hypothesized relationships among variables\n",
    "\n",
    "- Descriptions of the visualizations or tables, and explanations of how they relate to the hypotheses or research questions\n",
    "\n",
    "</div>"
   ]
  },
  {
   "cell_type": "markdown",
   "metadata": {
    "cell_id": "57c5c75ac71e4b5eb658934cca631507",
    "deepnote_cell_height": 70,
    "deepnote_cell_type": "markdown"
   },
   "source": [
    "## Model Variation "
   ]
  },
  {
   "cell_type": "markdown",
   "metadata": {
    "cell_id": "99e14544d333449580e68fe5a954ea34",
    "deepnote_cell_height": 298.1875,
    "deepnote_cell_type": "markdown"
   },
   "source": [
    "<div class=\"alert alert-block alert-info\">\n",
    "\n",
    "The goal of this section is to create a model or models that uses explanatory variables to explain some of the variation in your outcome variable.\n",
    "\n",
    "A good modeling variation section typically includes the following topics (but not necessarily in this order): \n",
    "\n",
    "- The best fitting model (or models), expressed in GLM notation, to represent your research question \n",
    "\n",
    "- The interpretation of your parameter estimates in the units appropriate to your research question\n",
    "\n",
    "- A visual display of your model overlaid on the data \n",
    "\n",
    "- The creation and interpretation of an ANOVA table to assess how well the model fits the data, and a comparison of the fit of alternative models when applicable \n",
    "\n",
    "\n",
    "</div>"
   ]
  },
  {
   "cell_type": "markdown",
   "metadata": {
    "cell_id": "087a8ccdff944ed8ba78d6b59108c40c",
    "deepnote_cell_height": 70,
    "deepnote_cell_type": "markdown"
   },
   "source": [
    "## Evaluate Models "
   ]
  },
  {
   "cell_type": "markdown",
   "metadata": {
    "cell_id": "7d4513f7b5b94a1a854d9bc0b8a4c8e1",
    "deepnote_cell_height": 224.984375,
    "deepnote_cell_type": "markdown"
   },
   "source": [
    "<div class=\"alert alert-block alert-info\">\n",
    "\n",
    "The goal of this section is to discuss your model in relation to other plausible models of the DGP.\n",
    "\n",
    "A good evaluating models section typically includes the following topics (but not necessarily in this order): \n",
    "\n",
    "- The construction and interpretation of a confidence interval in relation to your research question \n",
    "\n",
    "- An evaluation of your model(s) against the empty model using p-value or confidence intervals, and a rationale for which model you opt to retain \n",
    "\n",
    "\n",
    "</div>"
   ]
  },
  {
   "cell_type": "markdown",
   "metadata": {
    "cell_id": "2c761f5a631e4d0d85f8f01afc71f01c",
    "deepnote_cell_height": 70,
    "deepnote_cell_type": "markdown"
   },
   "source": [
    "## Conclusions "
   ]
  },
  {
   "cell_type": "markdown",
   "metadata": {
    "cell_id": "ed3a7bdedd2a4fc691aef617f8270950",
    "deepnote_cell_height": 224.984375,
    "deepnote_cell_type": "markdown"
   },
   "source": [
    "<div class=\"alert alert-block alert-info\">\n",
    "\n",
    "The goal of this section is to help your audience understand what can be learned from your data analysis.\n",
    "\n",
    "A good conclusion section typically includes the following topics (but not necessarily in this order): \n",
    "\n",
    "- A summary of what you did, what you found, and how it relates to the motivating question \n",
    "\n",
    "- A discussion of the implications of the results, what they mean for the audience or the world, and possible limitations of the findings  \n",
    "\n",
    "\n",
    "</div>"
   ]
  },
  {
   "cell_type": "markdown",
   "metadata": {
    "cell_id": "798c0a9d52f14641bdce94526849b6ed",
    "deepnote_cell_height": 182.796875,
    "deepnote_cell_type": "markdown"
   },
   "source": [
    "<div class=\"alert alert-block alert-info\">\n",
    "\n",
    "## After you are done...\n",
    "\n",
    "Go through this document and delete all the cells with blue text boxes (the instructions). You will be then left with a data analysis report.\n",
    "\n",
    "</div>"
   ]
  }
 ],
 "metadata": {
  "deepnote_notebook_id": "7a307720ff4b446e826ea23d84e977e3",
  "kernelspec": {
   "display_name": "R",
   "language": "R",
   "name": "ir"
  },
  "language_info": {
   "codemirror_mode": "r",
   "file_extension": ".r",
   "mimetype": "text/x-r-source",
   "name": "R",
   "pygments_lexer": "r",
   "version": "4.3.3"
  },
  "nbsimplegrader": {
   "publish_config": {
    "classes": [],
    "options": [],
    "tools": []
   }
  }
 },
 "nbformat": 4,
 "nbformat_minor": 1
}
