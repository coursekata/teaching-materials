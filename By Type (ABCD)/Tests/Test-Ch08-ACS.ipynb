{
  "cells": [
    {
      "cell_type": "markdown",
      "metadata": {
        "cell_id": "6e8b2d676e094e23b6ee7854f41b7be6",
        "deepnote_cell_type": "markdown"
      },
      "source": "# <center>Test (Ch. 1-8): American Community Survey (ACS) </center> "
    },
    {
      "cell_type": "code",
      "execution_count": null,
      "metadata": {
        "cell_id": "431f252ec254483ba2ee40c78360520a",
        "deepnote_cell_type": "code",
        "trusted": true
      },
      "outputs": [],
      "source": "# Run this code to load the required packages\nsuppressMessages(suppressWarnings(suppressPackageStartupMessages({\n  library(coursekata)\n})))\n\nACS <- na.omit(ACS)\nACS$Language <- factor(ACS$Language, levels = c(0,1), labels = c(\"English\", \"Other\"))\nACS$Sex <- factor(ACS$Sex, levels = c(0,1), labels = c(\"Female\", \"Male\"))\nACS$Married <- factor(ACS$Married, levels = c(0,1), labels = c(\"Not Married\", \"Married\"))\nACS$USCitizen <- factor(ACS$USCitizen, levels = c(0,1), labels = c(\"Not Citizen\", \"Citizen\"))\nACS$HealthInsurance <- factor(ACS$HealthInsurance, levels = c(0,1), labels = c(\"Uninsured\", \"Insured\"))"
    },
    {
      "cell_type": "markdown",
      "metadata": {
        "cell_id": "c160b2709cd648b9b8b1093dd89c6e23",
        "deepnote_cell_type": "markdown"
      },
      "source": "The American Community Survey (ACS), administered by the US Census Bureau, is given every year to a random sample of residents from about 3.5 million households (about 3% of all US households). Data on a random sample of 1% of all US residents are made public (after ensuring anonymity), and the data frame `ACS` holds a random sub-sample of 1000 residents surveyed in 2010.\n\nData Frame Name (Preloaded in R): `ACS`\n\nA dataset with 505 observations on the following 9 variables:\n\n- `Sex` \t\t\tSex of resident (Female or Male)\n- `Age` \t\t\tAge in years \n- `Married` \t\tMarital status of resident (Not Married or Married)\n- `Income` \t\t    Wages and salary for the past 12 months (in $1,000's) \n- `HoursWk` \t\tHours of work per week \n- `Race` \t\t\tRace of the resident (asian, black, other, or white) \n- `USCitizen` \t\tWhether the resident is a citizen (Citizen or Noncitizen)\n- `HealthInsurance` \tWhether the resident has health insurance (Insured or Uninsured)\n- `Language` \t\tLanguage spoken at home (English or Other)"
    },
    {
      "cell_type": "markdown",
      "metadata": {
        "cell_id": "21b821a52ad247758b2c6c9830c3d488",
        "deepnote_cell_type": "markdown"
      },
      "source": "## Question 1\n\nThe number of hours worked per week should vary among residents. Create a visualization to explore the variability in `HoursWk`. Describe the shape, center, spread, and any weird things. "
    },
    {
      "cell_type": "markdown",
      "metadata": {
        "cell_id": "f93cad19086841d89e06c4b8bfaaf9ce",
        "deepnote_cell_type": "markdown"
      },
      "source": "## Question 2\n\nThe hours worked per week may vary across states as well. If we had information on the average number of hours worked per week in each state, could we put that new information into the data frame? Why or why not?"
    },
    {
      "cell_type": "markdown",
      "metadata": {
        "cell_id": "996fa0fe750549da9b6cc025cdeee57c",
        "deepnote_cell_type": "markdown"
      },
      "source": "## Question 3\n\nLet’s say we want to predict the number of hours worked by a randomly selected resident. In your opinion, which of the following variables would be most helpful in making a better prediction: `Sex` or `Married`? Write a word equation that represents your choice."
    },
    {
      "cell_type": "markdown",
      "metadata": {
        "cell_id": "38052cb380614e7eb931b0cc1d44f340",
        "deepnote_cell_type": "markdown"
      },
      "source": "## Question 4\n\nWhy do you think that would be the most helpful bit of extra information? (You don’t need any statistics for this argument; this is just what you think. This should be an argument about how you think the world works.)"
    },
    {
      "cell_type": "markdown",
      "metadata": {
        "cell_id": "a72b7a79cce14400a63cfb1ae6de871d",
        "deepnote_cell_type": "markdown"
      },
      "source": "## Question 5\n\nIf you did not know anything about the randomly selected resident but wanted to make a prediction of their **HoursWk** that would have the least amount of error (i.e., the least amount of sum of squared error), we might simply guess the average amount. Create an empty model for `HoursWk` and write it in GLM notation."
    },
    {
      "cell_type": "markdown",
      "metadata": {
        "cell_id": "62426253341c44b1b845be64fee47741",
        "deepnote_cell_type": "markdown"
      },
      "source": "## Question 6\n\nLet's say someone proposes that `Married` might be helpful in predicting the hours worked per week. They ran this code and got this output. Help them put it into GLM notation.\n\n\n`Married.model <- lm(HoursWk ~ Married, data = ACS)`\n\n`Married.model`\n\n\n<img src=\"https://i.postimg.cc/YrgMLmdT/Tests-Ch-7-lm-Output.png\" title=\"Married Model Output\" width=\"400\"/>"
    },
    {
      "cell_type": "markdown",
      "metadata": {
        "cell_id": "9adadd94393d4cc58f54ed1d45f5fe10",
        "deepnote_cell_type": "markdown"
      },
      "source": "## Question 7\n\nFrom your answer above: \n\n    a. what does 35.6 mean?\n\n    b. what does 2.73 mean?"
    },
    {
      "cell_type": "markdown",
      "metadata": {
        "cell_id": "4b93dde0df004f83ae9ccb566364181d",
        "deepnote_cell_type": "markdown"
      },
      "source": "## Question 8\n\nIf you run the code below you will see a jitter plot. \n\n`gf_jitter(HoursWk ~ Married, data = ACS, size = 1, alpha = .5, height = 0)`\n\nNote, there are no models depicted in the visualization. \n\nAdd a line to represent the empty model, and also add in the `Married` model (*in a different color*)."
    },
    {
      "cell_type": "markdown",
      "metadata": {
        "cell_id": "3e41d24fe64144fd81fa0a13905c51b8",
        "deepnote_cell_type": "markdown"
      },
      "source": "## Question 9\n\nNotice that there is a lot of data right around 40 `HoursWk`. What does that mean? (Choose one of the answers below.)\n\n- The empty model should predict that a randomly selected person works 40 hours per week.\n- We should predict that a random person works 40 hours per week in order to minimize error measured as SS.\n- 40 is probably the mode of `HoursWk`.\n- All of the above are true statements."
    },
    {
      "cell_type": "markdown",
      "metadata": {
        "cell_id": "c6a32e6912494dbc8865a1945d485aa4",
        "deepnote_cell_type": "markdown"
      },
      "source": "## Question 10\n\nWhen we square and add all the residuals from the empty model, what would we end up with? (Choose one of the answers below.)\n\n- SS Total\n- MS Total\n- SS Error\n- SS Model"
    },
    {
      "cell_type": "markdown",
      "metadata": {
        "cell_id": "cf751af64b484c40b1086219025882de",
        "deepnote_cell_type": "markdown"
      },
      "source": "## Question 11\n\nDoes the `Married` model explain more variation than the empty model? Why do you think so?"
    },
    {
      "cell_type": "markdown",
      "metadata": {
        "cell_id": "4890fa1e1147469aa99d4be34f5b986e",
        "deepnote_cell_type": "markdown"
      },
      "source": "## Question 12\n\nLet's say you're having second thoughts on this `Married` model. Now you're thinking `Sex` would be a better predictor. Let’s try it out and create this model and save it as `Sex.model`."
    },
    {
      "cell_type": "markdown",
      "metadata": {
        "cell_id": "973cb2589c444eb68a3ab37e9aee3cb7",
        "deepnote_cell_type": "markdown"
      },
      "source": "## Question 13\n\nIf we write the `Sex` model in GLM notation like this: *$Y_{i}$* = 34.31 + 5.76*$X_{i}$* + *$e_{i}$*  \n\n   a. What does the *$Y_{i}$* mean?\n\n   b. What does the *$X_{i}$* mean?"
    },
    {
      "cell_type": "markdown",
      "metadata": {
        "cell_id": "673b2b5879b245d5b719d0c9ef951b7b",
        "deepnote_cell_type": "markdown"
      },
      "source": "## Question 14\n\nTake a look at the PRE (which can be found in a supernova table) for the `Sex.model`. What does that PRE mean?"
    },
    {
      "cell_type": "markdown",
      "metadata": {
        "cell_id": "d9074b8743204313bca6629880543598",
        "deepnote_cell_type": "markdown"
      },
      "source": "## Question 15\n\nWhich model, the `Married` model or the `Sex` model, explains more of the variation in hours worked per week? How do you know that?"
    }
  ],
  "metadata": {
    "deepnote_notebook_id": "52285cdd8a5c4dccac81a2a80734bbb0",
    "kernelspec": {
      "display_name": "R",
      "language": "R",
      "name": "ir"
    },
    "language_info": {
      "codemirror_mode": "r",
      "file_extension": ".r",
      "mimetype": "text/x-r-source",
      "name": "R",
      "pygments_lexer": "r",
      "version": "4.3.3"
    },
    "nbsimplegrader": {
      "publish_config": {
        "classes": [],
        "options": [],
        "tools": []
      }
    }
  },
  "nbformat": 4,
  "nbformat_minor": 1
}