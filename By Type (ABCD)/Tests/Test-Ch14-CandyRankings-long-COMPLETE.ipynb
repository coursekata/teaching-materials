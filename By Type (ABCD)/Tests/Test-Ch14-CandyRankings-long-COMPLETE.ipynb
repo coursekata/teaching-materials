{
  "cells": [
    {
      "cell_type": "markdown",
      "metadata": {
        "cell_id": "23921e29269e47a2a98035530340ec6e",
        "deepnote_cell_height": 235.921875,
        "deepnote_cell_type": "markdown",
        "tags": []
      },
      "source": "<div class=\"alert alert-block alert-danger\">\n\n# Ch 1-14 Test: Advanced Models (2.5 hr)\n\n### COMPLETE VERSION\n\n</div>"
    },
    {
      "cell_type": "code",
      "execution_count": null,
      "metadata": {
        "cell_id": "bea95f3d3a28455bb0e28ed951336fda",
        "deepnote_cell_type": "code",
        "deepnote_to_be_reexecuted": false,
        "execution_millis": 39,
        "execution_start": 1646928976483,
        "output_cleared": true,
        "source_hash": "15c2742c",
        "tags": [],
        "trusted": true
      },
      "outputs": [],
      "source": "# Load the CourseKata library\nsuppressPackageStartupMessages({\n    library(coursekata)\n})\ncandy_rankings <- fivethirtyeight::candy_rankings %>%\n                mutate(nutty = peanutyalmondy, sugarpercent = sugarpercent * 100,\n                    chocolate = as.factor(chocolate),\n                    fruity = as.factor(fruity),\n                    nutty = as.factor(nutty), \n                    hard = as.factor(hard), \n                    bar = as.factor(hard)) %>%\n                select(competitorname, winpercent, chocolate, fruity, nutty, hard, bar, sugarpercent, pricepercent)\n\n\n"
    },
    {
      "cell_type": "markdown",
      "metadata": {
        "cell_id": "603fede8623d47f88eb1fba74fc4c562",
        "deepnote_cell_height": 499.015625,
        "deepnote_cell_type": "markdown",
        "tags": []
      },
      "source": "*FiveThirtyEight* conducted an online study.  Participants were shown two candies at a time (randomly selected from a collection of 85 different Halloween candies) and were asked to state which of the two they would prefer. The results are in a data frame called `candy_rankings`, a data frame with 85 rows and 9 variables. (The original data frame had more variables; we have reduced it for convenience.)\n\nThe variables are:\n\n- `competitorname` the name of the Halloween candy\n- `winpercent` indicates the overall popularity of each candy measured as the percentage of times the candy was chosen over other candies across 269,000 matchups\n- `chocolate` whether the candy contains chocolate (coded TRUE or FALSE)\n- `fruity` whether the candy contains fruit (coded TRUE or FALSE)\n- `nutty` whether the candy contains peanuts, peanut butter, or almonds (coded TRUE or FALSE)\n- `hard` whether the candy is a hard candy (coded TRUE or FALSE)\n- `bar` whether the candy is a bar (coded TRUE or FALSE)\n- `sugarpercent` The amount of sugar in the candy (measured as a percentile in comparison to all the other candies)\n- `pricepercent` The price of the candy (measured as a percentile in comparison to all the other candies)"
    },
    {
      "cell_type": "markdown",
      "metadata": {
        "cell_id": "c233876266024f6a8413d3c0ae1a00f2",
        "deepnote_cell_height": 61.953125,
        "deepnote_cell_type": "markdown",
        "tags": []
      },
      "source": "### Explore Variation"
    },
    {
      "cell_type": "markdown",
      "metadata": {
        "cell_id": "9b00240e6a1a4116910a45a6f0559693",
        "deepnote_cell_height": 88.75,
        "deepnote_cell_type": "markdown",
        "tags": []
      },
      "source": "**Question 1** \n\nUse R to look at the first six lines of this data frame. What are the cases in this data frame?"
    },
    {
      "cell_type": "code",
      "execution_count": null,
      "metadata": {
        "cell_id": "6dced0e13a704eb58a4b63a2701e4a1a",
        "deepnote_cell_type": "code",
        "deepnote_to_be_reexecuted": false,
        "execution_millis": 61,
        "execution_start": 1646928681852,
        "output_cleared": true,
        "source_hash": "ff1e5f9e",
        "tags": [],
        "trusted": true
      },
      "outputs": [],
      "source": "# CORRECT ANSWER\nhead(candy_rankings)"
    },
    {
      "cell_type": "markdown",
      "metadata": {
        "cell_id": "ffe8ed17e6d949148da25c116109a061",
        "deepnote_cell_height": 140.71875,
        "deepnote_cell_type": "markdown",
        "tags": []
      },
      "source": "<div class=\"alert alert-block alert-warning\">\n\n**Correct Answer**\n\nEach case is a different Halloween candy.\n\n</div>"
    },
    {
      "cell_type": "markdown",
      "metadata": {
        "cell_id": "a855864a0fdb454fad797d57ace81035",
        "deepnote_cell_height": 133.53125,
        "deepnote_cell_type": "markdown",
        "tags": []
      },
      "source": "**Question 2** \n\nMake a visualization to look at the variation in `winpercent` (what percentage of time a particular candy won when matched up against other candies in a head-to-head contest). Describe the shape, center, and spread of this distribution."
    },
    {
      "cell_type": "code",
      "execution_count": null,
      "metadata": {
        "cell_id": "a7e1b9a59d764a04aa01f261400ff311",
        "deepnote_cell_type": "code",
        "deepnote_to_be_reexecuted": false,
        "execution_millis": 1394,
        "execution_start": 1646928681923,
        "output_cleared": true,
        "source_hash": "a10020b4",
        "tags": [],
        "trusted": true
      },
      "outputs": [],
      "source": "# CORRECT ANSWER (there are multiple correct answers but this will probably be most common)\ngf_histogram(~winpercent, data = candy_rankings)\n\n# other possible answers\ngf_boxplot(winpercent ~ 1, data = candy_rankings)\n\ngf_histogram(~winpercent, data = candy_rankings) %>%\ngf_boxplot()\n\nfavstats(~ winpercent, data = candy_rankings)"
    },
    {
      "cell_type": "markdown",
      "metadata": {
        "cell_id": "9e45ec7ac915499788317d4e81a7c7ab",
        "deepnote_cell_height": 250.296875,
        "deepnote_cell_type": "markdown",
        "tags": []
      },
      "source": "<div class=\"alert alert-block alert-warning\">\n\n**Correct Answer**\n\nThere are a variety of correct answers but here are some examples:\n- shape: roughly normal, not too skewed\n- center: around 50 (students might cite mean or median)\n- spread: most data is between 20 and 80; 50% of the data is between 40 and 60 (students may cite standard deviation)\n\n</div>"
    },
    {
      "cell_type": "markdown",
      "metadata": {
        "cell_id": "e61d725653de466a979c3d542e497c24",
        "deepnote_cell_height": 88.75,
        "deepnote_cell_type": "markdown",
        "tags": []
      },
      "source": "**Question 3** \n\nWhich candy had the highest `winpercent` (i.e., what is the \"best\" candy according to this data)? "
    },
    {
      "cell_type": "code",
      "execution_count": null,
      "metadata": {
        "cell_id": "9fa27ac621d6415d8bd1025a6b6edd4e",
        "deepnote_cell_type": "code",
        "deepnote_to_be_reexecuted": false,
        "execution_millis": 188,
        "execution_start": 1646928683325,
        "output_cleared": true,
        "source_hash": "d7964b21",
        "tags": [],
        "trusted": true
      },
      "outputs": [],
      "source": "# possible method\narrange(candy_rankings, desc(winpercent))\n\n# other possibilities\nhead(arrange(candy_rankings, desc(winpercent)))"
    },
    {
      "cell_type": "markdown",
      "metadata": {
        "cell_id": "11370a895c824ff0afb68dc312fe0c17",
        "deepnote_cell_height": 140.71875,
        "deepnote_cell_type": "markdown",
        "tags": []
      },
      "source": "<div class=\"alert alert-block alert-warning\">\n\n**Correct Answer**\n\nReese's Peanut Butter Cup\n\n</div>"
    },
    {
      "cell_type": "markdown",
      "metadata": {
        "cell_id": "8d4476068d6b451f9c9e1dbbefc4ca22",
        "deepnote_cell_height": 61.953125,
        "deepnote_cell_type": "markdown",
        "tags": []
      },
      "source": "### The Chocolate Model of Variation"
    },
    {
      "cell_type": "markdown",
      "metadata": {
        "cell_id": "fdda7de0f6f34eb4b381f679aa3e62af",
        "deepnote_cell_height": 97.140625,
        "deepnote_cell_type": "markdown",
        "tags": []
      },
      "source": "If we wanted to buy some treats for an upcoming event or holiday, it would be helpful to know what kind of candy people prefer. Let's test the hypothesis that candy with chocolate is preferred over candy without chocolate with the `candy_rankings` data set. "
    },
    {
      "cell_type": "markdown",
      "metadata": {
        "cell_id": "1708495f41cb4a1798f8e438f7baac57",
        "deepnote_cell_height": 88.75,
        "deepnote_cell_type": "markdown",
        "tags": []
      },
      "source": "**Question 4** \n\nMake a visualization to explore this idea and place the best fitting model onto it."
    },
    {
      "cell_type": "code",
      "execution_count": null,
      "metadata": {
        "cell_id": "ce9135a87ac64bc7aebfd1216ce46bbc",
        "deepnote_cell_type": "code",
        "deepnote_to_be_reexecuted": false,
        "execution_millis": 737,
        "execution_start": 1646929783837,
        "output_cleared": true,
        "source_hash": "4fc65925",
        "tags": [],
        "trusted": true
      },
      "outputs": [],
      "source": "# CORRECT ANSWER (many plausible)\ngf_jitter(winpercent ~ chocolate, data = candy_rankings, color = \"tan4\", size = 3, width = .2, height = 0) %>%\n    gf_model(winpercent ~ chocolate)\n\n# other possibilities\ngf_histogram(~ winpercent, data = candy_rankings, fill = \"tan4\") %>%\n    gf_facet_grid(chocolate ~ .)  %>%\n    gf_model(winpercent ~ chocolate)\n\ngf_boxplot(winpercent ~ chocolate, data = candy_rankings, color = \"tan4\", width = .4)  %>%\n    gf_model(winpercent ~ chocolate)"
    },
    {
      "cell_type": "markdown",
      "metadata": {
        "cell_id": "8edbdfb860d341328997c2962d1c870b",
        "deepnote_cell_height": 257.53125,
        "deepnote_cell_type": "markdown",
        "tags": []
      },
      "source": "**Question 5** \n\nBelow we have found the best fitting values for the chocolate model and depicted the model in the visualization. Which of these correctly represents this model in GLM notation?\n\nA) $chocolate_i = 18.78 + 42.14(winpercent_i) + e_i$\n\nB) $winpercent_i = 18.78 + 42.14(chocolate_i) + e_i$\n\nC) $winpercent_i = 42.14 + 18.78(chocolate_i) + e_i$\n\nD) $chocolate_i = 18.78 + 42.14(winpercent_i) + e_i$"
    },
    {
      "cell_type": "code",
      "execution_count": null,
      "metadata": {
        "cell_id": "b2f3195accc14efc89dc96bd09d65149",
        "deepnote_cell_type": "code",
        "deepnote_to_be_reexecuted": false,
        "execution_millis": 2,
        "execution_start": 1646930206068,
        "output_cleared": true,
        "source_hash": "ebca0819",
        "tags": [],
        "trusted": true
      },
      "outputs": [],
      "source": "lm(winpercent ~ chocolate, data = candy_rankings)"
    },
    {
      "cell_type": "markdown",
      "metadata": {
        "cell_id": "9c0a337bda8f4c7e904b5caf3465ff3d",
        "deepnote_cell_height": 140.9375,
        "deepnote_cell_type": "markdown",
        "tags": []
      },
      "source": "<div class=\"alert alert-block alert-warning\">\n\n**Correct Answer**\n\nC) $winpercent_i = 42.14 + 18.78(chocolate_i) + e_i$\n\n</div>"
    },
    {
      "cell_type": "markdown",
      "metadata": {
        "cell_id": "6d8153a45a824ab89c08a25055a41ded",
        "deepnote_cell_height": 111.34375,
        "deepnote_cell_type": "markdown",
        "tags": []
      },
      "source": "**Question 6**  \n\nShould the chocolate variable be included in the model of the DGP? (In other words, can we reject the idea that $\\beta_1 = 0$ and there is no effect of chocolate in the DGP?) Why or why not?"
    },
    {
      "cell_type": "code",
      "execution_count": null,
      "metadata": {
        "cell_id": "f5d71dce663a4b9aab7a823c53a30f65",
        "deepnote_cell_type": "code",
        "deepnote_to_be_reexecuted": false,
        "execution_millis": 4602,
        "execution_start": 1646930456744,
        "output_cleared": true,
        "source_hash": "694905b4",
        "tags": [],
        "trusted": true
      },
      "outputs": [],
      "source": "#ANSWER\n\n# one possibility\nchocolate_model <- lm(winpercent ~ chocolate, data = candy_rankings)\nsupernova(chocolate_model)\n\n# students may opt to create a sampling distribution in lieu of using supernova\n# they can create a sampling distribution of F (e.g., ch 10)\nsdof <- do(1000) * fVal(winpercent ~ shuffle(chocolate), data = candy_rankings)\ngf_histogram(~ fVal, data = sdof, fill = ~lower(fVal, .95)) %>%\ngf_point(0 ~ fVal(winpercent ~ chocolate, data = candy_rankings), color = \"black\")\n\n# they can create a sampling distribution of b1 (e.g., ch 9)\nsdob1 <- do(1000) * b1(winpercent ~ shuffle(chocolate), data = candy_rankings)\ngf_histogram(~ b1, data = sdob1, fill = ~middle(b1, .95)) %>%\ngf_point(0 ~ b1(chocolate_model), color = \"black\")"
    },
    {
      "cell_type": "markdown",
      "metadata": {
        "cell_id": "bf0a6043e74e4e8a90c72621e793e627",
        "deepnote_cell_height": 207.90625,
        "deepnote_cell_type": "markdown",
        "tags": []
      },
      "source": "<div class=\"alert alert-block alert-warning\">\n\n**Correct Answer**\n\nYes, the model of the DGP should include chocolate as a variable. (Why?) The sample F (or PRE or b1) is unlikely to be generated by empty model of the DGP. (Students may cite the p-value or that the sample statistic is in the unlikely area of the sampling distribution as further evidence.)\n\n</div>"
    },
    {
      "cell_type": "markdown",
      "metadata": {
        "cell_id": "678fb8a108ee4800909389fc602d085e",
        "deepnote_cell_height": 61.953125,
        "deepnote_cell_type": "markdown",
        "tags": []
      },
      "source": "### The Sugar Model of Variation"
    },
    {
      "cell_type": "markdown",
      "metadata": {
        "cell_id": "c5200ca734ce4f2f85a5c3125eef6362",
        "deepnote_cell_height": 111.140625,
        "deepnote_cell_type": "markdown",
        "tags": []
      },
      "source": "Perhaps it's really just a matter of how much sugar is in the candy, and those with more sugar will be favored more. Let's put it to the test.\n\nHere is a visualization with the best fitting model on it."
    },
    {
      "cell_type": "code",
      "execution_count": null,
      "metadata": {
        "cell_id": "137ed4b82aa14690845ad5d550ebb039",
        "deepnote_cell_type": "code",
        "deepnote_to_be_reexecuted": false,
        "execution_millis": 216,
        "execution_start": 1646929890300,
        "output_cleared": true,
        "source_hash": "f3523c40",
        "tags": [],
        "trusted": true
      },
      "outputs": [],
      "source": "gf_point(winpercent ~ sugarpercent, data = candy_rankings) %>% \n  gf_lm()"
    },
    {
      "cell_type": "markdown",
      "metadata": {
        "cell_id": "1865da4474644a8487849c49ae45868f",
        "deepnote_cell_height": 111.140625,
        "deepnote_cell_type": "markdown",
        "tags": []
      },
      "source": "**Question 7**\n\nFind the parameter estimates of the best fitting model predicting `winpercent` with `sugarpercent`. Write the model in GLM notation."
    },
    {
      "cell_type": "code",
      "execution_count": null,
      "metadata": {
        "cell_id": "75dd05c293874983b28b7098c94515d2",
        "deepnote_cell_type": "code",
        "deepnote_to_be_reexecuted": false,
        "execution_millis": 18,
        "execution_start": 1646929946237,
        "output_cleared": true,
        "source_hash": "4482c099",
        "tags": [],
        "trusted": true
      },
      "outputs": [],
      "source": "lm(winpercent ~ sugarpercent, data = candy_rankings)"
    },
    {
      "cell_type": "markdown",
      "metadata": {
        "cell_id": "a1f0124880774e6391a278b6253a9279",
        "deepnote_cell_height": 191.921875,
        "deepnote_cell_type": "markdown",
        "tags": []
      },
      "source": "<div class=\"alert alert-block alert-warning\">\n\n**Possible Correct Answers**\n\n- Yi = 44.61 + 0.12Xi + ei\n- $Y_i = 44.61 + 0.12X_i + e_i$\n- $winpercent_i = 44.61 + 0.12(sugarpercent_i) + e_i$\n\n\n</div>"
    },
    {
      "cell_type": "markdown",
      "metadata": {
        "cell_id": "1ae7aa2ea7064840839eb88fda291b8c",
        "deepnote_cell_height": 88.953125,
        "deepnote_cell_type": "markdown",
        "tags": []
      },
      "source": "**Question 8**\n\nInterpret the $b_1$ -- what does this number mean in the context of `winpercent` and `sugarpercent`?"
    },
    {
      "cell_type": "markdown",
      "metadata": {
        "cell_id": "f827c381961d4a639b0a1d37bf56c06c",
        "deepnote_cell_height": 163.328125,
        "deepnote_cell_type": "markdown",
        "tags": []
      },
      "source": "<div class=\"alert alert-block alert-warning\">\n\n**Correct Answer**\n\nThe $b_1$ (.12) means that for every additional sugar percent, the model adds .12 to the predicted winpercent for that candy.\n\n</div>"
    },
    {
      "cell_type": "markdown",
      "metadata": {
        "cell_id": "e2acaefd7b5c4119b1ebe960b7b10fc3",
        "deepnote_cell_height": 88.75,
        "deepnote_cell_type": "markdown",
        "tags": []
      },
      "source": "**Question 9** \n\nWhat would be the predicted `winpercent` for a candy that had 0% sugar?"
    },
    {
      "cell_type": "markdown",
      "metadata": {
        "cell_id": "78739fc706354d3e9e17e87c6c4d80e8",
        "deepnote_cell_height": 140.9375,
        "deepnote_cell_type": "markdown",
        "tags": []
      },
      "source": "<div class=\"alert alert-block alert-warning\">\n\n**Correct Answer**\n\nIt would predict the intercept, or $b_0 = 44.61$, or $b_0 + 0.12(0)$.\n\n\n</div>"
    },
    {
      "cell_type": "markdown",
      "metadata": {
        "cell_id": "ae0f2ddd5e4348aaa580ae20ec8605cb",
        "deepnote_cell_height": 150.421875,
        "deepnote_cell_type": "markdown",
        "tags": []
      },
      "source": "## Evaluating Single Predictor Models (the `chocolate` model and the `sugarpercent` model)"
    },
    {
      "cell_type": "markdown",
      "metadata": {
        "cell_id": "ae84cd65dcc5406199e5439e7c9c6651",
        "deepnote_cell_height": 111.140625,
        "deepnote_cell_type": "markdown",
        "tags": []
      },
      "source": "**Question 10** \n\nWhich of these two models (the chocolate model or the sugar percent model) explains\nmore variation in `winpercent`? Explain how you decided this."
    },
    {
      "cell_type": "code",
      "execution_count": null,
      "metadata": {
        "cell_id": "af30dc1a01bb4dc2844b35463f12769c",
        "deepnote_cell_type": "code",
        "deepnote_to_be_reexecuted": true,
        "execution_millis": 61,
        "execution_start": 1646240140158,
        "output_cleared": true,
        "source_hash": "122594e3",
        "tags": [],
        "trusted": true
      },
      "outputs": [],
      "source": "# CORRECT ANSWER\nchoc_model <- lm(winpercent ~ chocolate, data = candy_rankings)\nsupernova(choc_model)\n\nsugar_model <- lm(winpercent ~ sugarpercent, data = candy_rankings)\nsupernova(sugar_model)"
    },
    {
      "cell_type": "markdown",
      "metadata": {
        "cell_id": "6ae0dfe3163849749fa74a959106a696",
        "deepnote_cell_height": 258.6875,
        "deepnote_cell_type": "markdown",
        "tags": []
      },
      "source": "<div class=\"alert alert-block alert-warning\">\n\n**Possible Correct Answers**\n\n- The chocolate model explains much more variation because the PRE (41%) is bigger than the sugar percent model (5%).\n- ...because the chocolate model has a much bigger F (56) than the sugar percent model (4.6).\n- ...because the chocolate model has a much bigger SS Model (roughly 7000) than the sugar percent model (about 1000).\n\n</div>"
    },
    {
      "cell_type": "markdown",
      "metadata": {
        "cell_id": "15f05d332f97418eb36609f818dcee05",
        "deepnote_cell_height": 69.96875,
        "deepnote_cell_type": "markdown",
        "tags": []
      },
      "source": "## Even More Complex Models"
    },
    {
      "cell_type": "markdown",
      "metadata": {
        "cell_id": "6f7ae422d1704ac6bc4ec743968751ab",
        "deepnote_cell_height": 111.140625,
        "deepnote_cell_type": "markdown",
        "tags": []
      },
      "source": "To explain more of the variation in `winpercent`, let's create a multivariate model that includes both of these explanatory variables in a single model: `chocolate` and `sugarpercent`. \n\nWe have created a visualization and put the best fitting multivariate model on it for you."
    },
    {
      "cell_type": "code",
      "execution_count": null,
      "metadata": {
        "cell_id": "bc6b221d2b0041189f7eddd94ab19982",
        "deepnote_cell_type": "code",
        "deepnote_to_be_reexecuted": false,
        "execution_millis": 332,
        "execution_start": 1646931548074,
        "output_cleared": true,
        "source_hash": "92ed745a",
        "tags": [],
        "trusted": true
      },
      "outputs": [],
      "source": "gf_point(winpercent~sugarpercent, data = candy_rankings, color = ~chocolate) %>%\n    gf_model(winpercent ~ sugarpercent + chocolate)"
    },
    {
      "cell_type": "markdown",
      "metadata": {
        "cell_id": "7b7e9b64517b4a34938efbcbd96db4c3",
        "deepnote_cell_height": 111.140625,
        "deepnote_cell_type": "markdown",
        "tags": []
      },
      "source": "**Question 11**\n\nFind the parameter estimates for the best fitting model and fill in the GLM equation partially written for you below."
    },
    {
      "cell_type": "code",
      "execution_count": null,
      "metadata": {
        "cell_id": "6ac87a3316d9423488b2b744a833169f",
        "deepnote_cell_type": "code",
        "deepnote_to_be_reexecuted": false,
        "execution_millis": 3,
        "execution_start": 1646931662048,
        "output_cleared": true,
        "source_hash": "3fc522ca",
        "tags": [],
        "trusted": true
      },
      "outputs": [],
      "source": "# correct answer\nlm(winpercent ~ chocolate + sugarpercent, data = candy_rankings)"
    },
    {
      "cell_type": "markdown",
      "metadata": {
        "cell_id": "50c37172b1e84841a4d42024303a1d29",
        "deepnote_cell_height": 88.953125,
        "deepnote_cell_type": "markdown",
        "tags": []
      },
      "source": "Fill in the following with the appropriate parameter estimates.\n\n$Y_i = b_0 + b_1X_{1i} + b_2X_{2i} + e_i$"
    },
    {
      "cell_type": "markdown",
      "metadata": {
        "cell_id": "000fefbdb7544de884ea9aab7a755bd1",
        "deepnote_cell_height": 140.9375,
        "deepnote_cell_type": "markdown",
        "tags": []
      },
      "source": "<div class=\"alert alert-block alert-warning\">\n\n**Correct Answer**\n\n- $Y_i = 38.26 + 18.27X_{1i} + .09X_{2i} + e_i$\n\n</div>"
    },
    {
      "cell_type": "markdown",
      "metadata": {
        "cell_id": "2c17300b513d4074bce1c31973098115",
        "deepnote_cell_height": 88.953125,
        "deepnote_cell_type": "markdown",
        "tags": []
      },
      "source": "**Question 12**\n\nInterpret the three parameter estimates $b_0$, $b_1$, and $b_2$."
    },
    {
      "cell_type": "markdown",
      "metadata": {
        "cell_id": "c59f6129cdc84672a4b0fb70e1ab10d5",
        "deepnote_cell_height": 338.703125,
        "deepnote_cell_type": "markdown",
        "tags": []
      },
      "source": "<div class=\"alert alert-block alert-warning\">\n\n**Correct Answer**\n\n- $b_0$ is the predicted `winpercent` for a non-chocolate candy with 0% sugar.\n- $b_1$ is the increment to add to predicted `winpercent` for a chocolate candy.\n- $b_2$ is the increment to add to predicted `winpercent` for each additional percent of sugar.\n\nAnother possible set of correct interpretations might put these numbers in context of the model lines:\n\n- $b_0$ is y-intercept for non-chocolate line (red).\n- $b_1$ is the distance between the two lines (red and gold).\n- $b_2$ is the slope of the lines.\n</div>"
    },
    {
      "cell_type": "markdown",
      "metadata": {
        "cell_id": "a6e064cdb48d40c1af6c3239c5d1129a",
        "deepnote_cell_height": 256.71875,
        "deepnote_cell_type": "markdown",
        "tags": []
      },
      "source": "**Question 13** \n\nBased on the model, what would you predict the `winpercent` to be for a candy that contains chocolate?\n\nA) 38.26 + 18.27\n\nB) 38.26 + 18.27 + .086\n\nC) 38.26 + 18.27 + .086*sugarpercent\n\nD) We can’t tell from the output "
    },
    {
      "cell_type": "markdown",
      "metadata": {
        "cell_id": "275dc9c2e3b14cf7b1318f3402195647",
        "deepnote_cell_height": 140.71875,
        "deepnote_cell_type": "markdown",
        "tags": []
      },
      "source": "<div class=\"alert alert-block alert-warning\">\n\n**Correct Answer**\n\nC) 38.26 + 18.27 + .086*sugarpercent\n\n</div>"
    },
    {
      "cell_type": "markdown",
      "metadata": {
        "cell_id": "ead6cb70bcdf4c29a56482b3e4fd030d",
        "deepnote_cell_height": 111.140625,
        "deepnote_cell_type": "markdown",
        "tags": []
      },
      "source": "**Question 14** \n\nCompare the PRE for the three models: the chocolate model, the sugarpercent model, and the multivariate model. Which model reduces the most error? "
    },
    {
      "cell_type": "code",
      "execution_count": null,
      "metadata": {
        "cell_id": "84caa3a94e1c41e080da879a8b16508f",
        "deepnote_cell_type": "code",
        "deepnote_to_be_reexecuted": false,
        "execution_millis": 51,
        "execution_start": 1646932449940,
        "output_cleared": true,
        "source_hash": "ba48c02f",
        "tags": [],
        "trusted": true
      },
      "outputs": [],
      "source": "# showing the work\nchoc_model <- lm(winpercent ~ chocolate, data=candy_rankings)\nsupernova(choc_model)\n\nsugar_model <- lm(winpercent ~ sugarpercent, data=candy_rankings)\nsupernova(sugar_model)\n\ntwopredictor_model <- lm(winpercent ~ chocolate + sugarpercent, data=candy_rankings)\nsupernova(twopredictor_model)"
    },
    {
      "cell_type": "markdown",
      "metadata": {
        "cell_id": "38a2a2448ad4450f9f76cb3a2252d63c",
        "deepnote_cell_height": 199.515625,
        "deepnote_cell_type": "markdown",
        "tags": []
      },
      "source": "<div class=\"alert alert-block alert-warning\">\n\n**Correct Answer**\n\nMultivariate model. \n\n*Note: The multivariate model has the highest PRE (~43%), thus, it has the least amount of unexplained error.*\n\n</div>"
    },
    {
      "cell_type": "markdown",
      "metadata": {
        "cell_id": "add3aaad7ca543cdb7e5637c5eaf40fd",
        "deepnote_cell_height": 133.53125,
        "deepnote_cell_type": "markdown"
      },
      "source": "**Question 15**\n\nWhy are the PREs for the individual variables different in the ANOVA table for the one-predictor model versus the multivariate model? For example, the PRE for chocolate is .4052 in the one-predictor model and .4005 in the multivariate model."
    },
    {
      "cell_type": "markdown",
      "metadata": {
        "cell_id": "9a460910851d44dca84136a99b39637f",
        "deepnote_cell_height": 221.90625,
        "deepnote_cell_type": "markdown"
      },
      "source": "<div class=\"alert alert-block alert-warning\">\n\n**Correct Answer**\n\nThe PRE for the one-predictor model gives us the proportion reduction in error relative to the total error in win percent (SS Total).\n    \nThe PRE for chocolate in the multivariate model gives us the proportion reduction in error that has taken out any variation in winpercent and chocolate that is unrelated to sugar percent. \n\n</div>"
    },
    {
      "cell_type": "markdown",
      "metadata": {
        "cell_id": "788fcb8a35674361b072aaff90504ba4",
        "deepnote_cell_height": 238.734375,
        "deepnote_cell_type": "markdown",
        "tags": []
      },
      "source": "**Question 16**\n\nAccording to the ANOVA table and assuming that we will set an alpha ($\\alpha$) of .05, which model or models of the DGP should we reject? Put an (X) in front of the models that we should reject.\n\n- ( ) $winpercent_i = \\beta_0 + \\epsilon_i$\n- ( ) $winpercent_i = \\beta_0 + \\beta_1chocolate_i + \\epsilon_i$\n- ( ) $winpercent_i = \\beta_0 + \\beta_2sugar_i  + \\epsilon_i$\n- ( ) $winpercent_i = \\beta_0 + \\beta_1chocolate_i + \\beta_2sugar_i + \\epsilon_i$\n"
    },
    {
      "cell_type": "markdown",
      "metadata": {
        "cell_id": "716b574676744b5b8c86dd1682b142ce",
        "deepnote_cell_height": 217.71875,
        "deepnote_cell_type": "markdown",
        "deepnote_to_be_reexecuted": false,
        "execution_millis": 2,
        "execution_start": 1646933688008,
        "source_hash": "337e7c6e",
        "tags": []
      },
      "source": "<div class=\"alert alert-block alert-warning\">\n\n**Correct Answer**\n\n- (X) $winpercent_i = \\beta_0 + \\epsilon_i$\n- ( ) $winpercent_i = \\beta_0 + \\beta_1chocolate_i + \\epsilon_i$\n- (X) $winpercent_i = \\beta_0 + \\beta_2sugar_i  + \\epsilon_i$\n- ( ) $winpercent_i = \\beta_0 + \\beta_1chocolate_i + \\beta_2sugar_i + \\epsilon_i$\n\n</div>"
    },
    {
      "cell_type": "markdown",
      "metadata": {
        "cell_id": "d7d9464a7fa04a3a98c97bfd519b6b84",
        "deepnote_cell_height": 111.140625,
        "deepnote_cell_type": "markdown",
        "tags": []
      },
      "source": "**Question 17**\n\nBased on all this analysis, which model is the best model of the DGP (the one that reduces as much error as possible as simply as possible)? Estimate the 95% confidence interval for that model."
    },
    {
      "cell_type": "code",
      "execution_count": null,
      "metadata": {
        "cell_id": "2479809ce8f74a8a8fae1ef98fa7388a",
        "deepnote_cell_type": "code",
        "deepnote_to_be_reexecuted": false,
        "execution_millis": 30,
        "execution_start": 1646933862984,
        "output_cleared": true,
        "source_hash": "8ed2507b",
        "tags": [],
        "trusted": true
      },
      "outputs": [],
      "source": "# answer\nchoc_model <- lm(winpercent ~ chocolate, data = candy_rankings)\nconfint(choc_model)"
    },
    {
      "cell_type": "markdown",
      "metadata": {
        "cell_id": "666b5f1f5615459d9f2cc6054417dd23",
        "deepnote_cell_height": 111.140625,
        "deepnote_cell_type": "markdown"
      },
      "source": "**Question 18**\n\nInterpret the 95% confidence intervals for the parameters in the model you selected in the previous question. "
    },
    {
      "cell_type": "markdown",
      "metadata": {
        "cell_id": "bae9eabca8ad467a9390796f58d2cc93",
        "deepnote_cell_height": 306.484375,
        "deepnote_cell_type": "markdown"
      },
      "source": "<div class=\"alert alert-block alert-warning\">\n\n$\\beta_0$: We are 95% confident that *the true mean winpercent for a non-chocolate candy* is between 38.86 and 45.42.\n\n$\\beta_1$: We are 95% confident that *the true increment to add on to `winpercent` for a candy with chocolate* is between 13.81 and 23.75.\n\nAlternative wordings (we've italicized the part that differs):\n- We are 95% confident that *the true relationship between chocolate and winpercent*...\n- We are 95% confident that *the true difference between non-chocolate and chocolate candies*...\n    \n</div>"
    }
  ],
  "metadata": {
    "deepnote_notebook_id": "c301ff9b239a472380e67f61457f36d9",
    "kernelspec": {
      "display_name": "R",
      "language": "R",
      "name": "ir"
    },
    "language_info": {
      "codemirror_mode": "r",
      "file_extension": ".r",
      "mimetype": "text/x-r-source",
      "name": "R",
      "pygments_lexer": "r",
      "version": "4.3.3"
    },
    "nbsimplegrader": {
      "publish_config": {
        "classes": [],
        "options": [],
        "tools": []
      }
    }
  },
  "nbformat": 4,
  "nbformat_minor": 1
}