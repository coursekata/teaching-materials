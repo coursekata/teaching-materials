{
  "cells": [
    {
      "cell_type": "markdown",
      "metadata": {
        "cell_id": "60f50416cbfc4fbbae645f6b00356632",
        "deepnote_cell_height": 146.953125,
        "deepnote_cell_type": "markdown",
        "tags": []
      },
      "source": "# Ch 1-14 Test: Advanced Models\n"
    },
    {
      "cell_type": "code",
      "execution_count": null,
      "metadata": {
        "cell_id": "39627e8811fe40b49b7d4c5c316017cd",
        "deepnote_cell_type": "code",
        "deepnote_to_be_reexecuted": false,
        "execution_millis": 39,
        "execution_start": 1646928976483,
        "output_cleared": true,
        "source_hash": "15c2742c",
        "tags": [],
        "trusted": true
      },
      "outputs": [],
      "source": "# Load the CourseKata library\nsuppressPackageStartupMessages({\n    library(coursekata)\n})\ncandy_rankings <- fivethirtyeight::candy_rankings %>%\n                mutate(nutty = peanutyalmondy, sugarpercent = sugarpercent * 100,\n                    chocolate = as.factor(chocolate),\n                    fruity = as.factor(fruity),\n                    nutty = as.factor(nutty), \n                    hard = as.factor(hard), \n                    bar = as.factor(hard)) %>%\n                select(competitorname, winpercent, chocolate, fruity, nutty, hard, bar, sugarpercent, pricepercent)\n\n\n"
    },
    {
      "cell_type": "markdown",
      "metadata": {
        "cell_id": "8648755d335f4cd5996b47e7d6143365",
        "deepnote_cell_height": 499.015625,
        "deepnote_cell_type": "markdown",
        "tags": []
      },
      "source": "*FiveThirtyEight* conducted an online study.  Participants were shown two candies at a time (randomly selected from a collection of 85 different Halloween candies) and were asked to state which of the two they would prefer. The results are in a data frame called `candy_rankings`, a data frame with 85 rows and 9 variables. (The original data frame had more variables; we have reduced it for convenience.)\n\nThe variables are:\n\n- `competitorname` the name of the Halloween candy\n- `winpercent` indicates the overall popularity of each candy measured as the percentage of times the candy was chosen over other candies across 269,000 matchups\n- `chocolate` whether the candy contains chocolate (coded TRUE or FALSE)\n- `fruity` whether the candy contains fruit (coded TRUE or FALSE)\n- `nutty` whether the candy contains peanuts, peanut butter, or almonds (coded TRUE or FALSE)\n- `hard` whether the candy is a hard candy (coded TRUE or FALSE)\n- `bar` whether the candy is a bar (coded TRUE or FALSE)\n- `sugarpercent` The amount of sugar in the candy (measured as a percentile in comparison to all the other candies)\n- `pricepercent` The price of the candy (measured as a percentile in comparison to all the other candies)"
    },
    {
      "cell_type": "markdown",
      "metadata": {
        "cell_id": "26f0cf68d49a47ff9890af1d24ff828e",
        "deepnote_cell_height": 61.953125,
        "deepnote_cell_type": "markdown",
        "tags": []
      },
      "source": "### Explore Variation"
    },
    {
      "cell_type": "markdown",
      "metadata": {
        "cell_id": "11416f5efb434a3b985fe44390ac63ba",
        "deepnote_cell_height": 88.75,
        "deepnote_cell_type": "markdown",
        "tags": []
      },
      "source": "**Question 1** \n\nUse R to look at the first six lines of this data frame. What are the cases in this data frame?"
    },
    {
      "cell_type": "markdown",
      "metadata": {
        "cell_id": "964f024a987e40d6a4de40d5c8606b86",
        "deepnote_cell_height": 133.53125,
        "deepnote_cell_type": "markdown",
        "tags": []
      },
      "source": "**Question 2** \n\nMake a visualization to look at the variation in `winpercent` (what percentage of time a particular candy won when matched up against other candies in a head-to-head contest). Describe the shape, center, and spread of this distribution."
    },
    {
      "cell_type": "markdown",
      "metadata": {
        "cell_id": "d4924472dfe2453591100bc37e1ada92",
        "deepnote_cell_height": 88.75,
        "deepnote_cell_type": "markdown",
        "tags": []
      },
      "source": "**Question 3** \n\nWhich candy had the highest `winpercent` (i.e., what is the \"best\" candy according to this data)? "
    },
    {
      "cell_type": "markdown",
      "metadata": {
        "cell_id": "88f9e9853aa84b73abf190681a906b35",
        "deepnote_cell_height": 61.953125,
        "deepnote_cell_type": "markdown",
        "tags": []
      },
      "source": "### The Chocolate Model of Variation"
    },
    {
      "cell_type": "markdown",
      "metadata": {
        "cell_id": "2331b6a1059d4ac8853a6aa9c966a1c8",
        "deepnote_cell_height": 97.140625,
        "deepnote_cell_type": "markdown",
        "tags": []
      },
      "source": "If we wanted to buy some treats for an upcoming event or holiday, it would be helpful to know what kind of candy people prefer. Let's test the hypothesis that candy with chocolate is preferred over candy without chocolate with the `candy_rankings` data set. "
    },
    {
      "cell_type": "markdown",
      "metadata": {
        "cell_id": "1a5cdfb95c574330b047a925a7d4ee69",
        "deepnote_cell_height": 88.75,
        "deepnote_cell_type": "markdown",
        "tags": []
      },
      "source": "**Question 4** \n\nMake a visualization to explore this idea and place the best fitting model onto it."
    },
    {
      "cell_type": "markdown",
      "metadata": {
        "cell_id": "2ec173f448194d1db0e2feaf70bf6eb9",
        "deepnote_cell_height": 238.53125,
        "deepnote_cell_type": "markdown",
        "nbsimplegrader": {
          "config_key": "markdown.multiple-choice",
          "editable": false,
          "label": "Response: Multiple-Choice",
          "respondable": true,
          "response": null,
          "runnable": false,
          "type": "multiple-choice"
        },
        "tags": []
      },
      "source": "**Question 5** \n\nBelow we have found the best fitting values for the chocolate model and depicted the model in the visualization. Which of these correctly represents this model in GLM notation?\n\n- $chocolate_i = 18.78 + 42.14(winpercent_i) + e_i$\n\n- $winpercent_i = 18.78 + 42.14(chocolate_i) + e_i$\n\n- $winpercent_i = 42.14 + 18.78(chocolate_i) + e_i$\n\n- $chocolate_i = 18.78 + 42.14(winpercent_i) + e_i$"
    },
    {
      "cell_type": "markdown",
      "metadata": {
        "cell_id": "ef5b2a24590041fcaeea88e619528d35",
        "deepnote_cell_height": 111.34375,
        "deepnote_cell_type": "markdown",
        "tags": []
      },
      "source": "**Question 6**  \n\nShould the chocolate variable be included in the model of the DGP? (In other words, can we reject the idea that $\\beta_1 = 0$ and there is no effect of chocolate in the DGP?) Why or why not?"
    },
    {
      "cell_type": "markdown",
      "metadata": {
        "cell_id": "2e39694de835413e86325d4bb2b91a68",
        "deepnote_cell_height": 61.953125,
        "deepnote_cell_type": "markdown",
        "tags": []
      },
      "source": "### The Sugar Model of Variation"
    },
    {
      "cell_type": "markdown",
      "metadata": {
        "cell_id": "126fc80807824987a99e15390cba8cbe",
        "deepnote_cell_height": 111.140625,
        "deepnote_cell_type": "markdown",
        "tags": []
      },
      "source": "Perhaps it's really just a matter of how much sugar is in the candy, and those with more sugar will be favored more. Let's put it to the test.\n\nHere is a visualization with the best fitting model on it."
    },
    {
      "cell_type": "markdown",
      "metadata": {
        "cell_id": "9cc6928ab26a447a92c0d479aeefb61c",
        "deepnote_cell_height": 111.140625,
        "deepnote_cell_type": "markdown",
        "tags": []
      },
      "source": "**Question 7**\n\nFind the parameter estimates of the best fitting model predicting `winpercent` with `sugarpercent`. Write the model in GLM notation."
    },
    {
      "cell_type": "markdown",
      "metadata": {
        "cell_id": "0b7cbb961b4c462ca52f463c0946618a",
        "deepnote_cell_height": 88.953125,
        "deepnote_cell_type": "markdown",
        "tags": []
      },
      "source": "**Question 8**\n\nInterpret the $b_1$ -- what does this number mean in the context of `winpercent` and `sugarpercent`?"
    },
    {
      "cell_type": "markdown",
      "metadata": {
        "cell_id": "9332a00f5d2c4ebcbc7e8d969e079ac3",
        "deepnote_cell_height": 88.75,
        "deepnote_cell_type": "markdown",
        "tags": []
      },
      "source": "**Question 9** \n\nWhat would be the predicted `winpercent` for a candy that had 0% sugar?"
    },
    {
      "cell_type": "markdown",
      "metadata": {
        "cell_id": "e4f197e193b745a5b79d2ff13b685d72",
        "deepnote_cell_height": 150.421875,
        "deepnote_cell_type": "markdown",
        "tags": []
      },
      "source": "## Evaluating Single Predictor Models (the `chocolate` model and the `sugarpercent` model)"
    },
    {
      "cell_type": "markdown",
      "metadata": {
        "cell_id": "8870ee67380d490c95cf9ef24ddd91d0",
        "deepnote_cell_height": 111.140625,
        "deepnote_cell_type": "markdown",
        "tags": []
      },
      "source": "**Question 10** \n\nWhich of these two models (the chocolate model or the sugar percent model) explains\nmore variation in `winpercent`? Explain how you decided this."
    },
    {
      "cell_type": "markdown",
      "metadata": {
        "cell_id": "a41b188a842f403bb06ffd6919dc57f7",
        "deepnote_cell_height": 69.96875,
        "deepnote_cell_type": "markdown",
        "tags": []
      },
      "source": "## Even More Complex Models"
    },
    {
      "cell_type": "markdown",
      "metadata": {
        "cell_id": "10ecebdeb8564fc8b1e7a18bf0e8c837",
        "deepnote_cell_height": 111.140625,
        "deepnote_cell_type": "markdown",
        "tags": []
      },
      "source": "To explain more of the variation in `winpercent`, let's create a multivariate model that includes both of these explanatory variables in a single model: `chocolate` and `sugarpercent`. \n\nWe have created a visualization and put the best fitting multivariate model on it for you."
    },
    {
      "cell_type": "markdown",
      "metadata": {
        "cell_id": "3515e810292c403a87fbe1d4d3bed5c1",
        "deepnote_cell_height": 111.140625,
        "deepnote_cell_type": "markdown",
        "tags": []
      },
      "source": "**Question 11**\n\nFind the parameter estimates for the best fitting model and fill in the GLM equation partially written for you below."
    },
    {
      "cell_type": "markdown",
      "metadata": {
        "cell_id": "fb02b9e2ad104d4ba0d1e5a58c7004f4",
        "deepnote_cell_height": 88.953125,
        "deepnote_cell_type": "markdown",
        "tags": []
      },
      "source": "Fill in the following with the appropriate parameter estimates.\n\n$Y_i = b_0 + b_1X_{1i} + b_2X_{2i} + e_i$"
    },
    {
      "cell_type": "markdown",
      "metadata": {
        "cell_id": "c8a17e31f5dd42aabe965687f4cdb7b0",
        "deepnote_cell_height": 88.953125,
        "deepnote_cell_type": "markdown",
        "tags": []
      },
      "source": "**Question 12**\n\nInterpret the three parameter estimates $b_0$, $b_1$, and $b_2$."
    },
    {
      "cell_type": "markdown",
      "metadata": {
        "cell_id": "db19d4126121429bb96350d2bcc9e3c7",
        "deepnote_cell_height": 237.703125,
        "deepnote_cell_type": "markdown",
        "nbsimplegrader": {
          "config_key": "markdown.multiple-choice",
          "editable": false,
          "label": "Response: Multiple-Choice",
          "respondable": true,
          "response": null,
          "runnable": false,
          "type": "multiple-choice"
        },
        "tags": []
      },
      "source": "**Question 13** \n\nBased on the model, what would you predict the `winpercent` to be for a candy that contains chocolate?\n\n- 38.26 + 18.27\n\n- 38.26 + 18.27 + .086\n\n- 38.26 + 18.27 + .086*sugarpercent\n\n- We can’t tell from the output "
    },
    {
      "cell_type": "markdown",
      "metadata": {
        "cell_id": "68bad7c759b94f5cb110678b870bb711",
        "deepnote_cell_height": 111.140625,
        "deepnote_cell_type": "markdown",
        "tags": []
      },
      "source": "**Question 14** \n\nCompare the PRE for the three models: the chocolate one-predictor model, the sugarpercent one-predictor model, and the multivariate model. Which model reduces the most error? "
    },
    {
      "cell_type": "markdown",
      "metadata": {
        "cell_id": "fb3e94aab2d1448bb04ce66126a50743",
        "deepnote_cell_height": 133.53125,
        "deepnote_cell_type": "markdown"
      },
      "source": "**Question 15**\n\nWhy are the PREs for the individual variables different in the ANOVA table for the one-predictor model versus the multivariate model? For example, the PRE for chocolate is .4052 in the one-predictor model and .4005 in the multivariate model."
    },
    {
      "cell_type": "markdown",
      "metadata": {
        "cell_id": "661022dc6363450c8588e19e8b70ed87",
        "deepnote_cell_height": 238.734375,
        "deepnote_cell_type": "markdown",
        "tags": []
      },
      "source": "**Question 16**\n\nAccording to the ANOVA table and assuming that we will set an alpha ($\\alpha$) of .05, which model or models of the DGP should we reject? Put an (X) in front of the models that we should reject.\n\n- ( ) $winpercent_i = \\beta_0 + \\epsilon_i$\n- ( ) $winpercent_i = \\beta_0 + \\beta_1chocolate_i + \\epsilon_i$\n- ( ) $winpercent_i = \\beta_0 + \\beta_2sugar_i  + \\epsilon_i$\n- ( ) $winpercent_i = \\beta_0 + \\beta_1chocolate_i + \\beta_2sugar_i + \\epsilon_i$\n"
    },
    {
      "cell_type": "markdown",
      "metadata": {
        "cell_id": "bdc37dd0cbcd4992850c0084c7599655",
        "deepnote_cell_height": 111.140625,
        "deepnote_cell_type": "markdown",
        "tags": []
      },
      "source": "**Question 17**\n\nBased on all this analysis, which model is the best model of the DGP (the one that reduces as much error as possible as simply as possible)? Estimate the 95% confidence interval for that model."
    },
    {
      "cell_type": "markdown",
      "metadata": {
        "cell_id": "7eee0b5e73964534baea5d9e9ffcf770",
        "deepnote_cell_height": 111.140625,
        "deepnote_cell_type": "markdown"
      },
      "source": "**Question 18**\n\nInterpret the 95% confidence intervals for the parameters in the model you selected in the previous question. "
    }
  ],
  "metadata": {
    "deepnote_notebook_id": "6ec844238d764b66bb4562443b880348",
    "kernelspec": {
      "display_name": "R",
      "language": "R",
      "name": "ir"
    },
    "language_info": {
      "codemirror_mode": "r",
      "file_extension": ".r",
      "mimetype": "text/x-r-source",
      "name": "R",
      "pygments_lexer": "r",
      "version": "4.3.3"
    },
    "nbsimplegrader": {
      "publish_config": {
        "classes": [],
        "options": [],
        "tools": []
      }
    }
  },
  "nbformat": 4,
  "nbformat_minor": 1
}