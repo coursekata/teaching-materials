{
  "cells": [
    {
      "cell_type": "markdown",
      "metadata": {
        "cell_id": "2a6381bcd23944fcbb7fc41acdb8a988",
        "deepnote_cell_type": "markdown",
        "nbsimplegrader": {
          "config_key": "markdown.view-only",
          "editable": false,
          "label": "Markdown: View-Only",
          "respondable": false,
          "response": null,
          "runnable": false,
          "type": "markdown"
        }
      },
      "source": "<div class=\"alert alert-block alert-danger\">\n\n# <center>Test (Ch. 1): Asking R About Animals (Complete)</center> \n\n</div>"
    },
    {
      "cell_type": "code",
      "execution_count": null,
      "metadata": {
        "cell_id": "148426d1763a41f186db75cf7884a4da",
        "deepnote_cell_type": "code",
        "nbsimplegrader": {
          "config_key": "code.run-only",
          "editable": false,
          "label": "Code: Run-Only",
          "respondable": false,
          "response": null,
          "runnable": true,
          "type": "code"
        },
        "trusted": true
      },
      "outputs": [],
      "source": "# Run this code to load the required packages\nsuppressMessages(suppressWarnings(suppressPackageStartupMessages({\n  library(coursekata)\n})))"
    },
    {
      "cell_type": "markdown",
      "metadata": {
        "cell_id": "a573bcde0226429a9fb35d74e57159d8",
        "deepnote_cell_type": "markdown",
        "nbsimplegrader": {
          "config_key": "markdown.view-only",
          "editable": false,
          "label": "Markdown: View-Only",
          "respondable": false,
          "response": null,
          "runnable": false,
          "type": "markdown"
        }
      },
      "source": "## All About Animals\n\nBelow is a table of information about various animal groups, gathered by a group of biologists. Help them put their data into R, and use it to answer some of the questions they are curious about."
    },
    {
      "cell_type": "markdown",
      "metadata": {
        "cell_id": "972e6284f57c4f8b80c1484d83bb75db",
        "deepnote_cell_type": "markdown",
        "nbsimplegrader": {
          "config_key": "markdown.view-only",
          "editable": false,
          "label": "Markdown: View-Only",
          "respondable": false,
          "response": null,
          "runnable": false,
          "type": "markdown"
        }
      },
      "source": "| Animal           | Animal Group | Avg. Weight (kg) | Habitat             | Blood Type   | Avg. Lifespan (years) | Diet                    |\n| ---------------- | ------------ | ----------- | ------------------- | ------------ | ------------- | ----------------------- |\n| African Elephant | Mammal       | 6,000     | Savanna, Forest     | Warm-blooded | 65       | Herbivore               |\n| House Cat        | Mammal       | 4.5       | Urban, Domestic     | Warm-blooded | 15       | Carnivore     |\n| Bald Eagle       | Bird         | 5.5       | Forests, Mountains  | Warm-blooded | 25       | Carnivore         |\n| Emperor Penguin  | Bird         | 30        | Antarctic Coast     | Warm-blooded | 20       | Carnivore  |\n| Komodo Dragon    | Reptile      | 80        | Islands (Indonesia) | Cold-blooded | 30       | Carnivore               |\n| Green Iguana     | Reptile      | 5         | Rainforest          | Cold-blooded | 18       | Herbivore               |\n"
    },
    {
      "cell_type": "markdown",
      "metadata": {
        "cell_id": "6fe3ca0bc1a84495a863b345ccf10638",
        "deepnote_cell_type": "markdown",
        "nbsimplegrader": {
          "config_key": "markdown.view-only",
          "editable": false,
          "label": "Markdown: View-Only",
          "respondable": false,
          "response": null,
          "runnable": false,
          "type": "markdown"
        }
      },
      "source": "### Question 1\n\nUse R to calculate the average lifespan of the birds represented in the table."
    },
    {
      "cell_type": "code",
      "execution_count": null,
      "metadata": {
        "cell_id": "e62256b228cc416baa1efb8c3ef52961",
        "deepnote_cell_type": "code",
        "nbsimplegrader": {
          "config_key": "code.response",
          "editable": true,
          "label": "Response: Code",
          "respondable": true,
          "response": null,
          "runnable": true,
          "type": "code"
        },
        "trusted": true
      },
      "outputs": [],
      "source": "# What is the average lifespan of the birds?\n\n# sample responses\n\n(25+20) / 2\n\nsum(25, 20) / 2\n\nbird_span <- c(25, 20)\nsum(bird_span)/2 "
    },
    {
      "cell_type": "markdown",
      "metadata": {
        "cell_id": "df64bcaf32004476915fba678bcc2e06",
        "deepnote_cell_type": "markdown",
        "nbsimplegrader": {
          "config_key": "markdown.view-only",
          "editable": false,
          "label": "Markdown: View-Only",
          "respondable": false,
          "response": null,
          "runnable": false,
          "type": "markdown"
        }
      },
      "source": "### Question 2\n\nCreate an R object called `weight` and save all of the weights of the animals. Then, print it out to check that it saved correctly."
    },
    {
      "cell_type": "code",
      "execution_count": null,
      "metadata": {
        "cell_id": "884e42b64ff94216a30d8c59282a06bc",
        "deepnote_cell_type": "code",
        "nbsimplegrader": {
          "config_key": "code.response",
          "editable": true,
          "label": "Response: Code",
          "respondable": true,
          "response": null,
          "runnable": true,
          "type": "code"
        },
        "trusted": true
      },
      "outputs": [],
      "source": "# Save the weights as an object called `weight`\n\n# sample response\nweight <- c(6000, 4.5, 5.5, 30, 80, 5)\nweight"
    },
    {
      "cell_type": "markdown",
      "metadata": {
        "cell_id": "38c846523c5b4c15a6189f358a2d09ff",
        "deepnote_cell_type": "markdown",
        "nbsimplegrader": {
          "config_key": "markdown.view-only",
          "editable": false,
          "label": "Markdown: View-Only",
          "respondable": false,
          "response": null,
          "runnable": false,
          "type": "markdown"
        }
      },
      "source": "### Question 3\n\nThe biologists would like to convert the weights from kilograms to pounds. Use your `weight` object to multiply the weights by 2.205 to make that conversion (1 kg = 2.205 lbs), and save that new object as `weight_lbs`. Then, print it out to check that it saved correctly."
    },
    {
      "cell_type": "code",
      "execution_count": null,
      "metadata": {
        "cell_id": "6780757391164ce1aa20dee2f8a06605",
        "deepnote_cell_type": "code",
        "nbsimplegrader": {
          "config_key": "code.response",
          "editable": true,
          "label": "Response: Code",
          "respondable": true,
          "response": null,
          "runnable": true,
          "type": "code"
        },
        "trusted": true
      },
      "outputs": [],
      "source": "# Convert weight to pounds and save as `weight_lbs`\n\n# sample response\n\nweight_lbs <- weight * 2.205\nweight_lbs"
    },
    {
      "cell_type": "markdown",
      "metadata": {
        "cell_id": "3e9c7389fc7e458eab681b45dae0e95b",
        "deepnote_cell_type": "markdown",
        "nbsimplegrader": {
          "config_key": "markdown.view-only",
          "editable": false,
          "label": "Markdown: View-Only",
          "respondable": false,
          "response": null,
          "runnable": false,
          "type": "markdown"
        }
      },
      "source": "### Question 4\n\nBased on your calculations above, what is the average weight (in pounds) of the Green Iguana?"
    },
    {
      "cell_type": "markdown",
      "metadata": {
        "cell_id": "9f8ac9ca4b6c4b7da5c686100ad1782d",
        "deepnote_cell_type": "markdown",
        "nbsimplegrader": {
          "config_key": "markdown.response",
          "editable": true,
          "label": "Response: Markdown",
          "respondable": true,
          "response": null,
          "runnable": true,
          "type": "markdown"
        }
      },
      "source": "Average weight (in pounds) of a Green Iguana:\n\n"
    },
    {
      "cell_type": "markdown",
      "metadata": {
        "cell_id": "799a935284484f6aac24ffe8a5e1d9c6",
        "deepnote_cell_type": "markdown"
      },
      "source": "<div class=\"alert alert-block alert-warning\">\n\n**Sample Response**\n\nThe average weight of a Green Iguana is 11.025 pounds.\n    \n</div>"
    },
    {
      "cell_type": "markdown",
      "metadata": {
        "cell_id": "95def8fe1104450f98189db11ad9c52f",
        "deepnote_cell_type": "markdown",
        "nbsimplegrader": {
          "config_key": "markdown.view-only",
          "editable": false,
          "label": "Markdown: View-Only",
          "respondable": false,
          "response": null,
          "runnable": false,
          "type": "markdown"
        }
      },
      "source": "### Question 5\n\nWe put the diet information for each animal into R. Use R to answer the question: Is the Green Iguana (hint: the 6th animal in this object) an \"Herbivore\"?\n\n| Animal           | Diet                     |\n| ---------------- | ----------------         | \n| African Elephant |  Herbivore               |\n| House Cat        |  Carnivore               |\n| Bald Eagle       |  Carnivore               |\n| Emperor Penguin  |  Carnivore               |\n| Komodo Dragon    |  Carnivore               |\n| Green Iguana     |  Herbivore               |\n"
    },
    {
      "cell_type": "code",
      "execution_count": null,
      "metadata": {
        "cell_id": "ccf3e38be4324026a2ace3c451df7033",
        "deepnote_cell_type": "code",
        "nbsimplegrader": {
          "config_key": "code.run-only",
          "editable": false,
          "label": "Code: Run-Only",
          "respondable": false,
          "response": null,
          "runnable": true,
          "type": "code"
        },
        "trusted": true
      },
      "outputs": [],
      "source": "# Run this code\n# This puts the diet information into an object\ndiet <- c(\"Herbivore\", \"Carnivore\", \"Carnivore\", \"Carnivore\", \"Carnivore\", \"Herbivore\")\n"
    },
    {
      "cell_type": "code",
      "execution_count": null,
      "metadata": {
        "cell_id": "42a094a7036546eeb7aff139e4d1825c",
        "deepnote_cell_type": "code",
        "nbsimplegrader": {
          "config_key": "code.response",
          "editable": true,
          "label": "Response: Code",
          "respondable": true,
          "response": null,
          "runnable": true,
          "type": "code"
        },
        "trusted": true
      },
      "outputs": [],
      "source": "# Is the 6th animal (Green Iguana) an \"Herbivore\"?\n\n# sample response\ndiet[6]==\"Herbivore\""
    },
    {
      "cell_type": "markdown",
      "metadata": {
        "cell_id": "f3303737895c4399ac97ed76d945f0d0",
        "deepnote_cell_type": "markdown",
        "nbsimplegrader": {
          "config_key": "markdown.view-only",
          "editable": false,
          "label": "Markdown: View-Only",
          "respondable": false,
          "response": null,
          "runnable": false,
          "type": "markdown"
        }
      },
      "source": "### Question 6\n\nBelow we have saved all of the lifespans for each animal. Use R to answer the question: Is the average lifespan of a `cat` greater than the average lifespan of an `iguana`?"
    },
    {
      "cell_type": "code",
      "execution_count": null,
      "metadata": {
        "cell_id": "8cab5b475d66440a95e026e0608fdbdf",
        "deepnote_cell_type": "code",
        "nbsimplegrader": {
          "config_key": "code.run-only",
          "editable": false,
          "label": "Code: Run-Only",
          "respondable": false,
          "response": null,
          "runnable": true,
          "type": "code"
        },
        "trusted": true
      },
      "outputs": [],
      "source": "# Run this code\naf_elephant <- 65\ncat <- 15\nbald_eagle <- 25\nemp_penguin <- 20\nkomodo <- 30\niguana <- 18"
    },
    {
      "cell_type": "code",
      "execution_count": null,
      "metadata": {
        "cell_id": "baad43432b824f788ba4f2b8523001a6",
        "deepnote_cell_type": "code",
        "nbsimplegrader": {
          "config_key": "code.response",
          "editable": true,
          "label": "Response: Code",
          "respondable": true,
          "response": null,
          "runnable": true,
          "type": "code"
        },
        "trusted": true
      },
      "outputs": [],
      "source": "# Is the average lifespan of a cat greater than the average lifespan of an iguana?\n\n# sample response\ncat > iguana"
    },
    {
      "cell_type": "markdown",
      "metadata": {
        "cell_id": "22f192ab02e74b368d9dddb2c52669b2",
        "deepnote_cell_type": "markdown",
        "nbsimplegrader": {
          "config_key": "markdown.view-only",
          "editable": false,
          "label": "Markdown: View-Only",
          "respondable": false,
          "response": null,
          "runnable": false,
          "type": "markdown"
        }
      },
      "source": "### Question 7\n\nTake a look at the information in the table. Which set of measurements appears to have a broader range of variation across all the animals: Weight or lifespan?"
    },
    {
      "cell_type": "markdown",
      "metadata": {
        "cell_id": "b8c3bb1822df4ce6b9f58893a4cd1b06",
        "deepnote_cell_type": "markdown",
        "nbsimplegrader": {
          "config_key": "markdown.view-only",
          "editable": false,
          "label": "Markdown: View-Only",
          "respondable": false,
          "response": null,
          "runnable": false,
          "type": "markdown"
        }
      },
      "source": "| Animal           | Animal Group | Avg. Weight (kg) | Habitat             | Blood Type   | Avg. Lifespan (years) | Diet                    |\n| ---------------- | ------------ | ----------- | ------------------- | ------------ | ------------- | ----------------------- |\n| African Elephant | Mammal       | 6,000     | Savanna, Forest     | Warm-blooded | 65       | Herbivore               |\n| House Cat        | Mammal       | 4.5       | Urban, Domestic     | Warm-blooded | 15       | Carnivore     |\n| Bald Eagle       | Bird         | 5.5       | Forests, Mountains  | Warm-blooded | 25       | Carnivore         |\n| Emperor Penguin  | Bird         | 30        | Antarctic Coast     | Warm-blooded | 20       | Carnivore  |\n| Komodo Dragon    | Reptile      | 80        | Islands (Indonesia) | Cold-blooded | 30       | Carnivore               |\n| Green Iguana     | Reptile      | 5         | Rainforest          | Cold-blooded | 18       | Herbivore               |\n"
    },
    {
      "cell_type": "markdown",
      "metadata": {
        "cell_id": "968902c03a394e308e3dbcb115ca93c1",
        "deepnote_cell_type": "markdown",
        "nbsimplegrader": {
          "config_key": "markdown.response",
          "editable": true,
          "label": "Response: Markdown",
          "respondable": true,
          "response": null,
          "runnable": true,
          "type": "markdown"
        }
      },
      "source": "Which appears to vary more: Weight or lifespan?\n\n"
    },
    {
      "cell_type": "markdown",
      "metadata": {
        "cell_id": "c9c4fd11ab2848adb710e61f6d9b1360",
        "deepnote_cell_type": "markdown",
        "nbsimplegrader": {
          "config_key": "markdown.view-only",
          "editable": false,
          "label": "Markdown: View-Only",
          "respondable": false,
          "response": null,
          "runnable": false,
          "type": "markdown"
        }
      },
      "source": "<div class=\"alert alert-block alert-warning\">\n\n**Sample Response**\n\nWeight has a broader range of variation.\n\n</div>"
    },
    {
      "cell_type": "markdown",
      "metadata": {
        "cell_id": "77a5f509e7ec425da0aff513abb8d100",
        "deepnote_cell_type": "markdown",
        "nbsimplegrader": {
          "config_key": "markdown.view-only",
          "editable": false,
          "label": "Markdown: View-Only",
          "respondable": false,
          "response": null,
          "runnable": false,
          "type": "markdown"
        }
      },
      "source": "### Question 8\n\nTake a look at the information in the table. Which set of measurements appears to have more variation across all the animals: Blood type or habitat?"
    },
    {
      "cell_type": "markdown",
      "metadata": {
        "cell_id": "6a6a1984397c456dabf015befbf9e6ed",
        "deepnote_cell_type": "markdown",
        "nbsimplegrader": {
          "config_key": "markdown.response",
          "editable": true,
          "label": "Response: Markdown",
          "respondable": true,
          "response": null,
          "runnable": true,
          "type": "markdown"
        }
      },
      "source": "Which appears to vary more: Blood type or habitat?\n\n"
    },
    {
      "cell_type": "markdown",
      "metadata": {
        "cell_id": "ddfc33b6ae0e444993771d736290e693",
        "deepnote_cell_type": "markdown"
      },
      "source": "<div class=\"alert alert-block alert-warning\">\n\n**Sample Response**\n\nHabitat varies a lot more that blood type.\n\n</div>"
    }
  ],
  "metadata": {
    "deepnote_notebook_id": "b4a87f3ed0dc4636af59cee9063926cc",
    "kernelspec": {
      "display_name": "R",
      "language": "R",
      "name": "ir"
    },
    "language_info": {
      "codemirror_mode": "r",
      "file_extension": ".r",
      "mimetype": "text/x-r-source",
      "name": "R",
      "pygments_lexer": "r",
      "version": "4.3.3"
    },
    "nbsimplegrader": {
      "publish_config": {
        "classes": [],
        "options": [],
        "tools": []
      }
    }
  },
  "nbformat": 4,
  "nbformat_minor": 1
}