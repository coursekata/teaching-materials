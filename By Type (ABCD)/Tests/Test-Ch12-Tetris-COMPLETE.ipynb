{
  "cells": [
    {
      "cell_type": "markdown",
      "metadata": {
        "cell_id": "c1fb7104b76146b8af347f82746e4d14",
        "deepnote_cell_type": "markdown"
      },
      "source": "<div class=\"alert alert-block alert-danger\">\n\n# <center>Test (Ch. 1-12): Tetris Reduces Trauma? (COMPLETE)</center> \n\n</div>"
    },
    {
      "cell_type": "code",
      "execution_count": null,
      "metadata": {
        "cell_id": "a82be0bc751644fba6fba8297650fb07",
        "deepnote_cell_type": "code",
        "execution_millis": 3201,
        "execution_start": 1603397062062,
        "output_cleared": false,
        "source_hash": "69aeb82e",
        "trusted": true
      },
      "outputs": [],
      "source": "# Run this code to load the required packages\nsuppressMessages(suppressWarnings(suppressPackageStartupMessages({\n  library(coursekata)\n})))"
    },
    {
      "cell_type": "markdown",
      "metadata": {
        "cell_id": "e52309c0ceee460687a0bc4125ebc7be",
        "deepnote_cell_type": "markdown"
      },
      "source": "Following traumatic experiences, some people have flashbacks, which are also called “intrusive memories.” Research suggests that one way to reduce intrusive memories is to try to change the memory during reconsolidation, a process that occurs immediately following reactivation of a previously formed memory. During reconsolidation, traumatic memories can be weakened to the point that they are no longer intrusive.    \n\nBecause intrusive memories are often visual, James and colleagues (2015) explored whether playing Tetris during memory reconsolidation (i.e., right after reactivation of the memory) would interfere with the storage of that memory, and thereby reduce future intrusive memories. The researchers hypothesized that participants who played Tetris after reactivation of the traumatic memories would experience fewer future intrusive memories than those who did not play Tetris.\n\nTo test their hypothesis, the authors recruited 72 participants to their study. As summarized in the table below, all participants came into the lab (**Session 1**) and watched a traumatic video that included lots of graphic violence. After watching the video, participants rated how distressing they found the video to be on a 10-point scale (`Distress`).  During the first 24 hours after watching the video, participants recorded the number of intrusive memories they experienced (`Intrusions.baseline`), a measure of their baseline level of intrusive memories.  \n\nTwenty-four hours after Session 1, participants came back into the lab for an Experimental Session. They were randomly assigned to one of four experimental conditions: \n\n- **No-task control**: Participants completed a 10-minute filler task and went home.\n\n- **Reactivation + Tetris**: Participants viewed images from the trauma film designed to reactivate the traumatic memories (i.e. reactivation task). They then played Tetris (Tetris) for 12 minutes.\n\n- **Tetris Only**: These participants played Tetris for 12 minutes, but did not view the traumatic images. \n\n- **Reactivation Only**: Participants viewed images from the trauma film designed to reactivate the traumatic memories (i.e. reactivation task), but did not play Tetris.     \n\nAfter completing the Experimental Session, participants were asked to record the number of intrusive memories they experienced for the next seven days (**Intrusions.afterExp**).   \n\n\n<img src=\"https://coursekata-course-assets.s3.us-west-1.amazonaws.com/UCLATALL/czi-stats-course/jnb_x9xp3Yg9-Test-Ch-12-Tetris-Study-Table.png\" title=\"Tetris Procedure\" width=\"900\"/>"
    },
    {
      "cell_type": "markdown",
      "metadata": {
        "cell_id": "d8b4aa7b3b374e5290ae7488c584b55a",
        "deepnote_cell_type": "markdown",
        "tags": []
      },
      "source": "Description of the variables in the data frame:\n\n- `Cond` Which condition the participant was randomly assigned to (numeric)\n- `CondName` Which condition the participant was randomly assigned to (factor)\n- `Distress` How distressing they found the video to be on a 10-point scale\n- `Intrusions.baseline` Number of intrusive memories they experienced during the first 24 hours after watching the video\n- `Intrusions.afterExp` Number of intrusive memories they experienced for the next seven days after completing the Experimental Session\n- `Tetris` Number of points the participants earned playing Tetris"
    },
    {
      "cell_type": "markdown",
      "metadata": {
        "cell_id": "14708b80ba3541388b22202009c9aef3",
        "deepnote_cell_type": "markdown"
      },
      "source": "## Question 1\n\nThe CSV file for the data frame has been loaded in the code box below. Take a look at the data."
    },
    {
      "cell_type": "code",
      "execution_count": null,
      "metadata": {
        "cell_id": "0ac6d082279a425fb2489f8347a19007",
        "deepnote_cell_type": "code",
        "execution_millis": 1480,
        "execution_start": 1603397837908,
        "output_cleared": true,
        "source_hash": null,
        "trusted": true
      },
      "outputs": [],
      "source": "# Take a look at the data \nTetris <- read.csv(\"https://docs.google.com/spreadsheets/d/e/2PACX-1vSK1X_R2o26xBl_kRO3yy5awpMHOTuMn76p8jDTi_CGjYM1_ykb5o9zpxPXhddI6A/pub?output=csv\", header = TRUE)\nhead(Tetris)\nstr(Tetris)"
    },
    {
      "cell_type": "markdown",
      "metadata": {
        "cell_id": "49e33b699feb489586e0723e3a98a170",
        "deepnote_cell_type": "markdown"
      },
      "source": "## Question 2\n\nWhat do you think a value of -9999 means for the `Tetris` variable?"
    },
    {
      "cell_type": "markdown",
      "metadata": {
        "cell_id": "8be4bf287c59448b8db7fcabbb6eb806",
        "deepnote_cell_type": "markdown",
        "tags": []
      },
      "source": "<div class=\"alert alert-block alert-warning\">\n\n**Sample Response**\n\nThe values that are -9999 are for those in the conditions that did not play Tetris, so they do not have a Tetris score.\n\n</div>"
    },
    {
      "cell_type": "markdown",
      "metadata": {
        "cell_id": "01c4873b4878421aa79406f82c636594",
        "deepnote_cell_type": "markdown"
      },
      "source": "### What You have Learned about Exploring Variation"
    },
    {
      "cell_type": "markdown",
      "metadata": {
        "cell_id": "683f0e48642c4c988d570719038c9bce",
        "deepnote_cell_type": "markdown"
      },
      "source": "## Question 3\n\nWhat are the cases in this data frame?"
    },
    {
      "cell_type": "markdown",
      "metadata": {
        "cell_id": "97d8eddc1b3648c3a439cfda1905412c",
        "deepnote_cell_type": "markdown"
      },
      "source": "<div class=\"alert alert-block alert-warning\">\n\n**Sample Response**\n\nThe cases are the participants in the study.\n\n</div>"
    },
    {
      "cell_type": "markdown",
      "metadata": {
        "cell_id": "10d6723267fe4dddb7bea0617c68e23d",
        "deepnote_cell_type": "markdown"
      },
      "source": "## Question 4\n\nLet’s just take a look at the first two conditions (1 and 2). Create a new data frame called **Tetris2** that only has the subjects from these two conditions in it."
    },
    {
      "cell_type": "code",
      "execution_count": null,
      "metadata": {
        "cell_id": "5c591b452f2e418ebe6a5c250101b298",
        "deepnote_cell_type": "code",
        "trusted": true
      },
      "outputs": [],
      "source": "# Filter out Conditions 3 and 4\nTetris2 <- filter(Tetris, Cond != 3, Cond != 4)\nTetris2"
    },
    {
      "cell_type": "markdown",
      "metadata": {
        "cell_id": "f44ea597fd3747dea9a4932ff5cbd345",
        "deepnote_cell_type": "markdown"
      },
      "source": "<div class=\"alert alert-block alert-warning\">\n    \n## <center>FROM THIS POINT ON, USE `Tetris2` FOR YOUR ANALYSIS</center>\n\n</div>"
    },
    {
      "cell_type": "markdown",
      "metadata": {
        "cell_id": "6b466f7b129d4c09ab6cb034287993d9",
        "deepnote_cell_type": "markdown"
      },
      "source": "## Question 5\n\nFind the researchers’ hypothesis in the description of the study. \n\n    a. Which variable in this data frame is the outcome variable? \n\n    b. Which is the explanatory variable? Should you use the named one or the number one?\n    \n    c. Put those variables into a word equation."
    },
    {
      "cell_type": "markdown",
      "metadata": {
        "cell_id": "dc0a802e7b2742368b66bda338132565",
        "deepnote_cell_type": "markdown"
      },
      "source": "<div class=\"alert alert-block alert-warning\">\n\n**Sample Response**\n\na. `Intrusions.afterExp` is the outcome variable.\n\nb. The explanatory variable is `Cond` or `CondName`.\n\nc. We should probably use the named one because it will be easier to identify the groups, and that version of the variable is already coded as a factor rather than a numeric vector.\n\n</div>"
    },
    {
      "cell_type": "markdown",
      "metadata": {
        "cell_id": "de89ed1ea49b45d6be642bb40ddb385c",
        "deepnote_cell_type": "markdown"
      },
      "source": "## Question 6\n\nWhat do the researchers predict will happen in this study? What pattern of results are they anticipating?"
    },
    {
      "cell_type": "markdown",
      "metadata": {
        "cell_id": "eda557664c404b849f1cd93ac4f45f37",
        "deepnote_cell_type": "markdown"
      },
      "source": "<div class=\"alert alert-block alert-warning\">\n\n**Sample Response**\n\nThey are expecting those who play Tetris to have fewer intrusions than the control group after playing the \ngame.\n\n</div>"
    },
    {
      "cell_type": "markdown",
      "metadata": {
        "cell_id": "f7c29fbdd767404680dec6e6c88c42b2",
        "deepnote_cell_type": "markdown"
      },
      "source": "## Question 7\n\nMake a visualization to explore their hypothesis. What visualization did you make? What did you learn from looking at your visualization?"
    },
    {
      "cell_type": "code",
      "execution_count": null,
      "metadata": {
        "cell_id": "818b9e9a74ef466886d5c9552154ca38",
        "deepnote_cell_type": "code",
        "tags": [],
        "trusted": true
      },
      "outputs": [],
      "source": "# Sample boxplot with jitter plot\ngf_boxplot(Intrusions.afterExp ~ CondName, data = Tetris2, fill = \"floralwhite\", color = \"darkorchid4\") %>%\ngf_jitter(color = \"midnightblue\")\n\n# Sample faceted histogram\ngf_dhistogram(~Intrusions.afterExp, data = Tetris2,  fill = \"floralwhite\", color = \"darkorchid4\") %>%\ngf_facet_grid(CondName ~ .) %>%\ngf_density(fill = \"midnightblue\")"
    },
    {
      "cell_type": "markdown",
      "metadata": {
        "cell_id": "34694aa96c7b4c94b719fa131ed695e7",
        "deepnote_cell_type": "markdown"
      },
      "source": "<div class=\"alert alert-block alert-warning\">\n\n**Sample Response**\n\nFrom looking at the visualization, we can see that the control group had a lot more variation and some of \nthe highest rates of intrusions. Most of the intrusions for the Tetris group were under 5, with only one \noutlier at 7. The control group had some as high as 16. \n\n</div>"
    },
    {
      "cell_type": "markdown",
      "metadata": {
        "cell_id": "5ce90065f5354f8196979cadc1a5c9d1",
        "deepnote_cell_type": "markdown"
      },
      "source": "### What You have Learned about Modeling Variation"
    },
    {
      "cell_type": "markdown",
      "metadata": {
        "cell_id": "5fdc9d3f4fc940ecbb2ebe81aec6b918",
        "deepnote_cell_type": "markdown"
      },
      "source": "## Question 8\n\nWe don’t need to stop with visualizations and word equations. We can specify and fit fancy GLM models!\n\nSpecify the model in GLM (no numbers)."
    },
    {
      "cell_type": "markdown",
      "metadata": {
        "cell_id": "84487374374e467580849d3f69851066",
        "deepnote_cell_type": "markdown"
      },
      "source": "<div class=\"alert alert-block alert-warning\">\n\n**Sample Response**\n\nIntrusions.afterExp = CondName + $e_i$\n\n</div>"
    },
    {
      "cell_type": "markdown",
      "metadata": {
        "cell_id": "85f51799783b4c4c89affd43f4343f01",
        "deepnote_cell_type": "markdown"
      },
      "source": "## Question 9\n\nWrite the best fitting GLM model (with numbers)."
    },
    {
      "cell_type": "code",
      "execution_count": null,
      "metadata": {
        "cell_id": "0778730a508b45c1b63c15d8ae3dafd9",
        "deepnote_cell_type": "code",
        "tags": [],
        "trusted": true
      },
      "outputs": [],
      "source": "# Fit the model\ntetris.model <- lm(Intrusions.afterExp ~ CondName, data = Tetris2)\ntetris.model"
    },
    {
      "cell_type": "markdown",
      "metadata": {
        "cell_id": "d418aa5e5fb04c0fa76df8e04f934d9f",
        "deepnote_cell_type": "markdown"
      },
      "source": "<div class=\"alert alert-block alert-warning\">\n\n**Sample Response**\n\n$Intrusions.afterExp = 5.11 + (-3.22)CondName_i + e_i$\n\n</div>"
    },
    {
      "cell_type": "markdown",
      "metadata": {
        "cell_id": "9fd3e06a0b784aecb096fb48a8c44f15",
        "deepnote_cell_type": "markdown"
      },
      "source": "## Question 10\n\nWhat do the best fitting parameter estimates (e.g., *$b_{1}$*, *$b_{0}$*) mean?"
    },
    {
      "cell_type": "markdown",
      "metadata": {
        "cell_id": "0d89df560730410897280cf8b0ac3405",
        "deepnote_cell_type": "markdown"
      },
      "source": "<div class=\"alert alert-block alert-warning\">\n\n**Sample Response**\n\n$b_0$ is the mean number of intrusions for the control group, and $b_1$ is the amount we add to that to get the mean number of intrusions for the experimental group.\n\n</div>"
    },
    {
      "cell_type": "markdown",
      "metadata": {
        "cell_id": "11862b7609a24172a53f576fc2a6ef77",
        "deepnote_cell_type": "markdown"
      },
      "source": "## Question 11\n\nHow much variation have we explained with this model?"
    },
    {
      "cell_type": "code",
      "execution_count": null,
      "metadata": {
        "cell_id": "91471902b00f4118bef0ff78ed1344d6",
        "deepnote_cell_type": "code",
        "tags": [],
        "trusted": true
      },
      "outputs": [],
      "source": "# Run the supernova on the model\nsupernova(tetris.model)"
    },
    {
      "cell_type": "markdown",
      "metadata": {
        "cell_id": "0edc288882584cf0b9ab13de8403aad4",
        "deepnote_cell_type": "markdown"
      },
      "source": "<div class=\"alert alert-block alert-warning\">\n\n**Sample Response**\n\nWe have explained about 21% of the variation with this model (using PRE as the measure).\n\n</div>"
    },
    {
      "cell_type": "markdown",
      "metadata": {
        "cell_id": "c3c89b80fe2b4b4c944ad34fc37172c7",
        "deepnote_cell_type": "markdown"
      },
      "source": "### What You have Learned about Evaluating Models"
    },
    {
      "cell_type": "markdown",
      "metadata": {
        "cell_id": "81d4bcaaeb074b9ab3fadb27afab8b04",
        "deepnote_cell_type": "markdown"
      },
      "source": "## Question 12\n\nWe don’t have to stop with just making some models. We can actually do some cool stuff to figure out which models of our DGP are better given our data.\n\nWhen we look at a visualization and think – yeah, this one looks like there is a relationship between the outcome and explanatory variables – which parameter estimate best represents the “relationship”: *$b_{1}$* or *$b_{0}$*?"
    },
    {
      "cell_type": "markdown",
      "metadata": {
        "cell_id": "9c9e1a7ad1aa4840a01550b28888e99c",
        "deepnote_cell_type": "markdown"
      },
      "source": "<div class=\"alert alert-block alert-warning\">\n\n**Sample Response**\n\n$b_1$, because it is the slope. It represents the change in y due to x (if there is any).\n\n</div>"
    },
    {
      "cell_type": "markdown",
      "metadata": {
        "cell_id": "5659eb4874aa486b822260eb65261945",
        "deepnote_cell_type": "markdown"
      },
      "source": "## Question 13\n\nWhat would the true value of *$\\beta_{1}$* be in a world where there is no relationship between your explanatory variable and your outcome variable?"
    },
    {
      "cell_type": "markdown",
      "metadata": {
        "cell_id": "d01844bd471644289a5d56c523935906",
        "deepnote_cell_type": "markdown"
      },
      "source": "<div class=\"alert alert-block alert-warning\">\n\n**Sample Response**\n\nIt would be zero.\n\n</div>"
    },
    {
      "cell_type": "markdown",
      "metadata": {
        "cell_id": "312c084d4c5f4ba69ce4a14257e9d494",
        "deepnote_cell_type": "markdown"
      },
      "source": "## Question 14\n\nTake a look at your sample F and sample PRE. Is it possible to have gotten a sample F or PRE this big (or even bigger!) even if there was no relationship between your explanatory variable and outcome variable in the DGP?"
    },
    {
      "cell_type": "markdown",
      "metadata": {
        "cell_id": "2710303ec978489fa0cd40a62cdd4ee4",
        "deepnote_cell_type": "markdown"
      },
      "source": "<div class=\"alert alert-block alert-warning\">\n\n**Sample Response**\n\nIt's possible, but according to the p-value, that probability is very low (less than .01).\n\n</div>"
    },
    {
      "cell_type": "markdown",
      "metadata": {
        "cell_id": "76f9356f250b4ab784ab24e21d3f0ec3",
        "deepnote_cell_type": "markdown"
      },
      "source": "## Question 15\n\nCreate a DGP where there is no relationship between your outcome and your explanatory variable. Run simulations of your study at least 1000 (maybe even 10,000) times. What proportion of these fake studies have an ***F*** greater than the one from your study?"
    },
    {
      "cell_type": "code",
      "execution_count": null,
      "metadata": {
        "cell_id": "e1b2b1c3029d4d68b2739a7cb803f51d",
        "deepnote_cell_type": "code",
        "tags": [],
        "trusted": true
      },
      "outputs": [],
      "source": "# One possible method for running the F simulations\nsampleF <- fVal(Intrusions.afterExp ~ CondName, data = Tetris2)\nSDoF <- do(10000) * fVal(Intrusions.afterExp ~ shuffle(CondName), data = Tetris2)\n\ntally(~fVal > sampleF, data = SDoF, format = \"proportion\")"
    },
    {
      "cell_type": "markdown",
      "metadata": {
        "cell_id": "1cf32b656fda4430a04d9e21864e8fa0",
        "deepnote_cell_type": "markdown"
      },
      "source": "<div class=\"alert alert-block alert-warning\">\n\n**Sample Response**\n\nLess than .01 of the simulations have an F greater than the one from the study.\n\n</div>"
    },
    {
      "cell_type": "markdown",
      "metadata": {
        "cell_id": "2209718ecce543179fa47a16be4b89ef",
        "deepnote_cell_type": "markdown"
      },
      "source": "## Question 16\n\nCreate a DGP where there is no relationship between your outcome and your explanatory variable. Run simulations of your study at least 1000 (maybe even 10,000) times. What proportion of these fake studies have a ***PRE*** greater than the one from your study?"
    },
    {
      "cell_type": "code",
      "execution_count": null,
      "metadata": {
        "cell_id": "b0b09fc4cf74491bbdeea7096cbd6d5f",
        "deepnote_cell_type": "code",
        "tags": [],
        "trusted": true
      },
      "outputs": [],
      "source": "# One possible method for running the PRE simulations\nsamplePRE <- PRE(Intrusions.afterExp ~ CondName, data = Tetris2)\nSDoPRE <- do(10000) * PRE(Intrusions.afterExp ~ shuffle(CondName), data = Tetris2)\ntally(~PRE > samplePRE, data = SDoPRE, format = \"proportion\")"
    },
    {
      "cell_type": "markdown",
      "metadata": {
        "cell_id": "a2ae3ce7bb5a47ecbb801be85295769d",
        "deepnote_cell_type": "markdown"
      },
      "source": "<div class=\"alert alert-block alert-warning\">\n\n**Sample Response**\n\nLess than .01 of the simulations have an PRE greater than the one from the study.\n\n</div>"
    },
    {
      "cell_type": "markdown",
      "metadata": {
        "cell_id": "d4d4e3883c3d45dfa3924c39eec4e54c",
        "deepnote_cell_type": "markdown"
      },
      "source": "## Question 17\n\nAccording to `supernova()`, what is the likelihood of getting an F or PRE as big as the one you got in this sample (or bigger) if there is **<u>no relationship </u>** between these two variables in the DGP?"
    },
    {
      "cell_type": "markdown",
      "metadata": {
        "cell_id": "294ed92681504c79832a8777797babda",
        "deepnote_cell_type": "markdown"
      },
      "source": "<div class=\"alert alert-block alert-warning\">\n\n**Sample Response**\n\nThe probability is less than .01.\n\n</div>"
    },
    {
      "cell_type": "markdown",
      "metadata": {
        "cell_id": "703a141f9298490b8dc708d9d534b178",
        "deepnote_cell_type": "markdown"
      },
      "source": "## Question 18\n\nAre you *likely* to have gotten a sample F or PRE this big (or even bigger!) if there was no relationship between your explanatory variable and outcome variable in the DGP? How did you decide?"
    },
    {
      "cell_type": "markdown",
      "metadata": {
        "cell_id": "8168537c21ed405d82c4f2dbfef980e2",
        "deepnote_cell_type": "markdown"
      },
      "source": "<div class=\"alert alert-block alert-warning\">\n\n**Sample Response**\n\nNo, not likely. This is based on the p-value which is less than .01. This means there is less than 1% chance that we would get this large of an F or PRE if there was no relationship.\n\n</div>"
    },
    {
      "cell_type": "markdown",
      "metadata": {
        "cell_id": "ed6000bf26b54a8797a85fc27afecce4",
        "deepnote_cell_type": "markdown"
      },
      "source": "## Question 19\n\nThink about the distribution triad. Which model is best supported by your model evaluation?"
    },
    {
      "cell_type": "markdown",
      "metadata": {
        "cell_id": "346f1f9c56704bccb5768fdb6c6b7d4d",
        "deepnote_cell_type": "markdown"
      },
      "source": "<div class=\"alert alert-block alert-warning\">\n\n**Sample Response**\n\nThe model of the DGP that states **Intrusions.afterExp = CondName + $e_i$**\n\n</div>"
    },
    {
      "cell_type": "markdown",
      "metadata": {
        "cell_id": "7517016cf26743158102e4c2873749ca",
        "deepnote_cell_type": "markdown"
      },
      "source": "## Question 20\n\nThe function `confint()` tells me that the 95% confidence interval for 1 is -5.41 to -1.03. I’ve rounded to the nearest hundredths place (2 places after the decimal point). \n\nExplain what the lowest number (-5.41) and highest number (-1.03) in the confidence interval tells us."
    },
    {
      "cell_type": "markdown",
      "metadata": {
        "cell_id": "fda04eb15ab2426890e6fc06c706ac65",
        "deepnote_cell_type": "markdown"
      },
      "source": "<div class=\"alert alert-block alert-warning\">\n\n**Sample Response**\n\nThe lowest number tells us that the difference in the group means could be as large as -5.41, and the highest number tells us that the difference could be as small as -1.03.\n\n</div>"
    }
  ],
  "metadata": {
    "deepnote_notebook_id": "76a6721e099f4609904d0ee101c20d14",
    "kernelspec": {
      "display_name": "R",
      "language": "R",
      "name": "ir"
    },
    "language_info": {
      "codemirror_mode": "r",
      "file_extension": ".r",
      "mimetype": "text/x-r-source",
      "name": "R",
      "pygments_lexer": "r",
      "version": "4.3.3"
    },
    "nbsimplegrader": {
      "publish_config": {
        "classes": [],
        "options": [],
        "tools": []
      }
    }
  },
  "nbformat": 4,
  "nbformat_minor": 1
}