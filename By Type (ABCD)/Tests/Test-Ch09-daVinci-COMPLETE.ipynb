{
  "cells": [
    {
      "cell_type": "markdown",
      "metadata": {
        "cell_id": "b7735acd2b4a4b87894e94c2e5297838",
        "deepnote_cell_type": "markdown"
      },
      "source": "<div class=\"alert alert-block alert-danger\">\n\n# <center> Test (Ch. 1-9) - da Vinci (COMPLETE)</center> \n\n</div>"
    },
    {
      "cell_type": "code",
      "execution_count": null,
      "metadata": {
        "cell_id": "56a5b08fd62842d2ac3078c65f5fe483",
        "deepnote_cell_type": "code",
        "execution_millis": 1,
        "execution_start": 1602786560941,
        "output_cleared": false,
        "source_hash": "69aeb82e",
        "trusted": true
      },
      "outputs": [],
      "source": "# Run this code to load the required packages\nsuppressMessages(suppressWarnings(suppressPackageStartupMessages({\n  library(coursekata)\n})))"
    },
    {
      "cell_type": "markdown",
      "metadata": {
        "cell_id": "54efa5181cf946b6be8d5e5a4b5a7bb3",
        "deepnote_cell_type": "markdown"
      },
      "source": "Leonardo da Vinci was a scientist and artist who combined these skills to draft extensive instructions for other artists on how to proportion the human body in painting and sculpture. One of Leonardo’s rules was that the height be equal to the span of the outstretched arms (another way to say it is that height = 1 x armspan). You may have seen this sketch by da Vinci:\n\n\n<center> <img src=\"https://coursekata-course-assets.s3.us-west-1.amazonaws.com/UCLATALL/czi-stats-course/jnb_33jThDLw-Test-Ch-8-da-Vinci.jpg\" title=\"Pattern 1\" width=\"300\"/> </center>\n\n\nThe following are some measurements from a sample of students who wanted to explore this idea that the height equals the armspan (use the `read.csv()` function to read the following CSV file link: https://tinyurl.com/davinci-stats). \n\nThe following variables can be found in this data frame:\n\n- `height_cm` the student’s height in cm\n- `armspan_cm`  the student’s arm span in cm\n- `kneelingheight_cm` the student’s height when kneeling in cm\n- `handlength_cm` the student’s hand length in cm\n- `hours_studied` number of hours the student studied\n- `exam_score` the student’s exam score (out of 100)\n- `height_mediansplit` median split of height_cm (short, tall)\n- `attendance` whether the student had perfect attendance (perfect, not perfect)"
    },
    {
      "cell_type": "markdown",
      "metadata": {
        "cell_id": "6d1575aeb09f47cbafaf0253500306f1",
        "deepnote_cell_type": "markdown"
      },
      "source": "## Question 1\n\nWhat are the cases in this data frame and how many are there?"
    },
    {
      "cell_type": "code",
      "execution_count": null,
      "metadata": {
        "cell_id": "77e36c0de3d94b69bbe53aec35685d98",
        "deepnote_cell_type": "code",
        "execution_millis": 1432,
        "execution_start": 1605725660497,
        "output_cleared": false,
        "source_hash": "6bab0ace",
        "tags": [],
        "trusted": true
      },
      "outputs": [],
      "source": "# Import the data\ndavinci <- read.csv(\"https://tinyurl.com/davinci-stats\", header = TRUE)\n\n# Look at the data\nstr(davinci)"
    },
    {
      "cell_type": "markdown",
      "metadata": {
        "cell_id": "eab88a030d9e4b82b35337a136740079",
        "deepnote_cell_type": "markdown",
        "tags": []
      },
      "source": "<div class=\"alert alert-block alert-warning\">\n\n**Sample Response**\n\nThe cases are students and there are 30 of them.\n\n</div>"
    },
    {
      "cell_type": "markdown",
      "metadata": {
        "cell_id": "c491bdfa4986451ba9dd5e519e2ee31c",
        "deepnote_cell_type": "markdown"
      },
      "source": "## Question 2\n\nExplore the variation in `height_cm` with a histogram."
    },
    {
      "cell_type": "code",
      "execution_count": null,
      "metadata": {
        "cell_id": "be1cffb8c2de43928e1abe3adb38773c",
        "deepnote_cell_type": "code",
        "execution_millis": 355,
        "execution_start": 1602786664773,
        "output_cleared": true,
        "source_hash": null,
        "tags": [],
        "trusted": true
      },
      "outputs": [],
      "source": "# Sample histogram\ngf_histogram(~height_cm, data = davinci, fill = \"cornflowerblue\" , color = \"antiquewhite2\")"
    },
    {
      "cell_type": "markdown",
      "metadata": {
        "cell_id": "3090922be57b480191110b4282d25521",
        "deepnote_cell_type": "markdown"
      },
      "source": "## Question 3\n\nWhat is the empty model for `height_cm`? Put it into GLM notation (with numbers)."
    },
    {
      "cell_type": "code",
      "execution_count": null,
      "metadata": {
        "cell_id": "3696525f8544477e96accb64c4b3730e",
        "deepnote_cell_type": "code",
        "execution_millis": 19,
        "execution_start": 1602786737693,
        "output_cleared": true,
        "source_hash": null,
        "tags": [],
        "trusted": true
      },
      "outputs": [],
      "source": "# Empty model\nempty.model <- lm(height_cm ~ NULL, data = davinci)\nempty.model"
    },
    {
      "cell_type": "markdown",
      "metadata": {
        "cell_id": "4e8135ff120d4893b42b316aa04a3756",
        "deepnote_cell_type": "markdown",
        "tags": []
      },
      "source": "<div class=\"alert alert-block alert-warning\">\n\n**Sample Response**\n\nheight_cm = 152.80 + $e_i$\n\n</div>"
    },
    {
      "cell_type": "markdown",
      "metadata": {
        "cell_id": "f405ea58c1f9404283cdacaab353d843",
        "deepnote_cell_type": "markdown"
      },
      "source": "## Question 4\n\nWhat does the standard deviation of this distribution tell us? (Interpret this number)."
    },
    {
      "cell_type": "code",
      "execution_count": null,
      "metadata": {
        "cell_id": "094ab5e1299e42bb93bdde55d02e4bde",
        "deepnote_cell_type": "code",
        "execution_millis": 8,
        "execution_start": 1602787013441,
        "output_cleared": true,
        "source_hash": null,
        "tags": [],
        "trusted": true
      },
      "outputs": [],
      "source": "# Possible option: Find the std dev using favstats()\nfavstats(~height_cm, data = davinci)\n\n# Alternate option: Find the std dev using sd()\nsd(~height_cm, data = davinci)"
    },
    {
      "cell_type": "markdown",
      "metadata": {
        "cell_id": "320dda92b3d044d1804391ee4290d1b2",
        "deepnote_cell_type": "markdown",
        "tags": []
      },
      "source": "<div class=\"alert alert-block alert-warning\">\n\n**Sample Response**\n\nThe height of the students varies on average 23.02 cm from the mean.\n\n</div>"
    },
    {
      "cell_type": "markdown",
      "metadata": {
        "cell_id": "ed72fc1d60034458984d96d057eabd9c",
        "deepnote_cell_type": "markdown"
      },
      "source": "## Question 5\n\nEven though this is a skewed distribution, why is the mean a better model than the median?"
    },
    {
      "cell_type": "markdown",
      "metadata": {
        "cell_id": "2a25acb2f41e4a68a28aa2e1c70bce15",
        "deepnote_cell_type": "markdown",
        "tags": []
      },
      "source": "<div class=\"alert alert-block alert-warning\">\n\n**Sample Response**\n\nThe mean is a better model than the median because it equally balances the positive and negative error.\n\n</div>"
    },
    {
      "cell_type": "markdown",
      "metadata": {
        "cell_id": "330a83c96b5642c1891e9c20b5f9fd97",
        "deepnote_cell_type": "markdown"
      },
      "source": "## Question 6\n\nNow let’s try to explain the variability seen in heights by also including armspan. We will call this the `armspan_cm` model.\n\n- What is the outcome variable?\n\n- What is the explanatory variable?"
    },
    {
      "cell_type": "markdown",
      "metadata": {
        "cell_id": "404c0380178844cf9733dc437cd5cb72",
        "deepnote_cell_type": "markdown",
        "tags": []
      },
      "source": "<div class=\"alert alert-block alert-warning\">\n\n**Sample Response**\n\nThe outcome is height and the explanatory variable is armspan.\n\n</div>"
    },
    {
      "cell_type": "markdown",
      "metadata": {
        "cell_id": "13f8a29e80064ec58a60d7bc414fafa2",
        "deepnote_cell_type": "markdown"
      },
      "source": "## Question 7\n\nCreate a scatterplot for the `armspan_cm` model."
    },
    {
      "cell_type": "code",
      "execution_count": null,
      "metadata": {
        "cell_id": "ca8b44a77ad24609bfada99c3650aa22",
        "deepnote_cell_type": "code",
        "execution_millis": 242,
        "execution_start": 1602787244693,
        "output_cleared": true,
        "source_hash": null,
        "tags": [],
        "trusted": true
      },
      "outputs": [],
      "source": "# Sample scatterplot\ngf_point(height_cm ~ armspan_cm, data = davinci, color = \"mediumvioletred\")"
    },
    {
      "cell_type": "markdown",
      "metadata": {
        "cell_id": "bd302ff9ea2041bd825d915ba94643b7",
        "deepnote_cell_type": "markdown"
      },
      "source": "## Question 8\n\nPut the `armspan_cm` model into GLM notation (with numbers)."
    },
    {
      "cell_type": "code",
      "execution_count": null,
      "metadata": {
        "cell_id": "e84e0d01e5dd4f67b263730b11fcb444",
        "deepnote_cell_type": "code",
        "execution_millis": 17,
        "execution_start": 1602787552860,
        "output_cleared": true,
        "source_hash": null,
        "tags": [],
        "trusted": true
      },
      "outputs": [],
      "source": "# Create the armspan model\narmspan.model <- lm(height_cm ~ armspan_cm, data = davinci)\narmspan.model"
    },
    {
      "cell_type": "markdown",
      "metadata": {
        "cell_id": "a33b69f88dee4e538ad509b2571ce313",
        "deepnote_cell_type": "markdown",
        "tags": []
      },
      "source": "<div class=\"alert alert-block alert-warning\">\n\n**Sample Response**\n\nheight_cm = 12.49 + 0.92(armspan_cm) + $e_i$\n\n</div>"
    },
    {
      "cell_type": "markdown",
      "metadata": {
        "cell_id": "2ff9bf95fefa4a08b5731f8fe038e534",
        "deepnote_cell_type": "markdown"
      },
      "source": "## Question 9\n\nInterpret *$b_0$*, the constant, and *$b_1$*, the slope."
    },
    {
      "cell_type": "markdown",
      "metadata": {
        "cell_id": "24f5bf4e750a416db94ef10033bfef38",
        "deepnote_cell_type": "markdown",
        "tags": []
      },
      "source": "<div class=\"alert alert-block alert-warning\">\n\n**Sample Response**\n\nThe constant, $b_0$ is 12.49 cm. This means that the base height for someone with zero armspan would be 12.49 cm.\n\nThe slope, $b_1$, is 0.92cm. This means that for every 1 cm increase in armspan, 0.92 cm is added to height.\n\n</div>"
    },
    {
      "cell_type": "markdown",
      "metadata": {
        "cell_id": "13977cc1c55d4a7bb367f4310d461a8a",
        "deepnote_cell_type": "markdown"
      },
      "source": "## Question 10\n\nBased on the model, what is the predicted height for a person with an armspan of 120 cm?"
    },
    {
      "cell_type": "code",
      "execution_count": null,
      "metadata": {
        "cell_id": "f39948ff39b640d08a91bd3882416c87",
        "deepnote_cell_type": "code",
        "execution_millis": 11,
        "execution_start": 1602788990918,
        "output_cleared": true,
        "source_hash": null,
        "tags": [],
        "trusted": true
      },
      "outputs": [],
      "source": "# Find the prediction by calculating\n12.49 + 0.92 * 120\n\n# Find the prediction using the makeFun() function\nheight.fun <- makeFun(armspan.model)\nheight.fun(120)\n\n# Note: it’s okay if the makeFun() function and the manual calculation are slightly different \n# (it’s due to rounding, but either answer is correct)"
    },
    {
      "cell_type": "markdown",
      "metadata": {
        "cell_id": "079a781a3cb344c1a6f6c05c4e1ecedc",
        "deepnote_cell_type": "markdown",
        "tags": []
      },
      "source": "<div class=\"alert alert-block alert-warning\">\n\n**Sample Response**\n\nThe model would predict a height of about 123 cm.\n\n</div>"
    },
    {
      "cell_type": "markdown",
      "metadata": {
        "cell_id": "28832c31d6c445c59700c2242eae1dae",
        "deepnote_cell_type": "markdown"
      },
      "source": "## Question 11\n\nWhat is the correlation coefficient (*r*) for the model? Include the strength of the relationship using \nCohen’s interpretation of effect size (none, weak, medium, or strong), and the direction of the \nrelationship (positive or negative).\n\n<u>Cohen's Effect Size Table:</u>\n\n|Strength of Relationship |     r    |\n|-------------------------|----------|\n|No relationship          |     0    |\n|Small relationship       |.10 to .29|\n|Medium relationship      |.30 to .49|\n|Large relationship       |.50 to 1.0|"
    },
    {
      "cell_type": "code",
      "execution_count": null,
      "metadata": {
        "cell_id": "1235d4e5e2d643b7b6876e661cca0de6",
        "deepnote_cell_type": "code",
        "execution_millis": 14,
        "execution_start": 1602789179113,
        "output_cleared": true,
        "source_hash": null,
        "tags": [],
        "trusted": true
      },
      "outputs": [],
      "source": "# Find the correlation coefficient\ncor(height_cm ~ armspan_cm, data = davinci)"
    },
    {
      "cell_type": "markdown",
      "metadata": {
        "cell_id": "c58e33374b3f45f98ed1ed3446aaed30",
        "deepnote_cell_type": "markdown",
        "tags": []
      },
      "source": "<div class=\"alert alert-block alert-warning\">\n\n**Sample Response**\n\n$r$ = 0.98. There is a strong, positive relationship.\n\n</div>"
    },
    {
      "cell_type": "markdown",
      "metadata": {
        "cell_id": "6b8f0fa6e843427ca52b01f96df9f9d7",
        "deepnote_cell_type": "markdown"
      },
      "source": "## Question 12\n\nWhat does the PRE value for this model tell us? (Interpret this number)."
    },
    {
      "cell_type": "code",
      "execution_count": null,
      "metadata": {
        "cell_id": "96fb5ccb0d7d424f9983bb515f6dbc89",
        "deepnote_cell_type": "code",
        "execution_millis": 58,
        "execution_start": 1602789545251,
        "output_cleared": true,
        "source_hash": null,
        "tags": [],
        "trusted": true
      },
      "outputs": [],
      "source": "# Find the PRE in the supernova table\nsupernova(armspan.model)\n\n# Find the PRE with the PRE() function\nPRE(height_cm ~ armspan_cm, data = davinci)\n# OR\nPRE(armspan.model)"
    },
    {
      "cell_type": "markdown",
      "metadata": {
        "cell_id": "10f6095eba424a4ab991be36def70c51",
        "deepnote_cell_type": "markdown",
        "tags": []
      },
      "source": "<div class=\"alert alert-block alert-warning\">\n\n**Sample Response**\n\nThe PRE for this model is 0.96. This means that 96% of the variation in height is explained by the variation in armspan.\n\n</div>"
    },
    {
      "cell_type": "markdown",
      "metadata": {
        "cell_id": "db1b8ec72e8d41ee92248bbd1de8cc0f",
        "deepnote_cell_type": "markdown"
      },
      "source": "## Question 13\n\nBased on your exploration of this data set, what do you think about da Vinci’s claim? "
    },
    {
      "cell_type": "markdown",
      "metadata": {
        "cell_id": "711054cafc424e509b5b6aa0386acb66",
        "deepnote_cell_type": "markdown",
        "tags": []
      },
      "source": "<div class=\"alert alert-block alert-warning\">\n\n**Sample Response**\n\nHis claim seems pretty accurate because there is a strong correlation and a high PRE (and very little leftover error).\n\n</div>"
    }
  ],
  "metadata": {
    "deepnote_notebook_id": "465c3c14a493463b97d754532cb7657f",
    "kernelspec": {
      "display_name": "R",
      "language": "R",
      "name": "ir"
    },
    "language_info": {
      "codemirror_mode": "r",
      "file_extension": ".r",
      "mimetype": "text/x-r-source",
      "name": "R",
      "pygments_lexer": "r",
      "version": "4.3.3"
    },
    "nbsimplegrader": {
      "publish_config": {
        "classes": [],
        "options": [],
        "tools": []
      }
    }
  },
  "nbformat": 4,
  "nbformat_minor": 1
}