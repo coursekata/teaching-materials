{
  "cells": [
    {
      "cell_type": "markdown",
      "metadata": {
        "cell_id": "e95e4da7dabd469c99fc021b6ccc2568",
        "deepnote_cell_type": "markdown",
        "tags": []
      },
      "source": "<div class=\"alert alert-block alert-danger\">\n\n# <center>Test (Ch. 1-6): Gun Murders (Complete)</center> \n\n</div>"
    },
    {
      "cell_type": "code",
      "execution_count": null,
      "metadata": {
        "cell_id": "a15fece41de94e6cb6a438efead22d61",
        "deepnote_cell_type": "code",
        "execution_millis": 14801,
        "execution_start": 1603164166300,
        "output_cleared": false,
        "source_hash": "137dd5f5",
        "tags": [],
        "trusted": true
      },
      "outputs": [],
      "source": "# Run this code to load the required packages\nsuppressMessages(suppressWarnings(suppressPackageStartupMessages({\n  library(coursekata)\n})))\n"
    },
    {
      "cell_type": "markdown",
      "metadata": {
        "cell_id": "98dd25395dc74cb5a66586faa46647ca",
        "deepnote_cell_type": "markdown",
        "tags": []
      },
      "source": "The data frame `murders` contains data collected by the FBI. They tracked total gun murders in each state. (This data frame actually includes the District of Columbia, DC, as a “state.”) \n\n- `state` \t\tUS state\n- `abb` \t     \tAbbreviation of US state\n- `region` \t\tGeographical US region\n- `population` \tState population, number of people in that state (2010)\n- `total` \t\tNumber of gun murders in state (2010)"
    },
    {
      "cell_type": "markdown",
      "metadata": {
        "cell_id": "bb614c5a3d4548708508de82b9ef4af8",
        "deepnote_cell_type": "markdown",
        "tags": []
      },
      "source": "### Question 1\n\nStates varied in how many gun murders they saw in 2010. Make a histogram to examine how total gun murders vary in the United States. What is the shape of this distribution? "
    },
    {
      "cell_type": "code",
      "execution_count": null,
      "metadata": {
        "cell_id": "b2320f0336ab47c1b58d33683cdd2b2a",
        "deepnote_cell_type": "code",
        "tags": [],
        "trusted": true
      },
      "outputs": [],
      "source": "gf_histogram(~total, data = murders)"
    },
    {
      "cell_type": "markdown",
      "metadata": {
        "cell_id": "f5cdbec79beb4290b1ef17c2476e7d4a",
        "deepnote_cell_type": "markdown",
        "tags": []
      },
      "source": "<div class=\"alert alert-block alert-warning\">\n\n**Sample Response**\n\nThe shape is skewed right.\n\n</div>"
    },
    {
      "cell_type": "markdown",
      "metadata": {
        "cell_id": "3453eb6ae1a14fa9a32f39c0b444eb64",
        "deepnote_cell_type": "markdown",
        "tags": []
      },
      "source": "### Question 2\n\nTake a look at California. It has one of the highest murder totals but also has a very large population. Write a word equation to represent the idea that variation in total gun murders can be explained by population. "
    },
    {
      "cell_type": "code",
      "execution_count": null,
      "metadata": {
        "cell_id": "56da0a1d22a0422db321e9680e296e1b",
        "deepnote_cell_type": "code",
        "tags": [],
        "trusted": true
      },
      "outputs": [],
      "source": "filter(murders, state == \"California\")"
    },
    {
      "cell_type": "markdown",
      "metadata": {
        "cell_id": "9bc4462fe400459b9601f374b350e98b",
        "deepnote_cell_type": "markdown",
        "tags": []
      },
      "source": "<div class=\"alert alert-block alert-warning\">\n\n**Sample Response**\n\ntotal = population + Other Stuff\n\n</div>"
    },
    {
      "cell_type": "markdown",
      "metadata": {
        "cell_id": "2fbb8b8b0b314bc2ba420562b7aacc96",
        "deepnote_cell_type": "markdown",
        "tags": []
      },
      "source": "### Question 3\n\nCreate a visualization to explore this idea (from question 2)."
    },
    {
      "cell_type": "code",
      "execution_count": null,
      "metadata": {
        "cell_id": "5c75420fc8f049159e03369ac6f848e5",
        "deepnote_cell_type": "code",
        "tags": [],
        "trusted": true
      },
      "outputs": [],
      "source": "gf_point(total~population, data = murders)"
    },
    {
      "cell_type": "markdown",
      "metadata": {
        "cell_id": "fa316217bc6a4106a55ce248c07c1b27",
        "deepnote_cell_type": "markdown",
        "tags": []
      },
      "source": "### Question 4\n\nNotice that because `population` is typically such a large number (many millions!), R will put the scatterplot in scientific notation. Let’s create a variable called `pop_in_millions` and save it in `murders`. For instance, Alabama’s population is 4,779,736. Dividing by 1,000,000 will make Alabama’s `pop_in_millions` 4.78. Write the R code to do this for all states below. (Note: Don’t put commas in between 0s in R, we just did that so you can see how many 0s more easily.)"
    },
    {
      "cell_type": "code",
      "execution_count": null,
      "metadata": {
        "cell_id": "0c680d8fcf2e41d68261d12d7a4ea35d",
        "deepnote_cell_type": "code",
        "execution_millis": 87,
        "execution_start": 1603164192685,
        "output_cleared": false,
        "source_hash": "97aa57bf",
        "tags": [],
        "trusted": true
      },
      "outputs": [],
      "source": "murders$pop_in_millions <- murders$population/1000000\nhead(murders)"
    },
    {
      "cell_type": "markdown",
      "metadata": {
        "cell_id": "13ebe879bc7b4d8e992759363f32dcff",
        "deepnote_cell_type": "markdown",
        "tags": []
      },
      "source": "### Question 5\n\nNow, recreate the plot of `total` by `pop_in_millions`. Does this visualization prove that living in more populous states causes people to murder more? Why or why not?"
    },
    {
      "cell_type": "code",
      "execution_count": null,
      "metadata": {
        "cell_id": "8fa8a807dbc74be890b146a93e3a8258",
        "deepnote_cell_type": "code",
        "tags": [],
        "trusted": true
      },
      "outputs": [],
      "source": "gf_point(total~pop_in_millions, data = murders)"
    },
    {
      "cell_type": "markdown",
      "metadata": {
        "cell_id": "f76e46fdf3e64b49a7ba4280ded2fdf0",
        "deepnote_cell_type": "markdown",
        "tags": []
      },
      "source": "<div class=\"alert alert-block alert-warning\">\n\n**Sample Response**\n\nNo, the visualization can not prove that there is a causal relationship between population and murders because these are correlational data, and without proper experimental design we cannot determine a causal link between the variables.\n\n</div>"
    },
    {
      "cell_type": "markdown",
      "metadata": {
        "cell_id": "ff3887c6abb24cad84c78eaa520d4600",
        "deepnote_cell_type": "markdown",
        "tags": []
      },
      "source": "### Question 6\n\nIf we shuffled the total murders of these states and made plots of `total` by `pop_in_millions`, which pattern is more likely (pattern 1, 2, or 3)? Why?\n\n<img src=\"https://coursekata-course-assets.s3.us-west-1.amazonaws.com/UCLATALL/czi-stats-course/jnb_PTsytMMj-Test-Ch-6-scatterplots.png\" title=\"three different patterns of total by pop_in_millions\" />\n"
    },
    {
      "cell_type": "markdown",
      "metadata": {
        "cell_id": "93c086545bd0438fa829e70d78772ce9",
        "deepnote_cell_type": "markdown",
        "tags": []
      },
      "source": "<div class=\"alert alert-block alert-warning\">\n\n**Sample Response**\n\nPattern 2 because it has the most \"scatter\" and the others appear to have a non-random, linear relationship, and it would be very unlikely to get such a strong pattern like that by chance. \n\n</div>"
    },
    {
      "cell_type": "markdown",
      "metadata": {
        "cell_id": "1281ffbd2bc14ab6a4564132695b034a",
        "deepnote_cell_type": "markdown",
        "tags": []
      },
      "source": "### Question 7\n\nThis empirical data (from question 5) is **<u>unlikely</u>** to have been created by a random process. Explain why."
    },
    {
      "cell_type": "markdown",
      "metadata": {
        "cell_id": "4a8dbaaf0f4448b684634130f9b37894",
        "deepnote_cell_type": "markdown",
        "tags": []
      },
      "source": "<div class=\"alert alert-block alert-warning\">\n\n**Sample Response**\n\nIt does not appear very \"scattered\" or \"cloudy\" like a random pattern would appear, and the variables appear to move in a clear line together.\n\n</div>"
    },
    {
      "cell_type": "markdown",
      "metadata": {
        "cell_id": "2e6c4c66e54c48afbf30dc8e81c76191",
        "deepnote_cell_type": "markdown",
        "tags": []
      },
      "source": "### Question 8\n\nMaybe a better measure of gun violence in a state is a variable like ***murders_per_million***, that can tell us for every million people in a state, how many gun murders there are. We can easily calculate this by taking `total` and dividing by `pop_in_millions`. Write the R code to create this variable and save it back into the `murders` data frame."
    },
    {
      "cell_type": "code",
      "execution_count": null,
      "metadata": {
        "cell_id": "b8b4836a9e38485088c0e20456fd487f",
        "deepnote_cell_type": "code",
        "execution_millis": 73,
        "execution_start": 1603164201097,
        "output_cleared": false,
        "source_hash": "782e3765",
        "tags": [],
        "trusted": true
      },
      "outputs": [],
      "source": "murders$murders_per_million <- murders$total/murders$pop_in_millions\nhead(murders)"
    },
    {
      "cell_type": "markdown",
      "metadata": {
        "cell_id": "18f5295f4ab9468cabf4da040ddc7380",
        "deepnote_cell_type": "markdown",
        "tags": []
      },
      "source": "### Question 9\n\nCreate a scatterplot to explore whether variation in this new variable, `murders_per_million`, can be explained by `pop_in_millions`. Notice that there is one place where there are over 150 murders per million people. What state is that?"
    },
    {
      "cell_type": "code",
      "execution_count": null,
      "metadata": {
        "cell_id": "f00a0afd549644309a46634498ebe532",
        "deepnote_cell_type": "code",
        "tags": [],
        "trusted": true
      },
      "outputs": [],
      "source": "gf_point(murders_per_million ~ pop_in_millions, data = murders)\n\nhead(arrange(murders, desc(murders_per_million)))"
    },
    {
      "cell_type": "markdown",
      "metadata": {
        "cell_id": "58bf5d3e2b044e989c0718b98ff1e555",
        "deepnote_cell_type": "markdown",
        "tags": []
      },
      "source": "<div class=\"alert alert-block alert-warning\">\n\n**Sample Response**\n\nThe District of Columbia has over 150 murders per million.\n\n</div>"
    },
    {
      "cell_type": "markdown",
      "metadata": {
        "cell_id": "4d0ad5589f8a45d78477a39cbdb87b56",
        "deepnote_cell_type": "markdown",
        "tags": []
      },
      "source": "### Question 10\n\nShould we include that state in our data? Why or why not? (This question is graded for reasoning and thinking – there is no single correct answer.)"
    },
    {
      "cell_type": "markdown",
      "metadata": {
        "cell_id": "1cc8bdfda4104fddbd2a801864e665ec",
        "deepnote_cell_type": "markdown",
        "tags": []
      },
      "source": "<div class=\"alert alert-block alert-warning\">\n\n**Sample Response**\n\n*Student answers will vary.*\n\n</div>"
    },
    {
      "cell_type": "markdown",
      "metadata": {
        "cell_id": "d2eab2e4d34c4e35b873f359de09f1f8",
        "deepnote_cell_type": "markdown",
        "tags": []
      },
      "source": "### Question 11\n\nCreate an empty model for `murders_per_million`. Save your model as `empty_model`."
    },
    {
      "cell_type": "code",
      "execution_count": null,
      "metadata": {
        "cell_id": "9ae94383a9e74f8ca86033dfc3f3ca32",
        "deepnote_cell_type": "code",
        "tags": [],
        "trusted": true
      },
      "outputs": [],
      "source": "empty_model <- lm(murders_per_million ~ NULL, data = murders)\nempty_model"
    },
    {
      "cell_type": "markdown",
      "metadata": {
        "cell_id": "8534e45b4b0440fc86c8dd257a12d42a",
        "deepnote_cell_type": "markdown",
        "tags": []
      },
      "source": "### Question 12\n\nWhich of the following is the correct way of writing this best fitting empty model in GLM notation? (Choose one.)\n\n- *$Y_{i}$* = *$b_{0}$* + 27.79 + *$e_{i}$*\n- 27.79 = *$b_{0}$* + *$e_{i}$*\n- *$Y_{i}$* = 27.79 + *$e_{i}$*\n- *murders_per_million* = 27.79 + *pop_in_millions* + *$e_{i}$*"
    },
    {
      "cell_type": "markdown",
      "metadata": {
        "cell_id": "eae55a5352e4448c9f7777917a6ffe62",
        "deepnote_cell_type": "markdown",
        "tags": []
      },
      "source": "<div class=\"alert alert-block alert-warning\">\n\n**Sample Response**\n\n- *$Y_{i}$* = 27.79 + *$e_{i}$*\n\n</div>"
    },
    {
      "cell_type": "markdown",
      "metadata": {
        "cell_id": "0f2da3e7143749608d23a24690bb2e91",
        "deepnote_cell_type": "markdown",
        "tags": []
      },
      "source": "### Question 13\n\nCreate a scatterplot of `murders_per_million` predicted by `pop_in_millions`, and add the empty model into the graph. "
    },
    {
      "cell_type": "code",
      "execution_count": null,
      "metadata": {
        "cell_id": "877b000b82cb462f8c2cf7043e40044d",
        "deepnote_cell_type": "code",
        "tags": [],
        "trusted": true
      },
      "outputs": [],
      "source": "mpm.stats <- favstats(~murders_per_million, data = murders)\n\ngf_point(murders_per_million ~ pop_in_millions, data = murders)%>%gf_hline(yintercept = ~mean, data=mpm.stats)"
    },
    {
      "cell_type": "markdown",
      "metadata": {
        "cell_id": "793ba2dfaf2a4235a902fd42b70cfec9",
        "deepnote_cell_type": "markdown",
        "tags": []
      },
      "source": "### Question 14\n\nIn the visualization above, does it look as though the positive and negative residuals are balanced around the mean? Check to see that the residuals do indeed add up to 0."
    },
    {
      "cell_type": "code",
      "execution_count": null,
      "metadata": {
        "cell_id": "7b7fab85b85d4acaabc2398e145be4c8",
        "deepnote_cell_type": "code",
        "output_cleared": true,
        "tags": [],
        "trusted": true
      },
      "outputs": [],
      "source": "murders$residuals <- resid(empty_model)\nsum(murders$residuals)"
    },
    {
      "cell_type": "markdown",
      "metadata": {
        "cell_id": "81df2eb8d73843a887a542372e90fb65",
        "deepnote_cell_type": "markdown",
        "tags": []
      },
      "source": "<div class=\"alert alert-block alert-warning\">\n\n**Sample Response**\n\nYes, they do look balanced, and they do add up to zero.\n\n</div>"
    },
    {
      "cell_type": "markdown",
      "metadata": {
        "cell_id": "fbf5b39364644e4298d9991711237231",
        "deepnote_cell_type": "markdown",
        "tags": []
      },
      "source": "### Question 15\n\nIf you use the sample distribution of `murders_per_million` in the `murders` data frame as a probability model, what is the likelihood that a state would have more than 45 murders per million people?"
    },
    {
      "cell_type": "code",
      "execution_count": null,
      "metadata": {
        "cell_id": "ab0b9da3df944eed98b971944101a84b",
        "deepnote_cell_type": "code",
        "execution_millis": 38,
        "execution_start": 1603164220938,
        "output_cleared": false,
        "source_hash": "a14fec4d",
        "tags": [],
        "trusted": true
      },
      "outputs": [],
      "source": "tally(~ murders_per_million > 45, data = murders, format = \"proportion\")"
    },
    {
      "cell_type": "markdown",
      "metadata": {
        "cell_id": "b242f88b24974472b0a58a3302892dbf",
        "deepnote_cell_type": "markdown",
        "tags": []
      },
      "source": "<div class=\"alert alert-block alert-warning\">\n\n**Sample Response**\n\nThe probability is about 8%.\n\n</div>"
    },
    {
      "cell_type": "markdown",
      "metadata": {
        "cell_id": "d3342f7af93544d0a5d328f1d363f8a8",
        "deepnote_cell_type": "markdown"
      },
      "source": "### Question 16\n\nIn the picture below, we are using the normal distribution of `murders_per_million` in the `murders` data frame as a probability model (in blue). \n\n<img src=\"https://coursekata-course-assets.s3.us-west-1.amazonaws.com/UCLATALL/czi-stats-course/jnb_vYz4pfb5-Test-Ch-6-normal-model.png\" title=\"A normal model of murders_per_million\" />\n\nEstimating from the picture, what is the likelihood that a state would have more than 50 murders per million people (the red line)? (You may not need to run any R code for this question.) Choose one:\n- .90\n- .82\n- .18\n- .50"
    },
    {
      "cell_type": "markdown",
      "metadata": {
        "cell_id": "f0a6d285570d408e879dd0f62f7e4c8a",
        "deepnote_cell_type": "markdown",
        "tags": []
      },
      "source": "<div class=\"alert alert-block alert-warning\">\n\n**Sample Response**\n\nIt would be about .18.\n\n</div>"
    },
    {
      "cell_type": "markdown",
      "metadata": {
        "cell_id": "35975e9653614632812461876549e9b8",
        "deepnote_cell_type": "markdown"
      },
      "source": "### Question 17\n\nIf we decided to take the place that has over 150 murders per million out of our data set, how would our empty model be affected? (Choose one.)\n\n- *$b_{0}$* would go down  \n- *$b_{0}$* would go up  \n- *$\\beta_{0}$* would go down  \n- The empty model would not be affected because it is independent of `pop_in_millions`."
    },
    {
      "cell_type": "markdown",
      "metadata": {
        "cell_id": "cbc1279ecb1644ce81c05ee0110b994b",
        "deepnote_cell_type": "markdown",
        "tags": []
      },
      "source": "<div class=\"alert alert-block alert-warning\">\n\n**Sample Response**\n\n- *$b_{0}$* would go down \n\n</div>"
    }
  ],
  "metadata": {
    "deepnote_notebook_id": "8f3dcf92e7da42e297b8fe19dcfedfdc",
    "kernelspec": {
      "display_name": "R",
      "language": "R",
      "name": "ir"
    },
    "language_info": {
      "codemirror_mode": "r",
      "file_extension": ".r",
      "mimetype": "text/x-r-source",
      "name": "R",
      "pygments_lexer": "r",
      "version": "4.3.3"
    },
    "nbsimplegrader": {
      "publish_config": {
        "classes": [],
        "options": [],
        "tools": []
      }
    }
  },
  "nbformat": 4,
  "nbformat_minor": 1
}