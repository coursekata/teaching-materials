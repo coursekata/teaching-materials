{
  "cells": [
    {
      "cell_type": "markdown",
      "metadata": {
        "cell_id": "87f20a79ea4e4d018de0ee9078130dc9",
        "deepnote_cell_type": "markdown"
      },
      "source": "# <center>Test Ch. 1-12: Explaining Variation in Earthquake Magnitude </center> "
    },
    {
      "cell_type": "code",
      "execution_count": null,
      "metadata": {
        "cell_id": "12f065c24cd84621868a00087d8bcd50",
        "deepnote_cell_type": "code",
        "trusted": true
      },
      "outputs": [],
      "source": "# Load the CourseKata library\nsuppressPackageStartupMessages({\n    library(coursekata)\n})"
    },
    {
      "cell_type": "markdown",
      "metadata": {
        "cell_id": "c6e42c40149e42748aa665eb8aa4bb5c",
        "deepnote_cell_type": "markdown"
      },
      "source": "In R, there is a data frame called `quakes` (Preloaded in R) which gives information about the earthquakes around Fiji since 1964.\n\nVariables in the data frame: \n\n- `lat` Latitude of the location of the quake; around Fiji, smaller numbers (more negative) indicate south while larger numbers (less negative) are north.\n\n\n- `long` Longitude of the location of the quake; around Fiji, smaller numbers indicate west and larger numbers indicate east.\n\n\n- `depth` Distance in kilometers away from the earth's surface.\n\n\n- `mag` Richter Magnitude \n\n\n- `stations` Number of stations reporting\n"
    },
    {
      "cell_type": "markdown",
      "metadata": {
        "cell_id": "6dff21b9fce24d0ea8d8e55b534802a6",
        "deepnote_cell_type": "markdown"
      },
      "source": "### What You have Learned about Exploring Variation"
    },
    {
      "cell_type": "markdown",
      "metadata": {
        "cell_id": "af3b6021e52a4461b9f88f2e46c140be",
        "deepnote_cell_type": "markdown"
      },
      "source": "## Question 1\n\nGo ahead and use R to look at the first six lines of this data frame. What are the cases in this data frame?"
    },
    {
      "cell_type": "markdown",
      "metadata": {
        "cell_id": "1e9bd78f193f4907bea04d8d7f02aac2",
        "deepnote_cell_type": "markdown"
      },
      "source": "## Question 2\n\nAn outcome variable of interest might be magnitude (how big the earthquake was). Make some plots to explore which of the other variables would do the best job of explaining the variation in `mag`. Which variable looks like it explains variation in magnitude?\n\nWhat about the plot made you think that variable is the best at explaining variation in magnitude?"
    },
    {
      "cell_type": "markdown",
      "metadata": {
        "cell_id": "7bafbb5043124bba88c065d9f81979b6",
        "deepnote_cell_type": "markdown"
      },
      "source": "## Question 3\n\nA geoscientist notes that there is a large marine trench, a deep groove in the ocean, on the eastern side of Fiji called the Tonga Trench. The scientist has a hypothesis that because of the trench, earthquakes east of Fiji (those that have a larger longitude) have a smaller magnitude. We will call this the longitude hypothesis. Write a word equation for this hypothesis.\n\n\n<img src=\"https://coursekata-course-assets.s3.us-west-1.amazonaws.com/UCLATALL/czi-stats-course/jnb_8ps1HzTm-Test-Ch-10-Tonga-Trench.png\" title=\"Fiji Trench\" width=\"500\"/>"
    },
    {
      "cell_type": "markdown",
      "metadata": {
        "cell_id": "d18fe4fb2b864c1daad8424fd1de22d3",
        "deepnote_cell_type": "markdown"
      },
      "source": "## Question 4\n\nThe first scatterplot is the sample data. The other scatterplots have been shuffled. What is the “pattern” or “relationship” that is present in the sample data that is not as strongly present in the shuffled data?\n\n<img src=\"https://coursekata-course-assets.s3.us-west-1.amazonaws.com/UCLATALL/czi-stats-course/jnb_kJNyTqwD-Test-Ch-10-Shuffled-Plots.png\" title=\"Shuffled Plots\" width=\"800\"/>"
    },
    {
      "cell_type": "markdown",
      "metadata": {
        "cell_id": "54f3b1d0159b409b9d21ca0516fb9302",
        "deepnote_cell_type": "markdown"
      },
      "source": "### What You have Learned about Modeling Variation"
    },
    {
      "cell_type": "markdown",
      "metadata": {
        "cell_id": "c00bd4432dce4329aa82f4034203d721",
        "deepnote_cell_type": "markdown"
      },
      "source": "## Question 5\n\nWe now know a lot more about statistics than just word equations and visualizations. Now we can actually create a model of the longitude hypothesis. Write the best fitting model in GLM notation here. "
    },
    {
      "cell_type": "markdown",
      "metadata": {
        "cell_id": "5d0a8078b6214b8eaaee316c2da9d4f0",
        "deepnote_cell_type": "markdown"
      },
      "source": "## Question 6\n\nWhat does the *$b_{0}$* in the best fitting longitude model above mean?"
    },
    {
      "cell_type": "markdown",
      "metadata": {
        "cell_id": "133c25650f3d4201be8ed3f6eb889253",
        "deepnote_cell_type": "markdown"
      },
      "source": "## Question 7\n\nWhat does the *$b_{1}$* in the best fitting longitude model above mean?"
    },
    {
      "cell_type": "markdown",
      "metadata": {
        "cell_id": "3b12c8d14f0b4639b8400f1c5667fa71",
        "deepnote_cell_type": "markdown"
      },
      "source": "## Question 8\n\nIn the scatterplot below, which line represents the empty model (line A or line B)? Which line represents the longitude model (line A or line B)?\n\n\n<img src=\"https://coursekata-course-assets.s3.us-west-1.amazonaws.com/UCLATALL/czi-stats-course/jnb_fMK00RzR-Test-Ch-10-Model-Lines.png\" title=\"Scatterplots with models\" width=\"600\"/>"
    },
    {
      "cell_type": "markdown",
      "metadata": {
        "cell_id": "6990d5743a3142b29698dde17a6ce976",
        "deepnote_cell_type": "markdown"
      },
      "source": "## Question 9\n\nWhen we look at a visualization and think – yeah, this one looks like there is a relationship between longitude and magnitude – which parameter estimate best represents the “relationship”: *$b_{0}$* or *$b_{1}$*?"
    },
    {
      "cell_type": "markdown",
      "metadata": {
        "cell_id": "281166470f7549ecae48466e4764d8b1",
        "deepnote_cell_type": "markdown"
      },
      "source": "## Question 10\n\nEstimate that statistic for all the other scatterplots in question 4. When you have shuffled scatterplots, what are the *$b_{1}$*s typically like?"
    },
    {
      "cell_type": "markdown",
      "metadata": {
        "cell_id": "9cb2e6e0c20f4525aff26d893ba8e6b2",
        "deepnote_cell_type": "markdown"
      },
      "source": "### What You have Learned about Evaluating Models"
    },
    {
      "cell_type": "markdown",
      "metadata": {
        "cell_id": "e1548b2ea32a4a7d9bb8c21fb08086aa",
        "deepnote_cell_type": "markdown"
      },
      "source": "## Question 11\n\nThe longitude model tells us about the relationship between longitude and magnitude in the sample data. But we want to know if this relationship exists in the Data Generating Process (DGP). After creating our best fitting model, can we use R to calculate the true *$\\beta_{1}$* in the DGP? If so, write the code."
    },
    {
      "cell_type": "markdown",
      "metadata": {
        "cell_id": "87e2f318300c4870b8d1fe20d63ff55f",
        "deepnote_cell_type": "markdown"
      },
      "source": "## Question 12\n\nWhat is our best estimate of *$\\beta_{1}$*? Is it possible that this estimate is wrong?"
    },
    {
      "cell_type": "markdown",
      "metadata": {
        "cell_id": "8f23a645c3d44e81b75149fc878d84f9",
        "deepnote_cell_type": "markdown"
      },
      "source": "## Question 13\n\nWhat statistic(s) tells us whether our estimate of *$\\beta_{1}$* is correct? (Choose one).\n- PRE\n- F\n- *$b_{1}$*\n- All of the above.\n- None of the above.\n"
    },
    {
      "cell_type": "markdown",
      "metadata": {
        "cell_id": "7efa67bb33bb4f8f9e89b36cdcbb57cb",
        "deepnote_cell_type": "markdown"
      },
      "source": "## Question 14\n\nIf there was no relationship between longitude and magnitude in the DGP, what would be the true *$\\beta_{1}$*?"
    },
    {
      "cell_type": "markdown",
      "metadata": {
        "cell_id": "2aea00711cab4539aa3447b59e0c88df",
        "deepnote_cell_type": "markdown"
      },
      "source": "## Question 15\n\nIf there was no relationship between longitude and magnitude in the DGP, which would be a better model of the DGP: the empty model or the longitude model?"
    },
    {
      "cell_type": "markdown",
      "metadata": {
        "cell_id": "075dae32b84b442b80d517abc67eb539",
        "deepnote_cell_type": "markdown"
      },
      "source": "## Question 16\n\nIs it possible that we could have gotten this sample *$b_{1}$* or one that was more extreme if the true *$\\beta_{1}$* was 0?"
    },
    {
      "cell_type": "markdown",
      "metadata": {
        "cell_id": "778c285d6ca34ea68ce4e44db9ccd18e",
        "deepnote_cell_type": "markdown"
      },
      "source": "## Question 17\n\nThe function `confint()` tells me that the 95% confidence interval for 1 is -0.016, -0.007. I’ve rounded to the nearest thousandth place (3 decimal spaces).\n\nExplain what the lowest number (-0.016) and highest number (-0.007) in the confidence interval tells us. "
    },
    {
      "cell_type": "markdown",
      "metadata": {
        "cell_id": "e02bd51270984d968595b885cd2df3f9",
        "deepnote_cell_type": "markdown"
      },
      "source": "## Question 18\n\nWould our sample *$b_{1}$* or one that was more extreme be considered likely if the true *$\\beta_{1}$* was 0?"
    },
    {
      "cell_type": "markdown",
      "metadata": {
        "cell_id": "b8ec59315ab04bb0804cabeec8c1577a",
        "deepnote_cell_type": "markdown"
      },
      "source": "## Question 19\n\nAre we 95% confident that our sample came from a DGP where there is no relationship between longitude and magnitude around Fiji? Or do we feel 95% confident that there is some relationship (i.e., a negative relationship)?"
    },
    {
      "cell_type": "markdown",
      "metadata": {
        "cell_id": "11aa467ed6d944eeb3a86ec286f49a3a",
        "deepnote_cell_type": "markdown"
      },
      "source": "## Question 20\n\nDoes this data analysis mean that if we look at other islands (that are not Fiji), that there are lower magnitude earthquakes east of those islands? Why or why not? "
    }
  ],
  "metadata": {
    "deepnote_notebook_id": "24ee57b19e204ab8bd255cd6b1cf0c39",
    "kernelspec": {
      "display_name": "R",
      "language": "R",
      "name": "ir"
    },
    "language_info": {
      "codemirror_mode": "r",
      "file_extension": ".r",
      "mimetype": "text/x-r-source",
      "name": "R",
      "pygments_lexer": "r",
      "version": "4.3.3"
    },
    "nbsimplegrader": {
      "publish_config": {
        "classes": [],
        "options": [],
        "tools": []
      }
    }
  },
  "nbformat": 4,
  "nbformat_minor": 1
}