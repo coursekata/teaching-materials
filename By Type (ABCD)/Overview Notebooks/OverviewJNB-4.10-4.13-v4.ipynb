{
  "cells": [
    {
      "cell_type": "markdown",
      "metadata": {
        "cell_id": "55fde447855142d3be7342ab060d05f5",
        "deepnote_cell_type": "markdown"
      },
      "source": "# Understanding How Randomness Can Generate Patterns of Data\n\n## Chapter 4.10-4.13 Overview Notebook"
    },
    {
      "cell_type": "code",
      "execution_count": null,
      "metadata": {
        "cell_id": "8c1d8415d3ef4d5aa89e85a1aa814fd9",
        "deepnote_cell_type": "code",
        "trusted": true
      },
      "outputs": [],
      "source": "# run this to set up the notebook\nlibrary(coursekata)\n\n# read in small and large version of data\nset.seed(10)\nstroop6 <- read.csv(\"https://docs.google.com/spreadsheets/d/e/2PACX-1vSHzwppRht6ukb9_6-r7_xcCXKhe5OMYH9Oj-ORyEa5sbI-zsrBIvUHXsyEpe4-qmMQZIS6wk6G_GEO/pub?gid=333713556&single=true&output=csv\")\nstroop50 <- sample(read.csv(\"https://docs.google.com/spreadsheets/d/e/2PACX-1vRMQaRUJQLA3NSwtetd-4IJWCJf4MwyxQtfyS2giAwHoYTuH-e9lRlLGg6lrO6xRt4TQQ9SozWNr5Mz/pub?output=csv\"), 50)[, c(1,4,2,3)]\n\n# set styles\ncss <- suppressWarnings(readLines(\"https://raw.githubusercontent.com/jimstigler/jupyter/master/ck_jupyter_styles_v2.css\"))\nIRdisplay::display_html(sprintf('<style>%s</style>', paste(css, collapse = \"\\n\")))"
    },
    {
      "cell_type": "markdown",
      "metadata": {
        "cell_id": "196d9a80d7df44b8938d543792755587",
        "deepnote_cell_type": "markdown"
      },
      "source": "## 1 Explaining Variation vs. Causing Variation\n\nWe’ve been thinking about how one variable can *explain variation* in another. We've defined explain informally to mean: if knowing an observation's score on one variable helps you make a better guess about it's score on a second variable, we can say that variable 1 *explains* some of the variation in variable 2. \n\nBut just because a variable *explains* some of the variation in an outcome variable, it doesn't mean that it *causes* the variation in the outcome variable. \n\nHere's an example to illustrate the distinction:\n#### Example 1: In months where cities have a higher number of **ice cream sales**, they also have a higher number of **drownings**. \n\nHere's the word equation to represent this relationship:\n\n**drownings = ice cream sales + other stuff**\n"
    },
    {
      "cell_type": "markdown",
      "metadata": {
        "cell_id": "0f82d65cd530494eb5146b4cbb695ae2",
        "deepnote_cell_type": "markdown"
      },
      "source": "<div class=\"guided-notes\">\n\n### 1.1 We’ve filled in the word equation. In the second column, write Y/N/Maybe: does this ice cream sales *explain variation* in drownings? In the third column, write Y/N/Maybe: does ice cream sales *cause* drownings?\n\n</div>\n"
    },
    {
      "cell_type": "markdown",
      "metadata": {
        "cell_id": "69a5060cf4524df3b6e25dd265161d68",
        "deepnote_cell_type": "markdown"
      },
      "source": "<div class=\"discussion-question\">\n    <h3>1.2 Key Discussion Question: Do you think ice cream sales <i>cause</i> drownings? (Should we ban ice cream sales in an effort to curb drownings?) Can you think of a reason why ice cream sales might <i>explain</i> some of the variation in drownings?</h3>\n</div>"
    },
    {
      "cell_type": "markdown",
      "metadata": {
        "cell_id": "eb12e7bf99a543ebb02cb5d254efe7d4",
        "deepnote_cell_type": "markdown"
      },
      "source": "### 1.3 Some more examples\n\nLet's look at some more examples of patterns found in data. In each example below, consider: does the explanatory variable *explain* variation in an outcome variable? Is the relationship merely *explanatory*, or is it *causal*?\n\n#### Example 2: Kids who wear bigger shoes tend to score higher on math tests. \n\n- Does shoe size cause higher math ability? (Would giving first graders bigger shoes make them better at math?)\n    \n#### Example 3: Public health officials track flu virus particles in sewage to predict how many flu hospitalizations they will see the next week. \n\n- Does virus concentration in sewage cause hospitalizations? (If we zapped all the virus particles from sewage, would flu hospitalizations decrease?)\n    \n#### Example 4: Students who spend a lot of time alone tend to have more anxiety.\n\n- Does alone time cause anxiety? (If students spent less time alone, would they have less anxiety?)"
    },
    {
      "cell_type": "markdown",
      "metadata": {
        "cell_id": "55506a160be6438a92ef6b7ff4fc16de",
        "deepnote_cell_type": "markdown"
      },
      "source": "<div class=\"guided-notes\">\n    \n### 1.4 For each example, fill out the first three columns of the table in the guided notes (word equation, explains variation?, cause variation?).\n\n</div>"
    },
    {
      "cell_type": "markdown",
      "metadata": {
        "cell_id": "b08ab1be41eb4ec0b5dc295f3f6a2229",
        "deepnote_cell_type": "markdown"
      },
      "source": "<div class=\"discussion-question\">\n    \n### 1.5 *Key Discussion Question:* How is <i>explaining variation</i> different from  <i>causing variation</i>?\n    \n</div>"
    },
    {
      "cell_type": "markdown",
      "metadata": {
        "cell_id": "cf503dbe5f92446aa8858daf231c85bd",
        "deepnote_cell_type": "markdown"
      },
      "source": "### 1.6 Challenges to inferring causality\n\nJust because one variable *explains variation* in another doesn’t mean that the variable *causes variation* in the other. There are two other reasons one variable might *explain* variation in an outcome but not *cause* the variation:\n\n1. **Directionality:** Maybe the outcome variable *causes* variation in the explanatory variable rather than the other way around. While the explanatory variable *explains* variation in the outcome, it does not cause it. \n2. **Confounding:** There may be a third variable - called a *confound* or *lurking variable* - that causes variation in *both* the explanatory and outcome variables. The two variables appear related, but only because they share a common cause."
    },
    {
      "cell_type": "markdown",
      "metadata": {
        "cell_id": "68218538668e4cd5b4789ce617a4436e",
        "deepnote_cell_type": "markdown"
      },
      "source": "<img src=\"https://coursekata-course-assets.s3.us-west-1.amazonaws.com/UCLATALL/czi-stats-course/4.10-4.13-directionality-confounding.jpg\" alt=\"causes variation, directionality, confounding\">"
    },
    {
      "cell_type": "markdown",
      "metadata": {
        "cell_id": "9efe434b0f624be9b1482a1e37dd2527",
        "deepnote_cell_type": "markdown"
      },
      "source": "\n\n<div class=\"guided-notes\">\n    \n### 1.7 For each example in the table, fill in the *Possible Confound* column.\nThere is a relationship between the two variables *in the data.* If the explanatory variable doesn't *cause* the relationship, what might be the source of the relationship? Propose a possible confounding variable that might explain the relationship.\n\n</div>"
    },
    {
      "cell_type": "markdown",
      "metadata": {
        "cell_id": "9c1ae3aa3b924787b49fc3a46c3e2ea6",
        "deepnote_cell_type": "markdown"
      },
      "source": "## 2 Using Experiments to Overcome Directionality and Confounding\n\nIf we want to know whether one variable *causes* changes in another, we can't just observe the relationship in the world (this is known as a *correlational* research design). We must, instead, intervene in the world, *create* variation in the explanatory variable, and then observe the outcome. In short, we must use an *experimental* research design.\n\nOne way to do this is by randomly assigning research units (e.g., people, mice, cities, etc.) to different values of the explanatory variable (often referred to as different *conditions*). Random assignment creates groups that are comparable—even if individuals are very different. Any differences between groups at the point of random assignment are due only to chance. Then, if we intervene in some way with one of the groups, we have stronger evidence that any subsequent difference on the outcome variable was caused by the explanatory variable."
    },
    {
      "cell_type": "markdown",
      "metadata": {
        "cell_id": "f69fcab9318c4704ae76d6760887eecf",
        "deepnote_cell_type": "markdown"
      },
      "source": "### 2.1 Review: The Stroop Task\n\nIn a previous notebook, we analyzed data from the Stroop Task—a classic psychology experiment used to study how conflicting information affects thinking.\n\n**What’s the task?** You're shown a list of color words and asked to name the font color of each word as quickly as possible—not read the word itself. Sounds simple, right?\n\n<br> <span style=\"color: red; font-size: 32px;\"> RED&nbsp;&nbsp;&nbsp;BLUE </span> <br><br>\n\nFor the example above, you should say, \"Red, red\"—naming the font color, not the word.\n\nIn our data, students were randomly assigned to one of two lists:\n- **Congruent:** Word and font color match (e.g., \"RED\" in red)\n- **Incongruent:** Word and font color mismatch (e.g., \"RED\" in green)\n\n<table>\n  <tr>\n    <th style=\"text-align: center; border: 1px solid black;\">Congruent Words</th>\n    <th style=\"text-align: center; border: 1px solid black;\">Incongruent Words</th>\n  </tr>\n  <tr>\n    <td style=\"text-align: center; border: 1px solid black;\">\n      <img src=\"https://coursekata-course-assets.s3.us-west-1.amazonaws.com/UCLATALL/czi-stats-course/jnb_overview_3.1-3.4_stroop_congruent.jpg\">\n    </td>\n    <td style=\"text-align: center; border: 1px solid black;\">\n      <img src=\"https://coursekata-course-assets.s3.us-west-1.amazonaws.com/UCLATALL/czi-stats-course/jnb_overview_3.1-3.4_stroop_incongruent.jpg\">\n    </td>\n  </tr>\n</table>\n\n\nWe measured how long it took each student to read their list (time_sec) and compared the average times by list_type (congruent vs. incongruent).\n\n#### Research question: Does incongruence (the list_type) cause people to be slower at naming font colors? \n\n"
    },
    {
      "cell_type": "markdown",
      "metadata": {
        "cell_id": "5cc1118c4fe440569ce85e588445e5e4",
        "deepnote_cell_type": "markdown"
      },
      "source": "<div class=\"discussion-question\">\n\n### 2.2 Key Discussion Question: Students were randomly assigned to read either the congruent or incongruent list. Before they even start reading, should we expect the two groups to be different in things like reading speed, motivation, or attention span? Why or why not?\n\n</div>"
    },
    {
      "cell_type": "markdown",
      "metadata": {
        "cell_id": "5d59e16867394a639a0387640c6f8e47",
        "deepnote_cell_type": "markdown"
      },
      "source": "<img src=\"https://coursekata-course-assets.s3.us-west-1.amazonaws.com/UCLATALL/czi-stats-course/4.10-4.13-random-assignment.jpg\" width=80%>"
    },
    {
      "cell_type": "markdown",
      "metadata": {
        "cell_id": "7541d3da6d534b18b4a183c1e997f461",
        "deepnote_cell_type": "markdown"
      },
      "source": "<div class=\"discussion-question\">\n    \n### 2.3 Key Discussion Question: If there is a difference in `time_sec` across the two list types, can we assume that list type caused the difference in reading times? Why or why not?\n    \n</div>"
    },
    {
      "cell_type": "markdown",
      "metadata": {
        "cell_id": "0b7b8f1bf67842898d19cab3fbf4b995",
        "deepnote_cell_type": "markdown"
      },
      "source": "<div class=\"guided-notes\">\n    \n### 2.4 Write It Down: Why are experiments so powerful?\n    \nWrite down a summary of our discussion in your own words. What is accomplished by randomly assigning students to different list types?\n\n</div>"
    },
    {
      "cell_type": "markdown",
      "metadata": {
        "cell_id": "ff4068780c224defa85d8e7092d4ba53",
        "deepnote_cell_type": "markdown"
      },
      "source": "## 3 Inferring Causality in Random-Assignment Experiments \n\nRandom assignment is great! But even with random assignment, some differences can happen just by chance.\n\nTo understand this, imagine a counterfactual: **What if all students had read the same list?** We would still expect small differences in average reading time across the two randomly assigned groups—just because of random variation. One group might, by luck, be a little faster. (Maybe a few more faster readers got assigned to that group.)\n\nSo when we see a difference between the groups (e.g., congruent group is faster than incongruent group), there are three possible explanations for this difference:\n\n1. **It was caused by the explanatory variable:** The explanatory variable actually causes the outcome to be different.\n2. **It was caused by random sampling variation:** – The difference happened just by chance.\n3. **It was caused by a combination of explanatory variable and randomness.**\n"
    },
    {
      "cell_type": "markdown",
      "metadata": {
        "cell_id": "5fddf7f875cc41b98c75e26bd5a50bea",
        "deepnote_cell_type": "markdown"
      },
      "source": "### 3.1 Write code to take a look at the `stroop6` data frame. Is one group reading faster than the other?\n\nThe `stroop6` data frame contains data from 6 students, 3 in each condition. In the code cell below, write code to see what's in the data frame."
    },
    {
      "cell_type": "code",
      "execution_count": null,
      "metadata": {
        "cell_id": "ad12465e8a174e8188840e30a009322d",
        "deepnote_cell_type": "code",
        "trusted": true
      },
      "outputs": [],
      "source": "# look at the contents of stroop6\n\n"
    },
    {
      "cell_type": "markdown",
      "metadata": {
        "cell_id": "df4e593a266a47adaa765ee68b6726bf",
        "deepnote_cell_type": "markdown"
      },
      "source": "<div class=\"guided-notes\">\n\n### 3.2 What are three possible reasons we might see a difference in average reading time between the congruent and incongruent groups in this data?\n\n</div>"
    },
    {
      "cell_type": "markdown",
      "metadata": {
        "cell_id": "e1f92c7befd7445ea94b2b8049277e25",
        "deepnote_cell_type": "markdown"
      },
      "source": "\n## 4 Using `shuffle()` to ask: How big could the difference be and still be caused by chance alone?\n\nIn `stroop6`, we observed that students in the congruent group read faster than those in the incongruent group. We know this might have been because list type caused this difference and it might be because of random chance. \n\nBy shuffling pieces of data and with the `shuffle()` function in R, we can simulate what kinds of differences we'd expect to see if list type had no effect at all and any differences were just due to chance.\n\n#### This lets us ask: How big could the difference be, just by chance?\n\nIf our observed difference is bigger than most of the differences we see by chance, that’s evidence that list type might also matter."
    },
    {
      "cell_type": "markdown",
      "metadata": {
        "cell_id": "c1173c8ae554487788bbf1a2e205722a",
        "deepnote_cell_type": "markdown"
      },
      "source": "### 4.1 Shuffle: Hands-On Activity\n\nLet's start with the small `stroop6` data frame. Download and [print out your own copies here](https://docs.google.com/document/d/1E2OZbwwZmJdsHdaW7A6dCBwwJH5rhW9QLCG_2eHGJio/edit?usp=sharing).\n\n<img src=\"https://coursekata-course-assets.s3.us-west-1.amazonaws.com/UCLATALL/czi-stats-course/jnb-4.10-4.13-shuffle-v2.png\" width=60%>\n\nWe’re going to shuffle the outcome variable (`time_sec`). If we shuffle `time_sec`, each specific value will now be randomly put into a `list_type` group. \n\n#### Why are we doing this?\n\nThis is not the same as random assignment. Instead this is going to help us see what kinds of group differences might appear just by randomness alone!\n\n**Step 1:** Get a [printed version of the dataset](https://docs.google.com/document/d/1E2OZbwwZmJdsHdaW7A6dCBwwJH5rhW9QLCG_2eHGJio/edit?usp=sharing) and some scissors.\n\n**Step 2:** Cut out the right-hand column (shaded gray), which is an extra copy of all the `time_sec` values. Then cut out each individual value.\n\n**Step 3:** Shuffle the values and assign them randomly back into the data frame, placing each value in the `time_sec_shuffled` column. "
    },
    {
      "cell_type": "markdown",
      "metadata": {
        "cell_id": "177800e23d9d4ce68f52506b56b91b21",
        "deepnote_cell_type": "markdown"
      },
      "source": "<div class=\"discussion-question\">\n\n### 4.2 What happens when we shuffle?\n    \n- Did anyone’s shuffled groups end up with the `congruent` group reading faster than the `incongruent`? Did anyone see the opposite pattern (`incongruent` faster than `congruent`)?\n- If you did find that `congruent` times were faster than `incongruent`, why do you think this is?\n- If we repeated this random process many times, what do you think the typical difference between groups would look like?\n- How large of a difference between the two groups do you think could be created just by a purely random process (like shuffle)?\n    \n</div>\n"
    },
    {
      "cell_type": "markdown",
      "metadata": {
        "cell_id": "91fbfea3cdf6499992ccd69c7a344af4",
        "deepnote_cell_type": "markdown"
      },
      "source": "### 4.3 Using R to simulate random shuffles\n\nIn our paper activity, we saw that randomly shuffling `time_sec` could lead to a variety of outcomes, all explainable just by chance. In some cases, congruent times were faster, in others, incngruent times were faster. Let's now simulate this process in R.\n\nWe will first `shuffle()` the values of `time_sec` (`stroop6$time_sec`), and then save the shuffled values as a new column in the data frame (`time_sec_shuffled`)."
    },
    {
      "cell_type": "code",
      "execution_count": null,
      "metadata": {
        "cell_id": "2ca75d4cee7c483a9cd7caeedd26d09d",
        "deepnote_cell_type": "code",
        "scrolled": true,
        "trusted": true
      },
      "outputs": [],
      "source": "# build up the code here\n\n\n\n# print out the resulting stroop6\nstroop6"
    },
    {
      "cell_type": "markdown",
      "metadata": {
        "cell_id": "ff8ec04d70bd4c1488bf4be8fad41dca",
        "deepnote_cell_type": "markdown"
      },
      "source": "<div class=\"discussion-question\">\n\n### 4.4 Discussion Questions: What happens each time we run this code?\n    \n- Does it replicate what you did with paper?\n- What changes each time you run it? \n- What stays the same?\n    \n</div>\n"
    },
    {
      "cell_type": "markdown",
      "metadata": {
        "cell_id": "cf5a1e7a23a2428981afd27e2674e6c6",
        "deepnote_cell_type": "markdown"
      },
      "source": "<div class=\"guided-notes\">\n\n### 4.5 Scaling up: Write R code to simulate a random data generating process with <code>stroop50</code>\n\nNow that we've shuffled `time_sec` in a small dataset, let's apply the same idea to our full dataset. Modify the code below so that it shuffles `time_sec` for all 50 rows in `stroop50`.\n    \n`stroop6$time_sec_shuffled <- shuffle(stroop6$time_sec)`\n    \n</div>"
    },
    {
      "cell_type": "code",
      "execution_count": null,
      "metadata": {
        "cell_id": "aadc835d78194520ac12acfe99c3d1cb",
        "deepnote_cell_type": "code",
        "trusted": true
      },
      "outputs": [],
      "source": "# write code here\n\n\n\n# print out stroop50\nstroop50\n\n# run this a few times; what happens each time?"
    },
    {
      "cell_type": "markdown",
      "metadata": {
        "cell_id": "69325a45f5964f798cd39fa244dae92e",
        "deepnote_cell_type": "markdown"
      },
      "source": "## 5 Visualizing the Original vs. Shuffled Data in a Jitter Plot\n\nWe have shuffled all 50 rows, but it’s hard to tell just by looking at the data frame whether one group is generally faster or slower. Instead of scanning numbers, let’s visualize the data with a jitter plot. We will start with visualizing the original data, then visualize the shuffled data, and then compare the two."
    },
    {
      "cell_type": "markdown",
      "metadata": {
        "cell_id": "305580b1d5a84f40b2779e74fed3b885",
        "deepnote_cell_type": "markdown"
      },
      "source": "<div class=\"guided-notes\">\n    \n### 5.1 Write the hypothesis that `list_type` would explain variation in `time_sec` as a word equation\n</div>"
    },
    {
      "cell_type": "markdown",
      "metadata": {
        "cell_id": "71c0ccb0302c4bb08b0264d996c33c7a",
        "deepnote_cell_type": "markdown"
      },
      "source": "<div class=\"guided-notes\">\n    \n### 5.2 Write R code to make a jitter plot to explore the hypothesis in the `stroop50` data frame\n\n</div>"
    },
    {
      "cell_type": "code",
      "execution_count": null,
      "metadata": {
        "cell_id": "1deb767c78d94949880181e5c6a0065e",
        "deepnote_cell_type": "code",
        "trusted": true
      },
      "outputs": [],
      "source": "# write code\n"
    },
    {
      "cell_type": "markdown",
      "metadata": {
        "cell_id": "4c105cc7bb6e48e1b79c12436bf455a0",
        "deepnote_cell_type": "markdown"
      },
      "source": "<div class=\"discussion-question\">\n\n### 5.3 Does the jitter plot support the hypothesis?\n    \n</div>\n"
    },
    {
      "cell_type": "markdown",
      "metadata": {
        "cell_id": "90e6ca11b9c34be08a4d24bd98dfb2fd",
        "deepnote_cell_type": "markdown"
      },
      "source": "### 5.4 Now let's make a jitter plot of the shuffled data.\n    \nThere are two ways of doing this. We can use the saved shuffled variable (`time_sec_shuffled`). But we also could use a shortcut. Look at both methods in the cell below."
    },
    {
      "cell_type": "code",
      "execution_count": null,
      "metadata": {
        "cell_id": "a299ba68591048cf9cbca2cb743b413c",
        "deepnote_cell_type": "code",
        "scrolled": false,
        "trusted": true
      },
      "outputs": [],
      "source": "# using saved variable\n\n\n# shortcut\n"
    },
    {
      "cell_type": "markdown",
      "metadata": {
        "cell_id": "c8a942c93822438ea84122e8f0eee9c0",
        "deepnote_cell_type": "markdown"
      },
      "source": "<div class=\"guided-notes\">\n    \n### 5.5 Write R code to make a jitter plot with the shuffled data.\n\n</div>"
    },
    {
      "cell_type": "markdown",
      "metadata": {
        "cell_id": "ebb15e5a3d3046e081b66f6f7884bcba",
        "deepnote_cell_type": "markdown"
      },
      "source": "<div class=\"discussion-question\">\n\n### 5.6 Key Discussion Question: What do you notice about the jitter plot after each time you run the shuffle?\n    \n</div>\n"
    },
    {
      "cell_type": "code",
      "execution_count": null,
      "metadata": {
        "cell_id": "6bbfb244540a4f82be2400afff9200b7",
        "deepnote_cell_type": "code",
        "trusted": true
      },
      "outputs": [],
      "source": "# run this code to create a shuffled jitter plot\ngf_jitter(shuffle(time_sec) ~ list_type, data = stroop50, width = .1, height = 0)"
    },
    {
      "cell_type": "markdown",
      "metadata": {
        "cell_id": "f8a93ac24218478bb32a55e419a3ec6f",
        "deepnote_cell_type": "markdown"
      },
      "source": "<div class=\"discussion-question\">\n\n### 5.7 Key Discussion Question: How does the actual data differ from the shuffled data? \n\n</div>\n\n<img src=\"https://coursekata-course-assets.s3.us-west-1.amazonaws.com/UCLATALL/czi-stats-course/jnb-4.10-4.13-grid-of-shuffled-jitter-plots-stroop50.jpg\">"
    },
    {
      "cell_type": "markdown",
      "metadata": {
        "cell_id": "a82f89c04179468fa70806d1be743a1e",
        "deepnote_cell_type": "markdown"
      },
      "source": "<div class=\"discussion-question\">\n\n### 5.8  Could a random DGP have caused the patterns we saw in the real data?\n\n- Could a random DGP like `shuffle()` produce a result that looks like our real data?\n- Do most of the shuffled results look like our real data?\n    \n</div>"
    },
    {
      "cell_type": "markdown",
      "metadata": {
        "cell_id": "95a8953fb2234d5a93f970e8b57ed195",
        "deepnote_cell_type": "markdown"
      },
      "source": "## 6 Exploring another variable: Does `vision` explain Stroop task time?\n\nWe saw that while `shuffle()` could sometimes create patterns similar to the real `list_type` data, most of the shuffled data looked very different from the real data. This suggests that while randomness alone is a *possible* explanation, it's not a particularly good one.\n\nNow, let’s test another hypothesis: In one version of the Stroop experiment, half the students were asked to do this task with only one eye open. The others were allowed to keep both eyes open. Does `vision` (whether a person did the task with one or two eyes open) change reading speed in the Stroop task?"
    },
    {
      "cell_type": "markdown",
      "metadata": {
        "cell_id": "97e68f72c9194bfb8653f5d4a1a84a32",
        "deepnote_cell_type": "markdown"
      },
      "source": "<div class=\"guided-notes\">\n    \n### 6.1 Write this hypothesis as a word equation.\n    \n</div>"
    },
    {
      "cell_type": "code",
      "execution_count": null,
      "metadata": {
        "cell_id": "6239a2a3317b456abe1cb87153f83093",
        "deepnote_cell_type": "code",
        "trusted": true
      },
      "outputs": [],
      "source": "# run this\nhead(stroop50)"
    },
    {
      "cell_type": "markdown",
      "metadata": {
        "cell_id": "9fe3f034560f4aa0ba9542fb390b486c",
        "deepnote_cell_type": "markdown"
      },
      "source": "<div class=\"guided-notes\">\n    \n### 6.2 Write the R code to make a jitter plot to explore the hypothesis\n\n</div>"
    },
    {
      "cell_type": "code",
      "execution_count": null,
      "metadata": {
        "cell_id": "223326db2a70427595bc52a2ca137cac",
        "deepnote_cell_type": "code",
        "scrolled": false,
        "trusted": true
      },
      "outputs": [],
      "source": "# write code; if you want to get squares like the guided notes, use shape = 15\n"
    },
    {
      "cell_type": "markdown",
      "metadata": {
        "cell_id": "987521dca6114361b3b7a9d29c2adafa",
        "deepnote_cell_type": "markdown"
      },
      "source": "<div class=\"discussion-question\">\n\n### 6.3 Does vision seem to explain variation in reading time?\n    \n</div>"
    },
    {
      "cell_type": "markdown",
      "metadata": {
        "cell_id": "88948953c78e426ab57ad96acc1ab1cb",
        "deepnote_cell_type": "markdown"
      },
      "source": "<div class=\"guided-notes\">\n    \n### 6.4 Write R code to make a jitter plot of shuffled data\n\n</div>"
    },
    {
      "cell_type": "code",
      "execution_count": null,
      "metadata": {
        "cell_id": "ea4ec3834d354ba8828304c88917d431",
        "deepnote_cell_type": "code",
        "trusted": true
      },
      "outputs": [],
      "source": "# write code\n"
    },
    {
      "cell_type": "markdown",
      "metadata": {
        "cell_id": "aa5e07bc710a48b9801afda16dba37a3",
        "deepnote_cell_type": "markdown"
      },
      "source": "<div class=\"discussion-question\">\n\n### 6.5 Key Discussion Question: What is the difference between the original and shuffled data for `vision`?\n    \nIs the difference between the original and shuffled data as strong as it was for `list_type` (original versus shuffled)?\n    \n</div>\n\n<img src=\"https://coursekata-course-assets.s3.us-west-1.amazonaws.com/UCLATALL/czi-stats-course/jnb-4.10-4.13-grid-of-shuffled-jitter-vision.jpg\" alt=\"grid of original and shuffled jitter plots\">"
    },
    {
      "cell_type": "markdown",
      "metadata": {
        "cell_id": "c5badee626d84eb6957ac2028d92aec5",
        "deepnote_cell_type": "markdown"
      },
      "source": "<div class=\"discussion-question\">\n\n### 6.6 Could a random DGP have caused the patterns we saw in the actual data?\n\n- Could a random DGP like `shuffle()` produce a result that looks like our real data?\n- Do most of the shuffled results look like our real data?\n\n</div>"
    },
    {
      "cell_type": "markdown",
      "metadata": {
        "cell_id": "38cb38ccdf8343c5adcf663379712130",
        "deepnote_cell_type": "markdown"
      },
      "source": "## 7 Is a random data generating process responsible for our real data?\n\nWe’ve now looked at two different explanatory variables:\n\n1. `list_type` (congruent vs. incongruent): The real data looked very different from the shuffled data.\n2. `vision` (one vs. two eyes): The real data looked similar to the shuffled data."
    },
    {
      "cell_type": "markdown",
      "metadata": {
        "cell_id": "7a04c5a2be3d479eb6d73f8d5ba457c0",
        "deepnote_cell_type": "markdown"
      },
      "source": "<div class=\"guided-notes\">\n    \n### 7.1 Which real data looks like it came from a purely random DGP: list_type or vision? How does `shuffle()` help us decide whether a pattern in actual data could have been generated by randomness alone? \n    \n</div>"
    }
  ],
  "metadata": {
    "deepnote_notebook_id": "a9441cd74c7241369727e3ab2837d0d2",
    "kernelspec": {
      "display_name": "R",
      "language": "R",
      "name": "ir"
    },
    "language_info": {
      "codemirror_mode": "r",
      "file_extension": ".r",
      "mimetype": "text/x-r-source",
      "name": "R",
      "pygments_lexer": "r",
      "version": "4.3.3"
    },
    "nbsimplegrader": {
      "publish_config": {
        "classes": [],
        "options": [],
        "tools": []
      }
    }
  },
  "nbformat": 4,
  "nbformat_minor": 1
}