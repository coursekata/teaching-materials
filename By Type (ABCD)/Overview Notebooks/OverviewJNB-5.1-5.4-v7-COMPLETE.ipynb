{
  "cells": [
    {
      "cell_type": "markdown",
      "metadata": {
        "cell_id": "48aadbbb534d4a879bd209d85b0a23c9",
        "deepnote_cell_type": "markdown"
      },
      "source": "# The Mean as a Model (COMPLETE)\n\n## Chapter 5.1-5.4 Overview Notebook"
    },
    {
      "cell_type": "code",
      "execution_count": null,
      "metadata": {
        "cell_id": "57e9563dd6ce40d8a3cc0ac0a8bd05fd",
        "deepnote_cell_type": "code",
        "trusted": true
      },
      "outputs": [],
      "source": "# run this to set up the notebook\nlibrary(coursekata)\nlibrary(IRdisplay)\n# set styles\ncss <- suppressWarnings(readLines(\"https://raw.githubusercontent.com/jimstigler/jupyter/master/ck_jupyter_styles_v2.css\"))\nIRdisplay::display_html(sprintf('<style>%s</style>', paste(css, collapse = \"\\n\")))\n# load data\nlungs <- read.csv(\"https://docs.google.com/spreadsheets/d/e/2PACX-1vSz3JaTYY0RXoLQU-o1S45MDKudy6QfIQDtGLGoiy54JOydB7iELKxGbPqo_0uEvKUGCpZ_UQxu4PgM/pub?gid=1447217380&single=true&output=csv\")\nFEV <- c(3.0,3.2,3.8,4.6,3.8,2.3,4.8,4.1)\nrow <- c(1:8)\nFEV_data <- data.frame(row, FEV)"
    },
    {
      "cell_type": "markdown",
      "metadata": {
        "cell_id": "f41b151e8efe4edd9b5199d8a0caeaec",
        "deepnote_cell_type": "markdown"
      },
      "source": "<div class=\"teacher-note\">\n<b>Section Goals:</b> In this section students will explore the mean as a model, the simplest of all models. Students will learn that the mean is often the best prediction of a future value if you know nothing else about the observation.\n\n- Students will explore the mean as a model, and begin to understand that it is a better model than many other models that represent an entire distribution with a single number because the mean balances the deviations (or more generally residuals) above and below it.\n- Students will compare the median as a model to the mean, and also reflect on why using the mean as the predicted value for any new observation is better than having no model at all (i.e., just making a wild guess).\n- Students will begin to develop an informal idea of \"best-fitting\" model, that although all models are imperfect, the mean is just as likely to yield a prediction that is too high as one that is too low, and it thus minimizes error.\n- Students will be introduced to the idea that DATA = MODEL + ERROR. Using hand calculations, they will see that for each data point in a small sample, the model prediction from the empty model plus the residual (our measure of error from the model) sums up to 0.\n</ul>\nA <a href=\"https://docs.google.com/document/d/17yMnTGV4U0MW66g8Unj3VLTIhlxAiCsvB_m9kbw4xCw/edit?usp=sharing\" target=\"_blank\">printable student guided-notes worksheet</a> is available to go with this Jupyter notebook, as well as a student version of this notebook.\n</div>"
    },
    {
      "cell_type": "markdown",
      "metadata": {
        "cell_id": "24b5b686c3b34c9996e1ae20feef2911",
        "deepnote_cell_type": "markdown"
      },
      "source": "<a id =9> </a> \n# Table of Contents\n\n1 [What Is a Model?](#1)\n\n2 [Creating a Simple Model](#2)\n\n3 [We Just Made a Statistical Model](#3)\n\n4 [DATA = MODEL + ERROR](#4)\n\n5 [Exploring the Mean With a Little More Data](#5)\n\n6 [Making Predictions for the 8 Individuals in FEV_data](#6)\n\n7 [Summing the Residuals](#7)\n  "
    },
    {
      "cell_type": "markdown",
      "metadata": {
        "cell_id": "859e6b9ec65b4f7bb8f100e1a507ee22",
        "deepnote_cell_type": "markdown"
      },
      "source": "<div style=\"text-align: right\">\n  <a href=\"#9\">Back to top</a>\n</div>\n\n<a id =1> </a>\n## 1 What Is a Model?\n\n### 1.1 Word Equations as Models\n\nSo far, we’ve used word equations as informal models. For example:\n\n**lung function = smoking + other stuff**\n\nThis expresses the hypothesis that smoking can explain the variation in lung function, but other stuff (other explanatory variables) will too. \n\n### 1.2 Why We Need Statistical Models\n\nWord equations are useful for expressing ideas, but they can’t make predictions. To do this, we need data. This means we need to measure things like lung function and smoking status. With measurements in hand, we can build a **statistical model** to generate predictions.\n\n> A working definition of statistical model: **A statistical model is a function (think mathematical function) that generates a predicted value on an outcome variable.** \n\n### 1.3 Simple Example of a Statistical Model\n\nLet's say you want to predict the age of a randomly chosen 12th grader. All you know is that they are in 12th grade. You might use the age of a 12th grader you know (say, a 17-year-old) as your prediction. That number (17) serves as a simple statistical model."
    },
    {
      "cell_type": "markdown",
      "metadata": {
        "cell_id": "dc8701fc081044c69e77e8493834b93b",
        "deepnote_cell_type": "markdown"
      },
      "source": "<div style=\"text-align: right\">\n  <a href=\"#9\">Back to top</a>\n</div>\n\n<a id =2> </a>\n## 2 Creating a Simple Model\n\nTo begin our modeling journey, let's start with the simplest model of all: a model with no predictors. \n\nWe’ll come back to the question of whether smoking lowers lung function. But before we go there: **What is the predicted level of lung function for people in general, whether they smoke or not?**\n\nTo make a quantitative prediction, we need a way to measure lung function (our outcome variable of interest). Lung function is often measured using a spirometer, which produces a value called FEV (Forced Expiratory Volume). It's measured like this: take in a deep breath, then exhale as fast and forcefully as you can into a spirometer. The amount of air you can blow out in the first second (in liters) is your `FEV`."
    },
    {
      "cell_type": "markdown",
      "metadata": {
        "cell_id": "54d99389697e41458f7e54d1c70cf06c",
        "deepnote_cell_type": "markdown"
      },
      "source": "### Videos of Participants Testing Their FEV\n\n<img src=\"https://coursekata-course-assets.s3.us-west-1.amazonaws.com/UCLATALL/czi-stats-course/student1.png\" alt=\"Screenshot of student 1 testing their FEV\" width=40%>\n\n[Video 1](https://vimeo.com/1095937076)\n\n<img src=\"https://coursekata-course-assets.s3.us-west-1.amazonaws.com/UCLATALL/czi-stats-course/student2.png\" alt=\"Screenshot of student 2 testing their FEV\" width=40%>\n\n[Video 2](https://vimeo.com/1095937062)\n\n<img src=\"https://coursekata-course-assets.s3.us-west-1.amazonaws.com/UCLATALL/czi-stats-course/student3.png\" alt=\"Screenshot of student 3 testing their FEV\" width=40%>\n\n[Video 3](https://vimeo.com/1095937039)\n"
    },
    {
      "cell_type": "markdown",
      "metadata": {
        "cell_id": "b445497219884e19af1844276ba9b682",
        "deepnote_cell_type": "markdown"
      },
      "source": "<div class=\"discussion-question\">\n<h3>2.1 Discussion Question: Let's say you randomly select one of the students in your class. What would you predict would be their FEV? Explain how you made your prediction.</h3>\n</div>"
    },
    {
      "cell_type": "markdown",
      "metadata": {
        "cell_id": "5deb6909ae7a471ea102a41dd2be4e89",
        "deepnote_cell_type": "markdown"
      },
      "source": "<div class=\"teacher-note\">\n<b>Teacher Note:</b> Most students will say they have no idea what a student's value on FEV might be. They know what a liter is, but unless they have more information such as what a typical student's FEV is, they won't have any basis on which to make a prediction. Help them see that if they knew something about the distribution of FEV, it would help them make a better prediction.\n</div>"
    },
    {
      "cell_type": "markdown",
      "metadata": {
        "cell_id": "03530616880b49a88391ba586cccda32",
        "deepnote_cell_type": "markdown"
      },
      "source": "### 2.2 Using Data to Create Models\n\nMost people aren't experts in lung function so it's hard to guess how much air someone can exhale in one second. That’s where data can help. Let's see how."
    },
    {
      "cell_type": "markdown",
      "metadata": {
        "cell_id": "e0dbb4d03ae24ee2926e7d9562cea084",
        "deepnote_cell_type": "markdown"
      },
      "source": "<div class=\"guided-notes\">\n    \n### 2.3 One randomly-selected adult did the spirometer test. Their score on FEV was 3.0 liters. What would you predict the next randomly-selected adult's score to be?\n- Explain how you arrived at your prediction.\n    \n</div>"
    },
    {
      "cell_type": "markdown",
      "metadata": {
        "cell_id": "6062ed2d86014efe857e2ad5cdb76196",
        "deepnote_cell_type": "markdown"
      },
      "source": "<div class=\"teacher-note\">\n<b>Teacher Note:</b> Now students know at least what one possible score would be. In the absence of any other information, this score would be the best prediction of the next score, even though it's likely to be wrong. Make the point that unless they have reason to believe that this score is unusually high or low, it is the best they can do.\n</div>"
    },
    {
      "cell_type": "markdown",
      "metadata": {
        "cell_id": "f7cb6af2c0994e5e8a2331347d71e770",
        "deepnote_cell_type": "markdown"
      },
      "source": "<div class=\"guided-notes\">\n    \n### 2.4 A second randomly-selected adult did the spirometer test. Their score on FEV was 3.2 liters. Now you have two data points. What would you predict the next person's score to be? \n- Explain how you arrived at your prediction.\n    \n</div>"
    },
    {
      "cell_type": "markdown",
      "metadata": {
        "cell_id": "d78135ffbb9844c69bf089b7ab94a310",
        "deepnote_cell_type": "markdown"
      },
      "source": "<div class=\"discussion-question\">\n<h3>2.5 Discussion Question: Did your prediction change from the previous one? Why or why not? If you had a third piece of data, would that change your prediction?</h3>\n</div>"
    },
    {
      "cell_type": "markdown",
      "metadata": {
        "cell_id": "4cd95fca90d8475ca44362f2a955ad03",
        "deepnote_cell_type": "markdown"
      },
      "source": "<div class=\"teacher-note\">\n<b>Teacher Note:</b> We want students to realize that the more information (data) they have, the better their prediction will be. We also want them to begin to realize that the mean of the known data points might be a good model for predicting a randomly selected person's score.\n</div>"
    },
    {
      "cell_type": "markdown",
      "metadata": {
        "cell_id": "48b56fc2f87f4ef49a152ed3dee02992",
        "deepnote_cell_type": "markdown"
      },
      "source": "<div class=\"discussion-question\">\n<h3>2.6 Discussion Question: You've been predicting what the next randomly-sampled person's FEV will be. What if we asked you to predict the next 100 people's scores. Would you make the same prediction for all of them? Why or why not?</h3>\n</div>"
    },
    {
      "cell_type": "markdown",
      "metadata": {
        "cell_id": "8323da3948454b6f985ea797b23140cd",
        "deepnote_cell_type": "markdown"
      },
      "source": "<div class=\"teacher-note\"> \n\n<b>Teacher Note:</b> Many students will say they wouldn't give the same prediction to all 100 people because they *know* people vary. Not everyone will have the same FEV. That’s true! But remind them: **prediction isn’t about being right every time. It’s about using the best guess based on what you know.**\n\nIf we know nothing else about these individuals (e.g., age, height, or smoking status), there’s no reason to expect one score to be higher than another. The best we can do is give each person the same prediction, even though some people's FEV will be higher or lower than that prediction.\n\n<b>Follow-up question:</b> If you wouldn’t give the same prediction to everyone, how would you decide who to give a higher or lower score to? (Remember, you don't have any other info about them!)\n\nThis is a tough but important idea: **predicting the same value for everyone isn’t about being right, it’s about being less wrong**. We know the prediction is wrong for each person, but using one best guess minimizes how far off we are, on average, compared to randomly guessing high or low.\n</div>"
    },
    {
      "cell_type": "markdown",
      "metadata": {
        "cell_id": "a1f367e6e6124b01b08bd3cc82283d53",
        "deepnote_cell_type": "markdown"
      },
      "source": "<div style=\"text-align: right\">\n  <a href=\"#9\">Back to top</a>\n</div>\n\n<a id =3> </a>\n## 3 We Just Made a Statistical Model\n\nLet's reflect on what we just did. Even though we were just using two data points, we were following the basic steps of statistical modeling. \n\n### 3.1 Basic Steps of Statistical Modeling\n1. **Specify the model:** We chose a very simple model, one with no explanatory variables. Intuitively, we picked a number in the middle of the values we had (e.g., 3.1 instead of 3.0 or 3.2). Formally, this is a one-parameter model that uses the arithmetic mean to generate predictions by estimating just one feature of the population or DGP (i.e., the mean).\n> To specify a model is to choose the function we’ll use to make predictions.\n\n2. **Fit the model:** With one value, we used it as our prediction. When a second value came in, we averaged the two. With three, we might take the average of all three. \n> To fit a model is to use data to calculate the best version of the specified function.\n\n3. **Use the model to make predictions:** What would we predict the next observation to be? Now that we’ve fit our one-parameter model, we can use it to make a prediction. That prediction is simply the mean we calculated (which represents our best estimate of the population mean).\n> To use a model is to apply the fitted value(s) to make predictions."
    },
    {
      "cell_type": "markdown",
      "metadata": {
        "cell_id": "475453bd414346d2bd754d1eb9506fd2",
        "deepnote_cell_type": "markdown"
      },
      "source": "<div class=\"guided-notes\">\n    \n### 3.2 Which of these phrases go with each step of modeling: Specify, Fit, or Use?\n    \n- “I calculated the average FEV of the people we had in our data set.”\n- “We predicted that the next person’s FEV would be 3.1 liters.”\n- “Choose a function to make predictions.”\n- “I'm going to use a model that doesn’t use any explanatory variables.”\n- “I used the data we had to estimate the mean of the population or DGP.”\n- “Our model predicts everyone’s score to be about the same.”\n- “We used the mean of 3.1 to predict the next value.”\n- “We decided to make a one-parameter model.”\n- “The average of the data points is 3.1.”\n\n</div>"
    },
    {
      "cell_type": "markdown",
      "metadata": {
        "cell_id": "ae55dbef334c495098cb9f0ebc8cae28",
        "deepnote_cell_type": "markdown"
      },
      "source": "<div class=\"teacher-note\">\n    \n**Sample Responses:** \n\n- **Fit** “I calculated the average FEV of the people we had in our data set.”\n- **Use** “We predicted that the next person’s FEV would be 3.1 liters.”\n- **Specify** “Choose a function to make predictions.”\n- **Specify** “I'm going to use a model that doesn’t use any explanatory variables.”\n- **Fit** “I used the data we had to estimate the mean of the population or DGP.”\n- **Use** “Our model predicts everyone’s score to be about the same.”\n- **Use** “We used the mean of 3.1 to predict the next value.”\n- **Specify** “We decided to make a one-parameter model.”\n- **Fit** “The average of the data points is 3.1.”\n</div>"
    },
    {
      "cell_type": "markdown",
      "metadata": {
        "cell_id": "df83f1d4ef9e40f7858ba1d9dde718f1",
        "deepnote_cell_type": "markdown"
      },
      "source": "<div style=\"text-align: right\">\n  <a href=\"#9\">Back to top</a>\n</div>\n\n<a id =4> </a>\n## 4 DATA = MODEL + ERROR\n\n### 4.1 The Empty Model\n\nThe mean is the simplest of all models (we will call it the **empty model** or **null model**). It can be represented in a word equation like this:\n\n**FEV = mean + error**\n\nNotice that as we move from informal models to statistical models, we write the word equation a little differently. \n\n**Instead of saying \"other stuff\" we say \"error.\"** Why? Because once we make a specific numerical prediction, we can compare it to the actual data point and quantify how far off we were. The difference between the actual value and the model prediction is called the **residual**, or more generally **error**."
    },
    {
      "cell_type": "markdown",
      "metadata": {
        "cell_id": "f97cece25e7e466a92821f3efcda33fc",
        "deepnote_cell_type": "markdown"
      },
      "source": "<div class=\"guided-notes\">\n    \n### 4.2 We know DATA = MODEL + ERROR. If you know the value of a DATA point (actual) and the MODEL prediction for that data point, how would you calculate the ERROR? Write an equation to show how to calculate ERROR.\n</div>"
    },
    {
      "cell_type": "markdown",
      "metadata": {
        "cell_id": "2c614b3f98244c3c9f6cc80c8e2a673a",
        "deepnote_cell_type": "markdown"
      },
      "source": "### 4.3 Why predict data that we already have? \n\nNext, we’ll use our model to predict the FEV for the two people already in our dataset and then calculate the error for each. That might feel a little strange. After all, we already know their FEV values! Why would we want to *predict* them based on a model?\n\nThis is actually a standard part of modeling: we check how well the fitted model would have predicted the data it was built from. Later, this strategy will let us compare different models by seeing which one produces less error overall.\n\nIn more advanced statistics, you can also use this general strategy to check how models perform on new data. But for now, let’s start by learning how to measure how close (or far) our predictions are on the data we used to fit the model."
    },
    {
      "cell_type": "markdown",
      "metadata": {
        "cell_id": "4b41af42df3c48faa76128f2116919b1",
        "deepnote_cell_type": "markdown"
      },
      "source": "<table border=\"1\" style=\"font-size: 18px; margin-left: 0; border-collapse: collapse;\">\n  <thead>\n    <tr>\n      <th style=\"border: 1px solid black;\">Row</th>\n      <th style=\"border: 1px solid black;\">FEV</th>\n      <th style=\"border: 1px solid black;\">Model Prediction</th>\n      <th style=\"border: 1px solid black;\">Residual (Error)</th>\n    </tr>\n  </thead>\n  <tbody>\n    <tr>\n      <td style=\"border: 1px solid black;\">1</td>\n      <td style=\"border: 1px solid black;\">3.0</td>\n      <td style=\"border: 1px solid black;\"></td>\n      <td style=\"border: 1px solid black;\"></td>\n    </tr>\n    <tr>\n      <td style=\"border: 1px solid black;\">2</td>\n      <td style=\"border: 1px solid black;\">3.2</td>\n      <td style=\"border: 1px solid black;\"></td>\n      <td style=\"border: 1px solid black;\"></td>\n    </tr>\n  </tbody>\n</table>"
    },
    {
      "cell_type": "markdown",
      "metadata": {
        "cell_id": "a8702c8da1f244028da92a04bd98d267",
        "deepnote_cell_type": "markdown"
      },
      "source": "<div class=\"guided-notes\">\n    \n### 4.4 Assuming we are using the mean as our model of `FEV`, fill in the model predictions and residuals for a dataset with only two rows.\n    \n</div>"
    },
    {
      "cell_type": "markdown",
      "metadata": {
        "cell_id": "6acb85f9dbf84a6f92b3b8fbb07a1a56",
        "deepnote_cell_type": "markdown"
      },
      "source": "<div class=\"discussion-question\">\n\n### 4.5 Discussion Questions: \n    \n- What does it mean if the residual is negative? What if it is positive?\n- What does it mean to say DATA = MODEL + ERROR?\n- Would this always be true? Explain.\n\n</div>"
    },
    {
      "cell_type": "markdown",
      "metadata": {
        "cell_id": "35d7f12f6f494dcf8b6a40e40a11cbd1",
        "deepnote_cell_type": "markdown"
      },
      "source": "<div class=\"teacher-note\">\n    \n**Teacher Note:** \n\n- If a residual is negative then the actual data point is less than the value predicted by the model. If positive, then the actual data point is more than the predicted value.\n- A model can generate a predicted value for every row in a dataset. The actual data value will always be the sum of the prediction and the residual.\n- This would always be true. We calculated ERROR from DATA and MODEL. \n</div>"
    },
    {
      "cell_type": "markdown",
      "metadata": {
        "cell_id": "0499fdd09cfa4552a535d99959add13a",
        "deepnote_cell_type": "markdown"
      },
      "source": "<div style=\"text-align: right\">\n  <a href=\"#9\">Back to top</a>\n</div>\n\n<a id =5> </a>\n## 5 Exploring the Mean With a Little More Data\n\nWe've loaded up a data frame of `FEV` scores from a group of 8 students. (The two data points we looked at earlier are in the first two rows of this data frame.) The data frame is called `FEV_data`. Write some code to see what's in the data frame."
    },
    {
      "cell_type": "code",
      "execution_count": null,
      "metadata": {
        "cell_id": "ba4ff2acaee64b1ab7d01db89e04f3f8",
        "deepnote_cell_type": "code",
        "nbsimplegrader": {
          "config_key": "code.response",
          "editable": true,
          "label": "Response: Code",
          "respondable": true,
          "response": null,
          "runnable": true,
          "type": "code"
        },
        "scrolled": false,
        "trusted": true
      },
      "outputs": [],
      "source": "# 5\n# run code here"
    },
    {
      "cell_type": "code",
      "execution_count": null,
      "metadata": {
        "cell_id": "0cd8183fddb94b5a9136307233ba179f",
        "deepnote_cell_type": "code",
        "scrolled": false,
        "trusted": true
      },
      "outputs": [],
      "source": "# Sample Response\nstr(FEV_data)\nhead(FEV_data)"
    },
    {
      "cell_type": "markdown",
      "metadata": {
        "cell_id": "529ffccdeb044a9ab0758d20f3a34a15",
        "deepnote_cell_type": "markdown"
      },
      "source": "<div class=\"discussion-question\">\n\n### 5.1 Discussion Question: Look at the `head()` of the data frame. What is the outcome variable? What is the explanatory variable?\n\n</div>"
    },
    {
      "cell_type": "markdown",
      "metadata": {
        "cell_id": "878ff0b744134a6abd888fcb2724dac6",
        "deepnote_cell_type": "markdown"
      },
      "source": "<div class=\"teacher-note\">\n    \n**Teacher Note:** This is a trick question, but one worth asking. `FEV` is definitely the outcome variable. But `row` is not an explantory variable; it is just the row number of the observation. There is no possible explanatory variable in this data frame.\n</div>"
    },
    {
      "cell_type": "markdown",
      "metadata": {
        "cell_id": "41bfdcf9cd30484bbd97329693d5c780",
        "deepnote_cell_type": "markdown"
      },
      "source": "<div class=\"guided-notes\">\n    \n### 5.2 We now have data from 8 students. Let’s use it to **fit** the empty model of `FEV`.\n- Write the R code you would use to fit a one-parameter model.  \n- Re-write the word equation **FEV = mean + error** to represent the **fitted version** of the model. \n\n</div>"
    },
    {
      "cell_type": "markdown",
      "metadata": {
        "cell_id": "c8ac94ecce1e442d8e8a8ebade63c1a2",
        "deepnote_cell_type": "markdown"
      },
      "source": "<div class=\"teacher-note\">\n    \n**Teacher Note:** Based on the data we have (8 data points), our best model of `FEV`, assuming we have no other information, is the mean of the 8 data points. We can calculate the mean of our 8 data points using the `favstats()` function in R. The empty model prediction is 3.7.\n</div>"
    },
    {
      "cell_type": "code",
      "execution_count": null,
      "metadata": {
        "cell_id": "82197b116d984aa0a86bcfaebcebc303",
        "deepnote_cell_type": "code",
        "nbsimplegrader": {
          "config_key": "code.response",
          "editable": true,
          "label": "Response: Code",
          "respondable": true,
          "response": null,
          "runnable": true,
          "type": "code"
        },
        "trusted": true
      },
      "outputs": [],
      "source": "# 5.2\n# run code here"
    },
    {
      "cell_type": "code",
      "execution_count": null,
      "metadata": {
        "cell_id": "4954db049d0e48949e774eaabcf3d22a",
        "deepnote_cell_type": "code",
        "trusted": true
      },
      "outputs": [],
      "source": "# 5.2\n# Sample Response\nfavstats(~FEV, data=FEV_data)"
    },
    {
      "cell_type": "markdown",
      "metadata": {
        "cell_id": "d6709595bbcd4182af5b3e26873e53a6",
        "deepnote_cell_type": "markdown"
      },
      "source": "<div class=\"discussion-question\">\n\n### 5.3 Discussion Question: This new prediction is quite a bit higher than the prediction we made earlier. Which do you think is a better prediction? The current one, or the one based on 2 data points? Why? \n\n</div>"
    },
    {
      "cell_type": "markdown",
      "metadata": {
        "cell_id": "6317edc4fea743bd8b3813604cd43c88",
        "deepnote_cell_type": "markdown"
      },
      "source": "<div class=\"teacher-note\">\n\n<b>Teacher Note:</b> Encourage students to reflect on how having more data affects the quality of a model. Remind them that a single observation might be unusually high or low, but the mean of many observations gives us a more balanced prediction.\n\n</div>"
    },
    {
      "cell_type": "markdown",
      "metadata": {
        "cell_id": "54d8486b2c95446d8a8b781f75fb10f4",
        "deepnote_cell_type": "markdown"
      },
      "source": "### 5.4 Run the code below to create three visualizations of the distribution of `FEV` in `FEV_data`.\nLook at the three graphs to see how they each represent the same data in a slightly different way."
    },
    {
      "cell_type": "code",
      "execution_count": null,
      "metadata": {
        "cell_id": "a2036b4460474416a5d46b5500e6d950",
        "deepnote_cell_type": "code",
        "nbsimplegrader": {
          "config_key": "code.response",
          "editable": true,
          "label": "Response: Code",
          "respondable": true,
          "response": null,
          "runnable": true,
          "type": "code"
        },
        "scrolled": false,
        "trusted": true
      },
      "outputs": [],
      "source": "# run this code\ngf_histogram(~FEV, data=FEV_data)\ngf_point(FEV ~ 1, data=FEV_data)\ngf_point(FEV ~ row, data=FEV_data)"
    },
    {
      "cell_type": "markdown",
      "metadata": {
        "cell_id": "d2f6087e53cd4469a416d57a31c42659",
        "deepnote_cell_type": "markdown"
      },
      "source": "<div class=\"guided-notes\">\n    \n### 5.5 For each of the three graphs, on your guided notes:\n    \n- Draw a circle around the two data points we looked at earlier (they came from this dataset): 3.0 and 3.2.\n- Draw in the empty model on each graph.\n- Draw in the residuals from the two data points you circled.\n    \n</div>"
    },
    {
      "cell_type": "markdown",
      "metadata": {
        "cell_id": "bfff485eb28b45709c6eda72857c4e03",
        "deepnote_cell_type": "markdown"
      },
      "source": "<div style=\"text-align: right\">\n  <a href=\"#9\">Back to top</a>\n</div>\n\n<a id =6> </a>\n## 6 Making Predictions for the 8 Individuals in FEV_data\nBelow is the data from `FEV_data` with some extra columns added."
    },
    {
      "cell_type": "markdown",
      "metadata": {
        "cell_id": "422aa602b23041908d08d07879dbc319",
        "deepnote_cell_type": "markdown"
      },
      "source": "<div class=\"guided-notes\">\n\n### 6.1 On your guided notes, fill in the missing cells for each row under **Model Prediction** and **Residual (Error)**.\n    \n</div>"
    },
    {
      "cell_type": "markdown",
      "metadata": {
        "cell_id": "3fc2c1c08e82495f9f3ef9c2102d7eb2",
        "deepnote_cell_type": "markdown"
      },
      "source": "<div class=\"teacher-note\">\n    \n**Teacher Note:** \n- Make sure students understand why the Model Prediction column has the same value in every cell. \n- The residual is calculated as (FEV - Model Prediction). Make sure students recognize that the negative residuals are cases where the data was lower than the prediction, positive for cases where the data was higher.\n</div>"
    },
    {
      "cell_type": "markdown",
      "metadata": {
        "cell_id": "d149e74e56c1457bae82a35cfab0ab1f",
        "deepnote_cell_type": "markdown"
      },
      "source": "<table style=\"font-size: 18px; margin-left: 0; border-collapse: collapse;\">\n  <thead>\n    <tr>\n      <th style=\"border: 1px solid black;\">Row</th>\n      <th style=\"border: 1px solid black;\">FEV</th>\n      <th style=\"border: 1px solid black;\">Model Prediction</th>\n      <th style=\"border: 1px solid black;\">Residual (Error)</th>\n      <th style=\"border: 1px solid black;\">MODEL + ERROR</th>\n    </tr>\n  </thead>\n  <tbody>\n    <tr>\n      <td style=\"border: 1px solid black;\">1</td>\n      <td style=\"border: 1px solid black;\">3.0</td>\n      <td style=\"border: 1px solid black;\"></td>\n      <td style=\"border: 1px solid black;\"></td>\n      <td style=\"border: 1px solid black;\"></td>\n    </tr>\n    <tr>\n      <td style=\"border: 1px solid black;\">2</td>\n      <td style=\"border: 1px solid black;\">3.2</td>\n      <td style=\"border: 1px solid black;\"></td>\n      <td style=\"border: 1px solid black;\"></td>\n      <td style=\"border: 1px solid black;\"></td>\n    </tr>\n    <tr>\n      <td style=\"border: 1px solid black;\">3</td>\n      <td style=\"border: 1px solid black;\">3.8</td>\n      <td style=\"border: 1px solid black;\"></td>\n      <td style=\"border: 1px solid black;\"></td>\n      <td style=\"border: 1px solid black;\"></td>\n    </tr>\n    <tr> \n      <td style=\"border: 1px solid black;\">4</td>\n      <td style=\"border: 1px solid black;\">4.6</td>\n      <td style=\"border: 1px solid black;\"></td>\n      <td style=\"border: 1px solid black;\"></td>\n      <td style=\"border: 1px solid black;\"></td>\n    </tr>\n    <tr> \n      <td style=\"border: 1px solid black;\">5</td>\n      <td style=\"border: 1px solid black;\">3.8</td>\n      <td style=\"border: 1px solid black;\"></td>\n      <td style=\"border: 1px solid black;\"></td>\n      <td style=\"border: 1px solid black;\"></td>\n    </tr>\n    <tr> \n      <td style=\"border: 1px solid black;\">6</td>\n      <td style=\"border: 1px solid black;\">2.3</td>\n      <td style=\"border: 1px solid black;\"></td>\n      <td style=\"border: 1px solid black;\"></td>\n      <td style=\"border: 1px solid black;\"></td>\n    </tr>\n    <tr> \n      <td style=\"border: 1px solid black;\">7</td>\n      <td style=\"border: 1px solid black;\">4.8</td>\n      <td style=\"border: 1px solid black;\"></td>\n      <td style=\"border: 1px solid black;\"></td>\n      <td style=\"border: 1px solid black;\"></td>\n    </tr> \n    <tr>\n      <td style=\"border: 1px solid black;\">8</td>\n      <td style=\"border: 1px solid black;\">4.1</td>\n      <td style=\"border: 1px solid black;\"></td>\n      <td style=\"border: 1px solid black;\"></td>\n      <td style=\"border: 1px solid black;\"></td>\n    </tr>\n  </tbody>\n</table>"
    },
    {
      "cell_type": "markdown",
      "metadata": {
        "cell_id": "3b5613d30f1247d8a803363390aece71",
        "deepnote_cell_type": "markdown"
      },
      "source": "<div class=\"discussion-question\">\n\n### 6.2 Discussion: Some of the residuals are positive, some negative. \n    \n- Explain why none of the residuals on this table are equal to 0. \n- Would it ever be possible to have a residual of exactly 0? Why or why not?\n</div>"
    },
    {
      "cell_type": "markdown",
      "metadata": {
        "cell_id": "0dc39ea3710b4e0fad405cb1bc6d222e",
        "deepnote_cell_type": "markdown"
      },
      "source": "<div class=\"teacher-note\">\n    \n**Sample Responses:**\n- If there was someone who had an FEV exactly equal to the prediction (the mean), their residual would be 0.\n- No one had that value (3.7) in this data set.\n</div>"
    },
    {
      "cell_type": "markdown",
      "metadata": {
        "cell_id": "ad28b6f451fd424d9602678def6e4ddf",
        "deepnote_cell_type": "markdown"
      },
      "source": "<div class=\"guided-notes\">\n\n### 6.3 Fill in the final column in the table by adding together the model prediction and the residual for each row.\n    \n- Do you notice a pattern once you do this? What is it?\n- Does DATA = MODEL + ERROR? Why?\n</div>"
    },
    {
      "cell_type": "markdown",
      "metadata": {
        "cell_id": "40826b5c89344a3ebbc5e71fce0f48c1",
        "deepnote_cell_type": "markdown"
      },
      "source": "<div class=\"teacher-note\">\n    \n**Sample Responses:**\n- Pattern: You get the data again!\n- Students may say that yes, DATA = MODEL + ERROR because we’ve separated the actual data point into two parts: the model’s prediction and what’s left over (the error). \n- Some students may explain it algebraically. Since error = data – model, model + (data - model) will just give us data. \n- Others may wonder if it’s always exactly equal (especially when working with rounded numbers), so be ready to clarify that sometimes when we do things by \"hand\" there might be tiny differences due to rounding.\n</div>"
    },
    {
      "cell_type": "markdown",
      "metadata": {
        "cell_id": "8c33532a4a674f7b93c2c6774dbd1f1e",
        "deepnote_cell_type": "markdown"
      },
      "source": "<div style=\"text-align: right\">\n  <a href=\"#9\">Back to top</a>\n</div>\n\n<a id =7> </a>\n## 7 Summing the Residuals\nSomething interesting happens when we some the residuals (or errors) from the model prediction. "
    },
    {
      "cell_type": "markdown",
      "metadata": {
        "cell_id": "99746cf69c084ae894af8648b565fa4d",
        "deepnote_cell_type": "markdown"
      },
      "source": "<div class=\"guided-notes\">\n\n### 7.1 Add up the 8 residuals from the mean in the data table above. What do you get?\n  \n</div>"
    },
    {
      "cell_type": "markdown",
      "metadata": {
        "cell_id": "a71506bf675c4298aaae66954b96556a",
        "deepnote_cell_type": "markdown"
      },
      "source": "<div class=\"teacher-note\">\n    \n**Sample Response:** 0.\n</div>"
    },
    {
      "cell_type": "markdown",
      "metadata": {
        "cell_id": "0152abc7d8fa46f6a385ea89a4b1a33f",
        "deepnote_cell_type": "markdown"
      },
      "source": "### 7.2 Why the mean is such a good model\n\nThere are many functions we could use to model an outcome variable with a single number: the mean, median, mode, or even just a made-up value.\n\nBut if we measure error using residuals, **the mean is the best model because it perfectly balances the residuals**. No matter the distribution, the sum of the residuals from the mean will always be 0. Any other value will produce negative and positive residuals that don’t balance each other (resulting in a sum greater than or less than 0)."
    },
    {
      "cell_type": "markdown",
      "metadata": {
        "cell_id": "68e5c04dae7849fe9cfa7d7704464238",
        "deepnote_cell_type": "markdown"
      },
      "source": "### 7.3 Let's try the median as a model\nWhat if we use the median instead of the mean as the model? Run the `favstats()` code below to get both the median and the mean of our eight-student dataset. They are very close. Is the mean really a better model as measured by residuals?"
    },
    {
      "cell_type": "code",
      "execution_count": null,
      "metadata": {
        "cell_id": "b8d4e28cccf44746b0a1a7ff315f3c86",
        "deepnote_cell_type": "code",
        "nbsimplegrader": {
          "config_key": "code.response",
          "editable": true,
          "label": "Response: Code",
          "respondable": true,
          "response": null,
          "runnable": true,
          "type": "code"
        },
        "scrolled": true,
        "trusted": true
      },
      "outputs": [],
      "source": "# 7.3\n# run code here\n"
    },
    {
      "cell_type": "code",
      "execution_count": null,
      "metadata": {
        "cell_id": "856833deade9458fbe575c5b2ea39961",
        "deepnote_cell_type": "code",
        "scrolled": true,
        "trusted": true
      },
      "outputs": [],
      "source": "# 7.3\n# Sample Response\nfavstats(~FEV, data=FEV_data)"
    },
    {
      "cell_type": "markdown",
      "metadata": {
        "cell_id": "9b352ce4647544a69da2be3a9961478c",
        "deepnote_cell_type": "markdown"
      },
      "source": "<div class=\"guided-notes\">\n\n### 7.4 Fill in the table in your guided notes with the model predictions and residuals using the median as the model.\n</div>"
    },
    {
      "cell_type": "markdown",
      "metadata": {
        "cell_id": "de9c4cda6abb4053a76f837dd7e9def3",
        "deepnote_cell_type": "markdown"
      },
      "source": "<table style=\"font-size: 18px; margin-left: 0; border-collapse: collapse;\">\n  <thead>\n    <tr>\n      <th style=\"border: 1px solid black;\">Row</th>\n      <th style=\"border: 1px solid black;\">FEV</th>\n      <th style=\"border: 1px solid black;\">Model Prediction</th>\n      <th style=\"border: 1px solid black;\">Residual (Error)</th>\n    </tr>\n  </thead>\n  <tbody>\n    <tr>\n      <td style=\"border: 1px solid black;\">1</td>\n      <td style=\"border: 1px solid black;\">3.0</td>\n      <td style=\"border: 1px solid black;\"></td>\n      <td style=\"border: 1px solid black;\"></td>\n    </tr>\n    <tr>\n      <td style=\"border: 1px solid black;\">2</td>\n      <td style=\"border: 1px solid black;\">3.2</td>\n      <td style=\"border: 1px solid black;\"></td>\n      <td style=\"border: 1px solid black;\"></td>\n    </tr>\n    <tr>\n      <td style=\"border: 1px solid black;\">3</td>\n      <td style=\"border: 1px solid black;\">3.8</td>\n      <td style=\"border: 1px solid black;\"></td>\n      <td style=\"border: 1px solid black;\"></td>\n    </tr>\n    <tr> \n      <td style=\"border: 1px solid black;\">4</td>\n      <td style=\"border: 1px solid black;\">4.6</td>\n      <td style=\"border: 1px solid black;\"></td>\n      <td style=\"border: 1px solid black;\"></td>\n    </tr>\n    <tr> \n      <td style=\"border: 1px solid black;\">5</td>\n      <td style=\"border: 1px solid black;\">3.8</td>\n      <td style=\"border: 1px solid black;\"></td>\n      <td style=\"border: 1px solid black;\"></td>\n    </tr>\n    <tr> \n      <td style=\"border: 1px solid black;\">6</td>\n      <td style=\"border: 1px solid black;\">2.3</td>\n      <td style=\"border: 1px solid black;\"></td>\n      <td style=\"border: 1px solid black;\"></td>\n    </tr>\n    <tr> \n      <td style=\"border: 1px solid black;\">7</td>\n      <td style=\"border: 1px solid black;\">4.8</td>\n      <td style=\"border: 1px solid black;\"></td>\n      <td style=\"border: 1px solid black;\"></td>\n    </tr> \n    <tr>\n      <td style=\"border: 1px solid black;\">8</td>\n      <td style=\"border: 1px solid black;\">4.1</td>\n      <td style=\"border: 1px solid black;\"></td>\n      <td style=\"border: 1px solid black;\"></td>\n    </tr>\n  </tbody>\n</table>"
    },
    {
      "cell_type": "markdown",
      "metadata": {
        "cell_id": "e6eb56843d164a39beb566d0ae7f09b5",
        "deepnote_cell_type": "markdown"
      },
      "source": "<div class=\"guided-notes\">\n\n### 7.5 Sum the residuals from the median to see what you get.\n</div>"
    },
    {
      "cell_type": "markdown",
      "metadata": {
        "cell_id": "8eba723480eb48c49307f7d7742744e6",
        "deepnote_cell_type": "markdown"
      },
      "source": "<div class=\"teacher-note\">\n    \n**Teacher Note:** If you have time, you could let students try other numbers to model the distribution. Whatever numbers they choose, none will balance the residuals perfectly except the mean.\n</div>"
    },
    {
      "cell_type": "markdown",
      "metadata": {
        "cell_id": "6b89c1e33f614d67ab23292f62f36b79",
        "deepnote_cell_type": "markdown"
      },
      "source": "<div class=\"guided-notes\">\n\n### 7.6 Why might you prefer to use the mean as a one-parameter model instead of the median?\n</div>"
    },
    {
      "cell_type": "markdown",
      "metadata": {
        "cell_id": "6c64cef88bf4451880dd4194d71f4c22",
        "deepnote_cell_type": "markdown"
      },
      "source": "# End of notebook"
    },
    {
      "cell_type": "code",
      "execution_count": null,
      "metadata": {
        "cell_id": "d272e061603d41c2850a6dbaa4269a39",
        "deepnote_cell_type": "code",
        "trusted": true
      },
      "outputs": [],
      "source": "# run this code\ngf_histogram(~FEV, data=FEV_data) + theme_bw(base_size = 25) \ngf_point(FEV ~ 1, data=FEV_data) + theme_bw(base_size = 25) \ngf_point(FEV ~ row, data=FEV_data) + theme_bw(base_size = 25) "
    },
    {
      "cell_type": "code",
      "execution_count": null,
      "metadata": {
        "cell_id": "2decf740ffd846a9849bc44d08778837",
        "deepnote_cell_type": "code",
        "trusted": true
      },
      "outputs": [],
      "source": "library(ggforce)"
    },
    {
      "cell_type": "code",
      "execution_count": null,
      "metadata": {
        "cell_id": "5d8222ec5ce041d49ef4afd399f560c8",
        "deepnote_cell_type": "code",
        "trusted": true
      },
      "outputs": [],
      "source": "empty_model <- lm(FEV ~ NULL, data = FEV_data)\ngf_histogram(~FEV, data=FEV_data) %>%\n  gf_model(empty_model) + \n  theme_bw(base_size = 25) +\n  geom_ellipse(aes(x0 = 3.01, y0 = .5, a = .1, b = .5, angle = 0))+\n  geom_ellipse(aes(x0 = 3.23, y0 = .5, a = .1, b = .5, angle = 0)) + \n  annotate(\"segment\", x = 3.01, xend = 3.7, y = .6, yend = .6, colour = \"purple\", size=3, alpha=0.6)+ \n  annotate(\"segment\", x = 3.23, xend = 3.7, y = .4, yend = .4, colour = \"purple\", size=3, alpha=0.6)\n"
    },
    {
      "cell_type": "code",
      "execution_count": null,
      "metadata": {
        "cell_id": "a1029c3e31dd439ebef9003659927b55",
        "deepnote_cell_type": "code",
        "trusted": true
      },
      "outputs": [],
      "source": "little_bit <- .0015\ngf_point(FEV ~ 1, data=FEV_data) %>%\n  gf_model(empty_model) %>%\n  gf_point(3 ~ 1, shape = 1, size = 6) %>%\n  gf_point(3.2 ~ 1, shape = 1, size = 6) %>%\n  gf_point(3 ~ .95, shape = 1, size = .1, alpha = 0) %>%\n  gf_point(3 ~ 1.05, shape = 1, size = .1, alpha = 0) + \n  annotate(\"segment\", y = 3.01, yend = 3.7, x = 1-little_bit, xend = 1-little_bit, colour = \"purple\", size=3, alpha=0.6) + \n  annotate(\"segment\", y = 3.23, yend = 3.7, x = 1+little_bit, xend = 1+little_bit, colour = \"purple\", size=3, alpha=0.6) + \n  theme_bw(base_size = 25) \n"
    },
    {
      "cell_type": "code",
      "execution_count": null,
      "metadata": {
        "cell_id": "f85f982fe2fc4d6bb8ef76c0d540b375",
        "deepnote_cell_type": "code",
        "trusted": true
      },
      "outputs": [],
      "source": "gf_point(FEV ~ row, data=FEV_data) %>%\n  gf_model(empty_model)  %>%\n  gf_point(3 ~ 1, shape = 1, size = 6) %>%\n  gf_point(3.2 ~ 2, shape = 1, size = 6) %>%\n  gf_point(3 ~ .95, shape = 1, size = .1, alpha = 0) %>%\n  gf_point(3 ~ 1.05, shape = 1, size = .1, alpha = 0) + \n  annotate(\"segment\", y = 3.01, yend = 3.7, x = 1, xend = 1, colour = \"purple\", size=3, alpha=0.6) + \n  annotate(\"segment\", y = 3.23, yend = 3.7, x = 2, xend = 2, colour = \"purple\", size=3, alpha=0.6) + \n  theme_bw(base_size = 25) "
    }
  ],
  "metadata": {
    "deepnote_notebook_id": "b4b48ca5b97341f09ae21f47e07cb4b8",
    "kernelspec": {
      "display_name": "R",
      "language": "R",
      "name": "ir"
    },
    "language_info": {
      "codemirror_mode": "r",
      "file_extension": ".r",
      "mimetype": "text/x-r-source",
      "name": "R",
      "pygments_lexer": "r",
      "version": "4.3.3"
    },
    "nbsimplegrader": {
      "publish_config": {
        "classes": [],
        "options": [],
        "tools": []
      }
    }
  },
  "nbformat": 4,
  "nbformat_minor": 1
}