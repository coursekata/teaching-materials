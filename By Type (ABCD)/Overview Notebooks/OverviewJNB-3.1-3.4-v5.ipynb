{
  "cells": [
    {
      "cell_type": "markdown",
      "metadata": {
        "cell_id": "3fa6321c7abd4c299c9f13bb9aedf0ae",
        "deepnote_cell_type": "markdown"
      },
      "source": "# Exploring Distributions with Histograms \n\n## Chapter 3.1-3.4 Overview Notebook"
    },
    {
      "cell_type": "code",
      "execution_count": null,
      "metadata": {
        "cell_id": "e06f0f2611c74b6ba2d1790775c0fa22",
        "deepnote_cell_type": "code",
        "scrolled": true,
        "trusted": true
      },
      "outputs": [],
      "source": "# run this to set up the notebook\nsuppressMessages(library(coursekata))\n\n# read in Census at School data set\ncensus <- read.csv(\"https://docs.google.com/spreadsheets/d/e/2PACX-1vRvwncL5kF1-Y5nLEj7JeN6FzXQB2_CcelCHTLq-Ow05u4Fbsgii2PRByRIv7atjk_IrPVt92I4mPyG/pub?output=csv\")\n\n# set styles\ncensus <- select(census, region, gender, age, time_standing_on_left_leg, height, travel_time_to_school, bag_weight, left_foot_length, sleep_time)\ncss <- suppressWarnings(readLines(\"https://raw.githubusercontent.com/jimstigler/jupyter/master/ck_jupyter_styles_v2.css\"))\nIRdisplay::display_html(sprintf('<style>%s</style>', paste(css, collapse = \"\\n\")))\n"
    },
    {
      "cell_type": "markdown",
      "metadata": {
        "cell_id": "f9641f30070241599296dedcc5e8f4bc",
        "deepnote_cell_type": "markdown"
      },
      "source": "## 1. Data Collection Activity: Time Standing on Left Leg\n\nClose your eyes. Now, stand on your left leg for as long as you can. Have your partner measure your time in seconds and write down the number on the data collection sheet. Do it just once: we want to see how long you can go without practicing. When you are done, switch places and record time for your partner. Enter that into the data collection sheet. \n\n**Who cares how long you can stand on one leg?** It turns out, the amount of time you can balance on one leg declines with age, and in older adults it is actually a predictor of longevity!  \n\n**World record:** Ram Phal, 50, balanced on his right leg for 2 hr 21 min, improving upon his previous time by 20 min. Ram has broken this record three times before – once in 2021 and twice in 2023. “That's why I work on this same record to check my own potential as well as try to set a benchmark as high as possible.” (<a href=\"https://www.guinnessworldrecords.com/news/2024/8/blindfolded-indian-man-balances-on-one-leg-for-record-breaking-time\">Guiness Book of World Records</a>, August, 2024.)\n\n<img src=\"https://coursekata-course-assets.s3.us-west-1.amazonaws.com/UCLATALL/czi-stats-course/stand-one-leg.png\" width = 100%>"
    },
    {
      "cell_type": "markdown",
      "metadata": {
        "cell_id": "fac68401a4864d3f8566a7438b10c913",
        "deepnote_cell_type": "markdown"
      },
      "source": "<div class=\"guided-notes\">\n    \n### 1.1 Record your times on the guided notes\n</div>\n"
    },
    {
      "cell_type": "markdown",
      "metadata": {
        "cell_id": "fd0fe9eff25448e48ba796c8e44a90f9",
        "deepnote_cell_type": "markdown"
      },
      "source": "## 2. Looking for Patterns of Variation\nBelow is the data from a high school class of students in New Zealand. "
    },
    {
      "cell_type": "markdown",
      "metadata": {
        "cell_id": "5fdf9555827d4fc8a2ec5cd8311c354e",
        "deepnote_cell_type": "markdown"
      },
      "source": "**Raw Data:** <br><br>\n<span style=\"font-size: 26px;\">15, 30, 5, 21, 25, 50, 18, 11, 17, 10, 19, 39, 20, 30, 4, 36, 12, 19, 47, 20</span>"
    },
    {
      "cell_type": "markdown",
      "metadata": {
        "cell_id": "93a2c60328a34f728aca82e1a86c3314",
        "deepnote_cell_type": "markdown"
      },
      "source": "<div class=\"discussion-question\">\n    <h3>2.1 Key Discussion Questions: What patterns to you see in the variation across these 20 students? </h3><li>Describe characteristics of the <i>distribution</i> of standing times. </li>\n<li>What makes this a <i>distribution</i> as opposed to just a list of numbers? </li>\n<li>Now let's look at the 20 data points in order. Does that help you see any patterns more clearly?</li>\n</div>\n"
    },
    {
      "cell_type": "markdown",
      "metadata": {
        "cell_id": "b595d7fbce6c4c2792fee5544362c45f",
        "deepnote_cell_type": "markdown"
      },
      "source": "**Sorted Data:** <br><br>\n<span style=\"font-size: 26px;\">4, 5, 10, 11, 12, 15, 17, 18, 19, 19, 20, 20, 21, 25, 30, 30, 36, 39, 47, 50</span>"
    },
    {
      "cell_type": "markdown",
      "metadata": {
        "cell_id": "e472f06a70b341cda09e0bd444e34f7e",
        "deepnote_cell_type": "markdown"
      },
      "source": "## 3. Representing a Distribution with a Histogram\nA histogram is a type of graph that helps you see characteristics of the distribution of a variable. On the x-axis is the scale on which the variable is measured - in this case, the number of seconds each person could stand on their left foot with their eyes closed. The x-axis is divided into equal-sized *bins* along the measurement scale. The y-axis shows how many data points fall within each bin.\n\n"
    },
    {
      "cell_type": "markdown",
      "metadata": {
        "cell_id": "6d1ce77f758844d0bf38c0a1c32fa5ab",
        "deepnote_cell_type": "markdown"
      },
      "source": "<table style=\"width: 100%; border-collapse: collapse; font-size: 1.2em; text-align: center; \">\n    <tr>\n        <th style=\"text-align: center;\">binwidth = 2</th>\n        <th style=\"text-align: center;\">binwidth = 10</th>\n    </tr>\n    <tr>\n        <td style=\"padding: 10px;\">\n            <img src=\"https://coursekata-course-assets.s3.us-west-1.amazonaws.com/UCLATALL/czi-stats-course/3.1_graph_paperx10.png\">\n        </td>\n        <td style=\"padding: 10px;\">\n            <img src=\"https://coursekata-course-assets.s3.us-west-1.amazonaws.com/UCLATALL/czi-stats-course/3.1_graph_paperx10.png\">\n        </td>\n    </tr>\n</table><br>\n<span style=\"font-size: 26px; display: block; text-align: center;\">Data: 4, 5, 10, 11, 12, 15, 17, 18, 19, 19, 20, 20, 21, 25, 30, 30, 36, 39, 47, 50</span>"
    },
    {
      "cell_type": "markdown",
      "metadata": {
        "cell_id": "1bdeb47192cf4014b18440539eca5b4e",
        "deepnote_cell_type": "markdown"
      },
      "source": "<div class=\"guided-notes\">\n    <h3>3.1 Draw a histogram with binwidth = 2 on the graph on the left</h3>\n    <ul>\n        <li>What is the lower boundary? In this case we will start it at 0. </li>\n        <li>What is the range of your data? Is there room on the x-axis to go from 0 to 50?</li>\n        <li>What is the binwidth? In this case, it's 2.</li>\n        <li>To make our histogram, shade the bars to represent the count of scores in each bin</li>\n</div>"
    },
    {
      "cell_type": "markdown",
      "metadata": {
        "cell_id": "3d776208373f4533ae3364c69caefc65",
        "deepnote_cell_type": "markdown"
      },
      "source": "<div class=\"guided-notes\">\n    <h3>3.2 Draw a histogram with binwidth = 10 on the graph on the right</h3>\n</div>"
    },
    {
      "cell_type": "markdown",
      "metadata": {
        "cell_id": "f750a7c1456d467cb4314b11b9df0dfe",
        "deepnote_cell_type": "markdown"
      },
      "source": "<div class=\"discussion-question\">\n<h3>3.3 Key Discussion Questions: Interpreting histograms. </h3>\n\n- What does the height of the tallest bin (or bar) represent? \n- What does the height of the shortest bin (or bar) represent? \n- What is represented by the left-most bar of the histogram? \n- What is represented by the right-most bar of the histogram? \n- If there are any gaps between bars of a histogram, what does that mean?\n    \n</div>"
    },
    {
      "cell_type": "markdown",
      "metadata": {
        "cell_id": "c0a2a8c433424cad80783ecd866c4d0c",
        "deepnote_cell_type": "markdown"
      },
      "source": "<div class=\"discussion-question\">\n    <h3>3.4 Compare the two histograms. How does each highlight different features of the distribution? </h3>\n    Are there features you can see in the histograms that were harder to see in just the list of numbers?\n</div>\n"
    },
    {
      "cell_type": "markdown",
      "metadata": {
        "cell_id": "b264c9f22f824705a0aed77e65cffaa5",
        "deepnote_cell_type": "markdown"
      },
      "source": "## 4. Making Histograms with R"
    },
    {
      "cell_type": "markdown",
      "metadata": {
        "cell_id": "8189ad4f62f5457f92a6c88063fbc7c1",
        "deepnote_cell_type": "markdown"
      },
      "source": "<div class=\"discussion-question\"><h3>4.1 Make a Prediction: Here's the code to put the 20 data points into a vector called <code>time_standing_on_left_leg</code>. What will happen when you run this code?</h3>\n</div>"
    },
    {
      "cell_type": "code",
      "execution_count": null,
      "metadata": {
        "cell_id": "bcbaa125efb748818b0fe1d66ab93e0a",
        "deepnote_cell_type": "code",
        "trusted": true
      },
      "outputs": [],
      "source": "time_standing_on_left_leg <- c(4, 5, 10, 11, 12, 15, 17, 18, 19, 19, \n                               20, 20, 21, 25, 30, 30, 36, 39, 47, 50)\n"
    },
    {
      "cell_type": "markdown",
      "metadata": {
        "cell_id": "a9fc874bf9f84aab8d22de8c455d6746",
        "deepnote_cell_type": "markdown"
      },
      "source": "<div class=\"guided-notes\">\n    \n### 4.2 Create a histogram of `time_standing_on_left_leg` with `binwidth = 2`\n    \n</div>"
    },
    {
      "cell_type": "code",
      "execution_count": null,
      "metadata": {
        "cell_id": "2b562441613c412b94d6bf505d1ab99e",
        "deepnote_cell_type": "code",
        "trusted": true
      },
      "outputs": [],
      "source": "# just run\ngf_histogram(~ time_standing_on_left_leg, boundary=0, binwidth=2) "
    },
    {
      "cell_type": "markdown",
      "metadata": {
        "cell_id": "cde6827a89694394aa706d31c6f43dd7",
        "deepnote_cell_type": "markdown"
      },
      "source": "<div class=\"guided-notes\">\n\n### 4.3 Create a histogram of `time_standing_on_left_leg` with `binwidth = 10`\n    \n</div>"
    },
    {
      "cell_type": "code",
      "execution_count": null,
      "metadata": {
        "cell_id": "f1e3e3f9d5894c3993d092b83fc38f56",
        "deepnote_cell_type": "code",
        "nbsimplegrader": {
          "config_key": "code.response",
          "editable": true,
          "label": "Response: Code",
          "respondable": true,
          "response": null,
          "runnable": true,
          "type": "code"
        },
        "scrolled": false,
        "trusted": true
      },
      "outputs": [],
      "source": "# code here\n"
    },
    {
      "cell_type": "markdown",
      "metadata": {
        "cell_id": "ffeba3d98ceb4dcabc5a57b3f8d732b2",
        "deepnote_cell_type": "markdown"
      },
      "source": "### 4.4 Try out different binwidths and boundaries to explore how they change the histogram\n\n- What if you leave out `boundary` and `binwidth`? What happens?\n- How would you modify `binwidth` to make fewer bins? Why does that work?"
    },
    {
      "cell_type": "code",
      "execution_count": null,
      "metadata": {
        "cell_id": "910a37e8f49341bd87116dfd7de1e904",
        "deepnote_cell_type": "code",
        "nbsimplegrader": {
          "config_key": "code.response",
          "editable": true,
          "label": "Response: Code",
          "respondable": true,
          "response": null,
          "runnable": true,
          "type": "code"
        },
        "trusted": true
      },
      "outputs": [],
      "source": "# modify this\ngf_histogram(~ time_standing_on_left_leg, boundary = 0, binwidth = 10)\n"
    },
    {
      "cell_type": "markdown",
      "metadata": {
        "cell_id": "baedb2e1917c4c579357392230981b4d",
        "deepnote_cell_type": "markdown"
      },
      "source": "## 5. Applying What You've Learned to a Larger Dataset\nOur sample of 20 data points is useful for learning about how histograms work. But the real value of histograms is in seeing patterns in larger datasets with numerous values. Let’s apply what we've learned to a much larger dataset of 754 New Zealand high school students. **The dataset is called `census` and is already loaded into this notebook.**"
    },
    {
      "cell_type": "markdown",
      "metadata": {
        "cell_id": "95b22a7864a74af6b9c81e38253e9dc2",
        "deepnote_cell_type": "markdown"
      },
      "source": "### 5.1 Check out the contents of the `census` dataset"
    },
    {
      "cell_type": "code",
      "execution_count": null,
      "metadata": {
        "cell_id": "ba05be2ca4d0478eb7c10daa4b4059e8",
        "deepnote_cell_type": "code",
        "nbsimplegrader": {
          "config_key": "code.response",
          "editable": true,
          "label": "Response: Code",
          "respondable": true,
          "response": null,
          "runnable": true,
          "type": "code"
        },
        "trusted": true
      },
      "outputs": [],
      "source": "# code here\n"
    },
    {
      "cell_type": "markdown",
      "metadata": {
        "cell_id": "b33e703fc19b4beea503c42d22e01419",
        "deepnote_cell_type": "markdown"
      },
      "source": "<div class=\"guided-notes\">\n    \n### 5.2 Write the code to make a histogram of `time_standing_on_left_leg` in the `census` dataset\n   \nTry using the `boundary` and `binwidth` settings you used with the smaller dataset. Then try experimenting with different values for these arguments.\n    \n</div> "
    },
    {
      "cell_type": "code",
      "execution_count": null,
      "metadata": {
        "cell_id": "4dee43dea05045edae736200350acaa0",
        "deepnote_cell_type": "code",
        "nbsimplegrader": {
          "config_key": "code.response",
          "editable": true,
          "label": "Response: Code",
          "respondable": true,
          "response": null,
          "runnable": true,
          "type": "code"
        },
        "trusted": true
      },
      "outputs": [],
      "source": "# how to use gf_histogram with a data frame\n"
    },
    {
      "cell_type": "markdown",
      "metadata": {
        "cell_id": "d27625c7d8334a69b865a90c0dc0897c",
        "deepnote_cell_type": "markdown"
      },
      "source": "<div class=\"discussion-question\">\n<h3>5.3 Key Discussion Question: How does this histogram differ from the ones you made of the smaller dataset</h3>\n</div>"
    },
    {
      "cell_type": "markdown",
      "metadata": {
        "cell_id": "16f2c2106bd647128e7f1d67ab2dbe9b",
        "deepnote_cell_type": "markdown"
      },
      "source": "<div class=\"discussion-question\"><h3>5.4 Make a Prediction: If you increase the binwidth, will the numbers on the y-axis get smaller or larger? Explain your prediction.</h3>\n</div>"
    },
    {
      "cell_type": "markdown",
      "metadata": {
        "cell_id": "ab057823715f4f4180a5fe58c923885a",
        "deepnote_cell_type": "markdown"
      },
      "source": "### 5.5 The `bins` argument\nWe have been using the `binwidth` argument to control the width of the bins. We also could use the `bins` argument. Instead of specifying the width of the bins, the `bins` argument specifies the number of bins to use in the histogram."
    },
    {
      "cell_type": "markdown",
      "metadata": {
        "cell_id": "822e201c59154262b4c3b344717d3809",
        "deepnote_cell_type": "markdown"
      },
      "source": "<div class=\"discussion-question\">\n<h3>5.6 Make a Prediction: If we increase the number of bins, what will happen to the binwidth? Why?</h3>\n</div>"
    },
    {
      "cell_type": "code",
      "execution_count": null,
      "metadata": {
        "cell_id": "e9a440d94fb74c0dba44e1ce00436486",
        "deepnote_cell_type": "code",
        "nbsimplegrader": {
          "config_key": "code.response",
          "editable": true,
          "label": "Response: Code",
          "respondable": true,
          "response": null,
          "runnable": true,
          "type": "code"
        },
        "trusted": true
      },
      "outputs": [],
      "source": "# try modifying the bins argument\ngf_histogram(~ time_standing_on_left_leg, data = census, boundary = 0, bins = 5)\n"
    },
    {
      "cell_type": "markdown",
      "metadata": {
        "cell_id": "7036d5245af24386a0ba79ba2164bba6",
        "deepnote_cell_type": "markdown"
      },
      "source": "<div class=\"guided-notes\">\n<h3>5.7 What is a bin? What is a bin width? How do they relate to one another?</h3>\n</div>"
    },
    {
      "cell_type": "markdown",
      "metadata": {
        "cell_id": "f3eaa03194a24863a98125ae2f7015fc",
        "deepnote_cell_type": "markdown"
      },
      "source": "## 6. Using Histograms to See Features of Distributions\n\nNow that you know how a histogram works, now let's use them to explore some distributions. When looking at distributions, we tend to look at four features: **shape, center, spread, and weird things**."
    },
    {
      "cell_type": "code",
      "execution_count": null,
      "metadata": {
        "cell_id": "a463150ea552419cbed77af140386225",
        "deepnote_cell_type": "code",
        "scrolled": false,
        "trusted": true
      },
      "outputs": [],
      "source": "# run this code\ngf_histogram(~ time_standing_on_left_leg, data=census, boundary = 0, binwidth = 10)"
    },
    {
      "cell_type": "markdown",
      "metadata": {
        "cell_id": "4dd24cab59ca4c3c913010f606d576a4",
        "deepnote_cell_type": "markdown"
      },
      "source": "<div class=\"guided-notes\">\n<h3>6.1 Describe the shape, center, spread, and weird things in the distribution above</h3>\n</div>"
    },
    {
      "cell_type": "markdown",
      "metadata": {
        "cell_id": "53bdd108b41448a1b58a825a949c49f1",
        "deepnote_cell_type": "markdown"
      },
      "source": "## 7 Practice What You Learned"
    },
    {
      "cell_type": "markdown",
      "metadata": {
        "cell_id": "aef2b7c0c7fe451fb8cc89ca53d04dde",
        "deepnote_cell_type": "markdown"
      },
      "source": "### 7.1 To get familiar with the data, start by inspecting the data frame `census` with functions like `head()`, `str()`, or `glimpse()`. "
    },
    {
      "cell_type": "code",
      "execution_count": null,
      "metadata": {
        "cell_id": "05489e799693493c824d2cd60383ae31",
        "deepnote_cell_type": "code",
        "nbsimplegrader": {
          "config_key": "code.response",
          "editable": true,
          "label": "Response: Code",
          "respondable": true,
          "response": null,
          "runnable": true,
          "type": "code"
        },
        "trusted": true
      },
      "outputs": [],
      "source": "# take a look at the census data frame\n"
    },
    {
      "cell_type": "markdown",
      "metadata": {
        "cell_id": "71a02d7fe62f427a8e265557718eb40f",
        "deepnote_cell_type": "markdown"
      },
      "source": "Let's use histograms to look at some of the other quantitative variables in the `census` dataset and describe their distributions.\n\nHere are the other variables in the `census` dataset:\n- **region**: Region of the country students live in\n- **gender**: What gender are students\n- **age**: Age in years\n- **time_standing_on_left_leg**\n- **height**: Height in centimeters\n- **travel_time_to_school**: How long does it usually take you to get to school (to nearest minute)\n- **bag_weight**: What is the weight of your school bag today (to nearest tenth of a kilogram)\n- **left_foot_length**: Length of left foot in centimeters\n- **sleep_time**: How much sleep did you get last night (to nearest half hour)\n"
    },
    {
      "cell_type": "markdown",
      "metadata": {
        "cell_id": "bde85ef284ed4cb095d42591d6f24436",
        "deepnote_cell_type": "markdown"
      },
      "source": "### 7.2 Pick another quantitative variable (other than `time_standing_on_left_leg`) and make a histogram in the code cell below. Then describe the shape, center, spread, and weird things."
    },
    {
      "cell_type": "code",
      "execution_count": null,
      "metadata": {
        "cell_id": "408f90fa8a6e4bf6b8f9f35f72e104ce",
        "deepnote_cell_type": "code",
        "nbsimplegrader": {
          "config_key": "code.response",
          "editable": true,
          "label": "Response: Code",
          "respondable": true,
          "response": null,
          "runnable": true,
          "type": "code"
        },
        "trusted": true
      },
      "outputs": [],
      "source": "# make a histogram here\n"
    },
    {
      "cell_type": "markdown",
      "metadata": {
        "cell_id": "6478d282cfb64df49ddd3927992f4c53",
        "deepnote_cell_type": "markdown",
        "nbsimplegrader": {
          "config_key": "markdown.response",
          "editable": true,
          "label": "Response: Markdown",
          "respondable": true,
          "response": null,
          "runnable": true,
          "type": "markdown"
        }
      },
      "source": "Describe the shape, center, spread, and weird things.\n"
    },
    {
      "cell_type": "markdown",
      "metadata": {
        "cell_id": "6a61312bcbb84db99fd23809c7397bc7",
        "deepnote_cell_type": "markdown"
      },
      "source": "### 7.3 Pick another quantitative variable (other than `time_standing_on_left_leg` and the one you picked for 7.2) and make a histogram in the code cell below. Then describe the shape, center, spread, and weird things."
    },
    {
      "cell_type": "code",
      "execution_count": null,
      "metadata": {
        "cell_id": "65bd6d7d4bd843edb5307d949fd79759",
        "deepnote_cell_type": "code",
        "nbsimplegrader": {
          "config_key": "code.response",
          "editable": true,
          "label": "Response: Code",
          "respondable": true,
          "response": null,
          "runnable": true,
          "type": "code"
        },
        "trusted": true
      },
      "outputs": [],
      "source": "# make a histogram here\n"
    },
    {
      "cell_type": "markdown",
      "metadata": {
        "cell_id": "13ea4a4c071d479388885e3ab435b8dc",
        "deepnote_cell_type": "markdown",
        "nbsimplegrader": {
          "config_key": "markdown.response",
          "editable": true,
          "label": "Response: Markdown",
          "respondable": true,
          "response": null,
          "runnable": true,
          "type": "markdown"
        }
      },
      "source": "Describe the shape, center, spread, and weird things.\n"
    },
    {
      "cell_type": "markdown",
      "metadata": {
        "cell_id": "b9bc6979af3843b2bdba8f006df4d420",
        "deepnote_cell_type": "markdown"
      },
      "source": "### 7.4 Pick a categorical variable and try making a histogram in the code cell below. What happens? Why?"
    },
    {
      "cell_type": "code",
      "execution_count": null,
      "metadata": {
        "cell_id": "9a98c0d2ef614bfb983a962431e32e1e",
        "deepnote_cell_type": "code",
        "nbsimplegrader": {
          "config_key": "code.response",
          "editable": true,
          "label": "Response: Code",
          "respondable": true,
          "response": null,
          "runnable": true,
          "type": "code"
        },
        "trusted": true
      },
      "outputs": [],
      "source": "# try making a histogram with a categorical variable\n"
    },
    {
      "cell_type": "markdown",
      "metadata": {
        "cell_id": "919e4c30d34945f78c04ac5f2c956e3b",
        "deepnote_cell_type": "markdown",
        "nbsimplegrader": {
          "config_key": "markdown.response",
          "editable": true,
          "label": "Response: Markdown",
          "respondable": true,
          "response": null,
          "runnable": true,
          "type": "markdown"
        }
      },
      "source": "What happens? Why?\n"
    },
    {
      "cell_type": "markdown",
      "metadata": {
        "cell_id": "a9fd51a432904835b810600873a57402",
        "deepnote_cell_type": "markdown"
      },
      "source": "### 7.5 What is different about making a histogram from a vector (like we did for the 20 students from New Zealand) and making a histogram from a data frame (like we did from the `census` data frame)?"
    },
    {
      "cell_type": "markdown",
      "metadata": {
        "cell_id": "542e2be015a244df949ce3ea13f81a9c",
        "deepnote_cell_type": "markdown",
        "nbsimplegrader": {
          "config_key": "markdown.response",
          "editable": true,
          "label": "Response: Markdown",
          "respondable": true,
          "response": null,
          "runnable": true,
          "type": "markdown"
        }
      },
      "source": ""
    }
  ],
  "metadata": {
    "deepnote_notebook_id": "22f6654635a3461aaefe92cade99fd63",
    "kernelspec": {
      "display_name": "R",
      "language": "R",
      "name": "ir"
    },
    "language_info": {
      "codemirror_mode": "r",
      "file_extension": ".r",
      "mimetype": "text/x-r-source",
      "name": "R",
      "pygments_lexer": "r",
      "version": "4.3.3"
    },
    "nbsimplegrader": {
      "publish_config": {
        "classes": [],
        "options": [],
        "tools": []
      }
    }
  },
  "nbformat": 4,
  "nbformat_minor": 1
}