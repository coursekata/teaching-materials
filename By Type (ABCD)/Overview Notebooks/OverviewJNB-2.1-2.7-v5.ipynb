{
  "cells": [
    {
      "cell_type": "markdown",
      "metadata": {
        "cell_id": "e5011645f5b1473b8c91fc3e7b5c7930",
        "deepnote_cell_type": "markdown"
      },
      "source": "# Where Data Comes From\n\n## Chapter 2.1-2.7 Overview Notebook"
    },
    {
      "cell_type": "code",
      "execution_count": null,
      "metadata": {
        "cell_id": "0c4fdd7b0795499681cbf58b6d28f989",
        "deepnote_cell_type": "code",
        "trusted": true
      },
      "outputs": [],
      "source": "# run this to set up the notebook\nlibrary(coursekata)\n\n# set styles\ncss <- suppressWarnings(readLines(\"https://raw.githubusercontent.com/jimstigler/jupyter/master/ck_jupyter_styles_v2.css\"))\nIRdisplay::display_html(sprintf('<style>%s</style>', paste(css, collapse = \"\\n\")))\n"
    },
    {
      "cell_type": "markdown",
      "metadata": {
        "cell_id": "aa9a5889e1d14a1c82be925dbe767561",
        "deepnote_cell_type": "markdown"
      },
      "source": "# Table of Contents\n\n1 [Where Data Comes From](#1)\n\n2 [Reading tidy data into R](#2)\n\n3 [Variables and values](#3)\n\n4 [Counting categories](#4)\n\n5 [Practice What You Learned: Explore Our Class Data](#5)"
    },
    {
      "cell_type": "markdown",
      "metadata": {
        "cell_id": "5b8fcde3d79e4402803e2529a208d249",
        "deepnote_cell_type": "markdown"
      },
      "source": "<a id =1> </a> \n## 1 Where Data Comes From\n\nData might eventually in up in a neat table or spreadsheet but that's not where it starts out. Data starts with variation in the messy world around us. Every dataset starts with a decision: What do we want to measure, and who (or what) should we measure it from?\n\nThese two big decisions are called:\n- **Sampling**: choosing the cases (e.g., people, animals, products) we want to study\n- **Measurement**: deciding what we want to record about each case, and how to do it\n\nToday, our class will act as both researchers and participants. You’ll be the cases, and we’ll measure different features of you by asking questions like: \"What’s the worst color?\" We'll use our data as an example to help us understand some key ideas about data: \n\n- What is a \"case\"? *Each person is one case in our dataset.*\n- What is a \"variable\"? *“Worst color” is one variable we're measuring.*\n- What do we mean by a \"value\"? *Each person’s answer—like “brown” or “neon green” is a value*.\n- And how do we organize all this information into a usable dataset?"
    },
    {
      "cell_type": "markdown",
      "metadata": {
        "cell_id": "6e0fff438e344031bc6da60cd6299492",
        "deepnote_cell_type": "markdown"
      },
      "source": "### 1.1 Collect some data\n\nA group of students decided to collect data from their classmates on some variables of interest. They were interested in their classmates responses to seven questions:\n\n- What are your initials?\n- How  many dogs have you kissed?\n- Are you left handed or right handed? (1=left-handed; 2=right-handed)\n- How many days do you think you would survive in a zombie apocalypse?\n- Do you have a driver's license?\n- What is the worst color?\n- How extroverted are you (on a 10-point scale, where 10 is the most extroverted)?\n\nTo collect the data, they gave each classmate 7 pieces of paper, and labeled each piece with the variable they were trying to measure. Try recording the data for yourself.\n\n<img src=\"https://coursekata-course-assets.s3.us-west-1.amazonaws.com/UCLATALL/czi-stats-course/2.1-2.7-student-data.jpg\">"
    },
    {
      "cell_type": "markdown",
      "metadata": {
        "cell_id": "0e37d0cd6a0c4ffaa850c9d4575ca65d",
        "deepnote_cell_type": "markdown"
      },
      "source": "<div class=\"guided-notes\">\n\n### 1.2  Fill in your own data on the “slips of paper” (on your guided notes).\n</div>"
    },
    {
      "cell_type": "markdown",
      "metadata": {
        "cell_id": "b83de075362d40f8b7a1bd4f0539461a",
        "deepnote_cell_type": "markdown"
      },
      "source": "<div class=\"discussion-question\">\n    \n### 1.3 Key Discussion Question: What was hard about reporting your own data? What kinds of decisions did you have to make?\n\n</div>"
    },
    {
      "cell_type": "markdown",
      "metadata": {
        "cell_id": "79d7087ccb014c1387442758ed8a8fbc",
        "deepnote_cell_type": "markdown"
      },
      "source": "### 1.4 A small dataset\n\nBelow, the students have arranged the 7 pieces of paper for each of three students.\n\n<img src=\"https://coursekata-course-assets.s3.us-west-1.amazonaws.com/UCLATALL/czi-stats-course/2.1-2.7-data-collection.png\" width = 100%>"
    },
    {
      "cell_type": "markdown",
      "metadata": {
        "cell_id": "f8fdff78c6124ea2bf7febf1ba435b4e",
        "deepnote_cell_type": "markdown"
      },
      "source": "<div class=\"discussion-question\">\n    \n### 1.5 Key Discussion Questions: Look at the data from these three students. \n    \n- Describe how features such as  **handedness** or **zombie survival time** vary across the three people. What makes it hard to make these comparisons? What would make it easier?\n- Would it be harder or easier if the data for each student were not on the same row? Why?\n\n</div>"
    },
    {
      "cell_type": "markdown",
      "metadata": {
        "cell_id": "dbe82cbc38394ff98350936b93011916",
        "deepnote_cell_type": "markdown"
      },
      "source": "### 1.6 *Tidy data:* A way to organize data to make it easier to analyze\n\nAs you noticed looking at the data above, some ways of organizing data are easier to analyze than others. There are many ways data can be organized, but the most common way, and the one we use in this class, is called **tidy data**. When organized in this way, it helps us (and computers) read, explore, and analyze the data more easily.\n\nTidy data are organized according to these three principles:\n\n| 1. Each row is a case<br>(or observation). | 2. Each column is a variable. | 3. Each cell contains a value<br>for the particular case and variable. |\n|:--:|:--:|:--:|\n| <img src=\"https://coursekata-course-assets.s3.us-west-1.amazonaws.com/UCLATALL/czi-stats-course/R9jDj2v6.png\" width=\"229px\" alt=\"Each row is a case\"> | <img src=\"https://coursekata-course-assets.s3.us-west-1.amazonaws.com/UCLATALL/czi-stats-course/HTwvwwvP.png\" width=\"230px\" alt=\"Each column is a variable\"> | <img src=\"https://coursekata-course-assets.s3.us-west-1.amazonaws.com/UCLATALL/czi-stats-course/qJKtbHzk.png\" width=\"228px\" alt=\"Each cell is a value\"> |\n"
    },
    {
      "cell_type": "markdown",
      "metadata": {
        "cell_id": "562cd9ca0e2245558b04a51ae21dcf65",
        "deepnote_cell_type": "markdown"
      },
      "source": "<div class=\"guided-notes\">\n    \n### 1.7 Complete the tidy data principles.    \n    \n</div>"
    },
    {
      "cell_type": "markdown",
      "metadata": {
        "cell_id": "1add8c10afbe41c3b956a48c3a3cd7c4",
        "deepnote_cell_type": "markdown"
      },
      "source": "<div class=\"guided-notes\">\n\n### 1.8 Use the blank table to organize the messy data from the three students as tidy data.\n    \n<img src=\"https://coursekata-course-assets.s3.us-west-1.amazonaws.com/UCLATALL/czi-stats-course/2.1-2.7-data-collection.png\" width = 100%>\n</div>"
    },
    {
      "cell_type": "markdown",
      "metadata": {
        "cell_id": "efc2f58bd4e044a2a8ab82cf703e76ab",
        "deepnote_cell_type": "markdown"
      },
      "source": "<a id =2> </a> \n## 2 Reading tidy data into R\n\nMany tools you might be familiar with (e.g., Google sheets, Excel spreadsheets) are organized in tidy data format. Data represented in tidy data format also usually have a **header row** at the top that tells you what each column is (e.g., the headers for this data might say **initials** or **handedness**). \n\nR uses something similar called a **data frame**—a structure that stores tidy data in rows and columns.\n\nTo work with your own data in R, a common workflow is:\n- Enter the data into a Google Sheet.\n- Export it as a CSV file (short for Comma-Separated Values, a simple text file version of the spreadsheet).\n- Use R’s `read.csv()` function to read that CSV into a data frame.\n\nWe'll practice this using a Google Sheet that another class already filled in. "
    },
    {
      "cell_type": "markdown",
      "metadata": {
        "cell_id": "3c9e9319e5354bdbaf1ab0a221522be3",
        "deepnote_cell_type": "markdown"
      },
      "source": "### 2.1 Run the code below. This saves the data frame in R's memory. But how do we look at this data frame?"
    },
    {
      "cell_type": "code",
      "execution_count": null,
      "metadata": {
        "cell_id": "a57b10c8144e4c9b865589a0dd6d6d27",
        "deepnote_cell_type": "code",
        "scrolled": false,
        "trusted": true
      },
      "outputs": [],
      "source": "# edit this\nlittle_survey <- read.csv(\"https://docs.google.com/spreadsheets/d/1edJ2vEMp80CTrQV7nRv5SC7hUzFG-Oyh12b1ThIew3c/export?format=csv&id=1edJ2vEMp80CTrQV7nRv5SC7hUzFG-Oyh12b1ThIew3c&gid=0\")\n"
    },
    {
      "cell_type": "markdown",
      "metadata": {
        "cell_id": "bd013985689d4dcd87bf03403e01e800",
        "deepnote_cell_type": "markdown"
      },
      "source": "<div class=\"discussion-question\">\n    \n### 2.2 Key Discussion Question: What happened when we ran this code?\n\n</div>"
    },
    {
      "cell_type": "markdown",
      "metadata": {
        "cell_id": "407e2c5cc1f34b81ba4e79471da15fe9",
        "deepnote_cell_type": "markdown"
      },
      "source": "### 2.3 How can we figure out how many cases and how many variables are in the data frame? What are the variable names?"
    },
    {
      "cell_type": "code",
      "execution_count": null,
      "metadata": {
        "cell_id": "ce065ae6dd114995aa2ba1f7cff7a1dd",
        "deepnote_cell_type": "code",
        "nbsimplegrader": {
          "config_key": "code.response",
          "editable": true,
          "label": "Response: Code",
          "respondable": true,
          "response": null,
          "runnable": true,
          "type": "code"
        },
        "trusted": true
      },
      "outputs": [],
      "source": "# run code here"
    },
    {
      "cell_type": "markdown",
      "metadata": {
        "cell_id": "bbf3997e8db245b59bb93f52ff9fcab4",
        "deepnote_cell_type": "markdown"
      },
      "source": "<div class=\"guided-notes\">\n\n### 2.4 Explain what each line of R code does in your own words.\n    \n</div>"
    },
    {
      "cell_type": "markdown",
      "metadata": {
        "cell_id": "5bce0cc35ea44f22ae9d45ede649ec34",
        "deepnote_cell_type": "markdown"
      },
      "source": "### 2.5 Let's learn two more functions to show you what's in the data frame\nIn the code cell below, try running `str()` and `glimpse()` to see what information they provide."
    },
    {
      "cell_type": "code",
      "execution_count": null,
      "metadata": {
        "cell_id": "68a64a0a25874303ae61d8553055f300",
        "deepnote_cell_type": "code",
        "trusted": true
      },
      "outputs": [],
      "source": "# code here\nstr(little_survey)\nglimpse(little_survey)"
    },
    {
      "cell_type": "markdown",
      "metadata": {
        "cell_id": "9fa748f961c04c008789b78a159f6f50",
        "deepnote_cell_type": "markdown"
      },
      "source": "<div class=\"guided-notes\">\n    \n### 2.6 Explain what `str()` and `glimpse()` does in your own words.\n\nHow are these functions similar to and different from `head()`?\n    \n</div>"
    },
    {
      "cell_type": "code",
      "execution_count": null,
      "metadata": {
        "cell_id": "8409246dd99d44228969e5265b162b96",
        "deepnote_cell_type": "code",
        "trusted": true
      },
      "outputs": [],
      "source": "# code here\nstr(little_survey)\nglimpse(little_survey)"
    },
    {
      "cell_type": "markdown",
      "metadata": {
        "cell_id": "ee74cd2533df46809e37e606b8f4cc17",
        "deepnote_cell_type": "markdown"
      },
      "source": "<div class=\"discussion-question\">\n\n### 2.7 Key Discussion Question: How good is this sample? Should we use it to draw conclusions about how people in general estimate their zombie survival time? Why or why not?\n</div>"
    },
    {
      "cell_type": "markdown",
      "metadata": {
        "cell_id": "55fb1b4e5fba4e08a238c3df46fa23ac",
        "deepnote_cell_type": "markdown"
      },
      "source": "<div class=\"guided-notes\">\n    \n### 2.8 What kind of critiques did you come up with: About Sampling, Measurement, or Both?\n\nThe critiques you came up with can be grouped into two broad categories:\n- **Sampling:** Concerns about the cases in the dataset. Do the cases (the people) in the sample represent the larger population we care about?\n- **Measurement:** Concerns about the values in the dataset--how the data was collected or what it tells us. Was the question clear? Did people interpret it the same way? Are the responses meaningful?\n\nIn the table are some example critiques that students (like you!) often raise. For each one, decide whether the issue is mostly about sampling, measurement, or both. Then explain your reasoning.\n    \n| **Student Critiques**                                                                     | **What kind of criticism is this? Sampling, Measurement, or Both? Why? (Explain briefly.)** |\n|:-------------------------------------------------------------------------------------------|:--------------------------------------------------------------------|\n| \"It’s just a few people from a class.\"                                                     |                                                                    |\n| \"It’s just students so it doesn't represent the whole age range.\"                         |                                                                    |\n| \"One person said they’d survive 1,000,000 days — that seems unrealistic.\"                 |                                                                    |\n| \"Students might be overconfident about their survival time.\"                              |                                                                    |\n\n    \n</div>"
    },
    {
      "cell_type": "markdown",
      "metadata": {
        "cell_id": "45b918cce35641c39bcac4f6420e8f3a",
        "deepnote_cell_type": "markdown"
      },
      "source": "<a id =3> </a> \n## 3 Variables and values\n\nIt's important to distinguish *variables* from *values*. Take a look at the head of `little_survey` (also printed in your guided notes). \n- Each **column** is a variable — something we measured, like how many dogs someone kissed, or what they think is the worst color. \n- Each **cell** contains a **value** — one person’s data for that variable."
    },
    {
      "cell_type": "code",
      "execution_count": null,
      "metadata": {
        "cell_id": "6b377a45d1c14f339cf0e797a1a4c682",
        "deepnote_cell_type": "code",
        "trusted": true
      },
      "outputs": [],
      "source": "# run this\nhead(little_survey)"
    },
    {
      "cell_type": "markdown",
      "metadata": {
        "cell_id": "668223c2b225415f942518e7a95bd14f",
        "deepnote_cell_type": "markdown"
      },
      "source": "<div class=\"discussion-question\">\n    \n### 3.1 Key Discussion Question: What do you notice about how these 6 students vary in the `dogs_kissed` variable?\n\n</div>"
    },
    {
      "cell_type": "markdown",
      "metadata": {
        "cell_id": "578d3dd32e944e20a5bfd48802e6730c",
        "deepnote_cell_type": "markdown"
      },
      "source": "### 3.2 How can we look at just one variable in R?\n\nSometimes we want to look at just one column — like `dogs_kissed` — instead of the whole dataset."
    },
    {
      "cell_type": "code",
      "execution_count": null,
      "metadata": {
        "cell_id": "9c56f3bd26d44d6e988236fe6c3f297d",
        "deepnote_cell_type": "code",
        "trusted": true
      },
      "outputs": [],
      "source": "# write code\n"
    },
    {
      "cell_type": "markdown",
      "metadata": {
        "cell_id": "f4536bd748ed47ebb588f03c827bf450",
        "deepnote_cell_type": "markdown"
      },
      "source": "<div class=\"guided-notes\">\n    \n### 3.3 Write down the code for looking at just one variable from a data frame.\n    \n</div>"
    },
    {
      "cell_type": "markdown",
      "metadata": {
        "cell_id": "7f75254ab43d477fa242e2335ca111d6",
        "deepnote_cell_type": "markdown"
      },
      "source": "### 3.4 Why are `dogs_kissed` or `worst_color` called *variables* in the first place? What varies?\n"
    },
    {
      "cell_type": "markdown",
      "metadata": {
        "cell_id": "9e0ecfb8f7f34413ac574421428b00a3",
        "deepnote_cell_type": "markdown"
      },
      "source": "### 3.5 What's different about the values of a variable such as `dogs_kissed` versus a variable like `worst_color`?"
    },
    {
      "cell_type": "markdown",
      "metadata": {
        "cell_id": "284187f31e5e4232b5f087987b32ef2d",
        "deepnote_cell_type": "markdown"
      },
      "source": "<div class=\"guided-notes\">\n\n### 3.6 Circle all the quantitative variables in the `head(little_survey)` data printed in your notes. \n    \n- **Quantitative variables** contain measurements that are **numbers** — the numbers represent quantities that you can add, average, or compare. Some who gets a 2 on a quantitative variable has twice as much of whatever it is being measured than someone who gets a 1. \n- **Categorical variables** contain labels that assign each case to a **category or group**. We could represent these categories with numbers (e.g., 1=left-handed, 2=right-handed) but these numbers don't represent quantities (so, right handed is not \"twice as much as left-handed). Values of categorical variables are often just represented as words (e.g., \"gray\").\n\nIf you're not sure about one, mark it with a question mark and be ready to discuss!\n\n</div>\n"
    },
    {
      "cell_type": "markdown",
      "metadata": {
        "cell_id": "95b0729036b347ee86d3652a59e7d086",
        "deepnote_cell_type": "markdown"
      },
      "source": "### 3.7 Does R know whether a variable is quantitative or categorical?\n\nLet’s run `glimpse()` again. In addition to the name of each variable, it also tells us the **type of variable** for each variable in the data frame. (This information is conveyed inside the < > brackets in the output.)"
    },
    {
      "cell_type": "code",
      "execution_count": null,
      "metadata": {
        "cell_id": "7f77eed1e6244b3a9f082606d596c607",
        "deepnote_cell_type": "code",
        "trusted": true
      },
      "outputs": [],
      "source": "# run this\nglimpse(little_survey)"
    },
    {
      "cell_type": "markdown",
      "metadata": {
        "cell_id": "a2b5741a66064991866bd22ac4471d89",
        "deepnote_cell_type": "markdown"
      },
      "source": "<div class=\"guided-notes\">\n\n### 3.8 Fill in what R says about the type of each variable listed, and whether you think the variable is quantitative or categorical.\n    \n- `zombie_days`\n- `have_dl`\n- `extroverted`\n- `handedness`\n\n</div>\n"
    },
    {
      "cell_type": "markdown",
      "metadata": {
        "cell_id": "66dbf56047c74fa0b34478713963fd73",
        "deepnote_cell_type": "markdown"
      },
      "source": "### 3.9 Write R code to tell R that a variable is categorical (also called a \"factor\").\n\nSometimes R categorized a variable incorrectly. We coded `handedness`, for example, as 1 for left-handed and 2 for right-handed. R called it `<int>` for integer, thinking it's a quantitative variable. It's an understandable mistake; R doesn't know what *handedness* means.\n\nWe can correct the mistake by using the `factor()` function. A factor in R is always treated as **categorical**, even if it's made up of numbers. Use the code cell below to create a new version of `handedness` called `hand_factor`, and save it as a new variable in the `little_survey` data frame. Then check the data frame to make sure the new variable is there.\n"
    },
    {
      "cell_type": "code",
      "execution_count": null,
      "metadata": {
        "cell_id": "c8b48efc52004f869db7a522428e8dbb",
        "deepnote_cell_type": "code",
        "nbsimplegrader": {
          "config_key": "code.response",
          "editable": true,
          "label": "Response: Code",
          "respondable": true,
          "response": null,
          "runnable": true,
          "type": "code"
        },
        "trusted": true
      },
      "outputs": [],
      "source": "# write code\n\n"
    },
    {
      "cell_type": "markdown",
      "metadata": {
        "cell_id": "b7b169f041154a699d44ff3df7e59701",
        "deepnote_cell_type": "markdown"
      },
      "source": "### 3.10 Predict what you think will happen if you run each line of code. Then run the code in the cell below (one line at a time)."
    },
    {
      "cell_type": "code",
      "execution_count": null,
      "metadata": {
        "cell_id": "8f4058d6ba7d4eb0bb7fd7f965f4839c",
        "deepnote_cell_type": "code",
        "trusted": true
      },
      "outputs": [],
      "source": "# try running each line of code one at a time\n#sum(little_survey$handedness)\n#sum(little_survey$hand_factor)"
    },
    {
      "cell_type": "markdown",
      "metadata": {
        "cell_id": "0c753bf3ebb9425a8dea8cb66c41be37",
        "deepnote_cell_type": "markdown"
      },
      "source": "<div class=\"discussion-question\">\n    \n### 3.11 Key Discussion Question: Why do you think we get the results we get from these lines of code?\n\n</div>"
    },
    {
      "cell_type": "markdown",
      "metadata": {
        "cell_id": "c2a372730dac463485d612c838437eba",
        "deepnote_cell_type": "markdown"
      },
      "source": "### 3.12 Quantitative vs. categorical: Different names, same idea\n\nIn this class, we’ll mostly use the terms **quantitative** and **categorical** to describe types of variables. But in R (and in statistics more broadly), you’ll see other words used to describe different types of variables. For now, you can just think of all these terms as referencing the same distinction: *quantitative vs. categorical*.\n\n<br><center><table style=\"margin: 0; font-size: 16px; font-family: Segoe UI, sans-serif; border-collapse: collapse; width: auto;\">\n  <thead>\n    <tr style=\"background-color:#f2f2f2;\">\n      <th style=\"text-align: left; padding: 10px; border: 1px solid #ccc;\">Quantitative Variable</th>\n      <th style=\"text-align: left; padding: 10px; border: 1px solid #ccc;\">&nbsp;&nbsp;&nbsp;&nbsp;&nbsp;&nbsp;&nbsp;&nbsp;&nbsp;&nbsp;&nbsp;&nbsp;&nbsp;&nbsp;&nbsp;&nbsp;</th>\n      <th style=\"text-align: left; padding: 10px; border: 1px solid #ccc;\">Categorical Variable</th>\n    </tr>\n  </thead>\n  <tbody>\n    <tr>\n      <td style=\"text-align: left; padding: 10px; border: 1px solid #ccc;\">Numeric (num)</td>\n      <td style=\"text-align: left; padding: 10px; border: 1px solid #ccc;\"> </td>\n      <td style=\"text-align: left; padding: 10px; border: 1px solid #ccc;\">Character (chr)</td>\n    </tr>\n    <tr style=\"background-color:#f9f9f9;\">\n      <td style=\"text-align: left; padding: 10px; border: 1px solid #ccc;\">Integer (int)</td>\n      <td style=\"text-align: left; padding: 10px; border: 1px solid #ccc;\"> </td>\n      <td style=\"text-align: left; padding: 10px; border: 1px solid #ccc;\">Factor</td>\n    </tr>\n    <tr>\n      <td style=\"text-align: left; padding: 10px; border: 1px solid #ccc;\">Double (dbl)</td>\n      <td style=\"text-align: left; padding: 10px; border: 1px solid #ccc;\"> </td>\n      <td style=\"text-align: left; padding: 10px; border: 1px solid #ccc;\">Nominal</td>\n    </tr>\n    <tr style=\"background-color:#f9f9f9;\">\n      <td style=\"text-align: left; padding: 10px; border: 1px solid #ccc;\">Continuous</td>\n      <td style=\"text-align: left; padding: 10px; border: 1px solid #ccc;\"> </td>\n      <td style=\"text-align: left; padding: 10px; border: 1px solid #ccc;\">Qualitative</td>\n    </tr>\n    <tr>\n      <td style=\"text-align: left; padding: 10px; border: 1px solid #ccc;\">Scale</td>\n      <td style=\"text-align: left; padding: 10px; border: 1px solid #ccc;\"> </td>\n      <td style=\"text-align: left; padding: 10px; border: 1px solid #ccc;\"></td>\n    </tr>\n  </tbody>\n</table></center>\n"
    },
    {
      "cell_type": "markdown",
      "metadata": {
        "cell_id": "454876acd1b34c7e8dd036d046735c0a",
        "deepnote_cell_type": "markdown"
      },
      "source": "<a id =4> </a> \n## 4 Counting categories"
    },
    {
      "cell_type": "markdown",
      "metadata": {
        "cell_id": "1036b22d4c0c4045906123e6aae3feb3",
        "deepnote_cell_type": "markdown"
      },
      "source": "### 4.1 How do we count how many people in this data set have a driver's license?\n\nWe can use the `tally()` function to count the number of rows that fall into each category of a categorical variable. "
    },
    {
      "cell_type": "code",
      "execution_count": null,
      "metadata": {
        "cell_id": "e409aa748bbd43129ae1d68991bc8d85",
        "deepnote_cell_type": "code",
        "nbsimplegrader": {
          "config_key": "code.response",
          "editable": true,
          "label": "Response: Code",
          "respondable": true,
          "response": null,
          "runnable": true,
          "type": "code"
        },
        "trusted": true
      },
      "outputs": [],
      "source": "# write code\n\n"
    },
    {
      "cell_type": "markdown",
      "metadata": {
        "cell_id": "77c03653ceec48d894941a3a36768f44",
        "deepnote_cell_type": "markdown"
      },
      "source": "<div class=\"discussion-question\">\n\n### 4.2 We found that 6 students in `little_survey` have driver's licenses. Can we add that information to the `little_survey` data frame? Why or why not?\n    \n</div>\n"
    },
    {
      "cell_type": "markdown",
      "metadata": {
        "cell_id": "8bea5c6a470e44af829b825292f0afd7",
        "deepnote_cell_type": "markdown"
      },
      "source": "<div class=\"guided-notes\">\n\n### 4.3 Practice using `tally()` to count other categories in the data.\nFor each variable, write the code and report the findings. \n\n</div>"
    },
    {
      "cell_type": "code",
      "execution_count": null,
      "metadata": {
        "cell_id": "229ab7876d9d4ea69329a75eae5423e4",
        "deepnote_cell_type": "code",
        "nbsimplegrader": {
          "config_key": "code.response",
          "editable": true,
          "label": "Response: Code",
          "respondable": true,
          "response": null,
          "runnable": true,
          "type": "code"
        },
        "trusted": true
      },
      "outputs": [],
      "source": "# code here\n"
    },
    {
      "cell_type": "markdown",
      "metadata": {
        "cell_id": "4d3161d1c3c24f6ba7a756548aea1dea",
        "deepnote_cell_type": "markdown"
      },
      "source": "<a id =5> </a> \n## 5 Practice What You Learned: Explore Our Class Data\n\nLet's read our own class's data into an R data frame and see what we find. \n\nUse this shared Google Sheet to add your own row: **[Teacher Shares Link]**\n\nOnce it is complete, you can use this CSV link: **[Teacher Shares Link]**\n"
    },
    {
      "cell_type": "markdown",
      "metadata": {
        "cell_id": "d28171b00d3a49c1a94327b52aad47da",
        "deepnote_cell_type": "markdown"
      },
      "source": "### 5.1 How many cases are in the data set? How many variables?"
    },
    {
      "cell_type": "markdown",
      "metadata": {
        "cell_id": "4edb4f48f2ba4283823d5ce1bb760d1b",
        "deepnote_cell_type": "markdown"
      },
      "source": "### 5.2 How many quantitative variables should there be? "
    },
    {
      "cell_type": "markdown",
      "metadata": {
        "cell_id": "364b984df0f84bc482acbef31306aabf",
        "deepnote_cell_type": "markdown"
      },
      "source": "### 5.3 How many categorical variables should there be? "
    },
    {
      "cell_type": "markdown",
      "metadata": {
        "cell_id": "171e6160885f415f96b270ce84067c9c",
        "deepnote_cell_type": "markdown"
      },
      "source": "### 5.4 Are there any variables that should be one type but R sees them as a different type? What's going on? What can we do to fix those?"
    },
    {
      "cell_type": "markdown",
      "metadata": {
        "cell_id": "8e909eea14c8442c9acb704b6fa294fc",
        "deepnote_cell_type": "markdown"
      },
      "source": "### 5.5 Try creating the `hand_factor` variable. Use R code to tally up how many left-handed people are in our class."
    }
  ],
  "metadata": {
    "deepnote_notebook_id": "cc67ec0488354d168107448f68da3a1c",
    "kernelspec": {
      "display_name": "R",
      "language": "R",
      "name": "ir"
    },
    "language_info": {
      "codemirror_mode": "r",
      "file_extension": ".r",
      "mimetype": "text/x-r-source",
      "name": "R",
      "pygments_lexer": "r",
      "version": "4.3.3"
    },
    "nbsimplegrader": {
      "publish_config": {
        "classes": [],
        "options": [],
        "tools": []
      }
    }
  },
  "nbformat": 4,
  "nbformat_minor": 1
}