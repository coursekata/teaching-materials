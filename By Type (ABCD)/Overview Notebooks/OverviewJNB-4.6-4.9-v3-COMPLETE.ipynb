{
  "cells": [
    {
      "cell_type": "markdown",
      "metadata": {
        "cell_id": "e5193df800344c87b02144e9b24918e9",
        "deepnote_cell_type": "markdown"
      },
      "source": "# Categorical, and More-Than-One, Explanatory Variables (COMPLETE)\n\n## Chapter 4.6-4.9 Overview Notebook"
    },
    {
      "cell_type": "code",
      "execution_count": null,
      "metadata": {
        "cell_id": "896ba6477d954db896d466cf0fe9f694",
        "deepnote_cell_type": "code",
        "trusted": true
      },
      "outputs": [],
      "source": "# run this to set up the notebook\nlibrary(coursekata)\n\n# read in data\nepic_char <- read.csv(\"https://docs.google.com/spreadsheets/d/1lIQJUqAmZTgBnuRw4DfR8_S-K_moYJH5gsnCEnMZ_BI/export?format=csv&gid=808955994\") %>%\n  select(char_name, uni_name, gender, chill_quant, chill_cat, loveable_quant, loveable_cat)\nepic_characters <- read.csv(\"https://docs.google.com/spreadsheets/d/1lIQJUqAmZTgBnuRw4DfR8_S-K_moYJH5gsnCEnMZ_BI/export?format=csv&gid=808955994\")\n\n# set styles\ncss <- suppressWarnings(readLines(\"https://raw.githubusercontent.com/jimstigler/jupyter/master/ck_jupyter_styles_v2.css\"))\nIRdisplay::display_html(sprintf('<style>%s</style>', paste(css, collapse = \"\\n\")))"
    },
    {
      "cell_type": "markdown",
      "metadata": {
        "cell_id": "8516e86c4fd34ddd94932974ee1b8ceb",
        "deepnote_cell_type": "markdown"
      },
      "source": "<div class=\"teacher-note\">\n<b>Section Goals:</b> In this section students will further expand their understanding of what it means to explain variation in one variable with another to include cases where both the outcome and the explanatory variable are categorical, and cases where there is more than one explanatory variable. They will learn to visualize these relationships with faceted bar graphs, contingency tables, and the use of color. \n\n- Students will expand their use of word equations to represent hypothesized relationships when the outcome variable is categorical, which is a good chance to review the distinction between a variable (e.g., gender) and its possible values (female and male).\n- Students will use R to create faceted bar graphs and contingency tables, and should also be allowed to explore why other visualizations (e.g., faceted histograms or scatter plots) are not useful for visualizing categorical outcome variables.\n- Students should understand when proportions (gf_props, or tally with format = “proportion”) might be preferable to frequencies and vice versa.\n- Students will learn to represent multivariate hypotheses with word equations, and to visualize them using attributes such color, size, shape, and multiple facets in their plots.\n- Students will also begin to think more abstractly about what it means to explain variation, categorizing the sources of variation in an outcome variable as explained or unexplained (what we have termed “other stuff” in our word equations).\n- Students will understand that adding more explanatory variables will reduce the amount of unexplained variation; and that unexplained variation can be further divided into variation that is explainable and variation that is unexplainable.\n\n\n    </ul>\n    A <a href=\"https://docs.google.com/document/d/1NpnhdgY3jXPMyvD2XQ4uBJtEHsKS9gdAA3vw4rJ9juA/edit?tab=t.ruav1w6j7tle\" target=\"_blank\">printable student guided-notes worksheet</a> is available to go with this Jupyter notebook, as well as a student version of this notebook.\n</div>"
    },
    {
      "cell_type": "markdown",
      "metadata": {
        "cell_id": "4dc7bb10720047e5a91c127a8b8d8cae",
        "deepnote_cell_type": "markdown"
      },
      "source": "## 1 The `epic_char` Data Frame\n\nThe `epic_char` data frame contains data on 81 fictional characters from various epic universes (including the Marvel Cinematic Universe, Star Wars, Dark Knight, Harry Potter, and Lord of the Rings). Each character was rated on a number of character traits by more than 3 million volunteers as part of the [Open Psychometrics Project](https://openpsychometrics.org/tests/characters/). \n\nFor example, volunteers were presented with the character Darth Vader (from *Star Wars*), and asked to indicate, using a slider, where Darth Vader would fall on a 100-point scale from punchable (coded as 0) to loveable (100). The average rating for a subset of these dimensions is saved in the `epic_char` data frame. The data frame includes 8 variables.\n\n<img src=\"https://coursekata-course-assets.s3.us-west-1.amazonaws.com/UCLATALL/czi-stats-course/jnb-rate-characters.jpg\" alt=\"example of how people rated a character with a slider\" width = 50%>\n\n### The Variables\n\n- `char_name` The character's name.\t\n- `uni_name` The universe name of the book, game, movie, or TV show.\n- `gender` The gender of the character (M=Male, F=Female).\n- `chill_quant` Average rating of how chill (vs offended) the character is on a scale from 0 (offended) to 100 (chill).\n- `chill_cat` Coded as *offended* if the character had a score less than 50 on `chill_quant` and *chill* otherwise\n- `loveable_quant` Average rating of how loveable (vs punchable) the character is on a scale from 0 (punchable) to 100 (loveable).\n- `loveable_cat` Coded as *punchable* if the character had a score less than 50 on `loveable_quant` and *loveable* otherwise\n\n#### Data Source: \n\nThe complete data set from which `epic_char` was drawn was made available by Tanya Shapiro as a [Tidy Tuesday data set](https://github.com/rfordatascience/tidytuesday/tree/master/data/2022/2022-08-16)."
    },
    {
      "cell_type": "markdown",
      "metadata": {
        "cell_id": "7075bb1284484aaf97e7b9d2b0881f9b",
        "deepnote_cell_type": "markdown"
      },
      "source": "### 1.1 An excerpt from the `epic_char` data frame is below (and also available in your guide notes). What are the rows? The columns? The values?"
    },
    {
      "cell_type": "markdown",
      "metadata": {
        "cell_id": "8a5b08470735425dbbfd743f96a853bc",
        "deepnote_cell_type": "markdown"
      },
      "source": "<img src=\"https://coursekata-course-assets.s3.us-west-1.amazonaws.com/UCLATALL/czi-stats-course/jnb-4.6-4.9-data-table.png\" alt=\"example of how people rated a character with a slider\" width = 90%>"
    },
    {
      "cell_type": "markdown",
      "metadata": {
        "cell_id": "e1e70855f27c4dbf821999a0ba9fe424",
        "deepnote_cell_type": "markdown"
      },
      "source": "<div class=\"teacher-note\">\n<b>Teacher note:</b> Give students a little time to familiarize themselves with the structure of the data set. \n    \n<b>Sample responses:</b>\n\n- Each row is a character.\n- Each column is a variable that tells us some piece of information about the character. \n- The contents of the cells are <i>values</i>. \n    - The values in <code>chill_quant</code> and <code>loveable_quant</code> represent average ratings across many volunteer raters. \n    - The values in <code>chill_cat</code> and <code>loveable_cat</code> are words.\n</div>"
    },
    {
      "cell_type": "markdown",
      "metadata": {
        "cell_id": "ac9b36a188c24582ae9ca7e5d63069a3",
        "deepnote_cell_type": "markdown"
      },
      "source": "<div class=\"discussion-question\">\n<h3>1.2 Discussion Question: Do you agree with how each character was rated? Why or why not? </h3>\n</div>"
    },
    {
      "cell_type": "markdown",
      "metadata": {
        "cell_id": "4e8ce9c1947848fd9d431ad871e2ef0a",
        "deepnote_cell_type": "markdown"
      },
      "source": "<div class=\"guided-notes\">\n    \n### 1.3 Fill in the missing values in the data frame\n    \nUse the `chill_quant` and `loveable_quant` values to fill in the missing `chill_cat` and `loveable_cat` columns.\n    \n</div>"
    },
    {
      "cell_type": "markdown",
      "metadata": {
        "cell_id": "5a2673d4c89f43c1888eb06fa017ead8",
        "deepnote_cell_type": "markdown"
      },
      "source": "<div class=\"guided-notes\">\n    \n### 1.4 Circle/highlight the names of all the *categorical* variables\n\nHow can you tell a variable is categorical?\n\n</div>"
    },
    {
      "cell_type": "markdown",
      "metadata": {
        "cell_id": "3faa22cb7543478485b3fba2df93afc3",
        "deepnote_cell_type": "markdown"
      },
      "source": "## 2 Exploring a Hypothesis: Characters Who Are More Chill Tend to Be More Loveable\nWe will start by using the quantitative versions of the two variables: `chill_quant` and `loveable_quant`"
    },
    {
      "cell_type": "markdown",
      "metadata": {
        "cell_id": "a826b9da8a3846dbb8b448e2ccd22986",
        "deepnote_cell_type": "markdown"
      },
      "source": "<div class=\"guided-notes\">\n\n### 2.1 Write a word equation to represent the hypothesis\n    \n</div>"
    },
    {
      "cell_type": "markdown",
      "metadata": {
        "cell_id": "8f253b8ee3ef4cc59848ace21e1c8aab",
        "deepnote_cell_type": "markdown",
        "nbsimplegrader": {
          "config_key": "markdown.response",
          "editable": true,
          "label": "Response: Markdown",
          "respondable": true,
          "response": null,
          "runnable": true,
          "type": "markdown"
        }
      },
      "source": "word equation: "
    },
    {
      "cell_type": "markdown",
      "metadata": {
        "cell_id": "98b253a0c8b24598a5797c29f06a4d3b",
        "deepnote_cell_type": "markdown"
      },
      "source": "<div class=\"teacher-note\">\n    \n<b>Sample response:</b>\nloveable_quant = chill_quant + other stuff\n</div>"
    },
    {
      "cell_type": "markdown",
      "metadata": {
        "cell_id": "666cfad4b95c4f2d8ed9fc02ef666c44",
        "deepnote_cell_type": "markdown"
      },
      "source": "<div class=\"guided-notes\">\n\n### 2.2 Write R code to visualize the distribution of the outcome variable\nWhat do you notice about the distribution of this variable?\n \n</div>"
    },
    {
      "cell_type": "code",
      "execution_count": null,
      "metadata": {
        "cell_id": "d8e5c8e92d3343348487b94b4c15d44b",
        "deepnote_cell_type": "code",
        "nbsimplegrader": {
          "config_key": "code.response",
          "editable": true,
          "label": "Response: Code",
          "respondable": true,
          "response": null,
          "runnable": true,
          "type": "code"
        },
        "trusted": true
      },
      "outputs": [],
      "source": "# code here\n\n# sample response\ngf_histogram(~ loveable_quant, data = epic_char)"
    },
    {
      "cell_type": "markdown",
      "metadata": {
        "cell_id": "dad42aa3815d4fa6b2301dff37959423",
        "deepnote_cell_type": "markdown"
      },
      "source": "<div class=\"guided-notes\">\n\n### 2.3 Write R code to visualize the hypothesis\nWhat do you notice about the relationships between these quantitative variables? \n</div>"
    },
    {
      "cell_type": "code",
      "execution_count": null,
      "metadata": {
        "cell_id": "2c06ee5d4e194d3eb34bded37790b05c",
        "deepnote_cell_type": "code",
        "trusted": true
      },
      "outputs": [],
      "source": "# code here\ngf_point(loveable_quant ~ chill_quant, data = epic_char)"
    },
    {
      "cell_type": "markdown",
      "metadata": {
        "cell_id": "9b96dec4e6564dc98f2b24f9106798bf",
        "deepnote_cell_type": "markdown"
      },
      "source": "<div class=\"discussion-question\">\n<h3>2.4 Discussion Question: Do you see support for the hypothesis in the graph? Explain. </h3>\n</div>"
    },
    {
      "cell_type": "markdown",
      "metadata": {
        "cell_id": "52730f2906d347509866240af945d790",
        "deepnote_cell_type": "markdown"
      },
      "source": "## 3 Explore the Hypothesis with Categorical Versions of the Variables\nIn the previous section we used `loveable_quant` and `chill_quant`. In this section let's use `loveable_cat`  and `chill_cat` - categorical versions of the variables - instead."
    },
    {
      "cell_type": "markdown",
      "metadata": {
        "cell_id": "f0a93a41a38842f5978055f4a2f29b3c",
        "deepnote_cell_type": "markdown"
      },
      "source": "<div class=\"guided-notes\">\n\n### 3.1 Write a word equation to represent the hypothesis\nBe sure to use the categorical variable names in your word equation.\n    \n</div>"
    },
    {
      "cell_type": "markdown",
      "metadata": {
        "cell_id": "922fca8518844d75935efed7daf65fbe",
        "deepnote_cell_type": "markdown",
        "nbsimplegrader": {
          "config_key": "markdown.response",
          "editable": true,
          "label": "Response: Markdown",
          "respondable": true,
          "response": null,
          "runnable": true,
          "type": "markdown"
        }
      },
      "source": "word equation: "
    },
    {
      "cell_type": "markdown",
      "metadata": {
        "cell_id": "f41d32d832b84a40b0e462ad32cb4fad",
        "deepnote_cell_type": "markdown"
      },
      "source": "<div class=\"teacher-note\">\n    \n<b>Sample response:</b>\nloveable_cat = chill_cat + other stuff\n</div>"
    },
    {
      "cell_type": "markdown",
      "metadata": {
        "cell_id": "47c1df9cfa8d4eef8935510ac581b8f5",
        "deepnote_cell_type": "markdown"
      },
      "source": "<div class=\"guided-notes\">\n\n### 3.2 Write R code to visualize the distribution of the outcome variable\nWhat do you notice about the distribution of this variable?\n \n</div>"
    },
    {
      "cell_type": "markdown",
      "metadata": {
        "cell_id": "ed67d771743d4551b37cdd7b42e4b300",
        "deepnote_cell_type": "markdown"
      },
      "source": "<div class=\"teacher-note\">\n    <b>Teacher note:</b> Allow students some time to discover that the same visualizations used for quantitative variables don't work for categorical variables. The best tool for visualizing the outcome will be a bar graph (<code>gf_bar()</code>). The best tool for visualizating the relationship will be a faceted bar graph.\n</div>"
    },
    {
      "cell_type": "code",
      "execution_count": null,
      "metadata": {
        "cell_id": "5661b7190cd74ab6bc5fa7ff2747b73a",
        "deepnote_cell_type": "code",
        "trusted": true
      },
      "outputs": [],
      "source": "# code here\n\n# sample responses\ngf_bar(~ loveable_cat, data = epic_char)\n\n# it may be helpful to show students the errors that arise from trying to use a histogram\n#gf_histogram(~ loveable_cat, data = epic_char)\n"
    },
    {
      "cell_type": "markdown",
      "metadata": {
        "cell_id": "da353f2bcfe0419da1ea5de68004eb0a",
        "deepnote_cell_type": "markdown"
      },
      "source": "<div class=\"discussion-question\">\n    <h3>3.3 Discussion Question: Can we adjust the binwidth for <code>loveable_cat</code>? Why or why not? </h3>\n</div>"
    },
    {
      "cell_type": "markdown",
      "metadata": {
        "cell_id": "fea9e320cbb84108870516f9f38a90a5",
        "deepnote_cell_type": "markdown"
      },
      "source": "<div class=\"teacher-note\">\n<b>Teacher note:</b> \n\n- Bar graphs for categorical variables do not use bins in the same way histograms do.\nBar graphs display frequencies of named categories (e.g., \"loveable\", \"punchable\").\n- In bar graphs, there is no numeric continuum to split up into bins. The categories are already defined.\n- As a follow up, you may want to show students how a bar graph of `loveable_quant` would have very skinny bars: `gf_bar(~ loveable_quant, data = epic_char)`\n</div>\n"
    },
    {
      "cell_type": "markdown",
      "metadata": {
        "cell_id": "f302e8d6f803458297011ee2fec9c644",
        "deepnote_cell_type": "markdown"
      },
      "source": "<div class=\"guided-notes\">\n\n### 3.4 Write R code to visualize the hypothesis\nWhat do you notice about the relationships between these categorical variables? \n</div>"
    },
    {
      "cell_type": "code",
      "execution_count": null,
      "metadata": {
        "cell_id": "f7416b5ccd7c481d947d4ea677d6becf",
        "deepnote_cell_type": "code",
        "trusted": true
      },
      "outputs": [],
      "source": "# add onto this code \ngf_bar(~ loveable_cat, data = epic_char)\n\n# sample response\ngf_bar(~ loveable_cat, data = epic_char) %>%\n  gf_facet_grid(. ~ chill_cat)\n\n# you can try switching which variable is faceted\n#gf_bar(~ chill_cat, data = epic_char) %>%\n#  gf_facet_grid(. ~ loveable_cat)"
    },
    {
      "cell_type": "markdown",
      "metadata": {
        "cell_id": "1e534e25fd6f49588bc92bb1ecc4587d",
        "deepnote_cell_type": "markdown"
      },
      "source": "<div class=\"teacher-note\">\n    <b>Teacher note:</b> \n    \nIt tends to make most sense to start with the outcome variable, then use the explanatory variable for the facets. Try switching the order of the variables (i.e., which one is in the bars, and which in the facets) and helping students notice the difference. (See the discussion question below.) There's no one right way to do this!\n</div>"
    },
    {
      "cell_type": "markdown",
      "metadata": {
        "cell_id": "eeb7ed71bde44250ab780402e9b621da",
        "deepnote_cell_type": "markdown"
      },
      "source": "<div class=\"discussion-question\">\n    <h3>3.5 Discussion Question: Do you see support for the hypothesis--that chill characters are more loveable--in the faceted bar graph? Does it make more sense for the outcome variable to be in the bars or in the facets? Explain. </h3>\n</div>"
    },
    {
      "cell_type": "markdown",
      "metadata": {
        "cell_id": "64c0ded4a6c34d499c4365e73626fd41",
        "deepnote_cell_type": "markdown"
      },
      "source": "<div class=\"teacher-note\">\n<b>Sample responses:</b> \n\n- There are more loveable characters (than punchable) in the chill facet.\n- There are fewer loveable characters (than punchable) in the offended facet. \n- Since our hypothesis is about whether chill characters (explanatory variable) tend to be more loveable (outcome), it makes sense for counts of <code>loveable_cat</code> to be in the bars and <code>chill_cat</code> to be in the facets.\n- If you changed it to have counts of <code>chill_cat</code> in the bars and <code>loveable_cat</code> in the facets, we would be able to see whether loveable characters tend to be chill.\n\n</div>\n"
    },
    {
      "cell_type": "markdown",
      "metadata": {
        "cell_id": "a9d696f288d84bb0b2dbdea951286b7b",
        "deepnote_cell_type": "markdown"
      },
      "source": "### 3.6 The function `gf_bar` graph counts (the number of observations in each category).  How would we modify the code below to show proportions? Percents?\n\nTry functions such as `gf_props()` (shows the proportion), and `gf_percents()` (shows the percent). "
    },
    {
      "cell_type": "code",
      "execution_count": null,
      "metadata": {
        "cell_id": "37e4bc9a95ae455480dc528a1f69884c",
        "deepnote_cell_type": "code",
        "scrolled": false,
        "trusted": true
      },
      "outputs": [],
      "source": "# edit the code here\ngf_bar(~ loveable_cat, data = epic_char) %>%\n  gf_facet_grid(. ~ chill_cat)\n  \n# sample responses (just change out gf_bar)\ngf_props(~ loveable_cat, data = epic_char) %>%\n  gf_facet_grid(. ~ chill_cat)\n  \ngf_percents(~ loveable_cat, data = epic_char) %>%\n  gf_facet_grid(. ~ chill_cat)"
    },
    {
      "cell_type": "markdown",
      "metadata": {
        "cell_id": "2c8ed79308bc4f4a8cce52d230a13af7",
        "deepnote_cell_type": "markdown"
      },
      "source": "<div class=\"discussion-question\">\n    <h3>3.7 Discussion Question: The percent of characters that are chill and loveable is 97%; the percent of characters that are offended and loveable is 35%. Why don't these two bars add up to 100%?</h3>\n\n</div>"
    },
    {
      "cell_type": "markdown",
      "metadata": {
        "cell_id": "d205394cf038497bb492518aeb1a96ed",
        "deepnote_cell_type": "markdown"
      },
      "source": "<div class=\"teacher-note\">\n<b>Teacher note:</b> \n\n- If you look at the two bars within the chill category, the percentages of loveable and punchable will add up to 100%. The same is true for the two offended bars.\n- But if you try to add the percentages of chill and offended within the loveable category, they won't add up to 100%. \n- These percentages help us answer the question: \"Of the characters who are chill, what percent are loveable?\" — not \"What percent of all loveable characters are chill?\"\n- This way of adding up to 100% within each chill category lets us directly compare how likely a chill character is to be loveable versus how likely an offended character is to be loveable — which is exactly what our hypothesis (characters who are chill tend to be more loveable) is about.\n</div>\n"
    },
    {
      "cell_type": "markdown",
      "metadata": {
        "cell_id": "a9969e94099b4cd39286cba9eb31d9a9",
        "deepnote_cell_type": "markdown"
      },
      "source": "<img src=\"https://coursekata-course-assets.s3.us-west-1.amazonaws.com/UCLATALL/czi-stats-course/jnb-4.6-4.9-bar-props-percents.png\" alt=\"all three bar graphs\">  "
    },
    {
      "cell_type": "markdown",
      "metadata": {
        "cell_id": "0eff096050f64f2db665843b4ca83dc4",
        "deepnote_cell_type": "markdown"
      },
      "source": "<div class=\"guided-notes\">\n    \n### 3.8 Write the R code that was used to make the gray graph in your guided notes.\n    \n</div>"
    },
    {
      "cell_type": "markdown",
      "metadata": {
        "cell_id": "170406e3a4fb492eb96751fbb46206e4",
        "deepnote_cell_type": "markdown"
      },
      "source": "## 4 Explore the Hypothesis with Contingency Tables\nUp to now we've been using bar graphs to explore the relationship between two categorical variables. Let's see how we could accomplish the same goal using contingency tables."
    },
    {
      "cell_type": "markdown",
      "metadata": {
        "cell_id": "a00453d88b0245449fdb7e9aa4a3c181",
        "deepnote_cell_type": "markdown"
      },
      "source": "<div class=\"guided-notes\">\n    \n### 4.1 Write the R code to make the frequency tables that correspond to each graph in the guided notes\n\n</div>"
    },
    {
      "cell_type": "code",
      "execution_count": null,
      "metadata": {
        "cell_id": "022d4e9930c14911a388b15e630b7131",
        "deepnote_cell_type": "code",
        "trusted": true
      },
      "outputs": [],
      "source": "# code here\ntally(loveable_cat ~ chill_cat, data = epic_char)\ntally(loveable_cat ~ chill_cat, data = epic_char, format = \"proportion\")"
    },
    {
      "cell_type": "markdown",
      "metadata": {
        "cell_id": "2bf2a9504d914430954e7b2c540d7325",
        "deepnote_cell_type": "markdown"
      },
      "source": "<div class=\"guided-notes\">\n\n### 4.2 Annotate the bar graphs with the corresponding numbers from the `tally()` output\n\n</div>"
    },
    {
      "cell_type": "markdown",
      "metadata": {
        "cell_id": "38b8ffc40db54b5ea449c82c4c08b497",
        "deepnote_cell_type": "markdown"
      },
      "source": "## 5 Adding More Explanatory Variables to a Graph\nNow that we’ve seen how to visualize the relationship between one explanatory variable and an outcome, let’s try adding more explanatory variables."
    },
    {
      "cell_type": "markdown",
      "metadata": {
        "cell_id": "9ae725979c654d62a24798e350f683ee",
        "deepnote_cell_type": "markdown"
      },
      "source": "<div class=\"discussion-question\">\n    \n### 5.1 Key Discussion Question: How would you write a word equation to express the hypothesis that **both** gender and chill explain variation in loveable?\n    \n</div>"
    },
    {
      "cell_type": "markdown",
      "metadata": {
        "cell_id": "d2f130c08a9c4e90b397db04599211eb",
        "deepnote_cell_type": "markdown"
      },
      "source": "### 5.2 Using color to represent an additional explanatory variable\n\nWe've created a scatter plot below to show `loveable_quant` as a function of `chill_quant`. Try adding in the argument `color = ~gender` and see what happens.\n\n(Try using `shape` or `size` instead of `color` to see what happens.)"
    },
    {
      "cell_type": "markdown",
      "metadata": {
        "cell_id": "ebeaea59c418478b89ffecd4a154eab3",
        "deepnote_cell_type": "markdown"
      },
      "source": "<div class=\"teacher-note\">\n    <b>Teacher note:</b> This is a good place to use a <i>driver / navigator</i> pedagogy: You be the driver, but call on one or more students \"navigate\" (i.e., tell you what to type into the code window. \n</div>"
    },
    {
      "cell_type": "code",
      "execution_count": null,
      "metadata": {
        "cell_id": "8a37d3af5329424b91b24fcbeee8e5f0",
        "deepnote_cell_type": "code",
        "trusted": true
      },
      "outputs": [],
      "source": "# edit this code \ngf_point(loveable_quant ~ chill_quant, data = epic_char) \n\n# sample response\ngf_point(loveable_quant ~ chill_quant, color=~gender, data = epic_char) "
    },
    {
      "cell_type": "markdown",
      "metadata": {
        "cell_id": "526e1c7e7b7a4b48a0320cbdb6350578",
        "deepnote_cell_type": "markdown"
      },
      "source": "### 5.3 Using facets (`gf_facet_grid`) to represent an additional explanatory variable\n\nTry faceting this basic scatter plot by `gender`."
    },
    {
      "cell_type": "code",
      "execution_count": null,
      "metadata": {
        "cell_id": "74202cb5ae5648cabac82a30b159215d",
        "deepnote_cell_type": "code",
        "trusted": true
      },
      "outputs": [],
      "source": "# add facets to this\ngf_point(loveable_quant ~ chill_quant, data = epic_char) \n"
    },
    {
      "cell_type": "markdown",
      "metadata": {
        "cell_id": "4ca8fbb342d1432f9709d9fd165c1c17",
        "deepnote_cell_type": "markdown"
      },
      "source": "<div class=\"discussion-question\">\n    \n### 5.4 Key Discussion Question: What do these visualizations tell you about how gender and chill relate to loveable?\n    \n</div>"
    },
    {
      "cell_type": "markdown",
      "metadata": {
        "cell_id": "f329addcca044a87afced34f994e1b62",
        "deepnote_cell_type": "markdown"
      },
      "source": "<div class=\"guided-notes\">\n    \n### 5.5 Summarize: Fill in what you've learned today in the table of tools for visualizing relationships between two variables\n\n</div>"
    },
    {
      "cell_type": "markdown",
      "metadata": {
        "cell_id": "a44424631c7d47e4b329156d6b94162e",
        "deepnote_cell_type": "markdown"
      },
      "source": "<div class=\"guided-notes\">\n    \n### 5.6 Summarize: What are some ways you can add more explanatory variables to a visualization?\n\n</div>"
    },
    {
      "cell_type": "markdown",
      "metadata": {
        "cell_id": "053e1df7fe7741788e5ea23d9b9a64d9",
        "deepnote_cell_type": "markdown"
      },
      "source": "## 6 Practice What You Learned\n\nTake a look at the `epic_characters` dataset — it includes 15 variables, compared to the 8 in `epic_char`. That gives you more to work with!"
    },
    {
      "cell_type": "code",
      "execution_count": null,
      "metadata": {
        "cell_id": "e875b06a65494c4abaf37b4baf35b304",
        "deepnote_cell_type": "code",
        "scrolled": false,
        "trusted": true
      },
      "outputs": [],
      "source": "# write code\nhead(epic_characters)"
    },
    {
      "cell_type": "markdown",
      "metadata": {
        "cell_id": "8f1b56ae8f23437795602f33268316df",
        "deepnote_cell_type": "markdown"
      },
      "source": "### 6.1 Write a word equation that hypothesizes more than one explanatory variable to explain variation in `loveable_quant`)"
    },
    {
      "cell_type": "markdown",
      "metadata": {
        "cell_id": "065181f431df4c5cb7f7d1f93c82c2a0",
        "deepnote_cell_type": "markdown",
        "nbsimplegrader": {
          "config_key": "markdown.response",
          "editable": true,
          "label": "Response: Markdown",
          "respondable": true,
          "response": null,
          "runnable": true,
          "type": "markdown"
        }
      },
      "source": "word equation: "
    },
    {
      "cell_type": "markdown",
      "metadata": {
        "cell_id": "f9259fef083f442bbeebc7f6845be36e",
        "deepnote_cell_type": "markdown"
      },
      "source": "### 6.2 Use R to visualize your hypothesis"
    },
    {
      "cell_type": "code",
      "execution_count": null,
      "metadata": {
        "cell_id": "7bb509278e434004984ba3d776fd15bb",
        "deepnote_cell_type": "code",
        "nbsimplegrader": {
          "config_key": "code.response",
          "editable": true,
          "label": "Response: Code",
          "respondable": true,
          "response": null,
          "runnable": true,
          "type": "code"
        },
        "trusted": true
      },
      "outputs": [],
      "source": "# visualization"
    },
    {
      "cell_type": "markdown",
      "metadata": {
        "cell_id": "c316c126801e436cbc207daa713476ec",
        "deepnote_cell_type": "markdown"
      },
      "source": "### 6.3 Write a word equation that hypothesizes more than one explanatory variable to explain variation in `loveable_cat`)"
    },
    {
      "cell_type": "markdown",
      "metadata": {
        "cell_id": "84d142a0542249e4b4b6101a801320da",
        "deepnote_cell_type": "markdown",
        "nbsimplegrader": {
          "config_key": "markdown.response",
          "editable": true,
          "label": "Response: Markdown",
          "respondable": true,
          "response": null,
          "runnable": true,
          "type": "markdown"
        }
      },
      "source": "word equation: "
    },
    {
      "cell_type": "markdown",
      "metadata": {
        "cell_id": "cdeee0233bfb4b9fbd71320776f17baf",
        "deepnote_cell_type": "markdown"
      },
      "source": "### 6.4 Use R to visualize your hypothesis"
    },
    {
      "cell_type": "code",
      "execution_count": null,
      "metadata": {
        "cell_id": "fb97e6cdf7994925bd6d5c204293546f",
        "deepnote_cell_type": "code",
        "nbsimplegrader": {
          "config_key": "code.response",
          "editable": true,
          "label": "Response: Code",
          "respondable": true,
          "response": null,
          "runnable": true,
          "type": "code"
        },
        "trusted": true
      },
      "outputs": [],
      "source": "# visualization"
    }
  ],
  "metadata": {
    "deepnote_notebook_id": "6f028758b34f4851b7d6e5a98ab3d8cc",
    "kernelspec": {
      "display_name": "R",
      "language": "R",
      "name": "ir"
    },
    "language_info": {
      "codemirror_mode": "r",
      "file_extension": ".r",
      "mimetype": "text/x-r-source",
      "name": "R",
      "pygments_lexer": "r",
      "version": "4.3.3"
    },
    "nbsimplegrader": {
      "publish_config": {
        "classes": [],
        "options": [],
        "tools": []
      }
    }
  },
  "nbformat": 4,
  "nbformat_minor": 1
}