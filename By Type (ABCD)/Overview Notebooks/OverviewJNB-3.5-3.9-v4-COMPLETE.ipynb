{
  "cells": [
    {
      "cell_type": "markdown",
      "metadata": {
        "cell_id": "5ca251556eab4904b49b4ac7f57c1fba",
        "deepnote_cell_type": "markdown"
      },
      "source": "# Boxplots and the Five-Number Summary (COMPLETE)\n\n## Chapter 3.5-3.9 Overview Notebook"
    },
    {
      "cell_type": "code",
      "execution_count": null,
      "metadata": {
        "cell_id": "c9cdf76166294929984e3120021ad7bc",
        "deepnote_cell_type": "code",
        "scrolled": true,
        "trusted": true
      },
      "outputs": [],
      "source": "# run this to set up the notebook\nsuppressMessages(library(coursekata))\n\n# read in a subset of the New Zealand Census at School data set\nnz_census <- read.csv(\"https://docs.google.com/spreadsheets/d/e/2PACX-1vRvwncL5kF1-Y5nLEj7JeN6FzXQB2_CcelCHTLq-Ow05u4Fbsgii2PRByRIv7atjk_IrPVt92I4mPyG/pub?output=csv\") %>%\n  select(region, gender, age, time_standing_on_left_leg, height, travel_time_to_school, bag_weight, left_foot_length, sleep_time) %>%\n  filter(region %in% c(\"Auckland\", \"Bay of Plenty\", \"Canterbury\",\"Otago\")) %>%\n  rename(\"time_standing\" = \"time_standing_on_left_leg\")\n\nregion <- c(\"Auckland\", \"Bay of Plenty\", \"Canterbury\",\"Otago\")\n\n# set styles\ncss <- suppressWarnings(readLines(\"https://raw.githubusercontent.com/jimstigler/jupyter/master/ck_jupyter_styles_v2.css\"))\nIRdisplay::display_html(sprintf('<style>%s</style>', paste(css, collapse = \"\\n\")))"
    },
    {
      "cell_type": "markdown",
      "metadata": {
        "cell_id": "7c83052cc1ed4c85bf5a3f952c4e1d48",
        "deepnote_cell_type": "markdown"
      },
      "source": "<div class=\"teacher-note\">\n<b>Section Goals:</b> In this section students will expand their concept of the distribution of quantitative variables by connecting it to a different graphical representation (the boxplot) and to the five-number summary. \n<ul>\n<li>Students will learn to calculate the five-number summary with R using the favstats() function, and to create boxplots using gf_boxplot().\n<li>Students will learn how the five-number summary can also represent the distribution of a quantitative variable, providing a numerical representation of the distribution's shape, center, spread, and \"weird things\" (e.g., outliers).\n<li>Students will connect the five-number summary and boxplot with features of a histogram, and practice using features of one representation to make predictions of what the others will look like.\n</ul>\n    \nStudents will also expand their concept of distribution to include categorical variables. They will learn that different tools are required to explore the distributions of categorical variables, and will learn to make frequency tables and bar graphs. Students will:\n<ul>\n<li>Learn which representations are appropriate for categorical variables (e.g., frequency tables/tally, bar graphs) and which for quantitative variables (histograms, box plots, five-number summary).\n<li>Understand that representations of the distributions of categorical variables show the frequency or proportion of observations in each category and that the mode is the center of a categorical variable’s distribution.\n    </ul>\n    A <a href=\"https://docs.google.com/document/d/119MEtx0kcSCz_9_h48ggfLuia1--9_1swHwG0DoeZaU/edit?tab=t.5y2a0ykmi2fk#heading=h.wjaasjj3pg90\" target=\"_blank\">printable student guided-notes worksheet</a> is available to go with this Jupyter notebook, as well as a student version of this notebook.\n</div>"
    },
    {
      "cell_type": "markdown",
      "metadata": {
        "cell_id": "fdf9462aa9f747648410f1d49fe018f4",
        "deepnote_cell_type": "markdown"
      },
      "source": "## 1. Remember the `time_standing` Variable?\n\nWe've looked at this variable before (we called it `time_standing_on_left_leg` but we're just shortened the name). Remember Ram Phal? He holds the world record for standing on one leg blindfolded, which he did for 2 hours and 21 minutes! (<a href=\"https://www.guinnessworldrecords.com/news/2024/8/blindfolded-indian-man-balances-on-one-leg-for-record-breaking-time\">Guiness Book of World Records</a>, August, 2024.) \n\n**Who cares how long you can stand on one leg?** It turns out, the amount of time you can balance on one leg declines with age, and in older adults it is actually a predictor of longevity! <br><br>\n\n<img src=\"https://coursekata-course-assets.s3.us-west-1.amazonaws.com/UCLATALL/czi-stats-course/stand-one-leg.png\" >\n\nA distribution shows the pattern of variation in a variable—for example, the number of seconds different people can stand on one leg (not just one person’s time).\n\n**So far in Chapter 3, we’ve explored three ways to view a distribution:**\n- A list of values (unsorted)\n- A list of values (sorted)\n- A histogram\n\n**Today, we’ll explore a few more:**\n- The five-number summary\n- A box plot\n- A bar graph"
    },
    {
      "cell_type": "markdown",
      "metadata": {
        "cell_id": "88bd866ba78444b7bad211a4a819fad5",
        "deepnote_cell_type": "markdown"
      },
      "source": "## 2. The Five-Number Summary\n\n### Starting with a Small Data Set  \n\nTo introduce the five-number summary, we will start with the set of data from **20 New Zealand high school students**. The data represent how many seconds each student was able to stand on their left leg with their eyes closed.  \n\n### Run the code in the cell below to load the 20 data points in a vector called `time_standing`"
    },
    {
      "cell_type": "code",
      "execution_count": null,
      "metadata": {
        "cell_id": "d0bc927baf8245f7ba81cad199ea5784",
        "deepnote_cell_type": "code",
        "trusted": true
      },
      "outputs": [],
      "source": "# run this code to input the data into R\ntime_standing <- c(15, 30, 5, 21, 25, 50, 18, 11, 17, 10, \n                   19, 39, 20, 30, 4, 36, 12, 19, 47, 20)"
    },
    {
      "cell_type": "markdown",
      "metadata": {
        "cell_id": "e2be0c7268cc49478958509566c1e68b",
        "deepnote_cell_type": "markdown"
      },
      "source": "### 2.1 Review some ways to view the distribution  \n\nBefore we introduce new ways of summarizing the data, let’s review three ways we have learned to look at a distribution in R:\n- Display the list of data points **unsorted**  \n- Display the list of data points **sorted**  \n- Create a **histogram** of the data points"
    },
    {
      "cell_type": "markdown",
      "metadata": {
        "cell_id": "227f97620eb941e99c614be7594b4df0",
        "deepnote_cell_type": "markdown"
      },
      "source": "<div class=\"guided-notes\">\n    <h3>2.2 Write the R code to examine the distribution of <code>time_standing</code> in three ways</h3> \n    As an <b>unsorted list</b>, a <b>sorted list</b>, and as a <b>histogram</b>.\n</div>"
    },
    {
      "cell_type": "code",
      "execution_count": null,
      "metadata": {
        "cell_id": "61101d3aa9754a28a6c9194280f94ba3",
        "deepnote_cell_type": "code",
        "nbsimplegrader": {
          "config_key": "code.response",
          "editable": true,
          "label": "Response: Code",
          "respondable": true,
          "response": null,
          "runnable": true,
          "type": "code"
        },
        "trusted": true
      },
      "outputs": [],
      "source": "# write code to view the distribution unsorted (as is)\ntime_standing\n\n# write code to view the distribution sorted\nsort(time_standing)\n\n# write code to view the distribution as a histogram\ngf_histogram(~ time_standing)"
    },
    {
      "cell_type": "markdown",
      "metadata": {
        "cell_id": "a11ebd33cbce47c19d270ed6c70e44a9",
        "deepnote_cell_type": "markdown"
      },
      "source": "### 2.3 What is the Five-Number Summary?  \n\nThe **five-number summary** describes key points in a distribution:  \n\n- **Q0 (Minimum)** – The smallest value  \n- **Q1**  \n- **Q2 (Median)** – The middle value of the distribution  \n- **Q3**  \n- **Q4 (Maximum)** – The largest value  \n\nThe `favstats()` function in R is an easy way to get the five-number summary. Let's get the five-number summary for `time_standing`, and then see what each of the five numbers means. "
    },
    {
      "cell_type": "markdown",
      "metadata": {
        "cell_id": "da4ce0b07d664d888565320352ff6f88",
        "deepnote_cell_type": "markdown"
      },
      "source": "<div class=\"guided-notes\">\n    <h3>2.4 Write the R code to calculate the five-number summary for <code>time_standing</code></h3> \n</div>"
    },
    {
      "cell_type": "code",
      "execution_count": null,
      "metadata": {
        "cell_id": "f7ab52a5db9f4f83ba79dcac06a439e4",
        "deepnote_cell_type": "code",
        "nbsimplegrader": {
          "config_key": "code.response",
          "editable": true,
          "label": "Response: Code",
          "respondable": true,
          "response": null,
          "runnable": true,
          "type": "code"
        },
        "scrolled": true,
        "trusted": true
      },
      "outputs": [],
      "source": "# code here\nfavstats(~ time_standing)\n\n# favstats will also work if you leave off the tilde \n# but it might be easier to just leave it on for all these functions \n# (favstats, gf_histogram, gf_boxplot)"
    },
    {
      "cell_type": "markdown",
      "metadata": {
        "cell_id": "4b979adba11f4a288228bf418a07397c",
        "deepnote_cell_type": "markdown"
      },
      "source": "<div class=\"guided-notes\">\n    <h3>2.5 Find the minimum and maximum</h3> \n    Circle the five numbers that constitute the <i>five-number summary</i> in the favstats output. Then, draw two dots on the x-axis of the histogram to show where the min and max are.\n</div> "
    },
    {
      "cell_type": "markdown",
      "metadata": {
        "cell_id": "05761190d6d34f4c8df591c9cb2c64db",
        "deepnote_cell_type": "markdown"
      },
      "source": "<div class=\"teacher-note\">\n<b>Teacher Note:</b> Notice that the five-number summary shows you the exact minimum and maximum values in the distribution, whereas the histogram often does not.\n</div>"
    },
    {
      "cell_type": "markdown",
      "metadata": {
        "cell_id": "cae2187605204bc08981e93a07436713",
        "deepnote_cell_type": "markdown"
      },
      "source": "## 3. The Median\nThe median is the middle value in the distribution. You can find the median by putting the values in order, then finding the middle value. If there are an odd number of values, the median is the middle value. If there are an even number of values, the median is the average of the middle two numbers. \n\n<p align=\"center\" style=\"text-align: center;\"><img src=\"https://coursekata-course-assets.s3.us-west-1.amazonaws.com/UCLATALL/czi-stats-course/1sbWX4tc.png\" width=95% alt=\"The two halves of data points have ovals drawn around them to indicate that they are groups; Min, Median, and Max are drawn as lines\" /></p>"
    },
    {
      "cell_type": "markdown",
      "metadata": {
        "cell_id": "5aae6071473a4d929b0c949082b29ce5",
        "deepnote_cell_type": "markdown"
      },
      "source": "<div class=\"guided-notes\">\n    <h3>3.1 Calculate the median</h3>\n    Use the 20 data points for time_standing to calculate the median yourself. Then, compare it to the median from favstats. Draw a dot on the x-axis of the histogram to show where the median is.\n</div> "
    },
    {
      "cell_type": "markdown",
      "metadata": {
        "cell_id": "d61b274c058b47b5839690dc2d9ea7e3",
        "deepnote_cell_type": "markdown"
      },
      "source": "**Here are the data for `time_standing` sorted in order:** <br><br>\n\n<span style=\"font-size: 26px; padding: 5px; display: block; text-align: center; margin: 10px auto; width: fit-content;\">\n  4, 5, 10, 11, 12, 15, 17, 18, 19, 19, 20, 20, 21, 25, 30, 30, 36, 39, 47, 50\n</span>"
    },
    {
      "cell_type": "markdown",
      "metadata": {
        "cell_id": "be26b03f2c504fedafc2830017c8e361",
        "deepnote_cell_type": "markdown"
      },
      "source": "## 4. Q1 and Q3\nWe've looked at min, max, and median. The remaining two numbers in the *five-number summary* are labeled Q1 and Q3. **The easiest way to think of Q1 is as the middle of the lower half of the distribution. And Q3 is the middle of the upper half.** \n\n<p align=\"center\" style=\"text-align: center;\"><img src=\"https://coursekata-course-assets.s3.us-west-1.amazonaws.com/UCLATALL/czi-stats-course/p2BbKK5t.png\" width=95% alt=\"Q0 through Q4 drawn to cut the dot plot into four equal groups of data points\" /></p>\n\nThere are many different ways to calculate Q1 and Q3 because there are many ways to interpret the word \"middle\". For this reason, your manual calculation based on finding the median of the lower half of scores, for example, may not match what R calculates as the value of Q1. R actually gives you nine different options for calculating Q1 and Q3! The `favstats()` function uses the method most widely used by statisticians (R refers to this method as `type=7`); in general we will use that one."
    },
    {
      "cell_type": "markdown",
      "metadata": {
        "cell_id": "dc7f902499c949f0ad05747e04d98b8e",
        "deepnote_cell_type": "markdown"
      },
      "source": "<div class=\"guided-notes\">\n    <h3>4.1 Label Q1 and Q3 in your histogram</h3>\n    Draw two dots on the x-axis of the histogram to show where Q1 and Q3 are.\n</div> "
    },
    {
      "cell_type": "code",
      "execution_count": null,
      "metadata": {
        "cell_id": "cb55c6a94ef6425d9bf98dbce55abf13",
        "deepnote_cell_type": "code",
        "trusted": true
      },
      "outputs": [],
      "source": "# run this to see what it might look like \n# to align the histogram with the five number summary\ntime_favstats <- favstats(time_standing)\n\ngf_histogram(~ time_standing) %>%\n  gf_point(0 ~ time_favstats$min)%>%\n  gf_point(0 ~ time_favstats$Q1)%>%\n  gf_point(0 ~ time_favstats$median)%>%\n  gf_point(0 ~ time_favstats$Q3)%>%\n  gf_point(0 ~ time_favstats$max)"
    },
    {
      "cell_type": "markdown",
      "metadata": {
        "cell_id": "8a8667f958004cdb96526c1cb2591daa",
        "deepnote_cell_type": "markdown"
      },
      "source": "Together, the three middle cutpoints - Q1, Q2 (the median), and Q3 - divide the distribution into four parts, each containing the same number of scores. These four parts are called *quartiles*. \n\n<br>\n<div class=\"guided-notes\">\n    <h3>4.2 Shade the 1st quartile in your histogram</h3> \n    Shade the quartile that contains the lowest 25% of values. How many data points are in that quartile? \n</div>"
    },
    {
      "cell_type": "code",
      "execution_count": null,
      "metadata": {
        "cell_id": "7d1a7a5688c2485bbe822a1191ff8c3f",
        "deepnote_cell_type": "code",
        "trusted": true
      },
      "outputs": [],
      "source": "# run this to see what it might look like to \n# shade the 1st quartile differently\ntime_favstats <- favstats(time_standing)\n\ngf_histogram(~ time_standing, boundary = 0, binwidth = 2,\n            fill = ~(time_standing < time_favstats$Q1),\n            show.legend = FALSE) "
    },
    {
      "cell_type": "markdown",
      "metadata": {
        "cell_id": "8985d7cd848741958cfd5f0d99e8434e",
        "deepnote_cell_type": "markdown"
      },
      "source": "<div class=\"discussion-question\">\n<h3>4.3 Key Discussion Question: Why are there 5 numbers in the five-number summary but there are only 4 quartiles?</h3>\n</div>"
    },
    {
      "cell_type": "markdown",
      "metadata": {
        "cell_id": "21ad72bf41dc4893baa1cf35a33de2e8",
        "deepnote_cell_type": "markdown"
      },
      "source": "## 5. Boxplots\nBoxplots are a handy way to visualize the distribution because it will visually represent the five-number summary. "
    },
    {
      "cell_type": "markdown",
      "metadata": {
        "cell_id": "ec06b3e54d014a9ea77d4821f21dd5f4",
        "deepnote_cell_type": "markdown"
      },
      "source": "<div class=\"guided-notes\">\n    <h3>5.1 Write the R code for viewing a distribution as a boxplot</h3>\n     Note that the R code to make a box plot is very similar to the code for making a histogram.\n</div> "
    },
    {
      "cell_type": "code",
      "execution_count": null,
      "metadata": {
        "cell_id": "b568419213c34fec8ec4a0b444aa6445",
        "deepnote_cell_type": "code",
        "nbsimplegrader": {
          "config_key": "code.response",
          "editable": true,
          "label": "Response: Code",
          "respondable": true,
          "response": null,
          "runnable": true,
          "type": "code"
        },
        "scrolled": false,
        "trusted": true
      },
      "outputs": [],
      "source": "# write code to create a boxplot\ngf_boxplot(~ time_standing)"
    },
    {
      "cell_type": "markdown",
      "metadata": {
        "cell_id": "4e431d3b2f0c4cc296264ee975b47665",
        "deepnote_cell_type": "markdown"
      },
      "source": "<div class=\"guided-notes\">\n    <h3>5.2 Draw lines from each part of the five-number summary to the corresponding point where it is represented in the boxplot</h3>\n</div> "
    },
    {
      "cell_type": "markdown",
      "metadata": {
        "cell_id": "a98c0675e0cd49149dbe126204bb18c5",
        "deepnote_cell_type": "markdown"
      },
      "source": "<img src=\"https://coursekata-course-assets.s3.us-west-1.amazonaws.com/UCLATALL/czi-stats-course/boxplot-time-standing-2.png\" width = 60%>"
    },
    {
      "cell_type": "markdown",
      "metadata": {
        "cell_id": "4185049b4d094af0b15daa5def765f9e",
        "deepnote_cell_type": "markdown"
      },
      "source": "<div class=\"discussion-question\">\n<h3>5.3 Key Discussion Question: How many observations are inside the left green rectangle? How many in the right rectangle?\n</div>"
    },
    {
      "cell_type": "markdown",
      "metadata": {
        "cell_id": "8f86fae4a3c44d6fb1ed0e39176495cf",
        "deepnote_cell_type": "markdown"
      },
      "source": "### 5.4 New Distributions: `student1` and `student2`\n\nTwo friends, student1 and student2, each tried balancing on their left leg 20 times with their eyes closed and recorded their times. Run the code in the cell below to save their data into two vectors, called `student1` and `student2`. "
    },
    {
      "cell_type": "code",
      "execution_count": null,
      "metadata": {
        "cell_id": "0078891c402c4ca7aa3b227f09c3444c",
        "deepnote_cell_type": "code",
        "trusted": true
      },
      "outputs": [],
      "source": "# Run this code to save the two students' times \nstudent1 <- c(189, 184.8, 198.1, 185.2, 192.1, 176.1, 182.3, 192.9, 190.1, 190, 172, 158.1, 161.7, 190.8, 194.7, 183.1, 155, 187.4, 160.1, 167.5)\nstudent2 <- c(11,15,2,15,8,24,18,7,10,10,28,42,38,9,5,17,45,13,40,32)\n\nprint(\"Why don't these vectors print out?\")"
    },
    {
      "cell_type": "markdown",
      "metadata": {
        "cell_id": "b80211fe11eb4abda797defa55dda9bb",
        "deepnote_cell_type": "markdown"
      },
      "source": "<div class=\"guided-notes\">\n    <h3>5.5 Write the R code to create a box plot for each student</h3>\n</div> "
    },
    {
      "cell_type": "code",
      "execution_count": null,
      "metadata": {
        "cell_id": "cf28e14becf64712b75ad43ad9c6bab9",
        "deepnote_cell_type": "code",
        "nbsimplegrader": {
          "config_key": "code.response",
          "editable": true,
          "label": "Response: Code",
          "respondable": true,
          "response": null,
          "runnable": true,
          "type": "code"
        },
        "scrolled": false,
        "trusted": true
      },
      "outputs": [],
      "source": "# code here\ngf_boxplot(~ student1) \ngf_boxplot(~ student2)"
    },
    {
      "cell_type": "markdown",
      "metadata": {
        "cell_id": "5bcbaddc7acd4ee58e91c3177a96ed79",
        "deepnote_cell_type": "markdown"
      },
      "source": "<div class=\"discussion-question\">\n<h3>5.6 Key Discussion Question: We've put the two boxplots side by side to make them easier to compare (below). How would you describe the two distributions?\n</div><br>\n\n<img src=\"https://coursekata-course-assets.s3.us-west-1.amazonaws.com/UCLATALL/czi-stats-course/jnb-2boxplots-student1-student2.jpg\" alt=\"student1 and student2's boxplots side-by-side\" width = 100%>"
    },
    {
      "cell_type": "markdown",
      "metadata": {
        "cell_id": "8a86da3db8f34161920c0b97ea0fcc0f",
        "deepnote_cell_type": "markdown"
      },
      "source": "<div class=\"discussion-question\">\n<h3>5.7 <i>Key Discussion Question:</i> Which histogram goes with this box plot? How can you tell?</h3></div> <br>\n\n<img src=\"https://coursekata-course-assets.s3.us-west-1.amazonaws.com/UCLATALL/czi-stats-course/jnb-grid3graphs.jpg\" width = 80%>"
    },
    {
      "cell_type": "markdown",
      "metadata": {
        "cell_id": "5f5e33c353a94b758878e50ffba47b2c",
        "deepnote_cell_type": "markdown"
      },
      "source": "<div class=\"teacher-note\">\n<b>Sample Responses:</b> \n    \n- I looked at which whisker was longer because that shows where the tail is in the histogram. Because this box plot has a longer whisker on the left, the histogram should have a longer tail on the left (left-skewed).\n- I looked at where the median is inside the box. Because the median is closer to Q3, that means more data are packed into a smaller range in the upper part of the scale, with the longer tail being on the left (left-skewed).\n\n</div>"
    },
    {
      "cell_type": "markdown",
      "metadata": {
        "cell_id": "db53661cbe2c4c9faa25902ac0cf4ea0",
        "deepnote_cell_type": "markdown"
      },
      "source": "### 5.8 Let's find out which histogram belongs to student1 by overlaying the boxplot on a histogram\nRun the code cell below to create a histogram of `student1`. Here's how to overlay a boxplot onto the histogram."
    },
    {
      "cell_type": "markdown",
      "metadata": {
        "cell_id": "1ca6ef132b4b46788a4b86185264bb8e",
        "deepnote_cell_type": "markdown"
      },
      "source": "<div class=\"teacher-note\">\n<b>Teacher Note:</b> Build up the code one step at a time. First run the histogram, and get students to compare to the one on their guided notes. Then add the boxplot. Spend time reviewing what the pipe operator %>% does.\n</div>"
    },
    {
      "cell_type": "code",
      "execution_count": null,
      "metadata": {
        "cell_id": "5fc0a59c0e764edea51f0559bfc09a8f",
        "deepnote_cell_type": "code",
        "nbsimplegrader": {
          "config_key": "code.response",
          "editable": true,
          "label": "Response: Code",
          "respondable": true,
          "response": null,
          "runnable": true,
          "type": "code"
        },
        "trusted": true
      },
      "outputs": [],
      "source": "# code here\ngf_histogram(~ student1, fill = \"gray15\") %>%\n  gf_boxplot()"
    },
    {
      "cell_type": "markdown",
      "metadata": {
        "cell_id": "712f1084ed01440f8bd83d40b5563aa2",
        "deepnote_cell_type": "markdown"
      },
      "source": "## 6. Range and Inter-Quartile Range (IQR)\nNow that you understand the five-number summary, we can introduce two useful measures of the *spread* of a distribution. The median tells you where, roughly, the middle of the distribution is along the measurement scale. **Range** and **Inter-Quartile Range (IQR)** tell you how spread out the distribution is (or how much variation there is around the median).\n- The **range** is the distance from Q0 to Q4 (i.e., from the min to the max). It tells you the full range on the measurement scale that is covered by the data points.\n- The **IQR** is the distance from Q1 to Q3. It tells you the range within which 50% of the data points lie."
    },
    {
      "cell_type": "markdown",
      "metadata": {
        "cell_id": "12adfbed498541f1875e42c6bca6d648",
        "deepnote_cell_type": "markdown"
      },
      "source": "<div class=\"guided-notes\">\n    \n### 6.1 On the box plot for student1, draw a bracket or a line to indicate the IQR\n    \nLabel it as the IQR.\n    \n</div>"
    },
    {
      "cell_type": "code",
      "execution_count": null,
      "metadata": {
        "cell_id": "5d93f220d2f040019c03666069352d25",
        "deepnote_cell_type": "code",
        "trusted": true
      },
      "outputs": [],
      "source": "# run this code\nfavstats(~student1)\ngf_boxplot(~student1)"
    },
    {
      "cell_type": "markdown",
      "metadata": {
        "cell_id": "dd89629529ee4fc7bfc7ce970a7692f8",
        "deepnote_cell_type": "markdown"
      },
      "source": "## 7. Outliers\n\nSometimes on a boxplot you will see a data point (or more than one) that lies beyond the end of the whiskers. Run the code below to see an example, from a distribution we'll call `student3`. "
    },
    {
      "cell_type": "code",
      "execution_count": null,
      "metadata": {
        "cell_id": "9c36c6ecf7484d61b8d3b456315c58e8",
        "deepnote_cell_type": "code",
        "trusted": true
      },
      "outputs": [],
      "source": "# Run this to see an example of an outlier\nstudent3 <- c(189, 184.8, 178.1, 185.2, 192.1, 176.1, 182.3, 192.9, 190.1, 190, 172, 128.1, 161.7, 190.8, 194.7, 183.1, 155, 187.4, 160.1, 167.5)\ngf_boxplot(~ student3)"
    },
    {
      "cell_type": "markdown",
      "metadata": {
        "cell_id": "1a0e84e63f774658b298a722c4a0f60f",
        "deepnote_cell_type": "markdown"
      },
      "source": "### 7.1 What is an outlier\n\nTypically, the ends of the two whiskers mark the min and max of the distribution. But in this box plot, there’s a point beyond the left whisker—this is actually the smallest value in the dataset. R categorizes this data point as an **outlier**.\n\nOutliers are data points that are much farther from the rest of the distribution. They might come from a different Data Generating Process (DGP) than the rest of the data. For this reason, sometimes researchers will decide to omit outliers from their analyses.\n\n### 7.2 How R defines an outlier\nOutliers are data points that are so far outside of the main part of the distribution that they may not be generated by the same DGP that generated the rest of the data points. Sometimes researchers will decide to omit outliers from their analyses for this reason. There is no one way to define what counts as an outlier, but R uses this definition: **If a data point is more than 1.5 times the IQR below Q1, or more than 1.5 times the IQR above Q3, it is considered an outlier.**"
    },
    {
      "cell_type": "markdown",
      "metadata": {
        "cell_id": "0a6347c11cfd4274bf40734677b4845e",
        "deepnote_cell_type": "markdown"
      },
      "source": "<div class=\"guided-notes\">\n\n### 7.3 Estimate the IQR for student3's data based on favstats. According to R, how high or low would a student3 score need to be to count as an outlier?\n</div> "
    },
    {
      "cell_type": "markdown",
      "metadata": {
        "cell_id": "3467b0d16a624abe8f795ad788700a2c",
        "deepnote_cell_type": "markdown"
      },
      "source": "## 8. Exploring Distributions in the `nz_census` Data Frame\n\nSo far, we’ve explored distributions of individual vectors. Now, we’ll shift to working with distributions in data frames, where variables are stored as columns within a dataset.\n\nThe `nz_census` data frame, which has been pre-loaded into this notebook, includes data from a subset of New Zealand high school students (n=472). Here are the the variables in the dataset:\n\n- **region**: Region of the country students live in\n- **gender**: What gender are students\n- **age**: Age in years\n- **time_standing** How long in seconds they were able to stand on left leg with eyes closed\n- **height**: Height in centimeters\n- **travel_time_to_school**: How long does it usually take you to get to school (to nearest minute)\n- **bag_weight**: What is the weight of your school bag today (to nearest tenth of a kilogram)\n- **left_foot_length**: Length of left foot in centimeters\n- **sleep_time**: How much sleep did you get last night (to nearest half hour)\n\n### 8.1 We have looked at distributions by: \n- printing values in order, \n- using histograms, \n- using the five-number summary,  \n- using box plots"
    },
    {
      "cell_type": "markdown",
      "metadata": {
        "cell_id": "e29cf5e06be54db3af1d77e081a3bc54",
        "deepnote_cell_type": "markdown"
      },
      "source": "<div class=\"guided-notes\">\n    \n### 8.2 Write R code to do each of these things for a variable in a data frame\nThe table shows how we perform the same types of analyses on a single vector versus a variable in a data frame. Some of the entries are already filled in. Complete the missing pieces by writing the equivalent R code for the empty cells.\n</div>"
    },
    {
      "cell_type": "markdown",
      "metadata": {
        "cell_id": "85e417acb01d4a8e9770064bea7f6f30",
        "deepnote_cell_type": "markdown"
      },
      "source": "### 8.3 Exploring Distributions of Categorical Variables\n\nEverything we've learned so far has been with quantitative outcome variables (e.g., `time_standing`). Can we use the same tools for exploring the distributions of categorical variables? Let's find out. And if we can't what tools can we use?\n    \n### 8.4 Exploring the distribution of `region` in the `nz_census` data frame\nLet's consider the variable `region` in the `nz_census` data frame. What makes `region` a categorical variable? Running the code below may help you compare `region` to a variable like `time_standing`."
    },
    {
      "cell_type": "code",
      "execution_count": null,
      "metadata": {
        "cell_id": "46a0468ee88845809a424bcd3007fb76",
        "deepnote_cell_type": "code",
        "trusted": true
      },
      "outputs": [],
      "source": "# run this\nhead(select(nz_census, region, time_standing))"
    },
    {
      "cell_type": "markdown",
      "metadata": {
        "cell_id": "1a025a0e60864cabb87ca3825e1748e6",
        "deepnote_cell_type": "markdown"
      },
      "source": "<div class=\"discussion-question\">\n    <h3>8.5 <i>Key Discussion Questions:</i> Can we make a histogram of <code>region</code>?</h3>\n\nWhy or why not? If we can't make a histogram, what kind of visualization can we make?\n</div>"
    },
    {
      "cell_type": "markdown",
      "metadata": {
        "cell_id": "39eef51976a340cfbe88f077c4194343",
        "deepnote_cell_type": "markdown"
      },
      "source": "<div class=\"teacher-note\">\n<b>Teacher Note:</b> Try making a histogram of the variable region. It won't work because region is a categorical variable. You can, however, make a bar graph. We want students to understand that the order of bars in a bar graph is arbitrary - set by alphabetical order unless we run a factor() command and set the levels.\n</div>"
    },
    {
      "cell_type": "code",
      "execution_count": null,
      "metadata": {
        "cell_id": "5389c577ef034281b7b58b32fb2d96e4",
        "deepnote_cell_type": "code",
        "scrolled": false,
        "trusted": true
      },
      "outputs": [],
      "source": "# try making a histogram of region\n#gf_histogram(~ region, data = nz_census)\n\n# try making a bar graph of region\ngf_bar(~ region, data = nz_census)\n"
    },
    {
      "cell_type": "markdown",
      "metadata": {
        "cell_id": "95ce547d41404751af55db62813cf70b",
        "deepnote_cell_type": "markdown"
      },
      "source": "<div class=\"discussion-question\">\n    <h3>8.6 <i>Key Discussion Question:</i> How can we describe the distribution of <code>region</code>?</h3>\n        Are the concepts of shape, center, and spread defined the same way as in a histogram?\n</div>"
    },
    {
      "cell_type": "markdown",
      "metadata": {
        "cell_id": "a63380a77ed2418aa2e4a8881908de87",
        "deepnote_cell_type": "markdown"
      },
      "source": "<div class=\"discussion-question\">\n\n### 8.7 *Key Discussion Question:* Compare `gf_bar` and `gf_props` and `gf_percents`\n    \nWhat's different about these visualizations?\n    \n</div>"
    },
    {
      "cell_type": "code",
      "execution_count": null,
      "metadata": {
        "cell_id": "6c69cbbfe60b48beb8552e6c45a0ee7b",
        "deepnote_cell_type": "code",
        "scrolled": false,
        "trusted": true
      },
      "outputs": [],
      "source": "# try replacing gf_bar with the other functions\ngf_bar(~region, data=nz_census) \n#gf_props(~region, data=nz_census) \n#gf_percents(~region, data=nz_census) "
    },
    {
      "cell_type": "markdown",
      "metadata": {
        "cell_id": "4cd3e102baf749b2aee9e9db72892c09",
        "deepnote_cell_type": "markdown"
      },
      "source": "<img src=\"https://coursekata-course-assets.s3.us-west-1.amazonaws.com/UCLATALL/czi-stats-course/jnb-bar-props-percents.jpg\" width = 80%>"
    },
    {
      "cell_type": "markdown",
      "metadata": {
        "cell_id": "cd2b3703d97b47709c7af9677a0d6713",
        "deepnote_cell_type": "markdown"
      },
      "source": "## 9. Practice What You Learned\nLook at the other variables in the `census` data frame. Practice using what you've learned: boxplots, favstats, tally, gf_histogram, and gf_bar."
    },
    {
      "cell_type": "markdown",
      "metadata": {
        "cell_id": "873f2dc87937497883143695f2c6b850",
        "deepnote_cell_type": "markdown"
      },
      "source": "<div class=\"teacher-note\">\n<b>Teacher Note:</b> If you've been doing this notebook while students write guided notes, consider letting the students do the next section on computers, running the R code themselves.\n</div>"
    },
    {
      "cell_type": "code",
      "execution_count": null,
      "metadata": {
        "cell_id": "7b5ed90ffbd441ba9474e1fd403308df",
        "deepnote_cell_type": "code",
        "scrolled": true,
        "trusted": true
      },
      "outputs": [],
      "source": "# run this to see what variables are available\nhead(nz_census)"
    },
    {
      "cell_type": "markdown",
      "metadata": {
        "cell_id": "c6abe5090439430c8f3e96b314d9965e",
        "deepnote_cell_type": "markdown"
      },
      "source": "### 9.1 See what you can learn by visualizing these variables"
    },
    {
      "cell_type": "code",
      "execution_count": null,
      "metadata": {
        "cell_id": "f5afa1838fe84b1495514f4bc3c3acf9",
        "deepnote_cell_type": "code",
        "nbsimplegrader": {
          "config_key": "code.response",
          "editable": true,
          "label": "Response: Code",
          "respondable": true,
          "response": null,
          "runnable": true,
          "type": "code"
        },
        "trusted": true
      },
      "outputs": [],
      "source": "# code here\n"
    },
    {
      "cell_type": "markdown",
      "metadata": {
        "cell_id": "7ad17ef8947c4d748be207403651194a",
        "deepnote_cell_type": "markdown"
      },
      "source": "### 9.2 Reflect on what you've learned about these variables\nUse the cell below to write your observations"
    },
    {
      "cell_type": "markdown",
      "metadata": {
        "cell_id": "9adef9df9c7742a8b434c54b8d4fcfef",
        "deepnote_cell_type": "markdown",
        "nbsimplegrader": {
          "config_key": "markdown.response",
          "editable": true,
          "label": "Response: Markdown",
          "respondable": true,
          "response": null,
          "runnable": true,
          "type": "markdown"
        }
      },
      "source": "\n"
    }
  ],
  "metadata": {
    "deepnote_notebook_id": "0198df57a8384900bf1e842555e7395d",
    "kernelspec": {
      "display_name": "R",
      "language": "R",
      "name": "ir"
    },
    "language_info": {
      "codemirror_mode": "r",
      "file_extension": ".r",
      "mimetype": "text/x-r-source",
      "name": "R",
      "pygments_lexer": "r",
      "version": "4.3.3"
    },
    "nbsimplegrader": {
      "publish_config": {
        "classes": [],
        "options": [],
        "tools": []
      }
    }
  },
  "nbformat": 4,
  "nbformat_minor": 1
}