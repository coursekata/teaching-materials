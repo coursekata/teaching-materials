{
  "cells": [
    {
      "cell_type": "markdown",
      "metadata": {
        "cell_id": "893771f04f2141209d2a70af301eeb46",
        "deepnote_cell_type": "markdown"
      },
      "source": "# Samples, Populations, and the Data Generating Process (DGP) \n\n## Chapter 3.10-3.13 Overview Notebook"
    },
    {
      "cell_type": "code",
      "execution_count": null,
      "metadata": {
        "cell_id": "5350f66a6074474fa435e3f55ada9303",
        "deepnote_cell_type": "code",
        "trusted": true
      },
      "outputs": [],
      "source": "# run this cell to prepare the notebook\nlibrary(coursekata)\nlibrary(gridExtra)\nset.seed(127)\n\n# Shift all to have mean of ~100 and sd of ~15\ntarget_mean <- 100\ntarget_sd <- 15  \n\n# Create original distributions\npop_a <- round(scale(rnorm(10000)) * target_sd + target_mean, 2)\npop_b <- round(scale(runif(10000)) * target_sd + target_mean, 2)\npop_c <- round(scale(rexp(10000, rate = 0.5)) * target_sd + target_mean, 2)\n\n# make small samples\nsample_1 <- c(98.29, 112.22, 92.77, 99.98, 100.92, 87.78, 91.44, 93.65, 114.99, 94.63, \n              101.47, 93.08, 95.05, 107.87, 92.09, 110.47, 100.29, 87.04, 100.66, 107.51)\nsample_2 <- c(76.75, 76.43, 89.17, 79.25, 120.06, 76.52, 99.77, 116.69, 116.65, 115.28,\n              111.7, 82.73, 101.17, 96.46, 125.63, 102.15, 120.95, 80.42, 78.64, 115.05)\nsample_3 <- c(88.74, 75.61, 101.69, 99.39, 102.97, 86.36, 73.43, 95.07, 124.34, 110.32,\n              87.97, 95.34, 97.29, 103.26, 71.73, 98.23, 122.74, 119.55, 105.15, 101.61)\nsample_4 <- c(124,85.38,75.42,109.07,97.55,88.39,99.52,82.36,119.56,76.63,105.46,\n              124.19,78.57,81.23,117.28,91.89,96.73,79.44,81.81,79.81)\nsample_5 <- c(99.9,94.38,125.99,104.51,90.56,85.38,106.49,110.25,79.12,118.87,74.22,\n              79.52,98.81,103.88,115.93,81.72,65.24,93.42,75.89,104.85)\nsample_6 <- c(87.46,90.14,96.76,98.11,113.98,153.06,94.21,95.06,96.3,105.4,86.5,113.37,\n              92.93,122.56,90.81,96.86,105.15,138.6,100.11,92.77)\n\n# set styles\ncss <- suppressWarnings(readLines(\"https://raw.githubusercontent.com/jimstigler/jupyter/master/ck_jupyter_styles_v2.css\"))\nIRdisplay::display_html(sprintf('<style>%s</style>', paste(css, collapse = \"\\n\")))"
    },
    {
      "cell_type": "markdown",
      "metadata": {
        "cell_id": "d2a932f63cfd4e498774d4980d8a6799",
        "deepnote_cell_type": "markdown"
      },
      "source": "## 1 Defining Samples, Populations, and the DGP\n\nWhen we collect a sample of data, we usually are interested not in the sample itself but in the population from which it is drawn. In fact, we usually are interested in the Data Generating Process (or DGP) that resulted in both the population and the sample. In this notebook we are going to sort through these ideas, and hopefully help you see why they are important.\n\n### 1.1 Some definitions\n\n**Sample:** The cases that got selected and measured and so ended up in our data. (Real and known)\n\n**Population:** All the cases in the world from which we sampled, and that we want to understand. (Real but unknown; we want to know it!)\n\n**Data Generating Process (DGP):** The hidden processes in the world that generate the distribution of a variable in a population and then the sample. (Real but unknown; we want to know it!)"
    },
    {
      "cell_type": "markdown",
      "metadata": {
        "cell_id": "b66a43aceb874295a1474a380944f091",
        "deepnote_cell_type": "markdown"
      },
      "source": "<div class=\"guided-notes\">\n\n### 1.2 Label each row in the guided notes table as sample, population, or DGP. For each, also label it as *known* or *unknown*.\n    \n</div>"
    },
    {
      "cell_type": "markdown",
      "metadata": {
        "cell_id": "b3278663c03e446a86b590fc3a2274d8",
        "deepnote_cell_type": "markdown"
      },
      "source": "<img src=\"https://coursekata-course-assets.s3.us-west-1.amazonaws.com/UCLATALL/czi-stats-course/3.10-3.13-dgp-pop-sample.jpg\" alt=\"DGP is the cause of variation in the population and the population is the source of variation in the sample\">"
    },
    {
      "cell_type": "markdown",
      "metadata": {
        "cell_id": "1fe3c0f7a7634cd185cf794b35a49e34",
        "deepnote_cell_type": "markdown"
      },
      "source": "### 1.3 Explanation of how sample, population, and DGP relate\n    \nThe Data Generating Process (DGP) includes all the real-world processes that produce variation on a variable. When the DGP runs for a long time, it generates a population (the set of all cases and the variation among them at a given time). The population isn’t ever *done* being generated. It may change slightly from day to day, but as long as the same DGP is operating, the type of variation we see in the population stays similar over time.\n\nFrom the population, a researcher draws a sample. The variation we see in the sample comes from the variation in the population, which came from the DGP."
    },
    {
      "cell_type": "markdown",
      "metadata": {
        "cell_id": "b33204ce8921443fa3c25c03afa3f515",
        "deepnote_cell_type": "markdown"
      },
      "source": "<div class=\"guided-notes\">\n\n### 1.4 Write a brief explanation - in your own words - of the relationship between DGP, population, and sample.\n    \n</div>"
    },
    {
      "cell_type": "markdown",
      "metadata": {
        "cell_id": "1d25c030c0c540338b3a7b0e03984278",
        "deepnote_cell_type": "markdown"
      },
      "source": "<div class=\"discussion-question\">\n\n<h3>1.5 Key Discussion Questions: One way to think about the relationship of samples to populations is by analogy to children and parents. How well does this analogy apply when thinking about samples and populations?</h3> \n\n- Do children always look like their parents? \n- Can you tell exactly what a child’s parent looks like just by seeing the child? \n- Can you always predict what a parent’s children will look like?\n\nUse your answers to these questions to reflect on the relationship between samples and populations.\n</div> "
    },
    {
      "cell_type": "markdown",
      "metadata": {
        "cell_id": "fbb79f5b655b482986960507fc38707a",
        "deepnote_cell_type": "markdown"
      },
      "source": "## 2 From Samples to Populations: The Problem of Inference\n\nA key challenge for data analysts is the problem of inference: What can we infer about the population distribution by looking at a sample distribution? What kind of population might have produced this particular sample?\n\nTake, for example, the sample distribution on the right. This sample consists of 20 observations sampled from one of the three population distributions on the left. Which one? How can you tell?"
    },
    {
      "cell_type": "markdown",
      "metadata": {
        "cell_id": "e4af09ff1d3e4ece9c5e2de63c96a2dd",
        "deepnote_cell_type": "markdown"
      },
      "source": "<img src=\"https://coursekata-course-assets.s3.us-west-1.amazonaws.com/UCLATALL/czi-stats-course/3.10-3.13-which-pop-sample.jpg\" alt=\"When you look at a sample, we wonder what population was the source of it?\" width = 80%>"
    },
    {
      "cell_type": "markdown",
      "metadata": {
        "cell_id": "8c2371279e6e449fae200d670bb687e2",
        "deepnote_cell_type": "markdown"
      },
      "source": "### 2.1 The 6 samples we will show you came from one of these three population distributions (also shown in your guided notes)\nEach of these population distributions consists of 10,000 observations. \n\n<img src=\"https://coursekata-course-assets.s3.us-west-1.amazonaws.com/UCLATALL/czi-stats-course/3.10-3.13-three-pop.jpg\" alt=\"population A is normal; population B is uniform; population C is skewed\" width = 100%>"
    },
    {
      "cell_type": "markdown",
      "metadata": {
        "cell_id": "e7b44c29f79f475a8acc33443eb7574e",
        "deepnote_cell_type": "markdown"
      },
      "source": "<div class=\"guided-notes\">\n\n### 2.2 Label each population distribution based on its shape\n\n</div>"
    },
    {
      "cell_type": "markdown",
      "metadata": {
        "cell_id": "a0eabf08aa6c446d880ebcaf9536d071",
        "deepnote_cell_type": "markdown"
      },
      "source": "### 2.3 Activity instructions: Which population was the source of the sample?\n\nWe'll show you 6 sample distributions, one at a time. Each sample consists of 20 observations randomly sampled from one of the three population distributions. For each sample, vote on which of the three population distributions you think it came from."
    },
    {
      "cell_type": "code",
      "execution_count": null,
      "metadata": {
        "cell_id": "1577a3654a3f46f1b515d0787e0d4ca3",
        "deepnote_cell_type": "code",
        "nbsimplegrader": {
          "config_key": "code.response",
          "editable": true,
          "label": "Response: Code",
          "respondable": true,
          "response": null,
          "runnable": true,
          "type": "code"
        },
        "trusted": true
      },
      "outputs": [],
      "source": "# run this code\n# then update the title with the vote count and run again\nplot1 <- gf_histogram(~sample_1) %>%\n  gf_labs(title = \"Sample 1: Pop A=?, B=?, C=?\") \n\nplot1"
    },
    {
      "cell_type": "markdown",
      "metadata": {
        "cell_id": "7ab471f719464f7686472c946d829dfe",
        "deepnote_cell_type": "markdown"
      },
      "source": "<div class=\"guided-notes\">\n\n### 2.4 Record the vote for sample_1 \n</div>"
    },
    {
      "cell_type": "code",
      "execution_count": null,
      "metadata": {
        "cell_id": "e9f08cef281e4c69a4891cc4cd40f9b3",
        "deepnote_cell_type": "code",
        "nbsimplegrader": {
          "config_key": "code.response",
          "editable": true,
          "label": "Response: Code",
          "respondable": true,
          "response": null,
          "runnable": true,
          "type": "code"
        },
        "trusted": true
      },
      "outputs": [],
      "source": "# run this code\n# then update the title with the vote count\nplot2 <- gf_histogram(~sample_2) %>%\n  gf_labs(title = \"Sample 2: Pop A=?, B=?, C=?\") \n\nplot2"
    },
    {
      "cell_type": "markdown",
      "metadata": {
        "cell_id": "8be2bc37672e474a89785e90e069461c",
        "deepnote_cell_type": "markdown"
      },
      "source": "<div class=\"guided-notes\">\n\n### 2.5 Record the vote for sample_2 \n</div>"
    },
    {
      "cell_type": "code",
      "execution_count": null,
      "metadata": {
        "cell_id": "1e65d065f14045f8b2fae65b2195571d",
        "deepnote_cell_type": "code",
        "nbsimplegrader": {
          "config_key": "code.response",
          "editable": true,
          "label": "Response: Code",
          "respondable": true,
          "response": null,
          "runnable": true,
          "type": "code"
        },
        "trusted": true
      },
      "outputs": [],
      "source": "# run and update\nplot3 <- gf_histogram(~sample_3) %>%\n  gf_labs(title = \"Sample 3: Pop A=?, B=?, C=?\") \n\nplot3"
    },
    {
      "cell_type": "markdown",
      "metadata": {
        "cell_id": "60c983ba125f44c19c809fd244ea1819",
        "deepnote_cell_type": "markdown"
      },
      "source": "<div class=\"guided-notes\">\n\n### 2.6 Record the vote for sample_3 \n    \n</div>"
    },
    {
      "cell_type": "code",
      "execution_count": null,
      "metadata": {
        "cell_id": "11f993ed54f14a02a7f6b8471ee92f88",
        "deepnote_cell_type": "code",
        "nbsimplegrader": {
          "config_key": "code.response",
          "editable": true,
          "label": "Response: Code",
          "respondable": true,
          "response": null,
          "runnable": true,
          "type": "code"
        },
        "trusted": true
      },
      "outputs": [],
      "source": "# run and update\nplot4 <- gf_histogram(~sample_4) %>%\n  gf_labs(title = \"Sample 4: Pop A=?, B=?, C=?\") \n\nplot4"
    },
    {
      "cell_type": "markdown",
      "metadata": {
        "cell_id": "13c4399dec3b458a80f16c97df98d169",
        "deepnote_cell_type": "markdown"
      },
      "source": "<div class=\"guided-notes\">\n\n### 2.7 Record the vote for sample_4 \n\n</div>"
    },
    {
      "cell_type": "code",
      "execution_count": null,
      "metadata": {
        "cell_id": "9f287d3f492c48fdb89dd746732544ec",
        "deepnote_cell_type": "code",
        "nbsimplegrader": {
          "config_key": "code.response",
          "editable": true,
          "label": "Response: Code",
          "respondable": true,
          "response": null,
          "runnable": true,
          "type": "code"
        },
        "trusted": true
      },
      "outputs": [],
      "source": "# run and update\nplot5 <- gf_histogram(~sample_5) %>%\n  gf_labs(title = \"Sample 5: Pop A=?, B=?, C=?\") \n\nplot5"
    },
    {
      "cell_type": "markdown",
      "metadata": {
        "cell_id": "d073f9086d144b629e7cd69269f07675",
        "deepnote_cell_type": "markdown"
      },
      "source": "<div class=\"guided-notes\">\n\n### 2.8 Record the vote for sample_5 \n</div>"
    },
    {
      "cell_type": "code",
      "execution_count": null,
      "metadata": {
        "cell_id": "5bb5b8f47dc0451e87e5798cbcf4ddf2",
        "deepnote_cell_type": "code",
        "nbsimplegrader": {
          "config_key": "code.response",
          "editable": true,
          "label": "Response: Code",
          "respondable": true,
          "response": null,
          "runnable": true,
          "type": "code"
        },
        "trusted": true
      },
      "outputs": [],
      "source": "# run and update\nplot6 <- gf_histogram(~sample_6) %>%\n  gf_labs(title = \"Sample 6: Pop A=?, B=?, C=?\") \n\nplot6"
    },
    {
      "cell_type": "markdown",
      "metadata": {
        "cell_id": "6767590e117b47d898e1fad7f5e8112f",
        "deepnote_cell_type": "markdown"
      },
      "source": "<div class=\"guided-notes\">\n\n### 2.9 Record the vote for sample_6 \n</div>"
    },
    {
      "cell_type": "markdown",
      "metadata": {
        "cell_id": "33a2a2f7d2d74df4ada7021afcc821f2",
        "deepnote_cell_type": "markdown"
      },
      "source": "<div class=\"discussion-question\">\n\n<h3>2.10 Key Discussion Questions: Review the vote totals for each sample. Which samples had less agreement? Why do you think this is?\n\n</div>\n"
    },
    {
      "cell_type": "code",
      "execution_count": null,
      "metadata": {
        "cell_id": "6388ee57ea9a4c559b676c1b6924b7a1",
        "deepnote_cell_type": "code",
        "nbsimplegrader": {
          "config_key": "code.edit-and-run",
          "editable": true,
          "label": "Code: Edit-and-Run",
          "respondable": false,
          "response": null,
          "runnable": true,
          "type": "code"
        },
        "trusted": true
      },
      "outputs": [],
      "source": "# run this code to look at all 6 plots at once\n# resizes the plot\noptions(repr.plot.width = 6*2.5, repr.plot.height = 4*2)\n\n# makes a grid of our 6 plots\ngrid.arrange(plot1, plot2, plot3, \n             plot4, plot5, plot6, nrow=2)\n\n# resizes plots back to default\noptions(repr.plot.width = 6, repr.plot.height = 4)"
    },
    {
      "cell_type": "markdown",
      "metadata": {
        "cell_id": "1df321ba823046d58bd564cc6f97dc54",
        "deepnote_cell_type": "markdown"
      },
      "source": "<div class=\"discussion-question\">\n\n<h3>2.11 Key Discussion Questions: Where did we get the population wrong?</h3>\n\nTake a look at the figure below which shows you which sample came from which population. You may want to circle the correct population in your guided notes to help compare with our original guesses.\n\n- For which samples did we misidentify the population?\n- What about the sample led us astray?\n- What does this activity show about trying to infer a population from a small sample (n=20)?\n\n</div>"
    },
    {
      "cell_type": "markdown",
      "metadata": {
        "cell_id": "8205f81ebb764dfaa36473d7d5f3de24",
        "deepnote_cell_type": "markdown"
      },
      "source": "<img src=\"https://coursekata-course-assets.s3.us-west-1.amazonaws.com/UCLATALL/czi-stats-course/3.10-3.13-pop-answers2.jpg\" alt=\"sample 1 is from pop C, sample 2 is from pop B, sample 3 is from pop A, sample 4 is from pop X, sample 5 is from pop X, sample 6 is from pop X\">"
    },
    {
      "cell_type": "markdown",
      "metadata": {
        "cell_id": "37ee1e8735de43dd8a968996f45fd1e2",
        "deepnote_cell_type": "markdown"
      },
      "source": "<div class=\"guided-notes\">\n\n### 2.12 If we see a small sample of data with a distribution that appears skewed to the right, what can we assume about the population? \n\nOther than the shape of the population distribution, what else might explain the skewed shape of the sample?\n    \n</div>"
    },
    {
      "cell_type": "markdown",
      "metadata": {
        "cell_id": "bc039c65e65c461daeb215d591eb9757",
        "deepnote_cell_type": "markdown"
      },
      "source": "## 3 From Populations to Samples: the Power of Simulation\n\nAs we’ve seen, it’s hard to draw conclusions about a population from a single small sample—especially in real life data analysis where we can *never* directly study the population. That’s where simulation comes in.\n\nUsing R, we can make assumptions about a population and simulate multiple samples from it. By examining the many “children” produced by a single “parent,” we can explore whether our actual sample could plausibly have come from that population—or if it seems unlikely."
    },
    {
      "cell_type": "markdown",
      "metadata": {
        "cell_id": "73db91f83b9d474290cd70daebe6c97c",
        "deepnote_cell_type": "markdown"
      },
      "source": "<img src=\"https://coursekata-course-assets.s3.us-west-1.amazonaws.com/UCLATALL/czi-stats-course/3.10-3.13-pop-sim-samples.jpg\" alt=\"We can simulate random samples from a population\" width = 75%>"
    },
    {
      "cell_type": "markdown",
      "metadata": {
        "cell_id": "6a792b89b9484c32b896f6161eec905f",
        "deepnote_cell_type": "markdown"
      },
      "source": "### 3.1 Edit the code to view `pop_a` in a histogram.\n\nEach of the populations you saw earlier (normal, uniform, and skewed) is stored in a vector of 10,000 values: `pop_a`, `pop_b`, and `pop_c`.\n\nLet’s start by visualizing Population A."
    },
    {
      "cell_type": "code",
      "execution_count": null,
      "metadata": {
        "cell_id": "5662f67301a04732a508a833176aa937",
        "deepnote_cell_type": "code",
        "nbsimplegrader": {
          "config_key": "code.response",
          "editable": true,
          "label": "Response: Code",
          "respondable": true,
          "response": null,
          "runnable": true,
          "type": "code"
        },
        "scrolled": false,
        "trusted": true
      },
      "outputs": [],
      "source": "# edit this code\ngf_histogram(~vector, fill = \"purple\")"
    },
    {
      "cell_type": "markdown",
      "metadata": {
        "cell_id": "2b730ad677be473b9eeebce37fb921f2",
        "deepnote_cell_type": "markdown"
      },
      "source": "<div class=\"discussion-question\">\n    <h3>3.2 Key Discussion Question: How would you describe the distribution of <code>pop_a</code>?</h3> Think about shape, center, spread, and weird things.\n</div> "
    },
    {
      "cell_type": "markdown",
      "metadata": {
        "cell_id": "16d569d9ef7844e5a3e19471bc9c96f4",
        "deepnote_cell_type": "markdown"
      },
      "source": "### 3.3 Write code to simulate a random sample of n=20 from `pop_a`\n\nWe will use the `sample()` function in R: <code>sample(&lt;vector&gt;, &lt;sample size&gt;)</code>. This function takes a random sample of a specified sample size from a population saved in a vector.\n"
    },
    {
      "cell_type": "code",
      "execution_count": null,
      "metadata": {
        "cell_id": "f631ced02eaf41579d636641ca6e1dea",
        "deepnote_cell_type": "code",
        "nbsimplegrader": {
          "config_key": "code.response",
          "editable": true,
          "label": "Response: Code",
          "respondable": true,
          "response": null,
          "runnable": true,
          "type": "code"
        },
        "trusted": true
      },
      "outputs": [],
      "source": "# write code\n"
    },
    {
      "cell_type": "markdown",
      "metadata": {
        "cell_id": "8dc71f3fe90f45b38dd5452ac03d57a0",
        "deepnote_cell_type": "markdown"
      },
      "source": "<div class=\"guided-notes\">\n\n### 3.4 Write R code to make a histogram of the sample of 20 from `pop_a`\n\nNow take the sample you created and put it inside the `gf_histogram()` function to graph the distribution of your sample.\n    \n</div>"
    },
    {
      "cell_type": "code",
      "execution_count": null,
      "metadata": {
        "cell_id": "15ccb73c954e44d985262cef0b0669bf",
        "deepnote_cell_type": "code",
        "nbsimplegrader": {
          "config_key": "code.response",
          "editable": true,
          "label": "Response: Code",
          "respondable": true,
          "response": null,
          "runnable": true,
          "type": "code"
        },
        "trusted": true
      },
      "outputs": [],
      "source": "# revise this code\nsample(pop_a, 20)"
    },
    {
      "cell_type": "markdown",
      "metadata": {
        "cell_id": "38444d8839f347b9b925f1c5e4ff49b1",
        "deepnote_cell_type": "markdown"
      },
      "source": "### 3.5 What do you predict will happen if we run the code above again? \n\nWill we get the same distribution? Why or why not?\n"
    },
    {
      "cell_type": "markdown",
      "metadata": {
        "cell_id": "a3e9f3617e314ad7bf1c6e3da52eb5b5",
        "deepnote_cell_type": "markdown"
      },
      "source": "<div class=\"guided-notes\">\n    <h3>3.6 Go ahead and run that code again and again. What sample shapes do you observe?</h3> The image below contains the population and some examples of simulated samples to help with discussion.\n</div> "
    },
    {
      "cell_type": "markdown",
      "metadata": {
        "cell_id": "9e7dc6612b6f410a8cded3d81a5ccffd",
        "deepnote_cell_type": "markdown"
      },
      "source": "<img src=\"https://coursekata-course-assets.s3.us-west-1.amazonaws.com/UCLATALL/czi-stats-course/3.10-3.13-pop-a-and-11-samples.jpg\" width=\"100%\">"
    },
    {
      "cell_type": "markdown",
      "metadata": {
        "cell_id": "19f1becd23644fca8df646921af621a5",
        "deepnote_cell_type": "markdown"
      },
      "source": "<div class=\"guided-notes\">\n\n### 3.7 If we assume that a population is normally distributed, what can we predict about random samples from it? \nWhat do you think causes some samples to look different from the population?\n    \n</div>"
    },
    {
      "cell_type": "markdown",
      "metadata": {
        "cell_id": "208042fd89504ab881306776fa7c969b",
        "deepnote_cell_type": "markdown"
      },
      "source": "## 4 How Does Sample Size Affect Shape of the Sample Distribution?\nWe have seen that small samples may not represent the distribution of the population from which they are sampled. But how small is small? How big would a sample need to be for you to be confident that you can tell the shape of the population distribution?\n\n### 4.1 Let's try different sample sizes simulated from the normal population (`pop_a`)\nIn the code cell below, try samples of 20, 50, and 500. Run each sample size multiple times and see what you notice."
    },
    {
      "cell_type": "code",
      "execution_count": null,
      "metadata": {
        "cell_id": "9165feb58e444a4d988a79fc05bc993b",
        "deepnote_cell_type": "code",
        "nbsimplegrader": {
          "config_key": "code.response",
          "editable": true,
          "label": "Response: Code",
          "respondable": true,
          "response": null,
          "runnable": true,
          "type": "code"
        },
        "scrolled": false,
        "trusted": true
      },
      "outputs": [],
      "source": "# change the sample size, run multiple times, look at the result\n# try samples of 20, 50, and 500\ngf_histogram(~ sample(pop_a, 10))\n"
    },
    {
      "cell_type": "markdown",
      "metadata": {
        "cell_id": "194dc6e0c8d545238ef5f014247b4090",
        "deepnote_cell_type": "markdown"
      },
      "source": "<div class=\"discussion-question\">\n    <h3>4.2 What sample sizes seem to better represent the population distribution?</h3> What do you notice about multiple samples of 20 compared to multiple samples of 500? The image below contains a row of n=20, n=50, and n=500 samples to help with discussion.\n</div> "
    },
    {
      "cell_type": "markdown",
      "metadata": {
        "cell_id": "913018d09ae2438facfb6ae1e2727edb",
        "deepnote_cell_type": "markdown"
      },
      "source": "<img src=\"https://coursekata-course-assets.s3.us-west-1.amazonaws.com/UCLATALL/czi-stats-course/3.10-3.13-pop-a-20-50-500.jpg\" width=\"100%\">"
    },
    {
      "cell_type": "markdown",
      "metadata": {
        "cell_id": "efb7029c0d054924b05b8eb4f1bf5608",
        "deepnote_cell_type": "markdown"
      },
      "source": "## 5 Practice What You've Learned\n\nSo far we've been sampling from `pop_a`, which is normal in shape. Try taking random samples of different sizes from `pop_b` (uniform in shape) and `pop_c` (exponential in shape, skewed to the right). \n\nFor each population, make a histogram of the parent population, then histograms of random samples of different sizes. Try drawing small samples (n = 20), medium samples (n=50), and large samples (n = 500) from each population and compare their shapes to the shape of the population.\n\n### 5.1 Look at `pop_b` and its samples (n=20, 50, 500)"
    },
    {
      "cell_type": "code",
      "execution_count": null,
      "metadata": {
        "cell_id": "a0a90de71bf34dd3a982385d37297c1a",
        "deepnote_cell_type": "code",
        "nbsimplegrader": {
          "config_key": "code.response",
          "editable": true,
          "label": "Response: Code",
          "respondable": true,
          "response": null,
          "runnable": true,
          "type": "code"
        },
        "trusted": true
      },
      "outputs": [],
      "source": "# edit this\ngf_histogram(~ pop_b)"
    },
    {
      "cell_type": "markdown",
      "metadata": {
        "cell_id": "77369fc78c00414bb8bfa1660819b21d",
        "deepnote_cell_type": "markdown"
      },
      "source": "<div class=\"guided-notes\">\n    <h3>5.2 Write down the code you tested and describe the shapes of the sample distributions</h3>\n</div> "
    },
    {
      "cell_type": "markdown",
      "metadata": {
        "cell_id": "8a266153a52b440bac757c51ab5f7d68",
        "deepnote_cell_type": "markdown"
      },
      "source": "### 5.3 Look at `pop_c` and its samples (n=20, 50, 500)"
    },
    {
      "cell_type": "code",
      "execution_count": null,
      "metadata": {
        "cell_id": "6a5115b7b1b240ff9d68ad0bdc2a1f5b",
        "deepnote_cell_type": "code",
        "nbsimplegrader": {
          "config_key": "code.response",
          "editable": true,
          "label": "Response: Code",
          "respondable": true,
          "response": null,
          "runnable": true,
          "type": "code"
        },
        "trusted": true
      },
      "outputs": [],
      "source": "# edit this\ngf_histogram(~ pop_c)"
    },
    {
      "cell_type": "markdown",
      "metadata": {
        "cell_id": "c5664ea3cf6b4649bcf372540a2ef2b2",
        "deepnote_cell_type": "markdown"
      },
      "source": "<div class=\"guided-notes\">\n    <h3>5.4 Write down the code you tested and describe the shapes of the sample distributions.</h3>\n</div> "
    },
    {
      "cell_type": "markdown",
      "metadata": {
        "cell_id": "5a153b89165749779c94c3b9f658871d",
        "deepnote_cell_type": "markdown"
      },
      "source": "## 6 Extra: Where Did the Populations We Sampled From Come From?\n\nWe used three populations of 10,000 in this lesson: `pop_a`, `pop_b`, and `pop_c`, Each was in its own vector. We learned how to randomly sample from these populations using the `sample()` function. But how did we get these 10,000 data points to begin with?\n\nThe answer is: we simulated them. They are not from “real” populations. Instead, we used functions in R to generate data that come from different population shapes (normal, uniform, exponential). These simulations are not the real-world DGPs. We use simulation as a technique to *model* how a population with a certain shape might be generated.\n\nFor example, to model a normal population, we used the function `rnorm()`, which generates values from a theoretical normal distribution with particular features (the default features are a mean of 0 and a standard deviation of 1)."
    },
    {
      "cell_type": "markdown",
      "metadata": {
        "cell_id": "87370f6a3c3f4b0ab0a9f16a6dae057a",
        "deepnote_cell_type": "markdown"
      },
      "source": "### 6.1 Try generating random samples from a normal distribution using <code>rnorm(&lt;sample size&gt;)</code> function. Try generating samples that are small (like 10 or 20) or very large (like 500 or 1000).\n\nThe code below generates 10 random values from a normal distribution and graphs them in a histogram. "
    },
    {
      "cell_type": "code",
      "execution_count": null,
      "metadata": {
        "cell_id": "cbeb685841ee41d59fc2fa3c3a920d1d",
        "deepnote_cell_type": "code",
        "nbsimplegrader": {
          "config_key": "code.response",
          "editable": true,
          "label": "Response: Code",
          "respondable": true,
          "response": null,
          "runnable": true,
          "type": "code"
        },
        "scrolled": false,
        "trusted": true
      },
      "outputs": [],
      "source": "# edit this code\ngf_histogram(~ rnorm(10))"
    },
    {
      "cell_type": "markdown",
      "metadata": {
        "cell_id": "c7eb3d6ce5d547fd8db72214e650d52c",
        "deepnote_cell_type": "markdown"
      },
      "source": "### 6.2 Try generating samples from a uniform distribution using <code>runif(&lt;sample size&gt;)</code>.  Try generating samples that are small (like 10 or 20) or very large (like 500 or 1000).\nThe code below generates 10 values from a uniform distribution, where all values in a range are equally likely."
    },
    {
      "cell_type": "code",
      "execution_count": null,
      "metadata": {
        "cell_id": "2e4435395f354290a648af26d1a8da5e",
        "deepnote_cell_type": "code",
        "nbsimplegrader": {
          "config_key": "code.response",
          "editable": true,
          "label": "Response: Code",
          "respondable": true,
          "response": null,
          "runnable": true,
          "type": "code"
        },
        "trusted": true
      },
      "outputs": [],
      "source": "# edit this code\ngf_histogram(~runif(5))"
    },
    {
      "cell_type": "markdown",
      "metadata": {
        "cell_id": "5c834d85f0ed45a0971b630631282f93",
        "deepnote_cell_type": "markdown"
      },
      "source": "### 6.3 Try generating samples from an exponential (skewed) distribution using <code>rexp(&lt;sample size&gt;)</code>.  Try generating samples that are small (like 10 or 20) or very large (like 500 or 1000).\n\nThe code below generates 10 values from an exponential (skewed) distribution."
    },
    {
      "cell_type": "code",
      "execution_count": null,
      "metadata": {
        "cell_id": "947eb10763fe4a85890f0cf18ddc94f2",
        "deepnote_cell_type": "code",
        "nbsimplegrader": {
          "config_key": "code.response",
          "editable": true,
          "label": "Response: Code",
          "respondable": true,
          "response": null,
          "runnable": true,
          "type": "code"
        },
        "trusted": true
      },
      "outputs": [],
      "source": "# edit this code\ngf_histogram(~rexp(5))"
    }
  ],
  "metadata": {
    "deepnote_notebook_id": "de42bf99f6bd4550aae6ff331675d4d4",
    "kernelspec": {
      "display_name": "R",
      "language": "R",
      "name": "ir"
    },
    "language_info": {
      "codemirror_mode": "r",
      "file_extension": ".r",
      "mimetype": "text/x-r-source",
      "name": "R",
      "pygments_lexer": "r",
      "version": "4.3.3"
    },
    "nbsimplegrader": {
      "publish_config": {
        "classes": [],
        "options": [],
        "tools": []
      }
    }
  },
  "nbformat": 4,
  "nbformat_minor": 1
}