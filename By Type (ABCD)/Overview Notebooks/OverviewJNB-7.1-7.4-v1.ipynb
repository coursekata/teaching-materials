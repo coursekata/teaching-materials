{
  "cells": [
    {
      "cell_type": "markdown",
      "id": "b8faa990",
      "metadata": {},
      "source": "# Adding an Explanatory Variable to a Model\n## Chapter 7.1-7.4 In-Class Guide"
    },
    {
      "cell_type": "code",
      "execution_count": null,
      "id": "2dd4abae",
      "metadata": {
        "trusted": true
      },
      "outputs": [],
      "source": "# run this to set up the notebook\nsuppressMessages(library(coursekata))\nsuppressMessages(library(gridExtra))\n# get the data\nanchor_data <- read.csv(\"https://docs.google.com/spreadsheets/d/e/2PACX-1vR8CPolRTYxJ6eCszgpgcGvuQ6tyFNoraBbFrFXEbKFgZgouLAlrgEC6wyRqWwSZPTmS2Xpd09P6G9y/pub?gid=1344310652&single=true&output=csv\") "
    },
    {
      "cell_type": "code",
      "execution_count": 1,
      "id": "e0cf27f6",
      "metadata": {
        "trusted": true
      },
      "outputs": [
        {
          "data": {
            "text/html": "<style><style>\n/* Force CSS block parsing */\n.teacher-note::before {\n    content: \"\";\n    display: none;\n}\n.teacher-note {\n    border: 3px dashed #fd7f91;\n    font-size: 14px;\n    color: #000000;\n    background-color: #ffe8ec;\n    padding: 10px;\n    border-radius: 5px;\n    line-height: 1.5;\n}\n.teacher-note ol, .teacher-note ul {\n    margin-top: 10px;\n    padding-left: 20px;\n}\n\n.teacher-note li {\n    margin-top: 5px;\n    color: #000000;\n}\n\n.teacher-note code {\n    color: #000000;\n    background-color: #ffd3da;\n}\n\n.teacher-note a {\n    color: #000000;\n    text-decoration: underline;\n}\n\n.discussion-question {\n    border: 3px solid #a88bd4;\n    font-size: 14px;\n    color: #000000;\n    background-color: #eee8f6;\n    padding: 10px;\n    border-radius: 5px;\n    line-height: 1.5;\n}\n\n.discussion-question code {\n    color: #000000;\n    background-color: #e0d5ef;\n}\n\n.guided-notes h3:first-child {\n    margin-top: 0 !important; /* Forcefully remove the global margin */\n    margin-bottom: 0px; /* Optional: Add a small bottom margin for spacing */\n    padding: 0; /* Ensure no padding is applied */\n    color: #000000; /* Standard black font */\n}\n\n.guided-notes {\n    border: 3px solid #708a89;\n    font-size: 14px;\n    color: #000000;\n    background-color: #f1f8f8; /* was ffffff */\n    padding: 10px;\n    border-radius: 5px;\n    line-height: 1.5;\n}\n\n.guided-notes code {\n    color: #000000;\n    background-color: #dceeed;\n}\n\n.guided-notes h3 {\n    margin: 0; /* Remove default margins */\n    padding: 0; /* Remove default padding */\n    color: #000000;\n}\n\n/* Adjust line spacing for Level 3 headings (### Heading 3) */\n.rendered_html h3 {\n    font-size: 128.6%;\n    margin: 1.55em 0 0 0;\n    font-weight: bold;\n    line-height: 1.5;\n}\n\n</style></style>"
          },
          "metadata": {},
          "output_type": "display_data"
        }
      ],
      "source": "css <- suppressWarnings(readLines(\"https://raw.githubusercontent.com/jimstigler/jupyter/master/ck_jupyter_styles.css\"))\nIRdisplay::display_html(sprintf('<style>%s</style>', paste(css, collapse = \"\\n\")))"
    },
    {
      "cell_type": "markdown",
      "id": "9dac8e33",
      "metadata": {},
      "source": "## 1. Data Collection Activity\n\n<br>\n<div style=\"margin: 0 auto; font-family: Arial, sans-serif; border: 2px solid black; width: 380px; height: 220px; background-color: #F2F2F2; padding: 10px; box-sizing: border-box; font-size: 12pt; line-height: 1.4; font-weight: bold; text-align: left;\">\n  On the other side of this card is a math problem. When you are told to do so, turn over the card and look at it for 5 seconds. Then turn the card back over and write your estimate of the answer in the space below.<br><br><br>&nbsp;&nbsp;&nbsp;&nbsp;&nbsp;&nbsp;&nbsp;&nbsp;&nbsp;&nbsp;&nbsp;&nbsp;___________________________\n</div>"
    },
    {
      "cell_type": "markdown",
      "id": "fae068c4",
      "metadata": {},
      "source": "### 1.1 Everyone was given the same numbers to multiply. Do you expect all their guesses to be the same? Why or why not?"
    },
    {
      "cell_type": "markdown",
      "id": "8cd28994",
      "metadata": {
        "nbsimplegrader": {
          "config_key": "markdown.response",
          "editable": true,
          "label": "Response: Markdown",
          "respondable": true,
          "response": null,
          "runnable": true,
          "type": "markdown"
        }
      },
      "source": ""
    },
    {
      "cell_type": "markdown",
      "id": "27876fec",
      "metadata": {},
      "source": "## 2. Explore Variation in `guess`\nWe have collected some data from you. We have a similar data set collected from a few other classes of students; we will start by analyzing that."
    },
    {
      "cell_type": "markdown",
      "id": "64e62bdc",
      "metadata": {},
      "source": "### 2.1 Run the code below to create a jitter plot to visualize variation in guesses"
    },
    {
      "cell_type": "code",
      "execution_count": null,
      "id": "2b6e7acd",
      "metadata": {
        "scrolled": false,
        "trusted": true
      },
      "outputs": [],
      "source": "# run this code; no need to edit\ngf_jitter(guess ~ \"x\", data=anchor_data, width=.1 )"
    },
    {
      "cell_type": "markdown",
      "id": "a5a9ed01",
      "metadata": {},
      "source": "### 2.2 Look back at the code. What is the outcome variable? What is the data frame?"
    },
    {
      "cell_type": "markdown",
      "id": "77012a7b",
      "metadata": {
        "cell_id": "00006-7bb97ccc-3bc3-49f5-952d-d54537f80b1e",
        "deepnote_cell_type": "markdown"
      },
      "source": "### 2.3 If we randomly chose one more student and added them to the data set, what would you predict their guess would be?"
    },
    {
      "cell_type": "markdown",
      "id": "4debe6d2",
      "metadata": {},
      "source": "## 3. Review the Empty Model\n### 3.1 Fit the empty model of `guess`; save it as `empty_model`; print out the model"
    },
    {
      "cell_type": "code",
      "execution_count": null,
      "id": "dcacb77a",
      "metadata": {
        "nbsimplegrader": {
          "config_key": "code.response",
          "editable": true,
          "label": "Response: Code",
          "respondable": true,
          "response": null,
          "runnable": true,
          "type": "code"
        },
        "scrolled": true,
        "trusted": true
      },
      "outputs": [],
      "source": "# fit and save the empty_model of guess\n"
    },
    {
      "cell_type": "markdown",
      "id": "ac387431",
      "metadata": {
        "cell_id": "00006-7bb97ccc-3bc3-49f5-952d-d54537f80b1e",
        "deepnote_cell_type": "markdown"
      },
      "source": "### 3.2 What does the 1946 represent?"
    },
    {
      "cell_type": "markdown",
      "id": "21cc4a4c",
      "metadata": {},
      "source": "<div class=\"guided-notes\">\n    <h3>3.3 Draw in the empty model prediction on the graph</h3>\n</div>"
    },
    {
      "cell_type": "markdown",
      "id": "07ecabe5",
      "metadata": {},
      "source": "<div class=\"guided-notes\">\n    <h3>3.4 Write the code to overlay the <code>empty_model</code> on the jitter plot?</h3>\n</div>"
    },
    {
      "cell_type": "code",
      "execution_count": null,
      "id": "5682ceed",
      "metadata": {
        "nbsimplegrader": {
          "config_key": "code.response",
          "editable": true,
          "label": "Response: Code",
          "respondable": true,
          "response": null,
          "runnable": true,
          "type": "code"
        },
        "scrolled": false,
        "trusted": true
      },
      "outputs": [],
      "source": "# add the empty_model to the plot\ngf_jitter(guess ~ \"x\",  width = .1, data = anchor_data) \n"
    },
    {
      "cell_type": "markdown",
      "id": "0d81a19f",
      "metadata": {},
      "source": "### 3.5 Does this look like your drawing of the empty model prediction on the jitter plot? "
    },
    {
      "cell_type": "markdown",
      "id": "dfc2f5b6",
      "metadata": {},
      "source": "## 4. Adding an explanatory variable to the model\n\nThe empty model isn't very good - there is lots of error around the model prediction. We might be able to make a better model (i.e., one with less error) if we had an explanatory variable. \n\nIt turns out we do have a possible explanatory variable in our data that might help us make a better model. Run the code below to check out the variable called `condition`. Half the students in our class were randomly presented with the problem 1x2x3x4x5x6x7x8 (the `ascending` condition). The other half got 8x7x6x5x4x3x2x1 (the `descending` condition). "
    },
    {
      "cell_type": "code",
      "execution_count": null,
      "id": "ef203dbc",
      "metadata": {
        "trusted": true
      },
      "outputs": [],
      "source": "# run this code\nhead(anchor_data)"
    },
    {
      "cell_type": "markdown",
      "id": "9055a1ec",
      "metadata": {
        "cell_id": "00006-7bb97ccc-3bc3-49f5-952d-d54537f80b1e",
        "deepnote_cell_type": "markdown"
      },
      "source": "<div class=\"discussion-question\">\n<b>Key Discussion Question:</b> Do you think condition would have an impact on guess? Why or why not?\n</div>"
    },
    {
      "cell_type": "markdown",
      "id": "0031573b",
      "metadata": {},
      "source": "<div class=\"guided-notes\">\n    <h3>4.1 Write two word equations: one to represent the hypothesis that condition would cause variation in guess; the other to represent the idea that it would <i>not</i> have an impact.</h3> Where would each word equation go on your guided notes? Which represents the empty model, which the condition model?\n</div>"
    },
    {
      "cell_type": "markdown",
      "id": "37826577",
      "metadata": {
        "nbsimplegrader": {
          "config_key": "markdown.response",
          "editable": true,
          "label": "Response: Markdown",
          "respondable": true,
          "response": null,
          "runnable": true,
          "type": "markdown"
        }
      },
      "source": ""
    },
    {
      "cell_type": "markdown",
      "id": "06278238",
      "metadata": {},
      "source": "### 4.2 Make a jitter plot to explore the effect of `condition` on `guess`."
    },
    {
      "cell_type": "code",
      "execution_count": null,
      "id": "20dda381",
      "metadata": {
        "nbsimplegrader": {
          "config_key": "code.response",
          "editable": true,
          "label": "Response: Code",
          "respondable": true,
          "response": null,
          "runnable": true,
          "type": "code"
        },
        "trusted": true
      },
      "outputs": [],
      "source": "# make a jitter plot\n"
    },
    {
      "cell_type": "markdown",
      "id": "57bf4ba0",
      "metadata": {
        "cell_id": "00006-7bb97ccc-3bc3-49f5-952d-d54537f80b1e",
        "deepnote_cell_type": "markdown"
      },
      "source": "<div class=\"discussion-question\">\n<b>Key Discussion Question:</b> Does condition explain some of the variation in guess? (If you know what condition a student is in, could you make a better prediction of what their guess would be? What do you think the model predictions would be for the condition model?\n</div>"
    },
    {
      "cell_type": "markdown",
      "id": "ed921f5e",
      "metadata": {},
      "source": "<div class=\"guided-notes\">\n    <h3>4.3 Draw in the condition model predictions on the graph</h3> Draw your prediction lightly; you may want to revise it later.\n</div>"
    },
    {
      "cell_type": "markdown",
      "id": "3d050a0e",
      "metadata": {},
      "source": "<div class=\"guided-notes\">\n    <h3>4.4 Fit the condition model using R</h3>\nOn your guided notes, find the code we used to fit the empty model (<b>guess = mean + other stuff</b>). Try to figure out the code to fit and save the condition model (<b>guess = condition + other stuff</b>).\n</div>"
    },
    {
      "cell_type": "code",
      "execution_count": null,
      "id": "f69799c2",
      "metadata": {
        "nbsimplegrader": {
          "config_key": "code.response",
          "editable": true,
          "label": "Response: Code",
          "respondable": true,
          "response": null,
          "runnable": true,
          "type": "code"
        },
        "trusted": true
      },
      "outputs": [],
      "source": "# write code to fit (and save) the condition model\ncondition_model <- "
    },
    {
      "cell_type": "markdown",
      "id": "3416167a",
      "metadata": {},
      "source": "<div class=\"guided-notes\">\n    <h3>4.5 Add some code to overlay the condition_model on the jitter plot</h3>\n</div>"
    },
    {
      "cell_type": "code",
      "execution_count": null,
      "id": "59b6d60c",
      "metadata": {
        "nbsimplegrader": {
          "config_key": "code.response",
          "editable": true,
          "label": "Response: Code",
          "respondable": true,
          "response": null,
          "runnable": true,
          "type": "code"
        },
        "trusted": true
      },
      "outputs": [],
      "source": "# add the model\ngf_jitter(guess ~ condition, data = anchor_data, width = .1) \n"
    },
    {
      "cell_type": "markdown",
      "id": "800c8da0",
      "metadata": {},
      "source": "### 4.6 What is the model prediction for students in the ascending group? In the descending group? Are they close to what you expected?"
    },
    {
      "cell_type": "markdown",
      "id": "89440374",
      "metadata": {},
      "source": "<div class=\"guided-notes\">\n    <h3>4.7 Use the predict() function to generate predictions for the condition model; compare to predictions for the empty model.</h3>\n</div>"
    },
    {
      "cell_type": "code",
      "execution_count": null,
      "id": "976e8906",
      "metadata": {
        "nbsimplegrader": {
          "config_key": "code.response",
          "editable": true,
          "label": "Response: Code",
          "respondable": true,
          "response": null,
          "runnable": true,
          "type": "code"
        },
        "trusted": true
      },
      "outputs": [],
      "source": "# code here\n"
    },
    {
      "cell_type": "markdown",
      "id": "a81b4dab",
      "metadata": {
        "cell_id": "00006-7bb97ccc-3bc3-49f5-952d-d54537f80b1e",
        "deepnote_cell_type": "markdown"
      },
      "source": "<div class=\"discussion-question\">\n<b>Key Discussion Question:</b> What do you notice about the predictions of the empty model compared to those of the condition model? What is similar? What is different?\n</div>"
    },
    {
      "cell_type": "markdown",
      "id": "081839d4",
      "metadata": {
        "nbsimplegrader": {
          "config_key": "markdown.response",
          "editable": true,
          "label": "Response: Markdown",
          "respondable": true,
          "response": null,
          "runnable": true,
          "type": "markdown"
        }
      },
      "source": ""
    },
    {
      "cell_type": "markdown",
      "id": "dd5d3e07",
      "metadata": {},
      "source": "### 4.8 Use the condition model to generate predictions for each person in the data set, and save their predictions in a new variable (called `condition_predict`)."
    },
    {
      "cell_type": "code",
      "execution_count": null,
      "id": "977aa9e3",
      "metadata": {
        "nbsimplegrader": {
          "config_key": "code.response",
          "editable": true,
          "label": "Response: Code",
          "respondable": true,
          "response": null,
          "runnable": true,
          "type": "code"
        },
        "trusted": true
      },
      "outputs": [],
      "source": "# save the condition model predictions in a new variable called condition_predict\n\n# print out the top 6 rows of the updated data frame to verify what you did\n\n"
    },
    {
      "cell_type": "markdown",
      "id": "6066f185",
      "metadata": {},
      "source": "### 4.9 Does the new variable seem to make sense? Is it what you expected? What do you notice about it?"
    },
    {
      "cell_type": "markdown",
      "id": "80a910dd",
      "metadata": {
        "nbsimplegrader": {
          "config_key": "markdown.response",
          "editable": true,
          "label": "Response: Markdown",
          "respondable": true,
          "response": null,
          "runnable": true,
          "type": "markdown"
        }
      },
      "source": ""
    },
    {
      "cell_type": "markdown",
      "id": "6cad90e0",
      "metadata": {},
      "source": "teacher note: students should see that both models make predictions, but condition makes two"
    },
    {
      "cell_type": "markdown",
      "id": "3e930678",
      "metadata": {},
      "source": "## 5. Understanding the parameter estimates\nWe have referred to the empty model as a one-parameter model. The reason is that we use the data to estimate one parameter, $b_0$, which is the mean of the distribution of the outcome variable. \n\nAs we have seen, the `condition_model` generates two different predictions, one for each group. To do this it will need to use two parameters ($b_0$ and $b_1$). Let's see how they work."
    },
    {
      "cell_type": "markdown",
      "id": "523f0b63",
      "metadata": {},
      "source": "### 5.1 Print out the model estimates for the condition model\nWhich of these estimates do you think is $b_0$? Which is $b_1$?"
    },
    {
      "cell_type": "code",
      "execution_count": null,
      "id": "a0fbed10",
      "metadata": {
        "nbsimplegrader": {
          "config_key": "code.response",
          "editable": true,
          "label": "Response: Code",
          "respondable": true,
          "response": null,
          "runnable": true,
          "type": "code"
        },
        "scrolled": false,
        "trusted": true
      },
      "outputs": [],
      "source": "# print out parameter estimates\n"
    },
    {
      "cell_type": "markdown",
      "id": "979c78e0",
      "metadata": {},
      "source": "<div class=\"guided-notes\">\n    <h3>5.2 Label the parameter estimates in the output with the appropriate GLM notation</h3> Label the parameter estimates for the condition model as either $b_0$ or $b_1$.</div>"
    },
    {
      "cell_type": "markdown",
      "id": "b039abe3",
      "metadata": {
        "cell_id": "00006-7bb97ccc-3bc3-49f5-952d-d54537f80b1e",
        "deepnote_cell_type": "markdown"
      },
      "source": "<div class=\"discussion-question\">\n<b>Key Discussion Question:</b> Are these the estimates you expected? Are they the same as the two model predictions? \n</div>"
    },
    {
      "cell_type": "markdown",
      "id": "32d498f6",
      "metadata": {},
      "source": "<div class=\"guided-notes\">\n    <h3>5.3 Label $b_0$ and $b_1$ in the graph </h3>\nSee if you can figure out what each parameter estimate represents.</div>"
    },
    {
      "cell_type": "code",
      "execution_count": null,
      "id": "fa02ef12",
      "metadata": {
        "trusted": true
      },
      "outputs": [],
      "source": "# just run this code and look at the graph\nb0 <- b0(condition_model)\nb1 <- b1(condition_model)\n\ngf_jitter(guess ~ condition, data = anchor_data, width = .1) %>%\n  gf_model(condition_model, color = \"black\") +\n  # drawing a line segment\n  annotate(\"segment\", x = 1.5, y = b0, xend = 1.5, yend = (b0+b1), color = \"black\",\n    arrow = arrow(ends = \"both\", angle = 90, length = unit(.2,\"cm\")))  + \n  # putting guidelines onto plot\n  scale_y_continuous(breaks=seq(0,10000,1000)) "
    },
    {
      "cell_type": "markdown",
      "id": "3d72d2d4",
      "metadata": {},
      "source": "<div class=\"guided-notes\">\n<h3>5.4 Write a set of instructions (just in words) for how  to use the parameter estimates ($b_0$ and $b_1$) to generate the  predictions of the condition model</h3>\nRemember, your instructions must generate different predictions for someone in the ascending condition and someone in the descending condition.\n</div>"
    },
    {
      "cell_type": "markdown",
      "id": "d2927673",
      "metadata": {
        "nbsimplegrader": {
          "config_key": "markdown.response",
          "editable": true,
          "label": "Response: Markdown",
          "respondable": true,
          "response": null,
          "runnable": true,
          "type": "markdown"
        }
      },
      "source": "$b_0$... $b_1$...\n\n"
    },
    {
      "cell_type": "markdown",
      "id": "58aaaa5e",
      "metadata": {},
      "source": "## 6. Writing the Group Model with GLM Notation\nWe've learned how to write the empty model in GLM notation: \n$$Y_i=b_0+e_i$$\n\nFollowing the **DATA = MODEL + ERROR** idea, the model part is $b_0$, which is the prediction we give for every observation in the empty model. If we just want to represent the function that generates the  prediction, we can use this notation:\n\n$$\\text{MODEL prediction}=b_0$$\n\nHow do we write a model that generates a different prediction depending on condition? To do this we need a variable, which we will call $X_i$. Here's the GLM notation for the group model:\n\n$$\\text{MODEL prediction}=b_0+b_1X_i$$"
    },
    {
      "cell_type": "markdown",
      "id": "0c470376",
      "metadata": {},
      "source": "<div class=\"guided-notes\">\n    <h3>6.1 Write two versions of the condition model in GLM notation, one filling in the actual parameter estimates</div>"
    },
    {
      "cell_type": "markdown",
      "id": "c324c7ee",
      "metadata": {
        "nbsimplegrader": {
          "config_key": "markdown.response",
          "editable": true,
          "label": "Response: Markdown",
          "respondable": true,
          "response": null,
          "runnable": true,
          "type": "markdown"
        }
      },
      "source": ""
    },
    {
      "cell_type": "markdown",
      "id": "3c99acc9",
      "metadata": {},
      "source": "<div class=\"guided-notes\">\n    <h3>6.2: What would this model predict using the parameter estimates ($b_0$ and $b_1$) if $X_i=0$? What about if $X_i=1$? </div>"
    },
    {
      "cell_type": "markdown",
      "id": "665380d6",
      "metadata": {
        "cell_id": "00006-7bb97ccc-3bc3-49f5-952d-d54537f80b1e",
        "deepnote_cell_type": "markdown"
      },
      "source": "<div class=\"discussion-question\">\n<b>Key Discussion Questions:</b> The $b_0$ and $b_1$ are parameter estimates; the $X_i$ represents the explanatory variable. (You can tell it is a variable because it has a sub-i.) What does it mean about a person if their value for $X_i=0$? What about if $X_i=1$\n</div>"
    },
    {
      "cell_type": "code",
      "execution_count": null,
      "id": "7c57d5a4",
      "metadata": {
        "trusted": true
      },
      "outputs": [],
      "source": "# run this cell\ncondition_model"
    },
    {
      "cell_type": "markdown",
      "id": "8fb1150d",
      "metadata": {
        "cell_id": "00006-7bb97ccc-3bc3-49f5-952d-d54537f80b1e",
        "deepnote_cell_type": "markdown"
      },
      "source": "<div class=\"discussion-question\">\n<b>Key Discussion Questions:</b> \n    \nLook again at the parameter estimates for the condition model. \n- Where do you see $b_0$? $b_1$? Where do you see $X_i$? \n- Why do you think one of the parameter estimates is labeled <b>conditiondescending</b>?\n</div>"
    },
    {
      "cell_type": "markdown",
      "id": "8971dfd9",
      "metadata": {},
      "source": "<div class=\"guided-notes\">\n    <h3>6.3: Put it all together! Label the plot on the guided notes. </div>"
    },
    {
      "cell_type": "code",
      "execution_count": null,
      "id": "61bd34f6",
      "metadata": {
        "trusted": true
      },
      "outputs": [],
      "source": "# just run this code and look at the graph\nb0 <- b0(condition_model)\nb1 <- b1(condition_model)\n\ngf_jitter(guess ~ condition, data = anchor_data, width = .1) %>%\n  gf_model(condition_model, color = \"black\") +\n  # drawing a line segment\n  annotate(\"segment\", x = 1.5, y = b0, xend = 1.5, yend = (b0+b1), color = \"black\",\n    arrow = arrow(ends = \"both\", angle = 90, length = unit(.2,\"cm\")))  + \n  # putting guidelines onto plot\n  scale_y_continuous(breaks=seq(0,10000,1000)) "
    },
    {
      "cell_type": "markdown",
      "id": "b9790604",
      "metadata": {},
      "source": "<div class=\"guided-notes\">\n    <h3>6.4: Draw the empty model on the same graph. </h3>\n</div>"
    },
    {
      "cell_type": "markdown",
      "id": "3cf50c71",
      "metadata": {
        "cell_id": "00006-7bb97ccc-3bc3-49f5-952d-d54537f80b1e",
        "deepnote_cell_type": "markdown"
      },
      "source": "<div class=\"discussion-question\">\n<b>Key Discussion Questions:</b> In what sense are the empty model and the condition model both models? Connect to <b>DATA = MODEL + ERROR</b>.\n</div>"
    }
  ],
  "metadata": {
    "kernelspec": {
      "display_name": "R",
      "language": "R",
      "name": "ir"
    },
    "language_info": {
      "codemirror_mode": "r",
      "file_extension": ".r",
      "mimetype": "text/x-r-source",
      "name": "R",
      "pygments_lexer": "r",
      "version": "4.3.3"
    },
    "nbsimplegrader": {
      "publish_config": {
        "classes": [],
        "options": {},
        "tools": []
      }
    }
  },
  "nbformat": 4,
  "nbformat_minor": 5
}