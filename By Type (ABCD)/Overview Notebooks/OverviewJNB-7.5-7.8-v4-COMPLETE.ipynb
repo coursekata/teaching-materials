{
 "cells": [
  {
   "cell_type": "markdown",
   "id": "b8faa990",
   "metadata": {},
   "source": [
    "# Measuring Error From the Two-Group Model (COMPLETE)\n",
    "## Chapter 7.5-7.8 Overview Notebook"
   ]
  },
  {
   "cell_type": "code",
   "execution_count": null,
   "id": "2dd4abae",
   "metadata": {
    "vscode": {
     "languageId": "r"
    }
   },
   "outputs": [],
   "source": [
    "# run this to set up the notebook\n",
    "suppressMessages(library(coursekata))\n",
    "suppressMessages(library(gridExtra))\n",
    "\n",
    "# format notebook\n",
    "css <- suppressWarnings(readLines(\"https://raw.githubusercontent.com/jimstigler/jupyter/master/ck_jupyter_styles.css\"))\n",
    "IRdisplay::display_html(sprintf('<style>%s</style>', paste(css, collapse = \"\\n\")))\n",
    "\n",
    "# temporarily add gf_resid and gf_squaresid\n",
    "source(\"https://raw.githubusercontent.com/UCLATALL/stopwatch/refs/heads/main/gf_resid.R\")\n",
    "source(\"https://raw.githubusercontent.com/UCLATALL/stopwatch/refs/heads/main/gf_square_resid.R\")\n",
    "\n",
    "# get the data\n",
    "anchor_data <- read.csv(\"https://docs.google.com/spreadsheets/d/e/2PACX-1vR8CPolRTYxJ6eCszgpgcGvuQ6tyFNoraBbFrFXEbKFgZgouLAlrgEC6wyRqWwSZPTmS2Xpd09P6G9y/pub?gid=1344310652&single=true&output=csv\")\n",
    "\n",
    "# create models\n",
    "empty_model <- lm(guess ~ NULL, data = anchor_data)\n",
    "condition_model <- lm(guess ~ condition, data = anchor_data)"
   ]
  },
  {
   "cell_type": "markdown",
   "id": "99517360",
   "metadata": {},
   "source": [
    "<div class=\"teacher-note\">\n",
    "    <b>Teacher Note:</b> In this section, students will refine their concept of what it means to “explain” variation. Whereas previously they could see in a graph that knowing an observation’s value on the explanatory variable could help them make a better guess as to its value on the outcome, now they can quantify how much better the guess would be.\n",
    "\n",
    "- Students will understand error around model predictions is an indicator of how well a model fits the data, and they will expand their concept of error from the empty model to the two-group model, understanding that for both models:\n",
    "    - Error can be understood as based on residuals from model predictions (resid = data - model prediction); \n",
    "    - Residuals can be visualized as the distance between the model prediction and the data point;\n",
    "    - Residuals can be calculated for each observation using resid() function\n",
    "    - Residuals perfectly balance each other out (resid are neg and pos; sum to 0); \n",
    "    - Residuals can be squared and summed up (now called SSE; SST only if from the empty model) to get an aggregate measure of error\n",
    "- Students will understand that by comparing error from the two-group model to error from the empty model, they can calculate the value of the two-group model over the empty model in terms of improved model predictions: \n",
    "    - The two-group model generally reduces error compared to the empty model; that is SSE usually &lt; SST, except in the special case where the two group means are exactly the same.\n",
    "    - Reduction in error depends on difference between the two models' predictions – if the model predictions are similar or the same (e.g., grand mean is same as the means of the groups; if the means of two groups are similar), then no reduction in error; if model predictions are really different (e.g., the means of two groups are very different), then a greater reduction in error\n",
    "\n",
    "A <a href=\"https://docs.google.com/document/d/1AqRiIsPZjJOoprTXwlBcxZ-3m9cD3p-zLnpefp_yAc4/edit?tab=t.5y2a0ykmi2fk#heading=h.wjaasjj3pg90\" target=\"_blank\">printable student guided-notes worksheet</a> is available to go with this Jupyter notebook, as well as a student version of this notebook.\n",
    "</div>"
   ]
  },
  {
   "cell_type": "markdown",
   "id": "9dac8e33",
   "metadata": {},
   "source": [
    "## 1 Review: The `anchor_data` dataset\n",
    "\n",
    "In this notebook we will go back to our `anchor_data` dataset from the previous notebook. Remember, this dataset contained results from an experiment in which students were shown a card like this one and told not to turn it over until they were instructed to do so.\n",
    "\n",
    "<br><div style=\"margin: 0 auto; font-family: Arial, sans-serif; border: 2px solid black; width: 380px; height: 220px; background-color: #F2F2F2; padding: 10px; box-sizing: border-box; font-size: 12pt; line-height: 1.4; font-weight: bold; text-align: left;\">\n",
    "  On the other side of this card is a math problem. When you are told to do so, turn over the card and look at it for 5 seconds. Then turn the card back over and write your estimate of the answer in the space below.<br><br><br>&nbsp;&nbsp;&nbsp;&nbsp;&nbsp;&nbsp;&nbsp;&nbsp;&nbsp;&nbsp;&nbsp;&nbsp;___________________________\n",
    "</div>\n",
    "\n",
    "Once they turned it over they were asked to look at it for 5 seconds, then turn the card back over and estimate the product of the 8 numbers. All students got the same 8 numbers (so the correct answer was the same). But half the students got the numbers in ascending order (on the left), the other half in descending order (on the right).\n",
    "\n",
    "<table border=\"1\" style=\"font-size: 24px; margin-left: 0; border-collapse: collapse; table-layout: fixed; width: 100%;\">\n",
    "  <tbody>\n",
    "    <tr>\n",
    "      <td style=\"border: 1px solid black; text-align: center; padding: 60px;\">\n",
    "        1 × 2 × 3 × 4 × 5 × 6 × 7 × 8\n",
    "      </td>\n",
    "      <td style=\"border: 1px solid black; text-align: center; padding: 60px;\">\n",
    "        8 × 7 × 6 × 5 × 4 × 3 × 2 × 1\n",
    "      </td>\n",
    "    </tr>\n",
    "  </tbody>\n",
    "</table>\n",
    "\n",
    "Students' guesses were stored in a dataset called `anchor_data`. Each row represents one student. The columns include which `condition` they were in and what their `guess` was."
   ]
  },
  {
   "cell_type": "markdown",
   "id": "5438ee9c",
   "metadata": {},
   "source": [
    "## 2 Measuring Error From a Two-Group Model\n",
    "\n",
    "In the previous notebook we created two models of `guess`:\n",
    "\n",
    "- the `empty_model`, which makes the same prediction (the grand mean) for everyone, and  \n",
    "- the `condition_model` (a two-group model), which makes different predictions for ascending vs. descending groups (using the mean for each group as the model prediction).\n",
    "\n",
    "We previously learned how to measure error from the empty model. In this notebook we will learn how to measure error from the two-group model.\n",
    "\n",
    "### 2.1 To start, let's fit and save two models of `guess`\n",
    "\n",
    "Use the code cell below to review what's in the `anchor_data` dataset. Then fit and save two models of `guess`: `empty_model` (using the mean as the model), and `condition_model` (using the mean of each condition as the model)."
   ]
  },
  {
   "cell_type": "code",
   "execution_count": null,
   "id": "af58a775",
   "metadata": {
    "vscode": {
     "languageId": "r"
    }
   },
   "outputs": [],
   "source": [
    "# view contents of dataset\n",
    "str(anchor_data)\n",
    "\n",
    "# create and save models\n",
    "\n",
    "\n",
    "# print the models\n",
    "\n",
    "\n",
    "#COMPLETE\n",
    "\n",
    "# view contents of dataset\n",
    "str(anchor_data)\n",
    "\n",
    "# create and save models\n",
    "empty_model <- lm(guess ~ NULL, data = anchor_data)\n",
    "condition_model <- lm(guess ~ condition, data = anchor_data)\n",
    "\n",
    "# print the models\n",
    "empty_model\n",
    "condition_model"
   ]
  },
  {
   "cell_type": "markdown",
   "id": "d971e520",
   "metadata": {},
   "source": [
    "### 2.2 Run the code below to show the effect of `condition` on `guess`. Write code to overlay both of the models we just created on the same graph."
   ]
  },
  {
   "cell_type": "code",
   "execution_count": null,
   "id": "53166dc4",
   "metadata": {
    "vscode": {
     "languageId": "r"
    }
   },
   "outputs": [],
   "source": [
    "# code here\n",
    "gf_jitter(guess ~ condition, data = anchor_data, width = .2) \n",
    "\n",
    "# COMPLETE\n",
    "# code here\n",
    "gf_jitter(guess ~ condition, data = anchor_data, width = .2) %>%\n",
    "gf_model(empty_model) %>%\n",
    "gf_model(condition_model)"
   ]
  },
  {
   "cell_type": "markdown",
   "id": "90600dc8",
   "metadata": {},
   "source": [
    "<div class=\"discussion-question\">\n",
    "\n",
    "### 2.3 Discussion Questions:\n",
    "- Where in the graph is the empty model?\n",
    "- Where is the group model?\n",
    "- How is it possible to have two different models of the same data?\n",
    "    \n",
    "</div>"
   ]
  },
  {
   "cell_type": "markdown",
   "id": "af0130d8",
   "metadata": {},
   "source": [
    "<div class=\"teacher-note\">\n",
    "    \n",
    "**Sample Responses:**\n",
    "- The empty model is the horizontal line at around 2000 (more precisely 1946, the mean)\n",
    "- The group model is the set of black horizontal lines at around 800 and 3000 (more precisely 786.1 and 3043, the group means)\n",
    "- We specified and fit two different models -- the empty model and the group model. The same data can be used to create two different models (in this case one more complex than the other).\n",
    "\n",
    "</div>\n"
   ]
  },
  {
   "cell_type": "markdown",
   "id": "69134a73",
   "metadata": {},
   "source": [
    "### 2.4 The graphs below show the same data with the empty model on the left, the condition model on the right. We have highlighted the same few data points in each graph."
   ]
  },
  {
   "cell_type": "markdown",
   "id": "a4dd6410",
   "metadata": {},
   "source": [
    "<img src=\"https://coursekata-course-assets.s3.us-west-1.amazonaws.com/UCLATALL/czi-stats-course/7.5-7.7-overview-empty-cond-models.jpg\">"
   ]
  },
  {
   "cell_type": "markdown",
   "id": "03a6f722",
   "metadata": {},
   "source": [
    "<div class=\"guided-notes\">\n",
    "\n",
    "### 2.5 Draw in the residuals from the empty model on the left. Then try drawing in residuals from the condition model.  \n",
    "\n",
    "Our measure of error from any model starts with residuals. Just draw the residuals for the black points and imagine the rest.\n",
    "    \n",
    "</div>\n"
   ]
  },
  {
   "cell_type": "markdown",
   "id": "c4d05a79",
   "metadata": {},
   "source": [
    "<div class=\"guided-notes\">\n",
    "\n",
    "### 2.6 We have drawn in some residuals by hand. We can also overlay residuals on a jitter plot using the R function `gf_resid()`. Write R code to add the model and residuals to the plot.\n",
    "    \n",
    "</div>"
   ]
  },
  {
   "cell_type": "code",
   "execution_count": null,
   "id": "1aa71d1c",
   "metadata": {
    "scrolled": false,
    "vscode": {
     "languageId": "r"
    }
   },
   "outputs": [],
   "source": [
    "# modify this\n",
    "#gf_jitter(guess ~ condition, data = anchor_data) %>%\n",
    "#  gf_model(_) %>% \n",
    "#  gf_resid(_) \n",
    "\n",
    "# COMPLETE\n",
    "gf_jitter(guess ~ condition, data = anchor_data) %>%\n",
    "  gf_model(empty_model) %>% \n",
    "  gf_resid(empty_model) \n",
    "\n",
    "gf_jitter(guess ~ condition, data = anchor_data) %>%\n",
    "  gf_model(condition_model, color = \"firebrick\", width=1) %>% \n",
    "  gf_resid(condition_model, color = \"firebrick\") \n"
   ]
  },
  {
   "cell_type": "markdown",
   "id": "189a192b",
   "metadata": {},
   "source": [
    "<div class=\"discussion-question\">\n",
    "\n",
    "### 2.7 Discussion Question: A residual from the empty model is defined as the difference between the data point and the mean. How do you think we would define the residual from the condition model?\n",
    "\n",
    "</div>"
   ]
  },
  {
   "cell_type": "markdown",
   "id": "100fed68",
   "metadata": {},
   "source": [
    "<div class=\"teacher-note\">\n",
    "\n",
    "**Teacher Note:** Residuals for any model are calculated as the data point minus the model prediction for that data point. We want to make sure students understand that it is not just calculated from the mean (which it is for the empty model) but that it is calculated from whatever the model prediction is.\n",
    "\n",
    "</div>\n"
   ]
  },
  {
   "cell_type": "markdown",
   "id": "a6171e7d",
   "metadata": {},
   "source": [
    "<div class=\"guided-notes\">\n",
    "\n",
    "### 2.8 Write a definition of *residual* that would work for any model.\n",
    "    \n",
    "</div>"
   ]
  },
  {
   "cell_type": "markdown",
   "id": "be97cb8c",
   "metadata": {},
   "source": [
    "## 3 Representing Residuals in GLM Notation\n",
    "\n",
    "We have learned how to represent both the empty and two-group models in GLM notation. Let's pause to zero in on error and residuals in particular. How do we represent residuals in the notation of the GLM?\n",
    "\n",
    "For all models, **DATA = MODEL + ERROR**. This being the case, we also can say that **ERROR = DATA - MODEL**. The residual for any data point can be calculated as the value of the DATA minus the MODEL prediction for that data point. \n"
   ]
  },
  {
   "cell_type": "markdown",
   "id": "090a42b7",
   "metadata": {},
   "source": [
    "<div class=\"guided-notes\">\n",
    "\n",
    "### 3.1 We have filled in the table below for the empty model. Fill in the corresponding information for the two-group model.  \n",
    "\n",
    "</div>\n"
   ]
  },
  {
   "cell_type": "markdown",
   "id": "12bdf202",
   "metadata": {},
   "source": [
    "<table border=\"1\" style=\"font-size: 18px; margin-left: 0; border-collapse: collapse; width: 100%;\">\n",
    "  <thead>\n",
    "    <tr>\n",
    "      <td style=\"border: 1px solid black; font-weight: bold; text-align: center; width:28%\"></td>\n",
    "      <td style=\"border: 1px solid black; font-weight: bold; text-align: center; width:36%\">Empty Model</td>\n",
    "      <td style=\"border: 1px solid black; font-weight: bold; text-align: center; width:36%\">Two-Group Model</td>\n",
    "    </tr>\n",
    "  </thead>\n",
    "  <tbody>\n",
    "    <tr>\n",
    "        <td style=\"border: 1px solid black; text-align: left; width: 50%; vertical-align: top;\"><b>Residual definition</b></td>\n",
    "      <td style=\"border: 1px solid black; text-align: left; vertical-align: top;\">The difference between a data point and the mean (the empty model's prediction)</td>\n",
    "      <td style=\"border: 1px solid black; text-align: left; vertical-align: top;\">The difference between a data point and any model's prediction</td>\n",
    "    </tr>\n",
    "    <tr>\n",
    "      <td style=\"border: 1px solid black; text-align: left; width: 50%; vertical-align: top;\"><b>Model specification</b></td>\n",
    "      <td style=\"border: 1px solid black; text-align: left; vertical-align: top;\">$$\\underbrace{Y_i}_{\\text{DATA}} \\;=\\; \\underbrace{b_0}_{\\text{MODEL}} \\;+\\; \\underbrace{e_i}_{\\text{ERROR}}$$</td>\n",
    "      <td style=\"border: 1px solid black; text-align: left; vertical-align: top;\">$$\\underbrace{Y_i}_{\\text{DATA}} \\;=\\; \\underbrace{(b_0 + b_1X_i)}_{\\text{MODEL}} \\;+\\; \\underbrace{e_i}_{\\text{ERROR}}$$</td>\n",
    "    </tr>\n",
    "    <tr>\n",
    "        <td style=\"border: 1px solid black; text-align: left; width: 50%; vertical-align: top;\"><b>Residual in GLM notation</b></td>\n",
    "      <td style=\"border: 1px solid black; text-align: left; vertical-align: top;\">$$e_i = Y_i - b_0$$</td>\n",
    "      <td style=\"border: 1px solid black; text-align: left; vertical-align: top;\"></td>\n",
    "    </tr>\n",
    "    <tr>\n",
    "       <td style=\"border: 1px solid black; text-align: left; width: 50%; vertical-align: top;\"><b>Model prediction in GLM notation</b></td>\n",
    "      <td style=\"border: 1px solid black; text-align: left; vertical-align: top;\">$$\\hat{Y}_i = b_0$$</td>\n",
    "      <td style=\"border: 1px solid black; text-align: left; vertical-align: top;\"></td>\n",
    "    </tr>\n",
    "    <tr>\n",
    "       <td style=\"border: 1px solid black; text-align: left; width: 50%; vertical-align: top;\"><b>Residual in GLM notation (substituting model prediction for model)</b></td>\n",
    "      <td style=\"border: 1px solid black; text-align: left; vertical-align: top;\">$$e_i = Y_i - \\hat{Y}_i$$</td>\n",
    "      <td style=\"border: 1px solid black; text-align: left; vertical-align: top;\"></td>\n",
    "    </tr>\n",
    "    </tr>\n",
    "  </tbody>  \n",
    "</table>"
   ]
  },
  {
   "cell_type": "markdown",
   "id": "1fcaf4fb",
   "metadata": {},
   "source": [
    "## 4 Using Total Error to Compare Two Models\n",
    "\n",
    "We have calculated total error from the empty model using SST (Sum of Squares Total). How do we calculate total error from the condition model (a two-group model)? And how do we use these calculations to compare the two models?"
   ]
  },
  {
   "cell_type": "markdown",
   "id": "21a31123",
   "metadata": {},
   "source": [
    "<img src=\"https://coursekata-course-assets.s3.us-west-1.amazonaws.com/UCLATALL/czi-stats-course/7.5-7.7-residuals-from-two-models.png\">"
   ]
  },
  {
   "cell_type": "markdown",
   "id": "93b6c4c5",
   "metadata": {},
   "source": [
    "<div class=\"discussion-question\">\n",
    "\n",
    "### 4.1 Discussion Questions: \n",
    "- Just by looking at the residuals in the jitter plot, which model seems to have less error overall? Explain your answer.\n",
    "- Do you see positive and negative residuals in both plots? Why do you think that happens?\n",
    "- If we add up all the residuals from the empty model, and then add up all the residuals from the group model, which do you think will be smaller?  Why?\n",
    "</div>"
   ]
  },
  {
   "cell_type": "markdown",
   "id": "2cc6d010",
   "metadata": {},
   "source": [
    "<div class=\"teacher-note\">\n",
    "    \n",
    "**Sample Responses:**\n",
    "- The empty model has longer residual lines overall compared to the group model, which means more error.\n",
    "    - In the ascending group, many points fall below the empty model line, and those residuals are longer than the ones around the group model.\n",
    "    - In the descending group, many points fall above the empty model line, and those lines are also longer than the residuals around the group model.\n",
    "    - In the group model, the points in each group are balanced above and below each group's prediction so there are shorter and more balanced residuals.\n",
    "- Yes, there are positive and negative residuals in both plots. Both the empty model and the group model predict the mean (either the grand mean or the group means), so residuals are naturally balanced around those means.\n",
    "- Because the residuals come from the mean (either the grand mean or group means), the sum of residuals is approximately zero for both models.\n",
    "\n",
    "</div>\n"
   ]
  },
  {
   "cell_type": "markdown",
   "id": "29fc31ba",
   "metadata": {},
   "source": [
    "### 4.2 Do residuals from the two-group model also add up to 0 (i.e., are they perfectly balanced)?\n",
    "\n",
    "We learned that the residuals from the empty model always add up to 0. But is that also true for other models, such as the condition model? "
   ]
  },
  {
   "cell_type": "markdown",
   "id": "d92122bc",
   "metadata": {},
   "source": [
    "<div class=\"guided-notes\">\n",
    "    \n",
    "### 4.3 Write R code to sum the residuals from the empty model and from the condition model.\n",
    "\n",
    "</div>"
   ]
  },
  {
   "cell_type": "markdown",
   "id": "5408c951",
   "metadata": {},
   "source": [
    "<table border=\"1\" style=\"font-size: 18px; margin-left: 0; border-collapse: collapse; width: 100%;\">\n",
    "  <thead>\n",
    "    <tr>\n",
    "      <td style=\"border: 1px solid black; font-weight: bold; text-align: center; width: 16%\"></td>\n",
    "      <td style=\"border: 1px solid black; font-weight: bold; text-align: center; width: 42%\">Empty Model</td>\n",
    "      <td style=\"border: 1px solid black; font-weight: bold; text-align: center; width: 42%\">Group Model</td>\n",
    "    </tr>\n",
    "  </thead>\n",
    "  <tbody>\n",
    "    <tr style=\"height: 80px;\">\n",
    "      <td style=\"border: 1px solid black; font-weight: bold; text-align: left\">R code to sum residuals</td>\n",
    "      <td style=\"border: 1px solid black; text-align: left; width: 50%; vertical-align: top;\"><br><br><code>________ ( resid(empty_model) )</code></td>\n",
    "      <td style=\"border: 1px solid black; text-align: left; vertical-align: top;\"><br> </td>\n",
    "    </tr>\n",
    "    <tr style=\"height: 80px;\">\n",
    "      <td style=\"border: 1px solid black; font-weight: bold; text-align: left\">Sum of residuals</td>\n",
    "      <td style=\"border: 1px solid black; font-weight: bold; text-align: center\"></td>\n",
    "      <td style=\"border: 1px solid black; font-weight: bold; text-align: center;\"></td>\n",
    "    </tr>\n",
    "  </tbody>  \n",
    "</table>"
   ]
  },
  {
   "cell_type": "code",
   "execution_count": null,
   "id": "a741ceb2",
   "metadata": {
    "vscode": {
     "languageId": "r"
    }
   },
   "outputs": [],
   "source": [
    "# modify this code\n",
    "# resid(empty_model)\n",
    "\n",
    "#COMPLETE\n",
    "sum(resid(empty_model))\n",
    "sum(resid(condition_model))"
   ]
  },
  {
   "cell_type": "markdown",
   "id": "ebc3b35d",
   "metadata": {},
   "source": [
    "<div class=\"teacher-note\">\n",
    "\n",
    "**Teacher Note:** Residuals around any mean (grand mean or group mean) always balance out. Their sum is exactly 0. That's why both the empty model and the group model have residuals that \"cancel out.\" As we will see later, the same is true for regression models. \n",
    "    \n",
    "As with the empty model, we'll need a different strategy to get total error: squaring and summing the residuals.  \n",
    "\n",
    "</div>"
   ]
  },
  {
   "cell_type": "markdown",
   "id": "b0f9aa47",
   "metadata": {},
   "source": [
    "### 4.4 Using squared residuals to compare two models\n",
    "\n",
    "So far we’ve seen that residuals always balance around a mean whether it’s the grand mean (empty model) or each group mean (condition model).  \n",
    "\n",
    "That means if we just add up the residuals, both models look the same: the sum is always 0.  \n",
    "\n",
    "To compare which model generates better predictions of the data, we need a better measure of **total error** which brings us to the concept of **sum of squares** (SS): square each residual, then add them up.\n",
    "\n",
    "We have already done this for the empty model; the sum of squared residuals from the empty model is called **SST**, or Sum of Squares Total. When we calculate sum of squares for the condition model (or any model other than the empty model) we call the result **Sum of Squares Error**, or **SSE**. "
   ]
  },
  {
   "cell_type": "markdown",
   "id": "6e7c99fd",
   "metadata": {},
   "source": [
    "<div class=\"guided-notes\">\n",
    "\n",
    "### 4.5 Draw in the squared residuals for the empty model and the group model.\n",
    "    \n",
    "Just draw the squared residuals for the black points and imagine the rest.\n",
    "    \n",
    "</div>\n"
   ]
  },
  {
   "cell_type": "markdown",
   "id": "89890d99",
   "metadata": {},
   "source": [
    "<img src=\"https://coursekata-course-assets.s3.us-west-1.amazonaws.com/UCLATALL/czi-stats-course/7.5-7.7-overview-empty-cond-models.jpg\">"
   ]
  },
  {
   "cell_type": "markdown",
   "id": "8db0d0a7",
   "metadata": {},
   "source": [
    "<div class=\"guided-notes\">\n",
    "\n",
    "### 4.6 Write the R code to calculate the SS from the empty model and the group model\n",
    "    \n",
    "- The sum of squares from the empty model is called **SST** (Sum of Squares Total)\n",
    "- The sum of squares from the group model is called **SSE** (Sum of Squares Error)  \n",
    "    \n",
    "</div>\n"
   ]
  },
  {
   "cell_type": "code",
   "execution_count": null,
   "id": "f56c4af1",
   "metadata": {
    "vscode": {
     "languageId": "r"
    }
   },
   "outputs": [],
   "source": [
    "# modify this\n",
    "#resid(empty_model)\n",
    "\n",
    "# COMPLETE\n",
    "sum(resid(empty_model)^2)\n",
    "sum(resid(condition_model)^2)\n"
   ]
  },
  {
   "cell_type": "markdown",
   "id": "f799032c",
   "metadata": {},
   "source": [
    "### 4.7 Make a prediction: Which SS will print out when we run `supernova(condition_model)`?\n",
    "\n",
    "Then run the code below."
   ]
  },
  {
   "cell_type": "code",
   "execution_count": null,
   "id": "1c070b4b",
   "metadata": {
    "vscode": {
     "languageId": "r"
    }
   },
   "outputs": [],
   "source": [
    "# run this\n",
    "supernova(condition_model)"
   ]
  },
  {
   "cell_type": "markdown",
   "id": "bfeef0c2",
   "metadata": {},
   "source": [
    "<div class=\"discussion-question\">\n",
    "\n",
    "### 4.8 Discussion Questions: \n",
    "    \n",
    "- Which SS is smaller?\n",
    "- What does that mean for our two models?\n",
    "- What does the SS in the **Model (error reduced)** row mean? How was it calculated? (We will go into this more in the next notebook.)\n",
    "\n",
    "</div>"
   ]
  },
  {
   "cell_type": "markdown",
   "id": "ba1a3f2c",
   "metadata": {},
   "source": [
    "<div class=\"teacher-note\">\n",
    "\n",
    "**Sample Responses:**  \n",
    "- SSE is smaller than SST. \n",
    "- SS from the condition model is smaller than SS from the empty model.\n",
    "- This means the condition model has less squared error; less error means predictions that were closer to the data.\n",
    "    \n",
    "**Teacher Note:**  \n",
    "- We want students to understand that these phrases go together: Smaller sum of squares --> less error --> better fit to the data.\n",
    "- Because some of the total error is \"reduced\" in the group model compared to the empty model, we say it has \"explained\" some of the variation in the data.\n",
    "\n",
    "</div>\n"
   ]
  },
  {
   "cell_type": "markdown",
   "id": "a1ba61e5",
   "metadata": {},
   "source": [
    "<div class=\"discussion-question\">\n",
    "\n",
    "### 4.9 Discussion: For both models, the formula for **sum of squares** is: $SS = \\sum (Y_i - \\hat{Y}_i)^2$\n",
    "    \n",
    "- What is the $\\hat{Y}_i$ in the empty model?\n",
    "- What is the $\\hat{Y}_i$ in the group model?    \n",
    "\n",
    "</div>\n"
   ]
  },
  {
   "cell_type": "markdown",
   "id": "e60ab7b5",
   "metadata": {},
   "source": [
    "<div class=\"teacher-note\">\n",
    "\n",
    "**Sample Responses:**  \n",
    "- The $\\hat{Y}_i$ in the empty model is the prediction (the grand mean) for `guess` regardless of condition.\n",
    "- The $\\hat{Y}_i$ in the group model is the prediction for each group (the mean for ascending, and the mean for descending).\n",
    "\n",
    "\n",
    "</div>\n"
   ]
  },
  {
   "cell_type": "markdown",
   "id": "53e732ba",
   "metadata": {},
   "source": [
    "<div class=\"discussion-question\">\n",
    "\n",
    "### 4.10 Discussion: What makes it hard to use sum of squares (SSE and SST) to compare the two models?\n",
    "\n",
    "</div>"
   ]
  },
  {
   "cell_type": "markdown",
   "id": "05aed2b9",
   "metadata": {},
   "source": [
    "<div class=\"teacher-note\">\n",
    "\n",
    "**Sample Responses:** \n",
    "- SS numbers were huge (in the hundreds of millions)\n",
    "- The units were strange (seconds squared).  \n",
    "\n",
    "**Teacher Note:**  \n",
    "- Use this to tell students we will be learning about a new statistic next time that helps us solve this problem... called PRE! \n",
    "- Also note that in the previous chapter we pointed out that SS is affected by sample size, which makes it hard to compare model fit across samples of different sizes. But in the current example, we are fitting two different models (empty and condition) to the same exact dataset, which makes the comparison of SS still useful.\n",
    "\n",
    "</div>\n"
   ]
  },
  {
   "cell_type": "markdown",
   "id": "9f748864",
   "metadata": {},
   "source": [
    "### 4.11 Visualizing SS Total vs. SS Error\n",
    "\n",
    "<img src=\"https://coursekata-course-assets.s3.us-west-1.amazonaws.com/UCLATALL/czi-stats-course/7.5-7.7-overview-venn2.jpg\" width = 400 align=\"right\">Let’s bring it all together with a visual.\n",
    "\n",
    "Think of **SS Total** as representing all the variation in our outcome variable: a full circle (the shaded circle in the figure).\n",
    "\n",
    "When we add an explanatory variable to our model, that variable might help explain some of the variation. So now, the variation is split:\n",
    "\n",
    "- Some variation is *explained by the model* (or you could say *reduced by the model*)\n",
    "- Some variation is *left over as error* (**SS Error**)\n"
   ]
  },
  {
   "cell_type": "markdown",
   "id": "f43441df",
   "metadata": {},
   "source": [
    "<div class=\"guided-notes\">\n",
    "\n",
    "### 4.12 Where in the diagram do you see SST? Where do you see SSE?\n",
    "\n",
    "</div>\n"
   ]
  },
  {
   "cell_type": "markdown",
   "id": "1c0abf19",
   "metadata": {},
   "source": [
    "## 5 Interpreting distributions of residuals\n",
    "\n",
    "When we have made histograms and jitter plots so far we have been plotting the distribution of an outcome variable. But sometimes statisticians like to plot the residuals that are left over after fitting a model. Let's take a look at what the residuals from the condition model might look like when viewed as a distribution.\n",
    "\n",
    "### 5.1 Let's first add a new variable to `anchor_data` called `condition_resid`. Then look at the data frame (e.g., using `head()`) to make sure the residuals have been saved."
   ]
  },
  {
   "cell_type": "code",
   "execution_count": null,
   "id": "26f767c8",
   "metadata": {
    "vscode": {
     "languageId": "r"
    }
   },
   "outputs": [],
   "source": [
    "# code here\n",
    "\n",
    "# COMPLETE\n",
    "anchor_data$condition_resid <- resid(condition_model)\n",
    "head(anchor_data)"
   ]
  },
  {
   "cell_type": "markdown",
   "id": "0c8479e5",
   "metadata": {},
   "source": [
    "### 5.2 Below we have two jitter plots: one of the outcome (`guess`) by `condition` (on the left), and the other of residuals from the condition model (`condition_resid`) by `condition` (on the right). "
   ]
  },
  {
   "cell_type": "markdown",
   "id": "e171731f",
   "metadata": {},
   "source": [
    "<img src=\"https://coursekata-course-assets.s3.us-west-1.amazonaws.com/UCLATALL/czi-stats-course/7.5-7.8-overview-outcomes-vs-residuals.png\">"
   ]
  },
  {
   "cell_type": "markdown",
   "id": "f597c150",
   "metadata": {},
   "source": [
    "<div class=\"discussion-question\">\n",
    "\n",
    "### 5.3 What is similar between the two graphs? What is different?\n",
    "    \n",
    "- Why are the means of both groups on the residual graph the same? (We know there is a difference in `guess` across conditions.)\n",
    "- Why are the means of both groups on the residual graph equal to 0?\n",
    "- If we fit a condition model to each of these two outcome variables, which do you think would have a higher SST? Explain your thinking.\n",
    "\n",
    "</div>\n"
   ]
  },
  {
   "cell_type": "markdown",
   "id": "f57e9047",
   "metadata": {},
   "source": [
    "<div class=\"teacher-note\">\n",
    "\n",
    "**Sample Responses:**  \n",
    "    \n",
    "- Similarities:\n",
    "    - The pattern of spread is similar in both graphs: the ascending group has less spread, and the descending group has more.\n",
    "- Differences:\n",
    "    - The group means differ in the outcome graph (ascending mean smaller than descending mean) but are the same in the residual graph (both 0).\n",
    "    - The scales are different: the outcome graph uses students’ original guesses (from 0 to 10,000), while the residuals graph includes both positive and negative values (from -2500 to 7000), because residuals show how far each data point is above or below its model prediction.\n",
    "\n",
    "- The means of the residuals are 0 because the residuals within each group sum to zero. The residuals are perfectly balanced around their group means.\n",
    "\n",
    "- When discussing the SST question:\n",
    "    - Some students may predict that the residuals will have a smaller SST because the values are numerically smaller.\n",
    "    - Others may think SST stays the same, recalling that SST depends on the outcome variable’s overall variation.\n",
    "    - Either way is fine; this question is meant to capture their predictions before they use R to calculate it in the next question.\n",
    "\n",
    "\n",
    "</div>\n"
   ]
  },
  {
   "cell_type": "markdown",
   "id": "7888a1ac",
   "metadata": {},
   "source": [
    "### 5.4 Run the code below to fit the `resid_model` and then run `supernova()` on both the `resid_model` and the `condition_model`."
   ]
  },
  {
   "cell_type": "code",
   "execution_count": null,
   "id": "7bd2b888",
   "metadata": {
    "vscode": {
     "languageId": "r"
    }
   },
   "outputs": [],
   "source": [
    "resid_model <- lm(condition_resid ~ condition, data = anchor_data)\n",
    "supernova(condition_model)\n",
    "supernova(resid_model)"
   ]
  },
  {
   "cell_type": "markdown",
   "id": "64aa721e",
   "metadata": {},
   "source": [
    "<div class=\"discussion-question\">\n",
    "\n",
    "### 5.5 Discussion Question: Do these numbers make sense?\n",
    "    \n",
    "- Why is SST for `resid_model` the same as SSE for the `condition_model`?\n",
    "\n",
    "</div>\n"
   ]
  },
  {
   "cell_type": "markdown",
   "id": "16572245",
   "metadata": {},
   "source": [
    "<div class=\"teacher-note\">\n",
    "\n",
    "**Sample Responses:**\n",
    "- The residuals represent what is left after fitting the condition model on guesses. So the SST for the residuals is the same as the SSE for the guesses.\n",
    "- Because we already explained the group differences when we made the residuals (e.g., took out SSM), the SST for the residuals is the same as the SSE for the original guesses.\n",
    "\n",
    "**Teacher Note:**\n",
    "Students should recognize that the residuals represent the leftover error (SSE) after fitting the condition model. Once a model explains part of the variation (SSM), what remains, the residuals, becomes the new total variation (SST) if we start over.\n",
    "\n",
    "Students may wonder why SSM is 0 in the condition model of the residuals. The reason is that the residuals already represent data with no group difference left (that's why the two group means are the same). So when we fit a condition model to the residuals, there’s no additional variation for condition to explain, meaning SSM = 0 and SST = 0 + SSE.\n",
    "    \n",
    "</div>"
   ]
  }
 ],
 "metadata": {
  "kernelspec": {
   "display_name": "R",
   "language": "R",
   "name": "ir"
  },
  "language_info": {
   "codemirror_mode": "r",
   "file_extension": ".r",
   "mimetype": "text/x-r-source",
   "name": "R",
   "pygments_lexer": "r",
   "version": "4.3.3"
  },
  "nbsimplegrader": {
   "publish_config": {
    "classes": [],
    "options": {},
    "tools": []
   }
  }
 },
 "nbformat": 4,
 "nbformat_minor": 5
}
