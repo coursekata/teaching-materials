{
  "cells": [
    {
      "metadata": {},
      "cell_type": "markdown",
      "source": "# Using the Distribution to Make Predictions\n\n## Chapter 6.7-6.11 Overview Notebook"
    },
    {
      "metadata": {
        "cell_id": "00001-729831c0-b16b-460a-acfa-b932eab731be",
        "deepnote_cell_type": "code",
        "scrolled": true,
        "trusted": true
      },
      "cell_type": "code",
      "source": "# run this to set up the notebook\nlibrary(coursekata)\nlibrary(gridExtra)\n\n# set styles\ncss <- suppressWarnings(readLines(\"https://raw.githubusercontent.com/jimstigler/jupyter/master/ck_jupyter_styles_v2.css\"))\nIRdisplay::display_html(sprintf('<style>%s</style>', paste(css, collapse = \"\\n\")))\n",
      "execution_count": null,
      "outputs": []
    },
    {
      "metadata": {},
      "cell_type": "markdown",
      "source": "## 1 A Quick Intro to Pokemon Cards (and HP)\n\n<img align = \"right\" src=\"https://coursekata-course-assets.s3.us-west-1.amazonaws.com/UCLATALL/czi-stats-course/6.7-6.11-overview-pikachu-card.jpg\" alt=\"example pikachu card; 60 HP\" width=\"250\" style=\"padding: 20px;\">Pokemon is a popular card game where each card represents a \"pocket monster\" (or Pokemon). There are many different Pokemon, each with different abilities and stats. You “battle” by choosing different Pokemon to go up against opponents. Knowing how powerful your opponent’s Pokemon is could give you an edge.\n\nOne of the simplest measures of a Pokemon's power is **Hit Points (HP)**, the amount of damage it can take before it faints.  \n\n- Higher HP generally means a tougher, more powerful Pokemon.  \n- For example, a basic Pikachu might have **60 HP**, as noted in the upper right corner of the card.\n\n> **Note for Pokemon experts in the room:** Even though the game is more complicated than just comparing HP, we’re going to simplify and treat HP as a “measure of power” to help everyone (even those who have never played Pokemon) get on the same page.\n\nIf you could **predict your opponent’s Pokemon’s HP**, that would give you some sense of how strong they might be in a battle. This makes HP a perfect example for thinking about distributions, probabilities, and predictions.\n"
    },
    {
      "metadata": {},
      "cell_type": "markdown",
      "source": "### 1.1 Step into the Shoes of a Game Maker\n\nAs of 2025, there are 1025 different Pokemon, and there number of Hit Points can range from 1 into the hundreds. Imagine a Pokemon game designer who has to decide how many Hit Points (HP) each Pokemon should have. Here are some of the things they must consider:\n\n- If every Pokemon had super high HP, battles wouldn’t be very interesting.  \n- If every Pokemon had really low HP, battles *also* wouldn’t be very interesting.  \n- If HP values were spread evenly across the whole range, the difference in hit points between two opponents would be large, making too many battles wildly one-sided.\n\nTo keep the game fair and fun, game makers usually design HP (and other features) to follow a **bell-shaped distribution**: Most Pokemon have HP clustered around the average, while only a few are extremely weak or extremely powerful. \n\n### 1.2 Simulating a distribution of HP\n\nLet's consider a game maker who decides that the mean HP of all Pokemon should be 75 HP with a standard deviation of 25. Run the code below to generate a bell-shaped (normal) distribution of HP for 1000 Pokemon, save them in a vector called `hp`, and then make a histogram to show the resulting distribution."
    },
    {
      "metadata": {
        "nbsimplegrader": {
          "config_key": "code.response",
          "type": "code",
          "label": "Response: Code",
          "runnable": true,
          "editable": true,
          "respondable": true,
          "response": null
        },
        "trusted": true
      },
      "cell_type": "code",
      "source": "# this is how a gamemaker might generate a large sample distribution of HP \nset.seed(82)\nhp <- rnorm(1000, 75, 25)\n\n# here's a histogram of the generated HP\ngf_histogram(~hp)",
      "execution_count": null,
      "outputs": []
    },
    {
      "metadata": {},
      "cell_type": "markdown",
      "source": "<div class=\"discussion-question\">\n    \n### 1.3 Discussion Question: How does a bell-shaped distribution make the game more fair or more fun?  \n    \n</div>"
    },
    {
      "metadata": {},
      "cell_type": "markdown",
      "source": "## 2 From Proportions to Probabilities\n\n### 2.1 Where we are going in this section\n\nThe game maker generated a sample distribution of 1000 Pokemon cards with a variety of HP and saved it in a vector called `hp`. We can use this distribution to calculate probabilities and make predictions about what future cards might be like.  \n\nWe’ll explore this idea with three questions. The questions are similar, but not identical. The first question is most concrete, with each of the next two questions a bit more abstract: \n\n1. **Proportion:** What *proportion* of cards have HP > 75?  \n2. **Probability:** Imagine that each card from `hp` is mixed up in a giant hat. What is the *probability* of drawing one with HP > 75?  \n3. **Future prediction:** Imagine getting a new Pokemon card *in the future*. What is the probability it will have HP > 75?  \n\nLet’s get started with the first, most concrete question.\n\n### 2.2 Run the cell below to get (again) the histogram of `hp` that was generated above"
    },
    {
      "metadata": {
        "nbsimplegrader": {
          "config_key": "code.response",
          "type": "code",
          "label": "Response: Code",
          "runnable": true,
          "editable": true,
          "respondable": true,
          "response": null
        },
        "scrolled": false,
        "trusted": true
      },
      "cell_type": "code",
      "source": "# make a histogram of the simpulated HP\n",
      "execution_count": null,
      "outputs": []
    },
    {
      "metadata": {},
      "cell_type": "markdown",
      "source": "<div class=\"discussion-question\">\n    \n### 2.3 Discussion Question: Just based on looking at the histogram, what would you guess is the proportion of cards with HP > 75? Explain your thinking.  \n    \n</div>"
    },
    {
      "metadata": {},
      "cell_type": "markdown",
      "source": "<div class=\"guided-notes\">\n\n### 2.4 Write R code to calculate the exact proportion of cards in the `hp` vector with HP > 75\n    \n</div>"
    },
    {
      "metadata": {
        "nbsimplegrader": {
          "config_key": "code.response",
          "type": "code",
          "label": "Response: Code",
          "runnable": true,
          "editable": true,
          "respondable": true,
          "response": null
        },
        "trusted": true
      },
      "cell_type": "code",
      "source": "# code here\n\n\n# challenge question: calculate the proportion of cards with HP > 50 and < 100\n",
      "execution_count": null,
      "outputs": []
    },
    {
      "metadata": {},
      "cell_type": "markdown",
      "source": "### 2.5 From proportions to probabilities\n\nProportions are very concrete. For example, in the game maker's sample distribution, 0.50 of the HP values are greater than the mean of 75. That’s a fact we can check by tallying them up.\n\nBut now let's move to the world of probability. Imagine writing each of the 1,000 HP values on a piece of paper and mixing them all up in a giant hat. You close your eyes and randomly draw one HP. What is the probability that the card you pick will have HP > 75?"
    },
    {
      "metadata": {},
      "cell_type": "markdown",
      "source": "<div class=\"discussion-question\">\n    \n### 2.6 Discussion Question: What is the *probability* that the single HP you pick out of the hat will be greater than the mean of 75? Explain your thinking.\n    \n</div>"
    },
    {
      "metadata": {},
      "cell_type": "markdown",
      "source": "### 2.7 From probability to prediction: When the exact probability is unknown\n\nIn the previous example, we knew the exact probability of picking a card with HP > 75 out of the hat. The proportion of cards with HP > 75 was exactly 0.50 (500 out of the 1000 cards). Each card in the hat had an equal chance of being drawn, 1/1000. Because 500 of the 1000 cards were > 75, there was a 500/1000 chance of selecting one of those cards.\n\nBut now let’s take another conceptual leap... to cards that are not part of this 1000! Let's the game maker sent us a new Pokemon card. It is not one of the 1000 we already have, but it comes from the same series. What is the probability that this new card will have an HP > 75? "
    },
    {
      "metadata": {},
      "cell_type": "markdown",
      "source": "<div class=\"discussion-question\"> \n    \n### 2.8 Discussion Questions: \n- What is the probability that this new card will have an HP greater than 75? \n- How does this question differ from the previous one? \n- Can you be just as certain of your answer? Why or why not?\n- What assumptions are you making when you use a sample distribution to make predictions?\n\n</div>"
    },
    {
      "metadata": {},
      "cell_type": "markdown",
      "source": "<div class=\"guided-notes\">\n\n### 2.9 Each row of the table represents one step in our progression of questions from proportion to probability. Fill in the missing cells in your guided notes.\n    \n</div>"
    },
    {
      "metadata": {},
      "cell_type": "markdown",
      "source": "<table border=\"1\" style=\"font-size: 18px; margin-left: 0; border-collapse: collapse; width: 100%\">\n  <thead>\n    <tr>\n      <td style=\"border: 1px solid black; font-weight: bold; text-align: left; width: 20%\">Question</td>\n      <td style=\"border: 1px solid black; font-weight: bold; text-align: left; width: 40%\">How to Calculate Answer</td>\n      <td style=\"border: 1px solid black; font-weight: bold; text-align: left; width: 40%\">Assumptions</td>\n    </tr>\n  </thead>\n  <tbody>\n    <tr>\n      <td style=\"border: 1px solid black; text-align: left;\">What proportion of our sample of 1000 HPs are greater than 75?</td>\n        <td style=\"border: 1px solid black; text-align: left;\"><code>tally(hp > 75, format = \"proportion\")</code></td>\n      <td style=\"border: 1px solid black; text-align: left;\">None. Proportion > 75 is a fixed feature of the distribution.</td>\n    </tr>\n    <tr>\n      <td style=\"border: 1px solid black; text-align: left;\">What is the probability that the single HP you pick out of the hat will be greater than 75?</td>\n      <td style=\"border: 1px solid black; text-align: left;\"></td>\n      <td style=\"border: 1px solid black; text-align: left;\">Assume each HP has an equal probability of being picked out of the hat (i.e., 1/1000)\n</td>\n    </tr>\n    <tr>\n      <td style=\"border: 1px solid black; text-align: left;\">What is the probability that a new card you get will  have an HP greater than 75?</td>\n      <td style=\"border: 1px solid black; text-align: left;\"></td>\n      <td style=\"border: 1px solid black; text-align: left;\"></td>\n    </tr>\n  </tbody>\n</table>"
    },
    {
      "metadata": {},
      "cell_type": "markdown",
      "source": "\n\n<div style=\"font-size: 18px; line-height: 1.4; border: 2px solid black; padding: 10px;\"><b>Important Note:</b> \n    \nAs soon as we start predicting the probabilities of future observations, we are making an assumption: that the shape, center, and spread of the population distribution (what we get if we run the Data Generating Process for a long time) is the same as in our sample.  \n\n<i><b>The new card is not one of the 1,000 in the sample, but another card presumed to come from the same Data Generating Process (or population). Thus, if we use our sample to calculate the probability of a future event, we are assuming our sample is representative of the population.</b></i>\n    \n</div>\n"
    },
    {
      "metadata": {},
      "cell_type": "markdown",
      "source": "## 3 Calculating Probabilities When the DGP or Population Distribution Is Not Well Understood\n<img align = \"right\" src=\"https://coursekata-course-assets.s3.us-west-1.amazonaws.com/UCLATALL/czi-stats-course/6.7-6.11-overview-pikachu-card.jpg\" alt=\"example pikachu card; 60 HP\" width=\"250\" style=\"padding: 20px;\">If a game maker *designs* a distribution of HP, they know everything about the data-generating process (DGP) (though we may not!). Similarly, when we simulated the distribution of 1000 HPs from a normal distribution, we knew the exact DGP. \n\nBut what about situations where the DGP is **not well known**? This is actually much more common.  \n\nFor Pokemon HP, the game maker has not published information about the DGP they use to generate cards. But even if they did, the real-world distribution may not be the same as the DGP that intitially was used by the game maker. Why not? Think about the following: \n\n- Billions of cards are printed each year.  \n- Some Pokemon (like Pikachu) are fan favorites, so more of them may be in circulation.  \n- Once cards are out in the world, some are lost, damaged, or destroyed.  \n\nBecause of factors like these, the actual distribution of HP among cards in the real world is hard to know!\n\n**If we don’t know the population distribution, how can we estimate the probability that my *next* card will have HP lower than Pikachu (60 HP)?** We will refer to this probability as P(HP < 60).\n"
    },
    {
      "metadata": {},
      "cell_type": "markdown",
      "source": "### 3.1 Estimating probabilities when all we have are samples... and sometimes not very large samples!\n\nWe usually don't know much about the population distribution. If we did, we would use the population distribution to calculate the probability of a future sample; that would be the most accurate estimate. But usually all we have are samples, and sometimes only small samples. Let's investigate the impact of sample size on probability estimates.\n\nWe actually have access to a very large dataset of Pokemon cards and their HPs (not billions, but pretty big). In fact, it is so large (including more than 48,000 cards) that we could assume it is representative of the whole population. But let's pretend we only have access to three samples from this larger dataset: \n\n- A tiny sample of 10 cards  \n- A small-ish sample of 30 cards  \n- A much larger sample of 360 cards  \n\nLet's see how well we do with each of these samples estimating **the probability that HP < 60**.   \n\n\n### 3.2 Run the code below to load the dataset. (It might take a little longer than usual.)  "
    },
    {
      "metadata": {
        "nbsimplegrader": {
          "config_key": "code.response",
          "type": "code",
          "label": "Response: Code",
          "runnable": true,
          "editable": true,
          "respondable": true,
          "response": null
        },
        "trusted": true
      },
      "cell_type": "code",
      "source": "# run this to get big_poke\nbig_poke <- read.csv(\"https://docs.google.com/spreadsheets/d/e/2PACX-1vRuTLjKZoPCjTTT40T8w9UZ10-wmdVXyjXXYIztLVoYm_yVXH1YPXfuIUYGrYP3c3zyjSja8MeW4KtM/pub?gid=2093797551&single=true&output=csv\")\n\n# feel free to take a sneak peek \n# but don't learn too much about it!\nhead(big_poke)",
      "execution_count": null,
      "outputs": []
    },
    {
      "metadata": {},
      "cell_type": "markdown",
      "source": "### 3.3 Write code to take a random sample of 10 cards from `big_poke`\n\nR has a function called `sample()` that lets us simulate taking a random sample from a dataframe.  \n\nTry to write code that takes a random sample of 10 cards from `big_poke`.\n\n(Note that you will get a different sample each time you run the code as the sample is random!)"
    },
    {
      "metadata": {
        "nbsimplegrader": {
          "config_key": "code.response",
          "type": "code",
          "label": "Response: Code",
          "runnable": true,
          "editable": true,
          "respondable": true,
          "response": null
        },
        "trusted": true
      },
      "cell_type": "code",
      "source": "# code here\n\n\n",
      "execution_count": null,
      "outputs": []
    },
    {
      "metadata": {},
      "cell_type": "markdown",
      "source": "### 3.4 `set.seed()` will give the same random sample each time\n\nWhen we are working with others (e.g., in class), it’s often helpful if everyone gets the same random sample. To do this, we can use the `set.seed()` function right before running the `sample()` function. As long as you put the same number into the function it will generate the same \"random\" sample each time you run the code. \n\nThink of it like setting the “starting point” for randomness. If you use the same seed, you’ll get the same sample every time. In the code below we used the seed 15. (You can choose any number.) Go ahead and run the cell a few times."
    },
    {
      "metadata": {
        "nbsimplegrader": {
          "config_key": "code.response",
          "type": "code",
          "label": "Response: Code",
          "runnable": true,
          "editable": true,
          "respondable": true,
          "response": null
        },
        "trusted": true
      },
      "cell_type": "code",
      "source": "# run this several times\n# now we get the same random sample every time\nset.seed(15)\nsample(big_poke, 10)",
      "execution_count": null,
      "outputs": []
    },
    {
      "metadata": {},
      "cell_type": "markdown",
      "source": "<div class=\"guided-notes\">\n\n### 3.5 Write code to simulate and save three random samples \n    \nFill in the second column. Create three random samples of 10, 30, and 360 cards and then save those samples as data frames (named `poke10`, `poke30`, `poke360`, respectively). We have started some code for you.  \n    \n</div>"
    },
    {
      "metadata": {},
      "cell_type": "markdown",
      "source": "<table border=\"1\" style=\"font-size: 16px; margin-left: 0; border-collapse: collapse; width: 100%\">\n  <thead>\n    <tr>\n      <td style=\"border: 1px solid black; font-weight: bold; text-align: left; width: 10%\">Sample size</td>\n      <td style=\"border: 1px solid black; font-weight: bold; text-align: left; width: 40%\">[3.5] Write code to simulate and save random samples</td>\n      <td style=\"border: 1px solid black; font-weight: bold; text-align: left; width: 40%\">[3.6] Write code to estimate P(HP &lt; 60) in the population from that sample</td>\n      <td style=\"border: 1px solid black; font-weight: bold; text-align: left; width: 10%\">[3.7] Record Estimated\nP(HP < 60)\n</td>\n    </tr>\n  </thead>\n  <tbody>\n    <tr>\n      <td style=\"border: 1px solid black; text-align: left;\">n = 10</td>\n      <td style=\"border: 1px solid black; text-align: left;\"><code>poke10 &lt;- </code></td>\n      <td style=\"border: 1px solid black; text-align: left;\"></td>\n      <td style=\"border: 1px solid black; text-align: left;\"> </td>\n    </tr>\n    <tr>\n      <td style=\"border: 1px solid black; text-align: left;\">n = 30</td>\n      <td style=\"border: 1px solid black; text-align: left;\"><code>poke30 &lt;- </code></td>\n      <td style=\"border: 1px solid black; text-align: left;\"></td>\n      <td style=\"border: 1px solid black; text-align: left;\"> </td>\n    </tr>\n    <tr>\n      <td style=\"border: 1px solid black; text-align: left;\">n = 360</td>\n      <td style=\"border: 1px solid black; text-align: left;\"></code></td>\n      <td style=\"border: 1px solid black; text-align: left;\"></td>\n      <td style=\"border: 1px solid black; text-align: left;\"> </td>\n    </tr>\n  </tbody>\n</table>\n"
    },
    {
      "metadata": {
        "nbsimplegrader": {
          "config_key": "code.response",
          "type": "code",
          "label": "Response: Code",
          "runnable": true,
          "editable": true,
          "respondable": true,
          "response": null
        },
        "trusted": true
      },
      "cell_type": "code",
      "source": "# code here\nset.seed(10)\n\n\n",
      "execution_count": null,
      "outputs": []
    },
    {
      "metadata": {},
      "cell_type": "markdown",
      "source": "<div class=\"guided-notes\">\n\n### 3.6 Write code to estimate P(HP < 60) in the population based on each of the three samples \n    \n</div>"
    },
    {
      "metadata": {},
      "cell_type": "markdown",
      "source": "<table border=\"1\" style=\"font-size: 16px; margin-left: 0; border-collapse: collapse;\">\n  <thead>\n    <tr>\n      <td style=\"border: 1px solid black; font-weight: bold; text-align: left;\">Sample size</td>\n      <td style=\"border: 1px solid black; font-weight: bold; text-align: left;\">Code to simulate and save random samples</td>\n      <td style=\"border: 1px solid black; font-weight: bold; text-align: left;\">Code to estimate P(HP &lt; 60) in the population based on each sample</td>\n    </tr>\n  </thead>\n  <tbody>\n    <tr>\n      <td style=\"border: 1px solid black; text-align: left;\">n = 10</td>\n      <td style=\"border: 1px solid black; text-align: left;\"><code>poke10 &lt;- sample(big_poke, 10)</code></td>\n      <td style=\"border: 1px solid black; text-align: left;\"></td>\n    </tr>\n    <tr>\n      <td style=\"border: 1px solid black; text-align: left;\">n = 30</td>\n      <td style=\"border: 1px solid black; text-align: left;\"><code>poke30 &lt;- sample(big_poke, 30)</code></td>\n      <td style=\"border: 1px solid black; text-align: left;\"></td>\n    </tr>\n    <tr>\n      <td style=\"border: 1px solid black; text-align: left;\">n = 360</td>\n      <td style=\"border: 1px solid black; text-align: left;\"><code>poke360 &lt;- sample(big_poke, 360)</code></td>\n      <td style=\"border: 1px solid black; text-align: left;\"></td>\n    </tr>\n  </tbody>\n</table>\n"
    },
    {
      "metadata": {
        "nbsimplegrader": {
          "config_key": "code.response",
          "type": "code",
          "label": "Response: Code",
          "runnable": true,
          "editable": true,
          "respondable": true,
          "response": null
        },
        "trusted": true
      },
      "cell_type": "code",
      "source": "# write code\n\n",
      "execution_count": null,
      "outputs": []
    },
    {
      "metadata": {},
      "cell_type": "markdown",
      "source": "<div class=\"guided-notes\">\n\n### 3.7 Record your estimated P(HP < 60) based on each sample in the last column of the table\n    \n</div>"
    },
    {
      "metadata": {},
      "cell_type": "markdown",
      "source": "<table border=\"1\" style=\"font-size: 16px; margin-left: 0; border-collapse: collapse; width: 100%\">\n  <thead>\n    <tr>\n      <td style=\"border: 1px solid black; font-weight: bold; text-align: left; width: 10%\">Sample size</td>\n      <td style=\"border: 1px solid black; font-weight: bold; text-align: left; width: 40%\">[3.5] Write code to simulate and save random samples</td>\n      <td style=\"border: 1px solid black; font-weight: bold; text-align: left; width: 40%\">[3.6] Write code to estimate P(HP &lt; 60) in the population from that sample</td>\n      <td style=\"border: 1px solid black; font-weight: bold; text-align: left; width: 10%\">[3.7] Record Estimated\nP(HP < 60)\n</td>\n    </tr>\n  </thead>\n  <tbody>\n    <tr>\n      <td style=\"border: 1px solid black; text-align: left;\">n = 10</td>\n      <td style=\"border: 1px solid black; text-align: left;\"><code>poke10 &lt;- sample(big_poke, 10)</code></td>\n      <td style=\"border: 1px solid black; text-align: left;\"><code>tally(~hp < 60, data = poke10, format = \"proportion\")</code></td>\n      <td style=\"border: 1px solid black; text-align: left;\"> </td>\n    </tr>\n    <tr>\n      <td style=\"border: 1px solid black; text-align: left;\">n = 30</td>\n      <td style=\"border: 1px solid black; text-align: left;\"><code>poke30 &lt;- sample(big_poke, 30)</code></td>\n      <td style=\"border: 1px solid black; text-align: left;\"><code>tally(~hp < 60, data = poke30, format = \"proportion\")</code></td>\n      <td style=\"border: 1px solid black; text-align: left;\"> </td>\n    </tr>\n    <tr>\n      <td style=\"border: 1px solid black; text-align: left;\">n = 360</td>\n      <td style=\"border: 1px solid black; text-align: left;\"><code>poke360 &lt;- sample(big_poke, 360)</code></td>\n      <td style=\"border: 1px solid black; text-align: left;\"><code>tally(~hp < 60, data = poke360, format = \"proportion\")</code></td>\n      <td style=\"border: 1px solid black; text-align: left;\"> </td>\n    </tr>\n  </tbody>\n</table>\n"
    },
    {
      "metadata": {},
      "cell_type": "markdown",
      "source": "### 3.8 Below are the histograms and `favstats` for `hp` in the three samples"
    },
    {
      "metadata": {},
      "cell_type": "markdown",
      "source": "<img src=\"https://coursekata-course-assets.s3.us-west-1.amazonaws.com/UCLATALL/czi-stats-course/6.7-6.11-overview-three-samples.jpg\" alt=\"histograms of the three samples (n=10, 30, 360)\">"
    },
    {
      "metadata": {
        "nbsimplegrader": {
          "config_key": "code.response",
          "type": "code",
          "label": "Response: Code",
          "runnable": true,
          "editable": true,
          "respondable": true,
          "response": null
        },
        "scrolled": false,
        "trusted": true
      },
      "cell_type": "code",
      "source": "# run this code\nfavstats(~ hp, data = poke10)\nfavstats(~ hp, data = poke30)\nfavstats(~ hp, data = poke360)",
      "execution_count": null,
      "outputs": []
    },
    {
      "metadata": {},
      "cell_type": "markdown",
      "source": "<div class=\"guided-notes\">\n\n### 3.9 Describe the shape, center, and spread) of each distribution in the table\n    \n</div>\n"
    },
    {
      "metadata": {},
      "cell_type": "markdown",
      "source": "<table border=\"1\" style=\"font-size: 16px; margin-left: 0; border-collapse: collapse; width: 100%\">\n  <thead>\n    <tr>\n      <td style=\"border: 1px solid black; font-weight: bold; text-align: left;\" width = 15%>Sample size</td>\n      <td style=\"border: 1px solid black; font-weight: bold; text-align: left;\" width = 55%>Shape</td>\n      <td style=\"border: 1px solid black; font-weight: bold; text-align: left;\" width = 15%>Center (mean)</td>\n      <td style=\"border: 1px solid black; font-weight: bold; text-align: left;\" width = 15%>Spread (sd)</td>\n    </tr>\n  </thead>\n  <tbody>\n    <tr>\n      <td style=\"border: 1px solid black; text-align: left;\">n = 10</td>\n      <td style=\"border: 1px solid black; text-align: left;\"></td>\n      <td style=\"border: 1px solid black; text-align: left;\"></td>\n      <td style=\"border: 1px solid black; text-align: left;\"></td>\n    </tr>\n    <tr>\n      <td style=\"border: 1px solid black; text-align: left;\">n = 30</td>\n      <td style=\"border: 1px solid black;\"></td>\n      <td style=\"border: 1px solid black;\"></td>\n      <td style=\"border: 1px solid black;\"></td>\n    </tr>\n    <tr>\n      <td style=\"border: 1px solid black; text-align: left;\">n = 360</td>\n      <td style=\"border: 1px solid black;\"></td>\n      <td style=\"border: 1px solid black;\"></td>\n      <td style=\"border: 1px solid black;\"></td>\n    </tr>\n  </tbody>\n</table>"
    },
    {
      "metadata": {},
      "cell_type": "markdown",
      "source": "<div class=\"discussion-question\">\n    \n### 3.10 Discussion Question: These sample distributions look quite different from one another. Did they come from the same population distribution? Answer YES, NO, or NOT SURE, and explain your thinking.\n    \n</div>"
    },
    {
      "metadata": {},
      "cell_type": "markdown",
      "source": "<img src=\"https://coursekata-course-assets.s3.us-west-1.amazonaws.com/UCLATALL/czi-stats-course/6.7-6.11-overview-three-samples.jpg\" alt=\"histograms of the three samples (n=10, 30, 360)\">\n"
    },
    {
      "metadata": {},
      "cell_type": "markdown",
      "source": "<div class=\"discussion-question\">\n    \n### 3.11 Discussion Questions: Imagine you are a researcher and everything you know about `hp` in `big_poke` is based on these three samples. \n\n- How confident would you be in each of the three probability estimates of **P(HP < 60)**?  \n- Is there one estimate you trust more than the others? Why?\n\n</div>"
    },
    {
      "metadata": {},
      "cell_type": "markdown",
      "source": "## 4 Modeling a Distribution with Mathematical Models\n\nIn a real research setting all we have is our sample. If we only have a sample of n=30 or n=360, it may look kind of like the ones we sampled above. \n\nUp to now, we have estimated probabilities in the population by calculating proportions of a sample distribution. But we can also estimate probabilities using mathematical functions. Whereas histograms based on real samples of data can be very jagged and uneven, mathematical models typically are smooth, continuous functions. \n\nTo use a mathematical model we must make some guesses about the shape, center, and spread of the population. In this section we will explore why we might want to do that."
    },
    {
      "metadata": {},
      "cell_type": "markdown",
      "source": "<div class=\"discussion-question\">\n\n### 4.1 Discussion: Based on what we've seen in these samples, what shape do you think the distribution of HP in the population might have? What makes you think that?\n\n</div>"
    },
    {
      "metadata": {},
      "cell_type": "markdown",
      "source": "### 4.2 The normal curve is a mathematical model used to model distributions\n\nThe normal curve does not exist \"in nature\"; it was invented by mathematicians. But it has proven very useful for modeling the shape of distributions that do exist out there in the world (e.g., heights, reaction times, even Pokemon HP).\n\nThe normal curve is a **mathematical function** (more specifically, a density function). \n\nJust like a line in algebra can be defined with a slope and y-intercept, or a square can be defined just by knowing the length of one side, the normal curve is defined by two numbers:\n- the **mean** (center)\n- the **standard deviation** (spread)\n\nThis function gives us a smooth, idealized curve that we can use to model real-world data even if that data is a little jagged or messy.\n\nRun the R code below to overlay a normal curve on our largest sample of Pokemon cards (n = 360) and see how well it fits. "
    },
    {
      "metadata": {
        "nbsimplegrader": {
          "config_key": "code.response",
          "type": "code",
          "label": "Response: Code",
          "runnable": true,
          "editable": true,
          "respondable": true,
          "response": null
        },
        "scrolled": false,
        "trusted": true
      },
      "cell_type": "code",
      "source": "# notice the d for density histogram\ngf_dhistogram(~ hp, data = poke360) %>%\n  gf_lims(x=c(-20,200)) %>%\n  gf_fitdistr() ",
      "execution_count": null,
      "outputs": []
    },
    {
      "metadata": {},
      "cell_type": "markdown",
      "source": "### 4.3 How R creates the curve to overlay on our histogram\n\nThe particular normal curve R overlaid on our data is defined by the mean and standard deviation of our sample (`poke360`). R first calculates the sample **mean** and **standard deviation**, then plugs them into the formula for the normal curve, and finally overlays that density curve on top of the histogram.\n    \nIn the figure below we have added a vertical line as well as a short horizontal line (jutting out from the vertical line). Which represents the mean? Which the standard deviation? "
    },
    {
      "metadata": {},
      "cell_type": "markdown",
      "source": "<img src=\"https://coursekata-course-assets.s3.us-west-1.amazonaws.com/UCLATALL/czi-stats-course/6.7-6.11-overview-fitdistr-mean-sd-v2.png\" alt=\"density histogram of n = 360 with normal distribution fit over it\" width = 50%>"
    },
    {
      "metadata": {},
      "cell_type": "markdown",
      "source": "<div class=\"guided-notes\">\n\n### 4.4 Label the overlaid normal curve in your guided notes with the mean and standard deviation\n    \n</div>\n"
    },
    {
      "metadata": {},
      "cell_type": "markdown",
      "source": "### 4.5 Calculating probabilities using the normal curve\n\nCalculating probabilities from data is pretty straightforward. In our sample of 360 Pokemon cards, we just tallied how many HP values were below 60, and used that proportion as a probability estimate.\n\nBut when we use a **normal curve** to model the population, there are no individual data points to count. The normal curve is a **continuous mathematical function** (that's why it's also called a **probability density function**).  \n\nSo instead of counting, we calculate the **area under the curve** that falls within a range of values on the x-axis (e.g., HP < 60, or HP > 75, or HP between 50 and 100). The total area under the curve is considered to be 1.0 (representing all of the probability).The proportion of total area that falls within a specified range of values represents the **probability** of a value falling in that range. "
    },
    {
      "metadata": {},
      "cell_type": "markdown",
      "source": "<div class=\"guided-notes\">\n\n### 4.6 Shade the areas under the normal curve to represent each probability\n\nIn each normal curve, shade the area under the curve that matches the probability described:\n\n- Shade the full area = 1.0  \n- Shade 0.50 of the area (either side)  \n- Shade 0.68 of the area \n    \n</div>\n"
    },
    {
      "metadata": {},
      "cell_type": "markdown",
      "source": "<img src=\"https://coursekata-course-assets.s3.us-west-1.amazonaws.com/UCLATALL/czi-stats-course/6.7-6.11-overview-to-shade.jpg\" alt=\"three normal distributions that should be shaded with probably = 1.0, 0.5, and 0.68\">"
    },
    {
      "metadata": {},
      "cell_type": "markdown",
      "source": "<div class=\"guided-notes\">\n    \n### 4.7 Use `xpnorm()` to estimate P(HP < 60 using the normal curve\n                                                              \nHere’s the format: `xpnorm(<cut point>, mean = <mean>, sd = <sd>)`\n   \n- What mean and sd would we ideally use? \n- What values should we use instead as our best guess?\n    \n</div>\n    "
    },
    {
      "metadata": {
        "nbsimplegrader": {
          "config_key": "code.response",
          "type": "code",
          "label": "Response: Code",
          "runnable": true,
          "editable": true,
          "respondable": true,
          "response": null
        },
        "trusted": true
      },
      "cell_type": "code",
      "source": "# write code\n\n\n",
      "execution_count": null,
      "outputs": []
    },
    {
      "metadata": {},
      "cell_type": "markdown",
      "source": "<div class=\"guided-notes\">\n\n### 4.8 When you run `xpnorm()`, R gives you a lot of output. Write down in the table what you think each part of the output means.\n\n</div>"
    },
    {
      "metadata": {},
      "cell_type": "markdown",
      "source": "<table border=\"1\" style=\"font-size: 16px; margin-left: 0; border-collapse: collapse; width: 100%\">\n  <thead>\n    <tr>\n      <td style=\"border: 1px solid black; font-weight: bold; text-align: left;\" width = 25%>Output</td>\n      <td style=\"border: 1px solid black; font-weight: bold; text-align: left;\" width = 75%>What it means</td>\n    </tr>\n  </thead>\n  <tbody>\n    <tr>\n        <td style=\"border: 1px solid black; text-align: left;\"><code>X ~ N(69.1, 25.39)</code></td>\n      <td style=\"border: 1px solid black; text-align: left;\"></td>\n    </tr>\n    <tr>\n        <td style=\"border: 1px solid black; text-align: left;\"><code>P(X <= 60)</code></td>\n      <td style=\"border: 1px solid black;\"></td>\n    </tr>\n    <tr>\n        <td style=\"border: 1px solid black; text-align: left;\"><code>P(Z <= -0.3584)</code></td>\n      <td style=\"border: 1px solid black;\"></td>\n    </tr>\n    <tr>\n        <td style=\"border: 1px solid black; text-align: left;\"><code>0.36</code> and <code>0.64</code></td>\n      <td style=\"border: 1px solid black;\"></td>\n    </tr>\n    <tr>\n        <td style=\"border: 1px solid black; text-align: left;\"><code>0.3600187</code></td>\n      <td style=\"border: 1px solid black;\"></td>\n    </tr>\n     <tr>\n        <td style=\"border: 1px solid black; text-align: left;\">the darker shaded region</td>\n      <td style=\"border: 1px solid black;\"></td>\n    </tr>\n    <tr>\n        <td style=\"border: 1px solid black; text-align: left;\">the lighter shaded region</td>\n      <td style=\"border: 1px solid black;\"></td>\n    </tr>\n    <tr>\n        <td style=\"border: 1px solid black; text-align: left;\"><code>z = -0.36</code></td>\n      <td style=\"border: 1px solid black;\"></td>\n    </tr>\n  </tbody>\n</table>"
    },
    {
      "metadata": {},
      "cell_type": "markdown",
      "source": "### 4.9 Calculate the z-score of 60 in the code cell below\n\nWhat mean and standard deviation should we use? Does this help us understand the output of `xpnorm`?"
    },
    {
      "metadata": {
        "nbsimplegrader": {
          "config_key": "code.response",
          "type": "code",
          "label": "Response: Code",
          "runnable": true,
          "editable": true,
          "respondable": true,
          "response": null
        },
        "trusted": true
      },
      "cell_type": "code",
      "source": "# ( x - m ) / sd\n\n\n",
      "execution_count": null,
      "outputs": []
    },
    {
      "metadata": {},
      "cell_type": "markdown",
      "source": "<div class=\"discussion-question\">\n\n### 4.10 Discussion Questions: What is the probability that a randomly drawn Pokemon card has HP less than Pikachu (60)? Of all the probabilities we estimated, which would you use as your best guess? \n\n- When might the probabilities from a **sample distribution** be more accurate than using the normal curve?\n- When might the probabilities from a **normal curve** give you a better estimate than the sample tallies?\n\n\n</div>"
    },
    {
      "metadata": {},
      "cell_type": "markdown",
      "source": "## 5 Time to Unveil the Mystery...\n\nSo far, we’ve been estimating the probability that a randomly drawn Pokemon card has HP less than 60, using:\n- A tiny sample (n = 10)\n- A small-ish sample (n = 30)\n- A larger sample (n = 360)\n- The normal curve (with mean and sd from `poke360`\n\nBut unlike most cases, we actually have access to the much larger dataset that the samples came from: `big_poke`."
    },
    {
      "metadata": {},
      "cell_type": "markdown",
      "source": "### 5.1 Use `big_poke` to calculate the true proportion of cards in the population with HP < 60."
    },
    {
      "metadata": {
        "nbsimplegrader": {
          "config_key": "code.response",
          "type": "code",
          "label": "Response: Code",
          "runnable": true,
          "editable": true,
          "respondable": true,
          "response": null
        },
        "trusted": true
      },
      "cell_type": "code",
      "source": "# write code\n\n",
      "execution_count": null,
      "outputs": []
    },
    {
      "metadata": {},
      "cell_type": "markdown",
      "source": "<div class=\"discussion-question\">\n\n### 5.2 Discussion Questions: \n    \n- What is the actual value of **P(HP < 60)** in `big_poke`?\n- Why is this different from your previous estimates?\n- Which of your previous estimates came closest to this estimate?  \n- What does this reveal about sample size, shape, and the usefulness of modeling?\n\n</div>"
    }
  ],
  "metadata": {
    "deepnote_execution_queue": [],
    "deepnote_notebook_id": "608933bb-f248-4876-a618-1c815f90aa5a",
    "kernelspec": {
      "name": "ir",
      "display_name": "R",
      "language": "R"
    },
    "language_info": {
      "name": "R",
      "codemirror_mode": "r",
      "pygments_lexer": "r",
      "mimetype": "text/x-r-source",
      "file_extension": ".r",
      "version": "4.3.3"
    },
    "nbsimplegrader": {
      "publish_config": {
        "classes": [],
        "options": {},
        "tools": []
      }
    }
  },
  "nbformat": 4,
  "nbformat_minor": 2
}