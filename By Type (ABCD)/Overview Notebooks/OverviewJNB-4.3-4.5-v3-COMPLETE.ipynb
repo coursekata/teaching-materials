{
  "cells": [
    {
      "cell_type": "markdown",
      "metadata": {
        "cell_id": "ad57acc77a464436aa40042613ccb31f",
        "deepnote_cell_type": "markdown"
      },
      "source": "# Scatter, Jitter, Box Plots, & Histograms\n\n## Chapter 4.3-4.5 Overview Notebook"
    },
    {
      "cell_type": "code",
      "execution_count": null,
      "metadata": {
        "cell_id": "cad0efb030914faebe0b4bdd75f378fc",
        "deepnote_cell_type": "code",
        "scrolled": true,
        "trusted": true
      },
      "outputs": [],
      "source": "# run this to set up the notebook\nlibrary(coursekata)\n\n# read in data\nset.seed(100)\nstroop100 <- sample(read.csv(\"https://docs.google.com/spreadsheets/d/e/2PACX-1vSUSCmFFNt6jEMyTNGHMW9VxPsJrHoFbGvylhEAHkbonu0BuJBRH48Cgsk4hyKwkRPSQhhqpX8ypIND/pub?gid=569699744&single=true&output=csv\"), 100)[,-4] \n\n# set styles\ncss <- suppressWarnings(readLines(\"https://raw.githubusercontent.com/jimstigler/jupyter/master/ck_jupyter_styles.css\"))\nIRdisplay::display_html(sprintf('<style>%s</style>', paste(css, collapse = \"\\n\")))"
    },
    {
      "cell_type": "markdown",
      "metadata": {
        "cell_id": "e361bac6ca764effbd57b4e817f23d6e",
        "deepnote_cell_type": "markdown"
      },
      "source": "<div class=\"teacher-note\">\n    <b>Section Goals:</b> In this section students will expand their understanding of what it means to explain variation in one variable with another to include categorical explanatory variables, and they will learn to visualize such relationships with jitter plots, box plots, and faceted histograms.\n    <ul>\n        <li>Students will extend their use of word equations to cases where the explanatory variable is categorical, and will learn to use R to produce visualizations that are appropriate to the type of outcome variable (quantitative) and explanatory variable (quantitative or categorical).\n        <li>Students will see that, just as with visualizations of single variables, different visualizations of bivariate relationships highlight different aspects of the distributions being compared across different categories of an explanatory variable.\n        <li>Students will be able to explain why the dots line up in a column when using gf_point() to visualize the relationship of a categorical predictor to a quantitative outcome; and why using faceted histograms with a quantitative predictor will yield uninterpretable results.\n        <li>Students will practice overlaying one visualization on another, e.g., overlaying a boxplot on a jitter plot, and noticing affordances of each plot for judging the strength of a relationship.\n        <li>Students should also use the introduction of faceted histograms as a chance to review the basic features of histograms, and in particular to remember that the height of the bars indicates frequency or proportion, not values on the outcome variable.\n    </ul>\n    A <a href=\"https://docs.google.com/document/d/1kClGzJtwuwHvSbOgUzv52BR8_Y7DjFeHfAJerL7yRGA/edit?usp=sharing\" target=\"_blank\">printable student guided-notes worksheet</a> is available to go with this Jupyter notebook, as well as a student version of this notebook.\n</div>"
    },
    {
      "cell_type": "markdown",
      "metadata": {
        "cell_id": "8077b513562b47f1bd1c4f920aaed4e7",
        "deepnote_cell_type": "markdown"
      },
      "source": "## 1 Data Collection Activity: The Stroop Task\n\nThe Stroop Task originates from a landmark study by John Ridley Stroop in 1935, published in the paper _Studies of Interference in Serial Verbal Reactions._ Stroop was an American psychologist who investigated how conflicting information affects cognitive processing. Variations of the Stroop tasks are still widely used today by researchers in many subfields of psychology. Today, you are going to be a participant in a classic Stroop task!\n\n**What is the Stroop task?** The classic Stroop task is very simple. The research participant is given a list of words and asked to _name the color of the font each word is printed in_ as fast as they can. How hard could that be?<br><br>\n\n<center><span style=\"color: red; font-size: 32px;\">\nRED&nbsp;&nbsp;&nbsp;BLUE\n</span></center>\n\nFor example, if you were given the list of two words above you would say, \"Red, red,\" because both words are printed in a red font. (If you said \"Red, blue\" that would be a mistake, though it is a common mistake.) <br><br>\n\n<div class=\"guided-notes\"> \n<h3>1.1 Collect some data and record it in the guided notes.</h3>\nFollow the steps below to collect data on the Stroop task.\n</div>\n\n**Step 1.** Pair up with a partner. Decide who will be the **timer** and who will be the **reader** for the first set of words (**section 1.2, below**).\n\n**Step 2.** The timer says \"Go\" and starts the time. The reader should name the font colors out loud as quickly as possible, row by row, until completing all five rows of words. Record the time in seconds in the data table on your guided notes.\n\n**Step 3.** Switch roles. Repeat Step 2 with the second set of words (**section 1.3, below**).\n    \n**Step 4.**  Write down times from other classmates until you fill up the table in your guided notes.\n"
    },
    {
      "cell_type": "markdown",
      "metadata": {
        "cell_id": "c8476d5fa6104338894ee3bdd391c1ed",
        "deepnote_cell_type": "markdown"
      },
      "source": "### 1.2 The First Set of Words: Congruent\n<img src=\"https://coursekata-course-assets.s3.us-west-1.amazonaws.com/UCLATALL/czi-stats-course/jnb_overview_3.1-3.4_stroop_congruent.jpg\">\n"
    },
    {
      "cell_type": "markdown",
      "metadata": {
        "cell_id": "9abfa4f5c9d64703bc7d4b50b4616cdc",
        "deepnote_cell_type": "markdown"
      },
      "source": "### 1.3 The Second Set of Words: Incongruent\n<img src=\"https://coursekata-course-assets.s3.us-west-1.amazonaws.com/UCLATALL/czi-stats-course/jnb_overview_3.1-3.4_stroop_incongruent.jpg\">\n\n"
    },
    {
      "cell_type": "markdown",
      "metadata": {
        "cell_id": "d5f8618ecbc844248fe4e23e3c7c67f6",
        "deepnote_cell_type": "markdown"
      },
      "source": "<div class=\"discussion-question\">\n<h3>1.4 Key Discussion Questions: What did you notice in doing the Stroop task? Was your experience different from your partner's?</h3> \nWhy do you think the first list is called <i>congruent</i> and the second list <i>incongruent</i>?\n</div>"
    },
    {
      "cell_type": "markdown",
      "metadata": {
        "cell_id": "4bfb50bc7fc0445b8853d09963d6ee31",
        "deepnote_cell_type": "markdown"
      },
      "source": "<div class=\"teacher-note\">\n    \n<b>Sample responses:</b> \n    \n- Slower reading for the second list (incongruent condition)\n- More mistakes in the incongruent list\n- Different experiences and motivations might affect reading times (e.g., people who are competitive might try to be extra fast)\n- In the first list, the word meaning and ink color match (congruent), while in the second list, they conflict (incongruent).\n    \n</div>"
    },
    {
      "cell_type": "markdown",
      "metadata": {
        "cell_id": "4794be78c9814f818a06b2085a76f306",
        "deepnote_cell_type": "markdown"
      },
      "source": "## 2 Does list type explain variation in  time?\nThere are two different types of lists: congruent and incongruent. Half of the class read the colors of the congruent list and half from the incongruent list. Do you think list type would explain variation in time?"
    },
    {
      "cell_type": "markdown",
      "metadata": {
        "cell_id": "8d60355632854bd2918a6040a1352e7b",
        "deepnote_cell_type": "markdown"
      },
      "source": "<div class=\"discussion-question\">\n    <h3>2.1 Key Discussion Question: What is our informal definition of <i>explain variation</i>? </h3>\n    \n- What does it mean for one variable to <i>explain variation</i> in another? \n- In the current example, what is the outcome variable? What is the explanatory variable?\n</div>"
    },
    {
      "cell_type": "markdown",
      "metadata": {
        "cell_id": "8a43d45081f54c01a39c4f1a9623caaa",
        "deepnote_cell_type": "markdown"
      },
      "source": "<div class=\"teacher-note\">\n    \n<b>Teacher Note:</b> If knowing a person's value on one variable helps you make a better guess about their value on another variable, then the first variable (the **explanatory variable**) can be said to *explain* some of the variation in the second variable (the **outcome variable**).\n    \nIn the Stroop example, `list_type` (congruent vs. incongruent) would be the explanatory variable, `time_sec` (the time in seconds it took to read the font colors on the list), the outcome variable.\n    \n</div>"
    },
    {
      "cell_type": "markdown",
      "metadata": {
        "cell_id": "e201bfcf0c084ad1a9bda43d598f9fb5",
        "deepnote_cell_type": "markdown"
      },
      "source": "<div class=\"discussion-question\">\n    <h3>2.2 Key Discussion Question: Do you think list type would explain some of the variation in time? Why or why not?</h3>\n</div>"
    },
    {
      "cell_type": "markdown",
      "metadata": {
        "cell_id": "783f13c56704465eb46eb89093107f80",
        "deepnote_cell_type": "markdown"
      },
      "source": "<div class=\"teacher-note\">\n    \n<b>Sample responses:</b>  \n    \n- Yes, because the incongruent list is harder to process, leading to longer response times.  \n- The congruent list is easier since word meaning and ink color match, reducing interference.  \n- Not necessarily—individual differences (e.g., reading speed, attention) might also affect time.  \n\n</div>\n"
    },
    {
      "cell_type": "markdown",
      "metadata": {
        "cell_id": "fc86389e7c0c41d780b5df2f5f3ce81c",
        "deepnote_cell_type": "markdown"
      },
      "source": "<div class=\"guided-notes\">\n    \n### 2.3 Write a word equation to represent the hypothesis that `list_type` would explain some (but not all) of the variation in `time_sec`.\n    \n</div>"
    },
    {
      "cell_type": "markdown",
      "metadata": {
        "cell_id": "a0f5a8390e044d47a0525fd13a3e0bcb",
        "deepnote_cell_type": "markdown"
      },
      "source": "<div class=\"teacher-note\">\n    \n<b>Sample Response:</b> time_sec = list_type + other stuff\n    \n<b>Teacher Notes:</b>   \n    A few follow up questions you might consider asking --\n- Ask students what the \"other stuff\" might include (e.g., individual reaction speed, familiarity with the task, motivation to be fast).\n- Also ask: what would the data look like if there were no effect of \"other stuff\" on time_sec? (everyone with the same list type would get the same value of time_sec).\n- Connect the specific word equation to the general idea: outcome = explanatory + other stuff\n\n</div>"
    },
    {
      "cell_type": "markdown",
      "metadata": {
        "cell_id": "d17f79c2e82848f185b064ec53538f5f",
        "deepnote_cell_type": "markdown"
      },
      "source": "## 3 Explore Visually Whether `list_type` Explains Variation in `time_sec` (Scatter Plots)\n\nNow that we have a hypothesis, let's explore whether it seems to be true in a sample of data. We have loaded a data frame called `stroop100`. It contains data from 100 students who completed the same Stroop task you just did.\n\n### 3.1 Run some code in the next cell to see what's in the data frame"
    },
    {
      "cell_type": "code",
      "execution_count": null,
      "metadata": {
        "cell_id": "30bb354628fe417084d39e4d8e7e6720",
        "deepnote_cell_type": "code",
        "trusted": true
      },
      "outputs": [],
      "source": "# write code here to see what's in the data frame\nhead(stroop100)\n\n# write some code to see how many students read each list_type\ngf_bar(~ list_type, data = stroop100)\ntally(~ list_type, data = stroop100)\n\n# write some code to look at the distribution of the outcome variable time_sec\ngf_histogram(~ time_sec, data = stroop100)\n"
    },
    {
      "cell_type": "markdown",
      "metadata": {
        "cell_id": "49a547accd7545cc859cbf722d84b8ae",
        "deepnote_cell_type": "markdown"
      },
      "source": "<div class=\"guided-notes\">   \n<h3>3.2 Scatter plot</h3>\n    Write some R code to generate a scatter plot to explore the word equation <b>time_sec = list_type + other stuff</b>\n</div>"
    },
    {
      "cell_type": "code",
      "execution_count": null,
      "metadata": {
        "cell_id": "16ce0159bc764e46bbc629553668c842",
        "deepnote_cell_type": "code",
        "trusted": true
      },
      "outputs": [],
      "source": "# write code for a scatter plot here\ngf_point(time_sec ~ list_type, data = stroop100)"
    },
    {
      "cell_type": "markdown",
      "metadata": {
        "cell_id": "de6abad23f0e4f0095a3c90063308bd9",
        "deepnote_cell_type": "markdown"
      },
      "source": "<div class=\"discussion-question\">\n    <h3>3.3 Key Discussion Question: What do you see in the scatter plot? Do you see support for the hypothesis represented in the word equation? Do you see support for the inclusion of \"other stuff\" in the word equation?</h3>\n</div>"
    },
    {
      "cell_type": "markdown",
      "metadata": {
        "cell_id": "ac3b1739fc134f08ab86cc678ac1086f",
        "deepnote_cell_type": "markdown"
      },
      "source": "<div class=\"teacher-note\">\n    \n<b>Sample Responses:</b>   \n- Congruent dots are generally lower than incongruent dots; people take less time in the congruent word lists than the incongruent word lists\n- Congruent dots seem more clumped together; there is less variability in congruent word lists than incongruent\n- Some people reading the incongruent word lists are just as fast as the people reading the congruent list but mostly they are slower. Clearly, other stuff (in addition to list_type) is affecting reading times too.\n    \n<b>Teacher Notes:</b>   \n- Highlight that list_type is a categorical variable, which causes the data points to align vertically at discrete positions.\n- Discuss how this differs from scatter plots with continuous variables, where points are spread more evenly across the axes (especially the x-axis).\n- Explain that while technically still a scatter plot, this visualization looks different due to the categorical nature of the explanatory variable. One problem with this kind of scatter plot is that some dots overlap. This is why jitter plots can be helpful to spread the points for better visibility.\n\n</div>"
    },
    {
      "cell_type": "markdown",
      "metadata": {
        "cell_id": "95c399ad92be4c4eb6329717f8df2442",
        "deepnote_cell_type": "markdown"
      },
      "source": "## 4 Visualizing the Relationship with Jitter Plots\n\nOne thing that is annoying about scatter plots is that sometimes dots are right on top of each other. This is especially true in cases like this one, where the explanatory variable is categorical with only two levels. In cases like this we might choose a jitter plot. It's like a scatter plot, but adds in some random \"jittering\" to make it easier to see the individual dots. Instead of `gf_point` we can use `gf_jitter`."
    },
    {
      "cell_type": "markdown",
      "metadata": {
        "cell_id": "0e0ac61793c246b9ba372796b4997333",
        "deepnote_cell_type": "markdown"
      },
      "source": "<div class=\"guided-notes\">\n    \n### 4.1 Jitter plot\n    \nLook at the `gf_point` code. What might be the R code to produce a jitter plot?\n\n</div>"
    },
    {
      "cell_type": "markdown",
      "metadata": {
        "cell_id": "477ae23fe6ff436897d4a1d7d17d9d11",
        "deepnote_cell_type": "markdown"
      },
      "source": "<div class=\"teacher-note\">    \n<b>Teacher note:</b> Students may be able to figure out that they need to change \"point\" to \"jitter\" in the code to create a jitter plot. Consider asking students to tell you their ideas, then you can run them in the cell below.    \n</div>"
    },
    {
      "cell_type": "code",
      "execution_count": null,
      "metadata": {
        "cell_id": "ea33c32930d140ebadf5d505bc348a63",
        "deepnote_cell_type": "code",
        "scrolled": false,
        "trusted": true
      },
      "outputs": [],
      "source": "# write code for a jitter plot here\ngf_jitter(time_sec ~ list_type, data = stroop100)"
    },
    {
      "cell_type": "markdown",
      "metadata": {
        "cell_id": "1cb2dd4add8e4b52ad108b6e17ffeb2f",
        "deepnote_cell_type": "markdown"
      },
      "source": "<div class=\"discussion-question\">\n    <h3>4.2 Key Discussion Question: What can you see in the jitter plot? Which way are the dots jittered? Horizontally or vertically? Does it matter?</h3>\n</div>"
    },
    {
      "cell_type": "markdown",
      "metadata": {
        "cell_id": "3de5b9ef24b448c8b18a7d0cfd5ee48a",
        "deepnote_cell_type": "markdown"
      },
      "source": "<div class=\"teacher-note\">\n    \n<b>Teacher note:</b>   \n- Students can notice that in the jitter plot they can see the individual data points, and that they still can see that list_type explains some of the variation in time_sec.\n- By default, jitter is applied both vertically and horizontally to the points. It's important for students to understand that horizontal jitter merely separates the points, but vertical jitter actually changes the apparent value of the data point.\n- Introduce the width and height arguments, which control the amount of jitter. Set the vertical jitter equal to 0 (on principle!) and experiment with different values for width, which typically ranges from 0 to 1. \n- Have students add the height and width arguments to the code they wrote in their guided notes.\n\n<code>gf_jitter(time_sec ~ list_type, height = 0, width = .1,\n  data = stroop20)</code>\n    \n</div>"
    },
    {
      "cell_type": "code",
      "execution_count": null,
      "metadata": {
        "cell_id": "fdc7793e439844d38a38224c800b113c",
        "deepnote_cell_type": "code",
        "trusted": true
      },
      "outputs": [],
      "source": "# modify the amount of jitter on this jitter plot\ngf_jitter(time_sec ~ list_type, width = .1, height = 0,\n          data = stroop100)"
    },
    {
      "cell_type": "markdown",
      "metadata": {
        "cell_id": "f24018eafd164294b8e92bd9c19bc7b2",
        "deepnote_cell_type": "markdown"
      },
      "source": "## 5 Visualizing the Relationship with Box Plots\nIn the previous chapter we learned to make box plots to represent a single distribution. Now let's see if we can use them to represent a relationship such as the one between list type and time."
    },
    {
      "cell_type": "markdown",
      "metadata": {
        "cell_id": "c41d7f7e56db4f39b5183a89ecb11846",
        "deepnote_cell_type": "markdown"
      },
      "source": "<div class=\"guided-notes\">\n    \n### 5.1 Box plots\n    \nLook at the `gf_point` and `gf_jitter` code. What might be the R code to produce box plots that represent the relationship between `time_sec` and `list_type`?\n</div>"
    },
    {
      "cell_type": "markdown",
      "metadata": {
        "cell_id": "f0b40e5211474564bf192836da878b10",
        "deepnote_cell_type": "markdown"
      },
      "source": "<div class=\"teacher-note\">    \n<b>Teacher note:</b> Students may be able to figure out that they need to use the gf_boxplot function. If they need a hint, let them know that just the same way they changed a scatter plot into a jitter plot, they can change a jitter plot into box plots. Consider asking students to tell you their ideas, then you can run them in the cell below.    \n</div>"
    },
    {
      "cell_type": "code",
      "execution_count": null,
      "metadata": {
        "cell_id": "4063c2edb3e24e698a6bb16dc09fe402",
        "deepnote_cell_type": "code",
        "scrolled": false,
        "trusted": true
      },
      "outputs": [],
      "source": "# write code for box plots here\ngf_boxplot(time_sec ~ list_type, data = stroop100)"
    },
    {
      "cell_type": "markdown",
      "metadata": {
        "cell_id": "1be894d715a6423991d05b813b57f167",
        "deepnote_cell_type": "markdown"
      },
      "source": "<div class=\"discussion-question\">\n\n### 5.2 Key Discussion Question: Can you see the relationship of `list_type` and `time_sec` in the box plot? What can you more easily see in the box plot? In the jitter plot?\n    \n</div>"
    },
    {
      "cell_type": "markdown",
      "metadata": {
        "cell_id": "b82c1a202cc74ce59ff0cb5a3bcca5fe",
        "deepnote_cell_type": "markdown"
      },
      "source": "<img src=\"https://coursekata-course-assets.s3.us-west-1.amazonaws.com/UCLATALL/czi-stats-course/jnb-4.3-4.5-jitter-boxplots.jpg\">"
    },
    {
      "cell_type": "markdown",
      "metadata": {
        "cell_id": "c163db65878e469483bfa6e6ef8a4127",
        "deepnote_cell_type": "markdown"
      },
      "source": "<div class=\"guided-notes\">\n\n### 5.3 [on the next page] In the two graphs, label the x- and y-axes. \n    \nTry to estimate the medians for the two groups from the graphs.\n    \n</div>"
    },
    {
      "cell_type": "markdown",
      "metadata": {
        "cell_id": "00a5ab9db0eb4926932d9f1af562cef0",
        "deepnote_cell_type": "markdown"
      },
      "source": "<div class=\"discussion-question\">\n\n<h3>5.4 Make a prediction: What would you get if you ran this code: <br><code>favstats(time_sec ~ list_type, data = stroop100)</code>?</h3>\n    \n</div>"
    },
    {
      "cell_type": "code",
      "execution_count": null,
      "metadata": {
        "cell_id": "b46c6e8744384505a0fe4d03561c2287",
        "deepnote_cell_type": "code",
        "trusted": true
      },
      "outputs": [],
      "source": "# try and see\nfavstats(time_sec ~ list_type, data = stroop100)"
    },
    {
      "cell_type": "markdown",
      "metadata": {
        "cell_id": "303ae05a439f4f068546a898d5d8aa1a",
        "deepnote_cell_type": "markdown"
      },
      "source": "<div class=\"teacher-note\">    \n    <b>Teacher note:</b> Help students understand that the formula interface <code>y ~ x</code> can be used in a number of different contexts, not just for graphs.    \n</div>"
    },
    {
      "cell_type": "markdown",
      "metadata": {
        "cell_id": "27fef1adf8954a3488e3f71961c91627",
        "deepnote_cell_type": "markdown"
      },
      "source": "<div class=\"guided-notes\">\n\n### 5.5 Box plots with jitter plot overlayed on top\n\nWe can use the `%>%` operator to overlay the jitter plot on top of the box plot. This is a way to get the benefits of both types of plots.\n\nYou can think of each line of `gf_` code as a _layer_. If we write the `gf_boxplot` code then add on `gf_jitter` with `%>%`, we are telling R to print out a box plot first, then add the jitter plot on top.\n    \n</div>"
    },
    {
      "cell_type": "code",
      "execution_count": null,
      "metadata": {
        "cell_id": "f78744a4b2844db295f6986fa694dc5b",
        "deepnote_cell_type": "code",
        "trusted": true
      },
      "outputs": [],
      "source": "# overlay a jitter plot to this\ngf_boxplot(time_sec ~ list_type, data = stroop100) %>%\n  gf_jitter(height = 0) "
    },
    {
      "cell_type": "markdown",
      "metadata": {
        "cell_id": "7ffea3b70d164256859d5dbafb6dcfe6",
        "deepnote_cell_type": "markdown"
      },
      "source": "<div class=\"discussion-question\">\n<h3>5.6 Make a prediction: What do you think would change about the plot if we put the <code>gf_jitter</code> first and the <code>gf_boxplot</code> second?</h3>  \n</div>"
    },
    {
      "cell_type": "markdown",
      "metadata": {
        "cell_id": "4d376f1bafa741a48ebe92642cb45d3b",
        "deepnote_cell_type": "markdown"
      },
      "source": "<div class=\"teacher-note\">    \n    <b>Teacher note:</b> Note that you can still see the dots, but now they are lighter because you are \"looking through\" the box plot on top. You might show students that if you set <code>alpha = 1</code> on the box plot it would make the shaded region opaque and hide the dots completely.    \n</div>"
    },
    {
      "cell_type": "code",
      "execution_count": null,
      "metadata": {
        "cell_id": "2c5d34f686f644c5b9d356b469df91fa",
        "deepnote_cell_type": "code",
        "trusted": true
      },
      "outputs": [],
      "source": "# try and see\ngf_jitter(time_sec ~ list_type, data = stroop100, height = 0) %>%\n  gf_boxplot() "
    },
    {
      "cell_type": "markdown",
      "metadata": {
        "cell_id": "f65d3cba96d94a60bc0ef2da2d9ad595",
        "deepnote_cell_type": "markdown"
      },
      "source": "<div class=\"discussion-question\">\n    \n### 5.7 Key Discussion Questions:\n- What percentage of the dots are within the \"box\" part of the box plots?\n- What is represented by the thicker horizontal line in the box plots?\n- Are there any outliers in this data? How can you tell?\n- What do the box plots tell you about the *distributions* of time_sec? (Think shape, center, spread)\n</div>"
    },
    {
      "cell_type": "markdown",
      "metadata": {
        "cell_id": "60a0f7a0e31c4daeaa3b72e69d6cffc5",
        "deepnote_cell_type": "markdown"
      },
      "source": "## 6 Visualizing the Relationship with Faceted Histograms\n\nOne more way to visualize a relationship between two variables is with a faceted histograms. It is similar to the histograms you have seen before, but this time they are broken up separately into two _facets_ (or faces) — one for congruent and the other for incongruent times. "
    },
    {
      "cell_type": "markdown",
      "metadata": {
        "cell_id": "17e47f27ef8a44ef9139ee55b4b5373d",
        "deepnote_cell_type": "markdown"
      },
      "source": "<div class=\"guided-notes\"> \n    \n### 6.1 Faceted histograms\n    \nUse `%>%` to chain on `gf_facet_grid()` to the code below to create faceted histograms: a histogram for each `list_type`.\n\nYou may wish to see what happens when you try `gf_facet_grid(list_type ~ .)` versus `gf_facet_grid(. ~ list_type)`.\n</div>"
    },
    {
      "cell_type": "code",
      "execution_count": null,
      "metadata": {
        "cell_id": "728b9455ce1c4b59b3fe25189452b067",
        "deepnote_cell_type": "code",
        "trusted": true
      },
      "outputs": [],
      "source": "# add gf_facet_grid to this\ngf_histogram(~ time_sec, data = stroop100) %>%\n  gf_facet_grid(list_type ~ .)"
    },
    {
      "cell_type": "markdown",
      "metadata": {
        "cell_id": "b2f97c1a970f4e6b9aacba81a7fa284b",
        "deepnote_cell_type": "markdown"
      },
      "source": "<div class=\"discussion-question\">\n\n### 6.2 Key Discussion Question: What do faceted histograms show you that the other visualizations did not? What's different about it?\n    \n</div>"
    },
    {
      "cell_type": "markdown",
      "metadata": {
        "cell_id": "c88c5c515a90448c8507a275dbe29656",
        "deepnote_cell_type": "markdown"
      },
      "source": "<div class=\"teacher-note\">    \n    <b>Teacher note:</b> Histograms are the clearest way to see the shape of the distribution.    \n</div>"
    },
    {
      "cell_type": "markdown",
      "metadata": {
        "cell_id": "0b05d34fa3e34156a874472c67534009",
        "deepnote_cell_type": "markdown"
      },
      "source": "<div class=\"guided-notes\"> \n    \n### 6.3 Faceted histograms with box plots overlayed on top\n\nJust like we can overlay box plots onto jitter/scatter plots (and vice versa), we can overlay box plots onto faceted histograms. Try figuring out the code for that based on what you know so far.\n\n(If you want to make the box plots thicker, you can use the `width` argument.)\n    \n</div>"
    },
    {
      "cell_type": "code",
      "execution_count": null,
      "metadata": {
        "cell_id": "d804bdaefb6b49518422d2defac1d96c",
        "deepnote_cell_type": "code",
        "scrolled": false,
        "trusted": true
      },
      "outputs": [],
      "source": "# overlay boxplots to this\ngf_histogram(~ time_sec, data = stroop100) %>%\n  gf_facet_grid(list_type ~ .) %>%\n  gf_boxplot(width= 2)"
    },
    {
      "cell_type": "markdown",
      "metadata": {
        "cell_id": "8c141a4a7c0848e3a136ff629cb66f63",
        "deepnote_cell_type": "markdown"
      },
      "source": "<div class=\"discussion-question\">\n\n### 6.4 Key Discussion Question: Why are the boxes arranged horizontally when overlaid on the histograms, but vertically when overlaid on the jitter plots?\n    \n</div>"
    },
    {
      "cell_type": "markdown",
      "metadata": {
        "cell_id": "6267194e8c844dd18f558c488abeb2a4",
        "deepnote_cell_type": "markdown"
      },
      "source": "<div class=\"teacher-note\">    \n    <b>Teacher note:</b> Box plots are aligned according to the value of the outcome variable. In jitter plots, the outcome (`time_sec`) is on the y-axis. In histograms, the outcome is on the x-axis.\n</div>"
    },
    {
      "cell_type": "markdown",
      "metadata": {
        "cell_id": "06e4180a0c4845fe931077330ff06874",
        "deepnote_cell_type": "markdown"
      },
      "source": "## 7 Summary: Which visualizations can we use to explore a relationship between an explanatory variable and and outcome variable?\n\nLet's review all we've learned about visualizing the distributions of individual variables and visualizing the relationships between two variables."
    },
    {
      "cell_type": "markdown",
      "metadata": {
        "cell_id": "a29a74f9d8a94d2481a704366776fe89",
        "deepnote_cell_type": "markdown"
      },
      "source": "<div class=\"guided-notes\">\n    \n### 7.1 Visualizations for relationships between variables \n\nComplete the table by identifying the appropriate visualization and R function for different combinations of outcome and explanatory variables. Use the examples provided as a guide and consider whether the variables are quantitative or categorical.\n\n</div>"
    },
    {
      "cell_type": "markdown",
      "metadata": {
        "cell_id": "f77a0488af8241d693f2ed91e447bdd7",
        "deepnote_cell_type": "markdown"
      },
      "source": "<div class=\"guided-notes\">\n    \n### 7.2 Visualizations for a single outcome variable \n\nNow, complete the last two rows of the table by selecting the best visualizations for displaying the distribution of a single quantitative or categorical variable.\n\n</div>"
    }
  ],
  "metadata": {
    "deepnote_notebook_id": "f5f71c2c3c3b484dae747fed84c8804a",
    "kernelspec": {
      "display_name": "R",
      "language": "R",
      "name": "ir"
    },
    "language_info": {
      "codemirror_mode": "r",
      "file_extension": ".r",
      "mimetype": "text/x-r-source",
      "name": "R",
      "pygments_lexer": "r",
      "version": "4.3.3"
    },
    "nbsimplegrader": {
      "publish_config": {
        "classes": [],
        "options": [],
        "tools": []
      }
    }
  },
  "nbformat": 4,
  "nbformat_minor": 1
}