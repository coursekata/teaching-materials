{
  "cells": [
    {
      "cell_type": "markdown",
      "metadata": {
        "cell_id": "6e904621401e4593afab17cef12db0ab",
        "deepnote_cell_type": "markdown"
      },
      "source": "# Exploring Distributions with Histograms \n\n## Chapter 3.1-3.4 Overview Notebook"
    },
    {
      "cell_type": "code",
      "execution_count": null,
      "metadata": {
        "cell_id": "79e34b82e43146ec91d23b71b5f9f36c",
        "deepnote_cell_type": "code",
        "scrolled": true,
        "trusted": true
      },
      "outputs": [],
      "source": "# run this to set up the notebook\nsuppressMessages(library(coursekata))\n\n# read in Census at School data set\ncensus <- read.csv(\"https://docs.google.com/spreadsheets/d/e/2PACX-1vRvwncL5kF1-Y5nLEj7JeN6FzXQB2_CcelCHTLq-Ow05u4Fbsgii2PRByRIv7atjk_IrPVt92I4mPyG/pub?output=csv\")\n\n# set styles\ncensus <- select(census, region, gender, age, time_standing_on_left_leg, height, travel_time_to_school, bag_weight, left_foot_length, sleep_time)\ncss <- suppressWarnings(readLines(\"https://raw.githubusercontent.com/jimstigler/jupyter/master/ck_jupyter_styles_v2.css\"))\nIRdisplay::display_html(sprintf('<style>%s</style>', paste(css, collapse = \"\\n\")))\n"
    },
    {
      "cell_type": "markdown",
      "metadata": {
        "cell_id": "13d72dd4b56a4637b1c5d699b98e9458",
        "deepnote_cell_type": "markdown"
      },
      "source": "<div class=\"teacher-note\">\n    <b>Section Goals:</b> In this chapter students are introduced to the concept of distribution, defined as the pattern of variation in a variable. This abstract idea is first made concrete by making and interpreting histograms of quantitative data. Students will learn to create histograms with R, and will understand that:\n    <ul>\n        <li>Histograms are constructed by grouping data points into bins, which are equal-sized intervals along a quantitative measurement scale, then representing the number or proportion of data points falling within each bin by the height of the bars. Changing the bin size will affect how the data points are grouped into bars on a histogram, such that a larger bin size will result in fewer bars with more data points in each bin. </li>\n        <li>Histograms can be used to identify key features of a distribution, namely, shape, center, spread, and “weird things” (e.g., outliers or gaps); and that while distributions have these features, individual data points do not. Varying the bin sizes in a histogram will afford different insights into the distribution of the data.</li>\n    </ul>\n    A <a href=\"https://docs.google.com/document/d/1NdvgmHintsgMQnTo5_jwT8Wv3PUkV1hcj3N9iFm-eyM/edit?tab=t.5y2a0ykmi2fk#heading=h.wjaasjj3pg90\" target=\"_blank\">printable student guided-notes worksheet</a> is available to go with this Jupyter notebook, as well as a student version of this notebook.\n</div>"
    },
    {
      "cell_type": "markdown",
      "metadata": {
        "cell_id": "eb6f4538555e45a0ac3d1f8f09bb3152",
        "deepnote_cell_type": "markdown"
      },
      "source": "## 1. Data Collection Activity: Time Standing on Left Leg\n\nClose your eyes. Now, stand on your left leg for as long as you can. Have your partner measure your time in seconds and write down the number on the data collection sheet. Do it just once: we want to see how long you can go without practicing. When you are done, switch places and record time for your partner. Enter that into the data collection sheet. \n\n**Who cares how long you can stand on one leg?** It turns out, the amount of time you can balance on one leg declines with age, and in older adults it is actually a predictor of longevity!  \n\n**World record:** Ram Phal, 50, balanced on his right leg for 2 hr 21 min, improving upon his previous time by 20 min. Ram has broken this record three times before – once in 2021 and twice in 2023. “That's why I work on this same record to check my own potential as well as try to set a benchmark as high as possible.” (<a href=\"https://www.guinnessworldrecords.com/news/2024/8/blindfolded-indian-man-balances-on-one-leg-for-record-breaking-time\">Guiness Book of World Records</a>, August, 2024.)\n\n<img src=\"https://coursekata-course-assets.s3.us-west-1.amazonaws.com/UCLATALL/czi-stats-course/stand-one-leg.png\" width = 100%>"
    },
    {
      "cell_type": "markdown",
      "metadata": {
        "cell_id": "121de344dc67465a83ef9419e390ffdd",
        "deepnote_cell_type": "markdown"
      },
      "source": "<div class=\"guided-notes\">\n    \n### 1.1 Record your times on the guided notes\n</div>\n"
    },
    {
      "cell_type": "markdown",
      "metadata": {
        "cell_id": "606291b77d514eb0b676432c7cd92040",
        "deepnote_cell_type": "markdown"
      },
      "source": "## 2. Looking for Patterns of Variation\nBelow is the data from a high school class of students in New Zealand. "
    },
    {
      "cell_type": "markdown",
      "metadata": {
        "cell_id": "5ec61a5304ac4062bd2890f1c9c466de",
        "deepnote_cell_type": "markdown"
      },
      "source": "**Raw Data:** <br><br>\n<span style=\"font-size: 26px;\">15, 30, 5, 21, 25, 50, 18, 11, 17, 10, 19, 39, 20, 30, 4, 36, 12, 19, 47, 20</span>"
    },
    {
      "cell_type": "markdown",
      "metadata": {
        "cell_id": "addde20e3ffa46699f5c4c3788e12b24",
        "deepnote_cell_type": "markdown"
      },
      "source": "<div class=\"discussion-question\">\n    <h3>2.1 Key Discussion Questions: What patterns to you see in the variation across these 20 students? </h3><li>Describe characteristics of the <i>distribution</i> of standing times. </li>\n<li>What makes this a <i>distribution</i> as opposed to just a list of numbers? </li>\n<li>Now let's look at the 20 data points in order. Does that help you see any patterns more clearly?</li>\n</div>\n"
    },
    {
      "cell_type": "markdown",
      "metadata": {
        "cell_id": "824177eda812435f961582013b6a0ded",
        "deepnote_cell_type": "markdown"
      },
      "source": "<div class=\"teacher-note\">\n    <b>Teacher note:</b> A distribution is not just a list of numbers. The numbers must represent measures of something - and all the same thing - that varies in the world. Students should begin to notice that characteristics of distributions include shape, center, spread, and weird things. Just looking at numbers out of order, they may notice the range (i.e., minimum and maximum). When you sort the numbers in order, it's easier to see more patterns. When students represent the numbers in a histogram (below), it will be even easier for them to see patterns. <i>(Tip: Scroll the notebook so students only see the unsorted distribution first, then the sorted one.)</i>\n</div>"
    },
    {
      "cell_type": "markdown",
      "metadata": {
        "cell_id": "8aca8111158642e3b21ba435be181d24",
        "deepnote_cell_type": "markdown"
      },
      "source": "**Sorted Data:** <br><br>\n<span style=\"font-size: 26px;\">4, 5, 10, 11, 12, 15, 17, 18, 19, 19, 20, 20, 21, 25, 30, 30, 36, 39, 47, 50</span>"
    },
    {
      "cell_type": "markdown",
      "metadata": {
        "cell_id": "02df16805d004a04955db064f5969e32",
        "deepnote_cell_type": "markdown"
      },
      "source": "## 3. Representing a Distribution with a Histogram\nA histogram is a type of graph that helps you see characteristics of the distribution of a variable. On the x-axis is the scale on which the variable is measured - in this case, the number of seconds each person could stand on their left foot with their eyes closed. The x-axis is divided into equal-sized *bins* along the measurement scale. The y-axis shows how many data points fall within each bin.\n\n"
    },
    {
      "cell_type": "markdown",
      "metadata": {
        "cell_id": "7bb28f0ee79f45d78233e05644035589",
        "deepnote_cell_type": "markdown"
      },
      "source": "<table style=\"width: 100%; border-collapse: collapse; font-size: 1.2em; text-align: center; \">\n    <tr>\n        <th style=\"text-align: center;\">binwidth = 2</th>\n        <th style=\"text-align: center;\">binwidth = 10</th>\n    </tr>\n    <tr>\n        <td style=\"padding: 10px;\">\n            <img src=\"https://coursekata-course-assets.s3.us-west-1.amazonaws.com/UCLATALL/czi-stats-course/3.1_graph_paperx10.png\">\n        </td>\n        <td style=\"padding: 10px;\">\n            <img src=\"https://coursekata-course-assets.s3.us-west-1.amazonaws.com/UCLATALL/czi-stats-course/3.1_graph_paperx10.png\">\n        </td>\n    </tr>\n</table><br>\n<span style=\"font-size: 26px; display: block; text-align: center;\">Data: 4, 5, 10, 11, 12, 15, 17, 18, 19, 19, 20, 20, 21, 25, 30, 30, 36, 39, 47, 50</span>"
    },
    {
      "cell_type": "markdown",
      "metadata": {
        "cell_id": "5179df6f1be94bc3ac2916ee932a959b",
        "deepnote_cell_type": "markdown"
      },
      "source": "<div class=\"guided-notes\">\n    <h3>3.1 Draw a histogram with binwidth = 2 on the graph on the left</h3>\n    <ul>\n        <li>What is the lower boundary? In this case we will start it at 0. </li>\n        <li>What is the range of your data? Is there room on the x-axis to go from 0 to 50?</li>\n        <li>What is the binwidth? In this case, it's 2.</li>\n        <li>To make our histogram, shade the bars to represent the count of scores in each bin</li>\n</div>"
    },
    {
      "cell_type": "markdown",
      "metadata": {
        "cell_id": "214f23aaf39f4f188199d535e75101ed",
        "deepnote_cell_type": "markdown"
      },
      "source": "<div class=\"teacher-note\"><b>Teacher Note:</b>         \nStudents may wonder whether a score of 10 should go in the 0-10 bar or in the 10-20 bar. The convention is that the left endpoint of a bin is <i>inclusive</i>, so a score of 10 would go in the 10-20 bar.\n</div>"
    },
    {
      "cell_type": "markdown",
      "metadata": {
        "cell_id": "6b2d204f5fa6452cb7689bc5c5ec8f6c",
        "deepnote_cell_type": "markdown"
      },
      "source": "<div class=\"guided-notes\">\n    <h3>3.2 Draw a histogram with binwidth = 10 on the graph on the right</h3>\n</div>"
    },
    {
      "cell_type": "markdown",
      "metadata": {
        "cell_id": "6cb84894fb90425ab35df0ef53522b61",
        "deepnote_cell_type": "markdown"
      },
      "source": "<div class=\"discussion-question\">\n<h3>3.3 Key Discussion Questions: Interpreting histograms. </h3>\n\n- What does the height of the tallest bin (or bar) represent? \n- What does the height of the shortest bin (or bar) represent? \n- What is represented by the left-most bar of the histogram? \n- What is represented by the right-most bar of the histogram? \n- If there are any gaps between bars of a histogram, what does that mean?\n    \n</div>"
    },
    {
      "cell_type": "markdown",
      "metadata": {
        "cell_id": "6d16324f80af4d748fcf016780ec1bb4",
        "deepnote_cell_type": "markdown"
      },
      "source": "<div class=\"teacher-note\">\n\n<b>Teacher Note:</b>         \n\nYou may want to cold call through this or allow students to break into pairs to answer these questions.\n\n<b>Sample answers:</b>\n- tallest bins: most frequent values of time standing on one leg\n- shortest bins: least frequent values of time standing on one leg\n- left-most bar: the lowest values of time standing on one leg (briefest times)\n- right-most bar: the highest values of time standing on one leg (longest times)\n- gaps: no one stood on their left leg for that amount of time (no values in that bin)\n    \n</div>"
    },
    {
      "cell_type": "markdown",
      "metadata": {
        "cell_id": "510e856e14dc4737a2da4a7d3b5e6411",
        "deepnote_cell_type": "markdown"
      },
      "source": "<div class=\"discussion-question\">\n    <h3>3.4 Compare the two histograms. How does each highlight different features of the distribution? </h3>\n    Are there features you can see in the histograms that were harder to see in just the list of numbers?\n</div>\n"
    },
    {
      "cell_type": "markdown",
      "metadata": {
        "cell_id": "854736b7647d414a9dcbe20c1fea224d",
        "deepnote_cell_type": "markdown"
      },
      "source": "<div class=\"teacher-note\">\n\n<b>Sample answers:</b>\n- The histogram with a binwidth of 2 has more gaps where there aren’t any values, but the one with a binwidth of 10 looks smoother.\n- The binwidth = 10 histogram combine more values together, so you can’t see as much detail.\n- The shape looks different depending on the binwidth—like, the smaller bins show more ups and downs, but the bigger bins make it look more like one general shape.\n- In histograms (versus list of numbers), it’s easier to see where most of the values are—e.g., between 10 and 20 or 10 and 30.\n- In histograms, we can see that there are a lot more short times and only a few long times, which was harder to notice just looking at the numbers.\n    \n</div>"
    },
    {
      "cell_type": "markdown",
      "metadata": {
        "cell_id": "57a5d8012e104821a2f9ff9f871538a6",
        "deepnote_cell_type": "markdown"
      },
      "source": "## 4. Making Histograms with R"
    },
    {
      "cell_type": "markdown",
      "metadata": {
        "cell_id": "078eb0e556944ddca0db87d5362ae641",
        "deepnote_cell_type": "markdown"
      },
      "source": "<div class=\"discussion-question\"><h3>4.1 Make a Prediction: Here's the code to put the 20 data points into a vector called <code>time_standing_on_left_leg</code>. What will happen when you run this code?</h3>\n</div>"
    },
    {
      "cell_type": "code",
      "execution_count": null,
      "metadata": {
        "cell_id": "600bc56bf53b46488063f342ae2df05e",
        "deepnote_cell_type": "code",
        "trusted": true
      },
      "outputs": [],
      "source": "time_standing_on_left_leg <- c(4, 5, 10, 11, 12, 15, 17, 18, 19, 19, \n                               20, 20, 21, 25, 30, 30, 36, 39, 47, 50)\n"
    },
    {
      "cell_type": "markdown",
      "metadata": {
        "cell_id": "38d636d5b7814dcbb1fd8a47c34d8f30",
        "deepnote_cell_type": "markdown"
      },
      "source": "<div class=\"teacher-note\">\n\n<b>Sample answers:</b>\n- Students might predict that it would print these numbers out. But it won't.\n- This only saves these values as a vector (called `time_standing_on_left_leg`) in R's memory.\n    \n</div>"
    },
    {
      "cell_type": "markdown",
      "metadata": {
        "cell_id": "43b692f3d00847049f0864d6b4c6e060",
        "deepnote_cell_type": "markdown"
      },
      "source": "<div class=\"guided-notes\">\n    \n### 4.2 Create a histogram of `time_standing_on_left_leg` with `binwidth = 2`\n    \n</div>"
    },
    {
      "cell_type": "code",
      "execution_count": null,
      "metadata": {
        "cell_id": "69c4e914ce0645629b0583d7207958bc",
        "deepnote_cell_type": "code",
        "trusted": true
      },
      "outputs": [],
      "source": "# just run\ngf_histogram(~ time_standing_on_left_leg, boundary=0, binwidth=2) "
    },
    {
      "cell_type": "markdown",
      "metadata": {
        "cell_id": "0cd735fd3eba46219c4f94e45440041e",
        "deepnote_cell_type": "markdown"
      },
      "source": "<div class=\"guided-notes\">\n\n### 4.3 Create a histogram of `time_standing_on_left_leg` with `binwidth = 10`\n    \n</div>"
    },
    {
      "cell_type": "code",
      "execution_count": null,
      "metadata": {
        "cell_id": "553d56bee35349ac96b7710d04daf13f",
        "deepnote_cell_type": "code",
        "nbsimplegrader": {
          "config_key": "code.response",
          "editable": true,
          "label": "Response: Code",
          "respondable": true,
          "response": null,
          "runnable": true,
          "type": "code"
        },
        "scrolled": false,
        "trusted": true
      },
      "outputs": [],
      "source": "# code here\ngf_histogram(~ time_standing_on_left_leg, boundary=0, binwidth=10) "
    },
    {
      "cell_type": "markdown",
      "metadata": {
        "cell_id": "7c803f24bde246b880c454a740e3803f",
        "deepnote_cell_type": "markdown"
      },
      "source": "### 4.4 Try out different binwidths and boundaries to explore how they change the histogram\n\n- What if you leave out `boundary` and `binwidth`? What happens?\n- How would you modify `binwidth` to make fewer bins? Why does that work?"
    },
    {
      "cell_type": "markdown",
      "metadata": {
        "cell_id": "c285c76682244009ab93bf70f7fc327f",
        "deepnote_cell_type": "markdown"
      },
      "source": "<div class=\"teacher-note\">\n\n<b>Teacher note:</b>\n- R's defaults are to use the range of the data to find the lower and upper boundaries of the histogram. It also defaults to creating 30 bins.\n- Then take this as a starting point `gf_histogram(~ time_standing_on_left_leg, boundary = 0, binwidth = 10)` and modify it to make fewer bins (by increasing the binwidth). \n    \n</div>"
    },
    {
      "cell_type": "code",
      "execution_count": null,
      "metadata": {
        "cell_id": "448eb859391e4bf6af4b35dae78959ca",
        "deepnote_cell_type": "code",
        "nbsimplegrader": {
          "config_key": "code.response",
          "editable": true,
          "label": "Response: Code",
          "respondable": true,
          "response": null,
          "runnable": true,
          "type": "code"
        },
        "trusted": true
      },
      "outputs": [],
      "source": "# modify this\ngf_histogram(~ time_standing_on_left_leg, boundary = 0, binwidth = 10)\n\n# default histogram\ngf_histogram(~ time_standing_on_left_leg)\n\n# to make fewer bins\ngf_histogram(~ time_standing_on_left_leg, boundary = 0, binwidth = 25)"
    },
    {
      "cell_type": "markdown",
      "metadata": {
        "cell_id": "1c6a858d352c4721b4f19e7d51f9bfe2",
        "deepnote_cell_type": "markdown"
      },
      "source": "## 5. Applying What You've Learned to a Larger Dataset\nOur sample of 20 data points is useful for learning about how histograms work. But the real value of histograms is in seeing patterns in larger datasets with numerous values. Let’s apply what we've learned to a much larger dataset of 754 New Zealand high school students. **The dataset is called `census` and is already loaded into this notebook.**"
    },
    {
      "cell_type": "markdown",
      "metadata": {
        "cell_id": "aa5ed06f88584c9fb1a527893a03527a",
        "deepnote_cell_type": "markdown"
      },
      "source": "### 5.1 Check out the contents of the `census` dataset"
    },
    {
      "cell_type": "code",
      "execution_count": null,
      "metadata": {
        "cell_id": "29fe4b0ed7f84bf8970389ef42880233",
        "deepnote_cell_type": "code",
        "nbsimplegrader": {
          "config_key": "code.response",
          "editable": true,
          "label": "Response: Code",
          "respondable": true,
          "response": null,
          "runnable": true,
          "type": "code"
        },
        "trusted": true
      },
      "outputs": [],
      "source": "# sample response\nstr(census)"
    },
    {
      "cell_type": "markdown",
      "metadata": {
        "cell_id": "ad72920c9af241008e77e5855ac640d0",
        "deepnote_cell_type": "markdown"
      },
      "source": "<div class=\"guided-notes\">\n    \n### 5.2 Write the code to make a histogram of `time_standing_on_left_leg` in the `census` dataset\n   \nTry using the `boundary` and `binwidth` settings you used with the smaller dataset. Then try experimenting with different values for these arguments.\n    \n</div> "
    },
    {
      "cell_type": "code",
      "execution_count": null,
      "metadata": {
        "cell_id": "842c105b36464a7488956026e9b84f14",
        "deepnote_cell_type": "code",
        "nbsimplegrader": {
          "config_key": "code.response",
          "editable": true,
          "label": "Response: Code",
          "respondable": true,
          "response": null,
          "runnable": true,
          "type": "code"
        },
        "trusted": true
      },
      "outputs": [],
      "source": "# type this for students\ngf_histogram(~ time_standing_on_left_leg, data = census)\ngf_histogram(~ time_standing_on_left_leg, data = census, boundary = 0, binwidth = 100)"
    },
    {
      "cell_type": "markdown",
      "metadata": {
        "cell_id": "f03f47c98ed143deb7077456065889e2",
        "deepnote_cell_type": "markdown"
      },
      "source": "<div class=\"teacher-note\">\n\n<b>Teacher note:</b>\n- Students may wonder about the `Removed 27 rows...` warning. This is a warning about missing data.\n- You may want to start with the default code and then add on arguments like `boundary` and `binwidth`\n    \n</div>"
    },
    {
      "cell_type": "markdown",
      "metadata": {
        "cell_id": "84690d752c6f4d47ad2c0f1cf5330176",
        "deepnote_cell_type": "markdown"
      },
      "source": "<div class=\"discussion-question\">\n<h3>5.3 Key Discussion Question: How does this histogram differ from the ones you made of the smaller dataset</h3>\n</div>"
    },
    {
      "cell_type": "markdown",
      "metadata": {
        "cell_id": "8ba1600db33c4663a887a72cdb28784b",
        "deepnote_cell_type": "markdown"
      },
      "source": "<div class=\"teacher-note\">\n\n<b>Sample responses:</b>\n- Sometimes students may point out visual features such as skinnier bars.\n- Students might say how this is \"skewed\"; most of the data is between 0 and 100 on the x-axis but a few go all the way up to 600 seconds (that's 10 minutes of standing on one leg!). With more students in the data set, we seem to have captured a few people who are extremely good at standing on one leg.\n- Some might point out that the code is a little different -- that one of them includes `data = census`.\n    \n</div>"
    },
    {
      "cell_type": "markdown",
      "metadata": {
        "cell_id": "90dca55430304d0981df9480879b4229",
        "deepnote_cell_type": "markdown"
      },
      "source": "<div class=\"discussion-question\"><h3>5.4 Make a Prediction: If you increase the binwidth, will the numbers on the y-axis get smaller or larger? Explain your prediction.</h3>\n</div>"
    },
    {
      "cell_type": "markdown",
      "metadata": {
        "cell_id": "dca943e4da0b45b7949e3686e2bd0f90",
        "deepnote_cell_type": "markdown"
      },
      "source": "<div class=\"teacher-note\">\n\n<b>Sample responses:</b>\n- You might try going from binwidth = 10 to binwidth = 100. \n- This makes the numbers on the y-axis go up a lot because there are more values grouped into each bin now.\n    \n</div>"
    },
    {
      "cell_type": "markdown",
      "metadata": {
        "cell_id": "2da0d7ada60640b5b6a4784c6840307a",
        "deepnote_cell_type": "markdown"
      },
      "source": "### 5.5 The `bins` argument\nWe have been using the `binwidth` argument to control the width of the bins. We also could use the `bins` argument. Instead of specifying the width of the bins, the `bins` argument specifies the number of bins to use in the histogram."
    },
    {
      "cell_type": "markdown",
      "metadata": {
        "cell_id": "4d419bb8da6c455499049ff582dbcdbf",
        "deepnote_cell_type": "markdown"
      },
      "source": "<div class=\"discussion-question\">\n<h3>5.6 Make a Prediction: If we increase the number of bins, what will happen to the binwidth? Why?</h3>\n</div>"
    },
    {
      "cell_type": "code",
      "execution_count": null,
      "metadata": {
        "cell_id": "c7f8bdc582da4cf887b2bf3ff37d902a",
        "deepnote_cell_type": "code",
        "nbsimplegrader": {
          "config_key": "code.response",
          "editable": true,
          "label": "Response: Code",
          "respondable": true,
          "response": null,
          "runnable": true,
          "type": "code"
        },
        "trusted": true
      },
      "outputs": [],
      "source": "# try modifying the bins argument\ngf_histogram(~ time_standing_on_left_leg, data = census, boundary = 0, bins = 5)\n"
    },
    {
      "cell_type": "markdown",
      "metadata": {
        "cell_id": "85aa390069ca46d682df617352b51cc3",
        "deepnote_cell_type": "markdown"
      },
      "source": "<div class=\"guided-notes\">\n<h3>5.7 What is a bin? What is a bin width? How do they relate to one another?</h3>\n</div>"
    },
    {
      "cell_type": "markdown",
      "metadata": {
        "cell_id": "dc493b32856841bdb06fd028827f04b5",
        "deepnote_cell_type": "markdown"
      },
      "source": "<div class=\"teacher-note\">\n\n<b>Sample responses:</b>\n- bin sets how many bins \n- binwidth sets how wide (or skinny) the bin is\n- more bins means a smaller binwidth; larger binwidth means fewer bins (an inverse relationship)\n    \n</div>"
    },
    {
      "cell_type": "markdown",
      "metadata": {
        "cell_id": "e22f73d301fa4f6caa3366791931a253",
        "deepnote_cell_type": "markdown"
      },
      "source": "## 6. Using Histograms to See Features of Distributions\n\nNow that you know how a histogram works, now let's use them to explore some distributions. When looking at distributions, we tend to look at four features: **shape, center, spread, and weird things**."
    },
    {
      "cell_type": "code",
      "execution_count": null,
      "metadata": {
        "cell_id": "c5ca8b7b4ea348d9b02c2daa840f10b4",
        "deepnote_cell_type": "code",
        "scrolled": false,
        "trusted": true
      },
      "outputs": [],
      "source": "# run this code\ngf_histogram(~ time_standing_on_left_leg, data=census, boundary = 0, binwidth = 10)"
    },
    {
      "cell_type": "markdown",
      "metadata": {
        "cell_id": "922408f59b9046ada410d61dab9ccc39",
        "deepnote_cell_type": "markdown"
      },
      "source": "<div class=\"guided-notes\">\n<h3>6.1 Describe the shape, center, spread, and weird things in the distribution above</h3>\n</div>"
    },
    {
      "cell_type": "markdown",
      "metadata": {
        "cell_id": "2dde7d1f71494c0c830461945b445f5e",
        "deepnote_cell_type": "markdown"
      },
      "source": "<div class=\"teacher-note\">\n\n<b>Sample responses:</b>\n- shape: skewed (lots of data in one place and a few stragglers in the \"tail\")\n- center: maybe less than 100\n- spread: the range goes from 0 to 600; most of the times are less than 100\n    \n</div>"
    },
    {
      "cell_type": "markdown",
      "metadata": {
        "cell_id": "807cd2c3fc184fb19276db137b0a6b4e",
        "deepnote_cell_type": "markdown"
      },
      "source": "## 7 Practice What You Learned"
    },
    {
      "cell_type": "markdown",
      "metadata": {
        "cell_id": "908e607779884ddea2948c95e5e1af86",
        "deepnote_cell_type": "markdown"
      },
      "source": "<div class=\"teacher-note\">\n\n<b>Teacher Note:</b>\n\nAfter following along and filling in their guided notes, this is a section where students can write code and explanations on their own. You may want to have students go to **Kernel → Restart & Run All** to ensure the notebook has run all the code cells above. \n    \n</div>"
    },
    {
      "cell_type": "markdown",
      "metadata": {
        "cell_id": "e031365b7ef14006861f40149b71bbd8",
        "deepnote_cell_type": "markdown"
      },
      "source": "### 7.1 To get familiar with the data, start by inspecting the data frame `census` with functions like `head()`, `str()`, or `glimpse()`. "
    },
    {
      "cell_type": "code",
      "execution_count": null,
      "metadata": {
        "cell_id": "4007a77c027b43db98ca52de65a7cfaf",
        "deepnote_cell_type": "code",
        "nbsimplegrader": {
          "config_key": "code.response",
          "editable": true,
          "label": "Response: Code",
          "respondable": true,
          "response": null,
          "runnable": true,
          "type": "code"
        },
        "trusted": true
      },
      "outputs": [],
      "source": "# take a look at the census data frame\n"
    },
    {
      "cell_type": "markdown",
      "metadata": {
        "cell_id": "c586cd9e55ef452cae0a1b3ae8cc1ae2",
        "deepnote_cell_type": "markdown"
      },
      "source": "Let's use histograms to look at some of the other quantitative variables in the `census` dataset and describe their distributions.\n\nHere are the other variables in the `census` dataset:\n- **region**: Region of the country students live in\n- **gender**: What gender are students\n- **age**: Age in years\n- **time_standing_on_left_leg**\n- **height**: Height in centimeters\n- **travel_time_to_school**: How long does it usually take you to get to school (to nearest minute)\n- **bag_weight**: What is the weight of your school bag today (to nearest tenth of a kilogram)\n- **left_foot_length**: Length of left foot in centimeters\n- **sleep_time**: How much sleep did you get last night (to nearest half hour)\n"
    },
    {
      "cell_type": "markdown",
      "metadata": {
        "cell_id": "dbee46b380fb437cb3c775c71a8fc6e8",
        "deepnote_cell_type": "markdown"
      },
      "source": "### 7.2 Pick another quantitative variable (other than `time_standing_on_left_leg`) and make a histogram in the code cell below. Then describe the shape, center, spread, and weird things."
    },
    {
      "cell_type": "code",
      "execution_count": null,
      "metadata": {
        "cell_id": "e4fd57b582754a38a7c5ee9b2e6fd4ce",
        "deepnote_cell_type": "code",
        "nbsimplegrader": {
          "config_key": "code.response",
          "editable": true,
          "label": "Response: Code",
          "respondable": true,
          "response": null,
          "runnable": true,
          "type": "code"
        },
        "trusted": true
      },
      "outputs": [],
      "source": "# make a histogram here\n"
    },
    {
      "cell_type": "markdown",
      "metadata": {
        "cell_id": "3a8750a161ea433ab92ed19a67c3825a",
        "deepnote_cell_type": "markdown",
        "nbsimplegrader": {
          "config_key": "markdown.response",
          "editable": true,
          "label": "Response: Markdown",
          "respondable": true,
          "response": null,
          "runnable": true,
          "type": "markdown"
        }
      },
      "source": "Describe the shape, center, spread, and weird things.\n"
    },
    {
      "cell_type": "markdown",
      "metadata": {
        "cell_id": "30a92fa5c4bd4bb2a04952153652881b",
        "deepnote_cell_type": "markdown"
      },
      "source": "### 7.3 Pick another quantitative variable (other than `time_standing_on_left_leg` and the one you picked for 7.2) and make a histogram in the code cell below. Then describe the shape, center, spread, and weird things."
    },
    {
      "cell_type": "code",
      "execution_count": null,
      "metadata": {
        "cell_id": "fd4811e204e844cb8973b97acfbece66",
        "deepnote_cell_type": "code",
        "nbsimplegrader": {
          "config_key": "code.response",
          "editable": true,
          "label": "Response: Code",
          "respondable": true,
          "response": null,
          "runnable": true,
          "type": "code"
        },
        "trusted": true
      },
      "outputs": [],
      "source": "# make a histogram here\n"
    },
    {
      "cell_type": "markdown",
      "metadata": {
        "cell_id": "2ceb906c932b49a8b28b4e511dd7b9b3",
        "deepnote_cell_type": "markdown",
        "nbsimplegrader": {
          "config_key": "markdown.response",
          "editable": true,
          "label": "Response: Markdown",
          "respondable": true,
          "response": null,
          "runnable": true,
          "type": "markdown"
        }
      },
      "source": "Describe the shape, center, spread, and weird things.\n"
    },
    {
      "cell_type": "markdown",
      "metadata": {
        "cell_id": "7c37340bb7104c1bb656be98104cf85d",
        "deepnote_cell_type": "markdown"
      },
      "source": "### 7.4 Pick a categorical variable and try making a histogram in the code cell below. What happens? Why?"
    },
    {
      "cell_type": "code",
      "execution_count": null,
      "metadata": {
        "cell_id": "35b7e07d859e4db9a9f8153713a31dab",
        "deepnote_cell_type": "code",
        "nbsimplegrader": {
          "config_key": "code.response",
          "editable": true,
          "label": "Response: Code",
          "respondable": true,
          "response": null,
          "runnable": true,
          "type": "code"
        },
        "trusted": true
      },
      "outputs": [],
      "source": "# try making a histogram with a categorical variable\n"
    },
    {
      "cell_type": "markdown",
      "metadata": {
        "cell_id": "945738926a384d7a9c739cde047c9da3",
        "deepnote_cell_type": "markdown",
        "nbsimplegrader": {
          "config_key": "markdown.response",
          "editable": true,
          "label": "Response: Markdown",
          "respondable": true,
          "response": null,
          "runnable": true,
          "type": "markdown"
        }
      },
      "source": "What happens? Why?\n"
    },
    {
      "cell_type": "markdown",
      "metadata": {
        "cell_id": "4cfa048d1afa4603a1354b145e88bda9",
        "deepnote_cell_type": "markdown"
      },
      "source": "### 7.5 What is different about making a histogram from a vector (like we did for the 20 students from New Zealand) and making a histogram from a data frame (like we did from the `census` data frame)?"
    },
    {
      "cell_type": "markdown",
      "metadata": {
        "cell_id": "06c0aa19d2e2465898dc27aecff09192",
        "deepnote_cell_type": "markdown",
        "nbsimplegrader": {
          "config_key": "markdown.response",
          "editable": true,
          "label": "Response: Markdown",
          "respondable": true,
          "response": null,
          "runnable": true,
          "type": "markdown"
        }
      },
      "source": ""
    }
  ],
  "metadata": {
    "deepnote_notebook_id": "95ab39e1e0dd4c0aaa015b9ef9fa2fa2",
    "kernelspec": {
      "display_name": "R",
      "language": "R",
      "name": "ir"
    },
    "language_info": {
      "codemirror_mode": "r",
      "file_extension": ".r",
      "mimetype": "text/x-r-source",
      "name": "R",
      "pygments_lexer": "r",
      "version": "4.3.3"
    },
    "nbsimplegrader": {
      "publish_config": {
        "classes": [],
        "options": [],
        "tools": []
      }
    }
  },
  "nbformat": 4,
  "nbformat_minor": 1
}