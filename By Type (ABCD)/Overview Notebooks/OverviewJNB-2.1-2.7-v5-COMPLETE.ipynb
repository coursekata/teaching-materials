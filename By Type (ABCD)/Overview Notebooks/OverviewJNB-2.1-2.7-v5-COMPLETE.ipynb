{
  "cells": [
    {
      "cell_type": "markdown",
      "metadata": {
        "cell_id": "b035ba2ac41c4cf29214b453f4c9f0ec",
        "deepnote_cell_type": "markdown"
      },
      "source": "# Where Data Comes From (COMPLETE)\n\n## Chapter 2.1-2.7 Overview Notebook"
    },
    {
      "cell_type": "code",
      "execution_count": null,
      "metadata": {
        "cell_id": "be55260ff5dc48f69fcac48367b776d8",
        "deepnote_cell_type": "code",
        "trusted": true
      },
      "outputs": [],
      "source": "# run this to set up the notebook\nlibrary(coursekata)\n\n# set styles\ncss <- suppressWarnings(readLines(\"https://raw.githubusercontent.com/jimstigler/jupyter/master/ck_jupyter_styles_v2.css\"))\nIRdisplay::display_html(sprintf('<style>%s</style>', paste(css, collapse = \"\\n\")))\n"
    },
    {
      "cell_type": "markdown",
      "metadata": {
        "cell_id": "e6bc219671ed4cc4b57cb2114b9acc80",
        "deepnote_cell_type": "markdown"
      },
      "source": "# Table of Contents\n\n1 [Where Data Comes From](#1)\n\n2 [Reading tidy data into R](#2)\n\n3 [Variables and values](#3)\n\n4 [Counting categories](#4)\n\n5 [Practice What You Learned: Explore Our Class Data](#5)"
    },
    {
      "cell_type": "markdown",
      "metadata": {
        "cell_id": "7c696ef89c8a4ea99ad345262521b69f",
        "deepnote_cell_type": "markdown"
      },
      "source": "<div class=\"teacher-note\">\n    <b>Section Goals:</b> In this section, students learn that data results from the process of identifying features of interest that vary in the world (such as happiness, thumb length, or amount of plastic waste), and then measuring those features in a sample of cases (such as college students or beach sites).\n    <ul>\n    <li>Students will understand that sampling is the process of selecting cases from a population and that measurement is the process of quantifying features of interest in a sample.</li>\n    <li>Students are introduced to the concept of independent random sample, and the idea that a sample can be representative or biased.</li>\n    <li>Students will understand that quantitative variables result from numerical measurements that vary across cases (e.g., thumb length), and that categorical variables result from assigning objects to categories (e.g., gender or beach type). </li>\n    <li>Students will learn the distinction between a variable and its values (e.g., Thumb versus 61 mm).</li>\n    <li>Students will learn that data are typically organized in tables in which rows represent the cases or observations; columns represent the variables; and cells contain the measurements or values assigned to each case for each variable, a structure that may be referred to as “tidy data.” </li> \n    <li>Finally, students will learn that tidy datasets are stored as data frames in R, and will practice viewing and exploring data frames using functions like head(), str(), and glimpse(). They will also learn to view individual variables in a data frame using the $ operator (e.g., Fingers$Thumb).</li>\n    </ul>\n    A <a href=\"https://docs.google.com/document/d/1MpbaU1ZFmv7YPcv7LXq6Sh2ORbV9tnEjlcQ5hMaar-M/edit?tab=t.5y2a0ykmi2fk#heading=h.wjaasjj3pg90\" target=\"_blank\">printable student guided-notes worksheet</a> is available to go with this Jupyter notebook, as well as a student version of this notebook.\n</div>\n\n\n\n"
    },
    {
      "cell_type": "markdown",
      "metadata": {
        "cell_id": "2d858582bb00457f9faaeb1b3dc22311",
        "deepnote_cell_type": "markdown"
      },
      "source": "<a id =1> </a> \n## 1 Where Data Comes From\n\nData might eventually in up in a neat table or spreadsheet but that's not where it starts out. Data starts with variation in the messy world around us. Every dataset starts with a decision: What do we want to measure, and who (or what) should we measure it from?\n\nThese two big decisions are called:\n- **Sampling**: choosing the cases (e.g., people, animals, products) we want to study\n- **Measurement**: deciding what we want to record about each case, and how to do it\n\nToday, our class will act as both researchers and participants. You’ll be the cases, and we’ll measure different features of you by asking questions like: \"What’s the worst color?\" We'll use our data as an example to help us understand some key ideas about data: \n\n- What is a \"case\"? *Each person is one case in our dataset.*\n- What is a \"variable\"? *“Worst color” is one variable we're measuring.*\n- What do we mean by a \"value\"? *Each person’s answer—like “brown” or “neon green” is a value*.\n- And how do we organize all this information into a usable dataset?"
    },
    {
      "cell_type": "markdown",
      "metadata": {
        "cell_id": "e7e3f13e0b7848e49f27162e70e470d2",
        "deepnote_cell_type": "markdown"
      },
      "source": "### 1.1 Collect some data\n\nA group of students decided to collect data from their classmates on some variables of interest. They were interested in their classmates responses to seven questions:\n\n- What are your initials?\n- How  many dogs have you kissed?\n- Are you left handed or right handed? (1=left-handed; 2=right-handed)\n- How many days do you think you would survive in a zombie apocalypse?\n- Do you have a driver's license?\n- What is the worst color?\n- How extroverted are you (on a 10-point scale, where 10 is the most extroverted)?\n\nTo collect the data, they gave each classmate 7 pieces of paper, and labeled each piece with the variable they were trying to measure. Try recording the data for yourself.\n\n<img src=\"https://coursekata-course-assets.s3.us-west-1.amazonaws.com/UCLATALL/czi-stats-course/2.1-2.7-student-data.jpg\">"
    },
    {
      "cell_type": "markdown",
      "metadata": {
        "cell_id": "805e6c93f28142139a88c527db2a883a",
        "deepnote_cell_type": "markdown"
      },
      "source": "<div class=\"guided-notes\">\n\n### 1.2  Fill in your own data on the “slips of paper” (on your guided notes).\n</div>"
    },
    {
      "cell_type": "markdown",
      "metadata": {
        "cell_id": "e4d41a4c4fce4294a6db0a3a833800d0",
        "deepnote_cell_type": "markdown"
      },
      "source": "<div class=\"discussion-question\">\n    \n### 1.3 Key Discussion Question: What was hard about reporting your own data? What kinds of decisions did you have to make?\n\n</div>"
    },
    {
      "cell_type": "markdown",
      "metadata": {
        "cell_id": "b64982a4bfb44f09b2b28b65738b9bdd",
        "deepnote_cell_type": "markdown"
      },
      "source": "<div class=\"teacher-note\">\n\n<b>Teacher note:</b> Give students time to share how hard it is to decide things like \"number of dogs kissed\": What is the definition of kissed? Over what period of time? What do you do if you can't remember all the dogs you've kissed? Measurement of attributes that seem clear at first can actually be quite complicated in practice. It's important to define each variable well enough that the definition can be applied in a consistent way across each person measured.\n\n</div>\n"
    },
    {
      "cell_type": "markdown",
      "metadata": {
        "cell_id": "f6996f8225e54e1abcae3fb76c3aa179",
        "deepnote_cell_type": "markdown"
      },
      "source": "### 1.4 A small dataset\n\nBelow, the students have arranged the 7 pieces of paper for each of three students.\n\n<img src=\"https://coursekata-course-assets.s3.us-west-1.amazonaws.com/UCLATALL/czi-stats-course/2.1-2.7-data-collection.png\" width = 100%>"
    },
    {
      "cell_type": "markdown",
      "metadata": {
        "cell_id": "680f80e75a71412e9df22b5464287f84",
        "deepnote_cell_type": "markdown"
      },
      "source": "<div class=\"discussion-question\">\n    \n### 1.5 Key Discussion Questions: Look at the data from these three students. \n    \n- Describe how features such as  **handedness** or **zombie survival time** vary across the three people. What makes it hard to make these comparisons? What would make it easier?\n- Would it be harder or easier if the data for each student were not on the same row? Why?\n\n</div>"
    },
    {
      "cell_type": "markdown",
      "metadata": {
        "cell_id": "ba9c8cdae48f4faba45df733f0e80649",
        "deepnote_cell_type": "markdown"
      },
      "source": "<div class=\"teacher-note\">\n\n<b>Sample responses:</b>\n\n- I have to search to find the same variable in each row.\n- The variables are in a different order on each row; it would be easier if they were in the same order.\n- If the data from each student were not on the same row you would have no way to know which pieces of data belonged to the same student.\n\n</div>\n"
    },
    {
      "cell_type": "markdown",
      "metadata": {
        "cell_id": "18c94b7daa2e4abf953df8e0a5a06a5d",
        "deepnote_cell_type": "markdown"
      },
      "source": "### 1.6 *Tidy data:* A way to organize data to make it easier to analyze\n\nAs you noticed looking at the data above, some ways of organizing data are easier to analyze than others. There are many ways data can be organized, but the most common way, and the one we use in this class, is called **tidy data**. When organized in this way, it helps us (and computers) read, explore, and analyze the data more easily.\n\nTidy data are organized according to these three principles:\n\n| 1. Each row is a case<br>(or observation). | 2. Each column is a variable. | 3. Each cell contains a value<br>for the particular case and variable. |\n|:--:|:--:|:--:|\n| <img src=\"https://coursekata-course-assets.s3.us-west-1.amazonaws.com/UCLATALL/czi-stats-course/R9jDj2v6.png\" width=\"229px\" alt=\"Each row is a case\"> | <img src=\"https://coursekata-course-assets.s3.us-west-1.amazonaws.com/UCLATALL/czi-stats-course/HTwvwwvP.png\" width=\"230px\" alt=\"Each column is a variable\"> | <img src=\"https://coursekata-course-assets.s3.us-west-1.amazonaws.com/UCLATALL/czi-stats-course/qJKtbHzk.png\" width=\"228px\" alt=\"Each cell is a value\"> |\n"
    },
    {
      "cell_type": "markdown",
      "metadata": {
        "cell_id": "48935a99dd12446fae0645dae7e15400",
        "deepnote_cell_type": "markdown"
      },
      "source": "<div class=\"guided-notes\">\n    \n### 1.7 Complete the tidy data principles.    \n    \n</div>"
    },
    {
      "cell_type": "markdown",
      "metadata": {
        "cell_id": "b8e77c8d2a2b46ab800eb68de4aff9b9",
        "deepnote_cell_type": "markdown"
      },
      "source": "<div class=\"guided-notes\">\n\n### 1.8 Use the blank table to organize the messy data from the three students as tidy data.\n    \n<img src=\"https://coursekata-course-assets.s3.us-west-1.amazonaws.com/UCLATALL/czi-stats-course/2.1-2.7-data-collection.png\" width = 100%>\n</div>"
    },
    {
      "cell_type": "markdown",
      "metadata": {
        "cell_id": "bda8beb8fae3476ea8fecb0c5a1c87ba",
        "deepnote_cell_type": "markdown"
      },
      "source": "<a id =2> </a> \n## 2 Reading tidy data into R\n\nMany tools you might be familiar with (e.g., Google sheets, Excel spreadsheets) are organized in tidy data format. Data represented in tidy data format also usually have a **header row** at the top that tells you what each column is (e.g., the headers for this data might say **initials** or **handedness**). \n\nR uses something similar called a **data frame**—a structure that stores tidy data in rows and columns.\n\nTo work with your own data in R, a common workflow is:\n- Enter the data into a Google Sheet.\n- Export it as a CSV file (short for Comma-Separated Values, a simple text file version of the spreadsheet).\n- Use R’s `read.csv()` function to read that CSV into a data frame.\n\nWe'll practice this using a Google Sheet that another class already filled in. "
    },
    {
      "cell_type": "markdown",
      "metadata": {
        "cell_id": "e12710b78e664d73b00c4cde762becd9",
        "deepnote_cell_type": "markdown"
      },
      "source": "### 2.1 Run the code below. This saves the data frame in R's memory. But how do we look at this data frame?"
    },
    {
      "cell_type": "code",
      "execution_count": null,
      "metadata": {
        "cell_id": "85c1a60f699c42a5a10185743527dede",
        "deepnote_cell_type": "code",
        "scrolled": false,
        "trusted": true
      },
      "outputs": [],
      "source": "# edit this\nlittle_survey <- read.csv(\"https://docs.google.com/spreadsheets/d/1edJ2vEMp80CTrQV7nRv5SC7hUzFG-Oyh12b1ThIew3c/export?format=csv&id=1edJ2vEMp80CTrQV7nRv5SC7hUzFG-Oyh12b1ThIew3c&gid=0\")\n\n# sample code\nlittle_survey\nhead(little_survey)"
    },
    {
      "cell_type": "markdown",
      "metadata": {
        "cell_id": "8bbf84af41914d8ba3c91a2ac16f7c63",
        "deepnote_cell_type": "markdown"
      },
      "source": "<div class=\"discussion-question\">\n    \n### 2.2 Key Discussion Question: What happened when we ran this code?\n\n</div>"
    },
    {
      "cell_type": "markdown",
      "metadata": {
        "cell_id": "beb10849a752494ba19ae5377f28a735",
        "deepnote_cell_type": "markdown"
      },
      "source": "<div class=\"teacher-note\">\n\n<b>Teacher notes:</b> \n- Make sure students understand that this code reads the data in the CSV file located at the specified URL on the internet into a data frame in R called <b>little_survey</b>. However nothing will print out. Teach students that they can simply type the name of the data frame to look at it or use the `head()` command to look at the first 6 rows.\n- It's easy to input data from a Google Sheet into R; here's some <a href=\"https://coursekata.org/preview/book/3cc54c0e-3b8a-4804-9a2e-186c8c2bf28f/lesson/19/3\" target=\"_blank\">detailed instructions</a> on how to do that. Essentially, you first make the sheet public; then publish it to the web in CSV format; and finally use the <code>read.csv()</code> function to input the data into R.\n\n</div>\n"
    },
    {
      "cell_type": "markdown",
      "metadata": {
        "cell_id": "5e97eebb33414b52b69753a31191730b",
        "deepnote_cell_type": "markdown"
      },
      "source": "### 2.3 How can we figure out how many cases and how many variables are in the data frame? What are the variable names?"
    },
    {
      "cell_type": "code",
      "execution_count": null,
      "metadata": {
        "cell_id": "2de6e5a2bcdf40eb98f89ff56cec184b",
        "deepnote_cell_type": "code",
        "trusted": true
      },
      "outputs": [],
      "source": "# sample response\nlittle_survey"
    },
    {
      "cell_type": "markdown",
      "metadata": {
        "cell_id": "6c356ebeea344c67b8157002ce3f0d1b",
        "deepnote_cell_type": "markdown"
      },
      "source": "<div class=\"teacher-note\">\n\n<b>Teacher notes:</b>  \n\n- Let students suggest code for this. Some will suggest printing the entire data frame by typing <code>little_survey</code> and then counting the number of columns and rows.\n- Other students may notice the a little note like this: <code>A data.frame: 18 × 7</code>. They may figure out that this corresponds to 18 rows (not counting the row of variable names) and 7 columns (i.e., variables). Highlight this 18 × 7 line if no one brings it up.\n    \n</div>\n"
    },
    {
      "cell_type": "markdown",
      "metadata": {
        "cell_id": "1f8e048dae874d12b9dc386829ef7948",
        "deepnote_cell_type": "markdown"
      },
      "source": "<div class=\"guided-notes\">\n\n### 2.4 Explain what each line of R code does in your own words.\n    \n</div>"
    },
    {
      "cell_type": "markdown",
      "metadata": {
        "cell_id": "2efb520628524ad290d12bdcf162d461",
        "deepnote_cell_type": "markdown"
      },
      "source": "### 2.5 Let's learn two more functions to show you what's in the data frame\nIn the code cell below, try running `str()` and `glimpse()` to see what information they provide."
    },
    {
      "cell_type": "code",
      "execution_count": null,
      "metadata": {
        "cell_id": "d59691582e1a4445a5b0a07298af9a17",
        "deepnote_cell_type": "code",
        "trusted": true
      },
      "outputs": [],
      "source": "# code here\nstr(little_survey)\nglimpse(little_survey)"
    },
    {
      "cell_type": "markdown",
      "metadata": {
        "cell_id": "fbe17c4da4c74a11871513b936567e1c",
        "deepnote_cell_type": "markdown"
      },
      "source": "<div class=\"guided-notes\">\n    \n### 2.6 Explain what `str()` and `glimpse()` does in your own words.\n\nHow are these functions similar to and different from `head()`?\n    \n</div>"
    },
    {
      "cell_type": "code",
      "execution_count": null,
      "metadata": {
        "cell_id": "d766e5db449d4e6ebf1cb80cc91bd8bb",
        "deepnote_cell_type": "code",
        "trusted": true
      },
      "outputs": [],
      "source": "# code here\nstr(little_survey)\nglimpse(little_survey)"
    },
    {
      "cell_type": "markdown",
      "metadata": {
        "cell_id": "e291637be28c40dab987f0726bd322b1",
        "deepnote_cell_type": "markdown"
      },
      "source": "<div class=\"discussion-question\">\n\n### 2.7 Key Discussion Question: How good is this sample? Should we use it to draw conclusions about how people in general estimate their zombie survival time? Why or why not?\n</div>"
    },
    {
      "cell_type": "markdown",
      "metadata": {
        "cell_id": "00f89e04e0e5441aaa1a00ddecf6e59d",
        "deepnote_cell_type": "markdown"
      },
      "source": "<div class=\"teacher-note\">\n\n<b>Sample responses:</b>\n- It’s just a few people from a class — that’s not enough to say what everyone thinks.\n- These are other students, so it’s not a good mix of people (like old, young, different areas in the world).\n- People probably don’t know how to estimate this kind of thing anyway. (Like one person said they would survive 1,000,000 days which is more than 2,700 years.)\n"
    },
    {
      "cell_type": "markdown",
      "metadata": {
        "cell_id": "3f70c75d5e054554a4ae9941a92b2a8b",
        "deepnote_cell_type": "markdown"
      },
      "source": "<div class=\"guided-notes\">\n    \n### 2.8 What kind of critiques did you come up with: About Sampling, Measurement, or Both?\n\nThe critiques you came up with can be grouped into two broad categories:\n- **Sampling:** Concerns about the cases in the dataset. Do the cases (the people) in the sample represent the larger population we care about?\n- **Measurement:** Concerns about the values in the dataset--how the data was collected or what it tells us. Was the question clear? Did people interpret it the same way? Are the responses meaningful?\n\nIn the table are some example critiques that students (like you!) often raise. For each one, decide whether the issue is mostly about sampling, measurement, or both. Then explain your reasoning.\n    \n| **Student Critiques**                                                                     | **What kind of criticism is this? Sampling, Measurement, or Both? Why? (Explain briefly.)** |\n|:-------------------------------------------------------------------------------------------|:--------------------------------------------------------------------|\n| \"It’s just a few people from a class.\"                                                     |                                                                    |\n| \"It’s just students so it doesn't represent the whole age range.\"                         |                                                                    |\n| \"One person said they’d survive 1,000,000 days — that seems unrealistic.\"                 |                                                                    |\n| \"Students might be overconfident about their survival time.\"                              |                                                                    |\n\n    \n</div>"
    },
    {
      "cell_type": "markdown",
      "metadata": {
        "cell_id": "007d177b49f2400cb7175c3a2bfa664c",
        "deepnote_cell_type": "markdown"
      },
      "source": "<a id =3> </a> \n## 3 Variables and values\n\nIt's important to distinguish *variables* from *values*. Take a look at the head of `little_survey` (also printed in your guided notes). \n- Each **column** is a variable — something we measured, like how many dogs someone kissed, or what they think is the worst color. \n- Each **cell** contains a **value** — one person’s data for that variable."
    },
    {
      "cell_type": "code",
      "execution_count": null,
      "metadata": {
        "cell_id": "c5712685a335468388b7bc1ffc811b5d",
        "deepnote_cell_type": "code",
        "trusted": true
      },
      "outputs": [],
      "source": "# run this\nhead(little_survey)"
    },
    {
      "cell_type": "markdown",
      "metadata": {
        "cell_id": "38c6af01f33940c799d19f78a64ed614",
        "deepnote_cell_type": "markdown"
      },
      "source": "<div class=\"discussion-question\">\n    \n### 3.1 Key Discussion Question: What do you notice about how these 6 students vary in the `dogs_kissed` variable?\n\n</div>"
    },
    {
      "cell_type": "markdown",
      "metadata": {
        "cell_id": "36b7e0202fee42d7bd7e271b2aa8879d",
        "deepnote_cell_type": "markdown"
      },
      "source": "<div class=\"teacher-note\">\n\n<b>Sample responses:</b>\n- One person kissed 16 dogs!?\n- Most people kissed 0–2 dogs\n- One person didn’t answer — maybe they didn't know how many dogs they kissed.\n- Not sure if we believe these are accurate. They may not remember some dogs they kissed. What does it mean to \"kiss a dog\" anyway?\n\nNote that the student (BN) who didn't report how many dogs they had kissed was coded as `NA`. Missing data in R appear as `NA` (not available).\n\n</div>"
    },
    {
      "cell_type": "markdown",
      "metadata": {
        "cell_id": "ba40cca487c14159a34c3cec179e6f6a",
        "deepnote_cell_type": "markdown"
      },
      "source": "### 3.2 How can we look at just one variable in R?\n\nSometimes we want to look at just one column — like `dogs_kissed` — instead of the whole dataset."
    },
    {
      "cell_type": "code",
      "execution_count": null,
      "metadata": {
        "cell_id": "0f9c3e1d1966436ab6ff89698f793833",
        "deepnote_cell_type": "code",
        "trusted": true
      },
      "outputs": [],
      "source": "# write code\n\n# sample code\nlittle_survey$dogs_kissed"
    },
    {
      "cell_type": "markdown",
      "metadata": {
        "cell_id": "5af2d9535d9543fc8322b470d86e670a",
        "deepnote_cell_type": "markdown"
      },
      "source": "<div class=\"teacher-note\">\n\n<b>Teacher note:</b>\n- Students may want to return to the discussion of how this variable varies once they see values like 1,000,000 (which begs the question of whether these are believable measurements).\n</div>"
    },
    {
      "cell_type": "markdown",
      "metadata": {
        "cell_id": "bda30affe8f941949a399f55b830951c",
        "deepnote_cell_type": "markdown"
      },
      "source": "<div class=\"guided-notes\">\n    \n### 3.3 Write down the code for looking at just one variable from a data frame.\n    \n</div>"
    },
    {
      "cell_type": "markdown",
      "metadata": {
        "cell_id": "cc4dafd09b9845f2b857f7e182bd8f7c",
        "deepnote_cell_type": "markdown"
      },
      "source": "### 3.4 Why are `dogs_kissed` or `worst_color` called *variables* in the first place? What varies?\n"
    },
    {
      "cell_type": "markdown",
      "metadata": {
        "cell_id": "d54e901245c44d7db8940b1beb9d9b26",
        "deepnote_cell_type": "markdown"
      },
      "source": "<div class=\"teacher-note\">\n\n<b>Teacher note:</b>\n- You may want to annotate the guided notes to show that `dogs_kissed` is a **variable** while the numbers people reported are called **values**. \n- Students often learn the word variable (maybe it sounds math-y) but they often don't realize they need a word for *value*. \n   \n</div>"
    },
    {
      "cell_type": "markdown",
      "metadata": {
        "cell_id": "01ab744dd27540b69c75ee3e47fc2df9",
        "deepnote_cell_type": "markdown"
      },
      "source": "### 3.5 What's different about the values of a variable such as `dogs_kissed` versus a variable like `worst_color`?"
    },
    {
      "cell_type": "markdown",
      "metadata": {
        "cell_id": "6a9b987af6104a2e9875679c925b3a47",
        "deepnote_cell_type": "markdown"
      },
      "source": "<div class=\"teacher-note\">\n\n<b>Sample Response:</b>\n- One is a set of numbers; the other is a set of words. \n   \n</div>"
    },
    {
      "cell_type": "markdown",
      "metadata": {
        "cell_id": "c7842283e72e4d058137ec19b9147506",
        "deepnote_cell_type": "markdown"
      },
      "source": "<div class=\"guided-notes\">\n\n### 3.6 Circle all the quantitative variables in the `head(little_survey)` data printed in your notes. \n    \n- **Quantitative variables** contain measurements that are **numbers** — the numbers represent quantities that you can add, average, or compare. Some who gets a 2 on a quantitative variable has twice as much of whatever it is being measured than someone who gets a 1. \n- **Categorical variables** contain labels that assign each case to a **category or group**. We could represent these categories with numbers (e.g., 1=left-handed, 2=right-handed) but these numbers don't represent quantities (so, right handed is not \"twice as much as left-handed). Values of categorical variables are often just represented as words (e.g., \"gray\").\n\nIf you're not sure about one, mark it with a question mark and be ready to discuss!\n\n</div>\n"
    },
    {
      "cell_type": "markdown",
      "metadata": {
        "cell_id": "b110420597564a08b84d6adc8a77860c",
        "deepnote_cell_type": "markdown"
      },
      "source": "<div class=\"teacher-note\">\n\n<b>Teacher note:</b>  \n- Some students may assume anything numeric is quantitative; `handedness` provides a counterexample: even though the values are numbers, they stand for categories \"left\" and \"right\"\n\n<b>Sample responses:</b> \n- Quantitative variables: dogs_kissed, zombie_days, extroverted\n- Categorical variables: initials, have_dl, worst_color, handedness\n\n</div>\n"
    },
    {
      "cell_type": "markdown",
      "metadata": {
        "cell_id": "40e757df90ab4708990554817b263922",
        "deepnote_cell_type": "markdown"
      },
      "source": "### 3.7 Does R know whether a variable is quantitative or categorical?\n\nLet’s run `glimpse()` again. In addition to the name of each variable, it also tells us the **type of variable** for each variable in the data frame. (This information is conveyed inside the < > brackets in the output.)"
    },
    {
      "cell_type": "code",
      "execution_count": null,
      "metadata": {
        "cell_id": "fca1aef4742848f3979c7abc0f262152",
        "deepnote_cell_type": "code",
        "trusted": true
      },
      "outputs": [],
      "source": "# run this\nglimpse(little_survey)"
    },
    {
      "cell_type": "markdown",
      "metadata": {
        "cell_id": "ac206990d8da4e84b6716d7f0e87b253",
        "deepnote_cell_type": "markdown"
      },
      "source": "<div class=\"guided-notes\">\n\n### 3.8 Fill in what R says about the type of each variable listed, and whether you think the variable is quantitative or categorical.\n    \n- `zombie_days`\n- `have_dl`\n- `extroverted`\n- `handedness`\n\n</div>\n"
    },
    {
      "cell_type": "markdown",
      "metadata": {
        "cell_id": "1ad78703af774ac29988b233a7d39991",
        "deepnote_cell_type": "markdown"
      },
      "source": "### 3.9 Write R code to tell R that a variable is categorical (also called a \"factor\").\n\nSometimes R categorized a variable incorrectly. We coded `handedness`, for example, as 1 for left-handed and 2 for right-handed. R called it `<int>` for integer, thinking it's a quantitative variable. It's an understandable mistake; R doesn't know what *handedness* means.\n\nWe can correct the mistake by using the `factor()` function. A factor in R is always treated as **categorical**, even if it's made up of numbers. Use the code cell below to create a new version of `handedness` called `hand_factor`, and save it as a new variable in the `little_survey` data frame. Then check the data frame to make sure the new variable is there.\n"
    },
    {
      "cell_type": "code",
      "execution_count": null,
      "metadata": {
        "cell_id": "27d38380e367421ab9b276889575ed3d",
        "deepnote_cell_type": "code",
        "trusted": true
      },
      "outputs": [],
      "source": "# write code\n\n# sample code\nlittle_survey$hand_factor <- factor(little_survey$handedness)\n\nglimpse(little_survey)"
    },
    {
      "cell_type": "markdown",
      "metadata": {
        "cell_id": "9cf79265772840eea1d421fd0743d913",
        "deepnote_cell_type": "markdown"
      },
      "source": "### 3.10 Predict what you think will happen if you run each line of code. Then run the code in the cell below (one line at a time)."
    },
    {
      "cell_type": "code",
      "execution_count": null,
      "metadata": {
        "cell_id": "dccc345856f545f1ac91a156e94e136b",
        "deepnote_cell_type": "code",
        "trusted": true
      },
      "outputs": [],
      "source": "# try running each line of code one at a time\n#sum(little_survey$handedness)\n#sum(little_survey$hand_factor)"
    },
    {
      "cell_type": "markdown",
      "metadata": {
        "cell_id": "210ac5f696a34179b3ea0bda42ddf831",
        "deepnote_cell_type": "markdown"
      },
      "source": "<div class=\"discussion-question\">\n    \n### 3.11 Key Discussion Question: Why do you think we get the results we get from these lines of code?\n\n</div>"
    },
    {
      "cell_type": "markdown",
      "metadata": {
        "cell_id": "a237318fbc634fedb062abe33bdad1e5",
        "deepnote_cell_type": "markdown"
      },
      "source": "<div class=\"teacher-note\">\n\n<b>Sample responses:</b> \n- R thinks handedness is a number so it has no problem summing those numbers up.\n- R recognizes that hand_factor, although the values look like numbers, is a categorical variable so it refuses to sum those numbers up.\n\n</div>\n"
    },
    {
      "cell_type": "markdown",
      "metadata": {
        "cell_id": "77375a11bfad46158d419198719100a1",
        "deepnote_cell_type": "markdown"
      },
      "source": "### 3.12 Quantitative vs. categorical: Different names, same idea\n\nIn this class, we’ll mostly use the terms **quantitative** and **categorical** to describe types of variables. But in R (and in statistics more broadly), you’ll see other words used to describe different types of variables. For now, you can just think of all these terms as referencing the same distinction: *quantitative vs. categorical*.\n\n<br><center><table style=\"margin: 0; font-size: 16px; font-family: Segoe UI, sans-serif; border-collapse: collapse; width: auto;\">\n  <thead>\n    <tr style=\"background-color:#f2f2f2;\">\n      <th style=\"text-align: left; padding: 10px; border: 1px solid #ccc;\">Quantitative Variable</th>\n      <th style=\"text-align: left; padding: 10px; border: 1px solid #ccc;\">&nbsp;&nbsp;&nbsp;&nbsp;&nbsp;&nbsp;&nbsp;&nbsp;&nbsp;&nbsp;&nbsp;&nbsp;&nbsp;&nbsp;&nbsp;&nbsp;</th>\n      <th style=\"text-align: left; padding: 10px; border: 1px solid #ccc;\">Categorical Variable</th>\n    </tr>\n  </thead>\n  <tbody>\n    <tr>\n      <td style=\"text-align: left; padding: 10px; border: 1px solid #ccc;\">Numeric (num)</td>\n      <td style=\"text-align: left; padding: 10px; border: 1px solid #ccc;\"> </td>\n      <td style=\"text-align: left; padding: 10px; border: 1px solid #ccc;\">Character (chr)</td>\n    </tr>\n    <tr style=\"background-color:#f9f9f9;\">\n      <td style=\"text-align: left; padding: 10px; border: 1px solid #ccc;\">Integer (int)</td>\n      <td style=\"text-align: left; padding: 10px; border: 1px solid #ccc;\"> </td>\n      <td style=\"text-align: left; padding: 10px; border: 1px solid #ccc;\">Factor</td>\n    </tr>\n    <tr>\n      <td style=\"text-align: left; padding: 10px; border: 1px solid #ccc;\">Double (dbl)</td>\n      <td style=\"text-align: left; padding: 10px; border: 1px solid #ccc;\"> </td>\n      <td style=\"text-align: left; padding: 10px; border: 1px solid #ccc;\">Nominal</td>\n    </tr>\n    <tr style=\"background-color:#f9f9f9;\">\n      <td style=\"text-align: left; padding: 10px; border: 1px solid #ccc;\">Continuous</td>\n      <td style=\"text-align: left; padding: 10px; border: 1px solid #ccc;\"> </td>\n      <td style=\"text-align: left; padding: 10px; border: 1px solid #ccc;\">Qualitative</td>\n    </tr>\n    <tr>\n      <td style=\"text-align: left; padding: 10px; border: 1px solid #ccc;\">Scale</td>\n      <td style=\"text-align: left; padding: 10px; border: 1px solid #ccc;\"> </td>\n      <td style=\"text-align: left; padding: 10px; border: 1px solid #ccc;\"></td>\n    </tr>\n  </tbody>\n</table></center>\n"
    },
    {
      "cell_type": "markdown",
      "metadata": {
        "cell_id": "67d777c83adb43a287063dce7f970a61",
        "deepnote_cell_type": "markdown"
      },
      "source": "<a id =4> </a> \n## 4 Counting categories"
    },
    {
      "cell_type": "markdown",
      "metadata": {
        "cell_id": "7bf1f2eb5b254c5dab43321e0fb3538c",
        "deepnote_cell_type": "markdown"
      },
      "source": "### 4.1 How do we count how many people in this data set have a driver's license?\n\nWe can use the `tally()` function to count the number of rows that fall into each category of a categorical variable. "
    },
    {
      "cell_type": "code",
      "execution_count": null,
      "metadata": {
        "cell_id": "a76e8961cc8545b59780ffee6075a37f",
        "deepnote_cell_type": "code",
        "trusted": true
      },
      "outputs": [],
      "source": "# write code\n\n# sample code\ntally(~have_dl, data = little_survey)"
    },
    {
      "cell_type": "markdown",
      "metadata": {
        "cell_id": "fed82c44231f4b7aa0b3f75c418f8104",
        "deepnote_cell_type": "markdown"
      },
      "source": "<div class=\"discussion-question\">\n\n### 4.2 We found that 6 students in `little_survey` have driver's licenses. Can we add that information to the `little_survey` data frame? Why or why not?\n    \n</div>\n"
    },
    {
      "cell_type": "markdown",
      "metadata": {
        "cell_id": "ab3c21bb4d284c96aa5b207f7747ef5a",
        "deepnote_cell_type": "markdown"
      },
      "source": "<div class=\"teacher-note\">\n\n<b>Teacher note:</b> Some students will suggest that a new row could be added. Ask them how this would or would not violate the three principles of tidy data (in this case, this row would not represent another case of the same thing. It wouldn't be a person, but a row describing the whole dataset. In tidy data, \"Each row should represent one case **of the same kind.**\"\n\n</div>\n"
    },
    {
      "cell_type": "markdown",
      "metadata": {
        "cell_id": "f15d302b65dc46f7acd01dc6be468e76",
        "deepnote_cell_type": "markdown"
      },
      "source": "<div class=\"guided-notes\">\n\n### 4.3 Practice using `tally()` to count other categories in the data.\nFor each variable, write the code and report the findings. \n\n</div>"
    },
    {
      "cell_type": "code",
      "execution_count": null,
      "metadata": {
        "cell_id": "3aef0e253e8a480a856180943cf5593d",
        "deepnote_cell_type": "code",
        "trusted": true
      },
      "outputs": [],
      "source": "# code here\n\n# sample code\ntally(~handedness, data = little_survey)\ntally(~worst_color, data = little_survey)"
    },
    {
      "cell_type": "markdown",
      "metadata": {
        "cell_id": "46ea6335f70e49f89fe7602fae8132a7",
        "deepnote_cell_type": "markdown"
      },
      "source": "<a id =5> </a> \n## 5 Practice What You Learned: Explore Our Class Data\n\nLet's read our own class's data into an R data frame and see what we find. \n\nUse this shared Google Sheet to add your own row: **[Teacher Shares Link]**\n\nOnce it is complete, you can use this CSV link: **[Teacher Shares Link]**\n"
    },
    {
      "cell_type": "markdown",
      "metadata": {
        "cell_id": "4a1119681af74e8ebb4120a473a83cf1",
        "deepnote_cell_type": "markdown"
      },
      "source": "### 5.1 How many cases are in the data set? How many variables?"
    },
    {
      "cell_type": "markdown",
      "metadata": {
        "cell_id": "7334795f4cf64f4483684933049f38a2",
        "deepnote_cell_type": "markdown"
      },
      "source": "### 5.2 How many quantitative variables should there be? "
    },
    {
      "cell_type": "markdown",
      "metadata": {
        "cell_id": "5bc2cc89200f4915be19e90fca8b7eca",
        "deepnote_cell_type": "markdown"
      },
      "source": "### 5.3 How many categorical variables should there be? "
    },
    {
      "cell_type": "markdown",
      "metadata": {
        "cell_id": "776c33c683db4332926d774158369feb",
        "deepnote_cell_type": "markdown"
      },
      "source": "### 5.4 Are there any variables that should be one type but R sees them as a different type? What's going on? What can we do to fix those?"
    },
    {
      "cell_type": "markdown",
      "metadata": {
        "cell_id": "d77fd4ab9b7147129d537ee5b2159edb",
        "deepnote_cell_type": "markdown"
      },
      "source": "### 5.5 Try creating the `hand_factor` variable. Use R code to tally up how many left-handed people are in our class."
    }
  ],
  "metadata": {
    "deepnote_notebook_id": "2cea08d689d249a6b75cbff2fbbec968",
    "kernelspec": {
      "display_name": "R",
      "language": "R",
      "name": "ir"
    },
    "language_info": {
      "codemirror_mode": "r",
      "file_extension": ".r",
      "mimetype": "text/x-r-source",
      "name": "R",
      "pygments_lexer": "r",
      "version": "4.3.3"
    },
    "nbsimplegrader": {
      "publish_config": {
        "classes": [],
        "options": [],
        "tools": []
      }
    }
  },
  "nbformat": 4,
  "nbformat_minor": 1
}