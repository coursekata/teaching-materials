{
  "cells": [
    {
      "cell_type": "markdown",
      "metadata": {
        "cell_id": "8ccd0832d3da4516b1f8202b3c6e9eef",
        "deepnote_cell_type": "markdown",
        "id": "28081313"
      },
      "source": "\n# Data Detective: Clean the Plants Dataset\n\nYou've already looked at this dataset on paper — now it’s time to try out some R commands in code.\n\nWe'll work with functions like `filter()`, `mutate()`, `select()`, and `arrange()` to explore and clean the data.\n\n---\nQ1: Run the code cell below to load and view the dataset.\n"
    },
    {
      "cell_type": "code",
      "execution_count": null,
      "metadata": {
        "cell_id": "36ff094bb5234e849d615aa8acb5d389",
        "deepnote_cell_type": "code",
        "id": "6f5d1b57",
        "trusted": true
      },
      "outputs": [],
      "source": "\nlibrary(tidyverse)\n\n# Load the plants dataset\nplants <- read.csv(\"https://docs.google.com/spreadsheets/d/e/2PACX-1vR-lYQcIdTG9XG-WMNPRhwTZOhc4iY_prAbgFlejAmnxJyjkQQmJkrfLbKORWk4UV6cXN5TBnvfEJdp/pub?output=csv\")\n\n# Take a look at the first few rows\nhead(plants)\n"
    },
    {
      "cell_type": "markdown",
      "metadata": {
        "cell_id": "02a9e61939a24de18a95926c3f65a95d",
        "deepnote_cell_type": "markdown",
        "id": "79e949cd"
      },
      "source": "\n---\n\n### Q2: Filter Out Missing Heights\n\nUse `filter()` to remove rows where the plant height is missing.  \nReplace the blank below with the correct column name.\n"
    },
    {
      "cell_type": "code",
      "execution_count": null,
      "metadata": {
        "cell_id": "493a2d8b42aa40d4a6ee062cf309b019",
        "deepnote_cell_type": "code",
        "id": "6cd1a347",
        "trusted": true
      },
      "outputs": [],
      "source": "\nplants_filtered <- plants %>%\n  filter(!is.na())\n\nhead(plants_filtered)\n"
    },
    {
      "cell_type": "markdown",
      "metadata": {
        "cell_id": "2a391a68646f47bc94c7d513fb4b520c",
        "deepnote_cell_type": "markdown",
        "id": "d03611c1"
      },
      "source": "\n---\n\n### Q3: Convert Height to Inches\n\nUse `mutate()` to create a new column called `height_in` that converts `height_cm` to inches.  \n(1 inch = 2.54 cm)\n"
    },
    {
      "cell_type": "code",
      "execution_count": null,
      "metadata": {
        "cell_id": "6c1c7276e5b64039babf2804b8f0561f",
        "deepnote_cell_type": "code",
        "id": "cef935fc",
        "trusted": true
      },
      "outputs": [],
      "source": "\nplants_filtered <- plants_filtered %>%\n  mutate( = )\n\nhead(plants_filtered)\n"
    },
    {
      "cell_type": "markdown",
      "metadata": {
        "cell_id": "4d669db556fa4c3dbb2bf38fc01dc045",
        "deepnote_cell_type": "markdown",
        "id": "4ff58599"
      },
      "source": "\n---\n\n### Q4: Select Only Key Columns\n\nUse `select()` to view just the plant `name`, `height_in`, and `toxicity_level`.\n"
    },
    {
      "cell_type": "code",
      "execution_count": null,
      "metadata": {
        "cell_id": "1dbabf56c70b4e54846f96a524b16135",
        "deepnote_cell_type": "code",
        "id": "92573336",
        "trusted": true
      },
      "outputs": [],
      "source": "\nplants_filtered %>%\n  select()\n"
    },
    {
      "cell_type": "markdown",
      "metadata": {
        "cell_id": "ca905e3f07dd478c8f9e986756444018",
        "deepnote_cell_type": "markdown",
        "id": "e17bb730"
      },
      "source": "\n---\n\n### Q5: Arrange by Height\n\nUse `arrange()` to sort the data from shortest to tallest plants.\n"
    },
    {
      "cell_type": "code",
      "execution_count": null,
      "metadata": {
        "cell_id": "289a2b314bf54d8180b1f8aaa1146159",
        "deepnote_cell_type": "code",
        "id": "fd40a88f",
        "trusted": true
      },
      "outputs": [],
      "source": "\nplants_filtered %>%\n  arrange()\n"
    },
    {
      "cell_type": "markdown",
      "metadata": {
        "cell_id": "9b856eeafa97489ab82b1fb84b857f69",
        "deepnote_cell_type": "markdown",
        "id": "7311fd4b"
      },
      "source": "\n---\n\n### Q6: Convert 'type_num' from Character to Numeric\n\nThe column `type_num` is currently stored as text (character).  \nUse `mutate()` to convert it to numeric.\n"
    },
    {
      "cell_type": "code",
      "execution_count": null,
      "metadata": {
        "cell_id": "a4a0168c9944468697b75877f529b148",
        "deepnote_cell_type": "code",
        "id": "656c7e67",
        "trusted": true
      },
      "outputs": [],
      "source": "\nplants_filtered <- plants_filtered %>%\n  mutate( = as.numeric())\n\nstr(plants_filtered)\n"
    }
  ],
  "metadata": {
    "deepnote_notebook_id": "836b6ec896534b349f8c0a434b439094",
    "kernelspec": {
      "display_name": "R",
      "language": "R",
      "name": "ir"
    },
    "language_info": {
      "codemirror_mode": "r",
      "file_extension": ".r",
      "mimetype": "text/x-r-source",
      "name": "R",
      "pygments_lexer": "r",
      "version": "4.3.3"
    },
    "nbsimplegrader": {
      "publish_config": {
        "classes": [],
        "options": {},
        "tools": []
      }
    }
  },
  "nbformat": 4,
  "nbformat_minor": 1
}