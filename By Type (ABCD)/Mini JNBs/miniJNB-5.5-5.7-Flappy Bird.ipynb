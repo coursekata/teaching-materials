{
  "cells": [
    {
      "cell_type": "markdown",
      "metadata": {
        "cell_id": "4186668eaeda45a6a2b2cbfbebec2df8",
        "deepnote_cell_type": "markdown"
      },
      "source": "#  Fitting the Empty Model for Flappy Bird Scores\n\n## Chapter 5.5 - 5.7 "
    },
    {
      "cell_type": "code",
      "execution_count": null,
      "metadata": {
        "cell_id": "25caa74766e7443395264a5e810e7fb6",
        "deepnote_cell_type": "code",
        "execution_context_id": "57074c1b-56dc-4078-b5d4-00f4c8228150",
        "execution_millis": 1107,
        "execution_start": 1743702784619,
        "scrolled": false,
        "source_hash": "240debbc",
        "trusted": true
      },
      "outputs": [],
      "source": "# This code will load the R packages we will use\nlibrary(coursekata)"
    },
    {
      "cell_type": "markdown",
      "metadata": {
        "nbsimplegrader": {
          "config_key": "markdown.response",
          "editable": true,
          "label": "Response: Markdown",
          "respondable": true,
          "response": null,
          "runnable": true,
          "type": "markdown"
        }
      },
      "source": "**Collect Your Data:** \n- Play 3 rounds of [Flappy Bird](https://flappybird.io/) and record your scores."
    },
    {
      "cell_type": "code",
      "execution_count": null,
      "metadata": {
        "nbsimplegrader": {
          "config_key": "code.response",
          "editable": true,
          "label": "Response: Code",
          "respondable": true,
          "response": null,
          "runnable": true,
          "type": "code"
        },
        "trusted": true
      },
      "outputs": [],
      "source": "#enter the class data into scores and adjust the ID to reflect the number of students\n\nID <- 1:30\nscores <- c()\nclassdata <- data.frame(ID, scores)\n"
    },
    {
      "cell_type": "markdown",
      "metadata": {},
      "source": "### 1 View the distribution of `scores`"
    },
    {
      "cell_type": "code",
      "execution_count": null,
      "metadata": {
        "nbsimplegrader": {
          "config_key": "code.response",
          "editable": true,
          "label": "Response: Code",
          "respondable": true,
          "response": null,
          "runnable": true,
          "type": "code"
        },
        "trusted": true
      },
      "outputs": [],
      "source": "#make a histogram of scores and adjust the number of bins\n\n"
    },
    {
      "cell_type": "markdown",
      "metadata": {},
      "source": "### 2 Fit the empty model to `scores`"
    },
    {
      "cell_type": "code",
      "execution_count": null,
      "metadata": {
        "nbsimplegrader": {
          "config_key": "code.response",
          "editable": true,
          "label": "Response: Code",
          "respondable": true,
          "response": null,
          "runnable": true,
          "type": "code"
        },
        "trusted": true
      },
      "outputs": [],
      "source": "#code here\n\n"
    },
    {
      "cell_type": "markdown",
      "metadata": {},
      "source": "### 4 Predicted scores\n\nSave the predicted `scores` for each student and add the empty model to the histogram above."
    },
    {
      "cell_type": "code",
      "execution_count": null,
      "metadata": {
        "nbsimplegrader": {
          "config_key": "code.response",
          "editable": true,
          "label": "Response: Code",
          "respondable": true,
          "response": null,
          "runnable": true,
          "type": "code"
        },
        "trusted": true
      },
      "outputs": [],
      "source": "#complete and run the code\n\n\n#check that the predictions are saved\n\n"
    },
    {
      "cell_type": "markdown",
      "metadata": {},
      "source": "### 6 Residuals for all students\n\nCalculate the residuals for all students.  Then create a visualization of the residuals."
    },
    {
      "cell_type": "code",
      "execution_count": null,
      "metadata": {
        "nbsimplegrader": {
          "config_key": "code.response",
          "editable": true,
          "label": "Response: Code",
          "respondable": true,
          "response": null,
          "runnable": true,
          "type": "code"
        },
        "trusted": true
      },
      "outputs": [],
      "source": "#complete and run code here\n\n\n#check that the residuals are saved\n\n"
    },
    {
      "cell_type": "code",
      "execution_count": null,
      "metadata": {
        "nbsimplegrader": {
          "config_key": "code.response",
          "editable": true,
          "label": "Response: Code",
          "respondable": true,
          "response": null,
          "runnable": true,
          "type": "code"
        },
        "trusted": true
      },
      "outputs": [],
      "source": "#complete and run the code for the visualization of residuals (adjust number of bins similar to scores)\n\ngf_histogram()\n"
    }
  ],
  "metadata": {
    "deepnote_notebook_id": "93365a0e84e4470aa612b848c32da8f2",
    "kernelspec": {
      "display_name": "R",
      "language": "R",
      "name": "ir"
    },
    "language_info": {
      "codemirror_mode": "r",
      "file_extension": ".r",
      "mimetype": "text/x-r-source",
      "name": "R",
      "pygments_lexer": "r",
      "version": "4.3.3"
    },
    "nbsimplegrader": {
      "publish_config": {
        "classes": [],
        "options": {},
        "tools": []
      }
    }
  },
  "nbformat": 4,
  "nbformat_minor": 1
}