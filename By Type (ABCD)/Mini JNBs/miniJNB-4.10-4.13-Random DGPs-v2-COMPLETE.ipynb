{
  "cells": [
    {
      "cell_type": "markdown",
      "metadata": {
        "cell_id": "37afbe15535e4c2ebbab3f18e9594b35",
        "deepnote_cell_type": "markdown"
      },
      "source": "#  Can the Scent of Chocolate Get You to Spend More in a Book Store? (COMPLETE)\n\n## Chapter 4.10-4.13 Understanding How Randomness Can Generate Patterns of Data"
    },
    {
      "cell_type": "code",
      "execution_count": null,
      "metadata": {
        "cell_id": "ebe007f54f3a47e5afc1041db085a23d",
        "deepnote_cell_type": "code",
        "trusted": true
      },
      "outputs": [],
      "source": "# This code will load the R packages we will use\nlibrary(coursekata)\n\n# set styles\ncss <- suppressWarnings(readLines(\"https://raw.githubusercontent.com/jimstigler/jupyter/master/ck_jupyter_styles_v2.css\"))\nIRdisplay::display_html(sprintf('<style>%s</style>', paste(css, collapse = \"\\n\")))\n\n# Load the data\n# https://r-packages.io/datasets/mcgrath\ninstall.packages(\"experimentr\")\nlibrary(experimentr)\nmcgrath$treatment <- factor(mcgrath$treatment)"
    },
    {
      "cell_type": "markdown",
      "metadata": {
        "cell_id": "bbd65be268de4c43bb3325ad88635149",
        "deepnote_cell_type": "markdown"
      },
      "source": "<div class=\"teacher-note\">\n    <b>Teacher Note:</b> The purpose of this mini-JNB is to practice thinking about randomness as a DGP, and using shuffle() to explore the range of outcomes a random DGP might produce."
    },
    {
      "cell_type": "markdown",
      "metadata": {
        "cell_id": "40daabcf28b948de8fb747144a5a55d6",
        "deepnote_cell_type": "markdown"
      },
      "source": "## 1 About the `mcgrath` Data\n\nResearcher Mary McGrath and colleagues conducted an experiment to test the effects of ambient scents on consumer behavior. They went to a bookstore in Canada that had an adjoining cafe, and across a span of 31 experimental days, the researchers randomly assigned each day to be either a treatment or a control day. On treatment days, they would release the scent of chocolate throughout the bookstore. They measured store sales on all of the days. \n\nBelow are the variables in the data frame:\n\n- `treatment`: Treatment indicator (1 = treatment, 0 = control)\n- `book`: Sales of books\n- `coffee`: Sales of bulk coffee, tea, or spices\n- `food`: Sales of food\n- `grandtotal`: Total of book, coffee, and food sales\n\n\n[data source](https://r-packages.io/datasets/mcgrath)\n\nMcGrath, Mary C., et al. “Chocolate Scents and Product Sales: A Randomized Controlled Trial in a Canadian Bookstore and Café.” SpringerPlus, vol. 5, no. 1, 2016, https://doi.org/10.1186/s40064-016-2303-5."
    },
    {
      "cell_type": "markdown",
      "metadata": {
        "cell_id": "d98c5e4720f24b87b574916b126f7551",
        "deepnote_cell_type": "markdown"
      },
      "source": "### 1.1 Take a look at the `mcgrath` data frame."
    },
    {
      "cell_type": "code",
      "execution_count": null,
      "metadata": {
        "cell_id": "cff476732665481383d1187874c69ec7",
        "deepnote_cell_type": "code",
        "nbsimplegrader": {
          "config_key": "code.response",
          "editable": true,
          "label": "Response: Code",
          "respondable": true,
          "response": null,
          "runnable": true,
          "type": "code"
        },
        "trusted": true
      },
      "outputs": [],
      "source": "# 1.1\n# run code here\n"
    },
    {
      "cell_type": "code",
      "execution_count": null,
      "metadata": {
        "cell_id": "7f53b7c5869347e1a1c685f5f38c1b7c",
        "deepnote_cell_type": "code",
        "trusted": true
      },
      "outputs": [],
      "source": "# 1.1\n# sample response\n\nstr(mcgrath)"
    },
    {
      "cell_type": "markdown",
      "metadata": {
        "cell_id": "9db930c8d6d744b8867bba9a034c6c93",
        "deepnote_cell_type": "markdown"
      },
      "source": "## 2 Thinking about the DGP"
    },
    {
      "cell_type": "markdown",
      "metadata": {
        "cell_id": "840970a04b754b48adbfc9cad7427864",
        "deepnote_cell_type": "markdown"
      },
      "source": "We could explore a few ideas with this dataset, but let's start with this question: Will ambient chocolate scent affect book sales?\n\n### 2.1 Write the two possible word equations:\n\n1. Write the researchers' hypothesis as a word equation.\n\n2. Write the word equation that represents the idea that `treatment` does NOT explain variation in the outcome variable."
    },
    {
      "cell_type": "markdown",
      "metadata": {
        "cell_id": "40d778fb7fd14cd28164a96d3f90f326",
        "deepnote_cell_type": "markdown",
        "nbsimplegrader": {
          "config_key": "markdown.response",
          "editable": true,
          "label": "Response: Markdown",
          "respondable": true,
          "response": null,
          "runnable": true,
          "type": "markdown"
        }
      },
      "source": "2.1 Response:"
    },
    {
      "cell_type": "markdown",
      "metadata": {
        "cell_id": "4a5fdf82890345888eeb5e771124b308",
        "deepnote_cell_type": "markdown"
      },
      "source": "<div class=\"teacher-note\">\n\n<b>Sample Response</b>: \n   \n1. book = treatment + other stuff\n    \n2. book = other stuff\n    \n</div>"
    },
    {
      "cell_type": "markdown",
      "metadata": {
        "cell_id": "13687e8edfef4d8db6eb760894d56731",
        "deepnote_cell_type": "markdown"
      },
      "source": "### 2.2 If it turns out that `treatment` does indeed explain variation in book sales, will we be able to say that it also *causes* variation in book sales? Why or why not?"
    },
    {
      "cell_type": "markdown",
      "metadata": {
        "cell_id": "853079aae170465d9fefefdaabff71bb",
        "deepnote_cell_type": "markdown",
        "nbsimplegrader": {
          "config_key": "markdown.response",
          "editable": true,
          "label": "Response: Markdown",
          "respondable": true,
          "response": null,
          "runnable": true,
          "type": "markdown"
        }
      },
      "source": "2.2 Response:"
    },
    {
      "cell_type": "markdown",
      "metadata": {
        "cell_id": "d8ff42109ba747a183f4ee1634517783",
        "deepnote_cell_type": "markdown"
      },
      "source": "<div class=\"teacher-note\">\n\n<b>Sample Response</b>: Yes, because the experimental design involved random assignment of the treatment condition.\n</div>"
    },
    {
      "cell_type": "markdown",
      "metadata": {
        "cell_id": "46f3435190bc4dfb962d2c6383e95737",
        "deepnote_cell_type": "markdown"
      },
      "source": "In a bit, we will make a jitter plot to look at the distribution of `book` by `treatment`. Before we do, let’s think about what we might expect to see. \n\n### 2.3 If there is such a thing as an affect of chocolate scent on book sales, would the jitter plot look like the one on the left or the right? Explain why you think so.\n\n\n<img src=\"https://i.imgur.com/js9QYw5.png\" title=\"On the left, a jitter plot where the one distribution is generally lower than the other. On the right, a jitter plot where the distributions are roughly similar\" width = 600/>"
    },
    {
      "cell_type": "markdown",
      "metadata": {
        "cell_id": "441e2d257b474f4ca5df073acea091f4",
        "deepnote_cell_type": "markdown",
        "nbsimplegrader": {
          "config_key": "markdown.response",
          "editable": true,
          "label": "Response: Markdown",
          "respondable": true,
          "response": null,
          "runnable": true,
          "type": "markdown"
        }
      },
      "source": "2.3 Response:"
    },
    {
      "cell_type": "markdown",
      "metadata": {
        "cell_id": "af38a826047d45579be1b1d452ed1f38",
        "deepnote_cell_type": "markdown"
      },
      "source": "<div class=\"teacher-note\">\n\n<b>Sample Response</b>: We would expect it to look more like the plot on the left because it shows one group tends to be associated with higher values, while the plot on the right has a lot of overlap between the two groups, and there doesn't seem to be much of a difference between the groups.\n</div>"
    },
    {
      "cell_type": "markdown",
      "metadata": {
        "cell_id": "ca4c556538ce4044b031a565354b0deb",
        "deepnote_cell_type": "markdown"
      },
      "source": "### 2.4 Which word equation would go with each plot?"
    },
    {
      "cell_type": "markdown",
      "metadata": {
        "cell_id": "dcf2bd51d73249e6ade8b1b2660ecb3d",
        "deepnote_cell_type": "markdown",
        "nbsimplegrader": {
          "config_key": "markdown.response",
          "editable": true,
          "label": "Response: Markdown",
          "respondable": true,
          "response": null,
          "runnable": true,
          "type": "markdown"
        }
      },
      "source": "2.4 Response:"
    },
    {
      "cell_type": "markdown",
      "metadata": {
        "cell_id": "8ed25d670ba247df8fd6b50d98d592b2",
        "deepnote_cell_type": "markdown"
      },
      "source": "<div class=\"teacher-note\">\n\n<b>Sample Response</b>: \n   \n1. book = treatment + other stuff --> plot on the left\n    \n2. book = other stuff --> plot on the right\n    \n</div>"
    },
    {
      "cell_type": "markdown",
      "metadata": {
        "cell_id": "4e20eab0762c478a80ec4f37198c52ae",
        "deepnote_cell_type": "markdown"
      },
      "source": "## 3 Visualize the Hypothesis"
    },
    {
      "cell_type": "markdown",
      "metadata": {
        "cell_id": "f4a04a58047c4707b2e9abcd07756ae9",
        "deepnote_cell_type": "markdown"
      },
      "source": "### 3.1 Create a jitter plot to explore the hypothesis."
    },
    {
      "cell_type": "code",
      "execution_count": null,
      "metadata": {
        "cell_id": "2e8177a2dd154664b9a1cc12809c9a19",
        "deepnote_cell_type": "code",
        "nbsimplegrader": {
          "config_key": "code.response",
          "editable": true,
          "label": "Response: Code",
          "respondable": true,
          "response": null,
          "runnable": true,
          "type": "code"
        },
        "trusted": true
      },
      "outputs": [],
      "source": "# 3.1\n# run code here\n\n"
    },
    {
      "cell_type": "code",
      "execution_count": null,
      "metadata": {
        "cell_id": "5861d9389f414f07959f4155bfc1733f",
        "deepnote_cell_type": "code",
        "trusted": true
      },
      "outputs": [],
      "source": "# 3.1\n# sample response\ngf_jitter(book~treatment, data = mcgrath, width = .2, color = \"chocolate4\")"
    },
    {
      "cell_type": "markdown",
      "metadata": {
        "cell_id": "6ec588f0e1ae425e9eb6f7e9b7e57e07",
        "deepnote_cell_type": "markdown"
      },
      "source": "### 3.2 Does it look as if `treatment` explains variation in `book`? Use the features of the distribution to make one argument for \"yes\" and one argument for \"no\"?"
    },
    {
      "cell_type": "markdown",
      "metadata": {
        "cell_id": "74fda37b0178454aad9e69e892de35b1",
        "deepnote_cell_type": "markdown",
        "nbsimplegrader": {
          "config_key": "markdown.response",
          "editable": true,
          "label": "Response: Markdown",
          "respondable": true,
          "response": null,
          "runnable": true,
          "type": "markdown"
        }
      },
      "source": "3.2 Response:"
    },
    {
      "cell_type": "markdown",
      "metadata": {
        "cell_id": "8d849d0fd7c34c79b1673741efd4bc67",
        "deepnote_cell_type": "markdown"
      },
      "source": "<div class=\"teacher-note\">\n\n<b>Sample Response</b>: \n   \n1. Yes, it does: The chocolate scent group has some of the highest book sale days, and the no chocolate scent group has some of the lowest book sale days.\n    \n2. No, it doesn't: The distributions have A LOT of overlap. There is not very much difference between the two groups.\n    \n</div>"
    },
    {
      "cell_type": "markdown",
      "metadata": {
        "cell_id": "571ec5e7fe3c469594fe57e15a965ff6",
        "deepnote_cell_type": "markdown"
      },
      "source": "## 4 Could it be Random?\n\nTo figure out which of these is the better representation of the DGP:\n\n1. book = treatment + other stuff\n2. book = other stuff\n\nLet's conduct a bunch of simulations of the `book = other stuff` DGP (where `treatment` doesn't matter) by mixing up the values of `book` so they are randomly matched to a new row."
    },
    {
      "cell_type": "markdown",
      "metadata": {
        "cell_id": "d74cca94a1cc45cb9644aaf78dacbf1d",
        "deepnote_cell_type": "markdown"
      },
      "source": "### 4.1 Compare the distribution of our data to the distributions produced by simulations of a randomized DGP (run the simulation at least 10 times). What is similar and what is different across each shuffled plot?"
    },
    {
      "cell_type": "code",
      "execution_count": null,
      "metadata": {
        "cell_id": "916f6d5266fd40d9adf6795210ac6e98",
        "deepnote_cell_type": "code",
        "nbsimplegrader": {
          "config_key": "code.response",
          "editable": true,
          "label": "Response: Code",
          "respondable": true,
          "response": null,
          "runnable": true,
          "type": "code"
        },
        "scrolled": false,
        "trusted": true
      },
      "outputs": [],
      "source": "# 4.1\n# shuffle `book` in your plot\n\n\n# copy and paste the plot code multiple times to see many at once\n\n"
    },
    {
      "cell_type": "code",
      "execution_count": null,
      "metadata": {
        "cell_id": "650a7b5a271943c38cdd6dd57150da24",
        "deepnote_cell_type": "code",
        "nbsimplegrader": {
          "config_key": "code.edit-and-run",
          "editable": true,
          "label": "Code: Edit-and-Run",
          "respondable": false,
          "response": null,
          "runnable": true,
          "type": "code"
        },
        "scrolled": false,
        "trusted": true
      },
      "outputs": [],
      "source": "# 4.1\n# Sample Code\ngf_jitter(shuffle(book)~treatment, data = mcgrath, width = .2, color = \"chocolate4\")\ngf_jitter(shuffle(book)~treatment, data = mcgrath, width = .2, color = \"chocolate4\")\ngf_jitter(shuffle(book)~treatment, data = mcgrath, width = .2, color = \"chocolate4\")\ngf_jitter(shuffle(book)~treatment, data = mcgrath, width = .2, color = \"chocolate4\")\ngf_jitter(shuffle(book)~treatment, data = mcgrath, width = .2, color = \"chocolate4\")\ngf_jitter(shuffle(book)~treatment, data = mcgrath, width = .2, color = \"chocolate4\")\ngf_jitter(shuffle(book)~treatment, data = mcgrath, width = .2, color = \"chocolate4\")\ngf_jitter(shuffle(book)~treatment, data = mcgrath, width = .2, color = \"chocolate4\")\ngf_jitter(shuffle(book)~treatment, data = mcgrath, width = .2, color = \"chocolate4\")\ngf_jitter(shuffle(book)~treatment, data = mcgrath, width = .2, color = \"chocolate4\")\ngf_jitter(shuffle(book)~treatment, data = mcgrath, width = .2, color = \"chocolate4\")\ngf_jitter(shuffle(book)~treatment, data = mcgrath, width = .2, color = \"chocolate4\")"
    },
    {
      "cell_type": "markdown",
      "metadata": {
        "cell_id": "0bdcd8b7d25449588bf8032b49186f0e",
        "deepnote_cell_type": "markdown",
        "nbsimplegrader": {
          "config_key": "markdown.response",
          "editable": true,
          "label": "Response: Markdown",
          "respondable": true,
          "response": null,
          "runnable": true,
          "type": "markdown"
        }
      },
      "source": "4.1 Response:"
    },
    {
      "cell_type": "markdown",
      "metadata": {
        "cell_id": "aaff494ec8c247d7982a27df35d8407e",
        "deepnote_cell_type": "markdown"
      },
      "source": "<div class=\"teacher-note\">\n\n<b>Sample Response</b>: \n   \n- Similarities: They have a similar range and spread.\n    \n- Differences: The individual data points randomly appear in different treatment groups in each plot. Each time you run it, the distribution is slightly varied.\n    \n</div>"
    },
    {
      "cell_type": "markdown",
      "metadata": {
        "cell_id": "d859cdb3c9dc49b7bb802af8716d9c3b",
        "deepnote_cell_type": "markdown"
      },
      "source": " ### 4.2 Find the case with the highest book sales. What happens to it each time you shuffle the plot?"
    },
    {
      "cell_type": "markdown",
      "metadata": {
        "cell_id": "9b65b77702824c62b0cc85c93efc2c75",
        "deepnote_cell_type": "markdown",
        "nbsimplegrader": {
          "config_key": "markdown.response",
          "editable": true,
          "label": "Response: Markdown",
          "respondable": true,
          "response": null,
          "runnable": true,
          "type": "markdown"
        }
      },
      "source": "4.2 Response:"
    },
    {
      "cell_type": "markdown",
      "metadata": {
        "cell_id": "468138b62a264315a739efea0fd65985",
        "deepnote_cell_type": "markdown"
      },
      "source": "<div class=\"teacher-note\">\n\n<b>Sample Response</b>: It randomly switches from the treatment to the no treatment group.\n    \n</div>"
    },
    {
      "cell_type": "markdown",
      "metadata": {
        "cell_id": "bb0e8c0da3d944b683848d8af5fae5b3",
        "deepnote_cell_type": "markdown"
      },
      "source": "### 4.3 Given your analyses, which word equation of the DGP does the data appear to match more closely?"
    },
    {
      "cell_type": "markdown",
      "metadata": {
        "cell_id": "27e2160a86594eecb78d7cbb1e8ec2da",
        "deepnote_cell_type": "markdown",
        "nbsimplegrader": {
          "config_key": "markdown.response",
          "editable": true,
          "label": "Response: Markdown",
          "respondable": true,
          "response": null,
          "runnable": true,
          "type": "markdown"
        }
      },
      "source": "4.3 Response:"
    },
    {
      "cell_type": "markdown",
      "metadata": {
        "cell_id": "b407cd155427427089f5f65976a31fef",
        "deepnote_cell_type": "markdown"
      },
      "source": "<div class=\"teacher-note\">\n\n<b>Sample Response</b>: book = other stuff\n    \n</div>"
    },
    {
      "cell_type": "markdown",
      "metadata": {
        "cell_id": "c66278d9e95840f080922847fae9630b",
        "deepnote_cell_type": "markdown"
      },
      "source": "### 4.4 What does that suggest about the researchers' hypothesis? Is there an effect of scent, or does it appear to be other stuff affecting book sales?"
    },
    {
      "cell_type": "markdown",
      "metadata": {
        "cell_id": "8e34a749c2814671ab7b00b9f0f84c6a",
        "deepnote_cell_type": "markdown",
        "nbsimplegrader": {
          "config_key": "markdown.response",
          "editable": true,
          "label": "Response: Markdown",
          "respondable": true,
          "response": null,
          "runnable": true,
          "type": "markdown"
        }
      },
      "source": "4.4 Response:"
    },
    {
      "cell_type": "markdown",
      "metadata": {
        "cell_id": "81abc207ec784e439d612de37ad1b65b",
        "deepnote_cell_type": "markdown"
      },
      "source": "<div class=\"teacher-note\">\n\n<b>Sample Response</b>: There does not appear to be an effect of chocolate scent on book sales.\n    \n</div>"
    }
  ],
  "metadata": {
    "deepnote_notebook_id": "7ec5bd6095ba48d0a456d02ac69039fc",
    "kernelspec": {
      "display_name": "R",
      "language": "R",
      "name": "ir"
    },
    "language_info": {
      "codemirror_mode": "r",
      "file_extension": ".r",
      "mimetype": "text/x-r-source",
      "name": "R",
      "pygments_lexer": "r",
      "version": "4.3.3"
    },
    "nbsimplegrader": {
      "publish_config": {
        "classes": [],
        "options": [],
        "tools": []
      }
    }
  },
  "nbformat": 4,
  "nbformat_minor": 1
}