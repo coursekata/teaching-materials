{
  "cells": [
    {
      "cell_type": "markdown",
      "metadata": {
        "cell_id": "954b6587aafb404aac65ce557a24f113",
        "deepnote_cell_type": "markdown",
        "tags": []
      },
      "source": "<div class=\"alert alert-block alert-danger\">\n\n# <center>00A: Conceptual vs Procedural Understanding of Math (COMPLETE)</center>\n\nThis lesson can be completed at the very start of the course, even before the students have started reading any of the text. It is aimed at helping them see why this course will focus on a conceptual understanding of the material more than a procedural one.\n\n**Use with textbook version 6.0+**\n\n</div>"
    },
    {
      "cell_type": "markdown",
      "metadata": {
        "cell_id": "60dca3702da34e52b168efd6b7d07720",
        "deepnote_cell_type": "markdown",
        "tags": []
      },
      "source": "<div class=\"alert alert-block alert-warning\">\n\nThe lesson demonstrates a common mistake made when students are given the \"bean\" problem. They often resort to the procedure of setting up a fraction addition problem and finding the common denominator. However, this results in an answer that does not make any sense in the context of the problem. A drawing of the bean piles will clearly show this. Applying a procedure without also applying conceptual understanding can lead to mistakes in our approach and the conclusions we draw.\n \n</div> "
    },
    {
      "cell_type": "markdown",
      "metadata": {
        "cell_id": "26bd169d790b4df6b3dac86abd35c044",
        "deepnote_cell_type": "markdown",
        "tags": []
      },
      "source": "<div class=\"alert alert-block alert-success\">\n\n## Approximate time to complete Notebook: 25-30 Mins\n\n</div>"
    },
    {
      "cell_type": "markdown",
      "metadata": {
        "cell_id": "92c28e84c51f41dd87d792a19e5abf17",
        "deepnote_cell_type": "markdown",
        "tags": []
      },
      "source": "## 1.0 - Conceptual?"
    },
    {
      "cell_type": "markdown",
      "metadata": {
        "cell_id": "7b21a094d1e0416fa95817f68c3eabdc",
        "deepnote_cell_type": "markdown",
        "tags": []
      },
      "source": "This class is designed to foster a **conceptual** understanding of math. But what does that mean?"
    },
    {
      "cell_type": "markdown",
      "metadata": {
        "cell_id": "fca198e7478848498cbd90e7fc715252",
        "deepnote_cell_type": "markdown",
        "owner_user_id": "23d85493-7ed1-49a4-baa7-630eaab08193",
        "tags": []
      },
      "source": "1.1 - What is a *conceptual* understanding of math?"
    },
    {
      "cell_type": "markdown",
      "metadata": {
        "cell_id": "ef30367d6b5642079b35374dfb2ab2be",
        "deepnote_cell_type": "markdown",
        "tags": []
      },
      "source": "<div class=\"alert alert-block alert-warning\">\n\n**Sample Responses**\n\n- understand what answer means\n- understand why the procedure works\n- be able to explain it\n- (student might have circular answers) understanding concepts, really \"know\" it\n- (some confuse with procedural) getting the correct answer\n\n</div>"
    },
    {
      "cell_type": "markdown",
      "metadata": {
        "cell_id": "4babbcee1a9f4036b1f6d9ec0ec8525d",
        "deepnote_cell_type": "markdown",
        "tags": []
      },
      "source": "1.2 - What is a *procedural* understanding of math?"
    },
    {
      "cell_type": "markdown",
      "metadata": {
        "cell_id": "67a639439a2d4e00ac3b57eeb288f509",
        "deepnote_cell_type": "markdown",
        "tags": []
      },
      "source": "<div class=\"alert alert-block alert-warning\">\n\n**Sample Responses**\n\n- know the steps\n- solve problems correctly\n- memorize the rules\n\n</div>"
    },
    {
      "cell_type": "markdown",
      "metadata": {
        "cell_id": "d18379fea81345a588b431de5c113b01",
        "deepnote_cell_type": "markdown",
        "tags": []
      },
      "source": "## 2.0 - The Bean Problem"
    },
    {
      "cell_type": "markdown",
      "metadata": {
        "cell_id": "5064e0fbbf8c49ffa5601fb535de2552",
        "deepnote_cell_type": "markdown",
        "tags": []
      },
      "source": "Read this problem. Instead of solving it, consider two students' approaches to the problem:\n\n> There are two piles of beans.  One pile has 1 red bean out of 3 total beans (the other 2 beans are black), so 1/3 of the beans are red.  The other pile has 6 red beans out of a total of 8 beans (2 beans are black), so 6/8 of the beans are red.  If the two piles are combined, what is the fraction of beans that are red?"
    },
    {
      "cell_type": "markdown",
      "metadata": {
        "cell_id": "c1b6d844f20e4cbd8bcd6eabe9b44714",
        "deepnote_cell_type": "markdown",
        "tags": []
      },
      "source": "2.1 - Here is Student A's solution. Check their math. Are they allowed to do this?\n\n<img src=\"https://coursekata-course-assets.s3.us-west-1.amazonaws.com/UCLATALL/czi-stats-course/jnb_q4c7WXpL-00a1.png\" title=\"Solving Bean Problem using common denominator strategy.\"/>\n"
    },
    {
      "cell_type": "markdown",
      "metadata": {
        "cell_id": "4d1295b1c5494eb7939a03af6dfdbbbf",
        "deepnote_cell_type": "markdown",
        "tags": []
      },
      "source": "<div class=\"alert alert-block alert-warning\">\n\n**Sample Responses**\n- Students may disagree.\n- They **are** allowed to do this because they did the right procedures.\n- They **are not** allowed to do this because the answer they get doesn't make any sense. (What does 26/24 mean? 26 red beans out of 24 total beans? There aren't 24 beans anyway. Where did that 24 come from?) \n\n</div>"
    },
    {
      "cell_type": "markdown",
      "metadata": {
        "cell_id": "27e229710eed46cea751b6dfc07c5fbd",
        "deepnote_cell_type": "markdown",
        "tags": []
      },
      "source": "2.2 - Here is Student B's solution. Check their math. Are they allowed to do this?\n\n<img src=\"https://coursekata-course-assets.s3.us-west-1.amazonaws.com/UCLATALL/czi-stats-course/jnb_y1TfwbrK-00a2.png\" title=\"Solving Bean Problem by adding numerators and adding denominators\"/>"
    },
    {
      "cell_type": "markdown",
      "metadata": {
        "cell_id": "e925da8fada2433cb845f6dde178466d",
        "deepnote_cell_type": "markdown",
        "tags": []
      },
      "source": "<div class=\"alert alert-block alert-warning\">\n\n**Sample Response**\n- Students may disagree.\n- No, they **are not** allowed to do this because you are not supposed to add denominators.\n- Yes, they **are** allowed to do this because it gives us an answer that makes sense. We can just draw it as a picture to prove that it is 7 red beans out of 11 total beans. \n\n Additional Potential Questions:\n\n - Wait, why are they allowed to do this? How come this works?\n - Why doesn't the common denominator procedure work here?\n\n (Because these are actually not fractions, these are whole beans represented as a ratio of red to black beans. If you aren't thinking conceptually, you may be misguided into thinking that you need to apply the common denominator procedure.)\n\n</div>"
    },
    {
      "cell_type": "markdown",
      "metadata": {
        "cell_id": "04c70f6efecc441297f79c3564bb167e",
        "deepnote_cell_type": "markdown",
        "tags": []
      },
      "source": "2.3 - Which student demonstrated *conceptual understanding* of the bean problem? Which student is ultimately right?"
    },
    {
      "cell_type": "markdown",
      "metadata": {
        "cell_id": "5d931a3b7edc46aa847a6053166933a1",
        "deepnote_cell_type": "markdown",
        "tags": []
      },
      "source": "<div class=\"alert alert-block alert-warning\">\n\n**Sample Response**\n\nStudent B demonstrated conceptual understanding because they did not just automatically apply a procedure without thinking about whether it made sense to do so. Student B is ultimately correct.\n\n</div>"
    },
    {
      "cell_type": "markdown",
      "metadata": {
        "cell_id": "527b15159a8040538ecdaf6c2e8accd6",
        "deepnote_cell_type": "markdown",
        "tags": []
      },
      "source": "2.4 - Why do you think conceptual understanding might be important in statistics and data science?"
    },
    {
      "cell_type": "markdown",
      "metadata": {
        "cell_id": "c42b0b70e53f4e9b9c497f8916d2c900",
        "deepnote_cell_type": "markdown",
        "tags": []
      },
      "source": "<div class=\"alert alert-block alert-warning\">\n\n**Possible Reasons**\n\n- Because it helps us think more deeply about how to solve a problem\n- It can help prevent incorrect solutions\n- Data science and statistics are more than just a bunch of procedures to memorize, they are also a bunch of interconnected concepts that need to be understood in order to solve problems and answer big (and small!) questions\n\n</div>"
    }
  ],
  "metadata": {
    "deepnote_notebook_id": "cc2bc8884c7b489c966e7673ddb8fefb",
    "kernelspec": {
      "display_name": "R",
      "language": "R",
      "name": "ir"
    },
    "language_info": {
      "codemirror_mode": "r",
      "file_extension": ".r",
      "mimetype": "text/x-r-source",
      "name": "R",
      "pygments_lexer": "r",
      "version": "4.3.3"
    },
    "nbsimplegrader": {
      "publish_config": {
        "classes": [],
        "options": [],
        "tools": []
      }
    }
  },
  "nbformat": 4,
  "nbformat_minor": 1
}