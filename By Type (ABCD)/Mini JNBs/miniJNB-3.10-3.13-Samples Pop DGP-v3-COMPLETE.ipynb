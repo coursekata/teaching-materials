{
  "cells": [
    {
      "cell_type": "markdown",
      "metadata": {
        "cell_id": "84ef78498b384a9d9a3b4554090e0e01",
        "deepnote_cell_height": 276.3125,
        "deepnote_cell_type": "markdown"
      },
      "source": "# Art and Math - Exploring Variation and the DGP (COMPLETE)\n## Chapter 3.10-3.13 Samples, Populations, and the Data Generating Process (DGP)"
    },
    {
      "cell_type": "code",
      "execution_count": null,
      "metadata": {
        "cell_id": "731645e7013f468a850f75efb057a629",
        "deepnote_cell_height": 129.953125,
        "deepnote_cell_type": "code",
        "deepnote_to_be_reexecuted": false,
        "execution_context_id": "6f8c1dfc-33ce-4e50-9a57-3f7ae689a924",
        "execution_millis": 1013,
        "execution_start": 1745115562197,
        "output_cleared": false,
        "source_hash": "116f7300",
        "trusted": true
      },
      "outputs": [],
      "source": "# This code will load the R packages we will use\nsuppressPackageStartupMessages({\n    library(coursekata)\n})\n\n# set styles\ncss <- suppressWarnings(readLines(\"https://raw.githubusercontent.com/jimstigler/jupyter/master/ck_jupyter_styles.css\"))\nIRdisplay::display_html(sprintf('<style>%s</style>', paste(css, collapse = \"\\n\")))\n\n# Load the data frame: \nEyes <- read.csv(\"https://docs.google.com/spreadsheets/d/e/2PACX-1vTJaUfRbLITc3EKByD3oDD4PhwfPBTN6FdAnCJUukTQwfd_k8ZGOzFj8wWwPIc1tw9XvJkPxz7k41zV/pub?output=csv\", header = TRUE) %>%\n  select(Participant, Midline, EyesHigherMid, EyeLevel)\nnames(Eyes)[4] <- \"EyesHigherChin\""
    },
    {
      "cell_type": "markdown",
      "metadata": {
        "cell_id": "74a7919a0b524d829afafeb28a90043a",
        "deepnote_cell_height": 403.859375,
        "deepnote_cell_type": "markdown",
        "owner_user_id": "23d85493-7ed1-49a4-baa7-630eaab08193",
        "tags": []
      },
      "source": "<div class=\"teacher-note\">\n    <b>Teacher Note:</b> The goal of this notebook is to give students a chance to connect the shape of a distribution to the Data Generating Process. \n</div>"
    },
    {
      "cell_type": "markdown",
      "metadata": {
        "cell_id": "c533b716e07e4f6991402525c9d5d999",
        "deepnote_cell_height": 317.71875,
        "deepnote_cell_type": "markdown"
      },
      "source": "## 1 Where are our eyes?\n\n<img src=\"https://coursekata-course-assets.s3.us-west-1.amazonaws.com/UCLATALL/czi-stats-course/jnb_SyJmv8SS-d-Jgm-Ibz-Imgur.png\" title=\"a sketch of a head\" width = 20% align = \"left\" valign = \"bottom\"/> \nWhen people are taught to sketch faces, they are told to place the eyes at the midline of the head (see picture). This sometimes strikes people as wrong because they think the eyes are slightly above the midline of the head. What do you think about this idea?\n"
    },
    {
      "cell_type": "markdown",
      "metadata": {
        "cell_id": "b459fe74059c4936bb11be29c51ad222",
        "deepnote_cell_height": 572.828125,
        "deepnote_cell_type": "markdown"
      },
      "source": "### The Head Sketch Survey Data: `Eyes`\n\nTo help us put this artistic advice to the test, some students from Cal State LA have collected some data by measuring their heads. The whole survey can be found here: [Head Sketch Survey](https://docs.google.com/document/d/10X8G1BPz0nlEi409VV4LuORQNKf8LG4oCeB4wHhZN5Q/edit). Feel free to look the survey document over to get an idea of the instructions they had to follow (but you do NOT need to measure your own head).\n\nFirst, students were asked to guess whether their eyes were at their midline (before measuring). Then they measured their heads with a centimeter ruler. They filled in these boxes.\n"
    },
    {
      "cell_type": "markdown",
      "metadata": {
        "cell_id": "f68294460e564077b8b8f62ba1be288b",
        "deepnote_cell_type": "markdown"
      },
      "source": "### 1.1 Look at the data frame."
    },
    {
      "cell_type": "code",
      "execution_count": null,
      "metadata": {
        "cell_id": "745444a49a7743448846aa99712c198e",
        "deepnote_cell_height": 480.859375,
        "deepnote_cell_type": "code",
        "deepnote_output_heights": [
          275.90625
        ],
        "deepnote_to_be_reexecuted": false,
        "execution_context_id": "6f8c1dfc-33ce-4e50-9a57-3f7ae689a924",
        "execution_millis": 1577,
        "execution_start": 1745115563256,
        "nbsimplegrader": {
          "config_key": "code.response",
          "editable": true,
          "label": "Response: Code",
          "respondable": true,
          "response": null,
          "runnable": true,
          "type": "code"
        },
        "output_cleared": false,
        "source_hash": "698718b0",
        "trusted": true
      },
      "outputs": [],
      "source": "# Print a little of the `Eyes` data frame\n"
    },
    {
      "cell_type": "code",
      "execution_count": null,
      "metadata": {
        "cell_id": "a2223629eaab483e93f91b4a6071d6d8",
        "deepnote_cell_height": 480.859375,
        "deepnote_cell_type": "code",
        "deepnote_output_heights": [
          275.90625
        ],
        "deepnote_to_be_reexecuted": false,
        "execution_context_id": "6f8c1dfc-33ce-4e50-9a57-3f7ae689a924",
        "execution_millis": 1577,
        "execution_start": 1745115563256,
        "output_cleared": false,
        "source_hash": "698718b0",
        "trusted": true
      },
      "outputs": [],
      "source": "# sample response\nhead(Eyes)\n"
    },
    {
      "cell_type": "markdown",
      "metadata": {
        "cell_id": "394c9841752e4f70a970210751ac7b22",
        "deepnote_cell_height": 401.4375,
        "deepnote_cell_type": "markdown"
      },
      "source": "Here are the descriptions for the variables you will find in the `Eyes` data frame:\n\n- `Participant` The participant number for each person\n- `Midline` How high is your midline (from your chin to the top of your head), in cm (self-measured)?\n- `EyesHigherMid` How much higher than the midline are your eyes, in cm (self-measured)?\n- `EyesHigherChin` How high are your eyes from your chin, in cm (self-measured)?\n\n\n<img src=\"https://i.postimg.cc/81twFD9j/head-sketch.png\" title=\"a sketch of a head with descriptions labeling where each of the measurements were taken\" width = 70% align = \"center\"/> "
    },
    {
      "cell_type": "markdown",
      "metadata": {
        "cell_id": "c60f644070ce4fbab6833e42f6143811",
        "deepnote_cell_height": 69.96875,
        "deepnote_cell_type": "markdown"
      },
      "source": "## 2 Exploring and Describing the Data"
    },
    {
      "cell_type": "markdown",
      "metadata": {
        "cell_id": "23fb4b9aa9dc426aac8cf150f8fceee6",
        "deepnote_cell_height": 74.75,
        "deepnote_cell_type": "markdown"
      },
      "source": "### 2.1 Create a histogram to explore variation in `EyesHigherMid`.\n\nFeel free to play around with arguments and chain markers such as color, fill, labels, density curves, bins, and binwidth!"
    },
    {
      "cell_type": "code",
      "execution_count": null,
      "metadata": {
        "cell_id": "aa312acc1b3c4ce69f553351ac1ad245",
        "deepnote_cell_height": 706.953125,
        "deepnote_cell_type": "code",
        "deepnote_output_heights": [
          610
        ],
        "deepnote_to_be_reexecuted": false,
        "execution_context_id": "6f8c1dfc-33ce-4e50-9a57-3f7ae689a924",
        "execution_millis": 232,
        "execution_start": 1745115564886,
        "nbsimplegrader": {
          "config_key": "code.response",
          "editable": true,
          "label": "Response: Code",
          "respondable": true,
          "response": null,
          "runnable": true,
          "type": "code"
        },
        "source_hash": "884d8b04",
        "tags": [],
        "trusted": true
      },
      "outputs": [],
      "source": "# run code here\n\n"
    },
    {
      "cell_type": "code",
      "execution_count": null,
      "metadata": {
        "cell_id": "bf99928f342b478988d8109c2af52792",
        "deepnote_cell_height": 706.953125,
        "deepnote_cell_type": "code",
        "deepnote_output_heights": [
          610
        ],
        "deepnote_to_be_reexecuted": false,
        "execution_context_id": "6f8c1dfc-33ce-4e50-9a57-3f7ae689a924",
        "execution_millis": 232,
        "execution_start": 1745115564886,
        "source_hash": "884d8b04",
        "tags": [],
        "trusted": true
      },
      "outputs": [],
      "source": "# sample response\ngf_dhistogram(~EyesHigherMid, data=Eyes, boundary = 0, binwidth = 1) \n\n"
    },
    {
      "cell_type": "markdown",
      "metadata": {
        "cell_id": "6c3597e64dd5486987e281130696760f",
        "deepnote_cell_height": 74.75,
        "deepnote_cell_type": "markdown"
      },
      "source": "### 2.2 Why does this distribution look like this? Does this help us explore whether our eyes are generally around the midline of our face? "
    },
    {
      "cell_type": "markdown",
      "metadata": {
        "cell_id": "b86294559d884b0f886aa99284531c07",
        "deepnote_cell_height": 339.46875,
        "deepnote_cell_type": "markdown",
        "nbsimplegrader": {
          "config_key": "markdown.response",
          "editable": true,
          "label": "Response: Markdown",
          "respondable": true,
          "response": null,
          "runnable": true,
          "type": "markdown"
        },
        "tags": []
      },
      "source": "2.2 Response:"
    },
    {
      "cell_type": "markdown",
      "metadata": {
        "cell_id": "af0417061d2948f488e1d0750eebf4ea",
        "deepnote_cell_height": 339.46875,
        "deepnote_cell_type": "markdown",
        "tags": []
      },
      "source": "<div class=\"teacher-note\">\n\n<b>Sample Response</b>:\n    \nThe distribution is bimodal.\n\nIt looks like some people have their eyes 10+ cm above their midline! This appears to be a mistake made when interpreting the instructions. Perhaps students measured how high up their eyes are from their chin by mistake.\n\nThe values closer to zero appear to be correct, since, based on what we know about human faces, eyes should be basically at the midline or not more than a few cm above or below their midline.\n\nThis does not help us explore the idea because the information is inaccurate.\n    \n</div>"
    },
    {
      "cell_type": "markdown",
      "metadata": {
        "cell_id": "b24c4339b43e470e922397212f855ae1",
        "deepnote_cell_height": 111.140625,
        "deepnote_cell_type": "markdown"
      },
      "source": "### 2.3 How might we use the other variables in the dataset to figure out the distance between the middle of the face and the eyes?"
    },
    {
      "cell_type": "markdown",
      "metadata": {
        "cell_id": "8b17ce568ede413c984dcf1d13dc26ad",
        "deepnote_cell_height": 339.46875,
        "deepnote_cell_type": "markdown",
        "nbsimplegrader": {
          "config_key": "markdown.response",
          "editable": true,
          "label": "Response: Markdown",
          "respondable": true,
          "response": null,
          "runnable": true,
          "type": "markdown"
        },
        "tags": []
      },
      "source": "2.3 Response:"
    },
    {
      "cell_type": "markdown",
      "metadata": {
        "cell_id": "0c67369b216d4b19af0e3ded8fc43cbb",
        "deepnote_cell_height": 339.46875,
        "deepnote_cell_type": "markdown",
        "tags": []
      },
      "source": "<div class=\"teacher-note\">\n\n<b>Sample Response</b>:\n    \nSince we have the `Midline` and the height of the eyes relative to the chin (`EyesHigherChin`), we can use subtraction to get the difference between them.\n    \n</div>"
    },
    {
      "cell_type": "markdown",
      "metadata": {
        "cell_id": "4662693883314fb28d4d50f1c4eaa340",
        "deepnote_cell_height": 111.140625,
        "deepnote_cell_type": "markdown"
      },
      "source": "### 2.4 Correct the mistake and save it as a new variable to better explore the idea that our eyes are around the midline of our face."
    },
    {
      "cell_type": "code",
      "execution_count": null,
      "metadata": {
        "cell_id": "a62ad4e7ebe74ef0bfd4751bfc920d37",
        "deepnote_cell_height": 1834.84375,
        "deepnote_cell_type": "code",
        "deepnote_output_heights": [
          275.90625,
          610,
          610
        ],
        "deepnote_to_be_reexecuted": false,
        "execution_context_id": "6f8c1dfc-33ce-4e50-9a57-3f7ae689a924",
        "execution_millis": 432,
        "execution_start": 1745115565166,
        "nbsimplegrader": {
          "config_key": "code.response",
          "editable": true,
          "label": "Response: Code",
          "respondable": true,
          "response": null,
          "runnable": true,
          "type": "code"
        },
        "output_cleared": false,
        "source_hash": "bd6f33ce",
        "tags": [],
        "trusted": true
      },
      "outputs": [],
      "source": "# You can correct the mistakes in EyesHigherMid by \n# subtracting Midline from EyesHigherChin\nEyes$EyesCalc <- (Eyes$_______) - (Eyes$_______)\n\n# Check that the correction worked\nhead(Eyes)\n\n# Explore the new variable `EyesCalc` with a visualization\n\n"
    },
    {
      "cell_type": "code",
      "execution_count": null,
      "metadata": {
        "cell_id": "67f79c52ce414038b745070bd6be32fb",
        "deepnote_cell_height": 1834.84375,
        "deepnote_cell_type": "code",
        "deepnote_output_heights": [
          275.90625,
          610,
          610
        ],
        "deepnote_to_be_reexecuted": false,
        "execution_context_id": "6f8c1dfc-33ce-4e50-9a57-3f7ae689a924",
        "execution_millis": 432,
        "execution_start": 1745115565166,
        "nbsimplegrader": {
          "config_key": "code.edit-and-run",
          "editable": true,
          "label": "Code: Edit-and-Run",
          "respondable": false,
          "response": null,
          "runnable": true,
          "type": "code"
        },
        "output_cleared": false,
        "source_hash": "bd6f33ce",
        "tags": [],
        "trusted": true
      },
      "outputs": [],
      "source": "# sample response\n\n# You can correct the mistakes in EyesHigherMid by \n# subtracting Midline from EyesHigherChin\nEyes$EyesCalc <- (Eyes$EyesHigherChin) - (Eyes$Midline)\n\n# Check that the correction worked\nhead(Eyes)\n\n# Explore the new variable `EyesCalc` with a visualization\ngf_histogram(~EyesCalc, data=Eyes, bins = 4)\n\n\n\n"
    },
    {
      "cell_type": "markdown",
      "metadata": {
        "cell_id": "7dfca9f7b0544d1aaf80f03530f5a6de",
        "deepnote_cell_height": 52.359375,
        "deepnote_cell_type": "markdown"
      },
      "source": "### 2.5 What does the data tell you about the “eyes at midline” artistic advice?"
    },
    {
      "cell_type": "markdown",
      "metadata": {
        "cell_id": "26a412417d164524b431befb8a5a5f04",
        "deepnote_cell_height": 185.515625,
        "deepnote_cell_type": "markdown",
        "nbsimplegrader": {
          "config_key": "markdown.response",
          "editable": true,
          "label": "Response: Markdown",
          "respondable": true,
          "response": null,
          "runnable": true,
          "type": "markdown"
        },
        "tags": []
      },
      "source": "2.5 Response:"
    },
    {
      "cell_type": "markdown",
      "metadata": {
        "cell_id": "68e2547c30744a69a839ce31e59784fc",
        "deepnote_cell_height": 185.515625,
        "deepnote_cell_type": "markdown",
        "tags": []
      },
      "source": "<div class=\"teacher-note\">\n\n<b>Sample Response</b>:\n\nLooking at the data, it appears that the advice may be a little \"off\". While many people have their eyes exactly at the midline, there are even more people who have eyes that are slightly higher than the midline, and even a few people who have eyes slightly below the midlilne.\n    \n</div>"
    },
    {
      "cell_type": "markdown",
      "metadata": {
        "cell_id": "689a140ec240448a8cddb30106e1741b",
        "deepnote_cell_height": 483.671875,
        "deepnote_cell_type": "markdown"
      },
      "source": "## 3 Thinking about the DGP and Different Samples\n\n|    With Mistakes                                           |     Without Mistakes                                      | \n|-----------------------------------------------|-------------------------------------------| \n|   <img src=\"https://i.postimg.cc/dJ22zv9L/with-mistakes.png\" title = \"temp\" width = \"90%\"> |  <img src=\"https://i.postimg.cc/81TRG3yw/without-mistakes.png\" width = \"90%\"> |\n"
    },
    {
      "cell_type": "markdown",
      "metadata": {
        "cell_id": "b8c9a51cc5ad43659632668dc9e92a95",
        "deepnote_cell_height": 97.140625,
        "deepnote_cell_type": "markdown"
      },
      "source": "### 3.1 - If a different class of college students measured how much higher their eyes are above the midline, would the distribution of their data be similar? \n\nWould it be more similar to the one with mistakes or the one without mistakes? How would it be similar/different? \n\n(Notice that you are generating a little theory about the Data Generating Process (DGP)!)\n"
    },
    {
      "cell_type": "markdown",
      "metadata": {
        "cell_id": "2f1f89aa226d4163a1b26e7574c23601",
        "deepnote_cell_height": 230.296875,
        "deepnote_cell_type": "markdown",
        "nbsimplegrader": {
          "config_key": "markdown.response",
          "editable": true,
          "label": "Response: Markdown",
          "respondable": true,
          "response": null,
          "runnable": true,
          "type": "markdown"
        },
        "tags": []
      },
      "source": "3.1 Response:"
    },
    {
      "cell_type": "markdown",
      "metadata": {
        "cell_id": "b030181f6a8349fe8b875f8d13c70f10",
        "deepnote_cell_height": 230.296875,
        "deepnote_cell_type": "markdown",
        "tags": []
      },
      "source": "<div class=\"teacher-note\">\n\n<b>Sample Response</b>:\n    \nIt might be similar to the one with mistakes if that class also misinterpreted the instructions. But if everyone clearly understood the measurement instructions it would look more similar to the one without mistakes. However, it would likely not be exactly the same as either distribution because those students would probably have a different set of measurements and facial features.\n    \n</div>"
    },
    {
      "cell_type": "markdown",
      "metadata": {
        "cell_id": "b5a9d8af823d4991b2839fcf4276e1d9",
        "deepnote_cell_height": 74.75,
        "deepnote_cell_type": "markdown"
      },
      "source": "### 3.2 Modify the code below to pretend to do this little study again with another 18 students, and run it a few times. What changes and what stays the same?"
    },
    {
      "cell_type": "code",
      "execution_count": null,
      "metadata": {
        "cell_id": "1729a4fdc1ee444eaac819b98dcd8d40",
        "deepnote_cell_height": 773.953125,
        "deepnote_cell_type": "code",
        "deepnote_output_heights": [
          610
        ],
        "deepnote_to_be_reexecuted": false,
        "execution_context_id": "6f8c1dfc-33ce-4e50-9a57-3f7ae689a924",
        "execution_millis": 114,
        "execution_start": 1745115565696,
        "nbsimplegrader": {
          "config_key": "code.response",
          "editable": true,
          "label": "Response: Code",
          "respondable": true,
          "response": null,
          "runnable": true,
          "type": "code"
        },
        "output_cleared": false,
        "source_hash": "5c5bc624",
        "tags": [],
        "trusted": true
      },
      "outputs": [],
      "source": "# Modify to take a random sample of 18 students\nnew_sample <- resample(Eyes, 3)\n\n# Look at new distribution of EyesHigherMid\ngf_histogram(~EyesHigherMid, data=new_sample)"
    },
    {
      "cell_type": "code",
      "execution_count": null,
      "metadata": {
        "cell_id": "004a80316e314232839bb4006eec2917",
        "deepnote_cell_height": 773.953125,
        "deepnote_cell_type": "code",
        "deepnote_output_heights": [
          610
        ],
        "deepnote_to_be_reexecuted": false,
        "execution_context_id": "6f8c1dfc-33ce-4e50-9a57-3f7ae689a924",
        "execution_millis": 114,
        "execution_start": 1745115565696,
        "output_cleared": false,
        "source_hash": "5c5bc624",
        "tags": [],
        "trusted": true
      },
      "outputs": [],
      "source": "# sample response\n# Modified to take a random sample of 18 students\nnew_sample <- resample(Eyes, 18)\n\n# Look at new distribution of EyesHigherMid\ngf_histogram(~EyesHigherMid, data=new_sample)"
    },
    {
      "cell_type": "markdown",
      "metadata": {
        "cell_id": "bf3abd48d5d7471ebb703277de7dc7a0",
        "deepnote_cell_height": 163.125,
        "deepnote_cell_type": "markdown",
        "nbsimplegrader": {
          "config_key": "markdown.response",
          "editable": true,
          "label": "Response: Markdown",
          "respondable": true,
          "response": null,
          "runnable": true,
          "type": "markdown"
        },
        "tags": []
      },
      "source": "3.2 Response:\n\n"
    },
    {
      "cell_type": "markdown",
      "metadata": {
        "cell_id": "376c41ccb287424985fa0a62843b9295",
        "deepnote_cell_type": "markdown"
      },
      "source": "<div class=\"teacher-note\">\n\n<b>Sample Response</b>:\n    \nEach sample has a slightly different set of measurements, but the general bimodal pattern stays the same.\n    \n</div>"
    },
    {
      "cell_type": "markdown",
      "metadata": {
        "cell_id": "870faec9a2df4236af6329eff136a6e7",
        "deepnote_cell_height": 74.75,
        "deepnote_cell_type": "markdown"
      },
      "source": "### 3.3 Why is it helpful to look at all these different random samples? "
    },
    {
      "cell_type": "markdown",
      "metadata": {
        "cell_id": "ac87c284fc194fd9acf7979c1d7099ad",
        "deepnote_cell_height": 163.125,
        "deepnote_cell_type": "markdown",
        "nbsimplegrader": {
          "config_key": "markdown.response",
          "editable": true,
          "label": "Response: Markdown",
          "respondable": true,
          "response": null,
          "runnable": true,
          "type": "markdown"
        },
        "tags": []
      },
      "source": "3.3 Response:"
    },
    {
      "cell_type": "markdown",
      "metadata": {
        "cell_id": "c3f78f9ca02d4d6b98ca7e178ca57deb",
        "deepnote_cell_height": 163.125,
        "deepnote_cell_type": "markdown",
        "tags": []
      },
      "source": "\n<div class=\"teacher-note\">\n\n<b>Sample Response</b>:\n    \n We know that even if people basically act in the same way, a new sample of data won’t come out exactly the same. How different could samples be? We can use R to mock up a DGP that creates samples similar to our actual data.\n\n    \n</div>"
    },
    {
      "cell_type": "markdown",
      "metadata": {
        "cell_id": "e5327ad27d6f486f8be113a3f305ad24",
        "deepnote_cell_height": 74.75,
        "deepnote_cell_type": "markdown"
      },
      "source": "### 3.4 Could we use `sample()` to pretend to do this study again with 18 students? How about 100 students? Try it to see what happens."
    },
    {
      "cell_type": "code",
      "execution_count": null,
      "metadata": {
        "cell_id": "41fea210bace4b21a54c55dfd0d76bbe",
        "deepnote_cell_height": 755.953125,
        "deepnote_cell_type": "code",
        "deepnote_output_heights": [
          610
        ],
        "deepnote_to_be_reexecuted": false,
        "execution_context_id": "6f8c1dfc-33ce-4e50-9a57-3f7ae689a924",
        "execution_millis": 76,
        "execution_start": 1745115565866,
        "nbsimplegrader": {
          "config_key": "code.response",
          "editable": true,
          "label": "Response: Code",
          "respondable": true,
          "response": null,
          "runnable": true,
          "type": "code"
        },
        "output_cleared": false,
        "source_hash": "35acb72d",
        "tags": [],
        "trusted": true
      },
      "outputs": [],
      "source": "# Changed from resample() to sample()\n# Try simulating 18 students, then 100 students\nnew_sample <- sample(Eyes, 18)\n\ngf_histogram(~ EyesHigherMid, data = new_sample, fill = \"blue\")\n"
    },
    {
      "cell_type": "markdown",
      "metadata": {
        "cell_id": "fb355ed61be9414aa0ce6f508c9cceca",
        "deepnote_cell_height": 185.515625,
        "deepnote_cell_type": "markdown",
        "nbsimplegrader": {
          "config_key": "markdown.response",
          "editable": true,
          "label": "Response: Markdown",
          "respondable": true,
          "response": null,
          "runnable": true,
          "type": "markdown"
        },
        "tags": []
      },
      "source": "3.4 Response:"
    },
    {
      "cell_type": "markdown",
      "metadata": {
        "cell_id": "0eee06c13f7848e59912ee0be65042f3",
        "deepnote_cell_height": 185.515625,
        "deepnote_cell_type": "markdown",
        "tags": []
      },
      "source": "<div class=\"teacher-note\">\n    \n<b>Sample Response</b>: We could not use `sample()` because without replacement we cannot take a sample larger than the population of data that we have, but with `resample()` we can take as large of a sample as we want because we keep putting the data back into the population.\n    \n</div>"
    },
    {
      "cell_type": "markdown",
      "metadata": {
        "cell_id": "b210d7e0206746b1a7733e1cdefe38f2",
        "deepnote_cell_height": 74.75,
        "deepnote_cell_type": "markdown",
        "tags": []
      },
      "source": "### 3.5 Try resampling with 18, 100, or 5000 students. Which of these looks the most like the sample that we started out with? Why?"
    },
    {
      "cell_type": "code",
      "execution_count": null,
      "metadata": {
        "cell_id": "842a5d6db4894c7eb5fcfd28e6dc6ae4",
        "deepnote_cell_height": 2217.9375,
        "deepnote_cell_type": "code",
        "deepnote_output_heights": [
          610,
          610,
          610
        ],
        "deepnote_to_be_reexecuted": false,
        "execution_context_id": "6f8c1dfc-33ce-4e50-9a57-3f7ae689a924",
        "execution_millis": 335,
        "execution_start": 1745115565997,
        "nbsimplegrader": {
          "config_key": "code.response",
          "editable": true,
          "label": "Response: Code",
          "respondable": true,
          "response": null,
          "runnable": true,
          "type": "code"
        },
        "source_hash": "bc05738",
        "tags": [],
        "trusted": true
      },
      "outputs": [],
      "source": "# Sample of 18 students\nnew_sample1 <- resample(Eyes, 18)\n\ngf_histogram(~ EyesHigherMid, data = new_sample1, fill = \"blue\")\n\n# Sample of 100 students\nnew_sample2 <- resample(Eyes, 100)\n\ngf_histogram(~ EyesHigherMid, data = new_sample2, fill = \"yellow\")\n\n# Sample of 5000 students\nnew_sample3 <- resample(Eyes, 5000)\n\ngf_histogram(~ EyesHigherMid, data = new_sample3, fill = \"green4\")"
    },
    {
      "cell_type": "markdown",
      "metadata": {
        "cell_id": "84235ca01f7b47c0a5fc324188ecfe4f",
        "deepnote_cell_height": 185.515625,
        "deepnote_cell_type": "markdown",
        "nbsimplegrader": {
          "config_key": "markdown.response",
          "editable": true,
          "label": "Response: Markdown",
          "respondable": true,
          "response": null,
          "runnable": true,
          "type": "markdown"
        },
        "tags": []
      },
      "source": "3.5 Response:"
    },
    {
      "cell_type": "markdown",
      "metadata": {
        "cell_id": "abd4a55cbbea4e11940c696336c5cfe8",
        "deepnote_cell_height": 185.515625,
        "deepnote_cell_type": "markdown",
        "tags": []
      },
      "source": "<div class=\"teacher-note\">\n    \n<b>Sample Response</b>: They all look pretty similar to our original sample (bimodal), but the larger samples have more information so some of the bars of the histogram have higher counts.\n</div>"
    },
    {
      "cell_type": "markdown",
      "metadata": {
        "cell_id": "14c264972141498b826cb591f0abd6b1",
        "deepnote_cell_height": 69.96875,
        "deepnote_cell_type": "markdown"
      },
      "source": "## 4 Shape and the DGP\n"
    },
    {
      "cell_type": "markdown",
      "metadata": {
        "cell_id": "b2311446a8fd45f29bd1d720b7e44d0c",
        "deepnote_cell_height": 74.75,
        "deepnote_cell_type": "markdown"
      },
      "source": "### 4.1 How did the shapes of the distributions we looked at today connect to the data generating process?\n"
    },
    {
      "cell_type": "markdown",
      "metadata": {
        "cell_id": "6951a8c14cbb4703bbdc464b5692e859",
        "deepnote_cell_height": 185.515625,
        "deepnote_cell_type": "markdown",
        "nbsimplegrader": {
          "config_key": "markdown.response",
          "editable": true,
          "label": "Response: Markdown",
          "respondable": true,
          "response": null,
          "runnable": true,
          "type": "markdown"
        },
        "tags": []
      },
      "source": "4.1 Response:"
    },
    {
      "cell_type": "markdown",
      "metadata": {
        "cell_id": "44f23202e5214f02be5c139cbf33b579",
        "deepnote_cell_height": 185.515625,
        "deepnote_cell_type": "markdown",
        "tags": []
      },
      "source": "<div class=\"teacher-note\">\n    \n<b>Sample Response</b>: The shapes of the distribution depended on how the data were generated. When the data were generated by mistakes in the measurement process, we saw a bimodal shape. When the data were generated by the process of actual differences in the position of the eyes relative to the midline we saw a more normally shaped distribution. We also saw a that the shapes were similar to the original data when the data generating process was a simulation of randomness (using `resample()`).\n</div>"
    }
  ],
  "metadata": {
    "deepnote_notebook_id": "61ac2d84d9274120a1aed3d64cf9f1fb",
    "kernelspec": {
      "display_name": "R",
      "language": "R",
      "name": "ir"
    },
    "language_info": {
      "codemirror_mode": "r",
      "file_extension": ".r",
      "mimetype": "text/x-r-source",
      "name": "R",
      "pygments_lexer": "r",
      "version": "4.3.3"
    },
    "nbsimplegrader": {
      "publish_config": {
        "classes": [],
        "options": [],
        "tools": []
      }
    }
  },
  "nbformat": 4,
  "nbformat_minor": 1
}