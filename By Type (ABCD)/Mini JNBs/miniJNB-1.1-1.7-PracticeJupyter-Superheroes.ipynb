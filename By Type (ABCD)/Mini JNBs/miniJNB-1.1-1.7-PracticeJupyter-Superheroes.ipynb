{
  "cells": [
    {
      "cell_type": "markdown",
      "metadata": {
        "cell_id": "225a49dc41664d31bd8d841f7ad238a8",
        "deepnote_cell_height": 133.953125,
        "deepnote_cell_type": "markdown"
      },
      "source": "# 1.1-1.7: More Practice with Jupyter Notebooks\n"
    },
    {
      "cell_type": "markdown",
      "metadata": {
        "cell_id": "4422336ea4c04ab48fb978f40f78d051",
        "deepnote_cell_height": 111.140625,
        "deepnote_cell_type": "markdown",
        "tags": []
      },
      "source": "Let's get more practice with Jupyter Notebooks by creating a short report about superheroes. \n\nTo help make your report a little more professional, we're going to learn some new Jupyter tricks along the way!"
    },
    {
      "cell_type": "markdown",
      "metadata": {
        "cell_id": "3ecf015ed7d5480e98366095a9eb6632",
        "deepnote_cell_height": 69.96875,
        "deepnote_cell_type": "markdown",
        "tags": []
      },
      "source": "## 1.0 - The R Packages"
    },
    {
      "cell_type": "markdown",
      "metadata": {
        "cell_id": "d773c52db32e4ce59ef496f5b2f1b8d5",
        "deepnote_cell_height": 52.359375,
        "deepnote_cell_type": "markdown",
        "tags": []
      },
      "source": "Try running this code. Does it run?"
    },
    {
      "cell_type": "code",
      "execution_count": null,
      "metadata": {
        "cell_id": "32a2a1e264114b09a7beca3e78f58c79",
        "deepnote_cell_height": 60.953125,
        "deepnote_cell_type": "code",
        "deepnote_to_be_reexecuted": false,
        "execution_context_id": "d3a8ba15-3e33-4ba8-93ad-961e2eb077dc",
        "execution_millis": 1,
        "execution_start": 1752629086937,
        "output_cleared": false,
        "source_hash": "5d01af3a",
        "tags": [],
        "trusted": true
      },
      "outputs": [],
      "source": "rflip()"
    },
    {
      "cell_type": "markdown",
      "metadata": {
        "cell_id": "9abd06d798314ddaa80a47f24f0230c2",
        "deepnote_cell_height": 178.328125,
        "deepnote_cell_type": "markdown",
        "tags": []
      },
      "source": "The reason it doesn't run is because it is a special function written by someone in the R community. If we want to make use of all these functions that people wrote, we have to load their libraries. In the CK Code activities that you do in the book, we pre-load these libraries for you. But in Jupyter notebooks, you'll have to do it yourself.\n\nUsually we just copy and paste this little bit of code and put them in any new Jupyter notebook. You don't need to memorize it or anything."
    },
    {
      "cell_type": "code",
      "execution_count": null,
      "metadata": {
        "cell_id": "2293f4e8279848fc9defbb3c8c2499fa",
        "deepnote_cell_height": 114.953125,
        "deepnote_cell_type": "code",
        "deepnote_to_be_reexecuted": true,
        "execution_millis": 4410,
        "execution_start": 1724440682975,
        "output_cleared": false,
        "source_hash": null,
        "tags": [],
        "trusted": true
      },
      "outputs": [],
      "source": "# This code will load the R packages we will use\nsuppressPackageStartupMessages({\n    library(coursekata)\n})"
    },
    {
      "cell_type": "markdown",
      "metadata": {
        "cell_id": "d041d79ca53f4e1683960ddf2ead13b6",
        "deepnote_cell_height": 161.53125,
        "deepnote_cell_type": "markdown",
        "tags": []
      },
      "source": "If you run it successfully, nothing will print out. But sometimes it takes a while to work.\n\nWhile it is working, it will say `In[*]:`\n\nWhen it is done, the `In[]:` will include a number.\n\nOnce you've loaded the packages, try running the code below. Does it work now?"
    },
    {
      "cell_type": "code",
      "execution_count": null,
      "metadata": {
        "cell_id": "f4fdb833319d4fed8d1bbe3b918ccace",
        "deepnote_cell_height": 60.953125,
        "deepnote_cell_type": "code",
        "deepnote_to_be_reexecuted": true,
        "execution_millis": 55,
        "execution_start": 1724440690469,
        "output_cleared": false,
        "source_hash": null,
        "tags": [],
        "trusted": true
      },
      "outputs": [],
      "source": "rflip()"
    },
    {
      "cell_type": "markdown",
      "metadata": {
        "cell_id": "83b4493b0b97423b95bac09372bb64be",
        "deepnote_cell_height": 69.96875,
        "deepnote_cell_type": "markdown",
        "tags": []
      },
      "source": "## 2.0 - Customizing your Markdown cells"
    },
    {
      "cell_type": "markdown",
      "metadata": {
        "cell_id": "52ab5e54fca74dccb81ad4d409e03aca",
        "deepnote_cell_height": 211.921875,
        "deepnote_cell_type": "markdown",
        "tags": []
      },
      "source": "There are a few fancy things you can do in Markdown cells. Double click on this cell.\n\nWe can also write in **bold**. \n\nWe can also write in *italics*. \n\nWe can make code look special like this: `rflip()`\n\n> Or we can make something indented like this."
    },
    {
      "cell_type": "markdown",
      "metadata": {
        "cell_id": "2296ff6b884341eebd0da604f0601e99",
        "deepnote_cell_height": 88.75,
        "deepnote_cell_type": "markdown",
        "tags": []
      },
      "source": "Try some stuff!\n\nChange the following sentence to bold: BOLD ME!"
    },
    {
      "cell_type": "markdown",
      "metadata": {
        "cell_id": "efbed924d431425e9fd4183d69e8ea4e",
        "deepnote_cell_height": 52.359375,
        "deepnote_cell_type": "markdown",
        "tags": []
      },
      "source": "Change the following sentence to italics: ITALICIZE THIS!"
    },
    {
      "cell_type": "markdown",
      "metadata": {
        "cell_id": "5266a225b9a8470e90cc1b348e86d29d",
        "deepnote_cell_height": 88.75,
        "deepnote_cell_type": "markdown",
        "tags": []
      },
      "source": "Indent the following sentence:\n\n“All models are wrong, but some are useful”. -George E.P. Box"
    },
    {
      "cell_type": "markdown",
      "metadata": {
        "cell_id": "a20f6dc0e3b34076b4106b9cf16a2b4f",
        "deepnote_cell_height": 88.75,
        "deepnote_cell_type": "markdown",
        "tags": []
      },
      "source": "Feel free to use these markdown tricks in all your notebooks.\n\nIf you ever want to know how to do other things in markdown, try Googling \"markdown in Jupyter\"! "
    },
    {
      "cell_type": "markdown",
      "metadata": {
        "cell_id": "dbb8549649e745758ef8b0e042c4a1a2",
        "deepnote_cell_height": 69.96875,
        "deepnote_cell_type": "markdown",
        "tags": []
      },
      "source": "## 3.0 - Superheroes of the 1930's"
    },
    {
      "cell_type": "markdown",
      "metadata": {
        "cell_id": "47d3f982046f4c0c9faf5a5cea933d23",
        "deepnote_cell_height": 559.71875,
        "deepnote_cell_type": "markdown",
        "tags": []
      },
      "source": "We're going to use the information in this image to help us do a mini report on Superheroes of the 1930's.\n\nAs we get started, take a look at the following image and take a moment to generate questions. \n\n<img src=\"https://coursekata-course-assets.s3.us-west-1.amazonaws.com/UCLATALL/czi-stats-course/jnb_p2qHpKNK-RHx7p-IT-Imgur.png\" title=\"assorted superheroes with a variety of features\" width = 100% />"
    },
    {
      "cell_type": "markdown",
      "metadata": {
        "cell_id": "654a6c11b2f948079df52156a2f72ce2",
        "deepnote_cell_height": 97.140625,
        "deepnote_cell_type": "markdown",
        "tags": []
      },
      "source": "3.1 - Add a **Markdown** cell below and generate as many questions as you can about this image in 1 minute. Do not stop to evaluate your questions. Just write them down exactly as you thought of them. Your goal is to try and generate as many questions as possible."
    },
    {
      "cell_type": "markdown",
      "metadata": {
        "cell_id": "b142c9cb3ca8431ab98f6af1a80c2307",
        "deepnote_cell_height": 155.9375,
        "deepnote_cell_type": "markdown",
        "tags": []
      },
      "source": "3.2 - Take a look at your questions above and categorize them as either open-ended questions or closed questions.\n\nClosed ended questions have a limited set of possible answers (e.g., Which hero was most popular?) but open-ended questions allow for a greater variety of answers (e.g., Why did they create a character that looks like he is on fire?)."
    },
    {
      "cell_type": "markdown",
      "metadata": {
        "cell_id": "e2862c64346d46b49f2a33cebc9533aa",
        "deepnote_cell_height": 164.53125,
        "deepnote_cell_type": "markdown",
        "tags": []
      },
      "source": "3.3 - We'll practice using R to understand a bit about characters that wore capes and coats.\n\nIn the code cell below:\n- Count the characters wearing a *cape* and save that number into an object called `capes`.\n- Count the characters wearing a *coat* and save that number into an object called `coats`."
    },
    {
      "cell_type": "code",
      "execution_count": null,
      "metadata": {
        "cell_id": "10a38e09b8f3402a87087a28064955bf",
        "deepnote_cell_height": 60.953125,
        "deepnote_cell_type": "code",
        "deepnote_to_be_reexecuted": true,
        "tags": [],
        "trusted": true
      },
      "outputs": [],
      "source": "# Write your code here"
    },
    {
      "cell_type": "markdown",
      "metadata": {
        "cell_id": "bcc2cb109cdb466da3e0d534abc3ad04",
        "deepnote_cell_height": 74.75,
        "deepnote_cell_type": "markdown",
        "tags": []
      },
      "source": "3.5 - What would happen if we wrote the code `capes == coats` in the code cell below? \nFirst, write your prediction in the markdown cell, then try running the code in the code cell."
    },
    {
      "cell_type": "markdown",
      "metadata": {
        "cell_id": "a014ab2654d9491dac5a218cf0816bc0",
        "deepnote_cell_height": 66.359375,
        "deepnote_cell_type": "markdown",
        "tags": []
      },
      "source": "> Write your prediction here"
    },
    {
      "cell_type": "code",
      "execution_count": null,
      "metadata": {
        "cell_id": "be5d310532b54912a380dfa48cd082ab",
        "deepnote_cell_height": 60.953125,
        "deepnote_cell_type": "code",
        "deepnote_to_be_reexecuted": true,
        "output_cleared": false,
        "tags": [],
        "trusted": true
      },
      "outputs": [],
      "source": "# Try the code here"
    },
    {
      "cell_type": "markdown",
      "metadata": {
        "cell_id": "886621ebcc724518af100386018e01db",
        "deepnote_cell_height": 74.75,
        "deepnote_cell_type": "markdown",
        "tags": []
      },
      "source": "*(Throughout your notebooks, you can add your own combinations of code and markdown cells to answer any questions or provide explanations)*"
    },
    {
      "cell_type": "markdown",
      "metadata": {
        "cell_id": "2b380bc113c14901a875e3d95f09ee97",
        "deepnote_cell_height": 74.75,
        "deepnote_cell_type": "markdown",
        "tags": []
      },
      "source": "3.6 - Write some R code that would return an answer to this question: \n**Are there more characters that wear capes than characters that wear coats?** "
    },
    {
      "cell_type": "markdown",
      "metadata": {
        "cell_id": "893af1de8f7040868ae0f5141b2841fc",
        "deepnote_cell_height": 133.53125,
        "deepnote_cell_type": "markdown",
        "tags": []
      },
      "source": "3.7 - Write some R code that would return an answer to this question: \n**What is the total number of capes *and* coats?**\n\nHow can we combine the total number of capes and coats? Come up with at least two ways of\narriving at this answer with R."
    },
    {
      "cell_type": "code",
      "execution_count": null,
      "metadata": {
        "cell_id": "5ffc89a893884f779cc0da226fd001fe",
        "deepnote_cell_height": 114.953125,
        "deepnote_cell_type": "code",
        "deepnote_to_be_reexecuted": true,
        "tags": [],
        "trusted": true
      },
      "outputs": [],
      "source": "# Method 1\n\n\n# Method 2"
    },
    {
      "cell_type": "markdown",
      "metadata": {
        "cell_id": "57346b1df45b4d6895a847cf0d477fd4",
        "deepnote_cell_height": 178.328125,
        "deepnote_cell_type": "markdown",
        "tags": []
      },
      "source": "3.8 - Another aspect of superhero costumes we might be interested in exploring are the colors. Three of the most common colors in early superhero costumes were red, blue, and yellow (because those were the easiest color to render in the four-color printing process that was used at the time). \n\nFor each color, count the number of characters who have that color in their costume and save it into the objects in the code box below (right now they are all set to zero).\n"
    },
    {
      "cell_type": "code",
      "execution_count": null,
      "metadata": {
        "cell_id": "5a61195e9137434b88787eca6d265add",
        "deepnote_cell_height": 191.953125,
        "deepnote_cell_type": "code",
        "deepnote_to_be_reexecuted": true,
        "output_cleared": false,
        "tags": [],
        "trusted": true
      },
      "outputs": [],
      "source": "# How many characters have the colors red, blue, and/or yellow in their costume?\nred <- 0\nblue <- 0\nyellow <- 0\n\ncolors <- c(red, blue, yellow)\ncolors\n"
    },
    {
      "cell_type": "markdown",
      "metadata": {
        "cell_id": "e8e764ad2bf2443ea5f0b97ad73b2112",
        "deepnote_cell_height": 127.953125,
        "deepnote_cell_type": "markdown",
        "tags": []
      },
      "source": "3.9 - What do these lines of code do?\n\n```\ncolors <- c(red, blue, yellow)\ncolors\n```"
    },
    {
      "cell_type": "markdown",
      "metadata": {
        "cell_id": "0833293961e74399a4eb39ec29326038",
        "deepnote_cell_height": 127.953125,
        "deepnote_cell_type": "markdown",
        "tags": []
      },
      "source": "3.10 - How is this code different from the code above? How will the output be different?\n\n```\ncolors2 <- c(\"red\", \"blue\", \"yellow\")\ncolors2\n```"
    },
    {
      "cell_type": "markdown",
      "metadata": {
        "cell_id": "bff86f0075854f8ca80b35d69963834b",
        "deepnote_cell_height": 169.921875,
        "deepnote_cell_type": "markdown",
        "tags": []
      },
      "source": "**Final Note:**\n\nYou may have noticed that sometimes you may have had to consider questions like: \n“What counts as “red”?” How much red is \"enough\" red?\n\nThese are important measurement considerations that will always come up in data science! \nWe’ll continue to learn more about measurement as we go further in our course. \n"
    }
  ],
  "metadata": {
    "deepnote_notebook_id": "a08f87fe58ee41f1abb041cf314cfae7",
    "kernelspec": {
      "display_name": "R",
      "language": "R",
      "name": "ir"
    },
    "language_info": {
      "codemirror_mode": "r",
      "file_extension": ".r",
      "mimetype": "text/x-r-source",
      "name": "R",
      "pygments_lexer": "r",
      "version": "4.3.3"
    },
    "nbsimplegrader": {
      "publish_config": {
        "classes": [],
        "options": [],
        "tools": []
      }
    }
  },
  "nbformat": 4,
  "nbformat_minor": 1
}