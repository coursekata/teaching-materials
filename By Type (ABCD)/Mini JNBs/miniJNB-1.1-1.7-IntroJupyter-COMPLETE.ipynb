{
  "cells": [
    {
      "cell_type": "markdown",
      "metadata": {
        "cell_id": "78e92385e8854e95a1e59c2957531ef7",
        "deepnote_cell_height": 224.3125,
        "deepnote_cell_type": "markdown"
      },
      "source": "<div class=\"alert alert-block alert-danger\">\n\n# 1.1-1.7: Introduction to Jupyter Notebooks (COMPLETE)\n\n**Lesson assumes students have read up through page: 1.6**\n\n**Use with textbook version 6.0+**\n\n</div>"
    },
    {
      "cell_type": "markdown",
      "metadata": {
        "cell_id": "26ea8e7590fd4acd8e017f6630bb5264",
        "deepnote_cell_height": 216.5,
        "deepnote_cell_type": "markdown"
      },
      "source": "<div class=\"alert alert-block alert-warning\">\n\n#### Summary of Notebook:\n\n- Get familiar with what Jupyter Notebooks can do and what they can be used for\n- Distinguish between **Code** cells and **Markdown** cells\n- Understand that the order of the code and the code cells *matters*\n- Practice using error messages to help debug your code\n\n</div>"
    },
    {
      "cell_type": "markdown",
      "metadata": {
        "cell_id": "0ca8b5ac5390474c81d748a1a617c711",
        "deepnote_cell_height": 123.9375,
        "deepnote_cell_type": "markdown",
        "tags": []
      },
      "source": "<div class=\"alert alert-block alert-success\">\n\n## Approximate time to complete Notebook: 50-65 Mins\n\n</div>"
    },
    {
      "cell_type": "markdown",
      "metadata": {
        "cell_id": "86eba2d323604d429e7ed77485726bf0",
        "deepnote_cell_height": 115.9375,
        "deepnote_cell_type": "markdown",
        "owner_user_id": "23d85493-7ed1-49a4-baa7-630eaab08193",
        "tags": []
      },
      "source": "<div class=\"alert alert-block alert-success\">\n\n### 1.0 - Approximate Time: 5-8 mins\n\n</div>"
    },
    {
      "cell_type": "markdown",
      "metadata": {
        "cell_id": "b2f725a08e5f44df90034074fca0c1e0",
        "deepnote_cell_height": 69.96875,
        "deepnote_cell_type": "markdown",
        "tags": []
      },
      "source": "## 1.0 - What is a Jupyter Notebook?"
    },
    {
      "cell_type": "markdown",
      "metadata": {
        "cell_id": "625f18e8127d4a1db77bee20a83e9b79",
        "deepnote_cell_height": 180.140625,
        "deepnote_cell_type": "markdown"
      },
      "source": "You have been learning R in the textbook using *CK Code* exercises and the *CK Code* sandbox. But real statisticians and data scientists don't use *CK Code* in their work. They use either RStudio or Jupyter Notebooks. That's why we'll be learning Jupyter Notebooks too!"
    },
    {
      "cell_type": "markdown",
      "metadata": {
        "cell_id": "772f392bed674926b9fd75f24ec9f10b",
        "deepnote_cell_height": 178.921875,
        "deepnote_cell_type": "markdown"
      },
      "source": "So... what is a Jupyter Notebook (JNB)?\n- It's kind of like a word document made up of different blocks called \"cells\". \n- There are two kinds of cells: CODE cells and MARKDOWN cells.\n- The nice thing about a JNB is that when you run some code, the output will appear right below it.\n- They are a great way to showcase and share your data analyses with others!"
    },
    {
      "cell_type": "markdown",
      "metadata": {
        "cell_id": "a5c924642ede412792b9852c1272fc2a",
        "deepnote_cell_height": 272.296875,
        "deepnote_cell_type": "markdown",
        "tags": []
      },
      "source": "<div class=\"alert alert-block alert-warning\">\n\n**Sample Response**\n\nClick on this text. This is a MARKDOWN cell. If you double-click inside this cell you can edit it!\n\nTry it! Write your name and your favorite food here:\n\n*Student should write their name and favorite food in this cell*\n\n(After writing, try hitting SHIFT + RETURN.\nYou could also hit the \"Run\" button at the top of the notebook.)\n\n</div>"
    },
    {
      "cell_type": "code",
      "execution_count": null,
      "metadata": {
        "cell_id": "0aa02e80cea24ec7b801333d93955abd",
        "deepnote_cell_height": 221.140625,
        "deepnote_cell_type": "code",
        "output_cleared": false,
        "tags": [],
        "trusted": true
      },
      "outputs": [],
      "source": "# This is a CODE cell!\n# You can use it as a calculator or for running R code \n\n4 * 25\n\n# Click inside this code cell\n# Then press SHIFT + RETURN or \"Run\""
    },
    {
      "cell_type": "markdown",
      "metadata": {
        "cell_id": "79e4907b041f4341b70ecc4bf6802586",
        "deepnote_cell_height": 150.53125,
        "deepnote_cell_type": "markdown",
        "tags": []
      },
      "source": "Notice that two things happened when you ran the code cell:\n- The output of the code (100) appeared right below the code.\n- The `In [ ]` changed to have a number inside of it.\n\nTry running the cell again. How does it change? What do you think the number inside `In [ ]` means?"
    },
    {
      "cell_type": "markdown",
      "metadata": {
        "cell_id": "182b36e50dce487bb25cab08c5bc7872",
        "deepnote_cell_height": 163.125,
        "deepnote_cell_type": "markdown",
        "tags": []
      },
      "source": "<div class=\"alert alert-block alert-warning\">\n\n**Sample Response**\n\n\nThe `[1]` changes to `[2]` when you run it again. The number tells us the number of times \nwe have run the code cell.\n\n</div>"
    },
    {
      "cell_type": "markdown",
      "metadata": {
        "cell_id": "3fa0430e60d248c29f4e7e0a6dfc7860",
        "deepnote_cell_height": 133.53125,
        "deepnote_cell_type": "markdown",
        "tags": []
      },
      "source": "Notice that when you are editing a MARKDOWN cell, it sometimes looks like code (because the font is different), \nbut it is not the same as R code. It's just regular writing.\n\nBut MARKDOWN and CODE cells are similar because both kinds of cells need to be \"Run\" (with the \"Run\" button or with SHIFT + RETURN)."
    },
    {
      "cell_type": "markdown",
      "metadata": {
        "cell_id": "c23e55aa3a2343ff886476a86ba53005",
        "deepnote_cell_height": 115.9375,
        "deepnote_cell_type": "markdown",
        "tags": []
      },
      "source": "<div class=\"alert alert-block alert-success\">\n\n### 2.0 - Approximate Time: 3-5 mins\n\n</div>"
    },
    {
      "cell_type": "markdown",
      "metadata": {
        "cell_id": "063b05f789184c2d8e978c7e27f2e510",
        "deepnote_cell_height": 69.96875,
        "deepnote_cell_type": "markdown",
        "tags": []
      },
      "source": "## 2.0 - What are JNBs for?"
    },
    {
      "cell_type": "markdown",
      "metadata": {
        "cell_id": "473d4c4dc6764745afa79645e2679ed1",
        "deepnote_cell_height": 192.328125,
        "deepnote_cell_type": "markdown",
        "tags": []
      },
      "source": "Since data science is about answering interesting and important questions using data, \nthese notebooks are a great way to give a report on your data that you can share with others!\n\nA good notebook is NOT just a bunch of code and numbers and graphs. \n\nA good notebook has regular writing (mixed in with the code, numbers, and graphs) \nto help people understand the questions you are trying to answer\nand what you did to answer those questions."
    },
    {
      "cell_type": "markdown",
      "metadata": {
        "cell_id": "fea088d8bf7b47b68893b12fe6d64ab9",
        "deepnote_cell_height": 115.9375,
        "deepnote_cell_type": "markdown",
        "tags": []
      },
      "source": "<div class=\"alert alert-block alert-success\">\n\n### 3.0 - Approximate Time: 3-5 mins\n\n</div>"
    },
    {
      "cell_type": "markdown",
      "metadata": {
        "cell_id": "0f40c949469447e98feb8c74c8c0d160",
        "deepnote_cell_height": 69.96875,
        "deepnote_cell_type": "markdown",
        "tags": []
      },
      "source": "## 3.0 - Adding new MARKDOWN and CODE cells"
    },
    {
      "cell_type": "markdown",
      "metadata": {
        "cell_id": "be60e1c6099d4935aa9da870ca158dcb",
        "deepnote_cell_height": 161.53125,
        "deepnote_cell_type": "markdown",
        "tags": []
      },
      "source": "3.1 - You can insert a new cell anywhere in the notebook.\n\nSelect this cell by clicking on it (the bar along the left side will turn blue).\n\nThen, add a new cell below this one by just pressing the letter **b** on your keyboard.\n\nTry it!\n"
    },
    {
      "cell_type": "markdown",
      "metadata": {
        "cell_id": "b8232b4feada4225bc13c0da1a2c0902",
        "deepnote_cell_height": 207.90625,
        "deepnote_cell_type": "markdown",
        "tags": []
      },
      "source": "<div class=\"alert alert-block alert-warning\">\n\n**Sample Response**\n\n*Students should have a new cell inserted here that they changed from CODE to MARKDOWN; however \nthere is a chance they may have also deleted it using the 'dd' keys as described later in this section.\nStudents may also purposely or accidentally insert other CODE or MARKDOWN cells in various places as they explore their \nnotebook.*\n\n</div>"
    },
    {
      "cell_type": "markdown",
      "metadata": {
        "cell_id": "d11ee209a0c64591b6ec34fe03b29530",
        "deepnote_cell_height": 88.75,
        "deepnote_cell_type": "markdown",
        "tags": []
      },
      "source": "3.2 - What kind of cell did you insert?\n\nCan you figure out how to change it from Code to Markdown (or from Markdown to Code)? "
    },
    {
      "cell_type": "markdown",
      "metadata": {
        "cell_id": "d3850984235a4ff4b53048dfa5fc4599",
        "deepnote_cell_height": 111.140625,
        "deepnote_cell_type": "markdown",
        "tags": []
      },
      "source": "3.3 - You may also want to delete a cell.\n\nSelect this cell (side should turn blue). \nThen delete it by pressing the letters **d d** on your keyboard."
    },
    {
      "cell_type": "markdown",
      "metadata": {
        "cell_id": "69e12730ec28475898d306645d65e373",
        "deepnote_cell_height": 115.9375,
        "deepnote_cell_type": "markdown",
        "tags": []
      },
      "source": "<div class=\"alert alert-block alert-success\">\n\n### 4.0 - Approximate Time: 12-15 mins\n\n</div>"
    },
    {
      "cell_type": "markdown",
      "metadata": {
        "cell_id": "b5248c92bd0a48dc9b9ef5c8da99a8c8",
        "deepnote_cell_height": 69.96875,
        "deepnote_cell_type": "markdown",
        "tags": []
      },
      "source": "## 4.0 - Order Matters"
    },
    {
      "cell_type": "markdown",
      "metadata": {
        "cell_id": "1f40c6aa5c4a4e5fac9ca8740e012e46",
        "deepnote_cell_height": 147.53125,
        "deepnote_cell_type": "markdown"
      },
      "source": "Since a notebook is a way to tell a story, the order of the cells matters, especially for our code cells.\n\nOne thing to keep in mind is that all the cells in a Jupyter Notebook are connected to each other. So you want to organize your code cells in order from top to bottom. \n\nLet's try an example."
    },
    {
      "cell_type": "code",
      "execution_count": null,
      "metadata": {
        "cell_id": "cfcbd0de37394aa8a7a9a26ed7b3679f",
        "deepnote_cell_height": 221.140625,
        "deepnote_cell_type": "code",
        "output_cleared": false,
        "tags": [],
        "trusted": true
      },
      "outputs": [],
      "source": "# 4.1\n# Read this code. Predict which number will print out.\n\nmy_money <- 15\nmy_money <- 2\n\nmy_money"
    },
    {
      "cell_type": "markdown",
      "metadata": {
        "cell_id": "256a2282272e46988ef89abc8d1bba71",
        "deepnote_cell_height": 52.359375,
        "deepnote_cell_type": "markdown",
        "tags": []
      },
      "source": "4.2 - Why did it print that number? "
    },
    {
      "cell_type": "markdown",
      "metadata": {
        "cell_id": "738a9a038ceb4011beab7625bc1606be",
        "deepnote_cell_height": 163.125,
        "deepnote_cell_type": "markdown",
        "tags": []
      },
      "source": "<div class=\"alert alert-block alert-warning\">\n\n**Sample Responses**\n\nSince the R code runs from top to bottom, it printed that number because it was the last \nthing saved into the object. \n\n</div>"
    },
    {
      "cell_type": "markdown",
      "metadata": {
        "cell_id": "7e6b926d066548c9b7f20f85e6cc50f7",
        "deepnote_cell_height": 88.75,
        "deepnote_cell_type": "markdown",
        "tags": []
      },
      "source": "Let's say the 2 stands for 2 dollars.\n\nHm, how much would that be in cents instead of dollars?"
    },
    {
      "cell_type": "code",
      "execution_count": null,
      "metadata": {
        "cell_id": "2f9c764fe72349e4bfb3687227c61928",
        "deepnote_cell_height": 184.140625,
        "deepnote_cell_type": "code",
        "deepnote_output_heights": [
          20.1875
        ],
        "output_cleared": false,
        "tags": [],
        "trusted": true
      },
      "outputs": [],
      "source": "# Run this code.\n\nmy_money <- my_money / 100\n\nmy_money"
    },
    {
      "cell_type": "markdown",
      "metadata": {
        "cell_id": "f6ea9bcb31cc4a12b17656a54098a287",
        "deepnote_cell_height": 125.140625,
        "deepnote_cell_type": "markdown",
        "tags": []
      },
      "source": "Oops! We made a mistake. \n\nInstead of *dividing* by 100, we should have multiplied by 100.\n\nLet's change the division sign (/) above into multiplication (*) and re-run the code cell."
    },
    {
      "cell_type": "markdown",
      "metadata": {
        "cell_id": "b39308c6ffd740ec8a149972472de86a",
        "deepnote_cell_height": 88.75,
        "deepnote_cell_type": "markdown",
        "tags": []
      },
      "source": "4.3 - Do you get a number closer to what is expected? \n\nWhy not?"
    },
    {
      "cell_type": "markdown",
      "metadata": {
        "cell_id": "64290f960ccc4f84b1f8044a48c2de01",
        "deepnote_cell_type": "markdown",
        "tags": []
      },
      "source": "Well, we still don't get the answer because `my_money` had our mistake (0.02) in it.\nSo when we ran our code, we multiplied 0.02 with 100... which leads us back to 2.\n\nTo fix this, go to **Cell** from the menu bar and then select **Run All**. \nThis will re-run all the cells in the whole notebook in order."
    },
    {
      "cell_type": "markdown",
      "metadata": {
        "cell_id": "db3424cb5fa94c69a6aac00b4dfce709",
        "deepnote_cell_type": "markdown"
      },
      "source": "Check out this [short video to get a closer look at what the code is doing](https://vimeo.com/858772359)!"
    },
    {
      "cell_type": "markdown",
      "metadata": {
        "cell_id": "9d94f43c9671411a92c0d02b2c098223",
        "deepnote_cell_type": "markdown",
        "tags": []
      },
      "source": "<div class=\"alert alert-block alert-success\">\n\n### 5.0 - Approximate Time: 15-18 mins\n\n</div>"
    },
    {
      "cell_type": "markdown",
      "metadata": {
        "cell_id": "db5f7a0579c7468a91f81558bc016624",
        "deepnote_cell_type": "markdown",
        "tags": []
      },
      "source": "## 5.0 - Debugging"
    },
    {
      "cell_type": "markdown",
      "metadata": {
        "cell_id": "128fb26669fd44488671e87ecc543773",
        "deepnote_cell_type": "markdown",
        "tags": []
      },
      "source": "Everyone (even experts) will make errors during coding. \nSo a big part programming is debugging code that someone (students, teachers, professionals) wrote."
    },
    {
      "cell_type": "code",
      "execution_count": null,
      "metadata": {
        "cell_id": "3f10238554d9497da4345130511cf8fb",
        "deepnote_cell_type": "code",
        "output_cleared": true,
        "tags": [],
        "trusted": true
      },
      "outputs": [],
      "source": "# 5.1\n# Run the wrong code first\n# Then try debugging it\n\nfarm <- c(\"horse\", \"goat\", \"pig\", \"chicken\")\nFarm"
    },
    {
      "cell_type": "markdown",
      "metadata": {
        "cell_id": "73553ee1a99545f1b2e847dd959e8754",
        "deepnote_cell_type": "markdown",
        "tags": []
      },
      "source": "<div class=\"alert alert-block alert-warning\">\n\n**Sample Response**\n\nThe error message is saying that 'Farm' cannot be found. This is because all the letters in the \nobject should be lower case.\n\n**Debugged Code**\n\n`farm <- c(\"horse\", \"goat\", \"pig\", \"chicken\")`\n\n`farm`\n\n</div>"
    },
    {
      "cell_type": "code",
      "execution_count": null,
      "metadata": {
        "cell_id": "fbebc675a21045229f24df19266dd373",
        "deepnote_cell_type": "code",
        "output_cleared": true,
        "tags": [],
        "trusted": true
      },
      "outputs": [],
      "source": "# 5.2\n# Can you figure out how to debug this one based on the error message?\n\nfarm <- c(\"horse\", \"goat\", \"pig\", \"chicken\")\njungle <- c(\"jaguar\", elephant\", \"hippo\")\n\nanimals <- c(farm, jungle)"
    },
    {
      "cell_type": "markdown",
      "metadata": {
        "cell_id": "028d0d1b7f9f43e1a837d552c8bfe339",
        "deepnote_cell_type": "markdown",
        "tags": []
      },
      "source": "<div class=\"alert alert-block alert-warning\">\n\n**Sample Response**\n\nThe error message is telling us that something is wrong on code line 4 and the ^ \nsymbol is pointing to the word **elephant**. The word **elephant** is missing a quotation \nmark at the beginning. \n\n**Debugged Code**\n\n`farm <- c(\"horse\", \"goat\", \"pig\", \"chicken\")`\n\n`jungle <- c(\"jaguar\", \"elephant\", \"hippo\")`\n\n`animals <- c(farm, jungle)`\n\n</div>"
    },
    {
      "cell_type": "code",
      "execution_count": null,
      "metadata": {
        "cell_id": "9e512ed30f79411c9552ced24c9b4432",
        "deepnote_cell_type": "code",
        "output_cleared": true,
        "tags": [],
        "trusted": true
      },
      "outputs": [],
      "source": "# 5.3\n# Try this one\n# Does this error message help?\n\nfarm <- c(\"horse\", \"goat\", \"pig\", \"chicken\")\njungle <- c(\"jaguar\", \"elephant\", \"hippo\")\n\nanimals <- c(farm; jungle)\nanimals"
    },
    {
      "cell_type": "markdown",
      "metadata": {
        "cell_id": "6de2117dfb5d460582b01c5c753cb898",
        "deepnote_cell_type": "markdown",
        "tags": []
      },
      "source": "<div class=\"alert alert-block alert-warning\">\n\n**Sample Response**\n\nThis error message is telling us that something is wrong on line 6 and the ^ symbol is \npointing to the semicolon after **farm**. It should be a comma.\n\n**Debugged Code**\n\n`farm <- c(\"horse\", \"goat\", \"pig\", \"chicken\")`\n\n`jungle <- c(\"jaguar\", \"elephant\", \"hippo\")`\n\n`animals <- c(farm, jungle)`\n\n`animals`\n\n</div>"
    },
    {
      "cell_type": "code",
      "execution_count": null,
      "metadata": {
        "cell_id": "3ff8a8ba0a194ded9eb288e2dc76b39a",
        "deepnote_cell_type": "code",
        "output_cleared": true,
        "tags": [],
        "trusted": true
      },
      "outputs": [],
      "source": "# 5.4\n# How about this one?\n\nfarm[1]\nanimals(1)"
    },
    {
      "cell_type": "markdown",
      "metadata": {
        "cell_id": "218c32a379494671881fe0272c89da65",
        "deepnote_cell_type": "markdown",
        "tags": []
      },
      "source": "<div class=\"alert alert-block alert-warning\">\n\n**Sample Response**\n\nThe error message says that the function \"animals\" was not found. This is because we used parentheses instead \nof brackets to call on the first item in the vector.\n\n**Debugged Code**\n\n`farm[1]`\n\n`animals[1]`\n\n</div>"
    },
    {
      "cell_type": "code",
      "execution_count": null,
      "metadata": {
        "cell_id": "ef040ddfdfa14ce5b3c6d241e0ebe894",
        "deepnote_cell_type": "code",
        "output_cleared": true,
        "tags": [],
        "trusted": true
      },
      "outputs": [],
      "source": "# 5.5\n# What happened here?\n\nfarm[1] == anmals[1]"
    },
    {
      "cell_type": "markdown",
      "metadata": {
        "cell_id": "0f63fbbb435047968593d329ee410459",
        "deepnote_cell_type": "markdown",
        "tags": []
      },
      "source": "<div class=\"alert alert-block alert-warning\">\n\n**Sample Response**\n\nThe error message tells us that the object \"anmals\" was not found because the `animals` object is spelled \nincorrectly.\n\n**Debugged Code**\n\n`farm[1] == animals[1]`\n\n</div>"
    },
    {
      "cell_type": "markdown",
      "metadata": {
        "cell_id": "1c47f572f1894dd49bf4cc597a6ac815",
        "deepnote_cell_type": "markdown",
        "tags": []
      },
      "source": "The R error messages sometimes use a lot of jargon and are not always easy to understand, so don’t worry if they don’t always make much sense. Just think of them as clues from the computer that you have to figure out! It's kind of like trying to solve a little mystery.\n\nIn the examples above, what are some coding errors you saw?\n- describe some of\n- the errors you\n- saw here"
    },
    {
      "cell_type": "markdown",
      "metadata": {
        "cell_id": "d8ee0c90870c4719886dd496765eac9e",
        "deepnote_cell_type": "markdown",
        "tags": []
      },
      "source": "<div class=\"alert alert-block alert-warning\">\n\n**Sample Response**\n\n- wrong letter case used\n- missing quotation mark\n- using semicolon instead of comma\n- using parentheses instead of brackets\n- misspelled word\n\n</div>"
    },
    {
      "cell_type": "markdown",
      "metadata": {
        "cell_id": "320de374cbb545b39162df97c5af144d",
        "deepnote_cell_type": "markdown",
        "tags": []
      },
      "source": "<div class=\"alert alert-block alert-success\">\n\n### 6.0 - Approximate Time: 8-10 mins\n\n</div>"
    },
    {
      "cell_type": "markdown",
      "metadata": {
        "cell_id": "3a3bdc9d588c4724b65ac5cb7541efa5",
        "deepnote_cell_type": "markdown"
      },
      "source": "## 6.0 - Explore!"
    },
    {
      "cell_type": "markdown",
      "metadata": {
        "cell_id": "34d9dbf5c71d49039dcc4a697fffad0d",
        "deepnote_cell_type": "markdown",
        "tags": []
      },
      "source": "If you hover above each of the buttons in the toolbar, you will see text show up to tell you what they are. Try using the buttons to do the following:"
    },
    {
      "cell_type": "markdown",
      "metadata": {
        "cell_id": "72a213a1c5cf4799b0e0dc5cf7d4ebdb",
        "deepnote_cell_type": "markdown",
        "tags": []
      },
      "source": "6.1 - Save your work (frequently)! Which button would you use for that?"
    },
    {
      "cell_type": "markdown",
      "metadata": {
        "cell_id": "910d69886981425bad0cea675890b5a1",
        "deepnote_cell_type": "markdown",
        "tags": []
      },
      "source": "<div class=\"alert alert-block alert-warning\">\n\n**Sample Response**\n\n*Students can use the floppy disk icon to save their work.*\n\n</div>"
    },
    {
      "cell_type": "markdown",
      "metadata": {
        "cell_id": "f2d6442c270c4a15aaea7ef6251834fc",
        "deepnote_cell_type": "markdown",
        "tags": []
      },
      "source": "6.2 - Move a cell up or down. "
    },
    {
      "cell_type": "markdown",
      "metadata": {
        "cell_id": "efc13b4c6f664e07958d4616a7ebd5df",
        "deepnote_cell_type": "markdown",
        "tags": []
      },
      "source": "<div class=\"alert alert-block alert-warning\">\n\n**Sample Response**\n\n*Students can use the up or down arrow icons to move cells up or down.*\n\n</div>"
    },
    {
      "cell_type": "markdown",
      "metadata": {
        "cell_id": "63f4cf226e404d92bae4008d0ee56ee0",
        "deepnote_cell_type": "markdown",
        "tags": []
      },
      "source": "6.3 - Use the buttons to add a cell and delete a cell."
    },
    {
      "cell_type": "markdown",
      "metadata": {
        "cell_id": "c91570696cd1429a99e2da38ff43d527",
        "deepnote_cell_type": "markdown",
        "tags": []
      },
      "source": "<div class=\"alert alert-block alert-warning\">\n\n**Sample Response**\n\nThe scissors icon will delete a cell, and the '+' icon will insert a new cell.\n\n</div>"
    },
    {
      "cell_type": "markdown",
      "metadata": {
        "cell_id": "00afbb50860e4f269ba4f4f4c9858f8c",
        "deepnote_cell_type": "markdown",
        "tags": []
      },
      "source": "6.4 - Copy a cell and paste it somewhere else in the notebook."
    },
    {
      "cell_type": "markdown",
      "metadata": {
        "cell_id": "3cb7c4b1ba0b4cf785f9fec5c9eace43",
        "deepnote_cell_type": "markdown",
        "tags": []
      },
      "source": "<div class=\"alert alert-block alert-warning\">\n\n**Sample Response**\n\n*The icon with the duplicate pages will copy a cell, and the icon with the white paper over the carbon paper \nwill paste the cell underneath any cell you select in the notebook.*\n\n</div>"
    },
    {
      "cell_type": "markdown",
      "metadata": {
        "cell_id": "b4bd6cae2c724d46b1a57dbc7afce50b",
        "deepnote_cell_type": "markdown",
        "tags": []
      },
      "source": "6.5 - What does a **hashtag** (#) at the beginning of a line do in a **markdown** cell? What does it do in a **code** cell?"
    },
    {
      "cell_type": "markdown",
      "metadata": {
        "cell_id": "545986371ba9458489c99ce1e3c0f2b4",
        "deepnote_cell_type": "markdown",
        "tags": []
      },
      "source": "<div class=\"alert alert-block alert-warning\">\n\n**Sample Response**\n\nA hashtag at the start of a line in a markdown cell will indicate a heading level, and a hashtag at the \nstart of a line in a code cell will create a comment line (so it won't try to run those lines as code). \n\n</div>"
    },
    {
      "cell_type": "markdown",
      "metadata": {
        "cell_id": "21948e18e9c845728b9e1f778662adef",
        "deepnote_cell_type": "markdown",
        "tags": []
      },
      "source": "<div class=\"alert alert-block alert-success\">\n\n### 7.0 - Approximate Time: 3-5 mins\n\n</div>"
    },
    {
      "cell_type": "markdown",
      "metadata": {
        "cell_id": "e288ad16eddc4af2930baa78854a5a54",
        "deepnote_cell_type": "markdown"
      },
      "source": "## 7.0 - Closing up\n\nRemember, Jupyter notebooks are for *your use* so you can customize it in a way that is most helpful to YOU! For example, you can add Markdown cells for your own notes or answers; you can write some answers right below questions; you can use comments (that start with #) within code cells to annotate your answers. If any questions come up that you want to ask later, you can write those questions in as well! "
    }
  ],
  "metadata": {
    "deepnote_notebook_id": "db27f3ab5e414943b037bb207a646625",
    "kernelspec": {
      "display_name": "R",
      "language": "R",
      "name": "ir"
    },
    "language_info": {
      "codemirror_mode": "r",
      "file_extension": ".r",
      "mimetype": "text/x-r-source",
      "name": "R",
      "pygments_lexer": "r",
      "version": "4.3.3"
    },
    "nbsimplegrader": {
      "publish_config": {
        "classes": [],
        "options": [],
        "tools": []
      }
    }
  },
  "nbformat": 4,
  "nbformat_minor": 1
}