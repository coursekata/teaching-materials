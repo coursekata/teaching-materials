{
  "cells": [
    {
      "cell_type": "markdown",
      "metadata": {
        "cell_id": "ac933972-2116-4eb2-add6-27266b1063a8"
      },
      "source": "# Timing the Miss: Z-Scores and the Shape of Errors\n\n## Chapter 6.4 - 6.6"
    },
    {
      "cell_type": "code",
      "execution_count": null,
      "metadata": {
        "cell_id": "86968422-31d9-4355-977e-8ab4799e937d",
        "nbsimplegrader": {
          "config_key": "code.run-only",
          "editable": false,
          "label": "Code: Run-Only",
          "respondable": false,
          "response": null,
          "runnable": true,
          "type": "code"
        },
        "trusted": true
      },
      "outputs": [],
      "source": "# This code will load the R packages we will use\nlibrary(coursekata)\n\n# set styles\ncss <- suppressWarnings(readLines(\"https://raw.githubusercontent.com/jimstigler/jupyter/master/ck_jupyter_styles_v2.css\"))\nIRdisplay::display_html(sprintf('<style>%s</style>', paste(css, collapse = \"\\n\")))"
    },
    {
      "cell_type": "markdown",
      "metadata": {
        "cell_id": "1373d2ec-6ddf-4692-a848-171dc40ee40e"
      },
      "source": "## Problem #1:\n\nCreate a data frame for the class data and call it `stopwatch`."
    },
    {
      "cell_type": "code",
      "execution_count": null,
      "metadata": {
        "nbsimplegrader": {
          "config_key": "code.response",
          "editable": true,
          "label": "Response: Code",
          "respondable": true,
          "response": null,
          "runnable": true,
          "type": "code"
        },
        "trusted": true
      },
      "outputs": [],
      "source": "#code here\nID <- c(\"enter students' ID separated by commas here\")\ntime <- c(\"enter students' times separated by commas here\")\n\nstopwatch <- data.frame(ID, time)\n"
    },
    {
      "cell_type": "markdown",
      "metadata": {
        "cell_id": "a597e788-306f-47e6-a2e4-a3a17bd968de"
      },
      "source": "## Problem #2:\n\nCalculate the mean and standard deviation of `time`."
    },
    {
      "cell_type": "code",
      "execution_count": null,
      "metadata": {
        "nbsimplegrader": {
          "config_key": "code.response",
          "editable": true,
          "label": "Response: Code",
          "respondable": true,
          "response": null,
          "runnable": true,
          "type": "code"
        },
        "trusted": true
      },
      "outputs": [],
      "source": "#write code here\n\n\n"
    },
    {
      "cell_type": "markdown",
      "metadata": {},
      "source": "## Problem #3:\n\nCalculate and interpret your own z-score."
    },
    {
      "cell_type": "code",
      "execution_count": null,
      "metadata": {
        "nbsimplegrader": {
          "config_key": "code.response",
          "editable": true,
          "label": "Response: Code",
          "respondable": true,
          "response": null,
          "runnable": true,
          "type": "code"
        },
        "trusted": true
      },
      "outputs": [],
      "source": "#write code here\n\n"
    },
    {
      "cell_type": "markdown",
      "metadata": {
        "nbsimplegrader": {
          "config_key": "markdown.response",
          "editable": true,
          "label": "Response: Markdown",
          "respondable": true,
          "response": null,
          "runnable": true,
          "type": "markdown"
        }
      },
      "source": "Problem 3 Response:"
    },
    {
      "cell_type": "markdown",
      "metadata": {},
      "source": "## Problem #4:\n\nCalculate the z-scores for each student and save it in the data frame `stopwatch`. "
    },
    {
      "cell_type": "code",
      "execution_count": null,
      "metadata": {
        "nbsimplegrader": {
          "config_key": "code.response",
          "editable": true,
          "label": "Response: Code",
          "respondable": true,
          "response": null,
          "runnable": true,
          "type": "code"
        },
        "trusted": true
      },
      "outputs": [],
      "source": "#complete the code\nstopwatch$zscores <- ( - mean())/sd()\n\n"
    },
    {
      "cell_type": "markdown",
      "metadata": {},
      "source": "## Another Class' Data"
    },
    {
      "cell_type": "markdown",
      "metadata": {},
      "source": "## Problem #5:\n\nLoad the other class's data in R.  Calculate that class's mean and standard deviation. Then compare your z-score to a student in the other class who got a time of 4.73 seconds."
    },
    {
      "cell_type": "code",
      "execution_count": null,
      "metadata": {
        "nbsimplegrader": {
          "config_key": "code.response",
          "editable": true,
          "label": "Response: Code",
          "respondable": true,
          "response": null,
          "runnable": true,
          "type": "code"
        },
        "trusted": true
      },
      "outputs": [],
      "source": "#load the data for another class\n\nID <- 1:87\ntime <- c(\n  4.95, 4.96, 4.97, 4.95, 5.03, 4.92, 4.98, 4.9, 5.01, 4.95,\n  4.99, 5.00, 5.28, 4.51, 4.74, 5.09, 4.81, 4.90, 5.12, 5.09,\n  5.35, 5.12, 5.27, 5.08, 4.98, 5.10, 5.05, 4.57, 5.00, 5.08,\n  5.00, 4.86, 5.01, 4.91, 4.93, 4.95, 4.83, 4.85, 5.08, 5.21,\n  5.02, 5.02, 4.73, 4.85, 4.87, 5.04, 5.00, 5.05, 5.00, 5.10,\n  4.94, 4.83, 5.15, 4.95, 5.25, 4.86, 5.07, 4.96, 4.80, 5.00,\n  5.02, 4.82, 5.00, 5.07, 4.99, 4.75, 4.86, 5.02, 4.99, 4.84,\n  4.61, 5.04, 4.80, 5.00, 5.09, 5.32, 4.94, 4.84, 4.91, 5.30,\n  4.98, 5.35, 5.00, 4.93, 5.30, 4.96, 4.53\n)\n\nstopwatch2 <- data.frame(ID, time)\nfavstats(time, data = stopwatch2)"
    },
    {
      "cell_type": "markdown",
      "metadata": {},
      "source": "## Problem #6:\n\nTake a look at the distribution of `time` for the other class and compare it to their residuals of time.  What do you notice about the shapes of each distribution?  Why does this make sense?"
    },
    {
      "cell_type": "code",
      "execution_count": null,
      "metadata": {
        "nbsimplegrader": {
          "config_key": "code.response",
          "editable": true,
          "label": "Response: Code",
          "respondable": true,
          "response": null,
          "runnable": true,
          "type": "code"
        },
        "trusted": true
      },
      "outputs": [],
      "source": "#complete the code to calculate and save the residuals\n\nempty_model2 <- lm(time ~ NULL, data = stopwatch2)\nstopwatch2$residuals <-\n\n#create 2 histograms for both time and residuals\n\n"
    },
    {
      "cell_type": "markdown",
      "metadata": {
        "nbsimplegrader": {
          "config_key": "markdown.response",
          "editable": true,
          "label": "Response: Markdown",
          "respondable": true,
          "response": null,
          "runnable": true,
          "type": "markdown"
        }
      },
      "source": "Problem 6 Response:"
    },
    {
      "cell_type": "markdown",
      "metadata": {},
      "source": "## Problem #7:\n\nWhat’s the probability that a student takes 0.2 seconds longer to stop the time at 5 seconds than the class mean?"
    },
    {
      "cell_type": "code",
      "execution_count": null,
      "metadata": {
        "nbsimplegrader": {
          "config_key": "code.response",
          "editable": true,
          "label": "Response: Code",
          "respondable": true,
          "response": null,
          "runnable": true,
          "type": "code"
        },
        "trusted": true
      },
      "outputs": [],
      "source": "#use tally to count all the residuals greater than 0.2\n\n\n"
    },
    {
      "cell_type": "markdown",
      "metadata": {},
      "source": "## Problem #8:\n\nCreate a sample of 1000 stop times using the `stopwatch2` data frame and view the distribution in a histogram.  What do you notice about the shape?"
    },
    {
      "cell_type": "code",
      "execution_count": null,
      "metadata": {
        "nbsimplegrader": {
          "config_key": "code.response",
          "editable": true,
          "label": "Response: Code",
          "respondable": true,
          "response": null,
          "runnable": true,
          "type": "code"
        },
        "trusted": true
      },
      "outputs": [],
      "source": "#code here\n\nsample <- resample(stopwatch2$time, )\nsample_df <- data.frame(time = sample)\ngf_histogram()\n\n"
    },
    {
      "cell_type": "markdown",
      "metadata": {
        "nbsimplegrader": {
          "config_key": "markdown.response",
          "editable": true,
          "label": "Response: Markdown",
          "respondable": true,
          "response": null,
          "runnable": true,
          "type": "markdown"
        }
      },
      "source": "Problem 3 Response:"
    }
  ],
  "metadata": {
    "deepnote_execution_queue": [],
    "deepnote_notebook_id": "2b51a89a-e42e-4675-9260-1000d5b5ae22",
    "kernelspec": {
      "display_name": "R",
      "language": "R",
      "name": "ir"
    },
    "language_info": {
      "codemirror_mode": "r",
      "file_extension": ".r",
      "mimetype": "text/x-r-source",
      "name": "R",
      "pygments_lexer": "r",
      "version": "4.3.3"
    },
    "nbsimplegrader": {
      "publish_config": {
        "classes": [],
        "options": [],
        "tools": []
      }
    }
  },
  "nbformat": 4,
  "nbformat_minor": 2
}