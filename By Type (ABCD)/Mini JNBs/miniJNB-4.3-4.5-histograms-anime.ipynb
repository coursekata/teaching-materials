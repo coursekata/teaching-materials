{
  "cells": [
    {
      "cell_type": "markdown",
      "metadata": {
        "cell_id": "385a8b29d38b4cc2a1c2b17072c8e351",
        "deepnote_cell_type": "markdown"
      },
      "source": "<div class=\"alert alert-info\">\n    \n<center>Paper Activity</center>\n\n- [Handout](https://docs.google.com/document/d/1171XF8D0Xkxc8IbaBMOV61lr4aBTvIimWkOXYjKhgVg/edit?usp=sharing)\n- Needs scissors and markers/highlighters\n    \n</div>"
    },
    {
      "cell_type": "code",
      "execution_count": null,
      "metadata": {
        "cell_id": "494ef701054c4eb0a6160641adab994b",
        "deepnote_cell_type": "code",
        "trusted": true
      },
      "outputs": [],
      "source": "library(coursekata)\nlibrary(tidyverse)\n\n# pull My Anime List data from github\nanime_long <- readr::read_csv(\"https://raw.githubusercontent.com/rfordatascience/tidytuesday/master/data/2019/2019-04-23/tidy_anime.csv\", show_col_types = FALSE)\n\nanime <- anime_long %>% \n  distinct(animeID, .keep_all = TRUE) %>% \n  filter(scored_by >= 100, !is.na(score), !is.na(start_date)) %>% \n  filter(type == \"TV\") %>%\n  mutate(decade = (year(start_date) %/% 10) * 10,\n         rating = factor(rating, labels = c(\"None\", \"G\", \"PG\", \"PG-13\", \"R\", \"R+\")) )\n\nanime <- anime %>%\n  select(c(2,4,6,7,9,10,11, 29, 17, 18, 19, 20, 21, 22, 23)) \n"
    },
    {
      "cell_type": "markdown",
      "metadata": {
        "cell_id": "19113fab47db429394d05a4dabe44e54",
        "deepnote_cell_type": "markdown"
      },
      "source": "# Exploration of Anime\n\nMyAnimeList (MAL) is an anime and manga social networking and cataloging website. MAL provides a list-like system so users can organize and score preferred anime and manga. The site claims to have 4.4 million anime and 775,000 manga entries and records millions of visitors a month.\n\nThe `anime` data frame contains 3,259 anime TV series with the following 15 variables:\n    \n- `name` anime title - extracted from MAL\n- `title_japanese` title in Japanese (if anime is Chinese or Korean, the title, if available, in the respective language)\n- `type` anime type (e.g., Movie, Music, ONA-original net animation, OVA-original video animation, Special, TV); all anime in this data frame are TV type\n- `source` source of anime (i.e original, manga, game, music, visual novel etc.)\n- `genre`\tgenre\n- `studio`\tstudio\n- `episodes`\tnumber of episodes\n- `decade` decade started\n- `rating`\tsuitability for certain audiences (None, G, PG, PG-13, R, R+)\n- `score`\tMAL allows users to score the anime on their list on a scale from 1 to 10. These scores are then aggregated to give each anime in the database a rank from best to worst. Higher indicates better anime. \n- `scored_by`\tnumber of users that scored; this data frame only contains anime scored by at least 100 users\n- `rank`\trank - weight according to MAL formula (available at [wikipedia](https://en.wikipedia.org/wiki/MyAnimeList))\n- `popularity`\tbased on how many users have the respective anime in their list\n- `members`\tnumber users that added this anime in their list\n- `favorites`\tnumber users that favorites this anime in their list\n\nThese are a subset of data from the various rankings and scores available at [MyAnimeList.net](MyAnimeList.net). The data set was originally featured on [TidyTuesday](https://github.com/rfordatascience/tidytuesday/tree/master/data/2019/2019-04-23), made available by [Tam Nguyen via Kaggle](https://www.kaggle.com/nthanhtam), and cleaned by [David Smale](https://davidsmale.netlify.app/portfolio/customising-ggplot2-graphics/) and further cleaned by CourseKata."
    },
    {
      "cell_type": "markdown",
      "metadata": {
        "cell_id": "15715c9b585c4d3692d8492297e93c47",
        "deepnote_cell_type": "markdown"
      },
      "source": "## Have anime gotten more risque?\n\nIs there any relationship between the audience rating (e.g., G, PG, R) and the decade the anime was released in?"
    },
    {
      "cell_type": "markdown",
      "metadata": {
        "cell_id": "fdd7acfe278b4841ba22047ddcbe3b71",
        "deepnote_cell_type": "markdown"
      },
      "source": "## Which decades had the highest scoring anime?\n"
    },
    {
      "cell_type": "markdown",
      "metadata": {
        "cell_id": "488f306ad6c2434abbfcf2136faf10b1",
        "deepnote_cell_type": "markdown"
      },
      "source": "## Is the rating of an anime useful for predicting how well it scores?"
    },
    {
      "cell_type": "markdown",
      "metadata": {
        "cell_id": "444129c036174ec39a2f5912e97107b3",
        "deepnote_cell_type": "markdown"
      },
      "source": "## Write your own question."
    }
  ],
  "metadata": {
    "deepnote_notebook_id": "b04a75f3058e48668a97c1c76e9e46c0",
    "kernelspec": {
      "display_name": "R",
      "language": "R",
      "name": "ir"
    },
    "language_info": {
      "codemirror_mode": "r",
      "file_extension": ".r",
      "mimetype": "text/x-r-source",
      "name": "R",
      "pygments_lexer": "r",
      "version": "4.3.3"
    },
    "nbsimplegrader": {
      "publish_config": {
        "classes": [],
        "options": [],
        "tools": []
      }
    }
  },
  "nbformat": 4,
  "nbformat_minor": 1
}