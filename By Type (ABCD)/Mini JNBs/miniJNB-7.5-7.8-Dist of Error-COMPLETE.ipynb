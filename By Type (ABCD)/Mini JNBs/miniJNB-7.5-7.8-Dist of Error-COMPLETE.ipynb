{
  "cells": [
    {
      "cell_type": "markdown",
      "metadata": {
        "cell_id": "4186668eaeda45a6a2b2cbfbebec2df8",
        "deepnote_cell_type": "markdown"
      },
      "source": "#  The Distribution of Error (COMPLETE)\n\n## Chapter 7.5-7.8"
    },
    {
      "cell_type": "code",
      "execution_count": null,
      "metadata": {
        "cell_id": "25caa74766e7443395264a5e810e7fb6",
        "deepnote_cell_type": "code",
        "execution_context_id": "57074c1b-56dc-4078-b5d4-00f4c8228150",
        "execution_millis": 1107,
        "execution_start": 1743702784619,
        "scrolled": false,
        "source_hash": "240debbc",
        "trusted": true
      },
      "outputs": [],
      "source": "# This code will load the R packages we will use\nlibrary(coursekata)\n\n# set styles\ncss <- suppressWarnings(readLines(\"https://raw.githubusercontent.com/jimstigler/jupyter/master/ck_jupyter_styles_v2.css\"))\nIRdisplay::display_html(sprintf('<style>%s</style>', paste(css, collapse = \"\\n\")))\n"
    },
    {
      "cell_type": "markdown",
      "metadata": {},
      "source": "<div class=\"teacher-note\">\n    <b>Teacher notes: </b>The purpose of this mini-JNB is guide students through fitting a group model using Spotify data, calculating residuals, and analyzing their distribution to build foundational understanding of model fit.\n</div>"
    },
    {
      "cell_type": "markdown",
      "metadata": {},
      "source": "This notebook is a [companion to this worksheet](https://docs.google.com/document/d/1AqRiIsPZjJOoprTXwlBcxZ-3m9cD3p-zLnpefp_yAc4/edit?tab=t.m0f586f9j0gp#heading=h.3he07u916vp9)"
    },
    {
      "cell_type": "markdown",
      "metadata": {},
      "source": "## About the Data\n\n\nThe data frame comes from Spotify and contains audio features for over 30,000 songs. Spotify uses machine learning to analyze songs and generate scores for various musical qualities.  More about the data can be found on GitHub [here](https://github.com/rfordatascience/tidytuesday/blob/main/data/2020/2020-01-21/readme.md).  \n\nThe variables we'll be using are:\n- `mode`whether a song is in a major key (1) or a minor key (0). \n- `energy`represents how energetic a song feels (0.0 to 1.0, 1.0 being most energetic)\n\nFor the purpose of this activity, we'll just work with a sample of 100 songs.  We’re exploring whether the `mode` of a song (major or minor key) affects how energetic it sounds."
    },
    {
      "cell_type": "code",
      "execution_count": null,
      "metadata": {
        "trusted": true
      },
      "outputs": [],
      "source": "#load the data and get a sample of 100 songs\nset.seed(707)\ndata <- read.csv(\"https://github.com/rfordatascience/tidytuesday/raw/refs/heads/main/data/2020/2020-01-21/spotify_songs.csv\", header = TRUE)\ndata <- data[sample(nrow(data), 100), ]\n\nspotify_sample <- select(data,track_name, track_artist, mode, energy)\nhead(spotify_sample)\n"
    },
    {
      "cell_type": "markdown",
      "metadata": {},
      "source": "### 1 Fit the Model\n\nFit a group model that predicts `energy` based on `mode`."
    },
    {
      "cell_type": "code",
      "execution_count": null,
      "metadata": {
        "trusted": true
      },
      "outputs": [],
      "source": "# complete and run code here\n\n\n#sample code \nmode_model <- lm(energy ~ mode, data = spotify_sample)\nmode_model\n"
    },
    {
      "cell_type": "markdown",
      "metadata": {},
      "source": "### 2 Predictions & Residuals\n\nCalculate the predictions and residuals of the group model."
    },
    {
      "cell_type": "code",
      "execution_count": null,
      "metadata": {
        "trusted": true
      },
      "outputs": [],
      "source": "# complete and run code here\n\n\n#sample code\nspotify_sample$pred <- predict(mode_model)\nspotify_sample$resid <- resid(mode_model)\n\nsample(spotify_sample, 3)"
    },
    {
      "cell_type": "markdown",
      "metadata": {},
      "source": "### 3 Distribution of Residuals\n\nMake a histogram of residuals of your model."
    },
    {
      "cell_type": "code",
      "execution_count": null,
      "metadata": {
        "trusted": true
      },
      "outputs": [],
      "source": "# complete and run code here\n\n\n#sample code\ngf_histogram(~resid, data = spotify_sample)\n"
    }
  ],
  "metadata": {
    "deepnote_notebook_id": "93365a0e84e4470aa612b848c32da8f2",
    "kernelspec": {
      "display_name": "R",
      "language": "R",
      "name": "ir"
    },
    "language_info": {
      "codemirror_mode": "r",
      "file_extension": ".r",
      "mimetype": "text/x-r-source",
      "name": "R",
      "pygments_lexer": "r",
      "version": "4.3.3"
    },
    "nbsimplegrader": {
      "publish_config": {
        "classes": [],
        "options": {},
        "tools": []
      }
    }
  },
  "nbformat": 4,
  "nbformat_minor": 1
}