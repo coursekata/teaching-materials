{
  "cells": [
    {
      "cell_type": "markdown",
      "metadata": {
        "cell_id": "4186668eaeda45a6a2b2cbfbebec2df8",
        "deepnote_cell_type": "markdown"
      },
      "source": "# The Normal Distribution (COMPLETE)\n\n## Chapter 6.7-6.11"
    },
    {
      "cell_type": "code",
      "execution_count": null,
      "metadata": {
        "cell_id": "25caa74766e7443395264a5e810e7fb6",
        "deepnote_cell_type": "code",
        "execution_context_id": "57074c1b-56dc-4078-b5d4-00f4c8228150",
        "execution_millis": 1107,
        "execution_start": 1743702784619,
        "scrolled": false,
        "source_hash": "240debbc",
        "trusted": true
      },
      "outputs": [],
      "source": "# This code will load the R packages we will use\nlibrary(coursekata)\n\n# set styles\ncss <- suppressWarnings(readLines(\"https://raw.githubusercontent.com/jimstigler/jupyter/master/ck_jupyter_styles_v2.css\"))\nIRdisplay::display_html(sprintf('<style>%s</style>', paste(css, collapse = \"\\n\")))\n"
    },
    {
      "cell_type": "markdown",
      "metadata": {},
      "source": "<div class=\"teacher-note\">\n    <b>Teacher notes: </b>The purpose of this mini-JNB is for students to use the normal model to make predictions. \n</div>"
    },
    {
      "cell_type": "markdown",
      "metadata": {},
      "source": "[This is a companion JNB to this worksheet](https://docs.google.com/document/d/1B1tToBH8hqSQpKplKnqSHGd0Utt31bNYQ7yueYqqwfI/edit?tab=t.m0f586f9j0gp#heading=h.3he07u916vp9)"
    },
    {
      "cell_type": "markdown",
      "metadata": {},
      "source": "## Class Data for tap_count "
    },
    {
      "cell_type": "code",
      "execution_count": null,
      "metadata": {
        "trusted": true
      },
      "outputs": [],
      "source": "#enter the class data\nID <- 1:?\ntap_count <- c()\n\n#sample data\nID <- 1:30\ntap_count <- c(42, 45, 46, 48, 49, 50, 52, 53, 54, 54,\n               55, 55, 56, 56, 56, 57, 57, 58, 58, 59,\n               60, 60, 61, 62, 63, 64, 65, 67, 68, 71)\n\nclass_data <- data.frame(ID, tap_count)\n"
    },
    {
      "cell_type": "markdown",
      "metadata": {},
      "source": "## Fit the empty model to tap_count"
    },
    {
      "cell_type": "code",
      "execution_count": null,
      "metadata": {
        "trusted": true
      },
      "outputs": [],
      "source": "#complete and run code\n\n\n#sample code\nempty_model <- lm(tap_count ~ NULL, data = class_data)\nempty_model\n"
    },
    {
      "cell_type": "markdown",
      "metadata": {},
      "source": "## Calculate the Residuals & Visualize the Distribution"
    },
    {
      "cell_type": "code",
      "execution_count": null,
      "metadata": {
        "trusted": true
      },
      "outputs": [],
      "source": "#complete and run code\n\n\n#sample code\nclass_data$resid <- resid(empty_model)\ngf_histogram(~resid, data = class_data, bins = 7)\n"
    },
    {
      "cell_type": "markdown",
      "metadata": {},
      "source": "## The Distribution of tap_count"
    },
    {
      "cell_type": "code",
      "execution_count": null,
      "metadata": {
        "scrolled": false,
        "trusted": true
      },
      "outputs": [],
      "source": "# complete and run code\n#gf_histogram(~variable, data = class_data, bins = )\n\n#sample code\ngf_histogram(~tap_count, data = class_data, bins = 7)\n"
    },
    {
      "cell_type": "markdown",
      "metadata": {},
      "source": "## Calculate the mean and standard deviation of tap_count"
    },
    {
      "cell_type": "code",
      "execution_count": null,
      "metadata": {
        "trusted": true
      },
      "outputs": [],
      "source": "#complete and run the code below\n\n\n#sample code\nmean(class_data$tap_count)\nsd(class_data$tap_count)\n\n#or \nfavstats(~tap_count, data = class_data)\n"
    },
    {
      "cell_type": "markdown",
      "metadata": {},
      "source": "## Using the Normal Model to make predictions"
    },
    {
      "cell_type": "code",
      "execution_count": null,
      "metadata": {
        "trusted": true
      },
      "outputs": [],
      "source": "#complete and run the code for question 12\n\nxpnorm(, mean(), sd())\n\n#sample code for question 12\n\nxpnorm(65, mean(class_data$tap_count), sd(class_data$tap_count))\n"
    },
    {
      "cell_type": "code",
      "execution_count": null,
      "metadata": {
        "trusted": true
      },
      "outputs": [],
      "source": "#complete and run the code for question 13\n\n\n#sample code for question 13\n\nxpnorm(60, mean(class_data$tap_count), sd(class_data$tap_count)) \nxpnorm(50, mean(class_data$tap_count), sd(class_data$tap_count))\n"
    },
    {
      "cell_type": "code",
      "execution_count": null,
      "metadata": {
        "trusted": true
      },
      "outputs": [],
      "source": "0.683668586792942-0.165911405742671"
    }
  ],
  "metadata": {
    "deepnote_notebook_id": "93365a0e84e4470aa612b848c32da8f2",
    "kernelspec": {
      "display_name": "R",
      "language": "R",
      "name": "ir"
    },
    "language_info": {
      "codemirror_mode": "r",
      "file_extension": ".r",
      "mimetype": "text/x-r-source",
      "name": "R",
      "pygments_lexer": "r",
      "version": "4.3.3"
    },
    "nbsimplegrader": {
      "publish_config": {
        "classes": [],
        "options": {},
        "tools": []
      }
    }
  },
  "nbformat": 4,
  "nbformat_minor": 1
}