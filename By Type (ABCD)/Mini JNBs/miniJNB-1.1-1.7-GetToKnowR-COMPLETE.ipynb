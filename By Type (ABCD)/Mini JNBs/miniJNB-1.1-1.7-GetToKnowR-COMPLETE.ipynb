{
  "cells": [
    {
      "cell_type": "markdown",
      "metadata": {
        "cell_id": "2b0df4cd868145e589b667a10ee02c0d",
        "deepnote_cell_type": "markdown"
      },
      "source": "# Getting to Know R (COMPLETE)\n\n## Chapter 1.1 - 1.7 Introduction to R Functions"
    },
    {
      "cell_type": "code",
      "execution_count": null,
      "metadata": {
        "cell_id": "30494af3aab04da2bf2294794a66b59a",
        "deepnote_cell_type": "code",
        "execution_context_id": "57074c1b-56dc-4078-b5d4-00f4c8228150",
        "execution_millis": 1107,
        "execution_start": 1743702784619,
        "scrolled": false,
        "source_hash": "240debbc",
        "trusted": true
      },
      "outputs": [],
      "source": "# This code will load the R packages we will use\nlibrary(coursekata)\n\n# set styles\ncss <- suppressWarnings(readLines(\"https://raw.githubusercontent.com/jimstigler/jupyter/master/ck_jupyter_styles_v2.css\"))\nIRdisplay::display_html(sprintf('<style>%s</style>', paste(css, collapse = \"\\n\")))\n"
    },
    {
      "cell_type": "markdown",
      "metadata": {
        "cell_id": "300f7e0ed8224f2caa98a2bae7cfed35",
        "deepnote_cell_type": "markdown"
      },
      "source": "<div class=\"teacher-note\">\n    <b>Teacher Note:</b> The purpose of this mini-JNB is to practice basic R functions with vectors.\n</div>"
    },
    {
      "cell_type": "markdown",
      "metadata": {
        "cell_id": "abf57b69f71941b3bd4efc02a88a5703",
        "deepnote_cell_type": "markdown"
      },
      "source": "### 1.1 Make Vectors\n\nMake a vector of the first 10 even numbers that saves the results in a vector called `even_num`.  Complete the code below."
    },
    {
      "cell_type": "code",
      "execution_count": null,
      "metadata": {
        "cell_id": "cebc0f7d82cd48ed86736d9b3551756e",
        "deepnote_cell_type": "code",
        "scrolled": false,
        "trusted": true
      },
      "outputs": [],
      "source": "# complete and run code here\neven_num <- c(\n\n# sample code\neven_num <- c(2, 4, 6, 8, 10, 12, 14, 16, 18, 20)"
    },
    {
      "cell_type": "markdown",
      "metadata": {
        "cell_id": "a2861216d73a4adda8e33592ad14de8c",
        "deepnote_cell_type": "markdown"
      },
      "source": "### 1.2  \nWhy didn't anything print out?  Explain.\n\n<div class=\"teacher-note\">\n\n<b>Sample Response</b>: The results were only saved.\n    \n</div>"
    },
    {
      "cell_type": "markdown",
      "metadata": {
        "cell_id": "ac6430ea8b5f42479b9f9c3bd2843c0d",
        "deepnote_cell_type": "markdown"
      },
      "source": "### 1.3\n\nWhat line of code would you use to print the results of `even_num`?\n"
    },
    {
      "cell_type": "code",
      "execution_count": null,
      "metadata": {
        "cell_id": "aad6b3c099b7454fae7615840eca9121",
        "deepnote_cell_type": "code",
        "trusted": true
      },
      "outputs": [],
      "source": "# complete and run the code here\n\n\n# sample code\neven_num\n#or print[even_num]"
    },
    {
      "cell_type": "markdown",
      "metadata": {
        "cell_id": "de9db41cf31f47218c64dd7ca6efaba4",
        "deepnote_cell_type": "markdown"
      },
      "source": "### 1.4\n\nWhat is the line of code you would use to see only the third element in the vector `even_num`?  Complete the code below."
    },
    {
      "cell_type": "code",
      "execution_count": null,
      "metadata": {
        "cell_id": "9ccb2695a78048c69246d6b1967fff04",
        "deepnote_cell_type": "code",
        "trusted": true
      },
      "outputs": [],
      "source": "# complete and run code here \neven_num[]\n\n# sample responses\neven_num[3]"
    },
    {
      "cell_type": "markdown",
      "metadata": {
        "cell_id": "de7a548128f142e8a099520c6e43531d",
        "deepnote_cell_type": "markdown"
      },
      "source": "### 1.5\n\nChange the elements in `even_num` by a factor of 3.  Save the new vector as `results` and print the results."
    },
    {
      "cell_type": "code",
      "execution_count": null,
      "metadata": {
        "cell_id": "d179e592b2d34093809b9422b5b5b5db",
        "deepnote_cell_type": "code",
        "trusted": true
      },
      "outputs": [],
      "source": "# complete and run code here\nresults <- even_num\nresults\n\n# sample responses\nresults <- even_num * 3\nresults\n"
    },
    {
      "cell_type": "markdown",
      "metadata": {
        "cell_id": "5094b5cdb2c04a6ea47f4da8872aa2ed",
        "deepnote_cell_type": "markdown"
      },
      "source": "### 1.6\n\nWhat do you expect the code below to print?  \n<div class=\"teacher-note\">\n\n<b>Sample Response</b>:\n\nIt will increase each element in the vector `even_num` by one unit.  It will print out 10 odd numbers from 3 to 21.\n\n</div>"
    },
    {
      "cell_type": "code",
      "execution_count": null,
      "metadata": {
        "cell_id": "1497b3c8b1154db1b8ddbc6e20c8c50f",
        "deepnote_cell_type": "code",
        "trusted": true
      },
      "outputs": [],
      "source": "# run the code to check your prediction\n\neven_num + 1\n"
    },
    {
      "cell_type": "markdown",
      "metadata": {
        "cell_id": "5eba36c46feb4d4cbbfd2330be35e71d",
        "deepnote_cell_type": "markdown"
      },
      "source": "### 2.1\n\nMake a vector of characters (or chars) of desserts. Include the elements: cake, pudding, and pie.  Complete the code below."
    },
    {
      "cell_type": "code",
      "execution_count": null,
      "metadata": {
        "cell_id": "fb7584a5818549f88a640d743ee4cee8",
        "deepnote_cell_type": "code",
        "trusted": true
      },
      "outputs": [],
      "source": "# complete and run code here\nc()\n\n# sample responses\nc(\"cake\", \"pudding\", \"pie\")"
    },
    {
      "cell_type": "markdown",
      "metadata": {
        "cell_id": "516cfbca6ab44a9ebbcf32b90cb8869e",
        "deepnote_cell_type": "markdown"
      },
      "source": "Does the code above print or save the dessert vector?\n<div class=\"teacher-note\">\n\n<b>Sample Response</b>: \n    \nPrint.\n    \n</div>\n"
    },
    {
      "cell_type": "markdown",
      "metadata": {
        "cell_id": "cf4703e1c70748599af91f42b0d5b06b",
        "deepnote_cell_type": "markdown"
      },
      "source": "### 2.2\n\nSave the dessert vector described in 2.1 as `my_desserts`.  "
    },
    {
      "cell_type": "code",
      "execution_count": null,
      "metadata": {
        "cell_id": "3c9539318f8040188d228832cb04d2fa",
        "deepnote_cell_type": "code",
        "trusted": true
      },
      "outputs": [],
      "source": "# complete and run code here\n <- c(\"cake\", \"pudding\", \"pie\")\n\n# sample responses\nmy_desserts <- c(\"cake\", \"pudding\", \"pie\")\nmy_desserts"
    },
    {
      "cell_type": "markdown",
      "metadata": {
        "cell_id": "c80ddbe292ed43aca0754a501c8aca9a",
        "deepnote_cell_type": "markdown"
      },
      "source": "### 2.3\n\nHow would you modify and update `my_desserts` with a fourth dessert brownies?  Print the results to check that it worked."
    },
    {
      "cell_type": "code",
      "execution_count": null,
      "metadata": {
        "cell_id": "a456c42c7cce4ad2946cc6176a132c27",
        "deepnote_cell_type": "code",
        "trusted": true
      },
      "outputs": [],
      "source": "# complete and run code here\nmy_desserts <- c(my_desserts, )\n\n# sample responses\nmy_desserts <- c(my_desserts, \"brownies\")\nmy_desserts\n\n# or my_desserts[4]"
    },
    {
      "cell_type": "markdown",
      "metadata": {
        "cell_id": "c62a9cca3e544f3fa7bc4fb6d8d2ff95",
        "deepnote_cell_type": "markdown"
      },
      "source": "### 2.4\n\nPrint the second element in `my_desserts`."
    },
    {
      "cell_type": "code",
      "execution_count": null,
      "metadata": {
        "cell_id": "aaa7d57cc022479d89afbb25dcf32253",
        "deepnote_cell_type": "code",
        "trusted": true
      },
      "outputs": [],
      "source": "# complete and run code here\nmy_desserts[]\n\n# sample responses\nmy_desserts[2]"
    }
  ],
  "metadata": {
    "deepnote_notebook_id": "3281e169514842b78143aab9ce7b633c",
    "kernelspec": {
      "display_name": "R",
      "language": "R",
      "name": "ir"
    },
    "language_info": {
      "codemirror_mode": "r",
      "file_extension": ".r",
      "mimetype": "text/x-r-source",
      "name": "R",
      "pygments_lexer": "r",
      "version": "4.3.3"
    },
    "nbsimplegrader": {
      "publish_config": {
        "classes": [],
        "options": [],
        "tools": []
      }
    }
  },
  "nbformat": 4,
  "nbformat_minor": 1
}