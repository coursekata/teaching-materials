{
  "cells": [
    {
      "cell_type": "markdown",
      "metadata": {
        "cell_id": "22a3a50911ec444c9576aff5c6784da2",
        "deepnote_cell_type": "markdown",
        "tags": []
      },
      "source": "# <center>00A: Conceptual vs Procedural Understanding of Math</center>"
    },
    {
      "cell_type": "markdown",
      "metadata": {
        "cell_id": "92cfa01410424a9894bdc671cc5a79d4",
        "deepnote_cell_type": "markdown",
        "tags": []
      },
      "source": "## 1.0 - Conceptual?"
    },
    {
      "cell_type": "markdown",
      "metadata": {
        "cell_id": "0ca4170b32bb44298b1e255b00c2d58d",
        "deepnote_cell_type": "markdown",
        "tags": []
      },
      "source": "This class is designed to foster a **conceptual** understanding of math. But what does that mean?"
    },
    {
      "cell_type": "markdown",
      "metadata": {
        "cell_id": "c11bef28fd62458f9da0e9aabb5dd6e3",
        "deepnote_cell_type": "markdown",
        "tags": []
      },
      "source": "1.1 - What is a *conceptual* understanding of math?"
    },
    {
      "cell_type": "markdown",
      "metadata": {
        "cell_id": "7ca34afa505d43029f54bacd4f7eaefd",
        "deepnote_cell_type": "markdown",
        "tags": []
      },
      "source": "1.2 - What is a *procedural* understanding of math?"
    },
    {
      "cell_type": "markdown",
      "metadata": {
        "cell_id": "f9a45ee36b354d2ebcf53023b9f9f7a2",
        "deepnote_cell_type": "markdown",
        "tags": []
      },
      "source": "## 2.0 - The Bean Problem"
    },
    {
      "cell_type": "markdown",
      "metadata": {
        "cell_id": "2d4121e8d2e743da9a6d8cc1dea1228c",
        "deepnote_cell_type": "markdown",
        "tags": []
      },
      "source": "Read this problem. Instead of solving it, consider two students' approaches to the problem:\n\n> There are two piles of beans.  One pile has 1 red bean out of 3 total beans (the other 2 beans are black), so 1/3 of the beans are red.  The other pile has 6 red beans out of a total of 8 beans (2 beans are black), so 6/8 of the beans are red.  If the two piles are combined, what is the fraction of beans that are red?"
    },
    {
      "cell_type": "markdown",
      "metadata": {
        "cell_id": "51c7636329174176921f741cdb41acf4",
        "deepnote_cell_type": "markdown",
        "tags": []
      },
      "source": "2.1 - Here is Student A's solution. Check their math. Are they allowed to do this?\n\n<img src=\"https://coursekata-course-assets.s3.us-west-1.amazonaws.com/UCLATALL/czi-stats-course/jnb_q4c7WXpL-00a1.png\" title=\"Solving Bean Problem using common denominator strategy.\"/>\n"
    },
    {
      "cell_type": "markdown",
      "metadata": {
        "cell_id": "bf09e0e9a1e84fe0801d5adb80d6e72e",
        "deepnote_cell_type": "markdown",
        "tags": []
      },
      "source": "2.2 - Here is Student B's solution. Check their math. Are they allowed to do this?\n\n<img src=\"https://coursekata-course-assets.s3.us-west-1.amazonaws.com/UCLATALL/czi-stats-course/jnb_y1TfwbrK-00a2.png\" title=\"Solving Bean Problem by adding numerators and adding denominators\"/>"
    },
    {
      "cell_type": "markdown",
      "metadata": {
        "cell_id": "48f65bac115f418f8f35521a31805e79",
        "deepnote_cell_type": "markdown",
        "tags": []
      },
      "source": "2.3 - Which student demonstrated *conceptual understanding* of the bean problem? Which student is ultimately right?"
    },
    {
      "cell_type": "markdown",
      "metadata": {
        "cell_id": "2920e7f7b37141e7a0ade659db340944",
        "deepnote_cell_type": "markdown",
        "tags": []
      },
      "source": "2.4 - Why do you think conceptual understanding might be important in statistics and data science?"
    }
  ],
  "metadata": {
    "deepnote_notebook_id": "ef2fc8160dc746bbb74c1ecefb68c876",
    "kernelspec": {
      "display_name": "R",
      "language": "R",
      "name": "ir"
    },
    "language_info": {
      "codemirror_mode": "r",
      "file_extension": ".r",
      "mimetype": "text/x-r-source",
      "name": "R",
      "pygments_lexer": "r",
      "version": "4.3.3"
    },
    "nbsimplegrader": {
      "publish_config": {
        "classes": [],
        "options": [],
        "tools": []
      }
    }
  },
  "nbformat": 4,
  "nbformat_minor": 1
}