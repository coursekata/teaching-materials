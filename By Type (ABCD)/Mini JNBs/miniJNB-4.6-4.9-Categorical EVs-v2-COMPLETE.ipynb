{
  "cells": [
    {
      "cell_type": "markdown",
      "metadata": {
        "cell_id": "4ea4af15ea7e4fc88bea28e0a981d4d9",
        "deepnote_cell_type": "markdown"
      },
      "source": "# Mental Health in Tech Survey (COMPLETE)\n\n## Chapter 4.6-4.9 Categorical, and More-Than-One, Explanatory Variables "
    },
    {
      "cell_type": "code",
      "execution_count": null,
      "metadata": {
        "cell_id": "cb6a733d185649cea083a561e05145a9",
        "deepnote_cell_type": "code",
        "execution_context_id": "57074c1b-56dc-4078-b5d4-00f4c8228150",
        "execution_millis": 1107,
        "execution_start": 1743702784619,
        "scrolled": true,
        "source_hash": "240debbc",
        "trusted": true
      },
      "outputs": [],
      "source": "# This code will load the R packages we will use\nlibrary(coursekata)\n\n# set styles\ncss <- suppressWarnings(readLines(\"https://raw.githubusercontent.com/jimstigler/jupyter/master/ck_jupyter_styles_v2.css\"))\nIRdisplay::display_html(sprintf('<style>%s</style>', paste(css, collapse = \"\\n\")))\n\n# Load the data frame\ntech1 <- read.csv(\"https://docs.google.com/spreadsheets/d/e/2PACX-1vS1tVN587A_zyDpFigG4Enccfn7zeTnhdjcd-B-71tFQHrELtV9iJGqXNGTHXwbVBBIfr041MdwwXJ_/pub?output=csv\", header=TRUE)\n# filtering based on common comments about applicability of responses \ntech2 <- filter(tech1, Country == \"United States\")\ntech3 <- filter(tech2, self_employed == \"No\")\ntech4 <- filter(tech3, tech_company == \"Yes\")\ntech <- select(tech4,Timestamp, Gender, family_history, treatment, work_interfere, remote_work, benefits, comments)\n# reorder work_interfere levels\ntech$work_interfere <- factor(tech$work_interfere, levels = c(\"Never\", \"Rarely\", \"Sometimes\", \"Often\"))"
    },
    {
      "cell_type": "markdown",
      "metadata": {
        "cell_id": "29ed83bf85a84ed9bf3f2823f035cd99",
        "deepnote_cell_type": "markdown"
      },
      "source": "<div class=\"teacher-note\">\n    <b>Teacher Note:</b> The purpose of this mini-JNB is to practice visualizing relationships between 2 categorical variables, and visualizing relationships between 3 variables, then interpreting them to determine if there is any explained variation in the outcome variable.\n\n</div>\n\nHere is the link to the [full variable descriptions](https://docs.google.com/document/d/e/2PACX-1vQnqUQaNNDVT3sKG8_pbfUhxWZy3Gq9BHeMd9Fpw6tnPwUmftOdTiR3l-f2XQTKmdJmgR1a7gLn4Ctj/pub), if desired."
    },
    {
      "cell_type": "markdown",
      "metadata": {
        "cell_id": "30882a8523524551a2c93bf71e044209",
        "deepnote_cell_type": "markdown"
      },
      "source": "## 1 About the `tech` data \n\nWe will be using the `tech` data frame. This dataset is from a survey that measures attitudes towards mental health, beliefs about mental health in the workplace, and frequency of mental health issues in the tech workplace.\n\n[data source](https://www.kaggle.com/datasets/osmi/mental-health-in-tech-survey?resource=download)"
    },
    {
      "cell_type": "markdown",
      "metadata": {
        "cell_id": "ef80fa3d3e7a422c9cf42de07aed377f",
        "deepnote_cell_type": "markdown"
      },
      "source": "### 1.1 Run some code to look at the `tech` data frame"
    },
    {
      "cell_type": "code",
      "execution_count": null,
      "metadata": {
        "cell_id": "d25e34675ac047bf887df563762113fc",
        "deepnote_cell_type": "code",
        "nbsimplegrader": {
          "config_key": "code.response",
          "editable": true,
          "label": "Response: Code",
          "respondable": true,
          "response": null,
          "runnable": true,
          "type": "code"
        },
        "scrolled": true,
        "trusted": true
      },
      "outputs": [],
      "source": "# 1.1\n# run code here\n\n"
    },
    {
      "cell_type": "code",
      "execution_count": null,
      "metadata": {
        "cell_id": "0047c9d891864690b91c426cd044244a",
        "deepnote_cell_type": "code",
        "scrolled": false,
        "trusted": true
      },
      "outputs": [],
      "source": "# 1.1\n# run code here\n\n\n# sample code\ntail(tech)"
    },
    {
      "cell_type": "markdown",
      "metadata": {
        "cell_id": "8eba51fde9e44c92b84bc0ffcf505468",
        "deepnote_cell_type": "markdown"
      },
      "source": "\n\nHere is a description of each of the variables, or their corresponding survey question:\n\n- `Timestamp`The time the survey was submitted\n- `Gender` The gender of the participant (Male, Female, T-F = transgender female, Alt Gen = nonbinary, gender queer, fluid, etc.) \n- `family_history` Do you have a family history of mental illness?\n- `treatment` Have you sought treatment for a mental health condition?\n- `work_interfere` If you have a mental health condition, do you feel that it interferes with your work?\n- `remote_work` Do you work remotely (outside of an office) at least 50% of the time?\n- `benefits` Does your employer provide mental health benefits?\n- `comments` Any additional notes or comments"
    },
    {
      "cell_type": "markdown",
      "metadata": {
        "cell_id": "606e605878884b3da013284aa7ec0b63",
        "deepnote_cell_type": "markdown"
      },
      "source": "## 2 Explaining Variation in `treatment`\n\nLet's explore the data and see if we can explain variation in tech workers who do or do not seek out treatment for a mental health condition.\n\nTake a look at the distribution of `treatment` = other stuff. "
    },
    {
      "cell_type": "code",
      "execution_count": null,
      "metadata": {
        "cell_id": "2f77802e59e24884bb9d920b298f62c7",
        "deepnote_cell_type": "code",
        "nbsimplegrader": {
          "config_key": "code.response",
          "editable": true,
          "label": "Response: Code",
          "respondable": true,
          "response": null,
          "runnable": true,
          "type": "code"
        },
        "scrolled": false,
        "trusted": true
      },
      "outputs": [],
      "source": "# 2\n# Run this code \n\ngf_bar(~treatment, data = tech, fill = \"gold2\") %>%\n  gf_labs(title = \"Have you sought treatment for a mental health condition?\")\n\ntally(~treatment, data = tech)"
    },
    {
      "cell_type": "markdown",
      "metadata": {
        "cell_id": "b3661e47b29c4c23b355db187ee859b8",
        "deepnote_cell_type": "markdown"
      },
      "source": "### 2.1 If you had to guess which category a random tech worker probably belongs to, which would you guess? How confident would you feel in your guess?"
    },
    {
      "cell_type": "markdown",
      "metadata": {
        "cell_id": "eb38e73c6a3b465a8a4aeeef9a5f0d8f",
        "deepnote_cell_type": "markdown",
        "nbsimplegrader": {
          "config_key": "markdown.response",
          "editable": true,
          "label": "Response: Markdown",
          "respondable": true,
          "response": null,
          "runnable": true,
          "type": "markdown"
        }
      },
      "source": "2.1 Response:"
    },
    {
      "cell_type": "markdown",
      "metadata": {
        "cell_id": "ecf1e83dd72244d9be01d4f13d136af9",
        "deepnote_cell_type": "markdown"
      },
      "source": "<div class=\"teacher-note\">\n\n<b>Sample Response</b>: Probably the \"Yes\" group, but I wouldn't feel too confident because the two groups are not that far off from one another.\n    \n</div>"
    },
    {
      "cell_type": "markdown",
      "metadata": {
        "cell_id": "17fa943bd8d64737b773cd692426cae7",
        "deepnote_cell_type": "markdown"
      },
      "source": "### 2.2 Categorize the variables below according to how much variation you think they would explain in `treatment` (either: \"not much\", \"some\", or \"a lot\").\n\nAnother way of thinking about this is: If I knew *this* extra information about the tech worker, I would probably be able to improve my guess of their `treatment` response."
    },
    {
      "cell_type": "markdown",
      "metadata": {
        "cell_id": "7b35466fbc15404fbbe8be1023d64cfb",
        "deepnote_cell_type": "markdown"
      },
      "source": "- `Timestamp` The time the survey was submitted\n- `Gender` The gender of the participant\n- `family_history` Do you have a family history of mental illness?\n- `work_interfere` If you have a mental health condition, do you feel that it interferes with your work?\n- `remote_work` Do you work remotely (outside of an office) at least 50% of the time?\n- `benefits` Does your employer provide mental health benefits?\n- `comments` Any additional notes or comments"
    },
    {
      "cell_type": "markdown",
      "metadata": {
        "cell_id": "d12abfc7175042b48770d843457446de",
        "deepnote_cell_type": "markdown",
        "nbsimplegrader": {
          "config_key": "markdown.response",
          "editable": true,
          "label": "Response: Markdown",
          "respondable": true,
          "response": null,
          "runnable": true,
          "type": "markdown"
        }
      },
      "source": "2.2 Response:"
    },
    {
      "cell_type": "markdown",
      "metadata": {
        "cell_id": "6bb90742dd504b46b4c5a5bc4c76b67c",
        "deepnote_cell_type": "markdown"
      },
      "source": "<div class=\"teacher-note\">\n\n<b>Sample Response</b>: \n   \n- `Timestamp` - not much\n- `Gender` - some, or a lot\n- `family_history` - some, or a lot\n- `work_interfere` - some, or a lot\n- `remote_work` -not much, some, or a lot\n- `benefits` - some, or a lot\n- `comments` - not much\n    \n*Students may have varying impressions of how big of an effect some of the variables may have, but they should at least notice that variables such as `Timestamp` and `comments` will likely not explain much variation in `treatment`.*\n    \n</div>"
    },
    {
      "cell_type": "markdown",
      "metadata": {
        "cell_id": "2e3089428e43492ca5ad077ad71ce559",
        "deepnote_cell_type": "markdown"
      },
      "source": "### 2.3 Write a word equation that expresses the idea that `work_interfere` might help us explain the variation we see in `treatment`."
    },
    {
      "cell_type": "markdown",
      "metadata": {
        "cell_id": "1b0541a10e5c46e891dbfd15a83002c0",
        "deepnote_cell_type": "markdown",
        "nbsimplegrader": {
          "config_key": "markdown.response",
          "editable": true,
          "label": "Response: Markdown",
          "respondable": true,
          "response": null,
          "runnable": true,
          "type": "markdown"
        }
      },
      "source": "2.3 Response:"
    },
    {
      "cell_type": "markdown",
      "metadata": {
        "cell_id": "e2b7d5de03154c8191f4fb16aab58100",
        "deepnote_cell_type": "markdown"
      },
      "source": "<div class=\"teacher-note\">\n\n<b>Sample Response</b>: `treatment` = `work_interfere` + other stuff\n    \n</div>"
    },
    {
      "cell_type": "markdown",
      "metadata": {
        "cell_id": "85c8de2cf1124bb89044dcbc7555d940",
        "deepnote_cell_type": "markdown"
      },
      "source": "### 2.4 Visualize this hypothesis, and generate its contingency table."
    },
    {
      "cell_type": "code",
      "execution_count": null,
      "metadata": {
        "cell_id": "9f269c938eb843cf8707f03d6cb1feec",
        "deepnote_cell_type": "code",
        "nbsimplegrader": {
          "config_key": "code.response",
          "editable": true,
          "label": "Response: Code",
          "respondable": true,
          "response": null,
          "runnable": true,
          "type": "code"
        },
        "scrolled": true,
        "trusted": true
      },
      "outputs": [],
      "source": "# 2.4\n# Run code here\n\n\n\n"
    },
    {
      "cell_type": "code",
      "execution_count": null,
      "metadata": {
        "cell_id": "dadb3f3b37f140d19f57d4a875e4a2d6",
        "deepnote_cell_type": "code",
        "scrolled": true,
        "trusted": true
      },
      "outputs": [],
      "source": "# 2.4\n# Run code here\n\n\n# sample response (filtering NAs)\ntally(treatment ~ work_interfere, data = filter(tech, work_interfere != \"NA\"))\n\ngf_bar(~treatment , data = filter(tech, work_interfere != \"NA\"), fill = ~work_interfere) %>%\n  gf_facet_grid(.~work_interfere)\n\n"
    },
    {
      "cell_type": "markdown",
      "metadata": {
        "cell_id": "d33938006b3743a0b9f16848789f28b5",
        "deepnote_cell_type": "markdown"
      },
      "source": "### 2.5 If you knew someone had responded \"Never\" to the `work_interfere` question, what would you guess to be their `treatment` category? \n\nHow about if they responded \"Often\" to the `work_interfere` question?"
    },
    {
      "cell_type": "markdown",
      "metadata": {
        "cell_id": "dab9cf42aaf24ff5898433c293c76246",
        "deepnote_cell_type": "markdown",
        "nbsimplegrader": {
          "config_key": "markdown.response",
          "editable": true,
          "label": "Response: Markdown",
          "respondable": true,
          "response": null,
          "runnable": true,
          "type": "markdown"
        }
      },
      "source": "2.5 Response:"
    },
    {
      "cell_type": "markdown",
      "metadata": {
        "cell_id": "862512b8384a4b5bb563a52308ba3508",
        "deepnote_cell_type": "markdown"
      },
      "source": "<div class=\"teacher-note\">\n\n<b>Sample Response</b>: \n    \n- Never --> \"No\" category\n- Often --> \"Yes\" category\n    \n</div>"
    },
    {
      "cell_type": "markdown",
      "metadata": {
        "cell_id": "4092c62b3fb64e4f88944055cb485b28",
        "deepnote_cell_type": "markdown"
      },
      "source": "### 2.6 Which word equation appears to be the better representation of the data generating process? Why?\n\n1. `treatment` = `work_interfere` + other stuff\n2. `treatment` = other stuff"
    },
    {
      "cell_type": "markdown",
      "metadata": {
        "cell_id": "7da394ee1a91412ebe615882b0062ab1",
        "deepnote_cell_type": "markdown",
        "nbsimplegrader": {
          "config_key": "markdown.response",
          "editable": true,
          "label": "Response: Markdown",
          "respondable": true,
          "response": null,
          "runnable": true,
          "type": "markdown"
        }
      },
      "source": "2.6 Response:"
    },
    {
      "cell_type": "markdown",
      "metadata": {
        "cell_id": "420d74c300bd44739b003dab92eb7768",
        "deepnote_cell_type": "markdown"
      },
      "source": "<div class=\"teacher-note\">\n\n<b>Sample Response</b>: \n    \n`treatment` = `work_interfere` + other stuff\n    \nBecause I can probably make a slightly better guess at someone's `treatment` category if I knew their `work_interfere` category.\n  \nBecause the groups show a lot of differences, suggesting `work_interfere` might be involved in the data generating process.\n    \nBecause keeping that variable in our word equation helps us explain some of the variation in our outcome variable.\n\n</div>"
    },
    {
      "cell_type": "markdown",
      "metadata": {
        "cell_id": "31af2049643b44d39cdab3c181dd2764",
        "deepnote_cell_type": "markdown"
      },
      "source": "### 2.7 Are there any other potential explanations for why we are seeing this particular pattern of variation?"
    },
    {
      "cell_type": "markdown",
      "metadata": {
        "cell_id": "2fc081d73fb2427ebf0c8bf9032a0806",
        "deepnote_cell_type": "markdown",
        "nbsimplegrader": {
          "config_key": "markdown.response",
          "editable": true,
          "label": "Response: Markdown",
          "respondable": true,
          "response": null,
          "runnable": true,
          "type": "markdown"
        }
      },
      "source": "2.7 Response:"
    },
    {
      "cell_type": "markdown",
      "metadata": {
        "cell_id": "5492925c588143e68512ba3f034bc991",
        "deepnote_cell_type": "markdown"
      },
      "source": "<div class=\"teacher-note\">\n\n<b>Sample Response</b>: \n    \n- There could be other real things that are part of the data generating process, but that aren't `work_interfere` directly.\n- It could just be random chance.\n\n</div>"
    },
    {
      "cell_type": "markdown",
      "metadata": {
        "cell_id": "5f9e7af7df2e4c27987d3fb6c6c17a41",
        "deepnote_cell_type": "markdown"
      },
      "source": "## 3 The `benefits` Hypothesis"
    },
    {
      "cell_type": "code",
      "execution_count": null,
      "metadata": {
        "cell_id": "da81115ece5c47babdd8715bd94928c7",
        "deepnote_cell_type": "code",
        "nbsimplegrader": {
          "config_key": "code.response",
          "editable": true,
          "label": "Response: Code",
          "respondable": true,
          "response": null,
          "runnable": true,
          "type": "code"
        },
        "scrolled": true,
        "trusted": true
      },
      "outputs": [],
      "source": "# 3\n# Run this code\n\ntally(treatment ~ benefits, data = tech, format = \"proportion\")\n\ngf_props(~ treatment , data = tech, fill = \"coral1\") %>%\n  gf_facet_grid(.~benefits)"
    },
    {
      "cell_type": "markdown",
      "metadata": {
        "cell_id": "ad0dbda3a38d4ffeb94ffd4ac4447081",
        "deepnote_cell_type": "markdown"
      },
      "source": "### 3.1 What question or hypothesis is the distribution above trying to explore? Can we tell what the word equation should be based on the code? If so, put it into a word equation."
    },
    {
      "cell_type": "markdown",
      "metadata": {
        "cell_id": "73e72f139ac044e2a922eab46d432f9e",
        "deepnote_cell_type": "markdown",
        "nbsimplegrader": {
          "config_key": "markdown.response",
          "editable": true,
          "label": "Response: Markdown",
          "respondable": true,
          "response": null,
          "runnable": true,
          "type": "markdown"
        }
      },
      "source": "3.1 Response:"
    },
    {
      "cell_type": "markdown",
      "metadata": {
        "cell_id": "5470fb5dbb394f10a29ffaaebe110454",
        "deepnote_cell_type": "markdown"
      },
      "source": "<div class=\"teacher-note\">\n\n<b>Sample Response</b>: \n    \nIt's trying to explore the hypothesis that whether an employer provides mental health benefits may impact how likely a tech worker is to seek treatment for mental health issues.\n    \n`treatment` = `benefits` + other stuff\n\n</div>"
    },
    {
      "cell_type": "markdown",
      "metadata": {
        "cell_id": "aaf707b2145846a79ba573b17344f3cb",
        "deepnote_cell_type": "markdown"
      },
      "source": "### 3.2 What do you think about this hypothesis? Does it help us explain variation? How can you tell?"
    },
    {
      "cell_type": "markdown",
      "metadata": {
        "cell_id": "d96d9b0c896c438ea0080e3e0a3c77ee",
        "deepnote_cell_type": "markdown",
        "nbsimplegrader": {
          "config_key": "markdown.response",
          "editable": true,
          "label": "Response: Markdown",
          "respondable": true,
          "response": null,
          "runnable": true,
          "type": "markdown"
        }
      },
      "source": "3.2 Response:"
    },
    {
      "cell_type": "markdown",
      "metadata": {
        "cell_id": "8bfbf530e6854129b6e31673df61ebe8",
        "deepnote_cell_type": "markdown"
      },
      "source": "<div class=\"teacher-note\">\n\n<b>Sample Response</b>: \n    \nIt seems like it helps us make a better prediction of `treatment` if we know their response to `benefits`. I would probably predict \"Yes\" on `treatment` for those who report \"Yes\" or \"No\" to the `benefits` question, and I would probably predict \"No\" on `treatment` for those who report \"Don't know\" to the `benefits` question.\n\n</div>"
    },
    {
      "cell_type": "markdown",
      "metadata": {
        "cell_id": "5c833331c1224a269112da575a41ed30",
        "deepnote_cell_type": "markdown"
      },
      "source": "### 3.3 How might we add the additional explanatory variable of `family_history` to this hypothesis? Add it to the plot and add it to your word equation."
    },
    {
      "cell_type": "code",
      "execution_count": null,
      "metadata": {
        "cell_id": "5120e65a0bd5484a9675a648a0eabcd3",
        "deepnote_cell_type": "code",
        "nbsimplegrader": {
          "config_key": "code.response",
          "editable": true,
          "label": "Response: Code",
          "respondable": true,
          "response": null,
          "runnable": true,
          "type": "code"
        },
        "scrolled": true,
        "trusted": true
      },
      "outputs": [],
      "source": "# 3.3\n# Add family_history to your plot here\n\n\n"
    },
    {
      "cell_type": "code",
      "execution_count": null,
      "metadata": {
        "cell_id": "1ba14a393a5f46be9a19ead6e7efcaa3",
        "deepnote_cell_type": "code",
        "scrolled": false,
        "trusted": true
      },
      "outputs": [],
      "source": "# 3.3\n# Add family_history to your plot here\n\n# Sample responses\n\ngf_bar(~ treatment , data = tech, fill = ~family_history) %>%\n  gf_facet_grid(family_history~benefits)\n\ngf_props(~ treatment , data = tech, fill = ~family_history) %>%\n  gf_facet_grid(.~benefits)\n"
    },
    {
      "cell_type": "markdown",
      "metadata": {
        "cell_id": "55dd7cb354f24449b440aaf5d55a8de0",
        "deepnote_cell_type": "markdown",
        "nbsimplegrader": {
          "config_key": "markdown.response",
          "editable": true,
          "label": "Response: Markdown",
          "respondable": true,
          "response": null,
          "runnable": true,
          "type": "markdown"
        }
      },
      "source": "3.3 Response:\n\nAdd `family_history` to your word equation here:\n\n"
    },
    {
      "cell_type": "markdown",
      "metadata": {
        "cell_id": "a6f8b0f73bb1487c9ef01a42816dd838",
        "deepnote_cell_type": "markdown"
      },
      "source": "<div class=\"teacher-note\">\n\n<b>Sample Response</b>: `treatment` = `benefits` + `family_history` + other stuff\n</div>"
    },
    {
      "cell_type": "markdown",
      "metadata": {
        "cell_id": "7dccac263f824d388e15ef2adcf37cca",
        "deepnote_cell_type": "markdown"
      },
      "source": "### 3.4 What `treatment` category would you predict for a tech worker who responded \"Yes\" to the `family_history` question, and \"No\" to the `benefits` question? \n\nWhat if they said \"Yes\" to the `family_history` question, and \"Don't know\" to the `benefits` question?"
    },
    {
      "cell_type": "markdown",
      "metadata": {
        "cell_id": "47a52dbf265148e58e28988329d4f7ab",
        "deepnote_cell_type": "markdown",
        "nbsimplegrader": {
          "config_key": "markdown.response",
          "editable": true,
          "label": "Response: Markdown",
          "respondable": true,
          "response": null,
          "runnable": true,
          "type": "markdown"
        }
      },
      "source": "3.4 Response:"
    },
    {
      "cell_type": "markdown",
      "metadata": {
        "cell_id": "6cddae3238b74a6a93fb32a8a1c1d1b2",
        "deepnote_cell_type": "markdown"
      },
      "source": "<div class=\"teacher-note\">\n\n<b>Sample Response</b>: \n    \n- \"Yes\" family_history & \"No\" benefits --> \"Yes\" treatment category\n- \"Yes\" family_history & \"Don't know\" benefits --> \"Yes\" treatment category\n    \n</div>"
    },
    {
      "cell_type": "markdown",
      "metadata": {
        "cell_id": "6e9086a27fee49bd99e593c560950105",
        "deepnote_cell_type": "markdown"
      },
      "source": "### 3.5 Have we explained any more variation in `treatment` by adding `family_history` to our word equation? How can you tell?"
    },
    {
      "cell_type": "markdown",
      "metadata": {
        "cell_id": "a6d5b5002c5f4b90b37ad5fcdd5a4855",
        "deepnote_cell_type": "markdown",
        "nbsimplegrader": {
          "config_key": "markdown.response",
          "editable": true,
          "label": "Response: Markdown",
          "respondable": true,
          "response": null,
          "runnable": true,
          "type": "markdown"
        }
      },
      "source": "3.5 Response:"
    },
    {
      "cell_type": "markdown",
      "metadata": {
        "cell_id": "0199393db35a44cea700827431232716",
        "deepnote_cell_type": "markdown"
      },
      "source": "<div class=\"teacher-note\">\n\n<b>Sample Response</b>: Yes, we have. We would make different predictions for `treatment` if we knew both `benefits` and `family_history` than if we only knew `benefits` alone. For instance, we would probably no longer predict \"No\" on treatment for the \"Don't know\" benefits people if we also knew that they said \"Yes\" to family history.\n    \n</div>"
    }
  ],
  "metadata": {
    "deepnote_notebook_id": "77102143ebca4b14878db88c5e3ee58f",
    "kernelspec": {
      "display_name": "R",
      "language": "R",
      "name": "ir"
    },
    "language_info": {
      "codemirror_mode": "r",
      "file_extension": ".r",
      "mimetype": "text/x-r-source",
      "name": "R",
      "pygments_lexer": "r",
      "version": "4.3.3"
    },
    "nbsimplegrader": {
      "publish_config": {
        "classes": [],
        "options": [],
        "tools": []
      }
    }
  },
  "nbformat": 4,
  "nbformat_minor": 1
}