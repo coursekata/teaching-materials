{
  "cells": [
    {
      "cell_type": "markdown",
      "metadata": {
        "cell_id": "ac933972-2116-4eb2-add6-27266b1063a8"
      },
      "source": "# Catching Errors: How Fast is Your Reflex? (COMPLETE)\n\n## Chapter 6.1 - 6.3"
    },
    {
      "cell_type": "code",
      "execution_count": null,
      "metadata": {
        "cell_id": "86968422-31d9-4355-977e-8ab4799e937d",
        "trusted": true
      },
      "outputs": [],
      "source": "# This code will load the R packages we will use\nlibrary(coursekata)\n\n# set styles\ncss <- suppressWarnings(readLines(\"https://raw.githubusercontent.com/jimstigler/jupyter/master/ck_jupyter_styles_v2.css\"))\nIRdisplay::display_html(sprintf('<style>%s</style>', paste(css, collapse = \"\\n\")))"
    },
    {
      "cell_type": "markdown",
      "metadata": {},
      "source": "<div class=\"teacher-note\">\n    <b>Teacher Note:</b> The purpose of this mini-JNB is to lay the foundation for understanding variance.  Students will collect data and explore different ways to summarize model error—including residuals, SAD, and SS. It is a companion to this [worksheet](https://docs.google.com/document/d/16PW-lwss3Gs43LhHDV5GfmrNGdj6dkjj5MfK8vBbBss/edit?tab=t.m0f586f9j0gp)\n</div>"
    },
    {
      "cell_type": "markdown",
      "metadata": {
        "cell_id": "1373d2ec-6ddf-4692-a848-171dc40ee40e"
      },
      "source": "## Problem #1:\n\nEnter the class data into a data frame called `fast_reflex`.  We'll start off with 2 columns for the `ID` and `Reflex`.  Modify the code to do this in R."
    },
    {
      "cell_type": "code",
      "execution_count": null,
      "metadata": {
        "trusted": true
      },
      "outputs": [],
      "source": "#Enter class data\nID <- 1:24\nReflex <- c(22.0, 19.4, 22.6, 26.1, 19.1, 19.1, 26.0, 22.5, 18.9, 18.9, \n            14.6, 20.9, 18.6, 18.6, 19.4, 19.0, 13.8, 21.0, 21.0, 17.5, \n            16.3, 16.3, 19.7, 17.9)\n\n#save as a data frame\nfast_reflex <- data.frame(ID, Reflex)\n\n#check to see if the data frame is what you wanted\nhead(fast_reflex)"
    },
    {
      "cell_type": "markdown",
      "metadata": {
        "cell_id": "a597e788-306f-47e6-a2e4-a3a17bd968de"
      },
      "source": "## Problem #2:\n\nFit the Empty Model to the `Reflex` data.  Modify the code to do this."
    },
    {
      "cell_type": "code",
      "execution_count": null,
      "metadata": {
        "trusted": true
      },
      "outputs": [],
      "source": "#modify the code\n\nempty_model <- lm(Reflex ~ NULL, data = fast_reflex)\n\n#call the model to see the mean\nempty_model"
    },
    {
      "cell_type": "markdown",
      "metadata": {},
      "source": "## Problem #3:\n\nSave the predictions and residuals for `Reflex` in the data frame.  Modify the code below."
    },
    {
      "cell_type": "code",
      "execution_count": null,
      "metadata": {
        "trusted": true
      },
      "outputs": [],
      "source": "#complete the code\nfast_reflex$prediction <- predict(empty_model)\nfast_reflex$residual <- resid(empty_model)\n\n#take a look at the data frame to make sure everthing saved\nhead(fast_reflex)"
    },
    {
      "cell_type": "markdown",
      "metadata": {},
      "source": "## Problem #4:\n\nCalculate the sum of squared deviations (SS) in two different ways.  Modify the code to get this statistic.  Does it match your calculations by hand?"
    },
    {
      "cell_type": "code",
      "execution_count": null,
      "metadata": {
        "trusted": true
      },
      "outputs": [],
      "source": "#take the sum of squared residuals\nsum((fast_reflex$residual)^2)\n\n#use supernova function\nsupernova(empty.model)"
    }
  ],
  "metadata": {
    "celltoolbar": "nbsimplegrader",
    "deepnote_execution_queue": [],
    "deepnote_notebook_id": "2b51a89a-e42e-4675-9260-1000d5b5ae22",
    "kernelspec": {
      "display_name": "R",
      "language": "R",
      "name": "ir"
    },
    "language_info": {
      "codemirror_mode": "r",
      "file_extension": ".r",
      "mimetype": "text/x-r-source",
      "name": "R",
      "pygments_lexer": "r",
      "version": "4.3.3"
    },
    "nbsimplegrader": {
      "publish_config": {
        "classes": [],
        "options": {},
        "tools": []
      }
    }
  },
  "nbformat": 4,
  "nbformat_minor": 2
}