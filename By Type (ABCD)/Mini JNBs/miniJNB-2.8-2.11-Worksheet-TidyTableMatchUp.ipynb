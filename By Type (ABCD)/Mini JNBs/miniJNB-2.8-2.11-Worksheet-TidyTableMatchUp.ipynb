{
  "cells": [
    {
      "cell_type": "code",
      "execution_count": null,
      "metadata": {
        "id": "LqnYkTX5wrxy",
        "trusted": true
      },
      "outputs": [],
      "source": "library(tidyverse)"
    },
    {
      "cell_type": "code",
      "execution_count": null,
      "metadata": {
        "id": "2pvfzj06-bb4",
        "trusted": true
      },
      "outputs": [],
      "source": "food <- read.csv(\"https://docs.google.com/spreadsheets/d/e/2PACX-1vQ-Lwl4ybMwv_L3qAV8U2C9cvUKQfXEkz3xTgZzH-5tRYs28AtkjLD0ga5HQK1yfUYnwH0sSBjO59nV/pub?output=csv\")"
    },
    {
      "cell_type": "code",
      "execution_count": null,
      "metadata": {
        "id": "Ob7jKe0V-e3s",
        "trusted": true
      },
      "outputs": [],
      "source": "food"
    },
    {
      "cell_type": "code",
      "execution_count": null,
      "metadata": {
        "id": "W7T0UhYI-Wn4",
        "trusted": true
      },
      "outputs": [],
      "source": ""
    },
    {
      "cell_type": "code",
      "execution_count": null,
      "metadata": {
        "id": "Rxd4xEsG-utG",
        "trusted": true
      },
      "outputs": [],
      "source": ""
    }
  ],
  "metadata": {
    "colab": {
      "provenance": []
    },
    "kernelspec": {
      "display_name": "R",
      "language": "R",
      "name": "ir"
    },
    "language_info": {
      "codemirror_mode": "r",
      "file_extension": ".r",
      "mimetype": "text/x-r-source",
      "name": "R",
      "pygments_lexer": "r",
      "version": "4.3.3"
    },
    "nbsimplegrader": {
      "publish_config": {
        "classes": [],
        "options": [],
        "tools": []
      }
    }
  },
  "nbformat": 4,
  "nbformat_minor": 1
}