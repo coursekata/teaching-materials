{
  "cells": [
    {
      "cell_type": "markdown",
      "metadata": {
        "cell_id": "d340d468fc5342dfb8b43ff888ae2826",
        "deepnote_cell_type": "markdown",
        "id": "e06ba65c"
      },
      "source": "\n# Data Detective: Clean the Plants Dataset (Answer Key)\n\nThis notebook provides completed code for the data cleaning activity using tidyverse functions.\n\nWe use:  \n- `filter()` to remove missing height values  \n- `mutate()` to convert height from cm to inches  \n- `select()` to isolate specific columns  \n- `arrange()` to sort by height  \n- `mutate()` to convert a character column to numeric\n\n---\n**Q1:** Load and inspect the data.\n"
    },
    {
      "cell_type": "code",
      "execution_count": null,
      "metadata": {
        "cell_id": "0d3178205f4e4e1893096ed640062e5c",
        "colab": {
          "base_uri": "https://localhost:8080/",
          "height": 598
        },
        "deepnote_cell_type": "code",
        "id": "7982c01f",
        "outputId": "9bf5f127-15be-43c8-d82e-8cdaf9fb21d1",
        "trusted": true
      },
      "outputs": [],
      "source": "\nlibrary(tidyverse)\n\nplants <- read_csv(\"https://docs.google.com/spreadsheets/d/e/2PACX-1vR-lYQcIdTG9XG-WMNPRhwTZOhc4iY_prAbgFlejAmnxJyjkQQmJkrfLbKORWk4UV6cXN5TBnvfEJdp/pub?output=csv\")\n\nhead(plants)\n"
    },
    {
      "cell_type": "markdown",
      "metadata": {
        "cell_id": "50e18df4deed46919aac91338a072046",
        "deepnote_cell_type": "markdown",
        "id": "18a8513a"
      },
      "source": "### Q2: Filter Out Missing Heights"
    },
    {
      "cell_type": "code",
      "execution_count": null,
      "metadata": {
        "cell_id": "6f05c9c70d1d4ee797869a7bf171ad59",
        "colab": {
          "base_uri": "https://localhost:8080/",
          "height": 286
        },
        "deepnote_cell_type": "code",
        "id": "b63f6d06",
        "outputId": "42e0a764-7f60-4964-bfbd-02494883216e",
        "trusted": true
      },
      "outputs": [],
      "source": "\nplants_filtered <- plants %>%\n  filter(!is.na(height_cm))\n\nhead(plants_filtered)\n"
    },
    {
      "cell_type": "markdown",
      "metadata": {
        "cell_id": "68b320104b544a918b24a8256c3b1d56",
        "deepnote_cell_type": "markdown",
        "id": "3a4114a8"
      },
      "source": "### Q3: Convert Height to Inches"
    },
    {
      "cell_type": "code",
      "execution_count": null,
      "metadata": {
        "cell_id": "af034131f8de4ee28820d145e5c19fcc",
        "colab": {
          "base_uri": "https://localhost:8080/",
          "height": 286
        },
        "deepnote_cell_type": "code",
        "id": "29d9f798",
        "outputId": "7c80eb92-7ee5-406d-d122-d705f1268915",
        "trusted": true
      },
      "outputs": [],
      "source": "\nplants_filtered <- plants_filtered %>%\n  mutate(height_in = height_cm / 2.54)\n\nhead(plants_filtered)\n"
    },
    {
      "cell_type": "markdown",
      "metadata": {
        "cell_id": "b8690a1937734ed28f5e891cad238d23",
        "deepnote_cell_type": "markdown",
        "id": "9df8d5d7"
      },
      "source": "### Q4: Select Only Key Columns"
    },
    {
      "cell_type": "code",
      "execution_count": null,
      "metadata": {
        "cell_id": "b5790853b6e84122b8208e4a8c3f5f76",
        "colab": {
          "base_uri": "https://localhost:8080/",
          "height": 349
        },
        "deepnote_cell_type": "code",
        "id": "49ca6fb8",
        "outputId": "1736c906-6a38-4400-a08a-759a359e3851",
        "trusted": true
      },
      "outputs": [],
      "source": "\nplants_filtered %>%\n  select(name, height_in, toxicity_level)\n"
    },
    {
      "cell_type": "markdown",
      "metadata": {
        "cell_id": "4b89f05d2f9c48fa9600b93ca32f32ba",
        "deepnote_cell_type": "markdown",
        "id": "aa860bf1"
      },
      "source": "### Q5: Arrange by Height"
    },
    {
      "cell_type": "code",
      "execution_count": null,
      "metadata": {
        "cell_id": "b44b79bc48094b86b4e495cf2edf70a2",
        "colab": {
          "base_uri": "https://localhost:8080/",
          "height": 349
        },
        "deepnote_cell_type": "code",
        "id": "fda6ecf4",
        "outputId": "0f9df030-92f4-41df-dd7f-8ad7f5aee113",
        "trusted": true
      },
      "outputs": [],
      "source": "\nplants_filtered %>%\n  arrange(height_in)\n"
    },
    {
      "cell_type": "markdown",
      "metadata": {
        "cell_id": "470d5a51814b433c81db7c2b6eef6ecf",
        "deepnote_cell_type": "markdown",
        "id": "1ed6c3b4"
      },
      "source": "### Q6: Convert 'type_num' from Character to Numeric"
    },
    {
      "cell_type": "code",
      "execution_count": null,
      "metadata": {
        "cell_id": "e0d726f629ec41669468992c79e9fc46",
        "colab": {
          "base_uri": "https://localhost:8080/"
        },
        "deepnote_cell_type": "code",
        "id": "131515b4",
        "outputId": "0c050371-c0ff-4e7a-a202-1c4bbfc44bde",
        "trusted": true
      },
      "outputs": [],
      "source": "\nplants_filtered <- plants_filtered %>%\n  mutate(type_num = as.numeric(type_num))\n\nstr(plants_filtered)\n"
    }
  ],
  "metadata": {
    "deepnote_notebook_id": "6cc6137793024567a8ddb73d171a81ee",
    "kernelspec": {
      "display_name": "R",
      "language": "R",
      "name": "ir"
    },
    "language_info": {
      "codemirror_mode": "r",
      "file_extension": ".r",
      "mimetype": "text/x-r-source",
      "name": "R",
      "pygments_lexer": "r",
      "version": "4.3.3"
    },
    "nbsimplegrader": {
      "publish_config": {
        "classes": [],
        "options": [],
        "tools": []
      }
    }
  },
  "nbformat": 4,
  "nbformat_minor": 1
}