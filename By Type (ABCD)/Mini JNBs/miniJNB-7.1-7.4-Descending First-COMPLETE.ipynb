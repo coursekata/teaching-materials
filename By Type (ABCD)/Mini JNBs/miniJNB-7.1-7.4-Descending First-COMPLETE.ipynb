{
  "cells": [
    {
      "cell_type": "markdown",
      "id": "b8faa990",
      "metadata": {},
      "source": "# What Happens If Descending Comes First? (COMPLETE)\n## Chapter 7.1-7.4 Focus"
    },
    {
      "cell_type": "code",
      "execution_count": null,
      "id": "2dd4abae",
      "metadata": {
        "trusted": true
      },
      "outputs": [],
      "source": "# run this to set up the notebook\nsuppressMessages(library(coursekata))\nsuppressMessages(library(gridExtra))\ncss <- suppressWarnings(readLines(\"https://raw.githubusercontent.com/jimstigler/jupyter/master/ck_jupyter_styles.css\"))\nIRdisplay::display_html(sprintf('<style>%s</style>', paste(css, collapse = \"\\n\")))\n# get the data\nanchor_data <- read.csv(\"https://docs.google.com/spreadsheets/d/e/2PACX-1vR8CPolRTYxJ6eCszgpgcGvuQ6tyFNoraBbFrFXEbKFgZgouLAlrgEC6wyRqWwSZPTmS2Xpd09P6G9y/pub?gid=1344310652&single=true&output=csv\") "
    },
    {
      "cell_type": "markdown",
      "id": "99517360",
      "metadata": {},
      "source": "<div class=\"teacher-note\">\n    <b>Teacher Note:</b> The purpose of this focus activity is to deepen students' understanding of how parameters are estimated and used for the two-group model. It is intended to be used after the 7.1-7.4 Overview notebook. Students should work in Jupyter, either individually or in pairs.\n</div>"
    },
    {
      "cell_type": "markdown",
      "id": "9dac8e33",
      "metadata": {},
      "source": "## 1. The Mental Multiplication Study\n\nYou may have participated in this study: Half of a class of students, randomly chosen, were presented with a multiplication problem in *ascending* order (1x2x3x4x5x6x7x8), the other half, in *descending* order (8x7x6x5x4x3x2x1). Students were given 5 seconds to view the problem and then asked to write down their best guess as to the answer. The answer, of course, is the same regardless of order. However, students' guesses differed markedly between the two groups.\n\nData are stored in a data frame called `anchor_data`. The dataset has has 72 students and two variables:\n\n- `condition` - a categorical variable coded as \"ascending\" or \"descending\"\n- `guess` - a numerica variable with each student's guess"
    },
    {
      "cell_type": "code",
      "execution_count": null,
      "id": "8875f0ab",
      "metadata": {
        "trusted": true
      },
      "outputs": [],
      "source": "# run some code to make sure you have the data\nstr(anchor_data)"
    },
    {
      "cell_type": "markdown",
      "id": "bbe24f41",
      "metadata": {},
      "source": "<div class=\"teacher-note\">\n    <b>Teacher Note:</b> The purpose of the next section is to review the two-group model. Students will visualize the model, fit the model, interpret the parameter estimates, then use the parameter estimates to make predictions.\n</div>"
    },
    {
      "cell_type": "markdown",
      "id": "27876fec",
      "metadata": {},
      "source": "## 2. Review the `condition` model of `guess`"
    },
    {
      "cell_type": "markdown",
      "id": "64e62bdc",
      "metadata": {},
      "source": "### 2.1 Visualize the model:  `guess` = `condition` + other stuff\nUse a jitter plot to visualize the effect of condition on guess. Try different values for `width =` to make the difference between the two conditions more visible."
    },
    {
      "cell_type": "code",
      "execution_count": null,
      "id": "2b6e7acd",
      "metadata": {
        "scrolled": false,
        "trusted": true
      },
      "outputs": [],
      "source": "# code here\ngf_jitter(guess ~ condition, data=anchor_data, width=.2)"
    },
    {
      "cell_type": "markdown",
      "id": "4270783e",
      "metadata": {},
      "source": "### 2.2 Fit the `condition` model\nFit the condition model of guess. Save the model as `condition_model`. Print out the parameter estimates, and overlay the model on the jitter plot."
    },
    {
      "cell_type": "code",
      "execution_count": null,
      "id": "149092a6",
      "metadata": {
        "scrolled": false,
        "trusted": true
      },
      "outputs": [],
      "source": "# fit and save the model\ncondition_model <- lm(guess ~ condition, data=anchor_data)\n# print out the parameter estimates\ncondition_model\n# overlay the model on the jitter plot\ngf_jitter(guess ~ condition, data=anchor_data, width=.2) %>%\ngf_model(condition_model)"
    },
    {
      "cell_type": "markdown",
      "id": "1a12af19",
      "metadata": {},
      "source": "### 2.3 How do the parameter estimates generate the model predictions?\nThe best-fitting model can be written like this (first without the estimates, and then with the estimates filled in):\n\n(1) $b_0+b_1X_i$ <br>\n(2) $786.1+2257.9*X_i$\n\nWhere in the graph do you see $b_0$? Where do you see $b_1$? Write your answers in the space below."
    },
    {
      "cell_type": "markdown",
      "id": "1e1a7cb0",
      "metadata": {
        "nbsimplegrader": {
          "config_key": "markdown.response",
          "editable": true,
          "label": "Response: Markdown",
          "respondable": true,
          "response": null,
          "runnable": true,
          "type": "markdown"
        }
      },
      "source": "b0 is the mean of the ascending group. b1 is the difference between the ascending and descending group, i.e., the adjustment you must make from the prediction for ascending to get the prediction for descending."
    },
    {
      "cell_type": "markdown",
      "id": "3ddc56fb",
      "metadata": {},
      "source": "Why is the $b_1$ parameter estimate (2257.9) labeled as \"conditiondescending\" in the model output? Write your answer in the space below."
    },
    {
      "cell_type": "markdown",
      "id": "dfc151fd",
      "metadata": {
        "nbsimplegrader": {
          "config_key": "markdown.response",
          "editable": true,
          "label": "Response: Markdown",
          "respondable": true,
          "response": null,
          "runnable": true,
          "type": "markdown"
        }
      },
      "source": "It's the adjustment you must make from the reference group (b0) to get to the descending group (i.e., conditiondescending)"
    },
    {
      "cell_type": "markdown",
      "id": "4debe6d2",
      "metadata": {},
      "source": "## 3. Predict: What would happen if you switched the order?\nWhen R fits the condition model it arbitrarily assigns $X_i$ to be 0 for students in the ascending condition and 1 for students in the descending condition. This makes the ascending group the <i>reference group</i>. $b_0$ is the model prediction for the reference group; $b_1$ is the amount that must be added to the reference group prediction to get the other group's (i.e., the descending group) prediction."
    },
    {
      "cell_type": "markdown",
      "id": "f6314c09",
      "metadata": {},
      "source": "### 3.1 Do you think the *parameter estimates* would change if the descending group were made the reference group? Why or why not?"
    },
    {
      "cell_type": "markdown",
      "id": "eda068d5",
      "metadata": {
        "nbsimplegrader": {
          "config_key": "markdown.response",
          "editable": true,
          "label": "Response: Markdown",
          "respondable": true,
          "response": null,
          "runnable": true,
          "type": "markdown"
        }
      },
      "source": "Yes, they would change. The b0 estimate would now be the mean of the descending group."
    },
    {
      "cell_type": "markdown",
      "id": "a63ddd16",
      "metadata": {},
      "source": "### 3.2 Do you think the *model predictions* would change if the descending group were made the reference group? Why or why not?"
    },
    {
      "cell_type": "markdown",
      "id": "1ca921f2",
      "metadata": {
        "nbsimplegrader": {
          "config_key": "markdown.response",
          "editable": true,
          "label": "Response: Markdown",
          "respondable": true,
          "response": null,
          "runnable": true,
          "type": "markdown"
        }
      },
      "source": "No, the model predictions would be the same - still the means of the two groups."
    },
    {
      "cell_type": "markdown",
      "id": "98576597",
      "metadata": {},
      "source": "## 4. Test your predictions: Let's get R to switch the order of the groups\nBy default, R puts the category labels in alphabetical order and makes the one that comes first the reference group. Thus, ascending comes before descending. One way to get R to make descending the reference group would be to change the category labels so that ascending comes second in alphabetical order. For example, we could change the label from `ascending` to `xascending`. (By putting the \"x\" before ascending, we made it come later in the alphabet. We also could have used any other letter that comes after \"d\".) We've done that in the code cell below, saving the results in a new variable called `xcondition`."
    },
    {
      "cell_type": "code",
      "execution_count": null,
      "id": "dcacb77a",
      "metadata": {
        "nbsimplegrader": {
          "config_key": "code.edit-and-run",
          "editable": true,
          "label": "Code: Edit-and-Run",
          "respondable": false,
          "response": null,
          "runnable": true,
          "type": "code"
        },
        "scrolled": true,
        "trusted": true
      },
      "outputs": [],
      "source": "# run this cell\n# create new variable xcondition\nanchor_data$xcondition <- recode(anchor_data$condition, \"ascending\" = \"xascending\")\n# checks to see if the new variable looks right\nstr(anchor_data)"
    },
    {
      "cell_type": "markdown",
      "id": "8c10e0c9",
      "metadata": {},
      "source": "### 4.1 Refit the two-group model, but use `xcondition` as the explanatory variable"
    },
    {
      "cell_type": "code",
      "execution_count": null,
      "id": "b1568920",
      "metadata": {
        "nbsimplegrader": {
          "config_key": "code.response",
          "editable": true,
          "label": "Response: Code",
          "respondable": true,
          "response": null,
          "runnable": true,
          "type": "code"
        },
        "scrolled": true,
        "trusted": true
      },
      "outputs": [],
      "source": "# create xcondition_model\nxcondition_model <- lm(guess ~ xcondition, data=anchor_data)\n# print out the model estimates\nxcondition_model"
    },
    {
      "cell_type": "markdown",
      "id": "135cdb64",
      "metadata": {},
      "source": "### 4.2 Interpret the new parameter estimates\nWhat does the 3043 mean? What about the -2257?"
    },
    {
      "cell_type": "markdown",
      "id": "af06159e",
      "metadata": {
        "nbsimplegrader": {
          "config_key": "markdown.response",
          "editable": true,
          "label": "Response: Markdown",
          "respondable": true,
          "response": null,
          "runnable": true,
          "type": "markdown"
        }
      },
      "source": "3043 is the mean of the descending group. -2257 is the amount that must be added to get the mean of the descending group. (Because it is negative, it will yield a lower mean, which is as expected.)"
    },
    {
      "cell_type": "markdown",
      "id": "42081aa5",
      "metadata": {},
      "source": "### 4.3 Write the `xcondition_model` in GLM notation\nReplace the $b_0$ and $b_1$ with the actual parameter estimates"
    },
    {
      "cell_type": "markdown",
      "id": "a7af2376",
      "metadata": {
        "nbsimplegrader": {
          "config_key": "markdown.response",
          "editable": true,
          "label": "Response: Markdown",
          "respondable": true,
          "response": null,
          "runnable": true,
          "type": "markdown"
        }
      },
      "source": "$Y_i=3043 + -2257*X_i$"
    },
    {
      "cell_type": "markdown",
      "id": "9b9d4cf4",
      "metadata": {},
      "source": "### 4.4 Do the model predictions change?\nThe `xcondition_model` is still a two-group model, which means it makes two different model predictions. Do these predictions change because we switched the order of the groups? Why or why not?"
    },
    {
      "cell_type": "markdown",
      "id": "6dc94834",
      "metadata": {
        "nbsimplegrader": {
          "config_key": "markdown.response",
          "editable": true,
          "label": "Response: Markdown",
          "respondable": true,
          "response": null,
          "runnable": true,
          "type": "markdown"
        }
      },
      "source": "No, they don't."
    },
    {
      "cell_type": "markdown",
      "id": "323bd3d1",
      "metadata": {},
      "source": "<div class=\"teacher-note\">\n    <b>Teacher Note:</b> It's important to note that while the parameter estimates change based on the change in reference group, the actual predictions do not change. They still are the means of the two groups, and the means of the groups do not change.\n</div>"
    }
  ],
  "metadata": {
    "kernelspec": {
      "display_name": "R",
      "language": "R",
      "name": "ir"
    },
    "language_info": {
      "codemirror_mode": "r",
      "file_extension": ".r",
      "mimetype": "text/x-r-source",
      "name": "R",
      "pygments_lexer": "r",
      "version": "4.3.3"
    },
    "nbsimplegrader": {
      "publish_config": {
        "classes": [],
        "options": {},
        "tools": []
      }
    }
  },
  "nbformat": 4,
  "nbformat_minor": 5
}