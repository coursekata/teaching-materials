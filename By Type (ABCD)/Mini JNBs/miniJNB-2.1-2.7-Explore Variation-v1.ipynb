{
  "cells": [
    {
      "cell_type": "markdown",
      "metadata": {
        "cell_id": "e79748483a564c0194e355c56602dbac",
        "deepnote_cell_height": 120.34375,
        "deepnote_cell_type": "markdown",
        "nbsimplegrader": {
          "config_key": "markdown.view-only",
          "editable": false,
          "label": "Markdown: View-Only",
          "respondable": false,
          "response": null,
          "runnable": false,
          "type": "markdown"
        }
      },
      "source": "# Explore Variation\n\n## Chapter 2.1-2.7 Where Data Comes From"
    },
    {
      "cell_type": "code",
      "execution_count": null,
      "metadata": {
        "cell_id": "8330bcdcefea4e7aa6c8a8f3e44160ed",
        "deepnote_cell_height": 317.96875,
        "deepnote_cell_type": "code",
        "deepnote_to_be_reexecuted": false,
        "execution_millis": 5487,
        "execution_start": 1713494527699,
        "nbsimplegrader": {
          "config_key": "code.run-only",
          "editable": false,
          "label": "Code: Run-Only",
          "respondable": false,
          "response": null,
          "runnable": true,
          "type": "code"
        },
        "source_hash": null,
        "trusted": true
      },
      "outputs": [],
      "source": "# run this cell to set up the notebook\nsuppressMessages(library(coursekata))\ncss <- suppressWarnings(readLines(\"https://raw.githubusercontent.com/jimstigler/jupyter/master/ck_jupyter_styles.css\"))\nIRdisplay::display_html(sprintf('<style>%s</style>', paste(css, collapse = \"\\n\")))\n\n\n# This code will import the data frame \nStudentData <- read.csv(\"https://docs.google.com/spreadsheets/d/e/2PACX-1vR_iPHZ-Vc9axdsnwsPJLywJaoRwYgph_xqLDhLBQTh5kYgy47RfcnVJw097Iby2FNYAGIireRkobDs/pub?gid=0&single=true&output=csv\")\n"
    },
    {
      "cell_type": "markdown",
      "metadata": {
        "cell_id": "d906759a5a8f49b18f29508ce33f18b4",
        "deepnote_cell_type": "markdown",
        "nbsimplegrader": {
          "config_key": "markdown.view-only",
          "editable": false,
          "label": "Markdown: View-Only",
          "respondable": false,
          "response": null,
          "runnable": false,
          "type": "markdown"
        }
      },
      "source": "## 1 Let's explore the `StudentData` data frame. \n"
    },
    {
      "cell_type": "markdown",
      "metadata": {
        "cell_id": "dbee350f14164d3eba11d3c92d6a0873",
        "deepnote_cell_height": 130.765625,
        "deepnote_cell_type": "markdown",
        "nbsimplegrader": {
          "config_key": "markdown.view-only",
          "editable": false,
          "label": "Markdown: View-Only",
          "respondable": false,
          "response": null,
          "runnable": false,
          "type": "markdown"
        }
      },
      "source": "### 1.1 Pick one (or both!) of the questions below to answer:\n\n- What is the highest number of siblings a student has in this data frame?\n- What is the highest number of pets a student has in this data frame?"
    },
    {
      "cell_type": "code",
      "execution_count": null,
      "metadata": {
        "cell_id": "5d7fd4e911d041f3ae22999ece680ec7",
        "deepnote_cell_type": "code",
        "nbsimplegrader": {
          "config_key": "code.response",
          "editable": true,
          "label": "Response: Code",
          "respondable": true,
          "response": null,
          "runnable": true,
          "type": "code"
        },
        "trusted": true
      },
      "outputs": [],
      "source": "# run code here"
    },
    {
      "cell_type": "markdown",
      "metadata": {
        "cell_id": "191017cbcd0543969a65baf03e83a0d3",
        "deepnote_cell_height": 66.359375,
        "deepnote_cell_type": "markdown",
        "nbsimplegrader": {
          "config_key": "markdown.response",
          "editable": true,
          "label": "Response: Markdown",
          "respondable": true,
          "response": null,
          "runnable": true,
          "type": "markdown"
        }
      },
      "source": "> Write your answer here."
    },
    {
      "cell_type": "markdown",
      "metadata": {
        "cell_id": "5acc0610ddc04f36a9d6ab340ac10ca4",
        "deepnote_cell_height": 130.765625,
        "deepnote_cell_type": "markdown",
        "nbsimplegrader": {
          "config_key": "markdown.view-only",
          "editable": false,
          "label": "Markdown: View-Only",
          "respondable": false,
          "response": null,
          "runnable": false,
          "type": "markdown"
        }
      },
      "source": "### 1.2 Pick one (or more!) of the questions below to answer:\n\n- What is the most common favorite color?\n- Are there more guys or gals in this data frame?\n- What is the most common favorite subject?"
    },
    {
      "cell_type": "code",
      "execution_count": null,
      "metadata": {
        "cell_id": "379080f59bb34b2da03dc187fd1955c0",
        "deepnote_cell_type": "code",
        "nbsimplegrader": {
          "config_key": "code.response",
          "editable": true,
          "label": "Response: Code",
          "respondable": true,
          "response": null,
          "runnable": true,
          "type": "code"
        },
        "trusted": true
      },
      "outputs": [],
      "source": "# run code here"
    },
    {
      "cell_type": "markdown",
      "metadata": {
        "cell_id": "9e0d7f9e111f4dceb3d3c73c90f6a808",
        "deepnote_cell_height": 66.359375,
        "deepnote_cell_type": "markdown",
        "nbsimplegrader": {
          "config_key": "markdown.response",
          "editable": true,
          "label": "Response: Markdown",
          "respondable": true,
          "response": null,
          "runnable": true,
          "type": "markdown"
        }
      },
      "source": "> Write your answer here."
    },
    {
      "cell_type": "markdown",
      "metadata": {
        "cell_id": "010dc1af4ca44097b4dfa0ee064faec1",
        "deepnote_cell_height": 130.765625,
        "deepnote_cell_type": "markdown",
        "nbsimplegrader": {
          "config_key": "markdown.view-only",
          "editable": false,
          "label": "Markdown: View-Only",
          "respondable": false,
          "response": null,
          "runnable": false,
          "type": "markdown"
        }
      },
      "source": "### 1.3 Which variable has the *least* amount of variation: `height` or `head_circumference`? Make a guess first, then use R to answer the question. Why do you think that is the case?"
    },
    {
      "cell_type": "code",
      "execution_count": null,
      "metadata": {
        "cell_id": "7d6110192401420aab6d0fad777602a1",
        "deepnote_cell_type": "code",
        "nbsimplegrader": {
          "config_key": "code.response",
          "editable": true,
          "label": "Response: Code",
          "respondable": true,
          "response": null,
          "runnable": true,
          "type": "code"
        },
        "trusted": true
      },
      "outputs": [],
      "source": "# run code here"
    },
    {
      "cell_type": "markdown",
      "metadata": {
        "cell_id": "e5c20753ac064080a11f75e3253cd07a",
        "deepnote_cell_height": 66.359375,
        "deepnote_cell_type": "markdown",
        "nbsimplegrader": {
          "config_key": "markdown.response",
          "editable": true,
          "label": "Response: Markdown",
          "respondable": true,
          "response": null,
          "runnable": true,
          "type": "markdown"
        }
      },
      "source": "> Write your answer here."
    },
    {
      "cell_type": "markdown",
      "metadata": {
        "cell_id": "f50e50e253f54759900a156bd74c2fa0",
        "deepnote_cell_type": "markdown",
        "nbsimplegrader": {
          "config_key": "markdown.view-only",
          "editable": false,
          "label": "Markdown: View-Only",
          "respondable": false,
          "response": null,
          "runnable": false,
          "type": "markdown"
        }
      },
      "source": "## 2 Let's explore the `nba_tattoos` data frame. "
    },
    {
      "cell_type": "markdown",
      "metadata": {
        "cell_id": "1d8a1556835e4515a4be59bf85cb8143",
        "deepnote_cell_height": 130.765625,
        "deepnote_cell_type": "markdown",
        "nbsimplegrader": {
          "config_key": "markdown.view-only",
          "editable": false,
          "label": "Markdown: View-Only",
          "respondable": false,
          "response": null,
          "runnable": false,
          "type": "markdown"
        }
      },
      "source": "### 2.1 Are there more players that have tattoos than players that do not have tattoos?"
    },
    {
      "cell_type": "code",
      "execution_count": null,
      "metadata": {
        "cell_id": "c38cff3bbb534f1b8576a911f55e355b",
        "deepnote_cell_type": "code",
        "nbsimplegrader": {
          "config_key": "code.response",
          "editable": true,
          "label": "Response: Code",
          "respondable": true,
          "response": null,
          "runnable": true,
          "type": "code"
        },
        "trusted": true
      },
      "outputs": [],
      "source": "# run code here"
    },
    {
      "cell_type": "markdown",
      "metadata": {
        "cell_id": "0f279b0fb39844e286f16dd5c9f25370",
        "deepnote_cell_height": 66.359375,
        "deepnote_cell_type": "markdown",
        "nbsimplegrader": {
          "config_key": "markdown.response",
          "editable": true,
          "label": "Response: Markdown",
          "respondable": true,
          "response": null,
          "runnable": true,
          "type": "markdown"
        }
      },
      "source": "> Write your answer here."
    },
    {
      "cell_type": "markdown",
      "metadata": {
        "cell_id": "5ae3b2a6f74b4cf2bb87d365ba815ad7",
        "deepnote_cell_height": 130.765625,
        "deepnote_cell_type": "markdown",
        "nbsimplegrader": {
          "config_key": "markdown.view-only",
          "editable": false,
          "label": "Markdown: View-Only",
          "respondable": false,
          "response": null,
          "runnable": false,
          "type": "markdown"
        }
      },
      "source": "### 2.2 Does NBA player **A.J. Price** have tattoos?\n"
    },
    {
      "cell_type": "code",
      "execution_count": null,
      "metadata": {
        "cell_id": "a8f691b1761f47eeb7c2013d36f37371",
        "deepnote_cell_type": "code",
        "nbsimplegrader": {
          "config_key": "code.response",
          "editable": true,
          "label": "Response: Code",
          "respondable": true,
          "response": null,
          "runnable": true,
          "type": "code"
        },
        "trusted": true
      },
      "outputs": [],
      "source": "# run code here"
    },
    {
      "cell_type": "markdown",
      "metadata": {
        "cell_id": "982a2a0c11ad43688fc7d13a48491d65",
        "deepnote_cell_height": 66.359375,
        "deepnote_cell_type": "markdown",
        "nbsimplegrader": {
          "config_key": "markdown.response",
          "editable": true,
          "label": "Response: Markdown",
          "respondable": true,
          "response": null,
          "runnable": true,
          "type": "markdown"
        }
      },
      "source": "> Write your answer here."
    },
    {
      "cell_type": "markdown",
      "metadata": {
        "cell_id": "92f1d7b894b44531ba1d9c5939a0b151",
        "deepnote_cell_height": 130.765625,
        "deepnote_cell_type": "markdown",
        "nbsimplegrader": {
          "config_key": "markdown.view-only",
          "editable": false,
          "label": "Markdown: View-Only",
          "respondable": false,
          "response": null,
          "runnable": false,
          "type": "markdown"
        }
      },
      "source": "### 2.3 Which player has the most tattoos?"
    },
    {
      "cell_type": "code",
      "execution_count": null,
      "metadata": {
        "cell_id": "697602b204db426cb9df1ff0d999765c",
        "deepnote_cell_type": "code",
        "nbsimplegrader": {
          "config_key": "code.response",
          "editable": true,
          "label": "Response: Code",
          "respondable": true,
          "response": null,
          "runnable": true,
          "type": "code"
        },
        "trusted": true
      },
      "outputs": [],
      "source": "# run code here"
    },
    {
      "cell_type": "markdown",
      "metadata": {
        "cell_id": "a8d251d301d34b498442c9b8238e2c71",
        "deepnote_cell_height": 66.359375,
        "deepnote_cell_type": "markdown",
        "nbsimplegrader": {
          "config_key": "markdown.response",
          "editable": true,
          "label": "Response: Markdown",
          "respondable": true,
          "response": null,
          "runnable": true,
          "type": "markdown"
        }
      },
      "source": "> Write your answer here."
    },
    {
      "cell_type": "markdown",
      "metadata": {
        "cell_id": "9d94a019be0e43f0bbd670f32b56f709",
        "deepnote_cell_type": "markdown",
        "nbsimplegrader": {
          "config_key": "markdown.view-only",
          "editable": false,
          "label": "Markdown: View-Only",
          "respondable": false,
          "response": null,
          "runnable": false,
          "type": "markdown"
        }
      },
      "source": "## 3 Let's explore the `Cereal` data frame. "
    },
    {
      "cell_type": "markdown",
      "metadata": {
        "cell_id": "969f51ef8ee34638b52eef77b7145ea4",
        "deepnote_cell_height": 108.359375,
        "deepnote_cell_type": "markdown",
        "nbsimplegrader": {
          "config_key": "markdown.view-only",
          "editable": false,
          "label": "Markdown: View-Only",
          "respondable": false,
          "response": null,
          "runnable": false,
          "type": "markdown"
        }
      },
      "source": "### 3.1 Which Company has the most number of cereals represented in this data frame?\n\n*Note: G = General Mills, Q = Quaker, K = Kellogg*"
    },
    {
      "cell_type": "code",
      "execution_count": null,
      "metadata": {
        "cell_id": "13bd3225b01a46e4b65760e82dcce28a",
        "deepnote_cell_type": "code",
        "nbsimplegrader": {
          "config_key": "code.response",
          "editable": true,
          "label": "Response: Code",
          "respondable": true,
          "response": null,
          "runnable": true,
          "type": "code"
        },
        "trusted": true
      },
      "outputs": [],
      "source": "# run code here"
    },
    {
      "cell_type": "markdown",
      "metadata": {
        "cell_id": "76f093e578ed4e1ca1f576fa88465a11",
        "deepnote_cell_height": 66.359375,
        "deepnote_cell_type": "markdown",
        "nbsimplegrader": {
          "config_key": "markdown.response",
          "editable": true,
          "label": "Response: Markdown",
          "respondable": true,
          "response": null,
          "runnable": true,
          "type": "markdown"
        }
      },
      "source": "> Write your answer here."
    },
    {
      "cell_type": "markdown",
      "metadata": {
        "cell_id": "f37ba8a40d614ace9b1d116545f0ba69",
        "deepnote_cell_height": 108.359375,
        "deepnote_cell_type": "markdown",
        "nbsimplegrader": {
          "config_key": "markdown.view-only",
          "editable": false,
          "label": "Markdown: View-Only",
          "respondable": false,
          "response": null,
          "runnable": false,
          "type": "markdown"
        }
      },
      "source": "### 3.2 About how many calories do *most* cereals tend to have?\n"
    },
    {
      "cell_type": "code",
      "execution_count": null,
      "metadata": {
        "cell_id": "01b96dbf4a0742c6b2e78b9ef87aba08",
        "deepnote_cell_type": "code",
        "nbsimplegrader": {
          "config_key": "code.response",
          "editable": true,
          "label": "Response: Code",
          "respondable": true,
          "response": null,
          "runnable": true,
          "type": "code"
        },
        "trusted": true
      },
      "outputs": [],
      "source": "# run code here"
    },
    {
      "cell_type": "markdown",
      "metadata": {
        "cell_id": "f1cbc7d8394e48e7abaffb396fcc2787",
        "deepnote_cell_height": 66.359375,
        "deepnote_cell_type": "markdown",
        "nbsimplegrader": {
          "config_key": "markdown.response",
          "editable": true,
          "label": "Response: Markdown",
          "respondable": true,
          "response": null,
          "runnable": true,
          "type": "markdown"
        }
      },
      "source": "> Write your answer here."
    },
    {
      "cell_type": "markdown",
      "metadata": {
        "cell_id": "629066e3f1d64995a91878d0fdb82e87",
        "deepnote_cell_height": 108.359375,
        "deepnote_cell_type": "markdown",
        "nbsimplegrader": {
          "config_key": "markdown.view-only",
          "editable": false,
          "label": "Markdown: View-Only",
          "respondable": false,
          "response": null,
          "runnable": false,
          "type": "markdown"
        }
      },
      "source": "### 3.3 What is the lowest and the highest amount of sugar found in these cereals?"
    },
    {
      "cell_type": "code",
      "execution_count": null,
      "metadata": {
        "cell_id": "02426b28d4e04ec583fcd78edec6c513",
        "deepnote_cell_type": "code",
        "nbsimplegrader": {
          "config_key": "code.response",
          "editable": true,
          "label": "Response: Code",
          "respondable": true,
          "response": null,
          "runnable": true,
          "type": "code"
        },
        "trusted": true
      },
      "outputs": [],
      "source": "# run code here"
    },
    {
      "cell_type": "markdown",
      "metadata": {
        "cell_id": "caba926ffa4d4860acdc1c8b5dfcae57",
        "deepnote_cell_height": 66.359375,
        "deepnote_cell_type": "markdown",
        "nbsimplegrader": {
          "config_key": "markdown.response",
          "editable": true,
          "label": "Response: Markdown",
          "respondable": true,
          "response": null,
          "runnable": true,
          "type": "markdown"
        }
      },
      "source": "> Write your answer here."
    },
    {
      "cell_type": "markdown",
      "metadata": {
        "cell_id": "f023c5616cce425db1a4abbc8e6bedec",
        "deepnote_cell_height": 108.359375,
        "deepnote_cell_type": "markdown",
        "nbsimplegrader": {
          "config_key": "markdown.view-only",
          "editable": false,
          "label": "Markdown: View-Only",
          "respondable": false,
          "response": null,
          "runnable": false,
          "type": "markdown"
        }
      },
      "source": "## 4 What is the difference between `sort()` and `tally()`?"
    },
    {
      "cell_type": "markdown",
      "metadata": {
        "cell_id": "0d90a0fb9f6c46bfa65ffa36e472f953",
        "deepnote_cell_height": 66.359375,
        "deepnote_cell_type": "markdown",
        "nbsimplegrader": {
          "config_key": "markdown.response",
          "editable": true,
          "label": "Response: Markdown",
          "respondable": true,
          "response": null,
          "runnable": true,
          "type": "markdown"
        }
      },
      "source": "> Write your answer here."
    },
    {
      "cell_type": "markdown",
      "metadata": {
        "cell_id": "4497ada958dd46019c4644a0ad7fd708",
        "deepnote_cell_type": "markdown",
        "nbsimplegrader": {
          "config_key": "markdown.view-only",
          "editable": false,
          "label": "Markdown: View-Only",
          "respondable": false,
          "response": null,
          "runnable": false,
          "type": "markdown"
        }
      },
      "source": "<div class=\"alert alert-block alert-info\">\n\n## Bonus/If Time:\n\nUse this space for \"Free Play\" and just explore whatever you are curious about!\n\nAlso, feel free to play around with the code on your cheatsheet!\n\n</div>"
    },
    {
      "cell_type": "code",
      "execution_count": null,
      "metadata": {
        "cell_id": "e0f770fe5f59456688073b0a2fc596e8",
        "deepnote_cell_type": "code",
        "nbsimplegrader": {
          "config_key": "code.response",
          "editable": true,
          "label": "Response: Code",
          "respondable": true,
          "response": null,
          "runnable": true,
          "type": "code"
        },
        "trusted": true
      },
      "outputs": [],
      "source": "# Free Play!\n\n"
    }
  ],
  "metadata": {
    "deepnote_notebook_id": "490aeeee63f54f7f9986740026056dad",
    "kernelspec": {
      "display_name": "R",
      "language": "R",
      "name": "ir"
    },
    "language_info": {
      "codemirror_mode": "r",
      "file_extension": ".r",
      "mimetype": "text/x-r-source",
      "name": "R",
      "pygments_lexer": "r",
      "version": "4.3.3"
    },
    "nbsimplegrader": {
      "publish_config": {
        "classes": [],
        "options": [],
        "tools": []
      }
    }
  },
  "nbformat": 4,
  "nbformat_minor": 1
}