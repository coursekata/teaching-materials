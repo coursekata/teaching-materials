{
  "cells": [
    {
      "cell_type": "markdown",
      "metadata": {
        "cell_id": "c55c081ac0124e3bad586d858d803e9c",
        "deepnote_cell_height": 276.3125,
        "deepnote_cell_type": "markdown"
      },
      "source": "# Art and Math - Exploring Variation and the DGP \n\n## Chapter 3.10-3.13 Samples, Populations, and the Data Generating Process (DGP)"
    },
    {
      "cell_type": "code",
      "execution_count": null,
      "metadata": {
        "cell_id": "1a0afcfda2d44b57858bf95aae71d412",
        "deepnote_cell_height": 129.953125,
        "deepnote_cell_type": "code",
        "deepnote_to_be_reexecuted": false,
        "execution_context_id": "6f8c1dfc-33ce-4e50-9a57-3f7ae689a924",
        "execution_millis": 1013,
        "execution_start": 1745115562197,
        "output_cleared": false,
        "source_hash": "116f7300",
        "trusted": true
      },
      "outputs": [],
      "source": "# This code will load the R packages we will use\nsuppressPackageStartupMessages({\n    library(coursekata)\n})\n\n# set styles\ncss <- suppressWarnings(readLines(\"https://raw.githubusercontent.com/jimstigler/jupyter/master/ck_jupyter_styles.css\"))\nIRdisplay::display_html(sprintf('<style>%s</style>', paste(css, collapse = \"\\n\")))\n\n# Load the data frame: \nEyes <- read.csv(\"https://docs.google.com/spreadsheets/d/e/2PACX-1vTJaUfRbLITc3EKByD3oDD4PhwfPBTN6FdAnCJUukTQwfd_k8ZGOzFj8wWwPIc1tw9XvJkPxz7k41zV/pub?output=csv\", header = TRUE) %>%\n  select(Participant, Midline, EyesHigherMid, EyeLevel)\nnames(Eyes)[4] <- \"EyesHigherChin\""
    },
    {
      "cell_type": "markdown",
      "metadata": {
        "cell_id": "619cb141d45d41f2994977ff200c7403",
        "deepnote_cell_height": 317.71875,
        "deepnote_cell_type": "markdown"
      },
      "source": "## 1 Where are our eyes?\n\n<img src=\"https://coursekata-course-assets.s3.us-west-1.amazonaws.com/UCLATALL/czi-stats-course/jnb_SyJmv8SS-d-Jgm-Ibz-Imgur.png\" title=\"a sketch of a head\" width = 20% align = \"left\" valign = \"bottom\"/> \nWhen people are taught to sketch faces, they are told to place the eyes at the midline of the head (see picture). This sometimes strikes people as wrong because they think the eyes are slightly above the midline of the head. What do you think about this idea?\n"
    },
    {
      "cell_type": "markdown",
      "metadata": {
        "cell_id": "6427df116a6643889454929f1901ef6b",
        "deepnote_cell_height": 572.828125,
        "deepnote_cell_type": "markdown"
      },
      "source": "### The Head Sketch Survey Data: `Eyes`\n\nTo help us put this artistic advice to the test, some students from Cal State LA have collected some data by measuring their heads. The whole survey can be found here: [Head Sketch Survey](https://docs.google.com/document/d/10X8G1BPz0nlEi409VV4LuORQNKf8LG4oCeB4wHhZN5Q/edit). Feel free to look the survey document over to get an idea of the instructions they had to follow (but you do NOT need to measure your own head).\n\nFirst, students were asked to guess whether their eyes were at their midline (before measuring). Then they measured their heads with a centimeter ruler. They filled in these boxes.\n"
    },
    {
      "cell_type": "markdown",
      "metadata": {
        "cell_id": "852e509f7f154209aec521c10d919edd",
        "deepnote_cell_type": "markdown"
      },
      "source": "### 1.1 Look at the data frame."
    },
    {
      "cell_type": "code",
      "execution_count": null,
      "metadata": {
        "cell_id": "5be115f804734348be50e04df4d873c7",
        "deepnote_cell_height": 480.859375,
        "deepnote_cell_type": "code",
        "deepnote_output_heights": [
          275.90625
        ],
        "deepnote_to_be_reexecuted": false,
        "execution_context_id": "6f8c1dfc-33ce-4e50-9a57-3f7ae689a924",
        "execution_millis": 1577,
        "execution_start": 1745115563256,
        "output_cleared": false,
        "source_hash": "698718b0",
        "trusted": true
      },
      "outputs": [],
      "source": "# Print a little of the `Eyes` data frame\n"
    },
    {
      "cell_type": "markdown",
      "metadata": {
        "cell_id": "602b03083e814d8593c641372d45b770",
        "deepnote_cell_height": 401.4375,
        "deepnote_cell_type": "markdown"
      },
      "source": "Here are the descriptions for the variables you will find in the `Eyes` data frame:\n\n- `Participant` The participant number for each person\n- `Midline` How high is your midline (from your chin to the top of your head), in cm (self-measured)?\n- `EyesHigherMid` How much higher than the midline are your eyes, in cm (self-measured)?\n- `EyesHigherChin` How high are your eyes from your chin, in cm (self-measured)?\n\n\n<img src=\"https://i.postimg.cc/81twFD9j/head-sketch.png\" title=\"a sketch of a head with descriptions labeling where each of the measurements were taken\" width = 70% align = \"center\"/> "
    },
    {
      "cell_type": "markdown",
      "metadata": {
        "cell_id": "80c1ca392ee24d4eb4b2b434df0f51c1",
        "deepnote_cell_height": 69.96875,
        "deepnote_cell_type": "markdown"
      },
      "source": "## 2 Exploring and Describing the Data"
    },
    {
      "cell_type": "markdown",
      "metadata": {
        "cell_id": "d3df1c00025c4ac2868d82fcb0d676a7",
        "deepnote_cell_height": 74.75,
        "deepnote_cell_type": "markdown"
      },
      "source": "### 2.1 Create a histogram to explore variation in `EyesHigherMid`.\n\nFeel free to play around with arguments and chain markers such as color, fill, labels, density curves, bins, and binwidth!"
    },
    {
      "cell_type": "code",
      "execution_count": null,
      "metadata": {
        "cell_id": "821f740caa5043548834b61d98d422fd",
        "deepnote_cell_height": 706.953125,
        "deepnote_cell_type": "code",
        "deepnote_output_heights": [
          610
        ],
        "deepnote_to_be_reexecuted": false,
        "execution_context_id": "6f8c1dfc-33ce-4e50-9a57-3f7ae689a924",
        "execution_millis": 232,
        "execution_start": 1745115564886,
        "source_hash": "884d8b04",
        "tags": [],
        "trusted": true
      },
      "outputs": [],
      "source": "# run code here\n\n"
    },
    {
      "cell_type": "markdown",
      "metadata": {
        "cell_id": "f6d170a2e9474403a7118ad2505b164e",
        "deepnote_cell_height": 74.75,
        "deepnote_cell_type": "markdown"
      },
      "source": "### 2.2 Why does this distribution look like this? Does this help us explore whether our eyes are generally around the midline of our face? "
    },
    {
      "cell_type": "markdown",
      "metadata": {
        "cell_id": "2c0e3f3389bb4b1fb7b004733ec42d32",
        "deepnote_cell_height": 339.46875,
        "deepnote_cell_type": "markdown",
        "tags": []
      },
      "source": "2.2 Response:"
    },
    {
      "cell_type": "markdown",
      "metadata": {
        "cell_id": "55e6599ba4fb42e59113842d3be4cc63",
        "deepnote_cell_height": 111.140625,
        "deepnote_cell_type": "markdown"
      },
      "source": "### 2.3 How might we use the other variables in the dataset to figure out the distance between the middle of the face and the eyes?"
    },
    {
      "cell_type": "markdown",
      "metadata": {
        "cell_id": "7e5c7b95bab747e5bf0f6a6959319dde",
        "deepnote_cell_height": 339.46875,
        "deepnote_cell_type": "markdown",
        "tags": []
      },
      "source": "2.3 Response:"
    },
    {
      "cell_type": "markdown",
      "metadata": {
        "cell_id": "b374c60003004ad8aeaef17e8ca844dd",
        "deepnote_cell_height": 111.140625,
        "deepnote_cell_type": "markdown"
      },
      "source": "### 2.4 Correct the mistake and save it as a new variable to better explore the idea that our eyes are around the midline of our face."
    },
    {
      "cell_type": "code",
      "execution_count": null,
      "metadata": {
        "cell_id": "ad93da95e09d4553b9ba6cd773d13864",
        "deepnote_cell_height": 1834.84375,
        "deepnote_cell_type": "code",
        "deepnote_output_heights": [
          275.90625,
          610,
          610
        ],
        "deepnote_to_be_reexecuted": false,
        "execution_context_id": "6f8c1dfc-33ce-4e50-9a57-3f7ae689a924",
        "execution_millis": 432,
        "execution_start": 1745115565166,
        "output_cleared": false,
        "source_hash": "bd6f33ce",
        "tags": [],
        "trusted": true
      },
      "outputs": [],
      "source": "# You can correct the mistakes in EyesHigherMid by \n# subtracting Midline from EyesHigherChin\nEyes$EyesCalc <- (Eyes$_______) - (Eyes$_______)\n\n# Check that the correction worked\nhead(Eyes)\n\n# Explore the new variable `EyesCalc` with a visualization\n\n"
    },
    {
      "cell_type": "markdown",
      "metadata": {
        "cell_id": "55853fcbc89c4046a6fcf895db962cef",
        "deepnote_cell_height": 52.359375,
        "deepnote_cell_type": "markdown"
      },
      "source": "### 2.5 What does the data tell you about the “eyes at midline” artistic advice?"
    },
    {
      "cell_type": "markdown",
      "metadata": {
        "cell_id": "df0ac2c4923442cca43f081044ab56cc",
        "deepnote_cell_height": 185.515625,
        "deepnote_cell_type": "markdown",
        "tags": []
      },
      "source": "2.5 Response:"
    },
    {
      "cell_type": "markdown",
      "metadata": {
        "cell_id": "cbb26c06ce5f4e06a489cf58ca3387eb",
        "deepnote_cell_height": 483.671875,
        "deepnote_cell_type": "markdown"
      },
      "source": "## 3 Thinking about the DGP and Different Samples\n\n|    With Mistakes                                           |     Without Mistakes                                      | \n|-----------------------------------------------|-------------------------------------------| \n|   <img src=\"https://i.postimg.cc/dJ22zv9L/with-mistakes.png\" title = \"temp\" width = \"90%\"> |  <img src=\"https://i.postimg.cc/81TRG3yw/without-mistakes.png\" width = \"90%\"> |\n"
    },
    {
      "cell_type": "markdown",
      "metadata": {
        "cell_id": "c14afa840f7a43fa8d7929099f8878ca",
        "deepnote_cell_height": 97.140625,
        "deepnote_cell_type": "markdown"
      },
      "source": "### 3.1 - If a different class of college students measured how much higher their eyes are above the midline, would the distribution of their data be similar? \n\nWould it be more similar to the one with mistakes or the one without mistakes? How would it be similar/different? \n\n(Notice that you are generating a little theory about the Data Generating Process (DGP)!)\n"
    },
    {
      "cell_type": "markdown",
      "metadata": {
        "cell_id": "6d7c36202ae84da69e444172b3978610",
        "deepnote_cell_height": 230.296875,
        "deepnote_cell_type": "markdown",
        "tags": []
      },
      "source": "3.1 Response:"
    },
    {
      "cell_type": "markdown",
      "metadata": {
        "cell_id": "da8e277b89714225a3ce63a434a8fdde",
        "deepnote_cell_height": 74.75,
        "deepnote_cell_type": "markdown"
      },
      "source": "### 3.2 Modify the code below to pretend to do this little study again with another 18 students, and run it a few times. What changes and what stays the same?"
    },
    {
      "cell_type": "code",
      "execution_count": null,
      "metadata": {
        "cell_id": "2e9b6ccabbb94fa58f80f119bf1c58b6",
        "deepnote_cell_height": 773.953125,
        "deepnote_cell_type": "code",
        "deepnote_output_heights": [
          610
        ],
        "deepnote_to_be_reexecuted": false,
        "execution_context_id": "6f8c1dfc-33ce-4e50-9a57-3f7ae689a924",
        "execution_millis": 114,
        "execution_start": 1745115565696,
        "output_cleared": false,
        "source_hash": "5c5bc624",
        "tags": [],
        "trusted": true
      },
      "outputs": [],
      "source": "# Modify to take a random sample of 18 students\nnew_sample <- resample(Eyes, 3)\n\n# Look at new distribution of EyesHigherMid\ngf_histogram(~EyesHigherMid, data=new_sample)"
    },
    {
      "cell_type": "markdown",
      "metadata": {
        "cell_id": "67915c10f7c34ffc95a54430e9f5090c",
        "deepnote_cell_height": 163.125,
        "deepnote_cell_type": "markdown",
        "tags": []
      },
      "source": "3.2 Response:\n\n"
    },
    {
      "cell_type": "markdown",
      "metadata": {
        "cell_id": "c645f08641e4403585e9b017f5c02317",
        "deepnote_cell_height": 74.75,
        "deepnote_cell_type": "markdown"
      },
      "source": "### 3.3 Why is it helpful to look at all these different random samples? "
    },
    {
      "cell_type": "markdown",
      "metadata": {
        "cell_id": "c2fb45a0deac4dcb9c85d9cf9d68247f",
        "deepnote_cell_height": 163.125,
        "deepnote_cell_type": "markdown",
        "tags": []
      },
      "source": "3.3 Response:"
    },
    {
      "cell_type": "markdown",
      "metadata": {
        "cell_id": "e36f6a4d2dcc424699eb3d7bc7c326f1",
        "deepnote_cell_height": 74.75,
        "deepnote_cell_type": "markdown"
      },
      "source": "### 3.4 Could we use `sample()` to pretend to do this study again with 18 students? How about 100 students? Try it to see what happens."
    },
    {
      "cell_type": "code",
      "execution_count": null,
      "metadata": {
        "cell_id": "e0dbb3d58f4f4eec8aa717d779898d11",
        "deepnote_cell_height": 755.953125,
        "deepnote_cell_type": "code",
        "deepnote_output_heights": [
          610
        ],
        "deepnote_to_be_reexecuted": false,
        "execution_context_id": "6f8c1dfc-33ce-4e50-9a57-3f7ae689a924",
        "execution_millis": 76,
        "execution_start": 1745115565866,
        "output_cleared": false,
        "source_hash": "35acb72d",
        "tags": [],
        "trusted": true
      },
      "outputs": [],
      "source": "# Changed from resample() to sample()\n# Try simulating 18 students, then 100 students\nnew_sample <- sample(Eyes, 18)\n\ngf_histogram(~ EyesHigherMid, data = new_sample, fill = \"blue\")\n"
    },
    {
      "cell_type": "markdown",
      "metadata": {
        "cell_id": "9bf26c8576744316b8535216e49d00ea",
        "deepnote_cell_height": 185.515625,
        "deepnote_cell_type": "markdown",
        "tags": []
      },
      "source": "3.4 Response:"
    },
    {
      "cell_type": "markdown",
      "metadata": {
        "cell_id": "a2b826a228444eb0b2eb71d4919aed8b",
        "deepnote_cell_height": 74.75,
        "deepnote_cell_type": "markdown",
        "tags": []
      },
      "source": "### 3.5 Try resampling with 18, 100, or 5000 students. Which of these looks the most like the sample that we started out with? Why?"
    },
    {
      "cell_type": "code",
      "execution_count": null,
      "metadata": {
        "cell_id": "65bd63a97480445d8014a2cf0e1b2fd0",
        "deepnote_cell_height": 2217.9375,
        "deepnote_cell_type": "code",
        "deepnote_output_heights": [
          610,
          610,
          610
        ],
        "deepnote_to_be_reexecuted": false,
        "execution_context_id": "6f8c1dfc-33ce-4e50-9a57-3f7ae689a924",
        "execution_millis": 335,
        "execution_start": 1745115565997,
        "source_hash": "bc05738",
        "tags": [],
        "trusted": true
      },
      "outputs": [],
      "source": "# Sample of 18 students\nnew_sample1 <- resample(Eyes, 18)\n\ngf_histogram(~ EyesHigherMid, data = new_sample1, fill = \"blue\")\n\n# Sample of 100 students\nnew_sample2 <- resample(Eyes, 100)\n\ngf_histogram(~ EyesHigherMid, data = new_sample2, fill = \"yellow\")\n\n# Sample of 5000 students\nnew_sample3 <- resample(Eyes, 5000)\n\ngf_histogram(~ EyesHigherMid, data = new_sample3, fill = \"green4\")"
    },
    {
      "cell_type": "markdown",
      "metadata": {
        "cell_id": "d0248a7a35524b8d941cc2a3fa1e140a",
        "deepnote_cell_height": 185.515625,
        "deepnote_cell_type": "markdown",
        "tags": []
      },
      "source": "3.5 Response:"
    },
    {
      "cell_type": "markdown",
      "metadata": {
        "cell_id": "ca4cb1478b134459afdabba6461f276a",
        "deepnote_cell_height": 69.96875,
        "deepnote_cell_type": "markdown"
      },
      "source": "## 4 Shape and the DGP\n"
    },
    {
      "cell_type": "markdown",
      "metadata": {
        "cell_id": "75b69e8802614664be0f55eb69b5d078",
        "deepnote_cell_height": 74.75,
        "deepnote_cell_type": "markdown"
      },
      "source": "### 4.1 How did the shapes of the distributions we looked at today connect to the data generating process?\n"
    },
    {
      "cell_type": "markdown",
      "metadata": {
        "cell_id": "563e89de89f54f168a8fd90f6fe02b7f",
        "deepnote_cell_height": 185.515625,
        "deepnote_cell_type": "markdown",
        "tags": []
      },
      "source": "4.1 Response:"
    }
  ],
  "metadata": {
    "deepnote_notebook_id": "1aca0594a7214f8a903b3f8bf35f73f6",
    "kernelspec": {
      "display_name": "R",
      "language": "R",
      "name": "ir"
    },
    "language_info": {
      "codemirror_mode": "r",
      "file_extension": ".r",
      "mimetype": "text/x-r-source",
      "name": "R",
      "pygments_lexer": "r",
      "version": "4.3.3"
    },
    "nbsimplegrader": {
      "publish_config": {
        "classes": [],
        "options": [],
        "tools": []
      }
    }
  },
  "nbformat": 4,
  "nbformat_minor": 1
}