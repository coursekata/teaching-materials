{
  "cells": [
    {
      "cell_type": "markdown",
      "metadata": {
        "cell_id": "8df49fd6a86246f297e9d6b2b5a6b46c",
        "deepnote_cell_type": "markdown"
      },
      "source": "#  Can the Scent of Chocolate Get You to Spend More in a Book Store?\n\n## Chapter 4.10-4.13 Understanding How Randomness Can Generate Patterns of Data"
    },
    {
      "cell_type": "code",
      "execution_count": null,
      "metadata": {
        "cell_id": "4e3a62cca6a14d89b07e383a982f46f4",
        "deepnote_cell_type": "code",
        "trusted": true
      },
      "outputs": [],
      "source": "# This code will load the R packages we will use\nlibrary(coursekata)\n\n# set styles\ncss <- suppressWarnings(readLines(\"https://raw.githubusercontent.com/jimstigler/jupyter/master/ck_jupyter_styles_v2.css\"))\nIRdisplay::display_html(sprintf('<style>%s</style>', paste(css, collapse = \"\\n\")))\n\n# Load the data\n# https://r-packages.io/datasets/mcgrath\ninstall.packages(\"experimentr\")\nlibrary(experimentr)\nmcgrath$treatment <- factor(mcgrath$treatment)"
    },
    {
      "cell_type": "markdown",
      "metadata": {
        "cell_id": "eb0743ad7e2845d0af1234f1a7c3d6d9",
        "deepnote_cell_type": "markdown"
      },
      "source": "## 1 About the `mcgrath` Data\n\nResearcher Mary McGrath and colleagues conducted an experiment to test the effects of ambient scents on consumer behavior. They went to a bookstore in Canada that had an adjoining cafe, and across a span of 31 experimental days, the researchers randomly assigned each day to be either a treatment or a control day. On treatment days, they would release the scent of chocolate throughout the bookstore. They measured store sales on all of the days. \n\nBelow are the variables in the data frame:\n\n- `treatment`: Treatment indicator (1 = treatment, 0 = control)\n- `book`: Sales of books\n- `coffee`: Sales of bulk coffee, tea, or spices\n- `food`: Sales of food\n- `grandtotal`: Total of book, coffee, and food sales\n\n\n[data source](https://r-packages.io/datasets/mcgrath)\n\nMcGrath, Mary C., et al. “Chocolate Scents and Product Sales: A Randomized Controlled Trial in a Canadian Bookstore and Café.” SpringerPlus, vol. 5, no. 1, 2016, https://doi.org/10.1186/s40064-016-2303-5."
    },
    {
      "cell_type": "markdown",
      "metadata": {
        "cell_id": "c56530d407a7400b9ef5c4c2051da476",
        "deepnote_cell_type": "markdown"
      },
      "source": "### 1.1 Take a look at the `mcgrath` data frame."
    },
    {
      "cell_type": "code",
      "execution_count": null,
      "metadata": {
        "cell_id": "766b6a1a4d6f4f71b4b527323be20d22",
        "deepnote_cell_type": "code",
        "nbsimplegrader": {
          "config_key": "code.response",
          "editable": true,
          "label": "Response: Code",
          "respondable": true,
          "response": null,
          "runnable": true,
          "type": "code"
        },
        "trusted": true
      },
      "outputs": [],
      "source": "# 1.1\n# run code here\n"
    },
    {
      "cell_type": "markdown",
      "metadata": {
        "cell_id": "0c59422d0eb643fb9d913294e38cfdea",
        "deepnote_cell_type": "markdown"
      },
      "source": "## 2 Thinking about the DGP"
    },
    {
      "cell_type": "markdown",
      "metadata": {
        "cell_id": "6c3a2b58b38445f4a7489c64ad193b01",
        "deepnote_cell_type": "markdown"
      },
      "source": "We could explore a few ideas with this dataset, but let's start with this question: Will ambient chocolate scent affect book sales?\n\n### 2.1 Write the two possible word equations:\n\n1. Write the researchers' hypothesis as a word equation.\n\n2. Write the word equation that represents the idea that `treatment` does NOT explain variation in the outcome variable."
    },
    {
      "cell_type": "markdown",
      "metadata": {
        "cell_id": "4350bf8ace4441589b924c3c5476e53f",
        "deepnote_cell_type": "markdown",
        "nbsimplegrader": {
          "config_key": "markdown.response",
          "editable": true,
          "label": "Response: Markdown",
          "respondable": true,
          "response": null,
          "runnable": true,
          "type": "markdown"
        }
      },
      "source": "2.1 Response:"
    },
    {
      "cell_type": "markdown",
      "metadata": {
        "cell_id": "7a090c797abb4164b2a51732643c079b",
        "deepnote_cell_type": "markdown"
      },
      "source": "### 2.2 If it turns out that `treatment` does indeed explain variation in book sales, will we be able to say that it also *causes* variation in book sales? Why or why not?"
    },
    {
      "cell_type": "markdown",
      "metadata": {
        "cell_id": "5297ab79fedb44ec8dfe31d1c0a8947c",
        "deepnote_cell_type": "markdown",
        "nbsimplegrader": {
          "config_key": "markdown.response",
          "editable": true,
          "label": "Response: Markdown",
          "respondable": true,
          "response": null,
          "runnable": true,
          "type": "markdown"
        }
      },
      "source": "2.2 Response:"
    },
    {
      "cell_type": "markdown",
      "metadata": {
        "cell_id": "01427cca57fa4e6793dba4a3133f3e1e",
        "deepnote_cell_type": "markdown"
      },
      "source": "In a bit, we will make a jitter plot to look at the distribution of `book` by `treatment`. Before we do, let’s think about what we might expect to see. \n\n### 2.3 If there is such a thing as an affect of chocolate scent on book sales, would the jitter plot look like the one on the left or the right? Explain why you think so.\n\n\n<img src=\"https://i.imgur.com/js9QYw5.png\" title=\"On the left, a jitter plot where the one distribution is generally lower than the other. On the right, a jitter plot where the distributions are roughly similar\" width = 600/>"
    },
    {
      "cell_type": "markdown",
      "metadata": {
        "cell_id": "1d1b1e3449a549b1b154011f5bbc0ba0",
        "deepnote_cell_type": "markdown",
        "nbsimplegrader": {
          "config_key": "markdown.response",
          "editable": true,
          "label": "Response: Markdown",
          "respondable": true,
          "response": null,
          "runnable": true,
          "type": "markdown"
        }
      },
      "source": "2.3 Response:"
    },
    {
      "cell_type": "markdown",
      "metadata": {
        "cell_id": "76639a577e4d46a5a82d601793783d4d",
        "deepnote_cell_type": "markdown"
      },
      "source": "### 2.4 Which word equation would go with each plot?"
    },
    {
      "cell_type": "markdown",
      "metadata": {
        "cell_id": "ca13e113be084f309fe60692e0fd3c58",
        "deepnote_cell_type": "markdown",
        "nbsimplegrader": {
          "config_key": "markdown.response",
          "editable": true,
          "label": "Response: Markdown",
          "respondable": true,
          "response": null,
          "runnable": true,
          "type": "markdown"
        }
      },
      "source": "2.4 Response:"
    },
    {
      "cell_type": "markdown",
      "metadata": {
        "cell_id": "8acb3e2623f94814aaef40dca78db431",
        "deepnote_cell_type": "markdown"
      },
      "source": "## 3 Visualize the Hypothesis"
    },
    {
      "cell_type": "markdown",
      "metadata": {
        "cell_id": "e214456bbf6540e4b16862c54a043d4d",
        "deepnote_cell_type": "markdown"
      },
      "source": "### 3.1 Create a jitter plot to explore the hypothesis."
    },
    {
      "cell_type": "code",
      "execution_count": null,
      "metadata": {
        "cell_id": "b202327cabd64ad592ab6975af3f958e",
        "deepnote_cell_type": "code",
        "nbsimplegrader": {
          "config_key": "code.response",
          "editable": true,
          "label": "Response: Code",
          "respondable": true,
          "response": null,
          "runnable": true,
          "type": "code"
        },
        "trusted": true
      },
      "outputs": [],
      "source": "# 3.1\n# run code here\n\n"
    },
    {
      "cell_type": "markdown",
      "metadata": {
        "cell_id": "b7af39cc656f448ab7405859f95547ca",
        "deepnote_cell_type": "markdown"
      },
      "source": "### 3.2 Does it look as if `treatment` explains variation in `book`? Use the features of the distribution to make one argument for \"yes\" and one argument for \"no\"?"
    },
    {
      "cell_type": "markdown",
      "metadata": {
        "cell_id": "7957ca494cd14e3bbea6dc56d8954cd5",
        "deepnote_cell_type": "markdown",
        "nbsimplegrader": {
          "config_key": "markdown.response",
          "editable": true,
          "label": "Response: Markdown",
          "respondable": true,
          "response": null,
          "runnable": true,
          "type": "markdown"
        }
      },
      "source": "3.2 Response:"
    },
    {
      "cell_type": "markdown",
      "metadata": {
        "cell_id": "ee10b6ff8ea348929052f4e3e3eccc7f",
        "deepnote_cell_type": "markdown"
      },
      "source": "## 4 Could it be Random?\n\nTo figure out which of these is the better representation of the DGP:\n\n1. book = treatment + other stuff\n2. book = other stuff\n\nLet's conduct a bunch of simulations of the `book = other stuff` DGP (where `treatment` doesn't matter) by mixing up the values of `book` so they are randomly matched to a new row."
    },
    {
      "cell_type": "markdown",
      "metadata": {
        "cell_id": "4fecaffe027e4304b81eb6c8bc6e2a72",
        "deepnote_cell_type": "markdown"
      },
      "source": "### 4.1 Compare the distribution of our data to the distributions produced by simulations of a randomized DGP (run the simulation at least 10 times). What is similar and what is different across each shuffled plot?"
    },
    {
      "cell_type": "code",
      "execution_count": null,
      "metadata": {
        "cell_id": "c71c0d5a6b414145bc08495fcaf1ba29",
        "deepnote_cell_type": "code",
        "nbsimplegrader": {
          "config_key": "code.response",
          "editable": true,
          "label": "Response: Code",
          "respondable": true,
          "response": null,
          "runnable": true,
          "type": "code"
        },
        "scrolled": false,
        "trusted": true
      },
      "outputs": [],
      "source": "# 4.1\n# shuffle `book` in your plot\n\n\n# copy and paste the plot code multiple times to see many at once\n"
    },
    {
      "cell_type": "markdown",
      "metadata": {
        "cell_id": "6e2d2cef73e5475581d1b5f5f3928bda",
        "deepnote_cell_type": "markdown",
        "nbsimplegrader": {
          "config_key": "markdown.response",
          "editable": true,
          "label": "Response: Markdown",
          "respondable": true,
          "response": null,
          "runnable": true,
          "type": "markdown"
        }
      },
      "source": "4.1 Response:"
    },
    {
      "cell_type": "markdown",
      "metadata": {
        "cell_id": "f5be4681ac7643bb9ba055cf7411fe95",
        "deepnote_cell_type": "markdown"
      },
      "source": " ### 4.2 Find the case with the highest book sales. What happens to it each time you shuffle the plot?"
    },
    {
      "cell_type": "markdown",
      "metadata": {
        "cell_id": "fe4ac0ee02fe49158186decfc4f9001c",
        "deepnote_cell_type": "markdown",
        "nbsimplegrader": {
          "config_key": "markdown.response",
          "editable": true,
          "label": "Response: Markdown",
          "respondable": true,
          "response": null,
          "runnable": true,
          "type": "markdown"
        }
      },
      "source": "4.2 Response:"
    },
    {
      "cell_type": "markdown",
      "metadata": {
        "cell_id": "e94a14a2cc0a459491f33f91b01f0015",
        "deepnote_cell_type": "markdown"
      },
      "source": "### 4.3 Given your analyses, which word equation of the DGP does the data appear to match more closely?"
    },
    {
      "cell_type": "markdown",
      "metadata": {
        "cell_id": "db03943b675a49298df7eb604fe709c8",
        "deepnote_cell_type": "markdown",
        "nbsimplegrader": {
          "config_key": "markdown.response",
          "editable": true,
          "label": "Response: Markdown",
          "respondable": true,
          "response": null,
          "runnable": true,
          "type": "markdown"
        }
      },
      "source": "4.3 Response:"
    },
    {
      "cell_type": "markdown",
      "metadata": {
        "cell_id": "25f3e49be50c4ec4ac58f585dbe51453",
        "deepnote_cell_type": "markdown"
      },
      "source": "### 4.4 What does that suggest about the researchers' hypothesis? Is there an effect of scent, or does it appear to be other stuff affecting book sales?"
    },
    {
      "cell_type": "markdown",
      "metadata": {
        "cell_id": "a462ee721fae4c9783d9552d61b66b19",
        "deepnote_cell_type": "markdown",
        "nbsimplegrader": {
          "config_key": "markdown.response",
          "editable": true,
          "label": "Response: Markdown",
          "respondable": true,
          "response": null,
          "runnable": true,
          "type": "markdown"
        }
      },
      "source": "4.4 Response:"
    }
  ],
  "metadata": {
    "deepnote_notebook_id": "ec54513d28f648fc92cb75612509c4ba",
    "kernelspec": {
      "display_name": "R",
      "language": "R",
      "name": "ir"
    },
    "language_info": {
      "codemirror_mode": "r",
      "file_extension": ".r",
      "mimetype": "text/x-r-source",
      "name": "R",
      "pygments_lexer": "r",
      "version": "4.3.3"
    },
    "nbsimplegrader": {
      "publish_config": {
        "classes": [],
        "options": [],
        "tools": []
      }
    }
  },
  "nbformat": 4,
  "nbformat_minor": 1
}