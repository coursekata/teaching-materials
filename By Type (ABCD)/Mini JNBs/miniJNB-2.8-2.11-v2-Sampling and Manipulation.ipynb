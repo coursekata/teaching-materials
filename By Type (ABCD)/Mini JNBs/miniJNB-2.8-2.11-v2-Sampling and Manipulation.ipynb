{
  "cells": [
    {
      "cell_type": "markdown",
      "metadata": {
        "cell_id": "cb54dd474f2f4fe683d31eeab2b1994f",
        "deepnote_cell_type": "markdown",
        "nbsimplegrader": {
          "config_key": "markdown.view-only",
          "editable": false,
          "label": "Markdown: View-Only",
          "respondable": false,
          "response": null,
          "runnable": false,
          "type": "markdown"
        }
      },
      "source": "# Sampling and Data Manipulation\n\n## Chapter 2.8-2.11: How to Work with Data Frames\n"
    },
    {
      "cell_type": "code",
      "execution_count": null,
      "metadata": {
        "cell_id": "e1e489637e204e24b8de90ae69e0df72",
        "deepnote_cell_type": "code",
        "nbsimplegrader": {
          "config_key": "code.run-only",
          "editable": false,
          "label": "Code: Run-Only",
          "respondable": false,
          "response": null,
          "runnable": true,
          "type": "code"
        },
        "trusted": true
      },
      "outputs": [],
      "source": "# run this cell to set up the notebook\nsuppressMessages(library(coursekata))\ncss <- suppressWarnings(readLines(\"https://raw.githubusercontent.com/jimstigler/jupyter/master/ck_jupyter_styles.css\"))\nIRdisplay::display_html(sprintf('<style>%s</style>', paste(css, collapse = \"\\n\")))\n\n\n# This code will import the data frame []\nStudentData <- read.csv(\"https://docs.google.com/spreadsheets/d/e/2PACX-1vTnfW0lx6Wo1qMAsVYMht2zyd3q75uRR1wldcN7JP8EdL8uEgqWd0oHOrNoA1O6IzRU_5B7QsUiL7JA/pub?gid=291642978&single=true&output=csv\")\n\n# This makes font sizes on graphs bigger\ntheme_set(theme(\n  text = element_text(size = 15),\n  axis.text = element_text(size = 10)\n))"
    },
    {
      "cell_type": "markdown",
      "metadata": {
        "cell_id": "4f8c4cc6a878498b9985382d5bc85d5e",
        "deepnote_cell_type": "markdown"
      },
      "source": "In this JNB, we'll practice sampling and manipulating data using this [StudentData](https://docs.google.com/spreadsheets/d/17I0WDazOh6mOoS5SdXlkkkEMf3_HYA0Mh5zVjnCj2kQ/edit?resourcekey#gid=291642978) collected by students in a high school statistics course.\n\n## Practice #1:\n\nSuppose our population is all the students in this class who took the survey.  We're going to take a sample from that population and calculate the mean height of students.  If we did this twice, do you think we'll get the same mean?  Make a prediction, then run the code twice to verify."
    },
    {
      "cell_type": "code",
      "execution_count": null,
      "metadata": {
        "cell_id": "65ff7085f1c6424b910af42f3dd8e5a2",
        "deepnote_cell_type": "code",
        "nbsimplegrader": {
          "config_key": "code.response",
          "editable": true,
          "label": "Response: Code",
          "respondable": true,
          "response": null,
          "runnable": true,
          "type": "code"
        },
        "trusted": true
      },
      "outputs": [],
      "source": "# the function sample() will take a sample of 5 students from StudentData and save it in class.sample\nclass_sample <- sample(StudentData, 5)\n\n# the function mean will calculate the height of students in our sample\nmean(class_sample$height)\n"
    },
    {
      "cell_type": "markdown",
      "metadata": {
        "cell_id": "6bb9fadfaa704493bc0706915f2638ac",
        "deepnote_cell_type": "markdown",
        "nbsimplegrader": {
          "config_key": "markdown.response",
          "editable": true,
          "label": "Response: Markdown",
          "respondable": true,
          "response": null,
          "runnable": true,
          "type": "markdown"
        }
      },
      "source": "> Answer the questions here."
    },
    {
      "cell_type": "markdown",
      "metadata": {
        "cell_id": "42e6f4e28a35404ab4d34a5238d3385f",
        "deepnote_cell_type": "markdown"
      },
      "source": "## Practice #2:\n\nWe can select some variables in our data frame to focus on using the function `select()`.  Let's select a couple of variables of your choice.  What are the rows representing?  What are the columns representing?  "
    },
    {
      "cell_type": "code",
      "execution_count": null,
      "metadata": {
        "cell_id": "eeb85ee4a02b4cdea24d5b01d1234a40",
        "deepnote_cell_type": "code",
        "nbsimplegrader": {
          "config_key": "code.response",
          "editable": true,
          "label": "Response: Code",
          "respondable": true,
          "response": null,
          "runnable": true,
          "type": "code"
        },
        "scrolled": false,
        "trusted": true
      },
      "outputs": [],
      "source": "# modify the code to pick two variables in StudentData you want to view\nselect(StudentData, first_variable_here, second_variable_here)"
    },
    {
      "cell_type": "markdown",
      "metadata": {
        "cell_id": "45fd8dbaa62a4f51bde8af7b812ba9b1",
        "deepnote_cell_type": "markdown",
        "nbsimplegrader": {
          "config_key": "markdown.response",
          "editable": true,
          "label": "Response: Markdown",
          "respondable": true,
          "response": null,
          "runnable": true,
          "type": "markdown"
        }
      },
      "source": "> Write your answers here."
    },
    {
      "cell_type": "code",
      "execution_count": null,
      "metadata": {
        "cell_id": "5ca631a18a3e44dd869a4c8cc56ad8ce",
        "deepnote_cell_type": "code",
        "nbsimplegrader": {
          "config_key": "code.response",
          "editable": true,
          "label": "Response: Code",
          "respondable": true,
          "response": null,
          "runnable": true,
          "type": "code"
        },
        "trusted": true
      },
      "outputs": [],
      "source": "# you could also combine the functions head() and select()\nhead(select(StudentData, first_variable_here, second_variable_here))\n\n# try modifying the code to get just the first 3 rows"
    },
    {
      "cell_type": "markdown",
      "metadata": {
        "cell_id": "3fb64b1bd06d43a2887ace6acc39211a",
        "deepnote_cell_type": "markdown",
        "nbsimplegrader": {
          "config_key": "markdown.response",
          "editable": true,
          "label": "Response: Markdown",
          "respondable": true,
          "response": null,
          "runnable": true,
          "type": "markdown"
        }
      },
      "source": "> How was this different from just using select?"
    },
    {
      "cell_type": "markdown",
      "metadata": {
        "cell_id": "7c818be4bb424e1f8c0986d178f9828e",
        "deepnote_cell_type": "markdown"
      },
      "source": "## Practice 3:\n\nThe function `filter()` lets us find certain rows that meet conditions we specify.  Suppose you wanted to find students who were born in your birth month.  What do you see?"
    },
    {
      "cell_type": "code",
      "execution_count": null,
      "metadata": {
        "cell_id": "6c15a4f7157649248dedcbbdf6c3d0f7",
        "deepnote_cell_type": "code",
        "nbsimplegrader": {
          "config_key": "code.response",
          "editable": true,
          "label": "Response: Code",
          "respondable": true,
          "response": null,
          "runnable": true,
          "type": "code"
        },
        "trusted": true
      },
      "outputs": [],
      "source": "# modify the code to filter for your birth month\nfilter(StudentData, birth_month == \"Put_month_name_here\")"
    },
    {
      "cell_type": "markdown",
      "metadata": {
        "cell_id": "6a6b5edc487445d6910a0610873acc6e",
        "deepnote_cell_type": "markdown",
        "nbsimplegrader": {
          "config_key": "markdown.response",
          "editable": true,
          "label": "Response: Markdown",
          "respondable": true,
          "response": null,
          "runnable": true,
          "type": "markdown"
        }
      },
      "source": "> Write your response here."
    },
    {
      "cell_type": "code",
      "execution_count": null,
      "metadata": {
        "cell_id": "ca4fc90926964f419d3ecf5300ca231f",
        "deepnote_cell_type": "code",
        "nbsimplegrader": {
          "config_key": "code.response",
          "editable": true,
          "label": "Response: Code",
          "respondable": true,
          "response": null,
          "runnable": true,
          "type": "code"
        },
        "trusted": true
      },
      "outputs": [],
      "source": "# You could also filter using quantitative variables.  \nfilter(StudentData, height == 62)\n\n# Feel free to change the height and use other inequalities."
    },
    {
      "cell_type": "markdown",
      "metadata": {
        "cell_id": "9fca84aefd374a2daf73ffa449cae200",
        "deepnote_cell_type": "markdown",
        "nbsimplegrader": {
          "config_key": "markdown.response",
          "editable": true,
          "label": "Response: Markdown",
          "respondable": true,
          "response": null,
          "runnable": true,
          "type": "markdown"
        }
      },
      "source": "> Describe your observation with the function filter here."
    },
    {
      "cell_type": "markdown",
      "metadata": {
        "cell_id": "173151e08ddf49eb8c97ca298f6c9ea9",
        "deepnote_cell_type": "markdown"
      },
      "source": "## Practice 4:\n\nMissing data could have `NA` or is left blank.  In `StudentData`, some students don't have a favorite superhero and left it blank.  Let's **filter in** students who have a favorite superhero and save them into a new data frame."
    },
    {
      "cell_type": "code",
      "execution_count": null,
      "metadata": {
        "cell_id": "93f5b8cb80f24d68aff74e71394192f5",
        "deepnote_cell_type": "code",
        "nbsimplegrader": {
          "config_key": "code.response",
          "editable": true,
          "label": "Response: Code",
          "respondable": true,
          "response": null,
          "runnable": true,
          "type": "code"
        },
        "trusted": true
      },
      "outputs": [],
      "source": "# First see that some students left favorite superhero blank\nStudentData"
    },
    {
      "cell_type": "code",
      "execution_count": null,
      "metadata": {
        "cell_id": "cb8fc84d14bd49daa737a4ce3fca727d",
        "deepnote_cell_type": "code",
        "nbsimplegrader": {
          "config_key": "code.response",
          "editable": true,
          "label": "Response: Code",
          "respondable": true,
          "response": null,
          "runnable": true,
          "type": "code"
        },
        "trusted": true
      },
      "outputs": [],
      "source": "# Now filter in students with favorite superhero \n# and save it in a new data frame called StudentData_subset\nStudentData_subset <- filter(StudentData, fav_superhero != \"\")\nStudentData_subset"
    },
    {
      "cell_type": "markdown",
      "metadata": {
        "cell_id": "e2613076c9e6441f8129147c8c890dd4",
        "deepnote_cell_type": "markdown"
      },
      "source": "## Practice 5:\n\nThere is a ratio called the [Ape Index](https://en.wikipedia.org/wiki/Ape_index) that compares our arm span to our height.  Having an index of 1 means your arm span and height are equal in length.  \n\nSuppose we want to study the Ape Index for students without having to look at both columns for `height` and `arm_span`.  What could we do?  \n\nWe could create a new variable that displays the ratio of arm span to height.  Let's try it out."
    },
    {
      "cell_type": "code",
      "execution_count": null,
      "metadata": {
        "cell_id": "970c0ce228914b88aa5fc6e4471864ce",
        "deepnote_cell_type": "code",
        "nbsimplegrader": {
          "config_key": "code.response",
          "editable": true,
          "label": "Response: Code",
          "respondable": true,
          "response": null,
          "runnable": true,
          "type": "code"
        },
        "trusted": true
      },
      "outputs": [],
      "source": "#This code will take the student's individual arm span and divide it by height.\n#This ratio will be stored in a new variable that we'll add to the data frame.\nStudentData$ape_index <- StudentData$arm_span/StudentData$height\n\n#this will let us see the first six rows with the new variable\n#scroll all the way to the end to see it\nhead(StudentData)"
    },
    {
      "cell_type": "markdown",
      "metadata": {
        "cell_id": "398f5a2108f947e287273ca4d5f904ce",
        "deepnote_cell_type": "markdown",
        "nbsimplegrader": {
          "config_key": "markdown.response",
          "editable": true,
          "label": "Response: Markdown",
          "respondable": true,
          "response": null,
          "runnable": true,
          "type": "markdown"
        }
      },
      "source": "> What did you notice for the first 6 Ape Indices?"
    },
    {
      "cell_type": "markdown",
      "metadata": {
        "cell_id": "1842696310eb4365819aa49c7432f2e3",
        "deepnote_cell_type": "markdown"
      },
      "source": "## Practice 6:\n\nHow would we create that same variable using the `mutate()` function? Try creating the Ape Index using `mutate()` and save it back into the data frame as `ape_index_2`"
    },
    {
      "cell_type": "code",
      "execution_count": null,
      "metadata": {
        "cell_id": "108ad8322c7f4563b82f8fc525106dd3",
        "deepnote_cell_type": "code",
        "nbsimplegrader": {
          "config_key": "code.response",
          "editable": true,
          "label": "Response: Code",
          "respondable": true,
          "response": null,
          "runnable": true,
          "type": "code"
        },
        "trusted": true
      },
      "outputs": [],
      "source": "StudentData <- StudentData %>%\n  mutate(new_variable_name = variable_1/variable_2)\n\n# Check that the new variable was added\nhead(StudentData)"
    },
    {
      "cell_type": "markdown",
      "metadata": {
        "cell_id": "52488d0c4ad244b499a245beca6d8e3b",
        "deepnote_cell_type": "markdown"
      },
      "source": "## Practice 7:\n\nRight now, the values of `sport` are `No` or `Yes`.  We want to change them to 0 and 1.  To do this, we'll use the function `recode()` then take a look at the data frame to see if `recode()` worked."
    },
    {
      "cell_type": "code",
      "execution_count": null,
      "metadata": {
        "cell_id": "1b44ca779d7a426185eebc0519c0017f",
        "deepnote_cell_type": "code",
        "nbsimplegrader": {
          "config_key": "code.response",
          "editable": true,
          "label": "Response: Code",
          "respondable": true,
          "response": null,
          "runnable": true,
          "type": "code"
        },
        "trusted": true
      },
      "outputs": [],
      "source": "StudentData$sport_new <- recode(StudentData$sport, \"No\" = 0, \"Yes\" = 1)\n\n# write code to view the data frame "
    }
  ],
  "metadata": {
    "deepnote_notebook_id": "92c1894f6dab4c778fcfb159fe3f8e56",
    "kernelspec": {
      "display_name": "R",
      "language": "R",
      "name": "ir"
    },
    "language_info": {
      "codemirror_mode": "r",
      "file_extension": ".r",
      "mimetype": "text/x-r-source",
      "name": "R",
      "pygments_lexer": "r",
      "version": "4.3.3"
    },
    "nbsimplegrader": {
      "publish_config": {
        "classes": [],
        "options": [],
        "tools": []
      }
    }
  },
  "nbformat": 4,
  "nbformat_minor": 1
}