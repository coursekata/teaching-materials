{
  "cells": [
    {
      "cell_type": "markdown",
      "metadata": {
        "cell_id": "d4a07cf15758413384afbd3555c87ff4",
        "deepnote_cell_height": 276.3125,
        "deepnote_cell_type": "markdown"
      },
      "source": "<div class=\"alert alert-block alert-danger\">\n\n# 1.1-1.7: More Practice with Jupyter Notebooks (COMPLETE)\n\n**Lesson assumes students have read up through page: 1.6**\n\n**Use with textbook version 6.0+**\n\n</div>"
    },
    {
      "cell_type": "markdown",
      "metadata": {
        "cell_id": "4569f1f1fe5845e088f95bdb188c43cd",
        "deepnote_cell_height": 216.5,
        "deepnote_cell_type": "markdown"
      },
      "source": "<div class=\"alert alert-block alert-warning\">\n\n#### Summary of Notebook:\n \n- Learn about the R libraries that we load for some of our R functions\n- Learn how to modify text in a markdown cell (e.g., **bold**, *italics*, `code`, indenting)\n- Practice generating questions that can be analyzed with data\n- Practice creating objects, and manipulating them with Boolean or arithmetic operators\n\n</div>"
    },
    {
      "cell_type": "markdown",
      "metadata": {
        "cell_id": "ba3699bde38f406997a75f0f8570b59b",
        "deepnote_cell_height": 163.9375,
        "deepnote_cell_type": "markdown",
        "tags": []
      },
      "source": "<div class=\"alert alert-block alert-success\">\n\n## Approximate time to complete Notebook: 30-40 Mins\n\n</div>"
    },
    {
      "cell_type": "markdown",
      "metadata": {
        "cell_id": "276b34ef85a14e749f44c0553a500191",
        "deepnote_cell_height": 111.140625,
        "deepnote_cell_type": "markdown",
        "tags": []
      },
      "source": "Let's get more practice with Jupyter Notebooks by creating a short report about superheroes. \n\nTo help make your report a little more professional, we're going to learn some new Jupyter tricks along the way!"
    },
    {
      "cell_type": "markdown",
      "metadata": {
        "cell_id": "761480eb94c840df86a0e11e25d15259",
        "deepnote_cell_height": 115.9375,
        "deepnote_cell_type": "markdown",
        "tags": []
      },
      "source": "<div class=\"alert alert-block alert-success\">\n\n### 1.0 - Approximate Time:  2-3 mins\n\n</div>"
    },
    {
      "cell_type": "markdown",
      "metadata": {
        "cell_id": "370553187a43401198a826a85e2330c3",
        "deepnote_cell_height": 69.96875,
        "deepnote_cell_type": "markdown",
        "tags": []
      },
      "source": "## 1.0 - The R Packages"
    },
    {
      "cell_type": "markdown",
      "metadata": {
        "cell_id": "848debd710754c2fbc1fa0ea46aff660",
        "deepnote_cell_height": 52.359375,
        "deepnote_cell_type": "markdown",
        "tags": []
      },
      "source": "Try running this code. Does it run?"
    },
    {
      "cell_type": "code",
      "execution_count": null,
      "metadata": {
        "cell_id": "98462b11e0904aac8c3c90d976b18876",
        "deepnote_cell_height": 60.953125,
        "deepnote_cell_type": "code",
        "execution_context_id": "85045121-d965-465f-864f-fa6fc102d183",
        "execution_millis": 1,
        "execution_start": 1746746945953,
        "output_cleared": false,
        "source_hash": "5d01af3a",
        "tags": [],
        "trusted": true
      },
      "outputs": [],
      "source": "rflip()"
    },
    {
      "cell_type": "markdown",
      "metadata": {
        "cell_id": "3ed62ca73c1e4b0e895565719d639838",
        "deepnote_cell_height": 178.328125,
        "deepnote_cell_type": "markdown",
        "tags": []
      },
      "source": "The reason it doesn't run is because it is a special function written by someone in the R community. If we want to make use of all these functions that people wrote, we have to load their libraries. In the CK Code activities that you do in the book, we pre-load these libraries for you. But in Jupyter notebooks, you'll have to do it yourself.\n\nUsually we just copy and paste this little bit of code and put them in any new Jupyter notebook. You don't need to memorize it or anything."
    },
    {
      "cell_type": "code",
      "execution_count": null,
      "metadata": {
        "cell_id": "49c5a7706a5c4c49a19448cbdea42528",
        "deepnote_cell_height": 114.953125,
        "deepnote_cell_type": "code",
        "deepnote_to_be_reexecuted": true,
        "output_cleared": false,
        "tags": [],
        "trusted": true
      },
      "outputs": [],
      "source": "# This code will load the R packages we will use\nsuppressPackageStartupMessages({\n    library(coursekata)\n})"
    },
    {
      "cell_type": "markdown",
      "metadata": {
        "cell_id": "131e667cd0714da1a2147951f626ea4a",
        "deepnote_cell_height": 161.53125,
        "deepnote_cell_type": "markdown",
        "tags": []
      },
      "source": "If you run it successfully, nothing will print out. But sometimes it takes a while to work.\n\nWhile it is working, it will say `In[*]:`\n\nWhen it is done, the `In[]:` will include a number.\n\nOnce you've loaded the packages, try running the code below. Does it work now?"
    },
    {
      "cell_type": "code",
      "execution_count": null,
      "metadata": {
        "cell_id": "8fc5a71305b442ca9236058df550f1b1",
        "deepnote_cell_height": 60.953125,
        "deepnote_cell_type": "code",
        "deepnote_to_be_reexecuted": true,
        "output_cleared": true,
        "source_hash": null,
        "tags": [],
        "trusted": true
      },
      "outputs": [],
      "source": "rflip()"
    },
    {
      "cell_type": "markdown",
      "metadata": {
        "cell_id": "ae0a048b650541dfa024de5fc383b907",
        "deepnote_cell_height": 185.515625,
        "deepnote_cell_type": "markdown",
        "tags": []
      },
      "source": "<div class=\"alert alert-block alert-warning\">\n\n**Note to Instructors**\n\nIf the students ran the code with the libraries, the `rflip()` function should work now. If they are having trouble, check that the code box has actually finished running and does not still indicate that it is processing with `In[*]`.\n\n</div>"
    },
    {
      "cell_type": "markdown",
      "metadata": {
        "cell_id": "4aca6ef64eeb45daa2900f902409a07c",
        "deepnote_cell_height": 115.9375,
        "deepnote_cell_type": "markdown",
        "tags": []
      },
      "source": "<div class=\"alert alert-block alert-success\">\n\n### 2.0 - Approximate Time: 3-5 mins\n\n</div>"
    },
    {
      "cell_type": "markdown",
      "metadata": {
        "cell_id": "e6cc557a4efa43c69fc20a5ffc4e520a",
        "deepnote_cell_height": 69.96875,
        "deepnote_cell_type": "markdown",
        "tags": []
      },
      "source": "## 2.0 - Customizing your Markdown cells"
    },
    {
      "cell_type": "markdown",
      "metadata": {
        "cell_id": "2cb624f58af84c20bc8b8067988b2a31",
        "deepnote_cell_height": 211.921875,
        "deepnote_cell_type": "markdown",
        "tags": []
      },
      "source": "There are a few fancy things you can do in Markdown cells. Double click on this cell.\n\nWe can also write in **bold**. \n\nWe can also write in *italics*. \n\nWe can make code look special like this: `rflip()`\n\n> Or we can make something indented like this."
    },
    {
      "cell_type": "markdown",
      "metadata": {
        "cell_id": "81e63f2959d742b4bee16caa3323999a",
        "deepnote_cell_height": 163.125,
        "deepnote_cell_type": "markdown",
        "tags": []
      },
      "source": "<div class=\"alert alert-block alert-warning\">\n\n**Note to Instructors**\n\nIf students are able to successfully make the markdown changes indicated in the prompts below, their notebooks should appear with changes seen below.\n\n</div>"
    },
    {
      "cell_type": "markdown",
      "metadata": {
        "cell_id": "6f9cc263073a41a5a2bf0f7813cd2548",
        "deepnote_cell_height": 88.75,
        "deepnote_cell_type": "markdown",
        "tags": []
      },
      "source": "Try some stuff!\n\nChange the following sentence to bold: **BOLD ME!**"
    },
    {
      "cell_type": "markdown",
      "metadata": {
        "cell_id": "3a2579bef49e438fbb4563af78629fab",
        "deepnote_cell_height": 52.359375,
        "deepnote_cell_type": "markdown",
        "tags": []
      },
      "source": "Change the following sentence to italics: *ITALICIZE THIS!*"
    },
    {
      "cell_type": "markdown",
      "metadata": {
        "cell_id": "127a18cedfd445d998acbe5c89d40435",
        "deepnote_cell_height": 102.75,
        "deepnote_cell_type": "markdown",
        "tags": []
      },
      "source": "Indent the following sentence:\n\n> “All models are wrong, but some are useful”. -George E.P. Box"
    },
    {
      "cell_type": "markdown",
      "metadata": {
        "cell_id": "a650339f7cdc4e0fb65205a2456f345d",
        "deepnote_cell_height": 88.75,
        "deepnote_cell_type": "markdown",
        "tags": []
      },
      "source": "Feel free to use these markdown tricks in all your notebooks.\n\nIf you ever want to know how to do other things in markdown, try Googling \"markdown in Jupyter\"! "
    },
    {
      "cell_type": "markdown",
      "metadata": {
        "cell_id": "77be6690a25a4fceb34f7b2600985339",
        "deepnote_cell_height": 115.9375,
        "deepnote_cell_type": "markdown",
        "owner_user_id": "23d85493-7ed1-49a4-baa7-630eaab08193",
        "tags": []
      },
      "source": "<div class=\"alert alert-block alert-success\">\n\n### 3.0 - Approximate Time:  25-30 mins\n\n</div>"
    },
    {
      "cell_type": "markdown",
      "metadata": {
        "cell_id": "6b07f7bbf5ef4520b6b4dcd0eaf1ac0a",
        "deepnote_cell_height": 559.71875,
        "deepnote_cell_type": "markdown",
        "tags": []
      },
      "source": "We're going to use the information in this image to help us do a mini report on Superheroes of the 1930's.\n\nAs we get started, take a look at the following image and take a moment to generate questions. \n\n<img src=\"https://coursekata-course-assets.s3.us-west-1.amazonaws.com/UCLATALL/czi-stats-course/jnb_p2qHpKNK-RHx7p-IT-Imgur.png\" title=\"assorted superheroes with a variety of features\" width = 100% />"
    },
    {
      "cell_type": "markdown",
      "metadata": {
        "cell_id": "be3ab09eeebf47b090a9c901529f5c18",
        "deepnote_cell_height": 97.140625,
        "deepnote_cell_type": "markdown",
        "tags": []
      },
      "source": "3.1 - Add a **Markdown** cell below and generate as many questions as you can about this image in 1 minute. Do not stop to evaluate your questions. Just write them down exactly as you thought of them. Your goal is to try and generate as many questions as possible."
    },
    {
      "cell_type": "markdown",
      "metadata": {
        "cell_id": "e09dcc8e46ad46cfa91660e0f8ae9c4c",
        "deepnote_cell_height": 230.296875,
        "deepnote_cell_type": "markdown",
        "tags": []
      },
      "source": "<div class=\"alert alert-block alert-warning\">\n\n**Note to Instructors**\n\n*Students may generate a wide range of questions based on the picture, but there are also many reasons why they may get \"stumped\" (e.g., just drawing a blank, low interest in the topic, lack of background knowledge, etc.), but that is okay, as this is simply a very early exercise for them in learning how to generate questions that they can answer with data. They will get more practice as they proceed throught the course.* \n\n</div>"
    },
    {
      "cell_type": "markdown",
      "metadata": {
        "cell_id": "429452831f3d451fb23aa8322c332f53",
        "deepnote_cell_height": 155.9375,
        "deepnote_cell_type": "markdown",
        "tags": []
      },
      "source": "3.2 - Take a look at your questions above and categorize them as either open-ended questions or closed questions.\n\nClosed ended questions have a limited set of possible answers (e.g., Which hero was most popular?) but open-ended questions allow for a greater variety of answers (e.g., Why did they create a character that looks like he is on fire?)."
    },
    {
      "cell_type": "markdown",
      "metadata": {
        "cell_id": "ab3078ea0e054066b4e951069b65655e",
        "deepnote_cell_height": 164.53125,
        "deepnote_cell_type": "markdown",
        "tags": []
      },
      "source": "3.3 - We'll practice using R to understand a bit about characters that wore capes and coats.\n\nIn the code cell below:\n- Count the characters wearing a *cape* and save that number into an object called `capes`.\n- Count the characters wearing a *coat* and save that number into an object called `coats`."
    },
    {
      "cell_type": "code",
      "execution_count": null,
      "metadata": {
        "cell_id": "05b77d978aff41d6a3e5290ff273342d",
        "deepnote_cell_type": "code",
        "execution_millis": 1,
        "execution_start": 1602288795148,
        "output_cleared": false,
        "source_hash": null,
        "tags": [],
        "trusted": true
      },
      "outputs": [],
      "source": "# Sample Code\n# Note: Students may arrive at different counts depending on how they defined \"cape\" and \"coat\"\n# Note: It is also possible students may miss the small \"Doll Man\" image when counting capes\ncapes <- 7\ncoats <- 6"
    },
    {
      "cell_type": "markdown",
      "metadata": {
        "cell_id": "d550b805e4014a49944cf0db3fce1d6d",
        "deepnote_cell_height": 74.75,
        "deepnote_cell_type": "markdown",
        "tags": []
      },
      "source": "3.5 - What would happen if we wrote the code `capes == coats` in the code cell below? \nFirst, write your prediction in the markdown cell, then try running the code in the code cell."
    },
    {
      "cell_type": "markdown",
      "metadata": {
        "cell_id": "a59ddaf1923447afbc4213c861237efa",
        "deepnote_cell_height": 66.359375,
        "deepnote_cell_type": "markdown",
        "tags": []
      },
      "source": "> Write your prediction here"
    },
    {
      "cell_type": "code",
      "execution_count": null,
      "metadata": {
        "cell_id": "9b51cae128b64948b30c81d0cdfea620",
        "deepnote_cell_height": 93.953125,
        "deepnote_cell_type": "code",
        "execution_millis": 20,
        "execution_start": 1602288812245,
        "output_cleared": true,
        "source_hash": null,
        "tags": [],
        "trusted": true
      },
      "outputs": [],
      "source": "# Try the code here\ncapes == coats"
    },
    {
      "cell_type": "markdown",
      "metadata": {
        "cell_id": "71dcf89e11cc478796f610cd681b3287",
        "deepnote_cell_height": 74.75,
        "deepnote_cell_type": "markdown",
        "tags": []
      },
      "source": "*(Throughout your notebooks, you can add your own combinations of code and markdown cells to answer any questions or provide explanations)*"
    },
    {
      "cell_type": "markdown",
      "metadata": {
        "cell_id": "ae8ba27de4a34b59b211ef9596486483",
        "deepnote_cell_height": 74.75,
        "deepnote_cell_type": "markdown",
        "tags": []
      },
      "source": "3.6 - Write some R code that would return an answer to this question: \n**Are there more characters that wear capes than characeters that wear coats?** "
    },
    {
      "cell_type": "code",
      "execution_count": null,
      "metadata": {
        "cell_id": "bc4c9b5338a94681bcfc2bf97d9a88da",
        "deepnote_cell_height": 93.953125,
        "deepnote_cell_type": "code",
        "execution_millis": 16,
        "execution_start": 1602288853624,
        "output_cleared": true,
        "source_hash": null,
        "tags": [],
        "trusted": true
      },
      "outputs": [],
      "source": "# Sample code\ncapes > coats"
    },
    {
      "cell_type": "markdown",
      "metadata": {
        "cell_id": "f82e404f74c4413a9edc85fdbca59b38",
        "deepnote_cell_height": 133.53125,
        "deepnote_cell_type": "markdown",
        "tags": []
      },
      "source": "3.7 - Write some R code that would return an answer to this question: \n**What is the total number of capes *and* coats?**\n\nHow can we combine the total number of capes and coats? Come up with at least two ways of\narriving at this answer with R."
    },
    {
      "cell_type": "code",
      "execution_count": null,
      "metadata": {
        "cell_id": "f056936f602e4149be068e56c12af5c6",
        "deepnote_cell_height": 183.953125,
        "deepnote_cell_type": "code",
        "execution_millis": 30,
        "execution_start": 1602288957639,
        "output_cleared": true,
        "source_hash": null,
        "tags": [],
        "trusted": true
      },
      "outputs": [],
      "source": "# Method 1\n# Use the sum() function\nsum(capes + coats)\n\n# Method 2\n# Just add the two objects together\ncapes + coats"
    },
    {
      "cell_type": "markdown",
      "metadata": {
        "cell_id": "a274f4f77cf746369c7140a645cdca7d",
        "deepnote_cell_height": 178.328125,
        "deepnote_cell_type": "markdown",
        "tags": []
      },
      "source": "3.8 - Another aspect of superhero costumes we might be interested in exploring are the colors. Three of the most common colors in early superhero costumes were red, blue, and yellow (because those were the easiest color to render in the four-color printing process that was used at the time). \n\nFor each color, count the number of characters who have that color in their costume and save it into the objects in the code box below (right now they are all set to zero)."
    },
    {
      "cell_type": "code",
      "execution_count": null,
      "metadata": {
        "cell_id": "2a8f72c118ee422aa7ac1d64fc449af1",
        "deepnote_cell_height": 260.953125,
        "deepnote_cell_type": "code",
        "execution_millis": 15,
        "execution_start": 1602290892065,
        "output_cleared": true,
        "source_hash": null,
        "tags": [],
        "trusted": true
      },
      "outputs": [],
      "source": "#Sample Code\n#Note: Students may arrive at different counts depending on \n# which shade variations they counted as \"red\", etc.\n\n# How many characters have the colors red, blue, and/or yellow in their costume?\nred <- 12\nblue <- 9\nyellow <- 10\n\ncolors <- c(red, blue, yellow)\ncolors"
    },
    {
      "cell_type": "markdown",
      "metadata": {
        "cell_id": "f1db7cd99db241988a0ca844cd5310d2",
        "deepnote_cell_height": 127.953125,
        "deepnote_cell_type": "markdown",
        "tags": []
      },
      "source": "3.9 - What do these lines of code do?\n\n```\ncolors <- c(red, blue, yellow)\ncolors\n```"
    },
    {
      "cell_type": "markdown",
      "metadata": {
        "cell_id": "d4695d7f152243f9ba25b79a9567e7b6",
        "deepnote_cell_height": 163.125,
        "deepnote_cell_type": "markdown",
        "tags": []
      },
      "source": "<div class=\"alert alert-block alert-warning\">\n\n**Sample Response**\n\nThese lines of code combine the objects for each color into a vector called `colors`, then prints out the contents of the vector.\n\n</div>"
    },
    {
      "cell_type": "markdown",
      "metadata": {
        "cell_id": "6a96d296208f4aa8a74cea5e67f9f7a2",
        "deepnote_cell_height": 127.953125,
        "deepnote_cell_type": "markdown",
        "tags": []
      },
      "source": "3.10 - How is this code different from the code above? How will the output be different?\n\n```\ncolors2 <- c(\"red\", \"blue\", \"yellow\")\ncolors2\n```"
    },
    {
      "cell_type": "markdown",
      "metadata": {
        "cell_id": "a3c5cc6ff19c44c3acca5630b2f81f75",
        "deepnote_cell_height": 376.5,
        "deepnote_cell_type": "markdown",
        "tags": []
      },
      "source": "<div class=\"alert alert-block alert-warning\">\n\n**Sample Response**\n\nThis code combines the objects for each color as character values (instead of numeric values) into a vector called `colors2`, then it prints out the contents of the vector.\n\n</div>"
    },
    {
      "cell_type": "markdown",
      "metadata": {
        "cell_id": "c472c7d478e44d379825d879169848e9",
        "deepnote_cell_height": 169.921875,
        "deepnote_cell_type": "markdown",
        "tags": []
      },
      "source": "**Final Note:**\n\nYou may have noticed that sometimes you may have had to consider questions like: \n“What counts as “red”?” How much red is \"enough\" red?\n\nThese are important measurement considerations that will always come up in data science! \nWe’ll continue to learn more about measurement as we go further in our course. \n"
    },
    {
      "cell_type": "markdown",
      "metadata": {
        "cell_id": "c93e80651968404eabb547679dbcb384",
        "deepnote_cell_height": 594.796875,
        "deepnote_cell_type": "markdown",
        "tags": []
      },
      "source": "<div class=\"alert alert-block alert-warning\">\n\n**Note to Instructors**\n\nAs optional extra practice, you can have students see if they can use R to answer any of the other questions they came up with. Ask them if there is any other information in the image that they can extract and save into objects, then compare those objects with R to ask questions like: Is there more or less of this \"thing\" than this other \"thing\"? Are they equal? Can I combine them to get a total? And so on...\n\nSome ideas may include:\n- Comparing a count of female vs male superheroes, or white vs non-white superheroes (although, these are both things that are quite obvious at a glance, as there is little-to-no variation in gender and race for these characters, and we probably wouldn't need to use R, statistics, or calculators to figure that out.)\n- Combining those that wear hats and masks and comparing them to those with no hat/mask\n- Compare those with boots and/or gloves to those without; or, if they have boots are they also likely to wear gloves? How about if they wear a tie?\n- Examine the weapons: How many have no weapon visible? How many have a gun? How many have a bow and arrow? And so on...\n\n\nThe goal is to get them to think about how they can turn information available in the image into data (values, variables, objects, vectors, data frames, etc.), and to give them practice in R creating these objects and manipulating them with Boolean and arithmetic operators (and any other functions they may have learned, thus far).\n\n</div>"
    }
  ],
  "metadata": {
    "deepnote_notebook_id": "ca42e2ee70dc49049b1ce38f568745be",
    "kernelspec": {
      "display_name": "R",
      "language": "R",
      "name": "ir"
    },
    "language_info": {
      "codemirror_mode": "r",
      "file_extension": ".r",
      "mimetype": "text/x-r-source",
      "name": "R",
      "pygments_lexer": "r",
      "version": "4.3.3"
    },
    "nbsimplegrader": {
      "publish_config": {
        "classes": [],
        "options": [],
        "tools": []
      }
    }
  },
  "nbformat": 4,
  "nbformat_minor": 1
}