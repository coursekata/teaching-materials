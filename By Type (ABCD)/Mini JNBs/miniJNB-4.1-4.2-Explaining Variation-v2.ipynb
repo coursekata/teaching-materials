{
  "cells": [
    {
      "cell_type": "markdown",
      "metadata": {
        "cell_id": "6c062d26e1114e7ba1df1bc803d6a19f",
        "deepnote_cell_height": 276.3125,
        "deepnote_cell_type": "markdown",
        "nbsimplegrader": {
          "config_key": "markdown.view-only",
          "editable": false,
          "label": "Markdown: View-Only",
          "respondable": false,
          "response": null,
          "runnable": false,
          "type": "markdown"
        }
      },
      "source": "# The Coolest Characters\n## Chapter 4.1-4.2 Explaining Variation"
    },
    {
      "cell_type": "code",
      "execution_count": null,
      "metadata": {
        "cell_id": "4111d67964734a5da43a17e300c33b6f",
        "deepnote_cell_height": 129.953125,
        "deepnote_cell_type": "code",
        "deepnote_to_be_reexecuted": false,
        "execution_context_id": "6f8c1dfc-33ce-4e50-9a57-3f7ae689a924",
        "execution_millis": 1013,
        "execution_start": 1745115562197,
        "nbsimplegrader": {
          "config_key": "code.run-only",
          "editable": false,
          "label": "Code: Run-Only",
          "respondable": false,
          "response": null,
          "runnable": true,
          "type": "code"
        },
        "output_cleared": false,
        "source_hash": "116f7300",
        "trusted": true
      },
      "outputs": [],
      "source": "# This code will load the R packages we will use\nsuppressPackageStartupMessages({\n    library(coursekata)\n})\n\n# set styles\ncss <- suppressWarnings(readLines(\"https://raw.githubusercontent.com/jimstigler/jupyter/master/ck_jupyter_styles.css\"))\nIRdisplay::display_html(sprintf('<style>%s</style>', paste(css, collapse = \"\\n\")))\n\n\n# This code will make sure the middle rows/columns don't get cut out (ellipsized) when you \n# print out a really large data frame (note: you can adjust the values for max rows/cols)\noptions(repr.matrix.max.rows=1000, repr.matrix.max.cols=100)\n\n# Load the data frame\ncharacters <- read.csv(\"https://docs.google.com/spreadsheets/d/e/2PACX-1vQk_n4m-VBCD7CtcpB1kOsiNDLrPmEOEtlOoaKwDhogE_YeGEW5PYTaOtZaqypEgHRFGWsZ0pdYvt_A/pub?gid=0&single=true&output=csv\")\n"
    },
    {
      "cell_type": "markdown",
      "metadata": {
        "cell_id": "14fce0c70d4f4f8da870345c821a1f43",
        "deepnote_cell_height": 317.71875,
        "deepnote_cell_type": "markdown"
      },
      "source": "## 1. Our Favorite Fictional Characters\n\n<img src=\"https://i.postimg.cc/s34kFsZr/xcd-03-B-fictional-chars.png\" alt=\"A collage of the faces of various fictional characters\" width = 30%>\n\nThere are many popular fictional universes out there and they all have their own unique set of fictional characters, and those characters have a wide range of personality types. \n\nWho are some of your favorite fictional characters (i.e., from any of your favorite books, movies, TV shows, or games)? What would you say are the prominent personality traits of each character?\n\nWould you classify any of the characters on your list or in the image above as cool, or dorky? Why are some characters considered \"cooler\" than others?\n\nToday we'll explore and see if we can explain any of the variation in character \"coolness\".\n"
    },
    {
      "cell_type": "markdown",
      "metadata": {
        "cell_id": "76bdb814c3be44b5b22185ce4e18cdcc",
        "deepnote_cell_type": "markdown"
      },
      "source": "## 1. What traits are associated with being \"cool\"?\n\n\n### The Dataset\n\n**Description:** The `characters` data frame contains characters from various fictional universes. More than [3 million volunteers from the internet](https://openpsychometrics.org/tests/characters/) rated these characters on various traits by using a sliding scale. For example, the character Mushu (from Disney's Mulan), is depicted below being rated on a scale from zero, rude, to 100, respectful.\n\n<img src=\"https://i.postimg.cc/tXVg4SjZ/rating-characters.png\" alt=\"example of how people rated a character with a slider\" width = 40%>\n\n##### Variable Descriptions\n\n- `char_id` The character ID.\n- `char_name` The character's name.\t\n- `uni_id` The universe ID for the book, game, movie, or TV show.\n- `uni_name` The universe name of the book, game, movie, or TV show.\n- `gender` The gender of the character (M=Male, F=Female, NB=NonBinary).\n- `abstract` The average rating of how abstract (vs concrete) the character is on a scale of 0-100 (0-concrete, 100-abstract).\n- `agreeable` The average rating of how agreeable (vs stubborn) the character is on a scale of 0-100 (0-stubborn, 100-agreeable).\t\n- `anxious` The average rating of how anxious (vs calm) the character is on a scale of 0-100 (0-calm, 100-anxious).\n- `attractive` The average rating of how attractive (vs repulsive) the character is on a scale of 0-100 (0-repulsive, 100-attractive).\t\n- `beautiful` The average rating of how beautiful (vs ugly) the character is on a scale of 0-100 (0-ugly, 100-beautiful).\t\n- `chaotic` The average rating of how chaotic (vs orderly) the character is on a scale of 0-100 (0-orderly, 100-chaotic).\n- `chill` The average rating of how chill (vs offended) the character is on a scale of 0-100 (0-offended, 100-chill).\t\n- `cool` The average rating of how cool (vs dorky) the character is on a scale of 0-100 (0-dorky, 100-cool).\t\n- `decisive` The average rating of how decisive (vs hesitant) the character is on a scale of 0-100 (0-hesitant, 100-decisive).\t\n- `emotional` The average rating of how emotional (vs unemotional) the character is on a scale of 0-100 (0-unemotional, 100-emotional).\t\n- `extrovert` The average rating of how extroverted (vs introverted) the character is on a scale of 0-100 (0-introvert, 100-extrovert).\t\n- `feminine` The average rating of how feminine (vs masculine) the character is on a scale of 0-100 (0-masculine, 100-feminine).\t\n- `future_focused` The average rating of how future-focused (vs present-focused) the character is on a scale of 0-100 (0-present-focused, 100-future-focused).\t\n- `loveable` The average rating of how loveable (vs punchable) the character is on a scale of 0-100 (0-punchable, 100-loveable).\n- `messy` The average rating of how messy (vs neat) the character is on a scale of 0-100 (0-neat, 100-messy).\t\t\n- `moody` The average rating of how moody (vs stable) the character is on a scale of 0-100 (0-stable, 100-moody).\t\t\n- `open_minded` The average rating of how open-minded (vs close-minded) the character is on a scale of 0-100 (0-close-minded, 100-open-minded).\n- `reasoned` The average rating of how reasoned (vs instinctual) the character is on a scale of 0-100 (0-instinctual, 100-reasoned).\n- `respectful` The average rating of how respectful (vs rude) the character is on a scale of 0-100 (0-rude, 100-respectful).\n- `self_assured` The average rating of how self-assured (vs self-conscious) the character is on a scale of 0-100 (0-self-conscious, 100-self-assured).\n- `self_disciplined` The average rating of how self-disciplined (vs disorganized) the character is on a scale of 0-100 (0-disorganized, 100-self-disciplined).\t\n- `tall` The average rating of how tall (vs short) the character is on a scale of 0-100 (0-short, 100-tall).\t\n- `trusting` The average rating of how trusting (vs suspicious) the character is on a scale of 0-100 (0-suspicious, 100-trusting).\n\n\n##### Data Source: \n\nOriginally collected at [Open Psychometrics](https://openpsychometrics.org/tests/characters/) made available by Tanya Shapiro as a [Tidy Tuesday data set](https://github.com/rfordatascience/tidytuesday/tree/master/data/2022/2022-08-16)."
    },
    {
      "cell_type": "markdown",
      "metadata": {
        "cell_id": "08429c9f11ea445cbf51c2cb30ec09db",
        "deepnote_cell_type": "markdown"
      },
      "source": "### 1.1 Take a look at the `characters` data frame.\n"
    },
    {
      "cell_type": "code",
      "execution_count": null,
      "metadata": {
        "cell_id": "66b5b207b8f84e2da253116e48305e51",
        "deepnote_cell_height": 480.859375,
        "deepnote_cell_type": "code",
        "deepnote_output_heights": [
          275.90625
        ],
        "deepnote_to_be_reexecuted": false,
        "execution_context_id": "6f8c1dfc-33ce-4e50-9a57-3f7ae689a924",
        "execution_millis": 1577,
        "execution_start": 1745115563256,
        "nbsimplegrader": {
          "config_key": "code.response",
          "editable": true,
          "label": "Response: Code",
          "respondable": true,
          "response": null,
          "runnable": true,
          "type": "code"
        },
        "output_cleared": false,
        "source_hash": "698718b0",
        "trusted": true
      },
      "outputs": [],
      "source": "# 1.1\n# Take a look at the data frame\n\n"
    },
    {
      "cell_type": "markdown",
      "metadata": {
        "cell_id": "416bc2ff079848879457c9966cda5134",
        "deepnote_cell_type": "markdown"
      },
      "source": "### 1.2 Which trait do you think will help predict coolness? Write your hypothesis as a word equation.\n\nWord equation format: \n\noutcome = explanatory + other stuff "
    },
    {
      "cell_type": "markdown",
      "metadata": {
        "cell_id": "8695b7efeb9c422ea0d9a84f6708bf5e",
        "deepnote_cell_type": "markdown",
        "nbsimplegrader": {
          "config_key": "markdown.response",
          "editable": true,
          "label": "Response: Markdown",
          "respondable": true,
          "response": null,
          "runnable": true,
          "type": "markdown"
        }
      },
      "source": "1.2 Response:\n\nModify the word equation to fit your hypothesis:\n\ncool = x + other stuff"
    },
    {
      "cell_type": "markdown",
      "metadata": {
        "cell_id": "3f9a3187902c4c4a888770a8f3497570",
        "deepnote_cell_height": 69.96875,
        "deepnote_cell_type": "markdown"
      },
      "source": "## 2. Explaining Variation in `cool`"
    },
    {
      "cell_type": "markdown",
      "metadata": {
        "cell_id": "3c8253facf304f2eb02f44d66614e64c",
        "deepnote_cell_height": 74.75,
        "deepnote_cell_type": "markdown"
      },
      "source": "### 2.1 Create a scatterplot to explore your hypothesis.\n\nFeel free to play around with arguments and chain markers such as color, fill, and labels!"
    },
    {
      "cell_type": "code",
      "execution_count": null,
      "metadata": {
        "cell_id": "d39102fcb1804579b5c8c015beff18a2",
        "deepnote_cell_type": "code",
        "nbsimplegrader": {
          "config_key": "code.response",
          "editable": true,
          "label": "Response: Code",
          "respondable": true,
          "response": null,
          "runnable": true,
          "type": "code"
        },
        "scrolled": false,
        "trusted": true
      },
      "outputs": [],
      "source": "# 2.1\n# Modify to fit your hypothesis:\n\ngf_point(y ~ x, data = characters)"
    },
    {
      "cell_type": "markdown",
      "metadata": {
        "cell_id": "fd38b270c1b84d75abbcd7aef39867b0",
        "deepnote_cell_height": 74.75,
        "deepnote_cell_type": "markdown"
      },
      "source": "### 2.2 Does it look like your explanatory variable helps us explain variation in `cool`?\n\nIn other words, does knowing that information about the character help you make a better prediction about how cool or dorky they are rated? What are you seeing in the graph that made you come to this conclusion?"
    },
    {
      "cell_type": "markdown",
      "metadata": {
        "cell_id": "92f236913fae426dabd72b89d24f93ad",
        "deepnote_cell_type": "markdown",
        "nbsimplegrader": {
          "config_key": "markdown.response",
          "editable": true,
          "label": "Response: Markdown",
          "respondable": true,
          "response": null,
          "runnable": true,
          "type": "markdown"
        }
      },
      "source": "2.2 Response:\n\nDoes it help explain variation? How can you tell?\n\n\n"
    },
    {
      "cell_type": "markdown",
      "metadata": {
        "cell_id": "0b2f4fcc3d28425e9c8b559a940fafe6",
        "deepnote_cell_height": 74.75,
        "deepnote_cell_type": "markdown"
      },
      "source": "### 2.3 Run the code below to compare a few more hypotheses.  Which hypothesis (including yours) explains the most variation in `cool`, and how can you tell? Which one explains the least variation?"
    },
    {
      "cell_type": "code",
      "execution_count": null,
      "metadata": {
        "cell_id": "1537a050e0f346219e8ce286323afa9f",
        "deepnote_cell_height": 706.953125,
        "deepnote_cell_type": "code",
        "deepnote_output_heights": [
          610
        ],
        "deepnote_to_be_reexecuted": false,
        "execution_context_id": "6f8c1dfc-33ce-4e50-9a57-3f7ae689a924",
        "execution_millis": 232,
        "execution_start": 1745115564886,
        "nbsimplegrader": {
          "config_key": "code.response",
          "editable": true,
          "label": "Response: Code",
          "respondable": true,
          "response": null,
          "runnable": true,
          "type": "code"
        },
        "source_hash": "884d8b04",
        "tags": [],
        "trusted": true
      },
      "outputs": [],
      "source": "# 2.3\n# Run this code\n\n# cool = open_minded + other stuff\ngf_point(cool ~ open_minded, data = characters)\n\n# cool = anxious + other stuff\ngf_point(cool ~ anxious, data = characters) \n\n# cool = self_assured + other stuff\ngf_point(cool ~ self_assured, data = characters) \n\n# cool = cool + other stuff\ngf_point(cool ~ cool, data = characters)"
    },
    {
      "cell_type": "markdown",
      "metadata": {
        "cell_id": "0aa06186603e40d6bd0f51830b022d02",
        "deepnote_cell_type": "markdown",
        "nbsimplegrader": {
          "config_key": "markdown.response",
          "editable": true,
          "label": "Response: Markdown",
          "respondable": true,
          "response": null,
          "runnable": true,
          "type": "markdown"
        }
      },
      "source": "2.3 Response:\n\n\n\n\n"
    },
    {
      "cell_type": "markdown",
      "metadata": {
        "cell_id": "57049b3a798b4b44a432d3863a9198bf",
        "deepnote_cell_height": 74.75,
        "deepnote_cell_type": "markdown"
      },
      "source": "### 2.4 Which hypothesis (including yours) explains the *least* variation in `cool`, and how can you tell?\n\nIn other words, which one is mostly \"other stuff\"?"
    },
    {
      "cell_type": "markdown",
      "metadata": {
        "cell_id": "12477698b8974e2f9bd24e673ad64960",
        "deepnote_cell_type": "markdown",
        "nbsimplegrader": {
          "config_key": "markdown.response",
          "editable": true,
          "label": "Response: Markdown",
          "respondable": true,
          "response": null,
          "runnable": true,
          "type": "markdown"
        }
      },
      "source": "2.4 Response:\n\n"
    },
    {
      "cell_type": "markdown",
      "metadata": {
        "cell_id": "45409650174a4f9d8dd9bf2535638ea8",
        "deepnote_cell_height": 74.75,
        "deepnote_cell_type": "markdown"
      },
      "source": "### 2.5 Why does the last graph look like that? Is it perfectly explaining all of the variation in `cool`?"
    },
    {
      "cell_type": "markdown",
      "metadata": {
        "cell_id": "b4fd635254854ed588eaf18c6242580e",
        "deepnote_cell_type": "markdown",
        "nbsimplegrader": {
          "config_key": "markdown.response",
          "editable": true,
          "label": "Response: Markdown",
          "respondable": true,
          "response": null,
          "runnable": true,
          "type": "markdown"
        }
      },
      "source": "2.5 Response:\n\n"
    },
    {
      "cell_type": "markdown",
      "metadata": {
        "cell_id": "c3a69dd4e1a54e37b91cbd67d5b63a44",
        "deepnote_cell_height": 74.75,
        "deepnote_cell_type": "markdown"
      },
      "source": "## 3. Do I need to adjust my prediction?\n\nConnecting predictions and explained variation."
    },
    {
      "cell_type": "markdown",
      "metadata": {
        "cell_id": "be575de4638a46ee9874f99bd9b67dfe",
        "deepnote_cell_type": "markdown"
      },
      "source": "### 3.1 Run the code below. Then modify it to make a prediction for each \"slice\" of the graph.\n\nWe have roughly cut the graph up into low, medium, and high `self_assured` ratings. For each slice, what would you predict the coolness rating would be for the characters with that range of self-assuredness?"
    },
    {
      "cell_type": "code",
      "execution_count": null,
      "metadata": {
        "cell_id": "9b229d5324d244c790e947a6ba9c64f3",
        "deepnote_cell_type": "code",
        "nbsimplegrader": {
          "config_key": "code.response",
          "editable": true,
          "label": "Response: Code",
          "respondable": true,
          "response": null,
          "runnable": true,
          "type": "code"
        },
        "trusted": true
      },
      "outputs": [],
      "source": "# 3.1\n# Run the code to see what it does (ok to ignore warning msg)\n# then change the y-values (currently set to zero) to your predictions\n\n# cool = self_assured + other stuff\ngf_point(cool ~ self_assured, data = characters) %>%\n  gf_vline(xintercept = 33) %>%\n  gf_vline(xintercept = 66) %>%\n  # adjust predictions below\n  gf_point(0 ~ 20, color = \"red\")%>%\n  gf_point(0 ~ 50, color = \"red\")%>%\n  gf_point(0 ~ 75, color = \"red\")\n"
    },
    {
      "cell_type": "markdown",
      "metadata": {
        "cell_id": "053269769c694cdfba682a31a9b7f85f",
        "deepnote_cell_type": "markdown"
      },
      "source": "### 3.2 Run the code below. Then modify it to make a prediction for each \"slice\" of the graph.\n\nLike the previous plot, we have roughly cut the graph up into low, medium, and high `open_minded` ratings. For each slice, what would you predict the coolness rating would be for the characters with that range of open-mindedness?"
    },
    {
      "cell_type": "code",
      "execution_count": null,
      "metadata": {
        "cell_id": "bd5fb3ba33504bc9863cf740c0484eae",
        "deepnote_cell_type": "code",
        "nbsimplegrader": {
          "config_key": "code.response",
          "editable": true,
          "label": "Response: Code",
          "respondable": true,
          "response": null,
          "runnable": true,
          "type": "code"
        },
        "trusted": true
      },
      "outputs": [],
      "source": "# 3.2\n# Run the code\n# then change the y-values (currently set to zero) to your predictions\n\n# cool = open_minded + other stuff\ngf_point(cool ~ open_minded, data = characters) %>%\n  gf_vline(xintercept = 33) %>%\n  gf_vline(xintercept = 66) %>%\n  # adjust predictions below\n  gf_point(0 ~ 20, color = \"red\")%>%\n  gf_point(0 ~ 50, color = \"red\")%>%\n  gf_point(0 ~ 75, color = \"red\")\n"
    },
    {
      "cell_type": "markdown",
      "metadata": {
        "cell_id": "3d2362dd17f041b698d2bdbd75175a01",
        "deepnote_cell_type": "markdown"
      },
      "source": "### 3.3 Which hypothesis had the *least* change in each prediction? Does this suggest it explains more or less variation than the other hypothesis? Why?\n\nAnother way of thinking of this, is: Does this suggest it helps us reduce error in our prediction by knowing that information? Or, does one help us make a better prediction of coolness than the other?"
    },
    {
      "cell_type": "markdown",
      "metadata": {
        "cell_id": "20b6cafb7be443938e08013d80091704",
        "deepnote_cell_type": "markdown",
        "nbsimplegrader": {
          "config_key": "markdown.response",
          "editable": true,
          "label": "Response: Markdown",
          "respondable": true,
          "response": null,
          "runnable": true,
          "type": "markdown"
        }
      },
      "source": "3.3 Response: \n"
    }
  ],
  "metadata": {
    "deepnote_notebook_id": "92835aede08c4b88b34420fd10b52b79",
    "kernelspec": {
      "display_name": "R",
      "language": "R",
      "name": "ir"
    },
    "language_info": {
      "codemirror_mode": "r",
      "file_extension": ".r",
      "mimetype": "text/x-r-source",
      "name": "R",
      "pygments_lexer": "r",
      "version": "4.3.3"
    },
    "nbsimplegrader": {
      "publish_config": {
        "classes": [],
        "options": [],
        "tools": []
      }
    }
  },
  "nbformat": 4,
  "nbformat_minor": 1
}