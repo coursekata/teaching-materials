{
  "cells": [
    {
      "cell_type": "code",
      "execution_count": null,
      "metadata": {
        "cell_id": "279a134762cf45f8a93f59b0fddf577c",
        "deepnote_cell_type": "code",
        "execution_context_id": "e7775da5-f40f-4887-93eb-6b367d607228",
        "execution_millis": 7573,
        "execution_start": 1755046688935,
        "source_hash": "c6c2047a",
        "trusted": true
      },
      "outputs": [],
      "source": "library(coursekata)"
    },
    {
      "cell_type": "code",
      "execution_count": null,
      "metadata": {
        "cell_id": "aeebdda14372487685ae24ac0f25d7b0",
        "deepnote_cell_type": "code",
        "execution_context_id": "e7775da5-f40f-4887-93eb-6b367d607228",
        "execution_millis": 1773,
        "execution_start": 1755046696569,
        "source_hash": "a44921b0",
        "trusted": true
      },
      "outputs": [],
      "source": "anime24 <- read.csv(\"https://docs.google.com/spreadsheets/d/e/2PACX-1vQuJepeidsDw-BsO5yzVaKCYpcbGZi5z4ZY3GiYwbxhh1L-94yw5auWjI-Boj7ATz1unfX48WTj371G/pub?gid=1404610308&single=true&output=csv\")\n\nanime19 <- anime24[c(1:19),]\nanime5 <- anime24[c(20:24),]"
    },
    {
      "cell_type": "markdown",
      "metadata": {
        "cell_id": "05fbc160dd1448c19ddddc8440519572",
        "deepnote_cell_type": "markdown"
      },
      "source": "Connecting data frames to graphs \n- Draw the relevant data for the 5 highlighted anime in the histogram of `decade` below.\n- The implications of facets and binwidths.  \n\nConnecting graphs to data frame\n- Find the name of a particular box on histogram of `score` from My Anime List. \n- Find the anime on this histogram (of `score` from My Anime List) that has the most episodes.\n- The implications of facets and binwidths.\n\nConnecting graphs to graphs\n- Here's a point on the scatterplot. Find that point in the histogram."
    },
    {
      "cell_type": "markdown",
      "metadata": {
        "cell_id": "a19d6b2e89c1404b98d68dfbf839142c",
        "deepnote_cell_type": "markdown"
      },
      "source": "### Part I: Connecting data frame to graphs\n\n1.\tAdd these 5 anime (in data frame) to the histograms below."
    },
    {
      "cell_type": "code",
      "execution_count": null,
      "metadata": {
        "cell_id": "2de601aba1d74db99ec8845e103a478c",
        "deepnote_cell_type": "code",
        "execution_context_id": "e7775da5-f40f-4887-93eb-6b367d607228",
        "execution_millis": 2,
        "execution_start": 1755046698395,
        "source_hash": "2f9ed914",
        "trusted": true
      },
      "outputs": [],
      "source": "anime5"
    },
    {
      "cell_type": "markdown",
      "metadata": {
        "cell_id": "50265929ff814e068791657449e93bfd",
        "deepnote_cell_type": "markdown"
      },
      "source": "This is the code for making the print outs."
    },
    {
      "cell_type": "code",
      "execution_count": null,
      "metadata": {
        "cell_id": "d811cfd911ab4bfcab1173dd3e994fb0",
        "deepnote_cell_type": "code",
        "execution_context_id": "e7775da5-f40f-4887-93eb-6b367d607228",
        "execution_millis": 2370,
        "execution_start": 1755046698456,
        "source_hash": "c202585c",
        "trusted": true
      },
      "outputs": [],
      "source": "gf_histogram(~ decade, binwidth = 10, data = anime19, size = 1, fill = \"white\") %>%\n  gf_facet_grid(. ~ rating) %>%\n  gf_labs(title = \"A\") %>%\n#  gf_histogram(~ decade, binwidth = 10, data = anime24, size = 1, fill = \"pink\") %>%\n  gf_lims(x = c(1975, 2015))\n  "
    },
    {
      "cell_type": "code",
      "execution_count": null,
      "metadata": {
        "cell_id": "a2fb3d2b25164c689b1a61dac33c4e7c",
        "deepnote_cell_type": "code",
        "execution_context_id": "e7775da5-f40f-4887-93eb-6b367d607228",
        "execution_millis": 525,
        "execution_start": 1755046700885,
        "source_hash": "fe11b942",
        "trusted": true
      },
      "outputs": [],
      "source": "gf_histogram(~ decade, binwidth = 10, data = anime19, size = 1, fill = \"white\") %>%\n  gf_facet_grid(rating ~ .) %>%\n  gf_labs(title = \"B\") %>%\n#  gf_histogram(~ decade, binwidth = 10, data = anime24, size = 1, fill = \"pink\")\n  gf_lims(x = c(1975, 2015))\n"
    },
    {
      "cell_type": "code",
      "execution_count": null,
      "metadata": {
        "cell_id": "aa744183f14840e389e3b4e68b0f57fc",
        "deepnote_cell_type": "code",
        "execution_context_id": "e7775da5-f40f-4887-93eb-6b367d607228",
        "execution_millis": 294,
        "execution_start": 1755046701472,
        "source_hash": "169e3478",
        "trusted": true
      },
      "outputs": [],
      "source": "gf_histogram(~ decade, binwidth = 10, data = anime19, size = 1, fill = \"white\") %>%\n#  gf_histogram(~ decade, binwidth = 10, data = anime24, size = 1, fill = \"pink\") %>%\n  gf_lims(x = c(1975, 2015)) %>%\n  gf_labs(title = \"C\") + \n  scale_y_continuous(breaks = seq(0, 10, by = 1))"
    },
    {
      "cell_type": "code",
      "execution_count": null,
      "metadata": {
        "cell_id": "0e1620fdbae64c549dad36f7cf2a4ddd",
        "deepnote_cell_type": "code",
        "execution_context_id": "e7775da5-f40f-4887-93eb-6b367d607228",
        "execution_millis": 354,
        "execution_start": 1755046701815,
        "source_hash": "93626716",
        "trusted": true
      },
      "outputs": [],
      "source": "gf_histogram(~ score, data = anime19, binwidth = 1, size = 1, fill = \"white\") %>%\n#gf_histogram(~ score, data = anime24, binwidth = 1, size = 1, fill = \"pink\") %>%\n  gf_labs(title = \"D, binwidth = 1\") + \n  scale_y_continuous(limits = c(0,15), breaks = seq(0, 15, by = 1))"
    },
    {
      "cell_type": "code",
      "execution_count": null,
      "metadata": {
        "cell_id": "b6a8d15afe084affa8c3184983c40105",
        "deepnote_cell_type": "code",
        "execution_context_id": "e7775da5-f40f-4887-93eb-6b367d607228",
        "execution_millis": 293,
        "execution_start": 1755046702236,
        "source_hash": "f01a01ee",
        "trusted": true
      },
      "outputs": [],
      "source": "gf_histogram(~ score, data = anime19, binwidth = .5, size = 1, fill = \"white\") %>%\n#gf_histogram(~ score, data = anime24, binwidth = .5, size = 1, fill = \"pink\") %>%\n  gf_labs(title = \"E, binwidth = .5\") + \n  scale_y_continuous(breaks = seq(0, 13, by = 1))"
    },
    {
      "cell_type": "code",
      "execution_count": null,
      "metadata": {
        "cell_id": "c092801dd93e48158ea8b4c062d9a7dd",
        "deepnote_cell_type": "code",
        "execution_context_id": "e7775da5-f40f-4887-93eb-6b367d607228",
        "execution_millis": 382,
        "execution_start": 1755046702577,
        "source_hash": "b4c88c51",
        "trusted": true
      },
      "outputs": [],
      "source": "# gets rid of sci notation\noptions(scipen = 999)\n\ngf_histogram(~ scored_by, binwidth = 500000, data = anime19, size = 1, fill = \"white\") %>%\n#gf_histogram(~ scored_by, binwidth = 500000, data = anime24, size = 1, fill = \"pink\") %>%\n  gf_labs(title = \"F, bindwidth = 500,000\") + \n  scale_y_continuous(limits = c(0,15), breaks = seq(0, 15, by = 1))"
    },
    {
      "cell_type": "markdown",
      "metadata": {
        "cell_id": "30a4edcb9e054e288cac5600d08b1f7d",
        "deepnote_cell_type": "markdown"
      },
      "source": "### Part II: Connecting graphs to data frame\n\n2.\tTake a look at the anime that is rated R. Which rows of the data frame are in which bin? (You can label the bins with the names of the anime or the row number.)"
    },
    {
      "cell_type": "code",
      "execution_count": null,
      "metadata": {
        "cell_id": "8131cde61c47406798792ac076dfafa7",
        "deepnote_cell_type": "code",
        "execution_context_id": "e7775da5-f40f-4887-93eb-6b367d607228",
        "execution_millis": 1114,
        "execution_start": 1755046703006,
        "source_hash": "7ec5ec09",
        "trusted": true
      },
      "outputs": [],
      "source": "gf_histogram(~ decade, binwidth = 20, data = anime24, size = 1, fill = \"white\")%>%\n  gf_facet_grid(. ~ rating)\n\ngf_histogram(~ decade, binwidth = 10, data = anime24, size = 1, fill = \"white\")%>%\n  gf_facet_grid(. ~ rating)"
    },
    {
      "cell_type": "markdown",
      "metadata": {
        "cell_id": "551c97c94f7d471aa227deaf6c08f6b1",
        "deepnote_cell_type": "markdown"
      },
      "source": "3.\tFind the highest scoring anime (all scores are from My Anime List) in the graph (below) and color it. Then find the name of it.\n\n4.\tFind the anime that was scored by the most people My Anime List. Then color it in the graph (below)."
    },
    {
      "cell_type": "code",
      "execution_count": null,
      "metadata": {
        "cell_id": "c3d382e7fde342da8d4f6378d7ec8dfe",
        "deepnote_cell_type": "code",
        "execution_context_id": "e7775da5-f40f-4887-93eb-6b367d607228",
        "execution_millis": 525,
        "execution_start": 1755046704186,
        "source_hash": "3635bb4c",
        "trusted": true
      },
      "outputs": [],
      "source": "gf_histogram(~ score, data = anime24, bins = 5, size = 1, fill = \"white\")%>%\n  gf_facet_grid(rating ~ .) "
    },
    {
      "cell_type": "code",
      "execution_count": null,
      "metadata": {
        "cell_id": "34a36e2d249541ea80f00b944de248b2",
        "deepnote_cell_type": "code",
        "execution_context_id": "e7775da5-f40f-4887-93eb-6b367d607228",
        "execution_millis": 603,
        "execution_start": 1755046704776,
        "scrolled": true,
        "source_hash": "6ab0aaa1",
        "trusted": true
      },
      "outputs": [],
      "source": "gf_histogram(~ score, data = anime24, bins = 5, fill = ~(name == \"Fullmetal Alchemist: Brotherhood\"), show.legend = FALSE)%>%\n  gf_facet_grid(rating ~ .) %>%\n  gf_labs(title = \"Highest scoring anime\")"
    },
    {
      "cell_type": "code",
      "execution_count": null,
      "metadata": {
        "cell_id": "34621162676149f49f6085818c1b889e",
        "deepnote_cell_type": "code",
        "execution_context_id": "e7775da5-f40f-4887-93eb-6b367d607228",
        "execution_millis": 563,
        "execution_start": 1755046705436,
        "source_hash": "72685ca",
        "trusted": true
      },
      "outputs": [],
      "source": "gf_histogram(~ score, data = anime24, bins = 5, fill = ~(name == \"Death Note\"), show.legend = FALSE)%>%\n  gf_facet_grid(rating ~ .) %>%\n  gf_labs(title = \"Anime scored by the most people\")"
    },
    {
      "cell_type": "markdown",
      "metadata": {
        "cell_id": "0ed6359e2d0f4e26a80a2f9fd83f885d",
        "deepnote_cell_type": "markdown"
      },
      "source": "### Part III: Connecting graphs to graphs\n\n5. In the scatterplot, one anime appears as a triangle. Find that anime in the histogram."
    },
    {
      "cell_type": "code",
      "execution_count": null,
      "metadata": {
        "cell_id": "6c6b1edf1ec54183871e7b7309b544bd",
        "deepnote_cell_type": "code",
        "execution_context_id": "e7775da5-f40f-4887-93eb-6b367d607228",
        "execution_millis": 296,
        "execution_start": 1755046706046,
        "source_hash": "94249a7",
        "trusted": true
      },
      "outputs": [],
      "source": "gf_point(score ~ scored_by, data = anime24, size = 3, shape = ~(name == \"One Piece\"), show.legend = FALSE) "
    },
    {
      "cell_type": "code",
      "execution_count": null,
      "metadata": {
        "cell_id": "0389863955de4caf98df808748caeca0",
        "deepnote_cell_type": "code",
        "execution_context_id": "e7775da5-f40f-4887-93eb-6b367d607228",
        "execution_millis": 334,
        "execution_start": 1755046706396,
        "source_hash": "f293cc98",
        "trusted": true
      },
      "outputs": [],
      "source": "gf_histogram(~ scored_by, data = anime24, binwidth = 100000, size = 1, fill = \"white\") %>%\n  gf_labs(title = \"binwidth = 100,000\")"
    },
    {
      "cell_type": "code",
      "execution_count": null,
      "metadata": {
        "cell_id": "5a91d61cec074c449973d55eb02ff5ef",
        "deepnote_cell_type": "code",
        "execution_context_id": "e7775da5-f40f-4887-93eb-6b367d607228",
        "execution_millis": 340,
        "execution_start": 1755046706785,
        "source_hash": "aa01a8ba",
        "trusted": true
      },
      "outputs": [],
      "source": "gf_histogram(~ scored_by, data = anime24, binwidth = 100000, fill = ~(name == \"One Piece\"), show.legend = FALSE)%>%\n  gf_labs(title = \"One Piece\")"
    },
    {
      "cell_type": "markdown",
      "metadata": {
        "cell_id": "24476d708fc842f582acc6840bcc69af",
        "deepnote_cell_type": "markdown"
      },
      "source": "6. Find the outliers in the boxplot in the histogram. Find out the names of the anime that are  outliers in each rating category."
    },
    {
      "cell_type": "code",
      "execution_count": null,
      "metadata": {
        "cell_id": "e9ecc619dd7245c884b2c63a4db73bd6",
        "deepnote_cell_type": "code",
        "execution_context_id": "e7775da5-f40f-4887-93eb-6b367d607228",
        "execution_millis": 365,
        "execution_start": 1755046707176,
        "source_hash": "4ab0ccba",
        "trusted": true
      },
      "outputs": [],
      "source": "gf_boxplot(scored_by ~ rating, data = anime24, fill = \"gray\")"
    },
    {
      "cell_type": "code",
      "execution_count": null,
      "metadata": {
        "cell_id": "f3cb96e609234304b5a2b031ccc073cd",
        "deepnote_cell_type": "code",
        "execution_context_id": "e7775da5-f40f-4887-93eb-6b367d607228",
        "execution_millis": 504,
        "execution_start": 1755046707605,
        "source_hash": "a8522a6e",
        "trusted": true
      },
      "outputs": [],
      "source": "gf_histogram(~ scored_by, data = anime24, size = 1, fill = \"white\") %>%\n  gf_facet_grid(rating ~ .)"
    }
  ],
  "metadata": {
    "deepnote_notebook_id": "2ee5ba740542409e8f625db1924593d8",
    "kernelspec": {
      "display_name": "R",
      "language": "R",
      "name": "ir"
    },
    "language_info": {
      "codemirror_mode": "r",
      "file_extension": ".r",
      "mimetype": "text/x-r-source",
      "name": "R",
      "pygments_lexer": "r",
      "version": "4.3.3"
    },
    "nbsimplegrader": {
      "publish_config": {
        "classes": [],
        "options": [],
        "tools": []
      }
    }
  },
  "nbformat": 4,
  "nbformat_minor": 1
}