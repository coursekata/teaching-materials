{
  "cells": [
    {
      "cell_type": "markdown",
      "metadata": {
        "cell_id": "4186668eaeda45a6a2b2cbfbebec2df8",
        "deepnote_cell_type": "markdown"
      },
      "source": "# Visualizing PRE (COMPLETE)\n\n## Chapter 7.9-7.10"
    },
    {
      "cell_type": "code",
      "execution_count": null,
      "metadata": {
        "cell_id": "25caa74766e7443395264a5e810e7fb6",
        "deepnote_cell_type": "code",
        "execution_context_id": "57074c1b-56dc-4078-b5d4-00f4c8228150",
        "execution_millis": 1107,
        "execution_start": 1743702784619,
        "scrolled": false,
        "source_hash": "240debbc",
        "trusted": true
      },
      "outputs": [],
      "source": "# This code will load the R packages we will use\nlibrary(coursekata)\n\n# set styles\ncss <- suppressWarnings(readLines(\"https://raw.githubusercontent.com/jimstigler/jupyter/master/ck_jupyter_styles_v2.css\"))\nIRdisplay::display_html(sprintf('<style>%s</style>', paste(css, collapse = \"\\n\")))\n\n# pull in gf_resid and gf_squaresid for now\nsource(\"https://raw.githubusercontent.com/UCLATALL/stopwatch/refs/heads/main/gf_resid.R\")\nsource(\"https://raw.githubusercontent.com/UCLATALL/stopwatch/refs/heads/main/gf_square_resid.R\")"
    },
    {
      "cell_type": "markdown",
      "metadata": {},
      "source": "<div class=\"teacher-note\">\n    <b>Teacher notes: </b>The purpose of this mini-JNB is to guide students through fitting the empty and group models, calculating predictions and residuals, and visualizing squared residuals to support their understanding of error and PRE.\n</div>"
    },
    {
      "cell_type": "markdown",
      "metadata": {},
      "source": "This notebook is a companion to this [worksheet](https://docs.google.com/document/d/1-PiJ77R95RpsVG6OzyvL-lggIOJlip9Sw6ZNG02ArMI/edit?tab=t.m0f586f9j0gp)"
    },
    {
      "cell_type": "code",
      "execution_count": null,
      "metadata": {
        "trusted": true
      },
      "outputs": [],
      "source": "#load the data\n\nID <- 1:10\n\ndate <- c(\"2025-06-01\", \"2025-06-01\",\n          \"2025-06-02\", \"2025-06-02\",\n          \"2025-06-03\", \"2025-06-03\",\n          \"2025-06-04\", \"2025-06-04\",\n          \"2025-06-05\", \"2025-06-05\")\nstate <-  c(\"CA\", \"NV\",\n            \"CA\", \"NV\",\n            \"CA\", \"NV\",\n            \"CA\", \"NV\",\n            \"CA\", \"NV\")\navg_temp <- c(70.2, 78.9,\n               71.5, 80.1,\n               69.8, 82.3,\n               72.0, 85.0,\n               73.4, 88.2)\n\ntemp_data <- data.frame(ID, date, state, avg_temp)\n"
    },
    {
      "cell_type": "markdown",
      "metadata": {},
      "source": "## About the Data\n\n\nThe `temp_data` data frame comes a sample daily average temperatures from California and Nevada, taken from a larger dataset collected by [NOAA](https://www.ncei.noaa.gov/products/land-based-station/nclimgrid-daily).\n"
    },
    {
      "cell_type": "code",
      "execution_count": null,
      "metadata": {
        "trusted": true
      },
      "outputs": [],
      "source": "temp_data"
    },
    {
      "cell_type": "markdown",
      "metadata": {},
      "source": "### Fit the Models\n\nFit the empty model and the group model (by state) to the sample data."
    },
    {
      "cell_type": "code",
      "execution_count": null,
      "metadata": {
        "scrolled": false,
        "trusted": true
      },
      "outputs": [],
      "source": "# complete and run code here\n\n#sample code \nempty_model <- lm(avg_temp ~ NULL, data = temp_data)\nempty_model\n\nstate_model <- lm(avg_temp ~ state, data = temp_data)\nstate_model\n"
    },
    {
      "cell_type": "markdown",
      "metadata": {},
      "source": "### Predictions & Residuals\n\nCheck your calculations for the predictions and residuals of both models."
    },
    {
      "cell_type": "code",
      "execution_count": null,
      "metadata": {
        "trusted": true
      },
      "outputs": [],
      "source": "# complete and run code here\n\n\n#sample code\ntemp_data$empty_model_pred <- predict(empty_model)\ntemp_data$empty_model_resid <- resid(empty_model)\n\ntemp_data$state_model_pred <- predict(state_model)\ntemp_data$state_model_resid <- resid(state_model)\n\ntemp_data"
    },
    {
      "cell_type": "markdown",
      "metadata": {},
      "source": "### Compute the SSR \n\nCheck your calculations of SSR for both models."
    },
    {
      "cell_type": "code",
      "execution_count": null,
      "metadata": {
        "trusted": true
      },
      "outputs": [],
      "source": "# complete and run code here\n\n\n#sample code\nsum(resid(empty_model)^2)\nsupernova(empty_model)\n\nsum(resid(state_model)^2)\nsupernova(state_model)\n"
    },
    {
      "cell_type": "markdown",
      "metadata": {},
      "source": "### Visualize it\n\nMake a jitter plot of temperature by state and sketch this onto your worksheet.\n"
    },
    {
      "cell_type": "code",
      "execution_count": null,
      "metadata": {
        "trusted": true
      },
      "outputs": [],
      "source": "# complete and run code here\n\n\n\n#sample code\ngf_jitter(avg_temp ~ state, data = temp_data, width = 0.2) %>%\ngf_model(empty_model, color = \"red\")\n\n#Optional: use gf_resid or gf_squaresid\n\ngf_jitter(avg_temp ~ state, data = temp_data, width = 0.2) %>%\ngf_model(empty_model, color = \"red\") %>%\ngf_resid(empty_model)\n\ngf_jitter(avg_temp ~ state, data = temp_data, width = 0.2) %>%\ngf_model(empty_model, color = \"red\") %>%\ngf_squaresid(empty_model) \n"
    },
    {
      "cell_type": "code",
      "execution_count": null,
      "metadata": {
        "trusted": true
      },
      "outputs": [],
      "source": ""
    }
  ],
  "metadata": {
    "deepnote_notebook_id": "93365a0e84e4470aa612b848c32da8f2",
    "kernelspec": {
      "display_name": "R",
      "language": "R",
      "name": "ir"
    },
    "language_info": {
      "codemirror_mode": "r",
      "file_extension": ".r",
      "mimetype": "text/x-r-source",
      "name": "R",
      "pygments_lexer": "r",
      "version": "4.3.3"
    },
    "nbsimplegrader": {
      "publish_config": {
        "classes": [],
        "options": {},
        "tools": []
      }
    }
  },
  "nbformat": 4,
  "nbformat_minor": 1
}