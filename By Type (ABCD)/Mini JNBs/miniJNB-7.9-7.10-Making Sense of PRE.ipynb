{
  "cells": [
    {
      "cell_type": "markdown",
      "metadata": {
        "cell_id": "4186668eaeda45a6a2b2cbfbebec2df8",
        "deepnote_cell_type": "markdown"
      },
      "source": "# Making Sense of PRE\n\n## Chapter 7.9-7.10"
    },
    {
      "cell_type": "code",
      "execution_count": null,
      "metadata": {
        "cell_id": "25caa74766e7443395264a5e810e7fb6",
        "deepnote_cell_type": "code",
        "execution_context_id": "57074c1b-56dc-4078-b5d4-00f4c8228150",
        "execution_millis": 1107,
        "execution_start": 1743702784619,
        "source_hash": "240debbc",
        "trusted": true
      },
      "outputs": [],
      "source": "# This code will load the R packages we will use\nlibrary(coursekata)\n\n# set styles\ncss <- suppressWarnings(readLines(\"https://raw.githubusercontent.com/jimstigler/jupyter/master/ck_jupyter_styles_v2.css\"))\nIRdisplay::display_html(sprintf('<style>%s</style>', paste(css, collapse = \"\\n\")))\n"
    },
    {
      "cell_type": "markdown",
      "metadata": {},
      "source": "## About the Data\n\nThe data frame `carrier_data` includes simulated customer satisfaction ratings for UPS and FedEx, based on patterns observed in public reviews from platforms like Yelp and Trustpilot. Ratings are on a 1 to 5 scale, with 5 indicating the highest satisfaction."
    },
    {
      "cell_type": "code",
      "execution_count": null,
      "metadata": {
        "trusted": true
      },
      "outputs": [],
      "source": "#load the data\n\nID <- 1:30\ncarrier <- rep(c(\"UPS\", \"FedEx\"), each = 15)\nrating  <- c(\n    4.2, 4.5, 4.0, 3.8, 4.1, 4.3, 4.4, 4.0, 4.6, 4.1, 4.2, 4.5, 4.3, 4.2, 4.4,  # UPS\n    3.6, 3.8, 3.5, 3.7, 3.9, 3.8, 3.5, 3.7, 3.6, 3.9, 3.8, 3.7, 3.6, 3.8, 3.7   # FedEx\n  )\n\ncarrier_data <- data.frame(ID, carrier, rating)\n\ncarrier_data"
    },
    {
      "cell_type": "markdown",
      "metadata": {},
      "source": "### 1 Fit the Models\n\nFit the empty model and the group model (by carrier) to the data."
    },
    {
      "cell_type": "code",
      "execution_count": null,
      "metadata": {
        "nbsimplegrader": {
          "config_key": "code.response",
          "editable": true,
          "label": "Response: Code",
          "respondable": true,
          "response": null,
          "runnable": true,
          "type": "code"
        },
        "scrolled": false,
        "trusted": true
      },
      "outputs": [],
      "source": "# complete and run code here\n\n"
    },
    {
      "cell_type": "markdown",
      "metadata": {},
      "source": "### 2 Predictions & Residuals\n\nCalculate the predictions and residuals of both models."
    },
    {
      "cell_type": "code",
      "execution_count": null,
      "metadata": {
        "nbsimplegrader": {
          "config_key": "code.response",
          "editable": true,
          "label": "Response: Code",
          "respondable": true,
          "response": null,
          "runnable": true,
          "type": "code"
        },
        "trusted": true
      },
      "outputs": [],
      "source": "# complete and run code here\n\n"
    },
    {
      "cell_type": "markdown",
      "metadata": {},
      "source": "### 3 & 4 Compute & Interpret PRE\n"
    },
    {
      "cell_type": "code",
      "execution_count": null,
      "metadata": {
        "nbsimplegrader": {
          "config_key": "code.response",
          "editable": true,
          "label": "Response: Code",
          "respondable": true,
          "response": null,
          "runnable": true,
          "type": "code"
        },
        "trusted": true
      },
      "outputs": [],
      "source": "# complete and run code here\n\n\n"
    },
    {
      "cell_type": "markdown",
      "metadata": {},
      "source": "### 5 Visualize it\n\nMake a visualization of rating by carrier and sketch this onto your worksheet.\n"
    },
    {
      "cell_type": "code",
      "execution_count": null,
      "metadata": {
        "nbsimplegrader": {
          "config_key": "code.response",
          "editable": true,
          "label": "Response: Code",
          "respondable": true,
          "response": null,
          "runnable": true,
          "type": "code"
        },
        "trusted": true
      },
      "outputs": [],
      "source": "# complete and run code here\n\n\n"
    }
  ],
  "metadata": {
    "deepnote_notebook_id": "93365a0e84e4470aa612b848c32da8f2",
    "kernelspec": {
      "display_name": "R",
      "language": "R",
      "name": "ir"
    },
    "language_info": {
      "codemirror_mode": "r",
      "file_extension": ".r",
      "mimetype": "text/x-r-source",
      "name": "R",
      "pygments_lexer": "r",
      "version": "4.3.3"
    },
    "nbsimplegrader": {
      "publish_config": {
        "classes": [],
        "options": [],
        "tools": []
      }
    }
  },
  "nbformat": 4,
  "nbformat_minor": 1
}