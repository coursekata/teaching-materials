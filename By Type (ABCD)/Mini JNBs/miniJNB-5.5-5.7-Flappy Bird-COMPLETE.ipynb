{
  "cells": [
    {
      "cell_type": "markdown",
      "metadata": {
        "cell_id": "4186668eaeda45a6a2b2cbfbebec2df8",
        "deepnote_cell_type": "markdown"
      },
      "source": "#  Fitting the Empty Model for Flappy Bird Scores (COMPLETE)\n\n## Chapter 5.5 - 5.7 "
    },
    {
      "cell_type": "code",
      "execution_count": null,
      "metadata": {
        "cell_id": "25caa74766e7443395264a5e810e7fb6",
        "deepnote_cell_type": "code",
        "execution_context_id": "57074c1b-56dc-4078-b5d4-00f4c8228150",
        "execution_millis": 1107,
        "execution_start": 1743702784619,
        "scrolled": false,
        "source_hash": "240debbc",
        "trusted": true
      },
      "outputs": [],
      "source": "# This code will load the R packages we will use\nlibrary(coursekata)\n\n# set styles\ncss <- suppressWarnings(readLines(\"https://raw.githubusercontent.com/jimstigler/jupyter/master/ck_jupyter_styles_v2.css\"))\nIRdisplay::display_html(sprintf('<style>%s</style>', paste(css, collapse = \"\\n\")))\n"
    },
    {
      "cell_type": "markdown",
      "metadata": {
        "cell_id": "33e09b3d3f2f4bbfb5f7019962aa401e",
        "deepnote_cell_type": "markdown"
      },
      "source": "<div class=\"teacher-note\">\n    <b>Teacher Note:</b> The purpose of this mini-JNB is to give students a hands-on opportunity to connect gameplay data with statistical modeling. After playing three rounds of Flappy Bird and recording their highest score, students fit the empty model (mean) to the class data. They then use this model to generate predictions and calculate error (residuals) for each student.\n</div>"
    },
    {
      "cell_type": "markdown",
      "metadata": {},
      "source": "**Notes:** \n- This mini-JNB is a companion to 5.5 - 5.7 [Worksheet 2](https://docs.google.com/document/d/1QUu7khjJGwGSdo42QDtnhyYFo51U1yZozG-UhE_2yhY/edit?tab=t.eew4n6mrbc62#heading=h.wukob0rjvf4d).\n- Play 3 rounds of [Flappy Bird](https://flappybird.io/) and record the highest score for the class data."
    },
    {
      "cell_type": "code",
      "execution_count": null,
      "metadata": {
        "trusted": true
      },
      "outputs": [],
      "source": "#enter the class data into scores and adjust the ID to reflect the number of students\n\nID <- 1:30\nscores <- c()\nclassdata <- data.frame(ID, scores)\n\n#sample class data\nID <- 1:30\nscores <- c(0, 1, 1, 1, 1, 1, 2, 2, 2, 2,\n            3, 3, 3, 4, 4, 5, 5, 6, 6, 7,\n            7, 8, 9, 10, 12, 14, 15, 17, 19, 22)\n\nclassdata <- data.frame(ID, scores)"
    },
    {
      "cell_type": "markdown",
      "metadata": {},
      "source": "### 1 View the distribution of `scores`"
    },
    {
      "cell_type": "code",
      "execution_count": null,
      "metadata": {
        "trusted": true
      },
      "outputs": [],
      "source": "#make a histogram of scores and adjust the number of bins\n\n\n#sample code\ngf_histogram(~scores, data = classdata, bins = 10)"
    },
    {
      "cell_type": "markdown",
      "metadata": {},
      "source": "### 2 Fit the empty model to `scores`"
    },
    {
      "cell_type": "code",
      "execution_count": null,
      "metadata": {
        "trusted": true
      },
      "outputs": [],
      "source": "#code here\n\n\n#sample code\nempty.model <- lm(scores ~ NULL, data = classdata)\nempty.model"
    },
    {
      "cell_type": "markdown",
      "metadata": {},
      "source": "### 4 Predicted scores\n\nSave the predicted `scores` for each student and add the empty model to the histogram above."
    },
    {
      "cell_type": "code",
      "execution_count": null,
      "metadata": {
        "trusted": true
      },
      "outputs": [],
      "source": "#complete and run the code\n\n\n#check that the predictions are saved\n\n\n#sample code\nclassdata$predict <- predict(empty.model)\nhead(classdata)\n"
    },
    {
      "cell_type": "code",
      "execution_count": null,
      "metadata": {
        "trusted": true
      },
      "outputs": [],
      "source": "#sample code to add model to histogram above\ngf_histogram(~scores, data = classdata, bins = 10) %>%\ngf_model(empty.model, color = \"darkgreen\")"
    },
    {
      "cell_type": "markdown",
      "metadata": {},
      "source": "### 6 Residuals for all students\n\nCalculate the residuals for all students.  Then create a visualization of the residuals."
    },
    {
      "cell_type": "code",
      "execution_count": null,
      "metadata": {
        "trusted": true
      },
      "outputs": [],
      "source": "#complete and run code here\n\n\n#check that the residuals are saved\n\n\n#sample code\n\nclassdata$resid <- resid(empty.model)\nhead(classdata)\n"
    },
    {
      "cell_type": "code",
      "execution_count": null,
      "metadata": {
        "trusted": true
      },
      "outputs": [],
      "source": "#complete and run the code for the visualization of residuals (adjust number of bins similar to scores)\ngf_histogram()\n\n#sample code\ngf_histogram(~resid, data = classdata, bins = 10)"
    }
  ],
  "metadata": {
    "deepnote_notebook_id": "93365a0e84e4470aa612b848c32da8f2",
    "kernelspec": {
      "display_name": "R",
      "language": "R",
      "name": "ir"
    },
    "language_info": {
      "codemirror_mode": "r",
      "file_extension": ".r",
      "mimetype": "text/x-r-source",
      "name": "R",
      "pygments_lexer": "r",
      "version": "4.3.3"
    },
    "nbsimplegrader": {
      "publish_config": {
        "classes": [],
        "options": {},
        "tools": []
      }
    }
  },
  "nbformat": 4,
  "nbformat_minor": 1
}