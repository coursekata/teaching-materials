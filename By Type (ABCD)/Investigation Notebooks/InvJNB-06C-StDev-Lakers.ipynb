{
  "cells": [
    {
      "cell_type": "markdown",
      "metadata": {
        "cell_id": "1ca91e5827044879b841b9a01a0aed97",
        "deepnote_cell_height": 81.953125,
        "deepnote_cell_type": "markdown",
        "tags": []
      },
      "source": "# 6C: Think Like a Bookie"
    },
    {
      "cell_type": "code",
      "execution_count": null,
      "metadata": {
        "cell_id": "b5c2029650ad4ff8849b0ab93daa7420",
        "deepnote_cell_height": 129.953125,
        "deepnote_cell_type": "code",
        "deepnote_to_be_reexecuted": false,
        "execution_context_id": "b56594f0-2a36-4643-936c-13a935017065",
        "execution_millis": 7354,
        "execution_start": 1741726148718,
        "source_hash": "e9f8ec0f",
        "tags": [],
        "trusted": true
      },
      "outputs": [],
      "source": "# This code will load the R packages we will use\nsuppressPackageStartupMessages({\n    library(coursekata)\n})\n\n#load the data \nnbagames2024 <- read.csv(\"https://docs.google.com/spreadsheets/d/e/2PACX-1vQLEAzUYdQUGYzniQ7XzPV1uzors-yUTGiZS5hP6cKfXNBdhCDa6JyrzGfbSln2PhUsichJXzlDhErj/pub?gid=617264864&single=true&output=csv\")\n\n#this code will filter for Los Angeles Lakers games - to use any other team, replace the team abbreviation (questions would need to be modified to make sense with the team's stats)\n\nLakers<- filter(nbagames2024, team_abbreviation == \"LAL\")"
    },
    {
      "cell_type": "markdown",
      "metadata": {
        "cell_id": "88b4040a231244ea93e71e21a73d9e1f",
        "deepnote_cell_height": 1032.8125,
        "deepnote_cell_type": "markdown"
      },
      "source": "We’re going to look at a dataframe called `Lakers`. These are the game log data for the Los Angeles Lakers basketball team in the 2023-2024 season. \n\n- `season` year season stated\n- `game_date` date game was played\n- `team_id` ID for team \n- `team_location` team's home location \n- `team_name` team name\n- `team_abbreviation` team abbreviation\n- `team_home_away` whether the game was played on the team's home court or away\n- `team_score` score\n- `team_winner` whether the team won or lost\n- `assists` team assists\n- `blocks` team blocks\n- `defensive_rebounds` team defensive rebounds \n- `fast_break_points` Points scored from a fast break, which is a quick offensive play to score before the other team's defense is ready\n- `field_goal_pct` the percentage of 2 and 3 point shot made\n- `field_goals_made` the total number of field goals (2 and 3 point shots) made\n- `field_goals_attempted` the total number of field goals (2 and 3 point shots) attempted\n- `flagrant_fouls` a personal foul that involves excessive or unnecessary contact with another player\n- `fouls` total fouls \n- `free_throw_pct` percentage of free throws made\n- `free_throws_made` number of free throws made\n- `free_throws_attempted` number of free throws attempted\n- `largest_lead` the largest lead the team had during any part of the game\n- `offensive_rebounds` number of offensive rebounds\n- `points_in_paint` points made points scored from within the key, or free-throw lane, on the basketball court\n- `steals` number of steals (taking the ball away from the other team)\n- `team_turnovers` number of turnovers counted against the team (as opposed to a particular player)\n- `technical_fouls` unsportsmanlike conduct fouls \n- `three_point_field_goal_pct` percentage of 3-point shots made\n- `three_point_field_goals_made` number of 3-point shots made\n- `three_point_field_goals_attempted` number of 3-point shots attempted\n- `total_rebounds` total rebounds\n- `turnover_points` points scored on turnovers\n- `turnovers` urnovers committed by players\n- `opponent_team_id` id for opponent\n- `opponent_team_location` home court location for opponent\n- `opponent_team_name` opponent team name\n- `opponent_team_abbreviation` opponent team abbreviation\n- `opponent_team_score` opponent team score\n\n\nTake a look at the `Lakers` data frame below. "
    },
    {
      "cell_type": "markdown",
      "metadata": {
        "cell_id": "c29a3939e34349aaa984b34d1a65dbeb",
        "deepnote_cell_height": 69.96875,
        "deepnote_cell_type": "markdown",
        "tags": []
      },
      "source": "## 1.0 - The Data"
    },
    {
      "cell_type": "markdown",
      "metadata": {
        "cell_id": "f6081e5b4cc74f3fa96a396edd7a1ffe",
        "deepnote_cell_height": 74.75,
        "deepnote_cell_type": "markdown",
        "tags": []
      },
      "source": "1.1 - Could you look at Lebron James' number of field goals made using this data set? If you can, go ahead and look that up in this data frame. If you can't, explain why."
    },
    {
      "cell_type": "markdown",
      "metadata": {
        "cell_id": "0bbd4c7dda474388a25412b6eb298f3e",
        "deepnote_cell_height": 74.75,
        "deepnote_cell_type": "markdown",
        "tags": []
      },
      "source": "1.2 - If you had to predict whether the Lakers were going to win their next game based on this data set, would it be helpful to use the empty model of `Points`? Why or why not?"
    },
    {
      "cell_type": "markdown",
      "metadata": {
        "cell_id": "dae5c408d9944e35aabfafd1f153f111",
        "deepnote_cell_height": 74.75,
        "deepnote_cell_type": "markdown",
        "tags": []
      },
      "source": "1.3 - If you were to predict the outcome of the next game that the Lakers play based on this data, what would you predict? "
    },
    {
      "cell_type": "markdown",
      "metadata": {
        "cell_id": "27711202ab2f488f962e199ac29afa65",
        "deepnote_cell_height": 69.96875,
        "deepnote_cell_type": "markdown",
        "tags": []
      },
      "source": "## 2.0 - Exploring Variation in Point Spread"
    },
    {
      "cell_type": "markdown",
      "metadata": {
        "cell_id": "c2868ea97a3d43fcad279cbfb4ca1e1f",
        "deepnote_cell_height": 74.75,
        "deepnote_cell_type": "markdown",
        "tags": []
      },
      "source": "2.1 - Now let’s say you (and unfortunately everyone else) thinks that the Lakers will win the next game. That's not good from a bookie's point of view. Why?"
    },
    {
      "cell_type": "markdown",
      "metadata": {
        "cell_id": "fd27151ba4d945d9af7145c2db230beb",
        "deepnote_cell_height": 119.53125,
        "deepnote_cell_type": "markdown",
        "tags": []
      },
      "source": "2.2 - So instead of just betting win-lose, let's use a rudimentary point spread: how many more points will the \nLakers score if they win?  In a good point spread (good from the bookie’s point of view), bets on points should roughly equally fall above and below the point spread. Does that idea sound kind of like the mean or median? "
    },
    {
      "cell_type": "markdown",
      "metadata": {
        "cell_id": "bf1ba0ac0e984cbe88061ee535abfd8d",
        "deepnote_cell_type": "markdown",
        "tags": []
      },
      "source": "2.3 - What would be the reason for using the mean instead of the median for the point spread?"
    },
    {
      "cell_type": "markdown",
      "metadata": {
        "cell_id": "75c558b0c5714868b00c12a1fe75b1de",
        "deepnote_cell_type": "markdown",
        "tags": []
      },
      "source": "2.4 - As baby bookies (we’re developing!), let's take a look at how many *more* points the Lakers score *when they win.* Explore the distribution of this with a visualization. What does it look like? Notice any weird things? Why does it look that way? \n\nHint: You may wish to save just the winning games in a data frame called `WinningGames` and create a new variable called `MorePoints`."
    },
    {
      "cell_type": "markdown",
      "metadata": {
        "cell_id": "a6853b13bdb649f78e75328d85be0071",
        "deepnote_cell_type": "markdown",
        "tags": []
      },
      "source": "## 3.0 - Creating a Model based on the Mean"
    },
    {
      "cell_type": "markdown",
      "metadata": {
        "cell_id": "3c1117333efa48cc925be7a726bab606",
        "deepnote_cell_type": "markdown",
        "tags": []
      },
      "source": "3.1 - A word equation for a model based on the mean might be **MorePoints = Mean + Other Stuff**. Modify the GLM equation below to put in the mean for $b_0$:\n\n$$Y_i = b_0 + e_i$$"
    },
    {
      "cell_type": "markdown",
      "metadata": {
        "cell_id": "8c6a998c0fe4419cb002ec3558acb99f",
        "deepnote_cell_type": "markdown",
        "tags": []
      },
      "source": "3.2 - Add in the mean as a model of `MorePoints` into a histogram of `MorePoints` (color the mean blue). Gesture: Where would the residuals from the model be in the visualization you made? "
    },
    {
      "cell_type": "markdown",
      "metadata": {
        "cell_id": "688c9e2048d2489db21469e31fc37dd8",
        "deepnote_cell_type": "markdown",
        "tags": []
      },
      "source": "## 4.0 - Sum of Squares "
    },
    {
      "cell_type": "markdown",
      "metadata": {
        "cell_id": "0fa05f23066e4545b464a11fe2fad944",
        "deepnote_cell_type": "markdown",
        "tags": []
      },
      "source": "4.1 - This is the equation for the sum of squares (from the mean). \n\n$$\\sum (Y_i - \\bar{Y})^2$$\n\nUsing your hands/fingers, gesture on your visualization above each of the following components: $\\bar{Y}$, $Y_i$ (pick one), $Y_i - \\bar{Y}$ (pick one)--then make a square out of that distance. "
    },
    {
      "cell_type": "markdown",
      "metadata": {
        "cell_id": "1a6e5f4375c04c60a886a855b85a28ad",
        "deepnote_cell_type": "markdown",
        "tags": []
      },
      "source": "## 5.0 - Standard Deviation: A Measure of Error from the Mean"
    },
    {
      "cell_type": "markdown",
      "metadata": {
        "cell_id": "a4abe233e2d24d83b5881c179800c7a9",
        "deepnote_cell_type": "markdown",
        "tags": []
      },
      "source": "5.1 - Looking at the visualization, use your hands/fingers to gesture about how long is the longest residual? Also with your hands/fingers, gesture the shortest (absolute) residual. Gesture an \"average\" (or medium-sized) residual."
    },
    {
      "cell_type": "markdown",
      "metadata": {
        "cell_id": "5fc13c5d0fe3466b984d13b7d292f0cb",
        "deepnote_cell_type": "markdown",
        "tags": []
      },
      "source": "5.2 - Based on your gesture and the visualization alone, how big would the average residual be? "
    },
    {
      "cell_type": "markdown",
      "metadata": {
        "cell_id": "98a3098776dd48af96a9aebf5ce7de98",
        "deepnote_cell_type": "markdown",
        "tags": []
      },
      "source": "5.3 - Now run `favstats()`. Would any of those statistics correspond roughly to the idea of an \"average residual\"? Does the number seem reasonable given your estimate in the previous question?"
    },
    {
      "cell_type": "markdown",
      "metadata": {
        "cell_id": "b4fac0fb8e5c4d36b758d4c1a1bacdf6",
        "deepnote_cell_type": "markdown",
        "tags": []
      },
      "source": "5.4 - Try to come up with a strategy for estimating standard deviation just by looking at a visualization. Then try it on the visualizations below. What do you think is the standard deviation of `team_score` just from looking at the histogram? What about `field_goals_made`?"
    },
    {
      "cell_type": "code",
      "execution_count": null,
      "metadata": {
        "cell_id": "97a24df738024c3eb9a8a4e564d6de58",
        "deepnote_cell_type": "code",
        "deepnote_to_be_reexecuted": false,
        "execution_context_id": "b56594f0-2a36-4643-936c-13a935017065",
        "execution_millis": 430,
        "execution_start": 1741726156124,
        "source_hash": "961ad3d6",
        "tags": [],
        "trusted": true
      },
      "outputs": [],
      "source": "gf_histogram(~ team_score, data = Lakers, color = \"turquoise2\", fill = \"turquoise3\")"
    },
    {
      "cell_type": "code",
      "execution_count": null,
      "metadata": {
        "cell_id": "41924a2fb5d94095860291600ca92e03",
        "deepnote_cell_type": "code",
        "deepnote_to_be_reexecuted": false,
        "execution_context_id": "b56594f0-2a36-4643-936c-13a935017065",
        "execution_millis": 44,
        "execution_start": 1741726156606,
        "source_hash": "a4ba2554",
        "tags": [],
        "trusted": true
      },
      "outputs": [],
      "source": "gf_histogram(~ field_goals_made, data = MiamiHeat, color = \"tomato\", fill = \"tomato2\")"
    }
  ],
  "metadata": {
    "deepnote_notebook_id": "547c8971dae44aad81642ff7d6eb5359",
    "kernelspec": {
      "display_name": "R",
      "language": "R",
      "name": "ir"
    },
    "language_info": {
      "codemirror_mode": "r",
      "file_extension": ".r",
      "mimetype": "text/x-r-source",
      "name": "R",
      "pygments_lexer": "r",
      "version": "4.3.3"
    },
    "nbsimplegrader": {
      "publish_config": {
        "classes": [],
        "options": [],
        "tools": []
      }
    }
  },
  "nbformat": 4,
  "nbformat_minor": 1
}