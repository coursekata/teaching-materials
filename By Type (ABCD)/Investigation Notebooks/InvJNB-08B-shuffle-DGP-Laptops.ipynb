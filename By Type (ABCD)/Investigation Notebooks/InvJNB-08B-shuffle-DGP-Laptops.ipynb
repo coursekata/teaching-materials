{
  "cells": [
    {
      "cell_type": "markdown",
      "metadata": {
        "cell_id": "1eb10651adc24efcb0cd9a942208874e",
        "deepnote_cell_type": "markdown",
        "nbsimplegrader": {
          "config_key": "markdown.view-only",
          "editable": false,
          "label": "Markdown: View-Only",
          "respondable": false,
          "response": null,
          "runnable": false,
          "type": "markdown"
        }
      },
      "source": "# 8B: Does Laptop Use Distract Other Students?"
    },
    {
      "cell_type": "code",
      "execution_count": null,
      "metadata": {
        "cell_id": "169b9eea5c934f98ace6ccc3b438a3b3",
        "deepnote_cell_type": "code",
        "deepnote_to_be_reexecuted": false,
        "execution_context_id": "7aa341b7-0b35-43aa-ba21-8362514729ed",
        "execution_millis": 0,
        "execution_start": 1742588917379,
        "nbsimplegrader": {
          "config_key": "code.run-only",
          "editable": false,
          "label": "Code: Run-Only",
          "respondable": false,
          "response": null,
          "runnable": true,
          "type": "code"
        },
        "output_cleared": false,
        "owner_user_id": "23d85493-7ed1-49a4-baa7-630eaab08193",
        "source_hash": "6a39432e",
        "trusted": true
      },
      "outputs": [],
      "source": "# Load the CourseKata library\nsuppressPackageStartupMessages({\n    library(coursekata)\n    library(gridExtra)\n})"
    },
    {
      "cell_type": "markdown",
      "metadata": {
        "cell_id": "0e5ee0ac18104b0eb457bb89ceed390a",
        "deepnote_cell_type": "markdown",
        "tags": []
      },
      "source": "## Laptop Distraction Study\n\nDo you ever use your laptop to \"multitask\" during class (e.g., check social media, surf websites, shop)? Is it possible that your laptop use is affecting the other students around you? \n\nSome researchers decided to study this question with students trying to learn during a meteorology lecture. These students were randomly assigned to be seated right behind students using their laptop to multitask *or* right behind students who were taking paper notes. \n\n<img src=\"https://coursekata-course-assets.s3.us-west-1.amazonaws.com/UCLATALL/czi-stats-course/jnb_dJ1DDtFP-image.png\">\n \nAt the end of the lecture, all participants were tested on their factual comprehension of the lecture (20 questions) and their ability to apply the knowledge they learned (20 questions).\n\n#### Study information\n\nSana, F., Weston, T., & Cepeda, N. J. (2013) https://doi.org/10.1016/j.compedu.2012.10.003\n\n"
    },
    {
      "cell_type": "markdown",
      "metadata": {
        "cell_id": "9150cef7401f4e0f9de4e7580e5199f4",
        "deepnote_cell_type": "markdown",
        "tags": []
      },
      "source": "## 1.0 - The Data & Hypothesis"
    },
    {
      "cell_type": "markdown",
      "metadata": {
        "cell_id": "291bd9f5459046ebad4305754055537c",
        "deepnote_cell_type": "markdown",
        "tags": []
      },
      "source": "**1.1:** What are your thoughts about viewing other students' multitasking? Do you think it would have an effect on learning? \n"
    },
    {
      "cell_type": "markdown",
      "metadata": {
        "cell_id": "13511274d90f4c23b405695d7d92a7b2",
        "deepnote_cell_type": "markdown",
        "tags": []
      },
      "source": "**1.2:** In the cell below, take a look at the data frame `laptops`. Each row in the data frame contains data from a student participant.\n\nWhich columns should we learn more about?"
    },
    {
      "cell_type": "code",
      "execution_count": null,
      "metadata": {
        "cell_id": "f41b1003bde84644adddeba51f82acc9",
        "deepnote_cell_type": "code",
        "deepnote_to_be_reexecuted": false,
        "execution_millis": 1283,
        "execution_start": 1676160641256,
        "output_cleared": true,
        "source_hash": "d2457081",
        "tags": [],
        "trusted": true
      },
      "outputs": [],
      "source": "# Load the data frame\nlink <- \"https://docs.google.com/spreadsheets/d/e/2PACX-1vQA7gzpSepI7u5zu7JaMpxdEDNpreOGuHQlPcPx_CsONMmqGSEoU2qePuOWnVh_kErQnbnJ_eCqIzzz/pub?gid=1809544437&single=true&output=csv\"\nlaptops <- read.csv(link, header = TRUE)\n\n# Take a look at the data frame\n"
    },
    {
      "cell_type": "markdown",
      "metadata": {
        "cell_id": "92f35258d59744cb803b2c0c44420dd0",
        "deepnote_cell_type": "markdown",
        "tags": []
      },
      "source": "If you do have questions about the variables, take a look at these **variable descriptions**:\n\n- `id` ID for the participant.\n- `condition` Whether the student could see another student on a laptop multitasking (view) or not (no-view)\n- `fact` The proportion of fact-based questions answered correctly by a student.\n- `applied` The proportion of knowledge application questions answered correctly by a student.\n- `total` The proportion of all questions answered correctly by a student.\n- `age` The age of the student in years\n- `gender` Whether the student was female (1) or male (2)\n- `english_first` Whether English is the student’s first language (1) or not (2)\n- `familiarity` How much familiarity the student had with the lecture content, self-rated from none (1), to somewhat (4), to very (7)\n- `interesting` How interesting the student found the lecture content, self-rated from none (1), to somewhat (4), to very (7)\n- `engaging` How engaging the student found the lecture content, self-rated from none (1), to somewhat (4), to very (7)\n- `notes_preference` The method that the student generally prefers to take notes: pen (1), laptop (2), audio (3), or none (4)\n- `distracted` How distracted the student felt by the confederates, self-rated from not applicable(0) or none (1),  to somewhat (4), to very (7)\n- `distraction_effect` How detrimental the student felt the distraction was to their learning, self-rated from not applicable (0) or none (1), to somewhat (4), to very (7)\n\nIn addition to these variables, the quantity and quality of the notes were rated by the experimenter most familiar with the material. The experimenter did not know which condition the notes were from (i.e., they were *blind* to participants' condition) while scoring. \n\n- `notes_quantity` The amount of notes taken by the student during the lecture were rated by the most knowledgeable experimenter who did not know what condition the notes came from; experimenter-rated from few (1), to average (4), to a lot (7)\n- `notes_quality` Similar to the notes quantity, the quality of the notest taken by the student during the lecture; experimenter-rated from poor (1), to average (4), to great (7)\n\n"
    },
    {
      "cell_type": "markdown",
      "metadata": {
        "cell_id": "702c9a074a52494890fdde43e679c954",
        "deepnote_cell_type": "markdown",
        "tags": []
      },
      "source": "**1.3:** If viewing other people's laptops indeed affect students, which of the variables above might be interesting outcomes to consider? \n"
    },
    {
      "cell_type": "markdown",
      "metadata": {
        "cell_id": "89c4127c32ac413ba3355f39a87daee1",
        "deepnote_cell_type": "markdown",
        "tags": []
      },
      "source": "## 2.0 - Explore and Model Variation"
    },
    {
      "cell_type": "markdown",
      "metadata": {
        "cell_id": "4586bc8ccd674e93af5adbaa6795a5fd",
        "deepnote_cell_type": "markdown",
        "tags": []
      },
      "source": "**Hypothesis:** The researchers had predicted that `total` performance would differ based on which `condition` students were in.\n\n**2.1:** Write a word equation and modify the jitter plot below to help us explore this hypothesis. What do you think of this hypothesis from the data that you see?"
    },
    {
      "cell_type": "code",
      "execution_count": null,
      "metadata": {
        "cell_id": "b66cf268850f4c61bb85931136cb9af5",
        "deepnote_cell_type": "code",
        "deepnote_to_be_reexecuted": false,
        "execution_millis": 712,
        "execution_start": 1676160642545,
        "output_cleared": true,
        "source_hash": "873b10a8",
        "tags": [],
        "trusted": true
      },
      "outputs": [],
      "source": "#gf_jitter( ~ , data = laptops, width = .1) "
    },
    {
      "cell_type": "markdown",
      "metadata": {
        "cell_id": "71c7d8211ca74b8298c3f19e1cacdcaf",
        "deepnote_cell_type": "markdown",
        "tags": []
      },
      "source": "**2.2:** In the code cell *above*, find the best fitting model of your word equation and put it on the visualization above."
    },
    {
      "cell_type": "markdown",
      "metadata": {
        "cell_id": "1205ca8fe1cf4c3e9b7113adbc5f3580",
        "deepnote_cell_type": "markdown",
        "tags": []
      },
      "source": "**2.3:** Write your best fitting model using GLM notation and interpret the parameter estimates. \n\n$$Y_i = ... X_i+ e_i$$\n\n$$total_i = ... condition_i+ e_i$$"
    },
    {
      "cell_type": "markdown",
      "metadata": {
        "cell_id": "d0e8b2f27eae479c8dc9f24e2bd8ad8a",
        "deepnote_cell_type": "markdown",
        "tags": []
      },
      "source": "## 3.0 - Evaluate Models"
    },
    {
      "cell_type": "markdown",
      "metadata": {
        "cell_id": "b63cb93ad7d44b02961016957c48ef75",
        "deepnote_cell_type": "markdown",
        "tags": []
      },
      "source": "### Evaluate the Model Fit to the Sample Data"
    },
    {
      "cell_type": "markdown",
      "metadata": {
        "cell_id": "c68f13836ca8448b8e31d82f08a36e35",
        "deepnote_cell_type": "markdown",
        "tags": []
      },
      "source": "**3.1:** What are some ways you have learned to evaluate this model?"
    },
    {
      "cell_type": "markdown",
      "metadata": {
        "cell_id": "83c1c0d6b7764518b76bf2586667dba4",
        "deepnote_cell_type": "markdown",
        "tags": []
      },
      "source": "### Evaluate the Models of the DGP\n\nThat's great that the best fitting model explains some of the variation in *this sample of data* (e.g., PRE = .37). But, what we care about is whether viewing multi-taskers explains some of the variation in the DGP!"
    },
    {
      "cell_type": "markdown",
      "metadata": {
        "cell_id": "830597c8239f4e4bab03240915b84b35",
        "deepnote_cell_type": "markdown",
        "tags": []
      },
      "source": "**Word Equations (and GLM Models) of the DGP**\n\nHere's a word equation and model in GLM notation for the idea that `condition` has *something* to do with the variation in `total` in the DGP.\n\n- **total = condition + other stuff**\n- $total_i = \\beta_0 + \\beta_1condition_i + \\epsilon_i$\n\n**3.1:** Write a word equation and GLM notation for the idea that `condition` has *nothing* to do with the variation in `total` (it's just other stuff)."
    },
    {
      "cell_type": "markdown",
      "metadata": {
        "cell_id": "48fa3222c4a84d06886556b4bb41171e",
        "deepnote_cell_type": "markdown",
        "tags": []
      },
      "source": "**3.2:** Which DGP is being mimicked when we use the `shuffle()` function? Implement it in the plot provided below. "
    },
    {
      "cell_type": "code",
      "execution_count": null,
      "metadata": {
        "cell_id": "824a6778fff347288373429240c12ec5",
        "deepnote_cell_type": "code",
        "deepnote_to_be_reexecuted": false,
        "execution_millis": 219,
        "execution_start": 1676160643284,
        "output_cleared": true,
        "source_hash": "8c75c6a8",
        "tags": [],
        "trusted": true
      },
      "outputs": [],
      "source": "# modify this code to mimic such a DGP\n#gf_jitter(total ~ condition, data = laptops, width = .1, color = \"navyblue\") \n"
    },
    {
      "cell_type": "markdown",
      "metadata": {
        "cell_id": "6c30376d89e144a1aa55959809b879f8",
        "deepnote_cell_type": "markdown",
        "tags": []
      },
      "source": "**3.3:** How is the data from the empty model of the DGP (aka shuffle) different from the original data? "
    },
    {
      "cell_type": "markdown",
      "metadata": {
        "cell_id": "4975c465d90a4d5abdb66987a6ca3d5c",
        "deepnote_cell_type": "markdown",
        "tags": []
      },
      "source": "**3.4, Draw:** On the graph handout your instructor has printed for you, visually estimate and draw in the means for the original and shuffled data. We know the sample $b_1$ (the difference between the means) is -0.18. How do the shuffled b1s compare to the original? "
    },
    {
      "cell_type": "markdown",
      "metadata": {
        "cell_id": "783cf699974d4b73a2412a1c104a31e2",
        "deepnote_cell_type": "markdown",
        "tags": []
      },
      "source": "## 4.0 - Focus on the DGP where $\\beta_1=0$"
    },
    {
      "cell_type": "markdown",
      "metadata": {
        "cell_id": "74804044c7e84775a4d80970ece5e389",
        "deepnote_cell_type": "markdown",
        "tags": []
      },
      "source": "We saw in the graphs that most of the shuffled data have a $b_1$ close to 0. \n\nHere we want you to consider an analogy: DGPs generate data just like parents give birth to kids. The $\\beta_1$ in the DGP is the parent and the $b_1$s in these samples are the kids. The kids ($b_1$s) tend to be similar to the parent ($\\beta_1=0$)."
    },
    {
      "cell_type": "markdown",
      "metadata": {
        "cell_id": "57f68a66ea384259aa28edcefaddb778",
        "deepnote_cell_type": "markdown",
        "tags": []
      },
      "source": "**4.1:** Although the graphs were helpful for us to see that the $b_1$s are close to 0, we can skip straight to looking at the shuffled $b_1$s.\n\nRun the code below a few times. Why does one stay the same and the other change?"
    },
    {
      "cell_type": "code",
      "execution_count": null,
      "metadata": {
        "cell_id": "6137ba419017491c931732e215852ed3",
        "deepnote_cell_type": "code",
        "deepnote_to_be_reexecuted": false,
        "execution_millis": 12,
        "execution_start": 1676160644337,
        "nbsimplegrader": {
          "config_key": "code.run-only",
          "editable": false,
          "label": "Code: Run-Only",
          "respondable": false,
          "response": null,
          "runnable": true,
          "type": "code"
        },
        "output_cleared": true,
        "source_hash": "e171d5a8",
        "tags": [],
        "trusted": true
      },
      "outputs": [],
      "source": "sample_b1 <- b1(total ~ condition, data = laptops)\nsample_b1\n\nb1(shuffle(total) ~ condition, data = laptops)"
    },
    {
      "cell_type": "markdown",
      "metadata": {
        "cell_id": "523e4d0f32944651946a676e4b4854ba",
        "deepnote_cell_type": "markdown"
      },
      "source": "**4.2:** Modify the code below to generate a bunch of $b_1$s (like 10 or 20) from the DGP where $\\beta_1=0$. \n\nRecall that the sample $b_1$ in this laptops experiment was approximately -0.18. Where does the sample $b_1$ fall in relation to these shuffled $b_1$s?\n"
    },
    {
      "cell_type": "code",
      "execution_count": null,
      "metadata": {
        "cell_id": "96025589a5a94e929167732e7c388c9c",
        "deepnote_cell_type": "code",
        "deepnote_to_be_reexecuted": false,
        "execution_millis": 52,
        "execution_start": 1676160651303,
        "output_cleared": true,
        "source_hash": "b1465d40",
        "tags": [],
        "trusted": true
      },
      "outputs": [],
      "source": "b1(shuffle(total) ~ condition, data = laptops)"
    },
    {
      "cell_type": "markdown",
      "metadata": {
        "cell_id": "100e3a55e510402da8a22b05dea75d24",
        "deepnote_cell_type": "markdown",
        "tags": []
      },
      "source": "**4.3:** So what do you think about the DGP where $\\beta_1=0$? Could it have been the DGP that generated our sample $b_1$?"
    },
    {
      "cell_type": "markdown",
      "metadata": {
        "cell_id": "8ad5857e42a5449aa50ca3094172e58b",
        "deepnote_cell_type": "markdown",
        "tags": []
      },
      "source": "**4.4:** Going back to the researchers, what does this mean for their hypothesis? "
    },
    {
      "cell_type": "markdown",
      "metadata": {
        "cell_id": "2bc128bdf7c54425bdfa38c13ea29a0e",
        "deepnote_cell_type": "markdown",
        "tags": []
      },
      "source": "## 5.0 - Exploring Other Outcome Variables"
    },
    {
      "cell_type": "markdown",
      "metadata": {
        "cell_id": "864486cc76734a97bb1e7042a78bd607",
        "deepnote_cell_type": "markdown",
        "tags": []
      },
      "source": "**5.1:** There are other outcome variables in this data frame that the researchers measured. Perhaps `condition` had an effect on other outcomes as well. Develop your own hypothesis and analyze the data. \n"
    }
  ],
  "metadata": {
    "deepnote_notebook_id": "ef7a24824e5e40559ea02dec0f9a5dc0",
    "kernelspec": {
      "display_name": "R",
      "language": "R",
      "name": "ir"
    },
    "language_info": {
      "codemirror_mode": "r",
      "file_extension": ".r",
      "mimetype": "text/x-r-source",
      "name": "R",
      "pygments_lexer": "r",
      "version": "4.3.3"
    },
    "nbsimplegrader": {
      "publish_config": {
        "classes": [],
        "options": [],
        "tools": []
      }
    }
  },
  "nbformat": 4,
  "nbformat_minor": 1
}