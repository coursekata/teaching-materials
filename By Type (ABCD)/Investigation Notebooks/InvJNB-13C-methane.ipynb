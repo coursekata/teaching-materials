{
  "cells": [
    {
      "cell_type": "markdown",
      "metadata": {
        "cell_id": "eeb8ed3651584d14baa067a330f09997",
        "deepnote_cell_height": 208.71875,
        "deepnote_cell_type": "markdown",
        "tags": []
      },
      "source": "# 13C: Methane"
    },
    {
      "cell_type": "code",
      "execution_count": null,
      "metadata": {
        "cell_id": "eadeca8ab4a94f5a962eb57b4d09c141",
        "deepnote_cell_type": "code",
        "deepnote_to_be_reexecuted": false,
        "execution_millis": 1282,
        "execution_start": 1663900371428,
        "output_cleared": true,
        "source_hash": "116f7300",
        "tags": [],
        "trusted": true
      },
      "outputs": [],
      "source": "# This code will load the R packages we will use\nsuppressPackageStartupMessages({\n    library(coursekata)\n})"
    },
    {
      "cell_type": "markdown",
      "metadata": {
        "cell_id": "ba99181eecdc4293a9c8307f7f5fb577",
        "deepnote_cell_height": 234.8125,
        "deepnote_cell_type": "markdown",
        "owner_user_id": "23d85493-7ed1-49a4-baa7-630eaab08193",
        "tags": []
      },
      "source": "<img src=\"https://coursekata-course-assets.s3.us-west-1.amazonaws.com/UCLATALL/czi-stats-course/jnb_2CdHrqmS-methane-in-the-environment.jpg\" alt=\"A chimney burning methane\" width = 50%>"
    },
    {
      "cell_type": "markdown",
      "metadata": {
        "cell_id": "011b46f907ae4b8c8ce5ffc28a22b114",
        "deepnote_cell_height": 256.71875,
        "deepnote_cell_type": "markdown",
        "tags": []
      },
      "source": "## Climate and Methane\n\nA climate change skeptic chose one summer month and one winter month from each of the years 1999-2018. For each of those months, the skeptic found data on the average global temperature and atmospheric methane level. Methane is a greenshouse gas. \n\nThe sketpic claims that his data shows a **negative relationship** between methane and temperature. In other words, higher concentrations of the greenhouse gas tend to be associated with lower average global temperature. Is the climate change skeptic correct? Could this be evidence that greenhouse gases and human pollution aren't driving climate change? Let's explore."
    },
    {
      "cell_type": "markdown",
      "metadata": {
        "cell_id": "4d48e75b6cf54a9780539c08dfa51921",
        "deepnote_cell_height": 61.953125,
        "deepnote_cell_type": "markdown",
        "tags": []
      },
      "source": "### Motivating Question: Is Climate Change Real?"
    },
    {
      "cell_type": "markdown",
      "metadata": {
        "cell_id": "6f1bd9775ffa466c858f7588b1317553",
        "deepnote_cell_height": 565.828125,
        "deepnote_cell_type": "markdown",
        "tags": []
      },
      "source": "### The Dataset\n##### Description\nA climate change skeptic (non-randomly) chose one summer month and one winter month from each of the years 1999-2018. For each of those months, the skeptic found data on the average global temperature and atmospheric methane level. \n\n##### Variables\n- `year`: Year\n- `month`: Month (1 = Jan, 2 = Feb, etc.)\n- `decimal`: Month as a decimal of the year\n- `season`: Winter or Summer\n- `methane`: Atmospheric methane concentraion, parts per trillion (ppt)\n- `temp_anamoly`: Average global temperature, relative to mean temperature from 1980 - 2015, in degreese Celsius\n\n**Data Sources:**\n\n- Temperature readings from GISS/NASA: https://data.giss.nasa.gov/gistemp/graphs_v4/. Shows global temperature anamoly relative to mean temp from 1980 - 2015. \n- Methane levels from NOAA: https://gml.noaa.gov/ccgg/trends_ch4. Converted ppb to ppt (divided by 1,000). Measurements conducted monthly from 1999 - 2018.\n"
    },
    {
      "cell_type": "markdown",
      "metadata": {
        "cell_id": "d7976e054af14af3b0cab526f36f52c2",
        "deepnote_cell_height": 61.953125,
        "deepnote_cell_type": "markdown",
        "tags": []
      },
      "source": "### 1.0 - A climate skeptic's analysis"
    },
    {
      "cell_type": "markdown",
      "metadata": {
        "cell_id": "cfb8a273610441d0abfcf7f0cb0e4bfd",
        "deepnote_cell_height": 52.359375,
        "deepnote_cell_type": "markdown",
        "tags": []
      },
      "source": "**1.1 -** Download the dataset and print its head."
    },
    {
      "cell_type": "code",
      "execution_count": null,
      "metadata": {
        "cell_id": "885236905366439e9913cfb1aa126731",
        "deepnote_cell_type": "code",
        "deepnote_to_be_reexecuted": false,
        "execution_millis": 955,
        "execution_start": 1663900372740,
        "output_cleared": false,
        "source_hash": "76f9470d",
        "tags": [],
        "trusted": true
      },
      "outputs": [],
      "source": "# Read in data\ntemp_data <- read.csv(\"https://docs.google.com/spreadsheets/d/e/2PACX-1vQxO1NNRbXecdTvW8bfSlEytylLLv3jZ_ElehIakBQ157vKHQywyDs_cmyHZG9S0pjQN_SMKrAwSHEy/pub?gid=2129057940&single=true&output=csv\")\n\n# head\nhead(temp_data)"
    },
    {
      "cell_type": "markdown",
      "metadata": {
        "cell_id": "0bb71c8cc50741528e9c2f739bd74702",
        "deepnote_cell_height": 74.75,
        "deepnote_cell_type": "markdown",
        "tags": []
      },
      "source": "**1.2 -** Create a linear model, using `methane` to predict `temp_anomaly`."
    },
    {
      "cell_type": "markdown",
      "metadata": {
        "cell_id": "345b07988dba49cda64f3df8c68101a3",
        "deepnote_cell_height": 97.140625,
        "deepnote_cell_type": "markdown",
        "tags": []
      },
      "source": "**1.3 -** Is the skeptic's claim true that these two factors (temperature anamoly and methane levels) are negatively associated? How can you tell? Support your answer by interpreting the coefficient value for `methane` in your model."
    },
    {
      "cell_type": "markdown",
      "metadata": {
        "cell_id": "273714f242004b00be25f214f89d4e99",
        "deepnote_cell_height": 61.953125,
        "deepnote_cell_type": "markdown",
        "tags": []
      },
      "source": "### 2.0 - Exploring the data behind the model"
    },
    {
      "cell_type": "markdown",
      "metadata": {
        "cell_id": "939a34988e0c4fa0a4162ef2427ed14f",
        "deepnote_cell_height": 52.359375,
        "deepnote_cell_type": "markdown",
        "tags": []
      },
      "source": "**2.1 -** Visualize the relationship between temperature anamoly and methane. What do you notice?"
    },
    {
      "cell_type": "markdown",
      "metadata": {
        "cell_id": "0b5b168384444639812daf0fac5ee221",
        "deepnote_cell_height": 169.515625,
        "deepnote_cell_type": "markdown",
        "tags": []
      },
      "source": "<div class=\"alert alert-block alert-info\">\n\n<b> <font size=\"+1\">Key Question</font></b>\n\n**2.2 -** Look back at the dataset. Is there a variable that may explain the pattern you see above? Test your idea by creating a new visual or set of visuals. \n\n</div>"
    },
    {
      "cell_type": "markdown",
      "metadata": {
        "cell_id": "dd62b698cd11437c942fc0d670620370",
        "deepnote_cell_height": 97.140625,
        "deepnote_cell_type": "markdown",
        "tags": []
      },
      "source": "**2.3 -** Below, we've visualized the relationship between temperature and methane in our dataset, showing the line of best fit (used in the climate skeptic's model). Does the model fit the data well? Why does the model have a negative slope?\n"
    },
    {
      "cell_type": "code",
      "execution_count": null,
      "metadata": {
        "cell_id": "f598e2cddd7b4e27bce756732a0ee78a",
        "deepnote_cell_type": "code",
        "deepnote_to_be_reexecuted": false,
        "execution_millis": 182,
        "execution_start": 1663900374682,
        "output_cleared": false,
        "source_hash": "a53c571b",
        "tags": [],
        "trusted": true
      },
      "outputs": [],
      "source": "methane_model <- lm(temp_anomaly ~ methane, data = temp_data)\n\n# Scatterplot between methane and temp anamoly\ngf_point(temp_anomaly ~ methane, data = temp_data, color = ~season) %>%\n  gf_labs(title = \"Global Temps vs. Global Methane Concentration (1999 - 2010)\",\n    x = \"Methane Concentration (parts per trillion)\",\n    y = \"Temperature Anamoly (C), w.r.t 1980-2015 Avg Temp\") %>%\n  gf_model(methane_model)"
    },
    {
      "cell_type": "markdown",
      "metadata": {
        "cell_id": "6e4e1159c07f4dd3bc3070324b87c25e",
        "deepnote_cell_height": 191.90625,
        "deepnote_cell_type": "markdown",
        "tags": []
      },
      "source": "<div class=\"alert alert-block alert-info\">\n\n<b> <font size=\"+1\">Key Question</font></b>\n\n\n**2.4 -** Create a subset of the data that is *only* the winter months. Then, visualize the relationship between methane and temperature. What do you notice? Do the same with the summer month data. What do you notice?\n\n</div>"
    },
    {
      "cell_type": "markdown",
      "metadata": {
        "cell_id": "ab87a7fa7fbc484aade112236edb7e7a",
        "deepnote_cell_height": 61.953125,
        "deepnote_cell_type": "markdown",
        "tags": []
      },
      "source": "### 3.0 - Getting multivariate"
    },
    {
      "cell_type": "markdown",
      "metadata": {
        "cell_id": "aafd1c4cb0e945cb9707dd2051e6171a",
        "deepnote_cell_height": 191.90625,
        "deepnote_cell_type": "markdown",
        "tags": []
      },
      "source": "<div class=\"alert alert-block alert-info\">\n\n<b> <font size=\"+1\">Key Question</font></b>\n\n**3.1 -** Create and fit a model predicting temperature from methane, taking season into account. How does the coefficient value for `methane` differ from the one seen in the initial model in the notebook? Why do you think this change occurred?\n\n</div>"
    },
    {
      "cell_type": "markdown",
      "metadata": {
        "cell_id": "5c5fba83966c4d0cb6c16f420eaae8a1",
        "deepnote_cell_height": 74.75,
        "deepnote_cell_type": "markdown",
        "tags": []
      },
      "source": "**3.2 -** Create a scatterplot showing temperature as predicted by methane, and color the data according to season. Then, visualize your multiple regression fit on the graph."
    },
    {
      "cell_type": "markdown",
      "metadata": {
        "cell_id": "d73923829b584f39b38aba502bf77e09",
        "deepnote_cell_height": 74.75,
        "deepnote_cell_type": "markdown",
        "tags": []
      },
      "source": "**3.3 -** Your model had a coefficient value for `seasonwinter`. What feature of your graph does this value describe?"
    },
    {
      "cell_type": "markdown",
      "metadata": {
        "cell_id": "8d2239cefb1e412080ddc4ce8b1e88eb",
        "deepnote_cell_height": 170.71875,
        "deepnote_cell_type": "markdown",
        "tags": []
      },
      "source": "<div class=\"alert alert-block alert-info\">\n\n<b> <font size=\"+1\">Key Question</font></b>\n\n\n3.4 - What feature of your graph does the `methane` coefficient describe? How does its value contradict the claim made by the climate change skeptic?\n\n</div>"
    },
    {
      "cell_type": "markdown",
      "metadata": {
        "cell_id": "b97b37632e6b4c5e9d7b69589c6ae257",
        "deepnote_cell_height": 74.75,
        "deepnote_cell_type": "markdown",
        "tags": []
      },
      "source": "**3.5 -** Which model is more convincing: The skeptic's single-predictor model or the multivariate model? Provide evidence using the visualizations created above and supernova tables."
    }
  ],
  "metadata": {
    "deepnote_notebook_id": "719b6664bc024e45b22661a0df11c034",
    "kernelspec": {
      "display_name": "R",
      "language": "R",
      "name": "ir"
    },
    "language_info": {
      "codemirror_mode": "r",
      "file_extension": ".r",
      "mimetype": "text/x-r-source",
      "name": "R",
      "pygments_lexer": "r",
      "version": "4.3.3"
    },
    "nbsimplegrader": {
      "publish_config": {
        "classes": [],
        "options": [],
        "tools": []
      }
    }
  },
  "nbformat": 4,
  "nbformat_minor": 1
}