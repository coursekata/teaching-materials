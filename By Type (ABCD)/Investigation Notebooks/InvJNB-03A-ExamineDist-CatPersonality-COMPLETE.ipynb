{
  "cells": [
    {
      "cell_type": "markdown",
      "metadata": {
        "cell_id": "416de7f8c286493c91904159dd81f6b1",
        "deepnote_cell_height": 133.953125,
        "deepnote_cell_type": "markdown"
      },
      "source": "<div class=\"alert alert-block alert-danger\">\n\n# 3A: Are cats friendly? Inquisitive? Eccentric? Cat personality data \n\n**Lesson assumes students have read up through page: 3.4**\n\n**Use with textbook version 6.0+** \n\n</div>"
    },
    {
      "cell_type": "markdown",
      "metadata": {
        "cell_id": "f0b3bf92618348ad85d1fba0be8844b1",
        "deepnote_cell_type": "markdown"
      },
      "source": "<div class=\"alert alert-block alert-warning\">\n\n#### Summary of Notebook:\n\nStudents view a dataset and make histograms with variables of their choosing. \n\n#### Includes:\n\n- Practice viewing data and choosing variables to work with. \n- Making histograms. \n- Interpreting shape, center, and spread from histograms. \n</div>"
    },
    {
      "cell_type": "markdown",
      "metadata": {
        "cell_id": "79e1e4827eae486b9e5163a8b59c1d3c",
        "deepnote_cell_type": "markdown"
      },
      "source": "<div class=\"alert alert-block alert-success\">\n\n## Approximate time to complete Notebook: 45 Mins\n\n</div>"
    },
    {
      "cell_type": "code",
      "execution_count": null,
      "metadata": {
        "cell_id": "afcf802f55424627964d9b682da762d8",
        "deepnote_cell_type": "code",
        "execution_context_id": "84de5b4b-a652-4491-b4a2-418d70997ac1",
        "execution_millis": 8370,
        "execution_start": 1740098229350,
        "source_hash": "9a41670",
        "trusted": true
      },
      "outputs": [],
      "source": "# This code will load the R packages we will use\nsuppressPackageStartupMessages({\n    library(coursekata)\n})\n\n# This code loads the data \ncats <- read.csv(\"https://docs.google.com/spreadsheets/d/1e-RUOA43HE1sfA1xBB5FxqrdWDQzlHc_C3C13o84CAM/pub?gid=137548426&single=true&output=csv\")"
    },
    {
      "cell_type": "markdown",
      "metadata": {
        "cell_id": "094ad5edb4364170981cb4e985c0acc4",
        "deepnote_cell_type": "markdown"
      },
      "source": "## 1.0 - The personality of pet cats\n\nCollected from Australia and New Zealand, this dataset contains cat owners' measures about their cat’s personality, including information on the age and sex of the cat. \n\nThe personality measure has 52 items that each contain a personality characteristic and participants were asked to rate the extent their cat demonstrated that characteristic on a seven-point scale (from 1 - Not at all to 7 - Very much so). "
    },
    {
      "cell_type": "markdown",
      "metadata": {
        "cell_id": "278be993cdb040a582b1fb6b20418690",
        "deepnote_cell_type": "markdown"
      },
      "source": "1.1 - Explore the data \n\nYou've learned a few other methods of looking at your data. Try some of those out here. "
    },
    {
      "cell_type": "code",
      "execution_count": null,
      "metadata": {
        "cell_id": "250bf4700c1b416ea43eecbd07508357",
        "deepnote_cell_type": "code",
        "trusted": true
      },
      "outputs": [],
      "source": "#try a few different ways of looking at the data here \n\nhead(cats)\n\ntail(cats)\n\nstr(cats)"
    },
    {
      "cell_type": "markdown",
      "metadata": {
        "cell_id": "26cdfcd76d474eaa896b8f021dead94e",
        "deepnote_cell_type": "markdown"
      },
      "source": "<div class=\"alert alert-block alert-warning\">\n\n**To instructors**\n    \nSome options for looking at the data include looking at the whole dataset with `cats`, or using head() tail() str(). glimpse() is similar to str(). \n\n</div>"
    },
    {
      "cell_type": "markdown",
      "metadata": {
        "cell_id": "37c3797968ca4e66b2e86510e2f6b9be",
        "deepnote_cell_type": "markdown"
      },
      "source": "1.2 - Describe the data \n\nWhat are the cases in the data frame and how many are there? "
    },
    {
      "cell_type": "markdown",
      "metadata": {
        "cell_id": "0cf5d6b3874d412e86d58588b0bf45a5",
        "deepnote_cell_type": "markdown"
      },
      "source": "<div class=\"alert alert-block alert-warning\">\n\n**Sample response**\n    \nThere are 2802 cases in the data frame and they are individual pet cats. \n\n</div>"
    },
    {
      "cell_type": "markdown",
      "metadata": {
        "cell_id": "4fcf722349d44fbf8ed90e6b4973c31e",
        "deepnote_cell_type": "markdown"
      },
      "source": "1.3 - Describe the variables\n\nWhat are a few examples of variables are included in this data?"
    },
    {
      "cell_type": "markdown",
      "metadata": {
        "cell_id": "5524af5661eb47ccafa0c3727c3f0be4",
        "deepnote_cell_type": "markdown"
      },
      "source": "<div class=\"alert alert-block alert-warning\">\n    \n**Sample response**\n    \nSome of the variables includes Cat ID, a set of personality variables such as smart, solitary, independent, greedy, and vocal. There are also variables for what country the data was collected (Australia and New Zealand) and the sex of the cat. \n\n</div>"
    },
    {
      "cell_type": "markdown",
      "metadata": {
        "cell_id": "6bc0efbba4fd49e3a65c53e1839bfe7b",
        "deepnote_cell_type": "markdown"
      },
      "source": "1.4 - What have you learned about the data set?"
    },
    {
      "cell_type": "markdown",
      "metadata": {
        "cell_id": "5dc9f56a78664a28aedd1fa032540e8f",
        "deepnote_cell_type": "markdown"
      },
      "source": "<div class=\"alert alert-block alert-success\">\n\n### 2.0 - Approximate Time:  10 minutes\n\n</div>"
    },
    {
      "cell_type": "markdown",
      "metadata": {
        "cell_id": "22b74ae253f3443d8876f4499e3fd6b1",
        "deepnote_cell_type": "markdown"
      },
      "source": "## 2.0 - Choosing variables"
    },
    {
      "cell_type": "markdown",
      "metadata": {
        "cell_id": "d20e2c17d9264366bb1355b80b5992f8",
        "deepnote_cell_type": "markdown"
      },
      "source": "2.1 - What are some interesting personality variables you see? \n\nChoose 3 personality variables that look intersting to you and write them down below. Are you surprised some of these variables are included? "
    },
    {
      "cell_type": "markdown",
      "metadata": {
        "cell_id": "19b4dc62673646d0b146f4ea6fd4f6e1",
        "deepnote_cell_type": "markdown"
      },
      "source": "<div class=\"alert alert-block alert-warning\">\n\n**Sample response**\n    \nI chose gentle, clumsy, and independent. \n    \nI'm surprised independent is included because I wouldn't usually think of that as a cat personality trait. \n\n    \n**To instructors** \n    \nThe data set includes 52 personality measures so students can choose any they would like to work with. You may also choose to discuss some of the \"weirder\" measures such as individualistic, cool, decisive, inventive, etc. This could lead to a discussion about how owners might have a harder time rating their cats on some of these measures than others (what might owners answer if they have a hard time with the rating? 0? Somewhere in the middle?). \n\n</div>"
    },
    {
      "cell_type": "markdown",
      "metadata": {
        "cell_id": "c50789cbfbac414a90b45dc2d0696719",
        "deepnote_cell_type": "markdown"
      },
      "source": "<div class=\"alert alert-block alert-success\">\n\n### 3.0 - Approximate Time:  15-20 mins\n\n</div>"
    },
    {
      "cell_type": "markdown",
      "metadata": {
        "cell_id": "1694e4b89b0d48dab0f01310499060d7",
        "deepnote_cell_type": "markdown"
      },
      "source": "## 3.0 - Examining distributions using histograms"
    },
    {
      "cell_type": "markdown",
      "metadata": {
        "cell_id": "44736bf85c664209adf0bc0b58ade587",
        "deepnote_cell_type": "markdown"
      },
      "source": "3.1 - ***Create histograms***\n\nUse the histogram code you learned to create histograms from your chosen variables. "
    },
    {
      "cell_type": "code",
      "execution_count": null,
      "metadata": {
        "cell_id": "f9f3f91eaf0940ac98a6d2e38f08f0ec",
        "deepnote_cell_type": "code",
        "deepnote_to_be_reexecuted": false,
        "execution_millis": 546,
        "execution_start": 1726259153251,
        "source_hash": null,
        "trusted": true
      },
      "outputs": [],
      "source": "#Make your histograms here\n#Here is some code to get you started \n\ngf_histogram(~Gentle, data=cats)\ngf_histogram(~Clumsy, data=cats)\ngf_histogram(~Impulsive, data=cats)"
    },
    {
      "cell_type": "markdown",
      "metadata": {
        "cell_id": "fe0e606a9c404f07b8e4f069b99e153a",
        "deepnote_cell_type": "markdown"
      },
      "source": "<div class=\"alert alert-block alert-warning\">\n    \n**To instructors** \n    \nStudents can choose any three personality variables. In the student version of this notebook, we give students a little bit of the histogram code to get them started. This may be a good opportunity to check in with students regarding their use of notes or a cheatsheet where they are keeping track of the code they learn. \n\n</div>"
    },
    {
      "cell_type": "markdown",
      "metadata": {
        "cell_id": "9d82f227348543b58c6cc5eb9782cc7d",
        "deepnote_cell_type": "markdown"
      },
      "source": "3.2 - ***Modify the histograms***\n\nDid you notice something weird about the histograms? Why are the bars so far apart? \n\nTry using the `bins =` argument to modify your histograms so that bars are touching. Carefully consider the number of bins they should have. "
    },
    {
      "cell_type": "code",
      "execution_count": null,
      "metadata": {
        "cell_id": "3c7650374be843e78880249fa1566b82",
        "deepnote_cell_type": "code",
        "execution_context_id": "84de5b4b-a652-4491-b4a2-418d70997ac1",
        "execution_millis": 2020,
        "execution_start": 1740098255824,
        "source_hash": "d2551748",
        "trusted": true
      },
      "outputs": [],
      "source": "#use this cell to modify your histograms\ngf_histogram(~Gentle, data=cats, bins=7)\ngf_histogram(~Clumsy, data=cats, bins=7)\ngf_histogram(~Impulsive, data=cats, bins=7)"
    },
    {
      "cell_type": "markdown",
      "metadata": {
        "cell_id": "7a88bd58ac2b4c45914ea96ddf3202a0",
        "deepnote_cell_type": "markdown"
      },
      "source": "<div class=\"alert alert-block alert-warning\">   \n    \n**To instructors**\n\nYou can have a discussion with students about the differences they see in the previous versions of the histograms and these versions. You can discuss why the previous histograms had spaces in between (the scale is discreet - what is a discreet scale?), and why it is best that we use 7 bins (you can even have them play with changing the bin number and examine what happens, how it changes how we might interpret them). \n\n</div>"
    },
    {
      "cell_type": "markdown",
      "metadata": {
        "cell_id": "a87f5b0d8b0d468fb2c5929e38ccd76c",
        "deepnote_cell_type": "markdown"
      },
      "source": "3.3 - ***Examine the histograms*** \n\nWhat is the shape of each histogram? What about the center and the spread?  "
    },
    {
      "cell_type": "markdown",
      "metadata": {
        "cell_id": "f13db0238dca40518cc32ed75c881385",
        "deepnote_cell_type": "markdown"
      },
      "source": "<div class=\"alert alert-block alert-warning\">\n\n**Sample response**\n    \nFor gentle - the center is probably higher because a lot of cats were rated on the higher end of the scale. So, maybe it is around 5. The spread is from 1-7 but most cats were rated 5-7. \n\nFor clumsy - the center is probably lower because a lot of cats were rated on the lower end of the scale. Maybe it is around 2-3. The spread is from 1-7 but most cats were rated 1-2. \n    \nFor impulsive - the center is probably somewhere near the middle or a little lower than the middle of the scale because the ratings 1-5 are pretty equal and 6-7 are less popular. For spread I would say this one has more spread because the rating 1-5 were so even and a lot of people rated their cats pretty evenly between those ratings.     \n    \n    \n**To instructors**\n\nHistograms may be normal, left skewed, right skewed, unimodal, bimodal, uniform, etc. \n    \nYou can also help students try to estimate the center of each of their histograms. \n    \nFor spread, students may point to the histograms having the same range (1-7). Some histograms may be concentrated around a particular score (less spread), while others may have the values more evenly spread through the range (more spread). \n\n</div>"
    },
    {
      "cell_type": "markdown",
      "metadata": {
        "cell_id": "21493a75be1d43d7822807ac3277de02",
        "deepnote_cell_type": "markdown"
      },
      "source": "3.4 - ***Compare distributions***\n\nBased on your answers to your questions above, what does the shape of each histogram tell you about the personalities of cats? Try comparing them to each other based on the shape of each distribution. "
    },
    {
      "cell_type": "markdown",
      "metadata": {
        "cell_id": "aac3a3a7067144b9a8934754f8668f3e",
        "deepnote_cell_type": "markdown"
      },
      "source": "<div class=\"alert alert-block alert-warning\">\n\n**Sample response**\n\nMy histogram for gentle was left skewed, so this means cats were more likely to be rated in the higher end of the scale for this trait. Most cats in the data set were rated on the highe end - so maybe cats are pretty gentle! \n    \nThe one for clumsy was the opposite. A lot of pet owners rated their cats low on this trait, so cats aren't very clumsy. \n    \nLastly, the histogram for impulsive was uniform through options scores 1-5. So for this trait, we can say that cats are somewhere in the middle. \n    \n**To instructors**\n    \nAnswers will be dependent on their chosen variables. \n\n</div>"
    }
  ],
  "metadata": {
    "deepnote_notebook_id": "2bed1c6c0a1b44efa55cffc46505dc02",
    "kernelspec": {
      "display_name": "R",
      "language": "R",
      "name": "ir"
    },
    "language_info": {
      "codemirror_mode": "r",
      "file_extension": ".r",
      "mimetype": "text/x-r-source",
      "name": "R",
      "pygments_lexer": "r",
      "version": "4.3.3"
    },
    "nbsimplegrader": {
      "publish_config": {
        "classes": [],
        "options": [],
        "tools": []
      }
    }
  },
  "nbformat": 4,
  "nbformat_minor": 1
}