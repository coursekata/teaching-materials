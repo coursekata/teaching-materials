{
  "cells": [
    {
      "cell_type": "markdown",
      "metadata": {
        "cell_id": "d1c10b53250244e097fe1e40d00a3bbf",
        "deepnote_cell_type": "markdown",
        "tags": []
      },
      "source": "<div class=\"alert alert-block alert-danger\">\n\n\n# 15B: Does it pay to run in football?\n\n\n**Use with textbook version 6.0+**\n\n\n**Lesson assumes students have read up through page: 15.8**\n\n\n\n\n</div>\n"
    },
    {
      "cell_type": "code",
      "execution_count": null,
      "metadata": {
        "cell_id": "673c283f1fbd451e97e0cc17e5c3b3a1",
        "deepnote_cell_type": "code",
        "deepnote_to_be_reexecuted": false,
        "execution_millis": 6637,
        "execution_start": 1685835832307,
        "output_cleared": false,
        "source_hash": "f2661a2",
        "tags": [],
        "trusted": true
      },
      "outputs": [],
      "source": "# This code will load the R packages we will use\nsuppressPackageStartupMessages({\n    library(coursekata)\n})\n\nnfl_salary <- read.csv(\"https://docs.google.com/spreadsheets/d/e/2PACX-1vQ6ZcO9y6f23HWKRUe8IKlYFUFhDw5trtNlyJJj7bI7aKVstNJJcsi_bwuEsb-vSPUwUz0diRa_JOKL/pub?gid=1297158575&single=true&output=csv\")[,-1]\n"
    },
    {
      "cell_type": "markdown",
      "metadata": {
        "cell_id": "21d07c1975074644b344463e6649f084",
        "deepnote_cell_type": "markdown",
        "deepnote_to_be_reexecuted": false,
        "execution_millis": 4,
        "execution_start": 1674841699980,
        "source_hash": "b623e53d",
        "tags": []
      },
      "source": "## About the Data\n\nThe dataset `nfl_salary` contains data from [Spotrac.com](Spotrac.com) and used by [fivethirtyeight](https://fivethirtyeight.com/features/running-backs-are-finally-getting-paid-what-theyre-worth/). Each row represents a particular position in American football in a particular year. \n\n- `year` Ranges from 2011-18.\n- `salary` The average salary for the 16 highest-paid players in each position that year.\n- `position` The NFL position: \n    - QB = Quarterback\n    - RB = Running Back\n    - S = Safety\n    - ST = Special Teamer \n    - TE = Tight End \n    - WR = Wide Receiver \n    - CB = Cornerback \n    - DL = Defensive Lineman, \n    - LB = Linebacker\n    - OL = Offensive Lineman"
    },
    {
      "cell_type": "markdown",
      "metadata": {
        "cell_id": "cc8112e4fdce40b9be61ad264ab18926",
        "deepnote_cell_type": "markdown",
        "tags": []
      },
      "source": "## 1.0 - Explore Variation"
    },
    {
      "cell_type": "markdown",
      "metadata": {
        "cell_id": "49c57a88581b43738fae7fe05df0795a",
        "deepnote_cell_type": "markdown",
        "tags": []
      },
      "source": "1.1 - First, take a moment to explore the data frame (look at whatever you are curious about!). "
    },
    {
      "cell_type": "markdown",
      "metadata": {
        "cell_id": "aa2ce33339104dccab9ed5a2d2940f7c",
        "deepnote_cell_type": "markdown",
        "tags": []
      },
      "source": "1.2 - Does the salary of the highest paid players vary by year? Does it vary by position? Write a word equation that proposes that salaries vary by both year and position."
    },
    {
      "cell_type": "markdown",
      "metadata": {
        "cell_id": "6888a0b4b3254ae5b295f222c563a10f",
        "deepnote_cell_type": "markdown"
      },
      "source": "1.3 - Make a visualization to explore your hypothesis."
    },
    {
      "cell_type": "code",
      "execution_count": null,
      "metadata": {
        "cell_id": "0649740222cf4ae58f9883be87751665",
        "deepnote_cell_type": "code",
        "deepnote_to_be_reexecuted": false,
        "execution_millis": 1113,
        "execution_start": 1685835838984,
        "source_hash": "b64e0115",
        "trusted": true
      },
      "outputs": [],
      "source": "# Sample Responses\n\ngf_jitter(salary ~ year, data = nfl_salary, color = ~position, size = .3) %>%\n  gf_facet_wrap(~ position)"
    },
    {
      "cell_type": "markdown",
      "metadata": {
        "cell_id": "089b0c63fcba4d51bd140bd6a3102d14",
        "deepnote_cell_type": "markdown",
        "tags": []
      },
      "source": "## 2.0 - Running Backs versus Quarterbacks"
    },
    {
      "cell_type": "markdown",
      "metadata": {
        "cell_id": "0c19007b99514b6a938ef733d5c1fe44",
        "deepnote_cell_type": "markdown"
      },
      "source": "2.1 - To simplify our models a bit, let's zoom in on running backs and quarterbacks. Create a data set with data only for running backs and quarterbacks. \n\nRe-make your visualization with your new smaller data set."
    },
    {
      "cell_type": "code",
      "execution_count": null,
      "metadata": {
        "cell_id": "cd9fc215fa564eb4a477fa08d15c4b94",
        "deepnote_cell_type": "code",
        "deepnote_to_be_reexecuted": false,
        "execution_millis": 346,
        "execution_start": 1685835840091,
        "source_hash": "79a9c2eb",
        "trusted": true
      },
      "outputs": [],
      "source": "# Sample Responses\n\nnfl2 <- filter(nfl_salary, position == \"QB\" | position == \"RB\")\n\ngf_jitter(salary ~ year, data = nfl2, color = ~position) %>%\n  gf_facet_wrap(~ position)"
    },
    {
      "cell_type": "markdown",
      "metadata": {
        "cell_id": "bf2d434b104547c88e182166330825ed",
        "deepnote_cell_type": "markdown"
      },
      "source": "2.2 - Which do you think will be a better model for this data: additive or interaction? Why?"
    },
    {
      "cell_type": "markdown",
      "metadata": {
        "cell_id": "c1120dfde1fc4045a6999994cb9421c0",
        "deepnote_cell_type": "markdown"
      },
      "source": "<div class=\"alert alert-block alert-warning\">\n\n**Sample Responses:**\n\nAn additive model made of parallel lines would not fit this data as well as an interaction model with lines that have different slopes -- one more positive and steep, one more flat.\n\n</div>"
    },
    {
      "cell_type": "markdown",
      "metadata": {
        "cell_id": "191a99a1df384eba82b51b6e7675c6d1",
        "deepnote_cell_type": "markdown"
      },
      "source": "## 3.0 - Model Data"
    },
    {
      "cell_type": "markdown",
      "metadata": {
        "cell_id": "8e7d34ab0d694f4a90bfd3842dcf21d8",
        "deepnote_cell_type": "markdown",
        "tags": []
      },
      "source": "3.1 - Fit the model that would be a better fit for this data. Add it to your visualization. "
    },
    {
      "cell_type": "code",
      "execution_count": null,
      "metadata": {
        "cell_id": "8655ed2de0414a9bb15498b8ce024d81",
        "deepnote_cell_type": "code",
        "deepnote_to_be_reexecuted": false,
        "execution_millis": 427,
        "execution_start": 1685835840435,
        "source_hash": "97c7317a",
        "trusted": true
      },
      "outputs": [],
      "source": "# Sample Responses\n\nint_model <- lm(salary ~ year * position, data = nfl2)\n\ngf_jitter(salary ~ year, data = nfl2, color = ~position) %>%\n  gf_facet_wrap(~ position) %>%\n  gf_model(int_model)"
    },
    {
      "cell_type": "markdown",
      "metadata": {
        "cell_id": "31fa3db97f154a7eb84929792c670f98",
        "deepnote_cell_type": "markdown",
        "tags": []
      },
      "source": "3.2a - Express the best fitting model in GLM notation."
    },
    {
      "cell_type": "code",
      "execution_count": null,
      "metadata": {
        "cell_id": "09426aae389c4e4a9d1e57189302bc4b",
        "deepnote_cell_type": "code",
        "deepnote_to_be_reexecuted": false,
        "execution_millis": 12,
        "execution_start": 1685835840851,
        "source_hash": "67ecd908",
        "trusted": true
      },
      "outputs": [],
      "source": "# Sample Responses\n\nint_model"
    },
    {
      "cell_type": "markdown",
      "metadata": {
        "cell_id": "24161a1bb533400a934cd88ef2b79bf2",
        "deepnote_cell_type": "markdown"
      },
      "source": "<div class=\"alert alert-block alert-warning\">\n\n**Sample Responses:**\n\n$salary_i = -3556.414 + 1.774year_i + 3832.565positionRB_i + -1.908year_i*positionRB_i$\n\n\n</div>"
    },
    {
      "cell_type": "markdown",
      "metadata": {
        "cell_id": "e5cb2ecc29a149ef9d7c6dfc48b656c6",
        "deepnote_cell_type": "markdown"
      },
      "source": "3.2b - Take that equation and parse it into two separate equations, one representing the model for QB salaries and the other representing the model for RB salaries."
    },
    {
      "cell_type": "markdown",
      "metadata": {
        "cell_id": "c2a5bec4edf4436197cd69f0e41d19c5",
        "deepnote_cell_type": "markdown"
      },
      "source": "<div class=\"alert alert-block alert-warning\">\n\n**Sample Responses:**\n\nThe way to get to these is by assuming the value of $positionRB_i$ is 0 (for quarterback model) or 1 (for running back model).\n\n- QB: $salary_i = -3556.414 + 1.774year_i + 3832.565*0 + -1.908year_i*0$\n- RB: $salary_i = -3556.414 + 1.774year_i + 3832.565*1 + -1.908year_i*1$\n\nTo write it more simply: \n\n- QB: $salary_i = -3556.414 + 1.774year_i$\n- RB: $salary_i = -3556.414 + 1.774year_i + 3832.565 + -1.908year_i$\n\nBy combining like terms, we can simplify the RB equation into:\n\n- RB: $salary_i = 276.151 + -0.134year_i$\n\n\n\n</div>"
    },
    {
      "cell_type": "code",
      "execution_count": null,
      "metadata": {
        "cell_id": "0c144934bec0451f9ea4d68f8083d816",
        "deepnote_cell_type": "code",
        "deepnote_to_be_reexecuted": false,
        "execution_millis": 10,
        "execution_start": 1685835840860,
        "source_hash": "f295111c",
        "trusted": true
      },
      "outputs": [],
      "source": "# using R as a calculator to simplify RB equation\n-3556.414 + 3832.565 \n1.774 -1.908"
    },
    {
      "cell_type": "markdown",
      "metadata": {
        "cell_id": "24542fb9393745cab0b03a9333f47581",
        "deepnote_cell_type": "markdown"
      },
      "source": "3.3 - Interpret the slope for the model of RB salaries. What does it mean? "
    },
    {
      "cell_type": "markdown",
      "metadata": {
        "cell_id": "17a798dc0b164848b1a08639d328edb6",
        "deepnote_cell_type": "markdown"
      },
      "source": "<div class=\"alert alert-block alert-warning\">\n\n**Sample Responses:**\n\n- The negative slope is also seen in the RB line in the visualization; predicted salary decreasing over time.\n- For each year, there is a change of -0.134 million dollars in predicted salary for running backs.\n\nTeachers may want to compare briefly to the positive slope for quarterback salaries: for each year, there is a change of 1.774 million dollars in predicted salary. Quite a difference in what is happening to salaries over time.\n</div>"
    },
    {
      "cell_type": "markdown",
      "metadata": {
        "cell_id": "a339c49abc474e449c5ac93294927c08",
        "deepnote_cell_type": "markdown",
        "tags": []
      },
      "source": "## 4.0 - Is the interaction model better?"
    },
    {
      "cell_type": "markdown",
      "metadata": {
        "cell_id": "d5c3a7879035405184152e95b6edf0de",
        "deepnote_cell_type": "markdown"
      },
      "source": "In the visualization below, you can view either the interaction model (in black) or the additive model (in red). In this section, we're going to try and answer: **how much better is the interaction model than the additive model at explaining variation in salary?**"
    },
    {
      "cell_type": "code",
      "execution_count": null,
      "metadata": {
        "cell_id": "f8ef27b454da47fbb4e004478a99c8e8",
        "deepnote_cell_type": "code",
        "deepnote_to_be_reexecuted": false,
        "execution_millis": 332,
        "execution_start": 1685835840915,
        "source_hash": "e3698615",
        "trusted": true
      },
      "outputs": [],
      "source": "add_model <- lm(salary ~ year + position, data = nfl2)\n\ngf_jitter(salary ~ year, data = nfl2, color = ~position) %>%\n  gf_facet_wrap(~ position) %>%\n  gf_model(int_model, color = \"black\") \n#  gf_model(add_model, color = \"red\")"
    },
    {
      "cell_type": "markdown",
      "metadata": {
        "cell_id": "d5b6f6cefe67443dafecaadd3a4d8246",
        "deepnote_cell_type": "markdown"
      },
      "source": "4.1 - Generate an ANOVA table to help us evaluate the interaction model against the additive model."
    },
    {
      "cell_type": "code",
      "execution_count": null,
      "metadata": {
        "cell_id": "667f417693fb4d8d9f7b2c03c936c7be",
        "deepnote_cell_type": "code",
        "deepnote_to_be_reexecuted": false,
        "execution_millis": 34,
        "execution_start": 1685835841243,
        "source_hash": "4f326fa2",
        "trusted": true
      },
      "outputs": [],
      "source": "supernova(int_model)\n"
    },
    {
      "cell_type": "markdown",
      "metadata": {
        "cell_id": "bc7d1e4157d1421683164cf66a1603c1",
        "deepnote_cell_type": "markdown"
      },
      "source": "<div class=\"alert alert-block alert-warning\">\n\n**Sample Responses:**\n\nSome students may generate the ANOVA table for both additive and interaction model but one key insight is that the interaction table has within it a comparison to the additive model (the `year:position` row).\n\nYou may want to show the ANOVA table for the interaction model and ask, \"Which line of the ANOVA table shows us the model comparison between the interaction model and the additive model?\"\n\n</div>"
    },
    {
      "cell_type": "code",
      "execution_count": null,
      "metadata": {
        "cell_id": "5f81fcbff926470b97501ce872d5a6b1",
        "deepnote_cell_type": "code",
        "deepnote_to_be_reexecuted": false,
        "execution_millis": 2,
        "execution_start": 1685835841319,
        "source_hash": "33ea3f1",
        "trusted": true
      },
      "outputs": [],
      "source": "# if students need a hint, they can use the generate_models() function\ngenerate_models(int_model)"
    },
    {
      "cell_type": "markdown",
      "metadata": {
        "cell_id": "a96af73c8aba4fb69db96786a69c305d",
        "deepnote_cell_type": "markdown"
      },
      "source": "4.2 - How much more error is explained by adding the interaction term ($year_i*positionRB_i$) to the additive model?"
    },
    {
      "cell_type": "markdown",
      "metadata": {
        "cell_id": "584c216cf58d459984d764f7eac063dc",
        "deepnote_cell_type": "markdown"
      },
      "source": "<div class=\"alert alert-block alert-warning\">\n\n**Sample Responses:**\n\nStudents can answer this by appealing to SS, PRE, or F:\n- 1223 squared millions of dollars\n- 34% (or .34) of the error\n- 129 times more variance is explained by this term than the error variance\n\n</div>"
    },
    {
      "cell_type": "markdown",
      "metadata": {
        "cell_id": "8a83a5dc06804d5da09cc70f76a9e661",
        "deepnote_cell_type": "markdown"
      },
      "source": "4.3 - The PREs for the whole interaction model is .78 and the PRE for the additive model is .67. The difference between these two numbers is not .34. Why not?"
    },
    {
      "cell_type": "code",
      "execution_count": null,
      "metadata": {
        "cell_id": "061bc470fe874b6bbd78a3f3b3fc7fab",
        "deepnote_cell_type": "code",
        "deepnote_to_be_reexecuted": false,
        "execution_millis": 49,
        "execution_start": 1685835841320,
        "source_hash": "402f07e3",
        "trusted": true
      },
      "outputs": [],
      "source": "# if you want to look at the PRE's yourself\nsupernova(int_model)\nsupernova(add_model)"
    },
    {
      "cell_type": "markdown",
      "metadata": {
        "cell_id": "10dfe7f733f54c7c8498b87e3214ad09",
        "deepnote_cell_type": "markdown"
      },
      "source": "<div class=\"alert alert-block alert-warning\">\n\n**Sample Responses:**\n\n- The PREs for the whole model (either interaction or additive) use the SS Total as the denominator (11,129).\n- The PRE for the `year:position` row uses a completely different denominator. This denominator takes out any parts that are explained by `year` alone and `position` alone. Thus the denominator is not SS Total; instead it is the sum of SS Error (2399) and the SS reduced by that interaction term (1223). \n\n</div>"
    },
    {
      "cell_type": "code",
      "execution_count": null,
      "metadata": {
        "cell_id": "0d5eb0b14b3a4192bd795cd7fce0469f",
        "deepnote_cell_type": "code",
        "deepnote_to_be_reexecuted": false,
        "execution_millis": 3,
        "execution_start": 1685835841366,
        "source_hash": "9843991c",
        "trusted": true
      },
      "outputs": [],
      "source": "# Complete version\n# how the interaction row's PRE is calculated\n1223.017 / (1223.017 + 2399.392)"
    },
    {
      "cell_type": "markdown",
      "metadata": {
        "cell_id": "04f1dba4fe124258a238350676dda00d",
        "deepnote_cell_type": "markdown"
      },
      "source": "4.4 - Going beyond the data now, why are running backs salaries changing in a way that is **so different** from quarterback salaries? "
    },
    {
      "cell_type": "markdown",
      "metadata": {
        "cell_id": "e4274ea7f44149958db3e23e95410460",
        "deepnote_cell_type": "markdown"
      },
      "source": "<div class=\"alert alert-block alert-warning\">\n\nThis is for students to bring in their knowledge of football into the discussion.\n\nIf you have students who want to read further about fivethirtyeight's hypotheses about this, you can refer them to this article: https://fivethirtyeight.com/features/running-backs-are-finally-getting-paid-what-theyre-worth/\n\n</div>"
    },
    {
      "cell_type": "markdown",
      "metadata": {
        "cell_id": "f6d5ef4a919f4b5392908f341a11a211",
        "deepnote_cell_type": "markdown",
        "tags": []
      },
      "source": "## 5.0, Bonus - Why is there a negative b0?"
    },
    {
      "cell_type": "markdown",
      "metadata": {
        "cell_id": "7896aeac6370425ba78831c1812e123d",
        "deepnote_cell_type": "markdown"
      },
      "source": "Let's examine the two lines that represent the interaction model again:\n\nQB: $salary_i = -3556.414 + 1.774year_i$\n\nRB: $salary_i = 276.151 + -0.134year_i$\n\n5.1 - Why is the $b_0$ for quarterback salary negative?"
    },
    {
      "cell_type": "markdown",
      "metadata": {
        "cell_id": "72dea4cd22f6456ca7a07d71ef14e482",
        "deepnote_cell_type": "markdown"
      },
      "source": "<div class=\"alert alert-block alert-warning\">\n\n**Sample Responses:**\n\nBecause $b_0$ is the salary when year is 0 (and the NFL wasn't around over 2000 years ago), this number is ridiculous. \n\n</div>"
    },
    {
      "cell_type": "markdown",
      "metadata": {
        "cell_id": "c73c03b6ee734aacba449fa3c482199d",
        "deepnote_cell_type": "markdown"
      },
      "source": "5.2 - To make the parameter estimates more interpretable, what can we do? (see pages 9.5 and 9.6)."
    },
    {
      "cell_type": "markdown",
      "metadata": {
        "cell_id": "39ee74a1d8074615b06cbbd26d29fcfe",
        "deepnote_cell_type": "markdown"
      },
      "source": "<div class=\"alert alert-block alert-warning\">\n\n**Sample Responses:**\n\nTo make these numbers less ridiculous students might want to explore centering the explanatory variable `year` (see pages 9.5 and 9.6).\n\nThen we would get $b_0$s that represent the salary in the average year (around 2014). Code for centering shown below.\n\n- $salary_i = 16.49 + 1.774year_i + -10.118positionRB_i + -1.908year_i*positionRB_i$\n  - QB: $salary_i = 16.49 + 1.774year_i$\n  - RB: $salary_i = 6.372 + -0.134year_i$\n</div>"
    },
    {
      "cell_type": "code",
      "execution_count": null,
      "metadata": {
        "cell_id": "30ca3c3345e649bb81b2ab5d3b7686ff",
        "deepnote_cell_type": "code",
        "deepnote_to_be_reexecuted": false,
        "execution_millis": 344,
        "execution_start": 1685835841407,
        "source_hash": "bb5276eb",
        "trusted": true
      },
      "outputs": [],
      "source": "mean(nfl2$year)\n\n# centering year (now 0 means \"average year in the data set\")\nnfl2$year_0 <- nfl2$year - mean(nfl2$year)\nint_model_0 <- lm(salary ~ year_0 * position, data = nfl2)\n\ngf_jitter(salary ~ year_0, data = nfl2, color = ~position) %>%\n  gf_facet_wrap(~ position) %>%\n  gf_model(int_model_0, color = \"black\") \n\nint_model_0"
    }
  ],
  "metadata": {
    "deepnote_notebook_id": "5ae828d770474f1189ed1dcb98d1c025",
    "kernelspec": {
      "display_name": "R",
      "language": "R",
      "name": "ir"
    },
    "language_info": {
      "codemirror_mode": "r",
      "file_extension": ".r",
      "mimetype": "text/x-r-source",
      "name": "R",
      "pygments_lexer": "r",
      "version": "4.3.3"
    },
    "nbsimplegrader": {
      "publish_config": {
        "classes": [],
        "options": [],
        "tools": []
      }
    }
  },
  "nbformat": 4,
  "nbformat_minor": 1
}