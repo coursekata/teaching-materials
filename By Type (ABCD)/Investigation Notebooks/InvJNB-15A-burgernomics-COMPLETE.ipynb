{
  "cells": [
    {
      "cell_type": "markdown",
      "metadata": {
        "cell_id": "163673dcc9b443108b542a5ad256ec8b",
        "deepnote_cell_type": "markdown",
        "tags": []
      },
      "source": "<div class=\"alert alert-block alert-danger\">\n\n# 15A: Burgernomics (COMPLETE)\n\n**Use with textbook version 6.0+**\n\n\n**Lesson assumes students have read up through page: 15.4**\n\n\n</div>"
    },
    {
      "cell_type": "markdown",
      "metadata": {
        "cell_id": "1c934193d9464a4ea2b2026edb11ff88",
        "deepnote_cell_type": "markdown",
        "tags": []
      },
      "source": "<div class=\"alert alert-block alert-warning\">\n\n#### Summary of Notebook:\n\nIn this notebook students will examine how the price of a Big Mac has changed over time and across various regions of the world. They will examine trends in visualizations and try to predict whether parallel lines (additive models) or non-parallel lines (interaction models) would be a better fit to the data. They will also try making predictions for the future prices of a Big Mac.\n \n#### Includes:\n\n- Fitting and interpreting multivariate interaction models with one categorical and one quantitative predictor\n- Comparing interaction models to additive models\n- Making predictions with interaction models\n- Extrapolating predictions with models\n\n</div>"
    },
    {
      "cell_type": "markdown",
      "metadata": {
        "cell_id": "cc177c724a1d490f87ed331a45563540",
        "deepnote_cell_type": "markdown",
        "tags": []
      },
      "source": "<div class=\"alert alert-block alert-success\">\n\n## Approximate time to complete Notebook: 45-60 Mins\n\n</div>"
    },
    {
      "cell_type": "code",
      "execution_count": null,
      "metadata": {
        "cell_id": "a6ee09b53b3f42af82907735da768ddb",
        "deepnote_cell_type": "code",
        "deepnote_to_be_reexecuted": false,
        "execution_context_id": "5431c3a4-4bb7-48a8-ade4-e2c5ad1a19ad",
        "execution_millis": 2825,
        "execution_start": 1748643390148,
        "output_cleared": false,
        "source_hash": "59d13b83",
        "tags": [],
        "trusted": true
      },
      "outputs": [],
      "source": "# This code will load the R packages we will use\nsuppressPackageStartupMessages({\n    library(coursekata)\n})\n\nbigmac <- read.csv(\"https://docs.google.com/spreadsheets/d/e/2PACX-1vQM7-5W4fHvTnQD2tyjK1d5RlNsT7E1TRmAPrSZL-3bBMwyVUM6TyR4iM69ly-fqnm7aQkSIxBGVFrf/pub?gid=47818490&single=true&output=csv\")"
    },
    {
      "cell_type": "markdown",
      "metadata": {
        "cell_id": "c4db9fb9770b4f2d867f13058f2d8313",
        "deepnote_cell_type": "markdown",
        "deepnote_to_be_reexecuted": false,
        "execution_millis": 4,
        "execution_start": 1674841699980,
        "source_hash": "b623e53d",
        "tags": []
      },
      "source": "## About the Data\n\nThe dataset `bigmac` contains information collected by the publication The Economist, and it is comprised of variables that can be used to show how the price of a Big Mac changes over time, and across the world. Each row represents a Big Mac sold in the world some time between 2000-22.\n\nData Source: [The Economist](https://www.economist.com/big-mac-index?utm_source=chartr&utm_medium=newsletter&utm_campaign=chartr_20230127)\n\n**Description of Variables:**\n\t\n- `country_code` Three-character ISO 3166-1 country code\t\n- `country` Country where Big Mac was sold\t\n- `price` Price of a Big Mac in US dollars\t\n- `region` Region where Big Mac was sold\n- `continent` Continent where the Big Mac was sold\n- `year` The year that Big Mac was sold (year since 2000 - 1 means 2001)"
    },
    {
      "cell_type": "markdown",
      "metadata": {
        "cell_id": "be0cd9067b4d454c96af789236562bad",
        "deepnote_cell_type": "markdown"
      },
      "source": "<div class=\"alert alert-block alert-success\">\n\n### 1.0 - Approximate Time:  10-15 mins\n\n</div>"
    },
    {
      "cell_type": "markdown",
      "metadata": {
        "cell_id": "7b2d6c3c4fb74b608edeb73f3d415f23",
        "deepnote_cell_type": "markdown",
        "tags": []
      },
      "source": "## 1.0 - Explore Variation"
    },
    {
      "cell_type": "markdown",
      "metadata": {
        "cell_id": "5ab1f936d0f9475dbd62c84c3a3fccbf",
        "deepnote_cell_type": "markdown",
        "tags": []
      },
      "source": "1.1 - First, take a moment to explore the data frame (look at whatever you are curious about!). "
    },
    {
      "cell_type": "code",
      "execution_count": null,
      "metadata": {
        "cell_id": "caaded11195c4b6ea6777c03532b2573",
        "deepnote_cell_type": "code",
        "deepnote_to_be_reexecuted": false,
        "execution_context_id": "5431c3a4-4bb7-48a8-ade4-e2c5ad1a19ad",
        "execution_millis": 2,
        "execution_start": 1748643393037,
        "output_cleared": false,
        "source_hash": "35e1046b",
        "tags": [],
        "trusted": true
      },
      "outputs": [],
      "source": "# Sample Responses\n\nhead(bigmac)\n\n# which continents, regions, and countries sell big macs?\n#tally(~continent, data = bigmac)\n#tally(~region, data = bigmac)\n#tally(~country, data = bigmac)\n\n# where are big macs expensive/cheap?\n#head(arrange(bigmac, price))\n#head(arrange(bigmac, desc(price)))\n\n#favstats(~price, data = bigmac)"
    },
    {
      "cell_type": "markdown",
      "metadata": {
        "cell_id": "7e33a3bc2db441219e82ab95aba6f0c7",
        "deepnote_cell_type": "markdown",
        "tags": []
      },
      "source": "1.2 - Let's explore the price of a Big Mac with a visualization. How much does the price vary?"
    },
    {
      "cell_type": "code",
      "execution_count": null,
      "metadata": {
        "cell_id": "04878dba0e454cc8bd4b17b6821cb4e4",
        "deepnote_cell_type": "code",
        "deepnote_to_be_reexecuted": false,
        "execution_context_id": "5431c3a4-4bb7-48a8-ade4-e2c5ad1a19ad",
        "execution_millis": 248,
        "execution_start": 1748643393097,
        "output_cleared": false,
        "source_hash": "d7b5f662",
        "tags": [],
        "trusted": true
      },
      "outputs": [],
      "source": "# Sample Response\ngf_histogram(~price, data = bigmac, fill = \"green4\") %>% \n    gf_boxplot(width = 15, color = \"darkgreen\", alpha = .1)"
    },
    {
      "cell_type": "markdown",
      "metadata": {
        "cell_id": "d7e72fbd7982425dbf528cc99df3ca31",
        "deepnote_cell_type": "markdown",
        "tags": []
      },
      "source": "<div class=\"alert alert-block alert-warning\">\n\n**Sample Response:**\n\nThe price varies from about \\$1 to over \\$8. The average price is near about \\$3.\n\n</div>"
    },
    {
      "cell_type": "markdown",
      "metadata": {
        "cell_id": "efe2e197539b4155a615b7b25371a7d1",
        "deepnote_cell_type": "markdown"
      },
      "source": "<div class=\"alert alert-block alert-success\">\n\n### 2.0 - Approximate Time:  35-40 mins\n\n</div>"
    },
    {
      "cell_type": "markdown",
      "metadata": {
        "cell_id": "23506a224e214ff8949b8d162da4f2e1",
        "deepnote_cell_type": "markdown",
        "tags": []
      },
      "source": "## 2.0 - Comparing Countries Over Time"
    },
    {
      "cell_type": "markdown",
      "metadata": {
        "cell_id": "ce59c2fee0294c75ad1f35ec8c65aa94",
        "deepnote_cell_type": "markdown",
        "tags": []
      },
      "source": "Today we'll analyze the way the price has changed over time across different countries of your choosing. \n\n2.1 - How would you write the hypothesis that both time and country would explain variation in Big Mac prices as a word equation?"
    },
    {
      "cell_type": "markdown",
      "metadata": {
        "cell_id": "6f8caa9972c9481b8807c5a71582656e",
        "deepnote_cell_type": "markdown"
      },
      "source": "<div class=\"alert alert-block alert-warning\">\n\n**Sample Responses:**\n\ndollar_price = year + country + error\n\n</div>"
    },
    {
      "cell_type": "markdown",
      "metadata": {
        "cell_id": "7c5f20062bab4b94b45bb75d05cc6e4b",
        "deepnote_cell_type": "markdown"
      },
      "source": "2.2 - Modify the following code to create a new data frame called `bigmac3` that only includes 3 specific countries that you are interested in comparing. \n\nThen create a visualization to explore your word equation (with `bigmac3`)."
    },
    {
      "cell_type": "code",
      "execution_count": null,
      "metadata": {
        "cell_id": "f854b98c1f9144b5b7ee572b5ba72b5f",
        "deepnote_cell_type": "code",
        "deepnote_to_be_reexecuted": false,
        "execution_context_id": "5431c3a4-4bb7-48a8-ade4-e2c5ad1a19ad",
        "execution_millis": 303,
        "execution_start": 1748643393397,
        "output_cleared": false,
        "source_hash": "7b8e5516",
        "tags": [],
        "trusted": true
      },
      "outputs": [],
      "source": "# Sample Response\nbigmac3 <- filter(bigmac, country == \"Egypt\" | country == \"Singapore\" | country == \"United States\")\n\ngf_point(price ~ year, data = bigmac3, color = ~country)"
    },
    {
      "cell_type": "markdown",
      "metadata": {
        "cell_id": "2661782c0cd74e2f9c84ad848e5b0a9f",
        "deepnote_cell_type": "markdown"
      },
      "source": "2.3 - Just eyeballing the data, do you think parallel lines (additive model) would be enough? Or do you want to have lines that are not parallel (interaction model)?"
    },
    {
      "cell_type": "markdown",
      "metadata": {
        "cell_id": "236e01a0db7b4aa78bb046b214d5a053",
        "deepnote_cell_type": "markdown"
      },
      "source": "<div class=\"alert alert-block alert-warning\">\n\n**Sample Responses:**\n\nIn our example (with Egypt, Singapore, and US), an interaction model would be more appropriate because although Singapore and US look like parallel lines, Egypt has a distinctly different pattern (more flat).\n\nEncourage your students to make other observations about their three countries, for example in this set:\n- All countries were more similar in 2005 than in 2020.\n- Generally price is increasing.\n- At around 2016-17, Egypt takes a bit of a dip. Students might consider googling what happened in a country during these times (e.g., in Egypt there were political protests against president Abdel Fattah Al-Sisi).\n\n</div>"
    },
    {
      "cell_type": "markdown",
      "metadata": {
        "cell_id": "a57442350e8a4b29b4cfdf305ecd7e00",
        "deepnote_cell_type": "markdown"
      },
      "source": "## 3.0 - Multivariate Models"
    },
    {
      "cell_type": "markdown",
      "metadata": {
        "cell_id": "fe752486cc3e4026a672c02f5e56a774",
        "deepnote_cell_type": "markdown",
        "tags": []
      },
      "source": "3.1 - Fit the **additive model** and the **interaction model** for `price = year + country + error` using your new data frame, and put each model into a visualization. What do you notice? Which model seems to explain more of the variation?"
    },
    {
      "cell_type": "code",
      "execution_count": null,
      "metadata": {
        "cell_id": "c8a88aea58ef4e8280e295fcae0b0e5a",
        "deepnote_cell_type": "code",
        "deepnote_to_be_reexecuted": false,
        "execution_context_id": "5431c3a4-4bb7-48a8-ade4-e2c5ad1a19ad",
        "execution_millis": 503,
        "execution_start": 1748643393747,
        "source_hash": "e540970c",
        "trusted": true
      },
      "outputs": [],
      "source": "# Sample Responses\n\n# Additive Model\nadd_model <- lm(price ~ year + country, data = bigmac3)\ngf_point(price ~ year, data = bigmac3, color = ~country, alpha = .2) %>%\n    gf_model(add_model)\n\n# Interaction Model\nint_model <- lm(price ~ year * country, data = bigmac3)\ngf_point(price ~ year, data = bigmac3, color = ~country, alpha = .2) %>%\n    gf_model(int_model)"
    },
    {
      "cell_type": "markdown",
      "metadata": {
        "cell_id": "e223230340f4457c99a97ca541f4b0bf",
        "deepnote_cell_type": "markdown",
        "tags": []
      },
      "source": "<div class=\"alert alert-block alert-warning\">\n\n**Sample Responses:**\n\nIn this example, the interaction model seems to explain more variation.\n</div>"
    },
    {
      "cell_type": "markdown",
      "metadata": {
        "cell_id": "9ba5775bc02a446e9d1ac4437e2b0059",
        "deepnote_cell_type": "markdown",
        "tags": []
      },
      "source": "3.2 - Put what you think is the better model into GLM notation."
    },
    {
      "cell_type": "code",
      "execution_count": null,
      "metadata": {
        "cell_id": "e056ed4846724be2b26aa3baad767908",
        "deepnote_cell_type": "code",
        "deepnote_to_be_reexecuted": false,
        "execution_context_id": "5431c3a4-4bb7-48a8-ade4-e2c5ad1a19ad",
        "execution_millis": 0,
        "execution_start": 1748643394297,
        "source_hash": "67ecd908",
        "trusted": true
      },
      "outputs": [],
      "source": "int_model"
    },
    {
      "cell_type": "markdown",
      "metadata": {
        "cell_id": "97d0c995dc3946f99d7375cf54914160",
        "deepnote_cell_type": "markdown",
        "tags": []
      },
      "source": "<div class=\"alert alert-block alert-warning\">\n\n**Sample Response:**\n\nNote -- we didn't do any rounding for now because we're going to combine some of these numbers and wanted to preserve precision.\n\nInteraction Model GLM:\n$price_i = 1.598 + 0.043year_i + 0.064Sing_i + 0.441US_i + 0.091year_i*Sing_i + 0.101year_i*US_i + e_i$ \n\n- $Y_i = 1.598 + 0.043X_{1i} + -0.064X_{2i} + 0.441X_{3i} + \\\\ \n0.091X_{1i}X_{2i} + 0.101X_{1i} X_{3i} + e_i$ \n(year is $X_{1i}$, whether the country is Singapore is $X_{2i}$, whether the country is the US is $X_{3i}$)\n\n...doesn't render well in DeepNote but renders in CKHub.\nThe double \\\\ in the Latex equation notation says to put the equation on two lines but DeepNote doesn't recognize it.\n</div>"
    },
    {
      "cell_type": "markdown",
      "metadata": {
        "cell_id": "92f851bfeae845a98b7cb7cea0b739bd",
        "deepnote_cell_type": "markdown"
      },
      "source": "3.2b, bonus - This giant equation actually represents 3 separate lines, one for each country. Try writing the simplified equation for each country."
    },
    {
      "cell_type": "markdown",
      "metadata": {
        "cell_id": "a05aea85ffca420680adb7f8fd6c1af1",
        "deepnote_cell_type": "markdown"
      },
      "source": "<div class=\"alert alert-block alert-warning\">\n\n**Sample Response:**\n\nEGYPT \n\n$Y_i=1.598 + 0.043year_i + e_i$\n\nSINGAPORE \n\n1.598 + -0.064 (these are both for intercept of singapore) \n0.043year_i + 0.09178 (both for slope of singapore line)\n\n$Y_i= 1.222 + 0.134year_i + e_i$\n\n\nU.S. \n\n1.598 + 0.441 (combine for intercept for U.S.)\n0.043year_i + 0.101 (combine for slope)\n\n$Y_i=2.039 + 0.144year_i + e_i$\n</div>\n"
    },
    {
      "cell_type": "code",
      "execution_count": null,
      "metadata": {
        "cell_id": "8e7939725ebb4deb84848c57422be41a",
        "deepnote_cell_type": "code",
        "deepnote_to_be_reexecuted": false,
        "execution_context_id": "5431c3a4-4bb7-48a8-ade4-e2c5ad1a19ad",
        "execution_millis": 18,
        "execution_start": 1748645509410,
        "source_hash": "a3050c98",
        "trusted": true
      },
      "outputs": [],
      "source": "# using R as a calculator for combining like terms\n\n1.158+0.064\n\n0.043+0.09178\n\n1.598+.441\n\n0.043+0.101"
    },
    {
      "cell_type": "markdown",
      "metadata": {
        "cell_id": "1b7f78c4fd0b4db99faff3a02ffabf46",
        "deepnote_cell_type": "markdown",
        "tags": []
      },
      "source": "3.3 - Use the model to make a few predictions. Try predicting the price of Big Macs in each of the three countries for the year 2030."
    },
    {
      "cell_type": "code",
      "execution_count": null,
      "metadata": {
        "cell_id": "5b5515791ad74f4a87dc40f7d7d6cb22",
        "deepnote_cell_type": "code",
        "deepnote_to_be_reexecuted": false,
        "execution_context_id": "5431c3a4-4bb7-48a8-ade4-e2c5ad1a19ad",
        "execution_millis": 1,
        "execution_start": 1748645853887,
        "source_hash": "e6ed6288",
        "tags": [],
        "trusted": true
      },
      "outputs": [],
      "source": "# Sample Responses\n# If they did the 3.2 bonus question, they could use the simplified equations for each country.\n# Here we showed how to make these predictions using the single GLM model that includes all three countries.\n# We need to use \"30\" instead of \"2030\" because the variable year is \"years since 2000\"\n\n# Egypt, 2030\n1.598 + 0.043*30 + -0.064 *0 + 0.441*0 + 0.091*30*0 + 0.101*30*0  \n\n# Singapore, 2030\n1.598 + 0.043*30 + -0.064 *1 + 0.441*0 + 0.091*30*1 + 0.101*30*0  \n\n# United States, 2030\n1.598 + 0.043*30 + -0.064 *0 + 0.441*1 + 0.091*30*0 + 0.101*30*1  \n\n#or, using the simplified equations\n\n# Egypt, 2030\n1.598 + 0.043*30\n# Singapore, 2030\n1.222 + 0.13478*30\n# United States, 2030\n2.039+ 0.144*30"
    },
    {
      "cell_type": "code",
      "execution_count": null,
      "metadata": {
        "cell_id": "2158fc16747f499eb1b727b21ebe0713",
        "deepnote_cell_type": "code",
        "deepnote_to_be_reexecuted": false,
        "execution_context_id": "5431c3a4-4bb7-48a8-ade4-e2c5ad1a19ad",
        "execution_millis": 214,
        "execution_start": 1748646167717,
        "source_hash": "7b0a7b70",
        "trusted": true
      },
      "outputs": [],
      "source": "# for teachers, students can also plot their predictions on the graph\n# We need to use \"30\" instead of \"2030\" because the variable year is \"years since 2000\"\ngf_point(price ~ year, data = bigmac3, color = ~country, alpha = .2) %>%\n    gf_model(int_model) %>%\n    gf_point(2.888 ~ 30, color = \"mediumturquoise\")%>%\n    gf_point(5.554 ~ 30, color = \"purple\")%>%\n    gf_point(6.359 ~ 30, color = \"tan4\")"
    },
    {
      "cell_type": "markdown",
      "metadata": {
        "cell_id": "3ac251bdbbc74dc3bb5db04ba7a4ed25",
        "deepnote_cell_type": "markdown",
        "tags": []
      },
      "source": "3.4 - Based on your analyses today, what is the overall story of the price of a Big Mac that you are seeing in the data? Describe and conclude."
    },
    {
      "cell_type": "markdown",
      "metadata": {
        "cell_id": "5eed177c548342c2a233c6108daa7dfe",
        "deepnote_cell_type": "markdown",
        "tags": []
      },
      "source": "<div class=\"alert alert-block alert-warning\">\n\n**Sample Response:**\n\nVaries based on students' selected countries. \n\nFor students who would be satisfied with an additive model for modeling their three countries, they might conclude that Big Mac prices have changed steadily (at a constant rate of change).  \n\nFor students who need an interaction model for modeling their three countries, they might conclude that Big Mac prices have changed at different rates in various countries of the world.  \n\n</div>"
    }
  ],
  "metadata": {
    "deepnote_notebook_id": "828c840ac07043fc804779594edddeb2",
    "kernelspec": {
      "display_name": "R",
      "language": "R",
      "name": "ir"
    },
    "language_info": {
      "codemirror_mode": "r",
      "file_extension": ".r",
      "mimetype": "text/x-r-source",
      "name": "R",
      "pygments_lexer": "r",
      "version": "4.3.3"
    },
    "nbsimplegrader": {
      "publish_config": {
        "classes": [],
        "options": [],
        "tools": []
      }
    }
  },
  "nbformat": 4,
  "nbformat_minor": 1
}