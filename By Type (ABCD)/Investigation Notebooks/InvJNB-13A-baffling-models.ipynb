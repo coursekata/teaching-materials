{
  "cells": [
    {
      "cell_type": "markdown",
      "metadata": {
        "cell_id": "edf931ec1e9347fa823a6879d73ccc71",
        "deepnote_cell_type": "markdown",
        "tags": []
      },
      "source": "# 13A: Catfished...by a cricket?"
    },
    {
      "cell_type": "code",
      "execution_count": null,
      "metadata": {
        "cell_id": "9d1c0e344661412baecbe0bc64523c78",
        "deepnote_cell_type": "code",
        "deepnote_to_be_reexecuted": false,
        "execution_millis": 3967,
        "execution_start": 1677359358350,
        "output_cleared": false,
        "source_hash": "92147bf5",
        "tags": [],
        "trusted": true
      },
      "outputs": [],
      "source": "# this loads the packages and functions used in coursekata \nsuppressPackageStartupMessages({\n    library(coursekata)\n})\n\n# loads data & creates factor variables\n\nfemale_pref <- read.csv(\"https://docs.google.com/spreadsheets/d/e/2PACX-1vSZdsoy_Gom22rkFxq2V91KiRvTFICjnGZ3nRA0O8h0dKDT79K9x0l8mUqgdzyCOjUz3lNtBoSBmyV7/pub?gid=1712183223&single=true&output=csv\")\nfemale_pref$baffling <- factor(female_pref$baffling)\n\nmating <- filter(read.csv(\"https://docs.google.com/spreadsheets/d/e/2PACX-1vTiXq1HiJm_cjoxsu49ueqfDqdoI7rAwXLB9SX89GkEJ5b284olEwP5neUPmIcAu09oA3W13X1Bf8c9/pub?gid=0&single=true&output=csv\"), male_sound == \"soft\")\nmating$male_sound <- factor(mating$male_sound)\nmating$amplified <- factor(mating$amplified, levels = c(0,1), labels = c(\"no\", \"yes\"))\nmating$male_size <- factor(mating$male_size, levels = c(1,2,3), labels = c(\"small\", \"medium\", \"large\"))\n"
    },
    {
      "cell_type": "markdown",
      "metadata": {
        "cell_id": "048be3657f2b418092579b756095f356",
        "deepnote_cell_type": "markdown",
        "tags": []
      },
      "source": "<img src=\"https://static01.nyt.com/images/2020/12/29/science/15TB-CRICKET2/15TB-CRICKET2-mobileMasterAt3x.jpg\" alt=\"tree cricket making a hole in a leaf\" width = 50%>\n\n## Bad News for Quiet Crickets\n\nFemale tree crickets tend to prioritize two traits in their mates: loudness and size. Boy crickets can't do much about size but biologist Rittik Deb (National Center for Biological Sciences, Bangalore, India) observed curious behavior called **baffling**. A male cricket will chomp a hole in a leaf, shove his head and forelegs through the opening, and use the leaf as a megaphone!\n\nWatch here: https://elifesciences.org/articles/32763#video2\n\n### Motivating Questions: \n\n- Are females actually attracted by baffling? \n\n- Does amplification of chirps really lead to better sexual outcomes for male crickets? Even for those that are naturally quiet?\n\n"
    },
    {
      "cell_type": "markdown",
      "metadata": {
        "cell_id": "e36ab37f0b664117a0c105749b605e2d",
        "deepnote_cell_type": "markdown"
      },
      "source": "## Study 1: Are females fooled?\n\n### 1.0: The `female_pref` data\n\nThe data frame `female_pref` has 229 laboratory trials. Biologists played females two naturally recorded chirps from two speakers simultaneously. In some trials, they also played a chorus that included a baffler versus not. In the other trials, they played two choruses that both did not have a baffler.\n\nThey recorded the proportion of females that moved toward the speaker playing the louder chirps.\n\n<img src=\"https://coursekata-course-assets.s3.us-west-1.amazonaws.com/UCLATALL/czi-stats-course/jnb_6w3nY4NQ-image.png\" width=400>\n\nThere are four variables in `female_pref`:\n\n- `chorus_id` identification number of recording\n- `sound_db` sound pressure levels, a measure of how loud the recording was (in decibels)\n- `proportion_fem` the proportion of females that walked towards the louder speaker\n- `baffling` whether a baffler was in the chorus or not"
    },
    {
      "cell_type": "code",
      "execution_count": null,
      "metadata": {
        "cell_id": "120cf91aaf7a43e6a9d1c032b46cee12",
        "deepnote_cell_type": "code",
        "deepnote_to_be_reexecuted": false,
        "execution_millis": 24,
        "execution_start": 1677359362339,
        "output_cleared": false,
        "source_hash": "f857a1b6",
        "tags": [],
        "trusted": true
      },
      "outputs": [],
      "source": "# Run this code to take a look at the data frame\nhead(female_pref)"
    },
    {
      "cell_type": "markdown",
      "metadata": {
        "cell_id": "3b71b02f6e494065bd8b0856ba6063eb",
        "deepnote_cell_type": "markdown",
        "tags": []
      },
      "source": "**1.1:** Write the researchers' hypothesis as a multivariate word equation and make a visualization to explore it! What do you notice?"
    },
    {
      "cell_type": "markdown",
      "metadata": {
        "cell_id": "cf4eeb2bb2d54e6f848b64eac9b6c9f3",
        "deepnote_cell_type": "markdown"
      },
      "source": "**1.2:** Generate the best fitting multivariate model.\n"
    },
    {
      "cell_type": "code",
      "execution_count": null,
      "metadata": {
        "cell_id": "bfd210c8016849718343542b0e473ffa",
        "deepnote_cell_type": "code",
        "deepnote_to_be_reexecuted": false,
        "execution_millis": 13,
        "execution_start": 1677359363581,
        "output_cleared": false,
        "source_hash": "a6ec7fee",
        "trusted": true
      },
      "outputs": [],
      "source": "# here is a one predictor model to get you started\nlm(proportion_fem ~ sound_db, data = female_pref)"
    },
    {
      "cell_type": "markdown",
      "metadata": {
        "cell_id": "5f963c6f5c0e465087d3dcbe49edc0ce",
        "deepnote_cell_type": "markdown"
      },
      "source": "**1.3:** Put the model into GLM notation and interpret the parameter estimates."
    },
    {
      "cell_type": "markdown",
      "metadata": {
        "cell_id": "d5023ee7ad0641f38fdf257089db54d0",
        "deepnote_cell_type": "markdown",
        "tags": []
      },
      "source": "***GLM Notation:***\n\n$Y_i = b_0 + b_1X_{1i} + b_2X_{2i} + e_i$"
    },
    {
      "cell_type": "markdown",
      "metadata": {
        "cell_id": "a74cee21ec5e4ad084bad4d2b43ce9a5",
        "deepnote_cell_type": "markdown"
      },
      "source": "**1.4:** Put the predictions of the multivariate model on the plot (you can chain on `gf_model()` like you did with plots for one-predictor models), and connect your parameter estimates to what you see on the plot."
    },
    {
      "cell_type": "markdown",
      "metadata": {
        "cell_id": "e43a70c6297b4fea932e239d3f66771a",
        "deepnote_cell_type": "markdown",
        "tags": []
      },
      "source": "**1.5:** Make some predictions with the model, and find the predictions in your visualization:\n\n- What would the model predict for a baffling group at 70 db? 0 db?\n- What would the model predict for a non-baffling group at 70 db? 0 db?\n\nWhy do we sometimes get negative predictions? Are those reasonable predictions? Why does this happen?"
    },
    {
      "cell_type": "markdown",
      "metadata": {
        "cell_id": "280af2df26db442f83673484cc285fd0",
        "deepnote_cell_type": "markdown",
        "tags": []
      },
      "source": "**1.6:** Based on what you have looked at so far, what would you conclude about the researchers' experiment?"
    },
    {
      "cell_type": "markdown",
      "metadata": {
        "cell_id": "e9414ae70a36489fb8d7da5c000457dc",
        "deepnote_cell_type": "markdown"
      },
      "source": "## Study 2: Does amplification lead to better sexual outcomes?\n\n### 2.0: The `mating` data\n\nThis data frame has 40 trials where females were played chirps recorded from relatively quiet males.\n\nBut this time only one speaker played chirps. These chirps were randomly assigned to be played naturally or artificially amplified. When the female approached a petri dish stationed near the speaker, researchers introduced the male responsible for the chirps into the petri dish. There is very little rejection apparently in tree cricket mating so all couples mated and researchers recorded the length of attachment in seconds. \n\n<img src=\"https://coursekata-course-assets.s3.us-west-1.amazonaws.com/UCLATALL/czi-stats-course/jnb_6w3nY4NQ-image.png\" width=400>\n\nThere are 4 variables in the `mating` data frame:\n\n- `attach_sec` length of time attached during mating\n- `male_sound` all males were relatively quiet males gathered from the field \n- `amplified` whether the recorded sound was artificially amplified or not\n- `male_size` males were categorized as small, medium, large\n- `male_size_mm` length of males  measured in mm"
    },
    {
      "cell_type": "code",
      "execution_count": null,
      "metadata": {
        "cell_id": "311cd890e3ee41108047dc5dd1af6a4f",
        "deepnote_cell_type": "code",
        "deepnote_to_be_reexecuted": false,
        "execution_millis": 2,
        "execution_start": 1677359364647,
        "output_cleared": false,
        "source_hash": "67fa6e33",
        "trusted": true
      },
      "outputs": [],
      "source": "# Run this code to take a look at the data frame\nhead(mating)"
    },
    {
      "cell_type": "markdown",
      "metadata": {
        "cell_id": "f23a4cc9633d43e185d882ee4b14e265",
        "deepnote_cell_type": "markdown",
        "tags": []
      },
      "source": "**2.1:** Write a word equation for the hypothesis that amplification and size (in mm) can explain variation in attachment time, and make a visualization to explore it! What do you notice?"
    },
    {
      "cell_type": "markdown",
      "metadata": {
        "cell_id": "c1c42ab8c37546ac8b2f0ad921805725",
        "deepnote_cell_type": "markdown"
      },
      "source": "**2.2:** Generate the best fitting multivariate model.\n"
    },
    {
      "cell_type": "code",
      "execution_count": null,
      "metadata": {
        "cell_id": "7fc747c715ee45bea72304dc42242233",
        "deepnote_cell_type": "code",
        "deepnote_to_be_reexecuted": false,
        "execution_millis": 8,
        "execution_start": 1677359365472,
        "output_cleared": false,
        "source_hash": "c1a86c4c",
        "trusted": true
      },
      "outputs": [],
      "source": "# here is a one predictor model to get you started\nlm(attach_sec ~ amplified, data = mating)"
    },
    {
      "cell_type": "markdown",
      "metadata": {
        "cell_id": "e6cf83ff5de44cbcbd04c8506c9901a1",
        "deepnote_cell_type": "markdown"
      },
      "source": "**2.3:** Put the model into GLM notation and interpret the parameter estimates."
    },
    {
      "cell_type": "markdown",
      "metadata": {
        "cell_id": "cfc19bc248774d8989de039fe4618798",
        "deepnote_cell_type": "markdown",
        "tags": []
      },
      "source": "***GLM Notation:***\n\n$Y_i = b_0 + b_1X_{1i} + b_2X_{2i} + e_i$"
    },
    {
      "cell_type": "markdown",
      "metadata": {
        "cell_id": "30a1d2353543466d8769f18a883f9a8d",
        "deepnote_cell_type": "markdown"
      },
      "source": "**2.4:** Put the predictions of the multivariate model on the plot (you can chain on `gf_model()` like you did with plots for one-predictor models), and connect your parameter estimates to what you see on the plot."
    },
    {
      "cell_type": "markdown",
      "metadata": {
        "cell_id": "cc7118bf8d64498e940609b5512df0ad",
        "deepnote_cell_type": "markdown",
        "tags": []
      },
      "source": "**2.5:** Make some predictions with the model, and find the predictions in your visualization:\n\n- What would the model predict for an amplified group at 11 mm? 0 mm?\n- What would the model predict for a non-amplified group at 11 mm? 0 mm?\n\nWhy do we sometimes get negative predictions? Are those reasonable predictions? Why does this happen?"
    },
    {
      "cell_type": "markdown",
      "metadata": {
        "cell_id": "7daae4afdc944241a6a2f3444ad5e193",
        "deepnote_cell_type": "markdown",
        "tags": []
      },
      "source": "**2.6:** Based on what you have looked at so far, what would you conclude about the researchers' experiment?"
    },
    {
      "cell_type": "markdown",
      "metadata": {
        "cell_id": "05522393800b4f06b788ae765b58cbaa",
        "deepnote_cell_type": "markdown",
        "tags": []
      },
      "source": "### 3.0: The Practice of Data Science\n\nLet's reflect on how what we did connects to the workflow of data science: (1) explore variation, (2) model variation, and (3) evaluate your model. \n\n**3.1:** For each of the two studies you've analyzed above (sections 1.0 and 2.0), identify which parts correspond to (1), (2), and (3)."
    }
  ],
  "metadata": {
    "deepnote_notebook_id": "6f4146696d3740518be601626a279461",
    "kernelspec": {
      "display_name": "R",
      "language": "R",
      "name": "ir"
    },
    "language_info": {
      "codemirror_mode": "r",
      "file_extension": ".r",
      "mimetype": "text/x-r-source",
      "name": "R",
      "pygments_lexer": "r",
      "version": "4.3.3"
    },
    "nbsimplegrader": {
      "publish_config": {
        "classes": [],
        "options": [],
        "tools": []
      }
    }
  },
  "nbformat": 4,
  "nbformat_minor": 1
}