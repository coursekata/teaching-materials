{
  "cells": [
    {
      "cell_type": "markdown",
      "metadata": {
        "cell_id": "bd957f2f84784a81a1b95b93b49b44c1",
        "deepnote_cell_type": "markdown",
        "tags": []
      },
      "source": "# 16B: Invasive Cane Toads"
    },
    {
      "cell_type": "code",
      "execution_count": null,
      "metadata": {
        "cell_id": "1252c9130767421bade6ae2b531a2605",
        "deepnote_cell_type": "code",
        "deepnote_to_be_reexecuted": false,
        "execution_millis": 14132,
        "execution_start": 1685399144290,
        "output_cleared": false,
        "source_hash": "75b327fe",
        "tags": [],
        "trusted": true
      },
      "outputs": [],
      "source": "# this loads the packages and functions used in coursekata \nsuppressPackageStartupMessages({\n    library(coursekata)\n})\n\n# loads data & creates factor variables\nTadpoleStudy <- read.csv(\"https://docs.google.com/spreadsheets/d/e/2PACX-1vSPT7yMl24I6CgwSL8xKcBRydgv9nE5SfCaQyHurD9daL07JbM-u2jgqt1D40uoAh5ADDohudxatGN8/pub?gid=0&single=true&output=csv\")\n"
    },
    {
      "cell_type": "markdown",
      "metadata": {
        "cell_id": "e3939aaebc04494786b6c1b4b627c4b9",
        "deepnote_cell_type": "markdown",
        "tags": []
      },
      "source": "<img src=\"https://ichef.bbci.co.uk/news/976/cpsprodpb/12A80/production/_95261467_unspecified.jpg.webp\" width=80%>\n\n\nThe cane toad (*Rhinella marina*; also called *Bufo marinus*) is a large poisonous toad species (pictured above from [the BBC](https://www.bbc.com/news/world-australia-39348313)). It's native to South America but 101 toads were introduced to Australia in 1935 as a form of pest control: to eat sugar cane beetles. Today, an estimated 1.5 billion of these prolific toads have invaded most of northwestern Australia, [where they've caused widespread death](https://www.science.org/content/article/long-dead-cane-toads-continue-haunt-australian-wildlife) among native reptiles and marsupials that try to eat them."
    },
    {
      "cell_type": "markdown",
      "metadata": {
        "cell_id": "5422e70a5ba44a5a8fc8b0145a6d5f6d",
        "deepnote_cell_type": "markdown",
        "tags": []
      },
      "source": "<img src=\"https://coursekata-course-assets.s3.us-west-1.amazonaws.com/UCLATALL/czi-stats-course/jnb_bq7h3Z29-image.png\" width=200 style=\"float: left; padding: 0px 20px 0px 0px;\">\n\n## Tadpoles Eating Future Tadpoles\n\n[Researchers from the University of Sydney](https://onlinelibrary.wiley.com/doi/10.1002/ece3.8655) conducted a laboratory study to see whether R. marina tadpoles would eat eggs from different frog or toad species. For each of 6 different species (C. alboguttata, C. brevipes, L. gracilenta, L. rubella, P. ornatum, and R. marina), 10 eggs from a single clutch were added to each of 20 containers. Ten containers were randomly chosen as the predation treatment and had one R. marina tadpole added. The remaining 10 containers served as the control group. The number of eggs surviving 72 hours later were counted by scientists.\n\nThe `TadpoleStudy` data frame has data from these 120 containers. These are the variables:\n\n- `EggSpecies` the species of frog or toad of the eggs\n- `Tadpole`  whether a tadpole was introduced to the container (\"TadPresent\") or not (\"TadAbsent\")\n- `TadSpecies` the species of the tadpole (all were \"R. marina\" tadpoles)\n- `TimeBlock` the day the experiment was carried out\n- `Dead` the number of eggs that did not survive after 72 hours\n- `Alive` the number of eggs that did survive after 72 hours\n"
    },
    {
      "cell_type": "markdown",
      "metadata": {
        "cell_id": "12fbb18e7e4b40329b770d8bd96a1067",
        "deepnote_cell_type": "markdown",
        "tags": []
      },
      "source": "### 1.0: Explore Variation in Survival\n"
    },
    {
      "cell_type": "markdown",
      "metadata": {
        "cell_id": "6a1ab0aa3ddd4955a2cfe2fb48213d9e",
        "deepnote_cell_type": "markdown",
        "tags": []
      },
      "source": "**1.1:** Explore this data set. Which variables might help us predict how many eggs survive (`Alive`)?\n\nWrite your idea as a word equation and explore the variation in survival with a graph."
    },
    {
      "cell_type": "markdown",
      "metadata": {
        "cell_id": "e5e2056e5d3a4c6eb257d29b4aee2161",
        "deepnote_cell_type": "markdown",
        "tags": []
      },
      "source": "### 2.0: Model Variation in Survival"
    },
    {
      "cell_type": "markdown",
      "metadata": {
        "cell_id": "9cca9108ef8e4699a42f56c2820738b6",
        "deepnote_cell_type": "markdown"
      },
      "source": "**2.1:** Do you think this data requires an interaction model? Or will an additive model suffice?"
    },
    {
      "cell_type": "markdown",
      "metadata": {
        "cell_id": "5611f75ad3054281bdcf4475be42c791",
        "deepnote_cell_type": "markdown",
        "tags": []
      },
      "source": "**2.2:** Make a visualization that include the additive model and another visualization that includes the interaction model. "
    },
    {
      "cell_type": "markdown",
      "metadata": {
        "cell_id": "f35232cbfbd84bafb506fc23e4dcb2bd",
        "deepnote_cell_type": "markdown",
        "tags": []
      },
      "source": "**2.3:** Which model do you think explains more variation? Why does that model look better to you? What part of the model is *able* to do that?"
    },
    {
      "cell_type": "markdown",
      "metadata": {
        "cell_id": "c5af59d713d74402bcee77e05b83961e",
        "deepnote_cell_type": "markdown",
        "tags": []
      },
      "source": "**2.4:** Predict the PRE you might expect from each of these models based on just looking at the model predictions."
    },
    {
      "cell_type": "markdown",
      "metadata": {
        "cell_id": "5189d11eb0324ae8a4e2e9c2d8382890",
        "deepnote_cell_type": "markdown",
        "tags": []
      },
      "source": "### 3.0: Evaluate Models"
    },
    {
      "cell_type": "markdown",
      "metadata": {
        "cell_id": "033b04661c7b48399856a989acc25e27",
        "deepnote_cell_type": "markdown",
        "tags": []
      },
      "source": "**3.1:** Use the ANOVA tables to check your intuitions about these two models. Which is a better fit to the data?"
    },
    {
      "cell_type": "markdown",
      "metadata": {
        "cell_id": "f7f45e7fce884f3c94c5e748e1033ab1",
        "deepnote_cell_type": "markdown",
        "tags": []
      },
      "source": "**3.2:** What does this mean about these tadpoles?"
    }
  ],
  "metadata": {
    "deepnote_notebook_id": "15f72decc69440c7ad78aa1b49533f84",
    "kernelspec": {
      "display_name": "R",
      "language": "R",
      "name": "ir"
    },
    "language_info": {
      "codemirror_mode": "r",
      "file_extension": ".r",
      "mimetype": "text/x-r-source",
      "name": "R",
      "pygments_lexer": "r",
      "version": "4.3.3"
    },
    "nbsimplegrader": {
      "publish_config": {
        "classes": [],
        "options": [],
        "tools": []
      }
    }
  },
  "nbformat": 4,
  "nbformat_minor": 1
}