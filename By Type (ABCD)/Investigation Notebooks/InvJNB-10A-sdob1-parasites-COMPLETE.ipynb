{
  "cells": [
    {
      "cell_type": "markdown",
      "metadata": {
        "cell_id": "8de024df55d44c28a3a725c6601e9e56",
        "deepnote_cell_type": "markdown",
        "nbsimplegrader": {
          "config_key": "markdown.view-only",
          "editable": false,
          "label": "Markdown: View-Only",
          "respondable": false,
          "response": null,
          "runnable": false,
          "type": "markdown"
        }
      },
      "source": "<div class=\"alert alert-block alert-danger\">\n\n## 10A: Can parasites control their hosts? (COMPLETE)\n**Use with textbook version 6.0+**\n\n**Lesson assumes students have read up through page: 10.4**\n\n</div>\n\n<img src=\"https://images.newscientist.com/wp-content/uploads/2017/05/04161216/fig.-3_metacercariae_ns.jpg\" width=300>\n\nThe eye fluke; a parasite that infects fish and lives in their eyes."
    },
    {
      "cell_type": "markdown",
      "metadata": {
        "cell_id": "6f0233b73a1c4b47808cb92441e30da1",
        "deepnote_cell_height": 163.9375,
        "deepnote_cell_type": "markdown",
        "tags": []
      },
      "source": "<div class=\"alert alert-block alert-success\">\n\n## Approximate time to complete Notebook: 55-70 Mins\n    \n</div>"
    },
    {
      "cell_type": "code",
      "execution_count": null,
      "metadata": {
        "cell_id": "430ced441cec41c49735c835ccc737c9",
        "deepnote_cell_type": "code",
        "deepnote_to_be_reexecuted": false,
        "execution_millis": 5069,
        "execution_start": 1667511111983,
        "nbsimplegrader": {
          "config_key": "code.run-only",
          "editable": false,
          "label": "Code: Run-Only",
          "respondable": false,
          "response": null,
          "runnable": true,
          "type": "code"
        },
        "output_cleared": true,
        "owner_user_id": "23d85493-7ed1-49a4-baa7-630eaab08193",
        "source_hash": "7e4fefc3",
        "trusted": true
      },
      "outputs": [],
      "source": "# This code will load the R packages we will use\nsuppressPackageStartupMessages({\n    library(coursekata)\n})\n\nexp1 <- read.csv(\"https://docs.google.com/spreadsheets/d/e/2PACX-1vT0BJOSII2SFORMbCO9pnXZKCwMzjnBhcHD0QCziE1qbQJcsJz1wjHg3fTLYXfpiA9MICNV5S1IceDf/pub?gid=974536451&single=true&output=csv\")\nexp2 <- read.csv(\"https://docs.google.com/spreadsheets/d/e/2PACX-1vSIrbyNRhOUYD_4nn4xOtQ0tJjNaIn7X4RaqQTG9Zc5Vr3mreonLC4_lbt1FdWgvkW_pRJSvOxDjhNp/pub?gid=636600208&single=true&output=csv\")\n\nexp1$infected <- factor(exp1$infected)"
    },
    {
      "cell_type": "markdown",
      "metadata": {
        "cell_id": "405c9b1b65e944cebac3e31da6350529",
        "deepnote_cell_height": 115.9375,
        "deepnote_cell_type": "markdown",
        "tags": []
      },
      "source": "<div class=\"alert alert-block alert-success\">\n\n### 1.0 - Approximate Time: 5-8 mins\n    \n</div>"
    },
    {
      "cell_type": "markdown",
      "metadata": {
        "cell_id": "e5d71d81627143c084d8e0a9848fc1c6",
        "deepnote_cell_height": 680.578125,
        "deepnote_cell_type": "markdown",
        "tags": []
      },
      "source": "### Intro: The Eye Fluke\n\nAlthough animals typically survive by avoiding predators, this is a problem for parasites who need their hosts to be eaten in order to continue their life cycle.\n\nTake, for instance, the common parasite, the eye fluke (*Diplostomum pseudospathaceum*), which has a life cycle that takes place in three different types of animals.\n\n<img src=\"https://coursekata-course-assets.s3.us-west-1.amazonaws.com/UCLATALL/czi-stats-course/jnb_x0RhFXQq-image.png\" alt=\"life cycle of eye fluke\" width=600>\n\nThe eye fluke would really like it if the trout would get eaten by a bird (even if the trout wouldn't!).\n\nDr. Mikhail Gopko and colleagues conducted an experiment to see if parasite-infected trout would change their behavior in a way that would make them more likely to be eaten by birds (e.g., swim closer to the surface of the water)."
    },
    {
      "cell_type": "markdown",
      "metadata": {
        "cell_id": "9572c52a209640e6a82c1f4c2d59358b",
        "deepnote_cell_height": 69.96875,
        "deepnote_cell_type": "markdown",
        "tags": []
      },
      "source": "## 1.0 - The Data"
    },
    {
      "cell_type": "markdown",
      "metadata": {
        "cell_id": "f777261cf8ed46e6962ea5ed49519ba7",
        "deepnote_cell_height": 296.875,
        "deepnote_cell_type": "markdown",
        "tags": []
      },
      "source": "The data frame `exp1` contains data from this published study (https://link.springer.com/article/10.1007/s00265-017-2300-x). 46 lab-raised trout were randomly assigned to be either infected by eye fluke or not. \n\n- `infected` whether fish is in experimentally infected (1) or control (0) group\n- `fish_id` an identification number\n- `fish_mass_g` mass of fish in grams\n- `infection_intensity` number of eye flukes in fish eye lense\n- `depth` mean distance from bottom of aquarium measured in cm (larger numbers indicated shallower swimming--that is, closer to the surface)\n- `activity` number of gridlines crossed by fish in a 4 minute period  "
    },
    {
      "cell_type": "code",
      "execution_count": null,
      "metadata": {
        "cell_id": "8766a466a70349b5a5a46714ea10ebc0",
        "deepnote_cell_type": "code",
        "deepnote_to_be_reexecuted": false,
        "execution_millis": 58,
        "execution_start": 1667511117073,
        "output_cleared": true,
        "source_hash": "a792f5a0",
        "tags": [],
        "trusted": true
      },
      "outputs": [],
      "source": "# Take a look at the data frame\nstr(exp1)"
    },
    {
      "cell_type": "markdown",
      "metadata": {
        "cell_id": "b3ef398491b248bf9f440f5acc16892b",
        "deepnote_cell_height": 74.75,
        "deepnote_cell_type": "markdown",
        "tags": []
      },
      "source": "1.1 - If parasites indeed change their fishy hosts' behaviors, which of the variables above might be interesting outcomes to consider?"
    },
    {
      "cell_type": "markdown",
      "metadata": {
        "cell_id": "a4d85e53680d43f59a44fce0e7fbaebb",
        "deepnote_cell_height": 199.515625,
        "deepnote_cell_type": "markdown",
        "tags": []
      },
      "source": "<div class=\"alert alert-block alert-warning\">\n\n**Sample Responses**\n\nVariables such as `depth` and `activity` are relevant outcomes to the current research question, but other variables may interesting as well, such as `fish_mass_g`. \n\nStudents may also identify `infected` and `infection_intensity` as explanatory variables.\n\n    \n</div>"
    },
    {
      "cell_type": "markdown",
      "metadata": {
        "cell_id": "7705ff8ad80b460c9fbb68b7543557e5",
        "deepnote_cell_height": 52.359375,
        "deepnote_cell_type": "markdown",
        "tags": []
      },
      "source": "1.2 - Write a word equation to represent the researchers' hypothesis. "
    },
    {
      "cell_type": "markdown",
      "metadata": {
        "cell_id": "45e8dda4d1c9479099b8272f016cab35",
        "deepnote_cell_height": 258.296875,
        "deepnote_cell_type": "markdown",
        "tags": []
      },
      "source": "<div class=\"alert alert-block alert-warning\">\n\n**Note for Instructors**\n\nWe can potentially use both depth and activity; both have similar patterns but we'll focus on depth because it might be easier to understand how parasites might benefit from this behavior change.\n\n**Sample Response**\n\nDEPTH = INFECTED + ERROR\n    \n</div>"
    },
    {
      "cell_type": "markdown",
      "metadata": {
        "cell_id": "33f79e825a094c638db14df62c530934",
        "deepnote_cell_height": 115.9375,
        "deepnote_cell_type": "markdown",
        "tags": []
      },
      "source": "<div class=\"alert alert-block alert-success\">\n\n### 2.0 - Approximate Time: 8-10 mins\n    \n</div>"
    },
    {
      "cell_type": "markdown",
      "metadata": {
        "cell_id": "63a1da9eb13f4dfba324613d6255f7e9",
        "deepnote_cell_height": 69.96875,
        "deepnote_cell_type": "markdown",
        "tags": []
      },
      "source": "## 2.0 - Explore Variation"
    },
    {
      "cell_type": "markdown",
      "metadata": {
        "cell_id": "50b481a604de4e44b4be625bbede2e6d",
        "deepnote_cell_height": 74.75,
        "deepnote_cell_type": "markdown",
        "tags": []
      },
      "source": "**2.1 - Discussion:** Here is a visualization to help us explore this hypothesis. What do you think of this hypothesis from the data that you see?"
    },
    {
      "cell_type": "code",
      "execution_count": null,
      "metadata": {
        "cell_id": "3d3dcf42f7b14abb8f3077573f391fa4",
        "deepnote_cell_type": "code",
        "deepnote_to_be_reexecuted": false,
        "execution_millis": 271,
        "execution_start": 1667511117134,
        "output_cleared": true,
        "source_hash": "71b9e2a4",
        "tags": [],
        "trusted": true
      },
      "outputs": [],
      "source": "gf_jitter(depth ~ infected, data = exp1, width = .2, height = .2, size = 4) "
    },
    {
      "cell_type": "markdown",
      "metadata": {
        "cell_id": "54bce280352840868d5ee073a5c320b1",
        "deepnote_cell_height": 284.078125,
        "deepnote_cell_type": "markdown",
        "tags": []
      },
      "source": "<div class=\"alert alert-block alert-warning\">\n\n**Sample Responses**\n\n- Some students may see pretty similar distributions, and may disregard the points that look like outliers to them.\n- Some students may try to identify the approximate mean or center of the two distributions and see that the infected group seems to have a higher mean.\n- Some may notice there are more clumped near 0 for the control group, while the infected group has more of the higher values.\n- May be helpful to chain on `gf_boxplot()`\n    \n</div>"
    },
    {
      "cell_type": "markdown",
      "metadata": {
        "cell_id": "a159190146154dedb6d257a85d54580f",
        "deepnote_cell_height": 52.359375,
        "deepnote_cell_type": "markdown",
        "tags": []
      },
      "source": "**2.2 - Discussion:** Find this fish in the visualization above (we'll call it fish #3)."
    },
    {
      "cell_type": "code",
      "execution_count": null,
      "metadata": {
        "cell_id": "e6309ad2467f4b808e68e81c3731cb25",
        "deepnote_cell_type": "code",
        "deepnote_to_be_reexecuted": false,
        "execution_millis": 32,
        "execution_start": 1667511117408,
        "output_cleared": true,
        "source_hash": "58a7aa05",
        "tags": [],
        "trusted": true
      },
      "outputs": [],
      "source": "filter(exp1, fish_id == 3)"
    },
    {
      "cell_type": "markdown",
      "metadata": {
        "cell_id": "ed6a5a6ee34c4f3999a92ad8a1aa21ea",
        "deepnote_cell_height": 221.90625,
        "deepnote_cell_type": "markdown",
        "tags": []
      },
      "source": "<div class=\"alert alert-block alert-warning\">\n\n**Note to Instructors**\n\nThis requires students to identify key information from fish #3: `infected` = 0; `depth` = 11.9. They also need to use this information to identify which group the fish is in and then finding the dot around 12. \n\nAfter they have tried to identify fish #3, you can use the code below to \"color\" in fish #3.\n\n</div>"
    },
    {
      "cell_type": "code",
      "execution_count": null,
      "metadata": {
        "cell_id": "af0b4f0285354649a1e6d968f3ccbde7",
        "deepnote_cell_type": "code",
        "deepnote_to_be_reexecuted": false,
        "execution_millis": 1,
        "execution_start": 1667511117482,
        "output_cleared": true,
        "source_hash": "d2e76d1e",
        "tags": [],
        "trusted": true
      },
      "outputs": [],
      "source": "# a visualization that will color fish #3's dot in a different color\n# gf_jitter(depth ~ infected, data = exp1, width = .2, height = .2, size = 4, color = ~fish_id == 3) "
    },
    {
      "cell_type": "markdown",
      "metadata": {
        "cell_id": "cd1ddbf009b046e380e388d61fe01953",
        "deepnote_cell_height": 111.140625,
        "deepnote_cell_type": "markdown",
        "tags": []
      },
      "source": "2.3 - Could we have gotten a distribution of data like this if parasites didn't really affect swimming in the Data Generating Process? How would we represent that as the word equation? \n\n(Could we try it in R somehow?)"
    },
    {
      "cell_type": "markdown",
      "metadata": {
        "cell_id": "7b3a13adb59b4c79a804fc7de00b045b",
        "deepnote_cell_height": 331.078125,
        "deepnote_cell_type": "markdown",
        "tags": []
      },
      "source": "<div class=\"alert alert-block alert-warning\">\n\n**Sample Response**\n\nYes, we could have gotten this distribution from a DGP where the parasites are not actually affecting swimming behavior, because one DGP can produce lots of different samples. \n\ndepth = mean + error\n\nWe can simulate this in R using the `shuffle()` function.\n\n**Note to Instructors**\n\nYou might want to write both word equations somewhere (e.g. on the board) so that students can keep in mind that we are comparing models (the complex versus empty).\n    \n</div>"
    },
    {
      "cell_type": "code",
      "execution_count": null,
      "metadata": {
        "cell_id": "6a7160942e1948d0985af2530184ef31",
        "deepnote_cell_type": "code",
        "deepnote_to_be_reexecuted": false,
        "execution_millis": 1,
        "execution_start": 1667511117483,
        "output_cleared": true,
        "source_hash": "86effd65",
        "tags": [],
        "trusted": true
      },
      "outputs": [],
      "source": "# modify this code to mimic a no-effect-of-parasites DGP\n#gf_jitter(depth ~ infected, data = exp1, width = .2, height = .2, size = 4, color = ~fish_id == 3) \n\n\n# COMPLETE VERSION - add shuffle() to the outcome variable\n# gf_jitter(shuffle(depth) ~ infected, data = exp1, width = .2, height = .2, size = 4, color = ~fish_id == 3) "
    },
    {
      "cell_type": "markdown",
      "metadata": {
        "cell_id": "890a321bb23d48a09b8cfb009d7a27f3",
        "deepnote_cell_height": 74.75,
        "deepnote_cell_type": "markdown",
        "deepnote_to_be_reexecuted": false,
        "execution_millis": 1,
        "execution_start": 1635999232363,
        "source_hash": "37518c93",
        "tags": []
      },
      "source": "**2.4 - Discussion:** If eye flukes don't change their host's behavior, would fish #3 have acted differently even if it was infected? "
    },
    {
      "cell_type": "markdown",
      "metadata": {
        "cell_id": "7958a5ead7824b3283a4598d2312dfad",
        "deepnote_cell_height": 325.6875,
        "deepnote_cell_type": "markdown",
        "tags": []
      },
      "source": "<div class=\"alert alert-block alert-warning\">\n\n**Sample Response**\n\nIf they do not affect the trout's behavior then the fish should not have acted differently (it would have still swam at the same depth). This is what it means to have \"no effect\" (aka $\\beta_1=0$).\n\n**Note for Instructors**\n\nAfter discussing, run the simulation below a few times. This simulation mimics a world where there is no effect of being infected. Ask, \"in this DGP, when fish #3 is uninfected, what depth does it swim at? how about when infected?\" Thus, `shuffle()` mimics the DGP that eye flukes don't change their host's behavior.\n    \n\n\n</div>"
    },
    {
      "cell_type": "code",
      "execution_count": null,
      "metadata": {
        "cell_id": "886af3e3abd949f382145fc9a548ef20",
        "deepnote_cell_type": "code",
        "deepnote_to_be_reexecuted": false,
        "execution_millis": 0,
        "execution_start": 1667511117484,
        "output_cleared": true,
        "source_hash": "f9ef0ad8",
        "tags": [],
        "trusted": true
      },
      "outputs": [],
      "source": "#gf_jitter(shuffle(depth) ~ infected, data = exp1, width = .2, height = .2, size = 4, color = ~fish_id == 3) "
    },
    {
      "cell_type": "markdown",
      "metadata": {
        "cell_id": "8f4642a5c599417589cf2116ecba4f96",
        "deepnote_cell_height": 115.9375,
        "deepnote_cell_type": "markdown",
        "tags": []
      },
      "source": "<div class=\"alert alert-block alert-success\">\n\n### 3.0 - Approximate Time: 8-10 mins\n    \n</div>"
    },
    {
      "cell_type": "markdown",
      "metadata": {
        "cell_id": "4cb528a90f1049dda7b7f24f0f1d4257",
        "deepnote_cell_height": 69.96875,
        "deepnote_cell_type": "markdown",
        "tags": []
      },
      "source": "## 3.0 - Model Variation in the Sample"
    },
    {
      "cell_type": "markdown",
      "metadata": {
        "cell_id": "b6bdc9cb9934496bbdf6f61b88e0d96f",
        "deepnote_cell_height": 125.34375,
        "deepnote_cell_type": "markdown",
        "nbsimplegrader": {
          "config_key": "markdown.response",
          "editable": true,
          "label": "Response: Markdown",
          "respondable": true,
          "response": null,
          "runnable": true,
          "type": "markdown"
        },
        "tags": []
      },
      "source": "3.1 - What's the best fitting model of the data based on the researchers' hypothesis? \n\nSpecify and fit a formal model (in GLM format). \n\n$Y_i = ... + e_i$"
    },
    {
      "cell_type": "code",
      "execution_count": null,
      "metadata": {
        "cell_id": "2f36385a6d174b0da073bb88759b7ce8",
        "deepnote_cell_type": "code",
        "deepnote_to_be_reexecuted": false,
        "execution_millis": 2,
        "execution_start": 1667511117528,
        "output_cleared": true,
        "source_hash": "d66a9f78",
        "tags": [],
        "trusted": true
      },
      "outputs": [],
      "source": "# COMPLETE VERSION\nfluke_model <- lm(depth ~ infected, data = exp1)\nfluke_model"
    },
    {
      "cell_type": "markdown",
      "metadata": {
        "cell_id": "783d9e336ad240beba8ea20cafe0e7fa",
        "deepnote_cell_height": 140.9375,
        "deepnote_cell_type": "markdown",
        "tags": []
      },
      "source": "<div class=\"alert alert-block alert-warning\">\n\n**Sample Response**\n\n$depth = 10.27 + 3.83(infected) + e_i$\n    \n</div>"
    },
    {
      "cell_type": "markdown",
      "metadata": {
        "cell_id": "70bf30231d914d799f6af8c93957d6af",
        "deepnote_cell_height": 150.9375,
        "deepnote_cell_type": "markdown",
        "nbsimplegrader": {
          "config_key": "markdown.response",
          "editable": true,
          "label": "Response: Markdown",
          "respondable": true,
          "response": null,
          "runnable": true,
          "type": "markdown"
        },
        "tags": []
      },
      "source": "3.2 - Interpret the best fitting estimates in that model by connecting them to the visualization below.\n\n- $b_0$: \n- $b_1$:"
    },
    {
      "cell_type": "code",
      "execution_count": null,
      "metadata": {
        "cell_id": "91539bcc43d24b91a1be7f077cf7e79b",
        "deepnote_cell_type": "code",
        "deepnote_to_be_reexecuted": false,
        "execution_millis": 134,
        "execution_start": 1667511117529,
        "output_cleared": true,
        "source_hash": "9e7e1617",
        "tags": [],
        "trusted": true
      },
      "outputs": [],
      "source": "gf_jitter(depth ~ infected, data = exp1, width = .2, height = .2, size = 4) %>%\n    gf_model(depth ~ infected, data = exp1, color = \"red\")"
    },
    {
      "cell_type": "markdown",
      "metadata": {
        "cell_id": "a1d61280734f407f87aca27afebce9ac",
        "deepnote_cell_height": 188.921875,
        "deepnote_cell_type": "markdown",
        "tags": []
      },
      "source": "<div class=\"alert alert-block alert-warning\">\n\n**Sample Response**\n\n- $b_0$: The average `depth` of the non-infected group (the mean line for group `0` in the plot).\n- $b_1$: The amount of `depth` added to $b_0$ to get the mean `depth` of the infected group (the distance, or increment, between the mean line for group `0` and the mean line for group `1`).\n\n    \n</div>"
    },
    {
      "cell_type": "markdown",
      "metadata": {
        "cell_id": "ebba3048e8344ccf8267ced48763f065",
        "deepnote_cell_height": 115.9375,
        "deepnote_cell_type": "markdown",
        "tags": []
      },
      "source": "<div class=\"alert alert-block alert-success\">\n\n### 4.0 - Approximate Time: 10-12 mins\n    \n</div>"
    },
    {
      "cell_type": "markdown",
      "metadata": {
        "cell_id": "beb375045d05481cab3990daedffc3bb",
        "deepnote_cell_height": 69.96875,
        "deepnote_cell_type": "markdown",
        "tags": []
      },
      "source": "## 4.0 - But what's the best model of the DGP?"
    },
    {
      "cell_type": "markdown",
      "metadata": {
        "cell_id": "599fb3f5804b44ddbbb9da1bd2576d66",
        "deepnote_cell_height": 74.75,
        "deepnote_cell_type": "markdown",
        "nbsimplegrader": {
          "config_key": "markdown.response",
          "editable": true,
          "label": "Response: Markdown",
          "respondable": true,
          "response": null,
          "runnable": true,
          "type": "markdown"
        },
        "tags": []
      },
      "source": "4.1a - Is it possible that there is no difference between these two groups in the DGP? If so, how would we represent that hypothesis in GLM notation? "
    },
    {
      "cell_type": "markdown",
      "metadata": {
        "cell_id": "5670b65004cd4013b8905fe55b4ac417",
        "deepnote_cell_height": 295.09375,
        "deepnote_cell_type": "markdown",
        "tags": []
      },
      "source": "<div class=\"alert alert-block alert-warning\">\n\n**Sample Response**\n\nYes, it is possible, and in that case we can just use the grand mean as our prediction, regardless of `infected`.\n\nDEPTH = MEAN + ERROR\n\n$depth = \\beta_0 + \\epsilon_i$\n\n(Some students may think it is $depth = b_0 + e_i$ but this equation represents the empty model fit to the sample -- not the DGP's model.)\n    \n</div>"
    },
    {
      "cell_type": "markdown",
      "metadata": {
        "cell_id": "5f24ea08889842fda90d57c0dfbf2d50",
        "deepnote_cell_height": 74.75,
        "deepnote_cell_type": "markdown",
        "tags": []
      },
      "source": "4.1b - Is it possible that the researchers are right and infected fish really are different from uninfected fish in the DGP? If so, how would we represent that hypothesis in GLM notation? "
    },
    {
      "cell_type": "markdown",
      "metadata": {
        "cell_id": "8d697962b22344bba40968c60ba34669",
        "deepnote_cell_height": 213.921875,
        "deepnote_cell_type": "markdown",
        "tags": []
      },
      "source": "<div class=\"alert alert-block alert-warning\">\n\n**Sample Response**\n\nDEPTH = INFECTED + ERROR\n\n$depth = \\beta_0 +\\beta_1(infected) + e_i$\n\n$depth = 10.27 + 3.83(infected) + \\epsilon_i$\n\n    \n</div>"
    },
    {
      "cell_type": "markdown",
      "metadata": {
        "cell_id": "38c9829d256245339272239637cb3c5c",
        "deepnote_cell_height": 75.15625,
        "deepnote_cell_type": "markdown",
        "tags": []
      },
      "source": "4.2 - What is our best guess for the $\\beta_1$ in the two equations above? What would happen to the 2nd model if $\\beta_1 = 0$? "
    },
    {
      "cell_type": "markdown",
      "metadata": {
        "cell_id": "28e032d47cd347b19c5943c4d609e97f",
        "deepnote_cell_height": 272.90625,
        "deepnote_cell_type": "markdown",
        "tags": []
      },
      "source": "<div class=\"alert alert-block alert-warning\">\n\n**Sample Response**\n\nOur best guess for the true $\\beta_1$ in the DGP is our sample $b_1$ of 3.83.\n\nThe 2nd model would become equivalent to the first model (the empty model).\n\n**Note to Instructors:** \n\nThis may feel tricky since the empty model (4.1a) doesn't have an explicit $\\beta_1$. It may be helpful to discuss why $\\beta_1=0$ is mathematically equivalent to leaving it out of the model.\n\n</div>"
    },
    {
      "cell_type": "markdown",
      "metadata": {
        "cell_id": "55342e584d6b4654a7358052f8c2b32a",
        "deepnote_cell_height": 74.953125,
        "deepnote_cell_type": "markdown",
        "tags": []
      },
      "source": "4.3 - Could the $\\beta_1$ in the DGP be a different number than either of the two numbers above? What else could it be? "
    },
    {
      "cell_type": "markdown",
      "metadata": {
        "cell_id": "97f521e3a72c4f3e96cb0c486d570f4f",
        "deepnote_cell_height": 326.5,
        "deepnote_cell_type": "markdown",
        "tags": []
      },
      "source": "<div class=\"alert alert-block alert-warning\">\n\n**Sample Response**\n\nThe $\\beta_1$ could be an infinite number of values between zero and the max depth of the aquarium (on the positive or negative side). It could be the same as our sample, but it could also be 4.83, or -2.12854, or 0, or....\n\n**Note to Instructors**\n\nIt might be helpful to show on the graph and discuss what different $\\beta_1$s could look like and what they would mean (e.g., if $b_1$ were a positive or negative value, or if it were zero?). The graph can also help them figure out what the reasonable limit for the most extreme $b_1$ could be (i.e., there is a limited amount of depth in an aquarium so the $b_1$ should not exceed that).\n\n</div>"
    },
    {
      "cell_type": "markdown",
      "metadata": {
        "cell_id": "1624ace4c27645088b2d22a182b557e8",
        "deepnote_cell_height": 115.9375,
        "deepnote_cell_type": "markdown",
        "tags": []
      },
      "source": "<div class=\"alert alert-block alert-success\">\n\n### 5.0 - Approximate Time: 12-15 mins\n    \n</div>"
    },
    {
      "cell_type": "markdown",
      "metadata": {
        "cell_id": "9c488625319f49a1bd20857f54d6076b",
        "deepnote_cell_height": 109.96875,
        "deepnote_cell_type": "markdown",
        "tags": []
      },
      "source": "## 5.0 - Simulating a DGP where there is no effect of parasite"
    },
    {
      "cell_type": "markdown",
      "metadata": {
        "cell_id": "2351f1faaa8b4c38bf56760f51d49ee0",
        "deepnote_cell_height": 97.5625,
        "deepnote_cell_type": "markdown",
        "tags": []
      },
      "source": "We can simulate a DGP with a certain $\\beta_1$ (such as $\\beta_1 = 0$, no effect of parasite infection) and look at all the $b_1$s that it can produce. Then we can ask: Does our sample seem \"unlikely\" to have come from this DGP? If so, then we might reject the empty model of the DGP."
    },
    {
      "cell_type": "markdown",
      "metadata": {
        "cell_id": "8682e622557f4e348abfa2f10c9ff215",
        "deepnote_cell_height": 74.953125,
        "deepnote_cell_type": "markdown",
        "nbsimplegrader": {
          "config_key": "markdown.response",
          "editable": true,
          "label": "Response: Markdown",
          "respondable": true,
          "response": null,
          "runnable": true,
          "type": "markdown"
        },
        "tags": []
      },
      "source": "5.1 - What kind of world does `shuffle()` mimic? Represent the shuffle DGP using GLM notation: $Y_i = \\beta_0 + \\beta_1 X_i + \\epsilon_i$"
    },
    {
      "cell_type": "markdown",
      "metadata": {
        "cell_id": "4f0cca39f5b044f88606ed001c022a2a",
        "deepnote_cell_height": 236.3125,
        "deepnote_cell_type": "markdown",
        "tags": []
      },
      "source": "<div class=\"alert alert-block alert-warning\">\n\n**Sample Response**\n\nThis question is just to revisit the idea from 4.1a. A way to check who is still having trouble with the idea of $\\beta_1=0$. \n\nIt mimics a world where there is no effect of the eye fluke on the trout's depth.\n\n$Y_i = \\beta_0 + 0*X_i + \\epsilon_i$\n    \n</div>"
    },
    {
      "cell_type": "markdown",
      "metadata": {
        "cell_id": "b958a659eb204c06ae07b2685cb18496",
        "deepnote_cell_height": 52.359375,
        "deepnote_cell_type": "markdown",
        "tags": []
      },
      "source": "5.2a - Run the code below a few times. Why does only one of the numbers change? "
    },
    {
      "cell_type": "code",
      "execution_count": null,
      "metadata": {
        "cell_id": "9613e9c09bf1434a8b4f54db51f425d1",
        "deepnote_cell_type": "code",
        "deepnote_to_be_reexecuted": false,
        "execution_millis": 2,
        "execution_start": 1667511117706,
        "nbsimplegrader": {
          "config_key": "code.run-only",
          "editable": false,
          "label": "Code: Run-Only",
          "respondable": false,
          "response": null,
          "runnable": true,
          "type": "code"
        },
        "output_cleared": true,
        "source_hash": "291f2372",
        "tags": [],
        "trusted": true
      },
      "outputs": [],
      "source": "sample_b1 <- b1(depth ~ infected, data = exp1)\nsample_b1\n\nb1(shuffle(depth) ~ infected, data = exp1)"
    },
    {
      "cell_type": "markdown",
      "metadata": {
        "cell_id": "b76611656ad440cf978435192d2694db",
        "deepnote_cell_height": 222.3125,
        "deepnote_cell_type": "markdown",
        "tags": []
      },
      "source": "<div class=\"alert alert-block alert-warning\">\n\n**Sample Response**\n\nThe first number is our sample $b_1$ and since our sample doesn't change, it stays the same.\n\nThe second number changes because the `shuffle()` function mimics \"no effect of infection\" and fish are randomly put into the `infected` groups. Each time we get a different $b_1$ (based on this random DGP).\n\n    \n</div>"
    },
    {
      "cell_type": "markdown",
      "metadata": {
        "cell_id": "c771e4305f764d26be5203e9c6f92986",
        "deepnote_cell_height": 52.359375,
        "deepnote_cell_type": "markdown"
      },
      "source": "5.2b - What does the shuffled `b1` mean?"
    },
    {
      "cell_type": "code",
      "execution_count": null,
      "metadata": {
        "cell_id": "3c93a8abb8294e5c84cf8c6c9cd128b4",
        "deepnote_cell_type": "code",
        "deepnote_to_be_reexecuted": false,
        "execution_millis": 127,
        "execution_start": 1667511117707,
        "output_cleared": true,
        "source_hash": "c37f2713",
        "tags": [],
        "trusted": true
      },
      "outputs": [],
      "source": "# COMPLETE VERSION\n# if you want to show plot with shuffled data to show what a shuffled b1 means \n\nexp1$shuff_depth <- shuffle(exp1$depth)\nshuff_model <- lm(shuff_depth ~ infected, data = exp1)\n\ngf_jitter(shuff_depth ~ infected, data = exp1, width = .2, color = \"orange\", height = .2, alpha = .5, size = 4) %>%\n    gf_point(predict(shuff_model) ~ infected, color = \"black\") \n\nprint(\"the shuffled b1 is:\")\nprint(b1(shuff_model))"
    },
    {
      "cell_type": "markdown",
      "metadata": {
        "cell_id": "cc0587ba065943d88fb2daecaecbeb25",
        "deepnote_cell_height": 163.328125,
        "deepnote_cell_type": "markdown",
        "tags": []
      },
      "source": "<div class=\"alert alert-block alert-warning\">\n\n**Sample Response**\n\nThe shuffled $b_1$ means that is the difference between group means that we would expect if `infected` had nothing to do with `depth`.\n    \n</div>"
    },
    {
      "cell_type": "markdown",
      "metadata": {
        "cell_id": "0e64bbdf2db84e258d4f03b5e43e2048",
        "deepnote_cell_height": 594.125,
        "deepnote_cell_type": "markdown",
        "tags": []
      },
      "source": "5.3 - Which of the following are shuffled data? Which one is the real data?\n\n(Also, roughly estimate the values of the shuffled `b1`s. How are they different from the sample `b1`?)\n\n<img src=\"https://coursekata-course-assets.s3.us-west-1.amazonaws.com/UCLATALL/czi-stats-course/jnb_9mndF9qP-image.png\" alt=\"a 3x3 panel of 8 shuffled data and one real data\">"
    },
    {
      "cell_type": "markdown",
      "metadata": {
        "cell_id": "8691cc90c2eb415e87e3e2c213d0d57c",
        "deepnote_cell_height": 244.296875,
        "deepnote_cell_type": "markdown",
        "tags": []
      },
      "source": "<div class=\"alert alert-block alert-warning\">\n\n**Sample Response**\n\nMost of the shuffled b1s look pretty close to zero (not much of a difference between the two mean lines). Except for maybe the first one (first row, first column); it appears to show the opposite pattern of our sample data.\n\nPlot F, in the third column and second row is the real data. Note that this `b1` is much bigger (more extreme) than the others.\n\n</div>"
    },
    {
      "cell_type": "markdown",
      "metadata": {
        "cell_id": "788da850b6224e5fa6c5d6cce7d5c205",
        "deepnote_cell_height": 52.5625,
        "deepnote_cell_type": "markdown",
        "tags": []
      },
      "source": "5.4 - Here is code for a single shuffled $b_1$. Try creating a sampling distribution of 1000 shuffled $b_1$s. "
    },
    {
      "cell_type": "code",
      "execution_count": null,
      "metadata": {
        "cell_id": "487560bfb6a24733af5da1a85fba064f",
        "deepnote_cell_type": "code",
        "deepnote_to_be_reexecuted": false,
        "execution_millis": 1592,
        "execution_start": 1667511117832,
        "nbsimplegrader": {
          "config_key": "code.response",
          "editable": true,
          "label": "Response: Code",
          "respondable": true,
          "response": null,
          "runnable": true,
          "type": "code"
        },
        "output_cleared": true,
        "source_hash": "a3bc67c3",
        "tags": [],
        "trusted": true
      },
      "outputs": [],
      "source": "b1(shuffle(depth) ~ infected, data = exp1)\n\n# COMPLETE VERSION\n# Add the do()* function and save it into a data frame\nsdob1 <- do(1000) * b1(shuffle(depth) ~ infected, data = exp1)\nhead(sdob1)"
    },
    {
      "cell_type": "markdown",
      "metadata": {
        "cell_id": "e60b22ce36bd4d079679f138abf1c661",
        "deepnote_cell_height": 74.953125,
        "deepnote_cell_type": "markdown",
        "tags": []
      },
      "source": "5.5 - Make a visualization of the sampling distribution of $b_1$ you created. What's the shape, center, spread of this distribution?"
    },
    {
      "cell_type": "markdown",
      "metadata": {
        "cell_id": "5c16462dd6b747659e7064caa0b10b64",
        "deepnote_cell_height": 140.71875,
        "deepnote_cell_type": "markdown",
        "tags": []
      },
      "source": "<div class=\"alert alert-block alert-warning\">\n\n**Sample Response**\n\nThe shape is normal, with a center around 0, and a spread that ranges from about -6 to 6.\n    \n</div>"
    },
    {
      "cell_type": "code",
      "execution_count": null,
      "metadata": {
        "cell_id": "226edbb0f33942a9a8f68ba913c3e9ad",
        "deepnote_cell_type": "code",
        "deepnote_to_be_reexecuted": false,
        "execution_millis": 1016,
        "execution_start": 1667511118618,
        "nbsimplegrader": {
          "config_key": "code.response",
          "editable": true,
          "label": "Response: Code",
          "respondable": true,
          "response": null,
          "runnable": true,
          "type": "code"
        },
        "output_cleared": true,
        "source_hash": "7b2ae340",
        "trusted": true
      },
      "outputs": [],
      "source": "# COMPLETE VERSION\n\nsdob1 <- do(1000) * b1(shuffle(depth) ~ infected, data = exp1)\ngf_histogram(~b1, data = sdob1, bins=100) \n\n# version of sdob1 with middle 95% of samples filled in\ngf_histogram(~b1, data = sdob1, fill = ~middle(b1, .95), bins=100, show.legend = FALSE) "
    },
    {
      "cell_type": "markdown",
      "metadata": {
        "cell_id": "69d6b7646f67433a984c3d6aedc696bf",
        "deepnote_cell_height": 115.9375,
        "deepnote_cell_type": "markdown",
        "tags": []
      },
      "source": "<div class=\"alert alert-block alert-success\">\n\n### 6.0 - Approximate Time: 12-15 mins\n    \n</div>"
    },
    {
      "cell_type": "markdown",
      "metadata": {
        "cell_id": "6f23d28dffe748f7bf45aa04bf2d8daf",
        "deepnote_cell_height": 69.96875,
        "deepnote_cell_type": "markdown",
        "tags": []
      },
      "source": "## 6.0 - Bringing in our sample"
    },
    {
      "cell_type": "markdown",
      "metadata": {
        "cell_id": "79171c91b157491196b0d14158940abd",
        "deepnote_cell_height": 74.75,
        "deepnote_cell_type": "markdown",
        "tags": []
      },
      "source": "6.1 - Where does our sample fall relative to this sampling distribution? Is it one of the \"unlikely\" samples?"
    },
    {
      "cell_type": "markdown",
      "metadata": {
        "cell_id": "325960116f5e48ed9f66b7da7b3a0032",
        "deepnote_cell_height": 347.875,
        "deepnote_cell_type": "markdown",
        "tags": []
      },
      "source": "<div class=\"alert alert-block alert-warning\">\n\n**Sample Response**\n\nThis may be hard to tell at first because the point falls right along the border of the \"unlikely\" samples. \n\nStudents may want a more certain way of figuring this out. If they want to know for sure, encourage them to figure out a way where they can check if this sample `b1` is in the outer .05 of samples (e.g., using `tally()`). You can also tell them that they already know a function that will calculate the probability of getting this sample or more extreme (the `supernova()` function.\n\nYou may also want to run the simulation a few times. Sometimes, due to random chance, the point falls more clearly in the unlikely area.\n \n</div>"
    },
    {
      "cell_type": "code",
      "execution_count": null,
      "metadata": {
        "cell_id": "f94f3541e03a45069bf8ef81fa3dd820",
        "deepnote_cell_type": "code",
        "deepnote_to_be_reexecuted": false,
        "execution_millis": 923,
        "execution_start": 1667511119678,
        "output_cleared": true,
        "source_hash": "fa1d9a02",
        "tags": [],
        "trusted": true
      },
      "outputs": [],
      "source": "sdob1 <- do(1000) * b1(shuffle(depth) ~ infected, data = exp1)\n\n# COMPLETE VERSION\n# Add gf_point()\ngf_histogram(~b1, data = sdob1, fill = ~middle(b1, .95), bins=100) %>%\n    gf_point(0 ~ sample_b1, color = \"black\")"
    },
    {
      "cell_type": "markdown",
      "metadata": {
        "cell_id": "2629f802e16441998fb5a11439732e26",
        "deepnote_cell_height": 206.9375,
        "deepnote_cell_type": "markdown",
        "tags": []
      },
      "source": "Let's recap what all this means using our [distribution triad diagram](https://docs.google.com/presentation/d/1PTEFZGFKLX6mDa3GeceXkkmFTNEOOy2k1K6Tg3InVas/copy)\n\nWe started off thinking, \"Maybe there is no effect of parasites on swimming behavior. Fish are going to swim at the same depth whether they are infected or not.\" We call that the empty model (so $\\beta_1=0$). This is what we simulated when we did all these shuffles.\n\nBut our real sample is an unlikely $b_1$ from the empty model of the DGP.\n\n(Fill in the $\\beta_1$ and $b_1$ values on the diagram and move the distributions around accordingly.)"
    },
    {
      "cell_type": "markdown",
      "metadata": {
        "cell_id": "b8b3aebd82384af8a5335ab647dcbce9",
        "deepnote_cell_height": 186.125,
        "deepnote_cell_type": "markdown",
        "tags": []
      },
      "source": "<div class=\"alert alert-block alert-warning\">\n\n**Note to Instructors**\n\nStudents should adjust the values for $\\beta_1$ and $b_1$ and slide the distribution side-to-side to see which $\\beta_1$s could still likely produce our sample. That is, how high or low could $\\beta_1$ move until our sample $b_1$ becomes \"unlikely\"?\n    \n</div>"
    },
    {
      "cell_type": "markdown",
      "metadata": {
        "cell_id": "b9d3253720fd4f93beb823d375611e26",
        "deepnote_cell_height": 52.359375,
        "deepnote_cell_type": "markdown",
        "tags": []
      },
      "source": "6.2 - So what do you think about the empty model as a possible model of the DGP?"
    },
    {
      "cell_type": "markdown",
      "metadata": {
        "cell_id": "4dee7fba46404a3cac4b1dbcde137ab5",
        "deepnote_cell_height": 163.125,
        "deepnote_cell_type": "markdown",
        "tags": []
      },
      "source": "<div class=\"alert alert-block alert-warning\">\n\n**Sample Response**\n\nThis sample is unlikely to come from the empty model of the DGP. So it does not seem to be the model that generated this sample.\n    \n</div>"
    },
    {
      "cell_type": "markdown",
      "metadata": {
        "cell_id": "aea0063927d64008af46814bbaacab38",
        "deepnote_cell_height": 52.359375,
        "deepnote_cell_type": "markdown",
        "tags": []
      },
      "source": "6.3 - Going back to the researchers, what does this mean for their hypothesis? "
    },
    {
      "cell_type": "markdown",
      "metadata": {
        "cell_id": "6deae29e79394c7685da5e25dc29f72e",
        "deepnote_cell_height": 185.515625,
        "deepnote_cell_type": "markdown",
        "tags": []
      },
      "source": "<div class=\"alert alert-block alert-warning\">\n\n**Sample Response**\n\nIt means that fish that are infected are different than uninfected. They tend to swim closer to the surface (more extreme than expected by random chance), making them more vulnerable to hungry birds, and thus, making it more likely that the parasite can complete its life cycle.\n    \n</div>"
    }
  ],
  "metadata": {
    "deepnote_notebook_id": "246473b561b54ed1b2b3f087edaa8332",
    "kernelspec": {
      "display_name": "R",
      "language": "R",
      "name": "ir"
    },
    "language_info": {
      "codemirror_mode": "r",
      "file_extension": ".r",
      "mimetype": "text/x-r-source",
      "name": "R",
      "pygments_lexer": "r",
      "version": "4.3.3"
    },
    "nbsimplegrader": {
      "publish_config": {
        "classes": [],
        "options": [],
        "tools": []
      }
    }
  },
  "nbformat": 4,
  "nbformat_minor": 1
}