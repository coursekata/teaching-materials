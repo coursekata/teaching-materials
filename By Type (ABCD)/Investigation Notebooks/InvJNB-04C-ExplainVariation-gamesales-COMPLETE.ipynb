{
  "cells": [
    {
      "cell_type": "markdown",
      "metadata": {
        "cell_id": "4329c6c5bb5745c79e8c34fb1f3a001c",
        "deepnote_cell_height": 379.296875,
        "deepnote_cell_type": "markdown",
        "nbsimplegrader": {
          "config_key": "markdown.view-only",
          "editable": false,
          "label": "Markdown: View-Only",
          "respondable": false,
          "response": null,
          "runnable": false,
          "type": "markdown"
        },
        "output_cleared": false
      },
      "source": "<div class=\"alert alert-block alert-danger\">\n\n# 4C: Explaining Variation in Video Games (COMPLETE)\n\n**Lesson assumes students have read up through page: 4.5**\n\n**Use with textbook version 5.6+**\n\n*The notebooks for this chapter were recently updated. If you are looking for older versions, try the [5.0 Starter Pack](https://deepnote.com/workspace/CourseKata-Development-Team-1c292fd0-1fa1-4c37-84a8-0f54cdf53266/project/CourseKata-v50-Teacher-Starter-Pack-7db8e03d-a80e-45b9-90ed-28876d837280?utm_content=7db8e03d-a80e-45b9-90ed-28876d837280) or reach out to CourseKata support.*\n\n</div>"
    },
    {
      "cell_type": "markdown",
      "metadata": {
        "cell_id": "998387b49bfe4c1a9391f174de3d7344",
        "deepnote_cell_type": "markdown"
      },
      "source": "<div class=\"alert alert-block alert-warning\">\n\n**Note to instructors**\n\nThis notebook uses a *filtered* version of the gamesales data frame. We load it with the same name as the data frame used in 3B, but this version only includes data from three game platforms. \n\n</div>"
    },
    {
      "cell_type": "markdown",
      "metadata": {
        "cell_id": "b5024fd3f5ed45a1ad7f3b9a2359491e",
        "deepnote_cell_height": 163.9375,
        "deepnote_cell_type": "markdown",
        "output_cleared": false,
        "tags": []
      },
      "source": "<div class=\"alert alert-block alert-success\">\n\n## Approximate time to complete Notebook: 50-65 Mins\n\n</div>"
    },
    {
      "cell_type": "code",
      "execution_count": null,
      "metadata": {
        "cell_id": "dde519e1c2344628b2d29a4d7206418b",
        "deepnote_cell_height": 129.953125,
        "deepnote_cell_type": "code",
        "deepnote_to_be_reexecuted": false,
        "execution_context_id": "81790afb-51c3-47e6-9e1b-be4127311a64",
        "execution_millis": 8,
        "execution_start": 1729559104976,
        "nbsimplegrader": {
          "config_key": "code.run-only",
          "editable": false,
          "label": "Code: Run-Only",
          "respondable": false,
          "response": null,
          "runnable": true,
          "type": "code"
        },
        "output_cleared": false,
        "source_hash": "116f7300",
        "trusted": true
      },
      "outputs": [],
      "source": "# This code will load the R packages we will use\nsuppressPackageStartupMessages({\n    library(coursekata)\n})"
    },
    {
      "cell_type": "code",
      "execution_count": null,
      "metadata": {
        "cell_id": "2dd7bc5d3e4140d8ade8c18bd670f081",
        "deepnote_cell_height": 134.953125,
        "deepnote_cell_type": "code",
        "deepnote_to_be_reexecuted": false,
        "execution_context_id": "81790afb-51c3-47e6-9e1b-be4127311a64",
        "execution_millis": 1532,
        "execution_start": 1729559109411,
        "nbsimplegrader": {
          "config_key": "code.run-only",
          "editable": false,
          "label": "Code: Run-Only",
          "respondable": false,
          "response": null,
          "runnable": true,
          "type": "code"
        },
        "output_cleared": false,
        "source_hash": "f2ced0b8",
        "trusted": true
      },
      "outputs": [],
      "source": "# This code will import the data frame with the filtered Platform variable\n\ngamesales_csv_link <- \"https://docs.google.com/spreadsheets/d/e/2PACX-1vQoFFhkA1rGSNoPoeOUnt-Km6uZbnyUyLSUNyj6kmIszrXOZdr-SEsNNOibiZBVPxwJ2n2XiG3iKk07/pub?gid=722274646&single=true&output=csv\"\ngamesales <- read.csv(gamesales_csv_link, header = TRUE)"
    },
    {
      "cell_type": "code",
      "execution_count": null,
      "metadata": {
        "cell_id": "b5fd418ecb594594ad325533c06bf0e4",
        "deepnote_cell_type": "code",
        "execution_context_id": "81790afb-51c3-47e6-9e1b-be4127311a64",
        "execution_millis": 85,
        "execution_start": 1729559126028,
        "source_hash": "ba6d1bf",
        "trusted": true
      },
      "outputs": [],
      "source": "gamesales"
    },
    {
      "cell_type": "markdown",
      "metadata": {
        "cell_id": "7364f9a6763a44ae9576f241516135bd",
        "deepnote_cell_height": 115.9375,
        "deepnote_cell_type": "markdown",
        "output_cleared": false,
        "tags": []
      },
      "source": "<div class=\"alert alert-block alert-success\">\n\n### 1.0 - Approximate Time:  5-8 mins\n\n</div>"
    },
    {
      "cell_type": "markdown",
      "metadata": {
        "cell_id": "8ed559a58a1c464eba4dca3ac027341e",
        "deepnote_cell_height": 170.75,
        "deepnote_cell_type": "markdown",
        "nbsimplegrader": {
          "config_key": "markdown.view-only",
          "editable": false,
          "label": "Markdown: View-Only",
          "respondable": false,
          "response": null,
          "runnable": false,
          "type": "markdown"
        },
        "output_cleared": false
      },
      "source": "## 1.0 - Why are some games better than others?\n\nA little while ago, we explored how critics and users rate games. Now let’s turn our attention to this question: Why are some games rated more highly than others? "
    },
    {
      "cell_type": "markdown",
      "metadata": {
        "cell_id": "3897af07268446b78674013f31202242",
        "deepnote_cell_height": 52.359375,
        "deepnote_cell_type": "markdown",
        "nbsimplegrader": {
          "config_key": "markdown.view-only",
          "editable": false,
          "label": "Markdown: View-Only",
          "respondable": false,
          "response": null,
          "runnable": false,
          "type": "markdown"
        },
        "output_cleared": false
      },
      "source": "1.1 - Let’s get your first impressions. Why do you think some games are “better” than others?"
    },
    {
      "cell_type": "markdown",
      "metadata": {
        "cell_id": "9572a81040c24a629249534287e2eb42",
        "deepnote_cell_height": 301.078125,
        "deepnote_cell_type": "markdown",
        "output_cleared": false,
        "tags": []
      },
      "source": "<div class=\"alert alert-block alert-warning\">\n\n**Sample Response**\n\n*Student answers will vary. Some possible ideas:*\n\n- Some games are more easy or difficult than others\n- Some games have better graphics than others\n- Some games are more fun than others\n- Some games may have a franchise/characters that are more familiar or nostalgic than others\n- Some games have a bigger budget than others\n\n</div>"
    },
    {
      "cell_type": "markdown",
      "metadata": {
        "cell_id": "38b7444eb0154f71a31ad986b69523a5",
        "deepnote_cell_height": 718.046875,
        "deepnote_cell_type": "markdown",
        "nbsimplegrader": {
          "config_key": "markdown.view-only",
          "editable": false,
          "label": "Markdown: View-Only",
          "respondable": false,
          "response": null,
          "runnable": false,
          "type": "markdown"
        },
        "output_cleared": false
      },
      "source": "### About the `gamesales` data \n\nWe will be using the `gamesales` data set. Because there are over 30 platform categories in this data frame, these data have been filtered to include only three platforms that were produced by popular competitors and were released around the same time (between 2005-2006): \n - PS3 (Sony, 2005)\n - Wii (Nintendo, 2006)\n - X360 (Microsoft, 2006)\n\nSince we are loading the data from a CSV, there is no documentation for the data frame. That means you can't use `gamesales` to get more information about the variables. Instead, here is a description of each of the variables:\n\n\n| Variable          | Description                                                   |\n|:------------------|:--------------------------------------------------------------|\n| `Name`            | The video game's name                                         |\n| `Platform`        | Platform of the game’s release; PS3, Wii, and X360            |\n| `Year_of_Release` | Year of the game's release                                    |\n| `Genre`           | Genre of the game                                             |\n| `Publisher`       | Publisher of the game                                         |\n| `NA_Sales`        | Sales in North America (in millions)                          |\n| `EU_Sales`        | Sales in Europe (in millions)                                 |\n| `JP_Sales`        | Sales in Japan (in millions)                                  |\n| `Other_Sales`     | Sales in the rest of the world (in millions)                  |\n| `Global_Sales`    | Total worldwide sales (in millions)                           |\n| `Critic_Score`    | Aggregate score compiled by Metacritic staff                  |\n| `Critic_Count`    | The number of critics used in coming up with the critic score |\n| `User_Score`      | Score by Metacritic's subscribers                             |\n| `User_Count`      | Number of users who gave the user score                       |\n| `Rating`          | The ESRB ratings (Entertainment Software Rating Board)        |"
    },
    {
      "cell_type": "markdown",
      "metadata": {
        "cell_id": "4341529ea95944c791479711039c5a87",
        "deepnote_cell_height": 169.921875,
        "deepnote_cell_type": "markdown",
        "nbsimplegrader": {
          "config_key": "markdown.view-only",
          "editable": false,
          "label": "Markdown: View-Only",
          "respondable": false,
          "response": null,
          "runnable": false,
          "type": "markdown"
        },
        "output_cleared": false
      },
      "source": "1.2 - Let’s consider one hypothesis as a class: \n\n> Game developers might create better games for some platforms than others. Maybe that’s why those games might then be rated more highly. \n\nLet’s call this the Platform hypothesis. Before we look at the data, what do you think about this hypothesis? Do you think it’s true? Which platform might have better or worse games? "
    },
    {
      "cell_type": "markdown",
      "metadata": {
        "cell_id": "9ed82dbce35e4722b5ee8b478766e90f",
        "deepnote_cell_height": 140.71875,
        "deepnote_cell_type": "markdown",
        "output_cleared": false,
        "tags": []
      },
      "source": "<div class=\"alert alert-block alert-warning\">\n\n**Sample Response**\n\n*Student answers will vary based on what they know about different video game platforms*\n\n</div>"
    },
    {
      "cell_type": "markdown",
      "metadata": {
        "cell_id": "d3d4c4ba453b430abc9fd732228d0251",
        "deepnote_cell_height": 115.9375,
        "deepnote_cell_type": "markdown",
        "output_cleared": false,
        "tags": []
      },
      "source": "<div class=\"alert alert-block alert-success\">\n\n### 2.0 - Approximate Time: 12-15 mins\n\n</div>"
    },
    {
      "cell_type": "markdown",
      "metadata": {
        "cell_id": "afae89ee9af84b1482616afcaf45ac3d",
        "deepnote_cell_height": 109.96875,
        "deepnote_cell_type": "markdown",
        "nbsimplegrader": {
          "config_key": "markdown.view-only",
          "editable": false,
          "label": "Markdown: View-Only",
          "respondable": false,
          "response": null,
          "runnable": false,
          "type": "markdown"
        },
        "output_cleared": false
      },
      "source": "## 2.0 - Exploring the Platform Hypothesis with Critic Scores"
    },
    {
      "cell_type": "markdown",
      "metadata": {
        "cell_id": "b7332a3fb36647ce8c6a86f2579eec70",
        "deepnote_cell_height": 97.140625,
        "deepnote_cell_type": "markdown",
        "nbsimplegrader": {
          "config_key": "markdown.view-only",
          "editable": false,
          "label": "Markdown: View-Only",
          "respondable": false,
          "response": null,
          "runnable": false,
          "type": "markdown"
        },
        "output_cleared": false
      },
      "source": "2.1 - If we think a game’s `Platform` can help us explain the variation we see in `Critic_Score`, how can we write this idea as a word equation? Which is the outcome and which is the explanatory variable?"
    },
    {
      "cell_type": "markdown",
      "metadata": {
        "cell_id": "3e355f984ed64f76a07cb219166e2de1",
        "deepnote_cell_height": 177.109375,
        "deepnote_cell_type": "markdown",
        "output_cleared": false,
        "tags": []
      },
      "source": "<div class=\"alert alert-block alert-warning\">\n\n**Sample Response**\n\n> Critic_Score = Platform + Other Stuff\n\nCritic_Score is the outcome; Platform is the explanatory variable.\n\n</div>"
    },
    {
      "cell_type": "markdown",
      "metadata": {
        "cell_id": "90b216589fc9460d9315386ab7d194f0",
        "deepnote_cell_height": 74.75,
        "deepnote_cell_type": "markdown",
        "nbsimplegrader": {
          "config_key": "markdown.view-only",
          "editable": false,
          "label": "Markdown: View-Only",
          "respondable": false,
          "response": null,
          "runnable": false,
          "type": "markdown"
        },
        "output_cleared": false
      },
      "source": "2.2 - Try to create a faceted histogram to help us see whether `Platform` might be related to critics’ ratings of games."
    },
    {
      "cell_type": "code",
      "execution_count": null,
      "metadata": {
        "cell_id": "e26f5aa7a71040bc919fd04a43d998a9",
        "deepnote_cell_height": 1599.875,
        "deepnote_cell_type": "code",
        "deepnote_output_heights": [
          null,
          610,
          610
        ],
        "deepnote_to_be_reexecuted": false,
        "execution_context_id": "81790afb-51c3-47e6-9e1b-be4127311a64",
        "execution_millis": 803,
        "execution_start": 1729559533947,
        "output_cleared": false,
        "source_hash": "780ca240",
        "tags": [],
        "trusted": true
      },
      "outputs": [],
      "source": "# Sample faceted histogram\ngf_histogram(~Critic_Score, data =  gamesales, fill = \"cyan1\" , color = \"darkgoldenrod1\" ) %>%\ngf_facet_grid(Platform~.)\n\n# Sample faceted density histogram with density plot\ngf_dhistogram(~Critic_Score, data =  gamesales, fill = \"powderblue\" , color = \"purple\" ) %>%\ngf_facet_grid(Platform~.)%>%gf_density(fill = \"cyan1\")\n\n#sample faceted histogram with boxplot \ngf_histogram(~Critic_Score, data =  gamesales, fill = \"cyan1\" , color = \"darkgoldenrod1\" ) %>%\ngf_facet_grid(Platform~.) %>%\ngf_boxplot(width=15, fill=\"white\")"
    },
    {
      "cell_type": "markdown",
      "metadata": {
        "cell_id": "9c168d8a26334d6eb0602d33cdb7a955",
        "deepnote_cell_height": 74.75,
        "deepnote_cell_type": "markdown",
        "nbsimplegrader": {
          "config_key": "markdown.view-only",
          "editable": false,
          "label": "Markdown: View-Only",
          "respondable": false,
          "response": null,
          "runnable": false,
          "type": "markdown"
        },
        "output_cleared": false
      },
      "source": "2.3 - Looking at the histograms, what do you notice about these distributions? Does any `Platform` seem like it tends to have better or worse critic ratings? "
    },
    {
      "cell_type": "markdown",
      "metadata": {
        "cell_id": "02ef5910466a4edd94a5ff290b2e4001",
        "deepnote_cell_height": 140.71875,
        "deepnote_cell_type": "markdown",
        "output_cleared": false,
        "tags": []
      },
      "source": "<div class=\"alert alert-block alert-warning\">\n\n**Sample Response**\n\nIt looks like Wii games tend to have lower ratings than PS3 or X360 games.\n\n</div>"
    },
    {
      "cell_type": "markdown",
      "metadata": {
        "cell_id": "f33134ae8e4343429da7166eb642fc4a",
        "deepnote_cell_height": 74.75,
        "deepnote_cell_type": "markdown",
        "nbsimplegrader": {
          "config_key": "markdown.view-only",
          "editable": false,
          "label": "Markdown: View-Only",
          "respondable": false,
          "response": null,
          "runnable": false,
          "type": "markdown"
        },
        "output_cleared": false
      },
      "source": "2.4 - Now try using a boxplot or jitterplot to explore the same hypothesis. (Optional: Can you overlay the two?)"
    },
    {
      "cell_type": "code",
      "execution_count": null,
      "metadata": {
        "cell_id": "eede962b4c98484287655c8a4b2585c2",
        "deepnote_cell_height": 829.5625,
        "deepnote_cell_type": "code",
        "deepnote_output_heights": [
          null,
          610
        ],
        "deepnote_to_be_reexecuted": false,
        "execution_context_id": "81790afb-51c3-47e6-9e1b-be4127311a64",
        "execution_millis": 321,
        "execution_start": 1729559571701,
        "output_cleared": false,
        "source_hash": "3eed2e8",
        "tags": [],
        "trusted": true
      },
      "outputs": [],
      "source": "# Sample boxplot and jitter plot\ngf_boxplot(Critic_Score~Platform, data = gamesales, fill = \"floralwhite\", color = \"darkorchid4\", size = 1)%>%gf_jitter(color = \"mediumblue\", alpha = .3 )"
    },
    {
      "cell_type": "markdown",
      "metadata": {
        "cell_id": "9cef7f9fd4c44c9693f150caf92a03c3",
        "deepnote_cell_height": 74.75,
        "deepnote_cell_type": "markdown",
        "nbsimplegrader": {
          "config_key": "markdown.view-only",
          "editable": false,
          "label": "Markdown: View-Only",
          "respondable": false,
          "response": null,
          "runnable": false,
          "type": "markdown"
        },
        "output_cleared": false
      },
      "source": "2.5 - Looking at this other visualization, do you see the same pattern you saw in the histograms? What pattern do you notice?"
    },
    {
      "cell_type": "markdown",
      "metadata": {
        "cell_id": "69f52f81f5f146bea118d2a92604470b",
        "deepnote_cell_height": 140.71875,
        "deepnote_cell_type": "markdown",
        "output_cleared": false,
        "tags": []
      },
      "source": "<div class=\"alert alert-block alert-warning\">\n\n**Sample Response**\n\nWii games still tend to have lower ratings compared to the other two platforms.\n\n</div>"
    },
    {
      "cell_type": "markdown",
      "metadata": {
        "cell_id": "aba1b43b26574b15b6435bc211c41ea4",
        "deepnote_cell_height": 74.75,
        "deepnote_cell_type": "markdown",
        "nbsimplegrader": {
          "config_key": "markdown.view-only",
          "editable": false,
          "label": "Markdown: View-Only",
          "respondable": false,
          "response": null,
          "runnable": false,
          "type": "markdown"
        },
        "output_cleared": false
      },
      "source": "2.6 - Based on these visualizations, if you knew that a game was a Wii game and had to guess it’s critics rating, would you adjust your guess to be a little lower or a little higher? Why?"
    },
    {
      "cell_type": "markdown",
      "metadata": {
        "cell_id": "e89fd791b5fb4c659090589040872e9a",
        "deepnote_cell_height": 140.71875,
        "deepnote_cell_type": "markdown",
        "output_cleared": false,
        "tags": []
      },
      "source": "<div class=\"alert alert-block alert-warning\">\n\n**Sample Response**\n\nI would adjust my guess to be a little lower than PS3 or X360 games.\n\n</div>"
    },
    {
      "cell_type": "markdown",
      "metadata": {
        "cell_id": "b44d835c8dc94b2498b2902b03792e29",
        "deepnote_cell_height": 115.9375,
        "deepnote_cell_type": "markdown",
        "output_cleared": false,
        "tags": []
      },
      "source": "<div class=\"alert alert-block alert-success\">\n\n### 3.0 - Approximate Time: 12-15 mins\n\n</div>"
    },
    {
      "cell_type": "markdown",
      "metadata": {
        "cell_id": "4feda41b9ca047d0b6e08c2fb5eb12cb",
        "deepnote_cell_height": 109.96875,
        "deepnote_cell_type": "markdown",
        "nbsimplegrader": {
          "config_key": "markdown.view-only",
          "editable": false,
          "label": "Markdown: View-Only",
          "respondable": false,
          "response": null,
          "runnable": false,
          "type": "markdown"
        },
        "output_cleared": false
      },
      "source": "## 3.0 - Exploring the Platform Hypothesis on User Scores"
    },
    {
      "cell_type": "markdown",
      "metadata": {
        "cell_id": "e24de4eaf9514f38abad681e5a0a69d4",
        "deepnote_cell_height": 74.75,
        "deepnote_cell_type": "markdown",
        "nbsimplegrader": {
          "config_key": "markdown.view-only",
          "editable": false,
          "label": "Markdown: View-Only",
          "respondable": false,
          "response": null,
          "runnable": false,
          "type": "markdown"
        },
        "output_cleared": false
      },
      "source": "3.1 - As we all know, users are a little different from critics. Do you think we will see the same relationship between platform and ratings when we look at user scores? Why or why not?"
    },
    {
      "cell_type": "markdown",
      "metadata": {
        "cell_id": "7c640fd7708a47269ee58e50206260e7",
        "deepnote_cell_height": 202.5,
        "deepnote_cell_type": "markdown",
        "output_cleared": false,
        "tags": []
      },
      "source": "<div class=\"alert alert-block alert-warning\">\n\n**Sample Response**\n\n*Student answers will vary*\n\n- It's possible they will be similar to critic ratings.\n- It's possible users may prefer a different platform.\n\n</div>"
    },
    {
      "cell_type": "markdown",
      "metadata": {
        "cell_id": "1c2bc7bc9db445419c43de67bc71132f",
        "deepnote_cell_height": 97.140625,
        "deepnote_cell_type": "markdown",
        "nbsimplegrader": {
          "config_key": "markdown.view-only",
          "editable": false,
          "label": "Markdown: View-Only",
          "respondable": false,
          "response": null,
          "runnable": false,
          "type": "markdown"
        },
        "output_cleared": false
      },
      "source": "3.2 - If we think a game’s `Platform` can help us explain the variation we see in `User_Score`, how can we write this idea as a word equation? Which is the outcome and which is the explanatory variable?"
    },
    {
      "cell_type": "markdown",
      "metadata": {
        "cell_id": "0ccce8838caf45078f90f1a2c24fa12b",
        "deepnote_cell_height": 177.109375,
        "deepnote_cell_type": "markdown",
        "output_cleared": false,
        "tags": []
      },
      "source": "<div class=\"alert alert-block alert-warning\">\n\n**Sample Response**\n\n> User_Score = Platform + Other Stuff\n\nThe outcome is User_Score, and the explanatory variable is Platform.\n\n</div>"
    },
    {
      "cell_type": "markdown",
      "metadata": {
        "cell_id": "fc55b4d564c34d469ee8e822fb668c5b",
        "deepnote_cell_height": 74.75,
        "deepnote_cell_type": "markdown",
        "nbsimplegrader": {
          "config_key": "markdown.view-only",
          "editable": false,
          "label": "Markdown: View-Only",
          "respondable": false,
          "response": null,
          "runnable": false,
          "type": "markdown"
        },
        "output_cleared": false
      },
      "source": "3.3 - Make two different visualizations (your choice!) to check out the `Platform` hypothesis on user ratings."
    },
    {
      "cell_type": "code",
      "execution_count": null,
      "metadata": {
        "cell_id": "2448ed9086ea4c268f9349b0ba5f0a1a",
        "deepnote_cell_height": 1603.203125,
        "deepnote_cell_type": "code",
        "deepnote_output_heights": [
          null,
          610,
          610
        ],
        "deepnote_to_be_reexecuted": false,
        "execution_context_id": "81790afb-51c3-47e6-9e1b-be4127311a64",
        "execution_millis": 884,
        "execution_start": 1729559706741,
        "output_cleared": false,
        "source_hash": "76ebe0bd",
        "tags": [],
        "trusted": true
      },
      "outputs": [],
      "source": "# Sample faceted density histogram with density plot\ngf_dhistogram(~User_Score, data =  gamesales, fill = \"violet\" , color = \"turquoise1\" )%>%gf_facet_grid(Platform~.)%>%gf_density(fill = \"peachpuff\")\n\n# Sample boxplot and jitter plot\ngf_boxplot(User_Score~Platform, data = gamesales, fill = \"yellow1\", color = \"purple3\", size = 1)%>%gf_jitter(color = \"steelblue1\", alpha = .5 )\n\n# Sample faceted histogram with boxplot \ngf_histogram(~User_Score, data =  gamesales, fill = \"white\" , color = \"orange\" ) %>%\ngf_facet_grid(Platform~.) %>%\ngf_boxplot(width=15, fill=\"white\")"
    },
    {
      "cell_type": "markdown",
      "metadata": {
        "cell_id": "6742958f516c4feaa3cded116e76c6b6",
        "deepnote_cell_height": 74.75,
        "deepnote_cell_type": "markdown",
        "nbsimplegrader": {
          "config_key": "markdown.view-only",
          "editable": false,
          "label": "Markdown: View-Only",
          "respondable": false,
          "response": null,
          "runnable": false,
          "type": "markdown"
        },
        "output_cleared": false
      },
      "source": "3.4 - Looking at the visualizations, what do you notice about these distributions? Does any `Platform` seem like it tends to have better or worse user ratings? "
    },
    {
      "cell_type": "markdown",
      "metadata": {
        "cell_id": "fe0c3d4244344cc298a66cf2c5a4533f",
        "deepnote_cell_height": 188.515625,
        "deepnote_cell_type": "markdown",
        "output_cleared": false,
        "tags": []
      },
      "source": "<div class=\"alert alert-block alert-warning\">\n\n**Sample Responses**\n\n- Platforms all have pretty similar user ratings. \n- The median for Wii games look like they might even be slightly higher than the the other two platforms.\n\n</div>"
    },
    {
      "cell_type": "markdown",
      "metadata": {
        "cell_id": "2a81c1bc2d7149d8bb631efd4c4bdf47",
        "deepnote_cell_height": 74.75,
        "deepnote_cell_type": "markdown",
        "nbsimplegrader": {
          "config_key": "markdown.view-only",
          "editable": false,
          "label": "Markdown: View-Only",
          "respondable": false,
          "response": null,
          "runnable": false,
          "type": "markdown"
        },
        "output_cleared": false
      },
      "source": "3.5 - If you knew that a game was a Wii game and had to guess it’s user rating, would you adjust your guess to be a little lower or a little higher? Why?"
    },
    {
      "cell_type": "markdown",
      "metadata": {
        "cell_id": "d6885a6c899648e3825eccd99384d3d8",
        "deepnote_cell_height": 140.71875,
        "deepnote_cell_type": "markdown",
        "output_cleared": false,
        "tags": []
      },
      "source": "<div class=\"alert alert-block alert-warning\">\n\n**Sample Response**\n- I probably would not adjust my guess.\n\n</div>"
    },
    {
      "cell_type": "markdown",
      "metadata": {
        "cell_id": "aaad412bee8645b59786db6b74235769",
        "deepnote_cell_height": 115.9375,
        "deepnote_cell_type": "markdown",
        "output_cleared": false,
        "tags": []
      },
      "source": "<div class=\"alert alert-block alert-success\">\n\n### 4.0 - Approximate Time: 10-12 mins\n\n</div>"
    },
    {
      "cell_type": "markdown",
      "metadata": {
        "cell_id": "352a24e4de4a49e3b9d6d9b633b8b224",
        "deepnote_cell_height": 69.96875,
        "deepnote_cell_type": "markdown",
        "nbsimplegrader": {
          "config_key": "markdown.view-only",
          "editable": false,
          "label": "Markdown: View-Only",
          "respondable": false,
          "response": null,
          "runnable": false,
          "type": "markdown"
        },
        "output_cleared": false
      },
      "source": "## 4.0 - Wrap-up of the Platform Hypothesis"
    },
    {
      "cell_type": "markdown",
      "metadata": {
        "cell_id": "fe4f6c87a3c1477cb18c11573fbcf4d2",
        "deepnote_cell_height": 119.53125,
        "deepnote_cell_type": "markdown",
        "nbsimplegrader": {
          "config_key": "markdown.view-only",
          "editable": false,
          "label": "Markdown: View-Only",
          "respondable": false,
          "response": null,
          "runnable": false,
          "type": "markdown"
        },
        "output_cleared": false
      },
      "source": "4.1 - One definition of “explain variation” is that if we know a little bit more about a game, we can use that information to make a better prediction of some outcome. Now that we’ve explored the Platform Hypothesis, does Platform help us explain variation on some outcome (either critic or user ratings)? Which outcome?"
    },
    {
      "cell_type": "markdown",
      "metadata": {
        "cell_id": "42442e361e0f4adc8bb27d5a6d80d6b8",
        "deepnote_cell_height": 221.90625,
        "deepnote_cell_type": "markdown",
        "output_cleared": false,
        "tags": []
      },
      "source": "<div class=\"alert alert-block alert-warning\">\n\n**Sample Response**\n\nPlatform explains variation for critic scores. If we know a game was a Wii game we could adjust our prediction for that game's rating to be lower than for other platforms.\n\nPlatform does not help us explain variation in user scores. Even if we knew a game's platform, it wouldn't help us make a better prediction of user rating.\n\n</div>"
    },
    {
      "cell_type": "markdown",
      "metadata": {
        "cell_id": "56dcc1e9e10e41a7af169f72aff6a39d",
        "deepnote_cell_height": 74.75,
        "deepnote_cell_type": "markdown",
        "nbsimplegrader": {
          "config_key": "markdown.view-only",
          "editable": false,
          "label": "Markdown: View-Only",
          "respondable": false,
          "response": null,
          "runnable": false,
          "type": "markdown"
        },
        "output_cleared": false
      },
      "source": "4.2 - When we look at a visualization and think – yeah, this one looks like some of the variation is explained – what features of the visualization should we look at?"
    },
    {
      "cell_type": "markdown",
      "metadata": {
        "cell_id": "af38700dd8ca4b35aa0537c610b35b1c",
        "deepnote_cell_height": 188.515625,
        "deepnote_cell_type": "markdown",
        "output_cleared": false,
        "tags": []
      },
      "source": "<div class=\"alert alert-block alert-warning\">\n\n**Sample Responses**\n- If some distribution looks \"shifted\" up/down, left/right, relative to the others.\n- Common incorrect: looking at some aspect of distribution alone (e.g., look at shape only, outliers only, spread only)\n\n</div>"
    },
    {
      "cell_type": "markdown",
      "metadata": {
        "cell_id": "fdf1c9fda8914fc691a05cd26237840d",
        "deepnote_cell_height": 52.359375,
        "deepnote_cell_type": "markdown",
        "nbsimplegrader": {
          "config_key": "markdown.view-only",
          "editable": false,
          "label": "Markdown: View-Only",
          "respondable": false,
          "response": null,
          "runnable": false,
          "type": "markdown"
        },
        "output_cleared": false
      },
      "source": "4.3 - What are your overall conclusions? Does `Platform` matter for “how good a game is”? "
    },
    {
      "cell_type": "markdown",
      "metadata": {
        "cell_id": "28cc4b7e694145eab965962bbaaca8a2",
        "deepnote_cell_height": 191.5,
        "deepnote_cell_type": "markdown",
        "output_cleared": false,
        "tags": []
      },
      "source": "<div class=\"alert alert-block alert-warning\">\n\n**Sample Response**\n\n- Platform matters for critic scores but not user scores.\n- Maybe critics are more affected by platform than users.\n- It depends on how you measure the goodness of a game.\n\n</div>"
    },
    {
      "cell_type": "markdown",
      "metadata": {
        "cell_id": "8082b3a6462947cbb2a39c6283c0811b",
        "deepnote_cell_height": 115.9375,
        "deepnote_cell_type": "markdown",
        "output_cleared": false,
        "tags": []
      },
      "source": "<div class=\"alert alert-block alert-success\">\n\n### 5.0 - Approximate Time: 10-12 mins\n\n</div>"
    },
    {
      "cell_type": "markdown",
      "metadata": {
        "cell_id": "a5b4c7cbd689460f8530d0577bf41266",
        "deepnote_cell_type": "markdown"
      },
      "source": "## 5.0 - Reflect and Connect"
    },
    {
      "cell_type": "markdown",
      "metadata": {
        "cell_id": "5bfdbd8a78ee4a04b308aa5457aa39af",
        "deepnote_cell_type": "markdown"
      },
      "source": "5.1 - In *4A*, we looked at the `States` data and explored whether `SubstanceAbuse`, `HouseholdIncomeK`, or `MedianRent` can explain variation in `PITHomeless`. As a reminder, write the word equations from that discussion here. "
    },
    {
      "cell_type": "markdown",
      "metadata": {
        "cell_id": "c138611337384d41aa126921479a4ecd",
        "deepnote_cell_type": "markdown"
      },
      "source": "<div class=\"alert alert-block alert-warning\">\n\n**Sample Response**\n\n- PITHomeless = SubstanceAbuse + Other Stuff\n- PITHomeless = HouseholdIncomeK + Other Stuff\n- PITHomeless = MedianRent + Other Stuff\n\n</div>"
    },
    {
      "cell_type": "markdown",
      "metadata": {
        "cell_id": "9b7e8ded9a97486187fcdc48e02698b8",
        "deepnote_cell_type": "markdown"
      },
      "source": "5.2 - Compare those to the models we explored today:\n\n- `User_Score` = `Platform` + Other Stuff\n- `Critic_Score` = `Platform` + Other Stuff\n\nAside from the variable names, what makes our models in 4A different from our models in 4B? What makes them similar?"
    },
    {
      "cell_type": "markdown",
      "metadata": {
        "cell_id": "129cab7189974c84be1bb365b8a4d23c",
        "deepnote_cell_type": "markdown"
      },
      "source": "<div class=\"alert alert-block alert-warning\">\n\n**Sample Response**\n\nDifferences:\n\n- Explanatory variables were quantitative in 4A (SubstanceAbuse, HouseholdIncomeK, and MedianRent) but here EV’s are categorical.\n- We needed to use faceted histograms and boxplots to explore the variation today (not scatterplots).\n- Before we had different explanatory variables explaining variation in one outcome. Today we have one explanatory variable explaining two different outcome variables. \n\nSimilarities:\n\n- Outcome is quantitative.\n- We used visualizations to examine these. \n- There is always other stuff.\n\n</div>"
    },
    {
      "cell_type": "markdown",
      "metadata": {
        "cell_id": "0e32e6e2818c4ae1bef3a8e0b6465987",
        "deepnote_cell_type": "markdown"
      },
      "source": "5.3 - In both 4A and this lesson, how did we decide whether the explanatory variables were explaining variation in the outcome variables, even though we were using different visualizations? Why did we need to use different visualizations?"
    },
    {
      "cell_type": "markdown",
      "metadata": {
        "cell_id": "ce304698c78743e3a3c10626de51873d",
        "deepnote_cell_type": "markdown"
      },
      "source": "<div class=\"alert alert-block alert-warning\">\n\n**Sample Responses**\n- We looked at different levels of the explanatory variable (e.g., low, high, different platforms), and looked at whether the outcomes were more similar for cases that have the same level.\n- Last time, instead of looking at \"shifts,\" with scatterplot we looked for a \"line.\" A line is kind of like a bunch of little incremental shifts all lined up.\n- We could not use faceted histogram because we could create too many tiny histograms, each with very few data.\n\n</div>"
    },
    {
      "cell_type": "markdown",
      "metadata": {
        "cell_id": "02db8e5287604a66a848c8c3ec7408eb",
        "deepnote_cell_height": 69.96875,
        "deepnote_cell_type": "markdown",
        "nbsimplegrader": {
          "config_key": "markdown.view-only",
          "editable": false,
          "label": "Markdown: View-Only",
          "respondable": false,
          "response": null,
          "runnable": false,
          "type": "markdown"
        },
        "output_cleared": false
      },
      "source": "## 6.0 - From Data to Decision-Making"
    },
    {
      "cell_type": "markdown",
      "metadata": {
        "cell_id": "f9ac4c59119c4ebd8595932d5c2198ff",
        "deepnote_cell_height": 97.140625,
        "deepnote_cell_type": "markdown",
        "nbsimplegrader": {
          "config_key": "markdown.view-only",
          "editable": false,
          "label": "Markdown: View-Only",
          "respondable": false,
          "response": null,
          "runnable": false,
          "type": "markdown"
        },
        "output_cleared": false
      },
      "source": "6.1 - Hmmm… just out of curiosity, let’s check which platforms have the top 10 highest selling games globally (using `Global_Sales`). Which platforms have the highest game sales? Are they the same platforms that seem to have higher ratings? What explains this?"
    },
    {
      "cell_type": "code",
      "execution_count": null,
      "metadata": {
        "cell_id": "f58d54d3d0974870be582f230b05c032",
        "deepnote_cell_height": 506.953125,
        "deepnote_cell_type": "code",
        "deepnote_to_be_reexecuted": false,
        "execution_millis": 32,
        "execution_start": 1612311838397,
        "output_cleared": false,
        "source_hash": null,
        "tags": [],
        "trusted": true
      },
      "outputs": [],
      "source": "# Check the top ten selling games globally--which platform(s) are they on?\nhead(arrange(gamesales, desc(Global_Sales)),10)"
    },
    {
      "cell_type": "markdown",
      "metadata": {
        "cell_id": "96ebdb35386f488a9f32593b58640346",
        "deepnote_cell_height": 140.71875,
        "deepnote_cell_type": "markdown",
        "output_cleared": false,
        "tags": []
      },
      "source": "<div class=\"alert alert-block alert-warning\">\n\n**Sample Response**\n\nMost of the top 10 selling games (globally) are Wii games.\n\n</div>"
    },
    {
      "cell_type": "markdown",
      "metadata": {
        "cell_id": "f9c80d5d85154537959d00e57604eb10",
        "deepnote_cell_height": 74.75,
        "deepnote_cell_type": "markdown",
        "nbsimplegrader": {
          "config_key": "markdown.view-only",
          "editable": false,
          "label": "Markdown: View-Only",
          "respondable": false,
          "response": null,
          "runnable": false,
          "type": "markdown"
        },
        "output_cleared": false
      },
      "source": "6.2 - If you had to write a public relations statement on behalf of Wii games (Nintendo company) based on all the analyses we’ve done so far, what would you say? "
    },
    {
      "cell_type": "markdown",
      "metadata": {
        "cell_id": "52e64a89758443a8b5fea3e9edb35b1a",
        "deepnote_cell_height": 280.6875,
        "deepnote_cell_type": "markdown",
        "output_cleared": false,
        "tags": []
      },
      "source": "<div class=\"alert alert-block alert-warning\">\n\n**Sample Response**\n\n*Student answers will vary*\n\nPossible answer:\n\nOur platform produces some of the highest selling games worldwide and our games also have very high user ratings. While critics may be more critical of some of our games, we care more about the opinions and experiences of the user, therefore, we proudly standby the value and high quality of our products.\n\n</div>"
    }
  ],
  "metadata": {
    "deepnote_notebook_id": "299d7d6e6abc45f099e6026b5dad78b3",
    "kernelspec": {
      "display_name": "R",
      "language": "R",
      "name": "ir"
    },
    "language_info": {
      "codemirror_mode": "r",
      "file_extension": ".r",
      "mimetype": "text/x-r-source",
      "name": "R",
      "pygments_lexer": "r",
      "version": "4.3.3"
    },
    "nbsimplegrader": {
      "publish_config": {
        "classes": [],
        "options": [],
        "tools": []
      }
    }
  },
  "nbformat": 4,
  "nbformat_minor": 1
}