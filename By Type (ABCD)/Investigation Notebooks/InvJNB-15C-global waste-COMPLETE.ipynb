{
  "cells": [
    {
      "cell_type": "markdown",
      "metadata": {
        "cell_id": "a17b7ffbb25f493db73f1f1500c31abf",
        "deepnote_cell_type": "markdown",
        "tags": []
      },
      "source": "<div class=\"alert alert-block alert-danger\">\n\n# 15B: Wasteful Countries (COMPLETE)\n\n**Use with textbook version 6.0+**\n\n\n**Lesson assumes students have read up through page: 15.8**\n\n\n</div>"
    },
    {
      "cell_type": "markdown",
      "metadata": {
        "cell_id": "3f4bf2f975874b72a5412c6355694930",
        "deepnote_cell_type": "markdown",
        "tags": []
      },
      "source": "<div class=\"alert alert-block alert-warning\">\n\n#### Summary of Notebook:\n\nIn this notebook students will explore their own hypotheses on why some countries produce more waste than others. They will try to predict where the model lines should be on a visualization before fitting the model. Then they will fit, compare, and evaluate the additive vs the interaction model for their hypothesis and justify which model to retain. They should consider things like p, PRE, and F, as well as the interaction model row of the supernova() output.\n \n#### Includes:\n\n- Trying to predict the lines of a multivariate model\n- Comparing the interaction model to the additive model to see which one is the better fit\n- Evaluating PRE, F, and p-value for additive vs interaction models\n- Interpreting the interaction row of an ANOVA table\n\n\n</div>"
    },
    {
      "cell_type": "markdown",
      "metadata": {
        "cell_id": "eb2793ff44494f6a9cf928e31fded42b",
        "deepnote_cell_type": "markdown",
        "tags": []
      },
      "source": "<div class=\"alert alert-block alert-success\">\n\n## Approximate time to complete Notebook: 40-55 Mins\n\n</div>"
    },
    {
      "cell_type": "code",
      "execution_count": null,
      "metadata": {
        "cell_id": "14950216002b4dcdbf1070f9ee8f7877",
        "deepnote_cell_type": "code",
        "deepnote_to_be_reexecuted": false,
        "execution_millis": 4884,
        "execution_start": 1685747473277,
        "output_cleared": true,
        "source_hash": "b2a54d3a",
        "tags": [],
        "trusted": true
      },
      "outputs": [],
      "source": "# This code will load the R packages we will use\nsuppressPackageStartupMessages({\n    library(coursekata)\n})\n\n# Adjust scientific notation\noptions(scipen = 10)"
    },
    {
      "cell_type": "markdown",
      "metadata": {
        "cell_id": "ce68158c616b4078b8361be262db394f",
        "deepnote_cell_type": "markdown",
        "tags": []
      },
      "source": "## About the Data"
    },
    {
      "cell_type": "markdown",
      "metadata": {
        "cell_id": "7457a9fc60064c32a48291025ef2324c",
        "deepnote_cell_type": "markdown",
        "tags": []
      },
      "source": "This `waste` dataset looks at the amount of waste (garbage/trash, and hazardous waste) produced by each country.\n\n**Description of Variables:**\n\n- `country` Name of the country\n- `region` Regional category of the country\n- `econ_dev` Level of economic development (Developed, Developing, In Transition)\n- `gdp_usd` Gross Domestic Product (GDP) per Capita (USD)\n- `total_msw_waste` Total Municipal Solid Waste (MSW) per Year (tons)\n- `population` Population size\n- `haz_waste` Hazardous Waste per Year (tons)\n- `nat_agency` Whether the country has a national agency for enforcing solid waste laws\n- `nat_law` Whether the country has a national law governing solid waste management\n- `msw_capita` MSW per Capita (tons per person)\n- `haz_waste_capita` Hazardous Waste per Capita (tons/people)\n- `percent_urban` Percentage of the country that has been urbanized\n- `urbanization_rate` The rate of urbanization (Growing Rapidly, Growing, Decreasing)\n- `HDI` Human Development Index\n- `adult_obesity` Adult Obesity Rate by BMI\n\nData Source: [Bootstrap World](https://bootstrapworld.org/materials/spring2023/en-us/lessons/choosing-your-dataset/pages/datasets-and-starter-files.html)"
    },
    {
      "cell_type": "markdown",
      "metadata": {
        "cell_id": "fa070a29ca6242d2aa4a284276ca64e6",
        "deepnote_cell_type": "markdown"
      },
      "source": "<div class=\"alert alert-block alert-success\">\n\n### 1.0 - Approximate Time:  5-10 mins\n\n</div>"
    },
    {
      "cell_type": "markdown",
      "metadata": {
        "cell_id": "4170dac15a754ba5a94f7509faff497f",
        "deepnote_cell_type": "markdown"
      },
      "source": "## 1.0 - Explore Variation"
    },
    {
      "cell_type": "markdown",
      "metadata": {
        "cell_id": "a85a423474ec4a1ba6028d02a9a64b79",
        "deepnote_cell_type": "markdown"
      },
      "source": "Before you begin, take a look at the variables in the data frame. If you have any questions about what any of the variables mean, try Googling about them, or ask your instructor for clarification."
    },
    {
      "cell_type": "code",
      "execution_count": null,
      "metadata": {
        "cell_id": "38b429ef69a94e3eb099d0c4ad31f8fe",
        "deepnote_cell_type": "code",
        "deepnote_to_be_reexecuted": false,
        "execution_millis": 976,
        "execution_start": 1685747478181,
        "output_cleared": true,
        "source_hash": "41afda34",
        "trusted": true
      },
      "outputs": [],
      "source": "waste <- read.csv(\"https://docs.google.com/spreadsheets/d/e/2PACX-1vTMbRKfQDrLmn5ebPaNeqVykHd1ZlkzygXEjKPICJcjd6tv_Zy75O6cby_-6WmkrNGeTt8UflJpoa0Z/pub?gid=0&single=true&output=csv\")\nhead(waste)"
    },
    {
      "cell_type": "markdown",
      "metadata": {
        "cell_id": "69effeaed97e4f99942b099e0f4f9c0a",
        "deepnote_cell_type": "markdown"
      },
      "source": "1.1 - Every country produces tons (literally) of waste each year. This waste can be categorized as Municipal Solid Waste, or MSW (e.g., typical garbage that goes to the landfill), or hazardous waste (e.g., ignitable, reactive, corrosive, or toxic waste that poses health or environmental threats). For now, let's explore MSW. Take a look at the distribution of MSW per capita in a visualization, and describe the distribution. How much waste does a person per country tend to produce per year?\n"
    },
    {
      "cell_type": "code",
      "execution_count": null,
      "metadata": {
        "cell_id": "f25ea775277d4b05a3f533b2094db186",
        "deepnote_cell_type": "code",
        "deepnote_to_be_reexecuted": false,
        "execution_millis": 297,
        "execution_start": 1685747479158,
        "output_cleared": true,
        "source_hash": "7860eace",
        "trusted": true
      },
      "outputs": [],
      "source": "# Sample Response\ngf_histogram(~msw_capita, data = waste, fill = \"aquamarine4\") %>%\n    gf_boxplot(width = 3, fill = \"white\")\n\nfavstats(~msw_capita, data = waste)"
    },
    {
      "cell_type": "markdown",
      "metadata": {
        "cell_id": "25e8528f82bd446dbf656dfc4eabc351",
        "deepnote_cell_type": "markdown"
      },
      "source": "<div class=\"alert alert-block alert-warning\">\n\n**Sample Response**\n\nThe average person (per country) tends to produce about 0.37 tons of MSW per year.\n\nThe distribution is skewed a bit to the right. Most countries produce less than half a ton per person per year, but there are a few outlier countries that produce more than 1 ton per person per year.\n\n</div>"
    },
    {
      "cell_type": "markdown",
      "metadata": {
        "cell_id": "138a433d509d471a8a1fd2dfae3ebb53",
        "deepnote_cell_type": "markdown"
      },
      "source": "1.2 - DISCUSS: Why do you think there are some countries that produce more (or less) waste per person than other countries? Come up with some theories."
    },
    {
      "cell_type": "markdown",
      "metadata": {
        "cell_id": "20ceca10e09f4879a77f9e722ad53d35",
        "deepnote_cell_type": "markdown"
      },
      "source": "<div class=\"alert alert-block alert-warning\">\n\n**Sample Response**\n\nStudent responses will vary. They should stick with using the variables in the data frame, but can also come up with ideas that go beyond this data frame as well (but you should steer them to see that they just won't be able to analyze them unless they seek out additional data).\n\n</div>"
    },
    {
      "cell_type": "markdown",
      "metadata": {
        "cell_id": "56cee54526f94abc9857c55bdffe2c0f",
        "deepnote_cell_type": "markdown"
      },
      "source": "<div class=\"alert alert-block alert-success\">\n\n### 2.0 - Approximate Time: 25-30 mins\n\n</div>"
    },
    {
      "cell_type": "markdown",
      "metadata": {
        "cell_id": "c8dbfb8fcbcc43718b54c869735b2f82",
        "deepnote_cell_type": "markdown"
      },
      "source": "## 2.0 - Explain Variation in Waste"
    },
    {
      "cell_type": "markdown",
      "metadata": {
        "cell_id": "6d6aee6f31df43d4964cbaeb95e560c9",
        "deepnote_cell_type": "markdown"
      },
      "source": "2.1 - Pick one of your theories to try to explain variation in `msw_capita`, and write it as a word equation."
    },
    {
      "cell_type": "markdown",
      "metadata": {
        "cell_id": "06dc1331579e46a0bc00543d475a93b1",
        "deepnote_cell_type": "markdown"
      },
      "source": "<div class=\"alert alert-block alert-warning\">\n\n**Sample Response**\n\n*One example of a model students might explore:*\n\nmsw_capita = percent_urban + econ_dev + other stuff\n\n</div>"
    },
    {
      "cell_type": "markdown",
      "metadata": {
        "cell_id": "3a8e99f0b4c6461389a24aca5452433d",
        "deepnote_cell_type": "markdown"
      },
      "source": "2.2 - DISCUSS: Before fitting or overlaying any models, what do you notice? Describe any trends you are seeing in the visualizations."
    },
    {
      "cell_type": "code",
      "execution_count": null,
      "metadata": {
        "cell_id": "19e1b74b8434473683318fa5bb056f94",
        "deepnote_cell_type": "code",
        "deepnote_to_be_reexecuted": false,
        "execution_millis": 287,
        "execution_start": 1685748663739,
        "output_cleared": true,
        "source_hash": "d1f4e059",
        "trusted": true
      },
      "outputs": [],
      "source": "# Sample Response\ngf_point(msw_capita ~ percent_urban, color = ~econ_dev, data = waste)"
    },
    {
      "cell_type": "markdown",
      "metadata": {
        "cell_id": "860b2c8262824586ae2fb49c70ffa17f",
        "deepnote_cell_type": "markdown"
      },
      "source": "<div class=\"alert alert-block alert-warning\">\n\n**Sample Response**\n\n\nAs percent_urban goes up, msw_capita also appears to go up. A lot of the Developing group appears to be clumped together lower on percent_urban and msw_capita, but is also mixed in a lot with the In Transition group. The In Transition group is a little higher on percent_urban and msw_capita, while the Developed group seems to be clumped highest on percent_urban and msw_capita, but also has a few really high outlier values on both percent_urban and msw_capita.\n\n</div>"
    },
    {
      "cell_type": "markdown",
      "metadata": {
        "cell_id": "5e8555d4cc2e464d875243986152262a",
        "deepnote_cell_type": "markdown"
      },
      "source": "2.3 - Before fitting anything, try to fit your own model onto the graph. If you had to draw your own line of best fit for each group, where would you draw them?"
    },
    {
      "cell_type": "markdown",
      "metadata": {
        "cell_id": "95815b09dab8468e9914708593db1781",
        "deepnote_cell_type": "markdown"
      },
      "source": "<div class=\"alert alert-block alert-warning\">\n\n**Note to Instructors**\n\nThis is meant to give students the chance to think about why multivariate models get fit the way they do, and whether they would look at the data and apply similar slopes/intercepts to all of the groups or not, and, hence, why an additive or an interaction model may be a better fit of the data.\n\n*Note: One option might be to have them fit the lines using R. An example of the code is found below:*\n\n`gf_point(msw_capita ~ percent_urban, color = ~econ_dev, data = waste) %>%`\n    `gf_abline(intercept = 0, slope = 0)`\n\n*This option may take a bit more time than drawing on screen, paper, or the whiteboard.*\n\n**Sample Approaches:** \n\nStudents will likely take a wide variety of approaches. One potential approach is described below. \n\nFor the model: msw_capita = percent_urban + econ_dev + other stuff\n\nFor this graph, students may draw the lines for the Developing and In Transition groups very close to each other. They may draw a similar slope for the Developed group, but with a slightly higher y-intercept.  \n\n</div>"
    },
    {
      "cell_type": "code",
      "execution_count": null,
      "metadata": {
        "cell_id": "c2f317723ce64e21a9144d767226fedb",
        "deepnote_cell_type": "code",
        "deepnote_to_be_reexecuted": false,
        "execution_millis": 574,
        "execution_start": 1685749443371,
        "output_cleared": true,
        "source_hash": "2ad787d9",
        "trusted": true
      },
      "outputs": [],
      "source": "# Sample code if you want to use R to have them draw lines\n\ngf_point(msw_capita ~ percent_urban, color = ~econ_dev, data = waste) %>%\n    gf_abline(intercept = 0, slope = 0)\n\n    \n# We used the additive and interaction model estimates, however,\n# We would not have them fit the model first to get these parameters\n# Instead they should try trial and error adjusting intercept/slope\n# Until they get lines they think look right (they don't have to be this exact)\n\n# Additive Model\ngf_point(msw_capita ~ percent_urban, color = ~econ_dev, data = waste) %>%\n    gf_abline(intercept = (0.366281 - 0.29841), slope = 0.002593, color = \"purple\") %>%\n    gf_abline(intercept = 0.366281, slope = 0.002593, color = \"turquoise\") %>%\n    gf_abline(intercept = (0.366281 - 0.245697), slope = 0.002593, color = \"brown\")\n \nlm(msw_capita ~ econ_dev + percent_urban, data = waste)\n\n# Interaction Model\ngf_point(msw_capita ~ percent_urban, color = ~econ_dev, data = waste) %>%\n    gf_abline(intercept = (0.3026967 - 0.1327807) , slope = (0.0033943 - 0.0034708), color = \"purple\") %>%\n    gf_abline(intercept = 0.3026967, slope = 0.0033943, color = \"turquoise\") %>%\n    gf_abline(intercept = (0.3026967 - 0.1715497), slope = (0.0033943 - 0.0009871), color = \"brown\")\n \nlm(msw_capita ~ econ_dev * percent_urban, data = waste)"
    },
    {
      "cell_type": "markdown",
      "metadata": {
        "cell_id": "fc48ca9bd578430a8850ae7db19fa3be",
        "deepnote_cell_type": "markdown"
      },
      "source": "2.4 - Now, go ahead and fit your model as an additive model as well as an interaction model, and create visualizations to depict each model. How do the lines of each model compare to the lines you predicted?"
    },
    {
      "cell_type": "code",
      "execution_count": null,
      "metadata": {
        "allow_embed": false,
        "cell_id": "142e5057454340228713b85d2cca3ed7",
        "deepnote_cell_type": "code",
        "deepnote_to_be_reexecuted": false,
        "execution_millis": 576,
        "execution_start": 1685753309479,
        "output_cleared": true,
        "source_hash": "fe97fdd4",
        "trusted": true
      },
      "outputs": [],
      "source": "# Sample Additive Model\nadd_model <- lm(msw_capita ~ econ_dev + percent_urban, data = waste)\nadd_model\ngf_point(msw_capita ~ percent_urban, color = ~econ_dev, data = waste) %>%\n    gf_model(add_model)\n\n# Sample Interaction Model\nint_model <- lm(msw_capita ~ econ_dev * percent_urban, data = waste)\nint_model\ngf_point(msw_capita ~ percent_urban, color = ~econ_dev, data = waste) %>%\n    gf_model(int_model)"
    },
    {
      "cell_type": "markdown",
      "metadata": {
        "cell_id": "1917d2c91b0349a4af98e5ce8322d8d9",
        "deepnote_cell_type": "markdown"
      },
      "source": "2.5 - Do the lines of the two models show very different patterns? What does this suggest?"
    },
    {
      "cell_type": "markdown",
      "metadata": {
        "cell_id": "96f0cc12c68c4732a18cc25d0d9166ab",
        "deepnote_cell_type": "markdown"
      },
      "source": "<div class=\"alert alert-block alert-warning\">\n\n**Sample Response**\n\nIf the lines show a similar pattern to the empty model then this suggests they are not much different from the empty model. If the model lines for an interaction model are not much different from the additive model, this suggests that the additive model may be the better model. However, the more the models diverge (from the empty model or from each other) the more variation they are likely to explain.\n \n</div>"
    },
    {
      "cell_type": "markdown",
      "metadata": {
        "cell_id": "63fa9b7f90e04ff4a87a1fdc9de61f83",
        "deepnote_cell_type": "markdown"
      },
      "source": "<div class=\"alert alert-block alert-success\">\n\n### 3.0 - Approximate Time:  10-15 mins\n\n</div>"
    },
    {
      "cell_type": "markdown",
      "metadata": {
        "cell_id": "4c02300e83c14e048173688486197f5e",
        "deepnote_cell_type": "markdown"
      },
      "source": "## 3.0 - Compare and Evaluate the Additive vs Interaction Models"
    },
    {
      "cell_type": "markdown",
      "metadata": {
        "cell_id": "bde26722ad5b42389cd198b74523a754",
        "deepnote_cell_type": "markdown",
        "tags": []
      },
      "source": "3.1 - Evaluate your models and provide a rationalization for which model to retain: the empty model, the additive model, or the interaction model. Use statistics to back up your answer."
    },
    {
      "cell_type": "code",
      "execution_count": null,
      "metadata": {
        "allow_embed": false,
        "cell_id": "0a3a28dbd6224cb2bfc7236a71bcb629",
        "deepnote_cell_type": "code",
        "deepnote_to_be_reexecuted": false,
        "execution_millis": 55,
        "execution_start": 1685751845103,
        "output_cleared": true,
        "source_hash": "9ef96dea",
        "trusted": true
      },
      "outputs": [],
      "source": "# Sample Additive Model\nadd_model <- lm(msw_capita ~ econ_dev + percent_urban, data = waste)\nsupernova(add_model)\n\n# Sample Interaction Model\nint_model <- lm(msw_capita ~ econ_dev * percent_urban, data = waste)\nsupernova(int_model)"
    },
    {
      "cell_type": "markdown",
      "metadata": {
        "cell_id": "4c271144070a459ebc56e1f3b9edd0f1",
        "deepnote_cell_type": "markdown"
      },
      "source": "<div class=\"alert alert-block alert-warning\">\n\n**Sample Response**\n\n**msw_capita = percent_urban + econ_dev + other stuff**\n\nBoth models have a p-value less than .05, thus the empty model has a low probability of being the true model of the DGP, or, in other words, we are not likely to have gotten such a large effect of the parameter estimates if there were not a true relationship among the variables in the DGP.\n\nBut, in this case, the additive model is likely better than the interaction model because, although the interaction model is significant overall, it is not contributing more to the explained variation than the additive model according to the interaction row (F=0.76, PRE=.01, p=.47). Just comparing the additive model to the overall interaction model, the F is much smaller for the interaction model (40.66 compared to 67.47) even though the PREs are very close (.55 compared to .54), thus, we are not getting as much explained variation per degree of freedom in the interaction model over the additive model.\n \n***Additive Model***\n- F = 67.46\n- PRE = .54\n- p-value < .05\n\n***Interaction Model***\n- F = 40.66\n- PRE = .55\n- p-value < .05\n\n> ***Interaction Row***\n- F = 0.76\n- PRE < .01\n- p-value = .47\n \n</div>"
    },
    {
      "cell_type": "markdown",
      "metadata": {
        "cell_id": "79075e790aaa421094f95bea3e15f8f0",
        "deepnote_cell_type": "markdown",
        "tags": []
      },
      "source": "3.2 - Summarize your findings. What has your analysis today revealed about waste in the world, and what might be your suggestions for how countries can reduce their waste, or some future analyses you would like to do?"
    },
    {
      "cell_type": "markdown",
      "metadata": {
        "cell_id": "63b14d2d3424465f8090aadc06a03f93",
        "deepnote_cell_type": "markdown"
      },
      "source": "<div class=\"alert alert-block alert-warning\">\n\n**Sample Response**\n\nAccording to this analysis, waste in a country tends to increase as the percentage of the country that has been urbanized increases, and it also tends to be higher in countries that are economically developed. While both of these factors can help us explain variation in waste, economic development (with a higher PRE) seems to be explaining more of the variation than urbanization.\n\nI would recommend market policies and incentives for more reusable products.\n\nBased on this, another theory I would like to explore is whether population would be a stronger predictor in the model than percent_urban because there can be non-urbanized areas that still have a lot of people, and more people probably make more waste.\n\n \n</div>"
    }
  ],
  "metadata": {
    "deepnote_notebook_id": "1c634d6168cc40cbac28edbd78e6b33a",
    "kernelspec": {
      "display_name": "R",
      "language": "R",
      "name": "ir"
    },
    "language_info": {
      "codemirror_mode": "r",
      "file_extension": ".r",
      "mimetype": "text/x-r-source",
      "name": "R",
      "pygments_lexer": "r",
      "version": "4.3.3"
    },
    "nbsimplegrader": {
      "publish_config": {
        "classes": [],
        "options": [],
        "tools": []
      }
    }
  },
  "nbformat": 4,
  "nbformat_minor": 1
}