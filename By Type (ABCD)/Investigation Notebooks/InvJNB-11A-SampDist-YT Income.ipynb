{
  "cells": [
    {
      "cell_type": "markdown",
      "metadata": {
        "cell_id": "8a94f5c9b00a41aba9bf47898960a316",
        "deepnote_cell_type": "markdown",
        "tags": []
      },
      "source": "## 11A: Which YouTubers make a living wage?"
    },
    {
      "cell_type": "markdown",
      "metadata": {
        "cell_id": "890c6fd4b8ef4ef1b75af219f27a938e",
        "deepnote_cell_height": 144.96875,
        "deepnote_cell_type": "markdown",
        "tags": []
      },
      "source": "<img src=\"https://i.postimg.cc/ty1GkxB8/Skew-the-Script-Logo.png\" title=\"Skew the script logo\" width=200 align = \"right\">\n\nMade in collaboration with [Skew the Script](https://skewthescript.org/)."
    },
    {
      "cell_type": "code",
      "execution_count": null,
      "metadata": {
        "cell_id": "0519dd69d38f44bca2c81aae36cb2538",
        "deepnote_cell_type": "code",
        "deepnote_to_be_reexecuted": false,
        "execution_millis": 1742,
        "execution_start": 1667516387747,
        "output_cleared": false,
        "owner_user_id": "23d85493-7ed1-49a4-baa7-630eaab08193",
        "source_hash": "3c52e3ae",
        "tags": [],
        "trusted": true
      },
      "outputs": [],
      "source": "# Load the CourseKata library\nsuppressPackageStartupMessages({\n    library(coursekata)\n})\n\n# Adjust scientific notation\noptions(scipen = 10)\n\n# Pull in data from csv\nYouTubers <- read.csv(\"https://docs.google.com/spreadsheets/d/e/2PACX-1vRc-xoYTbcG_kCs0oNcR0uDgXn0MWroDw9e-EqLJeFDsRtNqXZJqt7A43IvhrSyjR8uEozsKjIy9EH3/pub?gid=782475797&single=true&output=csv\", header=TRUE)\nYouTubers$Gender <- factor(YouTubers$Gender)\n\n# Data frame with filtered outlier\nYouTubers_no_outlier <- filter(YouTubers, Views <= 2500000)"
    },
    {
      "cell_type": "markdown",
      "metadata": {
        "cell_id": "81180e9f8e834241a32a877da9e99d48",
        "deepnote_cell_height": 748.359375,
        "deepnote_cell_type": "markdown",
        "tags": []
      },
      "source": "### <center>Students used to say: \"I'm gonna drop out and become a...\"</center>\n\n<img src=\"https://coursekata-course-assets.s3.us-west-1.amazonaws.com/UCLATALL/czi-stats-course/jnb_dwybGc5C-9-B-YT-Income-Mus-Ath-Act.png\" title=\"entertainment figures and their 2020 income\" width=500>\n\n### <center>Now, students say: \"I'm gonna drop out and become a...\"</center>\n\n<img src=\"https://coursekata-course-assets.s3.us-west-1.amazonaws.com/UCLATALL/czi-stats-course/jnb_pxRNz6gc-9-B-YT-Income-Influencers.png\" title=\"social media figures and their 2020 income\" width=500>"
    },
    {
      "cell_type": "markdown",
      "metadata": {
        "cell_id": "9a36ee47e5834a70be42c0f6ecf7f196",
        "deepnote_cell_height": 240.3125,
        "deepnote_cell_type": "markdown",
        "tags": []
      },
      "source": "### The Exception or The Rule?\n\nFor today, let's think about YouTube content creators.\n\nAccording to [PolicyAdvice](https://policyadvice.net/insurance/insights/average-american-income/), the average US income is around \\$60-70,000 per year. According the [Department of Health and Human Services](https://aspe.hhs.gov/2021-poverty-guidelines), the individual poverty threshold is \\$12,880.\n\n**What do you think?** What kind of money do people make when YouTubing is their full-time career? Do you think most YouTube content creators are above the poverty threshold? Above the average income?"
    },
    {
      "cell_type": "markdown",
      "metadata": {
        "cell_id": "cf9c51a947384f5089f6e6e9eb76f17d",
        "deepnote_cell_height": 69.953125,
        "deepnote_cell_type": "markdown",
        "tags": []
      },
      "source": "## 1.0 - Getting Data\t\t\t\t\t\t\t\t\t"
    },
    {
      "cell_type": "markdown",
      "metadata": {
        "cell_id": "e7ea4ebd6eef44a584812ffb8cf30faa",
        "deepnote_cell_height": 74.734375,
        "deepnote_cell_type": "markdown",
        "tags": []
      },
      "source": "**1.1 - Discussion:** If we wanted to get some data on YouTube earnings, you'll find out YouTube doesn't release data on individual earners. Why do you think that is? \n"
    },
    {
      "cell_type": "markdown",
      "metadata": {
        "cell_id": "56a9ec3dacdf4656963d2023990318db",
        "deepnote_cell_height": 74.734375,
        "deepnote_cell_type": "markdown",
        "tags": []
      },
      "source": "**1.2 - Discussion:** We could send out a survey and ask YouTubers what their annual income is. Do you think this would be a good method of collecting data? Why or why not?\t\t"
    },
    {
      "cell_type": "markdown",
      "metadata": {
        "cell_id": "cc17befd17734206baa631f7bd5bf834",
        "deepnote_cell_height": 1224.296875,
        "deepnote_cell_type": "markdown",
        "tags": []
      },
      "source": "Here is a data set called `YouTubers` that was collected on the first **70 YouTube videos** (out of hundreds) that come up with the search term: \"*How much I make on YouTube*\"\n\nThe data frame contains the following variables:\n- `ChannelName` The name of the YouTube channel\n- `VideoLink` The link to the channel\n- `Income` The annual income reported in the video\n- `Gender` The gender of the channel host\n- `Subscribers` The number of subscribers the channel has (at time of data collection, May 2021)\n- `Views` The number of views the video has (at time of data collection, May 2021)\n- `ThumbsUp` The number of thumbs up on the video (at time of data collection, May 2021)\t\n- `ThumbsDown` The number of thumbs down on the video (at time of data collection, May 2021)\n- `Theme` The general theme of the videos on the channel\n- `Vlogs` Whether the channel is a vlogging channel or not\t\n- `Comments` The number of comments on the video (at time of data collection, May 2021)\t\n- `UploadMonth` The month the video was uploaded\n- `UploadYear` The year the video was uploaded\n- `LengthMins` The length of the video in minutes\n- `Verified` Whether or not the channel is verified (with an official check mark near the channel name)\t\n\nThe income made by these creators were recorded from screenshots of channel revenue pages in the videos:\n<img src=\"https://coursekata-course-assets.s3.us-west-1.amazonaws.com/UCLATALL/czi-stats-course/jnb_XNVRxJxq-9-B-YT-Income-Thumbnails.png\" title=\"Thumbnail of a YouTubers income analytics page\" width=400>"
    },
    {
      "cell_type": "markdown",
      "metadata": {
        "cell_id": "5c2b7af89dd64ea8b3eb89918acd585c",
        "deepnote_cell_height": 97.125,
        "deepnote_cell_type": "markdown",
        "tags": []
      },
      "source": "**1.3 - Discussion:** Take a peek at the data frame `YouTubers` and take a look at some of the annual incomes. Do you think these numbers are more trustworthy than if you had asked for income on a survey? Do these numbers tell you how much these YouTubers earned in 2020?"
    },
    {
      "cell_type": "code",
      "execution_count": null,
      "metadata": {
        "cell_id": "69dc95ddcb414118b18bfa1e81dcdd95",
        "deepnote_cell_type": "code",
        "deepnote_to_be_reexecuted": false,
        "execution_millis": 155,
        "execution_start": 1667516389523,
        "output_cleared": false,
        "source_hash": "2ccd2152",
        "tags": [],
        "trusted": true
      },
      "outputs": [],
      "source": "str(YouTubers)"
    },
    {
      "cell_type": "markdown",
      "metadata": {
        "cell_id": "4977e5eb692e4b9fb297a80d5f1a8c00",
        "deepnote_cell_height": 69.953125,
        "deepnote_cell_type": "markdown",
        "tags": []
      },
      "source": "## 2.0 - Explore Variation in YouTuber Income"
    },
    {
      "cell_type": "markdown",
      "metadata": {
        "cell_id": "c10d90c0dd404416b0b0e69b90a5dcf9",
        "deepnote_cell_height": 97.140625,
        "deepnote_cell_type": "markdown",
        "tags": []
      },
      "source": "2.1 - Let's explore variation in `Income`. Run the code below (we have divided Income by 1000 to make the numbers a little easier to interpret on the graph). What do you notice about how `Income` is distributed in this sample? "
    },
    {
      "cell_type": "code",
      "execution_count": null,
      "metadata": {
        "cell_id": "43b77347216c4d4db0ee8eb1bd9c2fbd",
        "deepnote_cell_type": "code",
        "deepnote_to_be_reexecuted": false,
        "execution_millis": 402,
        "execution_start": 1667516567206,
        "output_cleared": false,
        "source_hash": "d76a0550",
        "tags": [],
        "trusted": true
      },
      "outputs": [],
      "source": "# Distribution of Income (divided by 1000)\ngf_histogram(~Income/1000, data = YouTubers)%>%\n    gf_boxplot() %>%\n    gf_labs(x = \"Income (in $1000s)\")"
    },
    {
      "cell_type": "markdown",
      "metadata": {
        "cell_id": "00de0f9744a4485fb50c80f2be502cfa",
        "deepnote_cell_height": 74.734375,
        "deepnote_cell_type": "markdown",
        "tags": []
      },
      "source": "**2.2 - Discussion:** Are these YouTubers making a \"living wage\"? Does this data mean that most YouTubers make a living wage?"
    },
    {
      "cell_type": "markdown",
      "metadata": {
        "cell_id": "acae67a4d427492ea8cd01e847a5f16b",
        "deepnote_cell_height": 74.734375,
        "deepnote_cell_type": "markdown",
        "tags": []
      },
      "source": "2.3 - What might explain variation in these YouTubers income? Come up with a hypothesis and write it as a word equation."
    },
    {
      "cell_type": "markdown",
      "metadata": {
        "cell_id": "ef92a25759f4463cbc911fd66d029bbc",
        "deepnote_cell_height": 74.734375,
        "deepnote_cell_type": "markdown",
        "tags": []
      },
      "source": "2.4 - Make a visualization to explore your hypothesis. What are your initial impressions? (Try chaining on `gf_model()`.)"
    },
    {
      "cell_type": "markdown",
      "metadata": {
        "cell_id": "b16e7c27c0ba4dbb85bed77a46f72c5e",
        "deepnote_cell_height": 69.96875,
        "deepnote_cell_type": "markdown",
        "tags": []
      },
      "source": "## 3.0 - Model Variation"
    },
    {
      "cell_type": "markdown",
      "metadata": {
        "cell_id": "c0bb079f203d480095a04af6f5eaaedc",
        "deepnote_cell_height": 111.34375,
        "deepnote_cell_type": "markdown",
        "tags": []
      },
      "source": "3.1 - What is the best fitting model for your hypothesis? Answer this question by updating the GLM notation in this cell.\n\n$Income = b_0 + b_1X_i + e_i$"
    },
    {
      "cell_type": "markdown",
      "metadata": {
        "cell_id": "7e78ef7fa61c439189eb859d8cf3e47a",
        "deepnote_cell_height": 74.75,
        "deepnote_cell_type": "markdown",
        "tags": []
      },
      "source": "3.2 - How much error did we reduce by adding an explanatory variable to our model? (e.g., in our example, `Views`)"
    },
    {
      "cell_type": "markdown",
      "metadata": {
        "cell_id": "5a40ec10286f4dacb9a12d2a7718a5f9",
        "deepnote_cell_height": 109.96875,
        "deepnote_cell_type": "markdown",
        "tags": []
      },
      "source": "## 4.0 - Could there be no effect in the true DGP?"
    },
    {
      "cell_type": "markdown",
      "metadata": {
        "cell_id": "940338164e5e4e82bb25f779863fd089",
        "deepnote_cell_height": 215.328125,
        "deepnote_cell_type": "markdown",
        "tags": []
      },
      "source": "Adding our explanatory variable (e.g., gender, verified, subscribers, etc.) reduces error by some amount. But that doesn't mean this more complex model is the right model of the DGP.\n\nEven a DGP where the $\\beta_1=0$ (the empty model) **could** produce samples of data with non-zero $b_1$s and explain some error! But we can use `shuffle()` to simulate a DGP where $\\beta_1=0$ and take a look at what kind of samples get generated.\n\nToday we'll look at $b_1$s and Fs generated from the empty model. (Even numbered groups: go to 4.1; Odd numbered groups: go to 4.2)"
    },
    {
      "cell_type": "markdown",
      "metadata": {
        "cell_id": "e3d0e7c409bc44268a3bed6c99baf034",
        "deepnote_cell_height": 57.46875,
        "deepnote_cell_type": "markdown",
        "tags": []
      },
      "source": "#### 4.1 - Explore shuffled $b_1$s"
    },
    {
      "cell_type": "markdown",
      "metadata": {
        "cell_id": "d634067c2e9847738a672bdba47d94c9",
        "deepnote_cell_height": 120.34375,
        "deepnote_cell_type": "markdown",
        "tags": []
      },
      "source": "- Is our sample $b_1$ an \"unlikely\" sample from `shuffle()`?\n- What do you think our p-value will be?\n- What do we think about the empty model of the DGP?"
    },
    {
      "cell_type": "markdown",
      "metadata": {
        "cell_id": "ec1b67a204d34a85bc0f3d65fd00178a",
        "deepnote_cell_height": 57.46875,
        "deepnote_cell_type": "markdown",
        "tags": []
      },
      "source": "#### 4.2 - Explore shuffled $F$s"
    },
    {
      "cell_type": "markdown",
      "metadata": {
        "cell_id": "76c69d33b98146aab0181193277115a2",
        "deepnote_cell_height": 120.140625,
        "deepnote_cell_type": "markdown",
        "tags": []
      },
      "source": "- Is our sample F an \"unlikely\" sample from `shuffle()`?\n- What do you think our p-value will be?\n- What do we think about the empty model of the DGP?"
    },
    {
      "cell_type": "markdown",
      "metadata": {
        "cell_id": "fc6a1b6a33454c59ac2119be07e0e1ed",
        "deepnote_cell_height": 53.96875,
        "deepnote_cell_type": "markdown",
        "tags": []
      },
      "source": "#### 4.3 - What does the ANOVA table say?"
    },
    {
      "cell_type": "markdown",
      "metadata": {
        "cell_id": "5cdc31b7d73d4e6ca10775e07d71f727",
        "deepnote_cell_height": 198.515625,
        "deepnote_cell_type": "markdown",
        "tags": []
      },
      "source": "The ANOVA table does not use simulation (you'll learn about the mathematical models it uses later in the book). \n\n- According to the ANOVA table, what is the probability of getting a $b_1$ or F more extreme than our sample from the empty model of the DGP (the p-value)?\n- Is this an \"unlikely\" sample to be generated from the empty model of the DGP? \n- So what do we think about the empty model of the DGP?"
    },
    {
      "cell_type": "markdown",
      "metadata": {
        "cell_id": "e577282925334e4299be4ac84fae9894",
        "deepnote_cell_height": 147.34375,
        "deepnote_cell_type": "markdown",
        "tags": []
      },
      "source": "#### 4.5 - What's in common?\n\nAcross all these approaches (the sampling distribution of F and $b_1$; using `shuffle()` or the ANOVA table), what do they say about the empty model of the DGP?\n\nWhat does this mean for your hypothesis?"
    },
    {
      "cell_type": "markdown",
      "metadata": {
        "cell_id": "1946baffcb7b4cdb8bc0edc2a2d1d723",
        "deepnote_cell_height": 69.953125,
        "deepnote_cell_type": "markdown",
        "tags": []
      },
      "source": "## 5.0 - Generalizing These Results"
    },
    {
      "cell_type": "markdown",
      "metadata": {
        "cell_id": "f6e914012b8c45e098548db81abc95d7",
        "deepnote_cell_height": 52.34375,
        "deepnote_cell_type": "markdown",
        "tags": []
      },
      "source": "5.1 - Do you think your conclusion is true for most YouTubers? Why or why not?"
    },
    {
      "cell_type": "markdown",
      "metadata": {
        "cell_id": "d4434424083d403bbcbe05f3d50907cf",
        "deepnote_cell_height": 74.734375,
        "deepnote_cell_type": "markdown",
        "tags": []
      },
      "source": "5.2 - Based on our class' analyses today, would you have any advice for people who want to become content creators/influencers? "
    }
  ],
  "metadata": {
    "deepnote_notebook_id": "a3f9472a5507498993409ca8b3250dcb",
    "kernelspec": {
      "display_name": "R",
      "language": "R",
      "name": "ir"
    },
    "language_info": {
      "codemirror_mode": "r",
      "file_extension": ".r",
      "mimetype": "text/x-r-source",
      "name": "R",
      "pygments_lexer": "r",
      "version": "4.3.3"
    },
    "nbsimplegrader": {
      "publish_config": {
        "classes": [],
        "options": [],
        "tools": []
      }
    }
  },
  "nbformat": 4,
  "nbformat_minor": 1
}