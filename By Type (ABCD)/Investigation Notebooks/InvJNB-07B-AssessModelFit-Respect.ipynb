{
  "cells": [
    {
      "cell_type": "markdown",
      "metadata": {
        "cell_id": "269d48fa13e04a708e8cb79664dff28f",
        "deepnote_cell_height": 81.953125,
        "deepnote_cell_type": "markdown",
        "tags": []
      },
      "source": "# 7B: Revisiting the Respect Study"
    },
    {
      "cell_type": "code",
      "execution_count": null,
      "metadata": {
        "cell_id": "a2579f95ea414d97bf94a653ad355f06",
        "deepnote_cell_height": 308.5625,
        "deepnote_cell_type": "code",
        "deepnote_to_be_reexecuted": false,
        "execution_millis": 1299,
        "execution_start": 1667271376577,
        "output_cleared": false,
        "source_hash": "ae8612ef",
        "tags": [],
        "trusted": true
      },
      "outputs": [],
      "source": "# This code will load the R packages we will use\nsuppressPackageStartupMessages({\n    library(coursekata)\n})\n\nlinktocsv <- \"https://docs.google.com/spreadsheets/d/e/2PACX-1vShHDu7P5XnUWo_xBtB67I00R-TTCyB73GyILmjlMq3LGM-kHFg-rIBQwB4upLOU7mTXG6fg8QxTLhB/pub?gid=191363782&single=true&output=csv\"\nrespect_study <- read.csv(linktocsv, head = TRUE)\nrespect_study$veg_eaten <- respect_study$spoon2_before - respect_study$spoon2_after"
    },
    {
      "cell_type": "markdown",
      "metadata": {
        "cell_id": "8f7c76c65b6e40faaf887b6fdcd08502",
        "deepnote_cell_height": 69.96875,
        "deepnote_cell_type": "markdown",
        "tags": []
      },
      "source": "## 1.0 - Explore Variation"
    },
    {
      "cell_type": "markdown",
      "metadata": {
        "cell_id": "3f5e232cf2c34ef5a8cfed2befe4783c",
        "deepnote_cell_height": 97.140625,
        "deepnote_cell_type": "markdown",
        "tags": []
      },
      "source": "Remember when we explored the respect hypothesis with the students asked to eat some bitter tasting medicine (but it was actually Vegemite)? The researchers thought that giving more respectful instructions would lead students to be more willing to eat the Vegemite."
    },
    {
      "cell_type": "markdown",
      "metadata": {
        "cell_id": "4f665b1f0521424ca32f71ce28f88f20",
        "deepnote_cell_height": 52.359375,
        "deepnote_cell_type": "markdown",
        "tags": []
      },
      "source": "1.1 - Write this hypothesis as a word equation."
    },
    {
      "cell_type": "markdown",
      "metadata": {
        "cell_id": "7404a91a5af74cec8ed52082af6c4d87",
        "deepnote_cell_height": 494.703125,
        "deepnote_cell_type": "markdown",
        "tags": []
      },
      "source": "The data frame is called `respect_study` and has already been loaded into this Jupyter notebook.\n\nAs a reminder, there are many variables in the data frame but here are the two most relevant variables in the data:\n\n- `respect_condition` Whether the participant watched the \"Respect\" or \"No Respect\" video\n\n- `veg_eaten` How much Vegemite on the 2nd spoon was eaten (grams)\n\n1.2 - Take a look at the data frame using R. What are the cases in this data frame? How many are there?"
    },
    {
      "cell_type": "markdown",
      "metadata": {
        "cell_id": "33ee9176db2c4613a4676bad586e6b0a",
        "deepnote_cell_height": 74.75,
        "deepnote_cell_type": "markdown",
        "tags": []
      },
      "source": "1.3 - Let’s take a look at the distribution of Vegemite eaten by participants in each condition.\nRun the code below. Find the tallest bar. What does it mean?"
    },
    {
      "cell_type": "code",
      "execution_count": null,
      "metadata": {
        "cell_id": "c6e584568b794d9d80bee5b0baeb924c",
        "deepnote_cell_height": 83.953125,
        "deepnote_cell_type": "code",
        "output_cleared": true,
        "tags": [],
        "trusted": true
      },
      "outputs": [],
      "source": "gf_histogram(~veg_eaten, data = respect_study, fill = \"lightgreen\", color = \"midnightblue\") %>%\n    gf_facet_grid(respect_condition ~ .)"
    },
    {
      "cell_type": "markdown",
      "metadata": {
        "cell_id": "536e12dd1853442c92f509e9ee164157",
        "deepnote_cell_height": 97.140625,
        "deepnote_cell_type": "markdown",
        "tags": []
      },
      "source": "1.4 - Let's assume this was a well-conducted experiment. In that case, there are two possible reasons why these two groups look different on their Vegemite eating. What are those two reasons? "
    },
    {
      "cell_type": "markdown",
      "metadata": {
        "cell_id": "1161cc1d48424c2fa9e5cc390d0735aa",
        "deepnote_cell_height": 69.96875,
        "deepnote_cell_type": "markdown",
        "tags": []
      },
      "source": "## 2.0 - Model Variation"
    },
    {
      "cell_type": "markdown",
      "metadata": {
        "cell_id": "c9259c8c66d443eb85b1a21610e77d27",
        "deepnote_cell_height": 74.75,
        "deepnote_cell_type": "markdown",
        "tags": []
      },
      "source": "2.1 - How would we write the DGP of randomness using a word equation? How about in GLM notation? "
    },
    {
      "cell_type": "markdown",
      "metadata": {
        "cell_id": "62d9f54b4a5f41a28d502b22257016b3",
        "deepnote_cell_height": 74.75,
        "deepnote_cell_type": "markdown",
        "tags": []
      },
      "source": "2.2 - If we used the empty model to predict how much Vegemite students ate, what value would it predict for each student?"
    },
    {
      "cell_type": "markdown",
      "metadata": {
        "cell_id": "000b7005b901403890c1e2ebe2760e56",
        "deepnote_cell_height": 170.140625,
        "deepnote_cell_type": "markdown",
        "tags": []
      },
      "source": "2.3 - But enough with the empty model--let’s create a model that’s more complex...a model that might be able to explain something! \n\nFind the best fitting model that goes with our hypothesis, **VEG_EATEN = RESPECT_CONDITION + OTHER STUFF** and put the numbers into GLM notation (by modifying this equation):\n\n$$Y_i = b_0 + b_1 X_i + e_i$$"
    },
    {
      "cell_type": "markdown",
      "metadata": {
        "cell_id": "44ed2845e46845deab66106d1918b177",
        "deepnote_cell_height": 74.953125,
        "deepnote_cell_type": "markdown",
        "tags": []
      },
      "source": "2.4 - Interpret the respect model’s estimates ($b_0$ and $b_1$). Where are those numbers in the faceted histogram below?"
    },
    {
      "cell_type": "code",
      "execution_count": null,
      "metadata": {
        "cell_id": "04ae12e8b22e4de189c03f0ae6f7bebc",
        "deepnote_cell_height": 137.96875,
        "deepnote_cell_type": "code",
        "output_cleared": true,
        "tags": [],
        "trusted": true
      },
      "outputs": [],
      "source": "veg_eaten_stats <- favstats(veg_eaten ~ respect_condition, data = respect_study)\n\ngf_histogram(~veg_eaten, data = respect_study, fill = \"lightgreen\", color = \"midnightblue\") %>%\n    gf_facet_grid(respect_condition ~ .) %>% \n    gf_vline(xintercept = ~mean, data = veg_eaten_stats, color = \"orange3\")"
    },
    {
      "cell_type": "markdown",
      "metadata": {
        "cell_id": "08018dc7f01b45f59f6ca2751b2bb413",
        "deepnote_cell_height": 52.5625,
        "deepnote_cell_type": "markdown",
        "tags": []
      },
      "source": "2.5 - Also, what does the $Y_i$ and $X_i$ in the GLM notation stand for? Where are those in the plot?"
    },
    {
      "cell_type": "markdown",
      "metadata": {
        "cell_id": "448d98eef3964d9dabd4597abc637f4a",
        "deepnote_cell_height": 109.96875,
        "deepnote_cell_type": "markdown",
        "tags": []
      },
      "source": "## 3.0 - Using the Respect Model for Making Predictions"
    },
    {
      "cell_type": "markdown",
      "metadata": {
        "cell_id": "585cea01518b4973b801d8599fc2476b",
        "deepnote_cell_height": 125.140625,
        "deepnote_cell_type": "markdown",
        "tags": []
      },
      "source": "3.1 - Which does the respect model predict: \n\na. whether or not someone is in the respect group? \n\nb. how much Vegemite someone would eat? \n"
    },
    {
      "cell_type": "markdown",
      "metadata": {
        "cell_id": "63c989d0f59a4998952190ca5f00c8ab",
        "deepnote_cell_height": 52.359375,
        "deepnote_cell_type": "markdown",
        "tags": []
      },
      "source": "3.2 - Why do we call it the “respect model”?"
    },
    {
      "cell_type": "markdown",
      "metadata": {
        "cell_id": "d5cfe9ed2e46428d81ab3fb929038933",
        "deepnote_cell_height": 74.953125,
        "deepnote_cell_type": "markdown",
        "tags": []
      },
      "source": "3.3 - What would the $X_i$ value be for someone in the **no respect** group? What would the respect model predict for someone in the no respect group?"
    },
    {
      "cell_type": "markdown",
      "metadata": {
        "cell_id": "0685f0115eab4b58a4d9aa90e6e16aff",
        "deepnote_cell_height": 74.953125,
        "deepnote_cell_type": "markdown",
        "tags": []
      },
      "source": "3.4 - What would $X_i$ be for someone in the **respect** group? What would the respect model predict for someone in the respect group?\n"
    },
    {
      "cell_type": "markdown",
      "metadata": {
        "cell_id": "82d5f457bbd84effb80ebcd49f351402",
        "deepnote_cell_height": 111.140625,
        "deepnote_cell_type": "markdown",
        "tags": []
      },
      "source": "3.5 - Save the predictions of the respect model into the data frame. \nLet's call these `respect_pred`.\n\nModify the code below to also include the predictions from the respect model."
    },
    {
      "cell_type": "code",
      "execution_count": null,
      "metadata": {
        "cell_id": "eb65f3faa57e4d59a0ba04c770797754",
        "deepnote_cell_height": 60.953125,
        "deepnote_cell_type": "code",
        "output_cleared": true,
        "tags": [],
        "trusted": true
      },
      "outputs": [],
      "source": "head(select(respect_study, respect_condition, veg_eaten), 10)"
    },
    {
      "cell_type": "markdown",
      "metadata": {
        "cell_id": "c63daba328e6478ea17a794c3f75da81",
        "deepnote_cell_height": 111.140625,
        "deepnote_cell_type": "markdown",
        "tags": []
      },
      "source": "3.6 - Save the residuals from the respect model into the data frame. Let's call these `respect_resid`.\n\nModify the code below to also include the residuals from the respect model."
    },
    {
      "cell_type": "code",
      "execution_count": null,
      "metadata": {
        "cell_id": "d7ea421c09724a8bb2f7a4581d3b39dc",
        "deepnote_cell_height": 60.953125,
        "deepnote_cell_type": "code",
        "tags": [],
        "trusted": true
      },
      "outputs": [],
      "source": "head(select(respect_study, respect_condition, veg_eaten, respect_pred), 10)"
    },
    {
      "cell_type": "markdown",
      "metadata": {
        "cell_id": "171e7c2a2f8d45afa94cd3bf43782995",
        "deepnote_cell_height": 109.96875,
        "deepnote_cell_type": "markdown",
        "tags": []
      },
      "source": "## 4. 0 - Residuals: How “Off” are these Predictions?"
    },
    {
      "cell_type": "markdown",
      "metadata": {
        "cell_id": "e4ddfe2f128549ef8d817964f7a426c3",
        "deepnote_cell_height": 111.140625,
        "deepnote_cell_type": "markdown",
        "tags": []
      },
      "source": "4.1 - Run the code below.\n\n(Everybody gestures) Where are the predictions in the histograms below?\nWhere are the residuals in the histograms below?"
    },
    {
      "cell_type": "code",
      "execution_count": null,
      "metadata": {
        "cell_id": "63de55939da243f781d027441903d647",
        "deepnote_cell_height": 137.96875,
        "deepnote_cell_type": "code",
        "output_cleared": true,
        "tags": [],
        "trusted": true
      },
      "outputs": [],
      "source": "veg_eaten_stats <- favstats(veg_eaten ~ respect_condition, data = respect_study)\n\ngf_histogram(~veg_eaten, data = respect_study, fill = \"lightgreen\", color = \"midnightblue\") %>%\n    gf_facet_grid(respect_condition ~ .) %>% \n    gf_vline(xintercept = ~mean, data = veg_eaten_stats, color = \"orange3\")"
    },
    {
      "cell_type": "markdown",
      "metadata": {
        "cell_id": "d781e4465eea4f949b536e56ec1d98a8",
        "deepnote_cell_height": 447.34375,
        "deepnote_cell_type": "markdown",
        "tags": []
      },
      "source": "4.2 - Which of these shows us an example of some residuals, the one with the blue lines or the one with the red lines?\n\n|                                                                           |                                                                           | \n|---------------------------------------------------------------------------|---------------------------------------------------------------------------|\n|<img src=\"https://coursekata-course-assets.s3.us-west-1.amazonaws.com/UCLATALL/czi-stats-course/jnb_NYd4B5J1-7-B-Two-Histograms-A.png\" title=\"histograms with blue lines\" width=\"100%\"/>|<img src=\"https://coursekata-course-assets.s3.us-west-1.amazonaws.com/UCLATALL/czi-stats-course/jnb_44ypmQLp-7-B-Two-Histograms-B.png\" title=\"histograms with red lines\" width=\"100%\"/>|\n"
    },
    {
      "cell_type": "markdown",
      "metadata": {
        "cell_id": "fe14a23ed78e4bbaa1e19b79eff26faf",
        "deepnote_cell_height": 74.75,
        "deepnote_cell_type": "markdown",
        "tags": []
      },
      "source": "4.3 - What do those residuals represent: the variation that has been explained or left unexplained by the respect model? How does GLM represent these residuals?"
    },
    {
      "cell_type": "markdown",
      "metadata": {
        "cell_id": "6a5416f5e4dc42278efe8ce370dac6a8",
        "deepnote_cell_height": 125.546875,
        "deepnote_cell_type": "markdown",
        "tags": []
      },
      "source": "4.4 - The best fitting GLM was:\n\n$$veg\\_eaten_i = 0.14 + 0.09respect\\_condition_i + e_i$$\n\nDoes the $Y_i$ ($veg\\_eaten_i$) in the data below actually equal the model prediction plus the residual?"
    },
    {
      "cell_type": "code",
      "execution_count": null,
      "metadata": {
        "cell_id": "2c44c17dfee34143998452c9475b2546",
        "deepnote_cell_height": 65.953125,
        "deepnote_cell_type": "code",
        "output_cleared": true,
        "tags": [],
        "trusted": true
      },
      "outputs": [],
      "source": "head(select(respect_study, respect_condition, veg_eaten, respect_pred, respect_resid), 10)"
    },
    {
      "cell_type": "markdown",
      "metadata": {
        "cell_id": "a220872d8e894139abe1c562b63c33c8",
        "deepnote_cell_height": 169.921875,
        "deepnote_cell_type": "markdown",
        "tags": []
      },
      "source": "4.5 - Run the code below. \n\n(Everybody gestures) Where are the predictions of the empty model in the visualization below?\nWhere are the residuals from the empty model?\n\nWhat do those residuals represent: the variation that has been explained or left unexplained by the empty model? "
    },
    {
      "cell_type": "code",
      "execution_count": null,
      "metadata": {
        "cell_id": "b61ad801a21143139f57a4cf5a808f85",
        "deepnote_cell_height": 155.953125,
        "deepnote_cell_type": "code",
        "output_cleared": true,
        "tags": [],
        "trusted": true
      },
      "outputs": [],
      "source": "# Run this code\nempty_stats <- favstats(~veg_eaten, data = respect_study)\n\ngf_histogram(~veg_eaten, data = respect_study, fill = \"lightgreen\", color = \"midnightblue\") %>%\n    gf_facet_grid(respect_condition ~ .) %>% \n    gf_vline(xintercept =~mean, data = empty_stats, color = \"blue\")"
    },
    {
      "cell_type": "markdown",
      "metadata": {
        "cell_id": "3deba937ec45459eab1c4c2e823779c3",
        "deepnote_cell_height": 74.75,
        "deepnote_cell_type": "markdown",
        "tags": []
      },
      "source": "4.6 - Try adding the predictions of the respect model to the histogram above (so both models will be represented in the visualization)."
    },
    {
      "cell_type": "markdown",
      "metadata": {
        "cell_id": "15e0a4c5c01e4bfa8da57f3d55c9c0b8",
        "deepnote_cell_height": 153.53125,
        "deepnote_cell_type": "markdown",
        "tags": []
      },
      "source": "4.7 - What's the part of the visualization that depicts:\n\n- the residuals from the empty model?\n- the residuals from the respect model?\n- the part of the error that has been explained? Which model did the explaining? "
    },
    {
      "cell_type": "markdown",
      "metadata": {
        "cell_id": "69e75326abf74920a497b91d7cd6852b",
        "deepnote_cell_height": 69.96875,
        "deepnote_cell_type": "markdown",
        "tags": []
      },
      "source": "## 5. 0 - How Helpful is the Respect Model?"
    },
    {
      "cell_type": "markdown",
      "metadata": {
        "cell_id": "abddfb6c8248434292f456244c08f1ee",
        "deepnote_cell_height": 133.53125,
        "deepnote_cell_type": "markdown",
        "tags": []
      },
      "source": "5.1 - Maybe we can just add up the residuals for the empty model to see if that total error is bigger than adding up residuals from the respect model. \n\nWhat is the problem with trying to add up these residuals (any of these residuals)? How does the sum of squares solve this problem?"
    },
    {
      "cell_type": "markdown",
      "metadata": {
        "cell_id": "bf3168dba3ec4b9ba3041c4c247fcd49",
        "deepnote_cell_height": 178.921875,
        "deepnote_cell_type": "markdown",
        "tags": []
      },
      "source": "5.2 - Now run `supernova()` on the respect model. Find the three sums of squares.\n \n- What unit are those numbers in?\n- Which tells us SS (the leftover error) from the empty model?\n- Which tells us SS from the respect model?\n- Which tells us how much of the error has been explained?"
    },
    {
      "cell_type": "markdown",
      "metadata": {
        "cell_id": "0a0f59cbd9d74371a99fa22e8ffe93f8",
        "deepnote_cell_height": 88.75,
        "deepnote_cell_type": "markdown",
        "tags": []
      },
      "source": "5.3 - What is the relationship between SS Model, SS Error, and SS Total?\n\nTake a look at the word equation for the respect hypothesis. Any similarities?"
    },
    {
      "cell_type": "markdown",
      "metadata": {
        "cell_id": "e2d7d73901bd4eb0a1ddf4275d7b9275",
        "deepnote_cell_height": 52.359375,
        "deepnote_cell_type": "markdown",
        "tags": []
      },
      "source": "5.4 - What is the relationship between PRE and the different sums of squares?"
    },
    {
      "cell_type": "markdown",
      "metadata": {
        "cell_id": "60d4c3f546ab4e91a16032ef206f7212",
        "deepnote_cell_height": 52.359375,
        "deepnote_cell_type": "markdown",
        "tags": []
      },
      "source": "5.5 - Interpret the PRE for the respect model. Is that a lot? Is that a little? Is it hard to tell?"
    },
    {
      "cell_type": "markdown",
      "metadata": {
        "cell_id": "9e5a2e7ea4304d259dd95c2e514ab16e",
        "deepnote_cell_height": 52.359375,
        "deepnote_cell_type": "markdown",
        "tags": []
      },
      "source": "5.6 - What would it mean if PRE = 0.00, or if PRE = 1.00? Could the PRE = 2.00?"
    },
    {
      "cell_type": "markdown",
      "metadata": {
        "cell_id": "1e40fef46fc74d0287492bfceeb96b9c",
        "deepnote_cell_height": 74.75,
        "deepnote_cell_type": "markdown",
        "tags": []
      },
      "source": "5.7 - Is it possible that we could have gotten this PRE from a random process (where these groups are essentially the same but they are just a little different because of randomness)?"
    }
  ],
  "metadata": {
    "deepnote_notebook_id": "5a6d1bbe24144a2181d4411e99d1e4f3",
    "kernelspec": {
      "display_name": "R",
      "language": "R",
      "name": "ir"
    },
    "language_info": {
      "codemirror_mode": "r",
      "file_extension": ".r",
      "mimetype": "text/x-r-source",
      "name": "R",
      "pygments_lexer": "r",
      "version": "4.3.3"
    },
    "nbsimplegrader": {
      "publish_config": {
        "classes": [],
        "options": [],
        "tools": []
      }
    }
  },
  "nbformat": 4,
  "nbformat_minor": 1
}