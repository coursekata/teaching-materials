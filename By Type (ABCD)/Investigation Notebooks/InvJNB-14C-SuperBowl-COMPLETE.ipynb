{
  "cells": [
    {
      "cell_type": "markdown",
      "metadata": {
        "cell_id": "23668f4500aa4105ae68c0e394ace5e7",
        "deepnote_cell_type": "markdown",
        "tags": []
      },
      "source": "<div class=\"alert alert-block alert-danger\">\n\n# 14C: Super Bowl Ads (COMPLETE)\n\n**Use with textbook version 6.0+**\n\n\n**Lesson assumes students have read up through page: 14.11**\n\n\n</div>"
    },
    {
      "cell_type": "markdown",
      "metadata": {
        "cell_id": "0837df8d7367463f90f0da8695181043",
        "deepnote_cell_type": "markdown"
      },
      "source": "<div class=\"alert alert-block alert-warning\">\n\n#### Summary of Notebook:\n\nIn this notebook, students will explore a dataset that measured a variety of factors about Super Bowl ads, such as their YouTube analytics and whether certain features are present or absent as part of the ad. They will have the freedom to explore any multivariate hypothesis they are interested in. Many of the potential outcome variables lack variation and are highly skewed with outliers, so students will be need to decide how to handle these outliers, and will likely be faced with a model that does not explain any variation. There are also slides and a printable worksheet to help students understand PRE by drawing Venn Diagrams.\n \n#### Includes:\n\n- Fitting and interpreting multivariate models\n- Dealing with outliers\n- Interpreting a model that does not explain any variation\n- Drawing Venn Diagrams of PRE\n\n<b>Teacher Resources:</b> \n\n\nLink to [sample slides](https://docs.google.com/presentation/d/16vD_BcpKw-1-6oIe_S8Ar5wtLq8sMC5_x3MSaOJNSt4/edit?usp=sharing)\n\nLink to [printable handout](https://docs.google.com/document/d/1dEG1phIGxmx8dEDLM_s1HbszCydJaJa5Keb18kuOzQg/edit?usp=sharing)\n\n</div>"
    },
    {
      "cell_type": "markdown",
      "metadata": {
        "cell_id": "10f705dd260d4a709d939b65b5363dd7",
        "deepnote_cell_type": "markdown"
      },
      "source": "<div class=\"alert alert-block alert-success\">\n\n## Approximate time to complete Notebook: 75-105 Mins\n\n</div>"
    },
    {
      "cell_type": "code",
      "execution_count": null,
      "metadata": {
        "cell_id": "4b1cbbcc0bbf43d78e5662e1206edaee",
        "deepnote_cell_type": "code",
        "deepnote_to_be_reexecuted": false,
        "execution_context_id": "55dfa3e6-c75f-45f6-aa7f-b312a5e65ec1",
        "execution_millis": 1120,
        "execution_start": 1745002956567,
        "output_cleared": false,
        "source_hash": "847f8a22",
        "tags": [],
        "trusted": true
      },
      "outputs": [],
      "source": "# Load the CourseKata library\nlibrary(coursekata)\n\n# Adjust scientific notation\noptions(scipen = 10)\n\n# Read data set\nads <- read.csv(\"https://raw.githubusercontent.com/rfordatascience/tidytuesday/master/data/2021/2021-03-02/youtube.csv\")"
    },
    {
      "cell_type": "markdown",
      "metadata": {
        "cell_id": "b6ed1ebbd38f4047a35920499a75a68d",
        "deepnote_cell_type": "markdown",
        "tags": []
      },
      "source": "## Introduction\n\nBrands will pay millions of dollars to have a 30-second commercial air during the Super Bowl because they know they will have tens of millions of people watching.\n\n**What makes an impactful Super Bowl commercial? If you only had 30-60 seconds to broadcast your brand to the public, what kinds of ad have the greatest impact?**\n\nToday, you will get the chance to analyze some Super Bowl commercials and develop your own theories on what factors have the biggest impact on how people engage with these commercials.\n\n<img src=\"https://coursekata-course-assets.s3.us-west-1.amazonaws.com/UCLATALL/czi-stats-course/jnb_Vm03hJpg-xcd-08c-superbowl.png\" alt=\"collage of images from super bowl ads depicted in a television set\" width = 50%>"
    },
    {
      "cell_type": "markdown",
      "metadata": {
        "cell_id": "8577c574924e44c1b34e1d9b579312d9",
        "deepnote_cell_type": "markdown",
        "tags": []
      },
      "source": "## The Data\n\nThis data frame comes from [FiveThirtyEight](https://fivethirtyeight.com/). They watched over 200 ads from the 10 brands that aired the most spots in all 21 Super Bowls this century, according to superbowl-ads.com. They evaluated ads using the specific criteria listed below.\n\n**Description of Variables**\n\n- `year` Superbowl year\n- `brand` Brand for commercial\n- `superbowl_ads_dot_com_url` Superbowl ad URL\n- `youtube_url` Youtube URL\n- `funny` Contains humor\n- `show_product_quickly` Shows product quickly\n- `patriotic` Patriotic\n- `celebrity` Contains celebrity\n- `danger` Contains danger\n- `animals` Contains animals\n- `use_sex`\tUses sexuality\n- `id` Youtube ID\n- `kind` Youtube Kind\n- `etag` Youtube etag\n- `view_count` Youtube view count\n- `like_count` Youtube like count\n- `dislike_count` Youtube dislike count\n- `favorite_count` Youtube favorite count\n- `comment_count` Youtube comment count\n- `published_at` Youtube when published\n- `title` Youtube title\n- `description` Youtube description\n- `thumbnail` Youtube thumbnail\n- `channel_title` Youtube channel name\n- `category_id` Youtube content category id\n\n\n**Data Sources** \n\n- [Tidy Tuesday](https://github.com/rfordatascience/tidytuesday/blob/master/data/2021/2021-03-02/readme.md)\n\n- Here is a link to their [article](https://projects.fivethirtyeight.com/super-bowl-ads/) on the topic, where you can also watch the commercials, and see their analyes."
    },
    {
      "cell_type": "markdown",
      "metadata": {
        "cell_id": "114f6ee9e83d485b8c45f9521925ae69",
        "deepnote_cell_type": "markdown"
      },
      "source": "<div class=\"alert alert-block alert-success\">\n\n### 1.0 - Approximate Time:  10-15 mins\n\n</div>"
    },
    {
      "cell_type": "markdown",
      "metadata": {
        "cell_id": "db64491b980b4ab19926c4236af0d39a",
        "deepnote_cell_type": "markdown",
        "tags": []
      },
      "source": "## 1.0: Explore Variation"
    },
    {
      "cell_type": "markdown",
      "metadata": {
        "cell_id": "05852668980449dfbd213eb89d362993",
        "deepnote_cell_type": "markdown"
      },
      "source": "**1.1:** Take a look at the data frame called `ads`. What is a good outcome variable to explore?"
    },
    {
      "cell_type": "code",
      "execution_count": null,
      "metadata": {
        "cell_id": "d9b27f25494e422eb9b2b729d48b2617",
        "deepnote_cell_type": "code",
        "deepnote_to_be_reexecuted": false,
        "execution_context_id": "55dfa3e6-c75f-45f6-aa7f-b312a5e65ec1",
        "execution_millis": 6,
        "execution_start": 1745002957737,
        "source_hash": "7d18fd13",
        "trusted": true
      },
      "outputs": [],
      "source": "# Sample Response\nhead(ads)"
    },
    {
      "cell_type": "markdown",
      "metadata": {
        "cell_id": "c9d42e8266a54f9caba51344fede3407",
        "deepnote_cell_type": "markdown"
      },
      "source": "<div class=\"alert alert-block alert-warning\">\n\n<b>Sample Responses:</b> \n\n- view_count\n- like_count\n- dislike_count \n- favorite_count\n- comment_count\n\n</div>"
    },
    {
      "cell_type": "markdown",
      "metadata": {
        "cell_id": "70036a7b5acf4d3fb9230ba241ee04da",
        "deepnote_cell_type": "markdown",
        "tags": []
      },
      "source": "**1.2:** What are some explanatory variables that would help explain variation in that outcome? Why are those interesting?\n\nWrite your multivariate idea as a word equation."
    },
    {
      "cell_type": "markdown",
      "metadata": {
        "cell_id": "dcc2a22260d44f4e83d103fb8b38e558",
        "deepnote_cell_type": "markdown"
      },
      "source": "<div class=\"alert alert-block alert-warning\">\n\n<b>Sample Response:</b> \n\nStudents may come with a variety of multivariate hypotheses here. One example might be:\n\n- like_count = funny + animals + other stuff\n\nNote that most of the possible outcome variables are skewed, with many outliers that make it difficult to see much variation in their visualizations of their models. Students may want to think about why some of these outliers are so extreme and will need to grapple with how they want to handle the outliers. Some may choose to keep them, some may choose to filter them out/into new data frames, and some may choose to pursue both paths and compare them. Whatever they choose, they should be able to articulate the reason they chose the path(s) they did.\n\nNote that a lot of the possible outcomes have extreme outliers so students may want to think about why some of these outliers are so extreme and whether they want to include them or not.\n\n</div>"
    },
    {
      "cell_type": "markdown",
      "metadata": {
        "cell_id": "c2da749562b742b7b9a3f3aa865d9b94",
        "deepnote_cell_type": "markdown"
      },
      "source": "**1.3:** Create a data visualization of your word equation. Describe whether you see the pattern you thought you might see."
    },
    {
      "cell_type": "code",
      "execution_count": null,
      "metadata": {
        "cell_id": "872522ed95204b989cd2502392953e12",
        "deepnote_cell_type": "code",
        "deepnote_to_be_reexecuted": false,
        "execution_context_id": "55dfa3e6-c75f-45f6-aa7f-b312a5e65ec1",
        "execution_millis": 1642,
        "execution_start": 1745002957787,
        "output_cleared": false,
        "source_hash": "73d75839",
        "trusted": true
      },
      "outputs": [],
      "source": "# Sample Response for like_count = funny + animals + other stuff\n\ngf_jitter(like_count ~ funny, data = ads) %>% \n    gf_facet_grid(animals ~.)\n\ngf_jitter(like_count ~ funny, color = ~animals, data = ads)\n\n# If they notice the lack of variation, you may want to encourage them to\n# look at the distribution of the outcome variable to discover the shape/outliers\ngf_histogram(~like_count, data = ads)\ngf_boxplot(~like_count, data = ads)\n\n# Some students may want to recode categorical variables from TRUE/FALSE\n# For example:\nads$funny_2 <- factor(ads$funny, levels = c(\"TRUE\", \"FALSE\"), labels = c(\"funny\", \"not funny\"))\nads$animals_2 <- factor(ads$animals, levels = c(\"TRUE\", \"FALSE\"), labels = c(\"animals\", \"no animals\"))\n\n############################################\n# If they choose to filter outliers:\n\n# Students will need to decide their own cutoff value\n# They could formally calculate the outliers, or come up with \n# a justification for choosing another number\n\nads_2 <- filter(ads, like_count < 5000)\n\ngf_histogram(~like_count, data = ads_2)\ngf_boxplot(~like_count, data = ads_2)\n\ngf_jitter(like_count ~ funny, data = ads_2) %>% \n    gf_facet_grid(animals ~.)\n\ngf_jitter(like_count ~ funny, color = ~animals, data = ads_2)\n"
    },
    {
      "cell_type": "markdown",
      "metadata": {
        "cell_id": "98777cb8095242c49b525b5f80dadc8b",
        "deepnote_cell_type": "markdown"
      },
      "source": "## 2.0: Model Variation"
    },
    {
      "cell_type": "markdown",
      "metadata": {
        "cell_id": "e65910a4c53844a0b41c9a1cfdec5f06",
        "deepnote_cell_type": "markdown"
      },
      "source": "**2.1:** Create the best-fitting model (or models), expressed in GLM notation, to represent your research question/word equation. Overlay it onto your data.\n"
    },
    {
      "cell_type": "code",
      "execution_count": null,
      "metadata": {
        "cell_id": "220ece842996479190b54378d8398293",
        "deepnote_cell_type": "code",
        "deepnote_to_be_reexecuted": false,
        "execution_context_id": "55dfa3e6-c75f-45f6-aa7f-b312a5e65ec1",
        "execution_millis": 383,
        "execution_start": 1745002959487,
        "source_hash": "af3036dc",
        "trusted": true
      },
      "outputs": [],
      "source": "# Sample Response\n\nmodel <- lm(like_count ~ funny + animals, data = ads)\nmodel\n\ngf_jitter(like_count ~ funny, color = ~animals, data = ads) %>%\n    gf_model(model)\n\n# If they choose to filter outliers:\nmodel_no_outliers <- lm(like_count ~ funny + animals, data = ads_2)\nmodel_no_outliers\n\ngf_jitter(like_count ~ funny, color = ~animals, data = ads_2) %>%\n    gf_model(model_no_outliers)"
    },
    {
      "cell_type": "markdown",
      "metadata": {
        "cell_id": "2be409e515b44c9cb1c074db800ac08a",
        "deepnote_cell_type": "markdown"
      },
      "source": "<div class=\"alert alert-block alert-warning\">\n\n<b>Sample Response:</b> \n\n- $like\\_count_i = 5991 + -1772(funnyTRUE) + -1671(animalsTRUE) + e_i$\n\nOr, no outliers:\n\n- $like\\_count_i = 436 + -104.6(funnyTRUE) + 112.1(animalsTRUE) + e_i$\n\n</div>"
    },
    {
      "cell_type": "markdown",
      "metadata": {
        "cell_id": "b31943098c51444a8bb3ba30ce0916e9",
        "deepnote_cell_type": "markdown"
      },
      "source": "**2.2:** How well does your model fit the data?"
    },
    {
      "cell_type": "code",
      "execution_count": null,
      "metadata": {
        "cell_id": "71903232c4b5451fbab04a1558480bfb",
        "deepnote_cell_type": "code",
        "deepnote_to_be_reexecuted": false,
        "execution_context_id": "55dfa3e6-c75f-45f6-aa7f-b312a5e65ec1",
        "execution_millis": 6,
        "execution_start": 1745002959917,
        "source_hash": "3f12b52e",
        "trusted": true
      },
      "outputs": [],
      "source": "# Sample Response\n\nsupernova(model)\n\nsupernova(model_no_outliers)"
    },
    {
      "cell_type": "markdown",
      "metadata": {
        "cell_id": "ee491d5f0aa8492b8e2449e35fff1a20",
        "deepnote_cell_type": "markdown"
      },
      "source": "<div class=\"alert alert-block alert-warning\">\n\n<b>Sample Response:</b> \n\nIn these examples, it does not fit the data very well. There is a lot of error, or unexplained variation, as the PREs are quite low.\n\n</div>"
    },
    {
      "cell_type": "markdown",
      "metadata": {
        "cell_id": "356b7367e5f748c79a40b74cbfae879e",
        "deepnote_cell_type": "markdown"
      },
      "source": "**2.3:** Draw the venn diagrams of the PRE with the handout provided by your instructor."
    },
    {
      "cell_type": "markdown",
      "metadata": {
        "cell_id": "3d029a66cab84833a45ae8a8743894c0",
        "deepnote_cell_type": "markdown"
      },
      "source": "<div class=\"alert alert-block alert-warning\">\n\n<b>Teacher Resources:</b> \n\n\nLink to [sample slides](https://docs.google.com/presentation/d/16vD_BcpKw-1-6oIe_S8Ar5wtLq8sMC5_x3MSaOJNSt4/edit?usp=sharing)\n\nLink to [printable handout](https://docs.google.com/document/d/1dEG1phIGxmx8dEDLM_s1HbszCydJaJa5Keb18kuOzQg/edit?usp=sharing)\n\n\n</div>"
    },
    {
      "cell_type": "markdown",
      "metadata": {
        "cell_id": "714af0ac20a34cebacef2e0984d48c58",
        "deepnote_cell_type": "markdown"
      },
      "source": "## 3.0: Evaluate Models"
    },
    {
      "cell_type": "markdown",
      "metadata": {
        "cell_id": "cbd2f34d3c46446aa9fbbafb7b8bdfd4",
        "deepnote_cell_type": "markdown"
      },
      "source": "**3.1:** Compare your multivariate model against the empty model? Which is a better model of the DGP and why?"
    },
    {
      "cell_type": "code",
      "execution_count": null,
      "metadata": {
        "allow_embed": false,
        "cell_id": "23238c9c17f94ec1843d9ab54bbe34bc",
        "deepnote_cell_type": "code",
        "deepnote_to_be_reexecuted": false,
        "execution_context_id": "55dfa3e6-c75f-45f6-aa7f-b312a5e65ec1",
        "execution_millis": 1,
        "execution_start": 1745002959967,
        "source_hash": "3f12b52e",
        "trusted": true
      },
      "outputs": [],
      "source": "# Sample Response\n\nsupernova(model)\n\nsupernova(model_no_outliers)"
    },
    {
      "cell_type": "markdown",
      "metadata": {
        "cell_id": "f1125fb002114909982bbdb6b01e3db4",
        "deepnote_cell_type": "markdown"
      },
      "source": "<div class=\"alert alert-block alert-warning\">\n\n<b>Sample Response:</b> \n\nIn these examples, the empty model is the better model of the DGP. The p-value for both of these models is quite high, meaning we cannot rule out randomness as a potential DGP. Thus, we should not reject the empty model.\n\n</div>"
    },
    {
      "cell_type": "markdown",
      "metadata": {
        "cell_id": "6fbeb9b2968343f78a0bdcb57cda17f6",
        "deepnote_cell_type": "markdown"
      },
      "source": "**3.2:** If your multivariate model is better than the empty model, then compare your multivariate model against all possible single-predictor models? Which is a better model of the DGP and why?"
    },
    {
      "cell_type": "code",
      "execution_count": null,
      "metadata": {
        "cell_id": "2512063efd5e4568b9114ffa8f5e4359",
        "deepnote_cell_type": "code",
        "deepnote_to_be_reexecuted": false,
        "execution_context_id": "55dfa3e6-c75f-45f6-aa7f-b312a5e65ec1",
        "execution_millis": 1,
        "execution_start": 1745002960027,
        "source_hash": "1a12581b",
        "trusted": true
      },
      "outputs": [],
      "source": "# Sample Response for like_count = funny + animals + other stuff\n\n# The MV model was already not better than the empty model\n# Thus, both of the single-predictor models are not better than the empty model\n\nmodel_funny <- lm(like_count ~ funny, data = ads)\nsupernova(model_funny)\n\nmodel_animals <- lm(like_count ~ animals, data = ads)\nsupernova(model_animals)"
    },
    {
      "cell_type": "markdown",
      "metadata": {
        "cell_id": "d3173e13ac31495cb23f1847648573fc",
        "deepnote_cell_type": "markdown"
      },
      "source": "**3.3:** What has your class learned about SuperBowl ads?"
    },
    {
      "cell_type": "markdown",
      "metadata": {
        "cell_id": "f6d5f7df85564cc8998c58d68d872094",
        "deepnote_cell_type": "markdown"
      },
      "source": "<div class=\"alert alert-block alert-warning\">\n\n<b>Sample Response:</b> \n\n*Student responses will vary.*\n\nIn this example case, we learned that ads with animals and humor did not explain variation in like count.\n\n</div>"
    }
  ],
  "metadata": {
    "deepnote_notebook_id": "ae93bfdcf4b74b15b7386051590338cf",
    "kernelspec": {
      "display_name": "R",
      "language": "R",
      "name": "ir"
    },
    "language_info": {
      "codemirror_mode": "r",
      "file_extension": ".r",
      "mimetype": "text/x-r-source",
      "name": "R",
      "pygments_lexer": "r",
      "version": "4.3.3"
    },
    "nbsimplegrader": {
      "publish_config": {
        "classes": [],
        "options": [],
        "tools": []
      }
    }
  },
  "nbformat": 4,
  "nbformat_minor": 1
}