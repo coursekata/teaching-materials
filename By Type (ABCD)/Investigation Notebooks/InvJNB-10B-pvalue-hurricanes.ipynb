{
  "cells": [
    {
      "cell_type": "markdown",
      "metadata": {
        "cell_id": "22899c3e7a994d31ae668e77be5431b5",
        "deepnote_cell_type": "markdown"
      },
      "source": "## 10B: Hurricanes and Veeries"
    },
    {
      "cell_type": "code",
      "execution_count": null,
      "metadata": {
        "cell_id": "6f3f644d2eb74f91b74ff3d6a939f7c6",
        "deepnote_cell_height": 188.953125,
        "deepnote_cell_type": "code",
        "deepnote_to_be_reexecuted": false,
        "execution_millis": 1288,
        "execution_start": 1667512635434,
        "source_hash": "70a46619",
        "trusted": true
      },
      "outputs": [],
      "source": "# This code will load the R packages we will use\nsuppressPackageStartupMessages({\n    library(coursekata)\n})\n\nVeery <- read.csv(\"https://docs.google.com/spreadsheets/d/e/2PACX-1vQy-n34dB-oaBStfl8fRT-RXbeVOLtB3TldjOPpXDxCjqdAkhBDrIfJED6lLgrTIpRcIOxk4Xm204qU/pub?gid=1856214631&single=true&output=csv\", header=TRUE)\n"
    },
    {
      "cell_type": "markdown",
      "metadata": {
        "cell_id": "147c6ca6f89548baa27e793f2a4c717e",
        "deepnote_cell_height": 69.96875,
        "deepnote_cell_type": "markdown"
      },
      "source": "## 1.0 - The Research Question & Data"
    },
    {
      "cell_type": "markdown",
      "metadata": {
        "cell_id": "916fa0c88e254745ab35b9e8cd00598a",
        "deepnote_cell_height": 587.015625,
        "deepnote_cell_type": "markdown"
      },
      "source": "Hurricanes are one of the costliest and most deadly natural weather disasters. It would be helpful to predict which hurricanes are going to be stronger and more destructive.\n\n<img src=\"https://coursekata-course-assets.s3.us-west-1.amazonaws.com/UCLATALL/czi-stats-course/jnb_Qs0Hd4Bf-image.png\" width=500 align=\"left\" style=\"float: left; padding: 10px;\" alt=\"veery and map of veery migration\">Not only are humans affected by hurricanes, so are animal species. For example, the veery (a  songbird) breed and nest in North America in the **spring** but migrate to South America for the **winter**. \n\nComplicating their lives, 93% of all major hurricanes in the Atlantic basin are formed during peak southbound songbird migration (August through October).\n\nResearcher Christopher M. Heckscher was interested in whether animal behavior might help us predict hurricane strength. He gathered data from 1998-2016 on the Veery population in Delaware, USA, as well as the annual hurricane strength\n([Heckscher's article](https://www.nature.com/articles/s41598-018-28302-3#Sec5)).\n"
    },
    {
      "cell_type": "markdown",
      "metadata": {
        "cell_id": "ce35b1c280364a84a01d53b487e2d8e2",
        "deepnote_cell_height": 390.046875,
        "deepnote_cell_type": "markdown"
      },
      "source": "\nWe will explore a data frame called `Veery`. \n\nThese are the variables in this data frame:\n\n- `ACE` Accumulated Cyclone Energy (hurricane strength) for the Atlantic region for that year\n- `Year` The year the data were collected (*Note: there are no data for the year 2008)\n- `Mean_CID` The mean clutch initiation date (all in the month of May) that year\n- `Min_CID` The minimum clutch initiation date (all in May)\n- `Max_CID` The maximum clutch initiation date (dates in May or June; June dates are recorded as 31 days in May + days in June; for example June 6 is expressed as 31 + 6 = 37)\n- `SE_CID` The standard error for the clutch initiation date\n- `Mean_clutchsize` The mean clutch size\n- `Min_CS` The minimum clutch size\n- `Max_CS` The maximum clutch size\n- `SE_CS` The standard error for the clutch size"
    },
    {
      "cell_type": "markdown",
      "metadata": {
        "cell_id": "b7e3e8584155455dbc549dda59192005",
        "deepnote_cell_height": 206.328125,
        "deepnote_cell_type": "markdown"
      },
      "source": "Heckscher hypothesized that years when hurricanes are more severe, these Delaware veeries might need more time and flexibility to cross the Gulf of Mexico. He had two hypotheses:\n\nA. Large Veery clutch size (the number of eggs they laid) would predict a strong hurricane season.\n\nB. Earlier clutch initiation date (the date the birds began laying eggs in their clutch) would also predict strong hurricanes.\n\n1.1 - Write these hypotheses as word equations (using variables from the `Veery` data frame)."
    },
    {
      "cell_type": "markdown",
      "metadata": {
        "cell_id": "985350a24f414455b5fb1a46a47004ca",
        "deepnote_cell_height": 88.75,
        "deepnote_cell_type": "markdown",
        "nbsimplegrader": {
          "config_key": "markdown.response",
          "editable": true,
          "label": "Response: Markdown",
          "respondable": true,
          "response": null,
          "runnable": true,
          "type": "markdown"
        }
      },
      "source": "A.\n\nB."
    },
    {
      "cell_type": "markdown",
      "metadata": {
        "cell_id": "316659e6f14e4f6fbd42420501462a8d",
        "deepnote_cell_height": 144.75,
        "deepnote_cell_type": "markdown"
      },
      "source": "## 2.0 - Explore Variation & Model Variation\n\nOdd numbered groups, you are assigned to the clutch size hypothesis (A).\n\nEven numbered groups, you are assigned to the clutch initiation date hypothesis (B)."
    },
    {
      "cell_type": "markdown",
      "metadata": {
        "cell_id": "43c5c0f9e8c243769b9a08cfe192a077",
        "deepnote_cell_height": 52.359375,
        "deepnote_cell_type": "markdown"
      },
      "source": "2.1 - Explore your hypothesis with a visualization."
    },
    {
      "cell_type": "markdown",
      "metadata": {
        "cell_id": "b2f2cadd153e47d381e5ed2910202d83",
        "deepnote_cell_height": 52.359375,
        "deepnote_cell_type": "markdown"
      },
      "source": "2.2 - Model your hypothesis and write the best fitting model in GLM notation."
    },
    {
      "cell_type": "markdown",
      "metadata": {
        "cell_id": "944b7799ef804605a2f9be0092697b4b",
        "deepnote_cell_height": 52.359375,
        "deepnote_cell_type": "markdown"
      },
      "source": "2.3 - Interpret the best fitting values of the parameter estimates in this model."
    },
    {
      "cell_type": "markdown",
      "metadata": {
        "cell_id": "e0241b4633984eb8b4efe7768a5c6f58",
        "deepnote_cell_height": 95.15625,
        "deepnote_cell_type": "markdown",
        "nbsimplegrader": {
          "config_key": "markdown.response",
          "editable": true,
          "label": "Response: Markdown",
          "respondable": true,
          "response": null,
          "runnable": true,
          "type": "markdown"
        }
      },
      "source": "- $b_0$:\n- $b_1$:"
    },
    {
      "cell_type": "markdown",
      "metadata": {
        "cell_id": "3227b5b651344ba19026260c0b804379",
        "deepnote_cell_height": 69.96875,
        "deepnote_cell_type": "markdown"
      },
      "source": "## 3.0 - Evaluate Models"
    },
    {
      "cell_type": "markdown",
      "metadata": {
        "cell_id": "aeb9833767c54c0e9355fe82c9205956",
        "deepnote_cell_height": 97.765625,
        "deepnote_cell_type": "markdown"
      },
      "source": "3.1 - Is it likely that we could have gotten this sample $b_{1}$ or one that was more extreme if the true $\\beta_{1}$ was 0? (Assume we define likely as *.95 of the most frequent values of $b_1$ generated by a particular $\\beta_1$*.)"
    },
    {
      "cell_type": "code",
      "execution_count": null,
      "metadata": {
        "cell_id": "abe2e7d3796e4ac1805d3c1655398094",
        "deepnote_cell_height": 93.953125,
        "deepnote_cell_type": "code",
        "deepnote_to_be_reexecuted": false,
        "execution_millis": 4,
        "execution_start": 1667512628089,
        "nbsimplegrader": {
          "config_key": "code.response",
          "editable": true,
          "label": "Response: Code",
          "respondable": true,
          "response": null,
          "runnable": true,
          "type": "code"
        },
        "source_hash": "5908427b",
        "trusted": true
      },
      "outputs": [],
      "source": "# use any code or strategy to answer this question\n"
    },
    {
      "cell_type": "markdown",
      "metadata": {
        "cell_id": "17ae93928b754a2d8800430bff7e03b7",
        "deepnote_cell_height": 52.359375,
        "deepnote_cell_type": "markdown",
        "nbsimplegrader": {
          "config_key": "markdown.response",
          "editable": true,
          "label": "Response: Markdown",
          "respondable": true,
          "response": null,
          "runnable": true,
          "type": "markdown"
        }
      },
      "source": "3.2 - Explain your strategy and answer."
    },
    {
      "cell_type": "markdown",
      "metadata": {
        "cell_id": "9859a29fa6dd478ab29cf5c698cb6488",
        "deepnote_cell_height": 74.75,
        "deepnote_cell_type": "markdown",
        "tags": []
      },
      "source": "3.3 - What are some alternate strategies that could have been used (or that other students used)? Is one strategy better than another?"
    },
    {
      "cell_type": "markdown",
      "metadata": {
        "cell_id": "87d33b492a984fd2944c98d0115b8ae5",
        "deepnote_cell_height": 69.96875,
        "deepnote_cell_type": "markdown"
      },
      "source": "## 4.0 - Conclusions"
    },
    {
      "cell_type": "markdown",
      "metadata": {
        "cell_id": "7cc27a4606b04262848b1cb80a60836a",
        "deepnote_cell_height": 52.359375,
        "deepnote_cell_type": "markdown"
      },
      "source": "4.1 - So should we use one or both or none of these bird behaviors to predict hurricane strength?"
    },
    {
      "cell_type": "markdown",
      "metadata": {
        "cell_id": "92463ee8ca6e4bc187a5f24d10562a0c",
        "deepnote_cell_height": 99.34375,
        "deepnote_cell_type": "markdown"
      },
      "source": "4.2 - Does this bird behavior CAUSE hurricanes to be stronger? What is going on?"
    },
    {
      "cell_type": "markdown",
      "metadata": {
        "cell_id": "da9abe06dffb47858061dfbf9cc95444",
        "deepnote_cell_height": 45.96875,
        "deepnote_cell_type": "markdown",
        "nbsimplegrader": {
          "config_key": "markdown.response",
          "editable": true,
          "label": "Response: Markdown",
          "respondable": true,
          "response": null,
          "runnable": true,
          "type": "markdown"
        }
      },
      "source": ""
    }
  ],
  "metadata": {
    "deepnote_notebook_id": "c91a555fdd4543369d7cba1f5df4baff",
    "kernelspec": {
      "display_name": "R",
      "language": "R",
      "name": "ir"
    },
    "language_info": {
      "codemirror_mode": "r",
      "file_extension": ".r",
      "mimetype": "text/x-r-source",
      "name": "R",
      "pygments_lexer": "r",
      "version": "4.3.3"
    },
    "nbsimplegrader": {
      "publish_config": {
        "classes": [],
        "options": [],
        "tools": []
      }
    }
  },
  "nbformat": 4,
  "nbformat_minor": 1
}