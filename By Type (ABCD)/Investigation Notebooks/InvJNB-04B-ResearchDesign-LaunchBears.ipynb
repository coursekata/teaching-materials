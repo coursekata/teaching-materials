{
  "cells": [
    {
      "cell_type": "markdown",
      "metadata": {
        "cell_id": "7ccbfc8924ae4c3e833571172abb93b1",
        "deepnote_app_block_visible": true,
        "deepnote_cell_type": "markdown",
        "nbsimplegrader": {
          "config_key": "markdown.view-only",
          "editable": false,
          "label": "Markdown: View-Only",
          "respondable": false,
          "response": null,
          "runnable": false,
          "type": "markdown"
        }
      },
      "source": "# 4B: Research Design and Launching Distance"
    },
    {
      "cell_type": "code",
      "execution_count": null,
      "metadata": {
        "cell_id": "3d60a41665be4147bbb9bc741f4305ef",
        "deepnote_app_block_visible": true,
        "deepnote_cell_type": "code",
        "deepnote_to_be_reexecuted": false,
        "execution_context_id": "9cdbaebc-1911-4078-9f14-725912ca32cd",
        "execution_millis": 2171,
        "execution_start": 1729612893282,
        "nbsimplegrader": {
          "config_key": "code.run-only",
          "editable": false,
          "label": "Code: Run-Only",
          "respondable": false,
          "response": null,
          "runnable": true,
          "type": "code"
        },
        "output_cleared": false,
        "owner_user_id": "23d85493-7ed1-49a4-baa7-630eaab08193",
        "source_hash": "493e0bae",
        "trusted": true
      },
      "outputs": [],
      "source": "# Load the CourseKata library\nsuppressPackageStartupMessages({\n    library(coursekata)\n})\n\nLaunchBears <- read.csv(\"https://docs.google.com/spreadsheets/d/e/2PACX-1vR-n7sbDgxBhPlIew383bKP1wbOjyexLAXcevLMMGFHmWgUTWTEn9jWn1cUcujAmjByussTNozcAto0/pub?gid=745552022&single=true&output=csv\", header=TRUE)"
    },
    {
      "cell_type": "markdown",
      "metadata": {
        "cell_id": "0a4d954bad4f410c89dfe9e330a1c24e",
        "deepnote_app_block_visible": true,
        "deepnote_cell_height": 302.390625,
        "deepnote_cell_type": "markdown",
        "nbsimplegrader": {
          "config_key": "markdown.view-only",
          "editable": false,
          "label": "Markdown: View-Only",
          "respondable": false,
          "response": null,
          "runnable": false,
          "type": "markdown"
        }
      },
      "source": "## 1.0 - Revisiting the Gummy Bear Catapult Experiment\n\nRemember when we created our candy catapults? Now that we’ve learned some new data science skills, let’s revisit that data and think about this question: \n\n> What affects gummy bear launching distance?\n\nA sample data set has been loaded for you into `LaunchBears`. \n\n(**Note to Instructors**: If you did lessons 2A and 2B with your students, you can upload the actual data from your class if you prefer.)"
    },
    {
      "cell_type": "markdown",
      "metadata": {
        "cell_id": "4a909ff3f4e749e2b410085043c564a7",
        "deepnote_app_block_visible": true,
        "deepnote_cell_height": 255.1875,
        "deepnote_cell_type": "markdown",
        "nbsimplegrader": {
          "config_key": "markdown.view-only",
          "editable": false,
          "label": "Markdown: View-Only",
          "respondable": false,
          "response": null,
          "runnable": false,
          "type": "markdown"
        }
      },
      "source": "1.1 - Do you have any questions about these variables? \n\n- `LiftCategory` number of lift sticks as a categorical variable (L1 - one stick, L2 - two sticks, L3 - three sticks)\n- `NumLifts` number of lift sticks (1,2,3)\n- `Dist_cm` how far the gummy bear got launched in centimeters\n- `BearColor` color of the gummy bear\n- `Group` which group of students did the launches\n- `BearHt` how tall the bear was in millimeters \n- `Tool` which measuring tool was used\n- `CatapultColor` the color of the catapult"
    },
    {
      "cell_type": "markdown",
      "metadata": {
        "cell_id": "53b546d5cfe34532964f158ef8861cea",
        "deepnote_app_block_visible": true,
        "deepnote_cell_height": 52.390625,
        "deepnote_cell_type": "markdown",
        "nbsimplegrader": {
          "config_key": "markdown.view-only",
          "editable": false,
          "label": "Markdown: View-Only",
          "respondable": false,
          "response": null,
          "runnable": false,
          "type": "markdown"
        }
      },
      "source": "1.2 - Let’s take a look at the distribution of launching distances. What do you notice?"
    },
    {
      "cell_type": "code",
      "execution_count": null,
      "metadata": {
        "cell_id": "d4de1bc0cc6a4025aafa586264f9cbb2",
        "deepnote_app_block_visible": true,
        "deepnote_cell_height": 1440,
        "deepnote_cell_type": "code",
        "deepnote_output_heights": [
          611,
          611
        ],
        "execution_context_id": "9cdbaebc-1911-4078-9f14-725912ca32cd",
        "execution_millis": 561,
        "execution_start": 1729612895590,
        "source_hash": "c06ebb70",
        "tags": [],
        "trusted": true
      },
      "outputs": [],
      "source": "# Sample histogram (students can change to a density histogram with a density plot as well)\ngf_histogram(~Dist_cm, data = LaunchBears, fill = \"aquamarine1\", color = \"darkblue\")\n\n\n# Sample boxplot with jitter\ngf_boxplot(Dist_cm ~ 1, data = LaunchBears, fill = \"palegoldenrod\", color = \"seagreen4\")%>%gf_jitter(color = \"plum4\")"
    },
    {
      "cell_type": "markdown",
      "metadata": {
        "cell_id": "e8e22fcea0f04f60b98b146eabbfd688",
        "deepnote_app_block_visible": true,
        "deepnote_cell_height": 97.1875,
        "deepnote_cell_type": "markdown",
        "nbsimplegrader": {
          "config_key": "markdown.view-only",
          "editable": false,
          "label": "Markdown: View-Only",
          "respondable": false,
          "response": null,
          "runnable": false,
          "type": "markdown"
        }
      },
      "source": "1.3 - Hmmm... there are some gummy bears that got launched a lot further than others. Of the variables we collected in `LaunchBears`, in your opinion, which of these variables might affect distance? Which variables probably do not affect distance?"
    },
    {
      "cell_type": "markdown",
      "metadata": {
        "cell_id": "5b81a1b57b984116b316ee2763f83c28",
        "deepnote_app_block_visible": true,
        "deepnote_cell_height": 52.390625,
        "deepnote_cell_type": "markdown",
        "nbsimplegrader": {
          "config_key": "markdown.view-only",
          "editable": false,
          "label": "Markdown: View-Only",
          "respondable": false,
          "response": null,
          "runnable": false,
          "type": "markdown"
        }
      },
      "source": "1.4 - Make a few visualizations to look at the variables that might affect distance"
    },
    {
      "cell_type": "markdown",
      "metadata": {
        "cell_id": "f01b950b64a745a79e2fc752cbee5f9f",
        "deepnote_app_block_visible": true,
        "deepnote_cell_height": 52.390625,
        "deepnote_cell_type": "markdown",
        "nbsimplegrader": {
          "config_key": "markdown.view-only",
          "editable": false,
          "label": "Markdown: View-Only",
          "respondable": false,
          "response": null,
          "runnable": false,
          "type": "markdown"
        }
      },
      "source": "1.5 - Now make some visualizations to look at the variables that might NOT affect distance"
    },
    {
      "cell_type": "markdown",
      "metadata": {
        "cell_id": "4ad702bea952481e82bab2990941e6c4",
        "deepnote_app_block_visible": true,
        "deepnote_cell_height": 52.390625,
        "deepnote_cell_type": "markdown",
        "nbsimplegrader": {
          "config_key": "markdown.view-only",
          "editable": false,
          "label": "Markdown: View-Only",
          "respondable": false,
          "response": null,
          "runnable": false,
          "type": "markdown"
        }
      },
      "source": "1.6 - Which variable(s) seems best at explaining some of the variation in distance?"
    },
    {
      "cell_type": "markdown",
      "metadata": {
        "cell_id": "6f8988d8f9354ab383cf62dec31386fe",
        "deepnote_app_block_visible": true,
        "deepnote_cell_height": 170.796875,
        "deepnote_cell_type": "markdown",
        "nbsimplegrader": {
          "config_key": "markdown.view-only",
          "editable": false,
          "label": "Markdown: View-Only",
          "respondable": false,
          "response": null,
          "runnable": false,
          "type": "markdown"
        }
      },
      "source": "## 2.0 - Modeling the Possibilities with Word Equations\n\nA lot of people think `LiftCategory` might help us explain the variation in launch distance, such that, if we knew how many lift sticks the catapult had, we could adjust our prediction of distance a little bit. "
    },
    {
      "cell_type": "markdown",
      "metadata": {
        "cell_id": "c73e880c1d0e40b9885bcd38273397de",
        "deepnote_app_block_visible": true,
        "deepnote_cell_height": 74.796875,
        "deepnote_cell_type": "markdown",
        "nbsimplegrader": {
          "config_key": "markdown.view-only",
          "editable": false,
          "label": "Markdown: View-Only",
          "respondable": false,
          "response": null,
          "runnable": false,
          "type": "markdown"
        }
      },
      "source": "2.1 - If we knew that a gummy bear was launched with 3 lift sticks, how would you adjust your prediction? How about just 1 lift stick?"
    },
    {
      "cell_type": "markdown",
      "metadata": {
        "cell_id": "a447eef934db4c2187ce7b5af8be70ac",
        "deepnote_app_block_visible": true,
        "deepnote_cell_height": 74.796875,
        "deepnote_cell_type": "markdown",
        "nbsimplegrader": {
          "config_key": "markdown.view-only",
          "editable": false,
          "label": "Markdown: View-Only",
          "respondable": false,
          "response": null,
          "runnable": false,
          "type": "markdown"
        }
      },
      "source": "2.2 - How would we write a word equation for the hypothesis that the number of lift sticks explains some of the variation in distance? "
    },
    {
      "cell_type": "markdown",
      "metadata": {
        "cell_id": "ab58d0987a9d4cadab9bbd49b20e261e",
        "deepnote_app_block_visible": true,
        "deepnote_cell_height": 133.59375,
        "deepnote_cell_type": "markdown",
        "nbsimplegrader": {
          "config_key": "markdown.view-only",
          "editable": false,
          "label": "Markdown: View-Only",
          "respondable": false,
          "response": null,
          "runnable": false,
          "type": "markdown"
        }
      },
      "source": "2.3 - We could be wrong though. So how would we write a word equation for the hypothesis that the number of lift sticks does not explain the variation in distance? \n\nWe will consider each word equation a little theory (or “hypothesis” or “model”) of the DGP that created our launching distance data."
    },
    {
      "cell_type": "markdown",
      "metadata": {
        "cell_id": "1b9dfd1f50874c55957a1cd52723d0d5",
        "deepnote_app_block_visible": true,
        "deepnote_cell_height": 131.296875,
        "deepnote_cell_type": "markdown",
        "nbsimplegrader": {
          "config_key": "markdown.view-only",
          "editable": false,
          "label": "Markdown: View-Only",
          "respondable": false,
          "response": null,
          "runnable": false,
          "type": "markdown"
        }
      },
      "source": "## 3.0 - Explaining variation with `LiftCategory`\n\nLet’s check out a visualization that many of you may have made but be careful not to jump to conclusions."
    },
    {
      "cell_type": "code",
      "execution_count": null,
      "metadata": {
        "cell_id": "3bbca4fd63054e1a9608d20dfdfb86b8",
        "deepnote_app_block_visible": true,
        "deepnote_cell_height": 744,
        "deepnote_cell_type": "code",
        "deepnote_output_heights": [
          611
        ],
        "execution_context_id": "9cdbaebc-1911-4078-9f14-725912ca32cd",
        "execution_millis": 241,
        "execution_start": 1729612897810,
        "nbsimplegrader": {
          "config_key": "code.run-only",
          "editable": false,
          "label": "Code: Run-Only",
          "respondable": false,
          "response": null,
          "runnable": true,
          "type": "code"
        },
        "source_hash": "3d95a5e8",
        "trusted": true
      },
      "outputs": [],
      "source": "gf_histogram(~ Dist_cm, data =LaunchBears) %>%\n  gf_facet_grid(LiftCategory ~ .)%>%\n  gf_boxplot(width=5, fill=\"white\")"
    },
    {
      "cell_type": "markdown",
      "metadata": {
        "cell_id": "d6783b0b5085488797ba9366d6873cfc",
        "deepnote_app_block_visible": true,
        "deepnote_cell_height": 74.796875,
        "deepnote_cell_type": "markdown",
        "nbsimplegrader": {
          "config_key": "markdown.view-only",
          "editable": false,
          "label": "Markdown: View-Only",
          "respondable": false,
          "response": null,
          "runnable": false,
          "type": "markdown"
        }
      },
      "source": "3.1 - What are some reasons (from the data) for suspecting that `LiftCategory` really does explain some of the variation in `Dist_cm` scores?"
    },
    {
      "cell_type": "markdown",
      "metadata": {
        "cell_id": "81d1ca2a966f468989c8c51886920a95",
        "deepnote_app_block_visible": true,
        "deepnote_cell_height": 74.796875,
        "deepnote_cell_type": "markdown",
        "nbsimplegrader": {
          "config_key": "markdown.view-only",
          "editable": false,
          "label": "Markdown: View-Only",
          "respondable": false,
          "response": null,
          "runnable": false,
          "type": "markdown"
        }
      },
      "source": "3.2 - What are some reasons (from the data) for suspecting that `LiftCategory` really does **_not_** explain some of the variation in `Dist_cm` scores?"
    },
    {
      "cell_type": "markdown",
      "metadata": {
        "cell_id": "6a7c5c24f85243e19ff9c7479703ec99",
        "deepnote_app_block_visible": true,
        "deepnote_cell_height": 74.796875,
        "deepnote_cell_type": "markdown",
        "nbsimplegrader": {
          "config_key": "markdown.view-only",
          "editable": false,
          "label": "Markdown: View-Only",
          "respondable": false,
          "response": null,
          "runnable": false,
          "type": "markdown"
        }
      },
      "source": "3.3 - Is it possible to have gotten this pattern of data by chance? For example, if we just shuffled these distances into three different groups randomly?"
    },
    {
      "cell_type": "markdown",
      "metadata": {
        "cell_id": "b093d5fb4629482aab313e8af2984e10",
        "deepnote_app_block_visible": true,
        "deepnote_cell_height": 358.90625,
        "deepnote_cell_type": "markdown",
        "nbsimplegrader": {
          "config_key": "markdown.view-only",
          "editable": false,
          "label": "Markdown: View-Only",
          "respondable": false,
          "response": null,
          "runnable": false,
          "type": "markdown"
        }
      },
      "source": "3.4 - Take a look at the diagram of “explaining variation” below. What aspects of the histograms represent the “explained variation” part? What aspects of the histograms represent the “unexplained” variation?\n\n<img src=\"https://coursekata-course-assets.s3.us-west-1.amazonaws.com/UCLATALL/czi-stats-course/jnb_4C_sources_variation.png\" title=\"Explaining variation diagram\" />\n"
    },
    {
      "cell_type": "markdown",
      "metadata": {
        "cell_id": "f8e64955701546609fc59e5399fb8d59",
        "deepnote_app_block_visible": true,
        "deepnote_cell_height": 110,
        "deepnote_cell_type": "markdown",
        "nbsimplegrader": {
          "config_key": "markdown.view-only",
          "editable": false,
          "label": "Markdown: View-Only",
          "respondable": false,
          "response": null,
          "runnable": false,
          "type": "markdown"
        }
      },
      "source": "## 4.0 - Simulating Unexplained Variation using a Random Data Generating Process (DGP)"
    },
    {
      "cell_type": "markdown",
      "metadata": {
        "cell_id": "e848ea64751b46c1af51ad41d48351f2",
        "deepnote_app_block_visible": true,
        "deepnote_cell_height": 74.796875,
        "deepnote_cell_type": "markdown",
        "nbsimplegrader": {
          "config_key": "markdown.view-only",
          "editable": false,
          "label": "Markdown: View-Only",
          "respondable": false,
          "response": null,
          "runnable": false,
          "type": "markdown"
        }
      },
      "source": "4.1 - Remember Westvaco? We couldn’t “simulate” age discrimination **_but_** we could simulate firing people “randomly.” How did we “simulate” a random process then? Which R function works like that?"
    },
    {
      "cell_type": "markdown",
      "metadata": {
        "cell_id": "9ae80ccded6b43259b91e50691ae376c",
        "deepnote_app_block_visible": true,
        "deepnote_cell_height": 74.796875,
        "deepnote_cell_type": "markdown",
        "nbsimplegrader": {
          "config_key": "markdown.view-only",
          "editable": false,
          "label": "Markdown: View-Only",
          "respondable": false,
          "response": null,
          "runnable": false,
          "type": "markdown"
        }
      },
      "source": "4.2 - The definition of “random” includes the idea that it doesn’t systematically pick numbers that are bigger or smaller (it’s unbiased). Why is the `sample()` function a “random” process?"
    },
    {
      "cell_type": "markdown",
      "metadata": {
        "cell_id": "3b1a691bb8734143a4834f0ed4a6bda1",
        "deepnote_app_block_visible": true,
        "deepnote_cell_height": 74.796875,
        "deepnote_cell_type": "markdown",
        "nbsimplegrader": {
          "config_key": "markdown.view-only",
          "editable": false,
          "label": "Markdown: View-Only",
          "respondable": false,
          "response": null,
          "runnable": false,
          "type": "markdown"
        }
      },
      "source": "4.3 - Now we have a slightly different situation from Westvaco – we have launching distances in three groups. How will the R function `shuffle()` mimic a random process?"
    },
    {
      "cell_type": "markdown",
      "metadata": {
        "cell_id": "fffe6d0964604dedbbe888763244fb91",
        "deepnote_app_block_visible": true,
        "deepnote_cell_height": 74.796875,
        "deepnote_cell_type": "markdown",
        "nbsimplegrader": {
          "config_key": "markdown.view-only",
          "editable": false,
          "label": "Markdown: View-Only",
          "respondable": false,
          "response": null,
          "runnable": false,
          "type": "markdown"
        }
      },
      "source": "Here is some code that shuffles the distances (`Dist_cm`) into different `LiftCategory` groups **_and_** makes a visualization all at the same time. "
    },
    {
      "cell_type": "code",
      "execution_count": null,
      "metadata": {
        "cell_id": "73b964b2fa4a4aebb6935264cdbe39b1",
        "deepnote_app_block_visible": true,
        "deepnote_cell_height": 762,
        "deepnote_cell_type": "code",
        "deepnote_output_heights": [
          611
        ],
        "execution_context_id": "9cdbaebc-1911-4078-9f14-725912ca32cd",
        "execution_millis": 228,
        "execution_start": 1729614008194,
        "nbsimplegrader": {
          "config_key": "code.run-only",
          "editable": false,
          "label": "Code: Run-Only",
          "respondable": false,
          "response": null,
          "runnable": true,
          "type": "code"
        },
        "source_hash": "5afa8fc1",
        "trusted": true
      },
      "outputs": [],
      "source": "# Run this code a few times\ngf_histogram(~ shuffle(Dist_cm), data = LaunchBears) %>%\n  gf_facet_grid(LiftCategory ~ .)%>%\n  gf_boxplot(width=2.5, fill=\"white\")"
    },
    {
      "cell_type": "markdown",
      "metadata": {
        "cell_id": "5f3dfc791b51486b9915e1e3066f59bf",
        "deepnote_app_block_visible": true,
        "deepnote_cell_height": 74.796875,
        "deepnote_cell_type": "markdown",
        "nbsimplegrader": {
          "config_key": "markdown.view-only",
          "editable": false,
          "label": "Markdown: View-Only",
          "respondable": false,
          "response": null,
          "runnable": false,
          "type": "markdown"
        }
      },
      "source": "4.4 - What is this code doing? Explain. How is that different from the code for creating a visualization of the actual data?"
    },
    {
      "cell_type": "markdown",
      "metadata": {
        "cell_id": "1f2a6d23512f44e5942bb767939710da",
        "deepnote_app_block_visible": true,
        "deepnote_cell_height": 97.1875,
        "deepnote_cell_type": "markdown",
        "nbsimplegrader": {
          "config_key": "markdown.view-only",
          "editable": false,
          "label": "Markdown: View-Only",
          "respondable": false,
          "response": null,
          "runnable": false,
          "type": "markdown"
        }
      },
      "source": "4.5 - If we shuffled the `Dist_cm` values into three random groups, would our actual data look similar or different from the randomly shuffled data? (Feel free to try shuffling a few times in order to develop your intuition.)"
    },
    {
      "cell_type": "markdown",
      "metadata": {
        "cell_id": "6e2111c411be403cb69ff4e92a923834",
        "deepnote_app_block_visible": true,
        "deepnote_cell_height": 642.984375,
        "deepnote_cell_type": "markdown",
        "nbsimplegrader": {
          "config_key": "markdown.view-only",
          "editable": false,
          "label": "Markdown: View-Only",
          "respondable": false,
          "response": null,
          "runnable": false,
          "type": "markdown"
        }
      },
      "source": "4.6 - We ran `shuffle()` (the code we showed you above) a bunch of times. One of the faceted histograms below is the empirical sample (the sample from the real data). Can you tell which one it is? What makes it look different than the samples we created from shuffling?\n\n<img src=\"https://coursekata-course-assets.s3.us-west-1.amazonaws.com/UCLATALL/czi-stats-course/jnb_4c_shuffles.jpg\" title=\"Several shuffled histograms\" />"
    },
    {
      "cell_type": "markdown",
      "metadata": {
        "cell_id": "056ba05701b54775b155f3bb8694bb01",
        "deepnote_app_block_visible": true,
        "deepnote_cell_height": 70,
        "deepnote_cell_type": "markdown",
        "nbsimplegrader": {
          "config_key": "markdown.view-only",
          "editable": false,
          "label": "Markdown: View-Only",
          "respondable": false,
          "response": null,
          "runnable": false,
          "type": "markdown"
        }
      },
      "source": "## 5.0 - What did we learn from shuffling?"
    },
    {
      "cell_type": "markdown",
      "metadata": {
        "cell_id": "65cdc655bc274e37bd3ff6214288f648",
        "deepnote_app_block_visible": true,
        "deepnote_cell_height": 74.796875,
        "deepnote_cell_type": "markdown",
        "nbsimplegrader": {
          "config_key": "markdown.view-only",
          "editable": false,
          "label": "Markdown: View-Only",
          "respondable": false,
          "response": null,
          "runnable": false,
          "type": "markdown"
        }
      },
      "source": "5.1 - Do you think the likelihood of getting a pattern of data like our empirical sample from a random process (like shuffling) is high? Low? Medium? Explain your reasoning."
    },
    {
      "cell_type": "markdown",
      "metadata": {
        "cell_id": "85c8f48ad40b49cd8d41c075982f4410",
        "deepnote_app_block_visible": true,
        "deepnote_cell_height": 543.15625,
        "deepnote_cell_type": "markdown",
        "nbsimplegrader": {
          "config_key": "markdown.view-only",
          "editable": false,
          "label": "Markdown: View-Only",
          "respondable": false,
          "response": null,
          "runnable": false,
          "type": "markdown"
        }
      },
      "source": "5.2 - Let’s think about our “whole thing” diagram. If we create a bunch of histograms from shuffled data, where would we put that in this diagram? Is it empirical data or simulated data?\n\n<img src=\"https://coursekata-course-assets.s3.us-west-1.amazonaws.com/UCLATALL/czi-stats-course/jnb_4c_dist_triad.jpg\" title=\"The Distribution Triad\" />"
    },
    {
      "cell_type": "markdown",
      "metadata": {
        "cell_id": "a84c031828b34370bf237b3531311c84",
        "deepnote_app_block_visible": true,
        "deepnote_cell_height": 74.796875,
        "deepnote_cell_type": "markdown",
        "nbsimplegrader": {
          "config_key": "markdown.view-only",
          "editable": false,
          "label": "Markdown: View-Only",
          "respondable": false,
          "response": null,
          "runnable": false,
          "type": "markdown"
        }
      },
      "source": "5.3 - If the likelihood of getting a sample like the empirical sample from a random process is low, which theory of the DGP would that rule out? Which theory would it support? "
    },
    {
      "cell_type": "markdown",
      "metadata": {
        "cell_id": "bcf862c7ffca46ceba85ce1e3af5efde",
        "deepnote_app_block_visible": true,
        "deepnote_cell_height": 119.59375,
        "deepnote_cell_type": "markdown",
        "nbsimplegrader": {
          "config_key": "markdown.view-only",
          "editable": false,
          "label": "Markdown: View-Only",
          "respondable": false,
          "response": null,
          "runnable": false,
          "type": "markdown"
        }
      },
      "source": "5.4 - What are your overall conclusions when it comes to launching distance? Which model seems better: the one that takes `LiftCategory` into account (`Dist_cm` = `LiftCategory` + Other Stuff) OR the one that leaves `LiftCategory` out (`Dist_cm` = Other Stuff)? Does that mean `LiftCategory` helps us be perfectly accurate in predicting launching distance? Why or why not?"
    },
    {
      "cell_type": "markdown",
      "metadata": {
        "cell_id": "a53c996db8524c7e8c41d8f7825adfec",
        "deepnote_app_block_visible": true,
        "deepnote_cell_height": 70,
        "deepnote_cell_type": "markdown",
        "nbsimplegrader": {
          "config_key": "markdown.view-only",
          "editable": false,
          "label": "Markdown: View-Only",
          "respondable": false,
          "response": null,
          "runnable": false,
          "type": "markdown"
        }
      },
      "source": "## 6.0 - Reflect and Connect"
    },
    {
      "cell_type": "markdown",
      "metadata": {
        "cell_id": "b22ca3751ba8438e89ecc95f368ccf3e",
        "deepnote_app_block_visible": true,
        "deepnote_cell_height": 52.390625,
        "deepnote_cell_type": "markdown",
        "nbsimplegrader": {
          "config_key": "markdown.view-only",
          "editable": false,
          "label": "Markdown: View-Only",
          "respondable": false,
          "response": null,
          "runnable": false,
          "type": "markdown"
        }
      },
      "source": "6.1 - In your own words, what do you think it means for a variable to “explain variation” in an outcome?"
    },
    {
      "cell_type": "markdown",
      "metadata": {
        "cell_id": "aed122f3db364611b7c4b985cf6103fe",
        "deepnote_app_block_visible": true,
        "deepnote_cell_height": 74.796875,
        "deepnote_cell_type": "markdown",
        "nbsimplegrader": {
          "config_key": "markdown.view-only",
          "editable": false,
          "label": "Markdown: View-Only",
          "respondable": false,
          "response": null,
          "runnable": false,
          "type": "markdown"
        }
      },
      "source": "6.2  - Compare and contrast today’s example to the Westvaco “whole thing” exercise. What was similar? What was different?"
    }
  ],
  "metadata": {
    "deepnote_app_layout": "powerful-article",
    "deepnote_app_reactivity_enabled": true,
    "deepnote_notebook_id": "e25403bfe9f341c7a9d3ee56f87b71ba",
    "kernelspec": {
      "display_name": "R",
      "language": "R",
      "name": "ir"
    },
    "language_info": {
      "codemirror_mode": "r",
      "file_extension": ".r",
      "mimetype": "text/x-r-source",
      "name": "R",
      "pygments_lexer": "r",
      "version": "4.3.3"
    },
    "nbsimplegrader": {
      "publish_config": {
        "classes": [],
        "options": [],
        "tools": []
      }
    }
  },
  "nbformat": 4,
  "nbformat_minor": 1
}