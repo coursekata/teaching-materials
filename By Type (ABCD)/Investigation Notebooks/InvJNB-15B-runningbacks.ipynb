{
  "cells": [
    {
      "cell_type": "markdown",
      "metadata": {
        "cell_id": "21c01ee970f944448a6e2d6342e53e14",
        "deepnote_cell_type": "markdown",
        "tags": []
      },
      "source": "# 15B: Does it pay to run in football?"
    },
    {
      "cell_type": "code",
      "execution_count": null,
      "metadata": {
        "cell_id": "1fc828725f4f4f2a801f6e872f520390",
        "deepnote_cell_type": "code",
        "deepnote_to_be_reexecuted": false,
        "execution_millis": 6637,
        "execution_start": 1685835832307,
        "output_cleared": false,
        "source_hash": "f2661a2",
        "tags": [],
        "trusted": true
      },
      "outputs": [],
      "source": "# This code will load the R packages we will use\nsuppressPackageStartupMessages({\n    library(coursekata)\n})\n\nnfl_salary <- read.csv(\"https://docs.google.com/spreadsheets/d/e/2PACX-1vQ6ZcO9y6f23HWKRUe8IKlYFUFhDw5trtNlyJJj7bI7aKVstNJJcsi_bwuEsb-vSPUwUz0diRa_JOKL/pub?gid=1297158575&single=true&output=csv\")[,-1]\n"
    },
    {
      "cell_type": "markdown",
      "metadata": {
        "cell_id": "e4f8448de46a4189871090cdc3700f27",
        "deepnote_cell_type": "markdown",
        "deepnote_to_be_reexecuted": false,
        "execution_millis": 4,
        "execution_start": 1674841699980,
        "source_hash": "b623e53d",
        "tags": []
      },
      "source": "## About the Data\n\nThe dataset `nfl_salary` contains data from [Spotrac.com](Spotrac.com) and used by [fivethirtyeight](https://fivethirtyeight.com/features/running-backs-are-finally-getting-paid-what-theyre-worth/). Each row represents a particular position in American football in a particular year. \n\n- `year` Ranges from 2011-18.\n- `salary` The average salary for the 16 highest-paid players in each position that year.\n- `position` The NFL position: \n    - QB = Quarterback\n    - RB = Running Back\n    - S = Safety\n    - ST = Special Teamer \n    - TE = Tight End \n    - WR = Wide Receiver \n    - CB = Cornerback \n    - DL = Defensive Lineman, \n    - LB = Linebacker\n    - OL = Offensive Lineman"
    },
    {
      "cell_type": "markdown",
      "metadata": {
        "cell_id": "40c44e055c0f4cabae2d8dc126362cc4",
        "deepnote_cell_type": "markdown",
        "tags": []
      },
      "source": "## 1.0 - Explore Variation"
    },
    {
      "cell_type": "markdown",
      "metadata": {
        "cell_id": "919b425bf6d04f0a9622018f7be876af",
        "deepnote_cell_type": "markdown",
        "tags": []
      },
      "source": "1.1 - First, take a moment to explore the data frame (look at whatever you are curious about!). "
    },
    {
      "cell_type": "markdown",
      "metadata": {
        "cell_id": "f5e7102955474a7588eacfc6126c52b3",
        "deepnote_cell_type": "markdown",
        "tags": []
      },
      "source": "1.2 - Does the salary of the highest paid players vary by year? Does it vary by position? Write a word equation that proposes that salaries vary by both year and position."
    },
    {
      "cell_type": "markdown",
      "metadata": {
        "cell_id": "51a51e2240634284a1956a322a4f4602",
        "deepnote_cell_type": "markdown"
      },
      "source": "1.3 - Make a visualization to explore your hypothesis."
    },
    {
      "cell_type": "markdown",
      "metadata": {
        "cell_id": "3e91a4b0172f4cb1abb20364d497aa9c",
        "deepnote_cell_type": "markdown",
        "tags": []
      },
      "source": "## 2.0 - Running Backs versus Quarterbacks"
    },
    {
      "cell_type": "markdown",
      "metadata": {
        "cell_id": "9fdac449a0ec42048438c2b7467ed805",
        "deepnote_cell_type": "markdown"
      },
      "source": "2.1 - To simplify our models a bit, let's zoom in on running backs and quarterbacks. Create a data set with data only for running backs and quarterbacks. \n\nRe-make your visualization with your new smaller data set."
    },
    {
      "cell_type": "markdown",
      "metadata": {
        "cell_id": "d0eaa363b98946e9b3117e79d092a089",
        "deepnote_cell_type": "markdown"
      },
      "source": "2.2 - Which do you think will be a better model for this data: additive or interaction? Why?"
    },
    {
      "cell_type": "markdown",
      "metadata": {
        "cell_id": "1e7bee446c4648228486a9f18e281dc3",
        "deepnote_cell_type": "markdown"
      },
      "source": "## 3.0 - Model Data"
    },
    {
      "cell_type": "markdown",
      "metadata": {
        "cell_id": "5fd3e4f6a48543fcbb25c1bdf4cb14d5",
        "deepnote_cell_type": "markdown",
        "tags": []
      },
      "source": "3.1 - Fit the model that would be a better fit for this data. Add it to your visualization. "
    },
    {
      "cell_type": "markdown",
      "metadata": {
        "cell_id": "2234021642dd48879da46480812c252a",
        "deepnote_cell_type": "markdown",
        "tags": []
      },
      "source": "3.2a - Express the best fitting model in GLM notation."
    },
    {
      "cell_type": "markdown",
      "metadata": {
        "cell_id": "ceb1103a5c62438483d971e5ea487f66",
        "deepnote_cell_type": "markdown"
      },
      "source": "3.2b - Take that equation and parse it into two separate equations, one representing the model for QB salaries and the other representing the model for RB salaries."
    },
    {
      "cell_type": "markdown",
      "metadata": {
        "cell_id": "7c73b352bd2e40dab847821a916c4d2d",
        "deepnote_cell_type": "markdown"
      },
      "source": "3.3 - Interpret the slope for the model of RB salaries. What does it mean? "
    },
    {
      "cell_type": "markdown",
      "metadata": {
        "cell_id": "4a947eb3903f41be9d50cd0faa72d112",
        "deepnote_cell_type": "markdown",
        "tags": []
      },
      "source": "## 4.0 - Is the interaction model better?"
    },
    {
      "cell_type": "markdown",
      "metadata": {
        "cell_id": "c567e6bef0934b308890948cc4dfb768",
        "deepnote_cell_type": "markdown"
      },
      "source": "In the visualization below, you can view either the interaction model (in black) or the additive model (in red). In this section, we're going to try and answer: **how much better is the interaction model than the additive model at explaining variation in salary?**"
    },
    {
      "cell_type": "markdown",
      "metadata": {
        "cell_id": "e19c45562dc947f681c27e442d1530a4",
        "deepnote_cell_type": "markdown"
      },
      "source": "4.1 - Generate an ANOVA table to help us evaluate the interaction model against the additive model."
    },
    {
      "cell_type": "markdown",
      "metadata": {
        "cell_id": "372add63a0f443078e130687c9e335e1",
        "deepnote_cell_type": "markdown"
      },
      "source": "4.2 - How much more error is explained by adding the interaction term ($year_i*positionRB_i$) to the additive model?"
    },
    {
      "cell_type": "markdown",
      "metadata": {
        "cell_id": "0a6e87608d584b1cac197cb2683c369a",
        "deepnote_cell_type": "markdown"
      },
      "source": "4.3 - The PREs for the whole interaction model is .78 and the PRE for the additive model is .67. The difference between these two numbers is not .34. Why not?"
    },
    {
      "cell_type": "markdown",
      "metadata": {
        "cell_id": "9028ee14855b4bd498d653e499112957",
        "deepnote_cell_type": "markdown"
      },
      "source": "4.4 - Going beyond the data now, why are running backs salaries changing in a way that is **so different** from quarterback salaries? "
    },
    {
      "cell_type": "markdown",
      "metadata": {
        "cell_id": "c734b8f96dbd4f68ab924a0a2df663f2",
        "deepnote_cell_type": "markdown",
        "tags": []
      },
      "source": "## 5.0, Bonus - Why is there a negative b0?"
    },
    {
      "cell_type": "markdown",
      "metadata": {
        "cell_id": "82ac99bcc62e4944b03710d537cb367d",
        "deepnote_cell_type": "markdown"
      },
      "source": "Let's examine the two lines that represent the interaction model again:\n\nQB: $salary_i = -3556.414 + 1.774year_i$\nRB: $salary_i = 276.151 + -0.134year_i$\n\n5.1 - Why is the $b_0$ for quarterback salary negative?"
    },
    {
      "cell_type": "markdown",
      "metadata": {
        "cell_id": "c1e2feac56bf4874a90a26fb2f3631e6",
        "deepnote_cell_type": "markdown"
      },
      "source": "5.2 - To make the parameter estimates more interpretable, what can we do? (see pages 9.5 and 9.6)."
    }
  ],
  "metadata": {
    "deepnote_notebook_id": "5d42a80c9be546acbfa9dbd4db7b0bee",
    "kernelspec": {
      "display_name": "R",
      "language": "R",
      "name": "ir"
    },
    "language_info": {
      "codemirror_mode": "r",
      "file_extension": ".r",
      "mimetype": "text/x-r-source",
      "name": "R",
      "pygments_lexer": "r",
      "version": "4.3.3"
    },
    "nbsimplegrader": {
      "publish_config": {
        "classes": [],
        "options": [],
        "tools": []
      }
    }
  },
  "nbformat": 4,
  "nbformat_minor": 1
}