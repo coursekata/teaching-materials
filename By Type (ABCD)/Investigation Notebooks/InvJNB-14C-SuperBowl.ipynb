{
  "cells": [
    {
      "cell_type": "markdown",
      "metadata": {
        "cell_id": "bb6c4495bf5042e68095ceb5d82fa9ee",
        "deepnote_cell_type": "markdown",
        "tags": []
      },
      "source": "# 14C: Super Bowl Ads"
    },
    {
      "cell_type": "code",
      "execution_count": null,
      "metadata": {
        "cell_id": "d1ecfeb7e06e4d25abdb8752a97a35f8",
        "deepnote_cell_type": "code",
        "deepnote_to_be_reexecuted": false,
        "execution_context_id": "84425744-3fcc-4c80-be81-c024b5bfb995",
        "execution_millis": 1331,
        "execution_start": 1745002954297,
        "output_cleared": false,
        "source_hash": "847f8a22",
        "tags": [],
        "trusted": true
      },
      "outputs": [],
      "source": "# Load the CourseKata library\nlibrary(coursekata)\n\n# Adjust scientific notation\noptions(scipen = 10)\n\n# Read data set\nads <- read.csv(\"https://raw.githubusercontent.com/rfordatascience/tidytuesday/master/data/2021/2021-03-02/youtube.csv\")"
    },
    {
      "cell_type": "markdown",
      "metadata": {
        "cell_id": "8ded03c23db24ce9b321687915900a9d",
        "deepnote_cell_type": "markdown",
        "tags": []
      },
      "source": "## Introduction\n\nBrands will pay millions of dollars to have a 30-second commercial air during the Super Bowl because they know they will have tens of millions of people watching.\n\n**What makes an impactful Super Bowl commercial? If you only had 30-60 seconds to broadcast your brand to the public, what kinds of ad have the greatest impact?**\n\nToday, you will get the chance to analyze some Super Bowl commercials and develop your own theories on what factors have the biggest impact on how people engage with these commercials.\n\n<img src=\"https://coursekata-course-assets.s3.us-west-1.amazonaws.com/UCLATALL/czi-stats-course/jnb_Vm03hJpg-xcd-08c-superbowl.png\" alt=\"collage of images from super bowl ads depicted in a television set\" width = 50%>"
    },
    {
      "cell_type": "markdown",
      "metadata": {
        "cell_id": "e4d5a9fc0872401ab6672d46a9356926",
        "deepnote_cell_type": "markdown",
        "tags": []
      },
      "source": "## The Data\n\nThis data frame comes from [FiveThirtyEight](https://fivethirtyeight.com/). They watched over 200 ads from the 10 brands that aired the most spots in all 21 Super Bowls this century, according to superbowl-ads.com. They evaluated ads using the specific criteria listed below.\n\n**Description of Variables**\n\n- `year` Superbowl year\n- `brand` Brand for commercial\n- `superbowl_ads_dot_com_url` Superbowl ad URL\n- `youtube_url` Youtube URL\n- `funny` Contains humor\n- `show_product_quickly` Shows product quickly\n- `patriotic` Patriotic\n- `celebrity` Contains celebrity\n- `danger` Contains danger\n- `animals` Contains animals\n- `use_sex`\tUses sexuality\n- `id` Youtube ID\n- `kind` Youtube Kind\n- `etag` Youtube etag\n- `view_count` Youtube view count\n- `like_count` Youtube like count\n- `dislike_count` Youtube dislike count\n- `favorite_count` Youtube favorite count\n- `comment_count` Youtube comment count\n- `published_at` Youtube when published\n- `title` Youtube title\n- `description` Youtube description\n- `thumbnail` Youtube thumbnail\n- `channel_title` Youtube channel name\n- `category_id` Youtube content category id\n\n\n**Data Sources** \n\n- [Tidy Tuesday](https://github.com/rfordatascience/tidytuesday/blob/master/data/2021/2021-03-02/readme.md)\n\n- Here is a link to their [article](https://projects.fivethirtyeight.com/super-bowl-ads/) on the topic, where you can also watch the commercials, and see their analyes."
    },
    {
      "cell_type": "markdown",
      "metadata": {
        "cell_id": "0a3cf46e4e9046608eb82731dd10766a",
        "deepnote_cell_type": "markdown",
        "tags": []
      },
      "source": "## 1.0: Explore Variation"
    },
    {
      "cell_type": "markdown",
      "metadata": {
        "cell_id": "8321f5278e4a4b0ebccdae0528814c5e",
        "deepnote_cell_type": "markdown"
      },
      "source": "**1.1:** Take a look at the data frame called `ads`. What is a good outcome variable to explore?"
    },
    {
      "cell_type": "markdown",
      "metadata": {
        "cell_id": "16645d5aa6b646f588b6089fd9c368ea",
        "deepnote_cell_type": "markdown",
        "tags": []
      },
      "source": "**1.2:** What are some explanatory variables that would help explain variation in that outcome? Why are those interesting?\n\nWrite your multivariate idea as a word equation."
    },
    {
      "cell_type": "markdown",
      "metadata": {
        "cell_id": "e5ea781f6d6a47b288a848827c0cf652",
        "deepnote_cell_type": "markdown"
      },
      "source": "**1.3:** Create a data visualization of your word equation. Describe whether you see the pattern you thought you might see."
    },
    {
      "cell_type": "markdown",
      "metadata": {
        "cell_id": "0b189a242ab045c9b0b3578c6ed4aa5a",
        "deepnote_cell_type": "markdown"
      },
      "source": "## 2.0: Model Variation"
    },
    {
      "cell_type": "markdown",
      "metadata": {
        "cell_id": "9bf37eb768524e479df3abd25b856173",
        "deepnote_cell_type": "markdown"
      },
      "source": "**2.1:** Create the best-fitting model (or models), expressed in GLM notation, to represent your research question/word equation. Overlay it onto your data.\n"
    },
    {
      "cell_type": "markdown",
      "metadata": {
        "cell_id": "d2d078b0a0c04a6383c34baaad8f18a8",
        "deepnote_cell_type": "markdown"
      },
      "source": "**2.2:** How well does your model fit the data?"
    },
    {
      "cell_type": "markdown",
      "metadata": {
        "cell_id": "cd2c6e96664a4768a5ff0b4925b8e933",
        "deepnote_cell_type": "markdown"
      },
      "source": "**2.3:** Draw the venn diagrams of the PRE with the handout provided by your instructor."
    },
    {
      "cell_type": "markdown",
      "metadata": {
        "cell_id": "a0647e430d8f4f5594b2fdc93ff04329",
        "deepnote_cell_type": "markdown"
      },
      "source": "## 3.0: Evaluate Models"
    },
    {
      "cell_type": "markdown",
      "metadata": {
        "cell_id": "79891c9ed9c447adaf1c04fb33f8202e",
        "deepnote_cell_type": "markdown"
      },
      "source": "**3.1:** Compare your multivariate model against the empty model? Which is a better model of the DGP and why?"
    },
    {
      "cell_type": "markdown",
      "metadata": {
        "cell_id": "fe5f80d04aea421583db8e1eff7dfb84",
        "deepnote_cell_type": "markdown"
      },
      "source": "**3.2:** If your multivariate model is better than the empty model, then compare your multivariate model against all possible single-predictor models? Which is a better model of the DGP and why?"
    },
    {
      "cell_type": "markdown",
      "metadata": {
        "cell_id": "9ba2b828fb154b658aee73f10c04a295",
        "deepnote_cell_type": "markdown"
      },
      "source": "**3.3:** What has your class learned about SuperBowl ads?"
    }
  ],
  "metadata": {
    "deepnote_notebook_id": "1c36a24572bd41d7a30cbef0cbc3906e",
    "kernelspec": {
      "display_name": "R",
      "language": "R",
      "name": "ir"
    },
    "language_info": {
      "codemirror_mode": "r",
      "file_extension": ".r",
      "mimetype": "text/x-r-source",
      "name": "R",
      "pygments_lexer": "r",
      "version": "4.3.3"
    },
    "nbsimplegrader": {
      "publish_config": {
        "classes": [],
        "options": [],
        "tools": []
      }
    }
  },
  "nbformat": 4,
  "nbformat_minor": 1
}