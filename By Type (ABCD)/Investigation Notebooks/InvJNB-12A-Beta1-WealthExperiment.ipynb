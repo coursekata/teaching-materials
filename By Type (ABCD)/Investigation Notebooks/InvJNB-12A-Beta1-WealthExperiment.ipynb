{
  "cells": [
    {
      "cell_type": "markdown",
      "metadata": {
        "cell_id": "9a9088d346f348c4998ea1a4d8440365",
        "deepnote_cell_type": "markdown",
        "nbsimplegrader": {
          "config_key": "markdown.view-only",
          "editable": false,
          "label": "Markdown: View-Only",
          "respondable": false,
          "response": null,
          "runnable": false,
          "type": "markdown"
        },
        "output_cleared": false
      },
      "source": "# 12A: Does feeling rich make you act like a jerk?\n\n"
    },
    {
      "cell_type": "code",
      "execution_count": null,
      "metadata": {
        "cell_id": "59efd4a9c5a74f6bb16f075fdcec191d",
        "deepnote_cell_height": 258.90625,
        "deepnote_cell_type": "code",
        "deepnote_to_be_reexecuted": false,
        "execution_millis": 5462,
        "execution_start": 1667526894147,
        "nbsimplegrader": {
          "config_key": "code.run-only",
          "editable": false,
          "label": "Code: Run-Only",
          "respondable": false,
          "response": null,
          "runnable": true,
          "type": "code"
        },
        "output_cleared": false,
        "source_hash": "72e3dd50",
        "trusted": true
      },
      "outputs": [],
      "source": "# Load the CourseKata library\nsuppressPackageStartupMessages({\n    library(coursekata)\n})\n\nwealth_exp <- read.csv(\"https://docs.google.com/spreadsheets/d/e/2PACX-1vQpi4lozw4HVukSQqVnZ3PXTNnopxjd5MOUqQsAb2xq5k9SEVJRE5-38cZhYO-hG56PAJ1aBU4E0Ea3/pub?gid=1003006004&single=true&output=csv\", header = TRUE)\nwealth_exp$relative_class <- factor(wealth_exp$relative_class)"
    },
    {
      "cell_type": "markdown",
      "metadata": {
        "cell_id": "93b99979ae1740a6891e467c08a6d275",
        "deepnote_cell_height": 568.34375,
        "deepnote_cell_type": "markdown",
        "output_cleared": false,
        "tags": []
      },
      "source": "UCI Professor Paul Piff and his colleagues conducted an experiment (Experiment 4 in [this paper](https://www.pnas.org/content/109/11/4086)). He recruited male and female college students who were 18-22 years old. He randomly assigned participants to **feel** like they were higher or lower in class. \n\n<img src=\"https://coursekata-course-assets.s3.us-west-1.amazonaws.com/UCLATALL/czi-stats-course/jnb_vb6kMgvX-10-A-Mindset-Priming.png\" title=\"method of random assignment\" />\n\nAfter this priming phase, participants were asked to:\n\n1. Rank themselves on a social hierarchy\n2. Fill out a questionnaire measuring unethical decision-making tendencies\n3. Finally, participants were thanked and a jar of candies was presented (they were told the candies were for children) and the number of candies that the participants took was recorded. "
    },
    {
      "cell_type": "markdown",
      "metadata": {
        "cell_id": "1540ecb8a11b4c4fa583cac66165a8d2",
        "deepnote_cell_height": 69.96875,
        "deepnote_cell_type": "markdown",
        "output_cleared": false,
        "tags": []
      },
      "source": "## 1.0 - The Data"
    },
    {
      "cell_type": "markdown",
      "metadata": {
        "cell_id": "989b000226774b09b3451137c5e3ebe4",
        "deepnote_cell_height": 74.75,
        "deepnote_cell_type": "markdown",
        "output_cleared": false,
        "tags": []
      },
      "source": "1.1 - Take a look at the data (already preloaded as `wealth_exp` for wealth experiment). Any questions about the variables or what they mean?"
    },
    {
      "cell_type": "markdown",
      "metadata": {
        "cell_id": "e66fa40f62a445ca8d8ff9522fb200cb",
        "deepnote_cell_height": 74.75,
        "deepnote_cell_type": "markdown",
        "output_cleared": false,
        "tags": []
      },
      "source": "1.2 - Professor Piff predicted that making people feel like they were high class would affect their candy taking. Write this hypothesis as a word equation."
    },
    {
      "cell_type": "markdown",
      "metadata": {
        "cell_id": "6877412bf42b4c87a724ed179afe9dad",
        "deepnote_cell_height": 69.96875,
        "deepnote_cell_type": "markdown",
        "output_cleared": false,
        "tags": []
      },
      "source": "## 2.0 - Explore Variation"
    },
    {
      "cell_type": "markdown",
      "metadata": {
        "cell_id": "d729b14824d5480bb0030c1a5da4c16f",
        "deepnote_cell_height": 74.75,
        "deepnote_cell_type": "markdown",
        "output_cleared": false,
        "tags": []
      },
      "source": "2.1 - Explore this hypothesis with a visualization. What do you think of this hypothesis from the data that you see?"
    },
    {
      "cell_type": "markdown",
      "metadata": {
        "cell_id": "0701c1d2e32e449fb8cc6ddbb3d03aa8",
        "deepnote_cell_height": 97.140625,
        "deepnote_cell_type": "markdown",
        "output_cleared": false,
        "tags": []
      },
      "source": "2.2 - Could we have gotten data that looks like this if there wasn't really a difference in candy-taking in the Data Generating Process? How would we represent this DGP as a word equation? (Could we try it in R somehow?)"
    },
    {
      "cell_type": "markdown",
      "metadata": {
        "cell_id": "f6fab65bba9d4c48907c9e2b2d3dcc8a",
        "deepnote_cell_height": 69.96875,
        "deepnote_cell_type": "markdown",
        "output_cleared": false,
        "tags": []
      },
      "source": "## 3.0 - Model Variation"
    },
    {
      "cell_type": "markdown",
      "metadata": {
        "cell_id": "d6551498158e4d8191f292c694b0b1ce",
        "deepnote_cell_height": 111.34375,
        "deepnote_cell_type": "markdown",
        "output_cleared": false,
        "tags": []
      },
      "source": "3.1 - What's the best fitting model of this hypothesis? Specify and fit a formal model (in GLM format). \n\n$$Y_i = ... + e_i$$"
    },
    {
      "cell_type": "markdown",
      "metadata": {
        "cell_id": "97c081b751e94f49843861a3aab84e9c",
        "deepnote_cell_height": 52.359375,
        "deepnote_cell_type": "markdown",
        "output_cleared": false,
        "tags": []
      },
      "source": "3.2 - Interpret the best fitting estimates in your model  by connecting it to the visualization below."
    },
    {
      "cell_type": "code",
      "execution_count": null,
      "metadata": {
        "cell_id": "b831d1e481724096a5e509e35d9b6465",
        "deepnote_cell_height": 558.96875,
        "deepnote_cell_type": "code",
        "deepnote_output_heights": [
          444.015625
        ],
        "deepnote_to_be_reexecuted": false,
        "execution_millis": 260,
        "execution_start": 1667527060407,
        "output_cleared": false,
        "source_hash": "d89132a1",
        "tags": [],
        "trusted": true
      },
      "outputs": [],
      "source": "gf_jitter(candies ~ relative_class, data = wealth_exp, width = .1, height = .3, size = 3, alpha = .5) %>%\n    gf_model(candies ~ relative_class, data = wealth_exp)"
    },
    {
      "cell_type": "markdown",
      "metadata": {
        "cell_id": "bc878fd5d31b4ef88cee99d797d014cc",
        "deepnote_cell_height": 52.359375,
        "deepnote_cell_type": "markdown",
        "output_cleared": false,
        "tags": []
      },
      "source": "3.3 - Is your model better than the empty model? How much better?"
    },
    {
      "cell_type": "markdown",
      "metadata": {
        "cell_id": "b60b19b1f84242b2a224adcf849a6289",
        "deepnote_cell_height": 69.96875,
        "deepnote_cell_type": "markdown",
        "output_cleared": false,
        "tags": []
      },
      "source": "## 4.0 - Estimating the DGP"
    },
    {
      "cell_type": "markdown",
      "metadata": {
        "cell_id": "c6469f8bf7cd4607afc632961e929b87",
        "deepnote_cell_height": 111.34375,
        "deepnote_cell_type": "markdown",
        "output_cleared": false,
        "tags": []
      },
      "source": "4.1 - Is it possible that there is no difference between these two groups in the DGP? If so, how would we represent that in GLM format?\n\n$$Y_i = \\beta_0 + \\beta_1 X_i + \\epsilon_i$$"
    },
    {
      "cell_type": "markdown",
      "metadata": {
        "cell_id": "5d00e74f7cb34637889b4720952923b7",
        "deepnote_cell_height": 88.953125,
        "deepnote_cell_type": "markdown",
        "output_cleared": false,
        "tags": []
      },
      "source": "4.2 - What is the best point estimate of the DGP from this data? \n\n$$Y_i = \\beta_0 + \\beta_1 X_i + \\epsilon_i$$\n"
    },
    {
      "cell_type": "markdown",
      "metadata": {
        "cell_id": "6de981e787ee4bb6a796b23093a6afc5",
        "deepnote_cell_height": 52.5625,
        "deepnote_cell_type": "markdown",
        "output_cleared": false,
        "tags": []
      },
      "source": "4.3 - Could the $\\beta_1$ in the DGP be a different number than the number above? What else could it be? "
    },
    {
      "cell_type": "markdown",
      "metadata": {
        "cell_id": "f979a121efd945ce824f6d36b0282c2e",
        "deepnote_cell_height": 69.96875,
        "deepnote_cell_type": "markdown",
        "output_cleared": false,
        "tags": []
      },
      "source": "## 5.0 - Imagining Some Different DGPs"
    },
    {
      "cell_type": "markdown",
      "metadata": {
        "cell_id": "2a1d3218ba014ca9b6b76d0e10e9ab77",
        "deepnote_cell_height": 170.34375,
        "deepnote_cell_type": "markdown",
        "output_cleared": false,
        "tags": []
      },
      "source": "Here we will actually simulate creating samples from an imaginary DGP. Would that DGP be able to produce our sample? Would our sample be considered one of the \"unlikely\" samples from this DGP?\n\nIn previous chapters, we focused on `shuffle()` as a random DGP (where $\\beta_1 = 0$). \n\nNow we will shift to thinking about a slightly different DGP: bootstrapping using the function `resample()`. This DGP assumes the DGP is just like our sample so the $\\beta_1 = b_1$."
    },
    {
      "cell_type": "markdown",
      "metadata": {
        "cell_id": "0bf996c549a34cd2a8fdad6c4c030771",
        "deepnote_cell_height": 74.75,
        "deepnote_cell_type": "markdown",
        "output_cleared": false,
        "tags": []
      },
      "source": "5.1 - Run the code below a few times. Why does only one of the numbers change. Interpret the two numbers the code produces."
    },
    {
      "cell_type": "code",
      "execution_count": null,
      "metadata": {
        "cell_id": "f9f4ec8506764807b58d77038c8fc647",
        "deepnote_cell_height": 217.3125,
        "deepnote_cell_type": "code",
        "deepnote_output_heights": [
          20.1875,
          20.1875
        ],
        "deepnote_to_be_reexecuted": false,
        "execution_millis": 35,
        "execution_start": 1667527163614,
        "output_cleared": false,
        "source_hash": "f5ae1dba",
        "tags": [],
        "trusted": true
      },
      "outputs": [],
      "source": "sample_b1 <- b1(candies ~ relative_class, data = wealth_exp)\nsample_b1\n\nb1(candies ~ relative_class, data = resample(wealth_exp))"
    },
    {
      "cell_type": "markdown",
      "metadata": {
        "cell_id": "8f008cf45767435a91ca1f7348497ba3",
        "deepnote_cell_height": 111.34375,
        "deepnote_cell_type": "markdown",
        "output_cleared": false,
        "tags": []
      },
      "source": "5.2 - In the code below, what is the model of the DGP we are simulating? (Represent that DGP using GLM notation we've put here for you.)\n\n$$Y_i = \\beta_0 + \\beta_1 X_i + \\epsilon_i$$"
    },
    {
      "cell_type": "code",
      "execution_count": null,
      "metadata": {
        "cell_id": "6b4e670d2ec34313b5b9e86a7be37416",
        "deepnote_cell_height": 75.953125,
        "deepnote_cell_type": "code",
        "deepnote_to_be_reexecuted": false,
        "execution_millis": 998,
        "execution_start": 1667527178075,
        "output_cleared": true,
        "source_hash": "dcfeaaae",
        "tags": [],
        "trusted": true
      },
      "outputs": [],
      "source": "sdob1 <- do(1000) * b1(candies ~ relative_class, data = resample(wealth_exp))"
    },
    {
      "cell_type": "markdown",
      "metadata": {
        "cell_id": "7ae81a9477d8465aad944752b1ee6477",
        "deepnote_cell_height": 111.140625,
        "deepnote_cell_type": "markdown",
        "output_cleared": false,
        "tags": []
      },
      "source": "5.3 - Where will our sample b1 (`sample_b1`) be in the resulting sampling distribution of b1s? Would it be considered a \"likely\" sample from this DGP?\n\nWrite your prediction -- then run the code below."
    },
    {
      "cell_type": "code",
      "execution_count": null,
      "metadata": {
        "cell_id": "996a91264acb4118abc42dcc70c14b8b",
        "deepnote_cell_height": 93.953125,
        "deepnote_cell_type": "code",
        "deepnote_to_be_reexecuted": true,
        "execution_millis": 1,
        "execution_start": 1644297561707,
        "output_cleared": true,
        "source_hash": "f2667d3f",
        "tags": [],
        "trusted": true
      },
      "outputs": [],
      "source": "#gf_histogram(~ b1, data = sdob1, binwidth = .025, fill = ~middle(b1, .95)) %>%\n#gf_point(0 ~ sample_b1, color = \"black\", size = 2, show.legend = FALSE)"
    },
    {
      "cell_type": "markdown",
      "metadata": {
        "cell_id": "44bf8fed00d545c790db5cc6f4e1615d",
        "deepnote_cell_height": 74.75,
        "deepnote_cell_type": "markdown",
        "output_cleared": false,
        "tags": []
      },
      "source": "5.4 - Let's slide around some sampling distributions in the distribution triad diagram to explore these ideas (your instructor will share the slideshow with you)."
    },
    {
      "cell_type": "markdown",
      "metadata": {
        "cell_id": "9d17d578ea0443258ba7eb1f237f7121",
        "deepnote_cell_height": 69.96875,
        "deepnote_cell_type": "markdown",
        "output_cleared": false,
        "tags": []
      },
      "source": "## 6.0 - Other DGPs!"
    },
    {
      "cell_type": "markdown",
      "metadata": {
        "cell_id": "a92f64e670184f1795256be3176e2657",
        "deepnote_cell_height": 170.140625,
        "deepnote_cell_type": "markdown",
        "output_cleared": false,
        "tags": []
      },
      "source": "6.1 - Once we have one sampling distribution, we can slide it around to mimic other DGPs! For \nexample, we can mimic:\n\n$$Y_i = \\beta_0 + 0 X_i + \\epsilon_i$$\n\nWhat does the code below do? In the slideshow, \"move the sampling distribution\" to mimic the code below."
    },
    {
      "cell_type": "code",
      "execution_count": null,
      "metadata": {
        "cell_id": "3a1a46b74a94437e85c65cb5ab623bac",
        "deepnote_cell_height": 75.953125,
        "deepnote_cell_type": "code",
        "deepnote_to_be_reexecuted": true,
        "execution_millis": 10,
        "execution_start": 1644296367419,
        "output_cleared": true,
        "source_hash": "6900df08",
        "tags": [],
        "trusted": true
      },
      "outputs": [],
      "source": "sdob1$b1_no_effect <- sdob1$b1 - sample_b1"
    },
    {
      "cell_type": "code",
      "execution_count": null,
      "metadata": {
        "cell_id": "6225407b8c4b469c931f708f79322f5b",
        "deepnote_cell_height": 607.96875,
        "deepnote_cell_type": "code",
        "deepnote_output_heights": [
          444.015625
        ],
        "deepnote_to_be_reexecuted": false,
        "execution_millis": 1125,
        "execution_start": 1667527246371,
        "output_cleared": false,
        "source_hash": "87cb3d70",
        "tags": [],
        "trusted": true
      },
      "outputs": [],
      "source": "# Edit this code to depict a sampling distribution of b1 from a DGP\n# where there is no effect of feeling higher class\n# (make sure to change the fill too!)\ngf_histogram(~ b1, data = sdob1, binwidth = .025, fill = ~middle(b1, .95)) %>%\n    gf_point(0 ~ sample_b1, color = \"black\", size = 2, show.legend = FALSE)"
    },
    {
      "cell_type": "markdown",
      "metadata": {
        "cell_id": "d61b3e038f4246c69502670f4d0d433e",
        "deepnote_cell_height": 147.734375,
        "deepnote_cell_type": "markdown",
        "output_cleared": false,
        "tags": []
      },
      "source": "6.2 - What DGP would you like to mimic? Write it down here:\n\n$$Y_i = \\beta_0 + ? X_i + \\epsilon_i$$\n\nDepict this DGP in the google slides diagram by moving the sampling distribution of b1s (SDob1) around. Is the sample going to be one of the \"unlikely\" samples from this DGP?"
    },
    {
      "cell_type": "code",
      "execution_count": null,
      "metadata": {
        "cell_id": "32cac551a7a947a7bcbcd1f0bfa5eeba",
        "deepnote_cell_height": 253.359375,
        "deepnote_cell_type": "code",
        "deepnote_to_be_reexecuted": false,
        "execution_millis": 8,
        "execution_start": 1667527264245,
        "output_cleared": false,
        "source_hash": "d6ed9654",
        "tags": [],
        "trusted": true
      },
      "outputs": [],
      "source": "# change this line of code to reflect the DGP you want to try out\n# in this example, the beta1 = .75\nsdob1$b1_my_DGP <- sdob1$b1_no_effect + .75\n\ngf_histogram(~ b1_my_DGP, data = sdob1, binwidth = .025, fill = ~middle(b1_my_DGP,.95)) %>%\n    gf_point(0 ~ sample_b1, color = \"black\", size = 2, show.legend = FALSE)"
    },
    {
      "cell_type": "markdown",
      "metadata": {
        "cell_id": "4bdcbb1d22a54e648187a89a428b7945",
        "deepnote_cell_height": 111.328125,
        "deepnote_cell_type": "markdown",
        "output_cleared": false,
        "tags": []
      },
      "source": "6.3 - Using the Google slides, what is the highest $\\beta_1$ that could produce our sample and it would be\ncounted as \"likely\"? \n\nNow answer this question using the R function `confint()`."
    },
    {
      "cell_type": "markdown",
      "metadata": {
        "cell_id": "7705583bc3d941cebe77b44c81ef958a",
        "deepnote_cell_height": 52.546875,
        "deepnote_cell_type": "markdown",
        "output_cleared": false,
        "tags": []
      },
      "source": "6.4 - What is the lowest $\\beta_1$ that could produce our sample and it would be counted as \"likely\"?"
    }
  ],
  "metadata": {
    "deepnote_notebook_id": "1517020d54624f3a94507f1ee8cb87b7",
    "kernelspec": {
      "display_name": "R",
      "language": "R",
      "name": "ir"
    },
    "language_info": {
      "codemirror_mode": "r",
      "file_extension": ".r",
      "mimetype": "text/x-r-source",
      "name": "R",
      "pygments_lexer": "r",
      "version": "4.3.3"
    },
    "nbsimplegrader": {
      "publish_config": {
        "classes": [],
        "options": [],
        "tools": []
      }
    }
  },
  "nbformat": 4,
  "nbformat_minor": 1
}