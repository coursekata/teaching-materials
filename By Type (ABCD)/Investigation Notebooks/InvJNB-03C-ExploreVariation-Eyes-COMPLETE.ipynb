{
  "cells": [
    {
      "cell_type": "markdown",
      "metadata": {
        "cell_id": "52b371c536bb4771865b0155aba6cd0d",
        "deepnote_cell_height": 276.3125,
        "deepnote_cell_type": "markdown"
      },
      "source": "<div class=\"alert alert-block alert-danger\">\n\n# 3C: Art and Math - Exploring Variation and the DGP (COMPLETE)\n\n**Lesson assumes students have read up through page: 3.13**\n\n**Use with textbook version 5.6+**\n\n</div>"
    },
    {
      "cell_type": "markdown",
      "metadata": {
        "cell_id": "60582d55b88049d6921b61d0993bf193",
        "deepnote_cell_height": 403.859375,
        "deepnote_cell_type": "markdown",
        "owner_user_id": "23d85493-7ed1-49a4-baa7-630eaab08193",
        "tags": []
      },
      "source": "<div class=\"alert alert-block alert-warning\">\n\n#### Summary of Notebook:\n\nThis lesson examines some data collected by past students that measures whether their eyes actually appear in the midline of their face. Upon viewing the distribution in a visualization, it becomes apparent that there is an unusual bimodal distribution with some measurements that do not make sense in this context (i.e., some people's eyes appear to be 10cm above the midline of their head), suggesting that perhaps some students made a mistake when measuring. This gets them to think about the Data Generating Process, and measurement error vs mistakes.\n\n#### Includes:\n\n- Practice creating visualizations\n- Data cleaning and creating new variables\n- Connecting the shape of a distribution to the Data Generating Process\n\n#### Note:\n\n- You have the option of having students layer boxplots over some of the histograms in this notebook. They will need to add `%>%gf_boxplot(width=.5)` and adjust the width if necessary. \n\n</div>"
    },
    {
      "cell_type": "markdown",
      "metadata": {
        "cell_id": "464ea36b98c64da8a8f566e6c71d7712",
        "deepnote_cell_height": 163.9375,
        "deepnote_cell_type": "markdown",
        "tags": []
      },
      "source": "<div class=\"alert alert-block alert-success\">\n\n## Approximate time to complete Notebook: 55-80 Mins\n\n</div>"
    },
    {
      "cell_type": "code",
      "execution_count": null,
      "metadata": {
        "cell_id": "f46ebe6621e34fab9cf3ce6ff4811c33",
        "deepnote_cell_height": 129.953125,
        "deepnote_cell_type": "code",
        "deepnote_to_be_reexecuted": false,
        "execution_context_id": "5c82a1f4-c239-4b9b-8da9-808d57c57c86",
        "execution_millis": 1165,
        "execution_start": 1729532819759,
        "output_cleared": false,
        "source_hash": "116f7300",
        "trusted": true
      },
      "outputs": [],
      "source": "# This code will load the R packages we will use\nsuppressPackageStartupMessages({\n    library(coursekata)\n})"
    },
    {
      "cell_type": "markdown",
      "metadata": {
        "cell_id": "68b15385aac240f692e7ff44921ea99b",
        "deepnote_cell_height": 115.9375,
        "deepnote_cell_type": "markdown",
        "tags": []
      },
      "source": "<div class=\"alert alert-block alert-success\">\n\n### 1.0 - Approximate Time:  3-5 mins\n\n</div>"
    },
    {
      "cell_type": "markdown",
      "metadata": {
        "cell_id": "0ce8251449464ad19f3ae989aff7aa10",
        "deepnote_cell_height": 317.71875,
        "deepnote_cell_type": "markdown"
      },
      "source": "## 1.0 - Where are our eyes?\n\n<img src=\"https://coursekata-course-assets.s3.us-west-1.amazonaws.com/UCLATALL/czi-stats-course/jnb_SyJmv8SS-d-Jgm-Ibz-Imgur.png\" title=\"a sketch of a head\" width = 20% align = \"left\" valign = \"bottom\"/> \nWhen people are taught to sketch faces, they are told to place the eyes at the midline of the head (see picture). This sometimes strikes people as wrong because they think the eyes are slightly above the midline of the head. What do you think about this idea?\n"
    },
    {
      "cell_type": "markdown",
      "metadata": {
        "cell_id": "f7c6e11ad21c42cfa38ba914eb28be4d",
        "deepnote_cell_height": 140.71875,
        "deepnote_cell_type": "markdown",
        "tags": []
      },
      "source": "<div class=\"alert alert-block alert-warning\">\n\n**Sample Response**\n\n*Students will have a range of thoughts about this idea.*\n\n</div>"
    },
    {
      "cell_type": "markdown",
      "metadata": {
        "cell_id": "5b5e3a91584d4e1ca53801387ee79177",
        "deepnote_cell_height": 115.9375,
        "deepnote_cell_type": "markdown",
        "tags": []
      },
      "source": "<div class=\"alert alert-block alert-success\">\n\n### 2.0 - Approximate Time:  5-8 mins\n\n</div>"
    },
    {
      "cell_type": "markdown",
      "metadata": {
        "cell_id": "090f68f7b16e4ea2b0d65228f0e22fb3",
        "deepnote_cell_height": 572.828125,
        "deepnote_cell_type": "markdown"
      },
      "source": "## 2.0 - Head Sketch Survey Data\n\nTo help us put this artistic advice to the test, some students from Cal State LA have collected some data by measuring their heads. The whole survey can be found here: [Head Sketch Survey](https://docs.google.com/document/d/10X8G1BPz0nlEi409VV4LuORQNKf8LG4oCeB4wHhZN5Q/edit). Feel free to look the survey document over to get an idea of the instructions they had to follow (but you do NOT need to measure your own head).\n\nFirst, students were asked to guess whether their eyes were at their midline (before measuring). Then they measured their heads with a centimeter ruler. They filled in these boxes.\n\n|                                               |                                           | \n|-----------------------------------------------|-------------------------------------------| \n|   <img src=\"https://coursekata-course-assets.s3.us-west-1.amazonaws.com/UCLATALL/czi-stats-course/jnb_nn3YYscY-head-sketch-2.png\" title=\"Students saw an oval representing a head and had to fill in the length of their head (if their chin was considered 0 centimeters) and calculate the midline.\" width = \"100%\"/>  |   <img src=\"https://coursekata-course-assets.s3.us-west-1.amazonaws.com/UCLATALL/czi-stats-course/jnb_dshYtTDW-head-sketch-3.png\" title=\"Students were also asked how much higher their eyes were relative to midline.\" width = \"100%\"/>   | \n\nAfterwards, they had a partner measure their heads for them. \n"
    },
    {
      "cell_type": "code",
      "execution_count": null,
      "metadata": {
        "cell_id": "b8183f8ced0c4b20bffc3da1eae113fb",
        "deepnote_cell_height": 480.859375,
        "deepnote_cell_type": "code",
        "deepnote_output_heights": [
          275.90625
        ],
        "deepnote_to_be_reexecuted": false,
        "execution_context_id": "5c82a1f4-c239-4b9b-8da9-808d57c57c86",
        "execution_millis": 1332,
        "execution_start": 1729532894432,
        "output_cleared": false,
        "source_hash": "698718b0",
        "trusted": true
      },
      "outputs": [],
      "source": "#Here is the data frame: \ntidy_heads <- read.csv(\"https://docs.google.com/spreadsheets/d/e/2PACX-1vTJaUfRbLITc3EKByD3oDD4PhwfPBTN6FdAnCJUukTQwfd_k8ZGOzFj8wWwPIc1tw9XvJkPxz7k41zV/pub?output=csv\", header = TRUE)\n\n# Print a little of this data frame. What do the rows represent?\nhead(tidy_heads)\n\n# The rows represent students"
    },
    {
      "cell_type": "markdown",
      "metadata": {
        "cell_id": "1aec372a114e439c90dd30c15bb77363",
        "deepnote_cell_height": 401.4375,
        "deepnote_cell_type": "markdown"
      },
      "source": "Here are the variables you will find in this data frame:\n\n- `Participant` The participant number for each person\n- `Head` Length of head in cm (self-measured)\n- `Midline` How high up the midline should be in cm (self-measured)\n- `EyesHigherMid` How much higher than the midline the eyes are in cm (self-measured)\n- `EyeLevel` How high up the eyes are relative to chin in cm (self-measured)\n- `Head2` Length of head in cm (partner-measured)\n- `Midline2` How high up the midline should be in cm (partner-measured)\n- `EyesHigherMid2` How much higher than the midline the eyes are in cm (partner-measured)\n- `Height` Height in cm\n- `EyeThink` Whether students thought their eyes were basically at, above, or below the midline of their head (before measuring)\n- `EyeActual` Whether students’ eyes were actually at, above, or below the midline of their head (after measuring) based on their self-measurements\n"
    },
    {
      "cell_type": "markdown",
      "metadata": {
        "cell_id": "138ff90faaef489db214c306ff0122d3",
        "deepnote_cell_height": 74.75,
        "deepnote_cell_type": "markdown"
      },
      "source": "2.1 - Which of the variables might help us explore the idea that our eyes are at the midline of our face? "
    },
    {
      "cell_type": "markdown",
      "metadata": {
        "cell_id": "125317ca939647f09f94d72647a8c989",
        "deepnote_cell_height": 140.71875,
        "deepnote_cell_type": "markdown",
        "tags": []
      },
      "source": "<div class=\"alert alert-block alert-warning\">\n\n**Sample Response**\n\n- **EyesHigherMid**, **EyesHigherMid2**, or **EyeActual** might help us\n\n</div>"
    },
    {
      "cell_type": "markdown",
      "metadata": {
        "cell_id": "1cf7639e863d42ccb4612bafd6a86b79",
        "deepnote_cell_height": 115.9375,
        "deepnote_cell_type": "markdown",
        "tags": []
      },
      "source": "<div class=\"alert alert-block alert-success\">\n\n### 3.0 - Approximate Time:  10-15 mins\n\n</div>"
    },
    {
      "cell_type": "markdown",
      "metadata": {
        "cell_id": "8147a704264348d4b50179f9704d58c6",
        "deepnote_cell_height": 69.96875,
        "deepnote_cell_type": "markdown"
      },
      "source": "## 3.0 - Exploring and Describing the Data"
    },
    {
      "cell_type": "markdown",
      "metadata": {
        "cell_id": "f77e9098813f41e8abc58bb84dfb2a24",
        "deepnote_cell_height": 74.75,
        "deepnote_cell_type": "markdown"
      },
      "source": "3.1 - Which of these variables can we explore with a histogram: `EyesHigherMid` or `EyeActual`? If you aren’t sure, go ahead and try out a little bit of R code."
    },
    {
      "cell_type": "markdown",
      "metadata": {
        "cell_id": "c48e8b3386f54f4f93835a352f7f8f69",
        "deepnote_cell_height": 177.109375,
        "deepnote_cell_type": "markdown",
        "tags": []
      },
      "source": "<div class=\"alert alert-block alert-warning\">\n\n**Sample Response**\n\nWe can explore `EyesHigherMid` with a histogram because it is a quantitative variable.\n\n`EyeActual` will not work in a histogram because it is a categorical variable.\n\n</div>"
    },
    {
      "cell_type": "markdown",
      "metadata": {
        "cell_id": "3f479949cd2b47f8b2d3cf7b2f1c3ae0",
        "deepnote_cell_height": 74.75,
        "deepnote_cell_type": "markdown"
      },
      "source": "3.2 - Create a histogram with that variable (feel free to play around with arguments and chain markers such as color, fill, labels, density curves, bins, and binwidth!)."
    },
    {
      "cell_type": "code",
      "execution_count": null,
      "metadata": {
        "cell_id": "b95e00de96514bc3a204df63877033f1",
        "deepnote_cell_height": 706.953125,
        "deepnote_cell_type": "code",
        "deepnote_output_heights": [
          610
        ],
        "deepnote_to_be_reexecuted": false,
        "execution_millis": 426,
        "execution_start": 1629742440121,
        "source_hash": null,
        "tags": [],
        "trusted": true
      },
      "outputs": [],
      "source": "gf_dhistogram(~EyesHigherMid, data= tidy_heads, fill = \"mediumorchid4\", color= \"khaki2\", binwidth = 1)%>%gf_density(color=\"lightseagreen\")"
    },
    {
      "cell_type": "markdown",
      "metadata": {
        "cell_id": "43a1ba270f4240e980710ddec56848be",
        "deepnote_cell_height": 74.75,
        "deepnote_cell_type": "markdown"
      },
      "source": "3.3 - Why does this distribution look like this? Does this help us explore whether our eyes are generally around the midline of our face? "
    },
    {
      "cell_type": "markdown",
      "metadata": {
        "cell_id": "dd864a4e99d845aa8c9582bc62219b28",
        "deepnote_cell_height": 339.46875,
        "deepnote_cell_type": "markdown",
        "tags": []
      },
      "source": "<div class=\"alert alert-block alert-warning\">\n\n**Sample Response**\n\nThe distribution is bimodal.\n\nIt looks like some people have their eyes 10+ cm above their midline! This appears to be a mistake made when interpreting the instructions. Perhaps students measured how high up their eyes are from their chin by mistake.\n\nThe values closer to zero appear to be correct, since, based on what we know about human faces, eyes should be basically at the midline or not more than a few cm above or below their midline.\n\nThis does not help us explore the idea because the information is inaccurate.\n\n</div>"
    },
    {
      "cell_type": "markdown",
      "metadata": {
        "cell_id": "68cd2f29f46a4130b3b4d48ec2fa0bf9",
        "deepnote_cell_height": 115.9375,
        "deepnote_cell_type": "markdown",
        "tags": []
      },
      "source": "<div class=\"alert alert-block alert-success\">\n\n### 4.0 - Approximate Time:  10-15 mins\n\n</div>"
    },
    {
      "cell_type": "markdown",
      "metadata": {
        "cell_id": "c0566004cd1742ab8b46d64cb5308761",
        "deepnote_cell_height": 69.96875,
        "deepnote_cell_type": "markdown"
      },
      "source": "## 4.0 - Cleaning the Data"
    },
    {
      "cell_type": "markdown",
      "metadata": {
        "cell_id": "f45327fdba8d424ebb8e492ac990b7af",
        "deepnote_cell_height": 111.140625,
        "deepnote_cell_type": "markdown"
      },
      "source": "4.1 - What can we do to better explore the idea that our eyes are around the midline of our face? \n\n(Hint: You might want to check out the variables `EyesHigherMid` and `EyeActual`. If you clean your data up, save your new variable as `EyesHigherMid.clean`.)"
    },
    {
      "cell_type": "code",
      "execution_count": null,
      "metadata": {
        "cell_id": "0b2b721631fc484ab3053f97329efe38",
        "deepnote_cell_height": 1834.84375,
        "deepnote_cell_type": "code",
        "deepnote_output_heights": [
          275.90625,
          610,
          610
        ],
        "deepnote_to_be_reexecuted": false,
        "execution_context_id": "5c82a1f4-c239-4b9b-8da9-808d57c57c86",
        "execution_millis": 587,
        "execution_start": 1729532903133,
        "output_cleared": false,
        "source_hash": "bd6f33ce",
        "tags": [],
        "trusted": true
      },
      "outputs": [],
      "source": "# You can correct the mistakes in EyesHigherMid by subtracting Midline from EyeLevel\ntidy_heads$EyesHigherMid.clean <- tidy_heads$EyeLevel - tidy_heads$Midline\n\n# Check that the correction worked\nhead(tidy_heads)\n\n# Explore with a visualization\ngf_dhistogram(~EyesHigherMid.clean, data=tidy_heads, color = \"coral3\", fill = \"cyan1\", binwidth=1)%>%gf_density(color=\"antiquewhite3\", fill = \"blue\")\n\n# You can also explore EyeActual with a bar graph\ngf_bar(~EyeActual, data=tidy_heads, color = \"blueviolet\", fill = \"goldenrod1\")"
    },
    {
      "cell_type": "markdown",
      "metadata": {
        "cell_id": "b914a551560041639749e701f15aa904",
        "deepnote_cell_height": 52.359375,
        "deepnote_cell_type": "markdown"
      },
      "source": "4.2 - What does the data tell you about the “eyes at midline” artistic advice?"
    },
    {
      "cell_type": "markdown",
      "metadata": {
        "cell_id": "dcc9639147094b499949af5cf9a4b3bc",
        "deepnote_cell_height": 185.515625,
        "deepnote_cell_type": "markdown",
        "tags": []
      },
      "source": "<div class=\"alert alert-block alert-warning\">\n\n**Sample Response**\n\nLooking at the data, it appears that the advice may be a little \"off\". While many people have their eyes exactly at the midline, there are even more people who have eyes that are slightly higher than the midline, and even a few people who have eyes slightly below the midlilne.\n\n</div>"
    },
    {
      "cell_type": "markdown",
      "metadata": {
        "cell_id": "36f9b5116ccc47dd99bf0979f44f41af",
        "deepnote_cell_height": 115.9375,
        "deepnote_cell_type": "markdown",
        "tags": []
      },
      "source": "<div class=\"alert alert-block alert-success\">\n\n### 5.0 - Approximate Time:  10-15 mins\n\n</div>"
    },
    {
      "cell_type": "markdown",
      "metadata": {
        "cell_id": "84f9c9b54cb844feb8b20d81bd3912d2",
        "deepnote_cell_height": 483.671875,
        "deepnote_cell_type": "markdown"
      },
      "source": "## 5.0 - Thinking about the DGP and Different Samples\n\n|    With Mistakes                                           |     Without Mistakes                                      | \n|-----------------------------------------------|-------------------------------------------| \n|   <img src=\"https://coursekata-course-assets.s3.us-west-1.amazonaws.com/UCLATALL/czi-stats-course/jnb_pP5dVT1X-3-A-histogram-1.png\" title = \"temp\" width = \"90%\"> |  <img src=\"https://coursekata-course-assets.s3.us-west-1.amazonaws.com/UCLATALL/czi-stats-course/jnb_csM0687Z-3-A-histogram-2.png\" width = \"90%\"> |\n"
    },
    {
      "cell_type": "markdown",
      "metadata": {
        "cell_id": "a1234cccaa8c4db488e7a6dfacc4ad17",
        "deepnote_cell_height": 97.140625,
        "deepnote_cell_type": "markdown"
      },
      "source": "5.1 - If a different class of college students measured how much higher their eyes are above the midline, would the distribution of their data be similar? Would it be more similar to the one with mistakes or the one without mistakes? How would it be similar/different? \n"
    },
    {
      "cell_type": "markdown",
      "metadata": {
        "cell_id": "9ede9b00e50b45a78da8994cd04f6914",
        "deepnote_cell_height": 230.296875,
        "deepnote_cell_type": "markdown",
        "tags": []
      },
      "source": "<div class=\"alert alert-block alert-warning\">\n\n**Sample Response**\n\nIt might be similar to the one with mistakes if that class also misinterpreted the instructions. But if everyone clearly understood the measurement instructions it would look more similar to the one without mistakes. However, it would likely not be exactly the same as either distribution because those students would probably have a different set of measurements and facial features.\n\n</div>"
    },
    {
      "cell_type": "markdown",
      "metadata": {
        "cell_id": "37a91cccba2c49d18876390c93f2bb7f",
        "deepnote_cell_height": 97.140625,
        "deepnote_cell_type": "markdown"
      },
      "source": "5.2 - Notice that you have a little theory about the Data Generating Process (DGP)! That even if people’s eyes are not actually 12 cm above the midline, we will still see those data. What is our little theory about people?\n"
    },
    {
      "cell_type": "markdown",
      "metadata": {
        "cell_id": "1f942f269bee4bd8afb1b42b3ff5c207",
        "deepnote_cell_height": 163.125,
        "deepnote_cell_type": "markdown",
        "tags": []
      },
      "source": "<div class=\"alert alert-block alert-warning\">\n\n**Sample Response**\n\nOur little theory is that some people have eyes that are not at the midline because they may misunderstand the measurement instructions.\n\n</div>"
    },
    {
      "cell_type": "markdown",
      "metadata": {
        "cell_id": "a8a335278b7748b0983f15bb4519544a",
        "deepnote_cell_height": 133.53125,
        "deepnote_cell_type": "markdown"
      },
      "source": "5.3 - We know that even if people basically act in the same way, a new sample of data won’t come out exactly the same. How different could samples be? We can use R to mock up a DGP that creates samples similar to our actual data. \n\nTry running the following code, what is it doing? "
    },
    {
      "cell_type": "code",
      "execution_count": null,
      "metadata": {
        "cell_id": "497a654986be41aa9c3e2fe7af4b7b3f",
        "deepnote_cell_height": 298.875,
        "deepnote_cell_type": "code",
        "deepnote_output_heights": [
          188.921875
        ],
        "deepnote_to_be_reexecuted": false,
        "execution_millis": 10,
        "execution_start": 1629742441126,
        "output_cleared": false,
        "scrolled": true,
        "source_hash": null,
        "trusted": true
      },
      "outputs": [],
      "source": "new_sample <- resample(tidy_heads, 3)\nnew_sample"
    },
    {
      "cell_type": "markdown",
      "metadata": {
        "cell_id": "873d52bef2ae43ee9ba372eaea70d1cf",
        "deepnote_cell_height": 140.71875,
        "deepnote_cell_type": "markdown",
        "tags": []
      },
      "source": "<div class=\"alert alert-block alert-warning\">\n\n**Sample Response**\n\nThis code is taking a sample of 3 (with replacement) random rows (students).\n\n</div>"
    },
    {
      "cell_type": "markdown",
      "metadata": {
        "cell_id": "2b91362713544f368b05c5fbbe4b6ebc",
        "deepnote_cell_height": 74.75,
        "deepnote_cell_type": "markdown"
      },
      "source": "5.4 - Modify the code below to pretend to do this little study again with another 18 students. How would we take a look at the new distribution of `EyesHigherMid`? "
    },
    {
      "cell_type": "code",
      "execution_count": null,
      "metadata": {
        "cell_id": "b36a9a534df54ad89f54afe1ecce2581",
        "deepnote_cell_height": 773.953125,
        "deepnote_cell_type": "code",
        "deepnote_output_heights": [
          610
        ],
        "deepnote_to_be_reexecuted": false,
        "execution_context_id": "5c82a1f4-c239-4b9b-8da9-808d57c57c86",
        "execution_millis": 152,
        "execution_start": 1729532928466,
        "output_cleared": false,
        "source_hash": "5c5bc624",
        "tags": [],
        "trusted": true
      },
      "outputs": [],
      "source": "# Modified to take a random sample of 18 students\nnew_sample <- resample(tidy_heads, 18)\n\n# Look at new distribution of EyesHigherMid\ngf_histogram(~EyesHigherMid, data=new_sample)"
    },
    {
      "cell_type": "markdown",
      "metadata": {
        "cell_id": "5d2356410e794ee4b24ccf5e004d7aad",
        "deepnote_cell_height": 74.75,
        "deepnote_cell_type": "markdown"
      },
      "source": "5.5 - Run the code you wrote above a few times. What do you notice? What changes across these simulated samples? What stays the same?"
    },
    {
      "cell_type": "markdown",
      "metadata": {
        "cell_id": "a46d48ecd6704c5988b4198017de29c1",
        "deepnote_cell_height": 163.125,
        "deepnote_cell_type": "markdown",
        "tags": []
      },
      "source": "<div class=\"alert alert-block alert-warning\">\n\n**Sample Response**\n\nEach sample has a slightly different set of measurements, but the general bimodal pattern stays the same.\n\n</div>"
    },
    {
      "cell_type": "markdown",
      "metadata": {
        "cell_id": "b64de6340ed54be1867c39cedd6e4329",
        "deepnote_cell_height": 115.9375,
        "deepnote_cell_type": "markdown",
        "tags": []
      },
      "source": "<div class=\"alert alert-block alert-success\">\n\n### 6.0 - Approximate Time:  10-15 mins\n\n</div>"
    },
    {
      "cell_type": "markdown",
      "metadata": {
        "cell_id": "3ea34cead9f045399b6a81457d79830a",
        "deepnote_cell_height": 69.96875,
        "deepnote_cell_type": "markdown"
      },
      "source": "## 6.0 - Resample versus Sample"
    },
    {
      "cell_type": "markdown",
      "metadata": {
        "cell_id": "8606eab7629f4df892b439cd0fd62748",
        "deepnote_cell_height": 97.140625,
        "deepnote_cell_type": "markdown"
      },
      "source": "6.1 - In addition to the function `resample()` there is another function called `sample()` that is very similar. Here we have copied and pasted the code from above. But this time, modify it to create a new sample with the function `sample()` instead of `resample()`. "
    },
    {
      "cell_type": "code",
      "execution_count": null,
      "metadata": {
        "cell_id": "0d75f9d7060949c3afd413cea26b6fe5",
        "deepnote_cell_height": 755.953125,
        "deepnote_cell_type": "code",
        "deepnote_output_heights": [
          610
        ],
        "deepnote_to_be_reexecuted": false,
        "execution_millis": 162,
        "execution_start": 1629742441349,
        "output_cleared": false,
        "source_hash": null,
        "tags": [],
        "trusted": true
      },
      "outputs": [],
      "source": "# Changed from resample() to sample()\nnew_sample <- sample(tidy_heads, 18)\n\ngf_histogram(~ EyesHigherMid, data = new_sample, color = \"yellow\")"
    },
    {
      "cell_type": "markdown",
      "metadata": {
        "cell_id": "472db8891ec34cb4a2e8e7f556b23c23",
        "deepnote_cell_height": 74.75,
        "deepnote_cell_type": "markdown"
      },
      "source": "6.2 - Run it a few times. What do you notice? Does it change? Why or why not? What’s different about sample and resample?"
    },
    {
      "cell_type": "markdown",
      "metadata": {
        "cell_id": "4e7f535db54d4e92a356850493c802ce",
        "deepnote_cell_height": 185.515625,
        "deepnote_cell_type": "markdown",
        "tags": []
      },
      "source": "<div class=\"alert alert-block alert-warning\">\n\n**Sample Response**\n\nThe distribution does not change with `sample()` because it is simply using the original sample of 18 students over and over again (since it is not replacing the values each time it samples).\n\n</div>"
    },
    {
      "cell_type": "markdown",
      "metadata": {
        "cell_id": "9ce7207e31f54d90832e108ee0f32565",
        "deepnote_cell_height": 74.75,
        "deepnote_cell_type": "markdown"
      },
      "source": "6.3 - Could we use `sample()` to pretend to do this study again with 100 students? Could we use `resample()`? Try them to see what happens."
    },
    {
      "cell_type": "markdown",
      "metadata": {
        "cell_id": "34a40c0d32c24b86bef5b2bb46112dd6",
        "deepnote_cell_height": 185.515625,
        "deepnote_cell_type": "markdown",
        "tags": []
      },
      "source": "<div class=\"alert alert-block alert-warning\">\n\n**Sample Response**\n\nWe could not use `sample()` because without replacement we cannot take a sample larger than the population of data that we have, but with `resample()` we can take as large of a sample as we want because we keep putting the data back into the population.\n\n</div>"
    },
    {
      "cell_type": "markdown",
      "metadata": {
        "cell_id": "06406061cf3f4b9c813e1ecfcf71d69c",
        "deepnote_cell_height": 74.75,
        "deepnote_cell_type": "markdown",
        "tags": []
      },
      "source": "6.4 - Try resampling with 18, 100, or 5000 students. Which of these looks the most like the sample that we started out with? Why?"
    },
    {
      "cell_type": "code",
      "execution_count": null,
      "metadata": {
        "cell_id": "14d1b58f597948c9b1b0520765902172",
        "deepnote_cell_height": 2217.9375,
        "deepnote_cell_type": "code",
        "deepnote_output_heights": [
          610,
          610,
          610
        ],
        "deepnote_to_be_reexecuted": false,
        "execution_millis": 552,
        "execution_start": 1629742441549,
        "source_hash": null,
        "tags": [],
        "trusted": true
      },
      "outputs": [],
      "source": "# Sample of 18 students\nnew_sample1 <- resample(tidy_heads, 18)\n\ngf_histogram(~ EyesHigherMid, data = new_sample1, color = \"blue\")\n\n# Sample of 100 students\nnew_sample2 <- resample(tidy_heads, 100)\n\ngf_histogram(~ EyesHigherMid, data = new_sample2, color = \"yellow\")\n\n# Sample of 5000 students\nnew_sample3 <- resample(tidy_heads, 5000)\n\ngf_histogram(~ EyesHigherMid, data = new_sample3, color = \"green\")"
    },
    {
      "cell_type": "markdown",
      "metadata": {
        "cell_id": "7fdf61b895cf42abb03849a47719a6d9",
        "deepnote_cell_height": 163.125,
        "deepnote_cell_type": "markdown",
        "tags": []
      },
      "source": "<div class=\"alert alert-block alert-warning\">\n\n**Sample Response**\n\nThey all look pretty similar to our original sample (bimodal), but the larger samples have more information so some of the bars of the histogram have higher counts.\n\n</div>"
    },
    {
      "cell_type": "markdown",
      "metadata": {
        "cell_id": "578d7150fc494f588bcba588358954c7",
        "deepnote_cell_height": 115.9375,
        "deepnote_cell_type": "markdown",
        "tags": []
      },
      "source": "<div class=\"alert alert-block alert-success\">\n\n### 7.0 - Approximate Time:  5-8 mins\n\n</div>"
    },
    {
      "cell_type": "markdown",
      "metadata": {
        "cell_id": "74bdd693d47d4c01966e0f3c527bc9fe",
        "deepnote_cell_height": 69.96875,
        "deepnote_cell_type": "markdown"
      },
      "source": "## 7.0 - Reflect and Connect\n"
    },
    {
      "cell_type": "markdown",
      "metadata": {
        "cell_id": "02c7693b112d458eacc47dae1e892110",
        "deepnote_cell_height": 74.75,
        "deepnote_cell_type": "markdown"
      },
      "source": "7.1 - How did the shapes of the distributions we looked at today connect to the data generating process?\n"
    },
    {
      "cell_type": "markdown",
      "metadata": {
        "cell_id": "7507f736a0db4522894f3121ee37951f",
        "deepnote_cell_height": 252.6875,
        "deepnote_cell_type": "markdown",
        "tags": []
      },
      "source": "<div class=\"alert alert-block alert-warning\">\n\n**Sample Response**\n\nThe shapes of the distribution depended on how the data were generated. When the data were generated by mistakes in the measurement process, we saw a bimodal shape. When the data were generated by the process of actual differences in the position of the eyes relative to the midline we saw a more normally shaped distribution. We also saw a that the shapes were similar to the original data when the data generating process was a simulation of randomness (using `resample()`).\n\n</div>"
    }
  ],
  "metadata": {
    "deepnote_notebook_id": "d447690c3f2c43888bc0c35906d39e2f",
    "kernelspec": {
      "display_name": "R",
      "language": "R",
      "name": "ir"
    },
    "language_info": {
      "codemirror_mode": "r",
      "file_extension": ".r",
      "mimetype": "text/x-r-source",
      "name": "R",
      "pygments_lexer": "r",
      "version": "4.3.3"
    },
    "nbsimplegrader": {
      "publish_config": {
        "classes": [],
        "options": [],
        "tools": []
      }
    }
  },
  "nbformat": 4,
  "nbformat_minor": 1
}