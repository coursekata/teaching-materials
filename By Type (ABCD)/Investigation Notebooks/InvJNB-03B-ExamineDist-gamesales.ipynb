{
  "cells": [
    {
      "cell_type": "markdown",
      "metadata": {
        "cell_id": "059a7e8857d048bcb4f37dca42696487",
        "deepnote_cell_height": 133.953125,
        "deepnote_cell_type": "markdown",
        "output_cleared": false
      },
      "source": "# 3B: Variation in Video Game \"Goodness\""
    },
    {
      "cell_type": "code",
      "execution_count": null,
      "metadata": {
        "cell_id": "174a20234b69476f978fbb7ef4886cc8",
        "deepnote_cell_height": 129.953125,
        "deepnote_cell_type": "code",
        "deepnote_to_be_reexecuted": false,
        "execution_millis": 4092,
        "execution_start": 1610215175500,
        "output_cleared": false,
        "source_hash": "9d70ea66",
        "trusted": true
      },
      "outputs": [],
      "source": "# This code will load the R packages we will use\nsuppressPackageStartupMessages({\n    library(coursekata)\n})"
    },
    {
      "cell_type": "markdown",
      "metadata": {
        "cell_id": "6af6f47ff7384188b4b12cb4c3ab190b",
        "deepnote_cell_height": 69.96875,
        "deepnote_cell_type": "markdown",
        "output_cleared": false
      },
      "source": "## 1.0 - Thinking about the Question"
    },
    {
      "cell_type": "markdown",
      "metadata": {
        "cell_id": "60bcd44ae8524d9691aaf13b01416df1",
        "deepnote_cell_height": 74.75,
        "deepnote_cell_type": "markdown",
        "output_cleared": false
      },
      "source": "1.1 - Any gamer will tell you there is a lot of variation in how \"good\" a game is. What are some ways we could measure how “good” a game is? "
    },
    {
      "cell_type": "markdown",
      "metadata": {
        "cell_id": "5d9f1a85c68340ea81b567a44db4c8ee",
        "deepnote_cell_height": 517,
        "deepnote_cell_type": "markdown",
        "output_cleared": false
      },
      "source": "1.2 - Try using functions such as `head()` to take a look at the following data set (called `gamesales`). (You can also try `str()` or `glimpse()` to look at the data frame a little differently.)\n\nThe data frame `gamesales` contains 17416 rows describing games with the following variables: \n- `Name` - The video game's name\n- `Platform` - Platform of the games release\n- `Year_of_Release` - Year of the game's release\n- `Genre` - Genre of the game\n- `Publisher` - Publisher of the game\n- `NA_Sales` - Sales in North America (in millions)\n- `EU_Sales` - Sales in Europe (in millions)\n- `JP_Sales` - Sales in Japan (in millions)\n- `Other_Sales` - Sales in the rest of the world (in millions)\n- `Global_Sales` - Total worldwide sales (in millions)\n- `Critic_Score` - Aggregate score compiled by Metacritic staff\n- `Critic_Count` - The number of critics used in coming up with the critic score\n- `User_Score` - Score by Metacritic's subscribers\n- `User_Count` - Number of users who gave the user score\n- `Rating` - The ESRB ratings (Entertainment Software Rating Board)"
    },
    {
      "cell_type": "code",
      "execution_count": null,
      "metadata": {
        "cell_id": "d89555789437445fb4f2d1209e887f83",
        "deepnote_cell_height": 517.953125,
        "deepnote_cell_type": "code",
        "deepnote_to_be_reexecuted": false,
        "execution_millis": 2453,
        "execution_start": 1610215179659,
        "output_cleared": false,
        "source_hash": "6defe716",
        "tags": [],
        "trusted": true
      },
      "outputs": [],
      "source": "# Run this code to import the data frame \n\ngamesales_csv_link <- \"https://docs.google.com/spreadsheets/d/e/2PACX-1vRxgnDw4jgU7XkqCp6iZHsBsOe7JQbAjsjJePsoKpllu_KntXdXp1wbY2PocCzdiFOQZ7Bq8IrgLpXz/pub?gid=487723921&single=true&output=csv\"\ngamesales <- read.csv(gamesales_csv_link, header = TRUE) \n\n# Use functions such as head() or str() to take a look at gamesales\n# Write the code here\n\nhead(gamesales)"
    },
    {
      "cell_type": "markdown",
      "metadata": {
        "cell_id": "d4896fcd1baf468789d42df9163864cd",
        "deepnote_cell_height": 74.75,
        "deepnote_cell_type": "markdown",
        "output_cleared": false,
        "tags": []
      },
      "source": "1.3 - Which of the variables in `gamesales` might be a good way to measure how “good” a game is? What are the pros and cons of using that measure of “goodness”? "
    },
    {
      "cell_type": "markdown",
      "metadata": {
        "cell_id": "791874c619bc4177a29aa61d2e4ec788",
        "deepnote_cell_height": 69.96875,
        "deepnote_cell_type": "markdown",
        "output_cleared": false
      },
      "source": "## 2.0 - How Critics Rate Video Games"
    },
    {
      "cell_type": "markdown",
      "metadata": {
        "cell_id": "64776845985f473ebdac289bbdc91794",
        "deepnote_cell_height": 97.140625,
        "deepnote_cell_type": "markdown",
        "output_cleared": false
      },
      "source": "2.1 - There are many ways to measure a game's goodness (even ways that are not included in this data set!), but let's start by exploring variation in critics’ ratings of games, `Critic_Score`. Create a histogram that would help us do this."
    },
    {
      "cell_type": "markdown",
      "metadata": {
        "cell_id": "7516023c4f034cd29b6b092532cdb6e2",
        "deepnote_cell_height": 74.75,
        "deepnote_cell_type": "markdown",
        "output_cleared": false
      },
      "source": "2.2 - Find one of the tallest bars and one of the lowest bars in the histogram. What does it mean for a bar to be really low, or really tall in this histogram? "
    },
    {
      "cell_type": "markdown",
      "metadata": {
        "cell_id": "c96c9789d389472d8f3ebb1e052b1d38",
        "deepnote_cell_height": 74.75,
        "deepnote_cell_type": "markdown",
        "output_cleared": false
      },
      "source": "2.3 - What would you guess is the scale used for rating the games (i.e., the range of possible ratings)?"
    },
    {
      "cell_type": "markdown",
      "metadata": {
        "cell_id": "f3bbea7e00144ae4b7e57fdea74b61d0",
        "deepnote_cell_height": 114.75,
        "deepnote_cell_type": "markdown",
        "output_cleared": false
      },
      "source": "2.4 - If we made a boxplot of the same data, which of the following would it look like (left, center, or right)? \n<img src = \"https://coursekata-course-assets.s3.us-west-1.amazonaws.com/UCLATALL/czi-stats-course/jnb_3-gamesales-boxplots.jpg\" title = \"Left boxplot looks even, center boxplot has a low tail, right boxplot has high tail\">"
    },
    {
      "cell_type": "markdown",
      "metadata": {
        "cell_id": "c57896cbb6244d3a9aeef4b6ba2a6cc6",
        "deepnote_cell_height": 52.359375,
        "deepnote_cell_type": "markdown",
        "output_cleared": false
      },
      "source": "2.5 - Try making a boxplot. Which one did it look like? Why does it look like that?"
    },
    {
      "cell_type": "markdown",
      "metadata": {
        "cell_id": "94e0168a3b714f03b14c7fe8e2f35231",
        "deepnote_cell_type": "markdown"
      },
      "source": "2.6 - You can also layer a boxplot over your histogram. Try that below."
    },
    {
      "cell_type": "markdown",
      "metadata": {
        "cell_id": "59705a4e5a634bcdbe291f1cc4c126dc",
        "deepnote_cell_type": "markdown",
        "output_cleared": false
      },
      "source": "2.7 - How would you describe this distribution of critics’ scores? What have we learned about critics’ scores by looking at this distribution? "
    },
    {
      "cell_type": "markdown",
      "metadata": {
        "cell_id": "b9247bdecbdd4346b5790c4899cf1047",
        "deepnote_cell_type": "markdown",
        "output_cleared": false
      },
      "source": "## 3.0 - How Users Rate Video Games"
    },
    {
      "cell_type": "markdown",
      "metadata": {
        "cell_id": "7d07e6222a7f4171bab41f317b9162a5",
        "deepnote_cell_type": "markdown",
        "output_cleared": false
      },
      "source": "3.1 - That’s just critic ratings; how about user ratings? Will they also be skewed? Will their pattern of variation look different from critics? Why or why not?"
    },
    {
      "cell_type": "markdown",
      "metadata": {
        "cell_id": "c8f332005a804b05b757ea49d70622b9",
        "deepnote_cell_type": "markdown",
        "output_cleared": false
      },
      "source": "3.2 - Let’s take a look at the total variation in `User_Score`. Is the distribution shaped like the critics’ scores?"
    },
    {
      "cell_type": "markdown",
      "metadata": {
        "cell_id": "1ae848af00b44abbb335dff700d45238",
        "deepnote_cell_type": "markdown",
        "output_cleared": false
      },
      "source": "## 4.0 - Cleaning the Data"
    },
    {
      "cell_type": "markdown",
      "metadata": {
        "cell_id": "dd875facce934b14b8c91144f8a0aa55",
        "deepnote_cell_type": "markdown",
        "output_cleared": false
      },
      "source": "4.1 - Notice that we got a warning message here like we did when we tried to visualize `Critic_Score`. But this time the number is different. What does this mean? How should we handle this?"
    },
    {
      "cell_type": "markdown",
      "metadata": {
        "cell_id": "6c8a1a95729649f2839ca45dad78ee51",
        "deepnote_cell_type": "markdown",
        "output_cleared": false
      },
      "source": "4.2 - We want to teach you a new function called `na.omit`. This function takes in a data frame and then spits it out without any games that have an ‘NA’ in it. Try running the following code."
    },
    {
      "cell_type": "code",
      "execution_count": null,
      "metadata": {
        "cell_id": "2db5c3f6127c4634b831e976fb1a05e9",
        "deepnote_cell_type": "code",
        "deepnote_to_be_reexecuted": false,
        "execution_millis": 45,
        "execution_start": 1610215182123,
        "output_cleared": false,
        "source_hash": "9f65cd3",
        "trusted": true
      },
      "outputs": [],
      "source": "games2 <- na.omit(gamesales)"
    },
    {
      "cell_type": "markdown",
      "metadata": {
        "cell_id": "ca71a5d530754c31852a4de03b4c9eeb",
        "deepnote_cell_type": "markdown",
        "output_cleared": false
      },
      "source": "4.3 - Compare `games2` to `gamesales`. What’s different about it? What are the pros and cons of using `games2` (rather than `gamesales`) to look at the distribution of user ratings or critics scores?"
    },
    {
      "cell_type": "markdown",
      "metadata": {
        "cell_id": "500d8ce869504b0283e6eef16156aa49",
        "deepnote_cell_type": "markdown",
        "output_cleared": false
      },
      "source": "## 5.0 - Critic Ratings versus User Ratings "
    },
    {
      "cell_type": "markdown",
      "metadata": {
        "cell_id": "b7b9ab2d655b44598aa48176928b768f",
        "deepnote_cell_type": "markdown",
        "output_cleared": false,
        "tags": []
      },
      "source": "5.1 - Now if we run this code to make histograms (same as before), do you think we will get any error messages? Why or why not?"
    },
    {
      "cell_type": "code",
      "execution_count": null,
      "metadata": {
        "cell_id": "de909e362eb8463eb4d10959ba9a2baf",
        "deepnote_cell_type": "code",
        "deepnote_to_be_reexecuted": false,
        "execution_millis": 660,
        "execution_start": 1610215188861,
        "output_cleared": false,
        "source_hash": "c3d483cb",
        "trusted": true
      },
      "outputs": [],
      "source": "gf_histogram(~ Critic_Score, data=games2, fill = \"blue\", color = \"black\")\n\ngf_histogram(~ User_Score, data=games2, fill = \"orange\", color = \"black\")\n"
    },
    {
      "cell_type": "markdown",
      "metadata": {
        "cell_id": "e74a973a1837409cae671af2e7303722",
        "deepnote_cell_type": "markdown",
        "output_cleared": false
      },
      "source": "5.2 - Compare the distribution of `User_Score` to `Critic_Score`. What’s similar? What’s different? Is there anything we can do to the scores to make these two distributions easier to compare?"
    },
    {
      "cell_type": "markdown",
      "metadata": {
        "cell_id": "716bd9bd571b4cc6a6669c2c6848e16f",
        "deepnote_cell_type": "markdown",
        "output_cleared": false
      },
      "source": "5.3 - From looking at these distributions, do you think users and critics are similar in the way they actually judge the “goodness” of games? Different? What are your theories about the Data Generating Process that makes the data look this way?"
    },
    {
      "cell_type": "markdown",
      "metadata": {
        "cell_id": "0e61ae58b8454014832adadfcdca28cf",
        "deepnote_cell_type": "markdown",
        "output_cleared": false
      },
      "source": "## 6.0 - What do ratings tell us about the “goodness” of games?"
    },
    {
      "cell_type": "markdown",
      "metadata": {
        "cell_id": "9ec7a257092e466d84cde1e25cd5ed17",
        "deepnote_cell_type": "markdown",
        "output_cleared": false
      },
      "source": "6.1 - Do you think other ways of measuring “goodness” will look like the ratings we looked at? Try it out with another variable in our data set that might tell you about the goodness of a game. "
    }
  ],
  "metadata": {
    "deepnote_notebook_id": "863055820c9d4c2c96c66875ebf6ce76",
    "kernelspec": {
      "display_name": "R",
      "language": "R",
      "name": "ir"
    },
    "language_info": {
      "codemirror_mode": "r",
      "file_extension": ".r",
      "mimetype": "text/x-r-source",
      "name": "R",
      "pygments_lexer": "r",
      "version": "4.3.3"
    },
    "nbsimplegrader": {
      "publish_config": {
        "classes": [],
        "options": [],
        "tools": []
      }
    }
  },
  "nbformat": 4,
  "nbformat_minor": 1
}