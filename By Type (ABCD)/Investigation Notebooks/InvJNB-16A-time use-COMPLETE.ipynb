{
  "cells": [
    {
      "cell_type": "markdown",
      "metadata": {
        "cell_id": "06df15a25521436db718acc1bb22f4ea",
        "deepnote_cell_type": "markdown",
        "tags": []
      },
      "source": "<div class=\"alert alert-block alert-danger\">\n\n# 16A: How do countries spend their time? (COMPLETE)\n\n**Use with textbook version 6.0+**\n\n\n**Lesson assumes students have read up through page: 16.4**\n\n</div>"
    },
    {
      "cell_type": "markdown",
      "metadata": {
        "cell_id": "5ec1df86579f42fd84f09c033b9083f0",
        "deepnote_cell_type": "markdown",
        "tags": []
      },
      "source": "<div class=\"alert alert-block alert-warning\">\n\n#### Summary of Notebook:\n\nIn this notebook students will explore their own hypotheses about how people in countries spend their time. They will compare multivariate additive and interaction models to each other and to the empty model to try and explain variation in their outcome variable.\n\n#### Includes:\n\n- Multivariate models with two quantitative explanatory variables predicting a quantitative explanatory variable\n\n</div>"
    },
    {
      "cell_type": "markdown",
      "metadata": {
        "cell_id": "f01de115a842412296b8f30501a4399d",
        "deepnote_cell_type": "markdown",
        "tags": []
      },
      "source": "<div class=\"alert alert-block alert-success\">\n\n## Approximate time to complete Notebook: 40-55 Mins\n\n</div>"
    },
    {
      "cell_type": "code",
      "execution_count": null,
      "metadata": {
        "cell_id": "7e01d70509974a8b9248ce8488a4be3d",
        "deepnote_cell_type": "code",
        "deepnote_to_be_reexecuted": false,
        "execution_millis": 4897,
        "execution_start": 1685756247930,
        "output_cleared": true,
        "source_hash": "116f7300",
        "tags": [],
        "trusted": true
      },
      "outputs": [],
      "source": "# This code will load the R packages we will use\nsuppressPackageStartupMessages({\n    library(coursekata)\n})"
    },
    {
      "cell_type": "markdown",
      "metadata": {
        "cell_id": "dbc182386caf4e8ea0ac63ebcd3d4b0f",
        "deepnote_cell_type": "markdown",
        "tags": []
      },
      "source": "## 1.0 - About the Data"
    },
    {
      "cell_type": "code",
      "execution_count": null,
      "metadata": {
        "cell_id": "0d2c6d30b82843d9b5901f83db619c6e",
        "deepnote_cell_type": "code",
        "deepnote_to_be_reexecuted": false,
        "execution_millis": 1092,
        "execution_start": 1685756252848,
        "output_cleared": true,
        "source_hash": "ec32f1a",
        "trusted": true
      },
      "outputs": [],
      "source": "time_use <- read.csv(\"https://docs.google.com/spreadsheets/d/e/2PACX-1vRCsuvBFXXuNM1Tp2vInQYYotkIi9ooqZqljyK75iDslSBCxCKQOaZnqwMbZ_lA_rHd04hBIsdd2gIv/pub?gid=680774096&single=true&output=csv\")\nstr(time_use)"
    },
    {
      "cell_type": "markdown",
      "metadata": {
        "cell_id": "e4c4f65f42704908b1269f2f4bb139c5",
        "deepnote_cell_type": "markdown",
        "tags": []
      },
      "source": "The `time_use` dataset looks at various countries around the world, and depicts the average amount of time people spend doing common activities throughout their day. They were asked to record how much time they spent doing each activity with a daily diary. We have also added other information about each country from a variety of sources.\n\n**Description of Variables:**\n\n- `country` The name of the country\n- `attending_events` Average amount of time (in mins) spent attending events\n- `care_hh_members` Average amount of time (in mins) spent caring for household members\n- `eating_drinking` Average amount of time (in mins) spent eating or drinking\n- `education` Average amount of time (in mins) spent at school\n- `housework` Average amount of time (in mins) spent doing housework\n- `other_leisure` Average amount of time (in mins) spent doing leisure activities\n- `other_unpaid_wk_volun` Average amount of time (in mins) spent doing unpaid work or volunteerism\n- `paid_work` Average amount of time (in mins) spent doing paid work\n- `personal_care` Average amount of time (in mins) spent on personal care\n- `friends` Average amount of time (in mins) spent with friends\n- `shopping` Average amount of time (in mins) spent shopping\n- `sleep` Average amount of time (in mins) spent sleeping\n- `sports` Average amount of time (in mins) spent playing sports\n- `tv_radio` Average amount of time (in mins) spent watching TV or listening to the radio\n- `IMF_GDP` The Gross Domestic Product (according to the IMF)\n- `pop_2023` The population in 2023\n- `fertility_rate` The fertility rate (the average number of children per woman)\n- `religiosity` The percentage of people who rate religion as \"important\"\n- `vehicles_per_1k` The number of vehicles (cars, trucks, buses, freight) per 1,000 people\n- `avg_temp_c_1991_2020` The average temperature (in celsius) from 1991-2020"
    },
    {
      "cell_type": "markdown",
      "metadata": {
        "cell_id": "6e96294a63264c189d3865fe26e976a3",
        "deepnote_cell_type": "markdown"
      },
      "source": "<div class=\"alert alert-block alert-success\">\n\n### 1.0 - Approximate Time:  5-10 mins\n\n</div>"
    },
    {
      "cell_type": "markdown",
      "metadata": {
        "cell_id": "6801371f2a1c487db2342a76d3391112",
        "deepnote_cell_type": "markdown"
      },
      "source": "## 1.0 - Explore Variation"
    },
    {
      "cell_type": "markdown",
      "metadata": {
        "cell_id": "4d0f2f8ffa7047659584abd6f7e52bd6",
        "deepnote_cell_type": "markdown"
      },
      "source": "1.1 - How do countries spend their time? Pick an outcome variable you are interested in exploring and create a visualization to explore the distribution. Describe the shape, center, spread, and any oddities."
    },
    {
      "cell_type": "code",
      "execution_count": null,
      "metadata": {
        "cell_id": "01f602839613478aafea1debc8c8216e",
        "deepnote_cell_type": "code",
        "deepnote_to_be_reexecuted": false,
        "execution_millis": 201,
        "execution_start": 1685756361878,
        "output_cleared": true,
        "source_hash": "eeaa6215",
        "trusted": true
      },
      "outputs": [],
      "source": "# Sample Response\ngf_dhistogram(~friends, data = time_use) %>%\n    gf_density()\n\nfavstats(~friends, data = time_use)"
    },
    {
      "cell_type": "markdown",
      "metadata": {
        "cell_id": "54c4b4ceb8f04a44901f4e463010ca04",
        "deepnote_cell_type": "markdown"
      },
      "source": "<div class=\"alert alert-block alert-warning\">\n\n**Sample Response**\n\nThe average amount of time people spend with friends in each country is about 50 minutes. Some countries have an average as low as 20 minutes, and some as high as 80 minutes.\n\n\n</div>"
    },
    {
      "cell_type": "markdown",
      "metadata": {
        "cell_id": "68f240da23d24ea38261be3079f8a82c",
        "deepnote_cell_type": "markdown"
      },
      "source": "1.2 - Develop a theory to explain some variation in your outcome variable and write it as a word equation."
    },
    {
      "cell_type": "markdown",
      "metadata": {
        "cell_id": "317a13de816c4b51a801d0d381a31a16",
        "deepnote_cell_type": "markdown"
      },
      "source": "<div class=\"alert alert-block alert-warning\">\n\n**Sample Response**\n\n*One potential hypothesis students might come up with:*\n\nfriends = sports + religiosity + other stuff\n\n*If possible, get students to articulate what they expect to find with their hypothesis (e.g., that countries with higher rates of religiosity and sports will spend more time with friends).*\n\n</div>"
    },
    {
      "cell_type": "markdown",
      "metadata": {
        "cell_id": "85ee7968747442cfb4ff1a05ebc6df15",
        "deepnote_cell_type": "markdown"
      },
      "source": "<div class=\"alert alert-block alert-success\">\n\n### 2.0 - Approximate Time:  20-25 mins\n\n</div>"
    },
    {
      "cell_type": "markdown",
      "metadata": {
        "cell_id": "9caf9a095b5d4ab09649a3e4a1a18c34",
        "deepnote_cell_type": "markdown"
      },
      "source": "## 2.0 - Model Variation"
    },
    {
      "cell_type": "markdown",
      "metadata": {
        "cell_id": "aa16ba7950d04278b412eec2c8d3f561",
        "deepnote_cell_type": "markdown"
      },
      "source": "2.1 - Create a visualization to represent your hypothesis. What do you notice?"
    },
    {
      "cell_type": "code",
      "execution_count": null,
      "metadata": {
        "cell_id": "443a189fdce141e5a088b2588212c8de",
        "deepnote_cell_type": "code",
        "deepnote_to_be_reexecuted": false,
        "execution_millis": 199,
        "execution_start": 1685757312024,
        "output_cleared": true,
        "source_hash": "d012649",
        "trusted": true
      },
      "outputs": [],
      "source": "# Sample Response\n\ngf_point(friends ~ sports, data = time_use, color = ~religiosity)"
    },
    {
      "cell_type": "markdown",
      "metadata": {
        "cell_id": "c521435c1b18426ea022e729de854f82",
        "deepnote_cell_type": "markdown"
      },
      "source": "<div class=\"alert alert-block alert-warning\">\n\n**Sample Response**\n\nIt is hard to see any distinct pattern. It sort of appears that the low and mid religiosity groups may move up as sports goes up, however, the countries in the higher religiosity range (green-yellow) appear to be fewer in number, and appear to have the opposite pattern (as sports goes up, friends goes down).\n\n*Note, that some of the variables may not have a lot of variation (e.g. sleep), relatively speaking, so students may need to be nudged to notice this if they are having a hard time interpreting their graphs.*\n\n</div>"
    },
    {
      "cell_type": "markdown",
      "metadata": {
        "cell_id": "7718c6a9045240fda859300eada6fa90",
        "deepnote_cell_type": "markdown"
      },
      "source": "2.2 - Fit your model as an additive model and as an interaction model, then create visualizations to depict those models. Try adding the empty model as well."
    },
    {
      "cell_type": "code",
      "execution_count": null,
      "metadata": {
        "cell_id": "524656614f1145809b43543290fb7968",
        "deepnote_cell_type": "code",
        "deepnote_to_be_reexecuted": false,
        "execution_millis": 505,
        "execution_start": 1685758949856,
        "output_cleared": true,
        "source_hash": "56357660",
        "trusted": true
      },
      "outputs": [],
      "source": "# Sample Response\nadd_model <- lm(friends ~ sports + religiosity, data = time_use)\ngf_point(friends ~ sports, data = time_use, color = ~religiosity) %>%\n    gf_model(add_model) %>%\n    gf_hline(yintercept = 51.91, color = \"red\")\n\nint_model <- lm(friends ~ sports * religiosity, data = time_use)\ngf_point(friends ~ sports, data = time_use, color = ~religiosity) %>%\n    gf_model(int_model) %>%\n    gf_hline(yintercept = 51.91, color = \"red\")"
    },
    {
      "cell_type": "markdown",
      "metadata": {
        "cell_id": "ba24712a8c1f442e94b790678734e375",
        "deepnote_cell_type": "markdown"
      },
      "source": "2.3 - Describe the trend you are seeing in the models. Are they similar or very different from the empty model? Are they similar or very different from each other? What does this suggest?"
    },
    {
      "cell_type": "markdown",
      "metadata": {
        "cell_id": "92a8affe962b4578bb6f14002af291f3",
        "deepnote_cell_type": "markdown"
      },
      "source": "<div class=\"alert alert-block alert-warning\">\n\n**Sample Response**\n\nThe additive model suggests that as religiosity goes up, so does the y-intercept, whereas, the interaction model suggests a different story, such that, as the highest religiosity group increases on sports, it decreases on friends.\n\nThe additive model is closest to the empty model, not showing much deviation from it. The interaction pattern is showing a need for different slopes for each group. This suggests the additive model may not be much better than the empty model and that the interaction model may be the better fit.\n\n</div>"
    },
    {
      "cell_type": "markdown",
      "metadata": {
        "cell_id": "0b3afed330554e4cb4f404f6d48054eb",
        "deepnote_cell_type": "markdown"
      },
      "source": "<div class=\"alert alert-block alert-success\">\n\n### 3.0 - Approximate Time:  15-20 mins\n\n</div>"
    },
    {
      "cell_type": "markdown",
      "metadata": {
        "cell_id": "b8f8ebf5ef1647f88db4263f9339629f",
        "deepnote_cell_type": "markdown"
      },
      "source": "## 3.0 - Evaluate Models"
    },
    {
      "cell_type": "markdown",
      "metadata": {
        "cell_id": "302f684486c84361a9b7e5dbb405ce49",
        "deepnote_cell_type": "markdown"
      },
      "source": "3.1 - Evaluate your models and provide a rationalization for which model to retain: the empty model, the additive model, or the interaction model. Use statistics to back up your answer."
    },
    {
      "cell_type": "code",
      "execution_count": null,
      "metadata": {
        "cell_id": "2f5f98dc40cf4a2cb53c9fe8508c4169",
        "deepnote_cell_type": "code",
        "deepnote_to_be_reexecuted": false,
        "execution_millis": 59,
        "execution_start": 1685759381960,
        "output_cleared": true,
        "source_hash": "25b56365",
        "trusted": true
      },
      "outputs": [],
      "source": "# Sample Response\nadd_model <- lm(friends ~ sports + religiosity, data = time_use)\nsupernova(add_model)\n\nint_model <- lm(friends ~ sports * religiosity, data = time_use)\nsupernova(int_model)"
    },
    {
      "cell_type": "markdown",
      "metadata": {
        "cell_id": "a97d569353d243b3bfb7928067addb83",
        "deepnote_cell_type": "markdown"
      },
      "source": "<div class=\"alert alert-block alert-warning\">\n\n**Sample Response**\n\nBoth models have a p-value greater than .05, thus the empty model has a good chance of being the true model of the DGP, or, in other words, any differences we are seeing are likely due to random sampling variation, and not due to a true relationship among the variables in the DGP.\n\nIf the models *were* significant, the interaction model would probably be the model to retain over the empty model or additive model, because it has the higher F, the higher PRE, and the lower p-value.\n \n***Additive Model***\n- F = 0.72\n- PRE = .05\n- p-value = .50\n\n***Interaction Model***\n- F = 1.88\n- PRE = .17\n- p-value = .16\n\n> ***Interaction Row***\n- F = 4.04\n- PRE < .13\n- p-value = .054\n \n</div>"
    },
    {
      "cell_type": "markdown",
      "metadata": {
        "cell_id": "3408be8a5e4440519479ef6050d1df38",
        "deepnote_cell_type": "markdown"
      },
      "source": "3.2 - Summarize what you have discovered about how countries spend their time. "
    },
    {
      "cell_type": "markdown",
      "metadata": {
        "cell_id": "4e1ab260d4c545328151da7e3c70999d",
        "deepnote_cell_type": "markdown"
      },
      "source": "<div class=\"alert alert-block alert-warning\">\n\n**Sample Response**\n \nCountries spend an average of 50 minutes per day with friends. While the data suggested that more religious countries that spent more time playing sports tend to spend less time with friends, however, this result was not significant. Religiosity and time spent playing sports does not appear to make much difference in how much time people in countries spend with friends.\n \n</div>"
    }
  ],
  "metadata": {
    "deepnote_notebook_id": "a5df1b0324b14732bf1de4c99d0f1369",
    "kernelspec": {
      "display_name": "R",
      "language": "R",
      "name": "ir"
    },
    "language_info": {
      "codemirror_mode": "r",
      "file_extension": ".r",
      "mimetype": "text/x-r-source",
      "name": "R",
      "pygments_lexer": "r",
      "version": "4.3.3"
    },
    "nbsimplegrader": {
      "publish_config": {
        "classes": [],
        "options": [],
        "tools": []
      }
    }
  },
  "nbformat": 4,
  "nbformat_minor": 1
}