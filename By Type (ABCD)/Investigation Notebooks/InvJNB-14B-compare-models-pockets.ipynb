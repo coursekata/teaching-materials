{
  "cells": [
    {
      "cell_type": "markdown",
      "metadata": {
        "cell_id": "af1d6e5f26834f4e9d8f9ef3b1f11663",
        "deepnote_cell_type": "markdown",
        "tags": []
      },
      "source": "# 14B: The Pocket Gap"
    },
    {
      "cell_type": "code",
      "execution_count": null,
      "metadata": {
        "cell_id": "d66dd20bac7a4adab37dcccc4a1c3bbd",
        "deepnote_cell_type": "code",
        "deepnote_to_be_reexecuted": false,
        "execution_millis": 4831,
        "execution_start": 1685646093988,
        "source_hash": "fbc38b90",
        "tags": [],
        "trusted": true
      },
      "outputs": [],
      "source": "# This code will load the R packages we will use\nlibrary(coursekata)\n\n# read data\npockets <- read.csv(\"https://raw.githubusercontent.com/the-pudding/data/master/pockets/measurements.csv\")[,-9]\n"
    },
    {
      "cell_type": "markdown",
      "metadata": {
        "cell_id": "1201a95cabfe4b31b72a4f1bd42a2a66",
        "deepnote_cell_type": "markdown"
      },
      "source": "Today we are going to explore a functional need in our lives: the ability to keep our phones in our jeans.\n\n<img src=\"https://coursekata-course-assets.s3.us-west-1.amazonaws.com/UCLATALL/czi-stats-course/jnb_ChwwmXW1-image.png\">\n\nData Source: [Pudding article](https://pudding.cool/2018/08/pockets/)"
    },
    {
      "cell_type": "markdown",
      "metadata": {
        "cell_id": "9e3e68177b6a445ab1c02a87ca1ca7e8",
        "deepnote_cell_type": "markdown"
      },
      "source": "## 1.0: Does Your Phone Fit in Your Pocket?"
    },
    {
      "cell_type": "markdown",
      "metadata": {
        "cell_id": "9452ab446e8d4dd99a22615049dbff21",
        "deepnote_cell_type": "markdown"
      },
      "source": "**1.1:** If you were wearing jeans, which pocket would you put your phone in? Would you pay more for a pair of jeans that allowed you more space for your phone? How much more? "
    },
    {
      "cell_type": "markdown",
      "metadata": {
        "cell_id": "f65db4871fb5456aa71eb81000f0bc8a",
        "deepnote_cell_type": "markdown"
      },
      "source": "**1.2:** Take a look some of the variables in the data frame `pockets`. Because pockets are weird shapes, there are a few different ways we can measure them. \n\n<img src=\"https://coursekata-course-assets.s3.us-west-1.amazonaws.com/UCLATALL/czi-stats-course/jnb_V1BhJmkc-image.png\" width = 600>\n\nWhich of these variables would be a good outcome variable to maximize if we wanted to comfortably carry phones in jeans?"
    },
    {
      "cell_type": "markdown",
      "metadata": {
        "cell_id": "db0887ba6cec445b84749202656aa3f6",
        "deepnote_cell_type": "markdown"
      },
      "source": "**1.3:** Fashion designer Christian Dior allegedly said in 1954, “Men have pockets to keep things in, women for decoration.” Do you think there is a male bias for pocket size?\n"
    },
    {
      "cell_type": "markdown",
      "metadata": {
        "cell_id": "13da0b8c592f4bc5a3f1d3710cc7c7c8",
        "deepnote_cell_type": "markdown"
      },
      "source": "**1.4:** Might there be better or worse pockets for people who can afford them? Do you think pocket length might be related to the prices of the jeans?"
    },
    {
      "cell_type": "markdown",
      "metadata": {
        "cell_id": "a9e4caaf40c44ea590fa4134f7466735",
        "deepnote_cell_type": "markdown"
      },
      "source": "## 2.0: Explore the Inequality/Variation of Pockets"
    },
    {
      "cell_type": "markdown",
      "metadata": {
        "cell_id": "02ebc1e63a6a41e6aa44944cfb468649",
        "deepnote_cell_type": "markdown"
      },
      "source": "**2.1:** Perhaps pocket length is related to whether the jeans are intended for men or women as well as the price of the jeans. Write this multivariate hypothesis as a word equation. (Use the names of the variables from the `pockets` data frame.)"
    },
    {
      "cell_type": "markdown",
      "metadata": {
        "cell_id": "71cbdbccaec04e078bbbeb89ae259c4c",
        "deepnote_cell_type": "markdown"
      },
      "source": "**2.1:** Explore this hypothesis with a data visualization and describe any patterns you see."
    },
    {
      "cell_type": "markdown",
      "metadata": {
        "cell_id": "d6680fc84fa04e2080766c2003b1f9f9",
        "deepnote_cell_type": "markdown"
      },
      "source": "## 3.0: Model Variation in Pockets"
    },
    {
      "cell_type": "markdown",
      "metadata": {
        "cell_id": "5113445a88d74e0ab39dbd3ebbcab6b3",
        "deepnote_cell_type": "markdown"
      },
      "source": "**3.1:** Find the best fitting model for our hypothesis and interpret the parameter estimates."
    },
    {
      "cell_type": "markdown",
      "metadata": {
        "cell_id": "025fb80eb85640f9a5294fde566b88c4",
        "deepnote_cell_type": "markdown"
      },
      "source": "**3.2:** Add the model to the visualization you made."
    },
    {
      "cell_type": "markdown",
      "metadata": {
        "cell_id": "eb33c7cf4f6449b29dc48928b68a6218",
        "deepnote_cell_type": "markdown"
      },
      "source": "## 4.0: Evaluate Models"
    },
    {
      "cell_type": "markdown",
      "metadata": {
        "cell_id": "7cc404eba97f4e1a9e1cae747a1e7d74",
        "deepnote_cell_type": "markdown"
      },
      "source": "**4.1:** Using the ANOVA table, which explanatory variable seems more important in explaining the variation in pocket size? "
    },
    {
      "cell_type": "markdown",
      "metadata": {
        "cell_id": "104252f077994f93ad58aab4a8191644",
        "deepnote_cell_type": "markdown"
      },
      "source": "**4.2, Select:** One thing to note is that although PRE always stands for the *proportion reduction in error*, the three PREs in the ANOVA table indicate slightly different things in a multivariate model. Let's take some time to draw out what these PREs (and SSes) mean.\n\nWhich of these Venn diagrams depict the relationship seen in this data analysis?\n<img src=\"https://coursekata-course-assets.s3.us-west-1.amazonaws.com/UCLATALL/czi-stats-course/jnb_w9t7Hkkz-image.png\">"
    },
    {
      "cell_type": "markdown",
      "metadata": {
        "cell_id": "db739f032351407fa58fa608ae21e4ce",
        "deepnote_cell_type": "markdown"
      },
      "source": "**4.3:** Try calculating the PREs from the SS we see in the ANOVA table, and on the worksheet provided by your instructor, draw out each of the PREs on the three rows and label them."
    },
    {
      "cell_type": "markdown",
      "metadata": {
        "cell_id": "cb94850f7ab4443e964560af2602db3e",
        "deepnote_cell_type": "markdown"
      },
      "source": "**4.2:** From these four possible models, which would you reject? Which should be explored further?\n\n- the empty model of the DGP\n- the `menWomen` only model of the DGP\n- the `price` only model of the DGP\n- the full model of the DGP\n"
    }
  ],
  "metadata": {
    "deepnote_notebook_id": "5cd0f07e23bb48d39092f6b87daf6d56",
    "kernelspec": {
      "display_name": "R",
      "language": "R",
      "name": "ir"
    },
    "language_info": {
      "codemirror_mode": "r",
      "file_extension": ".r",
      "mimetype": "text/x-r-source",
      "name": "R",
      "pygments_lexer": "r",
      "version": "4.3.3"
    },
    "nbsimplegrader": {
      "publish_config": {
        "classes": [],
        "options": [],
        "tools": []
      }
    }
  },
  "nbformat": 4,
  "nbformat_minor": 1
}