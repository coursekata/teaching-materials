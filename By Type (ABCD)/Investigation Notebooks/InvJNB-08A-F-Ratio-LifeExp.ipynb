{
  "cells": [
    {
      "cell_type": "markdown",
      "metadata": {
        "cell_id": "b299889f35a848aba90d96f154e4364c",
        "deepnote_cell_type": "markdown",
        "tags": []
      },
      "source": "# 8A: Life Expectancies Around the World"
    },
    {
      "cell_type": "code",
      "execution_count": null,
      "metadata": {
        "cell_id": "0df55130d9604bb9b6587453661850c8",
        "deepnote_cell_type": "code",
        "deepnote_to_be_reexecuted": false,
        "execution_context_id": "63b03996-aa60-4270-b8d6-13dc3fdd8424",
        "execution_millis": 2158,
        "execution_start": 1742588835949,
        "output_cleared": false,
        "source_hash": "98fa19ba",
        "tags": [],
        "trusted": true
      },
      "outputs": [],
      "source": "# This code will load the R packages we will use\nsuppressPackageStartupMessages({\n    library(coursekata)\n})\n\n# Load the data\n\ncsvlink<-\"https://docs.google.com/spreadsheets/d/e/2PACX-1vRVo82UG25_Gq0zYVRXUZX5U4vSVcpdFZ_Pn-U-81kACXbDEE5JJx6D41cTxbYAci0HhOJDGpfHe_5H/pub?gid=1875103213&single=true&output=csv\"\n\nHappyPlanetIndexData <- read.csv(csvlink, header = TRUE) "
    },
    {
      "cell_type": "markdown",
      "metadata": {
        "cell_id": "b08c385abadf49d283290a67f1fe3eeb",
        "deepnote_cell_height": 426.4375,
        "deepnote_cell_type": "markdown",
        "tags": []
      },
      "source": "We'll be looking at a data set (collected in 2021) called the `HappyPlanetIndexData`. It has 147 countries and the following variables:\n\n- `Country`\tName of country\n- `Region` Comment: 1 - Latin America 2 - N America & Oceania 3-  Western Europe 4 - Middle East & N Africa 5 - Sub-Saharan Africa 6 - South Asia 7 - Eastern Europe & Central Asia 8 - East Asia\n- `Happiness` Score on a 0-10 scale for average level of happiness (10 being happiest)\n- `LifeExpectancy` Average life expectancy (in years)\n- `Footprint` Ecological footprint - a measure of the (per capita) ecological impact\n- `HPI`\tHappy Planet Index (0-100 scale) combines well-being and ecological impact\n- `HPIRank` HPI rank for the country\n- `GDPperCapita` Gross Domestic Product (per capita)\n- `Population` Population (in millions)"
    },
    {
      "cell_type": "markdown",
      "metadata": {
        "cell_id": "33031e88b5104561b4101c9e83b1d65d",
        "deepnote_cell_height": 97.140625,
        "deepnote_cell_type": "markdown",
        "tags": []
      },
      "source": "Last time we explored this data we looked at how different countries vary in their happiness levels. This time, let's use the information in this data to help us think about why countries vary in their life expectancies. "
    },
    {
      "cell_type": "markdown",
      "metadata": {
        "cell_id": "1cf700072fb845c1a194551390856676",
        "deepnote_cell_height": 69.96875,
        "deepnote_cell_type": "markdown",
        "tags": []
      },
      "source": "## 1.0 - Explore Variation in Life Expectancy"
    },
    {
      "cell_type": "markdown",
      "metadata": {
        "cell_id": "3614d5117e4a402697af0bff7a0b399d",
        "deepnote_cell_height": 52.359375,
        "deepnote_cell_type": "markdown",
        "tags": []
      },
      "source": "1.1 - Explore variation in life expectancy with a visualization. What do you notice?"
    },
    {
      "cell_type": "markdown",
      "metadata": {
        "cell_id": "8a8d61fff38e4fd1a1872f4ee149583f",
        "deepnote_cell_height": 97.140625,
        "deepnote_cell_type": "markdown",
        "tags": []
      },
      "source": "1.2 - One of the bits of information we have in this dataset is `GDPperCapita`. This is often used as a measure of \"how rich\" a country is. Using Google, try to find out: What is GDP? What is GDP per capita? What does this tell us? Why do you think it is used as a measure of wealth?"
    },
    {
      "cell_type": "markdown",
      "metadata": {
        "cell_id": "999be3632c4d4f2f9bf8955309fd8dfa",
        "deepnote_cell_height": 97.140625,
        "deepnote_cell_type": "markdown",
        "tags": []
      },
      "source": "1.3 - Do you think `GDPperCapita` can help us explain variation in `LifeExpectancy`? \nWhat do you think the relationship will look like? What will richer countries be like?\nPoorer countries? "
    },
    {
      "cell_type": "markdown",
      "metadata": {
        "cell_id": "70e08511a9404308969ce7b0c53b3311",
        "deepnote_cell_height": 52.359375,
        "deepnote_cell_type": "markdown",
        "tags": []
      },
      "source": "1.4 - Write this idea as a word equation."
    },
    {
      "cell_type": "markdown",
      "metadata": {
        "cell_id": "e3acab6b32794d14aebf3e42e8343fcc",
        "deepnote_cell_height": 74.75,
        "deepnote_cell_type": "markdown",
        "tags": []
      },
      "source": "1.5 - Predict what a visualization exploring this word equation will look like.\nThen make it. What do you notice?"
    },
    {
      "cell_type": "markdown",
      "metadata": {
        "cell_id": "5b8347834ef040e8bc464b43db0e0c0d",
        "deepnote_cell_height": 109.96875,
        "deepnote_cell_type": "markdown",
        "tags": []
      },
      "source": "## 2.0 - Explaining Variation in Life Expectancy with GDP"
    },
    {
      "cell_type": "markdown",
      "metadata": {
        "cell_id": "13cd6ef13d2446dcbd7571fce80438b7",
        "deepnote_cell_height": 97.140625,
        "deepnote_cell_type": "markdown",
        "tags": []
      },
      "source": "2.1 - So far we've learned about group models (models that predict how one group might\nhave a different outcome than another group). Can we create a group model of this hypothesis?\nWhy or why not? "
    },
    {
      "cell_type": "markdown",
      "metadata": {
        "cell_id": "997a54759b384993a7c1e6cc4d97141e",
        "deepnote_cell_height": 52.359375,
        "deepnote_cell_type": "markdown",
        "tags": []
      },
      "source": "2.2 - What will happen if we use `ntile()` to create groups? What kind of groups will it make?"
    },
    {
      "cell_type": "markdown",
      "metadata": {
        "cell_id": "84e7a9fe3dc14e4bbbf05a555b2d0cb9",
        "deepnote_cell_height": 684.46875,
        "deepnote_cell_type": "markdown",
        "tags": []
      },
      "source": "2.3 - Let's take a look at the scatterplot of GDP and life expectancy below.\n\n<img src=\"https://coursekata-course-assets.s3.us-west-1.amazonaws.com/UCLATALL/czi-stats-course/jnb_LifeExpGDPScatter.png\" title=\"scatterplot of life expectancy by GDP per capita\" width = 75% align=\"center\"/>\n\nIn the code below, we are going to color in the dots of this scatterplot with different colors. We've added this argument: `color = ~GDP2` to `gf_point()`.\n\nBefore you run the code, make a prediction about how the scatterplot will change. Which dots are going to have the same colors? How many colors will there be? "
    },
    {
      "cell_type": "code",
      "execution_count": null,
      "metadata": {
        "cell_id": "35d62ad0bf854e36bec01427b3cd0a0c",
        "deepnote_cell_type": "code",
        "deepnote_to_be_reexecuted": false,
        "execution_context_id": "e72f6809-fc8d-4575-95a8-743a2fc1a10c",
        "execution_millis": 249,
        "execution_start": 1734642255922,
        "output_cleared": false,
        "source_hash": "9b776f86",
        "tags": [],
        "trusted": true
      },
      "outputs": [],
      "source": "HappyPlanetIndexData$GDP2 <- ntile(HappyPlanetIndexData$GDPperCapita, 2)\nHappyPlanetIndexData$GDP2 <- factor(HappyPlanetIndexData$GDP2, levels = c(1,2), labels = c(\"low GDP\", \"high GDP\"))\ngf_point(LifeExpectancy ~ GDPperCapita, data = HappyPlanetIndexData, color = ~GDP2) "
    },
    {
      "cell_type": "markdown",
      "metadata": {
        "cell_id": "01405ffb0add4131a4dc1860dc7cc8fd",
        "deepnote_cell_height": 74.75,
        "deepnote_cell_type": "markdown",
        "tags": []
      },
      "source": "2.4 - Why are the dots on the right colored differently from the dots on the left? Why does it seem like the blue-ish dots are kind of a skinny/narrow group and the purple dots are a wider group?"
    },
    {
      "cell_type": "markdown",
      "metadata": {
        "cell_id": "9e34ff7e738d459f8c49549d6b7413c0",
        "deepnote_cell_height": 336.78125,
        "deepnote_cell_type": "markdown",
        "tags": []
      },
      "source": "2.5 - If we made a jitter plot of `LifeExpectancy` grouped by `GDP2`, which of these would it (roughly) look like? Why? (We also included some boxplots around the dots.)\n\n<img src=\"https://coursekata-course-assets.s3.us-west-1.amazonaws.com/UCLATALL/czi-stats-course/jnb_rVjZWg8m-7-C-Boxplots.png\" title=\"three choices: first group lower than second group, groups equal, first group higher than second group\" />"
    },
    {
      "cell_type": "markdown",
      "metadata": {
        "cell_id": "2c153130803848e5b937c5b6092309f1",
        "deepnote_cell_height": 52.359375,
        "deepnote_cell_type": "markdown",
        "tags": []
      },
      "source": "2.6 - What are some differences between the scatterplot and the jitter plot?"
    },
    {
      "cell_type": "markdown",
      "metadata": {
        "cell_id": "bcd9c5e29ffe4c04b1ac5fe748105a54",
        "deepnote_cell_height": 336.78125,
        "deepnote_cell_type": "markdown",
        "tags": []
      },
      "source": "2.7 - If we shuffled `LifeExpectancy` so it randomly relates to `GDP2`, which of these would most of the shuffled plots (roughly) look like?\n\n<img src=\"https://coursekata-course-assets.s3.us-west-1.amazonaws.com/UCLATALL/czi-stats-course/jnb_rVjZWg8m-7-C-Boxplots.png\" title=\"three choices: first group lower than second group, groups equal, first group higher than second group\" />"
    },
    {
      "cell_type": "markdown",
      "metadata": {
        "cell_id": "a25786d76247460ea4290e646c0af8fc",
        "deepnote_cell_height": 172.921875,
        "deepnote_cell_type": "markdown",
        "tags": []
      },
      "source": "2.8 - Based on exploring the data with visualizations, which model seems like it might be the \nbetter model of the Data Generating Process: \n\n- **LifeExpectancy = GDP2 + Error**\n- **LifeExpectancy = MEAN + Error**\n\nWhat makes you think that?"
    },
    {
      "cell_type": "markdown",
      "metadata": {
        "cell_id": "e39b02476a9f4b088814ad17e7df6f29",
        "deepnote_cell_height": 109.96875,
        "deepnote_cell_type": "markdown",
        "tags": []
      },
      "source": "## 3.0 - Modeling Variation in Life Expectancy with GDP2"
    },
    {
      "cell_type": "markdown",
      "metadata": {
        "cell_id": "3356d5d4b62949d88a8c0bad852704b6",
        "deepnote_cell_height": 52.359375,
        "deepnote_cell_type": "markdown",
        "tags": []
      },
      "source": "If we think the GDP2 model is better, the next question is *how much better*? "
    },
    {
      "cell_type": "markdown",
      "metadata": {
        "cell_id": "3861cb34b64d4fef86b77810ce618ece",
        "deepnote_cell_height": 74.75,
        "deepnote_cell_type": "markdown",
        "tags": []
      },
      "source": "3.1 - Find the best fitting GDP2 model (**LifeExpectancy = GDP2 + Error**). How much better is that\nmodel compared to the empty model (**LifeExpectancy = MEAN + Error**)?"
    },
    {
      "cell_type": "markdown",
      "metadata": {
        "cell_id": "ef61ba5712614277b10d201ec06e36f4",
        "deepnote_cell_height": 74.75,
        "deepnote_cell_type": "markdown",
        "tags": []
      },
      "source": "3.2 - Here's some code to chain on the predictions of this GDP2 model onto a jitter plot of the data. Write code to make predictions from the GDP2 model and save them as `GDP2_predict`."
    },
    {
      "cell_type": "code",
      "execution_count": null,
      "metadata": {
        "cell_id": "05d6bf1701cd47c0bb0e698f824638e7",
        "deepnote_cell_type": "code",
        "deepnote_to_be_reexecuted": false,
        "execution_millis": 7,
        "execution_start": 1676414029715,
        "output_cleared": false,
        "source_hash": "9c48ac2d",
        "tags": [],
        "trusted": true
      },
      "outputs": [],
      "source": "#HappyPlanetIndexData$GDP2_predict <- \n\n#gf_jitter(LifeExpectancy ~ GDP2, data = HappyPlanetIndexData, color = ~GDP2) %>%\n#gf_jitter(GDP2_predict ~ GDP2, color = \"darkorange\", height = 0)"
    },
    {
      "cell_type": "markdown",
      "metadata": {
        "cell_id": "452128e48b974468a5720522b82ea5bb",
        "deepnote_cell_height": 52.5625,
        "deepnote_cell_type": "markdown",
        "tags": []
      },
      "source": "3.3 - Where is $b_0$ and $b_1$ in this jitter plot?"
    },
    {
      "cell_type": "markdown",
      "metadata": {
        "cell_id": "531fbdf697e94eab8a5d41f9851c45d4",
        "deepnote_cell_height": 69.96875,
        "deepnote_cell_type": "markdown",
        "tags": []
      },
      "source": "## 4.0 - Will Three Groups be Better than Two?"
    },
    {
      "cell_type": "markdown",
      "metadata": {
        "cell_id": "16180e3b9d974624b4f16169f46d1839",
        "deepnote_cell_height": 97.140625,
        "deepnote_cell_type": "markdown",
        "tags": []
      },
      "source": "We can quantify *how much better* the GDP2 model is over the empty model. But, for now, it is hard for us to evaluate whether that is a lot of \"reduced error\" or not. We can use values like PRE to compare different kinds of models!  "
    },
    {
      "cell_type": "markdown",
      "metadata": {
        "cell_id": "353b111104fb4e059bc1d8fc31082345",
        "deepnote_cell_height": 74.75,
        "deepnote_cell_type": "markdown",
        "tags": []
      },
      "source": "4.1 - We've created a GDP2 model. Do you think a GDP3 model would explain more error? \nLess error? Make a prediction: How much more/less error?"
    },
    {
      "cell_type": "markdown",
      "metadata": {
        "cell_id": "f5f8f1e2e9864fb59e84697b10fbefbd",
        "deepnote_cell_height": 52.359375,
        "deepnote_cell_type": "markdown",
        "tags": []
      },
      "source": "4.2 - Here we have copied the code used to make `GDP2`. Modify the code to make `GDP3`."
    },
    {
      "cell_type": "code",
      "execution_count": null,
      "metadata": {
        "cell_id": "fdab7745216e4791b9f1be3f09d32a01",
        "deepnote_cell_type": "code",
        "deepnote_to_be_reexecuted": false,
        "execution_context_id": "e72f6809-fc8d-4575-95a8-743a2fc1a10c",
        "execution_millis": 10,
        "execution_start": 1734642382994,
        "source_hash": "855b818e",
        "tags": [],
        "trusted": true
      },
      "outputs": [],
      "source": "HappyPlanetIndexData$GDP3 <- ntile(HappyPlanetIndexData$GDPperCapita, 3)\nHappyPlanetIndexData$GDP3 <- factor(HappyPlanetIndexData$GDP3, levels = c(1,2,3), labels = c(\"low GDP\", \"medium GDP\", \"high GDP\"))"
    },
    {
      "cell_type": "markdown",
      "metadata": {
        "cell_id": "34bc84ce4b8541dba6a93b03f50fe1db",
        "deepnote_cell_height": 662.078125,
        "deepnote_cell_type": "markdown",
        "tags": []
      },
      "source": "4.3 - Let's take a look at the original scatterplot again.\n\n<img src=\"https://coursekata-course-assets.s3.us-west-1.amazonaws.com/UCLATALL/czi-stats-course/jnb_LifeExpGDPScatter.png\" title=\"scatterplot of life expectancy by GDP per capita\" width = 75% align=\"center\"/>\n\nWhere will `GDP3` split up the groups? Try coloring the dots by `GDP3` in the scatterplot below.\n\nWill the three groups vary less on life expectancy compared to the two groups created in the GDP2 model?"
    },
    {
      "cell_type": "code",
      "execution_count": null,
      "metadata": {
        "cell_id": "4fb26bc55c29493b833f9634e28325dd",
        "deepnote_cell_type": "code",
        "deepnote_to_be_reexecuted": false,
        "execution_context_id": "e72f6809-fc8d-4575-95a8-743a2fc1a10c",
        "execution_millis": 137,
        "execution_start": 1734642390430,
        "source_hash": "dc4283c0",
        "tags": [],
        "trusted": true
      },
      "outputs": [],
      "source": "gf_point(LifeExpectancy ~ GDPperCapita, data = HappyPlanetIndexData) "
    },
    {
      "cell_type": "markdown",
      "metadata": {
        "cell_id": "85c0c15702be47679cb7ced5e8f3cc4d",
        "deepnote_cell_height": 74.75,
        "deepnote_cell_type": "markdown",
        "tags": []
      },
      "source": "4.4 - What will a jitter plot of `LifeExpectancy` by `GDP3` look like? Describe the pattern. Then try making it with R."
    },
    {
      "cell_type": "markdown",
      "metadata": {
        "cell_id": "30c114af24ec4e7d9822f8b1788e71fa",
        "deepnote_cell_height": 74.75,
        "deepnote_cell_type": "markdown",
        "tags": []
      },
      "source": "4.5 - Based on your visualizations, do you think the GDP3 model will have more or less error than the GDP2 model? Will it have a bigger or smaller PRE? SS Model? SS Error? SS Total?"
    },
    {
      "cell_type": "markdown",
      "metadata": {
        "cell_id": "7a446efd2603411bac71badd5dcdde35",
        "deepnote_cell_height": 109.96875,
        "deepnote_cell_type": "markdown",
        "tags": []
      },
      "source": "## 5.0 - Modeling Variation in Life Expectancy with GDP3"
    },
    {
      "cell_type": "markdown",
      "metadata": {
        "cell_id": "7081349a121f4d559e5c4a906010d331",
        "deepnote_cell_height": 74.75,
        "deepnote_cell_type": "markdown",
        "tags": []
      },
      "source": "5.1 - Find the best fitting GDP3 model (**LifeExpectancy = GDP3 + Error**). How much better is that\nmodel compared to the empty model (**LifeExpectancy = MEAN + Error**)?"
    },
    {
      "cell_type": "markdown",
      "metadata": {
        "cell_id": "d1bd312989304f48a42f98738bec2f60",
        "deepnote_cell_height": 52.359375,
        "deepnote_cell_type": "markdown",
        "tags": []
      },
      "source": "5.2 - Is the best fitting GDP3 model better than the GDP2 model? What makes you think that?"
    },
    {
      "cell_type": "markdown",
      "metadata": {
        "cell_id": "c2e5cb3ca850406da2f9f2c46d05bbd0",
        "deepnote_cell_height": 52.359375,
        "deepnote_cell_type": "markdown",
        "tags": []
      },
      "source": "5.3 - Put the predictions of the GDP3 model onto this jitter plot. "
    },
    {
      "cell_type": "code",
      "execution_count": null,
      "metadata": {
        "cell_id": "25e5b9c9ff2d47f4b8a195d84e44c0f8",
        "deepnote_cell_type": "code",
        "deepnote_to_be_reexecuted": false,
        "execution_context_id": "e72f6809-fc8d-4575-95a8-743a2fc1a10c",
        "execution_millis": 128,
        "execution_start": 1734642400810,
        "source_hash": "7b83ef14",
        "tags": [],
        "trusted": true
      },
      "outputs": [],
      "source": "gf_jitter(LifeExpectancy ~ GDP3, data = HappyPlanetIndexData) "
    },
    {
      "cell_type": "markdown",
      "metadata": {
        "cell_id": "5c892ce684c246bb93a48e86d664aa1c",
        "deepnote_cell_height": 74.75,
        "deepnote_cell_type": "markdown",
        "tags": []
      },
      "source": "5.4 -  What does the model predict for a low GDP country? How about a mid GDP or high GDP country? "
    },
    {
      "cell_type": "markdown",
      "metadata": {
        "cell_id": "e14f56e998a84e29ac092bbeadcb3589",
        "deepnote_cell_height": 74.953125,
        "deepnote_cell_type": "markdown",
        "tags": []
      },
      "source": "5.5 - What does $b_0$ tell us? How about $b_1$ and $b_2$? What part of the graph corresponds to these numbers?"
    },
    {
      "cell_type": "markdown",
      "metadata": {
        "cell_id": "d6c82b4210b248dba975050bed4343f9",
        "deepnote_cell_height": 69.96875,
        "deepnote_cell_type": "markdown",
        "tags": []
      },
      "source": "## 6.0 - A Ridiculous Model"
    },
    {
      "cell_type": "markdown",
      "metadata": {
        "cell_id": "76c0883c8e6041a9ad545c57c5809118",
        "deepnote_cell_height": 74.75,
        "deepnote_cell_type": "markdown",
        "tags": []
      },
      "source": "Now let's make a complex model that has 145 groups (note, there are only 147 countries in this data set) so almost every country gets to be their own group."
    },
    {
      "cell_type": "code",
      "execution_count": null,
      "metadata": {
        "cell_id": "ef6427ea434e4f73a6588f50043e85fa",
        "deepnote_cell_type": "code",
        "deepnote_to_be_reexecuted": false,
        "execution_context_id": "63b03996-aa60-4270-b8d6-13dc3fdd8424",
        "execution_millis": 1,
        "execution_start": 1742588857339,
        "output_cleared": false,
        "source_hash": "a30cb42d",
        "tags": [],
        "trusted": true
      },
      "outputs": [],
      "source": "HappyPlanetIndexData$GDP145 <- ntile(HappyPlanetIndexData$GDPperCapita, 145)\nHappyPlanetIndexData$GDP145 <- as.factor(HappyPlanetIndexData$GDP145)"
    },
    {
      "cell_type": "markdown",
      "metadata": {
        "cell_id": "010ac4eef7c34c5997ac7cb3ff2e797b",
        "deepnote_cell_height": 52.359375,
        "deepnote_cell_type": "markdown",
        "tags": []
      },
      "source": "6.1 - Check out the jitter plot below. All the dots are a slightly different color. Why?"
    },
    {
      "cell_type": "code",
      "execution_count": null,
      "metadata": {
        "cell_id": "b052d147f2324032b6bdf91a0bf20b87",
        "deepnote_cell_type": "code",
        "deepnote_to_be_reexecuted": false,
        "execution_context_id": "63b03996-aa60-4270-b8d6-13dc3fdd8424",
        "execution_millis": 266,
        "execution_start": 1742588886839,
        "output_cleared": false,
        "source_hash": "7103ccb",
        "tags": [],
        "trusted": true
      },
      "outputs": [],
      "source": "gf_jitter(LifeExpectancy ~ GDP145, data = HappyPlanetIndexData, color = ~GDP145, show.legend = FALSE)  +  \n    scale_color_hue(l=50, c=75)"
    },
    {
      "cell_type": "markdown",
      "metadata": {
        "cell_id": "63a1de03b47f4c73a5ac669a11303b08",
        "deepnote_cell_height": 111.34375,
        "deepnote_cell_type": "markdown",
        "tags": []
      },
      "source": "6.2 - Here we have created a model. How many more parameter estimates (the $b$s) will it have compared to the empty model? \n\nAlso, try to find that number in the `supernova` table. Where does it appear?"
    },
    {
      "cell_type": "code",
      "execution_count": null,
      "metadata": {
        "cell_id": "982a800bf917480f912a30d5b3db16d0",
        "deepnote_cell_type": "code",
        "deepnote_to_be_reexecuted": false,
        "execution_context_id": "63b03996-aa60-4270-b8d6-13dc3fdd8424",
        "execution_millis": 16,
        "execution_start": 1742588876425,
        "output_cleared": false,
        "source_hash": "850b415a",
        "tags": [],
        "trusted": true
      },
      "outputs": [],
      "source": "GDP145_model <- lm(LifeExpectancy ~ GDP145, data = HappyPlanetIndexData)"
    },
    {
      "cell_type": "markdown",
      "metadata": {
        "cell_id": "261c6b3995744e04994e4b29b36015c9",
        "deepnote_cell_height": 74.75,
        "deepnote_cell_type": "markdown",
        "tags": []
      },
      "source": "6.3 - We have placed the predictions of the GDP145 model on the jitter plot below. Why is it that the rainbow dots are now all covered by dark orange dots?"
    },
    {
      "cell_type": "code",
      "execution_count": null,
      "metadata": {
        "cell_id": "eec69a71a55243ca87265bbd1e2faddf",
        "deepnote_cell_type": "code",
        "deepnote_to_be_reexecuted": false,
        "execution_context_id": "63b03996-aa60-4270-b8d6-13dc3fdd8424",
        "execution_millis": 276,
        "execution_start": 1742588878945,
        "output_cleared": false,
        "source_hash": "ffd23c23",
        "tags": [],
        "trusted": true
      },
      "outputs": [],
      "source": "HappyPlanetIndexData$GDP145_predict <- predict(GDP145_model)\n\ngf_jitter(LifeExpectancy ~ GDP145, data = HappyPlanetIndexData, color = ~GDP145, show.legend = FALSE) %>%\n    gf_jitter(GDP145_predict ~ GDP145, color = \"darkorange\") +  \n    scale_color_hue(l=50, c=75)"
    },
    {
      "cell_type": "markdown",
      "metadata": {
        "cell_id": "ac5afc976b21431789e77d1b6967941b",
        "deepnote_cell_height": 69.96875,
        "deepnote_cell_type": "markdown",
        "tags": []
      },
      "source": "## 7.0 - Comparing Models and the F Ratio"
    },
    {
      "cell_type": "markdown",
      "metadata": {
        "cell_id": "5b15d3f18403475891fb5cf55d9ba318",
        "deepnote_cell_height": 74.75,
        "deepnote_cell_type": "markdown",
        "tags": []
      },
      "source": "7.1 - Of all the models we looked at today (GDP2, GDP3, GDP145), which model is \"better\"? \nWhy is it better? "
    },
    {
      "cell_type": "markdown",
      "metadata": {
        "cell_id": "d8f36d739fa248098ebe4e7fc6c21efd",
        "deepnote_cell_height": 52.359375,
        "deepnote_cell_type": "markdown",
        "tags": []
      },
      "source": "7.2 - Judging by PRE, which model is better? Judging by F, which model is better?"
    },
    {
      "cell_type": "markdown",
      "metadata": {
        "cell_id": "bfc3d7da2224427d93a8187cbc5e35dd",
        "deepnote_cell_height": 52.359375,
        "deepnote_cell_type": "markdown",
        "tags": []
      },
      "source": "7.3 - Why does F penalize the GDP145 model?"
    },
    {
      "cell_type": "markdown",
      "metadata": {
        "cell_id": "8cfcf8fb050945559949c37bfab93058",
        "deepnote_cell_height": 97.140625,
        "deepnote_cell_type": "markdown",
        "tags": []
      },
      "source": "7.4 - Some countries are missing from this data. If I told you about a relatively rich country\nthat is not in the data set, which model would be most useful in generating a prediction of their\nlife expectancy? Why?"
    },
    {
      "cell_type": "markdown",
      "metadata": {
        "cell_id": "02c90d3640c44f80a34b43b5104aa664",
        "deepnote_cell_height": 52.359375,
        "deepnote_cell_type": "markdown",
        "tags": []
      },
      "source": "7.5 - Are models with a high PRE always better? Why or why not?"
    }
  ],
  "metadata": {
    "deepnote_notebook_id": "22f51bc00b434f72a3a0e770a5169f50",
    "kernelspec": {
      "display_name": "R",
      "language": "R",
      "name": "ir"
    },
    "language_info": {
      "codemirror_mode": "r",
      "file_extension": ".r",
      "mimetype": "text/x-r-source",
      "name": "R",
      "pygments_lexer": "r",
      "version": "4.3.3"
    },
    "nbsimplegrader": {
      "publish_config": {
        "classes": [],
        "options": {},
        "tools": []
      }
    }
  },
  "nbformat": 4,
  "nbformat_minor": 1
}