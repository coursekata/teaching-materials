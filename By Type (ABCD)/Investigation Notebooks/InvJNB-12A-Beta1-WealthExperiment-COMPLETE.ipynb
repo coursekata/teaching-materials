{
  "cells": [
    {
      "cell_type": "markdown",
      "metadata": {
        "cell_id": "da9b1656e6a74f69a384edb469ebc2dd",
        "deepnote_cell_type": "markdown",
        "nbsimplegrader": {
          "config_key": "markdown.view-only",
          "editable": false,
          "label": "Markdown: View-Only",
          "respondable": false,
          "response": null,
          "runnable": false,
          "type": "markdown"
        },
        "output_cleared": false
      },
      "source": "<div class=\"alert alert-block alert-danger\">\n\n# 12A: Does feeling rich make you act like a jerk? (COMPLETE)\n\n**Use with textbook version 6.0+** \n\n**Lesson assumes students have read up through page: 12.3**\n\n</div>"
    },
    {
      "cell_type": "markdown",
      "metadata": {
        "cell_id": "e251886f9e004ab29b9a894920c0d41e",
        "deepnote_cell_height": 163.9375,
        "deepnote_cell_type": "markdown",
        "tags": []
      },
      "source": "<div class=\"alert alert-block alert-success\">\n\n## Approximate time to complete Notebook: 45-60 Mins\n    \n</div>"
    },
    {
      "cell_type": "code",
      "execution_count": null,
      "metadata": {
        "cell_id": "c970924a187d401c80de3630d4397139",
        "deepnote_cell_type": "code",
        "deepnote_to_be_reexecuted": false,
        "execution_millis": 5848,
        "execution_start": 1685488418725,
        "nbsimplegrader": {
          "config_key": "code.run-only",
          "editable": false,
          "label": "Code: Run-Only",
          "respondable": false,
          "response": null,
          "runnable": true,
          "type": "code"
        },
        "output_cleared": false,
        "source_hash": "6216b189",
        "trusted": true
      },
      "outputs": [],
      "source": "# Load the CourseKata library\nsuppressPackageStartupMessages({\n    library(coursekata)\n})\n\nwealth_exp <- read.csv(\"https://docs.google.com/spreadsheets/d/e/2PACX-1vQpi4lozw4HVukSQqVnZ3PXTNnopxjd5MOUqQsAb2xq5k9SEVJRE5-38cZhYO-hG56PAJ1aBU4E0Ea3/pub?gid=1003006004&single=true&output=csv\", header = TRUE)\nwealth_exp$relative_class <- factor(wealth_exp$relative_class)"
    },
    {
      "cell_type": "markdown",
      "metadata": {
        "cell_id": "fa55b1859f194a5099d5bcbc653cc8a3",
        "deepnote_cell_height": 568.34375,
        "deepnote_cell_type": "markdown",
        "output_cleared": false,
        "tags": []
      },
      "source": "UCI Professor Paul Piff and his colleagues conducted an experiment (Experiment 4 in [this paper](https://www.pnas.org/content/109/11/4086)). He recruited male and female college students who were 18-22 years old. He randomly assigned participants to **feel** like they were higher or lower in class. \n\n<img src=\"https://coursekata-course-assets.s3.us-west-1.amazonaws.com/UCLATALL/czi-stats-course/jnb_vb6kMgvX-10-A-Mindset-Priming.png\" title=\"method of random assignment\" />\n\nAfter this priming phase, participants were asked to:\n\n1. Rank themselves on a social hierarchy\n2. Fill out a questionnaire measuring unethical decision-making tendencies\n3. Finally, participants were thanked and a jar of candies was presented (they were told the candies were for children) and the number of candies that the participants took was recorded. "
    },
    {
      "cell_type": "markdown",
      "metadata": {
        "cell_id": "adbdc1f2f04d47739f9f465cd18ff96c",
        "deepnote_cell_height": 115.9375,
        "deepnote_cell_type": "markdown",
        "tags": []
      },
      "source": "<div class=\"alert alert-block alert-success\">\n\n### 1.0 - Approximate Time: 3-5 mins\n    \n</div>"
    },
    {
      "cell_type": "markdown",
      "metadata": {
        "cell_id": "b24bb24308fb4a228b9d1c08636724d4",
        "deepnote_cell_height": 69.96875,
        "deepnote_cell_type": "markdown",
        "output_cleared": false,
        "tags": []
      },
      "source": "## 1.0 - The Data"
    },
    {
      "cell_type": "markdown",
      "metadata": {
        "cell_id": "e732dcbcdca14db59edaedc92d0c4f01",
        "deepnote_cell_height": 74.75,
        "deepnote_cell_type": "markdown",
        "output_cleared": false,
        "tags": []
      },
      "source": "1.1 - Take a look at the data (already preloaded as `wealth_exp` for wealth experiment). Any questions about the variables or what they mean?"
    },
    {
      "cell_type": "code",
      "execution_count": null,
      "metadata": {
        "cell_id": "67a12e92cb564c9c91a4fc1e7e7e3eff",
        "deepnote_cell_type": "code",
        "deepnote_to_be_reexecuted": false,
        "execution_millis": 28,
        "execution_start": 1685488424593,
        "output_cleared": false,
        "source_hash": "13704f8d",
        "tags": [],
        "trusted": true
      },
      "outputs": [],
      "source": "# Look at the data\nhead(wealth_exp)\nstr(wealth_exp)"
    },
    {
      "cell_type": "markdown",
      "metadata": {
        "cell_id": "5e6a9a0af5794c46b6ca40350f074395",
        "deepnote_cell_height": 74.75,
        "deepnote_cell_type": "markdown",
        "output_cleared": false,
        "tags": []
      },
      "source": "1.2 - Professor Piff predicted that making people feel like they were high class would affect their candy taking. Write this hypothesis as a word equation."
    },
    {
      "cell_type": "markdown",
      "metadata": {
        "cell_id": "d8e0e551c3d141b28f06d9587bf65c02",
        "deepnote_cell_height": 140.71875,
        "deepnote_cell_type": "markdown",
        "tags": []
      },
      "source": "<div class=\"alert alert-block alert-warning\">\n\n**Sample Response**\n\nCANDIES = RELATIVE CLASS + OTHER STUFF\n    \n</div>"
    },
    {
      "cell_type": "markdown",
      "metadata": {
        "cell_id": "96c70305f9804c24a80337168e15745c",
        "deepnote_cell_height": 115.9375,
        "deepnote_cell_type": "markdown",
        "tags": []
      },
      "source": "<div class=\"alert alert-block alert-success\">\n\n### 2.0 - Approximate Time:  5-8 mins\n    \n</div>"
    },
    {
      "cell_type": "markdown",
      "metadata": {
        "cell_id": "235fe75c1938448fb5481a54f1106027",
        "deepnote_cell_height": 69.96875,
        "deepnote_cell_type": "markdown",
        "output_cleared": false,
        "tags": []
      },
      "source": "## 2.0 - Explore Variation"
    },
    {
      "cell_type": "markdown",
      "metadata": {
        "cell_id": "bac83bbb40a347a89caf0bbd561689a1",
        "deepnote_cell_height": 74.75,
        "deepnote_cell_type": "markdown",
        "output_cleared": false,
        "tags": []
      },
      "source": "2.1 - Explore this hypothesis with a visualization. What do you think of this hypothesis from the data that you see?"
    },
    {
      "cell_type": "code",
      "execution_count": null,
      "metadata": {
        "cell_id": "58d1931d8a63438fb6335fbf2ddd4610",
        "deepnote_cell_type": "code",
        "deepnote_to_be_reexecuted": false,
        "execution_millis": 232,
        "execution_start": 1685488424623,
        "output_cleared": false,
        "source_hash": "ebe9cf20",
        "tags": [],
        "trusted": true
      },
      "outputs": [],
      "source": "gf_jitter(candies ~ relative_class, data = wealth_exp, width = .1, height = .3, size = 3, alpha = .5)"
    },
    {
      "cell_type": "markdown",
      "metadata": {
        "cell_id": "e05da4dffb86448096157836aa997f50",
        "deepnote_cell_height": 185.515625,
        "deepnote_cell_type": "markdown",
        "tags": []
      },
      "source": "<div class=\"alert alert-block alert-warning\">\n\n**Sample Response**\n\n*Students may observe that they look kind of similar, but that some of the highest numbers are in the upper-class group, and that the lower class group has a bit more of the values clustered at zero.*\n    \n</div>"
    },
    {
      "cell_type": "markdown",
      "metadata": {
        "cell_id": "638c4f4ca4074b7b99810572e188c427",
        "deepnote_cell_height": 97.140625,
        "deepnote_cell_type": "markdown",
        "output_cleared": false,
        "tags": []
      },
      "source": "2.2 - Could we have gotten data that looks like this if there wasn't really a difference in candy-taking in the Data Generating Process? How would we represent this DGP as a word equation? (Could we try it in R somehow?)"
    },
    {
      "cell_type": "markdown",
      "metadata": {
        "cell_id": "6013d1d563774cdebf7d514095a7bebb",
        "deepnote_cell_height": 235.90625,
        "deepnote_cell_type": "markdown",
        "tags": []
      },
      "source": "<div class=\"alert alert-block alert-warning\">\n\n**Sample Response**\n\nYes, we could get an outcome like this even if there wasn't really a difference.\n\nWord Eqauation: candies = mean + error; candies = other stuff\n\nWe could try it in R by using `shuffle()` to randomize the variables and remove any relationship that may exist.\n    \n</div>"
    },
    {
      "cell_type": "markdown",
      "metadata": {
        "cell_id": "a6e21252111d49f29328bf8f781381a4",
        "deepnote_cell_height": 115.9375,
        "deepnote_cell_type": "markdown",
        "tags": []
      },
      "source": "<div class=\"alert alert-block alert-success\">\n\n### 3.0 - Approximate Time: 5-8 mins\n    \n</div>"
    },
    {
      "cell_type": "markdown",
      "metadata": {
        "cell_id": "804e4eeeff75468c8a9a556cb4b9ea03",
        "deepnote_cell_height": 69.96875,
        "deepnote_cell_type": "markdown",
        "output_cleared": false,
        "tags": []
      },
      "source": "## 3.0 - Model Variation"
    },
    {
      "cell_type": "markdown",
      "metadata": {
        "cell_id": "5e9af7e9d941439cb47250ce2d96fa76",
        "deepnote_cell_height": 111.34375,
        "deepnote_cell_type": "markdown",
        "output_cleared": false,
        "tags": []
      },
      "source": "3.1 - What's the best fitting model of this hypothesis? Specify and fit a formal model (in GLM format). \n\n$$Y_i = ... + e_i$$"
    },
    {
      "cell_type": "code",
      "execution_count": null,
      "metadata": {
        "cell_id": "3ec821115e8142b3bbf9feccb66f5515",
        "deepnote_cell_type": "code",
        "deepnote_to_be_reexecuted": false,
        "execution_millis": 12,
        "execution_start": 1685488424853,
        "output_cleared": false,
        "source_hash": "c5df12c4",
        "tags": [],
        "trusted": true
      },
      "outputs": [],
      "source": "# Fit the model with lm()\nrel_class_model <- lm(candies ~ relative_class, data = wealth_exp)\nrel_class_model"
    },
    {
      "cell_type": "markdown",
      "metadata": {
        "cell_id": "821e860595f543b78940520710159759",
        "deepnote_cell_height": 140.9375,
        "deepnote_cell_type": "markdown",
        "tags": []
      },
      "source": "<div class=\"alert alert-block alert-warning\">\n\n**Sample Response**\n\n$candies_i = 0.64 + 0.47(relativeclass_i) + e_i$\n    \n</div>"
    },
    {
      "cell_type": "markdown",
      "metadata": {
        "cell_id": "d3cf4e49a3444ee1bba767e5db1396ff",
        "deepnote_cell_height": 52.359375,
        "deepnote_cell_type": "markdown",
        "output_cleared": false,
        "tags": []
      },
      "source": "3.2 - Interpret the best fitting estimates in your model  by connecting it to the visualization below."
    },
    {
      "cell_type": "code",
      "execution_count": null,
      "metadata": {
        "cell_id": "9155af2bcca24d19a45ae36f5b05965f",
        "deepnote_cell_type": "code",
        "deepnote_to_be_reexecuted": false,
        "execution_millis": 189,
        "execution_start": 1685488424866,
        "output_cleared": false,
        "source_hash": "d89132a1",
        "tags": [],
        "trusted": true
      },
      "outputs": [],
      "source": "gf_jitter(candies ~ relative_class, data = wealth_exp, width = .1, height = .3, size = 3, alpha = .5) %>%\n    gf_model(candies ~ relative_class, data = wealth_exp)"
    },
    {
      "cell_type": "markdown",
      "metadata": {
        "cell_id": "0b06fd20028040a6827683af05446385",
        "deepnote_cell_height": 258.90625,
        "deepnote_cell_type": "markdown",
        "tags": []
      },
      "source": "<div class=\"alert alert-block alert-warning\">\n\n**Sample Response**\n\nThe $b_0$ estimate is 0.64. This means that those in the lower-class group took about 0.64 candies on average.\n\nThe $b_1$ estimate is 0.47. This means that those in the upper-class group took about 0.47 more candies on average than the lower-class group.\n\n$b_1$ is the distance between the mean of the lower-class group and the upper-class group.\n    \n</div>"
    },
    {
      "cell_type": "markdown",
      "metadata": {
        "cell_id": "7dc39b3eb4e0487a9ab5159cf473dca1",
        "deepnote_cell_height": 52.359375,
        "deepnote_cell_type": "markdown",
        "output_cleared": false,
        "tags": []
      },
      "source": "3.3 - Is your model better than the empty model? How much better?"
    },
    {
      "cell_type": "code",
      "execution_count": null,
      "metadata": {
        "cell_id": "c592ae73738f4637b4a2524cd362554b",
        "deepnote_cell_type": "code",
        "deepnote_to_be_reexecuted": false,
        "execution_millis": 23,
        "execution_start": 1685488425054,
        "output_cleared": false,
        "source_hash": "3218f22d",
        "tags": [],
        "trusted": true
      },
      "outputs": [],
      "source": "# Look at the supernova() table for the model\nsupernova(rel_class_model)"
    },
    {
      "cell_type": "markdown",
      "metadata": {
        "cell_id": "86416d7443734133bdbe1bfd6845d563",
        "deepnote_cell_height": 163.125,
        "deepnote_cell_type": "markdown",
        "tags": []
      },
      "source": "<div class=\"alert alert-block alert-warning\">\n\n**Sample Response**\n\nThis model is better than the empty model because, according to the PRE, it explains about 7.5% more of the variation in candy taking than the empty model.\n    \n</div>"
    },
    {
      "cell_type": "markdown",
      "metadata": {
        "cell_id": "80d41c89915a45759b95bee5ef2d9575",
        "deepnote_cell_height": 115.9375,
        "deepnote_cell_type": "markdown",
        "tags": []
      },
      "source": "<div class=\"alert alert-block alert-success\">\n\n### 4.0 - Approximate Time: 8-10 mins\n    \n</div>"
    },
    {
      "cell_type": "markdown",
      "metadata": {
        "cell_id": "3e44fd3920a74579b52f478e65d0b0af",
        "deepnote_cell_height": 69.96875,
        "deepnote_cell_type": "markdown",
        "output_cleared": false,
        "tags": []
      },
      "source": "## 4.0 - Estimating the DGP"
    },
    {
      "cell_type": "markdown",
      "metadata": {
        "cell_id": "c194bcf9b34b418c85bb0e3be11dcfce",
        "deepnote_cell_height": 111.34375,
        "deepnote_cell_type": "markdown",
        "output_cleared": false,
        "tags": []
      },
      "source": "4.1 - Is it possible that there is no difference between these two groups in the DGP? If so, how would we represent that in GLM format?\n\n$$Y_i = \\beta_0 + \\beta_1 X_i + \\epsilon_i$$"
    },
    {
      "cell_type": "markdown",
      "metadata": {
        "cell_id": "d5aaad10bb2549b2a81863f6b6c736ca",
        "deepnote_cell_height": 213.71875,
        "deepnote_cell_type": "markdown",
        "tags": []
      },
      "source": "<div class=\"alert alert-block alert-warning\">\n\n**Sample Response**\n\nYes, it is possible that there is no difference between these two groups in the DGP.\n\nWe could represent that as follows:\n\n$$candies_i = \\beta_0 + 0 (relative class_i) + \\epsilon_i$$\n    \n</div>"
    },
    {
      "cell_type": "markdown",
      "metadata": {
        "cell_id": "f1295b3820b347188ff8159621208112",
        "deepnote_cell_height": 88.953125,
        "deepnote_cell_type": "markdown",
        "output_cleared": false,
        "tags": []
      },
      "source": "4.2 - What is the best point estimate of the DGP from this data? \n\n$$Y_i = \\beta_0 + \\beta_1 X_i + \\epsilon_i$$"
    },
    {
      "cell_type": "code",
      "execution_count": null,
      "metadata": {
        "cell_id": "deabf792d4df457888556818de8a0395",
        "deepnote_cell_type": "code",
        "deepnote_to_be_reexecuted": false,
        "execution_millis": 11,
        "execution_start": 1685488425078,
        "output_cleared": false,
        "source_hash": "c7bcab70",
        "tags": [],
        "trusted": true
      },
      "outputs": [],
      "source": "# New function: b1()\n\nsample_b1 <- b1(candies ~ relative_class, data = wealth_exp)\nsample_b1"
    },
    {
      "cell_type": "markdown",
      "metadata": {
        "cell_id": "3e0a98b7bd294d6b85f8a4427f2378e3",
        "deepnote_cell_height": 163.328125,
        "deepnote_cell_type": "markdown",
        "tags": []
      },
      "source": "<div class=\"alert alert-block alert-warning\">\n\n**Sample Response**\n\nThe best point estimate of the DGP from this sample of data is 0.47 ($b_1$), meaning the \neffect of relative class is that it increases the number of candies taken by 0.47 candies.\n    \n</div>"
    },
    {
      "cell_type": "markdown",
      "metadata": {
        "cell_id": "623d1681786c41c7beb13290fc53d81f",
        "deepnote_cell_height": 52.5625,
        "deepnote_cell_type": "markdown",
        "output_cleared": false,
        "tags": []
      },
      "source": "4.3 - Could the $\\beta_1$ in the DGP be a different number than the number above? What else could it be? "
    },
    {
      "cell_type": "markdown",
      "metadata": {
        "cell_id": "3ec72c27262c4da698cd1edb2d365c5a",
        "deepnote_cell_height": 140.9375,
        "deepnote_cell_type": "markdown",
        "tags": []
      },
      "source": "<div class=\"alert alert-block alert-warning\">\n\n**Sample Response**\n\nYes, the $\\beta_1$ could be a different number. It could be a range of unknown numbers.\n    \n</div>"
    },
    {
      "cell_type": "markdown",
      "metadata": {
        "cell_id": "2d6943791c7a45f09e109de622c51786",
        "deepnote_cell_height": 115.9375,
        "deepnote_cell_type": "markdown",
        "tags": []
      },
      "source": "<div class=\"alert alert-block alert-success\">\n\n### 5.0 - Approximate Time: 12-15 mins\n    \n</div>"
    },
    {
      "cell_type": "markdown",
      "metadata": {
        "cell_id": "b53868b6c2aa4378a563c2a96cf4cfa8",
        "deepnote_cell_height": 69.96875,
        "deepnote_cell_type": "markdown",
        "output_cleared": false,
        "tags": []
      },
      "source": "## 5.0 - Imagining Some Different DGPs"
    },
    {
      "cell_type": "markdown",
      "metadata": {
        "cell_id": "1bf43b91a9194888abc8719f7d6b962c",
        "deepnote_cell_height": 170.34375,
        "deepnote_cell_type": "markdown",
        "output_cleared": false,
        "tags": []
      },
      "source": "Here we will actually simulate creating samples from an imaginary DGP. Would that DGP be able to produce our sample? Would our sample be considered one of the \"unlikely\" samples from this DGP?\n\nIn previous chapters, we focused on `shuffle()` as a random DGP (where $\\beta_1 = 0$). \n\nNow we will shift to thinking about a slightly different DGP: bootstrapping using the function `resample()`. This DGP assumes the DGP is just like our sample so the $\\beta_1 = b_1$."
    },
    {
      "cell_type": "markdown",
      "metadata": {
        "cell_id": "76631827740c4a64a3e5f390c087a3f3",
        "deepnote_cell_height": 74.75,
        "deepnote_cell_type": "markdown",
        "output_cleared": false,
        "tags": []
      },
      "source": "5.1 - Run the code below a few times. Why does only one of the numbers change? Interpret the two numbers the code produces."
    },
    {
      "cell_type": "code",
      "execution_count": null,
      "metadata": {
        "cell_id": "020f10fac65e4c5fb8264d388cb05c99",
        "deepnote_cell_type": "code",
        "deepnote_to_be_reexecuted": false,
        "execution_millis": 15,
        "execution_start": 1685488425090,
        "output_cleared": false,
        "source_hash": "f5ae1dba",
        "tags": [],
        "trusted": true
      },
      "outputs": [],
      "source": "sample_b1 <- b1(candies ~ relative_class, data = wealth_exp)\nsample_b1\n\nb1(candies ~ relative_class, data = resample(wealth_exp))"
    },
    {
      "cell_type": "markdown",
      "metadata": {
        "cell_id": "ac16415c2b6944109e8f3f88a9f8f588",
        "deepnote_cell_height": 185.921875,
        "deepnote_cell_type": "markdown",
        "tags": []
      },
      "source": "<div class=\"alert alert-block alert-warning\">\n\n**Sample Response**\n\nThe first number is our actual sample $b_1$, so it is not changing. The second number is changing because it is a $b_1$ that is coming from randomly resampled data in the data frame, so it will be different each time we take a new sample. \n    \n</div>"
    },
    {
      "cell_type": "markdown",
      "metadata": {
        "cell_id": "f2879ae2f141465a98e47f69ad09789d",
        "deepnote_cell_height": 111.34375,
        "deepnote_cell_type": "markdown",
        "output_cleared": false,
        "tags": []
      },
      "source": "5.2 - In the code below, what is the model of the DGP we are simulating? (Represent that DGP using GLM notation we've put here for you.)\n\n$$Y_i = \\beta_0 + \\beta_1 X_i + \\epsilon_i$$"
    },
    {
      "cell_type": "code",
      "execution_count": null,
      "metadata": {
        "cell_id": "298e1898e3c24430b61193a6c1ded18a",
        "deepnote_cell_type": "code",
        "deepnote_to_be_reexecuted": false,
        "execution_millis": 954,
        "execution_start": 1685488425107,
        "output_cleared": false,
        "source_hash": "dcfeaaae",
        "tags": [],
        "trusted": true
      },
      "outputs": [],
      "source": "sdob1 <- do(1000) * b1(candies ~ relative_class, data = resample(wealth_exp))"
    },
    {
      "cell_type": "markdown",
      "metadata": {
        "cell_id": "898b8c39e1744fc096d9a44b1db63900",
        "deepnote_cell_height": 199.71875,
        "deepnote_cell_type": "markdown",
        "tags": []
      },
      "source": "<div class=\"alert alert-block alert-warning\">\n\n**Sample Response**\n\nThe code is simulating whatever DGP exists in our sample data, but showing us all the different ways our sample could have looked if we had taken 1000 different samples.\n\n$$candies_i = \\beta_0 + \\beta_1 (relative class_i) + \\epsilon_i$$\n    \n</div>"
    },
    {
      "cell_type": "markdown",
      "metadata": {
        "cell_id": "f6bc5eb4a4e043d5a1b9b483e81b3741",
        "deepnote_cell_height": 111.140625,
        "deepnote_cell_type": "markdown",
        "output_cleared": false,
        "tags": []
      },
      "source": "5.3 - Where will our sample b1 (`sample_b1`) be in the resulting sampling distribution of b1s? Would it be considered a \"likely\" sample from this DGP?\n\nWrite your prediction -- then run the code below."
    },
    {
      "cell_type": "code",
      "execution_count": null,
      "metadata": {
        "cell_id": "4b656b5fa2064c67994ad3c9b00ff11c",
        "deepnote_cell_type": "code",
        "deepnote_to_be_reexecuted": false,
        "execution_millis": 583,
        "execution_start": 1685488426058,
        "output_cleared": false,
        "source_hash": "27e81784",
        "tags": [],
        "trusted": true
      },
      "outputs": [],
      "source": "gf_histogram(~ b1, data = sdob1, binwidth = .025, fill = ~middle(b1, .95)) %>%\n    gf_point(0 ~ sample_b1, color = \"black\", size = 2, show.legend = FALSE)\n\ngf_histogram(~ b1, data = sdob1, binwidth = .025, fill = ~middle(b1, .95)) "
    },
    {
      "cell_type": "markdown",
      "metadata": {
        "cell_id": "54291df0fb89437980576afdd662462b",
        "deepnote_cell_height": 111.140625,
        "deepnote_cell_type": "markdown",
        "output_cleared": false,
        "tags": []
      },
      "source": "5.4 - Let's slide around some sampling distributions in the distribution triad diagram to explore these ideas (your instructor will share the slideshow with you).\n\n**[The slideshow link for instructors to copy and share with their students](https://docs.google.com/presentation/d/1SY9WSIAkG6LOSAKIpXMi94c-Mzi4EP8xEFx1xhfXNyI/copy#slide=id.p1)**"
    },
    {
      "cell_type": "markdown",
      "metadata": {
        "cell_id": "3ce5ec927036433b97acd6a7327f8bae",
        "deepnote_cell_height": 115.9375,
        "deepnote_cell_type": "markdown",
        "tags": []
      },
      "source": "<div class=\"alert alert-block alert-success\">\n\n### 6.0 - Approximate Time: 10-12 mins\n    \n</div>"
    },
    {
      "cell_type": "markdown",
      "metadata": {
        "cell_id": "dc9c2041638b4884954dfab44be631f4",
        "deepnote_cell_height": 69.96875,
        "deepnote_cell_type": "markdown",
        "output_cleared": false,
        "tags": []
      },
      "source": "## 6.0 - Other DGPs!"
    },
    {
      "cell_type": "markdown",
      "metadata": {
        "cell_id": "19b472a61f424f87a733339b619714a1",
        "deepnote_cell_height": 170.140625,
        "deepnote_cell_type": "markdown",
        "tags": []
      },
      "source": "6.1 - Once we have one sampling distribution, we can slide it around to mimic other DGPs! For example, we can mimic:\n\n$$Y_i = \\beta_0 + 0 X_i + \\epsilon_i$$\n\nWhat does the code below do? In the slideshow, \"move the sampling distribution\" to mimic the code below."
    },
    {
      "cell_type": "code",
      "execution_count": null,
      "metadata": {
        "cell_id": "2348e9b44d094e7ca50fcac96a33391f",
        "deepnote_cell_type": "code",
        "deepnote_to_be_reexecuted": false,
        "execution_millis": 14,
        "execution_start": 1685488426632,
        "output_cleared": false,
        "source_hash": "fadfc035",
        "tags": [],
        "trusted": true
      },
      "outputs": [],
      "source": "sdob1$b1_no_effect <- sdob1$b1 - sample_b1"
    },
    {
      "cell_type": "markdown",
      "metadata": {
        "cell_id": "2e2799a85db04fba828c31938b9d55f3",
        "deepnote_cell_height": 163.53125,
        "deepnote_cell_type": "markdown",
        "tags": []
      },
      "source": "<div class=\"alert alert-block alert-warning\">\n\n**Sample Response**\n\nThe code is creating a $b_1$ variable that has no effect of relative class (by subtracting the SDob1 $b_1$ from the sample $b_1$).\n    \n</div>"
    },
    {
      "cell_type": "code",
      "execution_count": null,
      "metadata": {
        "cell_id": "f60123c569cf4f7ab0422bae7155f0c9",
        "deepnote_cell_type": "code",
        "deepnote_to_be_reexecuted": false,
        "execution_millis": 296,
        "execution_start": 1685488426644,
        "output_cleared": false,
        "source_hash": "c05e5347",
        "tags": [],
        "trusted": true
      },
      "outputs": [],
      "source": "# Code modified to look at a DGP of no effect of relative class:\n\n# Edit this code to depict a sampling distribution of b1 from a DGP\n# where there is no effect of feeling higher class\n# (make sure to change the fill too!)\ngf_histogram(~ b1_no_effect, data = sdob1, binwidth = .025, fill = ~middle(b1_no_effect, .95)) %>%\n    gf_point(0 ~ sample_b1, color = \"black\", size = 2, show.legend = FALSE)"
    },
    {
      "cell_type": "markdown",
      "metadata": {
        "cell_id": "e864932d0b40488f9c502e4ce52e685f",
        "deepnote_cell_height": 147.734375,
        "deepnote_cell_type": "markdown",
        "output_cleared": false,
        "tags": []
      },
      "source": "6.2 - What DGP would you like to mimic? Write it down here:\n\n$$Y_i = \\beta_0 + ? X_i + \\epsilon_i$$\n\nDepict this DGP in the Google slides diagram by moving the sampling distribution of b1s (SDob1) around. Is the sample going to be one of the \"unlikely\" samples from this DGP?"
    },
    {
      "cell_type": "markdown",
      "metadata": {
        "cell_id": "8abcae1c795547d7ab2e922ac9065ee3",
        "deepnote_cell_height": 236.3125,
        "deepnote_cell_type": "markdown",
        "tags": []
      },
      "source": "<div class=\"alert alert-block alert-warning\">\n\n**Sample Response**\n\n*Students may try a broad range of DGP's. The one above mimics a DGP where $\\beta_1$ is 1.*\n\n$$Y_i = \\beta_0 + 1(X_i) + \\epsilon_i$$\n\n*Students should then try sliding the sampling distribution to this possible DGP on the slides to see if the sample would still become \"unlikely\". In this DGP, the sample would be very unlikely.*\n    \n</div>"
    },
    {
      "cell_type": "code",
      "execution_count": null,
      "metadata": {
        "cell_id": "01cdac0424be4f6593a2656b1636b8cf",
        "deepnote_cell_type": "code",
        "deepnote_to_be_reexecuted": false,
        "execution_millis": 308,
        "execution_start": 1685488426935,
        "output_cleared": false,
        "source_hash": "bf80b85c",
        "tags": [],
        "trusted": true
      },
      "outputs": [],
      "source": "# Code modified to mimic a DGP where beta1 is 1:\n\n# change this line of code to reflect the DGP you want to try out\nsdob1$b1_my_DGP <- sdob1$b1_no_effect + 1\n\ngf_histogram(~ b1_my_DGP, data = sdob1, binwidth = .025, fill = ~middle(b1_my_DGP,.95)) %>%\n    gf_point(0 ~ sample_b1, color = \"black\", size = 2, show.legend = FALSE)"
    },
    {
      "cell_type": "markdown",
      "metadata": {
        "cell_id": "03150fbf71ce4cdeb18b8dfc8fac64ad",
        "deepnote_cell_height": 111.34375,
        "deepnote_cell_type": "markdown",
        "output_cleared": false,
        "tags": []
      },
      "source": "6.3 - Using the Google slides, what is the highest $\\beta_1$ that could produce our sample and it would be counted as \"likely\"? \n\nNow answer this question using the R function `confint()`."
    },
    {
      "cell_type": "code",
      "execution_count": null,
      "metadata": {
        "cell_id": "198e94eaea974aa6bf834ffe214faa98",
        "deepnote_cell_type": "code",
        "deepnote_to_be_reexecuted": false,
        "execution_millis": 16,
        "execution_start": 1685488427233,
        "output_cleared": false,
        "source_hash": "47fc72a9",
        "tags": [],
        "trusted": true
      },
      "outputs": [],
      "source": "# Sliding the sampling distributions on the Google slides \n# should arrive at number similar to upper bound from confint()\n\nconfint(lm(candies ~ relative_class, data = wealth_exp))"
    },
    {
      "cell_type": "markdown",
      "metadata": {
        "cell_id": "59c57c9f398a4e0b9fe7ab95fccd2ad9",
        "deepnote_cell_height": 140.9375,
        "deepnote_cell_type": "markdown",
        "tags": []
      },
      "source": "<div class=\"alert alert-block alert-warning\">\n\n**Sample Response**\n\nThe highest $\\beta_1$ would be 0.76 candies.\n    \n</div>"
    },
    {
      "cell_type": "markdown",
      "metadata": {
        "cell_id": "31b50c25ac7d4b9dbcd5eddf53aaf962",
        "deepnote_cell_height": 52.5625,
        "deepnote_cell_type": "markdown",
        "output_cleared": false,
        "tags": []
      },
      "source": "6.4 - What is the lowest $\\beta_1$ that could produce our sample and it would be counted as \"likely\"?"
    },
    {
      "cell_type": "markdown",
      "metadata": {
        "cell_id": "8f96f3e919d84595b417b2ad104e8e54",
        "deepnote_cell_height": 140.9375,
        "deepnote_cell_type": "markdown",
        "tags": []
      },
      "source": "<div class=\"alert alert-block alert-warning\">\n\n**Sample Response**\n\nThe lowest $\\beta_1$ would be 0.18 candies.\n    \n</div>"
    }
  ],
  "metadata": {
    "deepnote_notebook_id": "5cdf3ae4cc2f432b9d1fadd89191b816",
    "kernelspec": {
      "display_name": "R",
      "language": "R",
      "name": "ir"
    },
    "language_info": {
      "codemirror_mode": "r",
      "file_extension": ".r",
      "mimetype": "text/x-r-source",
      "name": "R",
      "pygments_lexer": "r",
      "version": "4.3.3"
    },
    "nbsimplegrader": {
      "publish_config": {
        "classes": [],
        "options": [],
        "tools": []
      }
    }
  },
  "nbformat": 4,
  "nbformat_minor": 1
}