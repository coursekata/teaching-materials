{
  "cells": [
    {
      "cell_type": "markdown",
      "metadata": {
        "cell_id": "e3d8c60294fd4ac589512ef9fb18da58",
        "deepnote_cell_type": "markdown",
        "tags": []
      },
      "source": "# 11B: Vaccine Attitudes"
    },
    {
      "cell_type": "code",
      "execution_count": null,
      "metadata": {
        "cell_id": "25561f5f7f93493a9e29e69a3730cbce",
        "deepnote_cell_height": 492.921875,
        "deepnote_cell_type": "code",
        "deepnote_to_be_reexecuted": false,
        "execution_context_id": "313a01db-2b81-4ec6-acba-47256ac62a20",
        "execution_millis": 1092,
        "execution_start": 1746462618484,
        "nbsimplegrader": {
          "config_key": "code.run-only",
          "editable": false,
          "label": "Code: Run-Only",
          "respondable": false,
          "response": null,
          "runnable": true,
          "type": "code"
        },
        "output_cleared": false,
        "source_hash": "4b53d84b",
        "trusted": true
      },
      "outputs": [],
      "source": "# Run this cell to load the packages and data you will need\n\n# Load the CourseKata library\nsuppressPackageStartupMessages({\n    library(coursekata)\n})\n\n# This fixes font sizes on graphs\ntheme_set(theme(\n  text = element_text(size = 12),\n  axis.text = element_text(size = 9)\n))\n\nvaccines <- data.frame(\n  subject_id = 1:341,\n  intervention = structure(c(3L, 1L, 1L, 3L, 1L, 2L, 1L, 3L, 1L, 2L, 2L, 1L, 3L, 1L, 3L, 1L, 2L, 3L, 3L, 3L, 2L, 1L, 1L, 3L, 1L, 3L, 2L, 1L, 2L, 1L, 1L, 2L, 1L, 2L, 1L, 1L, 2L, 1L, 2L, 2L, 1L, 3L, 3L, 2L, 1L, 2L, 1L, 3L, 2L, 1L, 2L, 2L, 2L, 2L, 3L, 1L, 2L, 1L, 1L, 1L, 3L, 2L, 1L, 3L, 2L, 2L, 1L, 2L, 3L, 3L, 2L, 3L, 1L, 3L, 1L, 2L, 3L, 2L, 3L, 2L, 3L, 1L, 1L, 2L, 2L, 2L, 1L, 1L, 3L, 1L, 1L, 2L, 1L, 1L, 1L, 2L, 1L, 2L, 2L, 2L, 3L, 1L, 1L, 3L, 1L, 2L, 1L, 1L, 3L, 1L, 2L, 1L, 2L, 2L, 2L, 2L, 3L, 2L, 2L, 1L, 1L, 3L, 3L, 2L, 2L, 1L, 3L, 1L, 3L, 1L, 3L, 3L, 2L, 3L, 1L, 3L, 3L, 3L, 1L, 1L, 3L, 2L, 2L, 2L, 2L, 3L, 1L, 3L, 2L, 1L, 1L, 1L, 2L, 1L, 3L, 3L, 3L, 1L, 1L, 2L, 3L, 3L, 3L, 2L, 2L, 2L, 1L, 2L, 3L, 3L, 2L, 3L, 2L, 1L, 1L, 2L, 1L, 2L, 3L, 1L, 2L, 1L, 1L, 1L, 2L, 2L, 2L, 2L, 2L, 2L, 2L, 3L, 3L, 3L, 1L, 3L, 3L, 2L, 3L, 2L, 3L, 2L, 1L, 2L, 1L, 3L, 3L, 3L, 3L, 1L, 2L, 3L, 3L, 2L, 2L, 2L, 3L, 3L, 3L, 1L, 2L, 3L, 3L, 3L, 1L, 1L, 2L, 2L, 1L, 3L, 3L, 1L, 3L, 3L, 2L, 3L, 3L, 2L, 1L, 2L, 1L, 2L, 3L, 3L, 1L, 2L, 2L, 2L, 3L, 1L, 3L, 1L, 2L, 3L, 3L, 3L, 3L, 1L, 2L, 2L, 1L, 1L, 3L, 2L, 2L, 3L, 1L, 2L, 1L, 3L, 1L, 2L, 1L, 3L, 2L, 3L, 3L, 3L, 3L, 3L, 1L, 3L, 2L, 3L, 1L, 1L, 1L, 1L, 3L, 3L, 1L, 1L, 3L, 1L, 1L, 3L, 2L, 2L, 1L, 1L, 2L, 3L, 3L, 1L, 3L, 1L, 1L, 1L, 3L, 2L, 3L, 1L, 3L, 1L, 2L, 3L, 1L, 2L, 3L, 2L, 3L, 1L, 2L, 2L, 3L, 3L, 3L, 2L, 2L, 3L, 1L, 2L, 2L, 2L, 3L, 1L, 2L, 3L, 3L, 3L, 3L), .Label = c(\"Control\", \"Illustrate Risks\", \"Read Sci Research\"), class = \"factor\"),\n  attitudes_pre = c(6, 6, 6, 4.3, 5.2, 6, 4.2, 6, 4.3, 6, 5.2, 4.3, 6, 6, 3.3, 3.2, 4.1, 6, 5.2, 5.1, 5.2, 6, 4.2, 5.3, 5.3, 3.1, 3.1, 3.3, 1.3, 3.2, 5.3, 2.2, 4.1, 2.1, 5.2, 5.2, 5.1, 2.3, 3.1, 4.3, 5.2, 4.3, 2.3, 5.1, 6, 5.3, 5.1, 5.3, 3.3, 6, 5.1, 5.2, 4.3, 4.1, 5.3, 5.3, 6, 3.1, 5.3, 4.2, 1.2, 4.3, 5.1, 4.3, 5.1, 5.3, 1.2, 3.3, 6, 6, 4.3, 6, 6, 5.1, 2.1, 5.2, 6, 2.3, 4.3, 6, 6, 4.2, 5.3, 5.1, 6, 6, 2.3, 5.1, 6, 5.1, 5.2, 1.2, 5.2, 5.2, 5.2, 6, 2.1, 5.2, 3.3, 1.2, 5.1, 4.1, 5.3, 5.1, 5.2, 5.1, 5.3, 6, 3.2, 5.1, 5.2, 5.1, 2.2, 5.3, 6, 6, 4.3, 5.3, 5.2, 5.2, 6, 5.1, 5.2, 5.2, 5.2, 4.3, 5.2, 3.2, 5.3, 1.2, 6, 3.2, 6, 2.1, 4.3, 3.3, 6, 6, 6, 5.3, 6, 3.3, 4.3, 5.2, 6, 5.3, 6, 4.2, 5.3, 6, 5.2, 5.3, 5.2, 6, 3.2, 6, 4.3, 1.3, 5.1, 5.2, 5.3, 6, 5.3, 5.2, 4.2, 3.2, 5.2, 3.3, 6, 5.2, 5.2, 6, 4.1, 6, 2.1, 5.2, 3.2, 5.3, 5.1, 5.1, 5.2, 3.1, 4.3, 6, 5.3, 5.3, 2.2, 4.3, 6, 5.3, 4.3, 5.2, 2.1, 5.3, 4.1, 4.3, 5.2, 6, 6, 5.3, 5.2, 6, 3.3, 4.2, 5.3, 6, 5.3, 6, 2.1, 6, 2.1, 5.3, 6, 6, 6, 6, 6, 1.2, 6, 6, 4.1, 4.2, 4.1, 4.2, 2.1, 1.2, 3.3, 4.3, 4.3, 5.3, 6, 6, 4.1, 5.2, 5.2, 5.1, 6, 5.2, 5.2, 5.1, 6, 5.1, 4.3, 5.1, 6, 5.3, 5.1, 4.1, 5.1, 4.3, 6, 6, 4.2, 4.2, 5.3, 4.3, 5.3, 3.3, 6, 4.3, 5.3, 5.1, 4.3, 6, 5.3, 5.2, 1.3, 5.2, 5.2, 3.2, 4.3, 5.3, 5.2, 5.2, 6, 5.3, 4.2, 5.1, 6, 4.3, 6, 2.1, 6, 6, 5.3, 6, 5.3, 6, 3.1, 2.2, 5.2, 5.2, 4.2, 4.2, 6, 4.1, 5.3, 3.3, 3.3, 5.2, 3.3, 6, 3.2, 6, 5.1, 4.3, 6, 5.2, 4.3, 5.3, 5.3, 5.1, 5.2, 6, 2.1, 4.3, 6, 1.2, 5.2, 4.3, 3.3, 5.2, 2.2, 5.3, 6, 6, 2.2, 5.3, 4.3, 6, 6, 6, 4.2, 3.3, 6, 1.3, 4.1, 5.2, 6, 5.2, 4.1),\n  attitudes_post = c(6, 6, 6, 4.1, 4.2, 5.1, 3.2, 6, 6, 6, 6, 5.2, 6, 6, 3.3, 5.2, 5.2, 6, 6, 3.3, 6, 6, 4.3, 5.2, 4.3, 2.1, 6, 2.2, 2.2, 2.2, 5.3, 3.3, 5.2, 4.3, 5.3, 5.1, 6, 2.3, 5.2, 4.3, 6, 4.3, 5.3, 6, 6, 5.3, 6, 5.3, 5.3, 6, 6, 5.3, 5.3, 5.1, 5.3, 6, 6, 2.1, 5.2, 4.2, 2.1, 5.3, 5.2, 5.1, 6, 6, 1.2, 5.3, 6, 6, 6, 6, 5.3, 5.2, 4.3, 6, 5.2, 5.1, 5.3, 6, 6, 5.2, 3.3, 5.3, 6, 6, 4.2, 5.2, 5.2, 5.1, 6, 1.3, 4.1, 4.3, 6, 6, 1.2, 6, 4.2, 3.1, 5.3, 3.3, 6, 5.2, 4.2, 4.2, 4.3, 6, 4.2, 5.3, 6, 5.3, 5.2, 6, 6, 6, 4.3, 5.1, 5.2, 5.3, 6, 4.1, 5.3, 6, 6, 3.3, 5.3, 5.1, 4.2, 1.2, 6, 3.2, 6, 2.2, 4.2, 4.3, 5.3, 6, 6, 4.3, 6, 4.3, 5.3, 5.3, 6, 6, 6, 5.2, 6, 6, 6, 5.3, 6, 6, 4.3, 6, 4.1, 2.2, 6, 5.2, 4.2, 6, 5.2, 5.3, 6, 4.1, 5.1, 5.2, 6, 5.1, 6, 6, 5.1, 6, 1.3, 6, 4.3, 6, 5.2, 5.2, 6, 3.3, 5.3, 6, 6, 6, 2.3, 6, 6, 5.3, 6, 6, 2.1, 5.3, 4.3, 5.1, 6, 6, 6, 6, 5.3, 6, 4.1, 5.3, 6, 6, 5.3, 6, 4.2, 6, 4.3, 3.2, 6, 6, 6, 6, 6, 2.2, 6, 6, 5.2, 5.1, 4.3, 5.1, 1.2, 2.3, 4.3, 6, 4.3, 5.3, 6, 5.3, 4.3, 5.2, 5.3, 3.2, 6, 6, 4.2, 6, 6, 5.2, 5.3, 5.3, 5.3, 6, 5.3, 4.2, 4.3, 2.3, 6, 6, 5.3, 5.3, 5.2, 5.2, 6, 5.1, 6, 6, 5.1, 6, 6, 6, 6, 5.2, 2.2, 6, 4.2, 4.1, 5.1, 5.3, 6, 5.2, 6, 5.2, 6, 5.3, 6, 4.1, 6, 5.2, 6, 5.2, 5.1, 6, 5.3, 6, 3.3, 3.1, 5.3, 6, 5.1, 5.1, 6, 5.3, 6, 5.3, 5.2, 4.1, 6, 6, 3.3, 6, 5.3, 3.3, 5.3, 6, 5.2, 6, 6, 5.2, 5.2, 6, 3.2, 4.3, 6, 3.2, 5.3, 5.2, 4.2, 4.3, 4.2, 6, 6, 5.2, 4.1, 6, 4.2, 6, 5.3, 6, 5.3, 4.2, 6, 3.3, 6, 6, 6, 6, 3.3),\n  cause_autism = c(1L, 4L, 1L, 7L, 5L, 1L, 7L, 3L, 4L, 1L, 3L, 9L, 1L, 1L, 3L, 9L, 8L, 1L, 3L, 3L, 4L, 1L, 4L, 3L, 4L, 5L, 9L, 5L, 8L, 8L, 1L, 5L, 2L, 5L, 2L, 1L, 4L, 4L, 7L, 2L, 1L, 7L, 8L, 3L, 1L, 5L, 3L, 2L, 6L, 1L, 7L, 2L, 5L, 4L, 1L, 5L, 1L, 5L, 3L, 6L, 8L, 2L, 3L, 3L, 8L, 4L, 9L, 4L, 2L, 2L, 8L, 2L, 4L, 1L, 8L, 2L, 1L, 5L, 4L, 1L, 1L, 10L, 1L, 7L, 2L, 1L, 4L, 3L, 1L, 6L, 2L, 10L, 4L, 3L, 4L, 2L, 7L, 6L, 7L, 10L, 4L, 4L, 2L, 5L, 3L, 2L, 1L, 2L, 2L, 7L, 3L, 2L, 8L, 1L, 3L, 1L, 6L, 2L, 1L, 1L, 1L, 2L, 6L, 1L, 7L, 7L, 3L, 4L, 2L, 10L, 1L, 7L, 1L, 9L, 3L, 1L, 1L, 3L, 1L, 1L, 2L, 5L, 3L, 5L, 1L, 1L, 1L, 5L, 1L, 1L, 9L, 2L, 3L, 1L, 5L, 1L, 1L, 5L, 4L, 2L, 1L, 1L, 3L, 2L, 4L, 9L, 2L, 4L, 1L, 5L, 4L, 1L, 6L, 1L, 5L, 4L, 6L, 2L, 4L, 7L, 2L, 3L, 4L, 1L, 3L, 1L, 7L, 2L, 2L, 2L, 3L, 1L, 9L, 1L, 9L, 4L, 7L, 3L, 1L, 1L, 2L, 3L, 5L, 6L, 1L, 1L, 3L, 1L, 4L, 2L, 5L, 6L, 1L, 1L, 2L, 1L, 1L, 10L, 1L, 1L, 6L, 4L, 3L, 7L, 10L, 8L, 2L, 1L, 5L, 1L, 1L, 1L, 4L, 2L, 7L, 8L, 3L, 1L, 8L, 4L, 3L, 2L, 5L, 2L, 3L, 3L, 1L, 2L, 5L, 5L, 2L, 1L, 6L, 3L, 6L, 7L, 7L, 4L, 3L, 2L, 7L, 2L, 5L, 1L, 1L, 7L, 10L, 3L, 6L, 8L, 4L, 2L, 2L, 8L, 1L, 1L, 5L, 5L, 1L, 1L, 5L, 9L, 1L, 1L, 1L, 2L, 2L, 1L, 7L, 10L, 2L, 3L, 1L, 3L, 1L, 4L, 3L, 8L, 3L, 7L, 7L, 1L, 4L, 4L, 4L, 3L, 1L, 2L, 3L, 1L, 5L, 3L, 3L, 1L, 6L, 8L, 1L, 10L, 2L, 4L, 4L, 3L, 10L, 1L, 1L, 3L, 5L, 1L, 1L, 4L, 1L, 2L, 4L, 5L, 1L, 9L, 9L, 3L, 4L, 2L, 3L)\n)"
    },
    {
      "cell_type": "markdown",
      "metadata": {
        "cell_id": "f7ab3e7555e345658d1bd2ce3989f6c1",
        "deepnote_cell_height": 386.484375,
        "deepnote_cell_type": "markdown",
        "tags": []
      },
      "source": "## Illustrate Risks or Address Fears to Change Minds?\n\nData has shown two dangerous, linked trends:\n\n- Measles cases are on the rise in the U.S.\n- There is an uptick in parents refusing vaccinations (such as the measles vaccine) for their children\n\nHow might we try to address this? One group of researchers decided to try out two different methods of changing people's minds about vaccines. \n\n*Citation:*\n\nHorne, Z., Powell, D., Hummel, J. E., & Holyoak, K. J. (2015). Countering antivaccination attitudes. *Proceedings of the National Academy of Sciences*, *112*(33), 10321–10324. https://doi.org/10.1073/pnas.1504019112\n"
    },
    {
      "cell_type": "markdown",
      "metadata": {
        "cell_id": "20c0eb9006004790acb01f6bfb014395",
        "deepnote_cell_height": 461.453125,
        "deepnote_cell_type": "markdown",
        "nbsimplegrader": {
          "config_key": "markdown.view-only",
          "editable": false,
          "label": "Markdown: View-Only",
          "respondable": false,
          "response": null,
          "runnable": false,
          "type": "markdown"
        }
      },
      "source": "## The Study\n\nResearchers conducted a two-day study online with participants from across the US. \n\nOn the first day, participants completed a survey designed to capture their attitudes toward vaccines. To make the purpose of the study less obvious, other questions about moral issues (e.g., euthanasia, abortion, etc) were included. \n\nOn the second day, participants were randomly assigned to one of three methods of educating people about vaccines:\n\n  - **Control** group: read an unrelated vignette about a scientific topic. \n  - **Illustrate Risks** intervention: participants read a paragraph written by a mother about her child contracting measles; saw vivid pictures of a child with measles, a child with mumps, and an infant with rubella and read three short warnings about how important it is for people to vaccinate their children. \n  - **Read Scientific Research** intervention: participants read information summarizing recent research showing that vaccines do not increase the risk of autism in children.\n\nThen all participants filled out the same survey again."
    },
    {
      "cell_type": "markdown",
      "metadata": {
        "cell_id": "efc8260337b64c9cb345a351eee9b0c7",
        "deepnote_cell_height": 437.734375,
        "deepnote_cell_type": "markdown",
        "tags": []
      },
      "source": "Here is a description of the variables you will find in the researchers' `vaccines` data frame.\n\n| Variable       | Description                                                                                                |\n|:---------------|:-----------------------------------------------------------------------------------------------------------|\n| `subject_id`    | Participant’s ID.                                                                                      |\n| `intervention` | *Control Group*, *Illustrate Risks*, or *Read Scientific Research*                                         |\n| `attitudes_pre` | Participant’s score on the vaccine attitudes scale (higher means more positive) before the intervention.   |\n| `attitudes_post`| Participant’s score on the vaccine attitudes scale after the intervention.                             |\n| `cause_autism`  | The participant’s opinion of whether vaccines cause autism (1 = strongly disagree to 10 = strongly agree) on the presurvey. |\n\n<img src=\"https://coursekata-course-assets.s3.us-west-1.amazonaws.com/UCLATALL/czi-stats-course/jnb_r8HtkzZJ-image.png\">"
    },
    {
      "cell_type": "markdown",
      "metadata": {
        "cell_id": "77bc4f03b98945e5a59880349f9144a0",
        "deepnote_cell_height": 69.96875,
        "deepnote_cell_type": "markdown",
        "nbsimplegrader": {
          "config_key": "markdown.view-only",
          "editable": false,
          "label": "Markdown: View-Only",
          "respondable": false,
          "response": null,
          "runnable": false,
          "type": "markdown"
        }
      },
      "source": "## 1.0 - Explore Variation"
    },
    {
      "cell_type": "markdown",
      "metadata": {
        "cell_id": "aad42b2d0b584669b3929f709595ae36",
        "deepnote_cell_height": 97.140625,
        "deepnote_cell_type": "markdown",
        "tags": []
      },
      "source": "1.1 - We could use `attitudes_post` as an important outcome variable. We could also create a variable called `attitude_change` representing the change in attitude. Which would be a better variable to use and why?\n"
    },
    {
      "cell_type": "markdown",
      "metadata": {
        "cell_id": "b43a412713f248e28874deaa65ec1f63",
        "deepnote_cell_height": 74.75,
        "deepnote_cell_type": "markdown",
        "nbsimplegrader": {
          "config_key": "markdown.view-only",
          "editable": false,
          "label": "Markdown: View-Only",
          "respondable": false,
          "response": null,
          "runnable": false,
          "type": "markdown"
        }
      },
      "source": "1.2 - Looking at the description of the study, what do you think the researchers' main hypothesis and prediction was? Model their hypothesis with a word equation."
    },
    {
      "cell_type": "markdown",
      "metadata": {
        "cell_id": "afd1830fc25e4500a2ff3f16c2100a01",
        "deepnote_cell_height": 97.140625,
        "deepnote_cell_type": "markdown",
        "nbsimplegrader": {
          "config_key": "markdown.view-only",
          "editable": false,
          "label": "Markdown: View-Only",
          "respondable": false,
          "response": null,
          "runnable": false,
          "type": "markdown"
        }
      },
      "source": "1.3 - Explore this model using the sample data. Does it seem like `intervention` explains any of the variation in the outcome? How are the distributions for the three groups similar? How are they different?"
    },
    {
      "cell_type": "markdown",
      "metadata": {
        "cell_id": "283fba3e9d704787b7db98eb44fb9730",
        "deepnote_cell_height": 52.359375,
        "deepnote_cell_type": "markdown",
        "tags": []
      },
      "source": "1.4 - Could this pattern of variation be caused by random chance?"
    },
    {
      "cell_type": "markdown",
      "metadata": {
        "cell_id": "aedfebdfed8644578a6e9eca06183421",
        "deepnote_cell_height": 69.96875,
        "deepnote_cell_type": "markdown",
        "tags": []
      },
      "source": "## 2.0 - Model Variation"
    },
    {
      "cell_type": "markdown",
      "metadata": {
        "cell_id": "8af15c9e5f0e4d7ba2ace95dedafca07",
        "deepnote_cell_height": 243.53125,
        "deepnote_cell_type": "markdown",
        "tags": []
      },
      "source": "2.1 - Let's specify the model. Which of these GLM models represents our hypothesis? Delete the ones that you don't need. Then find the best fitting estimates for this model and put them into the equation. \n\n$Y_i = b_0 + e_i$\n\n$Y_i = b_0 + b_1X_{1i} + e_i$\n\n$Y_i = b_0 + b_1X_{1i} + b_2X_{2i} + e_i$\n\n$Y_i = b_0 + b_1X_{1i} + b_2X_{2i} + b_3X_{3i} + e_i$"
    },
    {
      "cell_type": "markdown",
      "metadata": {
        "cell_id": "91ef30db334c4d9199bbed2fdbe948c7",
        "deepnote_cell_height": 52.359375,
        "deepnote_cell_type": "markdown",
        "nbsimplegrader": {
          "config_key": "markdown.view-only",
          "editable": false,
          "label": "Markdown: View-Only",
          "respondable": false,
          "response": null,
          "runnable": false,
          "type": "markdown"
        }
      },
      "source": "2.2 - Interpret the model coefficients, and also identify them in your graph."
    },
    {
      "cell_type": "markdown",
      "metadata": {
        "cell_id": "e5715ba6a36e4c0db59d9c9247e0352d",
        "deepnote_cell_height": 52.5625,
        "deepnote_cell_type": "markdown",
        "tags": []
      },
      "source": "2.3 - Why do the X's have numbers in them (e.g., $X_{1i}$ rather than $X_i$)?"
    },
    {
      "cell_type": "markdown",
      "metadata": {
        "cell_id": "5eeea55d923b486585347e7bedc89b43",
        "deepnote_cell_height": 119.53125,
        "deepnote_cell_type": "markdown",
        "tags": []
      },
      "source": "2.4 - Do all the groups look different from each other? If you had to bet that some groups here are NOT different, which would they be? (Another way to phrase this question: which are the groups that might trick you into making a **Type I Error** -- thinking they are really different when they really aren't?)"
    },
    {
      "cell_type": "markdown",
      "metadata": {
        "cell_id": "0864685160c540a9bb2942ae94b5a7b7",
        "deepnote_cell_height": 69.96875,
        "deepnote_cell_type": "markdown",
        "tags": []
      },
      "source": "## 3.0 - Evaluate Models of the DGP"
    },
    {
      "cell_type": "markdown",
      "metadata": {
        "cell_id": "0cad5fb20f774abb80fb987801e98bf0",
        "deepnote_cell_height": 74.75,
        "deepnote_cell_type": "markdown",
        "nbsimplegrader": {
          "config_key": "markdown.view-only",
          "editable": false,
          "label": "Markdown: View-Only",
          "respondable": false,
          "response": null,
          "runnable": false,
          "type": "markdown"
        }
      },
      "source": "3.1 - Compare the complex model versus the empty model (using R). Can we reject the empty model of the DGP? What evidence would you use to reject or not reject the empty model?"
    },
    {
      "cell_type": "markdown",
      "metadata": {
        "cell_id": "c3dcc3d3031b440da2e7c682f9bf8ff6",
        "deepnote_cell_height": 74.75,
        "deepnote_cell_type": "markdown",
        "tags": []
      },
      "source": "3.2 - Does the complex model tell us that all three groups were *statistically different* from each other?"
    },
    {
      "cell_type": "markdown",
      "metadata": {
        "cell_id": "87d1b514aee148a2a1735858d68f37cb",
        "deepnote_cell_height": 145.140625,
        "deepnote_cell_type": "markdown",
        "tags": []
      },
      "source": "### Comparing Multiple Groups\n\n3.3 - We want to know which of the three interventions are more effective in the DGP, and which just appear more effective because of sampling variation. Let's use the `pairwise()` function to dig a little deeper into our model.\n"
    },
    {
      "cell_type": "code",
      "execution_count": null,
      "metadata": {
        "cell_id": "9c59203be2184a65ab6946a85955cb19",
        "deepnote_cell_height": 93.953125,
        "deepnote_cell_type": "code",
        "deepnote_to_be_reexecuted": true,
        "execution_millis": 10,
        "execution_start": 1644596269481,
        "output_cleared": true,
        "source_hash": "6ad453d0",
        "tags": [],
        "trusted": true
      },
      "outputs": [],
      "source": "# Modify this code to conduct pairwise comparisons of the intervention model\n# pairwise()"
    },
    {
      "cell_type": "markdown",
      "metadata": {
        "cell_id": "4f36b5bd87b148c1a9a8c37c672d114b",
        "deepnote_cell_height": 74.75,
        "deepnote_cell_type": "markdown",
        "tags": []
      },
      "source": "3.4 - Based on the `pairwise()` analysis, are all the groups different from each other? If not, which groups are actually different from one another? "
    },
    {
      "cell_type": "markdown",
      "metadata": {
        "cell_id": "41a80105a1a14dbab022b3f26118e380",
        "deepnote_cell_height": 61.953125,
        "deepnote_cell_type": "markdown",
        "tags": []
      },
      "source": "### 4.0 - Conclusions"
    },
    {
      "cell_type": "markdown",
      "metadata": {
        "cell_id": "be56b04e83874ce19b0c76801e5c05a2",
        "deepnote_cell_height": 74.75,
        "deepnote_cell_type": "markdown",
        "tags": []
      },
      "source": "4.1 - Based on our analysis today, what is your overall conclusion on the researchers' hypothesis? What would be the best way to sway someone who is hesitant about vaccines?"
    }
  ],
  "metadata": {
    "deepnote_notebook_id": "9d7b1d65e830400c9d8f47e5114c021b",
    "kernelspec": {
      "display_name": "R",
      "language": "R",
      "name": "ir"
    },
    "language_info": {
      "codemirror_mode": "r",
      "file_extension": ".r",
      "mimetype": "text/x-r-source",
      "name": "R",
      "pygments_lexer": "r",
      "version": "4.3.3"
    },
    "nbsimplegrader": {
      "publish_config": {
        "classes": [],
        "options": [],
        "tools": []
      }
    }
  },
  "nbformat": 4,
  "nbformat_minor": 1
}