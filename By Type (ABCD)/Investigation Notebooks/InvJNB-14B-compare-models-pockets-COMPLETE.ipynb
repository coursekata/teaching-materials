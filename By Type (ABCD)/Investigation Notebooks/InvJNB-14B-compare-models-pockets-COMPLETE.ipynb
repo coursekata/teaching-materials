{
  "cells": [
    {
      "cell_type": "markdown",
      "metadata": {
        "cell_id": "7b245775136048f889710d76aa5dc794",
        "deepnote_cell_type": "markdown",
        "tags": []
      },
      "source": "<div class=\"alert alert-block alert-danger\">\n\n# 14B: The Pocket Gap (COMPLETE)\n\n**Use with textbook version 6.0+**\n\n\n**Lesson assumes students have read up through page: 14.7**\n\n\n</div>"
    },
    {
      "cell_type": "markdown",
      "metadata": {
        "cell_id": "15d6cfc16fb1494bba6672dedf4b6e3b",
        "deepnote_cell_type": "markdown"
      },
      "source": "<div class=\"alert alert-block alert-warning\">\n\n#### Summary of Notebook:\n\nIn this notebook,students will explore the \"pocket gap\" with a dataset that contains information on the pocket sizes of jeans for various brands, genders, prices, and more. Upon fitting the model that explores the average back pocket height predicted by gender and price of jeans, they will discover that the gender variable appears to explain much more variation in pocket height than price does. There are also slides and a printable handout for drawing Venn Diagrams to help students gain a better conceptual understanding of the PRE rows of the ANOVA output for a multivariate model.\n \n#### Includes:\n\n- Fitting and interpreting a multivariate model with one categorical explanatory variable and one quantitative explanatory variable\n- Exploring PRE for multivariate models with Venn Diagrams\n\n</div>"
    },
    {
      "cell_type": "markdown",
      "metadata": {
        "cell_id": "a227191d5ba746b08b5f634e98db2368",
        "deepnote_cell_type": "markdown",
        "tags": []
      },
      "source": "<div class=\"alert alert-block alert-success\">\n\n## Approximate time to complete Notebook: 40-60 Mins\n\n</div>"
    },
    {
      "cell_type": "code",
      "execution_count": null,
      "metadata": {
        "cell_id": "099c3d0bd9034ed59b0d2db135f95d12",
        "deepnote_cell_type": "code",
        "deepnote_to_be_reexecuted": false,
        "execution_context_id": "386ff15c-664f-43c9-ab36-27ec0bd72ef5",
        "execution_millis": 1200,
        "execution_start": 1745002761747,
        "source_hash": "ae633b83",
        "tags": [],
        "trusted": true
      },
      "outputs": [],
      "source": "# This code will load the R packages we will use\nlibrary(coursekata)\n\n# read data\npockets <- read.csv(\"https://raw.githubusercontent.com/the-pudding/data/master/pockets/measurements.csv\")"
    },
    {
      "cell_type": "markdown",
      "metadata": {
        "cell_id": "3c146e7c5b69455dbf10e1134a60f7c9",
        "deepnote_cell_type": "markdown"
      },
      "source": "Today we are going to explore a functional need in our lives: the ability to keep our phones in our jeans.\n\n<img src=\"https://coursekata-course-assets.s3.us-west-1.amazonaws.com/UCLATALL/czi-stats-course/jnb_ChwwmXW1-image.png\">\n\nData Source: [Pudding article](https://pudding.cool/2018/08/pockets/)"
    },
    {
      "cell_type": "markdown",
      "metadata": {
        "cell_id": "bff82f1524e748978e31525da68e60da",
        "deepnote_cell_type": "markdown"
      },
      "source": "<div class=\"alert alert-block alert-success\">\n\n### 1.0 - Approximate Time:  10-15 mins\n\n</div>"
    },
    {
      "cell_type": "markdown",
      "metadata": {
        "cell_id": "fcea70d13dce4dacac9ef1f92277a91c",
        "deepnote_cell_type": "markdown"
      },
      "source": "## 1.0: Does Your Phone Fit in Your Pocket?"
    },
    {
      "cell_type": "markdown",
      "metadata": {
        "cell_id": "af7c024d1fb24873b2ffefb63b902956",
        "deepnote_cell_type": "markdown"
      },
      "source": "**1.1:** If you were wearing jeans, which pocket would you put your phone in? Would you pay more for a pair of jeans that allowed you more space for your phone? How much more? "
    },
    {
      "cell_type": "markdown",
      "metadata": {
        "cell_id": "9b5d33e7f529477cb27ceebfd72b2e74",
        "deepnote_cell_type": "markdown"
      },
      "source": "<div class=\"alert alert-block alert-warning\">\n\n<b>Sample Response:</b> \n\n*Student responses will vary.*\n\n</div>"
    },
    {
      "cell_type": "markdown",
      "metadata": {
        "cell_id": "466bd6edb0894c1ba2bb32ac01f9c8bc",
        "deepnote_cell_type": "markdown"
      },
      "source": "**1.2:** Take a look some of the variables in the data frame `pockets`. Because pockets are weird shapes, there are a few different ways we can measure them. \n\n<img src=\"https://coursekata-course-assets.s3.us-west-1.amazonaws.com/UCLATALL/czi-stats-course/jnb_V1BhJmkc-image.png\" width = 600>\n\nWhich of these variables would be a good outcome variable to maximize if we wanted to comfortably carry phones in jeans?"
    },
    {
      "cell_type": "code",
      "execution_count": null,
      "metadata": {
        "cell_id": "45a1de5694204627b7d4162b1dfcac2d",
        "deepnote_cell_type": "code",
        "deepnote_to_be_reexecuted": false,
        "execution_context_id": "386ff15c-664f-43c9-ab36-27ec0bd72ef5",
        "execution_millis": 1,
        "execution_start": 1745002762997,
        "source_hash": "682bc126",
        "trusted": true
      },
      "outputs": [],
      "source": "# Sample Response\nhead(pockets)"
    },
    {
      "cell_type": "markdown",
      "metadata": {
        "cell_id": "ea695a421b6b4161960228b22bc65e4f",
        "deepnote_cell_type": "markdown"
      },
      "source": "<div class=\"alert alert-block alert-warning\">\n\n<b>Sample Response:</b> \n\nSteer students to pick `maxHeightBack` (or maybe `minHeightBack` but the rest of this complete notebook will assume `maxHeightBack`).\n\n</div>"
    },
    {
      "cell_type": "markdown",
      "metadata": {
        "cell_id": "6c92ac14f2674ed9a8254d8f6e8a0137",
        "deepnote_cell_type": "markdown"
      },
      "source": "**1.3:** Fashion designer Christian Dior allegedly said in 1954, “Men have pockets to keep things in, women for decoration.” Do you think there is a male bias for pocket size?\n"
    },
    {
      "cell_type": "markdown",
      "metadata": {
        "cell_id": "ae5066e13acc4e25b11cd0227ec441cf",
        "deepnote_cell_type": "markdown"
      },
      "source": "<div class=\"alert alert-block alert-warning\">\n\n<b>Sample Response:</b> \n\n*Student responses will vary.*\n\n</div>"
    },
    {
      "cell_type": "markdown",
      "metadata": {
        "cell_id": "1b15ba09b1534346a62dc579f6c112f9",
        "deepnote_cell_type": "markdown"
      },
      "source": "**1.4:** Might there be better or worse pockets for people who can afford them? Do you think pocket length might be related to the prices of the jeans?"
    },
    {
      "cell_type": "markdown",
      "metadata": {
        "cell_id": "712ad4d95a8c4fb79d8129e3a7366299",
        "deepnote_cell_type": "markdown"
      },
      "source": "<div class=\"alert alert-block alert-warning\">\n\n<b>Sample Response:</b> \n\n*Student responses will vary.*\n\n</div>"
    },
    {
      "cell_type": "markdown",
      "metadata": {
        "cell_id": "8edf646d513544b8a39734ab93e81019",
        "deepnote_cell_type": "markdown"
      },
      "source": "<div class=\"alert alert-block alert-success\">\n\n### 2.0 - Approximate Time:  5-10 mins\n\n</div>"
    },
    {
      "cell_type": "markdown",
      "metadata": {
        "cell_id": "14bb8844995a4d538080a6f229f34766",
        "deepnote_cell_type": "markdown"
      },
      "source": "## 2.0: Explore the Inequality/Variation of Pockets"
    },
    {
      "cell_type": "markdown",
      "metadata": {
        "cell_id": "aed3db1df99b42daaf85e6c01d2a3053",
        "deepnote_cell_type": "markdown"
      },
      "source": "**2.1:** Perhaps pocket length is related to whether the jeans are intended for men or women as well as the price of the jeans. Write this multivariate hypothesis as a word equation. (Use the names of the variables from the `pockets` data frame.)"
    },
    {
      "cell_type": "markdown",
      "metadata": {
        "cell_id": "43e0de761e104b1c8b052211bb817ec4",
        "deepnote_cell_type": "markdown"
      },
      "source": "<div class=\"alert alert-block alert-warning\">\n\n<b>Sample Response:</b> \n\nmaxHeightBack = menWomen + price + error\n\n</div>"
    },
    {
      "cell_type": "markdown",
      "metadata": {
        "cell_id": "4549c930cec64f3985f5b0a7bb3a47ab",
        "deepnote_cell_type": "markdown"
      },
      "source": "**2.1:** Explore this hypothesis with a data visualization and describe any patterns you see."
    },
    {
      "cell_type": "code",
      "execution_count": null,
      "metadata": {
        "cell_id": "159042a007ab4705be5add221f24935f",
        "deepnote_cell_type": "code",
        "deepnote_to_be_reexecuted": false,
        "execution_context_id": "386ff15c-664f-43c9-ab36-27ec0bd72ef5",
        "execution_millis": 245,
        "execution_start": 1745002763058,
        "source_hash": "b773313d",
        "trusted": true
      },
      "outputs": [],
      "source": "# Sample Response\ngf_jitter(maxHeightBack ~ price, color = ~menWomen, data = pockets) "
    },
    {
      "cell_type": "markdown",
      "metadata": {
        "cell_id": "7d7e90936c8a4fe38f2a9a61c60e6691",
        "deepnote_cell_type": "markdown"
      },
      "source": "<div class=\"alert alert-block alert-warning\">\n\n<b>Sample Responses:</b> \n\n- There are some points that could be outliers.\n- The points for women appear to be clumped slightly lower on maxHeightBack than the points for men.\n\n\n</div>"
    },
    {
      "cell_type": "markdown",
      "metadata": {
        "cell_id": "2acd13dfac134dce8f6559d9d846fa7d",
        "deepnote_cell_type": "markdown"
      },
      "source": "<div class=\"alert alert-block alert-success\">\n\n### 3.0 - Approximate Time:  5-10 mins\n\n</div>"
    },
    {
      "cell_type": "markdown",
      "metadata": {
        "cell_id": "857617081d5746ae895587b62426420f",
        "deepnote_cell_type": "markdown"
      },
      "source": "## 3.0: Model Variation in Pockets"
    },
    {
      "cell_type": "markdown",
      "metadata": {
        "cell_id": "2ea430373bbf4d38bbc8536942f20947",
        "deepnote_cell_type": "markdown"
      },
      "source": "**3.1:** Find the best fitting model for our hypothesis and interpret the parameter estimates."
    },
    {
      "cell_type": "code",
      "execution_count": null,
      "metadata": {
        "cell_id": "ea9e0cedc73840c1a21dca34df6f0e5b",
        "deepnote_cell_type": "code",
        "deepnote_to_be_reexecuted": false,
        "execution_context_id": "386ff15c-664f-43c9-ab36-27ec0bd72ef5",
        "execution_millis": 103,
        "execution_start": 1745002763347,
        "source_hash": "277181c3",
        "trusted": true
      },
      "outputs": [],
      "source": "# Sample Response\nmodel <- lm(maxHeightBack ~ menWomen + price, data = pockets) \nmodel"
    },
    {
      "cell_type": "markdown",
      "metadata": {
        "cell_id": "1998b0eb45e34ee5b29d504af7352626",
        "deepnote_cell_type": "markdown"
      },
      "source": "<div class=\"alert alert-block alert-warning\">\n\n<b>Sample Response:</b> \n\n- $b_0$ = 16.10; this is the y-intercept, or the average height of a pocket for men's jeans and when the price is zero.\n\n- $b_1$ = -0.89; this is the adjustment we make to $b_0$ if the jeans are women's jeans.\n\n- $b_2$ = -0.001; this is the slope, or the adjustment we make to $b_0$ + $b_1$ for every one dollar increase in price.\n\n</div>"
    },
    {
      "cell_type": "markdown",
      "metadata": {
        "cell_id": "0e709a2077c44c4c80a3a6e6a7dc8ba7",
        "deepnote_cell_type": "markdown"
      },
      "source": "**3.2:** Add the model to the visualization you made."
    },
    {
      "cell_type": "code",
      "execution_count": null,
      "metadata": {
        "cell_id": "72f3828f60fb4628883f6bfa63ff3e73",
        "deepnote_cell_type": "code",
        "deepnote_to_be_reexecuted": false,
        "execution_context_id": "386ff15c-664f-43c9-ab36-27ec0bd72ef5",
        "execution_millis": 274,
        "execution_start": 1745002763509,
        "source_hash": "93e91584",
        "trusted": true
      },
      "outputs": [],
      "source": "# Sample Response\ngf_jitter(maxHeightBack ~ price, color = ~menWomen, data = pockets) %>%\n  gf_model(model)"
    },
    {
      "cell_type": "markdown",
      "metadata": {
        "cell_id": "6ea30bddd2784759acca73550d28ca48",
        "deepnote_cell_type": "markdown"
      },
      "source": "<div class=\"alert alert-block alert-success\">\n\n### 4.0 - Approximate Time:  20-25 mins\n\n</div>"
    },
    {
      "cell_type": "markdown",
      "metadata": {
        "cell_id": "56fc0504263040a3927ba0928d6eb3ef",
        "deepnote_cell_type": "markdown"
      },
      "source": "## 4.0: Evaluate Models"
    },
    {
      "cell_type": "markdown",
      "metadata": {
        "cell_id": "9eb28bcccd744189bd3de0cf16e1f9ed",
        "deepnote_cell_type": "markdown"
      },
      "source": "**4.1:** Using the ANOVA table, which explanatory variable seems more important in explaining the variation in pocket size? "
    },
    {
      "cell_type": "code",
      "execution_count": null,
      "metadata": {
        "cell_id": "e4389a7439d9431aba93fb6f582db44e",
        "deepnote_cell_type": "code",
        "deepnote_to_be_reexecuted": false,
        "execution_context_id": "386ff15c-664f-43c9-ab36-27ec0bd72ef5",
        "execution_millis": 1,
        "execution_start": 1745002763827,
        "source_hash": "a47083db",
        "trusted": true
      },
      "outputs": [],
      "source": "# Sample Response\nsupernova(model)"
    },
    {
      "cell_type": "markdown",
      "metadata": {
        "cell_id": "88d73b51f8164e4f86f33e4ef64180ca",
        "deepnote_cell_type": "markdown"
      },
      "source": "<div class=\"alert alert-block alert-warning\">\n\n<b>Sample Response:</b> \n\nAccording to the ANOVA table, it seems that `menWomen` might be a more important explanatory variable in the DGP than `price`. The unique explanatory contribution of `menWomen` is represented by SS=15.7, F=23.54, and PRE=.23. In contrast, the unique explanatory contribution of `price` is lower (SS=0.2, F=0.3, PRE = .004). \n\n</div>"
    },
    {
      "cell_type": "markdown",
      "metadata": {
        "cell_id": "42c71b971b294bb59e3be2aee97248dd",
        "deepnote_cell_type": "markdown"
      },
      "source": "**4.2, Select:** One thing to note is that although PRE always stands for the *proportion reduction in error*, the three PREs in the ANOVA table indicate slightly different things in a multivariate model. Let's take some time to draw out what these PREs (and SSes) mean.\n\nWhich of these Venn diagrams depict the relationship seen in this data analysis?\n<img src=\"https://coursekata-course-assets.s3.us-west-1.amazonaws.com/UCLATALL/czi-stats-course/jnb_w9t7Hkkz-image.png\">"
    },
    {
      "cell_type": "markdown",
      "metadata": {
        "cell_id": "abd4b4e5b7ce4e5b967b87f943f17504",
        "deepnote_cell_type": "markdown"
      },
      "source": "<div class=\"alert alert-block alert-warning\">\n\n<b>Sample Response:</b> \n\nThe middle diagram most closely represents the PRE for this model.\n\n</div>"
    },
    {
      "cell_type": "markdown",
      "metadata": {
        "cell_id": "2665917ee08743d88ea33edb29dd3830",
        "deepnote_cell_type": "markdown"
      },
      "source": "**4.3:** Try calculating the PREs from the SS we see in the ANOVA table, and on the worksheet provided by your instructor, draw out each of the PREs on the three rows and label them."
    },
    {
      "cell_type": "code",
      "execution_count": null,
      "metadata": {
        "cell_id": "8711c3dfe8c646ac950f88ab39616736",
        "deepnote_cell_type": "code",
        "deepnote_to_be_reexecuted": false,
        "execution_context_id": "386ff15c-664f-43c9-ab36-27ec0bd72ef5",
        "execution_millis": 1,
        "execution_start": 1745002763877,
        "source_hash": "549d1e3e",
        "trusted": true
      },
      "outputs": [],
      "source": "supernova(model)\n"
    },
    {
      "cell_type": "markdown",
      "metadata": {
        "cell_id": "1a2e28be687246faaf53712ea0c1e98a",
        "deepnote_cell_type": "markdown"
      },
      "source": "<div class=\"alert alert-block alert-warning\">\n\n<b>Teacher Resources:</b>\n\n- Link to [slides for making the diagrams](https://docs.google.com/presentation/d/16vD_BcpKw-1-6oIe_S8Ar5wtLq8sMC5_x3MSaOJNSt4/edit?usp=sharing). These can also be used for instructional purposes.\n- Link to [printable worksheet](https://docs.google.com/document/d/14beROvKedNGnCHIdQ8KnvCKnk_QeCsCBWCBN-2OrmtI/edit?usp=sharing) \n\n</div>"
    },
    {
      "cell_type": "markdown",
      "metadata": {
        "cell_id": "051cc8feeab54f0c80ec478fcb0daee8",
        "deepnote_cell_type": "markdown"
      },
      "source": "**4.2:** From these four possible models, which would you reject? Which should be explored further?\n\n- the empty model of the DGP\n- the `menWomen` only model of the DGP\n- the `price` only model of the DGP\n- the full model of the DGP\n"
    },
    {
      "cell_type": "markdown",
      "metadata": {
        "cell_id": "38659e9d9d064ab4848356d8f056fc1d",
        "deepnote_cell_type": "markdown"
      },
      "source": "<div class=\"alert alert-block alert-warning\">\n\n<b>Sample Responses:</b> \n\nReject:\n- the empty model of the DGP\n- the `price` only model of the DGP\n\nExplore further:\n- the full model of the DGP\n- the `menWomen` only model of the DGP\n- note that the `menWomen` only model is simpler than the multivariate model and does basically just as good of a job in explaining variation\n</div>"
    },
    {
      "cell_type": "code",
      "execution_count": null,
      "metadata": {
        "cell_id": "2fa0ae58946a4c93b736d707a55d118d",
        "deepnote_cell_type": "code",
        "deepnote_to_be_reexecuted": false,
        "execution_context_id": "386ff15c-664f-43c9-ab36-27ec0bd72ef5",
        "execution_millis": 199,
        "execution_start": 1745002763927,
        "source_hash": "52a6b279",
        "trusted": true
      },
      "outputs": [],
      "source": "# if students want to try this with a model that has 2 categorical explanatory variables\npockets2 <- filter(pockets, style != \"slim\", style != \"regular\")\nmodel2 <- lm(maxHeightBack ~ style + menWomen, data = pockets2)\ngf_jitter(maxHeightBack ~ style, color = ~menWomen, data = pockets2, width = .1) %>%\n  gf_model(model2) \nsupernova(model2)"
    }
  ],
  "metadata": {
    "deepnote_notebook_id": "80f57b91eb44486f997a0f13509bfd23",
    "kernelspec": {
      "display_name": "R",
      "language": "R",
      "name": "ir"
    },
    "language_info": {
      "codemirror_mode": "r",
      "file_extension": ".r",
      "mimetype": "text/x-r-source",
      "name": "R",
      "pygments_lexer": "r",
      "version": "4.3.3"
    },
    "nbsimplegrader": {
      "publish_config": {
        "classes": [],
        "options": [],
        "tools": []
      }
    }
  },
  "nbformat": 4,
  "nbformat_minor": 1
}