{
 "cells": [
  {
   "cell_type": "markdown",
   "metadata": {
    "cell_id": "65b072b4906c4139aa9f79ad4f41223e",
    "deepnote_cell_height": 82,
    "deepnote_cell_type": "markdown",
    "tags": []
   },
   "source": [
    "# <center>Project (Ch. 1-12): Evaluating Models</center> "
   ]
  },
  {
   "cell_type": "code",
   "execution_count": null,
   "metadata": {
    "cell_id": "fb7b8ed92cbd4a8693a8de6687286ce0",
    "deepnote_cell_type": "code",
    "deepnote_to_be_reexecuted": false,
    "execution_millis": 4294,
    "execution_start": 1723835300477,
    "output_cleared": false,
    "source_hash": null
   },
   "outputs": [],
   "source": [
    "# Load the CourseKata library\n",
    "suppressPackageStartupMessages({\n",
    "    library(coursekata)\n",
    "})"
   ]
  },
  {
   "cell_type": "markdown",
   "metadata": {
    "cell_id": "efe4e3eabb9f49bba9d560cf711954a9",
    "deepnote_cell_height": 219.1875,
    "deepnote_cell_type": "markdown",
    "tags": []
   },
   "source": [
    "<div class=\"alert alert-block alert-info\">\n",
    "\n",
    "## Link to Guide and Rubric\n",
    "\n",
    "The **Guide** answers the question \"What is a data analysis report?\" and the **Rubric** can be used to help you write a good data analysis report.\n",
    "\n",
    "You can access both the guide and the rubric at this link: https://bit.ly/data-analysis-report-guide\n",
    "\n",
    "\n",
    "</div>"
   ]
  },
  {
   "cell_type": "markdown",
   "metadata": {
    "cell_id": "e944a6b3efbe4d35b5a6360b64b3a034",
    "deepnote_cell_height": 407.578125,
    "deepnote_cell_type": "markdown",
    "tags": []
   },
   "source": [
    "<div class=\"alert alert-block alert-info\">\n",
    "\n",
    "## Data\n",
    "\n",
    "For this data analysis assignment, you will select your own dataset.  \n",
    "\n",
    "Here are some resources for finding datasets that are preloaded in your R libraries:\n",
    "\n",
    "- Link to list of all datasets that are preloaded with [library(supernova)](https://www.rdocumentation.org/packages/supernova/versions/1.1)\n",
    "\n",
    "- Link to list of all datasets that are preloaded with [library(Lock5withR)](https://www.rdocumentation.org/packages/Lock5withR/versions/1.2.2)\n",
    "\n",
    "- Link to list of all datasets that are preloaded with [library(fivethirtyeight)](https://cran.r-project.org/web/packages/fivethirtyeight/vignettes/fivethirtyeight.html)\n",
    "\n",
    "- Link to list of all datasets that are preloaded with [library(dslabs)](https://www.rdocumentation.org/packages/dslabs/versions/0.7.3 )\n",
    "\n",
    "You can also try searching for datasets on the following websites:\n",
    "\n",
    "- [Kaggle.com](https://www.kaggle.com/datasets)\n",
    "- [U.S. Government’s Open Data](https://www.data.gov/)\n",
    "\n",
    "</div>"
   ]
  },
  {
   "cell_type": "markdown",
   "metadata": {
    "cell_id": "b3ef80ac15db4a9fa9f5e79861b312f3",
    "deepnote_cell_height": 277.984375,
    "deepnote_cell_type": "markdown",
    "owner_user_id": "21cb1e38-7460-4830-8b54-1b548c541f6d",
    "tags": []
   },
   "source": [
    "<div class=\"alert alert-block alert-info\">\n",
    "\n",
    "## Instructions\n",
    "\n",
    "Your task is to use R to explore and model variation in the data, and evaluate models with the goal of reporting your findings to a target audience.\n",
    "\n",
    "Based on the dataset you have chosen, you will decide who your target audience is. Who would be interested in the data you are exploring and modeling? \n",
    "\n",
    "Explicitly state an audience relevant to your data analysis in your report.\n",
    "\n",
    "</div>"
   ]
  },
  {
   "cell_type": "markdown",
   "metadata": {
    "cell_id": "396b46dfdfb14f39aa294118643892d7",
    "deepnote_cell_height": 70,
    "deepnote_cell_type": "markdown"
   },
   "source": [
    "## Intro/Overview of the Problem or Question"
   ]
  },
  {
   "cell_type": "markdown",
   "metadata": {
    "cell_id": "ccbe67245b0b4f84bdc98e3da3280fda",
    "deepnote_cell_height": 370.984375,
    "deepnote_cell_type": "markdown"
   },
   "source": [
    "<div class=\"alert alert-block alert-info\"> \n",
    "\n",
    "The goal of this section is to provide an overview of the context, situation, or problem.\n",
    "\n",
    "A good introduction section typically includes the following topics (but not necessarily in this order): \n",
    "\n",
    "- A description of the question or problem you are investigating and why this question is important (remember to identify your target audience!)\n",
    "\n",
    "- A description of the data you will use in your investigation, such as:\n",
    "  - where the data came from \n",
    "  - why and how it was collected\n",
    "  - what cases and variables are included\n",
    "\n",
    "- Your initial hypothesis (perhaps also stated as a word equation), specifying outcome and explanatory variables, and why you think your hypothesis is plausible\n",
    "\n",
    "</div>"
   ]
  },
  {
   "cell_type": "markdown",
   "metadata": {
    "cell_id": "35758e51234f4c118a12d2e5f0cb6d81",
    "deepnote_cell_height": 70,
    "deepnote_cell_type": "markdown"
   },
   "source": [
    "## Explore Variation"
   ]
  },
  {
   "cell_type": "markdown",
   "metadata": {
    "cell_id": "dc2f10c5e6114cc7aa8ccde853875b72",
    "deepnote_cell_height": 393.375,
    "deepnote_cell_type": "markdown"
   },
   "source": [
    "<div class=\"alert alert-block alert-info\">\n",
    "\n",
    "The goal of this section is to explore variation in your explanatory and outcome variables. That exploration will almost certainly include visual displays of your data.\n",
    "\n",
    "A good exploring variation section typically includes the following topics (but not necessarily in this order): \n",
    "\n",
    "- A description of how you cleaned and prepared your data and why, such as: \n",
    "  - filtering cases \n",
    "  - handling missing data \n",
    "  - recoding or creating new variables\n",
    "\n",
    "- Visualizations or tables to explore the distributions of relevant variables and hypothesized relationships among variables\n",
    "\n",
    "- Descriptions of the visualizations or tables, and explanations of how they relate to the hypotheses or research questions\n",
    "\n",
    "</div>"
   ]
  },
  {
   "cell_type": "markdown",
   "metadata": {
    "cell_id": "4a6efa87ba4a48498f62c12dedbe82c1",
    "deepnote_cell_height": 70,
    "deepnote_cell_type": "markdown",
    "tags": []
   },
   "source": [
    "## Model Variation "
   ]
  },
  {
   "cell_type": "markdown",
   "metadata": {
    "cell_id": "614ee54bbfda4b2c9608fe99f11666f6",
    "deepnote_cell_height": 298.1875,
    "deepnote_cell_type": "markdown",
    "owner_user_id": "23d85493-7ed1-49a4-baa7-630eaab08193",
    "tags": []
   },
   "source": [
    "<div class=\"alert alert-block alert-info\">\n",
    "\n",
    "The goal of this section is to create a model or models that uses explanatory variables to explain some of the variation in your outcome variable.\n",
    "\n",
    "A good modeling variation section typically includes the following topics (but not necessarily in this order): \n",
    "\n",
    "- The best fitting model (or models), expressed in GLM notation, to represent your research question \n",
    "\n",
    "- The interpretation of your parameter estimates in the units appropriate to your research question\n",
    "\n",
    "- A visual display of your model overlaid on the data \n",
    "\n",
    "- The creation and interpretation of an ANOVA table to assess how well the model fits the data, and a comparison of the fit of alternative models when applicable \n",
    "\n",
    "\n",
    "</div>"
   ]
  },
  {
   "cell_type": "markdown",
   "metadata": {
    "cell_id": "62c3c1be30df4554b9330abef7c0e169",
    "deepnote_cell_height": 70,
    "deepnote_cell_type": "markdown",
    "tags": []
   },
   "source": [
    "## Evaluate Models "
   ]
  },
  {
   "cell_type": "markdown",
   "metadata": {
    "cell_id": "57b554513c6a46f2b7590cbe63eecceb",
    "deepnote_cell_height": 224.984375,
    "deepnote_cell_type": "markdown",
    "tags": []
   },
   "source": [
    "<div class=\"alert alert-block alert-info\">\n",
    "\n",
    "The goal of this section is to discuss your model in relation to other plausible models of the DGP.\n",
    "\n",
    "A good evaluating models section typically includes the following topics (but not necessarily in this order): \n",
    "\n",
    "- The construction and interpretation of a confidence interval in relation to your research question \n",
    "\n",
    "- An evaluation of your model(s) against the empty model using p-value or confidence intervals, and a rationale for which model you opt to retain \n",
    "\n",
    "\n",
    "</div>"
   ]
  },
  {
   "cell_type": "markdown",
   "metadata": {
    "cell_id": "032b35388ce24130b0e52349efa413aa",
    "deepnote_cell_height": 70,
    "deepnote_cell_type": "markdown",
    "tags": []
   },
   "source": [
    "## Conclusions "
   ]
  },
  {
   "cell_type": "markdown",
   "metadata": {
    "cell_id": "114ea2684fea478196650880d4fbf49c",
    "deepnote_cell_height": 224.984375,
    "deepnote_cell_type": "markdown",
    "tags": []
   },
   "source": [
    "<div class=\"alert alert-block alert-info\">\n",
    "\n",
    "The goal of this section is to help your audience understand what can be learned from your data analysis.\n",
    "\n",
    "A good conclusion section typically includes the following topics (but not necessarily in this order): \n",
    "\n",
    "- A summary of what you did, what you found, and how it relates to the motivating question \n",
    "\n",
    "- A discussion of the implications of the results, what they mean for the audience or the world, and possible limitations of the findings  \n",
    "\n",
    "\n",
    "</div>"
   ]
  },
  {
   "cell_type": "markdown",
   "metadata": {
    "cell_id": "7c0bca9b4787490c88df8123b0d4cabb",
    "deepnote_cell_height": 182.796875,
    "deepnote_cell_type": "markdown"
   },
   "source": [
    "<div class=\"alert alert-block alert-info\">\n",
    "\n",
    "## After you are done...\n",
    "\n",
    "Go through this document and delete all the cells with blue text boxes (the instructions). You will be then left with a data analysis report.\n",
    "\n",
    "</div>"
   ]
  }
 ],
 "metadata": {
  "deepnote_notebook_id": "f68cc5e90c7f48cb83859b3da2f7b347",
  "kernelspec": {
   "display_name": "R",
   "language": "R",
   "name": "ir"
  },
  "language_info": {
   "codemirror_mode": "r",
   "file_extension": ".r",
   "mimetype": "text/x-r-source",
   "name": "R",
   "pygments_lexer": "r",
   "version": "4.3.3"
  },
  "nbsimplegrader": {
   "publish_config": {
    "classes": [],
    "options": [],
    "tools": []
   }
  }
 },
 "nbformat": 4,
 "nbformat_minor": 1
}
