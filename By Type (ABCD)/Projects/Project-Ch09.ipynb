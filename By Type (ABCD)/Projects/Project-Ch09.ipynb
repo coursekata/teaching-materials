{
  "cells": [
    {
      "cell_type": "markdown",
      "metadata": {
        "cell_id": "0ecc35ec30324ebca0a6957124487f39",
        "deepnote_cell_type": "markdown",
        "output_cleared": false,
        "tags": []
      },
      "source": "# <center>Project (Ch. 1-9): Modeling Variation</center> "
    },
    {
      "cell_type": "code",
      "execution_count": null,
      "metadata": {
        "cell_id": "e131adf1479a4f469b793a24ba33bb09",
        "deepnote_cell_type": "code",
        "deepnote_to_be_reexecuted": false,
        "execution_millis": 4166,
        "execution_start": 1723834232515,
        "output_cleared": false,
        "source_hash": null,
        "trusted": true
      },
      "outputs": [],
      "source": "# Load the CourseKata library\nsuppressPackageStartupMessages({\n    library(coursekata)\n})"
    },
    {
      "cell_type": "markdown",
      "metadata": {
        "cell_id": "208352852cfd46dbb584016d9ecbfe4d",
        "deepnote_cell_height": 219.1875,
        "deepnote_cell_type": "markdown",
        "tags": []
      },
      "source": "<div class=\"alert alert-block alert-info\">\n\n## Link to Guide and Rubric\n\nThe **Guide** answers the question \"What is a data analysis report?\" and the **Rubric** can be used to help you write a good data analysis report.\n\nYou can access both the guide and the rubric at this link: https://bit.ly/data-analysis-report-guide\n\n\n</div>"
    },
    {
      "cell_type": "markdown",
      "metadata": {
        "cell_id": "6aac5e0b22054d7caba473d543a82ae5",
        "deepnote_cell_height": 870.15625,
        "deepnote_cell_type": "markdown",
        "output_cleared": false
      },
      "source": "<div class=\"alert alert-block alert-info\">\n\n## Data\n\nSeven data frames are preloaded in this notebook using the code above. Explore the data frames and choose one that interests you for this assignment.\n\nOption 1: `HoneybeeCircuits`\n\n- This data frame has data on the number of circuits for honeybee dances and nest quality.\n- [Click here](https://www.rdocumentation.org/packages/Lock5Data/versions/2.6/topics/HoneybeeCircuits) for a description of all the variables.\n\nOption 2: `April14Temps`\n\n- This data frame has data on temperatures in Des Moines, IA and San Francisco, CA on April 14th.\n- [Click here](https://www.rdocumentation.org/packages/Lock5Data/versions/2.6/topics/April14Temps) for a description of all the variables.\n\nOption 3: `CricketChirps`\n\n- This data frame has data on cricket chirp rate and temperature.\n- [Click here](https://www.rdocumentation.org/packages/Lock5Data/versions/2.6/topics/CricketChirps) for a description of all the variables.\n\nOption 4: `FishGills3`\n\n- The data set contains data on respiration rate for fish in three levels of calcium.\n- [Click here](https://www.rdocumentation.org/packages/Lock5Data/versions/2.6/topics/FishGills3) for a description of all the variables.\n\nOption 5: `HoneybeeWaggle`\n\n- The data set contains data on honeybee dance duration and distance to nesting site.\n- [Click here](https://www.rdocumentation.org/packages/Lock5Data/versions/2.6/topics/HoneybeeWaggle) for a description of all the variables.\n\nOption 6: `StressedMice`\n\n- The data set contains data on time in darkness for mice in different environments.\n- [Click here](https://www.rdocumentation.org/packages/Lock5Data/versions/2.6/topics/StressedMice) for a description of all the variables.\n\nOption 7: `SleepCaffeine`\n\n- The data set contains data on an experiment to compare word recall after sleep or caffeine.\n- [Click here](https://www.rdocumentation.org/packages/Lock5Data/versions/2.6/topics/SleepCaffeine) for a description of all the variables.\n\n\n</div>"
    },
    {
      "cell_type": "markdown",
      "metadata": {
        "cell_id": "29197a6b504c47d8b2a8af5b8d50f781",
        "deepnote_cell_height": 345.1875,
        "deepnote_cell_type": "markdown",
        "output_cleared": false,
        "tags": []
      },
      "source": "<div class=\"alert alert-block alert-info\">\n\n## Instructions\n\nYour task is to use R to explore and model variation in the data with the goal of reporting your findings to a target audience.\n\nYour target audience for this case is a local science fair, where you are tasked with reporting the findings of one of the experiments above to the local community.\n\nNote: A full data analysis report will have 5 sections: Introduction, Explore Variation, Model Variation, Evaluate Models, Discussion/Conclusions. At this stage of the course, your report will only include the **first three sections** (Introduction, Explore Variation, and Model Variation), however, it should still be a standalone report, with its own concluding statements.\n\n</div>"
    },
    {
      "cell_type": "markdown",
      "metadata": {
        "cell_id": "a620e33f078b4fbd991b6188caf04537",
        "deepnote_cell_height": 70,
        "deepnote_cell_type": "markdown",
        "output_cleared": false
      },
      "source": "## Intro/Overview of the Problem or Question"
    },
    {
      "cell_type": "markdown",
      "metadata": {
        "cell_id": "f06d8a3c88e04eeca1e5385251fe9ec9",
        "deepnote_cell_height": 348.578125,
        "deepnote_cell_type": "markdown",
        "output_cleared": false,
        "tags": []
      },
      "source": "<div class=\"alert alert-block alert-info\"> \n\nThe goal of this section is to provide an overview of the context, situation, or problem.\n\nA good introduction section typically includes the following topics (but not necessarily in this order): \n- A description of the question or problem you are investigating and why this question is important\n\n- A description of the data you will use in your investigation, such as:\n  - where the data came from \n  - why and how it was collected\n  - what cases and variables are included\n\n- Your initial hypothesis (perhaps also stated as a word equation), specifying outcome and explanatory variables, and why you think your hypothesis is plausible\n\n</div>"
    },
    {
      "cell_type": "markdown",
      "metadata": {
        "cell_id": "2d74a26e261a46a5a2a1164ec4dda74e",
        "deepnote_cell_height": 70,
        "deepnote_cell_type": "markdown",
        "output_cleared": false,
        "tags": []
      },
      "source": "## Explore Variation"
    },
    {
      "cell_type": "markdown",
      "metadata": {
        "cell_id": "0ac9037861c244bdaaf833673548bbab",
        "deepnote_cell_height": 393.375,
        "deepnote_cell_type": "markdown",
        "output_cleared": false,
        "owner_user_id": "21cb1e38-7460-4830-8b54-1b548c541f6d",
        "tags": []
      },
      "source": "<div class=\"alert alert-block alert-info\">\n\nThe goal of this section is to explore variation in your explanatory and outcome variables. That exploration will almost certainly include visual displays of your data.\n\nA good exploring variation section typically includes the following topics (but not necessarily in this order): \n\n- A description of how you cleaned and prepared your data and why, such as: \n  - filtering cases \n  - handling missing data \n  - recoding or creating new variables\n\n- Visualizations or tables to explore the distributions of relevant variables and hypothesized relationships among variables\n\n- Descriptions of the visualizations or tables, and explanations of how they relate to the hypotheses or research questions\n\n</div>"
    },
    {
      "cell_type": "markdown",
      "metadata": {
        "cell_id": "4f1ee9c60251485b8da966f3ef2c4a4a",
        "deepnote_cell_height": 70,
        "deepnote_cell_type": "markdown",
        "output_cleared": false,
        "tags": []
      },
      "source": "## Model Variation "
    },
    {
      "cell_type": "markdown",
      "metadata": {
        "cell_id": "1ce4c476fa0a4602b884f07443c88b59",
        "deepnote_cell_height": 298.1875,
        "deepnote_cell_type": "markdown",
        "output_cleared": false,
        "tags": []
      },
      "source": "<div class=\"alert alert-block alert-info\">\n\nThe goal of this section is to create a model or models that uses explanatory variables to explain some of the variation in your outcome variable.\n\nA good modeling variation section typically includes the following topics (but not necessarily in this order): \n\n- The best fitting model (or models), expressed in GLM notation, to represent your research question \n\n- The interpretation of your parameter estimates in the units appropriate to your research question\n\n- A visual display of your model overlaid on the data \n\n- The creation and interpretation of an ANOVA table to assess how well the model fits the data, and a comparison of the fit of alternative models when applicable \n\n\n</div>"
    },
    {
      "cell_type": "markdown",
      "metadata": {
        "cell_id": "cdc01470092145a0a964bf171ba82486",
        "deepnote_cell_height": 182.796875,
        "deepnote_cell_type": "markdown",
        "output_cleared": false,
        "owner_user_id": "23d85493-7ed1-49a4-baa7-630eaab08193",
        "tags": []
      },
      "source": "<div class=\"alert alert-block alert-info\">\n\n## After you are done...\n\nGo through this document and delete all the cells with blue text boxes (the instructions). You will be then left with a data analysis report.\n\n</div>"
    },
    {
      "cell_type": "markdown",
      "metadata": {
        "cell_id": "f94e0cc4641649948447e451385d5cde",
        "deepnote_cell_height": 70,
        "deepnote_cell_type": "markdown",
        "output_cleared": false,
        "tags": []
      },
      "source": "## Evaluate Models "
    },
    {
      "cell_type": "markdown",
      "metadata": {
        "cell_id": "054f7907cb1d4ecba1e96771ec45abea",
        "deepnote_cell_height": 260.984375,
        "deepnote_cell_type": "markdown",
        "output_cleared": false,
        "tags": []
      },
      "source": "<div class=\"alert alert-block alert-warning\">\n\n#### COMING SOON\n\nThe goal of this section is to discuss your model in relation to other plausible models of the DGP.\n\nA good evaluating models section typically includes the following topics (but not necessarily in this order): \n\n- The construction and interpretation of a confidence interval in relation to your research question \n\n- An evaluation of your model(s) against the empty model using p-value or confidence intervals, and a rationale for which model you opt to retain \n\n\n</div>"
    },
    {
      "cell_type": "markdown",
      "metadata": {
        "cell_id": "f28d242d2c3e4473a5e6803adbe47d82",
        "deepnote_cell_height": 70,
        "deepnote_cell_type": "markdown",
        "output_cleared": false,
        "tags": []
      },
      "source": "## Conclusions "
    },
    {
      "cell_type": "markdown",
      "metadata": {
        "cell_id": "97edd3a22a8b48b9b010b2d605347934",
        "deepnote_cell_height": 260.984375,
        "deepnote_cell_type": "markdown",
        "tags": []
      },
      "source": "<div class=\"alert alert-block alert-warning\">\n\n#### COMING SOON\n\nThe goal of this section is to help your audience understand what can be learned from your data analysis.\n\nA good conclusion section typically includes the following topics (but not necessarily in this order): \n\n- A summary of what you did, what you found, and how it relates to the motivating question \n\n- A discussion of the implications of the results, what they mean for the audience or the world, and possible limitations of the findings  \n\n\n</div>"
    }
  ],
  "metadata": {
    "deepnote_notebook_id": "3b47f58133ee401aa69aab1699a25e5c",
    "kernelspec": {
      "display_name": "R",
      "language": "R",
      "name": "ir"
    },
    "language_info": {
      "codemirror_mode": "r",
      "file_extension": ".r",
      "mimetype": "text/x-r-source",
      "name": "R",
      "pygments_lexer": "r",
      "version": "4.3.3"
    },
    "nbsimplegrader": {
      "publish_config": {
        "classes": [],
        "options": [],
        "tools": []
      }
    }
  },
  "nbformat": 4,
  "nbformat_minor": 1
}