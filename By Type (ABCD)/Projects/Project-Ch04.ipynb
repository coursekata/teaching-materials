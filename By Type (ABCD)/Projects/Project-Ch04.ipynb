{
 "cells": [
  {
   "cell_type": "markdown",
   "metadata": {
    "cell_id": "90ea13a46b3e4e20a615c51805109b20",
    "deepnote_cell_height": 82,
    "deepnote_cell_type": "markdown",
    "tags": []
   },
   "source": [
    "# <center>Project (Ch. 1-4): Exploring Variation</center> "
   ]
  },
  {
   "cell_type": "code",
   "execution_count": null,
   "metadata": {
    "cell_id": "528d6e9451b44b0cace0b9e099c772a1",
    "deepnote_cell_type": "code",
    "deepnote_to_be_reexecuted": false,
    "execution_millis": 1839,
    "execution_start": 1665513406289,
    "owner_user_id": "23d85493-7ed1-49a4-baa7-630eaab08193",
    "source_hash": null
   },
   "outputs": [],
   "source": [
    "# Load the CourseKata library\n",
    "suppressPackageStartupMessages({\n",
    "    library(coursekata)\n",
    "})"
   ]
  },
  {
   "cell_type": "markdown",
   "metadata": {
    "cell_id": "22edd51c36e549a69a077828caac8108",
    "deepnote_cell_height": 219.1875,
    "deepnote_cell_type": "markdown",
    "tags": []
   },
   "source": [
    "<div class=\"alert alert-block alert-info\">\n",
    "\n",
    "## Link to Guide and Rubric\n",
    "\n",
    "The **Guide** answers the question \"What is a data analysis report?\" and the **Rubric** can be used to help you write a good data analysis report. \n",
    "\n",
    "You can access both the guide and the rubric at this link: https://bit.ly/data-analysis-report-guide\n",
    "\n",
    "\n",
    "</div>"
   ]
  },
  {
   "cell_type": "markdown",
   "metadata": {
    "cell_id": "eef6c6d3cbc04af09e06235fbff587e0",
    "deepnote_cell_height": 263.984375,
    "deepnote_cell_type": "markdown"
   },
   "source": [
    "<div class=\"alert alert-block alert-info\">\n",
    "\n",
    "\n",
    "## Data\n",
    "\n",
    "Census at School is a classroom project that engages students in actually collecting data and analyzing data from themselves and other students. Students complete an online questionnaire (here is [a link to the questions](https://ww2.amstat.org/censusatschool/pdfs/C@SQuestionnaire.pdf)) and contribute their data to this project.\n",
    "\n",
    "The dataset you will be working with comes from the Census at School classroom project. The dataset contains information on 60 variables from 10,113 high school students at high schools in the United States.\n",
    "\n",
    "\n",
    "</div>"
   ]
  },
  {
   "cell_type": "markdown",
   "metadata": {
    "cell_id": "b9b1994974264685a4b1e9e9a9a137ac",
    "deepnote_cell_height": 381.578125,
    "deepnote_cell_type": "markdown",
    "deepnote_to_be_reexecuted": false,
    "execution_millis": 2,
    "execution_start": 1650396709444,
    "owner_user_id": "21cb1e38-7460-4830-8b54-1b548c541f6d",
    "source_hash": "bffd831c",
    "tags": []
   },
   "source": [
    "<div class=\"alert alert-block alert-info\">\n",
    "\n",
    "## Instructions\n",
    "\n",
    "Imagine you have been hired by an online magazine that would like to publish about American high school students. You have been contracted to uncover some interesting findings about American students using the Census at School data. They'd like to publish an article about high school students with your findings incorporated into it, and what those interesting facts are is up to you! \n",
    "\n",
    "Your task is to use R to explore variation in the data with the goal of reporting your findings to the magazine.\n",
    "\n",
    "Note: A full data analysis report will have 5 sections: Introduction, Explore Variation, Model Variation, Evaluate Models, Discussion/Conclusions. \n",
    "\n",
    "At this stage of the course, your report will only include the **first two sections** (Introduction and Explore Variation), however, it should still be a standalone report, with its own concluding statements.\n",
    "\n",
    "</div>\n",
    "\n"
   ]
  },
  {
   "cell_type": "code",
   "execution_count": null,
   "metadata": {
    "cell_id": "f387e7ae141f4a1391258b2bef6553cd",
    "deepnote_cell_type": "code",
    "deepnote_to_be_reexecuted": false,
    "execution_millis": 3621,
    "execution_start": 1665513408173,
    "output_cleared": true,
    "scrolled": true,
    "source_hash": null
   },
   "outputs": [],
   "source": [
    "# Load the data frame\n",
    "SchoolCensus <- read.csv(\"https://docs.google.com/spreadsheets/d/e/2PACX-1vSVaWnM4odSxy0mlnhWvvGbeLtiKoZmsbqC6KLzXtBOjQfrF9EVKuX4RVh3XbP3iw/pub?gid=2100178416&single=true&output=csv\", header = TRUE)\n",
    "\n",
    "# Take a look at the data frame\n",
    "# str(SchoolCensus)"
   ]
  },
  {
   "cell_type": "markdown",
   "metadata": {
    "cell_id": "deecd769f9da48d19126ae04b50c70fa",
    "deepnote_cell_height": 70,
    "deepnote_cell_type": "markdown",
    "tags": []
   },
   "source": [
    "## Intro/Overview of the Problem or Question"
   ]
  },
  {
   "cell_type": "markdown",
   "metadata": {
    "cell_id": "57a462da78d24dde807fd52a4463673b",
    "deepnote_cell_height": 348.578125,
    "deepnote_cell_type": "markdown"
   },
   "source": [
    "<div class=\"alert alert-block alert-info\"> \n",
    "\n",
    "The goal of this section is to provide an overview of the context, situation, or problem.\n",
    "\n",
    "A good introduction section typically includes the following topics (but not necessarily in this order): \n",
    "\n",
    "- A description of the question or problem you are investigating and why this question is important\n",
    "\n",
    "- A description of the data you will use in your investigation, such as:\n",
    "  - where the data came from \n",
    "  - why and how it was collected\n",
    "  - what cases and variables are included\n",
    "\n",
    "- Your initial hypothesis (perhaps also stated as a word equation), specifying outcome and explanatory variables, and why you think your hypothesis is plausible\n",
    "\n",
    "</div>"
   ]
  },
  {
   "cell_type": "markdown",
   "metadata": {
    "cell_id": "4799b62b08c240f2b5097fdf0184174f",
    "deepnote_cell_height": 70,
    "deepnote_cell_type": "markdown",
    "tags": []
   },
   "source": [
    "## Explore Variation"
   ]
  },
  {
   "cell_type": "markdown",
   "metadata": {
    "cell_id": "534673e2f00442a18b6249eb8bf33968",
    "deepnote_cell_height": 393.375,
    "deepnote_cell_type": "markdown",
    "tags": []
   },
   "source": [
    "<div class=\"alert alert-block alert-info\">\n",
    "\n",
    "The goal of this section is to explore variation in your explanatory and outcome variables. That exploration will almost certainly include visual displays of your data.\n",
    "\n",
    "A good exploring variation section typically includes the following topics (but not necessarily in this order): \n",
    "\n",
    "- A description of how you cleaned and prepared your data and why, such as: \n",
    "  - filtering cases \n",
    "  - handling missing data \n",
    "  - recoding or creating new variables\n",
    "\n",
    "- Visualizations or tables to explore the distributions of relevant variables and hypothesized relationships among variables\n",
    "\n",
    "- Descriptions of the visualizations or tables, and explanations of how they relate to the hypotheses or research questions\n",
    "\n",
    "</div>"
   ]
  },
  {
   "cell_type": "markdown",
   "metadata": {
    "cell_id": "537d759d3e6b4626b937688c262407d7",
    "deepnote_cell_height": 182.796875,
    "deepnote_cell_type": "markdown",
    "tags": []
   },
   "source": [
    "<div class=\"alert alert-block alert-info\">\n",
    "\n",
    "## After you are done...\n",
    "\n",
    "Go through this document and delete all the cells with blue text boxes (the instructions). You will be then left with a data analysis report.\n",
    "\n",
    "</div>"
   ]
  },
  {
   "cell_type": "markdown",
   "metadata": {
    "cell_id": "036cf20ec2a24fb5bdb799810d3a7f28",
    "deepnote_cell_height": 70,
    "deepnote_cell_type": "markdown",
    "tags": []
   },
   "source": [
    "## Model Variation "
   ]
  },
  {
   "cell_type": "markdown",
   "metadata": {
    "cell_id": "ce21c16bebba482eba5da986df0b7c0d",
    "deepnote_cell_height": 334.1875,
    "deepnote_cell_type": "markdown",
    "tags": []
   },
   "source": [
    "<div class=\"alert alert-block alert-warning\">\n",
    "\n",
    "#### COMING SOON\n",
    "\n",
    "The goal of this section is to create a model or models that uses explanatory variables to explain some of the variation in your outcome variable.\n",
    "\n",
    "A good modeling variation section typically includes the following topics (but not necessarily in this order): \n",
    "\n",
    "- The best fitting model (or models), expressed in GLM notation, to represent your research question \n",
    "\n",
    "- The interpretation of your parameter estimates in the units appropriate to your research question\n",
    "\n",
    "- A visual display of your model overlaid on the data \n",
    "\n",
    "- The creation and interpretation of an ANOVA table to assess how well the model fits the data, and a comparison of the fit of alternative models when applicable \n",
    "\n",
    "\n",
    "</div>"
   ]
  },
  {
   "cell_type": "markdown",
   "metadata": {
    "cell_id": "19a301da7a114d80b2240cb2c5f44c09",
    "deepnote_cell_height": 70,
    "deepnote_cell_type": "markdown",
    "tags": []
   },
   "source": [
    "## Evaluate Models "
   ]
  },
  {
   "cell_type": "markdown",
   "metadata": {
    "cell_id": "dc959e1172954190b6249583f14d75bb",
    "deepnote_cell_height": 260.984375,
    "deepnote_cell_type": "markdown",
    "tags": []
   },
   "source": [
    "<div class=\"alert alert-block alert-warning\">\n",
    "\n",
    "#### COMING SOON\n",
    "\n",
    "The goal of this section is to discuss your model in relation to other plausible models of the DGP.\n",
    "\n",
    "A good evaluating models section typically includes the following topics (but not necessarily in this order): \n",
    "\n",
    "- The construction and interpretation of a confidence interval in relation to your research question \n",
    "\n",
    "- An evaluation of your model(s) against the empty model using p-value or confidence intervals, and a rationale for which model you opt to retain \n",
    "\n",
    "\n",
    "</div>"
   ]
  },
  {
   "cell_type": "markdown",
   "metadata": {
    "cell_id": "dea31ae5bbf6405bb09727e8971e4963",
    "deepnote_cell_height": 70,
    "deepnote_cell_type": "markdown",
    "tags": []
   },
   "source": [
    "## Conclusions "
   ]
  },
  {
   "cell_type": "markdown",
   "metadata": {
    "cell_id": "3cfcad58527446b78472c3efb33f5b8b",
    "deepnote_cell_height": 260.984375,
    "deepnote_cell_type": "markdown",
    "tags": []
   },
   "source": [
    "<div class=\"alert alert-block alert-warning\">\n",
    "\n",
    "#### COMING SOON\n",
    "\n",
    "The goal of this section is to help your audience understand what can be learned from your data analysis.\n",
    "\n",
    "A good conclusion section typically includes the following topics (but not necessarily in this order): \n",
    "\n",
    "- A summary of what you did, what you found, and how it relates to the motivating question \n",
    "\n",
    "- A discussion of the implications of the results, what they mean for the audience or the world, and possible limitations of the findings  \n",
    "\n",
    "\n",
    "</div>"
   ]
  }
 ],
 "metadata": {
  "deepnote_notebook_id": "092ff91533ba4cab9fad9cac60fd2a21",
  "kernelspec": {
   "display_name": "R",
   "language": "R",
   "name": "ir"
  },
  "language_info": {
   "codemirror_mode": "r",
   "file_extension": ".r",
   "mimetype": "text/x-r-source",
   "name": "R",
   "pygments_lexer": "r",
   "version": "4.3.3"
  },
  "nbsimplegrader": {
   "publish_config": {
    "classes": [],
    "options": [],
    "tools": []
   }
  }
 },
 "nbformat": 4,
 "nbformat_minor": 1
}
